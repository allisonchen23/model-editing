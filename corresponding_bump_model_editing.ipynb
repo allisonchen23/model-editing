{
 "cells": [
  {
   "cell_type": "markdown",
   "metadata": {},
   "source": [
    "## Create Edits that match post edit class distribution of target class to real edits"
   ]
  },
  {
   "cell_type": "code",
   "execution_count": 1,
   "metadata": {},
   "outputs": [],
   "source": [
    "# General imports\n",
    "import torch\n",
    "import numpy as np\n",
    "import os, sys\n",
    "import json\n",
    "from tqdm import tqdm\n",
    "import matplotlib.pyplot as plt\n",
    "import math\n",
    "from datetime import datetime"
   ]
  },
  {
   "cell_type": "code",
   "execution_count": 2,
   "metadata": {},
   "outputs": [],
   "source": [
    "# Local imports\n",
    "sys.path.insert(0, 'src')\n",
    "from utils import read_json, read_lists, list_to_dict, ensure_dir, informal_log, write_lists, get_common_dir_path\n",
    "from utils.df_utils import load_and_preprocess_csv\n",
    "from utils.visualizations import histogram\n",
    "from utils.model_utils import prepare_device, quick_predict\n",
    "from parse_config import ConfigParser\n",
    "from test import predict, predict_with_bump\n",
    "import datasets.datasets as module_data\n",
    "import model.model as module_arch\n",
    "import model.metric as module_metric\n",
    "import model.loss as module_loss\n",
    "from trainer.editor import Editor"
   ]
  },
  {
   "cell_type": "code",
   "execution_count": 3,
   "metadata": {},
   "outputs": [],
   "source": [
    "# Define constants, paths\n",
    "class_list_path = os.path.join('metadata', 'cinic-10', 'class_names.txt')\n",
    "\n",
    "# config_path = 'configs/copies/edit_experiments/cinic10_imagenet_bump_noise.json'\n",
    "config_path = 'configs/copies/edit_experiments/cinic10_imagenet_bump_corresponding.json'"
   ]
  },
  {
   "cell_type": "code",
   "execution_count": 5,
   "metadata": {},
   "outputs": [],
   "source": [
    "# Load config file, models, and dataloader\n",
    "class_list = read_lists(class_list_path)\n",
    "class_idx_dict = list_to_dict(class_list)\n",
    "\n",
    "config_dict = read_json(config_path)\n",
    "config = ConfigParser(config_dict)\n",
    "device, device_ids = prepare_device(config_dict['n_gpu'])"
   ]
  },
  {
   "cell_type": "code",
   "execution_count": 6,
   "metadata": {
    "scrolled": true,
    "tags": []
   },
   "outputs": [
    {
     "data": {
      "text/plain": [
       "CIFAR10PretrainedModelEdit(\n",
       "  (model): VGG(\n",
       "    (normalize): InputNormalize()\n",
       "    (layer0): Sequential(\n",
       "      (conv): Conv2d(3, 64, kernel_size=(3, 3), stride=(1, 1), padding=(1, 1))\n",
       "      (bn): BatchNorm2d(64, eps=1e-05, momentum=0.1, affine=True, track_running_stats=True)\n",
       "      (relu): ReLU()\n",
       "    )\n",
       "    (layer1): Sequential(\n",
       "      (conv): Conv2d(64, 64, kernel_size=(3, 3), stride=(1, 1), padding=(1, 1))\n",
       "      (bn): BatchNorm2d(64, eps=1e-05, momentum=0.1, affine=True, track_running_stats=True)\n",
       "      (relu): ReLU()\n",
       "      (maxpool): MaxPool2d(kernel_size=2, stride=2, padding=0, dilation=1, ceil_mode=False)\n",
       "    )\n",
       "    (layer2): Sequential(\n",
       "      (conv): Conv2d(64, 128, kernel_size=(3, 3), stride=(1, 1), padding=(1, 1))\n",
       "      (bn): BatchNorm2d(128, eps=1e-05, momentum=0.1, affine=True, track_running_stats=True)\n",
       "      (relu): ReLU()\n",
       "    )\n",
       "    (layer3): Sequential(\n",
       "      (conv): Conv2d(128, 128, kernel_size=(3, 3), stride=(1, 1), padding=(1, 1))\n",
       "      (bn): BatchNorm2d(128, eps=1e-05, momentum=0.1, affine=True, track_running_stats=True)\n",
       "      (relu): ReLU()\n",
       "      (maxpool): MaxPool2d(kernel_size=2, stride=2, padding=0, dilation=1, ceil_mode=False)\n",
       "    )\n",
       "    (layer4): Sequential(\n",
       "      (conv): Conv2d(128, 256, kernel_size=(3, 3), stride=(1, 1), padding=(1, 1))\n",
       "      (bn): BatchNorm2d(256, eps=1e-05, momentum=0.1, affine=True, track_running_stats=True)\n",
       "      (relu): ReLU()\n",
       "    )\n",
       "    (layer5): Sequential(\n",
       "      (conv): Conv2d(256, 256, kernel_size=(3, 3), stride=(1, 1), padding=(1, 1))\n",
       "      (bn): BatchNorm2d(256, eps=1e-05, momentum=0.1, affine=True, track_running_stats=True)\n",
       "      (relu): ReLU()\n",
       "    )\n",
       "    (layer6): Sequential(\n",
       "      (conv): Conv2d(256, 256, kernel_size=(3, 3), stride=(1, 1), padding=(1, 1))\n",
       "      (bn): BatchNorm2d(256, eps=1e-05, momentum=0.1, affine=True, track_running_stats=True)\n",
       "      (relu): ReLU()\n",
       "      (maxpool): MaxPool2d(kernel_size=2, stride=2, padding=0, dilation=1, ceil_mode=False)\n",
       "    )\n",
       "    (layer7): Sequential(\n",
       "      (conv): Conv2d(256, 512, kernel_size=(3, 3), stride=(1, 1), padding=(1, 1))\n",
       "      (bn): BatchNorm2d(512, eps=1e-05, momentum=0.1, affine=True, track_running_stats=True)\n",
       "      (relu): ReLU()\n",
       "    )\n",
       "    (layer8): Sequential(\n",
       "      (conv): Conv2d(512, 512, kernel_size=(3, 3), stride=(1, 1), padding=(1, 1))\n",
       "      (bn): BatchNorm2d(512, eps=1e-05, momentum=0.1, affine=True, track_running_stats=True)\n",
       "      (relu): ReLU()\n",
       "    )\n",
       "    (layer9): Sequential(\n",
       "      (conv): Conv2d(512, 512, kernel_size=(3, 3), stride=(1, 1), padding=(1, 1))\n",
       "      (bn): BatchNorm2d(512, eps=1e-05, momentum=0.1, affine=True, track_running_stats=True)\n",
       "      (relu): ReLU()\n",
       "      (maxpool): MaxPool2d(kernel_size=2, stride=2, padding=0, dilation=1, ceil_mode=False)\n",
       "    )\n",
       "    (layer10): Sequential(\n",
       "      (conv): Conv2d(512, 512, kernel_size=(3, 3), stride=(1, 1), padding=(1, 1))\n",
       "      (bn): BatchNorm2d(512, eps=1e-05, momentum=0.1, affine=True, track_running_stats=True)\n",
       "      (relu): ReLU()\n",
       "    )\n",
       "    (layer11): Sequential(\n",
       "      (conv): Conv2d(512, 512, kernel_size=(3, 3), stride=(1, 1), padding=(1, 1))\n",
       "      (bn): BatchNorm2d(512, eps=1e-05, momentum=0.1, affine=True, track_running_stats=True)\n",
       "      (relu): ReLU()\n",
       "    )\n",
       "    (layer12): Sequential(\n",
       "      (conv): Conv2d(512, 512, kernel_size=(3, 3), stride=(1, 1), padding=(1, 1))\n",
       "      (bn): BatchNorm2d(512, eps=1e-05, momentum=0.1, affine=True, track_running_stats=True)\n",
       "      (relu): ReLU()\n",
       "      (maxpool): MaxPool2d(kernel_size=2, stride=2, padding=0, dilation=1, ceil_mode=False)\n",
       "    )\n",
       "    (avgpool): AdaptiveAvgPool2d(output_size=[1, 1])\n",
       "    (flatten): Flatten()\n",
       "    (classifier): Sequential(\n",
       "      (0): Linear(in_features=512, out_features=4096, bias=True)\n",
       "      (1): ReLU()\n",
       "      (2): Dropout(p=0.5, inplace=False)\n",
       "      (3): Linear(in_features=4096, out_features=4096, bias=True)\n",
       "      (4): ReLU()\n",
       "      (5): Dropout(p=0.5, inplace=False)\n",
       "      (6): Linear(in_features=4096, out_features=10, bias=True)\n",
       "    )\n",
       "  )\n",
       "  (context_model): VGG(\n",
       "    (normalize): InputNormalize()\n",
       "    (layer0): Sequential(\n",
       "      (conv): Conv2d(3, 64, kernel_size=(3, 3), stride=(1, 1), padding=(1, 1))\n",
       "      (bn): BatchNorm2d(64, eps=1e-05, momentum=0.1, affine=True, track_running_stats=True)\n",
       "      (relu): ReLU()\n",
       "    )\n",
       "    (layer1): Sequential(\n",
       "      (conv): Conv2d(64, 64, kernel_size=(3, 3), stride=(1, 1), padding=(1, 1))\n",
       "      (bn): BatchNorm2d(64, eps=1e-05, momentum=0.1, affine=True, track_running_stats=True)\n",
       "      (relu): ReLU()\n",
       "      (maxpool): MaxPool2d(kernel_size=2, stride=2, padding=0, dilation=1, ceil_mode=False)\n",
       "    )\n",
       "    (layer2): Sequential(\n",
       "      (conv): Conv2d(64, 128, kernel_size=(3, 3), stride=(1, 1), padding=(1, 1))\n",
       "      (bn): BatchNorm2d(128, eps=1e-05, momentum=0.1, affine=True, track_running_stats=True)\n",
       "      (relu): ReLU()\n",
       "    )\n",
       "    (layer3): Sequential(\n",
       "      (conv): Conv2d(128, 128, kernel_size=(3, 3), stride=(1, 1), padding=(1, 1))\n",
       "      (bn): BatchNorm2d(128, eps=1e-05, momentum=0.1, affine=True, track_running_stats=True)\n",
       "      (relu): ReLU()\n",
       "      (maxpool): MaxPool2d(kernel_size=2, stride=2, padding=0, dilation=1, ceil_mode=False)\n",
       "    )\n",
       "    (layer4): Sequential(\n",
       "      (conv): Conv2d(128, 256, kernel_size=(3, 3), stride=(1, 1), padding=(1, 1))\n",
       "      (bn): BatchNorm2d(256, eps=1e-05, momentum=0.1, affine=True, track_running_stats=True)\n",
       "      (relu): ReLU()\n",
       "    )\n",
       "    (layer5): Sequential(\n",
       "      (conv): Conv2d(256, 256, kernel_size=(3, 3), stride=(1, 1), padding=(1, 1))\n",
       "      (bn): BatchNorm2d(256, eps=1e-05, momentum=0.1, affine=True, track_running_stats=True)\n",
       "      (relu): ReLU()\n",
       "    )\n",
       "    (layer6): Sequential(\n",
       "      (conv): Conv2d(256, 256, kernel_size=(3, 3), stride=(1, 1), padding=(1, 1))\n",
       "      (bn): BatchNorm2d(256, eps=1e-05, momentum=0.1, affine=True, track_running_stats=True)\n",
       "      (relu): ReLU()\n",
       "      (maxpool): MaxPool2d(kernel_size=2, stride=2, padding=0, dilation=1, ceil_mode=False)\n",
       "    )\n",
       "    (layer7): Sequential(\n",
       "      (conv): Conv2d(256, 512, kernel_size=(3, 3), stride=(1, 1), padding=(1, 1))\n",
       "      (bn): BatchNorm2d(512, eps=1e-05, momentum=0.1, affine=True, track_running_stats=True)\n",
       "      (relu): ReLU()\n",
       "    )\n",
       "    (layer8): Sequential(\n",
       "      (conv): Conv2d(512, 512, kernel_size=(3, 3), stride=(1, 1), padding=(1, 1))\n",
       "      (bn): BatchNorm2d(512, eps=1e-05, momentum=0.1, affine=True, track_running_stats=True)\n",
       "      (relu): ReLU()\n",
       "    )\n",
       "    (layer9): Sequential(\n",
       "      (conv): Conv2d(512, 512, kernel_size=(3, 3), stride=(1, 1), padding=(1, 1))\n",
       "      (bn): BatchNorm2d(512, eps=1e-05, momentum=0.1, affine=True, track_running_stats=True)\n",
       "      (relu): ReLU()\n",
       "      (maxpool): MaxPool2d(kernel_size=2, stride=2, padding=0, dilation=1, ceil_mode=False)\n",
       "    )\n",
       "    (layer10): Sequential(\n",
       "      (conv): Conv2d(512, 512, kernel_size=(3, 3), stride=(1, 1), padding=(1, 1))\n",
       "      (bn): BatchNorm2d(512, eps=1e-05, momentum=0.1, affine=True, track_running_stats=True)\n",
       "      (relu): ReLU()\n",
       "    )\n",
       "    (layer11): Sequential(\n",
       "      (conv): Conv2d(512, 512, kernel_size=(3, 3), stride=(1, 1), padding=(1, 1))\n",
       "      (bn): BatchNorm2d(512, eps=1e-05, momentum=0.1, affine=True, track_running_stats=True)\n",
       "      (relu): ReLU()\n",
       "    )\n",
       "    (layer12): Sequential(\n",
       "      (conv): Conv2d(512, 512, kernel_size=(3, 3), stride=(1, 1), padding=(1, 1))\n",
       "      (bn): BatchNorm2d(512, eps=1e-05, momentum=0.1, affine=True, track_running_stats=True)\n",
       "      (relu): ReLU()\n",
       "      (maxpool): MaxPool2d(kernel_size=2, stride=2, padding=0, dilation=1, ceil_mode=False)\n",
       "    )\n",
       "    (avgpool): AdaptiveAvgPool2d(output_size=[1, 1])\n",
       "    (flatten): Flatten()\n",
       "    (classifier): Sequential(\n",
       "      (0): Linear(in_features=512, out_features=4096, bias=True)\n",
       "      (1): ReLU()\n",
       "      (2): Dropout(p=0.5, inplace=False)\n",
       "      (3): Linear(in_features=4096, out_features=4096, bias=True)\n",
       "      (4): ReLU()\n",
       "      (5): Dropout(p=0.5, inplace=False)\n",
       "      (6): Linear(in_features=4096, out_features=10, bias=True)\n",
       "    )\n",
       "  )\n",
       "  (target_model): Sequential(\n",
       "    (conv): Conv2d(512, 512, kernel_size=(3, 3), stride=(1, 1), padding=(1, 1))\n",
       "    (bn): BatchNorm2d(512, eps=1e-05, momentum=0.1, affine=True, track_running_stats=True)\n",
       "    (relu): ReLU()\n",
       "    (maxpool): MaxPool2d(kernel_size=2, stride=2, padding=0, dilation=1, ceil_mode=False)\n",
       "  )\n",
       ")"
      ]
     },
     "execution_count": 6,
     "metadata": {},
     "output_type": "execute_result"
    }
   ],
   "source": [
    "# Load model\n",
    "layernum = config.config['layernum']\n",
    "model = config.init_obj('arch', module_arch, layernum=layernum, device=device)\n",
    "model.eval()\n"
   ]
  },
  {
   "cell_type": "code",
   "execution_count": 7,
   "metadata": {},
   "outputs": [],
   "source": [
    "# Load datasets\n",
    "# config = ConfigParser(config_dict)\n",
    "data_loader_args = dict(config.config[\"data_loader\"][\"args\"])\n",
    "dataset_args = dict(config[\"dataset_args\"])\n",
    "\n",
    "val_image_paths = read_lists(config_dict['dataset_paths']['valid_images'])\n",
    "val_labels = read_lists(config_dict['dataset_paths']['valid_labels'])\n",
    "val_paths_data_loader = torch.utils.data.DataLoader(\n",
    "    module_data.CINIC10Dataset(\n",
    "        data_dir=\"\",\n",
    "        image_paths=val_image_paths,\n",
    "        labels=val_labels,\n",
    "        return_paths=True,\n",
    "        **dataset_args\n",
    "    ),\n",
    "    **data_loader_args\n",
    ")\n",
    "\n",
    "# Obtain loss function and metric functions\n",
    "loss_fn = getattr(module_loss, config['loss'])\n",
    "metric_fns = [getattr(module_metric, met) for met in config['metrics']]"
   ]
  },
  {
   "cell_type": "code",
   "execution_count": 8,
   "metadata": {},
   "outputs": [],
   "source": [
    "target_class_name = 'airplane'\n",
    "target_class_idx = class_idx_dict[target_class_name]\n",
    "n_select = 100\n",
    "timestamp = '0209_112038'\n",
    "bumps_timestamp = '0208_112555'\n",
    "save_timestamp = '0213_143741'\n",
    "\n",
    "root_dir = os.path.join('saved', 'edit', 'trials', 'CINIC10_ImageNet-VGG_16', '{}' + '_{}'.format(n_select), timestamp)\n",
    "csv_path_template = os.path.join(root_dir, 'results_table.csv')\n"
   ]
  },
  {
   "cell_type": "code",
   "execution_count": 33,
   "metadata": {},
   "outputs": [],
   "source": [
    "# def save_class_distribution(csv_path, \n",
    "#                             target_class_idx,\n",
    "#                             target_class_name,\n",
    "#                             show=False,\n",
    "#                             histogram_save_path=None,\n",
    "#                             data_save_path=None):\n",
    "    \n",
    "#     df = load_and_preprocess_csv(\n",
    "#         csv_path=csv_path,\n",
    "#         drop_duplicates=['ID']\n",
    "#     )\n",
    "    \n",
    "#     # Obtain number of predictions for target class pre edit\n",
    "#     pre_edit_class_distribution = df['Pre Class Dist'].to_numpy()\n",
    "#     pre_edit_class_distribution = np.stack(pre_edit_class_distribution)\n",
    "#     target_pre_edit_class_predictions = np.mean(pre_edit_class_distribution[:, target_class_idx])\n",
    "    \n",
    "#     # Obtain number of predictions for target class post edit for each trial\n",
    "#     class_distribution = df['Post Class Dist'].to_numpy()\n",
    "#     class_distribution = np.stack(class_distribution, axis=0)\n",
    "#     target_class_distribution = class_distribution[:, target_class_idx]\n",
    "#     # target_class_bins = np.bincount(target_class_distribution)\n",
    "#     if histogram_save_path is None:\n",
    "#         histogram_save_path = os.path.join(os.path.dirname(csv_path), 'graphs', 'summary', 'target_class_distribution.png')\n",
    "#     title = 'Post Edit {} Class Distribution for {} Edits'.format(target_class_name, target_class_name)\n",
    "#     xlabel = 'Num. {} Predictions Post Edit'.format(target_class_name)\n",
    "#     ylabel = 'Num. Edits'\n",
    "    \n",
    "#     bin_values, bins, _ = histogram(\n",
    "#         data=target_class_distribution,\n",
    "#         n_bins=50,\n",
    "#         title=title,\n",
    "#         xlabel=xlabel,\n",
    "#         ylabel=ylabel,\n",
    "#         marker=target_pre_edit_class_predictions,\n",
    "#         show=show,\n",
    "#         save_path=histogram_save_path)\n",
    "    \n",
    "#     bin_tuples = []\n",
    "#     for bin_idx in range(len(bins) - 1):\n",
    "#         bin_tuples.append((bins[bin_idx], bins[bin_idx+1]))\n",
    "\n",
    "#     save_data = {\n",
    "#         \"n_target_predictions\": target_class_distribution,\n",
    "#         \"histogram_bin_values\": bin_values,\n",
    "#         \"histogram_bins\": bins\n",
    "#     }\n",
    "    \n",
    "#     if data_save_path is None:\n",
    "#         data_save_path = os.path.join(os.path.dirname(csv_path), 'target_class_distribution.pth')\n",
    "#         torch.save(save_data, data_save_path)\n",
    "    \n",
    "#     print(\"Saved target class distribution & histogram data to {}\".format(data_save_path))\n",
    "    \n",
    "#     plt.close('all')\n",
    "#     return save_data"
   ]
  },
  {
   "cell_type": "markdown",
   "metadata": {
    "tags": []
   },
   "source": [
    "#### Loop over all classes and save histograms and distributions"
   ]
  },
  {
   "cell_type": "code",
   "execution_count": null,
   "metadata": {},
   "outputs": [],
   "source": [
    "for class_name in class_list:\n",
    "    csv_path = csv_path_template.format(class_name)\n",
    "    save_class_distribution(\n",
    "        csv_path=csv_path,\n",
    "        target_class_idx=class_idx_dict[class_name],\n",
    "        target_class_name=class_name,\n",
    "        show=False)\n",
    "    "
   ]
  },
  {
   "cell_type": "code",
   "execution_count": 10,
   "metadata": {
    "scrolled": true,
    "tags": []
   },
   "outputs": [
    {
     "name": "stdout",
     "output_type": "stream",
     "text": [
      "Obtaining class distribution for airplane from saved/edit/trials/CINIC10_ImageNet-VGG_16/airplane_100/0127_103716/target_class_distribution.pth\n",
      "Saving results to saved/edit/experiments/bump_edits/CINIC10_ImageNet-VGG_16/0208_112555/airplane_100\n"
     ]
    },
    {
     "name": "stderr",
     "output_type": "stream",
     "text": [
      " 26%|██████████████████▍                                                   | 72/274 [00:32<01:30,  2.23it/s]\n"
     ]
    },
    {
     "ename": "KeyboardInterrupt",
     "evalue": "",
     "output_type": "error",
     "traceback": [
      "\u001b[0;31m---------------------------------------------------------------------------\u001b[0m",
      "\u001b[0;31mKeyboardInterrupt\u001b[0m                         Traceback (most recent call last)",
      "Cell \u001b[0;32mIn [10], line 13\u001b[0m\n\u001b[1;32m     11\u001b[0m \u001b[38;5;28mprint\u001b[39m(\u001b[38;5;124m\"\u001b[39m\u001b[38;5;124mObtaining class distribution for \u001b[39m\u001b[38;5;132;01m{}\u001b[39;00m\u001b[38;5;124m from \u001b[39m\u001b[38;5;132;01m{}\u001b[39;00m\u001b[38;5;124m\"\u001b[39m\u001b[38;5;241m.\u001b[39mformat(target_class_name, target_class_distribution_path))\n\u001b[1;32m     12\u001b[0m \u001b[38;5;28mprint\u001b[39m(\u001b[38;5;124m\"\u001b[39m\u001b[38;5;124mSaving results to \u001b[39m\u001b[38;5;132;01m{}\u001b[39;00m\u001b[38;5;124m\"\u001b[39m\u001b[38;5;241m.\u001b[39mformat(bump_save_dir))\n\u001b[0;32m---> 13\u001b[0m \u001b[43mmatch_bump_edits\u001b[49m\u001b[43m(\u001b[49m\n\u001b[1;32m     14\u001b[0m \u001b[43m    \u001b[49m\u001b[43mdata_loader\u001b[49m\u001b[38;5;241;43m=\u001b[39;49m\u001b[43mval_paths_data_loader\u001b[49m\u001b[43m,\u001b[49m\n\u001b[1;32m     15\u001b[0m \u001b[43m    \u001b[49m\u001b[43mmodel\u001b[49m\u001b[38;5;241;43m=\u001b[39;49m\u001b[43mmodel\u001b[49m\u001b[43m,\u001b[49m\n\u001b[1;32m     16\u001b[0m \u001b[43m    \u001b[49m\u001b[43mloss_fn\u001b[49m\u001b[38;5;241;43m=\u001b[39;49m\u001b[43mloss_fn\u001b[49m\u001b[43m,\u001b[49m\n\u001b[1;32m     17\u001b[0m \u001b[43m    \u001b[49m\u001b[43mmetric_fns\u001b[49m\u001b[38;5;241;43m=\u001b[39;49m\u001b[43mmetric_fns\u001b[49m\u001b[43m,\u001b[49m\n\u001b[1;32m     18\u001b[0m \u001b[43m    \u001b[49m\u001b[43mdevice\u001b[49m\u001b[38;5;241;43m=\u001b[39;49m\u001b[43mdevice\u001b[49m\u001b[43m,\u001b[49m\n\u001b[1;32m     19\u001b[0m \u001b[43m    \u001b[49m\u001b[43mbin_lows\u001b[49m\u001b[38;5;241;43m=\u001b[39;49m\u001b[43mbin_lows\u001b[49m\u001b[43m,\u001b[49m\n\u001b[1;32m     20\u001b[0m \u001b[43m    \u001b[49m\u001b[43mtarget_class_idx\u001b[49m\u001b[38;5;241;43m=\u001b[39;49m\u001b[43mtarget_class_idx\u001b[49m\u001b[43m,\u001b[49m\n\u001b[1;32m     21\u001b[0m \u001b[43m    \u001b[49m\u001b[43msave_dir\u001b[49m\u001b[38;5;241;43m=\u001b[39;49m\u001b[43mbump_save_dir\u001b[49m\u001b[43m)\u001b[49m\n",
      "Cell \u001b[0;32mIn [7], line 40\u001b[0m, in \u001b[0;36mmatch_bump_edits\u001b[0;34m(data_loader, model, loss_fn, metric_fns, device, bin_lows, target_class_idx, save_dir, debug)\u001b[0m\n\u001b[1;32m     37\u001b[0m delta_reset \u001b[38;5;241m=\u001b[39m \u001b[38;5;241m1.25\u001b[39m\n\u001b[1;32m     39\u001b[0m \u001b[38;5;66;03m# Obtain pre edit metrics\u001b[39;00m\n\u001b[0;32m---> 40\u001b[0m pre_edit_log \u001b[38;5;241m=\u001b[39m \u001b[43mpredict\u001b[49m\u001b[43m(\u001b[49m\n\u001b[1;32m     41\u001b[0m \u001b[43m    \u001b[49m\u001b[43mdata_loader\u001b[49m\u001b[38;5;241;43m=\u001b[39;49m\u001b[43mdata_loader\u001b[49m\u001b[43m,\u001b[49m\n\u001b[1;32m     42\u001b[0m \u001b[43m    \u001b[49m\u001b[43mmodel\u001b[49m\u001b[38;5;241;43m=\u001b[39;49m\u001b[43mmodel\u001b[49m\u001b[43m,\u001b[49m\n\u001b[1;32m     43\u001b[0m \u001b[43m    \u001b[49m\u001b[43mloss_fn\u001b[49m\u001b[38;5;241;43m=\u001b[39;49m\u001b[43mloss_fn\u001b[49m\u001b[43m,\u001b[49m\n\u001b[1;32m     44\u001b[0m \u001b[43m    \u001b[49m\u001b[43mmetric_fns\u001b[49m\u001b[38;5;241;43m=\u001b[39;49m\u001b[43mmetric_fns\u001b[49m\u001b[43m,\u001b[49m\n\u001b[1;32m     45\u001b[0m \u001b[43m    \u001b[49m\u001b[43mdevice\u001b[49m\u001b[38;5;241;43m=\u001b[39;49m\u001b[43mdevice\u001b[49m\u001b[43m,\u001b[49m\n\u001b[1;32m     46\u001b[0m \u001b[43m    \u001b[49m\u001b[43msave_path\u001b[49m\u001b[38;5;241;43m=\u001b[39;49m\u001b[38;5;28;43;01mNone\u001b[39;49;00m\u001b[43m)\u001b[49m\n\u001b[1;32m     48\u001b[0m \u001b[38;5;28;01mwhile\u001b[39;00m cur_bump_idx \u001b[38;5;241m<\u001b[39m n_bins:\n\u001b[1;32m     49\u001b[0m     cur_itr \u001b[38;5;241m+\u001b[39m\u001b[38;5;241m=\u001b[39m \u001b[38;5;241m1\u001b[39m\n",
      "File \u001b[0;32m/n/fs/ac-editing/model-editing/test.py:52\u001b[0m, in \u001b[0;36mpredict\u001b[0;34m(data_loader, model, loss_fn, metric_fns, device, save_path)\u001b[0m\n\u001b[1;32m     49\u001b[0m     model\u001b[38;5;241m.\u001b[39meval()\n\u001b[1;32m     51\u001b[0m \u001b[38;5;28;01mwith\u001b[39;00m torch\u001b[38;5;241m.\u001b[39mno_grad():\n\u001b[0;32m---> 52\u001b[0m     \u001b[38;5;28;01mfor\u001b[39;00m idx, item \u001b[38;5;129;01min\u001b[39;00m \u001b[38;5;28menumerate\u001b[39m(tqdm(data_loader)):\n\u001b[1;32m     53\u001b[0m         \u001b[38;5;28;01mif\u001b[39;00m \u001b[38;5;28mlen\u001b[39m(item) \u001b[38;5;241m==\u001b[39m \u001b[38;5;241m3\u001b[39m:\n\u001b[1;32m     54\u001b[0m             data, target, path \u001b[38;5;241m=\u001b[39m item\n",
      "File \u001b[0;32m/n/fs/ac-project/anaconda3/envs/editing/lib/python3.8/site-packages/tqdm/std.py:1195\u001b[0m, in \u001b[0;36mtqdm.__iter__\u001b[0;34m(self)\u001b[0m\n\u001b[1;32m   1192\u001b[0m time \u001b[38;5;241m=\u001b[39m \u001b[38;5;28mself\u001b[39m\u001b[38;5;241m.\u001b[39m_time\n\u001b[1;32m   1194\u001b[0m \u001b[38;5;28;01mtry\u001b[39;00m:\n\u001b[0;32m-> 1195\u001b[0m     \u001b[38;5;28;01mfor\u001b[39;00m obj \u001b[38;5;129;01min\u001b[39;00m iterable:\n\u001b[1;32m   1196\u001b[0m         \u001b[38;5;28;01myield\u001b[39;00m obj\n\u001b[1;32m   1197\u001b[0m         \u001b[38;5;66;03m# Update and possibly print the progressbar.\u001b[39;00m\n\u001b[1;32m   1198\u001b[0m         \u001b[38;5;66;03m# Note: does not call self.update(1) for speed optimisation.\u001b[39;00m\n",
      "File \u001b[0;32m/n/fs/ac-project/anaconda3/envs/editing/lib/python3.8/site-packages/torch/utils/data/dataloader.py:628\u001b[0m, in \u001b[0;36m_BaseDataLoaderIter.__next__\u001b[0;34m(self)\u001b[0m\n\u001b[1;32m    625\u001b[0m \u001b[38;5;28;01mif\u001b[39;00m \u001b[38;5;28mself\u001b[39m\u001b[38;5;241m.\u001b[39m_sampler_iter \u001b[38;5;129;01mis\u001b[39;00m \u001b[38;5;28;01mNone\u001b[39;00m:\n\u001b[1;32m    626\u001b[0m     \u001b[38;5;66;03m# TODO(https://github.com/pytorch/pytorch/issues/76750)\u001b[39;00m\n\u001b[1;32m    627\u001b[0m     \u001b[38;5;28mself\u001b[39m\u001b[38;5;241m.\u001b[39m_reset()  \u001b[38;5;66;03m# type: ignore[call-arg]\u001b[39;00m\n\u001b[0;32m--> 628\u001b[0m data \u001b[38;5;241m=\u001b[39m \u001b[38;5;28;43mself\u001b[39;49m\u001b[38;5;241;43m.\u001b[39;49m\u001b[43m_next_data\u001b[49m\u001b[43m(\u001b[49m\u001b[43m)\u001b[49m\n\u001b[1;32m    629\u001b[0m \u001b[38;5;28mself\u001b[39m\u001b[38;5;241m.\u001b[39m_num_yielded \u001b[38;5;241m+\u001b[39m\u001b[38;5;241m=\u001b[39m \u001b[38;5;241m1\u001b[39m\n\u001b[1;32m    630\u001b[0m \u001b[38;5;28;01mif\u001b[39;00m \u001b[38;5;28mself\u001b[39m\u001b[38;5;241m.\u001b[39m_dataset_kind \u001b[38;5;241m==\u001b[39m _DatasetKind\u001b[38;5;241m.\u001b[39mIterable \u001b[38;5;129;01mand\u001b[39;00m \\\n\u001b[1;32m    631\u001b[0m         \u001b[38;5;28mself\u001b[39m\u001b[38;5;241m.\u001b[39m_IterableDataset_len_called \u001b[38;5;129;01mis\u001b[39;00m \u001b[38;5;129;01mnot\u001b[39;00m \u001b[38;5;28;01mNone\u001b[39;00m \u001b[38;5;129;01mand\u001b[39;00m \\\n\u001b[1;32m    632\u001b[0m         \u001b[38;5;28mself\u001b[39m\u001b[38;5;241m.\u001b[39m_num_yielded \u001b[38;5;241m>\u001b[39m \u001b[38;5;28mself\u001b[39m\u001b[38;5;241m.\u001b[39m_IterableDataset_len_called:\n",
      "File \u001b[0;32m/n/fs/ac-project/anaconda3/envs/editing/lib/python3.8/site-packages/torch/utils/data/dataloader.py:1316\u001b[0m, in \u001b[0;36m_MultiProcessingDataLoaderIter._next_data\u001b[0;34m(self)\u001b[0m\n\u001b[1;32m   1313\u001b[0m     \u001b[38;5;28;01mreturn\u001b[39;00m \u001b[38;5;28mself\u001b[39m\u001b[38;5;241m.\u001b[39m_process_data(data)\n\u001b[1;32m   1315\u001b[0m \u001b[38;5;28;01massert\u001b[39;00m \u001b[38;5;129;01mnot\u001b[39;00m \u001b[38;5;28mself\u001b[39m\u001b[38;5;241m.\u001b[39m_shutdown \u001b[38;5;129;01mand\u001b[39;00m \u001b[38;5;28mself\u001b[39m\u001b[38;5;241m.\u001b[39m_tasks_outstanding \u001b[38;5;241m>\u001b[39m \u001b[38;5;241m0\u001b[39m\n\u001b[0;32m-> 1316\u001b[0m idx, data \u001b[38;5;241m=\u001b[39m \u001b[38;5;28;43mself\u001b[39;49m\u001b[38;5;241;43m.\u001b[39;49m\u001b[43m_get_data\u001b[49m\u001b[43m(\u001b[49m\u001b[43m)\u001b[49m\n\u001b[1;32m   1317\u001b[0m \u001b[38;5;28mself\u001b[39m\u001b[38;5;241m.\u001b[39m_tasks_outstanding \u001b[38;5;241m-\u001b[39m\u001b[38;5;241m=\u001b[39m \u001b[38;5;241m1\u001b[39m\n\u001b[1;32m   1318\u001b[0m \u001b[38;5;28;01mif\u001b[39;00m \u001b[38;5;28mself\u001b[39m\u001b[38;5;241m.\u001b[39m_dataset_kind \u001b[38;5;241m==\u001b[39m _DatasetKind\u001b[38;5;241m.\u001b[39mIterable:\n\u001b[1;32m   1319\u001b[0m     \u001b[38;5;66;03m# Check for _IterableDatasetStopIteration\u001b[39;00m\n",
      "File \u001b[0;32m/n/fs/ac-project/anaconda3/envs/editing/lib/python3.8/site-packages/torch/utils/data/dataloader.py:1282\u001b[0m, in \u001b[0;36m_MultiProcessingDataLoaderIter._get_data\u001b[0;34m(self)\u001b[0m\n\u001b[1;32m   1278\u001b[0m     \u001b[38;5;66;03m# In this case, `self._data_queue` is a `queue.Queue`,. But we don't\u001b[39;00m\n\u001b[1;32m   1279\u001b[0m     \u001b[38;5;66;03m# need to call `.task_done()` because we don't use `.join()`.\u001b[39;00m\n\u001b[1;32m   1280\u001b[0m \u001b[38;5;28;01melse\u001b[39;00m:\n\u001b[1;32m   1281\u001b[0m     \u001b[38;5;28;01mwhile\u001b[39;00m \u001b[38;5;28;01mTrue\u001b[39;00m:\n\u001b[0;32m-> 1282\u001b[0m         success, data \u001b[38;5;241m=\u001b[39m \u001b[38;5;28;43mself\u001b[39;49m\u001b[38;5;241;43m.\u001b[39;49m\u001b[43m_try_get_data\u001b[49m\u001b[43m(\u001b[49m\u001b[43m)\u001b[49m\n\u001b[1;32m   1283\u001b[0m         \u001b[38;5;28;01mif\u001b[39;00m success:\n\u001b[1;32m   1284\u001b[0m             \u001b[38;5;28;01mreturn\u001b[39;00m data\n",
      "File \u001b[0;32m/n/fs/ac-project/anaconda3/envs/editing/lib/python3.8/site-packages/torch/utils/data/dataloader.py:1120\u001b[0m, in \u001b[0;36m_MultiProcessingDataLoaderIter._try_get_data\u001b[0;34m(self, timeout)\u001b[0m\n\u001b[1;32m   1107\u001b[0m \u001b[38;5;28;01mdef\u001b[39;00m \u001b[38;5;21m_try_get_data\u001b[39m(\u001b[38;5;28mself\u001b[39m, timeout\u001b[38;5;241m=\u001b[39m_utils\u001b[38;5;241m.\u001b[39mMP_STATUS_CHECK_INTERVAL):\n\u001b[1;32m   1108\u001b[0m     \u001b[38;5;66;03m# Tries to fetch data from `self._data_queue` once for a given timeout.\u001b[39;00m\n\u001b[1;32m   1109\u001b[0m     \u001b[38;5;66;03m# This can also be used as inner loop of fetching without timeout, with\u001b[39;00m\n\u001b[0;32m   (...)\u001b[0m\n\u001b[1;32m   1117\u001b[0m     \u001b[38;5;66;03m# Returns a 2-tuple:\u001b[39;00m\n\u001b[1;32m   1118\u001b[0m     \u001b[38;5;66;03m#   (bool: whether successfully get data, any: data if successful else None)\u001b[39;00m\n\u001b[1;32m   1119\u001b[0m     \u001b[38;5;28;01mtry\u001b[39;00m:\n\u001b[0;32m-> 1120\u001b[0m         data \u001b[38;5;241m=\u001b[39m \u001b[38;5;28;43mself\u001b[39;49m\u001b[38;5;241;43m.\u001b[39;49m\u001b[43m_data_queue\u001b[49m\u001b[38;5;241;43m.\u001b[39;49m\u001b[43mget\u001b[49m\u001b[43m(\u001b[49m\u001b[43mtimeout\u001b[49m\u001b[38;5;241;43m=\u001b[39;49m\u001b[43mtimeout\u001b[49m\u001b[43m)\u001b[49m\n\u001b[1;32m   1121\u001b[0m         \u001b[38;5;28;01mreturn\u001b[39;00m (\u001b[38;5;28;01mTrue\u001b[39;00m, data)\n\u001b[1;32m   1122\u001b[0m     \u001b[38;5;28;01mexcept\u001b[39;00m \u001b[38;5;167;01mException\u001b[39;00m \u001b[38;5;28;01mas\u001b[39;00m e:\n\u001b[1;32m   1123\u001b[0m         \u001b[38;5;66;03m# At timeout and error, we manually check whether any worker has\u001b[39;00m\n\u001b[1;32m   1124\u001b[0m         \u001b[38;5;66;03m# failed. Note that this is the only mechanism for Windows to detect\u001b[39;00m\n\u001b[1;32m   1125\u001b[0m         \u001b[38;5;66;03m# worker failures.\u001b[39;00m\n",
      "File \u001b[0;32m/n/fs/ac-project/anaconda3/envs/editing/lib/python3.8/multiprocessing/queues.py:107\u001b[0m, in \u001b[0;36mQueue.get\u001b[0;34m(self, block, timeout)\u001b[0m\n\u001b[1;32m    105\u001b[0m \u001b[38;5;28;01mif\u001b[39;00m block:\n\u001b[1;32m    106\u001b[0m     timeout \u001b[38;5;241m=\u001b[39m deadline \u001b[38;5;241m-\u001b[39m time\u001b[38;5;241m.\u001b[39mmonotonic()\n\u001b[0;32m--> 107\u001b[0m     \u001b[38;5;28;01mif\u001b[39;00m \u001b[38;5;129;01mnot\u001b[39;00m \u001b[38;5;28;43mself\u001b[39;49m\u001b[38;5;241;43m.\u001b[39;49m\u001b[43m_poll\u001b[49m\u001b[43m(\u001b[49m\u001b[43mtimeout\u001b[49m\u001b[43m)\u001b[49m:\n\u001b[1;32m    108\u001b[0m         \u001b[38;5;28;01mraise\u001b[39;00m Empty\n\u001b[1;32m    109\u001b[0m \u001b[38;5;28;01melif\u001b[39;00m \u001b[38;5;129;01mnot\u001b[39;00m \u001b[38;5;28mself\u001b[39m\u001b[38;5;241m.\u001b[39m_poll():\n",
      "File \u001b[0;32m/n/fs/ac-project/anaconda3/envs/editing/lib/python3.8/multiprocessing/connection.py:257\u001b[0m, in \u001b[0;36m_ConnectionBase.poll\u001b[0;34m(self, timeout)\u001b[0m\n\u001b[1;32m    255\u001b[0m \u001b[38;5;28mself\u001b[39m\u001b[38;5;241m.\u001b[39m_check_closed()\n\u001b[1;32m    256\u001b[0m \u001b[38;5;28mself\u001b[39m\u001b[38;5;241m.\u001b[39m_check_readable()\n\u001b[0;32m--> 257\u001b[0m \u001b[38;5;28;01mreturn\u001b[39;00m \u001b[38;5;28;43mself\u001b[39;49m\u001b[38;5;241;43m.\u001b[39;49m\u001b[43m_poll\u001b[49m\u001b[43m(\u001b[49m\u001b[43mtimeout\u001b[49m\u001b[43m)\u001b[49m\n",
      "File \u001b[0;32m/n/fs/ac-project/anaconda3/envs/editing/lib/python3.8/multiprocessing/connection.py:424\u001b[0m, in \u001b[0;36mConnection._poll\u001b[0;34m(self, timeout)\u001b[0m\n\u001b[1;32m    423\u001b[0m \u001b[38;5;28;01mdef\u001b[39;00m \u001b[38;5;21m_poll\u001b[39m(\u001b[38;5;28mself\u001b[39m, timeout):\n\u001b[0;32m--> 424\u001b[0m     r \u001b[38;5;241m=\u001b[39m \u001b[43mwait\u001b[49m\u001b[43m(\u001b[49m\u001b[43m[\u001b[49m\u001b[38;5;28;43mself\u001b[39;49m\u001b[43m]\u001b[49m\u001b[43m,\u001b[49m\u001b[43m \u001b[49m\u001b[43mtimeout\u001b[49m\u001b[43m)\u001b[49m\n\u001b[1;32m    425\u001b[0m     \u001b[38;5;28;01mreturn\u001b[39;00m \u001b[38;5;28mbool\u001b[39m(r)\n",
      "File \u001b[0;32m/n/fs/ac-project/anaconda3/envs/editing/lib/python3.8/multiprocessing/connection.py:931\u001b[0m, in \u001b[0;36mwait\u001b[0;34m(object_list, timeout)\u001b[0m\n\u001b[1;32m    928\u001b[0m     deadline \u001b[38;5;241m=\u001b[39m time\u001b[38;5;241m.\u001b[39mmonotonic() \u001b[38;5;241m+\u001b[39m timeout\n\u001b[1;32m    930\u001b[0m \u001b[38;5;28;01mwhile\u001b[39;00m \u001b[38;5;28;01mTrue\u001b[39;00m:\n\u001b[0;32m--> 931\u001b[0m     ready \u001b[38;5;241m=\u001b[39m \u001b[43mselector\u001b[49m\u001b[38;5;241;43m.\u001b[39;49m\u001b[43mselect\u001b[49m\u001b[43m(\u001b[49m\u001b[43mtimeout\u001b[49m\u001b[43m)\u001b[49m\n\u001b[1;32m    932\u001b[0m     \u001b[38;5;28;01mif\u001b[39;00m ready:\n\u001b[1;32m    933\u001b[0m         \u001b[38;5;28;01mreturn\u001b[39;00m [key\u001b[38;5;241m.\u001b[39mfileobj \u001b[38;5;28;01mfor\u001b[39;00m (key, events) \u001b[38;5;129;01min\u001b[39;00m ready]\n",
      "File \u001b[0;32m/n/fs/ac-project/anaconda3/envs/editing/lib/python3.8/selectors.py:415\u001b[0m, in \u001b[0;36m_PollLikeSelector.select\u001b[0;34m(self, timeout)\u001b[0m\n\u001b[1;32m    413\u001b[0m ready \u001b[38;5;241m=\u001b[39m []\n\u001b[1;32m    414\u001b[0m \u001b[38;5;28;01mtry\u001b[39;00m:\n\u001b[0;32m--> 415\u001b[0m     fd_event_list \u001b[38;5;241m=\u001b[39m \u001b[38;5;28;43mself\u001b[39;49m\u001b[38;5;241;43m.\u001b[39;49m\u001b[43m_selector\u001b[49m\u001b[38;5;241;43m.\u001b[39;49m\u001b[43mpoll\u001b[49m\u001b[43m(\u001b[49m\u001b[43mtimeout\u001b[49m\u001b[43m)\u001b[49m\n\u001b[1;32m    416\u001b[0m \u001b[38;5;28;01mexcept\u001b[39;00m \u001b[38;5;167;01mInterruptedError\u001b[39;00m:\n\u001b[1;32m    417\u001b[0m     \u001b[38;5;28;01mreturn\u001b[39;00m ready\n",
      "\u001b[0;31mKeyboardInterrupt\u001b[0m: "
     ]
    }
   ],
   "source": [
    "# target_class_distribution_path = os.path.join(root_dir, 'target_class_distribution.pth').format(\n",
    "#     target_class_name)\n",
    "# target_class_distribution = torch.load(target_class_distribution_path)\n",
    "# bin_lows = target_class_distribution['histogram_bins']\n",
    "\n",
    "# bump_save_dir = os.path.join(os.path.dirname(os.path.dirname(config.save_dir)), save_timestamp, '{}_{}'.format(target_class_name, n_select))\n",
    "# ensure_dir(bump_save_dir)\n",
    "# # Save a copy of histogram info to save_dir\n",
    "# torch.save(target_class_distribution, os.path.join(bump_save_dir, 'target_class_distribution.pth'))\n",
    "# # Run bump experiments\n",
    "# print(\"Obtaining class distribution for {} from {}\".format(target_class_name, target_class_distribution_path))\n",
    "# print(\"Saving results to {}\".format(bump_save_dir))\n",
    "# match_bump_edits(\n",
    "#     data_loader=val_paths_data_loader,\n",
    "#     model=model,\n",
    "#     loss_fn=loss_fn,\n",
    "#     metric_fns=metric_fns,\n",
    "#     device=device,\n",
    "#     bin_lows=bin_lows,\n",
    "#     target_class_idx=target_class_idx,\n",
    "#     save_dir=bump_save_dir)"
   ]
  },
  {
   "cell_type": "code",
   "execution_count": null,
   "metadata": {},
   "outputs": [],
   "source": [
    "# bump_save_dir = os.path.join(os.path.dirname(os.path.dirname(config.save_dir)), save_timestamp, '{}_{}'.format(target_class_name, n_select))\n",
    "# metrics_save_path = os.path.join(bump_save_dir, 'bumps_preds_metrics.pth')\n",
    "\n",
    "# bumped_target_class_dist = torch.load(metrics_save_path)\n",
    "\n",
    "# bumped_hist_data = []\n",
    "\n",
    "\n",
    "# target_class_dist_dict = torch.load(target_class_distribution_path)\n",
    "\n",
    "# for n_target_predictions, bucket_value in zip(\n",
    "#     bumped_target_class_dist['target_class_predictions'], \n",
    "#     target_class_distribution['histogram_bin_values']):\n",
    "#     cur_data = [n_target_predictions for i in range(int(bucket_value))]\n",
    "#     bumped_hist_data += cur_data\n",
    "    \n",
    "# bins = target_class_distribution['histogram_bins']\n",
    "# bin_values = target_class_distribution['histogram_bin_values']\n",
    "\n",
    "# histogram_save_path = os.path.join(\n",
    "#     bump_save_dir, \n",
    "#     'graphs',\n",
    "#     'summary',\n",
    "#     'bumped_target_class_distribution.png')\n",
    "# bump_bin_values, bump_bins, _= histogram(\n",
    "#         data=bumped_hist_data,\n",
    "#         n_bins=bins, #50,\n",
    "#         title='Bumped Post Edit {} Class Distribution to Match {} Edits'.format(target_class_name, target_class_name),\n",
    "#         xlabel='Num. {} Predictions Post Bump'.format(target_class_name),\n",
    "#         ylabel='Num. Edits',\n",
    "#         save_path=histogram_save_path,\n",
    "#         show=True)\n",
    "\n",
    "# assert (bin_values == bump_bin_values).all()"
   ]
  },
  {
   "cell_type": "markdown",
   "metadata": {},
   "source": [
    "### Perform Bump for a Corresponding Edit"
   ]
  },
  {
   "cell_type": "code",
   "execution_count": 9,
   "metadata": {},
   "outputs": [],
   "source": [
    "def match_bump(n_target_predictions,\n",
    "               target_class_idx,\n",
    "               bumps_preds_metrics,\n",
    "               results_save_dir,\n",
    "               data_loader,\n",
    "               model,\n",
    "               loss_fn,\n",
    "               metric_fns,\n",
    "               device,\n",
    "               cushion=5,\n",
    "               debug=True):\n",
    "    '''\n",
    "    Given a number of predictions for target class, obtain bump amount to match and save post edit metrics in results_save_dir\n",
    "    \n",
    "    Arg(s):\n",
    "        n_target_predictions : int\n",
    "            Number of predictions to obtain for target class\n",
    "        target_class_idx : int\n",
    "            index of target class\n",
    "        bumps_preds_metrics : dict\n",
    "            saved data from match_bump_edits()\n",
    "        results_save_dir : str\n",
    "            directory to save results to\n",
    "        data_loader : torch.utils.data.DataLoader\n",
    "            validation data loader to obtain metrics for\n",
    "        model : torch.nn.Module\n",
    "            model\n",
    "        loss_fn : module\n",
    "            loss function\n",
    "        metric_fns : list[model.metric modules]\n",
    "            list of metric functions\n",
    "        device : torch.device\n",
    "            GPU device to run model on\n",
    "        cushion : int\n",
    "            how far away cur_n_target_predictions can be from n_target_predictions on either side to break loop (buffer)\n",
    "        debug : bool\n",
    "            control verbosity\n",
    "        \n",
    "            \n",
    "    Returns: \n",
    "        None\n",
    "    '''\n",
    "    # Unpack bumps_preds_metrics\n",
    "    pre_edit_metrics = bumps_preds_metrics['pre_edit_metrics']\n",
    "    target_class_predictions = bumps_preds_metrics['target_class_predictions']\n",
    "    bump_amounts = bumps_preds_metrics['bump_amounts']\n",
    "    \n",
    "    # Ensure that the n_target_predictions > pre edit # predictions of target class\n",
    "    pre_edit_n_target_predictions = pre_edit_metrics['predicted_class_distribution'][target_class_idx]\n",
    "    assert pre_edit_n_target_predictions < n_target_predictions, \\\n",
    "        \"n_target_predictions ({}) must be greater than pre-edit n_target_predictions ({})\".format(n_target_predictions, pre_edit_n_target_predictions) \n",
    "    n_predictions_total = np.sum(pre_edit_metrics['predicted_class_distribution'])\n",
    "    assert n_target_predictions <= n_predictions_total, \\\n",
    "        \"n_target_predictions ({}) must be less than total number of data in dataloader ({})\".format(n_target_predictions, n_predictions_total)\n",
    "    # Find index above and below n_target_predictions\n",
    "    bin_high_idx = -1\n",
    "    for bin_idx, target_class_prediction in enumerate(target_class_predictions):\n",
    "        if target_class_prediction > n_target_predictions:\n",
    "            bin_high_idx = bin_idx\n",
    "            break\n",
    "    if bin_high_idx == -1: # Past upper end \n",
    "        # n_predictions_upper_bound\n",
    "        bump_amount_upper_bound = bump_amounts[bin_high_idx] * 2\n",
    "        bump_amount_lower_bound = bump_amounts[bin_high_idx]\n",
    "        # raise ValueError(\"Out of bounds bin index\")\n",
    "        # return\n",
    "    else: \n",
    "        n_predictions_upper_bound = target_class_predictions[bin_high_idx]\n",
    "        bump_amount_upper_bound = bump_amounts[bin_high_idx]\n",
    "\n",
    "        # Store lower bounds for bump_amount and n_predictions\n",
    "        bin_low_idx = bin_high_idx - 1\n",
    "        if bin_low_idx > -1: # First bin is already higher than n_target_predictions\n",
    "            n_predictions_lower_bound = target_class_predictions[bin_low_idx]\n",
    "            bump_amount_lower_bound = bump_amounts[bin_low_idx]\n",
    "        else:\n",
    "            n_predictions_lower_bound = 0\n",
    "            bump_amount_lower_bound = 0\n",
    "        \n",
    "    # check to make sure that the targe\n",
    "    # cur_bump_amount = (bump_amount_lower_bound + bump_amount_upper_bound) / 2\n",
    "    cur_n_target_predictions = 0\n",
    "    \n",
    "    if debug:\n",
    "        print(\"target n_predictions: {}\".format(n_target_predictions))\n",
    "        print(\"Initial bounds for bump: ({}, {})\".format(bump_amount_lower_bound, bump_amount_upper_bound))\n",
    "    while abs(cur_n_target_predictions - n_target_predictions) > cushion:\n",
    "        cur_bump_amount = (bump_amount_lower_bound + bump_amount_upper_bound) / 2\n",
    "        log = predict_with_bump(\n",
    "                data_loader=data_loader,\n",
    "                model=model,\n",
    "                loss_fn=loss_fn,\n",
    "                metric_fns=metric_fns,\n",
    "                device=device,\n",
    "                target_class_idx=target_class_idx,\n",
    "                bump_amount=cur_bump_amount,\n",
    "                output_save_path=os.path.join(results_save_dir, \"post_edit_logits.pth\"),\n",
    "                log_save_path=os.path.join(results_save_dir, \"post_edit_metrics.pth\"))\n",
    "\n",
    "        # Obtain num. predictions for target class and determine bin idx\n",
    "        post_class_distribution = log['predicted_class_distribution']\n",
    "        cur_n_target_predictions = post_class_distribution[target_class_idx]\n",
    "        if debug:\n",
    "            print(\"cur_bump_amount: {}, cur_n_target_predictions: {}\".format(cur_bump_amount, cur_n_target_predictions))\n",
    "        if cur_n_target_predictions > n_target_predictions:\n",
    "            bump_amount_upper_bound = cur_bump_amount\n",
    "            if debug:\n",
    "                print(\"Updated upper bound to {}\".format(bump_amount_upper_bound))\n",
    "        elif cur_n_target_predictions < n_target_predictions:\n",
    "            bump_amount_lower_bound = cur_bump_amount\n",
    "            if debug:\n",
    "                print(\"Updated lower bound to {}\".format(bump_amount_lower_bound))\n",
    "        \n",
    "    if debug:\n",
    "        print(\"final results: bump amount: {} n_target_predictions: {}\".format(cur_bump_amount, cur_n_target_predictions))\n",
    "    # if results_save_dir is not None:\n",
    "    #     torch.save(log, os.path.join(results_save_dir, \"post_edit_metrics.pth\"))\n",
    "        # torch.save(logits, os.path.join(results_save_dir, \"post_edit_logits.pth\"))\n",
    "    return cur_bump_amount, cur_n_target_predictions, log\n",
    "    "
   ]
  },
  {
   "cell_type": "code",
   "execution_count": null,
   "metadata": {
    "scrolled": true,
    "tags": []
   },
   "outputs": [],
   "source": [
    "# # testing\n",
    "\n",
    "# bumps_preds_metrics_path = os.path.join(\n",
    "#     \"saved/edit/experiments/bump_edits\",\n",
    "#     \"bumps_preds_metrics\",\n",
    "#     \"{}_{}_bumps_preds_metrics.pth\".format(target_class_name, n_select))\n",
    "# bumps_preds_metrics = torch.load(bumps_preds_metrics_path)\n",
    "\n",
    "# n_target_predictions = 65000\n",
    "# results_save_dir = os.path.join('temp')\n",
    "# match_bump(n_target_predictions=n_target_predictions,\n",
    "#            target_class_idx=target_class_idx,\n",
    "#            bumps_preds_metrics=bumps_preds_metrics,\n",
    "#            results_save_dir=results_save_dir,\n",
    "#            data_loader=val_paths_data_loader,\n",
    "#            model=model,\n",
    "#            loss_fn=loss_fn,\n",
    "#            metric_fns=metric_fns,\n",
    "#            device=device,\n",
    "#            cushion=5,\n",
    "#            debug=True)"
   ]
  },
  {
   "cell_type": "code",
   "execution_count": 21,
   "metadata": {
    "scrolled": true,
    "tags": []
   },
   "outputs": [
    {
     "name": "stdout",
     "output_type": "stream",
     "text": [
      "[0214_113656] Found corresponding logit bump for airplane-train-n03365231_4635/felzenszwalb_masked_softmax in dictionary (1/158)\n"
     ]
    },
    {
     "name": "stderr",
     "output_type": "stream",
     "text": [
      "100%|█████████████████████████████████████████████████████████████████████| 274/274 [00:10<00:00, 26.21it/s]\n"
     ]
    },
    {
     "name": "stdout",
     "output_type": "stream",
     "text": [
      "saved/edit/experiments/corresponding_bump_edits/CINIC10_ImageNet-VGG_16/0213_143741/airplane_100/results/airplane-train-n03365231_4635/felzenszwalb_masked_softmax\n",
      "[0214_113706] Found corresponding logit bump for airplane-train-n04160586_14463/felzenszwalb_masked_softmax in dictionary (2/158)\n"
     ]
    },
    {
     "name": "stderr",
     "output_type": "stream",
     "text": [
      "100%|█████████████████████████████████████████████████████████████████████| 274/274 [00:10<00:00, 25.93it/s]\n",
      "/n/fs/ac-editing/model-editing/src/model/metric.py:168: RuntimeWarning: invalid value encountered in divide\n",
      "  return np.nan_to_num(TPs / (TPs + FPs))\n",
      "/n/fs/ac-editing/model-editing/src/model/metric.py:205: RuntimeWarning: invalid value encountered in divide\n",
      "  return np.nan_to_num(2 * precisions * recalls / (precisions + recalls))\n"
     ]
    },
    {
     "name": "stdout",
     "output_type": "stream",
     "text": [
      "saved/edit/experiments/corresponding_bump_edits/CINIC10_ImageNet-VGG_16/0213_143741/airplane_100/results/airplane-train-n04160586_14463/felzenszwalb_masked_softmax\n",
      "[0214_113717] Creating corresponding logit bump for airplane-train-n04160586_14463/felzenszwalb_gaussian_softmax (3/158)\n",
      "target n_predictions: 23921\n",
      "Initial bounds for bump: (4.416467191958873, 4.547473508864641)\n"
     ]
    },
    {
     "name": "stderr",
     "output_type": "stream",
     "text": [
      "100%|█████████████████████████████████████████████████████████████████████| 274/274 [00:08<00:00, 30.67it/s]\n"
     ]
    },
    {
     "name": "stdout",
     "output_type": "stream",
     "text": [
      "cur_bump_amount: 4.481970350411757, cur_n_target_predictions: 23843\n",
      "Updated lower bound to 4.481970350411757\n"
     ]
    },
    {
     "name": "stderr",
     "output_type": "stream",
     "text": [
      "100%|█████████████████████████████████████████████████████████████████████| 274/274 [00:09<00:00, 29.55it/s]\n"
     ]
    },
    {
     "name": "stdout",
     "output_type": "stream",
     "text": [
      "cur_bump_amount: 4.514721929638199, cur_n_target_predictions: 24098\n",
      "Updated upper bound to 4.514721929638199\n"
     ]
    },
    {
     "name": "stderr",
     "output_type": "stream",
     "text": [
      "100%|█████████████████████████████████████████████████████████████████████| 274/274 [00:09<00:00, 27.54it/s]\n"
     ]
    },
    {
     "name": "stdout",
     "output_type": "stream",
     "text": [
      "cur_bump_amount: 4.498346140024978, cur_n_target_predictions: 23978\n",
      "Updated upper bound to 4.498346140024978\n"
     ]
    },
    {
     "name": "stderr",
     "output_type": "stream",
     "text": [
      "100%|█████████████████████████████████████████████████████████████████████| 274/274 [00:09<00:00, 29.40it/s]\n"
     ]
    },
    {
     "name": "stdout",
     "output_type": "stream",
     "text": [
      "cur_bump_amount: 4.4901582452183675, cur_n_target_predictions: 23908\n",
      "Updated lower bound to 4.4901582452183675\n"
     ]
    },
    {
     "name": "stderr",
     "output_type": "stream",
     "text": [
      "100%|█████████████████████████████████████████████████████████████████████| 274/274 [00:14<00:00, 18.59it/s]\n"
     ]
    },
    {
     "name": "stdout",
     "output_type": "stream",
     "text": [
      "cur_bump_amount: 4.494252192621673, cur_n_target_predictions: 23945\n",
      "Updated upper bound to 4.494252192621673\n"
     ]
    },
    {
     "name": "stderr",
     "output_type": "stream",
     "text": [
      "100%|█████████████████████████████████████████████████████████████████████| 274/274 [00:09<00:00, 29.10it/s]\n"
     ]
    },
    {
     "name": "stdout",
     "output_type": "stream",
     "text": [
      "cur_bump_amount: 4.49220521892002, cur_n_target_predictions: 23930\n",
      "Updated upper bound to 4.49220521892002\n",
      "final results: bump amount: 4.49220521892002 n_target_predictions: 23930\n",
      "saved/edit/experiments/corresponding_bump_edits/CINIC10_ImageNet-VGG_16/0213_143741/airplane_100/results/airplane-train-n04160586_14463/felzenszwalb_gaussian_softmax\n",
      "[0214_113819] Creating corresponding logit bump for airplane-train-n02842573_8619/felzenszwalb_masked_softmax (4/158)\n",
      "target n_predictions: 16366\n",
      "Initial bounds for bump: (3.2741809263825417, 3.4788172342814505)\n"
     ]
    },
    {
     "name": "stderr",
     "output_type": "stream",
     "text": [
      "100%|█████████████████████████████████████████████████████████████████████| 274/274 [00:10<00:00, 25.45it/s]\n"
     ]
    },
    {
     "name": "stdout",
     "output_type": "stream",
     "text": [
      "cur_bump_amount: 3.376499080331996, cur_n_target_predictions: 16785\n",
      "Updated upper bound to 3.376499080331996\n"
     ]
    },
    {
     "name": "stderr",
     "output_type": "stream",
     "text": [
      "100%|█████████████████████████████████████████████████████████████████████| 274/274 [00:10<00:00, 27.18it/s]\n"
     ]
    },
    {
     "name": "stdout",
     "output_type": "stream",
     "text": [
      "cur_bump_amount: 3.325340003357269, cur_n_target_predictions: 16564\n",
      "Updated upper bound to 3.325340003357269\n"
     ]
    },
    {
     "name": "stderr",
     "output_type": "stream",
     "text": [
      "100%|█████████████████████████████████████████████████████████████████████| 274/274 [00:10<00:00, 25.61it/s]\n"
     ]
    },
    {
     "name": "stdout",
     "output_type": "stream",
     "text": [
      "cur_bump_amount: 3.2997604648699053, cur_n_target_predictions: 16435\n",
      "Updated upper bound to 3.2997604648699053\n"
     ]
    },
    {
     "name": "stderr",
     "output_type": "stream",
     "text": [
      "100%|█████████████████████████████████████████████████████████████████████| 274/274 [00:11<00:00, 23.22it/s]\n"
     ]
    },
    {
     "name": "stdout",
     "output_type": "stream",
     "text": [
      "cur_bump_amount: 3.2869706956262235, cur_n_target_predictions: 16373\n",
      "Updated upper bound to 3.2869706956262235\n",
      "final results: bump amount: 3.2869706956262235 n_target_predictions: 16373\n",
      "saved/edit/experiments/corresponding_bump_edits/CINIC10_ImageNet-VGG_16/0213_143741/airplane_100/results/airplane-train-n02842573_8619/felzenszwalb_masked_softmax\n",
      "[0214_113902] Found corresponding logit bump for airplane-train-n04308397_2932/felzenszwalb_masked_softmax in dictionary (5/158)\n"
     ]
    },
    {
     "name": "stderr",
     "output_type": "stream",
     "text": [
      "100%|█████████████████████████████████████████████████████████████████████| 274/274 [00:25<00:00, 10.55it/s]\n"
     ]
    },
    {
     "name": "stdout",
     "output_type": "stream",
     "text": [
      "saved/edit/experiments/corresponding_bump_edits/CINIC10_ImageNet-VGG_16/0213_143741/airplane_100/results/airplane-train-n04308397_2932/felzenszwalb_masked_softmax\n",
      "[0214_113929] Creating corresponding logit bump for airplane-train-n04308397_2932/felzenszwalb_gaussian_softmax (6/158)\n",
      "target n_predictions: 20691\n",
      "Initial bounds for bump: (3.865352482534945, 4.092726157978177)\n"
     ]
    },
    {
     "name": "stderr",
     "output_type": "stream",
     "text": [
      "100%|█████████████████████████████████████████████████████████████████████| 274/274 [00:19<00:00, 13.78it/s]\n"
     ]
    },
    {
     "name": "stdout",
     "output_type": "stream",
     "text": [
      "cur_bump_amount: 3.979039320256561, cur_n_target_predictions: 20307\n",
      "Updated lower bound to 3.979039320256561\n"
     ]
    },
    {
     "name": "stderr",
     "output_type": "stream",
     "text": [
      "100%|█████████████████████████████████████████████████████████████████████| 274/274 [00:13<00:00, 20.89it/s]\n"
     ]
    },
    {
     "name": "stdout",
     "output_type": "stream",
     "text": [
      "cur_bump_amount: 4.035882739117369, cur_n_target_predictions: 20673\n",
      "Updated lower bound to 4.035882739117369\n"
     ]
    },
    {
     "name": "stderr",
     "output_type": "stream",
     "text": [
      "100%|█████████████████████████████████████████████████████████████████████| 274/274 [00:14<00:00, 19.22it/s]\n"
     ]
    },
    {
     "name": "stdout",
     "output_type": "stream",
     "text": [
      "cur_bump_amount: 4.064304448547773, cur_n_target_predictions: 20881\n",
      "Updated upper bound to 4.064304448547773\n"
     ]
    },
    {
     "name": "stderr",
     "output_type": "stream",
     "text": [
      "100%|█████████████████████████████████████████████████████████████████████| 274/274 [00:09<00:00, 27.65it/s]\n"
     ]
    },
    {
     "name": "stdout",
     "output_type": "stream",
     "text": [
      "cur_bump_amount: 4.050093593832571, cur_n_target_predictions: 20768\n",
      "Updated upper bound to 4.050093593832571\n"
     ]
    },
    {
     "name": "stderr",
     "output_type": "stream",
     "text": [
      "100%|█████████████████████████████████████████████████████████████████████| 274/274 [00:10<00:00, 26.19it/s]\n"
     ]
    },
    {
     "name": "stdout",
     "output_type": "stream",
     "text": [
      "cur_bump_amount: 4.04298816647497, cur_n_target_predictions: 20716\n",
      "Updated upper bound to 4.04298816647497\n"
     ]
    },
    {
     "name": "stderr",
     "output_type": "stream",
     "text": [
      "100%|█████████████████████████████████████████████████████████████████████| 274/274 [00:11<00:00, 24.12it/s]\n"
     ]
    },
    {
     "name": "stdout",
     "output_type": "stream",
     "text": [
      "cur_bump_amount: 4.03943545279617, cur_n_target_predictions: 20684\n",
      "Updated lower bound to 4.03943545279617\n",
      "final results: bump amount: 4.03943545279617 n_target_predictions: 20684\n",
      "saved/edit/experiments/corresponding_bump_edits/CINIC10_ImageNet-VGG_16/0213_143741/airplane_100/results/airplane-train-n04308397_2932/felzenszwalb_gaussian_softmax\n",
      "[0214_114048] Creating corresponding logit bump for airplane-train-n04012482_1683/felzenszwalb_masked_softmax (7/158)\n",
      "target n_predictions: 17697\n",
      "Initial bounds for bump: (3.4788172342814505, 3.637978807091713)\n"
     ]
    },
    {
     "name": "stderr",
     "output_type": "stream",
     "text": [
      "100%|█████████████████████████████████████████████████████████████████████| 274/274 [00:10<00:00, 27.37it/s]\n"
     ]
    },
    {
     "name": "stdout",
     "output_type": "stream",
     "text": [
      "cur_bump_amount: 3.5583980206865817, cur_n_target_predictions: 17773\n",
      "Updated upper bound to 3.5583980206865817\n"
     ]
    },
    {
     "name": "stderr",
     "output_type": "stream",
     "text": [
      "100%|█████████████████████████████████████████████████████████████████████| 274/274 [00:09<00:00, 29.73it/s]\n"
     ]
    },
    {
     "name": "stdout",
     "output_type": "stream",
     "text": [
      "cur_bump_amount: 3.518607627484016, cur_n_target_predictions: 17533\n",
      "Updated lower bound to 3.518607627484016\n"
     ]
    },
    {
     "name": "stderr",
     "output_type": "stream",
     "text": [
      "100%|█████████████████████████████████████████████████████████████████████| 274/274 [00:09<00:00, 29.16it/s]\n"
     ]
    },
    {
     "name": "stdout",
     "output_type": "stream",
     "text": [
      "cur_bump_amount: 3.538502824085299, cur_n_target_predictions: 17648\n",
      "Updated lower bound to 3.538502824085299\n"
     ]
    },
    {
     "name": "stderr",
     "output_type": "stream",
     "text": [
      "100%|█████████████████████████████████████████████████████████████████████| 274/274 [00:09<00:00, 29.36it/s]\n"
     ]
    },
    {
     "name": "stdout",
     "output_type": "stream",
     "text": [
      "cur_bump_amount: 3.5484504223859403, cur_n_target_predictions: 17702\n",
      "Updated upper bound to 3.5484504223859403\n",
      "final results: bump amount: 3.5484504223859403 n_target_predictions: 17702\n",
      "saved/edit/experiments/corresponding_bump_edits/CINIC10_ImageNet-VGG_16/0213_143741/airplane_100/results/airplane-train-n04012482_1683/felzenszwalb_masked_softmax\n",
      "[0214_114126] Creating corresponding logit bump for airplane-train-n04222723_5958/felzenszwalb_masked_softmax (8/158)\n",
      "target n_predictions: 22546\n",
      "Initial bounds for bump: (4.220623850414995, 4.348521542851813)\n"
     ]
    },
    {
     "name": "stderr",
     "output_type": "stream",
     "text": [
      "100%|█████████████████████████████████████████████████████████████████████| 274/274 [00:09<00:00, 29.65it/s]\n"
     ]
    },
    {
     "name": "stdout",
     "output_type": "stream",
     "text": [
      "cur_bump_amount: 4.284572696633404, cur_n_target_predictions: 22406\n",
      "Updated lower bound to 4.284572696633404\n"
     ]
    },
    {
     "name": "stderr",
     "output_type": "stream",
     "text": [
      "100%|█████████████████████████████████████████████████████████████████████| 274/274 [00:09<00:00, 29.63it/s]\n"
     ]
    },
    {
     "name": "stdout",
     "output_type": "stream",
     "text": [
      "cur_bump_amount: 4.316547119742609, cur_n_target_predictions: 22643\n",
      "Updated upper bound to 4.316547119742609\n"
     ]
    },
    {
     "name": "stderr",
     "output_type": "stream",
     "text": [
      "100%|█████████████████████████████████████████████████████████████████████| 274/274 [00:10<00:00, 25.07it/s]\n"
     ]
    },
    {
     "name": "stdout",
     "output_type": "stream",
     "text": [
      "cur_bump_amount: 4.300559908188006, cur_n_target_predictions: 22523\n",
      "Updated lower bound to 4.300559908188006\n"
     ]
    },
    {
     "name": "stderr",
     "output_type": "stream",
     "text": [
      "100%|█████████████████████████████████████████████████████████████████████| 274/274 [00:07<00:00, 36.32it/s]\n"
     ]
    },
    {
     "name": "stdout",
     "output_type": "stream",
     "text": [
      "cur_bump_amount: 4.3085535139653075, cur_n_target_predictions: 22584\n",
      "Updated upper bound to 4.3085535139653075\n"
     ]
    },
    {
     "name": "stderr",
     "output_type": "stream",
     "text": [
      "100%|█████████████████████████████████████████████████████████████████████| 274/274 [00:09<00:00, 27.69it/s]\n"
     ]
    },
    {
     "name": "stdout",
     "output_type": "stream",
     "text": [
      "cur_bump_amount: 4.304556711076657, cur_n_target_predictions: 22546\n",
      "final results: bump amount: 4.304556711076657 n_target_predictions: 22546\n",
      "saved/edit/experiments/corresponding_bump_edits/CINIC10_ImageNet-VGG_16/0213_143741/airplane_100/results/airplane-train-n04222723_5958/felzenszwalb_masked_softmax\n",
      "[0214_114213] Creating corresponding logit bump for airplane-train-n04308273_715/felzenszwalb_masked_softmax (9/158)\n",
      "target n_predictions: 23461\n",
      "Initial bounds for bump: (4.416467191958873, 4.547473508864641)\n"
     ]
    },
    {
     "name": "stderr",
     "output_type": "stream",
     "text": [
      "100%|█████████████████████████████████████████████████████████████████████| 274/274 [00:09<00:00, 28.03it/s]\n"
     ]
    },
    {
     "name": "stdout",
     "output_type": "stream",
     "text": [
      "cur_bump_amount: 4.481970350411757, cur_n_target_predictions: 23843\n",
      "Updated upper bound to 4.481970350411757\n"
     ]
    },
    {
     "name": "stderr",
     "output_type": "stream",
     "text": [
      "100%|█████████████████████████████████████████████████████████████████████| 274/274 [00:09<00:00, 29.55it/s]\n"
     ]
    },
    {
     "name": "stdout",
     "output_type": "stream",
     "text": [
      "cur_bump_amount: 4.449218771185315, cur_n_target_predictions: 23596\n",
      "Updated upper bound to 4.449218771185315\n"
     ]
    },
    {
     "name": "stderr",
     "output_type": "stream",
     "text": [
      "100%|█████████████████████████████████████████████████████████████████████| 274/274 [00:09<00:00, 29.17it/s]\n"
     ]
    },
    {
     "name": "stdout",
     "output_type": "stream",
     "text": [
      "cur_bump_amount: 4.432842981572094, cur_n_target_predictions: 23481\n",
      "Updated upper bound to 4.432842981572094\n"
     ]
    },
    {
     "name": "stderr",
     "output_type": "stream",
     "text": [
      "100%|█████████████████████████████████████████████████████████████████████| 274/274 [00:09<00:00, 29.52it/s]\n"
     ]
    },
    {
     "name": "stdout",
     "output_type": "stream",
     "text": [
      "cur_bump_amount: 4.424655086765483, cur_n_target_predictions: 23420\n",
      "Updated lower bound to 4.424655086765483\n"
     ]
    },
    {
     "name": "stderr",
     "output_type": "stream",
     "text": [
      "100%|█████████████████████████████████████████████████████████████████████| 274/274 [00:09<00:00, 28.99it/s]\n"
     ]
    },
    {
     "name": "stdout",
     "output_type": "stream",
     "text": [
      "cur_bump_amount: 4.4287490341687885, cur_n_target_predictions: 23452\n",
      "Updated lower bound to 4.4287490341687885\n",
      "final results: bump amount: 4.4287490341687885 n_target_predictions: 23452\n",
      "saved/edit/experiments/corresponding_bump_edits/CINIC10_ImageNet-VGG_16/0213_143741/airplane_100/results/airplane-train-n04308273_715/felzenszwalb_masked_softmax\n",
      "[0214_114301] Creating corresponding logit bump for airplane-train-n04308273_715/felzenszwalb_gaussian_softmax (10/158)\n",
      "target n_predictions: 16040\n",
      "Initial bounds for bump: (3.092281986027956, 3.2741809263825417)\n"
     ]
    },
    {
     "name": "stderr",
     "output_type": "stream",
     "text": [
      "100%|█████████████████████████████████████████████████████████████████████| 274/274 [00:09<00:00, 29.11it/s]\n"
     ]
    },
    {
     "name": "stdout",
     "output_type": "stream",
     "text": [
      "cur_bump_amount: 3.183231456205249, cur_n_target_predictions: 15846\n",
      "Updated lower bound to 3.183231456205249\n"
     ]
    },
    {
     "name": "stderr",
     "output_type": "stream",
     "text": [
      "100%|█████████████████████████████████████████████████████████████████████| 274/274 [00:09<00:00, 29.46it/s]\n"
     ]
    },
    {
     "name": "stdout",
     "output_type": "stream",
     "text": [
      "cur_bump_amount: 3.2287061912938952, cur_n_target_predictions: 16057\n",
      "Updated upper bound to 3.2287061912938952\n"
     ]
    },
    {
     "name": "stderr",
     "output_type": "stream",
     "text": [
      "100%|█████████████████████████████████████████████████████████████████████| 274/274 [00:10<00:00, 25.90it/s]\n"
     ]
    },
    {
     "name": "stdout",
     "output_type": "stream",
     "text": [
      "cur_bump_amount: 3.205968823749572, cur_n_target_predictions: 15966\n",
      "Updated lower bound to 3.205968823749572\n"
     ]
    },
    {
     "name": "stderr",
     "output_type": "stream",
     "text": [
      "100%|█████████████████████████████████████████████████████████████████████| 274/274 [00:10<00:00, 26.65it/s]\n"
     ]
    },
    {
     "name": "stdout",
     "output_type": "stream",
     "text": [
      "cur_bump_amount: 3.2173375075217336, cur_n_target_predictions: 16014\n",
      "Updated lower bound to 3.2173375075217336\n"
     ]
    },
    {
     "name": "stderr",
     "output_type": "stream",
     "text": [
      "100%|█████████████████████████████████████████████████████████████████████| 274/274 [00:10<00:00, 26.79it/s]\n"
     ]
    },
    {
     "name": "stdout",
     "output_type": "stream",
     "text": [
      "cur_bump_amount: 3.2230218494078144, cur_n_target_predictions: 16033\n",
      "Updated lower bound to 3.2230218494078144\n",
      "final results: bump amount: 3.2230218494078144 n_target_predictions: 16033\n",
      "saved/edit/experiments/corresponding_bump_edits/CINIC10_ImageNet-VGG_16/0213_143741/airplane_100/results/airplane-train-n04308273_715/felzenszwalb_gaussian_softmax\n",
      "[0214_114351] Creating corresponding logit bump for airplane-train-n02690373_2174/felzenszwalb_masked_softmax (11/158)\n",
      "target n_predictions: 22910\n",
      "Initial bounds for bump: (4.348521542851813, 4.416467191958873)\n"
     ]
    },
    {
     "name": "stderr",
     "output_type": "stream",
     "text": [
      "100%|█████████████████████████████████████████████████████████████████████| 274/274 [00:09<00:00, 27.72it/s]\n"
     ]
    },
    {
     "name": "stdout",
     "output_type": "stream",
     "text": [
      "cur_bump_amount: 4.382494367405343, cur_n_target_predictions: 23134\n",
      "Updated upper bound to 4.382494367405343\n"
     ]
    },
    {
     "name": "stderr",
     "output_type": "stream",
     "text": [
      "100%|█████████████████████████████████████████████████████████████████████| 274/274 [00:11<00:00, 23.19it/s]\n"
     ]
    },
    {
     "name": "stdout",
     "output_type": "stream",
     "text": [
      "cur_bump_amount: 4.365507955128578, cur_n_target_predictions: 23001\n",
      "Updated upper bound to 4.365507955128578\n"
     ]
    },
    {
     "name": "stderr",
     "output_type": "stream",
     "text": [
      "100%|█████████████████████████████████████████████████████████████████████| 274/274 [00:09<00:00, 29.35it/s]\n"
     ]
    },
    {
     "name": "stdout",
     "output_type": "stream",
     "text": [
      "cur_bump_amount: 4.357014748990196, cur_n_target_predictions: 22935\n",
      "Updated upper bound to 4.357014748990196\n"
     ]
    },
    {
     "name": "stderr",
     "output_type": "stream",
     "text": [
      "100%|█████████████████████████████████████████████████████████████████████| 274/274 [00:09<00:00, 27.72it/s]\n"
     ]
    },
    {
     "name": "stdout",
     "output_type": "stream",
     "text": [
      "cur_bump_amount: 4.352768145921004, cur_n_target_predictions: 22911\n",
      "Updated upper bound to 4.352768145921004\n",
      "final results: bump amount: 4.352768145921004 n_target_predictions: 22911\n",
      "saved/edit/experiments/corresponding_bump_edits/CINIC10_ImageNet-VGG_16/0213_143741/airplane_100/results/airplane-train-n02690373_2174/felzenszwalb_masked_softmax\n",
      "[0214_114432] Creating corresponding logit bump for airplane-train-n02690373_2174/felzenszwalb_gaussian_softmax (12/158)\n",
      "target n_predictions: 12220\n",
      "Initial bounds for bump: (1.862645149230957, 2.3283064365386963)\n"
     ]
    },
    {
     "name": "stderr",
     "output_type": "stream",
     "text": [
      "100%|█████████████████████████████████████████████████████████████████████| 274/274 [00:10<00:00, 25.48it/s]\n"
     ]
    },
    {
     "name": "stdout",
     "output_type": "stream",
     "text": [
      "cur_bump_amount: 2.0954757928848267, cur_n_target_predictions: 12145\n",
      "Updated lower bound to 2.0954757928848267\n"
     ]
    },
    {
     "name": "stderr",
     "output_type": "stream",
     "text": [
      "100%|█████████████████████████████████████████████████████████████████████| 274/274 [00:10<00:00, 26.22it/s]\n"
     ]
    },
    {
     "name": "stdout",
     "output_type": "stream",
     "text": [
      "cur_bump_amount: 2.2118911147117615, cur_n_target_predictions: 12434\n",
      "Updated upper bound to 2.2118911147117615\n"
     ]
    },
    {
     "name": "stderr",
     "output_type": "stream",
     "text": [
      "100%|█████████████████████████████████████████████████████████████████████| 274/274 [00:10<00:00, 25.59it/s]\n"
     ]
    },
    {
     "name": "stdout",
     "output_type": "stream",
     "text": [
      "cur_bump_amount: 2.153683453798294, cur_n_target_predictions: 12297\n",
      "Updated upper bound to 2.153683453798294\n"
     ]
    },
    {
     "name": "stderr",
     "output_type": "stream",
     "text": [
      "100%|█████████████████████████████████████████████████████████████████████| 274/274 [00:11<00:00, 24.01it/s]\n"
     ]
    },
    {
     "name": "stdout",
     "output_type": "stream",
     "text": [
      "cur_bump_amount: 2.1245796233415604, cur_n_target_predictions: 12223\n",
      "Updated upper bound to 2.1245796233415604\n",
      "final results: bump amount: 2.1245796233415604 n_target_predictions: 12223\n",
      "saved/edit/experiments/corresponding_bump_edits/CINIC10_ImageNet-VGG_16/0213_143741/airplane_100/results/airplane-train-n02690373_2174/felzenszwalb_gaussian_softmax\n",
      "[0214_114516] Creating corresponding logit bump for airplane-train-n04308273_5662/felzenszwalb_masked_softmax (13/158)\n",
      "target n_predictions: 12252\n",
      "Initial bounds for bump: (1.862645149230957, 2.3283064365386963)\n"
     ]
    },
    {
     "name": "stderr",
     "output_type": "stream",
     "text": [
      "100%|█████████████████████████████████████████████████████████████████████| 274/274 [00:09<00:00, 29.12it/s]\n"
     ]
    },
    {
     "name": "stdout",
     "output_type": "stream",
     "text": [
      "cur_bump_amount: 2.0954757928848267, cur_n_target_predictions: 12145\n",
      "Updated lower bound to 2.0954757928848267\n"
     ]
    },
    {
     "name": "stderr",
     "output_type": "stream",
     "text": [
      "100%|█████████████████████████████████████████████████████████████████████| 274/274 [00:09<00:00, 29.25it/s]\n"
     ]
    },
    {
     "name": "stdout",
     "output_type": "stream",
     "text": [
      "cur_bump_amount: 2.2118911147117615, cur_n_target_predictions: 12434\n",
      "Updated upper bound to 2.2118911147117615\n"
     ]
    },
    {
     "name": "stderr",
     "output_type": "stream",
     "text": [
      "100%|█████████████████████████████████████████████████████████████████████| 274/274 [00:11<00:00, 24.74it/s]\n"
     ]
    },
    {
     "name": "stdout",
     "output_type": "stream",
     "text": [
      "cur_bump_amount: 2.153683453798294, cur_n_target_predictions: 12297\n",
      "Updated upper bound to 2.153683453798294\n"
     ]
    },
    {
     "name": "stderr",
     "output_type": "stream",
     "text": [
      "100%|█████████████████████████████████████████████████████████████████████| 274/274 [00:10<00:00, 26.37it/s]\n"
     ]
    },
    {
     "name": "stdout",
     "output_type": "stream",
     "text": [
      "cur_bump_amount: 2.1245796233415604, cur_n_target_predictions: 12223\n",
      "Updated lower bound to 2.1245796233415604\n"
     ]
    },
    {
     "name": "stderr",
     "output_type": "stream",
     "text": [
      "100%|█████████████████████████████████████████████████████████████████████| 274/274 [00:13<00:00, 19.80it/s]\n"
     ]
    },
    {
     "name": "stdout",
     "output_type": "stream",
     "text": [
      "cur_bump_amount: 2.139131538569927, cur_n_target_predictions: 12257\n",
      "Updated upper bound to 2.139131538569927\n",
      "final results: bump amount: 2.139131538569927 n_target_predictions: 12257\n",
      "saved/edit/experiments/corresponding_bump_edits/CINIC10_ImageNet-VGG_16/0213_143741/airplane_100/results/airplane-train-n04308273_5662/felzenszwalb_masked_softmax\n",
      "[0214_114610] Creating corresponding logit bump for airplane-train-n03335030_28782/felzenszwalb_masked_softmax (14/158)\n",
      "target n_predictions: 31067\n",
      "Initial bounds for bump: (5.341727060681478, 5.435651928564766)\n"
     ]
    },
    {
     "name": "stderr",
     "output_type": "stream",
     "text": [
      "100%|█████████████████████████████████████████████████████████████████████| 274/274 [00:21<00:00, 12.98it/s]\n"
     ]
    },
    {
     "name": "stdout",
     "output_type": "stream",
     "text": [
      "cur_bump_amount: 5.388689494623122, cur_n_target_predictions: 31036\n",
      "Updated lower bound to 5.388689494623122\n"
     ]
    },
    {
     "name": "stderr",
     "output_type": "stream",
     "text": [
      "100%|█████████████████████████████████████████████████████████████████████| 274/274 [00:11<00:00, 23.07it/s]\n"
     ]
    },
    {
     "name": "stdout",
     "output_type": "stream",
     "text": [
      "cur_bump_amount: 5.412170711593944, cur_n_target_predictions: 31215\n",
      "Updated upper bound to 5.412170711593944\n"
     ]
    },
    {
     "name": "stderr",
     "output_type": "stream",
     "text": [
      "100%|█████████████████████████████████████████████████████████████████████| 274/274 [00:10<00:00, 26.49it/s]\n"
     ]
    },
    {
     "name": "stdout",
     "output_type": "stream",
     "text": [
      "cur_bump_amount: 5.400430103108533, cur_n_target_predictions: 31129\n",
      "Updated upper bound to 5.400430103108533\n"
     ]
    },
    {
     "name": "stderr",
     "output_type": "stream",
     "text": [
      "100%|█████████████████████████████████████████████████████████████████████| 274/274 [00:10<00:00, 26.97it/s]\n"
     ]
    },
    {
     "name": "stdout",
     "output_type": "stream",
     "text": [
      "cur_bump_amount: 5.394559798865828, cur_n_target_predictions: 31078\n",
      "Updated upper bound to 5.394559798865828\n"
     ]
    },
    {
     "name": "stderr",
     "output_type": "stream",
     "text": [
      "100%|█████████████████████████████████████████████████████████████████████| 274/274 [00:09<00:00, 29.16it/s]\n"
     ]
    },
    {
     "name": "stdout",
     "output_type": "stream",
     "text": [
      "cur_bump_amount: 5.391624646744475, cur_n_target_predictions: 31058\n",
      "Updated lower bound to 5.391624646744475\n",
      "final results: bump amount: 5.391624646744475 n_target_predictions: 31058\n",
      "saved/edit/experiments/corresponding_bump_edits/CINIC10_ImageNet-VGG_16/0213_143741/airplane_100/results/airplane-train-n03335030_28782/felzenszwalb_masked_softmax\n",
      "[0214_114714] Creating corresponding logit bump for airplane-train-n03595860_16253/felzenszwalb_masked_softmax (15/158)\n",
      "target n_predictions: 18738\n",
      "Initial bounds for bump: (3.637978807091713, 3.751665644813329)\n"
     ]
    },
    {
     "name": "stderr",
     "output_type": "stream",
     "text": [
      "100%|█████████████████████████████████████████████████████████████████████| 274/274 [00:09<00:00, 29.65it/s]\n"
     ]
    },
    {
     "name": "stdout",
     "output_type": "stream",
     "text": [
      "cur_bump_amount: 3.694822225952521, cur_n_target_predictions: 18554\n",
      "Updated lower bound to 3.694822225952521\n"
     ]
    },
    {
     "name": "stderr",
     "output_type": "stream",
     "text": [
      "100%|█████████████████████████████████████████████████████████████████████| 274/274 [00:09<00:00, 29.51it/s]\n"
     ]
    },
    {
     "name": "stdout",
     "output_type": "stream",
     "text": [
      "cur_bump_amount: 3.723243935382925, cur_n_target_predictions: 18695\n",
      "Updated lower bound to 3.723243935382925\n"
     ]
    },
    {
     "name": "stderr",
     "output_type": "stream",
     "text": [
      "100%|█████████████████████████████████████████████████████████████████████| 274/274 [00:09<00:00, 29.40it/s]\n"
     ]
    },
    {
     "name": "stdout",
     "output_type": "stream",
     "text": [
      "cur_bump_amount: 3.737454790098127, cur_n_target_predictions: 18787\n",
      "Updated upper bound to 3.737454790098127\n"
     ]
    },
    {
     "name": "stderr",
     "output_type": "stream",
     "text": [
      "100%|█████████████████████████████████████████████████████████████████████| 274/274 [00:11<00:00, 24.46it/s]\n"
     ]
    },
    {
     "name": "stdout",
     "output_type": "stream",
     "text": [
      "cur_bump_amount: 3.730349362740526, cur_n_target_predictions: 18737\n",
      "Updated lower bound to 3.730349362740526\n",
      "final results: bump amount: 3.730349362740526 n_target_predictions: 18737\n",
      "saved/edit/experiments/corresponding_bump_edits/CINIC10_ImageNet-VGG_16/0213_143741/airplane_100/results/airplane-train-n03595860_16253/felzenszwalb_masked_softmax\n",
      "[0214_114753] Creating corresponding logit bump for airplane-train-n03595860_16253/felzenszwalb_gaussian_softmax (16/158)\n",
      "target n_predictions: 10616\n",
      "Initial bounds for bump: (0.6103515625, 1.4901161193847656)\n"
     ]
    },
    {
     "name": "stderr",
     "output_type": "stream",
     "text": [
      "100%|█████████████████████████████████████████████████████████████████████| 274/274 [00:09<00:00, 28.37it/s]\n"
     ]
    },
    {
     "name": "stdout",
     "output_type": "stream",
     "text": [
      "cur_bump_amount: 1.0502338409423828, cur_n_target_predictions: 10256\n",
      "Updated lower bound to 1.0502338409423828\n"
     ]
    },
    {
     "name": "stderr",
     "output_type": "stream",
     "text": [
      "100%|█████████████████████████████████████████████████████████████████████| 274/274 [00:11<00:00, 24.61it/s]\n"
     ]
    },
    {
     "name": "stdout",
     "output_type": "stream",
     "text": [
      "cur_bump_amount: 1.2701749801635742, cur_n_target_predictions: 10566\n",
      "Updated lower bound to 1.2701749801635742\n"
     ]
    },
    {
     "name": "stderr",
     "output_type": "stream",
     "text": [
      "100%|█████████████████████████████████████████████████████████████████████| 274/274 [00:20<00:00, 13.41it/s]\n"
     ]
    },
    {
     "name": "stdout",
     "output_type": "stream",
     "text": [
      "cur_bump_amount: 1.38014554977417, cur_n_target_predictions: 10760\n",
      "Updated upper bound to 1.38014554977417\n"
     ]
    },
    {
     "name": "stderr",
     "output_type": "stream",
     "text": [
      "100%|█████████████████████████████████████████████████████████████████████| 274/274 [00:11<00:00, 24.73it/s]\n"
     ]
    },
    {
     "name": "stdout",
     "output_type": "stream",
     "text": [
      "cur_bump_amount: 1.325160264968872, cur_n_target_predictions: 10658\n",
      "Updated upper bound to 1.325160264968872\n"
     ]
    },
    {
     "name": "stderr",
     "output_type": "stream",
     "text": [
      "100%|█████████████████████████████████████████████████████████████████████| 274/274 [00:21<00:00, 13.03it/s]\n"
     ]
    },
    {
     "name": "stdout",
     "output_type": "stream",
     "text": [
      "cur_bump_amount: 1.2976676225662231, cur_n_target_predictions: 10615\n",
      "Updated lower bound to 1.2976676225662231\n",
      "final results: bump amount: 1.2976676225662231 n_target_predictions: 10615\n",
      "saved/edit/experiments/corresponding_bump_edits/CINIC10_ImageNet-VGG_16/0213_143741/airplane_100/results/airplane-train-n03595860_16253/felzenszwalb_gaussian_softmax\n",
      "[0214_114907] Creating corresponding logit bump for airplane-train-n04012084_243/felzenszwalb_masked_softmax (17/158)\n",
      "target n_predictions: 11563\n",
      "Initial bounds for bump: (1.4901161193847656, 1.862645149230957)\n"
     ]
    },
    {
     "name": "stderr",
     "output_type": "stream",
     "text": [
      "100%|█████████████████████████████████████████████████████████████████████| 274/274 [00:31<00:00,  8.65it/s]\n"
     ]
    },
    {
     "name": "stdout",
     "output_type": "stream",
     "text": [
      "cur_bump_amount: 1.6763806343078613, cur_n_target_predictions: 11282\n",
      "Updated lower bound to 1.6763806343078613\n"
     ]
    },
    {
     "name": "stderr",
     "output_type": "stream",
     "text": [
      "100%|█████████████████████████████████████████████████████████████████████| 274/274 [00:29<00:00,  9.27it/s]\n"
     ]
    },
    {
     "name": "stdout",
     "output_type": "stream",
     "text": [
      "cur_bump_amount: 1.7695128917694092, cur_n_target_predictions: 11457\n",
      "Updated lower bound to 1.7695128917694092\n"
     ]
    },
    {
     "name": "stderr",
     "output_type": "stream",
     "text": [
      "100%|█████████████████████████████████████████████████████████████████████| 274/274 [00:13<00:00, 20.99it/s]\n"
     ]
    },
    {
     "name": "stdout",
     "output_type": "stream",
     "text": [
      "cur_bump_amount: 1.816079020500183, cur_n_target_predictions: 11531\n",
      "Updated lower bound to 1.816079020500183\n"
     ]
    },
    {
     "name": "stderr",
     "output_type": "stream",
     "text": [
      "100%|█████████████████████████████████████████████████████████████████████| 274/274 [00:11<00:00, 23.24it/s]\n"
     ]
    },
    {
     "name": "stdout",
     "output_type": "stream",
     "text": [
      "cur_bump_amount: 1.83936208486557, cur_n_target_predictions: 11571\n",
      "Updated upper bound to 1.83936208486557\n",
      "final results: bump amount: 1.83936208486557 n_target_predictions: 11571\n",
      "saved/edit/experiments/corresponding_bump_edits/CINIC10_ImageNet-VGG_16/0213_143741/airplane_100/results/airplane-train-n04012084_243/felzenszwalb_masked_softmax\n",
      "[0214_115033] Creating corresponding logit bump for airplane-train-n04012084_243/felzenszwalb_gaussian_softmax (18/158)\n",
      "target n_predictions: 20144\n",
      "Initial bounds for bump: (3.865352482534945, 4.092726157978177)\n"
     ]
    },
    {
     "name": "stderr",
     "output_type": "stream",
     "text": [
      "100%|█████████████████████████████████████████████████████████████████████| 274/274 [00:09<00:00, 28.81it/s]\n"
     ]
    },
    {
     "name": "stdout",
     "output_type": "stream",
     "text": [
      "cur_bump_amount: 3.979039320256561, cur_n_target_predictions: 20307\n",
      "Updated upper bound to 3.979039320256561\n"
     ]
    },
    {
     "name": "stderr",
     "output_type": "stream",
     "text": [
      "100%|█████████████████████████████████████████████████████████████████████| 274/274 [00:09<00:00, 29.12it/s]\n"
     ]
    },
    {
     "name": "stdout",
     "output_type": "stream",
     "text": [
      "cur_bump_amount: 3.922195901395753, cur_n_target_predictions: 19975\n",
      "Updated lower bound to 3.922195901395753\n"
     ]
    },
    {
     "name": "stderr",
     "output_type": "stream",
     "text": [
      "100%|█████████████████████████████████████████████████████████████████████| 274/274 [00:10<00:00, 27.13it/s]\n"
     ]
    },
    {
     "name": "stdout",
     "output_type": "stream",
     "text": [
      "cur_bump_amount: 3.950617610826157, cur_n_target_predictions: 20144\n",
      "final results: bump amount: 3.950617610826157 n_target_predictions: 20144\n",
      "saved/edit/experiments/corresponding_bump_edits/CINIC10_ImageNet-VGG_16/0213_143741/airplane_100/results/airplane-train-n04012084_243/felzenszwalb_gaussian_softmax\n",
      "[0214_115103] Creating corresponding logit bump for airplane-train-n02691156_6774/felzenszwalb_masked_softmax (19/158)\n",
      "target n_predictions: 20371\n",
      "Initial bounds for bump: (3.865352482534945, 4.092726157978177)\n"
     ]
    },
    {
     "name": "stderr",
     "output_type": "stream",
     "text": [
      "100%|█████████████████████████████████████████████████████████████████████| 274/274 [00:09<00:00, 28.60it/s]\n"
     ]
    },
    {
     "name": "stdout",
     "output_type": "stream",
     "text": [
      "cur_bump_amount: 3.979039320256561, cur_n_target_predictions: 20307\n",
      "Updated lower bound to 3.979039320256561\n"
     ]
    },
    {
     "name": "stderr",
     "output_type": "stream",
     "text": [
      "100%|█████████████████████████████████████████████████████████████████████| 274/274 [00:10<00:00, 25.88it/s]\n"
     ]
    },
    {
     "name": "stdout",
     "output_type": "stream",
     "text": [
      "cur_bump_amount: 4.035882739117369, cur_n_target_predictions: 20673\n",
      "Updated upper bound to 4.035882739117369\n"
     ]
    },
    {
     "name": "stderr",
     "output_type": "stream",
     "text": [
      "100%|█████████████████████████████████████████████████████████████████████| 274/274 [00:09<00:00, 27.57it/s]\n"
     ]
    },
    {
     "name": "stdout",
     "output_type": "stream",
     "text": [
      "cur_bump_amount: 4.007461029686965, cur_n_target_predictions: 20495\n",
      "Updated upper bound to 4.007461029686965\n"
     ]
    },
    {
     "name": "stderr",
     "output_type": "stream",
     "text": [
      "100%|█████████████████████████████████████████████████████████████████████| 274/274 [00:08<00:00, 34.23it/s]\n"
     ]
    },
    {
     "name": "stdout",
     "output_type": "stream",
     "text": [
      "cur_bump_amount: 3.993250174971763, cur_n_target_predictions: 20409\n",
      "Updated upper bound to 3.993250174971763\n"
     ]
    },
    {
     "name": "stderr",
     "output_type": "stream",
     "text": [
      "100%|█████████████████████████████████████████████████████████████████████| 274/274 [00:10<00:00, 24.96it/s]\n"
     ]
    },
    {
     "name": "stdout",
     "output_type": "stream",
     "text": [
      "cur_bump_amount: 3.986144747614162, cur_n_target_predictions: 20360\n",
      "Updated lower bound to 3.986144747614162\n"
     ]
    },
    {
     "name": "stderr",
     "output_type": "stream",
     "text": [
      "100%|█████████████████████████████████████████████████████████████████████| 274/274 [00:10<00:00, 25.08it/s]\n"
     ]
    },
    {
     "name": "stdout",
     "output_type": "stream",
     "text": [
      "cur_bump_amount: 3.9896974612929625, cur_n_target_predictions: 20383\n",
      "Updated upper bound to 3.9896974612929625\n"
     ]
    },
    {
     "name": "stderr",
     "output_type": "stream",
     "text": [
      "100%|█████████████████████████████████████████████████████████████████████| 274/274 [00:09<00:00, 27.93it/s]\n"
     ]
    },
    {
     "name": "stdout",
     "output_type": "stream",
     "text": [
      "cur_bump_amount: 3.9879211044535623, cur_n_target_predictions: 20372\n",
      "Updated upper bound to 3.9879211044535623\n",
      "final results: bump amount: 3.9879211044535623 n_target_predictions: 20372\n",
      "saved/edit/experiments/corresponding_bump_edits/CINIC10_ImageNet-VGG_16/0213_143741/airplane_100/results/airplane-train-n02691156_6774/felzenszwalb_masked_softmax\n",
      "[0214_115213] Creating corresponding logit bump for airplane-train-n02704645_2368/felzenszwalb_masked_softmax (20/158)\n",
      "target n_predictions: 17635\n",
      "Initial bounds for bump: (3.4788172342814505, 3.637978807091713)\n"
     ]
    },
    {
     "name": "stderr",
     "output_type": "stream",
     "text": [
      "100%|█████████████████████████████████████████████████████████████████████| 274/274 [00:10<00:00, 26.36it/s]\n"
     ]
    },
    {
     "name": "stdout",
     "output_type": "stream",
     "text": [
      "cur_bump_amount: 3.5583980206865817, cur_n_target_predictions: 17773\n",
      "Updated upper bound to 3.5583980206865817\n"
     ]
    },
    {
     "name": "stderr",
     "output_type": "stream",
     "text": [
      "100%|█████████████████████████████████████████████████████████████████████| 274/274 [00:10<00:00, 27.11it/s]\n"
     ]
    },
    {
     "name": "stdout",
     "output_type": "stream",
     "text": [
      "cur_bump_amount: 3.518607627484016, cur_n_target_predictions: 17533\n",
      "Updated lower bound to 3.518607627484016\n"
     ]
    },
    {
     "name": "stderr",
     "output_type": "stream",
     "text": [
      "100%|█████████████████████████████████████████████████████████████████████| 274/274 [00:09<00:00, 29.23it/s]\n"
     ]
    },
    {
     "name": "stdout",
     "output_type": "stream",
     "text": [
      "cur_bump_amount: 3.538502824085299, cur_n_target_predictions: 17648\n",
      "Updated upper bound to 3.538502824085299\n"
     ]
    },
    {
     "name": "stderr",
     "output_type": "stream",
     "text": [
      "100%|█████████████████████████████████████████████████████████████████████| 274/274 [00:09<00:00, 28.89it/s]\n"
     ]
    },
    {
     "name": "stdout",
     "output_type": "stream",
     "text": [
      "cur_bump_amount: 3.5285552257846575, cur_n_target_predictions: 17588\n",
      "Updated lower bound to 3.5285552257846575\n"
     ]
    },
    {
     "name": "stderr",
     "output_type": "stream",
     "text": [
      "100%|█████████████████████████████████████████████████████████████████████| 274/274 [00:09<00:00, 27.58it/s]\n"
     ]
    },
    {
     "name": "stdout",
     "output_type": "stream",
     "text": [
      "cur_bump_amount: 3.5335290249349782, cur_n_target_predictions: 17624\n",
      "Updated lower bound to 3.5335290249349782\n"
     ]
    },
    {
     "name": "stderr",
     "output_type": "stream",
     "text": [
      "100%|█████████████████████████████████████████████████████████████████████| 274/274 [00:12<00:00, 22.63it/s]\n"
     ]
    },
    {
     "name": "stdout",
     "output_type": "stream",
     "text": [
      "cur_bump_amount: 3.5360159245101386, cur_n_target_predictions: 17638\n",
      "Updated upper bound to 3.5360159245101386\n",
      "final results: bump amount: 3.5360159245101386 n_target_predictions: 17638\n",
      "saved/edit/experiments/corresponding_bump_edits/CINIC10_ImageNet-VGG_16/0213_143741/airplane_100/results/airplane-train-n02704645_2368/felzenszwalb_masked_softmax\n",
      "[0214_115315] Creating corresponding logit bump for airplane-train-n02704645_2368/felzenszwalb_gaussian_softmax (21/158)\n",
      "target n_predictions: 17330\n",
      "Initial bounds for bump: (3.4788172342814505, 3.637978807091713)\n"
     ]
    },
    {
     "name": "stderr",
     "output_type": "stream",
     "text": [
      "100%|█████████████████████████████████████████████████████████████████████| 274/274 [00:13<00:00, 19.99it/s]\n"
     ]
    },
    {
     "name": "stdout",
     "output_type": "stream",
     "text": [
      "cur_bump_amount: 3.5583980206865817, cur_n_target_predictions: 17773\n",
      "Updated upper bound to 3.5583980206865817\n"
     ]
    },
    {
     "name": "stderr",
     "output_type": "stream",
     "text": [
      "100%|█████████████████████████████████████████████████████████████████████| 274/274 [00:10<00:00, 26.95it/s]\n"
     ]
    },
    {
     "name": "stdout",
     "output_type": "stream",
     "text": [
      "cur_bump_amount: 3.518607627484016, cur_n_target_predictions: 17533\n",
      "Updated upper bound to 3.518607627484016\n"
     ]
    },
    {
     "name": "stderr",
     "output_type": "stream",
     "text": [
      "100%|█████████████████████████████████████████████████████████████████████| 274/274 [00:09<00:00, 28.77it/s]\n"
     ]
    },
    {
     "name": "stdout",
     "output_type": "stream",
     "text": [
      "cur_bump_amount: 3.4987124308827333, cur_n_target_predictions: 17418\n",
      "Updated upper bound to 3.4987124308827333\n"
     ]
    },
    {
     "name": "stderr",
     "output_type": "stream",
     "text": [
      "100%|█████████████████████████████████████████████████████████████████████| 274/274 [00:10<00:00, 25.54it/s]\n"
     ]
    },
    {
     "name": "stdout",
     "output_type": "stream",
     "text": [
      "cur_bump_amount: 3.488764832582092, cur_n_target_predictions: 17375\n",
      "Updated upper bound to 3.488764832582092\n"
     ]
    },
    {
     "name": "stderr",
     "output_type": "stream",
     "text": [
      "100%|█████████████████████████████████████████████████████████████████████| 274/274 [00:11<00:00, 24.16it/s]\n"
     ]
    },
    {
     "name": "stdout",
     "output_type": "stream",
     "text": [
      "cur_bump_amount: 3.483791033431771, cur_n_target_predictions: 17355\n",
      "Updated upper bound to 3.483791033431771\n"
     ]
    },
    {
     "name": "stderr",
     "output_type": "stream",
     "text": [
      "100%|█████████████████████████████████████████████████████████████████████| 274/274 [00:17<00:00, 15.56it/s]\n"
     ]
    },
    {
     "name": "stdout",
     "output_type": "stream",
     "text": [
      "cur_bump_amount: 3.481304133856611, cur_n_target_predictions: 17336\n",
      "Updated upper bound to 3.481304133856611\n",
      "final results: bump amount: 3.481304133856611 n_target_predictions: 17336\n",
      "saved/edit/experiments/corresponding_bump_edits/CINIC10_ImageNet-VGG_16/0213_143741/airplane_100/results/airplane-train-n02704645_2368/felzenszwalb_gaussian_softmax\n",
      "[0214_115428] Creating corresponding logit bump for airplane-train-n03365231_5956/felzenszwalb_masked_softmax (22/158)\n",
      "target n_predictions: 17357\n",
      "Initial bounds for bump: (3.4788172342814505, 3.637978807091713)\n"
     ]
    },
    {
     "name": "stderr",
     "output_type": "stream",
     "text": [
      "100%|█████████████████████████████████████████████████████████████████████| 274/274 [00:27<00:00, 10.00it/s]\n"
     ]
    },
    {
     "name": "stdout",
     "output_type": "stream",
     "text": [
      "cur_bump_amount: 3.5583980206865817, cur_n_target_predictions: 17773\n",
      "Updated upper bound to 3.5583980206865817\n"
     ]
    },
    {
     "name": "stderr",
     "output_type": "stream",
     "text": [
      "100%|█████████████████████████████████████████████████████████████████████| 274/274 [00:20<00:00, 13.06it/s]\n"
     ]
    },
    {
     "name": "stdout",
     "output_type": "stream",
     "text": [
      "cur_bump_amount: 3.518607627484016, cur_n_target_predictions: 17533\n",
      "Updated upper bound to 3.518607627484016\n"
     ]
    },
    {
     "name": "stderr",
     "output_type": "stream",
     "text": [
      "100%|█████████████████████████████████████████████████████████████████████| 274/274 [00:38<00:00,  7.07it/s]\n"
     ]
    },
    {
     "name": "stdout",
     "output_type": "stream",
     "text": [
      "cur_bump_amount: 3.4987124308827333, cur_n_target_predictions: 17418\n",
      "Updated upper bound to 3.4987124308827333\n"
     ]
    },
    {
     "name": "stderr",
     "output_type": "stream",
     "text": [
      "100%|█████████████████████████████████████████████████████████████████████| 274/274 [00:14<00:00, 19.47it/s]\n"
     ]
    },
    {
     "name": "stdout",
     "output_type": "stream",
     "text": [
      "cur_bump_amount: 3.488764832582092, cur_n_target_predictions: 17375\n",
      "Updated upper bound to 3.488764832582092\n"
     ]
    },
    {
     "name": "stderr",
     "output_type": "stream",
     "text": [
      "100%|█████████████████████████████████████████████████████████████████████| 274/274 [00:12<00:00, 22.82it/s]\n"
     ]
    },
    {
     "name": "stdout",
     "output_type": "stream",
     "text": [
      "cur_bump_amount: 3.483791033431771, cur_n_target_predictions: 17355\n",
      "Updated lower bound to 3.483791033431771\n",
      "final results: bump amount: 3.483791033431771 n_target_predictions: 17355\n",
      "saved/edit/experiments/corresponding_bump_edits/CINIC10_ImageNet-VGG_16/0213_143741/airplane_100/results/airplane-train-n03365231_5956/felzenszwalb_masked_softmax\n",
      "[0214_115622] Creating corresponding logit bump for airplane-train-n03595860_2078/felzenszwalb_masked_softmax (23/158)\n",
      "target n_predictions: 19667\n",
      "Initial bounds for bump: (3.865352482534945, 4.092726157978177)\n"
     ]
    },
    {
     "name": "stderr",
     "output_type": "stream",
     "text": [
      "100%|█████████████████████████████████████████████████████████████████████| 274/274 [00:11<00:00, 23.56it/s]\n"
     ]
    },
    {
     "name": "stdout",
     "output_type": "stream",
     "text": [
      "cur_bump_amount: 3.979039320256561, cur_n_target_predictions: 20307\n",
      "Updated upper bound to 3.979039320256561\n"
     ]
    },
    {
     "name": "stderr",
     "output_type": "stream",
     "text": [
      "100%|█████████████████████████████████████████████████████████████████████| 274/274 [00:22<00:00, 12.24it/s]\n"
     ]
    },
    {
     "name": "stdout",
     "output_type": "stream",
     "text": [
      "cur_bump_amount: 3.922195901395753, cur_n_target_predictions: 19975\n",
      "Updated upper bound to 3.922195901395753\n"
     ]
    },
    {
     "name": "stderr",
     "output_type": "stream",
     "text": [
      "100%|█████████████████████████████████████████████████████████████████████| 274/274 [00:14<00:00, 18.82it/s]\n"
     ]
    },
    {
     "name": "stdout",
     "output_type": "stream",
     "text": [
      "cur_bump_amount: 3.893774191965349, cur_n_target_predictions: 19787\n",
      "Updated upper bound to 3.893774191965349\n"
     ]
    },
    {
     "name": "stderr",
     "output_type": "stream",
     "text": [
      "100%|█████████████████████████████████████████████████████████████████████| 274/274 [00:12<00:00, 22.80it/s]\n"
     ]
    },
    {
     "name": "stdout",
     "output_type": "stream",
     "text": [
      "cur_bump_amount: 3.879563337250147, cur_n_target_predictions: 19685\n",
      "Updated upper bound to 3.879563337250147\n"
     ]
    },
    {
     "name": "stderr",
     "output_type": "stream",
     "text": [
      "100%|█████████████████████████████████████████████████████████████████████| 274/274 [00:09<00:00, 27.88it/s]\n"
     ]
    },
    {
     "name": "stdout",
     "output_type": "stream",
     "text": [
      "cur_bump_amount: 3.872457909892546, cur_n_target_predictions: 19627\n",
      "Updated lower bound to 3.872457909892546\n"
     ]
    },
    {
     "name": "stderr",
     "output_type": "stream",
     "text": [
      "100%|█████████████████████████████████████████████████████████████████████| 274/274 [00:20<00:00, 13.05it/s]\n"
     ]
    },
    {
     "name": "stdout",
     "output_type": "stream",
     "text": [
      "cur_bump_amount: 3.8760106235713465, cur_n_target_predictions: 19658\n",
      "Updated lower bound to 3.8760106235713465\n",
      "final results: bump amount: 3.8760106235713465 n_target_predictions: 19658\n",
      "saved/edit/experiments/corresponding_bump_edits/CINIC10_ImageNet-VGG_16/0213_143741/airplane_100/results/airplane-train-n03595860_2078/felzenszwalb_masked_softmax\n",
      "[0214_115754] Creating corresponding logit bump for airplane-train-n04308273_4722/felzenszwalb_masked_softmax (24/158)\n",
      "target n_predictions: 20931\n",
      "Initial bounds for bump: (3.865352482534945, 4.092726157978177)\n"
     ]
    },
    {
     "name": "stderr",
     "output_type": "stream",
     "text": [
      "100%|█████████████████████████████████████████████████████████████████████| 274/274 [00:21<00:00, 12.87it/s]\n"
     ]
    },
    {
     "name": "stdout",
     "output_type": "stream",
     "text": [
      "cur_bump_amount: 3.979039320256561, cur_n_target_predictions: 20307\n",
      "Updated lower bound to 3.979039320256561\n"
     ]
    },
    {
     "name": "stderr",
     "output_type": "stream",
     "text": [
      "100%|█████████████████████████████████████████████████████████████████████| 274/274 [00:27<00:00,  9.92it/s]\n"
     ]
    },
    {
     "name": "stdout",
     "output_type": "stream",
     "text": [
      "cur_bump_amount: 4.035882739117369, cur_n_target_predictions: 20673\n",
      "Updated lower bound to 4.035882739117369\n"
     ]
    },
    {
     "name": "stderr",
     "output_type": "stream",
     "text": [
      "100%|█████████████████████████████████████████████████████████████████████| 274/274 [00:21<00:00, 12.80it/s]\n"
     ]
    },
    {
     "name": "stdout",
     "output_type": "stream",
     "text": [
      "cur_bump_amount: 4.064304448547773, cur_n_target_predictions: 20881\n",
      "Updated lower bound to 4.064304448547773\n"
     ]
    },
    {
     "name": "stderr",
     "output_type": "stream",
     "text": [
      "100%|█████████████████████████████████████████████████████████████████████| 274/274 [00:25<00:00, 10.64it/s]\n"
     ]
    },
    {
     "name": "stdout",
     "output_type": "stream",
     "text": [
      "cur_bump_amount: 4.078515303262975, cur_n_target_predictions: 20981\n",
      "Updated upper bound to 4.078515303262975\n"
     ]
    },
    {
     "name": "stderr",
     "output_type": "stream",
     "text": [
      "100%|█████████████████████████████████████████████████████████████████████| 274/274 [00:24<00:00, 11.38it/s]\n"
     ]
    },
    {
     "name": "stdout",
     "output_type": "stream",
     "text": [
      "cur_bump_amount: 4.071409875905374, cur_n_target_predictions: 20918\n",
      "Updated lower bound to 4.071409875905374\n"
     ]
    },
    {
     "name": "stderr",
     "output_type": "stream",
     "text": [
      "100%|█████████████████████████████████████████████████████████████████████| 274/274 [00:14<00:00, 19.18it/s]\n"
     ]
    },
    {
     "name": "stdout",
     "output_type": "stream",
     "text": [
      "cur_bump_amount: 4.074962589584175, cur_n_target_predictions: 20953\n",
      "Updated upper bound to 4.074962589584175\n"
     ]
    },
    {
     "name": "stderr",
     "output_type": "stream",
     "text": [
      "100%|█████████████████████████████████████████████████████████████████████| 274/274 [00:15<00:00, 17.15it/s]\n"
     ]
    },
    {
     "name": "stdout",
     "output_type": "stream",
     "text": [
      "cur_bump_amount: 4.073186232744774, cur_n_target_predictions: 20937\n",
      "Updated upper bound to 4.073186232744774\n",
      "final results: bump amount: 4.073186232744774 n_target_predictions: 20937\n",
      "saved/edit/experiments/corresponding_bump_edits/CINIC10_ImageNet-VGG_16/0213_143741/airplane_100/results/airplane-train-n04308273_4722/felzenszwalb_masked_softmax\n",
      "[0214_120025] Creating corresponding logit bump for airplane-train-n04308273_4722/felzenszwalb_gaussian_softmax (25/158)\n",
      "target n_predictions: 13000\n",
      "Initial bounds for bump: (2.3283064365386963, 2.6193447411060333)\n"
     ]
    },
    {
     "name": "stderr",
     "output_type": "stream",
     "text": [
      "100%|█████████████████████████████████████████████████████████████████████| 274/274 [00:11<00:00, 24.02it/s]\n"
     ]
    },
    {
     "name": "stdout",
     "output_type": "stream",
     "text": [
      "cur_bump_amount: 2.473825588822365, cur_n_target_predictions: 13150\n",
      "Updated upper bound to 2.473825588822365\n"
     ]
    },
    {
     "name": "stderr",
     "output_type": "stream",
     "text": [
      "100%|█████████████████████████████████████████████████████████████████████| 274/274 [00:10<00:00, 26.85it/s]\n"
     ]
    },
    {
     "name": "stdout",
     "output_type": "stream",
     "text": [
      "cur_bump_amount: 2.4010660126805305, cur_n_target_predictions: 12951\n",
      "Updated lower bound to 2.4010660126805305\n"
     ]
    },
    {
     "name": "stderr",
     "output_type": "stream",
     "text": [
      "100%|█████████████████████████████████████████████████████████████████████| 274/274 [00:14<00:00, 18.38it/s]\n"
     ]
    },
    {
     "name": "stdout",
     "output_type": "stream",
     "text": [
      "cur_bump_amount: 2.4374458007514477, cur_n_target_predictions: 13036\n",
      "Updated upper bound to 2.4374458007514477\n"
     ]
    },
    {
     "name": "stderr",
     "output_type": "stream",
     "text": [
      "100%|█████████████████████████████████████████████████████████████████████| 274/274 [00:14<00:00, 18.46it/s]\n"
     ]
    },
    {
     "name": "stdout",
     "output_type": "stream",
     "text": [
      "cur_bump_amount: 2.419255906715989, cur_n_target_predictions: 12995\n",
      "Updated lower bound to 2.419255906715989\n",
      "final results: bump amount: 2.419255906715989 n_target_predictions: 12995\n",
      "saved/edit/experiments/corresponding_bump_edits/CINIC10_ImageNet-VGG_16/0213_143741/airplane_100/results/airplane-train-n04308273_4722/felzenszwalb_gaussian_softmax\n",
      "[0214_120117] Creating corresponding logit bump for airplane-train-n02842573_1168/felzenszwalb_masked_softmax (26/158)\n",
      "target n_predictions: 22362\n",
      "Initial bounds for bump: (4.220623850414995, 4.348521542851813)\n"
     ]
    },
    {
     "name": "stderr",
     "output_type": "stream",
     "text": [
      "100%|█████████████████████████████████████████████████████████████████████| 274/274 [00:12<00:00, 22.45it/s]\n"
     ]
    },
    {
     "name": "stdout",
     "output_type": "stream",
     "text": [
      "cur_bump_amount: 4.284572696633404, cur_n_target_predictions: 22406\n",
      "Updated upper bound to 4.284572696633404\n"
     ]
    },
    {
     "name": "stderr",
     "output_type": "stream",
     "text": [
      "100%|█████████████████████████████████████████████████████████████████████| 274/274 [00:11<00:00, 23.93it/s]\n"
     ]
    },
    {
     "name": "stdout",
     "output_type": "stream",
     "text": [
      "cur_bump_amount: 4.2525982735242, cur_n_target_predictions: 22178\n",
      "Updated lower bound to 4.2525982735242\n"
     ]
    },
    {
     "name": "stderr",
     "output_type": "stream",
     "text": [
      "100%|█████████████████████████████████████████████████████████████████████| 274/274 [00:13<00:00, 21.01it/s]\n"
     ]
    },
    {
     "name": "stdout",
     "output_type": "stream",
     "text": [
      "cur_bump_amount: 4.268585485078802, cur_n_target_predictions: 22286\n",
      "Updated lower bound to 4.268585485078802\n"
     ]
    },
    {
     "name": "stderr",
     "output_type": "stream",
     "text": [
      "100%|█████████████████████████████████████████████████████████████████████| 274/274 [00:09<00:00, 29.16it/s]\n"
     ]
    },
    {
     "name": "stdout",
     "output_type": "stream",
     "text": [
      "cur_bump_amount: 4.276579090856103, cur_n_target_predictions: 22347\n",
      "Updated lower bound to 4.276579090856103\n"
     ]
    },
    {
     "name": "stderr",
     "output_type": "stream",
     "text": [
      "100%|█████████████████████████████████████████████████████████████████████| 274/274 [00:10<00:00, 26.60it/s]\n"
     ]
    },
    {
     "name": "stdout",
     "output_type": "stream",
     "text": [
      "cur_bump_amount: 4.280575893744754, cur_n_target_predictions: 22379\n",
      "Updated upper bound to 4.280575893744754\n"
     ]
    },
    {
     "name": "stderr",
     "output_type": "stream",
     "text": [
      "100%|█████████████████████████████████████████████████████████████████████| 274/274 [00:09<00:00, 29.13it/s]\n"
     ]
    },
    {
     "name": "stdout",
     "output_type": "stream",
     "text": [
      "cur_bump_amount: 4.278577492300428, cur_n_target_predictions: 22363\n",
      "Updated upper bound to 4.278577492300428\n",
      "final results: bump amount: 4.278577492300428 n_target_predictions: 22363\n",
      "saved/edit/experiments/corresponding_bump_edits/CINIC10_ImageNet-VGG_16/0213_143741/airplane_100/results/airplane-train-n02842573_1168/felzenszwalb_masked_softmax\n",
      "[0214_120223] Creating corresponding logit bump for airplane-train-n04160586_1972/felzenszwalb_masked_softmax (27/158)\n",
      "target n_predictions: 19198\n",
      "Initial bounds for bump: (3.751665644813329, 3.865352482534945)\n"
     ]
    },
    {
     "name": "stderr",
     "output_type": "stream",
     "text": [
      "100%|█████████████████████████████████████████████████████████████████████| 274/274 [00:09<00:00, 29.20it/s]\n"
     ]
    },
    {
     "name": "stdout",
     "output_type": "stream",
     "text": [
      "cur_bump_amount: 3.808509063674137, cur_n_target_predictions: 19215\n",
      "Updated upper bound to 3.808509063674137\n"
     ]
    },
    {
     "name": "stderr",
     "output_type": "stream",
     "text": [
      "100%|█████████████████████████████████████████████████████████████████████| 274/274 [00:09<00:00, 29.97it/s]\n"
     ]
    },
    {
     "name": "stdout",
     "output_type": "stream",
     "text": [
      "cur_bump_amount: 3.780087354243733, cur_n_target_predictions: 19042\n",
      "Updated lower bound to 3.780087354243733\n"
     ]
    },
    {
     "name": "stderr",
     "output_type": "stream",
     "text": [
      "100%|█████████████████████████████████████████████████████████████████████| 274/274 [00:09<00:00, 27.91it/s]\n"
     ]
    },
    {
     "name": "stdout",
     "output_type": "stream",
     "text": [
      "cur_bump_amount: 3.794298208958935, cur_n_target_predictions: 19140\n",
      "Updated lower bound to 3.794298208958935\n"
     ]
    },
    {
     "name": "stderr",
     "output_type": "stream",
     "text": [
      "100%|█████████████████████████████████████████████████████████████████████| 274/274 [00:09<00:00, 29.84it/s]\n"
     ]
    },
    {
     "name": "stdout",
     "output_type": "stream",
     "text": [
      "cur_bump_amount: 3.801403636316536, cur_n_target_predictions: 19173\n",
      "Updated lower bound to 3.801403636316536\n"
     ]
    },
    {
     "name": "stderr",
     "output_type": "stream",
     "text": [
      "100%|█████████████████████████████████████████████████████████████████████| 274/274 [00:10<00:00, 25.73it/s]\n"
     ]
    },
    {
     "name": "stdout",
     "output_type": "stream",
     "text": [
      "cur_bump_amount: 3.8049563499953365, cur_n_target_predictions: 19196\n",
      "Updated lower bound to 3.8049563499953365\n",
      "final results: bump amount: 3.8049563499953365 n_target_predictions: 19196\n",
      "saved/edit/experiments/corresponding_bump_edits/CINIC10_ImageNet-VGG_16/0213_143741/airplane_100/results/airplane-train-n04160586_1972/felzenszwalb_masked_softmax\n",
      "[0214_120312] Creating corresponding logit bump for airplane-train-n04222723_8439/felzenszwalb_masked_softmax (28/158)\n",
      "target n_predictions: 10640\n",
      "Initial bounds for bump: (0.6103515625, 1.4901161193847656)\n"
     ]
    },
    {
     "name": "stderr",
     "output_type": "stream",
     "text": [
      "100%|█████████████████████████████████████████████████████████████████████| 274/274 [00:08<00:00, 32.10it/s]\n"
     ]
    },
    {
     "name": "stdout",
     "output_type": "stream",
     "text": [
      "cur_bump_amount: 1.0502338409423828, cur_n_target_predictions: 10256\n",
      "Updated lower bound to 1.0502338409423828\n"
     ]
    },
    {
     "name": "stderr",
     "output_type": "stream",
     "text": [
      "100%|█████████████████████████████████████████████████████████████████████| 274/274 [00:09<00:00, 28.85it/s]\n"
     ]
    },
    {
     "name": "stdout",
     "output_type": "stream",
     "text": [
      "cur_bump_amount: 1.2701749801635742, cur_n_target_predictions: 10566\n",
      "Updated lower bound to 1.2701749801635742\n"
     ]
    },
    {
     "name": "stderr",
     "output_type": "stream",
     "text": [
      "100%|█████████████████████████████████████████████████████████████████████| 274/274 [00:10<00:00, 26.48it/s]\n"
     ]
    },
    {
     "name": "stdout",
     "output_type": "stream",
     "text": [
      "cur_bump_amount: 1.38014554977417, cur_n_target_predictions: 10760\n",
      "Updated upper bound to 1.38014554977417\n"
     ]
    },
    {
     "name": "stderr",
     "output_type": "stream",
     "text": [
      "100%|█████████████████████████████████████████████████████████████████████| 274/274 [00:09<00:00, 28.75it/s]\n"
     ]
    },
    {
     "name": "stdout",
     "output_type": "stream",
     "text": [
      "cur_bump_amount: 1.325160264968872, cur_n_target_predictions: 10658\n",
      "Updated upper bound to 1.325160264968872\n"
     ]
    },
    {
     "name": "stderr",
     "output_type": "stream",
     "text": [
      "100%|█████████████████████████████████████████████████████████████████████| 274/274 [00:09<00:00, 29.76it/s]\n"
     ]
    },
    {
     "name": "stdout",
     "output_type": "stream",
     "text": [
      "cur_bump_amount: 1.2976676225662231, cur_n_target_predictions: 10615\n",
      "Updated lower bound to 1.2976676225662231\n"
     ]
    },
    {
     "name": "stderr",
     "output_type": "stream",
     "text": [
      "100%|█████████████████████████████████████████████████████████████████████| 274/274 [00:09<00:00, 29.81it/s]\n"
     ]
    },
    {
     "name": "stdout",
     "output_type": "stream",
     "text": [
      "cur_bump_amount: 1.3114139437675476, cur_n_target_predictions: 10641\n",
      "Updated upper bound to 1.3114139437675476\n",
      "final results: bump amount: 1.3114139437675476 n_target_predictions: 10641\n",
      "saved/edit/experiments/corresponding_bump_edits/CINIC10_ImageNet-VGG_16/0213_143741/airplane_100/results/airplane-train-n04222723_8439/felzenszwalb_masked_softmax\n",
      "[0214_120409] Creating corresponding logit bump for airplane-train-n04222723_8439/felzenszwalb_gaussian_softmax (29/158)\n",
      "target n_predictions: 10438\n",
      "Initial bounds for bump: (0.6103515625, 1.4901161193847656)\n"
     ]
    },
    {
     "name": "stderr",
     "output_type": "stream",
     "text": [
      "100%|█████████████████████████████████████████████████████████████████████| 274/274 [00:08<00:00, 30.46it/s]\n"
     ]
    },
    {
     "name": "stdout",
     "output_type": "stream",
     "text": [
      "cur_bump_amount: 1.0502338409423828, cur_n_target_predictions: 10256\n",
      "Updated lower bound to 1.0502338409423828\n"
     ]
    },
    {
     "name": "stderr",
     "output_type": "stream",
     "text": [
      "100%|█████████████████████████████████████████████████████████████████████| 274/274 [00:09<00:00, 30.05it/s]\n"
     ]
    },
    {
     "name": "stdout",
     "output_type": "stream",
     "text": [
      "cur_bump_amount: 1.2701749801635742, cur_n_target_predictions: 10566\n",
      "Updated upper bound to 1.2701749801635742\n"
     ]
    },
    {
     "name": "stderr",
     "output_type": "stream",
     "text": [
      "100%|█████████████████████████████████████████████████████████████████████| 274/274 [00:09<00:00, 29.80it/s]\n"
     ]
    },
    {
     "name": "stdout",
     "output_type": "stream",
     "text": [
      "cur_bump_amount: 1.1602044105529785, cur_n_target_predictions: 10399\n",
      "Updated lower bound to 1.1602044105529785\n"
     ]
    },
    {
     "name": "stderr",
     "output_type": "stream",
     "text": [
      "100%|█████████████████████████████████████████████████████████████████████| 274/274 [00:10<00:00, 25.80it/s]\n"
     ]
    },
    {
     "name": "stdout",
     "output_type": "stream",
     "text": [
      "cur_bump_amount: 1.2151896953582764, cur_n_target_predictions: 10475\n",
      "Updated upper bound to 1.2151896953582764\n"
     ]
    },
    {
     "name": "stderr",
     "output_type": "stream",
     "text": [
      "100%|█████████████████████████████████████████████████████████████████████| 274/274 [00:08<00:00, 32.41it/s]\n"
     ]
    },
    {
     "name": "stdout",
     "output_type": "stream",
     "text": [
      "cur_bump_amount: 1.1876970529556274, cur_n_target_predictions: 10435\n",
      "Updated lower bound to 1.1876970529556274\n",
      "final results: bump amount: 1.1876970529556274 n_target_predictions: 10435\n",
      "saved/edit/experiments/corresponding_bump_edits/CINIC10_ImageNet-VGG_16/0213_143741/airplane_100/results/airplane-train-n04222723_8439/felzenszwalb_gaussian_softmax\n",
      "[0214_120455] Creating corresponding logit bump for airplane-train-n02842573_6124/felzenszwalb_masked_softmax (30/158)\n",
      "target n_predictions: 14739\n",
      "Initial bounds for bump: (2.9103830456733704, 3.092281986027956)\n"
     ]
    },
    {
     "name": "stderr",
     "output_type": "stream",
     "text": [
      "100%|█████████████████████████████████████████████████████████████████████| 274/274 [00:09<00:00, 29.03it/s]\n"
     ]
    },
    {
     "name": "stdout",
     "output_type": "stream",
     "text": [
      "cur_bump_amount: 3.001332515850663, cur_n_target_predictions: 15061\n",
      "Updated upper bound to 3.001332515850663\n"
     ]
    },
    {
     "name": "stderr",
     "output_type": "stream",
     "text": [
      "100%|█████████████████████████████████████████████████████████████████████| 274/274 [00:09<00:00, 28.83it/s]\n"
     ]
    },
    {
     "name": "stdout",
     "output_type": "stream",
     "text": [
      "cur_bump_amount: 2.9558577807620168, cur_n_target_predictions: 14865\n",
      "Updated upper bound to 2.9558577807620168\n"
     ]
    },
    {
     "name": "stderr",
     "output_type": "stream",
     "text": [
      "100%|█████████████████████████████████████████████████████████████████████| 274/274 [00:09<00:00, 30.06it/s]\n"
     ]
    },
    {
     "name": "stdout",
     "output_type": "stream",
     "text": [
      "cur_bump_amount: 2.9331204132176936, cur_n_target_predictions: 14785\n",
      "Updated upper bound to 2.9331204132176936\n"
     ]
    },
    {
     "name": "stderr",
     "output_type": "stream",
     "text": [
      "100%|█████████████████████████████████████████████████████████████████████| 274/274 [00:09<00:00, 29.37it/s]\n"
     ]
    },
    {
     "name": "stdout",
     "output_type": "stream",
     "text": [
      "cur_bump_amount: 2.921751729445532, cur_n_target_predictions: 14745\n",
      "Updated upper bound to 2.921751729445532\n",
      "final results: bump amount: 2.921751729445532 n_target_predictions: 14745\n",
      "saved/edit/experiments/corresponding_bump_edits/CINIC10_ImageNet-VGG_16/0213_143741/airplane_100/results/airplane-train-n02842573_6124/felzenszwalb_masked_softmax\n",
      "[0214_120533] Creating corresponding logit bump for airplane-train-n02842573_6124/felzenszwalb_gaussian_softmax (31/158)\n",
      "target n_predictions: 18285\n",
      "Initial bounds for bump: (3.637978807091713, 3.751665644813329)\n"
     ]
    },
    {
     "name": "stderr",
     "output_type": "stream",
     "text": [
      "100%|█████████████████████████████████████████████████████████████████████| 274/274 [00:08<00:00, 30.71it/s]\n"
     ]
    },
    {
     "name": "stdout",
     "output_type": "stream",
     "text": [
      "cur_bump_amount: 3.694822225952521, cur_n_target_predictions: 18554\n",
      "Updated upper bound to 3.694822225952521\n"
     ]
    },
    {
     "name": "stderr",
     "output_type": "stream",
     "text": [
      "100%|█████████████████████████████████████████████████████████████████████| 274/274 [00:09<00:00, 29.24it/s]\n"
     ]
    },
    {
     "name": "stdout",
     "output_type": "stream",
     "text": [
      "cur_bump_amount: 3.666400516522117, cur_n_target_predictions: 18395\n",
      "Updated upper bound to 3.666400516522117\n"
     ]
    },
    {
     "name": "stderr",
     "output_type": "stream",
     "text": [
      "100%|█████████████████████████████████████████████████████████████████████| 274/274 [00:09<00:00, 29.50it/s]\n"
     ]
    },
    {
     "name": "stdout",
     "output_type": "stream",
     "text": [
      "cur_bump_amount: 3.652189661806915, cur_n_target_predictions: 18323\n",
      "Updated upper bound to 3.652189661806915\n"
     ]
    },
    {
     "name": "stderr",
     "output_type": "stream",
     "text": [
      "100%|█████████████████████████████████████████████████████████████████████| 274/274 [00:09<00:00, 28.90it/s]\n"
     ]
    },
    {
     "name": "stdout",
     "output_type": "stream",
     "text": [
      "cur_bump_amount: 3.645084234449314, cur_n_target_predictions: 18288\n",
      "Updated upper bound to 3.645084234449314\n",
      "final results: bump amount: 3.645084234449314 n_target_predictions: 18288\n",
      "saved/edit/experiments/corresponding_bump_edits/CINIC10_ImageNet-VGG_16/0213_143741/airplane_100/results/airplane-train-n02842573_6124/felzenszwalb_gaussian_softmax\n",
      "[0214_120611] Creating corresponding logit bump for airplane-train-n03577672_10632/felzenszwalb_masked_softmax (32/158)\n",
      "target n_predictions: 20473\n",
      "Initial bounds for bump: (3.865352482534945, 4.092726157978177)\n"
     ]
    },
    {
     "name": "stderr",
     "output_type": "stream",
     "text": [
      "100%|█████████████████████████████████████████████████████████████████████| 274/274 [00:10<00:00, 25.95it/s]\n"
     ]
    },
    {
     "name": "stdout",
     "output_type": "stream",
     "text": [
      "cur_bump_amount: 3.979039320256561, cur_n_target_predictions: 20307\n",
      "Updated lower bound to 3.979039320256561\n"
     ]
    },
    {
     "name": "stderr",
     "output_type": "stream",
     "text": [
      "100%|█████████████████████████████████████████████████████████████████████| 274/274 [00:09<00:00, 27.87it/s]\n"
     ]
    },
    {
     "name": "stdout",
     "output_type": "stream",
     "text": [
      "cur_bump_amount: 4.035882739117369, cur_n_target_predictions: 20673\n",
      "Updated upper bound to 4.035882739117369\n"
     ]
    },
    {
     "name": "stderr",
     "output_type": "stream",
     "text": [
      "100%|█████████████████████████████████████████████████████████████████████| 274/274 [00:09<00:00, 28.46it/s]\n"
     ]
    },
    {
     "name": "stdout",
     "output_type": "stream",
     "text": [
      "cur_bump_amount: 4.007461029686965, cur_n_target_predictions: 20495\n",
      "Updated upper bound to 4.007461029686965\n"
     ]
    },
    {
     "name": "stderr",
     "output_type": "stream",
     "text": [
      "100%|█████████████████████████████████████████████████████████████████████| 274/274 [00:09<00:00, 27.56it/s]\n"
     ]
    },
    {
     "name": "stdout",
     "output_type": "stream",
     "text": [
      "cur_bump_amount: 3.993250174971763, cur_n_target_predictions: 20409\n",
      "Updated lower bound to 3.993250174971763\n"
     ]
    },
    {
     "name": "stderr",
     "output_type": "stream",
     "text": [
      "100%|█████████████████████████████████████████████████████████████████████| 274/274 [00:10<00:00, 26.35it/s]\n"
     ]
    },
    {
     "name": "stdout",
     "output_type": "stream",
     "text": [
      "cur_bump_amount: 4.000355602329364, cur_n_target_predictions: 20452\n",
      "Updated lower bound to 4.000355602329364\n"
     ]
    },
    {
     "name": "stderr",
     "output_type": "stream",
     "text": [
      "100%|█████████████████████████████████████████████████████████████████████| 274/274 [00:09<00:00, 28.21it/s]\n"
     ]
    },
    {
     "name": "stdout",
     "output_type": "stream",
     "text": [
      "cur_bump_amount: 4.0039083160081645, cur_n_target_predictions: 20472\n",
      "Updated lower bound to 4.0039083160081645\n",
      "final results: bump amount: 4.0039083160081645 n_target_predictions: 20472\n",
      "saved/edit/experiments/corresponding_bump_edits/CINIC10_ImageNet-VGG_16/0213_143741/airplane_100/results/airplane-train-n03577672_10632/felzenszwalb_masked_softmax\n",
      "[0214_120712] Creating corresponding logit bump for airplane-train-n03577672_10632/felzenszwalb_gaussian_softmax (33/158)\n",
      "target n_predictions: 10554\n",
      "Initial bounds for bump: (0.6103515625, 1.4901161193847656)\n"
     ]
    },
    {
     "name": "stderr",
     "output_type": "stream",
     "text": [
      "100%|█████████████████████████████████████████████████████████████████████| 274/274 [00:09<00:00, 29.98it/s]\n"
     ]
    },
    {
     "name": "stdout",
     "output_type": "stream",
     "text": [
      "cur_bump_amount: 1.0502338409423828, cur_n_target_predictions: 10256\n",
      "Updated lower bound to 1.0502338409423828\n"
     ]
    },
    {
     "name": "stderr",
     "output_type": "stream",
     "text": [
      "100%|█████████████████████████████████████████████████████████████████████| 274/274 [00:09<00:00, 29.40it/s]\n"
     ]
    },
    {
     "name": "stdout",
     "output_type": "stream",
     "text": [
      "cur_bump_amount: 1.2701749801635742, cur_n_target_predictions: 10566\n",
      "Updated upper bound to 1.2701749801635742\n"
     ]
    },
    {
     "name": "stderr",
     "output_type": "stream",
     "text": [
      "100%|█████████████████████████████████████████████████████████████████████| 274/274 [00:11<00:00, 24.59it/s]\n"
     ]
    },
    {
     "name": "stdout",
     "output_type": "stream",
     "text": [
      "cur_bump_amount: 1.1602044105529785, cur_n_target_predictions: 10399\n",
      "Updated lower bound to 1.1602044105529785\n"
     ]
    },
    {
     "name": "stderr",
     "output_type": "stream",
     "text": [
      "100%|█████████████████████████████████████████████████████████████████████| 274/274 [00:11<00:00, 24.82it/s]\n"
     ]
    },
    {
     "name": "stdout",
     "output_type": "stream",
     "text": [
      "cur_bump_amount: 1.2151896953582764, cur_n_target_predictions: 10475\n",
      "Updated lower bound to 1.2151896953582764\n"
     ]
    },
    {
     "name": "stderr",
     "output_type": "stream",
     "text": [
      "100%|█████████████████████████████████████████████████████████████████████| 274/274 [00:16<00:00, 16.77it/s]\n"
     ]
    },
    {
     "name": "stdout",
     "output_type": "stream",
     "text": [
      "cur_bump_amount: 1.2426823377609253, cur_n_target_predictions: 10515\n",
      "Updated lower bound to 1.2426823377609253\n"
     ]
    },
    {
     "name": "stderr",
     "output_type": "stream",
     "text": [
      "100%|█████████████████████████████████████████████████████████████████████| 274/274 [00:15<00:00, 17.55it/s]\n"
     ]
    },
    {
     "name": "stdout",
     "output_type": "stream",
     "text": [
      "cur_bump_amount: 1.2564286589622498, cur_n_target_predictions: 10539\n",
      "Updated lower bound to 1.2564286589622498\n"
     ]
    },
    {
     "name": "stderr",
     "output_type": "stream",
     "text": [
      "100%|█████████████████████████████████████████████████████████████████████| 274/274 [00:10<00:00, 26.56it/s]\n"
     ]
    },
    {
     "name": "stdout",
     "output_type": "stream",
     "text": [
      "cur_bump_amount: 1.263301819562912, cur_n_target_predictions: 10552\n",
      "Updated lower bound to 1.263301819562912\n",
      "final results: bump amount: 1.263301819562912 n_target_predictions: 10552\n",
      "saved/edit/experiments/corresponding_bump_edits/CINIC10_ImageNet-VGG_16/0213_143741/airplane_100/results/airplane-train-n03577672_10632/felzenszwalb_gaussian_softmax\n",
      "[0214_120835] Creating corresponding logit bump for airplane-train-n04160586_14609/felzenszwalb_masked_softmax (34/158)\n",
      "target n_predictions: 25694\n",
      "Initial bounds for bump: (4.604316927725449, 4.7482018317168695)\n"
     ]
    },
    {
     "name": "stderr",
     "output_type": "stream",
     "text": [
      "100%|█████████████████████████████████████████████████████████████████████| 274/274 [00:10<00:00, 25.48it/s]\n"
     ]
    },
    {
     "name": "stdout",
     "output_type": "stream",
     "text": [
      "cur_bump_amount: 4.676259379721159, cur_n_target_predictions: 25292\n",
      "Updated lower bound to 4.676259379721159\n"
     ]
    },
    {
     "name": "stderr",
     "output_type": "stream",
     "text": [
      "100%|█████████████████████████████████████████████████████████████████████| 274/274 [00:21<00:00, 12.70it/s]\n"
     ]
    },
    {
     "name": "stdout",
     "output_type": "stream",
     "text": [
      "cur_bump_amount: 4.712230605719014, cur_n_target_predictions: 25590\n",
      "Updated lower bound to 4.712230605719014\n"
     ]
    },
    {
     "name": "stderr",
     "output_type": "stream",
     "text": [
      "100%|█████████████████████████████████████████████████████████████████████| 274/274 [00:19<00:00, 14.20it/s]\n"
     ]
    },
    {
     "name": "stdout",
     "output_type": "stream",
     "text": [
      "cur_bump_amount: 4.730216218717942, cur_n_target_predictions: 25711\n",
      "Updated upper bound to 4.730216218717942\n"
     ]
    },
    {
     "name": "stderr",
     "output_type": "stream",
     "text": [
      "100%|█████████████████████████████████████████████████████████████████████| 274/274 [00:16<00:00, 16.82it/s]\n"
     ]
    },
    {
     "name": "stdout",
     "output_type": "stream",
     "text": [
      "cur_bump_amount: 4.721223412218478, cur_n_target_predictions: 25644\n",
      "Updated lower bound to 4.721223412218478\n"
     ]
    },
    {
     "name": "stderr",
     "output_type": "stream",
     "text": [
      "100%|█████████████████████████████████████████████████████████████████████| 274/274 [00:11<00:00, 24.25it/s]\n"
     ]
    },
    {
     "name": "stdout",
     "output_type": "stream",
     "text": [
      "cur_bump_amount: 4.72571981546821, cur_n_target_predictions: 25674\n",
      "Updated lower bound to 4.72571981546821\n"
     ]
    },
    {
     "name": "stderr",
     "output_type": "stream",
     "text": [
      "100%|█████████████████████████████████████████████████████████████████████| 274/274 [00:11<00:00, 23.92it/s]\n"
     ]
    },
    {
     "name": "stdout",
     "output_type": "stream",
     "text": [
      "cur_bump_amount: 4.727968017093076, cur_n_target_predictions: 25686\n",
      "Updated lower bound to 4.727968017093076\n",
      "final results: bump amount: 4.727968017093076 n_target_predictions: 25686\n",
      "saved/edit/experiments/corresponding_bump_edits/CINIC10_ImageNet-VGG_16/0213_143741/airplane_100/results/airplane-train-n04160586_14609/felzenszwalb_masked_softmax\n",
      "[0214_121006] Creating corresponding logit bump for airplane-train-n04160586_14609/felzenszwalb_gaussian_softmax (35/158)\n",
      "target n_predictions: 15922\n",
      "Initial bounds for bump: (3.092281986027956, 3.2741809263825417)\n"
     ]
    },
    {
     "name": "stderr",
     "output_type": "stream",
     "text": [
      "100%|█████████████████████████████████████████████████████████████████████| 274/274 [00:09<00:00, 29.29it/s]\n"
     ]
    },
    {
     "name": "stdout",
     "output_type": "stream",
     "text": [
      "cur_bump_amount: 3.183231456205249, cur_n_target_predictions: 15846\n",
      "Updated lower bound to 3.183231456205249\n"
     ]
    },
    {
     "name": "stderr",
     "output_type": "stream",
     "text": [
      "100%|█████████████████████████████████████████████████████████████████████| 274/274 [00:14<00:00, 19.23it/s]\n"
     ]
    },
    {
     "name": "stdout",
     "output_type": "stream",
     "text": [
      "cur_bump_amount: 3.2287061912938952, cur_n_target_predictions: 16057\n",
      "Updated upper bound to 3.2287061912938952\n"
     ]
    },
    {
     "name": "stderr",
     "output_type": "stream",
     "text": [
      "100%|█████████████████████████████████████████████████████████████████████| 274/274 [00:10<00:00, 26.15it/s]\n"
     ]
    },
    {
     "name": "stdout",
     "output_type": "stream",
     "text": [
      "cur_bump_amount: 3.205968823749572, cur_n_target_predictions: 15966\n",
      "Updated upper bound to 3.205968823749572\n"
     ]
    },
    {
     "name": "stderr",
     "output_type": "stream",
     "text": [
      "100%|█████████████████████████████████████████████████████████████████████| 274/274 [00:11<00:00, 24.01it/s]\n"
     ]
    },
    {
     "name": "stdout",
     "output_type": "stream",
     "text": [
      "cur_bump_amount: 3.1946001399774104, cur_n_target_predictions: 15897\n",
      "Updated lower bound to 3.1946001399774104\n"
     ]
    },
    {
     "name": "stderr",
     "output_type": "stream",
     "text": [
      "100%|█████████████████████████████████████████████████████████████████████| 274/274 [00:17<00:00, 16.05it/s]\n"
     ]
    },
    {
     "name": "stdout",
     "output_type": "stream",
     "text": [
      "cur_bump_amount: 3.2002844818634912, cur_n_target_predictions: 15932\n",
      "Updated upper bound to 3.2002844818634912\n",
      "final results: bump amount: 3.2002844818634912 n_target_predictions: 15932\n",
      "saved/edit/experiments/corresponding_bump_edits/CINIC10_ImageNet-VGG_16/0213_143741/airplane_100/results/airplane-train-n04160586_14609/felzenszwalb_gaussian_softmax\n",
      "[0214_121109] Creating corresponding logit bump for airplane-train-n02842573_9637/felzenszwalb_masked_softmax (36/158)\n",
      "target n_predictions: 34235\n",
      "Initial bounds for bump: (5.675585001974071, 5.7199255098019925)\n"
     ]
    },
    {
     "name": "stderr",
     "output_type": "stream",
     "text": [
      "100%|█████████████████████████████████████████████████████████████████████| 274/274 [00:15<00:00, 17.82it/s]\n"
     ]
    },
    {
     "name": "stdout",
     "output_type": "stream",
     "text": [
      "cur_bump_amount: 5.6977552558880316, cur_n_target_predictions: 34562\n",
      "Updated upper bound to 5.6977552558880316\n"
     ]
    },
    {
     "name": "stderr",
     "output_type": "stream",
     "text": [
      "100%|█████████████████████████████████████████████████████████████████████| 274/274 [00:19<00:00, 13.97it/s]\n"
     ]
    },
    {
     "name": "stdout",
     "output_type": "stream",
     "text": [
      "cur_bump_amount: 5.686670128931051, cur_n_target_predictions: 34399\n",
      "Updated upper bound to 5.686670128931051\n"
     ]
    },
    {
     "name": "stderr",
     "output_type": "stream",
     "text": [
      "100%|█████████████████████████████████████████████████████████████████████| 274/274 [00:13<00:00, 19.81it/s]\n"
     ]
    },
    {
     "name": "stdout",
     "output_type": "stream",
     "text": [
      "cur_bump_amount: 5.681127565452561, cur_n_target_predictions: 34308\n",
      "Updated upper bound to 5.681127565452561\n"
     ]
    },
    {
     "name": "stderr",
     "output_type": "stream",
     "text": [
      "100%|█████████████████████████████████████████████████████████████████████| 274/274 [00:13<00:00, 20.78it/s]\n"
     ]
    },
    {
     "name": "stdout",
     "output_type": "stream",
     "text": [
      "cur_bump_amount: 5.678356283713316, cur_n_target_predictions: 34260\n",
      "Updated upper bound to 5.678356283713316\n"
     ]
    },
    {
     "name": "stderr",
     "output_type": "stream",
     "text": [
      "100%|█████████████████████████████████████████████████████████████████████| 274/274 [00:21<00:00, 12.59it/s]\n"
     ]
    },
    {
     "name": "stdout",
     "output_type": "stream",
     "text": [
      "cur_bump_amount: 5.676970642843694, cur_n_target_predictions: 34244\n",
      "Updated upper bound to 5.676970642843694\n",
      "final results: bump amount: 5.676970642843694 n_target_predictions: 34244\n",
      "saved/edit/experiments/corresponding_bump_edits/CINIC10_ImageNet-VGG_16/0213_143741/airplane_100/results/airplane-train-n02842573_9637/felzenszwalb_masked_softmax\n",
      "[0214_121233] Creating corresponding logit bump for airplane-train-n04012482_590/felzenszwalb_masked_softmax (37/158)\n",
      "target n_predictions: 16635\n",
      "Initial bounds for bump: (3.2741809263825417, 3.4788172342814505)\n"
     ]
    },
    {
     "name": "stderr",
     "output_type": "stream",
     "text": [
      "100%|█████████████████████████████████████████████████████████████████████| 274/274 [01:47<00:00,  2.55it/s]\n"
     ]
    },
    {
     "name": "stdout",
     "output_type": "stream",
     "text": [
      "cur_bump_amount: 3.376499080331996, cur_n_target_predictions: 16785\n",
      "Updated upper bound to 3.376499080331996\n"
     ]
    },
    {
     "name": "stderr",
     "output_type": "stream",
     "text": [
      "100%|█████████████████████████████████████████████████████████████████████| 274/274 [01:27<00:00,  3.13it/s]\n"
     ]
    },
    {
     "name": "stdout",
     "output_type": "stream",
     "text": [
      "cur_bump_amount: 3.325340003357269, cur_n_target_predictions: 16564\n",
      "Updated lower bound to 3.325340003357269\n"
     ]
    },
    {
     "name": "stderr",
     "output_type": "stream",
     "text": [
      "100%|█████████████████████████████████████████████████████████████████████| 274/274 [00:34<00:00,  7.97it/s]\n"
     ]
    },
    {
     "name": "stdout",
     "output_type": "stream",
     "text": [
      "cur_bump_amount: 3.3509195418446325, cur_n_target_predictions: 16673\n",
      "Updated upper bound to 3.3509195418446325\n"
     ]
    },
    {
     "name": "stderr",
     "output_type": "stream",
     "text": [
      "100%|█████████████████████████████████████████████████████████████████████| 274/274 [00:21<00:00, 12.65it/s]\n"
     ]
    },
    {
     "name": "stdout",
     "output_type": "stream",
     "text": [
      "cur_bump_amount: 3.3381297726009507, cur_n_target_predictions: 16617\n",
      "Updated lower bound to 3.3381297726009507\n"
     ]
    },
    {
     "name": "stderr",
     "output_type": "stream",
     "text": [
      "100%|█████████████████████████████████████████████████████████████████████| 274/274 [00:10<00:00, 25.34it/s]\n"
     ]
    },
    {
     "name": "stdout",
     "output_type": "stream",
     "text": [
      "cur_bump_amount: 3.3445246572227916, cur_n_target_predictions: 16640\n",
      "Updated upper bound to 3.3445246572227916\n",
      "final results: bump amount: 3.3445246572227916 n_target_predictions: 16640\n",
      "saved/edit/experiments/corresponding_bump_edits/CINIC10_ImageNet-VGG_16/0213_143741/airplane_100/results/airplane-train-n04012482_590/felzenszwalb_masked_softmax\n",
      "[0214_121657] Creating corresponding logit bump for airplane-train-n02690373_1044/felzenszwalb_masked_softmax (38/158)\n",
      "target n_predictions: 18246\n",
      "Initial bounds for bump: (3.4788172342814505, 3.637978807091713)\n"
     ]
    },
    {
     "name": "stderr",
     "output_type": "stream",
     "text": [
      "100%|█████████████████████████████████████████████████████████████████████| 274/274 [00:21<00:00, 12.88it/s]\n"
     ]
    },
    {
     "name": "stdout",
     "output_type": "stream",
     "text": [
      "cur_bump_amount: 3.5583980206865817, cur_n_target_predictions: 17773\n",
      "Updated lower bound to 3.5583980206865817\n"
     ]
    },
    {
     "name": "stderr",
     "output_type": "stream",
     "text": [
      "100%|█████████████████████████████████████████████████████████████████████| 274/274 [01:08<00:00,  4.03it/s]\n"
     ]
    },
    {
     "name": "stdout",
     "output_type": "stream",
     "text": [
      "cur_bump_amount: 3.5981884138891473, cur_n_target_predictions: 18004\n",
      "Updated lower bound to 3.5981884138891473\n"
     ]
    },
    {
     "name": "stderr",
     "output_type": "stream",
     "text": [
      "100%|█████████████████████████████████████████████████████████████████████| 274/274 [01:24<00:00,  3.26it/s]\n"
     ]
    },
    {
     "name": "stdout",
     "output_type": "stream",
     "text": [
      "cur_bump_amount: 3.61808361049043, cur_n_target_predictions: 18128\n",
      "Updated lower bound to 3.61808361049043\n"
     ]
    },
    {
     "name": "stderr",
     "output_type": "stream",
     "text": [
      "100%|█████████████████████████████████████████████████████████████████████| 274/274 [01:22<00:00,  3.32it/s]\n"
     ]
    },
    {
     "name": "stdout",
     "output_type": "stream",
     "text": [
      "cur_bump_amount: 3.6280312087910715, cur_n_target_predictions: 18190\n",
      "Updated lower bound to 3.6280312087910715\n"
     ]
    },
    {
     "name": "stderr",
     "output_type": "stream",
     "text": [
      "100%|█████████████████████████████████████████████████████████████████████| 274/274 [00:45<00:00,  6.05it/s]\n"
     ]
    },
    {
     "name": "stdout",
     "output_type": "stream",
     "text": [
      "cur_bump_amount: 3.6330050079413923, cur_n_target_predictions: 18223\n",
      "Updated lower bound to 3.6330050079413923\n"
     ]
    },
    {
     "name": "stderr",
     "output_type": "stream",
     "text": [
      "100%|█████████████████████████████████████████████████████████████████████| 274/274 [00:17<00:00, 15.33it/s]\n"
     ]
    },
    {
     "name": "stdout",
     "output_type": "stream",
     "text": [
      "cur_bump_amount: 3.6354919075165526, cur_n_target_predictions: 18241\n",
      "Updated lower bound to 3.6354919075165526\n",
      "final results: bump amount: 3.6354919075165526 n_target_predictions: 18241\n",
      "saved/edit/experiments/corresponding_bump_edits/CINIC10_ImageNet-VGG_16/0213_143741/airplane_100/results/airplane-train-n02690373_1044/felzenszwalb_masked_softmax\n",
      "[0214_122217] Creating corresponding logit bump for airplane-train-n02690373_1044/felzenszwalb_gaussian_softmax (39/158)\n",
      "target n_predictions: 16300\n",
      "Initial bounds for bump: (3.092281986027956, 3.2741809263825417)\n"
     ]
    },
    {
     "name": "stderr",
     "output_type": "stream",
     "text": [
      "100%|█████████████████████████████████████████████████████████████████████| 274/274 [00:16<00:00, 16.55it/s]\n"
     ]
    },
    {
     "name": "stdout",
     "output_type": "stream",
     "text": [
      "cur_bump_amount: 3.183231456205249, cur_n_target_predictions: 15846\n",
      "Updated lower bound to 3.183231456205249\n"
     ]
    },
    {
     "name": "stderr",
     "output_type": "stream",
     "text": [
      "100%|█████████████████████████████████████████████████████████████████████| 274/274 [00:19<00:00, 14.36it/s]\n"
     ]
    },
    {
     "name": "stdout",
     "output_type": "stream",
     "text": [
      "cur_bump_amount: 3.2287061912938952, cur_n_target_predictions: 16057\n",
      "Updated lower bound to 3.2287061912938952\n"
     ]
    },
    {
     "name": "stderr",
     "output_type": "stream",
     "text": [
      "100%|█████████████████████████████████████████████████████████████████████| 274/274 [00:37<00:00,  7.38it/s]\n"
     ]
    },
    {
     "name": "stdout",
     "output_type": "stream",
     "text": [
      "cur_bump_amount: 3.2514435588382185, cur_n_target_predictions: 16179\n",
      "Updated lower bound to 3.2514435588382185\n"
     ]
    },
    {
     "name": "stderr",
     "output_type": "stream",
     "text": [
      "100%|█████████████████████████████████████████████████████████████████████| 274/274 [00:30<00:00,  9.07it/s]\n"
     ]
    },
    {
     "name": "stdout",
     "output_type": "stream",
     "text": [
      "cur_bump_amount: 3.26281224261038, cur_n_target_predictions: 16238\n",
      "Updated lower bound to 3.26281224261038\n"
     ]
    },
    {
     "name": "stderr",
     "output_type": "stream",
     "text": [
      "100%|█████████████████████████████████████████████████████████████████████| 274/274 [01:11<00:00,  3.82it/s]\n"
     ]
    },
    {
     "name": "stdout",
     "output_type": "stream",
     "text": [
      "cur_bump_amount: 3.268496584496461, cur_n_target_predictions: 16268\n",
      "Updated lower bound to 3.268496584496461\n"
     ]
    },
    {
     "name": "stderr",
     "output_type": "stream",
     "text": [
      "100%|█████████████████████████████████████████████████████████████████████| 274/274 [01:23<00:00,  3.30it/s]\n"
     ]
    },
    {
     "name": "stdout",
     "output_type": "stream",
     "text": [
      "cur_bump_amount: 3.2713387554395013, cur_n_target_predictions: 16290\n",
      "Updated lower bound to 3.2713387554395013\n",
      "final results: bump amount: 3.2713387554395013 n_target_predictions: 16290\n",
      "saved/edit/experiments/corresponding_bump_edits/CINIC10_ImageNet-VGG_16/0213_143741/airplane_100/results/airplane-train-n02690373_1044/felzenszwalb_gaussian_softmax\n",
      "[0214_122636] Creating corresponding logit bump for airplane-train-n02842573_289/felzenszwalb_masked_softmax (40/158)\n",
      "target n_predictions: 12481\n",
      "Initial bounds for bump: (1.862645149230957, 2.3283064365386963)\n"
     ]
    },
    {
     "name": "stderr",
     "output_type": "stream",
     "text": [
      "100%|█████████████████████████████████████████████████████████████████████| 274/274 [01:15<00:00,  3.63it/s]\n"
     ]
    },
    {
     "name": "stdout",
     "output_type": "stream",
     "text": [
      "cur_bump_amount: 2.0954757928848267, cur_n_target_predictions: 12145\n",
      "Updated lower bound to 2.0954757928848267\n"
     ]
    },
    {
     "name": "stderr",
     "output_type": "stream",
     "text": [
      "100%|█████████████████████████████████████████████████████████████████████| 274/274 [01:19<00:00,  3.46it/s]\n"
     ]
    },
    {
     "name": "stdout",
     "output_type": "stream",
     "text": [
      "cur_bump_amount: 2.2118911147117615, cur_n_target_predictions: 12434\n",
      "Updated lower bound to 2.2118911147117615\n"
     ]
    },
    {
     "name": "stderr",
     "output_type": "stream",
     "text": [
      "100%|█████████████████████████████████████████████████████████████████████| 274/274 [01:06<00:00,  4.09it/s]\n"
     ]
    },
    {
     "name": "stdout",
     "output_type": "stream",
     "text": [
      "cur_bump_amount: 2.270098775625229, cur_n_target_predictions: 12638\n",
      "Updated upper bound to 2.270098775625229\n"
     ]
    },
    {
     "name": "stderr",
     "output_type": "stream",
     "text": [
      "100%|█████████████████████████████████████████████████████████████████████| 274/274 [01:32<00:00,  2.95it/s]\n"
     ]
    },
    {
     "name": "stdout",
     "output_type": "stream",
     "text": [
      "cur_bump_amount: 2.240994945168495, cur_n_target_predictions: 12490\n",
      "Updated upper bound to 2.240994945168495\n",
      "final results: bump amount: 2.240994945168495 n_target_predictions: 12490\n",
      "saved/edit/experiments/corresponding_bump_edits/CINIC10_ImageNet-VGG_16/0213_143741/airplane_100/results/airplane-train-n02842573_289/felzenszwalb_masked_softmax\n",
      "[0214_123151] Creating corresponding logit bump for airplane-train-n02842573_289/felzenszwalb_gaussian_softmax (41/158)\n",
      "target n_predictions: 10233\n",
      "Initial bounds for bump: (0.6103515625, 1.4901161193847656)\n"
     ]
    },
    {
     "name": "stderr",
     "output_type": "stream",
     "text": [
      "100%|█████████████████████████████████████████████████████████████████████| 274/274 [00:45<00:00,  5.98it/s]\n"
     ]
    },
    {
     "name": "stdout",
     "output_type": "stream",
     "text": [
      "cur_bump_amount: 1.0502338409423828, cur_n_target_predictions: 10256\n",
      "Updated upper bound to 1.0502338409423828\n"
     ]
    },
    {
     "name": "stderr",
     "output_type": "stream",
     "text": [
      "100%|█████████████████████████████████████████████████████████████████████| 274/274 [00:17<00:00, 15.57it/s]\n"
     ]
    },
    {
     "name": "stdout",
     "output_type": "stream",
     "text": [
      "cur_bump_amount: 0.8302927017211914, cur_n_target_predictions: 9995\n",
      "Updated lower bound to 0.8302927017211914\n"
     ]
    },
    {
     "name": "stderr",
     "output_type": "stream",
     "text": [
      "100%|█████████████████████████████████████████████████████████████████████| 274/274 [00:22<00:00, 12.44it/s]\n"
     ]
    },
    {
     "name": "stdout",
     "output_type": "stream",
     "text": [
      "cur_bump_amount: 0.9402632713317871, cur_n_target_predictions: 10104\n",
      "Updated lower bound to 0.9402632713317871\n"
     ]
    },
    {
     "name": "stderr",
     "output_type": "stream",
     "text": [
      "100%|█████████████████████████████████████████████████████████████████████| 274/274 [01:16<00:00,  3.58it/s]\n"
     ]
    },
    {
     "name": "stdout",
     "output_type": "stream",
     "text": [
      "cur_bump_amount: 0.995248556137085, cur_n_target_predictions: 10170\n",
      "Updated lower bound to 0.995248556137085\n"
     ]
    },
    {
     "name": "stderr",
     "output_type": "stream",
     "text": [
      "100%|█████████████████████████████████████████████████████████████████████| 274/274 [00:47<00:00,  5.76it/s]\n"
     ]
    },
    {
     "name": "stdout",
     "output_type": "stream",
     "text": [
      "cur_bump_amount: 1.0227411985397339, cur_n_target_predictions: 10206\n",
      "Updated lower bound to 1.0227411985397339\n"
     ]
    },
    {
     "name": "stderr",
     "output_type": "stream",
     "text": [
      "100%|█████████████████████████████████████████████████████████████████████| 274/274 [00:29<00:00,  9.44it/s]\n"
     ]
    },
    {
     "name": "stdout",
     "output_type": "stream",
     "text": [
      "cur_bump_amount: 1.0364875197410583, cur_n_target_predictions: 10234\n",
      "Updated upper bound to 1.0364875197410583\n",
      "final results: bump amount: 1.0364875197410583 n_target_predictions: 10234\n",
      "saved/edit/experiments/corresponding_bump_edits/CINIC10_ImageNet-VGG_16/0213_143741/airplane_100/results/airplane-train-n02842573_289/felzenszwalb_gaussian_softmax\n",
      "[0214_123551] Creating corresponding logit bump for airplane-train-n03595860_1465/felzenszwalb_masked_softmax (42/158)\n",
      "target n_predictions: 20253\n",
      "Initial bounds for bump: (3.865352482534945, 4.092726157978177)\n"
     ]
    },
    {
     "name": "stderr",
     "output_type": "stream",
     "text": [
      "100%|█████████████████████████████████████████████████████████████████████| 274/274 [00:10<00:00, 27.38it/s]\n"
     ]
    },
    {
     "name": "stdout",
     "output_type": "stream",
     "text": [
      "cur_bump_amount: 3.979039320256561, cur_n_target_predictions: 20307\n",
      "Updated upper bound to 3.979039320256561\n"
     ]
    },
    {
     "name": "stderr",
     "output_type": "stream",
     "text": [
      "100%|█████████████████████████████████████████████████████████████████████| 274/274 [00:11<00:00, 23.60it/s]\n"
     ]
    },
    {
     "name": "stdout",
     "output_type": "stream",
     "text": [
      "cur_bump_amount: 3.922195901395753, cur_n_target_predictions: 19975\n",
      "Updated lower bound to 3.922195901395753\n"
     ]
    },
    {
     "name": "stderr",
     "output_type": "stream",
     "text": [
      "100%|█████████████████████████████████████████████████████████████████████| 274/274 [00:11<00:00, 23.25it/s]\n"
     ]
    },
    {
     "name": "stdout",
     "output_type": "stream",
     "text": [
      "cur_bump_amount: 3.950617610826157, cur_n_target_predictions: 20144\n",
      "Updated lower bound to 3.950617610826157\n"
     ]
    },
    {
     "name": "stderr",
     "output_type": "stream",
     "text": [
      "100%|█████████████████████████████████████████████████████████████████████| 274/274 [00:10<00:00, 26.14it/s]\n"
     ]
    },
    {
     "name": "stdout",
     "output_type": "stream",
     "text": [
      "cur_bump_amount: 3.964828465541359, cur_n_target_predictions: 20221\n",
      "Updated lower bound to 3.964828465541359\n"
     ]
    },
    {
     "name": "stderr",
     "output_type": "stream",
     "text": [
      "100%|█████████████████████████████████████████████████████████████████████| 274/274 [00:09<00:00, 28.18it/s]\n"
     ]
    },
    {
     "name": "stdout",
     "output_type": "stream",
     "text": [
      "cur_bump_amount: 3.97193389289896, cur_n_target_predictions: 20266\n",
      "Updated upper bound to 3.97193389289896\n"
     ]
    },
    {
     "name": "stderr",
     "output_type": "stream",
     "text": [
      "100%|█████████████████████████████████████████████████████████████████████| 274/274 [00:09<00:00, 30.24it/s]\n"
     ]
    },
    {
     "name": "stdout",
     "output_type": "stream",
     "text": [
      "cur_bump_amount: 3.9683811792201595, cur_n_target_predictions: 20244\n",
      "Updated lower bound to 3.9683811792201595\n",
      "final results: bump amount: 3.9683811792201595 n_target_predictions: 20244\n",
      "saved/edit/experiments/corresponding_bump_edits/CINIC10_ImageNet-VGG_16/0213_143741/airplane_100/results/airplane-train-n03595860_1465/felzenszwalb_masked_softmax\n",
      "[0214_123654] Creating corresponding logit bump for airplane-train-n03595860_1465/felzenszwalb_gaussian_softmax (43/158)\n",
      "target n_predictions: 13804\n",
      "Initial bounds for bump: (2.6193447411060333, 2.9103830456733704)\n"
     ]
    },
    {
     "name": "stderr",
     "output_type": "stream",
     "text": [
      "100%|█████████████████████████████████████████████████████████████████████| 274/274 [00:10<00:00, 26.25it/s]\n"
     ]
    },
    {
     "name": "stdout",
     "output_type": "stream",
     "text": [
      "cur_bump_amount: 2.764863893389702, cur_n_target_predictions: 14138\n",
      "Updated upper bound to 2.764863893389702\n"
     ]
    },
    {
     "name": "stderr",
     "output_type": "stream",
     "text": [
      "100%|█████████████████████████████████████████████████████████████████████| 274/274 [00:11<00:00, 23.15it/s]\n"
     ]
    },
    {
     "name": "stdout",
     "output_type": "stream",
     "text": [
      "cur_bump_amount: 2.6921043172478676, cur_n_target_predictions: 13891\n",
      "Updated upper bound to 2.6921043172478676\n"
     ]
    },
    {
     "name": "stderr",
     "output_type": "stream",
     "text": [
      "100%|█████████████████████████████████████████████████████████████████████| 274/274 [00:12<00:00, 21.76it/s]\n"
     ]
    },
    {
     "name": "stdout",
     "output_type": "stream",
     "text": [
      "cur_bump_amount: 2.6557245291769505, cur_n_target_predictions: 13767\n",
      "Updated lower bound to 2.6557245291769505\n"
     ]
    },
    {
     "name": "stderr",
     "output_type": "stream",
     "text": [
      "100%|█████████████████████████████████████████████████████████████████████| 274/274 [00:12<00:00, 22.02it/s]\n"
     ]
    },
    {
     "name": "stdout",
     "output_type": "stream",
     "text": [
      "cur_bump_amount: 2.673914423212409, cur_n_target_predictions: 13830\n",
      "Updated upper bound to 2.673914423212409\n"
     ]
    },
    {
     "name": "stderr",
     "output_type": "stream",
     "text": [
      "100%|█████████████████████████████████████████████████████████████████████| 274/274 [00:11<00:00, 23.47it/s]\n"
     ]
    },
    {
     "name": "stdout",
     "output_type": "stream",
     "text": [
      "cur_bump_amount: 2.6648194761946797, cur_n_target_predictions: 13802\n",
      "Updated lower bound to 2.6648194761946797\n",
      "final results: bump amount: 2.6648194761946797 n_target_predictions: 13802\n",
      "saved/edit/experiments/corresponding_bump_edits/CINIC10_ImageNet-VGG_16/0213_143741/airplane_100/results/airplane-train-n03595860_1465/felzenszwalb_gaussian_softmax\n",
      "[0214_123754] Creating corresponding logit bump for airplane-train-n02842573_1888/felzenszwalb_masked_softmax (44/158)\n",
      "target n_predictions: 29044\n",
      "Initial bounds for bump: (5.115907697472721, 5.17985654369113)\n"
     ]
    },
    {
     "name": "stderr",
     "output_type": "stream",
     "text": [
      "100%|█████████████████████████████████████████████████████████████████████| 274/274 [00:28<00:00,  9.78it/s]\n"
     ]
    },
    {
     "name": "stdout",
     "output_type": "stream",
     "text": [
      "cur_bump_amount: 5.147882120581926, cur_n_target_predictions: 29047\n",
      "Updated upper bound to 5.147882120581926\n",
      "final results: bump amount: 5.147882120581926 n_target_predictions: 29047\n",
      "saved/edit/experiments/corresponding_bump_edits/CINIC10_ImageNet-VGG_16/0213_143741/airplane_100/results/airplane-train-n02842573_1888/felzenszwalb_masked_softmax\n",
      "[0214_123822] Creating corresponding logit bump for airplane-train-n03798610_1313/felzenszwalb_masked_softmax (45/158)\n",
      "target n_predictions: 17337\n",
      "Initial bounds for bump: (3.4788172342814505, 3.637978807091713)\n"
     ]
    },
    {
     "name": "stderr",
     "output_type": "stream",
     "text": [
      "100%|█████████████████████████████████████████████████████████████████████| 274/274 [00:35<00:00,  7.67it/s]\n"
     ]
    },
    {
     "name": "stdout",
     "output_type": "stream",
     "text": [
      "cur_bump_amount: 3.5583980206865817, cur_n_target_predictions: 17773\n",
      "Updated upper bound to 3.5583980206865817\n"
     ]
    },
    {
     "name": "stderr",
     "output_type": "stream",
     "text": [
      "100%|█████████████████████████████████████████████████████████████████████| 274/274 [00:34<00:00,  7.94it/s]\n"
     ]
    },
    {
     "name": "stdout",
     "output_type": "stream",
     "text": [
      "cur_bump_amount: 3.518607627484016, cur_n_target_predictions: 17533\n",
      "Updated upper bound to 3.518607627484016\n"
     ]
    },
    {
     "name": "stderr",
     "output_type": "stream",
     "text": [
      "100%|█████████████████████████████████████████████████████████████████████| 274/274 [00:29<00:00,  9.24it/s]\n"
     ]
    },
    {
     "name": "stdout",
     "output_type": "stream",
     "text": [
      "cur_bump_amount: 3.4987124308827333, cur_n_target_predictions: 17418\n",
      "Updated upper bound to 3.4987124308827333\n"
     ]
    },
    {
     "name": "stderr",
     "output_type": "stream",
     "text": [
      "100%|█████████████████████████████████████████████████████████████████████| 274/274 [00:14<00:00, 18.59it/s]\n"
     ]
    },
    {
     "name": "stdout",
     "output_type": "stream",
     "text": [
      "cur_bump_amount: 3.488764832582092, cur_n_target_predictions: 17375\n",
      "Updated upper bound to 3.488764832582092\n"
     ]
    },
    {
     "name": "stderr",
     "output_type": "stream",
     "text": [
      "100%|█████████████████████████████████████████████████████████████████████| 274/274 [00:21<00:00, 12.87it/s]\n"
     ]
    },
    {
     "name": "stdout",
     "output_type": "stream",
     "text": [
      "cur_bump_amount: 3.483791033431771, cur_n_target_predictions: 17355\n",
      "Updated upper bound to 3.483791033431771\n"
     ]
    },
    {
     "name": "stderr",
     "output_type": "stream",
     "text": [
      "100%|█████████████████████████████████████████████████████████████████████| 274/274 [00:19<00:00, 13.87it/s]\n"
     ]
    },
    {
     "name": "stdout",
     "output_type": "stream",
     "text": [
      "cur_bump_amount: 3.481304133856611, cur_n_target_predictions: 17336\n",
      "Updated lower bound to 3.481304133856611\n",
      "final results: bump amount: 3.481304133856611 n_target_predictions: 17336\n",
      "saved/edit/experiments/corresponding_bump_edits/CINIC10_ImageNet-VGG_16/0213_143741/airplane_100/results/airplane-train-n03798610_1313/felzenszwalb_masked_softmax\n",
      "[0214_124100] Creating corresponding logit bump for airplane-train-n03798610_853/felzenszwalb_masked_softmax (46/158)\n",
      "target n_predictions: 19428\n",
      "Initial bounds for bump: (3.751665644813329, 3.865352482534945)\n"
     ]
    },
    {
     "name": "stderr",
     "output_type": "stream",
     "text": [
      "100%|█████████████████████████████████████████████████████████████████████| 274/274 [01:07<00:00,  4.07it/s]\n"
     ]
    },
    {
     "name": "stdout",
     "output_type": "stream",
     "text": [
      "cur_bump_amount: 3.808509063674137, cur_n_target_predictions: 19215\n",
      "Updated lower bound to 3.808509063674137\n"
     ]
    },
    {
     "name": "stderr",
     "output_type": "stream",
     "text": [
      "100%|█████████████████████████████████████████████████████████████████████| 274/274 [00:41<00:00,  6.58it/s]\n"
     ]
    },
    {
     "name": "stdout",
     "output_type": "stream",
     "text": [
      "cur_bump_amount: 3.836930773104541, cur_n_target_predictions: 19401\n",
      "Updated lower bound to 3.836930773104541\n"
     ]
    },
    {
     "name": "stderr",
     "output_type": "stream",
     "text": [
      "100%|█████████████████████████████████████████████████████████████████████| 274/274 [00:29<00:00,  9.36it/s]\n"
     ]
    },
    {
     "name": "stdout",
     "output_type": "stream",
     "text": [
      "cur_bump_amount: 3.851141627819743, cur_n_target_predictions: 19504\n",
      "Updated upper bound to 3.851141627819743\n"
     ]
    },
    {
     "name": "stderr",
     "output_type": "stream",
     "text": [
      "100%|█████████████████████████████████████████████████████████████████████| 274/274 [00:23<00:00, 11.72it/s]\n"
     ]
    },
    {
     "name": "stdout",
     "output_type": "stream",
     "text": [
      "cur_bump_amount: 3.844036200462142, cur_n_target_predictions: 19446\n",
      "Updated upper bound to 3.844036200462142\n"
     ]
    },
    {
     "name": "stderr",
     "output_type": "stream",
     "text": [
      "100%|█████████████████████████████████████████████████████████████████████| 274/274 [00:59<00:00,  4.61it/s]\n"
     ]
    },
    {
     "name": "stdout",
     "output_type": "stream",
     "text": [
      "cur_bump_amount: 3.8404834867833415, cur_n_target_predictions: 19423\n",
      "Updated lower bound to 3.8404834867833415\n",
      "final results: bump amount: 3.8404834867833415 n_target_predictions: 19423\n",
      "saved/edit/experiments/corresponding_bump_edits/CINIC10_ImageNet-VGG_16/0213_143741/airplane_100/results/airplane-train-n03798610_853/felzenszwalb_masked_softmax\n",
      "[0214_124442] Creating corresponding logit bump for airplane-train-n03798610_853/felzenszwalb_gaussian_softmax (47/158)\n",
      "target n_predictions: 11154\n",
      "Initial bounds for bump: (1.4901161193847656, 1.862645149230957)\n"
     ]
    },
    {
     "name": "stderr",
     "output_type": "stream",
     "text": [
      "100%|█████████████████████████████████████████████████████████████████████| 274/274 [00:22<00:00, 12.43it/s]\n"
     ]
    },
    {
     "name": "stdout",
     "output_type": "stream",
     "text": [
      "cur_bump_amount: 1.6763806343078613, cur_n_target_predictions: 11282\n",
      "Updated upper bound to 1.6763806343078613\n"
     ]
    },
    {
     "name": "stderr",
     "output_type": "stream",
     "text": [
      "100%|█████████████████████████████████████████████████████████████████████| 274/274 [01:00<00:00,  4.54it/s]\n"
     ]
    },
    {
     "name": "stdout",
     "output_type": "stream",
     "text": [
      "cur_bump_amount: 1.5832483768463135, cur_n_target_predictions: 11110\n",
      "Updated lower bound to 1.5832483768463135\n"
     ]
    },
    {
     "name": "stderr",
     "output_type": "stream",
     "text": [
      "100%|█████████████████████████████████████████████████████████████████████| 274/274 [01:17<00:00,  3.54it/s]\n"
     ]
    },
    {
     "name": "stdout",
     "output_type": "stream",
     "text": [
      "cur_bump_amount: 1.6298145055770874, cur_n_target_predictions: 11201\n",
      "Updated upper bound to 1.6298145055770874\n"
     ]
    },
    {
     "name": "stderr",
     "output_type": "stream",
     "text": [
      "100%|█████████████████████████████████████████████████████████████████████| 274/274 [00:28<00:00,  9.71it/s]\n"
     ]
    },
    {
     "name": "stdout",
     "output_type": "stream",
     "text": [
      "cur_bump_amount: 1.6065314412117004, cur_n_target_predictions: 11159\n",
      "Updated upper bound to 1.6065314412117004\n",
      "final results: bump amount: 1.6065314412117004 n_target_predictions: 11159\n",
      "saved/edit/experiments/corresponding_bump_edits/CINIC10_ImageNet-VGG_16/0213_143741/airplane_100/results/airplane-train-n03798610_853/felzenszwalb_gaussian_softmax\n",
      "[0214_124751] Creating corresponding logit bump for airplane-train-n03174079_2322/felzenszwalb_masked_softmax (48/158)\n",
      "target n_predictions: 18859\n",
      "Initial bounds for bump: (3.751665644813329, 3.865352482534945)\n"
     ]
    },
    {
     "name": "stderr",
     "output_type": "stream",
     "text": [
      "100%|█████████████████████████████████████████████████████████████████████| 274/274 [00:54<00:00,  5.05it/s]\n"
     ]
    },
    {
     "name": "stdout",
     "output_type": "stream",
     "text": [
      "cur_bump_amount: 3.808509063674137, cur_n_target_predictions: 19215\n",
      "Updated upper bound to 3.808509063674137\n"
     ]
    },
    {
     "name": "stderr",
     "output_type": "stream",
     "text": [
      "100%|█████████████████████████████████████████████████████████████████████| 274/274 [01:11<00:00,  3.83it/s]\n"
     ]
    },
    {
     "name": "stdout",
     "output_type": "stream",
     "text": [
      "cur_bump_amount: 3.780087354243733, cur_n_target_predictions: 19042\n",
      "Updated upper bound to 3.780087354243733\n"
     ]
    },
    {
     "name": "stderr",
     "output_type": "stream",
     "text": [
      "100%|█████████████████████████████████████████████████████████████████████| 274/274 [01:00<00:00,  4.53it/s]\n"
     ]
    },
    {
     "name": "stdout",
     "output_type": "stream",
     "text": [
      "cur_bump_amount: 3.765876499528531, cur_n_target_predictions: 18944\n",
      "Updated upper bound to 3.765876499528531\n"
     ]
    },
    {
     "name": "stderr",
     "output_type": "stream",
     "text": [
      "100%|█████████████████████████████████████████████████████████████████████| 274/274 [00:17<00:00, 15.39it/s]\n"
     ]
    },
    {
     "name": "stdout",
     "output_type": "stream",
     "text": [
      "cur_bump_amount: 3.75877107217093, cur_n_target_predictions: 18893\n",
      "Updated upper bound to 3.75877107217093\n"
     ]
    },
    {
     "name": "stderr",
     "output_type": "stream",
     "text": [
      "100%|█████████████████████████████████████████████████████████████████████| 274/274 [00:14<00:00, 19.32it/s]\n"
     ]
    },
    {
     "name": "stdout",
     "output_type": "stream",
     "text": [
      "cur_bump_amount: 3.7552183584921295, cur_n_target_predictions: 18876\n",
      "Updated upper bound to 3.7552183584921295\n"
     ]
    },
    {
     "name": "stderr",
     "output_type": "stream",
     "text": [
      "100%|█████████████████████████████████████████████████████████████████████| 274/274 [00:15<00:00, 17.76it/s]\n"
     ]
    },
    {
     "name": "stdout",
     "output_type": "stream",
     "text": [
      "cur_bump_amount: 3.7534420016527292, cur_n_target_predictions: 18864\n",
      "Updated upper bound to 3.7534420016527292\n",
      "final results: bump amount: 3.7534420016527292 n_target_predictions: 18864\n",
      "saved/edit/experiments/corresponding_bump_edits/CINIC10_ImageNet-VGG_16/0213_143741/airplane_100/results/airplane-train-n03174079_2322/felzenszwalb_masked_softmax\n",
      "[0214_125146] Creating corresponding logit bump for airplane-train-n03174079_2322/felzenszwalb_gaussian_softmax (49/158)\n",
      "target n_predictions: 19040\n",
      "Initial bounds for bump: (3.751665644813329, 3.865352482534945)\n"
     ]
    },
    {
     "name": "stderr",
     "output_type": "stream",
     "text": [
      "100%|█████████████████████████████████████████████████████████████████████| 274/274 [00:22<00:00, 12.31it/s]\n"
     ]
    },
    {
     "name": "stdout",
     "output_type": "stream",
     "text": [
      "cur_bump_amount: 3.808509063674137, cur_n_target_predictions: 19215\n",
      "Updated upper bound to 3.808509063674137\n"
     ]
    },
    {
     "name": "stderr",
     "output_type": "stream",
     "text": [
      "100%|█████████████████████████████████████████████████████████████████████| 274/274 [00:16<00:00, 16.63it/s]\n"
     ]
    },
    {
     "name": "stdout",
     "output_type": "stream",
     "text": [
      "cur_bump_amount: 3.780087354243733, cur_n_target_predictions: 19042\n",
      "Updated upper bound to 3.780087354243733\n",
      "final results: bump amount: 3.780087354243733 n_target_predictions: 19042\n",
      "saved/edit/experiments/corresponding_bump_edits/CINIC10_ImageNet-VGG_16/0213_143741/airplane_100/results/airplane-train-n03174079_2322/felzenszwalb_gaussian_softmax\n",
      "[0214_125225] Creating corresponding logit bump for airplane-train-n03365231_1136/felzenszwalb_masked_softmax (50/158)\n",
      "target n_predictions: 16834\n",
      "Initial bounds for bump: (3.2741809263825417, 3.4788172342814505)\n"
     ]
    },
    {
     "name": "stderr",
     "output_type": "stream",
     "text": [
      "100%|█████████████████████████████████████████████████████████████████████| 274/274 [00:14<00:00, 18.85it/s]\n"
     ]
    },
    {
     "name": "stdout",
     "output_type": "stream",
     "text": [
      "cur_bump_amount: 3.376499080331996, cur_n_target_predictions: 16785\n",
      "Updated lower bound to 3.376499080331996\n"
     ]
    },
    {
     "name": "stderr",
     "output_type": "stream",
     "text": [
      "100%|█████████████████████████████████████████████████████████████████████| 274/274 [00:50<00:00,  5.44it/s]\n"
     ]
    },
    {
     "name": "stdout",
     "output_type": "stream",
     "text": [
      "cur_bump_amount: 3.4276581573067233, cur_n_target_predictions: 17049\n",
      "Updated upper bound to 3.4276581573067233\n"
     ]
    },
    {
     "name": "stderr",
     "output_type": "stream",
     "text": [
      "100%|█████████████████████████████████████████████████████████████████████| 274/274 [00:59<00:00,  4.59it/s]\n"
     ]
    },
    {
     "name": "stdout",
     "output_type": "stream",
     "text": [
      "cur_bump_amount: 3.4020786188193597, cur_n_target_predictions: 16923\n",
      "Updated upper bound to 3.4020786188193597\n"
     ]
    },
    {
     "name": "stderr",
     "output_type": "stream",
     "text": [
      "100%|█████████████████████████████████████████████████████████████████████| 274/274 [00:50<00:00,  5.47it/s]\n"
     ]
    },
    {
     "name": "stdout",
     "output_type": "stream",
     "text": [
      "cur_bump_amount: 3.389288849575678, cur_n_target_predictions: 16851\n",
      "Updated upper bound to 3.389288849575678\n"
     ]
    },
    {
     "name": "stderr",
     "output_type": "stream",
     "text": [
      "100%|█████████████████████████████████████████████████████████████████████| 274/274 [00:35<00:00,  7.76it/s]\n"
     ]
    },
    {
     "name": "stdout",
     "output_type": "stream",
     "text": [
      "cur_bump_amount: 3.382893964953837, cur_n_target_predictions: 16822\n",
      "Updated lower bound to 3.382893964953837\n"
     ]
    },
    {
     "name": "stderr",
     "output_type": "stream",
     "text": [
      "100%|█████████████████████████████████████████████████████████████████████| 274/274 [00:35<00:00,  7.69it/s]\n"
     ]
    },
    {
     "name": "stdout",
     "output_type": "stream",
     "text": [
      "cur_bump_amount: 3.3860914072647574, cur_n_target_predictions: 16834\n",
      "final results: bump amount: 3.3860914072647574 n_target_predictions: 16834\n",
      "saved/edit/experiments/corresponding_bump_edits/CINIC10_ImageNet-VGG_16/0213_143741/airplane_100/results/airplane-train-n03365231_1136/felzenszwalb_masked_softmax\n",
      "[0214_125631] Creating corresponding logit bump for airplane-train-n03365231_1136/felzenszwalb_gaussian_softmax (51/158)\n",
      "target n_predictions: 10204\n",
      "Initial bounds for bump: (0.6103515625, 1.4901161193847656)\n"
     ]
    },
    {
     "name": "stderr",
     "output_type": "stream",
     "text": [
      "100%|█████████████████████████████████████████████████████████████████████| 274/274 [00:18<00:00, 15.07it/s]\n"
     ]
    },
    {
     "name": "stdout",
     "output_type": "stream",
     "text": [
      "cur_bump_amount: 1.0502338409423828, cur_n_target_predictions: 10256\n",
      "Updated upper bound to 1.0502338409423828\n"
     ]
    },
    {
     "name": "stderr",
     "output_type": "stream",
     "text": [
      "100%|█████████████████████████████████████████████████████████████████████| 274/274 [00:21<00:00, 12.74it/s]\n"
     ]
    },
    {
     "name": "stdout",
     "output_type": "stream",
     "text": [
      "cur_bump_amount: 0.8302927017211914, cur_n_target_predictions: 9995\n",
      "Updated lower bound to 0.8302927017211914\n"
     ]
    },
    {
     "name": "stderr",
     "output_type": "stream",
     "text": [
      "100%|█████████████████████████████████████████████████████████████████████| 274/274 [00:25<00:00, 10.65it/s]\n"
     ]
    },
    {
     "name": "stdout",
     "output_type": "stream",
     "text": [
      "cur_bump_amount: 0.9402632713317871, cur_n_target_predictions: 10104\n",
      "Updated lower bound to 0.9402632713317871\n"
     ]
    },
    {
     "name": "stderr",
     "output_type": "stream",
     "text": [
      "100%|█████████████████████████████████████████████████████████████████████| 274/274 [00:11<00:00, 24.72it/s]\n"
     ]
    },
    {
     "name": "stdout",
     "output_type": "stream",
     "text": [
      "cur_bump_amount: 0.995248556137085, cur_n_target_predictions: 10170\n",
      "Updated lower bound to 0.995248556137085\n"
     ]
    },
    {
     "name": "stderr",
     "output_type": "stream",
     "text": [
      "100%|█████████████████████████████████████████████████████████████████████| 274/274 [00:09<00:00, 29.31it/s]\n"
     ]
    },
    {
     "name": "stdout",
     "output_type": "stream",
     "text": [
      "cur_bump_amount: 1.0227411985397339, cur_n_target_predictions: 10206\n",
      "Updated upper bound to 1.0227411985397339\n",
      "final results: bump amount: 1.0227411985397339 n_target_predictions: 10206\n",
      "saved/edit/experiments/corresponding_bump_edits/CINIC10_ImageNet-VGG_16/0213_143741/airplane_100/results/airplane-train-n03365231_1136/felzenszwalb_gaussian_softmax\n",
      "[0214_125758] Creating corresponding logit bump for airplane-train-n04012482_4880/felzenszwalb_masked_softmax (52/158)\n",
      "target n_predictions: 16970\n",
      "Initial bounds for bump: (3.2741809263825417, 3.4788172342814505)\n"
     ]
    },
    {
     "name": "stderr",
     "output_type": "stream",
     "text": [
      "100%|█████████████████████████████████████████████████████████████████████| 274/274 [00:14<00:00, 18.65it/s]\n"
     ]
    },
    {
     "name": "stdout",
     "output_type": "stream",
     "text": [
      "cur_bump_amount: 3.376499080331996, cur_n_target_predictions: 16785\n",
      "Updated lower bound to 3.376499080331996\n"
     ]
    },
    {
     "name": "stderr",
     "output_type": "stream",
     "text": [
      "100%|█████████████████████████████████████████████████████████████████████| 274/274 [00:10<00:00, 27.31it/s]\n"
     ]
    },
    {
     "name": "stdout",
     "output_type": "stream",
     "text": [
      "cur_bump_amount: 3.4276581573067233, cur_n_target_predictions: 17049\n",
      "Updated upper bound to 3.4276581573067233\n"
     ]
    },
    {
     "name": "stderr",
     "output_type": "stream",
     "text": [
      "100%|█████████████████████████████████████████████████████████████████████| 274/274 [00:12<00:00, 21.12it/s]\n"
     ]
    },
    {
     "name": "stdout",
     "output_type": "stream",
     "text": [
      "cur_bump_amount: 3.4020786188193597, cur_n_target_predictions: 16923\n",
      "Updated lower bound to 3.4020786188193597\n"
     ]
    },
    {
     "name": "stderr",
     "output_type": "stream",
     "text": [
      "100%|█████████████████████████████████████████████████████████████████████| 274/274 [00:15<00:00, 17.76it/s]\n"
     ]
    },
    {
     "name": "stdout",
     "output_type": "stream",
     "text": [
      "cur_bump_amount: 3.4148683880630415, cur_n_target_predictions: 16977\n",
      "Updated upper bound to 3.4148683880630415\n",
      "final results: bump amount: 3.4148683880630415 n_target_predictions: 16977\n",
      "saved/edit/experiments/corresponding_bump_edits/CINIC10_ImageNet-VGG_16/0213_143741/airplane_100/results/airplane-train-n04012482_4880/felzenszwalb_masked_softmax\n",
      "[0214_125851] Creating corresponding logit bump for airplane-train-n04012482_4880/felzenszwalb_gaussian_softmax (53/158)\n",
      "target n_predictions: 10908\n",
      "Initial bounds for bump: (0.6103515625, 1.4901161193847656)\n"
     ]
    },
    {
     "name": "stderr",
     "output_type": "stream",
     "text": [
      "100%|█████████████████████████████████████████████████████████████████████| 274/274 [00:34<00:00,  7.87it/s]\n"
     ]
    },
    {
     "name": "stdout",
     "output_type": "stream",
     "text": [
      "cur_bump_amount: 1.0502338409423828, cur_n_target_predictions: 10256\n",
      "Updated lower bound to 1.0502338409423828\n"
     ]
    },
    {
     "name": "stderr",
     "output_type": "stream",
     "text": [
      "100%|█████████████████████████████████████████████████████████████████████| 274/274 [00:46<00:00,  5.95it/s]\n"
     ]
    },
    {
     "name": "stdout",
     "output_type": "stream",
     "text": [
      "cur_bump_amount: 1.2701749801635742, cur_n_target_predictions: 10566\n",
      "Updated lower bound to 1.2701749801635742\n"
     ]
    },
    {
     "name": "stderr",
     "output_type": "stream",
     "text": [
      "100%|█████████████████████████████████████████████████████████████████████| 274/274 [00:48<00:00,  5.60it/s]\n"
     ]
    },
    {
     "name": "stdout",
     "output_type": "stream",
     "text": [
      "cur_bump_amount: 1.38014554977417, cur_n_target_predictions: 10760\n",
      "Updated lower bound to 1.38014554977417\n"
     ]
    },
    {
     "name": "stderr",
     "output_type": "stream",
     "text": [
      "100%|█████████████████████████████████████████████████████████████████████| 274/274 [01:43<00:00,  2.64it/s]\n"
     ]
    },
    {
     "name": "stdout",
     "output_type": "stream",
     "text": [
      "cur_bump_amount: 1.4351308345794678, cur_n_target_predictions: 10851\n",
      "Updated lower bound to 1.4351308345794678\n"
     ]
    },
    {
     "name": "stderr",
     "output_type": "stream",
     "text": [
      "100%|█████████████████████████████████████████████████████████████████████| 274/274 [00:50<00:00,  5.40it/s]\n"
     ]
    },
    {
     "name": "stdout",
     "output_type": "stream",
     "text": [
      "cur_bump_amount: 1.4626234769821167, cur_n_target_predictions: 10900\n",
      "Updated lower bound to 1.4626234769821167\n",
      "final results: bump amount: 1.4626234769821167 n_target_predictions: 10900\n",
      "saved/edit/experiments/corresponding_bump_edits/CINIC10_ImageNet-VGG_16/0213_143741/airplane_100/results/airplane-train-n04012482_4880/felzenszwalb_gaussian_softmax\n",
      "[0214_130337] Creating corresponding logit bump for airplane-train-n02867715_13526/felzenszwalb_masked_softmax (54/158)\n",
      "target n_predictions: 42613\n",
      "Initial bounds for bump: (6.03030906459745, 6.077420854164617)\n"
     ]
    },
    {
     "name": "stderr",
     "output_type": "stream",
     "text": [
      "100%|█████████████████████████████████████████████████████████████████████| 274/274 [00:24<00:00, 11.38it/s]\n"
     ]
    },
    {
     "name": "stdout",
     "output_type": "stream",
     "text": [
      "cur_bump_amount: 6.053864959381034, cur_n_target_predictions: 42489\n",
      "Updated lower bound to 6.053864959381034\n"
     ]
    },
    {
     "name": "stderr",
     "output_type": "stream",
     "text": [
      "100%|█████████████████████████████████████████████████████████████████████| 274/274 [00:14<00:00, 19.15it/s]\n"
     ]
    },
    {
     "name": "stdout",
     "output_type": "stream",
     "text": [
      "cur_bump_amount: 6.065642906772826, cur_n_target_predictions: 42711\n",
      "Updated upper bound to 6.065642906772826\n"
     ]
    },
    {
     "name": "stderr",
     "output_type": "stream",
     "text": [
      "100%|█████████████████████████████████████████████████████████████████████| 274/274 [00:19<00:00, 14.09it/s]\n"
     ]
    },
    {
     "name": "stdout",
     "output_type": "stream",
     "text": [
      "cur_bump_amount: 6.05975393307693, cur_n_target_predictions: 42591\n",
      "Updated lower bound to 6.05975393307693\n"
     ]
    },
    {
     "name": "stderr",
     "output_type": "stream",
     "text": [
      "100%|█████████████████████████████████████████████████████████████████████| 274/274 [00:18<00:00, 14.75it/s]\n"
     ]
    },
    {
     "name": "stdout",
     "output_type": "stream",
     "text": [
      "cur_bump_amount: 6.062698419924878, cur_n_target_predictions: 42649\n",
      "Updated upper bound to 6.062698419924878\n"
     ]
    },
    {
     "name": "stderr",
     "output_type": "stream",
     "text": [
      "100%|█████████████████████████████████████████████████████████████████████| 274/274 [00:12<00:00, 22.73it/s]\n"
     ]
    },
    {
     "name": "stdout",
     "output_type": "stream",
     "text": [
      "cur_bump_amount: 6.061226176500904, cur_n_target_predictions: 42625\n",
      "Updated upper bound to 6.061226176500904\n"
     ]
    },
    {
     "name": "stderr",
     "output_type": "stream",
     "text": [
      "100%|█████████████████████████████████████████████████████████████████████| 274/274 [00:16<00:00, 16.68it/s]\n"
     ]
    },
    {
     "name": "stdout",
     "output_type": "stream",
     "text": [
      "cur_bump_amount: 6.060490054788917, cur_n_target_predictions: 42609\n",
      "Updated lower bound to 6.060490054788917\n",
      "final results: bump amount: 6.060490054788917 n_target_predictions: 42609\n",
      "saved/edit/experiments/corresponding_bump_edits/CINIC10_ImageNet-VGG_16/0213_143741/airplane_100/results/airplane-train-n02867715_13526/felzenszwalb_masked_softmax\n",
      "[0214_130522] Creating corresponding logit bump for airplane-train-n03365231_6408/felzenszwalb_masked_softmax (55/158)\n",
      "target n_predictions: 16584\n",
      "Initial bounds for bump: (3.2741809263825417, 3.4788172342814505)\n"
     ]
    },
    {
     "name": "stderr",
     "output_type": "stream",
     "text": [
      "100%|█████████████████████████████████████████████████████████████████████| 274/274 [00:27<00:00,  9.92it/s]\n"
     ]
    },
    {
     "name": "stdout",
     "output_type": "stream",
     "text": [
      "cur_bump_amount: 3.376499080331996, cur_n_target_predictions: 16785\n",
      "Updated upper bound to 3.376499080331996\n"
     ]
    },
    {
     "name": "stderr",
     "output_type": "stream",
     "text": [
      "100%|█████████████████████████████████████████████████████████████████████| 274/274 [00:25<00:00, 10.66it/s]\n"
     ]
    },
    {
     "name": "stdout",
     "output_type": "stream",
     "text": [
      "cur_bump_amount: 3.325340003357269, cur_n_target_predictions: 16564\n",
      "Updated lower bound to 3.325340003357269\n"
     ]
    },
    {
     "name": "stderr",
     "output_type": "stream",
     "text": [
      "100%|█████████████████████████████████████████████████████████████████████| 274/274 [00:19<00:00, 13.76it/s]\n"
     ]
    },
    {
     "name": "stdout",
     "output_type": "stream",
     "text": [
      "cur_bump_amount: 3.3509195418446325, cur_n_target_predictions: 16673\n",
      "Updated upper bound to 3.3509195418446325\n"
     ]
    },
    {
     "name": "stderr",
     "output_type": "stream",
     "text": [
      "100%|█████████████████████████████████████████████████████████████████████| 274/274 [00:29<00:00,  9.34it/s]\n"
     ]
    },
    {
     "name": "stdout",
     "output_type": "stream",
     "text": [
      "cur_bump_amount: 3.3381297726009507, cur_n_target_predictions: 16617\n",
      "Updated upper bound to 3.3381297726009507\n"
     ]
    },
    {
     "name": "stderr",
     "output_type": "stream",
     "text": [
      "100%|█████████████████████████████████████████████████████████████████████| 274/274 [00:30<00:00,  8.87it/s]\n"
     ]
    },
    {
     "name": "stdout",
     "output_type": "stream",
     "text": [
      "cur_bump_amount: 3.3317348879791098, cur_n_target_predictions: 16592\n",
      "Updated upper bound to 3.3317348879791098\n",
      "final results: bump amount: 3.3317348879791098 n_target_predictions: 16592\n",
      "saved/edit/experiments/corresponding_bump_edits/CINIC10_ImageNet-VGG_16/0213_143741/airplane_100/results/airplane-train-n03365231_6408/felzenszwalb_masked_softmax\n",
      "[0214_130737] Creating corresponding logit bump for airplane-train-n04160586_14613/felzenszwalb_masked_softmax (56/158)\n",
      "target n_predictions: 22425\n",
      "Initial bounds for bump: (4.220623850414995, 4.348521542851813)\n"
     ]
    },
    {
     "name": "stderr",
     "output_type": "stream",
     "text": [
      "100%|█████████████████████████████████████████████████████████████████████| 274/274 [00:38<00:00,  7.05it/s]\n"
     ]
    },
    {
     "name": "stdout",
     "output_type": "stream",
     "text": [
      "cur_bump_amount: 4.284572696633404, cur_n_target_predictions: 22406\n",
      "Updated lower bound to 4.284572696633404\n"
     ]
    },
    {
     "name": "stderr",
     "output_type": "stream",
     "text": [
      "100%|█████████████████████████████████████████████████████████████████████| 274/274 [00:28<00:00,  9.52it/s]\n"
     ]
    },
    {
     "name": "stdout",
     "output_type": "stream",
     "text": [
      "cur_bump_amount: 4.316547119742609, cur_n_target_predictions: 22643\n",
      "Updated upper bound to 4.316547119742609\n"
     ]
    },
    {
     "name": "stderr",
     "output_type": "stream",
     "text": [
      "100%|█████████████████████████████████████████████████████████████████████| 274/274 [00:38<00:00,  7.07it/s]\n"
     ]
    },
    {
     "name": "stdout",
     "output_type": "stream",
     "text": [
      "cur_bump_amount: 4.300559908188006, cur_n_target_predictions: 22523\n",
      "Updated upper bound to 4.300559908188006\n"
     ]
    },
    {
     "name": "stderr",
     "output_type": "stream",
     "text": [
      "100%|█████████████████████████████████████████████████████████████████████| 274/274 [00:45<00:00,  6.02it/s]\n"
     ]
    },
    {
     "name": "stdout",
     "output_type": "stream",
     "text": [
      "cur_bump_amount: 4.292566302410705, cur_n_target_predictions: 22457\n",
      "Updated upper bound to 4.292566302410705\n"
     ]
    },
    {
     "name": "stderr",
     "output_type": "stream",
     "text": [
      "100%|█████████████████████████████████████████████████████████████████████| 274/274 [00:22<00:00, 12.36it/s]\n"
     ]
    },
    {
     "name": "stdout",
     "output_type": "stream",
     "text": [
      "cur_bump_amount: 4.288569499522055, cur_n_target_predictions: 22430\n",
      "Updated upper bound to 4.288569499522055\n",
      "final results: bump amount: 4.288569499522055 n_target_predictions: 22430\n",
      "saved/edit/experiments/corresponding_bump_edits/CINIC10_ImageNet-VGG_16/0213_143741/airplane_100/results/airplane-train-n04160586_14613/felzenszwalb_masked_softmax\n",
      "[0214_131032] Creating corresponding logit bump for airplane-train-n04160586_14613/felzenszwalb_gaussian_softmax (57/158)\n",
      "target n_predictions: 15414\n",
      "Initial bounds for bump: (3.092281986027956, 3.2741809263825417)\n"
     ]
    },
    {
     "name": "stderr",
     "output_type": "stream",
     "text": [
      "100%|█████████████████████████████████████████████████████████████████████| 274/274 [01:02<00:00,  4.39it/s]\n"
     ]
    },
    {
     "name": "stdout",
     "output_type": "stream",
     "text": [
      "cur_bump_amount: 3.183231456205249, cur_n_target_predictions: 15846\n",
      "Updated upper bound to 3.183231456205249\n"
     ]
    },
    {
     "name": "stderr",
     "output_type": "stream",
     "text": [
      "100%|█████████████████████████████████████████████████████████████████████| 274/274 [00:17<00:00, 15.24it/s]\n"
     ]
    },
    {
     "name": "stdout",
     "output_type": "stream",
     "text": [
      "cur_bump_amount: 3.1377567211166024, cur_n_target_predictions: 15622\n",
      "Updated upper bound to 3.1377567211166024\n"
     ]
    },
    {
     "name": "stderr",
     "output_type": "stream",
     "text": [
      "100%|█████████████████████████████████████████████████████████████████████| 274/274 [00:17<00:00, 15.85it/s]\n"
     ]
    },
    {
     "name": "stdout",
     "output_type": "stream",
     "text": [
      "cur_bump_amount: 3.115019353572279, cur_n_target_predictions: 15509\n",
      "Updated upper bound to 3.115019353572279\n"
     ]
    },
    {
     "name": "stderr",
     "output_type": "stream",
     "text": [
      "100%|█████████████████████████████████████████████████████████████████████| 274/274 [00:12<00:00, 21.85it/s]\n"
     ]
    },
    {
     "name": "stdout",
     "output_type": "stream",
     "text": [
      "cur_bump_amount: 3.1036506698001176, cur_n_target_predictions: 15467\n",
      "Updated upper bound to 3.1036506698001176\n"
     ]
    },
    {
     "name": "stderr",
     "output_type": "stream",
     "text": [
      "100%|█████████████████████████████████████████████████████████████████████| 274/274 [00:18<00:00, 15.16it/s]\n"
     ]
    },
    {
     "name": "stdout",
     "output_type": "stream",
     "text": [
      "cur_bump_amount: 3.097966327914037, cur_n_target_predictions: 15439\n",
      "Updated upper bound to 3.097966327914037\n"
     ]
    },
    {
     "name": "stderr",
     "output_type": "stream",
     "text": [
      "100%|█████████████████████████████████████████████████████████████████████| 274/274 [00:11<00:00, 23.07it/s]\n"
     ]
    },
    {
     "name": "stdout",
     "output_type": "stream",
     "text": [
      "cur_bump_amount: 3.0951241569709964, cur_n_target_predictions: 15422\n",
      "Updated upper bound to 3.0951241569709964\n",
      "final results: bump amount: 3.0951241569709964 n_target_predictions: 15422\n",
      "saved/edit/experiments/corresponding_bump_edits/CINIC10_ImageNet-VGG_16/0213_143741/airplane_100/results/airplane-train-n04160586_14613/felzenszwalb_gaussian_softmax\n",
      "[0214_131253] Creating corresponding logit bump for airplane-train-n03577672_9211/felzenszwalb_masked_softmax (58/158)\n",
      "target n_predictions: 11507\n",
      "Initial bounds for bump: (1.4901161193847656, 1.862645149230957)\n"
     ]
    },
    {
     "name": "stderr",
     "output_type": "stream",
     "text": [
      "100%|█████████████████████████████████████████████████████████████████████| 274/274 [00:18<00:00, 15.05it/s]\n"
     ]
    },
    {
     "name": "stdout",
     "output_type": "stream",
     "text": [
      "cur_bump_amount: 1.6763806343078613, cur_n_target_predictions: 11282\n",
      "Updated lower bound to 1.6763806343078613\n"
     ]
    },
    {
     "name": "stderr",
     "output_type": "stream",
     "text": [
      "100%|█████████████████████████████████████████████████████████████████████| 274/274 [00:23<00:00, 11.56it/s]\n"
     ]
    },
    {
     "name": "stdout",
     "output_type": "stream",
     "text": [
      "cur_bump_amount: 1.7695128917694092, cur_n_target_predictions: 11457\n",
      "Updated lower bound to 1.7695128917694092\n"
     ]
    },
    {
     "name": "stderr",
     "output_type": "stream",
     "text": [
      "100%|█████████████████████████████████████████████████████████████████████| 274/274 [00:21<00:00, 12.56it/s]\n"
     ]
    },
    {
     "name": "stdout",
     "output_type": "stream",
     "text": [
      "cur_bump_amount: 1.816079020500183, cur_n_target_predictions: 11531\n",
      "Updated upper bound to 1.816079020500183\n"
     ]
    },
    {
     "name": "stderr",
     "output_type": "stream",
     "text": [
      "100%|█████████████████████████████████████████████████████████████████████| 274/274 [00:10<00:00, 25.05it/s]\n"
     ]
    },
    {
     "name": "stdout",
     "output_type": "stream",
     "text": [
      "cur_bump_amount: 1.7927959561347961, cur_n_target_predictions: 11491\n",
      "Updated lower bound to 1.7927959561347961\n"
     ]
    },
    {
     "name": "stderr",
     "output_type": "stream",
     "text": [
      "100%|█████████████████████████████████████████████████████████████████████| 274/274 [00:11<00:00, 22.88it/s]\n"
     ]
    },
    {
     "name": "stdout",
     "output_type": "stream",
     "text": [
      "cur_bump_amount: 1.8044374883174896, cur_n_target_predictions: 11515\n",
      "Updated upper bound to 1.8044374883174896\n",
      "final results: bump amount: 1.8044374883174896 n_target_predictions: 11515\n",
      "saved/edit/experiments/corresponding_bump_edits/CINIC10_ImageNet-VGG_16/0213_143741/airplane_100/results/airplane-train-n03577672_9211/felzenszwalb_masked_softmax\n",
      "[0214_131420] Creating corresponding logit bump for airplane-train-n04012084_1354/felzenszwalb_masked_softmax (59/158)\n",
      "target n_predictions: 31326\n",
      "Initial bounds for bump: (5.341727060681478, 5.435651928564766)\n"
     ]
    },
    {
     "name": "stderr",
     "output_type": "stream",
     "text": [
      "100%|█████████████████████████████████████████████████████████████████████| 274/274 [00:10<00:00, 25.54it/s]\n"
     ]
    },
    {
     "name": "stdout",
     "output_type": "stream",
     "text": [
      "cur_bump_amount: 5.388689494623122, cur_n_target_predictions: 31036\n",
      "Updated lower bound to 5.388689494623122\n"
     ]
    },
    {
     "name": "stderr",
     "output_type": "stream",
     "text": [
      "100%|█████████████████████████████████████████████████████████████████████| 274/274 [00:09<00:00, 28.45it/s]\n"
     ]
    },
    {
     "name": "stdout",
     "output_type": "stream",
     "text": [
      "cur_bump_amount: 5.412170711593944, cur_n_target_predictions: 31215\n",
      "Updated lower bound to 5.412170711593944\n"
     ]
    },
    {
     "name": "stderr",
     "output_type": "stream",
     "text": [
      "100%|█████████████████████████████████████████████████████████████████████| 274/274 [00:12<00:00, 22.73it/s]\n"
     ]
    },
    {
     "name": "stdout",
     "output_type": "stream",
     "text": [
      "cur_bump_amount: 5.423911320079355, cur_n_target_predictions: 31325\n",
      "Updated lower bound to 5.423911320079355\n",
      "final results: bump amount: 5.423911320079355 n_target_predictions: 31325\n",
      "saved/edit/experiments/corresponding_bump_edits/CINIC10_ImageNet-VGG_16/0213_143741/airplane_100/results/airplane-train-n04012084_1354/felzenszwalb_masked_softmax\n",
      "[0214_131453] Creating corresponding logit bump for airplane-train-n04160586_5717/felzenszwalb_masked_softmax (60/158)\n",
      "target n_predictions: 18486\n",
      "Initial bounds for bump: (3.637978807091713, 3.751665644813329)\n"
     ]
    },
    {
     "name": "stderr",
     "output_type": "stream",
     "text": [
      "100%|█████████████████████████████████████████████████████████████████████| 274/274 [00:17<00:00, 15.90it/s]\n"
     ]
    },
    {
     "name": "stdout",
     "output_type": "stream",
     "text": [
      "cur_bump_amount: 3.694822225952521, cur_n_target_predictions: 18554\n",
      "Updated upper bound to 3.694822225952521\n"
     ]
    },
    {
     "name": "stderr",
     "output_type": "stream",
     "text": [
      "100%|█████████████████████████████████████████████████████████████████████| 274/274 [00:12<00:00, 22.77it/s]\n"
     ]
    },
    {
     "name": "stdout",
     "output_type": "stream",
     "text": [
      "cur_bump_amount: 3.666400516522117, cur_n_target_predictions: 18395\n",
      "Updated lower bound to 3.666400516522117\n"
     ]
    },
    {
     "name": "stderr",
     "output_type": "stream",
     "text": [
      "100%|█████████████████████████████████████████████████████████████████████| 274/274 [00:17<00:00, 15.48it/s]\n"
     ]
    },
    {
     "name": "stdout",
     "output_type": "stream",
     "text": [
      "cur_bump_amount: 3.680611371237319, cur_n_target_predictions: 18475\n",
      "Updated lower bound to 3.680611371237319\n"
     ]
    },
    {
     "name": "stderr",
     "output_type": "stream",
     "text": [
      "100%|█████████████████████████████████████████████████████████████████████| 274/274 [00:13<00:00, 20.41it/s]\n"
     ]
    },
    {
     "name": "stdout",
     "output_type": "stream",
     "text": [
      "cur_bump_amount: 3.68771679859492, cur_n_target_predictions: 18513\n",
      "Updated upper bound to 3.68771679859492\n"
     ]
    },
    {
     "name": "stderr",
     "output_type": "stream",
     "text": [
      "100%|█████████████████████████████████████████████████████████████████████| 274/274 [00:16<00:00, 16.48it/s]\n"
     ]
    },
    {
     "name": "stdout",
     "output_type": "stream",
     "text": [
      "cur_bump_amount: 3.6841640849161195, cur_n_target_predictions: 18496\n",
      "Updated upper bound to 3.6841640849161195\n",
      "final results: bump amount: 3.6841640849161195 n_target_predictions: 18496\n",
      "saved/edit/experiments/corresponding_bump_edits/CINIC10_ImageNet-VGG_16/0213_143741/airplane_100/results/airplane-train-n04160586_5717/felzenszwalb_masked_softmax\n",
      "[0214_131610] Creating corresponding logit bump for airplane-train-n04160586_5717/felzenszwalb_gaussian_softmax (61/158)\n",
      "target n_predictions: 18034\n",
      "Initial bounds for bump: (3.4788172342814505, 3.637978807091713)\n"
     ]
    },
    {
     "name": "stderr",
     "output_type": "stream",
     "text": [
      "100%|█████████████████████████████████████████████████████████████████████| 274/274 [00:09<00:00, 27.83it/s]\n"
     ]
    },
    {
     "name": "stdout",
     "output_type": "stream",
     "text": [
      "cur_bump_amount: 3.5583980206865817, cur_n_target_predictions: 17773\n",
      "Updated lower bound to 3.5583980206865817\n"
     ]
    },
    {
     "name": "stderr",
     "output_type": "stream",
     "text": [
      "100%|█████████████████████████████████████████████████████████████████████| 274/274 [00:15<00:00, 17.45it/s]\n"
     ]
    },
    {
     "name": "stdout",
     "output_type": "stream",
     "text": [
      "cur_bump_amount: 3.5981884138891473, cur_n_target_predictions: 18004\n",
      "Updated lower bound to 3.5981884138891473\n"
     ]
    },
    {
     "name": "stderr",
     "output_type": "stream",
     "text": [
      "100%|█████████████████████████████████████████████████████████████████████| 274/274 [00:12<00:00, 21.88it/s]\n"
     ]
    },
    {
     "name": "stdout",
     "output_type": "stream",
     "text": [
      "cur_bump_amount: 3.61808361049043, cur_n_target_predictions: 18128\n",
      "Updated upper bound to 3.61808361049043\n"
     ]
    },
    {
     "name": "stderr",
     "output_type": "stream",
     "text": [
      "100%|█████████████████████████████████████████████████████████████████████| 274/274 [00:14<00:00, 18.67it/s]\n"
     ]
    },
    {
     "name": "stdout",
     "output_type": "stream",
     "text": [
      "cur_bump_amount: 3.6081360121897887, cur_n_target_predictions: 18058\n",
      "Updated upper bound to 3.6081360121897887\n"
     ]
    },
    {
     "name": "stderr",
     "output_type": "stream",
     "text": [
      "100%|█████████████████████████████████████████████████████████████████████| 274/274 [00:15<00:00, 17.88it/s]\n"
     ]
    },
    {
     "name": "stdout",
     "output_type": "stream",
     "text": [
      "cur_bump_amount: 3.603162213039468, cur_n_target_predictions: 18033\n",
      "Updated lower bound to 3.603162213039468\n",
      "final results: bump amount: 3.603162213039468 n_target_predictions: 18033\n",
      "saved/edit/experiments/corresponding_bump_edits/CINIC10_ImageNet-VGG_16/0213_143741/airplane_100/results/airplane-train-n04160586_5717/felzenszwalb_gaussian_softmax\n",
      "[0214_131719] Creating corresponding logit bump for airplane-train-n02867715_1242/felzenszwalb_masked_softmax (62/158)\n",
      "target n_predictions: 10005\n",
      "Initial bounds for bump: (0.6103515625, 1.4901161193847656)\n"
     ]
    },
    {
     "name": "stderr",
     "output_type": "stream",
     "text": [
      "100%|█████████████████████████████████████████████████████████████████████| 274/274 [00:13<00:00, 20.64it/s]\n"
     ]
    },
    {
     "name": "stdout",
     "output_type": "stream",
     "text": [
      "cur_bump_amount: 1.0502338409423828, cur_n_target_predictions: 10256\n",
      "Updated upper bound to 1.0502338409423828\n"
     ]
    },
    {
     "name": "stderr",
     "output_type": "stream",
     "text": [
      "100%|█████████████████████████████████████████████████████████████████████| 274/274 [00:28<00:00,  9.64it/s]\n"
     ]
    },
    {
     "name": "stdout",
     "output_type": "stream",
     "text": [
      "cur_bump_amount: 0.8302927017211914, cur_n_target_predictions: 9995\n",
      "Updated lower bound to 0.8302927017211914\n",
      "final results: bump amount: 0.8302927017211914 n_target_predictions: 9995\n",
      "saved/edit/experiments/corresponding_bump_edits/CINIC10_ImageNet-VGG_16/0213_143741/airplane_100/results/airplane-train-n02867715_1242/felzenszwalb_masked_softmax\n",
      "[0214_131801] Creating corresponding logit bump for airplane-train-n02867715_1242/felzenszwalb_gaussian_softmax (63/158)\n",
      "target n_predictions: 10846\n",
      "Initial bounds for bump: (0.6103515625, 1.4901161193847656)\n"
     ]
    },
    {
     "name": "stderr",
     "output_type": "stream",
     "text": [
      "100%|█████████████████████████████████████████████████████████████████████| 274/274 [00:44<00:00,  6.19it/s]\n"
     ]
    },
    {
     "name": "stdout",
     "output_type": "stream",
     "text": [
      "cur_bump_amount: 1.0502338409423828, cur_n_target_predictions: 10256\n",
      "Updated lower bound to 1.0502338409423828\n"
     ]
    },
    {
     "name": "stderr",
     "output_type": "stream",
     "text": [
      "100%|█████████████████████████████████████████████████████████████████████| 274/274 [00:23<00:00, 11.68it/s]\n"
     ]
    },
    {
     "name": "stdout",
     "output_type": "stream",
     "text": [
      "cur_bump_amount: 1.2701749801635742, cur_n_target_predictions: 10566\n",
      "Updated lower bound to 1.2701749801635742\n"
     ]
    },
    {
     "name": "stderr",
     "output_type": "stream",
     "text": [
      "100%|█████████████████████████████████████████████████████████████████████| 274/274 [00:19<00:00, 13.74it/s]\n"
     ]
    },
    {
     "name": "stdout",
     "output_type": "stream",
     "text": [
      "cur_bump_amount: 1.38014554977417, cur_n_target_predictions: 10760\n",
      "Updated lower bound to 1.38014554977417\n"
     ]
    },
    {
     "name": "stderr",
     "output_type": "stream",
     "text": [
      "100%|█████████████████████████████████████████████████████████████████████| 274/274 [00:17<00:00, 15.67it/s]\n"
     ]
    },
    {
     "name": "stdout",
     "output_type": "stream",
     "text": [
      "cur_bump_amount: 1.4351308345794678, cur_n_target_predictions: 10851\n",
      "Updated upper bound to 1.4351308345794678\n",
      "final results: bump amount: 1.4351308345794678 n_target_predictions: 10851\n",
      "saved/edit/experiments/corresponding_bump_edits/CINIC10_ImageNet-VGG_16/0213_143741/airplane_100/results/airplane-train-n02867715_1242/felzenszwalb_gaussian_softmax\n",
      "[0214_131947] Creating corresponding logit bump for airplane-train-n04160586_3455/felzenszwalb_masked_softmax (64/158)\n",
      "target n_predictions: 19879\n",
      "Initial bounds for bump: (3.865352482534945, 4.092726157978177)\n"
     ]
    },
    {
     "name": "stderr",
     "output_type": "stream",
     "text": [
      "100%|█████████████████████████████████████████████████████████████████████| 274/274 [00:15<00:00, 17.35it/s]\n"
     ]
    },
    {
     "name": "stdout",
     "output_type": "stream",
     "text": [
      "cur_bump_amount: 3.979039320256561, cur_n_target_predictions: 20307\n",
      "Updated upper bound to 3.979039320256561\n"
     ]
    },
    {
     "name": "stderr",
     "output_type": "stream",
     "text": [
      "100%|█████████████████████████████████████████████████████████████████████| 274/274 [00:23<00:00, 11.69it/s]\n"
     ]
    },
    {
     "name": "stdout",
     "output_type": "stream",
     "text": [
      "cur_bump_amount: 3.922195901395753, cur_n_target_predictions: 19975\n",
      "Updated upper bound to 3.922195901395753\n"
     ]
    },
    {
     "name": "stderr",
     "output_type": "stream",
     "text": [
      "100%|█████████████████████████████████████████████████████████████████████| 274/274 [00:44<00:00,  6.21it/s]\n"
     ]
    },
    {
     "name": "stdout",
     "output_type": "stream",
     "text": [
      "cur_bump_amount: 3.893774191965349, cur_n_target_predictions: 19787\n",
      "Updated lower bound to 3.893774191965349\n"
     ]
    },
    {
     "name": "stderr",
     "output_type": "stream",
     "text": [
      "100%|█████████████████████████████████████████████████████████████████████| 274/274 [00:20<00:00, 13.70it/s]\n"
     ]
    },
    {
     "name": "stdout",
     "output_type": "stream",
     "text": [
      "cur_bump_amount: 3.907985046680551, cur_n_target_predictions: 19883\n",
      "Updated upper bound to 3.907985046680551\n",
      "final results: bump amount: 3.907985046680551 n_target_predictions: 19883\n",
      "saved/edit/experiments/corresponding_bump_edits/CINIC10_ImageNet-VGG_16/0213_143741/airplane_100/results/airplane-train-n04160586_3455/felzenszwalb_masked_softmax\n",
      "[0214_132131] Creating corresponding logit bump for airplane-train-n04160586_3455/felzenszwalb_gaussian_softmax (65/158)\n",
      "target n_predictions: 18631\n",
      "Initial bounds for bump: (3.637978807091713, 3.751665644813329)\n"
     ]
    },
    {
     "name": "stderr",
     "output_type": "stream",
     "text": [
      "100%|█████████████████████████████████████████████████████████████████████| 274/274 [00:17<00:00, 15.44it/s]\n"
     ]
    },
    {
     "name": "stdout",
     "output_type": "stream",
     "text": [
      "cur_bump_amount: 3.694822225952521, cur_n_target_predictions: 18554\n",
      "Updated lower bound to 3.694822225952521\n"
     ]
    },
    {
     "name": "stderr",
     "output_type": "stream",
     "text": [
      "100%|█████████████████████████████████████████████████████████████████████| 274/274 [00:22<00:00, 12.21it/s]\n"
     ]
    },
    {
     "name": "stdout",
     "output_type": "stream",
     "text": [
      "cur_bump_amount: 3.723243935382925, cur_n_target_predictions: 18695\n",
      "Updated upper bound to 3.723243935382925\n"
     ]
    },
    {
     "name": "stderr",
     "output_type": "stream",
     "text": [
      "100%|█████████████████████████████████████████████████████████████████████| 274/274 [00:12<00:00, 21.14it/s]\n"
     ]
    },
    {
     "name": "stdout",
     "output_type": "stream",
     "text": [
      "cur_bump_amount: 3.709033080667723, cur_n_target_predictions: 18628\n",
      "Updated lower bound to 3.709033080667723\n",
      "final results: bump amount: 3.709033080667723 n_target_predictions: 18628\n",
      "saved/edit/experiments/corresponding_bump_edits/CINIC10_ImageNet-VGG_16/0213_143741/airplane_100/results/airplane-train-n04160586_3455/felzenszwalb_gaussian_softmax\n",
      "[0214_132225] Creating corresponding logit bump for airplane-train-n03365231_5265/felzenszwalb_masked_softmax (66/158)\n",
      "target n_predictions: 26474\n",
      "Initial bounds for bump: (4.7482018317168695, 4.89208673570829)\n"
     ]
    },
    {
     "name": "stderr",
     "output_type": "stream",
     "text": [
      "100%|█████████████████████████████████████████████████████████████████████| 274/274 [00:11<00:00, 23.81it/s]\n"
     ]
    },
    {
     "name": "stdout",
     "output_type": "stream",
     "text": [
      "cur_bump_amount: 4.82014428371258, cur_n_target_predictions: 26420\n",
      "Updated lower bound to 4.82014428371258\n"
     ]
    },
    {
     "name": "stderr",
     "output_type": "stream",
     "text": [
      "100%|█████████████████████████████████████████████████████████████████████| 274/274 [00:17<00:00, 15.86it/s]\n"
     ]
    },
    {
     "name": "stdout",
     "output_type": "stream",
     "text": [
      "cur_bump_amount: 4.856115509710435, cur_n_target_predictions: 26689\n",
      "Updated upper bound to 4.856115509710435\n"
     ]
    },
    {
     "name": "stderr",
     "output_type": "stream",
     "text": [
      "100%|█████████████████████████████████████████████████████████████████████| 274/274 [00:16<00:00, 16.20it/s]\n"
     ]
    },
    {
     "name": "stdout",
     "output_type": "stream",
     "text": [
      "cur_bump_amount: 4.838129896711507, cur_n_target_predictions: 26555\n",
      "Updated upper bound to 4.838129896711507\n"
     ]
    },
    {
     "name": "stderr",
     "output_type": "stream",
     "text": [
      "100%|█████████████████████████████████████████████████████████████████████| 274/274 [00:19<00:00, 14.37it/s]\n"
     ]
    },
    {
     "name": "stdout",
     "output_type": "stream",
     "text": [
      "cur_bump_amount: 4.829137090212043, cur_n_target_predictions: 26494\n",
      "Updated upper bound to 4.829137090212043\n"
     ]
    },
    {
     "name": "stderr",
     "output_type": "stream",
     "text": [
      "100%|█████████████████████████████████████████████████████████████████████| 274/274 [00:11<00:00, 23.38it/s]\n"
     ]
    },
    {
     "name": "stdout",
     "output_type": "stream",
     "text": [
      "cur_bump_amount: 4.8246406869623115, cur_n_target_predictions: 26460\n",
      "Updated lower bound to 4.8246406869623115\n"
     ]
    },
    {
     "name": "stderr",
     "output_type": "stream",
     "text": [
      "100%|█████████████████████████████████████████████████████████████████████| 274/274 [00:14<00:00, 18.51it/s]\n"
     ]
    },
    {
     "name": "stdout",
     "output_type": "stream",
     "text": [
      "cur_bump_amount: 4.8268888885871775, cur_n_target_predictions: 26479\n",
      "Updated upper bound to 4.8268888885871775\n",
      "final results: bump amount: 4.8268888885871775 n_target_predictions: 26479\n",
      "saved/edit/experiments/corresponding_bump_edits/CINIC10_ImageNet-VGG_16/0213_143741/airplane_100/results/airplane-train-n03365231_5265/felzenszwalb_masked_softmax\n",
      "[0214_132356] Creating corresponding logit bump for airplane-train-n03365231_2644/felzenszwalb_masked_softmax (67/158)\n",
      "target n_predictions: 16248\n",
      "Initial bounds for bump: (3.092281986027956, 3.2741809263825417)\n"
     ]
    },
    {
     "name": "stderr",
     "output_type": "stream",
     "text": [
      "100%|█████████████████████████████████████████████████████████████████████| 274/274 [00:20<00:00, 13.27it/s]\n"
     ]
    },
    {
     "name": "stdout",
     "output_type": "stream",
     "text": [
      "cur_bump_amount: 3.183231456205249, cur_n_target_predictions: 15846\n",
      "Updated lower bound to 3.183231456205249\n"
     ]
    },
    {
     "name": "stderr",
     "output_type": "stream",
     "text": [
      "100%|█████████████████████████████████████████████████████████████████████| 274/274 [00:26<00:00, 10.30it/s]\n"
     ]
    },
    {
     "name": "stdout",
     "output_type": "stream",
     "text": [
      "cur_bump_amount: 3.2287061912938952, cur_n_target_predictions: 16057\n",
      "Updated lower bound to 3.2287061912938952\n"
     ]
    },
    {
     "name": "stderr",
     "output_type": "stream",
     "text": [
      "100%|█████████████████████████████████████████████████████████████████████| 274/274 [00:43<00:00,  6.26it/s]\n"
     ]
    },
    {
     "name": "stdout",
     "output_type": "stream",
     "text": [
      "cur_bump_amount: 3.2514435588382185, cur_n_target_predictions: 16179\n",
      "Updated lower bound to 3.2514435588382185\n"
     ]
    },
    {
     "name": "stderr",
     "output_type": "stream",
     "text": [
      "100%|█████████████████████████████████████████████████████████████████████| 274/274 [00:34<00:00,  8.00it/s]\n"
     ]
    },
    {
     "name": "stdout",
     "output_type": "stream",
     "text": [
      "cur_bump_amount: 3.26281224261038, cur_n_target_predictions: 16238\n",
      "Updated lower bound to 3.26281224261038\n",
      "final results: bump amount: 3.26281224261038 n_target_predictions: 16238\n",
      "saved/edit/experiments/corresponding_bump_edits/CINIC10_ImageNet-VGG_16/0213_143741/airplane_100/results/airplane-train-n03365231_2644/felzenszwalb_masked_softmax\n",
      "[0214_132602] Creating corresponding logit bump for airplane-train-n04308397_4250/felzenszwalb_masked_softmax (68/158)\n",
      "target n_predictions: 25851\n",
      "Initial bounds for bump: (4.7482018317168695, 4.89208673570829)\n"
     ]
    },
    {
     "name": "stderr",
     "output_type": "stream",
     "text": [
      "100%|█████████████████████████████████████████████████████████████████████| 274/274 [00:54<00:00,  5.02it/s]\n"
     ]
    },
    {
     "name": "stdout",
     "output_type": "stream",
     "text": [
      "cur_bump_amount: 4.82014428371258, cur_n_target_predictions: 26420\n",
      "Updated upper bound to 4.82014428371258\n"
     ]
    },
    {
     "name": "stderr",
     "output_type": "stream",
     "text": [
      "100%|█████████████████████████████████████████████████████████████████████| 274/274 [00:26<00:00, 10.46it/s]\n"
     ]
    },
    {
     "name": "stdout",
     "output_type": "stream",
     "text": [
      "cur_bump_amount: 4.784173057714725, cur_n_target_predictions: 26133\n",
      "Updated upper bound to 4.784173057714725\n"
     ]
    },
    {
     "name": "stderr",
     "output_type": "stream",
     "text": [
      "100%|█████████████████████████████████████████████████████████████████████| 274/274 [00:30<00:00,  8.86it/s]\n"
     ]
    },
    {
     "name": "stdout",
     "output_type": "stream",
     "text": [
      "cur_bump_amount: 4.766187444715797, cur_n_target_predictions: 25994\n",
      "Updated upper bound to 4.766187444715797\n"
     ]
    },
    {
     "name": "stderr",
     "output_type": "stream",
     "text": [
      "100%|█████████████████████████████████████████████████████████████████████| 274/274 [00:15<00:00, 17.25it/s]\n"
     ]
    },
    {
     "name": "stdout",
     "output_type": "stream",
     "text": [
      "cur_bump_amount: 4.757194638216333, cur_n_target_predictions: 25929\n",
      "Updated upper bound to 4.757194638216333\n"
     ]
    },
    {
     "name": "stderr",
     "output_type": "stream",
     "text": [
      "100%|█████████████████████████████████████████████████████████████████████| 274/274 [00:36<00:00,  7.42it/s]\n"
     ]
    },
    {
     "name": "stdout",
     "output_type": "stream",
     "text": [
      "cur_bump_amount: 4.752698234966601, cur_n_target_predictions: 25894\n",
      "Updated upper bound to 4.752698234966601\n"
     ]
    },
    {
     "name": "stderr",
     "output_type": "stream",
     "text": [
      "100%|█████████████████████████████████████████████████████████████████████| 274/274 [00:23<00:00, 11.61it/s]\n"
     ]
    },
    {
     "name": "stdout",
     "output_type": "stream",
     "text": [
      "cur_bump_amount: 4.750450033341735, cur_n_target_predictions: 25878\n",
      "Updated upper bound to 4.750450033341735\n"
     ]
    },
    {
     "name": "stderr",
     "output_type": "stream",
     "text": [
      "100%|█████████████████████████████████████████████████████████████████████| 274/274 [00:15<00:00, 17.88it/s]\n"
     ]
    },
    {
     "name": "stdout",
     "output_type": "stream",
     "text": [
      "cur_bump_amount: 4.7493259325293025, cur_n_target_predictions: 25863\n",
      "Updated upper bound to 4.7493259325293025\n"
     ]
    },
    {
     "name": "stderr",
     "output_type": "stream",
     "text": [
      "100%|█████████████████████████████████████████████████████████████████████| 274/274 [00:18<00:00, 14.65it/s]\n"
     ]
    },
    {
     "name": "stdout",
     "output_type": "stream",
     "text": [
      "cur_bump_amount: 4.748763882123086, cur_n_target_predictions: 25854\n",
      "Updated upper bound to 4.748763882123086\n",
      "final results: bump amount: 4.748763882123086 n_target_predictions: 25854\n",
      "saved/edit/experiments/corresponding_bump_edits/CINIC10_ImageNet-VGG_16/0213_143741/airplane_100/results/airplane-train-n04308397_4250/felzenszwalb_masked_softmax\n",
      "[0214_132946] Creating corresponding logit bump for airplane-train-n03365231_3242/felzenszwalb_masked_softmax (69/158)\n",
      "target n_predictions: 18920\n",
      "Initial bounds for bump: (3.751665644813329, 3.865352482534945)\n"
     ]
    },
    {
     "name": "stderr",
     "output_type": "stream",
     "text": [
      "100%|█████████████████████████████████████████████████████████████████████| 274/274 [00:09<00:00, 27.47it/s]\n"
     ]
    },
    {
     "name": "stdout",
     "output_type": "stream",
     "text": [
      "cur_bump_amount: 3.808509063674137, cur_n_target_predictions: 19215\n",
      "Updated upper bound to 3.808509063674137\n"
     ]
    },
    {
     "name": "stderr",
     "output_type": "stream",
     "text": [
      "100%|█████████████████████████████████████████████████████████████████████| 274/274 [00:12<00:00, 21.79it/s]\n"
     ]
    },
    {
     "name": "stdout",
     "output_type": "stream",
     "text": [
      "cur_bump_amount: 3.780087354243733, cur_n_target_predictions: 19042\n",
      "Updated upper bound to 3.780087354243733\n"
     ]
    },
    {
     "name": "stderr",
     "output_type": "stream",
     "text": [
      "100%|█████████████████████████████████████████████████████████████████████| 274/274 [00:09<00:00, 27.98it/s]\n"
     ]
    },
    {
     "name": "stdout",
     "output_type": "stream",
     "text": [
      "cur_bump_amount: 3.765876499528531, cur_n_target_predictions: 18944\n",
      "Updated upper bound to 3.765876499528531\n"
     ]
    },
    {
     "name": "stderr",
     "output_type": "stream",
     "text": [
      "100%|█████████████████████████████████████████████████████████████████████| 274/274 [00:15<00:00, 18.05it/s]\n"
     ]
    },
    {
     "name": "stdout",
     "output_type": "stream",
     "text": [
      "cur_bump_amount: 3.75877107217093, cur_n_target_predictions: 18893\n",
      "Updated lower bound to 3.75877107217093\n"
     ]
    },
    {
     "name": "stderr",
     "output_type": "stream",
     "text": [
      "100%|█████████████████████████████████████████████████████████████████████| 274/274 [00:15<00:00, 17.64it/s]\n"
     ]
    },
    {
     "name": "stdout",
     "output_type": "stream",
     "text": [
      "cur_bump_amount: 3.7623237858497305, cur_n_target_predictions: 18918\n",
      "Updated lower bound to 3.7623237858497305\n",
      "final results: bump amount: 3.7623237858497305 n_target_predictions: 18918\n",
      "saved/edit/experiments/corresponding_bump_edits/CINIC10_ImageNet-VGG_16/0213_143741/airplane_100/results/airplane-train-n03365231_3242/felzenszwalb_masked_softmax\n",
      "[0214_133050] Creating corresponding logit bump for airplane-train-n03365231_3242/felzenszwalb_gaussian_softmax (70/158)\n",
      "target n_predictions: 18649\n",
      "Initial bounds for bump: (3.637978807091713, 3.751665644813329)\n"
     ]
    },
    {
     "name": "stderr",
     "output_type": "stream",
     "text": [
      "100%|█████████████████████████████████████████████████████████████████████| 274/274 [00:13<00:00, 19.66it/s]\n"
     ]
    },
    {
     "name": "stdout",
     "output_type": "stream",
     "text": [
      "cur_bump_amount: 3.694822225952521, cur_n_target_predictions: 18554\n",
      "Updated lower bound to 3.694822225952521\n"
     ]
    },
    {
     "name": "stderr",
     "output_type": "stream",
     "text": [
      "100%|█████████████████████████████████████████████████████████████████████| 274/274 [00:20<00:00, 13.07it/s]\n"
     ]
    },
    {
     "name": "stdout",
     "output_type": "stream",
     "text": [
      "cur_bump_amount: 3.723243935382925, cur_n_target_predictions: 18695\n",
      "Updated upper bound to 3.723243935382925\n"
     ]
    },
    {
     "name": "stderr",
     "output_type": "stream",
     "text": [
      "100%|█████████████████████████████████████████████████████████████████████| 274/274 [00:12<00:00, 21.68it/s]\n"
     ]
    },
    {
     "name": "stdout",
     "output_type": "stream",
     "text": [
      "cur_bump_amount: 3.709033080667723, cur_n_target_predictions: 18628\n",
      "Updated lower bound to 3.709033080667723\n"
     ]
    },
    {
     "name": "stderr",
     "output_type": "stream",
     "text": [
      "100%|█████████████████████████████████████████████████████████████████████| 274/274 [00:18<00:00, 14.47it/s]\n"
     ]
    },
    {
     "name": "stdout",
     "output_type": "stream",
     "text": [
      "cur_bump_amount: 3.716138508025324, cur_n_target_predictions: 18653\n",
      "Updated upper bound to 3.716138508025324\n",
      "final results: bump amount: 3.716138508025324 n_target_predictions: 18653\n",
      "saved/edit/experiments/corresponding_bump_edits/CINIC10_ImageNet-VGG_16/0213_143741/airplane_100/results/airplane-train-n03365231_3242/felzenszwalb_gaussian_softmax\n",
      "[0214_133157] Creating corresponding logit bump for airplane-train-n02691156_35355/felzenszwalb_masked_softmax (71/158)\n",
      "target n_predictions: 19022\n",
      "Initial bounds for bump: (3.751665644813329, 3.865352482534945)\n"
     ]
    },
    {
     "name": "stderr",
     "output_type": "stream",
     "text": [
      "100%|█████████████████████████████████████████████████████████████████████| 274/274 [00:21<00:00, 12.78it/s]\n"
     ]
    },
    {
     "name": "stdout",
     "output_type": "stream",
     "text": [
      "cur_bump_amount: 3.808509063674137, cur_n_target_predictions: 19215\n",
      "Updated upper bound to 3.808509063674137\n"
     ]
    },
    {
     "name": "stderr",
     "output_type": "stream",
     "text": [
      "100%|█████████████████████████████████████████████████████████████████████| 274/274 [00:56<00:00,  4.81it/s]\n"
     ]
    },
    {
     "name": "stdout",
     "output_type": "stream",
     "text": [
      "cur_bump_amount: 3.780087354243733, cur_n_target_predictions: 19042\n",
      "Updated upper bound to 3.780087354243733\n"
     ]
    },
    {
     "name": "stderr",
     "output_type": "stream",
     "text": [
      "100%|█████████████████████████████████████████████████████████████████████| 274/274 [00:15<00:00, 17.94it/s]\n"
     ]
    },
    {
     "name": "stdout",
     "output_type": "stream",
     "text": [
      "cur_bump_amount: 3.765876499528531, cur_n_target_predictions: 18944\n",
      "Updated lower bound to 3.765876499528531\n"
     ]
    },
    {
     "name": "stderr",
     "output_type": "stream",
     "text": [
      "100%|█████████████████████████████████████████████████████████████████████| 274/274 [00:14<00:00, 19.04it/s]\n"
     ]
    },
    {
     "name": "stdout",
     "output_type": "stream",
     "text": [
      "cur_bump_amount: 3.772981926886132, cur_n_target_predictions: 18987\n",
      "Updated lower bound to 3.772981926886132\n"
     ]
    },
    {
     "name": "stderr",
     "output_type": "stream",
     "text": [
      "100%|█████████████████████████████████████████████████████████████████████| 274/274 [00:26<00:00, 10.42it/s]\n"
     ]
    },
    {
     "name": "stdout",
     "output_type": "stream",
     "text": [
      "cur_bump_amount: 3.7765346405649325, cur_n_target_predictions: 19019\n",
      "Updated lower bound to 3.7765346405649325\n",
      "final results: bump amount: 3.7765346405649325 n_target_predictions: 19019\n",
      "saved/edit/experiments/corresponding_bump_edits/CINIC10_ImageNet-VGG_16/0213_143741/airplane_100/results/airplane-train-n02691156_35355/felzenszwalb_masked_softmax\n",
      "[0214_133412] Creating corresponding logit bump for airplane-train-n02691156_35355/felzenszwalb_gaussian_softmax (72/158)\n",
      "target n_predictions: 17973\n",
      "Initial bounds for bump: (3.4788172342814505, 3.637978807091713)\n"
     ]
    },
    {
     "name": "stderr",
     "output_type": "stream",
     "text": [
      "100%|█████████████████████████████████████████████████████████████████████| 274/274 [00:13<00:00, 20.06it/s]\n"
     ]
    },
    {
     "name": "stdout",
     "output_type": "stream",
     "text": [
      "cur_bump_amount: 3.5583980206865817, cur_n_target_predictions: 17773\n",
      "Updated lower bound to 3.5583980206865817\n"
     ]
    },
    {
     "name": "stderr",
     "output_type": "stream",
     "text": [
      "100%|█████████████████████████████████████████████████████████████████████| 274/274 [00:12<00:00, 21.80it/s]\n"
     ]
    },
    {
     "name": "stdout",
     "output_type": "stream",
     "text": [
      "cur_bump_amount: 3.5981884138891473, cur_n_target_predictions: 18004\n",
      "Updated upper bound to 3.5981884138891473\n"
     ]
    },
    {
     "name": "stderr",
     "output_type": "stream",
     "text": [
      "100%|█████████████████████████████████████████████████████████████████████| 274/274 [00:12<00:00, 21.24it/s]\n"
     ]
    },
    {
     "name": "stdout",
     "output_type": "stream",
     "text": [
      "cur_bump_amount: 3.5782932172878645, cur_n_target_predictions: 17884\n",
      "Updated lower bound to 3.5782932172878645\n"
     ]
    },
    {
     "name": "stderr",
     "output_type": "stream",
     "text": [
      "100%|█████████████████████████████████████████████████████████████████████| 274/274 [00:12<00:00, 22.19it/s]\n"
     ]
    },
    {
     "name": "stdout",
     "output_type": "stream",
     "text": [
      "cur_bump_amount: 3.588240815588506, cur_n_target_predictions: 17942\n",
      "Updated lower bound to 3.588240815588506\n"
     ]
    },
    {
     "name": "stderr",
     "output_type": "stream",
     "text": [
      "100%|█████████████████████████████████████████████████████████████████████| 274/274 [00:10<00:00, 26.05it/s]\n"
     ]
    },
    {
     "name": "stdout",
     "output_type": "stream",
     "text": [
      "cur_bump_amount: 3.5932146147388266, cur_n_target_predictions: 17973\n",
      "final results: bump amount: 3.5932146147388266 n_target_predictions: 17973\n",
      "saved/edit/experiments/corresponding_bump_edits/CINIC10_ImageNet-VGG_16/0213_143741/airplane_100/results/airplane-train-n02691156_35355/felzenszwalb_gaussian_softmax\n",
      "[0214_133515] Creating corresponding logit bump for airplane-train-n02867715_13583/felzenszwalb_masked_softmax (73/158)\n",
      "target n_predictions: 15008\n",
      "Initial bounds for bump: (2.9103830456733704, 3.092281986027956)\n"
     ]
    },
    {
     "name": "stderr",
     "output_type": "stream",
     "text": [
      "100%|█████████████████████████████████████████████████████████████████████| 274/274 [00:11<00:00, 23.69it/s]\n"
     ]
    },
    {
     "name": "stdout",
     "output_type": "stream",
     "text": [
      "cur_bump_amount: 3.001332515850663, cur_n_target_predictions: 15061\n",
      "Updated upper bound to 3.001332515850663\n"
     ]
    },
    {
     "name": "stderr",
     "output_type": "stream",
     "text": [
      "100%|█████████████████████████████████████████████████████████████████████| 274/274 [00:09<00:00, 28.13it/s]\n"
     ]
    },
    {
     "name": "stdout",
     "output_type": "stream",
     "text": [
      "cur_bump_amount: 2.9558577807620168, cur_n_target_predictions: 14865\n",
      "Updated lower bound to 2.9558577807620168\n"
     ]
    },
    {
     "name": "stderr",
     "output_type": "stream",
     "text": [
      "100%|█████████████████████████████████████████████████████████████████████| 274/274 [00:16<00:00, 16.41it/s]\n"
     ]
    },
    {
     "name": "stdout",
     "output_type": "stream",
     "text": [
      "cur_bump_amount: 2.97859514830634, cur_n_target_predictions: 14961\n",
      "Updated lower bound to 2.97859514830634\n"
     ]
    },
    {
     "name": "stderr",
     "output_type": "stream",
     "text": [
      "100%|█████████████████████████████████████████████████████████████████████| 274/274 [00:12<00:00, 21.77it/s]\n"
     ]
    },
    {
     "name": "stdout",
     "output_type": "stream",
     "text": [
      "cur_bump_amount: 2.9899638320785016, cur_n_target_predictions: 15019\n",
      "Updated upper bound to 2.9899638320785016\n"
     ]
    },
    {
     "name": "stderr",
     "output_type": "stream",
     "text": [
      "100%|█████████████████████████████████████████████████████████████████████| 274/274 [00:09<00:00, 28.22it/s]\n"
     ]
    },
    {
     "name": "stdout",
     "output_type": "stream",
     "text": [
      "cur_bump_amount: 2.984279490192421, cur_n_target_predictions: 14974\n",
      "Updated lower bound to 2.984279490192421\n"
     ]
    },
    {
     "name": "stderr",
     "output_type": "stream",
     "text": [
      "100%|█████████████████████████████████████████████████████████████████████| 274/274 [00:09<00:00, 29.74it/s]\n"
     ]
    },
    {
     "name": "stdout",
     "output_type": "stream",
     "text": [
      "cur_bump_amount: 2.987121661135461, cur_n_target_predictions: 14999\n",
      "Updated lower bound to 2.987121661135461\n",
      "final results: bump amount: 2.987121661135461 n_target_predictions: 14999\n",
      "saved/edit/experiments/corresponding_bump_edits/CINIC10_ImageNet-VGG_16/0213_143741/airplane_100/results/airplane-train-n02867715_13583/felzenszwalb_masked_softmax\n",
      "[0214_133625] Creating corresponding logit bump for airplane-train-n02867715_13583/felzenszwalb_gaussian_softmax (74/158)\n",
      "target n_predictions: 15341\n",
      "Initial bounds for bump: (2.9103830456733704, 3.092281986027956)\n"
     ]
    },
    {
     "name": "stderr",
     "output_type": "stream",
     "text": [
      "100%|█████████████████████████████████████████████████████████████████████| 274/274 [00:09<00:00, 29.22it/s]\n"
     ]
    },
    {
     "name": "stdout",
     "output_type": "stream",
     "text": [
      "cur_bump_amount: 3.001332515850663, cur_n_target_predictions: 15061\n",
      "Updated lower bound to 3.001332515850663\n"
     ]
    },
    {
     "name": "stderr",
     "output_type": "stream",
     "text": [
      "100%|█████████████████████████████████████████████████████████████████████| 274/274 [00:08<00:00, 31.93it/s]\n"
     ]
    },
    {
     "name": "stdout",
     "output_type": "stream",
     "text": [
      "cur_bump_amount: 3.0468072509393096, cur_n_target_predictions: 15232\n",
      "Updated lower bound to 3.0468072509393096\n"
     ]
    },
    {
     "name": "stderr",
     "output_type": "stream",
     "text": [
      "100%|█████████████████████████████████████████████████████████████████████| 274/274 [00:09<00:00, 28.68it/s]\n"
     ]
    },
    {
     "name": "stdout",
     "output_type": "stream",
     "text": [
      "cur_bump_amount: 3.069544618483633, cur_n_target_predictions: 15320\n",
      "Updated lower bound to 3.069544618483633\n"
     ]
    },
    {
     "name": "stderr",
     "output_type": "stream",
     "text": [
      "100%|█████████████████████████████████████████████████████████████████████| 274/274 [00:09<00:00, 29.41it/s]\n"
     ]
    },
    {
     "name": "stdout",
     "output_type": "stream",
     "text": [
      "cur_bump_amount: 3.0809133022557944, cur_n_target_predictions: 15376\n",
      "Updated upper bound to 3.0809133022557944\n"
     ]
    },
    {
     "name": "stderr",
     "output_type": "stream",
     "text": [
      "100%|█████████████████████████████████████████████████████████████████████| 274/274 [00:09<00:00, 29.61it/s]\n"
     ]
    },
    {
     "name": "stdout",
     "output_type": "stream",
     "text": [
      "cur_bump_amount: 3.0752289603697136, cur_n_target_predictions: 15351\n",
      "Updated upper bound to 3.0752289603697136\n",
      "final results: bump amount: 3.0752289603697136 n_target_predictions: 15351\n",
      "saved/edit/experiments/corresponding_bump_edits/CINIC10_ImageNet-VGG_16/0213_143741/airplane_100/results/airplane-train-n02867715_13583/felzenszwalb_gaussian_softmax\n",
      "[0214_133711] Creating corresponding logit bump for airplane-train-n02691156_10867/felzenszwalb_masked_softmax (75/158)\n",
      "target n_predictions: 18004\n",
      "Initial bounds for bump: (3.4788172342814505, 3.637978807091713)\n"
     ]
    },
    {
     "name": "stderr",
     "output_type": "stream",
     "text": [
      "100%|█████████████████████████████████████████████████████████████████████| 274/274 [00:09<00:00, 29.57it/s]\n"
     ]
    },
    {
     "name": "stdout",
     "output_type": "stream",
     "text": [
      "cur_bump_amount: 3.5583980206865817, cur_n_target_predictions: 17773\n",
      "Updated lower bound to 3.5583980206865817\n"
     ]
    },
    {
     "name": "stderr",
     "output_type": "stream",
     "text": [
      "100%|█████████████████████████████████████████████████████████████████████| 274/274 [00:09<00:00, 29.72it/s]\n"
     ]
    },
    {
     "name": "stdout",
     "output_type": "stream",
     "text": [
      "cur_bump_amount: 3.5981884138891473, cur_n_target_predictions: 18004\n",
      "final results: bump amount: 3.5981884138891473 n_target_predictions: 18004\n",
      "saved/edit/experiments/corresponding_bump_edits/CINIC10_ImageNet-VGG_16/0213_143741/airplane_100/results/airplane-train-n02691156_10867/felzenszwalb_masked_softmax\n",
      "[0214_133730] Creating corresponding logit bump for airplane-train-n02691156_10867/felzenszwalb_gaussian_softmax (76/158)\n",
      "target n_predictions: 10997\n",
      "Initial bounds for bump: (1.4901161193847656, 1.862645149230957)\n"
     ]
    },
    {
     "name": "stderr",
     "output_type": "stream",
     "text": [
      "100%|█████████████████████████████████████████████████████████████████████| 274/274 [00:09<00:00, 29.30it/s]\n"
     ]
    },
    {
     "name": "stdout",
     "output_type": "stream",
     "text": [
      "cur_bump_amount: 1.6763806343078613, cur_n_target_predictions: 11282\n",
      "Updated upper bound to 1.6763806343078613\n"
     ]
    },
    {
     "name": "stderr",
     "output_type": "stream",
     "text": [
      "100%|█████████████████████████████████████████████████████████████████████| 274/274 [00:09<00:00, 29.43it/s]\n"
     ]
    },
    {
     "name": "stdout",
     "output_type": "stream",
     "text": [
      "cur_bump_amount: 1.5832483768463135, cur_n_target_predictions: 11110\n",
      "Updated upper bound to 1.5832483768463135\n"
     ]
    },
    {
     "name": "stderr",
     "output_type": "stream",
     "text": [
      "100%|█████████████████████████████████████████████████████████████████████| 274/274 [00:09<00:00, 28.37it/s]\n"
     ]
    },
    {
     "name": "stdout",
     "output_type": "stream",
     "text": [
      "cur_bump_amount: 1.5366822481155396, cur_n_target_predictions: 11034\n",
      "Updated upper bound to 1.5366822481155396\n"
     ]
    },
    {
     "name": "stderr",
     "output_type": "stream",
     "text": [
      "100%|█████████████████████████████████████████████████████████████████████| 274/274 [00:10<00:00, 25.91it/s]\n"
     ]
    },
    {
     "name": "stdout",
     "output_type": "stream",
     "text": [
      "cur_bump_amount: 1.5133991837501526, cur_n_target_predictions: 10988\n",
      "Updated lower bound to 1.5133991837501526\n",
      "final results: bump amount: 1.5133991837501526 n_target_predictions: 10988\n",
      "saved/edit/experiments/corresponding_bump_edits/CINIC10_ImageNet-VGG_16/0213_143741/airplane_100/results/airplane-train-n02691156_10867/felzenszwalb_gaussian_softmax\n",
      "[0214_133809] Creating corresponding logit bump for airplane-train-n03595860_16451/felzenszwalb_masked_softmax (77/158)\n",
      "target n_predictions: 27823\n",
      "Initial bounds for bump: (4.89208673570829, 5.044964446199174)\n"
     ]
    },
    {
     "name": "stderr",
     "output_type": "stream",
     "text": [
      "100%|█████████████████████████████████████████████████████████████████████| 274/274 [00:10<00:00, 24.94it/s]\n"
     ]
    },
    {
     "name": "stdout",
     "output_type": "stream",
     "text": [
      "cur_bump_amount: 4.968525590953732, cur_n_target_predictions: 27576\n",
      "Updated lower bound to 4.968525590953732\n"
     ]
    },
    {
     "name": "stderr",
     "output_type": "stream",
     "text": [
      "100%|█████████████████████████████████████████████████████████████████████| 274/274 [00:12<00:00, 21.47it/s]\n"
     ]
    },
    {
     "name": "stdout",
     "output_type": "stream",
     "text": [
      "cur_bump_amount: 5.006745018576453, cur_n_target_predictions: 27887\n",
      "Updated upper bound to 5.006745018576453\n"
     ]
    },
    {
     "name": "stderr",
     "output_type": "stream",
     "text": [
      "100%|█████████████████████████████████████████████████████████████████████| 274/274 [00:09<00:00, 29.00it/s]\n"
     ]
    },
    {
     "name": "stdout",
     "output_type": "stream",
     "text": [
      "cur_bump_amount: 4.987635304765092, cur_n_target_predictions: 27731\n",
      "Updated lower bound to 4.987635304765092\n"
     ]
    },
    {
     "name": "stderr",
     "output_type": "stream",
     "text": [
      "100%|█████████████████████████████████████████████████████████████████████| 274/274 [00:09<00:00, 29.10it/s]\n"
     ]
    },
    {
     "name": "stdout",
     "output_type": "stream",
     "text": [
      "cur_bump_amount: 4.997190161670773, cur_n_target_predictions: 27810\n",
      "Updated lower bound to 4.997190161670773\n"
     ]
    },
    {
     "name": "stderr",
     "output_type": "stream",
     "text": [
      "100%|█████████████████████████████████████████████████████████████████████| 274/274 [00:10<00:00, 26.22it/s]\n"
     ]
    },
    {
     "name": "stdout",
     "output_type": "stream",
     "text": [
      "cur_bump_amount: 5.001967590123613, cur_n_target_predictions: 27851\n",
      "Updated upper bound to 5.001967590123613\n"
     ]
    },
    {
     "name": "stderr",
     "output_type": "stream",
     "text": [
      "100%|█████████████████████████████████████████████████████████████████████| 274/274 [00:10<00:00, 26.80it/s]\n"
     ]
    },
    {
     "name": "stdout",
     "output_type": "stream",
     "text": [
      "cur_bump_amount: 4.999578875897193, cur_n_target_predictions: 27828\n",
      "Updated upper bound to 4.999578875897193\n",
      "final results: bump amount: 4.999578875897193 n_target_predictions: 27828\n",
      "saved/edit/experiments/corresponding_bump_edits/CINIC10_ImageNet-VGG_16/0213_143741/airplane_100/results/airplane-train-n03595860_16451/felzenszwalb_masked_softmax\n",
      "[0214_133913] Creating corresponding logit bump for airplane-train-n03595860_16451/felzenszwalb_gaussian_softmax (78/158)\n",
      "target n_predictions: 10865\n",
      "Initial bounds for bump: (0.6103515625, 1.4901161193847656)\n"
     ]
    },
    {
     "name": "stderr",
     "output_type": "stream",
     "text": [
      "100%|█████████████████████████████████████████████████████████████████████| 274/274 [00:11<00:00, 23.86it/s]\n"
     ]
    },
    {
     "name": "stdout",
     "output_type": "stream",
     "text": [
      "cur_bump_amount: 1.0502338409423828, cur_n_target_predictions: 10256\n",
      "Updated lower bound to 1.0502338409423828\n"
     ]
    },
    {
     "name": "stderr",
     "output_type": "stream",
     "text": [
      "100%|█████████████████████████████████████████████████████████████████████| 274/274 [00:12<00:00, 22.54it/s]\n"
     ]
    },
    {
     "name": "stdout",
     "output_type": "stream",
     "text": [
      "cur_bump_amount: 1.2701749801635742, cur_n_target_predictions: 10566\n",
      "Updated lower bound to 1.2701749801635742\n"
     ]
    },
    {
     "name": "stderr",
     "output_type": "stream",
     "text": [
      "100%|█████████████████████████████████████████████████████████████████████| 274/274 [00:10<00:00, 27.21it/s]\n"
     ]
    },
    {
     "name": "stdout",
     "output_type": "stream",
     "text": [
      "cur_bump_amount: 1.38014554977417, cur_n_target_predictions: 10760\n",
      "Updated lower bound to 1.38014554977417\n"
     ]
    },
    {
     "name": "stderr",
     "output_type": "stream",
     "text": [
      "100%|█████████████████████████████████████████████████████████████████████| 274/274 [00:09<00:00, 28.15it/s]\n"
     ]
    },
    {
     "name": "stdout",
     "output_type": "stream",
     "text": [
      "cur_bump_amount: 1.4351308345794678, cur_n_target_predictions: 10851\n",
      "Updated lower bound to 1.4351308345794678\n"
     ]
    },
    {
     "name": "stderr",
     "output_type": "stream",
     "text": [
      "100%|█████████████████████████████████████████████████████████████████████| 274/274 [00:09<00:00, 29.09it/s]\n"
     ]
    },
    {
     "name": "stdout",
     "output_type": "stream",
     "text": [
      "cur_bump_amount: 1.4626234769821167, cur_n_target_predictions: 10900\n",
      "Updated upper bound to 1.4626234769821167\n"
     ]
    },
    {
     "name": "stderr",
     "output_type": "stream",
     "text": [
      "100%|█████████████████████████████████████████████████████████████████████| 274/274 [00:09<00:00, 29.94it/s]\n"
     ]
    },
    {
     "name": "stdout",
     "output_type": "stream",
     "text": [
      "cur_bump_amount: 1.4488771557807922, cur_n_target_predictions: 10872\n",
      "Updated upper bound to 1.4488771557807922\n",
      "final results: bump amount: 1.4488771557807922 n_target_predictions: 10872\n",
      "saved/edit/experiments/corresponding_bump_edits/CINIC10_ImageNet-VGG_16/0213_143741/airplane_100/results/airplane-train-n03595860_16451/felzenszwalb_gaussian_softmax\n",
      "[0214_134015] Creating corresponding logit bump for airplane-train-n04160586_3988/felzenszwalb_masked_softmax (79/158)\n",
      "target n_predictions: 19811\n",
      "Initial bounds for bump: (3.865352482534945, 4.092726157978177)\n"
     ]
    },
    {
     "name": "stderr",
     "output_type": "stream",
     "text": [
      "100%|█████████████████████████████████████████████████████████████████████| 274/274 [00:09<00:00, 29.31it/s]\n"
     ]
    },
    {
     "name": "stdout",
     "output_type": "stream",
     "text": [
      "cur_bump_amount: 3.979039320256561, cur_n_target_predictions: 20307\n",
      "Updated upper bound to 3.979039320256561\n"
     ]
    },
    {
     "name": "stderr",
     "output_type": "stream",
     "text": [
      "100%|█████████████████████████████████████████████████████████████████████| 274/274 [00:09<00:00, 29.60it/s]\n"
     ]
    },
    {
     "name": "stdout",
     "output_type": "stream",
     "text": [
      "cur_bump_amount: 3.922195901395753, cur_n_target_predictions: 19975\n",
      "Updated upper bound to 3.922195901395753\n"
     ]
    },
    {
     "name": "stderr",
     "output_type": "stream",
     "text": [
      "100%|█████████████████████████████████████████████████████████████████████| 274/274 [00:12<00:00, 22.81it/s]\n"
     ]
    },
    {
     "name": "stdout",
     "output_type": "stream",
     "text": [
      "cur_bump_amount: 3.893774191965349, cur_n_target_predictions: 19787\n",
      "Updated lower bound to 3.893774191965349\n"
     ]
    },
    {
     "name": "stderr",
     "output_type": "stream",
     "text": [
      "100%|█████████████████████████████████████████████████████████████████████| 274/274 [00:11<00:00, 23.98it/s]\n"
     ]
    },
    {
     "name": "stdout",
     "output_type": "stream",
     "text": [
      "cur_bump_amount: 3.907985046680551, cur_n_target_predictions: 19883\n",
      "Updated upper bound to 3.907985046680551\n"
     ]
    },
    {
     "name": "stderr",
     "output_type": "stream",
     "text": [
      "100%|█████████████████████████████████████████████████████████████████████| 274/274 [00:12<00:00, 22.77it/s]\n"
     ]
    },
    {
     "name": "stdout",
     "output_type": "stream",
     "text": [
      "cur_bump_amount: 3.90087961932295, cur_n_target_predictions: 19829\n",
      "Updated upper bound to 3.90087961932295\n"
     ]
    },
    {
     "name": "stderr",
     "output_type": "stream",
     "text": [
      "100%|█████████████████████████████████████████████████████████████████████| 274/274 [00:10<00:00, 26.47it/s]\n"
     ]
    },
    {
     "name": "stdout",
     "output_type": "stream",
     "text": [
      "cur_bump_amount: 3.8973269056441495, cur_n_target_predictions: 19808\n",
      "Updated lower bound to 3.8973269056441495\n",
      "final results: bump amount: 3.8973269056441495 n_target_predictions: 19808\n",
      "saved/edit/experiments/corresponding_bump_edits/CINIC10_ImageNet-VGG_16/0213_143741/airplane_100/results/airplane-train-n04160586_3988/felzenszwalb_masked_softmax\n",
      "[0214_134120] Creating corresponding logit bump for airplane-train-n04160586_3988/felzenszwalb_gaussian_softmax (80/158)\n",
      "target n_predictions: 17393\n",
      "Initial bounds for bump: (3.4788172342814505, 3.637978807091713)\n"
     ]
    },
    {
     "name": "stderr",
     "output_type": "stream",
     "text": [
      "100%|█████████████████████████████████████████████████████████████████████| 274/274 [00:09<00:00, 29.86it/s]\n"
     ]
    },
    {
     "name": "stdout",
     "output_type": "stream",
     "text": [
      "cur_bump_amount: 3.5583980206865817, cur_n_target_predictions: 17773\n",
      "Updated upper bound to 3.5583980206865817\n"
     ]
    },
    {
     "name": "stderr",
     "output_type": "stream",
     "text": [
      "100%|█████████████████████████████████████████████████████████████████████| 274/274 [00:09<00:00, 29.72it/s]\n"
     ]
    },
    {
     "name": "stdout",
     "output_type": "stream",
     "text": [
      "cur_bump_amount: 3.518607627484016, cur_n_target_predictions: 17533\n",
      "Updated upper bound to 3.518607627484016\n"
     ]
    },
    {
     "name": "stderr",
     "output_type": "stream",
     "text": [
      "100%|█████████████████████████████████████████████████████████████████████| 274/274 [00:11<00:00, 24.18it/s]\n"
     ]
    },
    {
     "name": "stdout",
     "output_type": "stream",
     "text": [
      "cur_bump_amount: 3.4987124308827333, cur_n_target_predictions: 17418\n",
      "Updated upper bound to 3.4987124308827333\n"
     ]
    },
    {
     "name": "stderr",
     "output_type": "stream",
     "text": [
      "100%|█████████████████████████████████████████████████████████████████████| 274/274 [00:09<00:00, 27.45it/s]\n"
     ]
    },
    {
     "name": "stdout",
     "output_type": "stream",
     "text": [
      "cur_bump_amount: 3.488764832582092, cur_n_target_predictions: 17375\n",
      "Updated lower bound to 3.488764832582092\n"
     ]
    },
    {
     "name": "stderr",
     "output_type": "stream",
     "text": [
      "100%|█████████████████████████████████████████████████████████████████████| 274/274 [00:09<00:00, 28.90it/s]\n"
     ]
    },
    {
     "name": "stdout",
     "output_type": "stream",
     "text": [
      "cur_bump_amount: 3.4937386317324126, cur_n_target_predictions: 17397\n",
      "Updated upper bound to 3.4937386317324126\n",
      "final results: bump amount: 3.4937386317324126 n_target_predictions: 17397\n",
      "saved/edit/experiments/corresponding_bump_edits/CINIC10_ImageNet-VGG_16/0213_143741/airplane_100/results/airplane-train-n04160586_3988/felzenszwalb_gaussian_softmax\n",
      "[0214_134210] Creating corresponding logit bump for airplane-train-n03365231_856/felzenszwalb_masked_softmax (81/158)\n",
      "target n_predictions: 15766\n",
      "Initial bounds for bump: (3.092281986027956, 3.2741809263825417)\n"
     ]
    },
    {
     "name": "stderr",
     "output_type": "stream",
     "text": [
      "100%|█████████████████████████████████████████████████████████████████████| 274/274 [00:09<00:00, 29.52it/s]\n"
     ]
    },
    {
     "name": "stdout",
     "output_type": "stream",
     "text": [
      "cur_bump_amount: 3.183231456205249, cur_n_target_predictions: 15846\n",
      "Updated upper bound to 3.183231456205249\n"
     ]
    },
    {
     "name": "stderr",
     "output_type": "stream",
     "text": [
      "100%|█████████████████████████████████████████████████████████████████████| 274/274 [00:08<00:00, 30.91it/s]\n"
     ]
    },
    {
     "name": "stdout",
     "output_type": "stream",
     "text": [
      "cur_bump_amount: 3.1377567211166024, cur_n_target_predictions: 15622\n",
      "Updated lower bound to 3.1377567211166024\n"
     ]
    },
    {
     "name": "stderr",
     "output_type": "stream",
     "text": [
      "100%|█████████████████████████████████████████████████████████████████████| 274/274 [00:10<00:00, 26.33it/s]\n"
     ]
    },
    {
     "name": "stdout",
     "output_type": "stream",
     "text": [
      "cur_bump_amount: 3.1604940886609256, cur_n_target_predictions: 15718\n",
      "Updated lower bound to 3.1604940886609256\n"
     ]
    },
    {
     "name": "stderr",
     "output_type": "stream",
     "text": [
      "100%|█████████████████████████████████████████████████████████████████████| 274/274 [00:09<00:00, 30.12it/s]\n"
     ]
    },
    {
     "name": "stdout",
     "output_type": "stream",
     "text": [
      "cur_bump_amount: 3.1718627724330872, cur_n_target_predictions: 15777\n",
      "Updated upper bound to 3.1718627724330872\n"
     ]
    },
    {
     "name": "stderr",
     "output_type": "stream",
     "text": [
      "100%|█████████████████████████████████████████████████████████████████████| 274/274 [00:09<00:00, 29.43it/s]\n"
     ]
    },
    {
     "name": "stdout",
     "output_type": "stream",
     "text": [
      "cur_bump_amount: 3.1661784305470064, cur_n_target_predictions: 15747\n",
      "Updated lower bound to 3.1661784305470064\n"
     ]
    },
    {
     "name": "stderr",
     "output_type": "stream",
     "text": [
      "100%|█████████████████████████████████████████████████████████████████████| 274/274 [00:10<00:00, 26.96it/s]\n"
     ]
    },
    {
     "name": "stdout",
     "output_type": "stream",
     "text": [
      "cur_bump_amount: 3.169020601490047, cur_n_target_predictions: 15766\n",
      "final results: bump amount: 3.169020601490047 n_target_predictions: 15766\n",
      "saved/edit/experiments/corresponding_bump_edits/CINIC10_ImageNet-VGG_16/0213_143741/airplane_100/results/airplane-train-n03365231_856/felzenszwalb_masked_softmax\n",
      "[0214_134307] Creating corresponding logit bump for airplane-train-n02691156_10559/felzenszwalb_masked_softmax (82/158)\n",
      "target n_predictions: 18061\n",
      "Initial bounds for bump: (3.4788172342814505, 3.637978807091713)\n"
     ]
    },
    {
     "name": "stderr",
     "output_type": "stream",
     "text": [
      "100%|█████████████████████████████████████████████████████████████████████| 274/274 [00:09<00:00, 29.63it/s]\n"
     ]
    },
    {
     "name": "stdout",
     "output_type": "stream",
     "text": [
      "cur_bump_amount: 3.5583980206865817, cur_n_target_predictions: 17773\n",
      "Updated lower bound to 3.5583980206865817\n"
     ]
    },
    {
     "name": "stderr",
     "output_type": "stream",
     "text": [
      "100%|█████████████████████████████████████████████████████████████████████| 274/274 [00:09<00:00, 29.26it/s]\n"
     ]
    },
    {
     "name": "stdout",
     "output_type": "stream",
     "text": [
      "cur_bump_amount: 3.5981884138891473, cur_n_target_predictions: 18004\n",
      "Updated lower bound to 3.5981884138891473\n"
     ]
    },
    {
     "name": "stderr",
     "output_type": "stream",
     "text": [
      "100%|█████████████████████████████████████████████████████████████████████| 274/274 [00:09<00:00, 28.94it/s]\n"
     ]
    },
    {
     "name": "stdout",
     "output_type": "stream",
     "text": [
      "cur_bump_amount: 3.61808361049043, cur_n_target_predictions: 18128\n",
      "Updated upper bound to 3.61808361049043\n"
     ]
    },
    {
     "name": "stderr",
     "output_type": "stream",
     "text": [
      "100%|█████████████████████████████████████████████████████████████████████| 274/274 [00:13<00:00, 20.92it/s]\n"
     ]
    },
    {
     "name": "stdout",
     "output_type": "stream",
     "text": [
      "cur_bump_amount: 3.6081360121897887, cur_n_target_predictions: 18058\n",
      "Updated lower bound to 3.6081360121897887\n",
      "final results: bump amount: 3.6081360121897887 n_target_predictions: 18058\n",
      "saved/edit/experiments/corresponding_bump_edits/CINIC10_ImageNet-VGG_16/0213_143741/airplane_100/results/airplane-train-n02691156_10559/felzenszwalb_masked_softmax\n",
      "[0214_134349] Creating corresponding logit bump for airplane-train-n04160586_16633/felzenszwalb_masked_softmax (83/158)\n",
      "target n_predictions: 20813\n",
      "Initial bounds for bump: (3.865352482534945, 4.092726157978177)\n"
     ]
    },
    {
     "name": "stderr",
     "output_type": "stream",
     "text": [
      "100%|█████████████████████████████████████████████████████████████████████| 274/274 [00:16<00:00, 16.75it/s]\n"
     ]
    },
    {
     "name": "stdout",
     "output_type": "stream",
     "text": [
      "cur_bump_amount: 3.979039320256561, cur_n_target_predictions: 20307\n",
      "Updated lower bound to 3.979039320256561\n"
     ]
    },
    {
     "name": "stderr",
     "output_type": "stream",
     "text": [
      "100%|█████████████████████████████████████████████████████████████████████| 274/274 [00:10<00:00, 25.12it/s]\n"
     ]
    },
    {
     "name": "stdout",
     "output_type": "stream",
     "text": [
      "cur_bump_amount: 4.035882739117369, cur_n_target_predictions: 20673\n",
      "Updated lower bound to 4.035882739117369\n"
     ]
    },
    {
     "name": "stderr",
     "output_type": "stream",
     "text": [
      "100%|█████████████████████████████████████████████████████████████████████| 274/274 [00:11<00:00, 23.29it/s]\n"
     ]
    },
    {
     "name": "stdout",
     "output_type": "stream",
     "text": [
      "cur_bump_amount: 4.064304448547773, cur_n_target_predictions: 20881\n",
      "Updated upper bound to 4.064304448547773\n"
     ]
    },
    {
     "name": "stderr",
     "output_type": "stream",
     "text": [
      "100%|█████████████████████████████████████████████████████████████████████| 274/274 [00:12<00:00, 21.47it/s]\n"
     ]
    },
    {
     "name": "stdout",
     "output_type": "stream",
     "text": [
      "cur_bump_amount: 4.050093593832571, cur_n_target_predictions: 20768\n",
      "Updated lower bound to 4.050093593832571\n"
     ]
    },
    {
     "name": "stderr",
     "output_type": "stream",
     "text": [
      "100%|█████████████████████████████████████████████████████████████████████| 274/274 [00:15<00:00, 18.16it/s]\n"
     ]
    },
    {
     "name": "stdout",
     "output_type": "stream",
     "text": [
      "cur_bump_amount: 4.057199021190172, cur_n_target_predictions: 20819\n",
      "Updated upper bound to 4.057199021190172\n",
      "final results: bump amount: 4.057199021190172 n_target_predictions: 20819\n",
      "saved/edit/experiments/corresponding_bump_edits/CINIC10_ImageNet-VGG_16/0213_143741/airplane_100/results/airplane-train-n04160586_16633/felzenszwalb_masked_softmax\n",
      "[0214_134456] Creating corresponding logit bump for airplane-train-n04160586_16633/felzenszwalb_gaussian_softmax (84/158)\n",
      "target n_predictions: 19553\n",
      "Initial bounds for bump: (3.751665644813329, 3.865352482534945)\n"
     ]
    },
    {
     "name": "stderr",
     "output_type": "stream",
     "text": [
      "100%|█████████████████████████████████████████████████████████████████████| 274/274 [00:17<00:00, 15.86it/s]\n"
     ]
    },
    {
     "name": "stdout",
     "output_type": "stream",
     "text": [
      "cur_bump_amount: 3.808509063674137, cur_n_target_predictions: 19215\n",
      "Updated lower bound to 3.808509063674137\n"
     ]
    },
    {
     "name": "stderr",
     "output_type": "stream",
     "text": [
      "100%|█████████████████████████████████████████████████████████████████████| 274/274 [00:19<00:00, 13.93it/s]\n"
     ]
    },
    {
     "name": "stdout",
     "output_type": "stream",
     "text": [
      "cur_bump_amount: 3.836930773104541, cur_n_target_predictions: 19401\n",
      "Updated lower bound to 3.836930773104541\n"
     ]
    },
    {
     "name": "stderr",
     "output_type": "stream",
     "text": [
      "100%|█████████████████████████████████████████████████████████████████████| 274/274 [00:12<00:00, 22.06it/s]\n"
     ]
    },
    {
     "name": "stdout",
     "output_type": "stream",
     "text": [
      "cur_bump_amount: 3.851141627819743, cur_n_target_predictions: 19504\n",
      "Updated lower bound to 3.851141627819743\n"
     ]
    },
    {
     "name": "stderr",
     "output_type": "stream",
     "text": [
      "100%|█████████████████████████████████████████████████████████████████████| 274/274 [00:10<00:00, 26.47it/s]\n"
     ]
    },
    {
     "name": "stdout",
     "output_type": "stream",
     "text": [
      "cur_bump_amount: 3.858247055177344, cur_n_target_predictions: 19544\n",
      "Updated lower bound to 3.858247055177344\n",
      "final results: bump amount: 3.858247055177344 n_target_predictions: 19544\n",
      "saved/edit/experiments/corresponding_bump_edits/CINIC10_ImageNet-VGG_16/0213_143741/airplane_100/results/airplane-train-n04160586_16633/felzenszwalb_gaussian_softmax\n",
      "[0214_134556] Creating corresponding logit bump for airplane-train-n04160586_11199/felzenszwalb_masked_softmax (85/158)\n",
      "target n_predictions: 17752\n",
      "Initial bounds for bump: (3.4788172342814505, 3.637978807091713)\n"
     ]
    },
    {
     "name": "stderr",
     "output_type": "stream",
     "text": [
      "100%|█████████████████████████████████████████████████████████████████████| 274/274 [00:11<00:00, 24.48it/s]\n"
     ]
    },
    {
     "name": "stdout",
     "output_type": "stream",
     "text": [
      "cur_bump_amount: 3.5583980206865817, cur_n_target_predictions: 17773\n",
      "Updated upper bound to 3.5583980206865817\n"
     ]
    },
    {
     "name": "stderr",
     "output_type": "stream",
     "text": [
      "100%|█████████████████████████████████████████████████████████████████████| 274/274 [00:12<00:00, 21.49it/s]\n"
     ]
    },
    {
     "name": "stdout",
     "output_type": "stream",
     "text": [
      "cur_bump_amount: 3.518607627484016, cur_n_target_predictions: 17533\n",
      "Updated lower bound to 3.518607627484016\n"
     ]
    },
    {
     "name": "stderr",
     "output_type": "stream",
     "text": [
      "100%|█████████████████████████████████████████████████████████████████████| 274/274 [00:13<00:00, 19.70it/s]\n"
     ]
    },
    {
     "name": "stdout",
     "output_type": "stream",
     "text": [
      "cur_bump_amount: 3.538502824085299, cur_n_target_predictions: 17648\n",
      "Updated lower bound to 3.538502824085299\n"
     ]
    },
    {
     "name": "stderr",
     "output_type": "stream",
     "text": [
      "100%|█████████████████████████████████████████████████████████████████████| 274/274 [00:10<00:00, 25.90it/s]\n"
     ]
    },
    {
     "name": "stdout",
     "output_type": "stream",
     "text": [
      "cur_bump_amount: 3.5484504223859403, cur_n_target_predictions: 17702\n",
      "Updated lower bound to 3.5484504223859403\n"
     ]
    },
    {
     "name": "stderr",
     "output_type": "stream",
     "text": [
      "100%|█████████████████████████████████████████████████████████████████████| 274/274 [00:09<00:00, 29.29it/s]\n"
     ]
    },
    {
     "name": "stdout",
     "output_type": "stream",
     "text": [
      "cur_bump_amount: 3.553424221536261, cur_n_target_predictions: 17740\n",
      "Updated lower bound to 3.553424221536261\n"
     ]
    },
    {
     "name": "stderr",
     "output_type": "stream",
     "text": [
      "100%|█████████████████████████████████████████████████████████████████████| 274/274 [00:09<00:00, 28.20it/s]\n"
     ]
    },
    {
     "name": "stdout",
     "output_type": "stream",
     "text": [
      "cur_bump_amount: 3.5559111211114214, cur_n_target_predictions: 17748\n",
      "Updated lower bound to 3.5559111211114214\n",
      "final results: bump amount: 3.5559111211114214 n_target_predictions: 17748\n",
      "saved/edit/experiments/corresponding_bump_edits/CINIC10_ImageNet-VGG_16/0213_143741/airplane_100/results/airplane-train-n04160586_11199/felzenszwalb_masked_softmax\n",
      "[0214_134704] Creating corresponding logit bump for airplane-train-n04160586_11199/felzenszwalb_gaussian_softmax (86/158)\n",
      "target n_predictions: 17014\n",
      "Initial bounds for bump: (3.2741809263825417, 3.4788172342814505)\n"
     ]
    },
    {
     "name": "stderr",
     "output_type": "stream",
     "text": [
      "100%|█████████████████████████████████████████████████████████████████████| 274/274 [00:09<00:00, 29.79it/s]\n"
     ]
    },
    {
     "name": "stdout",
     "output_type": "stream",
     "text": [
      "cur_bump_amount: 3.376499080331996, cur_n_target_predictions: 16785\n",
      "Updated lower bound to 3.376499080331996\n"
     ]
    },
    {
     "name": "stderr",
     "output_type": "stream",
     "text": [
      "100%|█████████████████████████████████████████████████████████████████████| 274/274 [00:09<00:00, 30.29it/s]\n"
     ]
    },
    {
     "name": "stdout",
     "output_type": "stream",
     "text": [
      "cur_bump_amount: 3.4276581573067233, cur_n_target_predictions: 17049\n",
      "Updated upper bound to 3.4276581573067233\n"
     ]
    },
    {
     "name": "stderr",
     "output_type": "stream",
     "text": [
      "100%|█████████████████████████████████████████████████████████████████████| 274/274 [00:09<00:00, 29.11it/s]\n"
     ]
    },
    {
     "name": "stdout",
     "output_type": "stream",
     "text": [
      "cur_bump_amount: 3.4020786188193597, cur_n_target_predictions: 16923\n",
      "Updated lower bound to 3.4020786188193597\n"
     ]
    },
    {
     "name": "stderr",
     "output_type": "stream",
     "text": [
      "100%|█████████████████████████████████████████████████████████████████████| 274/274 [00:09<00:00, 29.25it/s]\n"
     ]
    },
    {
     "name": "stdout",
     "output_type": "stream",
     "text": [
      "cur_bump_amount: 3.4148683880630415, cur_n_target_predictions: 16977\n",
      "Updated lower bound to 3.4148683880630415\n"
     ]
    },
    {
     "name": "stderr",
     "output_type": "stream",
     "text": [
      "100%|█████████████████████████████████████████████████████████████████████| 274/274 [00:09<00:00, 28.76it/s]\n"
     ]
    },
    {
     "name": "stdout",
     "output_type": "stream",
     "text": [
      "cur_bump_amount: 3.4212632726848824, cur_n_target_predictions: 17013\n",
      "Updated lower bound to 3.4212632726848824\n",
      "final results: bump amount: 3.4212632726848824 n_target_predictions: 17013\n",
      "saved/edit/experiments/corresponding_bump_edits/CINIC10_ImageNet-VGG_16/0213_143741/airplane_100/results/airplane-train-n04160586_11199/felzenszwalb_gaussian_softmax\n",
      "[0214_134751] Creating corresponding logit bump for airplane-train-n04012084_6631/felzenszwalb_masked_softmax (87/158)\n",
      "target n_predictions: 11226\n",
      "Initial bounds for bump: (1.4901161193847656, 1.862645149230957)\n"
     ]
    },
    {
     "name": "stderr",
     "output_type": "stream",
     "text": [
      "100%|█████████████████████████████████████████████████████████████████████| 274/274 [00:09<00:00, 29.54it/s]\n"
     ]
    },
    {
     "name": "stdout",
     "output_type": "stream",
     "text": [
      "cur_bump_amount: 1.6763806343078613, cur_n_target_predictions: 11282\n",
      "Updated upper bound to 1.6763806343078613\n"
     ]
    },
    {
     "name": "stderr",
     "output_type": "stream",
     "text": [
      "100%|█████████████████████████████████████████████████████████████████████| 274/274 [00:09<00:00, 29.18it/s]\n"
     ]
    },
    {
     "name": "stdout",
     "output_type": "stream",
     "text": [
      "cur_bump_amount: 1.5832483768463135, cur_n_target_predictions: 11110\n",
      "Updated lower bound to 1.5832483768463135\n"
     ]
    },
    {
     "name": "stderr",
     "output_type": "stream",
     "text": [
      "100%|█████████████████████████████████████████████████████████████████████| 274/274 [00:09<00:00, 29.43it/s]\n"
     ]
    },
    {
     "name": "stdout",
     "output_type": "stream",
     "text": [
      "cur_bump_amount: 1.6298145055770874, cur_n_target_predictions: 11201\n",
      "Updated lower bound to 1.6298145055770874\n"
     ]
    },
    {
     "name": "stderr",
     "output_type": "stream",
     "text": [
      "100%|█████████████████████████████████████████████████████████████████████| 274/274 [00:09<00:00, 29.76it/s]\n"
     ]
    },
    {
     "name": "stdout",
     "output_type": "stream",
     "text": [
      "cur_bump_amount: 1.6530975699424744, cur_n_target_predictions: 11239\n",
      "Updated upper bound to 1.6530975699424744\n"
     ]
    },
    {
     "name": "stderr",
     "output_type": "stream",
     "text": [
      "100%|█████████████████████████████████████████████████████████████████████| 274/274 [00:09<00:00, 28.68it/s]\n"
     ]
    },
    {
     "name": "stdout",
     "output_type": "stream",
     "text": [
      "cur_bump_amount: 1.6414560377597809, cur_n_target_predictions: 11219\n",
      "Updated lower bound to 1.6414560377597809\n",
      "final results: bump amount: 1.6414560377597809 n_target_predictions: 11219\n",
      "saved/edit/experiments/corresponding_bump_edits/CINIC10_ImageNet-VGG_16/0213_143741/airplane_100/results/airplane-train-n04012084_6631/felzenszwalb_masked_softmax\n",
      "[0214_134838] Creating corresponding logit bump for airplane-train-n03215191_6896/felzenszwalb_masked_softmax (88/158)\n",
      "target n_predictions: 11919\n",
      "Initial bounds for bump: (1.862645149230957, 2.3283064365386963)\n"
     ]
    },
    {
     "name": "stderr",
     "output_type": "stream",
     "text": [
      "100%|█████████████████████████████████████████████████████████████████████| 274/274 [00:08<00:00, 30.71it/s]\n"
     ]
    },
    {
     "name": "stdout",
     "output_type": "stream",
     "text": [
      "cur_bump_amount: 2.0954757928848267, cur_n_target_predictions: 12145\n",
      "Updated upper bound to 2.0954757928848267\n"
     ]
    },
    {
     "name": "stderr",
     "output_type": "stream",
     "text": [
      "100%|█████████████████████████████████████████████████████████████████████| 274/274 [00:10<00:00, 25.49it/s]\n"
     ]
    },
    {
     "name": "stdout",
     "output_type": "stream",
     "text": [
      "cur_bump_amount: 1.9790604710578918, cur_n_target_predictions: 11871\n",
      "Updated lower bound to 1.9790604710578918\n"
     ]
    },
    {
     "name": "stderr",
     "output_type": "stream",
     "text": [
      "100%|█████████████████████████████████████████████████████████████████████| 274/274 [00:08<00:00, 32.36it/s]\n"
     ]
    },
    {
     "name": "stdout",
     "output_type": "stream",
     "text": [
      "cur_bump_amount: 2.0372681319713593, cur_n_target_predictions: 11998\n",
      "Updated upper bound to 2.0372681319713593\n"
     ]
    },
    {
     "name": "stderr",
     "output_type": "stream",
     "text": [
      "100%|█████████████████████████████████████████████████████████████████████| 274/274 [00:09<00:00, 29.46it/s]\n"
     ]
    },
    {
     "name": "stdout",
     "output_type": "stream",
     "text": [
      "cur_bump_amount: 2.0081643015146255, cur_n_target_predictions: 11932\n",
      "Updated upper bound to 2.0081643015146255\n"
     ]
    },
    {
     "name": "stderr",
     "output_type": "stream",
     "text": [
      "100%|█████████████████████████████████████████████████████████████████████| 274/274 [00:09<00:00, 29.49it/s]\n"
     ]
    },
    {
     "name": "stdout",
     "output_type": "stream",
     "text": [
      "cur_bump_amount: 1.9936123862862587, cur_n_target_predictions: 11901\n",
      "Updated lower bound to 1.9936123862862587\n"
     ]
    },
    {
     "name": "stderr",
     "output_type": "stream",
     "text": [
      "100%|█████████████████████████████████████████████████████████████████████| 274/274 [00:09<00:00, 28.02it/s]\n"
     ]
    },
    {
     "name": "stdout",
     "output_type": "stream",
     "text": [
      "cur_bump_amount: 2.000888343900442, cur_n_target_predictions: 11921\n",
      "Updated upper bound to 2.000888343900442\n",
      "final results: bump amount: 2.000888343900442 n_target_predictions: 11921\n",
      "saved/edit/experiments/corresponding_bump_edits/CINIC10_ImageNet-VGG_16/0213_143741/airplane_100/results/airplane-train-n03215191_6896/felzenszwalb_masked_softmax\n",
      "[0214_134935] Creating corresponding logit bump for airplane-train-n03215191_6896/felzenszwalb_gaussian_softmax (89/158)\n",
      "target n_predictions: 15143\n",
      "Initial bounds for bump: (2.9103830456733704, 3.092281986027956)\n"
     ]
    },
    {
     "name": "stderr",
     "output_type": "stream",
     "text": [
      "100%|█████████████████████████████████████████████████████████████████████| 274/274 [00:09<00:00, 29.56it/s]\n"
     ]
    },
    {
     "name": "stdout",
     "output_type": "stream",
     "text": [
      "cur_bump_amount: 3.001332515850663, cur_n_target_predictions: 15061\n",
      "Updated lower bound to 3.001332515850663\n"
     ]
    },
    {
     "name": "stderr",
     "output_type": "stream",
     "text": [
      "100%|█████████████████████████████████████████████████████████████████████| 274/274 [00:09<00:00, 28.95it/s]\n"
     ]
    },
    {
     "name": "stdout",
     "output_type": "stream",
     "text": [
      "cur_bump_amount: 3.0468072509393096, cur_n_target_predictions: 15232\n",
      "Updated upper bound to 3.0468072509393096\n"
     ]
    },
    {
     "name": "stderr",
     "output_type": "stream",
     "text": [
      "100%|█████████████████████████████████████████████████████████████████████| 274/274 [00:09<00:00, 28.94it/s]\n"
     ]
    },
    {
     "name": "stdout",
     "output_type": "stream",
     "text": [
      "cur_bump_amount: 3.0240698833949864, cur_n_target_predictions: 15146\n",
      "Updated upper bound to 3.0240698833949864\n",
      "final results: bump amount: 3.0240698833949864 n_target_predictions: 15146\n",
      "saved/edit/experiments/corresponding_bump_edits/CINIC10_ImageNet-VGG_16/0213_143741/airplane_100/results/airplane-train-n03215191_6896/felzenszwalb_gaussian_softmax\n",
      "[0214_135003] Creating corresponding logit bump for airplane-train-n03596543_2689/felzenszwalb_masked_softmax (90/158)\n",
      "target n_predictions: 18243\n",
      "Initial bounds for bump: (3.4788172342814505, 3.637978807091713)\n"
     ]
    },
    {
     "name": "stderr",
     "output_type": "stream",
     "text": [
      "100%|█████████████████████████████████████████████████████████████████████| 274/274 [00:09<00:00, 27.79it/s]\n"
     ]
    },
    {
     "name": "stdout",
     "output_type": "stream",
     "text": [
      "cur_bump_amount: 3.5583980206865817, cur_n_target_predictions: 17773\n",
      "Updated lower bound to 3.5583980206865817\n"
     ]
    },
    {
     "name": "stderr",
     "output_type": "stream",
     "text": [
      "100%|█████████████████████████████████████████████████████████████████████| 274/274 [00:08<00:00, 30.56it/s]\n"
     ]
    },
    {
     "name": "stdout",
     "output_type": "stream",
     "text": [
      "cur_bump_amount: 3.5981884138891473, cur_n_target_predictions: 18004\n",
      "Updated lower bound to 3.5981884138891473\n"
     ]
    },
    {
     "name": "stderr",
     "output_type": "stream",
     "text": [
      "100%|█████████████████████████████████████████████████████████████████████| 274/274 [00:10<00:00, 27.08it/s]\n"
     ]
    },
    {
     "name": "stdout",
     "output_type": "stream",
     "text": [
      "cur_bump_amount: 3.61808361049043, cur_n_target_predictions: 18128\n",
      "Updated lower bound to 3.61808361049043\n"
     ]
    },
    {
     "name": "stderr",
     "output_type": "stream",
     "text": [
      "100%|█████████████████████████████████████████████████████████████████████| 274/274 [00:09<00:00, 28.59it/s]\n"
     ]
    },
    {
     "name": "stdout",
     "output_type": "stream",
     "text": [
      "cur_bump_amount: 3.6280312087910715, cur_n_target_predictions: 18190\n",
      "Updated lower bound to 3.6280312087910715\n"
     ]
    },
    {
     "name": "stderr",
     "output_type": "stream",
     "text": [
      "100%|█████████████████████████████████████████████████████████████████████| 274/274 [00:09<00:00, 29.35it/s]\n"
     ]
    },
    {
     "name": "stdout",
     "output_type": "stream",
     "text": [
      "cur_bump_amount: 3.6330050079413923, cur_n_target_predictions: 18223\n",
      "Updated lower bound to 3.6330050079413923\n"
     ]
    },
    {
     "name": "stderr",
     "output_type": "stream",
     "text": [
      "100%|█████████████████████████████████████████████████████████████████████| 274/274 [00:09<00:00, 30.33it/s]\n"
     ]
    },
    {
     "name": "stdout",
     "output_type": "stream",
     "text": [
      "cur_bump_amount: 3.6354919075165526, cur_n_target_predictions: 18241\n",
      "Updated lower bound to 3.6354919075165526\n",
      "final results: bump amount: 3.6354919075165526 n_target_predictions: 18241\n",
      "saved/edit/experiments/corresponding_bump_edits/CINIC10_ImageNet-VGG_16/0213_143741/airplane_100/results/airplane-train-n03596543_2689/felzenszwalb_masked_softmax\n",
      "[0214_135101] Creating corresponding logit bump for airplane-train-n03596543_2689/felzenszwalb_gaussian_softmax (91/158)\n",
      "target n_predictions: 18602\n",
      "Initial bounds for bump: (3.637978807091713, 3.751665644813329)\n"
     ]
    },
    {
     "name": "stderr",
     "output_type": "stream",
     "text": [
      "100%|█████████████████████████████████████████████████████████████████████| 274/274 [00:09<00:00, 29.56it/s]\n"
     ]
    },
    {
     "name": "stdout",
     "output_type": "stream",
     "text": [
      "cur_bump_amount: 3.694822225952521, cur_n_target_predictions: 18554\n",
      "Updated lower bound to 3.694822225952521\n"
     ]
    },
    {
     "name": "stderr",
     "output_type": "stream",
     "text": [
      "100%|█████████████████████████████████████████████████████████████████████| 274/274 [00:09<00:00, 29.64it/s]\n"
     ]
    },
    {
     "name": "stdout",
     "output_type": "stream",
     "text": [
      "cur_bump_amount: 3.723243935382925, cur_n_target_predictions: 18695\n",
      "Updated upper bound to 3.723243935382925\n"
     ]
    },
    {
     "name": "stderr",
     "output_type": "stream",
     "text": [
      "100%|█████████████████████████████████████████████████████████████████████| 274/274 [00:09<00:00, 30.30it/s]\n"
     ]
    },
    {
     "name": "stdout",
     "output_type": "stream",
     "text": [
      "cur_bump_amount: 3.709033080667723, cur_n_target_predictions: 18628\n",
      "Updated upper bound to 3.709033080667723\n"
     ]
    },
    {
     "name": "stderr",
     "output_type": "stream",
     "text": [
      "100%|█████████████████████████████████████████████████████████████████████| 274/274 [00:09<00:00, 29.45it/s]\n"
     ]
    },
    {
     "name": "stdout",
     "output_type": "stream",
     "text": [
      "cur_bump_amount: 3.701927653310122, cur_n_target_predictions: 18593\n",
      "Updated lower bound to 3.701927653310122\n",
      "final results: bump amount: 3.701927653310122 n_target_predictions: 18593\n",
      "saved/edit/experiments/corresponding_bump_edits/CINIC10_ImageNet-VGG_16/0213_143741/airplane_100/results/airplane-train-n03596543_2689/felzenszwalb_gaussian_softmax\n",
      "[0214_135138] Creating corresponding logit bump for airplane-train-n03809312_4483/felzenszwalb_masked_softmax (92/158)\n",
      "target n_predictions: 21789\n",
      "Initial bounds for bump: (4.092726157978177, 4.220623850414995)\n"
     ]
    },
    {
     "name": "stderr",
     "output_type": "stream",
     "text": [
      "100%|█████████████████████████████████████████████████████████████████████| 274/274 [00:09<00:00, 28.49it/s]\n"
     ]
    },
    {
     "name": "stdout",
     "output_type": "stream",
     "text": [
      "cur_bump_amount: 4.156675004196586, cur_n_target_predictions: 21515\n",
      "Updated lower bound to 4.156675004196586\n"
     ]
    },
    {
     "name": "stderr",
     "output_type": "stream",
     "text": [
      "100%|█████████████████████████████████████████████████████████████████████| 274/274 [00:08<00:00, 30.49it/s]\n"
     ]
    },
    {
     "name": "stdout",
     "output_type": "stream",
     "text": [
      "cur_bump_amount: 4.188649427305791, cur_n_target_predictions: 21744\n",
      "Updated lower bound to 4.188649427305791\n"
     ]
    },
    {
     "name": "stderr",
     "output_type": "stream",
     "text": [
      "100%|█████████████████████████████████████████████████████████████████████| 274/274 [00:09<00:00, 29.66it/s]\n"
     ]
    },
    {
     "name": "stdout",
     "output_type": "stream",
     "text": [
      "cur_bump_amount: 4.204636638860393, cur_n_target_predictions: 21843\n",
      "Updated upper bound to 4.204636638860393\n"
     ]
    },
    {
     "name": "stderr",
     "output_type": "stream",
     "text": [
      "100%|█████████████████████████████████████████████████████████████████████| 274/274 [00:08<00:00, 31.30it/s]\n"
     ]
    },
    {
     "name": "stdout",
     "output_type": "stream",
     "text": [
      "cur_bump_amount: 4.196643033083092, cur_n_target_predictions: 21796\n",
      "Updated upper bound to 4.196643033083092\n",
      "final results: bump amount: 4.196643033083092 n_target_predictions: 21796\n",
      "saved/edit/experiments/corresponding_bump_edits/CINIC10_ImageNet-VGG_16/0213_143741/airplane_100/results/airplane-train-n03809312_4483/felzenszwalb_masked_softmax\n",
      "[0214_135215] Creating corresponding logit bump for airplane-train-n03809312_4483/felzenszwalb_gaussian_softmax (93/158)\n",
      "target n_predictions: 21375\n",
      "Initial bounds for bump: (4.092726157978177, 4.220623850414995)\n"
     ]
    },
    {
     "name": "stderr",
     "output_type": "stream",
     "text": [
      "100%|█████████████████████████████████████████████████████████████████████| 274/274 [00:09<00:00, 29.90it/s]\n"
     ]
    },
    {
     "name": "stdout",
     "output_type": "stream",
     "text": [
      "cur_bump_amount: 4.156675004196586, cur_n_target_predictions: 21515\n",
      "Updated upper bound to 4.156675004196586\n"
     ]
    },
    {
     "name": "stderr",
     "output_type": "stream",
     "text": [
      "100%|█████████████████████████████████████████████████████████████████████| 274/274 [00:12<00:00, 22.82it/s]\n"
     ]
    },
    {
     "name": "stdout",
     "output_type": "stream",
     "text": [
      "cur_bump_amount: 4.124700581087382, cur_n_target_predictions: 21304\n",
      "Updated lower bound to 4.124700581087382\n"
     ]
    },
    {
     "name": "stderr",
     "output_type": "stream",
     "text": [
      "100%|█████████████████████████████████████████████████████████████████████| 274/274 [00:18<00:00, 14.46it/s]\n"
     ]
    },
    {
     "name": "stdout",
     "output_type": "stream",
     "text": [
      "cur_bump_amount: 4.140687792641984, cur_n_target_predictions: 21396\n",
      "Updated upper bound to 4.140687792641984\n"
     ]
    },
    {
     "name": "stderr",
     "output_type": "stream",
     "text": [
      "100%|█████████████████████████████████████████████████████████████████████| 274/274 [00:27<00:00,  9.94it/s]\n"
     ]
    },
    {
     "name": "stdout",
     "output_type": "stream",
     "text": [
      "cur_bump_amount: 4.132694186864683, cur_n_target_predictions: 21357\n",
      "Updated lower bound to 4.132694186864683\n"
     ]
    },
    {
     "name": "stderr",
     "output_type": "stream",
     "text": [
      "100%|█████████████████████████████████████████████████████████████████████| 274/274 [00:23<00:00, 11.69it/s]\n"
     ]
    },
    {
     "name": "stdout",
     "output_type": "stream",
     "text": [
      "cur_bump_amount: 4.136690989753333, cur_n_target_predictions: 21379\n",
      "Updated upper bound to 4.136690989753333\n",
      "final results: bump amount: 4.136690989753333 n_target_predictions: 21379\n",
      "saved/edit/experiments/corresponding_bump_edits/CINIC10_ImageNet-VGG_16/0213_143741/airplane_100/results/airplane-train-n03809312_4483/felzenszwalb_gaussian_softmax\n",
      "[0214_135347] Creating corresponding logit bump for airplane-train-n03577672_19103/felzenszwalb_masked_softmax (94/158)\n",
      "target n_predictions: 27107\n",
      "Initial bounds for bump: (4.89208673570829, 5.044964446199174)\n"
     ]
    },
    {
     "name": "stderr",
     "output_type": "stream",
     "text": [
      "100%|█████████████████████████████████████████████████████████████████████| 274/274 [00:17<00:00, 15.59it/s]\n"
     ]
    },
    {
     "name": "stdout",
     "output_type": "stream",
     "text": [
      "cur_bump_amount: 4.968525590953732, cur_n_target_predictions: 27576\n",
      "Updated upper bound to 4.968525590953732\n"
     ]
    },
    {
     "name": "stderr",
     "output_type": "stream",
     "text": [
      "100%|█████████████████████████████████████████████████████████████████████| 274/274 [00:18<00:00, 14.44it/s]\n"
     ]
    },
    {
     "name": "stdout",
     "output_type": "stream",
     "text": [
      "cur_bump_amount: 4.930306163331011, cur_n_target_predictions: 27262\n",
      "Updated upper bound to 4.930306163331011\n"
     ]
    },
    {
     "name": "stderr",
     "output_type": "stream",
     "text": [
      "100%|█████████████████████████████████████████████████████████████████████| 274/274 [00:25<00:00, 10.89it/s]\n"
     ]
    },
    {
     "name": "stdout",
     "output_type": "stream",
     "text": [
      "cur_bump_amount: 4.91119644951965, cur_n_target_predictions: 27112\n",
      "Updated upper bound to 4.91119644951965\n",
      "final results: bump amount: 4.91119644951965 n_target_predictions: 27112\n",
      "saved/edit/experiments/corresponding_bump_edits/CINIC10_ImageNet-VGG_16/0213_143741/airplane_100/results/airplane-train-n03577672_19103/felzenszwalb_masked_softmax\n",
      "[0214_135449] Creating corresponding logit bump for airplane-train-n03335030_15834/felzenszwalb_masked_softmax (95/158)\n",
      "target n_predictions: 19730\n",
      "Initial bounds for bump: (3.865352482534945, 4.092726157978177)\n"
     ]
    },
    {
     "name": "stderr",
     "output_type": "stream",
     "text": [
      "100%|█████████████████████████████████████████████████████████████████████| 274/274 [00:23<00:00, 11.63it/s]\n"
     ]
    },
    {
     "name": "stdout",
     "output_type": "stream",
     "text": [
      "cur_bump_amount: 3.979039320256561, cur_n_target_predictions: 20307\n",
      "Updated upper bound to 3.979039320256561\n"
     ]
    },
    {
     "name": "stderr",
     "output_type": "stream",
     "text": [
      "100%|█████████████████████████████████████████████████████████████████████| 274/274 [00:19<00:00, 14.26it/s]\n"
     ]
    },
    {
     "name": "stdout",
     "output_type": "stream",
     "text": [
      "cur_bump_amount: 3.922195901395753, cur_n_target_predictions: 19975\n",
      "Updated upper bound to 3.922195901395753\n"
     ]
    },
    {
     "name": "stderr",
     "output_type": "stream",
     "text": [
      "100%|█████████████████████████████████████████████████████████████████████| 274/274 [00:30<00:00,  8.86it/s]\n"
     ]
    },
    {
     "name": "stdout",
     "output_type": "stream",
     "text": [
      "cur_bump_amount: 3.893774191965349, cur_n_target_predictions: 19787\n",
      "Updated upper bound to 3.893774191965349\n"
     ]
    },
    {
     "name": "stderr",
     "output_type": "stream",
     "text": [
      "100%|█████████████████████████████████████████████████████████████████████| 274/274 [00:25<00:00, 10.55it/s]\n"
     ]
    },
    {
     "name": "stdout",
     "output_type": "stream",
     "text": [
      "cur_bump_amount: 3.879563337250147, cur_n_target_predictions: 19685\n",
      "Updated lower bound to 3.879563337250147\n"
     ]
    },
    {
     "name": "stderr",
     "output_type": "stream",
     "text": [
      "100%|█████████████████████████████████████████████████████████████████████| 274/274 [00:32<00:00,  8.30it/s]\n"
     ]
    },
    {
     "name": "stdout",
     "output_type": "stream",
     "text": [
      "cur_bump_amount: 3.886668764607748, cur_n_target_predictions: 19736\n",
      "Updated upper bound to 3.886668764607748\n",
      "final results: bump amount: 3.886668764607748 n_target_predictions: 19736\n",
      "saved/edit/experiments/corresponding_bump_edits/CINIC10_ImageNet-VGG_16/0213_143741/airplane_100/results/airplane-train-n03335030_15834/felzenszwalb_masked_softmax\n",
      "[0214_135703] Creating corresponding logit bump for airplane-train-n03335030_15834/felzenszwalb_gaussian_softmax (96/158)\n",
      "target n_predictions: 20770\n",
      "Initial bounds for bump: (3.865352482534945, 4.092726157978177)\n"
     ]
    },
    {
     "name": "stderr",
     "output_type": "stream",
     "text": [
      "100%|█████████████████████████████████████████████████████████████████████| 274/274 [00:19<00:00, 14.31it/s]\n"
     ]
    },
    {
     "name": "stdout",
     "output_type": "stream",
     "text": [
      "cur_bump_amount: 3.979039320256561, cur_n_target_predictions: 20307\n",
      "Updated lower bound to 3.979039320256561\n"
     ]
    },
    {
     "name": "stderr",
     "output_type": "stream",
     "text": [
      "100%|█████████████████████████████████████████████████████████████████████| 274/274 [00:25<00:00, 10.88it/s]\n"
     ]
    },
    {
     "name": "stdout",
     "output_type": "stream",
     "text": [
      "cur_bump_amount: 4.035882739117369, cur_n_target_predictions: 20673\n",
      "Updated lower bound to 4.035882739117369\n"
     ]
    },
    {
     "name": "stderr",
     "output_type": "stream",
     "text": [
      "100%|█████████████████████████████████████████████████████████████████████| 274/274 [00:27<00:00, 10.05it/s]\n"
     ]
    },
    {
     "name": "stdout",
     "output_type": "stream",
     "text": [
      "cur_bump_amount: 4.064304448547773, cur_n_target_predictions: 20881\n",
      "Updated upper bound to 4.064304448547773\n"
     ]
    },
    {
     "name": "stderr",
     "output_type": "stream",
     "text": [
      "100%|█████████████████████████████████████████████████████████████████████| 274/274 [00:15<00:00, 18.13it/s]\n"
     ]
    },
    {
     "name": "stdout",
     "output_type": "stream",
     "text": [
      "cur_bump_amount: 4.050093593832571, cur_n_target_predictions: 20768\n",
      "Updated lower bound to 4.050093593832571\n",
      "final results: bump amount: 4.050093593832571 n_target_predictions: 20768\n",
      "saved/edit/experiments/corresponding_bump_edits/CINIC10_ImageNet-VGG_16/0213_143741/airplane_100/results/airplane-train-n03335030_15834/felzenszwalb_gaussian_softmax\n",
      "[0214_135830] Creating corresponding logit bump for airplane-train-n03365231_3925/felzenszwalb_masked_softmax (97/158)\n",
      "target n_predictions: 17244\n",
      "Initial bounds for bump: (3.2741809263825417, 3.4788172342814505)\n"
     ]
    },
    {
     "name": "stderr",
     "output_type": "stream",
     "text": [
      "100%|█████████████████████████████████████████████████████████████████████| 274/274 [00:11<00:00, 24.06it/s]\n"
     ]
    },
    {
     "name": "stdout",
     "output_type": "stream",
     "text": [
      "cur_bump_amount: 3.376499080331996, cur_n_target_predictions: 16785\n",
      "Updated lower bound to 3.376499080331996\n"
     ]
    },
    {
     "name": "stderr",
     "output_type": "stream",
     "text": [
      "100%|█████████████████████████████████████████████████████████████████████| 274/274 [00:13<00:00, 20.64it/s]\n"
     ]
    },
    {
     "name": "stdout",
     "output_type": "stream",
     "text": [
      "cur_bump_amount: 3.4276581573067233, cur_n_target_predictions: 17049\n",
      "Updated lower bound to 3.4276581573067233\n"
     ]
    },
    {
     "name": "stderr",
     "output_type": "stream",
     "text": [
      "100%|█████████████████████████████████████████████████████████████████████| 274/274 [00:11<00:00, 23.88it/s]\n"
     ]
    },
    {
     "name": "stdout",
     "output_type": "stream",
     "text": [
      "cur_bump_amount: 3.453237695794087, cur_n_target_predictions: 17184\n",
      "Updated lower bound to 3.453237695794087\n"
     ]
    },
    {
     "name": "stderr",
     "output_type": "stream",
     "text": [
      "100%|█████████████████████████████████████████████████████████████████████| 274/274 [00:12<00:00, 22.05it/s]\n"
     ]
    },
    {
     "name": "stdout",
     "output_type": "stream",
     "text": [
      "cur_bump_amount: 3.4660274650377687, cur_n_target_predictions: 17250\n",
      "Updated upper bound to 3.4660274650377687\n",
      "final results: bump amount: 3.4660274650377687 n_target_predictions: 17250\n",
      "saved/edit/experiments/corresponding_bump_edits/CINIC10_ImageNet-VGG_16/0213_143741/airplane_100/results/airplane-train-n03365231_3925/felzenszwalb_masked_softmax\n",
      "[0214_135919] Creating corresponding logit bump for airplane-train-n03365231_3925/felzenszwalb_gaussian_softmax (98/158)\n",
      "target n_predictions: 9831\n",
      "Initial bounds for bump: (0.6103515625, 1.4901161193847656)\n"
     ]
    },
    {
     "name": "stderr",
     "output_type": "stream",
     "text": [
      "100%|█████████████████████████████████████████████████████████████████████| 274/274 [00:12<00:00, 21.32it/s]\n"
     ]
    },
    {
     "name": "stdout",
     "output_type": "stream",
     "text": [
      "cur_bump_amount: 1.0502338409423828, cur_n_target_predictions: 10256\n",
      "Updated upper bound to 1.0502338409423828\n"
     ]
    },
    {
     "name": "stderr",
     "output_type": "stream",
     "text": [
      "100%|█████████████████████████████████████████████████████████████████████| 274/274 [00:11<00:00, 24.60it/s]\n"
     ]
    },
    {
     "name": "stdout",
     "output_type": "stream",
     "text": [
      "cur_bump_amount: 0.8302927017211914, cur_n_target_predictions: 9995\n",
      "Updated upper bound to 0.8302927017211914\n"
     ]
    },
    {
     "name": "stderr",
     "output_type": "stream",
     "text": [
      "100%|█████████████████████████████████████████████████████████████████████| 274/274 [00:15<00:00, 17.36it/s]\n"
     ]
    },
    {
     "name": "stdout",
     "output_type": "stream",
     "text": [
      "cur_bump_amount: 0.7203221321105957, cur_n_target_predictions: 9846\n",
      "Updated upper bound to 0.7203221321105957\n"
     ]
    },
    {
     "name": "stderr",
     "output_type": "stream",
     "text": [
      "100%|█████████████████████████████████████████████████████████████████████| 274/274 [00:14<00:00, 19.44it/s]\n"
     ]
    },
    {
     "name": "stdout",
     "output_type": "stream",
     "text": [
      "cur_bump_amount: 0.6653368473052979, cur_n_target_predictions: 9775\n",
      "Updated lower bound to 0.6653368473052979\n"
     ]
    },
    {
     "name": "stderr",
     "output_type": "stream",
     "text": [
      "100%|█████████████████████████████████████████████████████████████████████| 274/274 [00:10<00:00, 25.98it/s]\n"
     ]
    },
    {
     "name": "stdout",
     "output_type": "stream",
     "text": [
      "cur_bump_amount: 0.6928294897079468, cur_n_target_predictions: 9805\n",
      "Updated lower bound to 0.6928294897079468\n"
     ]
    },
    {
     "name": "stderr",
     "output_type": "stream",
     "text": [
      "100%|█████████████████████████████████████████████████████████████████████| 274/274 [00:14<00:00, 18.73it/s]\n"
     ]
    },
    {
     "name": "stdout",
     "output_type": "stream",
     "text": [
      "cur_bump_amount: 0.7065758109092712, cur_n_target_predictions: 9825\n",
      "Updated lower bound to 0.7065758109092712\n",
      "final results: bump amount: 0.7065758109092712 n_target_predictions: 9825\n",
      "saved/edit/experiments/corresponding_bump_edits/CINIC10_ImageNet-VGG_16/0213_143741/airplane_100/results/airplane-train-n03365231_3925/felzenszwalb_gaussian_softmax\n",
      "[0214_140038] Creating corresponding logit bump for airplane-train-n03335030_13864/felzenszwalb_masked_softmax (99/158)\n",
      "target n_predictions: 34408\n",
      "Initial bounds for bump: (5.675585001974071, 5.7199255098019925)\n"
     ]
    },
    {
     "name": "stderr",
     "output_type": "stream",
     "text": [
      "100%|█████████████████████████████████████████████████████████████████████| 274/274 [00:11<00:00, 23.29it/s]\n"
     ]
    },
    {
     "name": "stdout",
     "output_type": "stream",
     "text": [
      "cur_bump_amount: 5.6977552558880316, cur_n_target_predictions: 34562\n",
      "Updated upper bound to 5.6977552558880316\n"
     ]
    },
    {
     "name": "stderr",
     "output_type": "stream",
     "text": [
      "100%|█████████████████████████████████████████████████████████████████████| 274/274 [00:13<00:00, 20.10it/s]\n"
     ]
    },
    {
     "name": "stdout",
     "output_type": "stream",
     "text": [
      "cur_bump_amount: 5.686670128931051, cur_n_target_predictions: 34399\n",
      "Updated lower bound to 5.686670128931051\n",
      "final results: bump amount: 5.686670128931051 n_target_predictions: 34399\n",
      "saved/edit/experiments/corresponding_bump_edits/CINIC10_ImageNet-VGG_16/0213_143741/airplane_100/results/airplane-train-n03335030_13864/felzenszwalb_masked_softmax\n",
      "[0214_140104] Creating corresponding logit bump for airplane-train-n04222723_7323/felzenszwalb_masked_softmax (100/158)\n",
      "target n_predictions: 17026\n",
      "Initial bounds for bump: (3.2741809263825417, 3.4788172342814505)\n"
     ]
    },
    {
     "name": "stderr",
     "output_type": "stream",
     "text": [
      "100%|█████████████████████████████████████████████████████████████████████| 274/274 [00:10<00:00, 24.99it/s]\n"
     ]
    },
    {
     "name": "stdout",
     "output_type": "stream",
     "text": [
      "cur_bump_amount: 3.376499080331996, cur_n_target_predictions: 16785\n",
      "Updated lower bound to 3.376499080331996\n"
     ]
    },
    {
     "name": "stderr",
     "output_type": "stream",
     "text": [
      "100%|█████████████████████████████████████████████████████████████████████| 274/274 [00:09<00:00, 29.92it/s]\n"
     ]
    },
    {
     "name": "stdout",
     "output_type": "stream",
     "text": [
      "cur_bump_amount: 3.4276581573067233, cur_n_target_predictions: 17049\n",
      "Updated upper bound to 3.4276581573067233\n"
     ]
    },
    {
     "name": "stderr",
     "output_type": "stream",
     "text": [
      "100%|█████████████████████████████████████████████████████████████████████| 274/274 [00:09<00:00, 30.02it/s]\n"
     ]
    },
    {
     "name": "stdout",
     "output_type": "stream",
     "text": [
      "cur_bump_amount: 3.4020786188193597, cur_n_target_predictions: 16923\n",
      "Updated lower bound to 3.4020786188193597\n"
     ]
    },
    {
     "name": "stderr",
     "output_type": "stream",
     "text": [
      "100%|█████████████████████████████████████████████████████████████████████| 274/274 [00:09<00:00, 29.08it/s]\n"
     ]
    },
    {
     "name": "stdout",
     "output_type": "stream",
     "text": [
      "cur_bump_amount: 3.4148683880630415, cur_n_target_predictions: 16977\n",
      "Updated lower bound to 3.4148683880630415\n"
     ]
    },
    {
     "name": "stderr",
     "output_type": "stream",
     "text": [
      "100%|█████████████████████████████████████████████████████████████████████| 274/274 [00:09<00:00, 27.80it/s]\n"
     ]
    },
    {
     "name": "stdout",
     "output_type": "stream",
     "text": [
      "cur_bump_amount: 3.4212632726848824, cur_n_target_predictions: 17013\n",
      "Updated lower bound to 3.4212632726848824\n"
     ]
    },
    {
     "name": "stderr",
     "output_type": "stream",
     "text": [
      "100%|█████████████████████████████████████████████████████████████████████| 274/274 [00:11<00:00, 24.90it/s]\n"
     ]
    },
    {
     "name": "stdout",
     "output_type": "stream",
     "text": [
      "cur_bump_amount: 3.424460714995803, cur_n_target_predictions: 17029\n",
      "Updated upper bound to 3.424460714995803\n",
      "final results: bump amount: 3.424460714995803 n_target_predictions: 17029\n",
      "saved/edit/experiments/corresponding_bump_edits/CINIC10_ImageNet-VGG_16/0213_143741/airplane_100/results/airplane-train-n04222723_7323/felzenszwalb_masked_softmax\n",
      "[0214_140204] Creating corresponding logit bump for airplane-train-n02691156_37067/felzenszwalb_masked_softmax (101/158)\n",
      "target n_predictions: 22096\n",
      "Initial bounds for bump: (4.220623850414995, 4.348521542851813)\n"
     ]
    },
    {
     "name": "stderr",
     "output_type": "stream",
     "text": [
      "100%|█████████████████████████████████████████████████████████████████████| 274/274 [00:11<00:00, 24.12it/s]\n"
     ]
    },
    {
     "name": "stdout",
     "output_type": "stream",
     "text": [
      "cur_bump_amount: 4.284572696633404, cur_n_target_predictions: 22406\n",
      "Updated upper bound to 4.284572696633404\n"
     ]
    },
    {
     "name": "stderr",
     "output_type": "stream",
     "text": [
      "100%|█████████████████████████████████████████████████████████████████████| 274/274 [00:16<00:00, 16.34it/s]\n"
     ]
    },
    {
     "name": "stdout",
     "output_type": "stream",
     "text": [
      "cur_bump_amount: 4.2525982735242, cur_n_target_predictions: 22178\n",
      "Updated upper bound to 4.2525982735242\n"
     ]
    },
    {
     "name": "stderr",
     "output_type": "stream",
     "text": [
      "100%|█████████████████████████████████████████████████████████████████████| 274/274 [00:14<00:00, 18.40it/s]\n"
     ]
    },
    {
     "name": "stdout",
     "output_type": "stream",
     "text": [
      "cur_bump_amount: 4.236611061969597, cur_n_target_predictions: 22071\n",
      "Updated lower bound to 4.236611061969597\n"
     ]
    },
    {
     "name": "stderr",
     "output_type": "stream",
     "text": [
      "100%|█████████████████████████████████████████████████████████████████████| 274/274 [00:18<00:00, 14.64it/s]\n"
     ]
    },
    {
     "name": "stdout",
     "output_type": "stream",
     "text": [
      "cur_bump_amount: 4.2446046677468985, cur_n_target_predictions: 22122\n",
      "Updated upper bound to 4.2446046677468985\n"
     ]
    },
    {
     "name": "stderr",
     "output_type": "stream",
     "text": [
      "100%|█████████████████████████████████████████████████████████████████████| 274/274 [00:20<00:00, 13.52it/s]\n"
     ]
    },
    {
     "name": "stdout",
     "output_type": "stream",
     "text": [
      "cur_bump_amount: 4.240607864858248, cur_n_target_predictions: 22101\n",
      "Updated upper bound to 4.240607864858248\n",
      "final results: bump amount: 4.240607864858248 n_target_predictions: 22101\n",
      "saved/edit/experiments/corresponding_bump_edits/CINIC10_ImageNet-VGG_16/0213_143741/airplane_100/results/airplane-train-n02691156_37067/felzenszwalb_masked_softmax\n",
      "[0214_140326] Creating corresponding logit bump for airplane-train-n02691156_37067/felzenszwalb_gaussian_softmax (102/158)\n",
      "target n_predictions: 10207\n",
      "Initial bounds for bump: (0.6103515625, 1.4901161193847656)\n"
     ]
    },
    {
     "name": "stderr",
     "output_type": "stream",
     "text": [
      "100%|█████████████████████████████████████████████████████████████████████| 274/274 [00:11<00:00, 23.69it/s]\n"
     ]
    },
    {
     "name": "stdout",
     "output_type": "stream",
     "text": [
      "cur_bump_amount: 1.0502338409423828, cur_n_target_predictions: 10256\n",
      "Updated upper bound to 1.0502338409423828\n"
     ]
    },
    {
     "name": "stderr",
     "output_type": "stream",
     "text": [
      "100%|█████████████████████████████████████████████████████████████████████| 274/274 [00:16<00:00, 16.33it/s]\n"
     ]
    },
    {
     "name": "stdout",
     "output_type": "stream",
     "text": [
      "cur_bump_amount: 0.8302927017211914, cur_n_target_predictions: 9995\n",
      "Updated lower bound to 0.8302927017211914\n"
     ]
    },
    {
     "name": "stderr",
     "output_type": "stream",
     "text": [
      "100%|█████████████████████████████████████████████████████████████████████| 274/274 [00:10<00:00, 25.12it/s]\n"
     ]
    },
    {
     "name": "stdout",
     "output_type": "stream",
     "text": [
      "cur_bump_amount: 0.9402632713317871, cur_n_target_predictions: 10104\n",
      "Updated lower bound to 0.9402632713317871\n"
     ]
    },
    {
     "name": "stderr",
     "output_type": "stream",
     "text": [
      "100%|█████████████████████████████████████████████████████████████████████| 274/274 [00:09<00:00, 28.16it/s]\n"
     ]
    },
    {
     "name": "stdout",
     "output_type": "stream",
     "text": [
      "cur_bump_amount: 0.995248556137085, cur_n_target_predictions: 10170\n",
      "Updated lower bound to 0.995248556137085\n"
     ]
    },
    {
     "name": "stderr",
     "output_type": "stream",
     "text": [
      "100%|█████████████████████████████████████████████████████████████████████| 274/274 [00:10<00:00, 25.39it/s]\n"
     ]
    },
    {
     "name": "stdout",
     "output_type": "stream",
     "text": [
      "cur_bump_amount: 1.0227411985397339, cur_n_target_predictions: 10206\n",
      "Updated lower bound to 1.0227411985397339\n",
      "final results: bump amount: 1.0227411985397339 n_target_predictions: 10206\n",
      "saved/edit/experiments/corresponding_bump_edits/CINIC10_ImageNet-VGG_16/0213_143741/airplane_100/results/airplane-train-n02691156_37067/felzenszwalb_gaussian_softmax\n",
      "[0214_140427] Creating corresponding logit bump for airplane-train-n04012482_7516/felzenszwalb_masked_softmax (103/158)\n",
      "target n_predictions: 18438\n",
      "Initial bounds for bump: (3.637978807091713, 3.751665644813329)\n"
     ]
    },
    {
     "name": "stderr",
     "output_type": "stream",
     "text": [
      "100%|█████████████████████████████████████████████████████████████████████| 274/274 [00:09<00:00, 28.43it/s]\n"
     ]
    },
    {
     "name": "stdout",
     "output_type": "stream",
     "text": [
      "cur_bump_amount: 3.694822225952521, cur_n_target_predictions: 18554\n",
      "Updated upper bound to 3.694822225952521\n"
     ]
    },
    {
     "name": "stderr",
     "output_type": "stream",
     "text": [
      "100%|█████████████████████████████████████████████████████████████████████| 274/274 [00:10<00:00, 26.24it/s]\n"
     ]
    },
    {
     "name": "stdout",
     "output_type": "stream",
     "text": [
      "cur_bump_amount: 3.666400516522117, cur_n_target_predictions: 18395\n",
      "Updated lower bound to 3.666400516522117\n"
     ]
    },
    {
     "name": "stderr",
     "output_type": "stream",
     "text": [
      "100%|█████████████████████████████████████████████████████████████████████| 274/274 [00:10<00:00, 25.54it/s]\n"
     ]
    },
    {
     "name": "stdout",
     "output_type": "stream",
     "text": [
      "cur_bump_amount: 3.680611371237319, cur_n_target_predictions: 18475\n",
      "Updated upper bound to 3.680611371237319\n"
     ]
    },
    {
     "name": "stderr",
     "output_type": "stream",
     "text": [
      "100%|█████████████████████████████████████████████████████████████████████| 274/274 [00:08<00:00, 30.56it/s]\n"
     ]
    },
    {
     "name": "stdout",
     "output_type": "stream",
     "text": [
      "cur_bump_amount: 3.673505943879718, cur_n_target_predictions: 18431\n",
      "Updated lower bound to 3.673505943879718\n",
      "final results: bump amount: 3.673505943879718 n_target_predictions: 18431\n",
      "saved/edit/experiments/corresponding_bump_edits/CINIC10_ImageNet-VGG_16/0213_143741/airplane_100/results/airplane-train-n04012482_7516/felzenszwalb_masked_softmax\n",
      "[0214_140507] Creating corresponding logit bump for airplane-train-n04012482_7516/felzenszwalb_gaussian_softmax (104/158)\n",
      "target n_predictions: 17091\n",
      "Initial bounds for bump: (3.2741809263825417, 3.4788172342814505)\n"
     ]
    },
    {
     "name": "stderr",
     "output_type": "stream",
     "text": [
      "100%|█████████████████████████████████████████████████████████████████████| 274/274 [00:09<00:00, 27.71it/s]\n"
     ]
    },
    {
     "name": "stdout",
     "output_type": "stream",
     "text": [
      "cur_bump_amount: 3.376499080331996, cur_n_target_predictions: 16785\n",
      "Updated lower bound to 3.376499080331996\n"
     ]
    },
    {
     "name": "stderr",
     "output_type": "stream",
     "text": [
      "100%|█████████████████████████████████████████████████████████████████████| 274/274 [00:09<00:00, 29.11it/s]\n"
     ]
    },
    {
     "name": "stdout",
     "output_type": "stream",
     "text": [
      "cur_bump_amount: 3.4276581573067233, cur_n_target_predictions: 17049\n",
      "Updated lower bound to 3.4276581573067233\n"
     ]
    },
    {
     "name": "stderr",
     "output_type": "stream",
     "text": [
      "100%|█████████████████████████████████████████████████████████████████████| 274/274 [00:10<00:00, 26.10it/s]\n"
     ]
    },
    {
     "name": "stdout",
     "output_type": "stream",
     "text": [
      "cur_bump_amount: 3.453237695794087, cur_n_target_predictions: 17184\n",
      "Updated upper bound to 3.453237695794087\n"
     ]
    },
    {
     "name": "stderr",
     "output_type": "stream",
     "text": [
      "100%|█████████████████████████████████████████████████████████████████████| 274/274 [00:09<00:00, 27.43it/s]\n"
     ]
    },
    {
     "name": "stdout",
     "output_type": "stream",
     "text": [
      "cur_bump_amount: 3.440447926550405, cur_n_target_predictions: 17120\n",
      "Updated upper bound to 3.440447926550405\n"
     ]
    },
    {
     "name": "stderr",
     "output_type": "stream",
     "text": [
      "100%|█████████████████████████████████████████████████████████████████████| 274/274 [00:09<00:00, 29.74it/s]\n"
     ]
    },
    {
     "name": "stdout",
     "output_type": "stream",
     "text": [
      "cur_bump_amount: 3.434053041928564, cur_n_target_predictions: 17090\n",
      "Updated lower bound to 3.434053041928564\n",
      "final results: bump amount: 3.434053041928564 n_target_predictions: 17090\n",
      "saved/edit/experiments/corresponding_bump_edits/CINIC10_ImageNet-VGG_16/0213_143741/airplane_100/results/airplane-train-n04012482_7516/felzenszwalb_gaussian_softmax\n",
      "[0214_140556] Creating corresponding logit bump for airplane-train-n03604311_5165/felzenszwalb_masked_softmax (105/158)\n",
      "target n_predictions: 25984\n",
      "Initial bounds for bump: (4.7482018317168695, 4.89208673570829)\n"
     ]
    },
    {
     "name": "stderr",
     "output_type": "stream",
     "text": [
      "100%|█████████████████████████████████████████████████████████████████████| 274/274 [00:09<00:00, 29.61it/s]\n"
     ]
    },
    {
     "name": "stdout",
     "output_type": "stream",
     "text": [
      "cur_bump_amount: 4.82014428371258, cur_n_target_predictions: 26420\n",
      "Updated upper bound to 4.82014428371258\n"
     ]
    },
    {
     "name": "stderr",
     "output_type": "stream",
     "text": [
      "100%|█████████████████████████████████████████████████████████████████████| 274/274 [00:09<00:00, 29.40it/s]\n"
     ]
    },
    {
     "name": "stdout",
     "output_type": "stream",
     "text": [
      "cur_bump_amount: 4.784173057714725, cur_n_target_predictions: 26133\n",
      "Updated upper bound to 4.784173057714725\n"
     ]
    },
    {
     "name": "stderr",
     "output_type": "stream",
     "text": [
      "100%|█████████████████████████████████████████████████████████████████████| 274/274 [00:09<00:00, 29.31it/s]\n"
     ]
    },
    {
     "name": "stdout",
     "output_type": "stream",
     "text": [
      "cur_bump_amount: 4.766187444715797, cur_n_target_predictions: 25994\n",
      "Updated upper bound to 4.766187444715797\n",
      "final results: bump amount: 4.766187444715797 n_target_predictions: 25994\n",
      "saved/edit/experiments/corresponding_bump_edits/CINIC10_ImageNet-VGG_16/0213_143741/airplane_100/results/airplane-train-n03604311_5165/felzenszwalb_masked_softmax\n",
      "[0214_140624] Creating corresponding logit bump for airplane-train-n03604311_5165/felzenszwalb_gaussian_softmax (106/158)\n",
      "target n_predictions: 11390\n",
      "Initial bounds for bump: (1.4901161193847656, 1.862645149230957)\n"
     ]
    },
    {
     "name": "stderr",
     "output_type": "stream",
     "text": [
      "100%|█████████████████████████████████████████████████████████████████████| 274/274 [00:11<00:00, 23.88it/s]\n"
     ]
    },
    {
     "name": "stdout",
     "output_type": "stream",
     "text": [
      "cur_bump_amount: 1.6763806343078613, cur_n_target_predictions: 11282\n",
      "Updated lower bound to 1.6763806343078613\n"
     ]
    },
    {
     "name": "stderr",
     "output_type": "stream",
     "text": [
      "100%|█████████████████████████████████████████████████████████████████████| 274/274 [00:13<00:00, 20.64it/s]\n"
     ]
    },
    {
     "name": "stdout",
     "output_type": "stream",
     "text": [
      "cur_bump_amount: 1.7695128917694092, cur_n_target_predictions: 11457\n",
      "Updated upper bound to 1.7695128917694092\n"
     ]
    },
    {
     "name": "stderr",
     "output_type": "stream",
     "text": [
      "100%|█████████████████████████████████████████████████████████████████████| 274/274 [00:45<00:00,  6.08it/s]\n"
     ]
    },
    {
     "name": "stdout",
     "output_type": "stream",
     "text": [
      "cur_bump_amount: 1.7229467630386353, cur_n_target_predictions: 11373\n",
      "Updated lower bound to 1.7229467630386353\n"
     ]
    },
    {
     "name": "stderr",
     "output_type": "stream",
     "text": [
      "100%|█████████████████████████████████████████████████████████████████████| 274/274 [00:47<00:00,  5.71it/s]\n"
     ]
    },
    {
     "name": "stdout",
     "output_type": "stream",
     "text": [
      "cur_bump_amount: 1.7462298274040222, cur_n_target_predictions: 11421\n",
      "Updated upper bound to 1.7462298274040222\n"
     ]
    },
    {
     "name": "stderr",
     "output_type": "stream",
     "text": [
      "100%|█████████████████████████████████████████████████████████████████████| 274/274 [00:16<00:00, 17.05it/s]\n"
     ]
    },
    {
     "name": "stdout",
     "output_type": "stream",
     "text": [
      "cur_bump_amount: 1.7345882952213287, cur_n_target_predictions: 11393\n",
      "Updated upper bound to 1.7345882952213287\n",
      "final results: bump amount: 1.7345882952213287 n_target_predictions: 11393\n",
      "saved/edit/experiments/corresponding_bump_edits/CINIC10_ImageNet-VGG_16/0213_143741/airplane_100/results/airplane-train-n03604311_5165/felzenszwalb_gaussian_softmax\n",
      "[0214_140839] Creating corresponding logit bump for airplane-train-n03809312_2896/felzenszwalb_masked_softmax (107/158)\n",
      "target n_predictions: 18566\n",
      "Initial bounds for bump: (3.637978807091713, 3.751665644813329)\n"
     ]
    },
    {
     "name": "stderr",
     "output_type": "stream",
     "text": [
      "100%|█████████████████████████████████████████████████████████████████████| 274/274 [00:11<00:00, 22.88it/s]\n"
     ]
    },
    {
     "name": "stdout",
     "output_type": "stream",
     "text": [
      "cur_bump_amount: 3.694822225952521, cur_n_target_predictions: 18554\n",
      "Updated lower bound to 3.694822225952521\n"
     ]
    },
    {
     "name": "stderr",
     "output_type": "stream",
     "text": [
      "100%|█████████████████████████████████████████████████████████████████████| 274/274 [00:10<00:00, 26.87it/s]\n"
     ]
    },
    {
     "name": "stdout",
     "output_type": "stream",
     "text": [
      "cur_bump_amount: 3.723243935382925, cur_n_target_predictions: 18695\n",
      "Updated upper bound to 3.723243935382925\n"
     ]
    },
    {
     "name": "stderr",
     "output_type": "stream",
     "text": [
      "100%|█████████████████████████████████████████████████████████████████████| 274/274 [00:10<00:00, 25.61it/s]\n"
     ]
    },
    {
     "name": "stdout",
     "output_type": "stream",
     "text": [
      "cur_bump_amount: 3.709033080667723, cur_n_target_predictions: 18628\n",
      "Updated upper bound to 3.709033080667723\n"
     ]
    },
    {
     "name": "stderr",
     "output_type": "stream",
     "text": [
      "100%|█████████████████████████████████████████████████████████████████████| 274/274 [00:09<00:00, 29.15it/s]\n"
     ]
    },
    {
     "name": "stdout",
     "output_type": "stream",
     "text": [
      "cur_bump_amount: 3.701927653310122, cur_n_target_predictions: 18593\n",
      "Updated upper bound to 3.701927653310122\n"
     ]
    },
    {
     "name": "stderr",
     "output_type": "stream",
     "text": [
      "100%|█████████████████████████████████████████████████████████████████████| 274/274 [00:09<00:00, 29.18it/s]\n"
     ]
    },
    {
     "name": "stdout",
     "output_type": "stream",
     "text": [
      "cur_bump_amount: 3.6983749396313215, cur_n_target_predictions: 18574\n",
      "Updated upper bound to 3.6983749396313215\n",
      "final results: bump amount: 3.6983749396313215 n_target_predictions: 18574\n",
      "saved/edit/experiments/corresponding_bump_edits/CINIC10_ImageNet-VGG_16/0213_143741/airplane_100/results/airplane-train-n03809312_2896/felzenszwalb_masked_softmax\n",
      "[0214_140931] Creating corresponding logit bump for airplane-train-n03809312_2896/felzenszwalb_gaussian_softmax (108/158)\n",
      "target n_predictions: 10754\n",
      "Initial bounds for bump: (0.6103515625, 1.4901161193847656)\n"
     ]
    },
    {
     "name": "stderr",
     "output_type": "stream",
     "text": [
      "100%|█████████████████████████████████████████████████████████████████████| 274/274 [00:09<00:00, 29.13it/s]\n"
     ]
    },
    {
     "name": "stdout",
     "output_type": "stream",
     "text": [
      "cur_bump_amount: 1.0502338409423828, cur_n_target_predictions: 10256\n",
      "Updated lower bound to 1.0502338409423828\n"
     ]
    },
    {
     "name": "stderr",
     "output_type": "stream",
     "text": [
      "100%|█████████████████████████████████████████████████████████████████████| 274/274 [00:09<00:00, 29.42it/s]\n"
     ]
    },
    {
     "name": "stdout",
     "output_type": "stream",
     "text": [
      "cur_bump_amount: 1.2701749801635742, cur_n_target_predictions: 10566\n",
      "Updated lower bound to 1.2701749801635742\n"
     ]
    },
    {
     "name": "stderr",
     "output_type": "stream",
     "text": [
      "100%|█████████████████████████████████████████████████████████████████████| 274/274 [00:09<00:00, 27.77it/s]\n"
     ]
    },
    {
     "name": "stdout",
     "output_type": "stream",
     "text": [
      "cur_bump_amount: 1.38014554977417, cur_n_target_predictions: 10760\n",
      "Updated upper bound to 1.38014554977417\n",
      "final results: bump amount: 1.38014554977417 n_target_predictions: 10760\n",
      "saved/edit/experiments/corresponding_bump_edits/CINIC10_ImageNet-VGG_16/0213_143741/airplane_100/results/airplane-train-n03809312_2896/felzenszwalb_gaussian_softmax\n",
      "[0214_141000] Creating corresponding logit bump for airplane-train-n02842573_4227/felzenszwalb_masked_softmax (109/158)\n",
      "target n_predictions: 22090\n",
      "Initial bounds for bump: (4.220623850414995, 4.348521542851813)\n"
     ]
    },
    {
     "name": "stderr",
     "output_type": "stream",
     "text": [
      "100%|█████████████████████████████████████████████████████████████████████| 274/274 [00:07<00:00, 35.97it/s]\n"
     ]
    },
    {
     "name": "stdout",
     "output_type": "stream",
     "text": [
      "cur_bump_amount: 4.284572696633404, cur_n_target_predictions: 22406\n",
      "Updated upper bound to 4.284572696633404\n"
     ]
    },
    {
     "name": "stderr",
     "output_type": "stream",
     "text": [
      "100%|█████████████████████████████████████████████████████████████████████| 274/274 [00:10<00:00, 25.69it/s]\n"
     ]
    },
    {
     "name": "stdout",
     "output_type": "stream",
     "text": [
      "cur_bump_amount: 4.2525982735242, cur_n_target_predictions: 22178\n",
      "Updated upper bound to 4.2525982735242\n"
     ]
    },
    {
     "name": "stderr",
     "output_type": "stream",
     "text": [
      "100%|█████████████████████████████████████████████████████████████████████| 274/274 [00:08<00:00, 31.07it/s]\n"
     ]
    },
    {
     "name": "stdout",
     "output_type": "stream",
     "text": [
      "cur_bump_amount: 4.236611061969597, cur_n_target_predictions: 22071\n",
      "Updated lower bound to 4.236611061969597\n"
     ]
    },
    {
     "name": "stderr",
     "output_type": "stream",
     "text": [
      "100%|█████████████████████████████████████████████████████████████████████| 274/274 [00:09<00:00, 29.55it/s]\n"
     ]
    },
    {
     "name": "stdout",
     "output_type": "stream",
     "text": [
      "cur_bump_amount: 4.2446046677468985, cur_n_target_predictions: 22122\n",
      "Updated upper bound to 4.2446046677468985\n"
     ]
    },
    {
     "name": "stderr",
     "output_type": "stream",
     "text": [
      "100%|█████████████████████████████████████████████████████████████████████| 274/274 [00:09<00:00, 29.14it/s]\n"
     ]
    },
    {
     "name": "stdout",
     "output_type": "stream",
     "text": [
      "cur_bump_amount: 4.240607864858248, cur_n_target_predictions: 22101\n",
      "Updated upper bound to 4.240607864858248\n"
     ]
    },
    {
     "name": "stderr",
     "output_type": "stream",
     "text": [
      "100%|█████████████████████████████████████████████████████████████████████| 274/274 [00:09<00:00, 29.78it/s]\n"
     ]
    },
    {
     "name": "stdout",
     "output_type": "stream",
     "text": [
      "cur_bump_amount: 4.238609463413923, cur_n_target_predictions: 22083\n",
      "Updated lower bound to 4.238609463413923\n",
      "final results: bump amount: 4.238609463413923 n_target_predictions: 22083\n",
      "saved/edit/experiments/corresponding_bump_edits/CINIC10_ImageNet-VGG_16/0213_143741/airplane_100/results/airplane-train-n02842573_4227/felzenszwalb_masked_softmax\n",
      "[0214_141055] Creating corresponding logit bump for airplane-train-n02704645_16592/felzenszwalb_masked_softmax (110/158)\n",
      "target n_predictions: 27486\n",
      "Initial bounds for bump: (4.89208673570829, 5.044964446199174)\n"
     ]
    },
    {
     "name": "stderr",
     "output_type": "stream",
     "text": [
      "100%|█████████████████████████████████████████████████████████████████████| 274/274 [00:09<00:00, 29.88it/s]\n"
     ]
    },
    {
     "name": "stdout",
     "output_type": "stream",
     "text": [
      "cur_bump_amount: 4.968525590953732, cur_n_target_predictions: 27576\n",
      "Updated upper bound to 4.968525590953732\n"
     ]
    },
    {
     "name": "stderr",
     "output_type": "stream",
     "text": [
      "100%|█████████████████████████████████████████████████████████████████████| 274/274 [00:09<00:00, 29.17it/s]\n"
     ]
    },
    {
     "name": "stdout",
     "output_type": "stream",
     "text": [
      "cur_bump_amount: 4.930306163331011, cur_n_target_predictions: 27262\n",
      "Updated lower bound to 4.930306163331011\n"
     ]
    },
    {
     "name": "stderr",
     "output_type": "stream",
     "text": [
      "100%|█████████████████████████████████████████████████████████████████████| 274/274 [00:09<00:00, 29.38it/s]\n"
     ]
    },
    {
     "name": "stdout",
     "output_type": "stream",
     "text": [
      "cur_bump_amount: 4.949415877142371, cur_n_target_predictions: 27412\n",
      "Updated lower bound to 4.949415877142371\n"
     ]
    },
    {
     "name": "stderr",
     "output_type": "stream",
     "text": [
      "100%|█████████████████████████████████████████████████████████████████████| 274/274 [00:09<00:00, 29.45it/s]\n"
     ]
    },
    {
     "name": "stdout",
     "output_type": "stream",
     "text": [
      "cur_bump_amount: 4.9589707340480516, cur_n_target_predictions: 27502\n",
      "Updated upper bound to 4.9589707340480516\n"
     ]
    },
    {
     "name": "stderr",
     "output_type": "stream",
     "text": [
      "100%|█████████████████████████████████████████████████████████████████████| 274/274 [00:07<00:00, 36.76it/s]\n"
     ]
    },
    {
     "name": "stdout",
     "output_type": "stream",
     "text": [
      "cur_bump_amount: 4.954193305595211, cur_n_target_predictions: 27459\n",
      "Updated lower bound to 4.954193305595211\n"
     ]
    },
    {
     "name": "stderr",
     "output_type": "stream",
     "text": [
      "100%|█████████████████████████████████████████████████████████████████████| 274/274 [00:08<00:00, 30.55it/s]\n"
     ]
    },
    {
     "name": "stdout",
     "output_type": "stream",
     "text": [
      "cur_bump_amount: 4.9565820198216315, cur_n_target_predictions: 27474\n",
      "Updated lower bound to 4.9565820198216315\n"
     ]
    },
    {
     "name": "stderr",
     "output_type": "stream",
     "text": [
      "100%|█████████████████████████████████████████████████████████████████████| 274/274 [00:08<00:00, 30.80it/s]\n"
     ]
    },
    {
     "name": "stdout",
     "output_type": "stream",
     "text": [
      "cur_bump_amount: 4.9577763769348415, cur_n_target_predictions: 27489\n",
      "Updated upper bound to 4.9577763769348415\n",
      "final results: bump amount: 4.9577763769348415 n_target_predictions: 27489\n",
      "saved/edit/experiments/corresponding_bump_edits/CINIC10_ImageNet-VGG_16/0213_143741/airplane_100/results/airplane-train-n02704645_16592/felzenszwalb_masked_softmax\n",
      "[0214_141158] Creating corresponding logit bump for airplane-train-n03365231_10495/felzenszwalb_masked_softmax (111/158)\n",
      "target n_predictions: 18951\n",
      "Initial bounds for bump: (3.751665644813329, 3.865352482534945)\n"
     ]
    },
    {
     "name": "stderr",
     "output_type": "stream",
     "text": [
      "100%|█████████████████████████████████████████████████████████████████████| 274/274 [00:09<00:00, 29.24it/s]\n"
     ]
    },
    {
     "name": "stdout",
     "output_type": "stream",
     "text": [
      "cur_bump_amount: 3.808509063674137, cur_n_target_predictions: 19215\n",
      "Updated upper bound to 3.808509063674137\n"
     ]
    },
    {
     "name": "stderr",
     "output_type": "stream",
     "text": [
      "100%|█████████████████████████████████████████████████████████████████████| 274/274 [00:09<00:00, 29.94it/s]\n"
     ]
    },
    {
     "name": "stdout",
     "output_type": "stream",
     "text": [
      "cur_bump_amount: 3.780087354243733, cur_n_target_predictions: 19042\n",
      "Updated upper bound to 3.780087354243733\n"
     ]
    },
    {
     "name": "stderr",
     "output_type": "stream",
     "text": [
      "100%|█████████████████████████████████████████████████████████████████████| 274/274 [00:09<00:00, 29.24it/s]\n"
     ]
    },
    {
     "name": "stdout",
     "output_type": "stream",
     "text": [
      "cur_bump_amount: 3.765876499528531, cur_n_target_predictions: 18944\n",
      "Updated lower bound to 3.765876499528531\n",
      "final results: bump amount: 3.765876499528531 n_target_predictions: 18944\n",
      "saved/edit/experiments/corresponding_bump_edits/CINIC10_ImageNet-VGG_16/0213_143741/airplane_100/results/airplane-train-n03365231_10495/felzenszwalb_masked_softmax\n",
      "[0214_141226] Creating corresponding logit bump for airplane-train-n03365231_10495/felzenszwalb_gaussian_softmax (112/158)\n",
      "target n_predictions: 11651\n",
      "Initial bounds for bump: (1.862645149230957, 2.3283064365386963)\n"
     ]
    },
    {
     "name": "stderr",
     "output_type": "stream",
     "text": [
      "100%|█████████████████████████████████████████████████████████████████████| 274/274 [00:09<00:00, 29.46it/s]\n"
     ]
    },
    {
     "name": "stdout",
     "output_type": "stream",
     "text": [
      "cur_bump_amount: 2.0954757928848267, cur_n_target_predictions: 12145\n",
      "Updated upper bound to 2.0954757928848267\n"
     ]
    },
    {
     "name": "stderr",
     "output_type": "stream",
     "text": [
      "100%|█████████████████████████████████████████████████████████████████████| 274/274 [00:09<00:00, 29.69it/s]\n"
     ]
    },
    {
     "name": "stdout",
     "output_type": "stream",
     "text": [
      "cur_bump_amount: 1.9790604710578918, cur_n_target_predictions: 11871\n",
      "Updated upper bound to 1.9790604710578918\n"
     ]
    },
    {
     "name": "stderr",
     "output_type": "stream",
     "text": [
      "100%|█████████████████████████████████████████████████████████████████████| 274/274 [00:09<00:00, 29.87it/s]\n"
     ]
    },
    {
     "name": "stdout",
     "output_type": "stream",
     "text": [
      "cur_bump_amount: 1.9208528101444244, cur_n_target_predictions: 11741\n",
      "Updated upper bound to 1.9208528101444244\n"
     ]
    },
    {
     "name": "stderr",
     "output_type": "stream",
     "text": [
      "100%|█████████████████████████████████████████████████████████████████████| 274/274 [00:08<00:00, 31.28it/s]\n"
     ]
    },
    {
     "name": "stdout",
     "output_type": "stream",
     "text": [
      "cur_bump_amount: 1.8917489796876907, cur_n_target_predictions: 11685\n",
      "Updated upper bound to 1.8917489796876907\n"
     ]
    },
    {
     "name": "stderr",
     "output_type": "stream",
     "text": [
      "100%|█████████████████████████████████████████████████████████████████████| 274/274 [00:10<00:00, 27.05it/s]\n"
     ]
    },
    {
     "name": "stdout",
     "output_type": "stream",
     "text": [
      "cur_bump_amount: 1.8771970644593239, cur_n_target_predictions: 11649\n",
      "Updated lower bound to 1.8771970644593239\n",
      "final results: bump amount: 1.8771970644593239 n_target_predictions: 11649\n",
      "saved/edit/experiments/corresponding_bump_edits/CINIC10_ImageNet-VGG_16/0213_143741/airplane_100/results/airplane-train-n03365231_10495/felzenszwalb_gaussian_softmax\n",
      "[0214_141313] Creating corresponding logit bump for airplane-train-n02704645_10672/felzenszwalb_masked_softmax (113/158)\n",
      "target n_predictions: 20356\n",
      "Initial bounds for bump: (3.865352482534945, 4.092726157978177)\n"
     ]
    },
    {
     "name": "stderr",
     "output_type": "stream",
     "text": [
      "100%|█████████████████████████████████████████████████████████████████████| 274/274 [00:07<00:00, 35.82it/s]\n"
     ]
    },
    {
     "name": "stdout",
     "output_type": "stream",
     "text": [
      "cur_bump_amount: 3.979039320256561, cur_n_target_predictions: 20307\n",
      "Updated lower bound to 3.979039320256561\n"
     ]
    },
    {
     "name": "stderr",
     "output_type": "stream",
     "text": [
      "100%|█████████████████████████████████████████████████████████████████████| 274/274 [00:09<00:00, 28.41it/s]\n"
     ]
    },
    {
     "name": "stdout",
     "output_type": "stream",
     "text": [
      "cur_bump_amount: 4.035882739117369, cur_n_target_predictions: 20673\n",
      "Updated upper bound to 4.035882739117369\n"
     ]
    },
    {
     "name": "stderr",
     "output_type": "stream",
     "text": [
      "100%|█████████████████████████████████████████████████████████████████████| 274/274 [00:10<00:00, 26.38it/s]\n"
     ]
    },
    {
     "name": "stdout",
     "output_type": "stream",
     "text": [
      "cur_bump_amount: 4.007461029686965, cur_n_target_predictions: 20495\n",
      "Updated upper bound to 4.007461029686965\n"
     ]
    },
    {
     "name": "stderr",
     "output_type": "stream",
     "text": [
      "100%|█████████████████████████████████████████████████████████████████████| 274/274 [00:09<00:00, 28.72it/s]\n"
     ]
    },
    {
     "name": "stdout",
     "output_type": "stream",
     "text": [
      "cur_bump_amount: 3.993250174971763, cur_n_target_predictions: 20409\n",
      "Updated upper bound to 3.993250174971763\n"
     ]
    },
    {
     "name": "stderr",
     "output_type": "stream",
     "text": [
      "100%|█████████████████████████████████████████████████████████████████████| 274/274 [00:09<00:00, 27.68it/s]\n"
     ]
    },
    {
     "name": "stdout",
     "output_type": "stream",
     "text": [
      "cur_bump_amount: 3.986144747614162, cur_n_target_predictions: 20360\n",
      "Updated upper bound to 3.986144747614162\n",
      "final results: bump amount: 3.986144747614162 n_target_predictions: 20360\n",
      "saved/edit/experiments/corresponding_bump_edits/CINIC10_ImageNet-VGG_16/0213_143741/airplane_100/results/airplane-train-n02704645_10672/felzenszwalb_masked_softmax\n",
      "[0214_141400] Creating corresponding logit bump for airplane-train-n02704645_10672/felzenszwalb_gaussian_softmax (114/158)\n",
      "target n_predictions: 16811\n",
      "Initial bounds for bump: (3.2741809263825417, 3.4788172342814505)\n"
     ]
    },
    {
     "name": "stderr",
     "output_type": "stream",
     "text": [
      "100%|█████████████████████████████████████████████████████████████████████| 274/274 [00:09<00:00, 28.90it/s]\n"
     ]
    },
    {
     "name": "stdout",
     "output_type": "stream",
     "text": [
      "cur_bump_amount: 3.376499080331996, cur_n_target_predictions: 16785\n",
      "Updated lower bound to 3.376499080331996\n"
     ]
    },
    {
     "name": "stderr",
     "output_type": "stream",
     "text": [
      "100%|█████████████████████████████████████████████████████████████████████| 274/274 [00:09<00:00, 29.46it/s]\n"
     ]
    },
    {
     "name": "stdout",
     "output_type": "stream",
     "text": [
      "cur_bump_amount: 3.4276581573067233, cur_n_target_predictions: 17049\n",
      "Updated upper bound to 3.4276581573067233\n"
     ]
    },
    {
     "name": "stderr",
     "output_type": "stream",
     "text": [
      "100%|█████████████████████████████████████████████████████████████████████| 274/274 [00:09<00:00, 27.92it/s]\n"
     ]
    },
    {
     "name": "stdout",
     "output_type": "stream",
     "text": [
      "cur_bump_amount: 3.4020786188193597, cur_n_target_predictions: 16923\n",
      "Updated upper bound to 3.4020786188193597\n"
     ]
    },
    {
     "name": "stderr",
     "output_type": "stream",
     "text": [
      "100%|█████████████████████████████████████████████████████████████████████| 274/274 [00:09<00:00, 29.05it/s]\n"
     ]
    },
    {
     "name": "stdout",
     "output_type": "stream",
     "text": [
      "cur_bump_amount: 3.389288849575678, cur_n_target_predictions: 16851\n",
      "Updated upper bound to 3.389288849575678\n"
     ]
    },
    {
     "name": "stderr",
     "output_type": "stream",
     "text": [
      "100%|█████████████████████████████████████████████████████████████████████| 274/274 [00:10<00:00, 26.88it/s]\n"
     ]
    },
    {
     "name": "stdout",
     "output_type": "stream",
     "text": [
      "cur_bump_amount: 3.382893964953837, cur_n_target_predictions: 16822\n",
      "Updated upper bound to 3.382893964953837\n"
     ]
    },
    {
     "name": "stderr",
     "output_type": "stream",
     "text": [
      "100%|█████████████████████████████████████████████████████████████████████| 274/274 [00:09<00:00, 29.77it/s]\n"
     ]
    },
    {
     "name": "stdout",
     "output_type": "stream",
     "text": [
      "cur_bump_amount: 3.3796965226429165, cur_n_target_predictions: 16809\n",
      "Updated lower bound to 3.3796965226429165\n",
      "final results: bump amount: 3.3796965226429165 n_target_predictions: 16809\n",
      "saved/edit/experiments/corresponding_bump_edits/CINIC10_ImageNet-VGG_16/0213_143741/airplane_100/results/airplane-train-n02704645_10672/felzenszwalb_gaussian_softmax\n",
      "[0214_141458] Creating corresponding logit bump for airplane-train-n03604311_3840/felzenszwalb_masked_softmax (115/158)\n",
      "target n_predictions: 27060\n",
      "Initial bounds for bump: (4.89208673570829, 5.044964446199174)\n"
     ]
    },
    {
     "name": "stderr",
     "output_type": "stream",
     "text": [
      "100%|█████████████████████████████████████████████████████████████████████| 274/274 [00:09<00:00, 29.24it/s]\n"
     ]
    },
    {
     "name": "stdout",
     "output_type": "stream",
     "text": [
      "cur_bump_amount: 4.968525590953732, cur_n_target_predictions: 27576\n",
      "Updated upper bound to 4.968525590953732\n"
     ]
    },
    {
     "name": "stderr",
     "output_type": "stream",
     "text": [
      "100%|█████████████████████████████████████████████████████████████████████| 274/274 [00:09<00:00, 28.98it/s]\n"
     ]
    },
    {
     "name": "stdout",
     "output_type": "stream",
     "text": [
      "cur_bump_amount: 4.930306163331011, cur_n_target_predictions: 27262\n",
      "Updated upper bound to 4.930306163331011\n"
     ]
    },
    {
     "name": "stderr",
     "output_type": "stream",
     "text": [
      "100%|█████████████████████████████████████████████████████████████████████| 274/274 [00:11<00:00, 24.30it/s]\n"
     ]
    },
    {
     "name": "stdout",
     "output_type": "stream",
     "text": [
      "cur_bump_amount: 4.91119644951965, cur_n_target_predictions: 27112\n",
      "Updated upper bound to 4.91119644951965\n"
     ]
    },
    {
     "name": "stderr",
     "output_type": "stream",
     "text": [
      "100%|█████████████████████████████████████████████████████████████████████| 274/274 [00:09<00:00, 28.63it/s]\n"
     ]
    },
    {
     "name": "stdout",
     "output_type": "stream",
     "text": [
      "cur_bump_amount: 4.90164159261397, cur_n_target_predictions: 27034\n",
      "Updated lower bound to 4.90164159261397\n"
     ]
    },
    {
     "name": "stderr",
     "output_type": "stream",
     "text": [
      "100%|█████████████████████████████████████████████████████████████████████| 274/274 [00:09<00:00, 30.35it/s]\n"
     ]
    },
    {
     "name": "stdout",
     "output_type": "stream",
     "text": [
      "cur_bump_amount: 4.90641902106681, cur_n_target_predictions: 27075\n",
      "Updated upper bound to 4.90641902106681\n"
     ]
    },
    {
     "name": "stderr",
     "output_type": "stream",
     "text": [
      "100%|█████████████████████████████████████████████████████████████████████| 274/274 [00:09<00:00, 28.85it/s]\n"
     ]
    },
    {
     "name": "stdout",
     "output_type": "stream",
     "text": [
      "cur_bump_amount: 4.90403030684039, cur_n_target_predictions: 27050\n",
      "Updated lower bound to 4.90403030684039\n",
      "final results: bump amount: 4.90403030684039 n_target_predictions: 27050\n",
      "saved/edit/experiments/corresponding_bump_edits/CINIC10_ImageNet-VGG_16/0213_143741/airplane_100/results/airplane-train-n03604311_3840/felzenszwalb_masked_softmax\n",
      "[0214_141557] Creating corresponding logit bump for airplane-train-n03604311_3840/felzenszwalb_gaussian_softmax (116/158)\n",
      "target n_predictions: 12332\n",
      "Initial bounds for bump: (1.862645149230957, 2.3283064365386963)\n"
     ]
    },
    {
     "name": "stderr",
     "output_type": "stream",
     "text": [
      "100%|█████████████████████████████████████████████████████████████████████| 274/274 [00:09<00:00, 29.12it/s]\n"
     ]
    },
    {
     "name": "stdout",
     "output_type": "stream",
     "text": [
      "cur_bump_amount: 2.0954757928848267, cur_n_target_predictions: 12145\n",
      "Updated lower bound to 2.0954757928848267\n"
     ]
    },
    {
     "name": "stderr",
     "output_type": "stream",
     "text": [
      "100%|█████████████████████████████████████████████████████████████████████| 274/274 [00:10<00:00, 26.83it/s]\n"
     ]
    },
    {
     "name": "stdout",
     "output_type": "stream",
     "text": [
      "cur_bump_amount: 2.2118911147117615, cur_n_target_predictions: 12434\n",
      "Updated upper bound to 2.2118911147117615\n"
     ]
    },
    {
     "name": "stderr",
     "output_type": "stream",
     "text": [
      "100%|█████████████████████████████████████████████████████████████████████| 274/274 [00:07<00:00, 35.50it/s]\n"
     ]
    },
    {
     "name": "stdout",
     "output_type": "stream",
     "text": [
      "cur_bump_amount: 2.153683453798294, cur_n_target_predictions: 12297\n",
      "Updated lower bound to 2.153683453798294\n"
     ]
    },
    {
     "name": "stderr",
     "output_type": "stream",
     "text": [
      "100%|█████████████████████████████████████████████████████████████████████| 274/274 [00:09<00:00, 27.88it/s]\n"
     ]
    },
    {
     "name": "stdout",
     "output_type": "stream",
     "text": [
      "cur_bump_amount: 2.1827872842550278, cur_n_target_predictions: 12371\n",
      "Updated upper bound to 2.1827872842550278\n"
     ]
    },
    {
     "name": "stderr",
     "output_type": "stream",
     "text": [
      "100%|█████████████████████████████████████████████████████████████████████| 274/274 [00:09<00:00, 27.45it/s]\n"
     ]
    },
    {
     "name": "stdout",
     "output_type": "stream",
     "text": [
      "cur_bump_amount: 2.168235369026661, cur_n_target_predictions: 12335\n",
      "Updated upper bound to 2.168235369026661\n",
      "final results: bump amount: 2.168235369026661 n_target_predictions: 12335\n",
      "saved/edit/experiments/corresponding_bump_edits/CINIC10_ImageNet-VGG_16/0213_143741/airplane_100/results/airplane-train-n03604311_3840/felzenszwalb_gaussian_softmax\n",
      "[0214_141644] Creating corresponding logit bump for airplane-train-n03335030_18719/felzenszwalb_masked_softmax (117/158)\n",
      "target n_predictions: 25240\n",
      "Initial bounds for bump: (4.604316927725449, 4.7482018317168695)\n"
     ]
    },
    {
     "name": "stderr",
     "output_type": "stream",
     "text": [
      "100%|█████████████████████████████████████████████████████████████████████| 274/274 [00:09<00:00, 29.13it/s]\n"
     ]
    },
    {
     "name": "stdout",
     "output_type": "stream",
     "text": [
      "cur_bump_amount: 4.676259379721159, cur_n_target_predictions: 25292\n",
      "Updated upper bound to 4.676259379721159\n"
     ]
    },
    {
     "name": "stderr",
     "output_type": "stream",
     "text": [
      "100%|█████████████████████████████████████████████████████████████████████| 274/274 [00:09<00:00, 29.12it/s]\n"
     ]
    },
    {
     "name": "stdout",
     "output_type": "stream",
     "text": [
      "cur_bump_amount: 4.640288153723304, cur_n_target_predictions: 25024\n",
      "Updated lower bound to 4.640288153723304\n"
     ]
    },
    {
     "name": "stderr",
     "output_type": "stream",
     "text": [
      "100%|█████████████████████████████████████████████████████████████████████| 274/274 [00:09<00:00, 29.17it/s]\n"
     ]
    },
    {
     "name": "stdout",
     "output_type": "stream",
     "text": [
      "cur_bump_amount: 4.658273766722232, cur_n_target_predictions: 25145\n",
      "Updated lower bound to 4.658273766722232\n"
     ]
    },
    {
     "name": "stderr",
     "output_type": "stream",
     "text": [
      "100%|█████████████████████████████████████████████████████████████████████| 274/274 [00:10<00:00, 25.24it/s]\n"
     ]
    },
    {
     "name": "stdout",
     "output_type": "stream",
     "text": [
      "cur_bump_amount: 4.667266573221696, cur_n_target_predictions: 25230\n",
      "Updated lower bound to 4.667266573221696\n",
      "final results: bump amount: 4.667266573221696 n_target_predictions: 25230\n",
      "saved/edit/experiments/corresponding_bump_edits/CINIC10_ImageNet-VGG_16/0213_143741/airplane_100/results/airplane-train-n03335030_18719/felzenszwalb_masked_softmax\n",
      "[0214_141724] Creating corresponding logit bump for airplane-train-n03335030_21971/felzenszwalb_masked_softmax (118/158)\n",
      "target n_predictions: 18513\n",
      "Initial bounds for bump: (3.637978807091713, 3.751665644813329)\n"
     ]
    },
    {
     "name": "stderr",
     "output_type": "stream",
     "text": [
      "100%|█████████████████████████████████████████████████████████████████████| 274/274 [00:09<00:00, 29.94it/s]\n"
     ]
    },
    {
     "name": "stdout",
     "output_type": "stream",
     "text": [
      "cur_bump_amount: 3.694822225952521, cur_n_target_predictions: 18554\n",
      "Updated upper bound to 3.694822225952521\n"
     ]
    },
    {
     "name": "stderr",
     "output_type": "stream",
     "text": [
      "100%|█████████████████████████████████████████████████████████████████████| 274/274 [00:09<00:00, 30.40it/s]\n"
     ]
    },
    {
     "name": "stdout",
     "output_type": "stream",
     "text": [
      "cur_bump_amount: 3.666400516522117, cur_n_target_predictions: 18395\n",
      "Updated lower bound to 3.666400516522117\n"
     ]
    },
    {
     "name": "stderr",
     "output_type": "stream",
     "text": [
      "100%|█████████████████████████████████████████████████████████████████████| 274/274 [00:09<00:00, 28.05it/s]\n"
     ]
    },
    {
     "name": "stdout",
     "output_type": "stream",
     "text": [
      "cur_bump_amount: 3.680611371237319, cur_n_target_predictions: 18475\n",
      "Updated lower bound to 3.680611371237319\n"
     ]
    },
    {
     "name": "stderr",
     "output_type": "stream",
     "text": [
      "100%|█████████████████████████████████████████████████████████████████████| 274/274 [00:10<00:00, 27.06it/s]\n"
     ]
    },
    {
     "name": "stdout",
     "output_type": "stream",
     "text": [
      "cur_bump_amount: 3.68771679859492, cur_n_target_predictions: 18513\n",
      "final results: bump amount: 3.68771679859492 n_target_predictions: 18513\n",
      "saved/edit/experiments/corresponding_bump_edits/CINIC10_ImageNet-VGG_16/0213_143741/airplane_100/results/airplane-train-n03335030_21971/felzenszwalb_masked_softmax\n",
      "[0214_141802] Creating corresponding logit bump for airplane-train-n03335030_21971/felzenszwalb_gaussian_softmax (119/158)\n",
      "target n_predictions: 10932\n",
      "Initial bounds for bump: (0.6103515625, 1.4901161193847656)\n"
     ]
    },
    {
     "name": "stderr",
     "output_type": "stream",
     "text": [
      "100%|█████████████████████████████████████████████████████████████████████| 274/274 [00:09<00:00, 29.17it/s]\n"
     ]
    },
    {
     "name": "stdout",
     "output_type": "stream",
     "text": [
      "cur_bump_amount: 1.0502338409423828, cur_n_target_predictions: 10256\n",
      "Updated lower bound to 1.0502338409423828\n"
     ]
    },
    {
     "name": "stderr",
     "output_type": "stream",
     "text": [
      "100%|█████████████████████████████████████████████████████████████████████| 274/274 [00:09<00:00, 28.96it/s]\n"
     ]
    },
    {
     "name": "stdout",
     "output_type": "stream",
     "text": [
      "cur_bump_amount: 1.2701749801635742, cur_n_target_predictions: 10566\n",
      "Updated lower bound to 1.2701749801635742\n"
     ]
    },
    {
     "name": "stderr",
     "output_type": "stream",
     "text": [
      "100%|█████████████████████████████████████████████████████████████████████| 274/274 [00:09<00:00, 29.74it/s]\n"
     ]
    },
    {
     "name": "stdout",
     "output_type": "stream",
     "text": [
      "cur_bump_amount: 1.38014554977417, cur_n_target_predictions: 10760\n",
      "Updated lower bound to 1.38014554977417\n"
     ]
    },
    {
     "name": "stderr",
     "output_type": "stream",
     "text": [
      "100%|█████████████████████████████████████████████████████████████████████| 274/274 [00:09<00:00, 29.37it/s]\n"
     ]
    },
    {
     "name": "stdout",
     "output_type": "stream",
     "text": [
      "cur_bump_amount: 1.4351308345794678, cur_n_target_predictions: 10851\n",
      "Updated lower bound to 1.4351308345794678\n"
     ]
    },
    {
     "name": "stderr",
     "output_type": "stream",
     "text": [
      "100%|█████████████████████████████████████████████████████████████████████| 274/274 [00:09<00:00, 28.91it/s]\n"
     ]
    },
    {
     "name": "stdout",
     "output_type": "stream",
     "text": [
      "cur_bump_amount: 1.4626234769821167, cur_n_target_predictions: 10900\n",
      "Updated lower bound to 1.4626234769821167\n"
     ]
    },
    {
     "name": "stderr",
     "output_type": "stream",
     "text": [
      "100%|█████████████████████████████████████████████████████████████████████| 274/274 [00:09<00:00, 28.90it/s]\n"
     ]
    },
    {
     "name": "stdout",
     "output_type": "stream",
     "text": [
      "cur_bump_amount: 1.4763697981834412, cur_n_target_predictions: 10918\n",
      "Updated lower bound to 1.4763697981834412\n"
     ]
    },
    {
     "name": "stderr",
     "output_type": "stream",
     "text": [
      "100%|█████████████████████████████████████████████████████████████████████| 274/274 [00:09<00:00, 29.65it/s]\n"
     ]
    },
    {
     "name": "stdout",
     "output_type": "stream",
     "text": [
      "cur_bump_amount: 1.4832429587841034, cur_n_target_predictions: 10927\n",
      "Updated lower bound to 1.4832429587841034\n",
      "final results: bump amount: 1.4832429587841034 n_target_predictions: 10927\n",
      "saved/edit/experiments/corresponding_bump_edits/CINIC10_ImageNet-VGG_16/0213_143741/airplane_100/results/airplane-train-n03335030_21971/felzenszwalb_gaussian_softmax\n",
      "[0214_141908] Creating corresponding logit bump for airplane-train-n04160586_11812/felzenszwalb_masked_softmax (120/158)\n",
      "target n_predictions: 19661\n",
      "Initial bounds for bump: (3.865352482534945, 4.092726157978177)\n"
     ]
    },
    {
     "name": "stderr",
     "output_type": "stream",
     "text": [
      "100%|█████████████████████████████████████████████████████████████████████| 274/274 [00:09<00:00, 29.84it/s]\n"
     ]
    },
    {
     "name": "stdout",
     "output_type": "stream",
     "text": [
      "cur_bump_amount: 3.979039320256561, cur_n_target_predictions: 20307\n",
      "Updated upper bound to 3.979039320256561\n"
     ]
    },
    {
     "name": "stderr",
     "output_type": "stream",
     "text": [
      "100%|█████████████████████████████████████████████████████████████████████| 274/274 [00:09<00:00, 29.57it/s]\n"
     ]
    },
    {
     "name": "stdout",
     "output_type": "stream",
     "text": [
      "cur_bump_amount: 3.922195901395753, cur_n_target_predictions: 19975\n",
      "Updated upper bound to 3.922195901395753\n"
     ]
    },
    {
     "name": "stderr",
     "output_type": "stream",
     "text": [
      "100%|█████████████████████████████████████████████████████████████████████| 274/274 [00:08<00:00, 32.02it/s]\n"
     ]
    },
    {
     "name": "stdout",
     "output_type": "stream",
     "text": [
      "cur_bump_amount: 3.893774191965349, cur_n_target_predictions: 19787\n",
      "Updated upper bound to 3.893774191965349\n"
     ]
    },
    {
     "name": "stderr",
     "output_type": "stream",
     "text": [
      "100%|█████████████████████████████████████████████████████████████████████| 274/274 [00:08<00:00, 30.66it/s]\n"
     ]
    },
    {
     "name": "stdout",
     "output_type": "stream",
     "text": [
      "cur_bump_amount: 3.879563337250147, cur_n_target_predictions: 19685\n",
      "Updated upper bound to 3.879563337250147\n"
     ]
    },
    {
     "name": "stderr",
     "output_type": "stream",
     "text": [
      "100%|█████████████████████████████████████████████████████████████████████| 274/274 [00:09<00:00, 29.69it/s]\n"
     ]
    },
    {
     "name": "stdout",
     "output_type": "stream",
     "text": [
      "cur_bump_amount: 3.872457909892546, cur_n_target_predictions: 19627\n",
      "Updated lower bound to 3.872457909892546\n"
     ]
    },
    {
     "name": "stderr",
     "output_type": "stream",
     "text": [
      "100%|█████████████████████████████████████████████████████████████████████| 274/274 [00:09<00:00, 29.45it/s]\n"
     ]
    },
    {
     "name": "stdout",
     "output_type": "stream",
     "text": [
      "cur_bump_amount: 3.8760106235713465, cur_n_target_predictions: 19658\n",
      "Updated lower bound to 3.8760106235713465\n",
      "final results: bump amount: 3.8760106235713465 n_target_predictions: 19658\n",
      "saved/edit/experiments/corresponding_bump_edits/CINIC10_ImageNet-VGG_16/0213_143741/airplane_100/results/airplane-train-n04160586_11812/felzenszwalb_masked_softmax\n",
      "[0214_142003] Creating corresponding logit bump for airplane-train-n04160586_11812/felzenszwalb_gaussian_softmax (121/158)\n",
      "target n_predictions: 17808\n",
      "Initial bounds for bump: (3.4788172342814505, 3.637978807091713)\n"
     ]
    },
    {
     "name": "stderr",
     "output_type": "stream",
     "text": [
      "100%|█████████████████████████████████████████████████████████████████████| 274/274 [00:09<00:00, 29.99it/s]\n"
     ]
    },
    {
     "name": "stdout",
     "output_type": "stream",
     "text": [
      "cur_bump_amount: 3.5583980206865817, cur_n_target_predictions: 17773\n",
      "Updated lower bound to 3.5583980206865817\n"
     ]
    },
    {
     "name": "stderr",
     "output_type": "stream",
     "text": [
      "100%|█████████████████████████████████████████████████████████████████████| 274/274 [00:09<00:00, 28.95it/s]\n"
     ]
    },
    {
     "name": "stdout",
     "output_type": "stream",
     "text": [
      "cur_bump_amount: 3.5981884138891473, cur_n_target_predictions: 18004\n",
      "Updated upper bound to 3.5981884138891473\n"
     ]
    },
    {
     "name": "stderr",
     "output_type": "stream",
     "text": [
      "100%|█████████████████████████████████████████████████████████████████████| 274/274 [00:09<00:00, 30.07it/s]\n"
     ]
    },
    {
     "name": "stdout",
     "output_type": "stream",
     "text": [
      "cur_bump_amount: 3.5782932172878645, cur_n_target_predictions: 17884\n",
      "Updated upper bound to 3.5782932172878645\n"
     ]
    },
    {
     "name": "stderr",
     "output_type": "stream",
     "text": [
      "100%|█████████████████████████████████████████████████████████████████████| 274/274 [00:09<00:00, 30.07it/s]\n"
     ]
    },
    {
     "name": "stdout",
     "output_type": "stream",
     "text": [
      "cur_bump_amount: 3.568345618987223, cur_n_target_predictions: 17821\n",
      "Updated upper bound to 3.568345618987223\n"
     ]
    },
    {
     "name": "stderr",
     "output_type": "stream",
     "text": [
      "100%|█████████████████████████████████████████████████████████████████████| 274/274 [00:08<00:00, 30.53it/s]\n"
     ]
    },
    {
     "name": "stdout",
     "output_type": "stream",
     "text": [
      "cur_bump_amount: 3.5633718198369024, cur_n_target_predictions: 17796\n",
      "Updated lower bound to 3.5633718198369024\n"
     ]
    },
    {
     "name": "stderr",
     "output_type": "stream",
     "text": [
      "100%|█████████████████████████████████████████████████████████████████████| 274/274 [00:10<00:00, 26.87it/s]\n"
     ]
    },
    {
     "name": "stdout",
     "output_type": "stream",
     "text": [
      "cur_bump_amount: 3.565858719412063, cur_n_target_predictions: 17808\n",
      "final results: bump amount: 3.565858719412063 n_target_predictions: 17808\n",
      "saved/edit/experiments/corresponding_bump_edits/CINIC10_ImageNet-VGG_16/0213_143741/airplane_100/results/airplane-train-n04160586_11812/felzenszwalb_gaussian_softmax\n",
      "[0214_142059] Creating corresponding logit bump for airplane-train-n04012084_3923/felzenszwalb_masked_softmax (122/158)\n",
      "target n_predictions: 19696\n",
      "Initial bounds for bump: (3.865352482534945, 4.092726157978177)\n"
     ]
    },
    {
     "name": "stderr",
     "output_type": "stream",
     "text": [
      "100%|█████████████████████████████████████████████████████████████████████| 274/274 [00:12<00:00, 21.09it/s]\n"
     ]
    },
    {
     "name": "stdout",
     "output_type": "stream",
     "text": [
      "cur_bump_amount: 3.979039320256561, cur_n_target_predictions: 20307\n",
      "Updated upper bound to 3.979039320256561\n"
     ]
    },
    {
     "name": "stderr",
     "output_type": "stream",
     "text": [
      "100%|█████████████████████████████████████████████████████████████████████| 274/274 [00:09<00:00, 29.42it/s]\n"
     ]
    },
    {
     "name": "stdout",
     "output_type": "stream",
     "text": [
      "cur_bump_amount: 3.922195901395753, cur_n_target_predictions: 19975\n",
      "Updated upper bound to 3.922195901395753\n"
     ]
    },
    {
     "name": "stderr",
     "output_type": "stream",
     "text": [
      "100%|█████████████████████████████████████████████████████████████████████| 274/274 [00:09<00:00, 29.42it/s]\n"
     ]
    },
    {
     "name": "stdout",
     "output_type": "stream",
     "text": [
      "cur_bump_amount: 3.893774191965349, cur_n_target_predictions: 19787\n",
      "Updated upper bound to 3.893774191965349\n"
     ]
    },
    {
     "name": "stderr",
     "output_type": "stream",
     "text": [
      "100%|█████████████████████████████████████████████████████████████████████| 274/274 [00:09<00:00, 30.02it/s]\n"
     ]
    },
    {
     "name": "stdout",
     "output_type": "stream",
     "text": [
      "cur_bump_amount: 3.879563337250147, cur_n_target_predictions: 19685\n",
      "Updated lower bound to 3.879563337250147\n"
     ]
    },
    {
     "name": "stderr",
     "output_type": "stream",
     "text": [
      "100%|█████████████████████████████████████████████████████████████████████| 274/274 [00:09<00:00, 29.60it/s]\n"
     ]
    },
    {
     "name": "stdout",
     "output_type": "stream",
     "text": [
      "cur_bump_amount: 3.886668764607748, cur_n_target_predictions: 19736\n",
      "Updated upper bound to 3.886668764607748\n"
     ]
    },
    {
     "name": "stderr",
     "output_type": "stream",
     "text": [
      "100%|█████████████████████████████████████████████████████████████████████| 274/274 [00:09<00:00, 30.04it/s]\n"
     ]
    },
    {
     "name": "stdout",
     "output_type": "stream",
     "text": [
      "cur_bump_amount: 3.8831160509289475, cur_n_target_predictions: 19714\n",
      "Updated upper bound to 3.8831160509289475\n"
     ]
    },
    {
     "name": "stderr",
     "output_type": "stream",
     "text": [
      "100%|█████████████████████████████████████████████████████████████████████| 274/274 [00:09<00:00, 29.01it/s]\n"
     ]
    },
    {
     "name": "stdout",
     "output_type": "stream",
     "text": [
      "cur_bump_amount: 3.8813396940895473, cur_n_target_predictions: 19705\n",
      "Updated upper bound to 3.8813396940895473\n",
      "final results: bump amount: 3.8813396940895473 n_target_predictions: 19705\n",
      "saved/edit/experiments/corresponding_bump_edits/CINIC10_ImageNet-VGG_16/0213_143741/airplane_100/results/airplane-train-n04012084_3923/felzenszwalb_masked_softmax\n",
      "[0214_142208] Creating corresponding logit bump for airplane-train-n04012084_3923/felzenszwalb_gaussian_softmax (123/158)\n",
      "target n_predictions: 9899\n",
      "Initial bounds for bump: (0.6103515625, 1.4901161193847656)\n"
     ]
    },
    {
     "name": "stderr",
     "output_type": "stream",
     "text": [
      "100%|█████████████████████████████████████████████████████████████████████| 274/274 [00:12<00:00, 22.06it/s]\n"
     ]
    },
    {
     "name": "stdout",
     "output_type": "stream",
     "text": [
      "cur_bump_amount: 1.0502338409423828, cur_n_target_predictions: 10256\n",
      "Updated upper bound to 1.0502338409423828\n"
     ]
    },
    {
     "name": "stderr",
     "output_type": "stream",
     "text": [
      "100%|█████████████████████████████████████████████████████████████████████| 274/274 [00:12<00:00, 21.22it/s]\n"
     ]
    },
    {
     "name": "stdout",
     "output_type": "stream",
     "text": [
      "cur_bump_amount: 0.8302927017211914, cur_n_target_predictions: 9995\n",
      "Updated upper bound to 0.8302927017211914\n"
     ]
    },
    {
     "name": "stderr",
     "output_type": "stream",
     "text": [
      "100%|█████████████████████████████████████████████████████████████████████| 274/274 [00:14<00:00, 19.20it/s]\n"
     ]
    },
    {
     "name": "stdout",
     "output_type": "stream",
     "text": [
      "cur_bump_amount: 0.7203221321105957, cur_n_target_predictions: 9846\n",
      "Updated lower bound to 0.7203221321105957\n"
     ]
    },
    {
     "name": "stderr",
     "output_type": "stream",
     "text": [
      "100%|█████████████████████████████████████████████████████████████████████| 274/274 [00:12<00:00, 22.02it/s]\n"
     ]
    },
    {
     "name": "stdout",
     "output_type": "stream",
     "text": [
      "cur_bump_amount: 0.7753074169158936, cur_n_target_predictions: 9911\n",
      "Updated upper bound to 0.7753074169158936\n"
     ]
    },
    {
     "name": "stderr",
     "output_type": "stream",
     "text": [
      "100%|█████████████████████████████████████████████████████████████████████| 274/274 [00:09<00:00, 27.43it/s]\n"
     ]
    },
    {
     "name": "stdout",
     "output_type": "stream",
     "text": [
      "cur_bump_amount: 0.7478147745132446, cur_n_target_predictions: 9883\n",
      "Updated lower bound to 0.7478147745132446\n"
     ]
    },
    {
     "name": "stderr",
     "output_type": "stream",
     "text": [
      "100%|█████████████████████████████████████████████████████████████████████| 274/274 [00:25<00:00, 10.91it/s]\n"
     ]
    },
    {
     "name": "stdout",
     "output_type": "stream",
     "text": [
      "cur_bump_amount: 0.7615610957145691, cur_n_target_predictions: 9896\n",
      "Updated lower bound to 0.7615610957145691\n",
      "final results: bump amount: 0.7615610957145691 n_target_predictions: 9896\n",
      "saved/edit/experiments/corresponding_bump_edits/CINIC10_ImageNet-VGG_16/0213_143741/airplane_100/results/airplane-train-n04012084_3923/felzenszwalb_gaussian_softmax\n",
      "[0214_142336] Creating corresponding logit bump for airplane-train-n03604311_7296/felzenszwalb_masked_softmax (124/158)\n",
      "target n_predictions: 19016\n",
      "Initial bounds for bump: (3.751665644813329, 3.865352482534945)\n"
     ]
    },
    {
     "name": "stderr",
     "output_type": "stream",
     "text": [
      "100%|█████████████████████████████████████████████████████████████████████| 274/274 [00:11<00:00, 23.09it/s]\n"
     ]
    },
    {
     "name": "stdout",
     "output_type": "stream",
     "text": [
      "cur_bump_amount: 3.808509063674137, cur_n_target_predictions: 19215\n",
      "Updated upper bound to 3.808509063674137\n"
     ]
    },
    {
     "name": "stderr",
     "output_type": "stream",
     "text": [
      "100%|█████████████████████████████████████████████████████████████████████| 274/274 [00:13<00:00, 20.74it/s]\n"
     ]
    },
    {
     "name": "stdout",
     "output_type": "stream",
     "text": [
      "cur_bump_amount: 3.780087354243733, cur_n_target_predictions: 19042\n",
      "Updated upper bound to 3.780087354243733\n"
     ]
    },
    {
     "name": "stderr",
     "output_type": "stream",
     "text": [
      "100%|█████████████████████████████████████████████████████████████████████| 274/274 [00:10<00:00, 27.04it/s]\n"
     ]
    },
    {
     "name": "stdout",
     "output_type": "stream",
     "text": [
      "cur_bump_amount: 3.765876499528531, cur_n_target_predictions: 18944\n",
      "Updated lower bound to 3.765876499528531\n"
     ]
    },
    {
     "name": "stderr",
     "output_type": "stream",
     "text": [
      "100%|█████████████████████████████████████████████████████████████████████| 274/274 [00:16<00:00, 16.48it/s]\n"
     ]
    },
    {
     "name": "stdout",
     "output_type": "stream",
     "text": [
      "cur_bump_amount: 3.772981926886132, cur_n_target_predictions: 18987\n",
      "Updated lower bound to 3.772981926886132\n"
     ]
    },
    {
     "name": "stderr",
     "output_type": "stream",
     "text": [
      "100%|█████████████████████████████████████████████████████████████████████| 274/274 [00:18<00:00, 14.98it/s]\n"
     ]
    },
    {
     "name": "stdout",
     "output_type": "stream",
     "text": [
      "cur_bump_amount: 3.7765346405649325, cur_n_target_predictions: 19019\n",
      "Updated upper bound to 3.7765346405649325\n",
      "final results: bump amount: 3.7765346405649325 n_target_predictions: 19019\n",
      "saved/edit/experiments/corresponding_bump_edits/CINIC10_ImageNet-VGG_16/0213_143741/airplane_100/results/airplane-train-n03604311_7296/felzenszwalb_masked_softmax\n",
      "[0214_142447] Found corresponding logit bump for airplane-train-n03604311_7296/felzenszwalb_gaussian_softmax in dictionary (125/158)\n"
     ]
    },
    {
     "name": "stderr",
     "output_type": "stream",
     "text": [
      "100%|█████████████████████████████████████████████████████████████████████| 274/274 [00:09<00:00, 28.94it/s]\n"
     ]
    },
    {
     "name": "stdout",
     "output_type": "stream",
     "text": [
      "saved/edit/experiments/corresponding_bump_edits/CINIC10_ImageNet-VGG_16/0213_143741/airplane_100/results/airplane-train-n03604311_7296/felzenszwalb_gaussian_softmax\n",
      "[0214_142456] Creating corresponding logit bump for airplane-train-n04222723_1787/felzenszwalb_masked_softmax (126/158)\n",
      "target n_predictions: 15110\n",
      "Initial bounds for bump: (2.9103830456733704, 3.092281986027956)\n"
     ]
    },
    {
     "name": "stderr",
     "output_type": "stream",
     "text": [
      "100%|█████████████████████████████████████████████████████████████████████| 274/274 [00:09<00:00, 29.16it/s]\n"
     ]
    },
    {
     "name": "stdout",
     "output_type": "stream",
     "text": [
      "cur_bump_amount: 3.001332515850663, cur_n_target_predictions: 15061\n",
      "Updated lower bound to 3.001332515850663\n"
     ]
    },
    {
     "name": "stderr",
     "output_type": "stream",
     "text": [
      "100%|█████████████████████████████████████████████████████████████████████| 274/274 [00:09<00:00, 29.67it/s]\n"
     ]
    },
    {
     "name": "stdout",
     "output_type": "stream",
     "text": [
      "cur_bump_amount: 3.0468072509393096, cur_n_target_predictions: 15232\n",
      "Updated upper bound to 3.0468072509393096\n"
     ]
    },
    {
     "name": "stderr",
     "output_type": "stream",
     "text": [
      "100%|█████████████████████████████████████████████████████████████████████| 274/274 [00:09<00:00, 28.09it/s]\n"
     ]
    },
    {
     "name": "stdout",
     "output_type": "stream",
     "text": [
      "cur_bump_amount: 3.0240698833949864, cur_n_target_predictions: 15146\n",
      "Updated upper bound to 3.0240698833949864\n"
     ]
    },
    {
     "name": "stderr",
     "output_type": "stream",
     "text": [
      "100%|█████████████████████████████████████████████████████████████████████| 274/274 [00:09<00:00, 27.82it/s]\n"
     ]
    },
    {
     "name": "stdout",
     "output_type": "stream",
     "text": [
      "cur_bump_amount: 3.012701199622825, cur_n_target_predictions: 15100\n",
      "Updated lower bound to 3.012701199622825\n",
      "final results: bump amount: 3.012701199622825 n_target_predictions: 15100\n",
      "saved/edit/experiments/corresponding_bump_edits/CINIC10_ImageNet-VGG_16/0213_143741/airplane_100/results/airplane-train-n04222723_1787/felzenszwalb_masked_softmax\n",
      "[0214_142535] Creating corresponding logit bump for airplane-train-n02690373_1167/felzenszwalb_masked_softmax (127/158)\n",
      "target n_predictions: 39634\n",
      "Initial bounds for bump: (5.893256585856599, 5.9389407454368826)\n"
     ]
    },
    {
     "name": "stderr",
     "output_type": "stream",
     "text": [
      "100%|█████████████████████████████████████████████████████████████████████| 274/274 [00:08<00:00, 32.16it/s]\n"
     ]
    },
    {
     "name": "stdout",
     "output_type": "stream",
     "text": [
      "cur_bump_amount: 5.916098665646741, cur_n_target_predictions: 39076\n",
      "Updated lower bound to 5.916098665646741\n"
     ]
    },
    {
     "name": "stderr",
     "output_type": "stream",
     "text": [
      "100%|█████████████████████████████████████████████████████████████████████| 274/274 [00:09<00:00, 27.85it/s]\n"
     ]
    },
    {
     "name": "stdout",
     "output_type": "stream",
     "text": [
      "cur_bump_amount: 5.927519705541812, cur_n_target_predictions: 39399\n",
      "Updated lower bound to 5.927519705541812\n"
     ]
    },
    {
     "name": "stderr",
     "output_type": "stream",
     "text": [
      "100%|█████████████████████████████████████████████████████████████████████| 274/274 [00:09<00:00, 29.38it/s]\n"
     ]
    },
    {
     "name": "stdout",
     "output_type": "stream",
     "text": [
      "cur_bump_amount: 5.933230225489347, cur_n_target_predictions: 39547\n",
      "Updated lower bound to 5.933230225489347\n"
     ]
    },
    {
     "name": "stderr",
     "output_type": "stream",
     "text": [
      "100%|█████████████████████████████████████████████████████████████████████| 274/274 [00:09<00:00, 28.73it/s]\n"
     ]
    },
    {
     "name": "stdout",
     "output_type": "stream",
     "text": [
      "cur_bump_amount: 5.936085485463115, cur_n_target_predictions: 39629\n",
      "Updated lower bound to 5.936085485463115\n",
      "final results: bump amount: 5.936085485463115 n_target_predictions: 39629\n",
      "saved/edit/experiments/corresponding_bump_edits/CINIC10_ImageNet-VGG_16/0213_143741/airplane_100/results/airplane-train-n02690373_1167/felzenszwalb_masked_softmax\n",
      "[0214_142612] Creating corresponding logit bump for airplane-train-n03373611_945/felzenszwalb_masked_softmax (128/158)\n",
      "target n_predictions: 15308\n",
      "Initial bounds for bump: (2.9103830456733704, 3.092281986027956)\n"
     ]
    },
    {
     "name": "stderr",
     "output_type": "stream",
     "text": [
      "100%|█████████████████████████████████████████████████████████████████████| 274/274 [00:09<00:00, 29.63it/s]\n"
     ]
    },
    {
     "name": "stdout",
     "output_type": "stream",
     "text": [
      "cur_bump_amount: 3.001332515850663, cur_n_target_predictions: 15061\n",
      "Updated lower bound to 3.001332515850663\n"
     ]
    },
    {
     "name": "stderr",
     "output_type": "stream",
     "text": [
      "100%|█████████████████████████████████████████████████████████████████████| 274/274 [00:09<00:00, 29.37it/s]\n"
     ]
    },
    {
     "name": "stdout",
     "output_type": "stream",
     "text": [
      "cur_bump_amount: 3.0468072509393096, cur_n_target_predictions: 15232\n",
      "Updated lower bound to 3.0468072509393096\n"
     ]
    },
    {
     "name": "stderr",
     "output_type": "stream",
     "text": [
      "100%|█████████████████████████████████████████████████████████████████████| 274/274 [00:09<00:00, 28.73it/s]\n"
     ]
    },
    {
     "name": "stdout",
     "output_type": "stream",
     "text": [
      "cur_bump_amount: 3.069544618483633, cur_n_target_predictions: 15320\n",
      "Updated upper bound to 3.069544618483633\n"
     ]
    },
    {
     "name": "stderr",
     "output_type": "stream",
     "text": [
      "100%|█████████████████████████████████████████████████████████████████████| 274/274 [00:10<00:00, 26.18it/s]\n"
     ]
    },
    {
     "name": "stdout",
     "output_type": "stream",
     "text": [
      "cur_bump_amount: 3.058175934711471, cur_n_target_predictions: 15270\n",
      "Updated lower bound to 3.058175934711471\n"
     ]
    },
    {
     "name": "stderr",
     "output_type": "stream",
     "text": [
      "100%|█████████████████████████████████████████████████████████████████████| 274/274 [00:09<00:00, 28.70it/s]\n"
     ]
    },
    {
     "name": "stdout",
     "output_type": "stream",
     "text": [
      "cur_bump_amount: 3.063860276597552, cur_n_target_predictions: 15292\n",
      "Updated lower bound to 3.063860276597552\n"
     ]
    },
    {
     "name": "stderr",
     "output_type": "stream",
     "text": [
      "100%|█████████████████████████████████████████████████████████████████████| 274/274 [00:09<00:00, 28.52it/s]\n"
     ]
    },
    {
     "name": "stdout",
     "output_type": "stream",
     "text": [
      "cur_bump_amount: 3.0667024475405924, cur_n_target_predictions: 15300\n",
      "Updated lower bound to 3.0667024475405924\n",
      "final results: bump amount: 3.0667024475405924 n_target_predictions: 15300\n",
      "saved/edit/experiments/corresponding_bump_edits/CINIC10_ImageNet-VGG_16/0213_143741/airplane_100/results/airplane-train-n03373611_945/felzenszwalb_masked_softmax\n",
      "[0214_142710] Creating corresponding logit bump for airplane-train-n02867715_13800/felzenszwalb_masked_softmax (129/158)\n",
      "target n_predictions: 29942\n",
      "Initial bounds for bump: (5.17985654369113, 5.341727060681478)\n"
     ]
    },
    {
     "name": "stderr",
     "output_type": "stream",
     "text": [
      "100%|█████████████████████████████████████████████████████████████████████| 274/274 [00:08<00:00, 32.82it/s]\n"
     ]
    },
    {
     "name": "stdout",
     "output_type": "stream",
     "text": [
      "cur_bump_amount: 5.260791802186304, cur_n_target_predictions: 29964\n",
      "Updated upper bound to 5.260791802186304\n"
     ]
    },
    {
     "name": "stderr",
     "output_type": "stream",
     "text": [
      "100%|█████████████████████████████████████████████████████████████████████| 274/274 [00:09<00:00, 29.15it/s]\n"
     ]
    },
    {
     "name": "stdout",
     "output_type": "stream",
     "text": [
      "cur_bump_amount: 5.220324172938717, cur_n_target_predictions: 29630\n",
      "Updated lower bound to 5.220324172938717\n"
     ]
    },
    {
     "name": "stderr",
     "output_type": "stream",
     "text": [
      "100%|█████████████████████████████████████████████████████████████████████| 274/274 [00:09<00:00, 28.82it/s]\n"
     ]
    },
    {
     "name": "stdout",
     "output_type": "stream",
     "text": [
      "cur_bump_amount: 5.240557987562511, cur_n_target_predictions: 29803\n",
      "Updated lower bound to 5.240557987562511\n"
     ]
    },
    {
     "name": "stderr",
     "output_type": "stream",
     "text": [
      "100%|█████████████████████████████████████████████████████████████████████| 274/274 [00:09<00:00, 29.51it/s]\n"
     ]
    },
    {
     "name": "stdout",
     "output_type": "stream",
     "text": [
      "cur_bump_amount: 5.2506748948744075, cur_n_target_predictions: 29883\n",
      "Updated lower bound to 5.2506748948744075\n"
     ]
    },
    {
     "name": "stderr",
     "output_type": "stream",
     "text": [
      "100%|█████████████████████████████████████████████████████████████████████| 274/274 [00:09<00:00, 29.23it/s]\n"
     ]
    },
    {
     "name": "stdout",
     "output_type": "stream",
     "text": [
      "cur_bump_amount: 5.255733348530356, cur_n_target_predictions: 29917\n",
      "Updated lower bound to 5.255733348530356\n"
     ]
    },
    {
     "name": "stderr",
     "output_type": "stream",
     "text": [
      "100%|█████████████████████████████████████████████████████████████████████| 274/274 [00:09<00:00, 27.67it/s]\n"
     ]
    },
    {
     "name": "stdout",
     "output_type": "stream",
     "text": [
      "cur_bump_amount: 5.25826257535833, cur_n_target_predictions: 29941\n",
      "Updated lower bound to 5.25826257535833\n",
      "final results: bump amount: 5.25826257535833 n_target_predictions: 29941\n",
      "saved/edit/experiments/corresponding_bump_edits/CINIC10_ImageNet-VGG_16/0213_143741/airplane_100/results/airplane-train-n02867715_13800/felzenszwalb_masked_softmax\n",
      "[0214_142806] Creating corresponding logit bump for airplane-train-n02867715_13800/felzenszwalb_gaussian_softmax (130/158)\n",
      "target n_predictions: 10000\n",
      "Initial bounds for bump: (0.6103515625, 1.4901161193847656)\n"
     ]
    },
    {
     "name": "stderr",
     "output_type": "stream",
     "text": [
      "100%|█████████████████████████████████████████████████████████████████████| 274/274 [00:09<00:00, 29.91it/s]\n"
     ]
    },
    {
     "name": "stdout",
     "output_type": "stream",
     "text": [
      "cur_bump_amount: 1.0502338409423828, cur_n_target_predictions: 10256\n",
      "Updated upper bound to 1.0502338409423828\n"
     ]
    },
    {
     "name": "stderr",
     "output_type": "stream",
     "text": [
      "100%|█████████████████████████████████████████████████████████████████████| 274/274 [00:09<00:00, 29.31it/s]\n"
     ]
    },
    {
     "name": "stdout",
     "output_type": "stream",
     "text": [
      "cur_bump_amount: 0.8302927017211914, cur_n_target_predictions: 9995\n",
      "Updated lower bound to 0.8302927017211914\n",
      "final results: bump amount: 0.8302927017211914 n_target_predictions: 9995\n",
      "saved/edit/experiments/corresponding_bump_edits/CINIC10_ImageNet-VGG_16/0213_143741/airplane_100/results/airplane-train-n02867715_13800/felzenszwalb_gaussian_softmax\n",
      "[0214_142825] Creating corresponding logit bump for airplane-train-n04230487_1592/felzenszwalb_masked_softmax (131/158)\n",
      "target n_predictions: 21502\n",
      "Initial bounds for bump: (4.092726157978177, 4.220623850414995)\n"
     ]
    },
    {
     "name": "stderr",
     "output_type": "stream",
     "text": [
      "100%|█████████████████████████████████████████████████████████████████████| 274/274 [00:09<00:00, 29.13it/s]\n"
     ]
    },
    {
     "name": "stdout",
     "output_type": "stream",
     "text": [
      "cur_bump_amount: 4.156675004196586, cur_n_target_predictions: 21515\n",
      "Updated upper bound to 4.156675004196586\n"
     ]
    },
    {
     "name": "stderr",
     "output_type": "stream",
     "text": [
      "100%|█████████████████████████████████████████████████████████████████████| 274/274 [00:09<00:00, 28.78it/s]\n"
     ]
    },
    {
     "name": "stdout",
     "output_type": "stream",
     "text": [
      "cur_bump_amount: 4.124700581087382, cur_n_target_predictions: 21304\n",
      "Updated lower bound to 4.124700581087382\n"
     ]
    },
    {
     "name": "stderr",
     "output_type": "stream",
     "text": [
      "100%|█████████████████████████████████████████████████████████████████████| 274/274 [00:09<00:00, 29.78it/s]\n"
     ]
    },
    {
     "name": "stdout",
     "output_type": "stream",
     "text": [
      "cur_bump_amount: 4.140687792641984, cur_n_target_predictions: 21396\n",
      "Updated lower bound to 4.140687792641984\n"
     ]
    },
    {
     "name": "stderr",
     "output_type": "stream",
     "text": [
      "100%|█████████████████████████████████████████████████████████████████████| 274/274 [00:09<00:00, 29.51it/s]\n"
     ]
    },
    {
     "name": "stdout",
     "output_type": "stream",
     "text": [
      "cur_bump_amount: 4.148681398419285, cur_n_target_predictions: 21455\n",
      "Updated lower bound to 4.148681398419285\n"
     ]
    },
    {
     "name": "stderr",
     "output_type": "stream",
     "text": [
      "100%|█████████████████████████████████████████████████████████████████████| 274/274 [00:09<00:00, 29.53it/s]\n"
     ]
    },
    {
     "name": "stdout",
     "output_type": "stream",
     "text": [
      "cur_bump_amount: 4.1526782013079355, cur_n_target_predictions: 21483\n",
      "Updated lower bound to 4.1526782013079355\n"
     ]
    },
    {
     "name": "stderr",
     "output_type": "stream",
     "text": [
      "100%|█████████████████████████████████████████████████████████████████████| 274/274 [00:09<00:00, 29.98it/s]\n"
     ]
    },
    {
     "name": "stdout",
     "output_type": "stream",
     "text": [
      "cur_bump_amount: 4.154676602752261, cur_n_target_predictions: 21500\n",
      "Updated lower bound to 4.154676602752261\n",
      "final results: bump amount: 4.154676602752261 n_target_predictions: 21500\n",
      "saved/edit/experiments/corresponding_bump_edits/CINIC10_ImageNet-VGG_16/0213_143741/airplane_100/results/airplane-train-n04230487_1592/felzenszwalb_masked_softmax\n",
      "[0214_142921] Creating corresponding logit bump for airplane-train-n04230487_1592/felzenszwalb_gaussian_softmax (132/158)\n",
      "target n_predictions: 11716\n",
      "Initial bounds for bump: (1.862645149230957, 2.3283064365386963)\n"
     ]
    },
    {
     "name": "stderr",
     "output_type": "stream",
     "text": [
      "100%|█████████████████████████████████████████████████████████████████████| 274/274 [00:09<00:00, 29.01it/s]\n"
     ]
    },
    {
     "name": "stdout",
     "output_type": "stream",
     "text": [
      "cur_bump_amount: 2.0954757928848267, cur_n_target_predictions: 12145\n",
      "Updated upper bound to 2.0954757928848267\n"
     ]
    },
    {
     "name": "stderr",
     "output_type": "stream",
     "text": [
      "100%|█████████████████████████████████████████████████████████████████████| 274/274 [00:09<00:00, 29.58it/s]\n"
     ]
    },
    {
     "name": "stdout",
     "output_type": "stream",
     "text": [
      "cur_bump_amount: 1.9790604710578918, cur_n_target_predictions: 11871\n",
      "Updated upper bound to 1.9790604710578918\n"
     ]
    },
    {
     "name": "stderr",
     "output_type": "stream",
     "text": [
      "100%|█████████████████████████████████████████████████████████████████████| 274/274 [00:09<00:00, 29.62it/s]\n"
     ]
    },
    {
     "name": "stdout",
     "output_type": "stream",
     "text": [
      "cur_bump_amount: 1.9208528101444244, cur_n_target_predictions: 11741\n",
      "Updated upper bound to 1.9208528101444244\n"
     ]
    },
    {
     "name": "stderr",
     "output_type": "stream",
     "text": [
      "100%|█████████████████████████████████████████████████████████████████████| 274/274 [00:09<00:00, 29.63it/s]\n"
     ]
    },
    {
     "name": "stdout",
     "output_type": "stream",
     "text": [
      "cur_bump_amount: 1.8917489796876907, cur_n_target_predictions: 11685\n",
      "Updated lower bound to 1.8917489796876907\n"
     ]
    },
    {
     "name": "stderr",
     "output_type": "stream",
     "text": [
      "100%|█████████████████████████████████████████████████████████████████████| 274/274 [00:09<00:00, 30.29it/s]\n"
     ]
    },
    {
     "name": "stdout",
     "output_type": "stream",
     "text": [
      "cur_bump_amount: 1.9063008949160576, cur_n_target_predictions: 11718\n",
      "Updated upper bound to 1.9063008949160576\n",
      "final results: bump amount: 1.9063008949160576 n_target_predictions: 11718\n",
      "saved/edit/experiments/corresponding_bump_edits/CINIC10_ImageNet-VGG_16/0213_143741/airplane_100/results/airplane-train-n04230487_1592/felzenszwalb_gaussian_softmax\n",
      "[0214_143008] Creating corresponding logit bump for airplane-train-n02691156_3107/felzenszwalb_masked_softmax (133/158)\n",
      "target n_predictions: 10674\n",
      "Initial bounds for bump: (0.6103515625, 1.4901161193847656)\n"
     ]
    },
    {
     "name": "stderr",
     "output_type": "stream",
     "text": [
      "100%|█████████████████████████████████████████████████████████████████████| 274/274 [00:09<00:00, 28.43it/s]\n"
     ]
    },
    {
     "name": "stdout",
     "output_type": "stream",
     "text": [
      "cur_bump_amount: 1.0502338409423828, cur_n_target_predictions: 10256\n",
      "Updated lower bound to 1.0502338409423828\n"
     ]
    },
    {
     "name": "stderr",
     "output_type": "stream",
     "text": [
      "100%|█████████████████████████████████████████████████████████████████████| 274/274 [00:08<00:00, 32.44it/s]\n"
     ]
    },
    {
     "name": "stdout",
     "output_type": "stream",
     "text": [
      "cur_bump_amount: 1.2701749801635742, cur_n_target_predictions: 10566\n",
      "Updated lower bound to 1.2701749801635742\n"
     ]
    },
    {
     "name": "stderr",
     "output_type": "stream",
     "text": [
      "100%|█████████████████████████████████████████████████████████████████████| 274/274 [00:09<00:00, 28.38it/s]\n"
     ]
    },
    {
     "name": "stdout",
     "output_type": "stream",
     "text": [
      "cur_bump_amount: 1.38014554977417, cur_n_target_predictions: 10760\n",
      "Updated upper bound to 1.38014554977417\n"
     ]
    },
    {
     "name": "stderr",
     "output_type": "stream",
     "text": [
      "100%|█████████████████████████████████████████████████████████████████████| 274/274 [00:09<00:00, 28.16it/s]\n"
     ]
    },
    {
     "name": "stdout",
     "output_type": "stream",
     "text": [
      "cur_bump_amount: 1.325160264968872, cur_n_target_predictions: 10658\n",
      "Updated lower bound to 1.325160264968872\n"
     ]
    },
    {
     "name": "stderr",
     "output_type": "stream",
     "text": [
      "100%|█████████████████████████████████████████████████████████████████████| 274/274 [00:10<00:00, 27.36it/s]\n"
     ]
    },
    {
     "name": "stdout",
     "output_type": "stream",
     "text": [
      "cur_bump_amount: 1.352652907371521, cur_n_target_predictions: 10700\n",
      "Updated upper bound to 1.352652907371521\n"
     ]
    },
    {
     "name": "stderr",
     "output_type": "stream",
     "text": [
      "100%|█████████████████████████████████████████████████████████████████████| 274/274 [00:09<00:00, 29.19it/s]\n"
     ]
    },
    {
     "name": "stdout",
     "output_type": "stream",
     "text": [
      "cur_bump_amount: 1.3389065861701965, cur_n_target_predictions: 10677\n",
      "Updated upper bound to 1.3389065861701965\n",
      "final results: bump amount: 1.3389065861701965 n_target_predictions: 10677\n",
      "saved/edit/experiments/corresponding_bump_edits/CINIC10_ImageNet-VGG_16/0213_143741/airplane_100/results/airplane-train-n02691156_3107/felzenszwalb_masked_softmax\n",
      "[0214_143105] Creating corresponding logit bump for airplane-train-n02691156_3107/felzenszwalb_gaussian_softmax (134/158)\n",
      "target n_predictions: 18907\n",
      "Initial bounds for bump: (3.751665644813329, 3.865352482534945)\n"
     ]
    },
    {
     "name": "stderr",
     "output_type": "stream",
     "text": [
      "100%|█████████████████████████████████████████████████████████████████████| 274/274 [00:09<00:00, 29.17it/s]\n"
     ]
    },
    {
     "name": "stdout",
     "output_type": "stream",
     "text": [
      "cur_bump_amount: 3.808509063674137, cur_n_target_predictions: 19215\n",
      "Updated upper bound to 3.808509063674137\n"
     ]
    },
    {
     "name": "stderr",
     "output_type": "stream",
     "text": [
      "100%|█████████████████████████████████████████████████████████████████████| 274/274 [00:09<00:00, 28.79it/s]\n"
     ]
    },
    {
     "name": "stdout",
     "output_type": "stream",
     "text": [
      "cur_bump_amount: 3.780087354243733, cur_n_target_predictions: 19042\n",
      "Updated upper bound to 3.780087354243733\n"
     ]
    },
    {
     "name": "stderr",
     "output_type": "stream",
     "text": [
      "100%|█████████████████████████████████████████████████████████████████████| 274/274 [00:09<00:00, 29.39it/s]\n"
     ]
    },
    {
     "name": "stdout",
     "output_type": "stream",
     "text": [
      "cur_bump_amount: 3.765876499528531, cur_n_target_predictions: 18944\n",
      "Updated upper bound to 3.765876499528531\n"
     ]
    },
    {
     "name": "stderr",
     "output_type": "stream",
     "text": [
      "100%|█████████████████████████████████████████████████████████████████████| 274/274 [00:09<00:00, 29.36it/s]\n"
     ]
    },
    {
     "name": "stdout",
     "output_type": "stream",
     "text": [
      "cur_bump_amount: 3.75877107217093, cur_n_target_predictions: 18893\n",
      "Updated lower bound to 3.75877107217093\n"
     ]
    },
    {
     "name": "stderr",
     "output_type": "stream",
     "text": [
      "100%|█████████████████████████████████████████████████████████████████████| 274/274 [00:09<00:00, 29.48it/s]\n"
     ]
    },
    {
     "name": "stdout",
     "output_type": "stream",
     "text": [
      "cur_bump_amount: 3.7623237858497305, cur_n_target_predictions: 18918\n",
      "Updated upper bound to 3.7623237858497305\n"
     ]
    },
    {
     "name": "stderr",
     "output_type": "stream",
     "text": [
      "100%|█████████████████████████████████████████████████████████████████████| 274/274 [00:09<00:00, 28.99it/s]\n"
     ]
    },
    {
     "name": "stdout",
     "output_type": "stream",
     "text": [
      "cur_bump_amount: 3.7605474290103302, cur_n_target_predictions: 18909\n",
      "Updated upper bound to 3.7605474290103302\n",
      "final results: bump amount: 3.7605474290103302 n_target_predictions: 18909\n",
      "saved/edit/experiments/corresponding_bump_edits/CINIC10_ImageNet-VGG_16/0213_143741/airplane_100/results/airplane-train-n02691156_3107/felzenszwalb_gaussian_softmax\n",
      "[0214_143202] Creating corresponding logit bump for airplane-train-n03373611_7496/felzenszwalb_masked_softmax (135/158)\n",
      "target n_predictions: 18413\n",
      "Initial bounds for bump: (3.637978807091713, 3.751665644813329)\n"
     ]
    },
    {
     "name": "stderr",
     "output_type": "stream",
     "text": [
      "100%|█████████████████████████████████████████████████████████████████████| 274/274 [00:09<00:00, 29.89it/s]\n"
     ]
    },
    {
     "name": "stdout",
     "output_type": "stream",
     "text": [
      "cur_bump_amount: 3.694822225952521, cur_n_target_predictions: 18554\n",
      "Updated upper bound to 3.694822225952521\n"
     ]
    },
    {
     "name": "stderr",
     "output_type": "stream",
     "text": [
      "100%|█████████████████████████████████████████████████████████████████████| 274/274 [00:09<00:00, 29.09it/s]\n"
     ]
    },
    {
     "name": "stdout",
     "output_type": "stream",
     "text": [
      "cur_bump_amount: 3.666400516522117, cur_n_target_predictions: 18395\n",
      "Updated lower bound to 3.666400516522117\n"
     ]
    },
    {
     "name": "stderr",
     "output_type": "stream",
     "text": [
      "100%|█████████████████████████████████████████████████████████████████████| 274/274 [00:09<00:00, 28.28it/s]\n"
     ]
    },
    {
     "name": "stdout",
     "output_type": "stream",
     "text": [
      "cur_bump_amount: 3.680611371237319, cur_n_target_predictions: 18475\n",
      "Updated upper bound to 3.680611371237319\n"
     ]
    },
    {
     "name": "stderr",
     "output_type": "stream",
     "text": [
      "100%|█████████████████████████████████████████████████████████████████████| 274/274 [00:09<00:00, 29.39it/s]\n"
     ]
    },
    {
     "name": "stdout",
     "output_type": "stream",
     "text": [
      "cur_bump_amount: 3.673505943879718, cur_n_target_predictions: 18431\n",
      "Updated upper bound to 3.673505943879718\n"
     ]
    },
    {
     "name": "stderr",
     "output_type": "stream",
     "text": [
      "100%|█████████████████████████████████████████████████████████████████████| 274/274 [00:09<00:00, 29.56it/s]\n"
     ]
    },
    {
     "name": "stdout",
     "output_type": "stream",
     "text": [
      "cur_bump_amount: 3.6699532302009175, cur_n_target_predictions: 18412\n",
      "Updated lower bound to 3.6699532302009175\n",
      "final results: bump amount: 3.6699532302009175 n_target_predictions: 18412\n",
      "saved/edit/experiments/corresponding_bump_edits/CINIC10_ImageNet-VGG_16/0213_143741/airplane_100/results/airplane-train-n03373611_7496/felzenszwalb_masked_softmax\n",
      "[0214_143249] Creating corresponding logit bump for airplane-train-n03373611_7496/felzenszwalb_gaussian_softmax (136/158)\n",
      "target n_predictions: 16196\n",
      "Initial bounds for bump: (3.092281986027956, 3.2741809263825417)\n"
     ]
    },
    {
     "name": "stderr",
     "output_type": "stream",
     "text": [
      "100%|█████████████████████████████████████████████████████████████████████| 274/274 [00:09<00:00, 29.05it/s]\n"
     ]
    },
    {
     "name": "stdout",
     "output_type": "stream",
     "text": [
      "cur_bump_amount: 3.183231456205249, cur_n_target_predictions: 15846\n",
      "Updated lower bound to 3.183231456205249\n"
     ]
    },
    {
     "name": "stderr",
     "output_type": "stream",
     "text": [
      "100%|█████████████████████████████████████████████████████████████████████| 274/274 [00:09<00:00, 29.46it/s]\n"
     ]
    },
    {
     "name": "stdout",
     "output_type": "stream",
     "text": [
      "cur_bump_amount: 3.2287061912938952, cur_n_target_predictions: 16057\n",
      "Updated lower bound to 3.2287061912938952\n"
     ]
    },
    {
     "name": "stderr",
     "output_type": "stream",
     "text": [
      "100%|█████████████████████████████████████████████████████████████████████| 274/274 [00:10<00:00, 26.43it/s]\n"
     ]
    },
    {
     "name": "stdout",
     "output_type": "stream",
     "text": [
      "cur_bump_amount: 3.2514435588382185, cur_n_target_predictions: 16179\n",
      "Updated lower bound to 3.2514435588382185\n"
     ]
    },
    {
     "name": "stderr",
     "output_type": "stream",
     "text": [
      "100%|█████████████████████████████████████████████████████████████████████| 274/274 [00:08<00:00, 30.68it/s]\n"
     ]
    },
    {
     "name": "stdout",
     "output_type": "stream",
     "text": [
      "cur_bump_amount: 3.26281224261038, cur_n_target_predictions: 16238\n",
      "Updated upper bound to 3.26281224261038\n"
     ]
    },
    {
     "name": "stderr",
     "output_type": "stream",
     "text": [
      "100%|█████████████████████████████████████████████████████████████████████| 274/274 [00:09<00:00, 28.09it/s]\n"
     ]
    },
    {
     "name": "stdout",
     "output_type": "stream",
     "text": [
      "cur_bump_amount: 3.2571279007242993, cur_n_target_predictions: 16211\n",
      "Updated upper bound to 3.2571279007242993\n"
     ]
    },
    {
     "name": "stderr",
     "output_type": "stream",
     "text": [
      "100%|█████████████████████████████████████████████████████████████████████| 274/274 [00:09<00:00, 29.08it/s]\n"
     ]
    },
    {
     "name": "stdout",
     "output_type": "stream",
     "text": [
      "cur_bump_amount: 3.254285729781259, cur_n_target_predictions: 16200\n",
      "Updated upper bound to 3.254285729781259\n",
      "final results: bump amount: 3.254285729781259 n_target_predictions: 16200\n",
      "saved/edit/experiments/corresponding_bump_edits/CINIC10_ImageNet-VGG_16/0213_143741/airplane_100/results/airplane-train-n03373611_7496/felzenszwalb_gaussian_softmax\n",
      "[0214_143347] Creating corresponding logit bump for airplane-train-n02867715_1803/felzenszwalb_masked_softmax (137/158)\n",
      "target n_predictions: 19890\n",
      "Initial bounds for bump: (3.865352482534945, 4.092726157978177)\n"
     ]
    },
    {
     "name": "stderr",
     "output_type": "stream",
     "text": [
      "100%|█████████████████████████████████████████████████████████████████████| 274/274 [00:09<00:00, 29.27it/s]\n"
     ]
    },
    {
     "name": "stdout",
     "output_type": "stream",
     "text": [
      "cur_bump_amount: 3.979039320256561, cur_n_target_predictions: 20307\n",
      "Updated upper bound to 3.979039320256561\n"
     ]
    },
    {
     "name": "stderr",
     "output_type": "stream",
     "text": [
      "100%|█████████████████████████████████████████████████████████████████████| 274/274 [00:09<00:00, 29.39it/s]\n"
     ]
    },
    {
     "name": "stdout",
     "output_type": "stream",
     "text": [
      "cur_bump_amount: 3.922195901395753, cur_n_target_predictions: 19975\n",
      "Updated upper bound to 3.922195901395753\n"
     ]
    },
    {
     "name": "stderr",
     "output_type": "stream",
     "text": [
      "100%|█████████████████████████████████████████████████████████████████████| 274/274 [00:09<00:00, 29.12it/s]\n"
     ]
    },
    {
     "name": "stdout",
     "output_type": "stream",
     "text": [
      "cur_bump_amount: 3.893774191965349, cur_n_target_predictions: 19787\n",
      "Updated lower bound to 3.893774191965349\n"
     ]
    },
    {
     "name": "stderr",
     "output_type": "stream",
     "text": [
      "100%|█████████████████████████████████████████████████████████████████████| 274/274 [00:09<00:00, 27.75it/s]\n"
     ]
    },
    {
     "name": "stdout",
     "output_type": "stream",
     "text": [
      "cur_bump_amount: 3.907985046680551, cur_n_target_predictions: 19883\n",
      "Updated lower bound to 3.907985046680551\n",
      "final results: bump amount: 3.907985046680551 n_target_predictions: 19883\n",
      "saved/edit/experiments/corresponding_bump_edits/CINIC10_ImageNet-VGG_16/0213_143741/airplane_100/results/airplane-train-n02867715_1803/felzenszwalb_masked_softmax\n",
      "[0214_143425] Creating corresponding logit bump for airplane-train-n02842573_4990/felzenszwalb_masked_softmax (138/158)\n",
      "target n_predictions: 10550\n",
      "Initial bounds for bump: (0.6103515625, 1.4901161193847656)\n"
     ]
    },
    {
     "name": "stderr",
     "output_type": "stream",
     "text": [
      "100%|█████████████████████████████████████████████████████████████████████| 274/274 [00:09<00:00, 30.03it/s]\n"
     ]
    },
    {
     "name": "stdout",
     "output_type": "stream",
     "text": [
      "cur_bump_amount: 1.0502338409423828, cur_n_target_predictions: 10256\n",
      "Updated lower bound to 1.0502338409423828\n"
     ]
    },
    {
     "name": "stderr",
     "output_type": "stream",
     "text": [
      "100%|█████████████████████████████████████████████████████████████████████| 274/274 [00:09<00:00, 29.25it/s]\n"
     ]
    },
    {
     "name": "stdout",
     "output_type": "stream",
     "text": [
      "cur_bump_amount: 1.2701749801635742, cur_n_target_predictions: 10566\n",
      "Updated upper bound to 1.2701749801635742\n"
     ]
    },
    {
     "name": "stderr",
     "output_type": "stream",
     "text": [
      "100%|█████████████████████████████████████████████████████████████████████| 274/274 [00:09<00:00, 27.53it/s]\n"
     ]
    },
    {
     "name": "stdout",
     "output_type": "stream",
     "text": [
      "cur_bump_amount: 1.1602044105529785, cur_n_target_predictions: 10399\n",
      "Updated lower bound to 1.1602044105529785\n"
     ]
    },
    {
     "name": "stderr",
     "output_type": "stream",
     "text": [
      "100%|█████████████████████████████████████████████████████████████████████| 274/274 [00:08<00:00, 32.90it/s]\n"
     ]
    },
    {
     "name": "stdout",
     "output_type": "stream",
     "text": [
      "cur_bump_amount: 1.2151896953582764, cur_n_target_predictions: 10475\n",
      "Updated lower bound to 1.2151896953582764\n"
     ]
    },
    {
     "name": "stderr",
     "output_type": "stream",
     "text": [
      "100%|█████████████████████████████████████████████████████████████████████| 274/274 [00:10<00:00, 26.03it/s]\n"
     ]
    },
    {
     "name": "stdout",
     "output_type": "stream",
     "text": [
      "cur_bump_amount: 1.2426823377609253, cur_n_target_predictions: 10515\n",
      "Updated lower bound to 1.2426823377609253\n"
     ]
    },
    {
     "name": "stderr",
     "output_type": "stream",
     "text": [
      "100%|█████████████████████████████████████████████████████████████████████| 274/274 [00:11<00:00, 24.23it/s]\n"
     ]
    },
    {
     "name": "stdout",
     "output_type": "stream",
     "text": [
      "cur_bump_amount: 1.2564286589622498, cur_n_target_predictions: 10539\n",
      "Updated lower bound to 1.2564286589622498\n"
     ]
    },
    {
     "name": "stderr",
     "output_type": "stream",
     "text": [
      "100%|█████████████████████████████████████████████████████████████████████| 274/274 [00:09<00:00, 29.53it/s]\n"
     ]
    },
    {
     "name": "stdout",
     "output_type": "stream",
     "text": [
      "cur_bump_amount: 1.263301819562912, cur_n_target_predictions: 10552\n",
      "Updated upper bound to 1.263301819562912\n",
      "final results: bump amount: 1.263301819562912 n_target_predictions: 10552\n",
      "saved/edit/experiments/corresponding_bump_edits/CINIC10_ImageNet-VGG_16/0213_143741/airplane_100/results/airplane-train-n02842573_4990/felzenszwalb_masked_softmax\n",
      "[0214_143533] Creating corresponding logit bump for airplane-train-n02842573_4990/felzenszwalb_gaussian_softmax (139/158)\n",
      "target n_predictions: 13463\n",
      "Initial bounds for bump: (2.3283064365386963, 2.6193447411060333)\n"
     ]
    },
    {
     "name": "stderr",
     "output_type": "stream",
     "text": [
      "100%|█████████████████████████████████████████████████████████████████████| 274/274 [00:09<00:00, 29.58it/s]\n"
     ]
    },
    {
     "name": "stdout",
     "output_type": "stream",
     "text": [
      "cur_bump_amount: 2.473825588822365, cur_n_target_predictions: 13150\n",
      "Updated lower bound to 2.473825588822365\n"
     ]
    },
    {
     "name": "stderr",
     "output_type": "stream",
     "text": [
      "100%|█████████████████████████████████████████████████████████████████████| 274/274 [00:09<00:00, 29.65it/s]\n"
     ]
    },
    {
     "name": "stdout",
     "output_type": "stream",
     "text": [
      "cur_bump_amount: 2.546585164964199, cur_n_target_predictions: 13370\n",
      "Updated lower bound to 2.546585164964199\n"
     ]
    },
    {
     "name": "stderr",
     "output_type": "stream",
     "text": [
      "100%|█████████████████████████████████████████████████████████████████████| 274/274 [00:09<00:00, 29.63it/s]\n"
     ]
    },
    {
     "name": "stdout",
     "output_type": "stream",
     "text": [
      "cur_bump_amount: 2.582964953035116, cur_n_target_predictions: 13507\n",
      "Updated upper bound to 2.582964953035116\n"
     ]
    },
    {
     "name": "stderr",
     "output_type": "stream",
     "text": [
      "100%|█████████████████████████████████████████████████████████████████████| 274/274 [00:09<00:00, 29.26it/s]\n"
     ]
    },
    {
     "name": "stdout",
     "output_type": "stream",
     "text": [
      "cur_bump_amount: 2.5647750589996576, cur_n_target_predictions: 13446\n",
      "Updated lower bound to 2.5647750589996576\n"
     ]
    },
    {
     "name": "stderr",
     "output_type": "stream",
     "text": [
      "100%|█████████████████████████████████████████████████████████████████████| 274/274 [00:09<00:00, 29.83it/s]\n"
     ]
    },
    {
     "name": "stdout",
     "output_type": "stream",
     "text": [
      "cur_bump_amount: 2.573870006017387, cur_n_target_predictions: 13479\n",
      "Updated upper bound to 2.573870006017387\n"
     ]
    },
    {
     "name": "stderr",
     "output_type": "stream",
     "text": [
      "100%|█████████████████████████████████████████████████████████████████████| 274/274 [00:10<00:00, 25.28it/s]\n"
     ]
    },
    {
     "name": "stdout",
     "output_type": "stream",
     "text": [
      "cur_bump_amount: 2.5693225325085223, cur_n_target_predictions: 13462\n",
      "Updated lower bound to 2.5693225325085223\n",
      "final results: bump amount: 2.5693225325085223 n_target_predictions: 13462\n",
      "saved/edit/experiments/corresponding_bump_edits/CINIC10_ImageNet-VGG_16/0213_143741/airplane_100/results/airplane-train-n02842573_4990/felzenszwalb_gaussian_softmax\n",
      "[0214_143631] Found corresponding logit bump for airplane-train-n03373611_6791/felzenszwalb_masked_softmax in dictionary (140/158)\n"
     ]
    },
    {
     "name": "stderr",
     "output_type": "stream",
     "text": [
      "100%|█████████████████████████████████████████████████████████████████████| 274/274 [00:14<00:00, 19.39it/s]\n"
     ]
    },
    {
     "name": "stdout",
     "output_type": "stream",
     "text": [
      "saved/edit/experiments/corresponding_bump_edits/CINIC10_ImageNet-VGG_16/0213_143741/airplane_100/results/airplane-train-n03373611_6791/felzenszwalb_masked_softmax\n",
      "[0214_143645] Creating corresponding logit bump for airplane-train-n03373611_6791/felzenszwalb_gaussian_softmax (141/158)\n",
      "target n_predictions: 17389\n",
      "Initial bounds for bump: (3.4788172342814505, 3.637978807091713)\n"
     ]
    },
    {
     "name": "stderr",
     "output_type": "stream",
     "text": [
      "100%|█████████████████████████████████████████████████████████████████████| 274/274 [00:08<00:00, 31.11it/s]\n"
     ]
    },
    {
     "name": "stdout",
     "output_type": "stream",
     "text": [
      "cur_bump_amount: 3.5583980206865817, cur_n_target_predictions: 17773\n",
      "Updated upper bound to 3.5583980206865817\n"
     ]
    },
    {
     "name": "stderr",
     "output_type": "stream",
     "text": [
      "100%|█████████████████████████████████████████████████████████████████████| 274/274 [00:09<00:00, 29.19it/s]\n"
     ]
    },
    {
     "name": "stdout",
     "output_type": "stream",
     "text": [
      "cur_bump_amount: 3.518607627484016, cur_n_target_predictions: 17533\n",
      "Updated upper bound to 3.518607627484016\n"
     ]
    },
    {
     "name": "stderr",
     "output_type": "stream",
     "text": [
      "100%|█████████████████████████████████████████████████████████████████████| 274/274 [00:09<00:00, 29.65it/s]\n"
     ]
    },
    {
     "name": "stdout",
     "output_type": "stream",
     "text": [
      "cur_bump_amount: 3.4987124308827333, cur_n_target_predictions: 17418\n",
      "Updated upper bound to 3.4987124308827333\n"
     ]
    },
    {
     "name": "stderr",
     "output_type": "stream",
     "text": [
      "100%|█████████████████████████████████████████████████████████████████████| 274/274 [00:09<00:00, 29.36it/s]\n"
     ]
    },
    {
     "name": "stdout",
     "output_type": "stream",
     "text": [
      "cur_bump_amount: 3.488764832582092, cur_n_target_predictions: 17375\n",
      "Updated lower bound to 3.488764832582092\n"
     ]
    },
    {
     "name": "stderr",
     "output_type": "stream",
     "text": [
      "100%|█████████████████████████████████████████████████████████████████████| 274/274 [00:09<00:00, 29.22it/s]\n"
     ]
    },
    {
     "name": "stdout",
     "output_type": "stream",
     "text": [
      "cur_bump_amount: 3.4937386317324126, cur_n_target_predictions: 17397\n",
      "Updated upper bound to 3.4937386317324126\n",
      "final results: bump amount: 3.4937386317324126 n_target_predictions: 17397\n",
      "saved/edit/experiments/corresponding_bump_edits/CINIC10_ImageNet-VGG_16/0213_143741/airplane_100/results/airplane-train-n03373611_6791/felzenszwalb_gaussian_softmax\n",
      "[0214_143731] Creating corresponding logit bump for airplane-train-n03604311_4322/felzenszwalb_masked_softmax (142/158)\n",
      "target n_predictions: 27552\n",
      "Initial bounds for bump: (4.89208673570829, 5.044964446199174)\n"
     ]
    },
    {
     "name": "stderr",
     "output_type": "stream",
     "text": [
      "100%|█████████████████████████████████████████████████████████████████████| 274/274 [00:09<00:00, 29.75it/s]\n"
     ]
    },
    {
     "name": "stdout",
     "output_type": "stream",
     "text": [
      "cur_bump_amount: 4.968525590953732, cur_n_target_predictions: 27576\n",
      "Updated upper bound to 4.968525590953732\n"
     ]
    },
    {
     "name": "stderr",
     "output_type": "stream",
     "text": [
      "100%|█████████████████████████████████████████████████████████████████████| 274/274 [00:09<00:00, 29.78it/s]\n"
     ]
    },
    {
     "name": "stdout",
     "output_type": "stream",
     "text": [
      "cur_bump_amount: 4.930306163331011, cur_n_target_predictions: 27262\n",
      "Updated lower bound to 4.930306163331011\n"
     ]
    },
    {
     "name": "stderr",
     "output_type": "stream",
     "text": [
      "100%|█████████████████████████████████████████████████████████████████████| 274/274 [00:09<00:00, 27.91it/s]\n"
     ]
    },
    {
     "name": "stdout",
     "output_type": "stream",
     "text": [
      "cur_bump_amount: 4.949415877142371, cur_n_target_predictions: 27412\n",
      "Updated lower bound to 4.949415877142371\n"
     ]
    },
    {
     "name": "stderr",
     "output_type": "stream",
     "text": [
      "100%|█████████████████████████████████████████████████████████████████████| 274/274 [00:09<00:00, 29.37it/s]\n"
     ]
    },
    {
     "name": "stdout",
     "output_type": "stream",
     "text": [
      "cur_bump_amount: 4.9589707340480516, cur_n_target_predictions: 27502\n",
      "Updated lower bound to 4.9589707340480516\n"
     ]
    },
    {
     "name": "stderr",
     "output_type": "stream",
     "text": [
      "100%|█████████████████████████████████████████████████████████████████████| 274/274 [00:09<00:00, 28.24it/s]\n"
     ]
    },
    {
     "name": "stdout",
     "output_type": "stream",
     "text": [
      "cur_bump_amount: 4.963748162500892, cur_n_target_predictions: 27542\n",
      "Updated lower bound to 4.963748162500892\n",
      "final results: bump amount: 4.963748162500892 n_target_predictions: 27542\n",
      "saved/edit/experiments/corresponding_bump_edits/CINIC10_ImageNet-VGG_16/0213_143741/airplane_100/results/airplane-train-n03604311_4322/felzenszwalb_masked_softmax\n",
      "[0214_143819] Creating corresponding logit bump for airplane-train-n03604311_4322/felzenszwalb_gaussian_softmax (143/158)\n",
      "target n_predictions: 17125\n",
      "Initial bounds for bump: (3.2741809263825417, 3.4788172342814505)\n"
     ]
    },
    {
     "name": "stderr",
     "output_type": "stream",
     "text": [
      "100%|█████████████████████████████████████████████████████████████████████| 274/274 [00:08<00:00, 31.78it/s]\n"
     ]
    },
    {
     "name": "stdout",
     "output_type": "stream",
     "text": [
      "cur_bump_amount: 3.376499080331996, cur_n_target_predictions: 16785\n",
      "Updated lower bound to 3.376499080331996\n"
     ]
    },
    {
     "name": "stderr",
     "output_type": "stream",
     "text": [
      "100%|█████████████████████████████████████████████████████████████████████| 274/274 [00:09<00:00, 28.17it/s]\n"
     ]
    },
    {
     "name": "stdout",
     "output_type": "stream",
     "text": [
      "cur_bump_amount: 3.4276581573067233, cur_n_target_predictions: 17049\n",
      "Updated lower bound to 3.4276581573067233\n"
     ]
    },
    {
     "name": "stderr",
     "output_type": "stream",
     "text": [
      "100%|█████████████████████████████████████████████████████████████████████| 274/274 [00:09<00:00, 29.01it/s]\n"
     ]
    },
    {
     "name": "stdout",
     "output_type": "stream",
     "text": [
      "cur_bump_amount: 3.453237695794087, cur_n_target_predictions: 17184\n",
      "Updated upper bound to 3.453237695794087\n"
     ]
    },
    {
     "name": "stderr",
     "output_type": "stream",
     "text": [
      "100%|█████████████████████████████████████████████████████████████████████| 274/274 [00:09<00:00, 29.02it/s]\n"
     ]
    },
    {
     "name": "stdout",
     "output_type": "stream",
     "text": [
      "cur_bump_amount: 3.440447926550405, cur_n_target_predictions: 17120\n",
      "Updated lower bound to 3.440447926550405\n",
      "final results: bump amount: 3.440447926550405 n_target_predictions: 17120\n",
      "saved/edit/experiments/corresponding_bump_edits/CINIC10_ImageNet-VGG_16/0213_143741/airplane_100/results/airplane-train-n03604311_4322/felzenszwalb_gaussian_softmax\n",
      "[0214_143856] Creating corresponding logit bump for airplane-train-n03335030_3677/felzenszwalb_masked_softmax (144/158)\n",
      "target n_predictions: 17265\n",
      "Initial bounds for bump: (3.2741809263825417, 3.4788172342814505)\n"
     ]
    },
    {
     "name": "stderr",
     "output_type": "stream",
     "text": [
      "100%|█████████████████████████████████████████████████████████████████████| 274/274 [00:09<00:00, 28.75it/s]\n"
     ]
    },
    {
     "name": "stdout",
     "output_type": "stream",
     "text": [
      "cur_bump_amount: 3.376499080331996, cur_n_target_predictions: 16785\n",
      "Updated lower bound to 3.376499080331996\n"
     ]
    },
    {
     "name": "stderr",
     "output_type": "stream",
     "text": [
      "100%|█████████████████████████████████████████████████████████████████████| 274/274 [00:09<00:00, 28.59it/s]\n"
     ]
    },
    {
     "name": "stdout",
     "output_type": "stream",
     "text": [
      "cur_bump_amount: 3.4276581573067233, cur_n_target_predictions: 17049\n",
      "Updated lower bound to 3.4276581573067233\n"
     ]
    },
    {
     "name": "stderr",
     "output_type": "stream",
     "text": [
      "100%|█████████████████████████████████████████████████████████████████████| 274/274 [00:09<00:00, 29.14it/s]\n"
     ]
    },
    {
     "name": "stdout",
     "output_type": "stream",
     "text": [
      "cur_bump_amount: 3.453237695794087, cur_n_target_predictions: 17184\n",
      "Updated lower bound to 3.453237695794087\n"
     ]
    },
    {
     "name": "stderr",
     "output_type": "stream",
     "text": [
      "100%|█████████████████████████████████████████████████████████████████████| 274/274 [00:10<00:00, 26.56it/s]\n"
     ]
    },
    {
     "name": "stdout",
     "output_type": "stream",
     "text": [
      "cur_bump_amount: 3.4660274650377687, cur_n_target_predictions: 17250\n",
      "Updated lower bound to 3.4660274650377687\n"
     ]
    },
    {
     "name": "stderr",
     "output_type": "stream",
     "text": [
      "100%|█████████████████████████████████████████████████████████████████████| 274/274 [00:08<00:00, 33.36it/s]\n"
     ]
    },
    {
     "name": "stdout",
     "output_type": "stream",
     "text": [
      "cur_bump_amount: 3.4724223496596096, cur_n_target_predictions: 17282\n",
      "Updated upper bound to 3.4724223496596096\n"
     ]
    },
    {
     "name": "stderr",
     "output_type": "stream",
     "text": [
      "100%|█████████████████████████████████████████████████████████████████████| 274/274 [00:10<00:00, 26.95it/s]\n"
     ]
    },
    {
     "name": "stdout",
     "output_type": "stream",
     "text": [
      "cur_bump_amount: 3.469224907348689, cur_n_target_predictions: 17270\n",
      "Updated upper bound to 3.469224907348689\n",
      "final results: bump amount: 3.469224907348689 n_target_predictions: 17270\n",
      "saved/edit/experiments/corresponding_bump_edits/CINIC10_ImageNet-VGG_16/0213_143741/airplane_100/results/airplane-train-n03335030_3677/felzenszwalb_masked_softmax\n",
      "[0214_143954] Creating corresponding logit bump for airplane-train-n03335030_3677/felzenszwalb_gaussian_softmax (145/158)\n",
      "target n_predictions: 17241\n",
      "Initial bounds for bump: (3.2741809263825417, 3.4788172342814505)\n"
     ]
    },
    {
     "name": "stderr",
     "output_type": "stream",
     "text": [
      "100%|█████████████████████████████████████████████████████████████████████| 274/274 [00:09<00:00, 28.28it/s]\n"
     ]
    },
    {
     "name": "stdout",
     "output_type": "stream",
     "text": [
      "cur_bump_amount: 3.376499080331996, cur_n_target_predictions: 16785\n",
      "Updated lower bound to 3.376499080331996\n"
     ]
    },
    {
     "name": "stderr",
     "output_type": "stream",
     "text": [
      "100%|█████████████████████████████████████████████████████████████████████| 274/274 [00:09<00:00, 29.06it/s]\n"
     ]
    },
    {
     "name": "stdout",
     "output_type": "stream",
     "text": [
      "cur_bump_amount: 3.4276581573067233, cur_n_target_predictions: 17049\n",
      "Updated lower bound to 3.4276581573067233\n"
     ]
    },
    {
     "name": "stderr",
     "output_type": "stream",
     "text": [
      "100%|█████████████████████████████████████████████████████████████████████| 274/274 [00:09<00:00, 29.49it/s]\n"
     ]
    },
    {
     "name": "stdout",
     "output_type": "stream",
     "text": [
      "cur_bump_amount: 3.453237695794087, cur_n_target_predictions: 17184\n",
      "Updated lower bound to 3.453237695794087\n"
     ]
    },
    {
     "name": "stderr",
     "output_type": "stream",
     "text": [
      "100%|█████████████████████████████████████████████████████████████████████| 274/274 [00:09<00:00, 29.34it/s]\n"
     ]
    },
    {
     "name": "stdout",
     "output_type": "stream",
     "text": [
      "cur_bump_amount: 3.4660274650377687, cur_n_target_predictions: 17250\n",
      "Updated upper bound to 3.4660274650377687\n",
      "final results: bump amount: 3.4660274650377687 n_target_predictions: 17250\n",
      "saved/edit/experiments/corresponding_bump_edits/CINIC10_ImageNet-VGG_16/0213_143741/airplane_100/results/airplane-train-n03335030_3677/felzenszwalb_gaussian_softmax\n",
      "[0214_144032] Creating corresponding logit bump for airplane-train-n04160586_16649/felzenszwalb_masked_softmax (146/158)\n",
      "target n_predictions: 18787\n",
      "Initial bounds for bump: (3.637978807091713, 3.751665644813329)\n"
     ]
    },
    {
     "name": "stderr",
     "output_type": "stream",
     "text": [
      "100%|█████████████████████████████████████████████████████████████████████| 274/274 [00:09<00:00, 29.60it/s]\n"
     ]
    },
    {
     "name": "stdout",
     "output_type": "stream",
     "text": [
      "cur_bump_amount: 3.694822225952521, cur_n_target_predictions: 18554\n",
      "Updated lower bound to 3.694822225952521\n"
     ]
    },
    {
     "name": "stderr",
     "output_type": "stream",
     "text": [
      "100%|█████████████████████████████████████████████████████████████████████| 274/274 [00:09<00:00, 30.03it/s]\n"
     ]
    },
    {
     "name": "stdout",
     "output_type": "stream",
     "text": [
      "cur_bump_amount: 3.723243935382925, cur_n_target_predictions: 18695\n",
      "Updated lower bound to 3.723243935382925\n"
     ]
    },
    {
     "name": "stderr",
     "output_type": "stream",
     "text": [
      "100%|█████████████████████████████████████████████████████████████████████| 274/274 [00:09<00:00, 29.75it/s]\n"
     ]
    },
    {
     "name": "stdout",
     "output_type": "stream",
     "text": [
      "cur_bump_amount: 3.737454790098127, cur_n_target_predictions: 18787\n",
      "final results: bump amount: 3.737454790098127 n_target_predictions: 18787\n",
      "saved/edit/experiments/corresponding_bump_edits/CINIC10_ImageNet-VGG_16/0213_143741/airplane_100/results/airplane-train-n04160586_16649/felzenszwalb_masked_softmax\n",
      "[0214_144100] Creating corresponding logit bump for airplane-train-n04160586_16649/felzenszwalb_gaussian_softmax (147/158)\n",
      "target n_predictions: 18503\n",
      "Initial bounds for bump: (3.637978807091713, 3.751665644813329)\n"
     ]
    },
    {
     "name": "stderr",
     "output_type": "stream",
     "text": [
      "100%|█████████████████████████████████████████████████████████████████████| 274/274 [00:09<00:00, 27.62it/s]\n"
     ]
    },
    {
     "name": "stdout",
     "output_type": "stream",
     "text": [
      "cur_bump_amount: 3.694822225952521, cur_n_target_predictions: 18554\n",
      "Updated upper bound to 3.694822225952521\n"
     ]
    },
    {
     "name": "stderr",
     "output_type": "stream",
     "text": [
      "100%|█████████████████████████████████████████████████████████████████████| 274/274 [00:08<00:00, 32.48it/s]\n"
     ]
    },
    {
     "name": "stdout",
     "output_type": "stream",
     "text": [
      "cur_bump_amount: 3.666400516522117, cur_n_target_predictions: 18395\n",
      "Updated lower bound to 3.666400516522117\n"
     ]
    },
    {
     "name": "stderr",
     "output_type": "stream",
     "text": [
      "100%|█████████████████████████████████████████████████████████████████████| 274/274 [00:10<00:00, 26.64it/s]\n"
     ]
    },
    {
     "name": "stdout",
     "output_type": "stream",
     "text": [
      "cur_bump_amount: 3.680611371237319, cur_n_target_predictions: 18475\n",
      "Updated lower bound to 3.680611371237319\n"
     ]
    },
    {
     "name": "stderr",
     "output_type": "stream",
     "text": [
      "100%|█████████████████████████████████████████████████████████████████████| 274/274 [00:08<00:00, 31.68it/s]\n"
     ]
    },
    {
     "name": "stdout",
     "output_type": "stream",
     "text": [
      "cur_bump_amount: 3.68771679859492, cur_n_target_predictions: 18513\n",
      "Updated upper bound to 3.68771679859492\n",
      "final results: bump amount: 3.68771679859492 n_target_predictions: 18513\n",
      "saved/edit/experiments/corresponding_bump_edits/CINIC10_ImageNet-VGG_16/0213_143741/airplane_100/results/airplane-train-n04160586_16649/felzenszwalb_gaussian_softmax\n",
      "[0214_144137] Creating corresponding logit bump for airplane-train-n03595860_1626/felzenszwalb_masked_softmax (148/158)\n",
      "target n_predictions: 24505\n",
      "Initial bounds for bump: (4.547473508864641, 4.604316927725449)\n"
     ]
    },
    {
     "name": "stderr",
     "output_type": "stream",
     "text": [
      "100%|█████████████████████████████████████████████████████████████████████| 274/274 [00:09<00:00, 29.32it/s]\n"
     ]
    },
    {
     "name": "stdout",
     "output_type": "stream",
     "text": [
      "cur_bump_amount: 4.575895218295045, cur_n_target_predictions: 24547\n",
      "Updated upper bound to 4.575895218295045\n"
     ]
    },
    {
     "name": "stderr",
     "output_type": "stream",
     "text": [
      "100%|█████████████████████████████████████████████████████████████████████| 274/274 [00:09<00:00, 29.56it/s]\n"
     ]
    },
    {
     "name": "stdout",
     "output_type": "stream",
     "text": [
      "cur_bump_amount: 4.561684363579843, cur_n_target_predictions: 24435\n",
      "Updated lower bound to 4.561684363579843\n"
     ]
    },
    {
     "name": "stderr",
     "output_type": "stream",
     "text": [
      "100%|█████████████████████████████████████████████████████████████████████| 274/274 [00:09<00:00, 30.16it/s]\n"
     ]
    },
    {
     "name": "stdout",
     "output_type": "stream",
     "text": [
      "cur_bump_amount: 4.568789790937444, cur_n_target_predictions: 24493\n",
      "Updated lower bound to 4.568789790937444\n"
     ]
    },
    {
     "name": "stderr",
     "output_type": "stream",
     "text": [
      "100%|█████████████████████████████████████████████████████████████████████| 274/274 [00:09<00:00, 29.51it/s]\n"
     ]
    },
    {
     "name": "stdout",
     "output_type": "stream",
     "text": [
      "cur_bump_amount: 4.572342504616245, cur_n_target_predictions: 24522\n",
      "Updated upper bound to 4.572342504616245\n"
     ]
    },
    {
     "name": "stderr",
     "output_type": "stream",
     "text": [
      "100%|█████████████████████████████████████████████████████████████████████| 274/274 [00:09<00:00, 29.60it/s]\n"
     ]
    },
    {
     "name": "stdout",
     "output_type": "stream",
     "text": [
      "cur_bump_amount: 4.5705661477768444, cur_n_target_predictions: 24507\n",
      "Updated upper bound to 4.5705661477768444\n",
      "final results: bump amount: 4.5705661477768444 n_target_predictions: 24507\n",
      "saved/edit/experiments/corresponding_bump_edits/CINIC10_ImageNet-VGG_16/0213_143741/airplane_100/results/airplane-train-n03595860_1626/felzenszwalb_masked_softmax\n",
      "[0214_144224] Creating corresponding logit bump for airplane-train-n03595860_1626/felzenszwalb_gaussian_softmax (149/158)\n",
      "target n_predictions: 13026\n",
      "Initial bounds for bump: (2.3283064365386963, 2.6193447411060333)\n"
     ]
    },
    {
     "name": "stderr",
     "output_type": "stream",
     "text": [
      "100%|█████████████████████████████████████████████████████████████████████| 274/274 [00:09<00:00, 29.45it/s]\n"
     ]
    },
    {
     "name": "stdout",
     "output_type": "stream",
     "text": [
      "cur_bump_amount: 2.473825588822365, cur_n_target_predictions: 13150\n",
      "Updated upper bound to 2.473825588822365\n"
     ]
    },
    {
     "name": "stderr",
     "output_type": "stream",
     "text": [
      "100%|█████████████████████████████████████████████████████████████████████| 274/274 [00:09<00:00, 28.38it/s]\n"
     ]
    },
    {
     "name": "stdout",
     "output_type": "stream",
     "text": [
      "cur_bump_amount: 2.4010660126805305, cur_n_target_predictions: 12951\n",
      "Updated lower bound to 2.4010660126805305\n"
     ]
    },
    {
     "name": "stderr",
     "output_type": "stream",
     "text": [
      "100%|█████████████████████████████████████████████████████████████████████| 274/274 [00:08<00:00, 31.58it/s]\n"
     ]
    },
    {
     "name": "stdout",
     "output_type": "stream",
     "text": [
      "cur_bump_amount: 2.4374458007514477, cur_n_target_predictions: 13036\n",
      "Updated upper bound to 2.4374458007514477\n",
      "final results: bump amount: 2.4374458007514477 n_target_predictions: 13036\n",
      "saved/edit/experiments/corresponding_bump_edits/CINIC10_ImageNet-VGG_16/0213_143741/airplane_100/results/airplane-train-n03595860_1626/felzenszwalb_gaussian_softmax\n",
      "[0214_144252] Creating corresponding logit bump for airplane-train-n03595860_3751/felzenszwalb_masked_softmax (150/158)\n",
      "target n_predictions: 53177\n",
      "Initial bounds for bump: (6.507315933965021, 13.014631867930042)\n"
     ]
    },
    {
     "name": "stderr",
     "output_type": "stream",
     "text": [
      "100%|█████████████████████████████████████████████████████████████████████| 274/274 [00:10<00:00, 27.27it/s]\n",
      "/n/fs/ac-editing/model-editing/src/model/metric.py:168: RuntimeWarning: invalid value encountered in divide\n",
      "  return np.nan_to_num(TPs / (TPs + FPs))\n",
      "/n/fs/ac-editing/model-editing/src/model/metric.py:205: RuntimeWarning: invalid value encountered in divide\n",
      "  return np.nan_to_num(2 * precisions * recalls / (precisions + recalls))\n"
     ]
    },
    {
     "name": "stdout",
     "output_type": "stream",
     "text": [
      "cur_bump_amount: 9.760973900947532, cur_n_target_predictions: 68683\n",
      "Updated upper bound to 9.760973900947532\n"
     ]
    },
    {
     "name": "stderr",
     "output_type": "stream",
     "text": [
      "100%|█████████████████████████████████████████████████████████████████████| 274/274 [00:08<00:00, 32.16it/s]\n",
      "/n/fs/ac-editing/model-editing/src/model/metric.py:168: RuntimeWarning: invalid value encountered in divide\n",
      "  return np.nan_to_num(TPs / (TPs + FPs))\n",
      "/n/fs/ac-editing/model-editing/src/model/metric.py:205: RuntimeWarning: invalid value encountered in divide\n",
      "  return np.nan_to_num(2 * precisions * recalls / (precisions + recalls))\n"
     ]
    },
    {
     "name": "stdout",
     "output_type": "stream",
     "text": [
      "cur_bump_amount: 8.134144917456275, cur_n_target_predictions: 66104\n",
      "Updated upper bound to 8.134144917456275\n"
     ]
    },
    {
     "name": "stderr",
     "output_type": "stream",
     "text": [
      "100%|█████████████████████████████████████████████████████████████████████| 274/274 [00:09<00:00, 29.28it/s]\n",
      "/n/fs/ac-editing/model-editing/src/model/metric.py:168: RuntimeWarning: invalid value encountered in divide\n",
      "  return np.nan_to_num(TPs / (TPs + FPs))\n",
      "/n/fs/ac-editing/model-editing/src/model/metric.py:205: RuntimeWarning: invalid value encountered in divide\n",
      "  return np.nan_to_num(2 * precisions * recalls / (precisions + recalls))\n"
     ]
    },
    {
     "name": "stdout",
     "output_type": "stream",
     "text": [
      "cur_bump_amount: 7.320730425710648, cur_n_target_predictions: 62766\n",
      "Updated upper bound to 7.320730425710648\n"
     ]
    },
    {
     "name": "stderr",
     "output_type": "stream",
     "text": [
      "100%|█████████████████████████████████████████████████████████████████████| 274/274 [00:11<00:00, 23.03it/s]\n",
      "/n/fs/ac-editing/model-editing/src/model/metric.py:168: RuntimeWarning: invalid value encountered in divide\n",
      "  return np.nan_to_num(TPs / (TPs + FPs))\n",
      "/n/fs/ac-editing/model-editing/src/model/metric.py:205: RuntimeWarning: invalid value encountered in divide\n",
      "  return np.nan_to_num(2 * precisions * recalls / (precisions + recalls))\n"
     ]
    },
    {
     "name": "stdout",
     "output_type": "stream",
     "text": [
      "cur_bump_amount: 6.914023179837835, cur_n_target_predictions: 60666\n",
      "Updated upper bound to 6.914023179837835\n"
     ]
    },
    {
     "name": "stderr",
     "output_type": "stream",
     "text": [
      "100%|█████████████████████████████████████████████████████████████████████| 274/274 [00:09<00:00, 29.15it/s]\n",
      "/n/fs/ac-editing/model-editing/src/model/metric.py:168: RuntimeWarning: invalid value encountered in divide\n",
      "  return np.nan_to_num(TPs / (TPs + FPs))\n",
      "/n/fs/ac-editing/model-editing/src/model/metric.py:205: RuntimeWarning: invalid value encountered in divide\n",
      "  return np.nan_to_num(2 * precisions * recalls / (precisions + recalls))\n"
     ]
    },
    {
     "name": "stdout",
     "output_type": "stream",
     "text": [
      "cur_bump_amount: 6.710669556901427, cur_n_target_predictions: 58196\n",
      "Updated upper bound to 6.710669556901427\n"
     ]
    },
    {
     "name": "stderr",
     "output_type": "stream",
     "text": [
      "100%|█████████████████████████████████████████████████████████████████████| 274/274 [00:09<00:00, 28.73it/s]\n",
      "/n/fs/ac-editing/model-editing/src/model/metric.py:168: RuntimeWarning: invalid value encountered in divide\n",
      "  return np.nan_to_num(TPs / (TPs + FPs))\n",
      "/n/fs/ac-editing/model-editing/src/model/metric.py:205: RuntimeWarning: invalid value encountered in divide\n",
      "  return np.nan_to_num(2 * precisions * recalls / (precisions + recalls))\n"
     ]
    },
    {
     "name": "stdout",
     "output_type": "stream",
     "text": [
      "cur_bump_amount: 6.608992745433224, cur_n_target_predictions: 55976\n",
      "Updated upper bound to 6.608992745433224\n"
     ]
    },
    {
     "name": "stderr",
     "output_type": "stream",
     "text": [
      "100%|█████████████████████████████████████████████████████████████████████| 274/274 [00:09<00:00, 29.59it/s]\n",
      "/n/fs/ac-editing/model-editing/src/model/metric.py:168: RuntimeWarning: invalid value encountered in divide\n",
      "  return np.nan_to_num(TPs / (TPs + FPs))\n",
      "/n/fs/ac-editing/model-editing/src/model/metric.py:205: RuntimeWarning: invalid value encountered in divide\n",
      "  return np.nan_to_num(2 * precisions * recalls / (precisions + recalls))\n"
     ]
    },
    {
     "name": "stdout",
     "output_type": "stream",
     "text": [
      "cur_bump_amount: 6.558154339699122, cur_n_target_predictions: 54434\n",
      "Updated upper bound to 6.558154339699122\n"
     ]
    },
    {
     "name": "stderr",
     "output_type": "stream",
     "text": [
      "100%|█████████████████████████████████████████████████████████████████████| 274/274 [00:08<00:00, 30.51it/s]\n",
      "/n/fs/ac-editing/model-editing/src/model/metric.py:168: RuntimeWarning: invalid value encountered in divide\n",
      "  return np.nan_to_num(TPs / (TPs + FPs))\n",
      "/n/fs/ac-editing/model-editing/src/model/metric.py:205: RuntimeWarning: invalid value encountered in divide\n",
      "  return np.nan_to_num(2 * precisions * recalls / (precisions + recalls))\n"
     ]
    },
    {
     "name": "stdout",
     "output_type": "stream",
     "text": [
      "cur_bump_amount: 6.532735136832072, cur_n_target_predictions: 53602\n",
      "Updated upper bound to 6.532735136832072\n"
     ]
    },
    {
     "name": "stderr",
     "output_type": "stream",
     "text": [
      "100%|█████████████████████████████████████████████████████████████████████| 274/274 [00:10<00:00, 25.86it/s]\n",
      "/n/fs/ac-editing/model-editing/src/model/metric.py:168: RuntimeWarning: invalid value encountered in divide\n",
      "  return np.nan_to_num(TPs / (TPs + FPs))\n",
      "/n/fs/ac-editing/model-editing/src/model/metric.py:205: RuntimeWarning: invalid value encountered in divide\n",
      "  return np.nan_to_num(2 * precisions * recalls / (precisions + recalls))\n"
     ]
    },
    {
     "name": "stdout",
     "output_type": "stream",
     "text": [
      "cur_bump_amount: 6.520025535398546, cur_n_target_predictions: 53192\n",
      "Updated upper bound to 6.520025535398546\n"
     ]
    },
    {
     "name": "stderr",
     "output_type": "stream",
     "text": [
      "100%|█████████████████████████████████████████████████████████████████████| 274/274 [00:12<00:00, 21.61it/s]\n",
      "/n/fs/ac-editing/model-editing/src/model/metric.py:168: RuntimeWarning: invalid value encountered in divide\n",
      "  return np.nan_to_num(TPs / (TPs + FPs))\n",
      "/n/fs/ac-editing/model-editing/src/model/metric.py:205: RuntimeWarning: invalid value encountered in divide\n",
      "  return np.nan_to_num(2 * precisions * recalls / (precisions + recalls))\n"
     ]
    },
    {
     "name": "stdout",
     "output_type": "stream",
     "text": [
      "cur_bump_amount: 6.513670734681783, cur_n_target_predictions: 53001\n",
      "Updated lower bound to 6.513670734681783\n"
     ]
    },
    {
     "name": "stderr",
     "output_type": "stream",
     "text": [
      "100%|█████████████████████████████████████████████████████████████████████| 274/274 [00:09<00:00, 30.13it/s]\n",
      "/n/fs/ac-editing/model-editing/src/model/metric.py:168: RuntimeWarning: invalid value encountered in divide\n",
      "  return np.nan_to_num(TPs / (TPs + FPs))\n",
      "/n/fs/ac-editing/model-editing/src/model/metric.py:205: RuntimeWarning: invalid value encountered in divide\n",
      "  return np.nan_to_num(2 * precisions * recalls / (precisions + recalls))\n"
     ]
    },
    {
     "name": "stdout",
     "output_type": "stream",
     "text": [
      "cur_bump_amount: 6.516848135040165, cur_n_target_predictions: 53087\n",
      "Updated lower bound to 6.516848135040165\n"
     ]
    },
    {
     "name": "stderr",
     "output_type": "stream",
     "text": [
      "100%|█████████████████████████████████████████████████████████████████████| 274/274 [00:09<00:00, 29.10it/s]\n",
      "/n/fs/ac-editing/model-editing/src/model/metric.py:168: RuntimeWarning: invalid value encountered in divide\n",
      "  return np.nan_to_num(TPs / (TPs + FPs))\n",
      "/n/fs/ac-editing/model-editing/src/model/metric.py:205: RuntimeWarning: invalid value encountered in divide\n",
      "  return np.nan_to_num(2 * precisions * recalls / (precisions + recalls))\n"
     ]
    },
    {
     "name": "stdout",
     "output_type": "stream",
     "text": [
      "cur_bump_amount: 6.518436835219356, cur_n_target_predictions: 53150\n",
      "Updated lower bound to 6.518436835219356\n"
     ]
    },
    {
     "name": "stderr",
     "output_type": "stream",
     "text": [
      "100%|█████████████████████████████████████████████████████████████████████| 274/274 [00:09<00:00, 29.49it/s]\n",
      "/n/fs/ac-editing/model-editing/src/model/metric.py:168: RuntimeWarning: invalid value encountered in divide\n",
      "  return np.nan_to_num(TPs / (TPs + FPs))\n",
      "/n/fs/ac-editing/model-editing/src/model/metric.py:205: RuntimeWarning: invalid value encountered in divide\n",
      "  return np.nan_to_num(2 * precisions * recalls / (precisions + recalls))\n"
     ]
    },
    {
     "name": "stdout",
     "output_type": "stream",
     "text": [
      "cur_bump_amount: 6.519231185308952, cur_n_target_predictions: 53168\n",
      "Updated lower bound to 6.519231185308952\n",
      "final results: bump amount: 6.519231185308952 n_target_predictions: 53168\n",
      "saved/edit/experiments/corresponding_bump_edits/CINIC10_ImageNet-VGG_16/0213_143741/airplane_100/results/airplane-train-n03595860_3751/felzenszwalb_masked_softmax\n",
      "[0214_144501] Creating corresponding logit bump for airplane-train-n03595860_3751/felzenszwalb_gaussian_softmax (151/158)\n",
      "target n_predictions: 10040\n",
      "Initial bounds for bump: (0.6103515625, 1.4901161193847656)\n"
     ]
    },
    {
     "name": "stderr",
     "output_type": "stream",
     "text": [
      "100%|█████████████████████████████████████████████████████████████████████| 274/274 [00:09<00:00, 29.31it/s]\n"
     ]
    },
    {
     "name": "stdout",
     "output_type": "stream",
     "text": [
      "cur_bump_amount: 1.0502338409423828, cur_n_target_predictions: 10256\n",
      "Updated upper bound to 1.0502338409423828\n"
     ]
    },
    {
     "name": "stderr",
     "output_type": "stream",
     "text": [
      "100%|█████████████████████████████████████████████████████████████████████| 274/274 [00:09<00:00, 29.46it/s]\n"
     ]
    },
    {
     "name": "stdout",
     "output_type": "stream",
     "text": [
      "cur_bump_amount: 0.8302927017211914, cur_n_target_predictions: 9995\n",
      "Updated lower bound to 0.8302927017211914\n"
     ]
    },
    {
     "name": "stderr",
     "output_type": "stream",
     "text": [
      "100%|█████████████████████████████████████████████████████████████████████| 274/274 [00:09<00:00, 29.37it/s]\n"
     ]
    },
    {
     "name": "stdout",
     "output_type": "stream",
     "text": [
      "cur_bump_amount: 0.9402632713317871, cur_n_target_predictions: 10104\n",
      "Updated upper bound to 0.9402632713317871\n"
     ]
    },
    {
     "name": "stderr",
     "output_type": "stream",
     "text": [
      "100%|█████████████████████████████████████████████████████████████████████| 274/274 [00:09<00:00, 29.57it/s]\n"
     ]
    },
    {
     "name": "stdout",
     "output_type": "stream",
     "text": [
      "cur_bump_amount: 0.8852779865264893, cur_n_target_predictions: 10054\n",
      "Updated upper bound to 0.8852779865264893\n"
     ]
    },
    {
     "name": "stderr",
     "output_type": "stream",
     "text": [
      "100%|█████████████████████████████████████████████████████████████████████| 274/274 [00:08<00:00, 30.71it/s]\n"
     ]
    },
    {
     "name": "stdout",
     "output_type": "stream",
     "text": [
      "cur_bump_amount: 0.8577853441238403, cur_n_target_predictions: 10021\n",
      "Updated lower bound to 0.8577853441238403\n"
     ]
    },
    {
     "name": "stderr",
     "output_type": "stream",
     "text": [
      "100%|█████████████████████████████████████████████████████████████████████| 274/274 [00:09<00:00, 28.08it/s]\n"
     ]
    },
    {
     "name": "stdout",
     "output_type": "stream",
     "text": [
      "cur_bump_amount: 0.8715316653251648, cur_n_target_predictions: 10036\n",
      "Updated lower bound to 0.8715316653251648\n",
      "final results: bump amount: 0.8715316653251648 n_target_predictions: 10036\n",
      "saved/edit/experiments/corresponding_bump_edits/CINIC10_ImageNet-VGG_16/0213_143741/airplane_100/results/airplane-train-n03595860_3751/felzenszwalb_gaussian_softmax\n",
      "[0214_144557] Creating corresponding logit bump for airplane-train-n02704645_17657/felzenszwalb_masked_softmax (152/158)\n",
      "target n_predictions: 16751\n",
      "Initial bounds for bump: (3.2741809263825417, 3.4788172342814505)\n"
     ]
    },
    {
     "name": "stderr",
     "output_type": "stream",
     "text": [
      "100%|█████████████████████████████████████████████████████████████████████| 274/274 [00:09<00:00, 29.34it/s]\n"
     ]
    },
    {
     "name": "stdout",
     "output_type": "stream",
     "text": [
      "cur_bump_amount: 3.376499080331996, cur_n_target_predictions: 16785\n",
      "Updated upper bound to 3.376499080331996\n"
     ]
    },
    {
     "name": "stderr",
     "output_type": "stream",
     "text": [
      "100%|█████████████████████████████████████████████████████████████████████| 274/274 [00:09<00:00, 29.02it/s]\n"
     ]
    },
    {
     "name": "stdout",
     "output_type": "stream",
     "text": [
      "cur_bump_amount: 3.325340003357269, cur_n_target_predictions: 16564\n",
      "Updated lower bound to 3.325340003357269\n"
     ]
    },
    {
     "name": "stderr",
     "output_type": "stream",
     "text": [
      "100%|█████████████████████████████████████████████████████████████████████| 274/274 [00:09<00:00, 29.03it/s]\n"
     ]
    },
    {
     "name": "stdout",
     "output_type": "stream",
     "text": [
      "cur_bump_amount: 3.3509195418446325, cur_n_target_predictions: 16673\n",
      "Updated lower bound to 3.3509195418446325\n"
     ]
    },
    {
     "name": "stderr",
     "output_type": "stream",
     "text": [
      "100%|█████████████████████████████████████████████████████████████████████| 274/274 [00:09<00:00, 29.71it/s]\n"
     ]
    },
    {
     "name": "stdout",
     "output_type": "stream",
     "text": [
      "cur_bump_amount: 3.3637093110883143, cur_n_target_predictions: 16731\n",
      "Updated lower bound to 3.3637093110883143\n"
     ]
    },
    {
     "name": "stderr",
     "output_type": "stream",
     "text": [
      "100%|█████████████████████████████████████████████████████████████████████| 274/274 [00:09<00:00, 27.98it/s]\n"
     ]
    },
    {
     "name": "stdout",
     "output_type": "stream",
     "text": [
      "cur_bump_amount: 3.370104195710155, cur_n_target_predictions: 16758\n",
      "Updated upper bound to 3.370104195710155\n",
      "final results: bump amount: 3.370104195710155 n_target_predictions: 16758\n",
      "saved/edit/experiments/corresponding_bump_edits/CINIC10_ImageNet-VGG_16/0213_143741/airplane_100/results/airplane-train-n02704645_17657/felzenszwalb_masked_softmax\n",
      "[0214_144645] Creating corresponding logit bump for airplane-train-n02704645_17657/felzenszwalb_gaussian_softmax (153/158)\n"
     ]
    },
    {
     "ename": "AssertionError",
     "evalue": "n_target_predictions (8733) must be greater than pre-edit n_target_predictions (9027)",
     "output_type": "error",
     "traceback": [
      "\u001b[0;31m---------------------------------------------------------------------------\u001b[0m",
      "\u001b[0;31mAssertionError\u001b[0m                            Traceback (most recent call last)",
      "Cell \u001b[0;32mIn [21], line 92\u001b[0m\n\u001b[1;32m     85\u001b[0m     informal_log(\u001b[38;5;124m\"\u001b[39m\u001b[38;5;124m[\u001b[39m\u001b[38;5;132;01m{}\u001b[39;00m\u001b[38;5;124m] Creating corresponding logit bump for \u001b[39m\u001b[38;5;132;01m{}\u001b[39;00m\u001b[38;5;124m (\u001b[39m\u001b[38;5;132;01m{}\u001b[39;00m\u001b[38;5;124m/\u001b[39m\u001b[38;5;132;01m{}\u001b[39;00m\u001b[38;5;124m)\u001b[39m\u001b[38;5;124m\"\u001b[39m\u001b[38;5;241m.\u001b[39mformat(\n\u001b[1;32m     86\u001b[0m         datetime\u001b[38;5;241m.\u001b[39mnow()\u001b[38;5;241m.\u001b[39mstrftime(\u001b[38;5;124mr\u001b[39m\u001b[38;5;124m'\u001b[39m\u001b[38;5;124m%\u001b[39m\u001b[38;5;124mm\u001b[39m\u001b[38;5;132;01m%d\u001b[39;00m\u001b[38;5;124m_\u001b[39m\u001b[38;5;124m%\u001b[39m\u001b[38;5;124mH\u001b[39m\u001b[38;5;124m%\u001b[39m\u001b[38;5;124mM\u001b[39m\u001b[38;5;124m%\u001b[39m\u001b[38;5;124mS\u001b[39m\u001b[38;5;124m'\u001b[39m),\n\u001b[1;32m     87\u001b[0m         trial_id,\n\u001b[1;32m     88\u001b[0m         trial_idx \u001b[38;5;241m+\u001b[39m \u001b[38;5;241m1\u001b[39m,\n\u001b[1;32m     89\u001b[0m         \u001b[38;5;28mlen\u001b[39m(original_trial_paths)), progress_report_path)\n\u001b[1;32m     90\u001b[0m     \u001b[38;5;66;03m# Find corresponding bump amount\u001b[39;00m\n\u001b[1;32m     91\u001b[0m     bump_amount, n_target_predictions, metrics \u001b[38;5;241m=\u001b[39m \\\n\u001b[0;32m---> 92\u001b[0m         \u001b[43mmatch_bump\u001b[49m\u001b[43m(\u001b[49m\n\u001b[1;32m     93\u001b[0m \u001b[43m            \u001b[49m\u001b[43mn_target_predictions\u001b[49m\u001b[38;5;241;43m=\u001b[39;49m\u001b[43mn_target_predictions\u001b[49m\u001b[43m,\u001b[49m\n\u001b[1;32m     94\u001b[0m \u001b[43m            \u001b[49m\u001b[43mtarget_class_idx\u001b[49m\u001b[38;5;241;43m=\u001b[39;49m\u001b[43mtarget_class_idx\u001b[49m\u001b[43m,\u001b[49m\n\u001b[1;32m     95\u001b[0m \u001b[43m            \u001b[49m\u001b[43mbumps_preds_metrics\u001b[49m\u001b[38;5;241;43m=\u001b[39;49m\u001b[43mbumps_preds_metrics\u001b[49m\u001b[43m,\u001b[49m\n\u001b[1;32m     96\u001b[0m \u001b[43m            \u001b[49m\u001b[43mresults_save_dir\u001b[49m\u001b[38;5;241;43m=\u001b[39;49m\u001b[43mlogit_bump_trial_save_dir\u001b[49m\u001b[43m,\u001b[49m\n\u001b[1;32m     97\u001b[0m \u001b[43m            \u001b[49m\u001b[43mdata_loader\u001b[49m\u001b[38;5;241;43m=\u001b[39;49m\u001b[43mval_paths_data_loader\u001b[49m\u001b[43m,\u001b[49m\n\u001b[1;32m     98\u001b[0m \u001b[43m            \u001b[49m\u001b[43mmodel\u001b[49m\u001b[38;5;241;43m=\u001b[39;49m\u001b[43mmodel\u001b[49m\u001b[43m,\u001b[49m\n\u001b[1;32m     99\u001b[0m \u001b[43m            \u001b[49m\u001b[43mloss_fn\u001b[49m\u001b[38;5;241;43m=\u001b[39;49m\u001b[43mloss_fn\u001b[49m\u001b[43m,\u001b[49m\n\u001b[1;32m    100\u001b[0m \u001b[43m            \u001b[49m\u001b[43mmetric_fns\u001b[49m\u001b[38;5;241;43m=\u001b[39;49m\u001b[43mmetric_fns\u001b[49m\u001b[43m,\u001b[49m\n\u001b[1;32m    101\u001b[0m \u001b[43m            \u001b[49m\u001b[43mdevice\u001b[49m\u001b[38;5;241;43m=\u001b[39;49m\u001b[43mdevice\u001b[49m\u001b[43m,\u001b[49m\n\u001b[1;32m    102\u001b[0m \u001b[43m            \u001b[49m\u001b[43mcushion\u001b[49m\u001b[38;5;241;43m=\u001b[39;49m\u001b[43mcushion\u001b[49m\u001b[43m,\u001b[49m\n\u001b[1;32m    103\u001b[0m \u001b[43m            \u001b[49m\u001b[43mdebug\u001b[49m\u001b[38;5;241;43m=\u001b[39;49m\u001b[38;5;28;43;01mTrue\u001b[39;49;00m\u001b[43m)\u001b[49m\n\u001b[1;32m    104\u001b[0m     bump_amount_dictionary[n_target_predictions] \u001b[38;5;241m=\u001b[39m bump_amount\n\u001b[1;32m    106\u001b[0m \u001b[38;5;66;03m# Write trial path to list\u001b[39;00m\n",
      "Cell \u001b[0;32mIn [9], line 50\u001b[0m, in \u001b[0;36mmatch_bump\u001b[0;34m(n_target_predictions, target_class_idx, bumps_preds_metrics, results_save_dir, data_loader, model, loss_fn, metric_fns, device, cushion, debug)\u001b[0m\n\u001b[1;32m     48\u001b[0m \u001b[38;5;66;03m# Ensure that the n_target_predictions > pre edit # predictions of target class\u001b[39;00m\n\u001b[1;32m     49\u001b[0m pre_edit_n_target_predictions \u001b[38;5;241m=\u001b[39m pre_edit_metrics[\u001b[38;5;124m'\u001b[39m\u001b[38;5;124mpredicted_class_distribution\u001b[39m\u001b[38;5;124m'\u001b[39m][target_class_idx]\n\u001b[0;32m---> 50\u001b[0m \u001b[38;5;28;01massert\u001b[39;00m pre_edit_n_target_predictions \u001b[38;5;241m<\u001b[39m n_target_predictions, \\\n\u001b[1;32m     51\u001b[0m     \u001b[38;5;124m\"\u001b[39m\u001b[38;5;124mn_target_predictions (\u001b[39m\u001b[38;5;132;01m{}\u001b[39;00m\u001b[38;5;124m) must be greater than pre-edit n_target_predictions (\u001b[39m\u001b[38;5;132;01m{}\u001b[39;00m\u001b[38;5;124m)\u001b[39m\u001b[38;5;124m\"\u001b[39m\u001b[38;5;241m.\u001b[39mformat(n_target_predictions, pre_edit_n_target_predictions) \n\u001b[1;32m     52\u001b[0m n_predictions_total \u001b[38;5;241m=\u001b[39m np\u001b[38;5;241m.\u001b[39msum(pre_edit_metrics[\u001b[38;5;124m'\u001b[39m\u001b[38;5;124mpredicted_class_distribution\u001b[39m\u001b[38;5;124m'\u001b[39m])\n\u001b[1;32m     53\u001b[0m \u001b[38;5;28;01massert\u001b[39;00m n_target_predictions \u001b[38;5;241m<\u001b[39m\u001b[38;5;241m=\u001b[39m n_predictions_total, \\\n\u001b[1;32m     54\u001b[0m     \u001b[38;5;124m\"\u001b[39m\u001b[38;5;124mn_target_predictions (\u001b[39m\u001b[38;5;132;01m{}\u001b[39;00m\u001b[38;5;124m) must be less than total number of data in dataloader (\u001b[39m\u001b[38;5;132;01m{}\u001b[39;00m\u001b[38;5;124m)\u001b[39m\u001b[38;5;124m\"\u001b[39m\u001b[38;5;241m.\u001b[39mformat(n_target_predictions, n_predictions_total)\n",
      "\u001b[0;31mAssertionError\u001b[0m: n_target_predictions (8733) must be greater than pre-edit n_target_predictions (9027)"
     ]
    }
   ],
   "source": [
    "n_edits = 5\n",
    "cushion = 10\n",
    "original_trials_trial_paths_path = os.path.join(root_dir.format(target_class_name), 'trial_paths.txt')\n",
    "original_trial_paths = read_lists(original_trials_trial_paths_path)\n",
    "common_path = get_common_dir_path(original_trial_paths)\n",
    "\n",
    "# Data structure to store how much to bump for each n_predictions in target class\n",
    "\n",
    "bump_amount_dictionary_path = os.path.join(\n",
    "    'metadata',\n",
    "    config_dict['name'], # CINIC10_ImageNet-VGG16\n",
    "    'bump_amounts',\n",
    "    '{}_{}'.format(target_class_name, n_select),\n",
    "    'logit_bump_buffer_{}_dict.pth'.format(cushion))\n",
    "\n",
    "if os.path.isfile(bump_amount_dictionary_path):\n",
    "    bump_amount_dictionary = torch.load(bump_amount_dictionary_path)\n",
    "else:\n",
    "    bump_amount_dictionary = {}\n",
    "\n",
    "    \n",
    "# Store histogram information\n",
    "bumps_preds_metrics_path = os.path.join(\n",
    "    \"saved/edit/experiments/bump_edits\",\n",
    "    \"bumps_preds_metrics\",\n",
    "    \"{}_{}_bumps_preds_metrics.pth\".format(target_class_name, n_select))\n",
    "bumps_preds_metrics = torch.load(bumps_preds_metrics_path)\n",
    "\n",
    "# Create directories and paths\n",
    "result_root = os.path.join(\n",
    "        os.path.dirname(os.path.dirname(config.save_dir)), \n",
    "        save_timestamp, \n",
    "        '{}_{}'.format(target_class_name, n_select))\n",
    "ensure_dir(result_root)\n",
    "progress_report_path = os.path.join(result_root, 'progress_reports.txt')\n",
    "# Create file to store paths\n",
    "logit_bump_trial_paths_path = os.path.join(result_root, 'trial_paths.txt')\n",
    "if os.path.isfile(logit_bump_trial_paths_path):\n",
    "    os.remove(logit_bump_trial_paths_path)\n",
    "    \n",
    "# Iterate through all trial paths\n",
    "for trial_idx, trial_path in enumerate(original_trial_paths):\n",
    "    # Obtain trial ID and create save directory for logit bump results\n",
    "    trial_id = trial_path[len(common_path)+1:]\n",
    "    logit_bump_trial_save_dir = os.path.join(\n",
    "        result_root,\n",
    "        'results',\n",
    "        trial_id,\n",
    "        'models')\n",
    "    ensure_dir(logit_bump_trial_save_dir)\n",
    "    \n",
    "    # Obtain desired n_target_predictions\n",
    "    trial_post_edit_metrics_path = os.path.join(\n",
    "        trial_path,\n",
    "        'models',\n",
    "        'post_edit_metrics.pth')\n",
    "    trial_post_edit_metrics = torch.load(trial_post_edit_metrics_path)\n",
    "    n_target_predictions = trial_post_edit_metrics['predicted_class_distribution'][target_class_idx]\n",
    "    # If bump amount is in dictionary, obtain that value\n",
    "    if n_target_predictions in bump_amount_dictionary:\n",
    "        \n",
    "        informal_log(\"[{}] Found corresponding logit bump for {} in dictionary ({}/{})\".format(\n",
    "            datetime.now().strftime(r'%m%d_%H%M%S'),\n",
    "            trial_id,\n",
    "            trial_idx + 1,\n",
    "            len(original_trial_paths)), progress_report_path)\n",
    "        bump_amount = bump_amount_dictionary[n_target_predictions]\n",
    "        \n",
    "        log = predict_with_bump(\n",
    "            data_loader=val_paths_data_loader,\n",
    "            model=model,\n",
    "            loss_fn=loss_fn,\n",
    "            metric_fns=metric_fns,\n",
    "            device=device,\n",
    "            target_class_idx=target_class_idx,\n",
    "            bump_amount=bump_amount,\n",
    "            output_save_path=os.path.join(logit_bump_trial_save_dir, \"post_edit_logits.pth\"),\n",
    "            log_save_path=os.path.join(logit_bump_trial_save_dir, \"post_edit_metrics.pth\"))\n",
    "        # Sanity check that the n_target_predictions with bump is within buffer of target\n",
    "        bump_n_target_predictions = log['predicted_class_distribution'][target_class_idx]\n",
    "        assert abs(n_target_predictions - bump_n_target_predictions) <= cushion\n",
    "        \n",
    "        \n",
    "    else:\n",
    "        informal_log(\"[{}] Creating corresponding logit bump for {} ({}/{})\".format(\n",
    "            datetime.now().strftime(r'%m%d_%H%M%S'),\n",
    "            trial_id,\n",
    "            trial_idx + 1,\n",
    "            len(original_trial_paths)), progress_report_path)\n",
    "        # Find corresponding bump amount\n",
    "        bump_amount, n_target_predictions, metrics = \\\n",
    "            match_bump(\n",
    "                n_target_predictions=n_target_predictions,\n",
    "                target_class_idx=target_class_idx,\n",
    "                bumps_preds_metrics=bumps_preds_metrics,\n",
    "                results_save_dir=logit_bump_trial_save_dir,\n",
    "                data_loader=val_paths_data_loader,\n",
    "                model=model,\n",
    "                loss_fn=loss_fn,\n",
    "                metric_fns=metric_fns,\n",
    "                device=device,\n",
    "                cushion=cushion,\n",
    "                debug=True)\n",
    "        bump_amount_dictionary[n_target_predictions] = bump_amount\n",
    "\n",
    "    # Write trial path to list\n",
    "    informal_log(os.path.dirname(logit_bump_trial_save_dir), logit_bump_trial_paths_path)\n",
    "\n",
    "# Update the bump dictionary on file\n",
    "ensure_dir(os.path.dirname(bump_amount_dictionary_path))\n",
    "torch.save(bump_amount_dictionary, bump_amount_dictionary_path)"
   ]
  },
  {
   "cell_type": "code",
   "execution_count": 18,
   "metadata": {},
   "outputs": [],
   "source": [
    "ensure_dir(os.path.dirname(bump_amount_dictionary_path))\n",
    "torch.save(bump_amount_dictionary, bump_amount_dictionary_path)"
   ]
  },
  {
   "cell_type": "markdown",
   "metadata": {},
   "source": [
    "### Replicate bump results on a coarse bin level (repeat bins)"
   ]
  },
  {
   "cell_type": "code",
   "execution_count": 41,
   "metadata": {},
   "outputs": [],
   "source": [
    "# def replicate_bump_results(bumps_preds_metrics,\n",
    "#                            target_class_distribution,\n",
    "#                            results_save_dir,\n",
    "#                            trial_paths_path):\n",
    "#     '''\n",
    "#     Given how much to bump logit by to match target class distribution, create results for each tiral\n",
    "    \n",
    "#     Arg(s):\n",
    "#         bumps_preds_metrics : dict\n",
    "#             result of match_bump_edits()\n",
    "#         target_class_distribution : dict\n",
    "#             histogram data, result from save_class_distribution()\n",
    "#         results_save_dir : str\n",
    "#             location of results folder\n",
    "#         trial_paths_path : str\n",
    "#             path to file to store paths to each trial\n",
    "            \n",
    "#     '''\n",
    "#     pre_edit_metrics = bumps_preds_metrics['pre_edit_metrics']\n",
    "    \n",
    "#     metrics = bumps_preds_metrics['metrics']\n",
    "#     bin_values = target_class_distribution['histogram_bin_values']\n",
    "#     bins = target_class_distribution['histogram_bins']\n",
    "#     bin_lows = bins[:-1]\n",
    "#     bin_highs = bins[1:]\n",
    "\n",
    "#     trial_paths = []\n",
    "#     for bin_idx, bin_value in enumerate(tqdm(bin_values)):\n",
    "#         n_repeat = int(bin_value)\n",
    "#         if n_repeat == 0:\n",
    "#             continue\n",
    "            \n",
    "#         # Obtain post edit metrics\n",
    "#         post_edit_metrics = metrics[bin_idx]\n",
    "        \n",
    "#         for itr in range(n_repeat):\n",
    "#             # Create directory for this trial\n",
    "#             trial_id = 'bin_{}_{}_itr_{}'.format(bin_lows[bin_idx], bin_highs[bin_idx], itr)\n",
    "#             trial_dir = os.path.join(results_save_dir, trial_id)\n",
    "            \n",
    "#             # Log path to trial_paths.txt\n",
    "#             trial_paths.append(trial_dir)\n",
    "            \n",
    "#             trial_save_dir = os.path.join(trial_dir, 'models')\n",
    "#             ensure_dir(trial_save_dir)\n",
    "#             # Save pre edit metrics\n",
    "#             torch.save(pre_edit_metrics, os.path.join(trial_save_dir, 'pre_edit_metrics.pth'))\n",
    "#             # Save post edit metrics\n",
    "#             torch.save(post_edit_metrics, os.path.join(trial_save_dir, 'post_edit_metrics.pth'))\n",
    "        \n",
    "#     return trial_paths\n",
    "\n",
    "# def replicate_bump_noise_results(bumps_preds_metrics,\n",
    "#                                  target_class_distribution,\n",
    "#                                  results_save_dir,\n",
    "#                                  trial_paths_path,\n",
    "#                                  progress_report_path,\n",
    "#                                  # noise_edit=False,\n",
    "#                                  target_class_idx,\n",
    "#                                  config,\n",
    "#                                  data_loader,\n",
    "#                                  loss_fn,\n",
    "#                                  metrics_fns,\n",
    "#                                  editor,\n",
    "#                                  device):\n",
    "#     '''\n",
    "#     Given how much to bump logit by to match target class distribution, create results for each tiral\n",
    "    \n",
    "#     Arg(s):\n",
    "#         bumps_preds_metrics : dict\n",
    "#             result of match_bump_edits()\n",
    "#         target_class_distribution : dict\n",
    "#             histogram data, result from save_class_distribution()\n",
    "#         results_save_dir : str\n",
    "#             location of results folder\n",
    "#         trial_paths_path : str\n",
    "#             path to file to store paths to each trial\n",
    "#         progress_report_path : str\n",
    "#             path to log progress\n",
    "#         target_class_idx : int\n",
    "#             index of target class\n",
    "#         config : return from ConfigParser\n",
    "#             config object to instantiate model from\n",
    "#         data_loader : torch.utils.data.DataLoader\n",
    "#             validation data loader to obtain metrics for\n",
    "#         loss_fn : module\n",
    "#             loss function\n",
    "#         metric_fns : list[model.metric modules]\n",
    "#             list of metric functions\n",
    "#         editor : Editor (from trainer/editor.py) or None\n",
    "#             pass in an editor if performing random edits\n",
    "#         device : torch.device\n",
    "#             GPU device to run model on\n",
    "#     '''\n",
    "#     pre_edit_metrics = bumps_preds_metrics['pre_edit_metrics']\n",
    "    \n",
    "#     bump_amounts = bumps_preds_metrics['bump_amounts']\n",
    "#     metrics = bumps_preds_metrics['metrics']\n",
    "#     bin_values = target_class_distribution['histogram_bin_values']\n",
    "#     bins = target_class_distribution['histogram_bins']\n",
    "#     bin_lows = bins[:-1]\n",
    "#     bin_highs = bins[1:]\n",
    "\n",
    "#     trial_paths = []\n",
    "    \n",
    "#     layernum = config.config['layernum']\n",
    "#     # if noise_edit:\n",
    "#     #     assert target_class_idx is not None\n",
    "#     #     assert config is not None\n",
    "#     #     assert data_loader is not None\n",
    "#     #     assert loss_fn is not None\n",
    "#     #     assert metrics_fns is not None\n",
    "#     #     assert editor is not None\n",
    "#     #     assert device is not None\n",
    "        \n",
    "#     for bin_idx, bin_value in enumerate(bin_values):\n",
    "#         n_repeat = int(bin_value)\n",
    "#         if n_repeat == 0:\n",
    "#             continue\n",
    "            \n",
    "#         informal_log(\"Bin {} [{}, {})\".format(bin_idx, bin_lows[bin_idx], bin_highs[bin_idx]), progress_report_path)\n",
    "#         for itr in range(n_repeat):\n",
    "#             informal_log(\"\\tItr {}/{}\".format(itr+1, n_repeat), progress_report_path)\n",
    "#             # Create directory for this trial\n",
    "#             trial_id = 'bin_{}_{}_itr_{}'.format(bin_lows[bin_idx], bin_highs[bin_idx], itr)\n",
    "#             trial_dir = os.path.join(results_save_dir, trial_id)\n",
    "\n",
    "#             # Log path to trial_paths.txt\n",
    "#             trial_paths.append(trial_dir)\n",
    "#             informal_log(trial_dir, trial_paths_path)\n",
    "#             # Create save directories, save pre_edit_metrics\n",
    "#             trial_save_dir = os.path.join(trial_dir, 'models')\n",
    "#             pre_edit_metrics_save_path = os.path.join(trial_save_dir, 'pre_edit_metrics.pth')\n",
    "#             post_edit_metrics_save_path = os.path.join(trial_save_dir, 'post_edit_metrics.pth')\n",
    "#             ensure_dir(trial_save_dir)\n",
    "#             # Save pre edit metrics\n",
    "#             torch.save(pre_edit_metrics, pre_edit_metrics_save_path)\n",
    "#             if not noise_edit:\n",
    "#                 # Save calculated post edit metrics\n",
    "#                 # Obtain and save post edit metrics\n",
    "#                 post_edit_metrics = metrics[bin_idx]\n",
    "#                 torch.save(post_edit_metrics, post_edit_metrics_save_path)\n",
    "                \n",
    "#             else:\n",
    "#                 # Load in fresh model\n",
    "                \n",
    "#                 model = config.init_obj('arch', module_arch, layernum=layernum, device=device)\n",
    "#                 model.eval()\n",
    "                \n",
    "#                 # edit model with noise\n",
    "#                 editor.noise_edit(model=model)\n",
    "                \n",
    "#                 # obtain bump amount\n",
    "#                 bump_amount = bump_amounts[bin_idx]\n",
    "#                 log = predict_with_bump(\n",
    "#                     data_loader=data_loader,\n",
    "#                     model=model,\n",
    "#                     loss_fn=loss_fn,\n",
    "#                     metric_fns=metric_fns,\n",
    "#                     device=device,\n",
    "#                     target_class_idx=target_class_idx,\n",
    "#                     bump_amount=bump_amount,\n",
    "#                     save_path=post_edit_metrics_save_path)\n",
    "            \n",
    "                \n",
    "                \n",
    "#     return trial_paths"
   ]
  },
  {
   "cell_type": "code",
   "execution_count": 45,
   "metadata": {
    "scrolled": true,
    "tags": []
   },
   "outputs": [
    {
     "name": "stdout",
     "output_type": "stream",
     "text": [
      "Performing bump-noise edits for airplane class\n",
      "Trial paths stored at saved/edit/experiments/bump_edits/CINIC10_ImageNet-VGG_16/0208_112555/airplane_100/bump_noise/trial_paths.txt\n",
      "Results will be saved to saved/edit/experiments/bump_edits/CINIC10_ImageNet-VGG_16/0208_112555/airplane_100/bump_noise/results\n",
      "True\n",
      "Bin 0 [7014.0, 7533.62)\n",
      "\tItr 1/3\n",
      "L2 norm of weight change: 4.605295658111572\n",
      "pre_edit_weights id: 139767148232848 mean: 1.063853324012598e-05\n",
      "post_edit_weights id: 139767144758304 mean: 1.1618755706876982e-05\n",
      "are the tensors equal: False\n"
     ]
    },
    {
     "name": "stderr",
     "output_type": "stream",
     "text": [
      "100%|█████████████████████████████████████████████████████████████████████| 274/274 [05:06<00:00,  1.12s/it]\n"
     ]
    },
    {
     "name": "stdout",
     "output_type": "stream",
     "text": [
      "\tItr 2/3\n",
      "L2 norm of weight change: 4.608025550842285\n",
      "pre_edit_weights id: 139767148688864 mean: 1.063853324012598e-05\n",
      "post_edit_weights id: 139767144073552 mean: 8.5252804638003e-06\n",
      "are the tensors equal: False\n"
     ]
    },
    {
     "name": "stderr",
     "output_type": "stream",
     "text": [
      "100%|█████████████████████████████████████████████████████████████████████| 274/274 [00:09<00:00, 29.02it/s]\n"
     ]
    },
    {
     "name": "stdout",
     "output_type": "stream",
     "text": [
      "\tItr 3/3\n",
      "L2 norm of weight change: 4.610196590423584\n",
      "pre_edit_weights id: 139767230537296 mean: 1.063853324012598e-05\n",
      "post_edit_weights id: 139767144108496 mean: 1.4323152754514012e-05\n",
      "are the tensors equal: False\n"
     ]
    },
    {
     "name": "stderr",
     "output_type": "stream",
     "text": [
      "100%|█████████████████████████████████████████████████████████████████████| 274/274 [00:07<00:00, 38.05it/s]\n"
     ]
    },
    {
     "name": "stdout",
     "output_type": "stream",
     "text": [
      "Bin 1 [7533.62, 8053.24)\n",
      "\tItr 1/4\n",
      "L2 norm of weight change: 4.609846115112305\n",
      "pre_edit_weights id: 139767230972768 mean: 1.063853324012598e-05\n",
      "post_edit_weights id: 139767148455152 mean: 7.794899829605129e-06\n",
      "are the tensors equal: False\n"
     ]
    },
    {
     "name": "stderr",
     "output_type": "stream",
     "text": [
      "100%|█████████████████████████████████████████████████████████████████████| 274/274 [00:07<00:00, 34.35it/s]\n"
     ]
    },
    {
     "name": "stdout",
     "output_type": "stream",
     "text": [
      "\tItr 2/4\n",
      "L2 norm of weight change: 4.607097148895264\n",
      "pre_edit_weights id: 139767144538256 mean: 1.063853324012598e-05\n",
      "post_edit_weights id: 139767233238416 mean: 1.0431643204356078e-05\n",
      "are the tensors equal: False\n"
     ]
    },
    {
     "name": "stderr",
     "output_type": "stream",
     "text": [
      "100%|█████████████████████████████████████████████████████████████████████| 274/274 [00:07<00:00, 35.03it/s]\n"
     ]
    },
    {
     "name": "stdout",
     "output_type": "stream",
     "text": [
      "\tItr 3/4\n",
      "L2 norm of weight change: 4.607219219207764\n",
      "pre_edit_weights id: 139767230600352 mean: 1.063853324012598e-05\n",
      "post_edit_weights id: 139767144074432 mean: 1.1273381460341625e-05\n",
      "are the tensors equal: False\n"
     ]
    },
    {
     "name": "stderr",
     "output_type": "stream",
     "text": [
      "100%|█████████████████████████████████████████████████████████████████████| 274/274 [00:08<00:00, 33.01it/s]\n"
     ]
    },
    {
     "name": "stdout",
     "output_type": "stream",
     "text": [
      "\tItr 4/4\n",
      "L2 norm of weight change: 4.611595153808594\n",
      "pre_edit_weights id: 139767148656016 mean: 1.063853324012598e-05\n",
      "post_edit_weights id: 139767148254208 mean: 9.202978617395274e-06\n",
      "are the tensors equal: False\n"
     ]
    },
    {
     "name": "stderr",
     "output_type": "stream",
     "text": [
      "100%|█████████████████████████████████████████████████████████████████████| 274/274 [00:07<00:00, 35.22it/s]\n"
     ]
    },
    {
     "name": "stdout",
     "output_type": "stream",
     "text": [
      "Bin 2 [8053.24, 8572.86)\n",
      "\tItr 1/4\n",
      "L2 norm of weight change: 4.608113765716553\n",
      "pre_edit_weights id: 139767148655136 mean: 1.063853324012598e-05\n",
      "post_edit_weights id: 139767148325840 mean: 1.1324676052026916e-05\n",
      "are the tensors equal: False\n"
     ]
    },
    {
     "name": "stderr",
     "output_type": "stream",
     "text": [
      "100%|█████████████████████████████████████████████████████████████████████| 274/274 [00:07<00:00, 38.36it/s]\n"
     ]
    },
    {
     "name": "stdout",
     "output_type": "stream",
     "text": [
      "\tItr 2/4\n",
      "L2 norm of weight change: 4.608646869659424\n",
      "pre_edit_weights id: 139767230542128 mean: 1.063853324012598e-05\n",
      "post_edit_weights id: 139767144644336 mean: 1.158817030955106e-05\n",
      "are the tensors equal: False\n"
     ]
    },
    {
     "name": "stderr",
     "output_type": "stream",
     "text": [
      "100%|█████████████████████████████████████████████████████████████████████| 274/274 [00:09<00:00, 28.26it/s]\n"
     ]
    },
    {
     "name": "stdout",
     "output_type": "stream",
     "text": [
      "\tItr 3/4\n",
      "L2 norm of weight change: 4.606595516204834\n",
      "pre_edit_weights id: 139767234652496 mean: 1.063853324012598e-05\n",
      "post_edit_weights id: 139767144047056 mean: 1.1293757779640146e-05\n",
      "are the tensors equal: False\n"
     ]
    },
    {
     "name": "stderr",
     "output_type": "stream",
     "text": [
      "100%|█████████████████████████████████████████████████████████████████████| 274/274 [00:10<00:00, 25.07it/s]\n"
     ]
    },
    {
     "name": "stdout",
     "output_type": "stream",
     "text": [
      "\tItr 4/4\n",
      "L2 norm of weight change: 4.604042053222656\n",
      "pre_edit_weights id: 139767233226848 mean: 1.063853324012598e-05\n",
      "post_edit_weights id: 139767144047296 mean: 1.142621931649046e-05\n",
      "are the tensors equal: False\n"
     ]
    },
    {
     "name": "stderr",
     "output_type": "stream",
     "text": [
      "100%|█████████████████████████████████████████████████████████████████████| 274/274 [00:07<00:00, 36.15it/s]\n"
     ]
    },
    {
     "name": "stdout",
     "output_type": "stream",
     "text": [
      "Bin 3 [8572.86, 9092.48)\n",
      "\tItr 1/6\n",
      "L2 norm of weight change: 4.606592178344727\n",
      "pre_edit_weights id: 139767228876656 mean: 1.063853324012598e-05\n",
      "post_edit_weights id: 139767144048496 mean: 1.0943435881927144e-05\n",
      "are the tensors equal: False\n"
     ]
    },
    {
     "name": "stderr",
     "output_type": "stream",
     "text": [
      "100%|█████████████████████████████████████████████████████████████████████| 274/274 [00:07<00:00, 38.73it/s]\n"
     ]
    },
    {
     "name": "stdout",
     "output_type": "stream",
     "text": [
      "\tItr 2/6\n",
      "L2 norm of weight change: 4.608302116394043\n",
      "pre_edit_weights id: 139767228735376 mean: 1.063853324012598e-05\n",
      "post_edit_weights id: 139767148390496 mean: 1.2463201528589707e-05\n",
      "are the tensors equal: False\n"
     ]
    },
    {
     "name": "stderr",
     "output_type": "stream",
     "text": [
      "100%|█████████████████████████████████████████████████████████████████████| 274/274 [00:06<00:00, 43.10it/s]\n"
     ]
    },
    {
     "name": "stdout",
     "output_type": "stream",
     "text": [
      "\tItr 3/6\n",
      "L2 norm of weight change: 4.606703758239746\n",
      "pre_edit_weights id: 139767228637888 mean: 1.063853324012598e-05\n",
      "post_edit_weights id: 139767144048896 mean: 1.1236452337470837e-05\n",
      "are the tensors equal: False\n"
     ]
    },
    {
     "name": "stderr",
     "output_type": "stream",
     "text": [
      "100%|█████████████████████████████████████████████████████████████████████| 274/274 [00:06<00:00, 41.84it/s]\n"
     ]
    },
    {
     "name": "stdout",
     "output_type": "stream",
     "text": [
      "\tItr 4/6\n",
      "L2 norm of weight change: 4.610841751098633\n",
      "pre_edit_weights id: 139767228640688 mean: 1.063853324012598e-05\n",
      "post_edit_weights id: 139767144596960 mean: 1.1095085028500762e-05\n",
      "are the tensors equal: False\n"
     ]
    },
    {
     "name": "stderr",
     "output_type": "stream",
     "text": [
      "100%|█████████████████████████████████████████████████████████████████████| 274/274 [00:06<00:00, 39.36it/s]\n"
     ]
    },
    {
     "name": "stdout",
     "output_type": "stream",
     "text": [
      "\tItr 5/6\n",
      "L2 norm of weight change: 4.613918781280518\n",
      "pre_edit_weights id: 139767228876656 mean: 1.063853324012598e-05\n",
      "post_edit_weights id: 139767148390816 mean: 9.15138025447959e-06\n",
      "are the tensors equal: False\n"
     ]
    },
    {
     "name": "stderr",
     "output_type": "stream",
     "text": [
      "100%|█████████████████████████████████████████████████████████████████████| 274/274 [00:10<00:00, 27.32it/s]\n"
     ]
    },
    {
     "name": "stdout",
     "output_type": "stream",
     "text": [
      "\tItr 6/6\n",
      "L2 norm of weight change: 4.610691070556641\n",
      "pre_edit_weights id: 139767230537296 mean: 1.063853324012598e-05\n",
      "post_edit_weights id: 139767144072272 mean: 1.2601401067513507e-05\n",
      "are the tensors equal: False\n"
     ]
    },
    {
     "name": "stderr",
     "output_type": "stream",
     "text": [
      "100%|█████████████████████████████████████████████████████████████████████| 274/274 [00:07<00:00, 34.44it/s]\n"
     ]
    },
    {
     "name": "stdout",
     "output_type": "stream",
     "text": [
      "Bin 4 [9092.48, 9612.1)\n",
      "\tItr 1/7\n",
      "L2 norm of weight change: 4.606906414031982\n",
      "pre_edit_weights id: 139767148375472 mean: 1.063853324012598e-05\n",
      "post_edit_weights id: 139767148256128 mean: 1.0422145351185463e-05\n",
      "are the tensors equal: False\n"
     ]
    },
    {
     "name": "stderr",
     "output_type": "stream",
     "text": [
      "100%|█████████████████████████████████████████████████████████████████████| 274/274 [00:10<00:00, 27.17it/s]\n"
     ]
    },
    {
     "name": "stdout",
     "output_type": "stream",
     "text": [
      "\tItr 2/7\n",
      "L2 norm of weight change: 4.608543395996094\n",
      "pre_edit_weights id: 139767230537296 mean: 1.063853324012598e-05\n",
      "post_edit_weights id: 139767144074592 mean: 9.2511618277058e-06\n",
      "are the tensors equal: False\n"
     ]
    },
    {
     "name": "stderr",
     "output_type": "stream",
     "text": [
      "100%|█████████████████████████████████████████████████████████████████████| 274/274 [00:07<00:00, 35.66it/s]\n"
     ]
    },
    {
     "name": "stdout",
     "output_type": "stream",
     "text": [
      "\tItr 3/7\n",
      "L2 norm of weight change: 4.608242034912109\n",
      "pre_edit_weights id: 139767233226848 mean: 1.063853324012598e-05\n",
      "post_edit_weights id: 139767144048016 mean: 1.1758337677747477e-05\n",
      "are the tensors equal: False\n"
     ]
    },
    {
     "name": "stderr",
     "output_type": "stream",
     "text": [
      "100%|█████████████████████████████████████████████████████████████████████| 274/274 [00:08<00:00, 32.23it/s]\n"
     ]
    },
    {
     "name": "stdout",
     "output_type": "stream",
     "text": [
      "\tItr 4/7\n",
      "L2 norm of weight change: 4.6071882247924805\n",
      "pre_edit_weights id: 139767231253456 mean: 1.063853324012598e-05\n",
      "post_edit_weights id: 139767144049856 mean: 1.0282374205417e-05\n",
      "are the tensors equal: False\n"
     ]
    },
    {
     "name": "stderr",
     "output_type": "stream",
     "text": [
      "100%|█████████████████████████████████████████████████████████████████████| 274/274 [00:10<00:00, 25.42it/s]\n"
     ]
    },
    {
     "name": "stdout",
     "output_type": "stream",
     "text": [
      "\tItr 5/7\n",
      "L2 norm of weight change: 4.610478401184082\n",
      "pre_edit_weights id: 139767228487696 mean: 1.063853324012598e-05\n",
      "post_edit_weights id: 139767144047936 mean: 9.315557690570131e-06\n",
      "are the tensors equal: False\n"
     ]
    },
    {
     "name": "stderr",
     "output_type": "stream",
     "text": [
      "100%|█████████████████████████████████████████████████████████████████████| 274/274 [00:08<00:00, 30.99it/s]\n"
     ]
    },
    {
     "name": "stdout",
     "output_type": "stream",
     "text": [
      "\tItr 6/7\n",
      "L2 norm of weight change: 4.609764575958252\n",
      "pre_edit_weights id: 139767230600352 mean: 1.063853324012598e-05\n",
      "post_edit_weights id: 139767230550480 mean: 1.2511443856055848e-05\n",
      "are the tensors equal: False\n"
     ]
    },
    {
     "name": "stderr",
     "output_type": "stream",
     "text": [
      "100%|█████████████████████████████████████████████████████████████████████| 274/274 [00:08<00:00, 31.38it/s]\n"
     ]
    },
    {
     "name": "stdout",
     "output_type": "stream",
     "text": [
      "\tItr 7/7\n",
      "L2 norm of weight change: 4.604362964630127\n",
      "pre_edit_weights id: 139767228876656 mean: 1.063853324012598e-05\n",
      "post_edit_weights id: 139767144067136 mean: 1.0733238923421595e-05\n",
      "are the tensors equal: False\n"
     ]
    },
    {
     "name": "stderr",
     "output_type": "stream",
     "text": [
      "100%|█████████████████████████████████████████████████████████████████████| 274/274 [00:13<00:00, 20.32it/s]\n"
     ]
    },
    {
     "name": "stdout",
     "output_type": "stream",
     "text": [
      "Bin 5 [9612.1, 10131.720000000001)\n",
      "\tItr 1/2\n",
      "L2 norm of weight change: 4.6088385581970215\n",
      "pre_edit_weights id: 139767148668304 mean: 1.063853324012598e-05\n",
      "post_edit_weights id: 139767144755744 mean: 8.369287570531014e-06\n",
      "are the tensors equal: False\n"
     ]
    },
    {
     "name": "stderr",
     "output_type": "stream",
     "text": [
      "100%|█████████████████████████████████████████████████████████████████████| 274/274 [00:13<00:00, 19.76it/s]\n"
     ]
    },
    {
     "name": "stdout",
     "output_type": "stream",
     "text": [
      "\tItr 2/2\n",
      "L2 norm of weight change: 4.607847213745117\n",
      "pre_edit_weights id: 139767148667824 mean: 1.063853324012598e-05\n",
      "post_edit_weights id: 139767144049296 mean: 1.1616995834629051e-05\n",
      "are the tensors equal: False\n"
     ]
    },
    {
     "name": "stderr",
     "output_type": "stream",
     "text": [
      "100%|█████████████████████████████████████████████████████████████████████| 274/274 [00:11<00:00, 24.26it/s]\n"
     ]
    },
    {
     "name": "stdout",
     "output_type": "stream",
     "text": [
      "Bin 6 [10131.720000000001, 10651.34)\n",
      "\tItr 1/7\n",
      "L2 norm of weight change: 4.607789516448975\n",
      "pre_edit_weights id: 139767228487696 mean: 1.063853324012598e-05\n",
      "post_edit_weights id: 139767144755824 mean: 1.003602119453717e-05\n",
      "are the tensors equal: False\n"
     ]
    },
    {
     "name": "stderr",
     "output_type": "stream",
     "text": [
      "100%|█████████████████████████████████████████████████████████████████████| 274/274 [00:08<00:00, 30.71it/s]\n"
     ]
    },
    {
     "name": "stdout",
     "output_type": "stream",
     "text": [
      "\tItr 2/7\n",
      "L2 norm of weight change: 4.609366416931152\n",
      "pre_edit_weights id: 139767234652496 mean: 1.063853324012598e-05\n",
      "post_edit_weights id: 139767148255648 mean: 1.609582432138268e-05\n",
      "are the tensors equal: False\n"
     ]
    },
    {
     "name": "stderr",
     "output_type": "stream",
     "text": [
      "100%|█████████████████████████████████████████████████████████████████████| 274/274 [00:06<00:00, 41.25it/s]\n"
     ]
    },
    {
     "name": "stdout",
     "output_type": "stream",
     "text": [
      "\tItr 3/7\n",
      "L2 norm of weight change: 4.604387283325195\n",
      "pre_edit_weights id: 139767230972768 mean: 1.063853324012598e-05\n",
      "post_edit_weights id: 139767144597280 mean: 1.2488972060964443e-05\n",
      "are the tensors equal: False\n"
     ]
    },
    {
     "name": "stderr",
     "output_type": "stream",
     "text": [
      "100%|█████████████████████████████████████████████████████████████████████| 274/274 [00:07<00:00, 36.47it/s]\n"
     ]
    },
    {
     "name": "stdout",
     "output_type": "stream",
     "text": [
      "\tItr 4/7\n",
      "L2 norm of weight change: 4.611557960510254\n",
      "pre_edit_weights id: 139767228735376 mean: 1.063853324012598e-05\n",
      "post_edit_weights id: 139767148388656 mean: 1.1889516827068292e-05\n",
      "are the tensors equal: False\n"
     ]
    },
    {
     "name": "stderr",
     "output_type": "stream",
     "text": [
      "100%|█████████████████████████████████████████████████████████████████████| 274/274 [00:07<00:00, 36.60it/s]\n"
     ]
    },
    {
     "name": "stdout",
     "output_type": "stream",
     "text": [
      "\tItr 5/7\n",
      "L2 norm of weight change: 4.607230186462402\n",
      "pre_edit_weights id: 139767233266048 mean: 1.063853324012598e-05\n",
      "post_edit_weights id: 139767144047936 mean: 9.812231837713625e-06\n",
      "are the tensors equal: False\n"
     ]
    },
    {
     "name": "stderr",
     "output_type": "stream",
     "text": [
      "100%|█████████████████████████████████████████████████████████████████████| 274/274 [00:08<00:00, 31.23it/s]\n"
     ]
    },
    {
     "name": "stdout",
     "output_type": "stream",
     "text": [
      "\tItr 6/7\n",
      "L2 norm of weight change: 4.610021114349365\n",
      "pre_edit_weights id: 139767228735376 mean: 1.063853324012598e-05\n",
      "post_edit_weights id: 139767148398928 mean: 1.266344861505786e-05\n",
      "are the tensors equal: False\n"
     ]
    },
    {
     "name": "stderr",
     "output_type": "stream",
     "text": [
      "100%|█████████████████████████████████████████████████████████████████████| 274/274 [00:10<00:00, 25.00it/s]\n"
     ]
    },
    {
     "name": "stdout",
     "output_type": "stream",
     "text": [
      "\tItr 7/7\n",
      "L2 norm of weight change: 4.608645915985107\n",
      "pre_edit_weights id: 139767233266048 mean: 1.063853324012598e-05\n",
      "post_edit_weights id: 139767144049456 mean: 1.0576623026281595e-05\n",
      "are the tensors equal: False\n"
     ]
    },
    {
     "name": "stderr",
     "output_type": "stream",
     "text": [
      "100%|█████████████████████████████████████████████████████████████████████| 274/274 [00:07<00:00, 37.49it/s]\n"
     ]
    },
    {
     "name": "stdout",
     "output_type": "stream",
     "text": [
      "Bin 7 [10651.34, 11170.96)\n",
      "\tItr 1/6\n",
      "L2 norm of weight change: 4.609301567077637\n",
      "pre_edit_weights id: 139767228487696 mean: 1.063853324012598e-05\n",
      "post_edit_weights id: 139767144643776 mean: 1.0869341167563107e-05\n",
      "are the tensors equal: False\n"
     ]
    },
    {
     "name": "stderr",
     "output_type": "stream",
     "text": [
      "100%|█████████████████████████████████████████████████████████████████████| 274/274 [00:06<00:00, 42.49it/s]\n"
     ]
    },
    {
     "name": "stdout",
     "output_type": "stream",
     "text": [
      "\tItr 2/6\n",
      "L2 norm of weight change: 4.609157562255859\n",
      "pre_edit_weights id: 139767230600352 mean: 1.063853324012598e-05\n",
      "post_edit_weights id: 139767144050416 mean: 1.0237558853987139e-05\n",
      "are the tensors equal: False\n"
     ]
    },
    {
     "name": "stderr",
     "output_type": "stream",
     "text": [
      "100%|█████████████████████████████████████████████████████████████████████| 274/274 [00:07<00:00, 36.13it/s]\n"
     ]
    },
    {
     "name": "stdout",
     "output_type": "stream",
     "text": [
      "\tItr 3/6\n",
      "L2 norm of weight change: 4.606231212615967\n",
      "pre_edit_weights id: 139767148688864 mean: 1.063853324012598e-05\n",
      "post_edit_weights id: 139767144756464 mean: 8.400765182159375e-06\n",
      "are the tensors equal: False\n"
     ]
    },
    {
     "name": "stderr",
     "output_type": "stream",
     "text": [
      "100%|█████████████████████████████████████████████████████████████████████| 274/274 [00:08<00:00, 32.43it/s]\n"
     ]
    },
    {
     "name": "stdout",
     "output_type": "stream",
     "text": [
      "\tItr 4/6\n",
      "L2 norm of weight change: 4.60938024520874\n",
      "pre_edit_weights id: 139767233226608 mean: 1.063853324012598e-05\n",
      "post_edit_weights id: 139767144770272 mean: 1.2539521776488982e-05\n",
      "are the tensors equal: False\n"
     ]
    },
    {
     "name": "stderr",
     "output_type": "stream",
     "text": [
      "100%|█████████████████████████████████████████████████████████████████████| 274/274 [00:07<00:00, 38.98it/s]\n"
     ]
    },
    {
     "name": "stdout",
     "output_type": "stream",
     "text": [
      "\tItr 5/6\n",
      "L2 norm of weight change: 4.609138011932373\n",
      "pre_edit_weights id: 139767228487696 mean: 1.063853324012598e-05\n",
      "post_edit_weights id: 139767231343168 mean: 1.0963366548821796e-05\n",
      "are the tensors equal: False\n"
     ]
    },
    {
     "name": "stderr",
     "output_type": "stream",
     "text": [
      "100%|█████████████████████████████████████████████████████████████████████| 274/274 [00:07<00:00, 38.91it/s]\n"
     ]
    },
    {
     "name": "stdout",
     "output_type": "stream",
     "text": [
      "\tItr 6/6\n",
      "L2 norm of weight change: 4.605825901031494\n",
      "pre_edit_weights id: 139767148326560 mean: 1.063853324012598e-05\n",
      "post_edit_weights id: 139767144083264 mean: 1.1343200640112627e-05\n",
      "are the tensors equal: False\n"
     ]
    },
    {
     "name": "stderr",
     "output_type": "stream",
     "text": [
      "100%|█████████████████████████████████████████████████████████████████████| 274/274 [00:09<00:00, 29.92it/s]\n"
     ]
    },
    {
     "name": "stdout",
     "output_type": "stream",
     "text": [
      "Bin 8 [11170.96, 11690.58)\n",
      "\tItr 1/2\n",
      "L2 norm of weight change: 4.605257511138916\n",
      "pre_edit_weights id: 139766850580048 mean: 1.063853324012598e-05\n",
      "post_edit_weights id: 139767144082624 mean: 9.274422154703643e-06\n",
      "are the tensors equal: False\n"
     ]
    },
    {
     "name": "stderr",
     "output_type": "stream",
     "text": [
      "100%|█████████████████████████████████████████████████████████████████████| 274/274 [00:14<00:00, 19.24it/s]\n"
     ]
    },
    {
     "name": "stdout",
     "output_type": "stream",
     "text": [
      "\tItr 2/2\n",
      "L2 norm of weight change: 4.609261512756348\n",
      "pre_edit_weights id: 139767228641008 mean: 1.063853324012598e-05\n",
      "post_edit_weights id: 139767148254528 mean: 1.0291597391187679e-05\n",
      "are the tensors equal: False\n"
     ]
    },
    {
     "name": "stderr",
     "output_type": "stream",
     "text": [
      "100%|█████████████████████████████████████████████████████████████████████| 274/274 [00:09<00:00, 28.07it/s]\n"
     ]
    },
    {
     "name": "stdout",
     "output_type": "stream",
     "text": [
      "Bin 9 [11690.58, 12210.2)\n",
      "\tItr 1/6\n",
      "L2 norm of weight change: 4.609744071960449\n",
      "pre_edit_weights id: 139766850580048 mean: 1.063853324012598e-05\n",
      "post_edit_weights id: 139767230550400 mean: 1.260250064660795e-05\n",
      "are the tensors equal: False\n"
     ]
    },
    {
     "name": "stderr",
     "output_type": "stream",
     "text": [
      "100%|█████████████████████████████████████████████████████████████████████| 274/274 [00:09<00:00, 27.64it/s]\n"
     ]
    },
    {
     "name": "stdout",
     "output_type": "stream",
     "text": [
      "\tItr 2/6\n",
      "L2 norm of weight change: 4.604115962982178\n",
      "pre_edit_weights id: 139767233226608 mean: 1.063853324012598e-05\n",
      "post_edit_weights id: 139767148253568 mean: 8.749127118790057e-06\n",
      "are the tensors equal: False\n"
     ]
    },
    {
     "name": "stderr",
     "output_type": "stream",
     "text": [
      "100%|█████████████████████████████████████████████████████████████████████| 274/274 [00:09<00:00, 28.98it/s]\n"
     ]
    },
    {
     "name": "stdout",
     "output_type": "stream",
     "text": [
      "\tItr 3/6\n",
      "L2 norm of weight change: 4.609557151794434\n",
      "pre_edit_weights id: 139767228876656 mean: 1.063853324012598e-05\n",
      "post_edit_weights id: 139767144069056 mean: 1.006744696496753e-05\n",
      "are the tensors equal: False\n"
     ]
    },
    {
     "name": "stderr",
     "output_type": "stream",
     "text": [
      "100%|█████████████████████████████████████████████████████████████████████| 274/274 [00:09<00:00, 29.14it/s]\n"
     ]
    },
    {
     "name": "stdout",
     "output_type": "stream",
     "text": [
      "\tItr 4/6\n",
      "L2 norm of weight change: 4.60792875289917\n",
      "pre_edit_weights id: 139767148232848 mean: 1.063853324012598e-05\n",
      "post_edit_weights id: 139767148442304 mean: 1.0335038496123161e-05\n",
      "are the tensors equal: False\n"
     ]
    },
    {
     "name": "stderr",
     "output_type": "stream",
     "text": [
      "100%|█████████████████████████████████████████████████████████████████████| 274/274 [00:10<00:00, 25.90it/s]\n"
     ]
    },
    {
     "name": "stdout",
     "output_type": "stream",
     "text": [
      "\tItr 5/6\n",
      "L2 norm of weight change: 4.605938911437988\n",
      "pre_edit_weights id: 139767230600352 mean: 1.063853324012598e-05\n",
      "post_edit_weights id: 139767148325520 mean: 1.1018599252565764e-05\n",
      "are the tensors equal: False\n"
     ]
    },
    {
     "name": "stderr",
     "output_type": "stream",
     "text": [
      "100%|█████████████████████████████████████████████████████████████████████| 274/274 [00:17<00:00, 16.08it/s]\n"
     ]
    },
    {
     "name": "stdout",
     "output_type": "stream",
     "text": [
      "\tItr 6/6\n",
      "L2 norm of weight change: 4.606222152709961\n",
      "pre_edit_weights id: 139767230537296 mean: 1.063853324012598e-05\n",
      "post_edit_weights id: 139767231343728 mean: 1.1558420737856068e-05\n",
      "are the tensors equal: False\n"
     ]
    },
    {
     "name": "stderr",
     "output_type": "stream",
     "text": [
      "100%|█████████████████████████████████████████████████████████████████████| 274/274 [00:12<00:00, 22.20it/s]\n"
     ]
    },
    {
     "name": "stdout",
     "output_type": "stream",
     "text": [
      "Bin 10 [12210.2, 12729.82)\n",
      "\tItr 1/6\n",
      "L2 norm of weight change: 4.607428073883057\n",
      "pre_edit_weights id: 139767233266048 mean: 1.063853324012598e-05\n",
      "post_edit_weights id: 139767148442224 mean: 1.0739227036538068e-05\n",
      "are the tensors equal: False\n"
     ]
    },
    {
     "name": "stderr",
     "output_type": "stream",
     "text": [
      "100%|█████████████████████████████████████████████████████████████████████| 274/274 [00:12<00:00, 21.88it/s]\n"
     ]
    },
    {
     "name": "stdout",
     "output_type": "stream",
     "text": [
      "\tItr 2/6\n",
      "L2 norm of weight change: 4.61114501953125\n",
      "pre_edit_weights id: 139767228487696 mean: 1.063853324012598e-05\n",
      "post_edit_weights id: 139767148293552 mean: 1.3677434253622778e-05\n",
      "are the tensors equal: False\n"
     ]
    },
    {
     "name": "stderr",
     "output_type": "stream",
     "text": [
      "100%|█████████████████████████████████████████████████████████████████████| 274/274 [00:17<00:00, 16.07it/s]\n"
     ]
    },
    {
     "name": "stdout",
     "output_type": "stream",
     "text": [
      "\tItr 3/6\n",
      "L2 norm of weight change: 4.610708236694336\n",
      "pre_edit_weights id: 139767230542128 mean: 1.063853324012598e-05\n",
      "post_edit_weights id: 139767230550560 mean: 6.771366770408349e-06\n",
      "are the tensors equal: False\n"
     ]
    },
    {
     "name": "stderr",
     "output_type": "stream",
     "text": [
      "100%|█████████████████████████████████████████████████████████████████████| 274/274 [00:23<00:00, 11.60it/s]\n"
     ]
    },
    {
     "name": "stdout",
     "output_type": "stream",
     "text": [
      "\tItr 4/6\n",
      "L2 norm of weight change: 4.604699611663818\n",
      "pre_edit_weights id: 139767148656016 mean: 1.063853324012598e-05\n",
      "post_edit_weights id: 139767148442784 mean: 9.946705176844262e-06\n",
      "are the tensors equal: False\n"
     ]
    },
    {
     "name": "stderr",
     "output_type": "stream",
     "text": [
      "100%|█████████████████████████████████████████████████████████████████████| 274/274 [00:11<00:00, 24.26it/s]\n"
     ]
    },
    {
     "name": "stdout",
     "output_type": "stream",
     "text": [
      "\tItr 5/6\n",
      "L2 norm of weight change: 4.604273319244385\n",
      "pre_edit_weights id: 139765611707184 mean: 1.063853324012598e-05\n",
      "post_edit_weights id: 139767144758544 mean: 9.923832294589374e-06\n",
      "are the tensors equal: False\n"
     ]
    },
    {
     "name": "stderr",
     "output_type": "stream",
     "text": [
      "100%|█████████████████████████████████████████████████████████████████████| 274/274 [00:11<00:00, 24.85it/s]\n"
     ]
    },
    {
     "name": "stdout",
     "output_type": "stream",
     "text": [
      "\tItr 6/6\n",
      "L2 norm of weight change: 4.608598709106445\n",
      "pre_edit_weights id: 139767144109856 mean: 1.063853324012598e-05\n",
      "post_edit_weights id: 139767148375312 mean: 1.329268798144767e-05\n",
      "are the tensors equal: False\n"
     ]
    },
    {
     "name": "stderr",
     "output_type": "stream",
     "text": [
      "100%|█████████████████████████████████████████████████████████████████████| 274/274 [00:09<00:00, 30.35it/s]\n"
     ]
    },
    {
     "name": "stdout",
     "output_type": "stream",
     "text": [
      "Bin 11 [12729.82, 13249.44)\n",
      "\tItr 1/10\n",
      "L2 norm of weight change: 4.609197616577148\n",
      "pre_edit_weights id: 139766850580048 mean: 1.063853324012598e-05\n",
      "post_edit_weights id: 139767148454352 mean: 1.0242016287520528e-05\n",
      "are the tensors equal: False\n"
     ]
    },
    {
     "name": "stderr",
     "output_type": "stream",
     "text": [
      "100%|█████████████████████████████████████████████████████████████████████| 274/274 [00:09<00:00, 29.66it/s]\n"
     ]
    },
    {
     "name": "stdout",
     "output_type": "stream",
     "text": [
      "\tItr 2/10\n",
      "L2 norm of weight change: 4.609731674194336\n",
      "pre_edit_weights id: 139767144048336 mean: 1.063853324012598e-05\n",
      "post_edit_weights id: 139767144081744 mean: 1.1291867849649861e-05\n",
      "are the tensors equal: False\n"
     ]
    },
    {
     "name": "stderr",
     "output_type": "stream",
     "text": [
      "100%|█████████████████████████████████████████████████████████████████████| 274/274 [00:09<00:00, 27.42it/s]\n"
     ]
    },
    {
     "name": "stdout",
     "output_type": "stream",
     "text": [
      "\tItr 3/10\n",
      "L2 norm of weight change: 4.605302810668945\n",
      "pre_edit_weights id: 139767230600352 mean: 1.063853324012598e-05\n",
      "post_edit_weights id: 139767270752720 mean: 8.651897587697022e-06\n",
      "are the tensors equal: False\n"
     ]
    },
    {
     "name": "stderr",
     "output_type": "stream",
     "text": [
      "100%|█████████████████████████████████████████████████████████████████████| 274/274 [00:10<00:00, 26.16it/s]\n"
     ]
    },
    {
     "name": "stdout",
     "output_type": "stream",
     "text": [
      "\tItr 4/10\n",
      "L2 norm of weight change: 4.603915691375732\n",
      "pre_edit_weights id: 139766851631680 mean: 1.063853324012598e-05\n",
      "post_edit_weights id: 139767231435696 mean: 1.0783378456835635e-05\n",
      "are the tensors equal: False\n"
     ]
    },
    {
     "name": "stderr",
     "output_type": "stream",
     "text": [
      "100%|█████████████████████████████████████████████████████████████████████| 274/274 [00:08<00:00, 31.64it/s]\n"
     ]
    },
    {
     "name": "stdout",
     "output_type": "stream",
     "text": [
      "\tItr 5/10\n",
      "L2 norm of weight change: 4.611888885498047\n",
      "pre_edit_weights id: 139767274278320 mean: 1.063853324012598e-05\n",
      "post_edit_weights id: 139767233226208 mean: 1.06819934444502e-05\n",
      "are the tensors equal: False\n"
     ]
    },
    {
     "name": "stderr",
     "output_type": "stream",
     "text": [
      "100%|█████████████████████████████████████████████████████████████████████| 274/274 [00:11<00:00, 23.92it/s]\n"
     ]
    },
    {
     "name": "stdout",
     "output_type": "stream",
     "text": [
      "\tItr 6/10\n",
      "L2 norm of weight change: 4.610652923583984\n",
      "pre_edit_weights id: 139767233139952 mean: 1.063853324012598e-05\n",
      "post_edit_weights id: 139767231436016 mean: 1.3550036783271935e-05\n",
      "are the tensors equal: False\n"
     ]
    },
    {
     "name": "stderr",
     "output_type": "stream",
     "text": [
      "100%|█████████████████████████████████████████████████████████████████████| 274/274 [00:13<00:00, 20.34it/s]\n"
     ]
    },
    {
     "name": "stdout",
     "output_type": "stream",
     "text": [
      "\tItr 7/10\n",
      "L2 norm of weight change: 4.6063232421875\n",
      "pre_edit_weights id: 139765620196832 mean: 1.063853324012598e-05\n",
      "post_edit_weights id: 139767229871744 mean: 1.2352395060588606e-05\n",
      "are the tensors equal: False\n"
     ]
    },
    {
     "name": "stderr",
     "output_type": "stream",
     "text": [
      "100%|█████████████████████████████████████████████████████████████████████| 274/274 [00:09<00:00, 27.68it/s]\n"
     ]
    },
    {
     "name": "stdout",
     "output_type": "stream",
     "text": [
      "\tItr 8/10\n",
      "L2 norm of weight change: 4.608117580413818\n",
      "pre_edit_weights id: 139766850524640 mean: 1.063853324012598e-05\n",
      "post_edit_weights id: 139767233228528 mean: 9.552514711685944e-06\n",
      "are the tensors equal: False\n"
     ]
    },
    {
     "name": "stderr",
     "output_type": "stream",
     "text": [
      "100%|█████████████████████████████████████████████████████████████████████| 274/274 [00:11<00:00, 24.74it/s]\n"
     ]
    },
    {
     "name": "stdout",
     "output_type": "stream",
     "text": [
      "\tItr 9/10\n",
      "L2 norm of weight change: 4.608768939971924\n",
      "pre_edit_weights id: 139767232642880 mean: 1.063853324012598e-05\n",
      "post_edit_weights id: 139767148442944 mean: 1.1021525097021367e-05\n",
      "are the tensors equal: False\n"
     ]
    },
    {
     "name": "stderr",
     "output_type": "stream",
     "text": [
      "100%|█████████████████████████████████████████████████████████████████████| 274/274 [00:17<00:00, 16.09it/s]\n"
     ]
    },
    {
     "name": "stdout",
     "output_type": "stream",
     "text": [
      "\tItr 10/10\n",
      "L2 norm of weight change: 4.605406761169434\n",
      "pre_edit_weights id: 139767230537136 mean: 1.063853324012598e-05\n",
      "post_edit_weights id: 139767231436896 mean: 1.0354096957598813e-05\n",
      "are the tensors equal: False\n"
     ]
    },
    {
     "name": "stderr",
     "output_type": "stream",
     "text": [
      "100%|█████████████████████████████████████████████████████████████████████| 274/274 [00:09<00:00, 29.74it/s]\n"
     ]
    },
    {
     "name": "stdout",
     "output_type": "stream",
     "text": [
      "Bin 12 [13249.44, 13769.060000000001)\n",
      "\tItr 1/2\n",
      "L2 norm of weight change: 4.605759143829346\n",
      "pre_edit_weights id: 139765620268384 mean: 1.063853324012598e-05\n",
      "post_edit_weights id: 139767231538576 mean: 1.1059556527470704e-05\n",
      "are the tensors equal: False\n"
     ]
    },
    {
     "name": "stderr",
     "output_type": "stream",
     "text": [
      "100%|█████████████████████████████████████████████████████████████████████| 274/274 [00:09<00:00, 29.35it/s]\n"
     ]
    },
    {
     "name": "stdout",
     "output_type": "stream",
     "text": [
      "\tItr 2/2\n",
      "L2 norm of weight change: 4.61191463470459\n",
      "pre_edit_weights id: 139767144047616 mean: 1.063853324012598e-05\n",
      "post_edit_weights id: 139767231437136 mean: 1.0750551155069843e-05\n",
      "are the tensors equal: False\n"
     ]
    },
    {
     "name": "stderr",
     "output_type": "stream",
     "text": [
      "100%|█████████████████████████████████████████████████████████████████████| 274/274 [00:09<00:00, 29.33it/s]\n"
     ]
    },
    {
     "name": "stdout",
     "output_type": "stream",
     "text": [
      "Bin 13 [13769.060000000001, 14288.68)\n",
      "\tItr 1/2\n",
      "L2 norm of weight change: 4.608983039855957\n",
      "pre_edit_weights id: 139767232032992 mean: 1.063853324012598e-05\n",
      "post_edit_weights id: 139767231436736 mean: 9.638703886594158e-06\n",
      "are the tensors equal: False\n"
     ]
    },
    {
     "name": "stderr",
     "output_type": "stream",
     "text": [
      "100%|█████████████████████████████████████████████████████████████████████| 274/274 [00:07<00:00, 38.36it/s]\n"
     ]
    },
    {
     "name": "stdout",
     "output_type": "stream",
     "text": [
      "\tItr 2/2\n",
      "L2 norm of weight change: 4.610561370849609\n",
      "pre_edit_weights id: 139767231540336 mean: 1.063853324012598e-05\n",
      "post_edit_weights id: 139766850416704 mean: 9.389707884110976e-06\n",
      "are the tensors equal: False\n"
     ]
    },
    {
     "name": "stderr",
     "output_type": "stream",
     "text": [
      "100%|█████████████████████████████████████████████████████████████████████| 274/274 [00:14<00:00, 19.28it/s]\n"
     ]
    },
    {
     "name": "stdout",
     "output_type": "stream",
     "text": [
      "Bin 14 [14288.68, 14808.3)\n",
      "\tItr 1/3\n",
      "L2 norm of weight change: 4.609364032745361\n",
      "pre_edit_weights id: 139765620268384 mean: 1.063853324012598e-05\n",
      "post_edit_weights id: 139767231122384 mean: 7.2150742198573425e-06\n",
      "are the tensors equal: False\n"
     ]
    },
    {
     "name": "stderr",
     "output_type": "stream",
     "text": [
      "100%|█████████████████████████████████████████████████████████████████████| 274/274 [00:14<00:00, 18.55it/s]\n"
     ]
    },
    {
     "name": "stdout",
     "output_type": "stream",
     "text": [
      "\tItr 2/3\n",
      "L2 norm of weight change: 4.6079864501953125\n",
      "pre_edit_weights id: 139767232032992 mean: 1.063853324012598e-05\n",
      "post_edit_weights id: 139767231549168 mean: 9.83157951850444e-06\n",
      "are the tensors equal: False\n"
     ]
    },
    {
     "name": "stderr",
     "output_type": "stream",
     "text": [
      "100%|█████████████████████████████████████████████████████████████████████| 274/274 [00:09<00:00, 27.79it/s]\n"
     ]
    },
    {
     "name": "stdout",
     "output_type": "stream",
     "text": [
      "\tItr 3/3\n",
      "L2 norm of weight change: 4.608567237854004\n",
      "pre_edit_weights id: 139767270778496 mean: 1.063853324012598e-05\n",
      "post_edit_weights id: 139767231119984 mean: 7.708847078902181e-06\n",
      "are the tensors equal: False\n"
     ]
    },
    {
     "name": "stderr",
     "output_type": "stream",
     "text": [
      "100%|█████████████████████████████████████████████████████████████████████| 274/274 [00:18<00:00, 14.99it/s]\n"
     ]
    },
    {
     "name": "stdout",
     "output_type": "stream",
     "text": [
      "Bin 15 [14808.3, 15327.92)\n",
      "\tItr 1/4\n",
      "L2 norm of weight change: 4.609359264373779\n",
      "pre_edit_weights id: 139767232642880 mean: 1.063853324012598e-05\n",
      "post_edit_weights id: 139767231554240 mean: 1.0306194781151135e-05\n",
      "are the tensors equal: False\n"
     ]
    },
    {
     "name": "stderr",
     "output_type": "stream",
     "text": [
      "100%|█████████████████████████████████████████████████████████████████████| 274/274 [00:38<00:00,  7.19it/s]\n"
     ]
    },
    {
     "name": "stdout",
     "output_type": "stream",
     "text": [
      "\tItr 2/4\n",
      "L2 norm of weight change: 4.607109546661377\n",
      "pre_edit_weights id: 139767270778496 mean: 1.063853324012598e-05\n",
      "post_edit_weights id: 139767230059760 mean: 1.0119537364516873e-05\n",
      "are the tensors equal: False\n"
     ]
    },
    {
     "name": "stderr",
     "output_type": "stream",
     "text": [
      "100%|█████████████████████████████████████████████████████████████████████| 274/274 [00:15<00:00, 17.53it/s]\n"
     ]
    },
    {
     "name": "stdout",
     "output_type": "stream",
     "text": [
      "\tItr 3/4\n",
      "L2 norm of weight change: 4.609880447387695\n",
      "pre_edit_weights id: 139766851448560 mean: 1.063853324012598e-05\n",
      "post_edit_weights id: 139767231545408 mean: 1.279991465708008e-05\n",
      "are the tensors equal: False\n"
     ]
    },
    {
     "name": "stderr",
     "output_type": "stream",
     "text": [
      "100%|█████████████████████████████████████████████████████████████████████| 274/274 [00:12<00:00, 21.38it/s]\n"
     ]
    },
    {
     "name": "stdout",
     "output_type": "stream",
     "text": [
      "\tItr 4/4\n",
      "L2 norm of weight change: 4.607494831085205\n",
      "pre_edit_weights id: 139767232032992 mean: 1.063853324012598e-05\n",
      "post_edit_weights id: 139767231537376 mean: 1.163402157544624e-05\n",
      "are the tensors equal: False\n"
     ]
    },
    {
     "name": "stderr",
     "output_type": "stream",
     "text": [
      "100%|█████████████████████████████████████████████████████████████████████| 274/274 [00:15<00:00, 17.29it/s]\n"
     ]
    },
    {
     "name": "stdout",
     "output_type": "stream",
     "text": [
      "Bin 16 [15327.92, 15847.54)\n",
      "\tItr 1/6\n",
      "L2 norm of weight change: 4.60999870300293\n",
      "pre_edit_weights id: 139767229873504 mean: 1.063853324012598e-05\n",
      "post_edit_weights id: 139766850526480 mean: 1.150099797087023e-05\n",
      "are the tensors equal: False\n"
     ]
    },
    {
     "name": "stderr",
     "output_type": "stream",
     "text": [
      "100%|█████████████████████████████████████████████████████████████████████| 274/274 [00:11<00:00, 24.36it/s]\n"
     ]
    },
    {
     "name": "stdout",
     "output_type": "stream",
     "text": [
      "\tItr 2/6\n",
      "L2 norm of weight change: 4.60818338394165\n",
      "pre_edit_weights id: 139767148236448 mean: 1.063853324012598e-05\n",
      "post_edit_weights id: 139767231085600 mean: 1.0034386832558084e-05\n",
      "are the tensors equal: False\n"
     ]
    },
    {
     "name": "stderr",
     "output_type": "stream",
     "text": [
      "100%|█████████████████████████████████████████████████████████████████████| 274/274 [00:07<00:00, 36.20it/s]\n"
     ]
    },
    {
     "name": "stdout",
     "output_type": "stream",
     "text": [
      "\tItr 3/6\n",
      "L2 norm of weight change: 4.608265399932861\n",
      "pre_edit_weights id: 139765620196832 mean: 1.063853324012598e-05\n",
      "post_edit_weights id: 139766850524720 mean: 1.0594145351205952e-05\n",
      "are the tensors equal: False\n"
     ]
    },
    {
     "name": "stderr",
     "output_type": "stream",
     "text": [
      "100%|█████████████████████████████████████████████████████████████████████| 274/274 [00:08<00:00, 31.42it/s]\n"
     ]
    },
    {
     "name": "stdout",
     "output_type": "stream",
     "text": [
      "\tItr 4/6\n",
      "L2 norm of weight change: 4.607420921325684\n",
      "pre_edit_weights id: 139765648694704 mean: 1.063853324012598e-05\n",
      "post_edit_weights id: 139767148311632 mean: 9.057242095877882e-06\n",
      "are the tensors equal: False\n"
     ]
    },
    {
     "name": "stderr",
     "output_type": "stream",
     "text": [
      "100%|█████████████████████████████████████████████████████████████████████| 274/274 [00:09<00:00, 30.20it/s]\n"
     ]
    },
    {
     "name": "stdout",
     "output_type": "stream",
     "text": [
      "\tItr 5/6\n",
      "L2 norm of weight change: 4.608076572418213\n",
      "pre_edit_weights id: 139766850791200 mean: 1.063853324012598e-05\n",
      "post_edit_weights id: 139767231538016 mean: 1.1655409252853133e-05\n",
      "are the tensors equal: False\n"
     ]
    },
    {
     "name": "stderr",
     "output_type": "stream",
     "text": [
      "100%|█████████████████████████████████████████████████████████████████████| 274/274 [00:07<00:00, 37.02it/s]\n"
     ]
    },
    {
     "name": "stdout",
     "output_type": "stream",
     "text": [
      "\tItr 6/6\n",
      "L2 norm of weight change: 4.604846477508545\n",
      "pre_edit_weights id: 139766850791760 mean: 1.063853324012598e-05\n",
      "post_edit_weights id: 139767148311952 mean: 4.327203441789607e-06\n",
      "are the tensors equal: False\n"
     ]
    },
    {
     "name": "stderr",
     "output_type": "stream",
     "text": [
      "100%|█████████████████████████████████████████████████████████████████████| 274/274 [00:07<00:00, 34.58it/s]\n"
     ]
    },
    {
     "name": "stdout",
     "output_type": "stream",
     "text": [
      "Bin 17 [15847.54, 16367.16)\n",
      "\tItr 1/5\n",
      "L2 norm of weight change: 4.609468936920166\n",
      "pre_edit_weights id: 139767148236448 mean: 1.063853324012598e-05\n",
      "post_edit_weights id: 139766851117600 mean: 9.103173397306819e-06\n",
      "are the tensors equal: False\n"
     ]
    },
    {
     "name": "stderr",
     "output_type": "stream",
     "text": [
      "100%|█████████████████████████████████████████████████████████████████████| 274/274 [00:08<00:00, 33.40it/s]\n"
     ]
    },
    {
     "name": "stdout",
     "output_type": "stream",
     "text": [
      "\tItr 2/5\n",
      "L2 norm of weight change: 4.60536003112793\n",
      "pre_edit_weights id: 139765620196832 mean: 1.063853324012598e-05\n",
      "post_edit_weights id: 139767231459872 mean: 1.1648329746094532e-05\n",
      "are the tensors equal: False\n"
     ]
    },
    {
     "name": "stderr",
     "output_type": "stream",
     "text": [
      "100%|█████████████████████████████████████████████████████████████████████| 274/274 [00:08<00:00, 31.58it/s]\n"
     ]
    },
    {
     "name": "stdout",
     "output_type": "stream",
     "text": [
      "\tItr 3/5\n",
      "L2 norm of weight change: 4.606861591339111\n",
      "pre_edit_weights id: 139767232642720 mean: 1.063853324012598e-05\n",
      "post_edit_weights id: 139767231462192 mean: 9.141255759459455e-06\n",
      "are the tensors equal: False\n"
     ]
    },
    {
     "name": "stderr",
     "output_type": "stream",
     "text": [
      "100%|█████████████████████████████████████████████████████████████████████| 274/274 [00:07<00:00, 36.92it/s]\n"
     ]
    },
    {
     "name": "stdout",
     "output_type": "stream",
     "text": [
      "\tItr 4/5\n",
      "L2 norm of weight change: 4.608527660369873\n",
      "pre_edit_weights id: 139767232032992 mean: 1.063853324012598e-05\n",
      "post_edit_weights id: 139767230059600 mean: 1.6004531062208116e-05\n",
      "are the tensors equal: False\n"
     ]
    },
    {
     "name": "stderr",
     "output_type": "stream",
     "text": [
      "100%|█████████████████████████████████████████████████████████████████████| 274/274 [00:10<00:00, 25.01it/s]\n"
     ]
    },
    {
     "name": "stdout",
     "output_type": "stream",
     "text": [
      "\tItr 5/5\n",
      "L2 norm of weight change: 4.608292102813721\n",
      "pre_edit_weights id: 139766850578528 mean: 1.063853324012598e-05\n",
      "post_edit_weights id: 139767148312352 mean: 9.87094063020777e-06\n",
      "are the tensors equal: False\n"
     ]
    },
    {
     "name": "stderr",
     "output_type": "stream",
     "text": [
      "100%|█████████████████████████████████████████████████████████████████████| 274/274 [00:08<00:00, 34.22it/s]\n"
     ]
    },
    {
     "name": "stdout",
     "output_type": "stream",
     "text": [
      "Bin 18 [16367.16, 16886.78)\n",
      "\tItr 1/2\n",
      "L2 norm of weight change: 4.608170986175537\n",
      "pre_edit_weights id: 139766850578448 mean: 1.063853324012598e-05\n",
      "post_edit_weights id: 139767148313472 mean: 1.2540389434434474e-05\n",
      "are the tensors equal: False\n"
     ]
    },
    {
     "name": "stderr",
     "output_type": "stream",
     "text": [
      "100%|█████████████████████████████████████████████████████████████████████| 274/274 [00:08<00:00, 34.05it/s]\n"
     ]
    },
    {
     "name": "stdout",
     "output_type": "stream",
     "text": [
      "\tItr 2/2\n",
      "L2 norm of weight change: 4.610672950744629\n",
      "pre_edit_weights id: 139766850578528 mean: 1.063853324012598e-05\n",
      "post_edit_weights id: 139766850115440 mean: 8.836185770633165e-06\n",
      "are the tensors equal: False\n"
     ]
    },
    {
     "name": "stderr",
     "output_type": "stream",
     "text": [
      "100%|█████████████████████████████████████████████████████████████████████| 274/274 [00:17<00:00, 15.59it/s]\n"
     ]
    },
    {
     "name": "stdout",
     "output_type": "stream",
     "text": [
      "Bin 19 [16886.78, 17406.4)\n",
      "\tItr 1/4\n",
      "L2 norm of weight change: 4.610585689544678\n",
      "pre_edit_weights id: 139767231010432 mean: 1.063853324012598e-05\n",
      "post_edit_weights id: 139767231545808 mean: 9.79894775809953e-06\n",
      "are the tensors equal: False\n"
     ]
    },
    {
     "name": "stderr",
     "output_type": "stream",
     "text": [
      "100%|█████████████████████████████████████████████████████████████████████| 274/274 [00:19<00:00, 13.99it/s]\n"
     ]
    },
    {
     "name": "stdout",
     "output_type": "stream",
     "text": [
      "\tItr 2/4\n",
      "L2 norm of weight change: 4.609609127044678\n",
      "pre_edit_weights id: 139767148236448 mean: 1.063853324012598e-05\n",
      "post_edit_weights id: 139767144642176 mean: 9.68420772551326e-06\n",
      "are the tensors equal: False\n"
     ]
    },
    {
     "name": "stderr",
     "output_type": "stream",
     "text": [
      "100%|█████████████████████████████████████████████████████████████████████| 274/274 [00:13<00:00, 19.72it/s]\n"
     ]
    },
    {
     "name": "stdout",
     "output_type": "stream",
     "text": [
      "\tItr 3/4\n",
      "L2 norm of weight change: 4.605045318603516\n",
      "pre_edit_weights id: 139767232032992 mean: 1.063853324012598e-05\n",
      "post_edit_weights id: 139767233141952 mean: 1.1906334293598775e-05\n",
      "are the tensors equal: False\n"
     ]
    },
    {
     "name": "stderr",
     "output_type": "stream",
     "text": [
      "100%|█████████████████████████████████████████████████████████████████████| 274/274 [00:12<00:00, 22.44it/s]\n"
     ]
    },
    {
     "name": "stdout",
     "output_type": "stream",
     "text": [
      "\tItr 4/4\n",
      "L2 norm of weight change: 4.607400894165039\n",
      "pre_edit_weights id: 139766850578448 mean: 1.063853324012598e-05\n",
      "post_edit_weights id: 139767228052320 mean: 9.690197657619137e-06\n",
      "are the tensors equal: False\n"
     ]
    },
    {
     "name": "stderr",
     "output_type": "stream",
     "text": [
      "100%|█████████████████████████████████████████████████████████████████████| 274/274 [00:17<00:00, 15.23it/s]\n"
     ]
    },
    {
     "name": "stdout",
     "output_type": "stream",
     "text": [
      "Bin 20 [17406.4, 17926.02)\n",
      "\tItr 1/5\n",
      "L2 norm of weight change: 4.61229133605957\n",
      "pre_edit_weights id: 139767232032992 mean: 1.063853324012598e-05\n",
      "post_edit_weights id: 139766850569536 mean: 8.270541911770124e-06\n",
      "are the tensors equal: False\n"
     ]
    },
    {
     "name": "stderr",
     "output_type": "stream",
     "text": [
      "100%|█████████████████████████████████████████████████████████████████████| 274/274 [00:13<00:00, 20.53it/s]\n"
     ]
    },
    {
     "name": "stdout",
     "output_type": "stream",
     "text": [
      "\tItr 2/5\n",
      "L2 norm of weight change: 4.608373641967773\n",
      "pre_edit_weights id: 139766850578528 mean: 1.063853324012598e-05\n",
      "post_edit_weights id: 139767231131872 mean: 9.192724974127486e-06\n",
      "are the tensors equal: False\n"
     ]
    },
    {
     "name": "stderr",
     "output_type": "stream",
     "text": [
      "100%|█████████████████████████████████████████████████████████████████████| 274/274 [00:23<00:00, 11.58it/s]\n"
     ]
    },
    {
     "name": "stdout",
     "output_type": "stream",
     "text": [
      "\tItr 3/5\n",
      "L2 norm of weight change: 4.609129905700684\n",
      "pre_edit_weights id: 139767230931648 mean: 1.063853324012598e-05\n",
      "post_edit_weights id: 139767231462432 mean: 6.982496415730566e-06\n",
      "are the tensors equal: False\n"
     ]
    },
    {
     "name": "stderr",
     "output_type": "stream",
     "text": [
      "100%|█████████████████████████████████████████████████████████████████████| 274/274 [00:19<00:00, 14.07it/s]\n"
     ]
    },
    {
     "name": "stdout",
     "output_type": "stream",
     "text": [
      "\tItr 4/5\n",
      "L2 norm of weight change: 4.607389450073242\n",
      "pre_edit_weights id: 139767230931488 mean: 1.063853324012598e-05\n",
      "post_edit_weights id: 139767231135392 mean: 8.589175195083953e-06\n",
      "are the tensors equal: False\n"
     ]
    },
    {
     "name": "stderr",
     "output_type": "stream",
     "text": [
      "100%|█████████████████████████████████████████████████████████████████████| 274/274 [00:11<00:00, 23.56it/s]\n"
     ]
    },
    {
     "name": "stdout",
     "output_type": "stream",
     "text": [
      "\tItr 5/5\n",
      "L2 norm of weight change: 4.604921340942383\n",
      "pre_edit_weights id: 139765649543712 mean: 1.063853324012598e-05\n",
      "post_edit_weights id: 139766850570336 mean: 1.3774256331089418e-05\n",
      "are the tensors equal: False\n"
     ]
    },
    {
     "name": "stderr",
     "output_type": "stream",
     "text": [
      "100%|█████████████████████████████████████████████████████████████████████| 274/274 [00:34<00:00,  7.90it/s]\n"
     ]
    },
    {
     "name": "stdout",
     "output_type": "stream",
     "text": [
      "Bin 21 [17926.02, 18445.64)\n",
      "\tItr 1/4\n",
      "L2 norm of weight change: 4.608465671539307\n",
      "pre_edit_weights id: 139767230947056 mean: 1.063853324012598e-05\n",
      "post_edit_weights id: 139767231462112 mean: 1.2783123565895949e-05\n",
      "are the tensors equal: False\n"
     ]
    },
    {
     "name": "stderr",
     "output_type": "stream",
     "text": [
      "100%|█████████████████████████████████████████████████████████████████████| 274/274 [00:20<00:00, 13.24it/s]\n"
     ]
    },
    {
     "name": "stdout",
     "output_type": "stream",
     "text": [
      "\tItr 2/4\n",
      "L2 norm of weight change: 4.610018730163574\n",
      "pre_edit_weights id: 139765649543712 mean: 1.063853324012598e-05\n",
      "post_edit_weights id: 139767230535536 mean: 1.2827856153307948e-05\n",
      "are the tensors equal: False\n"
     ]
    },
    {
     "name": "stderr",
     "output_type": "stream",
     "text": [
      "100%|█████████████████████████████████████████████████████████████████████| 274/274 [00:09<00:00, 28.06it/s]\n"
     ]
    },
    {
     "name": "stdout",
     "output_type": "stream",
     "text": [
      "\tItr 3/4\n",
      "L2 norm of weight change: 4.608711242675781\n",
      "pre_edit_weights id: 139767230536016 mean: 1.063853324012598e-05\n",
      "post_edit_weights id: 139767144072672 mean: 1.1961897143919487e-05\n",
      "are the tensors equal: False\n"
     ]
    },
    {
     "name": "stderr",
     "output_type": "stream",
     "text": [
      "100%|█████████████████████████████████████████████████████████████████████| 274/274 [00:08<00:00, 32.75it/s]\n"
     ]
    },
    {
     "name": "stdout",
     "output_type": "stream",
     "text": [
      "\tItr 4/4\n",
      "L2 norm of weight change: 4.607913970947266\n",
      "pre_edit_weights id: 139765649543712 mean: 1.063853324012598e-05\n",
      "post_edit_weights id: 139767231460432 mean: 1.1314547009533271e-05\n",
      "are the tensors equal: False\n"
     ]
    },
    {
     "name": "stderr",
     "output_type": "stream",
     "text": [
      "100%|█████████████████████████████████████████████████████████████████████| 274/274 [00:07<00:00, 37.86it/s]\n"
     ]
    },
    {
     "name": "stdout",
     "output_type": "stream",
     "text": [
      "Bin 23 [18965.260000000002, 19484.88)\n",
      "\tItr 1/1\n",
      "L2 norm of weight change: 4.613839149475098\n",
      "pre_edit_weights id: 139767233024224 mean: 1.063853324012598e-05\n",
      "post_edit_weights id: 139767144540976 mean: 1.1753040780604351e-05\n",
      "are the tensors equal: False\n"
     ]
    },
    {
     "name": "stderr",
     "output_type": "stream",
     "text": [
      "100%|█████████████████████████████████████████████████████████████████████| 274/274 [00:07<00:00, 37.24it/s]\n"
     ]
    },
    {
     "name": "stdout",
     "output_type": "stream",
     "text": [
      "Bin 24 [19484.88, 20004.5)\n",
      "\tItr 1/2\n",
      "L2 norm of weight change: 4.6087422370910645\n",
      "pre_edit_weights id: 139767231026656 mean: 1.063853324012598e-05\n",
      "post_edit_weights id: 139766850417984 mean: 1.1517668099259026e-05\n",
      "are the tensors equal: False\n"
     ]
    },
    {
     "name": "stderr",
     "output_type": "stream",
     "text": [
      "100%|█████████████████████████████████████████████████████████████████████| 274/274 [00:07<00:00, 34.93it/s]\n"
     ]
    },
    {
     "name": "stdout",
     "output_type": "stream",
     "text": [
      "\tItr 2/2\n",
      "L2 norm of weight change: 4.607829570770264\n",
      "pre_edit_weights id: 139767232032992 mean: 1.063853324012598e-05\n",
      "post_edit_weights id: 139767231545568 mean: 1.1351284229021985e-05\n",
      "are the tensors equal: False\n"
     ]
    },
    {
     "name": "stderr",
     "output_type": "stream",
     "text": [
      "100%|█████████████████████████████████████████████████████████████████████| 274/274 [00:08<00:00, 31.08it/s]\n"
     ]
    },
    {
     "name": "stdout",
     "output_type": "stream",
     "text": [
      "Bin 27 [21043.739999999998, 21563.36)\n",
      "\tItr 1/1\n",
      "L2 norm of weight change: 4.605484962463379\n",
      "pre_edit_weights id: 139767233024224 mean: 1.063853324012598e-05\n",
      "post_edit_weights id: 139767231459392 mean: 1.2685315596172586e-05\n",
      "are the tensors equal: False\n"
     ]
    },
    {
     "name": "stderr",
     "output_type": "stream",
     "text": [
      "100%|█████████████████████████████████████████████████████████████████████| 274/274 [00:08<00:00, 34.22it/s]\n",
      "/n/fs/ac-editing/model-editing/src/model/metric.py:205: RuntimeWarning: invalid value encountered in divide\n",
      "  return np.nan_to_num(2 * precisions * recalls / (precisions + recalls))\n"
     ]
    },
    {
     "name": "stdout",
     "output_type": "stream",
     "text": [
      "Bin 28 [21563.36, 22082.98)\n",
      "\tItr 1/3\n",
      "L2 norm of weight change: 4.608921051025391\n",
      "pre_edit_weights id: 139767231006336 mean: 1.063853324012598e-05\n",
      "post_edit_weights id: 139767230893088 mean: 1.0850289072550368e-05\n",
      "are the tensors equal: False\n"
     ]
    },
    {
     "name": "stderr",
     "output_type": "stream",
     "text": [
      "100%|█████████████████████████████████████████████████████████████████████| 274/274 [00:09<00:00, 29.83it/s]\n",
      "/n/fs/ac-editing/model-editing/src/model/metric.py:205: RuntimeWarning: invalid value encountered in divide\n",
      "  return np.nan_to_num(2 * precisions * recalls / (precisions + recalls))\n"
     ]
    },
    {
     "name": "stdout",
     "output_type": "stream",
     "text": [
      "\tItr 2/3\n",
      "L2 norm of weight change: 4.6103973388671875\n",
      "pre_edit_weights id: 139767233142032 mean: 1.063853324012598e-05\n",
      "post_edit_weights id: 139767230892368 mean: 9.945651072484907e-06\n",
      "are the tensors equal: False\n"
     ]
    },
    {
     "name": "stderr",
     "output_type": "stream",
     "text": [
      "100%|█████████████████████████████████████████████████████████████████████| 274/274 [00:07<00:00, 36.72it/s]\n"
     ]
    },
    {
     "name": "stdout",
     "output_type": "stream",
     "text": [
      "\tItr 3/3\n",
      "L2 norm of weight change: 4.608180522918701\n",
      "pre_edit_weights id: 139767230537136 mean: 1.063853324012598e-05\n",
      "post_edit_weights id: 139767144048816 mean: 9.599961231288034e-06\n",
      "are the tensors equal: False\n"
     ]
    },
    {
     "name": "stderr",
     "output_type": "stream",
     "text": [
      "100%|█████████████████████████████████████████████████████████████████████| 274/274 [00:06<00:00, 40.45it/s]\n",
      "/n/fs/ac-editing/model-editing/src/model/metric.py:168: RuntimeWarning: invalid value encountered in divide\n",
      "  return np.nan_to_num(TPs / (TPs + FPs))\n",
      "/n/fs/ac-editing/model-editing/src/model/metric.py:205: RuntimeWarning: invalid value encountered in divide\n",
      "  return np.nan_to_num(2 * precisions * recalls / (precisions + recalls))\n"
     ]
    },
    {
     "name": "stdout",
     "output_type": "stream",
     "text": [
      "Bin 29 [22082.98, 22602.6)\n",
      "\tItr 1/4\n",
      "L2 norm of weight change: 4.609105587005615\n",
      "pre_edit_weights id: 139767232032992 mean: 1.063853324012598e-05\n",
      "post_edit_weights id: 139767148455312 mean: 6.834247869846877e-06\n",
      "are the tensors equal: False\n"
     ]
    },
    {
     "name": "stderr",
     "output_type": "stream",
     "text": [
      "100%|█████████████████████████████████████████████████████████████████████| 274/274 [00:07<00:00, 38.15it/s]\n"
     ]
    },
    {
     "name": "stdout",
     "output_type": "stream",
     "text": [
      "\tItr 2/4\n",
      "L2 norm of weight change: 4.610517978668213\n",
      "pre_edit_weights id: 139767230535536 mean: 1.063853324012598e-05\n",
      "post_edit_weights id: 139767148443264 mean: 7.721853762632236e-06\n",
      "are the tensors equal: False\n"
     ]
    },
    {
     "name": "stderr",
     "output_type": "stream",
     "text": [
      "100%|█████████████████████████████████████████████████████████████████████| 274/274 [00:06<00:00, 41.21it/s]\n",
      "/n/fs/ac-editing/model-editing/src/model/metric.py:168: RuntimeWarning: invalid value encountered in divide\n",
      "  return np.nan_to_num(TPs / (TPs + FPs))\n",
      "/n/fs/ac-editing/model-editing/src/model/metric.py:205: RuntimeWarning: invalid value encountered in divide\n",
      "  return np.nan_to_num(2 * precisions * recalls / (precisions + recalls))\n"
     ]
    },
    {
     "name": "stdout",
     "output_type": "stream",
     "text": [
      "\tItr 3/4\n",
      "L2 norm of weight change: 4.605769634246826\n",
      "pre_edit_weights id: 139767148236448 mean: 1.063853324012598e-05\n",
      "post_edit_weights id: 139767228638848 mean: 1.0287510121997911e-05\n",
      "are the tensors equal: False\n"
     ]
    },
    {
     "name": "stderr",
     "output_type": "stream",
     "text": [
      "100%|█████████████████████████████████████████████████████████████████████| 274/274 [00:06<00:00, 41.29it/s]\n",
      "/n/fs/ac-editing/model-editing/src/model/metric.py:168: RuntimeWarning: invalid value encountered in divide\n",
      "  return np.nan_to_num(TPs / (TPs + FPs))\n",
      "/n/fs/ac-editing/model-editing/src/model/metric.py:205: RuntimeWarning: invalid value encountered in divide\n",
      "  return np.nan_to_num(2 * precisions * recalls / (precisions + recalls))\n"
     ]
    },
    {
     "name": "stdout",
     "output_type": "stream",
     "text": [
      "\tItr 4/4\n",
      "L2 norm of weight change: 4.603570461273193\n",
      "pre_edit_weights id: 139767231220928 mean: 1.063853324012598e-05\n",
      "post_edit_weights id: 139767148243840 mean: 1.3121905794832855e-05\n",
      "are the tensors equal: False\n"
     ]
    },
    {
     "name": "stderr",
     "output_type": "stream",
     "text": [
      "100%|█████████████████████████████████████████████████████████████████████| 274/274 [00:07<00:00, 36.19it/s]\n",
      "/n/fs/ac-editing/model-editing/src/model/metric.py:168: RuntimeWarning: invalid value encountered in divide\n",
      "  return np.nan_to_num(TPs / (TPs + FPs))\n",
      "/n/fs/ac-editing/model-editing/src/model/metric.py:205: RuntimeWarning: invalid value encountered in divide\n",
      "  return np.nan_to_num(2 * precisions * recalls / (precisions + recalls))\n"
     ]
    },
    {
     "name": "stdout",
     "output_type": "stream",
     "text": [
      "Bin 30 [22602.6, 23122.22)\n",
      "\tItr 1/1\n",
      "L2 norm of weight change: 4.6070637702941895\n",
      "pre_edit_weights id: 139767230593680 mean: 1.063853324012598e-05\n",
      "post_edit_weights id: 139767230815744 mean: 9.22653816815e-06\n",
      "are the tensors equal: False\n"
     ]
    },
    {
     "name": "stderr",
     "output_type": "stream",
     "text": [
      "100%|█████████████████████████████████████████████████████████████████████| 274/274 [00:08<00:00, 33.10it/s]\n",
      "/n/fs/ac-editing/model-editing/src/model/metric.py:205: RuntimeWarning: invalid value encountered in divide\n",
      "  return np.nan_to_num(2 * precisions * recalls / (precisions + recalls))\n"
     ]
    },
    {
     "name": "stdout",
     "output_type": "stream",
     "text": [
      "Bin 31 [23122.22, 23641.84)\n",
      "\tItr 1/4\n",
      "L2 norm of weight change: 4.606564521789551\n",
      "pre_edit_weights id: 139767231220928 mean: 1.063853324012598e-05\n",
      "post_edit_weights id: 139767229873344 mean: 1.4020325579622295e-05\n",
      "are the tensors equal: False\n"
     ]
    },
    {
     "name": "stderr",
     "output_type": "stream",
     "text": [
      "100%|█████████████████████████████████████████████████████████████████████| 274/274 [00:10<00:00, 25.63it/s]\n",
      "/n/fs/ac-editing/model-editing/src/model/metric.py:205: RuntimeWarning: invalid value encountered in divide\n",
      "  return np.nan_to_num(2 * precisions * recalls / (precisions + recalls))\n"
     ]
    },
    {
     "name": "stdout",
     "output_type": "stream",
     "text": [
      "\tItr 2/4\n",
      "L2 norm of weight change: 4.611313819885254\n",
      "pre_edit_weights id: 139767233024224 mean: 1.063853324012598e-05\n",
      "post_edit_weights id: 139767228638848 mean: 1.167588106909534e-05\n",
      "are the tensors equal: False\n"
     ]
    },
    {
     "name": "stderr",
     "output_type": "stream",
     "text": [
      "100%|█████████████████████████████████████████████████████████████████████| 274/274 [00:08<00:00, 31.26it/s]\n",
      "/n/fs/ac-editing/model-editing/src/model/metric.py:168: RuntimeWarning: invalid value encountered in divide\n",
      "  return np.nan_to_num(TPs / (TPs + FPs))\n",
      "/n/fs/ac-editing/model-editing/src/model/metric.py:205: RuntimeWarning: invalid value encountered in divide\n",
      "  return np.nan_to_num(2 * precisions * recalls / (precisions + recalls))\n"
     ]
    },
    {
     "name": "stdout",
     "output_type": "stream",
     "text": [
      "\tItr 3/4\n",
      "L2 norm of weight change: 4.607356071472168\n",
      "pre_edit_weights id: 139767148236448 mean: 1.063853324012598e-05\n",
      "post_edit_weights id: 139767231554880 mean: 1.483821961301146e-05\n",
      "are the tensors equal: False\n"
     ]
    },
    {
     "name": "stderr",
     "output_type": "stream",
     "text": [
      "100%|█████████████████████████████████████████████████████████████████████| 274/274 [00:08<00:00, 32.78it/s]\n",
      "/n/fs/ac-editing/model-editing/src/model/metric.py:168: RuntimeWarning: invalid value encountered in divide\n",
      "  return np.nan_to_num(TPs / (TPs + FPs))\n",
      "/n/fs/ac-editing/model-editing/src/model/metric.py:205: RuntimeWarning: invalid value encountered in divide\n",
      "  return np.nan_to_num(2 * precisions * recalls / (precisions + recalls))\n"
     ]
    },
    {
     "name": "stdout",
     "output_type": "stream",
     "text": [
      "\tItr 4/4\n",
      "L2 norm of weight change: 4.6090216636657715\n",
      "pre_edit_weights id: 139767230593680 mean: 1.063853324012598e-05\n",
      "post_edit_weights id: 139767230813744 mean: 1.0701973224058747e-05\n",
      "are the tensors equal: False\n"
     ]
    },
    {
     "name": "stderr",
     "output_type": "stream",
     "text": [
      "100%|█████████████████████████████████████████████████████████████████████| 274/274 [00:10<00:00, 26.65it/s]\n",
      "/n/fs/ac-editing/model-editing/src/model/metric.py:168: RuntimeWarning: invalid value encountered in divide\n",
      "  return np.nan_to_num(TPs / (TPs + FPs))\n",
      "/n/fs/ac-editing/model-editing/src/model/metric.py:205: RuntimeWarning: invalid value encountered in divide\n",
      "  return np.nan_to_num(2 * precisions * recalls / (precisions + recalls))\n"
     ]
    },
    {
     "name": "stdout",
     "output_type": "stream",
     "text": [
      "Bin 33 [24161.46, 24681.08)\n",
      "\tItr 1/2\n",
      "L2 norm of weight change: 4.6092963218688965\n",
      "pre_edit_weights id: 139767231220928 mean: 1.063853324012598e-05\n",
      "post_edit_weights id: 139767231546528 mean: 1.0491584362171125e-05\n",
      "are the tensors equal: False\n"
     ]
    },
    {
     "name": "stderr",
     "output_type": "stream",
     "text": [
      "100%|█████████████████████████████████████████████████████████████████████| 274/274 [00:08<00:00, 31.24it/s]\n",
      "/n/fs/ac-editing/model-editing/src/model/metric.py:168: RuntimeWarning: invalid value encountered in divide\n",
      "  return np.nan_to_num(TPs / (TPs + FPs))\n",
      "/n/fs/ac-editing/model-editing/src/model/metric.py:205: RuntimeWarning: invalid value encountered in divide\n",
      "  return np.nan_to_num(2 * precisions * recalls / (precisions + recalls))\n"
     ]
    },
    {
     "name": "stdout",
     "output_type": "stream",
     "text": [
      "\tItr 2/2\n",
      "L2 norm of weight change: 4.610730171203613\n",
      "pre_edit_weights id: 139765649543712 mean: 1.063853324012598e-05\n",
      "post_edit_weights id: 139767230812704 mean: 1.0455935807840433e-05\n",
      "are the tensors equal: False\n"
     ]
    },
    {
     "name": "stderr",
     "output_type": "stream",
     "text": [
      "100%|█████████████████████████████████████████████████████████████████████| 274/274 [00:10<00:00, 24.97it/s]\n",
      "/n/fs/ac-editing/model-editing/src/model/metric.py:168: RuntimeWarning: invalid value encountered in divide\n",
      "  return np.nan_to_num(TPs / (TPs + FPs))\n",
      "/n/fs/ac-editing/model-editing/src/model/metric.py:205: RuntimeWarning: invalid value encountered in divide\n",
      "  return np.nan_to_num(2 * precisions * recalls / (precisions + recalls))\n"
     ]
    },
    {
     "name": "stdout",
     "output_type": "stream",
     "text": [
      "Bin 34 [24681.08, 25200.7)\n",
      "\tItr 1/3\n",
      "L2 norm of weight change: 4.606808662414551\n",
      "pre_edit_weights id: 139767148236448 mean: 1.063853324012598e-05\n",
      "post_edit_weights id: 139767230814704 mean: 1.0608952834445518e-05\n",
      "are the tensors equal: False\n"
     ]
    },
    {
     "name": "stderr",
     "output_type": "stream",
     "text": [
      "100%|█████████████████████████████████████████████████████████████████████| 274/274 [00:07<00:00, 34.99it/s]\n",
      "/n/fs/ac-editing/model-editing/src/model/metric.py:168: RuntimeWarning: invalid value encountered in divide\n",
      "  return np.nan_to_num(TPs / (TPs + FPs))\n",
      "/n/fs/ac-editing/model-editing/src/model/metric.py:205: RuntimeWarning: invalid value encountered in divide\n",
      "  return np.nan_to_num(2 * precisions * recalls / (precisions + recalls))\n"
     ]
    },
    {
     "name": "stdout",
     "output_type": "stream",
     "text": [
      "\tItr 2/3\n",
      "L2 norm of weight change: 4.604333877563477\n",
      "pre_edit_weights id: 139767230593680 mean: 1.063853324012598e-05\n",
      "post_edit_weights id: 139767148687904 mean: 1.2744230843964033e-05\n",
      "are the tensors equal: False\n"
     ]
    },
    {
     "name": "stderr",
     "output_type": "stream",
     "text": [
      "100%|█████████████████████████████████████████████████████████████████████| 274/274 [00:07<00:00, 38.22it/s]\n",
      "/n/fs/ac-editing/model-editing/src/model/metric.py:168: RuntimeWarning: invalid value encountered in divide\n",
      "  return np.nan_to_num(TPs / (TPs + FPs))\n",
      "/n/fs/ac-editing/model-editing/src/model/metric.py:205: RuntimeWarning: invalid value encountered in divide\n",
      "  return np.nan_to_num(2 * precisions * recalls / (precisions + recalls))\n"
     ]
    },
    {
     "name": "stdout",
     "output_type": "stream",
     "text": [
      "\tItr 3/3\n",
      "L2 norm of weight change: 4.608734130859375\n",
      "pre_edit_weights id: 139767232032992 mean: 1.063853324012598e-05\n",
      "post_edit_weights id: 139767230814544 mean: 1.277400315302657e-05\n",
      "are the tensors equal: False\n"
     ]
    },
    {
     "name": "stderr",
     "output_type": "stream",
     "text": [
      "100%|█████████████████████████████████████████████████████████████████████| 274/274 [00:07<00:00, 34.51it/s]\n",
      "/n/fs/ac-editing/model-editing/src/model/metric.py:168: RuntimeWarning: invalid value encountered in divide\n",
      "  return np.nan_to_num(TPs / (TPs + FPs))\n",
      "/n/fs/ac-editing/model-editing/src/model/metric.py:205: RuntimeWarning: invalid value encountered in divide\n",
      "  return np.nan_to_num(2 * precisions * recalls / (precisions + recalls))\n"
     ]
    },
    {
     "name": "stdout",
     "output_type": "stream",
     "text": [
      "Bin 35 [25200.7, 25720.32)\n",
      "\tItr 1/1\n",
      "L2 norm of weight change: 4.612175464630127\n",
      "pre_edit_weights id: 139767232642880 mean: 1.063853324012598e-05\n",
      "post_edit_weights id: 139766850417264 mean: 1.4548285435012076e-05\n",
      "are the tensors equal: False\n"
     ]
    },
    {
     "name": "stderr",
     "output_type": "stream",
     "text": [
      "100%|█████████████████████████████████████████████████████████████████████| 274/274 [00:12<00:00, 21.49it/s]\n",
      "/n/fs/ac-editing/model-editing/src/model/metric.py:168: RuntimeWarning: invalid value encountered in divide\n",
      "  return np.nan_to_num(TPs / (TPs + FPs))\n",
      "/n/fs/ac-editing/model-editing/src/model/metric.py:205: RuntimeWarning: invalid value encountered in divide\n",
      "  return np.nan_to_num(2 * precisions * recalls / (precisions + recalls))\n"
     ]
    },
    {
     "name": "stdout",
     "output_type": "stream",
     "text": [
      "Bin 37 [26239.94, 26759.56)\n",
      "\tItr 1/2\n",
      "L2 norm of weight change: 4.609652519226074\n",
      "pre_edit_weights id: 139767230931488 mean: 1.063853324012598e-05\n",
      "post_edit_weights id: 139767144540896 mean: 9.754604434419889e-06\n",
      "are the tensors equal: False\n"
     ]
    },
    {
     "name": "stderr",
     "output_type": "stream",
     "text": [
      "100%|█████████████████████████████████████████████████████████████████████| 274/274 [00:25<00:00, 10.58it/s]\n",
      "/n/fs/ac-editing/model-editing/src/model/metric.py:168: RuntimeWarning: invalid value encountered in divide\n",
      "  return np.nan_to_num(TPs / (TPs + FPs))\n",
      "/n/fs/ac-editing/model-editing/src/model/metric.py:205: RuntimeWarning: invalid value encountered in divide\n",
      "  return np.nan_to_num(2 * precisions * recalls / (precisions + recalls))\n"
     ]
    },
    {
     "name": "stdout",
     "output_type": "stream",
     "text": [
      "\tItr 2/2\n",
      "L2 norm of weight change: 4.6091766357421875\n",
      "pre_edit_weights id: 139767231006336 mean: 1.063853324012598e-05\n",
      "post_edit_weights id: 139767230961440 mean: 1.3685061276191846e-05\n",
      "are the tensors equal: False\n"
     ]
    },
    {
     "name": "stderr",
     "output_type": "stream",
     "text": [
      "100%|█████████████████████████████████████████████████████████████████████| 274/274 [00:27<00:00, 10.03it/s]\n",
      "/n/fs/ac-editing/model-editing/src/model/metric.py:168: RuntimeWarning: invalid value encountered in divide\n",
      "  return np.nan_to_num(TPs / (TPs + FPs))\n",
      "/n/fs/ac-editing/model-editing/src/model/metric.py:205: RuntimeWarning: invalid value encountered in divide\n",
      "  return np.nan_to_num(2 * precisions * recalls / (precisions + recalls))\n"
     ]
    },
    {
     "name": "stdout",
     "output_type": "stream",
     "text": [
      "Bin 40 [27798.8, 28318.420000000002)\n",
      "\tItr 1/1\n",
      "L2 norm of weight change: 4.606905460357666\n",
      "pre_edit_weights id: 139767230058960 mean: 1.063853324012598e-05\n",
      "post_edit_weights id: 139767231346784 mean: 8.728046850592364e-06\n",
      "are the tensors equal: False\n"
     ]
    },
    {
     "name": "stderr",
     "output_type": "stream",
     "text": [
      "100%|█████████████████████████████████████████████████████████████████████| 274/274 [00:11<00:00, 23.99it/s]\n",
      "/n/fs/ac-editing/model-editing/src/model/metric.py:168: RuntimeWarning: invalid value encountered in divide\n",
      "  return np.nan_to_num(TPs / (TPs + FPs))\n",
      "/n/fs/ac-editing/model-editing/src/model/metric.py:205: RuntimeWarning: invalid value encountered in divide\n",
      "  return np.nan_to_num(2 * precisions * recalls / (precisions + recalls))\n"
     ]
    },
    {
     "name": "stdout",
     "output_type": "stream",
     "text": [
      "Bin 41 [28318.420000000002, 28838.04)\n",
      "\tItr 1/1\n",
      "L2 norm of weight change: 4.6071391105651855\n",
      "pre_edit_weights id: 139767232642880 mean: 1.063853324012598e-05\n",
      "post_edit_weights id: 139766851120320 mean: 1.1891410395037383e-05\n",
      "are the tensors equal: False\n"
     ]
    },
    {
     "name": "stderr",
     "output_type": "stream",
     "text": [
      "100%|█████████████████████████████████████████████████████████████████████| 274/274 [00:11<00:00, 22.99it/s]\n",
      "/n/fs/ac-editing/model-editing/src/model/metric.py:168: RuntimeWarning: invalid value encountered in divide\n",
      "  return np.nan_to_num(TPs / (TPs + FPs))\n",
      "/n/fs/ac-editing/model-editing/src/model/metric.py:205: RuntimeWarning: invalid value encountered in divide\n",
      "  return np.nan_to_num(2 * precisions * recalls / (precisions + recalls))\n"
     ]
    },
    {
     "name": "stdout",
     "output_type": "stream",
     "text": [
      "Bin 42 [28838.04, 29357.66)\n",
      "\tItr 1/1\n",
      "L2 norm of weight change: 4.604892253875732\n",
      "pre_edit_weights id: 139767144048336 mean: 1.063853324012598e-05\n",
      "post_edit_weights id: 139767144539056 mean: 1.2995417819183785e-05\n",
      "are the tensors equal: False\n"
     ]
    },
    {
     "name": "stderr",
     "output_type": "stream",
     "text": [
      "100%|█████████████████████████████████████████████████████████████████████| 274/274 [00:09<00:00, 30.25it/s]\n",
      "/n/fs/ac-editing/model-editing/src/model/metric.py:168: RuntimeWarning: invalid value encountered in divide\n",
      "  return np.nan_to_num(TPs / (TPs + FPs))\n",
      "/n/fs/ac-editing/model-editing/src/model/metric.py:205: RuntimeWarning: invalid value encountered in divide\n",
      "  return np.nan_to_num(2 * precisions * recalls / (precisions + recalls))\n"
     ]
    },
    {
     "name": "stdout",
     "output_type": "stream",
     "text": [
      "Bin 49 [32475.38, 32995.0)\n",
      "\tItr 1/1\n",
      "L2 norm of weight change: 4.606288909912109\n",
      "pre_edit_weights id: 139767232476560 mean: 1.063853324012598e-05\n",
      "post_edit_weights id: 139767231556560 mean: 1.4464273590419907e-05\n",
      "are the tensors equal: False\n"
     ]
    },
    {
     "name": "stderr",
     "output_type": "stream",
     "text": [
      "100%|█████████████████████████████████████████████████████████████████████| 274/274 [00:08<00:00, 34.18it/s]"
     ]
    },
    {
     "name": "stdout",
     "output_type": "stream",
     "text": [
      "['saved/edit/experiments/bump_edits/CINIC10_ImageNet-VGG_16/0208_112555/airplane_100/bump_noise/results/bin_7014.0_7533.62_itr_0', 'saved/edit/experiments/bump_edits/CINIC10_ImageNet-VGG_16/0208_112555/airplane_100/bump_noise/results/bin_7014.0_7533.62_itr_1', 'saved/edit/experiments/bump_edits/CINIC10_ImageNet-VGG_16/0208_112555/airplane_100/bump_noise/results/bin_7014.0_7533.62_itr_2', 'saved/edit/experiments/bump_edits/CINIC10_ImageNet-VGG_16/0208_112555/airplane_100/bump_noise/results/bin_7533.62_8053.24_itr_0', 'saved/edit/experiments/bump_edits/CINIC10_ImageNet-VGG_16/0208_112555/airplane_100/bump_noise/results/bin_7533.62_8053.24_itr_1', 'saved/edit/experiments/bump_edits/CINIC10_ImageNet-VGG_16/0208_112555/airplane_100/bump_noise/results/bin_7533.62_8053.24_itr_2', 'saved/edit/experiments/bump_edits/CINIC10_ImageNet-VGG_16/0208_112555/airplane_100/bump_noise/results/bin_7533.62_8053.24_itr_3', 'saved/edit/experiments/bump_edits/CINIC10_ImageNet-VGG_16/0208_112555/airplane_100/bump_noise/results/bin_8053.24_8572.86_itr_0', 'saved/edit/experiments/bump_edits/CINIC10_ImageNet-VGG_16/0208_112555/airplane_100/bump_noise/results/bin_8053.24_8572.86_itr_1', 'saved/edit/experiments/bump_edits/CINIC10_ImageNet-VGG_16/0208_112555/airplane_100/bump_noise/results/bin_8053.24_8572.86_itr_2', 'saved/edit/experiments/bump_edits/CINIC10_ImageNet-VGG_16/0208_112555/airplane_100/bump_noise/results/bin_8053.24_8572.86_itr_3', 'saved/edit/experiments/bump_edits/CINIC10_ImageNet-VGG_16/0208_112555/airplane_100/bump_noise/results/bin_8572.86_9092.48_itr_0', 'saved/edit/experiments/bump_edits/CINIC10_ImageNet-VGG_16/0208_112555/airplane_100/bump_noise/results/bin_8572.86_9092.48_itr_1', 'saved/edit/experiments/bump_edits/CINIC10_ImageNet-VGG_16/0208_112555/airplane_100/bump_noise/results/bin_8572.86_9092.48_itr_2', 'saved/edit/experiments/bump_edits/CINIC10_ImageNet-VGG_16/0208_112555/airplane_100/bump_noise/results/bin_8572.86_9092.48_itr_3', 'saved/edit/experiments/bump_edits/CINIC10_ImageNet-VGG_16/0208_112555/airplane_100/bump_noise/results/bin_8572.86_9092.48_itr_4', 'saved/edit/experiments/bump_edits/CINIC10_ImageNet-VGG_16/0208_112555/airplane_100/bump_noise/results/bin_8572.86_9092.48_itr_5', 'saved/edit/experiments/bump_edits/CINIC10_ImageNet-VGG_16/0208_112555/airplane_100/bump_noise/results/bin_9092.48_9612.1_itr_0', 'saved/edit/experiments/bump_edits/CINIC10_ImageNet-VGG_16/0208_112555/airplane_100/bump_noise/results/bin_9092.48_9612.1_itr_1', 'saved/edit/experiments/bump_edits/CINIC10_ImageNet-VGG_16/0208_112555/airplane_100/bump_noise/results/bin_9092.48_9612.1_itr_2', 'saved/edit/experiments/bump_edits/CINIC10_ImageNet-VGG_16/0208_112555/airplane_100/bump_noise/results/bin_9092.48_9612.1_itr_3', 'saved/edit/experiments/bump_edits/CINIC10_ImageNet-VGG_16/0208_112555/airplane_100/bump_noise/results/bin_9092.48_9612.1_itr_4', 'saved/edit/experiments/bump_edits/CINIC10_ImageNet-VGG_16/0208_112555/airplane_100/bump_noise/results/bin_9092.48_9612.1_itr_5', 'saved/edit/experiments/bump_edits/CINIC10_ImageNet-VGG_16/0208_112555/airplane_100/bump_noise/results/bin_9092.48_9612.1_itr_6', 'saved/edit/experiments/bump_edits/CINIC10_ImageNet-VGG_16/0208_112555/airplane_100/bump_noise/results/bin_9612.1_10131.720000000001_itr_0', 'saved/edit/experiments/bump_edits/CINIC10_ImageNet-VGG_16/0208_112555/airplane_100/bump_noise/results/bin_9612.1_10131.720000000001_itr_1', 'saved/edit/experiments/bump_edits/CINIC10_ImageNet-VGG_16/0208_112555/airplane_100/bump_noise/results/bin_10131.720000000001_10651.34_itr_0', 'saved/edit/experiments/bump_edits/CINIC10_ImageNet-VGG_16/0208_112555/airplane_100/bump_noise/results/bin_10131.720000000001_10651.34_itr_1', 'saved/edit/experiments/bump_edits/CINIC10_ImageNet-VGG_16/0208_112555/airplane_100/bump_noise/results/bin_10131.720000000001_10651.34_itr_2', 'saved/edit/experiments/bump_edits/CINIC10_ImageNet-VGG_16/0208_112555/airplane_100/bump_noise/results/bin_10131.720000000001_10651.34_itr_3', 'saved/edit/experiments/bump_edits/CINIC10_ImageNet-VGG_16/0208_112555/airplane_100/bump_noise/results/bin_10131.720000000001_10651.34_itr_4', 'saved/edit/experiments/bump_edits/CINIC10_ImageNet-VGG_16/0208_112555/airplane_100/bump_noise/results/bin_10131.720000000001_10651.34_itr_5', 'saved/edit/experiments/bump_edits/CINIC10_ImageNet-VGG_16/0208_112555/airplane_100/bump_noise/results/bin_10131.720000000001_10651.34_itr_6', 'saved/edit/experiments/bump_edits/CINIC10_ImageNet-VGG_16/0208_112555/airplane_100/bump_noise/results/bin_10651.34_11170.96_itr_0', 'saved/edit/experiments/bump_edits/CINIC10_ImageNet-VGG_16/0208_112555/airplane_100/bump_noise/results/bin_10651.34_11170.96_itr_1', 'saved/edit/experiments/bump_edits/CINIC10_ImageNet-VGG_16/0208_112555/airplane_100/bump_noise/results/bin_10651.34_11170.96_itr_2', 'saved/edit/experiments/bump_edits/CINIC10_ImageNet-VGG_16/0208_112555/airplane_100/bump_noise/results/bin_10651.34_11170.96_itr_3', 'saved/edit/experiments/bump_edits/CINIC10_ImageNet-VGG_16/0208_112555/airplane_100/bump_noise/results/bin_10651.34_11170.96_itr_4', 'saved/edit/experiments/bump_edits/CINIC10_ImageNet-VGG_16/0208_112555/airplane_100/bump_noise/results/bin_10651.34_11170.96_itr_5', 'saved/edit/experiments/bump_edits/CINIC10_ImageNet-VGG_16/0208_112555/airplane_100/bump_noise/results/bin_11170.96_11690.58_itr_0', 'saved/edit/experiments/bump_edits/CINIC10_ImageNet-VGG_16/0208_112555/airplane_100/bump_noise/results/bin_11170.96_11690.58_itr_1', 'saved/edit/experiments/bump_edits/CINIC10_ImageNet-VGG_16/0208_112555/airplane_100/bump_noise/results/bin_11690.58_12210.2_itr_0', 'saved/edit/experiments/bump_edits/CINIC10_ImageNet-VGG_16/0208_112555/airplane_100/bump_noise/results/bin_11690.58_12210.2_itr_1', 'saved/edit/experiments/bump_edits/CINIC10_ImageNet-VGG_16/0208_112555/airplane_100/bump_noise/results/bin_11690.58_12210.2_itr_2', 'saved/edit/experiments/bump_edits/CINIC10_ImageNet-VGG_16/0208_112555/airplane_100/bump_noise/results/bin_11690.58_12210.2_itr_3', 'saved/edit/experiments/bump_edits/CINIC10_ImageNet-VGG_16/0208_112555/airplane_100/bump_noise/results/bin_11690.58_12210.2_itr_4', 'saved/edit/experiments/bump_edits/CINIC10_ImageNet-VGG_16/0208_112555/airplane_100/bump_noise/results/bin_11690.58_12210.2_itr_5', 'saved/edit/experiments/bump_edits/CINIC10_ImageNet-VGG_16/0208_112555/airplane_100/bump_noise/results/bin_12210.2_12729.82_itr_0', 'saved/edit/experiments/bump_edits/CINIC10_ImageNet-VGG_16/0208_112555/airplane_100/bump_noise/results/bin_12210.2_12729.82_itr_1', 'saved/edit/experiments/bump_edits/CINIC10_ImageNet-VGG_16/0208_112555/airplane_100/bump_noise/results/bin_12210.2_12729.82_itr_2', 'saved/edit/experiments/bump_edits/CINIC10_ImageNet-VGG_16/0208_112555/airplane_100/bump_noise/results/bin_12210.2_12729.82_itr_3', 'saved/edit/experiments/bump_edits/CINIC10_ImageNet-VGG_16/0208_112555/airplane_100/bump_noise/results/bin_12210.2_12729.82_itr_4', 'saved/edit/experiments/bump_edits/CINIC10_ImageNet-VGG_16/0208_112555/airplane_100/bump_noise/results/bin_12210.2_12729.82_itr_5', 'saved/edit/experiments/bump_edits/CINIC10_ImageNet-VGG_16/0208_112555/airplane_100/bump_noise/results/bin_12729.82_13249.44_itr_0', 'saved/edit/experiments/bump_edits/CINIC10_ImageNet-VGG_16/0208_112555/airplane_100/bump_noise/results/bin_12729.82_13249.44_itr_1', 'saved/edit/experiments/bump_edits/CINIC10_ImageNet-VGG_16/0208_112555/airplane_100/bump_noise/results/bin_12729.82_13249.44_itr_2', 'saved/edit/experiments/bump_edits/CINIC10_ImageNet-VGG_16/0208_112555/airplane_100/bump_noise/results/bin_12729.82_13249.44_itr_3', 'saved/edit/experiments/bump_edits/CINIC10_ImageNet-VGG_16/0208_112555/airplane_100/bump_noise/results/bin_12729.82_13249.44_itr_4', 'saved/edit/experiments/bump_edits/CINIC10_ImageNet-VGG_16/0208_112555/airplane_100/bump_noise/results/bin_12729.82_13249.44_itr_5', 'saved/edit/experiments/bump_edits/CINIC10_ImageNet-VGG_16/0208_112555/airplane_100/bump_noise/results/bin_12729.82_13249.44_itr_6', 'saved/edit/experiments/bump_edits/CINIC10_ImageNet-VGG_16/0208_112555/airplane_100/bump_noise/results/bin_12729.82_13249.44_itr_7', 'saved/edit/experiments/bump_edits/CINIC10_ImageNet-VGG_16/0208_112555/airplane_100/bump_noise/results/bin_12729.82_13249.44_itr_8', 'saved/edit/experiments/bump_edits/CINIC10_ImageNet-VGG_16/0208_112555/airplane_100/bump_noise/results/bin_12729.82_13249.44_itr_9', 'saved/edit/experiments/bump_edits/CINIC10_ImageNet-VGG_16/0208_112555/airplane_100/bump_noise/results/bin_13249.44_13769.060000000001_itr_0', 'saved/edit/experiments/bump_edits/CINIC10_ImageNet-VGG_16/0208_112555/airplane_100/bump_noise/results/bin_13249.44_13769.060000000001_itr_1', 'saved/edit/experiments/bump_edits/CINIC10_ImageNet-VGG_16/0208_112555/airplane_100/bump_noise/results/bin_13769.060000000001_14288.68_itr_0', 'saved/edit/experiments/bump_edits/CINIC10_ImageNet-VGG_16/0208_112555/airplane_100/bump_noise/results/bin_13769.060000000001_14288.68_itr_1', 'saved/edit/experiments/bump_edits/CINIC10_ImageNet-VGG_16/0208_112555/airplane_100/bump_noise/results/bin_14288.68_14808.3_itr_0', 'saved/edit/experiments/bump_edits/CINIC10_ImageNet-VGG_16/0208_112555/airplane_100/bump_noise/results/bin_14288.68_14808.3_itr_1', 'saved/edit/experiments/bump_edits/CINIC10_ImageNet-VGG_16/0208_112555/airplane_100/bump_noise/results/bin_14288.68_14808.3_itr_2', 'saved/edit/experiments/bump_edits/CINIC10_ImageNet-VGG_16/0208_112555/airplane_100/bump_noise/results/bin_14808.3_15327.92_itr_0', 'saved/edit/experiments/bump_edits/CINIC10_ImageNet-VGG_16/0208_112555/airplane_100/bump_noise/results/bin_14808.3_15327.92_itr_1', 'saved/edit/experiments/bump_edits/CINIC10_ImageNet-VGG_16/0208_112555/airplane_100/bump_noise/results/bin_14808.3_15327.92_itr_2', 'saved/edit/experiments/bump_edits/CINIC10_ImageNet-VGG_16/0208_112555/airplane_100/bump_noise/results/bin_14808.3_15327.92_itr_3', 'saved/edit/experiments/bump_edits/CINIC10_ImageNet-VGG_16/0208_112555/airplane_100/bump_noise/results/bin_15327.92_15847.54_itr_0', 'saved/edit/experiments/bump_edits/CINIC10_ImageNet-VGG_16/0208_112555/airplane_100/bump_noise/results/bin_15327.92_15847.54_itr_1', 'saved/edit/experiments/bump_edits/CINIC10_ImageNet-VGG_16/0208_112555/airplane_100/bump_noise/results/bin_15327.92_15847.54_itr_2', 'saved/edit/experiments/bump_edits/CINIC10_ImageNet-VGG_16/0208_112555/airplane_100/bump_noise/results/bin_15327.92_15847.54_itr_3', 'saved/edit/experiments/bump_edits/CINIC10_ImageNet-VGG_16/0208_112555/airplane_100/bump_noise/results/bin_15327.92_15847.54_itr_4', 'saved/edit/experiments/bump_edits/CINIC10_ImageNet-VGG_16/0208_112555/airplane_100/bump_noise/results/bin_15327.92_15847.54_itr_5', 'saved/edit/experiments/bump_edits/CINIC10_ImageNet-VGG_16/0208_112555/airplane_100/bump_noise/results/bin_15847.54_16367.16_itr_0', 'saved/edit/experiments/bump_edits/CINIC10_ImageNet-VGG_16/0208_112555/airplane_100/bump_noise/results/bin_15847.54_16367.16_itr_1', 'saved/edit/experiments/bump_edits/CINIC10_ImageNet-VGG_16/0208_112555/airplane_100/bump_noise/results/bin_15847.54_16367.16_itr_2', 'saved/edit/experiments/bump_edits/CINIC10_ImageNet-VGG_16/0208_112555/airplane_100/bump_noise/results/bin_15847.54_16367.16_itr_3', 'saved/edit/experiments/bump_edits/CINIC10_ImageNet-VGG_16/0208_112555/airplane_100/bump_noise/results/bin_15847.54_16367.16_itr_4', 'saved/edit/experiments/bump_edits/CINIC10_ImageNet-VGG_16/0208_112555/airplane_100/bump_noise/results/bin_16367.16_16886.78_itr_0', 'saved/edit/experiments/bump_edits/CINIC10_ImageNet-VGG_16/0208_112555/airplane_100/bump_noise/results/bin_16367.16_16886.78_itr_1', 'saved/edit/experiments/bump_edits/CINIC10_ImageNet-VGG_16/0208_112555/airplane_100/bump_noise/results/bin_16886.78_17406.4_itr_0', 'saved/edit/experiments/bump_edits/CINIC10_ImageNet-VGG_16/0208_112555/airplane_100/bump_noise/results/bin_16886.78_17406.4_itr_1', 'saved/edit/experiments/bump_edits/CINIC10_ImageNet-VGG_16/0208_112555/airplane_100/bump_noise/results/bin_16886.78_17406.4_itr_2', 'saved/edit/experiments/bump_edits/CINIC10_ImageNet-VGG_16/0208_112555/airplane_100/bump_noise/results/bin_16886.78_17406.4_itr_3', 'saved/edit/experiments/bump_edits/CINIC10_ImageNet-VGG_16/0208_112555/airplane_100/bump_noise/results/bin_17406.4_17926.02_itr_0', 'saved/edit/experiments/bump_edits/CINIC10_ImageNet-VGG_16/0208_112555/airplane_100/bump_noise/results/bin_17406.4_17926.02_itr_1', 'saved/edit/experiments/bump_edits/CINIC10_ImageNet-VGG_16/0208_112555/airplane_100/bump_noise/results/bin_17406.4_17926.02_itr_2', 'saved/edit/experiments/bump_edits/CINIC10_ImageNet-VGG_16/0208_112555/airplane_100/bump_noise/results/bin_17406.4_17926.02_itr_3', 'saved/edit/experiments/bump_edits/CINIC10_ImageNet-VGG_16/0208_112555/airplane_100/bump_noise/results/bin_17406.4_17926.02_itr_4', 'saved/edit/experiments/bump_edits/CINIC10_ImageNet-VGG_16/0208_112555/airplane_100/bump_noise/results/bin_17926.02_18445.64_itr_0', 'saved/edit/experiments/bump_edits/CINIC10_ImageNet-VGG_16/0208_112555/airplane_100/bump_noise/results/bin_17926.02_18445.64_itr_1', 'saved/edit/experiments/bump_edits/CINIC10_ImageNet-VGG_16/0208_112555/airplane_100/bump_noise/results/bin_17926.02_18445.64_itr_2', 'saved/edit/experiments/bump_edits/CINIC10_ImageNet-VGG_16/0208_112555/airplane_100/bump_noise/results/bin_17926.02_18445.64_itr_3', 'saved/edit/experiments/bump_edits/CINIC10_ImageNet-VGG_16/0208_112555/airplane_100/bump_noise/results/bin_18965.260000000002_19484.88_itr_0', 'saved/edit/experiments/bump_edits/CINIC10_ImageNet-VGG_16/0208_112555/airplane_100/bump_noise/results/bin_19484.88_20004.5_itr_0', 'saved/edit/experiments/bump_edits/CINIC10_ImageNet-VGG_16/0208_112555/airplane_100/bump_noise/results/bin_19484.88_20004.5_itr_1', 'saved/edit/experiments/bump_edits/CINIC10_ImageNet-VGG_16/0208_112555/airplane_100/bump_noise/results/bin_21043.739999999998_21563.36_itr_0', 'saved/edit/experiments/bump_edits/CINIC10_ImageNet-VGG_16/0208_112555/airplane_100/bump_noise/results/bin_21563.36_22082.98_itr_0', 'saved/edit/experiments/bump_edits/CINIC10_ImageNet-VGG_16/0208_112555/airplane_100/bump_noise/results/bin_21563.36_22082.98_itr_1', 'saved/edit/experiments/bump_edits/CINIC10_ImageNet-VGG_16/0208_112555/airplane_100/bump_noise/results/bin_21563.36_22082.98_itr_2', 'saved/edit/experiments/bump_edits/CINIC10_ImageNet-VGG_16/0208_112555/airplane_100/bump_noise/results/bin_22082.98_22602.6_itr_0', 'saved/edit/experiments/bump_edits/CINIC10_ImageNet-VGG_16/0208_112555/airplane_100/bump_noise/results/bin_22082.98_22602.6_itr_1', 'saved/edit/experiments/bump_edits/CINIC10_ImageNet-VGG_16/0208_112555/airplane_100/bump_noise/results/bin_22082.98_22602.6_itr_2', 'saved/edit/experiments/bump_edits/CINIC10_ImageNet-VGG_16/0208_112555/airplane_100/bump_noise/results/bin_22082.98_22602.6_itr_3', 'saved/edit/experiments/bump_edits/CINIC10_ImageNet-VGG_16/0208_112555/airplane_100/bump_noise/results/bin_22602.6_23122.22_itr_0', 'saved/edit/experiments/bump_edits/CINIC10_ImageNet-VGG_16/0208_112555/airplane_100/bump_noise/results/bin_23122.22_23641.84_itr_0', 'saved/edit/experiments/bump_edits/CINIC10_ImageNet-VGG_16/0208_112555/airplane_100/bump_noise/results/bin_23122.22_23641.84_itr_1', 'saved/edit/experiments/bump_edits/CINIC10_ImageNet-VGG_16/0208_112555/airplane_100/bump_noise/results/bin_23122.22_23641.84_itr_2', 'saved/edit/experiments/bump_edits/CINIC10_ImageNet-VGG_16/0208_112555/airplane_100/bump_noise/results/bin_23122.22_23641.84_itr_3', 'saved/edit/experiments/bump_edits/CINIC10_ImageNet-VGG_16/0208_112555/airplane_100/bump_noise/results/bin_24161.46_24681.08_itr_0', 'saved/edit/experiments/bump_edits/CINIC10_ImageNet-VGG_16/0208_112555/airplane_100/bump_noise/results/bin_24161.46_24681.08_itr_1', 'saved/edit/experiments/bump_edits/CINIC10_ImageNet-VGG_16/0208_112555/airplane_100/bump_noise/results/bin_24681.08_25200.7_itr_0', 'saved/edit/experiments/bump_edits/CINIC10_ImageNet-VGG_16/0208_112555/airplane_100/bump_noise/results/bin_24681.08_25200.7_itr_1', 'saved/edit/experiments/bump_edits/CINIC10_ImageNet-VGG_16/0208_112555/airplane_100/bump_noise/results/bin_24681.08_25200.7_itr_2', 'saved/edit/experiments/bump_edits/CINIC10_ImageNet-VGG_16/0208_112555/airplane_100/bump_noise/results/bin_25200.7_25720.32_itr_0', 'saved/edit/experiments/bump_edits/CINIC10_ImageNet-VGG_16/0208_112555/airplane_100/bump_noise/results/bin_26239.94_26759.56_itr_0', 'saved/edit/experiments/bump_edits/CINIC10_ImageNet-VGG_16/0208_112555/airplane_100/bump_noise/results/bin_26239.94_26759.56_itr_1', 'saved/edit/experiments/bump_edits/CINIC10_ImageNet-VGG_16/0208_112555/airplane_100/bump_noise/results/bin_27798.8_28318.420000000002_itr_0', 'saved/edit/experiments/bump_edits/CINIC10_ImageNet-VGG_16/0208_112555/airplane_100/bump_noise/results/bin_28318.420000000002_28838.04_itr_0', 'saved/edit/experiments/bump_edits/CINIC10_ImageNet-VGG_16/0208_112555/airplane_100/bump_noise/results/bin_28838.04_29357.66_itr_0', 'saved/edit/experiments/bump_edits/CINIC10_ImageNet-VGG_16/0208_112555/airplane_100/bump_noise/results/bin_32475.38_32995.0_itr_0']\n",
      "Wrote list of trial_paths to saved/edit/experiments/bump_edits/CINIC10_ImageNet-VGG_16/0208_112555/airplane_100/bump_noise/trial_paths.txt\n"
     ]
    },
    {
     "name": "stderr",
     "output_type": "stream",
     "text": [
      "\n",
      "/n/fs/ac-editing/model-editing/src/model/metric.py:168: RuntimeWarning: invalid value encountered in divide\n",
      "  return np.nan_to_num(TPs / (TPs + FPs))\n",
      "/n/fs/ac-editing/model-editing/src/model/metric.py:205: RuntimeWarning: invalid value encountered in divide\n",
      "  return np.nan_to_num(2 * precisions * recalls / (precisions + recalls))\n"
     ]
    }
   ],
   "source": [
    "# bump_save_dir = os.path.join(os.path.dirname(os.path.dirname(config.save_dir)), save_timestamp, '{}_{}'.format(target_class_name, n_select))\n",
    "# ensure_dir(bump_save_dir)\n",
    "\n",
    "# bump_preds_metrics_path = os.path.join(bump_save_dir, 'bumps_preds_metrics.pth')\n",
    "# target_class_distribution_path = os.path.join(bump_save_dir, 'target_class_distribution.pth')\n",
    "\n",
    "# # Load objects\n",
    "# bumps_preds_metrics = torch.load(bump_preds_metrics_path)\n",
    "# target_class_distribution = torch.load(target_class_distribution_path)\n",
    "\n",
    "# # Determine whether to use noise_edits or not\n",
    "# noise_edit = config.config['editor']['noise_edit']\n",
    "# if noise_edit: \n",
    "#     results_save_dir = os.path.join(bump_save_dir, 'bump_noise', 'results')\n",
    "#     ensure_dir(results_save_dir)\n",
    "#     progress_report_path = os.path.join(bump_save_dir, 'bump_noise', 'progress_report.txt')\n",
    "#     trial_paths_path = os.path.join(bump_save_dir, 'bump_noise', 'trial_paths.txt')\n",
    "# else:\n",
    "#     results_save_dir = os.path.join(bump_save_dir, 'results')\n",
    "#     ensure_dir(results_save_dir)\n",
    "#     progress_report_path = os.path.join(bump_save_dir, 'progress_report.txt')\n",
    "#     trial_paths_path = os.path.join(bump_save_dir, 'trial_paths.txt')\n",
    "\n",
    "# print(\"Performing bump{} edits for {} class\".format(\"-noise\" if noise_edit else \"\", target_class_name))\n",
    "# print(\"Trial paths stored at {}\".format(trial_paths_path))\n",
    "# print(\"Results will be saved to {}\".format(results_save_dir))\n",
    "# # Remove file at trial_paths_path if it exists\n",
    "# if os.path.isfile(trial_paths_path):\n",
    "#     os.remove(trial_paths_path)\n",
    "\n",
    "# print(noise_edit)\n",
    "# if not noise_edit:\n",
    "#     trial_paths = replicate_bump_results(\n",
    "#         bumps_preds_metrics=bumps_preds_metrics,\n",
    "#         target_class_distribution=target_class_distribution,\n",
    "#         results_save_dir=results_save_dir,\n",
    "#         trial_paths_path=trial_paths_path)\n",
    "# else:\n",
    "#     # Create editor\n",
    "#     editor_args = config.config['editor']['args']\n",
    "#     editor_args['arch'] = config.config['arch']['args']['type']\n",
    "#     editor = Editor(**editor_args)\n",
    "#     # Recreate trial results with bump and noise\n",
    "#     trial_paths = replicate_bump_noise_results(\n",
    "#         bumps_preds_metrics=bumps_preds_metrics,\n",
    "#         target_class_distribution=target_class_distribution,\n",
    "#         results_save_dir=results_save_dir,\n",
    "#         trial_paths_path=trial_paths_path,\n",
    "#         progress_report_path=progress_report_path,\n",
    "#         # Parameters for adding noise\n",
    "#         # noise_edit=noise_edit,\n",
    "#         target_class_idx=target_class_idx,\n",
    "#         config=config,\n",
    "#         data_loader=val_paths_data_loader,\n",
    "#         loss_fn=loss_fn,\n",
    "#         metrics_fns=metric_fns,\n",
    "#         editor=editor,\n",
    "#         device=device)\n",
    "\n",
    "        \n",
    "    \n",
    "# print(trial_paths)\n",
    "# write_lists(trial_paths_path, trial_paths)\n",
    "# print(\"Wrote list of trial_paths to {}\".format(trial_paths_path))"
   ]
  },
  {
   "cell_type": "code",
   "execution_count": 34,
   "metadata": {},
   "outputs": [
    {
     "name": "stdout",
     "output_type": "stream",
     "text": [
      "No artists with labels found to put in legend.  Note that artists whose label start with an underscore are ignored when legend() is called with no argument.\n"
     ]
    },
    {
     "name": "stderr",
     "output_type": "stream",
     "text": [
      "--- Logging error ---\n",
      "Traceback (most recent call last):\n",
      "  File \"/n/fs/ac-project/anaconda3/envs/editing/lib/python3.8/logging/handlers.py\", line 69, in emit\n",
      "    if self.shouldRollover(record):\n",
      "  File \"/n/fs/ac-project/anaconda3/envs/editing/lib/python3.8/logging/handlers.py\", line 186, in shouldRollover\n",
      "    self.stream.seek(0, 2)  #due to non-posix-compliant Windows feature\n",
      "OSError: [Errno 116] Stale file handle\n",
      "Call stack:\n",
      "  File \"/n/fs/ac-project/anaconda3/envs/editing/lib/python3.8/runpy.py\", line 194, in _run_module_as_main\n",
      "    return _run_code(code, main_globals, None,\n",
      "  File \"/n/fs/ac-project/anaconda3/envs/editing/lib/python3.8/runpy.py\", line 87, in _run_code\n",
      "    exec(code, run_globals)\n",
      "  File \"/u/ac4802/.local/lib/python3.8/site-packages/ipykernel_launcher.py\", line 17, in <module>\n",
      "    app.launch_new_instance()\n",
      "  File \"/u/ac4802/.local/lib/python3.8/site-packages/traitlets/config/application.py\", line 978, in launch_instance\n",
      "    app.start()\n",
      "  File \"/u/ac4802/.local/lib/python3.8/site-packages/ipykernel/kernelapp.py\", line 712, in start\n",
      "    self.io_loop.start()\n",
      "  File \"/u/ac4802/.local/lib/python3.8/site-packages/tornado/platform/asyncio.py\", line 215, in start\n",
      "    self.asyncio_loop.run_forever()\n",
      "  File \"/n/fs/ac-project/anaconda3/envs/editing/lib/python3.8/asyncio/base_events.py\", line 570, in run_forever\n",
      "    self._run_once()\n",
      "  File \"/n/fs/ac-project/anaconda3/envs/editing/lib/python3.8/asyncio/base_events.py\", line 1859, in _run_once\n",
      "    handle._run()\n",
      "  File \"/n/fs/ac-project/anaconda3/envs/editing/lib/python3.8/asyncio/events.py\", line 81, in _run\n",
      "    self._context.run(self._callback, *self._args)\n",
      "  File \"/u/ac4802/.local/lib/python3.8/site-packages/ipykernel/kernelbase.py\", line 510, in dispatch_queue\n",
      "    await self.process_one()\n",
      "  File \"/u/ac4802/.local/lib/python3.8/site-packages/ipykernel/kernelbase.py\", line 499, in process_one\n",
      "    await dispatch(*args)\n",
      "  File \"/u/ac4802/.local/lib/python3.8/site-packages/ipykernel/kernelbase.py\", line 406, in dispatch_shell\n",
      "    await result\n",
      "  File \"/u/ac4802/.local/lib/python3.8/site-packages/ipykernel/kernelbase.py\", line 730, in execute_request\n",
      "    reply_content = await reply_content\n",
      "  File \"/u/ac4802/.local/lib/python3.8/site-packages/ipykernel/ipkernel.py\", line 383, in do_execute\n",
      "    res = shell.run_cell(\n",
      "  File \"/u/ac4802/.local/lib/python3.8/site-packages/ipykernel/zmqshell.py\", line 528, in run_cell\n",
      "    return super().run_cell(*args, **kwargs)\n",
      "  File \"/u/ac4802/.local/lib/python3.8/site-packages/IPython/core/interactiveshell.py\", line 2885, in run_cell\n",
      "    result = self._run_cell(\n",
      "  File \"/u/ac4802/.local/lib/python3.8/site-packages/IPython/core/interactiveshell.py\", line 2940, in _run_cell\n",
      "    return runner(coro)\n",
      "  File \"/u/ac4802/.local/lib/python3.8/site-packages/IPython/core/async_helpers.py\", line 129, in _pseudo_sync_runner\n",
      "    coro.send(None)\n",
      "  File \"/u/ac4802/.local/lib/python3.8/site-packages/IPython/core/interactiveshell.py\", line 3139, in run_cell_async\n",
      "    has_raised = await self.run_ast_nodes(code_ast.body, cell_name,\n",
      "  File \"/u/ac4802/.local/lib/python3.8/site-packages/IPython/core/interactiveshell.py\", line 3318, in run_ast_nodes\n",
      "    if await self.run_code(code, result, async_=asy):\n",
      "  File \"/u/ac4802/.local/lib/python3.8/site-packages/IPython/core/interactiveshell.py\", line 3378, in run_code\n",
      "    exec(code_obj, self.user_global_ns, self.user_ns)\n",
      "  File \"/tmp/ipykernel_1016287/2422944154.py\", line 2, in <module>\n",
      "    save_class_distribution(\n",
      "  File \"/tmp/ipykernel_1016287/4209334913.py\", line 29, in save_class_distribution\n",
      "    bin_values, bins, _ = histogram(\n",
      "  File \"/n/fs/ac-editing/model-editing/src/utils/visualizations.py\", line 376, in histogram\n",
      "    plt.legend()\n",
      "  File \"/n/fs/ac-project/anaconda3/envs/editing/lib/python3.8/site-packages/matplotlib/pyplot.py\", line 2667, in legend\n",
      "    return gca().legend(*args, **kwargs)\n",
      "  File \"/n/fs/ac-project/anaconda3/envs/editing/lib/python3.8/site-packages/matplotlib/axes/_axes.py\", line 299, in legend\n",
      "    handles, labels, extra_args, kwargs = mlegend._parse_legend_args(\n",
      "  File \"/n/fs/ac-project/anaconda3/envs/editing/lib/python3.8/site-packages/matplotlib/legend.py\", line 1217, in _parse_legend_args\n",
      "    log.warning(\n",
      "Message: 'No artists with labels found to put in legend.  Note that artists whose label start with an underscore are ignored when legend() is called with no argument.'\n",
      "Arguments: ()\n"
     ]
    },
    {
     "name": "stdout",
     "output_type": "stream",
     "text": [
      "Saved target class distribution & histogram data to saved/edit/experiments/bump_edits/CINIC10_ImageNet-VGG_16/0208_112555/automobile_100/bump_noise/target_class_distribution.pth\n"
     ]
    },
    {
     "data": {
      "text/plain": [
       "{'n_target_predictions': array([ 7828,  7820,  7847,  7778,  7828,  7813,  7824,  8694,  8699,\n",
       "         8536,  8766,  8791,  8693,  8755,  8695,  8719,  8683,  8655,\n",
       "         8736,  8644,  9548,  9500,  9308,  9414,  9442,  9516,  9459,\n",
       "         9490,  9333,  9442,  9494,  9379,  9376,  9303, 10639, 10683,\n",
       "        10639, 10705, 10822, 10765, 10866, 10790, 10773, 10598, 11074,\n",
       "        11357, 11458, 11334, 11997, 11706, 13292, 14293, 14461, 14302,\n",
       "        14142, 13842, 14053, 14068, 14090, 14571, 14658, 15060, 14843,\n",
       "        14808, 14517, 14717, 14787, 14841, 16025, 15994, 15976, 15963,\n",
       "        15965, 15987, 16293, 15814, 16077, 16264, 16253, 16328, 15907,\n",
       "        16148, 16228, 16013, 16183, 16120, 17448, 16606, 16720, 16972,\n",
       "        17111, 16866, 16381, 16661, 16841, 17077, 17237, 17583, 17898,\n",
       "        17778, 17948, 17969, 17596, 17670, 17580, 18727, 18502, 18559,\n",
       "        19167, 19248, 19225, 20326, 22684, 23171, 24276, 23299, 23760,\n",
       "        25793, 28990, 28034, 31953, 53699]),\n",
       " 'histogram_bin_values': array([14., 20.,  0., 13.,  3.,  0.,  6., 12.,  9., 15., 10.,  6.,  3.,\n",
       "         1.,  0.,  0.,  3.,  2.,  0.,  1.,  0.,  0.,  1.,  1.,  0.,  0.,\n",
       "         1.,  0.,  0.,  0.,  0.,  0.,  0.,  0.,  0.,  0.,  0.,  0.,  0.,\n",
       "         0.,  0.,  0.,  0.,  0.,  0.,  0.,  0.,  0.,  0.,  1.]),\n",
       " 'histogram_bins': array([ 7778.  ,  8696.42,  9614.84, 10533.26, 11451.68, 12370.1 ,\n",
       "        13288.52, 14206.94, 15125.36, 16043.78, 16962.2 , 17880.62,\n",
       "        18799.04, 19717.46, 20635.88, 21554.3 , 22472.72, 23391.14,\n",
       "        24309.56, 25227.98, 26146.4 , 27064.82, 27983.24, 28901.66,\n",
       "        29820.08, 30738.5 , 31656.92, 32575.34, 33493.76, 34412.18,\n",
       "        35330.6 , 36249.02, 37167.44, 38085.86, 39004.28, 39922.7 ,\n",
       "        40841.12, 41759.54, 42677.96, 43596.38, 44514.8 , 45433.22,\n",
       "        46351.64, 47270.06, 48188.48, 49106.9 , 50025.32, 50943.74,\n",
       "        51862.16, 52780.58, 53699.  ])}"
      ]
     },
     "execution_count": 34,
     "metadata": {},
     "output_type": "execute_result"
    }
   ],
   "source": [
    "# # Save class distribution as histogram\n",
    "# save_class_distribution(\n",
    "#     csv_path='saved/edit/experiments/bump_edits/CINIC10_ImageNet-VGG_16/0208_112555/automobile_100/bump_noise/results_table.csv', \n",
    "#     target_class_idx=target_class_idx,\n",
    "#     target_class_name=target_class_name)"
   ]
  },
  {
   "cell_type": "code",
   "execution_count": null,
   "metadata": {},
   "outputs": [],
   "source": []
  }
 ],
 "metadata": {
  "kernelspec": {
   "display_name": "editing",
   "language": "python",
   "name": "editing"
  },
  "language_info": {
   "codemirror_mode": {
    "name": "ipython",
    "version": 3
   },
   "file_extension": ".py",
   "mimetype": "text/x-python",
   "name": "python",
   "nbconvert_exporter": "python",
   "pygments_lexer": "ipython3",
   "version": "3.8.13"
  }
 },
 "nbformat": 4,
 "nbformat_minor": 4
}
