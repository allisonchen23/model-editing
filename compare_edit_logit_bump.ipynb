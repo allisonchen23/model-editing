{
 "cells": [
  {
   "cell_type": "markdown",
   "metadata": {},
   "source": [
    "## Given edit and corresponding logit bump, examine the differences"
   ]
  },
  {
   "cell_type": "code",
   "execution_count": 2,
   "metadata": {},
   "outputs": [],
   "source": [
    "# General imports\n",
    "import torch\n",
    "import numpy as np\n",
    "import os, sys\n",
    "import json\n",
    "from tqdm import tqdm"
   ]
  },
  {
   "cell_type": "code",
   "execution_count": 3,
   "metadata": {},
   "outputs": [],
   "source": [
    "# Local imports\n",
    "sys.path.insert(0, 'src')\n",
    "from utils import read_json, read_lists, list_to_dict, ensure_dir\n",
    "from utils.model_utils import prepare_device, quick_predict\n",
    "from parse_config import ConfigParser\n",
    "from data_loader import data_loaders\n",
    "import model.model as module_arch"
   ]
  },
  {
   "cell_type": "code",
   "execution_count": 6,
   "metadata": {},
   "outputs": [
    {
     "name": "stdout",
     "output_type": "stream",
     "text": [
      "torch.Size([70000, 10])\n"
     ]
    }
   ],
   "source": [
    "# Define constants, paths\n",
    "class_list_path = os.path.join('metadata', 'cinic-10', 'class_names.txt')\n",
    "\n",
    "edit_trial_paths_path = 'saved/edit/trials/CINIC10_ImageNet-VGG_16/airplane_100/0127_103716/trial_paths.txt'\n",
    "logit_bump_trial_paths_path = 'saved/edit/experiments/corresponding_bump_edits/CINIC10_ImageNet-VGG_16/0213_143741/airplane_100/trial_paths_mini.txt'\n",
    "\n",
    "edit_trial_paths = read_lists(edit_trial_paths_path)\n",
    "logit_bump_trial_paths = read_lists(logit_bump_trial_paths_path)\n",
    "\n",
    "pre_edit_logits_path = 'metadata/CINIC10_ImageNet-VGG_16/pre_edit_validation_set/pre_edit_logits.pth'\n",
    "pre_edit_logits = torch.load(pre_edit_logits_path)\n",
    "\n",
    "print(pre_edit_logits.shape)"
   ]
  },
  {
   "cell_type": "code",
   "execution_count": null,
   "metadata": {},
   "outputs": [],
   "source": [
    "# Load config file, models, and dataloader\n",
    "class_list = read_lists(class_list_path)\n",
    "class_idx_dict = list_to_dict(class_list)\n",
    "\n",
    "config_json = read_json(config_path)\n",
    "# config = ConfigParser(config_json)\n",
    "\n",
    "# device, device_ids = prepare_device(config_json['n_gpu'])"
   ]
  },
  {
   "cell_type": "markdown",
   "metadata": {},
   "source": [
    "### Define functions to 1) plot pre edit logits"
   ]
  },
  {
   "cell_type": "code",
   "execution_count": null,
   "metadata": {},
   "outputs": [],
   "source": [
    "def plot_pre_post(pre_edit_logits,\n",
    "                  post_edit_logits,\n",
    "                  logit_bump_logits,\n",
    "                  plot_softmax=False):\n",
    "    '''\n",
    "    Plot graph of post edit vs pre edit logits/softmax for each data point in the validation set\n",
    "    \n",
    "    Arg(s):\n",
    "        pre_edit_logits : N x C (70K x 10) torch.tensor\n",
    "            logits of the pre edit model \n",
    "        post_edit_logits : N x C (70K x 10) torch.tensor\n",
    "            logits of the post edit model \n",
    "        logit_bump_logits : N x C (70K x 10) torch.tensor\n",
    "            logits of the corresponding logit_bump to the post edit model\n",
    "        plot_softmax : bool\n",
    "            if True, plot the softmax instead of pure logits values\n",
    "    '''"
   ]
  },
  {
   "cell_type": "code",
   "execution_count": null,
   "metadata": {},
   "outputs": [],
   "source": [
    "# Load model\n",
    "# layernum = config.config['layernum']\n",
    "# model = config.init_obj('arch', module_arch, layernum=layernum)"
   ]
  },
  {
   "cell_type": "code",
   "execution_count": null,
   "metadata": {},
   "outputs": [],
   "source": [
    "# Function definitions"
   ]
  },
  {
   "cell_type": "code",
   "execution_count": null,
   "metadata": {},
   "outputs": [],
   "source": [
    "# Pedal to the metal!"
   ]
  }
 ],
 "metadata": {
  "kernelspec": {
   "display_name": "editing",
   "language": "python",
   "name": "editing"
  },
  "language_info": {
   "codemirror_mode": {
    "name": "ipython",
    "version": 3
   },
   "file_extension": ".py",
   "mimetype": "text/x-python",
   "name": "python",
   "nbconvert_exporter": "python",
   "pygments_lexer": "ipython3",
   "version": "3.8.13"
  }
 },
 "nbformat": 4,
 "nbformat_minor": 4
}
