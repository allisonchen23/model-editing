{
 "cells": [
  {
   "cell_type": "code",
   "execution_count": 1,
   "id": "246ca290-9ff0-4159-9b89-70bef1025e29",
   "metadata": {},
   "outputs": [],
   "source": [
    "import os, sys\n",
    "import numpy as np\n",
    "import torch\n",
    "import matplotlib.pyplot as plt\n",
    "sys.path.insert(0, '../src')\n",
    "import datasets"
   ]
  },
  {
   "cell_type": "markdown",
   "id": "1b32e689-7e28-493c-96a1-e4d795851b7b",
   "metadata": {},
   "source": [
    "# Obtain statistics and easily analyze cinic-10 ImageNet extraction"
   ]
  },
  {
   "cell_type": "markdown",
   "id": "3ebaca40-eea0-4789-942d-eb7bbe6aeb7e",
   "metadata": {},
   "source": [
    "## Path to dataset + constants"
   ]
  },
  {
   "cell_type": "code",
   "execution_count": 2,
   "id": "48ecf224-0035-45c1-9388-72fe7f4d7897",
   "metadata": {},
   "outputs": [],
   "source": [
    "cinic10_imagenet_path = '/n/fs/ac-editing/model-editing/data/cinic-10-imagenet'\n",
    "cinic10_cifar_path = '/n/fs/ac-editing/model-editing/data/cinic-10-cifar'\n",
    "\n",
    "available_subdirs = [\"train\", \"test\", \"valid\"]\n",
    "\n",
    "cifar_mean = [0.4914, 0.4822, 0.4465]\n",
    "cifar_std = [0.2471, 0.2435, 0.2616]\n",
    "cinic_mean = [0.47889522, 0.47227842, 0.43047404]\n",
    "cinic_std = [0.24205776, 0.23828046, 0.25874835]"
   ]
  },
  {
   "cell_type": "markdown",
   "id": "70700200-fc43-48b6-83d5-427dd61851c4",
   "metadata": {},
   "source": [
    "## Define functions"
   ]
  },
  {
   "cell_type": "code",
   "execution_count": 3,
   "id": "21cf5a6c-eba4-434a-bd44-5b8f7712036d",
   "metadata": {},
   "outputs": [],
   "source": [
    "def summarize_directory(dataset_path, subdir=\"train\"):\n",
    "    assert subdir in available_subdirs\n",
    "    subdir_path = os.path.join(dataset_path, subdir)\n",
    "    print(\"Statistics for {}:\".format(subdir_path))\n",
    "    n_total_images = 0\n",
    "    for class_name in os.listdir(subdir_path):\n",
    "        if \".ipynb\" in class_name:\n",
    "            continue\n",
    "        class_dir = os.path.join(subdir_path, class_name)\n",
    "        \n",
    "        n_images = len(os.listdir(class_dir))\n",
    "        n_total_images += n_images\n",
    "        print(\"{} images for class {}\".format(n_images, class_dir))\n",
    "    \n",
    "    print(\"{} images in {} split\".format(n_total_images, subdir))"
   ]
  },
  {
   "cell_type": "markdown",
   "id": "ef70ee5b-e751-4837-91b8-f09027a19ec6",
   "metadata": {},
   "source": []
  },
  {
   "cell_type": "markdown",
   "id": "3adc0123-48de-415c-a0f7-9a2240af3039",
   "metadata": {},
   "source": [
    "## Test dataloader for CINIC-10 ImageNet"
   ]
  },
  {
   "cell_type": "code",
   "execution_count": 6,
   "id": "db8b1a99-8de1-4a3a-bfae-dab67ee352c8",
   "metadata": {},
   "outputs": [
    {
     "name": "stdout",
     "output_type": "stream",
     "text": [
      "Statistics for /n/fs/ac-editing/model-editing/data/cinic-10-imagenet/train:\n",
      "7000 images for class /n/fs/ac-editing/model-editing/data/cinic-10-imagenet/train/automobile\n",
      "0 images for class /n/fs/ac-editing/model-editing/data/cinic-10-imagenet/train/frog\n",
      "0 images for class /n/fs/ac-editing/model-editing/data/cinic-10-imagenet/train/truck\n",
      "0 images for class /n/fs/ac-editing/model-editing/data/cinic-10-imagenet/train/horse\n",
      "0 images for class /n/fs/ac-editing/model-editing/data/cinic-10-imagenet/train/ship\n",
      "0 images for class /n/fs/ac-editing/model-editing/data/cinic-10-imagenet/train/cat\n",
      "0 images for class /n/fs/ac-editing/model-editing/data/cinic-10-imagenet/train/dog\n",
      "7000 images in train split\n",
      "Statistics for /n/fs/ac-editing/model-editing/data/cinic-10-imagenet/test:\n",
      "0 images for class /n/fs/ac-editing/model-editing/data/cinic-10-imagenet/test/automobile\n",
      "0 images for class /n/fs/ac-editing/model-editing/data/cinic-10-imagenet/test/frog\n",
      "0 images for class /n/fs/ac-editing/model-editing/data/cinic-10-imagenet/test/truck\n",
      "0 images for class /n/fs/ac-editing/model-editing/data/cinic-10-imagenet/test/horse\n",
      "0 images for class /n/fs/ac-editing/model-editing/data/cinic-10-imagenet/test/ship\n",
      "0 images for class /n/fs/ac-editing/model-editing/data/cinic-10-imagenet/test/cat\n",
      "0 images for class /n/fs/ac-editing/model-editing/data/cinic-10-imagenet/test/dog\n",
      "0 images for class /n/fs/ac-editing/model-editing/data/cinic-10-imagenet/test/bird\n",
      "0 images for class /n/fs/ac-editing/model-editing/data/cinic-10-imagenet/test/deer\n",
      "0 images for class /n/fs/ac-editing/model-editing/data/cinic-10-imagenet/test/airplane\n",
      "0 images in test split\n",
      "Statistics for /n/fs/ac-editing/model-editing/data/cinic-10-imagenet/valid:\n"
     ]
    },
    {
     "ename": "FileNotFoundError",
     "evalue": "[Errno 2] No such file or directory: '/n/fs/ac-editing/model-editing/data/cinic-10-imagenet/valid'",
     "output_type": "error",
     "traceback": [
      "\u001b[0;31m---------------------------------------------------------------------------\u001b[0m",
      "\u001b[0;31mFileNotFoundError\u001b[0m                         Traceback (most recent call last)",
      "Cell \u001b[0;32mIn [6], line 2\u001b[0m\n\u001b[1;32m      1\u001b[0m \u001b[38;5;28;01mfor\u001b[39;00m subdir \u001b[38;5;129;01min\u001b[39;00m available_subdirs:\n\u001b[0;32m----> 2\u001b[0m     \u001b[43msummarize_directory\u001b[49m\u001b[43m(\u001b[49m\u001b[43mcinic10_imagenet_path\u001b[49m\u001b[43m,\u001b[49m\u001b[43m \u001b[49m\u001b[43msubdir\u001b[49m\u001b[43m)\u001b[49m\n\u001b[1;32m      3\u001b[0m \u001b[38;5;28mprint\u001b[39m(os\u001b[38;5;241m.\u001b[39mlistdir(os\u001b[38;5;241m.\u001b[39mpath\u001b[38;5;241m.\u001b[39mjoin(cinic10_imagenet_path, \u001b[38;5;124m'\u001b[39m\u001b[38;5;124mtrain\u001b[39m\u001b[38;5;124m'\u001b[39m)))\n",
      "Cell \u001b[0;32mIn [3], line 6\u001b[0m, in \u001b[0;36msummarize_directory\u001b[0;34m(dataset_path, subdir)\u001b[0m\n\u001b[1;32m      4\u001b[0m \u001b[38;5;28mprint\u001b[39m(\u001b[38;5;124m\"\u001b[39m\u001b[38;5;124mStatistics for \u001b[39m\u001b[38;5;132;01m{}\u001b[39;00m\u001b[38;5;124m:\u001b[39m\u001b[38;5;124m\"\u001b[39m\u001b[38;5;241m.\u001b[39mformat(subdir_path))\n\u001b[1;32m      5\u001b[0m n_total_images \u001b[38;5;241m=\u001b[39m \u001b[38;5;241m0\u001b[39m\n\u001b[0;32m----> 6\u001b[0m \u001b[38;5;28;01mfor\u001b[39;00m class_name \u001b[38;5;129;01min\u001b[39;00m \u001b[43mos\u001b[49m\u001b[38;5;241;43m.\u001b[39;49m\u001b[43mlistdir\u001b[49m\u001b[43m(\u001b[49m\u001b[43msubdir_path\u001b[49m\u001b[43m)\u001b[49m:\n\u001b[1;32m      7\u001b[0m     \u001b[38;5;28;01mif\u001b[39;00m \u001b[38;5;124m\"\u001b[39m\u001b[38;5;124m.ipynb\u001b[39m\u001b[38;5;124m\"\u001b[39m \u001b[38;5;129;01min\u001b[39;00m class_name:\n\u001b[1;32m      8\u001b[0m         \u001b[38;5;28;01mcontinue\u001b[39;00m\n",
      "\u001b[0;31mFileNotFoundError\u001b[0m: [Errno 2] No such file or directory: '/n/fs/ac-editing/model-editing/data/cinic-10-imagenet/valid'"
     ]
    }
   ],
   "source": [
    "for subdir in available_subdirs:\n",
    "    summarize_directory(cinic10_imagenet_path, subdir)\n",
    "print(os.listdir(os.path.join(cinic10_imagenet_path, 'train')))"
   ]
  },
  {
   "cell_type": "code",
   "execution_count": 24,
   "id": "252dd7c7-5a13-4f26-ae59-577b5f296123",
   "metadata": {},
   "outputs": [],
   "source": [
    "train_dataset = datasets.get_dataset(\n",
    "    dataset_path=cinic10_imagenet_path,\n",
    "    split='train',\n",
    "    normalize=False,\n",
    "    mean=cinic_mean,\n",
    "    std=cinic_std)\n",
    "\n",
    "train_dataloader = torch.utils.data.DataLoader(\n",
    "    train_dataset,\n",
    "    batch_size=5,\n",
    "    shuffle=False,\n",
    "    num_workers=8,\n",
    "    drop_last=False)"
   ]
  },
  {
   "cell_type": "code",
   "execution_count": null,
   "id": "a11b5c6e-1013-4a8a-9dee-3ecfb38156df",
   "metadata": {},
   "outputs": [],
   "source": [
    "print(os.getcwd())\n",
    "for idx, (image, label) in enumerate(train_dataloader):\n",
    "    image0 = image[0]\n",
    "    print(image.shape)\n",
    "    print(torch.max(image))\n",
    "    print(torch.min(image))\n",
    "    plt.imshow(image0.permute(1, 2, 0))\n",
    "    if idx == 2:\n",
    "        break\n",
    "    "
   ]
  },
  {
   "cell_type": "markdown",
   "id": "ea6a0b0d-2256-4b09-add3-acb45cbc3d48",
   "metadata": {},
   "source": [
    "## Test dataloader for CINIC-10 CIFAR10"
   ]
  },
  {
   "cell_type": "code",
   "execution_count": 5,
   "id": "7075f19e-d79b-4bf2-a4dd-cca408baa772",
   "metadata": {},
   "outputs": [
    {
     "name": "stdout",
     "output_type": "stream",
     "text": [
      "Statistics for /n/fs/ac-editing/model-editing/data/cinic-10-cifar/train:\n",
      "2000 images for class /n/fs/ac-editing/model-editing/data/cinic-10-cifar/train/automobile\n",
      "2000 images for class /n/fs/ac-editing/model-editing/data/cinic-10-cifar/train/frog\n",
      "2000 images for class /n/fs/ac-editing/model-editing/data/cinic-10-cifar/train/truck\n",
      "2000 images for class /n/fs/ac-editing/model-editing/data/cinic-10-cifar/train/horse\n",
      "2000 images for class /n/fs/ac-editing/model-editing/data/cinic-10-cifar/train/ship\n",
      "2000 images for class /n/fs/ac-editing/model-editing/data/cinic-10-cifar/train/cat\n",
      "2000 images for class /n/fs/ac-editing/model-editing/data/cinic-10-cifar/train/dog\n",
      "2000 images for class /n/fs/ac-editing/model-editing/data/cinic-10-cifar/train/bird\n",
      "2000 images for class /n/fs/ac-editing/model-editing/data/cinic-10-cifar/train/deer\n",
      "2000 images for class /n/fs/ac-editing/model-editing/data/cinic-10-cifar/train/airplane\n",
      "20000 images in train split\n",
      "Statistics for /n/fs/ac-editing/model-editing/data/cinic-10-cifar/test:\n",
      "2000 images for class /n/fs/ac-editing/model-editing/data/cinic-10-cifar/test/automobile\n",
      "2000 images for class /n/fs/ac-editing/model-editing/data/cinic-10-cifar/test/frog\n",
      "2000 images for class /n/fs/ac-editing/model-editing/data/cinic-10-cifar/test/truck\n",
      "2000 images for class /n/fs/ac-editing/model-editing/data/cinic-10-cifar/test/horse\n",
      "2000 images for class /n/fs/ac-editing/model-editing/data/cinic-10-cifar/test/ship\n",
      "2000 images for class /n/fs/ac-editing/model-editing/data/cinic-10-cifar/test/cat\n",
      "2000 images for class /n/fs/ac-editing/model-editing/data/cinic-10-cifar/test/dog\n",
      "2000 images for class /n/fs/ac-editing/model-editing/data/cinic-10-cifar/test/bird\n",
      "2000 images for class /n/fs/ac-editing/model-editing/data/cinic-10-cifar/test/deer\n",
      "2000 images for class /n/fs/ac-editing/model-editing/data/cinic-10-cifar/test/airplane\n",
      "20000 images in test split\n",
      "Statistics for /n/fs/ac-editing/model-editing/data/cinic-10-cifar/valid:\n",
      "2000 images for class /n/fs/ac-editing/model-editing/data/cinic-10-cifar/valid/automobile\n",
      "2000 images for class /n/fs/ac-editing/model-editing/data/cinic-10-cifar/valid/frog\n",
      "2000 images for class /n/fs/ac-editing/model-editing/data/cinic-10-cifar/valid/truck\n",
      "2000 images for class /n/fs/ac-editing/model-editing/data/cinic-10-cifar/valid/horse\n",
      "2000 images for class /n/fs/ac-editing/model-editing/data/cinic-10-cifar/valid/ship\n",
      "2000 images for class /n/fs/ac-editing/model-editing/data/cinic-10-cifar/valid/cat\n",
      "2000 images for class /n/fs/ac-editing/model-editing/data/cinic-10-cifar/valid/dog\n",
      "2000 images for class /n/fs/ac-editing/model-editing/data/cinic-10-cifar/valid/bird\n",
      "2000 images for class /n/fs/ac-editing/model-editing/data/cinic-10-cifar/valid/deer\n",
      "2000 images for class /n/fs/ac-editing/model-editing/data/cinic-10-cifar/valid/airplane\n",
      "20000 images in valid split\n",
      "['automobile', 'frog', 'truck', 'horse', 'ship', 'cat', 'dog', 'bird', 'deer', 'airplane']\n"
     ]
    }
   ],
   "source": [
    "for subdir in available_subdirs:\n",
    "    summarize_directory(cinic10_cifar_path, subdir)\n",
    "print(os.listdir(os.path.join(cinic10_cifar_path, 'train')))"
   ]
  },
  {
   "cell_type": "code",
   "execution_count": null,
   "id": "d765d3a9-c81b-4cce-a8d2-e95ff925b59d",
   "metadata": {},
   "outputs": [],
   "source": [
    "train_dataset = datasets.get_dataset(\n",
    "    dataset_path=cinic10_cifar_path,\n",
    "    split='train',\n",
    "    normalize=False,\n",
    "    mean=cinic_mean,\n",
    "    std=cinic_std)\n",
    "\n",
    "train_dataloader = torch.utils.data.DataLoader(\n",
    "    train_dataset,\n",
    "    batch_size=5,\n",
    "    shuffle=False,\n",
    "    num_workers=8,\n",
    "    drop_last=False)"
   ]
  }
 ],
 "metadata": {
  "kernelspec": {
   "display_name": "editing",
   "language": "python",
   "name": "editing"
  },
  "language_info": {
   "codemirror_mode": {
    "name": "ipython",
    "version": 3
   },
   "file_extension": ".py",
   "mimetype": "text/x-python",
   "name": "python",
   "nbconvert_exporter": "python",
   "pygments_lexer": "ipython3",
   "version": "3.8.13"
  }
 },
 "nbformat": 4,
 "nbformat_minor": 5
}
