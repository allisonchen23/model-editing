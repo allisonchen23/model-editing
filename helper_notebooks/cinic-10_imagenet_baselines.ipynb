{
 "cells": [
  {
   "cell_type": "markdown",
   "id": "6bc86cd1-062c-4890-898a-b18426a5fbee",
   "metadata": {},
   "source": [
    "## Run the CIFAR 10 models on CINIC-10 ImageNet test set"
   ]
  },
  {
   "cell_type": "code",
   "execution_count": 2,
   "id": "3e8cce31-0c5a-4d3d-b02c-a7ceb8fa6df3",
   "metadata": {},
   "outputs": [],
   "source": [
    "import os, sys\n",
    "import torch\n",
    "from argparse import Namespace\n",
    "sys.path.insert(0, '/n/fs/ac-editing/model-editing/external_code/PyTorch_CIFAR10')\n",
    "from train import main as cifar10_test\n",
    "sys.path.insert(0, '/n/fs/ac-editing/model-editing/src')\n",
    "from run_model import run_model"
   ]
  },
  {
   "cell_type": "code",
   "execution_count": 3,
   "id": "17da3049-8509-4c16-96ad-5dee8dc6942e",
   "metadata": {},
   "outputs": [],
   "source": [
    "# Define constants\n",
    "MODEL_NAMES = ['vgg11_bn', 'vgg13_bn', 'vgg16_bn', 'vgg19_bn',\n",
    "               'resnet18', 'resnet34', 'resnet50',\n",
    "               'densenet121', 'densenet161', 'densenet169',\n",
    "               'mobilenet_v2', 'googlenet', 'inception_v3']\n",
    "EXPECTED_CIFAR10_ACC = {\n",
    "    \"vgg11_bn\": 92.39,\n",
    "    \"vgg13_bn\": 94.22,\n",
    "    \"vgg16_bn\": 94.00,\n",
    "    \"vgg19_bn\": 93.95,\n",
    "    \"resnet18\": 93.07,\n",
    "    \"resnet34\": 93.34,\n",
    "    \"resnet50\": 93.65,\n",
    "    \"densenet121\": 94.06,\n",
    "    \"densenet161\": 94.07,\n",
    "    \"densenet169\": 94.05,\n",
    "    \"mobilenet_v2\": 93.91,\n",
    "    \"googlenet\": 92.85,\n",
    "    \"inception_v3\": 93.74,\n",
    "}\n",
    "CHECKPOINT_DIRPATH = \"/n/fs/ac-editing/model-editing/external_code/PyTorch_CIFAR10/cifar10_models/state_dicts\"\n",
    "DATA_PATH = '/n/fs/ac-editing/model-editing/data/'\n",
    "CINIC10_IMAGENET_PATH = os.path.join(DATA_PATH, \"cinic-10-imagenet\")\n",
    "CINIC10_CIFAR_PATH = os.path.join(DATA_PATH, \"cinic-10-cifar\")\n",
    "CIFAR10_PATH = DATA_PATH  # the torchvision expects the parent folder\n",
    "\n",
    "# Data for normalization\n",
    "cifar_mean = [0.4914, 0.4822, 0.4465]\n",
    "cifar_std = [0.2471, 0.2435, 0.2616]\n",
    "cinic_mean = [0.47889522, 0.47227842, 0.43047404]\n",
    "cinic_std = [0.24205776, 0.23828046, 0.25874835]\n",
    "# hyper parameters\n",
    "batch_size=256\n",
    "num_workers=8"
   ]
  },
  {
   "cell_type": "code",
   "execution_count": null,
   "id": "e80bb914-c9cc-453f-9b75-500d28fa3d31",
   "metadata": {},
   "outputs": [
    {
     "name": "stderr",
     "output_type": "stream",
     "text": [
      "/n/fs/ac-project/miniconda3/envs/editing/lib/python3.8/site-packages/pytorch_lightning/trainer/connectors/accelerator_connector.py:446: LightningDeprecationWarning: Setting `Trainer(gpus=[0])` is deprecated in v1.7 and will be removed in v2.0. Please use `Trainer(accelerator='gpu', devices=[0])` instead.\n",
      "  rank_zero_deprecation(\n",
      "GPU available: True (cuda), used: True\n",
      "TPU available: False, using: 0 TPU cores\n",
      "IPU available: False, using: 0 IPUs\n",
      "HPU available: False, using: 0 HPUs\n"
     ]
    },
    {
     "name": "stdout",
     "output_type": "stream",
     "text": [
      "/usr/bin/srun\n",
      "/usr/bin/srun\n",
      "/usr/bin/srun\n"
     ]
    },
    {
     "name": "stderr",
     "output_type": "stream",
     "text": [
      "LOCAL_RANK: 0 - CUDA_VISIBLE_DEVICES: [0,1]\n"
     ]
    },
    {
     "data": {
      "application/vnd.jupyter.widget-view+json": {
       "model_id": "adce82ebc4fd4396b17590bf0461c36c",
       "version_major": 2,
       "version_minor": 0
      },
      "text/plain": [
       "Testing: 0it [00:00, ?it/s]"
      ]
     },
     "metadata": {},
     "output_type": "display_data"
    }
   ],
   "source": [
    "cifar10_args = Namespace(\n",
    "    data_dir=CIFAR10_PATH,\n",
    "    checkpoint_dir=CHECKPOINT_DIRPATH,\n",
    "    download_weights=False,\n",
    "    gpu_id=str(0),\n",
    "    logger='tensorboard',\n",
    "    dev=0,\n",
    "    pretrained=1,\n",
    "    test_phase=1,\n",
    "    max_epochs=100,\n",
    "    batch_size=batch_size,\n",
    "    num_workers=num_workers,\n",
    "    precision=32,\n",
    "    classifier=None)\n",
    "\n",
    "for model_name in MODEL_NAMES:\n",
    "    if model_name == 'vgg13_bn':\n",
    "        break\n",
    "    # cifar10_args.classifier = model_name\n",
    "    # cifar10_test_results = cifar10_test(cifar10_args)\n",
    "    # print(\"model: {} cifar10_results: {}\".format(model_name, cifar10_test_results))\n",
    "    # assert round(cifar10_test_results[0]['acc/test'], 2) == EXPECTED_CIFAR10_ACC[model_name]\n",
    "    # print(\"HI\")\n",
    "    # Run on CINIC10 ImageNet data\n",
    "    model_restore_path = os.path.join(CHECKPOINT_DIRPATH, model_name + \".pt\")\n",
    "    cinic10_imagenet_test_results = run_model(\n",
    "        dataset_path=CINIC10_IMAGENET_PATH,\n",
    "        model_restore_path=model_restore_path,\n",
    "        model_type=model_name,\n",
    "        data_split='test',\n",
    "        batch_size=batch_size,\n",
    "        normalize=True,\n",
    "        mean=cifar_mean,\n",
    "        std=cifar_std,\n",
    "        n_threads=num_workers,\n",
    "        device='gpu')\n",
    "    print(\"results on cinic10: {}\".format(cinic10_imagenet_test_results))\n",
    "                                        \n",
    "        \n",
    "        "
   ]
  },
  {
   "cell_type": "code",
   "execution_count": null,
   "id": "c7e1a666-b03e-49a2-9d30-39dd66caa239",
   "metadata": {},
   "outputs": [],
   "source": []
  }
 ],
 "metadata": {
  "kernelspec": {
   "display_name": "editing",
   "language": "python",
   "name": "editing"
  },
  "language_info": {
   "codemirror_mode": {
    "name": "ipython",
    "version": 3
   },
   "file_extension": ".py",
   "mimetype": "text/x-python",
   "name": "python",
   "nbconvert_exporter": "python",
   "pygments_lexer": "ipython3",
   "version": "3.8.13"
  }
 },
 "nbformat": 4,
 "nbformat_minor": 5
}
