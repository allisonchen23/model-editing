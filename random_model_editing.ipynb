{
 "cells": [
  {
   "cell_type": "markdown",
   "metadata": {},
   "source": [
    "## Random Model Editing: How does performance change when the model is randomly changed rather than using an image to guide the edit?"
   ]
  },
  {
   "cell_type": "code",
   "execution_count": 1,
   "metadata": {},
   "outputs": [],
   "source": [
    "# General imports\n",
    "import torch\n",
    "import numpy as np\n",
    "import os, sys\n",
    "import json\n",
    "from tqdm import tqdm\n",
    "from datetime import datetime\n",
    "import pandas as pd"
   ]
  },
  {
   "cell_type": "code",
   "execution_count": 47,
   "metadata": {},
   "outputs": [
    {
     "ename": "ImportError",
     "evalue": "cannot import name 'get_target_weights' from 'utils.edit_utils' (/n/fs/ac-editing/model-editing/src/utils/edit_utils.py)",
     "output_type": "error",
     "traceback": [
      "\u001b[0;31m---------------------------------------------------------------------------\u001b[0m",
      "\u001b[0;31mImportError\u001b[0m                               Traceback (most recent call last)",
      "Cell \u001b[0;32mIn [47], line 15\u001b[0m\n\u001b[1;32m     13\u001b[0m \u001b[38;5;28;01mfrom\u001b[39;00m \u001b[38;5;21;01mutils\u001b[39;00m\u001b[38;5;21;01m.\u001b[39;00m\u001b[38;5;21;01mmodel_utils\u001b[39;00m \u001b[38;5;28;01mimport\u001b[39;00m prepare_device\n\u001b[1;32m     14\u001b[0m \u001b[38;5;28;01mfrom\u001b[39;00m \u001b[38;5;21;01mutils\u001b[39;00m\u001b[38;5;21;01m.\u001b[39;00m\u001b[38;5;21;01mresults_to_csv\u001b[39;00m \u001b[38;5;28;01mimport\u001b[39;00m store_csv\n\u001b[0;32m---> 15\u001b[0m \u001b[38;5;28;01mfrom\u001b[39;00m \u001b[38;5;21;01mutils\u001b[39;00m\u001b[38;5;21;01m.\u001b[39;00m\u001b[38;5;21;01medit_utils\u001b[39;00m \u001b[38;5;28;01mimport\u001b[39;00m prepare_edit_data, get_target_weights\n\u001b[1;32m     16\u001b[0m \u001b[38;5;28;01mfrom\u001b[39;00m \u001b[38;5;21;01mutils\u001b[39;00m\u001b[38;5;21;01m.\u001b[39;00m\u001b[38;5;21;01mknn_utils\u001b[39;00m \u001b[38;5;28;01mimport\u001b[39;00m knn, analyze_knn, load_and_analyze_knn\n\u001b[1;32m     18\u001b[0m \u001b[38;5;66;03m# fix random seeds for reproducibility\u001b[39;00m\n",
      "\u001b[0;31mImportError\u001b[0m: cannot import name 'get_target_weights' from 'utils.edit_utils' (/n/fs/ac-editing/model-editing/src/utils/edit_utils.py)"
     ]
    }
   ],
   "source": [
    "# Local imports\n",
    "sys.path.insert(0, 'src')\n",
    "from test import predict\n",
    "from parse_config import ConfigParser\n",
    "import datasets.datasets as module_data\n",
    "\n",
    "import model.loss as module_loss\n",
    "import model.metric as module_metric\n",
    "import model.model as module_arch\n",
    "from trainer.editor import Editor\n",
    "\n",
    "from utils import read_json, read_lists, informal_log, list_to_dict, write_lists, write_json, ensure_files\n",
    "from utils.model_utils import prepare_device\n",
    "from utils.results_to_csv import store_csv\n",
    "from utils.edit_utils import prepare_edit_data, get_target_weights\n",
    "from utils.knn_utils import knn, analyze_knn, load_and_analyze_knn\n",
    "from utils.visualizations import histogram\n",
    "\n",
    "# fix random seeds for reproducibility\n",
    "SEED = 123\n",
    "torch.manual_seed(SEED)\n",
    "torch.backends.cudnn.deterministic = True\n",
    "torch.backends.cudnn.benchmark = False\n",
    "np.random.seed(SEED)"
   ]
  },
  {
   "cell_type": "markdown",
   "metadata": {},
   "source": [
    "### Outline\n",
    "\n",
    "1. given a path of keys and values\n",
    "2. perform an edit for each key and value\n",
    "    a. save the weight difference in a list\n",
    "3. after all edits, stack the tensors and take the mean and std"
   ]
  },
  {
   "cell_type": "code",
   "execution_count": 28,
   "metadata": {},
   "outputs": [],
   "source": [
    "# Define constants, paths\n",
    "class_list_path = os.path.join('metadata', 'cinic-10', 'class_names.txt')\n",
    "# Define constants, paths\n",
    "config_path = 'configs/copies/edit_experiments/cinic10_imagenet-random_edit.json'\n",
    "class_list_path = 'metadata/cinic-10/class_names.txt'\n",
    "\n",
    "analyze_in_edit = False\n",
    "sort_type = 'softmax'"
   ]
  },
  {
   "cell_type": "code",
   "execution_count": 29,
   "metadata": {},
   "outputs": [],
   "source": [
    "timestamp = datetime.now().strftime(r'%m%d_%H%M%S')\n",
    "paths_timestamp = '0126_161209'\n"
   ]
  },
  {
   "cell_type": "code",
   "execution_count": 30,
   "metadata": {},
   "outputs": [],
   "source": [
    "# Load config file\n",
    "config_dict = read_json(config_path)\n",
    "# Load class list and obtain target class idx\n",
    "class_list = read_lists(class_list_path)\n",
    "class_idx_dict = list_to_dict(class_list)\n",
    "\n",
    "n_select = 100\n",
    "\n",
    "# Set K\n",
    "K = config_dict['editor']['K']\n",
    "\n",
    "device, device_ids = prepare_device(config_dict['n_gpu'])"
   ]
  },
  {
   "cell_type": "code",
   "execution_count": 31,
   "metadata": {},
   "outputs": [],
   "source": [
    "# Load datasets\n",
    "data_loader_args = dict(config_dict[\"data_loader\"][\"args\"])\n",
    "dataset_args = dict(config_dict[\"dataset_args\"])\n",
    "\n",
    "# Create validation data loader\n",
    "val_image_paths = read_lists(config_dict['dataset_paths']['valid_images'])\n",
    "val_labels = read_lists(config_dict['dataset_paths']['valid_labels'])\n",
    "val_paths_data_loader = torch.utils.data.DataLoader(\n",
    "    module_data.CINIC10Dataset(\n",
    "        data_dir=\"\",\n",
    "        image_paths=val_image_paths,\n",
    "        labels=val_labels,\n",
    "        return_paths=True,\n",
    "        **dataset_args\n",
    "    ),\n",
    "    **data_loader_args\n",
    ")\n",
    "\n",
    "# Create data loader for covariance matrix\n",
    "covariance_image_paths = read_lists(config_dict['covariance_dataset']['images'])\n",
    "covariance_labels = read_lists(config_dict['covariance_dataset']['labels'])\n",
    "\n",
    "covariance_data_loader = torch.utils.data.DataLoader(\n",
    "    module_data.CINIC10Dataset(\n",
    "        data_dir=\"\",\n",
    "        image_paths=covariance_image_paths,\n",
    "        labels=covariance_labels,\n",
    "        **dataset_args\n",
    "    ),\n",
    "    **data_loader_args\n",
    ")"
   ]
  },
  {
   "cell_type": "markdown",
   "metadata": {},
   "source": [
    "### Calculate the mean and STD of weight differences"
   ]
  },
  {
   "cell_type": "code",
   "execution_count": 32,
   "metadata": {},
   "outputs": [],
   "source": [
    "def edit(config,\n",
    "         val_paths_data_loader=None,\n",
    "         covariance_data_loader=None,\n",
    "         do_analyze_knn=False):\n",
    "\n",
    "    logger = config.get_logger('train')\n",
    "    assert config.config['method'] == 'edit', \"Invalid method '{}'. Must be 'edit'\".format(config.config['method'])\n",
    "    # K = config.config['editor']['K']  # for KNN\n",
    "\n",
    "    # Store variables for if we want to perform knn analysis here\n",
    "    if 'perform_analysis' in config.config['editor']:\n",
    "        do_analyze_knn = config.config['editor']['perform_analysis']\n",
    "    if do_analyze_knn:\n",
    "        try:\n",
    "            class_list_path = config.config['class_list_path']\n",
    "        except:\n",
    "            raise ValueError(\"class_list_path not in config file. Aborting\")\n",
    "        try:\n",
    "            class_list = read_lists(class_list_path)\n",
    "        except:\n",
    "            raise ValueError(\"Unable to read file at {}. Aborting\".format(class_list_path))\n",
    "\n",
    "    save_dir = str(config.save_dir)\n",
    "\n",
    "    # General arguments for data loaders\n",
    "    dataset_args = config.config['dataset_args']\n",
    "    data_loader_args = config.config['data_loader']['args']\n",
    "\n",
    "    # build model architecture, then print to console\n",
    "    config.config['arch'].update()\n",
    "    layernum = config.config['layernum']\n",
    "    model = config.init_obj('arch', module_arch, layernum=layernum)\n",
    "\n",
    "\n",
    "    logger.info(\"Created {} model with {} trainable parameters\".format(config.config['arch']['type'], model.get_n_params()))\n",
    "    if model.get_checkpoint_path() != \"\":\n",
    "        logger.info(\"Restored weights from {}\".format(model.get_checkpoint_path()))\n",
    "    else:\n",
    "        logger.info(\"Training from scratch.\")\n",
    "\n",
    "    # Provide dataloader to perform KNN and metric calculation\n",
    "    # if val_paths_data_loader is None:\n",
    "    #     val_image_paths = read_lists(config.config['dataset_paths']['valid_images'])\n",
    "    #     val_labels = read_lists(config.config['dataset_paths']['valid_labels'])\n",
    "    #     val_paths_data_loader = torch.utils.data.DataLoader(\n",
    "    #         module_data.CINIC10Dataset(\n",
    "    #             data_dir=\"\",\n",
    "    #             image_paths=val_image_paths,\n",
    "    #             labels=val_labels,\n",
    "    #             return_paths=True,\n",
    "    #             **dataset_args\n",
    "    #         ),\n",
    "    #         **data_loader_args\n",
    "    #     )\n",
    "    #     logger.info(\"Created validation data loader for metric and KNN calculations\")\n",
    "    # else:\n",
    "    #     logger.info(\"Using passed in data loader for validation.\")\n",
    "\n",
    "    # Prepare for (multi-device) GPU training\n",
    "    device, device_ids = prepare_device(config['n_gpu'])\n",
    "    model = model.to(device)\n",
    "    if len(device_ids) > 1:\n",
    "        model = torch.nn.DataParallel(model, device_ids=device_ids)\n",
    "    model.eval()  # model should always be in eval() for editing\n",
    "\n",
    "    # Get function handles for loss and metrics\n",
    "    loss_fn = getattr(module_loss, config['loss'])\n",
    "    metric_fns = [getattr(module_metric, met) for met in config['metrics']]\n",
    "\n",
    "    # Prepare data for edit\n",
    "    key_path = config.config['editor']['key_paths_file']\n",
    "    # key_image_paths = read_lists(key_paths_file)\n",
    "    value_path = config.config['editor']['value_paths_file']\n",
    "    # value_image_paths = read_lists(value_paths_file)\n",
    "    mask_path = config.config['editor']['mask_paths_file']\n",
    "    if mask_path == \"\":\n",
    "        mask_path = None\n",
    "\n",
    "    logger.info(\"Key images: {}\".format(key_path))\n",
    "    logger.info(\"Value images: {}\".format(value_path))\n",
    "    logger.info(\"Masks: {}\".format(mask_path))\n",
    "\n",
    "    edit_data = prepare_edit_data(\n",
    "        key_image_path=key_path,\n",
    "        value_image_path=value_path,\n",
    "        mask_path=mask_path,\n",
    "        image_size=(32, 32))\n",
    "    logger.info(\"Prepared data for editing\")\n",
    "\n",
    "#     if K > 0:\n",
    "#         # Concatenate key and value images together\n",
    "#         # First is keys, second is values\n",
    "#         # labels of 'modified_imgs' and 'imgs' are misleading but from the original Editing a Classifier repo\n",
    "#         anchor_images = torch.cat([edit_data['modified_imgs'], edit_data['imgs']], dim=0)\n",
    "#         logger.info(\"Performing pre-edit metric & KNN calculations on validation set.\")\n",
    "#         pre_edit_log = knn(\n",
    "#             K=K,\n",
    "#             data_loader=val_paths_data_loader,\n",
    "#             model=model,\n",
    "#             anchor_image=anchor_images,\n",
    "#             data_types=['features', 'logits', 'images'],\n",
    "#             metric_fns=metric_fns,\n",
    "#             device=device,\n",
    "#             save_path=None)\n",
    "\n",
    "#         logger.info(\"Pre-edit metrics: {}\".format(pre_edit_log['metrics']))\n",
    "#         # Save metrics\n",
    "#         pre_metric_save_path = os.path.join(save_dir, \"pre_edit_metrics.pth\")\n",
    "#         torch.save(pre_edit_log['metrics'], pre_metric_save_path)\n",
    "#         logger.info(\"Saved pre-edit metrics to {}\".format(pre_metric_save_path))\n",
    "#         # Save KNN results\n",
    "#         pre_knn_save_path = os.path.join(save_dir, \"pre_edit_{}-nn.pth\".format(K))\n",
    "#         torch.save(pre_edit_log['knn'], pre_knn_save_path)\n",
    "#         logger.info(\"Saved pre-edit KNN results with K={} to {}\".format(K, pre_knn_save_path))\n",
    "#     else:  # if not performing KNN\n",
    "#         logger.info(\"Performing pre-edit metric calculations on validation set.\")\n",
    "#         pre_edit_log = predict(\n",
    "#             data_loader=val_paths_data_loader,\n",
    "#             model=model,\n",
    "#             loss_fn=loss_fn,\n",
    "#             metric_fns=metric_fns,\n",
    "#             device=device)\n",
    "\n",
    "#         logger.info(\"Pre-edit metrics: {}\".format(pre_edit_log))\n",
    "#         pre_metric_save_path = os.path.join(save_dir, \"pre_edit_metrics.pth\")\n",
    "#         torch.save(pre_edit_log, pre_metric_save_path)\n",
    "#         logger.info(\"Saved pre-edit metrics {}\".format(pre_metric_save_path))\n",
    "\n",
    "    # Set up editor\n",
    "    editor_args = config.config['editor']['args']\n",
    "    editor_args['arch'] = config.config['arch']['args']['type']\n",
    "\n",
    "    editor = Editor(**editor_args)\n",
    "\n",
    "    if covariance_data_loader is None:\n",
    "        if 'covariance_dataset' in config.config and 'images' in config.config['covariance_dataset']:\n",
    "            # Always use the dummy val_data_loader for covariance calculation\n",
    "            covariance_image_paths = read_lists(config.config['covariance_dataset']['images'])\n",
    "            covariance_labels = read_lists(config.config['covariance_dataset']['labels'])\n",
    "\n",
    "            covariance_data_loader = torch.utils.data.DataLoader(\n",
    "                module_data.CINIC10Dataset(\n",
    "                    data_dir=\"\",\n",
    "                    image_paths=covariance_image_paths,\n",
    "                    labels=covariance_labels,\n",
    "                    return_paths=False,\n",
    "                    **dataset_args\n",
    "                ),\n",
    "                **data_loader_args\n",
    "            )\n",
    "            val_data_name = config.config['covariance_dataset']['name']\n",
    "\n",
    "            logger.info(\"Created dataloader for covariance matrix from {}\".format(config.config['covariance_dataset']['images']))\n",
    "        else:  # Use identity matrix\n",
    "            covariance_data_loader = None\n",
    "            val_data_name = \"identity\"\n",
    "            logger.info(\"No data loader for covariance matrix. Will use identity matrix\")\n",
    "    else:\n",
    "        val_data_name = config.config['covariance_dataset']['name']\n",
    "        logger.info(\"Using passed in covariance data loader.\")\n",
    "\n",
    "    # Create path for caching directory based on\n",
    "    #   (1) validation data dir\n",
    "    #   (2) context model -- architecture, layer number\n",
    "\n",
    "    model_arch = model.get_type()\n",
    "\n",
    "    cache_dir = os.path.join('cache', val_data_name, \"{}-{}\".format(model_arch, layernum))\n",
    "    logger.info(\"Looking for covariance matrix weights in {}\".format(cache_dir))\n",
    "    # Obtain original model weights\n",
    "    original_weights = model.get_target_weights()\n",
    "    # Perform edit\n",
    "    editor.edit(\n",
    "        edit_data=edit_data,\n",
    "        model=model,\n",
    "        val_data_loader=covariance_data_loader,\n",
    "        cache_dir=cache_dir)\n",
    "    \n",
    "    # Get edited weights\n",
    "    edited_weights = model.get_target_weights()\n",
    "    \n",
    "    # Calculate weight difference\n",
    "    weight_diff = edited_weights - original_weights\n",
    "\n",
    "    # if not do_analyze_knn:\n",
    "    #     model.save_model(save_path=os.path.join(config._save_dir, \"edited_model.pth\"))\n",
    "\n",
    "    # Perform post edit KNN analysis\n",
    "#     if K > 0:\n",
    "#         # Concatenate key and value images together\n",
    "\n",
    "#         logger.info(\"Performing post-edit metric & KNN calculations on validation set.\")\n",
    "\n",
    "#         post_edit_log = knn(\n",
    "#             K=K,\n",
    "#             data_loader=val_paths_data_loader,\n",
    "#             model=model,\n",
    "#             anchor_image=anchor_images,\n",
    "#             data_types=['features', 'logits', 'images'],\n",
    "#             metric_fns=metric_fns,\n",
    "#             device=device,\n",
    "#             save_path=None)\n",
    "\n",
    "#         logger.info(\"Post-edit metrics: {}\".format(post_edit_log['metrics']))\n",
    "#         # Save metrics\n",
    "#         post_metric_save_path = os.path.join(save_dir, \"post_edit_metrics.pth\")\n",
    "#         torch.save(post_edit_log['metrics'], post_metric_save_path)\n",
    "#         logger.info(\"Saved post-edit metrics to {}\".format(post_metric_save_path))\n",
    "#         # Save KNN results\n",
    "#         post_knn_save_path = os.path.join(save_dir, \"post_edit_{}-nn.pth\".format(K))\n",
    "#         torch.save(post_edit_log['knn'], post_knn_save_path)\n",
    "#         logger.info(\"Saving post-edit KNN results with K={} to {}\".format(K, post_knn_save_path))\n",
    "#     else:  # if not performing KNN\n",
    "#         logger.info(\"Performing post-edit metric calculations on validation set.\")\n",
    "#         post_metric_save_path = os.path.join(save_dir, \"post_edit_metrics.pth\")\n",
    "#         post_edit_log = predict(\n",
    "#             data_loader=val_paths_data_loader,\n",
    "#             model=model,\n",
    "#             loss_fn=loss_fn,\n",
    "#             metric_fns=metric_fns,\n",
    "#             device=device)\n",
    "\n",
    "#         logger.info(\"Post-edit metrics: {}\".format(post_edit_log))\n",
    "#         torch.save(post_edit_log, post_metric_save_path)\n",
    "#         logger.info(\"Saved post-edit metrics {}\".format(post_metric_save_path))\n",
    "\n",
    "#     if do_analyze_knn and K > 0:\n",
    "#         logger.info(\"Performing KNN analysis...\")\n",
    "#         target_class_idx = np.argmax(post_edit_log['knn']['logits']['anchor_data'][0])\n",
    "#         analyze_knn(\n",
    "#             save_dir=save_dir,\n",
    "#             config=config,\n",
    "#             pre_edit_knn=pre_edit_log['knn'],\n",
    "#             post_edit_knn=post_edit_log['knn'],\n",
    "#             edited_model=model,\n",
    "#             knn_analysis_filename='knn_analysis_results.pth',\n",
    "#             target_class_idx=target_class_idx,\n",
    "#             class_list=class_list,\n",
    "#             progress_report_path=None,\n",
    "#             save_plots=True)\n",
    "\n",
    "    logger.info(\"All metrics and KNN results can be found in {}\".format(save_dir))\n",
    "    \n",
    "    return weight_diff\n"
   ]
  },
  {
   "cell_type": "code",
   "execution_count": 54,
   "metadata": {
    "scrolled": true,
    "tags": []
   },
   "outputs": [
    {
     "name": "stdout",
     "output_type": "stream",
     "text": [
      "Current target class: airplane\n",
      "Path saved/edit/experiments/random_edits/debug/CINIC10_ImageNet-VGG_16/airplane_100/0131_112715/trial_paths.txt already exists. Overwriting.\n",
      "Key image paths stored at paths/edits/semantics/airplane_100/0126_161209/key_images_softmax.txt\n",
      "Value image paths stored at paths/edits/semantics/airplane_100/0126_161209/value_images_softmax.txt\n",
      "(0131_121028) Starting Trial 1/158...\n",
      "Current run_id: airplane_100/0131_112715/results/airplane-train-n03365231_4635/felzenszwalb_masked_softmax\n",
      "saved/edit/experiments/random_edits/debug/CINIC10_ImageNet-VGG_16/airplane_100/0131_112715/results/airplane-train-n03365231_4635/felzenszwalb_masked_softmax\n",
      "Calling edit()...\n",
      "Created CIFAR10PretrainedModelEdit model with 33646666 trainable parameters\n",
      "Restored weights from external_code/PyTorch_CIFAR10/cifar10_models/state_dicts/vgg16_bn.pt\n",
      "Key images: data/cinic-10-imagenet/train/airplane/n03365231_4635.png\n",
      "Value images: saved/segmentations/semantics/airplane_100/airplane-train-n03365231_4635/felzenszwalb_masked/felzenszwalb_masked_softmax.png\n",
      "Masks: None\n",
      "Prepared data for editing\n",
      "Using passed in covariance data loader.\n",
      "Looking for covariance matrix weights in cache/cinic-10-imagenet-dummy/vgg16_bn-12\n",
      "Found precomputed cov matrices, returning...\n"
     ]
    },
    {
     "name": "stderr",
     "output_type": "stream",
     "text": [
      "tensor(0.0058, device='cuda:0', grad_fn=<DivBackward0>): 100%|███████| 40000/40000 [00:42<00:00, 931.22it/s]"
     ]
    },
    {
     "name": "stdout",
     "output_type": "stream",
     "text": [
      "Loss (orig, final): 0.07912948727607727 0.00577106699347496\n",
      "L2 norm of weight change: 0.366611123085022\n",
      "All metrics and KNN results can be found in saved/edit/experiments/random_edits/debug/CINIC10_ImageNet-VGG_16/airplane_100/0131_112715/results/airplane-train-n03365231_4635/felzenszwalb_masked_softmax/models\n",
      "Finished trial 1/158. Results saved to saved/edit/experiments/random_edits/debug/CINIC10_ImageNet-VGG_16/airplane_100/0131_112715/results/airplane-train-n03365231_4635/felzenszwalb_masked_softmax\n",
      "(0131_121112) Starting Trial 2/158...\n",
      "Current run_id: airplane_100/0131_112715/results/airplane-train-n04160586_14463/felzenszwalb_masked_softmax\n"
     ]
    },
    {
     "name": "stderr",
     "output_type": "stream",
     "text": [
      "\n"
     ]
    },
    {
     "name": "stdout",
     "output_type": "stream",
     "text": [
      "saved/edit/experiments/random_edits/debug/CINIC10_ImageNet-VGG_16/airplane_100/0131_112715/results/airplane-train-n04160586_14463/felzenszwalb_masked_softmax\n",
      "Calling edit()...\n",
      "Created CIFAR10PretrainedModelEdit model with 33646666 trainable parameters\n",
      "Restored weights from external_code/PyTorch_CIFAR10/cifar10_models/state_dicts/vgg16_bn.pt\n",
      "Key images: data/cinic-10-imagenet/train/airplane/n04160586_14463.png\n",
      "Value images: saved/segmentations/semantics/airplane_100/airplane-train-n04160586_14463/felzenszwalb_masked/felzenszwalb_masked_softmax.png\n",
      "Masks: None\n",
      "Prepared data for editing\n",
      "Using passed in covariance data loader.\n",
      "Looking for covariance matrix weights in cache/cinic-10-imagenet-dummy/vgg16_bn-12\n",
      "Found precomputed cov matrices, returning...\n"
     ]
    },
    {
     "name": "stderr",
     "output_type": "stream",
     "text": [
      "tensor(0.0127, device='cuda:0', grad_fn=<DivBackward0>): 100%|███████| 40000/40000 [00:43<00:00, 925.94it/s]"
     ]
    },
    {
     "name": "stdout",
     "output_type": "stream",
     "text": [
      "Loss (orig, final): 0.19817081093788147 0.012747062370181084\n",
      "L2 norm of weight change: 0.9437420964241028\n",
      "All metrics and KNN results can be found in saved/edit/experiments/random_edits/debug/CINIC10_ImageNet-VGG_16/airplane_100/0131_112715/results/airplane-train-n04160586_14463/felzenszwalb_masked_softmax/models\n",
      "Finished trial 2/158. Results saved to saved/edit/experiments/random_edits/debug/CINIC10_ImageNet-VGG_16/airplane_100/0131_112715/results/airplane-train-n04160586_14463/felzenszwalb_masked_softmax\n",
      "(0131_121155) Starting Trial 3/158...\n",
      "Current run_id: airplane_100/0131_112715/results/airplane-train-n04160586_14463/felzenszwalb_gaussian_softmax\n"
     ]
    },
    {
     "name": "stderr",
     "output_type": "stream",
     "text": [
      "\n"
     ]
    },
    {
     "name": "stdout",
     "output_type": "stream",
     "text": [
      "saved/edit/experiments/random_edits/debug/CINIC10_ImageNet-VGG_16/airplane_100/0131_112715/results/airplane-train-n04160586_14463/felzenszwalb_gaussian_softmax\n",
      "Calling edit()...\n",
      "Created CIFAR10PretrainedModelEdit model with 33646666 trainable parameters\n",
      "Restored weights from external_code/PyTorch_CIFAR10/cifar10_models/state_dicts/vgg16_bn.pt\n",
      "Key images: data/cinic-10-imagenet/train/airplane/n04160586_14463.png\n",
      "Value images: saved/segmentations/semantics/airplane_100/airplane-train-n04160586_14463/felzenszwalb_gaussian/felzenszwalb_gaussian_softmax.png\n",
      "Masks: None\n",
      "Prepared data for editing\n",
      "Using passed in covariance data loader.\n",
      "Looking for covariance matrix weights in cache/cinic-10-imagenet-dummy/vgg16_bn-12\n",
      "Found precomputed cov matrices, returning...\n"
     ]
    },
    {
     "name": "stderr",
     "output_type": "stream",
     "text": [
      "tensor(0.0169, device='cuda:0', grad_fn=<DivBackward0>): 100%|███████| 40000/40000 [00:43<00:00, 929.75it/s]"
     ]
    },
    {
     "name": "stdout",
     "output_type": "stream",
     "text": [
      "Loss (orig, final): 0.13332810997962952 0.016893260180950165\n",
      "L2 norm of weight change: 0.5770063400268555\n",
      "All metrics and KNN results can be found in saved/edit/experiments/random_edits/debug/CINIC10_ImageNet-VGG_16/airplane_100/0131_112715/results/airplane-train-n04160586_14463/felzenszwalb_gaussian_softmax/models\n",
      "Finished trial 3/158. Results saved to saved/edit/experiments/random_edits/debug/CINIC10_ImageNet-VGG_16/airplane_100/0131_112715/results/airplane-train-n04160586_14463/felzenszwalb_gaussian_softmax\n",
      "(0131_121239) Starting Trial 4/158...\n",
      "Current run_id: airplane_100/0131_112715/results/airplane-train-n02842573_8619/felzenszwalb_masked_softmax\n"
     ]
    },
    {
     "name": "stderr",
     "output_type": "stream",
     "text": [
      "\n"
     ]
    },
    {
     "name": "stdout",
     "output_type": "stream",
     "text": [
      "saved/edit/experiments/random_edits/debug/CINIC10_ImageNet-VGG_16/airplane_100/0131_112715/results/airplane-train-n02842573_8619/felzenszwalb_masked_softmax\n",
      "Calling edit()...\n",
      "Created CIFAR10PretrainedModelEdit model with 33646666 trainable parameters\n",
      "Restored weights from external_code/PyTorch_CIFAR10/cifar10_models/state_dicts/vgg16_bn.pt\n",
      "Key images: data/cinic-10-imagenet/train/airplane/n02842573_8619.png\n",
      "Value images: saved/segmentations/semantics/airplane_100/airplane-train-n02842573_8619/felzenszwalb_masked/felzenszwalb_masked_softmax.png\n",
      "Masks: None\n",
      "Prepared data for editing\n",
      "Using passed in covariance data loader.\n",
      "Looking for covariance matrix weights in cache/cinic-10-imagenet-dummy/vgg16_bn-12\n",
      "Found precomputed cov matrices, returning...\n"
     ]
    },
    {
     "name": "stderr",
     "output_type": "stream",
     "text": [
      "tensor(0.0046, device='cuda:0', grad_fn=<DivBackward0>): 100%|███████| 40000/40000 [00:43<00:00, 927.05it/s]"
     ]
    },
    {
     "name": "stdout",
     "output_type": "stream",
     "text": [
      "Loss (orig, final): 0.0834680050611496 0.004560583736747503\n",
      "L2 norm of weight change: 0.4280029535293579\n",
      "All metrics and KNN results can be found in saved/edit/experiments/random_edits/debug/CINIC10_ImageNet-VGG_16/airplane_100/0131_112715/results/airplane-train-n02842573_8619/felzenszwalb_masked_softmax/models\n",
      "Finished trial 4/158. Results saved to saved/edit/experiments/random_edits/debug/CINIC10_ImageNet-VGG_16/airplane_100/0131_112715/results/airplane-train-n02842573_8619/felzenszwalb_masked_softmax\n",
      "(0131_121322) Starting Trial 5/158...\n",
      "Current run_id: airplane_100/0131_112715/results/airplane-train-n04308397_2932/felzenszwalb_masked_softmax\n"
     ]
    },
    {
     "name": "stderr",
     "output_type": "stream",
     "text": [
      "\n"
     ]
    },
    {
     "name": "stdout",
     "output_type": "stream",
     "text": [
      "saved/edit/experiments/random_edits/debug/CINIC10_ImageNet-VGG_16/airplane_100/0131_112715/results/airplane-train-n04308397_2932/felzenszwalb_masked_softmax\n",
      "Calling edit()...\n",
      "Created CIFAR10PretrainedModelEdit model with 33646666 trainable parameters\n",
      "Restored weights from external_code/PyTorch_CIFAR10/cifar10_models/state_dicts/vgg16_bn.pt\n",
      "Key images: data/cinic-10-imagenet/train/airplane/n04308397_2932.png\n",
      "Value images: saved/segmentations/semantics/airplane_100/airplane-train-n04308397_2932/felzenszwalb_masked/felzenszwalb_masked_softmax.png\n",
      "Masks: None\n",
      "Prepared data for editing\n",
      "Using passed in covariance data loader.\n",
      "Looking for covariance matrix weights in cache/cinic-10-imagenet-dummy/vgg16_bn-12\n",
      "Found precomputed cov matrices, returning...\n"
     ]
    },
    {
     "name": "stderr",
     "output_type": "stream",
     "text": [
      "tensor(0.0252, device='cuda:0', grad_fn=<DivBackward0>): 100%|███████| 40000/40000 [00:42<00:00, 933.94it/s]"
     ]
    },
    {
     "name": "stdout",
     "output_type": "stream",
     "text": [
      "Loss (orig, final): 0.1968313455581665 0.0252482108771801\n",
      "L2 norm of weight change: 0.6691174507141113\n",
      "All metrics and KNN results can be found in saved/edit/experiments/random_edits/debug/CINIC10_ImageNet-VGG_16/airplane_100/0131_112715/results/airplane-train-n04308397_2932/felzenszwalb_masked_softmax/models\n"
     ]
    },
    {
     "name": "stderr",
     "output_type": "stream",
     "text": [
      "\n"
     ]
    },
    {
     "name": "stdout",
     "output_type": "stream",
     "text": [
      "Finished trial 5/158. Results saved to saved/edit/experiments/random_edits/debug/CINIC10_ImageNet-VGG_16/airplane_100/0131_112715/results/airplane-train-n04308397_2932/felzenszwalb_masked_softmax\n",
      "Current target class: automobile\n",
      "Path saved/edit/experiments/random_edits/debug/CINIC10_ImageNet-VGG_16/automobile_100/0131_112715/trial_paths.txt already exists. Overwriting.\n",
      "Key image paths stored at paths/edits/semantics/automobile_100/0126_161209/key_images_softmax.txt\n",
      "Value image paths stored at paths/edits/semantics/automobile_100/0126_161209/value_images_softmax.txt\n",
      "(0131_121406) Starting Trial 1/122...\n",
      "Current run_id: automobile_100/0131_112715/results/automobile-train-n04037443_3590/felzenszwalb_masked_softmax\n",
      "saved/edit/experiments/random_edits/debug/CINIC10_ImageNet-VGG_16/automobile_100/0131_112715/results/automobile-train-n04037443_3590/felzenszwalb_masked_softmax\n",
      "Calling edit()...\n",
      "Created CIFAR10PretrainedModelEdit model with 33646666 trainable parameters\n",
      "Restored weights from external_code/PyTorch_CIFAR10/cifar10_models/state_dicts/vgg16_bn.pt\n",
      "Key images: data/cinic-10-imagenet/train/automobile/n04037443_3590.png\n",
      "Value images: saved/segmentations/semantics/automobile_100/automobile-train-n04037443_3590/felzenszwalb_masked/felzenszwalb_masked_softmax.png\n",
      "Masks: None\n",
      "Prepared data for editing\n",
      "Using passed in covariance data loader.\n",
      "Looking for covariance matrix weights in cache/cinic-10-imagenet-dummy/vgg16_bn-12\n",
      "Found precomputed cov matrices, returning...\n"
     ]
    },
    {
     "name": "stderr",
     "output_type": "stream",
     "text": [
      "tensor(0.0052, device='cuda:0', grad_fn=<DivBackward0>): 100%|███████| 40000/40000 [00:43<00:00, 929.99it/s]"
     ]
    },
    {
     "name": "stdout",
     "output_type": "stream",
     "text": [
      "Loss (orig, final): 0.11456742882728577 0.005236535333096981\n",
      "L2 norm of weight change: 0.5614690780639648\n",
      "All metrics and KNN results can be found in saved/edit/experiments/random_edits/debug/CINIC10_ImageNet-VGG_16/automobile_100/0131_112715/results/automobile-train-n04037443_3590/felzenszwalb_masked_softmax/models\n",
      "Finished trial 1/122. Results saved to saved/edit/experiments/random_edits/debug/CINIC10_ImageNet-VGG_16/automobile_100/0131_112715/results/automobile-train-n04037443_3590/felzenszwalb_masked_softmax\n",
      "(0131_121449) Starting Trial 2/122...\n",
      "Current run_id: automobile_100/0131_112715/results/automobile-train-n04037443_3590/felzenszwalb_gaussian_softmax\n"
     ]
    },
    {
     "name": "stderr",
     "output_type": "stream",
     "text": [
      "\n"
     ]
    },
    {
     "name": "stdout",
     "output_type": "stream",
     "text": [
      "saved/edit/experiments/random_edits/debug/CINIC10_ImageNet-VGG_16/automobile_100/0131_112715/results/automobile-train-n04037443_3590/felzenszwalb_gaussian_softmax\n",
      "Calling edit()...\n",
      "Created CIFAR10PretrainedModelEdit model with 33646666 trainable parameters\n",
      "Restored weights from external_code/PyTorch_CIFAR10/cifar10_models/state_dicts/vgg16_bn.pt\n",
      "Key images: data/cinic-10-imagenet/train/automobile/n04037443_3590.png\n",
      "Value images: saved/segmentations/semantics/automobile_100/automobile-train-n04037443_3590/felzenszwalb_gaussian/felzenszwalb_gaussian_softmax.png\n",
      "Masks: None\n",
      "Prepared data for editing\n",
      "Using passed in covariance data loader.\n",
      "Looking for covariance matrix weights in cache/cinic-10-imagenet-dummy/vgg16_bn-12\n",
      "Found precomputed cov matrices, returning...\n"
     ]
    },
    {
     "name": "stderr",
     "output_type": "stream",
     "text": [
      "tensor(0.0085, device='cuda:0', grad_fn=<DivBackward0>): 100%|███████| 40000/40000 [00:42<00:00, 931.60it/s]"
     ]
    },
    {
     "name": "stdout",
     "output_type": "stream",
     "text": [
      "Loss (orig, final): 0.1000104695558548 0.008510051295161247\n",
      "L2 norm of weight change: 0.44457799196243286\n",
      "All metrics and KNN results can be found in saved/edit/experiments/random_edits/debug/CINIC10_ImageNet-VGG_16/automobile_100/0131_112715/results/automobile-train-n04037443_3590/felzenszwalb_gaussian_softmax/models\n",
      "Finished trial 2/122. Results saved to saved/edit/experiments/random_edits/debug/CINIC10_ImageNet-VGG_16/automobile_100/0131_112715/results/automobile-train-n04037443_3590/felzenszwalb_gaussian_softmax\n",
      "(0131_121533) Starting Trial 3/122...\n",
      "Current run_id: automobile_100/0131_112715/results/automobile-train-n02930766_19772/felzenszwalb_gaussian_softmax\n"
     ]
    },
    {
     "name": "stderr",
     "output_type": "stream",
     "text": [
      "\n"
     ]
    },
    {
     "name": "stdout",
     "output_type": "stream",
     "text": [
      "saved/edit/experiments/random_edits/debug/CINIC10_ImageNet-VGG_16/automobile_100/0131_112715/results/automobile-train-n02930766_19772/felzenszwalb_gaussian_softmax\n",
      "Calling edit()...\n",
      "Created CIFAR10PretrainedModelEdit model with 33646666 trainable parameters\n",
      "Restored weights from external_code/PyTorch_CIFAR10/cifar10_models/state_dicts/vgg16_bn.pt\n",
      "Key images: data/cinic-10-imagenet/train/automobile/n02930766_19772.png\n",
      "Value images: saved/segmentations/semantics/automobile_100/automobile-train-n02930766_19772/felzenszwalb_gaussian/felzenszwalb_gaussian_softmax.png\n",
      "Masks: None\n",
      "Prepared data for editing\n",
      "Using passed in covariance data loader.\n",
      "Looking for covariance matrix weights in cache/cinic-10-imagenet-dummy/vgg16_bn-12\n",
      "Found precomputed cov matrices, returning...\n"
     ]
    },
    {
     "name": "stderr",
     "output_type": "stream",
     "text": [
      "tensor(0.0060, device='cuda:0', grad_fn=<DivBackward0>): 100%|███████| 40000/40000 [00:42<00:00, 932.61it/s]"
     ]
    },
    {
     "name": "stdout",
     "output_type": "stream",
     "text": [
      "Loss (orig, final): 0.11913447827100754 0.005952469538897276\n",
      "L2 norm of weight change: 0.42997440695762634\n",
      "All metrics and KNN results can be found in saved/edit/experiments/random_edits/debug/CINIC10_ImageNet-VGG_16/automobile_100/0131_112715/results/automobile-train-n02930766_19772/felzenszwalb_gaussian_softmax/models\n",
      "Finished trial 3/122. Results saved to saved/edit/experiments/random_edits/debug/CINIC10_ImageNet-VGG_16/automobile_100/0131_112715/results/automobile-train-n02930766_19772/felzenszwalb_gaussian_softmax\n",
      "(0131_121616) Starting Trial 4/122...\n",
      "Current run_id: automobile_100/0131_112715/results/automobile-train-n03777568_3715/felzenszwalb_masked_softmax\n"
     ]
    },
    {
     "name": "stderr",
     "output_type": "stream",
     "text": [
      "\n"
     ]
    },
    {
     "name": "stdout",
     "output_type": "stream",
     "text": [
      "saved/edit/experiments/random_edits/debug/CINIC10_ImageNet-VGG_16/automobile_100/0131_112715/results/automobile-train-n03777568_3715/felzenszwalb_masked_softmax\n",
      "Calling edit()...\n",
      "Created CIFAR10PretrainedModelEdit model with 33646666 trainable parameters\n",
      "Restored weights from external_code/PyTorch_CIFAR10/cifar10_models/state_dicts/vgg16_bn.pt\n",
      "Key images: data/cinic-10-imagenet/train/automobile/n03777568_3715.png\n",
      "Value images: saved/segmentations/semantics/automobile_100/automobile-train-n03777568_3715/felzenszwalb_masked/felzenszwalb_masked_softmax.png\n",
      "Masks: None\n",
      "Prepared data for editing\n",
      "Using passed in covariance data loader.\n",
      "Looking for covariance matrix weights in cache/cinic-10-imagenet-dummy/vgg16_bn-12\n",
      "Found precomputed cov matrices, returning...\n"
     ]
    },
    {
     "name": "stderr",
     "output_type": "stream",
     "text": [
      "tensor(0.0042, device='cuda:0', grad_fn=<DivBackward0>): 100%|███████| 40000/40000 [00:42<00:00, 941.02it/s]"
     ]
    },
    {
     "name": "stdout",
     "output_type": "stream",
     "text": [
      "Loss (orig, final): 0.13556799292564392 0.004238956607878208\n",
      "L2 norm of weight change: 0.4361100196838379\n",
      "All metrics and KNN results can be found in saved/edit/experiments/random_edits/debug/CINIC10_ImageNet-VGG_16/automobile_100/0131_112715/results/automobile-train-n03777568_3715/felzenszwalb_masked_softmax/models\n",
      "Finished trial 4/122. Results saved to saved/edit/experiments/random_edits/debug/CINIC10_ImageNet-VGG_16/automobile_100/0131_112715/results/automobile-train-n03777568_3715/felzenszwalb_masked_softmax\n",
      "(0131_121659) Starting Trial 5/122...\n",
      "Current run_id: automobile_100/0131_112715/results/automobile-train-n04285965_10066/felzenszwalb_masked_softmax\n"
     ]
    },
    {
     "name": "stderr",
     "output_type": "stream",
     "text": [
      "\n"
     ]
    },
    {
     "name": "stdout",
     "output_type": "stream",
     "text": [
      "saved/edit/experiments/random_edits/debug/CINIC10_ImageNet-VGG_16/automobile_100/0131_112715/results/automobile-train-n04285965_10066/felzenszwalb_masked_softmax\n",
      "Calling edit()...\n",
      "Created CIFAR10PretrainedModelEdit model with 33646666 trainable parameters\n",
      "Restored weights from external_code/PyTorch_CIFAR10/cifar10_models/state_dicts/vgg16_bn.pt\n",
      "Key images: data/cinic-10-imagenet/train/automobile/n04285965_10066.png\n",
      "Value images: saved/segmentations/semantics/automobile_100/automobile-train-n04285965_10066/felzenszwalb_masked/felzenszwalb_masked_softmax.png\n",
      "Masks: None\n",
      "Prepared data for editing\n",
      "Using passed in covariance data loader.\n",
      "Looking for covariance matrix weights in cache/cinic-10-imagenet-dummy/vgg16_bn-12\n",
      "Found precomputed cov matrices, returning...\n"
     ]
    },
    {
     "name": "stderr",
     "output_type": "stream",
     "text": [
      "tensor(0.0127, device='cuda:0', grad_fn=<DivBackward0>): 100%|███████| 40000/40000 [00:42<00:00, 934.44it/s]"
     ]
    },
    {
     "name": "stdout",
     "output_type": "stream",
     "text": [
      "Loss (orig, final): 0.08638780564069748 0.012735188007354736\n",
      "L2 norm of weight change: 0.34459614753723145\n",
      "All metrics and KNN results can be found in saved/edit/experiments/random_edits/debug/CINIC10_ImageNet-VGG_16/automobile_100/0131_112715/results/automobile-train-n04285965_10066/felzenszwalb_masked_softmax/models\n"
     ]
    },
    {
     "name": "stderr",
     "output_type": "stream",
     "text": [
      "\n"
     ]
    },
    {
     "name": "stdout",
     "output_type": "stream",
     "text": [
      "Finished trial 5/122. Results saved to saved/edit/experiments/random_edits/debug/CINIC10_ImageNet-VGG_16/automobile_100/0131_112715/results/automobile-train-n04285965_10066/felzenszwalb_masked_softmax\n",
      "Current target class: bird\n",
      "Printing progress reports to saved/edit/experiments/random_edits/debug/CINIC10_ImageNet-VGG_16/bird_100/0131_112715/progress_report.txt\n",
      "Saving path to directories for each trial to saved/edit/experiments/random_edits/debug/CINIC10_ImageNet-VGG_16/bird_100/0131_112715/trial_paths.txt\n",
      "Key image paths stored at paths/edits/semantics/bird_100/0126_161209/key_images_softmax.txt\n",
      "Value image paths stored at paths/edits/semantics/bird_100/0126_161209/value_images_softmax.txt\n",
      "(0131_121743) Starting Trial 1/146...\n",
      "Current run_id: bird_100/0131_112715/results/bird-train-n02042759_65/felzenszwalb_masked_softmax\n",
      "saved/edit/experiments/random_edits/debug/CINIC10_ImageNet-VGG_16/bird_100/0131_112715/results/bird-train-n02042759_65/felzenszwalb_masked_softmax\n",
      "Calling edit()...\n",
      "Created CIFAR10PretrainedModelEdit model with 33646666 trainable parameters\n",
      "Restored weights from external_code/PyTorch_CIFAR10/cifar10_models/state_dicts/vgg16_bn.pt\n",
      "Key images: data/cinic-10-imagenet/train/bird/n02042759_65.png\n",
      "Value images: saved/segmentations/semantics/bird_100/bird-train-n02042759_65/felzenszwalb_masked/felzenszwalb_masked_softmax.png\n",
      "Masks: None\n",
      "Prepared data for editing\n",
      "Using passed in covariance data loader.\n",
      "Looking for covariance matrix weights in cache/cinic-10-imagenet-dummy/vgg16_bn-12\n",
      "Found precomputed cov matrices, returning...\n"
     ]
    },
    {
     "name": "stderr",
     "output_type": "stream",
     "text": [
      "tensor(0.0069, device='cuda:0', grad_fn=<DivBackward0>): 100%|███████| 40000/40000 [00:42<00:00, 938.24it/s]"
     ]
    },
    {
     "name": "stdout",
     "output_type": "stream",
     "text": [
      "Loss (orig, final): 0.15022012591362 0.00690613966435194\n",
      "L2 norm of weight change: 0.5393422245979309\n",
      "All metrics and KNN results can be found in saved/edit/experiments/random_edits/debug/CINIC10_ImageNet-VGG_16/bird_100/0131_112715/results/bird-train-n02042759_65/felzenszwalb_masked_softmax/models\n",
      "Finished trial 1/146. Results saved to saved/edit/experiments/random_edits/debug/CINIC10_ImageNet-VGG_16/bird_100/0131_112715/results/bird-train-n02042759_65/felzenszwalb_masked_softmax\n",
      "(0131_121826) Starting Trial 2/146...\n",
      "Current run_id: bird_100/0131_112715/results/bird-train-n02042759_65/felzenszwalb_gaussian_softmax\n"
     ]
    },
    {
     "name": "stderr",
     "output_type": "stream",
     "text": [
      "\n"
     ]
    },
    {
     "name": "stdout",
     "output_type": "stream",
     "text": [
      "saved/edit/experiments/random_edits/debug/CINIC10_ImageNet-VGG_16/bird_100/0131_112715/results/bird-train-n02042759_65/felzenszwalb_gaussian_softmax\n",
      "Calling edit()...\n",
      "Created CIFAR10PretrainedModelEdit model with 33646666 trainable parameters\n",
      "Restored weights from external_code/PyTorch_CIFAR10/cifar10_models/state_dicts/vgg16_bn.pt\n",
      "Key images: data/cinic-10-imagenet/train/bird/n02042759_65.png\n",
      "Value images: saved/segmentations/semantics/bird_100/bird-train-n02042759_65/felzenszwalb_gaussian/felzenszwalb_gaussian_softmax.png\n",
      "Masks: None\n",
      "Prepared data for editing\n",
      "Using passed in covariance data loader.\n",
      "Looking for covariance matrix weights in cache/cinic-10-imagenet-dummy/vgg16_bn-12\n",
      "Found precomputed cov matrices, returning...\n"
     ]
    },
    {
     "name": "stderr",
     "output_type": "stream",
     "text": [
      "tensor(0.0049, device='cuda:0', grad_fn=<DivBackward0>): 100%|███████| 40000/40000 [00:42<00:00, 937.61it/s]"
     ]
    },
    {
     "name": "stdout",
     "output_type": "stream",
     "text": [
      "Loss (orig, final): 0.18094217777252197 0.004919486586004496\n",
      "L2 norm of weight change: 0.7316411137580872\n",
      "All metrics and KNN results can be found in saved/edit/experiments/random_edits/debug/CINIC10_ImageNet-VGG_16/bird_100/0131_112715/results/bird-train-n02042759_65/felzenszwalb_gaussian_softmax/models\n",
      "Finished trial 2/146. Results saved to saved/edit/experiments/random_edits/debug/CINIC10_ImageNet-VGG_16/bird_100/0131_112715/results/bird-train-n02042759_65/felzenszwalb_gaussian_softmax\n",
      "(0131_121909) Starting Trial 3/146...\n",
      "Current run_id: bird_100/0131_112715/results/bird-train-n01548694_1410/felzenszwalb_masked_softmax\n"
     ]
    },
    {
     "name": "stderr",
     "output_type": "stream",
     "text": [
      "\n"
     ]
    },
    {
     "name": "stdout",
     "output_type": "stream",
     "text": [
      "saved/edit/experiments/random_edits/debug/CINIC10_ImageNet-VGG_16/bird_100/0131_112715/results/bird-train-n01548694_1410/felzenszwalb_masked_softmax\n",
      "Calling edit()...\n",
      "Created CIFAR10PretrainedModelEdit model with 33646666 trainable parameters\n",
      "Restored weights from external_code/PyTorch_CIFAR10/cifar10_models/state_dicts/vgg16_bn.pt\n",
      "Key images: data/cinic-10-imagenet/train/bird/n01548694_1410.png\n",
      "Value images: saved/segmentations/semantics/bird_100/bird-train-n01548694_1410/felzenszwalb_masked/felzenszwalb_masked_softmax.png\n",
      "Masks: None\n",
      "Prepared data for editing\n",
      "Using passed in covariance data loader.\n",
      "Looking for covariance matrix weights in cache/cinic-10-imagenet-dummy/vgg16_bn-12\n",
      "Found precomputed cov matrices, returning...\n"
     ]
    },
    {
     "name": "stderr",
     "output_type": "stream",
     "text": [
      "tensor(0.0270, device='cuda:0', grad_fn=<DivBackward0>): 100%|███████| 40000/40000 [00:42<00:00, 937.57it/s]"
     ]
    },
    {
     "name": "stdout",
     "output_type": "stream",
     "text": [
      "Loss (orig, final): 0.1797163486480713 0.026959244161844254\n",
      "L2 norm of weight change: 0.5939053893089294\n",
      "All metrics and KNN results can be found in saved/edit/experiments/random_edits/debug/CINIC10_ImageNet-VGG_16/bird_100/0131_112715/results/bird-train-n01548694_1410/felzenszwalb_masked_softmax/models\n",
      "Finished trial 3/146. Results saved to saved/edit/experiments/random_edits/debug/CINIC10_ImageNet-VGG_16/bird_100/0131_112715/results/bird-train-n01548694_1410/felzenszwalb_masked_softmax\n",
      "(0131_121952) Starting Trial 4/146...\n",
      "Current run_id: bird_100/0131_112715/results/bird-train-n01548694_1410/felzenszwalb_gaussian_softmax\n"
     ]
    },
    {
     "name": "stderr",
     "output_type": "stream",
     "text": [
      "\n"
     ]
    },
    {
     "name": "stdout",
     "output_type": "stream",
     "text": [
      "saved/edit/experiments/random_edits/debug/CINIC10_ImageNet-VGG_16/bird_100/0131_112715/results/bird-train-n01548694_1410/felzenszwalb_gaussian_softmax\n",
      "Calling edit()...\n",
      "Created CIFAR10PretrainedModelEdit model with 33646666 trainable parameters\n",
      "Restored weights from external_code/PyTorch_CIFAR10/cifar10_models/state_dicts/vgg16_bn.pt\n",
      "Key images: data/cinic-10-imagenet/train/bird/n01548694_1410.png\n",
      "Value images: saved/segmentations/semantics/bird_100/bird-train-n01548694_1410/felzenszwalb_gaussian/felzenszwalb_gaussian_softmax.png\n",
      "Masks: None\n",
      "Prepared data for editing\n",
      "Using passed in covariance data loader.\n",
      "Looking for covariance matrix weights in cache/cinic-10-imagenet-dummy/vgg16_bn-12\n",
      "Found precomputed cov matrices, returning...\n"
     ]
    },
    {
     "name": "stderr",
     "output_type": "stream",
     "text": [
      "tensor(0.0093, device='cuda:0', grad_fn=<DivBackward0>): 100%|███████| 40000/40000 [00:41<00:00, 956.77it/s]"
     ]
    },
    {
     "name": "stdout",
     "output_type": "stream",
     "text": [
      "Loss (orig, final): 0.14972683787345886 0.0092714112251997\n",
      "L2 norm of weight change: 0.5114049911499023\n",
      "All metrics and KNN results can be found in saved/edit/experiments/random_edits/debug/CINIC10_ImageNet-VGG_16/bird_100/0131_112715/results/bird-train-n01548694_1410/felzenszwalb_gaussian_softmax/models\n",
      "Finished trial 4/146. Results saved to saved/edit/experiments/random_edits/debug/CINIC10_ImageNet-VGG_16/bird_100/0131_112715/results/bird-train-n01548694_1410/felzenszwalb_gaussian_softmax\n",
      "(0131_122034) Starting Trial 5/146...\n",
      "Current run_id: bird_100/0131_112715/results/bird-train-n02050313_6862/felzenszwalb_masked_softmax\n"
     ]
    },
    {
     "name": "stderr",
     "output_type": "stream",
     "text": [
      "\n"
     ]
    },
    {
     "name": "stdout",
     "output_type": "stream",
     "text": [
      "saved/edit/experiments/random_edits/debug/CINIC10_ImageNet-VGG_16/bird_100/0131_112715/results/bird-train-n02050313_6862/felzenszwalb_masked_softmax\n",
      "Calling edit()...\n",
      "Created CIFAR10PretrainedModelEdit model with 33646666 trainable parameters\n",
      "Restored weights from external_code/PyTorch_CIFAR10/cifar10_models/state_dicts/vgg16_bn.pt\n",
      "Key images: data/cinic-10-imagenet/train/bird/n02050313_6862.png\n",
      "Value images: saved/segmentations/semantics/bird_100/bird-train-n02050313_6862/felzenszwalb_masked/felzenszwalb_masked_softmax.png\n",
      "Masks: None\n",
      "Prepared data for editing\n",
      "Using passed in covariance data loader.\n",
      "Looking for covariance matrix weights in cache/cinic-10-imagenet-dummy/vgg16_bn-12\n",
      "Found precomputed cov matrices, returning...\n"
     ]
    },
    {
     "name": "stderr",
     "output_type": "stream",
     "text": [
      "tensor(0.0093, device='cuda:0', grad_fn=<DivBackward0>): 100%|███████| 40000/40000 [00:41<00:00, 957.62it/s]"
     ]
    },
    {
     "name": "stdout",
     "output_type": "stream",
     "text": [
      "Loss (orig, final): 0.12040255963802338 0.009280607104301453\n",
      "L2 norm of weight change: 0.36829107999801636\n",
      "All metrics and KNN results can be found in saved/edit/experiments/random_edits/debug/CINIC10_ImageNet-VGG_16/bird_100/0131_112715/results/bird-train-n02050313_6862/felzenszwalb_masked_softmax/models\n"
     ]
    },
    {
     "name": "stderr",
     "output_type": "stream",
     "text": [
      "\n"
     ]
    },
    {
     "name": "stdout",
     "output_type": "stream",
     "text": [
      "Finished trial 5/146. Results saved to saved/edit/experiments/random_edits/debug/CINIC10_ImageNet-VGG_16/bird_100/0131_112715/results/bird-train-n02050313_6862/felzenszwalb_masked_softmax\n",
      "Current target class: cat\n",
      "Printing progress reports to saved/edit/experiments/random_edits/debug/CINIC10_ImageNet-VGG_16/cat_100/0131_112715/progress_report.txt\n",
      "Saving path to directories for each trial to saved/edit/experiments/random_edits/debug/CINIC10_ImageNet-VGG_16/cat_100/0131_112715/trial_paths.txt\n",
      "Key image paths stored at paths/edits/semantics/cat_100/0126_161209/key_images_softmax.txt\n",
      "Value image paths stored at paths/edits/semantics/cat_100/0126_161209/value_images_softmax.txt\n",
      "(0131_122117) Starting Trial 1/128...\n",
      "Current run_id: cat_100/0131_112715/results/cat-train-n02127052_1053/felzenszwalb_masked_softmax\n",
      "saved/edit/experiments/random_edits/debug/CINIC10_ImageNet-VGG_16/cat_100/0131_112715/results/cat-train-n02127052_1053/felzenszwalb_masked_softmax\n",
      "Calling edit()...\n",
      "Created CIFAR10PretrainedModelEdit model with 33646666 trainable parameters\n",
      "Restored weights from external_code/PyTorch_CIFAR10/cifar10_models/state_dicts/vgg16_bn.pt\n",
      "Key images: data/cinic-10-imagenet/train/cat/n02127052_1053.png\n",
      "Value images: saved/segmentations/semantics/cat_100/cat-train-n02127052_1053/felzenszwalb_masked/felzenszwalb_masked_softmax.png\n",
      "Masks: None\n",
      "Prepared data for editing\n",
      "Using passed in covariance data loader.\n",
      "Looking for covariance matrix weights in cache/cinic-10-imagenet-dummy/vgg16_bn-12\n",
      "Found precomputed cov matrices, returning...\n"
     ]
    },
    {
     "name": "stderr",
     "output_type": "stream",
     "text": [
      "tensor(0.0027, device='cuda:0', grad_fn=<DivBackward0>): 100%|███████| 40000/40000 [00:41<00:00, 954.96it/s]"
     ]
    },
    {
     "name": "stdout",
     "output_type": "stream",
     "text": [
      "Loss (orig, final): 0.12573400139808655 0.002749317791312933\n",
      "L2 norm of weight change: 0.47539177536964417\n",
      "All metrics and KNN results can be found in saved/edit/experiments/random_edits/debug/CINIC10_ImageNet-VGG_16/cat_100/0131_112715/results/cat-train-n02127052_1053/felzenszwalb_masked_softmax/models\n",
      "Finished trial 1/128. Results saved to saved/edit/experiments/random_edits/debug/CINIC10_ImageNet-VGG_16/cat_100/0131_112715/results/cat-train-n02127052_1053/felzenszwalb_masked_softmax\n",
      "(0131_122159) Starting Trial 2/128...\n",
      "Current run_id: cat_100/0131_112715/results/cat-train-n02127052_1053/felzenszwalb_gaussian_softmax\n"
     ]
    },
    {
     "name": "stderr",
     "output_type": "stream",
     "text": [
      "\n"
     ]
    },
    {
     "name": "stdout",
     "output_type": "stream",
     "text": [
      "saved/edit/experiments/random_edits/debug/CINIC10_ImageNet-VGG_16/cat_100/0131_112715/results/cat-train-n02127052_1053/felzenszwalb_gaussian_softmax\n",
      "Calling edit()...\n",
      "Created CIFAR10PretrainedModelEdit model with 33646666 trainable parameters\n",
      "Restored weights from external_code/PyTorch_CIFAR10/cifar10_models/state_dicts/vgg16_bn.pt\n",
      "Key images: data/cinic-10-imagenet/train/cat/n02127052_1053.png\n",
      "Value images: saved/segmentations/semantics/cat_100/cat-train-n02127052_1053/felzenszwalb_gaussian/felzenszwalb_gaussian_softmax.png\n",
      "Masks: None\n",
      "Prepared data for editing\n",
      "Using passed in covariance data loader.\n",
      "Looking for covariance matrix weights in cache/cinic-10-imagenet-dummy/vgg16_bn-12\n",
      "Found precomputed cov matrices, returning...\n"
     ]
    },
    {
     "name": "stderr",
     "output_type": "stream",
     "text": [
      "tensor(0.0066, device='cuda:0', grad_fn=<DivBackward0>): 100%|███████| 40000/40000 [00:41<00:00, 954.35it/s]"
     ]
    },
    {
     "name": "stdout",
     "output_type": "stream",
     "text": [
      "Loss (orig, final): 0.10313968360424042 0.006610257551074028\n",
      "L2 norm of weight change: 0.36300793290138245\n",
      "All metrics and KNN results can be found in saved/edit/experiments/random_edits/debug/CINIC10_ImageNet-VGG_16/cat_100/0131_112715/results/cat-train-n02127052_1053/felzenszwalb_gaussian_softmax/models\n",
      "Finished trial 2/128. Results saved to saved/edit/experiments/random_edits/debug/CINIC10_ImageNet-VGG_16/cat_100/0131_112715/results/cat-train-n02127052_1053/felzenszwalb_gaussian_softmax\n",
      "(0131_122242) Starting Trial 3/128...\n",
      "Current run_id: cat_100/0131_112715/results/cat-train-n02128757_1157/felzenszwalb_masked_softmax\n"
     ]
    },
    {
     "name": "stderr",
     "output_type": "stream",
     "text": [
      "\n"
     ]
    },
    {
     "name": "stdout",
     "output_type": "stream",
     "text": [
      "saved/edit/experiments/random_edits/debug/CINIC10_ImageNet-VGG_16/cat_100/0131_112715/results/cat-train-n02128757_1157/felzenszwalb_masked_softmax\n",
      "Calling edit()...\n",
      "Created CIFAR10PretrainedModelEdit model with 33646666 trainable parameters\n",
      "Restored weights from external_code/PyTorch_CIFAR10/cifar10_models/state_dicts/vgg16_bn.pt\n",
      "Key images: data/cinic-10-imagenet/train/cat/n02128757_1157.png\n",
      "Value images: saved/segmentations/semantics/cat_100/cat-train-n02128757_1157/felzenszwalb_masked/felzenszwalb_masked_softmax.png\n",
      "Masks: None\n",
      "Prepared data for editing\n",
      "Using passed in covariance data loader.\n",
      "Looking for covariance matrix weights in cache/cinic-10-imagenet-dummy/vgg16_bn-12\n",
      "Found precomputed cov matrices, returning...\n"
     ]
    },
    {
     "name": "stderr",
     "output_type": "stream",
     "text": [
      "tensor(0.0353, device='cuda:0', grad_fn=<DivBackward0>): 100%|███████| 40000/40000 [00:41<00:00, 954.57it/s]"
     ]
    },
    {
     "name": "stdout",
     "output_type": "stream",
     "text": [
      "Loss (orig, final): 0.20088481903076172 0.03529474139213562\n",
      "L2 norm of weight change: 0.5933002233505249\n",
      "All metrics and KNN results can be found in saved/edit/experiments/random_edits/debug/CINIC10_ImageNet-VGG_16/cat_100/0131_112715/results/cat-train-n02128757_1157/felzenszwalb_masked_softmax/models\n",
      "Finished trial 3/128. Results saved to saved/edit/experiments/random_edits/debug/CINIC10_ImageNet-VGG_16/cat_100/0131_112715/results/cat-train-n02128757_1157/felzenszwalb_masked_softmax\n",
      "(0131_122324) Starting Trial 4/128...\n",
      "Current run_id: cat_100/0131_112715/results/cat-train-n02126139_1769/felzenszwalb_masked_softmax\n"
     ]
    },
    {
     "name": "stderr",
     "output_type": "stream",
     "text": [
      "\n"
     ]
    },
    {
     "name": "stdout",
     "output_type": "stream",
     "text": [
      "saved/edit/experiments/random_edits/debug/CINIC10_ImageNet-VGG_16/cat_100/0131_112715/results/cat-train-n02126139_1769/felzenszwalb_masked_softmax\n",
      "Calling edit()...\n",
      "Created CIFAR10PretrainedModelEdit model with 33646666 trainable parameters\n",
      "Restored weights from external_code/PyTorch_CIFAR10/cifar10_models/state_dicts/vgg16_bn.pt\n",
      "Key images: data/cinic-10-imagenet/train/cat/n02126139_1769.png\n",
      "Value images: saved/segmentations/semantics/cat_100/cat-train-n02126139_1769/felzenszwalb_masked/felzenszwalb_masked_softmax.png\n",
      "Masks: None\n",
      "Prepared data for editing\n",
      "Using passed in covariance data loader.\n",
      "Looking for covariance matrix weights in cache/cinic-10-imagenet-dummy/vgg16_bn-12\n",
      "Found precomputed cov matrices, returning...\n"
     ]
    },
    {
     "name": "stderr",
     "output_type": "stream",
     "text": [
      "tensor(0.0401, device='cuda:0', grad_fn=<DivBackward0>): 100%|███████| 40000/40000 [00:42<00:00, 937.57it/s]"
     ]
    },
    {
     "name": "stdout",
     "output_type": "stream",
     "text": [
      "Loss (orig, final): 0.15909728407859802 0.040062785148620605\n",
      "L2 norm of weight change: 0.427528440952301\n",
      "All metrics and KNN results can be found in saved/edit/experiments/random_edits/debug/CINIC10_ImageNet-VGG_16/cat_100/0131_112715/results/cat-train-n02126139_1769/felzenszwalb_masked_softmax/models\n"
     ]
    },
    {
     "name": "stderr",
     "output_type": "stream",
     "text": [
      "\n"
     ]
    },
    {
     "name": "stdout",
     "output_type": "stream",
     "text": [
      "Finished trial 4/128. Results saved to saved/edit/experiments/random_edits/debug/CINIC10_ImageNet-VGG_16/cat_100/0131_112715/results/cat-train-n02126139_1769/felzenszwalb_masked_softmax\n",
      "(0131_122407) Starting Trial 5/128...\n",
      "Current run_id: cat_100/0131_112715/results/cat-train-n02129463_4783/felzenszwalb_masked_softmax\n",
      "saved/edit/experiments/random_edits/debug/CINIC10_ImageNet-VGG_16/cat_100/0131_112715/results/cat-train-n02129463_4783/felzenszwalb_masked_softmax\n",
      "Calling edit()...\n",
      "Created CIFAR10PretrainedModelEdit model with 33646666 trainable parameters\n",
      "Restored weights from external_code/PyTorch_CIFAR10/cifar10_models/state_dicts/vgg16_bn.pt\n",
      "Key images: data/cinic-10-imagenet/train/cat/n02129463_4783.png\n",
      "Value images: saved/segmentations/semantics/cat_100/cat-train-n02129463_4783/felzenszwalb_masked/felzenszwalb_masked_softmax.png\n",
      "Masks: None\n",
      "Prepared data for editing\n",
      "Using passed in covariance data loader.\n",
      "Looking for covariance matrix weights in cache/cinic-10-imagenet-dummy/vgg16_bn-12\n",
      "Found precomputed cov matrices, returning...\n"
     ]
    },
    {
     "name": "stderr",
     "output_type": "stream",
     "text": [
      "tensor(0.0058, device='cuda:0', grad_fn=<DivBackward0>): 100%|███████| 40000/40000 [00:42<00:00, 936.30it/s]"
     ]
    },
    {
     "name": "stdout",
     "output_type": "stream",
     "text": [
      "Loss (orig, final): 0.10946054756641388 0.005807728506624699\n",
      "L2 norm of weight change: 0.47306764125823975\n",
      "All metrics and KNN results can be found in saved/edit/experiments/random_edits/debug/CINIC10_ImageNet-VGG_16/cat_100/0131_112715/results/cat-train-n02129463_4783/felzenszwalb_masked_softmax/models\n"
     ]
    },
    {
     "name": "stderr",
     "output_type": "stream",
     "text": [
      "\n"
     ]
    },
    {
     "name": "stdout",
     "output_type": "stream",
     "text": [
      "Finished trial 5/128. Results saved to saved/edit/experiments/random_edits/debug/CINIC10_ImageNet-VGG_16/cat_100/0131_112715/results/cat-train-n02129463_4783/felzenszwalb_masked_softmax\n",
      "Current target class: deer\n",
      "Printing progress reports to saved/edit/experiments/random_edits/debug/CINIC10_ImageNet-VGG_16/deer_100/0131_112715/progress_report.txt\n",
      "Saving path to directories for each trial to saved/edit/experiments/random_edits/debug/CINIC10_ImageNet-VGG_16/deer_100/0131_112715/trial_paths.txt\n",
      "Key image paths stored at paths/edits/semantics/deer_100/0126_161209/key_images_softmax.txt\n",
      "Value image paths stored at paths/edits/semantics/deer_100/0126_161209/value_images_softmax.txt\n",
      "(0131_122451) Starting Trial 1/72...\n",
      "Current run_id: deer_100/0131_112715/results/deer-train-n02419796_4811/felzenszwalb_gaussian_softmax\n",
      "saved/edit/experiments/random_edits/debug/CINIC10_ImageNet-VGG_16/deer_100/0131_112715/results/deer-train-n02419796_4811/felzenszwalb_gaussian_softmax\n",
      "Calling edit()...\n",
      "Created CIFAR10PretrainedModelEdit model with 33646666 trainable parameters\n",
      "Restored weights from external_code/PyTorch_CIFAR10/cifar10_models/state_dicts/vgg16_bn.pt\n",
      "Key images: data/cinic-10-imagenet/train/deer/n02419796_4811.png\n",
      "Value images: saved/segmentations/semantics/deer_100/deer-train-n02419796_4811/felzenszwalb_gaussian/felzenszwalb_gaussian_softmax.png\n",
      "Masks: None\n",
      "Prepared data for editing\n",
      "Using passed in covariance data loader.\n",
      "Looking for covariance matrix weights in cache/cinic-10-imagenet-dummy/vgg16_bn-12\n",
      "Found precomputed cov matrices, returning...\n"
     ]
    },
    {
     "name": "stderr",
     "output_type": "stream",
     "text": [
      "tensor(0.0126, device='cuda:0', grad_fn=<DivBackward0>): 100%|███████| 40000/40000 [00:42<00:00, 938.42it/s]"
     ]
    },
    {
     "name": "stdout",
     "output_type": "stream",
     "text": [
      "Loss (orig, final): 0.14423957467079163 0.012624852359294891\n",
      "L2 norm of weight change: 0.46052542328834534\n",
      "All metrics and KNN results can be found in saved/edit/experiments/random_edits/debug/CINIC10_ImageNet-VGG_16/deer_100/0131_112715/results/deer-train-n02419796_4811/felzenszwalb_gaussian_softmax/models\n"
     ]
    },
    {
     "name": "stderr",
     "output_type": "stream",
     "text": [
      "\n"
     ]
    },
    {
     "name": "stdout",
     "output_type": "stream",
     "text": [
      "Finished trial 1/72. Results saved to saved/edit/experiments/random_edits/debug/CINIC10_ImageNet-VGG_16/deer_100/0131_112715/results/deer-train-n02419796_4811/felzenszwalb_gaussian_softmax\n",
      "(0131_122534) Starting Trial 2/72...\n",
      "Current run_id: deer_100/0131_112715/results/deer-train-n02431976_13001/felzenszwalb_gaussian_softmax\n",
      "saved/edit/experiments/random_edits/debug/CINIC10_ImageNet-VGG_16/deer_100/0131_112715/results/deer-train-n02431976_13001/felzenszwalb_gaussian_softmax\n",
      "Calling edit()...\n",
      "Created CIFAR10PretrainedModelEdit model with 33646666 trainable parameters\n",
      "Restored weights from external_code/PyTorch_CIFAR10/cifar10_models/state_dicts/vgg16_bn.pt\n",
      "Key images: data/cinic-10-imagenet/train/deer/n02431976_13001.png\n",
      "Value images: saved/segmentations/semantics/deer_100/deer-train-n02431976_13001/felzenszwalb_gaussian/felzenszwalb_gaussian_softmax.png\n",
      "Masks: None\n",
      "Prepared data for editing\n",
      "Using passed in covariance data loader.\n",
      "Looking for covariance matrix weights in cache/cinic-10-imagenet-dummy/vgg16_bn-12\n",
      "Found precomputed cov matrices, returning...\n"
     ]
    },
    {
     "name": "stderr",
     "output_type": "stream",
     "text": [
      "tensor(0.0115, device='cuda:0', grad_fn=<DivBackward0>): 100%|███████| 40000/40000 [00:42<00:00, 930.57it/s]"
     ]
    },
    {
     "name": "stdout",
     "output_type": "stream",
     "text": [
      "Loss (orig, final): 0.18135690689086914 0.0115074273198843\n",
      "L2 norm of weight change: 0.6970255970954895\n",
      "All metrics and KNN results can be found in saved/edit/experiments/random_edits/debug/CINIC10_ImageNet-VGG_16/deer_100/0131_112715/results/deer-train-n02431976_13001/felzenszwalb_gaussian_softmax/models\n",
      "Finished trial 2/72. Results saved to saved/edit/experiments/random_edits/debug/CINIC10_ImageNet-VGG_16/deer_100/0131_112715/results/deer-train-n02431976_13001/felzenszwalb_gaussian_softmax\n",
      "(0131_122618) Starting Trial 3/72...\n",
      "Current run_id: deer_100/0131_112715/results/deer-train-n02431785_8076/felzenszwalb_gaussian_softmax\n"
     ]
    },
    {
     "name": "stderr",
     "output_type": "stream",
     "text": [
      "\n"
     ]
    },
    {
     "name": "stdout",
     "output_type": "stream",
     "text": [
      "saved/edit/experiments/random_edits/debug/CINIC10_ImageNet-VGG_16/deer_100/0131_112715/results/deer-train-n02431785_8076/felzenszwalb_gaussian_softmax\n",
      "Calling edit()...\n",
      "Created CIFAR10PretrainedModelEdit model with 33646666 trainable parameters\n",
      "Restored weights from external_code/PyTorch_CIFAR10/cifar10_models/state_dicts/vgg16_bn.pt\n",
      "Key images: data/cinic-10-imagenet/train/deer/n02431785_8076.png\n",
      "Value images: saved/segmentations/semantics/deer_100/deer-train-n02431785_8076/felzenszwalb_gaussian/felzenszwalb_gaussian_softmax.png\n",
      "Masks: None\n",
      "Prepared data for editing\n",
      "Using passed in covariance data loader.\n",
      "Looking for covariance matrix weights in cache/cinic-10-imagenet-dummy/vgg16_bn-12\n",
      "Found precomputed cov matrices, returning...\n"
     ]
    },
    {
     "name": "stderr",
     "output_type": "stream",
     "text": [
      "tensor(0.0429, device='cuda:0', grad_fn=<DivBackward0>): 100%|███████| 40000/40000 [00:42<00:00, 937.38it/s]"
     ]
    },
    {
     "name": "stdout",
     "output_type": "stream",
     "text": [
      "Loss (orig, final): 0.2234143167734146 0.0429360494017601\n",
      "L2 norm of weight change: 0.670449435710907\n",
      "All metrics and KNN results can be found in saved/edit/experiments/random_edits/debug/CINIC10_ImageNet-VGG_16/deer_100/0131_112715/results/deer-train-n02431785_8076/felzenszwalb_gaussian_softmax/models\n",
      "Finished trial 3/72. Results saved to saved/edit/experiments/random_edits/debug/CINIC10_ImageNet-VGG_16/deer_100/0131_112715/results/deer-train-n02431785_8076/felzenszwalb_gaussian_softmax\n",
      "(0131_122701) Starting Trial 4/72...\n",
      "Current run_id: deer_100/0131_112715/results/deer-train-n02432983_25310/felzenszwalb_gaussian_softmax\n"
     ]
    },
    {
     "name": "stderr",
     "output_type": "stream",
     "text": [
      "\n"
     ]
    },
    {
     "name": "stdout",
     "output_type": "stream",
     "text": [
      "saved/edit/experiments/random_edits/debug/CINIC10_ImageNet-VGG_16/deer_100/0131_112715/results/deer-train-n02432983_25310/felzenszwalb_gaussian_softmax\n",
      "Calling edit()...\n",
      "Created CIFAR10PretrainedModelEdit model with 33646666 trainable parameters\n",
      "Restored weights from external_code/PyTorch_CIFAR10/cifar10_models/state_dicts/vgg16_bn.pt\n",
      "Key images: data/cinic-10-imagenet/train/deer/n02432983_25310.png\n",
      "Value images: saved/segmentations/semantics/deer_100/deer-train-n02432983_25310/felzenszwalb_gaussian/felzenszwalb_gaussian_softmax.png\n",
      "Masks: None\n",
      "Prepared data for editing\n",
      "Using passed in covariance data loader.\n",
      "Looking for covariance matrix weights in cache/cinic-10-imagenet-dummy/vgg16_bn-12\n",
      "Found precomputed cov matrices, returning...\n"
     ]
    },
    {
     "name": "stderr",
     "output_type": "stream",
     "text": [
      "tensor(0.0561, device='cuda:0', grad_fn=<DivBackward0>): 100%|███████| 40000/40000 [00:42<00:00, 931.56it/s]"
     ]
    },
    {
     "name": "stdout",
     "output_type": "stream",
     "text": [
      "Loss (orig, final): 0.18947237730026245 0.05606338381767273\n",
      "L2 norm of weight change: 0.551669180393219\n",
      "All metrics and KNN results can be found in saved/edit/experiments/random_edits/debug/CINIC10_ImageNet-VGG_16/deer_100/0131_112715/results/deer-train-n02432983_25310/felzenszwalb_gaussian_softmax/models\n",
      "Finished trial 4/72. Results saved to saved/edit/experiments/random_edits/debug/CINIC10_ImageNet-VGG_16/deer_100/0131_112715/results/deer-train-n02432983_25310/felzenszwalb_gaussian_softmax\n",
      "(0131_122744) Starting Trial 5/72...\n",
      "Current run_id: deer_100/0131_112715/results/deer-train-n02411206_4875/felzenszwalb_masked_softmax\n"
     ]
    },
    {
     "name": "stderr",
     "output_type": "stream",
     "text": [
      "\n"
     ]
    },
    {
     "name": "stdout",
     "output_type": "stream",
     "text": [
      "saved/edit/experiments/random_edits/debug/CINIC10_ImageNet-VGG_16/deer_100/0131_112715/results/deer-train-n02411206_4875/felzenszwalb_masked_softmax\n",
      "Calling edit()...\n",
      "Created CIFAR10PretrainedModelEdit model with 33646666 trainable parameters\n",
      "Restored weights from external_code/PyTorch_CIFAR10/cifar10_models/state_dicts/vgg16_bn.pt\n",
      "Key images: data/cinic-10-imagenet/train/deer/n02411206_4875.png\n",
      "Value images: saved/segmentations/semantics/deer_100/deer-train-n02411206_4875/felzenszwalb_masked/felzenszwalb_masked_softmax.png\n",
      "Masks: None\n",
      "Prepared data for editing\n",
      "Using passed in covariance data loader.\n",
      "Looking for covariance matrix weights in cache/cinic-10-imagenet-dummy/vgg16_bn-12\n",
      "Found precomputed cov matrices, returning...\n"
     ]
    },
    {
     "name": "stderr",
     "output_type": "stream",
     "text": [
      "tensor(0.0147, device='cuda:0', grad_fn=<DivBackward0>): 100%|███████| 40000/40000 [00:42<00:00, 931.99it/s]"
     ]
    },
    {
     "name": "stdout",
     "output_type": "stream",
     "text": [
      "Loss (orig, final): 0.11401078850030899 0.014744985848665237\n",
      "L2 norm of weight change: 0.39520397782325745\n",
      "All metrics and KNN results can be found in saved/edit/experiments/random_edits/debug/CINIC10_ImageNet-VGG_16/deer_100/0131_112715/results/deer-train-n02411206_4875/felzenszwalb_masked_softmax/models\n"
     ]
    },
    {
     "name": "stderr",
     "output_type": "stream",
     "text": [
      "\n"
     ]
    },
    {
     "name": "stdout",
     "output_type": "stream",
     "text": [
      "Finished trial 5/72. Results saved to saved/edit/experiments/random_edits/debug/CINIC10_ImageNet-VGG_16/deer_100/0131_112715/results/deer-train-n02411206_4875/felzenszwalb_masked_softmax\n",
      "Current target class: dog\n",
      "Printing progress reports to saved/edit/experiments/random_edits/debug/CINIC10_ImageNet-VGG_16/dog_100/0131_112715/progress_report.txt\n",
      "Saving path to directories for each trial to saved/edit/experiments/random_edits/debug/CINIC10_ImageNet-VGG_16/dog_100/0131_112715/trial_paths.txt\n",
      "Key image paths stored at paths/edits/semantics/dog_100/0126_161209/key_images_softmax.txt\n",
      "Value image paths stored at paths/edits/semantics/dog_100/0126_161209/value_images_softmax.txt\n",
      "(0131_122828) Starting Trial 1/55...\n",
      "Current run_id: dog_100/0131_112715/results/dog-train-n02085620_7619/felzenszwalb_masked_softmax\n",
      "saved/edit/experiments/random_edits/debug/CINIC10_ImageNet-VGG_16/dog_100/0131_112715/results/dog-train-n02085620_7619/felzenszwalb_masked_softmax\n",
      "Calling edit()...\n",
      "Created CIFAR10PretrainedModelEdit model with 33646666 trainable parameters\n",
      "Restored weights from external_code/PyTorch_CIFAR10/cifar10_models/state_dicts/vgg16_bn.pt\n",
      "Key images: data/cinic-10-imagenet/train/dog/n02085620_7619.png\n",
      "Value images: saved/segmentations/semantics/dog_100/dog-train-n02085620_7619/felzenszwalb_masked/felzenszwalb_masked_softmax.png\n",
      "Masks: None\n",
      "Prepared data for editing\n",
      "Using passed in covariance data loader.\n",
      "Looking for covariance matrix weights in cache/cinic-10-imagenet-dummy/vgg16_bn-12\n",
      "Found precomputed cov matrices, returning...\n"
     ]
    },
    {
     "name": "stderr",
     "output_type": "stream",
     "text": [
      "tensor(0.0172, device='cuda:0', grad_fn=<DivBackward0>): 100%|███████| 40000/40000 [00:43<00:00, 929.57it/s]"
     ]
    },
    {
     "name": "stdout",
     "output_type": "stream",
     "text": [
      "Loss (orig, final): 0.11536315083503723 0.017247959971427917\n",
      "L2 norm of weight change: 0.3123748302459717\n",
      "All metrics and KNN results can be found in saved/edit/experiments/random_edits/debug/CINIC10_ImageNet-VGG_16/dog_100/0131_112715/results/dog-train-n02085620_7619/felzenszwalb_masked_softmax/models\n",
      "Finished trial 1/55. Results saved to saved/edit/experiments/random_edits/debug/CINIC10_ImageNet-VGG_16/dog_100/0131_112715/results/dog-train-n02085620_7619/felzenszwalb_masked_softmax\n",
      "(0131_122912) Starting Trial 2/55...\n",
      "Current run_id: dog_100/0131_112715/results/dog-train-n02111129_3908/felzenszwalb_masked_softmax\n"
     ]
    },
    {
     "name": "stderr",
     "output_type": "stream",
     "text": [
      "\n"
     ]
    },
    {
     "name": "stdout",
     "output_type": "stream",
     "text": [
      "saved/edit/experiments/random_edits/debug/CINIC10_ImageNet-VGG_16/dog_100/0131_112715/results/dog-train-n02111129_3908/felzenszwalb_masked_softmax\n",
      "Calling edit()...\n",
      "Created CIFAR10PretrainedModelEdit model with 33646666 trainable parameters\n",
      "Restored weights from external_code/PyTorch_CIFAR10/cifar10_models/state_dicts/vgg16_bn.pt\n",
      "Key images: data/cinic-10-imagenet/train/dog/n02111129_3908.png\n",
      "Value images: saved/segmentations/semantics/dog_100/dog-train-n02111129_3908/felzenszwalb_masked/felzenszwalb_masked_softmax.png\n",
      "Masks: None\n",
      "Prepared data for editing\n",
      "Using passed in covariance data loader.\n",
      "Looking for covariance matrix weights in cache/cinic-10-imagenet-dummy/vgg16_bn-12\n",
      "Found precomputed cov matrices, returning...\n"
     ]
    },
    {
     "name": "stderr",
     "output_type": "stream",
     "text": [
      "tensor(0.0063, device='cuda:0', grad_fn=<DivBackward0>): 100%|███████| 40000/40000 [00:42<00:00, 934.05it/s]"
     ]
    },
    {
     "name": "stdout",
     "output_type": "stream",
     "text": [
      "Loss (orig, final): 0.11375298351049423 0.00630043912678957\n",
      "L2 norm of weight change: 0.31365731358528137\n",
      "All metrics and KNN results can be found in saved/edit/experiments/random_edits/debug/CINIC10_ImageNet-VGG_16/dog_100/0131_112715/results/dog-train-n02111129_3908/felzenszwalb_masked_softmax/models\n"
     ]
    },
    {
     "name": "stderr",
     "output_type": "stream",
     "text": [
      "\n"
     ]
    },
    {
     "name": "stdout",
     "output_type": "stream",
     "text": [
      "Finished trial 2/55. Results saved to saved/edit/experiments/random_edits/debug/CINIC10_ImageNet-VGG_16/dog_100/0131_112715/results/dog-train-n02111129_3908/felzenszwalb_masked_softmax\n",
      "(0131_122955) Starting Trial 3/55...\n",
      "Current run_id: dog_100/0131_112715/results/dog-train-n02113799_1754/felzenszwalb_masked_softmax\n",
      "saved/edit/experiments/random_edits/debug/CINIC10_ImageNet-VGG_16/dog_100/0131_112715/results/dog-train-n02113799_1754/felzenszwalb_masked_softmax\n",
      "Calling edit()...\n",
      "Created CIFAR10PretrainedModelEdit model with 33646666 trainable parameters\n",
      "Restored weights from external_code/PyTorch_CIFAR10/cifar10_models/state_dicts/vgg16_bn.pt\n",
      "Key images: data/cinic-10-imagenet/train/dog/n02113799_1754.png\n",
      "Value images: saved/segmentations/semantics/dog_100/dog-train-n02113799_1754/felzenszwalb_masked/felzenszwalb_masked_softmax.png\n",
      "Masks: None\n",
      "Prepared data for editing\n",
      "Using passed in covariance data loader.\n",
      "Looking for covariance matrix weights in cache/cinic-10-imagenet-dummy/vgg16_bn-12\n",
      "Found precomputed cov matrices, returning...\n"
     ]
    },
    {
     "name": "stderr",
     "output_type": "stream",
     "text": [
      "tensor(0.0037, device='cuda:0', grad_fn=<DivBackward0>): 100%|███████| 40000/40000 [00:42<00:00, 942.17it/s]"
     ]
    },
    {
     "name": "stdout",
     "output_type": "stream",
     "text": [
      "Loss (orig, final): 0.05529198795557022 0.003699044231325388\n",
      "L2 norm of weight change: 0.20922738313674927\n",
      "All metrics and KNN results can be found in saved/edit/experiments/random_edits/debug/CINIC10_ImageNet-VGG_16/dog_100/0131_112715/results/dog-train-n02113799_1754/felzenszwalb_masked_softmax/models\n",
      "Finished trial 3/55. Results saved to saved/edit/experiments/random_edits/debug/CINIC10_ImageNet-VGG_16/dog_100/0131_112715/results/dog-train-n02113799_1754/felzenszwalb_masked_softmax\n",
      "(0131_123038) Starting Trial 4/55...\n",
      "Current run_id: dog_100/0131_112715/results/dog-train-n02113799_1754/felzenszwalb_gaussian_softmax\n"
     ]
    },
    {
     "name": "stderr",
     "output_type": "stream",
     "text": [
      "\n"
     ]
    },
    {
     "name": "stdout",
     "output_type": "stream",
     "text": [
      "saved/edit/experiments/random_edits/debug/CINIC10_ImageNet-VGG_16/dog_100/0131_112715/results/dog-train-n02113799_1754/felzenszwalb_gaussian_softmax\n",
      "Calling edit()...\n",
      "Created CIFAR10PretrainedModelEdit model with 33646666 trainable parameters\n",
      "Restored weights from external_code/PyTorch_CIFAR10/cifar10_models/state_dicts/vgg16_bn.pt\n",
      "Key images: data/cinic-10-imagenet/train/dog/n02113799_1754.png\n",
      "Value images: saved/segmentations/semantics/dog_100/dog-train-n02113799_1754/felzenszwalb_gaussian/felzenszwalb_gaussian_softmax.png\n",
      "Masks: None\n",
      "Prepared data for editing\n",
      "Using passed in covariance data loader.\n",
      "Looking for covariance matrix weights in cache/cinic-10-imagenet-dummy/vgg16_bn-12\n",
      "Found precomputed cov matrices, returning...\n"
     ]
    },
    {
     "name": "stderr",
     "output_type": "stream",
     "text": [
      "tensor(0.0040, device='cuda:0', grad_fn=<DivBackward0>): 100%|███████| 40000/40000 [00:42<00:00, 945.82it/s]"
     ]
    },
    {
     "name": "stdout",
     "output_type": "stream",
     "text": [
      "Loss (orig, final): 0.07149382680654526 0.004037949256598949\n",
      "L2 norm of weight change: 0.24214708805084229\n",
      "All metrics and KNN results can be found in saved/edit/experiments/random_edits/debug/CINIC10_ImageNet-VGG_16/dog_100/0131_112715/results/dog-train-n02113799_1754/felzenszwalb_gaussian_softmax/models\n",
      "Finished trial 4/55. Results saved to saved/edit/experiments/random_edits/debug/CINIC10_ImageNet-VGG_16/dog_100/0131_112715/results/dog-train-n02113799_1754/felzenszwalb_gaussian_softmax\n",
      "(0131_123121) Starting Trial 5/55...\n",
      "Current run_id: dog_100/0131_112715/results/dog-train-n02115335_10511/felzenszwalb_masked_softmax\n"
     ]
    },
    {
     "name": "stderr",
     "output_type": "stream",
     "text": [
      "\n"
     ]
    },
    {
     "name": "stdout",
     "output_type": "stream",
     "text": [
      "saved/edit/experiments/random_edits/debug/CINIC10_ImageNet-VGG_16/dog_100/0131_112715/results/dog-train-n02115335_10511/felzenszwalb_masked_softmax\n",
      "Calling edit()...\n",
      "Created CIFAR10PretrainedModelEdit model with 33646666 trainable parameters\n",
      "Restored weights from external_code/PyTorch_CIFAR10/cifar10_models/state_dicts/vgg16_bn.pt\n",
      "Key images: data/cinic-10-imagenet/train/dog/n02115335_10511.png\n",
      "Value images: saved/segmentations/semantics/dog_100/dog-train-n02115335_10511/felzenszwalb_masked/felzenszwalb_masked_softmax.png\n",
      "Masks: None\n",
      "Prepared data for editing\n",
      "Using passed in covariance data loader.\n",
      "Looking for covariance matrix weights in cache/cinic-10-imagenet-dummy/vgg16_bn-12\n",
      "Found precomputed cov matrices, returning...\n"
     ]
    },
    {
     "name": "stderr",
     "output_type": "stream",
     "text": [
      "tensor(0.0065, device='cuda:0', grad_fn=<DivBackward0>): 100%|███████| 40000/40000 [00:42<00:00, 943.88it/s]"
     ]
    },
    {
     "name": "stdout",
     "output_type": "stream",
     "text": [
      "Loss (orig, final): 0.08183370530605316 0.006480764597654343\n",
      "L2 norm of weight change: 0.3235473930835724\n",
      "All metrics and KNN results can be found in saved/edit/experiments/random_edits/debug/CINIC10_ImageNet-VGG_16/dog_100/0131_112715/results/dog-train-n02115335_10511/felzenszwalb_masked_softmax/models\n"
     ]
    },
    {
     "name": "stderr",
     "output_type": "stream",
     "text": [
      "\n"
     ]
    },
    {
     "name": "stdout",
     "output_type": "stream",
     "text": [
      "Finished trial 5/55. Results saved to saved/edit/experiments/random_edits/debug/CINIC10_ImageNet-VGG_16/dog_100/0131_112715/results/dog-train-n02115335_10511/felzenszwalb_masked_softmax\n",
      "Current target class: frog\n",
      "Printing progress reports to saved/edit/experiments/random_edits/debug/CINIC10_ImageNet-VGG_16/frog_100/0131_112715/progress_report.txt\n",
      "Saving path to directories for each trial to saved/edit/experiments/random_edits/debug/CINIC10_ImageNet-VGG_16/frog_100/0131_112715/trial_paths.txt\n",
      "Key image paths stored at paths/edits/semantics/frog_100/0126_161209/key_images_softmax.txt\n",
      "Value image paths stored at paths/edits/semantics/frog_100/0126_161209/value_images_softmax.txt\n",
      "(0131_123205) Starting Trial 1/132...\n",
      "Current run_id: frog_100/0131_112715/results/frog-train-n01639765_51298/felzenszwalb_masked_softmax\n",
      "saved/edit/experiments/random_edits/debug/CINIC10_ImageNet-VGG_16/frog_100/0131_112715/results/frog-train-n01639765_51298/felzenszwalb_masked_softmax\n",
      "Calling edit()...\n",
      "Created CIFAR10PretrainedModelEdit model with 33646666 trainable parameters\n",
      "Restored weights from external_code/PyTorch_CIFAR10/cifar10_models/state_dicts/vgg16_bn.pt\n",
      "Key images: data/cinic-10-imagenet/train/frog/n01639765_51298.png\n",
      "Value images: saved/segmentations/semantics/frog_100/frog-train-n01639765_51298/felzenszwalb_masked/felzenszwalb_masked_softmax.png\n",
      "Masks: None\n",
      "Prepared data for editing\n",
      "Using passed in covariance data loader.\n",
      "Looking for covariance matrix weights in cache/cinic-10-imagenet-dummy/vgg16_bn-12\n",
      "Found precomputed cov matrices, returning...\n"
     ]
    },
    {
     "name": "stderr",
     "output_type": "stream",
     "text": [
      "tensor(0.0200, device='cuda:0', grad_fn=<DivBackward0>): 100%|███████| 40000/40000 [00:42<00:00, 938.93it/s]"
     ]
    },
    {
     "name": "stdout",
     "output_type": "stream",
     "text": [
      "Loss (orig, final): 0.16050130128860474 0.01999412290751934\n",
      "L2 norm of weight change: 0.4369184076786041\n",
      "All metrics and KNN results can be found in saved/edit/experiments/random_edits/debug/CINIC10_ImageNet-VGG_16/frog_100/0131_112715/results/frog-train-n01639765_51298/felzenszwalb_masked_softmax/models\n",
      "Finished trial 1/132. Results saved to saved/edit/experiments/random_edits/debug/CINIC10_ImageNet-VGG_16/frog_100/0131_112715/results/frog-train-n01639765_51298/felzenszwalb_masked_softmax\n",
      "(0131_123248) Starting Trial 2/132...\n",
      "Current run_id: frog_100/0131_112715/results/frog-train-n01639765_51298/felzenszwalb_gaussian_softmax\n"
     ]
    },
    {
     "name": "stderr",
     "output_type": "stream",
     "text": [
      "\n"
     ]
    },
    {
     "name": "stdout",
     "output_type": "stream",
     "text": [
      "saved/edit/experiments/random_edits/debug/CINIC10_ImageNet-VGG_16/frog_100/0131_112715/results/frog-train-n01639765_51298/felzenszwalb_gaussian_softmax\n",
      "Calling edit()...\n",
      "Created CIFAR10PretrainedModelEdit model with 33646666 trainable parameters\n",
      "Restored weights from external_code/PyTorch_CIFAR10/cifar10_models/state_dicts/vgg16_bn.pt\n",
      "Key images: data/cinic-10-imagenet/train/frog/n01639765_51298.png\n",
      "Value images: saved/segmentations/semantics/frog_100/frog-train-n01639765_51298/felzenszwalb_gaussian/felzenszwalb_gaussian_softmax.png\n",
      "Masks: None\n",
      "Prepared data for editing\n",
      "Using passed in covariance data loader.\n",
      "Looking for covariance matrix weights in cache/cinic-10-imagenet-dummy/vgg16_bn-12\n",
      "Found precomputed cov matrices, returning...\n"
     ]
    },
    {
     "name": "stderr",
     "output_type": "stream",
     "text": [
      "tensor(0.0111, device='cuda:0', grad_fn=<DivBackward0>): 100%|███████| 40000/40000 [00:42<00:00, 938.17it/s]"
     ]
    },
    {
     "name": "stdout",
     "output_type": "stream",
     "text": [
      "Loss (orig, final): 0.1327330768108368 0.011054682545363903\n",
      "L2 norm of weight change: 0.43826523423194885\n",
      "All metrics and KNN results can be found in saved/edit/experiments/random_edits/debug/CINIC10_ImageNet-VGG_16/frog_100/0131_112715/results/frog-train-n01639765_51298/felzenszwalb_gaussian_softmax/models\n"
     ]
    },
    {
     "name": "stderr",
     "output_type": "stream",
     "text": [
      "\n"
     ]
    },
    {
     "name": "stdout",
     "output_type": "stream",
     "text": [
      "Finished trial 2/132. Results saved to saved/edit/experiments/random_edits/debug/CINIC10_ImageNet-VGG_16/frog_100/0131_112715/results/frog-train-n01639765_51298/felzenszwalb_gaussian_softmax\n",
      "(0131_123331) Starting Trial 3/132...\n",
      "Current run_id: frog_100/0131_112715/results/frog-train-n01648620_3133/felzenszwalb_masked_softmax\n",
      "saved/edit/experiments/random_edits/debug/CINIC10_ImageNet-VGG_16/frog_100/0131_112715/results/frog-train-n01648620_3133/felzenszwalb_masked_softmax\n",
      "Calling edit()...\n",
      "Created CIFAR10PretrainedModelEdit model with 33646666 trainable parameters\n",
      "Restored weights from external_code/PyTorch_CIFAR10/cifar10_models/state_dicts/vgg16_bn.pt\n",
      "Key images: data/cinic-10-imagenet/train/frog/n01648620_3133.png\n",
      "Value images: saved/segmentations/semantics/frog_100/frog-train-n01648620_3133/felzenszwalb_masked/felzenszwalb_masked_softmax.png\n",
      "Masks: None\n",
      "Prepared data for editing\n",
      "Using passed in covariance data loader.\n",
      "Looking for covariance matrix weights in cache/cinic-10-imagenet-dummy/vgg16_bn-12\n",
      "Found precomputed cov matrices, returning...\n"
     ]
    },
    {
     "name": "stderr",
     "output_type": "stream",
     "text": [
      "tensor(0.0040, device='cuda:0', grad_fn=<DivBackward0>): 100%|███████| 40000/40000 [00:42<00:00, 939.35it/s]"
     ]
    },
    {
     "name": "stdout",
     "output_type": "stream",
     "text": [
      "Loss (orig, final): 0.17097172141075134 0.004006665665656328\n",
      "L2 norm of weight change: 0.7503950595855713\n",
      "All metrics and KNN results can be found in saved/edit/experiments/random_edits/debug/CINIC10_ImageNet-VGG_16/frog_100/0131_112715/results/frog-train-n01648620_3133/felzenszwalb_masked_softmax/models\n",
      "Finished trial 3/132. Results saved to saved/edit/experiments/random_edits/debug/CINIC10_ImageNet-VGG_16/frog_100/0131_112715/results/frog-train-n01648620_3133/felzenszwalb_masked_softmax\n",
      "(0131_123414) Starting Trial 4/132...\n",
      "Current run_id: frog_100/0131_112715/results/frog-train-n01648620_3133/felzenszwalb_gaussian_softmax\n"
     ]
    },
    {
     "name": "stderr",
     "output_type": "stream",
     "text": [
      "\n"
     ]
    },
    {
     "name": "stdout",
     "output_type": "stream",
     "text": [
      "saved/edit/experiments/random_edits/debug/CINIC10_ImageNet-VGG_16/frog_100/0131_112715/results/frog-train-n01648620_3133/felzenszwalb_gaussian_softmax\n",
      "Calling edit()...\n",
      "Created CIFAR10PretrainedModelEdit model with 33646666 trainable parameters\n",
      "Restored weights from external_code/PyTorch_CIFAR10/cifar10_models/state_dicts/vgg16_bn.pt\n",
      "Key images: data/cinic-10-imagenet/train/frog/n01648620_3133.png\n",
      "Value images: saved/segmentations/semantics/frog_100/frog-train-n01648620_3133/felzenszwalb_gaussian/felzenszwalb_gaussian_softmax.png\n",
      "Masks: None\n",
      "Prepared data for editing\n",
      "Using passed in covariance data loader.\n",
      "Looking for covariance matrix weights in cache/cinic-10-imagenet-dummy/vgg16_bn-12\n",
      "Found precomputed cov matrices, returning...\n"
     ]
    },
    {
     "name": "stderr",
     "output_type": "stream",
     "text": [
      "tensor(0.0049, device='cuda:0', grad_fn=<DivBackward0>): 100%|███████| 40000/40000 [00:42<00:00, 934.40it/s]"
     ]
    },
    {
     "name": "stdout",
     "output_type": "stream",
     "text": [
      "Loss (orig, final): 0.16215157508850098 0.004873383790254593\n",
      "L2 norm of weight change: 0.6589652299880981\n",
      "All metrics and KNN results can be found in saved/edit/experiments/random_edits/debug/CINIC10_ImageNet-VGG_16/frog_100/0131_112715/results/frog-train-n01648620_3133/felzenszwalb_gaussian_softmax/models\n",
      "Finished trial 4/132. Results saved to saved/edit/experiments/random_edits/debug/CINIC10_ImageNet-VGG_16/frog_100/0131_112715/results/frog-train-n01648620_3133/felzenszwalb_gaussian_softmax\n",
      "(0131_123457) Starting Trial 5/132...\n",
      "Current run_id: frog_100/0131_112715/results/frog-train-n01641391_2373/felzenszwalb_masked_softmax\n"
     ]
    },
    {
     "name": "stderr",
     "output_type": "stream",
     "text": [
      "\n"
     ]
    },
    {
     "name": "stdout",
     "output_type": "stream",
     "text": [
      "saved/edit/experiments/random_edits/debug/CINIC10_ImageNet-VGG_16/frog_100/0131_112715/results/frog-train-n01641391_2373/felzenszwalb_masked_softmax\n",
      "Calling edit()...\n",
      "Created CIFAR10PretrainedModelEdit model with 33646666 trainable parameters\n",
      "Restored weights from external_code/PyTorch_CIFAR10/cifar10_models/state_dicts/vgg16_bn.pt\n",
      "Key images: data/cinic-10-imagenet/train/frog/n01641391_2373.png\n",
      "Value images: saved/segmentations/semantics/frog_100/frog-train-n01641391_2373/felzenszwalb_masked/felzenszwalb_masked_softmax.png\n",
      "Masks: None\n",
      "Prepared data for editing\n",
      "Using passed in covariance data loader.\n",
      "Looking for covariance matrix weights in cache/cinic-10-imagenet-dummy/vgg16_bn-12\n",
      "Found precomputed cov matrices, returning...\n"
     ]
    },
    {
     "name": "stderr",
     "output_type": "stream",
     "text": [
      "tensor(0.0079, device='cuda:0', grad_fn=<DivBackward0>): 100%|███████| 40000/40000 [00:42<00:00, 935.88it/s]"
     ]
    },
    {
     "name": "stdout",
     "output_type": "stream",
     "text": [
      "Loss (orig, final): 0.13892759382724762 0.007873404771089554\n",
      "L2 norm of weight change: 0.6806479692459106\n",
      "All metrics and KNN results can be found in saved/edit/experiments/random_edits/debug/CINIC10_ImageNet-VGG_16/frog_100/0131_112715/results/frog-train-n01641391_2373/felzenszwalb_masked_softmax/models\n"
     ]
    },
    {
     "name": "stderr",
     "output_type": "stream",
     "text": [
      "\n"
     ]
    },
    {
     "name": "stdout",
     "output_type": "stream",
     "text": [
      "Finished trial 5/132. Results saved to saved/edit/experiments/random_edits/debug/CINIC10_ImageNet-VGG_16/frog_100/0131_112715/results/frog-train-n01641391_2373/felzenszwalb_masked_softmax\n",
      "Current target class: horse\n",
      "Printing progress reports to saved/edit/experiments/random_edits/debug/CINIC10_ImageNet-VGG_16/horse_100/0131_112715/progress_report.txt\n",
      "Saving path to directories for each trial to saved/edit/experiments/random_edits/debug/CINIC10_ImageNet-VGG_16/horse_100/0131_112715/trial_paths.txt\n",
      "Key image paths stored at paths/edits/semantics/horse_100/0126_161209/key_images_softmax.txt\n",
      "Value image paths stored at paths/edits/semantics/horse_100/0126_161209/value_images_softmax.txt\n",
      "(0131_123541) Starting Trial 1/84...\n",
      "Current run_id: horse_100/0131_112715/results/horse-train-n02382437_4651/felzenszwalb_masked_softmax\n",
      "saved/edit/experiments/random_edits/debug/CINIC10_ImageNet-VGG_16/horse_100/0131_112715/results/horse-train-n02382437_4651/felzenszwalb_masked_softmax\n",
      "Calling edit()...\n",
      "Created CIFAR10PretrainedModelEdit model with 33646666 trainable parameters\n",
      "Restored weights from external_code/PyTorch_CIFAR10/cifar10_models/state_dicts/vgg16_bn.pt\n",
      "Key images: data/cinic-10-imagenet/train/horse/n02382437_4651.png\n",
      "Value images: saved/segmentations/semantics/horse_100/horse-train-n02382437_4651/felzenszwalb_masked/felzenszwalb_masked_softmax.png\n",
      "Masks: None\n",
      "Prepared data for editing\n",
      "Using passed in covariance data loader.\n",
      "Looking for covariance matrix weights in cache/cinic-10-imagenet-dummy/vgg16_bn-12\n",
      "Found precomputed cov matrices, returning...\n"
     ]
    },
    {
     "name": "stderr",
     "output_type": "stream",
     "text": [
      "tensor(0.0039, device='cuda:0', grad_fn=<DivBackward0>): 100%|███████| 40000/40000 [00:42<00:00, 945.49it/s]"
     ]
    },
    {
     "name": "stdout",
     "output_type": "stream",
     "text": [
      "Loss (orig, final): 0.06633156538009644 0.003859299700707197\n",
      "L2 norm of weight change: 0.22154104709625244\n",
      "All metrics and KNN results can be found in saved/edit/experiments/random_edits/debug/CINIC10_ImageNet-VGG_16/horse_100/0131_112715/results/horse-train-n02382437_4651/felzenszwalb_masked_softmax/models\n"
     ]
    },
    {
     "name": "stderr",
     "output_type": "stream",
     "text": [
      "\n"
     ]
    },
    {
     "name": "stdout",
     "output_type": "stream",
     "text": [
      "Finished trial 1/84. Results saved to saved/edit/experiments/random_edits/debug/CINIC10_ImageNet-VGG_16/horse_100/0131_112715/results/horse-train-n02382437_4651/felzenszwalb_masked_softmax\n",
      "(0131_123624) Starting Trial 2/84...\n",
      "Current run_id: horse_100/0131_112715/results/horse-train-n02382437_4651/felzenszwalb_gaussian_softmax\n",
      "saved/edit/experiments/random_edits/debug/CINIC10_ImageNet-VGG_16/horse_100/0131_112715/results/horse-train-n02382437_4651/felzenszwalb_gaussian_softmax\n",
      "Calling edit()...\n",
      "Created CIFAR10PretrainedModelEdit model with 33646666 trainable parameters\n",
      "Restored weights from external_code/PyTorch_CIFAR10/cifar10_models/state_dicts/vgg16_bn.pt\n",
      "Key images: data/cinic-10-imagenet/train/horse/n02382437_4651.png\n",
      "Value images: saved/segmentations/semantics/horse_100/horse-train-n02382437_4651/felzenszwalb_gaussian/felzenszwalb_gaussian_softmax.png\n",
      "Masks: None\n",
      "Prepared data for editing\n",
      "Using passed in covariance data loader.\n",
      "Looking for covariance matrix weights in cache/cinic-10-imagenet-dummy/vgg16_bn-12\n",
      "Found precomputed cov matrices, returning...\n"
     ]
    },
    {
     "name": "stderr",
     "output_type": "stream",
     "text": [
      "tensor(0.0046, device='cuda:0', grad_fn=<DivBackward0>): 100%|███████| 40000/40000 [00:42<00:00, 944.80it/s]"
     ]
    },
    {
     "name": "stdout",
     "output_type": "stream",
     "text": [
      "Loss (orig, final): 0.10931041836738586 0.004551490303128958\n",
      "L2 norm of weight change: 0.37336263060569763\n",
      "All metrics and KNN results can be found in saved/edit/experiments/random_edits/debug/CINIC10_ImageNet-VGG_16/horse_100/0131_112715/results/horse-train-n02382437_4651/felzenszwalb_gaussian_softmax/models\n"
     ]
    },
    {
     "name": "stderr",
     "output_type": "stream",
     "text": [
      "\n"
     ]
    },
    {
     "name": "stdout",
     "output_type": "stream",
     "text": [
      "Finished trial 2/84. Results saved to saved/edit/experiments/random_edits/debug/CINIC10_ImageNet-VGG_16/horse_100/0131_112715/results/horse-train-n02382437_4651/felzenszwalb_gaussian_softmax\n",
      "(0131_123707) Starting Trial 3/84...\n",
      "Current run_id: horse_100/0131_112715/results/horse-train-n02388453_1662/felzenszwalb_masked_softmax\n",
      "saved/edit/experiments/random_edits/debug/CINIC10_ImageNet-VGG_16/horse_100/0131_112715/results/horse-train-n02388453_1662/felzenszwalb_masked_softmax\n",
      "Calling edit()...\n",
      "Created CIFAR10PretrainedModelEdit model with 33646666 trainable parameters\n",
      "Restored weights from external_code/PyTorch_CIFAR10/cifar10_models/state_dicts/vgg16_bn.pt\n",
      "Key images: data/cinic-10-imagenet/train/horse/n02388453_1662.png\n",
      "Value images: saved/segmentations/semantics/horse_100/horse-train-n02388453_1662/felzenszwalb_masked/felzenszwalb_masked_softmax.png\n",
      "Masks: None\n",
      "Prepared data for editing\n",
      "Using passed in covariance data loader.\n",
      "Looking for covariance matrix weights in cache/cinic-10-imagenet-dummy/vgg16_bn-12\n",
      "Found precomputed cov matrices, returning...\n"
     ]
    },
    {
     "name": "stderr",
     "output_type": "stream",
     "text": [
      "tensor(0.0046, device='cuda:0', grad_fn=<DivBackward0>): 100%|███████| 40000/40000 [00:42<00:00, 937.73it/s]"
     ]
    },
    {
     "name": "stdout",
     "output_type": "stream",
     "text": [
      "Loss (orig, final): 0.15968963503837585 0.004641960375010967\n",
      "L2 norm of weight change: 0.6030585169792175\n",
      "All metrics and KNN results can be found in saved/edit/experiments/random_edits/debug/CINIC10_ImageNet-VGG_16/horse_100/0131_112715/results/horse-train-n02388453_1662/felzenszwalb_masked_softmax/models\n",
      "Finished trial 3/84. Results saved to saved/edit/experiments/random_edits/debug/CINIC10_ImageNet-VGG_16/horse_100/0131_112715/results/horse-train-n02388453_1662/felzenszwalb_masked_softmax\n",
      "(0131_123750) Starting Trial 4/84...\n",
      "Current run_id: horse_100/0131_112715/results/horse-train-n02388453_1662/felzenszwalb_gaussian_softmax\n"
     ]
    },
    {
     "name": "stderr",
     "output_type": "stream",
     "text": [
      "\n"
     ]
    },
    {
     "name": "stdout",
     "output_type": "stream",
     "text": [
      "saved/edit/experiments/random_edits/debug/CINIC10_ImageNet-VGG_16/horse_100/0131_112715/results/horse-train-n02388453_1662/felzenszwalb_gaussian_softmax\n",
      "Calling edit()...\n",
      "Created CIFAR10PretrainedModelEdit model with 33646666 trainable parameters\n",
      "Restored weights from external_code/PyTorch_CIFAR10/cifar10_models/state_dicts/vgg16_bn.pt\n",
      "Key images: data/cinic-10-imagenet/train/horse/n02388453_1662.png\n",
      "Value images: saved/segmentations/semantics/horse_100/horse-train-n02388453_1662/felzenszwalb_gaussian/felzenszwalb_gaussian_softmax.png\n",
      "Masks: None\n",
      "Prepared data for editing\n",
      "Using passed in covariance data loader.\n",
      "Looking for covariance matrix weights in cache/cinic-10-imagenet-dummy/vgg16_bn-12\n",
      "Found precomputed cov matrices, returning...\n"
     ]
    },
    {
     "name": "stderr",
     "output_type": "stream",
     "text": [
      "tensor(0.0037, device='cuda:0', grad_fn=<DivBackward0>): 100%|███████| 40000/40000 [00:42<00:00, 940.63it/s]"
     ]
    },
    {
     "name": "stdout",
     "output_type": "stream",
     "text": [
      "Loss (orig, final): 0.15833517909049988 0.0037253289483487606\n",
      "L2 norm of weight change: 0.611651599407196\n",
      "All metrics and KNN results can be found in saved/edit/experiments/random_edits/debug/CINIC10_ImageNet-VGG_16/horse_100/0131_112715/results/horse-train-n02388453_1662/felzenszwalb_gaussian_softmax/models\n"
     ]
    },
    {
     "name": "stderr",
     "output_type": "stream",
     "text": [
      "\n"
     ]
    },
    {
     "name": "stdout",
     "output_type": "stream",
     "text": [
      "Finished trial 4/84. Results saved to saved/edit/experiments/random_edits/debug/CINIC10_ImageNet-VGG_16/horse_100/0131_112715/results/horse-train-n02388453_1662/felzenszwalb_gaussian_softmax\n",
      "(0131_123833) Starting Trial 5/84...\n",
      "Current run_id: horse_100/0131_112715/results/horse-train-n02386853_1604/felzenszwalb_gaussian_softmax\n",
      "saved/edit/experiments/random_edits/debug/CINIC10_ImageNet-VGG_16/horse_100/0131_112715/results/horse-train-n02386853_1604/felzenszwalb_gaussian_softmax\n",
      "Calling edit()...\n",
      "Created CIFAR10PretrainedModelEdit model with 33646666 trainable parameters\n",
      "Restored weights from external_code/PyTorch_CIFAR10/cifar10_models/state_dicts/vgg16_bn.pt\n",
      "Key images: data/cinic-10-imagenet/train/horse/n02386853_1604.png\n",
      "Value images: saved/segmentations/semantics/horse_100/horse-train-n02386853_1604/felzenszwalb_gaussian/felzenszwalb_gaussian_softmax.png\n",
      "Masks: None\n",
      "Prepared data for editing\n",
      "Using passed in covariance data loader.\n",
      "Looking for covariance matrix weights in cache/cinic-10-imagenet-dummy/vgg16_bn-12\n",
      "Found precomputed cov matrices, returning...\n"
     ]
    },
    {
     "name": "stderr",
     "output_type": "stream",
     "text": [
      "tensor(0.0139, device='cuda:0', grad_fn=<DivBackward0>): 100%|███████| 40000/40000 [00:42<00:00, 932.53it/s]"
     ]
    },
    {
     "name": "stdout",
     "output_type": "stream",
     "text": [
      "Loss (orig, final): 0.13587650656700134 0.013928612694144249\n",
      "L2 norm of weight change: 0.3936944007873535\n",
      "All metrics and KNN results can be found in saved/edit/experiments/random_edits/debug/CINIC10_ImageNet-VGG_16/horse_100/0131_112715/results/horse-train-n02386853_1604/felzenszwalb_gaussian_softmax/models\n"
     ]
    },
    {
     "name": "stderr",
     "output_type": "stream",
     "text": [
      "\n"
     ]
    },
    {
     "name": "stdout",
     "output_type": "stream",
     "text": [
      "Finished trial 5/84. Results saved to saved/edit/experiments/random_edits/debug/CINIC10_ImageNet-VGG_16/horse_100/0131_112715/results/horse-train-n02386853_1604/felzenszwalb_gaussian_softmax\n",
      "Current target class: ship\n",
      "Printing progress reports to saved/edit/experiments/random_edits/debug/CINIC10_ImageNet-VGG_16/ship_100/0131_112715/progress_report.txt\n",
      "Saving path to directories for each trial to saved/edit/experiments/random_edits/debug/CINIC10_ImageNet-VGG_16/ship_100/0131_112715/trial_paths.txt\n",
      "Key image paths stored at paths/edits/semantics/ship_100/0126_161209/key_images_softmax.txt\n",
      "Value image paths stored at paths/edits/semantics/ship_100/0126_161209/value_images_softmax.txt\n",
      "(0131_123917) Starting Trial 1/67...\n",
      "Current run_id: ship_100/0131_112715/results/ship-train-n04037964_5660/felzenszwalb_masked_softmax\n",
      "saved/edit/experiments/random_edits/debug/CINIC10_ImageNet-VGG_16/ship_100/0131_112715/results/ship-train-n04037964_5660/felzenszwalb_masked_softmax\n",
      "Calling edit()...\n",
      "Created CIFAR10PretrainedModelEdit model with 33646666 trainable parameters\n",
      "Restored weights from external_code/PyTorch_CIFAR10/cifar10_models/state_dicts/vgg16_bn.pt\n",
      "Key images: data/cinic-10-imagenet/train/ship/n04037964_5660.png\n",
      "Value images: saved/segmentations/semantics/ship_100/ship-train-n04037964_5660/felzenszwalb_masked/felzenszwalb_masked_softmax.png\n",
      "Masks: None\n",
      "Prepared data for editing\n",
      "Using passed in covariance data loader.\n",
      "Looking for covariance matrix weights in cache/cinic-10-imagenet-dummy/vgg16_bn-12\n",
      "Found precomputed cov matrices, returning...\n"
     ]
    },
    {
     "name": "stderr",
     "output_type": "stream",
     "text": [
      "tensor(0.0220, device='cuda:0', grad_fn=<DivBackward0>): 100%|███████| 40000/40000 [00:42<00:00, 944.04it/s]"
     ]
    },
    {
     "name": "stdout",
     "output_type": "stream",
     "text": [
      "Loss (orig, final): 0.15446648001670837 0.021973907947540283\n",
      "L2 norm of weight change: 0.5593607425689697\n",
      "All metrics and KNN results can be found in saved/edit/experiments/random_edits/debug/CINIC10_ImageNet-VGG_16/ship_100/0131_112715/results/ship-train-n04037964_5660/felzenszwalb_masked_softmax/models\n"
     ]
    },
    {
     "name": "stderr",
     "output_type": "stream",
     "text": [
      "\n"
     ]
    },
    {
     "name": "stdout",
     "output_type": "stream",
     "text": [
      "Finished trial 1/67. Results saved to saved/edit/experiments/random_edits/debug/CINIC10_ImageNet-VGG_16/ship_100/0131_112715/results/ship-train-n04037964_5660/felzenszwalb_masked_softmax\n",
      "(0131_124000) Starting Trial 2/67...\n",
      "Current run_id: ship_100/0131_112715/results/ship-train-n04562122_13291/felzenszwalb_gaussian_softmax\n",
      "saved/edit/experiments/random_edits/debug/CINIC10_ImageNet-VGG_16/ship_100/0131_112715/results/ship-train-n04562122_13291/felzenszwalb_gaussian_softmax\n",
      "Calling edit()...\n",
      "Created CIFAR10PretrainedModelEdit model with 33646666 trainable parameters\n",
      "Restored weights from external_code/PyTorch_CIFAR10/cifar10_models/state_dicts/vgg16_bn.pt\n",
      "Key images: data/cinic-10-imagenet/train/ship/n04562122_13291.png\n",
      "Value images: saved/segmentations/semantics/ship_100/ship-train-n04562122_13291/felzenszwalb_gaussian/felzenszwalb_gaussian_softmax.png\n",
      "Masks: None\n",
      "Prepared data for editing\n",
      "Using passed in covariance data loader.\n",
      "Looking for covariance matrix weights in cache/cinic-10-imagenet-dummy/vgg16_bn-12\n",
      "Found precomputed cov matrices, returning...\n"
     ]
    },
    {
     "name": "stderr",
     "output_type": "stream",
     "text": [
      "tensor(0.0041, device='cuda:0', grad_fn=<DivBackward0>): 100%|███████| 40000/40000 [00:42<00:00, 940.70it/s]"
     ]
    },
    {
     "name": "stdout",
     "output_type": "stream",
     "text": [
      "Loss (orig, final): 0.07319115102291107 0.004114041104912758\n",
      "L2 norm of weight change: 0.27535197138786316\n",
      "All metrics and KNN results can be found in saved/edit/experiments/random_edits/debug/CINIC10_ImageNet-VGG_16/ship_100/0131_112715/results/ship-train-n04562122_13291/felzenszwalb_gaussian_softmax/models\n",
      "Finished trial 2/67. Results saved to saved/edit/experiments/random_edits/debug/CINIC10_ImageNet-VGG_16/ship_100/0131_112715/results/ship-train-n04562122_13291/felzenszwalb_gaussian_softmax\n",
      "(0131_124043) Starting Trial 3/67...\n",
      "Current run_id: ship_100/0131_112715/results/ship-train-n03602081_20790/felzenszwalb_gaussian_softmax\n"
     ]
    },
    {
     "name": "stderr",
     "output_type": "stream",
     "text": [
      "\n"
     ]
    },
    {
     "name": "stdout",
     "output_type": "stream",
     "text": [
      "saved/edit/experiments/random_edits/debug/CINIC10_ImageNet-VGG_16/ship_100/0131_112715/results/ship-train-n03602081_20790/felzenszwalb_gaussian_softmax\n",
      "Calling edit()...\n",
      "Created CIFAR10PretrainedModelEdit model with 33646666 trainable parameters\n",
      "Restored weights from external_code/PyTorch_CIFAR10/cifar10_models/state_dicts/vgg16_bn.pt\n",
      "Key images: data/cinic-10-imagenet/train/ship/n03602081_20790.png\n",
      "Value images: saved/segmentations/semantics/ship_100/ship-train-n03602081_20790/felzenszwalb_gaussian/felzenszwalb_gaussian_softmax.png\n",
      "Masks: None\n",
      "Prepared data for editing\n",
      "Using passed in covariance data loader.\n",
      "Looking for covariance matrix weights in cache/cinic-10-imagenet-dummy/vgg16_bn-12\n",
      "Found precomputed cov matrices, returning...\n"
     ]
    },
    {
     "name": "stderr",
     "output_type": "stream",
     "text": [
      "tensor(0.0055, device='cuda:0', grad_fn=<DivBackward0>): 100%|███████| 40000/40000 [00:42<00:00, 935.22it/s]"
     ]
    },
    {
     "name": "stdout",
     "output_type": "stream",
     "text": [
      "Loss (orig, final): 0.14376574754714966 0.005541963502764702\n",
      "L2 norm of weight change: 0.6651206612586975\n",
      "All metrics and KNN results can be found in saved/edit/experiments/random_edits/debug/CINIC10_ImageNet-VGG_16/ship_100/0131_112715/results/ship-train-n03602081_20790/felzenszwalb_gaussian_softmax/models\n"
     ]
    },
    {
     "name": "stderr",
     "output_type": "stream",
     "text": [
      "\n"
     ]
    },
    {
     "name": "stdout",
     "output_type": "stream",
     "text": [
      "Finished trial 3/67. Results saved to saved/edit/experiments/random_edits/debug/CINIC10_ImageNet-VGG_16/ship_100/0131_112715/results/ship-train-n03602081_20790/felzenszwalb_gaussian_softmax\n",
      "(0131_124126) Starting Trial 4/67...\n",
      "Current run_id: ship_100/0131_112715/results/ship-train-n03552749_13031/felzenszwalb_gaussian_softmax\n",
      "saved/edit/experiments/random_edits/debug/CINIC10_ImageNet-VGG_16/ship_100/0131_112715/results/ship-train-n03552749_13031/felzenszwalb_gaussian_softmax\n",
      "Calling edit()...\n",
      "Created CIFAR10PretrainedModelEdit model with 33646666 trainable parameters\n",
      "Restored weights from external_code/PyTorch_CIFAR10/cifar10_models/state_dicts/vgg16_bn.pt\n",
      "Key images: data/cinic-10-imagenet/train/ship/n03552749_13031.png\n",
      "Value images: saved/segmentations/semantics/ship_100/ship-train-n03552749_13031/felzenszwalb_gaussian/felzenszwalb_gaussian_softmax.png\n",
      "Masks: None\n",
      "Prepared data for editing\n",
      "Using passed in covariance data loader.\n",
      "Looking for covariance matrix weights in cache/cinic-10-imagenet-dummy/vgg16_bn-12\n",
      "Found precomputed cov matrices, returning...\n"
     ]
    },
    {
     "name": "stderr",
     "output_type": "stream",
     "text": [
      "tensor(0.0087, device='cuda:0', grad_fn=<DivBackward0>): 100%|███████| 40000/40000 [00:42<00:00, 946.00it/s]"
     ]
    },
    {
     "name": "stdout",
     "output_type": "stream",
     "text": [
      "Loss (orig, final): 0.13336297869682312 0.008725588209927082\n",
      "L2 norm of weight change: 0.5492762923240662\n",
      "All metrics and KNN results can be found in saved/edit/experiments/random_edits/debug/CINIC10_ImageNet-VGG_16/ship_100/0131_112715/results/ship-train-n03552749_13031/felzenszwalb_gaussian_softmax/models\n"
     ]
    },
    {
     "name": "stderr",
     "output_type": "stream",
     "text": [
      "\n"
     ]
    },
    {
     "name": "stdout",
     "output_type": "stream",
     "text": [
      "Finished trial 4/67. Results saved to saved/edit/experiments/random_edits/debug/CINIC10_ImageNet-VGG_16/ship_100/0131_112715/results/ship-train-n03552749_13031/felzenszwalb_gaussian_softmax\n",
      "(0131_124209) Starting Trial 5/67...\n",
      "Current run_id: ship_100/0131_112715/results/ship-train-n03545470_11711/felzenszwalb_masked_softmax\n",
      "saved/edit/experiments/random_edits/debug/CINIC10_ImageNet-VGG_16/ship_100/0131_112715/results/ship-train-n03545470_11711/felzenszwalb_masked_softmax\n",
      "Calling edit()...\n",
      "Created CIFAR10PretrainedModelEdit model with 33646666 trainable parameters\n",
      "Restored weights from external_code/PyTorch_CIFAR10/cifar10_models/state_dicts/vgg16_bn.pt\n",
      "Key images: data/cinic-10-imagenet/train/ship/n03545470_11711.png\n",
      "Value images: saved/segmentations/semantics/ship_100/ship-train-n03545470_11711/felzenszwalb_masked/felzenszwalb_masked_softmax.png\n",
      "Masks: None\n",
      "Prepared data for editing\n",
      "Using passed in covariance data loader.\n",
      "Looking for covariance matrix weights in cache/cinic-10-imagenet-dummy/vgg16_bn-12\n",
      "Found precomputed cov matrices, returning...\n"
     ]
    },
    {
     "name": "stderr",
     "output_type": "stream",
     "text": [
      "tensor(0.0055, device='cuda:0', grad_fn=<DivBackward0>): 100%|███████| 40000/40000 [00:42<00:00, 944.96it/s]"
     ]
    },
    {
     "name": "stdout",
     "output_type": "stream",
     "text": [
      "Loss (orig, final): 0.07318896055221558 0.005461074877530336\n",
      "L2 norm of weight change: 0.3630911409854889\n",
      "All metrics and KNN results can be found in saved/edit/experiments/random_edits/debug/CINIC10_ImageNet-VGG_16/ship_100/0131_112715/results/ship-train-n03545470_11711/felzenszwalb_masked_softmax/models\n"
     ]
    },
    {
     "name": "stderr",
     "output_type": "stream",
     "text": [
      "\n"
     ]
    },
    {
     "name": "stdout",
     "output_type": "stream",
     "text": [
      "Finished trial 5/67. Results saved to saved/edit/experiments/random_edits/debug/CINIC10_ImageNet-VGG_16/ship_100/0131_112715/results/ship-train-n03545470_11711/felzenszwalb_masked_softmax\n",
      "Current target class: truck\n",
      "Printing progress reports to saved/edit/experiments/random_edits/debug/CINIC10_ImageNet-VGG_16/truck_100/0131_112715/progress_report.txt\n",
      "Saving path to directories for each trial to saved/edit/experiments/random_edits/debug/CINIC10_ImageNet-VGG_16/truck_100/0131_112715/trial_paths.txt\n",
      "Key image paths stored at paths/edits/semantics/truck_100/0126_161209/key_images_softmax.txt\n",
      "Value image paths stored at paths/edits/semantics/truck_100/0126_161209/value_images_softmax.txt\n",
      "(0131_124253) Starting Trial 1/120...\n",
      "Current run_id: truck_100/0131_112715/results/truck-train-n03977966_32727/felzenszwalb_masked_softmax\n",
      "saved/edit/experiments/random_edits/debug/CINIC10_ImageNet-VGG_16/truck_100/0131_112715/results/truck-train-n03977966_32727/felzenszwalb_masked_softmax\n",
      "Calling edit()...\n",
      "Created CIFAR10PretrainedModelEdit model with 33646666 trainable parameters\n",
      "Restored weights from external_code/PyTorch_CIFAR10/cifar10_models/state_dicts/vgg16_bn.pt\n",
      "Key images: data/cinic-10-imagenet/train/truck/n03977966_32727.png\n",
      "Value images: saved/segmentations/semantics/truck_100/truck-train-n03977966_32727/felzenszwalb_masked/felzenszwalb_masked_softmax.png\n",
      "Masks: None\n",
      "Prepared data for editing\n",
      "Using passed in covariance data loader.\n",
      "Looking for covariance matrix weights in cache/cinic-10-imagenet-dummy/vgg16_bn-12\n",
      "Found precomputed cov matrices, returning...\n"
     ]
    },
    {
     "name": "stderr",
     "output_type": "stream",
     "text": [
      "tensor(0.0036, device='cuda:0', grad_fn=<DivBackward0>): 100%|███████| 40000/40000 [00:42<00:00, 936.43it/s]"
     ]
    },
    {
     "name": "stdout",
     "output_type": "stream",
     "text": [
      "Loss (orig, final): 0.09175731241703033 0.0036166300997138023\n",
      "L2 norm of weight change: 0.27323225140571594\n",
      "All metrics and KNN results can be found in saved/edit/experiments/random_edits/debug/CINIC10_ImageNet-VGG_16/truck_100/0131_112715/results/truck-train-n03977966_32727/felzenszwalb_masked_softmax/models\n"
     ]
    },
    {
     "name": "stderr",
     "output_type": "stream",
     "text": [
      "\n"
     ]
    },
    {
     "name": "stdout",
     "output_type": "stream",
     "text": [
      "Finished trial 1/120. Results saved to saved/edit/experiments/random_edits/debug/CINIC10_ImageNet-VGG_16/truck_100/0131_112715/results/truck-train-n03977966_32727/felzenszwalb_masked_softmax\n",
      "(0131_124336) Starting Trial 2/120...\n",
      "Current run_id: truck_100/0131_112715/results/truck-train-n03977966_32727/felzenszwalb_gaussian_softmax\n",
      "saved/edit/experiments/random_edits/debug/CINIC10_ImageNet-VGG_16/truck_100/0131_112715/results/truck-train-n03977966_32727/felzenszwalb_gaussian_softmax\n",
      "Calling edit()...\n",
      "Created CIFAR10PretrainedModelEdit model with 33646666 trainable parameters\n",
      "Restored weights from external_code/PyTorch_CIFAR10/cifar10_models/state_dicts/vgg16_bn.pt\n",
      "Key images: data/cinic-10-imagenet/train/truck/n03977966_32727.png\n",
      "Value images: saved/segmentations/semantics/truck_100/truck-train-n03977966_32727/felzenszwalb_gaussian/felzenszwalb_gaussian_softmax.png\n",
      "Masks: None\n",
      "Prepared data for editing\n",
      "Using passed in covariance data loader.\n",
      "Looking for covariance matrix weights in cache/cinic-10-imagenet-dummy/vgg16_bn-12\n",
      "Found precomputed cov matrices, returning...\n"
     ]
    },
    {
     "name": "stderr",
     "output_type": "stream",
     "text": [
      "tensor(0.0042, device='cuda:0', grad_fn=<DivBackward0>): 100%|███████| 40000/40000 [00:42<00:00, 947.40it/s]"
     ]
    },
    {
     "name": "stdout",
     "output_type": "stream",
     "text": [
      "Loss (orig, final): 0.16090188920497894 0.00421610102057457\n",
      "L2 norm of weight change: 0.5984382033348083\n",
      "All metrics and KNN results can be found in saved/edit/experiments/random_edits/debug/CINIC10_ImageNet-VGG_16/truck_100/0131_112715/results/truck-train-n03977966_32727/felzenszwalb_gaussian_softmax/models\n",
      "Finished trial 2/120. Results saved to saved/edit/experiments/random_edits/debug/CINIC10_ImageNet-VGG_16/truck_100/0131_112715/results/truck-train-n03977966_32727/felzenszwalb_gaussian_softmax\n",
      "(0131_124419) Starting Trial 3/120...\n",
      "Current run_id: truck_100/0131_112715/results/truck-train-n03896419_822/felzenszwalb_masked_softmax\n"
     ]
    },
    {
     "name": "stderr",
     "output_type": "stream",
     "text": [
      "\n"
     ]
    },
    {
     "name": "stdout",
     "output_type": "stream",
     "text": [
      "saved/edit/experiments/random_edits/debug/CINIC10_ImageNet-VGG_16/truck_100/0131_112715/results/truck-train-n03896419_822/felzenszwalb_masked_softmax\n",
      "Calling edit()...\n",
      "Created CIFAR10PretrainedModelEdit model with 33646666 trainable parameters\n",
      "Restored weights from external_code/PyTorch_CIFAR10/cifar10_models/state_dicts/vgg16_bn.pt\n",
      "Key images: data/cinic-10-imagenet/train/truck/n03896419_822.png\n",
      "Value images: saved/segmentations/semantics/truck_100/truck-train-n03896419_822/felzenszwalb_masked/felzenszwalb_masked_softmax.png\n",
      "Masks: None\n",
      "Prepared data for editing\n",
      "Using passed in covariance data loader.\n",
      "Looking for covariance matrix weights in cache/cinic-10-imagenet-dummy/vgg16_bn-12\n",
      "Found precomputed cov matrices, returning...\n"
     ]
    },
    {
     "name": "stderr",
     "output_type": "stream",
     "text": [
      "tensor(0.0436, device='cuda:0', grad_fn=<DivBackward0>): 100%|███████| 40000/40000 [00:42<00:00, 936.93it/s]"
     ]
    },
    {
     "name": "stdout",
     "output_type": "stream",
     "text": [
      "Loss (orig, final): 0.19648286700248718 0.04363776743412018\n",
      "L2 norm of weight change: 0.6144294142723083\n",
      "All metrics and KNN results can be found in saved/edit/experiments/random_edits/debug/CINIC10_ImageNet-VGG_16/truck_100/0131_112715/results/truck-train-n03896419_822/felzenszwalb_masked_softmax/models\n",
      "Finished trial 3/120. Results saved to saved/edit/experiments/random_edits/debug/CINIC10_ImageNet-VGG_16/truck_100/0131_112715/results/truck-train-n03896419_822/felzenszwalb_masked_softmax\n",
      "(0131_124502) Starting Trial 4/120...\n",
      "Current run_id: truck_100/0131_112715/results/truck-train-n03896419_822/felzenszwalb_gaussian_softmax\n"
     ]
    },
    {
     "name": "stderr",
     "output_type": "stream",
     "text": [
      "\n"
     ]
    },
    {
     "name": "stdout",
     "output_type": "stream",
     "text": [
      "saved/edit/experiments/random_edits/debug/CINIC10_ImageNet-VGG_16/truck_100/0131_112715/results/truck-train-n03896419_822/felzenszwalb_gaussian_softmax\n",
      "Calling edit()...\n",
      "Created CIFAR10PretrainedModelEdit model with 33646666 trainable parameters\n",
      "Restored weights from external_code/PyTorch_CIFAR10/cifar10_models/state_dicts/vgg16_bn.pt\n",
      "Key images: data/cinic-10-imagenet/train/truck/n03896419_822.png\n",
      "Value images: saved/segmentations/semantics/truck_100/truck-train-n03896419_822/felzenszwalb_gaussian/felzenszwalb_gaussian_softmax.png\n",
      "Masks: None\n",
      "Prepared data for editing\n",
      "Using passed in covariance data loader.\n",
      "Looking for covariance matrix weights in cache/cinic-10-imagenet-dummy/vgg16_bn-12\n",
      "Found precomputed cov matrices, returning...\n"
     ]
    },
    {
     "name": "stderr",
     "output_type": "stream",
     "text": [
      "tensor(0.0444, device='cuda:0', grad_fn=<DivBackward0>): 100%|███████| 40000/40000 [00:42<00:00, 941.92it/s]"
     ]
    },
    {
     "name": "stdout",
     "output_type": "stream",
     "text": [
      "Loss (orig, final): 0.18264812231063843 0.04443713277578354\n",
      "L2 norm of weight change: 0.53620845079422\n",
      "All metrics and KNN results can be found in saved/edit/experiments/random_edits/debug/CINIC10_ImageNet-VGG_16/truck_100/0131_112715/results/truck-train-n03896419_822/felzenszwalb_gaussian_softmax/models\n",
      "Finished trial 4/120. Results saved to saved/edit/experiments/random_edits/debug/CINIC10_ImageNet-VGG_16/truck_100/0131_112715/results/truck-train-n03896419_822/felzenszwalb_gaussian_softmax\n",
      "(0131_124545) Starting Trial 5/120...\n",
      "Current run_id: truck_100/0131_112715/results/truck-train-n04465666_12397/felzenszwalb_masked_softmax\n"
     ]
    },
    {
     "name": "stderr",
     "output_type": "stream",
     "text": [
      "\n"
     ]
    },
    {
     "name": "stdout",
     "output_type": "stream",
     "text": [
      "saved/edit/experiments/random_edits/debug/CINIC10_ImageNet-VGG_16/truck_100/0131_112715/results/truck-train-n04465666_12397/felzenszwalb_masked_softmax\n",
      "Calling edit()...\n",
      "Created CIFAR10PretrainedModelEdit model with 33646666 trainable parameters\n",
      "Restored weights from external_code/PyTorch_CIFAR10/cifar10_models/state_dicts/vgg16_bn.pt\n",
      "Key images: data/cinic-10-imagenet/train/truck/n04465666_12397.png\n",
      "Value images: saved/segmentations/semantics/truck_100/truck-train-n04465666_12397/felzenszwalb_masked/felzenszwalb_masked_softmax.png\n",
      "Masks: None\n",
      "Prepared data for editing\n",
      "Using passed in covariance data loader.\n",
      "Looking for covariance matrix weights in cache/cinic-10-imagenet-dummy/vgg16_bn-12\n",
      "Found precomputed cov matrices, returning...\n"
     ]
    },
    {
     "name": "stderr",
     "output_type": "stream",
     "text": [
      "tensor(0.0048, device='cuda:0', grad_fn=<DivBackward0>): 100%|███████| 40000/40000 [00:42<00:00, 937.94it/s]"
     ]
    },
    {
     "name": "stdout",
     "output_type": "stream",
     "text": [
      "Loss (orig, final): 0.08726711571216583 0.004805296193808317\n",
      "L2 norm of weight change: 0.3204350173473358\n",
      "All metrics and KNN results can be found in saved/edit/experiments/random_edits/debug/CINIC10_ImageNet-VGG_16/truck_100/0131_112715/results/truck-train-n04465666_12397/felzenszwalb_masked_softmax/models\n",
      "Finished trial 5/120. Results saved to saved/edit/experiments/random_edits/debug/CINIC10_ImageNet-VGG_16/truck_100/0131_112715/results/truck-train-n04465666_12397/felzenszwalb_masked_softmax\n"
     ]
    },
    {
     "name": "stderr",
     "output_type": "stream",
     "text": [
      "\n"
     ]
    }
   ],
   "source": [
    "weight_differences = []\n",
    "for target_class_idx, target_class_name in enumerate(class_list):\n",
    "    # if target_class_idx != 1: \n",
    "    #     continue\n",
    "    # Create save directories and logging paths\n",
    "    save_root = config_dict['trainer']['save_dir']\n",
    "    save_trials_path = os.path.join(save_root, config_dict['name'], '{}_{}'.format(target_class_name, n_select), timestamp, 'trial_paths.txt')\n",
    "    progress_report_path = os.path.join(save_root, config_dict['name'], '{}_{}'.format(target_class_name, n_select), timestamp, 'progress_report.txt')\n",
    "    informal_log(\"Current target class: {}\".format(target_class_name), progress_report_path)\n",
    "    \n",
    "    \n",
    "    if os.path.exists(save_trials_path):\n",
    "        print(\"Path {} already exists. Overwriting.\".format(save_trials_path))\n",
    "    else:\n",
    "        if os.path.exists(progress_report_path):\n",
    "            os.remove(progress_report_path)\n",
    "        print(\"Printing progress reports to {}\".format(progress_report_path))\n",
    "        informal_log(\"Saving path to directories for each trial to {}\".format(save_trials_path), progress_report_path)\n",
    "    \n",
    "    # Obtain paths for keys and values\n",
    "    paths_dir = os.path.join('paths', 'edits', 'semantics', '{}_{}'.format(target_class_name, n_select), paths_timestamp)\n",
    "    key_image_paths_path = os.path.join(paths_dir, 'key_images_{}.txt'.format(sort_type))\n",
    "    key_image_paths = read_lists(key_image_paths_path)\n",
    "\n",
    "    value_image_paths_path = os.path.join(paths_dir, 'value_images_{}.txt'.format(sort_type))\n",
    "    value_image_paths = read_lists(value_image_paths_path)\n",
    "    n_trials = len(value_image_paths)\n",
    "    assert len(key_image_paths) == n_trials\n",
    "\n",
    "    # print(\"{} edit image pairs\".format(n_trials))\n",
    "    # print(\"First key image path: {}\".format(key_image_paths[0]))\n",
    "    # print(\"First value image path: {}\".format(value_image_paths[0]))\n",
    "    \n",
    "    # Ensure all keys and value paths exist\n",
    "    # non_existent_key_paths = []\n",
    "    # non_existent_value_paths = []\n",
    "    # for key_path, value_path in zip(key_image_paths, value_image_paths):\n",
    "    #     if not os.path.exists(key_path):\n",
    "    #         non_existent_key_paths.append(key_path)\n",
    "    #     if not os.path.exists(value_path):\n",
    "    #         non_existent_value_paths.append(value_path)\n",
    "\n",
    "    non_existent_key_paths = ensure_files(key_image_paths)\n",
    "    non_existent_value_paths = ensure_files(value_image_paths)\n",
    "    \n",
    "    if len(non_existent_key_paths) > 0:\n",
    "        raise ValueError(\"Following paths are non existent: {}\".format(non_existent_key_paths))\n",
    "\n",
    "    if len(non_existent_value_paths) > 0:\n",
    "        raise ValueError(\"Following paths are non existent: {}\".format(non_existent_value_paths))\n",
    "        \n",
    "    informal_log(\"Key image paths stored at {}\".format(key_image_paths_path), progress_report_path)\n",
    "    informal_log(\"Value image paths stored at {}\".format(value_image_paths_path), progress_report_path)\n",
    "    \n",
    "    # Create list to store weight differences\n",
    "    # weight_differences = []\n",
    "    \n",
    "    # Run edit for each key and value pair\n",
    "    for idx, (key_path, value_path) in enumerate(zip(key_image_paths, value_image_paths)):\n",
    "        if idx == 5:\n",
    "            break\n",
    "        split = os.path.basename(os.path.dirname(os.path.dirname(key_path)))\n",
    "        class_name = os.path.basename(os.path.dirname(key_path))\n",
    "        file_name = os.path.basename(key_path).split(\".\")[0]\n",
    "        key_image_id = \"{}-{}-{}\".format(class_name, split, file_name)\n",
    "        # Print Progress\n",
    "        informal_log(\"({}) Starting Trial {}/{}...\".format(datetime.now().strftime(r'%m%d_%H%M%S'), idx + 1, n_trials), progress_report_path)\n",
    "\n",
    "        # Create run id \n",
    "        value_image_id = os.path.splitext(os.path.basename(value_path))[0]\n",
    "        run_id = os.path.join('{}_{}'.format(target_class_name, n_select), timestamp, 'results', key_image_id, value_image_id)\n",
    "        informal_log(\"Current run_id: {}\".format(run_id), progress_report_path)\n",
    "\n",
    "        # Read config file as json and make updates to key and value paths\n",
    "        config_dict = read_json(config_path)\n",
    "        config_dict['editor'].update({\n",
    "            'key_paths_file': key_path,\n",
    "            'value_paths_file': value_path\n",
    "        })\n",
    "\n",
    "        # Create config object\n",
    "        config = ConfigParser(config_dict, run_id=run_id)\n",
    "\n",
    "        # Log the current trial path\n",
    "        informal_log(os.path.dirname(config.save_dir), save_trials_path)\n",
    "\n",
    "        informal_log(\"Calling edit()...\", progress_report_path)\n",
    "\n",
    "        weight_differences.append(edit(\n",
    "            config=config,\n",
    "            val_paths_data_loader=val_paths_data_loader,\n",
    "            covariance_data_loader=covariance_data_loader,\n",
    "            do_analyze_knn=analyze_in_edit))\n",
    "\n",
    "        # Print progress\n",
    "        informal_log(\"Finished trial {}/{}. Results saved to {}\".format(idx + 1, n_trials, os.path.dirname(config.save_dir)),\n",
    "                    progress_report_path)\n",
    "\n"
   ]
  },
  {
   "cell_type": "code",
   "execution_count": 55,
   "metadata": {},
   "outputs": [
    {
     "name": "stdout",
     "output_type": "stream",
     "text": [
      "50\n",
      "(50, 512, 512, 3, 3)\n",
      "-3.500208e-05\n",
      "0.00033125962\n",
      "[-3.52232673e-05 -1.15437615e-04 -6.91551541e-05 -2.33761566e-05\n",
      " -2.94567726e-05 -4.25263970e-05 -3.81622849e-05 -2.91977703e-05\n",
      " -1.47236615e-05 -3.43836982e-05 -3.81325808e-05 -6.94718037e-05\n",
      " -3.53924224e-05 -1.93493179e-05 -1.44582546e-05 -1.80743300e-05\n",
      " -1.22650263e-05 -2.63531965e-05 -4.03742888e-05 -2.72869584e-05\n",
      " -2.08596557e-05 -6.00181374e-05 -6.39261780e-05 -6.71338275e-05\n",
      " -3.52433708e-05 -1.83300290e-05 -9.64034189e-06 -2.03629970e-05\n",
      " -2.05574288e-05 -2.84605576e-05 -1.26396972e-05 -2.32721395e-05\n",
      " -5.44511968e-05 -4.40562471e-05 -7.39971947e-05 -1.07956357e-05\n",
      " -2.00228933e-05 -2.72829657e-05 -2.42628685e-05 -1.00018315e-05\n",
      " -4.65546946e-05 -9.16357749e-06 -3.94452945e-05 -4.02474070e-05\n",
      " -4.30236942e-05 -9.81071844e-06 -4.03446174e-05 -6.19325801e-05\n",
      " -5.39560424e-05 -2.75062921e-05] -3.5002024e-05\n",
      "[0.00023607 0.00060347 0.00036923 0.00027767 0.00043463 0.00036306\n",
      " 0.00028691 0.0002784  0.00028354 0.0002217  0.00034906 0.00047124\n",
      " 0.00038503 0.00033238 0.00023934 0.00030897 0.00023601 0.00038536\n",
      " 0.0002754  0.00030678 0.00029909 0.00044981 0.00043178 0.00035283\n",
      " 0.00025487 0.00020254 0.00020398 0.00013469 0.0001563  0.00020871\n",
      " 0.00028417 0.00028438 0.00048549 0.00042675 0.00043691 0.00014383\n",
      " 0.00024225 0.00039167 0.00039747 0.00025612 0.00036118 0.00017903\n",
      " 0.00043122 0.00035533 0.00023244 0.00017761 0.00038751 0.0003952\n",
      " 0.0003449  0.0002068 ] 0.00031518188\n",
      "-3.5223267e-05\n",
      "0.00023606578\n"
     ]
    }
   ],
   "source": [
    "weight_diff1 = weight_differences\n",
    "print(len(weight_diff1))\n",
    "diff_array = torch.stack(weight_diff1, dim=0).cpu().detach().numpy()\n",
    "print(diff_array.shape)\n",
    "print(np.mean(diff_array))\n",
    "print(np.std(diff_array))\n",
    "means = np.mean(diff_array, axis=(1, 2, 3, 4))\n",
    "stds = np.std(diff_array, axis=(1,2,3,4))\n",
    "print(means, np.mean(means))\n",
    "print(stds, np.mean(stds))\n",
    "\n",
    "print(np.mean(diff_array[0]))\n",
    "print(np.std(diff_array[0]))"
   ]
  },
  {
   "cell_type": "code",
   "execution_count": 49,
   "metadata": {},
   "outputs": [
    {
     "name": "stdout",
     "output_type": "stream",
     "text": [
      "5\n",
      "(5, 512, 512, 3, 3)\n",
      "-5.4529817e-05\n",
      "0.00040697283\n",
      "[-3.52232673e-05 -1.15437615e-04 -6.91551541e-05 -2.33761566e-05\n",
      " -2.94567726e-05] -5.452979e-05\n",
      "[0.00023607 0.00060347 0.00036923 0.00027767 0.00043463] 0.00038421323\n",
      "-3.5223267e-05\n",
      "0.00023606578\n"
     ]
    }
   ],
   "source": [
    "weight_diff0 = weight_differences\n",
    "print(len(weight_diff0))\n",
    "diff_array = torch.stack(weight_diff0, dim=0).cpu().detach().numpy()\n",
    "print(diff_array.shape)\n",
    "print(np.mean(diff_array))\n",
    "print(np.std(diff_array))\n",
    "means = np.mean(diff_array, axis=(1, 2, 3, 4))\n",
    "stds = np.std(diff_array, axis=(1,2,3,4))\n",
    "print(means, np.mean(means))\n",
    "print(stds, np.mean(stds))\n",
    "\n",
    "print(np.mean(diff_array[0]))\n",
    "print(np.std(diff_array[0]))"
   ]
  },
  {
   "cell_type": "code",
   "execution_count": null,
   "metadata": {},
   "outputs": [],
   "source": [
    "# Create histogram of weights\n",
    "data = torch.flatten(weight_differences)\n",
    "histogram(\n",
    "    data=data,\n",
    "    n_bins=25,\n",
    "    xlabel='Delta Weight',\n",
    "    ylabel='counts')"
   ]
  },
  {
   "cell_type": "markdown",
   "metadata": {},
   "source": [
    "### Perform Random Model Editing"
   ]
  },
  {
   "cell_type": "code",
   "execution_count": null,
   "metadata": {},
   "outputs": [],
   "source": [
    "def random_edit(config,\n",
    "         val_paths_data_loader=None,\n",
    "         covariance_data_loader=None,\n",
    "         do_analyze_knn=False):\n",
    "\n",
    "    logger = config.get_logger('train')\n",
    "    assert config.config['method'] == 'edit', \"Invalid method '{}'. Must be 'edit'\".format(config.config['method'])\n",
    "    # K = config.config['editor']['K']  # for KNN\n",
    "\n",
    "    # Store variables for if we want to perform knn analysis here\n",
    "    if 'perform_analysis' in config.config['editor']:\n",
    "        do_analyze_knn = config.config['editor']['perform_analysis']\n",
    "    if do_analyze_knn:\n",
    "        try:\n",
    "            class_list_path = config.config['class_list_path']\n",
    "        except:\n",
    "            raise ValueError(\"class_list_path not in config file. Aborting\")\n",
    "        try:\n",
    "            class_list = read_lists(class_list_path)\n",
    "        except:\n",
    "            raise ValueError(\"Unable to read file at {}. Aborting\".format(class_list_path))\n",
    "\n",
    "    save_dir = str(config.save_dir)\n",
    "\n",
    "    # General arguments for data loaders\n",
    "    dataset_args = config.config['dataset_args']\n",
    "    data_loader_args = config.config['data_loader']['args']\n",
    "\n",
    "    # build model architecture, then print to console\n",
    "    config.config['arch'].update()\n",
    "    layernum = config.config['layernum']\n",
    "    model = config.init_obj('arch', module_arch, layernum=layernum)\n",
    "\n",
    "\n",
    "    logger.info(\"Created {} model with {} trainable parameters\".format(config.config['arch']['type'], model.get_n_params()))\n",
    "    if model.get_checkpoint_path() != \"\":\n",
    "        logger.info(\"Restored weights from {}\".format(model.get_checkpoint_path()))\n",
    "    else:\n",
    "        logger.info(\"Training from scratch.\")\n",
    "\n",
    "    # Provide dataloader to perform KNN and metric calculation\n",
    "    # if val_paths_data_loader is None:\n",
    "    #     val_image_paths = read_lists(config.config['dataset_paths']['valid_images'])\n",
    "    #     val_labels = read_lists(config.config['dataset_paths']['valid_labels'])\n",
    "    #     val_paths_data_loader = torch.utils.data.DataLoader(\n",
    "    #         module_data.CINIC10Dataset(\n",
    "    #             data_dir=\"\",\n",
    "    #             image_paths=val_image_paths,\n",
    "    #             labels=val_labels,\n",
    "    #             return_paths=True,\n",
    "    #             **dataset_args\n",
    "    #         ),\n",
    "    #         **data_loader_args\n",
    "    #     )\n",
    "    #     logger.info(\"Created validation data loader for metric and KNN calculations\")\n",
    "    # else:\n",
    "    #     logger.info(\"Using passed in data loader for validation.\")\n",
    "\n",
    "    # Prepare for (multi-device) GPU training\n",
    "    device, device_ids = prepare_device(config['n_gpu'])\n",
    "    model = model.to(device)\n",
    "    if len(device_ids) > 1:\n",
    "        model = torch.nn.DataParallel(model, device_ids=device_ids)\n",
    "    model.eval()  # model should always be in eval() for editing\n",
    "\n",
    "    # Get function handles for loss and metrics\n",
    "    loss_fn = getattr(module_loss, config['loss'])\n",
    "    metric_fns = [getattr(module_metric, met) for met in config['metrics']]\n",
    "\n",
    "    # Prepare data for edit\n",
    "    key_path = config.config['editor']['key_paths_file']\n",
    "    # key_image_paths = read_lists(key_paths_file)\n",
    "    value_path = config.config['editor']['value_paths_file']\n",
    "    # value_image_paths = read_lists(value_paths_file)\n",
    "    mask_path = config.config['editor']['mask_paths_file']\n",
    "    if mask_path == \"\":\n",
    "        mask_path = None\n",
    "\n",
    "    logger.info(\"Key images: {}\".format(key_path))\n",
    "    logger.info(\"Value images: {}\".format(value_path))\n",
    "    logger.info(\"Masks: {}\".format(mask_path))\n",
    "\n",
    "    edit_data = prepare_edit_data(\n",
    "        key_image_path=key_path,\n",
    "        value_image_path=value_path,\n",
    "        mask_path=mask_path,\n",
    "        image_size=(32, 32))\n",
    "    logger.info(\"Prepared data for editing\")\n",
    "\n",
    "#     if K > 0:\n",
    "#         # Concatenate key and value images together\n",
    "#         # First is keys, second is values\n",
    "#         # labels of 'modified_imgs' and 'imgs' are misleading but from the original Editing a Classifier repo\n",
    "#         anchor_images = torch.cat([edit_data['modified_imgs'], edit_data['imgs']], dim=0)\n",
    "#         logger.info(\"Performing pre-edit metric & KNN calculations on validation set.\")\n",
    "#         pre_edit_log = knn(\n",
    "#             K=K,\n",
    "#             data_loader=val_paths_data_loader,\n",
    "#             model=model,\n",
    "#             anchor_image=anchor_images,\n",
    "#             data_types=['features', 'logits', 'images'],\n",
    "#             metric_fns=metric_fns,\n",
    "#             device=device,\n",
    "#             save_path=None)\n",
    "\n",
    "#         logger.info(\"Pre-edit metrics: {}\".format(pre_edit_log['metrics']))\n",
    "#         # Save metrics\n",
    "#         pre_metric_save_path = os.path.join(save_dir, \"pre_edit_metrics.pth\")\n",
    "#         torch.save(pre_edit_log['metrics'], pre_metric_save_path)\n",
    "#         logger.info(\"Saved pre-edit metrics to {}\".format(pre_metric_save_path))\n",
    "#         # Save KNN results\n",
    "#         pre_knn_save_path = os.path.join(save_dir, \"pre_edit_{}-nn.pth\".format(K))\n",
    "#         torch.save(pre_edit_log['knn'], pre_knn_save_path)\n",
    "#         logger.info(\"Saved pre-edit KNN results with K={} to {}\".format(K, pre_knn_save_path))\n",
    "#     else:  # if not performing KNN\n",
    "        logger.info(\"Performing pre-edit metric calculations on validation set.\")\n",
    "        pre_edit_log = predict(\n",
    "            data_loader=val_paths_data_loader,\n",
    "            model=model,\n",
    "            loss_fn=loss_fn,\n",
    "            metric_fns=metric_fns,\n",
    "            device=device)\n",
    "\n",
    "        logger.info(\"Pre-edit metrics: {}\".format(pre_edit_log))\n",
    "        pre_metric_save_path = os.path.join(save_dir, \"pre_edit_metrics.pth\")\n",
    "        torch.save(pre_edit_log, pre_metric_save_path)\n",
    "        logger.info(\"Saved pre-edit metrics {}\".format(pre_metric_save_path))\n",
    "\n",
    "    # Set up editor\n",
    "    editor_args = config.config['editor']['args']\n",
    "    editor_args['arch'] = config.config['arch']['args']['type']\n",
    "\n",
    "    editor = Editor(**editor_args)\n",
    "\n",
    "#     if covariance_data_loader is None:\n",
    "#         if 'covariance_dataset' in config.config and 'images' in config.config['covariance_dataset']:\n",
    "#             # Always use the dummy val_data_loader for covariance calculation\n",
    "#             covariance_image_paths = read_lists(config.config['covariance_dataset']['images'])\n",
    "#             covariance_labels = read_lists(config.config['covariance_dataset']['labels'])\n",
    "\n",
    "#             covariance_data_loader = torch.utils.data.DataLoader(\n",
    "#                 module_data.CINIC10Dataset(\n",
    "#                     data_dir=\"\",\n",
    "#                     image_paths=covariance_image_paths,\n",
    "#                     labels=covariance_labels,\n",
    "#                     return_paths=False,\n",
    "#                     **dataset_args\n",
    "#                 ),\n",
    "#                 **data_loader_args\n",
    "#             )\n",
    "#             val_data_name = config.config['covariance_dataset']['name']\n",
    "\n",
    "#             logger.info(\"Created dataloader for covariance matrix from {}\".format(config.config['covariance_dataset']['images']))\n",
    "#         else:  # Use identity matrix\n",
    "#             covariance_data_loader = None\n",
    "#             val_data_name = \"identity\"\n",
    "#             logger.info(\"No data loader for covariance matrix. Will use identity matrix\")\n",
    "#     else:\n",
    "#         val_data_name = config.config['covariance_dataset']['name']\n",
    "#         logger.info(\"Using passed in covariance data loader.\")\n",
    "\n",
    "    # Create path for caching directory based on\n",
    "    #   (1) validation data dir\n",
    "    #   (2) context model -- architecture, layer number\n",
    "\n",
    "    model_arch = model.get_type()\n",
    "\n",
    "    cache_dir = os.path.join('cache', val_data_name, \"{}-{}\".format(model_arch, layernum))\n",
    "    logger.info(\"Looking for covariance matrix weights in {}\".format(cache_dir))\n",
    "    # Obtain original model weights\n",
    "    original_weights = model.get_target_weights()\n",
    "    # Perform edit\n",
    "    editor.edit(\n",
    "        edit_data=edit_data,\n",
    "        model=model,\n",
    "        val_data_loader=covariance_data_loader,\n",
    "        cache_dir=cache_dir)\n",
    "    \n",
    "    # Get edited weights\n",
    "    edited_weights = model.get_target_weights()\n",
    "    \n",
    "    # Calculate weight difference\n",
    "    weight_diff = edited_weights - original_weights\n",
    "\n",
    "    # if not do_analyze_knn:\n",
    "    #     model.save_model(save_path=os.path.join(config._save_dir, \"edited_model.pth\"))\n",
    "\n",
    "    # Perform post edit KNN analysis\n",
    "#     if K > 0:\n",
    "#         # Concatenate key and value images together\n",
    "\n",
    "#         logger.info(\"Performing post-edit metric & KNN calculations on validation set.\")\n",
    "\n",
    "#         post_edit_log = knn(\n",
    "#             K=K,\n",
    "#             data_loader=val_paths_data_loader,\n",
    "#             model=model,\n",
    "#             anchor_image=anchor_images,\n",
    "#             data_types=['features', 'logits', 'images'],\n",
    "#             metric_fns=metric_fns,\n",
    "#             device=device,\n",
    "#             save_path=None)\n",
    "\n",
    "#         logger.info(\"Post-edit metrics: {}\".format(post_edit_log['metrics']))\n",
    "#         # Save metrics\n",
    "#         post_metric_save_path = os.path.join(save_dir, \"post_edit_metrics.pth\")\n",
    "#         torch.save(post_edit_log['metrics'], post_metric_save_path)\n",
    "#         logger.info(\"Saved post-edit metrics to {}\".format(post_metric_save_path))\n",
    "#         # Save KNN results\n",
    "#         post_knn_save_path = os.path.join(save_dir, \"post_edit_{}-nn.pth\".format(K))\n",
    "#         torch.save(post_edit_log['knn'], post_knn_save_path)\n",
    "#         logger.info(\"Saving post-edit KNN results with K={} to {}\".format(K, post_knn_save_path))\n",
    "#     else:  # if not performing KNN\n",
    "        logger.info(\"Performing post-edit metric calculations on validation set.\")\n",
    "        post_metric_save_path = os.path.join(save_dir, \"post_edit_metrics.pth\")\n",
    "        post_edit_log = predict(\n",
    "            data_loader=val_paths_data_loader,\n",
    "            model=model,\n",
    "            loss_fn=loss_fn,\n",
    "            metric_fns=metric_fns,\n",
    "            device=device)\n",
    "\n",
    "        logger.info(\"Post-edit metrics: {}\".format(post_edit_log))\n",
    "        torch.save(post_edit_log, post_metric_save_path)\n",
    "        logger.info(\"Saved post-edit metrics {}\".format(post_metric_save_path))\n",
    "\n",
    "#     if do_analyze_knn and K > 0:\n",
    "#         logger.info(\"Performing KNN analysis...\")\n",
    "#         target_class_idx = np.argmax(post_edit_log['knn']['logits']['anchor_data'][0])\n",
    "#         analyze_knn(\n",
    "#             save_dir=save_dir,\n",
    "#             config=config,\n",
    "#             pre_edit_knn=pre_edit_log['knn'],\n",
    "#             post_edit_knn=post_edit_log['knn'],\n",
    "#             edited_model=model,\n",
    "#             knn_analysis_filename='knn_analysis_results.pth',\n",
    "#             target_class_idx=target_class_idx,\n",
    "#             class_list=class_list,\n",
    "#             progress_report_path=None,\n",
    "#             save_plots=True)\n",
    "\n",
    "    logger.info(\"All metrics and KNN results can be found in {}\".format(save_dir))\n",
    "    \n",
    "    return weight_diff\n"
   ]
  },
  {
   "cell_type": "code",
   "execution_count": null,
   "metadata": {},
   "outputs": [],
   "source": [
    "weight_differences = []\n",
    "for target_class_idx, target_class_name in enumerate(class_list):\n",
    "    # if target_class_idx != 1: \n",
    "    #     continue\n",
    "    # Create save directories and logging paths\n",
    "    save_root = config_dict['trainer']['save_dir']\n",
    "    save_trials_path = os.path.join(save_root, config_dict['name'], '{}_{}'.format(target_class_name, n_select), timestamp, 'trial_paths.txt')\n",
    "    progress_report_path = os.path.join(save_root, config_dict['name'], '{}_{}'.format(target_class_name, n_select), timestamp, 'progress_report.txt')\n",
    "    informal_log(\"Current target class: {}\".format(target_class_name), progress_report_path)\n",
    "    \n",
    "    \n",
    "    if os.path.exists(save_trials_path):\n",
    "        print(\"Path {} already exists. Overwriting.\".format(save_trials_path))\n",
    "    else:\n",
    "        if os.path.exists(progress_report_path):\n",
    "            os.remove(progress_report_path)\n",
    "        print(\"Printing progress reports to {}\".format(progress_report_path))\n",
    "        informal_log(\"Saving path to directories for each trial to {}\".format(save_trials_path), progress_report_path)\n",
    "    \n",
    "    # Obtain paths for keys and values\n",
    "    paths_dir = os.path.join('paths', 'edits', 'semantics', '{}_{}'.format(target_class_name, n_select), paths_timestamp)\n",
    "    key_image_paths_path = os.path.join(paths_dir, 'key_images_{}.txt'.format(sort_type))\n",
    "    key_image_paths = read_lists(key_image_paths_path)\n",
    "\n",
    "    value_image_paths_path = os.path.join(paths_dir, 'value_images_{}.txt'.format(sort_type))\n",
    "    value_image_paths = read_lists(value_image_paths_path)\n",
    "    n_trials = len(value_image_paths)\n",
    "    assert len(key_image_paths) == n_trials\n",
    "\n",
    "    # print(\"{} edit image pairs\".format(n_trials))\n",
    "    # print(\"First key image path: {}\".format(key_image_paths[0]))\n",
    "    # print(\"First value image path: {}\".format(value_image_paths[0]))\n",
    "    \n",
    "    # Ensure all keys and value paths exist\n",
    "    # non_existent_key_paths = []\n",
    "    # non_existent_value_paths = []\n",
    "    # for key_path, value_path in zip(key_image_paths, value_image_paths):\n",
    "    #     if not os.path.exists(key_path):\n",
    "    #         non_existent_key_paths.append(key_path)\n",
    "    #     if not os.path.exists(value_path):\n",
    "    #         non_existent_value_paths.append(value_path)\n",
    "\n",
    "    non_existent_key_paths = ensure_files(key_image_paths)\n",
    "    non_existent_value_paths = ensure_files(value_image_paths)\n",
    "    \n",
    "    if len(non_existent_key_paths) > 0:\n",
    "        raise ValueError(\"Following paths are non existent: {}\".format(non_existent_key_paths))\n",
    "\n",
    "    if len(non_existent_value_paths) > 0:\n",
    "        raise ValueError(\"Following paths are non existent: {}\".format(non_existent_value_paths))\n",
    "        \n",
    "    informal_log(\"Key image paths stored at {}\".format(key_image_paths_path), progress_report_path)\n",
    "    informal_log(\"Value image paths stored at {}\".format(value_image_paths_path), progress_report_path)\n",
    "    \n",
    "    # Create list to store weight differences\n",
    "    # weight_differences = []\n",
    "    \n",
    "    # Run edit for each key and value pair\n",
    "    for idx, (key_path, value_path) in enumerate(zip(key_image_paths, value_image_paths)):\n",
    "        if idx == 5:\n",
    "            break\n",
    "        split = os.path.basename(os.path.dirname(os.path.dirname(key_path)))\n",
    "        class_name = os.path.basename(os.path.dirname(key_path))\n",
    "        file_name = os.path.basename(key_path).split(\".\")[0]\n",
    "        key_image_id = \"{}-{}-{}\".format(class_name, split, file_name)\n",
    "        # Print Progress\n",
    "        informal_log(\"({}) Starting Trial {}/{}...\".format(datetime.now().strftime(r'%m%d_%H%M%S'), idx + 1, n_trials), progress_report_path)\n",
    "\n",
    "        # Create run id \n",
    "        value_image_id = os.path.splitext(os.path.basename(value_path))[0]\n",
    "        run_id = os.path.join('{}_{}'.format(target_class_name, n_select), timestamp, 'results', key_image_id, value_image_id)\n",
    "        informal_log(\"Current run_id: {}\".format(run_id), progress_report_path)\n",
    "\n",
    "        # Read config file as json and make updates to key and value paths\n",
    "        config_dict = read_json(config_path)\n",
    "        config_dict['editor'].update({\n",
    "            'key_paths_file': key_path,\n",
    "            'value_paths_file': value_path\n",
    "        })\n",
    "\n",
    "        # Create config object\n",
    "        config = ConfigParser(config_dict, run_id=run_id)\n",
    "\n",
    "        # Log the current trial path\n",
    "        informal_log(os.path.dirname(config.save_dir), save_trials_path)\n",
    "\n",
    "        informal_log(\"Calling edit()...\", progress_report_path)\n",
    "\n",
    "        weight_differences.append(edit(\n",
    "            config=config,\n",
    "            val_paths_data_loader=val_paths_data_loader,\n",
    "            covariance_data_loader=covariance_data_loader,\n",
    "            do_analyze_knn=analyze_in_edit))\n",
    "\n",
    "        # Print progress\n",
    "        informal_log(\"Finished trial {}/{}. Results saved to {}\".format(idx + 1, n_trials, os.path.dirname(config.save_dir)),\n",
    "                    progress_report_path)\n",
    "\n"
   ]
  },
  {
   "cell_type": "code",
   "execution_count": null,
   "metadata": {},
   "outputs": [],
   "source": [
    "# Function definitions"
   ]
  },
  {
   "cell_type": "code",
   "execution_count": null,
   "metadata": {},
   "outputs": [],
   "source": [
    "# Pedal to the metal!"
   ]
  }
 ],
 "metadata": {
  "kernelspec": {
   "display_name": "editing",
   "language": "python",
   "name": "editing"
  },
  "language_info": {
   "codemirror_mode": {
    "name": "ipython",
    "version": 3
   },
   "file_extension": ".py",
   "mimetype": "text/x-python",
   "name": "python",
   "nbconvert_exporter": "python",
   "pygments_lexer": "ipython3",
   "version": "3.8.13"
  }
 },
 "nbformat": 4,
 "nbformat_minor": 4
}
