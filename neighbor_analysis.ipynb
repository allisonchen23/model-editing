{
 "cells": [
  {
   "cell_type": "markdown",
   "metadata": {},
   "source": [
    "## Create visualizations for local metrics (neighborhoods of data)"
   ]
  },
  {
   "cell_type": "code",
   "execution_count": 1,
   "metadata": {},
   "outputs": [],
   "source": [
    "# General imports\n",
    "import torch\n",
    "import numpy as np\n",
    "import os, sys\n",
    "import json\n",
    "# from tqdm import tqdm"
   ]
  },
  {
   "cell_type": "code",
   "execution_count": 3,
   "metadata": {},
   "outputs": [],
   "source": [
    "# Local imports\n",
    "sys.path.insert(0, 'src')\n",
    "from utils import read_json, read_lists, list_to_dict, ensure_dir, load_image\n",
    "from utils.model_utils import prepare_device, quick_predict\n",
    "from utils.knn_utils import display_image_paths\n",
    "from parse_config import ConfigParser\n",
    "from data_loader import data_loaders\n",
    "import model.model as module_arch"
   ]
  },
  {
   "cell_type": "code",
   "execution_count": 4,
   "metadata": {},
   "outputs": [],
   "source": [
    "# Define constants, paths\n",
    "class_list_path = os.path.join('metadata', 'cinic-10', 'class_names.txt')\n",
    "\n",
    "config_path = 'configs/copies/cinic10_imagenet_segmentation_edit_trials.json'"
   ]
  },
  {
   "cell_type": "code",
   "execution_count": 5,
   "metadata": {},
   "outputs": [],
   "source": [
    "# Load config file, models, and dataloader\n",
    "class_list = read_lists(class_list_path)\n",
    "class_idx_dict = list_to_dict(class_list)\n",
    "\n",
    "config_json = read_json(config_path)\n",
    "K = config_json['editor']['K']\n",
    "\n",
    "config = ConfigParser(config_json)\n",
    "\n",
    "device, device_ids = prepare_device(config['n_gpu'])\n",
    "\n",
    "trial_paths_path_template = os.path.join('saved', 'edit', 'trials', 'CINIC10_ImageNet-VGG_16', '{}_{}', '{}', 'trial_paths.txt')\n"
   ]
  },
  {
   "cell_type": "markdown",
   "metadata": {},
   "source": [
    "### Create visualizations for top 10 nearest neighbors"
   ]
  },
  {
   "cell_type": "code",
   "execution_count": 19,
   "metadata": {},
   "outputs": [],
   "source": [
    "# Function to take in KNN object and display neighbors\n",
    "def show_nearest_neighbors(knn,\n",
    "                           n_display,\n",
    "                           save_dir,\n",
    "                           title=None):\n",
    "    data_modes = knn.keys()\n",
    "    image_title_template = 'GT: {}\\nPred: {}\\nDist: {}'\n",
    "    key_image, val_image = knn['features']['anchor_data']\n",
    "    print(key_image.shape)\n",
    "    for anchor_idx, anchor in enumerate(['key', 'val']):\n",
    "        anchor_image = knn[data_modes[0]]['anchor_data']\n",
    "        # print(anchor_image.keys()\n",
    "        for data_mode in data_modes:\n",
    "            knn_mode = knn[data_mode]\n",
    "            # Extract image_paths, distances, predictions\n",
    "            # key_image_paths, val_image_paths = knn_mode['image_paths'][:n_display]\n",
    "            # key_distances, val_distances = knn_mode['distances'][:n_display]\n",
    "            # key_predictions, val_predictions = knn_mode['predictions'][:n_display]\n",
    "\n",
    "            # image_paths = knn_mode['image_paths'][:n_display]\n",
    "            # distances = knn_mode['distances'][:n_display]\n",
    "            # predictions = knn_mode['predictions'][:n_display]\n",
    "        \n",
    "            image_paths = knn_mode['image_paths'][anchor_idx][:n_display]\n",
    "            distances = knn_mode['distances'][anchor_idx][:n_display]\n",
    "            predictions = knn_mode['predictions'][anchor_idx][:n_display]\n",
    "            labels = knn_mode['labels'][anchor_idx][:n_display]\n",
    "            print(labels[0])\n",
    "            \n",
    "            images = []\n",
    "            image_titles = []\n",
    "            \n",
    "            # Form labels\n",
    "            for image_path, distance, prediction, label in zip(image_paths, distances, predictions, labels):\n",
    "                # images.append(load_images(image_path))\n",
    "                image_title = image_title_template.format(class_list[label], class_list[prediction], distance)\n",
    "                image_titles.append(image_title)\n",
    "            \n",
    "            save_path = os.path.join(save_dir, '{}_nn_visual_{}.png'.format(anchor, data_mode))\n",
    "            display_image_paths(\n",
    "                image_paths=image_paths,\n",
    "                labels=image_titles,\n",
    "                figure_title=title,\n",
    "                save_path=save_path)\n",
    "            \n",
    "            print(len(image_paths))"
   ]
  },
  {
   "cell_type": "code",
   "execution_count": 20,
   "metadata": {},
   "outputs": [
    {
     "name": "stdout",
     "output_type": "stream",
     "text": [
      "dict_keys(['indices', 'distances', 'image_paths', 'labels', 'predictions', 'anchor_data', 'neighbor_data'])\n",
      "(512,)\n"
     ]
    },
    {
     "ename": "TypeError",
     "evalue": "'dict_keys' object is not subscriptable",
     "output_type": "error",
     "traceback": [
      "\u001b[0;31m---------------------------------------------------------------------------\u001b[0m",
      "\u001b[0;31mTypeError\u001b[0m                                 Traceback (most recent call last)",
      "Cell \u001b[0;32mIn [20], line 18\u001b[0m\n\u001b[1;32m     15\u001b[0m \u001b[38;5;28mprint\u001b[39m(pre_edit_knn[\u001b[38;5;124m'\u001b[39m\u001b[38;5;124mfeatures\u001b[39m\u001b[38;5;124m'\u001b[39m]\u001b[38;5;241m.\u001b[39mkeys())\n\u001b[1;32m     16\u001b[0m \u001b[38;5;66;03m# print(pre_edit_knn['features']['anchor_data'].keys())\u001b[39;00m\n\u001b[1;32m     17\u001b[0m \u001b[38;5;66;03m# assert (pre_edit_knn['features']['anchor_data'] == pre_edit_knn['logits']['anchor_data'])\u001b[39;00m\n\u001b[0;32m---> 18\u001b[0m \u001b[43mshow_nearest_neighbors\u001b[49m\u001b[43m(\u001b[49m\n\u001b[1;32m     19\u001b[0m \u001b[43m    \u001b[49m\u001b[43mpre_edit_knn\u001b[49m\u001b[43m,\u001b[49m\u001b[43m \u001b[49m\n\u001b[1;32m     20\u001b[0m \u001b[43m    \u001b[49m\u001b[43mn_display\u001b[49m\u001b[38;5;241;43m=\u001b[39;49m\u001b[38;5;241;43m10\u001b[39;49m\u001b[43m,\u001b[49m\n\u001b[1;32m     21\u001b[0m \u001b[43m    \u001b[49m\u001b[43mtitle\u001b[49m\u001b[38;5;241;43m=\u001b[39;49m\u001b[38;5;124;43m'\u001b[39;49m\u001b[38;5;124;43mPre Edit Neighbors\u001b[39;49m\u001b[38;5;124;43m'\u001b[39;49m\u001b[43m,\u001b[49m\n\u001b[1;32m     22\u001b[0m \u001b[43m    \u001b[49m\u001b[43msave_dir\u001b[49m\u001b[38;5;241;43m=\u001b[39;49m\u001b[43mos\u001b[49m\u001b[38;5;241;43m.\u001b[39;49m\u001b[43mpath\u001b[49m\u001b[38;5;241;43m.\u001b[39;49m\u001b[43mjoin\u001b[49m\u001b[43m(\u001b[49m\u001b[43mtrial_dir\u001b[49m\u001b[43m,\u001b[49m\u001b[43m \u001b[49m\u001b[38;5;124;43m'\u001b[39;49m\u001b[38;5;124;43mmodels\u001b[39;49m\u001b[38;5;124;43m'\u001b[39;49m\u001b[43m,\u001b[49m\u001b[43m \u001b[49m\u001b[38;5;124;43m'\u001b[39;49m\u001b[38;5;124;43mknn_visualizations\u001b[39;49m\u001b[38;5;124;43m'\u001b[39;49m\u001b[43m,\u001b[49m\u001b[43m \u001b[49m\u001b[38;5;124;43m'\u001b[39;49m\u001b[38;5;124;43mpre_edit\u001b[39;49m\u001b[38;5;124;43m'\u001b[39;49m\u001b[43m)\u001b[49m\u001b[43m)\u001b[49m\n\u001b[1;32m     23\u001b[0m \u001b[38;5;66;03m# Visualize each \u001b[39;00m\n\u001b[1;32m     24\u001b[0m \u001b[38;5;28;01mif\u001b[39;00m trial_idx \u001b[38;5;241m==\u001b[39m \u001b[38;5;241m0\u001b[39m:\n",
      "Cell \u001b[0;32mIn [19], line 11\u001b[0m, in \u001b[0;36mshow_nearest_neighbors\u001b[0;34m(knn, n_display, save_dir, title)\u001b[0m\n\u001b[1;32m      9\u001b[0m \u001b[38;5;28mprint\u001b[39m(key_image\u001b[38;5;241m.\u001b[39mshape)\n\u001b[1;32m     10\u001b[0m \u001b[38;5;28;01mfor\u001b[39;00m anchor_idx, anchor \u001b[38;5;129;01min\u001b[39;00m \u001b[38;5;28menumerate\u001b[39m([\u001b[38;5;124m'\u001b[39m\u001b[38;5;124mkey\u001b[39m\u001b[38;5;124m'\u001b[39m, \u001b[38;5;124m'\u001b[39m\u001b[38;5;124mval\u001b[39m\u001b[38;5;124m'\u001b[39m]):\n\u001b[0;32m---> 11\u001b[0m     anchor_image \u001b[38;5;241m=\u001b[39m knn[\u001b[43mdata_modes\u001b[49m\u001b[43m[\u001b[49m\u001b[38;5;241;43m0\u001b[39;49m\u001b[43m]\u001b[49m][\u001b[38;5;124m'\u001b[39m\u001b[38;5;124manchor_data\u001b[39m\u001b[38;5;124m'\u001b[39m]\n\u001b[1;32m     12\u001b[0m     \u001b[38;5;66;03m# print(anchor_image.keys()\u001b[39;00m\n\u001b[1;32m     13\u001b[0m     \u001b[38;5;28;01mfor\u001b[39;00m data_mode \u001b[38;5;129;01min\u001b[39;00m data_modes:\n",
      "\u001b[0;31mTypeError\u001b[0m: 'dict_keys' object is not subscriptable"
     ]
    }
   ],
   "source": [
    "timestamp = '0127_103716'\n",
    "class_name = 'airplane'\n",
    "n_select = 100\n",
    "\n",
    "trial_paths_path = trial_paths_path_template.format(class_name, n_select, timestamp)\n",
    "\n",
    "# save_visualizations_dir = os.path.join(os.path.dirname(trial_paths_path), 'visualizations')\n",
    "# ensure_dir(save_visualizations_dir)\n",
    "trial_paths = read_lists(trial_paths_path)\n",
    "\n",
    "for trial_idx, trial_dir in enumerate(trial_paths):\n",
    "    config_path = os.path.join(trial_dir, 'models', 'config.json')\n",
    "    config_dict = read_json(config_path)\n",
    "    \n",
    "    key_path = config_dict['editor']['key_paths_file']\n",
    "    value_path = config_dict['editor']['value_paths_file']\n",
    "    # Load pre and post edit KNNs\n",
    "    pre_edit_knn = torch.load(os.path.join(trial_dir, 'models', 'pre_edit_{}-nn.pth'.format(K)))\n",
    "    post_edit_knn = torch.load(os.path.join(trial_dir, 'models', 'post_edit_{}-nn.pth'.format(K)))\n",
    "    print(pre_edit_knn['features'].keys())\n",
    "    # print(pre_edit_knn['features']['anchor_data'].keys())\n",
    "    # assert (pre_edit_knn['features']['anchor_data'] == pre_edit_knn['logits']['anchor_data'])\n",
    "    show_nearest_neighbors(\n",
    "        pre_edit_knn, \n",
    "        n_display=10,\n",
    "        title='Pre Edit Neighbors',\n",
    "        save_dir=os.path.join(trial_dir, 'models', 'knn_visualizations', 'pre_edit'))\n",
    "    # Visualize each \n",
    "    if trial_idx == 0:\n",
    "        break"
   ]
  },
  {
   "cell_type": "code",
   "execution_count": null,
   "metadata": {},
   "outputs": [],
   "source": [
    "# Load datasets\n",
    "# data_loader_args = dict(config.config[\"data_loader\"][\"args\"])"
   ]
  },
  {
   "cell_type": "code",
   "execution_count": null,
   "metadata": {},
   "outputs": [],
   "source": [
    "# # Load model\n",
    "# layernum = config.config['layernum']\n",
    "# model = config.init_obj('arch', module_arch, layernum=layernum)"
   ]
  },
  {
   "cell_type": "code",
   "execution_count": null,
   "metadata": {},
   "outputs": [],
   "source": [
    "# Function definitions"
   ]
  },
  {
   "cell_type": "code",
   "execution_count": null,
   "metadata": {},
   "outputs": [],
   "source": [
    "# Pedal to the metal!"
   ]
  }
 ],
 "metadata": {
  "kernelspec": {
   "display_name": "editing",
   "language": "python",
   "name": "editing"
  },
  "language_info": {
   "codemirror_mode": {
    "name": "ipython",
    "version": 3
   },
   "file_extension": ".py",
   "mimetype": "text/x-python",
   "name": "python",
   "nbconvert_exporter": "python",
   "pygments_lexer": "ipython3",
   "version": "3.8.13"
  }
 },
 "nbformat": 4,
 "nbformat_minor": 4
}
