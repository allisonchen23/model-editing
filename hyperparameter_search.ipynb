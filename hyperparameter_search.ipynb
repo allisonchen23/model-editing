{
 "cells": [
  {
   "cell_type": "markdown",
   "metadata": {},
   "source": [
    "# Hyperparameter search across optimizer, learning rate, weight decay"
   ]
  },
  {
   "cell_type": "markdown",
   "metadata": {},
   "source": []
  },
  {
   "cell_type": "code",
   "execution_count": 1,
   "metadata": {},
   "outputs": [],
   "source": [
    "# Global imports\n",
    "import os\n",
    "import json\n",
    "import sys\n",
    "sys.path.insert(0, 'src')"
   ]
  },
  {
   "cell_type": "code",
   "execution_count": 2,
   "metadata": {},
   "outputs": [],
   "source": [
    "# Local imports\n",
    "from utils.util import read_json, informal_log\n",
    "from train import main as train_fn\n",
    "from test import main as test_fn\n",
    "from parse_config import ConfigParser\n",
    "from data_loader import data_loaders"
   ]
  },
  {
   "cell_type": "code",
   "execution_count": 11,
   "metadata": {},
   "outputs": [
    {
     "name": "stdout",
     "output_type": "stream",
     "text": [
      "/n/fs/ac-editing/model-editing\n"
     ]
    }
   ],
   "source": [
    "# architectures = [\n",
    "#     \"vgg11_bn\",\n",
    "#     \"vgg13_bn\",\n",
    "#     \"vgg16_bn\",\n",
    "#     \"vgg19_bn\",\n",
    "#     \"resnet18\",\n",
    "#     \"resnet34\",\n",
    "#     \"resnet50\",\n",
    "#     \"densenet121\",\n",
    "#     \"densenet161\",\n",
    "#     \"densenet169\",\n",
    "#     \"mobilenet_v2\",\n",
    "#     \"googlenet\",\n",
    "#     \"inception_v3\"]\n",
    "\n",
    "# optimizers = [\"Adam\", \"SGD\"]\n",
    "# learning_rates = [0.1, 0.01, 1e-3, 1e-4, 1e-5, 1e-6]\n",
    "# weight_decays = [0, 0.1, 0.01, 1e-3, 1e-4]\n",
    "# n_epochs = 30\n",
    "\n",
    "config_path = 'configs/cinic10_imagenet_train_hyperparameter_search.json'\n",
    "config_dict = read_json(config_path)\n",
    "\n",
    "\n",
    "\n",
    "# Test values\n",
    "\n",
    "architectures = [\"vgg11_bn\"]\n",
    "optimizers = [\"Adam\", \"SGD\"]\n",
    "learning_rates = [0.1, 0.01]\n",
    "weight_decays = [0, 0.1]\n",
    "n_epochs = 15"
   ]
  },
  {
   "cell_type": "code",
   "execution_count": 4,
   "metadata": {},
   "outputs": [],
   "source": [
    "# Initialize data loaders\n",
    "data_loader_args = dict(config_dict[\"data_loader\"][\"args\"])\n",
    "train_data_loader = data_loaders.CINIC10DataLoader(\n",
    "    **data_loader_args,\n",
    "    shuffle=True,\n",
    "    split='train')\n",
    "val_data_loader = data_loaders.CINIC10DataLoader(\n",
    "    **data_loader_args,\n",
    "    shuffle=False,\n",
    "    split='valid')\n",
    "test_data_loader = data_loaders.CINIC10DataLoader(\n",
    "    **data_loader_args,\n",
    "    shuffle=False,\n",
    "    split='test')"
   ]
  },
  {
   "cell_type": "code",
   "execution_count": null,
   "metadata": {},
   "outputs": [
    {
     "name": "stdout",
     "output_type": "stream",
     "text": [
      "Train data path: data/cinic-10-imagenet/train\n",
      "Validation data path: data/cinic-10-imagenet/valid\n",
      "Test data path: data/cinic-10-imagenet/test\n",
      "Test results for vgg11_bn...\n",
      "HyperParameterSearch_vgg11_bn\n",
      "OrderedDict([('type', 'CIFAR10PretrainedModel'), ('args', OrderedDict([('type', 'vgg11_bn'), ('checkpoint_path', 'external_code/PyTorch_CIFAR10/cifar10_models/state_dicts/vgg11_bn.pt')]))])\n",
      "OrderedDict([('type', 'Adam'), ('args', OrderedDict([('lr', 0.1), ('weight_decay', 0), ('amsgrad', False)]))])\n",
      "Optimizer: Adam \tLearning Rate: 0.1 \tWeight Decay: 0\n",
      "N_epochs: 15\n",
      "Created CIFAR10PretrainedModel model with 28149514 trainable parameters\n",
      "Restored weights from external_code/PyTorch_CIFAR10/cifar10_models/state_dicts/vgg11_bn.pt\n",
      "Checkpoint save directory: saved/HyperParameterSearch_vgg11_bn/optim_Adam-lr_0.1-wd_0/models\n",
      "Train Epoch: 1 [0/70000 (0%)] Loss: 1.805037\n",
      "Train Epoch: 1 [4096/70000 (6%)] Loss: 2.379120\n",
      "Train Epoch: 1 [8192/70000 (12%)] Loss: 2.328338\n",
      "Train Epoch: 1 [12288/70000 (18%)] Loss: 2.336151\n",
      "Train Epoch: 1 [16384/70000 (23%)] Loss: 2.379120\n",
      "Train Epoch: 1 [20480/70000 (29%)] Loss: 2.375213\n",
      "Train Epoch: 1 [24576/70000 (35%)] Loss: 2.367401\n",
      "Train Epoch: 1 [28672/70000 (41%)] Loss: 2.367401\n",
      "Train Epoch: 1 [32768/70000 (47%)] Loss: 2.363495\n",
      "Train Epoch: 1 [36864/70000 (53%)] Loss: 2.375213\n",
      "Train Epoch: 1 [40960/70000 (59%)] Loss: 2.351776\n",
      "Train Epoch: 1 [45056/70000 (64%)] Loss: 2.383026\n",
      "Train Epoch: 1 [49152/70000 (70%)] Loss: 2.367401\n",
      "Train Epoch: 1 [53248/70000 (76%)] Loss: 2.316620\n",
      "Train Epoch: 1 [57344/70000 (82%)] Loss: 2.363495\n",
      "Train Epoch: 1 [61440/70000 (88%)] Loss: 2.355682\n",
      "Train Epoch: 1 [65536/70000 (94%)] Loss: 2.359588\n",
      "Train Epoch: 1 [69632/70000 (99%)] Loss: 2.367401\n",
      "    epoch          : 1\n",
      "    loss           : 2.359210068291991\n",
      "    accuracy       : 0.10201259449947862\n",
      "    val_loss       : 2.361356164852198\n",
      "    val_accuracy   : 0.09979470802919709\n",
      "Saving checkpoint: saved/HyperParameterSearch_vgg11_bn/optim_Adam-lr_0.1-wd_0/models/checkpoint-epoch1.pth ...\n",
      "Saving current best: saved/HyperParameterSearch_vgg11_bn/optim_Adam-lr_0.1-wd_0/models/model_best.pth ...\n",
      "Train Epoch: 2 [0/70000 (0%)] Loss: 2.328338\n",
      "Train Epoch: 2 [4096/70000 (6%)] Loss: 2.379120\n",
      "Train Epoch: 2 [8192/70000 (12%)] Loss: 2.359588\n",
      "Train Epoch: 2 [12288/70000 (18%)] Loss: 2.347870\n",
      "Train Epoch: 2 [16384/70000 (23%)] Loss: 2.371307\n",
      "Train Epoch: 2 [20480/70000 (29%)] Loss: 2.355682\n",
      "Train Epoch: 2 [24576/70000 (35%)] Loss: 2.363495\n",
      "Train Epoch: 2 [28672/70000 (41%)] Loss: 2.359588\n",
      "Train Epoch: 2 [32768/70000 (47%)] Loss: 2.340057\n",
      "Train Epoch: 2 [36864/70000 (53%)] Loss: 2.328338\n",
      "Train Epoch: 2 [40960/70000 (59%)] Loss: 2.367401\n",
      "Train Epoch: 2 [45056/70000 (64%)] Loss: 2.383026\n"
     ]
    }
   ],
   "source": [
    "for architecture in architectures:\n",
    "    config_dict.update({\"name\": \"HyperParameterSearch_{}\".format(architecture)})\n",
    "    summary_file_path = os.path.join(\n",
    "        config_dict[\"trainer\"][\"save_dir\"], \n",
    "        config_dict[\"name\"], \n",
    "        'summary.txt')\n",
    "\n",
    "    informal_log(\"Train data path: {}\".format(train_data_loader.get_data_dir()))\n",
    "    informal_log(\"Validation data path: {}\".format(val_data_loader.get_data_dir()))\n",
    "    informal_log(\"Test data path: {}\".format(test_data_loader.get_data_dir()))\n",
    "\n",
    "    informal_log(\"Test results for {}...\".format(architecture), summary_file_path)\n",
    "    \n",
    "    # Set number of epochs\n",
    "    config_dict[\"trainer\"].update({\"epochs\": n_epochs})\n",
    "    # Update model architecture information\n",
    "\n",
    "    for key, value in config_dict[\"arch\"][\"args\"].items():\n",
    "        config_dict[\"arch\"][\"args\"].update({key: value.format(architecture)})\n",
    "\n",
    "    print(config_dict[\"name\"])\n",
    "    print(config_dict[\"arch\"])\n",
    "    for optimizer in optimizers:\n",
    "        config_dict[\"optimizer\"].update({\"type\": optimizer})\n",
    "        for learning_rate in learning_rates:\n",
    "            config_dict[\"optimizer\"][\"args\"].update({\"lr\": learning_rate})\n",
    "            for weight_decay in weight_decays:\n",
    "                \n",
    "                \n",
    "                config_dict[\"optimizer\"][\"args\"].update({\"weight_decay\": weight_decay})\n",
    "                print(config_dict[\"optimizer\"])\n",
    "                run_id = \"optim_{}-lr_{}-wd_{}\".format(\n",
    "                    config_dict[\"optimizer\"][\"type\"],\n",
    "                    config_dict[\"optimizer\"][\"args\"][\"lr\"],\n",
    "                    config_dict[\"optimizer\"][\"args\"][\"weight_decay\"]\n",
    "                )\n",
    "                \n",
    "                # Log parameters in summary\n",
    "                informal_log(\"Optimizer: {} \\tLearning Rate: {} \\tWeight Decay: {}\".format(\n",
    "                    optimizer, learning_rate, weight_decay\n",
    "                ), summary_file_path)\n",
    "                informal_log(\"N_epochs: {}\".format(n_epochs), summary_file_path)\n",
    "                # Create config object and train\n",
    "                config = ConfigParser(config_dict, run_id=run_id)\n",
    "                train_fn(config,\n",
    "                    train_data_loader=train_data_loader,\n",
    "                    val_data_loader=val_data_loader)\n",
    "                \n",
    "                # Obtain best model and run on test set\n",
    "                best_ckpt_path = os.path.join(config.save_dir, 'model_best.pth')\n",
    "                informal_log(\"Best checkpoint at {}\".format(best_ckpt_path))\n",
    "                test_run_id = os.path.join(run_id, 'test')\n",
    "                config_test = ConfigParser(config_dict, run_id=test_run_id, resume=best_ckpt_path)\n",
    "                test_results = test_fn(config_test, test_data_loader=test_data_loader)\n",
    "                \n",
    "                informal_log(\"Test results:\\n{}\".format(test_results), summary_file_path)\n",
    "                informal_log(\"\\n---***---\\n\", summary_file_path)\n",
    "'''\n",
    "for each arch:\n",
    "    change config name=HyperParamSearch_{arch.type}, arch.type, arch.checkpoint_path,\n",
    "    for each optimizer:\n",
    "        set config optimizer.type\n",
    "        for each lr:\n",
    "            set config optimizer.args.lr\n",
    "            for each weight decay:\n",
    "                setconfig.optimizer.weight_decay\n",
    "                config.run_id = {dataset}_{arch.type}_{optim}_{lr}_{weight_decay}\n",
    "                config = ConfigParser(config)\n",
    "                train.main(config)\n",
    "                \n",
    "\n",
    "'''\n"
   ]
  },
  {
   "cell_type": "code",
   "execution_count": 9,
   "metadata": {},
   "outputs": [
    {
     "name": "stdout",
     "output_type": "stream",
     "text": [
      "OrderedDict([('type', 'Adam'), ('args', OrderedDict([('lr', 0.1), ('weight_decay', 0), ('amsgrad', False)]))])\n",
      "saved/HyperParameterSearch_vgg11_bn/optim_Adam-lr_0.1-wd_0/models/model_best.pth\n"
     ]
    }
   ],
   "source": [
    "# print stuff\n",
    "print(config[\"optimizer\"])\n",
    "best_ckpt_path = os.path.join(config.save_dir, 'model_best.pth')\n",
    "print(best_ckpt_path)"
   ]
  },
  {
   "cell_type": "code",
   "execution_count": null,
   "metadata": {},
   "outputs": [],
   "source": []
  }
 ],
 "metadata": {
  "kernelspec": {
   "display_name": "Python 3 (ipykernel)",
   "language": "python",
   "name": "python3"
  },
  "language_info": {
   "codemirror_mode": {
    "name": "ipython",
    "version": 3
   },
   "file_extension": ".py",
   "mimetype": "text/x-python",
   "name": "python",
   "nbconvert_exporter": "python",
   "pygments_lexer": "ipython3",
   "version": "3.8.13"
  },
  "vscode": {
   "interpreter": {
    "hash": "308e6c6b8b936526d9e5740fbb6d189809c67403351ef790dfc7ad94346820d6"
   }
  }
 },
 "nbformat": 4,
 "nbformat_minor": 4
}
