{
 "cells": [
  {
   "cell_type": "markdown",
   "metadata": {},
   "source": [
    "# Hyperparameter search across optimizer, learning rate, weight decay"
   ]
  },
  {
   "cell_type": "markdown",
   "metadata": {},
   "source": []
  },
  {
   "cell_type": "code",
   "execution_count": 3,
   "metadata": {},
   "outputs": [],
   "source": [
    "# Global imports\n",
    "import os\n",
    "import json\n",
    "import sys\n",
    "sys.path.insert(0, 'src')"
   ]
  },
  {
   "cell_type": "code",
   "execution_count": 8,
   "metadata": {},
   "outputs": [],
   "source": [
    "# Local imports\n",
    "from utils import read_json, write_json\n",
    "from train import main as train_fn\n",
    "from parse_config import ConfigParser"
   ]
  },
  {
   "cell_type": "code",
   "execution_count": 6,
   "metadata": {},
   "outputs": [
    {
     "name": "stdout",
     "output_type": "stream",
     "text": [
      "/n/fs/ac-editing/model-editing\n"
     ]
    }
   ],
   "source": [
    "# architectures = [\n",
    "#     \"vgg11_bn\",\n",
    "#     \"vgg13_bn\",\n",
    "#     \"vgg16_bn\",\n",
    "#     \"vgg19_bn\",\n",
    "#     \"resnet18\",\n",
    "#     \"resnet34\",\n",
    "#     \"resnet50\",\n",
    "#     \"densenet121\",\n",
    "#     \"densenet161\",\n",
    "#     \"densenet169\",\n",
    "#     \"mobilenet_v2\",\n",
    "#     \"googlenet\",\n",
    "#     \"inception_v3\"]\n",
    "print(os.getcwd())\n",
    "\n",
    "config_path = 'configs/cinic10_imagenet_train_hyperparameter_search.json'\n",
    "config_dict = read_json(config_path)\n",
    "\n",
    "# optimizers = [\"Adam\", \"SGD\"]\n",
    "# learning_rates = [0.1, 0.01, 1e-3, 1e-4, 1e-5, 1e-6]\n",
    "# weight_decays = [0, 0.1, 0.01, 1e-3, 1e-4]\n",
    "# n_epochs = 30\n",
    "\n",
    "# Test values\n",
    "architectures = [\"vgg11_bn\"]\n",
    "learning_rates = [0.1, 0.01]\n",
    "weight_decays = [0, 0.1]\n",
    "n_epochs = 30\n",
    "\n"
   ]
  },
  {
   "cell_type": "code",
   "execution_count": 17,
   "metadata": {},
   "outputs": [
    {
     "name": "stdout",
     "output_type": "stream",
     "text": [
      "HyperParameterSearch_vgg11_bn\n",
      "OrderedDict([('type', 'CIFAR10PretrainedModel'), ('args', OrderedDict([('type', 'vgg11_bn'), ('checkpoint_path', 'external_code/PyTorch_CIFAR10/cifar10_models/state_dicts/vgg11_bn.pt')]))])\n",
      "OrderedDict([('type', 'Adam'), ('args', OrderedDict([('lr', 0.1), ('weight_decay', 0), ('amsgrad', False)]))])\n",
      "Created train and validation dataloaders for CINIC10DataLoader\n",
      "Train data folder: data/cinic-10-imagenet/train\n",
      "Validation data folder: data/cinic-10-imagenet/valid\n",
      "Created CIFAR10PretrainedModel model with 28149514 trainable parameters\n",
      "Restored weights from external_code/PyTorch_CIFAR10/cifar10_models/state_dicts/vgg11_bn.pt\n",
      "Warning: There's no GPU available on this machine,training will be performed on CPU.\n",
      "Checkpoint save directory: saved/HyperParameterSearch_vgg11_bn/CINIC10DataLoader-vgg11_bn-optim_Adam-lr_0.1-wd_0/models\n",
      "Train Epoch: 1 [0/70000 (0%)] Loss: 1.778389\n",
      "Train Epoch: 1 [4096/70000 (6%)] Loss: 2.351776\n"
     ]
    }
   ],
   "source": [
    "for architecture in architectures:\n",
    "    config_dict.update({\"name\": \"HyperParameterSearch_{}\".format(architecture)})\n",
    "    # Update model architecture information\n",
    "    for key, value in config_dict[\"arch\"][\"args\"].items():\n",
    "        config_dict[\"arch\"][\"args\"].update({key: value.format(architecture)})\n",
    "\n",
    "    print(config_dict[\"name\"])\n",
    "    print(config_dict[\"arch\"])\n",
    "    for optimizer in optimizers:\n",
    "        config_dict[\"optimizer\"].update({\"type\": optimizer})\n",
    "        for learning_rate in learning_rates:\n",
    "            config_dict[\"optimizer\"][\"args\"].update({\"lr\": learning_rate})\n",
    "            for weight_decay in weight_decays:\n",
    "                config_dict[\"optimizer\"][\"args\"].update({\"weight_decay\": weight_decay})\n",
    "                print(config_dict[\"optimizer\"])\n",
    "                run_id = \"{}-{}-optim_{}-lr_{}-wd_{}\".format(\n",
    "                    config_dict[\"data_loader\"][\"type\"],\n",
    "                    config_dict[\"arch\"][\"args\"][\"type\"],\n",
    "                    config_dict[\"optimizer\"][\"type\"],\n",
    "                    config_dict[\"optimizer\"][\"args\"][\"lr\"],\n",
    "                    config_dict[\"optimizer\"][\"args\"][\"weight_decay\"]\n",
    "                )\n",
    "                # Create config object\n",
    "                config = ConfigParser(config_dict, run_id=run_id)\n",
    "                train_fn(config)\n",
    "\n",
    "'''\n",
    "for each arch:\n",
    "    change config name=HyperParamSearch_{arch.type}, arch.type, arch.checkpoint_path,\n",
    "    for each optimizer:\n",
    "        set config optimizer.type\n",
    "        for each lr:\n",
    "            set config optimizer.args.lr\n",
    "            for each weight decay:\n",
    "                setconfig.optimizer.weight_decay\n",
    "                config.run_id = {dataset}_{arch.type}_{optim}_{lr}_{weight_decay}\n",
    "                config = ConfigParser(config)\n",
    "                train.main(config)\n",
    "                \n",
    "\n",
    "'''\n"
   ]
  },
  {
   "cell_type": "code",
   "execution_count": 8,
   "metadata": {},
   "outputs": [
    {
     "name": "stdout",
     "output_type": "stream",
     "text": [
      "OrderedDict([('type', 'Adam'), ('args', OrderedDict([('lr', 1e-06), ('weight_decay', 0), ('amsgrad', False)]))])\n"
     ]
    }
   ],
   "source": [
    "# print stuff\n",
    "print(config[\"optimizer\"])"
   ]
  },
  {
   "cell_type": "code",
   "execution_count": null,
   "metadata": {},
   "outputs": [],
   "source": []
  }
 ],
 "metadata": {
  "kernelspec": {
   "display_name": "Python 3.8.13 ('editing')",
   "language": "python",
   "name": "python3"
  },
  "language_info": {
   "codemirror_mode": {
    "name": "ipython",
    "version": 3
   },
   "file_extension": ".py",
   "mimetype": "text/x-python",
   "name": "python",
   "nbconvert_exporter": "python",
   "pygments_lexer": "ipython3",
   "version": "3.8.13"
  },
  "orig_nbformat": 4,
  "vscode": {
   "interpreter": {
    "hash": "308e6c6b8b936526d9e5740fbb6d189809c67403351ef790dfc7ad94346820d6"
   }
  }
 },
 "nbformat": 4,
 "nbformat_minor": 2
}
