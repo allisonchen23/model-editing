{
 "cells": [
  {
   "cell_type": "markdown",
   "metadata": {},
   "source": [
    "# Hyperparameter search across optimizer, learning rate, weight decay"
   ]
  },
  {
   "cell_type": "markdown",
   "metadata": {},
   "source": []
  },
  {
   "cell_type": "code",
   "execution_count": 1,
   "metadata": {},
   "outputs": [],
   "source": [
    "# Global imports\n",
    "import os\n",
    "import json\n",
    "import sys\n",
    "sys.path.insert(0, 'src')"
   ]
  },
  {
   "cell_type": "code",
   "execution_count": 2,
   "metadata": {},
   "outputs": [],
   "source": [
    "# Local imports\n",
    "from utils.util import read_json, informal_log\n",
    "from train import main as train_fn\n",
    "from test import main as test_fn\n",
    "from parse_config import ConfigParser\n",
    "from data_loader import data_loaders"
   ]
  },
  {
   "cell_type": "code",
   "execution_count": 3,
   "metadata": {},
   "outputs": [],
   "source": [
    "# architectures = [\n",
    "#     \"vgg11_bn\",\n",
    "#     \"vgg13_bn\",\n",
    "#     \"vgg16_bn\",\n",
    "#     \"vgg19_bn\",\n",
    "#     \"resnet18\",\n",
    "#     \"resnet34\",\n",
    "#     \"resnet50\",\n",
    "#     \"densenet121\",\n",
    "#     \"densenet161\",\n",
    "#     \"densenet169\",\n",
    "#     \"mobilenet_v2\",\n",
    "#     \"googlenet\",\n",
    "#     \"inception_v3\"]\n",
    "\n",
    "architectures = [\"resnet50\"]\n",
    "optimizers = [\"SGD\"]\n",
    "learning_rates_dict = {\n",
    "    \"Adam\": [1e-4, 1e-5, 1e-6],\n",
    "    \"SGD\": [0.1, 0.01, 1e-3, 1e-4]\n",
    "}\n",
    "# learning_rates_dict = {\n",
    "#     \"Adam\": [1e-6],\n",
    "#     \"SGD\": [1e-3, 1e-4]\n",
    "# }\n",
    "weight_decays = [0, 1e-1, 1e-2, 1e-3, 1e-4]\n",
    "n_epochs = 100\n",
    "\n",
    "config_path = 'configs/copies/cinic10_imagenet_train_scratch_hyperparameter_search.json'\n",
    "config_dict = read_json(config_path)\n",
    "\n",
    "# Test values\n",
    "\n",
    "# architectures = [\"vgg11_bn\"]\n",
    "# optimizers = [\"Adam\", \"SGD\"]\n",
    "# learning_rates = [0.1, 0.01]\n",
    "# weight_decays = [0, 0.1]\n",
    "# n_epochs = 15"
   ]
  },
  {
   "cell_type": "code",
   "execution_count": null,
   "metadata": {},
   "outputs": [],
   "source": [
    "# Initialize data loaders\n",
    "data_loader_args = dict(config_dict[\"data_loader\"][\"args\"])\n",
    "train_data_loader = data_loaders.CINIC10DataLoader(\n",
    "    **data_loader_args,\n",
    "    shuffle=True,\n",
    "    split='train')\n",
    "val_data_loader = data_loaders.CINIC10DataLoader(\n",
    "    **data_loader_args,\n",
    "    shuffle=False,\n",
    "    split='valid')\n",
    "test_data_loader = data_loaders.CINIC10DataLoader(\n",
    "    **data_loader_args,\n",
    "    shuffle=False,\n",
    "    split='test')"
   ]
  },
  {
   "cell_type": "code",
   "execution_count": null,
   "metadata": {},
   "outputs": [],
   "source": [
    "# print what we're searching over\n",
    "print(\"Architectures: {}\".format(architectures))\n",
    "print(\"Optimizers: {}\".format(optimizers))\n",
    "print(\"Learning Rates: {}\".format(learning_rates_dict.items()))\n",
    "print(\"Weight Decays: {}\".format(weight_decays))\n",
    "print(\"N_epochs: {}\".format(n_epochs))\n",
    "\n",
    "for architecture in architectures:\n",
    "     # Read in config file fresh\n",
    "    config_dict = read_json(config_path)\n",
    "    \n",
    "    config_dict.update({\"name\": \"HyperParameterSearch_{}\".format(architecture)})\n",
    "    summary_file_path = os.path.join(\n",
    "        config_dict[\"trainer\"][\"save_dir\"], \n",
    "        config_dict[\"name\"], \n",
    "        'summary.txt')\n",
    "\n",
    "    informal_log(\"Train data path: {}\".format(train_data_loader.get_data_dir()))\n",
    "    informal_log(\"Validation data path: {}\".format(val_data_loader.get_data_dir()))\n",
    "    informal_log(\"Test data path: {}\".format(test_data_loader.get_data_dir()))\n",
    "\n",
    "    informal_log(\"Test results for {}...\".format(architecture), summary_file_path)\n",
    "    \n",
    "    # Set number of epochs\n",
    "    config_dict[\"trainer\"].update({\"epochs\": n_epochs})\n",
    "    \n",
    "    # Update model architecture information\n",
    "    for key, value in config_dict[\"arch\"][\"args\"].items():\n",
    "        config_dict[\"arch\"][\"args\"].update({key: value.format(architecture)})\n",
    "\n",
    "    # Hyperparameter search\n",
    "    for optimizer in optimizers:\n",
    "        config_dict[\"optimizer\"].update({\"type\": optimizer})\n",
    "        config_dict[\"optimizer\"][\"args\"].pop(\"amsgrad\", None)\n",
    "        learning_rates = learning_rates_dict[optimizer]\n",
    "        for learning_rate in learning_rates:\n",
    "            config_dict[\"optimizer\"][\"args\"].update({\"lr\": learning_rate})\n",
    "            for weight_decay in weight_decays:\n",
    "                # Update configuration dictionary\n",
    "                config_dict[\"optimizer\"][\"args\"].update({\"weight_decay\": weight_decay})\n",
    "                \n",
    "                # Set name of run ID based on hyperparameters\n",
    "                run_id = \"optim_{}-lr_{}-wd_{}\".format(\n",
    "                    config_dict[\"optimizer\"][\"type\"],\n",
    "                    config_dict[\"optimizer\"][\"args\"][\"lr\"],\n",
    "                    config_dict[\"optimizer\"][\"args\"][\"weight_decay\"]\n",
    "                )\n",
    "                \n",
    "                # Log parameters in summary\n",
    "                informal_log(\"Optimizer: {} \\tLearning Rate: {} \\tWeight Decay: {}\".format(\n",
    "                    optimizer, learning_rate, weight_decay\n",
    "                ), summary_file_path)\n",
    "                informal_log(\"N_epochs: {}\".format(n_epochs), summary_file_path)\n",
    "                \n",
    "                # Create config object and train\n",
    "                try:\n",
    "                    config = ConfigParser(config_dict, run_id=run_id)\n",
    "                except ValueError as e:\n",
    "                    print(e)\n",
    "                    print(\"Skipping hyperparameter configuration\")\n",
    "                    continue\n",
    "                train_fn(config,\n",
    "                    train_data_loader=train_data_loader,\n",
    "                    val_data_loader=val_data_loader)\n",
    "                \n",
    "                # Obtain best model and run on test set\n",
    "                best_ckpt_path = os.path.join(config.save_dir, 'model_best.pth')\n",
    "                informal_log(\"Best checkpoint at {}\".format(best_ckpt_path), summary_file_path)\n",
    "                test_run_id = os.path.join(run_id, 'test')\n",
    "                config_test = ConfigParser(config_dict, run_id=test_run_id, resume=best_ckpt_path)\n",
    "                test_results = test_fn(config_test, test_data_loader=test_data_loader)\n",
    "                \n",
    "                informal_log(\"Test results:\\n{}\".format(test_results), summary_file_path)\n",
    "                informal_log(\"\\n---***---\\n\", summary_file_path)\n",
    "'''\n",
    "for each arch:\n",
    "    change config name=HyperParamSearch_{arch.type}, arch.type, arch.checkpoint_path,\n",
    "    for each optimizer:\n",
    "        set config optimizer.type\n",
    "        for each lr:\n",
    "            set config optimizer.args.lr\n",
    "            for each weight decay:\n",
    "                setconfig.optimizer.weight_decay\n",
    "                config.run_id = {dataset}_{arch.type}_{optim}_{lr}_{weight_decay}\n",
    "                config = ConfigParser(config)\n",
    "                train.main(config)\n",
    "                \n",
    "\n",
    "'''\n"
   ]
  },
  {
   "cell_type": "code",
   "execution_count": 9,
   "metadata": {},
   "outputs": [
    {
     "name": "stdout",
     "output_type": "stream",
     "text": [
      "OrderedDict([('type', 'Adam'), ('args', OrderedDict([('lr', 0.1), ('weight_decay', 0), ('amsgrad', False)]))])\n",
      "saved/HyperParameterSearch_vgg11_bn/optim_Adam-lr_0.1-wd_0/models/model_best.pth\n"
     ]
    }
   ],
   "source": [
    "# print stuff\n",
    "print(config[\"optimizer\"])\n",
    "best_ckpt_path = os.path.join(config.save_dir, 'model_best.pth')\n",
    "print(best_ckpt_path)"
   ]
  },
  {
   "cell_type": "code",
   "execution_count": null,
   "metadata": {},
   "outputs": [],
   "source": []
  }
 ],
 "metadata": {
  "kernelspec": {
   "display_name": "Python 3 (ipykernel)",
   "language": "python",
   "name": "python3"
  },
  "language_info": {
   "codemirror_mode": {
    "name": "ipython",
    "version": 3
   },
   "file_extension": ".py",
   "mimetype": "text/x-python",
   "name": "python",
   "nbconvert_exporter": "python",
   "pygments_lexer": "ipython3",
   "version": "3.8.13"
  },
  "vscode": {
   "interpreter": {
    "hash": "308e6c6b8b936526d9e5740fbb6d189809c67403351ef790dfc7ad94346820d6"
   }
  }
 },
 "nbformat": 4,
 "nbformat_minor": 4
}
