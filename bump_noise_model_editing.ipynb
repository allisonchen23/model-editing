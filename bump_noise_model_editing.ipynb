{
 "cells": [
  {
   "cell_type": "markdown",
   "metadata": {},
   "source": [
    "## Create Edits that match post edit class distribution of target class to real edits"
   ]
  },
  {
   "cell_type": "code",
   "execution_count": 121,
   "metadata": {},
   "outputs": [],
   "source": [
    "# General imports\n",
    "import torch\n",
    "import numpy as np\n",
    "import os, sys\n",
    "import json\n",
    "from tqdm import tqdm\n",
    "import matplotlib.pyplot as plt\n",
    "import math\n",
    "from datetime import datetime"
   ]
  },
  {
   "cell_type": "code",
   "execution_count": 110,
   "metadata": {},
   "outputs": [],
   "source": [
    "# Local imports\n",
    "sys.path.insert(0, 'src')\n",
    "from utils import read_json, read_lists, list_to_dict, ensure_dir, informal_log\n",
    "from utils.df_utils import load_and_preprocess_csv\n",
    "from utils.visualizations import histogram\n",
    "from utils.model_utils import prepare_device, quick_predict\n",
    "from parse_config import ConfigParser\n",
    "\n",
    "import datasets.datasets as module_data\n",
    "import model.model as module_arch\n",
    "import model.metric as module_metric\n",
    "import model.loss as module_loss"
   ]
  },
  {
   "cell_type": "code",
   "execution_count": 37,
   "metadata": {},
   "outputs": [],
   "source": [
    "# Define constants, paths\n",
    "class_list_path = os.path.join('metadata', 'cinic-10', 'class_names.txt')\n",
    "\n",
    "config_path = 'configs/copies/edit_experiments/cinic10_imagenet-bump_edit.json'"
   ]
  },
  {
   "cell_type": "code",
   "execution_count": 44,
   "metadata": {},
   "outputs": [],
   "source": [
    "# Load config file, models, and dataloader\n",
    "class_list = read_lists(class_list_path)\n",
    "class_idx_dict = list_to_dict(class_list)\n",
    "\n",
    "config_dict = read_json(config_path)\n",
    "\n",
    "device, device_ids = prepare_device(config_dict['n_gpu'])"
   ]
  },
  {
   "cell_type": "markdown",
   "metadata": {
    "tags": []
   },
   "source": [
    "### Get the Target Class Distribution Across All Edits for Specific Class"
   ]
  },
  {
   "cell_type": "code",
   "execution_count": 55,
   "metadata": {},
   "outputs": [],
   "source": [
    "class_name = 'airplane'\n",
    "target_class_idx = class_idx_dict[class_name]\n",
    "n_select = 100\n",
    "timestamp = '0127_103716'\n",
    "\n",
    "root_dir = os.path.join('saved', 'edit', 'trials', 'CINIC10_ImageNet-VGG_16', '{}' + '_{}'.format(n_select), timestamp)\n",
    "csv_path_template = os.path.join(root_dir, 'results_table.csv')\n"
   ]
  },
  {
   "cell_type": "code",
   "execution_count": 28,
   "metadata": {},
   "outputs": [],
   "source": [
    "def save_class_distribution(csv_path, \n",
    "                            target_class_idx,\n",
    "                            target_class_name,\n",
    "                            show=False):\n",
    "    \n",
    "    df = load_and_preprocess_csv(\n",
    "        csv_path=csv_path,\n",
    "        drop_duplicates=['ID']\n",
    "    )\n",
    "    class_distribution = df['Post Class Dist'].to_numpy()\n",
    "    class_distribution = np.stack(class_distribution, axis=0)\n",
    "    target_class_distribution = class_distribution[:, target_class_idx]\n",
    "\n",
    "    target_class_bins = np.bincount(target_class_distribution)\n",
    "\n",
    "    histogram_save_path = os.path.join(os.path.dirname(csv_path), 'graphs', 'summary', 'target_class_distribution.png')\n",
    "    title = 'Post Edit {} Class Distribution for {} Edits'.format(target_class_name, target_class_name)\n",
    "    xlabel = 'Num. {} Predictions Post Edit'.format(target_class_name)\n",
    "    ylabel = 'Num. Edits'\n",
    "    \n",
    "    bin_values, bins, _ = histogram(\n",
    "        data=target_class_distribution,\n",
    "        n_bins=50,\n",
    "        save_path=histogram_save_path,\n",
    "        title=title,\n",
    "        xlabel=xlabel,\n",
    "        ylabel=ylabel,\n",
    "        show=show)\n",
    "    \n",
    "    bin_tuples = []\n",
    "    for bin_idx in range(len(bins) - 1):\n",
    "        bin_tuples.append((bins[bin_idx], bins[bin_idx+1]))\n",
    "\n",
    "    save_data = {\n",
    "        \"n_target_predictions\": target_class_distribution,\n",
    "        \"histogram_bin_values\": bin_values,\n",
    "        \"histogram_bins\": bins\n",
    "    }\n",
    "    target_class_dist_save_path = os.path.join(os.path.dirname(csv_path), 'target_class_distribution.pth')\n",
    "    torch.save(save_data, target_class_dist_save_path)\n",
    "    \n",
    "    print(\"Saved target class distribution & histogram data to {}\".format(target_class_dist_save_path))\n",
    "    \n",
    "    plt.close('all')"
   ]
  },
  {
   "cell_type": "markdown",
   "metadata": {},
   "source": [
    "#### Loop over all classes and save histograms and distributions"
   ]
  },
  {
   "cell_type": "code",
   "execution_count": 29,
   "metadata": {},
   "outputs": [
    {
     "name": "stderr",
     "output_type": "stream",
     "text": [
      "No artists with labels found to put in legend.  Note that artists whose label start with an underscore are ignored when legend() is called with no argument.\n"
     ]
    },
    {
     "name": "stdout",
     "output_type": "stream",
     "text": [
      "50\n",
      "50\n",
      "Saved target class distribution & histogram data to saved/edit/trials/CINIC10_ImageNet-VGG_16/airplane_100/0127_103716/target_class_distribution.pth\n"
     ]
    }
   ],
   "source": [
    "for class_name in class_list:\n",
    "    csv_path = csv_path_template.format(class_name)\n",
    "    save_class_distribution(\n",
    "        csv_path=csv_path,\n",
    "        target_class_idx=class_idx_dict[class_name],\n",
    "        target_class_name=class_name,\n",
    "        show=False)\n",
    "    "
   ]
  },
  {
   "cell_type": "code",
   "execution_count": 30,
   "metadata": {},
   "outputs": [
    {
     "name": "stdout",
     "output_type": "stream",
     "text": [
      "[ 8732.    9620.98 10509.96 11398.94 12287.92 13176.9  14065.88 14954.86\n",
      " 15843.84 16732.82 17621.8  18510.78 19399.76 20288.74 21177.72 22066.7\n",
      " 22955.68 23844.66 24733.64 25622.62 26511.6  27400.58 28289.56 29178.54\n",
      " 30067.52 30956.5  31845.48 32734.46 33623.44 34512.42 35401.4  36290.38\n",
      " 37179.36 38068.34 38957.32 39846.3  40735.28 41624.26 42513.24 43402.22\n",
      " 44291.2  45180.18 46069.16 46958.14 47847.12 48736.1  49625.08 50514.06\n",
      " 51403.04 52292.02 53181.  ]\n"
     ]
    }
   ],
   "source": [
    "dic = torch.load('saved/edit/trials/CINIC10_ImageNet-VGG_16/airplane_100/0127_103716/target_class_distribution.pth')\n",
    "print(dic['histogram_bins'])"
   ]
  },
  {
   "cell_type": "markdown",
   "metadata": {},
   "source": [
    "### For a specific class, make bump edits that match the distribution of target class prediction"
   ]
  },
  {
   "cell_type": "code",
   "execution_count": 93,
   "metadata": {},
   "outputs": [],
   "source": [
    "# Load datasets\n",
    "config = ConfigParser(config_dict)\n",
    "data_loader_args = dict(config.config[\"data_loader\"][\"args\"])\n",
    "dataset_args = dict(config[\"dataset_args\"])\n",
    "\n",
    "val_image_paths = read_lists(config_dict['dataset_paths']['valid_images'])\n",
    "val_labels = read_lists(config_dict['dataset_paths']['valid_labels'])\n",
    "val_paths_data_loader = torch.utils.data.DataLoader(\n",
    "    module_data.CINIC10Dataset(\n",
    "        data_dir=\"\",\n",
    "        image_paths=val_image_paths,\n",
    "        labels=val_labels,\n",
    "        return_paths=True,\n",
    "        **dataset_args\n",
    "    ),\n",
    "    **data_loader_args\n",
    ")\n",
    "\n",
    "# Obtain loss function and metric functions\n",
    "loss_fn = getattr(module_loss, config['loss'])\n",
    "metric_fns = [getattr(module_metric, met) for met in config['metrics']]"
   ]
  },
  {
   "cell_type": "code",
   "execution_count": 94,
   "metadata": {},
   "outputs": [],
   "source": [
    "# Load model\n",
    "layernum = config.config['layernum']\n",
    "model = config.init_obj('arch', module_arch, layernum=layernum, device=device)\n",
    "model = model.eval()\n"
   ]
  },
  {
   "cell_type": "code",
   "execution_count": 67,
   "metadata": {},
   "outputs": [],
   "source": [
    "def predict_with_bump(data_loader,\n",
    "                      model,\n",
    "                      target_class_idx,\n",
    "                      bump_amount,\n",
    "                      loss_fn,\n",
    "                      metric_fns,\n",
    "                      device,\n",
    "                      save_path=None):\n",
    "    '''\n",
    "    Run the model on the data_loader, calculate metrics, and log\n",
    "\n",
    "    Arg(s):\n",
    "        data_loader : torch Dataloader\n",
    "            data to test on\n",
    "        model : torch.nn.Module\n",
    "            model to run\n",
    "        loss_fn : module\n",
    "            loss function\n",
    "        metric_fns : list[model.metric modules]\n",
    "            list of metric functions\n",
    "        device : torch.device\n",
    "        save_path : str or None\n",
    "            if not None, save metrics to save_path\n",
    "\n",
    "    Returns :\n",
    "        log : dict{} of metrics\n",
    "    '''\n",
    "\n",
    "    # Hold data for calculating metrics\n",
    "    outputs = []\n",
    "    targets = []\n",
    "\n",
    "    # Ensure model is in eval mode\n",
    "    if model.training:\n",
    "        model.eval()\n",
    "\n",
    "    with torch.no_grad():\n",
    "        for idx, item in enumerate(tqdm(data_loader)):\n",
    "            if len(item) == 3:\n",
    "                data, target, path = item\n",
    "            else:\n",
    "                data, target = item\n",
    "            data, target = data.to(device), target.to(device)\n",
    "            output = model(data)\n",
    "\n",
    "            # Store outputs and targets\n",
    "            outputs.append(output)\n",
    "            targets.append(target)\n",
    "\n",
    "    # Concatenate predictions and targets\n",
    "    outputs = torch.cat(outputs, dim=0)\n",
    "    targets = torch.cat(targets, dim=0)\n",
    "    \n",
    "    # Adjust output softmax by bump amount\n",
    "    outputs[:, target_class_idx] += bump_amount\n",
    "\n",
    "    # Calculate loss\n",
    "    loss = loss_fn(outputs, targets).item()\n",
    "    n_samples = len(data_loader.sampler)\n",
    "    log = {'loss': loss}\n",
    "\n",
    "    # Calculate predictions based on argmax\n",
    "    predictions = torch.argmax(outputs, dim=1)\n",
    "\n",
    "    # Move predictions and target to cpu and convert to numpy to calculate metrics\n",
    "    predictions = predictions.cpu().numpy()\n",
    "    targets = targets.cpu().numpy()\n",
    "\n",
    "    # Calculate metrics\n",
    "    log = module_metric.compute_metrics(\n",
    "        metric_fns=metric_fns,\n",
    "        prediction=predictions,\n",
    "        target=targets)\n",
    "\n",
    "    if save_path is not None:\n",
    "        ensure_dir(os.path.dirname(save_path))\n",
    "        torch.save(log, save_path)\n",
    "\n",
    "    return log"
   ]
  },
  {
   "cell_type": "code",
   "execution_count": 136,
   "metadata": {},
   "outputs": [],
   "source": [
    "def match_bump_edits(data_loader,\n",
    "                     model,\n",
    "                     loss_fn,\n",
    "                     metric_fns,\n",
    "                     device,\n",
    "                     bin_lows,\n",
    "                     target_class_idx,\n",
    "                     save_dir,\n",
    "                     debug=True):\n",
    "    '''\n",
    "    Get bins\n",
    "    for each bin, get the mean\n",
    "    until the target class predictions on val match the mean,\n",
    "        adjust the target\n",
    "    store (mean, bump amount)\n",
    "    '''\n",
    "    # save_dir = os.path.dirname(str(config.save_dir))\n",
    "    informal_log_path = os.path.join(save_dir, 'informal_log.txt')\n",
    "    bump_dictionary = {}\n",
    "    \n",
    "    n_bins = len(bin_lows) - 1\n",
    "    \n",
    "    n_bins_left = n_bins\n",
    "    min_bin = bin_lows[0]\n",
    "    bin_width = bin_lows[1] - bin_lows[0]\n",
    "    \n",
    "    bin_means = []\n",
    "    bump_amount = 0.2\n",
    "    delta = 0.1\n",
    "    delta1 = 1.25\n",
    "    \n",
    "    bumps = [-1 for i in range(n_bins)]\n",
    "    class_predictions = [-1 for i in range(n_bins)]\n",
    "    logs = [None for i in range(n_bins)]\n",
    "    \n",
    "    cur_bump_idx = 0\n",
    "    n_itr_on_current = 1\n",
    "    max_itr_on_current = 20\n",
    "    cur_itr = 0\n",
    "    max_delta = 5\n",
    "    delta_reset = 0.2\n",
    "    delta1_reset = 1.25\n",
    "    while cur_bump_idx < n_bins:\n",
    "        cur_itr += 1\n",
    "        # Reset delta if it drops below 0 or above max_delta\n",
    "        if delta <= 0 or delta > max_delta:\n",
    "            delta = delta_reset\n",
    "        if delta1 <= 1 or delta1 > 2:\n",
    "            delta1 = delta1_reset\n",
    "        if debug:\n",
    "            informal_log(\"[{}]***NEW ITR {}***\".format(\n",
    "                datetime.now().strftime(r'%m%d_%H%M%S'), cur_itr), informal_log_path)\n",
    "        if n_itr_on_current > max_itr_on_current:\n",
    "            if debug:\n",
    "                informal_log(\"Max iter of {} on current reached.\".format(max_itr_on_current), informal_log_path)\n",
    "                informal_log(\"Cur_bump_idx: {} goal n pred: {} actual n_pred: {}\"\n",
    "                      .format(cur_bump_idx, bin_lows[cur_bump_idx], target_class_predictions), informal_log_path)\n",
    "                informal_log(\"Cur delta: {} \".format(delta), informal_log_path)\n",
    "            break\n",
    "        if bumps[cur_bump_idx] > -1:\n",
    "            bump_amount = bumps[cur_bump_idx]\n",
    "            cur_bump_idx += 1\n",
    "            \n",
    "            continue\n",
    "        \n",
    "        log = predict_with_bump(\n",
    "            data_loader=data_loader,\n",
    "            model=model,\n",
    "            loss_fn=loss_fn,\n",
    "            metric_fns=metric_fns,\n",
    "            device=device,\n",
    "            target_class_idx=target_class_idx,\n",
    "            bump_amount=bump_amount,\n",
    "            save_path=None)\n",
    "        \n",
    "        # Obtain num. predictions for target class and determine bin idx\n",
    "        post_class_distribution = log['predicted_class_distribution']\n",
    "        target_class_predictions = post_class_distribution[target_class_idx]\n",
    "        bin_idx = math.floor((target_class_predictions - min_bin) / bin_width)\n",
    "        \n",
    "        # Check for out of bounds/already visited bin index\n",
    "        # if bin_idx < 0:\n",
    "        #     delta = delta * (-1 * bin_idx) * n_itr_on_current\n",
    "        #     # bump_amount += delta\n",
    "        #     bump_amount *= delta1\n",
    "        #     n_itr_on_current += 1\n",
    "        #     informal_log(\"bin_idx < cur_bump_idx ({} and {}) delta={} new bump_amount: {}\".format(\n",
    "        #         bin_idx, cur_bump_idx, delta, bump_amount), informal_log_path)\n",
    "        #     continue\n",
    "        # elif bin_idx < cur_bump_idx:\n",
    "        #     delta *= 2\n",
    "        #     bump_amount = bumps[cur_bump_idx-1] + delta #* n_itr_on_current\n",
    "        #     n_itr_on_current += 1\n",
    "        #     informal_log(\"bin_idx < cur_bump_idx ({} and {}) delta={} new bump_amount: {}\"\n",
    "        #           .format(bin_idx, cur_bump_idx, delta, bump_amount), informal_log_path)\n",
    "        #     continue\n",
    "        while bin_idx < cur_bump_idx:\n",
    "            # if cur_bump_idx == 0:\n",
    "            #     bump_amount *= delta1\n",
    "            # else:\n",
    "            #     bump_amount = bumps[cur_bump_idx - 1] * delta1\n",
    "            #     delta1 *= 2\n",
    "            bump_amount *= delta1\n",
    "                \n",
    "            informal_log(\"bin_idx < cur_bump_idx ({} and {}) delta1={} new bump_amount: {}\".format(\n",
    "                bin_idx, cur_bump_idx, delta1, bump_amount), informal_log_path)\n",
    "                \n",
    "            log = predict_with_bump(\n",
    "                data_loader=data_loader,\n",
    "                model=model,\n",
    "                loss_fn=loss_fn,\n",
    "                metric_fns=metric_fns,\n",
    "                device=device,\n",
    "                target_class_idx=target_class_idx,\n",
    "                bump_amount=bump_amount,\n",
    "                save_path=None)\n",
    "\n",
    "            # Obtain num. predictions for target class and determine bin idx\n",
    "            post_class_distribution = log['predicted_class_distribution']\n",
    "            target_class_predictions = post_class_distribution[target_class_idx]\n",
    "            bin_idx = math.floor((target_class_predictions - min_bin) / bin_width)\n",
    "                \n",
    "            \n",
    "            # continue\n",
    "        if bin_idx >= n_bins:\n",
    "            # delta = delta * (bin_idx - n_bins + 1)\n",
    "            # delta *= 2\n",
    "            if cur_bump_idx == 0:\n",
    "                bump_amount /= delta1\n",
    "                # bump_amount = max(bump_amount - delta, bumps[cur_bump_idx-1] + delta)\n",
    "            else:\n",
    "                bump_amount = (bump_amount + bumps[cur_bump_idx - 1]) / 2\n",
    "                # bump_amount -= delta\n",
    "            informal_log(\"bin_idx > n_bins ({}) delta1={} new bump_amount: {}\".format(\n",
    "                bin_idx, delta1, bump_amount), informal_log_path)\n",
    "            continue\n",
    "            \n",
    "        # Sanity check correct bin_idx\n",
    "        assert target_class_predictions >= bin_lows[bin_idx] and \\\n",
    "               target_class_predictions <= bin_lows[bin_idx+1]\n",
    "        \n",
    "        # If bump value for this bin yet, assign it\n",
    "        if bumps[bin_idx] == -1:\n",
    "            bumps[bin_idx] = bump_amount\n",
    "            class_predictions[bin_idx] = target_class_predictions\n",
    "            logs[bin_idx] = log\n",
    "            informal_log(\"assigned bin_idx {}\".format(bin_idx), informal_log_path)\n",
    "            informal_log(\"Cur bump_idx: {} bump amount: {} target_class_pred: {} bin_idx: {}\".format(\n",
    "                cur_bump_idx, bump_amount, target_class_predictions, bin_idx), informal_log_path)\n",
    "        \n",
    "        # Check if this is our current bin we're trying to fill\n",
    "        if bin_idx == cur_bump_idx:\n",
    "            cur_bump_idx += 1\n",
    "            # bump_amount += delta\n",
    "            bump_amount *= delta1\n",
    "            n_itr_on_current = 1\n",
    "            # delta = 0.1\n",
    "            if debug:\n",
    "                informal_log(\"updating cur_bump_idx to {}, bump_amount to {}\"\n",
    "                             .format(cur_bump_idx, bump_amount), informal_log_path)\n",
    "            \n",
    "        # If we're not at the current cell,\n",
    "        else:\n",
    "            # Decrease bump amount by half\n",
    "            if cur_bump_idx == 0:\n",
    "                bump_amount /= 2\n",
    "            # Set bump amount to something in the middle between current and last successful\n",
    "            else:\n",
    "                bump_amount = (bump_amount + bumps[cur_bump_idx-1]) / 2 \n",
    "            if debug:\n",
    "                informal_log(\"Overshot to bin {}. Decreasing bump amount to {} aiming for bin {}\".format(\n",
    "                    bin_idx, bump_amount, cur_bump_idx), informal_log_path)\n",
    "        informal_log(\"bumps: {}\".format(bumps), informal_log_path)\n",
    "\n",
    "        \n",
    "        # bump_amount += delta\n",
    "        # n_bins_left -= 1\n",
    "        \n",
    "        # return log\n",
    "        # if not os.path.isfile(save_path):\n",
    "        #     torch.save(log, save_path)\n",
    "    save_data = {\n",
    "        'bump_amounts': bumps,\n",
    "        'target_class_predictions': class_predictions,\n",
    "        'metrics': logs\n",
    "    }\n",
    "    save_path = os.path.join(save_dir, 'bumps_preds_metrics.pth'.format())\n",
    "    torch.save(save_data, save_path)\n",
    "    print(\"Saved data to {}\".format(save_path))\n",
    "            "
   ]
  },
  {
   "cell_type": "code",
   "execution_count": 137,
   "metadata": {
    "scrolled": true,
    "tags": []
   },
   "outputs": [
    {
     "name": "stdout",
     "output_type": "stream",
     "text": [
      "[0208_160948]***NEW ITR 1***\n"
     ]
    },
    {
     "name": "stderr",
     "output_type": "stream",
     "text": [
      "100%|█████████████████████████████████████████████████████████████████████| 274/274 [00:08<00:00, 31.26it/s]\n"
     ]
    },
    {
     "name": "stdout",
     "output_type": "stream",
     "text": [
      "assigned bin_idx 0\n",
      "Cur bump_idx: 0 bump amount: 0.2 target_class_pred: 9248 bin_idx: 0\n",
      "updating cur_bump_idx to 1, bump_amount to 0.25\n",
      "bumps: [0.2, -1, -1, -1, -1, -1, -1, -1, -1, -1, -1, -1, -1, -1, -1, -1, -1, -1, -1, -1, -1, -1, -1, -1, -1, -1, -1, -1, -1, -1, -1, -1, -1, -1, -1, -1, -1, -1, -1, -1, -1, -1, -1, -1, -1, -1, -1, -1, -1, -1]\n",
      "[0208_160957]***NEW ITR 2***\n"
     ]
    },
    {
     "name": "stderr",
     "output_type": "stream",
     "text": [
      "100%|█████████████████████████████████████████████████████████████████████| 274/274 [00:05<00:00, 45.80it/s]\n"
     ]
    },
    {
     "name": "stdout",
     "output_type": "stream",
     "text": [
      "bin_idx < cur_bump_idx (0 and 1) delta1=1.25 new bump_amount: 0.3125\n"
     ]
    },
    {
     "name": "stderr",
     "output_type": "stream",
     "text": [
      "100%|█████████████████████████████████████████████████████████████████████| 274/274 [00:06<00:00, 44.04it/s]\n"
     ]
    },
    {
     "name": "stdout",
     "output_type": "stream",
     "text": [
      "bin_idx < cur_bump_idx (0 and 1) delta1=1.25 new bump_amount: 0.390625\n"
     ]
    },
    {
     "name": "stderr",
     "output_type": "stream",
     "text": [
      "100%|█████████████████████████████████████████████████████████████████████| 274/274 [00:06<00:00, 43.76it/s]\n"
     ]
    },
    {
     "name": "stdout",
     "output_type": "stream",
     "text": [
      "bin_idx < cur_bump_idx (0 and 1) delta1=1.25 new bump_amount: 0.48828125\n"
     ]
    },
    {
     "name": "stderr",
     "output_type": "stream",
     "text": [
      "100%|█████████████████████████████████████████████████████████████████████| 274/274 [00:06<00:00, 44.29it/s]\n"
     ]
    },
    {
     "name": "stdout",
     "output_type": "stream",
     "text": [
      "bin_idx < cur_bump_idx (0 and 1) delta1=1.25 new bump_amount: 0.6103515625\n"
     ]
    },
    {
     "name": "stderr",
     "output_type": "stream",
     "text": [
      "100%|█████████████████████████████████████████████████████████████████████| 274/274 [00:06<00:00, 45.02it/s]\n"
     ]
    },
    {
     "name": "stdout",
     "output_type": "stream",
     "text": [
      "assigned bin_idx 1\n",
      "Cur bump_idx: 1 bump amount: 0.6103515625 target_class_pred: 9713 bin_idx: 1\n",
      "updating cur_bump_idx to 2, bump_amount to 0.762939453125\n",
      "bumps: [0.2, 0.6103515625, -1, -1, -1, -1, -1, -1, -1, -1, -1, -1, -1, -1, -1, -1, -1, -1, -1, -1, -1, -1, -1, -1, -1, -1, -1, -1, -1, -1, -1, -1, -1, -1, -1, -1, -1, -1, -1, -1, -1, -1, -1, -1, -1, -1, -1, -1, -1, -1]\n",
      "[0208_161028]***NEW ITR 3***\n"
     ]
    },
    {
     "name": "stderr",
     "output_type": "stream",
     "text": [
      "100%|█████████████████████████████████████████████████████████████████████| 274/274 [00:05<00:00, 46.73it/s]\n"
     ]
    },
    {
     "name": "stdout",
     "output_type": "stream",
     "text": [
      "bin_idx < cur_bump_idx (1 and 2) delta1=1.25 new bump_amount: 0.95367431640625\n"
     ]
    },
    {
     "name": "stderr",
     "output_type": "stream",
     "text": [
      "100%|█████████████████████████████████████████████████████████████████████| 274/274 [00:05<00:00, 46.87it/s]\n"
     ]
    },
    {
     "name": "stdout",
     "output_type": "stream",
     "text": [
      "bin_idx < cur_bump_idx (1 and 2) delta1=1.25 new bump_amount: 1.1920928955078125\n"
     ]
    },
    {
     "name": "stderr",
     "output_type": "stream",
     "text": [
      "100%|█████████████████████████████████████████████████████████████████████| 274/274 [00:05<00:00, 46.95it/s]\n"
     ]
    },
    {
     "name": "stdout",
     "output_type": "stream",
     "text": [
      "bin_idx < cur_bump_idx (1 and 2) delta1=1.25 new bump_amount: 1.4901161193847656\n"
     ]
    },
    {
     "name": "stderr",
     "output_type": "stream",
     "text": [
      "100%|█████████████████████████████████████████████████████████████████████| 274/274 [00:05<00:00, 46.57it/s]\n"
     ]
    },
    {
     "name": "stdout",
     "output_type": "stream",
     "text": [
      "assigned bin_idx 2\n",
      "Cur bump_idx: 2 bump amount: 1.4901161193847656 target_class_pred: 10944 bin_idx: 2\n",
      "updating cur_bump_idx to 3, bump_amount to 1.862645149230957\n",
      "bumps: [0.2, 0.6103515625, 1.4901161193847656, -1, -1, -1, -1, -1, -1, -1, -1, -1, -1, -1, -1, -1, -1, -1, -1, -1, -1, -1, -1, -1, -1, -1, -1, -1, -1, -1, -1, -1, -1, -1, -1, -1, -1, -1, -1, -1, -1, -1, -1, -1, -1, -1, -1, -1, -1, -1]\n",
      "[0208_161052]***NEW ITR 4***\n"
     ]
    },
    {
     "name": "stderr",
     "output_type": "stream",
     "text": [
      "100%|█████████████████████████████████████████████████████████████████████| 274/274 [00:08<00:00, 32.39it/s]\n"
     ]
    },
    {
     "name": "stdout",
     "output_type": "stream",
     "text": [
      "assigned bin_idx 3\n",
      "Cur bump_idx: 3 bump amount: 1.862645149230957 target_class_pred: 11625 bin_idx: 3\n",
      "updating cur_bump_idx to 4, bump_amount to 2.3283064365386963\n",
      "bumps: [0.2, 0.6103515625, 1.4901161193847656, 1.862645149230957, -1, -1, -1, -1, -1, -1, -1, -1, -1, -1, -1, -1, -1, -1, -1, -1, -1, -1, -1, -1, -1, -1, -1, -1, -1, -1, -1, -1, -1, -1, -1, -1, -1, -1, -1, -1, -1, -1, -1, -1, -1, -1, -1, -1, -1, -1]\n",
      "[0208_161100]***NEW ITR 5***\n"
     ]
    },
    {
     "name": "stderr",
     "output_type": "stream",
     "text": [
      "100%|█████████████████████████████████████████████████████████████████████| 274/274 [00:05<00:00, 48.61it/s]\n"
     ]
    },
    {
     "name": "stdout",
     "output_type": "stream",
     "text": [
      "assigned bin_idx 4\n",
      "Cur bump_idx: 4 bump amount: 2.3283064365386963 target_class_pred: 12759 bin_idx: 4\n",
      "updating cur_bump_idx to 5, bump_amount to 2.9103830456733704\n",
      "bumps: [0.2, 0.6103515625, 1.4901161193847656, 1.862645149230957, 2.3283064365386963, -1, -1, -1, -1, -1, -1, -1, -1, -1, -1, -1, -1, -1, -1, -1, -1, -1, -1, -1, -1, -1, -1, -1, -1, -1, -1, -1, -1, -1, -1, -1, -1, -1, -1, -1, -1, -1, -1, -1, -1, -1, -1, -1, -1, -1]\n",
      "[0208_161106]***NEW ITR 6***\n"
     ]
    },
    {
     "name": "stderr",
     "output_type": "stream",
     "text": [
      "100%|█████████████████████████████████████████████████████████████████████| 274/274 [00:05<00:00, 48.41it/s]\n"
     ]
    },
    {
     "name": "stdout",
     "output_type": "stream",
     "text": [
      "assigned bin_idx 6\n",
      "Cur bump_idx: 5 bump amount: 2.9103830456733704 target_class_pred: 14687 bin_idx: 6\n",
      "Overshot to bin 6. Decreasing bump amount to 2.6193447411060333 aiming for bin 5\n",
      "bumps: [0.2, 0.6103515625, 1.4901161193847656, 1.862645149230957, 2.3283064365386963, -1, 2.9103830456733704, -1, -1, -1, -1, -1, -1, -1, -1, -1, -1, -1, -1, -1, -1, -1, -1, -1, -1, -1, -1, -1, -1, -1, -1, -1, -1, -1, -1, -1, -1, -1, -1, -1, -1, -1, -1, -1, -1, -1, -1, -1, -1, -1]\n",
      "[0208_161111]***NEW ITR 7***\n"
     ]
    },
    {
     "name": "stderr",
     "output_type": "stream",
     "text": [
      "100%|█████████████████████████████████████████████████████████████████████| 274/274 [00:05<00:00, 47.57it/s]\n"
     ]
    },
    {
     "name": "stdout",
     "output_type": "stream",
     "text": [
      "assigned bin_idx 5\n",
      "Cur bump_idx: 5 bump amount: 2.6193447411060333 target_class_pred: 13638 bin_idx: 5\n",
      "updating cur_bump_idx to 6, bump_amount to 3.2741809263825417\n",
      "bumps: [0.2, 0.6103515625, 1.4901161193847656, 1.862645149230957, 2.3283064365386963, 2.6193447411060333, 2.9103830456733704, -1, -1, -1, -1, -1, -1, -1, -1, -1, -1, -1, -1, -1, -1, -1, -1, -1, -1, -1, -1, -1, -1, -1, -1, -1, -1, -1, -1, -1, -1, -1, -1, -1, -1, -1, -1, -1, -1, -1, -1, -1, -1, -1]\n",
      "[0208_161117]***NEW ITR 8***\n",
      "[0208_161117]***NEW ITR 9***\n"
     ]
    },
    {
     "name": "stderr",
     "output_type": "stream",
     "text": [
      "100%|█████████████████████████████████████████████████████████████████████| 274/274 [00:05<00:00, 49.12it/s]\n"
     ]
    },
    {
     "name": "stdout",
     "output_type": "stream",
     "text": [
      "bin_idx < cur_bump_idx (6 and 7) delta1=1.25 new bump_amount: 3.637978807091713\n"
     ]
    },
    {
     "name": "stderr",
     "output_type": "stream",
     "text": [
      "100%|█████████████████████████████████████████████████████████████████████| 274/274 [00:05<00:00, 47.52it/s]\n"
     ]
    },
    {
     "name": "stdout",
     "output_type": "stream",
     "text": [
      "assigned bin_idx 10\n",
      "Cur bump_idx: 7 bump amount: 3.637978807091713 target_class_pred: 18249 bin_idx: 10\n",
      "Overshot to bin 10. Decreasing bump amount to 3.2741809263825417 aiming for bin 7\n",
      "bumps: [0.2, 0.6103515625, 1.4901161193847656, 1.862645149230957, 2.3283064365386963, 2.6193447411060333, 2.9103830456733704, -1, -1, -1, 3.637978807091713, -1, -1, -1, -1, -1, -1, -1, -1, -1, -1, -1, -1, -1, -1, -1, -1, -1, -1, -1, -1, -1, -1, -1, -1, -1, -1, -1, -1, -1, -1, -1, -1, -1, -1, -1, -1, -1, -1, -1]\n",
      "[0208_161129]***NEW ITR 10***\n"
     ]
    },
    {
     "name": "stderr",
     "output_type": "stream",
     "text": [
      "100%|█████████████████████████████████████████████████████████████████████| 274/274 [00:05<00:00, 48.27it/s]\n"
     ]
    },
    {
     "name": "stdout",
     "output_type": "stream",
     "text": [
      "assigned bin_idx 8\n",
      "Cur bump_idx: 7 bump amount: 3.2741809263825417 target_class_pred: 16310 bin_idx: 8\n",
      "Overshot to bin 8. Decreasing bump amount to 3.092281986027956 aiming for bin 7\n",
      "bumps: [0.2, 0.6103515625, 1.4901161193847656, 1.862645149230957, 2.3283064365386963, 2.6193447411060333, 2.9103830456733704, -1, 3.2741809263825417, -1, 3.637978807091713, -1, -1, -1, -1, -1, -1, -1, -1, -1, -1, -1, -1, -1, -1, -1, -1, -1, -1, -1, -1, -1, -1, -1, -1, -1, -1, -1, -1, -1, -1, -1, -1, -1, -1, -1, -1, -1, -1, -1]\n",
      "[0208_161134]***NEW ITR 11***\n"
     ]
    },
    {
     "name": "stderr",
     "output_type": "stream",
     "text": [
      "100%|█████████████████████████████████████████████████████████████████████| 274/274 [00:05<00:00, 48.31it/s]\n"
     ]
    },
    {
     "name": "stdout",
     "output_type": "stream",
     "text": [
      "assigned bin_idx 7\n",
      "Cur bump_idx: 7 bump amount: 3.092281986027956 target_class_pred: 15413 bin_idx: 7\n",
      "updating cur_bump_idx to 8, bump_amount to 3.865352482534945\n",
      "bumps: [0.2, 0.6103515625, 1.4901161193847656, 1.862645149230957, 2.3283064365386963, 2.6193447411060333, 2.9103830456733704, 3.092281986027956, 3.2741809263825417, -1, 3.637978807091713, -1, -1, -1, -1, -1, -1, -1, -1, -1, -1, -1, -1, -1, -1, -1, -1, -1, -1, -1, -1, -1, -1, -1, -1, -1, -1, -1, -1, -1, -1, -1, -1, -1, -1, -1, -1, -1, -1, -1]\n",
      "[0208_161140]***NEW ITR 12***\n",
      "[0208_161140]***NEW ITR 13***\n"
     ]
    },
    {
     "name": "stderr",
     "output_type": "stream",
     "text": [
      "100%|█████████████████████████████████████████████████████████████████████| 274/274 [00:05<00:00, 48.85it/s]\n"
     ]
    },
    {
     "name": "stdout",
     "output_type": "stream",
     "text": [
      "bin_idx < cur_bump_idx (8 and 9) delta1=1.25 new bump_amount: 4.092726157978177\n"
     ]
    },
    {
     "name": "stderr",
     "output_type": "stream",
     "text": [
      "100%|█████████████████████████████████████████████████████████████████████| 274/274 [00:05<00:00, 47.67it/s]\n"
     ]
    },
    {
     "name": "stdout",
     "output_type": "stream",
     "text": [
      "assigned bin_idx 13\n",
      "Cur bump_idx: 9 bump amount: 4.092726157978177 target_class_pred: 21072 bin_idx: 13\n",
      "Overshot to bin 13. Decreasing bump amount to 3.6834535421803594 aiming for bin 9\n",
      "bumps: [0.2, 0.6103515625, 1.4901161193847656, 1.862645149230957, 2.3283064365386963, 2.6193447411060333, 2.9103830456733704, 3.092281986027956, 3.2741809263825417, -1, 3.637978807091713, -1, -1, 4.092726157978177, -1, -1, -1, -1, -1, -1, -1, -1, -1, -1, -1, -1, -1, -1, -1, -1, -1, -1, -1, -1, -1, -1, -1, -1, -1, -1, -1, -1, -1, -1, -1, -1, -1, -1, -1, -1]\n",
      "[0208_161151]***NEW ITR 14***\n"
     ]
    },
    {
     "name": "stderr",
     "output_type": "stream",
     "text": [
      "100%|█████████████████████████████████████████████████████████████████████| 274/274 [00:05<00:00, 48.94it/s]\n"
     ]
    },
    {
     "name": "stdout",
     "output_type": "stream",
     "text": [
      "Overshot to bin 10. Decreasing bump amount to 3.4788172342814505 aiming for bin 9\n",
      "bumps: [0.2, 0.6103515625, 1.4901161193847656, 1.862645149230957, 2.3283064365386963, 2.6193447411060333, 2.9103830456733704, 3.092281986027956, 3.2741809263825417, -1, 3.637978807091713, -1, -1, 4.092726157978177, -1, -1, -1, -1, -1, -1, -1, -1, -1, -1, -1, -1, -1, -1, -1, -1, -1, -1, -1, -1, -1, -1, -1, -1, -1, -1, -1, -1, -1, -1, -1, -1, -1, -1, -1, -1]\n",
      "[0208_161157]***NEW ITR 15***\n"
     ]
    },
    {
     "name": "stderr",
     "output_type": "stream",
     "text": [
      "100%|█████████████████████████████████████████████████████████████████████| 274/274 [00:08<00:00, 31.34it/s]\n"
     ]
    },
    {
     "name": "stdout",
     "output_type": "stream",
     "text": [
      "assigned bin_idx 9\n",
      "Cur bump_idx: 9 bump amount: 3.4788172342814505 target_class_pred: 17316 bin_idx: 9\n",
      "updating cur_bump_idx to 10, bump_amount to 4.348521542851813\n",
      "bumps: [0.2, 0.6103515625, 1.4901161193847656, 1.862645149230957, 2.3283064365386963, 2.6193447411060333, 2.9103830456733704, 3.092281986027956, 3.2741809263825417, 3.4788172342814505, 3.637978807091713, -1, -1, 4.092726157978177, -1, -1, -1, -1, -1, -1, -1, -1, -1, -1, -1, -1, -1, -1, -1, -1, -1, -1, -1, -1, -1, -1, -1, -1, -1, -1, -1, -1, -1, -1, -1, -1, -1, -1, -1, -1]\n",
      "[0208_161206]***NEW ITR 16***\n",
      "[0208_161206]***NEW ITR 17***\n"
     ]
    },
    {
     "name": "stderr",
     "output_type": "stream",
     "text": [
      "100%|█████████████████████████████████████████████████████████████████████| 274/274 [00:05<00:00, 48.98it/s]\n"
     ]
    },
    {
     "name": "stdout",
     "output_type": "stream",
     "text": [
      "bin_idx < cur_bump_idx (10 and 11) delta1=1.25 new bump_amount: 4.547473508864641\n"
     ]
    },
    {
     "name": "stderr",
     "output_type": "stream",
     "text": [
      "100%|█████████████████████████████████████████████████████████████████████| 274/274 [00:05<00:00, 46.74it/s]\n"
     ]
    },
    {
     "name": "stdout",
     "output_type": "stream",
     "text": [
      "assigned bin_idx 17\n",
      "Cur bump_idx: 11 bump amount: 4.547473508864641 target_class_pred: 24313 bin_idx: 17\n",
      "Overshot to bin 17. Decreasing bump amount to 4.092726157978177 aiming for bin 11\n",
      "bumps: [0.2, 0.6103515625, 1.4901161193847656, 1.862645149230957, 2.3283064365386963, 2.6193447411060333, 2.9103830456733704, 3.092281986027956, 3.2741809263825417, 3.4788172342814505, 3.637978807091713, -1, -1, 4.092726157978177, -1, -1, -1, 4.547473508864641, -1, -1, -1, -1, -1, -1, -1, -1, -1, -1, -1, -1, -1, -1, -1, -1, -1, -1, -1, -1, -1, -1, -1, -1, -1, -1, -1, -1, -1, -1, -1, -1]\n",
      "[0208_161217]***NEW ITR 18***\n"
     ]
    },
    {
     "name": "stderr",
     "output_type": "stream",
     "text": [
      "100%|█████████████████████████████████████████████████████████████████████| 274/274 [00:05<00:00, 47.64it/s]\n"
     ]
    },
    {
     "name": "stdout",
     "output_type": "stream",
     "text": [
      "Overshot to bin 13. Decreasing bump amount to 3.865352482534945 aiming for bin 11\n",
      "bumps: [0.2, 0.6103515625, 1.4901161193847656, 1.862645149230957, 2.3283064365386963, 2.6193447411060333, 2.9103830456733704, 3.092281986027956, 3.2741809263825417, 3.4788172342814505, 3.637978807091713, -1, -1, 4.092726157978177, -1, -1, -1, 4.547473508864641, -1, -1, -1, -1, -1, -1, -1, -1, -1, -1, -1, -1, -1, -1, -1, -1, -1, -1, -1, -1, -1, -1, -1, -1, -1, -1, -1, -1, -1, -1, -1, -1]\n",
      "[0208_161223]***NEW ITR 19***\n"
     ]
    },
    {
     "name": "stderr",
     "output_type": "stream",
     "text": [
      "100%|█████████████████████████████████████████████████████████████████████| 274/274 [00:05<00:00, 48.88it/s]\n"
     ]
    },
    {
     "name": "stdout",
     "output_type": "stream",
     "text": [
      "assigned bin_idx 12\n",
      "Cur bump_idx: 11 bump amount: 3.865352482534945 target_class_pred: 19581 bin_idx: 12\n",
      "Overshot to bin 12. Decreasing bump amount to 3.751665644813329 aiming for bin 11\n",
      "bumps: [0.2, 0.6103515625, 1.4901161193847656, 1.862645149230957, 2.3283064365386963, 2.6193447411060333, 2.9103830456733704, 3.092281986027956, 3.2741809263825417, 3.4788172342814505, 3.637978807091713, -1, 3.865352482534945, 4.092726157978177, -1, -1, -1, 4.547473508864641, -1, -1, -1, -1, -1, -1, -1, -1, -1, -1, -1, -1, -1, -1, -1, -1, -1, -1, -1, -1, -1, -1, -1, -1, -1, -1, -1, -1, -1, -1, -1, -1]\n",
      "[0208_161229]***NEW ITR 20***\n"
     ]
    },
    {
     "name": "stderr",
     "output_type": "stream",
     "text": [
      "100%|█████████████████████████████████████████████████████████████████████| 274/274 [00:05<00:00, 47.49it/s]\n"
     ]
    },
    {
     "name": "stdout",
     "output_type": "stream",
     "text": [
      "assigned bin_idx 11\n",
      "Cur bump_idx: 11 bump amount: 3.751665644813329 target_class_pred: 18853 bin_idx: 11\n",
      "updating cur_bump_idx to 12, bump_amount to 4.689582056016661\n",
      "bumps: [0.2, 0.6103515625, 1.4901161193847656, 1.862645149230957, 2.3283064365386963, 2.6193447411060333, 2.9103830456733704, 3.092281986027956, 3.2741809263825417, 3.4788172342814505, 3.637978807091713, 3.751665644813329, 3.865352482534945, 4.092726157978177, -1, -1, -1, 4.547473508864641, -1, -1, -1, -1, -1, -1, -1, -1, -1, -1, -1, -1, -1, -1, -1, -1, -1, -1, -1, -1, -1, -1, -1, -1, -1, -1, -1, -1, -1, -1, -1, -1]\n",
      "[0208_161234]***NEW ITR 21***\n",
      "[0208_161234]***NEW ITR 22***\n",
      "[0208_161234]***NEW ITR 23***\n"
     ]
    },
    {
     "name": "stderr",
     "output_type": "stream",
     "text": [
      "100%|█████████████████████████████████████████████████████████████████████| 274/274 [00:05<00:00, 47.24it/s]\n"
     ]
    },
    {
     "name": "stdout",
     "output_type": "stream",
     "text": [
      "bin_idx < cur_bump_idx (13 and 14) delta1=1.25 new bump_amount: 5.115907697472721\n"
     ]
    },
    {
     "name": "stderr",
     "output_type": "stream",
     "text": [
      "100%|█████████████████████████████████████████████████████████████████████| 274/274 [00:06<00:00, 45.59it/s]\n"
     ]
    },
    {
     "name": "stdout",
     "output_type": "stream",
     "text": [
      "assigned bin_idx 22\n",
      "Cur bump_idx: 14 bump amount: 5.115907697472721 target_class_pred: 28773 bin_idx: 22\n",
      "Overshot to bin 22. Decreasing bump amount to 4.604316927725449 aiming for bin 14\n",
      "bumps: [0.2, 0.6103515625, 1.4901161193847656, 1.862645149230957, 2.3283064365386963, 2.6193447411060333, 2.9103830456733704, 3.092281986027956, 3.2741809263825417, 3.4788172342814505, 3.637978807091713, 3.751665644813329, 3.865352482534945, 4.092726157978177, -1, -1, -1, 4.547473508864641, -1, -1, -1, -1, 5.115907697472721, -1, -1, -1, -1, -1, -1, -1, -1, -1, -1, -1, -1, -1, -1, -1, -1, -1, -1, -1, -1, -1, -1, -1, -1, -1, -1, -1]\n",
      "[0208_161246]***NEW ITR 24***\n"
     ]
    },
    {
     "name": "stderr",
     "output_type": "stream",
     "text": [
      "100%|█████████████████████████████████████████████████████████████████████| 274/274 [00:05<00:00, 47.92it/s]\n"
     ]
    },
    {
     "name": "stdout",
     "output_type": "stream",
     "text": [
      "assigned bin_idx 18\n",
      "Cur bump_idx: 14 bump amount: 4.604316927725449 target_class_pred: 24741 bin_idx: 18\n",
      "Overshot to bin 18. Decreasing bump amount to 4.348521542851813 aiming for bin 14\n",
      "bumps: [0.2, 0.6103515625, 1.4901161193847656, 1.862645149230957, 2.3283064365386963, 2.6193447411060333, 2.9103830456733704, 3.092281986027956, 3.2741809263825417, 3.4788172342814505, 3.637978807091713, 3.751665644813329, 3.865352482534945, 4.092726157978177, -1, -1, -1, 4.547473508864641, 4.604316927725449, -1, -1, -1, 5.115907697472721, -1, -1, -1, -1, -1, -1, -1, -1, -1, -1, -1, -1, -1, -1, -1, -1, -1, -1, -1, -1, -1, -1, -1, -1, -1, -1, -1]\n",
      "[0208_161252]***NEW ITR 25***\n"
     ]
    },
    {
     "name": "stderr",
     "output_type": "stream",
     "text": [
      "100%|█████████████████████████████████████████████████████████████████████| 274/274 [00:06<00:00, 45.50it/s]\n"
     ]
    },
    {
     "name": "stdout",
     "output_type": "stream",
     "text": [
      "assigned bin_idx 15\n",
      "Cur bump_idx: 14 bump amount: 4.348521542851813 target_class_pred: 22881 bin_idx: 15\n",
      "Overshot to bin 15. Decreasing bump amount to 4.220623850414995 aiming for bin 14\n",
      "bumps: [0.2, 0.6103515625, 1.4901161193847656, 1.862645149230957, 2.3283064365386963, 2.6193447411060333, 2.9103830456733704, 3.092281986027956, 3.2741809263825417, 3.4788172342814505, 3.637978807091713, 3.751665644813329, 3.865352482534945, 4.092726157978177, -1, 4.348521542851813, -1, 4.547473508864641, 4.604316927725449, -1, -1, -1, 5.115907697472721, -1, -1, -1, -1, -1, -1, -1, -1, -1, -1, -1, -1, -1, -1, -1, -1, -1, -1, -1, -1, -1, -1, -1, -1, -1, -1, -1]\n",
      "[0208_161258]***NEW ITR 26***\n"
     ]
    },
    {
     "name": "stderr",
     "output_type": "stream",
     "text": [
      "100%|█████████████████████████████████████████████████████████████████████| 274/274 [00:10<00:00, 27.00it/s]\n"
     ]
    },
    {
     "name": "stdout",
     "output_type": "stream",
     "text": [
      "assigned bin_idx 14\n",
      "Cur bump_idx: 14 bump amount: 4.220623850414995 target_class_pred: 21957 bin_idx: 14\n",
      "updating cur_bump_idx to 15, bump_amount to 5.275779813018744\n",
      "bumps: [0.2, 0.6103515625, 1.4901161193847656, 1.862645149230957, 2.3283064365386963, 2.6193447411060333, 2.9103830456733704, 3.092281986027956, 3.2741809263825417, 3.4788172342814505, 3.637978807091713, 3.751665644813329, 3.865352482534945, 4.092726157978177, 4.220623850414995, 4.348521542851813, -1, 4.547473508864641, 4.604316927725449, -1, -1, -1, 5.115907697472721, -1, -1, -1, -1, -1, -1, -1, -1, -1, -1, -1, -1, -1, -1, -1, -1, -1, -1, -1, -1, -1, -1, -1, -1, -1, -1, -1]\n",
      "[0208_161308]***NEW ITR 27***\n",
      "[0208_161308]***NEW ITR 28***\n"
     ]
    },
    {
     "name": "stderr",
     "output_type": "stream",
     "text": [
      "100%|█████████████████████████████████████████████████████████████████████| 274/274 [00:06<00:00, 41.15it/s]\n"
     ]
    },
    {
     "name": "stdout",
     "output_type": "stream",
     "text": [
      "bin_idx < cur_bump_idx (15 and 16) delta1=1.25 new bump_amount: 5.435651928564766\n"
     ]
    },
    {
     "name": "stderr",
     "output_type": "stream",
     "text": [
      "100%|█████████████████████████████████████████████████████████████████████| 274/274 [00:06<00:00, 39.70it/s]\n"
     ]
    },
    {
     "name": "stdout",
     "output_type": "stream",
     "text": [
      "assigned bin_idx 25\n",
      "Cur bump_idx: 16 bump amount: 5.435651928564766 target_class_pred: 31443 bin_idx: 25\n",
      "Overshot to bin 25. Decreasing bump amount to 4.89208673570829 aiming for bin 16\n",
      "bumps: [0.2, 0.6103515625, 1.4901161193847656, 1.862645149230957, 2.3283064365386963, 2.6193447411060333, 2.9103830456733704, 3.092281986027956, 3.2741809263825417, 3.4788172342814505, 3.637978807091713, 3.751665644813329, 3.865352482534945, 4.092726157978177, 4.220623850414995, 4.348521542851813, -1, 4.547473508864641, 4.604316927725449, -1, -1, -1, 5.115907697472721, -1, -1, 5.435651928564766, -1, -1, -1, -1, -1, -1, -1, -1, -1, -1, -1, -1, -1, -1, -1, -1, -1, -1, -1, -1, -1, -1, -1, -1]\n",
      "[0208_161322]***NEW ITR 29***\n"
     ]
    },
    {
     "name": "stderr",
     "output_type": "stream",
     "text": [
      "100%|█████████████████████████████████████████████████████████████████████| 274/274 [00:06<00:00, 41.45it/s]\n"
     ]
    },
    {
     "name": "stdout",
     "output_type": "stream",
     "text": [
      "assigned bin_idx 20\n",
      "Cur bump_idx: 16 bump amount: 4.89208673570829 target_class_pred: 26961 bin_idx: 20\n",
      "Overshot to bin 20. Decreasing bump amount to 4.6203041392800515 aiming for bin 16\n",
      "bumps: [0.2, 0.6103515625, 1.4901161193847656, 1.862645149230957, 2.3283064365386963, 2.6193447411060333, 2.9103830456733704, 3.092281986027956, 3.2741809263825417, 3.4788172342814505, 3.637978807091713, 3.751665644813329, 3.865352482534945, 4.092726157978177, 4.220623850414995, 4.348521542851813, -1, 4.547473508864641, 4.604316927725449, -1, 4.89208673570829, -1, 5.115907697472721, -1, -1, 5.435651928564766, -1, -1, -1, -1, -1, -1, -1, -1, -1, -1, -1, -1, -1, -1, -1, -1, -1, -1, -1, -1, -1, -1, -1, -1]\n",
      "[0208_161329]***NEW ITR 30***\n"
     ]
    },
    {
     "name": "stderr",
     "output_type": "stream",
     "text": [
      "100%|█████████████████████████████████████████████████████████████████████| 274/274 [00:06<00:00, 44.22it/s]\n"
     ]
    },
    {
     "name": "stdout",
     "output_type": "stream",
     "text": [
      "Overshot to bin 18. Decreasing bump amount to 4.484412841065932 aiming for bin 16\n",
      "bumps: [0.2, 0.6103515625, 1.4901161193847656, 1.862645149230957, 2.3283064365386963, 2.6193447411060333, 2.9103830456733704, 3.092281986027956, 3.2741809263825417, 3.4788172342814505, 3.637978807091713, 3.751665644813329, 3.865352482534945, 4.092726157978177, 4.220623850414995, 4.348521542851813, -1, 4.547473508864641, 4.604316927725449, -1, 4.89208673570829, -1, 5.115907697472721, -1, -1, 5.435651928564766, -1, -1, -1, -1, -1, -1, -1, -1, -1, -1, -1, -1, -1, -1, -1, -1, -1, -1, -1, -1, -1, -1, -1, -1]\n",
      "[0208_161335]***NEW ITR 31***\n"
     ]
    },
    {
     "name": "stderr",
     "output_type": "stream",
     "text": [
      "100%|█████████████████████████████████████████████████████████████████████| 274/274 [00:05<00:00, 46.63it/s]\n"
     ]
    },
    {
     "name": "stdout",
     "output_type": "stream",
     "text": [
      "Overshot to bin 17. Decreasing bump amount to 4.416467191958873 aiming for bin 16\n",
      "bumps: [0.2, 0.6103515625, 1.4901161193847656, 1.862645149230957, 2.3283064365386963, 2.6193447411060333, 2.9103830456733704, 3.092281986027956, 3.2741809263825417, 3.4788172342814505, 3.637978807091713, 3.751665644813329, 3.865352482534945, 4.092726157978177, 4.220623850414995, 4.348521542851813, -1, 4.547473508864641, 4.604316927725449, -1, 4.89208673570829, -1, 5.115907697472721, -1, -1, 5.435651928564766, -1, -1, -1, -1, -1, -1, -1, -1, -1, -1, -1, -1, -1, -1, -1, -1, -1, -1, -1, -1, -1, -1, -1, -1]\n",
      "[0208_161341]***NEW ITR 32***\n"
     ]
    },
    {
     "name": "stderr",
     "output_type": "stream",
     "text": [
      "100%|█████████████████████████████████████████████████████████████████████| 274/274 [00:05<00:00, 48.41it/s]\n"
     ]
    },
    {
     "name": "stdout",
     "output_type": "stream",
     "text": [
      "assigned bin_idx 16\n",
      "Cur bump_idx: 16 bump amount: 4.416467191958873 target_class_pred: 23358 bin_idx: 16\n",
      "updating cur_bump_idx to 17, bump_amount to 5.520583989948591\n",
      "bumps: [0.2, 0.6103515625, 1.4901161193847656, 1.862645149230957, 2.3283064365386963, 2.6193447411060333, 2.9103830456733704, 3.092281986027956, 3.2741809263825417, 3.4788172342814505, 3.637978807091713, 3.751665644813329, 3.865352482534945, 4.092726157978177, 4.220623850414995, 4.348521542851813, 4.416467191958873, 4.547473508864641, 4.604316927725449, -1, 4.89208673570829, -1, 5.115907697472721, -1, -1, 5.435651928564766, -1, -1, -1, -1, -1, -1, -1, -1, -1, -1, -1, -1, -1, -1, -1, -1, -1, -1, -1, -1, -1, -1, -1, -1]\n",
      "[0208_161346]***NEW ITR 33***\n",
      "[0208_161346]***NEW ITR 34***\n",
      "[0208_161346]***NEW ITR 35***\n"
     ]
    },
    {
     "name": "stderr",
     "output_type": "stream",
     "text": [
      "100%|█████████████████████████████████████████████████████████████████████| 274/274 [00:05<00:00, 49.29it/s]\n"
     ]
    },
    {
     "name": "stdout",
     "output_type": "stream",
     "text": [
      "bin_idx < cur_bump_idx (18 and 19) delta1=1.25 new bump_amount: 5.7553961596568115\n"
     ]
    },
    {
     "name": "stderr",
     "output_type": "stream",
     "text": [
      "100%|█████████████████████████████████████████████████████████████████████| 274/274 [00:05<00:00, 48.99it/s]\n"
     ]
    },
    {
     "name": "stdout",
     "output_type": "stream",
     "text": [
      "assigned bin_idx 30\n",
      "Cur bump_idx: 19 bump amount: 5.7553961596568115 target_class_pred: 35465 bin_idx: 30\n",
      "Overshot to bin 30. Decreasing bump amount to 5.17985654369113 aiming for bin 19\n",
      "bumps: [0.2, 0.6103515625, 1.4901161193847656, 1.862645149230957, 2.3283064365386963, 2.6193447411060333, 2.9103830456733704, 3.092281986027956, 3.2741809263825417, 3.4788172342814505, 3.637978807091713, 3.751665644813329, 3.865352482534945, 4.092726157978177, 4.220623850414995, 4.348521542851813, 4.416467191958873, 4.547473508864641, 4.604316927725449, -1, 4.89208673570829, -1, 5.115907697472721, -1, -1, 5.435651928564766, -1, -1, -1, -1, 5.7553961596568115, -1, -1, -1, -1, -1, -1, -1, -1, -1, -1, -1, -1, -1, -1, -1, -1, -1, -1, -1]\n",
      "[0208_161358]***NEW ITR 36***\n"
     ]
    },
    {
     "name": "stderr",
     "output_type": "stream",
     "text": [
      "100%|█████████████████████████████████████████████████████████████████████| 274/274 [00:06<00:00, 45.30it/s]\n"
     ]
    },
    {
     "name": "stdout",
     "output_type": "stream",
     "text": [
      "assigned bin_idx 23\n",
      "Cur bump_idx: 19 bump amount: 5.17985654369113 target_class_pred: 29303 bin_idx: 23\n",
      "Overshot to bin 23. Decreasing bump amount to 4.89208673570829 aiming for bin 19\n",
      "bumps: [0.2, 0.6103515625, 1.4901161193847656, 1.862645149230957, 2.3283064365386963, 2.6193447411060333, 2.9103830456733704, 3.092281986027956, 3.2741809263825417, 3.4788172342814505, 3.637978807091713, 3.751665644813329, 3.865352482534945, 4.092726157978177, 4.220623850414995, 4.348521542851813, 4.416467191958873, 4.547473508864641, 4.604316927725449, -1, 4.89208673570829, -1, 5.115907697472721, 5.17985654369113, -1, 5.435651928564766, -1, -1, -1, -1, 5.7553961596568115, -1, -1, -1, -1, -1, -1, -1, -1, -1, -1, -1, -1, -1, -1, -1, -1, -1, -1, -1]\n",
      "[0208_161404]***NEW ITR 37***\n"
     ]
    },
    {
     "name": "stderr",
     "output_type": "stream",
     "text": [
      "100%|█████████████████████████████████████████████████████████████████████| 274/274 [00:09<00:00, 30.28it/s]\n"
     ]
    },
    {
     "name": "stdout",
     "output_type": "stream",
     "text": [
      "Overshot to bin 20. Decreasing bump amount to 4.7482018317168695 aiming for bin 19\n",
      "bumps: [0.2, 0.6103515625, 1.4901161193847656, 1.862645149230957, 2.3283064365386963, 2.6193447411060333, 2.9103830456733704, 3.092281986027956, 3.2741809263825417, 3.4788172342814505, 3.637978807091713, 3.751665644813329, 3.865352482534945, 4.092726157978177, 4.220623850414995, 4.348521542851813, 4.416467191958873, 4.547473508864641, 4.604316927725449, -1, 4.89208673570829, -1, 5.115907697472721, 5.17985654369113, -1, 5.435651928564766, -1, -1, -1, -1, 5.7553961596568115, -1, -1, -1, -1, -1, -1, -1, -1, -1, -1, -1, -1, -1, -1, -1, -1, -1, -1, -1]\n",
      "[0208_161413]***NEW ITR 38***\n"
     ]
    },
    {
     "name": "stderr",
     "output_type": "stream",
     "text": [
      "100%|█████████████████████████████████████████████████████████████████████| 274/274 [00:05<00:00, 47.20it/s]\n"
     ]
    },
    {
     "name": "stdout",
     "output_type": "stream",
     "text": [
      "assigned bin_idx 19\n",
      "Cur bump_idx: 19 bump amount: 4.7482018317168695 target_class_pred: 25851 bin_idx: 19\n",
      "updating cur_bump_idx to 20, bump_amount to 5.935252289646087\n",
      "bumps: [0.2, 0.6103515625, 1.4901161193847656, 1.862645149230957, 2.3283064365386963, 2.6193447411060333, 2.9103830456733704, 3.092281986027956, 3.2741809263825417, 3.4788172342814505, 3.637978807091713, 3.751665644813329, 3.865352482534945, 4.092726157978177, 4.220623850414995, 4.348521542851813, 4.416467191958873, 4.547473508864641, 4.604316927725449, 4.7482018317168695, 4.89208673570829, -1, 5.115907697472721, 5.17985654369113, -1, 5.435651928564766, -1, -1, -1, -1, 5.7553961596568115, -1, -1, -1, -1, -1, -1, -1, -1, -1, -1, -1, -1, -1, -1, -1, -1, -1, -1, -1]\n",
      "[0208_161419]***NEW ITR 39***\n",
      "[0208_161419]***NEW ITR 40***\n"
     ]
    },
    {
     "name": "stderr",
     "output_type": "stream",
     "text": [
      "100%|█████████████████████████████████████████████████████████████████████| 274/274 [00:06<00:00, 41.36it/s]\n"
     ]
    },
    {
     "name": "stdout",
     "output_type": "stream",
     "text": [
      "bin_idx < cur_bump_idx (20 and 21) delta1=1.25 new bump_amount: 6.115108419635362\n"
     ]
    },
    {
     "name": "stderr",
     "output_type": "stream",
     "text": [
      "100%|█████████████████████████████████████████████████████████████████████| 274/274 [00:06<00:00, 43.76it/s]\n"
     ]
    },
    {
     "name": "stdout",
     "output_type": "stream",
     "text": [
      "assigned bin_idx 39\n",
      "Cur bump_idx: 21 bump amount: 6.115108419635362 target_class_pred: 43590 bin_idx: 39\n",
      "Overshot to bin 39. Decreasing bump amount to 5.503597577671826 aiming for bin 21\n",
      "bumps: [0.2, 0.6103515625, 1.4901161193847656, 1.862645149230957, 2.3283064365386963, 2.6193447411060333, 2.9103830456733704, 3.092281986027956, 3.2741809263825417, 3.4788172342814505, 3.637978807091713, 3.751665644813329, 3.865352482534945, 4.092726157978177, 4.220623850414995, 4.348521542851813, 4.416467191958873, 4.547473508864641, 4.604316927725449, 4.7482018317168695, 4.89208673570829, -1, 5.115907697472721, 5.17985654369113, -1, 5.435651928564766, -1, -1, -1, -1, 5.7553961596568115, -1, -1, -1, -1, -1, -1, -1, -1, 6.115108419635362, -1, -1, -1, -1, -1, -1, -1, -1, -1, -1]\n",
      "[0208_161431]***NEW ITR 41***\n"
     ]
    },
    {
     "name": "stderr",
     "output_type": "stream",
     "text": [
      "100%|█████████████████████████████████████████████████████████████████████| 274/274 [00:06<00:00, 45.35it/s]\n"
     ]
    },
    {
     "name": "stdout",
     "output_type": "stream",
     "text": [
      "assigned bin_idx 26\n",
      "Cur bump_idx: 21 bump amount: 5.503597577671826 target_class_pred: 32157 bin_idx: 26\n",
      "Overshot to bin 26. Decreasing bump amount to 5.197842156690058 aiming for bin 21\n",
      "bumps: [0.2, 0.6103515625, 1.4901161193847656, 1.862645149230957, 2.3283064365386963, 2.6193447411060333, 2.9103830456733704, 3.092281986027956, 3.2741809263825417, 3.4788172342814505, 3.637978807091713, 3.751665644813329, 3.865352482534945, 4.092726157978177, 4.220623850414995, 4.348521542851813, 4.416467191958873, 4.547473508864641, 4.604316927725449, 4.7482018317168695, 4.89208673570829, -1, 5.115907697472721, 5.17985654369113, -1, 5.435651928564766, 5.503597577671826, -1, -1, -1, 5.7553961596568115, -1, -1, -1, -1, -1, -1, -1, -1, 6.115108419635362, -1, -1, -1, -1, -1, -1, -1, -1, -1, -1]\n",
      "[0208_161438]***NEW ITR 42***\n"
     ]
    },
    {
     "name": "stderr",
     "output_type": "stream",
     "text": [
      "100%|█████████████████████████████████████████████████████████████████████| 274/274 [00:07<00:00, 38.15it/s]\n"
     ]
    },
    {
     "name": "stdout",
     "output_type": "stream",
     "text": [
      "Overshot to bin 23. Decreasing bump amount to 5.044964446199174 aiming for bin 21\n",
      "bumps: [0.2, 0.6103515625, 1.4901161193847656, 1.862645149230957, 2.3283064365386963, 2.6193447411060333, 2.9103830456733704, 3.092281986027956, 3.2741809263825417, 3.4788172342814505, 3.637978807091713, 3.751665644813329, 3.865352482534945, 4.092726157978177, 4.220623850414995, 4.348521542851813, 4.416467191958873, 4.547473508864641, 4.604316927725449, 4.7482018317168695, 4.89208673570829, -1, 5.115907697472721, 5.17985654369113, -1, 5.435651928564766, 5.503597577671826, -1, -1, -1, 5.7553961596568115, -1, -1, -1, -1, -1, -1, -1, -1, 6.115108419635362, -1, -1, -1, -1, -1, -1, -1, -1, -1, -1]\n",
      "[0208_161445]***NEW ITR 43***\n"
     ]
    },
    {
     "name": "stderr",
     "output_type": "stream",
     "text": [
      "100%|█████████████████████████████████████████████████████████████████████| 274/274 [00:06<00:00, 40.62it/s]\n"
     ]
    },
    {
     "name": "stdout",
     "output_type": "stream",
     "text": [
      "assigned bin_idx 21\n",
      "Cur bump_idx: 21 bump amount: 5.044964446199174 target_class_pred: 28177 bin_idx: 21\n",
      "updating cur_bump_idx to 22, bump_amount to 6.306205557748967\n",
      "bumps: [0.2, 0.6103515625, 1.4901161193847656, 1.862645149230957, 2.3283064365386963, 2.6193447411060333, 2.9103830456733704, 3.092281986027956, 3.2741809263825417, 3.4788172342814505, 3.637978807091713, 3.751665644813329, 3.865352482534945, 4.092726157978177, 4.220623850414995, 4.348521542851813, 4.416467191958873, 4.547473508864641, 4.604316927725449, 4.7482018317168695, 4.89208673570829, 5.044964446199174, 5.115907697472721, 5.17985654369113, -1, 5.435651928564766, 5.503597577671826, -1, -1, -1, 5.7553961596568115, -1, -1, -1, -1, -1, -1, -1, -1, 6.115108419635362, -1, -1, -1, -1, -1, -1, -1, -1, -1, -1]\n",
      "[0208_161451]***NEW ITR 44***\n",
      "[0208_161451]***NEW ITR 45***\n",
      "[0208_161451]***NEW ITR 46***\n"
     ]
    },
    {
     "name": "stderr",
     "output_type": "stream",
     "text": [
      "100%|█████████████████████████████████████████████████████████████████████| 274/274 [00:06<00:00, 44.06it/s]\n"
     ]
    },
    {
     "name": "stdout",
     "output_type": "stream",
     "text": [
      "bin_idx < cur_bump_idx (23 and 24) delta1=1.25 new bump_amount: 6.474820679613913\n"
     ]
    },
    {
     "name": "stderr",
     "output_type": "stream",
     "text": [
      "100%|█████████████████████████████████████████████████████████████████████| 274/274 [00:06<00:00, 41.45it/s]\n",
      "/n/fs/ac-editing/model-editing/src/model/metric.py:168: RuntimeWarning: invalid value encountered in divide\n",
      "  return np.nan_to_num(TPs / (TPs + FPs))\n",
      "/n/fs/ac-editing/model-editing/src/model/metric.py:205: RuntimeWarning: invalid value encountered in divide\n",
      "  return np.nan_to_num(2 * precisions * recalls / (precisions + recalls))\n"
     ]
    },
    {
     "name": "stdout",
     "output_type": "stream",
     "text": [
      "assigned bin_idx 48\n",
      "Cur bump_idx: 24 bump amount: 6.474820679613913 target_class_pred: 51739 bin_idx: 48\n",
      "Overshot to bin 48. Decreasing bump amount to 5.827338611652522 aiming for bin 24\n",
      "bumps: [0.2, 0.6103515625, 1.4901161193847656, 1.862645149230957, 2.3283064365386963, 2.6193447411060333, 2.9103830456733704, 3.092281986027956, 3.2741809263825417, 3.4788172342814505, 3.637978807091713, 3.751665644813329, 3.865352482534945, 4.092726157978177, 4.220623850414995, 4.348521542851813, 4.416467191958873, 4.547473508864641, 4.604316927725449, 4.7482018317168695, 4.89208673570829, 5.044964446199174, 5.115907697472721, 5.17985654369113, -1, 5.435651928564766, 5.503597577671826, -1, -1, -1, 5.7553961596568115, -1, -1, -1, -1, -1, -1, -1, -1, 6.115108419635362, -1, -1, -1, -1, -1, -1, -1, -1, 6.474820679613913, -1]\n",
      "[0208_161504]***NEW ITR 47***\n"
     ]
    },
    {
     "name": "stderr",
     "output_type": "stream",
     "text": [
      "100%|█████████████████████████████████████████████████████████████████████| 274/274 [00:10<00:00, 25.07it/s]\n"
     ]
    },
    {
     "name": "stdout",
     "output_type": "stream",
     "text": [
      "assigned bin_idx 31\n",
      "Cur bump_idx: 24 bump amount: 5.827338611652522 target_class_pred: 36872 bin_idx: 31\n",
      "Overshot to bin 31. Decreasing bump amount to 5.503597577671826 aiming for bin 24\n",
      "bumps: [0.2, 0.6103515625, 1.4901161193847656, 1.862645149230957, 2.3283064365386963, 2.6193447411060333, 2.9103830456733704, 3.092281986027956, 3.2741809263825417, 3.4788172342814505, 3.637978807091713, 3.751665644813329, 3.865352482534945, 4.092726157978177, 4.220623850414995, 4.348521542851813, 4.416467191958873, 4.547473508864641, 4.604316927725449, 4.7482018317168695, 4.89208673570829, 5.044964446199174, 5.115907697472721, 5.17985654369113, -1, 5.435651928564766, 5.503597577671826, -1, -1, -1, 5.7553961596568115, 5.827338611652522, -1, -1, -1, -1, -1, -1, -1, 6.115108419635362, -1, -1, -1, -1, -1, -1, -1, -1, 6.474820679613913, -1]\n",
      "[0208_161515]***NEW ITR 48***\n"
     ]
    },
    {
     "name": "stderr",
     "output_type": "stream",
     "text": [
      "100%|█████████████████████████████████████████████████████████████████████| 274/274 [00:06<00:00, 40.42it/s]\n"
     ]
    },
    {
     "name": "stdout",
     "output_type": "stream",
     "text": [
      "Overshot to bin 26. Decreasing bump amount to 5.341727060681478 aiming for bin 24\n",
      "bumps: [0.2, 0.6103515625, 1.4901161193847656, 1.862645149230957, 2.3283064365386963, 2.6193447411060333, 2.9103830456733704, 3.092281986027956, 3.2741809263825417, 3.4788172342814505, 3.637978807091713, 3.751665644813329, 3.865352482534945, 4.092726157978177, 4.220623850414995, 4.348521542851813, 4.416467191958873, 4.547473508864641, 4.604316927725449, 4.7482018317168695, 4.89208673570829, 5.044964446199174, 5.115907697472721, 5.17985654369113, -1, 5.435651928564766, 5.503597577671826, -1, -1, -1, 5.7553961596568115, 5.827338611652522, -1, -1, -1, -1, -1, -1, -1, 6.115108419635362, -1, -1, -1, -1, -1, -1, -1, -1, 6.474820679613913, -1]\n",
      "[0208_161522]***NEW ITR 49***\n"
     ]
    },
    {
     "name": "stderr",
     "output_type": "stream",
     "text": [
      "100%|█████████████████████████████████████████████████████████████████████| 274/274 [00:09<00:00, 28.33it/s]\n"
     ]
    },
    {
     "name": "stdout",
     "output_type": "stream",
     "text": [
      "assigned bin_idx 24\n",
      "Cur bump_idx: 24 bump amount: 5.341727060681478 target_class_pred: 30619 bin_idx: 24\n",
      "updating cur_bump_idx to 25, bump_amount to 6.677158825851848\n",
      "bumps: [0.2, 0.6103515625, 1.4901161193847656, 1.862645149230957, 2.3283064365386963, 2.6193447411060333, 2.9103830456733704, 3.092281986027956, 3.2741809263825417, 3.4788172342814505, 3.637978807091713, 3.751665644813329, 3.865352482534945, 4.092726157978177, 4.220623850414995, 4.348521542851813, 4.416467191958873, 4.547473508864641, 4.604316927725449, 4.7482018317168695, 4.89208673570829, 5.044964446199174, 5.115907697472721, 5.17985654369113, 5.341727060681478, 5.435651928564766, 5.503597577671826, -1, -1, -1, 5.7553961596568115, 5.827338611652522, -1, -1, -1, -1, -1, -1, -1, 6.115108419635362, -1, -1, -1, -1, -1, -1, -1, -1, 6.474820679613913, -1]\n",
      "[0208_161532]***NEW ITR 50***\n",
      "[0208_161532]***NEW ITR 51***\n",
      "[0208_161532]***NEW ITR 52***\n"
     ]
    },
    {
     "name": "stderr",
     "output_type": "stream",
     "text": [
      "100%|█████████████████████████████████████████████████████████████████████| 274/274 [00:13<00:00, 20.79it/s]\n"
     ]
    },
    {
     "name": "stdout",
     "output_type": "stream",
     "text": [
      "bin_idx < cur_bump_idx (26 and 27) delta1=1.25 new bump_amount: 6.8794969720897825\n"
     ]
    },
    {
     "name": "stderr",
     "output_type": "stream",
     "text": [
      "100%|█████████████████████████████████████████████████████████████████████| 274/274 [00:12<00:00, 22.30it/s]\n",
      "/n/fs/ac-editing/model-editing/src/model/metric.py:168: RuntimeWarning: invalid value encountered in divide\n",
      "  return np.nan_to_num(TPs / (TPs + FPs))\n",
      "/n/fs/ac-editing/model-editing/src/model/metric.py:205: RuntimeWarning: invalid value encountered in divide\n",
      "  return np.nan_to_num(2 * precisions * recalls / (precisions + recalls))\n"
     ]
    },
    {
     "name": "stdout",
     "output_type": "stream",
     "text": [
      "bin_idx > n_bins (57) delta1=1.25 new bump_amount: 6.191547274880804\n",
      "[0208_161557]***NEW ITR 53***\n"
     ]
    },
    {
     "name": "stderr",
     "output_type": "stream",
     "text": [
      "100%|█████████████████████████████████████████████████████████████████████| 274/274 [00:20<00:00, 13.19it/s]\n",
      "/n/fs/ac-editing/model-editing/src/model/metric.py:205: RuntimeWarning: invalid value encountered in divide\n",
      "  return np.nan_to_num(2 * precisions * recalls / (precisions + recalls))\n"
     ]
    },
    {
     "name": "stdout",
     "output_type": "stream",
     "text": [
      "assigned bin_idx 40\n",
      "Cur bump_idx: 27 bump amount: 6.191547274880804 target_class_pred: 44962 bin_idx: 40\n",
      "Overshot to bin 40. Decreasing bump amount to 5.847572426276315 aiming for bin 27\n",
      "bumps: [0.2, 0.6103515625, 1.4901161193847656, 1.862645149230957, 2.3283064365386963, 2.6193447411060333, 2.9103830456733704, 3.092281986027956, 3.2741809263825417, 3.4788172342814505, 3.637978807091713, 3.751665644813329, 3.865352482534945, 4.092726157978177, 4.220623850414995, 4.348521542851813, 4.416467191958873, 4.547473508864641, 4.604316927725449, 4.7482018317168695, 4.89208673570829, 5.044964446199174, 5.115907697472721, 5.17985654369113, 5.341727060681478, 5.435651928564766, 5.503597577671826, -1, -1, -1, 5.7553961596568115, 5.827338611652522, -1, -1, -1, -1, -1, -1, -1, 6.115108419635362, 6.191547274880804, -1, -1, -1, -1, -1, -1, -1, 6.474820679613913, -1]\n",
      "[0208_161618]***NEW ITR 54***\n"
     ]
    },
    {
     "name": "stderr",
     "output_type": "stream",
     "text": [
      "100%|█████████████████████████████████████████████████████████████████████| 274/274 [00:21<00:00, 12.75it/s]\n"
     ]
    },
    {
     "name": "stdout",
     "output_type": "stream",
     "text": [
      "assigned bin_idx 32\n",
      "Cur bump_idx: 27 bump amount: 5.847572426276315 target_class_pred: 37347 bin_idx: 32\n",
      "Overshot to bin 32. Decreasing bump amount to 5.675585001974071 aiming for bin 27\n",
      "bumps: [0.2, 0.6103515625, 1.4901161193847656, 1.862645149230957, 2.3283064365386963, 2.6193447411060333, 2.9103830456733704, 3.092281986027956, 3.2741809263825417, 3.4788172342814505, 3.637978807091713, 3.751665644813329, 3.865352482534945, 4.092726157978177, 4.220623850414995, 4.348521542851813, 4.416467191958873, 4.547473508864641, 4.604316927725449, 4.7482018317168695, 4.89208673570829, 5.044964446199174, 5.115907697472721, 5.17985654369113, 5.341727060681478, 5.435651928564766, 5.503597577671826, -1, -1, -1, 5.7553961596568115, 5.827338611652522, 5.847572426276315, -1, -1, -1, -1, -1, -1, 6.115108419635362, 6.191547274880804, -1, -1, -1, -1, -1, -1, -1, 6.474820679613913, -1]\n",
      "[0208_161640]***NEW ITR 55***\n"
     ]
    },
    {
     "name": "stderr",
     "output_type": "stream",
     "text": [
      "100%|█████████████████████████████████████████████████████████████████████| 274/274 [00:10<00:00, 26.25it/s]\n"
     ]
    },
    {
     "name": "stdout",
     "output_type": "stream",
     "text": [
      "assigned bin_idx 28\n",
      "Cur bump_idx: 27 bump amount: 5.675585001974071 target_class_pred: 34225 bin_idx: 28\n",
      "Overshot to bin 28. Decreasing bump amount to 5.589591289822948 aiming for bin 27\n",
      "bumps: [0.2, 0.6103515625, 1.4901161193847656, 1.862645149230957, 2.3283064365386963, 2.6193447411060333, 2.9103830456733704, 3.092281986027956, 3.2741809263825417, 3.4788172342814505, 3.637978807091713, 3.751665644813329, 3.865352482534945, 4.092726157978177, 4.220623850414995, 4.348521542851813, 4.416467191958873, 4.547473508864641, 4.604316927725449, 4.7482018317168695, 4.89208673570829, 5.044964446199174, 5.115907697472721, 5.17985654369113, 5.341727060681478, 5.435651928564766, 5.503597577671826, -1, 5.675585001974071, -1, 5.7553961596568115, 5.827338611652522, 5.847572426276315, -1, -1, -1, -1, -1, -1, 6.115108419635362, 6.191547274880804, -1, -1, -1, -1, -1, -1, -1, 6.474820679613913, -1]\n",
      "[0208_161650]***NEW ITR 56***\n"
     ]
    },
    {
     "name": "stderr",
     "output_type": "stream",
     "text": [
      "100%|█████████████████████████████████████████████████████████████████████| 274/274 [00:11<00:00, 23.75it/s]\n"
     ]
    },
    {
     "name": "stdout",
     "output_type": "stream",
     "text": [
      "assigned bin_idx 27\n",
      "Cur bump_idx: 27 bump amount: 5.589591289822948 target_class_pred: 33083 bin_idx: 27\n",
      "updating cur_bump_idx to 28, bump_amount to 6.986989112278685\n",
      "bumps: [0.2, 0.6103515625, 1.4901161193847656, 1.862645149230957, 2.3283064365386963, 2.6193447411060333, 2.9103830456733704, 3.092281986027956, 3.2741809263825417, 3.4788172342814505, 3.637978807091713, 3.751665644813329, 3.865352482534945, 4.092726157978177, 4.220623850414995, 4.348521542851813, 4.416467191958873, 4.547473508864641, 4.604316927725449, 4.7482018317168695, 4.89208673570829, 5.044964446199174, 5.115907697472721, 5.17985654369113, 5.341727060681478, 5.435651928564766, 5.503597577671826, 5.589591289822948, 5.675585001974071, -1, 5.7553961596568115, 5.827338611652522, 5.847572426276315, -1, -1, -1, -1, -1, -1, 6.115108419635362, 6.191547274880804, -1, -1, -1, -1, -1, -1, -1, 6.474820679613913, -1]\n",
      "[0208_161702]***NEW ITR 57***\n",
      "[0208_161702]***NEW ITR 58***\n"
     ]
    },
    {
     "name": "stderr",
     "output_type": "stream",
     "text": [
      "100%|█████████████████████████████████████████████████████████████████████| 274/274 [00:18<00:00, 15.18it/s]\n"
     ]
    },
    {
     "name": "stdout",
     "output_type": "stream",
     "text": [
      "bin_idx < cur_bump_idx (28 and 29) delta1=1.25 new bump_amount: 7.094481252467588\n"
     ]
    },
    {
     "name": "stderr",
     "output_type": "stream",
     "text": [
      "100%|█████████████████████████████████████████████████████████████████████| 274/274 [00:10<00:00, 27.26it/s]\n",
      "/n/fs/ac-editing/model-editing/src/model/metric.py:168: RuntimeWarning: invalid value encountered in divide\n",
      "  return np.nan_to_num(TPs / (TPs + FPs))\n",
      "/n/fs/ac-editing/model-editing/src/model/metric.py:205: RuntimeWarning: invalid value encountered in divide\n",
      "  return np.nan_to_num(2 * precisions * recalls / (precisions + recalls))\n"
     ]
    },
    {
     "name": "stdout",
     "output_type": "stream",
     "text": [
      "bin_idx > n_bins (60) delta1=1.25 new bump_amount: 6.385033127220829\n",
      "[0208_161730]***NEW ITR 59***\n"
     ]
    },
    {
     "name": "stderr",
     "output_type": "stream",
     "text": [
      "100%|█████████████████████████████████████████████████████████████████████| 274/274 [00:13<00:00, 20.73it/s]\n",
      "/n/fs/ac-editing/model-editing/src/model/metric.py:168: RuntimeWarning: invalid value encountered in divide\n",
      "  return np.nan_to_num(TPs / (TPs + FPs))\n",
      "/n/fs/ac-editing/model-editing/src/model/metric.py:205: RuntimeWarning: invalid value encountered in divide\n",
      "  return np.nan_to_num(2 * precisions * recalls / (precisions + recalls))\n"
     ]
    },
    {
     "name": "stdout",
     "output_type": "stream",
     "text": [
      "assigned bin_idx 45\n",
      "Cur bump_idx: 29 bump amount: 6.385033127220829 target_class_pred: 49177 bin_idx: 45\n",
      "Overshot to bin 45. Decreasing bump amount to 6.03030906459745 aiming for bin 29\n",
      "bumps: [0.2, 0.6103515625, 1.4901161193847656, 1.862645149230957, 2.3283064365386963, 2.6193447411060333, 2.9103830456733704, 3.092281986027956, 3.2741809263825417, 3.4788172342814505, 3.637978807091713, 3.751665644813329, 3.865352482534945, 4.092726157978177, 4.220623850414995, 4.348521542851813, 4.416467191958873, 4.547473508864641, 4.604316927725449, 4.7482018317168695, 4.89208673570829, 5.044964446199174, 5.115907697472721, 5.17985654369113, 5.341727060681478, 5.435651928564766, 5.503597577671826, 5.589591289822948, 5.675585001974071, -1, 5.7553961596568115, 5.827338611652522, 5.847572426276315, -1, -1, -1, -1, -1, -1, 6.115108419635362, 6.191547274880804, -1, -1, -1, -1, 6.385033127220829, -1, -1, 6.474820679613913, -1]\n",
      "[0208_161743]***NEW ITR 60***\n"
     ]
    },
    {
     "name": "stderr",
     "output_type": "stream",
     "text": [
      "100%|█████████████████████████████████████████████████████████████████████| 274/274 [00:07<00:00, 35.19it/s]\n"
     ]
    },
    {
     "name": "stdout",
     "output_type": "stream",
     "text": [
      "assigned bin_idx 37\n",
      "Cur bump_idx: 29 bump amount: 6.03030906459745 target_class_pred: 41974 bin_idx: 37\n",
      "Overshot to bin 37. Decreasing bump amount to 5.85294703328576 aiming for bin 29\n",
      "bumps: [0.2, 0.6103515625, 1.4901161193847656, 1.862645149230957, 2.3283064365386963, 2.6193447411060333, 2.9103830456733704, 3.092281986027956, 3.2741809263825417, 3.4788172342814505, 3.637978807091713, 3.751665644813329, 3.865352482534945, 4.092726157978177, 4.220623850414995, 4.348521542851813, 4.416467191958873, 4.547473508864641, 4.604316927725449, 4.7482018317168695, 4.89208673570829, 5.044964446199174, 5.115907697472721, 5.17985654369113, 5.341727060681478, 5.435651928564766, 5.503597577671826, 5.589591289822948, 5.675585001974071, -1, 5.7553961596568115, 5.827338611652522, 5.847572426276315, -1, -1, -1, -1, 6.03030906459745, -1, 6.115108419635362, 6.191547274880804, -1, -1, -1, -1, 6.385033127220829, -1, -1, 6.474820679613913, -1]\n",
      "[0208_161751]***NEW ITR 61***\n"
     ]
    },
    {
     "name": "stderr",
     "output_type": "stream",
     "text": [
      "100%|█████████████████████████████████████████████████████████████████████| 274/274 [00:07<00:00, 37.89it/s]\n"
     ]
    },
    {
     "name": "stdout",
     "output_type": "stream",
     "text": [
      "Overshot to bin 32. Decreasing bump amount to 5.764266017629915 aiming for bin 29\n",
      "bumps: [0.2, 0.6103515625, 1.4901161193847656, 1.862645149230957, 2.3283064365386963, 2.6193447411060333, 2.9103830456733704, 3.092281986027956, 3.2741809263825417, 3.4788172342814505, 3.637978807091713, 3.751665644813329, 3.865352482534945, 4.092726157978177, 4.220623850414995, 4.348521542851813, 4.416467191958873, 4.547473508864641, 4.604316927725449, 4.7482018317168695, 4.89208673570829, 5.044964446199174, 5.115907697472721, 5.17985654369113, 5.341727060681478, 5.435651928564766, 5.503597577671826, 5.589591289822948, 5.675585001974071, -1, 5.7553961596568115, 5.827338611652522, 5.847572426276315, -1, -1, -1, -1, 6.03030906459745, -1, 6.115108419635362, 6.191547274880804, -1, -1, -1, -1, 6.385033127220829, -1, -1, 6.474820679613913, -1]\n",
      "[0208_161758]***NEW ITR 62***\n"
     ]
    },
    {
     "name": "stderr",
     "output_type": "stream",
     "text": [
      "100%|█████████████████████████████████████████████████████████████████████| 274/274 [00:07<00:00, 36.60it/s]\n"
     ]
    },
    {
     "name": "stdout",
     "output_type": "stream",
     "text": [
      "Overshot to bin 30. Decreasing bump amount to 5.7199255098019925 aiming for bin 29\n",
      "bumps: [0.2, 0.6103515625, 1.4901161193847656, 1.862645149230957, 2.3283064365386963, 2.6193447411060333, 2.9103830456733704, 3.092281986027956, 3.2741809263825417, 3.4788172342814505, 3.637978807091713, 3.751665644813329, 3.865352482534945, 4.092726157978177, 4.220623850414995, 4.348521542851813, 4.416467191958873, 4.547473508864641, 4.604316927725449, 4.7482018317168695, 4.89208673570829, 5.044964446199174, 5.115907697472721, 5.17985654369113, 5.341727060681478, 5.435651928564766, 5.503597577671826, 5.589591289822948, 5.675585001974071, -1, 5.7553961596568115, 5.827338611652522, 5.847572426276315, -1, -1, -1, -1, 6.03030906459745, -1, 6.115108419635362, 6.191547274880804, -1, -1, -1, -1, 6.385033127220829, -1, -1, 6.474820679613913, -1]\n",
      "[0208_161806]***NEW ITR 63***\n"
     ]
    },
    {
     "name": "stderr",
     "output_type": "stream",
     "text": [
      "100%|█████████████████████████████████████████████████████████████████████| 274/274 [00:06<00:00, 39.54it/s]\n"
     ]
    },
    {
     "name": "stdout",
     "output_type": "stream",
     "text": [
      "assigned bin_idx 29\n",
      "Cur bump_idx: 29 bump amount: 5.7199255098019925 target_class_pred: 34888 bin_idx: 29\n",
      "updating cur_bump_idx to 30, bump_amount to 7.149906887252491\n",
      "bumps: [0.2, 0.6103515625, 1.4901161193847656, 1.862645149230957, 2.3283064365386963, 2.6193447411060333, 2.9103830456733704, 3.092281986027956, 3.2741809263825417, 3.4788172342814505, 3.637978807091713, 3.751665644813329, 3.865352482534945, 4.092726157978177, 4.220623850414995, 4.348521542851813, 4.416467191958873, 4.547473508864641, 4.604316927725449, 4.7482018317168695, 4.89208673570829, 5.044964446199174, 5.115907697472721, 5.17985654369113, 5.341727060681478, 5.435651928564766, 5.503597577671826, 5.589591289822948, 5.675585001974071, 5.7199255098019925, 5.7553961596568115, 5.827338611652522, 5.847572426276315, -1, -1, -1, -1, 6.03030906459745, -1, 6.115108419635362, 6.191547274880804, -1, -1, -1, -1, 6.385033127220829, -1, -1, 6.474820679613913, -1]\n",
      "[0208_161813]***NEW ITR 64***\n",
      "[0208_161813]***NEW ITR 65***\n",
      "[0208_161813]***NEW ITR 66***\n",
      "[0208_161813]***NEW ITR 67***\n"
     ]
    },
    {
     "name": "stderr",
     "output_type": "stream",
     "text": [
      "100%|█████████████████████████████████████████████████████████████████████| 274/274 [00:07<00:00, 38.14it/s]\n"
     ]
    },
    {
     "name": "stdout",
     "output_type": "stream",
     "text": [
      "bin_idx < cur_bump_idx (32 and 33) delta1=1.25 new bump_amount: 7.309465532845394\n"
     ]
    },
    {
     "name": "stderr",
     "output_type": "stream",
     "text": [
      "100%|█████████████████████████████████████████████████████████████████████| 274/274 [00:07<00:00, 37.83it/s]\n",
      "/n/fs/ac-editing/model-editing/src/model/metric.py:168: RuntimeWarning: invalid value encountered in divide\n",
      "  return np.nan_to_num(TPs / (TPs + FPs))\n",
      "/n/fs/ac-editing/model-editing/src/model/metric.py:205: RuntimeWarning: invalid value encountered in divide\n",
      "  return np.nan_to_num(2 * precisions * recalls / (precisions + recalls))\n"
     ]
    },
    {
     "name": "stdout",
     "output_type": "stream",
     "text": [
      "bin_idx > n_bins (60) delta1=1.25 new bump_amount: 6.5785189795608545\n",
      "[0208_161827]***NEW ITR 68***\n"
     ]
    },
    {
     "name": "stderr",
     "output_type": "stream",
     "text": [
      "100%|█████████████████████████████████████████████████████████████████████| 274/274 [00:06<00:00, 41.31it/s]\n",
      "/n/fs/ac-editing/model-editing/src/model/metric.py:168: RuntimeWarning: invalid value encountered in divide\n",
      "  return np.nan_to_num(TPs / (TPs + FPs))\n",
      "/n/fs/ac-editing/model-editing/src/model/metric.py:205: RuntimeWarning: invalid value encountered in divide\n",
      "  return np.nan_to_num(2 * precisions * recalls / (precisions + recalls))\n"
     ]
    },
    {
     "name": "stdout",
     "output_type": "stream",
     "text": [
      "bin_idx > n_bins (52) delta1=1.25 new bump_amount: 6.213045702918585\n",
      "[0208_161834]***NEW ITR 69***\n"
     ]
    },
    {
     "name": "stderr",
     "output_type": "stream",
     "text": [
      "100%|█████████████████████████████████████████████████████████████████████| 274/274 [00:09<00:00, 30.13it/s]\n",
      "/n/fs/ac-editing/model-editing/src/model/metric.py:168: RuntimeWarning: invalid value encountered in divide\n",
      "  return np.nan_to_num(TPs / (TPs + FPs))\n",
      "/n/fs/ac-editing/model-editing/src/model/metric.py:205: RuntimeWarning: invalid value encountered in divide\n",
      "  return np.nan_to_num(2 * precisions * recalls / (precisions + recalls))\n"
     ]
    },
    {
     "name": "stdout",
     "output_type": "stream",
     "text": [
      "assigned bin_idx 41\n",
      "Cur bump_idx: 33 bump amount: 6.213045702918585 target_class_pred: 45371 bin_idx: 41\n",
      "Overshot to bin 41. Decreasing bump amount to 6.03030906459745 aiming for bin 33\n",
      "bumps: [0.2, 0.6103515625, 1.4901161193847656, 1.862645149230957, 2.3283064365386963, 2.6193447411060333, 2.9103830456733704, 3.092281986027956, 3.2741809263825417, 3.4788172342814505, 3.637978807091713, 3.751665644813329, 3.865352482534945, 4.092726157978177, 4.220623850414995, 4.348521542851813, 4.416467191958873, 4.547473508864641, 4.604316927725449, 4.7482018317168695, 4.89208673570829, 5.044964446199174, 5.115907697472721, 5.17985654369113, 5.341727060681478, 5.435651928564766, 5.503597577671826, 5.589591289822948, 5.675585001974071, 5.7199255098019925, 5.7553961596568115, 5.827338611652522, 5.847572426276315, -1, -1, -1, -1, 6.03030906459745, -1, 6.115108419635362, 6.191547274880804, 6.213045702918585, -1, -1, -1, 6.385033127220829, -1, -1, 6.474820679613913, -1]\n",
      "[0208_161843]***NEW ITR 70***\n"
     ]
    },
    {
     "name": "stderr",
     "output_type": "stream",
     "text": [
      "100%|█████████████████████████████████████████████████████████████████████| 274/274 [00:06<00:00, 45.49it/s]\n"
     ]
    },
    {
     "name": "stdout",
     "output_type": "stream",
     "text": [
      "Overshot to bin 37. Decreasing bump amount to 5.9389407454368826 aiming for bin 33\n",
      "bumps: [0.2, 0.6103515625, 1.4901161193847656, 1.862645149230957, 2.3283064365386963, 2.6193447411060333, 2.9103830456733704, 3.092281986027956, 3.2741809263825417, 3.4788172342814505, 3.637978807091713, 3.751665644813329, 3.865352482534945, 4.092726157978177, 4.220623850414995, 4.348521542851813, 4.416467191958873, 4.547473508864641, 4.604316927725449, 4.7482018317168695, 4.89208673570829, 5.044964446199174, 5.115907697472721, 5.17985654369113, 5.341727060681478, 5.435651928564766, 5.503597577671826, 5.589591289822948, 5.675585001974071, 5.7199255098019925, 5.7553961596568115, 5.827338611652522, 5.847572426276315, -1, -1, -1, -1, 6.03030906459745, -1, 6.115108419635362, 6.191547274880804, 6.213045702918585, -1, -1, -1, 6.385033127220829, -1, -1, 6.474820679613913, -1]\n",
      "[0208_161849]***NEW ITR 71***\n"
     ]
    },
    {
     "name": "stderr",
     "output_type": "stream",
     "text": [
      "100%|█████████████████████████████████████████████████████████████████████| 274/274 [00:06<00:00, 43.58it/s]\n"
     ]
    },
    {
     "name": "stdout",
     "output_type": "stream",
     "text": [
      "assigned bin_idx 34\n",
      "Cur bump_idx: 33 bump amount: 5.9389407454368826 target_class_pred: 39710 bin_idx: 34\n",
      "Overshot to bin 34. Decreasing bump amount to 5.893256585856599 aiming for bin 33\n",
      "bumps: [0.2, 0.6103515625, 1.4901161193847656, 1.862645149230957, 2.3283064365386963, 2.6193447411060333, 2.9103830456733704, 3.092281986027956, 3.2741809263825417, 3.4788172342814505, 3.637978807091713, 3.751665644813329, 3.865352482534945, 4.092726157978177, 4.220623850414995, 4.348521542851813, 4.416467191958873, 4.547473508864641, 4.604316927725449, 4.7482018317168695, 4.89208673570829, 5.044964446199174, 5.115907697472721, 5.17985654369113, 5.341727060681478, 5.435651928564766, 5.503597577671826, 5.589591289822948, 5.675585001974071, 5.7199255098019925, 5.7553961596568115, 5.827338611652522, 5.847572426276315, -1, 5.9389407454368826, -1, -1, 6.03030906459745, -1, 6.115108419635362, 6.191547274880804, 6.213045702918585, -1, -1, -1, 6.385033127220829, -1, -1, 6.474820679613913, -1]\n",
      "[0208_161855]***NEW ITR 72***\n"
     ]
    },
    {
     "name": "stderr",
     "output_type": "stream",
     "text": [
      "100%|█████████████████████████████████████████████████████████████████████| 274/274 [00:06<00:00, 41.26it/s]\n"
     ]
    },
    {
     "name": "stdout",
     "output_type": "stream",
     "text": [
      "assigned bin_idx 33\n",
      "Cur bump_idx: 33 bump amount: 5.893256585856599 target_class_pred: 38485 bin_idx: 33\n",
      "updating cur_bump_idx to 34, bump_amount to 7.366570732320748\n",
      "bumps: [0.2, 0.6103515625, 1.4901161193847656, 1.862645149230957, 2.3283064365386963, 2.6193447411060333, 2.9103830456733704, 3.092281986027956, 3.2741809263825417, 3.4788172342814505, 3.637978807091713, 3.751665644813329, 3.865352482534945, 4.092726157978177, 4.220623850414995, 4.348521542851813, 4.416467191958873, 4.547473508864641, 4.604316927725449, 4.7482018317168695, 4.89208673570829, 5.044964446199174, 5.115907697472721, 5.17985654369113, 5.341727060681478, 5.435651928564766, 5.503597577671826, 5.589591289822948, 5.675585001974071, 5.7199255098019925, 5.7553961596568115, 5.827338611652522, 5.847572426276315, 5.893256585856599, 5.9389407454368826, -1, -1, 6.03030906459745, -1, 6.115108419635362, 6.191547274880804, 6.213045702918585, -1, -1, -1, 6.385033127220829, -1, -1, 6.474820679613913, -1]\n",
      "[0208_161902]***NEW ITR 73***\n",
      "[0208_161902]***NEW ITR 74***\n"
     ]
    },
    {
     "name": "stderr",
     "output_type": "stream",
     "text": [
      "100%|█████████████████████████████████████████████████████████████████████| 274/274 [00:07<00:00, 37.18it/s]\n"
     ]
    },
    {
     "name": "stdout",
     "output_type": "stream",
     "text": [
      "bin_idx < cur_bump_idx (34 and 35) delta1=1.25 new bump_amount: 7.423675931796103\n"
     ]
    },
    {
     "name": "stderr",
     "output_type": "stream",
     "text": [
      "100%|█████████████████████████████████████████████████████████████████████| 274/274 [00:05<00:00, 48.09it/s]\n",
      "/n/fs/ac-editing/model-editing/src/model/metric.py:168: RuntimeWarning: invalid value encountered in divide\n",
      "  return np.nan_to_num(TPs / (TPs + FPs))\n",
      "/n/fs/ac-editing/model-editing/src/model/metric.py:205: RuntimeWarning: invalid value encountered in divide\n",
      "  return np.nan_to_num(2 * precisions * recalls / (precisions + recalls))\n"
     ]
    },
    {
     "name": "stdout",
     "output_type": "stream",
     "text": [
      "bin_idx > n_bins (60) delta1=1.25 new bump_amount: 6.681308338616493\n",
      "[0208_161915]***NEW ITR 75***\n"
     ]
    },
    {
     "name": "stderr",
     "output_type": "stream",
     "text": [
      "100%|█████████████████████████████████████████████████████████████████████| 274/274 [00:06<00:00, 41.22it/s]\n",
      "/n/fs/ac-editing/model-editing/src/model/metric.py:168: RuntimeWarning: invalid value encountered in divide\n",
      "  return np.nan_to_num(TPs / (TPs + FPs))\n",
      "/n/fs/ac-editing/model-editing/src/model/metric.py:205: RuntimeWarning: invalid value encountered in divide\n",
      "  return np.nan_to_num(2 * precisions * recalls / (precisions + recalls))\n"
     ]
    },
    {
     "name": "stdout",
     "output_type": "stream",
     "text": [
      "bin_idx > n_bins (55) delta1=1.25 new bump_amount: 6.310124542026688\n",
      "[0208_161922]***NEW ITR 76***\n"
     ]
    },
    {
     "name": "stderr",
     "output_type": "stream",
     "text": [
      "100%|█████████████████████████████████████████████████████████████████████| 274/274 [00:06<00:00, 40.63it/s]\n",
      "/n/fs/ac-editing/model-editing/src/model/metric.py:168: RuntimeWarning: invalid value encountered in divide\n",
      "  return np.nan_to_num(TPs / (TPs + FPs))\n",
      "/n/fs/ac-editing/model-editing/src/model/metric.py:205: RuntimeWarning: invalid value encountered in divide\n",
      "  return np.nan_to_num(2 * precisions * recalls / (precisions + recalls))\n"
     ]
    },
    {
     "name": "stdout",
     "output_type": "stream",
     "text": [
      "assigned bin_idx 43\n",
      "Cur bump_idx: 35 bump amount: 6.310124542026688 target_class_pred: 47442 bin_idx: 43\n",
      "Overshot to bin 43. Decreasing bump amount to 6.124532643731785 aiming for bin 35\n",
      "bumps: [0.2, 0.6103515625, 1.4901161193847656, 1.862645149230957, 2.3283064365386963, 2.6193447411060333, 2.9103830456733704, 3.092281986027956, 3.2741809263825417, 3.4788172342814505, 3.637978807091713, 3.751665644813329, 3.865352482534945, 4.092726157978177, 4.220623850414995, 4.348521542851813, 4.416467191958873, 4.547473508864641, 4.604316927725449, 4.7482018317168695, 4.89208673570829, 5.044964446199174, 5.115907697472721, 5.17985654369113, 5.341727060681478, 5.435651928564766, 5.503597577671826, 5.589591289822948, 5.675585001974071, 5.7199255098019925, 5.7553961596568115, 5.827338611652522, 5.847572426276315, 5.893256585856599, 5.9389407454368826, -1, -1, 6.03030906459745, -1, 6.115108419635362, 6.191547274880804, 6.213045702918585, -1, 6.310124542026688, -1, 6.385033127220829, -1, -1, 6.474820679613913, -1]\n",
      "[0208_161929]***NEW ITR 77***\n"
     ]
    },
    {
     "name": "stderr",
     "output_type": "stream",
     "text": [
      "100%|█████████████████████████████████████████████████████████████████████| 274/274 [00:06<00:00, 45.60it/s]\n"
     ]
    },
    {
     "name": "stdout",
     "output_type": "stream",
     "text": [
      "Overshot to bin 39. Decreasing bump amount to 6.031736694584334 aiming for bin 35\n",
      "bumps: [0.2, 0.6103515625, 1.4901161193847656, 1.862645149230957, 2.3283064365386963, 2.6193447411060333, 2.9103830456733704, 3.092281986027956, 3.2741809263825417, 3.4788172342814505, 3.637978807091713, 3.751665644813329, 3.865352482534945, 4.092726157978177, 4.220623850414995, 4.348521542851813, 4.416467191958873, 4.547473508864641, 4.604316927725449, 4.7482018317168695, 4.89208673570829, 5.044964446199174, 5.115907697472721, 5.17985654369113, 5.341727060681478, 5.435651928564766, 5.503597577671826, 5.589591289822948, 5.675585001974071, 5.7199255098019925, 5.7553961596568115, 5.827338611652522, 5.847572426276315, 5.893256585856599, 5.9389407454368826, -1, -1, 6.03030906459745, -1, 6.115108419635362, 6.191547274880804, 6.213045702918585, -1, 6.310124542026688, -1, 6.385033127220829, -1, -1, 6.474820679613913, -1]\n",
      "[0208_161935]***NEW ITR 78***\n"
     ]
    },
    {
     "name": "stderr",
     "output_type": "stream",
     "text": [
      "100%|█████████████████████████████████████████████████████████████████████| 274/274 [00:08<00:00, 31.15it/s]\n"
     ]
    },
    {
     "name": "stdout",
     "output_type": "stream",
     "text": [
      "Overshot to bin 37. Decreasing bump amount to 5.985338720010608 aiming for bin 35\n",
      "bumps: [0.2, 0.6103515625, 1.4901161193847656, 1.862645149230957, 2.3283064365386963, 2.6193447411060333, 2.9103830456733704, 3.092281986027956, 3.2741809263825417, 3.4788172342814505, 3.637978807091713, 3.751665644813329, 3.865352482534945, 4.092726157978177, 4.220623850414995, 4.348521542851813, 4.416467191958873, 4.547473508864641, 4.604316927725449, 4.7482018317168695, 4.89208673570829, 5.044964446199174, 5.115907697472721, 5.17985654369113, 5.341727060681478, 5.435651928564766, 5.503597577671826, 5.589591289822948, 5.675585001974071, 5.7199255098019925, 5.7553961596568115, 5.827338611652522, 5.847572426276315, 5.893256585856599, 5.9389407454368826, -1, -1, 6.03030906459745, -1, 6.115108419635362, 6.191547274880804, 6.213045702918585, -1, 6.310124542026688, -1, 6.385033127220829, -1, -1, 6.474820679613913, -1]\n",
      "[0208_161943]***NEW ITR 79***\n"
     ]
    },
    {
     "name": "stderr",
     "output_type": "stream",
     "text": [
      "100%|█████████████████████████████████████████████████████████████████████| 274/274 [00:06<00:00, 44.61it/s]\n"
     ]
    },
    {
     "name": "stdout",
     "output_type": "stream",
     "text": [
      "assigned bin_idx 36\n",
      "Cur bump_idx: 35 bump amount: 5.985338720010608 target_class_pred: 40908 bin_idx: 36\n",
      "Overshot to bin 36. Decreasing bump amount to 5.962139732723745 aiming for bin 35\n",
      "bumps: [0.2, 0.6103515625, 1.4901161193847656, 1.862645149230957, 2.3283064365386963, 2.6193447411060333, 2.9103830456733704, 3.092281986027956, 3.2741809263825417, 3.4788172342814505, 3.637978807091713, 3.751665644813329, 3.865352482534945, 4.092726157978177, 4.220623850414995, 4.348521542851813, 4.416467191958873, 4.547473508864641, 4.604316927725449, 4.7482018317168695, 4.89208673570829, 5.044964446199174, 5.115907697472721, 5.17985654369113, 5.341727060681478, 5.435651928564766, 5.503597577671826, 5.589591289822948, 5.675585001974071, 5.7199255098019925, 5.7553961596568115, 5.827338611652522, 5.847572426276315, 5.893256585856599, 5.9389407454368826, -1, 5.985338720010608, 6.03030906459745, -1, 6.115108419635362, 6.191547274880804, 6.213045702918585, -1, 6.310124542026688, -1, 6.385033127220829, -1, -1, 6.474820679613913, -1]\n",
      "[0208_161950]***NEW ITR 80***\n"
     ]
    },
    {
     "name": "stderr",
     "output_type": "stream",
     "text": [
      "100%|█████████████████████████████████████████████████████████████████████| 274/274 [00:05<00:00, 48.40it/s]\n"
     ]
    },
    {
     "name": "stdout",
     "output_type": "stream",
     "text": [
      "assigned bin_idx 35\n",
      "Cur bump_idx: 35 bump amount: 5.962139732723745 target_class_pred: 40318 bin_idx: 35\n",
      "updating cur_bump_idx to 36, bump_amount to 7.452674665904682\n",
      "bumps: [0.2, 0.6103515625, 1.4901161193847656, 1.862645149230957, 2.3283064365386963, 2.6193447411060333, 2.9103830456733704, 3.092281986027956, 3.2741809263825417, 3.4788172342814505, 3.637978807091713, 3.751665644813329, 3.865352482534945, 4.092726157978177, 4.220623850414995, 4.348521542851813, 4.416467191958873, 4.547473508864641, 4.604316927725449, 4.7482018317168695, 4.89208673570829, 5.044964446199174, 5.115907697472721, 5.17985654369113, 5.341727060681478, 5.435651928564766, 5.503597577671826, 5.589591289822948, 5.675585001974071, 5.7199255098019925, 5.7553961596568115, 5.827338611652522, 5.847572426276315, 5.893256585856599, 5.9389407454368826, 5.962139732723745, 5.985338720010608, 6.03030906459745, -1, 6.115108419635362, 6.191547274880804, 6.213045702918585, -1, 6.310124542026688, -1, 6.385033127220829, -1, -1, 6.474820679613913, -1]\n",
      "[0208_161955]***NEW ITR 81***\n",
      "[0208_161955]***NEW ITR 82***\n",
      "[0208_161955]***NEW ITR 83***\n"
     ]
    },
    {
     "name": "stderr",
     "output_type": "stream",
     "text": [
      "100%|█████████████████████████████████████████████████████████████████████| 274/274 [00:05<00:00, 46.38it/s]\n"
     ]
    },
    {
     "name": "stdout",
     "output_type": "stream",
     "text": [
      "bin_idx < cur_bump_idx (37 and 38) delta1=1.25 new bump_amount: 7.5378863307468125\n"
     ]
    },
    {
     "name": "stderr",
     "output_type": "stream",
     "text": [
      "100%|█████████████████████████████████████████████████████████████████████| 274/274 [00:05<00:00, 48.75it/s]\n",
      "/n/fs/ac-editing/model-editing/src/model/metric.py:168: RuntimeWarning: invalid value encountered in divide\n",
      "  return np.nan_to_num(TPs / (TPs + FPs))\n",
      "/n/fs/ac-editing/model-editing/src/model/metric.py:205: RuntimeWarning: invalid value encountered in divide\n",
      "  return np.nan_to_num(2 * precisions * recalls / (precisions + recalls))\n"
     ]
    },
    {
     "name": "stdout",
     "output_type": "stream",
     "text": [
      "bin_idx > n_bins (61) delta1=1.25 new bump_amount: 6.784097697672131\n",
      "[0208_162007]***NEW ITR 84***\n"
     ]
    },
    {
     "name": "stderr",
     "output_type": "stream",
     "text": [
      "100%|█████████████████████████████████████████████████████████████████████| 274/274 [00:06<00:00, 45.58it/s]\n",
      "/n/fs/ac-editing/model-editing/src/model/metric.py:168: RuntimeWarning: invalid value encountered in divide\n",
      "  return np.nan_to_num(TPs / (TPs + FPs))\n",
      "/n/fs/ac-editing/model-editing/src/model/metric.py:205: RuntimeWarning: invalid value encountered in divide\n",
      "  return np.nan_to_num(2 * precisions * recalls / (precisions + recalls))\n"
     ]
    },
    {
     "name": "stdout",
     "output_type": "stream",
     "text": [
      "bin_idx > n_bins (56) delta1=1.25 new bump_amount: 6.40720338113479\n",
      "[0208_162013]***NEW ITR 85***\n"
     ]
    },
    {
     "name": "stderr",
     "output_type": "stream",
     "text": [
      "100%|█████████████████████████████████████████████████████████████████████| 274/274 [00:05<00:00, 46.78it/s]\n",
      "/n/fs/ac-editing/model-editing/src/model/metric.py:168: RuntimeWarning: invalid value encountered in divide\n",
      "  return np.nan_to_num(TPs / (TPs + FPs))\n",
      "/n/fs/ac-editing/model-editing/src/model/metric.py:205: RuntimeWarning: invalid value encountered in divide\n",
      "  return np.nan_to_num(2 * precisions * recalls / (precisions + recalls))\n"
     ]
    },
    {
     "name": "stdout",
     "output_type": "stream",
     "text": [
      "assigned bin_idx 46\n",
      "Cur bump_idx: 38 bump amount: 6.40720338113479 target_class_pred: 49784 bin_idx: 46\n",
      "Overshot to bin 46. Decreasing bump amount to 6.21875622286612 aiming for bin 38\n",
      "bumps: [0.2, 0.6103515625, 1.4901161193847656, 1.862645149230957, 2.3283064365386963, 2.6193447411060333, 2.9103830456733704, 3.092281986027956, 3.2741809263825417, 3.4788172342814505, 3.637978807091713, 3.751665644813329, 3.865352482534945, 4.092726157978177, 4.220623850414995, 4.348521542851813, 4.416467191958873, 4.547473508864641, 4.604316927725449, 4.7482018317168695, 4.89208673570829, 5.044964446199174, 5.115907697472721, 5.17985654369113, 5.341727060681478, 5.435651928564766, 5.503597577671826, 5.589591289822948, 5.675585001974071, 5.7199255098019925, 5.7553961596568115, 5.827338611652522, 5.847572426276315, 5.893256585856599, 5.9389407454368826, 5.962139732723745, 5.985338720010608, 6.03030906459745, -1, 6.115108419635362, 6.191547274880804, 6.213045702918585, -1, 6.310124542026688, -1, 6.385033127220829, 6.40720338113479, -1, 6.474820679613913, -1]\n",
      "[0208_162019]***NEW ITR 86***\n"
     ]
    },
    {
     "name": "stderr",
     "output_type": "stream",
     "text": [
      "100%|█████████████████████████████████████████████████████████████████████| 274/274 [00:06<00:00, 45.21it/s]\n",
      "/n/fs/ac-editing/model-editing/src/model/metric.py:168: RuntimeWarning: invalid value encountered in divide\n",
      "  return np.nan_to_num(TPs / (TPs + FPs))\n",
      "/n/fs/ac-editing/model-editing/src/model/metric.py:205: RuntimeWarning: invalid value encountered in divide\n",
      "  return np.nan_to_num(2 * precisions * recalls / (precisions + recalls))\n"
     ]
    },
    {
     "name": "stdout",
     "output_type": "stream",
     "text": [
      "Overshot to bin 41. Decreasing bump amount to 6.124532643731785 aiming for bin 38\n",
      "bumps: [0.2, 0.6103515625, 1.4901161193847656, 1.862645149230957, 2.3283064365386963, 2.6193447411060333, 2.9103830456733704, 3.092281986027956, 3.2741809263825417, 3.4788172342814505, 3.637978807091713, 3.751665644813329, 3.865352482534945, 4.092726157978177, 4.220623850414995, 4.348521542851813, 4.416467191958873, 4.547473508864641, 4.604316927725449, 4.7482018317168695, 4.89208673570829, 5.044964446199174, 5.115907697472721, 5.17985654369113, 5.341727060681478, 5.435651928564766, 5.503597577671826, 5.589591289822948, 5.675585001974071, 5.7199255098019925, 5.7553961596568115, 5.827338611652522, 5.847572426276315, 5.893256585856599, 5.9389407454368826, 5.962139732723745, 5.985338720010608, 6.03030906459745, -1, 6.115108419635362, 6.191547274880804, 6.213045702918585, -1, 6.310124542026688, -1, 6.385033127220829, 6.40720338113479, -1, 6.474820679613913, -1]\n",
      "[0208_162025]***NEW ITR 87***\n"
     ]
    },
    {
     "name": "stderr",
     "output_type": "stream",
     "text": [
      "100%|█████████████████████████████████████████████████████████████████████| 274/274 [00:05<00:00, 46.70it/s]\n"
     ]
    },
    {
     "name": "stdout",
     "output_type": "stream",
     "text": [
      "Overshot to bin 39. Decreasing bump amount to 6.077420854164617 aiming for bin 38\n",
      "bumps: [0.2, 0.6103515625, 1.4901161193847656, 1.862645149230957, 2.3283064365386963, 2.6193447411060333, 2.9103830456733704, 3.092281986027956, 3.2741809263825417, 3.4788172342814505, 3.637978807091713, 3.751665644813329, 3.865352482534945, 4.092726157978177, 4.220623850414995, 4.348521542851813, 4.416467191958873, 4.547473508864641, 4.604316927725449, 4.7482018317168695, 4.89208673570829, 5.044964446199174, 5.115907697472721, 5.17985654369113, 5.341727060681478, 5.435651928564766, 5.503597577671826, 5.589591289822948, 5.675585001974071, 5.7199255098019925, 5.7553961596568115, 5.827338611652522, 5.847572426276315, 5.893256585856599, 5.9389407454368826, 5.962139732723745, 5.985338720010608, 6.03030906459745, -1, 6.115108419635362, 6.191547274880804, 6.213045702918585, -1, 6.310124542026688, -1, 6.385033127220829, 6.40720338113479, -1, 6.474820679613913, -1]\n",
      "[0208_162031]***NEW ITR 88***\n"
     ]
    },
    {
     "name": "stderr",
     "output_type": "stream",
     "text": [
      "100%|█████████████████████████████████████████████████████████████████████| 274/274 [00:05<00:00, 47.11it/s]\n"
     ]
    },
    {
     "name": "stdout",
     "output_type": "stream",
     "text": [
      "assigned bin_idx 38\n",
      "Cur bump_idx: 38 bump amount: 6.077420854164617 target_class_pred: 42913 bin_idx: 38\n",
      "updating cur_bump_idx to 39, bump_amount to 7.596776067705772\n",
      "bumps: [0.2, 0.6103515625, 1.4901161193847656, 1.862645149230957, 2.3283064365386963, 2.6193447411060333, 2.9103830456733704, 3.092281986027956, 3.2741809263825417, 3.4788172342814505, 3.637978807091713, 3.751665644813329, 3.865352482534945, 4.092726157978177, 4.220623850414995, 4.348521542851813, 4.416467191958873, 4.547473508864641, 4.604316927725449, 4.7482018317168695, 4.89208673570829, 5.044964446199174, 5.115907697472721, 5.17985654369113, 5.341727060681478, 5.435651928564766, 5.503597577671826, 5.589591289822948, 5.675585001974071, 5.7199255098019925, 5.7553961596568115, 5.827338611652522, 5.847572426276315, 5.893256585856599, 5.9389407454368826, 5.962139732723745, 5.985338720010608, 6.03030906459745, 6.077420854164617, 6.115108419635362, 6.191547274880804, 6.213045702918585, -1, 6.310124542026688, -1, 6.385033127220829, 6.40720338113479, -1, 6.474820679613913, -1]\n",
      "[0208_162037]***NEW ITR 89***\n",
      "[0208_162037]***NEW ITR 90***\n",
      "[0208_162037]***NEW ITR 91***\n",
      "[0208_162037]***NEW ITR 92***\n"
     ]
    },
    {
     "name": "stderr",
     "output_type": "stream",
     "text": [
      "100%|█████████████████████████████████████████████████████████████████████| 274/274 [00:07<00:00, 34.30it/s]\n",
      "/n/fs/ac-editing/model-editing/src/model/metric.py:168: RuntimeWarning: invalid value encountered in divide\n",
      "  return np.nan_to_num(TPs / (TPs + FPs))\n",
      "/n/fs/ac-editing/model-editing/src/model/metric.py:205: RuntimeWarning: invalid value encountered in divide\n",
      "  return np.nan_to_num(2 * precisions * recalls / (precisions + recalls))\n"
     ]
    },
    {
     "name": "stdout",
     "output_type": "stream",
     "text": [
      "bin_idx < cur_bump_idx (41 and 42) delta1=1.25 new bump_amount: 7.766307128648231\n"
     ]
    },
    {
     "name": "stderr",
     "output_type": "stream",
     "text": [
      "100%|█████████████████████████████████████████████████████████████████████| 274/274 [00:05<00:00, 48.08it/s]\n",
      "/n/fs/ac-editing/model-editing/src/model/metric.py:168: RuntimeWarning: invalid value encountered in divide\n",
      "  return np.nan_to_num(TPs / (TPs + FPs))\n",
      "/n/fs/ac-editing/model-editing/src/model/metric.py:205: RuntimeWarning: invalid value encountered in divide\n",
      "  return np.nan_to_num(2 * precisions * recalls / (precisions + recalls))\n"
     ]
    },
    {
     "name": "stdout",
     "output_type": "stream",
     "text": [
      "bin_idx > n_bins (61) delta1=1.25 new bump_amount: 6.989676415783408\n",
      "[0208_162050]***NEW ITR 93***\n"
     ]
    },
    {
     "name": "stderr",
     "output_type": "stream",
     "text": [
      "100%|█████████████████████████████████████████████████████████████████████| 274/274 [00:05<00:00, 45.91it/s]\n",
      "/n/fs/ac-editing/model-editing/src/model/metric.py:168: RuntimeWarning: invalid value encountered in divide\n",
      "  return np.nan_to_num(TPs / (TPs + FPs))\n",
      "/n/fs/ac-editing/model-editing/src/model/metric.py:205: RuntimeWarning: invalid value encountered in divide\n",
      "  return np.nan_to_num(2 * precisions * recalls / (precisions + recalls))\n"
     ]
    },
    {
     "name": "stdout",
     "output_type": "stream",
     "text": [
      "bin_idx > n_bins (59) delta1=1.25 new bump_amount: 6.601361059350996\n",
      "[0208_162056]***NEW ITR 94***\n"
     ]
    },
    {
     "name": "stderr",
     "output_type": "stream",
     "text": [
      "100%|█████████████████████████████████████████████████████████████████████| 274/274 [00:05<00:00, 45.68it/s]\n",
      "/n/fs/ac-editing/model-editing/src/model/metric.py:168: RuntimeWarning: invalid value encountered in divide\n",
      "  return np.nan_to_num(TPs / (TPs + FPs))\n",
      "/n/fs/ac-editing/model-editing/src/model/metric.py:205: RuntimeWarning: invalid value encountered in divide\n",
      "  return np.nan_to_num(2 * precisions * recalls / (precisions + recalls))\n"
     ]
    },
    {
     "name": "stdout",
     "output_type": "stream",
     "text": [
      "bin_idx > n_bins (52) delta1=1.25 new bump_amount: 6.40720338113479\n",
      "[0208_162102]***NEW ITR 95***\n"
     ]
    },
    {
     "name": "stderr",
     "output_type": "stream",
     "text": [
      "100%|█████████████████████████████████████████████████████████████████████| 274/274 [00:05<00:00, 46.90it/s]\n",
      "/n/fs/ac-editing/model-editing/src/model/metric.py:168: RuntimeWarning: invalid value encountered in divide\n",
      "  return np.nan_to_num(TPs / (TPs + FPs))\n",
      "/n/fs/ac-editing/model-editing/src/model/metric.py:205: RuntimeWarning: invalid value encountered in divide\n",
      "  return np.nan_to_num(2 * precisions * recalls / (precisions + recalls))\n"
     ]
    },
    {
     "name": "stdout",
     "output_type": "stream",
     "text": [
      "Overshot to bin 46. Decreasing bump amount to 6.310124542026688 aiming for bin 42\n",
      "bumps: [0.2, 0.6103515625, 1.4901161193847656, 1.862645149230957, 2.3283064365386963, 2.6193447411060333, 2.9103830456733704, 3.092281986027956, 3.2741809263825417, 3.4788172342814505, 3.637978807091713, 3.751665644813329, 3.865352482534945, 4.092726157978177, 4.220623850414995, 4.348521542851813, 4.416467191958873, 4.547473508864641, 4.604316927725449, 4.7482018317168695, 4.89208673570829, 5.044964446199174, 5.115907697472721, 5.17985654369113, 5.341727060681478, 5.435651928564766, 5.503597577671826, 5.589591289822948, 5.675585001974071, 5.7199255098019925, 5.7553961596568115, 5.827338611652522, 5.847572426276315, 5.893256585856599, 5.9389407454368826, 5.962139732723745, 5.985338720010608, 6.03030906459745, 6.077420854164617, 6.115108419635362, 6.191547274880804, 6.213045702918585, -1, 6.310124542026688, -1, 6.385033127220829, 6.40720338113479, -1, 6.474820679613913, -1]\n",
      "[0208_162108]***NEW ITR 96***\n"
     ]
    },
    {
     "name": "stderr",
     "output_type": "stream",
     "text": [
      "100%|█████████████████████████████████████████████████████████████████████| 274/274 [00:05<00:00, 48.58it/s]\n",
      "/n/fs/ac-editing/model-editing/src/model/metric.py:168: RuntimeWarning: invalid value encountered in divide\n",
      "  return np.nan_to_num(TPs / (TPs + FPs))\n",
      "/n/fs/ac-editing/model-editing/src/model/metric.py:205: RuntimeWarning: invalid value encountered in divide\n",
      "  return np.nan_to_num(2 * precisions * recalls / (precisions + recalls))\n"
     ]
    },
    {
     "name": "stdout",
     "output_type": "stream",
     "text": [
      "Overshot to bin 43. Decreasing bump amount to 6.261585122472637 aiming for bin 42\n",
      "bumps: [0.2, 0.6103515625, 1.4901161193847656, 1.862645149230957, 2.3283064365386963, 2.6193447411060333, 2.9103830456733704, 3.092281986027956, 3.2741809263825417, 3.4788172342814505, 3.637978807091713, 3.751665644813329, 3.865352482534945, 4.092726157978177, 4.220623850414995, 4.348521542851813, 4.416467191958873, 4.547473508864641, 4.604316927725449, 4.7482018317168695, 4.89208673570829, 5.044964446199174, 5.115907697472721, 5.17985654369113, 5.341727060681478, 5.435651928564766, 5.503597577671826, 5.589591289822948, 5.675585001974071, 5.7199255098019925, 5.7553961596568115, 5.827338611652522, 5.847572426276315, 5.893256585856599, 5.9389407454368826, 5.962139732723745, 5.985338720010608, 6.03030906459745, 6.077420854164617, 6.115108419635362, 6.191547274880804, 6.213045702918585, -1, 6.310124542026688, -1, 6.385033127220829, 6.40720338113479, -1, 6.474820679613913, -1]\n",
      "[0208_162114]***NEW ITR 97***\n"
     ]
    },
    {
     "name": "stderr",
     "output_type": "stream",
     "text": [
      "100%|█████████████████████████████████████████████████████████████████████| 274/274 [00:05<00:00, 47.61it/s]\n",
      "/n/fs/ac-editing/model-editing/src/model/metric.py:168: RuntimeWarning: invalid value encountered in divide\n",
      "  return np.nan_to_num(TPs / (TPs + FPs))\n",
      "/n/fs/ac-editing/model-editing/src/model/metric.py:205: RuntimeWarning: invalid value encountered in divide\n",
      "  return np.nan_to_num(2 * precisions * recalls / (precisions + recalls))\n"
     ]
    },
    {
     "name": "stdout",
     "output_type": "stream",
     "text": [
      "assigned bin_idx 42\n",
      "Cur bump_idx: 42 bump amount: 6.261585122472637 target_class_pred: 46349 bin_idx: 42\n",
      "updating cur_bump_idx to 43, bump_amount to 7.826981403090796\n",
      "bumps: [0.2, 0.6103515625, 1.4901161193847656, 1.862645149230957, 2.3283064365386963, 2.6193447411060333, 2.9103830456733704, 3.092281986027956, 3.2741809263825417, 3.4788172342814505, 3.637978807091713, 3.751665644813329, 3.865352482534945, 4.092726157978177, 4.220623850414995, 4.348521542851813, 4.416467191958873, 4.547473508864641, 4.604316927725449, 4.7482018317168695, 4.89208673570829, 5.044964446199174, 5.115907697472721, 5.17985654369113, 5.341727060681478, 5.435651928564766, 5.503597577671826, 5.589591289822948, 5.675585001974071, 5.7199255098019925, 5.7553961596568115, 5.827338611652522, 5.847572426276315, 5.893256585856599, 5.9389407454368826, 5.962139732723745, 5.985338720010608, 6.03030906459745, 6.077420854164617, 6.115108419635362, 6.191547274880804, 6.213045702918585, 6.261585122472637, 6.310124542026688, -1, 6.385033127220829, 6.40720338113479, -1, 6.474820679613913, -1]\n",
      "[0208_162120]***NEW ITR 98***\n",
      "[0208_162120]***NEW ITR 99***\n"
     ]
    },
    {
     "name": "stderr",
     "output_type": "stream",
     "text": [
      "100%|█████████████████████████████████████████████████████████████████████| 274/274 [00:05<00:00, 47.14it/s]\n",
      "/n/fs/ac-editing/model-editing/src/model/metric.py:168: RuntimeWarning: invalid value encountered in divide\n",
      "  return np.nan_to_num(TPs / (TPs + FPs))\n",
      "/n/fs/ac-editing/model-editing/src/model/metric.py:205: RuntimeWarning: invalid value encountered in divide\n",
      "  return np.nan_to_num(2 * precisions * recalls / (precisions + recalls))\n"
     ]
    },
    {
     "name": "stdout",
     "output_type": "stream",
     "text": [
      "bin_idx < cur_bump_idx (43 and 44) delta1=1.25 new bump_amount: 7.88765567753336\n"
     ]
    },
    {
     "name": "stderr",
     "output_type": "stream",
     "text": [
      "100%|█████████████████████████████████████████████████████████████████████| 274/274 [00:06<00:00, 44.96it/s]\n",
      "/n/fs/ac-editing/model-editing/src/model/metric.py:168: RuntimeWarning: invalid value encountered in divide\n",
      "  return np.nan_to_num(TPs / (TPs + FPs))\n",
      "/n/fs/ac-editing/model-editing/src/model/metric.py:205: RuntimeWarning: invalid value encountered in divide\n",
      "  return np.nan_to_num(2 * precisions * recalls / (precisions + recalls))\n"
     ]
    },
    {
     "name": "stdout",
     "output_type": "stream",
     "text": [
      "bin_idx > n_bins (62) delta1=1.25 new bump_amount: 7.098890109780024\n",
      "[0208_162132]***NEW ITR 100***\n"
     ]
    },
    {
     "name": "stderr",
     "output_type": "stream",
     "text": [
      "100%|█████████████████████████████████████████████████████████████████████| 274/274 [00:06<00:00, 44.17it/s]\n",
      "/n/fs/ac-editing/model-editing/src/model/metric.py:168: RuntimeWarning: invalid value encountered in divide\n",
      "  return np.nan_to_num(TPs / (TPs + FPs))\n",
      "/n/fs/ac-editing/model-editing/src/model/metric.py:205: RuntimeWarning: invalid value encountered in divide\n",
      "  return np.nan_to_num(2 * precisions * recalls / (precisions + recalls))\n"
     ]
    },
    {
     "name": "stdout",
     "output_type": "stream",
     "text": [
      "bin_idx > n_bins (60) delta1=1.25 new bump_amount: 6.704507325903355\n",
      "[0208_162138]***NEW ITR 101***\n"
     ]
    },
    {
     "name": "stderr",
     "output_type": "stream",
     "text": [
      "100%|█████████████████████████████████████████████████████████████████████| 274/274 [00:08<00:00, 32.86it/s]\n",
      "/n/fs/ac-editing/model-editing/src/model/metric.py:168: RuntimeWarning: invalid value encountered in divide\n",
      "  return np.nan_to_num(TPs / (TPs + FPs))\n",
      "/n/fs/ac-editing/model-editing/src/model/metric.py:205: RuntimeWarning: invalid value encountered in divide\n",
      "  return np.nan_to_num(2 * precisions * recalls / (precisions + recalls))\n"
     ]
    },
    {
     "name": "stdout",
     "output_type": "stream",
     "text": [
      "bin_idx > n_bins (55) delta1=1.25 new bump_amount: 6.507315933965021\n",
      "[0208_162146]***NEW ITR 102***\n"
     ]
    },
    {
     "name": "stderr",
     "output_type": "stream",
     "text": [
      "100%|█████████████████████████████████████████████████████████████████████| 274/274 [00:06<00:00, 45.60it/s]\n",
      "/n/fs/ac-editing/model-editing/src/model/metric.py:168: RuntimeWarning: invalid value encountered in divide\n",
      "  return np.nan_to_num(TPs / (TPs + FPs))\n",
      "/n/fs/ac-editing/model-editing/src/model/metric.py:205: RuntimeWarning: invalid value encountered in divide\n",
      "  return np.nan_to_num(2 * precisions * recalls / (precisions + recalls))\n"
     ]
    },
    {
     "name": "stdout",
     "output_type": "stream",
     "text": [
      "assigned bin_idx 49\n",
      "Cur bump_idx: 44 bump amount: 6.507315933965021 target_class_pred: 52804 bin_idx: 49\n",
      "Overshot to bin 49. Decreasing bump amount to 6.408720237995855 aiming for bin 44\n",
      "bumps: [0.2, 0.6103515625, 1.4901161193847656, 1.862645149230957, 2.3283064365386963, 2.6193447411060333, 2.9103830456733704, 3.092281986027956, 3.2741809263825417, 3.4788172342814505, 3.637978807091713, 3.751665644813329, 3.865352482534945, 4.092726157978177, 4.220623850414995, 4.348521542851813, 4.416467191958873, 4.547473508864641, 4.604316927725449, 4.7482018317168695, 4.89208673570829, 5.044964446199174, 5.115907697472721, 5.17985654369113, 5.341727060681478, 5.435651928564766, 5.503597577671826, 5.589591289822948, 5.675585001974071, 5.7199255098019925, 5.7553961596568115, 5.827338611652522, 5.847572426276315, 5.893256585856599, 5.9389407454368826, 5.962139732723745, 5.985338720010608, 6.03030906459745, 6.077420854164617, 6.115108419635362, 6.191547274880804, 6.213045702918585, 6.261585122472637, 6.310124542026688, -1, 6.385033127220829, 6.40720338113479, -1, 6.474820679613913, 6.507315933965021]\n",
      "[0208_162152]***NEW ITR 103***\n"
     ]
    },
    {
     "name": "stderr",
     "output_type": "stream",
     "text": [
      "100%|█████████████████████████████████████████████████████████████████████| 274/274 [00:05<00:00, 47.49it/s]\n",
      "/n/fs/ac-editing/model-editing/src/model/metric.py:168: RuntimeWarning: invalid value encountered in divide\n",
      "  return np.nan_to_num(TPs / (TPs + FPs))\n",
      "/n/fs/ac-editing/model-editing/src/model/metric.py:205: RuntimeWarning: invalid value encountered in divide\n",
      "  return np.nan_to_num(2 * precisions * recalls / (precisions + recalls))\n"
     ]
    },
    {
     "name": "stdout",
     "output_type": "stream",
     "text": [
      "Overshot to bin 46. Decreasing bump amount to 6.359422390011272 aiming for bin 44\n",
      "bumps: [0.2, 0.6103515625, 1.4901161193847656, 1.862645149230957, 2.3283064365386963, 2.6193447411060333, 2.9103830456733704, 3.092281986027956, 3.2741809263825417, 3.4788172342814505, 3.637978807091713, 3.751665644813329, 3.865352482534945, 4.092726157978177, 4.220623850414995, 4.348521542851813, 4.416467191958873, 4.547473508864641, 4.604316927725449, 4.7482018317168695, 4.89208673570829, 5.044964446199174, 5.115907697472721, 5.17985654369113, 5.341727060681478, 5.435651928564766, 5.503597577671826, 5.589591289822948, 5.675585001974071, 5.7199255098019925, 5.7553961596568115, 5.827338611652522, 5.847572426276315, 5.893256585856599, 5.9389407454368826, 5.962139732723745, 5.985338720010608, 6.03030906459745, 6.077420854164617, 6.115108419635362, 6.191547274880804, 6.213045702918585, 6.261585122472637, 6.310124542026688, -1, 6.385033127220829, 6.40720338113479, -1, 6.474820679613913, 6.507315933965021]\n",
      "[0208_162158]***NEW ITR 104***\n"
     ]
    },
    {
     "name": "stderr",
     "output_type": "stream",
     "text": [
      "100%|█████████████████████████████████████████████████████████████████████| 274/274 [00:06<00:00, 45.03it/s]\n",
      "/n/fs/ac-editing/model-editing/src/model/metric.py:168: RuntimeWarning: invalid value encountered in divide\n",
      "  return np.nan_to_num(TPs / (TPs + FPs))\n",
      "/n/fs/ac-editing/model-editing/src/model/metric.py:205: RuntimeWarning: invalid value encountered in divide\n",
      "  return np.nan_to_num(2 * precisions * recalls / (precisions + recalls))\n"
     ]
    },
    {
     "name": "stdout",
     "output_type": "stream",
     "text": [
      "assigned bin_idx 44\n",
      "Cur bump_idx: 44 bump amount: 6.359422390011272 target_class_pred: 48539 bin_idx: 44\n",
      "updating cur_bump_idx to 45, bump_amount to 7.9492779875140895\n",
      "bumps: [0.2, 0.6103515625, 1.4901161193847656, 1.862645149230957, 2.3283064365386963, 2.6193447411060333, 2.9103830456733704, 3.092281986027956, 3.2741809263825417, 3.4788172342814505, 3.637978807091713, 3.751665644813329, 3.865352482534945, 4.092726157978177, 4.220623850414995, 4.348521542851813, 4.416467191958873, 4.547473508864641, 4.604316927725449, 4.7482018317168695, 4.89208673570829, 5.044964446199174, 5.115907697472721, 5.17985654369113, 5.341727060681478, 5.435651928564766, 5.503597577671826, 5.589591289822948, 5.675585001974071, 5.7199255098019925, 5.7553961596568115, 5.827338611652522, 5.847572426276315, 5.893256585856599, 5.9389407454368826, 5.962139732723745, 5.985338720010608, 6.03030906459745, 6.077420854164617, 6.115108419635362, 6.191547274880804, 6.213045702918585, 6.261585122472637, 6.310124542026688, 6.359422390011272, 6.385033127220829, 6.40720338113479, -1, 6.474820679613913, 6.507315933965021]\n",
      "[0208_162204]***NEW ITR 105***\n",
      "[0208_162204]***NEW ITR 106***\n",
      "[0208_162204]***NEW ITR 107***\n"
     ]
    },
    {
     "name": "stderr",
     "output_type": "stream",
     "text": [
      "100%|█████████████████████████████████████████████████████████████████████| 274/274 [00:05<00:00, 46.95it/s]\n",
      "/n/fs/ac-editing/model-editing/src/model/metric.py:168: RuntimeWarning: invalid value encountered in divide\n",
      "  return np.nan_to_num(TPs / (TPs + FPs))\n",
      "/n/fs/ac-editing/model-editing/src/model/metric.py:205: RuntimeWarning: invalid value encountered in divide\n",
      "  return np.nan_to_num(2 * precisions * recalls / (precisions + recalls))\n"
     ]
    },
    {
     "name": "stdout",
     "output_type": "stream",
     "text": [
      "bin_idx < cur_bump_idx (46 and 47) delta1=1.25 new bump_amount: 8.009004226418488\n"
     ]
    },
    {
     "name": "stderr",
     "output_type": "stream",
     "text": [
      "100%|█████████████████████████████████████████████████████████████████████| 274/274 [00:05<00:00, 47.63it/s]\n",
      "/n/fs/ac-editing/model-editing/src/model/metric.py:168: RuntimeWarning: invalid value encountered in divide\n",
      "  return np.nan_to_num(TPs / (TPs + FPs))\n",
      "/n/fs/ac-editing/model-editing/src/model/metric.py:205: RuntimeWarning: invalid value encountered in divide\n",
      "  return np.nan_to_num(2 * precisions * recalls / (precisions + recalls))\n"
     ]
    },
    {
     "name": "stdout",
     "output_type": "stream",
     "text": [
      "bin_idx > n_bins (63) delta1=1.25 new bump_amount: 7.208103803776639\n",
      "[0208_162216]***NEW ITR 108***\n"
     ]
    },
    {
     "name": "stderr",
     "output_type": "stream",
     "text": [
      "100%|█████████████████████████████████████████████████████████████████████| 274/274 [00:05<00:00, 47.11it/s]\n",
      "/n/fs/ac-editing/model-editing/src/model/metric.py:168: RuntimeWarning: invalid value encountered in divide\n",
      "  return np.nan_to_num(TPs / (TPs + FPs))\n",
      "/n/fs/ac-editing/model-editing/src/model/metric.py:205: RuntimeWarning: invalid value encountered in divide\n",
      "  return np.nan_to_num(2 * precisions * recalls / (precisions + recalls))\n"
     ]
    },
    {
     "name": "stdout",
     "output_type": "stream",
     "text": [
      "bin_idx > n_bins (60) delta1=1.25 new bump_amount: 6.807653592455715\n",
      "[0208_162222]***NEW ITR 109***\n"
     ]
    },
    {
     "name": "stderr",
     "output_type": "stream",
     "text": [
      "100%|█████████████████████████████████████████████████████████████████████| 274/274 [00:05<00:00, 46.51it/s]\n",
      "/n/fs/ac-editing/model-editing/src/model/metric.py:168: RuntimeWarning: invalid value encountered in divide\n",
      "  return np.nan_to_num(TPs / (TPs + FPs))\n",
      "/n/fs/ac-editing/model-editing/src/model/metric.py:205: RuntimeWarning: invalid value encountered in divide\n",
      "  return np.nan_to_num(2 * precisions * recalls / (precisions + recalls))\n"
     ]
    },
    {
     "name": "stdout",
     "output_type": "stream",
     "text": [
      "bin_idx > n_bins (57) delta1=1.25 new bump_amount: 6.607428486795253\n",
      "[0208_162227]***NEW ITR 110***\n"
     ]
    },
    {
     "name": "stderr",
     "output_type": "stream",
     "text": [
      "100%|█████████████████████████████████████████████████████████████████████| 274/274 [00:06<00:00, 45.25it/s]\n",
      "/n/fs/ac-editing/model-editing/src/model/metric.py:168: RuntimeWarning: invalid value encountered in divide\n",
      "  return np.nan_to_num(TPs / (TPs + FPs))\n",
      "/n/fs/ac-editing/model-editing/src/model/metric.py:205: RuntimeWarning: invalid value encountered in divide\n",
      "  return np.nan_to_num(2 * precisions * recalls / (precisions + recalls))\n"
     ]
    },
    {
     "name": "stdout",
     "output_type": "stream",
     "text": [
      "bin_idx > n_bins (53) delta1=1.25 new bump_amount: 6.507315933965021\n",
      "[0208_162234]***NEW ITR 111***\n"
     ]
    },
    {
     "name": "stderr",
     "output_type": "stream",
     "text": [
      "100%|█████████████████████████████████████████████████████████████████████| 274/274 [00:06<00:00, 44.76it/s]\n",
      "/n/fs/ac-editing/model-editing/src/model/metric.py:168: RuntimeWarning: invalid value encountered in divide\n",
      "  return np.nan_to_num(TPs / (TPs + FPs))\n",
      "/n/fs/ac-editing/model-editing/src/model/metric.py:205: RuntimeWarning: invalid value encountered in divide\n",
      "  return np.nan_to_num(2 * precisions * recalls / (precisions + recalls))\n"
     ]
    },
    {
     "name": "stdout",
     "output_type": "stream",
     "text": [
      "Overshot to bin 49. Decreasing bump amount to 6.457259657549906 aiming for bin 47\n",
      "bumps: [0.2, 0.6103515625, 1.4901161193847656, 1.862645149230957, 2.3283064365386963, 2.6193447411060333, 2.9103830456733704, 3.092281986027956, 3.2741809263825417, 3.4788172342814505, 3.637978807091713, 3.751665644813329, 3.865352482534945, 4.092726157978177, 4.220623850414995, 4.348521542851813, 4.416467191958873, 4.547473508864641, 4.604316927725449, 4.7482018317168695, 4.89208673570829, 5.044964446199174, 5.115907697472721, 5.17985654369113, 5.341727060681478, 5.435651928564766, 5.503597577671826, 5.589591289822948, 5.675585001974071, 5.7199255098019925, 5.7553961596568115, 5.827338611652522, 5.847572426276315, 5.893256585856599, 5.9389407454368826, 5.962139732723745, 5.985338720010608, 6.03030906459745, 6.077420854164617, 6.115108419635362, 6.191547274880804, 6.213045702918585, 6.261585122472637, 6.310124542026688, 6.359422390011272, 6.385033127220829, 6.40720338113479, -1, 6.474820679613913, 6.507315933965021]\n",
      "[0208_162240]***NEW ITR 112***\n"
     ]
    },
    {
     "name": "stderr",
     "output_type": "stream",
     "text": [
      "100%|█████████████████████████████████████████████████████████████████████| 274/274 [00:08<00:00, 32.64it/s]"
     ]
    },
    {
     "name": "stdout",
     "output_type": "stream",
     "text": [
      "assigned bin_idx 47\n",
      "Cur bump_idx: 47 bump amount: 6.457259657549906 target_class_pred: 51193 bin_idx: 47\n",
      "updating cur_bump_idx to 48, bump_amount to 8.071574571937383\n",
      "bumps: [0.2, 0.6103515625, 1.4901161193847656, 1.862645149230957, 2.3283064365386963, 2.6193447411060333, 2.9103830456733704, 3.092281986027956, 3.2741809263825417, 3.4788172342814505, 3.637978807091713, 3.751665644813329, 3.865352482534945, 4.092726157978177, 4.220623850414995, 4.348521542851813, 4.416467191958873, 4.547473508864641, 4.604316927725449, 4.7482018317168695, 4.89208673570829, 5.044964446199174, 5.115907697472721, 5.17985654369113, 5.341727060681478, 5.435651928564766, 5.503597577671826, 5.589591289822948, 5.675585001974071, 5.7199255098019925, 5.7553961596568115, 5.827338611652522, 5.847572426276315, 5.893256585856599, 5.9389407454368826, 5.962139732723745, 5.985338720010608, 6.03030906459745, 6.077420854164617, 6.115108419635362, 6.191547274880804, 6.213045702918585, 6.261585122472637, 6.310124542026688, 6.359422390011272, 6.385033127220829, 6.40720338113479, 6.457259657549906, 6.474820679613913, 6.507315933965021]\n",
      "[0208_162248]***NEW ITR 113***\n",
      "[0208_162248]***NEW ITR 114***\n",
      "Saved data to saved/edit/experiments/bump_edits/CINIC10_ImageNet-VGG_16/0208_112555/airplane_100/bumps_preds_metrics.pth\n"
     ]
    },
    {
     "name": "stderr",
     "output_type": "stream",
     "text": [
      "\n",
      "/n/fs/ac-editing/model-editing/src/model/metric.py:168: RuntimeWarning: invalid value encountered in divide\n",
      "  return np.nan_to_num(TPs / (TPs + FPs))\n",
      "/n/fs/ac-editing/model-editing/src/model/metric.py:205: RuntimeWarning: invalid value encountered in divide\n",
      "  return np.nan_to_num(2 * precisions * recalls / (precisions + recalls))\n"
     ]
    }
   ],
   "source": [
    "target_class_distribution_path = os.path.join(root_dir, 'target_class_distribution.pth').format(\n",
    "    class_name)\n",
    "target_class_distribution = torch.load(target_class_distribution_path)\n",
    "bin_lows = target_class_distribution['histogram_bins']\n",
    "\n",
    "save_dir = os.path.join(os.path.dirname(config.save_dir), '{}_{}'.format(class_name, n_select))\n",
    "\n",
    "match_bump_edits(\n",
    "    data_loader=val_paths_data_loader,\n",
    "    model=model,\n",
    "    loss_fn=loss_fn,\n",
    "    metric_fns=metric_fns,\n",
    "    device=device,\n",
    "    bin_lows=bin_lows,\n",
    "    target_class_idx=target_class_idx,\n",
    "    save_dir=save_dir)"
   ]
  },
  {
   "cell_type": "code",
   "execution_count": 153,
   "metadata": {},
   "outputs": [
    {
     "name": "stdout",
     "output_type": "stream",
     "text": [
      "dict_keys(['bump_amounts', 'target_class_predictions', 'metrics'])\n",
      "[9248, 9713, 10944, 11625, 12759, 13638, 14687, 15413, 16310, 17316, 18249, 18853, 19581, 21072, 21957, 22881, 23358, 24313, 24741, 25851, 26961, 28177, 28773, 29303, 30619, 31443, 32157, 33083, 34225, 34888, 35465, 36872, 37347, 38485, 39710, 40318, 40908, 41974, 42913, 43590, 44962, 45371, 46349, 47442, 48539, 49177, 49784, 51193, 51739, 52804]\n",
      "dict_keys(['n_target_predictions', 'histogram_bin_values', 'histogram_bins'])\n",
      "[ 1. 10. 14.  7.  5.  2.  1.  7.  8. 20. 16. 15. 11.  7.  4.  6.  1.  2.\n",
      "  2.  3.  3.  3.  1.  1.  0.  2.  0.  0.  2.  0.  0.  0.  0.  0.  1.  0.\n",
      "  0.  0.  1.  0.  0.  0.  0.  1.  0.  0.  0.  0.  0.  1.]\n",
      "[9248, 9713, 9713, 9713, 9713, 9713, 9713, 9713, 9713, 9713, 9713, 10944, 10944, 10944, 10944, 10944, 10944, 10944, 10944, 10944, 10944, 10944, 10944, 10944, 10944, 11625, 11625, 11625, 11625, 11625, 11625, 11625, 12759, 12759, 12759, 12759, 12759, 13638, 13638, 14687, 15413, 15413, 15413, 15413, 15413, 15413, 15413, 16310, 16310, 16310, 16310, 16310, 16310, 16310, 16310, 17316, 17316, 17316, 17316, 17316, 17316, 17316, 17316, 17316, 17316, 17316, 17316, 17316, 17316, 17316, 17316, 17316, 17316, 17316, 17316, 18249, 18249, 18249, 18249, 18249, 18249, 18249, 18249, 18249, 18249, 18249, 18249, 18249, 18249, 18249, 18249, 18853, 18853, 18853, 18853, 18853, 18853, 18853, 18853, 18853, 18853, 18853, 18853, 18853, 18853, 18853, 19581, 19581, 19581, 19581, 19581, 19581, 19581, 19581, 19581, 19581, 19581, 21072, 21072, 21072, 21072, 21072, 21072, 21072, 21957, 21957, 21957, 21957, 22881, 22881, 22881, 22881, 22881, 22881, 23358, 24313, 24313, 24741, 24741, 25851, 25851, 25851, 26961, 26961, 26961, 28177, 28177, 28177, 28773, 29303, 31443, 31443, 34225, 34225, 39710, 42913, 47442, 52804]\n"
     ]
    },
    {
     "data": {
      "image/png": "[encoded data removed]",
      "text/plain": [
       "<Figure size 640x480 with 1 Axes>"
      ]
     },
     "metadata": {},
     "output_type": "display_data"
    },
    {
     "data": {
      "text/plain": [
       "(array([ 1., 10., 14.,  7.,  5.,  2.,  1.,  7.,  8., 20., 16., 15., 11.,\n",
       "         7.,  4.,  6.,  1.,  2.,  2.,  3.,  3.,  3.,  1.,  1.,  0.,  2.,\n",
       "         0.,  0.,  2.,  0.,  0.,  0.,  0.,  0.,  1.,  0.,  0.,  0.,  1.,\n",
       "         0.,  0.,  0.,  0.,  1.,  0.,  0.,  0.,  0.,  0.,  1.]),\n",
       " array([ 8732.  ,  9620.98, 10509.96, 11398.94, 12287.92, 13176.9 ,\n",
       "        14065.88, 14954.86, 15843.84, 16732.82, 17621.8 , 18510.78,\n",
       "        19399.76, 20288.74, 21177.72, 22066.7 , 22955.68, 23844.66,\n",
       "        24733.64, 25622.62, 26511.6 , 27400.58, 28289.56, 29178.54,\n",
       "        30067.52, 30956.5 , 31845.48, 32734.46, 33623.44, 34512.42,\n",
       "        35401.4 , 36290.38, 37179.36, 38068.34, 38957.32, 39846.3 ,\n",
       "        40735.28, 41624.26, 42513.24, 43402.22, 44291.2 , 45180.18,\n",
       "        46069.16, 46958.14, 47847.12, 48736.1 , 49625.08, 50514.06,\n",
       "        51403.04, 52292.02, 53181.  ]),\n",
       " <BarContainer object of 50 artists>)"
      ]
     },
     "execution_count": 153,
     "metadata": {},
     "output_type": "execute_result"
    },
    {
     "data": {
      "text/plain": [
       "<Figure size 640x480 with 0 Axes>"
      ]
     },
     "metadata": {},
     "output_type": "display_data"
    }
   ],
   "source": [
    "save_dir = os.path.join(os.path.dirname(config.save_dir), '{}_{}'.format(class_name, n_select))\n",
    "save_path = os.path.join(save_dir, 'bumps_preds_metrics.pth')\n",
    "\n",
    "bumped_target_class_dist = torch.load(save_path)\n",
    "\n",
    "bumped_hist_data = []\n",
    "\n",
    "\n",
    "    \n",
    "    \n",
    "print(dic.keys())\n",
    "\n",
    "print(dic['target_class_predictions'])\n",
    "\n",
    "target_class_dist_dict = torch.load(target_class_distribution_path)\n",
    "print(target_class_dist_dict.keys())\n",
    "print(target_class_dist_dict['histogram_bin_values'])\n",
    "\n",
    "for n_target_predictions, bucket_value in zip(\n",
    "    bumped_target_class_dist['target_class_predictions'], \n",
    "    target_class_distribution['histogram_bin_values']):\n",
    "    cur_data = [n_target_predictions for i in range(int(bucket_value))]\n",
    "    bumped_hist_data += cur_data\n",
    "    \n",
    "print(bumped_hist_data)\n",
    "bins = target_class_distribution['histogram_bins']\n",
    "\n",
    "histogram(\n",
    "        data=bumped_hist_data,\n",
    "        n_bins=bins, #50,\n",
    "        save_path=None,\n",
    "        title='Bumped Post Edit {} Class Distribution to Match {} Edits'.format(class_name, class_name),\n",
    "        xlabel='Num. {} Predictions Post Bump'.format(class_name),\n",
    "        ylabel='Num. Edits',\n",
    "        show=True)"
   ]
  },
  {
   "cell_type": "code",
   "execution_count": null,
   "metadata": {},
   "outputs": [],
   "source": []
  }
 ],
 "metadata": {
  "kernelspec": {
   "display_name": "editing",
   "language": "python",
   "name": "editing"
  },
  "language_info": {
   "codemirror_mode": {
    "name": "ipython",
    "version": 3
   },
   "file_extension": ".py",
   "mimetype": "text/x-python",
   "name": "python",
   "nbconvert_exporter": "python",
   "pygments_lexer": "ipython3",
   "version": "3.8.13"
  }
 },
 "nbformat": 4,
 "nbformat_minor": 4
}
