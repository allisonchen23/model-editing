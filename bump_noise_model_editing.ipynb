{
 "cells": [
  {
   "cell_type": "markdown",
   "metadata": {},
   "source": [
    "## Create Edits that match post edit class distribution of target class to real edits"
   ]
  },
  {
   "cell_type": "code",
   "execution_count": 1,
   "metadata": {},
   "outputs": [],
   "source": [
    "# General imports\n",
    "import torch\n",
    "import numpy as np\n",
    "import os, sys\n",
    "import json\n",
    "from tqdm import tqdm\n",
    "import matplotlib.pyplot as plt\n",
    "import math\n",
    "from datetime import datetime"
   ]
  },
  {
   "cell_type": "code",
   "execution_count": 2,
   "metadata": {},
   "outputs": [],
   "source": [
    "# Local imports\n",
    "sys.path.insert(0, 'src')\n",
    "from utils import read_json, read_lists, list_to_dict, ensure_dir, informal_log, write_lists\n",
    "from utils.df_utils import load_and_preprocess_csv\n",
    "from utils.visualizations import histogram\n",
    "from utils.model_utils import prepare_device, quick_predict\n",
    "from parse_config import ConfigParser\n",
    "from test import predict, predict_with_bump\n",
    "import datasets.datasets as module_data\n",
    "import model.model as module_arch\n",
    "import model.metric as module_metric\n",
    "import model.loss as module_loss\n",
    "from trainer.editor import Editor"
   ]
  },
  {
   "cell_type": "code",
   "execution_count": 3,
   "metadata": {},
   "outputs": [],
   "source": [
    "# Define constants, paths\n",
    "class_list_path = os.path.join('metadata', 'cinic-10', 'class_names.txt')\n",
    "\n",
    "config_path = 'configs/copies/edit_experiments/cinic10_imagenet_bump_noise.json'"
   ]
  },
  {
   "cell_type": "code",
   "execution_count": 4,
   "metadata": {},
   "outputs": [],
   "source": [
    "# Load config file, models, and dataloader\n",
    "class_list = read_lists(class_list_path)\n",
    "class_idx_dict = list_to_dict(class_list)\n",
    "\n",
    "config_dict = read_json(config_path)\n",
    "config = ConfigParser(config_dict)\n",
    "device, device_ids = prepare_device(config_dict['n_gpu'])"
   ]
  },
  {
   "cell_type": "code",
   "execution_count": 5,
   "metadata": {
    "scrolled": true,
    "tags": []
   },
   "outputs": [
    {
     "data": {
      "text/plain": [
       "CIFAR10PretrainedModelEdit(\n",
       "  (model): VGG(\n",
       "    (normalize): InputNormalize()\n",
       "    (layer0): Sequential(\n",
       "      (conv): Conv2d(3, 64, kernel_size=(3, 3), stride=(1, 1), padding=(1, 1))\n",
       "      (bn): BatchNorm2d(64, eps=1e-05, momentum=0.1, affine=True, track_running_stats=True)\n",
       "      (relu): ReLU()\n",
       "    )\n",
       "    (layer1): Sequential(\n",
       "      (conv): Conv2d(64, 64, kernel_size=(3, 3), stride=(1, 1), padding=(1, 1))\n",
       "      (bn): BatchNorm2d(64, eps=1e-05, momentum=0.1, affine=True, track_running_stats=True)\n",
       "      (relu): ReLU()\n",
       "      (maxpool): MaxPool2d(kernel_size=2, stride=2, padding=0, dilation=1, ceil_mode=False)\n",
       "    )\n",
       "    (layer2): Sequential(\n",
       "      (conv): Conv2d(64, 128, kernel_size=(3, 3), stride=(1, 1), padding=(1, 1))\n",
       "      (bn): BatchNorm2d(128, eps=1e-05, momentum=0.1, affine=True, track_running_stats=True)\n",
       "      (relu): ReLU()\n",
       "    )\n",
       "    (layer3): Sequential(\n",
       "      (conv): Conv2d(128, 128, kernel_size=(3, 3), stride=(1, 1), padding=(1, 1))\n",
       "      (bn): BatchNorm2d(128, eps=1e-05, momentum=0.1, affine=True, track_running_stats=True)\n",
       "      (relu): ReLU()\n",
       "      (maxpool): MaxPool2d(kernel_size=2, stride=2, padding=0, dilation=1, ceil_mode=False)\n",
       "    )\n",
       "    (layer4): Sequential(\n",
       "      (conv): Conv2d(128, 256, kernel_size=(3, 3), stride=(1, 1), padding=(1, 1))\n",
       "      (bn): BatchNorm2d(256, eps=1e-05, momentum=0.1, affine=True, track_running_stats=True)\n",
       "      (relu): ReLU()\n",
       "    )\n",
       "    (layer5): Sequential(\n",
       "      (conv): Conv2d(256, 256, kernel_size=(3, 3), stride=(1, 1), padding=(1, 1))\n",
       "      (bn): BatchNorm2d(256, eps=1e-05, momentum=0.1, affine=True, track_running_stats=True)\n",
       "      (relu): ReLU()\n",
       "    )\n",
       "    (layer6): Sequential(\n",
       "      (conv): Conv2d(256, 256, kernel_size=(3, 3), stride=(1, 1), padding=(1, 1))\n",
       "      (bn): BatchNorm2d(256, eps=1e-05, momentum=0.1, affine=True, track_running_stats=True)\n",
       "      (relu): ReLU()\n",
       "      (maxpool): MaxPool2d(kernel_size=2, stride=2, padding=0, dilation=1, ceil_mode=False)\n",
       "    )\n",
       "    (layer7): Sequential(\n",
       "      (conv): Conv2d(256, 512, kernel_size=(3, 3), stride=(1, 1), padding=(1, 1))\n",
       "      (bn): BatchNorm2d(512, eps=1e-05, momentum=0.1, affine=True, track_running_stats=True)\n",
       "      (relu): ReLU()\n",
       "    )\n",
       "    (layer8): Sequential(\n",
       "      (conv): Conv2d(512, 512, kernel_size=(3, 3), stride=(1, 1), padding=(1, 1))\n",
       "      (bn): BatchNorm2d(512, eps=1e-05, momentum=0.1, affine=True, track_running_stats=True)\n",
       "      (relu): ReLU()\n",
       "    )\n",
       "    (layer9): Sequential(\n",
       "      (conv): Conv2d(512, 512, kernel_size=(3, 3), stride=(1, 1), padding=(1, 1))\n",
       "      (bn): BatchNorm2d(512, eps=1e-05, momentum=0.1, affine=True, track_running_stats=True)\n",
       "      (relu): ReLU()\n",
       "      (maxpool): MaxPool2d(kernel_size=2, stride=2, padding=0, dilation=1, ceil_mode=False)\n",
       "    )\n",
       "    (layer10): Sequential(\n",
       "      (conv): Conv2d(512, 512, kernel_size=(3, 3), stride=(1, 1), padding=(1, 1))\n",
       "      (bn): BatchNorm2d(512, eps=1e-05, momentum=0.1, affine=True, track_running_stats=True)\n",
       "      (relu): ReLU()\n",
       "    )\n",
       "    (layer11): Sequential(\n",
       "      (conv): Conv2d(512, 512, kernel_size=(3, 3), stride=(1, 1), padding=(1, 1))\n",
       "      (bn): BatchNorm2d(512, eps=1e-05, momentum=0.1, affine=True, track_running_stats=True)\n",
       "      (relu): ReLU()\n",
       "    )\n",
       "    (layer12): Sequential(\n",
       "      (conv): Conv2d(512, 512, kernel_size=(3, 3), stride=(1, 1), padding=(1, 1))\n",
       "      (bn): BatchNorm2d(512, eps=1e-05, momentum=0.1, affine=True, track_running_stats=True)\n",
       "      (relu): ReLU()\n",
       "      (maxpool): MaxPool2d(kernel_size=2, stride=2, padding=0, dilation=1, ceil_mode=False)\n",
       "    )\n",
       "    (avgpool): AdaptiveAvgPool2d(output_size=[1, 1])\n",
       "    (flatten): Flatten()\n",
       "    (classifier): Sequential(\n",
       "      (0): Linear(in_features=512, out_features=4096, bias=True)\n",
       "      (1): ReLU()\n",
       "      (2): Dropout(p=0.5, inplace=False)\n",
       "      (3): Linear(in_features=4096, out_features=4096, bias=True)\n",
       "      (4): ReLU()\n",
       "      (5): Dropout(p=0.5, inplace=False)\n",
       "      (6): Linear(in_features=4096, out_features=10, bias=True)\n",
       "    )\n",
       "  )\n",
       "  (context_model): VGG(\n",
       "    (normalize): InputNormalize()\n",
       "    (layer0): Sequential(\n",
       "      (conv): Conv2d(3, 64, kernel_size=(3, 3), stride=(1, 1), padding=(1, 1))\n",
       "      (bn): BatchNorm2d(64, eps=1e-05, momentum=0.1, affine=True, track_running_stats=True)\n",
       "      (relu): ReLU()\n",
       "    )\n",
       "    (layer1): Sequential(\n",
       "      (conv): Conv2d(64, 64, kernel_size=(3, 3), stride=(1, 1), padding=(1, 1))\n",
       "      (bn): BatchNorm2d(64, eps=1e-05, momentum=0.1, affine=True, track_running_stats=True)\n",
       "      (relu): ReLU()\n",
       "      (maxpool): MaxPool2d(kernel_size=2, stride=2, padding=0, dilation=1, ceil_mode=False)\n",
       "    )\n",
       "    (layer2): Sequential(\n",
       "      (conv): Conv2d(64, 128, kernel_size=(3, 3), stride=(1, 1), padding=(1, 1))\n",
       "      (bn): BatchNorm2d(128, eps=1e-05, momentum=0.1, affine=True, track_running_stats=True)\n",
       "      (relu): ReLU()\n",
       "    )\n",
       "    (layer3): Sequential(\n",
       "      (conv): Conv2d(128, 128, kernel_size=(3, 3), stride=(1, 1), padding=(1, 1))\n",
       "      (bn): BatchNorm2d(128, eps=1e-05, momentum=0.1, affine=True, track_running_stats=True)\n",
       "      (relu): ReLU()\n",
       "      (maxpool): MaxPool2d(kernel_size=2, stride=2, padding=0, dilation=1, ceil_mode=False)\n",
       "    )\n",
       "    (layer4): Sequential(\n",
       "      (conv): Conv2d(128, 256, kernel_size=(3, 3), stride=(1, 1), padding=(1, 1))\n",
       "      (bn): BatchNorm2d(256, eps=1e-05, momentum=0.1, affine=True, track_running_stats=True)\n",
       "      (relu): ReLU()\n",
       "    )\n",
       "    (layer5): Sequential(\n",
       "      (conv): Conv2d(256, 256, kernel_size=(3, 3), stride=(1, 1), padding=(1, 1))\n",
       "      (bn): BatchNorm2d(256, eps=1e-05, momentum=0.1, affine=True, track_running_stats=True)\n",
       "      (relu): ReLU()\n",
       "    )\n",
       "    (layer6): Sequential(\n",
       "      (conv): Conv2d(256, 256, kernel_size=(3, 3), stride=(1, 1), padding=(1, 1))\n",
       "      (bn): BatchNorm2d(256, eps=1e-05, momentum=0.1, affine=True, track_running_stats=True)\n",
       "      (relu): ReLU()\n",
       "      (maxpool): MaxPool2d(kernel_size=2, stride=2, padding=0, dilation=1, ceil_mode=False)\n",
       "    )\n",
       "    (layer7): Sequential(\n",
       "      (conv): Conv2d(256, 512, kernel_size=(3, 3), stride=(1, 1), padding=(1, 1))\n",
       "      (bn): BatchNorm2d(512, eps=1e-05, momentum=0.1, affine=True, track_running_stats=True)\n",
       "      (relu): ReLU()\n",
       "    )\n",
       "    (layer8): Sequential(\n",
       "      (conv): Conv2d(512, 512, kernel_size=(3, 3), stride=(1, 1), padding=(1, 1))\n",
       "      (bn): BatchNorm2d(512, eps=1e-05, momentum=0.1, affine=True, track_running_stats=True)\n",
       "      (relu): ReLU()\n",
       "    )\n",
       "    (layer9): Sequential(\n",
       "      (conv): Conv2d(512, 512, kernel_size=(3, 3), stride=(1, 1), padding=(1, 1))\n",
       "      (bn): BatchNorm2d(512, eps=1e-05, momentum=0.1, affine=True, track_running_stats=True)\n",
       "      (relu): ReLU()\n",
       "      (maxpool): MaxPool2d(kernel_size=2, stride=2, padding=0, dilation=1, ceil_mode=False)\n",
       "    )\n",
       "    (layer10): Sequential(\n",
       "      (conv): Conv2d(512, 512, kernel_size=(3, 3), stride=(1, 1), padding=(1, 1))\n",
       "      (bn): BatchNorm2d(512, eps=1e-05, momentum=0.1, affine=True, track_running_stats=True)\n",
       "      (relu): ReLU()\n",
       "    )\n",
       "    (layer11): Sequential(\n",
       "      (conv): Conv2d(512, 512, kernel_size=(3, 3), stride=(1, 1), padding=(1, 1))\n",
       "      (bn): BatchNorm2d(512, eps=1e-05, momentum=0.1, affine=True, track_running_stats=True)\n",
       "      (relu): ReLU()\n",
       "    )\n",
       "    (layer12): Sequential(\n",
       "      (conv): Conv2d(512, 512, kernel_size=(3, 3), stride=(1, 1), padding=(1, 1))\n",
       "      (bn): BatchNorm2d(512, eps=1e-05, momentum=0.1, affine=True, track_running_stats=True)\n",
       "      (relu): ReLU()\n",
       "      (maxpool): MaxPool2d(kernel_size=2, stride=2, padding=0, dilation=1, ceil_mode=False)\n",
       "    )\n",
       "    (avgpool): AdaptiveAvgPool2d(output_size=[1, 1])\n",
       "    (flatten): Flatten()\n",
       "    (classifier): Sequential(\n",
       "      (0): Linear(in_features=512, out_features=4096, bias=True)\n",
       "      (1): ReLU()\n",
       "      (2): Dropout(p=0.5, inplace=False)\n",
       "      (3): Linear(in_features=4096, out_features=4096, bias=True)\n",
       "      (4): ReLU()\n",
       "      (5): Dropout(p=0.5, inplace=False)\n",
       "      (6): Linear(in_features=4096, out_features=10, bias=True)\n",
       "    )\n",
       "  )\n",
       "  (target_model): Sequential(\n",
       "    (conv): Conv2d(512, 512, kernel_size=(3, 3), stride=(1, 1), padding=(1, 1))\n",
       "    (bn): BatchNorm2d(512, eps=1e-05, momentum=0.1, affine=True, track_running_stats=True)\n",
       "    (relu): ReLU()\n",
       "    (maxpool): MaxPool2d(kernel_size=2, stride=2, padding=0, dilation=1, ceil_mode=False)\n",
       "  )\n",
       ")"
      ]
     },
     "execution_count": 5,
     "metadata": {},
     "output_type": "execute_result"
    }
   ],
   "source": [
    "# Load model\n",
    "layernum = config.config['layernum']\n",
    "model = config.init_obj('arch', module_arch, layernum=layernum, device=device)\n",
    "model.eval()\n"
   ]
  },
  {
   "cell_type": "code",
   "execution_count": 9,
   "metadata": {},
   "outputs": [],
   "source": [
    "# Load datasets\n",
    "# config = ConfigParser(config_dict)\n",
    "data_loader_args = dict(config.config[\"data_loader\"][\"args\"])\n",
    "dataset_args = dict(config[\"dataset_args\"])\n",
    "\n",
    "val_image_paths = read_lists(config_dict['dataset_paths']['valid_images'])\n",
    "val_labels = read_lists(config_dict['dataset_paths']['valid_labels'])\n",
    "val_paths_data_loader = torch.utils.data.DataLoader(\n",
    "    module_data.CINIC10Dataset(\n",
    "        data_dir=\"\",\n",
    "        image_paths=val_image_paths,\n",
    "        labels=val_labels,\n",
    "        return_paths=True,\n",
    "        **dataset_args\n",
    "    ),\n",
    "    **data_loader_args\n",
    ")\n",
    "\n",
    "# Obtain loss function and metric functions\n",
    "loss_fn = getattr(module_loss, config['loss'])\n",
    "metric_fns = [getattr(module_metric, met) for met in config['metrics']]"
   ]
  },
  {
   "cell_type": "code",
   "execution_count": 6,
   "metadata": {},
   "outputs": [],
   "source": [
    "target_class_name = 'airplane'\n",
    "target_class_idx = class_idx_dict[target_class_name]\n",
    "n_select = 100\n",
    "timestamp = '0127_103716'\n",
    "save_timestamp = '0208_112555'\n",
    "\n",
    "root_dir = os.path.join('saved', 'edit', 'trials', 'CINIC10_ImageNet-VGG_16', '{}' + '_{}'.format(n_select), timestamp)\n",
    "csv_path_template = os.path.join(root_dir, 'results_table.csv')\n"
   ]
  },
  {
   "cell_type": "markdown",
   "metadata": {
    "tags": []
   },
   "source": [
    "### Get the Target Class Distribution Across All Edits for Specific Class"
   ]
  },
  {
   "cell_type": "code",
   "execution_count": 33,
   "metadata": {},
   "outputs": [],
   "source": [
    "def save_class_distribution(csv_path, \n",
    "                            target_class_idx,\n",
    "                            target_class_name,\n",
    "                            show=False,\n",
    "                            histogram_save_path=None,\n",
    "                            data_save_path=None):\n",
    "    \n",
    "    df = load_and_preprocess_csv(\n",
    "        csv_path=csv_path,\n",
    "        drop_duplicates=['ID']\n",
    "    )\n",
    "    \n",
    "    # Obtain number of predictions for target class pre edit\n",
    "    pre_edit_class_distribution = df['Pre Class Dist'].to_numpy()\n",
    "    pre_edit_class_distribution = np.stack(pre_edit_class_distribution)\n",
    "    target_pre_edit_class_predictions = np.mean(pre_edit_class_distribution[:, target_class_idx])\n",
    "    \n",
    "    # Obtain number of predictions for target class post edit for each trial\n",
    "    class_distribution = df['Post Class Dist'].to_numpy()\n",
    "    class_distribution = np.stack(class_distribution, axis=0)\n",
    "    target_class_distribution = class_distribution[:, target_class_idx]\n",
    "    # target_class_bins = np.bincount(target_class_distribution)\n",
    "    if histogram_save_path is None:\n",
    "        histogram_save_path = os.path.join(os.path.dirname(csv_path), 'graphs', 'summary', 'target_class_distribution.png')\n",
    "    title = 'Post Edit {} Class Distribution for {} Edits'.format(target_class_name, target_class_name)\n",
    "    xlabel = 'Num. {} Predictions Post Edit'.format(target_class_name)\n",
    "    ylabel = 'Num. Edits'\n",
    "    \n",
    "    bin_values, bins, _ = histogram(\n",
    "        data=target_class_distribution,\n",
    "        n_bins=50,\n",
    "        title=title,\n",
    "        xlabel=xlabel,\n",
    "        ylabel=ylabel,\n",
    "        marker=target_pre_edit_class_predictions,\n",
    "        show=show,\n",
    "        save_path=histogram_save_path)\n",
    "    \n",
    "    bin_tuples = []\n",
    "    for bin_idx in range(len(bins) - 1):\n",
    "        bin_tuples.append((bins[bin_idx], bins[bin_idx+1]))\n",
    "\n",
    "    save_data = {\n",
    "        \"n_target_predictions\": target_class_distribution,\n",
    "        \"histogram_bin_values\": bin_values,\n",
    "        \"histogram_bins\": bins\n",
    "    }\n",
    "    \n",
    "    if data_save_path is None:\n",
    "        data_save_path = os.path.join(os.path.dirname(csv_path), 'target_class_distribution.pth')\n",
    "        torch.save(save_data, data_save_path)\n",
    "    \n",
    "    print(\"Saved target class distribution & histogram data to {}\".format(data_save_path))\n",
    "    \n",
    "    plt.close('all')\n",
    "    return save_data"
   ]
  },
  {
   "cell_type": "markdown",
   "metadata": {
    "tags": []
   },
   "source": [
    "#### Loop over all classes and save histograms and distributions"
   ]
  },
  {
   "cell_type": "code",
   "execution_count": null,
   "metadata": {},
   "outputs": [],
   "source": [
    "for class_name in class_list:\n",
    "    csv_path = csv_path_template.format(class_name)\n",
    "    save_class_distribution(\n",
    "        csv_path=csv_path,\n",
    "        target_class_idx=class_idx_dict[class_name],\n",
    "        target_class_name=class_name,\n",
    "        show=False)\n",
    "    "
   ]
  },
  {
   "cell_type": "markdown",
   "metadata": {
    "tags": []
   },
   "source": [
    "### For a specific class, make bump edits that match the distribution of target class prediction"
   ]
  },
  {
   "cell_type": "code",
   "execution_count": 22,
   "metadata": {},
   "outputs": [],
   "source": [
    "# def predict_with_bump(data_loader,\n",
    "#                       model,\n",
    "#                       target_class_idx,\n",
    "#                       bump_amount,\n",
    "#                       loss_fn,\n",
    "#                       metric_fns,\n",
    "#                       device,\n",
    "#                       save_path=None):\n",
    "#     '''\n",
    "#     Run the model on the data_loader, calculate metrics, and log\n",
    "\n",
    "#     Arg(s):\n",
    "#         data_loader : torch Dataloader\n",
    "#             data to test on\n",
    "#         model : torch.nn.Module\n",
    "#             model to run\n",
    "#         loss_fn : module\n",
    "#             loss function\n",
    "#         metric_fns : list[model.metric modules]\n",
    "#             list of metric functions\n",
    "#         device : torch.device\n",
    "#         save_path : str or None\n",
    "#             if not None, save metrics to save_path\n",
    "\n",
    "#     Returns :\n",
    "#         log : dict{} of metrics\n",
    "#     '''\n",
    "\n",
    "#     # Hold data for calculating metrics\n",
    "#     outputs = []\n",
    "#     targets = []\n",
    "\n",
    "#     # Ensure model is in eval mode\n",
    "#     if model.training:\n",
    "#         model.eval()\n",
    "\n",
    "#     with torch.no_grad():\n",
    "#         for idx, item in enumerate(tqdm(data_loader)):\n",
    "#             if len(item) == 3:\n",
    "#                 data, target, path = item\n",
    "#             else:\n",
    "#                 data, target = item\n",
    "#             data, target = data.to(device), target.to(device)\n",
    "#             output = model(data)\n",
    "\n",
    "#             # Store outputs and targets\n",
    "#             outputs.append(output)\n",
    "#             targets.append(target)\n",
    "\n",
    "#     # Concatenate predictions and targets\n",
    "#     outputs = torch.cat(outputs, dim=0)\n",
    "#     targets = torch.cat(targets, dim=0)\n",
    "    \n",
    "#     # Adjust output softmax by bump amount\n",
    "#     outputs[:, target_class_idx] += bump_amount\n",
    "\n",
    "#     # Calculate loss\n",
    "#     loss = loss_fn(outputs, targets).item()\n",
    "#     n_samples = len(data_loader.sampler)\n",
    "#     log = {'loss': loss}\n",
    "\n",
    "#     # Calculate predictions based on argmax\n",
    "#     predictions = torch.argmax(outputs, dim=1)\n",
    "\n",
    "#     # Move predictions and target to cpu and convert to numpy to calculate metrics\n",
    "#     predictions = predictions.cpu().numpy()\n",
    "#     targets = targets.cpu().numpy()\n",
    "\n",
    "#     # Calculate metrics\n",
    "#     log = module_metric.compute_metrics(\n",
    "#         metric_fns=metric_fns,\n",
    "#         prediction=predictions,\n",
    "#         target=targets)\n",
    "\n",
    "#     if save_path is not None:\n",
    "#         ensure_dir(os.path.dirname(save_path))\n",
    "#         torch.save(log, save_path)\n",
    "\n",
    "#     return log"
   ]
  },
  {
   "cell_type": "code",
   "execution_count": 7,
   "metadata": {},
   "outputs": [],
   "source": [
    "def match_bump_edits(data_loader,\n",
    "                     model,\n",
    "                     loss_fn,\n",
    "                     metric_fns,\n",
    "                     device,\n",
    "                     bin_lows,\n",
    "                     target_class_idx,\n",
    "                     save_dir,\n",
    "                     debug=True):\n",
    "    '''\n",
    "    Get bins\n",
    "    for each bin, get the mean\n",
    "    until the target class predictions on val match the mean,\n",
    "        adjust the target\n",
    "    store (mean, bump amount)\n",
    "    '''\n",
    "    # save_dir = os.path.dirname(str(config.save_dir))\n",
    "    informal_log_path = os.path.join(save_dir, 'informal_log.txt')\n",
    "    bump_dictionary = {}\n",
    "    \n",
    "    n_bins = len(bin_lows) - 1\n",
    "    \n",
    "    n_bins_left = n_bins\n",
    "    min_bin = bin_lows[0]\n",
    "    bin_width = bin_lows[1] - bin_lows[0]\n",
    "    \n",
    "    bin_means = []\n",
    "    bump_amount = 0.2\n",
    "    delta = 1.25\n",
    "    \n",
    "    bumps = [-1 for i in range(n_bins)]\n",
    "    class_predictions = [-1 for i in range(n_bins)]\n",
    "    logs = [None for i in range(n_bins)]\n",
    "    \n",
    "    cur_bump_idx = 0\n",
    "    cur_itr = 0\n",
    "    delta_reset = 1.25\n",
    "    \n",
    "    # Obtain pre edit metrics\n",
    "    pre_edit_log = predict(\n",
    "        data_loader=data_loader,\n",
    "        model=model,\n",
    "        loss_fn=loss_fn,\n",
    "        metric_fns=metric_fns,\n",
    "        device=device,\n",
    "        save_path=None)\n",
    "\n",
    "    while cur_bump_idx < n_bins:\n",
    "        cur_itr += 1\n",
    "        if delta <= 1 or delta > 2:\n",
    "            delta = delta_reset\n",
    "        if debug:\n",
    "            informal_log(\"[{}]***NEW ITR {}***\".format(\n",
    "                datetime.now().strftime(r'%m%d_%H%M%S'), cur_itr), informal_log_path)\n",
    "\n",
    "        if bumps[cur_bump_idx] > -1:\n",
    "            bump_amount = bumps[cur_bump_idx]\n",
    "            cur_bump_idx += 1\n",
    "            \n",
    "            continue\n",
    "        \n",
    "        log = predict_with_bump(\n",
    "            data_loader=data_loader,\n",
    "            model=model,\n",
    "            loss_fn=loss_fn,\n",
    "            metric_fns=metric_fns,\n",
    "            device=device,\n",
    "            target_class_idx=target_class_idx,\n",
    "            bump_amount=bump_amount,\n",
    "            save_path=None)\n",
    "        \n",
    "        # Obtain num. predictions for target class and determine bin idx\n",
    "        post_class_distribution = log['predicted_class_distribution']\n",
    "        target_class_predictions = post_class_distribution[target_class_idx]\n",
    "        bin_idx = math.floor((target_class_predictions - min_bin) / bin_width)\n",
    "        \n",
    "        # Check for out of bounds/already visited bin index\n",
    "        while bin_idx < cur_bump_idx:\n",
    "            bump_amount *= delta\n",
    "            if debug:\n",
    "                informal_log(\"bin_idx < cur_bump_idx ({} and {}) delta={} new bump_amount: {}\".format(\n",
    "                    bin_idx, cur_bump_idx, delta, bump_amount), informal_log_path)\n",
    "                \n",
    "            log = predict_with_bump(\n",
    "                data_loader=data_loader,\n",
    "                model=model,\n",
    "                loss_fn=loss_fn,\n",
    "                metric_fns=metric_fns,\n",
    "                device=device,\n",
    "                target_class_idx=target_class_idx,\n",
    "                bump_amount=bump_amount,\n",
    "                save_path=None)\n",
    "\n",
    "            # Obtain num. predictions for target class and determine bin idx\n",
    "            post_class_distribution = log['predicted_class_distribution']\n",
    "            target_class_predictions = post_class_distribution[target_class_idx]\n",
    "            bin_idx = math.floor((target_class_predictions - min_bin) / bin_width)\n",
    "                \n",
    "            \n",
    "            # continue\n",
    "        if bin_idx >= n_bins:\n",
    "            if cur_bump_idx == 0:\n",
    "                bump_amount /= delta\n",
    "            else:\n",
    "                bump_amount = (bump_amount + bumps[cur_bump_idx - 1]) / 2\n",
    "            informal_log(\"bin_idx > n_bins ({}) delta={} new bump_amount: {}\".format(\n",
    "                bin_idx, delta, bump_amount), informal_log_path)\n",
    "            continue\n",
    "            \n",
    "        # Sanity check correct bin_idx\n",
    "        assert target_class_predictions >= bin_lows[bin_idx] and \\\n",
    "               target_class_predictions <= bin_lows[bin_idx+1]\n",
    "        \n",
    "        # If bump value for this bin yet, assign it\n",
    "        if bumps[bin_idx] == -1:\n",
    "            bumps[bin_idx] = bump_amount\n",
    "            class_predictions[bin_idx] = target_class_predictions\n",
    "            logs[bin_idx] = log\n",
    "            if debug:\n",
    "                informal_log(\"assigned bin_idx {}\".format(bin_idx), informal_log_path)\n",
    "                informal_log(\"Cur bump_idx: {} bump amount: {} target_class_pred: {} bin_idx: {}\".format(\n",
    "                    cur_bump_idx, bump_amount, target_class_predictions, bin_idx), informal_log_path)\n",
    "        \n",
    "        # Check if this is our current bin we're trying to fill\n",
    "        if bin_idx == cur_bump_idx:\n",
    "            cur_bump_idx += 1\n",
    "            bump_amount *= delta\n",
    "            if debug:\n",
    "                informal_log(\"updating cur_bump_idx to {}, bump_amount to {}\"\n",
    "                             .format(cur_bump_idx, bump_amount), informal_log_path)\n",
    "            \n",
    "        # If we're not at the current cell,\n",
    "        else:\n",
    "            # Decrease bump amount by half\n",
    "            if cur_bump_idx == 0:\n",
    "                bump_amount /= 2\n",
    "            # Set bump amount to something in the middle between current and last successful\n",
    "            else:\n",
    "                bump_amount = (bump_amount + bumps[cur_bump_idx-1]) / 2 \n",
    "            if debug:\n",
    "                informal_log(\"Overshot to bin {}. Decreasing bump amount to {} aiming for bin {}\".format(\n",
    "                    bin_idx, bump_amount, cur_bump_idx), informal_log_path)\n",
    "        informal_log(\"bumps: {}\".format(bumps), informal_log_path)\n",
    "\n",
    "    \n",
    "    \n",
    "    save_data = {\n",
    "        'pre_edit_metrics': pre_edit_log,\n",
    "        'bump_amounts': bumps,\n",
    "        'target_class_predictions': class_predictions,\n",
    "        'metrics': logs\n",
    "    }\n",
    "    save_path = os.path.join(save_dir, 'bumps_preds_metrics.pth'.format())\n",
    "    torch.save(save_data, save_path)\n",
    "    if debug:\n",
    "        informal_log(\"Saved data to {}\".format(save_path), informal_log_path)\n",
    "    return save_data\n",
    "            "
   ]
  },
  {
   "cell_type": "markdown",
   "metadata": {
    "tags": []
   },
   "source": [
    "#### Run match_bump_edits() to get how much to bump to match each bucket"
   ]
  },
  {
   "cell_type": "code",
   "execution_count": 10,
   "metadata": {
    "scrolled": true,
    "tags": []
   },
   "outputs": [
    {
     "name": "stdout",
     "output_type": "stream",
     "text": [
      "Obtaining class distribution for airplane from saved/edit/trials/CINIC10_ImageNet-VGG_16/airplane_100/0127_103716/target_class_distribution.pth\n",
      "Saving results to saved/edit/experiments/bump_edits/CINIC10_ImageNet-VGG_16/0208_112555/airplane_100\n"
     ]
    },
    {
     "name": "stderr",
     "output_type": "stream",
     "text": [
      " 26%|██████████████████▍                                                   | 72/274 [00:32<01:30,  2.23it/s]\n"
     ]
    },
    {
     "ename": "KeyboardInterrupt",
     "evalue": "",
     "output_type": "error",
     "traceback": [
      "\u001b[0;31m---------------------------------------------------------------------------\u001b[0m",
      "\u001b[0;31mKeyboardInterrupt\u001b[0m                         Traceback (most recent call last)",
      "Cell \u001b[0;32mIn [10], line 13\u001b[0m\n\u001b[1;32m     11\u001b[0m \u001b[38;5;28mprint\u001b[39m(\u001b[38;5;124m\"\u001b[39m\u001b[38;5;124mObtaining class distribution for \u001b[39m\u001b[38;5;132;01m{}\u001b[39;00m\u001b[38;5;124m from \u001b[39m\u001b[38;5;132;01m{}\u001b[39;00m\u001b[38;5;124m\"\u001b[39m\u001b[38;5;241m.\u001b[39mformat(target_class_name, target_class_distribution_path))\n\u001b[1;32m     12\u001b[0m \u001b[38;5;28mprint\u001b[39m(\u001b[38;5;124m\"\u001b[39m\u001b[38;5;124mSaving results to \u001b[39m\u001b[38;5;132;01m{}\u001b[39;00m\u001b[38;5;124m\"\u001b[39m\u001b[38;5;241m.\u001b[39mformat(bump_save_dir))\n\u001b[0;32m---> 13\u001b[0m \u001b[43mmatch_bump_edits\u001b[49m\u001b[43m(\u001b[49m\n\u001b[1;32m     14\u001b[0m \u001b[43m    \u001b[49m\u001b[43mdata_loader\u001b[49m\u001b[38;5;241;43m=\u001b[39;49m\u001b[43mval_paths_data_loader\u001b[49m\u001b[43m,\u001b[49m\n\u001b[1;32m     15\u001b[0m \u001b[43m    \u001b[49m\u001b[43mmodel\u001b[49m\u001b[38;5;241;43m=\u001b[39;49m\u001b[43mmodel\u001b[49m\u001b[43m,\u001b[49m\n\u001b[1;32m     16\u001b[0m \u001b[43m    \u001b[49m\u001b[43mloss_fn\u001b[49m\u001b[38;5;241;43m=\u001b[39;49m\u001b[43mloss_fn\u001b[49m\u001b[43m,\u001b[49m\n\u001b[1;32m     17\u001b[0m \u001b[43m    \u001b[49m\u001b[43mmetric_fns\u001b[49m\u001b[38;5;241;43m=\u001b[39;49m\u001b[43mmetric_fns\u001b[49m\u001b[43m,\u001b[49m\n\u001b[1;32m     18\u001b[0m \u001b[43m    \u001b[49m\u001b[43mdevice\u001b[49m\u001b[38;5;241;43m=\u001b[39;49m\u001b[43mdevice\u001b[49m\u001b[43m,\u001b[49m\n\u001b[1;32m     19\u001b[0m \u001b[43m    \u001b[49m\u001b[43mbin_lows\u001b[49m\u001b[38;5;241;43m=\u001b[39;49m\u001b[43mbin_lows\u001b[49m\u001b[43m,\u001b[49m\n\u001b[1;32m     20\u001b[0m \u001b[43m    \u001b[49m\u001b[43mtarget_class_idx\u001b[49m\u001b[38;5;241;43m=\u001b[39;49m\u001b[43mtarget_class_idx\u001b[49m\u001b[43m,\u001b[49m\n\u001b[1;32m     21\u001b[0m \u001b[43m    \u001b[49m\u001b[43msave_dir\u001b[49m\u001b[38;5;241;43m=\u001b[39;49m\u001b[43mbump_save_dir\u001b[49m\u001b[43m)\u001b[49m\n",
      "Cell \u001b[0;32mIn [7], line 40\u001b[0m, in \u001b[0;36mmatch_bump_edits\u001b[0;34m(data_loader, model, loss_fn, metric_fns, device, bin_lows, target_class_idx, save_dir, debug)\u001b[0m\n\u001b[1;32m     37\u001b[0m delta_reset \u001b[38;5;241m=\u001b[39m \u001b[38;5;241m1.25\u001b[39m\n\u001b[1;32m     39\u001b[0m \u001b[38;5;66;03m# Obtain pre edit metrics\u001b[39;00m\n\u001b[0;32m---> 40\u001b[0m pre_edit_log \u001b[38;5;241m=\u001b[39m \u001b[43mpredict\u001b[49m\u001b[43m(\u001b[49m\n\u001b[1;32m     41\u001b[0m \u001b[43m    \u001b[49m\u001b[43mdata_loader\u001b[49m\u001b[38;5;241;43m=\u001b[39;49m\u001b[43mdata_loader\u001b[49m\u001b[43m,\u001b[49m\n\u001b[1;32m     42\u001b[0m \u001b[43m    \u001b[49m\u001b[43mmodel\u001b[49m\u001b[38;5;241;43m=\u001b[39;49m\u001b[43mmodel\u001b[49m\u001b[43m,\u001b[49m\n\u001b[1;32m     43\u001b[0m \u001b[43m    \u001b[49m\u001b[43mloss_fn\u001b[49m\u001b[38;5;241;43m=\u001b[39;49m\u001b[43mloss_fn\u001b[49m\u001b[43m,\u001b[49m\n\u001b[1;32m     44\u001b[0m \u001b[43m    \u001b[49m\u001b[43mmetric_fns\u001b[49m\u001b[38;5;241;43m=\u001b[39;49m\u001b[43mmetric_fns\u001b[49m\u001b[43m,\u001b[49m\n\u001b[1;32m     45\u001b[0m \u001b[43m    \u001b[49m\u001b[43mdevice\u001b[49m\u001b[38;5;241;43m=\u001b[39;49m\u001b[43mdevice\u001b[49m\u001b[43m,\u001b[49m\n\u001b[1;32m     46\u001b[0m \u001b[43m    \u001b[49m\u001b[43msave_path\u001b[49m\u001b[38;5;241;43m=\u001b[39;49m\u001b[38;5;28;43;01mNone\u001b[39;49;00m\u001b[43m)\u001b[49m\n\u001b[1;32m     48\u001b[0m \u001b[38;5;28;01mwhile\u001b[39;00m cur_bump_idx \u001b[38;5;241m<\u001b[39m n_bins:\n\u001b[1;32m     49\u001b[0m     cur_itr \u001b[38;5;241m+\u001b[39m\u001b[38;5;241m=\u001b[39m \u001b[38;5;241m1\u001b[39m\n",
      "File \u001b[0;32m/n/fs/ac-editing/model-editing/test.py:52\u001b[0m, in \u001b[0;36mpredict\u001b[0;34m(data_loader, model, loss_fn, metric_fns, device, save_path)\u001b[0m\n\u001b[1;32m     49\u001b[0m     model\u001b[38;5;241m.\u001b[39meval()\n\u001b[1;32m     51\u001b[0m \u001b[38;5;28;01mwith\u001b[39;00m torch\u001b[38;5;241m.\u001b[39mno_grad():\n\u001b[0;32m---> 52\u001b[0m     \u001b[38;5;28;01mfor\u001b[39;00m idx, item \u001b[38;5;129;01min\u001b[39;00m \u001b[38;5;28menumerate\u001b[39m(tqdm(data_loader)):\n\u001b[1;32m     53\u001b[0m         \u001b[38;5;28;01mif\u001b[39;00m \u001b[38;5;28mlen\u001b[39m(item) \u001b[38;5;241m==\u001b[39m \u001b[38;5;241m3\u001b[39m:\n\u001b[1;32m     54\u001b[0m             data, target, path \u001b[38;5;241m=\u001b[39m item\n",
      "File \u001b[0;32m/n/fs/ac-project/anaconda3/envs/editing/lib/python3.8/site-packages/tqdm/std.py:1195\u001b[0m, in \u001b[0;36mtqdm.__iter__\u001b[0;34m(self)\u001b[0m\n\u001b[1;32m   1192\u001b[0m time \u001b[38;5;241m=\u001b[39m \u001b[38;5;28mself\u001b[39m\u001b[38;5;241m.\u001b[39m_time\n\u001b[1;32m   1194\u001b[0m \u001b[38;5;28;01mtry\u001b[39;00m:\n\u001b[0;32m-> 1195\u001b[0m     \u001b[38;5;28;01mfor\u001b[39;00m obj \u001b[38;5;129;01min\u001b[39;00m iterable:\n\u001b[1;32m   1196\u001b[0m         \u001b[38;5;28;01myield\u001b[39;00m obj\n\u001b[1;32m   1197\u001b[0m         \u001b[38;5;66;03m# Update and possibly print the progressbar.\u001b[39;00m\n\u001b[1;32m   1198\u001b[0m         \u001b[38;5;66;03m# Note: does not call self.update(1) for speed optimisation.\u001b[39;00m\n",
      "File \u001b[0;32m/n/fs/ac-project/anaconda3/envs/editing/lib/python3.8/site-packages/torch/utils/data/dataloader.py:628\u001b[0m, in \u001b[0;36m_BaseDataLoaderIter.__next__\u001b[0;34m(self)\u001b[0m\n\u001b[1;32m    625\u001b[0m \u001b[38;5;28;01mif\u001b[39;00m \u001b[38;5;28mself\u001b[39m\u001b[38;5;241m.\u001b[39m_sampler_iter \u001b[38;5;129;01mis\u001b[39;00m \u001b[38;5;28;01mNone\u001b[39;00m:\n\u001b[1;32m    626\u001b[0m     \u001b[38;5;66;03m# TODO(https://github.com/pytorch/pytorch/issues/76750)\u001b[39;00m\n\u001b[1;32m    627\u001b[0m     \u001b[38;5;28mself\u001b[39m\u001b[38;5;241m.\u001b[39m_reset()  \u001b[38;5;66;03m# type: ignore[call-arg]\u001b[39;00m\n\u001b[0;32m--> 628\u001b[0m data \u001b[38;5;241m=\u001b[39m \u001b[38;5;28;43mself\u001b[39;49m\u001b[38;5;241;43m.\u001b[39;49m\u001b[43m_next_data\u001b[49m\u001b[43m(\u001b[49m\u001b[43m)\u001b[49m\n\u001b[1;32m    629\u001b[0m \u001b[38;5;28mself\u001b[39m\u001b[38;5;241m.\u001b[39m_num_yielded \u001b[38;5;241m+\u001b[39m\u001b[38;5;241m=\u001b[39m \u001b[38;5;241m1\u001b[39m\n\u001b[1;32m    630\u001b[0m \u001b[38;5;28;01mif\u001b[39;00m \u001b[38;5;28mself\u001b[39m\u001b[38;5;241m.\u001b[39m_dataset_kind \u001b[38;5;241m==\u001b[39m _DatasetKind\u001b[38;5;241m.\u001b[39mIterable \u001b[38;5;129;01mand\u001b[39;00m \\\n\u001b[1;32m    631\u001b[0m         \u001b[38;5;28mself\u001b[39m\u001b[38;5;241m.\u001b[39m_IterableDataset_len_called \u001b[38;5;129;01mis\u001b[39;00m \u001b[38;5;129;01mnot\u001b[39;00m \u001b[38;5;28;01mNone\u001b[39;00m \u001b[38;5;129;01mand\u001b[39;00m \\\n\u001b[1;32m    632\u001b[0m         \u001b[38;5;28mself\u001b[39m\u001b[38;5;241m.\u001b[39m_num_yielded \u001b[38;5;241m>\u001b[39m \u001b[38;5;28mself\u001b[39m\u001b[38;5;241m.\u001b[39m_IterableDataset_len_called:\n",
      "File \u001b[0;32m/n/fs/ac-project/anaconda3/envs/editing/lib/python3.8/site-packages/torch/utils/data/dataloader.py:1316\u001b[0m, in \u001b[0;36m_MultiProcessingDataLoaderIter._next_data\u001b[0;34m(self)\u001b[0m\n\u001b[1;32m   1313\u001b[0m     \u001b[38;5;28;01mreturn\u001b[39;00m \u001b[38;5;28mself\u001b[39m\u001b[38;5;241m.\u001b[39m_process_data(data)\n\u001b[1;32m   1315\u001b[0m \u001b[38;5;28;01massert\u001b[39;00m \u001b[38;5;129;01mnot\u001b[39;00m \u001b[38;5;28mself\u001b[39m\u001b[38;5;241m.\u001b[39m_shutdown \u001b[38;5;129;01mand\u001b[39;00m \u001b[38;5;28mself\u001b[39m\u001b[38;5;241m.\u001b[39m_tasks_outstanding \u001b[38;5;241m>\u001b[39m \u001b[38;5;241m0\u001b[39m\n\u001b[0;32m-> 1316\u001b[0m idx, data \u001b[38;5;241m=\u001b[39m \u001b[38;5;28;43mself\u001b[39;49m\u001b[38;5;241;43m.\u001b[39;49m\u001b[43m_get_data\u001b[49m\u001b[43m(\u001b[49m\u001b[43m)\u001b[49m\n\u001b[1;32m   1317\u001b[0m \u001b[38;5;28mself\u001b[39m\u001b[38;5;241m.\u001b[39m_tasks_outstanding \u001b[38;5;241m-\u001b[39m\u001b[38;5;241m=\u001b[39m \u001b[38;5;241m1\u001b[39m\n\u001b[1;32m   1318\u001b[0m \u001b[38;5;28;01mif\u001b[39;00m \u001b[38;5;28mself\u001b[39m\u001b[38;5;241m.\u001b[39m_dataset_kind \u001b[38;5;241m==\u001b[39m _DatasetKind\u001b[38;5;241m.\u001b[39mIterable:\n\u001b[1;32m   1319\u001b[0m     \u001b[38;5;66;03m# Check for _IterableDatasetStopIteration\u001b[39;00m\n",
      "File \u001b[0;32m/n/fs/ac-project/anaconda3/envs/editing/lib/python3.8/site-packages/torch/utils/data/dataloader.py:1282\u001b[0m, in \u001b[0;36m_MultiProcessingDataLoaderIter._get_data\u001b[0;34m(self)\u001b[0m\n\u001b[1;32m   1278\u001b[0m     \u001b[38;5;66;03m# In this case, `self._data_queue` is a `queue.Queue`,. But we don't\u001b[39;00m\n\u001b[1;32m   1279\u001b[0m     \u001b[38;5;66;03m# need to call `.task_done()` because we don't use `.join()`.\u001b[39;00m\n\u001b[1;32m   1280\u001b[0m \u001b[38;5;28;01melse\u001b[39;00m:\n\u001b[1;32m   1281\u001b[0m     \u001b[38;5;28;01mwhile\u001b[39;00m \u001b[38;5;28;01mTrue\u001b[39;00m:\n\u001b[0;32m-> 1282\u001b[0m         success, data \u001b[38;5;241m=\u001b[39m \u001b[38;5;28;43mself\u001b[39;49m\u001b[38;5;241;43m.\u001b[39;49m\u001b[43m_try_get_data\u001b[49m\u001b[43m(\u001b[49m\u001b[43m)\u001b[49m\n\u001b[1;32m   1283\u001b[0m         \u001b[38;5;28;01mif\u001b[39;00m success:\n\u001b[1;32m   1284\u001b[0m             \u001b[38;5;28;01mreturn\u001b[39;00m data\n",
      "File \u001b[0;32m/n/fs/ac-project/anaconda3/envs/editing/lib/python3.8/site-packages/torch/utils/data/dataloader.py:1120\u001b[0m, in \u001b[0;36m_MultiProcessingDataLoaderIter._try_get_data\u001b[0;34m(self, timeout)\u001b[0m\n\u001b[1;32m   1107\u001b[0m \u001b[38;5;28;01mdef\u001b[39;00m \u001b[38;5;21m_try_get_data\u001b[39m(\u001b[38;5;28mself\u001b[39m, timeout\u001b[38;5;241m=\u001b[39m_utils\u001b[38;5;241m.\u001b[39mMP_STATUS_CHECK_INTERVAL):\n\u001b[1;32m   1108\u001b[0m     \u001b[38;5;66;03m# Tries to fetch data from `self._data_queue` once for a given timeout.\u001b[39;00m\n\u001b[1;32m   1109\u001b[0m     \u001b[38;5;66;03m# This can also be used as inner loop of fetching without timeout, with\u001b[39;00m\n\u001b[0;32m   (...)\u001b[0m\n\u001b[1;32m   1117\u001b[0m     \u001b[38;5;66;03m# Returns a 2-tuple:\u001b[39;00m\n\u001b[1;32m   1118\u001b[0m     \u001b[38;5;66;03m#   (bool: whether successfully get data, any: data if successful else None)\u001b[39;00m\n\u001b[1;32m   1119\u001b[0m     \u001b[38;5;28;01mtry\u001b[39;00m:\n\u001b[0;32m-> 1120\u001b[0m         data \u001b[38;5;241m=\u001b[39m \u001b[38;5;28;43mself\u001b[39;49m\u001b[38;5;241;43m.\u001b[39;49m\u001b[43m_data_queue\u001b[49m\u001b[38;5;241;43m.\u001b[39;49m\u001b[43mget\u001b[49m\u001b[43m(\u001b[49m\u001b[43mtimeout\u001b[49m\u001b[38;5;241;43m=\u001b[39;49m\u001b[43mtimeout\u001b[49m\u001b[43m)\u001b[49m\n\u001b[1;32m   1121\u001b[0m         \u001b[38;5;28;01mreturn\u001b[39;00m (\u001b[38;5;28;01mTrue\u001b[39;00m, data)\n\u001b[1;32m   1122\u001b[0m     \u001b[38;5;28;01mexcept\u001b[39;00m \u001b[38;5;167;01mException\u001b[39;00m \u001b[38;5;28;01mas\u001b[39;00m e:\n\u001b[1;32m   1123\u001b[0m         \u001b[38;5;66;03m# At timeout and error, we manually check whether any worker has\u001b[39;00m\n\u001b[1;32m   1124\u001b[0m         \u001b[38;5;66;03m# failed. Note that this is the only mechanism for Windows to detect\u001b[39;00m\n\u001b[1;32m   1125\u001b[0m         \u001b[38;5;66;03m# worker failures.\u001b[39;00m\n",
      "File \u001b[0;32m/n/fs/ac-project/anaconda3/envs/editing/lib/python3.8/multiprocessing/queues.py:107\u001b[0m, in \u001b[0;36mQueue.get\u001b[0;34m(self, block, timeout)\u001b[0m\n\u001b[1;32m    105\u001b[0m \u001b[38;5;28;01mif\u001b[39;00m block:\n\u001b[1;32m    106\u001b[0m     timeout \u001b[38;5;241m=\u001b[39m deadline \u001b[38;5;241m-\u001b[39m time\u001b[38;5;241m.\u001b[39mmonotonic()\n\u001b[0;32m--> 107\u001b[0m     \u001b[38;5;28;01mif\u001b[39;00m \u001b[38;5;129;01mnot\u001b[39;00m \u001b[38;5;28;43mself\u001b[39;49m\u001b[38;5;241;43m.\u001b[39;49m\u001b[43m_poll\u001b[49m\u001b[43m(\u001b[49m\u001b[43mtimeout\u001b[49m\u001b[43m)\u001b[49m:\n\u001b[1;32m    108\u001b[0m         \u001b[38;5;28;01mraise\u001b[39;00m Empty\n\u001b[1;32m    109\u001b[0m \u001b[38;5;28;01melif\u001b[39;00m \u001b[38;5;129;01mnot\u001b[39;00m \u001b[38;5;28mself\u001b[39m\u001b[38;5;241m.\u001b[39m_poll():\n",
      "File \u001b[0;32m/n/fs/ac-project/anaconda3/envs/editing/lib/python3.8/multiprocessing/connection.py:257\u001b[0m, in \u001b[0;36m_ConnectionBase.poll\u001b[0;34m(self, timeout)\u001b[0m\n\u001b[1;32m    255\u001b[0m \u001b[38;5;28mself\u001b[39m\u001b[38;5;241m.\u001b[39m_check_closed()\n\u001b[1;32m    256\u001b[0m \u001b[38;5;28mself\u001b[39m\u001b[38;5;241m.\u001b[39m_check_readable()\n\u001b[0;32m--> 257\u001b[0m \u001b[38;5;28;01mreturn\u001b[39;00m \u001b[38;5;28;43mself\u001b[39;49m\u001b[38;5;241;43m.\u001b[39;49m\u001b[43m_poll\u001b[49m\u001b[43m(\u001b[49m\u001b[43mtimeout\u001b[49m\u001b[43m)\u001b[49m\n",
      "File \u001b[0;32m/n/fs/ac-project/anaconda3/envs/editing/lib/python3.8/multiprocessing/connection.py:424\u001b[0m, in \u001b[0;36mConnection._poll\u001b[0;34m(self, timeout)\u001b[0m\n\u001b[1;32m    423\u001b[0m \u001b[38;5;28;01mdef\u001b[39;00m \u001b[38;5;21m_poll\u001b[39m(\u001b[38;5;28mself\u001b[39m, timeout):\n\u001b[0;32m--> 424\u001b[0m     r \u001b[38;5;241m=\u001b[39m \u001b[43mwait\u001b[49m\u001b[43m(\u001b[49m\u001b[43m[\u001b[49m\u001b[38;5;28;43mself\u001b[39;49m\u001b[43m]\u001b[49m\u001b[43m,\u001b[49m\u001b[43m \u001b[49m\u001b[43mtimeout\u001b[49m\u001b[43m)\u001b[49m\n\u001b[1;32m    425\u001b[0m     \u001b[38;5;28;01mreturn\u001b[39;00m \u001b[38;5;28mbool\u001b[39m(r)\n",
      "File \u001b[0;32m/n/fs/ac-project/anaconda3/envs/editing/lib/python3.8/multiprocessing/connection.py:931\u001b[0m, in \u001b[0;36mwait\u001b[0;34m(object_list, timeout)\u001b[0m\n\u001b[1;32m    928\u001b[0m     deadline \u001b[38;5;241m=\u001b[39m time\u001b[38;5;241m.\u001b[39mmonotonic() \u001b[38;5;241m+\u001b[39m timeout\n\u001b[1;32m    930\u001b[0m \u001b[38;5;28;01mwhile\u001b[39;00m \u001b[38;5;28;01mTrue\u001b[39;00m:\n\u001b[0;32m--> 931\u001b[0m     ready \u001b[38;5;241m=\u001b[39m \u001b[43mselector\u001b[49m\u001b[38;5;241;43m.\u001b[39;49m\u001b[43mselect\u001b[49m\u001b[43m(\u001b[49m\u001b[43mtimeout\u001b[49m\u001b[43m)\u001b[49m\n\u001b[1;32m    932\u001b[0m     \u001b[38;5;28;01mif\u001b[39;00m ready:\n\u001b[1;32m    933\u001b[0m         \u001b[38;5;28;01mreturn\u001b[39;00m [key\u001b[38;5;241m.\u001b[39mfileobj \u001b[38;5;28;01mfor\u001b[39;00m (key, events) \u001b[38;5;129;01min\u001b[39;00m ready]\n",
      "File \u001b[0;32m/n/fs/ac-project/anaconda3/envs/editing/lib/python3.8/selectors.py:415\u001b[0m, in \u001b[0;36m_PollLikeSelector.select\u001b[0;34m(self, timeout)\u001b[0m\n\u001b[1;32m    413\u001b[0m ready \u001b[38;5;241m=\u001b[39m []\n\u001b[1;32m    414\u001b[0m \u001b[38;5;28;01mtry\u001b[39;00m:\n\u001b[0;32m--> 415\u001b[0m     fd_event_list \u001b[38;5;241m=\u001b[39m \u001b[38;5;28;43mself\u001b[39;49m\u001b[38;5;241;43m.\u001b[39;49m\u001b[43m_selector\u001b[49m\u001b[38;5;241;43m.\u001b[39;49m\u001b[43mpoll\u001b[49m\u001b[43m(\u001b[49m\u001b[43mtimeout\u001b[49m\u001b[43m)\u001b[49m\n\u001b[1;32m    416\u001b[0m \u001b[38;5;28;01mexcept\u001b[39;00m \u001b[38;5;167;01mInterruptedError\u001b[39;00m:\n\u001b[1;32m    417\u001b[0m     \u001b[38;5;28;01mreturn\u001b[39;00m ready\n",
      "\u001b[0;31mKeyboardInterrupt\u001b[0m: "
     ]
    }
   ],
   "source": [
    "target_class_distribution_path = os.path.join(root_dir, 'target_class_distribution.pth').format(\n",
    "    target_class_name)\n",
    "target_class_distribution = torch.load(target_class_distribution_path)\n",
    "bin_lows = target_class_distribution['histogram_bins']\n",
    "\n",
    "bump_save_dir = os.path.join(os.path.dirname(os.path.dirname(config.save_dir)), save_timestamp, '{}_{}'.format(target_class_name, n_select))\n",
    "ensure_dir(bump_save_dir)\n",
    "# Save a copy of histogram info to save_dir\n",
    "torch.save(target_class_distribution, os.path.join(bump_save_dir, 'target_class_distribution.pth'))\n",
    "# Run bump experiments\n",
    "print(\"Obtaining class distribution for {} from {}\".format(target_class_name, target_class_distribution_path))\n",
    "print(\"Saving results to {}\".format(bump_save_dir))\n",
    "match_bump_edits(\n",
    "    data_loader=val_paths_data_loader,\n",
    "    model=model,\n",
    "    loss_fn=loss_fn,\n",
    "    metric_fns=metric_fns,\n",
    "    device=device,\n",
    "    bin_lows=bin_lows,\n",
    "    target_class_idx=target_class_idx,\n",
    "    save_dir=bump_save_dir)"
   ]
  },
  {
   "cell_type": "markdown",
   "metadata": {
    "jp-MarkdownHeadingCollapsed": true,
    "tags": []
   },
   "source": [
    "#### Sanity check that resulting histogram matches original from real edits"
   ]
  },
  {
   "cell_type": "code",
   "execution_count": null,
   "metadata": {},
   "outputs": [],
   "source": [
    "bump_save_dir = os.path.join(os.path.dirname(os.path.dirname(config.save_dir)), save_timestamp, '{}_{}'.format(target_class_name, n_select))\n",
    "metrics_save_path = os.path.join(bump_save_dir, 'bumps_preds_metrics.pth')\n",
    "\n",
    "bumped_target_class_dist = torch.load(metrics_save_path)\n",
    "\n",
    "bumped_hist_data = []\n",
    "\n",
    "\n",
    "target_class_dist_dict = torch.load(target_class_distribution_path)\n",
    "\n",
    "for n_target_predictions, bucket_value in zip(\n",
    "    bumped_target_class_dist['target_class_predictions'], \n",
    "    target_class_distribution['histogram_bin_values']):\n",
    "    cur_data = [n_target_predictions for i in range(int(bucket_value))]\n",
    "    bumped_hist_data += cur_data\n",
    "    \n",
    "bins = target_class_distribution['histogram_bins']\n",
    "bin_values = target_class_distribution['histogram_bin_values']\n",
    "\n",
    "histogram_save_path = os.path.join(\n",
    "    bump_save_dir, \n",
    "    'graphs',\n",
    "    'summary',\n",
    "    'bumped_target_class_distribution.png')\n",
    "bump_bin_values, bump_bins, _= histogram(\n",
    "        data=bumped_hist_data,\n",
    "        n_bins=bins, #50,\n",
    "        title='Bumped Post Edit {} Class Distribution to Match {} Edits'.format(target_class_name, target_class_name),\n",
    "        xlabel='Num. {} Predictions Post Bump'.format(target_class_name),\n",
    "        ylabel='Num. Edits',\n",
    "        save_path=histogram_save_path,\n",
    "        show=True)\n",
    "\n",
    "assert (bin_values == bump_bin_values).all()"
   ]
  },
  {
   "cell_type": "markdown",
   "metadata": {},
   "source": [
    "### Perform Bump for a Corresponding Edit"
   ]
  },
  {
   "cell_type": "code",
   "execution_count": 21,
   "metadata": {},
   "outputs": [],
   "source": [
    "def match_bump(n_target_predictions,\n",
    "               target_class_idx,\n",
    "               bumps_preds_metrics,\n",
    "               results_save_dir,\n",
    "               data_loader,\n",
    "               model,\n",
    "               loss_fn,\n",
    "               metric_fns,\n",
    "               device,\n",
    "               cushion=5,\n",
    "               debug=True):\n",
    "    '''\n",
    "    Given a number of predictions for target class, obtain bump amount to match and save post edit metrics in results_save_dir\n",
    "    \n",
    "    Arg(s):\n",
    "        n_target_predictions : int\n",
    "            Number of predictions to obtain for target class\n",
    "        target_class_idx : int\n",
    "            index of target class\n",
    "        bumps_preds_metrics : dict\n",
    "            saved data from match_bump_edits()\n",
    "        results_save_dir : str\n",
    "            directory to save results to\n",
    "        data_loader : torch.utils.data.DataLoader\n",
    "            validation data loader to obtain metrics for\n",
    "        model : torch.nn.Module\n",
    "            model\n",
    "        loss_fn : module\n",
    "            loss function\n",
    "        metric_fns : list[model.metric modules]\n",
    "            list of metric functions\n",
    "        device : torch.device\n",
    "            GPU device to run model on\n",
    "        cushion : int\n",
    "            how far away cur_n_target_predictions can be from n_target_predictions on either side to break loop (buffer)\n",
    "        debug : bool\n",
    "            control verbosity\n",
    "        \n",
    "            \n",
    "    Returns: \n",
    "        None\n",
    "    '''\n",
    "    # Unpack bumps_preds_metrics\n",
    "    pre_edit_metrics = bumps_preds_metrics['pre_edit_metrics']\n",
    "    target_class_predictions = bumps_preds_metrics['target_class_predictions']\n",
    "    bump_amounts = bumps_preds_metrics['bump_amounts']\n",
    "    \n",
    "    # Ensure that the n_target_predictions > pre edit # predictions of target class\n",
    "    pre_edit_n_target_predictions = pre_edit_metrics['predicted_class_distribution'][target_class_idx]\n",
    "    assert pre_edit_n_target_predictions < n_target_predictions, \\\n",
    "        \"n_target_predictions ({}) must be greater than pre-edit n_target_predictions ({})\".format(n_target_predictions, pre_edit_n_target_predictions) \n",
    "    n_predictions_total = np.sum(pre_edit_metrics['predicted_class_distribution'])\n",
    "    assert n_target_predictions <= n_predictions_total, \\\n",
    "        \"n_target_predictions ({}) must be less than total number of data in dataloader ({})\".format(n_target_predictions, n_predictions_total)\n",
    "    # Find index above and below n_target_predictions\n",
    "    bin_high_idx = -1\n",
    "    for bin_idx, target_class_prediction in enumerate(target_class_predictions):\n",
    "        if target_class_prediction > n_target_predictions:\n",
    "            bin_high_idx = bin_idx\n",
    "            break\n",
    "    if bin_high_idx == -1: # Past upper end \n",
    "        # n_predictions_upper_bound\n",
    "        bump_amount_upper_bound = bump_amounts[bin_high_idx] * 2\n",
    "        bump_amount_lower_bound = bump_amounts[bin_high_idx]\n",
    "        # raise ValueError(\"Out of bounds bin index\")\n",
    "        # return\n",
    "    else: \n",
    "        n_predictions_upper_bound = target_class_predictions[bin_high_idx]\n",
    "        bump_amount_upper_bound = bump_amounts[bin_high_idx]\n",
    "\n",
    "        # Store lower bounds for bump_amount and n_predictions\n",
    "        bin_low_idx = bin_high_idx - 1\n",
    "        if bin_low_idx > -1: # First bin is already higher than n_target_predictions\n",
    "            n_predictions_lower_bound = target_class_predictions[bin_low_idx]\n",
    "            bump_amount_lower_bound = bump_amounts[bin_low_idx]\n",
    "        else:\n",
    "            n_predictions_lower_bound = 0\n",
    "            bump_amount_lower_bound = 0\n",
    "        \n",
    "    # check to make sure that the targe\n",
    "    # cur_bump_amount = (bump_amount_lower_bound + bump_amount_upper_bound) / 2\n",
    "    cur_n_target_predictions = 0\n",
    "    \n",
    "    if debug:\n",
    "        print(\"target n_predictions: {}\".format(n_target_predictions))\n",
    "        print(\"Initial bounds for bump: ({}, {})\".format(bump_amount_lower_bound, bump_amount_upper_bound))\n",
    "    while abs(cur_n_target_predictions - n_target_predictions) > cushion:\n",
    "        cur_bump_amount = (bump_amount_lower_bound + bump_amount_upper_bound) / 2\n",
    "        log = predict_with_bump(\n",
    "                data_loader=data_loader,\n",
    "                model=model,\n",
    "                loss_fn=loss_fn,\n",
    "                metric_fns=metric_fns,\n",
    "                device=device,\n",
    "                target_class_idx=target_class_idx,\n",
    "                bump_amount=cur_bump_amount,\n",
    "                save_path=None)\n",
    "\n",
    "        # Obtain num. predictions for target class and determine bin idx\n",
    "        post_class_distribution = log['predicted_class_distribution']\n",
    "        cur_n_target_predictions = post_class_distribution[target_class_idx]\n",
    "        if debug:\n",
    "            print(\"cur_bump_amount: {}, cur_n_target_predictions: {}\".format(cur_bump_amount, cur_n_target_predictions))\n",
    "        if cur_n_target_predictions > n_target_predictions:\n",
    "            bump_amount_upper_bound = cur_bump_amount\n",
    "            if debug:\n",
    "                print(\"Updated upper bound to {}\".format(bump_amount_upper_bound))\n",
    "        elif cur_n_target_predictions < n_target_predictions:\n",
    "            bump_amount_lower_bound = cur_bump_amount\n",
    "            if debug:\n",
    "                print(\"Updated lower bound to {}\".format(bump_amount_lower_bound))\n",
    "        \n",
    "    if debug:\n",
    "        print(\"final results: bump amount: {} n_target_predictions: {}\".format(cur_bump_amount, cur_n_target_predictions))\n",
    "    return cur_bump_amount, cur_n_target_predictions\n",
    "    "
   ]
  },
  {
   "cell_type": "code",
   "execution_count": 23,
   "metadata": {},
   "outputs": [
    {
     "name": "stdout",
     "output_type": "stream",
     "text": [
      "target n_predictions: 65000\n",
      "Initial bounds for bump: (6.507315933965021, 13.014631867930042)\n"
     ]
    },
    {
     "name": "stderr",
     "output_type": "stream",
     "text": [
      "100%|█████████████████████████████████████████████████████████████████████| 274/274 [00:12<00:00, 22.66it/s]\n",
      "/n/fs/ac-editing/model-editing/src/model/metric.py:168: RuntimeWarning: invalid value encountered in divide\n",
      "  return np.nan_to_num(TPs / (TPs + FPs))\n",
      "/n/fs/ac-editing/model-editing/src/model/metric.py:205: RuntimeWarning: invalid value encountered in divide\n",
      "  return np.nan_to_num(2 * precisions * recalls / (precisions + recalls))\n"
     ]
    },
    {
     "name": "stdout",
     "output_type": "stream",
     "text": [
      "cur_bump_amount: 9.760973900947532, cur_n_target_predictions: 68683\n",
      "Updated upper bound to 9.760973900947532\n"
     ]
    },
    {
     "name": "stderr",
     "output_type": "stream",
     "text": [
      "100%|█████████████████████████████████████████████████████████████████████| 274/274 [00:12<00:00, 21.61it/s]\n",
      "/n/fs/ac-editing/model-editing/src/model/metric.py:168: RuntimeWarning: invalid value encountered in divide\n",
      "  return np.nan_to_num(TPs / (TPs + FPs))\n",
      "/n/fs/ac-editing/model-editing/src/model/metric.py:205: RuntimeWarning: invalid value encountered in divide\n",
      "  return np.nan_to_num(2 * precisions * recalls / (precisions + recalls))\n"
     ]
    },
    {
     "name": "stdout",
     "output_type": "stream",
     "text": [
      "cur_bump_amount: 8.134144917456275, cur_n_target_predictions: 66104\n",
      "Updated upper bound to 8.134144917456275\n"
     ]
    },
    {
     "name": "stderr",
     "output_type": "stream",
     "text": [
      "100%|█████████████████████████████████████████████████████████████████████| 274/274 [00:11<00:00, 24.70it/s]\n",
      "/n/fs/ac-editing/model-editing/src/model/metric.py:168: RuntimeWarning: invalid value encountered in divide\n",
      "  return np.nan_to_num(TPs / (TPs + FPs))\n",
      "/n/fs/ac-editing/model-editing/src/model/metric.py:205: RuntimeWarning: invalid value encountered in divide\n",
      "  return np.nan_to_num(2 * precisions * recalls / (precisions + recalls))\n"
     ]
    },
    {
     "name": "stdout",
     "output_type": "stream",
     "text": [
      "cur_bump_amount: 7.320730425710648, cur_n_target_predictions: 62766\n",
      "Updated lower bound to 7.320730425710648\n"
     ]
    },
    {
     "name": "stderr",
     "output_type": "stream",
     "text": [
      "100%|█████████████████████████████████████████████████████████████████████| 274/274 [00:07<00:00, 35.74it/s]\n",
      "/n/fs/ac-editing/model-editing/src/model/metric.py:168: RuntimeWarning: invalid value encountered in divide\n",
      "  return np.nan_to_num(TPs / (TPs + FPs))\n",
      "/n/fs/ac-editing/model-editing/src/model/metric.py:205: RuntimeWarning: invalid value encountered in divide\n",
      "  return np.nan_to_num(2 * precisions * recalls / (precisions + recalls))\n"
     ]
    },
    {
     "name": "stdout",
     "output_type": "stream",
     "text": [
      "cur_bump_amount: 7.727437671583462, cur_n_target_predictions: 63426\n",
      "Updated lower bound to 7.727437671583462\n"
     ]
    },
    {
     "name": "stderr",
     "output_type": "stream",
     "text": [
      "100%|█████████████████████████████████████████████████████████████████████| 274/274 [00:06<00:00, 40.27it/s]\n",
      "/n/fs/ac-editing/model-editing/src/model/metric.py:168: RuntimeWarning: invalid value encountered in divide\n",
      "  return np.nan_to_num(TPs / (TPs + FPs))\n",
      "/n/fs/ac-editing/model-editing/src/model/metric.py:205: RuntimeWarning: invalid value encountered in divide\n",
      "  return np.nan_to_num(2 * precisions * recalls / (precisions + recalls))\n"
     ]
    },
    {
     "name": "stdout",
     "output_type": "stream",
     "text": [
      "cur_bump_amount: 7.930791294519869, cur_n_target_predictions: 64222\n",
      "Updated lower bound to 7.930791294519869\n"
     ]
    },
    {
     "name": "stderr",
     "output_type": "stream",
     "text": [
      "100%|█████████████████████████████████████████████████████████████████████| 274/274 [00:06<00:00, 41.45it/s]\n",
      "/n/fs/ac-editing/model-editing/src/model/metric.py:168: RuntimeWarning: invalid value encountered in divide\n",
      "  return np.nan_to_num(TPs / (TPs + FPs))\n",
      "/n/fs/ac-editing/model-editing/src/model/metric.py:205: RuntimeWarning: invalid value encountered in divide\n",
      "  return np.nan_to_num(2 * precisions * recalls / (precisions + recalls))\n"
     ]
    },
    {
     "name": "stdout",
     "output_type": "stream",
     "text": [
      "cur_bump_amount: 8.032468105988073, cur_n_target_predictions: 65069\n",
      "Updated upper bound to 8.032468105988073\n"
     ]
    },
    {
     "name": "stderr",
     "output_type": "stream",
     "text": [
      "100%|█████████████████████████████████████████████████████████████████████| 274/274 [00:06<00:00, 41.98it/s]\n",
      "/n/fs/ac-editing/model-editing/src/model/metric.py:168: RuntimeWarning: invalid value encountered in divide\n",
      "  return np.nan_to_num(TPs / (TPs + FPs))\n",
      "/n/fs/ac-editing/model-editing/src/model/metric.py:205: RuntimeWarning: invalid value encountered in divide\n",
      "  return np.nan_to_num(2 * precisions * recalls / (precisions + recalls))\n"
     ]
    },
    {
     "name": "stdout",
     "output_type": "stream",
     "text": [
      "cur_bump_amount: 7.981629700253971, cur_n_target_predictions: 64584\n",
      "Updated lower bound to 7.981629700253971\n"
     ]
    },
    {
     "name": "stderr",
     "output_type": "stream",
     "text": [
      "100%|█████████████████████████████████████████████████████████████████████| 274/274 [00:08<00:00, 31.14it/s]\n",
      "/n/fs/ac-editing/model-editing/src/model/metric.py:168: RuntimeWarning: invalid value encountered in divide\n",
      "  return np.nan_to_num(TPs / (TPs + FPs))\n",
      "/n/fs/ac-editing/model-editing/src/model/metric.py:205: RuntimeWarning: invalid value encountered in divide\n",
      "  return np.nan_to_num(2 * precisions * recalls / (precisions + recalls))\n"
     ]
    },
    {
     "name": "stdout",
     "output_type": "stream",
     "text": [
      "cur_bump_amount: 8.007048903121023, cur_n_target_predictions: 64802\n",
      "Updated lower bound to 8.007048903121023\n"
     ]
    },
    {
     "name": "stderr",
     "output_type": "stream",
     "text": [
      "100%|█████████████████████████████████████████████████████████████████████| 274/274 [00:06<00:00, 43.21it/s]\n",
      "/n/fs/ac-editing/model-editing/src/model/metric.py:168: RuntimeWarning: invalid value encountered in divide\n",
      "  return np.nan_to_num(TPs / (TPs + FPs))\n",
      "/n/fs/ac-editing/model-editing/src/model/metric.py:205: RuntimeWarning: invalid value encountered in divide\n",
      "  return np.nan_to_num(2 * precisions * recalls / (precisions + recalls))\n"
     ]
    },
    {
     "name": "stdout",
     "output_type": "stream",
     "text": [
      "cur_bump_amount: 8.019758504554549, cur_n_target_predictions: 64932\n",
      "Updated lower bound to 8.019758504554549\n"
     ]
    },
    {
     "name": "stderr",
     "output_type": "stream",
     "text": [
      "100%|█████████████████████████████████████████████████████████████████████| 274/274 [00:06<00:00, 42.96it/s]\n",
      "/n/fs/ac-editing/model-editing/src/model/metric.py:168: RuntimeWarning: invalid value encountered in divide\n",
      "  return np.nan_to_num(TPs / (TPs + FPs))\n",
      "/n/fs/ac-editing/model-editing/src/model/metric.py:205: RuntimeWarning: invalid value encountered in divide\n",
      "  return np.nan_to_num(2 * precisions * recalls / (precisions + recalls))\n"
     ]
    },
    {
     "name": "stdout",
     "output_type": "stream",
     "text": [
      "cur_bump_amount: 8.026113305271311, cur_n_target_predictions: 64988\n",
      "Updated lower bound to 8.026113305271311\n"
     ]
    },
    {
     "name": "stderr",
     "output_type": "stream",
     "text": [
      "100%|█████████████████████████████████████████████████████████████████████| 274/274 [00:05<00:00, 45.72it/s]\n",
      "/n/fs/ac-editing/model-editing/src/model/metric.py:168: RuntimeWarning: invalid value encountered in divide\n",
      "  return np.nan_to_num(TPs / (TPs + FPs))\n",
      "/n/fs/ac-editing/model-editing/src/model/metric.py:205: RuntimeWarning: invalid value encountered in divide\n",
      "  return np.nan_to_num(2 * precisions * recalls / (precisions + recalls))\n"
     ]
    },
    {
     "name": "stdout",
     "output_type": "stream",
     "text": [
      "cur_bump_amount: 8.029290705629691, cur_n_target_predictions: 65027\n",
      "Updated upper bound to 8.029290705629691\n"
     ]
    },
    {
     "name": "stderr",
     "output_type": "stream",
     "text": [
      "100%|█████████████████████████████████████████████████████████████████████| 274/274 [00:06<00:00, 43.59it/s]"
     ]
    },
    {
     "name": "stdout",
     "output_type": "stream",
     "text": [
      "cur_bump_amount: 8.0277020054505, cur_n_target_predictions: 65005\n",
      "Updated upper bound to 8.0277020054505\n",
      "final results: bump amount: 8.0277020054505 n_target_predictions: 65005\n"
     ]
    },
    {
     "name": "stderr",
     "output_type": "stream",
     "text": [
      "\n",
      "/n/fs/ac-editing/model-editing/src/model/metric.py:168: RuntimeWarning: invalid value encountered in divide\n",
      "  return np.nan_to_num(TPs / (TPs + FPs))\n",
      "/n/fs/ac-editing/model-editing/src/model/metric.py:205: RuntimeWarning: invalid value encountered in divide\n",
      "  return np.nan_to_num(2 * precisions * recalls / (precisions + recalls))\n"
     ]
    },
    {
     "data": {
      "text/plain": [
       "(8.0277020054505, 65005)"
      ]
     },
     "execution_count": 23,
     "metadata": {},
     "output_type": "execute_result"
    }
   ],
   "source": [
    "# testing\n",
    "\n",
    "bump_save_dir = os.path.join(os.path.dirname(os.path.dirname(config.save_dir)), save_timestamp, '{}_{}'.format(target_class_name, n_select))\n",
    "metrics_save_path = os.path.join(bump_save_dir, 'bumps_preds_metrics.pth')\n",
    "bumps_preds_metrics = torch.load(metrics_save_path)\n",
    "\n",
    "n_target_predictions = 65000\n",
    "results_save_dir = os.path.join('temp')\n",
    "match_bump(n_target_predictions=n_target_predictions,\n",
    "           target_class_idx=target_class_idx,\n",
    "           bumps_preds_metrics=bumps_preds_metrics,\n",
    "           results_save_dir=results_save_dir,\n",
    "           data_loader=val_paths_data_loader,\n",
    "           model=model,\n",
    "           loss_fn=loss_fn,\n",
    "           metric_fns=metric_fns,\n",
    "           device=device,\n",
    "           cushion=5,\n",
    "           debug=True)"
   ]
  },
  {
   "cell_type": "markdown",
   "metadata": {},
   "source": [
    "### Copy results such that we can call src/utils/results_to_csv.py to get csv of results"
   ]
  },
  {
   "cell_type": "code",
   "execution_count": 41,
   "metadata": {},
   "outputs": [],
   "source": [
    "def replicate_bump_results(bumps_preds_metrics,\n",
    "                           target_class_distribution,\n",
    "                           results_save_dir,\n",
    "                           trial_paths_path):\n",
    "    '''\n",
    "    Given how much to bump logit by to match target class distribution, create results for each tiral\n",
    "    \n",
    "    Arg(s):\n",
    "        bumps_preds_metrics : dict\n",
    "            result of match_bump_edits()\n",
    "        target_class_distribution : dict\n",
    "            histogram data, result from save_class_distribution()\n",
    "        results_save_dir : str\n",
    "            location of results folder\n",
    "        trial_paths_path : str\n",
    "            path to file to store paths to each trial\n",
    "            \n",
    "    '''\n",
    "    pre_edit_metrics = bumps_preds_metrics['pre_edit_metrics']\n",
    "    \n",
    "    metrics = bumps_preds_metrics['metrics']\n",
    "    bin_values = target_class_distribution['histogram_bin_values']\n",
    "    bins = target_class_distribution['histogram_bins']\n",
    "    bin_lows = bins[:-1]\n",
    "    bin_highs = bins[1:]\n",
    "\n",
    "    trial_paths = []\n",
    "    for bin_idx, bin_value in enumerate(tqdm(bin_values)):\n",
    "        n_repeat = int(bin_value)\n",
    "        if n_repeat == 0:\n",
    "            continue\n",
    "            \n",
    "        # Obtain post edit metrics\n",
    "        post_edit_metrics = metrics[bin_idx]\n",
    "        \n",
    "        for itr in range(n_repeat):\n",
    "            # Create directory for this trial\n",
    "            trial_id = 'bin_{}_{}_itr_{}'.format(bin_lows[bin_idx], bin_highs[bin_idx], itr)\n",
    "            trial_dir = os.path.join(results_save_dir, trial_id)\n",
    "            \n",
    "            # Log path to trial_paths.txt\n",
    "            trial_paths.append(trial_dir)\n",
    "            \n",
    "            trial_save_dir = os.path.join(trial_dir, 'models')\n",
    "            ensure_dir(trial_save_dir)\n",
    "            # Save pre edit metrics\n",
    "            torch.save(pre_edit_metrics, os.path.join(trial_save_dir, 'pre_edit_metrics.pth'))\n",
    "            # Save post edit metrics\n",
    "            torch.save(post_edit_metrics, os.path.join(trial_save_dir, 'post_edit_metrics.pth'))\n",
    "        \n",
    "    return trial_paths\n",
    "\n",
    "def replicate_bump_noise_results(bumps_preds_metrics,\n",
    "                                 target_class_distribution,\n",
    "                                 results_save_dir,\n",
    "                                 trial_paths_path,\n",
    "                                 progress_report_path,\n",
    "                                 # noise_edit=False,\n",
    "                                 target_class_idx,\n",
    "                                 config,\n",
    "                                 data_loader,\n",
    "                                 loss_fn,\n",
    "                                 metrics_fns,\n",
    "                                 editor,\n",
    "                                 device):\n",
    "    '''\n",
    "    Given how much to bump logit by to match target class distribution, create results for each tiral\n",
    "    \n",
    "    Arg(s):\n",
    "        bumps_preds_metrics : dict\n",
    "            result of match_bump_edits()\n",
    "        target_class_distribution : dict\n",
    "            histogram data, result from save_class_distribution()\n",
    "        results_save_dir : str\n",
    "            location of results folder\n",
    "        trial_paths_path : str\n",
    "            path to file to store paths to each trial\n",
    "        progress_report_path : str\n",
    "            path to log progress\n",
    "        target_class_idx : int\n",
    "            index of target class\n",
    "        config : return from ConfigParser\n",
    "            config object to instantiate model from\n",
    "        data_loader : torch.utils.data.DataLoader\n",
    "            validation data loader to obtain metrics for\n",
    "        loss_fn : module\n",
    "            loss function\n",
    "        metric_fns : list[model.metric modules]\n",
    "            list of metric functions\n",
    "        editor : Editor (from trainer/editor.py) or None\n",
    "            pass in an editor if performing random edits\n",
    "        device : torch.device\n",
    "            GPU device to run model on\n",
    "    '''\n",
    "    pre_edit_metrics = bumps_preds_metrics['pre_edit_metrics']\n",
    "    \n",
    "    bump_amounts = bumps_preds_metrics['bump_amounts']\n",
    "    metrics = bumps_preds_metrics['metrics']\n",
    "    bin_values = target_class_distribution['histogram_bin_values']\n",
    "    bins = target_class_distribution['histogram_bins']\n",
    "    bin_lows = bins[:-1]\n",
    "    bin_highs = bins[1:]\n",
    "\n",
    "    trial_paths = []\n",
    "    \n",
    "    layernum = config.config['layernum']\n",
    "    # if noise_edit:\n",
    "    #     assert target_class_idx is not None\n",
    "    #     assert config is not None\n",
    "    #     assert data_loader is not None\n",
    "    #     assert loss_fn is not None\n",
    "    #     assert metrics_fns is not None\n",
    "    #     assert editor is not None\n",
    "    #     assert device is not None\n",
    "        \n",
    "    for bin_idx, bin_value in enumerate(bin_values):\n",
    "        n_repeat = int(bin_value)\n",
    "        if n_repeat == 0:\n",
    "            continue\n",
    "            \n",
    "        informal_log(\"Bin {} [{}, {})\".format(bin_idx, bin_lows[bin_idx], bin_highs[bin_idx]), progress_report_path)\n",
    "        for itr in range(n_repeat):\n",
    "            informal_log(\"\\tItr {}/{}\".format(itr+1, n_repeat), progress_report_path)\n",
    "            # Create directory for this trial\n",
    "            trial_id = 'bin_{}_{}_itr_{}'.format(bin_lows[bin_idx], bin_highs[bin_idx], itr)\n",
    "            trial_dir = os.path.join(results_save_dir, trial_id)\n",
    "\n",
    "            # Log path to trial_paths.txt\n",
    "            trial_paths.append(trial_dir)\n",
    "            informal_log(trial_dir, trial_paths_path)\n",
    "            # Create save directories, save pre_edit_metrics\n",
    "            trial_save_dir = os.path.join(trial_dir, 'models')\n",
    "            pre_edit_metrics_save_path = os.path.join(trial_save_dir, 'pre_edit_metrics.pth')\n",
    "            post_edit_metrics_save_path = os.path.join(trial_save_dir, 'post_edit_metrics.pth')\n",
    "            ensure_dir(trial_save_dir)\n",
    "            # Save pre edit metrics\n",
    "            torch.save(pre_edit_metrics, pre_edit_metrics_save_path)\n",
    "            if not noise_edit:\n",
    "                # Save calculated post edit metrics\n",
    "                # Obtain and save post edit metrics\n",
    "                post_edit_metrics = metrics[bin_idx]\n",
    "                torch.save(post_edit_metrics, post_edit_metrics_save_path)\n",
    "                \n",
    "            else:\n",
    "                # Load in fresh model\n",
    "                \n",
    "                model = config.init_obj('arch', module_arch, layernum=layernum, device=device)\n",
    "                model.eval()\n",
    "                \n",
    "                # edit model with noise\n",
    "                editor.noise_edit(model=model)\n",
    "                \n",
    "                # obtain bump amount\n",
    "                bump_amount = bump_amounts[bin_idx]\n",
    "                log = predict_with_bump(\n",
    "                    data_loader=data_loader,\n",
    "                    model=model,\n",
    "                    loss_fn=loss_fn,\n",
    "                    metric_fns=metric_fns,\n",
    "                    device=device,\n",
    "                    target_class_idx=target_class_idx,\n",
    "                    bump_amount=bump_amount,\n",
    "                    save_path=post_edit_metrics_save_path)\n",
    "            \n",
    "                \n",
    "                \n",
    "    return trial_paths"
   ]
  },
  {
   "cell_type": "code",
   "execution_count": 45,
   "metadata": {
    "scrolled": true,
    "tags": []
   },
   "outputs": [
    {
     "name": "stdout",
     "output_type": "stream",
     "text": [
      "Performing bump-noise edits for airplane class\n",
      "Trial paths stored at saved/edit/experiments/bump_edits/CINIC10_ImageNet-VGG_16/0208_112555/airplane_100/bump_noise/trial_paths.txt\n",
      "Results will be saved to saved/edit/experiments/bump_edits/CINIC10_ImageNet-VGG_16/0208_112555/airplane_100/bump_noise/results\n",
      "True\n",
      "Bin 0 [7014.0, 7533.62)\n",
      "\tItr 1/3\n",
      "L2 norm of weight change: 4.605295658111572\n",
      "pre_edit_weights id: 139767148232848 mean: 1.063853324012598e-05\n",
      "post_edit_weights id: 139767144758304 mean: 1.1618755706876982e-05\n",
      "are the tensors equal: False\n"
     ]
    },
    {
     "name": "stderr",
     "output_type": "stream",
     "text": [
      "100%|█████████████████████████████████████████████████████████████████████| 274/274 [05:06<00:00,  1.12s/it]\n"
     ]
    },
    {
     "name": "stdout",
     "output_type": "stream",
     "text": [
      "\tItr 2/3\n",
      "L2 norm of weight change: 4.608025550842285\n",
      "pre_edit_weights id: 139767148688864 mean: 1.063853324012598e-05\n",
      "post_edit_weights id: 139767144073552 mean: 8.5252804638003e-06\n",
      "are the tensors equal: False\n"
     ]
    },
    {
     "name": "stderr",
     "output_type": "stream",
     "text": [
      "100%|█████████████████████████████████████████████████████████████████████| 274/274 [00:09<00:00, 29.02it/s]\n"
     ]
    },
    {
     "name": "stdout",
     "output_type": "stream",
     "text": [
      "\tItr 3/3\n",
      "L2 norm of weight change: 4.610196590423584\n",
      "pre_edit_weights id: 139767230537296 mean: 1.063853324012598e-05\n",
      "post_edit_weights id: 139767144108496 mean: 1.4323152754514012e-05\n",
      "are the tensors equal: False\n"
     ]
    },
    {
     "name": "stderr",
     "output_type": "stream",
     "text": [
      "100%|█████████████████████████████████████████████████████████████████████| 274/274 [00:07<00:00, 38.05it/s]\n"
     ]
    },
    {
     "name": "stdout",
     "output_type": "stream",
     "text": [
      "Bin 1 [7533.62, 8053.24)\n",
      "\tItr 1/4\n",
      "L2 norm of weight change: 4.609846115112305\n",
      "pre_edit_weights id: 139767230972768 mean: 1.063853324012598e-05\n",
      "post_edit_weights id: 139767148455152 mean: 7.794899829605129e-06\n",
      "are the tensors equal: False\n"
     ]
    },
    {
     "name": "stderr",
     "output_type": "stream",
     "text": [
      "100%|█████████████████████████████████████████████████████████████████████| 274/274 [00:07<00:00, 34.35it/s]\n"
     ]
    },
    {
     "name": "stdout",
     "output_type": "stream",
     "text": [
      "\tItr 2/4\n",
      "L2 norm of weight change: 4.607097148895264\n",
      "pre_edit_weights id: 139767144538256 mean: 1.063853324012598e-05\n",
      "post_edit_weights id: 139767233238416 mean: 1.0431643204356078e-05\n",
      "are the tensors equal: False\n"
     ]
    },
    {
     "name": "stderr",
     "output_type": "stream",
     "text": [
      "100%|█████████████████████████████████████████████████████████████████████| 274/274 [00:07<00:00, 35.03it/s]\n"
     ]
    },
    {
     "name": "stdout",
     "output_type": "stream",
     "text": [
      "\tItr 3/4\n",
      "L2 norm of weight change: 4.607219219207764\n",
      "pre_edit_weights id: 139767230600352 mean: 1.063853324012598e-05\n",
      "post_edit_weights id: 139767144074432 mean: 1.1273381460341625e-05\n",
      "are the tensors equal: False\n"
     ]
    },
    {
     "name": "stderr",
     "output_type": "stream",
     "text": [
      "100%|█████████████████████████████████████████████████████████████████████| 274/274 [00:08<00:00, 33.01it/s]\n"
     ]
    },
    {
     "name": "stdout",
     "output_type": "stream",
     "text": [
      "\tItr 4/4\n",
      "L2 norm of weight change: 4.611595153808594\n",
      "pre_edit_weights id: 139767148656016 mean: 1.063853324012598e-05\n",
      "post_edit_weights id: 139767148254208 mean: 9.202978617395274e-06\n",
      "are the tensors equal: False\n"
     ]
    },
    {
     "name": "stderr",
     "output_type": "stream",
     "text": [
      "100%|█████████████████████████████████████████████████████████████████████| 274/274 [00:07<00:00, 35.22it/s]\n"
     ]
    },
    {
     "name": "stdout",
     "output_type": "stream",
     "text": [
      "Bin 2 [8053.24, 8572.86)\n",
      "\tItr 1/4\n",
      "L2 norm of weight change: 4.608113765716553\n",
      "pre_edit_weights id: 139767148655136 mean: 1.063853324012598e-05\n",
      "post_edit_weights id: 139767148325840 mean: 1.1324676052026916e-05\n",
      "are the tensors equal: False\n"
     ]
    },
    {
     "name": "stderr",
     "output_type": "stream",
     "text": [
      "100%|█████████████████████████████████████████████████████████████████████| 274/274 [00:07<00:00, 38.36it/s]\n"
     ]
    },
    {
     "name": "stdout",
     "output_type": "stream",
     "text": [
      "\tItr 2/4\n",
      "L2 norm of weight change: 4.608646869659424\n",
      "pre_edit_weights id: 139767230542128 mean: 1.063853324012598e-05\n",
      "post_edit_weights id: 139767144644336 mean: 1.158817030955106e-05\n",
      "are the tensors equal: False\n"
     ]
    },
    {
     "name": "stderr",
     "output_type": "stream",
     "text": [
      "100%|█████████████████████████████████████████████████████████████████████| 274/274 [00:09<00:00, 28.26it/s]\n"
     ]
    },
    {
     "name": "stdout",
     "output_type": "stream",
     "text": [
      "\tItr 3/4\n",
      "L2 norm of weight change: 4.606595516204834\n",
      "pre_edit_weights id: 139767234652496 mean: 1.063853324012598e-05\n",
      "post_edit_weights id: 139767144047056 mean: 1.1293757779640146e-05\n",
      "are the tensors equal: False\n"
     ]
    },
    {
     "name": "stderr",
     "output_type": "stream",
     "text": [
      "100%|█████████████████████████████████████████████████████████████████████| 274/274 [00:10<00:00, 25.07it/s]\n"
     ]
    },
    {
     "name": "stdout",
     "output_type": "stream",
     "text": [
      "\tItr 4/4\n",
      "L2 norm of weight change: 4.604042053222656\n",
      "pre_edit_weights id: 139767233226848 mean: 1.063853324012598e-05\n",
      "post_edit_weights id: 139767144047296 mean: 1.142621931649046e-05\n",
      "are the tensors equal: False\n"
     ]
    },
    {
     "name": "stderr",
     "output_type": "stream",
     "text": [
      "100%|█████████████████████████████████████████████████████████████████████| 274/274 [00:07<00:00, 36.15it/s]\n"
     ]
    },
    {
     "name": "stdout",
     "output_type": "stream",
     "text": [
      "Bin 3 [8572.86, 9092.48)\n",
      "\tItr 1/6\n",
      "L2 norm of weight change: 4.606592178344727\n",
      "pre_edit_weights id: 139767228876656 mean: 1.063853324012598e-05\n",
      "post_edit_weights id: 139767144048496 mean: 1.0943435881927144e-05\n",
      "are the tensors equal: False\n"
     ]
    },
    {
     "name": "stderr",
     "output_type": "stream",
     "text": [
      "100%|█████████████████████████████████████████████████████████████████████| 274/274 [00:07<00:00, 38.73it/s]\n"
     ]
    },
    {
     "name": "stdout",
     "output_type": "stream",
     "text": [
      "\tItr 2/6\n",
      "L2 norm of weight change: 4.608302116394043\n",
      "pre_edit_weights id: 139767228735376 mean: 1.063853324012598e-05\n",
      "post_edit_weights id: 139767148390496 mean: 1.2463201528589707e-05\n",
      "are the tensors equal: False\n"
     ]
    },
    {
     "name": "stderr",
     "output_type": "stream",
     "text": [
      "100%|█████████████████████████████████████████████████████████████████████| 274/274 [00:06<00:00, 43.10it/s]\n"
     ]
    },
    {
     "name": "stdout",
     "output_type": "stream",
     "text": [
      "\tItr 3/6\n",
      "L2 norm of weight change: 4.606703758239746\n",
      "pre_edit_weights id: 139767228637888 mean: 1.063853324012598e-05\n",
      "post_edit_weights id: 139767144048896 mean: 1.1236452337470837e-05\n",
      "are the tensors equal: False\n"
     ]
    },
    {
     "name": "stderr",
     "output_type": "stream",
     "text": [
      "100%|█████████████████████████████████████████████████████████████████████| 274/274 [00:06<00:00, 41.84it/s]\n"
     ]
    },
    {
     "name": "stdout",
     "output_type": "stream",
     "text": [
      "\tItr 4/6\n",
      "L2 norm of weight change: 4.610841751098633\n",
      "pre_edit_weights id: 139767228640688 mean: 1.063853324012598e-05\n",
      "post_edit_weights id: 139767144596960 mean: 1.1095085028500762e-05\n",
      "are the tensors equal: False\n"
     ]
    },
    {
     "name": "stderr",
     "output_type": "stream",
     "text": [
      "100%|█████████████████████████████████████████████████████████████████████| 274/274 [00:06<00:00, 39.36it/s]\n"
     ]
    },
    {
     "name": "stdout",
     "output_type": "stream",
     "text": [
      "\tItr 5/6\n",
      "L2 norm of weight change: 4.613918781280518\n",
      "pre_edit_weights id: 139767228876656 mean: 1.063853324012598e-05\n",
      "post_edit_weights id: 139767148390816 mean: 9.15138025447959e-06\n",
      "are the tensors equal: False\n"
     ]
    },
    {
     "name": "stderr",
     "output_type": "stream",
     "text": [
      "100%|█████████████████████████████████████████████████████████████████████| 274/274 [00:10<00:00, 27.32it/s]\n"
     ]
    },
    {
     "name": "stdout",
     "output_type": "stream",
     "text": [
      "\tItr 6/6\n",
      "L2 norm of weight change: 4.610691070556641\n",
      "pre_edit_weights id: 139767230537296 mean: 1.063853324012598e-05\n",
      "post_edit_weights id: 139767144072272 mean: 1.2601401067513507e-05\n",
      "are the tensors equal: False\n"
     ]
    },
    {
     "name": "stderr",
     "output_type": "stream",
     "text": [
      "100%|█████████████████████████████████████████████████████████████████████| 274/274 [00:07<00:00, 34.44it/s]\n"
     ]
    },
    {
     "name": "stdout",
     "output_type": "stream",
     "text": [
      "Bin 4 [9092.48, 9612.1)\n",
      "\tItr 1/7\n",
      "L2 norm of weight change: 4.606906414031982\n",
      "pre_edit_weights id: 139767148375472 mean: 1.063853324012598e-05\n",
      "post_edit_weights id: 139767148256128 mean: 1.0422145351185463e-05\n",
      "are the tensors equal: False\n"
     ]
    },
    {
     "name": "stderr",
     "output_type": "stream",
     "text": [
      "100%|█████████████████████████████████████████████████████████████████████| 274/274 [00:10<00:00, 27.17it/s]\n"
     ]
    },
    {
     "name": "stdout",
     "output_type": "stream",
     "text": [
      "\tItr 2/7\n",
      "L2 norm of weight change: 4.608543395996094\n",
      "pre_edit_weights id: 139767230537296 mean: 1.063853324012598e-05\n",
      "post_edit_weights id: 139767144074592 mean: 9.2511618277058e-06\n",
      "are the tensors equal: False\n"
     ]
    },
    {
     "name": "stderr",
     "output_type": "stream",
     "text": [
      "100%|█████████████████████████████████████████████████████████████████████| 274/274 [00:07<00:00, 35.66it/s]\n"
     ]
    },
    {
     "name": "stdout",
     "output_type": "stream",
     "text": [
      "\tItr 3/7\n",
      "L2 norm of weight change: 4.608242034912109\n",
      "pre_edit_weights id: 139767233226848 mean: 1.063853324012598e-05\n",
      "post_edit_weights id: 139767144048016 mean: 1.1758337677747477e-05\n",
      "are the tensors equal: False\n"
     ]
    },
    {
     "name": "stderr",
     "output_type": "stream",
     "text": [
      "100%|█████████████████████████████████████████████████████████████████████| 274/274 [00:08<00:00, 32.23it/s]\n"
     ]
    },
    {
     "name": "stdout",
     "output_type": "stream",
     "text": [
      "\tItr 4/7\n",
      "L2 norm of weight change: 4.6071882247924805\n",
      "pre_edit_weights id: 139767231253456 mean: 1.063853324012598e-05\n",
      "post_edit_weights id: 139767144049856 mean: 1.0282374205417e-05\n",
      "are the tensors equal: False\n"
     ]
    },
    {
     "name": "stderr",
     "output_type": "stream",
     "text": [
      "100%|█████████████████████████████████████████████████████████████████████| 274/274 [00:10<00:00, 25.42it/s]\n"
     ]
    },
    {
     "name": "stdout",
     "output_type": "stream",
     "text": [
      "\tItr 5/7\n",
      "L2 norm of weight change: 4.610478401184082\n",
      "pre_edit_weights id: 139767228487696 mean: 1.063853324012598e-05\n",
      "post_edit_weights id: 139767144047936 mean: 9.315557690570131e-06\n",
      "are the tensors equal: False\n"
     ]
    },
    {
     "name": "stderr",
     "output_type": "stream",
     "text": [
      "100%|█████████████████████████████████████████████████████████████████████| 274/274 [00:08<00:00, 30.99it/s]\n"
     ]
    },
    {
     "name": "stdout",
     "output_type": "stream",
     "text": [
      "\tItr 6/7\n",
      "L2 norm of weight change: 4.609764575958252\n",
      "pre_edit_weights id: 139767230600352 mean: 1.063853324012598e-05\n",
      "post_edit_weights id: 139767230550480 mean: 1.2511443856055848e-05\n",
      "are the tensors equal: False\n"
     ]
    },
    {
     "name": "stderr",
     "output_type": "stream",
     "text": [
      "100%|█████████████████████████████████████████████████████████████████████| 274/274 [00:08<00:00, 31.38it/s]\n"
     ]
    },
    {
     "name": "stdout",
     "output_type": "stream",
     "text": [
      "\tItr 7/7\n",
      "L2 norm of weight change: 4.604362964630127\n",
      "pre_edit_weights id: 139767228876656 mean: 1.063853324012598e-05\n",
      "post_edit_weights id: 139767144067136 mean: 1.0733238923421595e-05\n",
      "are the tensors equal: False\n"
     ]
    },
    {
     "name": "stderr",
     "output_type": "stream",
     "text": [
      "100%|█████████████████████████████████████████████████████████████████████| 274/274 [00:13<00:00, 20.32it/s]\n"
     ]
    },
    {
     "name": "stdout",
     "output_type": "stream",
     "text": [
      "Bin 5 [9612.1, 10131.720000000001)\n",
      "\tItr 1/2\n",
      "L2 norm of weight change: 4.6088385581970215\n",
      "pre_edit_weights id: 139767148668304 mean: 1.063853324012598e-05\n",
      "post_edit_weights id: 139767144755744 mean: 8.369287570531014e-06\n",
      "are the tensors equal: False\n"
     ]
    },
    {
     "name": "stderr",
     "output_type": "stream",
     "text": [
      "100%|█████████████████████████████████████████████████████████████████████| 274/274 [00:13<00:00, 19.76it/s]\n"
     ]
    },
    {
     "name": "stdout",
     "output_type": "stream",
     "text": [
      "\tItr 2/2\n",
      "L2 norm of weight change: 4.607847213745117\n",
      "pre_edit_weights id: 139767148667824 mean: 1.063853324012598e-05\n",
      "post_edit_weights id: 139767144049296 mean: 1.1616995834629051e-05\n",
      "are the tensors equal: False\n"
     ]
    },
    {
     "name": "stderr",
     "output_type": "stream",
     "text": [
      "100%|█████████████████████████████████████████████████████████████████████| 274/274 [00:11<00:00, 24.26it/s]\n"
     ]
    },
    {
     "name": "stdout",
     "output_type": "stream",
     "text": [
      "Bin 6 [10131.720000000001, 10651.34)\n",
      "\tItr 1/7\n",
      "L2 norm of weight change: 4.607789516448975\n",
      "pre_edit_weights id: 139767228487696 mean: 1.063853324012598e-05\n",
      "post_edit_weights id: 139767144755824 mean: 1.003602119453717e-05\n",
      "are the tensors equal: False\n"
     ]
    },
    {
     "name": "stderr",
     "output_type": "stream",
     "text": [
      "100%|█████████████████████████████████████████████████████████████████████| 274/274 [00:08<00:00, 30.71it/s]\n"
     ]
    },
    {
     "name": "stdout",
     "output_type": "stream",
     "text": [
      "\tItr 2/7\n",
      "L2 norm of weight change: 4.609366416931152\n",
      "pre_edit_weights id: 139767234652496 mean: 1.063853324012598e-05\n",
      "post_edit_weights id: 139767148255648 mean: 1.609582432138268e-05\n",
      "are the tensors equal: False\n"
     ]
    },
    {
     "name": "stderr",
     "output_type": "stream",
     "text": [
      "100%|█████████████████████████████████████████████████████████████████████| 274/274 [00:06<00:00, 41.25it/s]\n"
     ]
    },
    {
     "name": "stdout",
     "output_type": "stream",
     "text": [
      "\tItr 3/7\n",
      "L2 norm of weight change: 4.604387283325195\n",
      "pre_edit_weights id: 139767230972768 mean: 1.063853324012598e-05\n",
      "post_edit_weights id: 139767144597280 mean: 1.2488972060964443e-05\n",
      "are the tensors equal: False\n"
     ]
    },
    {
     "name": "stderr",
     "output_type": "stream",
     "text": [
      "100%|█████████████████████████████████████████████████████████████████████| 274/274 [00:07<00:00, 36.47it/s]\n"
     ]
    },
    {
     "name": "stdout",
     "output_type": "stream",
     "text": [
      "\tItr 4/7\n",
      "L2 norm of weight change: 4.611557960510254\n",
      "pre_edit_weights id: 139767228735376 mean: 1.063853324012598e-05\n",
      "post_edit_weights id: 139767148388656 mean: 1.1889516827068292e-05\n",
      "are the tensors equal: False\n"
     ]
    },
    {
     "name": "stderr",
     "output_type": "stream",
     "text": [
      "100%|█████████████████████████████████████████████████████████████████████| 274/274 [00:07<00:00, 36.60it/s]\n"
     ]
    },
    {
     "name": "stdout",
     "output_type": "stream",
     "text": [
      "\tItr 5/7\n",
      "L2 norm of weight change: 4.607230186462402\n",
      "pre_edit_weights id: 139767233266048 mean: 1.063853324012598e-05\n",
      "post_edit_weights id: 139767144047936 mean: 9.812231837713625e-06\n",
      "are the tensors equal: False\n"
     ]
    },
    {
     "name": "stderr",
     "output_type": "stream",
     "text": [
      "100%|█████████████████████████████████████████████████████████████████████| 274/274 [00:08<00:00, 31.23it/s]\n"
     ]
    },
    {
     "name": "stdout",
     "output_type": "stream",
     "text": [
      "\tItr 6/7\n",
      "L2 norm of weight change: 4.610021114349365\n",
      "pre_edit_weights id: 139767228735376 mean: 1.063853324012598e-05\n",
      "post_edit_weights id: 139767148398928 mean: 1.266344861505786e-05\n",
      "are the tensors equal: False\n"
     ]
    },
    {
     "name": "stderr",
     "output_type": "stream",
     "text": [
      "100%|█████████████████████████████████████████████████████████████████████| 274/274 [00:10<00:00, 25.00it/s]\n"
     ]
    },
    {
     "name": "stdout",
     "output_type": "stream",
     "text": [
      "\tItr 7/7\n",
      "L2 norm of weight change: 4.608645915985107\n",
      "pre_edit_weights id: 139767233266048 mean: 1.063853324012598e-05\n",
      "post_edit_weights id: 139767144049456 mean: 1.0576623026281595e-05\n",
      "are the tensors equal: False\n"
     ]
    },
    {
     "name": "stderr",
     "output_type": "stream",
     "text": [
      "100%|█████████████████████████████████████████████████████████████████████| 274/274 [00:07<00:00, 37.49it/s]\n"
     ]
    },
    {
     "name": "stdout",
     "output_type": "stream",
     "text": [
      "Bin 7 [10651.34, 11170.96)\n",
      "\tItr 1/6\n",
      "L2 norm of weight change: 4.609301567077637\n",
      "pre_edit_weights id: 139767228487696 mean: 1.063853324012598e-05\n",
      "post_edit_weights id: 139767144643776 mean: 1.0869341167563107e-05\n",
      "are the tensors equal: False\n"
     ]
    },
    {
     "name": "stderr",
     "output_type": "stream",
     "text": [
      "100%|█████████████████████████████████████████████████████████████████████| 274/274 [00:06<00:00, 42.49it/s]\n"
     ]
    },
    {
     "name": "stdout",
     "output_type": "stream",
     "text": [
      "\tItr 2/6\n",
      "L2 norm of weight change: 4.609157562255859\n",
      "pre_edit_weights id: 139767230600352 mean: 1.063853324012598e-05\n",
      "post_edit_weights id: 139767144050416 mean: 1.0237558853987139e-05\n",
      "are the tensors equal: False\n"
     ]
    },
    {
     "name": "stderr",
     "output_type": "stream",
     "text": [
      "100%|█████████████████████████████████████████████████████████████████████| 274/274 [00:07<00:00, 36.13it/s]\n"
     ]
    },
    {
     "name": "stdout",
     "output_type": "stream",
     "text": [
      "\tItr 3/6\n",
      "L2 norm of weight change: 4.606231212615967\n",
      "pre_edit_weights id: 139767148688864 mean: 1.063853324012598e-05\n",
      "post_edit_weights id: 139767144756464 mean: 8.400765182159375e-06\n",
      "are the tensors equal: False\n"
     ]
    },
    {
     "name": "stderr",
     "output_type": "stream",
     "text": [
      "100%|█████████████████████████████████████████████████████████████████████| 274/274 [00:08<00:00, 32.43it/s]\n"
     ]
    },
    {
     "name": "stdout",
     "output_type": "stream",
     "text": [
      "\tItr 4/6\n",
      "L2 norm of weight change: 4.60938024520874\n",
      "pre_edit_weights id: 139767233226608 mean: 1.063853324012598e-05\n",
      "post_edit_weights id: 139767144770272 mean: 1.2539521776488982e-05\n",
      "are the tensors equal: False\n"
     ]
    },
    {
     "name": "stderr",
     "output_type": "stream",
     "text": [
      "100%|█████████████████████████████████████████████████████████████████████| 274/274 [00:07<00:00, 38.98it/s]\n"
     ]
    },
    {
     "name": "stdout",
     "output_type": "stream",
     "text": [
      "\tItr 5/6\n",
      "L2 norm of weight change: 4.609138011932373\n",
      "pre_edit_weights id: 139767228487696 mean: 1.063853324012598e-05\n",
      "post_edit_weights id: 139767231343168 mean: 1.0963366548821796e-05\n",
      "are the tensors equal: False\n"
     ]
    },
    {
     "name": "stderr",
     "output_type": "stream",
     "text": [
      "100%|█████████████████████████████████████████████████████████████████████| 274/274 [00:07<00:00, 38.91it/s]\n"
     ]
    },
    {
     "name": "stdout",
     "output_type": "stream",
     "text": [
      "\tItr 6/6\n",
      "L2 norm of weight change: 4.605825901031494\n",
      "pre_edit_weights id: 139767148326560 mean: 1.063853324012598e-05\n",
      "post_edit_weights id: 139767144083264 mean: 1.1343200640112627e-05\n",
      "are the tensors equal: False\n"
     ]
    },
    {
     "name": "stderr",
     "output_type": "stream",
     "text": [
      "100%|█████████████████████████████████████████████████████████████████████| 274/274 [00:09<00:00, 29.92it/s]\n"
     ]
    },
    {
     "name": "stdout",
     "output_type": "stream",
     "text": [
      "Bin 8 [11170.96, 11690.58)\n",
      "\tItr 1/2\n",
      "L2 norm of weight change: 4.605257511138916\n",
      "pre_edit_weights id: 139766850580048 mean: 1.063853324012598e-05\n",
      "post_edit_weights id: 139767144082624 mean: 9.274422154703643e-06\n",
      "are the tensors equal: False\n"
     ]
    },
    {
     "name": "stderr",
     "output_type": "stream",
     "text": [
      "100%|█████████████████████████████████████████████████████████████████████| 274/274 [00:14<00:00, 19.24it/s]\n"
     ]
    },
    {
     "name": "stdout",
     "output_type": "stream",
     "text": [
      "\tItr 2/2\n",
      "L2 norm of weight change: 4.609261512756348\n",
      "pre_edit_weights id: 139767228641008 mean: 1.063853324012598e-05\n",
      "post_edit_weights id: 139767148254528 mean: 1.0291597391187679e-05\n",
      "are the tensors equal: False\n"
     ]
    },
    {
     "name": "stderr",
     "output_type": "stream",
     "text": [
      "100%|█████████████████████████████████████████████████████████████████████| 274/274 [00:09<00:00, 28.07it/s]\n"
     ]
    },
    {
     "name": "stdout",
     "output_type": "stream",
     "text": [
      "Bin 9 [11690.58, 12210.2)\n",
      "\tItr 1/6\n",
      "L2 norm of weight change: 4.609744071960449\n",
      "pre_edit_weights id: 139766850580048 mean: 1.063853324012598e-05\n",
      "post_edit_weights id: 139767230550400 mean: 1.260250064660795e-05\n",
      "are the tensors equal: False\n"
     ]
    },
    {
     "name": "stderr",
     "output_type": "stream",
     "text": [
      "100%|█████████████████████████████████████████████████████████████████████| 274/274 [00:09<00:00, 27.64it/s]\n"
     ]
    },
    {
     "name": "stdout",
     "output_type": "stream",
     "text": [
      "\tItr 2/6\n",
      "L2 norm of weight change: 4.604115962982178\n",
      "pre_edit_weights id: 139767233226608 mean: 1.063853324012598e-05\n",
      "post_edit_weights id: 139767148253568 mean: 8.749127118790057e-06\n",
      "are the tensors equal: False\n"
     ]
    },
    {
     "name": "stderr",
     "output_type": "stream",
     "text": [
      "100%|█████████████████████████████████████████████████████████████████████| 274/274 [00:09<00:00, 28.98it/s]\n"
     ]
    },
    {
     "name": "stdout",
     "output_type": "stream",
     "text": [
      "\tItr 3/6\n",
      "L2 norm of weight change: 4.609557151794434\n",
      "pre_edit_weights id: 139767228876656 mean: 1.063853324012598e-05\n",
      "post_edit_weights id: 139767144069056 mean: 1.006744696496753e-05\n",
      "are the tensors equal: False\n"
     ]
    },
    {
     "name": "stderr",
     "output_type": "stream",
     "text": [
      "100%|█████████████████████████████████████████████████████████████████████| 274/274 [00:09<00:00, 29.14it/s]\n"
     ]
    },
    {
     "name": "stdout",
     "output_type": "stream",
     "text": [
      "\tItr 4/6\n",
      "L2 norm of weight change: 4.60792875289917\n",
      "pre_edit_weights id: 139767148232848 mean: 1.063853324012598e-05\n",
      "post_edit_weights id: 139767148442304 mean: 1.0335038496123161e-05\n",
      "are the tensors equal: False\n"
     ]
    },
    {
     "name": "stderr",
     "output_type": "stream",
     "text": [
      "100%|█████████████████████████████████████████████████████████████████████| 274/274 [00:10<00:00, 25.90it/s]\n"
     ]
    },
    {
     "name": "stdout",
     "output_type": "stream",
     "text": [
      "\tItr 5/6\n",
      "L2 norm of weight change: 4.605938911437988\n",
      "pre_edit_weights id: 139767230600352 mean: 1.063853324012598e-05\n",
      "post_edit_weights id: 139767148325520 mean: 1.1018599252565764e-05\n",
      "are the tensors equal: False\n"
     ]
    },
    {
     "name": "stderr",
     "output_type": "stream",
     "text": [
      "100%|█████████████████████████████████████████████████████████████████████| 274/274 [00:17<00:00, 16.08it/s]\n"
     ]
    },
    {
     "name": "stdout",
     "output_type": "stream",
     "text": [
      "\tItr 6/6\n",
      "L2 norm of weight change: 4.606222152709961\n",
      "pre_edit_weights id: 139767230537296 mean: 1.063853324012598e-05\n",
      "post_edit_weights id: 139767231343728 mean: 1.1558420737856068e-05\n",
      "are the tensors equal: False\n"
     ]
    },
    {
     "name": "stderr",
     "output_type": "stream",
     "text": [
      "100%|█████████████████████████████████████████████████████████████████████| 274/274 [00:12<00:00, 22.20it/s]\n"
     ]
    },
    {
     "name": "stdout",
     "output_type": "stream",
     "text": [
      "Bin 10 [12210.2, 12729.82)\n",
      "\tItr 1/6\n",
      "L2 norm of weight change: 4.607428073883057\n",
      "pre_edit_weights id: 139767233266048 mean: 1.063853324012598e-05\n",
      "post_edit_weights id: 139767148442224 mean: 1.0739227036538068e-05\n",
      "are the tensors equal: False\n"
     ]
    },
    {
     "name": "stderr",
     "output_type": "stream",
     "text": [
      "100%|█████████████████████████████████████████████████████████████████████| 274/274 [00:12<00:00, 21.88it/s]\n"
     ]
    },
    {
     "name": "stdout",
     "output_type": "stream",
     "text": [
      "\tItr 2/6\n",
      "L2 norm of weight change: 4.61114501953125\n",
      "pre_edit_weights id: 139767228487696 mean: 1.063853324012598e-05\n",
      "post_edit_weights id: 139767148293552 mean: 1.3677434253622778e-05\n",
      "are the tensors equal: False\n"
     ]
    },
    {
     "name": "stderr",
     "output_type": "stream",
     "text": [
      "100%|█████████████████████████████████████████████████████████████████████| 274/274 [00:17<00:00, 16.07it/s]\n"
     ]
    },
    {
     "name": "stdout",
     "output_type": "stream",
     "text": [
      "\tItr 3/6\n",
      "L2 norm of weight change: 4.610708236694336\n",
      "pre_edit_weights id: 139767230542128 mean: 1.063853324012598e-05\n",
      "post_edit_weights id: 139767230550560 mean: 6.771366770408349e-06\n",
      "are the tensors equal: False\n"
     ]
    },
    {
     "name": "stderr",
     "output_type": "stream",
     "text": [
      "100%|█████████████████████████████████████████████████████████████████████| 274/274 [00:23<00:00, 11.60it/s]\n"
     ]
    },
    {
     "name": "stdout",
     "output_type": "stream",
     "text": [
      "\tItr 4/6\n",
      "L2 norm of weight change: 4.604699611663818\n",
      "pre_edit_weights id: 139767148656016 mean: 1.063853324012598e-05\n",
      "post_edit_weights id: 139767148442784 mean: 9.946705176844262e-06\n",
      "are the tensors equal: False\n"
     ]
    },
    {
     "name": "stderr",
     "output_type": "stream",
     "text": [
      "100%|█████████████████████████████████████████████████████████████████████| 274/274 [00:11<00:00, 24.26it/s]\n"
     ]
    },
    {
     "name": "stdout",
     "output_type": "stream",
     "text": [
      "\tItr 5/6\n",
      "L2 norm of weight change: 4.604273319244385\n",
      "pre_edit_weights id: 139765611707184 mean: 1.063853324012598e-05\n",
      "post_edit_weights id: 139767144758544 mean: 9.923832294589374e-06\n",
      "are the tensors equal: False\n"
     ]
    },
    {
     "name": "stderr",
     "output_type": "stream",
     "text": [
      "100%|█████████████████████████████████████████████████████████████████████| 274/274 [00:11<00:00, 24.85it/s]\n"
     ]
    },
    {
     "name": "stdout",
     "output_type": "stream",
     "text": [
      "\tItr 6/6\n",
      "L2 norm of weight change: 4.608598709106445\n",
      "pre_edit_weights id: 139767144109856 mean: 1.063853324012598e-05\n",
      "post_edit_weights id: 139767148375312 mean: 1.329268798144767e-05\n",
      "are the tensors equal: False\n"
     ]
    },
    {
     "name": "stderr",
     "output_type": "stream",
     "text": [
      "100%|█████████████████████████████████████████████████████████████████████| 274/274 [00:09<00:00, 30.35it/s]\n"
     ]
    },
    {
     "name": "stdout",
     "output_type": "stream",
     "text": [
      "Bin 11 [12729.82, 13249.44)\n",
      "\tItr 1/10\n",
      "L2 norm of weight change: 4.609197616577148\n",
      "pre_edit_weights id: 139766850580048 mean: 1.063853324012598e-05\n",
      "post_edit_weights id: 139767148454352 mean: 1.0242016287520528e-05\n",
      "are the tensors equal: False\n"
     ]
    },
    {
     "name": "stderr",
     "output_type": "stream",
     "text": [
      "100%|█████████████████████████████████████████████████████████████████████| 274/274 [00:09<00:00, 29.66it/s]\n"
     ]
    },
    {
     "name": "stdout",
     "output_type": "stream",
     "text": [
      "\tItr 2/10\n",
      "L2 norm of weight change: 4.609731674194336\n",
      "pre_edit_weights id: 139767144048336 mean: 1.063853324012598e-05\n",
      "post_edit_weights id: 139767144081744 mean: 1.1291867849649861e-05\n",
      "are the tensors equal: False\n"
     ]
    },
    {
     "name": "stderr",
     "output_type": "stream",
     "text": [
      "100%|█████████████████████████████████████████████████████████████████████| 274/274 [00:09<00:00, 27.42it/s]\n"
     ]
    },
    {
     "name": "stdout",
     "output_type": "stream",
     "text": [
      "\tItr 3/10\n",
      "L2 norm of weight change: 4.605302810668945\n",
      "pre_edit_weights id: 139767230600352 mean: 1.063853324012598e-05\n",
      "post_edit_weights id: 139767270752720 mean: 8.651897587697022e-06\n",
      "are the tensors equal: False\n"
     ]
    },
    {
     "name": "stderr",
     "output_type": "stream",
     "text": [
      "100%|█████████████████████████████████████████████████████████████████████| 274/274 [00:10<00:00, 26.16it/s]\n"
     ]
    },
    {
     "name": "stdout",
     "output_type": "stream",
     "text": [
      "\tItr 4/10\n",
      "L2 norm of weight change: 4.603915691375732\n",
      "pre_edit_weights id: 139766851631680 mean: 1.063853324012598e-05\n",
      "post_edit_weights id: 139767231435696 mean: 1.0783378456835635e-05\n",
      "are the tensors equal: False\n"
     ]
    },
    {
     "name": "stderr",
     "output_type": "stream",
     "text": [
      "100%|█████████████████████████████████████████████████████████████████████| 274/274 [00:08<00:00, 31.64it/s]\n"
     ]
    },
    {
     "name": "stdout",
     "output_type": "stream",
     "text": [
      "\tItr 5/10\n",
      "L2 norm of weight change: 4.611888885498047\n",
      "pre_edit_weights id: 139767274278320 mean: 1.063853324012598e-05\n",
      "post_edit_weights id: 139767233226208 mean: 1.06819934444502e-05\n",
      "are the tensors equal: False\n"
     ]
    },
    {
     "name": "stderr",
     "output_type": "stream",
     "text": [
      "100%|█████████████████████████████████████████████████████████████████████| 274/274 [00:11<00:00, 23.92it/s]\n"
     ]
    },
    {
     "name": "stdout",
     "output_type": "stream",
     "text": [
      "\tItr 6/10\n",
      "L2 norm of weight change: 4.610652923583984\n",
      "pre_edit_weights id: 139767233139952 mean: 1.063853324012598e-05\n",
      "post_edit_weights id: 139767231436016 mean: 1.3550036783271935e-05\n",
      "are the tensors equal: False\n"
     ]
    },
    {
     "name": "stderr",
     "output_type": "stream",
     "text": [
      "100%|█████████████████████████████████████████████████████████████████████| 274/274 [00:13<00:00, 20.34it/s]\n"
     ]
    },
    {
     "name": "stdout",
     "output_type": "stream",
     "text": [
      "\tItr 7/10\n",
      "L2 norm of weight change: 4.6063232421875\n",
      "pre_edit_weights id: 139765620196832 mean: 1.063853324012598e-05\n",
      "post_edit_weights id: 139767229871744 mean: 1.2352395060588606e-05\n",
      "are the tensors equal: False\n"
     ]
    },
    {
     "name": "stderr",
     "output_type": "stream",
     "text": [
      "100%|█████████████████████████████████████████████████████████████████████| 274/274 [00:09<00:00, 27.68it/s]\n"
     ]
    },
    {
     "name": "stdout",
     "output_type": "stream",
     "text": [
      "\tItr 8/10\n",
      "L2 norm of weight change: 4.608117580413818\n",
      "pre_edit_weights id: 139766850524640 mean: 1.063853324012598e-05\n",
      "post_edit_weights id: 139767233228528 mean: 9.552514711685944e-06\n",
      "are the tensors equal: False\n"
     ]
    },
    {
     "name": "stderr",
     "output_type": "stream",
     "text": [
      "100%|█████████████████████████████████████████████████████████████████████| 274/274 [00:11<00:00, 24.74it/s]\n"
     ]
    },
    {
     "name": "stdout",
     "output_type": "stream",
     "text": [
      "\tItr 9/10\n",
      "L2 norm of weight change: 4.608768939971924\n",
      "pre_edit_weights id: 139767232642880 mean: 1.063853324012598e-05\n",
      "post_edit_weights id: 139767148442944 mean: 1.1021525097021367e-05\n",
      "are the tensors equal: False\n"
     ]
    },
    {
     "name": "stderr",
     "output_type": "stream",
     "text": [
      "100%|█████████████████████████████████████████████████████████████████████| 274/274 [00:17<00:00, 16.09it/s]\n"
     ]
    },
    {
     "name": "stdout",
     "output_type": "stream",
     "text": [
      "\tItr 10/10\n",
      "L2 norm of weight change: 4.605406761169434\n",
      "pre_edit_weights id: 139767230537136 mean: 1.063853324012598e-05\n",
      "post_edit_weights id: 139767231436896 mean: 1.0354096957598813e-05\n",
      "are the tensors equal: False\n"
     ]
    },
    {
     "name": "stderr",
     "output_type": "stream",
     "text": [
      "100%|█████████████████████████████████████████████████████████████████████| 274/274 [00:09<00:00, 29.74it/s]\n"
     ]
    },
    {
     "name": "stdout",
     "output_type": "stream",
     "text": [
      "Bin 12 [13249.44, 13769.060000000001)\n",
      "\tItr 1/2\n",
      "L2 norm of weight change: 4.605759143829346\n",
      "pre_edit_weights id: 139765620268384 mean: 1.063853324012598e-05\n",
      "post_edit_weights id: 139767231538576 mean: 1.1059556527470704e-05\n",
      "are the tensors equal: False\n"
     ]
    },
    {
     "name": "stderr",
     "output_type": "stream",
     "text": [
      "100%|█████████████████████████████████████████████████████████████████████| 274/274 [00:09<00:00, 29.35it/s]\n"
     ]
    },
    {
     "name": "stdout",
     "output_type": "stream",
     "text": [
      "\tItr 2/2\n",
      "L2 norm of weight change: 4.61191463470459\n",
      "pre_edit_weights id: 139767144047616 mean: 1.063853324012598e-05\n",
      "post_edit_weights id: 139767231437136 mean: 1.0750551155069843e-05\n",
      "are the tensors equal: False\n"
     ]
    },
    {
     "name": "stderr",
     "output_type": "stream",
     "text": [
      "100%|█████████████████████████████████████████████████████████████████████| 274/274 [00:09<00:00, 29.33it/s]\n"
     ]
    },
    {
     "name": "stdout",
     "output_type": "stream",
     "text": [
      "Bin 13 [13769.060000000001, 14288.68)\n",
      "\tItr 1/2\n",
      "L2 norm of weight change: 4.608983039855957\n",
      "pre_edit_weights id: 139767232032992 mean: 1.063853324012598e-05\n",
      "post_edit_weights id: 139767231436736 mean: 9.638703886594158e-06\n",
      "are the tensors equal: False\n"
     ]
    },
    {
     "name": "stderr",
     "output_type": "stream",
     "text": [
      "100%|█████████████████████████████████████████████████████████████████████| 274/274 [00:07<00:00, 38.36it/s]\n"
     ]
    },
    {
     "name": "stdout",
     "output_type": "stream",
     "text": [
      "\tItr 2/2\n",
      "L2 norm of weight change: 4.610561370849609\n",
      "pre_edit_weights id: 139767231540336 mean: 1.063853324012598e-05\n",
      "post_edit_weights id: 139766850416704 mean: 9.389707884110976e-06\n",
      "are the tensors equal: False\n"
     ]
    },
    {
     "name": "stderr",
     "output_type": "stream",
     "text": [
      "100%|█████████████████████████████████████████████████████████████████████| 274/274 [00:14<00:00, 19.28it/s]\n"
     ]
    },
    {
     "name": "stdout",
     "output_type": "stream",
     "text": [
      "Bin 14 [14288.68, 14808.3)\n",
      "\tItr 1/3\n",
      "L2 norm of weight change: 4.609364032745361\n",
      "pre_edit_weights id: 139765620268384 mean: 1.063853324012598e-05\n",
      "post_edit_weights id: 139767231122384 mean: 7.2150742198573425e-06\n",
      "are the tensors equal: False\n"
     ]
    },
    {
     "name": "stderr",
     "output_type": "stream",
     "text": [
      "100%|█████████████████████████████████████████████████████████████████████| 274/274 [00:14<00:00, 18.55it/s]\n"
     ]
    },
    {
     "name": "stdout",
     "output_type": "stream",
     "text": [
      "\tItr 2/3\n",
      "L2 norm of weight change: 4.6079864501953125\n",
      "pre_edit_weights id: 139767232032992 mean: 1.063853324012598e-05\n",
      "post_edit_weights id: 139767231549168 mean: 9.83157951850444e-06\n",
      "are the tensors equal: False\n"
     ]
    },
    {
     "name": "stderr",
     "output_type": "stream",
     "text": [
      "100%|█████████████████████████████████████████████████████████████████████| 274/274 [00:09<00:00, 27.79it/s]\n"
     ]
    },
    {
     "name": "stdout",
     "output_type": "stream",
     "text": [
      "\tItr 3/3\n",
      "L2 norm of weight change: 4.608567237854004\n",
      "pre_edit_weights id: 139767270778496 mean: 1.063853324012598e-05\n",
      "post_edit_weights id: 139767231119984 mean: 7.708847078902181e-06\n",
      "are the tensors equal: False\n"
     ]
    },
    {
     "name": "stderr",
     "output_type": "stream",
     "text": [
      "100%|█████████████████████████████████████████████████████████████████████| 274/274 [00:18<00:00, 14.99it/s]\n"
     ]
    },
    {
     "name": "stdout",
     "output_type": "stream",
     "text": [
      "Bin 15 [14808.3, 15327.92)\n",
      "\tItr 1/4\n",
      "L2 norm of weight change: 4.609359264373779\n",
      "pre_edit_weights id: 139767232642880 mean: 1.063853324012598e-05\n",
      "post_edit_weights id: 139767231554240 mean: 1.0306194781151135e-05\n",
      "are the tensors equal: False\n"
     ]
    },
    {
     "name": "stderr",
     "output_type": "stream",
     "text": [
      "100%|█████████████████████████████████████████████████████████████████████| 274/274 [00:38<00:00,  7.19it/s]\n"
     ]
    },
    {
     "name": "stdout",
     "output_type": "stream",
     "text": [
      "\tItr 2/4\n",
      "L2 norm of weight change: 4.607109546661377\n",
      "pre_edit_weights id: 139767270778496 mean: 1.063853324012598e-05\n",
      "post_edit_weights id: 139767230059760 mean: 1.0119537364516873e-05\n",
      "are the tensors equal: False\n"
     ]
    },
    {
     "name": "stderr",
     "output_type": "stream",
     "text": [
      "100%|█████████████████████████████████████████████████████████████████████| 274/274 [00:15<00:00, 17.53it/s]\n"
     ]
    },
    {
     "name": "stdout",
     "output_type": "stream",
     "text": [
      "\tItr 3/4\n",
      "L2 norm of weight change: 4.609880447387695\n",
      "pre_edit_weights id: 139766851448560 mean: 1.063853324012598e-05\n",
      "post_edit_weights id: 139767231545408 mean: 1.279991465708008e-05\n",
      "are the tensors equal: False\n"
     ]
    },
    {
     "name": "stderr",
     "output_type": "stream",
     "text": [
      "100%|█████████████████████████████████████████████████████████████████████| 274/274 [00:12<00:00, 21.38it/s]\n"
     ]
    },
    {
     "name": "stdout",
     "output_type": "stream",
     "text": [
      "\tItr 4/4\n",
      "L2 norm of weight change: 4.607494831085205\n",
      "pre_edit_weights id: 139767232032992 mean: 1.063853324012598e-05\n",
      "post_edit_weights id: 139767231537376 mean: 1.163402157544624e-05\n",
      "are the tensors equal: False\n"
     ]
    },
    {
     "name": "stderr",
     "output_type": "stream",
     "text": [
      "100%|█████████████████████████████████████████████████████████████████████| 274/274 [00:15<00:00, 17.29it/s]\n"
     ]
    },
    {
     "name": "stdout",
     "output_type": "stream",
     "text": [
      "Bin 16 [15327.92, 15847.54)\n",
      "\tItr 1/6\n",
      "L2 norm of weight change: 4.60999870300293\n",
      "pre_edit_weights id: 139767229873504 mean: 1.063853324012598e-05\n",
      "post_edit_weights id: 139766850526480 mean: 1.150099797087023e-05\n",
      "are the tensors equal: False\n"
     ]
    },
    {
     "name": "stderr",
     "output_type": "stream",
     "text": [
      "100%|█████████████████████████████████████████████████████████████████████| 274/274 [00:11<00:00, 24.36it/s]\n"
     ]
    },
    {
     "name": "stdout",
     "output_type": "stream",
     "text": [
      "\tItr 2/6\n",
      "L2 norm of weight change: 4.60818338394165\n",
      "pre_edit_weights id: 139767148236448 mean: 1.063853324012598e-05\n",
      "post_edit_weights id: 139767231085600 mean: 1.0034386832558084e-05\n",
      "are the tensors equal: False\n"
     ]
    },
    {
     "name": "stderr",
     "output_type": "stream",
     "text": [
      "100%|█████████████████████████████████████████████████████████████████████| 274/274 [00:07<00:00, 36.20it/s]\n"
     ]
    },
    {
     "name": "stdout",
     "output_type": "stream",
     "text": [
      "\tItr 3/6\n",
      "L2 norm of weight change: 4.608265399932861\n",
      "pre_edit_weights id: 139765620196832 mean: 1.063853324012598e-05\n",
      "post_edit_weights id: 139766850524720 mean: 1.0594145351205952e-05\n",
      "are the tensors equal: False\n"
     ]
    },
    {
     "name": "stderr",
     "output_type": "stream",
     "text": [
      "100%|█████████████████████████████████████████████████████████████████████| 274/274 [00:08<00:00, 31.42it/s]\n"
     ]
    },
    {
     "name": "stdout",
     "output_type": "stream",
     "text": [
      "\tItr 4/6\n",
      "L2 norm of weight change: 4.607420921325684\n",
      "pre_edit_weights id: 139765648694704 mean: 1.063853324012598e-05\n",
      "post_edit_weights id: 139767148311632 mean: 9.057242095877882e-06\n",
      "are the tensors equal: False\n"
     ]
    },
    {
     "name": "stderr",
     "output_type": "stream",
     "text": [
      "100%|█████████████████████████████████████████████████████████████████████| 274/274 [00:09<00:00, 30.20it/s]\n"
     ]
    },
    {
     "name": "stdout",
     "output_type": "stream",
     "text": [
      "\tItr 5/6\n",
      "L2 norm of weight change: 4.608076572418213\n",
      "pre_edit_weights id: 139766850791200 mean: 1.063853324012598e-05\n",
      "post_edit_weights id: 139767231538016 mean: 1.1655409252853133e-05\n",
      "are the tensors equal: False\n"
     ]
    },
    {
     "name": "stderr",
     "output_type": "stream",
     "text": [
      "100%|█████████████████████████████████████████████████████████████████████| 274/274 [00:07<00:00, 37.02it/s]\n"
     ]
    },
    {
     "name": "stdout",
     "output_type": "stream",
     "text": [
      "\tItr 6/6\n",
      "L2 norm of weight change: 4.604846477508545\n",
      "pre_edit_weights id: 139766850791760 mean: 1.063853324012598e-05\n",
      "post_edit_weights id: 139767148311952 mean: 4.327203441789607e-06\n",
      "are the tensors equal: False\n"
     ]
    },
    {
     "name": "stderr",
     "output_type": "stream",
     "text": [
      "100%|█████████████████████████████████████████████████████████████████████| 274/274 [00:07<00:00, 34.58it/s]\n"
     ]
    },
    {
     "name": "stdout",
     "output_type": "stream",
     "text": [
      "Bin 17 [15847.54, 16367.16)\n",
      "\tItr 1/5\n",
      "L2 norm of weight change: 4.609468936920166\n",
      "pre_edit_weights id: 139767148236448 mean: 1.063853324012598e-05\n",
      "post_edit_weights id: 139766851117600 mean: 9.103173397306819e-06\n",
      "are the tensors equal: False\n"
     ]
    },
    {
     "name": "stderr",
     "output_type": "stream",
     "text": [
      "100%|█████████████████████████████████████████████████████████████████████| 274/274 [00:08<00:00, 33.40it/s]\n"
     ]
    },
    {
     "name": "stdout",
     "output_type": "stream",
     "text": [
      "\tItr 2/5\n",
      "L2 norm of weight change: 4.60536003112793\n",
      "pre_edit_weights id: 139765620196832 mean: 1.063853324012598e-05\n",
      "post_edit_weights id: 139767231459872 mean: 1.1648329746094532e-05\n",
      "are the tensors equal: False\n"
     ]
    },
    {
     "name": "stderr",
     "output_type": "stream",
     "text": [
      "100%|█████████████████████████████████████████████████████████████████████| 274/274 [00:08<00:00, 31.58it/s]\n"
     ]
    },
    {
     "name": "stdout",
     "output_type": "stream",
     "text": [
      "\tItr 3/5\n",
      "L2 norm of weight change: 4.606861591339111\n",
      "pre_edit_weights id: 139767232642720 mean: 1.063853324012598e-05\n",
      "post_edit_weights id: 139767231462192 mean: 9.141255759459455e-06\n",
      "are the tensors equal: False\n"
     ]
    },
    {
     "name": "stderr",
     "output_type": "stream",
     "text": [
      "100%|█████████████████████████████████████████████████████████████████████| 274/274 [00:07<00:00, 36.92it/s]\n"
     ]
    },
    {
     "name": "stdout",
     "output_type": "stream",
     "text": [
      "\tItr 4/5\n",
      "L2 norm of weight change: 4.608527660369873\n",
      "pre_edit_weights id: 139767232032992 mean: 1.063853324012598e-05\n",
      "post_edit_weights id: 139767230059600 mean: 1.6004531062208116e-05\n",
      "are the tensors equal: False\n"
     ]
    },
    {
     "name": "stderr",
     "output_type": "stream",
     "text": [
      "100%|█████████████████████████████████████████████████████████████████████| 274/274 [00:10<00:00, 25.01it/s]\n"
     ]
    },
    {
     "name": "stdout",
     "output_type": "stream",
     "text": [
      "\tItr 5/5\n",
      "L2 norm of weight change: 4.608292102813721\n",
      "pre_edit_weights id: 139766850578528 mean: 1.063853324012598e-05\n",
      "post_edit_weights id: 139767148312352 mean: 9.87094063020777e-06\n",
      "are the tensors equal: False\n"
     ]
    },
    {
     "name": "stderr",
     "output_type": "stream",
     "text": [
      "100%|█████████████████████████████████████████████████████████████████████| 274/274 [00:08<00:00, 34.22it/s]\n"
     ]
    },
    {
     "name": "stdout",
     "output_type": "stream",
     "text": [
      "Bin 18 [16367.16, 16886.78)\n",
      "\tItr 1/2\n",
      "L2 norm of weight change: 4.608170986175537\n",
      "pre_edit_weights id: 139766850578448 mean: 1.063853324012598e-05\n",
      "post_edit_weights id: 139767148313472 mean: 1.2540389434434474e-05\n",
      "are the tensors equal: False\n"
     ]
    },
    {
     "name": "stderr",
     "output_type": "stream",
     "text": [
      "100%|█████████████████████████████████████████████████████████████████████| 274/274 [00:08<00:00, 34.05it/s]\n"
     ]
    },
    {
     "name": "stdout",
     "output_type": "stream",
     "text": [
      "\tItr 2/2\n",
      "L2 norm of weight change: 4.610672950744629\n",
      "pre_edit_weights id: 139766850578528 mean: 1.063853324012598e-05\n",
      "post_edit_weights id: 139766850115440 mean: 8.836185770633165e-06\n",
      "are the tensors equal: False\n"
     ]
    },
    {
     "name": "stderr",
     "output_type": "stream",
     "text": [
      "100%|█████████████████████████████████████████████████████████████████████| 274/274 [00:17<00:00, 15.59it/s]\n"
     ]
    },
    {
     "name": "stdout",
     "output_type": "stream",
     "text": [
      "Bin 19 [16886.78, 17406.4)\n",
      "\tItr 1/4\n",
      "L2 norm of weight change: 4.610585689544678\n",
      "pre_edit_weights id: 139767231010432 mean: 1.063853324012598e-05\n",
      "post_edit_weights id: 139767231545808 mean: 9.79894775809953e-06\n",
      "are the tensors equal: False\n"
     ]
    },
    {
     "name": "stderr",
     "output_type": "stream",
     "text": [
      "100%|█████████████████████████████████████████████████████████████████████| 274/274 [00:19<00:00, 13.99it/s]\n"
     ]
    },
    {
     "name": "stdout",
     "output_type": "stream",
     "text": [
      "\tItr 2/4\n",
      "L2 norm of weight change: 4.609609127044678\n",
      "pre_edit_weights id: 139767148236448 mean: 1.063853324012598e-05\n",
      "post_edit_weights id: 139767144642176 mean: 9.68420772551326e-06\n",
      "are the tensors equal: False\n"
     ]
    },
    {
     "name": "stderr",
     "output_type": "stream",
     "text": [
      "100%|█████████████████████████████████████████████████████████████████████| 274/274 [00:13<00:00, 19.72it/s]\n"
     ]
    },
    {
     "name": "stdout",
     "output_type": "stream",
     "text": [
      "\tItr 3/4\n",
      "L2 norm of weight change: 4.605045318603516\n",
      "pre_edit_weights id: 139767232032992 mean: 1.063853324012598e-05\n",
      "post_edit_weights id: 139767233141952 mean: 1.1906334293598775e-05\n",
      "are the tensors equal: False\n"
     ]
    },
    {
     "name": "stderr",
     "output_type": "stream",
     "text": [
      "100%|█████████████████████████████████████████████████████████████████████| 274/274 [00:12<00:00, 22.44it/s]\n"
     ]
    },
    {
     "name": "stdout",
     "output_type": "stream",
     "text": [
      "\tItr 4/4\n",
      "L2 norm of weight change: 4.607400894165039\n",
      "pre_edit_weights id: 139766850578448 mean: 1.063853324012598e-05\n",
      "post_edit_weights id: 139767228052320 mean: 9.690197657619137e-06\n",
      "are the tensors equal: False\n"
     ]
    },
    {
     "name": "stderr",
     "output_type": "stream",
     "text": [
      "100%|█████████████████████████████████████████████████████████████████████| 274/274 [00:17<00:00, 15.23it/s]\n"
     ]
    },
    {
     "name": "stdout",
     "output_type": "stream",
     "text": [
      "Bin 20 [17406.4, 17926.02)\n",
      "\tItr 1/5\n",
      "L2 norm of weight change: 4.61229133605957\n",
      "pre_edit_weights id: 139767232032992 mean: 1.063853324012598e-05\n",
      "post_edit_weights id: 139766850569536 mean: 8.270541911770124e-06\n",
      "are the tensors equal: False\n"
     ]
    },
    {
     "name": "stderr",
     "output_type": "stream",
     "text": [
      "100%|█████████████████████████████████████████████████████████████████████| 274/274 [00:13<00:00, 20.53it/s]\n"
     ]
    },
    {
     "name": "stdout",
     "output_type": "stream",
     "text": [
      "\tItr 2/5\n",
      "L2 norm of weight change: 4.608373641967773\n",
      "pre_edit_weights id: 139766850578528 mean: 1.063853324012598e-05\n",
      "post_edit_weights id: 139767231131872 mean: 9.192724974127486e-06\n",
      "are the tensors equal: False\n"
     ]
    },
    {
     "name": "stderr",
     "output_type": "stream",
     "text": [
      "100%|█████████████████████████████████████████████████████████████████████| 274/274 [00:23<00:00, 11.58it/s]\n"
     ]
    },
    {
     "name": "stdout",
     "output_type": "stream",
     "text": [
      "\tItr 3/5\n",
      "L2 norm of weight change: 4.609129905700684\n",
      "pre_edit_weights id: 139767230931648 mean: 1.063853324012598e-05\n",
      "post_edit_weights id: 139767231462432 mean: 6.982496415730566e-06\n",
      "are the tensors equal: False\n"
     ]
    },
    {
     "name": "stderr",
     "output_type": "stream",
     "text": [
      "100%|█████████████████████████████████████████████████████████████████████| 274/274 [00:19<00:00, 14.07it/s]\n"
     ]
    },
    {
     "name": "stdout",
     "output_type": "stream",
     "text": [
      "\tItr 4/5\n",
      "L2 norm of weight change: 4.607389450073242\n",
      "pre_edit_weights id: 139767230931488 mean: 1.063853324012598e-05\n",
      "post_edit_weights id: 139767231135392 mean: 8.589175195083953e-06\n",
      "are the tensors equal: False\n"
     ]
    },
    {
     "name": "stderr",
     "output_type": "stream",
     "text": [
      "100%|█████████████████████████████████████████████████████████████████████| 274/274 [00:11<00:00, 23.56it/s]\n"
     ]
    },
    {
     "name": "stdout",
     "output_type": "stream",
     "text": [
      "\tItr 5/5\n",
      "L2 norm of weight change: 4.604921340942383\n",
      "pre_edit_weights id: 139765649543712 mean: 1.063853324012598e-05\n",
      "post_edit_weights id: 139766850570336 mean: 1.3774256331089418e-05\n",
      "are the tensors equal: False\n"
     ]
    },
    {
     "name": "stderr",
     "output_type": "stream",
     "text": [
      "100%|█████████████████████████████████████████████████████████████████████| 274/274 [00:34<00:00,  7.90it/s]\n"
     ]
    },
    {
     "name": "stdout",
     "output_type": "stream",
     "text": [
      "Bin 21 [17926.02, 18445.64)\n",
      "\tItr 1/4\n",
      "L2 norm of weight change: 4.608465671539307\n",
      "pre_edit_weights id: 139767230947056 mean: 1.063853324012598e-05\n",
      "post_edit_weights id: 139767231462112 mean: 1.2783123565895949e-05\n",
      "are the tensors equal: False\n"
     ]
    },
    {
     "name": "stderr",
     "output_type": "stream",
     "text": [
      "100%|█████████████████████████████████████████████████████████████████████| 274/274 [00:20<00:00, 13.24it/s]\n"
     ]
    },
    {
     "name": "stdout",
     "output_type": "stream",
     "text": [
      "\tItr 2/4\n",
      "L2 norm of weight change: 4.610018730163574\n",
      "pre_edit_weights id: 139765649543712 mean: 1.063853324012598e-05\n",
      "post_edit_weights id: 139767230535536 mean: 1.2827856153307948e-05\n",
      "are the tensors equal: False\n"
     ]
    },
    {
     "name": "stderr",
     "output_type": "stream",
     "text": [
      "100%|█████████████████████████████████████████████████████████████████████| 274/274 [00:09<00:00, 28.06it/s]\n"
     ]
    },
    {
     "name": "stdout",
     "output_type": "stream",
     "text": [
      "\tItr 3/4\n",
      "L2 norm of weight change: 4.608711242675781\n",
      "pre_edit_weights id: 139767230536016 mean: 1.063853324012598e-05\n",
      "post_edit_weights id: 139767144072672 mean: 1.1961897143919487e-05\n",
      "are the tensors equal: False\n"
     ]
    },
    {
     "name": "stderr",
     "output_type": "stream",
     "text": [
      "100%|█████████████████████████████████████████████████████████████████████| 274/274 [00:08<00:00, 32.75it/s]\n"
     ]
    },
    {
     "name": "stdout",
     "output_type": "stream",
     "text": [
      "\tItr 4/4\n",
      "L2 norm of weight change: 4.607913970947266\n",
      "pre_edit_weights id: 139765649543712 mean: 1.063853324012598e-05\n",
      "post_edit_weights id: 139767231460432 mean: 1.1314547009533271e-05\n",
      "are the tensors equal: False\n"
     ]
    },
    {
     "name": "stderr",
     "output_type": "stream",
     "text": [
      "100%|█████████████████████████████████████████████████████████████████████| 274/274 [00:07<00:00, 37.86it/s]\n"
     ]
    },
    {
     "name": "stdout",
     "output_type": "stream",
     "text": [
      "Bin 23 [18965.260000000002, 19484.88)\n",
      "\tItr 1/1\n",
      "L2 norm of weight change: 4.613839149475098\n",
      "pre_edit_weights id: 139767233024224 mean: 1.063853324012598e-05\n",
      "post_edit_weights id: 139767144540976 mean: 1.1753040780604351e-05\n",
      "are the tensors equal: False\n"
     ]
    },
    {
     "name": "stderr",
     "output_type": "stream",
     "text": [
      "100%|█████████████████████████████████████████████████████████████████████| 274/274 [00:07<00:00, 37.24it/s]\n"
     ]
    },
    {
     "name": "stdout",
     "output_type": "stream",
     "text": [
      "Bin 24 [19484.88, 20004.5)\n",
      "\tItr 1/2\n",
      "L2 norm of weight change: 4.6087422370910645\n",
      "pre_edit_weights id: 139767231026656 mean: 1.063853324012598e-05\n",
      "post_edit_weights id: 139766850417984 mean: 1.1517668099259026e-05\n",
      "are the tensors equal: False\n"
     ]
    },
    {
     "name": "stderr",
     "output_type": "stream",
     "text": [
      "100%|█████████████████████████████████████████████████████████████████████| 274/274 [00:07<00:00, 34.93it/s]\n"
     ]
    },
    {
     "name": "stdout",
     "output_type": "stream",
     "text": [
      "\tItr 2/2\n",
      "L2 norm of weight change: 4.607829570770264\n",
      "pre_edit_weights id: 139767232032992 mean: 1.063853324012598e-05\n",
      "post_edit_weights id: 139767231545568 mean: 1.1351284229021985e-05\n",
      "are the tensors equal: False\n"
     ]
    },
    {
     "name": "stderr",
     "output_type": "stream",
     "text": [
      "100%|█████████████████████████████████████████████████████████████████████| 274/274 [00:08<00:00, 31.08it/s]\n"
     ]
    },
    {
     "name": "stdout",
     "output_type": "stream",
     "text": [
      "Bin 27 [21043.739999999998, 21563.36)\n",
      "\tItr 1/1\n",
      "L2 norm of weight change: 4.605484962463379\n",
      "pre_edit_weights id: 139767233024224 mean: 1.063853324012598e-05\n",
      "post_edit_weights id: 139767231459392 mean: 1.2685315596172586e-05\n",
      "are the tensors equal: False\n"
     ]
    },
    {
     "name": "stderr",
     "output_type": "stream",
     "text": [
      "100%|█████████████████████████████████████████████████████████████████████| 274/274 [00:08<00:00, 34.22it/s]\n",
      "/n/fs/ac-editing/model-editing/src/model/metric.py:205: RuntimeWarning: invalid value encountered in divide\n",
      "  return np.nan_to_num(2 * precisions * recalls / (precisions + recalls))\n"
     ]
    },
    {
     "name": "stdout",
     "output_type": "stream",
     "text": [
      "Bin 28 [21563.36, 22082.98)\n",
      "\tItr 1/3\n",
      "L2 norm of weight change: 4.608921051025391\n",
      "pre_edit_weights id: 139767231006336 mean: 1.063853324012598e-05\n",
      "post_edit_weights id: 139767230893088 mean: 1.0850289072550368e-05\n",
      "are the tensors equal: False\n"
     ]
    },
    {
     "name": "stderr",
     "output_type": "stream",
     "text": [
      "100%|█████████████████████████████████████████████████████████████████████| 274/274 [00:09<00:00, 29.83it/s]\n",
      "/n/fs/ac-editing/model-editing/src/model/metric.py:205: RuntimeWarning: invalid value encountered in divide\n",
      "  return np.nan_to_num(2 * precisions * recalls / (precisions + recalls))\n"
     ]
    },
    {
     "name": "stdout",
     "output_type": "stream",
     "text": [
      "\tItr 2/3\n",
      "L2 norm of weight change: 4.6103973388671875\n",
      "pre_edit_weights id: 139767233142032 mean: 1.063853324012598e-05\n",
      "post_edit_weights id: 139767230892368 mean: 9.945651072484907e-06\n",
      "are the tensors equal: False\n"
     ]
    },
    {
     "name": "stderr",
     "output_type": "stream",
     "text": [
      "100%|█████████████████████████████████████████████████████████████████████| 274/274 [00:07<00:00, 36.72it/s]\n"
     ]
    },
    {
     "name": "stdout",
     "output_type": "stream",
     "text": [
      "\tItr 3/3\n",
      "L2 norm of weight change: 4.608180522918701\n",
      "pre_edit_weights id: 139767230537136 mean: 1.063853324012598e-05\n",
      "post_edit_weights id: 139767144048816 mean: 9.599961231288034e-06\n",
      "are the tensors equal: False\n"
     ]
    },
    {
     "name": "stderr",
     "output_type": "stream",
     "text": [
      "100%|█████████████████████████████████████████████████████████████████████| 274/274 [00:06<00:00, 40.45it/s]\n",
      "/n/fs/ac-editing/model-editing/src/model/metric.py:168: RuntimeWarning: invalid value encountered in divide\n",
      "  return np.nan_to_num(TPs / (TPs + FPs))\n",
      "/n/fs/ac-editing/model-editing/src/model/metric.py:205: RuntimeWarning: invalid value encountered in divide\n",
      "  return np.nan_to_num(2 * precisions * recalls / (precisions + recalls))\n"
     ]
    },
    {
     "name": "stdout",
     "output_type": "stream",
     "text": [
      "Bin 29 [22082.98, 22602.6)\n",
      "\tItr 1/4\n",
      "L2 norm of weight change: 4.609105587005615\n",
      "pre_edit_weights id: 139767232032992 mean: 1.063853324012598e-05\n",
      "post_edit_weights id: 139767148455312 mean: 6.834247869846877e-06\n",
      "are the tensors equal: False\n"
     ]
    },
    {
     "name": "stderr",
     "output_type": "stream",
     "text": [
      "100%|█████████████████████████████████████████████████████████████████████| 274/274 [00:07<00:00, 38.15it/s]\n"
     ]
    },
    {
     "name": "stdout",
     "output_type": "stream",
     "text": [
      "\tItr 2/4\n",
      "L2 norm of weight change: 4.610517978668213\n",
      "pre_edit_weights id: 139767230535536 mean: 1.063853324012598e-05\n",
      "post_edit_weights id: 139767148443264 mean: 7.721853762632236e-06\n",
      "are the tensors equal: False\n"
     ]
    },
    {
     "name": "stderr",
     "output_type": "stream",
     "text": [
      "100%|█████████████████████████████████████████████████████████████████████| 274/274 [00:06<00:00, 41.21it/s]\n",
      "/n/fs/ac-editing/model-editing/src/model/metric.py:168: RuntimeWarning: invalid value encountered in divide\n",
      "  return np.nan_to_num(TPs / (TPs + FPs))\n",
      "/n/fs/ac-editing/model-editing/src/model/metric.py:205: RuntimeWarning: invalid value encountered in divide\n",
      "  return np.nan_to_num(2 * precisions * recalls / (precisions + recalls))\n"
     ]
    },
    {
     "name": "stdout",
     "output_type": "stream",
     "text": [
      "\tItr 3/4\n",
      "L2 norm of weight change: 4.605769634246826\n",
      "pre_edit_weights id: 139767148236448 mean: 1.063853324012598e-05\n",
      "post_edit_weights id: 139767228638848 mean: 1.0287510121997911e-05\n",
      "are the tensors equal: False\n"
     ]
    },
    {
     "name": "stderr",
     "output_type": "stream",
     "text": [
      "100%|█████████████████████████████████████████████████████████████████████| 274/274 [00:06<00:00, 41.29it/s]\n",
      "/n/fs/ac-editing/model-editing/src/model/metric.py:168: RuntimeWarning: invalid value encountered in divide\n",
      "  return np.nan_to_num(TPs / (TPs + FPs))\n",
      "/n/fs/ac-editing/model-editing/src/model/metric.py:205: RuntimeWarning: invalid value encountered in divide\n",
      "  return np.nan_to_num(2 * precisions * recalls / (precisions + recalls))\n"
     ]
    },
    {
     "name": "stdout",
     "output_type": "stream",
     "text": [
      "\tItr 4/4\n",
      "L2 norm of weight change: 4.603570461273193\n",
      "pre_edit_weights id: 139767231220928 mean: 1.063853324012598e-05\n",
      "post_edit_weights id: 139767148243840 mean: 1.3121905794832855e-05\n",
      "are the tensors equal: False\n"
     ]
    },
    {
     "name": "stderr",
     "output_type": "stream",
     "text": [
      "100%|█████████████████████████████████████████████████████████████████████| 274/274 [00:07<00:00, 36.19it/s]\n",
      "/n/fs/ac-editing/model-editing/src/model/metric.py:168: RuntimeWarning: invalid value encountered in divide\n",
      "  return np.nan_to_num(TPs / (TPs + FPs))\n",
      "/n/fs/ac-editing/model-editing/src/model/metric.py:205: RuntimeWarning: invalid value encountered in divide\n",
      "  return np.nan_to_num(2 * precisions * recalls / (precisions + recalls))\n"
     ]
    },
    {
     "name": "stdout",
     "output_type": "stream",
     "text": [
      "Bin 30 [22602.6, 23122.22)\n",
      "\tItr 1/1\n",
      "L2 norm of weight change: 4.6070637702941895\n",
      "pre_edit_weights id: 139767230593680 mean: 1.063853324012598e-05\n",
      "post_edit_weights id: 139767230815744 mean: 9.22653816815e-06\n",
      "are the tensors equal: False\n"
     ]
    },
    {
     "name": "stderr",
     "output_type": "stream",
     "text": [
      "100%|█████████████████████████████████████████████████████████████████████| 274/274 [00:08<00:00, 33.10it/s]\n",
      "/n/fs/ac-editing/model-editing/src/model/metric.py:205: RuntimeWarning: invalid value encountered in divide\n",
      "  return np.nan_to_num(2 * precisions * recalls / (precisions + recalls))\n"
     ]
    },
    {
     "name": "stdout",
     "output_type": "stream",
     "text": [
      "Bin 31 [23122.22, 23641.84)\n",
      "\tItr 1/4\n",
      "L2 norm of weight change: 4.606564521789551\n",
      "pre_edit_weights id: 139767231220928 mean: 1.063853324012598e-05\n",
      "post_edit_weights id: 139767229873344 mean: 1.4020325579622295e-05\n",
      "are the tensors equal: False\n"
     ]
    },
    {
     "name": "stderr",
     "output_type": "stream",
     "text": [
      "100%|█████████████████████████████████████████████████████████████████████| 274/274 [00:10<00:00, 25.63it/s]\n",
      "/n/fs/ac-editing/model-editing/src/model/metric.py:205: RuntimeWarning: invalid value encountered in divide\n",
      "  return np.nan_to_num(2 * precisions * recalls / (precisions + recalls))\n"
     ]
    },
    {
     "name": "stdout",
     "output_type": "stream",
     "text": [
      "\tItr 2/4\n",
      "L2 norm of weight change: 4.611313819885254\n",
      "pre_edit_weights id: 139767233024224 mean: 1.063853324012598e-05\n",
      "post_edit_weights id: 139767228638848 mean: 1.167588106909534e-05\n",
      "are the tensors equal: False\n"
     ]
    },
    {
     "name": "stderr",
     "output_type": "stream",
     "text": [
      "100%|█████████████████████████████████████████████████████████████████████| 274/274 [00:08<00:00, 31.26it/s]\n",
      "/n/fs/ac-editing/model-editing/src/model/metric.py:168: RuntimeWarning: invalid value encountered in divide\n",
      "  return np.nan_to_num(TPs / (TPs + FPs))\n",
      "/n/fs/ac-editing/model-editing/src/model/metric.py:205: RuntimeWarning: invalid value encountered in divide\n",
      "  return np.nan_to_num(2 * precisions * recalls / (precisions + recalls))\n"
     ]
    },
    {
     "name": "stdout",
     "output_type": "stream",
     "text": [
      "\tItr 3/4\n",
      "L2 norm of weight change: 4.607356071472168\n",
      "pre_edit_weights id: 139767148236448 mean: 1.063853324012598e-05\n",
      "post_edit_weights id: 139767231554880 mean: 1.483821961301146e-05\n",
      "are the tensors equal: False\n"
     ]
    },
    {
     "name": "stderr",
     "output_type": "stream",
     "text": [
      "100%|█████████████████████████████████████████████████████████████████████| 274/274 [00:08<00:00, 32.78it/s]\n",
      "/n/fs/ac-editing/model-editing/src/model/metric.py:168: RuntimeWarning: invalid value encountered in divide\n",
      "  return np.nan_to_num(TPs / (TPs + FPs))\n",
      "/n/fs/ac-editing/model-editing/src/model/metric.py:205: RuntimeWarning: invalid value encountered in divide\n",
      "  return np.nan_to_num(2 * precisions * recalls / (precisions + recalls))\n"
     ]
    },
    {
     "name": "stdout",
     "output_type": "stream",
     "text": [
      "\tItr 4/4\n",
      "L2 norm of weight change: 4.6090216636657715\n",
      "pre_edit_weights id: 139767230593680 mean: 1.063853324012598e-05\n",
      "post_edit_weights id: 139767230813744 mean: 1.0701973224058747e-05\n",
      "are the tensors equal: False\n"
     ]
    },
    {
     "name": "stderr",
     "output_type": "stream",
     "text": [
      "100%|█████████████████████████████████████████████████████████████████████| 274/274 [00:10<00:00, 26.65it/s]\n",
      "/n/fs/ac-editing/model-editing/src/model/metric.py:168: RuntimeWarning: invalid value encountered in divide\n",
      "  return np.nan_to_num(TPs / (TPs + FPs))\n",
      "/n/fs/ac-editing/model-editing/src/model/metric.py:205: RuntimeWarning: invalid value encountered in divide\n",
      "  return np.nan_to_num(2 * precisions * recalls / (precisions + recalls))\n"
     ]
    },
    {
     "name": "stdout",
     "output_type": "stream",
     "text": [
      "Bin 33 [24161.46, 24681.08)\n",
      "\tItr 1/2\n",
      "L2 norm of weight change: 4.6092963218688965\n",
      "pre_edit_weights id: 139767231220928 mean: 1.063853324012598e-05\n",
      "post_edit_weights id: 139767231546528 mean: 1.0491584362171125e-05\n",
      "are the tensors equal: False\n"
     ]
    },
    {
     "name": "stderr",
     "output_type": "stream",
     "text": [
      "100%|█████████████████████████████████████████████████████████████████████| 274/274 [00:08<00:00, 31.24it/s]\n",
      "/n/fs/ac-editing/model-editing/src/model/metric.py:168: RuntimeWarning: invalid value encountered in divide\n",
      "  return np.nan_to_num(TPs / (TPs + FPs))\n",
      "/n/fs/ac-editing/model-editing/src/model/metric.py:205: RuntimeWarning: invalid value encountered in divide\n",
      "  return np.nan_to_num(2 * precisions * recalls / (precisions + recalls))\n"
     ]
    },
    {
     "name": "stdout",
     "output_type": "stream",
     "text": [
      "\tItr 2/2\n",
      "L2 norm of weight change: 4.610730171203613\n",
      "pre_edit_weights id: 139765649543712 mean: 1.063853324012598e-05\n",
      "post_edit_weights id: 139767230812704 mean: 1.0455935807840433e-05\n",
      "are the tensors equal: False\n"
     ]
    },
    {
     "name": "stderr",
     "output_type": "stream",
     "text": [
      "100%|█████████████████████████████████████████████████████████████████████| 274/274 [00:10<00:00, 24.97it/s]\n",
      "/n/fs/ac-editing/model-editing/src/model/metric.py:168: RuntimeWarning: invalid value encountered in divide\n",
      "  return np.nan_to_num(TPs / (TPs + FPs))\n",
      "/n/fs/ac-editing/model-editing/src/model/metric.py:205: RuntimeWarning: invalid value encountered in divide\n",
      "  return np.nan_to_num(2 * precisions * recalls / (precisions + recalls))\n"
     ]
    },
    {
     "name": "stdout",
     "output_type": "stream",
     "text": [
      "Bin 34 [24681.08, 25200.7)\n",
      "\tItr 1/3\n",
      "L2 norm of weight change: 4.606808662414551\n",
      "pre_edit_weights id: 139767148236448 mean: 1.063853324012598e-05\n",
      "post_edit_weights id: 139767230814704 mean: 1.0608952834445518e-05\n",
      "are the tensors equal: False\n"
     ]
    },
    {
     "name": "stderr",
     "output_type": "stream",
     "text": [
      "100%|█████████████████████████████████████████████████████████████████████| 274/274 [00:07<00:00, 34.99it/s]\n",
      "/n/fs/ac-editing/model-editing/src/model/metric.py:168: RuntimeWarning: invalid value encountered in divide\n",
      "  return np.nan_to_num(TPs / (TPs + FPs))\n",
      "/n/fs/ac-editing/model-editing/src/model/metric.py:205: RuntimeWarning: invalid value encountered in divide\n",
      "  return np.nan_to_num(2 * precisions * recalls / (precisions + recalls))\n"
     ]
    },
    {
     "name": "stdout",
     "output_type": "stream",
     "text": [
      "\tItr 2/3\n",
      "L2 norm of weight change: 4.604333877563477\n",
      "pre_edit_weights id: 139767230593680 mean: 1.063853324012598e-05\n",
      "post_edit_weights id: 139767148687904 mean: 1.2744230843964033e-05\n",
      "are the tensors equal: False\n"
     ]
    },
    {
     "name": "stderr",
     "output_type": "stream",
     "text": [
      "100%|█████████████████████████████████████████████████████████████████████| 274/274 [00:07<00:00, 38.22it/s]\n",
      "/n/fs/ac-editing/model-editing/src/model/metric.py:168: RuntimeWarning: invalid value encountered in divide\n",
      "  return np.nan_to_num(TPs / (TPs + FPs))\n",
      "/n/fs/ac-editing/model-editing/src/model/metric.py:205: RuntimeWarning: invalid value encountered in divide\n",
      "  return np.nan_to_num(2 * precisions * recalls / (precisions + recalls))\n"
     ]
    },
    {
     "name": "stdout",
     "output_type": "stream",
     "text": [
      "\tItr 3/3\n",
      "L2 norm of weight change: 4.608734130859375\n",
      "pre_edit_weights id: 139767232032992 mean: 1.063853324012598e-05\n",
      "post_edit_weights id: 139767230814544 mean: 1.277400315302657e-05\n",
      "are the tensors equal: False\n"
     ]
    },
    {
     "name": "stderr",
     "output_type": "stream",
     "text": [
      "100%|█████████████████████████████████████████████████████████████████████| 274/274 [00:07<00:00, 34.51it/s]\n",
      "/n/fs/ac-editing/model-editing/src/model/metric.py:168: RuntimeWarning: invalid value encountered in divide\n",
      "  return np.nan_to_num(TPs / (TPs + FPs))\n",
      "/n/fs/ac-editing/model-editing/src/model/metric.py:205: RuntimeWarning: invalid value encountered in divide\n",
      "  return np.nan_to_num(2 * precisions * recalls / (precisions + recalls))\n"
     ]
    },
    {
     "name": "stdout",
     "output_type": "stream",
     "text": [
      "Bin 35 [25200.7, 25720.32)\n",
      "\tItr 1/1\n",
      "L2 norm of weight change: 4.612175464630127\n",
      "pre_edit_weights id: 139767232642880 mean: 1.063853324012598e-05\n",
      "post_edit_weights id: 139766850417264 mean: 1.4548285435012076e-05\n",
      "are the tensors equal: False\n"
     ]
    },
    {
     "name": "stderr",
     "output_type": "stream",
     "text": [
      "100%|█████████████████████████████████████████████████████████████████████| 274/274 [00:12<00:00, 21.49it/s]\n",
      "/n/fs/ac-editing/model-editing/src/model/metric.py:168: RuntimeWarning: invalid value encountered in divide\n",
      "  return np.nan_to_num(TPs / (TPs + FPs))\n",
      "/n/fs/ac-editing/model-editing/src/model/metric.py:205: RuntimeWarning: invalid value encountered in divide\n",
      "  return np.nan_to_num(2 * precisions * recalls / (precisions + recalls))\n"
     ]
    },
    {
     "name": "stdout",
     "output_type": "stream",
     "text": [
      "Bin 37 [26239.94, 26759.56)\n",
      "\tItr 1/2\n",
      "L2 norm of weight change: 4.609652519226074\n",
      "pre_edit_weights id: 139767230931488 mean: 1.063853324012598e-05\n",
      "post_edit_weights id: 139767144540896 mean: 9.754604434419889e-06\n",
      "are the tensors equal: False\n"
     ]
    },
    {
     "name": "stderr",
     "output_type": "stream",
     "text": [
      "100%|█████████████████████████████████████████████████████████████████████| 274/274 [00:25<00:00, 10.58it/s]\n",
      "/n/fs/ac-editing/model-editing/src/model/metric.py:168: RuntimeWarning: invalid value encountered in divide\n",
      "  return np.nan_to_num(TPs / (TPs + FPs))\n",
      "/n/fs/ac-editing/model-editing/src/model/metric.py:205: RuntimeWarning: invalid value encountered in divide\n",
      "  return np.nan_to_num(2 * precisions * recalls / (precisions + recalls))\n"
     ]
    },
    {
     "name": "stdout",
     "output_type": "stream",
     "text": [
      "\tItr 2/2\n",
      "L2 norm of weight change: 4.6091766357421875\n",
      "pre_edit_weights id: 139767231006336 mean: 1.063853324012598e-05\n",
      "post_edit_weights id: 139767230961440 mean: 1.3685061276191846e-05\n",
      "are the tensors equal: False\n"
     ]
    },
    {
     "name": "stderr",
     "output_type": "stream",
     "text": [
      "100%|█████████████████████████████████████████████████████████████████████| 274/274 [00:27<00:00, 10.03it/s]\n",
      "/n/fs/ac-editing/model-editing/src/model/metric.py:168: RuntimeWarning: invalid value encountered in divide\n",
      "  return np.nan_to_num(TPs / (TPs + FPs))\n",
      "/n/fs/ac-editing/model-editing/src/model/metric.py:205: RuntimeWarning: invalid value encountered in divide\n",
      "  return np.nan_to_num(2 * precisions * recalls / (precisions + recalls))\n"
     ]
    },
    {
     "name": "stdout",
     "output_type": "stream",
     "text": [
      "Bin 40 [27798.8, 28318.420000000002)\n",
      "\tItr 1/1\n",
      "L2 norm of weight change: 4.606905460357666\n",
      "pre_edit_weights id: 139767230058960 mean: 1.063853324012598e-05\n",
      "post_edit_weights id: 139767231346784 mean: 8.728046850592364e-06\n",
      "are the tensors equal: False\n"
     ]
    },
    {
     "name": "stderr",
     "output_type": "stream",
     "text": [
      "100%|█████████████████████████████████████████████████████████████████████| 274/274 [00:11<00:00, 23.99it/s]\n",
      "/n/fs/ac-editing/model-editing/src/model/metric.py:168: RuntimeWarning: invalid value encountered in divide\n",
      "  return np.nan_to_num(TPs / (TPs + FPs))\n",
      "/n/fs/ac-editing/model-editing/src/model/metric.py:205: RuntimeWarning: invalid value encountered in divide\n",
      "  return np.nan_to_num(2 * precisions * recalls / (precisions + recalls))\n"
     ]
    },
    {
     "name": "stdout",
     "output_type": "stream",
     "text": [
      "Bin 41 [28318.420000000002, 28838.04)\n",
      "\tItr 1/1\n",
      "L2 norm of weight change: 4.6071391105651855\n",
      "pre_edit_weights id: 139767232642880 mean: 1.063853324012598e-05\n",
      "post_edit_weights id: 139766851120320 mean: 1.1891410395037383e-05\n",
      "are the tensors equal: False\n"
     ]
    },
    {
     "name": "stderr",
     "output_type": "stream",
     "text": [
      "100%|█████████████████████████████████████████████████████████████████████| 274/274 [00:11<00:00, 22.99it/s]\n",
      "/n/fs/ac-editing/model-editing/src/model/metric.py:168: RuntimeWarning: invalid value encountered in divide\n",
      "  return np.nan_to_num(TPs / (TPs + FPs))\n",
      "/n/fs/ac-editing/model-editing/src/model/metric.py:205: RuntimeWarning: invalid value encountered in divide\n",
      "  return np.nan_to_num(2 * precisions * recalls / (precisions + recalls))\n"
     ]
    },
    {
     "name": "stdout",
     "output_type": "stream",
     "text": [
      "Bin 42 [28838.04, 29357.66)\n",
      "\tItr 1/1\n",
      "L2 norm of weight change: 4.604892253875732\n",
      "pre_edit_weights id: 139767144048336 mean: 1.063853324012598e-05\n",
      "post_edit_weights id: 139767144539056 mean: 1.2995417819183785e-05\n",
      "are the tensors equal: False\n"
     ]
    },
    {
     "name": "stderr",
     "output_type": "stream",
     "text": [
      "100%|█████████████████████████████████████████████████████████████████████| 274/274 [00:09<00:00, 30.25it/s]\n",
      "/n/fs/ac-editing/model-editing/src/model/metric.py:168: RuntimeWarning: invalid value encountered in divide\n",
      "  return np.nan_to_num(TPs / (TPs + FPs))\n",
      "/n/fs/ac-editing/model-editing/src/model/metric.py:205: RuntimeWarning: invalid value encountered in divide\n",
      "  return np.nan_to_num(2 * precisions * recalls / (precisions + recalls))\n"
     ]
    },
    {
     "name": "stdout",
     "output_type": "stream",
     "text": [
      "Bin 49 [32475.38, 32995.0)\n",
      "\tItr 1/1\n",
      "L2 norm of weight change: 4.606288909912109\n",
      "pre_edit_weights id: 139767232476560 mean: 1.063853324012598e-05\n",
      "post_edit_weights id: 139767231556560 mean: 1.4464273590419907e-05\n",
      "are the tensors equal: False\n"
     ]
    },
    {
     "name": "stderr",
     "output_type": "stream",
     "text": [
      "100%|█████████████████████████████████████████████████████████████████████| 274/274 [00:08<00:00, 34.18it/s]"
     ]
    },
    {
     "name": "stdout",
     "output_type": "stream",
     "text": [
      "['saved/edit/experiments/bump_edits/CINIC10_ImageNet-VGG_16/0208_112555/airplane_100/bump_noise/results/bin_7014.0_7533.62_itr_0', 'saved/edit/experiments/bump_edits/CINIC10_ImageNet-VGG_16/0208_112555/airplane_100/bump_noise/results/bin_7014.0_7533.62_itr_1', 'saved/edit/experiments/bump_edits/CINIC10_ImageNet-VGG_16/0208_112555/airplane_100/bump_noise/results/bin_7014.0_7533.62_itr_2', 'saved/edit/experiments/bump_edits/CINIC10_ImageNet-VGG_16/0208_112555/airplane_100/bump_noise/results/bin_7533.62_8053.24_itr_0', 'saved/edit/experiments/bump_edits/CINIC10_ImageNet-VGG_16/0208_112555/airplane_100/bump_noise/results/bin_7533.62_8053.24_itr_1', 'saved/edit/experiments/bump_edits/CINIC10_ImageNet-VGG_16/0208_112555/airplane_100/bump_noise/results/bin_7533.62_8053.24_itr_2', 'saved/edit/experiments/bump_edits/CINIC10_ImageNet-VGG_16/0208_112555/airplane_100/bump_noise/results/bin_7533.62_8053.24_itr_3', 'saved/edit/experiments/bump_edits/CINIC10_ImageNet-VGG_16/0208_112555/airplane_100/bump_noise/results/bin_8053.24_8572.86_itr_0', 'saved/edit/experiments/bump_edits/CINIC10_ImageNet-VGG_16/0208_112555/airplane_100/bump_noise/results/bin_8053.24_8572.86_itr_1', 'saved/edit/experiments/bump_edits/CINIC10_ImageNet-VGG_16/0208_112555/airplane_100/bump_noise/results/bin_8053.24_8572.86_itr_2', 'saved/edit/experiments/bump_edits/CINIC10_ImageNet-VGG_16/0208_112555/airplane_100/bump_noise/results/bin_8053.24_8572.86_itr_3', 'saved/edit/experiments/bump_edits/CINIC10_ImageNet-VGG_16/0208_112555/airplane_100/bump_noise/results/bin_8572.86_9092.48_itr_0', 'saved/edit/experiments/bump_edits/CINIC10_ImageNet-VGG_16/0208_112555/airplane_100/bump_noise/results/bin_8572.86_9092.48_itr_1', 'saved/edit/experiments/bump_edits/CINIC10_ImageNet-VGG_16/0208_112555/airplane_100/bump_noise/results/bin_8572.86_9092.48_itr_2', 'saved/edit/experiments/bump_edits/CINIC10_ImageNet-VGG_16/0208_112555/airplane_100/bump_noise/results/bin_8572.86_9092.48_itr_3', 'saved/edit/experiments/bump_edits/CINIC10_ImageNet-VGG_16/0208_112555/airplane_100/bump_noise/results/bin_8572.86_9092.48_itr_4', 'saved/edit/experiments/bump_edits/CINIC10_ImageNet-VGG_16/0208_112555/airplane_100/bump_noise/results/bin_8572.86_9092.48_itr_5', 'saved/edit/experiments/bump_edits/CINIC10_ImageNet-VGG_16/0208_112555/airplane_100/bump_noise/results/bin_9092.48_9612.1_itr_0', 'saved/edit/experiments/bump_edits/CINIC10_ImageNet-VGG_16/0208_112555/airplane_100/bump_noise/results/bin_9092.48_9612.1_itr_1', 'saved/edit/experiments/bump_edits/CINIC10_ImageNet-VGG_16/0208_112555/airplane_100/bump_noise/results/bin_9092.48_9612.1_itr_2', 'saved/edit/experiments/bump_edits/CINIC10_ImageNet-VGG_16/0208_112555/airplane_100/bump_noise/results/bin_9092.48_9612.1_itr_3', 'saved/edit/experiments/bump_edits/CINIC10_ImageNet-VGG_16/0208_112555/airplane_100/bump_noise/results/bin_9092.48_9612.1_itr_4', 'saved/edit/experiments/bump_edits/CINIC10_ImageNet-VGG_16/0208_112555/airplane_100/bump_noise/results/bin_9092.48_9612.1_itr_5', 'saved/edit/experiments/bump_edits/CINIC10_ImageNet-VGG_16/0208_112555/airplane_100/bump_noise/results/bin_9092.48_9612.1_itr_6', 'saved/edit/experiments/bump_edits/CINIC10_ImageNet-VGG_16/0208_112555/airplane_100/bump_noise/results/bin_9612.1_10131.720000000001_itr_0', 'saved/edit/experiments/bump_edits/CINIC10_ImageNet-VGG_16/0208_112555/airplane_100/bump_noise/results/bin_9612.1_10131.720000000001_itr_1', 'saved/edit/experiments/bump_edits/CINIC10_ImageNet-VGG_16/0208_112555/airplane_100/bump_noise/results/bin_10131.720000000001_10651.34_itr_0', 'saved/edit/experiments/bump_edits/CINIC10_ImageNet-VGG_16/0208_112555/airplane_100/bump_noise/results/bin_10131.720000000001_10651.34_itr_1', 'saved/edit/experiments/bump_edits/CINIC10_ImageNet-VGG_16/0208_112555/airplane_100/bump_noise/results/bin_10131.720000000001_10651.34_itr_2', 'saved/edit/experiments/bump_edits/CINIC10_ImageNet-VGG_16/0208_112555/airplane_100/bump_noise/results/bin_10131.720000000001_10651.34_itr_3', 'saved/edit/experiments/bump_edits/CINIC10_ImageNet-VGG_16/0208_112555/airplane_100/bump_noise/results/bin_10131.720000000001_10651.34_itr_4', 'saved/edit/experiments/bump_edits/CINIC10_ImageNet-VGG_16/0208_112555/airplane_100/bump_noise/results/bin_10131.720000000001_10651.34_itr_5', 'saved/edit/experiments/bump_edits/CINIC10_ImageNet-VGG_16/0208_112555/airplane_100/bump_noise/results/bin_10131.720000000001_10651.34_itr_6', 'saved/edit/experiments/bump_edits/CINIC10_ImageNet-VGG_16/0208_112555/airplane_100/bump_noise/results/bin_10651.34_11170.96_itr_0', 'saved/edit/experiments/bump_edits/CINIC10_ImageNet-VGG_16/0208_112555/airplane_100/bump_noise/results/bin_10651.34_11170.96_itr_1', 'saved/edit/experiments/bump_edits/CINIC10_ImageNet-VGG_16/0208_112555/airplane_100/bump_noise/results/bin_10651.34_11170.96_itr_2', 'saved/edit/experiments/bump_edits/CINIC10_ImageNet-VGG_16/0208_112555/airplane_100/bump_noise/results/bin_10651.34_11170.96_itr_3', 'saved/edit/experiments/bump_edits/CINIC10_ImageNet-VGG_16/0208_112555/airplane_100/bump_noise/results/bin_10651.34_11170.96_itr_4', 'saved/edit/experiments/bump_edits/CINIC10_ImageNet-VGG_16/0208_112555/airplane_100/bump_noise/results/bin_10651.34_11170.96_itr_5', 'saved/edit/experiments/bump_edits/CINIC10_ImageNet-VGG_16/0208_112555/airplane_100/bump_noise/results/bin_11170.96_11690.58_itr_0', 'saved/edit/experiments/bump_edits/CINIC10_ImageNet-VGG_16/0208_112555/airplane_100/bump_noise/results/bin_11170.96_11690.58_itr_1', 'saved/edit/experiments/bump_edits/CINIC10_ImageNet-VGG_16/0208_112555/airplane_100/bump_noise/results/bin_11690.58_12210.2_itr_0', 'saved/edit/experiments/bump_edits/CINIC10_ImageNet-VGG_16/0208_112555/airplane_100/bump_noise/results/bin_11690.58_12210.2_itr_1', 'saved/edit/experiments/bump_edits/CINIC10_ImageNet-VGG_16/0208_112555/airplane_100/bump_noise/results/bin_11690.58_12210.2_itr_2', 'saved/edit/experiments/bump_edits/CINIC10_ImageNet-VGG_16/0208_112555/airplane_100/bump_noise/results/bin_11690.58_12210.2_itr_3', 'saved/edit/experiments/bump_edits/CINIC10_ImageNet-VGG_16/0208_112555/airplane_100/bump_noise/results/bin_11690.58_12210.2_itr_4', 'saved/edit/experiments/bump_edits/CINIC10_ImageNet-VGG_16/0208_112555/airplane_100/bump_noise/results/bin_11690.58_12210.2_itr_5', 'saved/edit/experiments/bump_edits/CINIC10_ImageNet-VGG_16/0208_112555/airplane_100/bump_noise/results/bin_12210.2_12729.82_itr_0', 'saved/edit/experiments/bump_edits/CINIC10_ImageNet-VGG_16/0208_112555/airplane_100/bump_noise/results/bin_12210.2_12729.82_itr_1', 'saved/edit/experiments/bump_edits/CINIC10_ImageNet-VGG_16/0208_112555/airplane_100/bump_noise/results/bin_12210.2_12729.82_itr_2', 'saved/edit/experiments/bump_edits/CINIC10_ImageNet-VGG_16/0208_112555/airplane_100/bump_noise/results/bin_12210.2_12729.82_itr_3', 'saved/edit/experiments/bump_edits/CINIC10_ImageNet-VGG_16/0208_112555/airplane_100/bump_noise/results/bin_12210.2_12729.82_itr_4', 'saved/edit/experiments/bump_edits/CINIC10_ImageNet-VGG_16/0208_112555/airplane_100/bump_noise/results/bin_12210.2_12729.82_itr_5', 'saved/edit/experiments/bump_edits/CINIC10_ImageNet-VGG_16/0208_112555/airplane_100/bump_noise/results/bin_12729.82_13249.44_itr_0', 'saved/edit/experiments/bump_edits/CINIC10_ImageNet-VGG_16/0208_112555/airplane_100/bump_noise/results/bin_12729.82_13249.44_itr_1', 'saved/edit/experiments/bump_edits/CINIC10_ImageNet-VGG_16/0208_112555/airplane_100/bump_noise/results/bin_12729.82_13249.44_itr_2', 'saved/edit/experiments/bump_edits/CINIC10_ImageNet-VGG_16/0208_112555/airplane_100/bump_noise/results/bin_12729.82_13249.44_itr_3', 'saved/edit/experiments/bump_edits/CINIC10_ImageNet-VGG_16/0208_112555/airplane_100/bump_noise/results/bin_12729.82_13249.44_itr_4', 'saved/edit/experiments/bump_edits/CINIC10_ImageNet-VGG_16/0208_112555/airplane_100/bump_noise/results/bin_12729.82_13249.44_itr_5', 'saved/edit/experiments/bump_edits/CINIC10_ImageNet-VGG_16/0208_112555/airplane_100/bump_noise/results/bin_12729.82_13249.44_itr_6', 'saved/edit/experiments/bump_edits/CINIC10_ImageNet-VGG_16/0208_112555/airplane_100/bump_noise/results/bin_12729.82_13249.44_itr_7', 'saved/edit/experiments/bump_edits/CINIC10_ImageNet-VGG_16/0208_112555/airplane_100/bump_noise/results/bin_12729.82_13249.44_itr_8', 'saved/edit/experiments/bump_edits/CINIC10_ImageNet-VGG_16/0208_112555/airplane_100/bump_noise/results/bin_12729.82_13249.44_itr_9', 'saved/edit/experiments/bump_edits/CINIC10_ImageNet-VGG_16/0208_112555/airplane_100/bump_noise/results/bin_13249.44_13769.060000000001_itr_0', 'saved/edit/experiments/bump_edits/CINIC10_ImageNet-VGG_16/0208_112555/airplane_100/bump_noise/results/bin_13249.44_13769.060000000001_itr_1', 'saved/edit/experiments/bump_edits/CINIC10_ImageNet-VGG_16/0208_112555/airplane_100/bump_noise/results/bin_13769.060000000001_14288.68_itr_0', 'saved/edit/experiments/bump_edits/CINIC10_ImageNet-VGG_16/0208_112555/airplane_100/bump_noise/results/bin_13769.060000000001_14288.68_itr_1', 'saved/edit/experiments/bump_edits/CINIC10_ImageNet-VGG_16/0208_112555/airplane_100/bump_noise/results/bin_14288.68_14808.3_itr_0', 'saved/edit/experiments/bump_edits/CINIC10_ImageNet-VGG_16/0208_112555/airplane_100/bump_noise/results/bin_14288.68_14808.3_itr_1', 'saved/edit/experiments/bump_edits/CINIC10_ImageNet-VGG_16/0208_112555/airplane_100/bump_noise/results/bin_14288.68_14808.3_itr_2', 'saved/edit/experiments/bump_edits/CINIC10_ImageNet-VGG_16/0208_112555/airplane_100/bump_noise/results/bin_14808.3_15327.92_itr_0', 'saved/edit/experiments/bump_edits/CINIC10_ImageNet-VGG_16/0208_112555/airplane_100/bump_noise/results/bin_14808.3_15327.92_itr_1', 'saved/edit/experiments/bump_edits/CINIC10_ImageNet-VGG_16/0208_112555/airplane_100/bump_noise/results/bin_14808.3_15327.92_itr_2', 'saved/edit/experiments/bump_edits/CINIC10_ImageNet-VGG_16/0208_112555/airplane_100/bump_noise/results/bin_14808.3_15327.92_itr_3', 'saved/edit/experiments/bump_edits/CINIC10_ImageNet-VGG_16/0208_112555/airplane_100/bump_noise/results/bin_15327.92_15847.54_itr_0', 'saved/edit/experiments/bump_edits/CINIC10_ImageNet-VGG_16/0208_112555/airplane_100/bump_noise/results/bin_15327.92_15847.54_itr_1', 'saved/edit/experiments/bump_edits/CINIC10_ImageNet-VGG_16/0208_112555/airplane_100/bump_noise/results/bin_15327.92_15847.54_itr_2', 'saved/edit/experiments/bump_edits/CINIC10_ImageNet-VGG_16/0208_112555/airplane_100/bump_noise/results/bin_15327.92_15847.54_itr_3', 'saved/edit/experiments/bump_edits/CINIC10_ImageNet-VGG_16/0208_112555/airplane_100/bump_noise/results/bin_15327.92_15847.54_itr_4', 'saved/edit/experiments/bump_edits/CINIC10_ImageNet-VGG_16/0208_112555/airplane_100/bump_noise/results/bin_15327.92_15847.54_itr_5', 'saved/edit/experiments/bump_edits/CINIC10_ImageNet-VGG_16/0208_112555/airplane_100/bump_noise/results/bin_15847.54_16367.16_itr_0', 'saved/edit/experiments/bump_edits/CINIC10_ImageNet-VGG_16/0208_112555/airplane_100/bump_noise/results/bin_15847.54_16367.16_itr_1', 'saved/edit/experiments/bump_edits/CINIC10_ImageNet-VGG_16/0208_112555/airplane_100/bump_noise/results/bin_15847.54_16367.16_itr_2', 'saved/edit/experiments/bump_edits/CINIC10_ImageNet-VGG_16/0208_112555/airplane_100/bump_noise/results/bin_15847.54_16367.16_itr_3', 'saved/edit/experiments/bump_edits/CINIC10_ImageNet-VGG_16/0208_112555/airplane_100/bump_noise/results/bin_15847.54_16367.16_itr_4', 'saved/edit/experiments/bump_edits/CINIC10_ImageNet-VGG_16/0208_112555/airplane_100/bump_noise/results/bin_16367.16_16886.78_itr_0', 'saved/edit/experiments/bump_edits/CINIC10_ImageNet-VGG_16/0208_112555/airplane_100/bump_noise/results/bin_16367.16_16886.78_itr_1', 'saved/edit/experiments/bump_edits/CINIC10_ImageNet-VGG_16/0208_112555/airplane_100/bump_noise/results/bin_16886.78_17406.4_itr_0', 'saved/edit/experiments/bump_edits/CINIC10_ImageNet-VGG_16/0208_112555/airplane_100/bump_noise/results/bin_16886.78_17406.4_itr_1', 'saved/edit/experiments/bump_edits/CINIC10_ImageNet-VGG_16/0208_112555/airplane_100/bump_noise/results/bin_16886.78_17406.4_itr_2', 'saved/edit/experiments/bump_edits/CINIC10_ImageNet-VGG_16/0208_112555/airplane_100/bump_noise/results/bin_16886.78_17406.4_itr_3', 'saved/edit/experiments/bump_edits/CINIC10_ImageNet-VGG_16/0208_112555/airplane_100/bump_noise/results/bin_17406.4_17926.02_itr_0', 'saved/edit/experiments/bump_edits/CINIC10_ImageNet-VGG_16/0208_112555/airplane_100/bump_noise/results/bin_17406.4_17926.02_itr_1', 'saved/edit/experiments/bump_edits/CINIC10_ImageNet-VGG_16/0208_112555/airplane_100/bump_noise/results/bin_17406.4_17926.02_itr_2', 'saved/edit/experiments/bump_edits/CINIC10_ImageNet-VGG_16/0208_112555/airplane_100/bump_noise/results/bin_17406.4_17926.02_itr_3', 'saved/edit/experiments/bump_edits/CINIC10_ImageNet-VGG_16/0208_112555/airplane_100/bump_noise/results/bin_17406.4_17926.02_itr_4', 'saved/edit/experiments/bump_edits/CINIC10_ImageNet-VGG_16/0208_112555/airplane_100/bump_noise/results/bin_17926.02_18445.64_itr_0', 'saved/edit/experiments/bump_edits/CINIC10_ImageNet-VGG_16/0208_112555/airplane_100/bump_noise/results/bin_17926.02_18445.64_itr_1', 'saved/edit/experiments/bump_edits/CINIC10_ImageNet-VGG_16/0208_112555/airplane_100/bump_noise/results/bin_17926.02_18445.64_itr_2', 'saved/edit/experiments/bump_edits/CINIC10_ImageNet-VGG_16/0208_112555/airplane_100/bump_noise/results/bin_17926.02_18445.64_itr_3', 'saved/edit/experiments/bump_edits/CINIC10_ImageNet-VGG_16/0208_112555/airplane_100/bump_noise/results/bin_18965.260000000002_19484.88_itr_0', 'saved/edit/experiments/bump_edits/CINIC10_ImageNet-VGG_16/0208_112555/airplane_100/bump_noise/results/bin_19484.88_20004.5_itr_0', 'saved/edit/experiments/bump_edits/CINIC10_ImageNet-VGG_16/0208_112555/airplane_100/bump_noise/results/bin_19484.88_20004.5_itr_1', 'saved/edit/experiments/bump_edits/CINIC10_ImageNet-VGG_16/0208_112555/airplane_100/bump_noise/results/bin_21043.739999999998_21563.36_itr_0', 'saved/edit/experiments/bump_edits/CINIC10_ImageNet-VGG_16/0208_112555/airplane_100/bump_noise/results/bin_21563.36_22082.98_itr_0', 'saved/edit/experiments/bump_edits/CINIC10_ImageNet-VGG_16/0208_112555/airplane_100/bump_noise/results/bin_21563.36_22082.98_itr_1', 'saved/edit/experiments/bump_edits/CINIC10_ImageNet-VGG_16/0208_112555/airplane_100/bump_noise/results/bin_21563.36_22082.98_itr_2', 'saved/edit/experiments/bump_edits/CINIC10_ImageNet-VGG_16/0208_112555/airplane_100/bump_noise/results/bin_22082.98_22602.6_itr_0', 'saved/edit/experiments/bump_edits/CINIC10_ImageNet-VGG_16/0208_112555/airplane_100/bump_noise/results/bin_22082.98_22602.6_itr_1', 'saved/edit/experiments/bump_edits/CINIC10_ImageNet-VGG_16/0208_112555/airplane_100/bump_noise/results/bin_22082.98_22602.6_itr_2', 'saved/edit/experiments/bump_edits/CINIC10_ImageNet-VGG_16/0208_112555/airplane_100/bump_noise/results/bin_22082.98_22602.6_itr_3', 'saved/edit/experiments/bump_edits/CINIC10_ImageNet-VGG_16/0208_112555/airplane_100/bump_noise/results/bin_22602.6_23122.22_itr_0', 'saved/edit/experiments/bump_edits/CINIC10_ImageNet-VGG_16/0208_112555/airplane_100/bump_noise/results/bin_23122.22_23641.84_itr_0', 'saved/edit/experiments/bump_edits/CINIC10_ImageNet-VGG_16/0208_112555/airplane_100/bump_noise/results/bin_23122.22_23641.84_itr_1', 'saved/edit/experiments/bump_edits/CINIC10_ImageNet-VGG_16/0208_112555/airplane_100/bump_noise/results/bin_23122.22_23641.84_itr_2', 'saved/edit/experiments/bump_edits/CINIC10_ImageNet-VGG_16/0208_112555/airplane_100/bump_noise/results/bin_23122.22_23641.84_itr_3', 'saved/edit/experiments/bump_edits/CINIC10_ImageNet-VGG_16/0208_112555/airplane_100/bump_noise/results/bin_24161.46_24681.08_itr_0', 'saved/edit/experiments/bump_edits/CINIC10_ImageNet-VGG_16/0208_112555/airplane_100/bump_noise/results/bin_24161.46_24681.08_itr_1', 'saved/edit/experiments/bump_edits/CINIC10_ImageNet-VGG_16/0208_112555/airplane_100/bump_noise/results/bin_24681.08_25200.7_itr_0', 'saved/edit/experiments/bump_edits/CINIC10_ImageNet-VGG_16/0208_112555/airplane_100/bump_noise/results/bin_24681.08_25200.7_itr_1', 'saved/edit/experiments/bump_edits/CINIC10_ImageNet-VGG_16/0208_112555/airplane_100/bump_noise/results/bin_24681.08_25200.7_itr_2', 'saved/edit/experiments/bump_edits/CINIC10_ImageNet-VGG_16/0208_112555/airplane_100/bump_noise/results/bin_25200.7_25720.32_itr_0', 'saved/edit/experiments/bump_edits/CINIC10_ImageNet-VGG_16/0208_112555/airplane_100/bump_noise/results/bin_26239.94_26759.56_itr_0', 'saved/edit/experiments/bump_edits/CINIC10_ImageNet-VGG_16/0208_112555/airplane_100/bump_noise/results/bin_26239.94_26759.56_itr_1', 'saved/edit/experiments/bump_edits/CINIC10_ImageNet-VGG_16/0208_112555/airplane_100/bump_noise/results/bin_27798.8_28318.420000000002_itr_0', 'saved/edit/experiments/bump_edits/CINIC10_ImageNet-VGG_16/0208_112555/airplane_100/bump_noise/results/bin_28318.420000000002_28838.04_itr_0', 'saved/edit/experiments/bump_edits/CINIC10_ImageNet-VGG_16/0208_112555/airplane_100/bump_noise/results/bin_28838.04_29357.66_itr_0', 'saved/edit/experiments/bump_edits/CINIC10_ImageNet-VGG_16/0208_112555/airplane_100/bump_noise/results/bin_32475.38_32995.0_itr_0']\n",
      "Wrote list of trial_paths to saved/edit/experiments/bump_edits/CINIC10_ImageNet-VGG_16/0208_112555/airplane_100/bump_noise/trial_paths.txt\n"
     ]
    },
    {
     "name": "stderr",
     "output_type": "stream",
     "text": [
      "\n",
      "/n/fs/ac-editing/model-editing/src/model/metric.py:168: RuntimeWarning: invalid value encountered in divide\n",
      "  return np.nan_to_num(TPs / (TPs + FPs))\n",
      "/n/fs/ac-editing/model-editing/src/model/metric.py:205: RuntimeWarning: invalid value encountered in divide\n",
      "  return np.nan_to_num(2 * precisions * recalls / (precisions + recalls))\n"
     ]
    }
   ],
   "source": [
    "bump_save_dir = os.path.join(os.path.dirname(os.path.dirname(config.save_dir)), save_timestamp, '{}_{}'.format(target_class_name, n_select))\n",
    "ensure_dir(bump_save_dir)\n",
    "\n",
    "bump_preds_metrics_path = os.path.join(bump_save_dir, 'bumps_preds_metrics.pth')\n",
    "target_class_distribution_path = os.path.join(bump_save_dir, 'target_class_distribution.pth')\n",
    "\n",
    "# Load objects\n",
    "bumps_preds_metrics = torch.load(bump_preds_metrics_path)\n",
    "target_class_distribution = torch.load(target_class_distribution_path)\n",
    "\n",
    "# Determine whether to use noise_edits or not\n",
    "noise_edit = config.config['editor']['noise_edit']\n",
    "if noise_edit: \n",
    "    results_save_dir = os.path.join(bump_save_dir, 'bump_noise', 'results')\n",
    "    ensure_dir(results_save_dir)\n",
    "    progress_report_path = os.path.join(bump_save_dir, 'bump_noise', 'progress_report.txt')\n",
    "    trial_paths_path = os.path.join(bump_save_dir, 'bump_noise', 'trial_paths.txt')\n",
    "else:\n",
    "    results_save_dir = os.path.join(bump_save_dir, 'results')\n",
    "    ensure_dir(results_save_dir)\n",
    "    progress_report_path = os.path.join(bump_save_dir, 'progress_report.txt')\n",
    "    trial_paths_path = os.path.join(bump_save_dir, 'trial_paths.txt')\n",
    "\n",
    "print(\"Performing bump{} edits for {} class\".format(\"-noise\" if noise_edit else \"\", target_class_name))\n",
    "print(\"Trial paths stored at {}\".format(trial_paths_path))\n",
    "print(\"Results will be saved to {}\".format(results_save_dir))\n",
    "# Remove file at trial_paths_path if it exists\n",
    "if os.path.isfile(trial_paths_path):\n",
    "    os.remove(trial_paths_path)\n",
    "\n",
    "print(noise_edit)\n",
    "if not noise_edit:\n",
    "    trial_paths = replicate_bump_results(\n",
    "        bumps_preds_metrics=bumps_preds_metrics,\n",
    "        target_class_distribution=target_class_distribution,\n",
    "        results_save_dir=results_save_dir,\n",
    "        trial_paths_path=trial_paths_path)\n",
    "else:\n",
    "    # Create editor\n",
    "    editor_args = config.config['editor']['args']\n",
    "    editor_args['arch'] = config.config['arch']['args']['type']\n",
    "    editor = Editor(**editor_args)\n",
    "    # Recreate trial results with bump and noise\n",
    "    trial_paths = replicate_bump_noise_results(\n",
    "        bumps_preds_metrics=bumps_preds_metrics,\n",
    "        target_class_distribution=target_class_distribution,\n",
    "        results_save_dir=results_save_dir,\n",
    "        trial_paths_path=trial_paths_path,\n",
    "        progress_report_path=progress_report_path,\n",
    "        # Parameters for adding noise\n",
    "        # noise_edit=noise_edit,\n",
    "        target_class_idx=target_class_idx,\n",
    "        config=config,\n",
    "        data_loader=val_paths_data_loader,\n",
    "        loss_fn=loss_fn,\n",
    "        metrics_fns=metric_fns,\n",
    "        editor=editor,\n",
    "        device=device)\n",
    "\n",
    "        \n",
    "    \n",
    "print(trial_paths)\n",
    "write_lists(trial_paths_path, trial_paths)\n",
    "print(\"Wrote list of trial_paths to {}\".format(trial_paths_path))"
   ]
  },
  {
   "cell_type": "code",
   "execution_count": 34,
   "metadata": {},
   "outputs": [
    {
     "name": "stdout",
     "output_type": "stream",
     "text": [
      "No artists with labels found to put in legend.  Note that artists whose label start with an underscore are ignored when legend() is called with no argument.\n"
     ]
    },
    {
     "name": "stderr",
     "output_type": "stream",
     "text": [
      "--- Logging error ---\n",
      "Traceback (most recent call last):\n",
      "  File \"/n/fs/ac-project/anaconda3/envs/editing/lib/python3.8/logging/handlers.py\", line 69, in emit\n",
      "    if self.shouldRollover(record):\n",
      "  File \"/n/fs/ac-project/anaconda3/envs/editing/lib/python3.8/logging/handlers.py\", line 186, in shouldRollover\n",
      "    self.stream.seek(0, 2)  #due to non-posix-compliant Windows feature\n",
      "OSError: [Errno 116] Stale file handle\n",
      "Call stack:\n",
      "  File \"/n/fs/ac-project/anaconda3/envs/editing/lib/python3.8/runpy.py\", line 194, in _run_module_as_main\n",
      "    return _run_code(code, main_globals, None,\n",
      "  File \"/n/fs/ac-project/anaconda3/envs/editing/lib/python3.8/runpy.py\", line 87, in _run_code\n",
      "    exec(code, run_globals)\n",
      "  File \"/u/ac4802/.local/lib/python3.8/site-packages/ipykernel_launcher.py\", line 17, in <module>\n",
      "    app.launch_new_instance()\n",
      "  File \"/u/ac4802/.local/lib/python3.8/site-packages/traitlets/config/application.py\", line 978, in launch_instance\n",
      "    app.start()\n",
      "  File \"/u/ac4802/.local/lib/python3.8/site-packages/ipykernel/kernelapp.py\", line 712, in start\n",
      "    self.io_loop.start()\n",
      "  File \"/u/ac4802/.local/lib/python3.8/site-packages/tornado/platform/asyncio.py\", line 215, in start\n",
      "    self.asyncio_loop.run_forever()\n",
      "  File \"/n/fs/ac-project/anaconda3/envs/editing/lib/python3.8/asyncio/base_events.py\", line 570, in run_forever\n",
      "    self._run_once()\n",
      "  File \"/n/fs/ac-project/anaconda3/envs/editing/lib/python3.8/asyncio/base_events.py\", line 1859, in _run_once\n",
      "    handle._run()\n",
      "  File \"/n/fs/ac-project/anaconda3/envs/editing/lib/python3.8/asyncio/events.py\", line 81, in _run\n",
      "    self._context.run(self._callback, *self._args)\n",
      "  File \"/u/ac4802/.local/lib/python3.8/site-packages/ipykernel/kernelbase.py\", line 510, in dispatch_queue\n",
      "    await self.process_one()\n",
      "  File \"/u/ac4802/.local/lib/python3.8/site-packages/ipykernel/kernelbase.py\", line 499, in process_one\n",
      "    await dispatch(*args)\n",
      "  File \"/u/ac4802/.local/lib/python3.8/site-packages/ipykernel/kernelbase.py\", line 406, in dispatch_shell\n",
      "    await result\n",
      "  File \"/u/ac4802/.local/lib/python3.8/site-packages/ipykernel/kernelbase.py\", line 730, in execute_request\n",
      "    reply_content = await reply_content\n",
      "  File \"/u/ac4802/.local/lib/python3.8/site-packages/ipykernel/ipkernel.py\", line 383, in do_execute\n",
      "    res = shell.run_cell(\n",
      "  File \"/u/ac4802/.local/lib/python3.8/site-packages/ipykernel/zmqshell.py\", line 528, in run_cell\n",
      "    return super().run_cell(*args, **kwargs)\n",
      "  File \"/u/ac4802/.local/lib/python3.8/site-packages/IPython/core/interactiveshell.py\", line 2885, in run_cell\n",
      "    result = self._run_cell(\n",
      "  File \"/u/ac4802/.local/lib/python3.8/site-packages/IPython/core/interactiveshell.py\", line 2940, in _run_cell\n",
      "    return runner(coro)\n",
      "  File \"/u/ac4802/.local/lib/python3.8/site-packages/IPython/core/async_helpers.py\", line 129, in _pseudo_sync_runner\n",
      "    coro.send(None)\n",
      "  File \"/u/ac4802/.local/lib/python3.8/site-packages/IPython/core/interactiveshell.py\", line 3139, in run_cell_async\n",
      "    has_raised = await self.run_ast_nodes(code_ast.body, cell_name,\n",
      "  File \"/u/ac4802/.local/lib/python3.8/site-packages/IPython/core/interactiveshell.py\", line 3318, in run_ast_nodes\n",
      "    if await self.run_code(code, result, async_=asy):\n",
      "  File \"/u/ac4802/.local/lib/python3.8/site-packages/IPython/core/interactiveshell.py\", line 3378, in run_code\n",
      "    exec(code_obj, self.user_global_ns, self.user_ns)\n",
      "  File \"/tmp/ipykernel_1016287/2422944154.py\", line 2, in <module>\n",
      "    save_class_distribution(\n",
      "  File \"/tmp/ipykernel_1016287/4209334913.py\", line 29, in save_class_distribution\n",
      "    bin_values, bins, _ = histogram(\n",
      "  File \"/n/fs/ac-editing/model-editing/src/utils/visualizations.py\", line 376, in histogram\n",
      "    plt.legend()\n",
      "  File \"/n/fs/ac-project/anaconda3/envs/editing/lib/python3.8/site-packages/matplotlib/pyplot.py\", line 2667, in legend\n",
      "    return gca().legend(*args, **kwargs)\n",
      "  File \"/n/fs/ac-project/anaconda3/envs/editing/lib/python3.8/site-packages/matplotlib/axes/_axes.py\", line 299, in legend\n",
      "    handles, labels, extra_args, kwargs = mlegend._parse_legend_args(\n",
      "  File \"/n/fs/ac-project/anaconda3/envs/editing/lib/python3.8/site-packages/matplotlib/legend.py\", line 1217, in _parse_legend_args\n",
      "    log.warning(\n",
      "Message: 'No artists with labels found to put in legend.  Note that artists whose label start with an underscore are ignored when legend() is called with no argument.'\n",
      "Arguments: ()\n"
     ]
    },
    {
     "name": "stdout",
     "output_type": "stream",
     "text": [
      "Saved target class distribution & histogram data to saved/edit/experiments/bump_edits/CINIC10_ImageNet-VGG_16/0208_112555/automobile_100/bump_noise/target_class_distribution.pth\n"
     ]
    },
    {
     "data": {
      "text/plain": [
       "{'n_target_predictions': array([ 7828,  7820,  7847,  7778,  7828,  7813,  7824,  8694,  8699,\n",
       "         8536,  8766,  8791,  8693,  8755,  8695,  8719,  8683,  8655,\n",
       "         8736,  8644,  9548,  9500,  9308,  9414,  9442,  9516,  9459,\n",
       "         9490,  9333,  9442,  9494,  9379,  9376,  9303, 10639, 10683,\n",
       "        10639, 10705, 10822, 10765, 10866, 10790, 10773, 10598, 11074,\n",
       "        11357, 11458, 11334, 11997, 11706, 13292, 14293, 14461, 14302,\n",
       "        14142, 13842, 14053, 14068, 14090, 14571, 14658, 15060, 14843,\n",
       "        14808, 14517, 14717, 14787, 14841, 16025, 15994, 15976, 15963,\n",
       "        15965, 15987, 16293, 15814, 16077, 16264, 16253, 16328, 15907,\n",
       "        16148, 16228, 16013, 16183, 16120, 17448, 16606, 16720, 16972,\n",
       "        17111, 16866, 16381, 16661, 16841, 17077, 17237, 17583, 17898,\n",
       "        17778, 17948, 17969, 17596, 17670, 17580, 18727, 18502, 18559,\n",
       "        19167, 19248, 19225, 20326, 22684, 23171, 24276, 23299, 23760,\n",
       "        25793, 28990, 28034, 31953, 53699]),\n",
       " 'histogram_bin_values': array([14., 20.,  0., 13.,  3.,  0.,  6., 12.,  9., 15., 10.,  6.,  3.,\n",
       "         1.,  0.,  0.,  3.,  2.,  0.,  1.,  0.,  0.,  1.,  1.,  0.,  0.,\n",
       "         1.,  0.,  0.,  0.,  0.,  0.,  0.,  0.,  0.,  0.,  0.,  0.,  0.,\n",
       "         0.,  0.,  0.,  0.,  0.,  0.,  0.,  0.,  0.,  0.,  1.]),\n",
       " 'histogram_bins': array([ 7778.  ,  8696.42,  9614.84, 10533.26, 11451.68, 12370.1 ,\n",
       "        13288.52, 14206.94, 15125.36, 16043.78, 16962.2 , 17880.62,\n",
       "        18799.04, 19717.46, 20635.88, 21554.3 , 22472.72, 23391.14,\n",
       "        24309.56, 25227.98, 26146.4 , 27064.82, 27983.24, 28901.66,\n",
       "        29820.08, 30738.5 , 31656.92, 32575.34, 33493.76, 34412.18,\n",
       "        35330.6 , 36249.02, 37167.44, 38085.86, 39004.28, 39922.7 ,\n",
       "        40841.12, 41759.54, 42677.96, 43596.38, 44514.8 , 45433.22,\n",
       "        46351.64, 47270.06, 48188.48, 49106.9 , 50025.32, 50943.74,\n",
       "        51862.16, 52780.58, 53699.  ])}"
      ]
     },
     "execution_count": 34,
     "metadata": {},
     "output_type": "execute_result"
    }
   ],
   "source": [
    "# Save class distribution as histogram\n",
    "save_class_distribution(\n",
    "    csv_path='saved/edit/experiments/bump_edits/CINIC10_ImageNet-VGG_16/0208_112555/automobile_100/bump_noise/results_table.csv', \n",
    "    target_class_idx=target_class_idx,\n",
    "    target_class_name=target_class_name)"
   ]
  },
  {
   "cell_type": "code",
   "execution_count": null,
   "metadata": {},
   "outputs": [],
   "source": []
  }
 ],
 "metadata": {
  "kernelspec": {
   "display_name": "editing",
   "language": "python",
   "name": "editing"
  },
  "language_info": {
   "codemirror_mode": {
    "name": "ipython",
    "version": 3
   },
   "file_extension": ".py",
   "mimetype": "text/x-python",
   "name": "python",
   "nbconvert_exporter": "python",
   "pygments_lexer": "ipython3",
   "version": "3.8.13"
  }
 },
 "nbformat": 4,
 "nbformat_minor": 4
}
