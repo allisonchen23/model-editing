{
 "cells": [
  {
   "cell_type": "markdown",
   "metadata": {},
   "source": [
    "# Hyperparameter search across optimizer, learning rate, weight decay"
   ]
  },
  {
   "cell_type": "markdown",
   "metadata": {},
   "source": []
  },
  {
   "cell_type": "code",
   "execution_count": 2,
   "metadata": {},
   "outputs": [],
   "source": [
    "# Global imports\n",
    "import os\n",
    "import json"
   ]
  },
  {
   "cell_type": "code",
   "execution_count": null,
   "metadata": {},
   "outputs": [],
   "source": [
    "# Local imports\n",
    "from utils import read_json, write_json"
   ]
  },
  {
   "cell_type": "code",
   "execution_count": null,
   "metadata": {},
   "outputs": [],
   "source": [
    "# architectures = [\n",
    "#     \"vgg11_bn\",\n",
    "#     \"vgg13_bn\",\n",
    "#     \"vgg16_bn\",\n",
    "#     \"vgg19_bn\",\n",
    "#     \"resnet18\",\n",
    "#     \"resnet34\",\n",
    "#     \"resnet50\",\n",
    "#     \"densenet121\",\n",
    "#     \"densenet161\",\n",
    "#     \"densenet169\",\n",
    "#     \"mobilenet_v2\",\n",
    "#     \"googlenet\",\n",
    "#     \"inception_v3\"]\n",
    "\n",
    "architectures = [\"vgg11_bn\"]\n",
    "config_path = 'configs/cinic10_imagenet_train_hyperparameter_search.json'\n",
    "config = read_json(config_path)\n",
    "\n",
    "optimizers = [\"Adam\", \"SGD\"]\n",
    "learning_rates = [0.1, 0.01, 1e-3, 1e-4, 1e-5, 1e-6]\n",
    "weight_decays = [0, 0.1, 0.01, 1e-3, 1e-4]\n"
   ]
  }
 ],
 "metadata": {
  "kernelspec": {
   "display_name": "Python 3.8.13 ('editing')",
   "language": "python",
   "name": "python3"
  },
  "language_info": {
   "codemirror_mode": {
    "name": "ipython",
    "version": 3
   },
   "file_extension": ".py",
   "mimetype": "text/x-python",
   "name": "python",
   "nbconvert_exporter": "python",
   "pygments_lexer": "ipython3",
   "version": "3.9.13"
  },
  "orig_nbformat": 4,
  "vscode": {
   "interpreter": {
    "hash": "308e6c6b8b936526d9e5740fbb6d189809c67403351ef790dfc7ad94346820d6"
   }
  }
 },
 "nbformat": 4,
 "nbformat_minor": 2
}
