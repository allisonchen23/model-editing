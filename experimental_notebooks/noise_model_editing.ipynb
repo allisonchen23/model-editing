{
 "cells": [
  {
   "cell_type": "markdown",
   "metadata": {
    "tags": []
   },
   "source": [
    "## Random Model Editing: How does performance change when the model is randomly changed rather than using an image to guide the edit?"
   ]
  },
  {
   "cell_type": "code",
   "execution_count": 1,
   "metadata": {},
   "outputs": [],
   "source": [
    "# General imports\n",
    "import torch\n",
    "import numpy as np\n",
    "import os, sys\n",
    "import json\n",
    "from tqdm import tqdm\n",
    "from datetime import datetime\n",
    "import pandas as pd"
   ]
  },
  {
   "cell_type": "code",
   "execution_count": 2,
   "metadata": {},
   "outputs": [],
   "source": [
    "# Local imports\n",
    "sys.path.insert(0, 'src')\n",
    "from test import predict\n",
    "from parse_config import ConfigParser\n",
    "import datasets.datasets as module_data\n",
    "\n",
    "import model.loss as module_loss\n",
    "import model.metric as module_metric\n",
    "import model.model as module_arch\n",
    "from trainer.editor import Editor\n",
    "\n",
    "from utils import read_json, read_lists, informal_log, list_to_dict, write_lists, write_json, ensure_files, ensure_dir\n",
    "from utils.model_utils import prepare_device\n",
    "from utils.results_to_csv import store_csv\n",
    "from utils.edit_utils import prepare_edit_data #, get_target_weights\n",
    "from utils.knn_utils import knn, analyze_knn, load_and_analyze_knn\n",
    "from utils.df_utils import load_and_preprocess_csv, summary_histogram\n",
    "from utils.visualizations import histogram\n",
    "\n",
    "from edit_knn import main as edit\n",
    "\n",
    "# fix random seeds for reproducibility\n",
    "SEED = 123\n",
    "torch.manual_seed(SEED)\n",
    "torch.backends.cudnn.deterministic = True\n",
    "torch.backends.cudnn.benchmark = False\n",
    "np.random.seed(SEED)"
   ]
  },
  {
   "cell_type": "markdown",
   "metadata": {
    "tags": []
   },
   "source": [
    "### Outline\n",
    "\n",
    "1. given a path of keys and values\n",
    "2. perform an edit for each key and value\n",
    "    a. save the weight difference in a list\n",
    "3. after all edits, stack the tensors and take the mean and std"
   ]
  },
  {
   "cell_type": "code",
   "execution_count": 3,
   "metadata": {},
   "outputs": [],
   "source": [
    "# Define constants, paths\n",
    "class_list_path = os.path.join('metadata', 'cinic-10', 'class_names.txt')\n",
    "# Define constants, paths\n",
    "config_path = 'configs/copies/edit_experiments/cinic10_imagenet-random_edit.json'\n",
    "class_list_path = 'metadata/cinic-10/class_names.txt'\n",
    "\n",
    "analyze_in_edit = False\n",
    "sort_type = 'softmax'"
   ]
  },
  {
   "cell_type": "code",
   "execution_count": 10,
   "metadata": {},
   "outputs": [],
   "source": [
    "timestamp = datetime.now().strftime(r'%m%d_%H%M%S')\n",
    "paths_timestamp = '0126_161209'\n"
   ]
  },
  {
   "cell_type": "code",
   "execution_count": 11,
   "metadata": {},
   "outputs": [],
   "source": [
    "# Load config file\n",
    "config_dict = read_json(config_path)\n",
    "# Load class list and obtain target class idx\n",
    "class_list = read_lists(class_list_path)\n",
    "class_idx_dict = list_to_dict(class_list)\n",
    "\n",
    "# n_select = 1500\n",
    "\n",
    "# Set K\n",
    "K = config_dict['editor']['K']\n",
    "\n",
    "device, device_ids = prepare_device(config_dict['n_gpu'])"
   ]
  },
  {
   "cell_type": "code",
   "execution_count": 12,
   "metadata": {},
   "outputs": [],
   "source": [
    "# Load datasets\n",
    "data_loader_args = dict(config_dict[\"data_loader\"][\"args\"])\n",
    "dataset_args = dict(config_dict[\"dataset_args\"])\n",
    "\n",
    "# Create validation data loader\n",
    "val_image_paths = read_lists(config_dict['dataset_paths']['valid_images'])\n",
    "val_labels = read_lists(config_dict['dataset_paths']['valid_labels'])\n",
    "val_paths_data_loader = torch.utils.data.DataLoader(\n",
    "    module_data.CINIC10Dataset(\n",
    "        data_dir=\"\",\n",
    "        image_paths=val_image_paths,\n",
    "        labels=val_labels,\n",
    "        return_paths=True,\n",
    "        **dataset_args\n",
    "    ),\n",
    "    **data_loader_args\n",
    ")\n",
    "\n",
    "# Create data loader for covariance matrix\n",
    "covariance_image_paths = read_lists(config_dict['covariance_dataset']['images'])\n",
    "covariance_labels = read_lists(config_dict['covariance_dataset']['labels'])\n",
    "\n",
    "covariance_data_loader = torch.utils.data.DataLoader(\n",
    "    module_data.CINIC10Dataset(\n",
    "        data_dir=\"\",\n",
    "        image_paths=covariance_image_paths,\n",
    "        labels=covariance_labels,\n",
    "        **dataset_args\n",
    "    ),\n",
    "    **data_loader_args\n",
    ")"
   ]
  },
  {
   "cell_type": "markdown",
   "metadata": {
    "tags": []
   },
   "source": [
    "### Calculate the mean and STD of weight differences"
   ]
  },
  {
   "cell_type": "code",
   "execution_count": 1,
   "metadata": {},
   "outputs": [],
   "source": [
    "def edit_return_weight_diff(config,\n",
    "         val_paths_data_loader=None,\n",
    "         covariance_data_loader=None,\n",
    "         do_analyze_knn=False):\n",
    "\n",
    "    logger = config.get_logger('train')\n",
    "    assert config.config['method'] == 'edit', \"Invalid method '{}'. Must be 'edit'\".format(config.config['method'])\n",
    "    # K = config.config['editor']['K']  # for KNN\n",
    "\n",
    "    # Store variables for if we want to perform knn analysis here\n",
    "    if 'perform_analysis' in config.config['editor']:\n",
    "        do_analyze_knn = config.config['editor']['perform_analysis']\n",
    "    if do_analyze_knn:\n",
    "        try:\n",
    "            class_list_path = config.config['class_list_path']\n",
    "        except:\n",
    "            raise ValueError(\"class_list_path not in config file. Aborting\")\n",
    "        try:\n",
    "            class_list = read_lists(class_list_path)\n",
    "        except:\n",
    "            raise ValueError(\"Unable to read file at {}. Aborting\".format(class_list_path))\n",
    "\n",
    "    save_dir = str(config.save_dir)\n",
    "\n",
    "    # General arguments for data loaders\n",
    "    dataset_args = config.config['dataset_args']\n",
    "    data_loader_args = config.config['data_loader']['args']\n",
    "\n",
    "    # build model architecture, then print to console\n",
    "    config.config['arch'].update()\n",
    "    layernum = config.config['layernum']\n",
    "    model = config.init_obj('arch', module_arch, layernum=layernum)\n",
    "\n",
    "\n",
    "    logger.info(\"Created {} model with {} trainable parameters\".format(config.config['arch']['type'], model.get_n_params()))\n",
    "    if model.get_checkpoint_path() != \"\":\n",
    "        logger.info(\"Restored weights from {}\".format(model.get_checkpoint_path()))\n",
    "    else:\n",
    "        logger.info(\"Training from scratch.\")\n",
    "\n",
    "    # Provide dataloader to perform KNN and metric calculation\n",
    "    # if val_paths_data_loader is None:\n",
    "    #     val_image_paths = read_lists(config.config['dataset_paths']['valid_images'])\n",
    "    #     val_labels = read_lists(config.config['dataset_paths']['valid_labels'])\n",
    "    #     val_paths_data_loader = torch.utils.data.DataLoader(\n",
    "    #         module_data.CINIC10Dataset(\n",
    "    #             data_dir=\"\",\n",
    "    #             image_paths=val_image_paths,\n",
    "    #             labels=val_labels,\n",
    "    #             return_paths=True,\n",
    "    #             **dataset_args\n",
    "    #         ),\n",
    "    #         **data_loader_args\n",
    "    #     )\n",
    "    #     logger.info(\"Created validation data loader for metric and KNN calculations\")\n",
    "    # else:\n",
    "    #     logger.info(\"Using passed in data loader for validation.\")\n",
    "\n",
    "    # Prepare for (multi-device) GPU training\n",
    "    device, device_ids = prepare_device(config['n_gpu'])\n",
    "    model = model.to(device)\n",
    "    if len(device_ids) > 1:\n",
    "        model = torch.nn.DataParallel(model, device_ids=device_ids)\n",
    "    model.eval()  # model should always be in eval() for editing\n",
    "\n",
    "    # Get function handles for loss and metrics\n",
    "    loss_fn = getattr(module_loss, config['loss'])\n",
    "    metric_fns = [getattr(module_metric, met) for met in config['metrics']]\n",
    "\n",
    "    # Prepare data for edit\n",
    "    key_path = config.config['editor']['key_image_path']\n",
    "    # key_image_paths = read_lists(key_image_path)\n",
    "    value_path = config.config['editor']['value_image_path']\n",
    "    # value_image_paths = read_lists(value_image_path)\n",
    "    mask_path = config.config['editor']['mask_path']\n",
    "    if mask_path == \"\":\n",
    "        mask_path = None\n",
    "\n",
    "    logger.info(\"Key images: {}\".format(key_path))\n",
    "    logger.info(\"Value images: {}\".format(value_path))\n",
    "    logger.info(\"Masks: {}\".format(mask_path))\n",
    "\n",
    "    edit_data = prepare_edit_data(\n",
    "        key_image_path=key_path,\n",
    "        value_image_path=value_path,\n",
    "        mask_path=mask_path,\n",
    "        image_size=(32, 32))\n",
    "    logger.info(\"Prepared data for editing\")\n",
    "\n",
    "    # Set up editor\n",
    "    editor_args = config.config['editor']['args']\n",
    "    editor_args['arch'] = config.config['arch']['args']['type']\n",
    "\n",
    "    editor = Editor(**editor_args)\n",
    "\n",
    "    if covariance_data_loader is None:\n",
    "        if 'covariance_dataset' in config.config and 'images' in config.config['covariance_dataset']:\n",
    "            # Always use the dummy val_data_loader for covariance calculation\n",
    "            covariance_image_paths = read_lists(config.config['covariance_dataset']['images'])\n",
    "            covariance_labels = read_lists(config.config['covariance_dataset']['labels'])\n",
    "\n",
    "            covariance_data_loader = torch.utils.data.DataLoader(\n",
    "                module_data.CINIC10Dataset(\n",
    "                    data_dir=\"\",\n",
    "                    image_paths=covariance_image_paths,\n",
    "                    labels=covariance_labels,\n",
    "                    return_paths=False,\n",
    "                    **dataset_args\n",
    "                ),\n",
    "                **data_loader_args\n",
    "            )\n",
    "            val_data_name = config.config['covariance_dataset']['name']\n",
    "\n",
    "            logger.info(\"Created dataloader for covariance matrix from {}\".format(config.config['covariance_dataset']['images']))\n",
    "        else:  # Use identity matrix\n",
    "            covariance_data_loader = None\n",
    "            val_data_name = \"identity\"\n",
    "            logger.info(\"No data loader for covariance matrix. Will use identity matrix\")\n",
    "    else:\n",
    "        val_data_name = config.config['covariance_dataset']['name']\n",
    "        logger.info(\"Using passed in covariance data loader.\")\n",
    "\n",
    "    # Create path for caching directory based on\n",
    "    #   (1) validation data dir\n",
    "    #   (2) context model -- architecture, layer number\n",
    "\n",
    "    model_arch = model.get_type()\n",
    "\n",
    "    cache_dir = os.path.join('cache', val_data_name, \"{}-{}\".format(model_arch, layernum))\n",
    "    logger.info(\"Looking for covariance matrix weights in {}\".format(cache_dir))\n",
    "    # Obtain original model weights\n",
    "    original_weights = model.get_target_weights()\n",
    "    # Perform edit\n",
    "    editor.edit(\n",
    "        edit_data=edit_data,\n",
    "        model=model,\n",
    "        val_data_loader=covariance_data_loader,\n",
    "        cache_dir=cache_dir)\n",
    "    \n",
    "    # Get edited weights\n",
    "    edited_weights = model.get_target_weights()\n",
    "    \n",
    "    # Calculate weight difference\n",
    "    weight_diff = edited_weights - original_weights\n",
    "\n",
    "\n",
    "    logger.info(\"All metrics and KNN results can be found in {}\".format(save_dir))\n",
    "    \n",
    "    return weight_diff\n"
   ]
  },
  {
   "cell_type": "code",
   "execution_count": 2,
   "metadata": {
    "scrolled": true,
    "tags": []
   },
   "outputs": [
    {
     "ename": "NameError",
     "evalue": "name 'class_list' is not defined",
     "output_type": "error",
     "traceback": [
      "\u001b[0;31m---------------------------------------------------------------------------\u001b[0m",
      "\u001b[0;31mNameError\u001b[0m                                 Traceback (most recent call last)",
      "Cell \u001b[0;32mIn [2], line 2\u001b[0m\n\u001b[1;32m      1\u001b[0m weight_differences \u001b[38;5;241m=\u001b[39m []\n\u001b[0;32m----> 2\u001b[0m \u001b[38;5;28;01mfor\u001b[39;00m target_class_idx, target_class_name \u001b[38;5;129;01min\u001b[39;00m \u001b[38;5;28menumerate\u001b[39m(\u001b[43mclass_list\u001b[49m):\n\u001b[1;32m      3\u001b[0m     \u001b[38;5;66;03m# if target_class_idx != 1: \u001b[39;00m\n\u001b[1;32m      4\u001b[0m     \u001b[38;5;66;03m#     continue\u001b[39;00m\n\u001b[1;32m      5\u001b[0m     \u001b[38;5;66;03m# Create save directories and logging paths\u001b[39;00m\n\u001b[1;32m      6\u001b[0m     save_root \u001b[38;5;241m=\u001b[39m config_dict[\u001b[38;5;124m'\u001b[39m\u001b[38;5;124mtrainer\u001b[39m\u001b[38;5;124m'\u001b[39m][\u001b[38;5;124m'\u001b[39m\u001b[38;5;124msave_dir\u001b[39m\u001b[38;5;124m'\u001b[39m]\n\u001b[1;32m      7\u001b[0m     save_trials_path \u001b[38;5;241m=\u001b[39m os\u001b[38;5;241m.\u001b[39mpath\u001b[38;5;241m.\u001b[39mjoin(save_root, config_dict[\u001b[38;5;124m'\u001b[39m\u001b[38;5;124mname\u001b[39m\u001b[38;5;124m'\u001b[39m], \u001b[38;5;124m'\u001b[39m\u001b[38;5;132;01m{}\u001b[39;00m\u001b[38;5;124m_\u001b[39m\u001b[38;5;132;01m{}\u001b[39;00m\u001b[38;5;124m'\u001b[39m\u001b[38;5;241m.\u001b[39mformat(target_class_name, n_select), timestamp, \u001b[38;5;124m'\u001b[39m\u001b[38;5;124mtrial_paths.txt\u001b[39m\u001b[38;5;124m'\u001b[39m)\n",
      "\u001b[0;31mNameError\u001b[0m: name 'class_list' is not defined"
     ]
    }
   ],
   "source": [
    "weight_differences = []\n",
    "for target_class_idx, target_class_name in enumerate(class_list):\n",
    "    # if target_class_idx != 1: \n",
    "    #     continue\n",
    "    # Create save directories and logging paths\n",
    "    save_root = config_dict['trainer']['save_dir']\n",
    "    save_trials_path = os.path.join(save_root, config_dict['name'], '{}_{}'.format(target_class_name, n_select), timestamp, 'trial_paths.txt')\n",
    "    progress_report_path = os.path.join(save_root, config_dict['name'], '{}_{}'.format(target_class_name, n_select), timestamp, 'progress_report.txt')\n",
    "    informal_log(\"Current target class: {}\".format(target_class_name), progress_report_path)\n",
    "    \n",
    "    \n",
    "    if os.path.exists(save_trials_path):\n",
    "        print(\"Path {} already exists. Overwriting.\".format(save_trials_path))\n",
    "    else:\n",
    "        if os.path.exists(progress_report_path):\n",
    "            os.remove(progress_report_path)\n",
    "        print(\"Printing progress reports to {}\".format(progress_report_path))\n",
    "        informal_log(\"Saving path to directories for each trial to {}\".format(save_trials_path), progress_report_path)\n",
    "    \n",
    "    # Obtain paths for keys and values\n",
    "    paths_dir = os.path.join('paths', 'edits', 'semantics', '{}_{}'.format(target_class_name, n_select), paths_timestamp)\n",
    "    key_image_paths_path = os.path.join(paths_dir, 'key_images_{}.txt'.format(sort_type))\n",
    "    key_image_paths = read_lists(key_image_paths_path)\n",
    "\n",
    "    value_image_paths_path = os.path.join(paths_dir, 'value_images_{}.txt'.format(sort_type))\n",
    "    value_image_paths = read_lists(value_image_paths_path)\n",
    "    n_trials = len(value_image_paths)\n",
    "    assert len(key_image_paths) == n_trials\n",
    "\n",
    "    non_existent_key_paths = ensure_files(key_image_paths)\n",
    "    non_existent_value_paths = ensure_files(value_image_paths)\n",
    "    \n",
    "    if len(non_existent_key_paths) > 0:\n",
    "        raise ValueError(\"Following paths are non existent: {}\".format(non_existent_key_paths))\n",
    "\n",
    "    if len(non_existent_value_paths) > 0:\n",
    "        raise ValueError(\"Following paths are non existent: {}\".format(non_existent_value_paths))\n",
    "        \n",
    "    informal_log(\"Key image paths stored at {}\".format(key_image_paths_path), progress_report_path)\n",
    "    informal_log(\"Value image paths stored at {}\".format(value_image_paths_path), progress_report_path)\n",
    "    \n",
    "    # Create list to store weight differences\n",
    "    # weight_differences = []\n",
    "    \n",
    "    # Run edit for each key and value pair\n",
    "    for idx, (key_path, value_path) in enumerate(zip(key_image_paths, value_image_paths)):\n",
    "        if idx == 5:\n",
    "            break\n",
    "        split = os.path.basename(os.path.dirname(os.path.dirname(key_path)))\n",
    "        class_name = os.path.basename(os.path.dirname(key_path))\n",
    "        file_name = os.path.basename(key_path).split(\".\")[0]\n",
    "        key_image_id = \"{}-{}-{}\".format(class_name, split, file_name)\n",
    "        # Print Progress\n",
    "        informal_log(\"({}) Starting Trial {}/{}...\".format(datetime.now().strftime(r'%m%d_%H%M%S'), idx + 1, n_trials), progress_report_path)\n",
    "\n",
    "        # Create run id \n",
    "        value_image_id = os.path.splitext(os.path.basename(value_path))[0]\n",
    "        run_id = os.path.join('{}_{}'.format(target_class_name, n_select), timestamp, 'results', key_image_id, value_image_id)\n",
    "        informal_log(\"Current run_id: {}\".format(run_id), progress_report_path)\n",
    "\n",
    "        # Read config file as json and make updates to key and value paths\n",
    "        config_dict = read_json(config_path)\n",
    "        config_dict['editor'].update({\n",
    "            'key_image_path': key_path,\n",
    "            'value_image_path': value_path\n",
    "        })\n",
    "\n",
    "        # Create config object\n",
    "        config = ConfigParser(config_dict, run_id=run_id)\n",
    "\n",
    "        # Log the current trial path\n",
    "        informal_log(os.path.dirname(config.save_dir), save_trials_path)\n",
    "\n",
    "        informal_log(\"Calling edit()...\", progress_report_path)\n",
    "\n",
    "        weight_differences.append(edit_return_weight_diff(\n",
    "            config=config,\n",
    "            val_paths_data_loader=val_paths_data_loader,\n",
    "            covariance_data_loader=covariance_data_loader,\n",
    "            do_analyze_knn=analyze_in_edit))\n",
    "\n",
    "        # Print progress\n",
    "        informal_log(\"Finished trial {}/{}. Results saved to {}\".format(idx + 1, n_trials, os.path.dirname(config.save_dir)),\n",
    "                    progress_report_path)\n",
    "\n"
   ]
  },
  {
   "cell_type": "code",
   "execution_count": null,
   "metadata": {},
   "outputs": [],
   "source": [
    "# Create histogram of weights\n",
    "diff_array = torch.stack(weight_differences, dim=0)\n",
    "data = torch.flatten(diff_array)\n"
   ]
  },
  {
   "cell_type": "code",
   "execution_count": 65,
   "metadata": {},
   "outputs": [
    {
     "data": {
      "image/png": "[encoded data removed]",
      "text/plain": [
       "<Figure size 640x480 with 1 Axes>"
      ]
     },
     "metadata": {},
     "output_type": "display_data"
    }
   ],
   "source": [
    "histogram(\n",
    "    data=data.detach().cpu().numpy(),\n",
    "    n_bins=100,\n",
    "    xlabel='Delta Weight',\n",
    "    ylabel='counts')"
   ]
  },
  {
   "cell_type": "markdown",
   "metadata": {},
   "source": [
    "### Perform Random Model Editing"
   ]
  },
  {
   "cell_type": "code",
   "execution_count": 13,
   "metadata": {},
   "outputs": [],
   "source": [
    "# fix random seeds for reproducibility\n",
    "# SEED = 123\n",
    "# torch.manual_seed(SEED)\n",
    "# torch.backends.cudnn.deterministic = True\n",
    "# torch.backends.cudnn.benchmark = False\n",
    "# np.random.seed(SEED)\n",
    "\n",
    "# Set variables\n",
    "n_trials = 1500\n",
    "save_root = config_dict['trainer']['save_dir']\n",
    "save_trials_path = os.path.join(save_root, config_dict['name'], timestamp, 'trial_paths.txt')\n",
    "progress_report_path = os.path.join(save_root, config_dict['name'], timestamp, 'progress_report.txt')"
   ]
  },
  {
   "cell_type": "code",
   "execution_count": 14,
   "metadata": {},
   "outputs": [
    {
     "name": "stdout",
     "output_type": "stream",
     "text": [
      "Printing progress reports to saved/edit/experiments/random_edits/CINIC10_ImageNet-VGG_16/0201_130616/progress_report.txt\n",
      "Saving path to directories for each trial to saved/edit/experiments/random_edits/CINIC10_ImageNet-VGG_16/0201_130616/trial_paths.txt\n"
     ]
    }
   ],
   "source": [
    "# Check if path to trial already exists\n",
    "if os.path.exists(save_trials_path):\n",
    "        print(\"Path {} already exists. Overwriting.\".format(save_trials_path))\n",
    "else:\n",
    "    if os.path.exists(progress_report_path):\n",
    "        os.remove(progress_report_path)\n",
    "    print(\"Printing progress reports to {}\".format(progress_report_path))\n",
    "    informal_log(\"Saving path to directories for each trial to {}\".format(save_trials_path), progress_report_path)"
   ]
  },
  {
   "cell_type": "code",
   "execution_count": null,
   "metadata": {
    "scrolled": true,
    "tags": []
   },
   "outputs": [],
   "source": [
    "weight_differences = []\n",
    "# for target_class_idx, target_class_name in enumerate(class_list):\n",
    "for iter_idx in range(n_trials):\n",
    "    informal_log(\"Iter {}/{}\".format(iter_idx+1, n_trials), progress_report_path)\n",
    "    \n",
    "    run_id = os.path.join(timestamp, 'results', 'iter_{}'.format(iter_idx))\n",
    "    informal_log(\"Current run_id: {}\".format(run_id), progress_report_path)\n",
    "\n",
    "    # Read config file as json and make updates to key and value paths\n",
    "    config_dict = read_json(config_path)\n",
    "    # config_dict['editor'].update({\n",
    "    #     'key_image_path': key_path,\n",
    "    #     'value_image_path': value_path\n",
    "    # })\n",
    "\n",
    "    # Create config object\n",
    "    config = ConfigParser(config_dict, run_id=run_id)\n",
    "\n",
    "    # Log the current trial path\n",
    "    informal_log(os.path.dirname(config.save_dir), save_trials_path)\n",
    "\n",
    "    informal_log(\"Calling edit()...\", progress_report_path)\n",
    "\n",
    "    edit(\n",
    "        config=config,\n",
    "        val_paths_data_loader=val_paths_data_loader,\n",
    "        covariance_data_loader=covariance_data_loader,\n",
    "        do_analyze_knn=analyze_in_edit)\n",
    "\n",
    "    # Print progress\n",
    "    informal_log(\"Finished trial {}/{}. Results saved to {}\".format(iter_idx + 1, n_trials, os.path.dirname(config.save_dir)),\n",
    "                progress_report_path)\n",
    "\n"
   ]
  },
  {
   "cell_type": "markdown",
   "metadata": {},
   "source": [
    "### Analyze the results"
   ]
  },
  {
   "cell_type": "code",
   "execution_count": 25,
   "metadata": {},
   "outputs": [
    {
     "ename": "NameError",
     "evalue": "name 'ensure_dir' is not defined",
     "output_type": "error",
     "traceback": [
      "\u001b[0;31m---------------------------------------------------------------------------\u001b[0m",
      "\u001b[0;31mNameError\u001b[0m                                 Traceback (most recent call last)",
      "Cell \u001b[0;32mIn [25], line 5\u001b[0m\n\u001b[1;32m      3\u001b[0m csv_path \u001b[38;5;241m=\u001b[39m os\u001b[38;5;241m.\u001b[39mpath\u001b[38;5;241m.\u001b[39mjoin(os\u001b[38;5;241m.\u001b[39mpath\u001b[38;5;241m.\u001b[39mdirname(save_trials_path), \u001b[38;5;124m'\u001b[39m\u001b[38;5;124mresults_table.csv\u001b[39m\u001b[38;5;124m'\u001b[39m)\n\u001b[1;32m      4\u001b[0m save_visualizations_dir \u001b[38;5;241m=\u001b[39m os\u001b[38;5;241m.\u001b[39mpath\u001b[38;5;241m.\u001b[39mjoin(os\u001b[38;5;241m.\u001b[39mpath\u001b[38;5;241m.\u001b[39mdirname(save_trials_path), \u001b[38;5;124m'\u001b[39m\u001b[38;5;124mgraphs\u001b[39m\u001b[38;5;124m'\u001b[39m)\n\u001b[0;32m----> 5\u001b[0m \u001b[43mensure_dir\u001b[49m(save_visualizations)\n\u001b[1;32m      6\u001b[0m df \u001b[38;5;241m=\u001b[39m load_and_preprocess_csv(\n\u001b[1;32m      7\u001b[0m     csv_path\u001b[38;5;241m=\u001b[39mcsv_path,\n\u001b[1;32m      8\u001b[0m     drop_duplicates\u001b[38;5;241m=\u001b[39m[\u001b[38;5;124m'\u001b[39m\u001b[38;5;124mID\u001b[39m\u001b[38;5;124m'\u001b[39m])\n\u001b[1;32m      9\u001b[0m \u001b[38;5;28mprint\u001b[39m(\u001b[38;5;124m\"\u001b[39m\u001b[38;5;132;01m{}\u001b[39;00m\u001b[38;5;124m rows in data frame\u001b[39m\u001b[38;5;124m\"\u001b[39m\u001b[38;5;241m.\u001b[39mformat(\u001b[38;5;28mlen\u001b[39m(df)))\n",
      "\u001b[0;31mNameError\u001b[0m: name 'ensure_dir' is not defined"
     ]
    }
   ],
   "source": [
    "# Before calling this, call python src/utils/results_to_csv.py with the trial_paths_path\n",
    "\n",
    "csv_path = os.path.join(os.path.dirname(save_trials_path), 'results_table.csv')\n",
    "save_visualizations_dir = os.path.join(os.path.dirname(save_trials_path), 'graphs')\n",
    "ensure_dir(save_visualizations)\n",
    "df = load_and_preprocess_csv(\n",
    "    csv_path=csv_path,\n",
    "    drop_duplicates=['ID'])\n",
    "print(\"{} rows in data frame\".format(len(df)))"
   ]
  },
  {
   "cell_type": "code",
   "execution_count": 27,
   "metadata": {},
   "outputs": [
    {
     "data": {
      "image/png": "[encoded data removed]",
      "text/plain": [
       "<Figure size 640x480 with 1 Axes>"
      ]
     },
     "metadata": {},
     "output_type": "display_data"
    },
    {
     "data": {
      "image/png": "[encoded data removed]",
      "text/plain": [
       "<Figure size 640x480 with 1 Axes>"
      ]
     },
     "metadata": {},
     "output_type": "display_data"
    },
    {
     "data": {
      "image/png": "[encoded data removed]",
      "text/plain": [
       "<Figure size 640x480 with 1 Axes>"
      ]
     },
     "metadata": {},
     "output_type": "display_data"
    },
    {
     "data": {
      "image/png": "[encoded data removed]",
      "text/plain": [
       "<Figure size 640x480 with 1 Axes>"
      ]
     },
     "metadata": {},
     "output_type": "display_data"
    }
   ],
   "source": [
    "metrics = [['{} Accuracy', '{} Mean Precision', '{} Mean Recall', '{} Mean F1']]\n",
    "\n",
    "summary_histogram(\n",
    "    df_=df,\n",
    "    metrics=metrics,\n",
    "    n_bins=25)\n",
    "    "
   ]
  },
  {
   "cell_type": "code",
   "execution_count": null,
   "metadata": {},
   "outputs": [],
   "source": []
  }
 ],
 "metadata": {
  "kernelspec": {
   "display_name": "editing",
   "language": "python",
   "name": "editing"
  },
  "language_info": {
   "codemirror_mode": {
    "name": "ipython",
    "version": 3
   },
   "file_extension": ".py",
   "mimetype": "text/x-python",
   "name": "python",
   "nbconvert_exporter": "python",
   "pygments_lexer": "ipython3",
   "version": "3.8.13"
  }
 },
 "nbformat": 4,
 "nbformat_minor": 4
}
