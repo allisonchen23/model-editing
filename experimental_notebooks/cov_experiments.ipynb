{
 "cells": [
  {
   "cell_type": "markdown",
   "metadata": {},
   "source": [
    "## Provide list of paths for edits and run trials -> (maybe analyze results and add to CSV)"
   ]
  },
  {
   "cell_type": "code",
   "execution_count": 1,
   "metadata": {},
   "outputs": [],
   "source": [
    "# General imports\n",
    "import torch\n",
    "import numpy as np\n",
    "import os, sys\n",
    "import json\n",
    "from tqdm import tqdm\n",
    "from datetime import datetime\n",
    "import pandas as pd"
   ]
  },
  {
   "cell_type": "code",
   "execution_count": 2,
   "metadata": {},
   "outputs": [],
   "source": [
    "# Local imports\n",
    "sys.path.insert(0, 'src')\n",
    "from utils import read_json, read_lists, informal_log, list_to_dict\n",
    "from utils.model_utils import prepare_device\n",
    "from parse_config import ConfigParser\n",
    "# from data_loader import data_loaders\n",
    "import datasets.datasets as module_data\n",
    "import model.model as module_arch\n",
    "from utils.knn_utils import load_and_analyze_knn\n",
    "from utils.analysis_utils import combine_results\n",
    "from edit_knn import main as edit"
   ]
  },
  {
   "cell_type": "code",
   "execution_count": 3,
   "metadata": {},
   "outputs": [],
   "source": [
    "# Obtain timestamp\n",
    "timestamp = datetime.now().strftime(r'%m%d_%H%M%S')"
   ]
  },
  {
   "cell_type": "code",
   "execution_count": 4,
   "metadata": {},
   "outputs": [
    {
     "name": "stdout",
     "output_type": "stream",
     "text": [
      "First key image path: data/cinic-10-imagenet/train/dog/n02114712_211.png\n",
      "First value image path: saved/segmentations/dog/dog-train-n02114712_211/modified_images/felzenszwalb_gaussian_0.png\n"
     ]
    }
   ],
   "source": [
    "# Define constants, paths\n",
    "config_path = 'configs/copies/edit_experiments/cov_identity_trials.json'\n",
    "class_list_path = 'metadata/cinic-10/class_names.txt'\n",
    "# key_image_id = 'dog-train-n02114712_211'\n",
    "target_class_name = 'dog'\n",
    "\n",
    "analyze_in_edit = True\n",
    "# paths_dir = os.path.join('paths', 'edits', key_image_id)\n",
    "paths_dir = os.path.join('paths', 'edits', target_class_name, '0113_155402')\n",
    "\n",
    "key_image_paths = read_lists(os.path.join(paths_dir, 'key_images.txt'))\n",
    "value_image_paths = read_lists(os.path.join(paths_dir, 'value_images.txt'))\n",
    "n_trials = len(value_image_paths)\n",
    "assert len(key_image_paths) == n_trials\n",
    "\n",
    "print(\"First key image path: {}\".format(key_image_paths[0]))\n",
    "print(\"First value image path: {}\".format(value_image_paths[0]))"
   ]
  },
  {
   "cell_type": "code",
   "execution_count": 5,
   "metadata": {},
   "outputs": [],
   "source": [
    "# Load config file\n",
    "config_dict = read_json(config_path)\n",
    "# Load class list and obtain target class idx\n",
    "class_list = read_lists(class_list_path)\n",
    "class_idx_dict = list_to_dict(class_list)\n",
    "target_class_idx = class_idx_dict[target_class_name]\n",
    "\n",
    "# Set K\n",
    "K = config_dict['editor']['K']\n",
    "\n",
    "device, device_ids = prepare_device(config_dict['n_gpu'])"
   ]
  },
  {
   "cell_type": "code",
   "execution_count": 6,
   "metadata": {},
   "outputs": [],
   "source": [
    "# Load datasets\n",
    "data_loader_args = dict(config_dict[\"data_loader\"][\"args\"])\n",
    "dataset_args = dict(config_dict[\"dataset_args\"])\n",
    "\n",
    "# Create validation data loader\n",
    "val_image_paths = read_lists(config_dict['dataset_paths']['valid_images'])\n",
    "val_labels = read_lists(config_dict['dataset_paths']['valid_labels'])\n",
    "val_paths_data_loader = torch.utils.data.DataLoader(\n",
    "    module_data.CINIC10Dataset(\n",
    "        data_dir=\"\",\n",
    "        image_paths=val_image_paths,\n",
    "        labels=val_labels,\n",
    "        return_paths=True,\n",
    "        **dataset_args\n",
    "    ),\n",
    "    **data_loader_args\n",
    ")\n",
    "\n",
    "# Create data loader for covariance matrix\n",
    "covariance_image_paths = read_lists(config_dict['covariance_dataset']['images'])\n",
    "covariance_labels = read_lists(config_dict['covariance_dataset']['labels'])\n",
    "\n",
    "covariance_data_loader = torch.utils.data.DataLoader(\n",
    "    module_data.CINIC10Dataset(\n",
    "        data_dir=\"\",\n",
    "        image_paths=covariance_image_paths,\n",
    "        labels=covariance_labels,\n",
    "        **dataset_args\n",
    "    ),\n",
    "    **data_loader_args\n",
    ")"
   ]
  },
  {
   "cell_type": "markdown",
   "metadata": {},
   "source": [
    "### Create log and save paths"
   ]
  },
  {
   "cell_type": "code",
   "execution_count": 7,
   "metadata": {},
   "outputs": [
    {
     "name": "stdout",
     "output_type": "stream",
     "text": [
      "Saving path to directories for each trial to saved/edit/trials/identity_cov/CINIC10_ImageNet-VGG_16/0117_201313/trial_paths.txt\n",
      "Printing progress reports to saved/edit/trials/identity_cov/CINIC10_ImageNet-VGG_16/0117_201313/progress_report.txt\n"
     ]
    }
   ],
   "source": [
    "# create log path to store the paths to each trial\n",
    "save_root = config_dict['trainer']['save_dir']\n",
    "save_trials_path = os.path.join(save_root, config_dict['name'], timestamp, 'trial_paths.txt')\n",
    "if os.path.exists(save_trials_path):\n",
    "    # os.remove(save_trials_path)\n",
    "    print(\"Path {} already exists. Aborting.\".format(save_trials_path))\n",
    "else:\n",
    "    progress_report_path = os.path.join(save_root, config_dict['name'], timestamp, 'progress_report.txt')\n",
    "    if os.path.exists(progress_report_path):\n",
    "        os.remove(progress_report_path)\n",
    "    print(\"Saving path to directories for each trial to {}\".format(save_trials_path))\n",
    "    print(\"Printing progress reports to {}\".format(progress_report_path))"
   ]
  },
  {
   "cell_type": "markdown",
   "metadata": {},
   "source": [
    "### Ensure all paths for keys and values exist"
   ]
  },
  {
   "cell_type": "code",
   "execution_count": 8,
   "metadata": {},
   "outputs": [],
   "source": [
    "non_existent_key_paths = []\n",
    "non_existent_value_paths = []\n",
    "for key_path, value_path in zip(key_image_paths, value_image_paths):\n",
    "    if not os.path.exists(key_path):\n",
    "        non_existent_key_paths.append(key_path)\n",
    "    if not os.path.exists(value_path):\n",
    "        non_existent_value_paths.append(value_path)\n",
    "\n",
    "if len(non_existent_key_paths) > 0:\n",
    "    raise ValueError(\"Following paths are non existent: {}\".format(non_existent_key_paths))\n",
    "    \n",
    "if len(non_existent_value_paths) > 0:\n",
    "    raise ValueError(\"Following paths are non existent: {}\".format(non_existent_value_paths))"
   ]
  },
  {
   "cell_type": "markdown",
   "metadata": {},
   "source": [
    "## Run edit for each modified image"
   ]
  },
  {
   "cell_type": "code",
   "execution_count": 11,
   "metadata": {
    "scrolled": true,
    "tags": []
   },
   "outputs": [
    {
     "name": "stdout",
     "output_type": "stream",
     "text": [
      "(0117_201637) Starting Trial 1/37...\n",
      "Current run_id: 0117_201313/dog-train-n02114712_211/felzenszwalb_gaussian_0\n",
      "saved/edit/trials/identity_cov/CINIC10_ImageNet-VGG_16/0117_201313/dog-train-n02114712_211/felzenszwalb_gaussian_0\n",
      "Calling edit()...\n",
      "Created ModelWrapperSanturkar model with 33646666 trainable parameters\n",
      "Restored weights from external_code/PyTorch_CIFAR10/cifar10_models/state_dicts/vgg16_bn.pt\n",
      "Using passed in data loader for validation.\n",
      "Key images: data/cinic-10-imagenet/train/dog/n02114712_211.png\n",
      "Value images: saved/segmentations/dog/dog-train-n02114712_211/modified_images/felzenszwalb_gaussian_0.png\n",
      "Masks: None\n",
      "Prepared data for editing\n",
      "Performing pre-edit metric calculations on validation set.\n"
     ]
    },
    {
     "name": "stderr",
     "output_type": "stream",
     "text": [
      "100%|██████████████████████████████████████████| 274/274 [00:07<00:00, 34.46it/s]"
     ]
    },
    {
     "name": "stdout",
     "output_type": "stream",
     "text": [
      "Pre-edit metrics: {'TP': array([6142, 5382, 5203, 3842, 4270, 2990, 5659, 5136, 4820, 4679]), 'TN': array([60115, 61110, 59441, 59902, 60157, 61756, 61050, 61747, 61643,\n",
      "       61202]), 'FPs': array([2885, 1890, 3559, 3098, 2843, 1244, 1950, 1253, 1357, 1798]), 'FNs': array([ 858, 1618, 1797, 3158, 2730, 4010, 1341, 1864, 2180, 2321]), 'accuracy': 0.6874714285714286, 'per_class_accuracy': array([0.94652857, 0.94988571, 0.92348571, 0.91062857, 0.92038571,\n",
      "       0.92494286, 0.95298571, 0.95547143, 0.94947143, 0.94115714]), 'per_class_accuracy_mean': 0.9374942857142857, 'precision': array([0.68040323, 0.74009901, 0.5938142 , 0.55360231, 0.60030929,\n",
      "       0.706188  , 0.74372454, 0.80388167, 0.78031407, 0.72240235]), 'precision_mean': 0.6924738665961387, 'recall': array([0.87742857, 0.76885714, 0.74328571, 0.54885714, 0.61      ,\n",
      "       0.42714286, 0.80842857, 0.73371429, 0.68857143, 0.66842857]), 'recall_mean': 0.6874714285714286, 'f1': array([0.7664566 , 0.75420404, 0.66019541, 0.55121951, 0.60511585,\n",
      "       0.53231262, 0.77472791, 0.76719695, 0.73157775, 0.69436818]), 'f1_mean': 0.6837374824369241}\n",
      "Saved pre-edit metrics saved/edit/trials/identity_cov/CINIC10_ImageNet-VGG_16/0117_201313/dog-train-n02114712_211/felzenszwalb_gaussian_0/models/pre_edit_metrics.pth\n",
      "Using passed in covariance data loader.\n",
      "Looking for covariance matrix weights in cache/cinic-10-imagenet-dummy/vgg16_bn-12\n"
     ]
    },
    {
     "name": "stderr",
     "output_type": "stream",
     "text": [
      "\n"
     ]
    },
    {
     "name": "stdout",
     "output_type": "stream",
     "text": [
      "Found precomputed cov matrices, returning...\n",
      "tensor([[ 1.0000e+00, -1.8504e-05, -3.8476e-05, -1.9159e-05, -4.0293e-05,\n",
      "         -3.1667e-05, -2.4137e-05, -2.9244e-05, -4.0682e-05, -2.2710e-05],\n",
      "        [-1.8504e-05,  1.0000e+00, -2.8878e-05, -1.2513e-05, -2.8300e-05,\n",
      "         -2.1209e-05, -1.7897e-05, -2.0580e-05, -2.4006e-05, -1.4785e-05],\n",
      "        [-3.8476e-05, -2.8878e-05,  1.0000e+00, -2.8741e-05, -6.1447e-05,\n",
      "         -4.6148e-05, -3.9829e-05, -4.5861e-05, -4.7019e-05, -3.5061e-05],\n",
      "        [-1.9159e-05, -1.2513e-05, -2.8741e-05,  1.0000e+00, -2.7411e-05,\n",
      "         -2.1258e-05, -1.7047e-05, -1.9973e-05, -2.4082e-05, -1.5679e-05],\n",
      "        [-4.0293e-05, -2.8300e-05, -6.1447e-05, -2.7411e-05,  1.0000e+00,\n",
      "         -4.6443e-05, -5.1575e-05, -4.8059e-05, -5.6685e-05, -3.6807e-05],\n",
      "        [-3.1667e-05, -2.1209e-05, -4.6148e-05, -2.1258e-05, -4.6443e-05,\n",
      "          1.0000e+00, -2.6984e-05, -3.3795e-05, -4.0129e-05, -2.3401e-05],\n",
      "        [-2.4137e-05, -1.7897e-05, -3.9829e-05, -1.7047e-05, -5.1575e-05,\n",
      "         -2.6984e-05,  1.0000e+00, -2.8577e-05, -3.1210e-05, -3.0226e-05],\n",
      "        [-2.9244e-05, -2.0580e-05, -4.5861e-05, -1.9973e-05, -4.8059e-05,\n",
      "         -3.3795e-05, -2.8577e-05,  1.0000e+00, -3.8494e-05, -2.2827e-05],\n",
      "        [-4.0682e-05, -2.4006e-05, -4.7019e-05, -2.4082e-05, -5.6685e-05,\n",
      "         -4.0129e-05, -3.1210e-05, -3.8494e-05,  1.0000e+00, -2.6560e-05],\n",
      "        [-2.2710e-05, -1.4785e-05, -3.5061e-05, -1.5679e-05, -3.6807e-05,\n",
      "         -2.3401e-05, -3.0226e-05, -2.2827e-05, -2.6560e-05,  1.0000e+00]],\n",
      "       device='cuda:0')\n"
     ]
    },
    {
     "name": "stderr",
     "output_type": "stream",
     "text": [
      "tensor(0.0044, device='cuda:0', grad_fn=<DivBackward0>): 100%|█| 40000/40000 [00:"
     ]
    },
    {
     "name": "stdout",
     "output_type": "stream",
     "text": [
      "Loss (orig, final): 0.06699195504188538 0.004384190775454044\n",
      "L2 norm of weight change: 0.23243588209152222\n",
      "Performing post-edit metric calculations on validation set.\n"
     ]
    },
    {
     "name": "stderr",
     "output_type": "stream",
     "text": [
      "\n",
      "100%|██████████████████████████████████████████| 274/274 [00:07<00:00, 37.03it/s]\n"
     ]
    },
    {
     "name": "stdout",
     "output_type": "stream",
     "text": [
      "Post-edit metrics: {'TP': array([6121, 5282, 5387, 4000, 4311, 3114, 4979, 5173, 4893, 4618]), 'TN': array([60130, 61313, 58643, 59548, 59907, 61510, 62194, 61671, 61531,\n",
      "       61431]), 'FPs': array([2870, 1687, 4357, 3452, 3093, 1490,  806, 1329, 1469, 1569]), 'FNs': array([ 879, 1718, 1613, 3000, 2689, 3886, 2021, 1827, 2107, 2382]), 'accuracy': 0.6839714285714286, 'per_class_accuracy': array([0.94644286, 0.95135714, 0.91471429, 0.90782857, 0.9174    ,\n",
      "       0.9232    , 0.95961429, 0.95491429, 0.94891429, 0.94355714]), 'per_class_accuracy_mean': 0.9367942857142857, 'precision': array([0.6807919 , 0.75792797, 0.55285304, 0.53676865, 0.58225284,\n",
      "       0.67636838, 0.86067416, 0.79560135, 0.76909777, 0.74640375]), 'precision_mean': 0.695873980036039, 'recall': array([0.87442857, 0.75457143, 0.76957143, 0.57142857, 0.61585714,\n",
      "       0.44485714, 0.71128571, 0.739     , 0.699     , 0.65971429]), 'recall_mean': 0.6839714285714285, 'f1': array([0.76555563, 0.75624597, 0.64345437, 0.5535566 , 0.59858373,\n",
      "       0.53671148, 0.7788815 , 0.76625685, 0.73237539, 0.70038674]), 'f1_mean': 0.6832008266709371}\n",
      "Saved post-edit metrics saved/edit/trials/identity_cov/CINIC10_ImageNet-VGG_16/0117_201313/dog-train-n02114712_211/felzenszwalb_gaussian_0/models/post_edit_metrics.pth\n",
      "All metrics and KNN results can be found in saved/edit/trials/identity_cov/CINIC10_ImageNet-VGG_16/0117_201313/dog-train-n02114712_211/felzenszwalb_gaussian_0/models\n",
      "saved/edit/trials/identity_cov/CINIC10_ImageNet-VGG_16/0117_201313/dog-train-n02114712_211/felzenszwalb_gaussian_0/identity\n",
      "Calling edit()...\n",
      "Created ModelWrapperSanturkar model with 33646666 trainable parameters\n",
      "Restored weights from external_code/PyTorch_CIFAR10/cifar10_models/state_dicts/vgg16_bn.pt\n",
      "Using passed in data loader for validation.\n",
      "Key images: data/cinic-10-imagenet/train/dog/n02114712_211.png\n",
      "Value images: saved/segmentations/dog/dog-train-n02114712_211/modified_images/felzenszwalb_gaussian_0.png\n",
      "Masks: None\n",
      "Prepared data for editing\n",
      "Performing pre-edit metric calculations on validation set.\n"
     ]
    },
    {
     "name": "stderr",
     "output_type": "stream",
     "text": [
      "100%|██████████████████████████████████████████| 274/274 [00:08<00:00, 32.51it/s]"
     ]
    },
    {
     "name": "stdout",
     "output_type": "stream",
     "text": [
      "Pre-edit metrics: {'TP': array([6142, 5382, 5203, 3842, 4270, 2990, 5659, 5136, 4820, 4679]), 'TN': array([60115, 61110, 59441, 59902, 60157, 61756, 61050, 61747, 61643,\n",
      "       61202]), 'FPs': array([2885, 1890, 3559, 3098, 2843, 1244, 1950, 1253, 1357, 1798]), 'FNs': array([ 858, 1618, 1797, 3158, 2730, 4010, 1341, 1864, 2180, 2321]), 'accuracy': 0.6874714285714286, 'per_class_accuracy': array([0.94652857, 0.94988571, 0.92348571, 0.91062857, 0.92038571,\n",
      "       0.92494286, 0.95298571, 0.95547143, 0.94947143, 0.94115714]), 'per_class_accuracy_mean': 0.9374942857142857, 'precision': array([0.68040323, 0.74009901, 0.5938142 , 0.55360231, 0.60030929,\n",
      "       0.706188  , 0.74372454, 0.80388167, 0.78031407, 0.72240235]), 'precision_mean': 0.6924738665961387, 'recall': array([0.87742857, 0.76885714, 0.74328571, 0.54885714, 0.61      ,\n",
      "       0.42714286, 0.80842857, 0.73371429, 0.68857143, 0.66842857]), 'recall_mean': 0.6874714285714286, 'f1': array([0.7664566 , 0.75420404, 0.66019541, 0.55121951, 0.60511585,\n",
      "       0.53231262, 0.77472791, 0.76719695, 0.73157775, 0.69436818]), 'f1_mean': 0.6837374824369241}\n",
      "Saved pre-edit metrics saved/edit/trials/identity_cov/CINIC10_ImageNet-VGG_16/0117_201313/dog-train-n02114712_211/felzenszwalb_gaussian_0/identity/models/pre_edit_metrics.pth\n",
      "No data loader for covariance matrix. Will use identity matrix\n",
      "Looking for covariance matrix weights in cache/identity/vgg16_bn-12\n"
     ]
    },
    {
     "name": "stderr",
     "output_type": "stream",
     "text": [
      "\n"
     ]
    },
    {
     "name": "stdout",
     "output_type": "stream",
     "text": [
      "Found precomputed cov matrices, returning...\n",
      "tensor([[1., 0., 0., 0., 0., 0., 0., 0., 0., 0.],\n",
      "        [0., 1., 0., 0., 0., 0., 0., 0., 0., 0.],\n",
      "        [0., 0., 1., 0., 0., 0., 0., 0., 0., 0.],\n",
      "        [0., 0., 0., 1., 0., 0., 0., 0., 0., 0.],\n",
      "        [0., 0., 0., 0., 1., 0., 0., 0., 0., 0.],\n",
      "        [0., 0., 0., 0., 0., 1., 0., 0., 0., 0.],\n",
      "        [0., 0., 0., 0., 0., 0., 1., 0., 0., 0.],\n",
      "        [0., 0., 0., 0., 0., 0., 0., 1., 0., 0.],\n",
      "        [0., 0., 0., 0., 0., 0., 0., 0., 1., 0.],\n",
      "        [0., 0., 0., 0., 0., 0., 0., 0., 0., 1.]], device='cuda:0')\n"
     ]
    },
    {
     "name": "stderr",
     "output_type": "stream",
     "text": [
      "tensor(0.0044, device='cuda:0', grad_fn=<DivBackward0>): 100%|█| 40000/40000 [00:"
     ]
    },
    {
     "name": "stdout",
     "output_type": "stream",
     "text": [
      "Loss (orig, final): 0.06699195504188538 0.004418772179633379\n",
      "L2 norm of weight change: 0.23278287053108215\n",
      "Performing post-edit metric calculations on validation set.\n"
     ]
    },
    {
     "name": "stderr",
     "output_type": "stream",
     "text": [
      "\n",
      "100%|██████████████████████████████████████████| 274/274 [00:09<00:00, 29.33it/s]"
     ]
    },
    {
     "name": "stdout",
     "output_type": "stream",
     "text": [
      "Post-edit metrics: {'TP': array([6121, 5276, 5388, 3999, 4312, 3115, 4981, 5176, 4895, 4616]), 'TN': array([60132, 61315, 58636, 59550, 59906, 61507, 62195, 61671, 61531,\n",
      "       61436]), 'FPs': array([2868, 1685, 4364, 3450, 3094, 1493,  805, 1329, 1469, 1564]), 'FNs': array([ 879, 1724, 1612, 3001, 2688, 3885, 2019, 1824, 2105, 2384]), 'accuracy': 0.6839857142857143, 'per_class_accuracy': array([0.94647143, 0.9513    , 0.91462857, 0.90784286, 0.9174    ,\n",
      "       0.92317143, 0.95965714, 0.95495714, 0.94894286, 0.9436    ]), 'per_class_accuracy_mean': 0.9367971428571428, 'precision': array([0.68094338, 0.75793708, 0.55250205, 0.53685058, 0.58223062,\n",
      "       0.67599826, 0.86087107, 0.79569562, 0.76917033, 0.74692557]), 'precision_mean': 0.6959124562099283, 'recall': array([0.87442857, 0.75371429, 0.76971429, 0.57128571, 0.616     ,\n",
      "       0.445     , 0.71157143, 0.73942857, 0.69928571, 0.65942857]), 'recall_mean': 0.6839857142857142, 'f1': array([0.76565139, 0.75581978, 0.64326648, 0.55353312, 0.59863946,\n",
      "       0.53669883, 0.77913343, 0.76653091, 0.7325651 , 0.70045524]), 'f1_mean': 0.6832293722446743}\n",
      "Saved post-edit metrics saved/edit/trials/identity_cov/CINIC10_ImageNet-VGG_16/0117_201313/dog-train-n02114712_211/felzenszwalb_gaussian_0/identity/models/post_edit_metrics.pth\n",
      "All metrics and KNN results can be found in saved/edit/trials/identity_cov/CINIC10_ImageNet-VGG_16/0117_201313/dog-train-n02114712_211/felzenszwalb_gaussian_0/identity/models\n",
      "Finished trial 1/37. Results saved to saved/edit/trials/identity_cov/CINIC10_ImageNet-VGG_16/0117_201313/dog-train-n02114712_211/felzenszwalb_gaussian_0/identity\n",
      "(0117_201829) Starting Trial 2/37...\n",
      "Current run_id: 0117_201313/dog-train-n02114712_211/felzenszwalb_masked_0\n"
     ]
    },
    {
     "name": "stderr",
     "output_type": "stream",
     "text": [
      "\n"
     ]
    },
    {
     "name": "stdout",
     "output_type": "stream",
     "text": [
      "saved/edit/trials/identity_cov/CINIC10_ImageNet-VGG_16/0117_201313/dog-train-n02114712_211/felzenszwalb_masked_0\n",
      "Calling edit()...\n",
      "Created ModelWrapperSanturkar model with 33646666 trainable parameters\n",
      "Restored weights from external_code/PyTorch_CIFAR10/cifar10_models/state_dicts/vgg16_bn.pt\n",
      "Using passed in data loader for validation.\n",
      "Key images: data/cinic-10-imagenet/train/dog/n02114712_211.png\n",
      "Value images: saved/segmentations/dog/dog-train-n02114712_211/modified_images/felzenszwalb_masked_0.png\n",
      "Masks: None\n",
      "Prepared data for editing\n",
      "Performing pre-edit metric calculations on validation set.\n"
     ]
    },
    {
     "name": "stderr",
     "output_type": "stream",
     "text": [
      "100%|██████████████████████████████████████████| 274/274 [00:09<00:00, 29.89it/s]"
     ]
    },
    {
     "name": "stdout",
     "output_type": "stream",
     "text": [
      "Pre-edit metrics: {'TP': array([6142, 5382, 5203, 3842, 4270, 2990, 5659, 5136, 4820, 4679]), 'TN': array([60115, 61110, 59441, 59902, 60157, 61756, 61050, 61747, 61643,\n",
      "       61202]), 'FPs': array([2885, 1890, 3559, 3098, 2843, 1244, 1950, 1253, 1357, 1798]), 'FNs': array([ 858, 1618, 1797, 3158, 2730, 4010, 1341, 1864, 2180, 2321]), 'accuracy': 0.6874714285714286, 'per_class_accuracy': array([0.94652857, 0.94988571, 0.92348571, 0.91062857, 0.92038571,\n",
      "       0.92494286, 0.95298571, 0.95547143, 0.94947143, 0.94115714]), 'per_class_accuracy_mean': 0.9374942857142857, 'precision': array([0.68040323, 0.74009901, 0.5938142 , 0.55360231, 0.60030929,\n",
      "       0.706188  , 0.74372454, 0.80388167, 0.78031407, 0.72240235]), 'precision_mean': 0.6924738665961387, 'recall': array([0.87742857, 0.76885714, 0.74328571, 0.54885714, 0.61      ,\n",
      "       0.42714286, 0.80842857, 0.73371429, 0.68857143, 0.66842857]), 'recall_mean': 0.6874714285714286, 'f1': array([0.7664566 , 0.75420404, 0.66019541, 0.55121951, 0.60511585,\n",
      "       0.53231262, 0.77472791, 0.76719695, 0.73157775, 0.69436818]), 'f1_mean': 0.6837374824369241}\n",
      "Saved pre-edit metrics saved/edit/trials/identity_cov/CINIC10_ImageNet-VGG_16/0117_201313/dog-train-n02114712_211/felzenszwalb_masked_0/models/pre_edit_metrics.pth\n",
      "Using passed in covariance data loader.\n",
      "Looking for covariance matrix weights in cache/cinic-10-imagenet-dummy/vgg16_bn-12\n"
     ]
    },
    {
     "name": "stderr",
     "output_type": "stream",
     "text": [
      "\n"
     ]
    },
    {
     "name": "stdout",
     "output_type": "stream",
     "text": [
      "Found precomputed cov matrices, returning...\n",
      "tensor([[ 1.0000e+00, -1.8504e-05, -3.8476e-05, -1.9159e-05, -4.0293e-05,\n",
      "         -3.1667e-05, -2.4137e-05, -2.9244e-05, -4.0682e-05, -2.2710e-05],\n",
      "        [-1.8504e-05,  1.0000e+00, -2.8878e-05, -1.2513e-05, -2.8300e-05,\n",
      "         -2.1209e-05, -1.7897e-05, -2.0580e-05, -2.4006e-05, -1.4785e-05],\n",
      "        [-3.8476e-05, -2.8878e-05,  1.0000e+00, -2.8741e-05, -6.1447e-05,\n",
      "         -4.6148e-05, -3.9829e-05, -4.5861e-05, -4.7019e-05, -3.5061e-05],\n",
      "        [-1.9159e-05, -1.2513e-05, -2.8741e-05,  1.0000e+00, -2.7411e-05,\n",
      "         -2.1258e-05, -1.7047e-05, -1.9973e-05, -2.4082e-05, -1.5679e-05],\n",
      "        [-4.0293e-05, -2.8300e-05, -6.1447e-05, -2.7411e-05,  1.0000e+00,\n",
      "         -4.6443e-05, -5.1575e-05, -4.8059e-05, -5.6685e-05, -3.6807e-05],\n",
      "        [-3.1667e-05, -2.1209e-05, -4.6148e-05, -2.1258e-05, -4.6443e-05,\n",
      "          1.0000e+00, -2.6984e-05, -3.3795e-05, -4.0129e-05, -2.3401e-05],\n",
      "        [-2.4137e-05, -1.7897e-05, -3.9829e-05, -1.7047e-05, -5.1575e-05,\n",
      "         -2.6984e-05,  1.0000e+00, -2.8577e-05, -3.1210e-05, -3.0226e-05],\n",
      "        [-2.9244e-05, -2.0580e-05, -4.5861e-05, -1.9973e-05, -4.8059e-05,\n",
      "         -3.3795e-05, -2.8577e-05,  1.0000e+00, -3.8494e-05, -2.2827e-05],\n",
      "        [-4.0682e-05, -2.4006e-05, -4.7019e-05, -2.4082e-05, -5.6685e-05,\n",
      "         -4.0129e-05, -3.1210e-05, -3.8494e-05,  1.0000e+00, -2.6560e-05],\n",
      "        [-2.2710e-05, -1.4785e-05, -3.5061e-05, -1.5679e-05, -3.6807e-05,\n",
      "         -2.3401e-05, -3.0226e-05, -2.2827e-05, -2.6560e-05,  1.0000e+00]],\n",
      "       device='cuda:0')\n"
     ]
    },
    {
     "name": "stderr",
     "output_type": "stream",
     "text": [
      "tensor(0.0039, device='cuda:0', grad_fn=<DivBackward0>): 100%|█| 40000/40000 [00:"
     ]
    },
    {
     "name": "stdout",
     "output_type": "stream",
     "text": [
      "Loss (orig, final): 0.06650912016630173 0.003872509114444256\n",
      "L2 norm of weight change: 0.22631625831127167\n",
      "Performing post-edit metric calculations on validation set.\n"
     ]
    },
    {
     "name": "stderr",
     "output_type": "stream",
     "text": [
      "\n",
      "100%|██████████████████████████████████████████| 274/274 [00:09<00:00, 27.71it/s]"
     ]
    },
    {
     "name": "stdout",
     "output_type": "stream",
     "text": [
      "Post-edit metrics: {'TP': array([6107, 5342, 5350, 4045, 4207, 3240, 5050, 5188, 4901, 4595]), 'TN': array([60218, 61207, 58911, 59431, 60213, 61271, 62145, 61655, 61532,\n",
      "       61442]), 'FPs': array([2782, 1793, 4089, 3569, 2787, 1729,  855, 1345, 1468, 1558]), 'FNs': array([ 893, 1658, 1650, 2955, 2793, 3760, 1950, 1812, 2099, 2405]), 'accuracy': 0.6860714285714286, 'per_class_accuracy': array([0.9475    , 0.9507    , 0.91801429, 0.9068    , 0.92028571,\n",
      "       0.92158571, 0.95992857, 0.9549    , 0.94904286, 0.94338571]), 'per_class_accuracy_mean': 0.9372142857142857, 'precision': array([0.68702891, 0.74870357, 0.56679733, 0.53125821, 0.60151558,\n",
      "       0.65204266, 0.85520745, 0.79412215, 0.76950856, 0.74679018]), 'precision_mean': 0.6952974615291001, 'recall': array([0.87242857, 0.76314286, 0.76428571, 0.57785714, 0.601     ,\n",
      "       0.46285714, 0.72142857, 0.74114286, 0.70014286, 0.65642857]), 'recall_mean': 0.6860714285714284, 'f1': array([0.76870791, 0.75585426, 0.65089117, 0.55357876, 0.60125768,\n",
      "       0.54139861, 0.78264239, 0.76671839, 0.73318872, 0.69869992]), 'f1_mean': 0.6852937817364976}\n"
     ]
    },
    {
     "name": "stderr",
     "output_type": "stream",
     "text": [
      "\n"
     ]
    },
    {
     "name": "stdout",
     "output_type": "stream",
     "text": [
      "Saved post-edit metrics saved/edit/trials/identity_cov/CINIC10_ImageNet-VGG_16/0117_201313/dog-train-n02114712_211/felzenszwalb_masked_0/models/post_edit_metrics.pth\n",
      "All metrics and KNN results can be found in saved/edit/trials/identity_cov/CINIC10_ImageNet-VGG_16/0117_201313/dog-train-n02114712_211/felzenszwalb_masked_0/models\n",
      "saved/edit/trials/identity_cov/CINIC10_ImageNet-VGG_16/0117_201313/dog-train-n02114712_211/felzenszwalb_masked_0/identity\n",
      "Calling edit()...\n",
      "Created ModelWrapperSanturkar model with 33646666 trainable parameters\n",
      "Restored weights from external_code/PyTorch_CIFAR10/cifar10_models/state_dicts/vgg16_bn.pt\n",
      "Using passed in data loader for validation.\n",
      "Key images: data/cinic-10-imagenet/train/dog/n02114712_211.png\n",
      "Value images: saved/segmentations/dog/dog-train-n02114712_211/modified_images/felzenszwalb_masked_0.png\n",
      "Masks: None\n",
      "Prepared data for editing\n",
      "Performing pre-edit metric calculations on validation set.\n"
     ]
    },
    {
     "name": "stderr",
     "output_type": "stream",
     "text": [
      "100%|██████████████████████████████████████████| 274/274 [00:09<00:00, 28.08it/s]"
     ]
    },
    {
     "name": "stdout",
     "output_type": "stream",
     "text": [
      "Pre-edit metrics: {'TP': array([6142, 5382, 5203, 3842, 4270, 2990, 5659, 5136, 4820, 4679]), 'TN': array([60115, 61110, 59441, 59902, 60157, 61756, 61050, 61747, 61643,\n",
      "       61202]), 'FPs': array([2885, 1890, 3559, 3098, 2843, 1244, 1950, 1253, 1357, 1798]), 'FNs': array([ 858, 1618, 1797, 3158, 2730, 4010, 1341, 1864, 2180, 2321]), 'accuracy': 0.6874714285714286, 'per_class_accuracy': array([0.94652857, 0.94988571, 0.92348571, 0.91062857, 0.92038571,\n",
      "       0.92494286, 0.95298571, 0.95547143, 0.94947143, 0.94115714]), 'per_class_accuracy_mean': 0.9374942857142857, 'precision': array([0.68040323, 0.74009901, 0.5938142 , 0.55360231, 0.60030929,\n",
      "       0.706188  , 0.74372454, 0.80388167, 0.78031407, 0.72240235]), 'precision_mean': 0.6924738665961387, 'recall': array([0.87742857, 0.76885714, 0.74328571, 0.54885714, 0.61      ,\n",
      "       0.42714286, 0.80842857, 0.73371429, 0.68857143, 0.66842857]), 'recall_mean': 0.6874714285714286, 'f1': array([0.7664566 , 0.75420404, 0.66019541, 0.55121951, 0.60511585,\n",
      "       0.53231262, 0.77472791, 0.76719695, 0.73157775, 0.69436818]), 'f1_mean': 0.6837374824369241}\n",
      "Saved pre-edit metrics saved/edit/trials/identity_cov/CINIC10_ImageNet-VGG_16/0117_201313/dog-train-n02114712_211/felzenszwalb_masked_0/identity/models/pre_edit_metrics.pth\n",
      "No data loader for covariance matrix. Will use identity matrix\n",
      "Looking for covariance matrix weights in cache/identity/vgg16_bn-12\n"
     ]
    },
    {
     "name": "stderr",
     "output_type": "stream",
     "text": [
      "\n"
     ]
    },
    {
     "name": "stdout",
     "output_type": "stream",
     "text": [
      "Found precomputed cov matrices, returning...\n",
      "tensor([[1., 0., 0., 0., 0., 0., 0., 0., 0., 0.],\n",
      "        [0., 1., 0., 0., 0., 0., 0., 0., 0., 0.],\n",
      "        [0., 0., 1., 0., 0., 0., 0., 0., 0., 0.],\n",
      "        [0., 0., 0., 1., 0., 0., 0., 0., 0., 0.],\n",
      "        [0., 0., 0., 0., 1., 0., 0., 0., 0., 0.],\n",
      "        [0., 0., 0., 0., 0., 1., 0., 0., 0., 0.],\n",
      "        [0., 0., 0., 0., 0., 0., 1., 0., 0., 0.],\n",
      "        [0., 0., 0., 0., 0., 0., 0., 1., 0., 0.],\n",
      "        [0., 0., 0., 0., 0., 0., 0., 0., 1., 0.],\n",
      "        [0., 0., 0., 0., 0., 0., 0., 0., 0., 1.]], device='cuda:0')\n"
     ]
    },
    {
     "name": "stderr",
     "output_type": "stream",
     "text": [
      "tensor(0.0040, device='cuda:0', grad_fn=<DivBackward0>): 100%|█| 40000/40000 [00:"
     ]
    },
    {
     "name": "stdout",
     "output_type": "stream",
     "text": [
      "Loss (orig, final): 0.06650912016630173 0.0039526186883449554\n",
      "L2 norm of weight change: 0.22640109062194824\n",
      "Performing post-edit metric calculations on validation set.\n"
     ]
    },
    {
     "name": "stderr",
     "output_type": "stream",
     "text": [
      "\n",
      "100%|██████████████████████████████████████████| 274/274 [00:09<00:00, 28.41it/s]"
     ]
    },
    {
     "name": "stdout",
     "output_type": "stream",
     "text": [
      "Post-edit metrics: {'TP': array([6106, 5340, 5351, 4047, 4207, 3241, 5053, 5187, 4901, 4594]), 'TN': array([60218, 61209, 58917, 59424, 60211, 61268, 62144, 61658, 61534,\n",
      "       61444]), 'FPs': array([2782, 1791, 4083, 3576, 2789, 1732,  856, 1342, 1466, 1556]), 'FNs': array([ 894, 1660, 1649, 2953, 2793, 3759, 1947, 1813, 2099, 2406]), 'accuracy': 0.6861, 'per_class_accuracy': array([0.94748571, 0.9507    , 0.91811429, 0.90672857, 0.92025714,\n",
      "       0.92155714, 0.95995714, 0.95492857, 0.94907143, 0.9434    ]), 'per_class_accuracy_mean': 0.9372200000000002, 'precision': array([0.6869937 , 0.74884308, 0.56720373, 0.53089335, 0.60134362,\n",
      "       0.65171928, 0.85513623, 0.79445551, 0.76975027, 0.74699187]), 'precision_mean': 0.695333065204666, 'recall': array([0.87228571, 0.76285714, 0.76442857, 0.57814286, 0.601     ,\n",
      "       0.463     , 0.72185714, 0.741     , 0.70014286, 0.65628571]), 'recall_mean': 0.6860999999999999, 'f1': array([0.76863041, 0.75578515, 0.6512109 , 0.55351159, 0.60117176,\n",
      "       0.54138478, 0.78286467, 0.76679725, 0.73329842, 0.69870722]), 'f1_mean': 0.6853362171671746}\n",
      "Saved post-edit metrics saved/edit/trials/identity_cov/CINIC10_ImageNet-VGG_16/0117_201313/dog-train-n02114712_211/felzenszwalb_masked_0/identity/models/post_edit_metrics.pth\n",
      "All metrics and KNN results can be found in saved/edit/trials/identity_cov/CINIC10_ImageNet-VGG_16/0117_201313/dog-train-n02114712_211/felzenszwalb_masked_0/identity/models\n",
      "Finished trial 2/37. Results saved to saved/edit/trials/identity_cov/CINIC10_ImageNet-VGG_16/0117_201313/dog-train-n02114712_211/felzenszwalb_masked_0/identity\n",
      "(0117_202028) Starting Trial 3/37...\n",
      "Current run_id: 0117_201313/dog-train-n02114712_211/felzenszwalb_masked_1\n"
     ]
    },
    {
     "name": "stderr",
     "output_type": "stream",
     "text": [
      "\n"
     ]
    },
    {
     "name": "stdout",
     "output_type": "stream",
     "text": [
      "saved/edit/trials/identity_cov/CINIC10_ImageNet-VGG_16/0117_201313/dog-train-n02114712_211/felzenszwalb_masked_1\n",
      "Calling edit()...\n",
      "Created ModelWrapperSanturkar model with 33646666 trainable parameters\n",
      "Restored weights from external_code/PyTorch_CIFAR10/cifar10_models/state_dicts/vgg16_bn.pt\n",
      "Using passed in data loader for validation.\n",
      "Key images: data/cinic-10-imagenet/train/dog/n02114712_211.png\n",
      "Value images: saved/segmentations/dog/dog-train-n02114712_211/modified_images/felzenszwalb_masked_1.png\n",
      "Masks: None\n",
      "Prepared data for editing\n",
      "Performing pre-edit metric calculations on validation set.\n"
     ]
    },
    {
     "name": "stderr",
     "output_type": "stream",
     "text": [
      "100%|██████████████████████████████████████████| 274/274 [00:10<00:00, 27.13it/s]"
     ]
    },
    {
     "name": "stdout",
     "output_type": "stream",
     "text": [
      "Pre-edit metrics: {'TP': array([6142, 5382, 5203, 3842, 4270, 2990, 5659, 5136, 4820, 4679]), 'TN': array([60115, 61110, 59441, 59902, 60157, 61756, 61050, 61747, 61643,\n",
      "       61202]), 'FPs': array([2885, 1890, 3559, 3098, 2843, 1244, 1950, 1253, 1357, 1798]), 'FNs': array([ 858, 1618, 1797, 3158, 2730, 4010, 1341, 1864, 2180, 2321]), 'accuracy': 0.6874714285714286, 'per_class_accuracy': array([0.94652857, 0.94988571, 0.92348571, 0.91062857, 0.92038571,\n",
      "       0.92494286, 0.95298571, 0.95547143, 0.94947143, 0.94115714]), 'per_class_accuracy_mean': 0.9374942857142857, 'precision': array([0.68040323, 0.74009901, 0.5938142 , 0.55360231, 0.60030929,\n",
      "       0.706188  , 0.74372454, 0.80388167, 0.78031407, 0.72240235]), 'precision_mean': 0.6924738665961387, 'recall': array([0.87742857, 0.76885714, 0.74328571, 0.54885714, 0.61      ,\n",
      "       0.42714286, 0.80842857, 0.73371429, 0.68857143, 0.66842857]), 'recall_mean': 0.6874714285714286, 'f1': array([0.7664566 , 0.75420404, 0.66019541, 0.55121951, 0.60511585,\n",
      "       0.53231262, 0.77472791, 0.76719695, 0.73157775, 0.69436818]), 'f1_mean': 0.6837374824369241}\n"
     ]
    },
    {
     "name": "stderr",
     "output_type": "stream",
     "text": [
      "\n"
     ]
    },
    {
     "name": "stdout",
     "output_type": "stream",
     "text": [
      "Saved pre-edit metrics saved/edit/trials/identity_cov/CINIC10_ImageNet-VGG_16/0117_201313/dog-train-n02114712_211/felzenszwalb_masked_1/models/pre_edit_metrics.pth\n",
      "Using passed in covariance data loader.\n",
      "Looking for covariance matrix weights in cache/cinic-10-imagenet-dummy/vgg16_bn-12\n",
      "Found precomputed cov matrices, returning...\n",
      "tensor([[ 1.0000e+00, -1.8504e-05, -3.8476e-05, -1.9159e-05, -4.0293e-05,\n",
      "         -3.1667e-05, -2.4137e-05, -2.9244e-05, -4.0682e-05, -2.2710e-05],\n",
      "        [-1.8504e-05,  1.0000e+00, -2.8878e-05, -1.2513e-05, -2.8300e-05,\n",
      "         -2.1209e-05, -1.7897e-05, -2.0580e-05, -2.4006e-05, -1.4785e-05],\n",
      "        [-3.8476e-05, -2.8878e-05,  1.0000e+00, -2.8741e-05, -6.1447e-05,\n",
      "         -4.6148e-05, -3.9829e-05, -4.5861e-05, -4.7019e-05, -3.5061e-05],\n",
      "        [-1.9159e-05, -1.2513e-05, -2.8741e-05,  1.0000e+00, -2.7411e-05,\n",
      "         -2.1258e-05, -1.7047e-05, -1.9973e-05, -2.4082e-05, -1.5679e-05],\n",
      "        [-4.0293e-05, -2.8300e-05, -6.1447e-05, -2.7411e-05,  1.0000e+00,\n",
      "         -4.6443e-05, -5.1575e-05, -4.8059e-05, -5.6685e-05, -3.6807e-05],\n",
      "        [-3.1667e-05, -2.1209e-05, -4.6148e-05, -2.1258e-05, -4.6443e-05,\n",
      "          1.0000e+00, -2.6984e-05, -3.3795e-05, -4.0129e-05, -2.3401e-05],\n",
      "        [-2.4137e-05, -1.7897e-05, -3.9829e-05, -1.7047e-05, -5.1575e-05,\n",
      "         -2.6984e-05,  1.0000e+00, -2.8577e-05, -3.1210e-05, -3.0226e-05],\n",
      "        [-2.9244e-05, -2.0580e-05, -4.5861e-05, -1.9973e-05, -4.8059e-05,\n",
      "         -3.3795e-05, -2.8577e-05,  1.0000e+00, -3.8494e-05, -2.2827e-05],\n",
      "        [-4.0682e-05, -2.4006e-05, -4.7019e-05, -2.4082e-05, -5.6685e-05,\n",
      "         -4.0129e-05, -3.1210e-05, -3.8494e-05,  1.0000e+00, -2.6560e-05],\n",
      "        [-2.2710e-05, -1.4785e-05, -3.5061e-05, -1.5679e-05, -3.6807e-05,\n",
      "         -2.3401e-05, -3.0226e-05, -2.2827e-05, -2.6560e-05,  1.0000e+00]],\n",
      "       device='cuda:0')\n"
     ]
    },
    {
     "name": "stderr",
     "output_type": "stream",
     "text": [
      "tensor(0.0034, device='cuda:0', grad_fn=<DivBackward0>): 100%|█| 40000/40000 [00:"
     ]
    },
    {
     "name": "stdout",
     "output_type": "stream",
     "text": [
      "Loss (orig, final): 0.10497648268938065 0.0034496893640607595\n",
      "L2 norm of weight change: 0.3796534836292267\n",
      "Performing post-edit metric calculations on validation set.\n"
     ]
    },
    {
     "name": "stderr",
     "output_type": "stream",
     "text": [
      "\n",
      "100%|██████████████████████████████████████████| 274/274 [00:10<00:00, 26.18it/s]\n"
     ]
    },
    {
     "name": "stdout",
     "output_type": "stream",
     "text": [
      "Post-edit metrics: {'TP': array([6039, 5505, 5376, 3574, 3758, 4052, 4225, 5258, 4835, 4382]), 'TN': array([60527, 60897, 58849, 60381, 61225, 57561, 62725, 61534, 61614,\n",
      "       61691]), 'FPs': array([2473, 2103, 4151, 2619, 1775, 5439,  275, 1466, 1386, 1309]), 'FNs': array([ 961, 1495, 1624, 3426, 3242, 2948, 2775, 1742, 2165, 2618]), 'accuracy': 0.6714857142857142, 'per_class_accuracy': array([0.95094286, 0.9486    , 0.9175    , 0.91364286, 0.92832857,\n",
      "       0.88018571, 0.95642857, 0.95417143, 0.94927143, 0.9439    ]), 'per_class_accuracy_mean': 0.9342971428571427, 'precision': array([0.70946898, 0.72358044, 0.56429096, 0.57710318, 0.67919754,\n",
      "       0.42693078, 0.93888889, 0.78197501, 0.77720624, 0.7699877 ]), 'precision_mean': 0.6948629729264275, 'recall': array([0.86271429, 0.78642857, 0.768     , 0.51057143, 0.53685714,\n",
      "       0.57885714, 0.60357143, 0.75114286, 0.69071429, 0.626     ]), 'recall_mean': 0.6714857142857144, 'f1': array([0.778623  , 0.7536966 , 0.65057179, 0.54180247, 0.5996968 ,\n",
      "       0.49141956, 0.73478261, 0.76624891, 0.73141215, 0.69056812]), 'f1_mean': 0.6738822013601482}\n",
      "Saved post-edit metrics saved/edit/trials/identity_cov/CINIC10_ImageNet-VGG_16/0117_201313/dog-train-n02114712_211/felzenszwalb_masked_1/models/post_edit_metrics.pth\n",
      "All metrics and KNN results can be found in saved/edit/trials/identity_cov/CINIC10_ImageNet-VGG_16/0117_201313/dog-train-n02114712_211/felzenszwalb_masked_1/models\n",
      "saved/edit/trials/identity_cov/CINIC10_ImageNet-VGG_16/0117_201313/dog-train-n02114712_211/felzenszwalb_masked_1/identity\n",
      "Calling edit()...\n",
      "Created ModelWrapperSanturkar model with 33646666 trainable parameters\n",
      "Restored weights from external_code/PyTorch_CIFAR10/cifar10_models/state_dicts/vgg16_bn.pt\n",
      "Using passed in data loader for validation.\n",
      "Key images: data/cinic-10-imagenet/train/dog/n02114712_211.png\n",
      "Value images: saved/segmentations/dog/dog-train-n02114712_211/modified_images/felzenszwalb_masked_1.png\n",
      "Masks: None\n",
      "Prepared data for editing\n",
      "Performing pre-edit metric calculations on validation set.\n"
     ]
    },
    {
     "name": "stderr",
     "output_type": "stream",
     "text": [
      "100%|██████████████████████████████████████████| 274/274 [00:10<00:00, 25.92it/s]"
     ]
    },
    {
     "name": "stdout",
     "output_type": "stream",
     "text": [
      "Pre-edit metrics: {'TP': array([6142, 5382, 5203, 3842, 4270, 2990, 5659, 5136, 4820, 4679]), 'TN': array([60115, 61110, 59441, 59902, 60157, 61756, 61050, 61747, 61643,\n",
      "       61202]), 'FPs': array([2885, 1890, 3559, 3098, 2843, 1244, 1950, 1253, 1357, 1798]), 'FNs': array([ 858, 1618, 1797, 3158, 2730, 4010, 1341, 1864, 2180, 2321]), 'accuracy': 0.6874714285714286, 'per_class_accuracy': array([0.94652857, 0.94988571, 0.92348571, 0.91062857, 0.92038571,\n",
      "       0.92494286, 0.95298571, 0.95547143, 0.94947143, 0.94115714]), 'per_class_accuracy_mean': 0.9374942857142857, 'precision': array([0.68040323, 0.74009901, 0.5938142 , 0.55360231, 0.60030929,\n",
      "       0.706188  , 0.74372454, 0.80388167, 0.78031407, 0.72240235]), 'precision_mean': 0.6924738665961387, 'recall': array([0.87742857, 0.76885714, 0.74328571, 0.54885714, 0.61      ,\n",
      "       0.42714286, 0.80842857, 0.73371429, 0.68857143, 0.66842857]), 'recall_mean': 0.6874714285714286, 'f1': array([0.7664566 , 0.75420404, 0.66019541, 0.55121951, 0.60511585,\n",
      "       0.53231262, 0.77472791, 0.76719695, 0.73157775, 0.69436818]), 'f1_mean': 0.6837374824369241}\n",
      "Saved pre-edit metrics saved/edit/trials/identity_cov/CINIC10_ImageNet-VGG_16/0117_201313/dog-train-n02114712_211/felzenszwalb_masked_1/identity/models/pre_edit_metrics.pth\n",
      "No data loader for covariance matrix. Will use identity matrix\n",
      "Looking for covariance matrix weights in cache/identity/vgg16_bn-12\n"
     ]
    },
    {
     "name": "stderr",
     "output_type": "stream",
     "text": [
      "\n"
     ]
    },
    {
     "name": "stdout",
     "output_type": "stream",
     "text": [
      "Found precomputed cov matrices, returning...\n",
      "tensor([[1., 0., 0., 0., 0., 0., 0., 0., 0., 0.],\n",
      "        [0., 1., 0., 0., 0., 0., 0., 0., 0., 0.],\n",
      "        [0., 0., 1., 0., 0., 0., 0., 0., 0., 0.],\n",
      "        [0., 0., 0., 1., 0., 0., 0., 0., 0., 0.],\n",
      "        [0., 0., 0., 0., 1., 0., 0., 0., 0., 0.],\n",
      "        [0., 0., 0., 0., 0., 1., 0., 0., 0., 0.],\n",
      "        [0., 0., 0., 0., 0., 0., 1., 0., 0., 0.],\n",
      "        [0., 0., 0., 0., 0., 0., 0., 1., 0., 0.],\n",
      "        [0., 0., 0., 0., 0., 0., 0., 0., 1., 0.],\n",
      "        [0., 0., 0., 0., 0., 0., 0., 0., 0., 1.]], device='cuda:0')\n"
     ]
    },
    {
     "name": "stderr",
     "output_type": "stream",
     "text": [
      "tensor(0.0038, device='cuda:0', grad_fn=<DivBackward0>): 100%|█| 40000/40000 [00:"
     ]
    },
    {
     "name": "stdout",
     "output_type": "stream",
     "text": [
      "Loss (orig, final): 0.10497648268938065 0.003770405426621437\n",
      "L2 norm of weight change: 0.3822055160999298\n",
      "Performing post-edit metric calculations on validation set.\n"
     ]
    },
    {
     "name": "stderr",
     "output_type": "stream",
     "text": [
      "\n",
      "100%|██████████████████████████████████████████| 274/274 [00:10<00:00, 25.69it/s]"
     ]
    },
    {
     "name": "stdout",
     "output_type": "stream",
     "text": [
      "Post-edit metrics: {'TP': array([6034, 5506, 5380, 3559, 3748, 4071, 4195, 5256, 4833, 4373]), 'TN': array([60531, 60891, 58842, 60396, 61243, 57463, 62736, 61540, 61613,\n",
      "       61700]), 'FPs': array([2469, 2109, 4158, 2604, 1757, 5537,  264, 1460, 1387, 1300]), 'FNs': array([ 966, 1494, 1620, 3441, 3252, 2929, 2805, 1744, 2167, 2627]), 'accuracy': 0.6707857142857143, 'per_class_accuracy': array([0.95092857, 0.94852857, 0.91745714, 0.91364286, 0.92844286,\n",
      "       0.87905714, 0.95615714, 0.95422857, 0.94922857, 0.9439    ]), 'per_class_accuracy_mean': 0.9341571428571429, 'precision': array([0.70963189, 0.72304662, 0.56405955, 0.5774785 , 0.6808356 ,\n",
      "       0.42370941, 0.9407939 , 0.7826087 , 0.77700965, 0.77084435]), 'precision_mean': 0.69500181703265, 'recall': array([0.862     , 0.78657143, 0.76857143, 0.50842857, 0.53542857,\n",
      "       0.58157143, 0.59928571, 0.75085714, 0.69042857, 0.62471429]), 'recall_mean': 0.6707857142857143, 'f1': array([0.77842998, 0.75347246, 0.65062281, 0.54075819, 0.59944022,\n",
      "       0.49024566, 0.73217558, 0.7664042 , 0.7311649 , 0.69012862]), 'f1_mean': 0.6732842627199452}\n",
      "Saved post-edit metrics saved/edit/trials/identity_cov/CINIC10_ImageNet-VGG_16/0117_201313/dog-train-n02114712_211/felzenszwalb_masked_1/identity/models/post_edit_metrics.pth\n",
      "All metrics and KNN results can be found in saved/edit/trials/identity_cov/CINIC10_ImageNet-VGG_16/0117_201313/dog-train-n02114712_211/felzenszwalb_masked_1/identity/models\n",
      "Finished trial 3/37. Results saved to saved/edit/trials/identity_cov/CINIC10_ImageNet-VGG_16/0117_201313/dog-train-n02114712_211/felzenszwalb_masked_1/identity\n",
      "(0117_202232) Starting Trial 4/37...\n",
      "Current run_id: 0117_201313/dog-train-n02114712_211/quickshift_masked_0\n"
     ]
    },
    {
     "name": "stderr",
     "output_type": "stream",
     "text": [
      "\n"
     ]
    },
    {
     "name": "stdout",
     "output_type": "stream",
     "text": [
      "saved/edit/trials/identity_cov/CINIC10_ImageNet-VGG_16/0117_201313/dog-train-n02114712_211/quickshift_masked_0\n",
      "Calling edit()...\n",
      "Created ModelWrapperSanturkar model with 33646666 trainable parameters\n",
      "Restored weights from external_code/PyTorch_CIFAR10/cifar10_models/state_dicts/vgg16_bn.pt\n",
      "Using passed in data loader for validation.\n",
      "Key images: data/cinic-10-imagenet/train/dog/n02114712_211.png\n",
      "Value images: saved/segmentations/dog/dog-train-n02114712_211/modified_images/quickshift_masked_0.png\n",
      "Masks: None\n",
      "Prepared data for editing\n",
      "Performing pre-edit metric calculations on validation set.\n"
     ]
    },
    {
     "name": "stderr",
     "output_type": "stream",
     "text": [
      "100%|██████████████████████████████████████████| 274/274 [00:10<00:00, 25.20it/s]"
     ]
    },
    {
     "name": "stdout",
     "output_type": "stream",
     "text": [
      "Pre-edit metrics: {'TP': array([6142, 5382, 5203, 3842, 4270, 2990, 5659, 5136, 4820, 4679]), 'TN': array([60115, 61110, 59441, 59902, 60157, 61756, 61050, 61747, 61643,\n",
      "       61202]), 'FPs': array([2885, 1890, 3559, 3098, 2843, 1244, 1950, 1253, 1357, 1798]), 'FNs': array([ 858, 1618, 1797, 3158, 2730, 4010, 1341, 1864, 2180, 2321]), 'accuracy': 0.6874714285714286, 'per_class_accuracy': array([0.94652857, 0.94988571, 0.92348571, 0.91062857, 0.92038571,\n",
      "       0.92494286, 0.95298571, 0.95547143, 0.94947143, 0.94115714]), 'per_class_accuracy_mean': 0.9374942857142857, 'precision': array([0.68040323, 0.74009901, 0.5938142 , 0.55360231, 0.60030929,\n",
      "       0.706188  , 0.74372454, 0.80388167, 0.78031407, 0.72240235]), 'precision_mean': 0.6924738665961387, 'recall': array([0.87742857, 0.76885714, 0.74328571, 0.54885714, 0.61      ,\n",
      "       0.42714286, 0.80842857, 0.73371429, 0.68857143, 0.66842857]), 'recall_mean': 0.6874714285714286, 'f1': array([0.7664566 , 0.75420404, 0.66019541, 0.55121951, 0.60511585,\n",
      "       0.53231262, 0.77472791, 0.76719695, 0.73157775, 0.69436818]), 'f1_mean': 0.6837374824369241}\n",
      "Saved pre-edit metrics saved/edit/trials/identity_cov/CINIC10_ImageNet-VGG_16/0117_201313/dog-train-n02114712_211/quickshift_masked_0/models/pre_edit_metrics.pth\n",
      "Using passed in covariance data loader.\n",
      "Looking for covariance matrix weights in cache/cinic-10-imagenet-dummy/vgg16_bn-12\n"
     ]
    },
    {
     "name": "stderr",
     "output_type": "stream",
     "text": [
      "\n"
     ]
    },
    {
     "name": "stdout",
     "output_type": "stream",
     "text": [
      "Found precomputed cov matrices, returning...\n",
      "tensor([[ 1.0000e+00, -1.8504e-05, -3.8476e-05, -1.9159e-05, -4.0293e-05,\n",
      "         -3.1667e-05, -2.4137e-05, -2.9244e-05, -4.0682e-05, -2.2710e-05],\n",
      "        [-1.8504e-05,  1.0000e+00, -2.8878e-05, -1.2513e-05, -2.8300e-05,\n",
      "         -2.1209e-05, -1.7897e-05, -2.0580e-05, -2.4006e-05, -1.4785e-05],\n",
      "        [-3.8476e-05, -2.8878e-05,  1.0000e+00, -2.8741e-05, -6.1447e-05,\n",
      "         -4.6148e-05, -3.9829e-05, -4.5861e-05, -4.7019e-05, -3.5061e-05],\n",
      "        [-1.9159e-05, -1.2513e-05, -2.8741e-05,  1.0000e+00, -2.7411e-05,\n",
      "         -2.1258e-05, -1.7047e-05, -1.9973e-05, -2.4082e-05, -1.5679e-05],\n",
      "        [-4.0293e-05, -2.8300e-05, -6.1447e-05, -2.7411e-05,  1.0000e+00,\n",
      "         -4.6443e-05, -5.1575e-05, -4.8059e-05, -5.6685e-05, -3.6807e-05],\n",
      "        [-3.1667e-05, -2.1209e-05, -4.6148e-05, -2.1258e-05, -4.6443e-05,\n",
      "          1.0000e+00, -2.6984e-05, -3.3795e-05, -4.0129e-05, -2.3401e-05],\n",
      "        [-2.4137e-05, -1.7897e-05, -3.9829e-05, -1.7047e-05, -5.1575e-05,\n",
      "         -2.6984e-05,  1.0000e+00, -2.8577e-05, -3.1210e-05, -3.0226e-05],\n",
      "        [-2.9244e-05, -2.0580e-05, -4.5861e-05, -1.9973e-05, -4.8059e-05,\n",
      "         -3.3795e-05, -2.8577e-05,  1.0000e+00, -3.8494e-05, -2.2827e-05],\n",
      "        [-4.0682e-05, -2.4006e-05, -4.7019e-05, -2.4082e-05, -5.6685e-05,\n",
      "         -4.0129e-05, -3.1210e-05, -3.8494e-05,  1.0000e+00, -2.6560e-05],\n",
      "        [-2.2710e-05, -1.4785e-05, -3.5061e-05, -1.5679e-05, -3.6807e-05,\n",
      "         -2.3401e-05, -3.0226e-05, -2.2827e-05, -2.6560e-05,  1.0000e+00]],\n",
      "       device='cuda:0')\n"
     ]
    },
    {
     "name": "stderr",
     "output_type": "stream",
     "text": [
      "tensor(0.0043, device='cuda:0', grad_fn=<DivBackward0>): 100%|█| 40000/40000 [00:"
     ]
    },
    {
     "name": "stdout",
     "output_type": "stream",
     "text": [
      "Loss (orig, final): 0.03972477465867996 0.004251835867762566\n",
      "L2 norm of weight change: 0.1677478551864624\n",
      "Performing post-edit metric calculations on validation set.\n"
     ]
    },
    {
     "name": "stderr",
     "output_type": "stream",
     "text": [
      "\n",
      "100%|██████████████████████████████████████████| 274/274 [00:10<00:00, 26.33it/s]"
     ]
    },
    {
     "name": "stdout",
     "output_type": "stream",
     "text": [
      "Post-edit metrics: {'TP': array([6117, 5354, 5287, 4129, 4047, 3117, 5382, 5172, 4818, 4680]), 'TN': array([60218, 61200, 59160, 59156, 60590, 61492, 61642, 61703, 61663,\n",
      "       61279]), 'FPs': array([2782, 1800, 3840, 3844, 2410, 1508, 1358, 1297, 1337, 1721]), 'FNs': array([ 883, 1646, 1713, 2871, 2953, 3883, 1618, 1828, 2182, 2320]), 'accuracy': 0.6871857142857143, 'per_class_accuracy': array([0.94764286, 0.95077143, 0.92067143, 0.90407143, 0.92338571,\n",
      "       0.92298571, 0.95748571, 0.95535714, 0.94972857, 0.94227143]), 'per_class_accuracy_mean': 0.9374371428571429, 'precision': array([0.6873806 , 0.74839251, 0.5792703 , 0.51787282, 0.62676165,\n",
      "       0.67394595, 0.79851632, 0.79950533, 0.78277823, 0.73113576]), 'precision_mean': 0.694555947262802, 'recall': array([0.87385714, 0.76485714, 0.75528571, 0.58985714, 0.57814286,\n",
      "       0.44528571, 0.76885714, 0.73885714, 0.68828571, 0.66857143]), 'recall_mean': 0.6871857142857143, 'f1': array([0.76948236, 0.75653526, 0.65567061, 0.55152608, 0.60147135,\n",
      "       0.53625806, 0.78340611, 0.76798575, 0.73249715, 0.69845534]), 'f1_mean': 0.6853288072030962}\n",
      "Saved post-edit metrics saved/edit/trials/identity_cov/CINIC10_ImageNet-VGG_16/0117_201313/dog-train-n02114712_211/quickshift_masked_0/models/post_edit_metrics.pth\n",
      "All metrics and KNN results can be found in saved/edit/trials/identity_cov/CINIC10_ImageNet-VGG_16/0117_201313/dog-train-n02114712_211/quickshift_masked_0/models\n"
     ]
    },
    {
     "name": "stderr",
     "output_type": "stream",
     "text": [
      "\n"
     ]
    },
    {
     "name": "stdout",
     "output_type": "stream",
     "text": [
      "saved/edit/trials/identity_cov/CINIC10_ImageNet-VGG_16/0117_201313/dog-train-n02114712_211/quickshift_masked_0/identity\n",
      "Calling edit()...\n",
      "Created ModelWrapperSanturkar model with 33646666 trainable parameters\n",
      "Restored weights from external_code/PyTorch_CIFAR10/cifar10_models/state_dicts/vgg16_bn.pt\n",
      "Using passed in data loader for validation.\n",
      "Key images: data/cinic-10-imagenet/train/dog/n02114712_211.png\n",
      "Value images: saved/segmentations/dog/dog-train-n02114712_211/modified_images/quickshift_masked_0.png\n",
      "Masks: None\n",
      "Prepared data for editing\n",
      "Performing pre-edit metric calculations on validation set.\n"
     ]
    },
    {
     "name": "stderr",
     "output_type": "stream",
     "text": [
      "100%|██████████████████████████████████████████| 274/274 [00:10<00:00, 26.25it/s]"
     ]
    },
    {
     "name": "stdout",
     "output_type": "stream",
     "text": [
      "Pre-edit metrics: {'TP': array([6142, 5382, 5203, 3842, 4270, 2990, 5659, 5136, 4820, 4679]), 'TN': array([60115, 61110, 59441, 59902, 60157, 61756, 61050, 61747, 61643,\n",
      "       61202]), 'FPs': array([2885, 1890, 3559, 3098, 2843, 1244, 1950, 1253, 1357, 1798]), 'FNs': array([ 858, 1618, 1797, 3158, 2730, 4010, 1341, 1864, 2180, 2321]), 'accuracy': 0.6874714285714286, 'per_class_accuracy': array([0.94652857, 0.94988571, 0.92348571, 0.91062857, 0.92038571,\n",
      "       0.92494286, 0.95298571, 0.95547143, 0.94947143, 0.94115714]), 'per_class_accuracy_mean': 0.9374942857142857, 'precision': array([0.68040323, 0.74009901, 0.5938142 , 0.55360231, 0.60030929,\n",
      "       0.706188  , 0.74372454, 0.80388167, 0.78031407, 0.72240235]), 'precision_mean': 0.6924738665961387, 'recall': array([0.87742857, 0.76885714, 0.74328571, 0.54885714, 0.61      ,\n",
      "       0.42714286, 0.80842857, 0.73371429, 0.68857143, 0.66842857]), 'recall_mean': 0.6874714285714286, 'f1': array([0.7664566 , 0.75420404, 0.66019541, 0.55121951, 0.60511585,\n",
      "       0.53231262, 0.77472791, 0.76719695, 0.73157775, 0.69436818]), 'f1_mean': 0.6837374824369241}\n",
      "Saved pre-edit metrics saved/edit/trials/identity_cov/CINIC10_ImageNet-VGG_16/0117_201313/dog-train-n02114712_211/quickshift_masked_0/identity/models/pre_edit_metrics.pth\n",
      "No data loader for covariance matrix. Will use identity matrix\n",
      "Looking for covariance matrix weights in cache/identity/vgg16_bn-12\n"
     ]
    },
    {
     "name": "stderr",
     "output_type": "stream",
     "text": [
      "\n"
     ]
    },
    {
     "name": "stdout",
     "output_type": "stream",
     "text": [
      "Found precomputed cov matrices, returning...\n",
      "tensor([[1., 0., 0., 0., 0., 0., 0., 0., 0., 0.],\n",
      "        [0., 1., 0., 0., 0., 0., 0., 0., 0., 0.],\n",
      "        [0., 0., 1., 0., 0., 0., 0., 0., 0., 0.],\n",
      "        [0., 0., 0., 1., 0., 0., 0., 0., 0., 0.],\n",
      "        [0., 0., 0., 0., 1., 0., 0., 0., 0., 0.],\n",
      "        [0., 0., 0., 0., 0., 1., 0., 0., 0., 0.],\n",
      "        [0., 0., 0., 0., 0., 0., 1., 0., 0., 0.],\n",
      "        [0., 0., 0., 0., 0., 0., 0., 1., 0., 0.],\n",
      "        [0., 0., 0., 0., 0., 0., 0., 0., 1., 0.],\n",
      "        [0., 0., 0., 0., 0., 0., 0., 0., 0., 1.]], device='cuda:0')\n"
     ]
    },
    {
     "name": "stderr",
     "output_type": "stream",
     "text": [
      "tensor(0.0044, device='cuda:0', grad_fn=<DivBackward0>): 100%|█| 40000/40000 [00:"
     ]
    },
    {
     "name": "stdout",
     "output_type": "stream",
     "text": [
      "Loss (orig, final): 0.03972477465867996 0.004439035430550575\n",
      "L2 norm of weight change: 0.16885225474834442\n",
      "Performing post-edit metric calculations on validation set.\n"
     ]
    },
    {
     "name": "stderr",
     "output_type": "stream",
     "text": [
      "\n",
      "100%|██████████████████████████████████████████| 274/274 [00:10<00:00, 25.11it/s]"
     ]
    },
    {
     "name": "stdout",
     "output_type": "stream",
     "text": [
      "Post-edit metrics: {'TP': array([6114, 5354, 5290, 4129, 4045, 3123, 5382, 5172, 4822, 4681]), 'TN': array([60228, 61199, 59161, 59150, 60601, 61486, 61641, 61706, 61661,\n",
      "       61279]), 'FPs': array([2772, 1801, 3839, 3850, 2399, 1514, 1359, 1294, 1339, 1721]), 'FNs': array([ 886, 1646, 1710, 2871, 2955, 3877, 1618, 1828, 2178, 2319]), 'accuracy': 0.6873142857142858, 'per_class_accuracy': array([0.94774286, 0.95075714, 0.92072857, 0.90398571, 0.92351429,\n",
      "       0.92298571, 0.95747143, 0.9554    , 0.94975714, 0.94228571]), 'per_class_accuracy_mean': 0.9374628571428572, 'precision': array([0.68804862, 0.74828791, 0.57947201, 0.51748339, 0.6277157 ,\n",
      "       0.67349579, 0.79839786, 0.79987628, 0.78266515, 0.73117776]), 'precision_mean': 0.6946620480191182, 'recall': array([0.87342857, 0.76485714, 0.75571429, 0.58985714, 0.57785714,\n",
      "       0.44614286, 0.76885714, 0.73885714, 0.68885714, 0.66871429]), 'recall_mean': 0.6873142857142857, 'f1': array([0.76973436, 0.75648181, 0.65596131, 0.55130516, 0.60175543,\n",
      "       0.53673627, 0.7833491 , 0.76815684, 0.73277107, 0.69855245]), 'f1_mean': 0.6854803802054661}\n",
      "Saved post-edit metrics saved/edit/trials/identity_cov/CINIC10_ImageNet-VGG_16/0117_201313/dog-train-n02114712_211/quickshift_masked_0/identity/models/post_edit_metrics.pth\n",
      "All metrics and KNN results can be found in saved/edit/trials/identity_cov/CINIC10_ImageNet-VGG_16/0117_201313/dog-train-n02114712_211/quickshift_masked_0/identity/models\n",
      "Finished trial 4/37. Results saved to saved/edit/trials/identity_cov/CINIC10_ImageNet-VGG_16/0117_201313/dog-train-n02114712_211/quickshift_masked_0/identity\n",
      "(0117_202435) Starting Trial 5/37...\n",
      "Current run_id: 0117_201313/dog-train-n02114712_211/slic_masked_0\n"
     ]
    },
    {
     "name": "stderr",
     "output_type": "stream",
     "text": [
      "\n"
     ]
    },
    {
     "name": "stdout",
     "output_type": "stream",
     "text": [
      "saved/edit/trials/identity_cov/CINIC10_ImageNet-VGG_16/0117_201313/dog-train-n02114712_211/slic_masked_0\n",
      "Calling edit()...\n",
      "Created ModelWrapperSanturkar model with 33646666 trainable parameters\n",
      "Restored weights from external_code/PyTorch_CIFAR10/cifar10_models/state_dicts/vgg16_bn.pt\n",
      "Using passed in data loader for validation.\n",
      "Key images: data/cinic-10-imagenet/train/dog/n02114712_211.png\n",
      "Value images: saved/segmentations/dog/dog-train-n02114712_211/modified_images/slic_masked_0.png\n",
      "Masks: None\n",
      "Prepared data for editing\n",
      "Performing pre-edit metric calculations on validation set.\n"
     ]
    },
    {
     "name": "stderr",
     "output_type": "stream",
     "text": [
      "100%|██████████████████████████████████████████| 274/274 [00:11<00:00, 24.84it/s]"
     ]
    },
    {
     "name": "stdout",
     "output_type": "stream",
     "text": [
      "Pre-edit metrics: {'TP': array([6142, 5382, 5203, 3842, 4270, 2990, 5659, 5136, 4820, 4679]), 'TN': array([60115, 61110, 59441, 59902, 60157, 61756, 61050, 61747, 61643,\n",
      "       61202]), 'FPs': array([2885, 1890, 3559, 3098, 2843, 1244, 1950, 1253, 1357, 1798]), 'FNs': array([ 858, 1618, 1797, 3158, 2730, 4010, 1341, 1864, 2180, 2321]), 'accuracy': 0.6874714285714286, 'per_class_accuracy': array([0.94652857, 0.94988571, 0.92348571, 0.91062857, 0.92038571,\n",
      "       0.92494286, 0.95298571, 0.95547143, 0.94947143, 0.94115714]), 'per_class_accuracy_mean': 0.9374942857142857, 'precision': array([0.68040323, 0.74009901, 0.5938142 , 0.55360231, 0.60030929,\n",
      "       0.706188  , 0.74372454, 0.80388167, 0.78031407, 0.72240235]), 'precision_mean': 0.6924738665961387, 'recall': array([0.87742857, 0.76885714, 0.74328571, 0.54885714, 0.61      ,\n",
      "       0.42714286, 0.80842857, 0.73371429, 0.68857143, 0.66842857]), 'recall_mean': 0.6874714285714286, 'f1': array([0.7664566 , 0.75420404, 0.66019541, 0.55121951, 0.60511585,\n",
      "       0.53231262, 0.77472791, 0.76719695, 0.73157775, 0.69436818]), 'f1_mean': 0.6837374824369241}\n",
      "Saved pre-edit metrics saved/edit/trials/identity_cov/CINIC10_ImageNet-VGG_16/0117_201313/dog-train-n02114712_211/slic_masked_0/models/pre_edit_metrics.pth\n",
      "Using passed in covariance data loader.\n",
      "Looking for covariance matrix weights in cache/cinic-10-imagenet-dummy/vgg16_bn-12\n"
     ]
    },
    {
     "name": "stderr",
     "output_type": "stream",
     "text": [
      "\n"
     ]
    },
    {
     "name": "stdout",
     "output_type": "stream",
     "text": [
      "Found precomputed cov matrices, returning...\n",
      "tensor([[ 1.0000e+00, -1.8504e-05, -3.8476e-05, -1.9159e-05, -4.0293e-05,\n",
      "         -3.1667e-05, -2.4137e-05, -2.9244e-05, -4.0682e-05, -2.2710e-05],\n",
      "        [-1.8504e-05,  1.0000e+00, -2.8878e-05, -1.2513e-05, -2.8300e-05,\n",
      "         -2.1209e-05, -1.7897e-05, -2.0580e-05, -2.4006e-05, -1.4785e-05],\n",
      "        [-3.8476e-05, -2.8878e-05,  1.0000e+00, -2.8741e-05, -6.1447e-05,\n",
      "         -4.6148e-05, -3.9829e-05, -4.5861e-05, -4.7019e-05, -3.5061e-05],\n",
      "        [-1.9159e-05, -1.2513e-05, -2.8741e-05,  1.0000e+00, -2.7411e-05,\n",
      "         -2.1258e-05, -1.7047e-05, -1.9973e-05, -2.4082e-05, -1.5679e-05],\n",
      "        [-4.0293e-05, -2.8300e-05, -6.1447e-05, -2.7411e-05,  1.0000e+00,\n",
      "         -4.6443e-05, -5.1575e-05, -4.8059e-05, -5.6685e-05, -3.6807e-05],\n",
      "        [-3.1667e-05, -2.1209e-05, -4.6148e-05, -2.1258e-05, -4.6443e-05,\n",
      "          1.0000e+00, -2.6984e-05, -3.3795e-05, -4.0129e-05, -2.3401e-05],\n",
      "        [-2.4137e-05, -1.7897e-05, -3.9829e-05, -1.7047e-05, -5.1575e-05,\n",
      "         -2.6984e-05,  1.0000e+00, -2.8577e-05, -3.1210e-05, -3.0226e-05],\n",
      "        [-2.9244e-05, -2.0580e-05, -4.5861e-05, -1.9973e-05, -4.8059e-05,\n",
      "         -3.3795e-05, -2.8577e-05,  1.0000e+00, -3.8494e-05, -2.2827e-05],\n",
      "        [-4.0682e-05, -2.4006e-05, -4.7019e-05, -2.4082e-05, -5.6685e-05,\n",
      "         -4.0129e-05, -3.1210e-05, -3.8494e-05,  1.0000e+00, -2.6560e-05],\n",
      "        [-2.2710e-05, -1.4785e-05, -3.5061e-05, -1.5679e-05, -3.6807e-05,\n",
      "         -2.3401e-05, -3.0226e-05, -2.2827e-05, -2.6560e-05,  1.0000e+00]],\n",
      "       device='cuda:0')\n"
     ]
    },
    {
     "name": "stderr",
     "output_type": "stream",
     "text": [
      "tensor(0.0041, device='cuda:0', grad_fn=<DivBackward0>): 100%|█| 40000/40000 [00:"
     ]
    },
    {
     "name": "stdout",
     "output_type": "stream",
     "text": [
      "Loss (orig, final): 0.05687082186341286 0.004090587608516216\n",
      "L2 norm of weight change: 0.19458314776420593\n",
      "Performing post-edit metric calculations on validation set.\n"
     ]
    },
    {
     "name": "stderr",
     "output_type": "stream",
     "text": [
      "\n",
      "100%|██████████████████████████████████████████| 274/274 [00:10<00:00, 25.37it/s]"
     ]
    },
    {
     "name": "stdout",
     "output_type": "stream",
     "text": [
      "Post-edit metrics: {'TP': array([6140, 5331, 5334, 3970, 4290, 3118, 5135, 5173, 4914, 4630]), 'TN': array([60074, 61228, 59001, 59652, 60000, 61508, 62036, 61661, 61514,\n",
      "       61361]), 'FPs': array([2926, 1772, 3999, 3348, 3000, 1492,  964, 1339, 1486, 1639]), 'FNs': array([ 860, 1669, 1666, 3030, 2710, 3882, 1865, 1827, 2086, 2370]), 'accuracy': 0.6862142857142857, 'per_class_accuracy': array([0.94591429, 0.95084286, 0.91907143, 0.90888571, 0.91842857,\n",
      "       0.92322857, 0.95958571, 0.95477143, 0.94897143, 0.94272857]), 'per_class_accuracy_mean': 0.9372428571428572, 'precision': array([0.67725568, 0.75052795, 0.57152041, 0.54249795, 0.58847737,\n",
      "       0.67635575, 0.8419413 , 0.79437961, 0.7678125 , 0.73855479]), 'precision_mean': 0.6949323304994578, 'recall': array([0.87714286, 0.76157143, 0.762     , 0.56714286, 0.61285714,\n",
      "       0.44542857, 0.73357143, 0.739     , 0.702     , 0.66142857]), 'recall_mean': 0.6862142857142857, 'f1': array([0.76434707, 0.75600936, 0.65315619, 0.55454672, 0.60041987,\n",
      "       0.53712317, 0.78402932, 0.76568976, 0.73343284, 0.69786721]), 'f1_mean': 0.6846621500610097}\n",
      "Saved post-edit metrics saved/edit/trials/identity_cov/CINIC10_ImageNet-VGG_16/0117_201313/dog-train-n02114712_211/slic_masked_0/models/post_edit_metrics.pth\n",
      "All metrics and KNN results can be found in saved/edit/trials/identity_cov/CINIC10_ImageNet-VGG_16/0117_201313/dog-train-n02114712_211/slic_masked_0/models\n"
     ]
    },
    {
     "name": "stderr",
     "output_type": "stream",
     "text": [
      "\n"
     ]
    },
    {
     "name": "stdout",
     "output_type": "stream",
     "text": [
      "saved/edit/trials/identity_cov/CINIC10_ImageNet-VGG_16/0117_201313/dog-train-n02114712_211/slic_masked_0/identity\n",
      "Calling edit()...\n",
      "Created ModelWrapperSanturkar model with 33646666 trainable parameters\n",
      "Restored weights from external_code/PyTorch_CIFAR10/cifar10_models/state_dicts/vgg16_bn.pt\n",
      "Using passed in data loader for validation.\n",
      "Key images: data/cinic-10-imagenet/train/dog/n02114712_211.png\n",
      "Value images: saved/segmentations/dog/dog-train-n02114712_211/modified_images/slic_masked_0.png\n",
      "Masks: None\n",
      "Prepared data for editing\n",
      "Performing pre-edit metric calculations on validation set.\n"
     ]
    },
    {
     "name": "stderr",
     "output_type": "stream",
     "text": [
      "100%|██████████████████████████████████████████| 274/274 [00:11<00:00, 24.86it/s]"
     ]
    },
    {
     "name": "stdout",
     "output_type": "stream",
     "text": [
      "Pre-edit metrics: {'TP': array([6142, 5382, 5203, 3842, 4270, 2990, 5659, 5136, 4820, 4679]), 'TN': array([60115, 61110, 59441, 59902, 60157, 61756, 61050, 61747, 61643,\n",
      "       61202]), 'FPs': array([2885, 1890, 3559, 3098, 2843, 1244, 1950, 1253, 1357, 1798]), 'FNs': array([ 858, 1618, 1797, 3158, 2730, 4010, 1341, 1864, 2180, 2321]), 'accuracy': 0.6874714285714286, 'per_class_accuracy': array([0.94652857, 0.94988571, 0.92348571, 0.91062857, 0.92038571,\n",
      "       0.92494286, 0.95298571, 0.95547143, 0.94947143, 0.94115714]), 'per_class_accuracy_mean': 0.9374942857142857, 'precision': array([0.68040323, 0.74009901, 0.5938142 , 0.55360231, 0.60030929,\n",
      "       0.706188  , 0.74372454, 0.80388167, 0.78031407, 0.72240235]), 'precision_mean': 0.6924738665961387, 'recall': array([0.87742857, 0.76885714, 0.74328571, 0.54885714, 0.61      ,\n",
      "       0.42714286, 0.80842857, 0.73371429, 0.68857143, 0.66842857]), 'recall_mean': 0.6874714285714286, 'f1': array([0.7664566 , 0.75420404, 0.66019541, 0.55121951, 0.60511585,\n",
      "       0.53231262, 0.77472791, 0.76719695, 0.73157775, 0.69436818]), 'f1_mean': 0.6837374824369241}\n",
      "Saved pre-edit metrics saved/edit/trials/identity_cov/CINIC10_ImageNet-VGG_16/0117_201313/dog-train-n02114712_211/slic_masked_0/identity/models/pre_edit_metrics.pth\n",
      "No data loader for covariance matrix. Will use identity matrix\n",
      "Looking for covariance matrix weights in cache/identity/vgg16_bn-12\n"
     ]
    },
    {
     "name": "stderr",
     "output_type": "stream",
     "text": [
      "\n"
     ]
    },
    {
     "name": "stdout",
     "output_type": "stream",
     "text": [
      "Found precomputed cov matrices, returning...\n",
      "tensor([[1., 0., 0., 0., 0., 0., 0., 0., 0., 0.],\n",
      "        [0., 1., 0., 0., 0., 0., 0., 0., 0., 0.],\n",
      "        [0., 0., 1., 0., 0., 0., 0., 0., 0., 0.],\n",
      "        [0., 0., 0., 1., 0., 0., 0., 0., 0., 0.],\n",
      "        [0., 0., 0., 0., 1., 0., 0., 0., 0., 0.],\n",
      "        [0., 0., 0., 0., 0., 1., 0., 0., 0., 0.],\n",
      "        [0., 0., 0., 0., 0., 0., 1., 0., 0., 0.],\n",
      "        [0., 0., 0., 0., 0., 0., 0., 1., 0., 0.],\n",
      "        [0., 0., 0., 0., 0., 0., 0., 0., 1., 0.],\n",
      "        [0., 0., 0., 0., 0., 0., 0., 0., 0., 1.]], device='cuda:0')\n"
     ]
    },
    {
     "name": "stderr",
     "output_type": "stream",
     "text": [
      "tensor(0.0041, device='cuda:0', grad_fn=<DivBackward0>): 100%|█| 40000/40000 [00:"
     ]
    },
    {
     "name": "stdout",
     "output_type": "stream",
     "text": [
      "Loss (orig, final): 0.05687082186341286 0.004078604746609926\n",
      "L2 norm of weight change: 0.1953766644001007\n",
      "Performing post-edit metric calculations on validation set.\n"
     ]
    },
    {
     "name": "stderr",
     "output_type": "stream",
     "text": [
      "\n",
      "100%|██████████████████████████████████████████| 274/274 [00:10<00:00, 25.61it/s]"
     ]
    },
    {
     "name": "stdout",
     "output_type": "stream",
     "text": [
      "Post-edit metrics: {'TP': array([6140, 5327, 5334, 3970, 4289, 3118, 5133, 5174, 4918, 4629]), 'TN': array([60072, 61231, 59000, 59645, 60002, 61502, 62039, 61663, 61514,\n",
      "       61364]), 'FPs': array([2928, 1769, 4000, 3355, 2998, 1498,  961, 1337, 1486, 1636]), 'FNs': array([ 860, 1673, 1666, 3030, 2711, 3882, 1867, 1826, 2082, 2371]), 'accuracy': 0.6861714285714285, 'per_class_accuracy': array([0.94588571, 0.95082857, 0.91905714, 0.90878571, 0.91844286,\n",
      "       0.92314286, 0.9596    , 0.95481429, 0.94902857, 0.94275714]), 'per_class_accuracy_mean': 0.9372342857142858, 'precision': array([0.67710631, 0.75070462, 0.57145918, 0.54197952, 0.58858241,\n",
      "       0.6754766 , 0.84230391, 0.7946552 , 0.76795753, 0.73886672]), 'precision_mean': 0.694909199482866, 'recall': array([0.87714286, 0.761     , 0.762     , 0.56714286, 0.61271429,\n",
      "       0.44542857, 0.73328571, 0.73914286, 0.70257143, 0.66128571]), 'recall_mean': 0.6861714285714287, 'f1': array([0.76425193, 0.75581725, 0.6531162 , 0.55427574, 0.60040596,\n",
      "       0.53684573, 0.78402322, 0.76589446, 0.7338108 , 0.69792688]), 'f1_mean': 0.6846368168052269}\n",
      "Saved post-edit metrics saved/edit/trials/identity_cov/CINIC10_ImageNet-VGG_16/0117_201313/dog-train-n02114712_211/slic_masked_0/identity/models/post_edit_metrics.pth\n",
      "All metrics and KNN results can be found in saved/edit/trials/identity_cov/CINIC10_ImageNet-VGG_16/0117_201313/dog-train-n02114712_211/slic_masked_0/identity/models\n"
     ]
    },
    {
     "name": "stderr",
     "output_type": "stream",
     "text": [
      "\n"
     ]
    },
    {
     "name": "stdout",
     "output_type": "stream",
     "text": [
      "Finished trial 5/37. Results saved to saved/edit/trials/identity_cov/CINIC10_ImageNet-VGG_16/0117_201313/dog-train-n02114712_211/slic_masked_0/identity\n",
      "(0117_202637) Starting Trial 6/37...\n",
      "Current run_id: 0117_201313/dog-train-n02114712_211/watershed_masked_1\n",
      "saved/edit/trials/identity_cov/CINIC10_ImageNet-VGG_16/0117_201313/dog-train-n02114712_211/watershed_masked_1\n",
      "Calling edit()...\n",
      "Created ModelWrapperSanturkar model with 33646666 trainable parameters\n",
      "Restored weights from external_code/PyTorch_CIFAR10/cifar10_models/state_dicts/vgg16_bn.pt\n",
      "Using passed in data loader for validation.\n",
      "Key images: data/cinic-10-imagenet/train/dog/n02114712_211.png\n",
      "Value images: saved/segmentations/dog/dog-train-n02114712_211/modified_images/watershed_masked_1.png\n",
      "Masks: None\n",
      "Prepared data for editing\n",
      "Performing pre-edit metric calculations on validation set.\n"
     ]
    },
    {
     "name": "stderr",
     "output_type": "stream",
     "text": [
      "100%|██████████████████████████████████████████| 274/274 [00:10<00:00, 26.39it/s]"
     ]
    },
    {
     "name": "stdout",
     "output_type": "stream",
     "text": [
      "Pre-edit metrics: {'TP': array([6142, 5382, 5203, 3842, 4270, 2990, 5659, 5136, 4820, 4679]), 'TN': array([60115, 61110, 59441, 59902, 60157, 61756, 61050, 61747, 61643,\n",
      "       61202]), 'FPs': array([2885, 1890, 3559, 3098, 2843, 1244, 1950, 1253, 1357, 1798]), 'FNs': array([ 858, 1618, 1797, 3158, 2730, 4010, 1341, 1864, 2180, 2321]), 'accuracy': 0.6874714285714286, 'per_class_accuracy': array([0.94652857, 0.94988571, 0.92348571, 0.91062857, 0.92038571,\n",
      "       0.92494286, 0.95298571, 0.95547143, 0.94947143, 0.94115714]), 'per_class_accuracy_mean': 0.9374942857142857, 'precision': array([0.68040323, 0.74009901, 0.5938142 , 0.55360231, 0.60030929,\n",
      "       0.706188  , 0.74372454, 0.80388167, 0.78031407, 0.72240235]), 'precision_mean': 0.6924738665961387, 'recall': array([0.87742857, 0.76885714, 0.74328571, 0.54885714, 0.61      ,\n",
      "       0.42714286, 0.80842857, 0.73371429, 0.68857143, 0.66842857]), 'recall_mean': 0.6874714285714286, 'f1': array([0.7664566 , 0.75420404, 0.66019541, 0.55121951, 0.60511585,\n",
      "       0.53231262, 0.77472791, 0.76719695, 0.73157775, 0.69436818]), 'f1_mean': 0.6837374824369241}\n",
      "Saved pre-edit metrics saved/edit/trials/identity_cov/CINIC10_ImageNet-VGG_16/0117_201313/dog-train-n02114712_211/watershed_masked_1/models/pre_edit_metrics.pth\n",
      "Using passed in covariance data loader.\n",
      "Looking for covariance matrix weights in cache/cinic-10-imagenet-dummy/vgg16_bn-12\n"
     ]
    },
    {
     "name": "stderr",
     "output_type": "stream",
     "text": [
      "\n"
     ]
    },
    {
     "name": "stdout",
     "output_type": "stream",
     "text": [
      "Found precomputed cov matrices, returning...\n",
      "tensor([[ 1.0000e+00, -1.8504e-05, -3.8476e-05, -1.9159e-05, -4.0293e-05,\n",
      "         -3.1667e-05, -2.4137e-05, -2.9244e-05, -4.0682e-05, -2.2710e-05],\n",
      "        [-1.8504e-05,  1.0000e+00, -2.8878e-05, -1.2513e-05, -2.8300e-05,\n",
      "         -2.1209e-05, -1.7897e-05, -2.0580e-05, -2.4006e-05, -1.4785e-05],\n",
      "        [-3.8476e-05, -2.8878e-05,  1.0000e+00, -2.8741e-05, -6.1447e-05,\n",
      "         -4.6148e-05, -3.9829e-05, -4.5861e-05, -4.7019e-05, -3.5061e-05],\n",
      "        [-1.9159e-05, -1.2513e-05, -2.8741e-05,  1.0000e+00, -2.7411e-05,\n",
      "         -2.1258e-05, -1.7047e-05, -1.9973e-05, -2.4082e-05, -1.5679e-05],\n",
      "        [-4.0293e-05, -2.8300e-05, -6.1447e-05, -2.7411e-05,  1.0000e+00,\n",
      "         -4.6443e-05, -5.1575e-05, -4.8059e-05, -5.6685e-05, -3.6807e-05],\n",
      "        [-3.1667e-05, -2.1209e-05, -4.6148e-05, -2.1258e-05, -4.6443e-05,\n",
      "          1.0000e+00, -2.6984e-05, -3.3795e-05, -4.0129e-05, -2.3401e-05],\n",
      "        [-2.4137e-05, -1.7897e-05, -3.9829e-05, -1.7047e-05, -5.1575e-05,\n",
      "         -2.6984e-05,  1.0000e+00, -2.8577e-05, -3.1210e-05, -3.0226e-05],\n",
      "        [-2.9244e-05, -2.0580e-05, -4.5861e-05, -1.9973e-05, -4.8059e-05,\n",
      "         -3.3795e-05, -2.8577e-05,  1.0000e+00, -3.8494e-05, -2.2827e-05],\n",
      "        [-4.0682e-05, -2.4006e-05, -4.7019e-05, -2.4082e-05, -5.6685e-05,\n",
      "         -4.0129e-05, -3.1210e-05, -3.8494e-05,  1.0000e+00, -2.6560e-05],\n",
      "        [-2.2710e-05, -1.4785e-05, -3.5061e-05, -1.5679e-05, -3.6807e-05,\n",
      "         -2.3401e-05, -3.0226e-05, -2.2827e-05, -2.6560e-05,  1.0000e+00]],\n",
      "       device='cuda:0')\n"
     ]
    },
    {
     "name": "stderr",
     "output_type": "stream",
     "text": [
      "tensor(0.0053, device='cuda:0', grad_fn=<DivBackward0>): 100%|█| 40000/40000 [00:"
     ]
    },
    {
     "name": "stdout",
     "output_type": "stream",
     "text": [
      "Loss (orig, final): 0.07313120365142822 0.005339477211236954\n",
      "L2 norm of weight change: 0.25709590315818787\n",
      "Performing post-edit metric calculations on validation set.\n"
     ]
    },
    {
     "name": "stderr",
     "output_type": "stream",
     "text": [
      "\n",
      "100%|██████████████████████████████████████████| 274/274 [00:10<00:00, 26.04it/s]"
     ]
    },
    {
     "name": "stdout",
     "output_type": "stream",
     "text": [
      "Post-edit metrics: {'TP': array([6093, 5316, 5119, 4275, 4212, 3290, 5078, 5169, 4922, 4638]), 'TN': array([60332, 61259, 59769, 58683, 60186, 61102, 62167, 61684, 61529,\n",
      "       61401]), 'FPs': array([2668, 1741, 3231, 4317, 2814, 1898,  833, 1316, 1471, 1599]), 'FNs': array([ 907, 1684, 1881, 2725, 2788, 3710, 1922, 1831, 2078, 2362]), 'accuracy': 0.6873142857142858, 'per_class_accuracy': array([0.94892857, 0.95107143, 0.92697143, 0.8994    , 0.91997143,\n",
      "       0.91988571, 0.96064286, 0.95504286, 0.9493    , 0.94341429]), 'per_class_accuracy_mean': 0.9374628571428574, 'precision': array([0.69546855, 0.7532946 , 0.61305389, 0.49755587, 0.59948762,\n",
      "       0.63415574, 0.8590763 , 0.79707016, 0.76990458, 0.74362674]), 'precision_mean': 0.6962694061609698, 'recall': array([0.87042857, 0.75942857, 0.73128571, 0.61071429, 0.60171429,\n",
      "       0.47      , 0.72542857, 0.73842857, 0.70314286, 0.66257143]), 'recall_mean': 0.6873142857142857, 'f1': array([0.77317429, 0.75634915, 0.66697068, 0.54835813, 0.60059889,\n",
      "       0.53987529, 0.78661606, 0.76662959, 0.73501083, 0.70076301]), 'f1_mean': 0.6874345923794893}\n",
      "Saved post-edit metrics saved/edit/trials/identity_cov/CINIC10_ImageNet-VGG_16/0117_201313/dog-train-n02114712_211/watershed_masked_1/models/post_edit_metrics.pth\n",
      "All metrics and KNN results can be found in saved/edit/trials/identity_cov/CINIC10_ImageNet-VGG_16/0117_201313/dog-train-n02114712_211/watershed_masked_1/models\n"
     ]
    },
    {
     "name": "stderr",
     "output_type": "stream",
     "text": [
      "\n"
     ]
    },
    {
     "name": "stdout",
     "output_type": "stream",
     "text": [
      "saved/edit/trials/identity_cov/CINIC10_ImageNet-VGG_16/0117_201313/dog-train-n02114712_211/watershed_masked_1/identity\n",
      "Calling edit()...\n",
      "Created ModelWrapperSanturkar model with 33646666 trainable parameters\n",
      "Restored weights from external_code/PyTorch_CIFAR10/cifar10_models/state_dicts/vgg16_bn.pt\n",
      "Using passed in data loader for validation.\n",
      "Key images: data/cinic-10-imagenet/train/dog/n02114712_211.png\n",
      "Value images: saved/segmentations/dog/dog-train-n02114712_211/modified_images/watershed_masked_1.png\n",
      "Masks: None\n",
      "Prepared data for editing\n",
      "Performing pre-edit metric calculations on validation set.\n"
     ]
    },
    {
     "name": "stderr",
     "output_type": "stream",
     "text": [
      "100%|██████████████████████████████████████████| 274/274 [00:10<00:00, 25.55it/s]"
     ]
    },
    {
     "name": "stdout",
     "output_type": "stream",
     "text": [
      "Pre-edit metrics: {'TP': array([6142, 5382, 5203, 3842, 4270, 2990, 5659, 5136, 4820, 4679]), 'TN': array([60115, 61110, 59441, 59902, 60157, 61756, 61050, 61747, 61643,\n",
      "       61202]), 'FPs': array([2885, 1890, 3559, 3098, 2843, 1244, 1950, 1253, 1357, 1798]), 'FNs': array([ 858, 1618, 1797, 3158, 2730, 4010, 1341, 1864, 2180, 2321]), 'accuracy': 0.6874714285714286, 'per_class_accuracy': array([0.94652857, 0.94988571, 0.92348571, 0.91062857, 0.92038571,\n",
      "       0.92494286, 0.95298571, 0.95547143, 0.94947143, 0.94115714]), 'per_class_accuracy_mean': 0.9374942857142857, 'precision': array([0.68040323, 0.74009901, 0.5938142 , 0.55360231, 0.60030929,\n",
      "       0.706188  , 0.74372454, 0.80388167, 0.78031407, 0.72240235]), 'precision_mean': 0.6924738665961387, 'recall': array([0.87742857, 0.76885714, 0.74328571, 0.54885714, 0.61      ,\n",
      "       0.42714286, 0.80842857, 0.73371429, 0.68857143, 0.66842857]), 'recall_mean': 0.6874714285714286, 'f1': array([0.7664566 , 0.75420404, 0.66019541, 0.55121951, 0.60511585,\n",
      "       0.53231262, 0.77472791, 0.76719695, 0.73157775, 0.69436818]), 'f1_mean': 0.6837374824369241}\n",
      "Saved pre-edit metrics saved/edit/trials/identity_cov/CINIC10_ImageNet-VGG_16/0117_201313/dog-train-n02114712_211/watershed_masked_1/identity/models/pre_edit_metrics.pth\n",
      "No data loader for covariance matrix. Will use identity matrix\n",
      "Looking for covariance matrix weights in cache/identity/vgg16_bn-12\n"
     ]
    },
    {
     "name": "stderr",
     "output_type": "stream",
     "text": [
      "\n"
     ]
    },
    {
     "name": "stdout",
     "output_type": "stream",
     "text": [
      "Found precomputed cov matrices, returning...\n",
      "tensor([[1., 0., 0., 0., 0., 0., 0., 0., 0., 0.],\n",
      "        [0., 1., 0., 0., 0., 0., 0., 0., 0., 0.],\n",
      "        [0., 0., 1., 0., 0., 0., 0., 0., 0., 0.],\n",
      "        [0., 0., 0., 1., 0., 0., 0., 0., 0., 0.],\n",
      "        [0., 0., 0., 0., 1., 0., 0., 0., 0., 0.],\n",
      "        [0., 0., 0., 0., 0., 1., 0., 0., 0., 0.],\n",
      "        [0., 0., 0., 0., 0., 0., 1., 0., 0., 0.],\n",
      "        [0., 0., 0., 0., 0., 0., 0., 1., 0., 0.],\n",
      "        [0., 0., 0., 0., 0., 0., 0., 0., 1., 0.],\n",
      "        [0., 0., 0., 0., 0., 0., 0., 0., 0., 1.]], device='cuda:0')\n"
     ]
    },
    {
     "name": "stderr",
     "output_type": "stream",
     "text": [
      "tensor(0.0054, device='cuda:0', grad_fn=<DivBackward0>): 100%|█| 40000/40000 [00:"
     ]
    },
    {
     "name": "stdout",
     "output_type": "stream",
     "text": [
      "Loss (orig, final): 0.07313120365142822 0.005356200039386749\n",
      "L2 norm of weight change: 0.2562522888183594\n",
      "Performing post-edit metric calculations on validation set.\n"
     ]
    },
    {
     "name": "stderr",
     "output_type": "stream",
     "text": [
      "\n",
      "100%|██████████████████████████████████████████| 274/274 [00:10<00:00, 27.30it/s]"
     ]
    },
    {
     "name": "stdout",
     "output_type": "stream",
     "text": [
      "Post-edit metrics: {'TP': array([6093, 5315, 5120, 4273, 4211, 3294, 5083, 5170, 4921, 4637]), 'TN': array([60339, 61262, 59764, 58688, 60190, 61095, 62164, 61681, 61529,\n",
      "       61405]), 'FPs': array([2661, 1738, 3236, 4312, 2810, 1905,  836, 1319, 1471, 1595]), 'FNs': array([ 907, 1685, 1880, 2727, 2789, 3706, 1917, 1830, 2079, 2363]), 'accuracy': 0.6873857142857143, 'per_class_accuracy': array([0.94902857, 0.9511    , 0.92691429, 0.89944286, 0.92001429,\n",
      "       0.91984286, 0.96067143, 0.95501429, 0.94928571, 0.94345714]), 'per_class_accuracy_mean': 0.937477142857143, 'precision': array([0.69602467, 0.75358004, 0.61273337, 0.4977286 , 0.59977211,\n",
      "       0.63358338, 0.85875993, 0.79673293, 0.76986859, 0.7440629 ]), 'precision_mean': 0.6962846511793973, 'recall': array([0.87042857, 0.75928571, 0.73142857, 0.61042857, 0.60157143,\n",
      "       0.47057143, 0.72614286, 0.73857143, 0.703     , 0.66242857]), 'recall_mean': 0.6873857142857143, 'f1': array([0.77351784, 0.75642212, 0.66684032, 0.54834777, 0.60067042,\n",
      "       0.54004427, 0.78690301, 0.76655052, 0.73491637, 0.70087666]), 'f1_mean': 0.6875089299501139}\n",
      "Saved post-edit metrics saved/edit/trials/identity_cov/CINIC10_ImageNet-VGG_16/0117_201313/dog-train-n02114712_211/watershed_masked_1/identity/models/post_edit_metrics.pth\n",
      "All metrics and KNN results can be found in saved/edit/trials/identity_cov/CINIC10_ImageNet-VGG_16/0117_201313/dog-train-n02114712_211/watershed_masked_1/identity/models\n",
      "Finished trial 6/37. Results saved to saved/edit/trials/identity_cov/CINIC10_ImageNet-VGG_16/0117_201313/dog-train-n02114712_211/watershed_masked_1/identity\n",
      "(0117_202839) Starting Trial 7/37...\n",
      "Current run_id: 0117_201313/dog-train-n02110341_7544/slic_masked_2\n"
     ]
    },
    {
     "name": "stderr",
     "output_type": "stream",
     "text": [
      "\n"
     ]
    },
    {
     "name": "stdout",
     "output_type": "stream",
     "text": [
      "saved/edit/trials/identity_cov/CINIC10_ImageNet-VGG_16/0117_201313/dog-train-n02110341_7544/slic_masked_2\n",
      "Calling edit()...\n",
      "Created ModelWrapperSanturkar model with 33646666 trainable parameters\n",
      "Restored weights from external_code/PyTorch_CIFAR10/cifar10_models/state_dicts/vgg16_bn.pt\n",
      "Using passed in data loader for validation.\n",
      "Key images: data/cinic-10-imagenet/train/dog/n02110341_7544.png\n",
      "Value images: saved/segmentations/dog/dog-train-n02110341_7544/modified_images/slic_masked_2.png\n",
      "Masks: None\n",
      "Prepared data for editing\n",
      "Performing pre-edit metric calculations on validation set.\n"
     ]
    },
    {
     "name": "stderr",
     "output_type": "stream",
     "text": [
      "100%|██████████████████████████████████████████| 274/274 [00:09<00:00, 28.53it/s]"
     ]
    },
    {
     "name": "stdout",
     "output_type": "stream",
     "text": [
      "Pre-edit metrics: {'TP': array([6142, 5382, 5203, 3842, 4270, 2990, 5659, 5136, 4820, 4679]), 'TN': array([60115, 61110, 59441, 59902, 60157, 61756, 61050, 61747, 61643,\n",
      "       61202]), 'FPs': array([2885, 1890, 3559, 3098, 2843, 1244, 1950, 1253, 1357, 1798]), 'FNs': array([ 858, 1618, 1797, 3158, 2730, 4010, 1341, 1864, 2180, 2321]), 'accuracy': 0.6874714285714286, 'per_class_accuracy': array([0.94652857, 0.94988571, 0.92348571, 0.91062857, 0.92038571,\n",
      "       0.92494286, 0.95298571, 0.95547143, 0.94947143, 0.94115714]), 'per_class_accuracy_mean': 0.9374942857142857, 'precision': array([0.68040323, 0.74009901, 0.5938142 , 0.55360231, 0.60030929,\n",
      "       0.706188  , 0.74372454, 0.80388167, 0.78031407, 0.72240235]), 'precision_mean': 0.6924738665961387, 'recall': array([0.87742857, 0.76885714, 0.74328571, 0.54885714, 0.61      ,\n",
      "       0.42714286, 0.80842857, 0.73371429, 0.68857143, 0.66842857]), 'recall_mean': 0.6874714285714286, 'f1': array([0.7664566 , 0.75420404, 0.66019541, 0.55121951, 0.60511585,\n",
      "       0.53231262, 0.77472791, 0.76719695, 0.73157775, 0.69436818]), 'f1_mean': 0.6837374824369241}\n",
      "Saved pre-edit metrics saved/edit/trials/identity_cov/CINIC10_ImageNet-VGG_16/0117_201313/dog-train-n02110341_7544/slic_masked_2/models/pre_edit_metrics.pth\n",
      "Using passed in covariance data loader.\n",
      "Looking for covariance matrix weights in cache/cinic-10-imagenet-dummy/vgg16_bn-12\n"
     ]
    },
    {
     "name": "stderr",
     "output_type": "stream",
     "text": [
      "\n"
     ]
    },
    {
     "name": "stdout",
     "output_type": "stream",
     "text": [
      "Found precomputed cov matrices, returning...\n",
      "tensor([[ 1.0000e+00, -1.8504e-05, -3.8476e-05, -1.9159e-05, -4.0293e-05,\n",
      "         -3.1667e-05, -2.4137e-05, -2.9244e-05, -4.0682e-05, -2.2710e-05],\n",
      "        [-1.8504e-05,  1.0000e+00, -2.8878e-05, -1.2513e-05, -2.8300e-05,\n",
      "         -2.1209e-05, -1.7897e-05, -2.0580e-05, -2.4006e-05, -1.4785e-05],\n",
      "        [-3.8476e-05, -2.8878e-05,  1.0000e+00, -2.8741e-05, -6.1447e-05,\n",
      "         -4.6148e-05, -3.9829e-05, -4.5861e-05, -4.7019e-05, -3.5061e-05],\n",
      "        [-1.9159e-05, -1.2513e-05, -2.8741e-05,  1.0000e+00, -2.7411e-05,\n",
      "         -2.1258e-05, -1.7047e-05, -1.9973e-05, -2.4082e-05, -1.5679e-05],\n",
      "        [-4.0293e-05, -2.8300e-05, -6.1447e-05, -2.7411e-05,  1.0000e+00,\n",
      "         -4.6443e-05, -5.1575e-05, -4.8059e-05, -5.6685e-05, -3.6807e-05],\n",
      "        [-3.1667e-05, -2.1209e-05, -4.6148e-05, -2.1258e-05, -4.6443e-05,\n",
      "          1.0000e+00, -2.6984e-05, -3.3795e-05, -4.0129e-05, -2.3401e-05],\n",
      "        [-2.4137e-05, -1.7897e-05, -3.9829e-05, -1.7047e-05, -5.1575e-05,\n",
      "         -2.6984e-05,  1.0000e+00, -2.8577e-05, -3.1210e-05, -3.0226e-05],\n",
      "        [-2.9244e-05, -2.0580e-05, -4.5861e-05, -1.9973e-05, -4.8059e-05,\n",
      "         -3.3795e-05, -2.8577e-05,  1.0000e+00, -3.8494e-05, -2.2827e-05],\n",
      "        [-4.0682e-05, -2.4006e-05, -4.7019e-05, -2.4082e-05, -5.6685e-05,\n",
      "         -4.0129e-05, -3.1210e-05, -3.8494e-05,  1.0000e+00, -2.6560e-05],\n",
      "        [-2.2710e-05, -1.4785e-05, -3.5061e-05, -1.5679e-05, -3.6807e-05,\n",
      "         -2.3401e-05, -3.0226e-05, -2.2827e-05, -2.6560e-05,  1.0000e+00]],\n",
      "       device='cuda:0')\n"
     ]
    },
    {
     "name": "stderr",
     "output_type": "stream",
     "text": [
      "tensor(0.0263, device='cuda:0', grad_fn=<DivBackward0>): 100%|█| 40000/40000 [00:"
     ]
    },
    {
     "name": "stdout",
     "output_type": "stream",
     "text": [
      "Loss (orig, final): 0.14896440505981445 0.026330377906560898\n",
      "L2 norm of weight change: 0.3818454146385193\n",
      "Performing post-edit metric calculations on validation set.\n"
     ]
    },
    {
     "name": "stderr",
     "output_type": "stream",
     "text": [
      "\n",
      "100%|██████████████████████████████████████████| 274/274 [00:09<00:00, 27.83it/s]"
     ]
    },
    {
     "name": "stdout",
     "output_type": "stream",
     "text": [
      "Post-edit metrics: {'TP': array([6093, 5403, 2698, 4157, 4485, 3450, 5721, 5064, 5034, 4668]), 'TN': array([60431, 61070, 62757, 58834, 59488, 58650, 61103, 61867, 61350,\n",
      "       61223]), 'FPs': array([2569, 1930,  243, 4166, 3512, 4350, 1897, 1133, 1650, 1777]), 'FNs': array([ 907, 1597, 4302, 2843, 2515, 3550, 1279, 1936, 1966, 2332]), 'accuracy': 0.6681857142857143, 'per_class_accuracy': array([0.95034286, 0.94961429, 0.93507143, 0.89987143, 0.9139    ,\n",
      "       0.88714286, 0.95462857, 0.95615714, 0.94834286, 0.9413    ]), 'per_class_accuracy_mean': 0.9336371428571428, 'precision': array([0.70341722, 0.73680622, 0.91737504, 0.49945933, 0.56083531,\n",
      "       0.44230769, 0.75098451, 0.8171696 , 0.75314183, 0.72428239]), 'precision_mean': 0.6905779149996096, 'recall': array([0.87042857, 0.77185714, 0.38542857, 0.59385714, 0.64071429,\n",
      "       0.49285714, 0.81728571, 0.72342857, 0.71914286, 0.66685714]), 'recall_mean': 0.6681857142857142, 'f1': array([0.77806155, 0.75392451, 0.54280253, 0.54258305, 0.59811962,\n",
      "       0.46621622, 0.78273362, 0.76744715, 0.73574978, 0.69438453]), 'f1_mean': 0.6662022553813569}\n",
      "Saved post-edit metrics saved/edit/trials/identity_cov/CINIC10_ImageNet-VGG_16/0117_201313/dog-train-n02110341_7544/slic_masked_2/models/post_edit_metrics.pth\n",
      "All metrics and KNN results can be found in saved/edit/trials/identity_cov/CINIC10_ImageNet-VGG_16/0117_201313/dog-train-n02110341_7544/slic_masked_2/models\n"
     ]
    },
    {
     "name": "stderr",
     "output_type": "stream",
     "text": [
      "\n"
     ]
    },
    {
     "name": "stdout",
     "output_type": "stream",
     "text": [
      "saved/edit/trials/identity_cov/CINIC10_ImageNet-VGG_16/0117_201313/dog-train-n02110341_7544/slic_masked_2/identity\n",
      "Calling edit()...\n",
      "Created ModelWrapperSanturkar model with 33646666 trainable parameters\n",
      "Restored weights from external_code/PyTorch_CIFAR10/cifar10_models/state_dicts/vgg16_bn.pt\n",
      "Using passed in data loader for validation.\n",
      "Key images: data/cinic-10-imagenet/train/dog/n02110341_7544.png\n",
      "Value images: saved/segmentations/dog/dog-train-n02110341_7544/modified_images/slic_masked_2.png\n",
      "Masks: None\n",
      "Prepared data for editing\n",
      "Performing pre-edit metric calculations on validation set.\n"
     ]
    },
    {
     "name": "stderr",
     "output_type": "stream",
     "text": [
      "100%|██████████████████████████████████████████| 274/274 [00:09<00:00, 28.57it/s]"
     ]
    },
    {
     "name": "stdout",
     "output_type": "stream",
     "text": [
      "Pre-edit metrics: {'TP': array([6142, 5382, 5203, 3842, 4270, 2990, 5659, 5136, 4820, 4679]), 'TN': array([60115, 61110, 59441, 59902, 60157, 61756, 61050, 61747, 61643,\n",
      "       61202]), 'FPs': array([2885, 1890, 3559, 3098, 2843, 1244, 1950, 1253, 1357, 1798]), 'FNs': array([ 858, 1618, 1797, 3158, 2730, 4010, 1341, 1864, 2180, 2321]), 'accuracy': 0.6874714285714286, 'per_class_accuracy': array([0.94652857, 0.94988571, 0.92348571, 0.91062857, 0.92038571,\n",
      "       0.92494286, 0.95298571, 0.95547143, 0.94947143, 0.94115714]), 'per_class_accuracy_mean': 0.9374942857142857, 'precision': array([0.68040323, 0.74009901, 0.5938142 , 0.55360231, 0.60030929,\n",
      "       0.706188  , 0.74372454, 0.80388167, 0.78031407, 0.72240235]), 'precision_mean': 0.6924738665961387, 'recall': array([0.87742857, 0.76885714, 0.74328571, 0.54885714, 0.61      ,\n",
      "       0.42714286, 0.80842857, 0.73371429, 0.68857143, 0.66842857]), 'recall_mean': 0.6874714285714286, 'f1': array([0.7664566 , 0.75420404, 0.66019541, 0.55121951, 0.60511585,\n",
      "       0.53231262, 0.77472791, 0.76719695, 0.73157775, 0.69436818]), 'f1_mean': 0.6837374824369241}\n",
      "Saved pre-edit metrics saved/edit/trials/identity_cov/CINIC10_ImageNet-VGG_16/0117_201313/dog-train-n02110341_7544/slic_masked_2/identity/models/pre_edit_metrics.pth\n",
      "No data loader for covariance matrix. Will use identity matrix\n",
      "Looking for covariance matrix weights in cache/identity/vgg16_bn-12\n"
     ]
    },
    {
     "name": "stderr",
     "output_type": "stream",
     "text": [
      "\n"
     ]
    },
    {
     "name": "stdout",
     "output_type": "stream",
     "text": [
      "Found precomputed cov matrices, returning...\n",
      "tensor([[1., 0., 0., 0., 0., 0., 0., 0., 0., 0.],\n",
      "        [0., 1., 0., 0., 0., 0., 0., 0., 0., 0.],\n",
      "        [0., 0., 1., 0., 0., 0., 0., 0., 0., 0.],\n",
      "        [0., 0., 0., 1., 0., 0., 0., 0., 0., 0.],\n",
      "        [0., 0., 0., 0., 1., 0., 0., 0., 0., 0.],\n",
      "        [0., 0., 0., 0., 0., 1., 0., 0., 0., 0.],\n",
      "        [0., 0., 0., 0., 0., 0., 1., 0., 0., 0.],\n",
      "        [0., 0., 0., 0., 0., 0., 0., 1., 0., 0.],\n",
      "        [0., 0., 0., 0., 0., 0., 0., 0., 1., 0.],\n",
      "        [0., 0., 0., 0., 0., 0., 0., 0., 0., 1.]], device='cuda:0')\n"
     ]
    },
    {
     "name": "stderr",
     "output_type": "stream",
     "text": [
      "tensor(0.0263, device='cuda:0', grad_fn=<DivBackward0>): 100%|█| 40000/40000 [00:"
     ]
    },
    {
     "name": "stdout",
     "output_type": "stream",
     "text": [
      "Loss (orig, final): 0.14896440505981445 0.02626872807741165\n",
      "L2 norm of weight change: 0.3824714720249176\n",
      "Performing post-edit metric calculations on validation set.\n"
     ]
    },
    {
     "name": "stderr",
     "output_type": "stream",
     "text": [
      "\n",
      "100%|██████████████████████████████████████████| 274/274 [00:09<00:00, 28.24it/s]"
     ]
    },
    {
     "name": "stdout",
     "output_type": "stream",
     "text": [
      "Post-edit metrics: {'TP': array([6092, 5404, 2621, 4155, 4488, 3458, 5715, 5063, 5032, 4667]), 'TN': array([60443, 61069, 62781, 58829, 59487, 58524, 61115, 61870, 61350,\n",
      "       61227]), 'FPs': array([2557, 1931,  219, 4171, 3513, 4476, 1885, 1130, 1650, 1773]), 'FNs': array([ 908, 1596, 4379, 2845, 2512, 3542, 1285, 1937, 1968, 2333]), 'accuracy': 0.6670714285714285, 'per_class_accuracy': array([0.9505    , 0.94961429, 0.93431429, 0.89977143, 0.91392857,\n",
      "       0.88545714, 0.95471429, 0.95618571, 0.94831429, 0.94134286]), 'per_class_accuracy_mean': 0.9334142857142856, 'precision': array([0.70435889, 0.73674165, 0.92288732, 0.49903915, 0.56092988,\n",
      "       0.43584573, 0.75197368, 0.81753593, 0.75306794, 0.72468944]), 'precision_mean': 0.6907069621053288, 'recall': array([0.87028571, 0.772     , 0.37442857, 0.59357143, 0.64114286,\n",
      "       0.494     , 0.81642857, 0.72328571, 0.71885714, 0.66671429]), 'recall_mean': 0.6670714285714285, 'f1': array([0.7785801 , 0.75395884, 0.53272358, 0.54221584, 0.59836011,\n",
      "       0.46310433, 0.78287671, 0.76752823, 0.73556498, 0.69449405]), 'f1_mean': 0.6649406768079421}\n",
      "Saved post-edit metrics saved/edit/trials/identity_cov/CINIC10_ImageNet-VGG_16/0117_201313/dog-train-n02110341_7544/slic_masked_2/identity/models/post_edit_metrics.pth\n",
      "All metrics and KNN results can be found in saved/edit/trials/identity_cov/CINIC10_ImageNet-VGG_16/0117_201313/dog-train-n02110341_7544/slic_masked_2/identity/models\n",
      "Finished trial 7/37. Results saved to saved/edit/trials/identity_cov/CINIC10_ImageNet-VGG_16/0117_201313/dog-train-n02110341_7544/slic_masked_2/identity\n",
      "(0117_203036) Starting Trial 8/37...\n",
      "Current run_id: 0117_201313/dog-train-n02089232_8735/quickshift_masked_3\n"
     ]
    },
    {
     "name": "stderr",
     "output_type": "stream",
     "text": [
      "\n"
     ]
    },
    {
     "name": "stdout",
     "output_type": "stream",
     "text": [
      "saved/edit/trials/identity_cov/CINIC10_ImageNet-VGG_16/0117_201313/dog-train-n02089232_8735/quickshift_masked_3\n",
      "Calling edit()...\n",
      "Created ModelWrapperSanturkar model with 33646666 trainable parameters\n",
      "Restored weights from external_code/PyTorch_CIFAR10/cifar10_models/state_dicts/vgg16_bn.pt\n",
      "Using passed in data loader for validation.\n",
      "Key images: data/cinic-10-imagenet/train/dog/n02089232_8735.png\n",
      "Value images: saved/segmentations/dog/dog-train-n02089232_8735/modified_images/quickshift_masked_3.png\n",
      "Masks: None\n",
      "Prepared data for editing\n",
      "Performing pre-edit metric calculations on validation set.\n"
     ]
    },
    {
     "name": "stderr",
     "output_type": "stream",
     "text": [
      "100%|██████████████████████████████████████████| 274/274 [00:09<00:00, 27.62it/s]"
     ]
    },
    {
     "name": "stdout",
     "output_type": "stream",
     "text": [
      "Pre-edit metrics: {'TP': array([6142, 5382, 5203, 3842, 4270, 2990, 5659, 5136, 4820, 4679]), 'TN': array([60115, 61110, 59441, 59902, 60157, 61756, 61050, 61747, 61643,\n",
      "       61202]), 'FPs': array([2885, 1890, 3559, 3098, 2843, 1244, 1950, 1253, 1357, 1798]), 'FNs': array([ 858, 1618, 1797, 3158, 2730, 4010, 1341, 1864, 2180, 2321]), 'accuracy': 0.6874714285714286, 'per_class_accuracy': array([0.94652857, 0.94988571, 0.92348571, 0.91062857, 0.92038571,\n",
      "       0.92494286, 0.95298571, 0.95547143, 0.94947143, 0.94115714]), 'per_class_accuracy_mean': 0.9374942857142857, 'precision': array([0.68040323, 0.74009901, 0.5938142 , 0.55360231, 0.60030929,\n",
      "       0.706188  , 0.74372454, 0.80388167, 0.78031407, 0.72240235]), 'precision_mean': 0.6924738665961387, 'recall': array([0.87742857, 0.76885714, 0.74328571, 0.54885714, 0.61      ,\n",
      "       0.42714286, 0.80842857, 0.73371429, 0.68857143, 0.66842857]), 'recall_mean': 0.6874714285714286, 'f1': array([0.7664566 , 0.75420404, 0.66019541, 0.55121951, 0.60511585,\n",
      "       0.53231262, 0.77472791, 0.76719695, 0.73157775, 0.69436818]), 'f1_mean': 0.6837374824369241}\n",
      "Saved pre-edit metrics saved/edit/trials/identity_cov/CINIC10_ImageNet-VGG_16/0117_201313/dog-train-n02089232_8735/quickshift_masked_3/models/pre_edit_metrics.pth\n",
      "Using passed in covariance data loader.\n",
      "Looking for covariance matrix weights in cache/cinic-10-imagenet-dummy/vgg16_bn-12\n"
     ]
    },
    {
     "name": "stderr",
     "output_type": "stream",
     "text": [
      "\n"
     ]
    },
    {
     "name": "stdout",
     "output_type": "stream",
     "text": [
      "Found precomputed cov matrices, returning...\n",
      "tensor([[ 1.0000e+00, -1.8504e-05, -3.8476e-05, -1.9159e-05, -4.0293e-05,\n",
      "         -3.1667e-05, -2.4137e-05, -2.9244e-05, -4.0682e-05, -2.2710e-05],\n",
      "        [-1.8504e-05,  1.0000e+00, -2.8878e-05, -1.2513e-05, -2.8300e-05,\n",
      "         -2.1209e-05, -1.7897e-05, -2.0580e-05, -2.4006e-05, -1.4785e-05],\n",
      "        [-3.8476e-05, -2.8878e-05,  1.0000e+00, -2.8741e-05, -6.1447e-05,\n",
      "         -4.6148e-05, -3.9829e-05, -4.5861e-05, -4.7019e-05, -3.5061e-05],\n",
      "        [-1.9159e-05, -1.2513e-05, -2.8741e-05,  1.0000e+00, -2.7411e-05,\n",
      "         -2.1258e-05, -1.7047e-05, -1.9973e-05, -2.4082e-05, -1.5679e-05],\n",
      "        [-4.0293e-05, -2.8300e-05, -6.1447e-05, -2.7411e-05,  1.0000e+00,\n",
      "         -4.6443e-05, -5.1575e-05, -4.8059e-05, -5.6685e-05, -3.6807e-05],\n",
      "        [-3.1667e-05, -2.1209e-05, -4.6148e-05, -2.1258e-05, -4.6443e-05,\n",
      "          1.0000e+00, -2.6984e-05, -3.3795e-05, -4.0129e-05, -2.3401e-05],\n",
      "        [-2.4137e-05, -1.7897e-05, -3.9829e-05, -1.7047e-05, -5.1575e-05,\n",
      "         -2.6984e-05,  1.0000e+00, -2.8577e-05, -3.1210e-05, -3.0226e-05],\n",
      "        [-2.9244e-05, -2.0580e-05, -4.5861e-05, -1.9973e-05, -4.8059e-05,\n",
      "         -3.3795e-05, -2.8577e-05,  1.0000e+00, -3.8494e-05, -2.2827e-05],\n",
      "        [-4.0682e-05, -2.4006e-05, -4.7019e-05, -2.4082e-05, -5.6685e-05,\n",
      "         -4.0129e-05, -3.1210e-05, -3.8494e-05,  1.0000e+00, -2.6560e-05],\n",
      "        [-2.2710e-05, -1.4785e-05, -3.5061e-05, -1.5679e-05, -3.6807e-05,\n",
      "         -2.3401e-05, -3.0226e-05, -2.2827e-05, -2.6560e-05,  1.0000e+00]],\n",
      "       device='cuda:0')\n"
     ]
    },
    {
     "name": "stderr",
     "output_type": "stream",
     "text": [
      "tensor(0.0030, device='cuda:0', grad_fn=<DivBackward0>): 100%|█| 40000/40000 [00:"
     ]
    },
    {
     "name": "stdout",
     "output_type": "stream",
     "text": [
      "Loss (orig, final): 0.01851995848119259 0.0030075679533183575\n",
      "L2 norm of weight change: 0.12677432596683502\n",
      "Performing post-edit metric calculations on validation set.\n"
     ]
    },
    {
     "name": "stderr",
     "output_type": "stream",
     "text": [
      "\n",
      "100%|██████████████████████████████████████████| 274/274 [00:09<00:00, 27.82it/s]\n"
     ]
    },
    {
     "name": "stdout",
     "output_type": "stream",
     "text": [
      "Post-edit metrics: {'TP': array([6099, 5438, 5186, 3715, 4243, 3096, 5694, 5156, 4876, 4686]), 'TN': array([60323, 60986, 59534, 60151, 60219, 61596, 60976, 61708, 61583,\n",
      "       61113]), 'FPs': array([2677, 2014, 3466, 2849, 2781, 1404, 2024, 1292, 1417, 1887]), 'FNs': array([ 901, 1562, 1814, 3285, 2757, 3904, 1306, 1844, 2124, 2314]), 'accuracy': 0.6884142857142858, 'per_class_accuracy': array([0.94888571, 0.94891429, 0.92457143, 0.91237143, 0.92088571,\n",
      "       0.92417143, 0.95242857, 0.9552    , 0.94941429, 0.93998571]), 'per_class_accuracy_mean': 0.9376828571428572, 'precision': array([0.69496354, 0.72973698, 0.59939898, 0.56596587, 0.60407175,\n",
      "       0.688     , 0.7377559 , 0.79962779, 0.77482918, 0.71291648]), 'precision_mean': 0.6907266470268097, 'recall': array([0.87128571, 0.77685714, 0.74085714, 0.53071429, 0.60614286,\n",
      "       0.44228571, 0.81342857, 0.73657143, 0.69657143, 0.66942857]), 'recall_mean': 0.6884142857142856, 'f1': array([0.7731998 , 0.7525602 , 0.66266292, 0.54777352, 0.60510553,\n",
      "       0.53843478, 0.77374643, 0.76680547, 0.7336192 , 0.69048847]), 'f1_mean': 0.6844396322736138}\n",
      "Saved post-edit metrics saved/edit/trials/identity_cov/CINIC10_ImageNet-VGG_16/0117_201313/dog-train-n02089232_8735/quickshift_masked_3/models/post_edit_metrics.pth\n",
      "All metrics and KNN results can be found in saved/edit/trials/identity_cov/CINIC10_ImageNet-VGG_16/0117_201313/dog-train-n02089232_8735/quickshift_masked_3/models\n",
      "saved/edit/trials/identity_cov/CINIC10_ImageNet-VGG_16/0117_201313/dog-train-n02089232_8735/quickshift_masked_3/identity\n",
      "Calling edit()...\n",
      "Created ModelWrapperSanturkar model with 33646666 trainable parameters\n",
      "Restored weights from external_code/PyTorch_CIFAR10/cifar10_models/state_dicts/vgg16_bn.pt\n",
      "Using passed in data loader for validation.\n",
      "Key images: data/cinic-10-imagenet/train/dog/n02089232_8735.png\n",
      "Value images: saved/segmentations/dog/dog-train-n02089232_8735/modified_images/quickshift_masked_3.png\n",
      "Masks: None\n",
      "Prepared data for editing\n",
      "Performing pre-edit metric calculations on validation set.\n"
     ]
    },
    {
     "name": "stderr",
     "output_type": "stream",
     "text": [
      "100%|██████████████████████████████████████████| 274/274 [00:10<00:00, 26.72it/s]"
     ]
    },
    {
     "name": "stdout",
     "output_type": "stream",
     "text": [
      "Pre-edit metrics: {'TP': array([6142, 5382, 5203, 3842, 4270, 2990, 5659, 5136, 4820, 4679]), 'TN': array([60115, 61110, 59441, 59902, 60157, 61756, 61050, 61747, 61643,\n",
      "       61202]), 'FPs': array([2885, 1890, 3559, 3098, 2843, 1244, 1950, 1253, 1357, 1798]), 'FNs': array([ 858, 1618, 1797, 3158, 2730, 4010, 1341, 1864, 2180, 2321]), 'accuracy': 0.6874714285714286, 'per_class_accuracy': array([0.94652857, 0.94988571, 0.92348571, 0.91062857, 0.92038571,\n",
      "       0.92494286, 0.95298571, 0.95547143, 0.94947143, 0.94115714]), 'per_class_accuracy_mean': 0.9374942857142857, 'precision': array([0.68040323, 0.74009901, 0.5938142 , 0.55360231, 0.60030929,\n",
      "       0.706188  , 0.74372454, 0.80388167, 0.78031407, 0.72240235]), 'precision_mean': 0.6924738665961387, 'recall': array([0.87742857, 0.76885714, 0.74328571, 0.54885714, 0.61      ,\n",
      "       0.42714286, 0.80842857, 0.73371429, 0.68857143, 0.66842857]), 'recall_mean': 0.6874714285714286, 'f1': array([0.7664566 , 0.75420404, 0.66019541, 0.55121951, 0.60511585,\n",
      "       0.53231262, 0.77472791, 0.76719695, 0.73157775, 0.69436818]), 'f1_mean': 0.6837374824369241}\n",
      "Saved pre-edit metrics saved/edit/trials/identity_cov/CINIC10_ImageNet-VGG_16/0117_201313/dog-train-n02089232_8735/quickshift_masked_3/identity/models/pre_edit_metrics.pth\n",
      "No data loader for covariance matrix. Will use identity matrix\n",
      "Looking for covariance matrix weights in cache/identity/vgg16_bn-12\n"
     ]
    },
    {
     "name": "stderr",
     "output_type": "stream",
     "text": [
      "\n"
     ]
    },
    {
     "name": "stdout",
     "output_type": "stream",
     "text": [
      "Found precomputed cov matrices, returning...\n",
      "tensor([[1., 0., 0., 0., 0., 0., 0., 0., 0., 0.],\n",
      "        [0., 1., 0., 0., 0., 0., 0., 0., 0., 0.],\n",
      "        [0., 0., 1., 0., 0., 0., 0., 0., 0., 0.],\n",
      "        [0., 0., 0., 1., 0., 0., 0., 0., 0., 0.],\n",
      "        [0., 0., 0., 0., 1., 0., 0., 0., 0., 0.],\n",
      "        [0., 0., 0., 0., 0., 1., 0., 0., 0., 0.],\n",
      "        [0., 0., 0., 0., 0., 0., 1., 0., 0., 0.],\n",
      "        [0., 0., 0., 0., 0., 0., 0., 1., 0., 0.],\n",
      "        [0., 0., 0., 0., 0., 0., 0., 0., 1., 0.],\n",
      "        [0., 0., 0., 0., 0., 0., 0., 0., 0., 1.]], device='cuda:0')\n"
     ]
    },
    {
     "name": "stderr",
     "output_type": "stream",
     "text": [
      "tensor(0.0033, device='cuda:0', grad_fn=<DivBackward0>): 100%|█| 40000/40000 [00:"
     ]
    },
    {
     "name": "stdout",
     "output_type": "stream",
     "text": [
      "Loss (orig, final): 0.01851995848119259 0.0033025164157152176\n",
      "L2 norm of weight change: 0.12850114703178406\n",
      "Performing post-edit metric calculations on validation set.\n"
     ]
    },
    {
     "name": "stderr",
     "output_type": "stream",
     "text": [
      "\n",
      "100%|██████████████████████████████████████████| 274/274 [00:09<00:00, 27.58it/s]"
     ]
    },
    {
     "name": "stdout",
     "output_type": "stream",
     "text": [
      "Post-edit metrics: {'TP': array([6098, 5437, 5182, 3718, 4243, 3095, 5695, 5154, 4879, 4689]), 'TN': array([60335, 60987, 59546, 60146, 60218, 61595, 60969, 61709, 61580,\n",
      "       61105]), 'FPs': array([2665, 2013, 3454, 2854, 2782, 1405, 2031, 1291, 1420, 1895]), 'FNs': array([ 902, 1563, 1818, 3282, 2757, 3905, 1305, 1846, 2121, 2311]), 'accuracy': 0.6884285714285714, 'per_class_accuracy': array([0.94904286, 0.94891429, 0.92468571, 0.91234286, 0.92087143,\n",
      "       0.92414286, 0.95234286, 0.95518571, 0.94941429, 0.93991429]), 'per_class_accuracy_mean': 0.9376857142857142, 'precision': array([0.69588041, 0.72979866, 0.60004632, 0.56573341, 0.60398577,\n",
      "       0.68777778, 0.73712141, 0.79968968, 0.77456739, 0.71218104]), 'precision_mean': 0.6906781865862268, 'recall': array([0.87114286, 0.77671429, 0.74028571, 0.53114286, 0.60614286,\n",
      "       0.44214286, 0.81357143, 0.73628571, 0.697     , 0.66985714]), 'recall_mean': 0.6884285714285714, 'f1': array([0.77371059, 0.75252595, 0.66282937, 0.54789272, 0.60506239,\n",
      "       0.53826087, 0.7734619 , 0.76667906, 0.73373938, 0.69037102]), 'f1_mean': 0.6844533256830954}\n",
      "Saved post-edit metrics saved/edit/trials/identity_cov/CINIC10_ImageNet-VGG_16/0117_201313/dog-train-n02089232_8735/quickshift_masked_3/identity/models/post_edit_metrics.pth\n",
      "All metrics and KNN results can be found in saved/edit/trials/identity_cov/CINIC10_ImageNet-VGG_16/0117_201313/dog-train-n02089232_8735/quickshift_masked_3/identity/models\n",
      "Finished trial 8/37. Results saved to saved/edit/trials/identity_cov/CINIC10_ImageNet-VGG_16/0117_201313/dog-train-n02089232_8735/quickshift_masked_3/identity\n",
      "(0117_203235) Starting Trial 9/37...\n",
      "Current run_id: 0117_201313/dog-train-n02089232_8735/slic_gaussian_2\n"
     ]
    },
    {
     "name": "stderr",
     "output_type": "stream",
     "text": [
      "\n"
     ]
    },
    {
     "name": "stdout",
     "output_type": "stream",
     "text": [
      "saved/edit/trials/identity_cov/CINIC10_ImageNet-VGG_16/0117_201313/dog-train-n02089232_8735/slic_gaussian_2\n",
      "Calling edit()...\n",
      "Created ModelWrapperSanturkar model with 33646666 trainable parameters\n",
      "Restored weights from external_code/PyTorch_CIFAR10/cifar10_models/state_dicts/vgg16_bn.pt\n",
      "Using passed in data loader for validation.\n",
      "Key images: data/cinic-10-imagenet/train/dog/n02089232_8735.png\n",
      "Value images: saved/segmentations/dog/dog-train-n02089232_8735/modified_images/slic_gaussian_2.png\n",
      "Masks: None\n",
      "Prepared data for editing\n",
      "Performing pre-edit metric calculations on validation set.\n"
     ]
    },
    {
     "name": "stderr",
     "output_type": "stream",
     "text": [
      "100%|██████████████████████████████████████████| 274/274 [00:09<00:00, 27.53it/s]"
     ]
    },
    {
     "name": "stdout",
     "output_type": "stream",
     "text": [
      "Pre-edit metrics: {'TP': array([6142, 5382, 5203, 3842, 4270, 2990, 5659, 5136, 4820, 4679]), 'TN': array([60115, 61110, 59441, 59902, 60157, 61756, 61050, 61747, 61643,\n",
      "       61202]), 'FPs': array([2885, 1890, 3559, 3098, 2843, 1244, 1950, 1253, 1357, 1798]), 'FNs': array([ 858, 1618, 1797, 3158, 2730, 4010, 1341, 1864, 2180, 2321]), 'accuracy': 0.6874714285714286, 'per_class_accuracy': array([0.94652857, 0.94988571, 0.92348571, 0.91062857, 0.92038571,\n",
      "       0.92494286, 0.95298571, 0.95547143, 0.94947143, 0.94115714]), 'per_class_accuracy_mean': 0.9374942857142857, 'precision': array([0.68040323, 0.74009901, 0.5938142 , 0.55360231, 0.60030929,\n",
      "       0.706188  , 0.74372454, 0.80388167, 0.78031407, 0.72240235]), 'precision_mean': 0.6924738665961387, 'recall': array([0.87742857, 0.76885714, 0.74328571, 0.54885714, 0.61      ,\n",
      "       0.42714286, 0.80842857, 0.73371429, 0.68857143, 0.66842857]), 'recall_mean': 0.6874714285714286, 'f1': array([0.7664566 , 0.75420404, 0.66019541, 0.55121951, 0.60511585,\n",
      "       0.53231262, 0.77472791, 0.76719695, 0.73157775, 0.69436818]), 'f1_mean': 0.6837374824369241}\n",
      "Saved pre-edit metrics saved/edit/trials/identity_cov/CINIC10_ImageNet-VGG_16/0117_201313/dog-train-n02089232_8735/slic_gaussian_2/models/pre_edit_metrics.pth\n",
      "Using passed in covariance data loader.\n",
      "Looking for covariance matrix weights in cache/cinic-10-imagenet-dummy/vgg16_bn-12\n"
     ]
    },
    {
     "name": "stderr",
     "output_type": "stream",
     "text": [
      "\n"
     ]
    },
    {
     "name": "stdout",
     "output_type": "stream",
     "text": [
      "Found precomputed cov matrices, returning...\n",
      "tensor([[ 1.0000e+00, -1.8504e-05, -3.8476e-05, -1.9159e-05, -4.0293e-05,\n",
      "         -3.1667e-05, -2.4137e-05, -2.9244e-05, -4.0682e-05, -2.2710e-05],\n",
      "        [-1.8504e-05,  1.0000e+00, -2.8878e-05, -1.2513e-05, -2.8300e-05,\n",
      "         -2.1209e-05, -1.7897e-05, -2.0580e-05, -2.4006e-05, -1.4785e-05],\n",
      "        [-3.8476e-05, -2.8878e-05,  1.0000e+00, -2.8741e-05, -6.1447e-05,\n",
      "         -4.6148e-05, -3.9829e-05, -4.5861e-05, -4.7019e-05, -3.5061e-05],\n",
      "        [-1.9159e-05, -1.2513e-05, -2.8741e-05,  1.0000e+00, -2.7411e-05,\n",
      "         -2.1258e-05, -1.7047e-05, -1.9973e-05, -2.4082e-05, -1.5679e-05],\n",
      "        [-4.0293e-05, -2.8300e-05, -6.1447e-05, -2.7411e-05,  1.0000e+00,\n",
      "         -4.6443e-05, -5.1575e-05, -4.8059e-05, -5.6685e-05, -3.6807e-05],\n",
      "        [-3.1667e-05, -2.1209e-05, -4.6148e-05, -2.1258e-05, -4.6443e-05,\n",
      "          1.0000e+00, -2.6984e-05, -3.3795e-05, -4.0129e-05, -2.3401e-05],\n",
      "        [-2.4137e-05, -1.7897e-05, -3.9829e-05, -1.7047e-05, -5.1575e-05,\n",
      "         -2.6984e-05,  1.0000e+00, -2.8577e-05, -3.1210e-05, -3.0226e-05],\n",
      "        [-2.9244e-05, -2.0580e-05, -4.5861e-05, -1.9973e-05, -4.8059e-05,\n",
      "         -3.3795e-05, -2.8577e-05,  1.0000e+00, -3.8494e-05, -2.2827e-05],\n",
      "        [-4.0682e-05, -2.4006e-05, -4.7019e-05, -2.4082e-05, -5.6685e-05,\n",
      "         -4.0129e-05, -3.1210e-05, -3.8494e-05,  1.0000e+00, -2.6560e-05],\n",
      "        [-2.2710e-05, -1.4785e-05, -3.5061e-05, -1.5679e-05, -3.6807e-05,\n",
      "         -2.3401e-05, -3.0226e-05, -2.2827e-05, -2.6560e-05,  1.0000e+00]],\n",
      "       device='cuda:0')\n"
     ]
    },
    {
     "name": "stderr",
     "output_type": "stream",
     "text": [
      "tensor(0.0045, device='cuda:0', grad_fn=<DivBackward0>): 100%|█| 40000/40000 [00:"
     ]
    },
    {
     "name": "stdout",
     "output_type": "stream",
     "text": [
      "Loss (orig, final): 0.04810313880443573 0.004511130973696709\n",
      "L2 norm of weight change: 0.22509585320949554\n",
      "Performing post-edit metric calculations on validation set.\n"
     ]
    },
    {
     "name": "stderr",
     "output_type": "stream",
     "text": [
      "\n",
      "100%|██████████████████████████████████████████| 274/274 [00:10<00:00, 26.68it/s]"
     ]
    },
    {
     "name": "stdout",
     "output_type": "stream",
     "text": [
      "Post-edit metrics: {'TP': array([6089, 5507, 5547, 3363, 4178, 3206, 5627, 5106, 4727, 4414]), 'TN': array([60308, 60908, 57854, 60728, 60308, 61487, 60996, 61831, 61721,\n",
      "       61623]), 'FPs': array([2692, 2092, 5146, 2272, 2692, 1513, 2004, 1169, 1279, 1377]), 'FNs': array([ 911, 1493, 1453, 3637, 2822, 3794, 1373, 1894, 2273, 2586]), 'accuracy': 0.6823428571428571, 'per_class_accuracy': array([0.94852857, 0.94878571, 0.90572857, 0.91558571, 0.92122857,\n",
      "       0.92418571, 0.95175714, 0.95624286, 0.94925714, 0.94338571]), 'per_class_accuracy_mean': 0.9364685714285713, 'precision': array([0.69342899, 0.72470062, 0.51875058, 0.59680568, 0.60815138,\n",
      "       0.67938122, 0.73738697, 0.81370518, 0.78704629, 0.76221723]), 'precision_mean': 0.6921574158021441, 'recall': array([0.86985714, 0.78671429, 0.79242857, 0.48042857, 0.59685714,\n",
      "       0.458     , 0.80385714, 0.72942857, 0.67528571, 0.63057143]), 'recall_mean': 0.6823428571428571, 'f1': array([0.77168747, 0.75443524, 0.62702764, 0.53233083, 0.60245133,\n",
      "       0.54714566, 0.76918871, 0.76926554, 0.72689528, 0.69017278]), 'f1_mean': 0.6790600469855256}\n",
      "Saved post-edit metrics saved/edit/trials/identity_cov/CINIC10_ImageNet-VGG_16/0117_201313/dog-train-n02089232_8735/slic_gaussian_2/models/post_edit_metrics.pth\n",
      "All metrics and KNN results can be found in saved/edit/trials/identity_cov/CINIC10_ImageNet-VGG_16/0117_201313/dog-train-n02089232_8735/slic_gaussian_2/models\n"
     ]
    },
    {
     "name": "stderr",
     "output_type": "stream",
     "text": [
      "\n"
     ]
    },
    {
     "name": "stdout",
     "output_type": "stream",
     "text": [
      "saved/edit/trials/identity_cov/CINIC10_ImageNet-VGG_16/0117_201313/dog-train-n02089232_8735/slic_gaussian_2/identity\n",
      "Calling edit()...\n",
      "Created ModelWrapperSanturkar model with 33646666 trainable parameters\n",
      "Restored weights from external_code/PyTorch_CIFAR10/cifar10_models/state_dicts/vgg16_bn.pt\n",
      "Using passed in data loader for validation.\n",
      "Key images: data/cinic-10-imagenet/train/dog/n02089232_8735.png\n",
      "Value images: saved/segmentations/dog/dog-train-n02089232_8735/modified_images/slic_gaussian_2.png\n",
      "Masks: None\n",
      "Prepared data for editing\n",
      "Performing pre-edit metric calculations on validation set.\n"
     ]
    },
    {
     "name": "stderr",
     "output_type": "stream",
     "text": [
      "100%|██████████████████████████████████████████| 274/274 [00:10<00:00, 26.87it/s]"
     ]
    },
    {
     "name": "stdout",
     "output_type": "stream",
     "text": [
      "Pre-edit metrics: {'TP': array([6142, 5382, 5203, 3842, 4270, 2990, 5659, 5136, 4820, 4679]), 'TN': array([60115, 61110, 59441, 59902, 60157, 61756, 61050, 61747, 61643,\n",
      "       61202]), 'FPs': array([2885, 1890, 3559, 3098, 2843, 1244, 1950, 1253, 1357, 1798]), 'FNs': array([ 858, 1618, 1797, 3158, 2730, 4010, 1341, 1864, 2180, 2321]), 'accuracy': 0.6874714285714286, 'per_class_accuracy': array([0.94652857, 0.94988571, 0.92348571, 0.91062857, 0.92038571,\n",
      "       0.92494286, 0.95298571, 0.95547143, 0.94947143, 0.94115714]), 'per_class_accuracy_mean': 0.9374942857142857, 'precision': array([0.68040323, 0.74009901, 0.5938142 , 0.55360231, 0.60030929,\n",
      "       0.706188  , 0.74372454, 0.80388167, 0.78031407, 0.72240235]), 'precision_mean': 0.6924738665961387, 'recall': array([0.87742857, 0.76885714, 0.74328571, 0.54885714, 0.61      ,\n",
      "       0.42714286, 0.80842857, 0.73371429, 0.68857143, 0.66842857]), 'recall_mean': 0.6874714285714286, 'f1': array([0.7664566 , 0.75420404, 0.66019541, 0.55121951, 0.60511585,\n",
      "       0.53231262, 0.77472791, 0.76719695, 0.73157775, 0.69436818]), 'f1_mean': 0.6837374824369241}\n",
      "Saved pre-edit metrics saved/edit/trials/identity_cov/CINIC10_ImageNet-VGG_16/0117_201313/dog-train-n02089232_8735/slic_gaussian_2/identity/models/pre_edit_metrics.pth\n",
      "No data loader for covariance matrix. Will use identity matrix\n",
      "Looking for covariance matrix weights in cache/identity/vgg16_bn-12\n"
     ]
    },
    {
     "name": "stderr",
     "output_type": "stream",
     "text": [
      "\n"
     ]
    },
    {
     "name": "stdout",
     "output_type": "stream",
     "text": [
      "Found precomputed cov matrices, returning...\n",
      "tensor([[1., 0., 0., 0., 0., 0., 0., 0., 0., 0.],\n",
      "        [0., 1., 0., 0., 0., 0., 0., 0., 0., 0.],\n",
      "        [0., 0., 1., 0., 0., 0., 0., 0., 0., 0.],\n",
      "        [0., 0., 0., 1., 0., 0., 0., 0., 0., 0.],\n",
      "        [0., 0., 0., 0., 1., 0., 0., 0., 0., 0.],\n",
      "        [0., 0., 0., 0., 0., 1., 0., 0., 0., 0.],\n",
      "        [0., 0., 0., 0., 0., 0., 1., 0., 0., 0.],\n",
      "        [0., 0., 0., 0., 0., 0., 0., 1., 0., 0.],\n",
      "        [0., 0., 0., 0., 0., 0., 0., 0., 1., 0.],\n",
      "        [0., 0., 0., 0., 0., 0., 0., 0., 0., 1.]], device='cuda:0')\n"
     ]
    },
    {
     "name": "stderr",
     "output_type": "stream",
     "text": [
      "tensor(0.0046, device='cuda:0', grad_fn=<DivBackward0>): 100%|█| 40000/40000 [00:"
     ]
    },
    {
     "name": "stdout",
     "output_type": "stream",
     "text": [
      "Loss (orig, final): 0.04810313880443573 0.004611749667674303\n",
      "L2 norm of weight change: 0.22669731080532074\n",
      "Performing post-edit metric calculations on validation set.\n"
     ]
    },
    {
     "name": "stderr",
     "output_type": "stream",
     "text": [
      "\n",
      "100%|██████████████████████████████████████████| 274/274 [00:10<00:00, 26.57it/s]"
     ]
    },
    {
     "name": "stdout",
     "output_type": "stream",
     "text": [
      "Post-edit metrics: {'TP': array([6088, 5508, 5552, 3364, 4178, 3212, 5629, 5101, 4725, 4409]), 'TN': array([60321, 60905, 57830, 60724, 60313, 61479, 60997, 61840, 61727,\n",
      "       61630]), 'FPs': array([2679, 2095, 5170, 2276, 2687, 1521, 2003, 1160, 1273, 1370]), 'FNs': array([ 912, 1492, 1448, 3636, 2822, 3788, 1371, 1899, 2275, 2591]), 'accuracy': 0.6823714285714285, 'per_class_accuracy': array([0.9487    , 0.94875714, 0.90545714, 0.91554286, 0.9213    ,\n",
      "       0.92415714, 0.9518    , 0.9563    , 0.94931429, 0.94341429]), 'per_class_accuracy_mean': 0.9364742857142858, 'precision': array([0.69442227, 0.72445087, 0.51781384, 0.5964539 , 0.60859432,\n",
      "       0.67863934, 0.73755241, 0.81472608, 0.78776259, 0.76293476]), 'precision_mean': 0.6923350385512667, 'recall': array([0.86971429, 0.78685714, 0.79314286, 0.48057143, 0.59685714,\n",
      "       0.45885714, 0.80414286, 0.72871429, 0.675     , 0.62985714]), 'recall_mean': 0.6823714285714286, 'f1': array([0.77224583, 0.75436554, 0.62656585, 0.53227848, 0.60266859,\n",
      "       0.54751555, 0.76940951, 0.76932358, 0.72703493, 0.69003834]), 'f1_mean': 0.6791446213415091}\n",
      "Saved post-edit metrics saved/edit/trials/identity_cov/CINIC10_ImageNet-VGG_16/0117_201313/dog-train-n02089232_8735/slic_gaussian_2/identity/models/post_edit_metrics.pth\n",
      "All metrics and KNN results can be found in saved/edit/trials/identity_cov/CINIC10_ImageNet-VGG_16/0117_201313/dog-train-n02089232_8735/slic_gaussian_2/identity/models\n",
      "Finished trial 9/37. Results saved to saved/edit/trials/identity_cov/CINIC10_ImageNet-VGG_16/0117_201313/dog-train-n02089232_8735/slic_gaussian_2/identity\n",
      "(0117_203435) Starting Trial 10/37...\n",
      "Current run_id: 0117_201313/dog-train-n02089232_8735/slic_gaussian_4\n"
     ]
    },
    {
     "name": "stderr",
     "output_type": "stream",
     "text": [
      "\n"
     ]
    },
    {
     "name": "stdout",
     "output_type": "stream",
     "text": [
      "saved/edit/trials/identity_cov/CINIC10_ImageNet-VGG_16/0117_201313/dog-train-n02089232_8735/slic_gaussian_4\n",
      "Calling edit()...\n",
      "Created ModelWrapperSanturkar model with 33646666 trainable parameters\n",
      "Restored weights from external_code/PyTorch_CIFAR10/cifar10_models/state_dicts/vgg16_bn.pt\n",
      "Using passed in data loader for validation.\n",
      "Key images: data/cinic-10-imagenet/train/dog/n02089232_8735.png\n",
      "Value images: saved/segmentations/dog/dog-train-n02089232_8735/modified_images/slic_gaussian_4.png\n",
      "Masks: None\n",
      "Prepared data for editing\n",
      "Performing pre-edit metric calculations on validation set.\n"
     ]
    },
    {
     "name": "stderr",
     "output_type": "stream",
     "text": [
      "100%|██████████████████████████████████████████| 274/274 [00:10<00:00, 25.85it/s]"
     ]
    },
    {
     "name": "stdout",
     "output_type": "stream",
     "text": [
      "Pre-edit metrics: {'TP': array([6142, 5382, 5203, 3842, 4270, 2990, 5659, 5136, 4820, 4679]), 'TN': array([60115, 61110, 59441, 59902, 60157, 61756, 61050, 61747, 61643,\n",
      "       61202]), 'FPs': array([2885, 1890, 3559, 3098, 2843, 1244, 1950, 1253, 1357, 1798]), 'FNs': array([ 858, 1618, 1797, 3158, 2730, 4010, 1341, 1864, 2180, 2321]), 'accuracy': 0.6874714285714286, 'per_class_accuracy': array([0.94652857, 0.94988571, 0.92348571, 0.91062857, 0.92038571,\n",
      "       0.92494286, 0.95298571, 0.95547143, 0.94947143, 0.94115714]), 'per_class_accuracy_mean': 0.9374942857142857, 'precision': array([0.68040323, 0.74009901, 0.5938142 , 0.55360231, 0.60030929,\n",
      "       0.706188  , 0.74372454, 0.80388167, 0.78031407, 0.72240235]), 'precision_mean': 0.6924738665961387, 'recall': array([0.87742857, 0.76885714, 0.74328571, 0.54885714, 0.61      ,\n",
      "       0.42714286, 0.80842857, 0.73371429, 0.68857143, 0.66842857]), 'recall_mean': 0.6874714285714286, 'f1': array([0.7664566 , 0.75420404, 0.66019541, 0.55121951, 0.60511585,\n",
      "       0.53231262, 0.77472791, 0.76719695, 0.73157775, 0.69436818]), 'f1_mean': 0.6837374824369241}\n",
      "Saved pre-edit metrics saved/edit/trials/identity_cov/CINIC10_ImageNet-VGG_16/0117_201313/dog-train-n02089232_8735/slic_gaussian_4/models/pre_edit_metrics.pth\n",
      "Using passed in covariance data loader.\n",
      "Looking for covariance matrix weights in cache/cinic-10-imagenet-dummy/vgg16_bn-12\n"
     ]
    },
    {
     "name": "stderr",
     "output_type": "stream",
     "text": [
      "\n"
     ]
    },
    {
     "name": "stdout",
     "output_type": "stream",
     "text": [
      "Found precomputed cov matrices, returning...\n",
      "tensor([[ 1.0000e+00, -1.8504e-05, -3.8476e-05, -1.9159e-05, -4.0293e-05,\n",
      "         -3.1667e-05, -2.4137e-05, -2.9244e-05, -4.0682e-05, -2.2710e-05],\n",
      "        [-1.8504e-05,  1.0000e+00, -2.8878e-05, -1.2513e-05, -2.8300e-05,\n",
      "         -2.1209e-05, -1.7897e-05, -2.0580e-05, -2.4006e-05, -1.4785e-05],\n",
      "        [-3.8476e-05, -2.8878e-05,  1.0000e+00, -2.8741e-05, -6.1447e-05,\n",
      "         -4.6148e-05, -3.9829e-05, -4.5861e-05, -4.7019e-05, -3.5061e-05],\n",
      "        [-1.9159e-05, -1.2513e-05, -2.8741e-05,  1.0000e+00, -2.7411e-05,\n",
      "         -2.1258e-05, -1.7047e-05, -1.9973e-05, -2.4082e-05, -1.5679e-05],\n",
      "        [-4.0293e-05, -2.8300e-05, -6.1447e-05, -2.7411e-05,  1.0000e+00,\n",
      "         -4.6443e-05, -5.1575e-05, -4.8059e-05, -5.6685e-05, -3.6807e-05],\n",
      "        [-3.1667e-05, -2.1209e-05, -4.6148e-05, -2.1258e-05, -4.6443e-05,\n",
      "          1.0000e+00, -2.6984e-05, -3.3795e-05, -4.0129e-05, -2.3401e-05],\n",
      "        [-2.4137e-05, -1.7897e-05, -3.9829e-05, -1.7047e-05, -5.1575e-05,\n",
      "         -2.6984e-05,  1.0000e+00, -2.8577e-05, -3.1210e-05, -3.0226e-05],\n",
      "        [-2.9244e-05, -2.0580e-05, -4.5861e-05, -1.9973e-05, -4.8059e-05,\n",
      "         -3.3795e-05, -2.8577e-05,  1.0000e+00, -3.8494e-05, -2.2827e-05],\n",
      "        [-4.0682e-05, -2.4006e-05, -4.7019e-05, -2.4082e-05, -5.6685e-05,\n",
      "         -4.0129e-05, -3.1210e-05, -3.8494e-05,  1.0000e+00, -2.6560e-05],\n",
      "        [-2.2710e-05, -1.4785e-05, -3.5061e-05, -1.5679e-05, -3.6807e-05,\n",
      "         -2.3401e-05, -3.0226e-05, -2.2827e-05, -2.6560e-05,  1.0000e+00]],\n",
      "       device='cuda:0')\n"
     ]
    },
    {
     "name": "stderr",
     "output_type": "stream",
     "text": [
      "tensor(0.0035, device='cuda:0', grad_fn=<DivBackward0>): 100%|█| 40000/40000 [00:"
     ]
    },
    {
     "name": "stdout",
     "output_type": "stream",
     "text": [
      "Loss (orig, final): 0.011164992116391659 0.003456073347479105\n",
      "L2 norm of weight change: 0.162587970495224\n",
      "Performing post-edit metric calculations on validation set.\n"
     ]
    },
    {
     "name": "stderr",
     "output_type": "stream",
     "text": [
      "\n",
      "100%|██████████████████████████████████████████| 274/274 [00:10<00:00, 25.85it/s]"
     ]
    },
    {
     "name": "stdout",
     "output_type": "stream",
     "text": [
      "Post-edit metrics: {'TP': array([6101, 5408, 5263, 3820, 4249, 3145, 5613, 5118, 4853, 4589]), 'TN': array([60283, 61103, 59199, 59898, 60152, 61514, 61180, 61801, 61613,\n",
      "       61416]), 'FPs': array([2717, 1897, 3801, 3102, 2848, 1486, 1820, 1199, 1387, 1584]), 'FNs': array([ 899, 1592, 1737, 3180, 2751, 3855, 1387, 1882, 2147, 2411]), 'accuracy': 0.6879857142857143, 'per_class_accuracy': array([0.94834286, 0.95015714, 0.92088571, 0.91025714, 0.92001429,\n",
      "       0.9237    , 0.95418571, 0.95598571, 0.94951429, 0.94292857]), 'per_class_accuracy_mean': 0.937597142857143, 'precision': array([0.69188024, 0.74031485, 0.58064872, 0.55186362, 0.59870368,\n",
      "       0.67911898, 0.75514597, 0.81019471, 0.77772436, 0.74339867]), 'precision_mean': 0.6928993813588376, 'recall': array([0.87157143, 0.77257143, 0.75185714, 0.54571429, 0.607     ,\n",
      "       0.44928571, 0.80185714, 0.73114286, 0.69328571, 0.65557143]), 'recall_mean': 0.6879857142857143, 'f1': array([0.77139967, 0.75609927, 0.65525398, 0.54877173, 0.6028233 ,\n",
      "       0.54079615, 0.77780087, 0.76864159, 0.73308157, 0.69672816]), 'f1_mean': 0.685139627949243}\n",
      "Saved post-edit metrics saved/edit/trials/identity_cov/CINIC10_ImageNet-VGG_16/0117_201313/dog-train-n02089232_8735/slic_gaussian_4/models/post_edit_metrics.pth\n",
      "All metrics and KNN results can be found in saved/edit/trials/identity_cov/CINIC10_ImageNet-VGG_16/0117_201313/dog-train-n02089232_8735/slic_gaussian_4/models\n"
     ]
    },
    {
     "name": "stderr",
     "output_type": "stream",
     "text": [
      "\n"
     ]
    },
    {
     "name": "stdout",
     "output_type": "stream",
     "text": [
      "saved/edit/trials/identity_cov/CINIC10_ImageNet-VGG_16/0117_201313/dog-train-n02089232_8735/slic_gaussian_4/identity\n",
      "Calling edit()...\n",
      "Created ModelWrapperSanturkar model with 33646666 trainable parameters\n",
      "Restored weights from external_code/PyTorch_CIFAR10/cifar10_models/state_dicts/vgg16_bn.pt\n",
      "Using passed in data loader for validation.\n",
      "Key images: data/cinic-10-imagenet/train/dog/n02089232_8735.png\n",
      "Value images: saved/segmentations/dog/dog-train-n02089232_8735/modified_images/slic_gaussian_4.png\n",
      "Masks: None\n",
      "Prepared data for editing\n",
      "Performing pre-edit metric calculations on validation set.\n"
     ]
    },
    {
     "name": "stderr",
     "output_type": "stream",
     "text": [
      "100%|██████████████████████████████████████████| 274/274 [00:09<00:00, 27.52it/s]"
     ]
    },
    {
     "name": "stdout",
     "output_type": "stream",
     "text": [
      "Pre-edit metrics: {'TP': array([6142, 5382, 5203, 3842, 4270, 2990, 5659, 5136, 4820, 4679]), 'TN': array([60115, 61110, 59441, 59902, 60157, 61756, 61050, 61747, 61643,\n",
      "       61202]), 'FPs': array([2885, 1890, 3559, 3098, 2843, 1244, 1950, 1253, 1357, 1798]), 'FNs': array([ 858, 1618, 1797, 3158, 2730, 4010, 1341, 1864, 2180, 2321]), 'accuracy': 0.6874714285714286, 'per_class_accuracy': array([0.94652857, 0.94988571, 0.92348571, 0.91062857, 0.92038571,\n",
      "       0.92494286, 0.95298571, 0.95547143, 0.94947143, 0.94115714]), 'per_class_accuracy_mean': 0.9374942857142857, 'precision': array([0.68040323, 0.74009901, 0.5938142 , 0.55360231, 0.60030929,\n",
      "       0.706188  , 0.74372454, 0.80388167, 0.78031407, 0.72240235]), 'precision_mean': 0.6924738665961387, 'recall': array([0.87742857, 0.76885714, 0.74328571, 0.54885714, 0.61      ,\n",
      "       0.42714286, 0.80842857, 0.73371429, 0.68857143, 0.66842857]), 'recall_mean': 0.6874714285714286, 'f1': array([0.7664566 , 0.75420404, 0.66019541, 0.55121951, 0.60511585,\n",
      "       0.53231262, 0.77472791, 0.76719695, 0.73157775, 0.69436818]), 'f1_mean': 0.6837374824369241}\n",
      "Saved pre-edit metrics saved/edit/trials/identity_cov/CINIC10_ImageNet-VGG_16/0117_201313/dog-train-n02089232_8735/slic_gaussian_4/identity/models/pre_edit_metrics.pth\n",
      "No data loader for covariance matrix. Will use identity matrix\n",
      "Looking for covariance matrix weights in cache/identity/vgg16_bn-12\n"
     ]
    },
    {
     "name": "stderr",
     "output_type": "stream",
     "text": [
      "\n"
     ]
    },
    {
     "name": "stdout",
     "output_type": "stream",
     "text": [
      "Found precomputed cov matrices, returning...\n",
      "tensor([[1., 0., 0., 0., 0., 0., 0., 0., 0., 0.],\n",
      "        [0., 1., 0., 0., 0., 0., 0., 0., 0., 0.],\n",
      "        [0., 0., 1., 0., 0., 0., 0., 0., 0., 0.],\n",
      "        [0., 0., 0., 1., 0., 0., 0., 0., 0., 0.],\n",
      "        [0., 0., 0., 0., 1., 0., 0., 0., 0., 0.],\n",
      "        [0., 0., 0., 0., 0., 1., 0., 0., 0., 0.],\n",
      "        [0., 0., 0., 0., 0., 0., 1., 0., 0., 0.],\n",
      "        [0., 0., 0., 0., 0., 0., 0., 1., 0., 0.],\n",
      "        [0., 0., 0., 0., 0., 0., 0., 0., 1., 0.],\n",
      "        [0., 0., 0., 0., 0., 0., 0., 0., 0., 1.]], device='cuda:0')\n"
     ]
    },
    {
     "name": "stderr",
     "output_type": "stream",
     "text": [
      "tensor(0.0036, device='cuda:0', grad_fn=<DivBackward0>): 100%|█| 40000/40000 [00:"
     ]
    },
    {
     "name": "stdout",
     "output_type": "stream",
     "text": [
      "Loss (orig, final): 0.011164992116391659 0.0035763015039265156\n",
      "L2 norm of weight change: 0.1664355993270874\n",
      "Performing post-edit metric calculations on validation set.\n"
     ]
    },
    {
     "name": "stderr",
     "output_type": "stream",
     "text": [
      "\n",
      "100%|██████████████████████████████████████████| 274/274 [00:10<00:00, 26.84it/s]"
     ]
    },
    {
     "name": "stdout",
     "output_type": "stream",
     "text": [
      "Post-edit metrics: {'TP': array([6101, 5406, 5266, 3822, 4243, 3148, 5612, 5109, 4854, 4588]), 'TN': array([60278, 61107, 59185, 59884, 60160, 61506, 61190, 61811, 61610,\n",
      "       61418]), 'FPs': array([2722, 1893, 3815, 3116, 2840, 1494, 1810, 1189, 1390, 1582]), 'FNs': array([ 899, 1594, 1734, 3178, 2757, 3852, 1388, 1891, 2146, 2412]), 'accuracy': 0.6878428571428571, 'per_class_accuracy': array([0.94827143, 0.95018571, 0.92072857, 0.91008571, 0.92004286,\n",
      "       0.92362857, 0.95431429, 0.956     , 0.94948571, 0.94294286]), 'per_class_accuracy_mean': 0.9375685714285714, 'precision': array([0.69148816, 0.7406494 , 0.57989208, 0.55087922, 0.59903995,\n",
      "       0.67815597, 0.75613042, 0.81120991, 0.77738629, 0.74359806]), 'precision_mean': 0.6928429457261405, 'recall': array([0.87157143, 0.77228571, 0.75228571, 0.546     , 0.60614286,\n",
      "       0.44971429, 0.80171429, 0.72985714, 0.69342857, 0.65542857]), 'recall_mean': 0.6878428571428571, 'f1': array([0.77115591, 0.75613679, 0.65493439, 0.54842876, 0.60257048,\n",
      "       0.54080055, 0.77825544, 0.76838622, 0.73301117, 0.696735  ]), 'f1_mean': 0.6850414725616611}\n",
      "Saved post-edit metrics saved/edit/trials/identity_cov/CINIC10_ImageNet-VGG_16/0117_201313/dog-train-n02089232_8735/slic_gaussian_4/identity/models/post_edit_metrics.pth\n",
      "All metrics and KNN results can be found in saved/edit/trials/identity_cov/CINIC10_ImageNet-VGG_16/0117_201313/dog-train-n02089232_8735/slic_gaussian_4/identity/models\n",
      "Finished trial 10/37. Results saved to saved/edit/trials/identity_cov/CINIC10_ImageNet-VGG_16/0117_201313/dog-train-n02089232_8735/slic_gaussian_4/identity\n",
      "(0117_203635) Starting Trial 11/37...\n",
      "Current run_id: 0117_201313/dog-train-n02089232_8735/watershed_gaussian_0\n"
     ]
    },
    {
     "name": "stderr",
     "output_type": "stream",
     "text": [
      "\n"
     ]
    },
    {
     "name": "stdout",
     "output_type": "stream",
     "text": [
      "saved/edit/trials/identity_cov/CINIC10_ImageNet-VGG_16/0117_201313/dog-train-n02089232_8735/watershed_gaussian_0\n",
      "Calling edit()...\n",
      "Created ModelWrapperSanturkar model with 33646666 trainable parameters\n",
      "Restored weights from external_code/PyTorch_CIFAR10/cifar10_models/state_dicts/vgg16_bn.pt\n",
      "Using passed in data loader for validation.\n",
      "Key images: data/cinic-10-imagenet/train/dog/n02089232_8735.png\n",
      "Value images: saved/segmentations/dog/dog-train-n02089232_8735/modified_images/watershed_gaussian_0.png\n",
      "Masks: None\n",
      "Prepared data for editing\n",
      "Performing pre-edit metric calculations on validation set.\n"
     ]
    },
    {
     "name": "stderr",
     "output_type": "stream",
     "text": [
      "100%|██████████████████████████████████████████| 274/274 [00:10<00:00, 26.84it/s]\n"
     ]
    },
    {
     "name": "stdout",
     "output_type": "stream",
     "text": [
      "Pre-edit metrics: {'TP': array([6142, 5382, 5203, 3842, 4270, 2990, 5659, 5136, 4820, 4679]), 'TN': array([60115, 61110, 59441, 59902, 60157, 61756, 61050, 61747, 61643,\n",
      "       61202]), 'FPs': array([2885, 1890, 3559, 3098, 2843, 1244, 1950, 1253, 1357, 1798]), 'FNs': array([ 858, 1618, 1797, 3158, 2730, 4010, 1341, 1864, 2180, 2321]), 'accuracy': 0.6874714285714286, 'per_class_accuracy': array([0.94652857, 0.94988571, 0.92348571, 0.91062857, 0.92038571,\n",
      "       0.92494286, 0.95298571, 0.95547143, 0.94947143, 0.94115714]), 'per_class_accuracy_mean': 0.9374942857142857, 'precision': array([0.68040323, 0.74009901, 0.5938142 , 0.55360231, 0.60030929,\n",
      "       0.706188  , 0.74372454, 0.80388167, 0.78031407, 0.72240235]), 'precision_mean': 0.6924738665961387, 'recall': array([0.87742857, 0.76885714, 0.74328571, 0.54885714, 0.61      ,\n",
      "       0.42714286, 0.80842857, 0.73371429, 0.68857143, 0.66842857]), 'recall_mean': 0.6874714285714286, 'f1': array([0.7664566 , 0.75420404, 0.66019541, 0.55121951, 0.60511585,\n",
      "       0.53231262, 0.77472791, 0.76719695, 0.73157775, 0.69436818]), 'f1_mean': 0.6837374824369241}\n",
      "Saved pre-edit metrics saved/edit/trials/identity_cov/CINIC10_ImageNet-VGG_16/0117_201313/dog-train-n02089232_8735/watershed_gaussian_0/models/pre_edit_metrics.pth\n",
      "Using passed in covariance data loader.\n",
      "Looking for covariance matrix weights in cache/cinic-10-imagenet-dummy/vgg16_bn-12\n",
      "Found precomputed cov matrices, returning...\n",
      "tensor([[ 1.0000e+00, -1.8504e-05, -3.8476e-05, -1.9159e-05, -4.0293e-05,\n",
      "         -3.1667e-05, -2.4137e-05, -2.9244e-05, -4.0682e-05, -2.2710e-05],\n",
      "        [-1.8504e-05,  1.0000e+00, -2.8878e-05, -1.2513e-05, -2.8300e-05,\n",
      "         -2.1209e-05, -1.7897e-05, -2.0580e-05, -2.4006e-05, -1.4785e-05],\n",
      "        [-3.8476e-05, -2.8878e-05,  1.0000e+00, -2.8741e-05, -6.1447e-05,\n",
      "         -4.6148e-05, -3.9829e-05, -4.5861e-05, -4.7019e-05, -3.5061e-05],\n",
      "        [-1.9159e-05, -1.2513e-05, -2.8741e-05,  1.0000e+00, -2.7411e-05,\n",
      "         -2.1258e-05, -1.7047e-05, -1.9973e-05, -2.4082e-05, -1.5679e-05],\n",
      "        [-4.0293e-05, -2.8300e-05, -6.1447e-05, -2.7411e-05,  1.0000e+00,\n",
      "         -4.6443e-05, -5.1575e-05, -4.8059e-05, -5.6685e-05, -3.6807e-05],\n",
      "        [-3.1667e-05, -2.1209e-05, -4.6148e-05, -2.1258e-05, -4.6443e-05,\n",
      "          1.0000e+00, -2.6984e-05, -3.3795e-05, -4.0129e-05, -2.3401e-05],\n",
      "        [-2.4137e-05, -1.7897e-05, -3.9829e-05, -1.7047e-05, -5.1575e-05,\n",
      "         -2.6984e-05,  1.0000e+00, -2.8577e-05, -3.1210e-05, -3.0226e-05],\n",
      "        [-2.9244e-05, -2.0580e-05, -4.5861e-05, -1.9973e-05, -4.8059e-05,\n",
      "         -3.3795e-05, -2.8577e-05,  1.0000e+00, -3.8494e-05, -2.2827e-05],\n",
      "        [-4.0682e-05, -2.4006e-05, -4.7019e-05, -2.4082e-05, -5.6685e-05,\n",
      "         -4.0129e-05, -3.1210e-05, -3.8494e-05,  1.0000e+00, -2.6560e-05],\n",
      "        [-2.2710e-05, -1.4785e-05, -3.5061e-05, -1.5679e-05, -3.6807e-05,\n",
      "         -2.3401e-05, -3.0226e-05, -2.2827e-05, -2.6560e-05,  1.0000e+00]],\n",
      "       device='cuda:0')\n"
     ]
    },
    {
     "name": "stderr",
     "output_type": "stream",
     "text": [
      "tensor(0.0056, device='cuda:0', grad_fn=<DivBackward0>): 100%|█| 40000/40000 [00:"
     ]
    },
    {
     "name": "stdout",
     "output_type": "stream",
     "text": [
      "Loss (orig, final): 0.11217451840639114 0.005592117086052895\n",
      "L2 norm of weight change: 0.3930360674858093\n",
      "Performing post-edit metric calculations on validation set.\n"
     ]
    },
    {
     "name": "stderr",
     "output_type": "stream",
     "text": [
      "\n",
      "100%|██████████████████████████████████████████| 274/274 [00:10<00:00, 27.03it/s]"
     ]
    },
    {
     "name": "stdout",
     "output_type": "stream",
     "text": [
      "Post-edit metrics: {'TP': array([6026, 5589, 5789, 2345, 4148, 2860, 5614, 5189, 4802, 4487]), 'TN': array([60438, 60618, 55760, 62264, 60333, 61995, 60931, 61601, 61595,\n",
      "       61314]), 'FPs': array([2562, 2382, 7240,  736, 2667, 1005, 2069, 1399, 1405, 1686]), 'FNs': array([ 974, 1411, 1211, 4655, 2852, 4140, 1386, 1811, 2198, 2513]), 'accuracy': 0.6692714285714285, 'per_class_accuracy': array([0.94948571, 0.94581429, 0.87927143, 0.92298571, 0.92115714,\n",
      "       0.9265    , 0.95064286, 0.95414286, 0.94852857, 0.94001429]), 'per_class_accuracy_mean': 0.9338542857142856, 'precision': array([0.70167676, 0.70116673, 0.44431652, 0.76111652, 0.60865737,\n",
      "       0.73997413, 0.73070415, 0.7876442 , 0.77364266, 0.7268751 ]), 'precision_mean': 0.6975774149528182, 'recall': array([0.86085714, 0.79842857, 0.827     , 0.335     , 0.59257143,\n",
      "       0.40857143, 0.802     , 0.74128571, 0.686     , 0.641     ]), 'recall_mean': 0.6692714285714285, 'f1': array([0.77315884, 0.74664351, 0.57806181, 0.46523162, 0.6005067 ,\n",
      "       0.52646111, 0.76469386, 0.76376214, 0.72719013, 0.68124193]), 'f1_mean': 0.6626951661858018}\n",
      "Saved post-edit metrics saved/edit/trials/identity_cov/CINIC10_ImageNet-VGG_16/0117_201313/dog-train-n02089232_8735/watershed_gaussian_0/models/post_edit_metrics.pth\n",
      "All metrics and KNN results can be found in saved/edit/trials/identity_cov/CINIC10_ImageNet-VGG_16/0117_201313/dog-train-n02089232_8735/watershed_gaussian_0/models\n"
     ]
    },
    {
     "name": "stderr",
     "output_type": "stream",
     "text": [
      "\n"
     ]
    },
    {
     "name": "stdout",
     "output_type": "stream",
     "text": [
      "saved/edit/trials/identity_cov/CINIC10_ImageNet-VGG_16/0117_201313/dog-train-n02089232_8735/watershed_gaussian_0/identity\n",
      "Calling edit()...\n",
      "Created ModelWrapperSanturkar model with 33646666 trainable parameters\n",
      "Restored weights from external_code/PyTorch_CIFAR10/cifar10_models/state_dicts/vgg16_bn.pt\n",
      "Using passed in data loader for validation.\n",
      "Key images: data/cinic-10-imagenet/train/dog/n02089232_8735.png\n",
      "Value images: saved/segmentations/dog/dog-train-n02089232_8735/modified_images/watershed_gaussian_0.png\n",
      "Masks: None\n",
      "Prepared data for editing\n",
      "Performing pre-edit metric calculations on validation set.\n"
     ]
    },
    {
     "name": "stderr",
     "output_type": "stream",
     "text": [
      "100%|██████████████████████████████████████████| 274/274 [00:10<00:00, 26.98it/s]"
     ]
    },
    {
     "name": "stdout",
     "output_type": "stream",
     "text": [
      "Pre-edit metrics: {'TP': array([6142, 5382, 5203, 3842, 4270, 2990, 5659, 5136, 4820, 4679]), 'TN': array([60115, 61110, 59441, 59902, 60157, 61756, 61050, 61747, 61643,\n",
      "       61202]), 'FPs': array([2885, 1890, 3559, 3098, 2843, 1244, 1950, 1253, 1357, 1798]), 'FNs': array([ 858, 1618, 1797, 3158, 2730, 4010, 1341, 1864, 2180, 2321]), 'accuracy': 0.6874714285714286, 'per_class_accuracy': array([0.94652857, 0.94988571, 0.92348571, 0.91062857, 0.92038571,\n",
      "       0.92494286, 0.95298571, 0.95547143, 0.94947143, 0.94115714]), 'per_class_accuracy_mean': 0.9374942857142857, 'precision': array([0.68040323, 0.74009901, 0.5938142 , 0.55360231, 0.60030929,\n",
      "       0.706188  , 0.74372454, 0.80388167, 0.78031407, 0.72240235]), 'precision_mean': 0.6924738665961387, 'recall': array([0.87742857, 0.76885714, 0.74328571, 0.54885714, 0.61      ,\n",
      "       0.42714286, 0.80842857, 0.73371429, 0.68857143, 0.66842857]), 'recall_mean': 0.6874714285714286, 'f1': array([0.7664566 , 0.75420404, 0.66019541, 0.55121951, 0.60511585,\n",
      "       0.53231262, 0.77472791, 0.76719695, 0.73157775, 0.69436818]), 'f1_mean': 0.6837374824369241}\n",
      "Saved pre-edit metrics saved/edit/trials/identity_cov/CINIC10_ImageNet-VGG_16/0117_201313/dog-train-n02089232_8735/watershed_gaussian_0/identity/models/pre_edit_metrics.pth\n",
      "No data loader for covariance matrix. Will use identity matrix\n",
      "Looking for covariance matrix weights in cache/identity/vgg16_bn-12\n"
     ]
    },
    {
     "name": "stderr",
     "output_type": "stream",
     "text": [
      "\n"
     ]
    },
    {
     "name": "stdout",
     "output_type": "stream",
     "text": [
      "Found precomputed cov matrices, returning...\n",
      "tensor([[1., 0., 0., 0., 0., 0., 0., 0., 0., 0.],\n",
      "        [0., 1., 0., 0., 0., 0., 0., 0., 0., 0.],\n",
      "        [0., 0., 1., 0., 0., 0., 0., 0., 0., 0.],\n",
      "        [0., 0., 0., 1., 0., 0., 0., 0., 0., 0.],\n",
      "        [0., 0., 0., 0., 1., 0., 0., 0., 0., 0.],\n",
      "        [0., 0., 0., 0., 0., 1., 0., 0., 0., 0.],\n",
      "        [0., 0., 0., 0., 0., 0., 1., 0., 0., 0.],\n",
      "        [0., 0., 0., 0., 0., 0., 0., 1., 0., 0.],\n",
      "        [0., 0., 0., 0., 0., 0., 0., 0., 1., 0.],\n",
      "        [0., 0., 0., 0., 0., 0., 0., 0., 0., 1.]], device='cuda:0')\n"
     ]
    },
    {
     "name": "stderr",
     "output_type": "stream",
     "text": [
      "tensor(0.0054, device='cuda:0', grad_fn=<DivBackward0>): 100%|█| 40000/40000 [00:"
     ]
    },
    {
     "name": "stdout",
     "output_type": "stream",
     "text": [
      "Loss (orig, final): 0.11217451840639114 0.005378894507884979\n",
      "L2 norm of weight change: 0.395480751991272\n",
      "Performing post-edit metric calculations on validation set.\n"
     ]
    },
    {
     "name": "stderr",
     "output_type": "stream",
     "text": [
      "\n",
      "100%|██████████████████████████████████████████| 274/274 [00:10<00:00, 26.78it/s]"
     ]
    },
    {
     "name": "stdout",
     "output_type": "stream",
     "text": [
      "Post-edit metrics: {'TP': array([6023, 5593, 5798, 2323, 4144, 2854, 5603, 5189, 4803, 4484]), 'TN': array([60443, 60611, 55664, 62281, 60344, 62003, 60936, 61610, 61597,\n",
      "       61325]), 'FPs': array([2557, 2389, 7336,  719, 2656,  997, 2064, 1390, 1403, 1675]), 'FNs': array([ 977, 1407, 1202, 4677, 2856, 4146, 1397, 1811, 2197, 2516]), 'accuracy': 0.6687714285714286, 'per_class_accuracy': array([0.94951429, 0.94577143, 0.87802857, 0.92291429, 0.92125714,\n",
      "       0.92652857, 0.95055714, 0.95427143, 0.94857143, 0.94012857]), 'per_class_accuracy_mean': 0.9337542857142858, 'precision': array([0.70198135, 0.70070158, 0.44144967, 0.76364234, 0.60941176,\n",
      "       0.74110621, 0.73079431, 0.78872169, 0.77392846, 0.72804027]), 'precision_mean': 0.6979777640716837, 'recall': array([0.86042857, 0.799     , 0.82828571, 0.33185714, 0.592     ,\n",
      "       0.40771429, 0.80042857, 0.74128571, 0.68614286, 0.64057143]), 'recall_mean': 0.6687714285714287, 'f1': array([0.77317073, 0.74662929, 0.57594119, 0.46265684, 0.60057971,\n",
      "       0.52603447, 0.76402809, 0.76426836, 0.72739664, 0.68151075]), 'f1_mean': 0.6622216069276337}\n",
      "Saved post-edit metrics saved/edit/trials/identity_cov/CINIC10_ImageNet-VGG_16/0117_201313/dog-train-n02089232_8735/watershed_gaussian_0/identity/models/post_edit_metrics.pth\n",
      "All metrics and KNN results can be found in saved/edit/trials/identity_cov/CINIC10_ImageNet-VGG_16/0117_201313/dog-train-n02089232_8735/watershed_gaussian_0/identity/models\n",
      "Finished trial 11/37. Results saved to saved/edit/trials/identity_cov/CINIC10_ImageNet-VGG_16/0117_201313/dog-train-n02089232_8735/watershed_gaussian_0/identity\n",
      "(0117_203835) Starting Trial 12/37...\n",
      "Current run_id: 0117_201313/dog-train-n02089232_8735/watershed_gaussian_3\n"
     ]
    },
    {
     "name": "stderr",
     "output_type": "stream",
     "text": [
      "\n"
     ]
    },
    {
     "name": "stdout",
     "output_type": "stream",
     "text": [
      "saved/edit/trials/identity_cov/CINIC10_ImageNet-VGG_16/0117_201313/dog-train-n02089232_8735/watershed_gaussian_3\n",
      "Calling edit()...\n",
      "Created ModelWrapperSanturkar model with 33646666 trainable parameters\n",
      "Restored weights from external_code/PyTorch_CIFAR10/cifar10_models/state_dicts/vgg16_bn.pt\n",
      "Using passed in data loader for validation.\n",
      "Key images: data/cinic-10-imagenet/train/dog/n02089232_8735.png\n",
      "Value images: saved/segmentations/dog/dog-train-n02089232_8735/modified_images/watershed_gaussian_3.png\n",
      "Masks: None\n",
      "Prepared data for editing\n",
      "Performing pre-edit metric calculations on validation set.\n"
     ]
    },
    {
     "name": "stderr",
     "output_type": "stream",
     "text": [
      "100%|██████████████████████████████████████████| 274/274 [00:10<00:00, 26.92it/s]"
     ]
    },
    {
     "name": "stdout",
     "output_type": "stream",
     "text": [
      "Pre-edit metrics: {'TP': array([6142, 5382, 5203, 3842, 4270, 2990, 5659, 5136, 4820, 4679]), 'TN': array([60115, 61110, 59441, 59902, 60157, 61756, 61050, 61747, 61643,\n",
      "       61202]), 'FPs': array([2885, 1890, 3559, 3098, 2843, 1244, 1950, 1253, 1357, 1798]), 'FNs': array([ 858, 1618, 1797, 3158, 2730, 4010, 1341, 1864, 2180, 2321]), 'accuracy': 0.6874714285714286, 'per_class_accuracy': array([0.94652857, 0.94988571, 0.92348571, 0.91062857, 0.92038571,\n",
      "       0.92494286, 0.95298571, 0.95547143, 0.94947143, 0.94115714]), 'per_class_accuracy_mean': 0.9374942857142857, 'precision': array([0.68040323, 0.74009901, 0.5938142 , 0.55360231, 0.60030929,\n",
      "       0.706188  , 0.74372454, 0.80388167, 0.78031407, 0.72240235]), 'precision_mean': 0.6924738665961387, 'recall': array([0.87742857, 0.76885714, 0.74328571, 0.54885714, 0.61      ,\n",
      "       0.42714286, 0.80842857, 0.73371429, 0.68857143, 0.66842857]), 'recall_mean': 0.6874714285714286, 'f1': array([0.7664566 , 0.75420404, 0.66019541, 0.55121951, 0.60511585,\n",
      "       0.53231262, 0.77472791, 0.76719695, 0.73157775, 0.69436818]), 'f1_mean': 0.6837374824369241}\n",
      "Saved pre-edit metrics saved/edit/trials/identity_cov/CINIC10_ImageNet-VGG_16/0117_201313/dog-train-n02089232_8735/watershed_gaussian_3/models/pre_edit_metrics.pth\n",
      "Using passed in covariance data loader.\n",
      "Looking for covariance matrix weights in cache/cinic-10-imagenet-dummy/vgg16_bn-12\n"
     ]
    },
    {
     "name": "stderr",
     "output_type": "stream",
     "text": [
      "\n"
     ]
    },
    {
     "name": "stdout",
     "output_type": "stream",
     "text": [
      "Found precomputed cov matrices, returning...\n",
      "tensor([[ 1.0000e+00, -1.8504e-05, -3.8476e-05, -1.9159e-05, -4.0293e-05,\n",
      "         -3.1667e-05, -2.4137e-05, -2.9244e-05, -4.0682e-05, -2.2710e-05],\n",
      "        [-1.8504e-05,  1.0000e+00, -2.8878e-05, -1.2513e-05, -2.8300e-05,\n",
      "         -2.1209e-05, -1.7897e-05, -2.0580e-05, -2.4006e-05, -1.4785e-05],\n",
      "        [-3.8476e-05, -2.8878e-05,  1.0000e+00, -2.8741e-05, -6.1447e-05,\n",
      "         -4.6148e-05, -3.9829e-05, -4.5861e-05, -4.7019e-05, -3.5061e-05],\n",
      "        [-1.9159e-05, -1.2513e-05, -2.8741e-05,  1.0000e+00, -2.7411e-05,\n",
      "         -2.1258e-05, -1.7047e-05, -1.9973e-05, -2.4082e-05, -1.5679e-05],\n",
      "        [-4.0293e-05, -2.8300e-05, -6.1447e-05, -2.7411e-05,  1.0000e+00,\n",
      "         -4.6443e-05, -5.1575e-05, -4.8059e-05, -5.6685e-05, -3.6807e-05],\n",
      "        [-3.1667e-05, -2.1209e-05, -4.6148e-05, -2.1258e-05, -4.6443e-05,\n",
      "          1.0000e+00, -2.6984e-05, -3.3795e-05, -4.0129e-05, -2.3401e-05],\n",
      "        [-2.4137e-05, -1.7897e-05, -3.9829e-05, -1.7047e-05, -5.1575e-05,\n",
      "         -2.6984e-05,  1.0000e+00, -2.8577e-05, -3.1210e-05, -3.0226e-05],\n",
      "        [-2.9244e-05, -2.0580e-05, -4.5861e-05, -1.9973e-05, -4.8059e-05,\n",
      "         -3.3795e-05, -2.8577e-05,  1.0000e+00, -3.8494e-05, -2.2827e-05],\n",
      "        [-4.0682e-05, -2.4006e-05, -4.7019e-05, -2.4082e-05, -5.6685e-05,\n",
      "         -4.0129e-05, -3.1210e-05, -3.8494e-05,  1.0000e+00, -2.6560e-05],\n",
      "        [-2.2710e-05, -1.4785e-05, -3.5061e-05, -1.5679e-05, -3.6807e-05,\n",
      "         -2.3401e-05, -3.0226e-05, -2.2827e-05, -2.6560e-05,  1.0000e+00]],\n",
      "       device='cuda:0')\n"
     ]
    },
    {
     "name": "stderr",
     "output_type": "stream",
     "text": [
      "tensor(0.0035, device='cuda:0', grad_fn=<DivBackward0>): 100%|█| 40000/40000 [00:"
     ]
    },
    {
     "name": "stdout",
     "output_type": "stream",
     "text": [
      "Loss (orig, final): 0.010202107951045036 0.00354990316554904\n",
      "L2 norm of weight change: 0.16763964295387268\n",
      "Performing post-edit metric calculations on validation set.\n"
     ]
    },
    {
     "name": "stderr",
     "output_type": "stream",
     "text": [
      "\n",
      "100%|██████████████████████████████████████████| 274/274 [00:10<00:00, 27.34it/s]\n"
     ]
    },
    {
     "name": "stdout",
     "output_type": "stream",
     "text": [
      "Post-edit metrics: {'TP': array([6100, 5403, 5259, 3845, 4236, 3138, 5617, 5101, 4856, 4593]), 'TN': array([60277, 61111, 59213, 59827, 60186, 61518, 61173, 61826, 61611,\n",
      "       61406]), 'FPs': array([2723, 1889, 3787, 3173, 2814, 1482, 1827, 1174, 1389, 1594]), 'FNs': array([ 900, 1597, 1741, 3155, 2764, 3862, 1383, 1899, 2144, 2407]), 'accuracy': 0.6878285714285715, 'per_class_accuracy': array([0.94824286, 0.9502    , 0.92102857, 0.9096    , 0.92031429,\n",
      "       0.92365714, 0.95414286, 0.9561    , 0.94952857, 0.94284286]), 'per_class_accuracy_mean': 0.9375657142857143, 'precision': array([0.69137482, 0.74094899, 0.58136193, 0.54787689, 0.60085106,\n",
      "       0.67922078, 0.75456744, 0.81290837, 0.77758207, 0.74236302]), 'precision_mean': 0.6929055348270489, 'recall': array([0.87142857, 0.77185714, 0.75128571, 0.54928571, 0.60514286,\n",
      "       0.44828571, 0.80242857, 0.72871429, 0.69371429, 0.65614286]), 'recall_mean': 0.6878285714285715, 'f1': array([0.77102951, 0.75608732, 0.65549046, 0.5485804 , 0.60298932,\n",
      "       0.54010327, 0.77776239, 0.76851224, 0.73325783, 0.69659513]), 'f1_mean': 0.685040788964773}\n",
      "Saved post-edit metrics saved/edit/trials/identity_cov/CINIC10_ImageNet-VGG_16/0117_201313/dog-train-n02089232_8735/watershed_gaussian_3/models/post_edit_metrics.pth\n",
      "All metrics and KNN results can be found in saved/edit/trials/identity_cov/CINIC10_ImageNet-VGG_16/0117_201313/dog-train-n02089232_8735/watershed_gaussian_3/models\n",
      "saved/edit/trials/identity_cov/CINIC10_ImageNet-VGG_16/0117_201313/dog-train-n02089232_8735/watershed_gaussian_3/identity\n",
      "Calling edit()...\n",
      "Created ModelWrapperSanturkar model with 33646666 trainable parameters\n",
      "Restored weights from external_code/PyTorch_CIFAR10/cifar10_models/state_dicts/vgg16_bn.pt\n",
      "Using passed in data loader for validation.\n",
      "Key images: data/cinic-10-imagenet/train/dog/n02089232_8735.png\n",
      "Value images: saved/segmentations/dog/dog-train-n02089232_8735/modified_images/watershed_gaussian_3.png\n",
      "Masks: None\n",
      "Prepared data for editing\n",
      "Performing pre-edit metric calculations on validation set.\n"
     ]
    },
    {
     "name": "stderr",
     "output_type": "stream",
     "text": [
      "100%|██████████████████████████████████████████| 274/274 [00:11<00:00, 24.46it/s]"
     ]
    },
    {
     "name": "stdout",
     "output_type": "stream",
     "text": [
      "Pre-edit metrics: {'TP': array([6142, 5382, 5203, 3842, 4270, 2990, 5659, 5136, 4820, 4679]), 'TN': array([60115, 61110, 59441, 59902, 60157, 61756, 61050, 61747, 61643,\n",
      "       61202]), 'FPs': array([2885, 1890, 3559, 3098, 2843, 1244, 1950, 1253, 1357, 1798]), 'FNs': array([ 858, 1618, 1797, 3158, 2730, 4010, 1341, 1864, 2180, 2321]), 'accuracy': 0.6874714285714286, 'per_class_accuracy': array([0.94652857, 0.94988571, 0.92348571, 0.91062857, 0.92038571,\n",
      "       0.92494286, 0.95298571, 0.95547143, 0.94947143, 0.94115714]), 'per_class_accuracy_mean': 0.9374942857142857, 'precision': array([0.68040323, 0.74009901, 0.5938142 , 0.55360231, 0.60030929,\n",
      "       0.706188  , 0.74372454, 0.80388167, 0.78031407, 0.72240235]), 'precision_mean': 0.6924738665961387, 'recall': array([0.87742857, 0.76885714, 0.74328571, 0.54885714, 0.61      ,\n",
      "       0.42714286, 0.80842857, 0.73371429, 0.68857143, 0.66842857]), 'recall_mean': 0.6874714285714286, 'f1': array([0.7664566 , 0.75420404, 0.66019541, 0.55121951, 0.60511585,\n",
      "       0.53231262, 0.77472791, 0.76719695, 0.73157775, 0.69436818]), 'f1_mean': 0.6837374824369241}\n"
     ]
    },
    {
     "name": "stderr",
     "output_type": "stream",
     "text": [
      "\n"
     ]
    },
    {
     "name": "stdout",
     "output_type": "stream",
     "text": [
      "Saved pre-edit metrics saved/edit/trials/identity_cov/CINIC10_ImageNet-VGG_16/0117_201313/dog-train-n02089232_8735/watershed_gaussian_3/identity/models/pre_edit_metrics.pth\n",
      "No data loader for covariance matrix. Will use identity matrix\n",
      "Looking for covariance matrix weights in cache/identity/vgg16_bn-12\n",
      "Found precomputed cov matrices, returning...\n",
      "tensor([[1., 0., 0., 0., 0., 0., 0., 0., 0., 0.],\n",
      "        [0., 1., 0., 0., 0., 0., 0., 0., 0., 0.],\n",
      "        [0., 0., 1., 0., 0., 0., 0., 0., 0., 0.],\n",
      "        [0., 0., 0., 1., 0., 0., 0., 0., 0., 0.],\n",
      "        [0., 0., 0., 0., 1., 0., 0., 0., 0., 0.],\n",
      "        [0., 0., 0., 0., 0., 1., 0., 0., 0., 0.],\n",
      "        [0., 0., 0., 0., 0., 0., 1., 0., 0., 0.],\n",
      "        [0., 0., 0., 0., 0., 0., 0., 1., 0., 0.],\n",
      "        [0., 0., 0., 0., 0., 0., 0., 0., 1., 0.],\n",
      "        [0., 0., 0., 0., 0., 0., 0., 0., 0., 1.]], device='cuda:0')\n"
     ]
    },
    {
     "name": "stderr",
     "output_type": "stream",
     "text": [
      "tensor(0.0036, device='cuda:0', grad_fn=<DivBackward0>): 100%|█| 40000/40000 [00:"
     ]
    },
    {
     "name": "stdout",
     "output_type": "stream",
     "text": [
      "Loss (orig, final): 0.010202107951045036 0.003631515894085169\n",
      "L2 norm of weight change: 0.17080995440483093\n",
      "Performing post-edit metric calculations on validation set.\n"
     ]
    },
    {
     "name": "stderr",
     "output_type": "stream",
     "text": [
      "\n",
      "100%|██████████████████████████████████████████| 274/274 [00:09<00:00, 27.49it/s]"
     ]
    },
    {
     "name": "stdout",
     "output_type": "stream",
     "text": [
      "Post-edit metrics: {'TP': array([6101, 5403, 5260, 3847, 4236, 3140, 5612, 5100, 4857, 4592]), 'TN': array([60279, 61115, 59204, 59825, 60181, 61516, 61177, 61830, 61610,\n",
      "       61411]), 'FPs': array([2721, 1885, 3796, 3175, 2819, 1484, 1823, 1170, 1390, 1589]), 'FNs': array([ 899, 1597, 1740, 3153, 2764, 3860, 1388, 1900, 2143, 2408]), 'accuracy': 0.6878285714285715, 'per_class_accuracy': array([0.94828571, 0.95025714, 0.92091429, 0.9096    , 0.92024286,\n",
      "       0.92365714, 0.95412857, 0.95614286, 0.94952857, 0.9429    ]), 'per_class_accuracy_mean': 0.9375657142857141, 'precision': array([0.69156654, 0.74135565, 0.58083039, 0.54784962, 0.60042523,\n",
      "       0.67906574, 0.75480834, 0.81339713, 0.7774932 , 0.74292186]), 'precision_mean': 0.6929713691955997, 'recall': array([0.87157143, 0.77185714, 0.75142857, 0.54957143, 0.60514286,\n",
      "       0.44857143, 0.80171429, 0.72857143, 0.69385714, 0.656     ]), 'recall_mean': 0.6878285714285713, 'f1': array([0.77120465, 0.75629899, 0.65520678, 0.54870917, 0.60277481,\n",
      "       0.54026153, 0.77755455, 0.76865109, 0.73329811, 0.69676049]), 'f1_mean': 0.6850720174009303}\n",
      "Saved post-edit metrics saved/edit/trials/identity_cov/CINIC10_ImageNet-VGG_16/0117_201313/dog-train-n02089232_8735/watershed_gaussian_3/identity/models/post_edit_metrics.pth\n",
      "All metrics and KNN results can be found in saved/edit/trials/identity_cov/CINIC10_ImageNet-VGG_16/0117_201313/dog-train-n02089232_8735/watershed_gaussian_3/identity/models\n",
      "Finished trial 12/37. Results saved to saved/edit/trials/identity_cov/CINIC10_ImageNet-VGG_16/0117_201313/dog-train-n02089232_8735/watershed_gaussian_3/identity\n",
      "(0117_204035) Starting Trial 13/37...\n",
      "Current run_id: 0117_201313/dog-train-n02089232_8735/watershed_masked_2\n"
     ]
    },
    {
     "name": "stderr",
     "output_type": "stream",
     "text": [
      "\n"
     ]
    },
    {
     "name": "stdout",
     "output_type": "stream",
     "text": [
      "saved/edit/trials/identity_cov/CINIC10_ImageNet-VGG_16/0117_201313/dog-train-n02089232_8735/watershed_masked_2\n",
      "Calling edit()...\n",
      "Created ModelWrapperSanturkar model with 33646666 trainable parameters\n",
      "Restored weights from external_code/PyTorch_CIFAR10/cifar10_models/state_dicts/vgg16_bn.pt\n",
      "Using passed in data loader for validation.\n",
      "Key images: data/cinic-10-imagenet/train/dog/n02089232_8735.png\n",
      "Value images: saved/segmentations/dog/dog-train-n02089232_8735/modified_images/watershed_masked_2.png\n",
      "Masks: None\n",
      "Prepared data for editing\n",
      "Performing pre-edit metric calculations on validation set.\n"
     ]
    },
    {
     "name": "stderr",
     "output_type": "stream",
     "text": [
      "100%|██████████████████████████████████████████| 274/274 [00:10<00:00, 26.25it/s]"
     ]
    },
    {
     "name": "stdout",
     "output_type": "stream",
     "text": [
      "Pre-edit metrics: {'TP': array([6142, 5382, 5203, 3842, 4270, 2990, 5659, 5136, 4820, 4679]), 'TN': array([60115, 61110, 59441, 59902, 60157, 61756, 61050, 61747, 61643,\n",
      "       61202]), 'FPs': array([2885, 1890, 3559, 3098, 2843, 1244, 1950, 1253, 1357, 1798]), 'FNs': array([ 858, 1618, 1797, 3158, 2730, 4010, 1341, 1864, 2180, 2321]), 'accuracy': 0.6874714285714286, 'per_class_accuracy': array([0.94652857, 0.94988571, 0.92348571, 0.91062857, 0.92038571,\n",
      "       0.92494286, 0.95298571, 0.95547143, 0.94947143, 0.94115714]), 'per_class_accuracy_mean': 0.9374942857142857, 'precision': array([0.68040323, 0.74009901, 0.5938142 , 0.55360231, 0.60030929,\n",
      "       0.706188  , 0.74372454, 0.80388167, 0.78031407, 0.72240235]), 'precision_mean': 0.6924738665961387, 'recall': array([0.87742857, 0.76885714, 0.74328571, 0.54885714, 0.61      ,\n",
      "       0.42714286, 0.80842857, 0.73371429, 0.68857143, 0.66842857]), 'recall_mean': 0.6874714285714286, 'f1': array([0.7664566 , 0.75420404, 0.66019541, 0.55121951, 0.60511585,\n",
      "       0.53231262, 0.77472791, 0.76719695, 0.73157775, 0.69436818]), 'f1_mean': 0.6837374824369241}\n",
      "Saved pre-edit metrics saved/edit/trials/identity_cov/CINIC10_ImageNet-VGG_16/0117_201313/dog-train-n02089232_8735/watershed_masked_2/models/pre_edit_metrics.pth\n",
      "Using passed in covariance data loader.\n",
      "Looking for covariance matrix weights in cache/cinic-10-imagenet-dummy/vgg16_bn-12\n"
     ]
    },
    {
     "name": "stderr",
     "output_type": "stream",
     "text": [
      "\n"
     ]
    },
    {
     "name": "stdout",
     "output_type": "stream",
     "text": [
      "Found precomputed cov matrices, returning...\n",
      "tensor([[ 1.0000e+00, -1.8504e-05, -3.8476e-05, -1.9159e-05, -4.0293e-05,\n",
      "         -3.1667e-05, -2.4137e-05, -2.9244e-05, -4.0682e-05, -2.2710e-05],\n",
      "        [-1.8504e-05,  1.0000e+00, -2.8878e-05, -1.2513e-05, -2.8300e-05,\n",
      "         -2.1209e-05, -1.7897e-05, -2.0580e-05, -2.4006e-05, -1.4785e-05],\n",
      "        [-3.8476e-05, -2.8878e-05,  1.0000e+00, -2.8741e-05, -6.1447e-05,\n",
      "         -4.6148e-05, -3.9829e-05, -4.5861e-05, -4.7019e-05, -3.5061e-05],\n",
      "        [-1.9159e-05, -1.2513e-05, -2.8741e-05,  1.0000e+00, -2.7411e-05,\n",
      "         -2.1258e-05, -1.7047e-05, -1.9973e-05, -2.4082e-05, -1.5679e-05],\n",
      "        [-4.0293e-05, -2.8300e-05, -6.1447e-05, -2.7411e-05,  1.0000e+00,\n",
      "         -4.6443e-05, -5.1575e-05, -4.8059e-05, -5.6685e-05, -3.6807e-05],\n",
      "        [-3.1667e-05, -2.1209e-05, -4.6148e-05, -2.1258e-05, -4.6443e-05,\n",
      "          1.0000e+00, -2.6984e-05, -3.3795e-05, -4.0129e-05, -2.3401e-05],\n",
      "        [-2.4137e-05, -1.7897e-05, -3.9829e-05, -1.7047e-05, -5.1575e-05,\n",
      "         -2.6984e-05,  1.0000e+00, -2.8577e-05, -3.1210e-05, -3.0226e-05],\n",
      "        [-2.9244e-05, -2.0580e-05, -4.5861e-05, -1.9973e-05, -4.8059e-05,\n",
      "         -3.3795e-05, -2.8577e-05,  1.0000e+00, -3.8494e-05, -2.2827e-05],\n",
      "        [-4.0682e-05, -2.4006e-05, -4.7019e-05, -2.4082e-05, -5.6685e-05,\n",
      "         -4.0129e-05, -3.1210e-05, -3.8494e-05,  1.0000e+00, -2.6560e-05],\n",
      "        [-2.2710e-05, -1.4785e-05, -3.5061e-05, -1.5679e-05, -3.6807e-05,\n",
      "         -2.3401e-05, -3.0226e-05, -2.2827e-05, -2.6560e-05,  1.0000e+00]],\n",
      "       device='cuda:0')\n"
     ]
    },
    {
     "name": "stderr",
     "output_type": "stream",
     "text": [
      "tensor(0.0053, device='cuda:0', grad_fn=<DivBackward0>): 100%|█| 40000/40000 [00:"
     ]
    },
    {
     "name": "stdout",
     "output_type": "stream",
     "text": [
      "Loss (orig, final): 0.07673828303813934 0.005301600322127342\n",
      "L2 norm of weight change: 0.29551202058792114\n",
      "Performing post-edit metric calculations on validation set.\n"
     ]
    },
    {
     "name": "stderr",
     "output_type": "stream",
     "text": [
      "\n",
      "100%|██████████████████████████████████████████| 274/274 [00:10<00:00, 26.55it/s]"
     ]
    },
    {
     "name": "stdout",
     "output_type": "stream",
     "text": [
      "Post-edit metrics: {'TP': array([6123, 5535, 5679, 3028, 4200, 2978, 5600, 5257, 4522, 4356]), 'TN': array([60124, 60851, 56788, 61349, 60198, 61863, 61024, 61474, 61934,\n",
      "       61673]), 'FPs': array([2876, 2149, 6212, 1651, 2802, 1137, 1976, 1526, 1066, 1327]), 'FNs': array([ 877, 1465, 1321, 3972, 2800, 4022, 1400, 1743, 2478, 2644]), 'accuracy': 0.6754, 'per_class_accuracy': array([0.94638571, 0.94837143, 0.89238571, 0.91967143, 0.91997143,\n",
      "       0.9263    , 0.95177143, 0.9533    , 0.94937143, 0.94327143]), 'per_class_accuracy_mean': 0.9350799999999999, 'precision': array([0.68040893, 0.72032795, 0.47758809, 0.64714683, 0.59982862,\n",
      "       0.7236938 , 0.73917635, 0.7750258 , 0.80923407, 0.76649657]), 'precision_mean': 0.6938927018026819, 'recall': array([0.87471429, 0.79071429, 0.81128571, 0.43257143, 0.6       ,\n",
      "       0.42542857, 0.8       , 0.751     , 0.646     , 0.62228571]), 'recall_mean': 0.6754, 'f1': array([0.76542284, 0.75388178, 0.60123869, 0.51853755, 0.5999143 ,\n",
      "       0.53585245, 0.76838639, 0.76282377, 0.71846203, 0.68690373]), 'f1_mean': 0.6711423509444027}\n",
      "Saved post-edit metrics saved/edit/trials/identity_cov/CINIC10_ImageNet-VGG_16/0117_201313/dog-train-n02089232_8735/watershed_masked_2/models/post_edit_metrics.pth\n",
      "All metrics and KNN results can be found in saved/edit/trials/identity_cov/CINIC10_ImageNet-VGG_16/0117_201313/dog-train-n02089232_8735/watershed_masked_2/models\n"
     ]
    },
    {
     "name": "stderr",
     "output_type": "stream",
     "text": [
      "\n"
     ]
    },
    {
     "name": "stdout",
     "output_type": "stream",
     "text": [
      "saved/edit/trials/identity_cov/CINIC10_ImageNet-VGG_16/0117_201313/dog-train-n02089232_8735/watershed_masked_2/identity\n",
      "Calling edit()...\n",
      "Created ModelWrapperSanturkar model with 33646666 trainable parameters\n",
      "Restored weights from external_code/PyTorch_CIFAR10/cifar10_models/state_dicts/vgg16_bn.pt\n",
      "Using passed in data loader for validation.\n",
      "Key images: data/cinic-10-imagenet/train/dog/n02089232_8735.png\n",
      "Value images: saved/segmentations/dog/dog-train-n02089232_8735/modified_images/watershed_masked_2.png\n",
      "Masks: None\n",
      "Prepared data for editing\n",
      "Performing pre-edit metric calculations on validation set.\n"
     ]
    },
    {
     "name": "stderr",
     "output_type": "stream",
     "text": [
      "100%|██████████████████████████████████████████| 274/274 [00:09<00:00, 28.07it/s]"
     ]
    },
    {
     "name": "stdout",
     "output_type": "stream",
     "text": [
      "Pre-edit metrics: {'TP': array([6142, 5382, 5203, 3842, 4270, 2990, 5659, 5136, 4820, 4679]), 'TN': array([60115, 61110, 59441, 59902, 60157, 61756, 61050, 61747, 61643,\n",
      "       61202]), 'FPs': array([2885, 1890, 3559, 3098, 2843, 1244, 1950, 1253, 1357, 1798]), 'FNs': array([ 858, 1618, 1797, 3158, 2730, 4010, 1341, 1864, 2180, 2321]), 'accuracy': 0.6874714285714286, 'per_class_accuracy': array([0.94652857, 0.94988571, 0.92348571, 0.91062857, 0.92038571,\n",
      "       0.92494286, 0.95298571, 0.95547143, 0.94947143, 0.94115714]), 'per_class_accuracy_mean': 0.9374942857142857, 'precision': array([0.68040323, 0.74009901, 0.5938142 , 0.55360231, 0.60030929,\n",
      "       0.706188  , 0.74372454, 0.80388167, 0.78031407, 0.72240235]), 'precision_mean': 0.6924738665961387, 'recall': array([0.87742857, 0.76885714, 0.74328571, 0.54885714, 0.61      ,\n",
      "       0.42714286, 0.80842857, 0.73371429, 0.68857143, 0.66842857]), 'recall_mean': 0.6874714285714286, 'f1': array([0.7664566 , 0.75420404, 0.66019541, 0.55121951, 0.60511585,\n",
      "       0.53231262, 0.77472791, 0.76719695, 0.73157775, 0.69436818]), 'f1_mean': 0.6837374824369241}\n",
      "Saved pre-edit metrics saved/edit/trials/identity_cov/CINIC10_ImageNet-VGG_16/0117_201313/dog-train-n02089232_8735/watershed_masked_2/identity/models/pre_edit_metrics.pth\n",
      "No data loader for covariance matrix. Will use identity matrix\n",
      "Looking for covariance matrix weights in cache/identity/vgg16_bn-12\n"
     ]
    },
    {
     "name": "stderr",
     "output_type": "stream",
     "text": [
      "\n"
     ]
    },
    {
     "name": "stdout",
     "output_type": "stream",
     "text": [
      "Found precomputed cov matrices, returning...\n",
      "tensor([[1., 0., 0., 0., 0., 0., 0., 0., 0., 0.],\n",
      "        [0., 1., 0., 0., 0., 0., 0., 0., 0., 0.],\n",
      "        [0., 0., 1., 0., 0., 0., 0., 0., 0., 0.],\n",
      "        [0., 0., 0., 1., 0., 0., 0., 0., 0., 0.],\n",
      "        [0., 0., 0., 0., 1., 0., 0., 0., 0., 0.],\n",
      "        [0., 0., 0., 0., 0., 1., 0., 0., 0., 0.],\n",
      "        [0., 0., 0., 0., 0., 0., 1., 0., 0., 0.],\n",
      "        [0., 0., 0., 0., 0., 0., 0., 1., 0., 0.],\n",
      "        [0., 0., 0., 0., 0., 0., 0., 0., 1., 0.],\n",
      "        [0., 0., 0., 0., 0., 0., 0., 0., 0., 1.]], device='cuda:0')\n"
     ]
    },
    {
     "name": "stderr",
     "output_type": "stream",
     "text": [
      "tensor(0.0053, device='cuda:0', grad_fn=<DivBackward0>): 100%|█| 40000/40000 [00:"
     ]
    },
    {
     "name": "stdout",
     "output_type": "stream",
     "text": [
      "Loss (orig, final): 0.07673828303813934 0.00530838081613183\n",
      "L2 norm of weight change: 0.2962203919887543\n",
      "Performing post-edit metric calculations on validation set.\n"
     ]
    },
    {
     "name": "stderr",
     "output_type": "stream",
     "text": [
      "\n",
      "100%|██████████████████████████████████████████| 274/274 [00:09<00:00, 28.64it/s]\n"
     ]
    },
    {
     "name": "stdout",
     "output_type": "stream",
     "text": [
      "Post-edit metrics: {'TP': array([6123, 5531, 5685, 3029, 4202, 2978, 5592, 5257, 4522, 4351]), 'TN': array([60132, 60852, 56756, 61352, 60187, 61864, 61036, 61475, 61933,\n",
      "       61683]), 'FPs': array([2868, 2148, 6244, 1648, 2813, 1136, 1964, 1525, 1067, 1317]), 'FNs': array([ 877, 1469, 1315, 3971, 2798, 4022, 1408, 1743, 2478, 2649]), 'accuracy': 0.6752857142857143, 'per_class_accuracy': array([0.9465    , 0.94832857, 0.89201429, 0.91972857, 0.91984286,\n",
      "       0.92631429, 0.95182857, 0.95331429, 0.94935714, 0.94334286]), 'per_class_accuracy_mean': 0.9350571428571429, 'precision': array([0.68101435, 0.72027608, 0.4765697 , 0.64763737, 0.59900214,\n",
      "       0.72386971, 0.74007411, 0.77514008, 0.80908928, 0.76764291]), 'precision_mean': 0.6940315735244116, 'recall': array([0.87471429, 0.79014286, 0.81214286, 0.43271429, 0.60028571,\n",
      "       0.42542857, 0.79885714, 0.751     , 0.646     , 0.62157143]), 'recall_mean': 0.6752857142857143, 'f1': array([0.76580577, 0.75359357, 0.60066565, 0.51879764, 0.59964324,\n",
      "       0.53590067, 0.76834295, 0.76287912, 0.71840496, 0.68692769]), 'f1_mean': 0.6710961239266207}\n",
      "Saved post-edit metrics saved/edit/trials/identity_cov/CINIC10_ImageNet-VGG_16/0117_201313/dog-train-n02089232_8735/watershed_masked_2/identity/models/post_edit_metrics.pth\n",
      "All metrics and KNN results can be found in saved/edit/trials/identity_cov/CINIC10_ImageNet-VGG_16/0117_201313/dog-train-n02089232_8735/watershed_masked_2/identity/models\n",
      "Finished trial 13/37. Results saved to saved/edit/trials/identity_cov/CINIC10_ImageNet-VGG_16/0117_201313/dog-train-n02089232_8735/watershed_masked_2/identity\n",
      "(0117_204235) Starting Trial 14/37...\n",
      "Current run_id: 0117_201313/dog-train-n02089232_8735/watershed_masked_3\n",
      "saved/edit/trials/identity_cov/CINIC10_ImageNet-VGG_16/0117_201313/dog-train-n02089232_8735/watershed_masked_3\n",
      "Calling edit()...\n",
      "Created ModelWrapperSanturkar model with 33646666 trainable parameters\n",
      "Restored weights from external_code/PyTorch_CIFAR10/cifar10_models/state_dicts/vgg16_bn.pt\n",
      "Using passed in data loader for validation.\n",
      "Key images: data/cinic-10-imagenet/train/dog/n02089232_8735.png\n",
      "Value images: saved/segmentations/dog/dog-train-n02089232_8735/modified_images/watershed_masked_3.png\n",
      "Masks: None\n",
      "Prepared data for editing\n",
      "Performing pre-edit metric calculations on validation set.\n"
     ]
    },
    {
     "name": "stderr",
     "output_type": "stream",
     "text": [
      "100%|██████████████████████████████████████████| 274/274 [00:10<00:00, 26.97it/s]"
     ]
    },
    {
     "name": "stdout",
     "output_type": "stream",
     "text": [
      "Pre-edit metrics: {'TP': array([6142, 5382, 5203, 3842, 4270, 2990, 5659, 5136, 4820, 4679]), 'TN': array([60115, 61110, 59441, 59902, 60157, 61756, 61050, 61747, 61643,\n",
      "       61202]), 'FPs': array([2885, 1890, 3559, 3098, 2843, 1244, 1950, 1253, 1357, 1798]), 'FNs': array([ 858, 1618, 1797, 3158, 2730, 4010, 1341, 1864, 2180, 2321]), 'accuracy': 0.6874714285714286, 'per_class_accuracy': array([0.94652857, 0.94988571, 0.92348571, 0.91062857, 0.92038571,\n",
      "       0.92494286, 0.95298571, 0.95547143, 0.94947143, 0.94115714]), 'per_class_accuracy_mean': 0.9374942857142857, 'precision': array([0.68040323, 0.74009901, 0.5938142 , 0.55360231, 0.60030929,\n",
      "       0.706188  , 0.74372454, 0.80388167, 0.78031407, 0.72240235]), 'precision_mean': 0.6924738665961387, 'recall': array([0.87742857, 0.76885714, 0.74328571, 0.54885714, 0.61      ,\n",
      "       0.42714286, 0.80842857, 0.73371429, 0.68857143, 0.66842857]), 'recall_mean': 0.6874714285714286, 'f1': array([0.7664566 , 0.75420404, 0.66019541, 0.55121951, 0.60511585,\n",
      "       0.53231262, 0.77472791, 0.76719695, 0.73157775, 0.69436818]), 'f1_mean': 0.6837374824369241}\n",
      "Saved pre-edit metrics saved/edit/trials/identity_cov/CINIC10_ImageNet-VGG_16/0117_201313/dog-train-n02089232_8735/watershed_masked_3/models/pre_edit_metrics.pth\n"
     ]
    },
    {
     "name": "stderr",
     "output_type": "stream",
     "text": [
      "\n"
     ]
    },
    {
     "name": "stdout",
     "output_type": "stream",
     "text": [
      "Using passed in covariance data loader.\n",
      "Looking for covariance matrix weights in cache/cinic-10-imagenet-dummy/vgg16_bn-12\n",
      "Found precomputed cov matrices, returning...\n",
      "tensor([[ 1.0000e+00, -1.8504e-05, -3.8476e-05, -1.9159e-05, -4.0293e-05,\n",
      "         -3.1667e-05, -2.4137e-05, -2.9244e-05, -4.0682e-05, -2.2710e-05],\n",
      "        [-1.8504e-05,  1.0000e+00, -2.8878e-05, -1.2513e-05, -2.8300e-05,\n",
      "         -2.1209e-05, -1.7897e-05, -2.0580e-05, -2.4006e-05, -1.4785e-05],\n",
      "        [-3.8476e-05, -2.8878e-05,  1.0000e+00, -2.8741e-05, -6.1447e-05,\n",
      "         -4.6148e-05, -3.9829e-05, -4.5861e-05, -4.7019e-05, -3.5061e-05],\n",
      "        [-1.9159e-05, -1.2513e-05, -2.8741e-05,  1.0000e+00, -2.7411e-05,\n",
      "         -2.1258e-05, -1.7047e-05, -1.9973e-05, -2.4082e-05, -1.5679e-05],\n",
      "        [-4.0293e-05, -2.8300e-05, -6.1447e-05, -2.7411e-05,  1.0000e+00,\n",
      "         -4.6443e-05, -5.1575e-05, -4.8059e-05, -5.6685e-05, -3.6807e-05],\n",
      "        [-3.1667e-05, -2.1209e-05, -4.6148e-05, -2.1258e-05, -4.6443e-05,\n",
      "          1.0000e+00, -2.6984e-05, -3.3795e-05, -4.0129e-05, -2.3401e-05],\n",
      "        [-2.4137e-05, -1.7897e-05, -3.9829e-05, -1.7047e-05, -5.1575e-05,\n",
      "         -2.6984e-05,  1.0000e+00, -2.8577e-05, -3.1210e-05, -3.0226e-05],\n",
      "        [-2.9244e-05, -2.0580e-05, -4.5861e-05, -1.9973e-05, -4.8059e-05,\n",
      "         -3.3795e-05, -2.8577e-05,  1.0000e+00, -3.8494e-05, -2.2827e-05],\n",
      "        [-4.0682e-05, -2.4006e-05, -4.7019e-05, -2.4082e-05, -5.6685e-05,\n",
      "         -4.0129e-05, -3.1210e-05, -3.8494e-05,  1.0000e+00, -2.6560e-05],\n",
      "        [-2.2710e-05, -1.4785e-05, -3.5061e-05, -1.5679e-05, -3.6807e-05,\n",
      "         -2.3401e-05, -3.0226e-05, -2.2827e-05, -2.6560e-05,  1.0000e+00]],\n",
      "       device='cuda:0')\n"
     ]
    },
    {
     "name": "stderr",
     "output_type": "stream",
     "text": [
      "tensor(0.0044, device='cuda:0', grad_fn=<DivBackward0>): 100%|█| 40000/40000 [00:"
     ]
    },
    {
     "name": "stdout",
     "output_type": "stream",
     "text": [
      "Loss (orig, final): 0.05015187710523605 0.004405006766319275\n",
      "L2 norm of weight change: 0.2174101024866104\n",
      "Performing post-edit metric calculations on validation set.\n"
     ]
    },
    {
     "name": "stderr",
     "output_type": "stream",
     "text": [
      "\n",
      "100%|██████████████████████████████████████████| 274/274 [00:09<00:00, 27.59it/s]"
     ]
    },
    {
     "name": "stdout",
     "output_type": "stream",
     "text": [
      "Post-edit metrics: {'TP': array([6061, 5489, 5524, 3345, 4248, 3289, 5550, 5110, 4859, 4422]), 'TN': array([60360, 60965, 58000, 60816, 60134, 61362, 61232, 61831, 61571,\n",
      "       61626]), 'FPs': array([2640, 2035, 5000, 2184, 2866, 1638, 1768, 1169, 1429, 1374]), 'FNs': array([ 939, 1511, 1476, 3655, 2752, 3711, 1450, 1890, 2141, 2578]), 'accuracy': 0.6842428571428572, 'per_class_accuracy': array([0.94887143, 0.94934286, 0.90748571, 0.91658571, 0.91974286,\n",
      "       0.92358571, 0.95402857, 0.9563    , 0.949     , 0.94354286]), 'per_class_accuracy_mean': 0.9368485714285715, 'precision': array([0.6965866 , 0.72953216, 0.52489548, 0.60499186, 0.59713241,\n",
      "       0.66754617, 0.75840394, 0.81382386, 0.77274173, 0.76293996]), 'precision_mean': 0.6928594171859692, 'recall': array([0.86585714, 0.78414286, 0.78914286, 0.47785714, 0.60685714,\n",
      "       0.46985714, 0.79285714, 0.73      , 0.69414286, 0.63171429]), 'recall_mean': 0.6842428571428572, 'f1': array([0.77205274, 0.75585238, 0.63044967, 0.53396121, 0.60195551,\n",
      "       0.55152176, 0.77524794, 0.76963627, 0.73133654, 0.69115349]), 'f1_mean': 0.6813167496468259}\n",
      "Saved post-edit metrics saved/edit/trials/identity_cov/CINIC10_ImageNet-VGG_16/0117_201313/dog-train-n02089232_8735/watershed_masked_3/models/post_edit_metrics.pth\n",
      "All metrics and KNN results can be found in saved/edit/trials/identity_cov/CINIC10_ImageNet-VGG_16/0117_201313/dog-train-n02089232_8735/watershed_masked_3/models\n"
     ]
    },
    {
     "name": "stderr",
     "output_type": "stream",
     "text": [
      "\n"
     ]
    },
    {
     "name": "stdout",
     "output_type": "stream",
     "text": [
      "saved/edit/trials/identity_cov/CINIC10_ImageNet-VGG_16/0117_201313/dog-train-n02089232_8735/watershed_masked_3/identity\n",
      "Calling edit()...\n",
      "Created ModelWrapperSanturkar model with 33646666 trainable parameters\n",
      "Restored weights from external_code/PyTorch_CIFAR10/cifar10_models/state_dicts/vgg16_bn.pt\n",
      "Using passed in data loader for validation.\n",
      "Key images: data/cinic-10-imagenet/train/dog/n02089232_8735.png\n",
      "Value images: saved/segmentations/dog/dog-train-n02089232_8735/modified_images/watershed_masked_3.png\n",
      "Masks: None\n",
      "Prepared data for editing\n",
      "Performing pre-edit metric calculations on validation set.\n"
     ]
    },
    {
     "name": "stderr",
     "output_type": "stream",
     "text": [
      "100%|██████████████████████████████████████████| 274/274 [00:09<00:00, 28.16it/s]"
     ]
    },
    {
     "name": "stdout",
     "output_type": "stream",
     "text": [
      "Pre-edit metrics: {'TP': array([6142, 5382, 5203, 3842, 4270, 2990, 5659, 5136, 4820, 4679]), 'TN': array([60115, 61110, 59441, 59902, 60157, 61756, 61050, 61747, 61643,\n",
      "       61202]), 'FPs': array([2885, 1890, 3559, 3098, 2843, 1244, 1950, 1253, 1357, 1798]), 'FNs': array([ 858, 1618, 1797, 3158, 2730, 4010, 1341, 1864, 2180, 2321]), 'accuracy': 0.6874714285714286, 'per_class_accuracy': array([0.94652857, 0.94988571, 0.92348571, 0.91062857, 0.92038571,\n",
      "       0.92494286, 0.95298571, 0.95547143, 0.94947143, 0.94115714]), 'per_class_accuracy_mean': 0.9374942857142857, 'precision': array([0.68040323, 0.74009901, 0.5938142 , 0.55360231, 0.60030929,\n",
      "       0.706188  , 0.74372454, 0.80388167, 0.78031407, 0.72240235]), 'precision_mean': 0.6924738665961387, 'recall': array([0.87742857, 0.76885714, 0.74328571, 0.54885714, 0.61      ,\n",
      "       0.42714286, 0.80842857, 0.73371429, 0.68857143, 0.66842857]), 'recall_mean': 0.6874714285714286, 'f1': array([0.7664566 , 0.75420404, 0.66019541, 0.55121951, 0.60511585,\n",
      "       0.53231262, 0.77472791, 0.76719695, 0.73157775, 0.69436818]), 'f1_mean': 0.6837374824369241}\n"
     ]
    },
    {
     "name": "stderr",
     "output_type": "stream",
     "text": [
      "\n"
     ]
    },
    {
     "name": "stdout",
     "output_type": "stream",
     "text": [
      "Saved pre-edit metrics saved/edit/trials/identity_cov/CINIC10_ImageNet-VGG_16/0117_201313/dog-train-n02089232_8735/watershed_masked_3/identity/models/pre_edit_metrics.pth\n",
      "No data loader for covariance matrix. Will use identity matrix\n",
      "Looking for covariance matrix weights in cache/identity/vgg16_bn-12\n",
      "Found precomputed cov matrices, returning...\n",
      "tensor([[1., 0., 0., 0., 0., 0., 0., 0., 0., 0.],\n",
      "        [0., 1., 0., 0., 0., 0., 0., 0., 0., 0.],\n",
      "        [0., 0., 1., 0., 0., 0., 0., 0., 0., 0.],\n",
      "        [0., 0., 0., 1., 0., 0., 0., 0., 0., 0.],\n",
      "        [0., 0., 0., 0., 1., 0., 0., 0., 0., 0.],\n",
      "        [0., 0., 0., 0., 0., 1., 0., 0., 0., 0.],\n",
      "        [0., 0., 0., 0., 0., 0., 1., 0., 0., 0.],\n",
      "        [0., 0., 0., 0., 0., 0., 0., 1., 0., 0.],\n",
      "        [0., 0., 0., 0., 0., 0., 0., 0., 1., 0.],\n",
      "        [0., 0., 0., 0., 0., 0., 0., 0., 0., 1.]], device='cuda:0')\n"
     ]
    },
    {
     "name": "stderr",
     "output_type": "stream",
     "text": [
      "tensor(0.0044, device='cuda:0', grad_fn=<DivBackward0>): 100%|█| 40000/40000 [00:"
     ]
    },
    {
     "name": "stdout",
     "output_type": "stream",
     "text": [
      "Loss (orig, final): 0.05015187710523605 0.004391156602650881\n",
      "L2 norm of weight change: 0.2194429337978363\n",
      "Performing post-edit metric calculations on validation set.\n"
     ]
    },
    {
     "name": "stderr",
     "output_type": "stream",
     "text": [
      "\n",
      "100%|██████████████████████████████████████████| 274/274 [00:09<00:00, 28.59it/s]"
     ]
    },
    {
     "name": "stdout",
     "output_type": "stream",
     "text": [
      "Post-edit metrics: {'TP': array([6063, 5491, 5528, 3344, 4244, 3294, 5546, 5105, 4858, 4417]), 'TN': array([60359, 60962, 57970, 60822, 60142, 61358, 61243, 61835, 61566,\n",
      "       61633]), 'FPs': array([2641, 2038, 5030, 2178, 2858, 1642, 1757, 1165, 1434, 1367]), 'FNs': array([ 937, 1509, 1472, 3656, 2756, 3706, 1454, 1895, 2142, 2583]), 'accuracy': 0.6841428571428572, 'per_class_accuracy': array([0.94888571, 0.94932857, 0.90711429, 0.91665714, 0.9198    ,\n",
      "       0.9236    , 0.95412857, 0.95628571, 0.94891429, 0.94357143]), 'per_class_accuracy_mean': 0.9368285714285716, 'precision': array([0.69657629, 0.72931332, 0.52358401, 0.60557769, 0.59757815,\n",
      "       0.66734198, 0.75941394, 0.81419458, 0.77209154, 0.76365837]), 'precision_mean': 0.6929329863823634, 'recall': array([0.86614286, 0.78442857, 0.78971429, 0.47771429, 0.60628571,\n",
      "       0.47057143, 0.79228571, 0.72928571, 0.694     , 0.631     ]), 'recall_mean': 0.6841428571428572, 'f1': array([0.77215996, 0.75586758, 0.62968447, 0.53409998, 0.60190044,\n",
      "       0.5519437 , 0.77550164, 0.76940467, 0.73096599, 0.69102003]), 'f1_mean': 0.6812548466987527}\n",
      "Saved post-edit metrics saved/edit/trials/identity_cov/CINIC10_ImageNet-VGG_16/0117_201313/dog-train-n02089232_8735/watershed_masked_3/identity/models/post_edit_metrics.pth\n",
      "All metrics and KNN results can be found in saved/edit/trials/identity_cov/CINIC10_ImageNet-VGG_16/0117_201313/dog-train-n02089232_8735/watershed_masked_3/identity/models\n",
      "Finished trial 14/37. Results saved to saved/edit/trials/identity_cov/CINIC10_ImageNet-VGG_16/0117_201313/dog-train-n02089232_8735/watershed_masked_3/identity\n",
      "(0117_204434) Starting Trial 15/37...\n",
      "Current run_id: 0117_201313/dog-train-n02087394_9410/quickshift_masked_1\n"
     ]
    },
    {
     "name": "stderr",
     "output_type": "stream",
     "text": [
      "\n"
     ]
    },
    {
     "name": "stdout",
     "output_type": "stream",
     "text": [
      "saved/edit/trials/identity_cov/CINIC10_ImageNet-VGG_16/0117_201313/dog-train-n02087394_9410/quickshift_masked_1\n",
      "Calling edit()...\n",
      "Created ModelWrapperSanturkar model with 33646666 trainable parameters\n",
      "Restored weights from external_code/PyTorch_CIFAR10/cifar10_models/state_dicts/vgg16_bn.pt\n",
      "Using passed in data loader for validation.\n",
      "Key images: data/cinic-10-imagenet/train/dog/n02087394_9410.png\n",
      "Value images: saved/segmentations/dog/dog-train-n02087394_9410/modified_images/quickshift_masked_1.png\n",
      "Masks: None\n",
      "Prepared data for editing\n",
      "Performing pre-edit metric calculations on validation set.\n"
     ]
    },
    {
     "name": "stderr",
     "output_type": "stream",
     "text": [
      "100%|██████████████████████████████████████████| 274/274 [00:10<00:00, 27.34it/s]"
     ]
    },
    {
     "name": "stdout",
     "output_type": "stream",
     "text": [
      "Pre-edit metrics: {'TP': array([6142, 5382, 5203, 3842, 4270, 2990, 5659, 5136, 4820, 4679]), 'TN': array([60115, 61110, 59441, 59902, 60157, 61756, 61050, 61747, 61643,\n",
      "       61202]), 'FPs': array([2885, 1890, 3559, 3098, 2843, 1244, 1950, 1253, 1357, 1798]), 'FNs': array([ 858, 1618, 1797, 3158, 2730, 4010, 1341, 1864, 2180, 2321]), 'accuracy': 0.6874714285714286, 'per_class_accuracy': array([0.94652857, 0.94988571, 0.92348571, 0.91062857, 0.92038571,\n",
      "       0.92494286, 0.95298571, 0.95547143, 0.94947143, 0.94115714]), 'per_class_accuracy_mean': 0.9374942857142857, 'precision': array([0.68040323, 0.74009901, 0.5938142 , 0.55360231, 0.60030929,\n",
      "       0.706188  , 0.74372454, 0.80388167, 0.78031407, 0.72240235]), 'precision_mean': 0.6924738665961387, 'recall': array([0.87742857, 0.76885714, 0.74328571, 0.54885714, 0.61      ,\n",
      "       0.42714286, 0.80842857, 0.73371429, 0.68857143, 0.66842857]), 'recall_mean': 0.6874714285714286, 'f1': array([0.7664566 , 0.75420404, 0.66019541, 0.55121951, 0.60511585,\n",
      "       0.53231262, 0.77472791, 0.76719695, 0.73157775, 0.69436818]), 'f1_mean': 0.6837374824369241}\n",
      "Saved pre-edit metrics saved/edit/trials/identity_cov/CINIC10_ImageNet-VGG_16/0117_201313/dog-train-n02087394_9410/quickshift_masked_1/models/pre_edit_metrics.pth\n",
      "Using passed in covariance data loader.\n",
      "Looking for covariance matrix weights in cache/cinic-10-imagenet-dummy/vgg16_bn-12\n"
     ]
    },
    {
     "name": "stderr",
     "output_type": "stream",
     "text": [
      "\n"
     ]
    },
    {
     "name": "stdout",
     "output_type": "stream",
     "text": [
      "Found precomputed cov matrices, returning...\n",
      "tensor([[ 1.0000e+00, -1.8504e-05, -3.8476e-05, -1.9159e-05, -4.0293e-05,\n",
      "         -3.1667e-05, -2.4137e-05, -2.9244e-05, -4.0682e-05, -2.2710e-05],\n",
      "        [-1.8504e-05,  1.0000e+00, -2.8878e-05, -1.2513e-05, -2.8300e-05,\n",
      "         -2.1209e-05, -1.7897e-05, -2.0580e-05, -2.4006e-05, -1.4785e-05],\n",
      "        [-3.8476e-05, -2.8878e-05,  1.0000e+00, -2.8741e-05, -6.1447e-05,\n",
      "         -4.6148e-05, -3.9829e-05, -4.5861e-05, -4.7019e-05, -3.5061e-05],\n",
      "        [-1.9159e-05, -1.2513e-05, -2.8741e-05,  1.0000e+00, -2.7411e-05,\n",
      "         -2.1258e-05, -1.7047e-05, -1.9973e-05, -2.4082e-05, -1.5679e-05],\n",
      "        [-4.0293e-05, -2.8300e-05, -6.1447e-05, -2.7411e-05,  1.0000e+00,\n",
      "         -4.6443e-05, -5.1575e-05, -4.8059e-05, -5.6685e-05, -3.6807e-05],\n",
      "        [-3.1667e-05, -2.1209e-05, -4.6148e-05, -2.1258e-05, -4.6443e-05,\n",
      "          1.0000e+00, -2.6984e-05, -3.3795e-05, -4.0129e-05, -2.3401e-05],\n",
      "        [-2.4137e-05, -1.7897e-05, -3.9829e-05, -1.7047e-05, -5.1575e-05,\n",
      "         -2.6984e-05,  1.0000e+00, -2.8577e-05, -3.1210e-05, -3.0226e-05],\n",
      "        [-2.9244e-05, -2.0580e-05, -4.5861e-05, -1.9973e-05, -4.8059e-05,\n",
      "         -3.3795e-05, -2.8577e-05,  1.0000e+00, -3.8494e-05, -2.2827e-05],\n",
      "        [-4.0682e-05, -2.4006e-05, -4.7019e-05, -2.4082e-05, -5.6685e-05,\n",
      "         -4.0129e-05, -3.1210e-05, -3.8494e-05,  1.0000e+00, -2.6560e-05],\n",
      "        [-2.2710e-05, -1.4785e-05, -3.5061e-05, -1.5679e-05, -3.6807e-05,\n",
      "         -2.3401e-05, -3.0226e-05, -2.2827e-05, -2.6560e-05,  1.0000e+00]],\n",
      "       device='cuda:0')\n"
     ]
    },
    {
     "name": "stderr",
     "output_type": "stream",
     "text": [
      "tensor(0.0406, device='cuda:0', grad_fn=<DivBackward0>): 100%|█| 40000/40000 [00:"
     ]
    },
    {
     "name": "stdout",
     "output_type": "stream",
     "text": [
      "Loss (orig, final): 0.1694002002477646 0.04061948508024216\n",
      "L2 norm of weight change: 0.40854623913764954\n",
      "Performing post-edit metric calculations on validation set.\n"
     ]
    },
    {
     "name": "stderr",
     "output_type": "stream",
     "text": [
      "\n",
      "100%|██████████████████████████████████████████| 274/274 [00:09<00:00, 27.79it/s]"
     ]
    },
    {
     "name": "stdout",
     "output_type": "stream",
     "text": [
      "Post-edit metrics: {'TP': array([6110, 5494, 5433, 3926,    0, 3860, 5529, 5225, 4732, 4624]), 'TN': array([60252, 60886, 58553, 59646, 63000, 56609, 61349, 61644, 61755,\n",
      "       61239]), 'FPs': array([2748, 2114, 4447, 3354,    0, 6391, 1651, 1356, 1245, 1761]), 'FNs': array([ 890, 1506, 1567, 3074, 7000, 3140, 1471, 1775, 2268, 2376]), 'accuracy': 0.6419, 'per_class_accuracy': array([0.94802857, 0.94828571, 0.91408571, 0.90817143, 0.9       ,\n",
      "       0.86384286, 0.9554    , 0.95527143, 0.94981429, 0.9409    ]), 'per_class_accuracy_mean': 0.92838, 'precision': array([0.68977196, 0.7221346 , 0.54989879, 0.53928571, 0.        ,\n",
      "       0.37654863, 0.77005571, 0.79395229, 0.79170152, 0.72419734]), 'precision_mean': 0.595754653903392, 'recall': array([0.87285714, 0.78485714, 0.77614286, 0.56085714, 0.        ,\n",
      "       0.55142857, 0.78985714, 0.74642857, 0.676     , 0.66057143]), 'recall_mean': 0.6419, 'f1': array([0.77058898, 0.75219058, 0.64372038, 0.54985994, 0.        ,\n",
      "       0.44751029, 0.77983075, 0.76945733, 0.72929028, 0.69092267]), 'f1_mean': 0.6133371205128422}\n",
      "Saved post-edit metrics saved/edit/trials/identity_cov/CINIC10_ImageNet-VGG_16/0117_201313/dog-train-n02087394_9410/quickshift_masked_1/models/post_edit_metrics.pth\n",
      "All metrics and KNN results can be found in saved/edit/trials/identity_cov/CINIC10_ImageNet-VGG_16/0117_201313/dog-train-n02087394_9410/quickshift_masked_1/models\n"
     ]
    },
    {
     "name": "stderr",
     "output_type": "stream",
     "text": [
      "\n",
      "/n/fs/ac-editing/model-editing/src/model/metric.py:165: RuntimeWarning: invalid value encountered in divide\n",
      "  return np.nan_to_num(TPs / (TPs + FPs))\n",
      "/n/fs/ac-editing/model-editing/src/model/metric.py:202: RuntimeWarning: invalid value encountered in divide\n",
      "  return np.nan_to_num(2 * precisions * recalls / (precisions + recalls))\n"
     ]
    },
    {
     "name": "stdout",
     "output_type": "stream",
     "text": [
      "saved/edit/trials/identity_cov/CINIC10_ImageNet-VGG_16/0117_201313/dog-train-n02087394_9410/quickshift_masked_1/identity\n",
      "Calling edit()...\n",
      "Created ModelWrapperSanturkar model with 33646666 trainable parameters\n",
      "Restored weights from external_code/PyTorch_CIFAR10/cifar10_models/state_dicts/vgg16_bn.pt\n",
      "Using passed in data loader for validation.\n",
      "Key images: data/cinic-10-imagenet/train/dog/n02087394_9410.png\n",
      "Value images: saved/segmentations/dog/dog-train-n02087394_9410/modified_images/quickshift_masked_1.png\n",
      "Masks: None\n",
      "Prepared data for editing\n",
      "Performing pre-edit metric calculations on validation set.\n"
     ]
    },
    {
     "name": "stderr",
     "output_type": "stream",
     "text": [
      "100%|██████████████████████████████████████████| 274/274 [00:09<00:00, 28.36it/s]"
     ]
    },
    {
     "name": "stdout",
     "output_type": "stream",
     "text": [
      "Pre-edit metrics: {'TP': array([6142, 5382, 5203, 3842, 4270, 2990, 5659, 5136, 4820, 4679]), 'TN': array([60115, 61110, 59441, 59902, 60157, 61756, 61050, 61747, 61643,\n",
      "       61202]), 'FPs': array([2885, 1890, 3559, 3098, 2843, 1244, 1950, 1253, 1357, 1798]), 'FNs': array([ 858, 1618, 1797, 3158, 2730, 4010, 1341, 1864, 2180, 2321]), 'accuracy': 0.6874714285714286, 'per_class_accuracy': array([0.94652857, 0.94988571, 0.92348571, 0.91062857, 0.92038571,\n",
      "       0.92494286, 0.95298571, 0.95547143, 0.94947143, 0.94115714]), 'per_class_accuracy_mean': 0.9374942857142857, 'precision': array([0.68040323, 0.74009901, 0.5938142 , 0.55360231, 0.60030929,\n",
      "       0.706188  , 0.74372454, 0.80388167, 0.78031407, 0.72240235]), 'precision_mean': 0.6924738665961387, 'recall': array([0.87742857, 0.76885714, 0.74328571, 0.54885714, 0.61      ,\n",
      "       0.42714286, 0.80842857, 0.73371429, 0.68857143, 0.66842857]), 'recall_mean': 0.6874714285714286, 'f1': array([0.7664566 , 0.75420404, 0.66019541, 0.55121951, 0.60511585,\n",
      "       0.53231262, 0.77472791, 0.76719695, 0.73157775, 0.69436818]), 'f1_mean': 0.6837374824369241}\n",
      "Saved pre-edit metrics saved/edit/trials/identity_cov/CINIC10_ImageNet-VGG_16/0117_201313/dog-train-n02087394_9410/quickshift_masked_1/identity/models/pre_edit_metrics.pth\n",
      "No data loader for covariance matrix. Will use identity matrix\n",
      "Looking for covariance matrix weights in cache/identity/vgg16_bn-12\n"
     ]
    },
    {
     "name": "stderr",
     "output_type": "stream",
     "text": [
      "\n"
     ]
    },
    {
     "name": "stdout",
     "output_type": "stream",
     "text": [
      "Found precomputed cov matrices, returning...\n",
      "tensor([[1., 0., 0., 0., 0., 0., 0., 0., 0., 0.],\n",
      "        [0., 1., 0., 0., 0., 0., 0., 0., 0., 0.],\n",
      "        [0., 0., 1., 0., 0., 0., 0., 0., 0., 0.],\n",
      "        [0., 0., 0., 1., 0., 0., 0., 0., 0., 0.],\n",
      "        [0., 0., 0., 0., 1., 0., 0., 0., 0., 0.],\n",
      "        [0., 0., 0., 0., 0., 1., 0., 0., 0., 0.],\n",
      "        [0., 0., 0., 0., 0., 0., 1., 0., 0., 0.],\n",
      "        [0., 0., 0., 0., 0., 0., 0., 1., 0., 0.],\n",
      "        [0., 0., 0., 0., 0., 0., 0., 0., 1., 0.],\n",
      "        [0., 0., 0., 0., 0., 0., 0., 0., 0., 1.]], device='cuda:0')\n"
     ]
    },
    {
     "name": "stderr",
     "output_type": "stream",
     "text": [
      "tensor(0.0407, device='cuda:0', grad_fn=<DivBackward0>): 100%|█| 40000/40000 [00:"
     ]
    },
    {
     "name": "stdout",
     "output_type": "stream",
     "text": [
      "Loss (orig, final): 0.1694002002477646 0.04070642590522766\n",
      "L2 norm of weight change: 0.4093635678291321\n",
      "Performing post-edit metric calculations on validation set.\n"
     ]
    },
    {
     "name": "stderr",
     "output_type": "stream",
     "text": [
      "\n",
      "100%|██████████████████████████████████████████| 274/274 [00:09<00:00, 28.28it/s]"
     ]
    },
    {
     "name": "stdout",
     "output_type": "stream",
     "text": [
      "Post-edit metrics: {'TP': array([6109, 5495, 5439, 3927,    0, 3866, 5526, 5224, 4729, 4621]), 'TN': array([60259, 60879, 58543, 59651, 63000, 56597, 61358, 61648, 61760,\n",
      "       61241]), 'FPs': array([2741, 2121, 4457, 3349,    0, 6403, 1642, 1352, 1240, 1759]), 'FNs': array([ 891, 1505, 1561, 3073, 7000, 3134, 1474, 1776, 2271, 2379]), 'accuracy': 0.6419428571428571, 'per_class_accuracy': array([0.94811429, 0.9482    , 0.91402857, 0.90825714, 0.9       ,\n",
      "       0.86375714, 0.95548571, 0.95531429, 0.94984286, 0.94088571]), 'per_class_accuracy_mean': 0.9283885714285715, 'precision': array([0.69028249, 0.72150735, 0.54961601, 0.53971963, 0.        ,\n",
      "       0.37647288, 0.77092634, 0.79440389, 0.79226001, 0.72429467]), 'precision_mean': 0.5959483264120814, 'recall': array([0.87271429, 0.785     , 0.777     , 0.561     , 0.        ,\n",
      "       0.55228571, 0.78942857, 0.74628571, 0.67557143, 0.66014286]), 'recall_mean': 0.6419428571428571, 'f1': array([0.77085174, 0.75191571, 0.64382102, 0.5501541 , 0.        ,\n",
      "       0.44773872, 0.78006776, 0.7695934 , 0.72927751, 0.69073244]), 'f1_mean': 0.6134152396735304}\n",
      "Saved post-edit metrics saved/edit/trials/identity_cov/CINIC10_ImageNet-VGG_16/0117_201313/dog-train-n02087394_9410/quickshift_masked_1/identity/models/post_edit_metrics.pth\n",
      "All metrics and KNN results can be found in saved/edit/trials/identity_cov/CINIC10_ImageNet-VGG_16/0117_201313/dog-train-n02087394_9410/quickshift_masked_1/identity/models\n",
      "Finished trial 15/37. Results saved to saved/edit/trials/identity_cov/CINIC10_ImageNet-VGG_16/0117_201313/dog-train-n02087394_9410/quickshift_masked_1/identity\n",
      "(0117_204633) Starting Trial 16/37...\n",
      "Current run_id: 0117_201313/dog-train-n02103841_5889/felzenszwalb_masked_2\n"
     ]
    },
    {
     "name": "stderr",
     "output_type": "stream",
     "text": [
      "\n",
      "/n/fs/ac-editing/model-editing/src/model/metric.py:165: RuntimeWarning: invalid value encountered in divide\n",
      "  return np.nan_to_num(TPs / (TPs + FPs))\n",
      "/n/fs/ac-editing/model-editing/src/model/metric.py:202: RuntimeWarning: invalid value encountered in divide\n",
      "  return np.nan_to_num(2 * precisions * recalls / (precisions + recalls))\n"
     ]
    },
    {
     "name": "stdout",
     "output_type": "stream",
     "text": [
      "saved/edit/trials/identity_cov/CINIC10_ImageNet-VGG_16/0117_201313/dog-train-n02103841_5889/felzenszwalb_masked_2\n",
      "Calling edit()...\n",
      "Created ModelWrapperSanturkar model with 33646666 trainable parameters\n",
      "Restored weights from external_code/PyTorch_CIFAR10/cifar10_models/state_dicts/vgg16_bn.pt\n",
      "Using passed in data loader for validation.\n",
      "Key images: data/cinic-10-imagenet/train/dog/n02103841_5889.png\n",
      "Value images: saved/segmentations/dog/dog-train-n02103841_5889/modified_images/felzenszwalb_masked_2.png\n",
      "Masks: None\n",
      "Prepared data for editing\n",
      "Performing pre-edit metric calculations on validation set.\n"
     ]
    },
    {
     "name": "stderr",
     "output_type": "stream",
     "text": [
      "100%|██████████████████████████████████████████| 274/274 [00:09<00:00, 27.64it/s]"
     ]
    },
    {
     "name": "stdout",
     "output_type": "stream",
     "text": [
      "Pre-edit metrics: {'TP': array([6142, 5382, 5203, 3842, 4270, 2990, 5659, 5136, 4820, 4679]), 'TN': array([60115, 61110, 59441, 59902, 60157, 61756, 61050, 61747, 61643,\n",
      "       61202]), 'FPs': array([2885, 1890, 3559, 3098, 2843, 1244, 1950, 1253, 1357, 1798]), 'FNs': array([ 858, 1618, 1797, 3158, 2730, 4010, 1341, 1864, 2180, 2321]), 'accuracy': 0.6874714285714286, 'per_class_accuracy': array([0.94652857, 0.94988571, 0.92348571, 0.91062857, 0.92038571,\n",
      "       0.92494286, 0.95298571, 0.95547143, 0.94947143, 0.94115714]), 'per_class_accuracy_mean': 0.9374942857142857, 'precision': array([0.68040323, 0.74009901, 0.5938142 , 0.55360231, 0.60030929,\n",
      "       0.706188  , 0.74372454, 0.80388167, 0.78031407, 0.72240235]), 'precision_mean': 0.6924738665961387, 'recall': array([0.87742857, 0.76885714, 0.74328571, 0.54885714, 0.61      ,\n",
      "       0.42714286, 0.80842857, 0.73371429, 0.68857143, 0.66842857]), 'recall_mean': 0.6874714285714286, 'f1': array([0.7664566 , 0.75420404, 0.66019541, 0.55121951, 0.60511585,\n",
      "       0.53231262, 0.77472791, 0.76719695, 0.73157775, 0.69436818]), 'f1_mean': 0.6837374824369241}\n",
      "Saved pre-edit metrics saved/edit/trials/identity_cov/CINIC10_ImageNet-VGG_16/0117_201313/dog-train-n02103841_5889/felzenszwalb_masked_2/models/pre_edit_metrics.pth\n",
      "Using passed in covariance data loader.\n",
      "Looking for covariance matrix weights in cache/cinic-10-imagenet-dummy/vgg16_bn-12\n"
     ]
    },
    {
     "name": "stderr",
     "output_type": "stream",
     "text": [
      "\n"
     ]
    },
    {
     "name": "stdout",
     "output_type": "stream",
     "text": [
      "Found precomputed cov matrices, returning...\n",
      "tensor([[ 1.0000e+00, -1.8504e-05, -3.8476e-05, -1.9159e-05, -4.0293e-05,\n",
      "         -3.1667e-05, -2.4137e-05, -2.9244e-05, -4.0682e-05, -2.2710e-05],\n",
      "        [-1.8504e-05,  1.0000e+00, -2.8878e-05, -1.2513e-05, -2.8300e-05,\n",
      "         -2.1209e-05, -1.7897e-05, -2.0580e-05, -2.4006e-05, -1.4785e-05],\n",
      "        [-3.8476e-05, -2.8878e-05,  1.0000e+00, -2.8741e-05, -6.1447e-05,\n",
      "         -4.6148e-05, -3.9829e-05, -4.5861e-05, -4.7019e-05, -3.5061e-05],\n",
      "        [-1.9159e-05, -1.2513e-05, -2.8741e-05,  1.0000e+00, -2.7411e-05,\n",
      "         -2.1258e-05, -1.7047e-05, -1.9973e-05, -2.4082e-05, -1.5679e-05],\n",
      "        [-4.0293e-05, -2.8300e-05, -6.1447e-05, -2.7411e-05,  1.0000e+00,\n",
      "         -4.6443e-05, -5.1575e-05, -4.8059e-05, -5.6685e-05, -3.6807e-05],\n",
      "        [-3.1667e-05, -2.1209e-05, -4.6148e-05, -2.1258e-05, -4.6443e-05,\n",
      "          1.0000e+00, -2.6984e-05, -3.3795e-05, -4.0129e-05, -2.3401e-05],\n",
      "        [-2.4137e-05, -1.7897e-05, -3.9829e-05, -1.7047e-05, -5.1575e-05,\n",
      "         -2.6984e-05,  1.0000e+00, -2.8577e-05, -3.1210e-05, -3.0226e-05],\n",
      "        [-2.9244e-05, -2.0580e-05, -4.5861e-05, -1.9973e-05, -4.8059e-05,\n",
      "         -3.3795e-05, -2.8577e-05,  1.0000e+00, -3.8494e-05, -2.2827e-05],\n",
      "        [-4.0682e-05, -2.4006e-05, -4.7019e-05, -2.4082e-05, -5.6685e-05,\n",
      "         -4.0129e-05, -3.1210e-05, -3.8494e-05,  1.0000e+00, -2.6560e-05],\n",
      "        [-2.2710e-05, -1.4785e-05, -3.5061e-05, -1.5679e-05, -3.6807e-05,\n",
      "         -2.3401e-05, -3.0226e-05, -2.2827e-05, -2.6560e-05,  1.0000e+00]],\n",
      "       device='cuda:0')\n"
     ]
    },
    {
     "name": "stderr",
     "output_type": "stream",
     "text": [
      "tensor(0.0064, device='cuda:0', grad_fn=<DivBackward0>): 100%|█| 40000/40000 [00:"
     ]
    },
    {
     "name": "stdout",
     "output_type": "stream",
     "text": [
      "Loss (orig, final): 0.1100868433713913 0.006375723052769899\n",
      "L2 norm of weight change: 0.3521164357662201\n",
      "Performing post-edit metric calculations on validation set.\n"
     ]
    },
    {
     "name": "stderr",
     "output_type": "stream",
     "text": [
      "\n",
      "100%|██████████████████████████████████████████| 274/274 [00:09<00:00, 28.12it/s]"
     ]
    },
    {
     "name": "stdout",
     "output_type": "stream",
     "text": [
      "Post-edit metrics: {'TP': array([6007, 5521, 3395, 3830, 4240, 3860, 5708, 5199, 4900, 4615]), 'TN': array([60837, 60840, 62467, 59931, 60161, 57461, 61094, 61635, 61565,\n",
      "       61284]), 'FPs': array([2163, 2160,  533, 3069, 2839, 5539, 1906, 1365, 1435, 1716]), 'FNs': array([ 993, 1479, 3605, 3170, 2760, 3140, 1292, 1801, 2100, 2385]), 'accuracy': 0.6753571428571429, 'per_class_accuracy': array([0.95491429, 0.94801429, 0.94088571, 0.91087143, 0.92001429,\n",
      "       0.87601429, 0.95431429, 0.95477143, 0.9495    , 0.94141429]), 'per_class_accuracy_mean': 0.9350714285714286, 'precision': array([0.73525092, 0.71878662, 0.86430754, 0.55515292, 0.59895465,\n",
      "       0.41068199, 0.74967166, 0.79204753, 0.77348066, 0.72895277]), 'precision_mean': 0.6927287257254167, 'recall': array([0.85814286, 0.78871429, 0.485     , 0.54714286, 0.60571429,\n",
      "       0.55142857, 0.81542857, 0.74271429, 0.7       , 0.65928571]), 'recall_mean': 0.6753571428571428, 'f1': array([0.79195781, 0.7521286 , 0.62133968, 0.55111879, 0.60231551,\n",
      "       0.47076041, 0.78116874, 0.76658803, 0.73490814, 0.69237116]), 'f1_mean': 0.6764656864931899}\n",
      "Saved post-edit metrics saved/edit/trials/identity_cov/CINIC10_ImageNet-VGG_16/0117_201313/dog-train-n02103841_5889/felzenszwalb_masked_2/models/post_edit_metrics.pth\n",
      "All metrics and KNN results can be found in saved/edit/trials/identity_cov/CINIC10_ImageNet-VGG_16/0117_201313/dog-train-n02103841_5889/felzenszwalb_masked_2/models\n"
     ]
    },
    {
     "name": "stderr",
     "output_type": "stream",
     "text": [
      "\n"
     ]
    },
    {
     "name": "stdout",
     "output_type": "stream",
     "text": [
      "saved/edit/trials/identity_cov/CINIC10_ImageNet-VGG_16/0117_201313/dog-train-n02103841_5889/felzenszwalb_masked_2/identity\n",
      "Calling edit()...\n",
      "Created ModelWrapperSanturkar model with 33646666 trainable parameters\n",
      "Restored weights from external_code/PyTorch_CIFAR10/cifar10_models/state_dicts/vgg16_bn.pt\n",
      "Using passed in data loader for validation.\n",
      "Key images: data/cinic-10-imagenet/train/dog/n02103841_5889.png\n",
      "Value images: saved/segmentations/dog/dog-train-n02103841_5889/modified_images/felzenszwalb_masked_2.png\n",
      "Masks: None\n",
      "Prepared data for editing\n",
      "Performing pre-edit metric calculations on validation set.\n"
     ]
    },
    {
     "name": "stderr",
     "output_type": "stream",
     "text": [
      "100%|██████████████████████████████████████████| 274/274 [00:09<00:00, 29.88it/s]"
     ]
    },
    {
     "name": "stdout",
     "output_type": "stream",
     "text": [
      "Pre-edit metrics: {'TP': array([6142, 5382, 5203, 3842, 4270, 2990, 5659, 5136, 4820, 4679]), 'TN': array([60115, 61110, 59441, 59902, 60157, 61756, 61050, 61747, 61643,\n",
      "       61202]), 'FPs': array([2885, 1890, 3559, 3098, 2843, 1244, 1950, 1253, 1357, 1798]), 'FNs': array([ 858, 1618, 1797, 3158, 2730, 4010, 1341, 1864, 2180, 2321]), 'accuracy': 0.6874714285714286, 'per_class_accuracy': array([0.94652857, 0.94988571, 0.92348571, 0.91062857, 0.92038571,\n",
      "       0.92494286, 0.95298571, 0.95547143, 0.94947143, 0.94115714]), 'per_class_accuracy_mean': 0.9374942857142857, 'precision': array([0.68040323, 0.74009901, 0.5938142 , 0.55360231, 0.60030929,\n",
      "       0.706188  , 0.74372454, 0.80388167, 0.78031407, 0.72240235]), 'precision_mean': 0.6924738665961387, 'recall': array([0.87742857, 0.76885714, 0.74328571, 0.54885714, 0.61      ,\n",
      "       0.42714286, 0.80842857, 0.73371429, 0.68857143, 0.66842857]), 'recall_mean': 0.6874714285714286, 'f1': array([0.7664566 , 0.75420404, 0.66019541, 0.55121951, 0.60511585,\n",
      "       0.53231262, 0.77472791, 0.76719695, 0.73157775, 0.69436818]), 'f1_mean': 0.6837374824369241}\n",
      "Saved pre-edit metrics saved/edit/trials/identity_cov/CINIC10_ImageNet-VGG_16/0117_201313/dog-train-n02103841_5889/felzenszwalb_masked_2/identity/models/pre_edit_metrics.pth\n",
      "No data loader for covariance matrix. Will use identity matrix\n",
      "Looking for covariance matrix weights in cache/identity/vgg16_bn-12\n"
     ]
    },
    {
     "name": "stderr",
     "output_type": "stream",
     "text": [
      "\n"
     ]
    },
    {
     "name": "stdout",
     "output_type": "stream",
     "text": [
      "Found precomputed cov matrices, returning...\n",
      "tensor([[1., 0., 0., 0., 0., 0., 0., 0., 0., 0.],\n",
      "        [0., 1., 0., 0., 0., 0., 0., 0., 0., 0.],\n",
      "        [0., 0., 1., 0., 0., 0., 0., 0., 0., 0.],\n",
      "        [0., 0., 0., 1., 0., 0., 0., 0., 0., 0.],\n",
      "        [0., 0., 0., 0., 1., 0., 0., 0., 0., 0.],\n",
      "        [0., 0., 0., 0., 0., 1., 0., 0., 0., 0.],\n",
      "        [0., 0., 0., 0., 0., 0., 1., 0., 0., 0.],\n",
      "        [0., 0., 0., 0., 0., 0., 0., 1., 0., 0.],\n",
      "        [0., 0., 0., 0., 0., 0., 0., 0., 1., 0.],\n",
      "        [0., 0., 0., 0., 0., 0., 0., 0., 0., 1.]], device='cuda:0')\n"
     ]
    },
    {
     "name": "stderr",
     "output_type": "stream",
     "text": [
      "tensor(0.0062, device='cuda:0', grad_fn=<DivBackward0>): 100%|█| 40000/40000 [00:"
     ]
    },
    {
     "name": "stdout",
     "output_type": "stream",
     "text": [
      "Loss (orig, final): 0.1100868433713913 0.006213323213160038\n",
      "L2 norm of weight change: 0.3518986999988556\n",
      "Performing post-edit metric calculations on validation set.\n"
     ]
    },
    {
     "name": "stderr",
     "output_type": "stream",
     "text": [
      "\n",
      "100%|██████████████████████████████████████████| 274/274 [00:09<00:00, 28.45it/s]"
     ]
    },
    {
     "name": "stdout",
     "output_type": "stream",
     "text": [
      "Post-edit metrics: {'TP': array([6003, 5523, 3428, 3826, 4236, 3868, 5705, 5199, 4900, 4615]), 'TN': array([60851, 60842, 62447, 59934, 60162, 57473, 61102, 61639, 61567,\n",
      "       61286]), 'FPs': array([2149, 2158,  553, 3066, 2838, 5527, 1898, 1361, 1433, 1714]), 'FNs': array([ 997, 1477, 3572, 3174, 2764, 3132, 1295, 1801, 2100, 2385]), 'accuracy': 0.6757571428571428, 'per_class_accuracy': array([0.95505714, 0.94807143, 0.94107143, 0.91085714, 0.91997143,\n",
      "       0.8763    , 0.95438571, 0.95482857, 0.94952857, 0.94144286]), 'per_class_accuracy_mean': 0.9351514285714286, 'precision': array([0.73638371, 0.719047  , 0.86109018, 0.55513639, 0.59881255,\n",
      "       0.41170836, 0.7503617 , 0.79253049, 0.77372493, 0.72918313]), 'precision_mean': 0.6927978430813182, 'recall': array([0.85757143, 0.789     , 0.48971429, 0.54657143, 0.60514286,\n",
      "       0.55257143, 0.815     , 0.74271429, 0.7       , 0.65928571]), 'recall_mean': 0.675757142857143, 'f1': array([0.79237064, 0.75240106, 0.62435115, 0.55082062, 0.60196106,\n",
      "       0.47185117, 0.7813463 , 0.76681416, 0.73501838, 0.69247505]), 'f1_mean': 0.6769409599850345}\n",
      "Saved post-edit metrics saved/edit/trials/identity_cov/CINIC10_ImageNet-VGG_16/0117_201313/dog-train-n02103841_5889/felzenszwalb_masked_2/identity/models/post_edit_metrics.pth\n",
      "All metrics and KNN results can be found in saved/edit/trials/identity_cov/CINIC10_ImageNet-VGG_16/0117_201313/dog-train-n02103841_5889/felzenszwalb_masked_2/identity/models\n",
      "Finished trial 16/37. Results saved to saved/edit/trials/identity_cov/CINIC10_ImageNet-VGG_16/0117_201313/dog-train-n02103841_5889/felzenszwalb_masked_2/identity\n",
      "(0117_204833) Starting Trial 17/37...\n",
      "Current run_id: 0117_201313/dog-train-n02116738_10613/felzenszwalb_gaussian_4\n"
     ]
    },
    {
     "name": "stderr",
     "output_type": "stream",
     "text": [
      "\n"
     ]
    },
    {
     "name": "stdout",
     "output_type": "stream",
     "text": [
      "saved/edit/trials/identity_cov/CINIC10_ImageNet-VGG_16/0117_201313/dog-train-n02116738_10613/felzenszwalb_gaussian_4\n",
      "Calling edit()...\n",
      "Created ModelWrapperSanturkar model with 33646666 trainable parameters\n",
      "Restored weights from external_code/PyTorch_CIFAR10/cifar10_models/state_dicts/vgg16_bn.pt\n",
      "Using passed in data loader for validation.\n",
      "Key images: data/cinic-10-imagenet/train/dog/n02116738_10613.png\n",
      "Value images: saved/segmentations/dog/dog-train-n02116738_10613/modified_images/felzenszwalb_gaussian_4.png\n",
      "Masks: None\n",
      "Prepared data for editing\n",
      "Performing pre-edit metric calculations on validation set.\n"
     ]
    },
    {
     "name": "stderr",
     "output_type": "stream",
     "text": [
      "100%|██████████████████████████████████████████| 274/274 [00:10<00:00, 26.88it/s]"
     ]
    },
    {
     "name": "stdout",
     "output_type": "stream",
     "text": [
      "Pre-edit metrics: {'TP': array([6142, 5382, 5203, 3842, 4270, 2990, 5659, 5136, 4820, 4679]), 'TN': array([60115, 61110, 59441, 59902, 60157, 61756, 61050, 61747, 61643,\n",
      "       61202]), 'FPs': array([2885, 1890, 3559, 3098, 2843, 1244, 1950, 1253, 1357, 1798]), 'FNs': array([ 858, 1618, 1797, 3158, 2730, 4010, 1341, 1864, 2180, 2321]), 'accuracy': 0.6874714285714286, 'per_class_accuracy': array([0.94652857, 0.94988571, 0.92348571, 0.91062857, 0.92038571,\n",
      "       0.92494286, 0.95298571, 0.95547143, 0.94947143, 0.94115714]), 'per_class_accuracy_mean': 0.9374942857142857, 'precision': array([0.68040323, 0.74009901, 0.5938142 , 0.55360231, 0.60030929,\n",
      "       0.706188  , 0.74372454, 0.80388167, 0.78031407, 0.72240235]), 'precision_mean': 0.6924738665961387, 'recall': array([0.87742857, 0.76885714, 0.74328571, 0.54885714, 0.61      ,\n",
      "       0.42714286, 0.80842857, 0.73371429, 0.68857143, 0.66842857]), 'recall_mean': 0.6874714285714286, 'f1': array([0.7664566 , 0.75420404, 0.66019541, 0.55121951, 0.60511585,\n",
      "       0.53231262, 0.77472791, 0.76719695, 0.73157775, 0.69436818]), 'f1_mean': 0.6837374824369241}\n",
      "Saved pre-edit metrics saved/edit/trials/identity_cov/CINIC10_ImageNet-VGG_16/0117_201313/dog-train-n02116738_10613/felzenszwalb_gaussian_4/models/pre_edit_metrics.pth\n",
      "Using passed in covariance data loader.\n",
      "Looking for covariance matrix weights in cache/cinic-10-imagenet-dummy/vgg16_bn-12\n"
     ]
    },
    {
     "name": "stderr",
     "output_type": "stream",
     "text": [
      "\n"
     ]
    },
    {
     "name": "stdout",
     "output_type": "stream",
     "text": [
      "Found precomputed cov matrices, returning...\n",
      "tensor([[ 1.0000e+00, -1.8504e-05, -3.8476e-05, -1.9159e-05, -4.0293e-05,\n",
      "         -3.1667e-05, -2.4137e-05, -2.9244e-05, -4.0682e-05, -2.2710e-05],\n",
      "        [-1.8504e-05,  1.0000e+00, -2.8878e-05, -1.2513e-05, -2.8300e-05,\n",
      "         -2.1209e-05, -1.7897e-05, -2.0580e-05, -2.4006e-05, -1.4785e-05],\n",
      "        [-3.8476e-05, -2.8878e-05,  1.0000e+00, -2.8741e-05, -6.1447e-05,\n",
      "         -4.6148e-05, -3.9829e-05, -4.5861e-05, -4.7019e-05, -3.5061e-05],\n",
      "        [-1.9159e-05, -1.2513e-05, -2.8741e-05,  1.0000e+00, -2.7411e-05,\n",
      "         -2.1258e-05, -1.7047e-05, -1.9973e-05, -2.4082e-05, -1.5679e-05],\n",
      "        [-4.0293e-05, -2.8300e-05, -6.1447e-05, -2.7411e-05,  1.0000e+00,\n",
      "         -4.6443e-05, -5.1575e-05, -4.8059e-05, -5.6685e-05, -3.6807e-05],\n",
      "        [-3.1667e-05, -2.1209e-05, -4.6148e-05, -2.1258e-05, -4.6443e-05,\n",
      "          1.0000e+00, -2.6984e-05, -3.3795e-05, -4.0129e-05, -2.3401e-05],\n",
      "        [-2.4137e-05, -1.7897e-05, -3.9829e-05, -1.7047e-05, -5.1575e-05,\n",
      "         -2.6984e-05,  1.0000e+00, -2.8577e-05, -3.1210e-05, -3.0226e-05],\n",
      "        [-2.9244e-05, -2.0580e-05, -4.5861e-05, -1.9973e-05, -4.8059e-05,\n",
      "         -3.3795e-05, -2.8577e-05,  1.0000e+00, -3.8494e-05, -2.2827e-05],\n",
      "        [-4.0682e-05, -2.4006e-05, -4.7019e-05, -2.4082e-05, -5.6685e-05,\n",
      "         -4.0129e-05, -3.1210e-05, -3.8494e-05,  1.0000e+00, -2.6560e-05],\n",
      "        [-2.2710e-05, -1.4785e-05, -3.5061e-05, -1.5679e-05, -3.6807e-05,\n",
      "         -2.3401e-05, -3.0226e-05, -2.2827e-05, -2.6560e-05,  1.0000e+00]],\n",
      "       device='cuda:0')\n"
     ]
    },
    {
     "name": "stderr",
     "output_type": "stream",
     "text": [
      "tensor(0.0046, device='cuda:0', grad_fn=<DivBackward0>): 100%|█| 40000/40000 [00:"
     ]
    },
    {
     "name": "stdout",
     "output_type": "stream",
     "text": [
      "Loss (orig, final): 0.04233136400580406 0.0045586246997118\n",
      "L2 norm of weight change: 0.1861644685268402\n",
      "Performing post-edit metric calculations on validation set.\n"
     ]
    },
    {
     "name": "stderr",
     "output_type": "stream",
     "text": [
      "\n",
      "100%|██████████████████████████████████████████| 274/274 [00:09<00:00, 27.95it/s]"
     ]
    },
    {
     "name": "stdout",
     "output_type": "stream",
     "text": [
      "Post-edit metrics: {'TP': array([6099, 5404, 5177, 4026, 4097, 3228, 5631, 4929, 4928, 4601]), 'TN': array([60287, 61088, 59546, 59294, 60567, 61274, 61134, 62088, 61487,\n",
      "       61355]), 'FPs': array([2713, 1912, 3454, 3706, 2433, 1726, 1866,  912, 1513, 1645]), 'FNs': array([ 901, 1596, 1823, 2974, 2903, 3772, 1369, 2071, 2072, 2399]), 'accuracy': 0.6874285714285714, 'per_class_accuracy': array([0.94837143, 0.94988571, 0.92461429, 0.90457143, 0.92377143,\n",
      "       0.92145714, 0.95378571, 0.95738571, 0.94878571, 0.94222857]), 'per_class_accuracy_mean': 0.9374857142857144, 'precision': array([0.69212438, 0.738655  , 0.59981462, 0.52069322, 0.62741194,\n",
      "       0.65159467, 0.75110044, 0.84386235, 0.76509859, 0.73663144]), 'precision_mean': 0.6926986662922682, 'recall': array([0.87128571, 0.772     , 0.73957143, 0.57514286, 0.58528571,\n",
      "       0.46114286, 0.80442857, 0.70414286, 0.704     , 0.65728571]), 'recall_mean': 0.6874285714285714, 'f1': array([0.77143941, 0.75495949, 0.66240164, 0.5465653 , 0.60561715,\n",
      "       0.54007027, 0.77685038, 0.76769722, 0.73327877, 0.69470029]), 'f1_mean': 0.6853579916698925}\n",
      "Saved post-edit metrics saved/edit/trials/identity_cov/CINIC10_ImageNet-VGG_16/0117_201313/dog-train-n02116738_10613/felzenszwalb_gaussian_4/models/post_edit_metrics.pth\n",
      "All metrics and KNN results can be found in saved/edit/trials/identity_cov/CINIC10_ImageNet-VGG_16/0117_201313/dog-train-n02116738_10613/felzenszwalb_gaussian_4/models\n"
     ]
    },
    {
     "name": "stderr",
     "output_type": "stream",
     "text": [
      "\n"
     ]
    },
    {
     "name": "stdout",
     "output_type": "stream",
     "text": [
      "saved/edit/trials/identity_cov/CINIC10_ImageNet-VGG_16/0117_201313/dog-train-n02116738_10613/felzenszwalb_gaussian_4/identity\n",
      "Calling edit()...\n",
      "Created ModelWrapperSanturkar model with 33646666 trainable parameters\n",
      "Restored weights from external_code/PyTorch_CIFAR10/cifar10_models/state_dicts/vgg16_bn.pt\n",
      "Using passed in data loader for validation.\n",
      "Key images: data/cinic-10-imagenet/train/dog/n02116738_10613.png\n",
      "Value images: saved/segmentations/dog/dog-train-n02116738_10613/modified_images/felzenszwalb_gaussian_4.png\n",
      "Masks: None\n",
      "Prepared data for editing\n",
      "Performing pre-edit metric calculations on validation set.\n"
     ]
    },
    {
     "name": "stderr",
     "output_type": "stream",
     "text": [
      "100%|██████████████████████████████████████████| 274/274 [00:10<00:00, 27.34it/s]"
     ]
    },
    {
     "name": "stdout",
     "output_type": "stream",
     "text": [
      "Pre-edit metrics: {'TP': array([6142, 5382, 5203, 3842, 4270, 2990, 5659, 5136, 4820, 4679]), 'TN': array([60115, 61110, 59441, 59902, 60157, 61756, 61050, 61747, 61643,\n",
      "       61202]), 'FPs': array([2885, 1890, 3559, 3098, 2843, 1244, 1950, 1253, 1357, 1798]), 'FNs': array([ 858, 1618, 1797, 3158, 2730, 4010, 1341, 1864, 2180, 2321]), 'accuracy': 0.6874714285714286, 'per_class_accuracy': array([0.94652857, 0.94988571, 0.92348571, 0.91062857, 0.92038571,\n",
      "       0.92494286, 0.95298571, 0.95547143, 0.94947143, 0.94115714]), 'per_class_accuracy_mean': 0.9374942857142857, 'precision': array([0.68040323, 0.74009901, 0.5938142 , 0.55360231, 0.60030929,\n",
      "       0.706188  , 0.74372454, 0.80388167, 0.78031407, 0.72240235]), 'precision_mean': 0.6924738665961387, 'recall': array([0.87742857, 0.76885714, 0.74328571, 0.54885714, 0.61      ,\n",
      "       0.42714286, 0.80842857, 0.73371429, 0.68857143, 0.66842857]), 'recall_mean': 0.6874714285714286, 'f1': array([0.7664566 , 0.75420404, 0.66019541, 0.55121951, 0.60511585,\n",
      "       0.53231262, 0.77472791, 0.76719695, 0.73157775, 0.69436818]), 'f1_mean': 0.6837374824369241}\n",
      "Saved pre-edit metrics saved/edit/trials/identity_cov/CINIC10_ImageNet-VGG_16/0117_201313/dog-train-n02116738_10613/felzenszwalb_gaussian_4/identity/models/pre_edit_metrics.pth\n",
      "No data loader for covariance matrix. Will use identity matrix\n",
      "Looking for covariance matrix weights in cache/identity/vgg16_bn-12\n"
     ]
    },
    {
     "name": "stderr",
     "output_type": "stream",
     "text": [
      "\n"
     ]
    },
    {
     "name": "stdout",
     "output_type": "stream",
     "text": [
      "Found precomputed cov matrices, returning...\n",
      "tensor([[1., 0., 0., 0., 0., 0., 0., 0., 0., 0.],\n",
      "        [0., 1., 0., 0., 0., 0., 0., 0., 0., 0.],\n",
      "        [0., 0., 1., 0., 0., 0., 0., 0., 0., 0.],\n",
      "        [0., 0., 0., 1., 0., 0., 0., 0., 0., 0.],\n",
      "        [0., 0., 0., 0., 1., 0., 0., 0., 0., 0.],\n",
      "        [0., 0., 0., 0., 0., 1., 0., 0., 0., 0.],\n",
      "        [0., 0., 0., 0., 0., 0., 1., 0., 0., 0.],\n",
      "        [0., 0., 0., 0., 0., 0., 0., 1., 0., 0.],\n",
      "        [0., 0., 0., 0., 0., 0., 0., 0., 1., 0.],\n",
      "        [0., 0., 0., 0., 0., 0., 0., 0., 0., 1.]], device='cuda:0')\n"
     ]
    },
    {
     "name": "stderr",
     "output_type": "stream",
     "text": [
      "tensor(0.0045, device='cuda:0', grad_fn=<DivBackward0>): 100%|█| 40000/40000 [00:"
     ]
    },
    {
     "name": "stdout",
     "output_type": "stream",
     "text": [
      "Loss (orig, final): 0.04233136400580406 0.004523530136793852\n",
      "L2 norm of weight change: 0.18551160395145416\n",
      "Performing post-edit metric calculations on validation set.\n"
     ]
    },
    {
     "name": "stderr",
     "output_type": "stream",
     "text": [
      "\n",
      "100%|██████████████████████████████████████████| 274/274 [00:09<00:00, 27.76it/s]"
     ]
    },
    {
     "name": "stdout",
     "output_type": "stream",
     "text": [
      "Post-edit metrics: {'TP': array([6099, 5405, 5175, 4026, 4103, 3227, 5632, 4922, 4934, 4596]), 'TN': array([60291, 61089, 59552, 59297, 60544, 61270, 61129, 62094, 61488,\n",
      "       61365]), 'FPs': array([2709, 1911, 3448, 3703, 2456, 1730, 1871,  906, 1512, 1635]), 'FNs': array([ 901, 1595, 1825, 2974, 2897, 3773, 1368, 2078, 2066, 2404]), 'accuracy': 0.6874142857142858, 'per_class_accuracy': array([0.94842857, 0.94991429, 0.92467143, 0.90461429, 0.92352857,\n",
      "       0.92138571, 0.95372857, 0.95737143, 0.94888571, 0.9423    ]), 'per_class_accuracy_mean': 0.9374828571428571, 'precision': array([0.69243869, 0.73879169, 0.60013916, 0.52089533, 0.62555268,\n",
      "       0.65099859, 0.75063308, 0.84454358, 0.76543593, 0.73760231]), 'precision_mean': 0.6927031040187381, 'recall': array([0.87128571, 0.77214286, 0.73928571, 0.57514286, 0.58614286,\n",
      "       0.461     , 0.80457143, 0.70314286, 0.70485714, 0.65657143]), 'recall_mean': 0.6874142857142858, 'f1': array([0.77163462, 0.75509919, 0.6624848 , 0.54667662, 0.60520687,\n",
      "       0.5397675 , 0.7766669 , 0.76738385, 0.73389856, 0.69473207]), 'f1_mean': 0.6853550971530902}\n",
      "Saved post-edit metrics saved/edit/trials/identity_cov/CINIC10_ImageNet-VGG_16/0117_201313/dog-train-n02116738_10613/felzenszwalb_gaussian_4/identity/models/post_edit_metrics.pth\n",
      "All metrics and KNN results can be found in saved/edit/trials/identity_cov/CINIC10_ImageNet-VGG_16/0117_201313/dog-train-n02116738_10613/felzenszwalb_gaussian_4/identity/models\n",
      "Finished trial 17/37. Results saved to saved/edit/trials/identity_cov/CINIC10_ImageNet-VGG_16/0117_201313/dog-train-n02116738_10613/felzenszwalb_gaussian_4/identity\n",
      "(0117_205032) Starting Trial 18/37...\n",
      "Current run_id: 0117_201313/dog-train-n02116738_10613/felzenszwalb_masked_0\n"
     ]
    },
    {
     "name": "stderr",
     "output_type": "stream",
     "text": [
      "\n"
     ]
    },
    {
     "name": "stdout",
     "output_type": "stream",
     "text": [
      "saved/edit/trials/identity_cov/CINIC10_ImageNet-VGG_16/0117_201313/dog-train-n02116738_10613/felzenszwalb_masked_0\n",
      "Calling edit()...\n",
      "Created ModelWrapperSanturkar model with 33646666 trainable parameters\n",
      "Restored weights from external_code/PyTorch_CIFAR10/cifar10_models/state_dicts/vgg16_bn.pt\n",
      "Using passed in data loader for validation.\n",
      "Key images: data/cinic-10-imagenet/train/dog/n02116738_10613.png\n",
      "Value images: saved/segmentations/dog/dog-train-n02116738_10613/modified_images/felzenszwalb_masked_0.png\n",
      "Masks: None\n",
      "Prepared data for editing\n",
      "Performing pre-edit metric calculations on validation set.\n"
     ]
    },
    {
     "name": "stderr",
     "output_type": "stream",
     "text": [
      "100%|██████████████████████████████████████████| 274/274 [00:09<00:00, 27.79it/s]"
     ]
    },
    {
     "name": "stdout",
     "output_type": "stream",
     "text": [
      "Pre-edit metrics: {'TP': array([6142, 5382, 5203, 3842, 4270, 2990, 5659, 5136, 4820, 4679]), 'TN': array([60115, 61110, 59441, 59902, 60157, 61756, 61050, 61747, 61643,\n",
      "       61202]), 'FPs': array([2885, 1890, 3559, 3098, 2843, 1244, 1950, 1253, 1357, 1798]), 'FNs': array([ 858, 1618, 1797, 3158, 2730, 4010, 1341, 1864, 2180, 2321]), 'accuracy': 0.6874714285714286, 'per_class_accuracy': array([0.94652857, 0.94988571, 0.92348571, 0.91062857, 0.92038571,\n",
      "       0.92494286, 0.95298571, 0.95547143, 0.94947143, 0.94115714]), 'per_class_accuracy_mean': 0.9374942857142857, 'precision': array([0.68040323, 0.74009901, 0.5938142 , 0.55360231, 0.60030929,\n",
      "       0.706188  , 0.74372454, 0.80388167, 0.78031407, 0.72240235]), 'precision_mean': 0.6924738665961387, 'recall': array([0.87742857, 0.76885714, 0.74328571, 0.54885714, 0.61      ,\n",
      "       0.42714286, 0.80842857, 0.73371429, 0.68857143, 0.66842857]), 'recall_mean': 0.6874714285714286, 'f1': array([0.7664566 , 0.75420404, 0.66019541, 0.55121951, 0.60511585,\n",
      "       0.53231262, 0.77472791, 0.76719695, 0.73157775, 0.69436818]), 'f1_mean': 0.6837374824369241}\n",
      "Saved pre-edit metrics saved/edit/trials/identity_cov/CINIC10_ImageNet-VGG_16/0117_201313/dog-train-n02116738_10613/felzenszwalb_masked_0/models/pre_edit_metrics.pth\n",
      "Using passed in covariance data loader.\n",
      "Looking for covariance matrix weights in cache/cinic-10-imagenet-dummy/vgg16_bn-12\n"
     ]
    },
    {
     "name": "stderr",
     "output_type": "stream",
     "text": [
      "\n"
     ]
    },
    {
     "name": "stdout",
     "output_type": "stream",
     "text": [
      "Found precomputed cov matrices, returning...\n",
      "tensor([[ 1.0000e+00, -1.8504e-05, -3.8476e-05, -1.9159e-05, -4.0293e-05,\n",
      "         -3.1667e-05, -2.4137e-05, -2.9244e-05, -4.0682e-05, -2.2710e-05],\n",
      "        [-1.8504e-05,  1.0000e+00, -2.8878e-05, -1.2513e-05, -2.8300e-05,\n",
      "         -2.1209e-05, -1.7897e-05, -2.0580e-05, -2.4006e-05, -1.4785e-05],\n",
      "        [-3.8476e-05, -2.8878e-05,  1.0000e+00, -2.8741e-05, -6.1447e-05,\n",
      "         -4.6148e-05, -3.9829e-05, -4.5861e-05, -4.7019e-05, -3.5061e-05],\n",
      "        [-1.9159e-05, -1.2513e-05, -2.8741e-05,  1.0000e+00, -2.7411e-05,\n",
      "         -2.1258e-05, -1.7047e-05, -1.9973e-05, -2.4082e-05, -1.5679e-05],\n",
      "        [-4.0293e-05, -2.8300e-05, -6.1447e-05, -2.7411e-05,  1.0000e+00,\n",
      "         -4.6443e-05, -5.1575e-05, -4.8059e-05, -5.6685e-05, -3.6807e-05],\n",
      "        [-3.1667e-05, -2.1209e-05, -4.6148e-05, -2.1258e-05, -4.6443e-05,\n",
      "          1.0000e+00, -2.6984e-05, -3.3795e-05, -4.0129e-05, -2.3401e-05],\n",
      "        [-2.4137e-05, -1.7897e-05, -3.9829e-05, -1.7047e-05, -5.1575e-05,\n",
      "         -2.6984e-05,  1.0000e+00, -2.8577e-05, -3.1210e-05, -3.0226e-05],\n",
      "        [-2.9244e-05, -2.0580e-05, -4.5861e-05, -1.9973e-05, -4.8059e-05,\n",
      "         -3.3795e-05, -2.8577e-05,  1.0000e+00, -3.8494e-05, -2.2827e-05],\n",
      "        [-4.0682e-05, -2.4006e-05, -4.7019e-05, -2.4082e-05, -5.6685e-05,\n",
      "         -4.0129e-05, -3.1210e-05, -3.8494e-05,  1.0000e+00, -2.6560e-05],\n",
      "        [-2.2710e-05, -1.4785e-05, -3.5061e-05, -1.5679e-05, -3.6807e-05,\n",
      "         -2.3401e-05, -3.0226e-05, -2.2827e-05, -2.6560e-05,  1.0000e+00]],\n",
      "       device='cuda:0')\n"
     ]
    },
    {
     "name": "stderr",
     "output_type": "stream",
     "text": [
      "tensor(0.0035, device='cuda:0', grad_fn=<DivBackward0>): 100%|█| 40000/40000 [00:"
     ]
    },
    {
     "name": "stdout",
     "output_type": "stream",
     "text": [
      "Loss (orig, final): 0.04818663001060486 0.003526057116687298\n",
      "L2 norm of weight change: 0.2581588327884674\n",
      "Performing post-edit metric calculations on validation set.\n"
     ]
    },
    {
     "name": "stderr",
     "output_type": "stream",
     "text": [
      "\n",
      "100%|██████████████████████████████████████████| 274/274 [00:09<00:00, 28.97it/s]"
     ]
    },
    {
     "name": "stdout",
     "output_type": "stream",
     "text": [
      "Post-edit metrics: {'TP': array([6051, 5557, 5297, 3738, 3905, 3584, 5609, 5089, 4885, 4485]), 'TN': array([60493, 60789, 59147, 60096, 60916, 60660, 61230, 61847, 61542,\n",
      "       61480]), 'FPs': array([2507, 2211, 3853, 2904, 2084, 2340, 1770, 1153, 1458, 1520]), 'FNs': array([ 949, 1443, 1703, 3262, 3095, 3416, 1391, 1911, 2115, 2515]), 'accuracy': 0.6885714285714286, 'per_class_accuracy': array([0.95062857, 0.9478    , 0.92062857, 0.91191429, 0.92601429,\n",
      "       0.91777143, 0.95484286, 0.95622857, 0.94895714, 0.94235714]), 'per_class_accuracy_mean': 0.9377142857142855, 'precision': array([0.70705772, 0.71537075, 0.5789071 , 0.56278229, 0.65202872,\n",
      "       0.60499662, 0.7601301 , 0.81528356, 0.77014031, 0.7468776 ]), 'precision_mean': 0.691357479314922, 'recall': array([0.86442857, 0.79385714, 0.75671429, 0.534     , 0.55785714,\n",
      "       0.512     , 0.80128571, 0.727     , 0.69785714, 0.64071429]), 'recall_mean': 0.6885714285714286, 'f1': array([0.77786348, 0.75257313, 0.65597523, 0.54801349, 0.601278  ,\n",
      "       0.55462705, 0.78016552, 0.76861501, 0.73221914, 0.68973472]), 'f1_mean': 0.6861064775097999}\n",
      "Saved post-edit metrics saved/edit/trials/identity_cov/CINIC10_ImageNet-VGG_16/0117_201313/dog-train-n02116738_10613/felzenszwalb_masked_0/models/post_edit_metrics.pth\n",
      "All metrics and KNN results can be found in saved/edit/trials/identity_cov/CINIC10_ImageNet-VGG_16/0117_201313/dog-train-n02116738_10613/felzenszwalb_masked_0/models\n"
     ]
    },
    {
     "name": "stderr",
     "output_type": "stream",
     "text": [
      "\n"
     ]
    },
    {
     "name": "stdout",
     "output_type": "stream",
     "text": [
      "saved/edit/trials/identity_cov/CINIC10_ImageNet-VGG_16/0117_201313/dog-train-n02116738_10613/felzenszwalb_masked_0/identity\n",
      "Calling edit()...\n",
      "Created ModelWrapperSanturkar model with 33646666 trainable parameters\n",
      "Restored weights from external_code/PyTorch_CIFAR10/cifar10_models/state_dicts/vgg16_bn.pt\n",
      "Using passed in data loader for validation.\n",
      "Key images: data/cinic-10-imagenet/train/dog/n02116738_10613.png\n",
      "Value images: saved/segmentations/dog/dog-train-n02116738_10613/modified_images/felzenszwalb_masked_0.png\n",
      "Masks: None\n",
      "Prepared data for editing\n",
      "Performing pre-edit metric calculations on validation set.\n"
     ]
    },
    {
     "name": "stderr",
     "output_type": "stream",
     "text": [
      "100%|██████████████████████████████████████████| 274/274 [00:09<00:00, 28.84it/s]"
     ]
    },
    {
     "name": "stdout",
     "output_type": "stream",
     "text": [
      "Pre-edit metrics: {'TP': array([6142, 5382, 5203, 3842, 4270, 2990, 5659, 5136, 4820, 4679]), 'TN': array([60115, 61110, 59441, 59902, 60157, 61756, 61050, 61747, 61643,\n",
      "       61202]), 'FPs': array([2885, 1890, 3559, 3098, 2843, 1244, 1950, 1253, 1357, 1798]), 'FNs': array([ 858, 1618, 1797, 3158, 2730, 4010, 1341, 1864, 2180, 2321]), 'accuracy': 0.6874714285714286, 'per_class_accuracy': array([0.94652857, 0.94988571, 0.92348571, 0.91062857, 0.92038571,\n",
      "       0.92494286, 0.95298571, 0.95547143, 0.94947143, 0.94115714]), 'per_class_accuracy_mean': 0.9374942857142857, 'precision': array([0.68040323, 0.74009901, 0.5938142 , 0.55360231, 0.60030929,\n",
      "       0.706188  , 0.74372454, 0.80388167, 0.78031407, 0.72240235]), 'precision_mean': 0.6924738665961387, 'recall': array([0.87742857, 0.76885714, 0.74328571, 0.54885714, 0.61      ,\n",
      "       0.42714286, 0.80842857, 0.73371429, 0.68857143, 0.66842857]), 'recall_mean': 0.6874714285714286, 'f1': array([0.7664566 , 0.75420404, 0.66019541, 0.55121951, 0.60511585,\n",
      "       0.53231262, 0.77472791, 0.76719695, 0.73157775, 0.69436818]), 'f1_mean': 0.6837374824369241}\n",
      "Saved pre-edit metrics saved/edit/trials/identity_cov/CINIC10_ImageNet-VGG_16/0117_201313/dog-train-n02116738_10613/felzenszwalb_masked_0/identity/models/pre_edit_metrics.pth\n",
      "No data loader for covariance matrix. Will use identity matrix\n",
      "Looking for covariance matrix weights in cache/identity/vgg16_bn-12\n"
     ]
    },
    {
     "name": "stderr",
     "output_type": "stream",
     "text": [
      "\n"
     ]
    },
    {
     "name": "stdout",
     "output_type": "stream",
     "text": [
      "Found precomputed cov matrices, returning...\n",
      "tensor([[1., 0., 0., 0., 0., 0., 0., 0., 0., 0.],\n",
      "        [0., 1., 0., 0., 0., 0., 0., 0., 0., 0.],\n",
      "        [0., 0., 1., 0., 0., 0., 0., 0., 0., 0.],\n",
      "        [0., 0., 0., 1., 0., 0., 0., 0., 0., 0.],\n",
      "        [0., 0., 0., 0., 1., 0., 0., 0., 0., 0.],\n",
      "        [0., 0., 0., 0., 0., 1., 0., 0., 0., 0.],\n",
      "        [0., 0., 0., 0., 0., 0., 1., 0., 0., 0.],\n",
      "        [0., 0., 0., 0., 0., 0., 0., 1., 0., 0.],\n",
      "        [0., 0., 0., 0., 0., 0., 0., 0., 1., 0.],\n",
      "        [0., 0., 0., 0., 0., 0., 0., 0., 0., 1.]], device='cuda:0')\n"
     ]
    },
    {
     "name": "stderr",
     "output_type": "stream",
     "text": [
      "tensor(0.0035, device='cuda:0', grad_fn=<DivBackward0>): 100%|█| 40000/40000 [00:"
     ]
    },
    {
     "name": "stdout",
     "output_type": "stream",
     "text": [
      "Loss (orig, final): 0.04818663001060486 0.0035143662244081497\n",
      "L2 norm of weight change: 0.26035022735595703\n",
      "Performing post-edit metric calculations on validation set.\n"
     ]
    },
    {
     "name": "stderr",
     "output_type": "stream",
     "text": [
      "\n",
      "100%|██████████████████████████████████████████| 274/274 [00:09<00:00, 29.36it/s]"
     ]
    },
    {
     "name": "stdout",
     "output_type": "stream",
     "text": [
      "Post-edit metrics: {'TP': array([6050, 5556, 5301, 3739, 3898, 3590, 5605, 5084, 4888, 4482]), 'TN': array([60504, 60785, 59135, 60098, 60924, 60639, 61238, 61844, 61542,\n",
      "       61484]), 'FPs': array([2496, 2215, 3865, 2902, 2076, 2361, 1762, 1156, 1458, 1516]), 'FNs': array([ 950, 1444, 1699, 3261, 3102, 3410, 1395, 1916, 2112, 2518]), 'accuracy': 0.6884714285714286, 'per_class_accuracy': array([0.95077143, 0.94772857, 0.92051429, 0.91195714, 0.92602857,\n",
      "       0.91755714, 0.9549    , 0.95611429, 0.949     , 0.94237143]), 'per_class_accuracy_mean': 0.9376942857142858, 'precision': array([0.70793354, 0.7149659 , 0.57833297, 0.56301762, 0.65249414,\n",
      "       0.60325996, 0.7608253 , 0.81474359, 0.77024898, 0.74724908]), 'precision_mean': 0.6913071070626426, 'recall': array([0.86428571, 0.79371429, 0.75728571, 0.53414286, 0.55685714,\n",
      "       0.51285714, 0.80071429, 0.72628571, 0.69828571, 0.64028571]), 'recall_mean': 0.6884714285714286, 'f1': array([0.77833526, 0.75228488, 0.65582086, 0.54820028, 0.6008941 ,\n",
      "       0.55439734, 0.78026032, 0.76797583, 0.73250412, 0.68964456]), 'f1_mean': 0.6860317553901317}\n",
      "Saved post-edit metrics saved/edit/trials/identity_cov/CINIC10_ImageNet-VGG_16/0117_201313/dog-train-n02116738_10613/felzenszwalb_masked_0/identity/models/post_edit_metrics.pth\n",
      "All metrics and KNN results can be found in saved/edit/trials/identity_cov/CINIC10_ImageNet-VGG_16/0117_201313/dog-train-n02116738_10613/felzenszwalb_masked_0/identity/models\n",
      "Finished trial 18/37. Results saved to saved/edit/trials/identity_cov/CINIC10_ImageNet-VGG_16/0117_201313/dog-train-n02116738_10613/felzenszwalb_masked_0/identity\n",
      "(0117_205229) Starting Trial 19/37...\n",
      "Current run_id: 0117_201313/dog-train-n02116738_10613/felzenszwalb_masked_2\n"
     ]
    },
    {
     "name": "stderr",
     "output_type": "stream",
     "text": [
      "\n"
     ]
    },
    {
     "name": "stdout",
     "output_type": "stream",
     "text": [
      "saved/edit/trials/identity_cov/CINIC10_ImageNet-VGG_16/0117_201313/dog-train-n02116738_10613/felzenszwalb_masked_2\n",
      "Calling edit()...\n",
      "Created ModelWrapperSanturkar model with 33646666 trainable parameters\n",
      "Restored weights from external_code/PyTorch_CIFAR10/cifar10_models/state_dicts/vgg16_bn.pt\n",
      "Using passed in data loader for validation.\n",
      "Key images: data/cinic-10-imagenet/train/dog/n02116738_10613.png\n",
      "Value images: saved/segmentations/dog/dog-train-n02116738_10613/modified_images/felzenszwalb_masked_2.png\n",
      "Masks: None\n",
      "Prepared data for editing\n",
      "Performing pre-edit metric calculations on validation set.\n"
     ]
    },
    {
     "name": "stderr",
     "output_type": "stream",
     "text": [
      "100%|██████████████████████████████████████████| 274/274 [00:09<00:00, 29.78it/s]"
     ]
    },
    {
     "name": "stdout",
     "output_type": "stream",
     "text": [
      "Pre-edit metrics: {'TP': array([6142, 5382, 5203, 3842, 4270, 2990, 5659, 5136, 4820, 4679]), 'TN': array([60115, 61110, 59441, 59902, 60157, 61756, 61050, 61747, 61643,\n",
      "       61202]), 'FPs': array([2885, 1890, 3559, 3098, 2843, 1244, 1950, 1253, 1357, 1798]), 'FNs': array([ 858, 1618, 1797, 3158, 2730, 4010, 1341, 1864, 2180, 2321]), 'accuracy': 0.6874714285714286, 'per_class_accuracy': array([0.94652857, 0.94988571, 0.92348571, 0.91062857, 0.92038571,\n",
      "       0.92494286, 0.95298571, 0.95547143, 0.94947143, 0.94115714]), 'per_class_accuracy_mean': 0.9374942857142857, 'precision': array([0.68040323, 0.74009901, 0.5938142 , 0.55360231, 0.60030929,\n",
      "       0.706188  , 0.74372454, 0.80388167, 0.78031407, 0.72240235]), 'precision_mean': 0.6924738665961387, 'recall': array([0.87742857, 0.76885714, 0.74328571, 0.54885714, 0.61      ,\n",
      "       0.42714286, 0.80842857, 0.73371429, 0.68857143, 0.66842857]), 'recall_mean': 0.6874714285714286, 'f1': array([0.7664566 , 0.75420404, 0.66019541, 0.55121951, 0.60511585,\n",
      "       0.53231262, 0.77472791, 0.76719695, 0.73157775, 0.69436818]), 'f1_mean': 0.6837374824369241}\n",
      "Saved pre-edit metrics saved/edit/trials/identity_cov/CINIC10_ImageNet-VGG_16/0117_201313/dog-train-n02116738_10613/felzenszwalb_masked_2/models/pre_edit_metrics.pth\n",
      "Using passed in covariance data loader.\n",
      "Looking for covariance matrix weights in cache/cinic-10-imagenet-dummy/vgg16_bn-12\n"
     ]
    },
    {
     "name": "stderr",
     "output_type": "stream",
     "text": [
      "\n"
     ]
    },
    {
     "name": "stdout",
     "output_type": "stream",
     "text": [
      "Found precomputed cov matrices, returning...\n",
      "tensor([[ 1.0000e+00, -1.8504e-05, -3.8476e-05, -1.9159e-05, -4.0293e-05,\n",
      "         -3.1667e-05, -2.4137e-05, -2.9244e-05, -4.0682e-05, -2.2710e-05],\n",
      "        [-1.8504e-05,  1.0000e+00, -2.8878e-05, -1.2513e-05, -2.8300e-05,\n",
      "         -2.1209e-05, -1.7897e-05, -2.0580e-05, -2.4006e-05, -1.4785e-05],\n",
      "        [-3.8476e-05, -2.8878e-05,  1.0000e+00, -2.8741e-05, -6.1447e-05,\n",
      "         -4.6148e-05, -3.9829e-05, -4.5861e-05, -4.7019e-05, -3.5061e-05],\n",
      "        [-1.9159e-05, -1.2513e-05, -2.8741e-05,  1.0000e+00, -2.7411e-05,\n",
      "         -2.1258e-05, -1.7047e-05, -1.9973e-05, -2.4082e-05, -1.5679e-05],\n",
      "        [-4.0293e-05, -2.8300e-05, -6.1447e-05, -2.7411e-05,  1.0000e+00,\n",
      "         -4.6443e-05, -5.1575e-05, -4.8059e-05, -5.6685e-05, -3.6807e-05],\n",
      "        [-3.1667e-05, -2.1209e-05, -4.6148e-05, -2.1258e-05, -4.6443e-05,\n",
      "          1.0000e+00, -2.6984e-05, -3.3795e-05, -4.0129e-05, -2.3401e-05],\n",
      "        [-2.4137e-05, -1.7897e-05, -3.9829e-05, -1.7047e-05, -5.1575e-05,\n",
      "         -2.6984e-05,  1.0000e+00, -2.8577e-05, -3.1210e-05, -3.0226e-05],\n",
      "        [-2.9244e-05, -2.0580e-05, -4.5861e-05, -1.9973e-05, -4.8059e-05,\n",
      "         -3.3795e-05, -2.8577e-05,  1.0000e+00, -3.8494e-05, -2.2827e-05],\n",
      "        [-4.0682e-05, -2.4006e-05, -4.7019e-05, -2.4082e-05, -5.6685e-05,\n",
      "         -4.0129e-05, -3.1210e-05, -3.8494e-05,  1.0000e+00, -2.6560e-05],\n",
      "        [-2.2710e-05, -1.4785e-05, -3.5061e-05, -1.5679e-05, -3.6807e-05,\n",
      "         -2.3401e-05, -3.0226e-05, -2.2827e-05, -2.6560e-05,  1.0000e+00]],\n",
      "       device='cuda:0')\n"
     ]
    },
    {
     "name": "stderr",
     "output_type": "stream",
     "text": [
      "tensor(0.0062, device='cuda:0', grad_fn=<DivBackward0>): 100%|█| 40000/40000 [00:"
     ]
    },
    {
     "name": "stdout",
     "output_type": "stream",
     "text": [
      "Loss (orig, final): 0.09842546284198761 0.006207198835909367\n",
      "L2 norm of weight change: 0.3589024841785431\n",
      "Performing post-edit metric calculations on validation set.\n"
     ]
    },
    {
     "name": "stderr",
     "output_type": "stream",
     "text": [
      "\n",
      "100%|██████████████████████████████████████████| 274/274 [00:09<00:00, 27.80it/s]\n"
     ]
    },
    {
     "name": "stdout",
     "output_type": "stream",
     "text": [
      "Post-edit metrics: {'TP': array([5984, 5364, 4997, 4228, 4005, 3593, 5680, 3328, 5211, 4462]), 'TN': array([60792, 61185, 60108, 58326, 60784, 59209, 60999, 62849, 60976,\n",
      "       61624]), 'FPs': array([2208, 1815, 2892, 4674, 2216, 3791, 2001,  151, 2024, 1376]), 'FNs': array([1016, 1636, 2003, 2772, 2995, 3407, 1320, 3672, 1789, 2538]), 'accuracy': 0.6693142857142858, 'per_class_accuracy': array([0.95394286, 0.9507    , 0.93007143, 0.89362857, 0.92555714,\n",
      "       0.89717143, 0.95255714, 0.94538571, 0.94552857, 0.94408571]), 'per_class_accuracy_mean': 0.9338628571428572, 'precision': array([0.73046875, 0.74717927, 0.63341361, 0.47494945, 0.64378717,\n",
      "       0.48659263, 0.73948705, 0.95659672, 0.72024879, 0.76430284]), 'precision_mean': 0.6897026294728248, 'recall': array([0.85485714, 0.76628571, 0.71385714, 0.604     , 0.57214286,\n",
      "       0.51328571, 0.81142857, 0.47542857, 0.74442857, 0.63742857]), 'recall_mean': 0.6693142857142858, 'f1': array([0.78778304, 0.75661189, 0.6712338 , 0.53175701, 0.60585432,\n",
      "       0.49958287, 0.77378925, 0.63517511, 0.73213909, 0.69512385]), 'f1_mean': 0.6689050243907387}\n",
      "Saved post-edit metrics saved/edit/trials/identity_cov/CINIC10_ImageNet-VGG_16/0117_201313/dog-train-n02116738_10613/felzenszwalb_masked_2/models/post_edit_metrics.pth\n",
      "All metrics and KNN results can be found in saved/edit/trials/identity_cov/CINIC10_ImageNet-VGG_16/0117_201313/dog-train-n02116738_10613/felzenszwalb_masked_2/models\n",
      "saved/edit/trials/identity_cov/CINIC10_ImageNet-VGG_16/0117_201313/dog-train-n02116738_10613/felzenszwalb_masked_2/identity\n",
      "Calling edit()...\n",
      "Created ModelWrapperSanturkar model with 33646666 trainable parameters\n",
      "Restored weights from external_code/PyTorch_CIFAR10/cifar10_models/state_dicts/vgg16_bn.pt\n",
      "Using passed in data loader for validation.\n",
      "Key images: data/cinic-10-imagenet/train/dog/n02116738_10613.png\n",
      "Value images: saved/segmentations/dog/dog-train-n02116738_10613/modified_images/felzenszwalb_masked_2.png\n",
      "Masks: None\n",
      "Prepared data for editing\n",
      "Performing pre-edit metric calculations on validation set.\n"
     ]
    },
    {
     "name": "stderr",
     "output_type": "stream",
     "text": [
      "100%|██████████████████████████████████████████| 274/274 [00:09<00:00, 28.05it/s]"
     ]
    },
    {
     "name": "stdout",
     "output_type": "stream",
     "text": [
      "Pre-edit metrics: {'TP': array([6142, 5382, 5203, 3842, 4270, 2990, 5659, 5136, 4820, 4679]), 'TN': array([60115, 61110, 59441, 59902, 60157, 61756, 61050, 61747, 61643,\n",
      "       61202]), 'FPs': array([2885, 1890, 3559, 3098, 2843, 1244, 1950, 1253, 1357, 1798]), 'FNs': array([ 858, 1618, 1797, 3158, 2730, 4010, 1341, 1864, 2180, 2321]), 'accuracy': 0.6874714285714286, 'per_class_accuracy': array([0.94652857, 0.94988571, 0.92348571, 0.91062857, 0.92038571,\n",
      "       0.92494286, 0.95298571, 0.95547143, 0.94947143, 0.94115714]), 'per_class_accuracy_mean': 0.9374942857142857, 'precision': array([0.68040323, 0.74009901, 0.5938142 , 0.55360231, 0.60030929,\n",
      "       0.706188  , 0.74372454, 0.80388167, 0.78031407, 0.72240235]), 'precision_mean': 0.6924738665961387, 'recall': array([0.87742857, 0.76885714, 0.74328571, 0.54885714, 0.61      ,\n",
      "       0.42714286, 0.80842857, 0.73371429, 0.68857143, 0.66842857]), 'recall_mean': 0.6874714285714286, 'f1': array([0.7664566 , 0.75420404, 0.66019541, 0.55121951, 0.60511585,\n",
      "       0.53231262, 0.77472791, 0.76719695, 0.73157775, 0.69436818]), 'f1_mean': 0.6837374824369241}\n",
      "Saved pre-edit metrics saved/edit/trials/identity_cov/CINIC10_ImageNet-VGG_16/0117_201313/dog-train-n02116738_10613/felzenszwalb_masked_2/identity/models/pre_edit_metrics.pth\n",
      "No data loader for covariance matrix. Will use identity matrix\n",
      "Looking for covariance matrix weights in cache/identity/vgg16_bn-12\n"
     ]
    },
    {
     "name": "stderr",
     "output_type": "stream",
     "text": [
      "\n"
     ]
    },
    {
     "name": "stdout",
     "output_type": "stream",
     "text": [
      "Found precomputed cov matrices, returning...\n",
      "tensor([[1., 0., 0., 0., 0., 0., 0., 0., 0., 0.],\n",
      "        [0., 1., 0., 0., 0., 0., 0., 0., 0., 0.],\n",
      "        [0., 0., 1., 0., 0., 0., 0., 0., 0., 0.],\n",
      "        [0., 0., 0., 1., 0., 0., 0., 0., 0., 0.],\n",
      "        [0., 0., 0., 0., 1., 0., 0., 0., 0., 0.],\n",
      "        [0., 0., 0., 0., 0., 1., 0., 0., 0., 0.],\n",
      "        [0., 0., 0., 0., 0., 0., 1., 0., 0., 0.],\n",
      "        [0., 0., 0., 0., 0., 0., 0., 1., 0., 0.],\n",
      "        [0., 0., 0., 0., 0., 0., 0., 0., 1., 0.],\n",
      "        [0., 0., 0., 0., 0., 0., 0., 0., 0., 1.]], device='cuda:0')\n"
     ]
    },
    {
     "name": "stderr",
     "output_type": "stream",
     "text": [
      "tensor(0.0066, device='cuda:0', grad_fn=<DivBackward0>): 100%|█| 40000/40000 [00:"
     ]
    },
    {
     "name": "stdout",
     "output_type": "stream",
     "text": [
      "Loss (orig, final): 0.09842546284198761 0.0066001322120428085\n",
      "L2 norm of weight change: 0.3602045774459839\n",
      "Performing post-edit metric calculations on validation set.\n"
     ]
    },
    {
     "name": "stderr",
     "output_type": "stream",
     "text": [
      "\n",
      "100%|██████████████████████████████████████████| 274/274 [00:09<00:00, 27.51it/s]\n"
     ]
    },
    {
     "name": "stdout",
     "output_type": "stream",
     "text": [
      "Post-edit metrics: {'TP': array([5981, 5365, 4999, 4227, 4000, 3602, 5679, 3233, 5213, 4456]), 'TN': array([60804, 61185, 60103, 58320, 60788, 59095, 61003, 62861, 60963,\n",
      "       61633]), 'FPs': array([2196, 1815, 2897, 4680, 2212, 3905, 1997,  139, 2037, 1367]), 'FNs': array([1019, 1635, 2001, 2773, 3000, 3398, 1321, 3767, 1787, 2544]), 'accuracy': 0.6679285714285714, 'per_class_accuracy': array([0.95407143, 0.95071429, 0.93002857, 0.89352857, 0.92554286,\n",
      "       0.89567143, 0.9526    , 0.9442    , 0.94537143, 0.94412857]), 'per_class_accuracy_mean': 0.9335857142857142, 'precision': array([0.73144185, 0.74721448, 0.63310537, 0.47457056, 0.643915  ,\n",
      "       0.47981884, 0.73983846, 0.95877817, 0.71903448, 0.76524128]), 'precision_mean': 0.6892958503068684, 'recall': array([0.85442857, 0.76642857, 0.71414286, 0.60385714, 0.57142857,\n",
      "       0.51457143, 0.81128571, 0.46185714, 0.74471429, 0.63657143]), 'recall_mean': 0.6679285714285715, 'f1': array([0.7881663 , 0.75669958, 0.6711869 , 0.53146414, 0.60551014,\n",
      "       0.49658785, 0.7739166 , 0.62340918, 0.73164912, 0.69500117]), 'f1_mean': 0.6673590978342556}\n",
      "Saved post-edit metrics saved/edit/trials/identity_cov/CINIC10_ImageNet-VGG_16/0117_201313/dog-train-n02116738_10613/felzenszwalb_masked_2/identity/models/post_edit_metrics.pth\n",
      "All metrics and KNN results can be found in saved/edit/trials/identity_cov/CINIC10_ImageNet-VGG_16/0117_201313/dog-train-n02116738_10613/felzenszwalb_masked_2/identity/models\n",
      "Finished trial 19/37. Results saved to saved/edit/trials/identity_cov/CINIC10_ImageNet-VGG_16/0117_201313/dog-train-n02116738_10613/felzenszwalb_masked_2/identity\n",
      "(0117_205427) Starting Trial 20/37...\n",
      "Current run_id: 0117_201313/dog-train-n02116738_10613/quickshift_masked_0\n",
      "saved/edit/trials/identity_cov/CINIC10_ImageNet-VGG_16/0117_201313/dog-train-n02116738_10613/quickshift_masked_0\n",
      "Calling edit()...\n",
      "Created ModelWrapperSanturkar model with 33646666 trainable parameters\n",
      "Restored weights from external_code/PyTorch_CIFAR10/cifar10_models/state_dicts/vgg16_bn.pt\n",
      "Using passed in data loader for validation.\n",
      "Key images: data/cinic-10-imagenet/train/dog/n02116738_10613.png\n",
      "Value images: saved/segmentations/dog/dog-train-n02116738_10613/modified_images/quickshift_masked_0.png\n",
      "Masks: None\n",
      "Prepared data for editing\n",
      "Performing pre-edit metric calculations on validation set.\n"
     ]
    },
    {
     "name": "stderr",
     "output_type": "stream",
     "text": [
      "100%|██████████████████████████████████████████| 274/274 [00:10<00:00, 27.19it/s]"
     ]
    },
    {
     "name": "stdout",
     "output_type": "stream",
     "text": [
      "Pre-edit metrics: {'TP': array([6142, 5382, 5203, 3842, 4270, 2990, 5659, 5136, 4820, 4679]), 'TN': array([60115, 61110, 59441, 59902, 60157, 61756, 61050, 61747, 61643,\n",
      "       61202]), 'FPs': array([2885, 1890, 3559, 3098, 2843, 1244, 1950, 1253, 1357, 1798]), 'FNs': array([ 858, 1618, 1797, 3158, 2730, 4010, 1341, 1864, 2180, 2321]), 'accuracy': 0.6874714285714286, 'per_class_accuracy': array([0.94652857, 0.94988571, 0.92348571, 0.91062857, 0.92038571,\n",
      "       0.92494286, 0.95298571, 0.95547143, 0.94947143, 0.94115714]), 'per_class_accuracy_mean': 0.9374942857142857, 'precision': array([0.68040323, 0.74009901, 0.5938142 , 0.55360231, 0.60030929,\n",
      "       0.706188  , 0.74372454, 0.80388167, 0.78031407, 0.72240235]), 'precision_mean': 0.6924738665961387, 'recall': array([0.87742857, 0.76885714, 0.74328571, 0.54885714, 0.61      ,\n",
      "       0.42714286, 0.80842857, 0.73371429, 0.68857143, 0.66842857]), 'recall_mean': 0.6874714285714286, 'f1': array([0.7664566 , 0.75420404, 0.66019541, 0.55121951, 0.60511585,\n",
      "       0.53231262, 0.77472791, 0.76719695, 0.73157775, 0.69436818]), 'f1_mean': 0.6837374824369241}\n",
      "Saved pre-edit metrics saved/edit/trials/identity_cov/CINIC10_ImageNet-VGG_16/0117_201313/dog-train-n02116738_10613/quickshift_masked_0/models/pre_edit_metrics.pth\n",
      "Using passed in covariance data loader.\n",
      "Looking for covariance matrix weights in cache/cinic-10-imagenet-dummy/vgg16_bn-12\n"
     ]
    },
    {
     "name": "stderr",
     "output_type": "stream",
     "text": [
      "\n"
     ]
    },
    {
     "name": "stdout",
     "output_type": "stream",
     "text": [
      "Found precomputed cov matrices, returning...\n",
      "tensor([[ 1.0000e+00, -1.8504e-05, -3.8476e-05, -1.9159e-05, -4.0293e-05,\n",
      "         -3.1667e-05, -2.4137e-05, -2.9244e-05, -4.0682e-05, -2.2710e-05],\n",
      "        [-1.8504e-05,  1.0000e+00, -2.8878e-05, -1.2513e-05, -2.8300e-05,\n",
      "         -2.1209e-05, -1.7897e-05, -2.0580e-05, -2.4006e-05, -1.4785e-05],\n",
      "        [-3.8476e-05, -2.8878e-05,  1.0000e+00, -2.8741e-05, -6.1447e-05,\n",
      "         -4.6148e-05, -3.9829e-05, -4.5861e-05, -4.7019e-05, -3.5061e-05],\n",
      "        [-1.9159e-05, -1.2513e-05, -2.8741e-05,  1.0000e+00, -2.7411e-05,\n",
      "         -2.1258e-05, -1.7047e-05, -1.9973e-05, -2.4082e-05, -1.5679e-05],\n",
      "        [-4.0293e-05, -2.8300e-05, -6.1447e-05, -2.7411e-05,  1.0000e+00,\n",
      "         -4.6443e-05, -5.1575e-05, -4.8059e-05, -5.6685e-05, -3.6807e-05],\n",
      "        [-3.1667e-05, -2.1209e-05, -4.6148e-05, -2.1258e-05, -4.6443e-05,\n",
      "          1.0000e+00, -2.6984e-05, -3.3795e-05, -4.0129e-05, -2.3401e-05],\n",
      "        [-2.4137e-05, -1.7897e-05, -3.9829e-05, -1.7047e-05, -5.1575e-05,\n",
      "         -2.6984e-05,  1.0000e+00, -2.8577e-05, -3.1210e-05, -3.0226e-05],\n",
      "        [-2.9244e-05, -2.0580e-05, -4.5861e-05, -1.9973e-05, -4.8059e-05,\n",
      "         -3.3795e-05, -2.8577e-05,  1.0000e+00, -3.8494e-05, -2.2827e-05],\n",
      "        [-4.0682e-05, -2.4006e-05, -4.7019e-05, -2.4082e-05, -5.6685e-05,\n",
      "         -4.0129e-05, -3.1210e-05, -3.8494e-05,  1.0000e+00, -2.6560e-05],\n",
      "        [-2.2710e-05, -1.4785e-05, -3.5061e-05, -1.5679e-05, -3.6807e-05,\n",
      "         -2.3401e-05, -3.0226e-05, -2.2827e-05, -2.6560e-05,  1.0000e+00]],\n",
      "       device='cuda:0')\n"
     ]
    },
    {
     "name": "stderr",
     "output_type": "stream",
     "text": [
      "tensor(0.0057, device='cuda:0', grad_fn=<DivBackward0>): 100%|█| 40000/40000 [00:"
     ]
    },
    {
     "name": "stdout",
     "output_type": "stream",
     "text": [
      "Loss (orig, final): 0.11647257953882217 0.005734196864068508\n",
      "L2 norm of weight change: 0.47400984168052673\n",
      "Performing post-edit metric calculations on validation set.\n"
     ]
    },
    {
     "name": "stderr",
     "output_type": "stream",
     "text": [
      "\n",
      "100%|██████████████████████████████████████████| 274/274 [00:09<00:00, 28.47it/s]"
     ]
    },
    {
     "name": "stdout",
     "output_type": "stream",
     "text": [
      "Post-edit metrics: {'TP': array([5930, 5327, 5059, 4159, 4014, 3689, 5676,    0, 5379, 4174]), 'TN': array([60971, 61226, 59951, 58524, 60772, 55615, 60995, 63000, 60354,\n",
      "       61999]), 'FPs': array([2029, 1774, 3049, 4476, 2228, 7385, 2005,    0, 2646, 1001]), 'FNs': array([1070, 1673, 1941, 2841, 2986, 3311, 1324, 7000, 1621, 2826]), 'accuracy': 0.6201, 'per_class_accuracy': array([0.95572857, 0.95075714, 0.92871429, 0.89547143, 0.92551429,\n",
      "       0.8472    , 0.95244286, 0.9       , 0.93904286, 0.94532857]), 'per_class_accuracy_mean': 0.92402, 'precision': array([0.74506848, 0.75017603, 0.62395165, 0.48164447, 0.64306312,\n",
      "       0.33312263, 0.73896628, 0.        , 0.67028037, 0.80657005]), 'precision_mean': 0.579284308330286, 'recall': array([0.84714286, 0.761     , 0.72271429, 0.59414286, 0.57342857,\n",
      "       0.527     , 0.81085714, 0.        , 0.76842857, 0.59628571]), 'recall_mean': 0.6201, 'f1': array([0.79283375, 0.75554925, 0.66971141, 0.53201151, 0.60625283,\n",
      "       0.40821069, 0.77324433, 0.        , 0.71600666, 0.68566735]), 'f1_mean': 0.5939487778597481}\n",
      "Saved post-edit metrics saved/edit/trials/identity_cov/CINIC10_ImageNet-VGG_16/0117_201313/dog-train-n02116738_10613/quickshift_masked_0/models/post_edit_metrics.pth\n",
      "All metrics and KNN results can be found in saved/edit/trials/identity_cov/CINIC10_ImageNet-VGG_16/0117_201313/dog-train-n02116738_10613/quickshift_masked_0/models\n"
     ]
    },
    {
     "name": "stderr",
     "output_type": "stream",
     "text": [
      "\n",
      "/n/fs/ac-editing/model-editing/src/model/metric.py:165: RuntimeWarning: invalid value encountered in divide\n",
      "  return np.nan_to_num(TPs / (TPs + FPs))\n",
      "/n/fs/ac-editing/model-editing/src/model/metric.py:202: RuntimeWarning: invalid value encountered in divide\n",
      "  return np.nan_to_num(2 * precisions * recalls / (precisions + recalls))\n"
     ]
    },
    {
     "name": "stdout",
     "output_type": "stream",
     "text": [
      "saved/edit/trials/identity_cov/CINIC10_ImageNet-VGG_16/0117_201313/dog-train-n02116738_10613/quickshift_masked_0/identity\n",
      "Calling edit()...\n",
      "Created ModelWrapperSanturkar model with 33646666 trainable parameters\n",
      "Restored weights from external_code/PyTorch_CIFAR10/cifar10_models/state_dicts/vgg16_bn.pt\n",
      "Using passed in data loader for validation.\n",
      "Key images: data/cinic-10-imagenet/train/dog/n02116738_10613.png\n",
      "Value images: saved/segmentations/dog/dog-train-n02116738_10613/modified_images/quickshift_masked_0.png\n",
      "Masks: None\n",
      "Prepared data for editing\n",
      "Performing pre-edit metric calculations on validation set.\n"
     ]
    },
    {
     "name": "stderr",
     "output_type": "stream",
     "text": [
      "100%|██████████████████████████████████████████| 274/274 [00:09<00:00, 28.60it/s]"
     ]
    },
    {
     "name": "stdout",
     "output_type": "stream",
     "text": [
      "Pre-edit metrics: {'TP': array([6142, 5382, 5203, 3842, 4270, 2990, 5659, 5136, 4820, 4679]), 'TN': array([60115, 61110, 59441, 59902, 60157, 61756, 61050, 61747, 61643,\n",
      "       61202]), 'FPs': array([2885, 1890, 3559, 3098, 2843, 1244, 1950, 1253, 1357, 1798]), 'FNs': array([ 858, 1618, 1797, 3158, 2730, 4010, 1341, 1864, 2180, 2321]), 'accuracy': 0.6874714285714286, 'per_class_accuracy': array([0.94652857, 0.94988571, 0.92348571, 0.91062857, 0.92038571,\n",
      "       0.92494286, 0.95298571, 0.95547143, 0.94947143, 0.94115714]), 'per_class_accuracy_mean': 0.9374942857142857, 'precision': array([0.68040323, 0.74009901, 0.5938142 , 0.55360231, 0.60030929,\n",
      "       0.706188  , 0.74372454, 0.80388167, 0.78031407, 0.72240235]), 'precision_mean': 0.6924738665961387, 'recall': array([0.87742857, 0.76885714, 0.74328571, 0.54885714, 0.61      ,\n",
      "       0.42714286, 0.80842857, 0.73371429, 0.68857143, 0.66842857]), 'recall_mean': 0.6874714285714286, 'f1': array([0.7664566 , 0.75420404, 0.66019541, 0.55121951, 0.60511585,\n",
      "       0.53231262, 0.77472791, 0.76719695, 0.73157775, 0.69436818]), 'f1_mean': 0.6837374824369241}\n",
      "Saved pre-edit metrics saved/edit/trials/identity_cov/CINIC10_ImageNet-VGG_16/0117_201313/dog-train-n02116738_10613/quickshift_masked_0/identity/models/pre_edit_metrics.pth\n",
      "No data loader for covariance matrix. Will use identity matrix\n",
      "Looking for covariance matrix weights in cache/identity/vgg16_bn-12\n"
     ]
    },
    {
     "name": "stderr",
     "output_type": "stream",
     "text": [
      "\n"
     ]
    },
    {
     "name": "stdout",
     "output_type": "stream",
     "text": [
      "Found precomputed cov matrices, returning...\n",
      "tensor([[1., 0., 0., 0., 0., 0., 0., 0., 0., 0.],\n",
      "        [0., 1., 0., 0., 0., 0., 0., 0., 0., 0.],\n",
      "        [0., 0., 1., 0., 0., 0., 0., 0., 0., 0.],\n",
      "        [0., 0., 0., 1., 0., 0., 0., 0., 0., 0.],\n",
      "        [0., 0., 0., 0., 1., 0., 0., 0., 0., 0.],\n",
      "        [0., 0., 0., 0., 0., 1., 0., 0., 0., 0.],\n",
      "        [0., 0., 0., 0., 0., 0., 1., 0., 0., 0.],\n",
      "        [0., 0., 0., 0., 0., 0., 0., 1., 0., 0.],\n",
      "        [0., 0., 0., 0., 0., 0., 0., 0., 1., 0.],\n",
      "        [0., 0., 0., 0., 0., 0., 0., 0., 0., 1.]], device='cuda:0')\n"
     ]
    },
    {
     "name": "stderr",
     "output_type": "stream",
     "text": [
      "tensor(0.0061, device='cuda:0', grad_fn=<DivBackward0>): 100%|█| 40000/40000 [00:"
     ]
    },
    {
     "name": "stdout",
     "output_type": "stream",
     "text": [
      "Loss (orig, final): 0.11647257953882217 0.006097655743360519\n",
      "L2 norm of weight change: 0.47854718565940857\n",
      "Performing post-edit metric calculations on validation set.\n"
     ]
    },
    {
     "name": "stderr",
     "output_type": "stream",
     "text": [
      "\n",
      "100%|██████████████████████████████████████████| 274/274 [00:09<00:00, 28.28it/s]"
     ]
    },
    {
     "name": "stdout",
     "output_type": "stream",
     "text": [
      "Post-edit metrics: {'TP': array([5924, 5323, 5048, 4168, 4009, 3691, 5673,    0, 5386, 4165]), 'TN': array([60984, 61233, 59976, 58498, 60784, 55584, 60998, 63000, 60319,\n",
      "       62011]), 'FPs': array([2016, 1767, 3024, 4502, 2216, 7416, 2002,    0, 2681,  989]), 'FNs': array([1076, 1677, 1952, 2832, 2991, 3309, 1327, 7000, 1614, 2835]), 'accuracy': 0.6198142857142858, 'per_class_accuracy': array([0.95582857, 0.9508    , 0.92891429, 0.89522857, 0.92561429,\n",
      "       0.84678571, 0.95244286, 0.9       , 0.93864286, 0.94537143]), 'per_class_accuracy_mean': 0.9239628571428572, 'precision': array([0.74609572, 0.75077574, 0.62537166, 0.48073818, 0.64401606,\n",
      "       0.33231296, 0.73915309, 0.        , 0.66765836, 0.80811021]), 'precision_mean': 0.5794231972495192, 'recall': array([0.84628571, 0.76042857, 0.72114286, 0.59542857, 0.57271429,\n",
      "       0.52728571, 0.81042857, 0.        , 0.76942857, 0.595     ]), 'recall_mean': 0.6198142857142858, 'f1': array([0.79303882, 0.75557133, 0.66985138, 0.53197192, 0.60627599,\n",
      "       0.40768763, 0.77315162, 0.        , 0.71493993, 0.68537107]), 'f1_mean': 0.5937859701710348}\n",
      "Saved post-edit metrics saved/edit/trials/identity_cov/CINIC10_ImageNet-VGG_16/0117_201313/dog-train-n02116738_10613/quickshift_masked_0/identity/models/post_edit_metrics.pth\n",
      "All metrics and KNN results can be found in saved/edit/trials/identity_cov/CINIC10_ImageNet-VGG_16/0117_201313/dog-train-n02116738_10613/quickshift_masked_0/identity/models\n",
      "Finished trial 20/37. Results saved to saved/edit/trials/identity_cov/CINIC10_ImageNet-VGG_16/0117_201313/dog-train-n02116738_10613/quickshift_masked_0/identity\n",
      "(0117_205628) Starting Trial 21/37...\n",
      "Current run_id: 0117_201313/dog-train-n02116738_10613/quickshift_masked_1\n"
     ]
    },
    {
     "name": "stderr",
     "output_type": "stream",
     "text": [
      "\n",
      "/n/fs/ac-editing/model-editing/src/model/metric.py:165: RuntimeWarning: invalid value encountered in divide\n",
      "  return np.nan_to_num(TPs / (TPs + FPs))\n",
      "/n/fs/ac-editing/model-editing/src/model/metric.py:202: RuntimeWarning: invalid value encountered in divide\n",
      "  return np.nan_to_num(2 * precisions * recalls / (precisions + recalls))\n"
     ]
    },
    {
     "name": "stdout",
     "output_type": "stream",
     "text": [
      "saved/edit/trials/identity_cov/CINIC10_ImageNet-VGG_16/0117_201313/dog-train-n02116738_10613/quickshift_masked_1\n",
      "Calling edit()...\n",
      "Created ModelWrapperSanturkar model with 33646666 trainable parameters\n",
      "Restored weights from external_code/PyTorch_CIFAR10/cifar10_models/state_dicts/vgg16_bn.pt\n",
      "Using passed in data loader for validation.\n",
      "Key images: data/cinic-10-imagenet/train/dog/n02116738_10613.png\n",
      "Value images: saved/segmentations/dog/dog-train-n02116738_10613/modified_images/quickshift_masked_1.png\n",
      "Masks: None\n",
      "Prepared data for editing\n",
      "Performing pre-edit metric calculations on validation set.\n"
     ]
    },
    {
     "name": "stderr",
     "output_type": "stream",
     "text": [
      "100%|██████████████████████████████████████████| 274/274 [00:09<00:00, 28.30it/s]"
     ]
    },
    {
     "name": "stdout",
     "output_type": "stream",
     "text": [
      "Pre-edit metrics: {'TP': array([6142, 5382, 5203, 3842, 4270, 2990, 5659, 5136, 4820, 4679]), 'TN': array([60115, 61110, 59441, 59902, 60157, 61756, 61050, 61747, 61643,\n",
      "       61202]), 'FPs': array([2885, 1890, 3559, 3098, 2843, 1244, 1950, 1253, 1357, 1798]), 'FNs': array([ 858, 1618, 1797, 3158, 2730, 4010, 1341, 1864, 2180, 2321]), 'accuracy': 0.6874714285714286, 'per_class_accuracy': array([0.94652857, 0.94988571, 0.92348571, 0.91062857, 0.92038571,\n",
      "       0.92494286, 0.95298571, 0.95547143, 0.94947143, 0.94115714]), 'per_class_accuracy_mean': 0.9374942857142857, 'precision': array([0.68040323, 0.74009901, 0.5938142 , 0.55360231, 0.60030929,\n",
      "       0.706188  , 0.74372454, 0.80388167, 0.78031407, 0.72240235]), 'precision_mean': 0.6924738665961387, 'recall': array([0.87742857, 0.76885714, 0.74328571, 0.54885714, 0.61      ,\n",
      "       0.42714286, 0.80842857, 0.73371429, 0.68857143, 0.66842857]), 'recall_mean': 0.6874714285714286, 'f1': array([0.7664566 , 0.75420404, 0.66019541, 0.55121951, 0.60511585,\n",
      "       0.53231262, 0.77472791, 0.76719695, 0.73157775, 0.69436818]), 'f1_mean': 0.6837374824369241}\n",
      "Saved pre-edit metrics saved/edit/trials/identity_cov/CINIC10_ImageNet-VGG_16/0117_201313/dog-train-n02116738_10613/quickshift_masked_1/models/pre_edit_metrics.pth\n",
      "Using passed in covariance data loader.\n",
      "Looking for covariance matrix weights in cache/cinic-10-imagenet-dummy/vgg16_bn-12\n"
     ]
    },
    {
     "name": "stderr",
     "output_type": "stream",
     "text": [
      "\n"
     ]
    },
    {
     "name": "stdout",
     "output_type": "stream",
     "text": [
      "Found precomputed cov matrices, returning...\n",
      "tensor([[ 1.0000e+00, -1.8504e-05, -3.8476e-05, -1.9159e-05, -4.0293e-05,\n",
      "         -3.1667e-05, -2.4137e-05, -2.9244e-05, -4.0682e-05, -2.2710e-05],\n",
      "        [-1.8504e-05,  1.0000e+00, -2.8878e-05, -1.2513e-05, -2.8300e-05,\n",
      "         -2.1209e-05, -1.7897e-05, -2.0580e-05, -2.4006e-05, -1.4785e-05],\n",
      "        [-3.8476e-05, -2.8878e-05,  1.0000e+00, -2.8741e-05, -6.1447e-05,\n",
      "         -4.6148e-05, -3.9829e-05, -4.5861e-05, -4.7019e-05, -3.5061e-05],\n",
      "        [-1.9159e-05, -1.2513e-05, -2.8741e-05,  1.0000e+00, -2.7411e-05,\n",
      "         -2.1258e-05, -1.7047e-05, -1.9973e-05, -2.4082e-05, -1.5679e-05],\n",
      "        [-4.0293e-05, -2.8300e-05, -6.1447e-05, -2.7411e-05,  1.0000e+00,\n",
      "         -4.6443e-05, -5.1575e-05, -4.8059e-05, -5.6685e-05, -3.6807e-05],\n",
      "        [-3.1667e-05, -2.1209e-05, -4.6148e-05, -2.1258e-05, -4.6443e-05,\n",
      "          1.0000e+00, -2.6984e-05, -3.3795e-05, -4.0129e-05, -2.3401e-05],\n",
      "        [-2.4137e-05, -1.7897e-05, -3.9829e-05, -1.7047e-05, -5.1575e-05,\n",
      "         -2.6984e-05,  1.0000e+00, -2.8577e-05, -3.1210e-05, -3.0226e-05],\n",
      "        [-2.9244e-05, -2.0580e-05, -4.5861e-05, -1.9973e-05, -4.8059e-05,\n",
      "         -3.3795e-05, -2.8577e-05,  1.0000e+00, -3.8494e-05, -2.2827e-05],\n",
      "        [-4.0682e-05, -2.4006e-05, -4.7019e-05, -2.4082e-05, -5.6685e-05,\n",
      "         -4.0129e-05, -3.1210e-05, -3.8494e-05,  1.0000e+00, -2.6560e-05],\n",
      "        [-2.2710e-05, -1.4785e-05, -3.5061e-05, -1.5679e-05, -3.6807e-05,\n",
      "         -2.3401e-05, -3.0226e-05, -2.2827e-05, -2.6560e-05,  1.0000e+00]],\n",
      "       device='cuda:0')\n"
     ]
    },
    {
     "name": "stderr",
     "output_type": "stream",
     "text": [
      "tensor(0.0045, device='cuda:0', grad_fn=<DivBackward0>): 100%|█| 40000/40000 [00:"
     ]
    },
    {
     "name": "stdout",
     "output_type": "stream",
     "text": [
      "Loss (orig, final): 0.07235196232795715 0.004479536786675453\n",
      "L2 norm of weight change: 0.2905595302581787\n",
      "Performing post-edit metric calculations on validation set.\n"
     ]
    },
    {
     "name": "stderr",
     "output_type": "stream",
     "text": [
      "\n",
      "100%|██████████████████████████████████████████| 274/274 [00:09<00:00, 28.32it/s]"
     ]
    },
    {
     "name": "stdout",
     "output_type": "stream",
     "text": [
      "Post-edit metrics: {'TP': array([5997, 5510, 5184, 3866, 4016, 3684, 5657, 4536, 5102, 4435]), 'TN': array([60718, 60931, 59567, 59644, 60722, 60093, 61070, 62440, 61199,\n",
      "       61603]), 'FPs': array([2282, 2069, 3433, 3356, 2278, 2907, 1930,  560, 1801, 1397]), 'FNs': array([1003, 1490, 1816, 3134, 2984, 3316, 1343, 2464, 1898, 2565]), 'accuracy': 0.6855285714285714, 'per_class_accuracy': array([0.95307143, 0.94915714, 0.92501429, 0.90728571, 0.92482857,\n",
      "       0.9111    , 0.95324286, 0.9568    , 0.94715714, 0.9434    ]), 'per_class_accuracy_mean': 0.9371057142857143, 'precision': array([0.72436285, 0.72700884, 0.60160149, 0.53530878, 0.638068  ,\n",
      "       0.55894401, 0.7456175 , 0.89010989, 0.73909894, 0.76045953]), 'precision_mean': 0.6920579835805459, 'recall': array([0.85671429, 0.78714286, 0.74057143, 0.55228571, 0.57371429,\n",
      "       0.52628571, 0.80814286, 0.648     , 0.72885714, 0.63357143]), 'recall_mean': 0.6855285714285715, 'f1': array([0.78499902, 0.75588175, 0.66389191, 0.54366474, 0.60418234,\n",
      "       0.54212346, 0.77562213, 0.75      , 0.73394231, 0.69124065]), 'f1_mean': 0.6845548317635106}\n"
     ]
    },
    {
     "name": "stderr",
     "output_type": "stream",
     "text": [
      "\n"
     ]
    },
    {
     "name": "stdout",
     "output_type": "stream",
     "text": [
      "Saved post-edit metrics saved/edit/trials/identity_cov/CINIC10_ImageNet-VGG_16/0117_201313/dog-train-n02116738_10613/quickshift_masked_1/models/post_edit_metrics.pth\n",
      "All metrics and KNN results can be found in saved/edit/trials/identity_cov/CINIC10_ImageNet-VGG_16/0117_201313/dog-train-n02116738_10613/quickshift_masked_1/models\n",
      "saved/edit/trials/identity_cov/CINIC10_ImageNet-VGG_16/0117_201313/dog-train-n02116738_10613/quickshift_masked_1/identity\n",
      "Calling edit()...\n",
      "Created ModelWrapperSanturkar model with 33646666 trainable parameters\n",
      "Restored weights from external_code/PyTorch_CIFAR10/cifar10_models/state_dicts/vgg16_bn.pt\n",
      "Using passed in data loader for validation.\n",
      "Key images: data/cinic-10-imagenet/train/dog/n02116738_10613.png\n",
      "Value images: saved/segmentations/dog/dog-train-n02116738_10613/modified_images/quickshift_masked_1.png\n",
      "Masks: None\n",
      "Prepared data for editing\n",
      "Performing pre-edit metric calculations on validation set.\n"
     ]
    },
    {
     "name": "stderr",
     "output_type": "stream",
     "text": [
      "100%|██████████████████████████████████████████| 274/274 [00:09<00:00, 27.42it/s]"
     ]
    },
    {
     "name": "stdout",
     "output_type": "stream",
     "text": [
      "Pre-edit metrics: {'TP': array([6142, 5382, 5203, 3842, 4270, 2990, 5659, 5136, 4820, 4679]), 'TN': array([60115, 61110, 59441, 59902, 60157, 61756, 61050, 61747, 61643,\n",
      "       61202]), 'FPs': array([2885, 1890, 3559, 3098, 2843, 1244, 1950, 1253, 1357, 1798]), 'FNs': array([ 858, 1618, 1797, 3158, 2730, 4010, 1341, 1864, 2180, 2321]), 'accuracy': 0.6874714285714286, 'per_class_accuracy': array([0.94652857, 0.94988571, 0.92348571, 0.91062857, 0.92038571,\n",
      "       0.92494286, 0.95298571, 0.95547143, 0.94947143, 0.94115714]), 'per_class_accuracy_mean': 0.9374942857142857, 'precision': array([0.68040323, 0.74009901, 0.5938142 , 0.55360231, 0.60030929,\n",
      "       0.706188  , 0.74372454, 0.80388167, 0.78031407, 0.72240235]), 'precision_mean': 0.6924738665961387, 'recall': array([0.87742857, 0.76885714, 0.74328571, 0.54885714, 0.61      ,\n",
      "       0.42714286, 0.80842857, 0.73371429, 0.68857143, 0.66842857]), 'recall_mean': 0.6874714285714286, 'f1': array([0.7664566 , 0.75420404, 0.66019541, 0.55121951, 0.60511585,\n",
      "       0.53231262, 0.77472791, 0.76719695, 0.73157775, 0.69436818]), 'f1_mean': 0.6837374824369241}\n",
      "Saved pre-edit metrics saved/edit/trials/identity_cov/CINIC10_ImageNet-VGG_16/0117_201313/dog-train-n02116738_10613/quickshift_masked_1/identity/models/pre_edit_metrics.pth\n",
      "No data loader for covariance matrix. Will use identity matrix\n",
      "Looking for covariance matrix weights in cache/identity/vgg16_bn-12\n"
     ]
    },
    {
     "name": "stderr",
     "output_type": "stream",
     "text": [
      "\n"
     ]
    },
    {
     "name": "stdout",
     "output_type": "stream",
     "text": [
      "Found precomputed cov matrices, returning...\n",
      "tensor([[1., 0., 0., 0., 0., 0., 0., 0., 0., 0.],\n",
      "        [0., 1., 0., 0., 0., 0., 0., 0., 0., 0.],\n",
      "        [0., 0., 1., 0., 0., 0., 0., 0., 0., 0.],\n",
      "        [0., 0., 0., 1., 0., 0., 0., 0., 0., 0.],\n",
      "        [0., 0., 0., 0., 1., 0., 0., 0., 0., 0.],\n",
      "        [0., 0., 0., 0., 0., 1., 0., 0., 0., 0.],\n",
      "        [0., 0., 0., 0., 0., 0., 1., 0., 0., 0.],\n",
      "        [0., 0., 0., 0., 0., 0., 0., 1., 0., 0.],\n",
      "        [0., 0., 0., 0., 0., 0., 0., 0., 1., 0.],\n",
      "        [0., 0., 0., 0., 0., 0., 0., 0., 0., 1.]], device='cuda:0')\n"
     ]
    },
    {
     "name": "stderr",
     "output_type": "stream",
     "text": [
      "tensor(0.0046, device='cuda:0', grad_fn=<DivBackward0>): 100%|█| 40000/40000 [00:"
     ]
    },
    {
     "name": "stdout",
     "output_type": "stream",
     "text": [
      "Loss (orig, final): 0.07235196232795715 0.004581963177770376\n",
      "L2 norm of weight change: 0.2917955815792084\n",
      "Performing post-edit metric calculations on validation set.\n"
     ]
    },
    {
     "name": "stderr",
     "output_type": "stream",
     "text": [
      "\n",
      "100%|██████████████████████████████████████████| 274/274 [00:10<00:00, 25.94it/s]"
     ]
    },
    {
     "name": "stdout",
     "output_type": "stream",
     "text": [
      "Post-edit metrics: {'TP': array([5994, 5515, 5184, 3863, 4013, 3688, 5656, 4535, 5108, 4430]), 'TN': array([60728, 60926, 59565, 59657, 60730, 60074, 61071, 62442, 61186,\n",
      "       61607]), 'FPs': array([2272, 2074, 3435, 3343, 2270, 2926, 1929,  558, 1814, 1393]), 'FNs': array([1006, 1485, 1816, 3137, 2987, 3312, 1344, 2465, 1892, 2570]), 'accuracy': 0.6855142857142857, 'per_class_accuracy': array([0.95317143, 0.94915714, 0.92498571, 0.90742857, 0.9249    ,\n",
      "       0.91088571, 0.95324286, 0.95681429, 0.94705714, 0.94338571]), 'per_class_accuracy_mean': 0.9371028571428571, 'precision': array([0.72513912, 0.72670971, 0.60146189, 0.53608104, 0.63870762,\n",
      "       0.55760508, 0.74568227, 0.89043786, 0.73793701, 0.76077623]), 'precision_mean': 0.6920537837652556, 'recall': array([0.85628571, 0.78785714, 0.74057143, 0.55185714, 0.57328571,\n",
      "       0.52685714, 0.808     , 0.64785714, 0.72971429, 0.63285714]), 'recall_mean': 0.6855142857142857, 'f1': array([0.78527447, 0.75604908, 0.6638069 , 0.54385471, 0.60423097,\n",
      "       0.54179521, 0.77559136, 0.75002067, 0.73380261, 0.69094596]), 'f1_mean': 0.6845371943221197}\n",
      "Saved post-edit metrics saved/edit/trials/identity_cov/CINIC10_ImageNet-VGG_16/0117_201313/dog-train-n02116738_10613/quickshift_masked_1/identity/models/post_edit_metrics.pth\n",
      "All metrics and KNN results can be found in saved/edit/trials/identity_cov/CINIC10_ImageNet-VGG_16/0117_201313/dog-train-n02116738_10613/quickshift_masked_1/identity/models\n",
      "Finished trial 21/37. Results saved to saved/edit/trials/identity_cov/CINIC10_ImageNet-VGG_16/0117_201313/dog-train-n02116738_10613/quickshift_masked_1/identity\n",
      "(0117_205831) Starting Trial 22/37...\n",
      "Current run_id: 0117_201313/dog-train-n02116738_10613/slic_gaussian_4\n"
     ]
    },
    {
     "name": "stderr",
     "output_type": "stream",
     "text": [
      "\n"
     ]
    },
    {
     "name": "stdout",
     "output_type": "stream",
     "text": [
      "saved/edit/trials/identity_cov/CINIC10_ImageNet-VGG_16/0117_201313/dog-train-n02116738_10613/slic_gaussian_4\n",
      "Calling edit()...\n",
      "Created ModelWrapperSanturkar model with 33646666 trainable parameters\n",
      "Restored weights from external_code/PyTorch_CIFAR10/cifar10_models/state_dicts/vgg16_bn.pt\n",
      "Using passed in data loader for validation.\n",
      "Key images: data/cinic-10-imagenet/train/dog/n02116738_10613.png\n",
      "Value images: saved/segmentations/dog/dog-train-n02116738_10613/modified_images/slic_gaussian_4.png\n",
      "Masks: None\n",
      "Prepared data for editing\n",
      "Performing pre-edit metric calculations on validation set.\n"
     ]
    },
    {
     "name": "stderr",
     "output_type": "stream",
     "text": [
      "100%|██████████████████████████████████████████| 274/274 [00:10<00:00, 26.68it/s]"
     ]
    },
    {
     "name": "stdout",
     "output_type": "stream",
     "text": [
      "Pre-edit metrics: {'TP': array([6142, 5382, 5203, 3842, 4270, 2990, 5659, 5136, 4820, 4679]), 'TN': array([60115, 61110, 59441, 59902, 60157, 61756, 61050, 61747, 61643,\n",
      "       61202]), 'FPs': array([2885, 1890, 3559, 3098, 2843, 1244, 1950, 1253, 1357, 1798]), 'FNs': array([ 858, 1618, 1797, 3158, 2730, 4010, 1341, 1864, 2180, 2321]), 'accuracy': 0.6874714285714286, 'per_class_accuracy': array([0.94652857, 0.94988571, 0.92348571, 0.91062857, 0.92038571,\n",
      "       0.92494286, 0.95298571, 0.95547143, 0.94947143, 0.94115714]), 'per_class_accuracy_mean': 0.9374942857142857, 'precision': array([0.68040323, 0.74009901, 0.5938142 , 0.55360231, 0.60030929,\n",
      "       0.706188  , 0.74372454, 0.80388167, 0.78031407, 0.72240235]), 'precision_mean': 0.6924738665961387, 'recall': array([0.87742857, 0.76885714, 0.74328571, 0.54885714, 0.61      ,\n",
      "       0.42714286, 0.80842857, 0.73371429, 0.68857143, 0.66842857]), 'recall_mean': 0.6874714285714286, 'f1': array([0.7664566 , 0.75420404, 0.66019541, 0.55121951, 0.60511585,\n",
      "       0.53231262, 0.77472791, 0.76719695, 0.73157775, 0.69436818]), 'f1_mean': 0.6837374824369241}\n",
      "Saved pre-edit metrics saved/edit/trials/identity_cov/CINIC10_ImageNet-VGG_16/0117_201313/dog-train-n02116738_10613/slic_gaussian_4/models/pre_edit_metrics.pth\n",
      "Using passed in covariance data loader.\n",
      "Looking for covariance matrix weights in cache/cinic-10-imagenet-dummy/vgg16_bn-12\n"
     ]
    },
    {
     "name": "stderr",
     "output_type": "stream",
     "text": [
      "\n"
     ]
    },
    {
     "name": "stdout",
     "output_type": "stream",
     "text": [
      "Found precomputed cov matrices, returning...\n",
      "tensor([[ 1.0000e+00, -1.8504e-05, -3.8476e-05, -1.9159e-05, -4.0293e-05,\n",
      "         -3.1667e-05, -2.4137e-05, -2.9244e-05, -4.0682e-05, -2.2710e-05],\n",
      "        [-1.8504e-05,  1.0000e+00, -2.8878e-05, -1.2513e-05, -2.8300e-05,\n",
      "         -2.1209e-05, -1.7897e-05, -2.0580e-05, -2.4006e-05, -1.4785e-05],\n",
      "        [-3.8476e-05, -2.8878e-05,  1.0000e+00, -2.8741e-05, -6.1447e-05,\n",
      "         -4.6148e-05, -3.9829e-05, -4.5861e-05, -4.7019e-05, -3.5061e-05],\n",
      "        [-1.9159e-05, -1.2513e-05, -2.8741e-05,  1.0000e+00, -2.7411e-05,\n",
      "         -2.1258e-05, -1.7047e-05, -1.9973e-05, -2.4082e-05, -1.5679e-05],\n",
      "        [-4.0293e-05, -2.8300e-05, -6.1447e-05, -2.7411e-05,  1.0000e+00,\n",
      "         -4.6443e-05, -5.1575e-05, -4.8059e-05, -5.6685e-05, -3.6807e-05],\n",
      "        [-3.1667e-05, -2.1209e-05, -4.6148e-05, -2.1258e-05, -4.6443e-05,\n",
      "          1.0000e+00, -2.6984e-05, -3.3795e-05, -4.0129e-05, -2.3401e-05],\n",
      "        [-2.4137e-05, -1.7897e-05, -3.9829e-05, -1.7047e-05, -5.1575e-05,\n",
      "         -2.6984e-05,  1.0000e+00, -2.8577e-05, -3.1210e-05, -3.0226e-05],\n",
      "        [-2.9244e-05, -2.0580e-05, -4.5861e-05, -1.9973e-05, -4.8059e-05,\n",
      "         -3.3795e-05, -2.8577e-05,  1.0000e+00, -3.8494e-05, -2.2827e-05],\n",
      "        [-4.0682e-05, -2.4006e-05, -4.7019e-05, -2.4082e-05, -5.6685e-05,\n",
      "         -4.0129e-05, -3.1210e-05, -3.8494e-05,  1.0000e+00, -2.6560e-05],\n",
      "        [-2.2710e-05, -1.4785e-05, -3.5061e-05, -1.5679e-05, -3.6807e-05,\n",
      "         -2.3401e-05, -3.0226e-05, -2.2827e-05, -2.6560e-05,  1.0000e+00]],\n",
      "       device='cuda:0')\n"
     ]
    },
    {
     "name": "stderr",
     "output_type": "stream",
     "text": [
      "tensor(0.0063, device='cuda:0', grad_fn=<DivBackward0>): 100%|█| 40000/40000 [00:"
     ]
    },
    {
     "name": "stdout",
     "output_type": "stream",
     "text": [
      "Loss (orig, final): 0.04528240114450455 0.0062530767172575\n",
      "L2 norm of weight change: 0.18059542775154114\n",
      "Performing post-edit metric calculations on validation set.\n"
     ]
    },
    {
     "name": "stderr",
     "output_type": "stream",
     "text": [
      "\n",
      "100%|██████████████████████████████████████████| 274/274 [00:10<00:00, 26.22it/s]\n"
     ]
    },
    {
     "name": "stdout",
     "output_type": "stream",
     "text": [
      "Post-edit metrics: {'TP': array([6129, 5234, 5094, 4172, 4250, 2877, 5642, 4889, 4915, 4772]), 'TN': array([60149, 61361, 59752, 58815, 60157, 61868, 61118, 62090, 61531,\n",
      "       61133]), 'FPs': array([2851, 1639, 3248, 4185, 2843, 1132, 1882,  910, 1469, 1867]), 'FNs': array([ 871, 1766, 1906, 2828, 2750, 4123, 1358, 2111, 2085, 2228]), 'accuracy': 0.6853428571428571, 'per_class_accuracy': array([0.94682857, 0.95135714, 0.92637143, 0.89981429, 0.9201    ,\n",
      "       0.92492857, 0.95371429, 0.95684286, 0.94922857, 0.9415    ]), 'per_class_accuracy_mean': 0.9370685714285714, 'precision': array([0.6825167 , 0.76153063, 0.61064493, 0.49922221, 0.59918229,\n",
      "       0.71763532, 0.74986709, 0.84307639, 0.76989348, 0.71878295]), 'precision_mean': 0.6952351999410116, 'recall': array([0.87557143, 0.74771429, 0.72771429, 0.596     , 0.60714286,\n",
      "       0.411     , 0.806     , 0.69842857, 0.70214286, 0.68171429]), 'recall_mean': 0.6853428571428571, 'f1': array([0.76708385, 0.75455922, 0.66405944, 0.54333529, 0.60313631,\n",
      "       0.52266328, 0.77692096, 0.76396593, 0.73445906, 0.69975805]), 'f1_mean': 0.6829941381989281}\n",
      "Saved post-edit metrics saved/edit/trials/identity_cov/CINIC10_ImageNet-VGG_16/0117_201313/dog-train-n02116738_10613/slic_gaussian_4/models/post_edit_metrics.pth\n",
      "All metrics and KNN results can be found in saved/edit/trials/identity_cov/CINIC10_ImageNet-VGG_16/0117_201313/dog-train-n02116738_10613/slic_gaussian_4/models\n",
      "saved/edit/trials/identity_cov/CINIC10_ImageNet-VGG_16/0117_201313/dog-train-n02116738_10613/slic_gaussian_4/identity\n",
      "Calling edit()...\n",
      "Created ModelWrapperSanturkar model with 33646666 trainable parameters\n",
      "Restored weights from external_code/PyTorch_CIFAR10/cifar10_models/state_dicts/vgg16_bn.pt\n",
      "Using passed in data loader for validation.\n",
      "Key images: data/cinic-10-imagenet/train/dog/n02116738_10613.png\n",
      "Value images: saved/segmentations/dog/dog-train-n02116738_10613/modified_images/slic_gaussian_4.png\n",
      "Masks: None\n",
      "Prepared data for editing\n",
      "Performing pre-edit metric calculations on validation set.\n"
     ]
    },
    {
     "name": "stderr",
     "output_type": "stream",
     "text": [
      "100%|██████████████████████████████████████████| 274/274 [00:10<00:00, 27.11it/s]"
     ]
    },
    {
     "name": "stdout",
     "output_type": "stream",
     "text": [
      "Pre-edit metrics: {'TP': array([6142, 5382, 5203, 3842, 4270, 2990, 5659, 5136, 4820, 4679]), 'TN': array([60115, 61110, 59441, 59902, 60157, 61756, 61050, 61747, 61643,\n",
      "       61202]), 'FPs': array([2885, 1890, 3559, 3098, 2843, 1244, 1950, 1253, 1357, 1798]), 'FNs': array([ 858, 1618, 1797, 3158, 2730, 4010, 1341, 1864, 2180, 2321]), 'accuracy': 0.6874714285714286, 'per_class_accuracy': array([0.94652857, 0.94988571, 0.92348571, 0.91062857, 0.92038571,\n",
      "       0.92494286, 0.95298571, 0.95547143, 0.94947143, 0.94115714]), 'per_class_accuracy_mean': 0.9374942857142857, 'precision': array([0.68040323, 0.74009901, 0.5938142 , 0.55360231, 0.60030929,\n",
      "       0.706188  , 0.74372454, 0.80388167, 0.78031407, 0.72240235]), 'precision_mean': 0.6924738665961387, 'recall': array([0.87742857, 0.76885714, 0.74328571, 0.54885714, 0.61      ,\n",
      "       0.42714286, 0.80842857, 0.73371429, 0.68857143, 0.66842857]), 'recall_mean': 0.6874714285714286, 'f1': array([0.7664566 , 0.75420404, 0.66019541, 0.55121951, 0.60511585,\n",
      "       0.53231262, 0.77472791, 0.76719695, 0.73157775, 0.69436818]), 'f1_mean': 0.6837374824369241}\n",
      "Saved pre-edit metrics saved/edit/trials/identity_cov/CINIC10_ImageNet-VGG_16/0117_201313/dog-train-n02116738_10613/slic_gaussian_4/identity/models/pre_edit_metrics.pth\n",
      "No data loader for covariance matrix. Will use identity matrix\n",
      "Looking for covariance matrix weights in cache/identity/vgg16_bn-12\n"
     ]
    },
    {
     "name": "stderr",
     "output_type": "stream",
     "text": [
      "\n"
     ]
    },
    {
     "name": "stdout",
     "output_type": "stream",
     "text": [
      "Found precomputed cov matrices, returning...\n",
      "tensor([[1., 0., 0., 0., 0., 0., 0., 0., 0., 0.],\n",
      "        [0., 1., 0., 0., 0., 0., 0., 0., 0., 0.],\n",
      "        [0., 0., 1., 0., 0., 0., 0., 0., 0., 0.],\n",
      "        [0., 0., 0., 1., 0., 0., 0., 0., 0., 0.],\n",
      "        [0., 0., 0., 0., 1., 0., 0., 0., 0., 0.],\n",
      "        [0., 0., 0., 0., 0., 1., 0., 0., 0., 0.],\n",
      "        [0., 0., 0., 0., 0., 0., 1., 0., 0., 0.],\n",
      "        [0., 0., 0., 0., 0., 0., 0., 1., 0., 0.],\n",
      "        [0., 0., 0., 0., 0., 0., 0., 0., 1., 0.],\n",
      "        [0., 0., 0., 0., 0., 0., 0., 0., 0., 1.]], device='cuda:0')\n"
     ]
    },
    {
     "name": "stderr",
     "output_type": "stream",
     "text": [
      "tensor(0.0063, device='cuda:0', grad_fn=<DivBackward0>): 100%|█| 40000/40000 [00:"
     ]
    },
    {
     "name": "stdout",
     "output_type": "stream",
     "text": [
      "Loss (orig, final): 0.04528240114450455 0.006263380870223045\n",
      "L2 norm of weight change: 0.1792643666267395\n",
      "Performing post-edit metric calculations on validation set.\n"
     ]
    },
    {
     "name": "stderr",
     "output_type": "stream",
     "text": [
      "\n",
      "100%|██████████████████████████████████████████| 274/274 [00:10<00:00, 26.99it/s]"
     ]
    },
    {
     "name": "stdout",
     "output_type": "stream",
     "text": [
      "Post-edit metrics: {'TP': array([6130, 5236, 5091, 4174, 4250, 2880, 5642, 4890, 4912, 4767]), 'TN': array([60133, 61359, 59764, 58811, 60162, 61861, 61121, 62089, 61533,\n",
      "       61139]), 'FPs': array([2867, 1641, 3236, 4189, 2838, 1139, 1879,  911, 1467, 1861]), 'FNs': array([ 870, 1764, 1909, 2826, 2750, 4120, 1358, 2110, 2088, 2233]), 'accuracy': 0.6853142857142858, 'per_class_accuracy': array([0.94661429, 0.95135714, 0.9265    , 0.89978571, 0.92017143,\n",
      "       0.92487143, 0.95375714, 0.95684286, 0.94921429, 0.94151429]), 'per_class_accuracy_mean': 0.9370628571428572, 'precision': array([0.68133822, 0.76137851, 0.61138465, 0.49910319, 0.59960497,\n",
      "       0.71659617, 0.7501662 , 0.84295811, 0.77002665, 0.71922148]), 'precision_mean': 0.6951778157763238, 'recall': array([0.87571429, 0.748     , 0.72728571, 0.59628571, 0.60714286,\n",
      "       0.41142857, 0.806     , 0.69857143, 0.70171429, 0.681     ]), 'recall_mean': 0.6853142857142858, 'f1': array([0.7663937 , 0.75462996, 0.66431787, 0.54338345, 0.60335037,\n",
      "       0.52273346, 0.77708147, 0.76400281, 0.73428507, 0.69958908]), 'f1_mean': 0.6829767251164173}\n",
      "Saved post-edit metrics saved/edit/trials/identity_cov/CINIC10_ImageNet-VGG_16/0117_201313/dog-train-n02116738_10613/slic_gaussian_4/identity/models/post_edit_metrics.pth\n",
      "All metrics and KNN results can be found in saved/edit/trials/identity_cov/CINIC10_ImageNet-VGG_16/0117_201313/dog-train-n02116738_10613/slic_gaussian_4/identity/models\n",
      "Finished trial 22/37. Results saved to saved/edit/trials/identity_cov/CINIC10_ImageNet-VGG_16/0117_201313/dog-train-n02116738_10613/slic_gaussian_4/identity\n",
      "(0117_210032) Starting Trial 23/37...\n",
      "Current run_id: 0117_201313/dog-train-n02116738_10613/slic_masked_1\n"
     ]
    },
    {
     "name": "stderr",
     "output_type": "stream",
     "text": [
      "\n"
     ]
    },
    {
     "name": "stdout",
     "output_type": "stream",
     "text": [
      "saved/edit/trials/identity_cov/CINIC10_ImageNet-VGG_16/0117_201313/dog-train-n02116738_10613/slic_masked_1\n",
      "Calling edit()...\n",
      "Created ModelWrapperSanturkar model with 33646666 trainable parameters\n",
      "Restored weights from external_code/PyTorch_CIFAR10/cifar10_models/state_dicts/vgg16_bn.pt\n",
      "Using passed in data loader for validation.\n",
      "Key images: data/cinic-10-imagenet/train/dog/n02116738_10613.png\n",
      "Value images: saved/segmentations/dog/dog-train-n02116738_10613/modified_images/slic_masked_1.png\n",
      "Masks: None\n",
      "Prepared data for editing\n",
      "Performing pre-edit metric calculations on validation set.\n"
     ]
    },
    {
     "name": "stderr",
     "output_type": "stream",
     "text": [
      "100%|██████████████████████████████████████████| 274/274 [00:09<00:00, 28.17it/s]"
     ]
    },
    {
     "name": "stdout",
     "output_type": "stream",
     "text": [
      "Pre-edit metrics: {'TP': array([6142, 5382, 5203, 3842, 4270, 2990, 5659, 5136, 4820, 4679]), 'TN': array([60115, 61110, 59441, 59902, 60157, 61756, 61050, 61747, 61643,\n",
      "       61202]), 'FPs': array([2885, 1890, 3559, 3098, 2843, 1244, 1950, 1253, 1357, 1798]), 'FNs': array([ 858, 1618, 1797, 3158, 2730, 4010, 1341, 1864, 2180, 2321]), 'accuracy': 0.6874714285714286, 'per_class_accuracy': array([0.94652857, 0.94988571, 0.92348571, 0.91062857, 0.92038571,\n",
      "       0.92494286, 0.95298571, 0.95547143, 0.94947143, 0.94115714]), 'per_class_accuracy_mean': 0.9374942857142857, 'precision': array([0.68040323, 0.74009901, 0.5938142 , 0.55360231, 0.60030929,\n",
      "       0.706188  , 0.74372454, 0.80388167, 0.78031407, 0.72240235]), 'precision_mean': 0.6924738665961387, 'recall': array([0.87742857, 0.76885714, 0.74328571, 0.54885714, 0.61      ,\n",
      "       0.42714286, 0.80842857, 0.73371429, 0.68857143, 0.66842857]), 'recall_mean': 0.6874714285714286, 'f1': array([0.7664566 , 0.75420404, 0.66019541, 0.55121951, 0.60511585,\n",
      "       0.53231262, 0.77472791, 0.76719695, 0.73157775, 0.69436818]), 'f1_mean': 0.6837374824369241}\n",
      "Saved pre-edit metrics saved/edit/trials/identity_cov/CINIC10_ImageNet-VGG_16/0117_201313/dog-train-n02116738_10613/slic_masked_1/models/pre_edit_metrics.pth\n",
      "Using passed in covariance data loader.\n",
      "Looking for covariance matrix weights in cache/cinic-10-imagenet-dummy/vgg16_bn-12\n"
     ]
    },
    {
     "name": "stderr",
     "output_type": "stream",
     "text": [
      "\n"
     ]
    },
    {
     "name": "stdout",
     "output_type": "stream",
     "text": [
      "Found precomputed cov matrices, returning...\n",
      "tensor([[ 1.0000e+00, -1.8504e-05, -3.8476e-05, -1.9159e-05, -4.0293e-05,\n",
      "         -3.1667e-05, -2.4137e-05, -2.9244e-05, -4.0682e-05, -2.2710e-05],\n",
      "        [-1.8504e-05,  1.0000e+00, -2.8878e-05, -1.2513e-05, -2.8300e-05,\n",
      "         -2.1209e-05, -1.7897e-05, -2.0580e-05, -2.4006e-05, -1.4785e-05],\n",
      "        [-3.8476e-05, -2.8878e-05,  1.0000e+00, -2.8741e-05, -6.1447e-05,\n",
      "         -4.6148e-05, -3.9829e-05, -4.5861e-05, -4.7019e-05, -3.5061e-05],\n",
      "        [-1.9159e-05, -1.2513e-05, -2.8741e-05,  1.0000e+00, -2.7411e-05,\n",
      "         -2.1258e-05, -1.7047e-05, -1.9973e-05, -2.4082e-05, -1.5679e-05],\n",
      "        [-4.0293e-05, -2.8300e-05, -6.1447e-05, -2.7411e-05,  1.0000e+00,\n",
      "         -4.6443e-05, -5.1575e-05, -4.8059e-05, -5.6685e-05, -3.6807e-05],\n",
      "        [-3.1667e-05, -2.1209e-05, -4.6148e-05, -2.1258e-05, -4.6443e-05,\n",
      "          1.0000e+00, -2.6984e-05, -3.3795e-05, -4.0129e-05, -2.3401e-05],\n",
      "        [-2.4137e-05, -1.7897e-05, -3.9829e-05, -1.7047e-05, -5.1575e-05,\n",
      "         -2.6984e-05,  1.0000e+00, -2.8577e-05, -3.1210e-05, -3.0226e-05],\n",
      "        [-2.9244e-05, -2.0580e-05, -4.5861e-05, -1.9973e-05, -4.8059e-05,\n",
      "         -3.3795e-05, -2.8577e-05,  1.0000e+00, -3.8494e-05, -2.2827e-05],\n",
      "        [-4.0682e-05, -2.4006e-05, -4.7019e-05, -2.4082e-05, -5.6685e-05,\n",
      "         -4.0129e-05, -3.1210e-05, -3.8494e-05,  1.0000e+00, -2.6560e-05],\n",
      "        [-2.2710e-05, -1.4785e-05, -3.5061e-05, -1.5679e-05, -3.6807e-05,\n",
      "         -2.3401e-05, -3.0226e-05, -2.2827e-05, -2.6560e-05,  1.0000e+00]],\n",
      "       device='cuda:0')\n"
     ]
    },
    {
     "name": "stderr",
     "output_type": "stream",
     "text": [
      "tensor(0.0048, device='cuda:0', grad_fn=<DivBackward0>): 100%|█| 40000/40000 [00:"
     ]
    },
    {
     "name": "stdout",
     "output_type": "stream",
     "text": [
      "Loss (orig, final): 0.09187696129083633 0.004836311563849449\n",
      "L2 norm of weight change: 0.42893439531326294\n",
      "Performing post-edit metric calculations on validation set.\n"
     ]
    },
    {
     "name": "stderr",
     "output_type": "stream",
     "text": [
      "\n",
      "100%|██████████████████████████████████████████| 274/274 [00:09<00:00, 27.88it/s]"
     ]
    },
    {
     "name": "stdout",
     "output_type": "stream",
     "text": [
      "Post-edit metrics: {'TP': array([5965, 5310, 4975, 3757, 4819, 3306, 5745,    0, 5393, 4173]), 'TN': array([60812, 61256, 60143, 59810, 54532, 60927, 60743, 63000, 60245,\n",
      "       61975]), 'FPs': array([2188, 1744, 2857, 3190, 8468, 2073, 2257,    0, 2755, 1025]), 'FNs': array([1035, 1690, 2025, 3243, 2181, 3694, 1255, 7000, 1607, 2827]), 'accuracy': 0.6206142857142857, 'per_class_accuracy': array([0.95395714, 0.95094286, 0.93025714, 0.9081    , 0.84787143,\n",
      "       0.91761429, 0.94982857, 0.9       , 0.93768571, 0.94497143]), 'per_class_accuracy_mean': 0.9241228571428571, 'precision': array([0.73163253, 0.75276439, 0.6352145 , 0.54080898, 0.36268533,\n",
      "       0.61461238, 0.71794551, 0.        , 0.66188022, 0.80280877]), 'precision_mean': 0.5820352619035006, 'recall': array([0.85214286, 0.75857143, 0.71071429, 0.53671429, 0.68842857,\n",
      "       0.47228571, 0.82071429, 0.        , 0.77042857, 0.59614286]), 'recall_mean': 0.6206142857142857, 'f1': array([0.78730284, 0.75565675, 0.67084682, 0.53875385, 0.47508257,\n",
      "       0.53413038, 0.76589788, 0.        , 0.71204119, 0.68421053]), 'f1_mean': 0.592392281585766}\n",
      "Saved post-edit metrics saved/edit/trials/identity_cov/CINIC10_ImageNet-VGG_16/0117_201313/dog-train-n02116738_10613/slic_masked_1/models/post_edit_metrics.pth\n",
      "All metrics and KNN results can be found in saved/edit/trials/identity_cov/CINIC10_ImageNet-VGG_16/0117_201313/dog-train-n02116738_10613/slic_masked_1/models\n"
     ]
    },
    {
     "name": "stderr",
     "output_type": "stream",
     "text": [
      "\n",
      "/n/fs/ac-editing/model-editing/src/model/metric.py:165: RuntimeWarning: invalid value encountered in divide\n",
      "  return np.nan_to_num(TPs / (TPs + FPs))\n",
      "/n/fs/ac-editing/model-editing/src/model/metric.py:202: RuntimeWarning: invalid value encountered in divide\n",
      "  return np.nan_to_num(2 * precisions * recalls / (precisions + recalls))\n"
     ]
    },
    {
     "name": "stdout",
     "output_type": "stream",
     "text": [
      "saved/edit/trials/identity_cov/CINIC10_ImageNet-VGG_16/0117_201313/dog-train-n02116738_10613/slic_masked_1/identity\n",
      "Calling edit()...\n",
      "Created ModelWrapperSanturkar model with 33646666 trainable parameters\n",
      "Restored weights from external_code/PyTorch_CIFAR10/cifar10_models/state_dicts/vgg16_bn.pt\n",
      "Using passed in data loader for validation.\n",
      "Key images: data/cinic-10-imagenet/train/dog/n02116738_10613.png\n",
      "Value images: saved/segmentations/dog/dog-train-n02116738_10613/modified_images/slic_masked_1.png\n",
      "Masks: None\n",
      "Prepared data for editing\n",
      "Performing pre-edit metric calculations on validation set.\n"
     ]
    },
    {
     "name": "stderr",
     "output_type": "stream",
     "text": [
      "100%|██████████████████████████████████████████| 274/274 [00:10<00:00, 27.21it/s]"
     ]
    },
    {
     "name": "stdout",
     "output_type": "stream",
     "text": [
      "Pre-edit metrics: {'TP': array([6142, 5382, 5203, 3842, 4270, 2990, 5659, 5136, 4820, 4679]), 'TN': array([60115, 61110, 59441, 59902, 60157, 61756, 61050, 61747, 61643,\n",
      "       61202]), 'FPs': array([2885, 1890, 3559, 3098, 2843, 1244, 1950, 1253, 1357, 1798]), 'FNs': array([ 858, 1618, 1797, 3158, 2730, 4010, 1341, 1864, 2180, 2321]), 'accuracy': 0.6874714285714286, 'per_class_accuracy': array([0.94652857, 0.94988571, 0.92348571, 0.91062857, 0.92038571,\n",
      "       0.92494286, 0.95298571, 0.95547143, 0.94947143, 0.94115714]), 'per_class_accuracy_mean': 0.9374942857142857, 'precision': array([0.68040323, 0.74009901, 0.5938142 , 0.55360231, 0.60030929,\n",
      "       0.706188  , 0.74372454, 0.80388167, 0.78031407, 0.72240235]), 'precision_mean': 0.6924738665961387, 'recall': array([0.87742857, 0.76885714, 0.74328571, 0.54885714, 0.61      ,\n",
      "       0.42714286, 0.80842857, 0.73371429, 0.68857143, 0.66842857]), 'recall_mean': 0.6874714285714286, 'f1': array([0.7664566 , 0.75420404, 0.66019541, 0.55121951, 0.60511585,\n",
      "       0.53231262, 0.77472791, 0.76719695, 0.73157775, 0.69436818]), 'f1_mean': 0.6837374824369241}\n",
      "Saved pre-edit metrics saved/edit/trials/identity_cov/CINIC10_ImageNet-VGG_16/0117_201313/dog-train-n02116738_10613/slic_masked_1/identity/models/pre_edit_metrics.pth\n",
      "No data loader for covariance matrix. Will use identity matrix\n",
      "Looking for covariance matrix weights in cache/identity/vgg16_bn-12\n"
     ]
    },
    {
     "name": "stderr",
     "output_type": "stream",
     "text": [
      "\n"
     ]
    },
    {
     "name": "stdout",
     "output_type": "stream",
     "text": [
      "Found precomputed cov matrices, returning...\n",
      "tensor([[1., 0., 0., 0., 0., 0., 0., 0., 0., 0.],\n",
      "        [0., 1., 0., 0., 0., 0., 0., 0., 0., 0.],\n",
      "        [0., 0., 1., 0., 0., 0., 0., 0., 0., 0.],\n",
      "        [0., 0., 0., 1., 0., 0., 0., 0., 0., 0.],\n",
      "        [0., 0., 0., 0., 1., 0., 0., 0., 0., 0.],\n",
      "        [0., 0., 0., 0., 0., 1., 0., 0., 0., 0.],\n",
      "        [0., 0., 0., 0., 0., 0., 1., 0., 0., 0.],\n",
      "        [0., 0., 0., 0., 0., 0., 0., 1., 0., 0.],\n",
      "        [0., 0., 0., 0., 0., 0., 0., 0., 1., 0.],\n",
      "        [0., 0., 0., 0., 0., 0., 0., 0., 0., 1.]], device='cuda:0')\n"
     ]
    },
    {
     "name": "stderr",
     "output_type": "stream",
     "text": [
      "tensor(0.0048, device='cuda:0', grad_fn=<DivBackward0>): 100%|█| 40000/40000 [00:"
     ]
    },
    {
     "name": "stdout",
     "output_type": "stream",
     "text": [
      "Loss (orig, final): 0.09187696129083633 0.004807911813259125\n",
      "L2 norm of weight change: 0.4310188591480255\n",
      "Performing post-edit metric calculations on validation set.\n"
     ]
    },
    {
     "name": "stderr",
     "output_type": "stream",
     "text": [
      "\n",
      "100%|██████████████████████████████████████████| 274/274 [00:10<00:00, 25.39it/s]"
     ]
    },
    {
     "name": "stdout",
     "output_type": "stream",
     "text": [
      "Post-edit metrics: {'TP': array([5961, 5307, 4974, 3755, 4826, 3303, 5746,    0, 5411, 4166]), 'TN': array([60838, 61270, 60162, 59806, 54510, 60934, 60744, 63000, 60198,\n",
      "       61987]), 'FPs': array([2162, 1730, 2838, 3194, 8490, 2066, 2256,    0, 2802, 1013]), 'FNs': array([1039, 1693, 2026, 3245, 2174, 3697, 1254, 7000, 1589, 2834]), 'accuracy': 0.6207, 'per_class_accuracy': array([0.95427143, 0.9511    , 0.93051429, 0.90801429, 0.84765714,\n",
      "       0.91767143, 0.94985714, 0.9       , 0.93727143, 0.94504286]), 'per_class_accuracy_mean': 0.9241400000000001, 'precision': array([0.73384218, 0.7541566 , 0.63671275, 0.54036552, 0.36242115,\n",
      "       0.61519836, 0.71807048, 0.        , 0.65883356, 0.80440239]), 'precision_mean': 0.5824002988868197, 'recall': array([0.85157143, 0.75814286, 0.71057143, 0.53642857, 0.68942857,\n",
      "       0.47185714, 0.82085714, 0.        , 0.773     , 0.59514286]), 'recall_mean': 0.6206999999999999, 'f1': array([0.78833565, 0.75614448, 0.67161761, 0.53838985, 0.47509352,\n",
      "       0.53407713, 0.7660312 , 0.        , 0.71136528, 0.68412842]), 'f1_mean': 0.5925183123039653}\n",
      "Saved post-edit metrics saved/edit/trials/identity_cov/CINIC10_ImageNet-VGG_16/0117_201313/dog-train-n02116738_10613/slic_masked_1/identity/models/post_edit_metrics.pth\n",
      "All metrics and KNN results can be found in saved/edit/trials/identity_cov/CINIC10_ImageNet-VGG_16/0117_201313/dog-train-n02116738_10613/slic_masked_1/identity/models\n"
     ]
    },
    {
     "name": "stderr",
     "output_type": "stream",
     "text": [
      "\n",
      "/n/fs/ac-editing/model-editing/src/model/metric.py:165: RuntimeWarning: invalid value encountered in divide\n",
      "  return np.nan_to_num(TPs / (TPs + FPs))\n",
      "/n/fs/ac-editing/model-editing/src/model/metric.py:202: RuntimeWarning: invalid value encountered in divide\n",
      "  return np.nan_to_num(2 * precisions * recalls / (precisions + recalls))\n"
     ]
    },
    {
     "name": "stdout",
     "output_type": "stream",
     "text": [
      "Finished trial 23/37. Results saved to saved/edit/trials/identity_cov/CINIC10_ImageNet-VGG_16/0117_201313/dog-train-n02116738_10613/slic_masked_1/identity\n",
      "(0117_210232) Starting Trial 24/37...\n",
      "Current run_id: 0117_201313/dog-train-n02116738_10613/watershed_gaussian_7\n",
      "saved/edit/trials/identity_cov/CINIC10_ImageNet-VGG_16/0117_201313/dog-train-n02116738_10613/watershed_gaussian_7\n",
      "Calling edit()...\n",
      "Created ModelWrapperSanturkar model with 33646666 trainable parameters\n",
      "Restored weights from external_code/PyTorch_CIFAR10/cifar10_models/state_dicts/vgg16_bn.pt\n",
      "Using passed in data loader for validation.\n",
      "Key images: data/cinic-10-imagenet/train/dog/n02116738_10613.png\n",
      "Value images: saved/segmentations/dog/dog-train-n02116738_10613/modified_images/watershed_gaussian_7.png\n",
      "Masks: None\n",
      "Prepared data for editing\n",
      "Performing pre-edit metric calculations on validation set.\n"
     ]
    },
    {
     "name": "stderr",
     "output_type": "stream",
     "text": [
      "100%|██████████████████████████████████████████| 274/274 [00:09<00:00, 29.52it/s]"
     ]
    },
    {
     "name": "stdout",
     "output_type": "stream",
     "text": [
      "Pre-edit metrics: {'TP': array([6142, 5382, 5203, 3842, 4270, 2990, 5659, 5136, 4820, 4679]), 'TN': array([60115, 61110, 59441, 59902, 60157, 61756, 61050, 61747, 61643,\n",
      "       61202]), 'FPs': array([2885, 1890, 3559, 3098, 2843, 1244, 1950, 1253, 1357, 1798]), 'FNs': array([ 858, 1618, 1797, 3158, 2730, 4010, 1341, 1864, 2180, 2321]), 'accuracy': 0.6874714285714286, 'per_class_accuracy': array([0.94652857, 0.94988571, 0.92348571, 0.91062857, 0.92038571,\n",
      "       0.92494286, 0.95298571, 0.95547143, 0.94947143, 0.94115714]), 'per_class_accuracy_mean': 0.9374942857142857, 'precision': array([0.68040323, 0.74009901, 0.5938142 , 0.55360231, 0.60030929,\n",
      "       0.706188  , 0.74372454, 0.80388167, 0.78031407, 0.72240235]), 'precision_mean': 0.6924738665961387, 'recall': array([0.87742857, 0.76885714, 0.74328571, 0.54885714, 0.61      ,\n",
      "       0.42714286, 0.80842857, 0.73371429, 0.68857143, 0.66842857]), 'recall_mean': 0.6874714285714286, 'f1': array([0.7664566 , 0.75420404, 0.66019541, 0.55121951, 0.60511585,\n",
      "       0.53231262, 0.77472791, 0.76719695, 0.73157775, 0.69436818]), 'f1_mean': 0.6837374824369241}\n",
      "Saved pre-edit metrics saved/edit/trials/identity_cov/CINIC10_ImageNet-VGG_16/0117_201313/dog-train-n02116738_10613/watershed_gaussian_7/models/pre_edit_metrics.pth\n",
      "Using passed in covariance data loader.\n",
      "Looking for covariance matrix weights in cache/cinic-10-imagenet-dummy/vgg16_bn-12\n"
     ]
    },
    {
     "name": "stderr",
     "output_type": "stream",
     "text": [
      "\n"
     ]
    },
    {
     "name": "stdout",
     "output_type": "stream",
     "text": [
      "Found precomputed cov matrices, returning...\n",
      "tensor([[ 1.0000e+00, -1.8504e-05, -3.8476e-05, -1.9159e-05, -4.0293e-05,\n",
      "         -3.1667e-05, -2.4137e-05, -2.9244e-05, -4.0682e-05, -2.2710e-05],\n",
      "        [-1.8504e-05,  1.0000e+00, -2.8878e-05, -1.2513e-05, -2.8300e-05,\n",
      "         -2.1209e-05, -1.7897e-05, -2.0580e-05, -2.4006e-05, -1.4785e-05],\n",
      "        [-3.8476e-05, -2.8878e-05,  1.0000e+00, -2.8741e-05, -6.1447e-05,\n",
      "         -4.6148e-05, -3.9829e-05, -4.5861e-05, -4.7019e-05, -3.5061e-05],\n",
      "        [-1.9159e-05, -1.2513e-05, -2.8741e-05,  1.0000e+00, -2.7411e-05,\n",
      "         -2.1258e-05, -1.7047e-05, -1.9973e-05, -2.4082e-05, -1.5679e-05],\n",
      "        [-4.0293e-05, -2.8300e-05, -6.1447e-05, -2.7411e-05,  1.0000e+00,\n",
      "         -4.6443e-05, -5.1575e-05, -4.8059e-05, -5.6685e-05, -3.6807e-05],\n",
      "        [-3.1667e-05, -2.1209e-05, -4.6148e-05, -2.1258e-05, -4.6443e-05,\n",
      "          1.0000e+00, -2.6984e-05, -3.3795e-05, -4.0129e-05, -2.3401e-05],\n",
      "        [-2.4137e-05, -1.7897e-05, -3.9829e-05, -1.7047e-05, -5.1575e-05,\n",
      "         -2.6984e-05,  1.0000e+00, -2.8577e-05, -3.1210e-05, -3.0226e-05],\n",
      "        [-2.9244e-05, -2.0580e-05, -4.5861e-05, -1.9973e-05, -4.8059e-05,\n",
      "         -3.3795e-05, -2.8577e-05,  1.0000e+00, -3.8494e-05, -2.2827e-05],\n",
      "        [-4.0682e-05, -2.4006e-05, -4.7019e-05, -2.4082e-05, -5.6685e-05,\n",
      "         -4.0129e-05, -3.1210e-05, -3.8494e-05,  1.0000e+00, -2.6560e-05],\n",
      "        [-2.2710e-05, -1.4785e-05, -3.5061e-05, -1.5679e-05, -3.6807e-05,\n",
      "         -2.3401e-05, -3.0226e-05, -2.2827e-05, -2.6560e-05,  1.0000e+00]],\n",
      "       device='cuda:0')\n"
     ]
    },
    {
     "name": "stderr",
     "output_type": "stream",
     "text": [
      "tensor(0.0043, device='cuda:0', grad_fn=<DivBackward0>): 100%|█| 40000/40000 [00:"
     ]
    },
    {
     "name": "stdout",
     "output_type": "stream",
     "text": [
      "Loss (orig, final): 0.033444132655858994 0.0043074702844023705\n",
      "L2 norm of weight change: 0.17657847702503204\n",
      "Performing post-edit metric calculations on validation set.\n"
     ]
    },
    {
     "name": "stderr",
     "output_type": "stream",
     "text": [
      "\n",
      "100%|██████████████████████████████████████████| 274/274 [00:09<00:00, 28.94it/s]"
     ]
    },
    {
     "name": "stdout",
     "output_type": "stream",
     "text": [
      "Post-edit metrics: {'TP': array([6116, 5397, 5191, 4013, 4072, 3162, 5622, 5034, 4865, 4641]), 'TN': array([60196, 61085, 59493, 59382, 60571, 61424, 61153, 61928, 61588,\n",
      "       61293]), 'FPs': array([2804, 1915, 3507, 3618, 2429, 1576, 1847, 1072, 1412, 1707]), 'FNs': array([ 884, 1603, 1809, 2987, 2928, 3838, 1378, 1966, 2135, 2359]), 'accuracy': 0.6873285714285714, 'per_class_accuracy': array([0.94731429, 0.94974286, 0.92405714, 0.90564286, 0.92347143,\n",
      "       0.92265714, 0.95392857, 0.9566    , 0.94932857, 0.94191429]), 'per_class_accuracy_mean': 0.9374657142857142, 'precision': array([0.68565022, 0.73810175, 0.59680386, 0.52588127, 0.62636517,\n",
      "       0.6673702 , 0.75271121, 0.82443498, 0.77505178, 0.73109641]), 'precision_mean': 0.6923466857403807, 'recall': array([0.87371429, 0.771     , 0.74157143, 0.57328571, 0.58171429,\n",
      "       0.45171429, 0.80314286, 0.71914286, 0.695     , 0.663     ]), 'recall_mean': 0.6873285714285714, 'f1': array([0.76834171, 0.75419229, 0.66135813, 0.54856127, 0.60321458,\n",
      "       0.53876299, 0.77710968, 0.76819777, 0.73284628, 0.69538508]), 'f1_mean': 0.6847969778940316}\n",
      "Saved post-edit metrics saved/edit/trials/identity_cov/CINIC10_ImageNet-VGG_16/0117_201313/dog-train-n02116738_10613/watershed_gaussian_7/models/post_edit_metrics.pth\n",
      "All metrics and KNN results can be found in saved/edit/trials/identity_cov/CINIC10_ImageNet-VGG_16/0117_201313/dog-train-n02116738_10613/watershed_gaussian_7/models\n"
     ]
    },
    {
     "name": "stderr",
     "output_type": "stream",
     "text": [
      "\n"
     ]
    },
    {
     "name": "stdout",
     "output_type": "stream",
     "text": [
      "saved/edit/trials/identity_cov/CINIC10_ImageNet-VGG_16/0117_201313/dog-train-n02116738_10613/watershed_gaussian_7/identity\n",
      "Calling edit()...\n",
      "Created ModelWrapperSanturkar model with 33646666 trainable parameters\n",
      "Restored weights from external_code/PyTorch_CIFAR10/cifar10_models/state_dicts/vgg16_bn.pt\n",
      "Using passed in data loader for validation.\n",
      "Key images: data/cinic-10-imagenet/train/dog/n02116738_10613.png\n",
      "Value images: saved/segmentations/dog/dog-train-n02116738_10613/modified_images/watershed_gaussian_7.png\n",
      "Masks: None\n",
      "Prepared data for editing\n",
      "Performing pre-edit metric calculations on validation set.\n"
     ]
    },
    {
     "name": "stderr",
     "output_type": "stream",
     "text": [
      "100%|██████████████████████████████████████████| 274/274 [00:09<00:00, 29.21it/s]"
     ]
    },
    {
     "name": "stdout",
     "output_type": "stream",
     "text": [
      "Pre-edit metrics: {'TP': array([6142, 5382, 5203, 3842, 4270, 2990, 5659, 5136, 4820, 4679]), 'TN': array([60115, 61110, 59441, 59902, 60157, 61756, 61050, 61747, 61643,\n",
      "       61202]), 'FPs': array([2885, 1890, 3559, 3098, 2843, 1244, 1950, 1253, 1357, 1798]), 'FNs': array([ 858, 1618, 1797, 3158, 2730, 4010, 1341, 1864, 2180, 2321]), 'accuracy': 0.6874714285714286, 'per_class_accuracy': array([0.94652857, 0.94988571, 0.92348571, 0.91062857, 0.92038571,\n",
      "       0.92494286, 0.95298571, 0.95547143, 0.94947143, 0.94115714]), 'per_class_accuracy_mean': 0.9374942857142857, 'precision': array([0.68040323, 0.74009901, 0.5938142 , 0.55360231, 0.60030929,\n",
      "       0.706188  , 0.74372454, 0.80388167, 0.78031407, 0.72240235]), 'precision_mean': 0.6924738665961387, 'recall': array([0.87742857, 0.76885714, 0.74328571, 0.54885714, 0.61      ,\n",
      "       0.42714286, 0.80842857, 0.73371429, 0.68857143, 0.66842857]), 'recall_mean': 0.6874714285714286, 'f1': array([0.7664566 , 0.75420404, 0.66019541, 0.55121951, 0.60511585,\n",
      "       0.53231262, 0.77472791, 0.76719695, 0.73157775, 0.69436818]), 'f1_mean': 0.6837374824369241}\n",
      "Saved pre-edit metrics saved/edit/trials/identity_cov/CINIC10_ImageNet-VGG_16/0117_201313/dog-train-n02116738_10613/watershed_gaussian_7/identity/models/pre_edit_metrics.pth\n",
      "No data loader for covariance matrix. Will use identity matrix\n",
      "Looking for covariance matrix weights in cache/identity/vgg16_bn-12\n"
     ]
    },
    {
     "name": "stderr",
     "output_type": "stream",
     "text": [
      "\n"
     ]
    },
    {
     "name": "stdout",
     "output_type": "stream",
     "text": [
      "Found precomputed cov matrices, returning...\n",
      "tensor([[1., 0., 0., 0., 0., 0., 0., 0., 0., 0.],\n",
      "        [0., 1., 0., 0., 0., 0., 0., 0., 0., 0.],\n",
      "        [0., 0., 1., 0., 0., 0., 0., 0., 0., 0.],\n",
      "        [0., 0., 0., 1., 0., 0., 0., 0., 0., 0.],\n",
      "        [0., 0., 0., 0., 1., 0., 0., 0., 0., 0.],\n",
      "        [0., 0., 0., 0., 0., 1., 0., 0., 0., 0.],\n",
      "        [0., 0., 0., 0., 0., 0., 1., 0., 0., 0.],\n",
      "        [0., 0., 0., 0., 0., 0., 0., 1., 0., 0.],\n",
      "        [0., 0., 0., 0., 0., 0., 0., 0., 1., 0.],\n",
      "        [0., 0., 0., 0., 0., 0., 0., 0., 0., 1.]], device='cuda:0')\n"
     ]
    },
    {
     "name": "stderr",
     "output_type": "stream",
     "text": [
      "tensor(0.0044, device='cuda:0', grad_fn=<DivBackward0>): 100%|█| 40000/40000 [00:"
     ]
    },
    {
     "name": "stdout",
     "output_type": "stream",
     "text": [
      "Loss (orig, final): 0.033444132655858994 0.004413971211761236\n",
      "L2 norm of weight change: 0.17742644250392914\n",
      "Performing post-edit metric calculations on validation set.\n"
     ]
    },
    {
     "name": "stderr",
     "output_type": "stream",
     "text": [
      "\n",
      "100%|██████████████████████████████████████████| 274/274 [00:09<00:00, 28.25it/s]"
     ]
    },
    {
     "name": "stdout",
     "output_type": "stream",
     "text": [
      "Post-edit metrics: {'TP': array([6116, 5397, 5191, 4013, 4071, 3164, 5622, 5034, 4865, 4636]), 'TN': array([60195, 61083, 59491, 59383, 60575, 61421, 61154, 61927, 61586,\n",
      "       61294]), 'FPs': array([2805, 1917, 3509, 3617, 2425, 1579, 1846, 1073, 1414, 1706]), 'FNs': array([ 884, 1603, 1809, 2987, 2929, 3836, 1378, 1966, 2135, 2364]), 'accuracy': 0.6872714285714285, 'per_class_accuracy': array([0.9473    , 0.94971429, 0.92402857, 0.90565714, 0.92351429,\n",
      "       0.92264286, 0.95394286, 0.95658571, 0.9493    , 0.94185714]), 'per_class_accuracy_mean': 0.9374542857142858, 'precision': array([0.68557337, 0.73789992, 0.59666667, 0.5259502 , 0.62669335,\n",
      "       0.66708834, 0.752812  , 0.82429998, 0.77480491, 0.73099968]), 'precision_mean': 0.6922788409270115, 'recall': array([0.87371429, 0.771     , 0.74157143, 0.57328571, 0.58157143,\n",
      "       0.452     , 0.80314286, 0.71914286, 0.695     , 0.66228571]), 'recall_mean': 0.6872714285714285, 'f1': array([0.76829345, 0.75408691, 0.66127389, 0.54859877, 0.60328986,\n",
      "       0.53887422, 0.7771634 , 0.76813916, 0.7327359 , 0.69494828]), 'f1_mean': 0.6847403838194333}\n",
      "Saved post-edit metrics saved/edit/trials/identity_cov/CINIC10_ImageNet-VGG_16/0117_201313/dog-train-n02116738_10613/watershed_gaussian_7/identity/models/post_edit_metrics.pth\n",
      "All metrics and KNN results can be found in saved/edit/trials/identity_cov/CINIC10_ImageNet-VGG_16/0117_201313/dog-train-n02116738_10613/watershed_gaussian_7/identity/models\n",
      "Finished trial 24/37. Results saved to saved/edit/trials/identity_cov/CINIC10_ImageNet-VGG_16/0117_201313/dog-train-n02116738_10613/watershed_gaussian_7/identity\n",
      "(0117_210429) Starting Trial 25/37...\n",
      "Current run_id: 0117_201313/dog-train-n02114367_8883/quickshift_gaussian_2\n"
     ]
    },
    {
     "name": "stderr",
     "output_type": "stream",
     "text": [
      "\n"
     ]
    },
    {
     "name": "stdout",
     "output_type": "stream",
     "text": [
      "saved/edit/trials/identity_cov/CINIC10_ImageNet-VGG_16/0117_201313/dog-train-n02114367_8883/quickshift_gaussian_2\n",
      "Calling edit()...\n",
      "Created ModelWrapperSanturkar model with 33646666 trainable parameters\n",
      "Restored weights from external_code/PyTorch_CIFAR10/cifar10_models/state_dicts/vgg16_bn.pt\n",
      "Using passed in data loader for validation.\n",
      "Key images: data/cinic-10-imagenet/train/dog/n02114367_8883.png\n",
      "Value images: saved/segmentations/dog/dog-train-n02114367_8883/modified_images/quickshift_gaussian_2.png\n",
      "Masks: None\n",
      "Prepared data for editing\n",
      "Performing pre-edit metric calculations on validation set.\n"
     ]
    },
    {
     "name": "stderr",
     "output_type": "stream",
     "text": [
      "100%|██████████████████████████████████████████| 274/274 [00:09<00:00, 27.68it/s]"
     ]
    },
    {
     "name": "stdout",
     "output_type": "stream",
     "text": [
      "Pre-edit metrics: {'TP': array([6142, 5382, 5203, 3842, 4270, 2990, 5659, 5136, 4820, 4679]), 'TN': array([60115, 61110, 59441, 59902, 60157, 61756, 61050, 61747, 61643,\n",
      "       61202]), 'FPs': array([2885, 1890, 3559, 3098, 2843, 1244, 1950, 1253, 1357, 1798]), 'FNs': array([ 858, 1618, 1797, 3158, 2730, 4010, 1341, 1864, 2180, 2321]), 'accuracy': 0.6874714285714286, 'per_class_accuracy': array([0.94652857, 0.94988571, 0.92348571, 0.91062857, 0.92038571,\n",
      "       0.92494286, 0.95298571, 0.95547143, 0.94947143, 0.94115714]), 'per_class_accuracy_mean': 0.9374942857142857, 'precision': array([0.68040323, 0.74009901, 0.5938142 , 0.55360231, 0.60030929,\n",
      "       0.706188  , 0.74372454, 0.80388167, 0.78031407, 0.72240235]), 'precision_mean': 0.6924738665961387, 'recall': array([0.87742857, 0.76885714, 0.74328571, 0.54885714, 0.61      ,\n",
      "       0.42714286, 0.80842857, 0.73371429, 0.68857143, 0.66842857]), 'recall_mean': 0.6874714285714286, 'f1': array([0.7664566 , 0.75420404, 0.66019541, 0.55121951, 0.60511585,\n",
      "       0.53231262, 0.77472791, 0.76719695, 0.73157775, 0.69436818]), 'f1_mean': 0.6837374824369241}\n",
      "Saved pre-edit metrics saved/edit/trials/identity_cov/CINIC10_ImageNet-VGG_16/0117_201313/dog-train-n02114367_8883/quickshift_gaussian_2/models/pre_edit_metrics.pth\n",
      "Using passed in covariance data loader.\n",
      "Looking for covariance matrix weights in cache/cinic-10-imagenet-dummy/vgg16_bn-12\n"
     ]
    },
    {
     "name": "stderr",
     "output_type": "stream",
     "text": [
      "\n"
     ]
    },
    {
     "name": "stdout",
     "output_type": "stream",
     "text": [
      "Found precomputed cov matrices, returning...\n",
      "tensor([[ 1.0000e+00, -1.8504e-05, -3.8476e-05, -1.9159e-05, -4.0293e-05,\n",
      "         -3.1667e-05, -2.4137e-05, -2.9244e-05, -4.0682e-05, -2.2710e-05],\n",
      "        [-1.8504e-05,  1.0000e+00, -2.8878e-05, -1.2513e-05, -2.8300e-05,\n",
      "         -2.1209e-05, -1.7897e-05, -2.0580e-05, -2.4006e-05, -1.4785e-05],\n",
      "        [-3.8476e-05, -2.8878e-05,  1.0000e+00, -2.8741e-05, -6.1447e-05,\n",
      "         -4.6148e-05, -3.9829e-05, -4.5861e-05, -4.7019e-05, -3.5061e-05],\n",
      "        [-1.9159e-05, -1.2513e-05, -2.8741e-05,  1.0000e+00, -2.7411e-05,\n",
      "         -2.1258e-05, -1.7047e-05, -1.9973e-05, -2.4082e-05, -1.5679e-05],\n",
      "        [-4.0293e-05, -2.8300e-05, -6.1447e-05, -2.7411e-05,  1.0000e+00,\n",
      "         -4.6443e-05, -5.1575e-05, -4.8059e-05, -5.6685e-05, -3.6807e-05],\n",
      "        [-3.1667e-05, -2.1209e-05, -4.6148e-05, -2.1258e-05, -4.6443e-05,\n",
      "          1.0000e+00, -2.6984e-05, -3.3795e-05, -4.0129e-05, -2.3401e-05],\n",
      "        [-2.4137e-05, -1.7897e-05, -3.9829e-05, -1.7047e-05, -5.1575e-05,\n",
      "         -2.6984e-05,  1.0000e+00, -2.8577e-05, -3.1210e-05, -3.0226e-05],\n",
      "        [-2.9244e-05, -2.0580e-05, -4.5861e-05, -1.9973e-05, -4.8059e-05,\n",
      "         -3.3795e-05, -2.8577e-05,  1.0000e+00, -3.8494e-05, -2.2827e-05],\n",
      "        [-4.0682e-05, -2.4006e-05, -4.7019e-05, -2.4082e-05, -5.6685e-05,\n",
      "         -4.0129e-05, -3.1210e-05, -3.8494e-05,  1.0000e+00, -2.6560e-05],\n",
      "        [-2.2710e-05, -1.4785e-05, -3.5061e-05, -1.5679e-05, -3.6807e-05,\n",
      "         -2.3401e-05, -3.0226e-05, -2.2827e-05, -2.6560e-05,  1.0000e+00]],\n",
      "       device='cuda:0')\n"
     ]
    },
    {
     "name": "stderr",
     "output_type": "stream",
     "text": [
      "tensor(0.0041, device='cuda:0', grad_fn=<DivBackward0>): 100%|█| 40000/40000 [00:"
     ]
    },
    {
     "name": "stdout",
     "output_type": "stream",
     "text": [
      "Loss (orig, final): 0.0717722475528717 0.004088898655027151\n",
      "L2 norm of weight change: 0.2602207660675049\n",
      "Performing post-edit metric calculations on validation set.\n"
     ]
    },
    {
     "name": "stderr",
     "output_type": "stream",
     "text": [
      "\n",
      "100%|██████████████████████████████████████████| 274/274 [00:10<00:00, 26.40it/s]"
     ]
    },
    {
     "name": "stdout",
     "output_type": "stream",
     "text": [
      "Post-edit metrics: {'TP': array([6067, 5510, 5358, 3903, 3636, 3497, 5571, 5236, 4784, 4559]), 'TN': array([60463, 60861, 58967, 59696, 61391, 60755, 61281, 61595, 61705,\n",
      "       61407]), 'FPs': array([2537, 2139, 4033, 3304, 1609, 2245, 1719, 1405, 1295, 1593]), 'FNs': array([ 933, 1490, 1642, 3097, 3364, 3503, 1429, 1764, 2216, 2441]), 'accuracy': 0.6874428571428571, 'per_class_accuracy': array([0.95042857, 0.94815714, 0.91892857, 0.90855714, 0.92895714,\n",
      "       0.91788571, 0.95502857, 0.95472857, 0.94984286, 0.94237143]), 'per_class_accuracy_mean': 0.9374885714285714, 'precision': array([0.70513715, 0.7203556 , 0.57054627, 0.54155682, 0.69323165,\n",
      "       0.60902125, 0.76419753, 0.78843548, 0.78697154, 0.74105982]), 'precision_mean': 0.6920513097923239, 'recall': array([0.86671429, 0.78714286, 0.76542857, 0.55757143, 0.51942857,\n",
      "       0.49957143, 0.79585714, 0.748     , 0.68342857, 0.65128571]), 'recall_mean': 0.6874428571428572, 'f1': array([0.77762112, 0.75226978, 0.65377341, 0.54944746, 0.59387505,\n",
      "       0.54889342, 0.77970609, 0.76768565, 0.7315544 , 0.69327859]), 'f1_mean': 0.6848104975089255}\n",
      "Saved post-edit metrics saved/edit/trials/identity_cov/CINIC10_ImageNet-VGG_16/0117_201313/dog-train-n02114367_8883/quickshift_gaussian_2/models/post_edit_metrics.pth\n",
      "All metrics and KNN results can be found in saved/edit/trials/identity_cov/CINIC10_ImageNet-VGG_16/0117_201313/dog-train-n02114367_8883/quickshift_gaussian_2/models\n"
     ]
    },
    {
     "name": "stderr",
     "output_type": "stream",
     "text": [
      "\n"
     ]
    },
    {
     "name": "stdout",
     "output_type": "stream",
     "text": [
      "saved/edit/trials/identity_cov/CINIC10_ImageNet-VGG_16/0117_201313/dog-train-n02114367_8883/quickshift_gaussian_2/identity\n",
      "Calling edit()...\n",
      "Created ModelWrapperSanturkar model with 33646666 trainable parameters\n",
      "Restored weights from external_code/PyTorch_CIFAR10/cifar10_models/state_dicts/vgg16_bn.pt\n",
      "Using passed in data loader for validation.\n",
      "Key images: data/cinic-10-imagenet/train/dog/n02114367_8883.png\n",
      "Value images: saved/segmentations/dog/dog-train-n02114367_8883/modified_images/quickshift_gaussian_2.png\n",
      "Masks: None\n",
      "Prepared data for editing\n",
      "Performing pre-edit metric calculations on validation set.\n"
     ]
    },
    {
     "name": "stderr",
     "output_type": "stream",
     "text": [
      "100%|██████████████████████████████████████████| 274/274 [00:09<00:00, 29.00it/s]"
     ]
    },
    {
     "name": "stdout",
     "output_type": "stream",
     "text": [
      "Pre-edit metrics: {'TP': array([6142, 5382, 5203, 3842, 4270, 2990, 5659, 5136, 4820, 4679]), 'TN': array([60115, 61110, 59441, 59902, 60157, 61756, 61050, 61747, 61643,\n",
      "       61202]), 'FPs': array([2885, 1890, 3559, 3098, 2843, 1244, 1950, 1253, 1357, 1798]), 'FNs': array([ 858, 1618, 1797, 3158, 2730, 4010, 1341, 1864, 2180, 2321]), 'accuracy': 0.6874714285714286, 'per_class_accuracy': array([0.94652857, 0.94988571, 0.92348571, 0.91062857, 0.92038571,\n",
      "       0.92494286, 0.95298571, 0.95547143, 0.94947143, 0.94115714]), 'per_class_accuracy_mean': 0.9374942857142857, 'precision': array([0.68040323, 0.74009901, 0.5938142 , 0.55360231, 0.60030929,\n",
      "       0.706188  , 0.74372454, 0.80388167, 0.78031407, 0.72240235]), 'precision_mean': 0.6924738665961387, 'recall': array([0.87742857, 0.76885714, 0.74328571, 0.54885714, 0.61      ,\n",
      "       0.42714286, 0.80842857, 0.73371429, 0.68857143, 0.66842857]), 'recall_mean': 0.6874714285714286, 'f1': array([0.7664566 , 0.75420404, 0.66019541, 0.55121951, 0.60511585,\n",
      "       0.53231262, 0.77472791, 0.76719695, 0.73157775, 0.69436818]), 'f1_mean': 0.6837374824369241}\n",
      "Saved pre-edit metrics saved/edit/trials/identity_cov/CINIC10_ImageNet-VGG_16/0117_201313/dog-train-n02114367_8883/quickshift_gaussian_2/identity/models/pre_edit_metrics.pth\n",
      "No data loader for covariance matrix. Will use identity matrix\n",
      "Looking for covariance matrix weights in cache/identity/vgg16_bn-12\n"
     ]
    },
    {
     "name": "stderr",
     "output_type": "stream",
     "text": [
      "\n"
     ]
    },
    {
     "name": "stdout",
     "output_type": "stream",
     "text": [
      "Found precomputed cov matrices, returning...\n",
      "tensor([[1., 0., 0., 0., 0., 0., 0., 0., 0., 0.],\n",
      "        [0., 1., 0., 0., 0., 0., 0., 0., 0., 0.],\n",
      "        [0., 0., 1., 0., 0., 0., 0., 0., 0., 0.],\n",
      "        [0., 0., 0., 1., 0., 0., 0., 0., 0., 0.],\n",
      "        [0., 0., 0., 0., 1., 0., 0., 0., 0., 0.],\n",
      "        [0., 0., 0., 0., 0., 1., 0., 0., 0., 0.],\n",
      "        [0., 0., 0., 0., 0., 0., 1., 0., 0., 0.],\n",
      "        [0., 0., 0., 0., 0., 0., 0., 1., 0., 0.],\n",
      "        [0., 0., 0., 0., 0., 0., 0., 0., 1., 0.],\n",
      "        [0., 0., 0., 0., 0., 0., 0., 0., 0., 1.]], device='cuda:0')\n"
     ]
    },
    {
     "name": "stderr",
     "output_type": "stream",
     "text": [
      "tensor(0.0041, device='cuda:0', grad_fn=<DivBackward0>): 100%|█| 40000/40000 [00:"
     ]
    },
    {
     "name": "stdout",
     "output_type": "stream",
     "text": [
      "Loss (orig, final): 0.0717722475528717 0.004096835386008024\n",
      "L2 norm of weight change: 0.2608089745044708\n",
      "Performing post-edit metric calculations on validation set.\n"
     ]
    },
    {
     "name": "stderr",
     "output_type": "stream",
     "text": [
      "\n",
      "100%|██████████████████████████████████████████| 274/274 [00:09<00:00, 28.45it/s]"
     ]
    },
    {
     "name": "stdout",
     "output_type": "stream",
     "text": [
      "Post-edit metrics: {'TP': array([6066, 5511, 5361, 3906, 3640, 3499, 5568, 5238, 4779, 4557]), 'TN': array([60469, 60862, 58953, 59704, 61384, 60749, 61287, 61600, 61706,\n",
      "       61411]), 'FPs': array([2531, 2138, 4047, 3296, 1616, 2251, 1713, 1400, 1294, 1589]), 'FNs': array([ 934, 1489, 1639, 3094, 3360, 3501, 1432, 1762, 2221, 2443]), 'accuracy': 0.6875, 'per_class_accuracy': array([0.9505    , 0.94818571, 0.91877143, 0.90871429, 0.92891429,\n",
      "       0.91782857, 0.95507143, 0.95482857, 0.94978571, 0.9424    ]), 'per_class_accuracy_mean': 0.9374999999999998, 'precision': array([0.70559497, 0.72048634, 0.56983418, 0.54234935, 0.69254186,\n",
      "       0.60852174, 0.76473012, 0.7890931 , 0.78692574, 0.74145786]), 'precision_mean': 0.692153525566605, 'recall': array([0.86657143, 0.78728571, 0.76585714, 0.558     , 0.52      ,\n",
      "       0.49985714, 0.79542857, 0.74828571, 0.68271429, 0.651     ]), 'recall_mean': 0.6875, 'f1': array([0.77784189, 0.75240631, 0.65346173, 0.55006337, 0.59399478,\n",
      "       0.54886275, 0.77977733, 0.76814782, 0.73112522, 0.69329073]), 'f1_mean': 0.6848971924301128}\n",
      "Saved post-edit metrics saved/edit/trials/identity_cov/CINIC10_ImageNet-VGG_16/0117_201313/dog-train-n02114367_8883/quickshift_gaussian_2/identity/models/post_edit_metrics.pth\n",
      "All metrics and KNN results can be found in saved/edit/trials/identity_cov/CINIC10_ImageNet-VGG_16/0117_201313/dog-train-n02114367_8883/quickshift_gaussian_2/identity/models\n",
      "Finished trial 25/37. Results saved to saved/edit/trials/identity_cov/CINIC10_ImageNet-VGG_16/0117_201313/dog-train-n02114367_8883/quickshift_gaussian_2/identity\n",
      "(0117_210628) Starting Trial 26/37...\n",
      "Current run_id: 0117_201313/dog-train-n02114367_8883/quickshift_masked_2\n"
     ]
    },
    {
     "name": "stderr",
     "output_type": "stream",
     "text": [
      "\n"
     ]
    },
    {
     "name": "stdout",
     "output_type": "stream",
     "text": [
      "saved/edit/trials/identity_cov/CINIC10_ImageNet-VGG_16/0117_201313/dog-train-n02114367_8883/quickshift_masked_2\n",
      "Calling edit()...\n",
      "Created ModelWrapperSanturkar model with 33646666 trainable parameters\n",
      "Restored weights from external_code/PyTorch_CIFAR10/cifar10_models/state_dicts/vgg16_bn.pt\n",
      "Using passed in data loader for validation.\n",
      "Key images: data/cinic-10-imagenet/train/dog/n02114367_8883.png\n",
      "Value images: saved/segmentations/dog/dog-train-n02114367_8883/modified_images/quickshift_masked_2.png\n",
      "Masks: None\n",
      "Prepared data for editing\n",
      "Performing pre-edit metric calculations on validation set.\n"
     ]
    },
    {
     "name": "stderr",
     "output_type": "stream",
     "text": [
      "100%|██████████████████████████████████████████| 274/274 [00:10<00:00, 27.12it/s]"
     ]
    },
    {
     "name": "stdout",
     "output_type": "stream",
     "text": [
      "Pre-edit metrics: {'TP': array([6142, 5382, 5203, 3842, 4270, 2990, 5659, 5136, 4820, 4679]), 'TN': array([60115, 61110, 59441, 59902, 60157, 61756, 61050, 61747, 61643,\n",
      "       61202]), 'FPs': array([2885, 1890, 3559, 3098, 2843, 1244, 1950, 1253, 1357, 1798]), 'FNs': array([ 858, 1618, 1797, 3158, 2730, 4010, 1341, 1864, 2180, 2321]), 'accuracy': 0.6874714285714286, 'per_class_accuracy': array([0.94652857, 0.94988571, 0.92348571, 0.91062857, 0.92038571,\n",
      "       0.92494286, 0.95298571, 0.95547143, 0.94947143, 0.94115714]), 'per_class_accuracy_mean': 0.9374942857142857, 'precision': array([0.68040323, 0.74009901, 0.5938142 , 0.55360231, 0.60030929,\n",
      "       0.706188  , 0.74372454, 0.80388167, 0.78031407, 0.72240235]), 'precision_mean': 0.6924738665961387, 'recall': array([0.87742857, 0.76885714, 0.74328571, 0.54885714, 0.61      ,\n",
      "       0.42714286, 0.80842857, 0.73371429, 0.68857143, 0.66842857]), 'recall_mean': 0.6874714285714286, 'f1': array([0.7664566 , 0.75420404, 0.66019541, 0.55121951, 0.60511585,\n",
      "       0.53231262, 0.77472791, 0.76719695, 0.73157775, 0.69436818]), 'f1_mean': 0.6837374824369241}\n",
      "Saved pre-edit metrics saved/edit/trials/identity_cov/CINIC10_ImageNet-VGG_16/0117_201313/dog-train-n02114367_8883/quickshift_masked_2/models/pre_edit_metrics.pth\n",
      "Using passed in covariance data loader.\n",
      "Looking for covariance matrix weights in cache/cinic-10-imagenet-dummy/vgg16_bn-12\n"
     ]
    },
    {
     "name": "stderr",
     "output_type": "stream",
     "text": [
      "\n"
     ]
    },
    {
     "name": "stdout",
     "output_type": "stream",
     "text": [
      "Found precomputed cov matrices, returning...\n",
      "tensor([[ 1.0000e+00, -1.8504e-05, -3.8476e-05, -1.9159e-05, -4.0293e-05,\n",
      "         -3.1667e-05, -2.4137e-05, -2.9244e-05, -4.0682e-05, -2.2710e-05],\n",
      "        [-1.8504e-05,  1.0000e+00, -2.8878e-05, -1.2513e-05, -2.8300e-05,\n",
      "         -2.1209e-05, -1.7897e-05, -2.0580e-05, -2.4006e-05, -1.4785e-05],\n",
      "        [-3.8476e-05, -2.8878e-05,  1.0000e+00, -2.8741e-05, -6.1447e-05,\n",
      "         -4.6148e-05, -3.9829e-05, -4.5861e-05, -4.7019e-05, -3.5061e-05],\n",
      "        [-1.9159e-05, -1.2513e-05, -2.8741e-05,  1.0000e+00, -2.7411e-05,\n",
      "         -2.1258e-05, -1.7047e-05, -1.9973e-05, -2.4082e-05, -1.5679e-05],\n",
      "        [-4.0293e-05, -2.8300e-05, -6.1447e-05, -2.7411e-05,  1.0000e+00,\n",
      "         -4.6443e-05, -5.1575e-05, -4.8059e-05, -5.6685e-05, -3.6807e-05],\n",
      "        [-3.1667e-05, -2.1209e-05, -4.6148e-05, -2.1258e-05, -4.6443e-05,\n",
      "          1.0000e+00, -2.6984e-05, -3.3795e-05, -4.0129e-05, -2.3401e-05],\n",
      "        [-2.4137e-05, -1.7897e-05, -3.9829e-05, -1.7047e-05, -5.1575e-05,\n",
      "         -2.6984e-05,  1.0000e+00, -2.8577e-05, -3.1210e-05, -3.0226e-05],\n",
      "        [-2.9244e-05, -2.0580e-05, -4.5861e-05, -1.9973e-05, -4.8059e-05,\n",
      "         -3.3795e-05, -2.8577e-05,  1.0000e+00, -3.8494e-05, -2.2827e-05],\n",
      "        [-4.0682e-05, -2.4006e-05, -4.7019e-05, -2.4082e-05, -5.6685e-05,\n",
      "         -4.0129e-05, -3.1210e-05, -3.8494e-05,  1.0000e+00, -2.6560e-05],\n",
      "        [-2.2710e-05, -1.4785e-05, -3.5061e-05, -1.5679e-05, -3.6807e-05,\n",
      "         -2.3401e-05, -3.0226e-05, -2.2827e-05, -2.6560e-05,  1.0000e+00]],\n",
      "       device='cuda:0')\n"
     ]
    },
    {
     "name": "stderr",
     "output_type": "stream",
     "text": [
      "tensor(0.0099, device='cuda:0', grad_fn=<DivBackward0>): 100%|█| 40000/40000 [00:"
     ]
    },
    {
     "name": "stdout",
     "output_type": "stream",
     "text": [
      "Loss (orig, final): 0.13852354884147644 0.009899681434035301\n",
      "L2 norm of weight change: 0.4753965735435486\n",
      "Performing post-edit metric calculations on validation set.\n"
     ]
    },
    {
     "name": "stderr",
     "output_type": "stream",
     "text": [
      "\n",
      "100%|██████████████████████████████████████████| 274/274 [00:09<00:00, 27.74it/s]"
     ]
    },
    {
     "name": "stdout",
     "output_type": "stream",
     "text": [
      "Post-edit metrics: {'TP': array([6030, 5417, 5315, 4519,    0, 3890, 5476, 4370, 4936, 4577]), 'TN': array([60578, 61083, 59031, 57222, 63000, 56707, 61474, 62545, 61440,\n",
      "       61450]), 'FPs': array([2422, 1917, 3969, 5778,    0, 6293, 1526,  455, 1560, 1550]), 'FNs': array([ 970, 1583, 1685, 2481, 7000, 3110, 1524, 2630, 2064, 2423]), 'accuracy': 0.6361428571428571, 'per_class_accuracy': array([0.95154286, 0.95      , 0.91922857, 0.88201429, 0.9       ,\n",
      "       0.86567143, 0.95642857, 0.95592857, 0.94822857, 0.94324286]), 'per_class_accuracy_mean': 0.9272285714285715, 'precision': array([0.71344061, 0.73861467, 0.57249031, 0.43886569, 0.        ,\n",
      "       0.38200923, 0.78206227, 0.90569948, 0.75985222, 0.74702138]), 'precision_mean': 0.6040055850488083, 'recall': array([0.86142857, 0.77385714, 0.75928571, 0.64557143, 0.        ,\n",
      "       0.55571429, 0.78228571, 0.62428571, 0.70514286, 0.65385714]), 'recall_mean': 0.6361428571428571, 'f1': array([0.78048149, 0.75582531, 0.65278801, 0.52251836, 0.        ,\n",
      "       0.45277309, 0.78217398, 0.73911205, 0.73147599, 0.69734136]), 'f1_mean': 0.6114489636039545}\n",
      "Saved post-edit metrics saved/edit/trials/identity_cov/CINIC10_ImageNet-VGG_16/0117_201313/dog-train-n02114367_8883/quickshift_masked_2/models/post_edit_metrics.pth\n",
      "All metrics and KNN results can be found in saved/edit/trials/identity_cov/CINIC10_ImageNet-VGG_16/0117_201313/dog-train-n02114367_8883/quickshift_masked_2/models\n"
     ]
    },
    {
     "name": "stderr",
     "output_type": "stream",
     "text": [
      "\n",
      "/n/fs/ac-editing/model-editing/src/model/metric.py:165: RuntimeWarning: invalid value encountered in divide\n",
      "  return np.nan_to_num(TPs / (TPs + FPs))\n",
      "/n/fs/ac-editing/model-editing/src/model/metric.py:202: RuntimeWarning: invalid value encountered in divide\n",
      "  return np.nan_to_num(2 * precisions * recalls / (precisions + recalls))\n"
     ]
    },
    {
     "name": "stdout",
     "output_type": "stream",
     "text": [
      "saved/edit/trials/identity_cov/CINIC10_ImageNet-VGG_16/0117_201313/dog-train-n02114367_8883/quickshift_masked_2/identity\n",
      "Calling edit()...\n",
      "Created ModelWrapperSanturkar model with 33646666 trainable parameters\n",
      "Restored weights from external_code/PyTorch_CIFAR10/cifar10_models/state_dicts/vgg16_bn.pt\n",
      "Using passed in data loader for validation.\n",
      "Key images: data/cinic-10-imagenet/train/dog/n02114367_8883.png\n",
      "Value images: saved/segmentations/dog/dog-train-n02114367_8883/modified_images/quickshift_masked_2.png\n",
      "Masks: None\n",
      "Prepared data for editing\n",
      "Performing pre-edit metric calculations on validation set.\n"
     ]
    },
    {
     "name": "stderr",
     "output_type": "stream",
     "text": [
      "100%|██████████████████████████████████████████| 274/274 [00:10<00:00, 25.18it/s]"
     ]
    },
    {
     "name": "stdout",
     "output_type": "stream",
     "text": [
      "Pre-edit metrics: {'TP': array([6142, 5382, 5203, 3842, 4270, 2990, 5659, 5136, 4820, 4679]), 'TN': array([60115, 61110, 59441, 59902, 60157, 61756, 61050, 61747, 61643,\n",
      "       61202]), 'FPs': array([2885, 1890, 3559, 3098, 2843, 1244, 1950, 1253, 1357, 1798]), 'FNs': array([ 858, 1618, 1797, 3158, 2730, 4010, 1341, 1864, 2180, 2321]), 'accuracy': 0.6874714285714286, 'per_class_accuracy': array([0.94652857, 0.94988571, 0.92348571, 0.91062857, 0.92038571,\n",
      "       0.92494286, 0.95298571, 0.95547143, 0.94947143, 0.94115714]), 'per_class_accuracy_mean': 0.9374942857142857, 'precision': array([0.68040323, 0.74009901, 0.5938142 , 0.55360231, 0.60030929,\n",
      "       0.706188  , 0.74372454, 0.80388167, 0.78031407, 0.72240235]), 'precision_mean': 0.6924738665961387, 'recall': array([0.87742857, 0.76885714, 0.74328571, 0.54885714, 0.61      ,\n",
      "       0.42714286, 0.80842857, 0.73371429, 0.68857143, 0.66842857]), 'recall_mean': 0.6874714285714286, 'f1': array([0.7664566 , 0.75420404, 0.66019541, 0.55121951, 0.60511585,\n",
      "       0.53231262, 0.77472791, 0.76719695, 0.73157775, 0.69436818]), 'f1_mean': 0.6837374824369241}\n",
      "Saved pre-edit metrics saved/edit/trials/identity_cov/CINIC10_ImageNet-VGG_16/0117_201313/dog-train-n02114367_8883/quickshift_masked_2/identity/models/pre_edit_metrics.pth\n",
      "No data loader for covariance matrix. Will use identity matrix\n",
      "Looking for covariance matrix weights in cache/identity/vgg16_bn-12\n"
     ]
    },
    {
     "name": "stderr",
     "output_type": "stream",
     "text": [
      "\n"
     ]
    },
    {
     "name": "stdout",
     "output_type": "stream",
     "text": [
      "Found precomputed cov matrices, returning...\n",
      "tensor([[1., 0., 0., 0., 0., 0., 0., 0., 0., 0.],\n",
      "        [0., 1., 0., 0., 0., 0., 0., 0., 0., 0.],\n",
      "        [0., 0., 1., 0., 0., 0., 0., 0., 0., 0.],\n",
      "        [0., 0., 0., 1., 0., 0., 0., 0., 0., 0.],\n",
      "        [0., 0., 0., 0., 1., 0., 0., 0., 0., 0.],\n",
      "        [0., 0., 0., 0., 0., 1., 0., 0., 0., 0.],\n",
      "        [0., 0., 0., 0., 0., 0., 1., 0., 0., 0.],\n",
      "        [0., 0., 0., 0., 0., 0., 0., 1., 0., 0.],\n",
      "        [0., 0., 0., 0., 0., 0., 0., 0., 1., 0.],\n",
      "        [0., 0., 0., 0., 0., 0., 0., 0., 0., 1.]], device='cuda:0')\n"
     ]
    },
    {
     "name": "stderr",
     "output_type": "stream",
     "text": [
      "tensor(0.0101, device='cuda:0', grad_fn=<DivBackward0>): 100%|█| 40000/40000 [00:"
     ]
    },
    {
     "name": "stdout",
     "output_type": "stream",
     "text": [
      "Loss (orig, final): 0.13852354884147644 0.010095978155732155\n",
      "L2 norm of weight change: 0.4773690700531006\n",
      "Performing post-edit metric calculations on validation set.\n"
     ]
    },
    {
     "name": "stderr",
     "output_type": "stream",
     "text": [
      "\n",
      "100%|██████████████████████████████████████████| 274/274 [00:09<00:00, 29.66it/s]"
     ]
    },
    {
     "name": "stdout",
     "output_type": "stream",
     "text": [
      "Post-edit metrics: {'TP': array([6029, 5417, 5312, 4527,    0, 3889, 5469, 4374, 4933, 4578]), 'TN': array([60589, 61085, 59030, 57175, 63000, 56727, 61491, 62545, 61442,\n",
      "       61444]), 'FPs': array([2411, 1915, 3970, 5825,    0, 6273, 1509,  455, 1558, 1556]), 'FNs': array([ 971, 1583, 1688, 2473, 7000, 3111, 1531, 2626, 2067, 2422]), 'accuracy': 0.6361142857142857, 'per_class_accuracy': array([0.95168571, 0.95002857, 0.91917143, 0.88145714, 0.9       ,\n",
      "       0.86594286, 0.95657143, 0.95598571, 0.94821429, 0.94317143]), 'per_class_accuracy_mean': 0.927222857142857, 'precision': array([0.71433649, 0.73881615, 0.57229045, 0.4373068 , 0.        ,\n",
      "       0.38270026, 0.78374893, 0.90577759, 0.75997535, 0.74633192]), 'precision_mean': 0.6041283942225276, 'recall': array([0.86128571, 0.77385714, 0.75885714, 0.64671429, 0.        ,\n",
      "       0.55557143, 0.78128571, 0.62485714, 0.70471429, 0.654     ]), 'recall_mean': 0.6361142857142859, 'f1': array([0.78095855, 0.75593078, 0.65249969, 0.52178423, 0.        ,\n",
      "       0.45321058, 0.78251538, 0.73953842, 0.73130235, 0.69712197]), 'f1_mean': 0.6114861967329592}\n",
      "Saved post-edit metrics saved/edit/trials/identity_cov/CINIC10_ImageNet-VGG_16/0117_201313/dog-train-n02114367_8883/quickshift_masked_2/identity/models/post_edit_metrics.pth\n",
      "All metrics and KNN results can be found in saved/edit/trials/identity_cov/CINIC10_ImageNet-VGG_16/0117_201313/dog-train-n02114367_8883/quickshift_masked_2/identity/models\n",
      "Finished trial 26/37. Results saved to saved/edit/trials/identity_cov/CINIC10_ImageNet-VGG_16/0117_201313/dog-train-n02114367_8883/quickshift_masked_2/identity\n",
      "(0117_210828) Starting Trial 27/37...\n",
      "Current run_id: 0117_201313/dog-train-n02114367_8883/watershed_gaussian_0\n"
     ]
    },
    {
     "name": "stderr",
     "output_type": "stream",
     "text": [
      "\n",
      "/n/fs/ac-editing/model-editing/src/model/metric.py:165: RuntimeWarning: invalid value encountered in divide\n",
      "  return np.nan_to_num(TPs / (TPs + FPs))\n",
      "/n/fs/ac-editing/model-editing/src/model/metric.py:202: RuntimeWarning: invalid value encountered in divide\n",
      "  return np.nan_to_num(2 * precisions * recalls / (precisions + recalls))\n"
     ]
    },
    {
     "name": "stdout",
     "output_type": "stream",
     "text": [
      "saved/edit/trials/identity_cov/CINIC10_ImageNet-VGG_16/0117_201313/dog-train-n02114367_8883/watershed_gaussian_0\n",
      "Calling edit()...\n",
      "Created ModelWrapperSanturkar model with 33646666 trainable parameters\n",
      "Restored weights from external_code/PyTorch_CIFAR10/cifar10_models/state_dicts/vgg16_bn.pt\n",
      "Using passed in data loader for validation.\n",
      "Key images: data/cinic-10-imagenet/train/dog/n02114367_8883.png\n",
      "Value images: saved/segmentations/dog/dog-train-n02114367_8883/modified_images/watershed_gaussian_0.png\n",
      "Masks: None\n",
      "Prepared data for editing\n",
      "Performing pre-edit metric calculations on validation set.\n"
     ]
    },
    {
     "name": "stderr",
     "output_type": "stream",
     "text": [
      "100%|██████████████████████████████████████████| 274/274 [00:08<00:00, 32.37it/s]"
     ]
    },
    {
     "name": "stdout",
     "output_type": "stream",
     "text": [
      "Pre-edit metrics: {'TP': array([6142, 5382, 5203, 3842, 4270, 2990, 5659, 5136, 4820, 4679]), 'TN': array([60115, 61110, 59441, 59902, 60157, 61756, 61050, 61747, 61643,\n",
      "       61202]), 'FPs': array([2885, 1890, 3559, 3098, 2843, 1244, 1950, 1253, 1357, 1798]), 'FNs': array([ 858, 1618, 1797, 3158, 2730, 4010, 1341, 1864, 2180, 2321]), 'accuracy': 0.6874714285714286, 'per_class_accuracy': array([0.94652857, 0.94988571, 0.92348571, 0.91062857, 0.92038571,\n",
      "       0.92494286, 0.95298571, 0.95547143, 0.94947143, 0.94115714]), 'per_class_accuracy_mean': 0.9374942857142857, 'precision': array([0.68040323, 0.74009901, 0.5938142 , 0.55360231, 0.60030929,\n",
      "       0.706188  , 0.74372454, 0.80388167, 0.78031407, 0.72240235]), 'precision_mean': 0.6924738665961387, 'recall': array([0.87742857, 0.76885714, 0.74328571, 0.54885714, 0.61      ,\n",
      "       0.42714286, 0.80842857, 0.73371429, 0.68857143, 0.66842857]), 'recall_mean': 0.6874714285714286, 'f1': array([0.7664566 , 0.75420404, 0.66019541, 0.55121951, 0.60511585,\n",
      "       0.53231262, 0.77472791, 0.76719695, 0.73157775, 0.69436818]), 'f1_mean': 0.6837374824369241}\n",
      "Saved pre-edit metrics saved/edit/trials/identity_cov/CINIC10_ImageNet-VGG_16/0117_201313/dog-train-n02114367_8883/watershed_gaussian_0/models/pre_edit_metrics.pth\n",
      "Using passed in covariance data loader.\n",
      "Looking for covariance matrix weights in cache/cinic-10-imagenet-dummy/vgg16_bn-12\n"
     ]
    },
    {
     "name": "stderr",
     "output_type": "stream",
     "text": [
      "\n"
     ]
    },
    {
     "name": "stdout",
     "output_type": "stream",
     "text": [
      "Found precomputed cov matrices, returning...\n",
      "tensor([[ 1.0000e+00, -1.8504e-05, -3.8476e-05, -1.9159e-05, -4.0293e-05,\n",
      "         -3.1667e-05, -2.4137e-05, -2.9244e-05, -4.0682e-05, -2.2710e-05],\n",
      "        [-1.8504e-05,  1.0000e+00, -2.8878e-05, -1.2513e-05, -2.8300e-05,\n",
      "         -2.1209e-05, -1.7897e-05, -2.0580e-05, -2.4006e-05, -1.4785e-05],\n",
      "        [-3.8476e-05, -2.8878e-05,  1.0000e+00, -2.8741e-05, -6.1447e-05,\n",
      "         -4.6148e-05, -3.9829e-05, -4.5861e-05, -4.7019e-05, -3.5061e-05],\n",
      "        [-1.9159e-05, -1.2513e-05, -2.8741e-05,  1.0000e+00, -2.7411e-05,\n",
      "         -2.1258e-05, -1.7047e-05, -1.9973e-05, -2.4082e-05, -1.5679e-05],\n",
      "        [-4.0293e-05, -2.8300e-05, -6.1447e-05, -2.7411e-05,  1.0000e+00,\n",
      "         -4.6443e-05, -5.1575e-05, -4.8059e-05, -5.6685e-05, -3.6807e-05],\n",
      "        [-3.1667e-05, -2.1209e-05, -4.6148e-05, -2.1258e-05, -4.6443e-05,\n",
      "          1.0000e+00, -2.6984e-05, -3.3795e-05, -4.0129e-05, -2.3401e-05],\n",
      "        [-2.4137e-05, -1.7897e-05, -3.9829e-05, -1.7047e-05, -5.1575e-05,\n",
      "         -2.6984e-05,  1.0000e+00, -2.8577e-05, -3.1210e-05, -3.0226e-05],\n",
      "        [-2.9244e-05, -2.0580e-05, -4.5861e-05, -1.9973e-05, -4.8059e-05,\n",
      "         -3.3795e-05, -2.8577e-05,  1.0000e+00, -3.8494e-05, -2.2827e-05],\n",
      "        [-4.0682e-05, -2.4006e-05, -4.7019e-05, -2.4082e-05, -5.6685e-05,\n",
      "         -4.0129e-05, -3.1210e-05, -3.8494e-05,  1.0000e+00, -2.6560e-05],\n",
      "        [-2.2710e-05, -1.4785e-05, -3.5061e-05, -1.5679e-05, -3.6807e-05,\n",
      "         -2.3401e-05, -3.0226e-05, -2.2827e-05, -2.6560e-05,  1.0000e+00]],\n",
      "       device='cuda:0')\n"
     ]
    },
    {
     "name": "stderr",
     "output_type": "stream",
     "text": [
      "tensor(0.0040, device='cuda:0', grad_fn=<DivBackward0>): 100%|█| 40000/40000 [00:"
     ]
    },
    {
     "name": "stdout",
     "output_type": "stream",
     "text": [
      "Loss (orig, final): 0.06842871010303497 0.003988131880760193\n",
      "L2 norm of weight change: 0.24962027370929718\n",
      "Performing post-edit metric calculations on validation set.\n"
     ]
    },
    {
     "name": "stderr",
     "output_type": "stream",
     "text": [
      "\n",
      "100%|██████████████████████████████████████████| 274/274 [00:09<00:00, 29.55it/s]"
     ]
    },
    {
     "name": "stdout",
     "output_type": "stream",
     "text": [
      "Post-edit metrics: {'TP': array([6044, 5526, 5270, 3891, 3779, 3567, 5627, 5050, 4883, 4505]), 'TN': array([60551, 60856, 59283, 59672, 61181, 60530, 61144, 61906, 61543,\n",
      "       61476]), 'FPs': array([2449, 2144, 3717, 3328, 1819, 2470, 1856, 1094, 1457, 1524]), 'FNs': array([ 956, 1474, 1730, 3109, 3221, 3433, 1373, 1950, 2117, 2495]), 'accuracy': 0.6877428571428571, 'per_class_accuracy': array([0.95135714, 0.94831429, 0.92218571, 0.90804286, 0.928     ,\n",
      "       0.91567143, 0.95387143, 0.95651429, 0.94894286, 0.94258571]), 'per_class_accuracy_mean': 0.9375485714285714, 'precision': array([0.71164488, 0.72046936, 0.58640258, 0.53899432, 0.67506252,\n",
      "       0.59085639, 0.75197113, 0.8219401 , 0.77018927, 0.74722176]), 'precision_mean': 0.6914752329842958, 'recall': array([0.86342857, 0.78942857, 0.75285714, 0.55585714, 0.53985714,\n",
      "       0.50957143, 0.80385714, 0.72142857, 0.69757143, 0.64357143]), 'recall_mean': 0.6877428571428572, 'f1': array([0.78022333, 0.75337423, 0.65928567, 0.54729587, 0.5999365 ,\n",
      "       0.54721178, 0.77704895, 0.76841144, 0.73208396, 0.69153427]), 'f1_mean': 0.6856406004984735}\n",
      "Saved post-edit metrics saved/edit/trials/identity_cov/CINIC10_ImageNet-VGG_16/0117_201313/dog-train-n02114367_8883/watershed_gaussian_0/models/post_edit_metrics.pth\n",
      "All metrics and KNN results can be found in saved/edit/trials/identity_cov/CINIC10_ImageNet-VGG_16/0117_201313/dog-train-n02114367_8883/watershed_gaussian_0/models\n"
     ]
    },
    {
     "name": "stderr",
     "output_type": "stream",
     "text": [
      "\n"
     ]
    },
    {
     "name": "stdout",
     "output_type": "stream",
     "text": [
      "saved/edit/trials/identity_cov/CINIC10_ImageNet-VGG_16/0117_201313/dog-train-n02114367_8883/watershed_gaussian_0/identity\n",
      "Calling edit()...\n",
      "Created ModelWrapperSanturkar model with 33646666 trainable parameters\n",
      "Restored weights from external_code/PyTorch_CIFAR10/cifar10_models/state_dicts/vgg16_bn.pt\n",
      "Using passed in data loader for validation.\n",
      "Key images: data/cinic-10-imagenet/train/dog/n02114367_8883.png\n",
      "Value images: saved/segmentations/dog/dog-train-n02114367_8883/modified_images/watershed_gaussian_0.png\n",
      "Masks: None\n",
      "Prepared data for editing\n",
      "Performing pre-edit metric calculations on validation set.\n"
     ]
    },
    {
     "name": "stderr",
     "output_type": "stream",
     "text": [
      "100%|██████████████████████████████████████████| 274/274 [00:09<00:00, 29.14it/s]\n"
     ]
    },
    {
     "name": "stdout",
     "output_type": "stream",
     "text": [
      "Pre-edit metrics: {'TP': array([6142, 5382, 5203, 3842, 4270, 2990, 5659, 5136, 4820, 4679]), 'TN': array([60115, 61110, 59441, 59902, 60157, 61756, 61050, 61747, 61643,\n",
      "       61202]), 'FPs': array([2885, 1890, 3559, 3098, 2843, 1244, 1950, 1253, 1357, 1798]), 'FNs': array([ 858, 1618, 1797, 3158, 2730, 4010, 1341, 1864, 2180, 2321]), 'accuracy': 0.6874714285714286, 'per_class_accuracy': array([0.94652857, 0.94988571, 0.92348571, 0.91062857, 0.92038571,\n",
      "       0.92494286, 0.95298571, 0.95547143, 0.94947143, 0.94115714]), 'per_class_accuracy_mean': 0.9374942857142857, 'precision': array([0.68040323, 0.74009901, 0.5938142 , 0.55360231, 0.60030929,\n",
      "       0.706188  , 0.74372454, 0.80388167, 0.78031407, 0.72240235]), 'precision_mean': 0.6924738665961387, 'recall': array([0.87742857, 0.76885714, 0.74328571, 0.54885714, 0.61      ,\n",
      "       0.42714286, 0.80842857, 0.73371429, 0.68857143, 0.66842857]), 'recall_mean': 0.6874714285714286, 'f1': array([0.7664566 , 0.75420404, 0.66019541, 0.55121951, 0.60511585,\n",
      "       0.53231262, 0.77472791, 0.76719695, 0.73157775, 0.69436818]), 'f1_mean': 0.6837374824369241}\n",
      "Saved pre-edit metrics saved/edit/trials/identity_cov/CINIC10_ImageNet-VGG_16/0117_201313/dog-train-n02114367_8883/watershed_gaussian_0/identity/models/pre_edit_metrics.pth\n",
      "No data loader for covariance matrix. Will use identity matrix\n",
      "Looking for covariance matrix weights in cache/identity/vgg16_bn-12\n",
      "Found precomputed cov matrices, returning...\n",
      "tensor([[1., 0., 0., 0., 0., 0., 0., 0., 0., 0.],\n",
      "        [0., 1., 0., 0., 0., 0., 0., 0., 0., 0.],\n",
      "        [0., 0., 1., 0., 0., 0., 0., 0., 0., 0.],\n",
      "        [0., 0., 0., 1., 0., 0., 0., 0., 0., 0.],\n",
      "        [0., 0., 0., 0., 1., 0., 0., 0., 0., 0.],\n",
      "        [0., 0., 0., 0., 0., 1., 0., 0., 0., 0.],\n",
      "        [0., 0., 0., 0., 0., 0., 1., 0., 0., 0.],\n",
      "        [0., 0., 0., 0., 0., 0., 0., 1., 0., 0.],\n",
      "        [0., 0., 0., 0., 0., 0., 0., 0., 1., 0.],\n",
      "        [0., 0., 0., 0., 0., 0., 0., 0., 0., 1.]], device='cuda:0')\n"
     ]
    },
    {
     "name": "stderr",
     "output_type": "stream",
     "text": [
      "tensor(0.0041, device='cuda:0', grad_fn=<DivBackward0>): 100%|█| 40000/40000 [00:"
     ]
    },
    {
     "name": "stdout",
     "output_type": "stream",
     "text": [
      "Loss (orig, final): 0.06842871010303497 0.004135189577937126\n",
      "L2 norm of weight change: 0.2500121295452118\n",
      "Performing post-edit metric calculations on validation set.\n"
     ]
    },
    {
     "name": "stderr",
     "output_type": "stream",
     "text": [
      "\n",
      "100%|██████████████████████████████████████████| 274/274 [00:09<00:00, 28.72it/s]"
     ]
    },
    {
     "name": "stdout",
     "output_type": "stream",
     "text": [
      "Post-edit metrics: {'TP': array([6043, 5529, 5270, 3889, 3779, 3576, 5626, 5052, 4882, 4504]), 'TN': array([60556, 60853, 59289, 59673, 61177, 60520, 61147, 61907, 61545,\n",
      "       61483]), 'FPs': array([2444, 2147, 3711, 3327, 1823, 2480, 1853, 1093, 1455, 1517]), 'FNs': array([ 957, 1471, 1730, 3111, 3221, 3424, 1374, 1948, 2118, 2496]), 'accuracy': 0.6878571428571428, 'per_class_accuracy': array([0.95141429, 0.94831429, 0.92227143, 0.90802857, 0.92794286,\n",
      "       0.91565714, 0.9539    , 0.95655714, 0.94895714, 0.94267143]), 'per_class_accuracy_mean': 0.9375714285714285, 'precision': array([0.71203016, 0.72029703, 0.58679434, 0.53894124, 0.67458051,\n",
      "       0.59048877, 0.7522396 , 0.82213181, 0.77039609, 0.7480485 ]), 'precision_mean': 0.691594805932258, 'recall': array([0.86328571, 0.78985714, 0.75285714, 0.55557143, 0.53985714,\n",
      "       0.51085714, 0.80371429, 0.72171429, 0.69742857, 0.64342857]), 'recall_mean': 0.6878571428571428, 'f1': array([0.78039646, 0.75347506, 0.6595332 , 0.54712999, 0.59974607,\n",
      "       0.54779412, 0.77712549, 0.76865728, 0.73209867, 0.69180554]), 'f1_mean': 0.6857761896598956}\n",
      "Saved post-edit metrics saved/edit/trials/identity_cov/CINIC10_ImageNet-VGG_16/0117_201313/dog-train-n02114367_8883/watershed_gaussian_0/identity/models/post_edit_metrics.pth\n",
      "All metrics and KNN results can be found in saved/edit/trials/identity_cov/CINIC10_ImageNet-VGG_16/0117_201313/dog-train-n02114367_8883/watershed_gaussian_0/identity/models\n",
      "Finished trial 27/37. Results saved to saved/edit/trials/identity_cov/CINIC10_ImageNet-VGG_16/0117_201313/dog-train-n02114367_8883/watershed_gaussian_0/identity\n",
      "(0117_211024) Starting Trial 28/37...\n",
      "Current run_id: 0117_201313/dog-train-n02114367_8883/watershed_masked_4\n"
     ]
    },
    {
     "name": "stderr",
     "output_type": "stream",
     "text": [
      "\n"
     ]
    },
    {
     "name": "stdout",
     "output_type": "stream",
     "text": [
      "saved/edit/trials/identity_cov/CINIC10_ImageNet-VGG_16/0117_201313/dog-train-n02114367_8883/watershed_masked_4\n",
      "Calling edit()...\n",
      "Created ModelWrapperSanturkar model with 33646666 trainable parameters\n",
      "Restored weights from external_code/PyTorch_CIFAR10/cifar10_models/state_dicts/vgg16_bn.pt\n",
      "Using passed in data loader for validation.\n",
      "Key images: data/cinic-10-imagenet/train/dog/n02114367_8883.png\n",
      "Value images: saved/segmentations/dog/dog-train-n02114367_8883/modified_images/watershed_masked_4.png\n",
      "Masks: None\n",
      "Prepared data for editing\n",
      "Performing pre-edit metric calculations on validation set.\n"
     ]
    },
    {
     "name": "stderr",
     "output_type": "stream",
     "text": [
      "100%|██████████████████████████████████████████| 274/274 [00:09<00:00, 28.68it/s]"
     ]
    },
    {
     "name": "stdout",
     "output_type": "stream",
     "text": [
      "Pre-edit metrics: {'TP': array([6142, 5382, 5203, 3842, 4270, 2990, 5659, 5136, 4820, 4679]), 'TN': array([60115, 61110, 59441, 59902, 60157, 61756, 61050, 61747, 61643,\n",
      "       61202]), 'FPs': array([2885, 1890, 3559, 3098, 2843, 1244, 1950, 1253, 1357, 1798]), 'FNs': array([ 858, 1618, 1797, 3158, 2730, 4010, 1341, 1864, 2180, 2321]), 'accuracy': 0.6874714285714286, 'per_class_accuracy': array([0.94652857, 0.94988571, 0.92348571, 0.91062857, 0.92038571,\n",
      "       0.92494286, 0.95298571, 0.95547143, 0.94947143, 0.94115714]), 'per_class_accuracy_mean': 0.9374942857142857, 'precision': array([0.68040323, 0.74009901, 0.5938142 , 0.55360231, 0.60030929,\n",
      "       0.706188  , 0.74372454, 0.80388167, 0.78031407, 0.72240235]), 'precision_mean': 0.6924738665961387, 'recall': array([0.87742857, 0.76885714, 0.74328571, 0.54885714, 0.61      ,\n",
      "       0.42714286, 0.80842857, 0.73371429, 0.68857143, 0.66842857]), 'recall_mean': 0.6874714285714286, 'f1': array([0.7664566 , 0.75420404, 0.66019541, 0.55121951, 0.60511585,\n",
      "       0.53231262, 0.77472791, 0.76719695, 0.73157775, 0.69436818]), 'f1_mean': 0.6837374824369241}\n",
      "Saved pre-edit metrics saved/edit/trials/identity_cov/CINIC10_ImageNet-VGG_16/0117_201313/dog-train-n02114367_8883/watershed_masked_4/models/pre_edit_metrics.pth\n",
      "Using passed in covariance data loader.\n",
      "Looking for covariance matrix weights in cache/cinic-10-imagenet-dummy/vgg16_bn-12\n"
     ]
    },
    {
     "name": "stderr",
     "output_type": "stream",
     "text": [
      "\n"
     ]
    },
    {
     "name": "stdout",
     "output_type": "stream",
     "text": [
      "Found precomputed cov matrices, returning...\n",
      "tensor([[ 1.0000e+00, -1.8504e-05, -3.8476e-05, -1.9159e-05, -4.0293e-05,\n",
      "         -3.1667e-05, -2.4137e-05, -2.9244e-05, -4.0682e-05, -2.2710e-05],\n",
      "        [-1.8504e-05,  1.0000e+00, -2.8878e-05, -1.2513e-05, -2.8300e-05,\n",
      "         -2.1209e-05, -1.7897e-05, -2.0580e-05, -2.4006e-05, -1.4785e-05],\n",
      "        [-3.8476e-05, -2.8878e-05,  1.0000e+00, -2.8741e-05, -6.1447e-05,\n",
      "         -4.6148e-05, -3.9829e-05, -4.5861e-05, -4.7019e-05, -3.5061e-05],\n",
      "        [-1.9159e-05, -1.2513e-05, -2.8741e-05,  1.0000e+00, -2.7411e-05,\n",
      "         -2.1258e-05, -1.7047e-05, -1.9973e-05, -2.4082e-05, -1.5679e-05],\n",
      "        [-4.0293e-05, -2.8300e-05, -6.1447e-05, -2.7411e-05,  1.0000e+00,\n",
      "         -4.6443e-05, -5.1575e-05, -4.8059e-05, -5.6685e-05, -3.6807e-05],\n",
      "        [-3.1667e-05, -2.1209e-05, -4.6148e-05, -2.1258e-05, -4.6443e-05,\n",
      "          1.0000e+00, -2.6984e-05, -3.3795e-05, -4.0129e-05, -2.3401e-05],\n",
      "        [-2.4137e-05, -1.7897e-05, -3.9829e-05, -1.7047e-05, -5.1575e-05,\n",
      "         -2.6984e-05,  1.0000e+00, -2.8577e-05, -3.1210e-05, -3.0226e-05],\n",
      "        [-2.9244e-05, -2.0580e-05, -4.5861e-05, -1.9973e-05, -4.8059e-05,\n",
      "         -3.3795e-05, -2.8577e-05,  1.0000e+00, -3.8494e-05, -2.2827e-05],\n",
      "        [-4.0682e-05, -2.4006e-05, -4.7019e-05, -2.4082e-05, -5.6685e-05,\n",
      "         -4.0129e-05, -3.1210e-05, -3.8494e-05,  1.0000e+00, -2.6560e-05],\n",
      "        [-2.2710e-05, -1.4785e-05, -3.5061e-05, -1.5679e-05, -3.6807e-05,\n",
      "         -2.3401e-05, -3.0226e-05, -2.2827e-05, -2.6560e-05,  1.0000e+00]],\n",
      "       device='cuda:0')\n"
     ]
    },
    {
     "name": "stderr",
     "output_type": "stream",
     "text": [
      "tensor(0.0046, device='cuda:0', grad_fn=<DivBackward0>): 100%|█| 40000/40000 [00:"
     ]
    },
    {
     "name": "stdout",
     "output_type": "stream",
     "text": [
      "Loss (orig, final): 0.07475888729095459 0.004587051458656788\n",
      "L2 norm of weight change: 0.30030226707458496\n",
      "Performing post-edit metric calculations on validation set.\n"
     ]
    },
    {
     "name": "stderr",
     "output_type": "stream",
     "text": [
      "\n",
      "100%|██████████████████████████████████████████| 274/274 [00:09<00:00, 29.27it/s]"
     ]
    },
    {
     "name": "stdout",
     "output_type": "stream",
     "text": [
      "Post-edit metrics: {'TP': array([6014, 5566, 5232, 3776, 3866, 3809, 5656, 4676, 5023, 4337]), 'TN': array([60663, 60783, 59434, 59943, 61011, 59722, 61086, 62327, 61289,\n",
      "       61697]), 'FPs': array([2337, 2217, 3566, 3057, 1989, 3278, 1914,  673, 1711, 1303]), 'FNs': array([ 986, 1434, 1768, 3224, 3134, 3191, 1344, 2324, 1977, 2663]), 'accuracy': 0.6850714285714286, 'per_class_accuracy': array([0.95252857, 0.94784286, 0.9238    , 0.91027143, 0.92681429,\n",
      "       0.90758571, 0.95345714, 0.95718571, 0.94731429, 0.94334286]), 'per_class_accuracy_mean': 0.9370142857142858, 'precision': array([0.72015328, 0.7151484 , 0.59468061, 0.55261232, 0.66029035,\n",
      "       0.53746296, 0.74715984, 0.87418209, 0.74591625, 0.76897163]), 'precision_mean': 0.6916577726388106, 'recall': array([0.85914286, 0.79514286, 0.74742857, 0.53942857, 0.55228571,\n",
      "       0.54414286, 0.808     , 0.668     , 0.71757143, 0.61957143]), 'recall_mean': 0.6850714285714286, 'f1': array([0.78353202, 0.75302713, 0.66236232, 0.54594087, 0.60147802,\n",
      "       0.54078228, 0.77638984, 0.75730828, 0.73146935, 0.68623418]), 'f1_mean': 0.6838524288828223}\n",
      "Saved post-edit metrics saved/edit/trials/identity_cov/CINIC10_ImageNet-VGG_16/0117_201313/dog-train-n02114367_8883/watershed_masked_4/models/post_edit_metrics.pth\n",
      "All metrics and KNN results can be found in saved/edit/trials/identity_cov/CINIC10_ImageNet-VGG_16/0117_201313/dog-train-n02114367_8883/watershed_masked_4/models\n"
     ]
    },
    {
     "name": "stderr",
     "output_type": "stream",
     "text": [
      "\n"
     ]
    },
    {
     "name": "stdout",
     "output_type": "stream",
     "text": [
      "saved/edit/trials/identity_cov/CINIC10_ImageNet-VGG_16/0117_201313/dog-train-n02114367_8883/watershed_masked_4/identity\n",
      "Calling edit()...\n",
      "Created ModelWrapperSanturkar model with 33646666 trainable parameters\n",
      "Restored weights from external_code/PyTorch_CIFAR10/cifar10_models/state_dicts/vgg16_bn.pt\n",
      "Using passed in data loader for validation.\n",
      "Key images: data/cinic-10-imagenet/train/dog/n02114367_8883.png\n",
      "Value images: saved/segmentations/dog/dog-train-n02114367_8883/modified_images/watershed_masked_4.png\n",
      "Masks: None\n",
      "Prepared data for editing\n",
      "Performing pre-edit metric calculations on validation set.\n"
     ]
    },
    {
     "name": "stderr",
     "output_type": "stream",
     "text": [
      "100%|██████████████████████████████████████████| 274/274 [00:09<00:00, 29.30it/s]"
     ]
    },
    {
     "name": "stdout",
     "output_type": "stream",
     "text": [
      "Pre-edit metrics: {'TP': array([6142, 5382, 5203, 3842, 4270, 2990, 5659, 5136, 4820, 4679]), 'TN': array([60115, 61110, 59441, 59902, 60157, 61756, 61050, 61747, 61643,\n",
      "       61202]), 'FPs': array([2885, 1890, 3559, 3098, 2843, 1244, 1950, 1253, 1357, 1798]), 'FNs': array([ 858, 1618, 1797, 3158, 2730, 4010, 1341, 1864, 2180, 2321]), 'accuracy': 0.6874714285714286, 'per_class_accuracy': array([0.94652857, 0.94988571, 0.92348571, 0.91062857, 0.92038571,\n",
      "       0.92494286, 0.95298571, 0.95547143, 0.94947143, 0.94115714]), 'per_class_accuracy_mean': 0.9374942857142857, 'precision': array([0.68040323, 0.74009901, 0.5938142 , 0.55360231, 0.60030929,\n",
      "       0.706188  , 0.74372454, 0.80388167, 0.78031407, 0.72240235]), 'precision_mean': 0.6924738665961387, 'recall': array([0.87742857, 0.76885714, 0.74328571, 0.54885714, 0.61      ,\n",
      "       0.42714286, 0.80842857, 0.73371429, 0.68857143, 0.66842857]), 'recall_mean': 0.6874714285714286, 'f1': array([0.7664566 , 0.75420404, 0.66019541, 0.55121951, 0.60511585,\n",
      "       0.53231262, 0.77472791, 0.76719695, 0.73157775, 0.69436818]), 'f1_mean': 0.6837374824369241}\n",
      "Saved pre-edit metrics saved/edit/trials/identity_cov/CINIC10_ImageNet-VGG_16/0117_201313/dog-train-n02114367_8883/watershed_masked_4/identity/models/pre_edit_metrics.pth\n",
      "No data loader for covariance matrix. Will use identity matrix\n",
      "Looking for covariance matrix weights in cache/identity/vgg16_bn-12\n"
     ]
    },
    {
     "name": "stderr",
     "output_type": "stream",
     "text": [
      "\n"
     ]
    },
    {
     "name": "stdout",
     "output_type": "stream",
     "text": [
      "Found precomputed cov matrices, returning...\n",
      "tensor([[1., 0., 0., 0., 0., 0., 0., 0., 0., 0.],\n",
      "        [0., 1., 0., 0., 0., 0., 0., 0., 0., 0.],\n",
      "        [0., 0., 1., 0., 0., 0., 0., 0., 0., 0.],\n",
      "        [0., 0., 0., 1., 0., 0., 0., 0., 0., 0.],\n",
      "        [0., 0., 0., 0., 1., 0., 0., 0., 0., 0.],\n",
      "        [0., 0., 0., 0., 0., 1., 0., 0., 0., 0.],\n",
      "        [0., 0., 0., 0., 0., 0., 1., 0., 0., 0.],\n",
      "        [0., 0., 0., 0., 0., 0., 0., 1., 0., 0.],\n",
      "        [0., 0., 0., 0., 0., 0., 0., 0., 1., 0.],\n",
      "        [0., 0., 0., 0., 0., 0., 0., 0., 0., 1.]], device='cuda:0')\n"
     ]
    },
    {
     "name": "stderr",
     "output_type": "stream",
     "text": [
      "tensor(0.0046, device='cuda:0', grad_fn=<DivBackward0>): 100%|█| 40000/40000 [00:"
     ]
    },
    {
     "name": "stdout",
     "output_type": "stream",
     "text": [
      "Loss (orig, final): 0.07475888729095459 0.004555515479296446\n",
      "L2 norm of weight change: 0.30218076705932617\n",
      "Performing post-edit metric calculations on validation set.\n"
     ]
    },
    {
     "name": "stderr",
     "output_type": "stream",
     "text": [
      "\n",
      "100%|██████████████████████████████████████████| 274/274 [00:09<00:00, 28.43it/s]"
     ]
    },
    {
     "name": "stdout",
     "output_type": "stream",
     "text": [
      "Post-edit metrics: {'TP': array([6009, 5570, 5231, 3777, 3867, 3819, 5654, 4665, 5025, 4330]), 'TN': array([60674, 60779, 59432, 59953, 61005, 59682, 61095, 62339, 61285,\n",
      "       61703]), 'FPs': array([2326, 2221, 3568, 3047, 1995, 3318, 1905,  661, 1715, 1297]), 'FNs': array([ 991, 1430, 1769, 3223, 3133, 3181, 1346, 2335, 1975, 2670]), 'accuracy': 0.6849571428571428, 'per_class_accuracy': array([0.95261429, 0.94784286, 0.92375714, 0.91042857, 0.92674286,\n",
      "       0.90715714, 0.95355714, 0.9572    , 0.94728571, 0.94332857]), 'per_class_accuracy_mean': 0.9369914285714286, 'precision': array([0.72093581, 0.71492748, 0.59449937, 0.55348769, 0.65967247,\n",
      "       0.53509878, 0.74798254, 0.87589185, 0.74554896, 0.76950418]), 'precision_mean': 0.6917549132817367, 'recall': array([0.85842857, 0.79571429, 0.74728571, 0.53957143, 0.55242857,\n",
      "       0.54557143, 0.80771429, 0.66642857, 0.71785714, 0.61857143]), 'recall_mean': 0.6849571428571427, 'f1': array([0.78369742, 0.75316071, 0.66219381, 0.54644097, 0.60130617,\n",
      "       0.54028436, 0.7767017 , 0.75693656, 0.73144105, 0.68583195]), 'f1_mean': 0.6837994694263642}\n",
      "Saved post-edit metrics saved/edit/trials/identity_cov/CINIC10_ImageNet-VGG_16/0117_201313/dog-train-n02114367_8883/watershed_masked_4/identity/models/post_edit_metrics.pth\n",
      "All metrics and KNN results can be found in saved/edit/trials/identity_cov/CINIC10_ImageNet-VGG_16/0117_201313/dog-train-n02114367_8883/watershed_masked_4/identity/models\n",
      "Finished trial 28/37. Results saved to saved/edit/trials/identity_cov/CINIC10_ImageNet-VGG_16/0117_201313/dog-train-n02114367_8883/watershed_masked_4/identity\n",
      "(0117_211222) Starting Trial 29/37...\n",
      "Current run_id: 0117_201313/dog-train-n02114367_8883/watershed_masked_7\n"
     ]
    },
    {
     "name": "stderr",
     "output_type": "stream",
     "text": [
      "\n"
     ]
    },
    {
     "name": "stdout",
     "output_type": "stream",
     "text": [
      "saved/edit/trials/identity_cov/CINIC10_ImageNet-VGG_16/0117_201313/dog-train-n02114367_8883/watershed_masked_7\n",
      "Calling edit()...\n",
      "Created ModelWrapperSanturkar model with 33646666 trainable parameters\n",
      "Restored weights from external_code/PyTorch_CIFAR10/cifar10_models/state_dicts/vgg16_bn.pt\n",
      "Using passed in data loader for validation.\n",
      "Key images: data/cinic-10-imagenet/train/dog/n02114367_8883.png\n",
      "Value images: saved/segmentations/dog/dog-train-n02114367_8883/modified_images/watershed_masked_7.png\n",
      "Masks: None\n",
      "Prepared data for editing\n",
      "Performing pre-edit metric calculations on validation set.\n"
     ]
    },
    {
     "name": "stderr",
     "output_type": "stream",
     "text": [
      "100%|██████████████████████████████████████████| 274/274 [00:09<00:00, 27.49it/s]"
     ]
    },
    {
     "name": "stdout",
     "output_type": "stream",
     "text": [
      "Pre-edit metrics: {'TP': array([6142, 5382, 5203, 3842, 4270, 2990, 5659, 5136, 4820, 4679]), 'TN': array([60115, 61110, 59441, 59902, 60157, 61756, 61050, 61747, 61643,\n",
      "       61202]), 'FPs': array([2885, 1890, 3559, 3098, 2843, 1244, 1950, 1253, 1357, 1798]), 'FNs': array([ 858, 1618, 1797, 3158, 2730, 4010, 1341, 1864, 2180, 2321]), 'accuracy': 0.6874714285714286, 'per_class_accuracy': array([0.94652857, 0.94988571, 0.92348571, 0.91062857, 0.92038571,\n",
      "       0.92494286, 0.95298571, 0.95547143, 0.94947143, 0.94115714]), 'per_class_accuracy_mean': 0.9374942857142857, 'precision': array([0.68040323, 0.74009901, 0.5938142 , 0.55360231, 0.60030929,\n",
      "       0.706188  , 0.74372454, 0.80388167, 0.78031407, 0.72240235]), 'precision_mean': 0.6924738665961387, 'recall': array([0.87742857, 0.76885714, 0.74328571, 0.54885714, 0.61      ,\n",
      "       0.42714286, 0.80842857, 0.73371429, 0.68857143, 0.66842857]), 'recall_mean': 0.6874714285714286, 'f1': array([0.7664566 , 0.75420404, 0.66019541, 0.55121951, 0.60511585,\n",
      "       0.53231262, 0.77472791, 0.76719695, 0.73157775, 0.69436818]), 'f1_mean': 0.6837374824369241}\n",
      "Saved pre-edit metrics saved/edit/trials/identity_cov/CINIC10_ImageNet-VGG_16/0117_201313/dog-train-n02114367_8883/watershed_masked_7/models/pre_edit_metrics.pth\n",
      "Using passed in covariance data loader.\n",
      "Looking for covariance matrix weights in cache/cinic-10-imagenet-dummy/vgg16_bn-12\n"
     ]
    },
    {
     "name": "stderr",
     "output_type": "stream",
     "text": [
      "\n"
     ]
    },
    {
     "name": "stdout",
     "output_type": "stream",
     "text": [
      "Found precomputed cov matrices, returning...\n",
      "tensor([[ 1.0000e+00, -1.8504e-05, -3.8476e-05, -1.9159e-05, -4.0293e-05,\n",
      "         -3.1667e-05, -2.4137e-05, -2.9244e-05, -4.0682e-05, -2.2710e-05],\n",
      "        [-1.8504e-05,  1.0000e+00, -2.8878e-05, -1.2513e-05, -2.8300e-05,\n",
      "         -2.1209e-05, -1.7897e-05, -2.0580e-05, -2.4006e-05, -1.4785e-05],\n",
      "        [-3.8476e-05, -2.8878e-05,  1.0000e+00, -2.8741e-05, -6.1447e-05,\n",
      "         -4.6148e-05, -3.9829e-05, -4.5861e-05, -4.7019e-05, -3.5061e-05],\n",
      "        [-1.9159e-05, -1.2513e-05, -2.8741e-05,  1.0000e+00, -2.7411e-05,\n",
      "         -2.1258e-05, -1.7047e-05, -1.9973e-05, -2.4082e-05, -1.5679e-05],\n",
      "        [-4.0293e-05, -2.8300e-05, -6.1447e-05, -2.7411e-05,  1.0000e+00,\n",
      "         -4.6443e-05, -5.1575e-05, -4.8059e-05, -5.6685e-05, -3.6807e-05],\n",
      "        [-3.1667e-05, -2.1209e-05, -4.6148e-05, -2.1258e-05, -4.6443e-05,\n",
      "          1.0000e+00, -2.6984e-05, -3.3795e-05, -4.0129e-05, -2.3401e-05],\n",
      "        [-2.4137e-05, -1.7897e-05, -3.9829e-05, -1.7047e-05, -5.1575e-05,\n",
      "         -2.6984e-05,  1.0000e+00, -2.8577e-05, -3.1210e-05, -3.0226e-05],\n",
      "        [-2.9244e-05, -2.0580e-05, -4.5861e-05, -1.9973e-05, -4.8059e-05,\n",
      "         -3.3795e-05, -2.8577e-05,  1.0000e+00, -3.8494e-05, -2.2827e-05],\n",
      "        [-4.0682e-05, -2.4006e-05, -4.7019e-05, -2.4082e-05, -5.6685e-05,\n",
      "         -4.0129e-05, -3.1210e-05, -3.8494e-05,  1.0000e+00, -2.6560e-05],\n",
      "        [-2.2710e-05, -1.4785e-05, -3.5061e-05, -1.5679e-05, -3.6807e-05,\n",
      "         -2.3401e-05, -3.0226e-05, -2.2827e-05, -2.6560e-05,  1.0000e+00]],\n",
      "       device='cuda:0')\n"
     ]
    },
    {
     "name": "stderr",
     "output_type": "stream",
     "text": [
      "tensor(0.0038, device='cuda:0', grad_fn=<DivBackward0>): 100%|█| 40000/40000 [00:\n"
     ]
    },
    {
     "name": "stdout",
     "output_type": "stream",
     "text": [
      "Loss (orig, final): 0.05912703648209572 0.003819703124463558\n",
      "L2 norm of weight change: 0.23291465640068054\n",
      "Performing post-edit metric calculations on validation set.\n"
     ]
    },
    {
     "name": "stderr",
     "output_type": "stream",
     "text": [
      "100%|██████████████████████████████████████████| 274/274 [00:09<00:00, 28.02it/s]"
     ]
    },
    {
     "name": "stdout",
     "output_type": "stream",
     "text": [
      "Post-edit metrics: {'TP': array([6079, 5507, 5274, 3889, 3790, 3398, 5605, 5280, 4781, 4576]), 'TN': array([60429, 60876, 59285, 59742, 61100, 60944, 61207, 61521, 61713,\n",
      "       61362]), 'FPs': array([2571, 2124, 3715, 3258, 1900, 2056, 1793, 1479, 1287, 1638]), 'FNs': array([ 921, 1493, 1726, 3111, 3210, 3602, 1395, 1720, 2219, 2424]), 'accuracy': 0.6882714285714285, 'per_class_accuracy': array([0.95011429, 0.94832857, 0.92227143, 0.90901429, 0.927     ,\n",
      "       0.91917143, 0.95445714, 0.9543    , 0.94991429, 0.94197143]), 'per_class_accuracy_mean': 0.9376542857142857, 'precision': array([0.70277457, 0.72166164, 0.5867171 , 0.5441444 , 0.66608084,\n",
      "       0.62302897, 0.7576372 , 0.78118065, 0.78790376, 0.73640167]), 'precision_mean': 0.6907530796170275, 'recall': array([0.86842857, 0.78671429, 0.75342857, 0.55557143, 0.54142857,\n",
      "       0.48542857, 0.80071429, 0.75428571, 0.683     , 0.65371429]), 'recall_mean': 0.6882714285714286, 'f1': array([0.77686901, 0.75278518, 0.65970355, 0.54979854, 0.59732072,\n",
      "       0.54568813, 0.77858036, 0.76749764, 0.73171105, 0.69259876]), 'f1_mean': 0.6852552944166109}\n",
      "Saved post-edit metrics saved/edit/trials/identity_cov/CINIC10_ImageNet-VGG_16/0117_201313/dog-train-n02114367_8883/watershed_masked_7/models/post_edit_metrics.pth\n",
      "All metrics and KNN results can be found in saved/edit/trials/identity_cov/CINIC10_ImageNet-VGG_16/0117_201313/dog-train-n02114367_8883/watershed_masked_7/models\n"
     ]
    },
    {
     "name": "stderr",
     "output_type": "stream",
     "text": [
      "\n"
     ]
    },
    {
     "name": "stdout",
     "output_type": "stream",
     "text": [
      "saved/edit/trials/identity_cov/CINIC10_ImageNet-VGG_16/0117_201313/dog-train-n02114367_8883/watershed_masked_7/identity\n",
      "Calling edit()...\n",
      "Created ModelWrapperSanturkar model with 33646666 trainable parameters\n",
      "Restored weights from external_code/PyTorch_CIFAR10/cifar10_models/state_dicts/vgg16_bn.pt\n",
      "Using passed in data loader for validation.\n",
      "Key images: data/cinic-10-imagenet/train/dog/n02114367_8883.png\n",
      "Value images: saved/segmentations/dog/dog-train-n02114367_8883/modified_images/watershed_masked_7.png\n",
      "Masks: None\n",
      "Prepared data for editing\n",
      "Performing pre-edit metric calculations on validation set.\n"
     ]
    },
    {
     "name": "stderr",
     "output_type": "stream",
     "text": [
      "100%|██████████████████████████████████████████| 274/274 [00:09<00:00, 27.54it/s]"
     ]
    },
    {
     "name": "stdout",
     "output_type": "stream",
     "text": [
      "Pre-edit metrics: {'TP': array([6142, 5382, 5203, 3842, 4270, 2990, 5659, 5136, 4820, 4679]), 'TN': array([60115, 61110, 59441, 59902, 60157, 61756, 61050, 61747, 61643,\n",
      "       61202]), 'FPs': array([2885, 1890, 3559, 3098, 2843, 1244, 1950, 1253, 1357, 1798]), 'FNs': array([ 858, 1618, 1797, 3158, 2730, 4010, 1341, 1864, 2180, 2321]), 'accuracy': 0.6874714285714286, 'per_class_accuracy': array([0.94652857, 0.94988571, 0.92348571, 0.91062857, 0.92038571,\n",
      "       0.92494286, 0.95298571, 0.95547143, 0.94947143, 0.94115714]), 'per_class_accuracy_mean': 0.9374942857142857, 'precision': array([0.68040323, 0.74009901, 0.5938142 , 0.55360231, 0.60030929,\n",
      "       0.706188  , 0.74372454, 0.80388167, 0.78031407, 0.72240235]), 'precision_mean': 0.6924738665961387, 'recall': array([0.87742857, 0.76885714, 0.74328571, 0.54885714, 0.61      ,\n",
      "       0.42714286, 0.80842857, 0.73371429, 0.68857143, 0.66842857]), 'recall_mean': 0.6874714285714286, 'f1': array([0.7664566 , 0.75420404, 0.66019541, 0.55121951, 0.60511585,\n",
      "       0.53231262, 0.77472791, 0.76719695, 0.73157775, 0.69436818]), 'f1_mean': 0.6837374824369241}\n",
      "Saved pre-edit metrics saved/edit/trials/identity_cov/CINIC10_ImageNet-VGG_16/0117_201313/dog-train-n02114367_8883/watershed_masked_7/identity/models/pre_edit_metrics.pth\n",
      "No data loader for covariance matrix. Will use identity matrix\n",
      "Looking for covariance matrix weights in cache/identity/vgg16_bn-12\n"
     ]
    },
    {
     "name": "stderr",
     "output_type": "stream",
     "text": [
      "\n"
     ]
    },
    {
     "name": "stdout",
     "output_type": "stream",
     "text": [
      "Found precomputed cov matrices, returning...\n",
      "tensor([[1., 0., 0., 0., 0., 0., 0., 0., 0., 0.],\n",
      "        [0., 1., 0., 0., 0., 0., 0., 0., 0., 0.],\n",
      "        [0., 0., 1., 0., 0., 0., 0., 0., 0., 0.],\n",
      "        [0., 0., 0., 1., 0., 0., 0., 0., 0., 0.],\n",
      "        [0., 0., 0., 0., 1., 0., 0., 0., 0., 0.],\n",
      "        [0., 0., 0., 0., 0., 1., 0., 0., 0., 0.],\n",
      "        [0., 0., 0., 0., 0., 0., 1., 0., 0., 0.],\n",
      "        [0., 0., 0., 0., 0., 0., 0., 1., 0., 0.],\n",
      "        [0., 0., 0., 0., 0., 0., 0., 0., 1., 0.],\n",
      "        [0., 0., 0., 0., 0., 0., 0., 0., 0., 1.]], device='cuda:0')\n"
     ]
    },
    {
     "name": "stderr",
     "output_type": "stream",
     "text": [
      "tensor(0.0038, device='cuda:0', grad_fn=<DivBackward0>): 100%|█| 40000/40000 [00:"
     ]
    },
    {
     "name": "stdout",
     "output_type": "stream",
     "text": [
      "Loss (orig, final): 0.05912703648209572 0.0037683509290218353\n",
      "L2 norm of weight change: 0.23360823094844818\n",
      "Performing post-edit metric calculations on validation set.\n"
     ]
    },
    {
     "name": "stderr",
     "output_type": "stream",
     "text": [
      "\n",
      "100%|██████████████████████████████████████████| 274/274 [00:09<00:00, 27.94it/s]"
     ]
    },
    {
     "name": "stdout",
     "output_type": "stream",
     "text": [
      "Post-edit metrics: {'TP': array([6079, 5509, 5274, 3888, 3791, 3402, 5604, 5281, 4779, 4576]), 'TN': array([60432, 60875, 59288, 59746, 61094, 60940, 61211, 61519, 61714,\n",
      "       61364]), 'FPs': array([2568, 2125, 3712, 3254, 1906, 2060, 1789, 1481, 1286, 1636]), 'FNs': array([ 921, 1491, 1726, 3112, 3209, 3598, 1396, 1719, 2221, 2424]), 'accuracy': 0.6883285714285714, 'per_class_accuracy': array([0.95015714, 0.94834286, 0.92231429, 0.90905714, 0.92692857,\n",
      "       0.91917143, 0.9545    , 0.95428571, 0.9499    , 0.942     ]), 'per_class_accuracy_mean': 0.9376657142857143, 'precision': array([0.70301839, 0.72164003, 0.58691298, 0.54438533, 0.66543795,\n",
      "       0.62284877, 0.75801434, 0.78098196, 0.78796373, 0.73663876]), 'precision_mean': 0.6907842230308329, 'recall': array([0.86842857, 0.787     , 0.75342857, 0.55542857, 0.54157143,\n",
      "       0.486     , 0.80057143, 0.75442857, 0.68271429, 0.65371429]), 'recall_mean': 0.6883285714285715, 'f1': array([0.77701796, 0.7529042 , 0.65982735, 0.54985151, 0.59714893,\n",
      "       0.54597978, 0.77871187, 0.76747566, 0.7315729 , 0.6927036 ]), 'f1_mean': 0.6853193759778495}\n",
      "Saved post-edit metrics saved/edit/trials/identity_cov/CINIC10_ImageNet-VGG_16/0117_201313/dog-train-n02114367_8883/watershed_masked_7/identity/models/post_edit_metrics.pth\n",
      "All metrics and KNN results can be found in saved/edit/trials/identity_cov/CINIC10_ImageNet-VGG_16/0117_201313/dog-train-n02114367_8883/watershed_masked_7/identity/models\n",
      "Finished trial 29/37. Results saved to saved/edit/trials/identity_cov/CINIC10_ImageNet-VGG_16/0117_201313/dog-train-n02114367_8883/watershed_masked_7/identity\n",
      "(0117_211420) Starting Trial 30/37...\n",
      "Current run_id: 0117_201313/dog-train-n02113624_8298/felzenszwalb_masked_2\n"
     ]
    },
    {
     "name": "stderr",
     "output_type": "stream",
     "text": [
      "\n"
     ]
    },
    {
     "name": "stdout",
     "output_type": "stream",
     "text": [
      "saved/edit/trials/identity_cov/CINIC10_ImageNet-VGG_16/0117_201313/dog-train-n02113624_8298/felzenszwalb_masked_2\n",
      "Calling edit()...\n",
      "Created ModelWrapperSanturkar model with 33646666 trainable parameters\n",
      "Restored weights from external_code/PyTorch_CIFAR10/cifar10_models/state_dicts/vgg16_bn.pt\n",
      "Using passed in data loader for validation.\n",
      "Key images: data/cinic-10-imagenet/train/dog/n02113624_8298.png\n",
      "Value images: saved/segmentations/dog/dog-train-n02113624_8298/modified_images/felzenszwalb_masked_2.png\n",
      "Masks: None\n",
      "Prepared data for editing\n",
      "Performing pre-edit metric calculations on validation set.\n"
     ]
    },
    {
     "name": "stderr",
     "output_type": "stream",
     "text": [
      "100%|██████████████████████████████████████████| 274/274 [00:09<00:00, 27.93it/s]"
     ]
    },
    {
     "name": "stdout",
     "output_type": "stream",
     "text": [
      "Pre-edit metrics: {'TP': array([6142, 5382, 5203, 3842, 4270, 2990, 5659, 5136, 4820, 4679]), 'TN': array([60115, 61110, 59441, 59902, 60157, 61756, 61050, 61747, 61643,\n",
      "       61202]), 'FPs': array([2885, 1890, 3559, 3098, 2843, 1244, 1950, 1253, 1357, 1798]), 'FNs': array([ 858, 1618, 1797, 3158, 2730, 4010, 1341, 1864, 2180, 2321]), 'accuracy': 0.6874714285714286, 'per_class_accuracy': array([0.94652857, 0.94988571, 0.92348571, 0.91062857, 0.92038571,\n",
      "       0.92494286, 0.95298571, 0.95547143, 0.94947143, 0.94115714]), 'per_class_accuracy_mean': 0.9374942857142857, 'precision': array([0.68040323, 0.74009901, 0.5938142 , 0.55360231, 0.60030929,\n",
      "       0.706188  , 0.74372454, 0.80388167, 0.78031407, 0.72240235]), 'precision_mean': 0.6924738665961387, 'recall': array([0.87742857, 0.76885714, 0.74328571, 0.54885714, 0.61      ,\n",
      "       0.42714286, 0.80842857, 0.73371429, 0.68857143, 0.66842857]), 'recall_mean': 0.6874714285714286, 'f1': array([0.7664566 , 0.75420404, 0.66019541, 0.55121951, 0.60511585,\n",
      "       0.53231262, 0.77472791, 0.76719695, 0.73157775, 0.69436818]), 'f1_mean': 0.6837374824369241}\n",
      "Saved pre-edit metrics saved/edit/trials/identity_cov/CINIC10_ImageNet-VGG_16/0117_201313/dog-train-n02113624_8298/felzenszwalb_masked_2/models/pre_edit_metrics.pth\n",
      "Using passed in covariance data loader.\n",
      "Looking for covariance matrix weights in cache/cinic-10-imagenet-dummy/vgg16_bn-12\n"
     ]
    },
    {
     "name": "stderr",
     "output_type": "stream",
     "text": [
      "\n"
     ]
    },
    {
     "name": "stdout",
     "output_type": "stream",
     "text": [
      "Found precomputed cov matrices, returning...\n",
      "tensor([[ 1.0000e+00, -1.8504e-05, -3.8476e-05, -1.9159e-05, -4.0293e-05,\n",
      "         -3.1667e-05, -2.4137e-05, -2.9244e-05, -4.0682e-05, -2.2710e-05],\n",
      "        [-1.8504e-05,  1.0000e+00, -2.8878e-05, -1.2513e-05, -2.8300e-05,\n",
      "         -2.1209e-05, -1.7897e-05, -2.0580e-05, -2.4006e-05, -1.4785e-05],\n",
      "        [-3.8476e-05, -2.8878e-05,  1.0000e+00, -2.8741e-05, -6.1447e-05,\n",
      "         -4.6148e-05, -3.9829e-05, -4.5861e-05, -4.7019e-05, -3.5061e-05],\n",
      "        [-1.9159e-05, -1.2513e-05, -2.8741e-05,  1.0000e+00, -2.7411e-05,\n",
      "         -2.1258e-05, -1.7047e-05, -1.9973e-05, -2.4082e-05, -1.5679e-05],\n",
      "        [-4.0293e-05, -2.8300e-05, -6.1447e-05, -2.7411e-05,  1.0000e+00,\n",
      "         -4.6443e-05, -5.1575e-05, -4.8059e-05, -5.6685e-05, -3.6807e-05],\n",
      "        [-3.1667e-05, -2.1209e-05, -4.6148e-05, -2.1258e-05, -4.6443e-05,\n",
      "          1.0000e+00, -2.6984e-05, -3.3795e-05, -4.0129e-05, -2.3401e-05],\n",
      "        [-2.4137e-05, -1.7897e-05, -3.9829e-05, -1.7047e-05, -5.1575e-05,\n",
      "         -2.6984e-05,  1.0000e+00, -2.8577e-05, -3.1210e-05, -3.0226e-05],\n",
      "        [-2.9244e-05, -2.0580e-05, -4.5861e-05, -1.9973e-05, -4.8059e-05,\n",
      "         -3.3795e-05, -2.8577e-05,  1.0000e+00, -3.8494e-05, -2.2827e-05],\n",
      "        [-4.0682e-05, -2.4006e-05, -4.7019e-05, -2.4082e-05, -5.6685e-05,\n",
      "         -4.0129e-05, -3.1210e-05, -3.8494e-05,  1.0000e+00, -2.6560e-05],\n",
      "        [-2.2710e-05, -1.4785e-05, -3.5061e-05, -1.5679e-05, -3.6807e-05,\n",
      "         -2.3401e-05, -3.0226e-05, -2.2827e-05, -2.6560e-05,  1.0000e+00]],\n",
      "       device='cuda:0')\n"
     ]
    },
    {
     "name": "stderr",
     "output_type": "stream",
     "text": [
      "tensor(0.0037, device='cuda:0', grad_fn=<DivBackward0>): 100%|█| 40000/40000 [00:"
     ]
    },
    {
     "name": "stdout",
     "output_type": "stream",
     "text": [
      "Loss (orig, final): 0.054332148283720016 0.003712121397256851\n",
      "L2 norm of weight change: 0.18686386942863464\n",
      "Performing post-edit metric calculations on validation set.\n"
     ]
    },
    {
     "name": "stderr",
     "output_type": "stream",
     "text": [
      "\n",
      "100%|██████████████████████████████████████████| 274/274 [00:09<00:00, 28.25it/s]"
     ]
    },
    {
     "name": "stdout",
     "output_type": "stream",
     "text": [
      "Post-edit metrics: {'TP': array([6083, 5552, 5252, 3288, 4278, 3519, 5646, 5153, 4925, 4474]), 'TN': array([60342, 60788, 59270, 60980, 60075, 60933, 61082, 61736, 61470,\n",
      "       61494]), 'FPs': array([2658, 2212, 3730, 2020, 2925, 2067, 1918, 1264, 1530, 1506]), 'FNs': array([ 917, 1448, 1748, 3712, 2722, 3481, 1354, 1847, 2075, 2526]), 'accuracy': 0.6881428571428572, 'per_class_accuracy': array([0.94892857, 0.94771429, 0.92174286, 0.91811429, 0.91932857,\n",
      "       0.92074286, 0.95325714, 0.95555714, 0.9485    , 0.9424    ]), 'per_class_accuracy_mean': 0.9376285714285713, 'precision': array([0.6959158 , 0.71509531, 0.58472501, 0.61944235, 0.5939192 ,\n",
      "       0.62996778, 0.74643046, 0.80302322, 0.76297444, 0.74816054]), 'precision_mean': 0.6899654097638838, 'recall': array([0.869     , 0.79314286, 0.75028571, 0.46971429, 0.61114286,\n",
      "       0.50271429, 0.80657143, 0.73614286, 0.70357143, 0.63914286]), 'recall_mean': 0.6881428571428571, 'f1': array([0.77288609, 0.7520997 , 0.65723939, 0.53428664, 0.60240794,\n",
      "       0.55919275, 0.77533645, 0.76812998, 0.73206986, 0.68936826]), 'f1_mean': 0.6843017080352662}\n",
      "Saved post-edit metrics saved/edit/trials/identity_cov/CINIC10_ImageNet-VGG_16/0117_201313/dog-train-n02113624_8298/felzenszwalb_masked_2/models/post_edit_metrics.pth\n",
      "All metrics and KNN results can be found in saved/edit/trials/identity_cov/CINIC10_ImageNet-VGG_16/0117_201313/dog-train-n02113624_8298/felzenszwalb_masked_2/models\n"
     ]
    },
    {
     "name": "stderr",
     "output_type": "stream",
     "text": [
      "\n"
     ]
    },
    {
     "name": "stdout",
     "output_type": "stream",
     "text": [
      "saved/edit/trials/identity_cov/CINIC10_ImageNet-VGG_16/0117_201313/dog-train-n02113624_8298/felzenszwalb_masked_2/identity\n",
      "Calling edit()...\n",
      "Created ModelWrapperSanturkar model with 33646666 trainable parameters\n",
      "Restored weights from external_code/PyTorch_CIFAR10/cifar10_models/state_dicts/vgg16_bn.pt\n",
      "Using passed in data loader for validation.\n",
      "Key images: data/cinic-10-imagenet/train/dog/n02113624_8298.png\n",
      "Value images: saved/segmentations/dog/dog-train-n02113624_8298/modified_images/felzenszwalb_masked_2.png\n",
      "Masks: None\n",
      "Prepared data for editing\n",
      "Performing pre-edit metric calculations on validation set.\n"
     ]
    },
    {
     "name": "stderr",
     "output_type": "stream",
     "text": [
      "100%|██████████████████████████████████████████| 274/274 [00:10<00:00, 26.77it/s]"
     ]
    },
    {
     "name": "stdout",
     "output_type": "stream",
     "text": [
      "Pre-edit metrics: {'TP': array([6142, 5382, 5203, 3842, 4270, 2990, 5659, 5136, 4820, 4679]), 'TN': array([60115, 61110, 59441, 59902, 60157, 61756, 61050, 61747, 61643,\n",
      "       61202]), 'FPs': array([2885, 1890, 3559, 3098, 2843, 1244, 1950, 1253, 1357, 1798]), 'FNs': array([ 858, 1618, 1797, 3158, 2730, 4010, 1341, 1864, 2180, 2321]), 'accuracy': 0.6874714285714286, 'per_class_accuracy': array([0.94652857, 0.94988571, 0.92348571, 0.91062857, 0.92038571,\n",
      "       0.92494286, 0.95298571, 0.95547143, 0.94947143, 0.94115714]), 'per_class_accuracy_mean': 0.9374942857142857, 'precision': array([0.68040323, 0.74009901, 0.5938142 , 0.55360231, 0.60030929,\n",
      "       0.706188  , 0.74372454, 0.80388167, 0.78031407, 0.72240235]), 'precision_mean': 0.6924738665961387, 'recall': array([0.87742857, 0.76885714, 0.74328571, 0.54885714, 0.61      ,\n",
      "       0.42714286, 0.80842857, 0.73371429, 0.68857143, 0.66842857]), 'recall_mean': 0.6874714285714286, 'f1': array([0.7664566 , 0.75420404, 0.66019541, 0.55121951, 0.60511585,\n",
      "       0.53231262, 0.77472791, 0.76719695, 0.73157775, 0.69436818]), 'f1_mean': 0.6837374824369241}\n",
      "Saved pre-edit metrics saved/edit/trials/identity_cov/CINIC10_ImageNet-VGG_16/0117_201313/dog-train-n02113624_8298/felzenszwalb_masked_2/identity/models/pre_edit_metrics.pth\n",
      "No data loader for covariance matrix. Will use identity matrix\n",
      "Looking for covariance matrix weights in cache/identity/vgg16_bn-12\n"
     ]
    },
    {
     "name": "stderr",
     "output_type": "stream",
     "text": [
      "\n"
     ]
    },
    {
     "name": "stdout",
     "output_type": "stream",
     "text": [
      "Found precomputed cov matrices, returning...\n",
      "tensor([[1., 0., 0., 0., 0., 0., 0., 0., 0., 0.],\n",
      "        [0., 1., 0., 0., 0., 0., 0., 0., 0., 0.],\n",
      "        [0., 0., 1., 0., 0., 0., 0., 0., 0., 0.],\n",
      "        [0., 0., 0., 1., 0., 0., 0., 0., 0., 0.],\n",
      "        [0., 0., 0., 0., 1., 0., 0., 0., 0., 0.],\n",
      "        [0., 0., 0., 0., 0., 1., 0., 0., 0., 0.],\n",
      "        [0., 0., 0., 0., 0., 0., 1., 0., 0., 0.],\n",
      "        [0., 0., 0., 0., 0., 0., 0., 1., 0., 0.],\n",
      "        [0., 0., 0., 0., 0., 0., 0., 0., 1., 0.],\n",
      "        [0., 0., 0., 0., 0., 0., 0., 0., 0., 1.]], device='cuda:0')\n"
     ]
    },
    {
     "name": "stderr",
     "output_type": "stream",
     "text": [
      "tensor(0.0036, device='cuda:0', grad_fn=<DivBackward0>): 100%|█| 40000/40000 [00:"
     ]
    },
    {
     "name": "stdout",
     "output_type": "stream",
     "text": [
      "Loss (orig, final): 0.054332148283720016 0.0035926206037402153\n",
      "L2 norm of weight change: 0.18651796877384186\n",
      "Performing post-edit metric calculations on validation set.\n"
     ]
    },
    {
     "name": "stderr",
     "output_type": "stream",
     "text": [
      "\n",
      "100%|██████████████████████████████████████████| 274/274 [00:09<00:00, 29.01it/s]"
     ]
    },
    {
     "name": "stdout",
     "output_type": "stream",
     "text": [
      "Post-edit metrics: {'TP': array([6083, 5553, 5251, 3290, 4277, 3522, 5646, 5153, 4928, 4472]), 'TN': array([60341, 60784, 59275, 60980, 60075, 60934, 61083, 61736, 61469,\n",
      "       61498]), 'FPs': array([2659, 2216, 3725, 2020, 2925, 2066, 1917, 1264, 1531, 1502]), 'FNs': array([ 917, 1447, 1749, 3710, 2723, 3478, 1354, 1847, 2072, 2528]), 'accuracy': 0.6882142857142857, 'per_class_accuracy': array([0.94891429, 0.94767143, 0.9218    , 0.91814286, 0.91931429,\n",
      "       0.9208    , 0.95327143, 0.95555714, 0.94852857, 0.94242857]), 'per_class_accuracy_mean': 0.9376428571428571, 'precision': array([0.69583619, 0.7147638 , 0.58500446, 0.61958569, 0.59386282,\n",
      "       0.63027917, 0.74652916, 0.80302322, 0.7629664 , 0.74857717]), 'precision_mean': 0.6900428073065363, 'recall': array([0.869     , 0.79328571, 0.75014286, 0.47      , 0.611     ,\n",
      "       0.50314286, 0.80657143, 0.73614286, 0.704     , 0.63885714]), 'recall_mean': 0.6882142857142857, 'f1': array([0.772837  , 0.7519805 , 0.65736104, 0.53452478, 0.60230953,\n",
      "       0.55958055, 0.77538969, 0.76812998, 0.73229809, 0.68937876]), 'f1_mean': 0.6843789919759067}\n",
      "Saved post-edit metrics saved/edit/trials/identity_cov/CINIC10_ImageNet-VGG_16/0117_201313/dog-train-n02113624_8298/felzenszwalb_masked_2/identity/models/post_edit_metrics.pth\n",
      "All metrics and KNN results can be found in saved/edit/trials/identity_cov/CINIC10_ImageNet-VGG_16/0117_201313/dog-train-n02113624_8298/felzenszwalb_masked_2/identity/models\n",
      "Finished trial 30/37. Results saved to saved/edit/trials/identity_cov/CINIC10_ImageNet-VGG_16/0117_201313/dog-train-n02113624_8298/felzenszwalb_masked_2/identity\n",
      "(0117_211619) Starting Trial 31/37...\n",
      "Current run_id: 0117_201313/dog-train-n02113624_8298/slic_masked_2\n"
     ]
    },
    {
     "name": "stderr",
     "output_type": "stream",
     "text": [
      "\n"
     ]
    },
    {
     "name": "stdout",
     "output_type": "stream",
     "text": [
      "saved/edit/trials/identity_cov/CINIC10_ImageNet-VGG_16/0117_201313/dog-train-n02113624_8298/slic_masked_2\n",
      "Calling edit()...\n",
      "Created ModelWrapperSanturkar model with 33646666 trainable parameters\n",
      "Restored weights from external_code/PyTorch_CIFAR10/cifar10_models/state_dicts/vgg16_bn.pt\n",
      "Using passed in data loader for validation.\n",
      "Key images: data/cinic-10-imagenet/train/dog/n02113624_8298.png\n",
      "Value images: saved/segmentations/dog/dog-train-n02113624_8298/modified_images/slic_masked_2.png\n",
      "Masks: None\n",
      "Prepared data for editing\n",
      "Performing pre-edit metric calculations on validation set.\n"
     ]
    },
    {
     "name": "stderr",
     "output_type": "stream",
     "text": [
      "100%|██████████████████████████████████████████| 274/274 [00:09<00:00, 28.51it/s]"
     ]
    },
    {
     "name": "stdout",
     "output_type": "stream",
     "text": [
      "Pre-edit metrics: {'TP': array([6142, 5382, 5203, 3842, 4270, 2990, 5659, 5136, 4820, 4679]), 'TN': array([60115, 61110, 59441, 59902, 60157, 61756, 61050, 61747, 61643,\n",
      "       61202]), 'FPs': array([2885, 1890, 3559, 3098, 2843, 1244, 1950, 1253, 1357, 1798]), 'FNs': array([ 858, 1618, 1797, 3158, 2730, 4010, 1341, 1864, 2180, 2321]), 'accuracy': 0.6874714285714286, 'per_class_accuracy': array([0.94652857, 0.94988571, 0.92348571, 0.91062857, 0.92038571,\n",
      "       0.92494286, 0.95298571, 0.95547143, 0.94947143, 0.94115714]), 'per_class_accuracy_mean': 0.9374942857142857, 'precision': array([0.68040323, 0.74009901, 0.5938142 , 0.55360231, 0.60030929,\n",
      "       0.706188  , 0.74372454, 0.80388167, 0.78031407, 0.72240235]), 'precision_mean': 0.6924738665961387, 'recall': array([0.87742857, 0.76885714, 0.74328571, 0.54885714, 0.61      ,\n",
      "       0.42714286, 0.80842857, 0.73371429, 0.68857143, 0.66842857]), 'recall_mean': 0.6874714285714286, 'f1': array([0.7664566 , 0.75420404, 0.66019541, 0.55121951, 0.60511585,\n",
      "       0.53231262, 0.77472791, 0.76719695, 0.73157775, 0.69436818]), 'f1_mean': 0.6837374824369241}\n",
      "Saved pre-edit metrics saved/edit/trials/identity_cov/CINIC10_ImageNet-VGG_16/0117_201313/dog-train-n02113624_8298/slic_masked_2/models/pre_edit_metrics.pth\n"
     ]
    },
    {
     "name": "stderr",
     "output_type": "stream",
     "text": [
      "\n"
     ]
    },
    {
     "name": "stdout",
     "output_type": "stream",
     "text": [
      "Using passed in covariance data loader.\n",
      "Looking for covariance matrix weights in cache/cinic-10-imagenet-dummy/vgg16_bn-12\n",
      "Found precomputed cov matrices, returning...\n",
      "tensor([[ 1.0000e+00, -1.8504e-05, -3.8476e-05, -1.9159e-05, -4.0293e-05,\n",
      "         -3.1667e-05, -2.4137e-05, -2.9244e-05, -4.0682e-05, -2.2710e-05],\n",
      "        [-1.8504e-05,  1.0000e+00, -2.8878e-05, -1.2513e-05, -2.8300e-05,\n",
      "         -2.1209e-05, -1.7897e-05, -2.0580e-05, -2.4006e-05, -1.4785e-05],\n",
      "        [-3.8476e-05, -2.8878e-05,  1.0000e+00, -2.8741e-05, -6.1447e-05,\n",
      "         -4.6148e-05, -3.9829e-05, -4.5861e-05, -4.7019e-05, -3.5061e-05],\n",
      "        [-1.9159e-05, -1.2513e-05, -2.8741e-05,  1.0000e+00, -2.7411e-05,\n",
      "         -2.1258e-05, -1.7047e-05, -1.9973e-05, -2.4082e-05, -1.5679e-05],\n",
      "        [-4.0293e-05, -2.8300e-05, -6.1447e-05, -2.7411e-05,  1.0000e+00,\n",
      "         -4.6443e-05, -5.1575e-05, -4.8059e-05, -5.6685e-05, -3.6807e-05],\n",
      "        [-3.1667e-05, -2.1209e-05, -4.6148e-05, -2.1258e-05, -4.6443e-05,\n",
      "          1.0000e+00, -2.6984e-05, -3.3795e-05, -4.0129e-05, -2.3401e-05],\n",
      "        [-2.4137e-05, -1.7897e-05, -3.9829e-05, -1.7047e-05, -5.1575e-05,\n",
      "         -2.6984e-05,  1.0000e+00, -2.8577e-05, -3.1210e-05, -3.0226e-05],\n",
      "        [-2.9244e-05, -2.0580e-05, -4.5861e-05, -1.9973e-05, -4.8059e-05,\n",
      "         -3.3795e-05, -2.8577e-05,  1.0000e+00, -3.8494e-05, -2.2827e-05],\n",
      "        [-4.0682e-05, -2.4006e-05, -4.7019e-05, -2.4082e-05, -5.6685e-05,\n",
      "         -4.0129e-05, -3.1210e-05, -3.8494e-05,  1.0000e+00, -2.6560e-05],\n",
      "        [-2.2710e-05, -1.4785e-05, -3.5061e-05, -1.5679e-05, -3.6807e-05,\n",
      "         -2.3401e-05, -3.0226e-05, -2.2827e-05, -2.6560e-05,  1.0000e+00]],\n",
      "       device='cuda:0')\n"
     ]
    },
    {
     "name": "stderr",
     "output_type": "stream",
     "text": [
      "tensor(0.0135, device='cuda:0', grad_fn=<DivBackward0>): 100%|█| 40000/40000 [00:"
     ]
    },
    {
     "name": "stdout",
     "output_type": "stream",
     "text": [
      "Loss (orig, final): 0.09514617919921875 0.013471986167132854\n",
      "L2 norm of weight change: 0.2692064046859741\n",
      "Performing post-edit metric calculations on validation set.\n"
     ]
    },
    {
     "name": "stderr",
     "output_type": "stream",
     "text": [
      "\n",
      "100%|██████████████████████████████████████████| 274/274 [00:09<00:00, 27.82it/s]"
     ]
    },
    {
     "name": "stdout",
     "output_type": "stream",
     "text": [
      "Post-edit metrics: {'TP': array([6138, 5596, 5412, 2771, 4300, 3239, 5708, 5277, 4754, 4472]), 'TN': array([60064, 60640, 58425, 61764, 59964, 61472, 60800, 61411, 61692,\n",
      "       61435]), 'FPs': array([2936, 2360, 4575, 1236, 3036, 1528, 2200, 1589, 1308, 1565]), 'FNs': array([ 862, 1404, 1588, 4229, 2700, 3761, 1292, 1723, 2246, 2528]), 'accuracy': 0.6809571428571428, 'per_class_accuracy': array([0.94574286, 0.94622857, 0.91195714, 0.92192857, 0.91805714,\n",
      "       0.92444286, 0.95011429, 0.95268571, 0.94922857, 0.94152857]), 'per_class_accuracy_mean': 0.9361914285714287, 'precision': array([0.67643818, 0.70336853, 0.54190448, 0.69153981, 0.58615049,\n",
      "       0.67946297, 0.72180071, 0.76856976, 0.78422963, 0.74076528]), 'precision_mean': 0.6894229828563226, 'recall': array([0.87685714, 0.79942857, 0.77314286, 0.39585714, 0.61428571,\n",
      "       0.46271429, 0.81542857, 0.75385714, 0.67914286, 0.63885714]), 'recall_mean': 0.6809571428571428, 'f1': array([0.76371781, 0.74832843, 0.63719315, 0.50349777, 0.59988839,\n",
      "       0.55052265, 0.76576335, 0.76114236, 0.72791303, 0.6860474 ]), 'f1_mean': 0.6744014342857245}\n"
     ]
    },
    {
     "name": "stderr",
     "output_type": "stream",
     "text": [
      "\n"
     ]
    },
    {
     "name": "stdout",
     "output_type": "stream",
     "text": [
      "Saved post-edit metrics saved/edit/trials/identity_cov/CINIC10_ImageNet-VGG_16/0117_201313/dog-train-n02113624_8298/slic_masked_2/models/post_edit_metrics.pth\n",
      "All metrics and KNN results can be found in saved/edit/trials/identity_cov/CINIC10_ImageNet-VGG_16/0117_201313/dog-train-n02113624_8298/slic_masked_2/models\n",
      "saved/edit/trials/identity_cov/CINIC10_ImageNet-VGG_16/0117_201313/dog-train-n02113624_8298/slic_masked_2/identity\n",
      "Calling edit()...\n",
      "Created ModelWrapperSanturkar model with 33646666 trainable parameters\n",
      "Restored weights from external_code/PyTorch_CIFAR10/cifar10_models/state_dicts/vgg16_bn.pt\n",
      "Using passed in data loader for validation.\n",
      "Key images: data/cinic-10-imagenet/train/dog/n02113624_8298.png\n",
      "Value images: saved/segmentations/dog/dog-train-n02113624_8298/modified_images/slic_masked_2.png\n",
      "Masks: None\n",
      "Prepared data for editing\n",
      "Performing pre-edit metric calculations on validation set.\n"
     ]
    },
    {
     "name": "stderr",
     "output_type": "stream",
     "text": [
      "100%|██████████████████████████████████████████| 274/274 [00:09<00:00, 27.68it/s]"
     ]
    },
    {
     "name": "stdout",
     "output_type": "stream",
     "text": [
      "Pre-edit metrics: {'TP': array([6142, 5382, 5203, 3842, 4270, 2990, 5659, 5136, 4820, 4679]), 'TN': array([60115, 61110, 59441, 59902, 60157, 61756, 61050, 61747, 61643,\n",
      "       61202]), 'FPs': array([2885, 1890, 3559, 3098, 2843, 1244, 1950, 1253, 1357, 1798]), 'FNs': array([ 858, 1618, 1797, 3158, 2730, 4010, 1341, 1864, 2180, 2321]), 'accuracy': 0.6874714285714286, 'per_class_accuracy': array([0.94652857, 0.94988571, 0.92348571, 0.91062857, 0.92038571,\n",
      "       0.92494286, 0.95298571, 0.95547143, 0.94947143, 0.94115714]), 'per_class_accuracy_mean': 0.9374942857142857, 'precision': array([0.68040323, 0.74009901, 0.5938142 , 0.55360231, 0.60030929,\n",
      "       0.706188  , 0.74372454, 0.80388167, 0.78031407, 0.72240235]), 'precision_mean': 0.6924738665961387, 'recall': array([0.87742857, 0.76885714, 0.74328571, 0.54885714, 0.61      ,\n",
      "       0.42714286, 0.80842857, 0.73371429, 0.68857143, 0.66842857]), 'recall_mean': 0.6874714285714286, 'f1': array([0.7664566 , 0.75420404, 0.66019541, 0.55121951, 0.60511585,\n",
      "       0.53231262, 0.77472791, 0.76719695, 0.73157775, 0.69436818]), 'f1_mean': 0.6837374824369241}\n",
      "Saved pre-edit metrics saved/edit/trials/identity_cov/CINIC10_ImageNet-VGG_16/0117_201313/dog-train-n02113624_8298/slic_masked_2/identity/models/pre_edit_metrics.pth\n",
      "No data loader for covariance matrix. Will use identity matrix\n",
      "Looking for covariance matrix weights in cache/identity/vgg16_bn-12\n"
     ]
    },
    {
     "name": "stderr",
     "output_type": "stream",
     "text": [
      "\n"
     ]
    },
    {
     "name": "stdout",
     "output_type": "stream",
     "text": [
      "Found precomputed cov matrices, returning...\n",
      "tensor([[1., 0., 0., 0., 0., 0., 0., 0., 0., 0.],\n",
      "        [0., 1., 0., 0., 0., 0., 0., 0., 0., 0.],\n",
      "        [0., 0., 1., 0., 0., 0., 0., 0., 0., 0.],\n",
      "        [0., 0., 0., 1., 0., 0., 0., 0., 0., 0.],\n",
      "        [0., 0., 0., 0., 1., 0., 0., 0., 0., 0.],\n",
      "        [0., 0., 0., 0., 0., 1., 0., 0., 0., 0.],\n",
      "        [0., 0., 0., 0., 0., 0., 1., 0., 0., 0.],\n",
      "        [0., 0., 0., 0., 0., 0., 0., 1., 0., 0.],\n",
      "        [0., 0., 0., 0., 0., 0., 0., 0., 1., 0.],\n",
      "        [0., 0., 0., 0., 0., 0., 0., 0., 0., 1.]], device='cuda:0')\n"
     ]
    },
    {
     "name": "stderr",
     "output_type": "stream",
     "text": [
      "tensor(0.0137, device='cuda:0', grad_fn=<DivBackward0>): 100%|█| 40000/40000 [00:"
     ]
    },
    {
     "name": "stdout",
     "output_type": "stream",
     "text": [
      "Loss (orig, final): 0.09514617919921875 0.013692954555153847\n",
      "L2 norm of weight change: 0.2712436020374298\n",
      "Performing post-edit metric calculations on validation set.\n"
     ]
    },
    {
     "name": "stderr",
     "output_type": "stream",
     "text": [
      "\n",
      "100%|██████████████████████████████████████████| 274/274 [00:09<00:00, 28.84it/s]"
     ]
    },
    {
     "name": "stdout",
     "output_type": "stream",
     "text": [
      "Post-edit metrics: {'TP': array([6138, 5599, 5420, 2763, 4300, 3234, 5707, 5279, 4749, 4462]), 'TN': array([60059, 60625, 58392, 61777, 59966, 61481, 60800, 61411, 61699,\n",
      "       61441]), 'FPs': array([2941, 2375, 4608, 1223, 3034, 1519, 2200, 1589, 1301, 1559]), 'FNs': array([ 862, 1401, 1580, 4237, 2700, 3766, 1293, 1721, 2251, 2538]), 'accuracy': 0.6807285714285715, 'per_class_accuracy': array([0.94567143, 0.94605714, 0.9116    , 0.922     , 0.91808571,\n",
      "       0.9245    , 0.9501    , 0.95271429, 0.94925714, 0.94147143]), 'per_class_accuracy_mean': 0.9361457142857142, 'precision': array([0.67606565, 0.70215701, 0.54048664, 0.69317612, 0.58631034,\n",
      "       0.68041237, 0.72176552, 0.76863716, 0.78495868, 0.74107291]), 'precision_mean': 0.6895042387875339, 'recall': array([0.87685714, 0.79985714, 0.77428571, 0.39471429, 0.61428571,\n",
      "       0.462     , 0.81528571, 0.75414286, 0.67842857, 0.63742857]), 'recall_mean': 0.6807285714285713, 'f1': array([0.76348032, 0.74782957, 0.63659854, 0.50300382, 0.59997209,\n",
      "       0.55032758, 0.76568055, 0.76132103, 0.72781609, 0.68535443]), 'f1_mean': 0.6741384023081091}\n",
      "Saved post-edit metrics saved/edit/trials/identity_cov/CINIC10_ImageNet-VGG_16/0117_201313/dog-train-n02113624_8298/slic_masked_2/identity/models/post_edit_metrics.pth\n",
      "All metrics and KNN results can be found in saved/edit/trials/identity_cov/CINIC10_ImageNet-VGG_16/0117_201313/dog-train-n02113624_8298/slic_masked_2/identity/models\n",
      "Finished trial 31/37. Results saved to saved/edit/trials/identity_cov/CINIC10_ImageNet-VGG_16/0117_201313/dog-train-n02113624_8298/slic_masked_2/identity\n",
      "(0117_211816) Starting Trial 32/37...\n",
      "Current run_id: 0117_201313/dog-train-n02113624_8298/slic_masked_4\n"
     ]
    },
    {
     "name": "stderr",
     "output_type": "stream",
     "text": [
      "\n"
     ]
    },
    {
     "name": "stdout",
     "output_type": "stream",
     "text": [
      "saved/edit/trials/identity_cov/CINIC10_ImageNet-VGG_16/0117_201313/dog-train-n02113624_8298/slic_masked_4\n",
      "Calling edit()...\n",
      "Created ModelWrapperSanturkar model with 33646666 trainable parameters\n",
      "Restored weights from external_code/PyTorch_CIFAR10/cifar10_models/state_dicts/vgg16_bn.pt\n",
      "Using passed in data loader for validation.\n",
      "Key images: data/cinic-10-imagenet/train/dog/n02113624_8298.png\n",
      "Value images: saved/segmentations/dog/dog-train-n02113624_8298/modified_images/slic_masked_4.png\n",
      "Masks: None\n",
      "Prepared data for editing\n",
      "Performing pre-edit metric calculations on validation set.\n"
     ]
    },
    {
     "name": "stderr",
     "output_type": "stream",
     "text": [
      "100%|██████████████████████████████████████████| 274/274 [00:09<00:00, 29.03it/s]"
     ]
    },
    {
     "name": "stdout",
     "output_type": "stream",
     "text": [
      "Pre-edit metrics: {'TP': array([6142, 5382, 5203, 3842, 4270, 2990, 5659, 5136, 4820, 4679]), 'TN': array([60115, 61110, 59441, 59902, 60157, 61756, 61050, 61747, 61643,\n",
      "       61202]), 'FPs': array([2885, 1890, 3559, 3098, 2843, 1244, 1950, 1253, 1357, 1798]), 'FNs': array([ 858, 1618, 1797, 3158, 2730, 4010, 1341, 1864, 2180, 2321]), 'accuracy': 0.6874714285714286, 'per_class_accuracy': array([0.94652857, 0.94988571, 0.92348571, 0.91062857, 0.92038571,\n",
      "       0.92494286, 0.95298571, 0.95547143, 0.94947143, 0.94115714]), 'per_class_accuracy_mean': 0.9374942857142857, 'precision': array([0.68040323, 0.74009901, 0.5938142 , 0.55360231, 0.60030929,\n",
      "       0.706188  , 0.74372454, 0.80388167, 0.78031407, 0.72240235]), 'precision_mean': 0.6924738665961387, 'recall': array([0.87742857, 0.76885714, 0.74328571, 0.54885714, 0.61      ,\n",
      "       0.42714286, 0.80842857, 0.73371429, 0.68857143, 0.66842857]), 'recall_mean': 0.6874714285714286, 'f1': array([0.7664566 , 0.75420404, 0.66019541, 0.55121951, 0.60511585,\n",
      "       0.53231262, 0.77472791, 0.76719695, 0.73157775, 0.69436818]), 'f1_mean': 0.6837374824369241}\n",
      "Saved pre-edit metrics saved/edit/trials/identity_cov/CINIC10_ImageNet-VGG_16/0117_201313/dog-train-n02113624_8298/slic_masked_4/models/pre_edit_metrics.pth\n",
      "Using passed in covariance data loader.\n",
      "Looking for covariance matrix weights in cache/cinic-10-imagenet-dummy/vgg16_bn-12\n"
     ]
    },
    {
     "name": "stderr",
     "output_type": "stream",
     "text": [
      "\n"
     ]
    },
    {
     "name": "stdout",
     "output_type": "stream",
     "text": [
      "Found precomputed cov matrices, returning...\n",
      "tensor([[ 1.0000e+00, -1.8504e-05, -3.8476e-05, -1.9159e-05, -4.0293e-05,\n",
      "         -3.1667e-05, -2.4137e-05, -2.9244e-05, -4.0682e-05, -2.2710e-05],\n",
      "        [-1.8504e-05,  1.0000e+00, -2.8878e-05, -1.2513e-05, -2.8300e-05,\n",
      "         -2.1209e-05, -1.7897e-05, -2.0580e-05, -2.4006e-05, -1.4785e-05],\n",
      "        [-3.8476e-05, -2.8878e-05,  1.0000e+00, -2.8741e-05, -6.1447e-05,\n",
      "         -4.6148e-05, -3.9829e-05, -4.5861e-05, -4.7019e-05, -3.5061e-05],\n",
      "        [-1.9159e-05, -1.2513e-05, -2.8741e-05,  1.0000e+00, -2.7411e-05,\n",
      "         -2.1258e-05, -1.7047e-05, -1.9973e-05, -2.4082e-05, -1.5679e-05],\n",
      "        [-4.0293e-05, -2.8300e-05, -6.1447e-05, -2.7411e-05,  1.0000e+00,\n",
      "         -4.6443e-05, -5.1575e-05, -4.8059e-05, -5.6685e-05, -3.6807e-05],\n",
      "        [-3.1667e-05, -2.1209e-05, -4.6148e-05, -2.1258e-05, -4.6443e-05,\n",
      "          1.0000e+00, -2.6984e-05, -3.3795e-05, -4.0129e-05, -2.3401e-05],\n",
      "        [-2.4137e-05, -1.7897e-05, -3.9829e-05, -1.7047e-05, -5.1575e-05,\n",
      "         -2.6984e-05,  1.0000e+00, -2.8577e-05, -3.1210e-05, -3.0226e-05],\n",
      "        [-2.9244e-05, -2.0580e-05, -4.5861e-05, -1.9973e-05, -4.8059e-05,\n",
      "         -3.3795e-05, -2.8577e-05,  1.0000e+00, -3.8494e-05, -2.2827e-05],\n",
      "        [-4.0682e-05, -2.4006e-05, -4.7019e-05, -2.4082e-05, -5.6685e-05,\n",
      "         -4.0129e-05, -3.1210e-05, -3.8494e-05,  1.0000e+00, -2.6560e-05],\n",
      "        [-2.2710e-05, -1.4785e-05, -3.5061e-05, -1.5679e-05, -3.6807e-05,\n",
      "         -2.3401e-05, -3.0226e-05, -2.2827e-05, -2.6560e-05,  1.0000e+00]],\n",
      "       device='cuda:0')\n"
     ]
    },
    {
     "name": "stderr",
     "output_type": "stream",
     "text": [
      "tensor(0.0049, device='cuda:0', grad_fn=<DivBackward0>): 100%|█| 40000/40000 [00:"
     ]
    },
    {
     "name": "stdout",
     "output_type": "stream",
     "text": [
      "Loss (orig, final): 0.09642261266708374 0.00491736177355051\n",
      "L2 norm of weight change: 0.30757981538772583\n",
      "Performing post-edit metric calculations on validation set.\n"
     ]
    },
    {
     "name": "stderr",
     "output_type": "stream",
     "text": [
      "\n",
      "100%|██████████████████████████████████████████| 274/274 [00:09<00:00, 28.75it/s]"
     ]
    },
    {
     "name": "stdout",
     "output_type": "stream",
     "text": [
      "Post-edit metrics: {'TP': array([6022, 5681, 5268, 1869, 4271, 4324, 5620, 5168, 4925, 4325]), 'TN': array([60657, 60486, 59269, 62452, 60118, 58438, 61158, 61738, 61458,\n",
      "       61699]), 'FPs': array([2343, 2514, 3731,  548, 2882, 4562, 1842, 1262, 1542, 1301]), 'FNs': array([ 978, 1319, 1732, 5131, 2729, 2676, 1380, 1832, 2075, 2675]), 'accuracy': 0.6781857142857143, 'per_class_accuracy': array([0.95255714, 0.94524286, 0.92195714, 0.91887143, 0.91984286,\n",
      "       0.8966    , 0.95397143, 0.9558    , 0.94832857, 0.9432    ]), 'per_class_accuracy_mean': 0.9356371428571428, 'precision': array([0.71990436, 0.69322758, 0.58539838, 0.77327265, 0.59709213,\n",
      "       0.48660815, 0.75314929, 0.8037325 , 0.76155868, 0.76875222]), 'precision_mean': 0.694269594567245, 'recall': array([0.86028571, 0.81157143, 0.75257143, 0.267     , 0.61014286,\n",
      "       0.61771429, 0.80285714, 0.73828571, 0.70357143, 0.61785714]), 'recall_mean': 0.6781857142857143, 'f1': array([0.78385942, 0.74774597, 0.65854116, 0.3969417 , 0.60354695,\n",
      "       0.5443787 , 0.77720924, 0.76962025, 0.73141754, 0.68509425]), 'f1_mean': 0.6698355179530492}\n",
      "Saved post-edit metrics saved/edit/trials/identity_cov/CINIC10_ImageNet-VGG_16/0117_201313/dog-train-n02113624_8298/slic_masked_4/models/post_edit_metrics.pth\n",
      "All metrics and KNN results can be found in saved/edit/trials/identity_cov/CINIC10_ImageNet-VGG_16/0117_201313/dog-train-n02113624_8298/slic_masked_4/models\n"
     ]
    },
    {
     "name": "stderr",
     "output_type": "stream",
     "text": [
      "\n"
     ]
    },
    {
     "name": "stdout",
     "output_type": "stream",
     "text": [
      "saved/edit/trials/identity_cov/CINIC10_ImageNet-VGG_16/0117_201313/dog-train-n02113624_8298/slic_masked_4/identity\n",
      "Calling edit()...\n",
      "Created ModelWrapperSanturkar model with 33646666 trainable parameters\n",
      "Restored weights from external_code/PyTorch_CIFAR10/cifar10_models/state_dicts/vgg16_bn.pt\n",
      "Using passed in data loader for validation.\n",
      "Key images: data/cinic-10-imagenet/train/dog/n02113624_8298.png\n",
      "Value images: saved/segmentations/dog/dog-train-n02113624_8298/modified_images/slic_masked_4.png\n",
      "Masks: None\n",
      "Prepared data for editing\n",
      "Performing pre-edit metric calculations on validation set.\n"
     ]
    },
    {
     "name": "stderr",
     "output_type": "stream",
     "text": [
      "100%|██████████████████████████████████████████| 274/274 [00:09<00:00, 29.48it/s]"
     ]
    },
    {
     "name": "stdout",
     "output_type": "stream",
     "text": [
      "Pre-edit metrics: {'TP': array([6142, 5382, 5203, 3842, 4270, 2990, 5659, 5136, 4820, 4679]), 'TN': array([60115, 61110, 59441, 59902, 60157, 61756, 61050, 61747, 61643,\n",
      "       61202]), 'FPs': array([2885, 1890, 3559, 3098, 2843, 1244, 1950, 1253, 1357, 1798]), 'FNs': array([ 858, 1618, 1797, 3158, 2730, 4010, 1341, 1864, 2180, 2321]), 'accuracy': 0.6874714285714286, 'per_class_accuracy': array([0.94652857, 0.94988571, 0.92348571, 0.91062857, 0.92038571,\n",
      "       0.92494286, 0.95298571, 0.95547143, 0.94947143, 0.94115714]), 'per_class_accuracy_mean': 0.9374942857142857, 'precision': array([0.68040323, 0.74009901, 0.5938142 , 0.55360231, 0.60030929,\n",
      "       0.706188  , 0.74372454, 0.80388167, 0.78031407, 0.72240235]), 'precision_mean': 0.6924738665961387, 'recall': array([0.87742857, 0.76885714, 0.74328571, 0.54885714, 0.61      ,\n",
      "       0.42714286, 0.80842857, 0.73371429, 0.68857143, 0.66842857]), 'recall_mean': 0.6874714285714286, 'f1': array([0.7664566 , 0.75420404, 0.66019541, 0.55121951, 0.60511585,\n",
      "       0.53231262, 0.77472791, 0.76719695, 0.73157775, 0.69436818]), 'f1_mean': 0.6837374824369241}\n",
      "Saved pre-edit metrics saved/edit/trials/identity_cov/CINIC10_ImageNet-VGG_16/0117_201313/dog-train-n02113624_8298/slic_masked_4/identity/models/pre_edit_metrics.pth\n",
      "No data loader for covariance matrix. Will use identity matrix\n",
      "Looking for covariance matrix weights in cache/identity/vgg16_bn-12\n"
     ]
    },
    {
     "name": "stderr",
     "output_type": "stream",
     "text": [
      "\n"
     ]
    },
    {
     "name": "stdout",
     "output_type": "stream",
     "text": [
      "Found precomputed cov matrices, returning...\n",
      "tensor([[1., 0., 0., 0., 0., 0., 0., 0., 0., 0.],\n",
      "        [0., 1., 0., 0., 0., 0., 0., 0., 0., 0.],\n",
      "        [0., 0., 1., 0., 0., 0., 0., 0., 0., 0.],\n",
      "        [0., 0., 0., 1., 0., 0., 0., 0., 0., 0.],\n",
      "        [0., 0., 0., 0., 1., 0., 0., 0., 0., 0.],\n",
      "        [0., 0., 0., 0., 0., 1., 0., 0., 0., 0.],\n",
      "        [0., 0., 0., 0., 0., 0., 1., 0., 0., 0.],\n",
      "        [0., 0., 0., 0., 0., 0., 0., 1., 0., 0.],\n",
      "        [0., 0., 0., 0., 0., 0., 0., 0., 1., 0.],\n",
      "        [0., 0., 0., 0., 0., 0., 0., 0., 0., 1.]], device='cuda:0')\n"
     ]
    },
    {
     "name": "stderr",
     "output_type": "stream",
     "text": [
      "tensor(0.0051, device='cuda:0', grad_fn=<DivBackward0>): 100%|█| 40000/40000 [00:"
     ]
    },
    {
     "name": "stdout",
     "output_type": "stream",
     "text": [
      "Loss (orig, final): 0.09642261266708374 0.005143309012055397\n",
      "L2 norm of weight change: 0.3095249533653259\n",
      "Performing post-edit metric calculations on validation set.\n"
     ]
    },
    {
     "name": "stderr",
     "output_type": "stream",
     "text": [
      "\n",
      "100%|██████████████████████████████████████████| 274/274 [00:09<00:00, 28.46it/s]"
     ]
    },
    {
     "name": "stdout",
     "output_type": "stream",
     "text": [
      "Post-edit metrics: {'TP': array([6021, 5685, 5270, 1837, 4266, 4338, 5618, 5169, 4925, 4313]), 'TN': array([60666, 60468, 59263, 62474, 60124, 58368, 61161, 61743, 61459,\n",
      "       61716]), 'FPs': array([2334, 2532, 3737,  526, 2876, 4632, 1839, 1257, 1541, 1284]), 'FNs': array([ 979, 1315, 1730, 5163, 2734, 2662, 1382, 1831, 2075, 2687]), 'accuracy': 0.6777428571428571, 'per_class_accuracy': array([0.95267143, 0.94504286, 0.9219    , 0.91872857, 0.91985714,\n",
      "       0.8958    , 0.95398571, 0.95588571, 0.94834286, 0.94327143]), 'per_class_accuracy_mean': 0.9355485714285715, 'precision': array([0.72064632, 0.69185834, 0.58510048, 0.77740161, 0.59731168,\n",
      "       0.48361204, 0.75338608, 0.80438842, 0.76167646, 0.77059139]), 'precision_mean': 0.6945972817059831, 'recall': array([0.86014286, 0.81214286, 0.75285714, 0.26242857, 0.60942857,\n",
      "       0.61971429, 0.80257143, 0.73842857, 0.70357143, 0.61614286]), 'recall_mean': 0.6777428571428571, 'f1': array([0.78423966, 0.74719064, 0.65846192, 0.3923956 , 0.60330929,\n",
      "       0.54326863, 0.77720136, 0.76999851, 0.73147186, 0.68476621]), 'f1_mean': 0.6692303681471813}\n",
      "Saved post-edit metrics saved/edit/trials/identity_cov/CINIC10_ImageNet-VGG_16/0117_201313/dog-train-n02113624_8298/slic_masked_4/identity/models/post_edit_metrics.pth\n",
      "All metrics and KNN results can be found in saved/edit/trials/identity_cov/CINIC10_ImageNet-VGG_16/0117_201313/dog-train-n02113624_8298/slic_masked_4/identity/models\n",
      "Finished trial 32/37. Results saved to saved/edit/trials/identity_cov/CINIC10_ImageNet-VGG_16/0117_201313/dog-train-n02113624_8298/slic_masked_4/identity\n",
      "(0117_212014) Starting Trial 33/37...\n",
      "Current run_id: 0117_201313/dog-train-n02113624_8298/slic_masked_5\n"
     ]
    },
    {
     "name": "stderr",
     "output_type": "stream",
     "text": [
      "\n"
     ]
    },
    {
     "name": "stdout",
     "output_type": "stream",
     "text": [
      "saved/edit/trials/identity_cov/CINIC10_ImageNet-VGG_16/0117_201313/dog-train-n02113624_8298/slic_masked_5\n",
      "Calling edit()...\n",
      "Created ModelWrapperSanturkar model with 33646666 trainable parameters\n",
      "Restored weights from external_code/PyTorch_CIFAR10/cifar10_models/state_dicts/vgg16_bn.pt\n",
      "Using passed in data loader for validation.\n",
      "Key images: data/cinic-10-imagenet/train/dog/n02113624_8298.png\n",
      "Value images: saved/segmentations/dog/dog-train-n02113624_8298/modified_images/slic_masked_5.png\n",
      "Masks: None\n",
      "Prepared data for editing\n",
      "Performing pre-edit metric calculations on validation set.\n"
     ]
    },
    {
     "name": "stderr",
     "output_type": "stream",
     "text": [
      "100%|██████████████████████████████████████████| 274/274 [00:09<00:00, 29.37it/s]"
     ]
    },
    {
     "name": "stdout",
     "output_type": "stream",
     "text": [
      "Pre-edit metrics: {'TP': array([6142, 5382, 5203, 3842, 4270, 2990, 5659, 5136, 4820, 4679]), 'TN': array([60115, 61110, 59441, 59902, 60157, 61756, 61050, 61747, 61643,\n",
      "       61202]), 'FPs': array([2885, 1890, 3559, 3098, 2843, 1244, 1950, 1253, 1357, 1798]), 'FNs': array([ 858, 1618, 1797, 3158, 2730, 4010, 1341, 1864, 2180, 2321]), 'accuracy': 0.6874714285714286, 'per_class_accuracy': array([0.94652857, 0.94988571, 0.92348571, 0.91062857, 0.92038571,\n",
      "       0.92494286, 0.95298571, 0.95547143, 0.94947143, 0.94115714]), 'per_class_accuracy_mean': 0.9374942857142857, 'precision': array([0.68040323, 0.74009901, 0.5938142 , 0.55360231, 0.60030929,\n",
      "       0.706188  , 0.74372454, 0.80388167, 0.78031407, 0.72240235]), 'precision_mean': 0.6924738665961387, 'recall': array([0.87742857, 0.76885714, 0.74328571, 0.54885714, 0.61      ,\n",
      "       0.42714286, 0.80842857, 0.73371429, 0.68857143, 0.66842857]), 'recall_mean': 0.6874714285714286, 'f1': array([0.7664566 , 0.75420404, 0.66019541, 0.55121951, 0.60511585,\n",
      "       0.53231262, 0.77472791, 0.76719695, 0.73157775, 0.69436818]), 'f1_mean': 0.6837374824369241}\n",
      "Saved pre-edit metrics saved/edit/trials/identity_cov/CINIC10_ImageNet-VGG_16/0117_201313/dog-train-n02113624_8298/slic_masked_5/models/pre_edit_metrics.pth\n",
      "Using passed in covariance data loader.\n",
      "Looking for covariance matrix weights in cache/cinic-10-imagenet-dummy/vgg16_bn-12\n"
     ]
    },
    {
     "name": "stderr",
     "output_type": "stream",
     "text": [
      "\n"
     ]
    },
    {
     "name": "stdout",
     "output_type": "stream",
     "text": [
      "Found precomputed cov matrices, returning...\n",
      "tensor([[ 1.0000e+00, -1.8504e-05, -3.8476e-05, -1.9159e-05, -4.0293e-05,\n",
      "         -3.1667e-05, -2.4137e-05, -2.9244e-05, -4.0682e-05, -2.2710e-05],\n",
      "        [-1.8504e-05,  1.0000e+00, -2.8878e-05, -1.2513e-05, -2.8300e-05,\n",
      "         -2.1209e-05, -1.7897e-05, -2.0580e-05, -2.4006e-05, -1.4785e-05],\n",
      "        [-3.8476e-05, -2.8878e-05,  1.0000e+00, -2.8741e-05, -6.1447e-05,\n",
      "         -4.6148e-05, -3.9829e-05, -4.5861e-05, -4.7019e-05, -3.5061e-05],\n",
      "        [-1.9159e-05, -1.2513e-05, -2.8741e-05,  1.0000e+00, -2.7411e-05,\n",
      "         -2.1258e-05, -1.7047e-05, -1.9973e-05, -2.4082e-05, -1.5679e-05],\n",
      "        [-4.0293e-05, -2.8300e-05, -6.1447e-05, -2.7411e-05,  1.0000e+00,\n",
      "         -4.6443e-05, -5.1575e-05, -4.8059e-05, -5.6685e-05, -3.6807e-05],\n",
      "        [-3.1667e-05, -2.1209e-05, -4.6148e-05, -2.1258e-05, -4.6443e-05,\n",
      "          1.0000e+00, -2.6984e-05, -3.3795e-05, -4.0129e-05, -2.3401e-05],\n",
      "        [-2.4137e-05, -1.7897e-05, -3.9829e-05, -1.7047e-05, -5.1575e-05,\n",
      "         -2.6984e-05,  1.0000e+00, -2.8577e-05, -3.1210e-05, -3.0226e-05],\n",
      "        [-2.9244e-05, -2.0580e-05, -4.5861e-05, -1.9973e-05, -4.8059e-05,\n",
      "         -3.3795e-05, -2.8577e-05,  1.0000e+00, -3.8494e-05, -2.2827e-05],\n",
      "        [-4.0682e-05, -2.4006e-05, -4.7019e-05, -2.4082e-05, -5.6685e-05,\n",
      "         -4.0129e-05, -3.1210e-05, -3.8494e-05,  1.0000e+00, -2.6560e-05],\n",
      "        [-2.2710e-05, -1.4785e-05, -3.5061e-05, -1.5679e-05, -3.6807e-05,\n",
      "         -2.3401e-05, -3.0226e-05, -2.2827e-05, -2.6560e-05,  1.0000e+00]],\n",
      "       device='cuda:0')\n"
     ]
    },
    {
     "name": "stderr",
     "output_type": "stream",
     "text": [
      "tensor(0.0043, device='cuda:0', grad_fn=<DivBackward0>): 100%|█| 40000/40000 [00:"
     ]
    },
    {
     "name": "stdout",
     "output_type": "stream",
     "text": [
      "Loss (orig, final): 0.06112139672040939 0.004325843881815672\n",
      "L2 norm of weight change: 0.20008112490177155\n",
      "Performing post-edit metric calculations on validation set.\n"
     ]
    },
    {
     "name": "stderr",
     "output_type": "stream",
     "text": [
      "\n",
      "100%|██████████████████████████████████████████| 274/274 [00:09<00:00, 28.41it/s]"
     ]
    },
    {
     "name": "stdout",
     "output_type": "stream",
     "text": [
      "Post-edit metrics: {'TP': array([6096, 5568, 5312, 3149, 4269, 3478, 5633, 5178, 4884, 4452]), 'TN': array([60259, 60739, 58929, 61200, 60087, 61014, 61090, 61671, 61511,\n",
      "       61519]), 'FPs': array([2741, 2261, 4071, 1800, 2913, 1986, 1910, 1329, 1489, 1481]), 'FNs': array([ 904, 1432, 1688, 3851, 2731, 3522, 1367, 1822, 2116, 2548]), 'accuracy': 0.6859857142857143, 'per_class_accuracy': array([0.94792857, 0.94724286, 0.91772857, 0.91927143, 0.91937143,\n",
      "       0.92131429, 0.95318571, 0.95498571, 0.9485    , 0.94244286]), 'per_class_accuracy_mean': 0.937197142857143, 'precision': array([0.68982686, 0.71120194, 0.56613024, 0.63629016, 0.59440267,\n",
      "       0.63653001, 0.7467851 , 0.79575841, 0.76635807, 0.75037923]), 'precision_mean': 0.6893662709664101, 'recall': array([0.87085714, 0.79542857, 0.75885714, 0.44985714, 0.60985714,\n",
      "       0.49685714, 0.80471429, 0.73971429, 0.69771429, 0.636     ]), 'recall_mean': 0.6859857142857143, 'f1': array([0.76984277, 0.75096095, 0.64847708, 0.5270734 , 0.60203074,\n",
      "       0.55808729, 0.77466823, 0.76671356, 0.73042698, 0.68847135]), 'f1_mean': 0.6816752351182838}\n",
      "Saved post-edit metrics saved/edit/trials/identity_cov/CINIC10_ImageNet-VGG_16/0117_201313/dog-train-n02113624_8298/slic_masked_5/models/post_edit_metrics.pth\n",
      "All metrics and KNN results can be found in saved/edit/trials/identity_cov/CINIC10_ImageNet-VGG_16/0117_201313/dog-train-n02113624_8298/slic_masked_5/models\n"
     ]
    },
    {
     "name": "stderr",
     "output_type": "stream",
     "text": [
      "\n"
     ]
    },
    {
     "name": "stdout",
     "output_type": "stream",
     "text": [
      "saved/edit/trials/identity_cov/CINIC10_ImageNet-VGG_16/0117_201313/dog-train-n02113624_8298/slic_masked_5/identity\n",
      "Calling edit()...\n",
      "Created ModelWrapperSanturkar model with 33646666 trainable parameters\n",
      "Restored weights from external_code/PyTorch_CIFAR10/cifar10_models/state_dicts/vgg16_bn.pt\n",
      "Using passed in data loader for validation.\n",
      "Key images: data/cinic-10-imagenet/train/dog/n02113624_8298.png\n",
      "Value images: saved/segmentations/dog/dog-train-n02113624_8298/modified_images/slic_masked_5.png\n",
      "Masks: None\n",
      "Prepared data for editing\n",
      "Performing pre-edit metric calculations on validation set.\n"
     ]
    },
    {
     "name": "stderr",
     "output_type": "stream",
     "text": [
      "100%|██████████████████████████████████████████| 274/274 [00:09<00:00, 29.47it/s]"
     ]
    },
    {
     "name": "stdout",
     "output_type": "stream",
     "text": [
      "Pre-edit metrics: {'TP': array([6142, 5382, 5203, 3842, 4270, 2990, 5659, 5136, 4820, 4679]), 'TN': array([60115, 61110, 59441, 59902, 60157, 61756, 61050, 61747, 61643,\n",
      "       61202]), 'FPs': array([2885, 1890, 3559, 3098, 2843, 1244, 1950, 1253, 1357, 1798]), 'FNs': array([ 858, 1618, 1797, 3158, 2730, 4010, 1341, 1864, 2180, 2321]), 'accuracy': 0.6874714285714286, 'per_class_accuracy': array([0.94652857, 0.94988571, 0.92348571, 0.91062857, 0.92038571,\n",
      "       0.92494286, 0.95298571, 0.95547143, 0.94947143, 0.94115714]), 'per_class_accuracy_mean': 0.9374942857142857, 'precision': array([0.68040323, 0.74009901, 0.5938142 , 0.55360231, 0.60030929,\n",
      "       0.706188  , 0.74372454, 0.80388167, 0.78031407, 0.72240235]), 'precision_mean': 0.6924738665961387, 'recall': array([0.87742857, 0.76885714, 0.74328571, 0.54885714, 0.61      ,\n",
      "       0.42714286, 0.80842857, 0.73371429, 0.68857143, 0.66842857]), 'recall_mean': 0.6874714285714286, 'f1': array([0.7664566 , 0.75420404, 0.66019541, 0.55121951, 0.60511585,\n",
      "       0.53231262, 0.77472791, 0.76719695, 0.73157775, 0.69436818]), 'f1_mean': 0.6837374824369241}\n",
      "Saved pre-edit metrics saved/edit/trials/identity_cov/CINIC10_ImageNet-VGG_16/0117_201313/dog-train-n02113624_8298/slic_masked_5/identity/models/pre_edit_metrics.pth\n",
      "No data loader for covariance matrix. Will use identity matrix\n",
      "Looking for covariance matrix weights in cache/identity/vgg16_bn-12\n"
     ]
    },
    {
     "name": "stderr",
     "output_type": "stream",
     "text": [
      "\n"
     ]
    },
    {
     "name": "stdout",
     "output_type": "stream",
     "text": [
      "Found precomputed cov matrices, returning...\n",
      "tensor([[1., 0., 0., 0., 0., 0., 0., 0., 0., 0.],\n",
      "        [0., 1., 0., 0., 0., 0., 0., 0., 0., 0.],\n",
      "        [0., 0., 1., 0., 0., 0., 0., 0., 0., 0.],\n",
      "        [0., 0., 0., 1., 0., 0., 0., 0., 0., 0.],\n",
      "        [0., 0., 0., 0., 1., 0., 0., 0., 0., 0.],\n",
      "        [0., 0., 0., 0., 0., 1., 0., 0., 0., 0.],\n",
      "        [0., 0., 0., 0., 0., 0., 1., 0., 0., 0.],\n",
      "        [0., 0., 0., 0., 0., 0., 0., 1., 0., 0.],\n",
      "        [0., 0., 0., 0., 0., 0., 0., 0., 1., 0.],\n",
      "        [0., 0., 0., 0., 0., 0., 0., 0., 0., 1.]], device='cuda:0')\n"
     ]
    },
    {
     "name": "stderr",
     "output_type": "stream",
     "text": [
      "tensor(0.0043, device='cuda:0', grad_fn=<DivBackward0>): 100%|█| 40000/40000 [00:"
     ]
    },
    {
     "name": "stdout",
     "output_type": "stream",
     "text": [
      "Loss (orig, final): 0.06112139672040939 0.00430516479536891\n",
      "L2 norm of weight change: 0.2006990909576416\n",
      "Performing post-edit metric calculations on validation set.\n"
     ]
    },
    {
     "name": "stderr",
     "output_type": "stream",
     "text": [
      "\n",
      "100%|██████████████████████████████████████████| 274/274 [00:09<00:00, 29.80it/s]"
     ]
    },
    {
     "name": "stdout",
     "output_type": "stream",
     "text": [
      "Post-edit metrics: {'TP': array([6096, 5569, 5313, 3150, 4269, 3480, 5630, 5180, 4886, 4447]), 'TN': array([60260, 60733, 58921, 61199, 60088, 61013, 61100, 61674, 61511,\n",
      "       61521]), 'FPs': array([2740, 2267, 4079, 1801, 2912, 1987, 1900, 1326, 1489, 1479]), 'FNs': array([ 904, 1431, 1687, 3850, 2731, 3520, 1370, 1820, 2114, 2553]), 'accuracy': 0.686, 'per_class_accuracy': array([0.94794286, 0.94717143, 0.91762857, 0.91927143, 0.91938571,\n",
      "       0.92132857, 0.95328571, 0.95505714, 0.94852857, 0.9424    ]), 'per_class_accuracy_mean': 0.9371999999999998, 'precision': array([0.68990493, 0.71069423, 0.56569421, 0.6362351 , 0.59448545,\n",
      "       0.63654655, 0.74767596, 0.79618813, 0.76643137, 0.75042187]), 'precision_mean': 0.6894277816836101, 'recall': array([0.87085714, 0.79557143, 0.759     , 0.45      , 0.60985714,\n",
      "       0.49714286, 0.80428571, 0.74      , 0.698     , 0.63528571]), 'recall_mean': 0.6860000000000002, 'f1': array([0.76989139, 0.75074144, 0.64824305, 0.52715254, 0.6020732 ,\n",
      "       0.55827384, 0.77494838, 0.76706649, 0.73061682, 0.68807056]), 'f1_mean': 0.6817077700379308}\n",
      "Saved post-edit metrics saved/edit/trials/identity_cov/CINIC10_ImageNet-VGG_16/0117_201313/dog-train-n02113624_8298/slic_masked_5/identity/models/post_edit_metrics.pth\n",
      "All metrics and KNN results can be found in saved/edit/trials/identity_cov/CINIC10_ImageNet-VGG_16/0117_201313/dog-train-n02113624_8298/slic_masked_5/identity/models\n"
     ]
    },
    {
     "name": "stderr",
     "output_type": "stream",
     "text": [
      "\n"
     ]
    },
    {
     "name": "stdout",
     "output_type": "stream",
     "text": [
      "Finished trial 33/37. Results saved to saved/edit/trials/identity_cov/CINIC10_ImageNet-VGG_16/0117_201313/dog-train-n02113624_8298/slic_masked_5/identity\n",
      "(0117_212211) Starting Trial 34/37...\n",
      "Current run_id: 0117_201313/dog-train-n02113624_8298/watershed_masked_1\n",
      "saved/edit/trials/identity_cov/CINIC10_ImageNet-VGG_16/0117_201313/dog-train-n02113624_8298/watershed_masked_1\n",
      "Calling edit()...\n",
      "Created ModelWrapperSanturkar model with 33646666 trainable parameters\n",
      "Restored weights from external_code/PyTorch_CIFAR10/cifar10_models/state_dicts/vgg16_bn.pt\n",
      "Using passed in data loader for validation.\n",
      "Key images: data/cinic-10-imagenet/train/dog/n02113624_8298.png\n",
      "Value images: saved/segmentations/dog/dog-train-n02113624_8298/modified_images/watershed_masked_1.png\n",
      "Masks: None\n",
      "Prepared data for editing\n",
      "Performing pre-edit metric calculations on validation set.\n"
     ]
    },
    {
     "name": "stderr",
     "output_type": "stream",
     "text": [
      "100%|██████████████████████████████████████████| 274/274 [00:09<00:00, 28.90it/s]"
     ]
    },
    {
     "name": "stdout",
     "output_type": "stream",
     "text": [
      "Pre-edit metrics: {'TP': array([6142, 5382, 5203, 3842, 4270, 2990, 5659, 5136, 4820, 4679]), 'TN': array([60115, 61110, 59441, 59902, 60157, 61756, 61050, 61747, 61643,\n",
      "       61202]), 'FPs': array([2885, 1890, 3559, 3098, 2843, 1244, 1950, 1253, 1357, 1798]), 'FNs': array([ 858, 1618, 1797, 3158, 2730, 4010, 1341, 1864, 2180, 2321]), 'accuracy': 0.6874714285714286, 'per_class_accuracy': array([0.94652857, 0.94988571, 0.92348571, 0.91062857, 0.92038571,\n",
      "       0.92494286, 0.95298571, 0.95547143, 0.94947143, 0.94115714]), 'per_class_accuracy_mean': 0.9374942857142857, 'precision': array([0.68040323, 0.74009901, 0.5938142 , 0.55360231, 0.60030929,\n",
      "       0.706188  , 0.74372454, 0.80388167, 0.78031407, 0.72240235]), 'precision_mean': 0.6924738665961387, 'recall': array([0.87742857, 0.76885714, 0.74328571, 0.54885714, 0.61      ,\n",
      "       0.42714286, 0.80842857, 0.73371429, 0.68857143, 0.66842857]), 'recall_mean': 0.6874714285714286, 'f1': array([0.7664566 , 0.75420404, 0.66019541, 0.55121951, 0.60511585,\n",
      "       0.53231262, 0.77472791, 0.76719695, 0.73157775, 0.69436818]), 'f1_mean': 0.6837374824369241}\n",
      "Saved pre-edit metrics saved/edit/trials/identity_cov/CINIC10_ImageNet-VGG_16/0117_201313/dog-train-n02113624_8298/watershed_masked_1/models/pre_edit_metrics.pth\n",
      "Using passed in covariance data loader.\n",
      "Looking for covariance matrix weights in cache/cinic-10-imagenet-dummy/vgg16_bn-12\n"
     ]
    },
    {
     "name": "stderr",
     "output_type": "stream",
     "text": [
      "\n"
     ]
    },
    {
     "name": "stdout",
     "output_type": "stream",
     "text": [
      "Found precomputed cov matrices, returning...\n",
      "tensor([[ 1.0000e+00, -1.8504e-05, -3.8476e-05, -1.9159e-05, -4.0293e-05,\n",
      "         -3.1667e-05, -2.4137e-05, -2.9244e-05, -4.0682e-05, -2.2710e-05],\n",
      "        [-1.8504e-05,  1.0000e+00, -2.8878e-05, -1.2513e-05, -2.8300e-05,\n",
      "         -2.1209e-05, -1.7897e-05, -2.0580e-05, -2.4006e-05, -1.4785e-05],\n",
      "        [-3.8476e-05, -2.8878e-05,  1.0000e+00, -2.8741e-05, -6.1447e-05,\n",
      "         -4.6148e-05, -3.9829e-05, -4.5861e-05, -4.7019e-05, -3.5061e-05],\n",
      "        [-1.9159e-05, -1.2513e-05, -2.8741e-05,  1.0000e+00, -2.7411e-05,\n",
      "         -2.1258e-05, -1.7047e-05, -1.9973e-05, -2.4082e-05, -1.5679e-05],\n",
      "        [-4.0293e-05, -2.8300e-05, -6.1447e-05, -2.7411e-05,  1.0000e+00,\n",
      "         -4.6443e-05, -5.1575e-05, -4.8059e-05, -5.6685e-05, -3.6807e-05],\n",
      "        [-3.1667e-05, -2.1209e-05, -4.6148e-05, -2.1258e-05, -4.6443e-05,\n",
      "          1.0000e+00, -2.6984e-05, -3.3795e-05, -4.0129e-05, -2.3401e-05],\n",
      "        [-2.4137e-05, -1.7897e-05, -3.9829e-05, -1.7047e-05, -5.1575e-05,\n",
      "         -2.6984e-05,  1.0000e+00, -2.8577e-05, -3.1210e-05, -3.0226e-05],\n",
      "        [-2.9244e-05, -2.0580e-05, -4.5861e-05, -1.9973e-05, -4.8059e-05,\n",
      "         -3.3795e-05, -2.8577e-05,  1.0000e+00, -3.8494e-05, -2.2827e-05],\n",
      "        [-4.0682e-05, -2.4006e-05, -4.7019e-05, -2.4082e-05, -5.6685e-05,\n",
      "         -4.0129e-05, -3.1210e-05, -3.8494e-05,  1.0000e+00, -2.6560e-05],\n",
      "        [-2.2710e-05, -1.4785e-05, -3.5061e-05, -1.5679e-05, -3.6807e-05,\n",
      "         -2.3401e-05, -3.0226e-05, -2.2827e-05, -2.6560e-05,  1.0000e+00]],\n",
      "       device='cuda:0')\n"
     ]
    },
    {
     "name": "stderr",
     "output_type": "stream",
     "text": [
      "tensor(0.0042, device='cuda:0', grad_fn=<DivBackward0>): 100%|█| 40000/40000 [00:"
     ]
    },
    {
     "name": "stdout",
     "output_type": "stream",
     "text": [
      "Loss (orig, final): 0.08134209364652634 0.004171416163444519\n",
      "L2 norm of weight change: 0.2508446276187897\n",
      "Performing post-edit metric calculations on validation set.\n"
     ]
    },
    {
     "name": "stderr",
     "output_type": "stream",
     "text": [
      "\n",
      "100%|██████████████████████████████████████████| 274/274 [00:09<00:00, 28.26it/s]"
     ]
    },
    {
     "name": "stdout",
     "output_type": "stream",
     "text": [
      "Post-edit metrics: {'TP': array([6050, 5606, 5400, 2847, 4264, 3755, 5607, 5147, 4916, 4377]), 'TN': array([60471, 60691, 58608, 61628, 60110, 60467, 61138, 61747, 61463,\n",
      "       61646]), 'FPs': array([2529, 2309, 4392, 1372, 2890, 2533, 1862, 1253, 1537, 1354]), 'FNs': array([ 950, 1394, 1600, 4153, 2736, 3245, 1393, 1853, 2084, 2623]), 'accuracy': 0.6852714285714285, 'per_class_accuracy': array([0.9503    , 0.9471    , 0.9144    , 0.92107143, 0.91962857,\n",
      "       0.91745714, 0.9535    , 0.95562857, 0.94827143, 0.94318571]), 'per_class_accuracy_mean': 0.9370542857142858, 'precision': array([0.7052104 , 0.70827543, 0.55147059, 0.67480446, 0.59603019,\n",
      "       0.59716921, 0.75070291, 0.80421875, 0.76181621, 0.76374106]), 'precision_mean': 0.6913439194514438, 'recall': array([0.86428571, 0.80085714, 0.77142857, 0.40671429, 0.60914286,\n",
      "       0.53642857, 0.801     , 0.73528571, 0.70228571, 0.62528571]), 'recall_mean': 0.6852714285714285, 'f1': array([0.77668657, 0.75172645, 0.64316341, 0.50753187, 0.60251519,\n",
      "       0.56517158, 0.77503628, 0.76820896, 0.7308407 , 0.68761291]), 'f1_mean': 0.680849392303063}\n",
      "Saved post-edit metrics saved/edit/trials/identity_cov/CINIC10_ImageNet-VGG_16/0117_201313/dog-train-n02113624_8298/watershed_masked_1/models/post_edit_metrics.pth\n",
      "All metrics and KNN results can be found in saved/edit/trials/identity_cov/CINIC10_ImageNet-VGG_16/0117_201313/dog-train-n02113624_8298/watershed_masked_1/models\n"
     ]
    },
    {
     "name": "stderr",
     "output_type": "stream",
     "text": [
      "\n"
     ]
    },
    {
     "name": "stdout",
     "output_type": "stream",
     "text": [
      "saved/edit/trials/identity_cov/CINIC10_ImageNet-VGG_16/0117_201313/dog-train-n02113624_8298/watershed_masked_1/identity\n",
      "Calling edit()...\n",
      "Created ModelWrapperSanturkar model with 33646666 trainable parameters\n",
      "Restored weights from external_code/PyTorch_CIFAR10/cifar10_models/state_dicts/vgg16_bn.pt\n",
      "Using passed in data loader for validation.\n",
      "Key images: data/cinic-10-imagenet/train/dog/n02113624_8298.png\n",
      "Value images: saved/segmentations/dog/dog-train-n02113624_8298/modified_images/watershed_masked_1.png\n",
      "Masks: None\n",
      "Prepared data for editing\n",
      "Performing pre-edit metric calculations on validation set.\n"
     ]
    },
    {
     "name": "stderr",
     "output_type": "stream",
     "text": [
      "100%|██████████████████████████████████████████| 274/274 [00:09<00:00, 28.57it/s]"
     ]
    },
    {
     "name": "stdout",
     "output_type": "stream",
     "text": [
      "Pre-edit metrics: {'TP': array([6142, 5382, 5203, 3842, 4270, 2990, 5659, 5136, 4820, 4679]), 'TN': array([60115, 61110, 59441, 59902, 60157, 61756, 61050, 61747, 61643,\n",
      "       61202]), 'FPs': array([2885, 1890, 3559, 3098, 2843, 1244, 1950, 1253, 1357, 1798]), 'FNs': array([ 858, 1618, 1797, 3158, 2730, 4010, 1341, 1864, 2180, 2321]), 'accuracy': 0.6874714285714286, 'per_class_accuracy': array([0.94652857, 0.94988571, 0.92348571, 0.91062857, 0.92038571,\n",
      "       0.92494286, 0.95298571, 0.95547143, 0.94947143, 0.94115714]), 'per_class_accuracy_mean': 0.9374942857142857, 'precision': array([0.68040323, 0.74009901, 0.5938142 , 0.55360231, 0.60030929,\n",
      "       0.706188  , 0.74372454, 0.80388167, 0.78031407, 0.72240235]), 'precision_mean': 0.6924738665961387, 'recall': array([0.87742857, 0.76885714, 0.74328571, 0.54885714, 0.61      ,\n",
      "       0.42714286, 0.80842857, 0.73371429, 0.68857143, 0.66842857]), 'recall_mean': 0.6874714285714286, 'f1': array([0.7664566 , 0.75420404, 0.66019541, 0.55121951, 0.60511585,\n",
      "       0.53231262, 0.77472791, 0.76719695, 0.73157775, 0.69436818]), 'f1_mean': 0.6837374824369241}\n",
      "Saved pre-edit metrics saved/edit/trials/identity_cov/CINIC10_ImageNet-VGG_16/0117_201313/dog-train-n02113624_8298/watershed_masked_1/identity/models/pre_edit_metrics.pth\n",
      "No data loader for covariance matrix. Will use identity matrix\n",
      "Looking for covariance matrix weights in cache/identity/vgg16_bn-12\n"
     ]
    },
    {
     "name": "stderr",
     "output_type": "stream",
     "text": [
      "\n"
     ]
    },
    {
     "name": "stdout",
     "output_type": "stream",
     "text": [
      "Found precomputed cov matrices, returning...\n",
      "tensor([[1., 0., 0., 0., 0., 0., 0., 0., 0., 0.],\n",
      "        [0., 1., 0., 0., 0., 0., 0., 0., 0., 0.],\n",
      "        [0., 0., 1., 0., 0., 0., 0., 0., 0., 0.],\n",
      "        [0., 0., 0., 1., 0., 0., 0., 0., 0., 0.],\n",
      "        [0., 0., 0., 0., 1., 0., 0., 0., 0., 0.],\n",
      "        [0., 0., 0., 0., 0., 1., 0., 0., 0., 0.],\n",
      "        [0., 0., 0., 0., 0., 0., 1., 0., 0., 0.],\n",
      "        [0., 0., 0., 0., 0., 0., 0., 1., 0., 0.],\n",
      "        [0., 0., 0., 0., 0., 0., 0., 0., 1., 0.],\n",
      "        [0., 0., 0., 0., 0., 0., 0., 0., 0., 1.]], device='cuda:0')\n"
     ]
    },
    {
     "name": "stderr",
     "output_type": "stream",
     "text": [
      "tensor(0.0041, device='cuda:0', grad_fn=<DivBackward0>): 100%|█| 40000/40000 [00:"
     ]
    },
    {
     "name": "stdout",
     "output_type": "stream",
     "text": [
      "Loss (orig, final): 0.08134209364652634 0.004096543416380882\n",
      "L2 norm of weight change: 0.2521109879016876\n",
      "Performing post-edit metric calculations on validation set.\n"
     ]
    },
    {
     "name": "stderr",
     "output_type": "stream",
     "text": [
      "\n",
      "100%|██████████████████████████████████████████| 274/274 [00:09<00:00, 28.68it/s]"
     ]
    },
    {
     "name": "stdout",
     "output_type": "stream",
     "text": [
      "Post-edit metrics: {'TP': array([6045, 5608, 5403, 2838, 4262, 3767, 5604, 5146, 4921, 4365]), 'TN': array([60481, 60678, 58601, 61635, 60112, 60436, 61148, 61754, 61460,\n",
      "       61654]), 'FPs': array([2519, 2322, 4399, 1365, 2888, 2564, 1852, 1246, 1540, 1346]), 'FNs': array([ 955, 1392, 1597, 4162, 2738, 3233, 1396, 1854, 2079, 2635]), 'accuracy': 0.6851285714285714, 'per_class_accuracy': array([0.95037143, 0.94694286, 0.91434286, 0.92104286, 0.91962857,\n",
      "       0.91718571, 0.9536    , 0.95571429, 0.9483    , 0.94312857]), 'per_class_accuracy_mean': 0.9370257142857144, 'precision': array([0.70586175, 0.70718789, 0.55121404, 0.67523198, 0.59608392,\n",
      "       0.59500869, 0.75160944, 0.80506884, 0.7616468 , 0.76431448]), 'precision_mean': 0.6913227822358028, 'recall': array([0.86357143, 0.80114286, 0.77185714, 0.40542857, 0.60885714,\n",
      "       0.53814286, 0.80057143, 0.73514286, 0.703     , 0.62357143]), 'recall_mean': 0.6851285714285714, 'f1': array([0.7767926 , 0.75123912, 0.64313772, 0.50665   , 0.60240283,\n",
      "       0.5651489 , 0.77531821, 0.76851852, 0.73114925, 0.6868067 ]), 'f1_mean': 0.6807163842570587}\n",
      "Saved post-edit metrics saved/edit/trials/identity_cov/CINIC10_ImageNet-VGG_16/0117_201313/dog-train-n02113624_8298/watershed_masked_1/identity/models/post_edit_metrics.pth\n",
      "All metrics and KNN results can be found in saved/edit/trials/identity_cov/CINIC10_ImageNet-VGG_16/0117_201313/dog-train-n02113624_8298/watershed_masked_1/identity/models\n",
      "Finished trial 34/37. Results saved to saved/edit/trials/identity_cov/CINIC10_ImageNet-VGG_16/0117_201313/dog-train-n02113624_8298/watershed_masked_1/identity\n",
      "(0117_212408) Starting Trial 35/37...\n",
      "Current run_id: 0117_201313/dog-train-n02113624_8298/watershed_masked_2\n"
     ]
    },
    {
     "name": "stderr",
     "output_type": "stream",
     "text": [
      "\n"
     ]
    },
    {
     "name": "stdout",
     "output_type": "stream",
     "text": [
      "saved/edit/trials/identity_cov/CINIC10_ImageNet-VGG_16/0117_201313/dog-train-n02113624_8298/watershed_masked_2\n",
      "Calling edit()...\n",
      "Created ModelWrapperSanturkar model with 33646666 trainable parameters\n",
      "Restored weights from external_code/PyTorch_CIFAR10/cifar10_models/state_dicts/vgg16_bn.pt\n",
      "Using passed in data loader for validation.\n",
      "Key images: data/cinic-10-imagenet/train/dog/n02113624_8298.png\n",
      "Value images: saved/segmentations/dog/dog-train-n02113624_8298/modified_images/watershed_masked_2.png\n",
      "Masks: None\n",
      "Prepared data for editing\n",
      "Performing pre-edit metric calculations on validation set.\n"
     ]
    },
    {
     "name": "stderr",
     "output_type": "stream",
     "text": [
      "100%|██████████████████████████████████████████| 274/274 [00:09<00:00, 29.14it/s]"
     ]
    },
    {
     "name": "stdout",
     "output_type": "stream",
     "text": [
      "Pre-edit metrics: {'TP': array([6142, 5382, 5203, 3842, 4270, 2990, 5659, 5136, 4820, 4679]), 'TN': array([60115, 61110, 59441, 59902, 60157, 61756, 61050, 61747, 61643,\n",
      "       61202]), 'FPs': array([2885, 1890, 3559, 3098, 2843, 1244, 1950, 1253, 1357, 1798]), 'FNs': array([ 858, 1618, 1797, 3158, 2730, 4010, 1341, 1864, 2180, 2321]), 'accuracy': 0.6874714285714286, 'per_class_accuracy': array([0.94652857, 0.94988571, 0.92348571, 0.91062857, 0.92038571,\n",
      "       0.92494286, 0.95298571, 0.95547143, 0.94947143, 0.94115714]), 'per_class_accuracy_mean': 0.9374942857142857, 'precision': array([0.68040323, 0.74009901, 0.5938142 , 0.55360231, 0.60030929,\n",
      "       0.706188  , 0.74372454, 0.80388167, 0.78031407, 0.72240235]), 'precision_mean': 0.6924738665961387, 'recall': array([0.87742857, 0.76885714, 0.74328571, 0.54885714, 0.61      ,\n",
      "       0.42714286, 0.80842857, 0.73371429, 0.68857143, 0.66842857]), 'recall_mean': 0.6874714285714286, 'f1': array([0.7664566 , 0.75420404, 0.66019541, 0.55121951, 0.60511585,\n",
      "       0.53231262, 0.77472791, 0.76719695, 0.73157775, 0.69436818]), 'f1_mean': 0.6837374824369241}\n",
      "Saved pre-edit metrics saved/edit/trials/identity_cov/CINIC10_ImageNet-VGG_16/0117_201313/dog-train-n02113624_8298/watershed_masked_2/models/pre_edit_metrics.pth\n",
      "Using passed in covariance data loader.\n",
      "Looking for covariance matrix weights in cache/cinic-10-imagenet-dummy/vgg16_bn-12\n"
     ]
    },
    {
     "name": "stderr",
     "output_type": "stream",
     "text": [
      "\n"
     ]
    },
    {
     "name": "stdout",
     "output_type": "stream",
     "text": [
      "Found precomputed cov matrices, returning...\n",
      "tensor([[ 1.0000e+00, -1.8504e-05, -3.8476e-05, -1.9159e-05, -4.0293e-05,\n",
      "         -3.1667e-05, -2.4137e-05, -2.9244e-05, -4.0682e-05, -2.2710e-05],\n",
      "        [-1.8504e-05,  1.0000e+00, -2.8878e-05, -1.2513e-05, -2.8300e-05,\n",
      "         -2.1209e-05, -1.7897e-05, -2.0580e-05, -2.4006e-05, -1.4785e-05],\n",
      "        [-3.8476e-05, -2.8878e-05,  1.0000e+00, -2.8741e-05, -6.1447e-05,\n",
      "         -4.6148e-05, -3.9829e-05, -4.5861e-05, -4.7019e-05, -3.5061e-05],\n",
      "        [-1.9159e-05, -1.2513e-05, -2.8741e-05,  1.0000e+00, -2.7411e-05,\n",
      "         -2.1258e-05, -1.7047e-05, -1.9973e-05, -2.4082e-05, -1.5679e-05],\n",
      "        [-4.0293e-05, -2.8300e-05, -6.1447e-05, -2.7411e-05,  1.0000e+00,\n",
      "         -4.6443e-05, -5.1575e-05, -4.8059e-05, -5.6685e-05, -3.6807e-05],\n",
      "        [-3.1667e-05, -2.1209e-05, -4.6148e-05, -2.1258e-05, -4.6443e-05,\n",
      "          1.0000e+00, -2.6984e-05, -3.3795e-05, -4.0129e-05, -2.3401e-05],\n",
      "        [-2.4137e-05, -1.7897e-05, -3.9829e-05, -1.7047e-05, -5.1575e-05,\n",
      "         -2.6984e-05,  1.0000e+00, -2.8577e-05, -3.1210e-05, -3.0226e-05],\n",
      "        [-2.9244e-05, -2.0580e-05, -4.5861e-05, -1.9973e-05, -4.8059e-05,\n",
      "         -3.3795e-05, -2.8577e-05,  1.0000e+00, -3.8494e-05, -2.2827e-05],\n",
      "        [-4.0682e-05, -2.4006e-05, -4.7019e-05, -2.4082e-05, -5.6685e-05,\n",
      "         -4.0129e-05, -3.1210e-05, -3.8494e-05,  1.0000e+00, -2.6560e-05],\n",
      "        [-2.2710e-05, -1.4785e-05, -3.5061e-05, -1.5679e-05, -3.6807e-05,\n",
      "         -2.3401e-05, -3.0226e-05, -2.2827e-05, -2.6560e-05,  1.0000e+00]],\n",
      "       device='cuda:0')\n"
     ]
    },
    {
     "name": "stderr",
     "output_type": "stream",
     "text": [
      "tensor(0.0039, device='cuda:0', grad_fn=<DivBackward0>): 100%|█| 40000/40000 [00:"
     ]
    },
    {
     "name": "stdout",
     "output_type": "stream",
     "text": [
      "Loss (orig, final): 0.06383319199085236 0.003914372995495796\n",
      "L2 norm of weight change: 0.2058248519897461\n",
      "Performing post-edit metric calculations on validation set.\n"
     ]
    },
    {
     "name": "stderr",
     "output_type": "stream",
     "text": [
      "\n",
      "100%|██████████████████████████████████████████| 274/274 [00:09<00:00, 29.00it/s]\n"
     ]
    },
    {
     "name": "stdout",
     "output_type": "stream",
     "text": [
      "Post-edit metrics: {'TP': array([6058, 5560, 5297, 3173, 4273, 3616, 5628, 5139, 4952, 4456]), 'TN': array([60452, 60777, 59083, 61162, 60081, 60750, 61115, 61770, 61424,\n",
      "       61538]), 'FPs': array([2548, 2223, 3917, 1838, 2919, 2250, 1885, 1230, 1576, 1462]), 'FNs': array([ 942, 1440, 1703, 3827, 2727, 3384, 1372, 1861, 2048, 2544]), 'accuracy': 0.6878857142857143, 'per_class_accuracy': array([0.95014286, 0.94767143, 0.91971429, 0.91907143, 0.91934286,\n",
      "       0.91951429, 0.95347143, 0.95584286, 0.94822857, 0.94277143]), 'per_class_accuracy_mean': 0.9375771428571429, 'precision': array([0.70392749, 0.71437749, 0.57488604, 0.63320694, 0.59413237,\n",
      "       0.61643369, 0.74910156, 0.80687706, 0.75857843, 0.75295708]), 'precision_mean': 0.6904478154023036, 'recall': array([0.86542857, 0.79428571, 0.75671429, 0.45328571, 0.61042857,\n",
      "       0.51657143, 0.804     , 0.73414286, 0.70742857, 0.63657143]), 'recall_mean': 0.6878857142857143, 'f1': array([0.77636806, 0.75221538, 0.65338596, 0.52834901, 0.60217024,\n",
      "       0.56210166, 0.77558051, 0.76879348, 0.73211118, 0.68989008]), 'f1_mean': 0.6840965566454951}\n",
      "Saved post-edit metrics saved/edit/trials/identity_cov/CINIC10_ImageNet-VGG_16/0117_201313/dog-train-n02113624_8298/watershed_masked_2/models/post_edit_metrics.pth\n",
      "All metrics and KNN results can be found in saved/edit/trials/identity_cov/CINIC10_ImageNet-VGG_16/0117_201313/dog-train-n02113624_8298/watershed_masked_2/models\n",
      "saved/edit/trials/identity_cov/CINIC10_ImageNet-VGG_16/0117_201313/dog-train-n02113624_8298/watershed_masked_2/identity\n",
      "Calling edit()...\n",
      "Created ModelWrapperSanturkar model with 33646666 trainable parameters\n",
      "Restored weights from external_code/PyTorch_CIFAR10/cifar10_models/state_dicts/vgg16_bn.pt\n",
      "Using passed in data loader for validation.\n",
      "Key images: data/cinic-10-imagenet/train/dog/n02113624_8298.png\n",
      "Value images: saved/segmentations/dog/dog-train-n02113624_8298/modified_images/watershed_masked_2.png\n",
      "Masks: None\n",
      "Prepared data for editing\n",
      "Performing pre-edit metric calculations on validation set.\n"
     ]
    },
    {
     "name": "stderr",
     "output_type": "stream",
     "text": [
      "100%|██████████████████████████████████████████| 274/274 [00:09<00:00, 29.27it/s]"
     ]
    },
    {
     "name": "stdout",
     "output_type": "stream",
     "text": [
      "Pre-edit metrics: {'TP': array([6142, 5382, 5203, 3842, 4270, 2990, 5659, 5136, 4820, 4679]), 'TN': array([60115, 61110, 59441, 59902, 60157, 61756, 61050, 61747, 61643,\n",
      "       61202]), 'FPs': array([2885, 1890, 3559, 3098, 2843, 1244, 1950, 1253, 1357, 1798]), 'FNs': array([ 858, 1618, 1797, 3158, 2730, 4010, 1341, 1864, 2180, 2321]), 'accuracy': 0.6874714285714286, 'per_class_accuracy': array([0.94652857, 0.94988571, 0.92348571, 0.91062857, 0.92038571,\n",
      "       0.92494286, 0.95298571, 0.95547143, 0.94947143, 0.94115714]), 'per_class_accuracy_mean': 0.9374942857142857, 'precision': array([0.68040323, 0.74009901, 0.5938142 , 0.55360231, 0.60030929,\n",
      "       0.706188  , 0.74372454, 0.80388167, 0.78031407, 0.72240235]), 'precision_mean': 0.6924738665961387, 'recall': array([0.87742857, 0.76885714, 0.74328571, 0.54885714, 0.61      ,\n",
      "       0.42714286, 0.80842857, 0.73371429, 0.68857143, 0.66842857]), 'recall_mean': 0.6874714285714286, 'f1': array([0.7664566 , 0.75420404, 0.66019541, 0.55121951, 0.60511585,\n",
      "       0.53231262, 0.77472791, 0.76719695, 0.73157775, 0.69436818]), 'f1_mean': 0.6837374824369241}\n",
      "Saved pre-edit metrics saved/edit/trials/identity_cov/CINIC10_ImageNet-VGG_16/0117_201313/dog-train-n02113624_8298/watershed_masked_2/identity/models/pre_edit_metrics.pth\n",
      "No data loader for covariance matrix. Will use identity matrix\n",
      "Looking for covariance matrix weights in cache/identity/vgg16_bn-12\n"
     ]
    },
    {
     "name": "stderr",
     "output_type": "stream",
     "text": [
      "\n"
     ]
    },
    {
     "name": "stdout",
     "output_type": "stream",
     "text": [
      "Found precomputed cov matrices, returning...\n",
      "tensor([[1., 0., 0., 0., 0., 0., 0., 0., 0., 0.],\n",
      "        [0., 1., 0., 0., 0., 0., 0., 0., 0., 0.],\n",
      "        [0., 0., 1., 0., 0., 0., 0., 0., 0., 0.],\n",
      "        [0., 0., 0., 1., 0., 0., 0., 0., 0., 0.],\n",
      "        [0., 0., 0., 0., 1., 0., 0., 0., 0., 0.],\n",
      "        [0., 0., 0., 0., 0., 1., 0., 0., 0., 0.],\n",
      "        [0., 0., 0., 0., 0., 0., 1., 0., 0., 0.],\n",
      "        [0., 0., 0., 0., 0., 0., 0., 1., 0., 0.],\n",
      "        [0., 0., 0., 0., 0., 0., 0., 0., 1., 0.],\n",
      "        [0., 0., 0., 0., 0., 0., 0., 0., 0., 1.]], device='cuda:0')\n"
     ]
    },
    {
     "name": "stderr",
     "output_type": "stream",
     "text": [
      "tensor(0.0038, device='cuda:0', grad_fn=<DivBackward0>): 100%|█| 40000/40000 [00:"
     ]
    },
    {
     "name": "stdout",
     "output_type": "stream",
     "text": [
      "Loss (orig, final): 0.06383319199085236 0.003838361706584692\n",
      "L2 norm of weight change: 0.2066493034362793\n",
      "Performing post-edit metric calculations on validation set.\n"
     ]
    },
    {
     "name": "stderr",
     "output_type": "stream",
     "text": [
      "\n",
      "100%|██████████████████████████████████████████| 274/274 [00:10<00:00, 26.89it/s]"
     ]
    },
    {
     "name": "stdout",
     "output_type": "stream",
     "text": [
      "Post-edit metrics: {'TP': array([6058, 5563, 5293, 3173, 4275, 3621, 5626, 5140, 4955, 4451]), 'TN': array([60456, 60769, 59110, 61158, 60078, 60735, 61119, 61770, 61418,\n",
      "       61542]), 'FPs': array([2544, 2231, 3890, 1842, 2922, 2265, 1881, 1230, 1582, 1458]), 'FNs': array([ 942, 1437, 1707, 3827, 2725, 3379, 1374, 1860, 2045, 2549]), 'accuracy': 0.6879285714285714, 'per_class_accuracy': array([0.9502    , 0.9476    , 0.92004286, 0.91901429, 0.91932857,\n",
      "       0.91937143, 0.9535    , 0.95585714, 0.94818571, 0.94275714]), 'per_class_accuracy_mean': 0.9375857142857142, 'precision': array([0.70425482, 0.71375417, 0.57639116, 0.63270189, 0.5939975 ,\n",
      "       0.61518858, 0.74943386, 0.80690738, 0.75799296, 0.75325774]), 'precision_mean': 0.6903880073885652, 'recall': array([0.86542857, 0.79471429, 0.75614286, 0.45328571, 0.61071429,\n",
      "       0.51728571, 0.80371429, 0.73428571, 0.70785714, 0.63585714]), 'recall_mean': 0.6879285714285714, 'f1': array([0.77656711, 0.75206165, 0.65414324, 0.52817312, 0.60223991,\n",
      "       0.56200528, 0.77562556, 0.76888556, 0.73206767, 0.68959641]), 'f1_mean': 0.6841365490722524}\n",
      "Saved post-edit metrics saved/edit/trials/identity_cov/CINIC10_ImageNet-VGG_16/0117_201313/dog-train-n02113624_8298/watershed_masked_2/identity/models/post_edit_metrics.pth\n",
      "All metrics and KNN results can be found in saved/edit/trials/identity_cov/CINIC10_ImageNet-VGG_16/0117_201313/dog-train-n02113624_8298/watershed_masked_2/identity/models\n",
      "Finished trial 35/37. Results saved to saved/edit/trials/identity_cov/CINIC10_ImageNet-VGG_16/0117_201313/dog-train-n02113624_8298/watershed_masked_2/identity\n",
      "(0117_212606) Starting Trial 36/37...\n",
      "Current run_id: 0117_201313/dog-train-n02113624_8298/watershed_masked_3\n"
     ]
    },
    {
     "name": "stderr",
     "output_type": "stream",
     "text": [
      "\n"
     ]
    },
    {
     "name": "stdout",
     "output_type": "stream",
     "text": [
      "saved/edit/trials/identity_cov/CINIC10_ImageNet-VGG_16/0117_201313/dog-train-n02113624_8298/watershed_masked_3\n",
      "Calling edit()...\n",
      "Created ModelWrapperSanturkar model with 33646666 trainable parameters\n",
      "Restored weights from external_code/PyTorch_CIFAR10/cifar10_models/state_dicts/vgg16_bn.pt\n",
      "Using passed in data loader for validation.\n",
      "Key images: data/cinic-10-imagenet/train/dog/n02113624_8298.png\n",
      "Value images: saved/segmentations/dog/dog-train-n02113624_8298/modified_images/watershed_masked_3.png\n",
      "Masks: None\n",
      "Prepared data for editing\n",
      "Performing pre-edit metric calculations on validation set.\n"
     ]
    },
    {
     "name": "stderr",
     "output_type": "stream",
     "text": [
      "100%|██████████████████████████████████████████| 274/274 [00:10<00:00, 25.55it/s]"
     ]
    },
    {
     "name": "stdout",
     "output_type": "stream",
     "text": [
      "Pre-edit metrics: {'TP': array([6142, 5382, 5203, 3842, 4270, 2990, 5659, 5136, 4820, 4679]), 'TN': array([60115, 61110, 59441, 59902, 60157, 61756, 61050, 61747, 61643,\n",
      "       61202]), 'FPs': array([2885, 1890, 3559, 3098, 2843, 1244, 1950, 1253, 1357, 1798]), 'FNs': array([ 858, 1618, 1797, 3158, 2730, 4010, 1341, 1864, 2180, 2321]), 'accuracy': 0.6874714285714286, 'per_class_accuracy': array([0.94652857, 0.94988571, 0.92348571, 0.91062857, 0.92038571,\n",
      "       0.92494286, 0.95298571, 0.95547143, 0.94947143, 0.94115714]), 'per_class_accuracy_mean': 0.9374942857142857, 'precision': array([0.68040323, 0.74009901, 0.5938142 , 0.55360231, 0.60030929,\n",
      "       0.706188  , 0.74372454, 0.80388167, 0.78031407, 0.72240235]), 'precision_mean': 0.6924738665961387, 'recall': array([0.87742857, 0.76885714, 0.74328571, 0.54885714, 0.61      ,\n",
      "       0.42714286, 0.80842857, 0.73371429, 0.68857143, 0.66842857]), 'recall_mean': 0.6874714285714286, 'f1': array([0.7664566 , 0.75420404, 0.66019541, 0.55121951, 0.60511585,\n",
      "       0.53231262, 0.77472791, 0.76719695, 0.73157775, 0.69436818]), 'f1_mean': 0.6837374824369241}\n"
     ]
    },
    {
     "name": "stderr",
     "output_type": "stream",
     "text": [
      "\n"
     ]
    },
    {
     "name": "stdout",
     "output_type": "stream",
     "text": [
      "Saved pre-edit metrics saved/edit/trials/identity_cov/CINIC10_ImageNet-VGG_16/0117_201313/dog-train-n02113624_8298/watershed_masked_3/models/pre_edit_metrics.pth\n",
      "Using passed in covariance data loader.\n",
      "Looking for covariance matrix weights in cache/cinic-10-imagenet-dummy/vgg16_bn-12\n",
      "Found precomputed cov matrices, returning...\n",
      "tensor([[ 1.0000e+00, -1.8504e-05, -3.8476e-05, -1.9159e-05, -4.0293e-05,\n",
      "         -3.1667e-05, -2.4137e-05, -2.9244e-05, -4.0682e-05, -2.2710e-05],\n",
      "        [-1.8504e-05,  1.0000e+00, -2.8878e-05, -1.2513e-05, -2.8300e-05,\n",
      "         -2.1209e-05, -1.7897e-05, -2.0580e-05, -2.4006e-05, -1.4785e-05],\n",
      "        [-3.8476e-05, -2.8878e-05,  1.0000e+00, -2.8741e-05, -6.1447e-05,\n",
      "         -4.6148e-05, -3.9829e-05, -4.5861e-05, -4.7019e-05, -3.5061e-05],\n",
      "        [-1.9159e-05, -1.2513e-05, -2.8741e-05,  1.0000e+00, -2.7411e-05,\n",
      "         -2.1258e-05, -1.7047e-05, -1.9973e-05, -2.4082e-05, -1.5679e-05],\n",
      "        [-4.0293e-05, -2.8300e-05, -6.1447e-05, -2.7411e-05,  1.0000e+00,\n",
      "         -4.6443e-05, -5.1575e-05, -4.8059e-05, -5.6685e-05, -3.6807e-05],\n",
      "        [-3.1667e-05, -2.1209e-05, -4.6148e-05, -2.1258e-05, -4.6443e-05,\n",
      "          1.0000e+00, -2.6984e-05, -3.3795e-05, -4.0129e-05, -2.3401e-05],\n",
      "        [-2.4137e-05, -1.7897e-05, -3.9829e-05, -1.7047e-05, -5.1575e-05,\n",
      "         -2.6984e-05,  1.0000e+00, -2.8577e-05, -3.1210e-05, -3.0226e-05],\n",
      "        [-2.9244e-05, -2.0580e-05, -4.5861e-05, -1.9973e-05, -4.8059e-05,\n",
      "         -3.3795e-05, -2.8577e-05,  1.0000e+00, -3.8494e-05, -2.2827e-05],\n",
      "        [-4.0682e-05, -2.4006e-05, -4.7019e-05, -2.4082e-05, -5.6685e-05,\n",
      "         -4.0129e-05, -3.1210e-05, -3.8494e-05,  1.0000e+00, -2.6560e-05],\n",
      "        [-2.2710e-05, -1.4785e-05, -3.5061e-05, -1.5679e-05, -3.6807e-05,\n",
      "         -2.3401e-05, -3.0226e-05, -2.2827e-05, -2.6560e-05,  1.0000e+00]],\n",
      "       device='cuda:0')\n"
     ]
    },
    {
     "name": "stderr",
     "output_type": "stream",
     "text": [
      "tensor(0.0067, device='cuda:0', grad_fn=<DivBackward0>): 100%|█| 40000/40000 [00:"
     ]
    },
    {
     "name": "stdout",
     "output_type": "stream",
     "text": [
      "Loss (orig, final): 0.1236826479434967 0.0067003387957811356\n",
      "L2 norm of weight change: 0.3519792854785919\n",
      "Performing post-edit metric calculations on validation set.\n"
     ]
    },
    {
     "name": "stderr",
     "output_type": "stream",
     "text": [
      "\n",
      "100%|██████████████████████████████████████████| 274/274 [00:10<00:00, 27.29it/s]"
     ]
    },
    {
     "name": "stdout",
     "output_type": "stream",
     "text": [
      "Post-edit metrics: {'TP': array([6031, 5609, 5656, 2182, 4357, 3525, 5575, 5099, 4899, 4275]), 'TN': array([60472, 60687, 56762, 62384, 59800, 60962, 61106, 61825, 61442,\n",
      "       61768]), 'FPs': array([2528, 2313, 6238,  616, 3200, 2038, 1894, 1175, 1558, 1232]), 'FNs': array([ 969, 1391, 1344, 4818, 2643, 3475, 1425, 1901, 2101, 2725]), 'accuracy': 0.6744, 'per_class_accuracy': array([0.95004286, 0.94708571, 0.89168571, 0.92237143, 0.91652857,\n",
      "       0.92124286, 0.95258571, 0.95605714, 0.94772857, 0.94347143]), 'per_class_accuracy_mean': 0.9348799999999999, 'precision': array([0.70463839, 0.70802828, 0.47553388, 0.77984274, 0.57655154,\n",
      "       0.63365091, 0.74641853, 0.81271916, 0.75871148, 0.77628473]), 'precision_mean': 0.6972379637671995, 'recall': array([0.86157143, 0.80128571, 0.808     , 0.31171429, 0.62242857,\n",
      "       0.50357143, 0.79642857, 0.72842857, 0.69985714, 0.61071429]), 'recall_mean': 0.6744, 'f1': array([0.77524262, 0.7517759 , 0.59870858, 0.44539702, 0.59861235,\n",
      "       0.56117169, 0.77061303, 0.7682688 , 0.7280969 , 0.68361717]), 'f1_mean': 0.6681504083372023}\n",
      "Saved post-edit metrics saved/edit/trials/identity_cov/CINIC10_ImageNet-VGG_16/0117_201313/dog-train-n02113624_8298/watershed_masked_3/models/post_edit_metrics.pth\n",
      "All metrics and KNN results can be found in saved/edit/trials/identity_cov/CINIC10_ImageNet-VGG_16/0117_201313/dog-train-n02113624_8298/watershed_masked_3/models\n"
     ]
    },
    {
     "name": "stderr",
     "output_type": "stream",
     "text": [
      "\n"
     ]
    },
    {
     "name": "stdout",
     "output_type": "stream",
     "text": [
      "saved/edit/trials/identity_cov/CINIC10_ImageNet-VGG_16/0117_201313/dog-train-n02113624_8298/watershed_masked_3/identity\n",
      "Calling edit()...\n",
      "Created ModelWrapperSanturkar model with 33646666 trainable parameters\n",
      "Restored weights from external_code/PyTorch_CIFAR10/cifar10_models/state_dicts/vgg16_bn.pt\n",
      "Using passed in data loader for validation.\n",
      "Key images: data/cinic-10-imagenet/train/dog/n02113624_8298.png\n",
      "Value images: saved/segmentations/dog/dog-train-n02113624_8298/modified_images/watershed_masked_3.png\n",
      "Masks: None\n",
      "Prepared data for editing\n",
      "Performing pre-edit metric calculations on validation set.\n"
     ]
    },
    {
     "name": "stderr",
     "output_type": "stream",
     "text": [
      "100%|██████████████████████████████████████████| 274/274 [00:10<00:00, 27.27it/s]"
     ]
    },
    {
     "name": "stdout",
     "output_type": "stream",
     "text": [
      "Pre-edit metrics: {'TP': array([6142, 5382, 5203, 3842, 4270, 2990, 5659, 5136, 4820, 4679]), 'TN': array([60115, 61110, 59441, 59902, 60157, 61756, 61050, 61747, 61643,\n",
      "       61202]), 'FPs': array([2885, 1890, 3559, 3098, 2843, 1244, 1950, 1253, 1357, 1798]), 'FNs': array([ 858, 1618, 1797, 3158, 2730, 4010, 1341, 1864, 2180, 2321]), 'accuracy': 0.6874714285714286, 'per_class_accuracy': array([0.94652857, 0.94988571, 0.92348571, 0.91062857, 0.92038571,\n",
      "       0.92494286, 0.95298571, 0.95547143, 0.94947143, 0.94115714]), 'per_class_accuracy_mean': 0.9374942857142857, 'precision': array([0.68040323, 0.74009901, 0.5938142 , 0.55360231, 0.60030929,\n",
      "       0.706188  , 0.74372454, 0.80388167, 0.78031407, 0.72240235]), 'precision_mean': 0.6924738665961387, 'recall': array([0.87742857, 0.76885714, 0.74328571, 0.54885714, 0.61      ,\n",
      "       0.42714286, 0.80842857, 0.73371429, 0.68857143, 0.66842857]), 'recall_mean': 0.6874714285714286, 'f1': array([0.7664566 , 0.75420404, 0.66019541, 0.55121951, 0.60511585,\n",
      "       0.53231262, 0.77472791, 0.76719695, 0.73157775, 0.69436818]), 'f1_mean': 0.6837374824369241}\n",
      "Saved pre-edit metrics saved/edit/trials/identity_cov/CINIC10_ImageNet-VGG_16/0117_201313/dog-train-n02113624_8298/watershed_masked_3/identity/models/pre_edit_metrics.pth\n",
      "No data loader for covariance matrix. Will use identity matrix\n",
      "Looking for covariance matrix weights in cache/identity/vgg16_bn-12\n"
     ]
    },
    {
     "name": "stderr",
     "output_type": "stream",
     "text": [
      "\n"
     ]
    },
    {
     "name": "stdout",
     "output_type": "stream",
     "text": [
      "Found precomputed cov matrices, returning...\n",
      "tensor([[1., 0., 0., 0., 0., 0., 0., 0., 0., 0.],\n",
      "        [0., 1., 0., 0., 0., 0., 0., 0., 0., 0.],\n",
      "        [0., 0., 1., 0., 0., 0., 0., 0., 0., 0.],\n",
      "        [0., 0., 0., 1., 0., 0., 0., 0., 0., 0.],\n",
      "        [0., 0., 0., 0., 1., 0., 0., 0., 0., 0.],\n",
      "        [0., 0., 0., 0., 0., 1., 0., 0., 0., 0.],\n",
      "        [0., 0., 0., 0., 0., 0., 1., 0., 0., 0.],\n",
      "        [0., 0., 0., 0., 0., 0., 0., 1., 0., 0.],\n",
      "        [0., 0., 0., 0., 0., 0., 0., 0., 1., 0.],\n",
      "        [0., 0., 0., 0., 0., 0., 0., 0., 0., 1.]], device='cuda:0')\n"
     ]
    },
    {
     "name": "stderr",
     "output_type": "stream",
     "text": [
      "tensor(0.0064, device='cuda:0', grad_fn=<DivBackward0>): 100%|█| 40000/40000 [00:"
     ]
    },
    {
     "name": "stdout",
     "output_type": "stream",
     "text": [
      "Loss (orig, final): 0.1236826479434967 0.006432583089917898\n",
      "L2 norm of weight change: 0.3523979187011719\n",
      "Performing post-edit metric calculations on validation set.\n"
     ]
    },
    {
     "name": "stderr",
     "output_type": "stream",
     "text": [
      "\n",
      "100%|██████████████████████████████████████████| 274/274 [00:09<00:00, 27.85it/s]"
     ]
    },
    {
     "name": "stdout",
     "output_type": "stream",
     "text": [
      "Post-edit metrics: {'TP': array([6032, 5616, 5666, 2166, 4354, 3527, 5571, 5098, 4896, 4264]), 'TN': array([60481, 60676, 56711, 62396, 59801, 60958, 61113, 61828, 61438,\n",
      "       61788]), 'FPs': array([2519, 2324, 6289,  604, 3199, 2042, 1887, 1172, 1562, 1212]), 'FNs': array([ 968, 1384, 1334, 4834, 2646, 3473, 1429, 1902, 2104, 2736]), 'accuracy': 0.6741428571428572, 'per_class_accuracy': array([0.95018571, 0.94702857, 0.8911    , 0.92231429, 0.9165    ,\n",
      "       0.92121429, 0.95262857, 0.95608571, 0.94762857, 0.9436    ]), 'per_class_accuracy_mean': 0.9348285714285716, 'precision': array([0.70541457, 0.70730479, 0.47394396, 0.78194946, 0.57645968,\n",
      "       0.63332735, 0.74698311, 0.81307815, 0.75812945, 0.77867056]), 'precision_mean': 0.6975261074595837, 'recall': array([0.86171429, 0.80228571, 0.80942857, 0.30942857, 0.622     ,\n",
      "       0.50385714, 0.79585714, 0.72828571, 0.69942857, 0.60914286]), 'recall_mean': 0.6741428571428572, 'f1': array([0.77577005, 0.75180723, 0.59783698, 0.44339816, 0.5983646 ,\n",
      "       0.56122205, 0.77064601, 0.76834966, 0.72759697, 0.68355242]), 'f1_mean': 0.6678544127447734}\n",
      "Saved post-edit metrics saved/edit/trials/identity_cov/CINIC10_ImageNet-VGG_16/0117_201313/dog-train-n02113624_8298/watershed_masked_3/identity/models/post_edit_metrics.pth\n",
      "All metrics and KNN results can be found in saved/edit/trials/identity_cov/CINIC10_ImageNet-VGG_16/0117_201313/dog-train-n02113624_8298/watershed_masked_3/identity/models\n"
     ]
    },
    {
     "name": "stderr",
     "output_type": "stream",
     "text": [
      "\n"
     ]
    },
    {
     "name": "stdout",
     "output_type": "stream",
     "text": [
      "Finished trial 36/37. Results saved to saved/edit/trials/identity_cov/CINIC10_ImageNet-VGG_16/0117_201313/dog-train-n02113624_8298/watershed_masked_3/identity\n",
      "(0117_212806) Starting Trial 37/37...\n",
      "Current run_id: 0117_201313/dog-train-n02087394_1173/slic_masked_2\n",
      "saved/edit/trials/identity_cov/CINIC10_ImageNet-VGG_16/0117_201313/dog-train-n02087394_1173/slic_masked_2\n",
      "Calling edit()...\n",
      "Created ModelWrapperSanturkar model with 33646666 trainable parameters\n",
      "Restored weights from external_code/PyTorch_CIFAR10/cifar10_models/state_dicts/vgg16_bn.pt\n",
      "Using passed in data loader for validation.\n",
      "Key images: data/cinic-10-imagenet/train/dog/n02087394_1173.png\n",
      "Value images: saved/segmentations/dog/dog-train-n02087394_1173/modified_images/slic_masked_2.png\n",
      "Masks: None\n",
      "Prepared data for editing\n",
      "Performing pre-edit metric calculations on validation set.\n"
     ]
    },
    {
     "name": "stderr",
     "output_type": "stream",
     "text": [
      "100%|██████████████████████████████████████████| 274/274 [00:11<00:00, 24.46it/s]"
     ]
    },
    {
     "name": "stdout",
     "output_type": "stream",
     "text": [
      "Pre-edit metrics: {'TP': array([6142, 5382, 5203, 3842, 4270, 2990, 5659, 5136, 4820, 4679]), 'TN': array([60115, 61110, 59441, 59902, 60157, 61756, 61050, 61747, 61643,\n",
      "       61202]), 'FPs': array([2885, 1890, 3559, 3098, 2843, 1244, 1950, 1253, 1357, 1798]), 'FNs': array([ 858, 1618, 1797, 3158, 2730, 4010, 1341, 1864, 2180, 2321]), 'accuracy': 0.6874714285714286, 'per_class_accuracy': array([0.94652857, 0.94988571, 0.92348571, 0.91062857, 0.92038571,\n",
      "       0.92494286, 0.95298571, 0.95547143, 0.94947143, 0.94115714]), 'per_class_accuracy_mean': 0.9374942857142857, 'precision': array([0.68040323, 0.74009901, 0.5938142 , 0.55360231, 0.60030929,\n",
      "       0.706188  , 0.74372454, 0.80388167, 0.78031407, 0.72240235]), 'precision_mean': 0.6924738665961387, 'recall': array([0.87742857, 0.76885714, 0.74328571, 0.54885714, 0.61      ,\n",
      "       0.42714286, 0.80842857, 0.73371429, 0.68857143, 0.66842857]), 'recall_mean': 0.6874714285714286, 'f1': array([0.7664566 , 0.75420404, 0.66019541, 0.55121951, 0.60511585,\n",
      "       0.53231262, 0.77472791, 0.76719695, 0.73157775, 0.69436818]), 'f1_mean': 0.6837374824369241}\n",
      "Saved pre-edit metrics saved/edit/trials/identity_cov/CINIC10_ImageNet-VGG_16/0117_201313/dog-train-n02087394_1173/slic_masked_2/models/pre_edit_metrics.pth\n",
      "Using passed in covariance data loader.\n",
      "Looking for covariance matrix weights in cache/cinic-10-imagenet-dummy/vgg16_bn-12\n"
     ]
    },
    {
     "name": "stderr",
     "output_type": "stream",
     "text": [
      "\n"
     ]
    },
    {
     "name": "stdout",
     "output_type": "stream",
     "text": [
      "Found precomputed cov matrices, returning...\n",
      "tensor([[ 1.0000e+00, -1.8504e-05, -3.8476e-05, -1.9159e-05, -4.0293e-05,\n",
      "         -3.1667e-05, -2.4137e-05, -2.9244e-05, -4.0682e-05, -2.2710e-05],\n",
      "        [-1.8504e-05,  1.0000e+00, -2.8878e-05, -1.2513e-05, -2.8300e-05,\n",
      "         -2.1209e-05, -1.7897e-05, -2.0580e-05, -2.4006e-05, -1.4785e-05],\n",
      "        [-3.8476e-05, -2.8878e-05,  1.0000e+00, -2.8741e-05, -6.1447e-05,\n",
      "         -4.6148e-05, -3.9829e-05, -4.5861e-05, -4.7019e-05, -3.5061e-05],\n",
      "        [-1.9159e-05, -1.2513e-05, -2.8741e-05,  1.0000e+00, -2.7411e-05,\n",
      "         -2.1258e-05, -1.7047e-05, -1.9973e-05, -2.4082e-05, -1.5679e-05],\n",
      "        [-4.0293e-05, -2.8300e-05, -6.1447e-05, -2.7411e-05,  1.0000e+00,\n",
      "         -4.6443e-05, -5.1575e-05, -4.8059e-05, -5.6685e-05, -3.6807e-05],\n",
      "        [-3.1667e-05, -2.1209e-05, -4.6148e-05, -2.1258e-05, -4.6443e-05,\n",
      "          1.0000e+00, -2.6984e-05, -3.3795e-05, -4.0129e-05, -2.3401e-05],\n",
      "        [-2.4137e-05, -1.7897e-05, -3.9829e-05, -1.7047e-05, -5.1575e-05,\n",
      "         -2.6984e-05,  1.0000e+00, -2.8577e-05, -3.1210e-05, -3.0226e-05],\n",
      "        [-2.9244e-05, -2.0580e-05, -4.5861e-05, -1.9973e-05, -4.8059e-05,\n",
      "         -3.3795e-05, -2.8577e-05,  1.0000e+00, -3.8494e-05, -2.2827e-05],\n",
      "        [-4.0682e-05, -2.4006e-05, -4.7019e-05, -2.4082e-05, -5.6685e-05,\n",
      "         -4.0129e-05, -3.1210e-05, -3.8494e-05,  1.0000e+00, -2.6560e-05],\n",
      "        [-2.2710e-05, -1.4785e-05, -3.5061e-05, -1.5679e-05, -3.6807e-05,\n",
      "         -2.3401e-05, -3.0226e-05, -2.2827e-05, -2.6560e-05,  1.0000e+00]],\n",
      "       device='cuda:0')\n"
     ]
    },
    {
     "name": "stderr",
     "output_type": "stream",
     "text": [
      "tensor(0.0143, device='cuda:0', grad_fn=<DivBackward0>): 100%|█| 40000/40000 [00:"
     ]
    },
    {
     "name": "stdout",
     "output_type": "stream",
     "text": [
      "Loss (orig, final): 0.11681278049945831 0.014328211545944214\n",
      "L2 norm of weight change: 0.34062251448631287\n",
      "Performing post-edit metric calculations on validation set.\n"
     ]
    },
    {
     "name": "stderr",
     "output_type": "stream",
     "text": [
      "\n",
      "100%|██████████████████████████████████████████| 274/274 [00:10<00:00, 27.10it/s]"
     ]
    },
    {
     "name": "stdout",
     "output_type": "stream",
     "text": [
      "Post-edit metrics: {'TP': array([6027, 5696, 5246, 3709, 3603, 3901, 5743, 3903, 5028, 4248]), 'TN': array([60558, 60338, 59329, 60073, 61446, 58925, 60788, 62746, 61149,\n",
      "       61752]), 'FPs': array([2442, 2662, 3671, 2927, 1554, 4075, 2212,  254, 1851, 1248]), 'FNs': array([ 973, 1304, 1754, 3291, 3397, 3099, 1257, 3097, 1972, 2752]), 'accuracy': 0.6729142857142857, 'per_class_accuracy': array([0.95121429, 0.94334286, 0.9225    , 0.91117143, 0.92927143,\n",
      "       0.89751429, 0.95044286, 0.95212857, 0.94538571, 0.94285714]), 'per_class_accuracy_mean': 0.9345828571428572, 'precision': array([0.71165427, 0.68150275, 0.58831446, 0.55892104, 0.69866201,\n",
      "       0.48909228, 0.72193589, 0.93889824, 0.73092019, 0.77292576]), 'precision_mean': 0.6892826891679483, 'recall': array([0.861     , 0.81371429, 0.74942857, 0.52985714, 0.51471429,\n",
      "       0.55728571, 0.82042857, 0.55757143, 0.71828571, 0.60685714]), 'recall_mean': 0.6729142857142857, 'f1': array([0.77923589, 0.74176325, 0.65916944, 0.54400117, 0.59274492,\n",
      "       0.52096688, 0.76803745, 0.69965044, 0.72454788, 0.67989757]), 'f1_mean': 0.6710014892015086}\n",
      "Saved post-edit metrics saved/edit/trials/identity_cov/CINIC10_ImageNet-VGG_16/0117_201313/dog-train-n02087394_1173/slic_masked_2/models/post_edit_metrics.pth\n",
      "All metrics and KNN results can be found in saved/edit/trials/identity_cov/CINIC10_ImageNet-VGG_16/0117_201313/dog-train-n02087394_1173/slic_masked_2/models\n"
     ]
    },
    {
     "name": "stderr",
     "output_type": "stream",
     "text": [
      "\n"
     ]
    },
    {
     "name": "stdout",
     "output_type": "stream",
     "text": [
      "saved/edit/trials/identity_cov/CINIC10_ImageNet-VGG_16/0117_201313/dog-train-n02087394_1173/slic_masked_2/identity\n",
      "Calling edit()...\n",
      "Created ModelWrapperSanturkar model with 33646666 trainable parameters\n",
      "Restored weights from external_code/PyTorch_CIFAR10/cifar10_models/state_dicts/vgg16_bn.pt\n",
      "Using passed in data loader for validation.\n",
      "Key images: data/cinic-10-imagenet/train/dog/n02087394_1173.png\n",
      "Value images: saved/segmentations/dog/dog-train-n02087394_1173/modified_images/slic_masked_2.png\n",
      "Masks: None\n",
      "Prepared data for editing\n",
      "Performing pre-edit metric calculations on validation set.\n"
     ]
    },
    {
     "name": "stderr",
     "output_type": "stream",
     "text": [
      "100%|██████████████████████████████████████████| 274/274 [00:10<00:00, 27.01it/s]"
     ]
    },
    {
     "name": "stdout",
     "output_type": "stream",
     "text": [
      "Pre-edit metrics: {'TP': array([6142, 5382, 5203, 3842, 4270, 2990, 5659, 5136, 4820, 4679]), 'TN': array([60115, 61110, 59441, 59902, 60157, 61756, 61050, 61747, 61643,\n",
      "       61202]), 'FPs': array([2885, 1890, 3559, 3098, 2843, 1244, 1950, 1253, 1357, 1798]), 'FNs': array([ 858, 1618, 1797, 3158, 2730, 4010, 1341, 1864, 2180, 2321]), 'accuracy': 0.6874714285714286, 'per_class_accuracy': array([0.94652857, 0.94988571, 0.92348571, 0.91062857, 0.92038571,\n",
      "       0.92494286, 0.95298571, 0.95547143, 0.94947143, 0.94115714]), 'per_class_accuracy_mean': 0.9374942857142857, 'precision': array([0.68040323, 0.74009901, 0.5938142 , 0.55360231, 0.60030929,\n",
      "       0.706188  , 0.74372454, 0.80388167, 0.78031407, 0.72240235]), 'precision_mean': 0.6924738665961387, 'recall': array([0.87742857, 0.76885714, 0.74328571, 0.54885714, 0.61      ,\n",
      "       0.42714286, 0.80842857, 0.73371429, 0.68857143, 0.66842857]), 'recall_mean': 0.6874714285714286, 'f1': array([0.7664566 , 0.75420404, 0.66019541, 0.55121951, 0.60511585,\n",
      "       0.53231262, 0.77472791, 0.76719695, 0.73157775, 0.69436818]), 'f1_mean': 0.6837374824369241}\n",
      "Saved pre-edit metrics saved/edit/trials/identity_cov/CINIC10_ImageNet-VGG_16/0117_201313/dog-train-n02087394_1173/slic_masked_2/identity/models/pre_edit_metrics.pth\n",
      "No data loader for covariance matrix. Will use identity matrix\n",
      "Looking for covariance matrix weights in cache/identity/vgg16_bn-12\n"
     ]
    },
    {
     "name": "stderr",
     "output_type": "stream",
     "text": [
      "\n"
     ]
    },
    {
     "name": "stdout",
     "output_type": "stream",
     "text": [
      "Found precomputed cov matrices, returning...\n",
      "tensor([[1., 0., 0., 0., 0., 0., 0., 0., 0., 0.],\n",
      "        [0., 1., 0., 0., 0., 0., 0., 0., 0., 0.],\n",
      "        [0., 0., 1., 0., 0., 0., 0., 0., 0., 0.],\n",
      "        [0., 0., 0., 1., 0., 0., 0., 0., 0., 0.],\n",
      "        [0., 0., 0., 0., 1., 0., 0., 0., 0., 0.],\n",
      "        [0., 0., 0., 0., 0., 1., 0., 0., 0., 0.],\n",
      "        [0., 0., 0., 0., 0., 0., 1., 0., 0., 0.],\n",
      "        [0., 0., 0., 0., 0., 0., 0., 1., 0., 0.],\n",
      "        [0., 0., 0., 0., 0., 0., 0., 0., 1., 0.],\n",
      "        [0., 0., 0., 0., 0., 0., 0., 0., 0., 1.]], device='cuda:0')\n"
     ]
    },
    {
     "name": "stderr",
     "output_type": "stream",
     "text": [
      "tensor(0.0144, device='cuda:0', grad_fn=<DivBackward0>): 100%|█| 40000/40000 [00:"
     ]
    },
    {
     "name": "stdout",
     "output_type": "stream",
     "text": [
      "Loss (orig, final): 0.11681278049945831 0.014357169158756733\n",
      "L2 norm of weight change: 0.3410739004611969\n",
      "Performing post-edit metric calculations on validation set.\n"
     ]
    },
    {
     "name": "stderr",
     "output_type": "stream",
     "text": [
      "\n",
      "100%|██████████████████████████████████████████| 274/274 [00:09<00:00, 28.76it/s]"
     ]
    },
    {
     "name": "stdout",
     "output_type": "stream",
     "text": [
      "Post-edit metrics: {'TP': array([6024, 5703, 5245, 3704, 3600, 3902, 5748, 3916, 5028, 4242]), 'TN': array([60574, 60322, 59333, 60083, 61450, 58918, 60782, 62742, 61148,\n",
      "       61760]), 'FPs': array([2426, 2678, 3667, 2917, 1550, 4082, 2218,  258, 1852, 1240]), 'FNs': array([ 976, 1297, 1755, 3296, 3400, 3098, 1252, 3084, 1972, 2758]), 'accuracy': 0.6730285714285714, 'per_class_accuracy': array([0.9514    , 0.94321429, 0.92254286, 0.91124286, 0.92928571,\n",
      "       0.89742857, 0.95042857, 0.95225714, 0.94537143, 0.94288571]), 'per_class_accuracy_mean': 0.9346057142857143, 'precision': array([0.71289941, 0.68046772, 0.58853232, 0.55943211, 0.69902913,\n",
      "       0.48872745, 0.72156666, 0.93818879, 0.73081395, 0.77380518]), 'precision_mean': 0.6893462720065023, 'recall': array([0.86057143, 0.81471429, 0.74928571, 0.52914286, 0.51428571,\n",
      "       0.55742857, 0.82114286, 0.55942857, 0.71828571, 0.606     ]), 'recall_mean': 0.6730285714285713, 'f1': array([0.77980583, 0.74156427, 0.65925088, 0.54386609, 0.59259259,\n",
      "       0.52082221, 0.76814112, 0.70091283, 0.72449568, 0.67969877]), 'f1_mean': 0.6711150261453775}\n",
      "Saved post-edit metrics saved/edit/trials/identity_cov/CINIC10_ImageNet-VGG_16/0117_201313/dog-train-n02087394_1173/slic_masked_2/identity/models/post_edit_metrics.pth\n",
      "All metrics and KNN results can be found in saved/edit/trials/identity_cov/CINIC10_ImageNet-VGG_16/0117_201313/dog-train-n02087394_1173/slic_masked_2/identity/models\n",
      "Finished trial 37/37. Results saved to saved/edit/trials/identity_cov/CINIC10_ImageNet-VGG_16/0117_201313/dog-train-n02087394_1173/slic_masked_2/identity\n"
     ]
    },
    {
     "name": "stderr",
     "output_type": "stream",
     "text": [
      "\n"
     ]
    }
   ],
   "source": [
    "for idx, (key_path, value_path) in enumerate(zip(key_image_paths, value_image_paths)):\n",
    "    split = os.path.basename(os.path.dirname(os.path.dirname(key_path)))\n",
    "    class_name = os.path.basename(os.path.dirname(key_path))\n",
    "    file_name = os.path.basename(key_path).split(\".\")[0]\n",
    "    key_image_id = \"{}-{}-{}\".format(class_name, split, file_name)\n",
    "    # Print Progress\n",
    "    informal_log(\"({}) Starting Trial {}/{}...\".format(datetime.now().strftime(r'%m%d_%H%M%S'), idx + 1, n_trials), progress_report_path)\n",
    "    \n",
    "    # Create run id \n",
    "    value_image_id = os.path.splitext(os.path.basename(value_path))[0]\n",
    "    run_id = os.path.join(timestamp, key_image_id, value_image_id)\n",
    "    informal_log(\"Current run_id: {}\".format(run_id), progress_report_path)\n",
    "    \n",
    "    # Read config file as json and make updates to key and value paths\n",
    "    config_dict = read_json(config_path)\n",
    "    config_dict['editor'].update({\n",
    "        'key_image_path': key_path,\n",
    "        'value_image_path': value_path\n",
    "    })\n",
    "    \n",
    "    # Create config object\n",
    "    config = ConfigParser(config_dict, run_id=run_id)\n",
    "    \n",
    "    # Log the current trial path\n",
    "    informal_log(os.path.dirname(config.save_dir), save_trials_path)\n",
    "    \n",
    "    informal_log(\"Calling edit()...\", progress_report_path)\n",
    "    \n",
    "    edit(\n",
    "        config=config,\n",
    "        val_paths_data_loader=val_paths_data_loader,\n",
    "        covariance_data_loader=covariance_data_loader,\n",
    "        do_analyze_knn=analyze_in_edit)\n",
    "    '''\n",
    "    Repeat for identity matrix as covariance matrix\n",
    "    '''\n",
    "    # Create config object\n",
    "    config = ConfigParser(config_dict, run_id=os.path.join(run_id, 'identity'))\n",
    "    \n",
    "    config.config['covariance_dataset'] = {\"name\": \"\"}\n",
    "    # Log the current trial path\n",
    "    informal_log(os.path.dirname(config.save_dir), save_trials_path)\n",
    "    \n",
    "    informal_log(\"Calling edit()...\", progress_report_path)\n",
    "    \n",
    "    edit(\n",
    "        config=config,\n",
    "        val_paths_data_loader=val_paths_data_loader,\n",
    "        covariance_data_loader=None,\n",
    "        do_analyze_knn=analyze_in_edit)\n",
    "    \n",
    "    # Print progress\n",
    "    informal_log(\"Finished trial {}/{}. Results saved to {}\".format(idx + 1, n_trials, os.path.dirname(config.save_dir)),\n",
    "                progress_report_path)\n"
   ]
  },
  {
   "cell_type": "code",
   "execution_count": 15,
   "metadata": {},
   "outputs": [],
   "source": [
    "save_trials_path = 'saved/edit/trials/identity_cov/CINIC10_ImageNet-VGG_16/0117_201313/trial_paths.txt'\n",
    "trial_dirs = read_lists(save_trials_path)\n",
    "knn_analysis_filename = 'knn_analysis_results.pth'"
   ]
  },
  {
   "cell_type": "code",
   "execution_count": 16,
   "metadata": {},
   "outputs": [
    {
     "name": "stdout",
     "output_type": "stream",
     "text": [
      "Obtaining trial paths from saved/edit/trials/identity_cov/CINIC10_ImageNet-VGG_16/0117_201313/trial_paths.txt\n"
     ]
    }
   ],
   "source": [
    "try:\n",
    "    if not os.path.exists(save_trials_path):\n",
    "        print(\"Path {} does not exist\".format(save_trials_path))\n",
    "    else:\n",
    "        print(\"Obtaining trial paths from {}\".format(save_trials_path))\n",
    "except:\n",
    "    print(\"Need to define save_trials_path.\")\n",
    "\n"
   ]
  },
  {
   "cell_type": "markdown",
   "metadata": {},
   "source": [
    "## For each trial pair, compare the difference in all metrics and report the average across all data"
   ]
  },
  {
   "cell_type": "code",
   "execution_count": 24,
   "metadata": {},
   "outputs": [
    {
     "name": "stdout",
     "output_type": "stream",
     "text": [
      "{'TP': [array([ -21, -106,  185,  157,   42,  125, -678,   40,   75,  -63]), array([ -21, -106,  185,  157,   42,  125, -678,   40,   75,  -63]), array([ -36,  -42,  148,  205,  -63,  251, -606,   51,   81,  -85]), array([ -108,   124,   177,  -283,  -522,  1081, -1464,   120,    13,\n",
      "        -306]), array([ -28,  -28,   87,  287, -225,  133, -277,   36,    2,    2]), array([  -2,  -55,  131,  128,   19,  128, -526,   38,   98,  -50]), array([ -49,  -67,  -83,  431,  -59,  304, -576,   34,  101,  -42]), array([  -50,    22, -2582,   313,   218,   468,    56,   -73,   212,\n",
      "         -12]), array([ -44,   55,  -21, -124,  -27,  105,   36,   18,   59,   10]), array([ -54,  126,  349, -478,  -92,  222,  -30,  -35,  -95, -270]), array([-41,  24,  63, -20, -27, 158, -47, -27,  34, -91]), array([ -119,   211,   595, -1519,  -126,  -136,   -56,    53,   -17,\n",
      "        -195]), array([-41,  21,  57,   5, -34, 150, -47, -36,  37, -87]), array([ -19,  149,  482, -813,  -68,  -12,  -67,  121, -298, -328]), array([ -79,  109,  325, -498,  -26,  304, -113,  -31,   38, -262]), array([  -33,   113,   236,    85, -4270,   876,  -133,    88,   -91,\n",
      "         -58]), array([ -139,   141, -1775,   -16,   -34,   878,    46,    63,    80,\n",
      "         -64]), array([ -43,   23,  -28,  184, -167,  237,  -27, -214,  114,  -83]), array([ -92,  174,   98, -103, -372,  600,  -54,  -52,   68, -197]), array([ -161,   -17,  -204,   385,  -270,   612,    20, -1903,   393,\n",
      "        -223]), array([ -218,   -59,  -155,   326,  -261,   701,    14, -5136,   566,\n",
      "        -514]), array([-148,  133,  -19,   21, -257,  698,   -3, -601,  288, -249]), array([ -12, -146, -112,  332,  -20, -110,  -17, -246,   92,   88]), array([ -181,   -75,  -229,   -87,   556,   313,    87, -5136,   591,\n",
      "        -513]), array([ -26,   15,  -12,  171, -199,  174,  -37, -102,   45,  -43]), array([ -76,  129,  158,   64, -630,  509,  -91,  102,  -41, -122]), array([ -113,    35,   109,   685, -4270,   899,  -190,  -762,   113,\n",
      "        -101]), array([ -99,  147,   67,   47, -491,  586,  -33,  -84,   62, -175]), array([-133,  188,   28,  -65, -403,  829,   -5, -471,  205, -349]), array([ -63,  127,   71,   46, -479,  412,  -55,  145,  -41, -103]), array([ -59,  171,   48, -552,    7,  532,  -13,   17,  108, -207]), array([   -4,   217,   217, -1079,    30,   244,    48,   143,   -71,\n",
      "        -217]), array([ -121,   303,    67, -2005,    -4,  1348,   -41,    33,   105,\n",
      "        -366]), array([ -46,  187,  110, -692,   -1,  490,  -29,   44,   66, -232]), array([  -97,   226,   200, -1004,    -8,   777,   -55,    10,   101,\n",
      "        -314]), array([ -84,  181,   90, -669,    5,  631,  -33,    4,  135, -228]), array([ -110,   234,   463, -1676,    84,   537,   -88,   -38,    76,\n",
      "        -415]), array([ -118,   321,    42,  -138,  -670,   912,    89, -1220,   208,\n",
      "        -437])], 'TN': [array([  17,  205, -805, -352, -251, -249, 1145,  -76, -112,  234]), array([  17,  205, -805, -352, -251, -249, 1145,  -76, -112,  234]), array([ 103,   99, -524, -478,   54, -488, 1094,  -89, -109,  242]), array([  416,  -219,  -599,   494,  1086, -4293,  1686,  -207,   -30,\n",
      "         498]), array([ 113,   89, -280, -752,  444, -270,  591,  -41,   18,   77]), array([ -43,  121, -441, -257, -155, -254,  989,  -84, -129,  162]), array([  224,   152,   323, -1214,    33,  -661,  1114,   -66,  -114,\n",
      "         203]), array([  328,   -41,  3340, -1073,  -670, -3232,    65,   123,  -293,\n",
      "          25]), array([ 220, -123,  105,  244,   61, -161,  -81,  -38,  -63,  -97]), array([  206,  -205, -1611,   822,   156,  -277,   -53,    93,    84,\n",
      "         428]), array([ 163,   -3, -256,  -18,    3, -250,  140,   64,  -33,  216]), array([  328,  -499, -3777,  2379,   187,   247,  -114,  -137,   -46,\n",
      "         123]), array([ 164,    5, -237,  -77,   24, -240,  127,   83,  -33,  209]), array([   17,  -258, -2685,  1450,    30,   108,   -14,  -272,   290,\n",
      "         481]), array([  244,  -148, -1471,   920,   -15,  -398,   193,    88,   -77,\n",
      "         431]), array([  144,  -231,  -898,  -251,  2843, -5159,   308,   -99,   117,\n",
      "          39]), array([  736,  -268,  3006,    32,     5, -4283,    52,  -108,   -76,\n",
      "          84]), array([ 176,  -21,  111, -605,  387, -486,   79,  347, -155,  163]), array([  389,  -325,  -306,   196,   767, -1117,   188,    97,  -101,\n",
      "         282]), array([  689,    75,   662, -1582,   631, -2661,   -47,  1114,  -680,\n",
      "         431]), array([  869,   123,   535, -1404,   627, -6172,   -52,  1253, -1324,\n",
      "         809]), array([  613,  -184,   124,  -245,   573, -1682,    21,   695,  -457,\n",
      "         405]), array([   18,   249,   323, -1091,     5,   105,    71,   342,  -110,\n",
      "         -63]), array([  723,   160,   721,   -96, -5647,  -822,  -306,  1253, -1445,\n",
      "         785]), array([  80,  -27,   50, -519,  418, -335,  104,  180,  -57,   92]), array([  354,  -248,  -488,  -198,  1227, -1007,   237,  -147,    63,\n",
      "         209]), array([  474,   -25,  -411, -2727,  2843, -5029,   441,   798,  -201,\n",
      "         242]), array([  441,  -257,  -152,  -229,  1020, -1236,    97,   160,   -98,\n",
      "         281]), array([  559,  -331,    -9,    51,   848, -2074,    45,   592,  -358,\n",
      "         501]), array([ 317, -235, -153, -156,  937, -816,  161, -228,   71,  162]), array([ 226, -326, -166, 1078,  -82, -822,   33,  -11, -174,  296]), array([  -56,  -485, -1049,  1875,  -191,  -275,  -250,  -336,    56,\n",
      "         239]), array([  551,  -642,  -178,  2572,   -33, -3388,   111,    -4,  -184,\n",
      "         514]), array([ 145, -377, -520, 1297,  -69, -743,   50,  -73, -132,  319]), array([  366,  -432,  -840,  1733,   -45, -1320,    98,     7,  -183,\n",
      "         452]), array([  341,  -341,  -331,  1256,   -79, -1021,    69,    23,  -225,\n",
      "         340]), array([  366,  -434, -2730,  2494,  -356,  -798,    63,    81,  -205,\n",
      "         586]), array([  459,  -788,  -108,   181,  1293, -2838,  -268,   995,  -495,\n",
      "         558])], 'FPs': [array([  -17,  -205,   805,   352,   251,   249, -1145,    76,   112,\n",
      "        -234]), array([  -17,  -205,   805,   352,   251,   249, -1145,    76,   112,\n",
      "        -234]), array([ -103,   -99,   524,   478,   -54,   488, -1094,    89,   109,\n",
      "        -242]), array([ -416,   219,   599,  -494, -1086,  4293, -1686,   207,    30,\n",
      "        -498]), array([-113,  -89,  280,  752, -444,  270, -591,   41,  -18,  -77]), array([  43, -121,  441,  257,  155,  254, -989,   84,  129, -162]), array([ -224,  -152,  -323,  1214,   -33,   661, -1114,    66,   114,\n",
      "        -203]), array([ -328,    41, -3340,  1073,   670,  3232,   -65,  -123,   293,\n",
      "         -25]), array([-220,  123, -105, -244,  -61,  161,   81,   38,   63,   97]), array([-206,  205, 1611, -822, -156,  277,   53,  -93,  -84, -428]), array([-163,    3,  256,   18,   -3,  250, -140,  -64,   33, -216]), array([ -328,   499,  3777, -2379,  -187,  -247,   114,   137,    46,\n",
      "        -123]), array([-164,   -5,  237,   77,  -24,  240, -127,  -83,   33, -209]), array([  -17,   258,  2685, -1450,   -30,  -108,    14,   272,  -290,\n",
      "        -481]), array([-244,  148, 1471, -920,   15,  398, -193,  -88,   77, -431]), array([ -144,   231,   898,   251, -2843,  5159,  -308,    99,  -117,\n",
      "         -39]), array([ -736,   268, -3006,   -32,    -5,  4283,   -52,   108,    76,\n",
      "         -84]), array([-176,   21, -111,  605, -387,  486,  -79, -347,  155, -163]), array([-389,  325,  306, -196, -767, 1117, -188,  -97,  101, -282]), array([ -689,   -75,  -662,  1582,  -631,  2661,    47, -1114,   680,\n",
      "        -431]), array([ -869,  -123,  -535,  1404,  -627,  6172,    52, -1253,  1324,\n",
      "        -809]), array([-613,  184, -124,  245, -573, 1682,  -21, -695,  457, -405]), array([ -18, -249, -323, 1091,   -5, -105,  -71, -342,  110,   63]), array([ -723,  -160,  -721,    96,  5647,   822,   306, -1253,  1445,\n",
      "        -785]), array([ -80,   27,  -50,  519, -418,  335, -104, -180,   57,  -92]), array([ -354,   248,   488,   198, -1227,  1007,  -237,   147,   -63,\n",
      "        -209]), array([ -474,    25,   411,  2727, -2843,  5029,  -441,  -798,   201,\n",
      "        -242]), array([ -441,   257,   152,   229, -1020,  1236,   -97,  -160,    98,\n",
      "        -281]), array([-559,  331,    9,  -51, -848, 2074,  -45, -592,  358, -501]), array([-317,  235,  153,  156, -937,  816, -161,  228,  -71, -162]), array([ -226,   326,   166, -1078,    82,   822,   -33,    11,   174,\n",
      "        -296]), array([   56,   485,  1049, -1875,   191,   275,   250,   336,   -56,\n",
      "        -239]), array([ -551,   642,   178, -2572,    33,  3388,  -111,     4,   184,\n",
      "        -514]), array([ -145,   377,   520, -1297,    69,   743,   -50,    73,   132,\n",
      "        -319]), array([ -366,   432,   840, -1733,    45,  1320,   -98,    -7,   183,\n",
      "        -452]), array([ -341,   341,   331, -1256,    79,  1021,   -69,   -23,   225,\n",
      "        -340]), array([ -366,   434,  2730, -2494,   356,   798,   -63,   -81,   205,\n",
      "        -586]), array([ -459,   788,   108,  -181, -1293,  2838,   268,  -995,   495,\n",
      "        -558])], 'FNs': [array([  21,  106, -185, -157,  -42, -125,  678,  -40,  -75,   63]), array([  21,  106, -185, -157,  -42, -125,  678,  -40,  -75,   63]), array([  36,   42, -148, -205,   63, -251,  606,  -51,  -81,   85]), array([  108,  -124,  -177,   283,   522, -1081,  1464,  -120,   -13,\n",
      "         306]), array([  28,   28,  -87, -287,  225, -133,  277,  -36,   -2,   -2]), array([   2,   55, -131, -128,  -19, -128,  526,  -38,  -98,   50]), array([  49,   67,   83, -431,   59, -304,  576,  -34, -101,   42]), array([  50,  -22, 2582, -313, -218, -468,  -56,   73, -212,   12]), array([  44,  -55,   21,  124,   27, -105,  -36,  -18,  -59,  -10]), array([  54, -126, -349,  478,   92, -222,   30,   35,   95,  270]), array([  41,  -24,  -63,   20,   27, -158,   47,   27,  -34,   91]), array([ 119, -211, -595, 1519,  126,  136,   56,  -53,   17,  195]), array([  41,  -21,  -57,   -5,   34, -150,   47,   36,  -37,   87]), array([  19, -149, -482,  813,   68,   12,   67, -121,  298,  328]), array([  79, -109, -325,  498,   26, -304,  113,   31,  -38,  262]), array([  33, -113, -236,  -85, 4270, -876,  133,  -88,   91,   58]), array([ 139, -141, 1775,   16,   34, -878,  -46,  -63,  -80,   64]), array([  43,  -23,   28, -184,  167, -237,   27,  214, -114,   83]), array([  92, -174,  -98,  103,  372, -600,   54,   52,  -68,  197]), array([ 161,   17,  204, -385,  270, -612,  -20, 1903, -393,  223]), array([ 218,   59,  155, -326,  261, -701,  -14, 5136, -566,  514]), array([ 148, -133,   19,  -21,  257, -698,    3,  601, -288,  249]), array([  12,  146,  112, -332,   20,  110,   17,  246,  -92,  -88]), array([ 181,   75,  229,   87, -556, -313,  -87, 5136, -591,  513]), array([  26,  -15,   12, -171,  199, -174,   37,  102,  -45,   43]), array([  76, -129, -158,  -64,  630, -509,   91, -102,   41,  122]), array([ 113,  -35, -109, -685, 4270, -899,  190,  762, -113,  101]), array([  99, -147,  -67,  -47,  491, -586,   33,   84,  -62,  175]), array([ 133, -188,  -28,   65,  403, -829,    5,  471, -205,  349]), array([  63, -127,  -71,  -46,  479, -412,   55, -145,   41,  103]), array([  59, -171,  -48,  552,   -7, -532,   13,  -17, -108,  207]), array([   4, -217, -217, 1079,  -30, -244,  -48, -143,   71,  217]), array([  121,  -303,   -67,  2005,     4, -1348,    41,   -33,  -105,\n",
      "         366]), array([  46, -187, -110,  692,    1, -490,   29,  -44,  -66,  232]), array([  97, -226, -200, 1004,    8, -777,   55,  -10, -101,  314]), array([  84, -181,  -90,  669,   -5, -631,   33,   -4, -135,  228]), array([ 110, -234, -463, 1676,  -84, -537,   88,   38,  -76,  415]), array([ 118, -321,  -42,  138,  670, -912,  -89, 1220, -208,  437])], 'accuracy': [-0.003485714285714314, -0.003485714285714314, -0.001371428571428579, -0.016685714285714304, -0.0001571428571428557, -0.0013000000000000789, -8.571428571435558e-05, -0.020400000000000085, 0.0009571428571427676, -0.0051000000000001044, 0.0003714285714284671, -0.01870000000000005, 0.00035714285714283367, -0.012185714285714355, -0.0033285714285714585, -0.045528571428571474, -0.011714285714285788, -5.714285714286671e-05, 0.0010000000000000009, -0.019542857142857195, -0.06765714285714286, -0.0019571428571428795, -0.0021571428571428575, -0.06677142857142859, -0.000200000000000089, 2.8571428571377844e-05, -0.05135714285714288, 0.0003857142857142115, -0.002514285714285802, 0.0008571428571427786, 0.0007428571428570452, -0.0067428571428571615, -0.00972857142857153, -0.001471428571428568, -0.002342857142857202, 0.00045714285714282266, -0.013328571428571467, -0.014442857142857202], 'per_class_accuracy': [array([-5.71428571e-05,  1.41428571e-03, -8.85714286e-03, -2.78571429e-03,\n",
      "       -2.98571429e-03, -1.77142857e-03,  6.67142857e-03, -5.14285714e-04,\n",
      "       -5.28571429e-04,  2.44285714e-03]), array([-5.71428571e-05,  1.41428571e-03, -8.85714286e-03, -2.78571429e-03,\n",
      "       -2.98571429e-03, -1.77142857e-03,  6.67142857e-03, -5.14285714e-04,\n",
      "       -5.28571429e-04,  2.44285714e-03]), array([ 0.00095714,  0.00081429, -0.00537143, -0.0039    , -0.00012857,\n",
      "       -0.00338571,  0.00697143, -0.00054286, -0.0004    ,  0.00224286]), array([ 0.0044    , -0.00135714, -0.00602857,  0.00301429,  0.00805714,\n",
      "       -0.04588571,  0.00317143, -0.00124286, -0.00024286,  0.00274286]), array([ 1.21428571e-03,  8.71428571e-04, -2.75714286e-03, -6.64285714e-03,\n",
      "        3.12857143e-03, -1.95714286e-03,  4.48571429e-03, -7.14285714e-05,\n",
      "        2.85714286e-04,  1.12857143e-03]), array([-0.00064286,  0.00094286, -0.00442857, -0.00184286, -0.00194286,\n",
      "       -0.0018    ,  0.00661429, -0.00065714, -0.00044286,  0.0016    ]), array([ 0.0025    ,  0.00121429,  0.00342857, -0.01118571, -0.00037143,\n",
      "       -0.0051    ,  0.00768571, -0.00045714, -0.00018571,  0.0023    ]), array([ 0.00397143, -0.00027143,  0.01082857, -0.01085714, -0.00645714,\n",
      "       -0.03948571,  0.00172857,  0.00071429, -0.00115714,  0.00018571]), array([ 2.51428571e-03, -9.71428571e-04,  1.20000000e-03,  1.71428571e-03,\n",
      "        4.85714286e-04, -8.00000000e-04, -6.42857143e-04, -2.85714286e-04,\n",
      "       -5.71428571e-05, -1.24285714e-03]), array([ 0.00217143, -0.00112857, -0.01802857,  0.00491429,  0.00091429,\n",
      "       -0.00078571, -0.00118571,  0.00082857, -0.00015714,  0.00225714]), array([ 1.74285714e-03,  3.00000000e-04, -2.75714286e-03, -5.42857143e-04,\n",
      "       -3.42857143e-04, -1.31428571e-03,  1.32857143e-03,  5.28571429e-04,\n",
      "        1.42857143e-05,  1.78571429e-03]), array([ 0.00298571, -0.00411429, -0.04545714,  0.01228571,  0.00087143,\n",
      "        0.00158571, -0.00242857, -0.0012    , -0.0009    , -0.00102857]), array([ 1.75714286e-03,  3.71428571e-04, -2.57142857e-03, -1.02857143e-03,\n",
      "       -1.42857143e-04, -1.28571429e-03,  1.14285714e-03,  6.71428571e-04,\n",
      "        5.71428571e-05,  1.74285714e-03]), array([-2.85714286e-05, -1.55714286e-03, -3.14714286e-02,  9.10000000e-03,\n",
      "       -5.42857143e-04,  1.37142857e-03, -1.15714286e-03, -2.15714286e-03,\n",
      "       -1.14285714e-04,  2.18571429e-03]), array([ 0.00235714, -0.00055714, -0.01637143,  0.00602857, -0.00058571,\n",
      "       -0.00134286,  0.00114286,  0.00081429, -0.00055714,  0.00241429]), array([ 0.00158571, -0.00168571, -0.00945714, -0.00237143, -0.02038571,\n",
      "       -0.06118571,  0.0025    , -0.00015714,  0.00037143, -0.00027143]), array([ 8.52857143e-03, -1.81428571e-03,  1.75857143e-02,  2.28571429e-04,\n",
      "       -4.14285714e-04, -4.86428571e-02,  1.40000000e-03, -6.42857143e-04,\n",
      "        5.71428571e-05,  2.85714286e-04]), array([ 1.90000000e-03,  2.85714286e-05,  1.18571429e-03, -6.01428571e-03,\n",
      "        3.14285714e-03, -3.55714286e-03,  7.42857143e-04,  1.90000000e-03,\n",
      "       -5.85714286e-04,  1.14285714e-03]), array([ 0.00424286, -0.00215714, -0.00297143,  0.00132857,  0.00564286,\n",
      "       -0.00738571,  0.00191429,  0.00064286, -0.00047143,  0.00121429]), array([ 0.00754286,  0.00082857,  0.00654286, -0.0171    ,  0.00515714,\n",
      "       -0.02927143, -0.00038571, -0.01127143, -0.0041    ,  0.00297143]), array([ 0.0093    ,  0.00091429,  0.00542857, -0.0154    ,  0.00522857,\n",
      "       -0.07815714, -0.00054286, -0.05547143, -0.01082857,  0.00421429]), array([ 0.00664286, -0.00072857,  0.0015    , -0.0032    ,  0.00451429,\n",
      "       -0.01405714,  0.00025714,  0.00134286, -0.00241429,  0.00222857]), array([ 8.57142857e-05,  1.47142857e-03,  3.01428571e-03, -1.08428571e-02,\n",
      "       -2.14285714e-04, -7.14285714e-05,  7.71428571e-04,  1.37142857e-03,\n",
      "       -2.57142857e-04,  3.57142857e-04]), array([ 0.00774286,  0.00121429,  0.00702857, -0.00261429, -0.07272857,\n",
      "       -0.00727143, -0.00312857, -0.05547143, -0.0122    ,  0.00388571]), array([ 0.00077143, -0.00017143,  0.00054286, -0.00497143,  0.00312857,\n",
      "       -0.0023    ,  0.00095714,  0.00111429, -0.00017143,  0.0007    ]), array([ 0.00397143, -0.0017    , -0.00471429, -0.00191429,  0.00852857,\n",
      "       -0.00711429,  0.00208571, -0.00064286,  0.00031429,  0.00124286]), array([ 0.00515714,  0.00014286, -0.00431429, -0.02917143, -0.02038571,\n",
      "       -0.059     ,  0.00358571,  0.00051429, -0.00125714,  0.00201429]), array([ 0.00488571, -0.00157143, -0.00121429, -0.0026    ,  0.00755714,\n",
      "       -0.00928571,  0.00091429,  0.00108571, -0.00051429,  0.00151429]), array([ 0.00608571, -0.00204286,  0.00027143, -0.0002    ,  0.00635714,\n",
      "       -0.01778571,  0.00057143,  0.00172857, -0.00218571,  0.00217143]), array([ 0.00362857, -0.00154286, -0.00117143, -0.00157143,  0.00654286,\n",
      "       -0.00577143,  0.00151429, -0.00118571,  0.00042857,  0.00084286]), array([ 2.38571429e-03, -2.21428571e-03, -1.68571429e-03,  7.51428571e-03,\n",
      "       -1.07142857e-03, -4.14285714e-03,  2.85714286e-04,  8.57142857e-05,\n",
      "       -9.42857143e-04,  1.27142857e-03]), array([-0.00085714, -0.00382857, -0.01188571,  0.01137143, -0.0023    ,\n",
      "       -0.00044286, -0.00288571, -0.00275714, -0.00021429,  0.00031429]), array([ 0.00614286, -0.00484286, -0.00158571,  0.0081    , -0.00052857,\n",
      "       -0.02914286,  0.001     ,  0.00041429, -0.00112857,  0.00211429]), array([ 0.00141429, -0.00271429, -0.00585714,  0.00864286, -0.001     ,\n",
      "       -0.00361429,  0.0003    , -0.00041429, -0.00094286,  0.00124286]), array([ 0.00384286, -0.00294286, -0.00914286,  0.01041429, -0.00075714,\n",
      "       -0.00775714,  0.00061429,  0.00024286, -0.00117143,  0.00197143]), array([ 0.00367143, -0.00228571, -0.00344286,  0.00838571, -0.00105714,\n",
      "       -0.00557143,  0.00051429,  0.00038571, -0.00128571,  0.0016    ]), array([ 0.00365714, -0.00285714, -0.03238571,  0.01168571, -0.00388571,\n",
      "       -0.00372857, -0.00035714,  0.00061429, -0.00184286,  0.00244286]), array([ 0.00487143, -0.00667143, -0.00094286,  0.00061429,  0.0089    ,\n",
      "       -0.02751429, -0.00255714, -0.00321429, -0.0041    ,  0.00172857])], 'per_class_accuracy_mean': [-0.0006971428571429517, -0.0006971428571429517, -0.00027428571428556037, -0.0033371428571428163, -3.142857142857114e-05, -0.00025999999999992696, -1.7142857142715684e-05, -0.0040800000000000836, 0.0001914285714285091, -0.0010199999999999099, 7.428571428569342e-05, -0.0037399999999999656, 7.14285714283891e-05, -0.0024371428571428044, -0.0006657142857141585, -0.009105714285714273, -0.002342857142857091, -1.142857142866216e-05, 0.000200000000000089, -0.003908571428571483, -0.013531428571428528, -0.0003914285714285981, -0.0004314285714285271, -0.013354285714285652, -3.999999999992898e-05, 5.714285714053524e-06, -0.010271428571428709, 7.714285714277569e-05, -0.0005028571428571382, 0.00017142857142860013, 0.00014857142857138683, -0.0013485714285714767, -0.0019457142857142173, -0.00029428571428591344, -0.0004685714285713738, 9.142857142852012e-05, -0.0026657142857141602, -0.0028885714285714625], 'precision': [array([ 0.00054014,  0.01783807, -0.04131215, -0.01675172, -0.01807867,\n",
      "       -0.03018974,  0.11714653, -0.00818605, -0.01114374,  0.02452322]), array([ 0.00054014,  0.01783807, -0.04131215, -0.01675172, -0.01807867,\n",
      "       -0.03018974,  0.11714653, -0.00818605, -0.01114374,  0.02452322]), array([ 0.00659046,  0.00874407, -0.02661047, -0.02270896,  0.00103433,\n",
      "       -0.05446872,  0.1114117 , -0.00942617, -0.01056379,  0.02458952]), array([ 0.02922866, -0.01705239, -0.02975465,  0.0238762 ,  0.08052631,\n",
      "       -0.28247859,  0.19706936, -0.02127298, -0.00330442,  0.048442  ]), array([ 0.00764538,  0.0081889 , -0.01434219, -0.03611891,  0.02740641,\n",
      "       -0.03269221,  0.05467333, -0.0040054 ,  0.00235108,  0.00877541]), array([-0.00329693,  0.01060561, -0.02235502, -0.01162278, -0.01172689,\n",
      "       -0.0307114 ,  0.09857937, -0.00922647, -0.01235654,  0.01646437]), array([ 0.01562144,  0.01348103,  0.01891917, -0.05587371, -0.00053718,\n",
      "       -0.07260462,  0.11503539, -0.00714874, -0.01044548,  0.02166055]), array([ 0.02395565, -0.00335736,  0.32907313, -0.05456315, -0.03937941,\n",
      "       -0.27034227,  0.00824915,  0.01365426, -0.02724612,  0.00228709]), array([ 0.01547717, -0.01030035,  0.00623212,  0.01213111,  0.00367647,\n",
      "       -0.01841022, -0.00660313, -0.00419199, -0.00574668, -0.0102213 ]), array([ 0.01401903, -0.01564814, -0.07600036,  0.0428516 ,  0.00828503,\n",
      "       -0.02754866, -0.00617213,  0.01084441,  0.00744852,  0.04053242]), array([ 0.01108492,  0.00055039, -0.01392212, -0.00272309, -0.00126934,\n",
      "       -0.02803203,  0.01240589,  0.00732824, -0.00292778,  0.02119571]), array([ 0.02157812, -0.03939743, -0.15236453,  0.21004004,  0.00910247,\n",
      "        0.0349182 , -0.01293022, -0.01515998, -0.00638561,  0.00563792]), array([ 0.0111633 ,  0.00125664, -0.01298381, -0.00575269,  0.00011594,\n",
      "       -0.02712226,  0.0110838 ,  0.00951546, -0.00282087,  0.02051951]), array([ 0.00061111, -0.01982293, -0.11724449,  0.09403507, -0.00130715,\n",
      "        0.01768171, -0.00365042, -0.02874159,  0.02877521,  0.04524056]), array([ 0.01617305, -0.01078569, -0.07023019,  0.05197538, -0.00273115,\n",
      "       -0.03884602,  0.0156894 ,  0.01031291, -0.00822252,  0.04125602]), array([ 0.00987925, -0.01859166, -0.04419819, -0.01388268, -0.60030929,\n",
      "       -0.32971512,  0.0272018 , -0.00947778,  0.01194594,  0.00189232]), array([ 0.05598047, -0.02105201,  0.26727598,  0.00153408, -0.00149674,\n",
      "       -0.29447965,  0.00663716, -0.01135118, -0.00658914,  0.00678078]), array([ 0.01203546, -0.00130732,  0.00632497, -0.03270698,  0.02524338,\n",
      "       -0.05518941,  0.00690854,  0.04066191, -0.01487814,  0.01519996]), array([ 0.0275303 , -0.02513311, -0.01548123,  0.00941531,  0.05218485,\n",
      "       -0.10292805,  0.01710077,  0.01086192, -0.01006509,  0.02484674]), array([ 0.05103861,  0.00711547,  0.03929117, -0.07903174,  0.04360571,\n",
      "       -0.22636917, -0.00388608,  0.1548965 , -0.06127959,  0.04283894]), array([ 0.06569248,  0.01067673,  0.03155746, -0.07286413,  0.04370677,\n",
      "       -0.37387505, -0.00457144, -0.80388167, -0.11265571,  0.08570786]), array([ 0.04473589, -0.0133893 ,  0.00764769, -0.01752126,  0.03839833,\n",
      "       -0.14858292,  0.00195773,  0.08655618, -0.04237706,  0.03837389]), array([ 0.00093499,  0.0212795 ,  0.01757045, -0.05449911, -0.00070433,\n",
      "        0.01040817,  0.00644166,  0.03907644, -0.01028742, -0.00318086]), array([ 0.05343894,  0.01405759,  0.04289855, -0.01323679, -0.23788815,\n",
      "       -0.09098964, -0.02565405, -0.80388167, -0.12148051,  0.08200005]), array([ 0.00517013, -0.00219909,  0.00285247, -0.02765211,  0.02638406,\n",
      "       -0.03909966,  0.00908746,  0.02041831, -0.00550916,  0.00859734]), array([ 0.02519174, -0.01961267, -0.02398001, -0.01125296,  0.09223256,\n",
      "       -0.09766626,  0.02100558, -0.01478857,  0.00661167,  0.01905551]), array([ 0.03393326, -0.00128286, -0.02152374, -0.1162955 , -0.60030929,\n",
      "       -0.32348775,  0.04002439,  0.10189592, -0.02033872,  0.02392957]), array([ 0.03162693, -0.01980198, -0.00701985, -0.01466106,  0.07427121,\n",
      "       -0.11569923,  0.00851507,  0.01825014, -0.00991798,  0.02564615]), array([ 4.05325781e-02, -2.51715295e-02,  6.85177257e-04, -1.14614971e-04,\n",
      "        5.93631739e-02, -1.71089221e-01,  4.25800064e-03,  7.20101797e-02,\n",
      "       -3.47651069e-02,  4.71018295e-02]), array([ 0.02261515, -0.01845898, -0.00690122, -0.00921698,  0.06512866,\n",
      "       -0.08333923,  0.0142898 , -0.02289971,  0.00764966,  0.01423642]), array([ 0.01543296, -0.02533521, -0.00880974,  0.06598338, -0.00644648,\n",
      "       -0.07590883,  0.00280462, -0.00085845, -0.01734766,  0.02617482]), array([-0.00433759, -0.037942  , -0.05332756,  0.13957381, -0.01399896,\n",
      "       -0.02577563, -0.02195901, -0.03524451,  0.00464461,  0.01867056]), array([ 0.04024308, -0.04824067, -0.00871372,  0.2237993 , -0.00299762,\n",
      "       -0.22257596,  0.00966154,  0.00050675, -0.01863761,  0.04818904]), array([ 0.0095017 , -0.02940478, -0.02811999,  0.0826328 , -0.00582385,\n",
      "       -0.06964145,  0.00395143, -0.00769354, -0.0138827 ,  0.02801952]), array([ 0.02545851, -0.03291112, -0.04260016,  0.12162967, -0.00422538,\n",
      "       -0.11117931,  0.00788491,  0.00118716, -0.01866726,  0.04191213]), array([ 0.02385159, -0.02634484, -0.01742304,  0.07909959, -0.00631179,\n",
      "       -0.09099942,  0.00570932,  0.00302571, -0.02232111,  0.0308554 ]), array([ 0.02501134, -0.03279422, -0.11987024,  0.22834715, -0.02384961,\n",
      "       -0.07286065,  0.00325857,  0.00919648, -0.02218462,  0.05626822]), array([ 0.03249617, -0.05963129, -0.00528188,  0.0058298 ,  0.09871983,\n",
      "       -0.21746055, -0.02215788,  0.13430712, -0.04950011,  0.05140283])], 'precision_mean': [0.003438589613789511, 0.003438589613789511, 0.002859198608527236, 0.002527950436511217, 0.002188181422979496, 0.0024353328867272594, 0.003810784583258564, -0.0017669044908099618, -0.0017956800099119263, -0.00013882804487208578, 0.000369079130001726, 0.005503897475544917, 0.0004975025994609084, 0.0015577069282728395, 0.0004591197862247043, -0.09652554018405735, 0.00032397648517945576, 0.00022923742259939317, -0.0011667595334960978, -0.003178016289270391, -0.11305066934661956, -0.00042008283088312837, 0.002703949180185017, -0.11007356770931909, -0.00019502566912721342, -0.0003203410295337106, -0.08834547237361112, -0.0008790606638807708, -0.0007189533144020821, -0.0016896435653058761, -0.002431059289602411, -0.00296962780860488, 0.002123415109844373, -0.003046084912528668, -0.0011510843603359522, -0.002085859207573537, 0.005052240863444912, -0.0031275945896364066], 'recall': [array([-0.003     , -0.01514286,  0.02642857,  0.02242857,  0.006     ,\n",
      "        0.01785714, -0.09685714,  0.00571429,  0.01071429, -0.009     ]), array([-0.003     , -0.01514286,  0.02642857,  0.02242857,  0.006     ,\n",
      "        0.01785714, -0.09685714,  0.00571429,  0.01071429, -0.009     ]), array([-0.00514286, -0.006     ,  0.02114286,  0.02928571, -0.009     ,\n",
      "        0.03585714, -0.08657143,  0.00728571,  0.01157143, -0.01214286]), array([-0.01542857,  0.01771429,  0.02528571, -0.04042857, -0.07457143,\n",
      "        0.15442857, -0.20914286,  0.01714286,  0.00185714, -0.04371429]), array([-0.004     , -0.004     ,  0.01242857,  0.041     , -0.03214286,\n",
      "        0.019     , -0.03957143,  0.00514286,  0.00028571,  0.00028571]), array([-0.00028571, -0.00785714,  0.01871429,  0.01828571,  0.00271429,\n",
      "        0.01828571, -0.07514286,  0.00542857,  0.014     , -0.00714286]), array([-0.007     , -0.00957143, -0.01185714,  0.06157143, -0.00842857,\n",
      "        0.04342857, -0.08228571,  0.00485714,  0.01442857, -0.006     ]), array([-0.00714286,  0.00314286, -0.36885714,  0.04471429,  0.03114286,\n",
      "        0.06685714,  0.008     , -0.01042857,  0.03028571, -0.00171429]), array([-0.00628571,  0.00785714, -0.003     , -0.01771429, -0.00385714,\n",
      "        0.015     ,  0.00514286,  0.00257143,  0.00842857,  0.00142857]), array([-0.00771429,  0.018     ,  0.04985714, -0.06828571, -0.01314286,\n",
      "        0.03171429, -0.00428571, -0.005     , -0.01357143, -0.03857143]), array([-0.00585714,  0.00342857,  0.009     , -0.00285714, -0.00385714,\n",
      "        0.02257143, -0.00671429, -0.00385714,  0.00485714, -0.013     ]), array([-0.017     ,  0.03014286,  0.085     , -0.217     , -0.018     ,\n",
      "       -0.01942857, -0.008     ,  0.00757143, -0.00242857, -0.02785714]), array([-0.00585714,  0.003     ,  0.00814286,  0.00071429, -0.00485714,\n",
      "        0.02142857, -0.00671429, -0.00514286,  0.00528571, -0.01242857]), array([-0.00271429,  0.02128571,  0.06885714, -0.11614286, -0.00971429,\n",
      "       -0.00171429, -0.00957143,  0.01728571, -0.04257143, -0.04685714]), array([-0.01128571,  0.01557143,  0.04642857, -0.07114286, -0.00371429,\n",
      "        0.04342857, -0.01614286, -0.00442857,  0.00542857, -0.03742857]), array([-0.00471429,  0.01614286,  0.03371429,  0.01214286, -0.61      ,\n",
      "        0.12514286, -0.019     ,  0.01257143, -0.013     , -0.00828571]), array([-0.01985714,  0.02014286, -0.25357143, -0.00228571, -0.00485714,\n",
      "        0.12542857,  0.00657143,  0.009     ,  0.01142857, -0.00914286]), array([-0.00614286,  0.00328571, -0.004     ,  0.02628571, -0.02385714,\n",
      "        0.03385714, -0.00385714, -0.03057143,  0.01628571, -0.01185714]), array([-0.01314286,  0.02485714,  0.014     , -0.01471429, -0.05314286,\n",
      "        0.08571429, -0.00771429, -0.00742857,  0.00971429, -0.02814286]), array([-0.023     , -0.00242857, -0.02914286,  0.055     , -0.03857143,\n",
      "        0.08742857,  0.00285714, -0.27185714,  0.05614286, -0.03185714]), array([-0.03114286, -0.00842857, -0.02214286,  0.04657143, -0.03728571,\n",
      "        0.10014286,  0.002     , -0.73371429,  0.08085714, -0.07342857]), array([-0.02114286,  0.019     , -0.00271429,  0.003     , -0.03671429,\n",
      "        0.09971429, -0.00042857, -0.08585714,  0.04114286, -0.03557143]), array([-0.00171429, -0.02085714, -0.016     ,  0.04742857, -0.00285714,\n",
      "       -0.01571429, -0.00242857, -0.03514286,  0.01314286,  0.01257143]), array([-0.02585714, -0.01071429, -0.03271429, -0.01242857,  0.07942857,\n",
      "        0.04471429,  0.01242857, -0.73371429,  0.08442857, -0.07328571]), array([-0.00371429,  0.00214286, -0.00171429,  0.02442857, -0.02842857,\n",
      "        0.02485714, -0.00528571, -0.01457143,  0.00642857, -0.00614286]), array([-0.01085714,  0.01842857,  0.02257143,  0.00914286, -0.09      ,\n",
      "        0.07271429, -0.013     ,  0.01457143, -0.00585714, -0.01742857]), array([-0.01614286,  0.005     ,  0.01557143,  0.09785714, -0.61      ,\n",
      "        0.12842857, -0.02714286, -0.10885714,  0.01614286, -0.01442857]), array([-0.01414286,  0.021     ,  0.00957143,  0.00671429, -0.07014286,\n",
      "        0.08371429, -0.00471429, -0.012     ,  0.00885714, -0.025     ]), array([-0.019     ,  0.02685714,  0.004     , -0.00928571, -0.05757143,\n",
      "        0.11842857, -0.00071429, -0.06728571,  0.02928571, -0.04985714]), array([-0.009     ,  0.01814286,  0.01014286,  0.00657143, -0.06842857,\n",
      "        0.05885714, -0.00785714,  0.02071429, -0.00585714, -0.01471429]), array([-0.00842857,  0.02442857,  0.00685714, -0.07885714,  0.001     ,\n",
      "        0.076     , -0.00185714,  0.00242857,  0.01542857, -0.02957143]), array([-0.00057143,  0.031     ,  0.031     , -0.15414286,  0.00428571,\n",
      "        0.03485714,  0.00685714,  0.02042857, -0.01014286, -0.031     ]), array([-0.01728571,  0.04328571,  0.00957143, -0.28642857, -0.00057143,\n",
      "        0.19257143, -0.00585714,  0.00471429,  0.015     , -0.05228571]), array([-0.00657143,  0.02671429,  0.01571429, -0.09885714, -0.00014286,\n",
      "        0.07      , -0.00414286,  0.00628571,  0.00942857, -0.03314286]), array([-0.01385714,  0.03228571,  0.02857143, -0.14342857, -0.00114286,\n",
      "        0.111     , -0.00785714,  0.00142857,  0.01442857, -0.04485714]), array([-0.012     ,  0.02585714,  0.01285714, -0.09557143,  0.00071429,\n",
      "        0.09014286, -0.00471429,  0.00057143,  0.01928571, -0.03257143]), array([-0.01571429,  0.03342857,  0.06614286, -0.23942857,  0.012     ,\n",
      "        0.07671429, -0.01257143, -0.00542857,  0.01085714, -0.05928571]), array([-0.01685714,  0.04585714,  0.006     , -0.01971429, -0.09571429,\n",
      "        0.13028571,  0.01271429, -0.17428571,  0.02971429, -0.06242857])], 'recall_mean': [-0.003485714285714425, -0.003485714285714425, -0.00137142857142869, -0.016685714285714304, -0.00015714285714296672, -0.0012999999999999678, -8.571428571435558e-05, -0.020400000000000085, 0.0009571428571427676, -0.005099999999999993, 0.0003714285714284671, -0.01869999999999994, 0.00035714285714272265, -0.012185714285714355, -0.0033285714285714585, -0.045528571428571474, -0.011714285714285677, -5.714285714286671e-05, 0.0010000000000000009, -0.019542857142857084, -0.06765714285714286, -0.0019571428571428795, -0.0021571428571428575, -0.0667714285714287, -0.000200000000000089, 2.8571428571377844e-05, -0.05135714285714277, 0.0003857142857142115, -0.002514285714285913, 0.0008571428571428896, 0.0007428571428570452, -0.0067428571428572726, -0.00972857142857153, -0.001471428571428457, -0.002342857142857202, 0.00045714285714282266, -0.013328571428571467, -0.014442857142857313], 'f1': [array([-0.00080522,  0.00161575, -0.01692893,  0.0023136 , -0.00647639,\n",
      "        0.00438621,  0.00440552, -0.00066604,  0.00098735,  0.00608705]), array([-0.00080522,  0.00161575, -0.01692893,  0.0023136 , -0.00647639,\n",
      "        0.00438621,  0.00440552, -0.00066604,  0.00098735,  0.00608705]), array([ 0.00217381,  0.00158112, -0.0089845 ,  0.00229208, -0.00394409,\n",
      "        0.00907216,  0.00813676, -0.0003997 ,  0.00172067,  0.00433904]), array([ 0.01197338, -0.00073158, -0.0095726 , -0.01046133, -0.00567563,\n",
      "       -0.04206696, -0.04255232, -0.00079275, -0.00041285, -0.00423956]), array([ 3.27775282e-03,  2.27777267e-03, -4.23409475e-03,  8.56483630e-05,\n",
      "       -3.36042070e-03,  4.42364984e-03,  8.62119378e-03,  9.59886725e-04,\n",
      "        1.19331692e-03,  4.18427203e-03]), array([-0.00220468,  0.00161322, -0.00707921,  0.00305623, -0.00470989,\n",
      "        0.00453311,  0.00929531, -0.0013025 ,  0.00223305,  0.00355869]), array([ 0.00706123,  0.00221808,  0.00664492, -0.00287174, -0.00444543,\n",
      "        0.00773164,  0.0121751 , -0.00064643,  0.00333862,  0.00650848]), array([ 1.21234965e-02, -2.45193879e-04, -1.27471829e-01, -9.00366984e-03,\n",
      "       -6.75574131e-03, -6.92082967e-02,  8.14880487e-03,  3.31281948e-04,\n",
      "        3.98722677e-03,  1.25864789e-04]), array([ 7.25398361e-03, -1.67808432e-03,  2.63396145e-03, -3.32679189e-03,\n",
      "       -5.34620424e-05,  5.94824717e-03, -1.26600334e-03, -5.17889874e-04,\n",
      "        2.16162979e-03, -3.99715810e-03]), array([ 0.00578923,  0.00016151, -0.03362956, -0.01894103, -0.00244726,\n",
      "        0.01520293, -0.00531839,  0.00212663, -0.00454282, -0.00432984]), array([ 0.00469931,  0.00193276, -0.00526101, -0.00279076, -0.00254538,\n",
      "        0.00848793,  0.00352754,  0.00118927,  0.00143343,  0.00236682]), array([ 0.00671413, -0.00757475, -0.08425421, -0.08856267, -0.00453614,\n",
      "       -0.00627816, -0.01069982, -0.0029286 , -0.00418111, -0.01285743]), array([ 0.00474805,  0.00209496, -0.00498863, -0.00251034, -0.00234104,\n",
      "        0.00794891,  0.00282665,  0.00145414,  0.00172036,  0.00239231]), array([-0.00065084, -0.00061047, -0.05952976, -0.03242188, -0.00547261,\n",
      "        0.00358804, -0.00638496, -0.00431784, -0.01317279, -0.00744049]), array([ 0.00570335,  0.00166354, -0.03051093, -0.01711953, -0.00321541,\n",
      "        0.01963108,  0.00077374,  0.00220772, -0.00061175, -0.00334816]), array([ 0.00439513, -0.00228833, -0.01637438, -0.00106541, -0.60511585,\n",
      "       -0.0845739 ,  0.00533985,  0.00239645, -0.00230024, -0.00363575]), array([ 0.02591404, -0.00180297, -0.03584425, -0.0003989 , -0.00315479,\n",
      "       -0.06046145,  0.00661839, -0.00038279,  0.00344063, -0.00189313]), array([ 5.17801090e-03,  8.95153843e-04,  2.28939138e-03, -4.54288785e-03,\n",
      "        9.10230291e-05,  7.45487781e-03,  1.93898905e-03,  1.86895110e-04,\n",
      "        2.32080808e-03,  3.63885797e-04]), array([ 0.01187866, -0.00191915, -0.00437455, -0.00301923, -0.00422175,\n",
      "        0.02208472,  0.00553241,  0.00077888,  0.00092637, -0.00472362]), array([ 2.17096998e-02,  2.49554099e-03,  1.09914891e-02, -1.97553769e-02,\n",
      "        3.94291661e-04, -3.57247683e-02, -8.11308926e-04, -1.43787774e-01,\n",
      "        7.13736987e-05,  6.32986943e-04]), array([ 0.02658222,  0.00136729,  0.00965597, -0.01924759,  0.00116014,\n",
      "       -0.12462499, -0.00157629, -0.76719695, -0.01663781, -0.00899711]), array([ 0.01881786,  0.00184504,  0.0036115 , -0.0073648 , -0.00088488,\n",
      "        0.00948259,  0.00086345, -0.01717628,  0.00222487, -0.00342223]), array([-6.29056614e-05,  4.25927374e-04,  4.12246375e-03, -7.83605844e-03,\n",
      "       -1.76548153e-03, -9.57916201e-03,  2.35356076e-03, -3.19414044e-03,\n",
      "        2.70732451e-03,  5.22089847e-03]), array([ 0.02187904,  0.00194044,  0.0114222 , -0.01282966, -0.13002233,\n",
      "        0.00176451, -0.00869671, -0.76719695, -0.02021247, -0.01023977]), array([ 0.00183684, -0.00011713,  0.00107848, -0.00262074, -0.00182599,\n",
      "        0.0065616 ,  0.00243549,  0.00094221,  0.00115815,  0.0005801 ]), array([ 0.01138529, -0.00179773, -0.00673368, -0.00115614, -0.01112107,\n",
      "        0.01655012,  0.00504942,  0.00095087, -0.00045253, -0.00107745]), array([ 1.45019447e-02,  1.72674838e-03, -7.69571376e-03, -2.94352798e-02,\n",
      "       -6.05115851e-01, -7.91020409e-02,  7.78747386e-03, -2.76585302e-02,\n",
      "       -2.75399394e-04,  2.75379067e-03]), array([ 0.01393986, -0.00072897, -0.00066221, -0.00408952, -0.00536978,\n",
      "        0.0154815 ,  0.00239758,  0.00146033,  0.00052092, -0.00256264]), array([ 0.01724082, -0.00104333,  0.0019984 , -0.00477854, -0.00380968,\n",
      "        0.00797174,  0.00197379, -0.0102604 , -0.0001367 , -0.00853624]), array([ 1.05613542e-02, -1.29984017e-03, -3.68057744e-04, -1.36800604e-03,\n",
      "       -7.96691782e-03,  1.36671561e-02,  3.98396637e-03,  2.78704886e-04,\n",
      "       -4.84440106e-06, -1.66458004e-03]), array([ 0.00638039, -0.00222354, -0.00283437, -0.01669474, -0.00280632,\n",
      "        0.02726793,  0.00066178,  0.00093303,  0.00072034, -0.00498943]), array([-0.00297629, -0.00637446, -0.02359686, -0.04821569, -0.00514376,\n",
      "        0.01801495, -0.00904735, -0.00587593, -0.00376166, -0.00901376]), array([ 1.77830569e-02, -7.01339383e-03, -1.73348377e-03, -1.58823912e-01,\n",
      "       -1.80655916e-03,  1.09560063e-02,  2.47344829e-03,  2.80155763e-03,\n",
      "       -1.05894066e-04, -9.60196865e-03]), array([ 0.00343478, -0.0034626 , -0.01195236, -0.02406697, -0.00304265,\n",
      "        0.02596122,  0.00022048, -0.00013046, -0.00096093, -0.00629763]), array([ 0.01033599, -0.00296492, -0.01705768, -0.04456951, -0.00271302,\n",
      "        0.03283628,  0.0005903 ,  0.00132157, -0.0004285 , -0.00756148]), array([ 0.0101105 , -0.00214239, -0.00605217, -0.0230464 , -0.00287594,\n",
      "        0.02969265,  0.00089765,  0.00168861,  0.00048992, -0.00477178]), array([ 0.00931344, -0.00239681, -0.06235842, -0.10782135, -0.00675125,\n",
      "        0.02890943, -0.0040819 ,  0.00115271, -0.00398078, -0.01081576]), array([ 0.01334922, -0.01263977, -0.00094453, -0.00735342, -0.01252326,\n",
      "       -0.01149041, -0.00658679, -0.06628412, -0.00708207, -0.01466942])], 'f1_mean': [-0.0005081101922498332, -0.0005081101922498332, 0.0015987347302505173, -0.010453219716978879, 0.0017428977685419733, 0.0008993343683028066, 0.0037714475131898073, -0.018796805628982005, 0.0007158432461712438, -0.004592861095415013, 0.0013039901247370311, -0.02151587550929046, 0.001334534964006151, -0.012641358510303458, -0.0024826357381714237, -0.07032224276339372, -0.006796522451889664, 0.0016176147161660603, 0.00229427295320761, -0.016378384602668494, -0.08995151226588927, 0.0007997118851955642, -0.0007607573205068441, -0.09121917013295877, 0.001002901382509136, 0.0011597099931887067, -0.07225128570396488, 0.002038707222971503, 6.198698944004377e-05, 0.0015818935409254165, 0.0006415095389825654, -0.009599080128815052, -0.014507114289742828, -0.0020297123989932997, -0.0030210981798654, 0.00039906663532829345, -0.015883069692150698, -0.012622456291546569]}\n"
     ]
    }
   ],
   "source": [
    "# Sanity check of even number of paths\n",
    "local_path = os.path.join('models', '{}_edit_metrics.pth')\n",
    "assert len(trial_dirs) % 2 == 0\n",
    "n_trials = len(trial_dirs) // 2\n",
    "differences = {}\n",
    "for trial_idx in range(n_trials):\n",
    "    control_dir = trial_dirs[2 * trial_idx]\n",
    "    experimental_dir = trial_dirs[2 * trial_idx + 1]\n",
    "    assert experimental_dir == os.path.join(control_dir, 'identity')\n",
    "    control_pre = torch.load(os.path.join(control_dir, local_path.format('pre')))\n",
    "    control_post = torch.load(os.path.join(control_dir, local_path.format('post')))\n",
    "    \n",
    "    exp_pre = torch.load(os.path.join(experimental_dir, local_path.format('pre')))\n",
    "    exp_post = torch.load(os.path.join(experimental_dir, local_path.format('post')))\n",
    "    \n",
    "    keys = control_pre.keys()\n",
    "    # Assert pre edit metrics are the same\n",
    "    for key in keys:\n",
    "        try:\n",
    "            assert control_pre[key] == exp_pre[key]\n",
    "        except: \n",
    "            assert (control_pre[key] == exp_pre[key]).all()\n",
    "        if trial_idx == 0:\n",
    "            differences[key] = [exp_post[key] - exp_pre[key]]\n",
    "        else: \n",
    "            differences[key].append(exp_post[key] - exp_pre[key])\n",
    "\n",
    "print(differences)"
   ]
  },
  {
   "cell_type": "markdown",
   "metadata": {},
   "source": [
    "## Analyze KNN"
   ]
  },
  {
   "cell_type": "code",
   "execution_count": 23,
   "metadata": {},
   "outputs": [
    {
     "name": "stdout",
     "output_type": "stream",
     "text": [
      "Starting KNN analysis...\n"
     ]
    },
    {
     "name": "stderr",
     "output_type": "stream",
     "text": [
      "0it [00:00, ?it/s]"
     ]
    },
    {
     "name": "stdout",
     "output_type": "stream",
     "text": [
      "Processing 1/37 trials. Currently processing felzenszwalb_gaussian_0\n",
      "Analyzing KNN results from saved/edit/trials/CINIC10_ImageNet-VGG_16/0112_121958/dog-train-n02114712_211/felzenszwalb_gaussian_0/models\n",
      "Logging and saving visualizations to saved/edit/trials/CINIC10_ImageNet-VGG_16/0112_121958/dog-train-n02114712_211/felzenszwalb_gaussian_0/models/knn_visualizations/knn_analysis_log.txt\n",
      "Saving results to saved/edit/trials/CINIC10_ImageNet-VGG_16/0112_121958/dog-train-n02114712_211/felzenszwalb_gaussian_0/models/knn_analysis_results.pth\n"
     ]
    },
    {
     "name": "stderr",
     "output_type": "stream",
     "text": [
      "0it [00:00, ?it/s]\n"
     ]
    },
    {
     "ename": "FileNotFoundError",
     "evalue": "[Errno 2] No such file or directory: 'saved/edit/trials/CINIC10_ImageNet-VGG_16/0112_121958/dog-train-n02114712_211/felzenszwalb_gaussian_0/models/edited_model.pth'",
     "output_type": "error",
     "traceback": [
      "\u001b[0;31m---------------------------------------------------------------------------\u001b[0m",
      "\u001b[0;31mFileNotFoundError\u001b[0m                         Traceback (most recent call last)",
      "Cell \u001b[0;32mIn [23], line 13\u001b[0m\n\u001b[1;32m      9\u001b[0m informal_log(\u001b[38;5;124m\"\u001b[39m\u001b[38;5;124mProcessing \u001b[39m\u001b[38;5;132;01m{}\u001b[39;00m\u001b[38;5;124m/\u001b[39m\u001b[38;5;132;01m{}\u001b[39;00m\u001b[38;5;124m trials. Currently processing \u001b[39m\u001b[38;5;132;01m{}\u001b[39;00m\u001b[38;5;124m\"\u001b[39m\u001b[38;5;241m.\u001b[39mformat(\n\u001b[1;32m     10\u001b[0m     trial_idx\u001b[38;5;241m+\u001b[39m\u001b[38;5;241m1\u001b[39m, n_trials, os\u001b[38;5;241m.\u001b[39mpath\u001b[38;5;241m.\u001b[39mbasename(trial_dir)), progress_report_path)\n\u001b[1;32m     12\u001b[0m results_save_dir \u001b[38;5;241m=\u001b[39m os\u001b[38;5;241m.\u001b[39mpath\u001b[38;5;241m.\u001b[39mjoin(trial_dir, \u001b[38;5;124m'\u001b[39m\u001b[38;5;124mmodels\u001b[39m\u001b[38;5;124m'\u001b[39m)\n\u001b[0;32m---> 13\u001b[0m \u001b[43mload_and_analyze_knn\u001b[49m\u001b[43m(\u001b[49m\n\u001b[1;32m     14\u001b[0m \u001b[43m    \u001b[49m\u001b[43mrestore_dir\u001b[49m\u001b[38;5;241;43m=\u001b[39;49m\u001b[43mresults_save_dir\u001b[49m\u001b[43m,\u001b[49m\n\u001b[1;32m     15\u001b[0m \u001b[43m    \u001b[49m\u001b[43mpre_edit_knn_path\u001b[49m\u001b[38;5;241;43m=\u001b[39;49m\u001b[43mos\u001b[49m\u001b[38;5;241;43m.\u001b[39;49m\u001b[43mpath\u001b[49m\u001b[38;5;241;43m.\u001b[39;49m\u001b[43mjoin\u001b[49m\u001b[43m(\u001b[49m\u001b[43mresults_save_dir\u001b[49m\u001b[43m,\u001b[49m\u001b[43m \u001b[49m\u001b[38;5;124;43m'\u001b[39;49m\u001b[38;5;124;43mpre_edit_\u001b[39;49m\u001b[38;5;132;43;01m{}\u001b[39;49;00m\u001b[38;5;124;43m-nn.pth\u001b[39;49m\u001b[38;5;124;43m'\u001b[39;49m\u001b[38;5;241;43m.\u001b[39;49m\u001b[43mformat\u001b[49m\u001b[43m(\u001b[49m\u001b[43mK\u001b[49m\u001b[43m)\u001b[49m\u001b[43m)\u001b[49m\u001b[43m,\u001b[49m\n\u001b[1;32m     16\u001b[0m \u001b[43m    \u001b[49m\u001b[43mpost_edit_knn_path\u001b[49m\u001b[38;5;241;43m=\u001b[39;49m\u001b[43mos\u001b[49m\u001b[38;5;241;43m.\u001b[39;49m\u001b[43mpath\u001b[49m\u001b[38;5;241;43m.\u001b[39;49m\u001b[43mjoin\u001b[49m\u001b[43m(\u001b[49m\u001b[43mresults_save_dir\u001b[49m\u001b[43m,\u001b[49m\u001b[43m \u001b[49m\u001b[38;5;124;43m'\u001b[39;49m\u001b[38;5;124;43mpost_edit_\u001b[39;49m\u001b[38;5;132;43;01m{}\u001b[39;49;00m\u001b[38;5;124;43m-nn.pth\u001b[39;49m\u001b[38;5;124;43m'\u001b[39;49m\u001b[38;5;241;43m.\u001b[39;49m\u001b[43mformat\u001b[49m\u001b[43m(\u001b[49m\u001b[43mK\u001b[49m\u001b[43m)\u001b[49m\u001b[43m)\u001b[49m\u001b[43m,\u001b[49m\n\u001b[1;32m     17\u001b[0m \u001b[43m    \u001b[49m\u001b[43mknn_analysis_filename\u001b[49m\u001b[38;5;241;43m=\u001b[39;49m\u001b[43mknn_analysis_filename\u001b[49m\u001b[43m,\u001b[49m\n\u001b[1;32m     18\u001b[0m \u001b[43m    \u001b[49m\u001b[43mtarget_class_idx\u001b[49m\u001b[38;5;241;43m=\u001b[39;49m\u001b[43mtarget_class_idx\u001b[49m\u001b[43m,\u001b[49m\n\u001b[1;32m     19\u001b[0m \u001b[43m    \u001b[49m\u001b[43mclass_list\u001b[49m\u001b[38;5;241;43m=\u001b[39;49m\u001b[43mclass_list\u001b[49m\u001b[43m,\u001b[49m\n\u001b[1;32m     20\u001b[0m \u001b[43m    \u001b[49m\u001b[43mprogress_report_path\u001b[49m\u001b[38;5;241;43m=\u001b[39;49m\u001b[43mprogress_report_path\u001b[49m\u001b[43m,\u001b[49m\n\u001b[1;32m     21\u001b[0m \u001b[43m    \u001b[49m\u001b[43msave_images\u001b[49m\u001b[38;5;241;43m=\u001b[39;49m\u001b[38;5;28;43;01mFalse\u001b[39;49;00m\u001b[43m,\u001b[49m\n\u001b[1;32m     22\u001b[0m \u001b[43m    \u001b[49m\u001b[43msave_plots\u001b[49m\u001b[38;5;241;43m=\u001b[39;49m\u001b[38;5;28;43;01mTrue\u001b[39;49;00m\u001b[43m)\u001b[49m\n",
      "File \u001b[0;32m/n/fs/ac-editing/model-editing/src/utils/knn_utils.py:647\u001b[0m, in \u001b[0;36mload_and_analyze_knn\u001b[0;34m(restore_dir, pre_edit_knn_path, post_edit_knn_path, knn_analysis_filename, target_class_idx, class_list, progress_report_path, save_images, save_plots)\u001b[0m\n\u001b[1;32m    645\u001b[0m edited_model_path \u001b[38;5;241m=\u001b[39m os\u001b[38;5;241m.\u001b[39mpath\u001b[38;5;241m.\u001b[39mjoin(restore_dir, \u001b[38;5;124m\"\u001b[39m\u001b[38;5;124medited_model.pth\u001b[39m\u001b[38;5;124m\"\u001b[39m)\n\u001b[1;32m    646\u001b[0m edited_model \u001b[38;5;241m=\u001b[39m config\u001b[38;5;241m.\u001b[39minit_obj(\u001b[38;5;124m'\u001b[39m\u001b[38;5;124march\u001b[39m\u001b[38;5;124m'\u001b[39m, module_arch, layernum\u001b[38;5;241m=\u001b[39mlayernum)\n\u001b[0;32m--> 647\u001b[0m \u001b[43medited_model\u001b[49m\u001b[38;5;241;43m.\u001b[39;49m\u001b[43mrestore_model\u001b[49m\u001b[43m(\u001b[49m\u001b[43medited_model_path\u001b[49m\u001b[43m)\u001b[49m\n\u001b[1;32m    648\u001b[0m \u001b[38;5;66;03m# edited_context_model = edited_model.context_model\u001b[39;00m\n\u001b[1;32m    649\u001b[0m edited_model\u001b[38;5;241m.\u001b[39meval()\n",
      "File \u001b[0;32m/n/fs/ac-editing/model-editing/src/base/base_model.py:62\u001b[0m, in \u001b[0;36mBaseModel.restore_model\u001b[0;34m(self, restore_path, optimizer)\u001b[0m\n\u001b[1;32m     47\u001b[0m \u001b[38;5;28;01mdef\u001b[39;00m \u001b[38;5;21mrestore_model\u001b[39m(\u001b[38;5;28mself\u001b[39m, restore_path, optimizer\u001b[38;5;241m=\u001b[39m\u001b[38;5;28;01mNone\u001b[39;00m):\n\u001b[1;32m     48\u001b[0m     \u001b[38;5;124;03m\"\"\"\u001b[39;00m\n\u001b[1;32m     49\u001b[0m \u001b[38;5;124;03m    Restore model from the given restore_path\u001b[39;00m\n\u001b[1;32m     50\u001b[0m \n\u001b[0;32m   (...)\u001b[0m\n\u001b[1;32m     59\u001b[0m \u001b[38;5;124;03m            epoch and loaded optimizer\u001b[39;00m\n\u001b[1;32m     60\u001b[0m \u001b[38;5;124;03m    \"\"\"\u001b[39;00m\n\u001b[0;32m---> 62\u001b[0m     state \u001b[38;5;241m=\u001b[39m \u001b[43mtorch\u001b[49m\u001b[38;5;241;43m.\u001b[39;49m\u001b[43mload\u001b[49m\u001b[43m(\u001b[49m\u001b[43mrestore_path\u001b[49m\u001b[43m)\u001b[49m\n\u001b[1;32m     63\u001b[0m     \u001b[38;5;28;01mif\u001b[39;00m \u001b[38;5;124m'\u001b[39m\u001b[38;5;124march\u001b[39m\u001b[38;5;124m'\u001b[39m \u001b[38;5;129;01min\u001b[39;00m state\u001b[38;5;241m.\u001b[39mkeys():\n\u001b[1;32m     64\u001b[0m         \u001b[38;5;28;01massert\u001b[39;00m state[\u001b[38;5;124m'\u001b[39m\u001b[38;5;124march\u001b[39m\u001b[38;5;124m'\u001b[39m] \u001b[38;5;241m==\u001b[39m \u001b[38;5;28mtype\u001b[39m(\u001b[38;5;28mself\u001b[39m\u001b[38;5;241m.\u001b[39mmodel)\u001b[38;5;241m.\u001b[39m\u001b[38;5;18m__name__\u001b[39m\n",
      "File \u001b[0;32m/n/fs/ac-project/anaconda3/envs/editing/lib/python3.8/site-packages/torch/serialization.py:771\u001b[0m, in \u001b[0;36mload\u001b[0;34m(f, map_location, pickle_module, weights_only, **pickle_load_args)\u001b[0m\n\u001b[1;32m    768\u001b[0m \u001b[38;5;28;01mif\u001b[39;00m \u001b[38;5;124m'\u001b[39m\u001b[38;5;124mencoding\u001b[39m\u001b[38;5;124m'\u001b[39m \u001b[38;5;129;01mnot\u001b[39;00m \u001b[38;5;129;01min\u001b[39;00m pickle_load_args\u001b[38;5;241m.\u001b[39mkeys():\n\u001b[1;32m    769\u001b[0m     pickle_load_args[\u001b[38;5;124m'\u001b[39m\u001b[38;5;124mencoding\u001b[39m\u001b[38;5;124m'\u001b[39m] \u001b[38;5;241m=\u001b[39m \u001b[38;5;124m'\u001b[39m\u001b[38;5;124mutf-8\u001b[39m\u001b[38;5;124m'\u001b[39m\n\u001b[0;32m--> 771\u001b[0m \u001b[38;5;28;01mwith\u001b[39;00m \u001b[43m_open_file_like\u001b[49m\u001b[43m(\u001b[49m\u001b[43mf\u001b[49m\u001b[43m,\u001b[49m\u001b[43m \u001b[49m\u001b[38;5;124;43m'\u001b[39;49m\u001b[38;5;124;43mrb\u001b[39;49m\u001b[38;5;124;43m'\u001b[39;49m\u001b[43m)\u001b[49m \u001b[38;5;28;01mas\u001b[39;00m opened_file:\n\u001b[1;32m    772\u001b[0m     \u001b[38;5;28;01mif\u001b[39;00m _is_zipfile(opened_file):\n\u001b[1;32m    773\u001b[0m         \u001b[38;5;66;03m# The zipfile reader is going to advance the current file position.\u001b[39;00m\n\u001b[1;32m    774\u001b[0m         \u001b[38;5;66;03m# If we want to actually tail call to torch.jit.load, we need to\u001b[39;00m\n\u001b[1;32m    775\u001b[0m         \u001b[38;5;66;03m# reset back to the original position.\u001b[39;00m\n\u001b[1;32m    776\u001b[0m         orig_position \u001b[38;5;241m=\u001b[39m opened_file\u001b[38;5;241m.\u001b[39mtell()\n",
      "File \u001b[0;32m/n/fs/ac-project/anaconda3/envs/editing/lib/python3.8/site-packages/torch/serialization.py:270\u001b[0m, in \u001b[0;36m_open_file_like\u001b[0;34m(name_or_buffer, mode)\u001b[0m\n\u001b[1;32m    268\u001b[0m \u001b[38;5;28;01mdef\u001b[39;00m \u001b[38;5;21m_open_file_like\u001b[39m(name_or_buffer, mode):\n\u001b[1;32m    269\u001b[0m     \u001b[38;5;28;01mif\u001b[39;00m _is_path(name_or_buffer):\n\u001b[0;32m--> 270\u001b[0m         \u001b[38;5;28;01mreturn\u001b[39;00m \u001b[43m_open_file\u001b[49m\u001b[43m(\u001b[49m\u001b[43mname_or_buffer\u001b[49m\u001b[43m,\u001b[49m\u001b[43m \u001b[49m\u001b[43mmode\u001b[49m\u001b[43m)\u001b[49m\n\u001b[1;32m    271\u001b[0m     \u001b[38;5;28;01melse\u001b[39;00m:\n\u001b[1;32m    272\u001b[0m         \u001b[38;5;28;01mif\u001b[39;00m \u001b[38;5;124m'\u001b[39m\u001b[38;5;124mw\u001b[39m\u001b[38;5;124m'\u001b[39m \u001b[38;5;129;01min\u001b[39;00m mode:\n",
      "File \u001b[0;32m/n/fs/ac-project/anaconda3/envs/editing/lib/python3.8/site-packages/torch/serialization.py:251\u001b[0m, in \u001b[0;36m_open_file.__init__\u001b[0;34m(self, name, mode)\u001b[0m\n\u001b[1;32m    250\u001b[0m \u001b[38;5;28;01mdef\u001b[39;00m \u001b[38;5;21m__init__\u001b[39m(\u001b[38;5;28mself\u001b[39m, name, mode):\n\u001b[0;32m--> 251\u001b[0m     \u001b[38;5;28msuper\u001b[39m(_open_file, \u001b[38;5;28mself\u001b[39m)\u001b[38;5;241m.\u001b[39m\u001b[38;5;21m__init__\u001b[39m(\u001b[38;5;28;43mopen\u001b[39;49m\u001b[43m(\u001b[49m\u001b[43mname\u001b[49m\u001b[43m,\u001b[49m\u001b[43m \u001b[49m\u001b[43mmode\u001b[49m\u001b[43m)\u001b[49m)\n",
      "\u001b[0;31mFileNotFoundError\u001b[0m: [Errno 2] No such file or directory: 'saved/edit/trials/CINIC10_ImageNet-VGG_16/0112_121958/dog-train-n02114712_211/felzenszwalb_gaussian_0/models/edited_model.pth'"
     ]
    }
   ],
   "source": [
    "## Process KNN results for each\n",
    "n_trials = len(trial_dirs)\n",
    "n_log = n_trials // 10 + 1  # log every 10%\n",
    "progress_report_path = os.path.join(os.path.dirname(save_trials_path), 'progress_report_analysis.txt')\n",
    "\n",
    "informal_log(\"Starting KNN analysis...\", progress_report_path)\n",
    "for trial_idx, trial_dir in tqdm(enumerate(trial_dirs)):\n",
    "    # if trial_idx % n_log == 0:\n",
    "    informal_log(\"Processing {}/{} trials. Currently processing {}\".format(\n",
    "        trial_idx+1, n_trials, os.path.basename(trial_dir)), progress_report_path)\n",
    "                     \n",
    "    results_save_dir = os.path.join(trial_dir, 'models')\n",
    "    load_and_analyze_knn(\n",
    "        restore_dir=results_save_dir,\n",
    "        pre_edit_knn_path=os.path.join(results_save_dir, 'pre_edit_{}-nn.pth'.format(K)),\n",
    "        post_edit_knn_path=os.path.join(results_save_dir, 'post_edit_{}-nn.pth'.format(K)),\n",
    "        knn_analysis_filename=knn_analysis_filename,\n",
    "        target_class_idx=target_class_idx,\n",
    "        class_list=class_list,\n",
    "        progress_report_path=progress_report_path,\n",
    "        save_images=False,\n",
    "        save_plots=True)\n",
    "    \n"
   ]
  },
  {
   "cell_type": "markdown",
   "metadata": {},
   "source": [
    "## Convert to CSV for all trials"
   ]
  },
  {
   "cell_type": "code",
   "execution_count": 45,
   "metadata": {},
   "outputs": [
    {
     "name": "stderr",
     "output_type": "stream",
     "text": [
      "2008it [00:16, 120.03it/s]\n"
     ]
    }
   ],
   "source": [
    "data = []\n",
    "# Iterate through all trials\n",
    "for trial_idx, trial_dir in tqdm(enumerate(trial_dirs)):\n",
    "    # Obtain key ID from path\n",
    "    key_id = os.path.basename(os.path.dirname(trial_dir))\n",
    "    id_class = key_id.split('-')[0]\n",
    "    if id_class not in class_list:\n",
    "        raise ValueError(\"Invalid key_id {}\".format(key_id))\n",
    "    # Obtain value ID from path\n",
    "    val_id = os.path.basename(trial_dir)\n",
    "    # Join to make a data ID\n",
    "    data_id = os.path.join(key_id, val_id)\n",
    "    \n",
    "    # Load results from knn, pre-edit metrics, and post-edit metrics\n",
    "    restore_dir = os.path.join(trial_dir, 'models')\n",
    "    knn_analysis_results = torch.load(os.path.join(restore_dir, knn_analysis_filename))\n",
    "    pre_edit_metrics = torch.load(os.path.join(restore_dir, 'pre_edit_metrics.pth'))\n",
    "    post_edit_metrics = torch.load(os.path.join(restore_dir, 'post_edit_metrics.pth'))\n",
    "    \n",
    "    # Combine results into one dictionary\n",
    "    combined_results = combine_results(\n",
    "        data_id=data_id,\n",
    "        knn_analysis=knn_analysis_results,\n",
    "        pre_edit_metrics=pre_edit_metrics,\n",
    "        post_edit_metrics=post_edit_metrics)\n",
    "    \n",
    "    # Save column headers in first trial run\n",
    "    if trial_idx == 0:\n",
    "        column_headers = list(combined_results.keys())\n",
    "    # Convert results to np.array & append to list\n",
    "    combined_results = np.expand_dims(np.array(list(combined_results.values())), axis=0)\n",
    "    data.append(combined_results)\n",
    "\n",
    "# Convert data from list of np.arrays -> pd.DataFrame    \n",
    "data = np.concatenate(data, axis=0)\n",
    "df = pd.DataFrame(data, columns=column_headers)\n"
   ]
  },
  {
   "cell_type": "code",
   "execution_count": 46,
   "metadata": {},
   "outputs": [
    {
     "name": "stdout",
     "output_type": "stream",
     "text": [
      "Saved CSV to saved/edit/trials/CINIC10_ImageNet-VGG_16/0113_160154/results_table.csv\n"
     ]
    }
   ],
   "source": [
    "# Save to CSV\n",
    "csv_save_path = os.path.join(os.path.dirname(save_trials_path), 'results_table.csv')\n",
    "df.to_csv(csv_save_path)\n",
    "print(\"Saved CSV to {}\".format(csv_save_path))"
   ]
  },
  {
   "cell_type": "code",
   "execution_count": null,
   "metadata": {},
   "outputs": [],
   "source": []
  }
 ],
 "metadata": {
  "kernelspec": {
   "display_name": "editing",
   "language": "python",
   "name": "editing"
  },
  "language_info": {
   "codemirror_mode": {
    "name": "ipython",
    "version": 3
   },
   "file_extension": ".py",
   "mimetype": "text/x-python",
   "name": "python",
   "nbconvert_exporter": "python",
   "pygments_lexer": "ipython3",
   "version": "3.8.13"
  }
 },
 "nbformat": 4,
 "nbformat_minor": 4
}
