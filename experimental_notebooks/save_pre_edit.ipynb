{
 "cells": [
  {
   "cell_type": "markdown",
   "metadata": {},
   "source": [
    "## Save pre-edit metrics in metadata folder"
   ]
  },
  {
   "cell_type": "code",
   "execution_count": null,
   "metadata": {},
   "outputs": [],
   "source": [
    "# General imports\n",
    "import torch\n",
    "import numpy as np\n",
    "import os, sys\n",
    "import json\n",
    "from tqdm import tqdm"
   ]
  },
  {
   "cell_type": "code",
   "execution_count": null,
   "metadata": {},
   "outputs": [],
   "source": [
    "# Local imports\n",
    "sys.path.insert(0, 'src')\n",
    "from utils import read_json, read_lists, list_to_dict, ensure_dir\n",
    "from utils.model_utils import prepare_device, quick_predict\n",
    "from parse_config import ConfigParser\n",
    "from data_loader import data_loaders\n",
    "from test import predict_with_bump\n",
    "import model.model as module_arch\n",
    "import datasets.datasets as module_data\n",
    "import model.metric as module_metric\n",
    "import model.loss as module_loss"
   ]
  },
  {
   "cell_type": "code",
   "execution_count": null,
   "metadata": {},
   "outputs": [],
   "source": [
    "# Define constants, paths\n",
    "class_list_path = os.path.join('metadata', 'cinic-10', 'class_names.txt')\n",
    "\n",
    "config_path = 'configs/copies/cinic10_imagenet_val_pre_edit.json'\n",
    "run_id = 'pre_edit_validation_set'"
   ]
  },
  {
   "cell_type": "code",
   "execution_count": null,
   "metadata": {
    "scrolled": true,
    "tags": []
   },
   "outputs": [],
   "source": [
    "# Load config file, models, and dataloader\n",
    "class_list = read_lists(class_list_path)\n",
    "class_idx_dict = list_to_dict(class_list)\n",
    "\n",
    "config_dict = read_json(config_path)\n",
    "config = ConfigParser(config_dict, run_id=run_id)\n",
    "print(config.save_dir)\n",
    "device, device_ids = prepare_device(config_dict['n_gpu'])\n",
    "\n",
    "# Load datasets\n",
    "data_loader_args = dict(config.config[\"data_loader\"][\"args\"])\n",
    "dataset_args = dict(config[\"dataset_args\"])\n",
    "\n",
    "val_image_paths = read_lists(config_dict['dataset_paths']['valid_images'])\n",
    "val_labels = read_lists(config_dict['dataset_paths']['valid_labels'])\n",
    "val_paths_data_loader = torch.utils.data.DataLoader(\n",
    "    module_data.CINIC10Dataset(\n",
    "        data_dir=\"\",\n",
    "        image_paths=val_image_paths,\n",
    "        labels=val_labels,\n",
    "        return_paths=True,\n",
    "        **dataset_args\n",
    "    ),\n",
    "    **data_loader_args\n",
    ")\n",
    "\n",
    "# Obtain loss function and metric functions\n",
    "loss_fn = getattr(module_loss, config['loss'])\n",
    "metric_fns = [getattr(module_metric, met) for met in config['metrics']]\n",
    "\n",
    "# Load model\n",
    "layernum = config.config['layernum']\n",
    "model = config.init_obj('arch', module_arch, layernum=layernum, device=device)\n",
    "model.eval()"
   ]
  },
  {
   "cell_type": "code",
   "execution_count": null,
   "metadata": {},
   "outputs": [],
   "source": [
    "save_dir = os.path.dirname(config.save_dir)\n",
    "logit_save_path = os.path.join(save_dir, \"pre_edit_logits.pth\")\n",
    "metric_save_path = os.path.join(save_dir, \"pre_edit_metrics.pth\")\n",
    "predict_with_bump(\n",
    "    data_loader=val_paths_data_loader,\n",
    "    model=model,\n",
    "    target_class_idx=0,\n",
    "    bump_amount=0,\n",
    "    loss_fn=loss_fn,\n",
    "    metric_fns=metric_fns,\n",
    "    device=device,\n",
    "    output_save_path=logit_save_path,\n",
    "    log_save_path=metric_save_path)"
   ]
  }
 ],
 "metadata": {
  "kernelspec": {
   "display_name": "editing",
   "language": "python",
   "name": "editing"
  },
  "language_info": {
   "codemirror_mode": {
    "name": "ipython",
    "version": 3
   },
   "file_extension": ".py",
   "mimetype": "text/x-python",
   "name": "python",
   "nbconvert_exporter": "python",
   "pygments_lexer": "ipython3",
   "version": "3.8.13"
  }
 },
 "nbformat": 4,
 "nbformat_minor": 4
}
