{
 "cells": [
  {
   "cell_type": "markdown",
   "metadata": {},
   "source": [
    "## Plot n chosen segment vs edit quality metric"
   ]
  },
  {
   "cell_type": "code",
   "execution_count": 1,
   "metadata": {},
   "outputs": [],
   "source": [
    "# General imports\n",
    "import torch\n",
    "import numpy as np\n",
    "import os, sys\n",
    "import json\n",
    "from tqdm import tqdm"
   ]
  },
  {
   "cell_type": "code",
   "execution_count": 2,
   "metadata": {},
   "outputs": [],
   "source": [
    "# Local imports\n",
    "sys.path.insert(0, 'src')\n",
    "from utils import read_json, read_lists, list_to_dict, ensure_dir\n",
    "from utils.model_utils import prepare_device, quick_predict\n",
    "from utils.df_utils import load_and_preprocess_csv\n",
    "from utils.visualizations import histogram, bar_graph\n",
    "from parse_config import ConfigParser\n",
    "from data_loader import data_loaders\n",
    "import model.model as module_arch"
   ]
  },
  {
   "cell_type": "code",
   "execution_count": 3,
   "metadata": {},
   "outputs": [],
   "source": [
    "# Define constants, paths\n",
    "class_list_path = os.path.join('metadata', 'cinic-10', 'class_names.txt')\n",
    "\n",
    "config_path = 'configs/copies/cinic10_imagenet_segmentation_edit_trials.json'\n",
    "\n",
    "class_name = 'airplane'\n",
    "n_select = 100\n",
    "timestamp = '0127_103716'\n",
    "paths_timestamp = '0126_161209'\n"
   ]
  },
  {
   "cell_type": "code",
   "execution_count": 4,
   "metadata": {},
   "outputs": [],
   "source": [
    "# Load config file, models, and dataloader\n",
    "class_list = read_lists(class_list_path)\n",
    "class_idx_dict = list_to_dict(class_list)\n",
    "\n",
    "config_json = read_json(config_path)\n",
    "K = config_json['editor']['K']\n",
    "\n",
    "device, device_ids = prepare_device(config_json['n_gpu'])\n",
    "\n",
    "root_dir = os.path.join('saved', 'edit', 'trials', 'CINIC10_ImageNet-VGG_16', '{}_{}', timestamp)\n",
    "root_dir = root_dir.format(class_name, n_select)\n",
    "save_paths_dir = os.path.join('paths', 'edits', 'semantics', '{}_{}'.format(class_name, n_select), paths_timestamp)\n",
    "\n",
    "graph_save_dir = os.path.join(root_dir, 'graphs')\n",
    "\n",
    "trial_paths_path = os.path.join(root_dir, 'trial_paths.txt')\n",
    "csv_path = os.path.join(root_dir, 'results_table.csv')\n",
    "val_paths_path = os.path.join(save_paths_dir, 'value_images_softmax.txt')\n",
    "\n",
    "show = False\n"
   ]
  },
  {
   "cell_type": "code",
   "execution_count": 5,
   "metadata": {},
   "outputs": [
    {
     "name": "stdout",
     "output_type": "stream",
     "text": [
      "Restoring trial_paths from saved/edit/trials/CINIC10_ImageNet-VGG_16/airplane_100/0127_103716/trial_paths.txt\n",
      "Restoring results csv from saved/edit/trials/CINIC10_ImageNet-VGG_16/airplane_100/0127_103716/results_table.csv\n",
      "Restoring segmentatation paths from paths/edits/semantics/airplane_100/0126_161209/value_images_softmax.txt\n"
     ]
    }
   ],
   "source": [
    "# Load objects\n",
    "df = load_and_preprocess_csv(\n",
    "    csv_path=csv_path,\n",
    "    drop_duplicates=['ID'])\n",
    "\n",
    "trial_paths = read_lists(trial_paths_path)\n",
    "val_paths = read_lists(val_paths_path)\n",
    "\n",
    "print(\"Restoring trial_paths from {}\".format(trial_paths_path))\n",
    "print(\"Restoring results csv from {}\".format(csv_path))\n",
    "print(\"Restoring segmentatation paths from {}\".format(val_paths_path))"
   ]
  },
  {
   "cell_type": "code",
   "execution_count": 6,
   "metadata": {},
   "outputs": [],
   "source": [
    "def match_idx(element, test_elements):\n",
    "    n_repeat = test_elements.shape[0]\n",
    "    chosen_idx = -1\n",
    "    \n",
    "    for n in range(n_repeat):\n",
    "        if np.array_equal(element, test_elements[n]):\n",
    "            chosen_idx = n\n",
    "            break\n",
    "    return chosen_idx\n",
    "    \n",
    "def get_segment_number(segmentation_paths):\n",
    "    '''\n",
    "    Given list of paths to saved segmentation dictionaries (output of segment_semantically.ipynb),\n",
    "    Return list of numbers showing segment number chosen\n",
    "    \n",
    "    Arg(s):\n",
    "        segmentation_paths : list[str]\n",
    "            list of paths to segmentation objects\n",
    "    \n",
    "    Returns:\n",
    "        chosen_idxs : list[int]\n",
    "            list of indices of chosen segments\n",
    "    '''\n",
    "    chosen_idxs = []\n",
    "    \n",
    "    for segmentation_path in tqdm(segmentation_paths):\n",
    "        # Load segmentation dictionary -> selected image and all cumulative images\n",
    "        segmentation_dict = torch.load(segmentation_path)\n",
    "        chosen_image = segmentation_dict['softmax_most_change_image']\n",
    "        cumulative_images = segmentation_dict['softmax_cum_modifications']\n",
    "        if torch.is_tensor(cumulative_images):\n",
    "            cumulative_images = cumulative_images.cpu().numpy()\n",
    "            \n",
    "        # Find index that selected image matches cumulative images\n",
    "        chosen_idxs.append(match_idx(chosen_image, cumulative_images))\n",
    "\n",
    "    return chosen_idxs\n"
   ]
  },
  {
   "cell_type": "code",
   "execution_count": 7,
   "metadata": {},
   "outputs": [
    {
     "name": "stderr",
     "output_type": "stream",
     "text": [
      "100%|█████████████████████████████████████████████████████████████████████| 158/158 [00:02<00:00, 78.14it/s]\n"
     ]
    }
   ],
   "source": [
    "segmentation_paths = [os.path.join(os.path.dirname(val_path), 'cumulative_segment_results.pth') for val_path in val_paths]\n",
    "\n",
    "segment_idxs = get_segment_number(segmentation_paths)\n",
    "    \n"
   ]
  },
  {
   "cell_type": "code",
   "execution_count": 8,
   "metadata": {},
   "outputs": [
    {
     "data": {
      "image/png": "[encoded data removed]",
      "text/plain": [
       "<Figure size 640x480 with 1 Axes>"
      ]
     },
     "metadata": {},
     "output_type": "display_data"
    },
    {
     "name": "stderr",
     "output_type": "stream",
     "text": [
      "No artists with labels found to put in legend.  Note that artists whose label start with an underscore are ignored when legend() is called with no argument.\n"
     ]
    },
    {
     "name": "stdout",
     "output_type": "stream",
     "text": [
      "[[ 0 61 44 20 27  5  1]]\n"
     ]
    },
    {
     "data": {
      "text/plain": [
       "<Figure size 640x480 with 0 Axes>"
      ]
     },
     "metadata": {},
     "output_type": "display_data"
    }
   ],
   "source": [
    "histogram(\n",
    "    data=segment_idxs,\n",
    "    title='Distribution of Number Segments Modified for Value Image in {} Class'.format(class_name),\n",
    "    xlabel='Number of Segments Modified',\n",
    "    ylabel='Count of Edits')\n",
    "\n",
    "bins = np.expand_dims(np.bincount(segment_idxs), axis=0)\n",
    "# bins = np.stack([np.bincount(segment_idxs), np.bincount(segment_idxs)], axis=0)\n",
    "bin_labels = [i for i in range(bins.shape[-1])]\n",
    "bar_graph_save_path = os.path.join(graph_save_dir, 'summary', 'n_segment_bar_graph.png')\n",
    "bar_graph(\n",
    "    data=bins,\n",
    "    xlabel='Number of Segments Modified',\n",
    "    ylabel='Counts of Edits',\n",
    "    title='Distribution of Number Segments Modified for Value Image in {} Class'.format(class_name),\n",
    "    labels=bin_labels,\n",
    "    xlabel_rotation=0,\n",
    "    save_path=bar_graph_save_path,\n",
    "    show=False)\n",
    "    "
   ]
  },
  {
   "cell_type": "code",
   "execution_count": null,
   "metadata": {},
   "outputs": [],
   "source": []
  },
  {
   "cell_type": "code",
   "execution_count": null,
   "metadata": {},
   "outputs": [],
   "source": []
  }
 ],
 "metadata": {
  "kernelspec": {
   "display_name": "editing",
   "language": "python",
   "name": "editing"
  },
  "language_info": {
   "codemirror_mode": {
    "name": "ipython",
    "version": 3
   },
   "file_extension": ".py",
   "mimetype": "text/x-python",
   "name": "python",
   "nbconvert_exporter": "python",
   "pygments_lexer": "ipython3",
   "version": "3.8.13"
  }
 },
 "nbformat": 4,
 "nbformat_minor": 4
}
