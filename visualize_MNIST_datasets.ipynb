{
 "cells": [
  {
   "cell_type": "markdown",
   "id": "7207c5dd-a90b-475e-a7d2-a0dfa5be31ea",
   "metadata": {},
   "source": [
    "### Analyze the data from `setup/setup_datasets.py`"
   ]
  },
  {
   "cell_type": "code",
   "execution_count": null,
   "id": "958ed250-9592-41f9-80e9-c501651ad0ab",
   "metadata": {},
   "outputs": [],
   "source": [
    "import os, sys\n",
    "import torch\n",
    "import numpy as np\n",
    "from PIL import Image\n",
    "\n",
    "sys.path.insert(0, 'src')\n",
    "from utils.visualizations import show_image_rows, make_grid"
   ]
  },
  {
   "cell_type": "code",
   "execution_count": null,
   "id": "ee19fbad-19f8-4260-872d-1819e723cdfd",
   "metadata": {},
   "outputs": [],
   "source": [
    "data_root_dir = 'data'"
   ]
  },
  {
   "cell_type": "markdown",
   "id": "57bea80e-5eab-4cc2-b3ae-02d44edcdb06",
   "metadata": {},
   "source": [
    "#### `datasets/2_Spurious_MNIST`\n",
    "\n",
    "Training should be 0-4 are red and 5-9 are green but test should be randomly split"
   ]
  },
  {
   "cell_type": "code",
   "execution_count": null,
   "id": "063789df-b3c1-4319-932d-840778efdad4",
   "metadata": {},
   "outputs": [],
   "source": [
    "dataset_type = '2_Spurious_MNIST'\n",
    "train_path = os.path.join(data_root_dir, dataset_type, 'training.pt')\n",
    "train_data = torch.load(train_path)\n",
    "\n",
    "test_path = os.path.join(data_root_dir, dataset_type, 'test.pt')\n",
    "test_data = torch.load(test_path)"
   ]
  },
  {
   "cell_type": "code",
   "execution_count": null,
   "id": "7a2ac710-f645-40c0-adba-18850b0cfce2",
   "metadata": {},
   "outputs": [],
   "source": [
    "# train_imgs = train_data['images']\n",
    "# train_labels = train_data['labels']\n",
    "\n",
    "# test_imgs = test_data['images']\n",
    "# test_labels = test_data['labels']\n",
    "\n",
    "n_show = 20\n",
    "for idx, data in enumerate([train_data, test_data]):\n",
    "    imgs = data['images']\n",
    "    labels = data['labels']\n",
    "    print(imgs[0].shape)\n",
    "    print(np.amax(imgs[0]))\n",
    "    show_imgs = imgs[:n_show]\n",
    "    show_labels = labels[:n_show]\n",
    "    show_imgs = make_grid(show_imgs, items_per_row=5)\n",
    "    show_labels = make_grid(show_labels, items_per_row=5)\n",
    "    show_image_rows(\n",
    "        images=show_imgs,\n",
    "        image_titles=show_labels,\n",
    "        image_size=(1.5, 1.5),\n",
    "        figure_title='{} {}'.format(dataset_type, 'Train' if idx == 0 else 'Test'))\n"
   ]
  },
  {
   "cell_type": "code",
   "execution_count": null,
   "id": "c959522f-e3dc-45e4-a3a9-2ec01aea2037",
   "metadata": {},
   "outputs": [],
   "source": []
  }
 ],
 "metadata": {
  "kernelspec": {
   "display_name": "editing",
   "language": "python",
   "name": "editing"
  },
  "language_info": {
   "codemirror_mode": {
    "name": "ipython",
    "version": 3
   },
   "file_extension": ".py",
   "mimetype": "text/x-python",
   "name": "python",
   "nbconvert_exporter": "python",
   "pygments_lexer": "ipython3",
   "version": "3.8.13"
  }
 },
 "nbformat": 4,
 "nbformat_minor": 5
}
