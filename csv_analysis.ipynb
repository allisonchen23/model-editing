{
 "cells": [
  {
   "cell_type": "markdown",
   "metadata": {},
   "source": [
    "## Notebook Template to Quickly Test Things Out"
   ]
  },
  {
   "cell_type": "code",
   "execution_count": 1,
   "metadata": {},
   "outputs": [],
   "source": [
    "# General imports\n",
    "# import torch\n",
    "import numpy as np\n",
    "import os, sys\n",
    "import json\n",
    "from tqdm import tqdm\n",
    "import pandas as pd"
   ]
  },
  {
   "cell_type": "code",
   "execution_count": 3,
   "metadata": {},
   "outputs": [],
   "source": [
    "# Local imports\n",
    "sys.path.insert(0, 'src')\n",
    "from utils import read_json, read_lists\n",
    "# from utils.model_utils import prepare_device\n",
    "# # from parse_config import ConfigParser\n",
    "# from data_loader import data_loaders\n",
    "# import model.model as module_arch"
   ]
  },
  {
   "cell_type": "code",
   "execution_count": 164,
   "metadata": {},
   "outputs": [],
   "source": [
    "# Define constants, paths\n",
    "config_path = 'configs/'\n",
    "# timestamp = '0112_121958' # 37 dogs\n",
    "timestamp = '0112_163516' # 128 cats\n",
    "csv_path = os.path.join('saved', 'edit', 'trials', 'CINIC10_ImageNet-VGG_16', timestamp, 'results_table.csv')\n"
   ]
  },
  {
   "cell_type": "code",
   "execution_count": 165,
   "metadata": {},
   "outputs": [
    {
     "name": "stdout",
     "output_type": "stream",
     "text": [
      "CSV loaded from saved/edit/trials/CINIC10_ImageNet-VGG_16/0112_163516/results_table.csv\n",
      "128 rows\n"
     ]
    }
   ],
   "source": [
    "# Load CSV as pandas dataframe\n",
    "df = pd.read_csv(csv_path)\n",
    "n_total = len(df)\n",
    "print(\"CSV loaded from {}\".format(csv_path))\n",
    "print(\"{} rows\".format(n_total))"
   ]
  },
  {
   "cell_type": "code",
   "execution_count": 166,
   "metadata": {
    "scrolled": true,
    "tags": []
   },
   "outputs": [],
   "source": [
    "# Round all numbers to 3 decimal places\n",
    "df.round(3)\n",
    "mean_df = df.mean()\n",
    "std_df = df.std()"
   ]
  },
  {
   "cell_type": "code",
   "execution_count": 194,
   "metadata": {},
   "outputs": [],
   "source": [
    "def print_summary(df_, metrics=None):\n",
    "    if metrics == None:\n",
    "        metrics = [['{} Accuracy', '{} Mean Precision', '{} Mean Recall', '{} Mean F1'], \n",
    "               ['{} Target Precision', '{} Target Recall', '{} Target F1'],\n",
    "               ['{} Orig Pred Precision', '{} Orig Pred Recall', '{} Orig Pred F1']]\n",
    "    assert type(metrics) == list and type(metrics[0]) == list, \"Metrics must be a 2-D list\"\n",
    "    \n",
    "    mean_df = df_.mean()\n",
    "    std_df = df_.std()\n",
    "    print(\"{:<30} {:<15} {:<20}\".format(\"Metric\", \"Pre-Edit\", \"Post-Edit\"))\n",
    "    for row in metrics:\n",
    "        for metric in row:\n",
    "            print(\"{:<30} {:<15.3f} {:.3f}({:.3f})\".format(\n",
    "                metric, mean_df[metric.format(\"Pre\")],\n",
    "                mean_df[metric.format(\"Post\")], std_df[metric.format(\"Post\")]))\n",
    "        print(\"\")"
   ]
  },
  {
   "cell_type": "code",
   "execution_count": 167,
   "metadata": {},
   "outputs": [
    {
     "name": "stdout",
     "output_type": "stream",
     "text": [
      "Metric                         Pre-Edit        Post-Edit           \n",
      "{} Accuracy                    0.687           0.642(0.046)\n",
      "{} Mean Precision              0.692           0.665(0.050)\n",
      "{} Mean Recall                 0.687           0.642(0.046)\n",
      "{} Mean F1                     0.684           0.631(0.055)\n",
      "\n",
      "{} Target Precision            0.554           0.387(0.086)\n",
      "{} Target Recall               0.549           0.693(0.080)\n",
      "{} Target F1                   0.551           0.485(0.058)\n",
      "\n",
      "{} Orig Pred Precision         0.681           0.474(0.409)\n",
      "{} Orig Pred Recall            0.633           0.258(0.266)\n",
      "{} Orig Pred F1                0.647           0.309(0.304)\n",
      "\n"
     ]
    }
   ],
   "source": [
    "metrics = [['{} Accuracy', '{} Mean Precision', '{} Mean Recall', '{} Mean F1'], \n",
    "           ['{} Target Precision', '{} Target Recall', '{} Target F1'],\n",
    "           ['{} Orig Pred Precision', '{} Orig Pred Recall', '{} Orig Pred F1']]\n",
    "print(\"{:<30} {:<15} {:<20}\".format(\"Metric\", \"Pre-Edit\", \"Post-Edit\"))\n",
    "for row in metrics:\n",
    "    for metric in row:\n",
    "        print(\"{:<30} {:<15.3f} {:.3f}({:.3f})\".format(\n",
    "            metric, mean_df[metric.format(\"Pre\")],\n",
    "            mean_df[metric.format(\"Post\")], std_df[metric.format(\"Post\")]))\n",
    "    print(\"\")"
   ]
  },
  {
   "cell_type": "markdown",
   "metadata": {},
   "source": [
    "## Hypothesis 1: Masked modifications will have greater changes than noise"
   ]
  },
  {
   "cell_type": "code",
   "execution_count": 170,
   "metadata": {},
   "outputs": [
    {
     "name": "stdout",
     "output_type": "stream",
     "text": [
      "Metric                         Pre-Edit        Masked               Gaussian            \n",
      "{} Accuracy                    0.687           0.635(0.049)        0.663(0.028)\n",
      "{} Mean Precision              0.692           0.660(0.052)        0.681(0.038)\n",
      "{} Mean Recall                 0.687           0.635(0.049)        0.663(0.028)\n",
      "{} Mean F1                     0.684           0.623(0.058)        0.654(0.039)\n",
      "\n",
      "{} Target Precision            0.554           0.372(0.085)        0.436(0.070)\n",
      "{} Target Recall               0.549           0.713(0.079)        0.629(0.039)\n",
      "{} Target F1                   0.551           0.477(0.060)        0.509(0.047)\n",
      "\n",
      "{} Orig Pred Precision         0.679           0.421(0.414)        0.649(0.343)\n",
      "{} Orig Pred Recall            0.638           0.219(0.255)        0.385(0.263)\n",
      "{} Orig Pred F1                0.648           0.265(0.295)        0.453(0.291)\n",
      "\n"
     ]
    }
   ],
   "source": [
    "masked_rows = df[df['ID'].str.contains('masked')]\n",
    "n_masked = len(masked_rows)\n",
    "\n",
    "gaussian_rows = df[df['ID'].str.contains('gaussian')]\n",
    "n_gaussian = len(gaussian_rows)\n",
    "# Compare mean post edit accuracy, precision, recall, and f1\n",
    "mean_masked = masked_rows.mean()\n",
    "mean_gaussian = gaussian_rows.mean()\n",
    "std_masked = masked_rows.std()\n",
    "std_gaussian = gaussian_rows.std()\n",
    "# print(mean_masked)\n",
    "\n",
    "metrics = [['{} Accuracy', '{} Mean Precision', '{} Mean Recall', '{} Mean F1'], \n",
    "           ['{} Target Precision', '{} Target Recall', '{} Target F1'],\n",
    "           ['{} Orig Pred Precision', '{} Orig Pred Recall', '{} Orig Pred F1']]\n",
    "print(\"{:<30} {:<15} {:<20} {:<20}\".format(\"Metric\", \"Pre-Edit\", \"Masked\", \"Gaussian\"))\n",
    "for row in metrics:\n",
    "    for metric in row:\n",
    "        print(\"{:<30} {:<15.3f} {:.3f}({:.3f}) {:<6} {:.3f}({:.3f})\".format(\n",
    "            metric, mean_masked[metric.format(\"Pre\")],\n",
    "            mean_masked[metric.format(\"Post\")], std_masked[metric.format(\"Post\")], \"\",\n",
    "            mean_gaussian[metric.format(\"Post\")], std_gaussian[metric.format(\"Post\")]))\n",
    "    print(\"\")"
   ]
  },
  {
   "cell_type": "markdown",
   "metadata": {},
   "source": [
    "### Hypothesis 2: How many edits actually improved all three metrics for target class?\n",
    "\n",
    "Will these also incur larger harm in overall metrics?"
   ]
  },
  {
   "cell_type": "code",
   "execution_count": 172,
   "metadata": {},
   "outputs": [
    {
     "name": "stdout",
     "output_type": "stream",
     "text": [
      "0 edits improved all target metrics \n",
      "127 edits improved target recall\n",
      "6 edits improved target F1\n",
      "0 edits improved target precision\n",
      "0 edits improved target precision + f1\n",
      "6 edits improved target recall + f1\n",
      "0 edits improved target precision + recall\n"
     ]
    }
   ],
   "source": [
    "improve_target_rows = df[\n",
    "    (df['Post Target Precision'] > df['Pre Target Precision']) &\n",
    "    (df['Post Target Recall'] > df ['Pre Target Recall']) & \n",
    "    (df['Post Target F1'] > df['Pre Target F1'])]      \n",
    "\n",
    "improve_target_recall = df[df['Post Target Recall'] > df ['Pre Target Recall']] \n",
    "improve_target_f1 = df[df['Post Target F1'] > df ['Pre Target F1']] \n",
    "improve_target_precision = df[df['Post Target Precision'] > df ['Pre Target Precision']] \n",
    "    \n",
    "improve_target_precision_f1 = pd.merge(improve_target_precision, improve_target_f1, how='inner', on=['ID'])\n",
    "improve_target_recall_f1 = pd.merge(improve_target_recall, improve_target_f1, how='inner', on=['ID'])\n",
    "improve_target_recall_and_precision = pd.merge(improve_target_recall, improve_target_precision, how='inner', on=['ID'])\n",
    "\n",
    "print(\"{} edits improved all target metrics \".format(len(improve_target_rows)))\n",
    "print(\"{} edits improved target recall\".format(len(improve_target_recall)))\n",
    "print(\"{} edits improved target F1\".format(len(improve_target_f1)))\n",
    "print(\"{} edits improved target precision\".format(len(improve_target_precision)))\n",
    "print(\"{} edits improved target precision + f1\".format(len(improve_target_precision_f1)))\n",
    "print(\"{} edits improved target recall + f1\".format(len(improve_target_recall_f1)))\n",
    "print(\"{} edits improved target precision + recall\".format(len(improve_target_recall_and_precision)))\n"
   ]
  },
  {
   "cell_type": "markdown",
   "metadata": {},
   "source": [
    "## Hypothesis 3: If the edit improved the target class (let's say F1), then the metrics of the originally predicted class will be worse"
   ]
  },
  {
   "cell_type": "code",
   "execution_count": 181,
   "metadata": {},
   "outputs": [
    {
     "name": "stdout",
     "output_type": "stream",
     "text": [
      "Average mean metrics in original predicted class for rows that improved f1 in target class (6 samples)\n",
      "Metric                         Pre-Edit        Post-Edit           \n",
      "{} Orig Pred Precision         0.705(0.064)        0.770(0.074)\n",
      "{} Orig Pred Recall            0.509(0.132)        0.449(0.164)\n",
      "{} Orig Pred F1                0.584(0.095)        0.550(0.122)\n",
      "Average mean metrics in original predicted class for rows that did NOT improve f1 in target class(122 samples)\n",
      "Metric                         Pre-Edit        Post-Edit           \n",
      "{} Orig Pred Precision         0.680(0.074)        0.460(0.413)\n",
      "{} Orig Pred Recall            0.639(0.137)        0.248(0.267)\n",
      "{} Orig Pred F1                0.650(0.091)        0.298(0.306)\n"
     ]
    }
   ],
   "source": [
    " orig_metrics = ['{} Orig Pred Precision', '{} Orig Pred Recall', '{} Orig Pred F1']\n",
    "mean_improve_target_f1 = improve_target_f1.mean()\n",
    "std_improve_target_f1 = improve_target_f1.std()\n",
    "\n",
    "print(\"Average mean metrics in original predicted class for rows that improved f1 in target class ({} samples)\".format(len(improve_target_f1)))\n",
    "print(\"{:<30} {:<15} {:<20}\".format(\"Metric\", \"Pre-Edit\", \"Post-Edit\"))\n",
    "for metric in orig_metrics:\n",
    "    print(\"{:<30} {:.3f}({:.3f}) {:<6} {:.3f}({:.3f})\".format(\n",
    "        metric, \n",
    "        mean_improve_target_f1[metric.format(\"Pre\")], \n",
    "        std_improve_target_f1[metric.format(\"Pre\")], \n",
    "        \"\",\n",
    "        mean_improve_target_f1[metric.format(\"Post\")],\n",
    "        std_improve_target_f1[metric.format(\"Post\")]))\n",
    "    \n",
    "not_improve_target_f1 = df[~df.isin(improve_target_f1)].dropna()\n",
    "mean_not_improve_target_f1 = not_improve_target_f1.mean()\n",
    "std_not_improve_target_f1 = not_improve_target_f1.std()\n",
    "\n",
    "print(\"Average mean metrics in original predicted class for rows that did NOT improve f1 in target class({} samples)\".format(len(not_improve_target_f1)))\n",
    "print(\"{:<30} {:<15} {:<20}\".format(\"Metric\", \"Pre-Edit\", \"Post-Edit\"))\n",
    "for metric in orig_metrics:\n",
    "    print(\"{:<30} {:.3f}({:.3f}) {:<6} {:.3f}({:.3f})\".format(\n",
    "        metric, \n",
    "        mean_not_improve_target_f1[metric.format(\"Pre\")], \n",
    "        std_not_improve_target_f1[metric.format(\"Pre\")], \n",
    "        \"\",\n",
    "        mean_not_improve_target_f1[metric.format(\"Post\")],\n",
    "        std_not_improve_target_f1[metric.format(\"Post\")]))"
   ]
  },
  {
   "cell_type": "code",
   "execution_count": 188,
   "metadata": {},
   "outputs": [],
   "source": [
    "metric_name = 'Recall'\n",
    "pos_target_pos_orig = df[ \n",
    "    (df['Post Target {}'.format(metric_name)] > df['Pre Target {}'.format(metric_name)]) &\n",
    "    (df['Post Orig Pred {}'.format(metric_name)] > df['Pre Orig Pred {}'.format(metric_name)])]  \n",
    "\n",
    "pos_target_neg_orig = df[ \n",
    "    (df['Post Target {}'.format(metric_name)] > df['Pre Target {}'.format(metric_name)]) &\n",
    "    (df['Post Orig Pred {}'.format(metric_name)] < df['Pre Orig Pred {}'.format(metric_name)])] \n",
    "\n",
    "neg_target_pos_orig = df[ \n",
    "    (df['Post Target {}'.format(metric_name)] < df['Pre Target {}'.format(metric_name)]) &\n",
    "    (df['Post Orig Pred {}'.format(metric_name)] > df['Pre Orig Pred {}'.format(metric_name)])]  \n",
    "\n",
    "neg_target_neg_orig = df[ \n",
    "    (df['Post Target {}'.format(metric_name)] < df['Pre Target {}'.format(metric_name)]) &\n",
    "    (df['Post Orig Pred {}'.format(metric_name)] < df['Pre Orig Pred {}'.format(metric_name)])]  \n"
   ]
  },
  {
   "cell_type": "code",
   "execution_count": 189,
   "metadata": {},
   "outputs": [
    {
     "name": "stdout",
     "output_type": "stream",
     "text": [
      "Metric: Recall\n",
      "Pos Target Pos Orig: 7\n",
      "Pos Target Neg Orig: 120\n",
      "Neg Target Pos Orig: 0\n",
      "Neg Target Neg Orig: 1\n"
     ]
    }
   ],
   "source": [
    "print(\"Metric: {}\".format(metric_name))\n",
    "print(\"Pos Target Pos Orig: {}\".format(len(pos_target_pos_orig)))\n",
    "print(\"Pos Target Neg Orig: {}\".format(len(pos_target_neg_orig)))\n",
    "print(\"Neg Target Pos Orig: {}\".format(len(neg_target_pos_orig)))\n",
    "print(\"Neg Target Neg Orig: {}\".format(len(neg_target_neg_orig)))"
   ]
  },
  {
   "cell_type": "markdown",
   "metadata": {},
   "source": [
    "### Deeper understanding in how those that increase both target and original class predictions differ from those that decrease original class recall"
   ]
  },
  {
   "cell_type": "code",
   "execution_count": 197,
   "metadata": {},
   "outputs": [],
   "source": [
    "metric_name = 'Recall'\n",
    "pos_target_pos_orig = df[ \n",
    "    (df['Post Target {}'.format(metric_name)] > df['Pre Target {}'.format(metric_name)]) &\n",
    "    (df['Post Orig Pred {}'.format(metric_name)] > df['Pre Orig Pred {}'.format(metric_name)])]  \n",
    "\n",
    "pos_target_neg_orig = df[ \n",
    "    (df['Post Target {}'.format(metric_name)] > df['Pre Target {}'.format(metric_name)]) &\n",
    "    (df['Post Orig Pred {}'.format(metric_name)] < df['Pre Orig Pred {}'.format(metric_name)])] \n",
    "\n"
   ]
  },
  {
   "cell_type": "code",
   "execution_count": 201,
   "metadata": {},
   "outputs": [
    {
     "name": "stdout",
     "output_type": "stream",
     "text": [
      "Increase target and orig. prediction\n",
      "Metric                         Pre-Edit        Post-Edit           \n",
      "{} Accuracy                    0.687           0.673(0.010)\n",
      "{} Mean Precision              0.692           0.708(0.013)\n",
      "{} Mean Recall                 0.687           0.673(0.010)\n",
      "{} Mean F1                     0.684           0.675(0.006)\n",
      "\n",
      "{} Target Precision            0.554           0.430(0.068)\n",
      "{} Target Recall               0.549           0.684(0.094)\n",
      "{} Target F1                   0.551           0.519(0.027)\n",
      "\n",
      "{} Orig Pred Precision         0.703           0.696(0.052)\n",
      "{} Orig Pred Recall            0.626           0.648(0.104)\n",
      "{} Orig Pred F1                0.658           0.668(0.077)\n",
      "\n",
      "cat-train-n02128757_4479/quickshift_masked_0\n",
      "{'cat-train-n02128757_4479': 1, 'cat-train-n02128925_4745': 5, 'cat-train-n01322898_6579': 1}\n",
      "{'quickshift': 3, 'felzenszwalb': 2, 'watershed': 1, 'slic': 1}\n",
      "{'masked': 5, 'gaussian': 2}\n",
      "7         cat-train-n02128757_4479/quickshift_masked_0\n",
      "19    cat-train-n02128925_4745/felzenszwalb_gaussian_4\n",
      "20      cat-train-n02128925_4745/felzenszwalb_masked_0\n",
      "22      cat-train-n02128925_4745/quickshift_gaussian_3\n",
      "24        cat-train-n02128925_4745/quickshift_masked_3\n",
      "26         cat-train-n02128925_4745/watershed_masked_6\n",
      "44              cat-train-n01322898_6579/slic_masked_2\n",
      "Name: ID, dtype: object\n",
      "Increase target and decrease orig. prediction\n",
      "Metric                         Pre-Edit        Post-Edit           \n",
      "{} Accuracy                    0.687           0.640(0.047)\n",
      "{} Mean Precision              0.692           0.662(0.050)\n",
      "{} Mean Recall                 0.687           0.640(0.047)\n",
      "{} Mean F1                     0.684           0.628(0.056)\n",
      "\n",
      "{} Target Precision            0.554           0.383(0.086)\n",
      "{} Target Recall               0.549           0.695(0.079)\n",
      "{} Target F1                   0.551           0.482(0.059)\n",
      "\n",
      "{} Orig Pred Precision         0.679           0.458(0.416)\n",
      "{} Orig Pred Recall            0.632           0.232(0.253)\n",
      "{} Orig Pred F1                0.645           0.285(0.298)\n",
      "\n",
      "cat-train-n02120997_15889/felzenszwalb_masked_3\n",
      "{'cat-train-n02120997_15889': 2, 'cat-train-n02128757_4479': 16, 'cat-train-n02128925_4745': 3, 'cat-train-n02126787_2358': 1, 'cat-train-n02129463_2015': 3, 'cat-train-n02120997_13308': 4, 'cat-train-n02125311_6892': 9, 'cat-train-n01322898_6579': 5, 'cat-train-n02129165_3350': 11, 'cat-train-n02123597_3714': 18, 'cat-train-n02129165_3224': 2, 'cat-train-n02130308_11934': 1, 'cat-train-n02129530_5462': 3, 'cat-train-n02128757_3571': 12, 'cat-train-n02123597_10163': 4, 'cat-train-n02123478_8080': 10, 'cat-train-n02129604_11283': 2, 'cat-train-n02124313_1518': 4, 'cat-train-n02129991_418': 9, 'cat-train-n02123597_8088': 1}\n",
      "{'felzenszwalb': 27, 'watershed': 42, 'slic': 36, 'quickshift': 15}\n",
      "{'masked': 93, 'gaussian': 27}\n"
     ]
    }
   ],
   "source": [
    "def get_unique(df_):\n",
    "    ids = df_['ID']\n",
    "    print(ids.iloc[0])\n",
    "    unique_key_images = {}\n",
    "    unique_segmentation_methods = {}\n",
    "    unique_modification_methods = {}\n",
    "    for id_ in ids:\n",
    "        split_id = id_.split('/')\n",
    "        key_id = split_id[0]\n",
    "        if key_id in unique_key_images:\n",
    "            unique_key_images[key_id] += 1\n",
    "        else: \n",
    "            unique_key_images[key_id] = 1\n",
    "        \n",
    "        val_id = split_id[1].split('_')\n",
    "        segmentation_method = val_id[0]\n",
    "        if segmentation_method in unique_segmentation_methods:\n",
    "            unique_segmentation_methods[segmentation_method] += 1\n",
    "        else:\n",
    "            unique_segmentation_methods[segmentation_method] = 1\n",
    "        \n",
    "        modification_method = val_id[1]\n",
    "        if modification_method in unique_modification_methods:\n",
    "            unique_modification_methods[modification_method] += 1\n",
    "        else:\n",
    "            unique_modification_methods[modification_method] = 1\n",
    "    print(unique_key_images)\n",
    "    print(unique_segmentation_methods)\n",
    "    print(unique_modification_methods)\n",
    "    \n",
    "        \n",
    "print(\"Increase target and orig. prediction\")\n",
    "print_summary(pos_target_pos_orig)\n",
    "get_unique(pos_target_pos_orig)\n",
    "print(pos_target_pos_orig['ID'])\n",
    "\n",
    "print(\"Increase target and decrease orig. prediction\")\n",
    "print_summary(pos_target_neg_orig)\n",
    "get_unique(pos_target_neg_orig)"
   ]
  },
  {
   "cell_type": "markdown",
   "metadata": {},
   "source": [
    "## Hypothesis 4: If a gaussian noise segment is producing sucessful change, will the masked segment as well?\n",
    "\n",
    "Result: not necessarily"
   ]
  },
  {
   "cell_type": "code",
   "execution_count": 171,
   "metadata": {},
   "outputs": [
    {
     "name": "stdout",
     "output_type": "stream",
     "text": [
      "98 masked modifications\n",
      "30 Gaussian modifications\n",
      "14/30 gaussian modifications have corresponding masked segment as success:\n"
     ]
    }
   ],
   "source": [
    "# Count number of rows that are gaussian noise and are masked\n",
    "masked_rows = df[df['ID'].str.contains('masked')]\n",
    "n_masked = len(masked_rows)\n",
    "\n",
    "gaussian_rows = df[df['ID'].str.contains('gaussian')]\n",
    "n_gaussian = len(gaussian_rows)\n",
    "print(\"{} masked modifications\\n{} Gaussian modifications\".format(n_masked, n_gaussian))\n",
    "\n",
    "# For gaussian rows, are their corresponding masked segment also there?\n",
    "gaussian_IDs = gaussian_rows['ID']\n",
    "corresponding_masked_IDs = gaussian_IDs.replace('gaussian', 'masked', regex=True)\n",
    "# print(corresponding_masked_IDs)\n",
    "\n",
    "segments_with_both_gaussian_and_masked = list(set(corresponding_masked_IDs) & set(df['ID']))\n",
    "n_both = len(segments_with_both_gaussian_and_masked)\n",
    "print(\"{}/{} gaussian modifications have corresponding masked segment as success:\".format(n_both, n_gaussian))\n",
    "# print(segments_with_both_gaussian_and_masked)"
   ]
  },
  {
   "cell_type": "markdown",
   "metadata": {},
   "source": [
    "## Hypothesis 5: Smaller segments will produce smaller changes\n"
   ]
  },
  {
   "cell_type": "code",
   "execution_count": null,
   "metadata": {},
   "outputs": [],
   "source": []
  },
  {
   "cell_type": "markdown",
   "metadata": {},
   "source": [
    "## Hypothesis 6: The neighbors of the value images should be less affected than the neighbors of the key images\n",
    "\n",
    "Compare distance between key-keyN and val-valN before and after the edit. The difference should be smaller for val-valN"
   ]
  },
  {
   "cell_type": "code",
   "execution_count": null,
   "metadata": {},
   "outputs": [],
   "source": [
    "# mean_diff_key_keyN = (df['Post key-keyN (F)'] - df['Pre key-keyN (F)']).mean()\n",
    "mean_df = df.mean()\n",
    "for data_type in [\"F\", \"L\"]:\n",
    "    mean_pre_key_keyN = mean_df['Pre key-keyN ({})'.format(data_type)]\n",
    "    mean_post_key_keyN = mean_df['Post key-keyN ({})'.format(data_type)]\n",
    "    diff_key_keyN = mean_post_key_keyN - mean_pre_key_keyN\n",
    "    percent_diff_key_keyN = diff_key_keyN / mean_pre_key_keyN * 100\n",
    "    # mean_diff_val_valN = (df['Post val-valN (F)'] - df['Pre val-valN (F)']).mean()\n",
    "    mean_pre_val_valN = mean_df['Pre val-valN ({})'.format(data_type)]\n",
    "    mean_post_val_valN = mean_df['Post val-valN ({})'.format(data_type)]\n",
    "    diff_val_valN = mean_post_val_valN - mean_pre_val_valN\n",
    "    percent_diff_val_valN = diff_val_valN / mean_pre_val_valN * 100\n",
    "\n",
    "    print(\"{}\".format(\"Features\" if data_type == 'F' else \"Logits\"))\n",
    "    print(\"\\tKey -> Key Neighbors: {:.3f} ==> {:.3f}\".format(mean_pre_key_keyN, mean_post_key_keyN))\n",
    "    print(\"\\t\\tMean difference: {:.3f} ({:.2f}%)\".format(diff_key_keyN, percent_diff_key_keyN))\n",
    "    print(\"\\tVal -> Val Neighbors: {:.3f} ==> {:.3f}\".format(mean_pre_val_valN, mean_post_val_valN))\n",
    "    print(\"\\t\\tMean difference: {:.3f} ({:.2f}%)\".format(diff_val_valN, percent_diff_val_valN))"
   ]
  },
  {
   "cell_type": "markdown",
   "metadata": {},
   "source": [
    "## Hypothesis 6: Edits that shared an original image will have smaller spread in post edit metrics\n"
   ]
  },
  {
   "cell_type": "code",
   "execution_count": 157,
   "metadata": {},
   "outputs": [
    {
     "name": "stdout",
     "output_type": "stream",
     "text": [
      "16    0.687371\n",
      "17    0.688529\n",
      "18    0.669086\n",
      "19    0.620000\n",
      "20    0.685500\n",
      "21    0.685386\n",
      "22    0.620614\n",
      "23    0.687300\n",
      "Name: Post Accuracy, dtype: float64\n",
      "14    0.641871\n",
      "Name: Post Accuracy, dtype: float64\n",
      "36    0.672886\n",
      "Name: Post Accuracy, dtype: float64\n",
      "15    0.675343\n",
      "Name: Post Accuracy, dtype: float64\n",
      "24    0.687429\n",
      "25    0.636157\n",
      "26    0.687714\n",
      "27    0.685071\n",
      "28    0.688229\n",
      "Name: Post Accuracy, dtype: float64\n",
      "6    0.668386\n",
      "Name: Post Accuracy, dtype: float64\n",
      "Metric                         STD Overall     Avg STD Grouped by Key Image\n",
      "Post Accuracy                  0.018           0.014\n",
      "Post Mean Precision            0.032           0.019\n",
      "Post Mean Recall               0.018           0.014\n",
      "Post Mean F1                   0.025           0.019\n",
      "\n",
      "Post Target Precision          0.107           0.088\n",
      "Post Target Recall             0.049           0.044\n",
      "Post Target F1                 0.036           0.025\n",
      "\n",
      "Post Orig Pred Precision       0.264           0.178\n",
      "Post Orig Pred Recall          0.214           0.153\n",
      "Post Orig Pred F1              0.226           0.143\n",
      "\n",
      "Post key-val (F)               0.559           0.413\n",
      "\n",
      "['dog-train-n02114712_211', 'dog-train-n02113624_8298', 'dog-train-n02089232_8735']\n"
     ]
    }
   ],
   "source": [
    "# Obtain unique key images\n",
    "ids = list(df['ID'])\n",
    "unique_keys = set()\n",
    "for image_id in ids:\n",
    "    key_id = image_id.split('/')[0]\n",
    "    unique_keys.add(key_id)\n",
    "    \n",
    "metrics = [['{} Accuracy', '{} Mean Precision', '{} Mean Recall', '{} Mean F1'], \n",
    "           ['{} Target Precision', '{} Target Recall', '{} Target F1'],\n",
    "           ['{} Orig Pred Precision', '{} Orig Pred Recall', '{} Orig Pred F1'],\n",
    "           ['{} key-val (F)']]\n",
    "\n",
    "\n",
    "key_image_stds = pd.DataFrame()\n",
    "small_spread_keys = []\n",
    "for unique_key in unique_keys:\n",
    "    cur_rows = df[df['ID'].str.contains(unique_key)]\n",
    "    mean_cur_rows = cur_rows.mean()\n",
    "    std_cur_rows = cur_rows.std()\n",
    "    # print(\"Accuracy STD: {:.3f}\".format(std_cur_rows['Post Accuracy']))\n",
    "    # print(\"Precision STD: {:.3f}\".format(std_cur_rows['Post Mean Precision']))\n",
    "    # print(\"Recall STD: {:.3f}\".format(std_cur_rows['Post Mean Recall']))\n",
    "    if std_cur_rows['Post Accuracy'] < 0.01:\n",
    "        small_spread_keys.append(unique_key)\n",
    "    else:\n",
    "        print(cur_rows['Post Accuracy'])\n",
    "    if len(cur_rows) > 1:\n",
    "        key_image_stds = key_image_stds.append(std_cur_rows, ignore_index=True)\n",
    "        \n",
    "\n",
    "mean_key_image_stds = key_image_stds.mean()\n",
    "print(\"{:<30} {:<15} {:<20}\".format(\"Metric\", \"STD Overall\", \"Avg STD Grouped by Key Image\"))\n",
    "for row in metrics:\n",
    "    for metric in row:\n",
    "        print(\"{:<30} {:<15.3f} {:.3f}\".format(\n",
    "            metric.format(\"Post\"), std_df[metric.format(\"Post\")],\n",
    "            mean_key_image_stds[metric.format(\"Post\")]))\n",
    "    print(\"\")\n",
    "\n",
    "# print(\"Average accuracy standard deviation for an image: {}\".format(key_image_stds['Post Accuracy']))\n",
    "print(small_spread_keys)"
   ]
  },
  {
   "cell_type": "markdown",
   "metadata": {},
   "source": [
    "## Hypothesis 9: Edits that share a original prediction will have more similar post edit metric results"
   ]
  },
  {
   "cell_type": "code",
   "execution_count": 139,
   "metadata": {},
   "outputs": [
    {
     "name": "stdout",
     "output_type": "stream",
     "text": [
      "{2, 3, 4, 6, 7}\n",
      "0.004919442891969285\n",
      "0.006148371534599434\n",
      "0.024926112445238086\n",
      "0.006064829466900532\n",
      "0.028172920852970768\n"
     ]
    }
   ],
   "source": [
    "unique_original_predictions = set(df['Pre key Prediction'])\n",
    "print(unique_original_predictions)\n",
    "\n",
    "for og_prediction in unique_original_predictions:\n",
    "    cur_rows = df[df['Pre key Prediction'] == og_prediction]\n",
    "    # print(len(cur_rows))\n",
    "    mean_cur_rows = cur_rows.mean()\n",
    "    std_cur_rows = cur_rows.std()\n",
    "    print(std_cur_rows['Post Accuracy'])"
   ]
  },
  {
   "cell_type": "code",
   "execution_count": null,
   "metadata": {},
   "outputs": [],
   "source": []
  }
 ],
 "metadata": {
  "kernelspec": {
   "display_name": "editing",
   "language": "python",
   "name": "editing"
  },
  "language_info": {
   "codemirror_mode": {
    "name": "ipython",
    "version": 3
   },
   "file_extension": ".py",
   "mimetype": "text/x-python",
   "name": "python",
   "nbconvert_exporter": "python",
   "pygments_lexer": "ipython3",
   "version": "3.8.13"
  }
 },
 "nbformat": 4,
 "nbformat_minor": 4
}
