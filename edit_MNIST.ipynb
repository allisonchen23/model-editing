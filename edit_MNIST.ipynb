{
 "cells": [
  {
   "cell_type": "markdown",
   "metadata": {},
   "source": [
    "## Test out how to edit on 2_Spurious_MNIST dataset"
   ]
  },
  {
   "cell_type": "code",
   "execution_count": 1,
   "metadata": {},
   "outputs": [],
   "source": [
    "# General imports\n",
    "import torch\n",
    "import numpy as np\n",
    "import os, sys\n",
    "import json\n",
    "from tqdm import tqdm\n",
    "from datetime import datetime\n",
    "import pandas as pd\n",
    "import shutil"
   ]
  },
  {
   "cell_type": "code",
   "execution_count": 2,
   "metadata": {},
   "outputs": [],
   "source": [
    "# Local imports\n",
    "sys.path.insert(0, 'src')\n",
    "from utils import read_json, read_lists, informal_log, list_to_dict, write_lists, write_json, save_image\n",
    "from utils.visualizations import show_image_rows, make_grid\n",
    "from utils.model_utils import prepare_device\n",
    "from parse_config import ConfigParser\n",
    "# from data_loader import data_loaders\n",
    "import datasets.datasets as module_data\n",
    "import datasets.edit_datasets as module_edit_data\n",
    "import model.model as module_arch\n",
    "from utils.knn_utils import load_and_analyze_knn\n",
    "from utils.results_to_csv import store_csv\n",
    "from edit_MNIST import edit, run_trials"
   ]
  },
  {
   "cell_type": "code",
   "execution_count": 48,
   "metadata": {},
   "outputs": [],
   "source": [
    "# Define constants, paths\n",
    "dataset_type = '2_Spurious_MNIST'\n",
    "model_type = 'LeNet'\n",
    "file_name = 'experiments/2_Spurious_MNIST_LeNet_edit_patches.json'\n",
    "# config_path = os.path.join('configs', 'MNIST', '{}_{}_edit.json'.format(dataset_type, model_type))\n",
    "config_path = os.path.join('configs', 'MNIST', file_name)\n",
    "config_dict = read_json(config_path)\n",
    "class_list = [i for i in range(10)]\n",
    "\n",
    "analyze_in_edit = True"
   ]
  },
  {
   "cell_type": "code",
   "execution_count": 49,
   "metadata": {},
   "outputs": [
    {
     "name": "stdout",
     "output_type": "stream",
     "text": [
      "Save dir: saved/edit_2_Spurious_MNIST/method_eac/LeNet-patches/0324_170216/models\n"
     ]
    }
   ],
   "source": [
    "# Load config file\n",
    "config = ConfigParser(config_dict)\n",
    "print(\"Save dir: {}\".format(config.save_dir))\n",
    "\n",
    "# Set K\n",
    "K = config_dict['editor']['K']\n",
    "\n",
    "device, device_ids = prepare_device(config_dict['n_gpu'])"
   ]
  },
  {
   "cell_type": "code",
   "execution_count": 50,
   "metadata": {},
   "outputs": [],
   "source": [
    "# Load datasets\n",
    "data_loader_args = dict(config_dict[\"data_loader\"][\"args\"])\n",
    "\n",
    "# Create validation data loader\n",
    "test_dataset =config.init_obj('test_dataset', module_data)\n",
    "\n",
    "test_data_loader = torch.utils.data.DataLoader(\n",
    "    test_dataset,\n",
    "    **data_loader_args\n",
    ")\n",
    "\n",
    "# Create data loader for covariance matrix\n",
    "covariance_dataset = config.init_obj('covariance_dataset', module_data)\n",
    "covariance_data_loader = torch.utils.data.DataLoader(\n",
    "    covariance_dataset,\n",
    "    **data_loader_args\n",
    ")\n"
   ]
  },
  {
   "cell_type": "markdown",
   "metadata": {},
   "source": [
    "### Create log and save paths"
   ]
  },
  {
   "cell_type": "code",
   "execution_count": 51,
   "metadata": {},
   "outputs": [
    {
     "name": "stdout",
     "output_type": "stream",
     "text": [
      "Saving path to directories for each trial to saved/edit_2_Spurious_MNIST/method_eac/LeNet-patches/0324_170216/trial_paths.txt\n",
      "Printing progress reports to saved/edit_2_Spurious_MNIST/method_eac/LeNet-patches/0324_170216/progress_report.txt\n"
     ]
    }
   ],
   "source": [
    "# create log path to store the paths to each trial\n",
    "save_root = config_dict['trainer']['save_dir']\n",
    "timestamp = os.path.basename(os.path.dirname(config.save_dir))\n",
    "save_dir = os.path.join(save_root, config_dict['name'], timestamp)\n",
    "trial_paths_path = os.path.join(save_dir, 'trial_paths.txt')\n",
    "progress_report_path = os.path.join(save_dir, 'progress_report.txt')\n",
    "if os.path.exists(trial_paths_path):\n",
    "    print(\"Path {} already exists. Aborting.\".format(trial_paths_path))\n",
    "else:\n",
    "    # progress_report_path = os.path.join(save_root, config_dict['name'], timestamp, 'progress_report.txt')\n",
    "    if os.path.exists(progress_report_path):\n",
    "        os.remove(progress_report_path)\n",
    "    print(\"Saving path to directories for each trial to {}\".format(trial_paths_path))\n",
    "    print(\"Printing progress reports to {}\".format(progress_report_path))"
   ]
  },
  {
   "cell_type": "markdown",
   "metadata": {},
   "source": [
    "### Create dataset and save edit_idxs file"
   ]
  },
  {
   "cell_type": "code",
   "execution_count": 52,
   "metadata": {},
   "outputs": [
    {
     "name": "stdout",
     "output_type": "stream",
     "text": [
      "Saved edit_idxs file to saved/edit_2_Spurious_MNIST/method_eac/LeNet-patches/0324_170216/edit_idxs_2color.txt\n"
     ]
    }
   ],
   "source": [
    "\n",
    "MNIST_edit_dataset = config.init_obj('edit_dataset', module_edit_data)\n",
    "edit_data_loader = torch.utils.data.DataLoader(\n",
    "    MNIST_edit_dataset,\n",
    "    shuffle=False,\n",
    "    batch_size=1,\n",
    "    num_workers=8\n",
    ")\n",
    "# Save edit_idxs\n",
    "edit_idxs_src_path = MNIST_edit_dataset.edit_idxs_path\n",
    "edit_idxs_dst_path = os.path.join(save_dir, os.path.basename(edit_idxs_src_path))\n",
    "shutil.copyfile(edit_idxs_src_path, edit_idxs_dst_path)\n",
    "print(\"Saved edit_idxs file to {}\".format(edit_idxs_dst_path))\n"
   ]
  },
  {
   "cell_type": "markdown",
   "metadata": {},
   "source": [
    "### Run Trials\n"
   ]
  },
  {
   "cell_type": "code",
   "execution_count": 47,
   "metadata": {
    "scrolled": true,
    "tags": []
   },
   "outputs": [
    {
     "name": "stdout",
     "output_type": "stream",
     "text": [
      "(0324_155154) Starting Trial 1/16...\n",
      "saved/edit_2_Spurious_MNIST/method_eac/LeNet-patches/0324_155144/results/edit_idx_0\n",
      "torch.Size([2, 1, 32, 32])\n",
      "3 2\n",
      "Clipping input data to the valid range for imshow with RGB data ([0..1] for floats or [0..255] for integers).\n",
      "Clipping input data to the valid range for imshow with RGB data ([0..1] for floats or [0..255] for integers).\n",
      "Clipping input data to the valid range for imshow with RGB data ([0..1] for floats or [0..255] for integers).\n",
      "Clipping input data to the valid range for imshow with RGB data ([0..1] for floats or [0..255] for integers).\n"
     ]
    },
    {
     "data": {
      "image/png": "[encoded data removed]",
      "text/plain": [
       "<Figure size 500x750 with 6 Axes>"
      ]
     },
     "metadata": {},
     "output_type": "display_data"
    },
    {
     "name": "stdout",
     "output_type": "stream",
     "text": [
      "Seed: 0\n",
      "Editing layer 1\n",
      "Created ModelWrapperSanturkar model with 31340 trainable parameters\n",
      "Restored weights from saved/train/2_Spurious_MNIST-LeNet/0323_100223/models/model_best.pth\n",
      "Using passed in data loader for validation.\n",
      "Performing pre-edit metric calculations on validation set.\n"
     ]
    },
    {
     "name": "stderr",
     "output_type": "stream",
     "text": [
      "100%|███████████████████████████████████████████████████████████| 38/38 [00:00<00:00, 41.27it/s]"
     ]
    },
    {
     "name": "stdout",
     "output_type": "stream",
     "text": [
      "Pre-edit metrics: {'TP': array([450, 538, 520, 497, 452, 422, 436, 472, 456, 453]), 'TN': array([8250, 8296, 8225, 7702, 7784, 8342, 8397, 8265, 7467, 7968]), 'FPs': array([ 320,  119,  293,  838,  784,  316,  195,  257, 1109,  573]), 'FNs': array([480, 547, 462, 463, 480, 420, 472, 506, 468, 506]), 'accuracy': 0.4943157894736842, 'per_class_accuracy': array([0.91578947, 0.92989474, 0.92052632, 0.86305263, 0.86694737,\n",
      "       0.92252632, 0.92978947, 0.91968421, 0.834     , 0.88642105]), 'per_class_accuracy_mean': 0.8988631578947368, 'precision': array([0.58441558, 0.81887367, 0.6396064 , 0.37228464, 0.36569579,\n",
      "       0.57181572, 0.69096672, 0.64746228, 0.2913738 , 0.44152047]), 'precision_mean': 0.5424015070238444, 'recall': array([0.48387097, 0.49585253, 0.52953157, 0.51770833, 0.48497854,\n",
      "       0.50118765, 0.48017621, 0.48261759, 0.49350649, 0.47236705]), 'recall_mean': 0.4941796933975864, 'predicted_class_distribution': array([ 770,  657,  813, 1335, 1236,  738,  631,  729, 1565, 1026]), 'f1': array([0.52941176, 0.61768083, 0.57938719, 0.43311547, 0.41697417,\n",
      "       0.53417722, 0.56660169, 0.55301699, 0.36641221, 0.45642317]), 'f1_mean': 0.5053200697134669}\n",
      "Saved pre-edit metrics saved/edit_2_Spurious_MNIST/method_eac/LeNet-patches/0324_155144/results/edit_idx_0/models/pre_edit_metrics.pth\n",
      "Saved pre-edit logits to saved/edit_2_Spurious_MNIST/method_eac/LeNet-patches/0324_155144/results/edit_idx_0/models/pre_edit_logits.pth\n",
      "Created <class 'trainer.editor.EditorEAC'> editor.\n",
      "Is covariance_dataset in config? True\n",
      "Created dataloader for covariance matrix from 2_Spurious_MNIST_hold_out\n",
      "Looking for covariance matrix weights in cache/2_Spurious_MNIST_hold_out/lenet-1\n"
     ]
    },
    {
     "name": "stderr",
     "output_type": "stream",
     "text": [
      "\n"
     ]
    },
    {
     "name": "stdout",
     "output_type": "stream",
     "text": [
      "Found precomputed cov matrices, returning...\n",
      "n_edit: 2\n",
      "Forwarded edit data thru model\n",
      "Kstar[0] type: <class 'torch.Tensor'> shape: torch.Size([10, 14, 14])\n",
      "vstar type: <class 'torch.Tensor'> shape: torch.Size([2, 20, 5, 5])\n",
      "mstar type: <class 'torch.Tensor'> shape: torch.Size([2, 1, 32, 32])\n",
      "key shape: torch.Size([2, 10, 14, 14]) val shape: torch.Size([2, 20, 5, 5])\n"
     ]
    },
    {
     "name": "stderr",
     "output_type": "stream",
     "text": [
      "tensor(6.1800, device='cuda:0', grad_fn=<DivBackward0>): 100%|█| 30000/30000 [00:39<00:00, 761.4\n"
     ]
    },
    {
     "name": "stdout",
     "output_type": "stream",
     "text": [
      "Loss (orig, final): 1.2750283479690552 6.17997407913208\n",
      "L2 norm of weight change: 432.1958312988281\n",
      "Performing post-edit metric calculations on validation set.\n"
     ]
    },
    {
     "name": "stderr",
     "output_type": "stream",
     "text": [
      "100%|███████████████████████████████████████████████████████████| 38/38 [00:00<00:00, 39.06it/s]"
     ]
    },
    {
     "name": "stdout",
     "output_type": "stream",
     "text": [
      "Post-edit metrics: {'TP': array([ 49, 640, 478, 178, 351, 273,  12, 338,  47,  32]), 'TN': array([8339, 7798, 6710, 7982, 7113, 7111, 8492, 7985, 8440, 8428]), 'FPs': array([ 231,  617, 1808,  558, 1455, 1547,  100,  537,  136,  113]), 'FNs': array([881, 445, 504, 782, 581, 569, 896, 640, 877, 927]), 'accuracy': 0.25242105263157893, 'per_class_accuracy': array([0.88294737, 0.88821053, 0.75663158, 0.85894737, 0.78568421,\n",
      "       0.77726316, 0.89515789, 0.87610526, 0.89336842, 0.89052632]), 'per_class_accuracy_mean': 0.8504842105263158, 'precision': array([0.175     , 0.50914877, 0.20909886, 0.24184783, 0.19435216,\n",
      "       0.15      , 0.10714286, 0.38628571, 0.2568306 , 0.22068966]), 'precision_mean': 0.24503964427967762, 'recall': array([0.05268817, 0.58986175, 0.48676171, 0.18541667, 0.37660944,\n",
      "       0.32422803, 0.01321586, 0.34560327, 0.0508658 , 0.03336809]), 'recall_mean': 0.24586187948622276, 'predicted_class_distribution': array([ 280, 1257, 2286,  736, 1806, 1820,  112,  875,  183,  145]), 'f1': array([0.08099174, 0.54654142, 0.29253366, 0.20990566, 0.25639153,\n",
      "       0.20510894, 0.02352941, 0.36481382, 0.08491418, 0.05797101]), 'f1_mean': 0.21227013647120482}\n",
      "Saved post-edit metrics saved/edit_2_Spurious_MNIST/method_eac/LeNet-patches/0324_155144/results/edit_idx_0/models/post_edit_metrics.pth\n",
      "Saved post-edit logits to saved/edit_2_Spurious_MNIST/method_eac/LeNet-patches/0324_155144/results/edit_idx_0/models/post_edit_logits.pth\n",
      "All metrics and KNN results can be found in saved/edit_2_Spurious_MNIST/method_eac/LeNet-patches/0324_155144/results/edit_idx_0/models\n",
      "(0324_155236) Starting Trial 2/16...\n"
     ]
    },
    {
     "name": "stderr",
     "output_type": "stream",
     "text": [
      "\n"
     ]
    },
    {
     "name": "stdout",
     "output_type": "stream",
     "text": [
      "saved/edit_2_Spurious_MNIST/method_eac/LeNet-patches/0324_155144/results/edit_idx_1\n",
      "torch.Size([2, 1, 32, 32])\n",
      "3 2\n",
      "Clipping input data to the valid range for imshow with RGB data ([0..1] for floats or [0..255] for integers).\n",
      "Clipping input data to the valid range for imshow with RGB data ([0..1] for floats or [0..255] for integers).\n",
      "Clipping input data to the valid range for imshow with RGB data ([0..1] for floats or [0..255] for integers).\n",
      "Clipping input data to the valid range for imshow with RGB data ([0..1] for floats or [0..255] for integers).\n"
     ]
    },
    {
     "data": {
      "image/png": "[encoded data removed]",
      "text/plain": [
       "<Figure size 500x750 with 6 Axes>"
      ]
     },
     "metadata": {},
     "output_type": "display_data"
    },
    {
     "name": "stdout",
     "output_type": "stream",
     "text": [
      "Seed: 0\n",
      "Editing layer 1\n",
      "Created ModelWrapperSanturkar model with 31340 trainable parameters\n",
      "Restored weights from saved/train/2_Spurious_MNIST-LeNet/0323_100223/models/model_best.pth\n",
      "Using passed in data loader for validation.\n",
      "Performing pre-edit metric calculations on validation set.\n"
     ]
    },
    {
     "name": "stderr",
     "output_type": "stream",
     "text": [
      "100%|███████████████████████████████████████████████████████████| 38/38 [00:00<00:00, 39.60it/s]"
     ]
    },
    {
     "name": "stdout",
     "output_type": "stream",
     "text": [
      "Pre-edit metrics: {'TP': array([450, 538, 520, 497, 452, 422, 436, 472, 456, 453]), 'TN': array([8250, 8296, 8225, 7702, 7784, 8342, 8397, 8265, 7467, 7968]), 'FPs': array([ 320,  119,  293,  838,  784,  316,  195,  257, 1109,  573]), 'FNs': array([480, 547, 462, 463, 480, 420, 472, 506, 468, 506]), 'accuracy': 0.4943157894736842, 'per_class_accuracy': array([0.91578947, 0.92989474, 0.92052632, 0.86305263, 0.86694737,\n",
      "       0.92252632, 0.92978947, 0.91968421, 0.834     , 0.88642105]), 'per_class_accuracy_mean': 0.8988631578947368, 'precision': array([0.58441558, 0.81887367, 0.6396064 , 0.37228464, 0.36569579,\n",
      "       0.57181572, 0.69096672, 0.64746228, 0.2913738 , 0.44152047]), 'precision_mean': 0.5424015070238444, 'recall': array([0.48387097, 0.49585253, 0.52953157, 0.51770833, 0.48497854,\n",
      "       0.50118765, 0.48017621, 0.48261759, 0.49350649, 0.47236705]), 'recall_mean': 0.4941796933975864, 'predicted_class_distribution': array([ 770,  657,  813, 1335, 1236,  738,  631,  729, 1565, 1026]), 'f1': array([0.52941176, 0.61768083, 0.57938719, 0.43311547, 0.41697417,\n",
      "       0.53417722, 0.56660169, 0.55301699, 0.36641221, 0.45642317]), 'f1_mean': 0.5053200697134669}\n",
      "Saved pre-edit metrics saved/edit_2_Spurious_MNIST/method_eac/LeNet-patches/0324_155144/results/edit_idx_1/models/pre_edit_metrics.pth\n",
      "Saved pre-edit logits to saved/edit_2_Spurious_MNIST/method_eac/LeNet-patches/0324_155144/results/edit_idx_1/models/pre_edit_logits.pth\n",
      "Created <class 'trainer.editor.EditorEAC'> editor.\n",
      "Is covariance_dataset in config? True\n",
      "Created dataloader for covariance matrix from 2_Spurious_MNIST_hold_out\n",
      "Looking for covariance matrix weights in cache/2_Spurious_MNIST_hold_out/lenet-1\n"
     ]
    },
    {
     "name": "stderr",
     "output_type": "stream",
     "text": [
      "\n"
     ]
    },
    {
     "name": "stdout",
     "output_type": "stream",
     "text": [
      "Found precomputed cov matrices, returning...\n",
      "n_edit: 2\n",
      "Forwarded edit data thru model\n",
      "Kstar[0] type: <class 'torch.Tensor'> shape: torch.Size([10, 14, 14])\n",
      "vstar type: <class 'torch.Tensor'> shape: torch.Size([2, 20, 5, 5])\n",
      "mstar type: <class 'torch.Tensor'> shape: torch.Size([2, 1, 32, 32])\n",
      "key shape: torch.Size([2, 10, 14, 14]) val shape: torch.Size([2, 20, 5, 5])\n"
     ]
    },
    {
     "name": "stderr",
     "output_type": "stream",
     "text": [
      "tensor(0.8004, device='cuda:0', grad_fn=<DivBackward0>): 100%|█| 30000/30000 [00:39<00:00, 755.7"
     ]
    },
    {
     "name": "stdout",
     "output_type": "stream",
     "text": [
      "Loss (orig, final): 1.456160068511963 0.8003509640693665\n",
      "L2 norm of weight change: 4.748870849609375\n",
      "Performing post-edit metric calculations on validation set.\n"
     ]
    },
    {
     "name": "stderr",
     "output_type": "stream",
     "text": [
      "\n",
      "100%|███████████████████████████████████████████████████████████| 38/38 [00:00<00:00, 40.91it/s]"
     ]
    },
    {
     "name": "stdout",
     "output_type": "stream",
     "text": [
      "Post-edit metrics: {'TP': array([450, 538, 521, 494, 452, 420, 434, 479, 455, 452]), 'TN': array([8264, 8293, 8174, 7832, 7695, 8251, 8365, 8027, 7834, 7960]), 'FPs': array([306, 122, 344, 708, 873, 407, 227, 495, 742, 581]), 'FNs': array([480, 547, 461, 466, 480, 422, 474, 499, 469, 507]), 'accuracy': 0.4942105263157895, 'per_class_accuracy': array([0.91726316, 0.92957895, 0.91526316, 0.87642105, 0.85757895,\n",
      "       0.91273684, 0.92621053, 0.89536842, 0.87252632, 0.88547368]), 'per_class_accuracy_mean': 0.8988421052631578, 'precision': array([0.5952381 , 0.81515152, 0.60231214, 0.4109817 , 0.34113208,\n",
      "       0.50785973, 0.65658094, 0.49178645, 0.38011696, 0.4375605 ]), 'precision_mean': 0.5238720103803137, 'recall': array([0.48387097, 0.49585253, 0.5305499 , 0.51458333, 0.48497854,\n",
      "       0.49881235, 0.47797357, 0.48977505, 0.49242424, 0.4713243 ]), 'recall_mean': 0.49401447840937013, 'predicted_class_distribution': array([ 756,  660,  865, 1202, 1325,  827,  661,  974, 1197, 1033]), 'f1': array([0.53380783, 0.61661891, 0.56415809, 0.45698427, 0.40053168,\n",
      "       0.50329539, 0.55321861, 0.49077869, 0.4290429 , 0.45381526]), 'f1_mean': 0.5002251638501983}\n",
      "Saved post-edit metrics saved/edit_2_Spurious_MNIST/method_eac/LeNet-patches/0324_155144/results/edit_idx_1/models/post_edit_metrics.pth\n",
      "Saved post-edit logits to saved/edit_2_Spurious_MNIST/method_eac/LeNet-patches/0324_155144/results/edit_idx_1/models/post_edit_logits.pth\n",
      "All metrics and KNN results can be found in saved/edit_2_Spurious_MNIST/method_eac/LeNet-patches/0324_155144/results/edit_idx_1/models\n",
      "(0324_155318) Starting Trial 3/16...\n"
     ]
    },
    {
     "name": "stderr",
     "output_type": "stream",
     "text": [
      "\n"
     ]
    },
    {
     "name": "stdout",
     "output_type": "stream",
     "text": [
      "saved/edit_2_Spurious_MNIST/method_eac/LeNet-patches/0324_155144/results/edit_idx_2\n",
      "torch.Size([2, 1, 32, 32])\n",
      "3 2\n",
      "Clipping input data to the valid range for imshow with RGB data ([0..1] for floats or [0..255] for integers).\n",
      "Clipping input data to the valid range for imshow with RGB data ([0..1] for floats or [0..255] for integers).\n",
      "Clipping input data to the valid range for imshow with RGB data ([0..1] for floats or [0..255] for integers).\n",
      "Clipping input data to the valid range for imshow with RGB data ([0..1] for floats or [0..255] for integers).\n"
     ]
    },
    {
     "data": {
      "image/png": "[encoded data removed]",
      "text/plain": [
       "<Figure size 500x750 with 6 Axes>"
      ]
     },
     "metadata": {},
     "output_type": "display_data"
    },
    {
     "name": "stdout",
     "output_type": "stream",
     "text": [
      "Seed: 0\n",
      "Editing layer 1\n",
      "Created ModelWrapperSanturkar model with 31340 trainable parameters\n",
      "Restored weights from saved/train/2_Spurious_MNIST-LeNet/0323_100223/models/model_best.pth\n",
      "Using passed in data loader for validation.\n",
      "Performing pre-edit metric calculations on validation set.\n"
     ]
    },
    {
     "name": "stderr",
     "output_type": "stream",
     "text": [
      "100%|███████████████████████████████████████████████████████████| 38/38 [00:00<00:00, 41.03it/s]"
     ]
    },
    {
     "name": "stdout",
     "output_type": "stream",
     "text": [
      "Pre-edit metrics: {'TP': array([450, 538, 520, 497, 452, 422, 436, 472, 456, 453]), 'TN': array([8250, 8296, 8225, 7702, 7784, 8342, 8397, 8265, 7467, 7968]), 'FPs': array([ 320,  119,  293,  838,  784,  316,  195,  257, 1109,  573]), 'FNs': array([480, 547, 462, 463, 480, 420, 472, 506, 468, 506]), 'accuracy': 0.4943157894736842, 'per_class_accuracy': array([0.91578947, 0.92989474, 0.92052632, 0.86305263, 0.86694737,\n",
      "       0.92252632, 0.92978947, 0.91968421, 0.834     , 0.88642105]), 'per_class_accuracy_mean': 0.8988631578947368, 'precision': array([0.58441558, 0.81887367, 0.6396064 , 0.37228464, 0.36569579,\n",
      "       0.57181572, 0.69096672, 0.64746228, 0.2913738 , 0.44152047]), 'precision_mean': 0.5424015070238444, 'recall': array([0.48387097, 0.49585253, 0.52953157, 0.51770833, 0.48497854,\n",
      "       0.50118765, 0.48017621, 0.48261759, 0.49350649, 0.47236705]), 'recall_mean': 0.4941796933975864, 'predicted_class_distribution': array([ 770,  657,  813, 1335, 1236,  738,  631,  729, 1565, 1026]), 'f1': array([0.52941176, 0.61768083, 0.57938719, 0.43311547, 0.41697417,\n",
      "       0.53417722, 0.56660169, 0.55301699, 0.36641221, 0.45642317]), 'f1_mean': 0.5053200697134669}\n",
      "Saved pre-edit metrics saved/edit_2_Spurious_MNIST/method_eac/LeNet-patches/0324_155144/results/edit_idx_2/models/pre_edit_metrics.pth\n",
      "Saved pre-edit logits to saved/edit_2_Spurious_MNIST/method_eac/LeNet-patches/0324_155144/results/edit_idx_2/models/pre_edit_logits.pth\n",
      "Created <class 'trainer.editor.EditorEAC'> editor.\n"
     ]
    },
    {
     "name": "stderr",
     "output_type": "stream",
     "text": [
      "\n"
     ]
    },
    {
     "name": "stdout",
     "output_type": "stream",
     "text": [
      "Is covariance_dataset in config? True\n",
      "Created dataloader for covariance matrix from 2_Spurious_MNIST_hold_out\n",
      "Looking for covariance matrix weights in cache/2_Spurious_MNIST_hold_out/lenet-1\n",
      "Found precomputed cov matrices, returning...\n",
      "n_edit: 2\n",
      "Forwarded edit data thru model\n",
      "Kstar[0] type: <class 'torch.Tensor'> shape: torch.Size([10, 14, 14])\n",
      "vstar type: <class 'torch.Tensor'> shape: torch.Size([2, 20, 5, 5])\n",
      "mstar type: <class 'torch.Tensor'> shape: torch.Size([2, 1, 32, 32])\n",
      "key shape: torch.Size([2, 10, 14, 14]) val shape: torch.Size([2, 20, 5, 5])\n"
     ]
    },
    {
     "name": "stderr",
     "output_type": "stream",
     "text": [
      "tensor(14.9387, device='cuda:0', grad_fn=<DivBackward0>): 100%|█| 30000/30000 [00:40<00:00, 742."
     ]
    },
    {
     "name": "stdout",
     "output_type": "stream",
     "text": [
      "Loss (orig, final): 1.0019233226776123 14.93868637084961\n",
      "L2 norm of weight change: 1833.883056640625\n",
      "Performing post-edit metric calculations on validation set.\n"
     ]
    },
    {
     "name": "stderr",
     "output_type": "stream",
     "text": [
      "\n",
      "100%|███████████████████████████████████████████████████████████| 38/38 [00:00<00:00, 39.28it/s]"
     ]
    },
    {
     "name": "stdout",
     "output_type": "stream",
     "text": [
      "Post-edit metrics: {'TP': array([  73, 1067,  114,  217,  289,    1,    5,    0,    0,    0]), 'TN': array([7629, 5089, 8123, 8025, 6350, 8621, 8486, 8418, 8489, 8536]), 'FPs': array([ 941, 3326,  395,  515, 2218,   37,  106,  104,   87,    5]), 'FNs': array([857,  18, 868, 743, 643, 841, 903, 978, 924, 959]), 'accuracy': 0.18589473684210525, 'per_class_accuracy': array([0.81073684, 0.648     , 0.86705263, 0.86757895, 0.69884211,\n",
      "       0.90757895, 0.89378947, 0.88610526, 0.89357895, 0.89852632]), 'per_class_accuracy_mean': 0.8371789473684211, 'precision': array([0.07199211, 0.24288641, 0.22396857, 0.29644809, 0.11527722,\n",
      "       0.02631579, 0.04504505, 0.        , 0.        , 0.        ]), 'precision_mean': 0.10219332321908729, 'recall': array([0.07849462, 0.98341014, 0.11608961, 0.22604167, 0.31008584,\n",
      "       0.00118765, 0.00550661, 0.        , 0.        , 0.        ]), 'recall_mean': 0.17208161349014955, 'predicted_class_distribution': array([1014, 4393,  509,  732, 2507,   38,  111,  104,   87,    5]), 'f1': array([0.07510288, 0.38955823, 0.15291751, 0.25650118, 0.16807211,\n",
      "       0.00227273, 0.00981354, 0.        , 0.        , 0.        ]), 'f1_mean': 0.10542381846017031}\n",
      "Saved post-edit metrics saved/edit_2_Spurious_MNIST/method_eac/LeNet-patches/0324_155144/results/edit_idx_2/models/post_edit_metrics.pth\n",
      "Saved post-edit logits to saved/edit_2_Spurious_MNIST/method_eac/LeNet-patches/0324_155144/results/edit_idx_2/models/post_edit_logits.pth\n",
      "All metrics and KNN results can be found in saved/edit_2_Spurious_MNIST/method_eac/LeNet-patches/0324_155144/results/edit_idx_2/models\n",
      "(0324_155401) Starting Trial 4/16...\n"
     ]
    },
    {
     "name": "stderr",
     "output_type": "stream",
     "text": [
      "\n",
      "/n/fs/ac-editing/model-editing/src/model/metric.py:205: RuntimeWarning: invalid value encountered in divide\n",
      "  return np.nan_to_num(2 * precisions * recalls / (precisions + recalls))\n"
     ]
    },
    {
     "name": "stdout",
     "output_type": "stream",
     "text": [
      "saved/edit_2_Spurious_MNIST/method_eac/LeNet-patches/0324_155144/results/edit_idx_3\n",
      "torch.Size([2, 1, 32, 32])\n",
      "3 2\n",
      "Clipping input data to the valid range for imshow with RGB data ([0..1] for floats or [0..255] for integers).\n",
      "Clipping input data to the valid range for imshow with RGB data ([0..1] for floats or [0..255] for integers).\n",
      "Clipping input data to the valid range for imshow with RGB data ([0..1] for floats or [0..255] for integers).\n",
      "Clipping input data to the valid range for imshow with RGB data ([0..1] for floats or [0..255] for integers).\n"
     ]
    },
    {
     "data": {
      "image/png": "[encoded data removed]",
      "text/plain": [
       "<Figure size 500x750 with 6 Axes>"
      ]
     },
     "metadata": {},
     "output_type": "display_data"
    },
    {
     "name": "stdout",
     "output_type": "stream",
     "text": [
      "Seed: 0\n",
      "Editing layer 1\n",
      "Created ModelWrapperSanturkar model with 31340 trainable parameters\n",
      "Restored weights from saved/train/2_Spurious_MNIST-LeNet/0323_100223/models/model_best.pth\n",
      "Using passed in data loader for validation.\n",
      "Performing pre-edit metric calculations on validation set.\n"
     ]
    },
    {
     "name": "stderr",
     "output_type": "stream",
     "text": [
      "100%|███████████████████████████████████████████████████████████| 38/38 [00:00<00:00, 40.15it/s]"
     ]
    },
    {
     "name": "stdout",
     "output_type": "stream",
     "text": [
      "Pre-edit metrics: {'TP': array([450, 538, 520, 497, 452, 422, 436, 472, 456, 453]), 'TN': array([8250, 8296, 8225, 7702, 7784, 8342, 8397, 8265, 7467, 7968]), 'FPs': array([ 320,  119,  293,  838,  784,  316,  195,  257, 1109,  573]), 'FNs': array([480, 547, 462, 463, 480, 420, 472, 506, 468, 506]), 'accuracy': 0.4943157894736842, 'per_class_accuracy': array([0.91578947, 0.92989474, 0.92052632, 0.86305263, 0.86694737,\n",
      "       0.92252632, 0.92978947, 0.91968421, 0.834     , 0.88642105]), 'per_class_accuracy_mean': 0.8988631578947368, 'precision': array([0.58441558, 0.81887367, 0.6396064 , 0.37228464, 0.36569579,\n",
      "       0.57181572, 0.69096672, 0.64746228, 0.2913738 , 0.44152047]), 'precision_mean': 0.5424015070238444, 'recall': array([0.48387097, 0.49585253, 0.52953157, 0.51770833, 0.48497854,\n",
      "       0.50118765, 0.48017621, 0.48261759, 0.49350649, 0.47236705]), 'recall_mean': 0.4941796933975864, 'predicted_class_distribution': array([ 770,  657,  813, 1335, 1236,  738,  631,  729, 1565, 1026]), 'f1': array([0.52941176, 0.61768083, 0.57938719, 0.43311547, 0.41697417,\n",
      "       0.53417722, 0.56660169, 0.55301699, 0.36641221, 0.45642317]), 'f1_mean': 0.5053200697134669}\n",
      "Saved pre-edit metrics saved/edit_2_Spurious_MNIST/method_eac/LeNet-patches/0324_155144/results/edit_idx_3/models/pre_edit_metrics.pth\n",
      "Saved pre-edit logits to saved/edit_2_Spurious_MNIST/method_eac/LeNet-patches/0324_155144/results/edit_idx_3/models/pre_edit_logits.pth\n",
      "Created <class 'trainer.editor.EditorEAC'> editor.\n",
      "Is covariance_dataset in config? True\n",
      "Created dataloader for covariance matrix from 2_Spurious_MNIST_hold_out\n",
      "Looking for covariance matrix weights in cache/2_Spurious_MNIST_hold_out/lenet-1\n"
     ]
    },
    {
     "name": "stderr",
     "output_type": "stream",
     "text": [
      "\n"
     ]
    },
    {
     "name": "stdout",
     "output_type": "stream",
     "text": [
      "Found precomputed cov matrices, returning...\n",
      "n_edit: 2\n",
      "Forwarded edit data thru model\n",
      "Kstar[0] type: <class 'torch.Tensor'> shape: torch.Size([10, 14, 14])\n",
      "vstar type: <class 'torch.Tensor'> shape: torch.Size([2, 20, 5, 5])\n",
      "mstar type: <class 'torch.Tensor'> shape: torch.Size([2, 1, 32, 32])\n",
      "key shape: torch.Size([2, 10, 14, 14]) val shape: torch.Size([2, 20, 5, 5])\n"
     ]
    },
    {
     "name": "stderr",
     "output_type": "stream",
     "text": [
      "tensor(2.3110, device='cuda:0', grad_fn=<DivBackward0>): 100%|█| 30000/30000 [00:40<00:00, 740.7"
     ]
    },
    {
     "name": "stdout",
     "output_type": "stream",
     "text": [
      "Loss (orig, final): 0.79411381483078 2.311023235321045\n",
      "L2 norm of weight change: 814.9749145507812\n",
      "Performing post-edit metric calculations on validation set.\n"
     ]
    },
    {
     "name": "stderr",
     "output_type": "stream",
     "text": [
      "\n",
      "100%|███████████████████████████████████████████████████████████| 38/38 [00:00<00:00, 40.53it/s]\n"
     ]
    },
    {
     "name": "stdout",
     "output_type": "stream",
     "text": [
      "Post-edit metrics: {'TP': array([378,  62,  40,  15, 483,  11,   5, 119, 122,   8]), 'TN': array([6962, 8268, 7917, 8431, 4431, 8528, 8562, 8169, 7565, 8410]), 'FPs': array([1608,  147,  601,  109, 4137,  130,   30,  353, 1011,  131]), 'FNs': array([ 552, 1023,  942,  945,  449,  831,  903,  859,  802,  951]), 'accuracy': 0.1308421052631579, 'per_class_accuracy': array([0.77263158, 0.87684211, 0.83757895, 0.88905263, 0.51726316,\n",
      "       0.89884211, 0.90178947, 0.87242105, 0.80915789, 0.88610526]), 'per_class_accuracy_mean': 0.8261684210526316, 'precision': array([0.19033233, 0.29665072, 0.0624025 , 0.12096774, 0.10454545,\n",
      "       0.07801418, 0.14285714, 0.25211864, 0.10767873, 0.05755396]), 'precision_mean': 0.14131213937627068, 'recall': array([0.40645161, 0.05714286, 0.0407332 , 0.015625  , 0.51824034,\n",
      "       0.01306413, 0.00550661, 0.12167689, 0.13203463, 0.00834202]), 'recall_mean': 0.131881729848661, 'predicted_class_distribution': array([1986,  209,  641,  124, 4620,  141,   35,  472, 1133,  139]), 'f1': array([0.25925926, 0.09582689, 0.04929144, 0.02767528, 0.17399135,\n",
      "       0.02238047, 0.01060445, 0.16413793, 0.11861935, 0.01457195]), 'f1_mean': 0.09363583698702876}\n",
      "Saved post-edit metrics saved/edit_2_Spurious_MNIST/method_eac/LeNet-patches/0324_155144/results/edit_idx_3/models/post_edit_metrics.pth\n",
      "Saved post-edit logits to saved/edit_2_Spurious_MNIST/method_eac/LeNet-patches/0324_155144/results/edit_idx_3/models/post_edit_logits.pth\n",
      "All metrics and KNN results can be found in saved/edit_2_Spurious_MNIST/method_eac/LeNet-patches/0324_155144/results/edit_idx_3/models\n",
      "(0324_155443) Starting Trial 5/16...\n",
      "saved/edit_2_Spurious_MNIST/method_eac/LeNet-patches/0324_155144/results/edit_idx_4\n",
      "torch.Size([2, 1, 32, 32])\n",
      "3 2\n",
      "Clipping input data to the valid range for imshow with RGB data ([0..1] for floats or [0..255] for integers).\n",
      "Clipping input data to the valid range for imshow with RGB data ([0..1] for floats or [0..255] for integers).\n",
      "Clipping input data to the valid range for imshow with RGB data ([0..1] for floats or [0..255] for integers).\n",
      "Clipping input data to the valid range for imshow with RGB data ([0..1] for floats or [0..255] for integers).\n"
     ]
    },
    {
     "data": {
      "image/png": "[encoded data removed]",
      "text/plain": [
       "<Figure size 500x750 with 6 Axes>"
      ]
     },
     "metadata": {},
     "output_type": "display_data"
    },
    {
     "name": "stdout",
     "output_type": "stream",
     "text": [
      "Seed: 0\n",
      "Editing layer 1\n",
      "Created ModelWrapperSanturkar model with 31340 trainable parameters\n",
      "Restored weights from saved/train/2_Spurious_MNIST-LeNet/0323_100223/models/model_best.pth\n",
      "Using passed in data loader for validation.\n",
      "Performing pre-edit metric calculations on validation set.\n"
     ]
    },
    {
     "name": "stderr",
     "output_type": "stream",
     "text": [
      "100%|███████████████████████████████████████████████████████████| 38/38 [00:00<00:00, 40.56it/s]"
     ]
    },
    {
     "name": "stdout",
     "output_type": "stream",
     "text": [
      "Pre-edit metrics: {'TP': array([450, 538, 520, 497, 452, 422, 436, 472, 456, 453]), 'TN': array([8250, 8296, 8225, 7702, 7784, 8342, 8397, 8265, 7467, 7968]), 'FPs': array([ 320,  119,  293,  838,  784,  316,  195,  257, 1109,  573]), 'FNs': array([480, 547, 462, 463, 480, 420, 472, 506, 468, 506]), 'accuracy': 0.4943157894736842, 'per_class_accuracy': array([0.91578947, 0.92989474, 0.92052632, 0.86305263, 0.86694737,\n",
      "       0.92252632, 0.92978947, 0.91968421, 0.834     , 0.88642105]), 'per_class_accuracy_mean': 0.8988631578947368, 'precision': array([0.58441558, 0.81887367, 0.6396064 , 0.37228464, 0.36569579,\n",
      "       0.57181572, 0.69096672, 0.64746228, 0.2913738 , 0.44152047]), 'precision_mean': 0.5424015070238444, 'recall': array([0.48387097, 0.49585253, 0.52953157, 0.51770833, 0.48497854,\n",
      "       0.50118765, 0.48017621, 0.48261759, 0.49350649, 0.47236705]), 'recall_mean': 0.4941796933975864, 'predicted_class_distribution': array([ 770,  657,  813, 1335, 1236,  738,  631,  729, 1565, 1026]), 'f1': array([0.52941176, 0.61768083, 0.57938719, 0.43311547, 0.41697417,\n",
      "       0.53417722, 0.56660169, 0.55301699, 0.36641221, 0.45642317]), 'f1_mean': 0.5053200697134669}\n",
      "Saved pre-edit metrics saved/edit_2_Spurious_MNIST/method_eac/LeNet-patches/0324_155144/results/edit_idx_4/models/pre_edit_metrics.pth\n",
      "Saved pre-edit logits to saved/edit_2_Spurious_MNIST/method_eac/LeNet-patches/0324_155144/results/edit_idx_4/models/pre_edit_logits.pth\n",
      "Created <class 'trainer.editor.EditorEAC'> editor.\n",
      "Is covariance_dataset in config? True\n",
      "Created dataloader for covariance matrix from 2_Spurious_MNIST_hold_out\n",
      "Looking for covariance matrix weights in cache/2_Spurious_MNIST_hold_out/lenet-1\n"
     ]
    },
    {
     "name": "stderr",
     "output_type": "stream",
     "text": [
      "\n"
     ]
    },
    {
     "name": "stdout",
     "output_type": "stream",
     "text": [
      "Found precomputed cov matrices, returning...\n",
      "n_edit: 2\n",
      "Forwarded edit data thru model\n",
      "Kstar[0] type: <class 'torch.Tensor'> shape: torch.Size([10, 14, 14])\n",
      "vstar type: <class 'torch.Tensor'> shape: torch.Size([2, 20, 5, 5])\n",
      "mstar type: <class 'torch.Tensor'> shape: torch.Size([2, 1, 32, 32])\n",
      "key shape: torch.Size([2, 10, 14, 14]) val shape: torch.Size([2, 20, 5, 5])\n"
     ]
    },
    {
     "name": "stderr",
     "output_type": "stream",
     "text": [
      "tensor(1.1273, device='cuda:0', grad_fn=<DivBackward0>): 100%|█| 30000/30000 [00:37<00:00, 790.9"
     ]
    },
    {
     "name": "stdout",
     "output_type": "stream",
     "text": [
      "Loss (orig, final): 1.3404861688613892 1.12726628780365\n",
      "L2 norm of weight change: 6.831904411315918\n",
      "Performing post-edit metric calculations on validation set.\n"
     ]
    },
    {
     "name": "stderr",
     "output_type": "stream",
     "text": [
      "\n",
      "100%|███████████████████████████████████████████████████████████| 38/38 [00:00<00:00, 40.82it/s]"
     ]
    },
    {
     "name": "stdout",
     "output_type": "stream",
     "text": [
      "Post-edit metrics: {'TP': array([450, 538, 521, 496, 454, 420, 421, 473, 455, 457]), 'TN': array([8292, 8327, 8223, 7679, 7738, 8266, 8508, 8245, 7455, 7952]), 'FPs': array([ 278,   88,  295,  861,  830,  392,   84,  277, 1121,  589]), 'FNs': array([480, 547, 461, 464, 478, 422, 487, 505, 469, 502]), 'accuracy': 0.49315789473684213, 'per_class_accuracy': array([0.92021053, 0.93315789, 0.92042105, 0.86052632, 0.86231579,\n",
      "       0.91431579, 0.93989474, 0.91768421, 0.83263158, 0.88515789]), 'per_class_accuracy_mean': 0.8986315789473686, 'precision': array([0.61813187, 0.85942492, 0.63848039, 0.36551216, 0.35358255,\n",
      "       0.51724138, 0.83366337, 0.63066667, 0.28870558, 0.43690249]), 'precision_mean': 0.5542311375837955, 'recall': array([0.48387097, 0.49585253, 0.5305499 , 0.51666667, 0.48712446,\n",
      "       0.49881235, 0.46365639, 0.48364008, 0.49242424, 0.47653806]), 'recall_mean': 0.4929135654569775, 'predicted_class_distribution': array([ 728,  626,  816, 1357, 1284,  812,  505,  750, 1576, 1046]), 'f1': array([0.54282268, 0.628872  , 0.57953281, 0.42813984, 0.40974729,\n",
      "       0.50785973, 0.59589526, 0.5474537 , 0.364     , 0.45586035]), 'f1_mean': 0.5060183670377236}\n",
      "Saved post-edit metrics saved/edit_2_Spurious_MNIST/method_eac/LeNet-patches/0324_155144/results/edit_idx_4/models/post_edit_metrics.pth\n",
      "Saved post-edit logits to saved/edit_2_Spurious_MNIST/method_eac/LeNet-patches/0324_155144/results/edit_idx_4/models/post_edit_logits.pth\n",
      "All metrics and KNN results can be found in saved/edit_2_Spurious_MNIST/method_eac/LeNet-patches/0324_155144/results/edit_idx_4/models\n",
      "(0324_155523) Starting Trial 6/16...\n"
     ]
    },
    {
     "name": "stderr",
     "output_type": "stream",
     "text": [
      "\n"
     ]
    },
    {
     "name": "stdout",
     "output_type": "stream",
     "text": [
      "saved/edit_2_Spurious_MNIST/method_eac/LeNet-patches/0324_155144/results/edit_idx_5\n",
      "torch.Size([2, 1, 32, 32])\n",
      "3 2\n",
      "Clipping input data to the valid range for imshow with RGB data ([0..1] for floats or [0..255] for integers).\n",
      "Clipping input data to the valid range for imshow with RGB data ([0..1] for floats or [0..255] for integers).\n",
      "Clipping input data to the valid range for imshow with RGB data ([0..1] for floats or [0..255] for integers).\n",
      "Clipping input data to the valid range for imshow with RGB data ([0..1] for floats or [0..255] for integers).\n"
     ]
    },
    {
     "data": {
      "image/png": "[encoded data removed]",
      "text/plain": [
       "<Figure size 500x750 with 6 Axes>"
      ]
     },
     "metadata": {},
     "output_type": "display_data"
    },
    {
     "name": "stdout",
     "output_type": "stream",
     "text": [
      "Seed: 0\n",
      "Editing layer 1\n",
      "Created ModelWrapperSanturkar model with 31340 trainable parameters\n",
      "Restored weights from saved/train/2_Spurious_MNIST-LeNet/0323_100223/models/model_best.pth\n",
      "Using passed in data loader for validation.\n",
      "Performing pre-edit metric calculations on validation set.\n"
     ]
    },
    {
     "name": "stderr",
     "output_type": "stream",
     "text": [
      "100%|███████████████████████████████████████████████████████████| 38/38 [00:00<00:00, 39.15it/s]"
     ]
    },
    {
     "name": "stdout",
     "output_type": "stream",
     "text": [
      "Pre-edit metrics: {'TP': array([450, 538, 520, 497, 452, 422, 436, 472, 456, 453]), 'TN': array([8250, 8296, 8225, 7702, 7784, 8342, 8397, 8265, 7467, 7968]), 'FPs': array([ 320,  119,  293,  838,  784,  316,  195,  257, 1109,  573]), 'FNs': array([480, 547, 462, 463, 480, 420, 472, 506, 468, 506]), 'accuracy': 0.4943157894736842, 'per_class_accuracy': array([0.91578947, 0.92989474, 0.92052632, 0.86305263, 0.86694737,\n",
      "       0.92252632, 0.92978947, 0.91968421, 0.834     , 0.88642105]), 'per_class_accuracy_mean': 0.8988631578947368, 'precision': array([0.58441558, 0.81887367, 0.6396064 , 0.37228464, 0.36569579,\n",
      "       0.57181572, 0.69096672, 0.64746228, 0.2913738 , 0.44152047]), 'precision_mean': 0.5424015070238444, 'recall': array([0.48387097, 0.49585253, 0.52953157, 0.51770833, 0.48497854,\n",
      "       0.50118765, 0.48017621, 0.48261759, 0.49350649, 0.47236705]), 'recall_mean': 0.4941796933975864, 'predicted_class_distribution': array([ 770,  657,  813, 1335, 1236,  738,  631,  729, 1565, 1026]), 'f1': array([0.52941176, 0.61768083, 0.57938719, 0.43311547, 0.41697417,\n",
      "       0.53417722, 0.56660169, 0.55301699, 0.36641221, 0.45642317]), 'f1_mean': 0.5053200697134669}\n",
      "Saved pre-edit metrics saved/edit_2_Spurious_MNIST/method_eac/LeNet-patches/0324_155144/results/edit_idx_5/models/pre_edit_metrics.pth\n",
      "Saved pre-edit logits to saved/edit_2_Spurious_MNIST/method_eac/LeNet-patches/0324_155144/results/edit_idx_5/models/pre_edit_logits.pth\n",
      "Created <class 'trainer.editor.EditorEAC'> editor.\n",
      "Is covariance_dataset in config? True\n",
      "Created dataloader for covariance matrix from 2_Spurious_MNIST_hold_out\n",
      "Looking for covariance matrix weights in cache/2_Spurious_MNIST_hold_out/lenet-1\n"
     ]
    },
    {
     "name": "stderr",
     "output_type": "stream",
     "text": [
      "\n"
     ]
    },
    {
     "name": "stdout",
     "output_type": "stream",
     "text": [
      "Found precomputed cov matrices, returning...\n",
      "n_edit: 2\n",
      "Forwarded edit data thru model\n",
      "Kstar[0] type: <class 'torch.Tensor'> shape: torch.Size([10, 14, 14])\n",
      "vstar type: <class 'torch.Tensor'> shape: torch.Size([2, 20, 5, 5])\n",
      "mstar type: <class 'torch.Tensor'> shape: torch.Size([2, 1, 32, 32])\n",
      "key shape: torch.Size([2, 10, 14, 14]) val shape: torch.Size([2, 20, 5, 5])\n"
     ]
    },
    {
     "name": "stderr",
     "output_type": "stream",
     "text": [
      "tensor(1.3990, device='cuda:0', grad_fn=<DivBackward0>): 100%|█| 30000/30000 [00:39<00:00, 756.4"
     ]
    },
    {
     "name": "stdout",
     "output_type": "stream",
     "text": [
      "Loss (orig, final): 1.0980747938156128 1.3989628553390503\n",
      "L2 norm of weight change: 361.12774658203125\n",
      "Performing post-edit metric calculations on validation set.\n"
     ]
    },
    {
     "name": "stderr",
     "output_type": "stream",
     "text": [
      "\n",
      "100%|███████████████████████████████████████████████████████████| 38/38 [00:00<00:00, 39.42it/s]"
     ]
    },
    {
     "name": "stdout",
     "output_type": "stream",
     "text": [
      "Post-edit metrics: {'TP': array([ 37,   5, 887, 298, 307,   6,   0,  13,   0,   0]), 'TN': array([8469, 8414, 4073, 6715, 7004, 8651, 8592, 8518, 8576, 8541]), 'FPs': array([ 101,    1, 4445, 1825, 1564,    7,    0,    4,    0,    0]), 'FNs': array([ 893, 1080,   95,  662,  625,  836,  908,  965,  924,  959]), 'accuracy': 0.16347368421052633, 'per_class_accuracy': array([0.89536842, 0.88621053, 0.52210526, 0.73821053, 0.76957895,\n",
      "       0.91126316, 0.90442105, 0.898     , 0.90273684, 0.89905263]), 'per_class_accuracy_mean': 0.8326947368421053, 'precision': array([0.26811594, 0.83333333, 0.16635409, 0.1403674 , 0.16408338,\n",
      "       0.46153846, 0.        , 0.76470588, 0.        , 0.        ]), 'precision_mean': 0.27984984902647564, 'recall': array([0.03978495, 0.00460829, 0.90325866, 0.31041667, 0.32939914,\n",
      "       0.00712589, 0.        , 0.01329243, 0.        , 0.        ]), 'recall_mean': 0.16078860295436578, 'predicted_class_distribution': array([ 138,    6, 5332, 2123, 1871,   13,    0,   17,    0,    0]), 'f1': array([0.06928839, 0.0091659 , 0.28096294, 0.1933182 , 0.21905102,\n",
      "       0.01403509, 0.        , 0.02613065, 0.        , 0.        ]), 'f1_mean': 0.08119521861692325}\n",
      "Saved post-edit metrics saved/edit_2_Spurious_MNIST/method_eac/LeNet-patches/0324_155144/results/edit_idx_5/models/post_edit_metrics.pth\n",
      "Saved post-edit logits to saved/edit_2_Spurious_MNIST/method_eac/LeNet-patches/0324_155144/results/edit_idx_5/models/post_edit_logits.pth\n",
      "All metrics and KNN results can be found in saved/edit_2_Spurious_MNIST/method_eac/LeNet-patches/0324_155144/results/edit_idx_5/models\n",
      "(0324_155605) Starting Trial 7/16...\n"
     ]
    },
    {
     "name": "stderr",
     "output_type": "stream",
     "text": [
      "\n",
      "/n/fs/ac-editing/model-editing/src/model/metric.py:168: RuntimeWarning: invalid value encountered in divide\n",
      "  return np.nan_to_num(TPs / (TPs + FPs))\n",
      "/n/fs/ac-editing/model-editing/src/model/metric.py:205: RuntimeWarning: invalid value encountered in divide\n",
      "  return np.nan_to_num(2 * precisions * recalls / (precisions + recalls))\n"
     ]
    },
    {
     "name": "stdout",
     "output_type": "stream",
     "text": [
      "saved/edit_2_Spurious_MNIST/method_eac/LeNet-patches/0324_155144/results/edit_idx_6\n",
      "torch.Size([2, 1, 32, 32])\n",
      "3 2\n",
      "Clipping input data to the valid range for imshow with RGB data ([0..1] for floats or [0..255] for integers).\n",
      "Clipping input data to the valid range for imshow with RGB data ([0..1] for floats or [0..255] for integers).\n",
      "Clipping input data to the valid range for imshow with RGB data ([0..1] for floats or [0..255] for integers).\n",
      "Clipping input data to the valid range for imshow with RGB data ([0..1] for floats or [0..255] for integers).\n"
     ]
    },
    {
     "data": {
      "image/png": "[encoded data removed]",
      "text/plain": [
       "<Figure size 500x750 with 6 Axes>"
      ]
     },
     "metadata": {},
     "output_type": "display_data"
    },
    {
     "name": "stdout",
     "output_type": "stream",
     "text": [
      "Seed: 0\n",
      "Editing layer 1\n",
      "Created ModelWrapperSanturkar model with 31340 trainable parameters\n",
      "Restored weights from saved/train/2_Spurious_MNIST-LeNet/0323_100223/models/model_best.pth\n",
      "Using passed in data loader for validation.\n",
      "Performing pre-edit metric calculations on validation set.\n"
     ]
    },
    {
     "name": "stderr",
     "output_type": "stream",
     "text": [
      "100%|███████████████████████████████████████████████████████████| 38/38 [00:00<00:00, 39.08it/s]"
     ]
    },
    {
     "name": "stdout",
     "output_type": "stream",
     "text": [
      "Pre-edit metrics: {'TP': array([450, 538, 520, 497, 452, 422, 436, 472, 456, 453]), 'TN': array([8250, 8296, 8225, 7702, 7784, 8342, 8397, 8265, 7467, 7968]), 'FPs': array([ 320,  119,  293,  838,  784,  316,  195,  257, 1109,  573]), 'FNs': array([480, 547, 462, 463, 480, 420, 472, 506, 468, 506]), 'accuracy': 0.4943157894736842, 'per_class_accuracy': array([0.91578947, 0.92989474, 0.92052632, 0.86305263, 0.86694737,\n",
      "       0.92252632, 0.92978947, 0.91968421, 0.834     , 0.88642105]), 'per_class_accuracy_mean': 0.8988631578947368, 'precision': array([0.58441558, 0.81887367, 0.6396064 , 0.37228464, 0.36569579,\n",
      "       0.57181572, 0.69096672, 0.64746228, 0.2913738 , 0.44152047]), 'precision_mean': 0.5424015070238444, 'recall': array([0.48387097, 0.49585253, 0.52953157, 0.51770833, 0.48497854,\n",
      "       0.50118765, 0.48017621, 0.48261759, 0.49350649, 0.47236705]), 'recall_mean': 0.4941796933975864, 'predicted_class_distribution': array([ 770,  657,  813, 1335, 1236,  738,  631,  729, 1565, 1026]), 'f1': array([0.52941176, 0.61768083, 0.57938719, 0.43311547, 0.41697417,\n",
      "       0.53417722, 0.56660169, 0.55301699, 0.36641221, 0.45642317]), 'f1_mean': 0.5053200697134669}\n",
      "Saved pre-edit metrics saved/edit_2_Spurious_MNIST/method_eac/LeNet-patches/0324_155144/results/edit_idx_6/models/pre_edit_metrics.pth\n",
      "Saved pre-edit logits to saved/edit_2_Spurious_MNIST/method_eac/LeNet-patches/0324_155144/results/edit_idx_6/models/pre_edit_logits.pth\n",
      "Created <class 'trainer.editor.EditorEAC'> editor.\n",
      "Is covariance_dataset in config? True\n",
      "Created dataloader for covariance matrix from 2_Spurious_MNIST_hold_out\n",
      "Looking for covariance matrix weights in cache/2_Spurious_MNIST_hold_out/lenet-1\n"
     ]
    },
    {
     "name": "stderr",
     "output_type": "stream",
     "text": [
      "\n"
     ]
    },
    {
     "name": "stdout",
     "output_type": "stream",
     "text": [
      "Found precomputed cov matrices, returning...\n",
      "n_edit: 2\n",
      "Forwarded edit data thru model\n",
      "Kstar[0] type: <class 'torch.Tensor'> shape: torch.Size([10, 14, 14])\n",
      "vstar type: <class 'torch.Tensor'> shape: torch.Size([2, 20, 5, 5])\n",
      "mstar type: <class 'torch.Tensor'> shape: torch.Size([2, 1, 32, 32])\n",
      "key shape: torch.Size([2, 10, 14, 14]) val shape: torch.Size([2, 20, 5, 5])\n"
     ]
    },
    {
     "name": "stderr",
     "output_type": "stream",
     "text": [
      "tensor(2.8958, device='cuda:0', grad_fn=<DivBackward0>): 100%|█| 30000/30000 [00:39<00:00, 755.7"
     ]
    },
    {
     "name": "stdout",
     "output_type": "stream",
     "text": [
      "Loss (orig, final): 1.0704399347305298 2.8958418369293213\n",
      "L2 norm of weight change: 645.2919311523438\n",
      "Performing post-edit metric calculations on validation set.\n"
     ]
    },
    {
     "name": "stderr",
     "output_type": "stream",
     "text": [
      "\n",
      "100%|███████████████████████████████████████████████████████████| 38/38 [00:00<00:00, 41.15it/s]"
     ]
    },
    {
     "name": "stdout",
     "output_type": "stream",
     "text": [
      "Post-edit metrics: {'TP': array([ 63,  97, 217, 201, 281,  30,   0,   0,   0,  12]), 'TN': array([8051, 8360, 4941, 7063, 6039, 8255, 8592, 8489, 8576, 8535]), 'FPs': array([ 519,   55, 3577, 1477, 2529,  403,    0,   33,    0,    6]), 'FNs': array([867, 988, 765, 759, 651, 812, 908, 978, 924, 947]), 'accuracy': 0.0948421052631579, 'per_class_accuracy': array([0.85410526, 0.89021053, 0.54294737, 0.76463158, 0.66526316,\n",
      "       0.87210526, 0.90442105, 0.89357895, 0.90273684, 0.89968421]), 'per_class_accuracy_mean': 0.8189684210526315, 'precision': array([0.10824742, 0.63815789, 0.05719557, 0.11978546, 0.1       ,\n",
      "       0.06928406, 0.        , 0.        , 0.        , 0.66666667]), 'precision_mean': 0.1759337079584386, 'recall': array([0.06774194, 0.08940092, 0.2209776 , 0.209375  , 0.30150215,\n",
      "       0.03562945, 0.        , 0.        , 0.        , 0.01251303]), 'recall_mean': 0.09371400878995029, 'predicted_class_distribution': array([ 582,  152, 3794, 1678, 2810,  433,    0,   33,    0,   18]), 'f1': array([0.08333333, 0.15683104, 0.09087102, 0.15238817, 0.15018707,\n",
      "       0.04705882, 0.        , 0.        , 0.        , 0.02456499]), 'f1_mean': 0.0705234454964648}\n",
      "Saved post-edit metrics saved/edit_2_Spurious_MNIST/method_eac/LeNet-patches/0324_155144/results/edit_idx_6/models/post_edit_metrics.pth\n",
      "Saved post-edit logits to saved/edit_2_Spurious_MNIST/method_eac/LeNet-patches/0324_155144/results/edit_idx_6/models/post_edit_logits.pth\n",
      "All metrics and KNN results can be found in saved/edit_2_Spurious_MNIST/method_eac/LeNet-patches/0324_155144/results/edit_idx_6/models\n",
      "(0324_155647) Starting Trial 8/16...\n"
     ]
    },
    {
     "name": "stderr",
     "output_type": "stream",
     "text": [
      "\n",
      "/n/fs/ac-editing/model-editing/src/model/metric.py:168: RuntimeWarning: invalid value encountered in divide\n",
      "  return np.nan_to_num(TPs / (TPs + FPs))\n",
      "/n/fs/ac-editing/model-editing/src/model/metric.py:205: RuntimeWarning: invalid value encountered in divide\n",
      "  return np.nan_to_num(2 * precisions * recalls / (precisions + recalls))\n"
     ]
    },
    {
     "name": "stdout",
     "output_type": "stream",
     "text": [
      "saved/edit_2_Spurious_MNIST/method_eac/LeNet-patches/0324_155144/results/edit_idx_7\n",
      "torch.Size([2, 1, 32, 32])\n",
      "3 2\n",
      "Clipping input data to the valid range for imshow with RGB data ([0..1] for floats or [0..255] for integers).\n",
      "Clipping input data to the valid range for imshow with RGB data ([0..1] for floats or [0..255] for integers).\n",
      "Clipping input data to the valid range for imshow with RGB data ([0..1] for floats or [0..255] for integers).\n",
      "Clipping input data to the valid range for imshow with RGB data ([0..1] for floats or [0..255] for integers).\n"
     ]
    },
    {
     "data": {
      "image/png": "[encoded data removed]",
      "text/plain": [
       "<Figure size 500x750 with 6 Axes>"
      ]
     },
     "metadata": {},
     "output_type": "display_data"
    },
    {
     "name": "stdout",
     "output_type": "stream",
     "text": [
      "Seed: 0\n",
      "Editing layer 1\n",
      "Created ModelWrapperSanturkar model with 31340 trainable parameters\n",
      "Restored weights from saved/train/2_Spurious_MNIST-LeNet/0323_100223/models/model_best.pth\n",
      "Using passed in data loader for validation.\n",
      "Performing pre-edit metric calculations on validation set.\n"
     ]
    },
    {
     "name": "stderr",
     "output_type": "stream",
     "text": [
      "100%|███████████████████████████████████████████████████████████| 38/38 [00:00<00:00, 40.33it/s]"
     ]
    },
    {
     "name": "stdout",
     "output_type": "stream",
     "text": [
      "Pre-edit metrics: {'TP': array([450, 538, 520, 497, 452, 422, 436, 472, 456, 453]), 'TN': array([8250, 8296, 8225, 7702, 7784, 8342, 8397, 8265, 7467, 7968]), 'FPs': array([ 320,  119,  293,  838,  784,  316,  195,  257, 1109,  573]), 'FNs': array([480, 547, 462, 463, 480, 420, 472, 506, 468, 506]), 'accuracy': 0.4943157894736842, 'per_class_accuracy': array([0.91578947, 0.92989474, 0.92052632, 0.86305263, 0.86694737,\n",
      "       0.92252632, 0.92978947, 0.91968421, 0.834     , 0.88642105]), 'per_class_accuracy_mean': 0.8988631578947368, 'precision': array([0.58441558, 0.81887367, 0.6396064 , 0.37228464, 0.36569579,\n",
      "       0.57181572, 0.69096672, 0.64746228, 0.2913738 , 0.44152047]), 'precision_mean': 0.5424015070238444, 'recall': array([0.48387097, 0.49585253, 0.52953157, 0.51770833, 0.48497854,\n",
      "       0.50118765, 0.48017621, 0.48261759, 0.49350649, 0.47236705]), 'recall_mean': 0.4941796933975864, 'predicted_class_distribution': array([ 770,  657,  813, 1335, 1236,  738,  631,  729, 1565, 1026]), 'f1': array([0.52941176, 0.61768083, 0.57938719, 0.43311547, 0.41697417,\n",
      "       0.53417722, 0.56660169, 0.55301699, 0.36641221, 0.45642317]), 'f1_mean': 0.5053200697134669}\n",
      "Saved pre-edit metrics saved/edit_2_Spurious_MNIST/method_eac/LeNet-patches/0324_155144/results/edit_idx_7/models/pre_edit_metrics.pth\n",
      "Saved pre-edit logits to saved/edit_2_Spurious_MNIST/method_eac/LeNet-patches/0324_155144/results/edit_idx_7/models/pre_edit_logits.pth\n",
      "Created <class 'trainer.editor.EditorEAC'> editor.\n",
      "Is covariance_dataset in config? True\n",
      "Created dataloader for covariance matrix from 2_Spurious_MNIST_hold_out\n",
      "Looking for covariance matrix weights in cache/2_Spurious_MNIST_hold_out/lenet-1\n"
     ]
    },
    {
     "name": "stderr",
     "output_type": "stream",
     "text": [
      "\n"
     ]
    },
    {
     "name": "stdout",
     "output_type": "stream",
     "text": [
      "Found precomputed cov matrices, returning...\n",
      "n_edit: 2\n",
      "Forwarded edit data thru model\n",
      "Kstar[0] type: <class 'torch.Tensor'> shape: torch.Size([10, 14, 14])\n",
      "vstar type: <class 'torch.Tensor'> shape: torch.Size([2, 20, 5, 5])\n",
      "mstar type: <class 'torch.Tensor'> shape: torch.Size([2, 1, 32, 32])\n",
      "key shape: torch.Size([2, 10, 14, 14]) val shape: torch.Size([2, 20, 5, 5])\n"
     ]
    },
    {
     "name": "stderr",
     "output_type": "stream",
     "text": [
      "tensor(0.6391, device='cuda:0', grad_fn=<DivBackward0>): 100%|█| 30000/30000 [00:40<00:00, 734.8"
     ]
    },
    {
     "name": "stdout",
     "output_type": "stream",
     "text": [
      "Loss (orig, final): 1.213748574256897 0.6390548348426819\n",
      "L2 norm of weight change: 134.9217071533203\n",
      "Performing post-edit metric calculations on validation set.\n"
     ]
    },
    {
     "name": "stderr",
     "output_type": "stream",
     "text": [
      "\n",
      "100%|███████████████████████████████████████████████████████████| 38/38 [00:00<00:00, 39.63it/s]"
     ]
    },
    {
     "name": "stdout",
     "output_type": "stream",
     "text": [
      "Post-edit metrics: {'TP': array([ 21, 175, 544, 255, 140,   4,   0,   0,   0,   0]), 'TN': array([8518, 8023, 4181, 6728, 6978, 8540, 8592, 8462, 8576, 8541]), 'FPs': array([  52,  392, 4337, 1812, 1590,  118,    0,   60,    0,    0]), 'FNs': array([909, 910, 438, 705, 792, 838, 908, 978, 924, 959]), 'accuracy': 0.11989473684210526, 'per_class_accuracy': array([0.89884211, 0.86294737, 0.49736842, 0.73505263, 0.74926316,\n",
      "       0.89936842, 0.90442105, 0.89073684, 0.90273684, 0.89905263]), 'per_class_accuracy_mean': 0.823978947368421, 'precision': array([0.28767123, 0.30864198, 0.11145257, 0.1233672 , 0.08092486,\n",
      "       0.03278689, 0.        , 0.        , 0.        , 0.        ]), 'precision_mean': 0.09448447189559098, 'recall': array([0.02258065, 0.16129032, 0.55397149, 0.265625  , 0.15021459,\n",
      "       0.00475059, 0.        , 0.        , 0.        , 0.        ]), 'recall_mean': 0.11584326406025525, 'predicted_class_distribution': array([  73,  567, 4881, 2067, 1730,  122,    0,   60,    0,    0]), 'f1': array([0.04187438, 0.21186441, 0.18557053, 0.16848365, 0.10518407,\n",
      "       0.00829876, 0.        , 0.        , 0.        , 0.        ]), 'f1_mean': 0.07212757851713586}\n",
      "Saved post-edit metrics saved/edit_2_Spurious_MNIST/method_eac/LeNet-patches/0324_155144/results/edit_idx_7/models/post_edit_metrics.pth\n",
      "Saved post-edit logits to saved/edit_2_Spurious_MNIST/method_eac/LeNet-patches/0324_155144/results/edit_idx_7/models/post_edit_logits.pth\n",
      "All metrics and KNN results can be found in saved/edit_2_Spurious_MNIST/method_eac/LeNet-patches/0324_155144/results/edit_idx_7/models\n",
      "(0324_155730) Starting Trial 9/16...\n"
     ]
    },
    {
     "name": "stderr",
     "output_type": "stream",
     "text": [
      "\n",
      "/n/fs/ac-editing/model-editing/src/model/metric.py:168: RuntimeWarning: invalid value encountered in divide\n",
      "  return np.nan_to_num(TPs / (TPs + FPs))\n",
      "/n/fs/ac-editing/model-editing/src/model/metric.py:205: RuntimeWarning: invalid value encountered in divide\n",
      "  return np.nan_to_num(2 * precisions * recalls / (precisions + recalls))\n"
     ]
    },
    {
     "name": "stdout",
     "output_type": "stream",
     "text": [
      "saved/edit_2_Spurious_MNIST/method_eac/LeNet-patches/0324_155144/results/edit_idx_8\n",
      "torch.Size([2, 1, 32, 32])\n",
      "3 2\n",
      "Clipping input data to the valid range for imshow with RGB data ([0..1] for floats or [0..255] for integers).\n",
      "Clipping input data to the valid range for imshow with RGB data ([0..1] for floats or [0..255] for integers).\n",
      "Clipping input data to the valid range for imshow with RGB data ([0..1] for floats or [0..255] for integers).\n",
      "Clipping input data to the valid range for imshow with RGB data ([0..1] for floats or [0..255] for integers).\n"
     ]
    },
    {
     "data": {
      "image/png": "[encoded data removed]",
      "text/plain": [
       "<Figure size 500x750 with 6 Axes>"
      ]
     },
     "metadata": {},
     "output_type": "display_data"
    },
    {
     "name": "stdout",
     "output_type": "stream",
     "text": [
      "Seed: 0\n",
      "Editing layer 1\n",
      "Created ModelWrapperSanturkar model with 31340 trainable parameters\n",
      "Restored weights from saved/train/2_Spurious_MNIST-LeNet/0323_100223/models/model_best.pth\n",
      "Using passed in data loader for validation.\n",
      "Performing pre-edit metric calculations on validation set.\n"
     ]
    },
    {
     "name": "stderr",
     "output_type": "stream",
     "text": [
      "100%|███████████████████████████████████████████████████████████| 38/38 [00:00<00:00, 41.06it/s]"
     ]
    },
    {
     "name": "stdout",
     "output_type": "stream",
     "text": [
      "Pre-edit metrics: {'TP': array([450, 538, 520, 497, 452, 422, 436, 472, 456, 453]), 'TN': array([8250, 8296, 8225, 7702, 7784, 8342, 8397, 8265, 7467, 7968]), 'FPs': array([ 320,  119,  293,  838,  784,  316,  195,  257, 1109,  573]), 'FNs': array([480, 547, 462, 463, 480, 420, 472, 506, 468, 506]), 'accuracy': 0.4943157894736842, 'per_class_accuracy': array([0.91578947, 0.92989474, 0.92052632, 0.86305263, 0.86694737,\n",
      "       0.92252632, 0.92978947, 0.91968421, 0.834     , 0.88642105]), 'per_class_accuracy_mean': 0.8988631578947368, 'precision': array([0.58441558, 0.81887367, 0.6396064 , 0.37228464, 0.36569579,\n",
      "       0.57181572, 0.69096672, 0.64746228, 0.2913738 , 0.44152047]), 'precision_mean': 0.5424015070238444, 'recall': array([0.48387097, 0.49585253, 0.52953157, 0.51770833, 0.48497854,\n",
      "       0.50118765, 0.48017621, 0.48261759, 0.49350649, 0.47236705]), 'recall_mean': 0.4941796933975864, 'predicted_class_distribution': array([ 770,  657,  813, 1335, 1236,  738,  631,  729, 1565, 1026]), 'f1': array([0.52941176, 0.61768083, 0.57938719, 0.43311547, 0.41697417,\n",
      "       0.53417722, 0.56660169, 0.55301699, 0.36641221, 0.45642317]), 'f1_mean': 0.5053200697134669}\n",
      "Saved pre-edit metrics saved/edit_2_Spurious_MNIST/method_eac/LeNet-patches/0324_155144/results/edit_idx_8/models/pre_edit_metrics.pth\n",
      "Saved pre-edit logits to saved/edit_2_Spurious_MNIST/method_eac/LeNet-patches/0324_155144/results/edit_idx_8/models/pre_edit_logits.pth\n",
      "Created <class 'trainer.editor.EditorEAC'> editor.\n"
     ]
    },
    {
     "name": "stderr",
     "output_type": "stream",
     "text": [
      "\n"
     ]
    },
    {
     "name": "stdout",
     "output_type": "stream",
     "text": [
      "Is covariance_dataset in config? True\n",
      "Created dataloader for covariance matrix from 2_Spurious_MNIST_hold_out\n",
      "Looking for covariance matrix weights in cache/2_Spurious_MNIST_hold_out/lenet-1\n",
      "Found precomputed cov matrices, returning...\n",
      "n_edit: 2\n",
      "Forwarded edit data thru model\n",
      "Kstar[0] type: <class 'torch.Tensor'> shape: torch.Size([10, 14, 14])\n",
      "vstar type: <class 'torch.Tensor'> shape: torch.Size([2, 20, 5, 5])\n",
      "mstar type: <class 'torch.Tensor'> shape: torch.Size([2, 1, 32, 32])\n",
      "key shape: torch.Size([2, 10, 14, 14]) val shape: torch.Size([2, 20, 5, 5])\n"
     ]
    },
    {
     "name": "stderr",
     "output_type": "stream",
     "text": [
      "tensor(0.9263, device='cuda:0', grad_fn=<DivBackward0>): 100%|█| 30000/30000 [00:39<00:00, 759.2\n"
     ]
    },
    {
     "name": "stdout",
     "output_type": "stream",
     "text": [
      "Loss (orig, final): 1.1861140727996826 0.9262608885765076\n",
      "L2 norm of weight change: 284.195068359375\n",
      "Performing post-edit metric calculations on validation set.\n"
     ]
    },
    {
     "name": "stderr",
     "output_type": "stream",
     "text": [
      "100%|███████████████████████████████████████████████████████████| 38/38 [00:00<00:00, 39.57it/s]"
     ]
    },
    {
     "name": "stdout",
     "output_type": "stream",
     "text": [
      "Post-edit metrics: {'TP': array([  3,   0, 342, 128, 185,   7,   3,  25,  35,   1]), 'TN': array([8028, 8414, 2855, 7225, 7584, 8650, 8592, 8351, 8503, 8527]), 'FPs': array([ 542,    1, 5663, 1315,  984,    8,    0,  171,   73,   14]), 'FNs': array([ 927, 1085,  640,  832,  747,  835,  905,  953,  889,  958]), 'accuracy': 0.07673684210526316, 'per_class_accuracy': array([0.84536842, 0.88568421, 0.33652632, 0.774     , 0.81778947,\n",
      "       0.91126316, 0.90473684, 0.88168421, 0.89873684, 0.89768421]), 'per_class_accuracy_mean': 0.8153473684210526, 'precision': array([0.00550459, 0.        , 0.05695254, 0.08870409, 0.15825492,\n",
      "       0.46666667, 1.        , 0.12755102, 0.32407407, 0.06666667]), 'precision_mean': 0.22943745619599584, 'recall': array([0.00322581, 0.        , 0.34826884, 0.13333333, 0.19849785,\n",
      "       0.00831354, 0.00330396, 0.02556237, 0.03787879, 0.00104275]), 'recall_mean': 0.07594272498506746, 'predicted_class_distribution': array([ 545,    1, 6005, 1443, 1169,   15,    3,  196,  108,   15]), 'f1': array([0.0040678 , 0.        , 0.09789609, 0.1065335 , 0.17610662,\n",
      "       0.01633606, 0.00658617, 0.04258944, 0.06782946, 0.00205339]), 'f1_mean': 0.051999851337140614}\n",
      "Saved post-edit metrics saved/edit_2_Spurious_MNIST/method_eac/LeNet-patches/0324_155144/results/edit_idx_8/models/post_edit_metrics.pth\n",
      "Saved post-edit logits to saved/edit_2_Spurious_MNIST/method_eac/LeNet-patches/0324_155144/results/edit_idx_8/models/post_edit_logits.pth\n",
      "All metrics and KNN results can be found in saved/edit_2_Spurious_MNIST/method_eac/LeNet-patches/0324_155144/results/edit_idx_8/models\n",
      "(0324_155812) Starting Trial 10/16...\n"
     ]
    },
    {
     "name": "stderr",
     "output_type": "stream",
     "text": [
      "\n",
      "/n/fs/ac-editing/model-editing/src/model/metric.py:205: RuntimeWarning: invalid value encountered in divide\n",
      "  return np.nan_to_num(2 * precisions * recalls / (precisions + recalls))\n"
     ]
    },
    {
     "name": "stdout",
     "output_type": "stream",
     "text": [
      "saved/edit_2_Spurious_MNIST/method_eac/LeNet-patches/0324_155144/results/edit_idx_9\n",
      "torch.Size([2, 1, 32, 32])\n",
      "3 2\n",
      "Clipping input data to the valid range for imshow with RGB data ([0..1] for floats or [0..255] for integers).\n",
      "Clipping input data to the valid range for imshow with RGB data ([0..1] for floats or [0..255] for integers).\n",
      "Clipping input data to the valid range for imshow with RGB data ([0..1] for floats or [0..255] for integers).\n",
      "Clipping input data to the valid range for imshow with RGB data ([0..1] for floats or [0..255] for integers).\n"
     ]
    },
    {
     "data": {
      "image/png": "[encoded data removed]",
      "text/plain": [
       "<Figure size 500x750 with 6 Axes>"
      ]
     },
     "metadata": {},
     "output_type": "display_data"
    },
    {
     "name": "stdout",
     "output_type": "stream",
     "text": [
      "Seed: 0\n",
      "Editing layer 1\n",
      "Created ModelWrapperSanturkar model with 31340 trainable parameters\n",
      "Restored weights from saved/train/2_Spurious_MNIST-LeNet/0323_100223/models/model_best.pth\n",
      "Using passed in data loader for validation.\n",
      "Performing pre-edit metric calculations on validation set.\n"
     ]
    },
    {
     "name": "stderr",
     "output_type": "stream",
     "text": [
      "100%|███████████████████████████████████████████████████████████| 38/38 [00:00<00:00, 40.33it/s]"
     ]
    },
    {
     "name": "stdout",
     "output_type": "stream",
     "text": [
      "Pre-edit metrics: {'TP': array([450, 538, 520, 497, 452, 422, 436, 472, 456, 453]), 'TN': array([8250, 8296, 8225, 7702, 7784, 8342, 8397, 8265, 7467, 7968]), 'FPs': array([ 320,  119,  293,  838,  784,  316,  195,  257, 1109,  573]), 'FNs': array([480, 547, 462, 463, 480, 420, 472, 506, 468, 506]), 'accuracy': 0.4943157894736842, 'per_class_accuracy': array([0.91578947, 0.92989474, 0.92052632, 0.86305263, 0.86694737,\n",
      "       0.92252632, 0.92978947, 0.91968421, 0.834     , 0.88642105]), 'per_class_accuracy_mean': 0.8988631578947368, 'precision': array([0.58441558, 0.81887367, 0.6396064 , 0.37228464, 0.36569579,\n",
      "       0.57181572, 0.69096672, 0.64746228, 0.2913738 , 0.44152047]), 'precision_mean': 0.5424015070238444, 'recall': array([0.48387097, 0.49585253, 0.52953157, 0.51770833, 0.48497854,\n",
      "       0.50118765, 0.48017621, 0.48261759, 0.49350649, 0.47236705]), 'recall_mean': 0.4941796933975864, 'predicted_class_distribution': array([ 770,  657,  813, 1335, 1236,  738,  631,  729, 1565, 1026]), 'f1': array([0.52941176, 0.61768083, 0.57938719, 0.43311547, 0.41697417,\n",
      "       0.53417722, 0.56660169, 0.55301699, 0.36641221, 0.45642317]), 'f1_mean': 0.5053200697134669}\n",
      "Saved pre-edit metrics saved/edit_2_Spurious_MNIST/method_eac/LeNet-patches/0324_155144/results/edit_idx_9/models/pre_edit_metrics.pth\n",
      "Saved pre-edit logits to saved/edit_2_Spurious_MNIST/method_eac/LeNet-patches/0324_155144/results/edit_idx_9/models/pre_edit_logits.pth\n",
      "Created <class 'trainer.editor.EditorEAC'> editor.\n",
      "Is covariance_dataset in config? True\n",
      "Created dataloader for covariance matrix from 2_Spurious_MNIST_hold_out\n",
      "Looking for covariance matrix weights in cache/2_Spurious_MNIST_hold_out/lenet-1\n"
     ]
    },
    {
     "name": "stderr",
     "output_type": "stream",
     "text": [
      "\n"
     ]
    },
    {
     "name": "stdout",
     "output_type": "stream",
     "text": [
      "Found precomputed cov matrices, returning...\n",
      "n_edit: 2\n",
      "Forwarded edit data thru model\n",
      "Kstar[0] type: <class 'torch.Tensor'> shape: torch.Size([10, 14, 14])\n",
      "vstar type: <class 'torch.Tensor'> shape: torch.Size([2, 20, 5, 5])\n",
      "mstar type: <class 'torch.Tensor'> shape: torch.Size([2, 1, 32, 32])\n",
      "key shape: torch.Size([2, 10, 14, 14]) val shape: torch.Size([2, 20, 5, 5])\n"
     ]
    },
    {
     "name": "stderr",
     "output_type": "stream",
     "text": [
      "tensor(0.7701, device='cuda:0', grad_fn=<DivBackward0>): 100%|█| 30000/30000 [00:38<00:00, 778.9"
     ]
    },
    {
     "name": "stdout",
     "output_type": "stream",
     "text": [
      "Loss (orig, final): 0.9742887020111084 0.7700714468955994\n",
      "L2 norm of weight change: 5.081810474395752\n",
      "Performing post-edit metric calculations on validation set.\n"
     ]
    },
    {
     "name": "stderr",
     "output_type": "stream",
     "text": [
      "\n",
      "100%|███████████████████████████████████████████████████████████| 38/38 [00:01<00:00, 35.01it/s]"
     ]
    },
    {
     "name": "stdout",
     "output_type": "stream",
     "text": [
      "Post-edit metrics: {'TP': array([450, 538, 519, 496, 452, 422, 438, 472, 455, 449]), 'TN': array([8272, 8313, 8190, 7662, 7801, 8249, 8161, 8254, 7757, 8032]), 'FPs': array([298, 102, 328, 878, 767, 409, 431, 268, 819, 509]), 'FNs': array([480, 547, 463, 464, 480, 420, 470, 506, 469, 510]), 'accuracy': 0.4937894736842105, 'per_class_accuracy': array([0.91810526, 0.93168421, 0.91673684, 0.85873684, 0.86873684,\n",
      "       0.91273684, 0.90515789, 0.91852632, 0.86442105, 0.89273684]), 'per_class_accuracy_mean': 0.8987578947368421, 'precision': array([0.60160428, 0.840625  , 0.61275089, 0.36098981, 0.37079573,\n",
      "       0.5078219 , 0.50402762, 0.63783784, 0.35714286, 0.46868476]), 'precision_mean': 0.5262280682705425, 'recall': array([0.48387097, 0.49585253, 0.52851324, 0.51666667, 0.48497854,\n",
      "       0.50118765, 0.48237885, 0.48261759, 0.49242424, 0.46819604]), 'recall_mean': 0.49366863179895704, 'predicted_class_distribution': array([ 748,  640,  847, 1374, 1219,  831,  869,  740, 1274,  958]), 'f1': array([0.5363528 , 0.62376812, 0.56752324, 0.42502142, 0.42026964,\n",
      "       0.50448296, 0.49296567, 0.54947614, 0.41401274, 0.46844027]), 'f1_mean': 0.5002313000481768}\n",
      "Saved post-edit metrics saved/edit_2_Spurious_MNIST/method_eac/LeNet-patches/0324_155144/results/edit_idx_9/models/post_edit_metrics.pth\n",
      "Saved post-edit logits to saved/edit_2_Spurious_MNIST/method_eac/LeNet-patches/0324_155144/results/edit_idx_9/models/post_edit_logits.pth\n",
      "All metrics and KNN results can be found in saved/edit_2_Spurious_MNIST/method_eac/LeNet-patches/0324_155144/results/edit_idx_9/models\n",
      "(0324_155853) Starting Trial 11/16...\n"
     ]
    },
    {
     "name": "stderr",
     "output_type": "stream",
     "text": [
      "\n"
     ]
    },
    {
     "name": "stdout",
     "output_type": "stream",
     "text": [
      "saved/edit_2_Spurious_MNIST/method_eac/LeNet-patches/0324_155144/results/edit_idx_10\n",
      "torch.Size([2, 1, 32, 32])\n",
      "3 2\n",
      "Clipping input data to the valid range for imshow with RGB data ([0..1] for floats or [0..255] for integers).\n",
      "Clipping input data to the valid range for imshow with RGB data ([0..1] for floats or [0..255] for integers).\n",
      "Clipping input data to the valid range for imshow with RGB data ([0..1] for floats or [0..255] for integers).\n",
      "Clipping input data to the valid range for imshow with RGB data ([0..1] for floats or [0..255] for integers).\n"
     ]
    },
    {
     "data": {
      "image/png": "[encoded data removed]",
      "text/plain": [
       "<Figure size 500x750 with 6 Axes>"
      ]
     },
     "metadata": {},
     "output_type": "display_data"
    },
    {
     "name": "stdout",
     "output_type": "stream",
     "text": [
      "Seed: 0\n",
      "Editing layer 1\n",
      "Created ModelWrapperSanturkar model with 31340 trainable parameters\n",
      "Restored weights from saved/train/2_Spurious_MNIST-LeNet/0323_100223/models/model_best.pth\n",
      "Using passed in data loader for validation.\n",
      "Performing pre-edit metric calculations on validation set.\n"
     ]
    },
    {
     "name": "stderr",
     "output_type": "stream",
     "text": [
      "100%|███████████████████████████████████████████████████████████| 38/38 [00:00<00:00, 40.24it/s]"
     ]
    },
    {
     "name": "stdout",
     "output_type": "stream",
     "text": [
      "Pre-edit metrics: {'TP': array([450, 538, 520, 497, 452, 422, 436, 472, 456, 453]), 'TN': array([8250, 8296, 8225, 7702, 7784, 8342, 8397, 8265, 7467, 7968]), 'FPs': array([ 320,  119,  293,  838,  784,  316,  195,  257, 1109,  573]), 'FNs': array([480, 547, 462, 463, 480, 420, 472, 506, 468, 506]), 'accuracy': 0.4943157894736842, 'per_class_accuracy': array([0.91578947, 0.92989474, 0.92052632, 0.86305263, 0.86694737,\n",
      "       0.92252632, 0.92978947, 0.91968421, 0.834     , 0.88642105]), 'per_class_accuracy_mean': 0.8988631578947368, 'precision': array([0.58441558, 0.81887367, 0.6396064 , 0.37228464, 0.36569579,\n",
      "       0.57181572, 0.69096672, 0.64746228, 0.2913738 , 0.44152047]), 'precision_mean': 0.5424015070238444, 'recall': array([0.48387097, 0.49585253, 0.52953157, 0.51770833, 0.48497854,\n",
      "       0.50118765, 0.48017621, 0.48261759, 0.49350649, 0.47236705]), 'recall_mean': 0.4941796933975864, 'predicted_class_distribution': array([ 770,  657,  813, 1335, 1236,  738,  631,  729, 1565, 1026]), 'f1': array([0.52941176, 0.61768083, 0.57938719, 0.43311547, 0.41697417,\n",
      "       0.53417722, 0.56660169, 0.55301699, 0.36641221, 0.45642317]), 'f1_mean': 0.5053200697134669}\n",
      "Saved pre-edit metrics saved/edit_2_Spurious_MNIST/method_eac/LeNet-patches/0324_155144/results/edit_idx_10/models/pre_edit_metrics.pth\n",
      "Saved pre-edit logits to saved/edit_2_Spurious_MNIST/method_eac/LeNet-patches/0324_155144/results/edit_idx_10/models/pre_edit_logits.pth\n",
      "Created <class 'trainer.editor.EditorEAC'> editor.\n",
      "Is covariance_dataset in config? True\n",
      "Created dataloader for covariance matrix from 2_Spurious_MNIST_hold_out\n",
      "Looking for covariance matrix weights in cache/2_Spurious_MNIST_hold_out/lenet-1\n"
     ]
    },
    {
     "name": "stderr",
     "output_type": "stream",
     "text": [
      "\n"
     ]
    },
    {
     "name": "stdout",
     "output_type": "stream",
     "text": [
      "Found precomputed cov matrices, returning...\n",
      "n_edit: 2\n",
      "Forwarded edit data thru model\n",
      "Kstar[0] type: <class 'torch.Tensor'> shape: torch.Size([10, 14, 14])\n",
      "vstar type: <class 'torch.Tensor'> shape: torch.Size([2, 20, 5, 5])\n",
      "mstar type: <class 'torch.Tensor'> shape: torch.Size([2, 1, 32, 32])\n",
      "key shape: torch.Size([2, 10, 14, 14]) val shape: torch.Size([2, 20, 5, 5])\n"
     ]
    },
    {
     "name": "stderr",
     "output_type": "stream",
     "text": [
      "tensor(1.1076, device='cuda:0', grad_fn=<DivBackward0>): 100%|█| 30000/30000 [00:40<00:00, 732.9"
     ]
    },
    {
     "name": "stdout",
     "output_type": "stream",
     "text": [
      "Loss (orig, final): 1.390702247619629 1.1076252460479736\n",
      "L2 norm of weight change: 3.7443559169769287\n",
      "Performing post-edit metric calculations on validation set.\n"
     ]
    },
    {
     "name": "stderr",
     "output_type": "stream",
     "text": [
      "\n",
      "100%|███████████████████████████████████████████████████████████| 38/38 [00:00<00:00, 39.29it/s]"
     ]
    },
    {
     "name": "stdout",
     "output_type": "stream",
     "text": [
      "Post-edit metrics: {'TP': array([450, 538, 520, 497, 452, 421, 429, 469, 456, 453]), 'TN': array([8245, 8300, 8225, 7757, 7730, 8339, 8482, 8353, 7296, 7958]), 'FPs': array([ 325,  115,  293,  783,  838,  319,  110,  169, 1280,  583]), 'FNs': array([480, 547, 462, 463, 480, 421, 479, 509, 468, 506]), 'accuracy': 0.49315789473684213, 'per_class_accuracy': array([0.91526316, 0.93031579, 0.92052632, 0.86884211, 0.86126316,\n",
      "       0.92210526, 0.938     , 0.92863158, 0.816     , 0.88536842]), 'per_class_accuracy_mean': 0.8986315789473686, 'precision': array([0.58064516, 0.82388974, 0.6396064 , 0.38828125, 0.3503876 ,\n",
      "       0.56891892, 0.79591837, 0.73510972, 0.26267281, 0.43725869]), 'precision_mean': 0.5582688646369393, 'recall': array([0.48387097, 0.49585253, 0.52953157, 0.51770833, 0.48497854,\n",
      "       0.5       , 0.47246696, 0.4795501 , 0.49350649, 0.47236705]), 'recall_mean': 0.4929832549755909, 'predicted_class_distribution': array([ 775,  653,  813, 1280, 1290,  740,  539,  638, 1736, 1036]), 'f1': array([0.52785924, 0.61910242, 0.57938719, 0.44375   , 0.40684068,\n",
      "       0.53223767, 0.59295093, 0.58044554, 0.34285714, 0.45413534]), 'f1_mean': 0.5079566157358173}\n"
     ]
    },
    {
     "name": "stderr",
     "output_type": "stream",
     "text": [
      "\n"
     ]
    },
    {
     "name": "stdout",
     "output_type": "stream",
     "text": [
      "Saved post-edit metrics saved/edit_2_Spurious_MNIST/method_eac/LeNet-patches/0324_155144/results/edit_idx_10/models/post_edit_metrics.pth\n",
      "Saved post-edit logits to saved/edit_2_Spurious_MNIST/method_eac/LeNet-patches/0324_155144/results/edit_idx_10/models/post_edit_logits.pth\n",
      "All metrics and KNN results can be found in saved/edit_2_Spurious_MNIST/method_eac/LeNet-patches/0324_155144/results/edit_idx_10/models\n",
      "(0324_155937) Starting Trial 12/16...\n",
      "saved/edit_2_Spurious_MNIST/method_eac/LeNet-patches/0324_155144/results/edit_idx_11\n",
      "torch.Size([2, 1, 32, 32])\n",
      "3 2\n",
      "Clipping input data to the valid range for imshow with RGB data ([0..1] for floats or [0..255] for integers).\n",
      "Clipping input data to the valid range for imshow with RGB data ([0..1] for floats or [0..255] for integers).\n",
      "Clipping input data to the valid range for imshow with RGB data ([0..1] for floats or [0..255] for integers).\n",
      "Clipping input data to the valid range for imshow with RGB data ([0..1] for floats or [0..255] for integers).\n"
     ]
    },
    {
     "data": {
      "image/png": "[encoded data removed]",
      "text/plain": [
       "<Figure size 500x750 with 6 Axes>"
      ]
     },
     "metadata": {},
     "output_type": "display_data"
    },
    {
     "name": "stdout",
     "output_type": "stream",
     "text": [
      "Seed: 0\n",
      "Editing layer 1\n",
      "Created ModelWrapperSanturkar model with 31340 trainable parameters\n",
      "Restored weights from saved/train/2_Spurious_MNIST-LeNet/0323_100223/models/model_best.pth\n",
      "Using passed in data loader for validation.\n",
      "Performing pre-edit metric calculations on validation set.\n"
     ]
    },
    {
     "name": "stderr",
     "output_type": "stream",
     "text": [
      "100%|███████████████████████████████████████████████████████████| 38/38 [00:00<00:00, 41.12it/s]\n"
     ]
    },
    {
     "name": "stdout",
     "output_type": "stream",
     "text": [
      "Pre-edit metrics: {'TP': array([450, 538, 520, 497, 452, 422, 436, 472, 456, 453]), 'TN': array([8250, 8296, 8225, 7702, 7784, 8342, 8397, 8265, 7467, 7968]), 'FPs': array([ 320,  119,  293,  838,  784,  316,  195,  257, 1109,  573]), 'FNs': array([480, 547, 462, 463, 480, 420, 472, 506, 468, 506]), 'accuracy': 0.4943157894736842, 'per_class_accuracy': array([0.91578947, 0.92989474, 0.92052632, 0.86305263, 0.86694737,\n",
      "       0.92252632, 0.92978947, 0.91968421, 0.834     , 0.88642105]), 'per_class_accuracy_mean': 0.8988631578947368, 'precision': array([0.58441558, 0.81887367, 0.6396064 , 0.37228464, 0.36569579,\n",
      "       0.57181572, 0.69096672, 0.64746228, 0.2913738 , 0.44152047]), 'precision_mean': 0.5424015070238444, 'recall': array([0.48387097, 0.49585253, 0.52953157, 0.51770833, 0.48497854,\n",
      "       0.50118765, 0.48017621, 0.48261759, 0.49350649, 0.47236705]), 'recall_mean': 0.4941796933975864, 'predicted_class_distribution': array([ 770,  657,  813, 1335, 1236,  738,  631,  729, 1565, 1026]), 'f1': array([0.52941176, 0.61768083, 0.57938719, 0.43311547, 0.41697417,\n",
      "       0.53417722, 0.56660169, 0.55301699, 0.36641221, 0.45642317]), 'f1_mean': 0.5053200697134669}\n",
      "Saved pre-edit metrics saved/edit_2_Spurious_MNIST/method_eac/LeNet-patches/0324_155144/results/edit_idx_11/models/pre_edit_metrics.pth\n",
      "Saved pre-edit logits to saved/edit_2_Spurious_MNIST/method_eac/LeNet-patches/0324_155144/results/edit_idx_11/models/pre_edit_logits.pth\n",
      "Created <class 'trainer.editor.EditorEAC'> editor.\n",
      "Is covariance_dataset in config? True\n",
      "Created dataloader for covariance matrix from 2_Spurious_MNIST_hold_out\n",
      "Looking for covariance matrix weights in cache/2_Spurious_MNIST_hold_out/lenet-1\n",
      "Found precomputed cov matrices, returning...\n",
      "n_edit: 2\n",
      "Forwarded edit data thru model\n",
      "Kstar[0] type: <class 'torch.Tensor'> shape: torch.Size([10, 14, 14])\n",
      "vstar type: <class 'torch.Tensor'> shape: torch.Size([2, 20, 5, 5])\n",
      "mstar type: <class 'torch.Tensor'> shape: torch.Size([2, 1, 32, 32])\n",
      "key shape: torch.Size([2, 10, 14, 14]) val shape: torch.Size([2, 20, 5, 5])\n"
     ]
    },
    {
     "name": "stderr",
     "output_type": "stream",
     "text": [
      "tensor(0.9284, device='cuda:0', grad_fn=<DivBackward0>): 100%|█| 30000/30000 [00:40<00:00, 743.8\n"
     ]
    },
    {
     "name": "stdout",
     "output_type": "stream",
     "text": [
      "Loss (orig, final): 1.1788768768310547 0.9283984899520874\n",
      "L2 norm of weight change: 253.84030151367188\n",
      "Performing post-edit metric calculations on validation set.\n"
     ]
    },
    {
     "name": "stderr",
     "output_type": "stream",
     "text": [
      "100%|███████████████████████████████████████████████████████████| 38/38 [00:00<00:00, 41.48it/s]"
     ]
    },
    {
     "name": "stdout",
     "output_type": "stream",
     "text": [
      "Post-edit metrics: {'TP': array([476, 201, 422,  76, 719,  17,   2,  11,   7,   1]), 'TN': array([7550, 8356, 8129, 8488, 3133, 8264, 8580, 8478, 8454, 8500]), 'FPs': array([1020,   59,  389,   52, 5435,  394,   12,   44,  122,   41]), 'FNs': array([454, 884, 560, 884, 213, 825, 906, 967, 917, 958]), 'accuracy': 0.2033684210526316, 'per_class_accuracy': array([0.84484211, 0.90073684, 0.90010526, 0.90147368, 0.40547368,\n",
      "       0.87168421, 0.90336842, 0.89357895, 0.89063158, 0.89484211]), 'per_class_accuracy_mean': 0.8406736842105265, 'precision': array([0.31818182, 0.77307692, 0.52034525, 0.59375   , 0.11683458,\n",
      "       0.04136253, 0.14285714, 0.2       , 0.05426357, 0.02380952]), 'precision_mean': 0.278448133614038, 'recall': array([0.51182796, 0.18525346, 0.42973523, 0.07916667, 0.77145923,\n",
      "       0.02019002, 0.00220264, 0.01124744, 0.00757576, 0.00104275]), 'recall_mean': 0.2019701162691694, 'predicted_class_distribution': array([1496,  260,  811,  128, 6154,  411,   14,   55,  129,   42]), 'f1': array([0.3924155 , 0.29888476, 0.47071946, 0.13970588, 0.20293537,\n",
      "       0.02713488, 0.00433839, 0.02129719, 0.01329535, 0.001998  ]), 'f1_mean': 0.15727247819348839}\n",
      "Saved post-edit metrics saved/edit_2_Spurious_MNIST/method_eac/LeNet-patches/0324_155144/results/edit_idx_11/models/post_edit_metrics.pth\n",
      "Saved post-edit logits to saved/edit_2_Spurious_MNIST/method_eac/LeNet-patches/0324_155144/results/edit_idx_11/models/post_edit_logits.pth\n",
      "All metrics and KNN results can be found in saved/edit_2_Spurious_MNIST/method_eac/LeNet-patches/0324_155144/results/edit_idx_11/models\n",
      "(0324_160019) Starting Trial 13/16...\n"
     ]
    },
    {
     "name": "stderr",
     "output_type": "stream",
     "text": [
      "\n"
     ]
    },
    {
     "name": "stdout",
     "output_type": "stream",
     "text": [
      "saved/edit_2_Spurious_MNIST/method_eac/LeNet-patches/0324_155144/results/edit_idx_12\n",
      "torch.Size([2, 1, 32, 32])\n",
      "3 2\n",
      "Clipping input data to the valid range for imshow with RGB data ([0..1] for floats or [0..255] for integers).\n",
      "Clipping input data to the valid range for imshow with RGB data ([0..1] for floats or [0..255] for integers).\n",
      "Clipping input data to the valid range for imshow with RGB data ([0..1] for floats or [0..255] for integers).\n",
      "Clipping input data to the valid range for imshow with RGB data ([0..1] for floats or [0..255] for integers).\n"
     ]
    },
    {
     "data": {
      "image/png": "[encoded data removed]",
      "text/plain": [
       "<Figure size 500x750 with 6 Axes>"
      ]
     },
     "metadata": {},
     "output_type": "display_data"
    },
    {
     "name": "stdout",
     "output_type": "stream",
     "text": [
      "Seed: 0\n",
      "Editing layer 1\n",
      "Created ModelWrapperSanturkar model with 31340 trainable parameters\n",
      "Restored weights from saved/train/2_Spurious_MNIST-LeNet/0323_100223/models/model_best.pth\n",
      "Using passed in data loader for validation.\n",
      "Performing pre-edit metric calculations on validation set.\n"
     ]
    },
    {
     "name": "stderr",
     "output_type": "stream",
     "text": [
      "100%|███████████████████████████████████████████████████████████| 38/38 [00:00<00:00, 41.16it/s]"
     ]
    },
    {
     "name": "stdout",
     "output_type": "stream",
     "text": [
      "Pre-edit metrics: {'TP': array([450, 538, 520, 497, 452, 422, 436, 472, 456, 453]), 'TN': array([8250, 8296, 8225, 7702, 7784, 8342, 8397, 8265, 7467, 7968]), 'FPs': array([ 320,  119,  293,  838,  784,  316,  195,  257, 1109,  573]), 'FNs': array([480, 547, 462, 463, 480, 420, 472, 506, 468, 506]), 'accuracy': 0.4943157894736842, 'per_class_accuracy': array([0.91578947, 0.92989474, 0.92052632, 0.86305263, 0.86694737,\n",
      "       0.92252632, 0.92978947, 0.91968421, 0.834     , 0.88642105]), 'per_class_accuracy_mean': 0.8988631578947368, 'precision': array([0.58441558, 0.81887367, 0.6396064 , 0.37228464, 0.36569579,\n",
      "       0.57181572, 0.69096672, 0.64746228, 0.2913738 , 0.44152047]), 'precision_mean': 0.5424015070238444, 'recall': array([0.48387097, 0.49585253, 0.52953157, 0.51770833, 0.48497854,\n",
      "       0.50118765, 0.48017621, 0.48261759, 0.49350649, 0.47236705]), 'recall_mean': 0.4941796933975864, 'predicted_class_distribution': array([ 770,  657,  813, 1335, 1236,  738,  631,  729, 1565, 1026]), 'f1': array([0.52941176, 0.61768083, 0.57938719, 0.43311547, 0.41697417,\n",
      "       0.53417722, 0.56660169, 0.55301699, 0.36641221, 0.45642317]), 'f1_mean': 0.5053200697134669}\n",
      "Saved pre-edit metrics saved/edit_2_Spurious_MNIST/method_eac/LeNet-patches/0324_155144/results/edit_idx_12/models/pre_edit_metrics.pth\n",
      "Saved pre-edit logits to saved/edit_2_Spurious_MNIST/method_eac/LeNet-patches/0324_155144/results/edit_idx_12/models/pre_edit_logits.pth\n",
      "Created <class 'trainer.editor.EditorEAC'> editor.\n",
      "Is covariance_dataset in config? True\n",
      "Created dataloader for covariance matrix from 2_Spurious_MNIST_hold_out\n",
      "Looking for covariance matrix weights in cache/2_Spurious_MNIST_hold_out/lenet-1\n"
     ]
    },
    {
     "name": "stderr",
     "output_type": "stream",
     "text": [
      "\n"
     ]
    },
    {
     "name": "stdout",
     "output_type": "stream",
     "text": [
      "Found precomputed cov matrices, returning...\n",
      "n_edit: 2\n",
      "Forwarded edit data thru model\n",
      "Kstar[0] type: <class 'torch.Tensor'> shape: torch.Size([10, 14, 14])\n",
      "vstar type: <class 'torch.Tensor'> shape: torch.Size([2, 20, 5, 5])\n",
      "mstar type: <class 'torch.Tensor'> shape: torch.Size([2, 1, 32, 32])\n",
      "key shape: torch.Size([2, 10, 14, 14]) val shape: torch.Size([2, 20, 5, 5])\n"
     ]
    },
    {
     "name": "stderr",
     "output_type": "stream",
     "text": [
      "tensor(2.2029, device='cuda:0', grad_fn=<DivBackward0>): 100%|█| 30000/30000 [00:40<00:00, 743.8"
     ]
    },
    {
     "name": "stdout",
     "output_type": "stream",
     "text": [
      "Loss (orig, final): 0.9987020492553711 2.202908992767334\n",
      "L2 norm of weight change: 469.6293029785156\n",
      "Performing post-edit metric calculations on validation set.\n"
     ]
    },
    {
     "name": "stderr",
     "output_type": "stream",
     "text": [
      "\n",
      "100%|███████████████████████████████████████████████████████████| 38/38 [00:00<00:00, 38.76it/s]"
     ]
    },
    {
     "name": "stdout",
     "output_type": "stream",
     "text": [
      "Post-edit metrics: {'TP': array([ 49,  86, 167, 391,  76,  39,   0,   0,   0,  18]), 'TN': array([8022, 8292, 5927, 4212, 8134, 8056, 8591, 8493, 8576, 8523]), 'FPs': array([ 548,  123, 2591, 4328,  434,  602,    1,   29,    0,   18]), 'FNs': array([881, 999, 815, 569, 856, 803, 908, 978, 924, 941]), 'accuracy': 0.08694736842105263, 'per_class_accuracy': array([0.84957895, 0.88189474, 0.64147368, 0.48452632, 0.86421053,\n",
      "       0.85210526, 0.90431579, 0.894     , 0.90273684, 0.89905263]), 'per_class_accuracy_mean': 0.8173894736842104, 'precision': array([0.08207705, 0.41148325, 0.06055112, 0.08285654, 0.14901961,\n",
      "       0.06084243, 0.        , 0.        , 0.        , 0.5       ]), 'precision_mean': 0.13468300084601928, 'recall': array([0.05268817, 0.07926267, 0.1700611 , 0.40729167, 0.08154506,\n",
      "       0.04631829, 0.        , 0.        , 0.        , 0.01876955]), 'recall_mean': 0.08559365170972441, 'predicted_class_distribution': array([ 597,  209, 2758, 4719,  510,  641,    1,   29,    0,   36]), 'f1': array([0.06417813, 0.13292117, 0.08930481, 0.1377003 , 0.10540915,\n",
      "       0.05259609, 0.        , 0.        , 0.        , 0.0361809 ]), 'f1_mean': 0.06182905613656612}\n",
      "Saved post-edit metrics saved/edit_2_Spurious_MNIST/method_eac/LeNet-patches/0324_155144/results/edit_idx_12/models/post_edit_metrics.pth\n",
      "Saved post-edit logits to saved/edit_2_Spurious_MNIST/method_eac/LeNet-patches/0324_155144/results/edit_idx_12/models/post_edit_logits.pth\n",
      "All metrics and KNN results can be found in saved/edit_2_Spurious_MNIST/method_eac/LeNet-patches/0324_155144/results/edit_idx_12/models\n",
      "(0324_160102) Starting Trial 14/16...\n"
     ]
    },
    {
     "name": "stderr",
     "output_type": "stream",
     "text": [
      "\n",
      "/n/fs/ac-editing/model-editing/src/model/metric.py:168: RuntimeWarning: invalid value encountered in divide\n",
      "  return np.nan_to_num(TPs / (TPs + FPs))\n",
      "/n/fs/ac-editing/model-editing/src/model/metric.py:205: RuntimeWarning: invalid value encountered in divide\n",
      "  return np.nan_to_num(2 * precisions * recalls / (precisions + recalls))\n"
     ]
    },
    {
     "name": "stdout",
     "output_type": "stream",
     "text": [
      "saved/edit_2_Spurious_MNIST/method_eac/LeNet-patches/0324_155144/results/edit_idx_13\n",
      "torch.Size([2, 1, 32, 32])\n",
      "3 2\n",
      "Clipping input data to the valid range for imshow with RGB data ([0..1] for floats or [0..255] for integers).\n",
      "Clipping input data to the valid range for imshow with RGB data ([0..1] for floats or [0..255] for integers).\n",
      "Clipping input data to the valid range for imshow with RGB data ([0..1] for floats or [0..255] for integers).\n",
      "Clipping input data to the valid range for imshow with RGB data ([0..1] for floats or [0..255] for integers).\n"
     ]
    },
    {
     "data": {
      "image/png": "[encoded data removed]",
      "text/plain": [
       "<Figure size 500x750 with 6 Axes>"
      ]
     },
     "metadata": {},
     "output_type": "display_data"
    },
    {
     "name": "stdout",
     "output_type": "stream",
     "text": [
      "Seed: 0\n",
      "Editing layer 1\n",
      "Created ModelWrapperSanturkar model with 31340 trainable parameters\n",
      "Restored weights from saved/train/2_Spurious_MNIST-LeNet/0323_100223/models/model_best.pth\n",
      "Using passed in data loader for validation.\n",
      "Performing pre-edit metric calculations on validation set.\n"
     ]
    },
    {
     "name": "stderr",
     "output_type": "stream",
     "text": [
      "100%|███████████████████████████████████████████████████████████| 38/38 [00:00<00:00, 40.84it/s]"
     ]
    },
    {
     "name": "stdout",
     "output_type": "stream",
     "text": [
      "Pre-edit metrics: {'TP': array([450, 538, 520, 497, 452, 422, 436, 472, 456, 453]), 'TN': array([8250, 8296, 8225, 7702, 7784, 8342, 8397, 8265, 7467, 7968]), 'FPs': array([ 320,  119,  293,  838,  784,  316,  195,  257, 1109,  573]), 'FNs': array([480, 547, 462, 463, 480, 420, 472, 506, 468, 506]), 'accuracy': 0.4943157894736842, 'per_class_accuracy': array([0.91578947, 0.92989474, 0.92052632, 0.86305263, 0.86694737,\n",
      "       0.92252632, 0.92978947, 0.91968421, 0.834     , 0.88642105]), 'per_class_accuracy_mean': 0.8988631578947368, 'precision': array([0.58441558, 0.81887367, 0.6396064 , 0.37228464, 0.36569579,\n",
      "       0.57181572, 0.69096672, 0.64746228, 0.2913738 , 0.44152047]), 'precision_mean': 0.5424015070238444, 'recall': array([0.48387097, 0.49585253, 0.52953157, 0.51770833, 0.48497854,\n",
      "       0.50118765, 0.48017621, 0.48261759, 0.49350649, 0.47236705]), 'recall_mean': 0.4941796933975864, 'predicted_class_distribution': array([ 770,  657,  813, 1335, 1236,  738,  631,  729, 1565, 1026]), 'f1': array([0.52941176, 0.61768083, 0.57938719, 0.43311547, 0.41697417,\n",
      "       0.53417722, 0.56660169, 0.55301699, 0.36641221, 0.45642317]), 'f1_mean': 0.5053200697134669}\n",
      "Saved pre-edit metrics saved/edit_2_Spurious_MNIST/method_eac/LeNet-patches/0324_155144/results/edit_idx_13/models/pre_edit_metrics.pth\n",
      "Saved pre-edit logits to saved/edit_2_Spurious_MNIST/method_eac/LeNet-patches/0324_155144/results/edit_idx_13/models/pre_edit_logits.pth\n",
      "Created <class 'trainer.editor.EditorEAC'> editor.\n",
      "Is covariance_dataset in config? True\n",
      "Created dataloader for covariance matrix from 2_Spurious_MNIST_hold_out\n",
      "Looking for covariance matrix weights in cache/2_Spurious_MNIST_hold_out/lenet-1\n"
     ]
    },
    {
     "name": "stderr",
     "output_type": "stream",
     "text": [
      "\n"
     ]
    },
    {
     "name": "stdout",
     "output_type": "stream",
     "text": [
      "Found precomputed cov matrices, returning...\n",
      "n_edit: 2\n",
      "Forwarded edit data thru model\n",
      "Kstar[0] type: <class 'torch.Tensor'> shape: torch.Size([10, 14, 14])\n",
      "vstar type: <class 'torch.Tensor'> shape: torch.Size([2, 20, 5, 5])\n",
      "mstar type: <class 'torch.Tensor'> shape: torch.Size([2, 1, 32, 32])\n",
      "key shape: torch.Size([2, 10, 14, 14]) val shape: torch.Size([2, 20, 5, 5])\n"
     ]
    },
    {
     "name": "stderr",
     "output_type": "stream",
     "text": [
      "tensor(0.6934, device='cuda:0', grad_fn=<DivBackward0>): 100%|█| 30000/30000 [00:37<00:00, 800.3"
     ]
    },
    {
     "name": "stdout",
     "output_type": "stream",
     "text": [
      "Loss (orig, final): 1.2443348169326782 0.6933825016021729\n",
      "L2 norm of weight change: 89.55833435058594\n",
      "Performing post-edit metric calculations on validation set.\n"
     ]
    },
    {
     "name": "stderr",
     "output_type": "stream",
     "text": [
      "\n",
      "100%|███████████████████████████████████████████████████████████| 38/38 [00:00<00:00, 42.76it/s]"
     ]
    },
    {
     "name": "stdout",
     "output_type": "stream",
     "text": [
      "Post-edit metrics: {'TP': array([ 74, 263, 561, 254, 233,  20,   0,   1,   0,   0]), 'TN': array([8374, 7567, 4685, 7526, 6487, 8602, 8592, 8457, 8576, 8540]), 'FPs': array([ 196,  848, 3833, 1014, 2081,   56,    0,   65,    0,    1]), 'FNs': array([856, 822, 421, 706, 699, 822, 908, 977, 924, 959]), 'accuracy': 0.148, 'per_class_accuracy': array([0.88926316, 0.82421053, 0.55221053, 0.81894737, 0.70736842,\n",
      "       0.90757895, 0.90442105, 0.89031579, 0.90273684, 0.89894737]), 'per_class_accuracy_mean': 0.8296000000000001, 'precision': array([0.27407407, 0.23672367, 0.1276741 , 0.20031546, 0.10069144,\n",
      "       0.26315789, 0.        , 0.01515152, 0.        , 0.        ]), 'precision_mean': 0.1217788158177872, 'recall': array([0.07956989, 0.24239631, 0.5712831 , 0.26458333, 0.25      ,\n",
      "       0.02375297, 0.        , 0.00102249, 0.        , 0.        ]), 'recall_mean': 0.14326080989021867, 'predicted_class_distribution': array([ 270, 1111, 4394, 1268, 2314,   76,    0,   66,    0,    1]), 'f1': array([0.12333333, 0.23952641, 0.20870536, 0.22800718, 0.14356131,\n",
      "       0.04357298, 0.        , 0.00191571, 0.        , 0.        ]), 'f1_mean': 0.09886222832470551}\n",
      "Saved post-edit metrics saved/edit_2_Spurious_MNIST/method_eac/LeNet-patches/0324_155144/results/edit_idx_13/models/post_edit_metrics.pth\n"
     ]
    },
    {
     "name": "stderr",
     "output_type": "stream",
     "text": [
      "\n",
      "/n/fs/ac-editing/model-editing/src/model/metric.py:168: RuntimeWarning: invalid value encountered in divide\n",
      "  return np.nan_to_num(TPs / (TPs + FPs))\n",
      "/n/fs/ac-editing/model-editing/src/model/metric.py:205: RuntimeWarning: invalid value encountered in divide\n",
      "  return np.nan_to_num(2 * precisions * recalls / (precisions + recalls))\n"
     ]
    },
    {
     "name": "stdout",
     "output_type": "stream",
     "text": [
      "Saved post-edit logits to saved/edit_2_Spurious_MNIST/method_eac/LeNet-patches/0324_155144/results/edit_idx_13/models/post_edit_logits.pth\n",
      "All metrics and KNN results can be found in saved/edit_2_Spurious_MNIST/method_eac/LeNet-patches/0324_155144/results/edit_idx_13/models\n",
      "(0324_160141) Starting Trial 15/16...\n",
      "saved/edit_2_Spurious_MNIST/method_eac/LeNet-patches/0324_155144/results/edit_idx_14\n",
      "torch.Size([2, 1, 32, 32])\n",
      "3 2\n",
      "Clipping input data to the valid range for imshow with RGB data ([0..1] for floats or [0..255] for integers).\n",
      "Clipping input data to the valid range for imshow with RGB data ([0..1] for floats or [0..255] for integers).\n",
      "Clipping input data to the valid range for imshow with RGB data ([0..1] for floats or [0..255] for integers).\n",
      "Clipping input data to the valid range for imshow with RGB data ([0..1] for floats or [0..255] for integers).\n"
     ]
    },
    {
     "data": {
      "image/png": "[encoded data removed]",
      "text/plain": [
       "<Figure size 500x750 with 6 Axes>"
      ]
     },
     "metadata": {},
     "output_type": "display_data"
    },
    {
     "name": "stdout",
     "output_type": "stream",
     "text": [
      "Seed: 0\n",
      "Editing layer 1\n",
      "Created ModelWrapperSanturkar model with 31340 trainable parameters\n",
      "Restored weights from saved/train/2_Spurious_MNIST-LeNet/0323_100223/models/model_best.pth\n",
      "Using passed in data loader for validation.\n",
      "Performing pre-edit metric calculations on validation set.\n"
     ]
    },
    {
     "name": "stderr",
     "output_type": "stream",
     "text": [
      "100%|███████████████████████████████████████████████████████████| 38/38 [00:00<00:00, 43.25it/s]"
     ]
    },
    {
     "name": "stdout",
     "output_type": "stream",
     "text": [
      "Pre-edit metrics: {'TP': array([450, 538, 520, 497, 452, 422, 436, 472, 456, 453]), 'TN': array([8250, 8296, 8225, 7702, 7784, 8342, 8397, 8265, 7467, 7968]), 'FPs': array([ 320,  119,  293,  838,  784,  316,  195,  257, 1109,  573]), 'FNs': array([480, 547, 462, 463, 480, 420, 472, 506, 468, 506]), 'accuracy': 0.4943157894736842, 'per_class_accuracy': array([0.91578947, 0.92989474, 0.92052632, 0.86305263, 0.86694737,\n",
      "       0.92252632, 0.92978947, 0.91968421, 0.834     , 0.88642105]), 'per_class_accuracy_mean': 0.8988631578947368, 'precision': array([0.58441558, 0.81887367, 0.6396064 , 0.37228464, 0.36569579,\n",
      "       0.57181572, 0.69096672, 0.64746228, 0.2913738 , 0.44152047]), 'precision_mean': 0.5424015070238444, 'recall': array([0.48387097, 0.49585253, 0.52953157, 0.51770833, 0.48497854,\n",
      "       0.50118765, 0.48017621, 0.48261759, 0.49350649, 0.47236705]), 'recall_mean': 0.4941796933975864, 'predicted_class_distribution': array([ 770,  657,  813, 1335, 1236,  738,  631,  729, 1565, 1026]), 'f1': array([0.52941176, 0.61768083, 0.57938719, 0.43311547, 0.41697417,\n",
      "       0.53417722, 0.56660169, 0.55301699, 0.36641221, 0.45642317]), 'f1_mean': 0.5053200697134669}\n",
      "Saved pre-edit metrics saved/edit_2_Spurious_MNIST/method_eac/LeNet-patches/0324_155144/results/edit_idx_14/models/pre_edit_metrics.pth\n",
      "Saved pre-edit logits to saved/edit_2_Spurious_MNIST/method_eac/LeNet-patches/0324_155144/results/edit_idx_14/models/pre_edit_logits.pth\n",
      "Created <class 'trainer.editor.EditorEAC'> editor.\n",
      "Is covariance_dataset in config? True\n",
      "Created dataloader for covariance matrix from 2_Spurious_MNIST_hold_out\n",
      "Looking for covariance matrix weights in cache/2_Spurious_MNIST_hold_out/lenet-1\n"
     ]
    },
    {
     "name": "stderr",
     "output_type": "stream",
     "text": [
      "\n"
     ]
    },
    {
     "name": "stdout",
     "output_type": "stream",
     "text": [
      "Found precomputed cov matrices, returning...\n",
      "n_edit: 2\n",
      "Forwarded edit data thru model\n",
      "Kstar[0] type: <class 'torch.Tensor'> shape: torch.Size([10, 14, 14])\n",
      "vstar type: <class 'torch.Tensor'> shape: torch.Size([2, 20, 5, 5])\n",
      "mstar type: <class 'torch.Tensor'> shape: torch.Size([2, 1, 32, 32])\n",
      "key shape: torch.Size([2, 10, 14, 14]) val shape: torch.Size([2, 20, 5, 5])\n"
     ]
    },
    {
     "name": "stderr",
     "output_type": "stream",
     "text": [
      "tensor(0.8452, device='cuda:0', grad_fn=<DivBackward0>): 100%|█| 30000/30000 [00:40<00:00, 749.4"
     ]
    },
    {
     "name": "stdout",
     "output_type": "stream",
     "text": [
      "Loss (orig, final): 1.064159870147705 0.8451864123344421\n",
      "L2 norm of weight change: 178.51959228515625\n",
      "Performing post-edit metric calculations on validation set.\n"
     ]
    },
    {
     "name": "stderr",
     "output_type": "stream",
     "text": [
      "\n",
      "100%|███████████████████████████████████████████████████████████| 38/38 [00:00<00:00, 39.23it/s]"
     ]
    },
    {
     "name": "stdout",
     "output_type": "stream",
     "text": [
      "Post-edit metrics: {'TP': array([  2,   1, 659,  59,  57,   0,   0,  30,   0,   0]), 'TN': array([8502, 8409, 1751, 7354, 7972, 8657, 8592, 8454, 8576, 8541]), 'FPs': array([  68,    6, 6767, 1186,  596,    1,    0,   68,    0,    0]), 'FNs': array([ 928, 1084,  323,  901,  875,  842,  908,  948,  924,  959]), 'accuracy': 0.08505263157894737, 'per_class_accuracy': array([0.89515789, 0.88526316, 0.25368421, 0.78031579, 0.84515789,\n",
      "       0.91126316, 0.90442105, 0.89305263, 0.90273684, 0.89905263]), 'per_class_accuracy_mean': 0.8170105263157895, 'precision': array([0.02857143, 0.14285714, 0.08874226, 0.04738956, 0.08728943,\n",
      "       0.        , 0.        , 0.30612245, 0.        , 0.        ]), 'precision_mean': 0.07009722689605677, 'recall': array([0.00215054, 0.00092166, 0.67107943, 0.06145833, 0.0611588 ,\n",
      "       0.        , 0.        , 0.03067485, 0.        , 0.        ]), 'recall_mean': 0.08274436045981799, 'predicted_class_distribution': array([  70,    7, 7426, 1245,  653,    1,    0,   98,    0,    0]), 'f1': array([0.004     , 0.0018315 , 0.15675547, 0.05351474, 0.07192429,\n",
      "       0.        , 0.        , 0.05576208, 0.        , 0.        ]), 'f1_mean': 0.034378808404575266}\n",
      "Saved post-edit metrics saved/edit_2_Spurious_MNIST/method_eac/LeNet-patches/0324_155144/results/edit_idx_14/models/post_edit_metrics.pth\n",
      "Saved post-edit logits to saved/edit_2_Spurious_MNIST/method_eac/LeNet-patches/0324_155144/results/edit_idx_14/models/post_edit_logits.pth\n",
      "All metrics and KNN results can be found in saved/edit_2_Spurious_MNIST/method_eac/LeNet-patches/0324_155144/results/edit_idx_14/models\n",
      "(0324_160224) Starting Trial 16/16...\n"
     ]
    },
    {
     "name": "stderr",
     "output_type": "stream",
     "text": [
      "\n",
      "/n/fs/ac-editing/model-editing/src/model/metric.py:168: RuntimeWarning: invalid value encountered in divide\n",
      "  return np.nan_to_num(TPs / (TPs + FPs))\n",
      "/n/fs/ac-editing/model-editing/src/model/metric.py:205: RuntimeWarning: invalid value encountered in divide\n",
      "  return np.nan_to_num(2 * precisions * recalls / (precisions + recalls))\n"
     ]
    },
    {
     "name": "stdout",
     "output_type": "stream",
     "text": [
      "saved/edit_2_Spurious_MNIST/method_eac/LeNet-patches/0324_155144/results/edit_idx_15\n",
      "torch.Size([2, 1, 32, 32])\n",
      "3 2\n",
      "Clipping input data to the valid range for imshow with RGB data ([0..1] for floats or [0..255] for integers).\n",
      "Clipping input data to the valid range for imshow with RGB data ([0..1] for floats or [0..255] for integers).\n",
      "Clipping input data to the valid range for imshow with RGB data ([0..1] for floats or [0..255] for integers).\n",
      "Clipping input data to the valid range for imshow with RGB data ([0..1] for floats or [0..255] for integers).\n"
     ]
    },
    {
     "data": {
      "image/png": "[encoded data removed]",
      "text/plain": [
       "<Figure size 500x750 with 6 Axes>"
      ]
     },
     "metadata": {},
     "output_type": "display_data"
    },
    {
     "name": "stdout",
     "output_type": "stream",
     "text": [
      "Seed: 0\n",
      "Editing layer 1\n",
      "Created ModelWrapperSanturkar model with 31340 trainable parameters\n",
      "Restored weights from saved/train/2_Spurious_MNIST-LeNet/0323_100223/models/model_best.pth\n",
      "Using passed in data loader for validation.\n",
      "Performing pre-edit metric calculations on validation set.\n"
     ]
    },
    {
     "name": "stderr",
     "output_type": "stream",
     "text": [
      "100%|███████████████████████████████████████████████████████████| 38/38 [00:00<00:00, 39.83it/s]"
     ]
    },
    {
     "name": "stdout",
     "output_type": "stream",
     "text": [
      "Pre-edit metrics: {'TP': array([450, 538, 520, 497, 452, 422, 436, 472, 456, 453]), 'TN': array([8250, 8296, 8225, 7702, 7784, 8342, 8397, 8265, 7467, 7968]), 'FPs': array([ 320,  119,  293,  838,  784,  316,  195,  257, 1109,  573]), 'FNs': array([480, 547, 462, 463, 480, 420, 472, 506, 468, 506]), 'accuracy': 0.4943157894736842, 'per_class_accuracy': array([0.91578947, 0.92989474, 0.92052632, 0.86305263, 0.86694737,\n",
      "       0.92252632, 0.92978947, 0.91968421, 0.834     , 0.88642105]), 'per_class_accuracy_mean': 0.8988631578947368, 'precision': array([0.58441558, 0.81887367, 0.6396064 , 0.37228464, 0.36569579,\n",
      "       0.57181572, 0.69096672, 0.64746228, 0.2913738 , 0.44152047]), 'precision_mean': 0.5424015070238444, 'recall': array([0.48387097, 0.49585253, 0.52953157, 0.51770833, 0.48497854,\n",
      "       0.50118765, 0.48017621, 0.48261759, 0.49350649, 0.47236705]), 'recall_mean': 0.4941796933975864, 'predicted_class_distribution': array([ 770,  657,  813, 1335, 1236,  738,  631,  729, 1565, 1026]), 'f1': array([0.52941176, 0.61768083, 0.57938719, 0.43311547, 0.41697417,\n",
      "       0.53417722, 0.56660169, 0.55301699, 0.36641221, 0.45642317]), 'f1_mean': 0.5053200697134669}\n",
      "Saved pre-edit metrics saved/edit_2_Spurious_MNIST/method_eac/LeNet-patches/0324_155144/results/edit_idx_15/models/pre_edit_metrics.pth\n",
      "Saved pre-edit logits to saved/edit_2_Spurious_MNIST/method_eac/LeNet-patches/0324_155144/results/edit_idx_15/models/pre_edit_logits.pth\n",
      "Created <class 'trainer.editor.EditorEAC'> editor.\n",
      "Is covariance_dataset in config? True\n",
      "Created dataloader for covariance matrix from 2_Spurious_MNIST_hold_out\n",
      "Looking for covariance matrix weights in cache/2_Spurious_MNIST_hold_out/lenet-1\n"
     ]
    },
    {
     "name": "stderr",
     "output_type": "stream",
     "text": [
      "\n"
     ]
    },
    {
     "name": "stdout",
     "output_type": "stream",
     "text": [
      "Found precomputed cov matrices, returning...\n",
      "n_edit: 2\n",
      "Forwarded edit data thru model\n",
      "Kstar[0] type: <class 'torch.Tensor'> shape: torch.Size([10, 14, 14])\n",
      "vstar type: <class 'torch.Tensor'> shape: torch.Size([2, 20, 5, 5])\n",
      "mstar type: <class 'torch.Tensor'> shape: torch.Size([2, 1, 32, 32])\n",
      "key shape: torch.Size([2, 10, 14, 14]) val shape: torch.Size([2, 20, 5, 5])\n"
     ]
    },
    {
     "name": "stderr",
     "output_type": "stream",
     "text": [
      "tensor(0.8636, device='cuda:0', grad_fn=<DivBackward0>): 100%|█| 30000/30000 [00:40<00:00, 740.4"
     ]
    },
    {
     "name": "stdout",
     "output_type": "stream",
     "text": [
      "Loss (orig, final): 0.8217484951019287 0.8636015057563782\n",
      "L2 norm of weight change: 5.838578224182129\n",
      "Performing post-edit metric calculations on validation set.\n"
     ]
    },
    {
     "name": "stderr",
     "output_type": "stream",
     "text": [
      "\n",
      "100%|███████████████████████████████████████████████████████████| 38/38 [00:00<00:00, 41.01it/s]"
     ]
    },
    {
     "name": "stdout",
     "output_type": "stream",
     "text": [
      "Post-edit metrics: {'TP': array([450, 537, 519, 494, 450, 416, 427, 471, 455, 457]), 'TN': array([8262, 8293, 8170, 7739, 7786, 8349, 8480, 8266, 7438, 7893]), 'FPs': array([ 308,  122,  348,  801,  782,  309,  112,  256, 1138,  648]), 'FNs': array([480, 548, 463, 466, 482, 426, 481, 507, 469, 502]), 'accuracy': 0.4922105263157895, 'per_class_accuracy': array([0.91705263, 0.92947368, 0.91463158, 0.86663158, 0.86694737,\n",
      "       0.92263158, 0.93757895, 0.91968421, 0.83084211, 0.87894737]), 'per_class_accuracy_mean': 0.8984421052631578, 'precision': array([0.59366755, 0.81487102, 0.59861592, 0.38146718, 0.36525974,\n",
      "       0.5737931 , 0.79220779, 0.64786795, 0.28562461, 0.41357466]), 'precision_mean': 0.5466949515977528, 'recall': array([0.48387097, 0.49493088, 0.52851324, 0.51458333, 0.48283262,\n",
      "       0.49406176, 0.47026432, 0.48159509, 0.49242424, 0.47653806]), 'recall_mean': 0.49196145027950433, 'predicted_class_distribution': array([ 758,  659,  867, 1295, 1232,  725,  539,  727, 1593, 1105]), 'f1': array([0.53317536, 0.61582569, 0.56138453, 0.43813747, 0.41589649,\n",
      "       0.53095086, 0.59018659, 0.55249267, 0.36154152, 0.44282946]), 'f1_mean': 0.5042420634107792}\n",
      "Saved post-edit metrics saved/edit_2_Spurious_MNIST/method_eac/LeNet-patches/0324_155144/results/edit_idx_15/models/post_edit_metrics.pth\n",
      "Saved post-edit logits to saved/edit_2_Spurious_MNIST/method_eac/LeNet-patches/0324_155144/results/edit_idx_15/models/post_edit_logits.pth\n",
      "All metrics and KNN results can be found in saved/edit_2_Spurious_MNIST/method_eac/LeNet-patches/0324_155144/results/edit_idx_15/models\n"
     ]
    },
    {
     "name": "stderr",
     "output_type": "stream",
     "text": [
      "\n"
     ]
    }
   ],
   "source": [
    "run_trials(\n",
    "    edit_data_loader=edit_data_loader,\n",
    "    progress_report_path=progress_report_path,\n",
    "    trial_paths_path=trial_paths_path,\n",
    "    test_data_loader=test_data_loader,\n",
    "    # covariance_data_loader=covariance_data_loader,\n",
    "    config_dict=config_dict,\n",
    "    run_id_prefix=os.path.join(timestamp),\n",
    "    debug=True,\n",
    "    seed=0)\n"
   ]
  },
  {
   "cell_type": "markdown",
   "metadata": {},
   "source": [
    "### Run experiments varying some variable"
   ]
  },
  {
   "cell_type": "code",
   "execution_count": 53,
   "metadata": {
    "tags": []
   },
   "outputs": [],
   "source": [
    "def get_nested_dict_value(keys: list,\n",
    "                          dictionary: dict):\n",
    "    \n",
    "    # Base case\n",
    "    if len(keys) == 1:\n",
    "        try:\n",
    "            return dictionary[keys[0]]\n",
    "        except:\n",
    "            print(\"in except\")\n",
    "            return None\n",
    "    else:\n",
    "        try:\n",
    "            item = dictionary[keys[0]]\n",
    "            return get_nested_dict_value(\n",
    "                keys=keys[1:],\n",
    "                dictionary=item)\n",
    "        except:\n",
    "            print(\"in except\")\n",
    "            return None\n",
    "        \n",
    "def set_nested_dict_value(keys: list,\n",
    "                          dictionary: dict,\n",
    "                          value: any):\n",
    "    '''\n",
    "    DOES change the original dictionary\n",
    "    '''\n",
    "    \n",
    "    # Base case\n",
    "    if len(keys) == 1:\n",
    "        dictionary[keys[0]] = value\n",
    "        return True\n",
    "    else:\n",
    "        try:\n",
    "            item = dictionary[keys[0]]\n",
    "            if not isinstance(item, dict):\n",
    "                return False\n",
    "            else:\n",
    "                return set_nested_dict_value(\n",
    "                    keys=keys[1:],\n",
    "                    dictionary=item,\n",
    "                    value=value)\n",
    "        except:\n",
    "            print(\"in except\")\n",
    "            return False\n",
    "\n",
    "def run_experiments(iv_path: str,\n",
    "                    iv_values: list,\n",
    "                    edit_data_loader: list,\n",
    "                    progress_report_path: str,\n",
    "                    trial_paths_path: str,\n",
    "                    timestamp: str,\n",
    "                    config_dict: dict,\n",
    "                    test_data_loader=None,\n",
    "                    covariance_data_loader=None,\n",
    "                    analyze_in_edit=True,\n",
    "                    debug=True,\n",
    "                    seed: int=0):\n",
    "    \n",
    "    iv_path_list = iv_path.split('/')\n",
    "    \n",
    "    if get_nested_dict_value(keys=iv_path_list, dictionary=config_dict) is None:\n",
    "        raise ValueError(\"Could not find path of keys {} in config dictionary\".format(iv_path))\n",
    "\n",
    "    n_experiments = len(iv_values)\n",
    "    for iv_idx, iv_value in enumerate(iv_values):\n",
    "        # config_dict[iv_name] = iv_value\n",
    "        if not set_nested_dict_value(\n",
    "            keys=iv_path_list,\n",
    "            dictionary=config_dict,\n",
    "            value=iv_value):\n",
    "            raise ValueError(\"Unable to set value of {} to {}\".format(iv_path, iv_value))\n",
    "        informal_log(\"Experimenting with {} of {}\".format(iv_path, iv_value), progress_report_path)\n",
    "        \n",
    "        run_id_prefix = os.path.join(timestamp, '{}_{}'.format(iv_path.replace('/', '_'), iv_value))\n",
    "        \n",
    "        run_trials(\n",
    "            edit_data_loader=edit_data_loader,\n",
    "            test_data_loader=test_data_loader,\n",
    "            covariance_data_loader=covariance_data_loader,\n",
    "            config_dict=config_dict,\n",
    "            run_id_prefix=run_id_prefix,\n",
    "            progress_report_path=progress_report_path,\n",
    "            trial_paths_path=trial_paths_path,\n",
    "            debug=debug,\n",
    "            analyze_in_edit=analyze_in_edit,\n",
    "            seed=seed)\n",
    "            "
   ]
  },
  {
   "cell_type": "markdown",
   "metadata": {},
   "source": [
    "#### Run experiments varying layer number"
   ]
  },
  {
   "cell_type": "code",
   "execution_count": 54,
   "metadata": {
    "scrolled": true,
    "tags": []
   },
   "outputs": [
    {
     "name": "stdout",
     "output_type": "stream",
     "text": [
      "Varying layernum with following values: [0, 1]\n",
      "Experimenting with layernum of 0\n",
      "(0324_170239) Starting Trial 1/16...\n",
      "saved/edit_2_Spurious_MNIST/method_eac/LeNet-patches/0324_170216/layernum_0/results/edit_idx_0\n",
      "torch.Size([2, 1, 32, 32])\n",
      "3 2\n",
      "Clipping input data to the valid range for imshow with RGB data ([0..1] for floats or [0..255] for integers).\n",
      "Clipping input data to the valid range for imshow with RGB data ([0..1] for floats or [0..255] for integers).\n",
      "Clipping input data to the valid range for imshow with RGB data ([0..1] for floats or [0..255] for integers).\n",
      "Clipping input data to the valid range for imshow with RGB data ([0..1] for floats or [0..255] for integers).\n"
     ]
    },
    {
     "data": {
      "image/png": "[encoded data removed]",
      "text/plain": [
       "<Figure size 500x750 with 6 Axes>"
      ]
     },
     "metadata": {},
     "output_type": "display_data"
    },
    {
     "name": "stdout",
     "output_type": "stream",
     "text": [
      "Seed: 0\n",
      "Editing layer 0\n",
      "Created ModelWrapperSanturkar model with 31340 trainable parameters\n",
      "Restored weights from saved/train/2_Spurious_MNIST-LeNet/0323_100223/models/model_best.pth\n",
      "Using passed in data loader for validation.\n",
      "Performing pre-edit metric calculations on validation set.\n"
     ]
    },
    {
     "name": "stderr",
     "output_type": "stream",
     "text": [
      "100%|███████████████████████████████████████████████████████████| 38/38 [00:00<00:00, 39.87it/s]"
     ]
    },
    {
     "name": "stdout",
     "output_type": "stream",
     "text": [
      "Pre-edit metrics: {'TP': array([450, 538, 520, 497, 452, 422, 436, 472, 456, 453]), 'TN': array([8250, 8296, 8225, 7702, 7784, 8342, 8397, 8265, 7467, 7968]), 'FPs': array([ 320,  119,  293,  838,  784,  316,  195,  257, 1109,  573]), 'FNs': array([480, 547, 462, 463, 480, 420, 472, 506, 468, 506]), 'accuracy': 0.4943157894736842, 'per_class_accuracy': array([0.91578947, 0.92989474, 0.92052632, 0.86305263, 0.86694737,\n",
      "       0.92252632, 0.92978947, 0.91968421, 0.834     , 0.88642105]), 'per_class_accuracy_mean': 0.8988631578947368, 'precision': array([0.58441558, 0.81887367, 0.6396064 , 0.37228464, 0.36569579,\n",
      "       0.57181572, 0.69096672, 0.64746228, 0.2913738 , 0.44152047]), 'precision_mean': 0.5424015070238444, 'recall': array([0.48387097, 0.49585253, 0.52953157, 0.51770833, 0.48497854,\n",
      "       0.50118765, 0.48017621, 0.48261759, 0.49350649, 0.47236705]), 'recall_mean': 0.4941796933975864, 'predicted_class_distribution': array([ 770,  657,  813, 1335, 1236,  738,  631,  729, 1565, 1026]), 'f1': array([0.52941176, 0.61768083, 0.57938719, 0.43311547, 0.41697417,\n",
      "       0.53417722, 0.56660169, 0.55301699, 0.36641221, 0.45642317]), 'f1_mean': 0.5053200697134669}\n",
      "Saved pre-edit metrics saved/edit_2_Spurious_MNIST/method_eac/LeNet-patches/0324_170216/layernum_0/results/edit_idx_0/models/pre_edit_metrics.pth\n",
      "Saved pre-edit logits to saved/edit_2_Spurious_MNIST/method_eac/LeNet-patches/0324_170216/layernum_0/results/edit_idx_0/models/pre_edit_logits.pth\n",
      "Created <class 'trainer.editor.EditorEAC'> editor.\n",
      "Using passed in covariance data loader.\n",
      "Looking for covariance matrix weights in cache/2_Spurious_MNIST_hold_out/lenet-0\n",
      "Computing cov matrices...\n"
     ]
    },
    {
     "name": "stderr",
     "output_type": "stream",
     "text": [
      "\n",
      "100%|█████████████████████████████████████████████████████████████| 2/2 [00:00<00:00, 11.87it/s]\n"
     ]
    },
    {
     "name": "stdout",
     "output_type": "stream",
     "text": [
      "acts shape: torch.Size([256, 3, 32, 32])\n",
      "acts shape: torch.Size([244, 3, 32, 32])\n",
      "Cov shape: torch.Size([3, 3])\n",
      "n_edit: 2\n",
      "Forwarded edit data thru model\n",
      "Kstar[0] type: <class 'torch.Tensor'> shape: torch.Size([3, 32, 32])\n",
      "vstar type: <class 'torch.Tensor'> shape: torch.Size([2, 10, 14, 14])\n",
      "mstar type: <class 'torch.Tensor'> shape: torch.Size([2, 1, 32, 32])\n",
      "key shape: torch.Size([2, 3, 32, 32]) val shape: torch.Size([2, 10, 14, 14])\n"
     ]
    },
    {
     "name": "stderr",
     "output_type": "stream",
     "text": [
      "tensor(0.5822, device='cuda:0', grad_fn=<DivBackward0>): 100%|█| 30000/30000 [00:41<00:00, 715.1"
     ]
    },
    {
     "name": "stdout",
     "output_type": "stream",
     "text": [
      "Loss (orig, final): 0.6493484973907471 0.5822376012802124\n",
      "L2 norm of weight change: 2.2028045654296875\n",
      "Performing post-edit metric calculations on validation set.\n"
     ]
    },
    {
     "name": "stderr",
     "output_type": "stream",
     "text": [
      "\n",
      "100%|███████████████████████████████████████████████████████████| 38/38 [00:00<00:00, 40.10it/s]"
     ]
    },
    {
     "name": "stdout",
     "output_type": "stream",
     "text": [
      "Post-edit metrics: {'TP': array([456, 539, 546, 539, 454, 186, 439, 350, 445, 300]), 'TN': array([8249, 8304, 8225, 7680, 7793, 8538, 7869, 8114, 7143, 8339]), 'FPs': array([ 321,  111,  293,  860,  775,  120,  723,  408, 1433,  202]), 'FNs': array([474, 546, 436, 421, 478, 656, 469, 628, 479, 659]), 'accuracy': 0.4477894736842105, 'per_class_accuracy': array([0.91631579, 0.93084211, 0.92326316, 0.86515789, 0.86810526,\n",
      "       0.91831579, 0.87452632, 0.89094737, 0.79873684, 0.90936842]), 'per_class_accuracy_mean': 0.8895578947368422, 'precision': array([0.58687259, 0.82923077, 0.65077473, 0.3852752 , 0.36940602,\n",
      "       0.60784314, 0.3777969 , 0.46174142, 0.23695421, 0.59760956]), 'precision_mean': 0.5103504537957402, 'recall': array([0.49032258, 0.49677419, 0.55600815, 0.56145833, 0.48712446,\n",
      "       0.22090261, 0.48348018, 0.35787321, 0.48160173, 0.31282586]), 'recall_mean': 0.44483713092305577, 'predicted_class_distribution': array([ 777,  650,  839, 1399, 1229,  306, 1162,  758, 1878,  502]), 'f1': array([0.53427065, 0.62132565, 0.59967051, 0.45697329, 0.42017584,\n",
      "       0.32404181, 0.42415459, 0.40322581, 0.31763026, 0.41067762]), 'f1_mean': 0.45121460375091543}\n",
      "Saved post-edit metrics saved/edit_2_Spurious_MNIST/method_eac/LeNet-patches/0324_170216/layernum_0/results/edit_idx_0/models/post_edit_metrics.pth\n",
      "Saved post-edit logits to saved/edit_2_Spurious_MNIST/method_eac/LeNet-patches/0324_170216/layernum_0/results/edit_idx_0/models/post_edit_logits.pth\n",
      "All metrics and KNN results can be found in saved/edit_2_Spurious_MNIST/method_eac/LeNet-patches/0324_170216/layernum_0/results/edit_idx_0/models\n",
      "(0324_170324) Starting Trial 2/16...\n"
     ]
    },
    {
     "name": "stderr",
     "output_type": "stream",
     "text": [
      "\n"
     ]
    },
    {
     "name": "stdout",
     "output_type": "stream",
     "text": [
      "saved/edit_2_Spurious_MNIST/method_eac/LeNet-patches/0324_170216/layernum_0/results/edit_idx_1\n",
      "torch.Size([2, 1, 32, 32])\n",
      "3 2\n",
      "Clipping input data to the valid range for imshow with RGB data ([0..1] for floats or [0..255] for integers).\n",
      "Clipping input data to the valid range for imshow with RGB data ([0..1] for floats or [0..255] for integers).\n",
      "Clipping input data to the valid range for imshow with RGB data ([0..1] for floats or [0..255] for integers).\n",
      "Clipping input data to the valid range for imshow with RGB data ([0..1] for floats or [0..255] for integers).\n"
     ]
    },
    {
     "data": {
      "image/png": "[encoded data removed]",
      "text/plain": [
       "<Figure size 500x750 with 6 Axes>"
      ]
     },
     "metadata": {},
     "output_type": "display_data"
    },
    {
     "name": "stdout",
     "output_type": "stream",
     "text": [
      "Seed: 0\n",
      "Editing layer 0\n",
      "Created ModelWrapperSanturkar model with 31340 trainable parameters\n",
      "Restored weights from saved/train/2_Spurious_MNIST-LeNet/0323_100223/models/model_best.pth\n",
      "Using passed in data loader for validation.\n",
      "Performing pre-edit metric calculations on validation set.\n"
     ]
    },
    {
     "name": "stderr",
     "output_type": "stream",
     "text": [
      "100%|███████████████████████████████████████████████████████████| 38/38 [00:00<00:00, 40.20it/s]"
     ]
    },
    {
     "name": "stdout",
     "output_type": "stream",
     "text": [
      "Pre-edit metrics: {'TP': array([450, 538, 520, 497, 452, 422, 436, 472, 456, 453]), 'TN': array([8250, 8296, 8225, 7702, 7784, 8342, 8397, 8265, 7467, 7968]), 'FPs': array([ 320,  119,  293,  838,  784,  316,  195,  257, 1109,  573]), 'FNs': array([480, 547, 462, 463, 480, 420, 472, 506, 468, 506]), 'accuracy': 0.4943157894736842, 'per_class_accuracy': array([0.91578947, 0.92989474, 0.92052632, 0.86305263, 0.86694737,\n",
      "       0.92252632, 0.92978947, 0.91968421, 0.834     , 0.88642105]), 'per_class_accuracy_mean': 0.8988631578947368, 'precision': array([0.58441558, 0.81887367, 0.6396064 , 0.37228464, 0.36569579,\n",
      "       0.57181572, 0.69096672, 0.64746228, 0.2913738 , 0.44152047]), 'precision_mean': 0.5424015070238444, 'recall': array([0.48387097, 0.49585253, 0.52953157, 0.51770833, 0.48497854,\n",
      "       0.50118765, 0.48017621, 0.48261759, 0.49350649, 0.47236705]), 'recall_mean': 0.4941796933975864, 'predicted_class_distribution': array([ 770,  657,  813, 1335, 1236,  738,  631,  729, 1565, 1026]), 'f1': array([0.52941176, 0.61768083, 0.57938719, 0.43311547, 0.41697417,\n",
      "       0.53417722, 0.56660169, 0.55301699, 0.36641221, 0.45642317]), 'f1_mean': 0.5053200697134669}\n",
      "Saved pre-edit metrics saved/edit_2_Spurious_MNIST/method_eac/LeNet-patches/0324_170216/layernum_0/results/edit_idx_1/models/pre_edit_metrics.pth\n",
      "Saved pre-edit logits to saved/edit_2_Spurious_MNIST/method_eac/LeNet-patches/0324_170216/layernum_0/results/edit_idx_1/models/pre_edit_logits.pth\n",
      "Created <class 'trainer.editor.EditorEAC'> editor.\n",
      "Using passed in covariance data loader.\n",
      "Looking for covariance matrix weights in cache/2_Spurious_MNIST_hold_out/lenet-0\n"
     ]
    },
    {
     "name": "stderr",
     "output_type": "stream",
     "text": [
      "\n"
     ]
    },
    {
     "name": "stdout",
     "output_type": "stream",
     "text": [
      "Found precomputed cov matrices, returning...\n",
      "n_edit: 2\n",
      "Forwarded edit data thru model\n",
      "Kstar[0] type: <class 'torch.Tensor'> shape: torch.Size([3, 32, 32])\n",
      "vstar type: <class 'torch.Tensor'> shape: torch.Size([2, 10, 14, 14])\n",
      "mstar type: <class 'torch.Tensor'> shape: torch.Size([2, 1, 32, 32])\n",
      "key shape: torch.Size([2, 3, 32, 32]) val shape: torch.Size([2, 10, 14, 14])\n"
     ]
    },
    {
     "name": "stderr",
     "output_type": "stream",
     "text": [
      "tensor(0.5685, device='cuda:0', grad_fn=<DivBackward0>): 100%|█| 30000/30000 [00:41<00:00, 725.8\n"
     ]
    },
    {
     "name": "stdout",
     "output_type": "stream",
     "text": [
      "Loss (orig, final): 0.6477403044700623 0.5685129761695862\n",
      "L2 norm of weight change: 2.5861124992370605\n",
      "Performing post-edit metric calculations on validation set.\n"
     ]
    },
    {
     "name": "stderr",
     "output_type": "stream",
     "text": [
      "100%|███████████████████████████████████████████████████████████| 38/38 [00:00<00:00, 39.65it/s]"
     ]
    },
    {
     "name": "stdout",
     "output_type": "stream",
     "text": [
      "Post-edit metrics: {'TP': array([599, 539, 727, 643, 455, 191, 318, 360, 399, 185]), 'TN': array([8257, 8309, 8221, 7580, 7792, 8478, 8496, 7687, 7813, 7783]), 'FPs': array([313, 106, 297, 960, 776, 180,  96, 835, 763, 758]), 'FNs': array([331, 546, 255, 317, 477, 651, 590, 618, 525, 774]), 'accuracy': 0.4648421052631579, 'per_class_accuracy': array([0.93221053, 0.93136842, 0.94189474, 0.86557895, 0.86810526,\n",
      "       0.91252632, 0.92778947, 0.84705263, 0.86442105, 0.83873684]), 'per_class_accuracy_mean': 0.8929684210526314, 'precision': array([0.65679825, 0.83565891, 0.70996094, 0.40112289, 0.3696182 ,\n",
      "       0.5148248 , 0.76811594, 0.30125523, 0.34337349, 0.1961824 ]), 'precision_mean': 0.5096911049584185, 'recall': array([0.64408602, 0.49677419, 0.74032587, 0.66979167, 0.48819742,\n",
      "       0.22684086, 0.35022026, 0.36809816, 0.43181818, 0.19290928]), 'recall_mean': 0.4609061913445557, 'predicted_class_distribution': array([ 912,  645, 1024, 1603, 1231,  371,  414, 1195, 1162,  943]), 'f1': array([0.65038002, 0.62312139, 0.72482552, 0.50175575, 0.42071197,\n",
      "       0.31492168, 0.48108926, 0.33133916, 0.38255034, 0.19453207]), 'f1_mean': 0.46252271715151744}\n",
      "Saved post-edit metrics saved/edit_2_Spurious_MNIST/method_eac/LeNet-patches/0324_170216/layernum_0/results/edit_idx_1/models/post_edit_metrics.pth\n",
      "Saved post-edit logits to saved/edit_2_Spurious_MNIST/method_eac/LeNet-patches/0324_170216/layernum_0/results/edit_idx_1/models/post_edit_logits.pth\n",
      "All metrics and KNN results can be found in saved/edit_2_Spurious_MNIST/method_eac/LeNet-patches/0324_170216/layernum_0/results/edit_idx_1/models\n",
      "(0324_170408) Starting Trial 3/16...\n"
     ]
    },
    {
     "name": "stderr",
     "output_type": "stream",
     "text": [
      "\n"
     ]
    },
    {
     "name": "stdout",
     "output_type": "stream",
     "text": [
      "saved/edit_2_Spurious_MNIST/method_eac/LeNet-patches/0324_170216/layernum_0/results/edit_idx_2\n",
      "torch.Size([2, 1, 32, 32])\n",
      "3 2\n",
      "Clipping input data to the valid range for imshow with RGB data ([0..1] for floats or [0..255] for integers).\n",
      "Clipping input data to the valid range for imshow with RGB data ([0..1] for floats or [0..255] for integers).\n",
      "Clipping input data to the valid range for imshow with RGB data ([0..1] for floats or [0..255] for integers).\n",
      "Clipping input data to the valid range for imshow with RGB data ([0..1] for floats or [0..255] for integers).\n"
     ]
    },
    {
     "data": {
      "image/png": "[encoded data removed]",
      "text/plain": [
       "<Figure size 500x750 with 6 Axes>"
      ]
     },
     "metadata": {},
     "output_type": "display_data"
    },
    {
     "name": "stdout",
     "output_type": "stream",
     "text": [
      "Seed: 0\n",
      "Editing layer 0\n",
      "Created ModelWrapperSanturkar model with 31340 trainable parameters\n",
      "Restored weights from saved/train/2_Spurious_MNIST-LeNet/0323_100223/models/model_best.pth\n",
      "Using passed in data loader for validation.\n",
      "Performing pre-edit metric calculations on validation set.\n"
     ]
    },
    {
     "name": "stderr",
     "output_type": "stream",
     "text": [
      "100%|███████████████████████████████████████████████████████████| 38/38 [00:01<00:00, 22.77it/s]"
     ]
    },
    {
     "name": "stdout",
     "output_type": "stream",
     "text": [
      "Pre-edit metrics: {'TP': array([450, 538, 520, 497, 452, 422, 436, 472, 456, 453]), 'TN': array([8250, 8296, 8225, 7702, 7784, 8342, 8397, 8265, 7467, 7968]), 'FPs': array([ 320,  119,  293,  838,  784,  316,  195,  257, 1109,  573]), 'FNs': array([480, 547, 462, 463, 480, 420, 472, 506, 468, 506]), 'accuracy': 0.4943157894736842, 'per_class_accuracy': array([0.91578947, 0.92989474, 0.92052632, 0.86305263, 0.86694737,\n",
      "       0.92252632, 0.92978947, 0.91968421, 0.834     , 0.88642105]), 'per_class_accuracy_mean': 0.8988631578947368, 'precision': array([0.58441558, 0.81887367, 0.6396064 , 0.37228464, 0.36569579,\n",
      "       0.57181572, 0.69096672, 0.64746228, 0.2913738 , 0.44152047]), 'precision_mean': 0.5424015070238444, 'recall': array([0.48387097, 0.49585253, 0.52953157, 0.51770833, 0.48497854,\n",
      "       0.50118765, 0.48017621, 0.48261759, 0.49350649, 0.47236705]), 'recall_mean': 0.4941796933975864, 'predicted_class_distribution': array([ 770,  657,  813, 1335, 1236,  738,  631,  729, 1565, 1026]), 'f1': array([0.52941176, 0.61768083, 0.57938719, 0.43311547, 0.41697417,\n",
      "       0.53417722, 0.56660169, 0.55301699, 0.36641221, 0.45642317]), 'f1_mean': 0.5053200697134669}\n",
      "Saved pre-edit metrics saved/edit_2_Spurious_MNIST/method_eac/LeNet-patches/0324_170216/layernum_0/results/edit_idx_2/models/pre_edit_metrics.pth\n",
      "Saved pre-edit logits to saved/edit_2_Spurious_MNIST/method_eac/LeNet-patches/0324_170216/layernum_0/results/edit_idx_2/models/pre_edit_logits.pth\n",
      "Created <class 'trainer.editor.EditorEAC'> editor.\n",
      "Using passed in covariance data loader.\n",
      "Looking for covariance matrix weights in cache/2_Spurious_MNIST_hold_out/lenet-0\n"
     ]
    },
    {
     "name": "stderr",
     "output_type": "stream",
     "text": [
      "\n"
     ]
    },
    {
     "name": "stdout",
     "output_type": "stream",
     "text": [
      "Found precomputed cov matrices, returning...\n",
      "n_edit: 2\n",
      "Forwarded edit data thru model\n",
      "Kstar[0] type: <class 'torch.Tensor'> shape: torch.Size([3, 32, 32])\n",
      "vstar type: <class 'torch.Tensor'> shape: torch.Size([2, 10, 14, 14])\n",
      "mstar type: <class 'torch.Tensor'> shape: torch.Size([2, 1, 32, 32])\n",
      "key shape: torch.Size([2, 3, 32, 32]) val shape: torch.Size([2, 10, 14, 14])\n"
     ]
    },
    {
     "name": "stderr",
     "output_type": "stream",
     "text": [
      "tensor(0.5539, device='cuda:0', grad_fn=<DivBackward0>): 100%|█| 30000/30000 [00:41<00:00, 729.6"
     ]
    },
    {
     "name": "stdout",
     "output_type": "stream",
     "text": [
      "Loss (orig, final): 0.6169161200523376 0.553902268409729\n",
      "L2 norm of weight change: 1.8420671224594116\n",
      "Performing post-edit metric calculations on validation set.\n"
     ]
    },
    {
     "name": "stderr",
     "output_type": "stream",
     "text": [
      "\n",
      "100%|███████████████████████████████████████████████████████████| 38/38 [00:00<00:00, 38.56it/s]"
     ]
    },
    {
     "name": "stdout",
     "output_type": "stream",
     "text": [
      "Post-edit metrics: {'TP': array([450, 720, 518, 498, 452, 410, 424, 365, 450, 271]), 'TN': array([8247, 8290, 8230, 7710, 7776, 8271, 8291, 8488, 6982, 8273]), 'FPs': array([ 323,  125,  288,  830,  792,  387,  301,   34, 1594,  268]), 'FNs': array([480, 365, 464, 462, 480, 432, 484, 613, 474, 688]), 'accuracy': 0.47978947368421054, 'per_class_accuracy': array([0.91547368, 0.94842105, 0.92084211, 0.864     , 0.86610526,\n",
      "       0.91378947, 0.91736842, 0.93189474, 0.78231579, 0.89936842]), 'per_class_accuracy_mean': 0.8959578947368421, 'precision': array([0.58214748, 0.85207101, 0.6426799 , 0.375     , 0.36334405,\n",
      "       0.51442911, 0.58482759, 0.91478697, 0.22015656, 0.50278293]), 'precision_mean': 0.5552225585381597, 'recall': array([0.48387097, 0.66359447, 0.52749491, 0.51875   , 0.48497854,\n",
      "       0.48693587, 0.46696035, 0.37321063, 0.48701299, 0.28258603]), 'recall_mean': 0.4775394754388528, 'predicted_class_distribution': array([ 773,  845,  806, 1328, 1244,  797,  725,  399, 2044,  539]), 'f1': array([0.52847915, 0.74611399, 0.57941834, 0.43531469, 0.41544118,\n",
      "       0.50030506, 0.51928965, 0.53013798, 0.3032345 , 0.36181575]), 'f1_mean': 0.49195503021927756}\n",
      "Saved post-edit metrics saved/edit_2_Spurious_MNIST/method_eac/LeNet-patches/0324_170216/layernum_0/results/edit_idx_2/models/post_edit_metrics.pth\n",
      "Saved post-edit logits to saved/edit_2_Spurious_MNIST/method_eac/LeNet-patches/0324_170216/layernum_0/results/edit_idx_2/models/post_edit_logits.pth\n",
      "All metrics and KNN results can be found in saved/edit_2_Spurious_MNIST/method_eac/LeNet-patches/0324_170216/layernum_0/results/edit_idx_2/models\n",
      "(0324_170452) Starting Trial 4/16...\n"
     ]
    },
    {
     "name": "stderr",
     "output_type": "stream",
     "text": [
      "\n"
     ]
    },
    {
     "name": "stdout",
     "output_type": "stream",
     "text": [
      "saved/edit_2_Spurious_MNIST/method_eac/LeNet-patches/0324_170216/layernum_0/results/edit_idx_3\n",
      "torch.Size([2, 1, 32, 32])\n",
      "3 2\n",
      "Clipping input data to the valid range for imshow with RGB data ([0..1] for floats or [0..255] for integers).\n",
      "Clipping input data to the valid range for imshow with RGB data ([0..1] for floats or [0..255] for integers).\n",
      "Clipping input data to the valid range for imshow with RGB data ([0..1] for floats or [0..255] for integers).\n",
      "Clipping input data to the valid range for imshow with RGB data ([0..1] for floats or [0..255] for integers).\n"
     ]
    },
    {
     "data": {
      "image/png": "[encoded data removed]",
      "text/plain": [
       "<Figure size 500x750 with 6 Axes>"
      ]
     },
     "metadata": {},
     "output_type": "display_data"
    },
    {
     "name": "stdout",
     "output_type": "stream",
     "text": [
      "Seed: 0\n",
      "Editing layer 0\n",
      "Created ModelWrapperSanturkar model with 31340 trainable parameters\n",
      "Restored weights from saved/train/2_Spurious_MNIST-LeNet/0323_100223/models/model_best.pth\n",
      "Using passed in data loader for validation.\n",
      "Performing pre-edit metric calculations on validation set.\n"
     ]
    },
    {
     "name": "stderr",
     "output_type": "stream",
     "text": [
      "100%|███████████████████████████████████████████████████████████| 38/38 [00:00<00:00, 38.87it/s]"
     ]
    },
    {
     "name": "stdout",
     "output_type": "stream",
     "text": [
      "Pre-edit metrics: {'TP': array([450, 538, 520, 497, 452, 422, 436, 472, 456, 453]), 'TN': array([8250, 8296, 8225, 7702, 7784, 8342, 8397, 8265, 7467, 7968]), 'FPs': array([ 320,  119,  293,  838,  784,  316,  195,  257, 1109,  573]), 'FNs': array([480, 547, 462, 463, 480, 420, 472, 506, 468, 506]), 'accuracy': 0.4943157894736842, 'per_class_accuracy': array([0.91578947, 0.92989474, 0.92052632, 0.86305263, 0.86694737,\n",
      "       0.92252632, 0.92978947, 0.91968421, 0.834     , 0.88642105]), 'per_class_accuracy_mean': 0.8988631578947368, 'precision': array([0.58441558, 0.81887367, 0.6396064 , 0.37228464, 0.36569579,\n",
      "       0.57181572, 0.69096672, 0.64746228, 0.2913738 , 0.44152047]), 'precision_mean': 0.5424015070238444, 'recall': array([0.48387097, 0.49585253, 0.52953157, 0.51770833, 0.48497854,\n",
      "       0.50118765, 0.48017621, 0.48261759, 0.49350649, 0.47236705]), 'recall_mean': 0.4941796933975864, 'predicted_class_distribution': array([ 770,  657,  813, 1335, 1236,  738,  631,  729, 1565, 1026]), 'f1': array([0.52941176, 0.61768083, 0.57938719, 0.43311547, 0.41697417,\n",
      "       0.53417722, 0.56660169, 0.55301699, 0.36641221, 0.45642317]), 'f1_mean': 0.5053200697134669}\n",
      "Saved pre-edit metrics saved/edit_2_Spurious_MNIST/method_eac/LeNet-patches/0324_170216/layernum_0/results/edit_idx_3/models/pre_edit_metrics.pth\n",
      "Saved pre-edit logits to saved/edit_2_Spurious_MNIST/method_eac/LeNet-patches/0324_170216/layernum_0/results/edit_idx_3/models/pre_edit_logits.pth\n",
      "Created <class 'trainer.editor.EditorEAC'> editor.\n",
      "Using passed in covariance data loader.\n",
      "Looking for covariance matrix weights in cache/2_Spurious_MNIST_hold_out/lenet-0\n"
     ]
    },
    {
     "name": "stderr",
     "output_type": "stream",
     "text": [
      "\n"
     ]
    },
    {
     "name": "stdout",
     "output_type": "stream",
     "text": [
      "Found precomputed cov matrices, returning...\n",
      "n_edit: 2\n",
      "Forwarded edit data thru model\n",
      "Kstar[0] type: <class 'torch.Tensor'> shape: torch.Size([3, 32, 32])\n",
      "vstar type: <class 'torch.Tensor'> shape: torch.Size([2, 10, 14, 14])\n",
      "mstar type: <class 'torch.Tensor'> shape: torch.Size([2, 1, 32, 32])\n",
      "key shape: torch.Size([2, 3, 32, 32]) val shape: torch.Size([2, 10, 14, 14])\n"
     ]
    },
    {
     "name": "stderr",
     "output_type": "stream",
     "text": [
      "tensor(0.5494, device='cuda:0', grad_fn=<DivBackward0>): 100%|█| 30000/30000 [00:42<00:00, 708.7"
     ]
    },
    {
     "name": "stdout",
     "output_type": "stream",
     "text": [
      "Loss (orig, final): 0.566157341003418 0.5494059324264526\n",
      "L2 norm of weight change: 1.6414222717285156\n",
      "Performing post-edit metric calculations on validation set.\n"
     ]
    },
    {
     "name": "stderr",
     "output_type": "stream",
     "text": [
      "\n",
      "100%|███████████████████████████████████████████████████████████| 38/38 [00:00<00:00, 40.85it/s]"
     ]
    },
    {
     "name": "stdout",
     "output_type": "stream",
     "text": [
      "Post-edit metrics: {'TP': array([450, 572, 518, 496, 452, 418, 429, 436, 453, 415]), 'TN': array([8249, 8290, 8229, 7709, 7777, 8268, 8212, 8455, 7306, 8144]), 'FPs': array([ 321,  125,  289,  831,  791,  390,  380,   67, 1270,  397]), 'FNs': array([480, 513, 464, 464, 480, 424, 479, 542, 471, 544]), 'accuracy': 0.4883157894736842, 'per_class_accuracy': array([0.91568421, 0.93284211, 0.92073684, 0.86368421, 0.86621053,\n",
      "       0.91431579, 0.90957895, 0.93589474, 0.81673684, 0.90094737]), 'per_class_accuracy_mean': 0.8976631578947367, 'precision': array([0.58365759, 0.82065997, 0.64188352, 0.37377543, 0.36363636,\n",
      "       0.51732673, 0.5302843 , 0.8667992 , 0.26291352, 0.51108374]), 'precision_mean': 0.5472020380824808, 'recall': array([0.48387097, 0.52718894, 0.52749491, 0.51666667, 0.48497854,\n",
      "       0.49643705, 0.47246696, 0.44580777, 0.49025974, 0.43274244]), 'recall_mean': 0.48779139898704527, 'predicted_class_distribution': array([ 771,  697,  807, 1327, 1243,  808,  809,  503, 1723,  812]), 'f1': array([0.52910053, 0.64197531, 0.57909447, 0.43375601, 0.41563218,\n",
      "       0.50666667, 0.49970879, 0.58879136, 0.34227427, 0.46866177]), 'f1_mean': 0.500566136411371}\n",
      "Saved post-edit metrics saved/edit_2_Spurious_MNIST/method_eac/LeNet-patches/0324_170216/layernum_0/results/edit_idx_3/models/post_edit_metrics.pth\n",
      "Saved post-edit logits to saved/edit_2_Spurious_MNIST/method_eac/LeNet-patches/0324_170216/layernum_0/results/edit_idx_3/models/post_edit_logits.pth\n",
      "All metrics and KNN results can be found in saved/edit_2_Spurious_MNIST/method_eac/LeNet-patches/0324_170216/layernum_0/results/edit_idx_3/models\n",
      "(0324_170537) Starting Trial 5/16...\n"
     ]
    },
    {
     "name": "stderr",
     "output_type": "stream",
     "text": [
      "\n"
     ]
    },
    {
     "name": "stdout",
     "output_type": "stream",
     "text": [
      "saved/edit_2_Spurious_MNIST/method_eac/LeNet-patches/0324_170216/layernum_0/results/edit_idx_4\n",
      "torch.Size([2, 1, 32, 32])\n",
      "3 2\n",
      "Clipping input data to the valid range for imshow with RGB data ([0..1] for floats or [0..255] for integers).\n",
      "Clipping input data to the valid range for imshow with RGB data ([0..1] for floats or [0..255] for integers).\n",
      "Clipping input data to the valid range for imshow with RGB data ([0..1] for floats or [0..255] for integers).\n",
      "Clipping input data to the valid range for imshow with RGB data ([0..1] for floats or [0..255] for integers).\n"
     ]
    },
    {
     "data": {
      "image/png": "[encoded data removed]",
      "text/plain": [
       "<Figure size 500x750 with 6 Axes>"
      ]
     },
     "metadata": {},
     "output_type": "display_data"
    },
    {
     "name": "stdout",
     "output_type": "stream",
     "text": [
      "Seed: 0\n",
      "Editing layer 0\n",
      "Created ModelWrapperSanturkar model with 31340 trainable parameters\n",
      "Restored weights from saved/train/2_Spurious_MNIST-LeNet/0323_100223/models/model_best.pth\n",
      "Using passed in data loader for validation.\n",
      "Performing pre-edit metric calculations on validation set.\n"
     ]
    },
    {
     "name": "stderr",
     "output_type": "stream",
     "text": [
      "100%|███████████████████████████████████████████████████████████| 38/38 [00:00<00:00, 40.43it/s]"
     ]
    },
    {
     "name": "stdout",
     "output_type": "stream",
     "text": [
      "Pre-edit metrics: {'TP': array([450, 538, 520, 497, 452, 422, 436, 472, 456, 453]), 'TN': array([8250, 8296, 8225, 7702, 7784, 8342, 8397, 8265, 7467, 7968]), 'FPs': array([ 320,  119,  293,  838,  784,  316,  195,  257, 1109,  573]), 'FNs': array([480, 547, 462, 463, 480, 420, 472, 506, 468, 506]), 'accuracy': 0.4943157894736842, 'per_class_accuracy': array([0.91578947, 0.92989474, 0.92052632, 0.86305263, 0.86694737,\n",
      "       0.92252632, 0.92978947, 0.91968421, 0.834     , 0.88642105]), 'per_class_accuracy_mean': 0.8988631578947368, 'precision': array([0.58441558, 0.81887367, 0.6396064 , 0.37228464, 0.36569579,\n",
      "       0.57181572, 0.69096672, 0.64746228, 0.2913738 , 0.44152047]), 'precision_mean': 0.5424015070238444, 'recall': array([0.48387097, 0.49585253, 0.52953157, 0.51770833, 0.48497854,\n",
      "       0.50118765, 0.48017621, 0.48261759, 0.49350649, 0.47236705]), 'recall_mean': 0.4941796933975864, 'predicted_class_distribution': array([ 770,  657,  813, 1335, 1236,  738,  631,  729, 1565, 1026]), 'f1': array([0.52941176, 0.61768083, 0.57938719, 0.43311547, 0.41697417,\n",
      "       0.53417722, 0.56660169, 0.55301699, 0.36641221, 0.45642317]), 'f1_mean': 0.5053200697134669}\n",
      "Saved pre-edit metrics saved/edit_2_Spurious_MNIST/method_eac/LeNet-patches/0324_170216/layernum_0/results/edit_idx_4/models/pre_edit_metrics.pth\n",
      "Saved pre-edit logits to saved/edit_2_Spurious_MNIST/method_eac/LeNet-patches/0324_170216/layernum_0/results/edit_idx_4/models/pre_edit_logits.pth\n",
      "Created <class 'trainer.editor.EditorEAC'> editor.\n",
      "Using passed in covariance data loader.\n",
      "Looking for covariance matrix weights in cache/2_Spurious_MNIST_hold_out/lenet-0\n"
     ]
    },
    {
     "name": "stderr",
     "output_type": "stream",
     "text": [
      "\n"
     ]
    },
    {
     "name": "stdout",
     "output_type": "stream",
     "text": [
      "Found precomputed cov matrices, returning...\n",
      "n_edit: 2\n",
      "Forwarded edit data thru model\n",
      "Kstar[0] type: <class 'torch.Tensor'> shape: torch.Size([3, 32, 32])\n",
      "vstar type: <class 'torch.Tensor'> shape: torch.Size([2, 10, 14, 14])\n",
      "mstar type: <class 'torch.Tensor'> shape: torch.Size([2, 1, 32, 32])\n",
      "key shape: torch.Size([2, 3, 32, 32]) val shape: torch.Size([2, 10, 14, 14])\n"
     ]
    },
    {
     "name": "stderr",
     "output_type": "stream",
     "text": [
      "tensor(0.5437, device='cuda:0', grad_fn=<DivBackward0>): 100%|█| 30000/30000 [00:41<00:00, 721.1\n"
     ]
    },
    {
     "name": "stdout",
     "output_type": "stream",
     "text": [
      "Loss (orig, final): 0.663171648979187 0.5437104105949402\n",
      "L2 norm of weight change: 2.8126142024993896\n",
      "Performing post-edit metric calculations on validation set.\n"
     ]
    },
    {
     "name": "stderr",
     "output_type": "stream",
     "text": [
      "100%|███████████████████████████████████████████████████████████| 38/38 [00:00<00:00, 41.07it/s]"
     ]
    },
    {
     "name": "stdout",
     "output_type": "stream",
     "text": [
      "Post-edit metrics: {'TP': array([666, 627, 910, 892, 515,  56, 229, 244, 358,  96]), 'TN': array([8226, 8310, 8091, 7408, 7782, 8645, 8359, 8054, 7353, 8365]), 'FPs': array([ 344,  105,  427, 1132,  786,   13,  233,  468, 1223,  176]), 'FNs': array([264, 458,  72,  68, 417, 786, 679, 734, 566, 863]), 'accuracy': 0.48347368421052633, 'per_class_accuracy': array([0.936     , 0.94073684, 0.94747368, 0.87368421, 0.87336842,\n",
      "       0.91589474, 0.904     , 0.87347368, 0.81168421, 0.89063158]), 'per_class_accuracy_mean': 0.8966947368421053, 'precision': array([0.65940594, 0.85655738, 0.68062827, 0.44071146, 0.39584935,\n",
      "       0.8115942 , 0.495671  , 0.34269663, 0.22643896, 0.35294118]), 'precision_mean': 0.5262494365937024, 'recall': array([0.71612903, 0.57788018, 0.92668024, 0.92916667, 0.55257511,\n",
      "       0.06650831, 0.25220264, 0.24948875, 0.38744589, 0.10010428]), 'recall_mean': 0.47581811069517316, 'predicted_class_distribution': array([1010,  732, 1337, 2024, 1301,   69,  462,  712, 1581,  272]), 'f1': array([0.68659794, 0.6901486 , 0.78482104, 0.59785523, 0.46126288,\n",
      "       0.12294182, 0.33430657, 0.2887574 , 0.28582834, 0.15597076]), 'f1_mean': 0.440849056798631}\n",
      "Saved post-edit metrics saved/edit_2_Spurious_MNIST/method_eac/LeNet-patches/0324_170216/layernum_0/results/edit_idx_4/models/post_edit_metrics.pth\n",
      "Saved post-edit logits to saved/edit_2_Spurious_MNIST/method_eac/LeNet-patches/0324_170216/layernum_0/results/edit_idx_4/models/post_edit_logits.pth\n",
      "All metrics and KNN results can be found in saved/edit_2_Spurious_MNIST/method_eac/LeNet-patches/0324_170216/layernum_0/results/edit_idx_4/models\n",
      "(0324_170620) Starting Trial 6/16...\n"
     ]
    },
    {
     "name": "stderr",
     "output_type": "stream",
     "text": [
      "\n"
     ]
    },
    {
     "name": "stdout",
     "output_type": "stream",
     "text": [
      "saved/edit_2_Spurious_MNIST/method_eac/LeNet-patches/0324_170216/layernum_0/results/edit_idx_5\n",
      "torch.Size([2, 1, 32, 32])\n",
      "3 2\n",
      "Clipping input data to the valid range for imshow with RGB data ([0..1] for floats or [0..255] for integers).\n",
      "Clipping input data to the valid range for imshow with RGB data ([0..1] for floats or [0..255] for integers).\n",
      "Clipping input data to the valid range for imshow with RGB data ([0..1] for floats or [0..255] for integers).\n",
      "Clipping input data to the valid range for imshow with RGB data ([0..1] for floats or [0..255] for integers).\n"
     ]
    },
    {
     "data": {
      "image/png": "[encoded data removed]",
      "text/plain": [
       "<Figure size 500x750 with 6 Axes>"
      ]
     },
     "metadata": {},
     "output_type": "display_data"
    },
    {
     "name": "stdout",
     "output_type": "stream",
     "text": [
      "Seed: 0\n",
      "Editing layer 0\n",
      "Created ModelWrapperSanturkar model with 31340 trainable parameters\n",
      "Restored weights from saved/train/2_Spurious_MNIST-LeNet/0323_100223/models/model_best.pth\n",
      "Using passed in data loader for validation.\n",
      "Performing pre-edit metric calculations on validation set.\n"
     ]
    },
    {
     "name": "stderr",
     "output_type": "stream",
     "text": [
      "100%|███████████████████████████████████████████████████████████| 38/38 [00:00<00:00, 39.84it/s]"
     ]
    },
    {
     "name": "stdout",
     "output_type": "stream",
     "text": [
      "Pre-edit metrics: {'TP': array([450, 538, 520, 497, 452, 422, 436, 472, 456, 453]), 'TN': array([8250, 8296, 8225, 7702, 7784, 8342, 8397, 8265, 7467, 7968]), 'FPs': array([ 320,  119,  293,  838,  784,  316,  195,  257, 1109,  573]), 'FNs': array([480, 547, 462, 463, 480, 420, 472, 506, 468, 506]), 'accuracy': 0.4943157894736842, 'per_class_accuracy': array([0.91578947, 0.92989474, 0.92052632, 0.86305263, 0.86694737,\n",
      "       0.92252632, 0.92978947, 0.91968421, 0.834     , 0.88642105]), 'per_class_accuracy_mean': 0.8988631578947368, 'precision': array([0.58441558, 0.81887367, 0.6396064 , 0.37228464, 0.36569579,\n",
      "       0.57181572, 0.69096672, 0.64746228, 0.2913738 , 0.44152047]), 'precision_mean': 0.5424015070238444, 'recall': array([0.48387097, 0.49585253, 0.52953157, 0.51770833, 0.48497854,\n",
      "       0.50118765, 0.48017621, 0.48261759, 0.49350649, 0.47236705]), 'recall_mean': 0.4941796933975864, 'predicted_class_distribution': array([ 770,  657,  813, 1335, 1236,  738,  631,  729, 1565, 1026]), 'f1': array([0.52941176, 0.61768083, 0.57938719, 0.43311547, 0.41697417,\n",
      "       0.53417722, 0.56660169, 0.55301699, 0.36641221, 0.45642317]), 'f1_mean': 0.5053200697134669}\n",
      "Saved pre-edit metrics saved/edit_2_Spurious_MNIST/method_eac/LeNet-patches/0324_170216/layernum_0/results/edit_idx_5/models/pre_edit_metrics.pth\n",
      "Saved pre-edit logits to saved/edit_2_Spurious_MNIST/method_eac/LeNet-patches/0324_170216/layernum_0/results/edit_idx_5/models/pre_edit_logits.pth\n",
      "Created <class 'trainer.editor.EditorEAC'> editor.\n",
      "Using passed in covariance data loader.\n",
      "Looking for covariance matrix weights in cache/2_Spurious_MNIST_hold_out/lenet-0\n"
     ]
    },
    {
     "name": "stderr",
     "output_type": "stream",
     "text": [
      "\n"
     ]
    },
    {
     "name": "stdout",
     "output_type": "stream",
     "text": [
      "Found precomputed cov matrices, returning...\n",
      "n_edit: 2\n",
      "Forwarded edit data thru model\n",
      "Kstar[0] type: <class 'torch.Tensor'> shape: torch.Size([3, 32, 32])\n",
      "vstar type: <class 'torch.Tensor'> shape: torch.Size([2, 10, 14, 14])\n",
      "mstar type: <class 'torch.Tensor'> shape: torch.Size([2, 1, 32, 32])\n",
      "key shape: torch.Size([2, 3, 32, 32]) val shape: torch.Size([2, 10, 14, 14])\n"
     ]
    },
    {
     "name": "stderr",
     "output_type": "stream",
     "text": [
      "tensor(0.5243, device='cuda:0', grad_fn=<DivBackward0>): 100%|█| 30000/30000 [00:41<00:00, 727.5"
     ]
    },
    {
     "name": "stdout",
     "output_type": "stream",
     "text": [
      "Loss (orig, final): 0.6250613927841187 0.5243330001831055\n",
      "L2 norm of weight change: 5.776474952697754\n",
      "Performing post-edit metric calculations on validation set.\n"
     ]
    },
    {
     "name": "stderr",
     "output_type": "stream",
     "text": [
      "\n",
      "100%|███████████████████████████████████████████████████████████| 38/38 [00:00<00:00, 40.52it/s]"
     ]
    },
    {
     "name": "stdout",
     "output_type": "stream",
     "text": [
      "Post-edit metrics: {'TP': array([ 747, 1069,  846,  847,  887,   34,   11,   40,    8,    3]), 'TN': array([7820, 7890, 7654, 7376, 7097, 8655, 8527, 8499, 8487, 8487]), 'FPs': array([ 750,  525,  864, 1164, 1471,    3,   65,   23,   89,   54]), 'FNs': array([183,  16, 136, 113,  45, 808, 897, 938, 916, 956]), 'accuracy': 0.4728421052631579, 'per_class_accuracy': array([0.90178947, 0.94305263, 0.89473684, 0.86557895, 0.84042105,\n",
      "       0.91463158, 0.89873684, 0.89884211, 0.89421053, 0.89368421]), 'per_class_accuracy_mean': 0.8945684210526317, 'precision': array([0.498998  , 0.6706399 , 0.49473684, 0.42118349, 0.37616624,\n",
      "       0.91891892, 0.14473684, 0.63492063, 0.08247423, 0.05263158]), 'precision_mean': 0.4295406672796197, 'recall': array([0.80322581, 0.98525346, 0.86150713, 0.88229167, 0.95171674,\n",
      "       0.04038005, 0.01211454, 0.0408998 , 0.00865801, 0.00312826]), 'recall_mean': 0.458917544355909, 'predicted_class_distribution': array([1497, 1594, 1710, 2011, 2358,   37,   76,   63,   97,   57]), 'f1': array([0.61557478, 0.79805898, 0.62852897, 0.57017839, 0.53920973,\n",
      "       0.07736064, 0.02235772, 0.07684918, 0.01567091, 0.00590551]), 'f1_mean': 0.3349694820036691}\n",
      "Saved post-edit metrics saved/edit_2_Spurious_MNIST/method_eac/LeNet-patches/0324_170216/layernum_0/results/edit_idx_5/models/post_edit_metrics.pth\n",
      "Saved post-edit logits to saved/edit_2_Spurious_MNIST/method_eac/LeNet-patches/0324_170216/layernum_0/results/edit_idx_5/models/post_edit_logits.pth\n",
      "All metrics and KNN results can be found in saved/edit_2_Spurious_MNIST/method_eac/LeNet-patches/0324_170216/layernum_0/results/edit_idx_5/models\n"
     ]
    },
    {
     "name": "stderr",
     "output_type": "stream",
     "text": [
      "\n"
     ]
    },
    {
     "name": "stdout",
     "output_type": "stream",
     "text": [
      "(0324_170704) Starting Trial 7/16...\n",
      "saved/edit_2_Spurious_MNIST/method_eac/LeNet-patches/0324_170216/layernum_0/results/edit_idx_6\n",
      "torch.Size([2, 1, 32, 32])\n",
      "3 2\n",
      "Clipping input data to the valid range for imshow with RGB data ([0..1] for floats or [0..255] for integers).\n",
      "Clipping input data to the valid range for imshow with RGB data ([0..1] for floats or [0..255] for integers).\n",
      "Clipping input data to the valid range for imshow with RGB data ([0..1] for floats or [0..255] for integers).\n",
      "Clipping input data to the valid range for imshow with RGB data ([0..1] for floats or [0..255] for integers).\n"
     ]
    },
    {
     "data": {
      "image/png": "[encoded data removed]",
      "text/plain": [
       "<Figure size 500x750 with 6 Axes>"
      ]
     },
     "metadata": {},
     "output_type": "display_data"
    },
    {
     "name": "stdout",
     "output_type": "stream",
     "text": [
      "Seed: 0\n",
      "Editing layer 0\n",
      "Created ModelWrapperSanturkar model with 31340 trainable parameters\n",
      "Restored weights from saved/train/2_Spurious_MNIST-LeNet/0323_100223/models/model_best.pth\n",
      "Using passed in data loader for validation.\n",
      "Performing pre-edit metric calculations on validation set.\n"
     ]
    },
    {
     "name": "stderr",
     "output_type": "stream",
     "text": [
      "100%|███████████████████████████████████████████████████████████| 38/38 [00:00<00:00, 40.17it/s]"
     ]
    },
    {
     "name": "stdout",
     "output_type": "stream",
     "text": [
      "Pre-edit metrics: {'TP': array([450, 538, 520, 497, 452, 422, 436, 472, 456, 453]), 'TN': array([8250, 8296, 8225, 7702, 7784, 8342, 8397, 8265, 7467, 7968]), 'FPs': array([ 320,  119,  293,  838,  784,  316,  195,  257, 1109,  573]), 'FNs': array([480, 547, 462, 463, 480, 420, 472, 506, 468, 506]), 'accuracy': 0.4943157894736842, 'per_class_accuracy': array([0.91578947, 0.92989474, 0.92052632, 0.86305263, 0.86694737,\n",
      "       0.92252632, 0.92978947, 0.91968421, 0.834     , 0.88642105]), 'per_class_accuracy_mean': 0.8988631578947368, 'precision': array([0.58441558, 0.81887367, 0.6396064 , 0.37228464, 0.36569579,\n",
      "       0.57181572, 0.69096672, 0.64746228, 0.2913738 , 0.44152047]), 'precision_mean': 0.5424015070238444, 'recall': array([0.48387097, 0.49585253, 0.52953157, 0.51770833, 0.48497854,\n",
      "       0.50118765, 0.48017621, 0.48261759, 0.49350649, 0.47236705]), 'recall_mean': 0.4941796933975864, 'predicted_class_distribution': array([ 770,  657,  813, 1335, 1236,  738,  631,  729, 1565, 1026]), 'f1': array([0.52941176, 0.61768083, 0.57938719, 0.43311547, 0.41697417,\n",
      "       0.53417722, 0.56660169, 0.55301699, 0.36641221, 0.45642317]), 'f1_mean': 0.5053200697134669}\n",
      "Saved pre-edit metrics saved/edit_2_Spurious_MNIST/method_eac/LeNet-patches/0324_170216/layernum_0/results/edit_idx_6/models/pre_edit_metrics.pth\n"
     ]
    },
    {
     "name": "stderr",
     "output_type": "stream",
     "text": [
      "\n"
     ]
    },
    {
     "name": "stdout",
     "output_type": "stream",
     "text": [
      "Saved pre-edit logits to saved/edit_2_Spurious_MNIST/method_eac/LeNet-patches/0324_170216/layernum_0/results/edit_idx_6/models/pre_edit_logits.pth\n",
      "Created <class 'trainer.editor.EditorEAC'> editor.\n",
      "Using passed in covariance data loader.\n",
      "Looking for covariance matrix weights in cache/2_Spurious_MNIST_hold_out/lenet-0\n",
      "Found precomputed cov matrices, returning...\n",
      "n_edit: 2\n",
      "Forwarded edit data thru model\n",
      "Kstar[0] type: <class 'torch.Tensor'> shape: torch.Size([3, 32, 32])\n",
      "vstar type: <class 'torch.Tensor'> shape: torch.Size([2, 10, 14, 14])\n",
      "mstar type: <class 'torch.Tensor'> shape: torch.Size([2, 1, 32, 32])\n",
      "key shape: torch.Size([2, 3, 32, 32]) val shape: torch.Size([2, 10, 14, 14])\n"
     ]
    },
    {
     "name": "stderr",
     "output_type": "stream",
     "text": [
      "tensor(0.5064, device='cuda:0', grad_fn=<DivBackward0>): 100%|█| 30000/30000 [00:41<00:00, 724.8"
     ]
    },
    {
     "name": "stdout",
     "output_type": "stream",
     "text": [
      "Loss (orig, final): 0.6271398067474365 0.5064427256584167\n",
      "L2 norm of weight change: 5.456079959869385\n",
      "Performing post-edit metric calculations on validation set.\n"
     ]
    },
    {
     "name": "stderr",
     "output_type": "stream",
     "text": [
      "\n",
      "100%|███████████████████████████████████████████████████████████| 38/38 [00:00<00:00, 39.87it/s]"
     ]
    },
    {
     "name": "stdout",
     "output_type": "stream",
     "text": [
      "Post-edit metrics: {'TP': array([ 898, 1068,  908,  921,  867,    0,    9,   38,    6,    1]), 'TN': array([7807, 8114, 7885, 7135, 6903, 8658, 8591, 8522, 8561, 8540]), 'FPs': array([ 763,  301,  633, 1405, 1665,    0,    1,    0,   15,    1]), 'FNs': array([ 32,  17,  74,  39,  65, 842, 899, 940, 918, 958]), 'accuracy': 0.49642105263157893, 'per_class_accuracy': array([0.91631579, 0.96652632, 0.92557895, 0.848     , 0.81789474,\n",
      "       0.91136842, 0.90526316, 0.90105263, 0.90178947, 0.89905263]), 'per_class_accuracy_mean': 0.8992842105263158, 'precision': array([0.54063817, 0.78013148, 0.58922777, 0.39595873, 0.34241706,\n",
      "       0.        , 0.9       , 1.        , 0.28571429, 0.5       ]), 'precision_mean': 0.5334087501538767, 'recall': array([0.9655914 , 0.9843318 , 0.92464358, 0.959375  , 0.93025751,\n",
      "       0.        , 0.00991189, 0.03885481, 0.00649351, 0.00104275]), 'recall_mean': 0.482050224969566, 'predicted_class_distribution': array([1661, 1369, 1541, 2326, 2532,    0,   10,   38,   21,    2]), 'f1': array([0.69316866, 0.87041565, 0.71977804, 0.56055995, 0.50057737,\n",
      "       0.        , 0.01960784, 0.07480315, 0.01269841, 0.00208117]), 'f1_mean': 0.34536902400927266}\n",
      "Saved post-edit metrics saved/edit_2_Spurious_MNIST/method_eac/LeNet-patches/0324_170216/layernum_0/results/edit_idx_6/models/post_edit_metrics.pth\n",
      "Saved post-edit logits to saved/edit_2_Spurious_MNIST/method_eac/LeNet-patches/0324_170216/layernum_0/results/edit_idx_6/models/post_edit_logits.pth\n",
      "All metrics and KNN results can be found in saved/edit_2_Spurious_MNIST/method_eac/LeNet-patches/0324_170216/layernum_0/results/edit_idx_6/models\n",
      "(0324_170748) Starting Trial 8/16...\n"
     ]
    },
    {
     "name": "stderr",
     "output_type": "stream",
     "text": [
      "\n",
      "/n/fs/ac-editing/model-editing/src/model/metric.py:168: RuntimeWarning: invalid value encountered in divide\n",
      "  return np.nan_to_num(TPs / (TPs + FPs))\n",
      "/n/fs/ac-editing/model-editing/src/model/metric.py:205: RuntimeWarning: invalid value encountered in divide\n",
      "  return np.nan_to_num(2 * precisions * recalls / (precisions + recalls))\n"
     ]
    },
    {
     "name": "stdout",
     "output_type": "stream",
     "text": [
      "saved/edit_2_Spurious_MNIST/method_eac/LeNet-patches/0324_170216/layernum_0/results/edit_idx_7\n",
      "torch.Size([2, 1, 32, 32])\n",
      "3 2\n",
      "Clipping input data to the valid range for imshow with RGB data ([0..1] for floats or [0..255] for integers).\n",
      "Clipping input data to the valid range for imshow with RGB data ([0..1] for floats or [0..255] for integers).\n",
      "Clipping input data to the valid range for imshow with RGB data ([0..1] for floats or [0..255] for integers).\n",
      "Clipping input data to the valid range for imshow with RGB data ([0..1] for floats or [0..255] for integers).\n"
     ]
    },
    {
     "data": {
      "image/png": "[encoded data removed]",
      "text/plain": [
       "<Figure size 500x750 with 6 Axes>"
      ]
     },
     "metadata": {},
     "output_type": "display_data"
    },
    {
     "name": "stdout",
     "output_type": "stream",
     "text": [
      "Seed: 0\n",
      "Editing layer 0\n",
      "Created ModelWrapperSanturkar model with 31340 trainable parameters\n",
      "Restored weights from saved/train/2_Spurious_MNIST-LeNet/0323_100223/models/model_best.pth\n",
      "Using passed in data loader for validation.\n",
      "Performing pre-edit metric calculations on validation set.\n"
     ]
    },
    {
     "name": "stderr",
     "output_type": "stream",
     "text": [
      "100%|███████████████████████████████████████████████████████████| 38/38 [00:00<00:00, 40.93it/s]"
     ]
    },
    {
     "name": "stdout",
     "output_type": "stream",
     "text": [
      "Pre-edit metrics: {'TP': array([450, 538, 520, 497, 452, 422, 436, 472, 456, 453]), 'TN': array([8250, 8296, 8225, 7702, 7784, 8342, 8397, 8265, 7467, 7968]), 'FPs': array([ 320,  119,  293,  838,  784,  316,  195,  257, 1109,  573]), 'FNs': array([480, 547, 462, 463, 480, 420, 472, 506, 468, 506]), 'accuracy': 0.4943157894736842, 'per_class_accuracy': array([0.91578947, 0.92989474, 0.92052632, 0.86305263, 0.86694737,\n",
      "       0.92252632, 0.92978947, 0.91968421, 0.834     , 0.88642105]), 'per_class_accuracy_mean': 0.8988631578947368, 'precision': array([0.58441558, 0.81887367, 0.6396064 , 0.37228464, 0.36569579,\n",
      "       0.57181572, 0.69096672, 0.64746228, 0.2913738 , 0.44152047]), 'precision_mean': 0.5424015070238444, 'recall': array([0.48387097, 0.49585253, 0.52953157, 0.51770833, 0.48497854,\n",
      "       0.50118765, 0.48017621, 0.48261759, 0.49350649, 0.47236705]), 'recall_mean': 0.4941796933975864, 'predicted_class_distribution': array([ 770,  657,  813, 1335, 1236,  738,  631,  729, 1565, 1026]), 'f1': array([0.52941176, 0.61768083, 0.57938719, 0.43311547, 0.41697417,\n",
      "       0.53417722, 0.56660169, 0.55301699, 0.36641221, 0.45642317]), 'f1_mean': 0.5053200697134669}\n",
      "Saved pre-edit metrics saved/edit_2_Spurious_MNIST/method_eac/LeNet-patches/0324_170216/layernum_0/results/edit_idx_7/models/pre_edit_metrics.pth\n",
      "Saved pre-edit logits to saved/edit_2_Spurious_MNIST/method_eac/LeNet-patches/0324_170216/layernum_0/results/edit_idx_7/models/pre_edit_logits.pth\n",
      "Created <class 'trainer.editor.EditorEAC'> editor.\n",
      "Using passed in covariance data loader.\n",
      "Looking for covariance matrix weights in cache/2_Spurious_MNIST_hold_out/lenet-0\n"
     ]
    },
    {
     "name": "stderr",
     "output_type": "stream",
     "text": [
      "\n"
     ]
    },
    {
     "name": "stdout",
     "output_type": "stream",
     "text": [
      "Found precomputed cov matrices, returning...\n",
      "n_edit: 2\n",
      "Forwarded edit data thru model\n",
      "Kstar[0] type: <class 'torch.Tensor'> shape: torch.Size([3, 32, 32])\n",
      "vstar type: <class 'torch.Tensor'> shape: torch.Size([2, 10, 14, 14])\n",
      "mstar type: <class 'torch.Tensor'> shape: torch.Size([2, 1, 32, 32])\n",
      "key shape: torch.Size([2, 3, 32, 32]) val shape: torch.Size([2, 10, 14, 14])\n"
     ]
    },
    {
     "name": "stderr",
     "output_type": "stream",
     "text": [
      "tensor(0.5742, device='cuda:0', grad_fn=<DivBackward0>): 100%|█| 30000/30000 [00:41<00:00, 723.7"
     ]
    },
    {
     "name": "stdout",
     "output_type": "stream",
     "text": [
      "Loss (orig, final): 0.6096300482749939 0.5742378830909729\n",
      "L2 norm of weight change: 5.887484550476074\n",
      "Performing post-edit metric calculations on validation set.\n"
     ]
    },
    {
     "name": "stderr",
     "output_type": "stream",
     "text": [
      "\n",
      "100%|███████████████████████████████████████████████████████████| 38/38 [00:00<00:00, 41.20it/s]"
     ]
    },
    {
     "name": "stdout",
     "output_type": "stream",
     "text": [
      "Post-edit metrics: {'TP': array([796, 784, 764, 879, 693,  28,  97, 428, 126,  79]), 'TN': array([7772, 8294, 7943, 7151, 7294, 8653, 8584, 8011, 8473, 8499]), 'FPs': array([ 798,  121,  575, 1389, 1274,    5,    8,  511,  103,   42]), 'FNs': array([134, 301, 218,  81, 239, 814, 811, 550, 798, 880]), 'accuracy': 0.492, 'per_class_accuracy': array([0.90189474, 0.95557895, 0.91652632, 0.84526316, 0.84073684,\n",
      "       0.91378947, 0.91378947, 0.88831579, 0.90515789, 0.90294737]), 'per_class_accuracy_mean': 0.8984, 'precision': array([0.49937265, 0.86629834, 0.57057506, 0.38756614, 0.35231317,\n",
      "       0.84848485, 0.92380952, 0.45580405, 0.55021834, 0.65289256]), 'precision_mean': 0.6107334672554721, 'recall': array([0.85591398, 0.72258065, 0.77800407, 0.915625  , 0.74356223,\n",
      "       0.03325416, 0.10682819, 0.43762781, 0.13636364, 0.08237748]), 'recall_mean': 0.481213720410016, 'predicted_class_distribution': array([1594,  905, 1339, 2268, 1967,   33,  105,  939,  229,  121]), 'f1': array([0.63074485, 0.7879397 , 0.65833692, 0.54460967, 0.4780959 ,\n",
      "       0.064     , 0.19151037, 0.44653104, 0.21856028, 0.1462963 ]), 'f1_mean': 0.4166625009406536}\n",
      "Saved post-edit metrics saved/edit_2_Spurious_MNIST/method_eac/LeNet-patches/0324_170216/layernum_0/results/edit_idx_7/models/post_edit_metrics.pth\n",
      "Saved post-edit logits to saved/edit_2_Spurious_MNIST/method_eac/LeNet-patches/0324_170216/layernum_0/results/edit_idx_7/models/post_edit_logits.pth\n",
      "All metrics and KNN results can be found in saved/edit_2_Spurious_MNIST/method_eac/LeNet-patches/0324_170216/layernum_0/results/edit_idx_7/models\n",
      "(0324_170831) Starting Trial 9/16...\n"
     ]
    },
    {
     "name": "stderr",
     "output_type": "stream",
     "text": [
      "\n"
     ]
    },
    {
     "name": "stdout",
     "output_type": "stream",
     "text": [
      "saved/edit_2_Spurious_MNIST/method_eac/LeNet-patches/0324_170216/layernum_0/results/edit_idx_8\n",
      "torch.Size([2, 1, 32, 32])\n",
      "3 2\n",
      "Clipping input data to the valid range for imshow with RGB data ([0..1] for floats or [0..255] for integers).\n",
      "Clipping input data to the valid range for imshow with RGB data ([0..1] for floats or [0..255] for integers).\n",
      "Clipping input data to the valid range for imshow with RGB data ([0..1] for floats or [0..255] for integers).\n",
      "Clipping input data to the valid range for imshow with RGB data ([0..1] for floats or [0..255] for integers).\n"
     ]
    },
    {
     "data": {
      "image/png": "[encoded data removed]",
      "text/plain": [
       "<Figure size 500x750 with 6 Axes>"
      ]
     },
     "metadata": {},
     "output_type": "display_data"
    },
    {
     "name": "stdout",
     "output_type": "stream",
     "text": [
      "Seed: 0\n",
      "Editing layer 0\n",
      "Created ModelWrapperSanturkar model with 31340 trainable parameters\n",
      "Restored weights from saved/train/2_Spurious_MNIST-LeNet/0323_100223/models/model_best.pth\n",
      "Using passed in data loader for validation.\n",
      "Performing pre-edit metric calculations on validation set.\n"
     ]
    },
    {
     "name": "stderr",
     "output_type": "stream",
     "text": [
      "100%|███████████████████████████████████████████████████████████| 38/38 [00:00<00:00, 39.51it/s]"
     ]
    },
    {
     "name": "stdout",
     "output_type": "stream",
     "text": [
      "Pre-edit metrics: {'TP': array([450, 538, 520, 497, 452, 422, 436, 472, 456, 453]), 'TN': array([8250, 8296, 8225, 7702, 7784, 8342, 8397, 8265, 7467, 7968]), 'FPs': array([ 320,  119,  293,  838,  784,  316,  195,  257, 1109,  573]), 'FNs': array([480, 547, 462, 463, 480, 420, 472, 506, 468, 506]), 'accuracy': 0.4943157894736842, 'per_class_accuracy': array([0.91578947, 0.92989474, 0.92052632, 0.86305263, 0.86694737,\n",
      "       0.92252632, 0.92978947, 0.91968421, 0.834     , 0.88642105]), 'per_class_accuracy_mean': 0.8988631578947368, 'precision': array([0.58441558, 0.81887367, 0.6396064 , 0.37228464, 0.36569579,\n",
      "       0.57181572, 0.69096672, 0.64746228, 0.2913738 , 0.44152047]), 'precision_mean': 0.5424015070238444, 'recall': array([0.48387097, 0.49585253, 0.52953157, 0.51770833, 0.48497854,\n",
      "       0.50118765, 0.48017621, 0.48261759, 0.49350649, 0.47236705]), 'recall_mean': 0.4941796933975864, 'predicted_class_distribution': array([ 770,  657,  813, 1335, 1236,  738,  631,  729, 1565, 1026]), 'f1': array([0.52941176, 0.61768083, 0.57938719, 0.43311547, 0.41697417,\n",
      "       0.53417722, 0.56660169, 0.55301699, 0.36641221, 0.45642317]), 'f1_mean': 0.5053200697134669}\n",
      "Saved pre-edit metrics saved/edit_2_Spurious_MNIST/method_eac/LeNet-patches/0324_170216/layernum_0/results/edit_idx_8/models/pre_edit_metrics.pth\n",
      "Saved pre-edit logits to saved/edit_2_Spurious_MNIST/method_eac/LeNet-patches/0324_170216/layernum_0/results/edit_idx_8/models/pre_edit_logits.pth\n",
      "Created <class 'trainer.editor.EditorEAC'> editor.\n",
      "Using passed in covariance data loader.\n",
      "Looking for covariance matrix weights in cache/2_Spurious_MNIST_hold_out/lenet-0\n"
     ]
    },
    {
     "name": "stderr",
     "output_type": "stream",
     "text": [
      "\n"
     ]
    },
    {
     "name": "stdout",
     "output_type": "stream",
     "text": [
      "Found precomputed cov matrices, returning...\n",
      "n_edit: 2\n",
      "Forwarded edit data thru model\n",
      "Kstar[0] type: <class 'torch.Tensor'> shape: torch.Size([3, 32, 32])\n",
      "vstar type: <class 'torch.Tensor'> shape: torch.Size([2, 10, 14, 14])\n",
      "mstar type: <class 'torch.Tensor'> shape: torch.Size([2, 1, 32, 32])\n",
      "key shape: torch.Size([2, 3, 32, 32]) val shape: torch.Size([2, 10, 14, 14])\n"
     ]
    },
    {
     "name": "stderr",
     "output_type": "stream",
     "text": [
      "tensor(0.5693, device='cuda:0', grad_fn=<DivBackward0>): 100%|█| 30000/30000 [00:41<00:00, 722.8"
     ]
    },
    {
     "name": "stdout",
     "output_type": "stream",
     "text": [
      "Loss (orig, final): 0.6117084622383118 0.5693033933639526\n",
      "L2 norm of weight change: 6.147644996643066\n",
      "Performing post-edit metric calculations on validation set.\n"
     ]
    },
    {
     "name": "stderr",
     "output_type": "stream",
     "text": [
      "\n",
      "100%|███████████████████████████████████████████████████████████| 38/38 [00:00<00:00, 40.11it/s]"
     ]
    },
    {
     "name": "stdout",
     "output_type": "stream",
     "text": [
      "Post-edit metrics: {'TP': array([ 782, 1077,  873,  652,  873,  159,   68,  137,   42,    6]), 'TN': array([8129, 7857, 7744, 7513, 7166, 8472, 8581, 8288, 8451, 8468]), 'FPs': array([ 441,  558,  774, 1027, 1402,  186,   11,  234,  125,   73]), 'FNs': array([148,   8, 109, 308,  59, 683, 840, 841, 882, 953]), 'accuracy': 0.49147368421052634, 'per_class_accuracy': array([0.938     , 0.94042105, 0.90705263, 0.85947368, 0.84621053,\n",
      "       0.90852632, 0.91042105, 0.88684211, 0.894     , 0.892     ]), 'per_class_accuracy_mean': 0.8982947368421051, 'precision': array([0.63941128, 0.6587156 , 0.53005464, 0.38832638, 0.38373626,\n",
      "       0.46086957, 0.86075949, 0.36927224, 0.25149701, 0.07594937]), 'precision_mean': 0.4618591842518322, 'recall': array([0.84086022, 0.99262673, 0.88900204, 0.67916667, 0.93669528,\n",
      "       0.1888361 , 0.07488987, 0.1400818 , 0.04545455, 0.00625652]), 'recall_mean': 0.47938697600663077, 'predicted_class_distribution': array([1223, 1635, 1647, 1679, 2275,  345,   79,  371,  167,   79]), 'f1': array([0.72642824, 0.79191176, 0.66413085, 0.49412656, 0.54443405,\n",
      "       0.26790227, 0.13779129, 0.20311342, 0.07699358, 0.01156069]), 'f1_mean': 0.3918392722434535}\n",
      "Saved post-edit metrics saved/edit_2_Spurious_MNIST/method_eac/LeNet-patches/0324_170216/layernum_0/results/edit_idx_8/models/post_edit_metrics.pth\n",
      "Saved post-edit logits to saved/edit_2_Spurious_MNIST/method_eac/LeNet-patches/0324_170216/layernum_0/results/edit_idx_8/models/post_edit_logits.pth\n",
      "All metrics and KNN results can be found in saved/edit_2_Spurious_MNIST/method_eac/LeNet-patches/0324_170216/layernum_0/results/edit_idx_8/models\n",
      "(0324_170915) Starting Trial 10/16...\n"
     ]
    },
    {
     "name": "stderr",
     "output_type": "stream",
     "text": [
      "\n"
     ]
    },
    {
     "name": "stdout",
     "output_type": "stream",
     "text": [
      "saved/edit_2_Spurious_MNIST/method_eac/LeNet-patches/0324_170216/layernum_0/results/edit_idx_9\n",
      "torch.Size([2, 1, 32, 32])\n",
      "3 2\n",
      "Clipping input data to the valid range for imshow with RGB data ([0..1] for floats or [0..255] for integers).\n",
      "Clipping input data to the valid range for imshow with RGB data ([0..1] for floats or [0..255] for integers).\n",
      "Clipping input data to the valid range for imshow with RGB data ([0..1] for floats or [0..255] for integers).\n",
      "Clipping input data to the valid range for imshow with RGB data ([0..1] for floats or [0..255] for integers).\n"
     ]
    },
    {
     "data": {
      "image/png": "[encoded data removed]",
      "text/plain": [
       "<Figure size 500x750 with 6 Axes>"
      ]
     },
     "metadata": {},
     "output_type": "display_data"
    },
    {
     "name": "stdout",
     "output_type": "stream",
     "text": [
      "Seed: 0\n",
      "Editing layer 0\n",
      "Created ModelWrapperSanturkar model with 31340 trainable parameters\n",
      "Restored weights from saved/train/2_Spurious_MNIST-LeNet/0323_100223/models/model_best.pth\n",
      "Using passed in data loader for validation.\n",
      "Performing pre-edit metric calculations on validation set.\n"
     ]
    },
    {
     "name": "stderr",
     "output_type": "stream",
     "text": [
      "100%|███████████████████████████████████████████████████████████| 38/38 [00:00<00:00, 40.33it/s]"
     ]
    },
    {
     "name": "stdout",
     "output_type": "stream",
     "text": [
      "Pre-edit metrics: {'TP': array([450, 538, 520, 497, 452, 422, 436, 472, 456, 453]), 'TN': array([8250, 8296, 8225, 7702, 7784, 8342, 8397, 8265, 7467, 7968]), 'FPs': array([ 320,  119,  293,  838,  784,  316,  195,  257, 1109,  573]), 'FNs': array([480, 547, 462, 463, 480, 420, 472, 506, 468, 506]), 'accuracy': 0.4943157894736842, 'per_class_accuracy': array([0.91578947, 0.92989474, 0.92052632, 0.86305263, 0.86694737,\n",
      "       0.92252632, 0.92978947, 0.91968421, 0.834     , 0.88642105]), 'per_class_accuracy_mean': 0.8988631578947368, 'precision': array([0.58441558, 0.81887367, 0.6396064 , 0.37228464, 0.36569579,\n",
      "       0.57181572, 0.69096672, 0.64746228, 0.2913738 , 0.44152047]), 'precision_mean': 0.5424015070238444, 'recall': array([0.48387097, 0.49585253, 0.52953157, 0.51770833, 0.48497854,\n",
      "       0.50118765, 0.48017621, 0.48261759, 0.49350649, 0.47236705]), 'recall_mean': 0.4941796933975864, 'predicted_class_distribution': array([ 770,  657,  813, 1335, 1236,  738,  631,  729, 1565, 1026]), 'f1': array([0.52941176, 0.61768083, 0.57938719, 0.43311547, 0.41697417,\n",
      "       0.53417722, 0.56660169, 0.55301699, 0.36641221, 0.45642317]), 'f1_mean': 0.5053200697134669}\n",
      "Saved pre-edit metrics saved/edit_2_Spurious_MNIST/method_eac/LeNet-patches/0324_170216/layernum_0/results/edit_idx_9/models/pre_edit_metrics.pth\n",
      "Saved pre-edit logits to saved/edit_2_Spurious_MNIST/method_eac/LeNet-patches/0324_170216/layernum_0/results/edit_idx_9/models/pre_edit_logits.pth\n",
      "Created <class 'trainer.editor.EditorEAC'> editor.\n",
      "Using passed in covariance data loader.\n",
      "Looking for covariance matrix weights in cache/2_Spurious_MNIST_hold_out/lenet-0\n"
     ]
    },
    {
     "name": "stderr",
     "output_type": "stream",
     "text": [
      "\n"
     ]
    },
    {
     "name": "stdout",
     "output_type": "stream",
     "text": [
      "Found precomputed cov matrices, returning...\n",
      "n_edit: 2\n",
      "Forwarded edit data thru model\n",
      "Kstar[0] type: <class 'torch.Tensor'> shape: torch.Size([3, 32, 32])\n",
      "vstar type: <class 'torch.Tensor'> shape: torch.Size([2, 10, 14, 14])\n",
      "mstar type: <class 'torch.Tensor'> shape: torch.Size([2, 1, 32, 32])\n",
      "key shape: torch.Size([2, 3, 32, 32]) val shape: torch.Size([2, 10, 14, 14])\n"
     ]
    },
    {
     "name": "stderr",
     "output_type": "stream",
     "text": [
      "tensor(0.5608, device='cuda:0', grad_fn=<DivBackward0>): 100%|█| 30000/30000 [00:40<00:00, 745.8"
     ]
    },
    {
     "name": "stdout",
     "output_type": "stream",
     "text": [
      "Loss (orig, final): 0.6189944744110107 0.5608171820640564\n",
      "L2 norm of weight change: 2.1607680320739746\n",
      "Performing post-edit metric calculations on validation set.\n"
     ]
    },
    {
     "name": "stderr",
     "output_type": "stream",
     "text": [
      "\n",
      "100%|███████████████████████████████████████████████████████████| 38/38 [00:00<00:00, 43.68it/s]"
     ]
    },
    {
     "name": "stdout",
     "output_type": "stream",
     "text": [
      "Post-edit metrics: {'TP': array([ 589, 1063,  535,  497,  707,  413,  416,  404,  401,  229]), 'TN': array([8237, 8204, 8229, 7723, 7550, 8155, 8490, 8356, 8030, 8280]), 'FPs': array([ 333,  211,  289,  817, 1018,  503,  102,  166,  546,  261]), 'FNs': array([341,  22, 447, 463, 225, 429, 492, 574, 523, 730]), 'accuracy': 0.5530526315789474, 'per_class_accuracy': array([0.92905263, 0.97547368, 0.92252632, 0.86526316, 0.86915789,\n",
      "       0.90189474, 0.93747368, 0.92210526, 0.88747368, 0.89568421]), 'per_class_accuracy_mean': 0.9106105263157895, 'precision': array([0.63882863, 0.83437991, 0.64927184, 0.3782344 , 0.40985507,\n",
      "       0.45087336, 0.8030888 , 0.70877193, 0.42344245, 0.46734694]), 'precision_mean': 0.5764093339096318, 'recall': array([0.63333333, 0.9797235 , 0.54480652, 0.51770833, 0.75858369,\n",
      "       0.49049881, 0.45814978, 0.41308793, 0.43398268, 0.23879041]), 'recall_mean': 0.5468664994573403, 'predicted_class_distribution': array([ 922, 1274,  824, 1314, 1725,  916,  518,  570,  947,  490]), 'f1': array([0.63606911, 0.90122933, 0.59246955, 0.43711522, 0.53217915,\n",
      "       0.4698521 , 0.58345021, 0.52196382, 0.42864778, 0.31608006]), 'f1_mean': 0.5419056336266246}\n",
      "Saved post-edit metrics saved/edit_2_Spurious_MNIST/method_eac/LeNet-patches/0324_170216/layernum_0/results/edit_idx_9/models/post_edit_metrics.pth\n",
      "Saved post-edit logits to saved/edit_2_Spurious_MNIST/method_eac/LeNet-patches/0324_170216/layernum_0/results/edit_idx_9/models/post_edit_logits.pth\n",
      "All metrics and KNN results can be found in saved/edit_2_Spurious_MNIST/method_eac/LeNet-patches/0324_170216/layernum_0/results/edit_idx_9/models\n"
     ]
    },
    {
     "name": "stderr",
     "output_type": "stream",
     "text": [
      "\n"
     ]
    },
    {
     "name": "stdout",
     "output_type": "stream",
     "text": [
      "(0324_170957) Starting Trial 11/16...\n",
      "saved/edit_2_Spurious_MNIST/method_eac/LeNet-patches/0324_170216/layernum_0/results/edit_idx_10\n",
      "torch.Size([2, 1, 32, 32])\n",
      "3 2\n",
      "Clipping input data to the valid range for imshow with RGB data ([0..1] for floats or [0..255] for integers).\n",
      "Clipping input data to the valid range for imshow with RGB data ([0..1] for floats or [0..255] for integers).\n",
      "Clipping input data to the valid range for imshow with RGB data ([0..1] for floats or [0..255] for integers).\n",
      "Clipping input data to the valid range for imshow with RGB data ([0..1] for floats or [0..255] for integers).\n"
     ]
    },
    {
     "data": {
      "image/png": "[encoded data removed]",
      "text/plain": [
       "<Figure size 500x750 with 6 Axes>"
      ]
     },
     "metadata": {},
     "output_type": "display_data"
    },
    {
     "name": "stdout",
     "output_type": "stream",
     "text": [
      "Seed: 0\n",
      "Editing layer 0\n",
      "Created ModelWrapperSanturkar model with 31340 trainable parameters\n",
      "Restored weights from saved/train/2_Spurious_MNIST-LeNet/0323_100223/models/model_best.pth\n",
      "Using passed in data loader for validation.\n",
      "Performing pre-edit metric calculations on validation set.\n"
     ]
    },
    {
     "name": "stderr",
     "output_type": "stream",
     "text": [
      "100%|███████████████████████████████████████████████████████████| 38/38 [00:00<00:00, 41.66it/s]"
     ]
    },
    {
     "name": "stdout",
     "output_type": "stream",
     "text": [
      "Pre-edit metrics: {'TP': array([450, 538, 520, 497, 452, 422, 436, 472, 456, 453]), 'TN': array([8250, 8296, 8225, 7702, 7784, 8342, 8397, 8265, 7467, 7968]), 'FPs': array([ 320,  119,  293,  838,  784,  316,  195,  257, 1109,  573]), 'FNs': array([480, 547, 462, 463, 480, 420, 472, 506, 468, 506]), 'accuracy': 0.4943157894736842, 'per_class_accuracy': array([0.91578947, 0.92989474, 0.92052632, 0.86305263, 0.86694737,\n",
      "       0.92252632, 0.92978947, 0.91968421, 0.834     , 0.88642105]), 'per_class_accuracy_mean': 0.8988631578947368, 'precision': array([0.58441558, 0.81887367, 0.6396064 , 0.37228464, 0.36569579,\n",
      "       0.57181572, 0.69096672, 0.64746228, 0.2913738 , 0.44152047]), 'precision_mean': 0.5424015070238444, 'recall': array([0.48387097, 0.49585253, 0.52953157, 0.51770833, 0.48497854,\n",
      "       0.50118765, 0.48017621, 0.48261759, 0.49350649, 0.47236705]), 'recall_mean': 0.4941796933975864, 'predicted_class_distribution': array([ 770,  657,  813, 1335, 1236,  738,  631,  729, 1565, 1026]), 'f1': array([0.52941176, 0.61768083, 0.57938719, 0.43311547, 0.41697417,\n",
      "       0.53417722, 0.56660169, 0.55301699, 0.36641221, 0.45642317]), 'f1_mean': 0.5053200697134669}\n",
      "Saved pre-edit metrics saved/edit_2_Spurious_MNIST/method_eac/LeNet-patches/0324_170216/layernum_0/results/edit_idx_10/models/pre_edit_metrics.pth\n",
      "Saved pre-edit logits to saved/edit_2_Spurious_MNIST/method_eac/LeNet-patches/0324_170216/layernum_0/results/edit_idx_10/models/pre_edit_logits.pth\n",
      "Created <class 'trainer.editor.EditorEAC'> editor.\n",
      "Using passed in covariance data loader.\n",
      "Looking for covariance matrix weights in cache/2_Spurious_MNIST_hold_out/lenet-0\n"
     ]
    },
    {
     "name": "stderr",
     "output_type": "stream",
     "text": [
      "\n"
     ]
    },
    {
     "name": "stdout",
     "output_type": "stream",
     "text": [
      "Found precomputed cov matrices, returning...\n",
      "n_edit: 2\n",
      "Forwarded edit data thru model\n",
      "Kstar[0] type: <class 'torch.Tensor'> shape: torch.Size([3, 32, 32])\n",
      "vstar type: <class 'torch.Tensor'> shape: torch.Size([2, 10, 14, 14])\n",
      "mstar type: <class 'torch.Tensor'> shape: torch.Size([2, 1, 32, 32])\n",
      "key shape: torch.Size([2, 3, 32, 32]) val shape: torch.Size([2, 10, 14, 14])\n"
     ]
    },
    {
     "name": "stderr",
     "output_type": "stream",
     "text": [
      "tensor(0.5183, device='cuda:0', grad_fn=<DivBackward0>): 100%|█| 30000/30000 [00:42<00:00, 710.6\n"
     ]
    },
    {
     "name": "stdout",
     "output_type": "stream",
     "text": [
      "Loss (orig, final): 0.6339172124862671 0.5182713270187378\n",
      "L2 norm of weight change: 2.70475172996521\n",
      "Performing post-edit metric calculations on validation set.\n"
     ]
    },
    {
     "name": "stderr",
     "output_type": "stream",
     "text": [
      "100%|███████████████████████████████████████████████████████████| 38/38 [00:00<00:00, 42.41it/s]"
     ]
    },
    {
     "name": "stdout",
     "output_type": "stream",
     "text": [
      "Post-edit metrics: {'TP': array([881, 580, 946, 903, 871,   2, 221, 232, 114,  75]), 'TN': array([7753, 8310, 7933, 7204, 7499, 8654, 8552, 8015, 8432, 8473]), 'FPs': array([ 817,  105,  585, 1336, 1069,    4,   40,  507,  144,   68]), 'FNs': array([ 49, 505,  36,  57,  61, 840, 687, 746, 810, 884]), 'accuracy': 0.5078947368421053, 'per_class_accuracy': array([0.90884211, 0.93578947, 0.93463158, 0.85336842, 0.88105263,\n",
      "       0.91115789, 0.92347368, 0.86810526, 0.89957895, 0.89978947]), 'per_class_accuracy_mean': 0.901578947368421, 'precision': array([0.5188457 , 0.84671533, 0.6178968 , 0.40330505, 0.44896907,\n",
      "       0.33333333, 0.8467433 , 0.31393775, 0.44186047, 0.52447552]), 'precision_mean': 0.5296082319495541, 'recall': array([0.94731183, 0.53456221, 0.96334012, 0.940625  , 0.93454936,\n",
      "       0.0023753 , 0.24339207, 0.23721881, 0.12337662, 0.07820647]), 'recall_mean': 0.5004957788108353, 'predicted_class_distribution': array([1698,  685, 1531, 2239, 1940,    6,  261,  739,  258,  143]), 'f1': array([0.67047184, 0.65536723, 0.752885  , 0.56455142, 0.60654596,\n",
      "       0.00471698, 0.37810094, 0.27023879, 0.1928934 , 0.13611615]), 'f1_mean': 0.42318877188330717}\n",
      "Saved post-edit metrics saved/edit_2_Spurious_MNIST/method_eac/LeNet-patches/0324_170216/layernum_0/results/edit_idx_10/models/post_edit_metrics.pth\n",
      "Saved post-edit logits to saved/edit_2_Spurious_MNIST/method_eac/LeNet-patches/0324_170216/layernum_0/results/edit_idx_10/models/post_edit_logits.pth\n",
      "All metrics and KNN results can be found in saved/edit_2_Spurious_MNIST/method_eac/LeNet-patches/0324_170216/layernum_0/results/edit_idx_10/models\n",
      "(0324_171042) Starting Trial 12/16...\n"
     ]
    },
    {
     "name": "stderr",
     "output_type": "stream",
     "text": [
      "\n"
     ]
    },
    {
     "name": "stdout",
     "output_type": "stream",
     "text": [
      "saved/edit_2_Spurious_MNIST/method_eac/LeNet-patches/0324_170216/layernum_0/results/edit_idx_11\n",
      "torch.Size([2, 1, 32, 32])\n",
      "3 2\n",
      "Clipping input data to the valid range for imshow with RGB data ([0..1] for floats or [0..255] for integers).\n",
      "Clipping input data to the valid range for imshow with RGB data ([0..1] for floats or [0..255] for integers).\n",
      "Clipping input data to the valid range for imshow with RGB data ([0..1] for floats or [0..255] for integers).\n",
      "Clipping input data to the valid range for imshow with RGB data ([0..1] for floats or [0..255] for integers).\n"
     ]
    },
    {
     "data": {
      "image/png": "[encoded data removed]",
      "text/plain": [
       "<Figure size 500x750 with 6 Axes>"
      ]
     },
     "metadata": {},
     "output_type": "display_data"
    },
    {
     "name": "stdout",
     "output_type": "stream",
     "text": [
      "Seed: 0\n",
      "Editing layer 0\n",
      "Created ModelWrapperSanturkar model with 31340 trainable parameters\n",
      "Restored weights from saved/train/2_Spurious_MNIST-LeNet/0323_100223/models/model_best.pth\n",
      "Using passed in data loader for validation.\n",
      "Performing pre-edit metric calculations on validation set.\n"
     ]
    },
    {
     "name": "stderr",
     "output_type": "stream",
     "text": [
      "100%|███████████████████████████████████████████████████████████| 38/38 [00:00<00:00, 42.73it/s]"
     ]
    },
    {
     "name": "stdout",
     "output_type": "stream",
     "text": [
      "Pre-edit metrics: {'TP': array([450, 538, 520, 497, 452, 422, 436, 472, 456, 453]), 'TN': array([8250, 8296, 8225, 7702, 7784, 8342, 8397, 8265, 7467, 7968]), 'FPs': array([ 320,  119,  293,  838,  784,  316,  195,  257, 1109,  573]), 'FNs': array([480, 547, 462, 463, 480, 420, 472, 506, 468, 506]), 'accuracy': 0.4943157894736842, 'per_class_accuracy': array([0.91578947, 0.92989474, 0.92052632, 0.86305263, 0.86694737,\n",
      "       0.92252632, 0.92978947, 0.91968421, 0.834     , 0.88642105]), 'per_class_accuracy_mean': 0.8988631578947368, 'precision': array([0.58441558, 0.81887367, 0.6396064 , 0.37228464, 0.36569579,\n",
      "       0.57181572, 0.69096672, 0.64746228, 0.2913738 , 0.44152047]), 'precision_mean': 0.5424015070238444, 'recall': array([0.48387097, 0.49585253, 0.52953157, 0.51770833, 0.48497854,\n",
      "       0.50118765, 0.48017621, 0.48261759, 0.49350649, 0.47236705]), 'recall_mean': 0.4941796933975864, 'predicted_class_distribution': array([ 770,  657,  813, 1335, 1236,  738,  631,  729, 1565, 1026]), 'f1': array([0.52941176, 0.61768083, 0.57938719, 0.43311547, 0.41697417,\n",
      "       0.53417722, 0.56660169, 0.55301699, 0.36641221, 0.45642317]), 'f1_mean': 0.5053200697134669}\n",
      "Saved pre-edit metrics saved/edit_2_Spurious_MNIST/method_eac/LeNet-patches/0324_170216/layernum_0/results/edit_idx_11/models/pre_edit_metrics.pth\n"
     ]
    },
    {
     "name": "stderr",
     "output_type": "stream",
     "text": [
      "\n"
     ]
    },
    {
     "name": "stdout",
     "output_type": "stream",
     "text": [
      "Saved pre-edit logits to saved/edit_2_Spurious_MNIST/method_eac/LeNet-patches/0324_170216/layernum_0/results/edit_idx_11/models/pre_edit_logits.pth\n",
      "Created <class 'trainer.editor.EditorEAC'> editor.\n",
      "Using passed in covariance data loader.\n",
      "Looking for covariance matrix weights in cache/2_Spurious_MNIST_hold_out/lenet-0\n",
      "Found precomputed cov matrices, returning...\n",
      "n_edit: 2\n",
      "Forwarded edit data thru model\n",
      "Kstar[0] type: <class 'torch.Tensor'> shape: torch.Size([3, 32, 32])\n",
      "vstar type: <class 'torch.Tensor'> shape: torch.Size([2, 10, 14, 14])\n",
      "mstar type: <class 'torch.Tensor'> shape: torch.Size([2, 1, 32, 32])\n",
      "key shape: torch.Size([2, 3, 32, 32]) val shape: torch.Size([2, 10, 14, 14])\n"
     ]
    },
    {
     "name": "stderr",
     "output_type": "stream",
     "text": [
      "tensor(0.5262, device='cuda:0', grad_fn=<DivBackward0>): 100%|█| 30000/30000 [00:39<00:00, 755.0"
     ]
    },
    {
     "name": "stdout",
     "output_type": "stream",
     "text": [
      "Loss (orig, final): 0.6412032246589661 0.52619868516922\n",
      "L2 norm of weight change: 5.270170211791992\n",
      "Performing post-edit metric calculations on validation set.\n"
     ]
    },
    {
     "name": "stderr",
     "output_type": "stream",
     "text": [
      "\n",
      "100%|███████████████████████████████████████████████████████████| 38/38 [00:00<00:00, 40.74it/s]"
     ]
    },
    {
     "name": "stdout",
     "output_type": "stream",
     "text": [
      "Post-edit metrics: {'TP': array([ 865, 1082,  842,  680,  916,   15,   81,   13,    7,    0]), 'TN': array([8014, 7628, 7544, 7571, 6931, 8652, 8549, 8522, 8557, 8533]), 'FPs': array([ 556,  787,  974,  969, 1637,    6,   43,    0,   19,    8]), 'FNs': array([ 65,   3, 140, 280,  16, 827, 827, 965, 917, 959]), 'accuracy': 0.47378947368421054, 'per_class_accuracy': array([0.93463158, 0.91684211, 0.88273684, 0.86852632, 0.826     ,\n",
      "       0.91231579, 0.90842105, 0.89842105, 0.90147368, 0.89821053]), 'per_class_accuracy_mean': 0.894757894736842, 'precision': array([0.60872625, 0.57891921, 0.46365639, 0.41237113, 0.35879358,\n",
      "       0.71428571, 0.65322581, 1.        , 0.26923077, 0.        ]), 'precision_mean': 0.5059208845091823, 'recall': array([0.93010753, 0.99723502, 0.85743381, 0.70833333, 0.98283262,\n",
      "       0.01781473, 0.08920705, 0.01329243, 0.00757576, 0.        ]), 'recall_mean': 0.4603832276248846, 'predicted_class_distribution': array([1421, 1869, 1816, 1649, 2553,   21,  124,   13,   26,    8]), 'f1': array([0.73585708, 0.73256601, 0.60185847, 0.52127252, 0.52568149,\n",
      "       0.03476246, 0.15697674, 0.02623613, 0.01473684, 0.        ]), 'f1_mean': 0.3349947742895168}\n",
      "Saved post-edit metrics saved/edit_2_Spurious_MNIST/method_eac/LeNet-patches/0324_170216/layernum_0/results/edit_idx_11/models/post_edit_metrics.pth\n",
      "Saved post-edit logits to saved/edit_2_Spurious_MNIST/method_eac/LeNet-patches/0324_170216/layernum_0/results/edit_idx_11/models/post_edit_logits.pth\n",
      "All metrics and KNN results can be found in saved/edit_2_Spurious_MNIST/method_eac/LeNet-patches/0324_170216/layernum_0/results/edit_idx_11/models\n",
      "(0324_171124) Starting Trial 13/16...\n"
     ]
    },
    {
     "name": "stderr",
     "output_type": "stream",
     "text": [
      "\n",
      "/n/fs/ac-editing/model-editing/src/model/metric.py:205: RuntimeWarning: invalid value encountered in divide\n",
      "  return np.nan_to_num(2 * precisions * recalls / (precisions + recalls))\n"
     ]
    },
    {
     "name": "stdout",
     "output_type": "stream",
     "text": [
      "saved/edit_2_Spurious_MNIST/method_eac/LeNet-patches/0324_170216/layernum_0/results/edit_idx_12\n",
      "torch.Size([2, 1, 32, 32])\n",
      "3 2\n",
      "Clipping input data to the valid range for imshow with RGB data ([0..1] for floats or [0..255] for integers).\n",
      "Clipping input data to the valid range for imshow with RGB data ([0..1] for floats or [0..255] for integers).\n",
      "Clipping input data to the valid range for imshow with RGB data ([0..1] for floats or [0..255] for integers).\n",
      "Clipping input data to the valid range for imshow with RGB data ([0..1] for floats or [0..255] for integers).\n"
     ]
    },
    {
     "data": {
      "image/png": "[encoded data removed]",
      "text/plain": [
       "<Figure size 500x750 with 6 Axes>"
      ]
     },
     "metadata": {},
     "output_type": "display_data"
    },
    {
     "name": "stdout",
     "output_type": "stream",
     "text": [
      "Seed: 0\n",
      "Editing layer 0\n",
      "Created ModelWrapperSanturkar model with 31340 trainable parameters\n",
      "Restored weights from saved/train/2_Spurious_MNIST-LeNet/0323_100223/models/model_best.pth\n",
      "Using passed in data loader for validation.\n",
      "Performing pre-edit metric calculations on validation set.\n"
     ]
    },
    {
     "name": "stderr",
     "output_type": "stream",
     "text": [
      "100%|███████████████████████████████████████████████████████████| 38/38 [00:00<00:00, 41.25it/s]"
     ]
    },
    {
     "name": "stdout",
     "output_type": "stream",
     "text": [
      "Pre-edit metrics: {'TP': array([450, 538, 520, 497, 452, 422, 436, 472, 456, 453]), 'TN': array([8250, 8296, 8225, 7702, 7784, 8342, 8397, 8265, 7467, 7968]), 'FPs': array([ 320,  119,  293,  838,  784,  316,  195,  257, 1109,  573]), 'FNs': array([480, 547, 462, 463, 480, 420, 472, 506, 468, 506]), 'accuracy': 0.4943157894736842, 'per_class_accuracy': array([0.91578947, 0.92989474, 0.92052632, 0.86305263, 0.86694737,\n",
      "       0.92252632, 0.92978947, 0.91968421, 0.834     , 0.88642105]), 'per_class_accuracy_mean': 0.8988631578947368, 'precision': array([0.58441558, 0.81887367, 0.6396064 , 0.37228464, 0.36569579,\n",
      "       0.57181572, 0.69096672, 0.64746228, 0.2913738 , 0.44152047]), 'precision_mean': 0.5424015070238444, 'recall': array([0.48387097, 0.49585253, 0.52953157, 0.51770833, 0.48497854,\n",
      "       0.50118765, 0.48017621, 0.48261759, 0.49350649, 0.47236705]), 'recall_mean': 0.4941796933975864, 'predicted_class_distribution': array([ 770,  657,  813, 1335, 1236,  738,  631,  729, 1565, 1026]), 'f1': array([0.52941176, 0.61768083, 0.57938719, 0.43311547, 0.41697417,\n",
      "       0.53417722, 0.56660169, 0.55301699, 0.36641221, 0.45642317]), 'f1_mean': 0.5053200697134669}\n",
      "Saved pre-edit metrics saved/edit_2_Spurious_MNIST/method_eac/LeNet-patches/0324_170216/layernum_0/results/edit_idx_12/models/pre_edit_metrics.pth\n",
      "Saved pre-edit logits to saved/edit_2_Spurious_MNIST/method_eac/LeNet-patches/0324_170216/layernum_0/results/edit_idx_12/models/pre_edit_logits.pth\n",
      "Created <class 'trainer.editor.EditorEAC'> editor.\n",
      "Using passed in covariance data loader.\n",
      "Looking for covariance matrix weights in cache/2_Spurious_MNIST_hold_out/lenet-0\n"
     ]
    },
    {
     "name": "stderr",
     "output_type": "stream",
     "text": [
      "\n"
     ]
    },
    {
     "name": "stdout",
     "output_type": "stream",
     "text": [
      "Found precomputed cov matrices, returning...\n",
      "n_edit: 2\n",
      "Forwarded edit data thru model\n",
      "Kstar[0] type: <class 'torch.Tensor'> shape: torch.Size([3, 32, 32])\n",
      "vstar type: <class 'torch.Tensor'> shape: torch.Size([2, 10, 14, 14])\n",
      "mstar type: <class 'torch.Tensor'> shape: torch.Size([2, 1, 32, 32])\n",
      "key shape: torch.Size([2, 3, 32, 32]) val shape: torch.Size([2, 10, 14, 14])\n"
     ]
    },
    {
     "name": "stderr",
     "output_type": "stream",
     "text": [
      "tensor(0.5067, device='cuda:0', grad_fn=<DivBackward0>): 100%|█| 30000/30000 [00:40<00:00, 743.4"
     ]
    },
    {
     "name": "stdout",
     "output_type": "stream",
     "text": [
      "Loss (orig, final): 0.5883660316467285 0.5067311525344849\n",
      "L2 norm of weight change: 4.718273639678955\n",
      "Performing post-edit metric calculations on validation set.\n"
     ]
    },
    {
     "name": "stderr",
     "output_type": "stream",
     "text": [
      "\n",
      "100%|███████████████████████████████████████████████████████████| 38/38 [00:00<00:00, 41.41it/s]"
     ]
    },
    {
     "name": "stdout",
     "output_type": "stream",
     "text": [
      "Post-edit metrics: {'TP': array([762, 635, 810, 904, 767,   9, 139, 277,  43, 129]), 'TN': array([7348, 8303, 7788, 6995, 7363, 8654, 8529, 8487, 8488, 8520]), 'FPs': array([1222,  112,  730, 1545, 1205,    4,   63,   35,   88,   21]), 'FNs': array([168, 450, 172,  56, 165, 833, 769, 701, 881, 830]), 'accuracy': 0.4710526315789474, 'per_class_accuracy': array([0.85368421, 0.94084211, 0.90505263, 0.83147368, 0.85578947,\n",
      "       0.91189474, 0.91242105, 0.92252632, 0.898     , 0.91042105]), 'per_class_accuracy_mean': 0.8942105263157893, 'precision': array([0.38407258, 0.85006693, 0.52597403, 0.36913026, 0.38894523,\n",
      "       0.69230769, 0.68811881, 0.88782051, 0.32824427, 0.86      ]), 'precision_mean': 0.59746803233556, 'recall': array([0.81935484, 0.58525346, 0.82484725, 0.94166667, 0.82296137,\n",
      "       0.01068884, 0.1530837 , 0.28323108, 0.0465368 , 0.13451512]), 'recall_mean': 0.4622139122340264, 'predicted_class_distribution': array([1984,  747, 1540, 2449, 1972,   13,  202,  312,  131,  150]), 'f1': array([0.52299245, 0.69323144, 0.64234734, 0.53036081, 0.52823691,\n",
      "       0.02105263, 0.25045045, 0.42945736, 0.08151659, 0.23264202]), 'f1_mean': 0.39322880127745663}\n",
      "Saved post-edit metrics saved/edit_2_Spurious_MNIST/method_eac/LeNet-patches/0324_170216/layernum_0/results/edit_idx_12/models/post_edit_metrics.pth\n",
      "Saved post-edit logits to saved/edit_2_Spurious_MNIST/method_eac/LeNet-patches/0324_170216/layernum_0/results/edit_idx_12/models/post_edit_logits.pth\n",
      "All metrics and KNN results can be found in saved/edit_2_Spurious_MNIST/method_eac/LeNet-patches/0324_170216/layernum_0/results/edit_idx_12/models\n"
     ]
    },
    {
     "name": "stderr",
     "output_type": "stream",
     "text": [
      "\n"
     ]
    },
    {
     "name": "stdout",
     "output_type": "stream",
     "text": [
      "(0324_171206) Starting Trial 14/16...\n",
      "saved/edit_2_Spurious_MNIST/method_eac/LeNet-patches/0324_170216/layernum_0/results/edit_idx_13\n",
      "torch.Size([2, 1, 32, 32])\n",
      "3 2\n",
      "Clipping input data to the valid range for imshow with RGB data ([0..1] for floats or [0..255] for integers).\n",
      "Clipping input data to the valid range for imshow with RGB data ([0..1] for floats or [0..255] for integers).\n",
      "Clipping input data to the valid range for imshow with RGB data ([0..1] for floats or [0..255] for integers).\n",
      "Clipping input data to the valid range for imshow with RGB data ([0..1] for floats or [0..255] for integers).\n"
     ]
    },
    {
     "data": {
      "image/png": "[encoded data removed]",
      "text/plain": [
       "<Figure size 500x750 with 6 Axes>"
      ]
     },
     "metadata": {},
     "output_type": "display_data"
    },
    {
     "name": "stdout",
     "output_type": "stream",
     "text": [
      "Seed: 0\n",
      "Editing layer 0\n",
      "Created ModelWrapperSanturkar model with 31340 trainable parameters\n",
      "Restored weights from saved/train/2_Spurious_MNIST-LeNet/0323_100223/models/model_best.pth\n",
      "Using passed in data loader for validation.\n",
      "Performing pre-edit metric calculations on validation set.\n"
     ]
    },
    {
     "name": "stderr",
     "output_type": "stream",
     "text": [
      "100%|███████████████████████████████████████████████████████████| 38/38 [00:00<00:00, 42.24it/s]"
     ]
    },
    {
     "name": "stdout",
     "output_type": "stream",
     "text": [
      "Pre-edit metrics: {'TP': array([450, 538, 520, 497, 452, 422, 436, 472, 456, 453]), 'TN': array([8250, 8296, 8225, 7702, 7784, 8342, 8397, 8265, 7467, 7968]), 'FPs': array([ 320,  119,  293,  838,  784,  316,  195,  257, 1109,  573]), 'FNs': array([480, 547, 462, 463, 480, 420, 472, 506, 468, 506]), 'accuracy': 0.4943157894736842, 'per_class_accuracy': array([0.91578947, 0.92989474, 0.92052632, 0.86305263, 0.86694737,\n",
      "       0.92252632, 0.92978947, 0.91968421, 0.834     , 0.88642105]), 'per_class_accuracy_mean': 0.8988631578947368, 'precision': array([0.58441558, 0.81887367, 0.6396064 , 0.37228464, 0.36569579,\n",
      "       0.57181572, 0.69096672, 0.64746228, 0.2913738 , 0.44152047]), 'precision_mean': 0.5424015070238444, 'recall': array([0.48387097, 0.49585253, 0.52953157, 0.51770833, 0.48497854,\n",
      "       0.50118765, 0.48017621, 0.48261759, 0.49350649, 0.47236705]), 'recall_mean': 0.4941796933975864, 'predicted_class_distribution': array([ 770,  657,  813, 1335, 1236,  738,  631,  729, 1565, 1026]), 'f1': array([0.52941176, 0.61768083, 0.57938719, 0.43311547, 0.41697417,\n",
      "       0.53417722, 0.56660169, 0.55301699, 0.36641221, 0.45642317]), 'f1_mean': 0.5053200697134669}\n",
      "Saved pre-edit metrics saved/edit_2_Spurious_MNIST/method_eac/LeNet-patches/0324_170216/layernum_0/results/edit_idx_13/models/pre_edit_metrics.pth\n",
      "Saved pre-edit logits to saved/edit_2_Spurious_MNIST/method_eac/LeNet-patches/0324_170216/layernum_0/results/edit_idx_13/models/pre_edit_logits.pth\n",
      "Created <class 'trainer.editor.EditorEAC'> editor.\n",
      "Using passed in covariance data loader.\n",
      "Looking for covariance matrix weights in cache/2_Spurious_MNIST_hold_out/lenet-0\n"
     ]
    },
    {
     "name": "stderr",
     "output_type": "stream",
     "text": [
      "\n"
     ]
    },
    {
     "name": "stdout",
     "output_type": "stream",
     "text": [
      "Found precomputed cov matrices, returning...\n",
      "n_edit: 2\n",
      "Forwarded edit data thru model\n",
      "Kstar[0] type: <class 'torch.Tensor'> shape: torch.Size([3, 32, 32])\n",
      "vstar type: <class 'torch.Tensor'> shape: torch.Size([2, 10, 14, 14])\n",
      "mstar type: <class 'torch.Tensor'> shape: torch.Size([2, 1, 32, 32])\n",
      "key shape: torch.Size([2, 3, 32, 32]) val shape: torch.Size([2, 10, 14, 14])\n"
     ]
    },
    {
     "name": "stderr",
     "output_type": "stream",
     "text": [
      "tensor(0.5150, device='cuda:0', grad_fn=<DivBackward0>): 100%|█| 30000/30000 [00:40<00:00, 734.1"
     ]
    },
    {
     "name": "stdout",
     "output_type": "stream",
     "text": [
      "Loss (orig, final): 0.655026376247406 0.5150063037872314\n",
      "L2 norm of weight change: 6.035783290863037\n",
      "Performing post-edit metric calculations on validation set.\n"
     ]
    },
    {
     "name": "stderr",
     "output_type": "stream",
     "text": [
      "\n",
      "100%|███████████████████████████████████████████████████████████| 38/38 [00:00<00:00, 38.91it/s]"
     ]
    },
    {
     "name": "stdout",
     "output_type": "stream",
     "text": [
      "Post-edit metrics: {'TP': array([ 890, 1058,  897,  913,  827,   10,   43,  192,   64,    0]), 'TN': array([7807, 8187, 7947, 7253, 6967, 8653, 8588, 8466, 8532, 8494]), 'FPs': array([ 763,  228,  571, 1287, 1601,    5,    4,   56,   44,   47]), 'FNs': array([ 40,  27,  85,  47, 105, 832, 865, 786, 860, 959]), 'accuracy': 0.5151578947368421, 'per_class_accuracy': array([0.91547368, 0.97315789, 0.93094737, 0.85957895, 0.82042105,\n",
      "       0.91189474, 0.90852632, 0.91136842, 0.90484211, 0.89410526]), 'per_class_accuracy_mean': 0.9030315789473684, 'precision': array([0.538415  , 0.82270607, 0.61103542, 0.415     , 0.34060956,\n",
      "       0.66666667, 0.91489362, 0.77419355, 0.59259259, 0.        ]), 'precision_mean': 0.5676112470544035, 'recall': array([0.95698925, 0.97511521, 0.91344196, 0.95104167, 0.88733906,\n",
      "       0.01187648, 0.04735683, 0.19631902, 0.06926407, 0.        ]), 'recall_mean': 0.5008743532762621, 'predicted_class_distribution': array([1653, 1286, 1468, 2200, 2428,   15,   47,  248,  108,   47]), 'f1': array([0.68912118, 0.89245044, 0.7322449 , 0.5778481 , 0.4922619 ,\n",
      "       0.02333722, 0.09005236, 0.3132137 , 0.12403101, 0.        ]), 'f1_mean': 0.39345608135069526}\n",
      "Saved post-edit metrics saved/edit_2_Spurious_MNIST/method_eac/LeNet-patches/0324_170216/layernum_0/results/edit_idx_13/models/post_edit_metrics.pth\n",
      "Saved post-edit logits to saved/edit_2_Spurious_MNIST/method_eac/LeNet-patches/0324_170216/layernum_0/results/edit_idx_13/models/post_edit_logits.pth\n",
      "All metrics and KNN results can be found in saved/edit_2_Spurious_MNIST/method_eac/LeNet-patches/0324_170216/layernum_0/results/edit_idx_13/models\n",
      "(0324_171249) Starting Trial 15/16...\n"
     ]
    },
    {
     "name": "stderr",
     "output_type": "stream",
     "text": [
      "\n",
      "/n/fs/ac-editing/model-editing/src/model/metric.py:205: RuntimeWarning: invalid value encountered in divide\n",
      "  return np.nan_to_num(2 * precisions * recalls / (precisions + recalls))\n"
     ]
    },
    {
     "name": "stdout",
     "output_type": "stream",
     "text": [
      "saved/edit_2_Spurious_MNIST/method_eac/LeNet-patches/0324_170216/layernum_0/results/edit_idx_14\n",
      "torch.Size([2, 1, 32, 32])\n",
      "3 2\n",
      "Clipping input data to the valid range for imshow with RGB data ([0..1] for floats or [0..255] for integers).\n",
      "Clipping input data to the valid range for imshow with RGB data ([0..1] for floats or [0..255] for integers).\n",
      "Clipping input data to the valid range for imshow with RGB data ([0..1] for floats or [0..255] for integers).\n",
      "Clipping input data to the valid range for imshow with RGB data ([0..1] for floats or [0..255] for integers).\n"
     ]
    },
    {
     "data": {
      "image/png": "[encoded data removed]",
      "text/plain": [
       "<Figure size 500x750 with 6 Axes>"
      ]
     },
     "metadata": {},
     "output_type": "display_data"
    },
    {
     "name": "stdout",
     "output_type": "stream",
     "text": [
      "Seed: 0\n",
      "Editing layer 0\n",
      "Created ModelWrapperSanturkar model with 31340 trainable parameters\n",
      "Restored weights from saved/train/2_Spurious_MNIST-LeNet/0323_100223/models/model_best.pth\n",
      "Using passed in data loader for validation.\n",
      "Performing pre-edit metric calculations on validation set.\n"
     ]
    },
    {
     "name": "stderr",
     "output_type": "stream",
     "text": [
      "100%|███████████████████████████████████████████████████████████| 38/38 [00:00<00:00, 41.15it/s]"
     ]
    },
    {
     "name": "stdout",
     "output_type": "stream",
     "text": [
      "Pre-edit metrics: {'TP': array([450, 538, 520, 497, 452, 422, 436, 472, 456, 453]), 'TN': array([8250, 8296, 8225, 7702, 7784, 8342, 8397, 8265, 7467, 7968]), 'FPs': array([ 320,  119,  293,  838,  784,  316,  195,  257, 1109,  573]), 'FNs': array([480, 547, 462, 463, 480, 420, 472, 506, 468, 506]), 'accuracy': 0.4943157894736842, 'per_class_accuracy': array([0.91578947, 0.92989474, 0.92052632, 0.86305263, 0.86694737,\n",
      "       0.92252632, 0.92978947, 0.91968421, 0.834     , 0.88642105]), 'per_class_accuracy_mean': 0.8988631578947368, 'precision': array([0.58441558, 0.81887367, 0.6396064 , 0.37228464, 0.36569579,\n",
      "       0.57181572, 0.69096672, 0.64746228, 0.2913738 , 0.44152047]), 'precision_mean': 0.5424015070238444, 'recall': array([0.48387097, 0.49585253, 0.52953157, 0.51770833, 0.48497854,\n",
      "       0.50118765, 0.48017621, 0.48261759, 0.49350649, 0.47236705]), 'recall_mean': 0.4941796933975864, 'predicted_class_distribution': array([ 770,  657,  813, 1335, 1236,  738,  631,  729, 1565, 1026]), 'f1': array([0.52941176, 0.61768083, 0.57938719, 0.43311547, 0.41697417,\n",
      "       0.53417722, 0.56660169, 0.55301699, 0.36641221, 0.45642317]), 'f1_mean': 0.5053200697134669}\n",
      "Saved pre-edit metrics saved/edit_2_Spurious_MNIST/method_eac/LeNet-patches/0324_170216/layernum_0/results/edit_idx_14/models/pre_edit_metrics.pth\n",
      "Saved pre-edit logits to saved/edit_2_Spurious_MNIST/method_eac/LeNet-patches/0324_170216/layernum_0/results/edit_idx_14/models/pre_edit_logits.pth\n",
      "Created <class 'trainer.editor.EditorEAC'> editor.\n",
      "Using passed in covariance data loader.\n",
      "Looking for covariance matrix weights in cache/2_Spurious_MNIST_hold_out/lenet-0\n"
     ]
    },
    {
     "name": "stderr",
     "output_type": "stream",
     "text": [
      "\n"
     ]
    },
    {
     "name": "stdout",
     "output_type": "stream",
     "text": [
      "Found precomputed cov matrices, returning...\n",
      "n_edit: 2\n",
      "Forwarded edit data thru model\n",
      "Kstar[0] type: <class 'torch.Tensor'> shape: torch.Size([3, 32, 32])\n",
      "vstar type: <class 'torch.Tensor'> shape: torch.Size([2, 10, 14, 14])\n",
      "mstar type: <class 'torch.Tensor'> shape: torch.Size([2, 1, 32, 32])\n",
      "key shape: torch.Size([2, 3, 32, 32]) val shape: torch.Size([2, 10, 14, 14])\n"
     ]
    },
    {
     "name": "stderr",
     "output_type": "stream",
     "text": [
      "tensor(0.5334, device='cuda:0', grad_fn=<DivBackward0>): 100%|█| 30000/30000 [00:42<00:00, 707.7"
     ]
    },
    {
     "name": "stdout",
     "output_type": "stream",
     "text": [
      "Loss (orig, final): 0.6021892428398132 0.5334000587463379\n",
      "L2 norm of weight change: 6.193104267120361\n",
      "Performing post-edit metric calculations on validation set.\n"
     ]
    },
    {
     "name": "stderr",
     "output_type": "stream",
     "text": [
      "\n",
      "100%|███████████████████████████████████████████████████████████| 38/38 [00:00<00:00, 40.46it/s]"
     ]
    },
    {
     "name": "stdout",
     "output_type": "stream",
     "text": [
      "Post-edit metrics: {'TP': array([ 635, 1011,  859,  828,  674,  141,    6,  175,    3,   15]), 'TN': array([8183, 8012, 7402, 7145, 7574, 8592, 8569, 7985, 8428, 8457]), 'FPs': array([ 387,  403, 1116, 1395,  994,   66,   23,  537,  148,   84]), 'FNs': array([295,  74, 123, 132, 258, 701, 902, 803, 921, 944]), 'accuracy': 0.45757894736842103, 'per_class_accuracy': array([0.92821053, 0.94978947, 0.86957895, 0.83926316, 0.86821053,\n",
      "       0.91926316, 0.90263158, 0.85894737, 0.88747368, 0.89178947]), 'per_class_accuracy_mean': 0.8915157894736844, 'precision': array([0.62133072, 0.71499293, 0.43493671, 0.37246964, 0.40407674,\n",
      "       0.68115942, 0.20689655, 0.24578652, 0.01986755, 0.15151515]), 'precision_mean': 0.38530319250840184, 'recall': array([0.6827957 , 0.93179724, 0.87474542, 0.8625    , 0.72317597,\n",
      "       0.16745843, 0.00660793, 0.17893661, 0.00324675, 0.01564129]), 'recall_mean': 0.4446905330525023, 'predicted_class_distribution': array([1022, 1414, 1975, 2223, 1668,  207,   29,  712,  151,   99]), 'f1': array([0.65061475, 0.80912365, 0.58099425, 0.5202639 , 0.51846154,\n",
      "       0.26882745, 0.01280683, 0.20710059, 0.0055814 , 0.02835539]), 'f1_mean': 0.36021297545456654}\n",
      "Saved post-edit metrics saved/edit_2_Spurious_MNIST/method_eac/LeNet-patches/0324_170216/layernum_0/results/edit_idx_14/models/post_edit_metrics.pth\n",
      "Saved post-edit logits to saved/edit_2_Spurious_MNIST/method_eac/LeNet-patches/0324_170216/layernum_0/results/edit_idx_14/models/post_edit_logits.pth\n",
      "All metrics and KNN results can be found in saved/edit_2_Spurious_MNIST/method_eac/LeNet-patches/0324_170216/layernum_0/results/edit_idx_14/models\n",
      "(0324_171334) Starting Trial 16/16...\n"
     ]
    },
    {
     "name": "stderr",
     "output_type": "stream",
     "text": [
      "\n"
     ]
    },
    {
     "name": "stdout",
     "output_type": "stream",
     "text": [
      "saved/edit_2_Spurious_MNIST/method_eac/LeNet-patches/0324_170216/layernum_0/results/edit_idx_15\n",
      "torch.Size([2, 1, 32, 32])\n",
      "3 2\n",
      "Clipping input data to the valid range for imshow with RGB data ([0..1] for floats or [0..255] for integers).\n",
      "Clipping input data to the valid range for imshow with RGB data ([0..1] for floats or [0..255] for integers).\n",
      "Clipping input data to the valid range for imshow with RGB data ([0..1] for floats or [0..255] for integers).\n",
      "Clipping input data to the valid range for imshow with RGB data ([0..1] for floats or [0..255] for integers).\n"
     ]
    },
    {
     "data": {
      "image/png": "[encoded data removed]",
      "text/plain": [
       "<Figure size 500x750 with 6 Axes>"
      ]
     },
     "metadata": {},
     "output_type": "display_data"
    },
    {
     "name": "stdout",
     "output_type": "stream",
     "text": [
      "Seed: 0\n",
      "Editing layer 0\n",
      "Created ModelWrapperSanturkar model with 31340 trainable parameters\n",
      "Restored weights from saved/train/2_Spurious_MNIST-LeNet/0323_100223/models/model_best.pth\n",
      "Using passed in data loader for validation.\n",
      "Performing pre-edit metric calculations on validation set.\n"
     ]
    },
    {
     "name": "stderr",
     "output_type": "stream",
     "text": [
      "100%|███████████████████████████████████████████████████████████| 38/38 [00:00<00:00, 40.25it/s]"
     ]
    },
    {
     "name": "stdout",
     "output_type": "stream",
     "text": [
      "Pre-edit metrics: {'TP': array([450, 538, 520, 497, 452, 422, 436, 472, 456, 453]), 'TN': array([8250, 8296, 8225, 7702, 7784, 8342, 8397, 8265, 7467, 7968]), 'FPs': array([ 320,  119,  293,  838,  784,  316,  195,  257, 1109,  573]), 'FNs': array([480, 547, 462, 463, 480, 420, 472, 506, 468, 506]), 'accuracy': 0.4943157894736842, 'per_class_accuracy': array([0.91578947, 0.92989474, 0.92052632, 0.86305263, 0.86694737,\n",
      "       0.92252632, 0.92978947, 0.91968421, 0.834     , 0.88642105]), 'per_class_accuracy_mean': 0.8988631578947368, 'precision': array([0.58441558, 0.81887367, 0.6396064 , 0.37228464, 0.36569579,\n",
      "       0.57181572, 0.69096672, 0.64746228, 0.2913738 , 0.44152047]), 'precision_mean': 0.5424015070238444, 'recall': array([0.48387097, 0.49585253, 0.52953157, 0.51770833, 0.48497854,\n",
      "       0.50118765, 0.48017621, 0.48261759, 0.49350649, 0.47236705]), 'recall_mean': 0.4941796933975864, 'predicted_class_distribution': array([ 770,  657,  813, 1335, 1236,  738,  631,  729, 1565, 1026]), 'f1': array([0.52941176, 0.61768083, 0.57938719, 0.43311547, 0.41697417,\n",
      "       0.53417722, 0.56660169, 0.55301699, 0.36641221, 0.45642317]), 'f1_mean': 0.5053200697134669}\n",
      "Saved pre-edit metrics saved/edit_2_Spurious_MNIST/method_eac/LeNet-patches/0324_170216/layernum_0/results/edit_idx_15/models/pre_edit_metrics.pth\n",
      "Saved pre-edit logits to saved/edit_2_Spurious_MNIST/method_eac/LeNet-patches/0324_170216/layernum_0/results/edit_idx_15/models/pre_edit_logits.pth\n",
      "Created <class 'trainer.editor.EditorEAC'> editor.\n",
      "Using passed in covariance data loader.\n",
      "Looking for covariance matrix weights in cache/2_Spurious_MNIST_hold_out/lenet-0\n"
     ]
    },
    {
     "name": "stderr",
     "output_type": "stream",
     "text": [
      "\n"
     ]
    },
    {
     "name": "stdout",
     "output_type": "stream",
     "text": [
      "Found precomputed cov matrices, returning...\n",
      "n_edit: 2\n",
      "Forwarded edit data thru model\n",
      "Kstar[0] type: <class 'torch.Tensor'> shape: torch.Size([3, 32, 32])\n",
      "vstar type: <class 'torch.Tensor'> shape: torch.Size([2, 10, 14, 14])\n",
      "mstar type: <class 'torch.Tensor'> shape: torch.Size([2, 1, 32, 32])\n",
      "key shape: torch.Size([2, 3, 32, 32]) val shape: torch.Size([2, 10, 14, 14])\n"
     ]
    },
    {
     "name": "stderr",
     "output_type": "stream",
     "text": [
      "tensor(0.5489, device='cuda:0', grad_fn=<DivBackward0>): 100%|█| 30000/30000 [00:41<00:00, 724.1"
     ]
    },
    {
     "name": "stdout",
     "output_type": "stream",
     "text": [
      "Loss (orig, final): 0.5640789270401001 0.5489380359649658\n",
      "L2 norm of weight change: 1.6787139177322388\n",
      "Performing post-edit metric calculations on validation set.\n"
     ]
    },
    {
     "name": "stderr",
     "output_type": "stream",
     "text": [
      "\n",
      "100%|███████████████████████████████████████████████████████████| 38/38 [00:00<00:00, 40.29it/s]"
     ]
    },
    {
     "name": "stdout",
     "output_type": "stream",
     "text": [
      "Post-edit metrics: {'TP': array([450, 747, 520, 506, 453, 422, 415, 462, 441, 429]), 'TN': array([8248, 8292, 8231, 7696, 7770, 7930, 8231, 8390, 7909, 8148]), 'FPs': array([322, 123, 287, 844, 798, 728, 361, 132, 667, 393]), 'FNs': array([480, 338, 462, 454, 479, 420, 493, 516, 483, 530]), 'accuracy': 0.51, 'per_class_accuracy': array([0.91557895, 0.95147368, 0.92115789, 0.86336842, 0.86557895,\n",
      "       0.87915789, 0.91010526, 0.93178947, 0.87894737, 0.90284211]), 'per_class_accuracy_mean': 0.9019999999999999, 'precision': array([0.58290155, 0.85862069, 0.64436183, 0.37481481, 0.36211031,\n",
      "       0.36695652, 0.53479381, 0.77777778, 0.39801444, 0.52189781]), 'precision_mean': 0.5422249569179733, 'recall': array([0.48387097, 0.68847926, 0.52953157, 0.52708333, 0.4860515 ,\n",
      "       0.50118765, 0.45704846, 0.47239264, 0.47727273, 0.44734098]), 'recall_mean': 0.5070259086225178, 'predicted_class_distribution': array([ 772,  870,  807, 1350, 1251, 1150,  776,  594, 1108,  822]), 'f1': array([0.52878966, 0.76419437, 0.58133035, 0.43809524, 0.41502519,\n",
      "       0.42369478, 0.49287411, 0.58778626, 0.43405512, 0.48175182]), 'f1_mean': 0.5147596908409329}\n",
      "Saved post-edit metrics saved/edit_2_Spurious_MNIST/method_eac/LeNet-patches/0324_170216/layernum_0/results/edit_idx_15/models/post_edit_metrics.pth\n",
      "Saved post-edit logits to saved/edit_2_Spurious_MNIST/method_eac/LeNet-patches/0324_170216/layernum_0/results/edit_idx_15/models/post_edit_logits.pth\n"
     ]
    },
    {
     "name": "stderr",
     "output_type": "stream",
     "text": [
      "\n"
     ]
    },
    {
     "name": "stdout",
     "output_type": "stream",
     "text": [
      "All metrics and KNN results can be found in saved/edit_2_Spurious_MNIST/method_eac/LeNet-patches/0324_170216/layernum_0/results/edit_idx_15/models\n",
      "Experimenting with layernum of 1\n",
      "(0324_171418) Starting Trial 1/16...\n",
      "saved/edit_2_Spurious_MNIST/method_eac/LeNet-patches/0324_170216/layernum_1/results/edit_idx_0\n",
      "torch.Size([2, 1, 32, 32])\n",
      "3 2\n",
      "Clipping input data to the valid range for imshow with RGB data ([0..1] for floats or [0..255] for integers).\n",
      "Clipping input data to the valid range for imshow with RGB data ([0..1] for floats or [0..255] for integers).\n",
      "Clipping input data to the valid range for imshow with RGB data ([0..1] for floats or [0..255] for integers).\n",
      "Clipping input data to the valid range for imshow with RGB data ([0..1] for floats or [0..255] for integers).\n"
     ]
    },
    {
     "data": {
      "image/png": "[encoded data removed]",
      "text/plain": [
       "<Figure size 500x750 with 6 Axes>"
      ]
     },
     "metadata": {},
     "output_type": "display_data"
    },
    {
     "name": "stdout",
     "output_type": "stream",
     "text": [
      "Seed: 0\n",
      "Editing layer 1\n",
      "Created ModelWrapperSanturkar model with 31340 trainable parameters\n",
      "Restored weights from saved/train/2_Spurious_MNIST-LeNet/0323_100223/models/model_best.pth\n",
      "Using passed in data loader for validation.\n",
      "Performing pre-edit metric calculations on validation set.\n"
     ]
    },
    {
     "name": "stderr",
     "output_type": "stream",
     "text": [
      "100%|███████████████████████████████████████████████████████████| 38/38 [00:00<00:00, 39.84it/s]\n"
     ]
    },
    {
     "name": "stdout",
     "output_type": "stream",
     "text": [
      "Pre-edit metrics: {'TP': array([450, 538, 520, 497, 452, 422, 436, 472, 456, 453]), 'TN': array([8250, 8296, 8225, 7702, 7784, 8342, 8397, 8265, 7467, 7968]), 'FPs': array([ 320,  119,  293,  838,  784,  316,  195,  257, 1109,  573]), 'FNs': array([480, 547, 462, 463, 480, 420, 472, 506, 468, 506]), 'accuracy': 0.4943157894736842, 'per_class_accuracy': array([0.91578947, 0.92989474, 0.92052632, 0.86305263, 0.86694737,\n",
      "       0.92252632, 0.92978947, 0.91968421, 0.834     , 0.88642105]), 'per_class_accuracy_mean': 0.8988631578947368, 'precision': array([0.58441558, 0.81887367, 0.6396064 , 0.37228464, 0.36569579,\n",
      "       0.57181572, 0.69096672, 0.64746228, 0.2913738 , 0.44152047]), 'precision_mean': 0.5424015070238444, 'recall': array([0.48387097, 0.49585253, 0.52953157, 0.51770833, 0.48497854,\n",
      "       0.50118765, 0.48017621, 0.48261759, 0.49350649, 0.47236705]), 'recall_mean': 0.4941796933975864, 'predicted_class_distribution': array([ 770,  657,  813, 1335, 1236,  738,  631,  729, 1565, 1026]), 'f1': array([0.52941176, 0.61768083, 0.57938719, 0.43311547, 0.41697417,\n",
      "       0.53417722, 0.56660169, 0.55301699, 0.36641221, 0.45642317]), 'f1_mean': 0.5053200697134669}\n",
      "Saved pre-edit metrics saved/edit_2_Spurious_MNIST/method_eac/LeNet-patches/0324_170216/layernum_1/results/edit_idx_0/models/pre_edit_metrics.pth\n",
      "Saved pre-edit logits to saved/edit_2_Spurious_MNIST/method_eac/LeNet-patches/0324_170216/layernum_1/results/edit_idx_0/models/pre_edit_logits.pth\n",
      "Created <class 'trainer.editor.EditorEAC'> editor.\n",
      "Using passed in covariance data loader.\n",
      "Looking for covariance matrix weights in cache/2_Spurious_MNIST_hold_out/lenet-1\n",
      "Found precomputed cov matrices, returning...\n",
      "n_edit: 2\n",
      "Forwarded edit data thru model\n",
      "Kstar[0] type: <class 'torch.Tensor'> shape: torch.Size([10, 14, 14])\n",
      "vstar type: <class 'torch.Tensor'> shape: torch.Size([2, 20, 5, 5])\n",
      "mstar type: <class 'torch.Tensor'> shape: torch.Size([2, 1, 32, 32])\n",
      "key shape: torch.Size([2, 10, 14, 14]) val shape: torch.Size([2, 20, 5, 5])\n"
     ]
    },
    {
     "name": "stderr",
     "output_type": "stream",
     "text": [
      "tensor(6.1800, device='cuda:0', grad_fn=<DivBackward0>): 100%|█| 30000/30000 [00:40<00:00, 749.6\n"
     ]
    },
    {
     "name": "stdout",
     "output_type": "stream",
     "text": [
      "Loss (orig, final): 1.2750283479690552 6.17997407913208\n",
      "L2 norm of weight change: 432.1958312988281\n",
      "Performing post-edit metric calculations on validation set.\n"
     ]
    },
    {
     "name": "stderr",
     "output_type": "stream",
     "text": [
      "100%|███████████████████████████████████████████████████████████| 38/38 [00:00<00:00, 42.38it/s]"
     ]
    },
    {
     "name": "stdout",
     "output_type": "stream",
     "text": [
      "Post-edit metrics: {'TP': array([ 49, 640, 478, 178, 351, 273,  12, 338,  47,  32]), 'TN': array([8339, 7798, 6710, 7982, 7113, 7111, 8492, 7985, 8440, 8428]), 'FPs': array([ 231,  617, 1808,  558, 1455, 1547,  100,  537,  136,  113]), 'FNs': array([881, 445, 504, 782, 581, 569, 896, 640, 877, 927]), 'accuracy': 0.25242105263157893, 'per_class_accuracy': array([0.88294737, 0.88821053, 0.75663158, 0.85894737, 0.78568421,\n",
      "       0.77726316, 0.89515789, 0.87610526, 0.89336842, 0.89052632]), 'per_class_accuracy_mean': 0.8504842105263158, 'precision': array([0.175     , 0.50914877, 0.20909886, 0.24184783, 0.19435216,\n",
      "       0.15      , 0.10714286, 0.38628571, 0.2568306 , 0.22068966]), 'precision_mean': 0.24503964427967762, 'recall': array([0.05268817, 0.58986175, 0.48676171, 0.18541667, 0.37660944,\n",
      "       0.32422803, 0.01321586, 0.34560327, 0.0508658 , 0.03336809]), 'recall_mean': 0.24586187948622276, 'predicted_class_distribution': array([ 280, 1257, 2286,  736, 1806, 1820,  112,  875,  183,  145]), 'f1': array([0.08099174, 0.54654142, 0.29253366, 0.20990566, 0.25639153,\n",
      "       0.20510894, 0.02352941, 0.36481382, 0.08491418, 0.05797101]), 'f1_mean': 0.21227013647120482}\n"
     ]
    },
    {
     "name": "stderr",
     "output_type": "stream",
     "text": [
      "\n"
     ]
    },
    {
     "name": "stdout",
     "output_type": "stream",
     "text": [
      "Saved post-edit metrics saved/edit_2_Spurious_MNIST/method_eac/LeNet-patches/0324_170216/layernum_1/results/edit_idx_0/models/post_edit_metrics.pth\n",
      "Saved post-edit logits to saved/edit_2_Spurious_MNIST/method_eac/LeNet-patches/0324_170216/layernum_1/results/edit_idx_0/models/post_edit_logits.pth\n",
      "All metrics and KNN results can be found in saved/edit_2_Spurious_MNIST/method_eac/LeNet-patches/0324_170216/layernum_1/results/edit_idx_0/models\n",
      "(0324_171501) Starting Trial 2/16...\n",
      "saved/edit_2_Spurious_MNIST/method_eac/LeNet-patches/0324_170216/layernum_1/results/edit_idx_1\n",
      "torch.Size([2, 1, 32, 32])\n",
      "3 2\n",
      "Clipping input data to the valid range for imshow with RGB data ([0..1] for floats or [0..255] for integers).\n",
      "Clipping input data to the valid range for imshow with RGB data ([0..1] for floats or [0..255] for integers).\n",
      "Clipping input data to the valid range for imshow with RGB data ([0..1] for floats or [0..255] for integers).\n",
      "Clipping input data to the valid range for imshow with RGB data ([0..1] for floats or [0..255] for integers).\n"
     ]
    },
    {
     "data": {
      "image/png": "[encoded data removed]",
      "text/plain": [
       "<Figure size 500x750 with 6 Axes>"
      ]
     },
     "metadata": {},
     "output_type": "display_data"
    },
    {
     "name": "stdout",
     "output_type": "stream",
     "text": [
      "Seed: 0\n",
      "Editing layer 1\n",
      "Created ModelWrapperSanturkar model with 31340 trainable parameters\n",
      "Restored weights from saved/train/2_Spurious_MNIST-LeNet/0323_100223/models/model_best.pth\n",
      "Using passed in data loader for validation.\n",
      "Performing pre-edit metric calculations on validation set.\n"
     ]
    },
    {
     "name": "stderr",
     "output_type": "stream",
     "text": [
      "100%|███████████████████████████████████████████████████████████| 38/38 [00:00<00:00, 42.34it/s]"
     ]
    },
    {
     "name": "stdout",
     "output_type": "stream",
     "text": [
      "Pre-edit metrics: {'TP': array([450, 538, 520, 497, 452, 422, 436, 472, 456, 453]), 'TN': array([8250, 8296, 8225, 7702, 7784, 8342, 8397, 8265, 7467, 7968]), 'FPs': array([ 320,  119,  293,  838,  784,  316,  195,  257, 1109,  573]), 'FNs': array([480, 547, 462, 463, 480, 420, 472, 506, 468, 506]), 'accuracy': 0.4943157894736842, 'per_class_accuracy': array([0.91578947, 0.92989474, 0.92052632, 0.86305263, 0.86694737,\n",
      "       0.92252632, 0.92978947, 0.91968421, 0.834     , 0.88642105]), 'per_class_accuracy_mean': 0.8988631578947368, 'precision': array([0.58441558, 0.81887367, 0.6396064 , 0.37228464, 0.36569579,\n",
      "       0.57181572, 0.69096672, 0.64746228, 0.2913738 , 0.44152047]), 'precision_mean': 0.5424015070238444, 'recall': array([0.48387097, 0.49585253, 0.52953157, 0.51770833, 0.48497854,\n",
      "       0.50118765, 0.48017621, 0.48261759, 0.49350649, 0.47236705]), 'recall_mean': 0.4941796933975864, 'predicted_class_distribution': array([ 770,  657,  813, 1335, 1236,  738,  631,  729, 1565, 1026]), 'f1': array([0.52941176, 0.61768083, 0.57938719, 0.43311547, 0.41697417,\n",
      "       0.53417722, 0.56660169, 0.55301699, 0.36641221, 0.45642317]), 'f1_mean': 0.5053200697134669}\n",
      "Saved pre-edit metrics saved/edit_2_Spurious_MNIST/method_eac/LeNet-patches/0324_170216/layernum_1/results/edit_idx_1/models/pre_edit_metrics.pth\n",
      "Saved pre-edit logits to saved/edit_2_Spurious_MNIST/method_eac/LeNet-patches/0324_170216/layernum_1/results/edit_idx_1/models/pre_edit_logits.pth\n",
      "Created <class 'trainer.editor.EditorEAC'> editor.\n",
      "Using passed in covariance data loader.\n",
      "Looking for covariance matrix weights in cache/2_Spurious_MNIST_hold_out/lenet-1\n"
     ]
    },
    {
     "name": "stderr",
     "output_type": "stream",
     "text": [
      "\n"
     ]
    },
    {
     "name": "stdout",
     "output_type": "stream",
     "text": [
      "Found precomputed cov matrices, returning...\n",
      "n_edit: 2\n",
      "Forwarded edit data thru model\n",
      "Kstar[0] type: <class 'torch.Tensor'> shape: torch.Size([10, 14, 14])\n",
      "vstar type: <class 'torch.Tensor'> shape: torch.Size([2, 20, 5, 5])\n",
      "mstar type: <class 'torch.Tensor'> shape: torch.Size([2, 1, 32, 32])\n",
      "key shape: torch.Size([2, 10, 14, 14]) val shape: torch.Size([2, 20, 5, 5])\n"
     ]
    },
    {
     "name": "stderr",
     "output_type": "stream",
     "text": [
      "tensor(0.8004, device='cuda:0', grad_fn=<DivBackward0>): 100%|█| 30000/30000 [00:36<00:00, 814.4"
     ]
    },
    {
     "name": "stdout",
     "output_type": "stream",
     "text": [
      "Loss (orig, final): 1.456160068511963 0.8003509640693665\n",
      "L2 norm of weight change: 4.748870849609375\n",
      "Performing post-edit metric calculations on validation set.\n"
     ]
    },
    {
     "name": "stderr",
     "output_type": "stream",
     "text": [
      "\n",
      "100%|███████████████████████████████████████████████████████████| 38/38 [00:00<00:00, 43.46it/s]"
     ]
    },
    {
     "name": "stdout",
     "output_type": "stream",
     "text": [
      "Post-edit metrics: {'TP': array([450, 538, 521, 494, 452, 420, 434, 479, 455, 452]), 'TN': array([8264, 8293, 8174, 7832, 7695, 8251, 8365, 8027, 7834, 7960]), 'FPs': array([306, 122, 344, 708, 873, 407, 227, 495, 742, 581]), 'FNs': array([480, 547, 461, 466, 480, 422, 474, 499, 469, 507]), 'accuracy': 0.4942105263157895, 'per_class_accuracy': array([0.91726316, 0.92957895, 0.91526316, 0.87642105, 0.85757895,\n",
      "       0.91273684, 0.92621053, 0.89536842, 0.87252632, 0.88547368]), 'per_class_accuracy_mean': 0.8988421052631578, 'precision': array([0.5952381 , 0.81515152, 0.60231214, 0.4109817 , 0.34113208,\n",
      "       0.50785973, 0.65658094, 0.49178645, 0.38011696, 0.4375605 ]), 'precision_mean': 0.5238720103803137, 'recall': array([0.48387097, 0.49585253, 0.5305499 , 0.51458333, 0.48497854,\n",
      "       0.49881235, 0.47797357, 0.48977505, 0.49242424, 0.4713243 ]), 'recall_mean': 0.49401447840937013, 'predicted_class_distribution': array([ 756,  660,  865, 1202, 1325,  827,  661,  974, 1197, 1033]), 'f1': array([0.53380783, 0.61661891, 0.56415809, 0.45698427, 0.40053168,\n",
      "       0.50329539, 0.55321861, 0.49077869, 0.4290429 , 0.45381526]), 'f1_mean': 0.5002251638501983}\n",
      "Saved post-edit metrics saved/edit_2_Spurious_MNIST/method_eac/LeNet-patches/0324_170216/layernum_1/results/edit_idx_1/models/post_edit_metrics.pth\n",
      "Saved post-edit logits to saved/edit_2_Spurious_MNIST/method_eac/LeNet-patches/0324_170216/layernum_1/results/edit_idx_1/models/post_edit_logits.pth\n",
      "All metrics and KNN results can be found in saved/edit_2_Spurious_MNIST/method_eac/LeNet-patches/0324_170216/layernum_1/results/edit_idx_1/models\n",
      "(0324_171540) Starting Trial 3/16...\n"
     ]
    },
    {
     "name": "stderr",
     "output_type": "stream",
     "text": [
      "\n"
     ]
    },
    {
     "name": "stdout",
     "output_type": "stream",
     "text": [
      "saved/edit_2_Spurious_MNIST/method_eac/LeNet-patches/0324_170216/layernum_1/results/edit_idx_2\n",
      "torch.Size([2, 1, 32, 32])\n",
      "3 2\n",
      "Clipping input data to the valid range for imshow with RGB data ([0..1] for floats or [0..255] for integers).\n",
      "Clipping input data to the valid range for imshow with RGB data ([0..1] for floats or [0..255] for integers).\n",
      "Clipping input data to the valid range for imshow with RGB data ([0..1] for floats or [0..255] for integers).\n",
      "Clipping input data to the valid range for imshow with RGB data ([0..1] for floats or [0..255] for integers).\n"
     ]
    },
    {
     "data": {
      "image/png": "[encoded data removed]",
      "text/plain": [
       "<Figure size 500x750 with 6 Axes>"
      ]
     },
     "metadata": {},
     "output_type": "display_data"
    },
    {
     "name": "stdout",
     "output_type": "stream",
     "text": [
      "Seed: 0\n",
      "Editing layer 1\n",
      "Created ModelWrapperSanturkar model with 31340 trainable parameters\n",
      "Restored weights from saved/train/2_Spurious_MNIST-LeNet/0323_100223/models/model_best.pth\n",
      "Using passed in data loader for validation.\n",
      "Performing pre-edit metric calculations on validation set.\n"
     ]
    },
    {
     "name": "stderr",
     "output_type": "stream",
     "text": [
      "100%|███████████████████████████████████████████████████████████| 38/38 [00:00<00:00, 43.30it/s]"
     ]
    },
    {
     "name": "stdout",
     "output_type": "stream",
     "text": [
      "Pre-edit metrics: {'TP': array([450, 538, 520, 497, 452, 422, 436, 472, 456, 453]), 'TN': array([8250, 8296, 8225, 7702, 7784, 8342, 8397, 8265, 7467, 7968]), 'FPs': array([ 320,  119,  293,  838,  784,  316,  195,  257, 1109,  573]), 'FNs': array([480, 547, 462, 463, 480, 420, 472, 506, 468, 506]), 'accuracy': 0.4943157894736842, 'per_class_accuracy': array([0.91578947, 0.92989474, 0.92052632, 0.86305263, 0.86694737,\n",
      "       0.92252632, 0.92978947, 0.91968421, 0.834     , 0.88642105]), 'per_class_accuracy_mean': 0.8988631578947368, 'precision': array([0.58441558, 0.81887367, 0.6396064 , 0.37228464, 0.36569579,\n",
      "       0.57181572, 0.69096672, 0.64746228, 0.2913738 , 0.44152047]), 'precision_mean': 0.5424015070238444, 'recall': array([0.48387097, 0.49585253, 0.52953157, 0.51770833, 0.48497854,\n",
      "       0.50118765, 0.48017621, 0.48261759, 0.49350649, 0.47236705]), 'recall_mean': 0.4941796933975864, 'predicted_class_distribution': array([ 770,  657,  813, 1335, 1236,  738,  631,  729, 1565, 1026]), 'f1': array([0.52941176, 0.61768083, 0.57938719, 0.43311547, 0.41697417,\n",
      "       0.53417722, 0.56660169, 0.55301699, 0.36641221, 0.45642317]), 'f1_mean': 0.5053200697134669}\n",
      "Saved pre-edit metrics saved/edit_2_Spurious_MNIST/method_eac/LeNet-patches/0324_170216/layernum_1/results/edit_idx_2/models/pre_edit_metrics.pth\n",
      "Saved pre-edit logits to saved/edit_2_Spurious_MNIST/method_eac/LeNet-patches/0324_170216/layernum_1/results/edit_idx_2/models/pre_edit_logits.pth\n",
      "Created <class 'trainer.editor.EditorEAC'> editor.\n",
      "Using passed in covariance data loader.\n",
      "Looking for covariance matrix weights in cache/2_Spurious_MNIST_hold_out/lenet-1\n"
     ]
    },
    {
     "name": "stderr",
     "output_type": "stream",
     "text": [
      "\n"
     ]
    },
    {
     "name": "stdout",
     "output_type": "stream",
     "text": [
      "Found precomputed cov matrices, returning...\n",
      "n_edit: 2\n",
      "Forwarded edit data thru model\n",
      "Kstar[0] type: <class 'torch.Tensor'> shape: torch.Size([10, 14, 14])\n",
      "vstar type: <class 'torch.Tensor'> shape: torch.Size([2, 20, 5, 5])\n",
      "mstar type: <class 'torch.Tensor'> shape: torch.Size([2, 1, 32, 32])\n",
      "key shape: torch.Size([2, 10, 14, 14]) val shape: torch.Size([2, 20, 5, 5])\n"
     ]
    },
    {
     "name": "stderr",
     "output_type": "stream",
     "text": [
      "tensor(14.9387, device='cuda:0', grad_fn=<DivBackward0>): 100%|█| 30000/30000 [00:39<00:00, 762."
     ]
    },
    {
     "name": "stdout",
     "output_type": "stream",
     "text": [
      "Loss (orig, final): 1.0019233226776123 14.93868637084961\n",
      "L2 norm of weight change: 1833.883056640625\n",
      "Performing post-edit metric calculations on validation set.\n"
     ]
    },
    {
     "name": "stderr",
     "output_type": "stream",
     "text": [
      "\n",
      "100%|███████████████████████████████████████████████████████████| 38/38 [00:00<00:00, 39.78it/s]"
     ]
    },
    {
     "name": "stdout",
     "output_type": "stream",
     "text": [
      "Post-edit metrics: {'TP': array([  73, 1067,  114,  217,  289,    1,    5,    0,    0,    0]), 'TN': array([7629, 5089, 8123, 8025, 6350, 8621, 8486, 8418, 8489, 8536]), 'FPs': array([ 941, 3326,  395,  515, 2218,   37,  106,  104,   87,    5]), 'FNs': array([857,  18, 868, 743, 643, 841, 903, 978, 924, 959]), 'accuracy': 0.18589473684210525, 'per_class_accuracy': array([0.81073684, 0.648     , 0.86705263, 0.86757895, 0.69884211,\n",
      "       0.90757895, 0.89378947, 0.88610526, 0.89357895, 0.89852632]), 'per_class_accuracy_mean': 0.8371789473684211, 'precision': array([0.07199211, 0.24288641, 0.22396857, 0.29644809, 0.11527722,\n",
      "       0.02631579, 0.04504505, 0.        , 0.        , 0.        ]), 'precision_mean': 0.10219332321908729, 'recall': array([0.07849462, 0.98341014, 0.11608961, 0.22604167, 0.31008584,\n",
      "       0.00118765, 0.00550661, 0.        , 0.        , 0.        ]), 'recall_mean': 0.17208161349014955, 'predicted_class_distribution': array([1014, 4393,  509,  732, 2507,   38,  111,  104,   87,    5]), 'f1': array([0.07510288, 0.38955823, 0.15291751, 0.25650118, 0.16807211,\n",
      "       0.00227273, 0.00981354, 0.        , 0.        , 0.        ]), 'f1_mean': 0.10542381846017031}\n",
      "Saved post-edit metrics saved/edit_2_Spurious_MNIST/method_eac/LeNet-patches/0324_170216/layernum_1/results/edit_idx_2/models/post_edit_metrics.pth\n",
      "Saved post-edit logits to saved/edit_2_Spurious_MNIST/method_eac/LeNet-patches/0324_170216/layernum_1/results/edit_idx_2/models/post_edit_logits.pth\n",
      "All metrics and KNN results can be found in saved/edit_2_Spurious_MNIST/method_eac/LeNet-patches/0324_170216/layernum_1/results/edit_idx_2/models\n",
      "(0324_171621) Starting Trial 4/16...\n"
     ]
    },
    {
     "name": "stderr",
     "output_type": "stream",
     "text": [
      "\n",
      "/n/fs/ac-editing/model-editing/src/model/metric.py:205: RuntimeWarning: invalid value encountered in divide\n",
      "  return np.nan_to_num(2 * precisions * recalls / (precisions + recalls))\n"
     ]
    },
    {
     "name": "stdout",
     "output_type": "stream",
     "text": [
      "saved/edit_2_Spurious_MNIST/method_eac/LeNet-patches/0324_170216/layernum_1/results/edit_idx_3\n",
      "torch.Size([2, 1, 32, 32])\n",
      "3 2\n",
      "Clipping input data to the valid range for imshow with RGB data ([0..1] for floats or [0..255] for integers).\n",
      "Clipping input data to the valid range for imshow with RGB data ([0..1] for floats or [0..255] for integers).\n",
      "Clipping input data to the valid range for imshow with RGB data ([0..1] for floats or [0..255] for integers).\n",
      "Clipping input data to the valid range for imshow with RGB data ([0..1] for floats or [0..255] for integers).\n"
     ]
    },
    {
     "data": {
      "image/png": "[encoded data removed]",
      "text/plain": [
       "<Figure size 500x750 with 6 Axes>"
      ]
     },
     "metadata": {},
     "output_type": "display_data"
    },
    {
     "name": "stdout",
     "output_type": "stream",
     "text": [
      "Seed: 0\n",
      "Editing layer 1\n",
      "Created ModelWrapperSanturkar model with 31340 trainable parameters\n",
      "Restored weights from saved/train/2_Spurious_MNIST-LeNet/0323_100223/models/model_best.pth\n",
      "Using passed in data loader for validation.\n",
      "Performing pre-edit metric calculations on validation set.\n"
     ]
    },
    {
     "name": "stderr",
     "output_type": "stream",
     "text": [
      "100%|███████████████████████████████████████████████████████████| 38/38 [00:00<00:00, 42.32it/s]\n"
     ]
    },
    {
     "name": "stdout",
     "output_type": "stream",
     "text": [
      "Pre-edit metrics: {'TP': array([450, 538, 520, 497, 452, 422, 436, 472, 456, 453]), 'TN': array([8250, 8296, 8225, 7702, 7784, 8342, 8397, 8265, 7467, 7968]), 'FPs': array([ 320,  119,  293,  838,  784,  316,  195,  257, 1109,  573]), 'FNs': array([480, 547, 462, 463, 480, 420, 472, 506, 468, 506]), 'accuracy': 0.4943157894736842, 'per_class_accuracy': array([0.91578947, 0.92989474, 0.92052632, 0.86305263, 0.86694737,\n",
      "       0.92252632, 0.92978947, 0.91968421, 0.834     , 0.88642105]), 'per_class_accuracy_mean': 0.8988631578947368, 'precision': array([0.58441558, 0.81887367, 0.6396064 , 0.37228464, 0.36569579,\n",
      "       0.57181572, 0.69096672, 0.64746228, 0.2913738 , 0.44152047]), 'precision_mean': 0.5424015070238444, 'recall': array([0.48387097, 0.49585253, 0.52953157, 0.51770833, 0.48497854,\n",
      "       0.50118765, 0.48017621, 0.48261759, 0.49350649, 0.47236705]), 'recall_mean': 0.4941796933975864, 'predicted_class_distribution': array([ 770,  657,  813, 1335, 1236,  738,  631,  729, 1565, 1026]), 'f1': array([0.52941176, 0.61768083, 0.57938719, 0.43311547, 0.41697417,\n",
      "       0.53417722, 0.56660169, 0.55301699, 0.36641221, 0.45642317]), 'f1_mean': 0.5053200697134669}\n",
      "Saved pre-edit metrics saved/edit_2_Spurious_MNIST/method_eac/LeNet-patches/0324_170216/layernum_1/results/edit_idx_3/models/pre_edit_metrics.pth\n",
      "Saved pre-edit logits to saved/edit_2_Spurious_MNIST/method_eac/LeNet-patches/0324_170216/layernum_1/results/edit_idx_3/models/pre_edit_logits.pth\n",
      "Created <class 'trainer.editor.EditorEAC'> editor.\n",
      "Using passed in covariance data loader.\n",
      "Looking for covariance matrix weights in cache/2_Spurious_MNIST_hold_out/lenet-1\n",
      "Found precomputed cov matrices, returning...\n",
      "n_edit: 2\n",
      "Forwarded edit data thru model\n",
      "Kstar[0] type: <class 'torch.Tensor'> shape: torch.Size([10, 14, 14])\n",
      "vstar type: <class 'torch.Tensor'> shape: torch.Size([2, 20, 5, 5])\n",
      "mstar type: <class 'torch.Tensor'> shape: torch.Size([2, 1, 32, 32])\n",
      "key shape: torch.Size([2, 10, 14, 14]) val shape: torch.Size([2, 20, 5, 5])\n"
     ]
    },
    {
     "name": "stderr",
     "output_type": "stream",
     "text": [
      "tensor(2.3110, device='cuda:0', grad_fn=<DivBackward0>): 100%|█| 30000/30000 [00:39<00:00, 768.8"
     ]
    },
    {
     "name": "stdout",
     "output_type": "stream",
     "text": [
      "Loss (orig, final): 0.79411381483078 2.311023235321045\n",
      "L2 norm of weight change: 814.9749145507812\n",
      "Performing post-edit metric calculations on validation set.\n"
     ]
    },
    {
     "name": "stderr",
     "output_type": "stream",
     "text": [
      "\n",
      "100%|███████████████████████████████████████████████████████████| 38/38 [00:00<00:00, 38.90it/s]"
     ]
    },
    {
     "name": "stdout",
     "output_type": "stream",
     "text": [
      "Post-edit metrics: {'TP': array([378,  62,  40,  15, 483,  11,   5, 119, 122,   8]), 'TN': array([6962, 8268, 7917, 8431, 4431, 8528, 8562, 8169, 7565, 8410]), 'FPs': array([1608,  147,  601,  109, 4137,  130,   30,  353, 1011,  131]), 'FNs': array([ 552, 1023,  942,  945,  449,  831,  903,  859,  802,  951]), 'accuracy': 0.1308421052631579, 'per_class_accuracy': array([0.77263158, 0.87684211, 0.83757895, 0.88905263, 0.51726316,\n",
      "       0.89884211, 0.90178947, 0.87242105, 0.80915789, 0.88610526]), 'per_class_accuracy_mean': 0.8261684210526316, 'precision': array([0.19033233, 0.29665072, 0.0624025 , 0.12096774, 0.10454545,\n",
      "       0.07801418, 0.14285714, 0.25211864, 0.10767873, 0.05755396]), 'precision_mean': 0.14131213937627068, 'recall': array([0.40645161, 0.05714286, 0.0407332 , 0.015625  , 0.51824034,\n",
      "       0.01306413, 0.00550661, 0.12167689, 0.13203463, 0.00834202]), 'recall_mean': 0.131881729848661, 'predicted_class_distribution': array([1986,  209,  641,  124, 4620,  141,   35,  472, 1133,  139]), 'f1': array([0.25925926, 0.09582689, 0.04929144, 0.02767528, 0.17399135,\n",
      "       0.02238047, 0.01060445, 0.16413793, 0.11861935, 0.01457195]), 'f1_mean': 0.09363583698702876}\n",
      "Saved post-edit metrics saved/edit_2_Spurious_MNIST/method_eac/LeNet-patches/0324_170216/layernum_1/results/edit_idx_3/models/post_edit_metrics.pth\n",
      "Saved post-edit logits to saved/edit_2_Spurious_MNIST/method_eac/LeNet-patches/0324_170216/layernum_1/results/edit_idx_3/models/post_edit_logits.pth\n",
      "All metrics and KNN results can be found in saved/edit_2_Spurious_MNIST/method_eac/LeNet-patches/0324_170216/layernum_1/results/edit_idx_3/models\n",
      "(0324_171702) Starting Trial 5/16...\n"
     ]
    },
    {
     "name": "stderr",
     "output_type": "stream",
     "text": [
      "\n"
     ]
    },
    {
     "name": "stdout",
     "output_type": "stream",
     "text": [
      "saved/edit_2_Spurious_MNIST/method_eac/LeNet-patches/0324_170216/layernum_1/results/edit_idx_4\n",
      "torch.Size([2, 1, 32, 32])\n",
      "3 2\n",
      "Clipping input data to the valid range for imshow with RGB data ([0..1] for floats or [0..255] for integers).\n",
      "Clipping input data to the valid range for imshow with RGB data ([0..1] for floats or [0..255] for integers).\n",
      "Clipping input data to the valid range for imshow with RGB data ([0..1] for floats or [0..255] for integers).\n",
      "Clipping input data to the valid range for imshow with RGB data ([0..1] for floats or [0..255] for integers).\n"
     ]
    },
    {
     "data": {
      "image/png": "[encoded data removed]",
      "text/plain": [
       "<Figure size 500x750 with 6 Axes>"
      ]
     },
     "metadata": {},
     "output_type": "display_data"
    },
    {
     "name": "stdout",
     "output_type": "stream",
     "text": [
      "Seed: 0\n",
      "Editing layer 1\n",
      "Created ModelWrapperSanturkar model with 31340 trainable parameters\n",
      "Restored weights from saved/train/2_Spurious_MNIST-LeNet/0323_100223/models/model_best.pth\n",
      "Using passed in data loader for validation.\n",
      "Performing pre-edit metric calculations on validation set.\n"
     ]
    },
    {
     "name": "stderr",
     "output_type": "stream",
     "text": [
      "100%|███████████████████████████████████████████████████████████| 38/38 [00:00<00:00, 39.00it/s]"
     ]
    },
    {
     "name": "stdout",
     "output_type": "stream",
     "text": [
      "Pre-edit metrics: {'TP': array([450, 538, 520, 497, 452, 422, 436, 472, 456, 453]), 'TN': array([8250, 8296, 8225, 7702, 7784, 8342, 8397, 8265, 7467, 7968]), 'FPs': array([ 320,  119,  293,  838,  784,  316,  195,  257, 1109,  573]), 'FNs': array([480, 547, 462, 463, 480, 420, 472, 506, 468, 506]), 'accuracy': 0.4943157894736842, 'per_class_accuracy': array([0.91578947, 0.92989474, 0.92052632, 0.86305263, 0.86694737,\n",
      "       0.92252632, 0.92978947, 0.91968421, 0.834     , 0.88642105]), 'per_class_accuracy_mean': 0.8988631578947368, 'precision': array([0.58441558, 0.81887367, 0.6396064 , 0.37228464, 0.36569579,\n",
      "       0.57181572, 0.69096672, 0.64746228, 0.2913738 , 0.44152047]), 'precision_mean': 0.5424015070238444, 'recall': array([0.48387097, 0.49585253, 0.52953157, 0.51770833, 0.48497854,\n",
      "       0.50118765, 0.48017621, 0.48261759, 0.49350649, 0.47236705]), 'recall_mean': 0.4941796933975864, 'predicted_class_distribution': array([ 770,  657,  813, 1335, 1236,  738,  631,  729, 1565, 1026]), 'f1': array([0.52941176, 0.61768083, 0.57938719, 0.43311547, 0.41697417,\n",
      "       0.53417722, 0.56660169, 0.55301699, 0.36641221, 0.45642317]), 'f1_mean': 0.5053200697134669}\n",
      "Saved pre-edit metrics saved/edit_2_Spurious_MNIST/method_eac/LeNet-patches/0324_170216/layernum_1/results/edit_idx_4/models/pre_edit_metrics.pth\n",
      "Saved pre-edit logits to saved/edit_2_Spurious_MNIST/method_eac/LeNet-patches/0324_170216/layernum_1/results/edit_idx_4/models/pre_edit_logits.pth\n",
      "Created <class 'trainer.editor.EditorEAC'> editor.\n",
      "Using passed in covariance data loader.\n",
      "Looking for covariance matrix weights in cache/2_Spurious_MNIST_hold_out/lenet-1\n"
     ]
    },
    {
     "name": "stderr",
     "output_type": "stream",
     "text": [
      "\n"
     ]
    },
    {
     "name": "stdout",
     "output_type": "stream",
     "text": [
      "Found precomputed cov matrices, returning...\n",
      "n_edit: 2\n",
      "Forwarded edit data thru model\n",
      "Kstar[0] type: <class 'torch.Tensor'> shape: torch.Size([10, 14, 14])\n",
      "vstar type: <class 'torch.Tensor'> shape: torch.Size([2, 20, 5, 5])\n",
      "mstar type: <class 'torch.Tensor'> shape: torch.Size([2, 1, 32, 32])\n",
      "key shape: torch.Size([2, 10, 14, 14]) val shape: torch.Size([2, 20, 5, 5])\n"
     ]
    },
    {
     "name": "stderr",
     "output_type": "stream",
     "text": [
      "tensor(1.1273, device='cuda:0', grad_fn=<DivBackward0>): 100%|█| 30000/30000 [00:39<00:00, 761.8"
     ]
    },
    {
     "name": "stdout",
     "output_type": "stream",
     "text": [
      "Loss (orig, final): 1.3404861688613892 1.12726628780365\n",
      "L2 norm of weight change: 6.831904411315918\n",
      "Performing post-edit metric calculations on validation set.\n"
     ]
    },
    {
     "name": "stderr",
     "output_type": "stream",
     "text": [
      "\n",
      "100%|███████████████████████████████████████████████████████████| 38/38 [00:00<00:00, 41.12it/s]"
     ]
    },
    {
     "name": "stdout",
     "output_type": "stream",
     "text": [
      "Post-edit metrics: {'TP': array([450, 538, 521, 496, 454, 420, 421, 473, 455, 457]), 'TN': array([8292, 8327, 8223, 7679, 7738, 8266, 8508, 8245, 7455, 7952]), 'FPs': array([ 278,   88,  295,  861,  830,  392,   84,  277, 1121,  589]), 'FNs': array([480, 547, 461, 464, 478, 422, 487, 505, 469, 502]), 'accuracy': 0.49315789473684213, 'per_class_accuracy': array([0.92021053, 0.93315789, 0.92042105, 0.86052632, 0.86231579,\n",
      "       0.91431579, 0.93989474, 0.91768421, 0.83263158, 0.88515789]), 'per_class_accuracy_mean': 0.8986315789473686, 'precision': array([0.61813187, 0.85942492, 0.63848039, 0.36551216, 0.35358255,\n",
      "       0.51724138, 0.83366337, 0.63066667, 0.28870558, 0.43690249]), 'precision_mean': 0.5542311375837955, 'recall': array([0.48387097, 0.49585253, 0.5305499 , 0.51666667, 0.48712446,\n",
      "       0.49881235, 0.46365639, 0.48364008, 0.49242424, 0.47653806]), 'recall_mean': 0.4929135654569775, 'predicted_class_distribution': array([ 728,  626,  816, 1357, 1284,  812,  505,  750, 1576, 1046]), 'f1': array([0.54282268, 0.628872  , 0.57953281, 0.42813984, 0.40974729,\n",
      "       0.50785973, 0.59589526, 0.5474537 , 0.364     , 0.45586035]), 'f1_mean': 0.5060183670377236}\n",
      "Saved post-edit metrics saved/edit_2_Spurious_MNIST/method_eac/LeNet-patches/0324_170216/layernum_1/results/edit_idx_4/models/post_edit_metrics.pth\n",
      "Saved post-edit logits to saved/edit_2_Spurious_MNIST/method_eac/LeNet-patches/0324_170216/layernum_1/results/edit_idx_4/models/post_edit_logits.pth\n",
      "All metrics and KNN results can be found in saved/edit_2_Spurious_MNIST/method_eac/LeNet-patches/0324_170216/layernum_1/results/edit_idx_4/models\n",
      "(0324_171744) Starting Trial 6/16...\n"
     ]
    },
    {
     "name": "stderr",
     "output_type": "stream",
     "text": [
      "\n"
     ]
    },
    {
     "name": "stdout",
     "output_type": "stream",
     "text": [
      "saved/edit_2_Spurious_MNIST/method_eac/LeNet-patches/0324_170216/layernum_1/results/edit_idx_5\n",
      "torch.Size([2, 1, 32, 32])\n",
      "3 2\n",
      "Clipping input data to the valid range for imshow with RGB data ([0..1] for floats or [0..255] for integers).\n",
      "Clipping input data to the valid range for imshow with RGB data ([0..1] for floats or [0..255] for integers).\n",
      "Clipping input data to the valid range for imshow with RGB data ([0..1] for floats or [0..255] for integers).\n",
      "Clipping input data to the valid range for imshow with RGB data ([0..1] for floats or [0..255] for integers).\n"
     ]
    },
    {
     "data": {
      "image/png": "[encoded data removed]",
      "text/plain": [
       "<Figure size 500x750 with 6 Axes>"
      ]
     },
     "metadata": {},
     "output_type": "display_data"
    },
    {
     "name": "stdout",
     "output_type": "stream",
     "text": [
      "Seed: 0\n",
      "Editing layer 1\n",
      "Created ModelWrapperSanturkar model with 31340 trainable parameters\n",
      "Restored weights from saved/train/2_Spurious_MNIST-LeNet/0323_100223/models/model_best.pth\n",
      "Using passed in data loader for validation.\n",
      "Performing pre-edit metric calculations on validation set.\n"
     ]
    },
    {
     "name": "stderr",
     "output_type": "stream",
     "text": [
      "100%|███████████████████████████████████████████████████████████| 38/38 [00:01<00:00, 22.29it/s]"
     ]
    },
    {
     "name": "stdout",
     "output_type": "stream",
     "text": [
      "Pre-edit metrics: {'TP': array([450, 538, 520, 497, 452, 422, 436, 472, 456, 453]), 'TN': array([8250, 8296, 8225, 7702, 7784, 8342, 8397, 8265, 7467, 7968]), 'FPs': array([ 320,  119,  293,  838,  784,  316,  195,  257, 1109,  573]), 'FNs': array([480, 547, 462, 463, 480, 420, 472, 506, 468, 506]), 'accuracy': 0.4943157894736842, 'per_class_accuracy': array([0.91578947, 0.92989474, 0.92052632, 0.86305263, 0.86694737,\n",
      "       0.92252632, 0.92978947, 0.91968421, 0.834     , 0.88642105]), 'per_class_accuracy_mean': 0.8988631578947368, 'precision': array([0.58441558, 0.81887367, 0.6396064 , 0.37228464, 0.36569579,\n",
      "       0.57181572, 0.69096672, 0.64746228, 0.2913738 , 0.44152047]), 'precision_mean': 0.5424015070238444, 'recall': array([0.48387097, 0.49585253, 0.52953157, 0.51770833, 0.48497854,\n",
      "       0.50118765, 0.48017621, 0.48261759, 0.49350649, 0.47236705]), 'recall_mean': 0.4941796933975864, 'predicted_class_distribution': array([ 770,  657,  813, 1335, 1236,  738,  631,  729, 1565, 1026]), 'f1': array([0.52941176, 0.61768083, 0.57938719, 0.43311547, 0.41697417,\n",
      "       0.53417722, 0.56660169, 0.55301699, 0.36641221, 0.45642317]), 'f1_mean': 0.5053200697134669}\n",
      "Saved pre-edit metrics saved/edit_2_Spurious_MNIST/method_eac/LeNet-patches/0324_170216/layernum_1/results/edit_idx_5/models/pre_edit_metrics.pth\n",
      "Saved pre-edit logits to saved/edit_2_Spurious_MNIST/method_eac/LeNet-patches/0324_170216/layernum_1/results/edit_idx_5/models/pre_edit_logits.pth\n",
      "Created <class 'trainer.editor.EditorEAC'> editor.\n",
      "Using passed in covariance data loader.\n",
      "Looking for covariance matrix weights in cache/2_Spurious_MNIST_hold_out/lenet-1\n"
     ]
    },
    {
     "name": "stderr",
     "output_type": "stream",
     "text": [
      "\n"
     ]
    },
    {
     "name": "stdout",
     "output_type": "stream",
     "text": [
      "Found precomputed cov matrices, returning...\n",
      "n_edit: 2\n",
      "Forwarded edit data thru model\n",
      "Kstar[0] type: <class 'torch.Tensor'> shape: torch.Size([10, 14, 14])\n",
      "vstar type: <class 'torch.Tensor'> shape: torch.Size([2, 20, 5, 5])\n",
      "mstar type: <class 'torch.Tensor'> shape: torch.Size([2, 1, 32, 32])\n",
      "key shape: torch.Size([2, 10, 14, 14]) val shape: torch.Size([2, 20, 5, 5])\n"
     ]
    },
    {
     "name": "stderr",
     "output_type": "stream",
     "text": [
      "tensor(1.3990, device='cuda:0', grad_fn=<DivBackward0>): 100%|█| 30000/30000 [00:39<00:00, 768.2\n"
     ]
    },
    {
     "name": "stdout",
     "output_type": "stream",
     "text": [
      "Loss (orig, final): 1.0980747938156128 1.3989628553390503\n",
      "L2 norm of weight change: 361.12774658203125\n",
      "Performing post-edit metric calculations on validation set.\n"
     ]
    },
    {
     "name": "stderr",
     "output_type": "stream",
     "text": [
      "100%|███████████████████████████████████████████████████████████| 38/38 [00:00<00:00, 41.27it/s]"
     ]
    },
    {
     "name": "stdout",
     "output_type": "stream",
     "text": [
      "Post-edit metrics: {'TP': array([ 37,   5, 887, 298, 307,   6,   0,  13,   0,   0]), 'TN': array([8469, 8414, 4073, 6715, 7004, 8651, 8592, 8518, 8576, 8541]), 'FPs': array([ 101,    1, 4445, 1825, 1564,    7,    0,    4,    0,    0]), 'FNs': array([ 893, 1080,   95,  662,  625,  836,  908,  965,  924,  959]), 'accuracy': 0.16347368421052633, 'per_class_accuracy': array([0.89536842, 0.88621053, 0.52210526, 0.73821053, 0.76957895,\n",
      "       0.91126316, 0.90442105, 0.898     , 0.90273684, 0.89905263]), 'per_class_accuracy_mean': 0.8326947368421053, 'precision': array([0.26811594, 0.83333333, 0.16635409, 0.1403674 , 0.16408338,\n",
      "       0.46153846, 0.        , 0.76470588, 0.        , 0.        ]), 'precision_mean': 0.27984984902647564, 'recall': array([0.03978495, 0.00460829, 0.90325866, 0.31041667, 0.32939914,\n",
      "       0.00712589, 0.        , 0.01329243, 0.        , 0.        ]), 'recall_mean': 0.16078860295436578, 'predicted_class_distribution': array([ 138,    6, 5332, 2123, 1871,   13,    0,   17,    0,    0]), 'f1': array([0.06928839, 0.0091659 , 0.28096294, 0.1933182 , 0.21905102,\n",
      "       0.01403509, 0.        , 0.02613065, 0.        , 0.        ]), 'f1_mean': 0.08119521861692325}\n",
      "Saved post-edit metrics saved/edit_2_Spurious_MNIST/method_eac/LeNet-patches/0324_170216/layernum_1/results/edit_idx_5/models/post_edit_metrics.pth\n",
      "Saved post-edit logits to saved/edit_2_Spurious_MNIST/method_eac/LeNet-patches/0324_170216/layernum_1/results/edit_idx_5/models/post_edit_logits.pth\n",
      "All metrics and KNN results can be found in saved/edit_2_Spurious_MNIST/method_eac/LeNet-patches/0324_170216/layernum_1/results/edit_idx_5/models\n",
      "(0324_171826) Starting Trial 7/16...\n"
     ]
    },
    {
     "name": "stderr",
     "output_type": "stream",
     "text": [
      "\n",
      "/n/fs/ac-editing/model-editing/src/model/metric.py:168: RuntimeWarning: invalid value encountered in divide\n",
      "  return np.nan_to_num(TPs / (TPs + FPs))\n",
      "/n/fs/ac-editing/model-editing/src/model/metric.py:205: RuntimeWarning: invalid value encountered in divide\n",
      "  return np.nan_to_num(2 * precisions * recalls / (precisions + recalls))\n"
     ]
    },
    {
     "name": "stdout",
     "output_type": "stream",
     "text": [
      "saved/edit_2_Spurious_MNIST/method_eac/LeNet-patches/0324_170216/layernum_1/results/edit_idx_6\n",
      "torch.Size([2, 1, 32, 32])\n",
      "3 2\n",
      "Clipping input data to the valid range for imshow with RGB data ([0..1] for floats or [0..255] for integers).\n",
      "Clipping input data to the valid range for imshow with RGB data ([0..1] for floats or [0..255] for integers).\n",
      "Clipping input data to the valid range for imshow with RGB data ([0..1] for floats or [0..255] for integers).\n",
      "Clipping input data to the valid range for imshow with RGB data ([0..1] for floats or [0..255] for integers).\n"
     ]
    },
    {
     "data": {
      "image/png": "[encoded data removed]",
      "text/plain": [
       "<Figure size 500x750 with 6 Axes>"
      ]
     },
     "metadata": {},
     "output_type": "display_data"
    },
    {
     "name": "stdout",
     "output_type": "stream",
     "text": [
      "Seed: 0\n",
      "Editing layer 1\n",
      "Created ModelWrapperSanturkar model with 31340 trainable parameters\n",
      "Restored weights from saved/train/2_Spurious_MNIST-LeNet/0323_100223/models/model_best.pth\n",
      "Using passed in data loader for validation.\n",
      "Performing pre-edit metric calculations on validation set.\n"
     ]
    },
    {
     "name": "stderr",
     "output_type": "stream",
     "text": [
      "100%|███████████████████████████████████████████████████████████| 38/38 [00:00<00:00, 39.84it/s]"
     ]
    },
    {
     "name": "stdout",
     "output_type": "stream",
     "text": [
      "Pre-edit metrics: {'TP': array([450, 538, 520, 497, 452, 422, 436, 472, 456, 453]), 'TN': array([8250, 8296, 8225, 7702, 7784, 8342, 8397, 8265, 7467, 7968]), 'FPs': array([ 320,  119,  293,  838,  784,  316,  195,  257, 1109,  573]), 'FNs': array([480, 547, 462, 463, 480, 420, 472, 506, 468, 506]), 'accuracy': 0.4943157894736842, 'per_class_accuracy': array([0.91578947, 0.92989474, 0.92052632, 0.86305263, 0.86694737,\n",
      "       0.92252632, 0.92978947, 0.91968421, 0.834     , 0.88642105]), 'per_class_accuracy_mean': 0.8988631578947368, 'precision': array([0.58441558, 0.81887367, 0.6396064 , 0.37228464, 0.36569579,\n",
      "       0.57181572, 0.69096672, 0.64746228, 0.2913738 , 0.44152047]), 'precision_mean': 0.5424015070238444, 'recall': array([0.48387097, 0.49585253, 0.52953157, 0.51770833, 0.48497854,\n",
      "       0.50118765, 0.48017621, 0.48261759, 0.49350649, 0.47236705]), 'recall_mean': 0.4941796933975864, 'predicted_class_distribution': array([ 770,  657,  813, 1335, 1236,  738,  631,  729, 1565, 1026]), 'f1': array([0.52941176, 0.61768083, 0.57938719, 0.43311547, 0.41697417,\n",
      "       0.53417722, 0.56660169, 0.55301699, 0.36641221, 0.45642317]), 'f1_mean': 0.5053200697134669}\n",
      "Saved pre-edit metrics saved/edit_2_Spurious_MNIST/method_eac/LeNet-patches/0324_170216/layernum_1/results/edit_idx_6/models/pre_edit_metrics.pth\n",
      "Saved pre-edit logits to saved/edit_2_Spurious_MNIST/method_eac/LeNet-patches/0324_170216/layernum_1/results/edit_idx_6/models/pre_edit_logits.pth\n",
      "Created <class 'trainer.editor.EditorEAC'> editor.\n",
      "Using passed in covariance data loader.\n",
      "Looking for covariance matrix weights in cache/2_Spurious_MNIST_hold_out/lenet-1\n"
     ]
    },
    {
     "name": "stderr",
     "output_type": "stream",
     "text": [
      "\n"
     ]
    },
    {
     "name": "stdout",
     "output_type": "stream",
     "text": [
      "Found precomputed cov matrices, returning...\n",
      "n_edit: 2\n",
      "Forwarded edit data thru model\n",
      "Kstar[0] type: <class 'torch.Tensor'> shape: torch.Size([10, 14, 14])\n",
      "vstar type: <class 'torch.Tensor'> shape: torch.Size([2, 20, 5, 5])\n",
      "mstar type: <class 'torch.Tensor'> shape: torch.Size([2, 1, 32, 32])\n",
      "key shape: torch.Size([2, 10, 14, 14]) val shape: torch.Size([2, 20, 5, 5])\n"
     ]
    },
    {
     "name": "stderr",
     "output_type": "stream",
     "text": [
      "tensor(2.8958, device='cuda:0', grad_fn=<DivBackward0>): 100%|█| 30000/30000 [00:39<00:00, 758.2\n"
     ]
    },
    {
     "name": "stdout",
     "output_type": "stream",
     "text": [
      "Loss (orig, final): 1.0704399347305298 2.8958418369293213\n",
      "L2 norm of weight change: 645.2919311523438\n",
      "Performing post-edit metric calculations on validation set.\n"
     ]
    },
    {
     "name": "stderr",
     "output_type": "stream",
     "text": [
      "100%|███████████████████████████████████████████████████████████| 38/38 [00:00<00:00, 41.47it/s]"
     ]
    },
    {
     "name": "stdout",
     "output_type": "stream",
     "text": [
      "Post-edit metrics: {'TP': array([ 63,  97, 217, 201, 281,  30,   0,   0,   0,  12]), 'TN': array([8051, 8360, 4941, 7063, 6039, 8255, 8592, 8489, 8576, 8535]), 'FPs': array([ 519,   55, 3577, 1477, 2529,  403,    0,   33,    0,    6]), 'FNs': array([867, 988, 765, 759, 651, 812, 908, 978, 924, 947]), 'accuracy': 0.0948421052631579, 'per_class_accuracy': array([0.85410526, 0.89021053, 0.54294737, 0.76463158, 0.66526316,\n",
      "       0.87210526, 0.90442105, 0.89357895, 0.90273684, 0.89968421]), 'per_class_accuracy_mean': 0.8189684210526315, 'precision': array([0.10824742, 0.63815789, 0.05719557, 0.11978546, 0.1       ,\n",
      "       0.06928406, 0.        , 0.        , 0.        , 0.66666667]), 'precision_mean': 0.1759337079584386, 'recall': array([0.06774194, 0.08940092, 0.2209776 , 0.209375  , 0.30150215,\n",
      "       0.03562945, 0.        , 0.        , 0.        , 0.01251303]), 'recall_mean': 0.09371400878995029, 'predicted_class_distribution': array([ 582,  152, 3794, 1678, 2810,  433,    0,   33,    0,   18]), 'f1': array([0.08333333, 0.15683104, 0.09087102, 0.15238817, 0.15018707,\n",
      "       0.04705882, 0.        , 0.        , 0.        , 0.02456499]), 'f1_mean': 0.0705234454964648}\n",
      "Saved post-edit metrics saved/edit_2_Spurious_MNIST/method_eac/LeNet-patches/0324_170216/layernum_1/results/edit_idx_6/models/post_edit_metrics.pth\n",
      "Saved post-edit logits to saved/edit_2_Spurious_MNIST/method_eac/LeNet-patches/0324_170216/layernum_1/results/edit_idx_6/models/post_edit_logits.pth\n"
     ]
    },
    {
     "name": "stderr",
     "output_type": "stream",
     "text": [
      "\n",
      "/n/fs/ac-editing/model-editing/src/model/metric.py:168: RuntimeWarning: invalid value encountered in divide\n",
      "  return np.nan_to_num(TPs / (TPs + FPs))\n",
      "/n/fs/ac-editing/model-editing/src/model/metric.py:205: RuntimeWarning: invalid value encountered in divide\n",
      "  return np.nan_to_num(2 * precisions * recalls / (precisions + recalls))\n"
     ]
    },
    {
     "name": "stdout",
     "output_type": "stream",
     "text": [
      "All metrics and KNN results can be found in saved/edit_2_Spurious_MNIST/method_eac/LeNet-patches/0324_170216/layernum_1/results/edit_idx_6/models\n",
      "(0324_171908) Starting Trial 8/16...\n",
      "saved/edit_2_Spurious_MNIST/method_eac/LeNet-patches/0324_170216/layernum_1/results/edit_idx_7\n",
      "torch.Size([2, 1, 32, 32])\n",
      "3 2\n",
      "Clipping input data to the valid range for imshow with RGB data ([0..1] for floats or [0..255] for integers).\n",
      "Clipping input data to the valid range for imshow with RGB data ([0..1] for floats or [0..255] for integers).\n",
      "Clipping input data to the valid range for imshow with RGB data ([0..1] for floats or [0..255] for integers).\n",
      "Clipping input data to the valid range for imshow with RGB data ([0..1] for floats or [0..255] for integers).\n"
     ]
    },
    {
     "data": {
      "image/png": "[encoded data removed]",
      "text/plain": [
       "<Figure size 500x750 with 6 Axes>"
      ]
     },
     "metadata": {},
     "output_type": "display_data"
    },
    {
     "name": "stdout",
     "output_type": "stream",
     "text": [
      "Seed: 0\n",
      "Editing layer 1\n",
      "Created ModelWrapperSanturkar model with 31340 trainable parameters\n",
      "Restored weights from saved/train/2_Spurious_MNIST-LeNet/0323_100223/models/model_best.pth\n",
      "Using passed in data loader for validation.\n",
      "Performing pre-edit metric calculations on validation set.\n"
     ]
    },
    {
     "name": "stderr",
     "output_type": "stream",
     "text": [
      "100%|███████████████████████████████████████████████████████████| 38/38 [00:00<00:00, 39.74it/s]"
     ]
    },
    {
     "name": "stdout",
     "output_type": "stream",
     "text": [
      "Pre-edit metrics: {'TP': array([450, 538, 520, 497, 452, 422, 436, 472, 456, 453]), 'TN': array([8250, 8296, 8225, 7702, 7784, 8342, 8397, 8265, 7467, 7968]), 'FPs': array([ 320,  119,  293,  838,  784,  316,  195,  257, 1109,  573]), 'FNs': array([480, 547, 462, 463, 480, 420, 472, 506, 468, 506]), 'accuracy': 0.4943157894736842, 'per_class_accuracy': array([0.91578947, 0.92989474, 0.92052632, 0.86305263, 0.86694737,\n",
      "       0.92252632, 0.92978947, 0.91968421, 0.834     , 0.88642105]), 'per_class_accuracy_mean': 0.8988631578947368, 'precision': array([0.58441558, 0.81887367, 0.6396064 , 0.37228464, 0.36569579,\n",
      "       0.57181572, 0.69096672, 0.64746228, 0.2913738 , 0.44152047]), 'precision_mean': 0.5424015070238444, 'recall': array([0.48387097, 0.49585253, 0.52953157, 0.51770833, 0.48497854,\n",
      "       0.50118765, 0.48017621, 0.48261759, 0.49350649, 0.47236705]), 'recall_mean': 0.4941796933975864, 'predicted_class_distribution': array([ 770,  657,  813, 1335, 1236,  738,  631,  729, 1565, 1026]), 'f1': array([0.52941176, 0.61768083, 0.57938719, 0.43311547, 0.41697417,\n",
      "       0.53417722, 0.56660169, 0.55301699, 0.36641221, 0.45642317]), 'f1_mean': 0.5053200697134669}\n",
      "Saved pre-edit metrics saved/edit_2_Spurious_MNIST/method_eac/LeNet-patches/0324_170216/layernum_1/results/edit_idx_7/models/pre_edit_metrics.pth\n",
      "Saved pre-edit logits to saved/edit_2_Spurious_MNIST/method_eac/LeNet-patches/0324_170216/layernum_1/results/edit_idx_7/models/pre_edit_logits.pth\n",
      "Created <class 'trainer.editor.EditorEAC'> editor.\n",
      "Using passed in covariance data loader.\n",
      "Looking for covariance matrix weights in cache/2_Spurious_MNIST_hold_out/lenet-1\n"
     ]
    },
    {
     "name": "stderr",
     "output_type": "stream",
     "text": [
      "\n"
     ]
    },
    {
     "name": "stdout",
     "output_type": "stream",
     "text": [
      "Found precomputed cov matrices, returning...\n",
      "n_edit: 2\n",
      "Forwarded edit data thru model\n",
      "Kstar[0] type: <class 'torch.Tensor'> shape: torch.Size([10, 14, 14])\n",
      "vstar type: <class 'torch.Tensor'> shape: torch.Size([2, 20, 5, 5])\n",
      "mstar type: <class 'torch.Tensor'> shape: torch.Size([2, 1, 32, 32])\n",
      "key shape: torch.Size([2, 10, 14, 14]) val shape: torch.Size([2, 20, 5, 5])\n"
     ]
    },
    {
     "name": "stderr",
     "output_type": "stream",
     "text": [
      "tensor(0.6391, device='cuda:0', grad_fn=<DivBackward0>): 100%|█| 30000/30000 [00:40<00:00, 741.8\n"
     ]
    },
    {
     "name": "stdout",
     "output_type": "stream",
     "text": [
      "Loss (orig, final): 1.213748574256897 0.6390548348426819\n",
      "L2 norm of weight change: 134.9217071533203\n",
      "Performing post-edit metric calculations on validation set.\n"
     ]
    },
    {
     "name": "stderr",
     "output_type": "stream",
     "text": [
      "100%|███████████████████████████████████████████████████████████| 38/38 [00:00<00:00, 40.55it/s]"
     ]
    },
    {
     "name": "stdout",
     "output_type": "stream",
     "text": [
      "Post-edit metrics: {'TP': array([ 21, 175, 544, 255, 140,   4,   0,   0,   0,   0]), 'TN': array([8518, 8023, 4181, 6728, 6978, 8540, 8592, 8462, 8576, 8541]), 'FPs': array([  52,  392, 4337, 1812, 1590,  118,    0,   60,    0,    0]), 'FNs': array([909, 910, 438, 705, 792, 838, 908, 978, 924, 959]), 'accuracy': 0.11989473684210526, 'per_class_accuracy': array([0.89884211, 0.86294737, 0.49736842, 0.73505263, 0.74926316,\n",
      "       0.89936842, 0.90442105, 0.89073684, 0.90273684, 0.89905263]), 'per_class_accuracy_mean': 0.823978947368421, 'precision': array([0.28767123, 0.30864198, 0.11145257, 0.1233672 , 0.08092486,\n",
      "       0.03278689, 0.        , 0.        , 0.        , 0.        ]), 'precision_mean': 0.09448447189559098, 'recall': array([0.02258065, 0.16129032, 0.55397149, 0.265625  , 0.15021459,\n",
      "       0.00475059, 0.        , 0.        , 0.        , 0.        ]), 'recall_mean': 0.11584326406025525, 'predicted_class_distribution': array([  73,  567, 4881, 2067, 1730,  122,    0,   60,    0,    0]), 'f1': array([0.04187438, 0.21186441, 0.18557053, 0.16848365, 0.10518407,\n",
      "       0.00829876, 0.        , 0.        , 0.        , 0.        ]), 'f1_mean': 0.07212757851713586}\n",
      "Saved post-edit metrics saved/edit_2_Spurious_MNIST/method_eac/LeNet-patches/0324_170216/layernum_1/results/edit_idx_7/models/post_edit_metrics.pth\n",
      "Saved post-edit logits to saved/edit_2_Spurious_MNIST/method_eac/LeNet-patches/0324_170216/layernum_1/results/edit_idx_7/models/post_edit_logits.pth\n",
      "All metrics and KNN results can be found in saved/edit_2_Spurious_MNIST/method_eac/LeNet-patches/0324_170216/layernum_1/results/edit_idx_7/models\n",
      "(0324_171950) Starting Trial 9/16...\n"
     ]
    },
    {
     "name": "stderr",
     "output_type": "stream",
     "text": [
      "\n",
      "/n/fs/ac-editing/model-editing/src/model/metric.py:168: RuntimeWarning: invalid value encountered in divide\n",
      "  return np.nan_to_num(TPs / (TPs + FPs))\n",
      "/n/fs/ac-editing/model-editing/src/model/metric.py:205: RuntimeWarning: invalid value encountered in divide\n",
      "  return np.nan_to_num(2 * precisions * recalls / (precisions + recalls))\n"
     ]
    },
    {
     "name": "stdout",
     "output_type": "stream",
     "text": [
      "saved/edit_2_Spurious_MNIST/method_eac/LeNet-patches/0324_170216/layernum_1/results/edit_idx_8\n",
      "torch.Size([2, 1, 32, 32])\n",
      "3 2\n",
      "Clipping input data to the valid range for imshow with RGB data ([0..1] for floats or [0..255] for integers).\n",
      "Clipping input data to the valid range for imshow with RGB data ([0..1] for floats or [0..255] for integers).\n",
      "Clipping input data to the valid range for imshow with RGB data ([0..1] for floats or [0..255] for integers).\n",
      "Clipping input data to the valid range for imshow with RGB data ([0..1] for floats or [0..255] for integers).\n"
     ]
    },
    {
     "data": {
      "image/png": "[encoded data removed]",
      "text/plain": [
       "<Figure size 500x750 with 6 Axes>"
      ]
     },
     "metadata": {},
     "output_type": "display_data"
    },
    {
     "name": "stdout",
     "output_type": "stream",
     "text": [
      "Seed: 0\n",
      "Editing layer 1\n",
      "Created ModelWrapperSanturkar model with 31340 trainable parameters\n",
      "Restored weights from saved/train/2_Spurious_MNIST-LeNet/0323_100223/models/model_best.pth\n",
      "Using passed in data loader for validation.\n",
      "Performing pre-edit metric calculations on validation set.\n"
     ]
    },
    {
     "name": "stderr",
     "output_type": "stream",
     "text": [
      "100%|███████████████████████████████████████████████████████████| 38/38 [00:00<00:00, 39.68it/s]"
     ]
    },
    {
     "name": "stdout",
     "output_type": "stream",
     "text": [
      "Pre-edit metrics: {'TP': array([450, 538, 520, 497, 452, 422, 436, 472, 456, 453]), 'TN': array([8250, 8296, 8225, 7702, 7784, 8342, 8397, 8265, 7467, 7968]), 'FPs': array([ 320,  119,  293,  838,  784,  316,  195,  257, 1109,  573]), 'FNs': array([480, 547, 462, 463, 480, 420, 472, 506, 468, 506]), 'accuracy': 0.4943157894736842, 'per_class_accuracy': array([0.91578947, 0.92989474, 0.92052632, 0.86305263, 0.86694737,\n",
      "       0.92252632, 0.92978947, 0.91968421, 0.834     , 0.88642105]), 'per_class_accuracy_mean': 0.8988631578947368, 'precision': array([0.58441558, 0.81887367, 0.6396064 , 0.37228464, 0.36569579,\n",
      "       0.57181572, 0.69096672, 0.64746228, 0.2913738 , 0.44152047]), 'precision_mean': 0.5424015070238444, 'recall': array([0.48387097, 0.49585253, 0.52953157, 0.51770833, 0.48497854,\n",
      "       0.50118765, 0.48017621, 0.48261759, 0.49350649, 0.47236705]), 'recall_mean': 0.4941796933975864, 'predicted_class_distribution': array([ 770,  657,  813, 1335, 1236,  738,  631,  729, 1565, 1026]), 'f1': array([0.52941176, 0.61768083, 0.57938719, 0.43311547, 0.41697417,\n",
      "       0.53417722, 0.56660169, 0.55301699, 0.36641221, 0.45642317]), 'f1_mean': 0.5053200697134669}\n",
      "Saved pre-edit metrics saved/edit_2_Spurious_MNIST/method_eac/LeNet-patches/0324_170216/layernum_1/results/edit_idx_8/models/pre_edit_metrics.pth\n",
      "Saved pre-edit logits to saved/edit_2_Spurious_MNIST/method_eac/LeNet-patches/0324_170216/layernum_1/results/edit_idx_8/models/pre_edit_logits.pth\n",
      "Created <class 'trainer.editor.EditorEAC'> editor.\n",
      "Using passed in covariance data loader.\n",
      "Looking for covariance matrix weights in cache/2_Spurious_MNIST_hold_out/lenet-1\n"
     ]
    },
    {
     "name": "stderr",
     "output_type": "stream",
     "text": [
      "\n"
     ]
    },
    {
     "name": "stdout",
     "output_type": "stream",
     "text": [
      "Found precomputed cov matrices, returning...\n",
      "n_edit: 2\n",
      "Forwarded edit data thru model\n",
      "Kstar[0] type: <class 'torch.Tensor'> shape: torch.Size([10, 14, 14])\n",
      "vstar type: <class 'torch.Tensor'> shape: torch.Size([2, 20, 5, 5])\n",
      "mstar type: <class 'torch.Tensor'> shape: torch.Size([2, 1, 32, 32])\n",
      "key shape: torch.Size([2, 10, 14, 14]) val shape: torch.Size([2, 20, 5, 5])\n"
     ]
    },
    {
     "name": "stderr",
     "output_type": "stream",
     "text": [
      "tensor(0.9263, device='cuda:0', grad_fn=<DivBackward0>): 100%|█| 30000/30000 [00:39<00:00, 755.0"
     ]
    },
    {
     "name": "stdout",
     "output_type": "stream",
     "text": [
      "Loss (orig, final): 1.1861140727996826 0.9262608885765076\n",
      "L2 norm of weight change: 284.195068359375\n",
      "Performing post-edit metric calculations on validation set.\n"
     ]
    },
    {
     "name": "stderr",
     "output_type": "stream",
     "text": [
      "\n",
      "100%|███████████████████████████████████████████████████████████| 38/38 [00:00<00:00, 40.00it/s]"
     ]
    },
    {
     "name": "stdout",
     "output_type": "stream",
     "text": [
      "Post-edit metrics: {'TP': array([  3,   0, 342, 128, 185,   7,   3,  25,  35,   1]), 'TN': array([8028, 8414, 2855, 7225, 7584, 8650, 8592, 8351, 8503, 8527]), 'FPs': array([ 542,    1, 5663, 1315,  984,    8,    0,  171,   73,   14]), 'FNs': array([ 927, 1085,  640,  832,  747,  835,  905,  953,  889,  958]), 'accuracy': 0.07673684210526316, 'per_class_accuracy': array([0.84536842, 0.88568421, 0.33652632, 0.774     , 0.81778947,\n",
      "       0.91126316, 0.90473684, 0.88168421, 0.89873684, 0.89768421]), 'per_class_accuracy_mean': 0.8153473684210526, 'precision': array([0.00550459, 0.        , 0.05695254, 0.08870409, 0.15825492,\n",
      "       0.46666667, 1.        , 0.12755102, 0.32407407, 0.06666667]), 'precision_mean': 0.22943745619599584, 'recall': array([0.00322581, 0.        , 0.34826884, 0.13333333, 0.19849785,\n",
      "       0.00831354, 0.00330396, 0.02556237, 0.03787879, 0.00104275]), 'recall_mean': 0.07594272498506746, 'predicted_class_distribution': array([ 545,    1, 6005, 1443, 1169,   15,    3,  196,  108,   15]), 'f1': array([0.0040678 , 0.        , 0.09789609, 0.1065335 , 0.17610662,\n",
      "       0.01633606, 0.00658617, 0.04258944, 0.06782946, 0.00205339]), 'f1_mean': 0.051999851337140614}\n",
      "Saved post-edit metrics saved/edit_2_Spurious_MNIST/method_eac/LeNet-patches/0324_170216/layernum_1/results/edit_idx_8/models/post_edit_metrics.pth\n"
     ]
    },
    {
     "name": "stderr",
     "output_type": "stream",
     "text": [
      "\n",
      "/n/fs/ac-editing/model-editing/src/model/metric.py:205: RuntimeWarning: invalid value encountered in divide\n",
      "  return np.nan_to_num(2 * precisions * recalls / (precisions + recalls))\n"
     ]
    },
    {
     "name": "stdout",
     "output_type": "stream",
     "text": [
      "Saved post-edit logits to saved/edit_2_Spurious_MNIST/method_eac/LeNet-patches/0324_170216/layernum_1/results/edit_idx_8/models/post_edit_logits.pth\n",
      "All metrics and KNN results can be found in saved/edit_2_Spurious_MNIST/method_eac/LeNet-patches/0324_170216/layernum_1/results/edit_idx_8/models\n",
      "(0324_172032) Starting Trial 10/16...\n",
      "saved/edit_2_Spurious_MNIST/method_eac/LeNet-patches/0324_170216/layernum_1/results/edit_idx_9\n",
      "torch.Size([2, 1, 32, 32])\n",
      "3 2\n",
      "Clipping input data to the valid range for imshow with RGB data ([0..1] for floats or [0..255] for integers).\n",
      "Clipping input data to the valid range for imshow with RGB data ([0..1] for floats or [0..255] for integers).\n",
      "Clipping input data to the valid range for imshow with RGB data ([0..1] for floats or [0..255] for integers).\n",
      "Clipping input data to the valid range for imshow with RGB data ([0..1] for floats or [0..255] for integers).\n"
     ]
    },
    {
     "data": {
      "image/png": "[encoded data removed]",
      "text/plain": [
       "<Figure size 500x750 with 6 Axes>"
      ]
     },
     "metadata": {},
     "output_type": "display_data"
    },
    {
     "name": "stdout",
     "output_type": "stream",
     "text": [
      "Seed: 0\n",
      "Editing layer 1\n",
      "Created ModelWrapperSanturkar model with 31340 trainable parameters\n",
      "Restored weights from saved/train/2_Spurious_MNIST-LeNet/0323_100223/models/model_best.pth\n",
      "Using passed in data loader for validation.\n",
      "Performing pre-edit metric calculations on validation set.\n"
     ]
    },
    {
     "name": "stderr",
     "output_type": "stream",
     "text": [
      "100%|███████████████████████████████████████████████████████████| 38/38 [00:00<00:00, 39.04it/s]"
     ]
    },
    {
     "name": "stdout",
     "output_type": "stream",
     "text": [
      "Pre-edit metrics: {'TP': array([450, 538, 520, 497, 452, 422, 436, 472, 456, 453]), 'TN': array([8250, 8296, 8225, 7702, 7784, 8342, 8397, 8265, 7467, 7968]), 'FPs': array([ 320,  119,  293,  838,  784,  316,  195,  257, 1109,  573]), 'FNs': array([480, 547, 462, 463, 480, 420, 472, 506, 468, 506]), 'accuracy': 0.4943157894736842, 'per_class_accuracy': array([0.91578947, 0.92989474, 0.92052632, 0.86305263, 0.86694737,\n",
      "       0.92252632, 0.92978947, 0.91968421, 0.834     , 0.88642105]), 'per_class_accuracy_mean': 0.8988631578947368, 'precision': array([0.58441558, 0.81887367, 0.6396064 , 0.37228464, 0.36569579,\n",
      "       0.57181572, 0.69096672, 0.64746228, 0.2913738 , 0.44152047]), 'precision_mean': 0.5424015070238444, 'recall': array([0.48387097, 0.49585253, 0.52953157, 0.51770833, 0.48497854,\n",
      "       0.50118765, 0.48017621, 0.48261759, 0.49350649, 0.47236705]), 'recall_mean': 0.4941796933975864, 'predicted_class_distribution': array([ 770,  657,  813, 1335, 1236,  738,  631,  729, 1565, 1026]), 'f1': array([0.52941176, 0.61768083, 0.57938719, 0.43311547, 0.41697417,\n",
      "       0.53417722, 0.56660169, 0.55301699, 0.36641221, 0.45642317]), 'f1_mean': 0.5053200697134669}\n",
      "Saved pre-edit metrics saved/edit_2_Spurious_MNIST/method_eac/LeNet-patches/0324_170216/layernum_1/results/edit_idx_9/models/pre_edit_metrics.pth\n",
      "Saved pre-edit logits to saved/edit_2_Spurious_MNIST/method_eac/LeNet-patches/0324_170216/layernum_1/results/edit_idx_9/models/pre_edit_logits.pth\n",
      "Created <class 'trainer.editor.EditorEAC'> editor.\n",
      "Using passed in covariance data loader.\n",
      "Looking for covariance matrix weights in cache/2_Spurious_MNIST_hold_out/lenet-1\n"
     ]
    },
    {
     "name": "stderr",
     "output_type": "stream",
     "text": [
      "\n"
     ]
    },
    {
     "name": "stdout",
     "output_type": "stream",
     "text": [
      "Found precomputed cov matrices, returning...\n",
      "n_edit: 2\n",
      "Forwarded edit data thru model\n",
      "Kstar[0] type: <class 'torch.Tensor'> shape: torch.Size([10, 14, 14])\n",
      "vstar type: <class 'torch.Tensor'> shape: torch.Size([2, 20, 5, 5])\n",
      "mstar type: <class 'torch.Tensor'> shape: torch.Size([2, 1, 32, 32])\n",
      "key shape: torch.Size([2, 10, 14, 14]) val shape: torch.Size([2, 20, 5, 5])\n"
     ]
    },
    {
     "name": "stderr",
     "output_type": "stream",
     "text": [
      "tensor(0.7701, device='cuda:0', grad_fn=<DivBackward0>): 100%|█| 30000/30000 [00:39<00:00, 767.7"
     ]
    },
    {
     "name": "stdout",
     "output_type": "stream",
     "text": [
      "Loss (orig, final): 0.9742887020111084 0.7700714468955994\n",
      "L2 norm of weight change: 5.081810474395752\n",
      "Performing post-edit metric calculations on validation set.\n"
     ]
    },
    {
     "name": "stderr",
     "output_type": "stream",
     "text": [
      "\n",
      "100%|███████████████████████████████████████████████████████████| 38/38 [00:00<00:00, 40.07it/s]"
     ]
    },
    {
     "name": "stdout",
     "output_type": "stream",
     "text": [
      "Post-edit metrics: {'TP': array([450, 538, 519, 496, 452, 422, 438, 472, 455, 449]), 'TN': array([8272, 8313, 8190, 7662, 7801, 8249, 8161, 8254, 7757, 8032]), 'FPs': array([298, 102, 328, 878, 767, 409, 431, 268, 819, 509]), 'FNs': array([480, 547, 463, 464, 480, 420, 470, 506, 469, 510]), 'accuracy': 0.4937894736842105, 'per_class_accuracy': array([0.91810526, 0.93168421, 0.91673684, 0.85873684, 0.86873684,\n",
      "       0.91273684, 0.90515789, 0.91852632, 0.86442105, 0.89273684]), 'per_class_accuracy_mean': 0.8987578947368421, 'precision': array([0.60160428, 0.840625  , 0.61275089, 0.36098981, 0.37079573,\n",
      "       0.5078219 , 0.50402762, 0.63783784, 0.35714286, 0.46868476]), 'precision_mean': 0.5262280682705425, 'recall': array([0.48387097, 0.49585253, 0.52851324, 0.51666667, 0.48497854,\n",
      "       0.50118765, 0.48237885, 0.48261759, 0.49242424, 0.46819604]), 'recall_mean': 0.49366863179895704, 'predicted_class_distribution': array([ 748,  640,  847, 1374, 1219,  831,  869,  740, 1274,  958]), 'f1': array([0.5363528 , 0.62376812, 0.56752324, 0.42502142, 0.42026964,\n",
      "       0.50448296, 0.49296567, 0.54947614, 0.41401274, 0.46844027]), 'f1_mean': 0.5002313000481768}\n",
      "Saved post-edit metrics saved/edit_2_Spurious_MNIST/method_eac/LeNet-patches/0324_170216/layernum_1/results/edit_idx_9/models/post_edit_metrics.pth\n",
      "Saved post-edit logits to saved/edit_2_Spurious_MNIST/method_eac/LeNet-patches/0324_170216/layernum_1/results/edit_idx_9/models/post_edit_logits.pth\n",
      "All metrics and KNN results can be found in saved/edit_2_Spurious_MNIST/method_eac/LeNet-patches/0324_170216/layernum_1/results/edit_idx_9/models\n",
      "(0324_172114) Starting Trial 11/16...\n"
     ]
    },
    {
     "name": "stderr",
     "output_type": "stream",
     "text": [
      "\n"
     ]
    },
    {
     "name": "stdout",
     "output_type": "stream",
     "text": [
      "saved/edit_2_Spurious_MNIST/method_eac/LeNet-patches/0324_170216/layernum_1/results/edit_idx_10\n",
      "torch.Size([2, 1, 32, 32])\n",
      "3 2\n",
      "Clipping input data to the valid range for imshow with RGB data ([0..1] for floats or [0..255] for integers).\n",
      "Clipping input data to the valid range for imshow with RGB data ([0..1] for floats or [0..255] for integers).\n",
      "Clipping input data to the valid range for imshow with RGB data ([0..1] for floats or [0..255] for integers).\n",
      "Clipping input data to the valid range for imshow with RGB data ([0..1] for floats or [0..255] for integers).\n"
     ]
    },
    {
     "data": {
      "image/png": "[encoded data removed]",
      "text/plain": [
       "<Figure size 500x750 with 6 Axes>"
      ]
     },
     "metadata": {},
     "output_type": "display_data"
    },
    {
     "name": "stdout",
     "output_type": "stream",
     "text": [
      "Seed: 0\n",
      "Editing layer 1\n",
      "Created ModelWrapperSanturkar model with 31340 trainable parameters\n",
      "Restored weights from saved/train/2_Spurious_MNIST-LeNet/0323_100223/models/model_best.pth\n",
      "Using passed in data loader for validation.\n",
      "Performing pre-edit metric calculations on validation set.\n"
     ]
    },
    {
     "name": "stderr",
     "output_type": "stream",
     "text": [
      "100%|███████████████████████████████████████████████████████████| 38/38 [00:00<00:00, 40.15it/s]"
     ]
    },
    {
     "name": "stdout",
     "output_type": "stream",
     "text": [
      "Pre-edit metrics: {'TP': array([450, 538, 520, 497, 452, 422, 436, 472, 456, 453]), 'TN': array([8250, 8296, 8225, 7702, 7784, 8342, 8397, 8265, 7467, 7968]), 'FPs': array([ 320,  119,  293,  838,  784,  316,  195,  257, 1109,  573]), 'FNs': array([480, 547, 462, 463, 480, 420, 472, 506, 468, 506]), 'accuracy': 0.4943157894736842, 'per_class_accuracy': array([0.91578947, 0.92989474, 0.92052632, 0.86305263, 0.86694737,\n",
      "       0.92252632, 0.92978947, 0.91968421, 0.834     , 0.88642105]), 'per_class_accuracy_mean': 0.8988631578947368, 'precision': array([0.58441558, 0.81887367, 0.6396064 , 0.37228464, 0.36569579,\n",
      "       0.57181572, 0.69096672, 0.64746228, 0.2913738 , 0.44152047]), 'precision_mean': 0.5424015070238444, 'recall': array([0.48387097, 0.49585253, 0.52953157, 0.51770833, 0.48497854,\n",
      "       0.50118765, 0.48017621, 0.48261759, 0.49350649, 0.47236705]), 'recall_mean': 0.4941796933975864, 'predicted_class_distribution': array([ 770,  657,  813, 1335, 1236,  738,  631,  729, 1565, 1026]), 'f1': array([0.52941176, 0.61768083, 0.57938719, 0.43311547, 0.41697417,\n",
      "       0.53417722, 0.56660169, 0.55301699, 0.36641221, 0.45642317]), 'f1_mean': 0.5053200697134669}\n",
      "Saved pre-edit metrics saved/edit_2_Spurious_MNIST/method_eac/LeNet-patches/0324_170216/layernum_1/results/edit_idx_10/models/pre_edit_metrics.pth\n"
     ]
    },
    {
     "name": "stderr",
     "output_type": "stream",
     "text": [
      "\n"
     ]
    },
    {
     "name": "stdout",
     "output_type": "stream",
     "text": [
      "Saved pre-edit logits to saved/edit_2_Spurious_MNIST/method_eac/LeNet-patches/0324_170216/layernum_1/results/edit_idx_10/models/pre_edit_logits.pth\n",
      "Created <class 'trainer.editor.EditorEAC'> editor.\n",
      "Using passed in covariance data loader.\n",
      "Looking for covariance matrix weights in cache/2_Spurious_MNIST_hold_out/lenet-1\n",
      "Found precomputed cov matrices, returning...\n",
      "n_edit: 2\n",
      "Forwarded edit data thru model\n",
      "Kstar[0] type: <class 'torch.Tensor'> shape: torch.Size([10, 14, 14])\n",
      "vstar type: <class 'torch.Tensor'> shape: torch.Size([2, 20, 5, 5])\n",
      "mstar type: <class 'torch.Tensor'> shape: torch.Size([2, 1, 32, 32])\n",
      "key shape: torch.Size([2, 10, 14, 14]) val shape: torch.Size([2, 20, 5, 5])\n"
     ]
    },
    {
     "name": "stderr",
     "output_type": "stream",
     "text": [
      "tensor(1.1076, device='cuda:0', grad_fn=<DivBackward0>): 100%|█| 30000/30000 [00:37<00:00, 792.8\n"
     ]
    },
    {
     "name": "stdout",
     "output_type": "stream",
     "text": [
      "Loss (orig, final): 1.390702247619629 1.1076252460479736\n",
      "L2 norm of weight change: 3.7443559169769287\n",
      "Performing post-edit metric calculations on validation set.\n"
     ]
    },
    {
     "name": "stderr",
     "output_type": "stream",
     "text": [
      "100%|███████████████████████████████████████████████████████████| 38/38 [00:00<00:00, 41.81it/s]"
     ]
    },
    {
     "name": "stdout",
     "output_type": "stream",
     "text": [
      "Post-edit metrics: {'TP': array([450, 538, 520, 497, 452, 421, 429, 469, 456, 453]), 'TN': array([8245, 8300, 8225, 7757, 7730, 8339, 8482, 8353, 7296, 7958]), 'FPs': array([ 325,  115,  293,  783,  838,  319,  110,  169, 1280,  583]), 'FNs': array([480, 547, 462, 463, 480, 421, 479, 509, 468, 506]), 'accuracy': 0.49315789473684213, 'per_class_accuracy': array([0.91526316, 0.93031579, 0.92052632, 0.86884211, 0.86126316,\n",
      "       0.92210526, 0.938     , 0.92863158, 0.816     , 0.88536842]), 'per_class_accuracy_mean': 0.8986315789473686, 'precision': array([0.58064516, 0.82388974, 0.6396064 , 0.38828125, 0.3503876 ,\n",
      "       0.56891892, 0.79591837, 0.73510972, 0.26267281, 0.43725869]), 'precision_mean': 0.5582688646369393, 'recall': array([0.48387097, 0.49585253, 0.52953157, 0.51770833, 0.48497854,\n",
      "       0.5       , 0.47246696, 0.4795501 , 0.49350649, 0.47236705]), 'recall_mean': 0.4929832549755909, 'predicted_class_distribution': array([ 775,  653,  813, 1280, 1290,  740,  539,  638, 1736, 1036]), 'f1': array([0.52785924, 0.61910242, 0.57938719, 0.44375   , 0.40684068,\n",
      "       0.53223767, 0.59295093, 0.58044554, 0.34285714, 0.45413534]), 'f1_mean': 0.5079566157358173}\n"
     ]
    },
    {
     "name": "stderr",
     "output_type": "stream",
     "text": [
      "\n"
     ]
    },
    {
     "name": "stdout",
     "output_type": "stream",
     "text": [
      "Saved post-edit metrics saved/edit_2_Spurious_MNIST/method_eac/LeNet-patches/0324_170216/layernum_1/results/edit_idx_10/models/post_edit_metrics.pth\n",
      "Saved post-edit logits to saved/edit_2_Spurious_MNIST/method_eac/LeNet-patches/0324_170216/layernum_1/results/edit_idx_10/models/post_edit_logits.pth\n",
      "All metrics and KNN results can be found in saved/edit_2_Spurious_MNIST/method_eac/LeNet-patches/0324_170216/layernum_1/results/edit_idx_10/models\n",
      "(0324_172154) Starting Trial 12/16...\n",
      "saved/edit_2_Spurious_MNIST/method_eac/LeNet-patches/0324_170216/layernum_1/results/edit_idx_11\n",
      "torch.Size([2, 1, 32, 32])\n",
      "3 2\n",
      "Clipping input data to the valid range for imshow with RGB data ([0..1] for floats or [0..255] for integers).\n",
      "Clipping input data to the valid range for imshow with RGB data ([0..1] for floats or [0..255] for integers).\n",
      "Clipping input data to the valid range for imshow with RGB data ([0..1] for floats or [0..255] for integers).\n",
      "Clipping input data to the valid range for imshow with RGB data ([0..1] for floats or [0..255] for integers).\n"
     ]
    },
    {
     "data": {
      "image/png": "[encoded data removed]",
      "text/plain": [
       "<Figure size 500x750 with 6 Axes>"
      ]
     },
     "metadata": {},
     "output_type": "display_data"
    },
    {
     "name": "stdout",
     "output_type": "stream",
     "text": [
      "Seed: 0\n",
      "Editing layer 1\n",
      "Created ModelWrapperSanturkar model with 31340 trainable parameters\n",
      "Restored weights from saved/train/2_Spurious_MNIST-LeNet/0323_100223/models/model_best.pth\n",
      "Using passed in data loader for validation.\n",
      "Performing pre-edit metric calculations on validation set.\n"
     ]
    },
    {
     "name": "stderr",
     "output_type": "stream",
     "text": [
      "100%|███████████████████████████████████████████████████████████| 38/38 [00:00<00:00, 40.75it/s]\n"
     ]
    },
    {
     "name": "stdout",
     "output_type": "stream",
     "text": [
      "Pre-edit metrics: {'TP': array([450, 538, 520, 497, 452, 422, 436, 472, 456, 453]), 'TN': array([8250, 8296, 8225, 7702, 7784, 8342, 8397, 8265, 7467, 7968]), 'FPs': array([ 320,  119,  293,  838,  784,  316,  195,  257, 1109,  573]), 'FNs': array([480, 547, 462, 463, 480, 420, 472, 506, 468, 506]), 'accuracy': 0.4943157894736842, 'per_class_accuracy': array([0.91578947, 0.92989474, 0.92052632, 0.86305263, 0.86694737,\n",
      "       0.92252632, 0.92978947, 0.91968421, 0.834     , 0.88642105]), 'per_class_accuracy_mean': 0.8988631578947368, 'precision': array([0.58441558, 0.81887367, 0.6396064 , 0.37228464, 0.36569579,\n",
      "       0.57181572, 0.69096672, 0.64746228, 0.2913738 , 0.44152047]), 'precision_mean': 0.5424015070238444, 'recall': array([0.48387097, 0.49585253, 0.52953157, 0.51770833, 0.48497854,\n",
      "       0.50118765, 0.48017621, 0.48261759, 0.49350649, 0.47236705]), 'recall_mean': 0.4941796933975864, 'predicted_class_distribution': array([ 770,  657,  813, 1335, 1236,  738,  631,  729, 1565, 1026]), 'f1': array([0.52941176, 0.61768083, 0.57938719, 0.43311547, 0.41697417,\n",
      "       0.53417722, 0.56660169, 0.55301699, 0.36641221, 0.45642317]), 'f1_mean': 0.5053200697134669}\n",
      "Saved pre-edit metrics saved/edit_2_Spurious_MNIST/method_eac/LeNet-patches/0324_170216/layernum_1/results/edit_idx_11/models/pre_edit_metrics.pth\n",
      "Saved pre-edit logits to saved/edit_2_Spurious_MNIST/method_eac/LeNet-patches/0324_170216/layernum_1/results/edit_idx_11/models/pre_edit_logits.pth\n",
      "Created <class 'trainer.editor.EditorEAC'> editor.\n",
      "Using passed in covariance data loader.\n",
      "Looking for covariance matrix weights in cache/2_Spurious_MNIST_hold_out/lenet-1\n",
      "Found precomputed cov matrices, returning...\n",
      "n_edit: 2\n",
      "Forwarded edit data thru model\n",
      "Kstar[0] type: <class 'torch.Tensor'> shape: torch.Size([10, 14, 14])\n",
      "vstar type: <class 'torch.Tensor'> shape: torch.Size([2, 20, 5, 5])\n",
      "mstar type: <class 'torch.Tensor'> shape: torch.Size([2, 1, 32, 32])\n",
      "key shape: torch.Size([2, 10, 14, 14]) val shape: torch.Size([2, 20, 5, 5])\n"
     ]
    },
    {
     "name": "stderr",
     "output_type": "stream",
     "text": [
      "tensor(0.9284, device='cuda:0', grad_fn=<DivBackward0>): 100%|█| 30000/30000 [00:39<00:00, 758.6"
     ]
    },
    {
     "name": "stdout",
     "output_type": "stream",
     "text": [
      "Loss (orig, final): 1.1788768768310547 0.9283984899520874\n",
      "L2 norm of weight change: 253.84030151367188\n",
      "Performing post-edit metric calculations on validation set.\n"
     ]
    },
    {
     "name": "stderr",
     "output_type": "stream",
     "text": [
      "\n",
      "100%|███████████████████████████████████████████████████████████| 38/38 [00:00<00:00, 40.25it/s]"
     ]
    },
    {
     "name": "stdout",
     "output_type": "stream",
     "text": [
      "Post-edit metrics: {'TP': array([476, 201, 422,  76, 719,  17,   2,  11,   7,   1]), 'TN': array([7550, 8356, 8129, 8488, 3133, 8264, 8580, 8478, 8454, 8500]), 'FPs': array([1020,   59,  389,   52, 5435,  394,   12,   44,  122,   41]), 'FNs': array([454, 884, 560, 884, 213, 825, 906, 967, 917, 958]), 'accuracy': 0.2033684210526316, 'per_class_accuracy': array([0.84484211, 0.90073684, 0.90010526, 0.90147368, 0.40547368,\n",
      "       0.87168421, 0.90336842, 0.89357895, 0.89063158, 0.89484211]), 'per_class_accuracy_mean': 0.8406736842105265, 'precision': array([0.31818182, 0.77307692, 0.52034525, 0.59375   , 0.11683458,\n",
      "       0.04136253, 0.14285714, 0.2       , 0.05426357, 0.02380952]), 'precision_mean': 0.278448133614038, 'recall': array([0.51182796, 0.18525346, 0.42973523, 0.07916667, 0.77145923,\n",
      "       0.02019002, 0.00220264, 0.01124744, 0.00757576, 0.00104275]), 'recall_mean': 0.2019701162691694, 'predicted_class_distribution': array([1496,  260,  811,  128, 6154,  411,   14,   55,  129,   42]), 'f1': array([0.3924155 , 0.29888476, 0.47071946, 0.13970588, 0.20293537,\n",
      "       0.02713488, 0.00433839, 0.02129719, 0.01329535, 0.001998  ]), 'f1_mean': 0.15727247819348839}\n",
      "Saved post-edit metrics saved/edit_2_Spurious_MNIST/method_eac/LeNet-patches/0324_170216/layernum_1/results/edit_idx_11/models/post_edit_metrics.pth\n",
      "Saved post-edit logits to saved/edit_2_Spurious_MNIST/method_eac/LeNet-patches/0324_170216/layernum_1/results/edit_idx_11/models/post_edit_logits.pth\n",
      "All metrics and KNN results can be found in saved/edit_2_Spurious_MNIST/method_eac/LeNet-patches/0324_170216/layernum_1/results/edit_idx_11/models\n",
      "(0324_172236) Starting Trial 13/16...\n"
     ]
    },
    {
     "name": "stderr",
     "output_type": "stream",
     "text": [
      "\n"
     ]
    },
    {
     "name": "stdout",
     "output_type": "stream",
     "text": [
      "saved/edit_2_Spurious_MNIST/method_eac/LeNet-patches/0324_170216/layernum_1/results/edit_idx_12\n",
      "torch.Size([2, 1, 32, 32])\n",
      "3 2\n",
      "Clipping input data to the valid range for imshow with RGB data ([0..1] for floats or [0..255] for integers).\n",
      "Clipping input data to the valid range for imshow with RGB data ([0..1] for floats or [0..255] for integers).\n",
      "Clipping input data to the valid range for imshow with RGB data ([0..1] for floats or [0..255] for integers).\n",
      "Clipping input data to the valid range for imshow with RGB data ([0..1] for floats or [0..255] for integers).\n"
     ]
    },
    {
     "data": {
      "image/png": "[encoded data removed]",
      "text/plain": [
       "<Figure size 500x750 with 6 Axes>"
      ]
     },
     "metadata": {},
     "output_type": "display_data"
    },
    {
     "name": "stdout",
     "output_type": "stream",
     "text": [
      "Seed: 0\n",
      "Editing layer 1\n",
      "Created ModelWrapperSanturkar model with 31340 trainable parameters\n",
      "Restored weights from saved/train/2_Spurious_MNIST-LeNet/0323_100223/models/model_best.pth\n",
      "Using passed in data loader for validation.\n",
      "Performing pre-edit metric calculations on validation set.\n"
     ]
    },
    {
     "name": "stderr",
     "output_type": "stream",
     "text": [
      "100%|███████████████████████████████████████████████████████████| 38/38 [00:00<00:00, 40.76it/s]"
     ]
    },
    {
     "name": "stdout",
     "output_type": "stream",
     "text": [
      "Pre-edit metrics: {'TP': array([450, 538, 520, 497, 452, 422, 436, 472, 456, 453]), 'TN': array([8250, 8296, 8225, 7702, 7784, 8342, 8397, 8265, 7467, 7968]), 'FPs': array([ 320,  119,  293,  838,  784,  316,  195,  257, 1109,  573]), 'FNs': array([480, 547, 462, 463, 480, 420, 472, 506, 468, 506]), 'accuracy': 0.4943157894736842, 'per_class_accuracy': array([0.91578947, 0.92989474, 0.92052632, 0.86305263, 0.86694737,\n",
      "       0.92252632, 0.92978947, 0.91968421, 0.834     , 0.88642105]), 'per_class_accuracy_mean': 0.8988631578947368, 'precision': array([0.58441558, 0.81887367, 0.6396064 , 0.37228464, 0.36569579,\n",
      "       0.57181572, 0.69096672, 0.64746228, 0.2913738 , 0.44152047]), 'precision_mean': 0.5424015070238444, 'recall': array([0.48387097, 0.49585253, 0.52953157, 0.51770833, 0.48497854,\n",
      "       0.50118765, 0.48017621, 0.48261759, 0.49350649, 0.47236705]), 'recall_mean': 0.4941796933975864, 'predicted_class_distribution': array([ 770,  657,  813, 1335, 1236,  738,  631,  729, 1565, 1026]), 'f1': array([0.52941176, 0.61768083, 0.57938719, 0.43311547, 0.41697417,\n",
      "       0.53417722, 0.56660169, 0.55301699, 0.36641221, 0.45642317]), 'f1_mean': 0.5053200697134669}\n",
      "Saved pre-edit metrics saved/edit_2_Spurious_MNIST/method_eac/LeNet-patches/0324_170216/layernum_1/results/edit_idx_12/models/pre_edit_metrics.pth\n",
      "Saved pre-edit logits to saved/edit_2_Spurious_MNIST/method_eac/LeNet-patches/0324_170216/layernum_1/results/edit_idx_12/models/pre_edit_logits.pth\n",
      "Created <class 'trainer.editor.EditorEAC'> editor.\n",
      "Using passed in covariance data loader.\n",
      "Looking for covariance matrix weights in cache/2_Spurious_MNIST_hold_out/lenet-1\n"
     ]
    },
    {
     "name": "stderr",
     "output_type": "stream",
     "text": [
      "\n"
     ]
    },
    {
     "name": "stdout",
     "output_type": "stream",
     "text": [
      "Found precomputed cov matrices, returning...\n",
      "n_edit: 2\n",
      "Forwarded edit data thru model\n",
      "Kstar[0] type: <class 'torch.Tensor'> shape: torch.Size([10, 14, 14])\n",
      "vstar type: <class 'torch.Tensor'> shape: torch.Size([2, 20, 5, 5])\n",
      "mstar type: <class 'torch.Tensor'> shape: torch.Size([2, 1, 32, 32])\n",
      "key shape: torch.Size([2, 10, 14, 14]) val shape: torch.Size([2, 20, 5, 5])\n"
     ]
    },
    {
     "name": "stderr",
     "output_type": "stream",
     "text": [
      "tensor(2.2029, device='cuda:0', grad_fn=<DivBackward0>): 100%|█| 30000/30000 [00:39<00:00, 758.4"
     ]
    },
    {
     "name": "stdout",
     "output_type": "stream",
     "text": [
      "Loss (orig, final): 0.9987020492553711 2.202908992767334\n",
      "L2 norm of weight change: 469.6293029785156\n",
      "Performing post-edit metric calculations on validation set.\n"
     ]
    },
    {
     "name": "stderr",
     "output_type": "stream",
     "text": [
      "\n",
      "100%|███████████████████████████████████████████████████████████| 38/38 [00:00<00:00, 40.17it/s]"
     ]
    },
    {
     "name": "stdout",
     "output_type": "stream",
     "text": [
      "Post-edit metrics: {'TP': array([ 49,  86, 167, 391,  76,  39,   0,   0,   0,  18]), 'TN': array([8022, 8292, 5927, 4212, 8134, 8056, 8591, 8493, 8576, 8523]), 'FPs': array([ 548,  123, 2591, 4328,  434,  602,    1,   29,    0,   18]), 'FNs': array([881, 999, 815, 569, 856, 803, 908, 978, 924, 941]), 'accuracy': 0.08694736842105263, 'per_class_accuracy': array([0.84957895, 0.88189474, 0.64147368, 0.48452632, 0.86421053,\n",
      "       0.85210526, 0.90431579, 0.894     , 0.90273684, 0.89905263]), 'per_class_accuracy_mean': 0.8173894736842104, 'precision': array([0.08207705, 0.41148325, 0.06055112, 0.08285654, 0.14901961,\n",
      "       0.06084243, 0.        , 0.        , 0.        , 0.5       ]), 'precision_mean': 0.13468300084601928, 'recall': array([0.05268817, 0.07926267, 0.1700611 , 0.40729167, 0.08154506,\n",
      "       0.04631829, 0.        , 0.        , 0.        , 0.01876955]), 'recall_mean': 0.08559365170972441, 'predicted_class_distribution': array([ 597,  209, 2758, 4719,  510,  641,    1,   29,    0,   36]), 'f1': array([0.06417813, 0.13292117, 0.08930481, 0.1377003 , 0.10540915,\n",
      "       0.05259609, 0.        , 0.        , 0.        , 0.0361809 ]), 'f1_mean': 0.06182905613656612}\n",
      "Saved post-edit metrics saved/edit_2_Spurious_MNIST/method_eac/LeNet-patches/0324_170216/layernum_1/results/edit_idx_12/models/post_edit_metrics.pth\n",
      "Saved post-edit logits to saved/edit_2_Spurious_MNIST/method_eac/LeNet-patches/0324_170216/layernum_1/results/edit_idx_12/models/post_edit_logits.pth\n",
      "All metrics and KNN results can be found in saved/edit_2_Spurious_MNIST/method_eac/LeNet-patches/0324_170216/layernum_1/results/edit_idx_12/models\n",
      "(0324_172317) Starting Trial 14/16...\n"
     ]
    },
    {
     "name": "stderr",
     "output_type": "stream",
     "text": [
      "\n",
      "/n/fs/ac-editing/model-editing/src/model/metric.py:168: RuntimeWarning: invalid value encountered in divide\n",
      "  return np.nan_to_num(TPs / (TPs + FPs))\n",
      "/n/fs/ac-editing/model-editing/src/model/metric.py:205: RuntimeWarning: invalid value encountered in divide\n",
      "  return np.nan_to_num(2 * precisions * recalls / (precisions + recalls))\n"
     ]
    },
    {
     "name": "stdout",
     "output_type": "stream",
     "text": [
      "saved/edit_2_Spurious_MNIST/method_eac/LeNet-patches/0324_170216/layernum_1/results/edit_idx_13\n",
      "torch.Size([2, 1, 32, 32])\n",
      "3 2\n",
      "Clipping input data to the valid range for imshow with RGB data ([0..1] for floats or [0..255] for integers).\n",
      "Clipping input data to the valid range for imshow with RGB data ([0..1] for floats or [0..255] for integers).\n",
      "Clipping input data to the valid range for imshow with RGB data ([0..1] for floats or [0..255] for integers).\n",
      "Clipping input data to the valid range for imshow with RGB data ([0..1] for floats or [0..255] for integers).\n"
     ]
    },
    {
     "data": {
      "image/png": "[encoded data removed]",
      "text/plain": [
       "<Figure size 500x750 with 6 Axes>"
      ]
     },
     "metadata": {},
     "output_type": "display_data"
    },
    {
     "name": "stdout",
     "output_type": "stream",
     "text": [
      "Seed: 0\n",
      "Editing layer 1\n",
      "Created ModelWrapperSanturkar model with 31340 trainable parameters\n",
      "Restored weights from saved/train/2_Spurious_MNIST-LeNet/0323_100223/models/model_best.pth\n",
      "Using passed in data loader for validation.\n",
      "Performing pre-edit metric calculations on validation set.\n"
     ]
    },
    {
     "name": "stderr",
     "output_type": "stream",
     "text": [
      "100%|███████████████████████████████████████████████████████████| 38/38 [00:00<00:00, 39.55it/s]"
     ]
    },
    {
     "name": "stdout",
     "output_type": "stream",
     "text": [
      "Pre-edit metrics: {'TP': array([450, 538, 520, 497, 452, 422, 436, 472, 456, 453]), 'TN': array([8250, 8296, 8225, 7702, 7784, 8342, 8397, 8265, 7467, 7968]), 'FPs': array([ 320,  119,  293,  838,  784,  316,  195,  257, 1109,  573]), 'FNs': array([480, 547, 462, 463, 480, 420, 472, 506, 468, 506]), 'accuracy': 0.4943157894736842, 'per_class_accuracy': array([0.91578947, 0.92989474, 0.92052632, 0.86305263, 0.86694737,\n",
      "       0.92252632, 0.92978947, 0.91968421, 0.834     , 0.88642105]), 'per_class_accuracy_mean': 0.8988631578947368, 'precision': array([0.58441558, 0.81887367, 0.6396064 , 0.37228464, 0.36569579,\n",
      "       0.57181572, 0.69096672, 0.64746228, 0.2913738 , 0.44152047]), 'precision_mean': 0.5424015070238444, 'recall': array([0.48387097, 0.49585253, 0.52953157, 0.51770833, 0.48497854,\n",
      "       0.50118765, 0.48017621, 0.48261759, 0.49350649, 0.47236705]), 'recall_mean': 0.4941796933975864, 'predicted_class_distribution': array([ 770,  657,  813, 1335, 1236,  738,  631,  729, 1565, 1026]), 'f1': array([0.52941176, 0.61768083, 0.57938719, 0.43311547, 0.41697417,\n",
      "       0.53417722, 0.56660169, 0.55301699, 0.36641221, 0.45642317]), 'f1_mean': 0.5053200697134669}\n",
      "Saved pre-edit metrics saved/edit_2_Spurious_MNIST/method_eac/LeNet-patches/0324_170216/layernum_1/results/edit_idx_13/models/pre_edit_metrics.pth\n",
      "Saved pre-edit logits to saved/edit_2_Spurious_MNIST/method_eac/LeNet-patches/0324_170216/layernum_1/results/edit_idx_13/models/pre_edit_logits.pth\n",
      "Created <class 'trainer.editor.EditorEAC'> editor.\n",
      "Using passed in covariance data loader.\n",
      "Looking for covariance matrix weights in cache/2_Spurious_MNIST_hold_out/lenet-1\n"
     ]
    },
    {
     "name": "stderr",
     "output_type": "stream",
     "text": [
      "\n"
     ]
    },
    {
     "name": "stdout",
     "output_type": "stream",
     "text": [
      "Found precomputed cov matrices, returning...\n",
      "n_edit: 2\n",
      "Forwarded edit data thru model\n",
      "Kstar[0] type: <class 'torch.Tensor'> shape: torch.Size([10, 14, 14])\n",
      "vstar type: <class 'torch.Tensor'> shape: torch.Size([2, 20, 5, 5])\n",
      "mstar type: <class 'torch.Tensor'> shape: torch.Size([2, 1, 32, 32])\n",
      "key shape: torch.Size([2, 10, 14, 14]) val shape: torch.Size([2, 20, 5, 5])\n"
     ]
    },
    {
     "name": "stderr",
     "output_type": "stream",
     "text": [
      "tensor(0.6934, device='cuda:0', grad_fn=<DivBackward0>): 100%|█| 30000/30000 [00:39<00:00, 764.4"
     ]
    },
    {
     "name": "stdout",
     "output_type": "stream",
     "text": [
      "Loss (orig, final): 1.2443348169326782 0.6933825016021729\n",
      "L2 norm of weight change: 89.55833435058594\n",
      "Performing post-edit metric calculations on validation set.\n"
     ]
    },
    {
     "name": "stderr",
     "output_type": "stream",
     "text": [
      "\n",
      "100%|███████████████████████████████████████████████████████████| 38/38 [00:00<00:00, 39.89it/s]"
     ]
    },
    {
     "name": "stdout",
     "output_type": "stream",
     "text": [
      "Post-edit metrics: {'TP': array([ 74, 263, 561, 254, 233,  20,   0,   1,   0,   0]), 'TN': array([8374, 7567, 4685, 7526, 6487, 8602, 8592, 8457, 8576, 8540]), 'FPs': array([ 196,  848, 3833, 1014, 2081,   56,    0,   65,    0,    1]), 'FNs': array([856, 822, 421, 706, 699, 822, 908, 977, 924, 959]), 'accuracy': 0.148, 'per_class_accuracy': array([0.88926316, 0.82421053, 0.55221053, 0.81894737, 0.70736842,\n",
      "       0.90757895, 0.90442105, 0.89031579, 0.90273684, 0.89894737]), 'per_class_accuracy_mean': 0.8296000000000001, 'precision': array([0.27407407, 0.23672367, 0.1276741 , 0.20031546, 0.10069144,\n",
      "       0.26315789, 0.        , 0.01515152, 0.        , 0.        ]), 'precision_mean': 0.1217788158177872, 'recall': array([0.07956989, 0.24239631, 0.5712831 , 0.26458333, 0.25      ,\n",
      "       0.02375297, 0.        , 0.00102249, 0.        , 0.        ]), 'recall_mean': 0.14326080989021867, 'predicted_class_distribution': array([ 270, 1111, 4394, 1268, 2314,   76,    0,   66,    0,    1]), 'f1': array([0.12333333, 0.23952641, 0.20870536, 0.22800718, 0.14356131,\n",
      "       0.04357298, 0.        , 0.00191571, 0.        , 0.        ]), 'f1_mean': 0.09886222832470551}\n",
      "Saved post-edit metrics saved/edit_2_Spurious_MNIST/method_eac/LeNet-patches/0324_170216/layernum_1/results/edit_idx_13/models/post_edit_metrics.pth\n",
      "Saved post-edit logits to saved/edit_2_Spurious_MNIST/method_eac/LeNet-patches/0324_170216/layernum_1/results/edit_idx_13/models/post_edit_logits.pth\n",
      "All metrics and KNN results can be found in saved/edit_2_Spurious_MNIST/method_eac/LeNet-patches/0324_170216/layernum_1/results/edit_idx_13/models\n",
      "(0324_172359) Starting Trial 15/16...\n"
     ]
    },
    {
     "name": "stderr",
     "output_type": "stream",
     "text": [
      "\n",
      "/n/fs/ac-editing/model-editing/src/model/metric.py:168: RuntimeWarning: invalid value encountered in divide\n",
      "  return np.nan_to_num(TPs / (TPs + FPs))\n",
      "/n/fs/ac-editing/model-editing/src/model/metric.py:205: RuntimeWarning: invalid value encountered in divide\n",
      "  return np.nan_to_num(2 * precisions * recalls / (precisions + recalls))\n"
     ]
    },
    {
     "name": "stdout",
     "output_type": "stream",
     "text": [
      "saved/edit_2_Spurious_MNIST/method_eac/LeNet-patches/0324_170216/layernum_1/results/edit_idx_14\n",
      "torch.Size([2, 1, 32, 32])\n",
      "3 2\n",
      "Clipping input data to the valid range for imshow with RGB data ([0..1] for floats or [0..255] for integers).\n",
      "Clipping input data to the valid range for imshow with RGB data ([0..1] for floats or [0..255] for integers).\n",
      "Clipping input data to the valid range for imshow with RGB data ([0..1] for floats or [0..255] for integers).\n",
      "Clipping input data to the valid range for imshow with RGB data ([0..1] for floats or [0..255] for integers).\n"
     ]
    },
    {
     "data": {
      "image/png": "[encoded data removed]",
      "text/plain": [
       "<Figure size 500x750 with 6 Axes>"
      ]
     },
     "metadata": {},
     "output_type": "display_data"
    },
    {
     "name": "stdout",
     "output_type": "stream",
     "text": [
      "Seed: 0\n",
      "Editing layer 1\n",
      "Created ModelWrapperSanturkar model with 31340 trainable parameters\n",
      "Restored weights from saved/train/2_Spurious_MNIST-LeNet/0323_100223/models/model_best.pth\n",
      "Using passed in data loader for validation.\n",
      "Performing pre-edit metric calculations on validation set.\n"
     ]
    },
    {
     "name": "stderr",
     "output_type": "stream",
     "text": [
      "100%|███████████████████████████████████████████████████████████| 38/38 [00:00<00:00, 39.37it/s]"
     ]
    },
    {
     "name": "stdout",
     "output_type": "stream",
     "text": [
      "Pre-edit metrics: {'TP': array([450, 538, 520, 497, 452, 422, 436, 472, 456, 453]), 'TN': array([8250, 8296, 8225, 7702, 7784, 8342, 8397, 8265, 7467, 7968]), 'FPs': array([ 320,  119,  293,  838,  784,  316,  195,  257, 1109,  573]), 'FNs': array([480, 547, 462, 463, 480, 420, 472, 506, 468, 506]), 'accuracy': 0.4943157894736842, 'per_class_accuracy': array([0.91578947, 0.92989474, 0.92052632, 0.86305263, 0.86694737,\n",
      "       0.92252632, 0.92978947, 0.91968421, 0.834     , 0.88642105]), 'per_class_accuracy_mean': 0.8988631578947368, 'precision': array([0.58441558, 0.81887367, 0.6396064 , 0.37228464, 0.36569579,\n",
      "       0.57181572, 0.69096672, 0.64746228, 0.2913738 , 0.44152047]), 'precision_mean': 0.5424015070238444, 'recall': array([0.48387097, 0.49585253, 0.52953157, 0.51770833, 0.48497854,\n",
      "       0.50118765, 0.48017621, 0.48261759, 0.49350649, 0.47236705]), 'recall_mean': 0.4941796933975864, 'predicted_class_distribution': array([ 770,  657,  813, 1335, 1236,  738,  631,  729, 1565, 1026]), 'f1': array([0.52941176, 0.61768083, 0.57938719, 0.43311547, 0.41697417,\n",
      "       0.53417722, 0.56660169, 0.55301699, 0.36641221, 0.45642317]), 'f1_mean': 0.5053200697134669}\n",
      "Saved pre-edit metrics saved/edit_2_Spurious_MNIST/method_eac/LeNet-patches/0324_170216/layernum_1/results/edit_idx_14/models/pre_edit_metrics.pth\n",
      "Saved pre-edit logits to saved/edit_2_Spurious_MNIST/method_eac/LeNet-patches/0324_170216/layernum_1/results/edit_idx_14/models/pre_edit_logits.pth\n",
      "Created <class 'trainer.editor.EditorEAC'> editor.\n",
      "Using passed in covariance data loader.\n",
      "Looking for covariance matrix weights in cache/2_Spurious_MNIST_hold_out/lenet-1\n"
     ]
    },
    {
     "name": "stderr",
     "output_type": "stream",
     "text": [
      "\n"
     ]
    },
    {
     "name": "stdout",
     "output_type": "stream",
     "text": [
      "Found precomputed cov matrices, returning...\n",
      "n_edit: 2\n",
      "Forwarded edit data thru model\n",
      "Kstar[0] type: <class 'torch.Tensor'> shape: torch.Size([10, 14, 14])\n",
      "vstar type: <class 'torch.Tensor'> shape: torch.Size([2, 20, 5, 5])\n",
      "mstar type: <class 'torch.Tensor'> shape: torch.Size([2, 1, 32, 32])\n",
      "key shape: torch.Size([2, 10, 14, 14]) val shape: torch.Size([2, 20, 5, 5])\n"
     ]
    },
    {
     "name": "stderr",
     "output_type": "stream",
     "text": [
      "tensor(0.8452, device='cuda:0', grad_fn=<DivBackward0>): 100%|█| 30000/30000 [00:39<00:00, 752.4\n"
     ]
    },
    {
     "name": "stdout",
     "output_type": "stream",
     "text": [
      "Loss (orig, final): 1.064159870147705 0.8451864123344421\n",
      "L2 norm of weight change: 178.51959228515625\n",
      "Performing post-edit metric calculations on validation set.\n"
     ]
    },
    {
     "name": "stderr",
     "output_type": "stream",
     "text": [
      "100%|███████████████████████████████████████████████████████████| 38/38 [00:00<00:00, 39.25it/s]\n",
      "/n/fs/ac-editing/model-editing/src/model/metric.py:168: RuntimeWarning: invalid value encountered in divide\n",
      "  return np.nan_to_num(TPs / (TPs + FPs))\n",
      "/n/fs/ac-editing/model-editing/src/model/metric.py:205: RuntimeWarning: invalid value encountered in divide\n",
      "  return np.nan_to_num(2 * precisions * recalls / (precisions + recalls))\n"
     ]
    },
    {
     "name": "stdout",
     "output_type": "stream",
     "text": [
      "Post-edit metrics: {'TP': array([  2,   1, 659,  59,  57,   0,   0,  30,   0,   0]), 'TN': array([8502, 8409, 1751, 7354, 7972, 8657, 8592, 8454, 8576, 8541]), 'FPs': array([  68,    6, 6767, 1186,  596,    1,    0,   68,    0,    0]), 'FNs': array([ 928, 1084,  323,  901,  875,  842,  908,  948,  924,  959]), 'accuracy': 0.08505263157894737, 'per_class_accuracy': array([0.89515789, 0.88526316, 0.25368421, 0.78031579, 0.84515789,\n",
      "       0.91126316, 0.90442105, 0.89305263, 0.90273684, 0.89905263]), 'per_class_accuracy_mean': 0.8170105263157895, 'precision': array([0.02857143, 0.14285714, 0.08874226, 0.04738956, 0.08728943,\n",
      "       0.        , 0.        , 0.30612245, 0.        , 0.        ]), 'precision_mean': 0.07009722689605677, 'recall': array([0.00215054, 0.00092166, 0.67107943, 0.06145833, 0.0611588 ,\n",
      "       0.        , 0.        , 0.03067485, 0.        , 0.        ]), 'recall_mean': 0.08274436045981799, 'predicted_class_distribution': array([  70,    7, 7426, 1245,  653,    1,    0,   98,    0,    0]), 'f1': array([0.004     , 0.0018315 , 0.15675547, 0.05351474, 0.07192429,\n",
      "       0.        , 0.        , 0.05576208, 0.        , 0.        ]), 'f1_mean': 0.034378808404575266}\n",
      "Saved post-edit metrics saved/edit_2_Spurious_MNIST/method_eac/LeNet-patches/0324_170216/layernum_1/results/edit_idx_14/models/post_edit_metrics.pth\n",
      "Saved post-edit logits to saved/edit_2_Spurious_MNIST/method_eac/LeNet-patches/0324_170216/layernum_1/results/edit_idx_14/models/post_edit_logits.pth\n",
      "All metrics and KNN results can be found in saved/edit_2_Spurious_MNIST/method_eac/LeNet-patches/0324_170216/layernum_1/results/edit_idx_14/models\n",
      "(0324_172441) Starting Trial 16/16...\n",
      "saved/edit_2_Spurious_MNIST/method_eac/LeNet-patches/0324_170216/layernum_1/results/edit_idx_15\n",
      "torch.Size([2, 1, 32, 32])\n",
      "3 2\n",
      "Clipping input data to the valid range for imshow with RGB data ([0..1] for floats or [0..255] for integers).\n",
      "Clipping input data to the valid range for imshow with RGB data ([0..1] for floats or [0..255] for integers).\n",
      "Clipping input data to the valid range for imshow with RGB data ([0..1] for floats or [0..255] for integers).\n",
      "Clipping input data to the valid range for imshow with RGB data ([0..1] for floats or [0..255] for integers).\n"
     ]
    },
    {
     "data": {
      "image/png": "[encoded data removed]",
      "text/plain": [
       "<Figure size 500x750 with 6 Axes>"
      ]
     },
     "metadata": {},
     "output_type": "display_data"
    },
    {
     "name": "stdout",
     "output_type": "stream",
     "text": [
      "Seed: 0\n",
      "Editing layer 1\n",
      "Created ModelWrapperSanturkar model with 31340 trainable parameters\n",
      "Restored weights from saved/train/2_Spurious_MNIST-LeNet/0323_100223/models/model_best.pth\n",
      "Using passed in data loader for validation.\n",
      "Performing pre-edit metric calculations on validation set.\n"
     ]
    },
    {
     "name": "stderr",
     "output_type": "stream",
     "text": [
      "100%|███████████████████████████████████████████████████████████| 38/38 [00:00<00:00, 39.20it/s]"
     ]
    },
    {
     "name": "stdout",
     "output_type": "stream",
     "text": [
      "Pre-edit metrics: {'TP': array([450, 538, 520, 497, 452, 422, 436, 472, 456, 453]), 'TN': array([8250, 8296, 8225, 7702, 7784, 8342, 8397, 8265, 7467, 7968]), 'FPs': array([ 320,  119,  293,  838,  784,  316,  195,  257, 1109,  573]), 'FNs': array([480, 547, 462, 463, 480, 420, 472, 506, 468, 506]), 'accuracy': 0.4943157894736842, 'per_class_accuracy': array([0.91578947, 0.92989474, 0.92052632, 0.86305263, 0.86694737,\n",
      "       0.92252632, 0.92978947, 0.91968421, 0.834     , 0.88642105]), 'per_class_accuracy_mean': 0.8988631578947368, 'precision': array([0.58441558, 0.81887367, 0.6396064 , 0.37228464, 0.36569579,\n",
      "       0.57181572, 0.69096672, 0.64746228, 0.2913738 , 0.44152047]), 'precision_mean': 0.5424015070238444, 'recall': array([0.48387097, 0.49585253, 0.52953157, 0.51770833, 0.48497854,\n",
      "       0.50118765, 0.48017621, 0.48261759, 0.49350649, 0.47236705]), 'recall_mean': 0.4941796933975864, 'predicted_class_distribution': array([ 770,  657,  813, 1335, 1236,  738,  631,  729, 1565, 1026]), 'f1': array([0.52941176, 0.61768083, 0.57938719, 0.43311547, 0.41697417,\n",
      "       0.53417722, 0.56660169, 0.55301699, 0.36641221, 0.45642317]), 'f1_mean': 0.5053200697134669}\n",
      "Saved pre-edit metrics saved/edit_2_Spurious_MNIST/method_eac/LeNet-patches/0324_170216/layernum_1/results/edit_idx_15/models/pre_edit_metrics.pth\n",
      "Saved pre-edit logits to saved/edit_2_Spurious_MNIST/method_eac/LeNet-patches/0324_170216/layernum_1/results/edit_idx_15/models/pre_edit_logits.pth\n",
      "Created <class 'trainer.editor.EditorEAC'> editor.\n",
      "Using passed in covariance data loader.\n",
      "Looking for covariance matrix weights in cache/2_Spurious_MNIST_hold_out/lenet-1\n"
     ]
    },
    {
     "name": "stderr",
     "output_type": "stream",
     "text": [
      "\n"
     ]
    },
    {
     "name": "stdout",
     "output_type": "stream",
     "text": [
      "Found precomputed cov matrices, returning...\n",
      "n_edit: 2\n",
      "Forwarded edit data thru model\n",
      "Kstar[0] type: <class 'torch.Tensor'> shape: torch.Size([10, 14, 14])\n",
      "vstar type: <class 'torch.Tensor'> shape: torch.Size([2, 20, 5, 5])\n",
      "mstar type: <class 'torch.Tensor'> shape: torch.Size([2, 1, 32, 32])\n",
      "key shape: torch.Size([2, 10, 14, 14]) val shape: torch.Size([2, 20, 5, 5])\n"
     ]
    },
    {
     "name": "stderr",
     "output_type": "stream",
     "text": [
      "tensor(0.8636, device='cuda:0', grad_fn=<DivBackward0>): 100%|█| 30000/30000 [00:36<00:00, 833.0"
     ]
    },
    {
     "name": "stdout",
     "output_type": "stream",
     "text": [
      "Loss (orig, final): 0.8217484951019287 0.8636015057563782\n",
      "L2 norm of weight change: 5.838578224182129\n",
      "Performing post-edit metric calculations on validation set.\n"
     ]
    },
    {
     "name": "stderr",
     "output_type": "stream",
     "text": [
      "\n",
      "100%|███████████████████████████████████████████████████████████| 38/38 [00:00<00:00, 38.62it/s]"
     ]
    },
    {
     "name": "stdout",
     "output_type": "stream",
     "text": [
      "Post-edit metrics: {'TP': array([450, 537, 519, 494, 450, 416, 427, 471, 455, 457]), 'TN': array([8262, 8293, 8170, 7739, 7786, 8349, 8480, 8266, 7438, 7893]), 'FPs': array([ 308,  122,  348,  801,  782,  309,  112,  256, 1138,  648]), 'FNs': array([480, 548, 463, 466, 482, 426, 481, 507, 469, 502]), 'accuracy': 0.4922105263157895, 'per_class_accuracy': array([0.91705263, 0.92947368, 0.91463158, 0.86663158, 0.86694737,\n",
      "       0.92263158, 0.93757895, 0.91968421, 0.83084211, 0.87894737]), 'per_class_accuracy_mean': 0.8984421052631578, 'precision': array([0.59366755, 0.81487102, 0.59861592, 0.38146718, 0.36525974,\n",
      "       0.5737931 , 0.79220779, 0.64786795, 0.28562461, 0.41357466]), 'precision_mean': 0.5466949515977528, 'recall': array([0.48387097, 0.49493088, 0.52851324, 0.51458333, 0.48283262,\n",
      "       0.49406176, 0.47026432, 0.48159509, 0.49242424, 0.47653806]), 'recall_mean': 0.49196145027950433, 'predicted_class_distribution': array([ 758,  659,  867, 1295, 1232,  725,  539,  727, 1593, 1105]), 'f1': array([0.53317536, 0.61582569, 0.56138453, 0.43813747, 0.41589649,\n",
      "       0.53095086, 0.59018659, 0.55249267, 0.36154152, 0.44282946]), 'f1_mean': 0.5042420634107792}\n",
      "Saved post-edit metrics saved/edit_2_Spurious_MNIST/method_eac/LeNet-patches/0324_170216/layernum_1/results/edit_idx_15/models/post_edit_metrics.pth\n",
      "Saved post-edit logits to saved/edit_2_Spurious_MNIST/method_eac/LeNet-patches/0324_170216/layernum_1/results/edit_idx_15/models/post_edit_logits.pth\n",
      "All metrics and KNN results can be found in saved/edit_2_Spurious_MNIST/method_eac/LeNet-patches/0324_170216/layernum_1/results/edit_idx_15/models\n"
     ]
    },
    {
     "name": "stderr",
     "output_type": "stream",
     "text": [
      "\n"
     ]
    }
   ],
   "source": [
    "iv_path = 'layernum'\n",
    "iv_values = [0, 1]\n",
    "print(\"Varying {} with following values: {}\".format(iv_path, iv_values))\n",
    "\n",
    "run_experiments(\n",
    "    iv_path=iv_path,\n",
    "    iv_values=iv_values,\n",
    "    edit_data_loader=edit_data_loader,\n",
    "    progress_report_path=progress_report_path,\n",
    "    trial_paths_path=trial_paths_path,\n",
    "    timestamp=timestamp,\n",
    "    config_dict=config_dict,\n",
    "    covariance_data_loader=covariance_data_loader,\n",
    "    test_data_loader=test_data_loader,\n",
    "    analyze_in_edit=True,\n",
    "    debug=True,\n",
    "    seed=0)"
   ]
  },
  {
   "cell_type": "code",
   "execution_count": null,
   "metadata": {},
   "outputs": [],
   "source": []
  }
 ],
 "metadata": {
  "kernelspec": {
   "display_name": "editing",
   "language": "python",
   "name": "editing"
  },
  "language_info": {
   "codemirror_mode": {
    "name": "ipython",
    "version": 3
   },
   "file_extension": ".py",
   "mimetype": "text/x-python",
   "name": "python",
   "nbconvert_exporter": "python",
   "pygments_lexer": "ipython3",
   "version": "3.8.13"
  }
 },
 "nbformat": 4,
 "nbformat_minor": 4
}
