{
 "cells": [
  {
   "cell_type": "markdown",
   "metadata": {},
   "source": [
    "## Test out how to edit on 2_Spurious_MNIST dataset"
   ]
  },
  {
   "cell_type": "code",
   "execution_count": 1,
   "metadata": {},
   "outputs": [],
   "source": [
    "# General imports\n",
    "import torch\n",
    "import numpy as np\n",
    "import os, sys\n",
    "import json\n",
    "from tqdm import tqdm\n",
    "from datetime import datetime\n",
    "import pandas as pd"
   ]
  },
  {
   "cell_type": "code",
   "execution_count": 4,
   "metadata": {},
   "outputs": [],
   "source": [
    "# Local imports\n",
    "sys.path.insert(0, 'src')\n",
    "from utils import read_json, read_lists, informal_log, list_to_dict, write_lists, write_json, save_image\n",
    "from utils.visualizations import show_image_rows, make_grid\n",
    "from utils.model_utils import prepare_device\n",
    "from parse_config import ConfigParser\n",
    "# from data_loader import data_loaders\n",
    "import datasets.datasets as module_data\n",
    "import model.model as module_arch\n",
    "from utils.knn_utils import load_and_analyze_knn\n",
    "from utils.results_to_csv import store_csv\n",
    "# from edit_MNIST import main as edit"
   ]
  },
  {
   "cell_type": "code",
   "execution_count": 5,
   "metadata": {},
   "outputs": [],
   "source": [
    "# Define constants, paths\n",
    "dataset_type = '2_Spurious_MNIST'\n",
    "config_path = os.path.join('configs', 'MNIST', '{}_edit.json'.format(dataset_type))\n",
    "config_dict = read_json(config_path)\n",
    "class_list = [i for i in range(10)]\n",
    "n_hold_out_per_class = config_dict['editor']['edit_data_args']['n_hold_out_per_class']\n",
    "edit_data_dir = config_dict['editor']['edit_data_args']['data_dir'].format(\n",
    "    dataset_type, n_hold_out_per_class)\n",
    "\n",
    "edit_data_path = os.path.join(edit_data_dir, 'test_hold_out_{}_eac.pt'.format(n_hold_out_per_class))\n",
    "label_idx_dict_path = os.path.join(edit_data_dir, 'label_idx_dict.pt')\n",
    "\n",
    "# edit_data = torch.load(edit_data_path)\n",
    "label_idx_dict = torch.load(label_idx_dict_path)\n",
    "\n",
    "\n",
    "# class_list_path = 'metadata/cinic-10/class_names.txt'\n",
    "\n",
    "analyze_in_edit = True\n",
    "\n"
   ]
  },
  {
   "cell_type": "code",
   "execution_count": 6,
   "metadata": {},
   "outputs": [],
   "source": [
    "# Load config file\n",
    "config = ConfigParser(config_dict)\n",
    "\n",
    "# Set K\n",
    "K = config_dict['editor']['K']\n",
    "\n",
    "device, device_ids = prepare_device(config_dict['n_gpu'])"
   ]
  },
  {
   "cell_type": "code",
   "execution_count": 7,
   "metadata": {},
   "outputs": [],
   "source": [
    "# Load datasets\n",
    "data_loader_args = dict(config_dict[\"data_loader\"][\"args\"])\n",
    "dataset_args = dict(config_dict[\"dataset\"][\"args\"])\n",
    "\n",
    "# Create validation data loader\n",
    "dataset_args.update({\"split\": \"test\"})\n",
    "test_dataset = module_data.ColoredMNIST(**dataset_args)\n",
    "\n",
    "test_data_loader = torch.utils.data.DataLoader(\n",
    "    test_dataset,\n",
    "    **data_loader_args\n",
    ")\n",
    "\n",
    "# Create data loader for covariance matrix\n",
    "\n",
    "dataset_args.update({\"split\": \"test_hold_out_{}\".format(n_hold_out_per_class)})\n",
    "covariance_dataset = module_data.ColoredMNIST(**dataset_args)\n",
    "covariance_data_loader = torch.utils.data.DataLoader(\n",
    "    covariance_dataset,\n",
    "    **data_loader_args\n",
    ")\n"
   ]
  },
  {
   "cell_type": "markdown",
   "metadata": {},
   "source": [
    "### Create log and save paths"
   ]
  },
  {
   "cell_type": "code",
   "execution_count": 8,
   "metadata": {},
   "outputs": [
    {
     "name": "stdout",
     "output_type": "stream",
     "text": [
      "Saving path to directories for each trial to saved/edit_2_Spurious_MNIST/method_eac/VGG_16-layernum/0320_160517/trial_paths.txt\n",
      "Printing progress reports to saved/edit_2_Spurious_MNIST/method_eac/VGG_16-layernum/0320_160517/progress_report.txt\n"
     ]
    }
   ],
   "source": [
    "# create log path to store the paths to each trial\n",
    "save_root = config_dict['trainer']['save_dir']\n",
    "timestamp = os.path.basename(os.path.dirname(config.save_dir))\n",
    "\n",
    "trial_paths_path = os.path.join(save_root, config_dict['name'], timestamp, 'trial_paths.txt')\n",
    "progress_report_path = os.path.join(save_root, config_dict['name'], timestamp, 'progress_report.txt')\n",
    "if os.path.exists(trial_paths_path):\n",
    "    print(\"Path {} already exists. Aborting.\".format(trial_paths_path))\n",
    "else:\n",
    "    # progress_report_path = os.path.join(save_root, config_dict['name'], timestamp, 'progress_report.txt')\n",
    "    if os.path.exists(progress_report_path):\n",
    "        os.remove(progress_report_path)\n",
    "    print(\"Saving path to directories for each trial to {}\".format(trial_paths_path))\n",
    "    print(\"Printing progress reports to {}\".format(progress_report_path))"
   ]
  },
  {
   "cell_type": "markdown",
   "metadata": {},
   "source": [
    "### Read in idxs of selected images to use for edit"
   ]
  },
  {
   "cell_type": "code",
   "execution_count": 9,
   "metadata": {},
   "outputs": [
    {
     "name": "stdout",
     "output_type": "stream",
     "text": [
      "[array([3]), array([6, 7]), array([1, 2, 3])]\n"
     ]
    }
   ],
   "source": [
    "# Obtain list of idxs for edits\n",
    "edit_idxs_filename = config_dict['editor']['edit_data_args']['edit_idxs_file']\n",
    "edit_idxs_path = os.path.join(edit_data_dir, edit_idxs_filename)\n",
    "edit_idxs = read_lists(edit_idxs_path)\n",
    "\n",
    "# convert each string to list\n",
    "for row_idx, row in enumerate(edit_idxs):\n",
    "    row = row.split(',')\n",
    "    row = [eval(i) for i in row]\n",
    "    edit_idxs[row_idx] = np.array(row)\n",
    "\n",
    "print(edit_idxs)\n"
   ]
  },
  {
   "cell_type": "code",
   "execution_count": 10,
   "metadata": {},
   "outputs": [
    {
     "name": "stdout",
     "output_type": "stream",
     "text": [
      "3\n"
     ]
    }
   ],
   "source": [
    "# Given edit keys and values and list of idxs, return tensor of the images we want\n",
    "\n",
    "def get_edit_pool(edit_image_pool, idxs):\n",
    "    '''\n",
    "    \n",
    "    Arg(s):\n",
    "        edit_image_pool : dict\n",
    "            dictionary keyed by ['keys', 'values', 'labels', 'test_set_idxs'] (idxs is idx from test set)\n",
    "            Pool of data to choose edit image from\n",
    "        idxs : 1D np.array(int)\n",
    "            idxs for the edit (NOT corresponding to test set idxs)\n",
    "    '''\n",
    "    pool_keys = edit_image_pool['keys']\n",
    "    pool_values = edit_image_pool['values']\n",
    "    pool_labels = edit_image_pool['labels']\n",
    "    \n",
    "    edit_keys = pool_keys[idxs]\n",
    "    edit_values = pool_values[idxs]\n",
    "    edit_labels = pool_labels[idxs]\n",
    "    \n",
    "    return edit_keys, edit_values, edit_labels\n",
    "    \n",
    "edit_pool_filename = config_dict['editor']['edit_data_args']['edit_pool_file'].format(n_hold_out_per_class)\n",
    "edit_pool_path = os.path.join(edit_data_dir, edit_pool_filename)\n",
    "edit_pool = torch.load(edit_pool_path)\n",
    "edit_data = []\n",
    "\n",
    "for edit_i in edit_idxs:\n",
    "    edit_data.append(get_edit_pool(edit_image_pool=edit_pool, idxs=edit_i))\n",
    "print(len(edit_data))\n",
    "\n",
    "\n",
    "    "
   ]
  },
  {
   "cell_type": "markdown",
   "metadata": {},
   "source": [
    "## Run edit for each modified image"
   ]
  },
  {
   "cell_type": "code",
   "execution_count": 12,
   "metadata": {},
   "outputs": [],
   "source": [
    "# import data_loader.data_loaders as module_data\n",
    "from predict import predict\n",
    "import datasets.datasets as module_data\n",
    "import model.loss as module_loss\n",
    "import model.metric as module_metric\n",
    "import model.model as module_arch\n",
    "from trainer.editor import get_editor\n",
    "from parse_config import ConfigParser\n",
    "from utils.model_utils import prepare_device\n",
    "from utils import read_lists\n",
    "from utils.MNIST_edit_utils import prepare_edit_data_eac\n",
    "from utils.knn_utils import knn, analyze_knn\n",
    "\n",
    "\n",
    "# fix random seeds for reproducibility\n",
    "SEED = 123\n",
    "torch.manual_seed(SEED)\n",
    "torch.cuda.manual_seed(SEED)\n",
    "torch.backends.cudnn.deterministic = True\n",
    "torch.backends.cudnn.benchmark = False\n",
    "np.random.seed(SEED)\n",
    "\n",
    "def edit_MNIST(config,\n",
    "         # keys,\n",
    "         # values,\n",
    "         # labels,\n",
    "         edit_data,\n",
    "         test_data_loader=None,\n",
    "         covariance_data_loader=None,\n",
    "         do_analyze_knn=False):\n",
    "    # Obtain variables from config\n",
    "    logger = config.get_logger('train')\n",
    "    assert config.config['method'] == 'edit', \"Invalid method '{}'. Must be 'edit'\".format(config.config['method'])\n",
    "    K = config.config['editor']['K']  # for KNN\n",
    "    noise_edit = config.config['editor']['args']['noise_edit']\n",
    "    if noise_edit:\n",
    "        assert K == 0, \"Cannot perform KNN analysis with random edits.\"\n",
    "\n",
    "    # Determine edit method based on model type\n",
    "    if 'Santurkar' in config.config['arch']['type']:\n",
    "        edit_method = 'eac'\n",
    "    elif 'Sinitson' in config.config['arch']['type']:\n",
    "        edit_method = 'enn'\n",
    "\n",
    "    # Store variables for if we want to perform knn analysis here\n",
    "    if 'perform_analysis' in config.config['editor']:\n",
    "        do_analyze_knn = config.config['editor']['perform_analysis']\n",
    "    else:\n",
    "        do_analyze_knn = False\n",
    "    if do_analyze_knn:\n",
    "        try:\n",
    "            class_list_path = config.config['class_list_path']\n",
    "        except:\n",
    "            raise ValueError(\"class_list_path not in config file. Aborting\")\n",
    "        try:\n",
    "            class_list = read_lists(class_list_path)\n",
    "        except:\n",
    "            raise ValueError(\"Unable to read file at {}. Aborting\".format(class_list_path))\n",
    "\n",
    "    save_dir = str(config.save_dir)\n",
    "\n",
    "    # Prepare for (multi-device) GPU training\n",
    "    device, device_ids = prepare_device(config['n_gpu'])\n",
    "\n",
    "    # build model architecture, then print to console\n",
    "    config.config['arch'].update()\n",
    "    layernum = config.config['layernum']\n",
    "    print(\"Editing layer {}\".format(layernum))\n",
    "    model = config.init_obj('arch', module_arch,\n",
    "        layernum=layernum,\n",
    "        device=device)\n",
    "    if len(device_ids) > 1:\n",
    "        model = torch.nn.DataParallel(model, device_ids=device_ids)\n",
    "    model.eval()  # model should always be in eval() for editing\n",
    "\n",
    "    logger.info(\"Created {} model with {} trainable parameters\".format(config.config['arch']['type'], model.get_n_params()))\n",
    "    model_parameters = model.get_parameters()\n",
    "    optimizer = config.init_obj('optimizer', torch.optim, model_parameters)\n",
    "\n",
    "    # Get function handles for loss and metrics\n",
    "    loss_fn = getattr(module_loss, config['loss'])\n",
    "    metric_fns = [getattr(module_metric, met) for met in config['metrics']]\n",
    "\n",
    "    # Make editable\n",
    "    if edit_method == 'enn':\n",
    "        model.make_editable(\n",
    "            loss_fn=loss_fn)\n",
    "\n",
    "    if model.get_checkpoint_path() != \"\":\n",
    "        logger.info(\"Restored weights from {}\".format(model.get_checkpoint_path()))\n",
    "    else:\n",
    "        logger.info(\"Training from scratch.\")\n",
    "\n",
    "    # General arguments for data loaders\n",
    "    # dataset_args = config.config['dataset_args']\n",
    "    data_loader_args = config.config['data_loader']['args']\n",
    "\n",
    "    # Provide dataloader to perform KNN and metric calculation\n",
    "    if test_data_loader is None:\n",
    "        test_dataset = config.init_obj('dataset', module_data)\n",
    "        test_data_loader = torch.utils.data.DataLoader(\n",
    "            val_data_set,\n",
    "            **data_loader_args\n",
    "        )\n",
    "        logger.info(\"Created validation data loader for metric and KNN calculations\")\n",
    "    else:\n",
    "        logger.info(\"Using passed in data loader for validation.\")\n",
    "\n",
    "\n",
    "    # Prepare data for edit\n",
    "    edit_data_args = config.config['editor']['edit_data_args']\n",
    "    \n",
    "    # log the editor initialization arguments\n",
    "    logger.info(\"Edit initialization arguments:\")\n",
    "    for key, val in edit_data_args.items():\n",
    "        logger.info(\"{}: {}\".format(key, val))\n",
    "    logger.info(\"---***---\")\n",
    "\n",
    "    if not noise_edit:\n",
    "        # edit_data = prepare_edit_data(\n",
    "        #     edit_method=edit_method,\n",
    "        #     **edit_data_args)\n",
    "        \n",
    "        # edit_data = prepare_edit_data_eac(\n",
    "        #     keys=keys,\n",
    "        #     values=values,\n",
    "        #     labels=labels)\n",
    "        '''\n",
    "        If edit_method == 'enn': prepare_edit_data() returns a torch.utils.data.DataLoader\n",
    "        If edit_method == 'eac': prepare_edit_data() returns a dictionary as follows:\n",
    "            {\n",
    "                'imgs': torch.tensor(B x C x H x W) [values]\n",
    "                'modified_imgs': torch.tensor(B x C x H x W) [keys]\n",
    "                'masks': torch.tensor(B x 1 x H x W) [masks]\n",
    "            }\n",
    "        '''\n",
    "\n",
    "    pre_metric_save_path = os.path.join(save_dir, \"pre_edit_metrics.pth\")\n",
    "    pre_logits_save_path = os.path.join(save_dir, \"pre_edit_logits.pth\")\n",
    "    if K > 0:\n",
    "        # Obtain anchor images\n",
    "        if edit_method == 'eac':\n",
    "            # for EAC, it is the key and value images\n",
    "            anchor_images = torch.cat([edit_data['modified_imgs'], edit_data['imgs']], dim=0)\n",
    "        elif edit_method == 'enn':\n",
    "            # for ENN, it is all the edit images\n",
    "            anchor_images = []\n",
    "            for item in edit_data:\n",
    "                images, _, _ = item\n",
    "                anchor_images.append(images)\n",
    "            anchor_images = torch.cat(anchor_images, dim=0)\n",
    "\n",
    "        logger.info(\"Performing pre-edit metric & KNN calculations on validation set.\")\n",
    "        pre_edit_log = knn(\n",
    "            K=K,\n",
    "            data_loader=test_data_loader,\n",
    "            model=model,\n",
    "            anchor_image=anchor_images,\n",
    "            data_types=['logits', 'images'],  # ['features', 'logits', 'images']\n",
    "            metric_fns=metric_fns,\n",
    "            device=device,\n",
    "            save_path=None)\n",
    "\n",
    "        # Save KNN results\n",
    "        pre_knn_save_path = os.path.join(save_dir, \"pre_edit_{}-nn.pth\".format(K))\n",
    "        torch.save(pre_edit_log['knn'], pre_knn_save_path)\n",
    "        logger.info(\"Saved pre-edit KNN results with K={} to {}\".format(K, pre_knn_save_path))\n",
    "    else:  # if not performing KNN\n",
    "        logger.info(\"Performing pre-edit metric calculations on validation set.\")\n",
    "        pre_edit_log = predict(\n",
    "            data_loader=test_data_loader,\n",
    "            model=model,\n",
    "            loss_fn=loss_fn,\n",
    "            metric_fns=metric_fns,\n",
    "            device=device)\n",
    "    # Save pre edit metrics\n",
    "    logger.info(\"Pre-edit metrics: {}\".format(pre_edit_log['metrics']))\n",
    "    torch.save(pre_edit_log['metrics'], pre_metric_save_path)\n",
    "    logger.info(\"Saved pre-edit metrics {}\".format(pre_metric_save_path))\n",
    "    # Save logits\n",
    "    torch.save(pre_edit_log['logits'], pre_logits_save_path)\n",
    "    logger.info(\"Saved pre-edit logits to {}\".format(pre_logits_save_path))\n",
    "\n",
    "    # Set up editor\n",
    "    editor_args = config.config['editor']['args']\n",
    "    if edit_method == 'eac':\n",
    "        editor_args['arch'] = config.config['arch']['args']['type']\n",
    "    # elif edit_method == 'enn':\n",
    "    #     editor_args.update({\n",
    "    #         'model': model,\n",
    "    #         'optimizer': optimizer,\n",
    "    #         'loss_fn': loss_fn,\n",
    "    #         })\n",
    "    #     if 'error' in editor_args:\n",
    "    #         editor_args.pop('error')\n",
    "    #         editor_args['error_fn'] = None\n",
    "\n",
    "    editor = get_editor(\n",
    "        edit_method=edit_method,\n",
    "        **editor_args)\n",
    "\n",
    "    logger.info(\"Created {} editor.\".format(type(editor)))\n",
    "\n",
    "    # Prepare covariance dataset if necessary\n",
    "    if not noise_edit:\n",
    "        if edit_method == 'eac':\n",
    "            if covariance_data_loader is None:\n",
    "                if 'covariance_dataset' in config.config and 'images' in config.config['covariance_dataset']:\n",
    "                    # Always use the dummy val_data_loader for covariance calculation\n",
    "                    covariance_image_paths = read_lists(config.config['covariance_dataset']['images'])\n",
    "                    covariance_labels = read_lists(config.config['covariance_dataset']['labels'])\n",
    "\n",
    "                    covariance_data_loader = torch.utils.data.DataLoader(\n",
    "                        module_data.CINIC10Dataset(\n",
    "                            data_dir=\"\",\n",
    "                            image_paths=covariance_image_paths,\n",
    "                            labels=covariance_labels,\n",
    "                            return_paths=False,\n",
    "                            **dataset_args\n",
    "                        ),\n",
    "                        **data_loader_args\n",
    "                    )\n",
    "                    val_data_name = config.config['covariance_dataset']['name']\n",
    "\n",
    "                    logger.info(\"Created dataloader for covariance matrix from {}\".format(config.config['covariance_dataset']['images']))\n",
    "                else:  # Use identity matrix\n",
    "                    covariance_data_loader = None\n",
    "                    val_data_name = \"identity\"\n",
    "                    logger.info(\"No data loader for covariance matrix. Will use identity matrix\")\n",
    "            else:\n",
    "                val_data_name = config.config['covariance_dataset']['name']\n",
    "                logger.info(\"Using passed in covariance data loader.\")\n",
    "    else:\n",
    "        logger.info(\"Performing random edit. No covariance matrix needed.\")\n",
    "\n",
    "    # Perform edit\n",
    "    if not noise_edit:\n",
    "        if edit_method == 'eac':\n",
    "            # Create path for caching directory based on\n",
    "            #   (1) validation data dir\n",
    "            #   (2) context model -- architecture, layer number\n",
    "            model_arch = model.get_type()\n",
    "            cache_dir = os.path.join('cache', val_data_name, \"{}-{}\".format(model_arch, layernum))\n",
    "            logger.info(\"Looking for covariance matrix weights in {}\".format(cache_dir))\n",
    "            editor.edit(\n",
    "                edit_data=edit_data,\n",
    "                model=model,\n",
    "                val_data_loader=covariance_data_loader,\n",
    "                cache_dir=cache_dir)\n",
    "        elif edit_method == 'enn':\n",
    "            edit_results_save_path = os.path.join(save_dir, \"edit_results.pth\")\n",
    "            edit_images, edit_labels = edit_data\n",
    "            edited_model, edit_results = editor.edit(\n",
    "                model=model,\n",
    "                inputs=edit_images,\n",
    "                targets=edit_labels,\n",
    "                save_path=edit_results_save_path\n",
    "            )\n",
    "            logger.info(\"Edit results from ENN: {}\".format(edit_results))\n",
    "            model.model = edited_model\n",
    "\n",
    "    else:\n",
    "        editor.noise_edit(\n",
    "            model=model\n",
    "        )\n",
    "\n",
    "    if not do_analyze_knn and not noise_edit:\n",
    "        model.save_model(save_path=os.path.join(save_dir, \"edited_model.pth\"))\n",
    "\n",
    "    # Perform post edit KNN analysis\n",
    "    post_metric_save_path = os.path.join(save_dir, \"post_edit_metrics.pth\")\n",
    "    post_logits_save_path = os.path.join(save_dir, \"post_edit_logits.pth\")\n",
    "    if K > 0:\n",
    "        # Concatenate key and value images together\n",
    "\n",
    "        logger.info(\"Performing post-edit metric & KNN calculations on validation set.\")\n",
    "\n",
    "        post_edit_log = knn(\n",
    "            K=K,\n",
    "            data_loader=test_data_loader,\n",
    "            model=model,\n",
    "            anchor_image=anchor_images,\n",
    "            data_types=['features', 'logits', 'images'],\n",
    "            metric_fns=metric_fns,\n",
    "            device=device,\n",
    "            save_path=None)\n",
    "\n",
    "        logger.info(\"Post-edit metrics: {}\".format(post_edit_log['metrics']))\n",
    "        # Save metrics\n",
    "        # post_metric_save_path = os.path.join(save_dir, \"post_edit_metrics.pth\")\n",
    "        # torch.save(post_edit_log['metrics'], post_metric_save_path)\n",
    "        # logger.info(\"Saved post-edit metrics to {}\".format(post_metric_save_path))\n",
    "        # Save KNN results\n",
    "        post_knn_save_path = os.path.join(save_dir, \"post_edit_{}-nn.pth\".format(K))\n",
    "        torch.save(post_edit_log['knn'], post_knn_save_path)\n",
    "        logger.info(\"Saving post-edit KNN results with K={} to {}\".format(K, post_knn_save_path))\n",
    "        # Save logits\n",
    "        # torch.save(post_edit_log['logits'], post_logits_save_path)\n",
    "        # logger.info(\"Saved post-edit logits to {}\".format(post_logits_save_path))\n",
    "    else:  # if not performing KNN\n",
    "        logger.info(\"Performing post-edit metric calculations on validation set.\")\n",
    "\n",
    "        post_edit_log = predict(\n",
    "            data_loader=test_data_loader,\n",
    "            model=model,\n",
    "            loss_fn=loss_fn,\n",
    "            metric_fns=metric_fns,\n",
    "            device=device)\n",
    "\n",
    "    logger.info(\"Post-edit metrics: {}\".format(post_edit_log['metrics']))\n",
    "    # Save post edit metrics\n",
    "    torch.save(post_edit_log['metrics'], post_metric_save_path)\n",
    "    logger.info(\"Saved post-edit metrics {}\".format(post_metric_save_path))\n",
    "    # Save post edit logits\n",
    "    torch.save(post_edit_log['logits'], post_logits_save_path)\n",
    "    logger.info(\"Saved post-edit logits to {}\".format(post_logits_save_path))\n",
    "\n",
    "    # Analyze KNN results here and now\n",
    "    if do_analyze_knn and K > 0:\n",
    "        logger.info(\"Performing KNN analysis...\")\n",
    "        target_class_idx = np.argmax(post_edit_log['knn']['logits']['anchor_data'][0])\n",
    "        analyze_knn(\n",
    "            save_dir=save_dir,\n",
    "            config=config,\n",
    "            pre_edit_knn=pre_edit_log['knn'],\n",
    "            post_edit_knn=post_edit_log['knn'],\n",
    "            edited_model=model,\n",
    "            knn_analysis_filename='knn_analysis_results.pth',\n",
    "            target_class_idx=target_class_idx,\n",
    "            class_list=class_list,\n",
    "            progress_report_path=None,\n",
    "            save_plots=True)\n",
    "\n",
    "    logger.info(\"All metrics and KNN results can be found in {}\".format(save_dir))"
   ]
  },
  {
   "cell_type": "code",
   "execution_count": 18,
   "metadata": {},
   "outputs": [],
   "source": [
    "def run_trials(EAC_edit_data: list,\n",
    "               progress_report_path: str,\n",
    "               trial_paths_path: str,\n",
    "               config_dict: dict,\n",
    "               run_id_prefix: str=\"\",\n",
    "               debug=True): \n",
    "    \n",
    "    n_trials = len(edit_data)\n",
    "    \n",
    "    for idx, cur_edit_data in enumerate(edit_data):\n",
    "        informal_log(\"({}) Starting Trial {}/{}...\".format(\n",
    "            datetime.now().strftime(r'%m%d_%H%M%S'), \n",
    "            idx + 1, n_trials), \n",
    "            progress_report_path)\n",
    "        run_id = os.path.join(run_id_prefix, 'results', 'edit_idx_{}'.format(idx))\n",
    "\n",
    "        config = ConfigParser(config_dict, run_id=run_id)\n",
    "        \n",
    "        trial_save_dir = config.save_dir\n",
    "        cur_trial_path = os.path.dirname(trial_save_dir)\n",
    "\n",
    "        informal_log(cur_trial_path, trial_paths_path)\n",
    "        edit_data_save_path = os.path.join(trial_save_dir, 'edit_data.pt')\n",
    "        # key_save_path = os.path.join(trial_save_dir, 'keys.pt')\n",
    "        # value_save_path =os.path.join(trial_save_dir, 'values.pt')\n",
    "        # keys, values, labels = cur_edit_data\n",
    "        # trial_edit_data = prepare_edit_data_eac(\n",
    "        #         keys=keys,\n",
    "        #         values=values,\n",
    "        #         labels=labels)\n",
    "        \n",
    "        torch.save(EAC_edit_data, edit_data_save_path)\n",
    "        \n",
    "        # EAC_edit_data['masks'] = EAC_edit_data['masks'].to(torch.int32)\n",
    "        if debug:\n",
    "            show_image_rows(\n",
    "                images=[np.concatenate([trial_edit_data['modified_imgs'], trial_edit_data['imgs'], trial_edit_data['masks'].repeat(1, 3, 1, 1)], axis=0)],\n",
    "                # images=[np.concatenate([trial_edit_data['modified_imgs'], trial_edit_data['imgs'], trial_edit_data['masks']], axis=0)],\n",
    "                image_titles=[['key', 'value', 'mask']])\n",
    "        edit_MNIST(\n",
    "            config=config,\n",
    "            test_data_loader=test_data_loader,\n",
    "            covariance_data_loader=covariance_data_loader,\n",
    "            edit_data=EAC_edit_data,\n",
    "            do_analyze_knn=analyze_in_edit)\n",
    "        \n",
    "def run_trials_w_data_loader(edit_data_loader: torch.utils.data.DataLoader,\n",
    "               progress_report_path: str,\n",
    "               trial_paths_path: str,\n",
    "               config_dict: dict,\n",
    "               run_id_prefix: str=\"\",\n",
    "               debug=True): \n",
    "    \n",
    "    n_trials = len(edit_data)\n",
    "    \n",
    "    for idx, (EAC_edit_data, labels) in enumerate(edit_data_loader):\n",
    "        informal_log(\"({}) Starting Trial {}/{}...\".format(\n",
    "            datetime.now().strftime(r'%m%d_%H%M%S'), \n",
    "            idx + 1, n_trials), \n",
    "            progress_report_path)\n",
    "        run_id = os.path.join(run_id_prefix, 'results', 'edit_idx_{}'.format(idx))\n",
    "\n",
    "        config = ConfigParser(config_dict, run_id=run_id)\n",
    "        \n",
    "        trial_save_dir = config.save_dir\n",
    "        cur_trial_path = os.path.dirname(trial_save_dir)\n",
    "\n",
    "        informal_log(cur_trial_path, trial_paths_path)\n",
    "        edit_data_save_path = os.path.join(trial_save_dir, 'edit_data.pt')\n",
    "        if len(EAC_edit_data['imgs'].shape) == 5:\n",
    "            for key, item in EAC_edit_data.items():\n",
    "                item = torch.squeeze(item, dim=0)\n",
    "                EAC_edit_data[key] = item\n",
    "        # key_save_path = os.path.join(trial_save_dir, 'keys.pt')\n",
    "        # value_save_path =os.path.join(trial_save_dir, 'values.pt')\n",
    "        # keys, values, labels = cur_edit_data\n",
    "        # trial_edit_data = prepare_edit_data_eac(\n",
    "        #         keys=keys,\n",
    "        #         values=values,\n",
    "        #         labels=labels)\n",
    "        \n",
    "        torch.save(EAC_edit_data, edit_data_save_path)\n",
    "        \n",
    "        # EAC_edit_data['masks'] = EAC_edit_data['masks'].to(torch.int32)\n",
    "        print(EAC_edit_data['masks'].shape)\n",
    "        if debug:\n",
    "            display_images = images=[EAC_edit_data['modified_imgs'], EAC_edit_data['imgs'], EAC_edit_data['masks'].repeat(1, 3, 1, 1)]\n",
    "            print(len(display_images), len(display_images[0]))\n",
    "            show_image_rows(\n",
    "                # images=[np.concatenate([EAC_edit_data['modified_imgs'], EAC_edit_data['imgs'], EAC_edit_data['masks'].repeat(1, 3, 1, 1)], axis=0)],\n",
    "                images=[EAC_edit_data['modified_imgs'], EAC_edit_data['imgs'], EAC_edit_data['masks'].repeat(1, 3, 1, 1).to(torch.float32)],\n",
    "                row_labels=['key', 'value', 'mask'])\n",
    "        edit_MNIST(\n",
    "            config=config,\n",
    "            test_data_loader=test_data_loader,\n",
    "            covariance_data_loader=covariance_data_loader,\n",
    "            edit_data=EAC_edit_data,\n",
    "            do_analyze_knn=analyze_in_edit)"
   ]
  },
  {
   "cell_type": "code",
   "execution_count": 14,
   "metadata": {},
   "outputs": [],
   "source": [
    "def run_experiments(iv_name: str,\n",
    "                    iv_values: list,\n",
    "                    EAC_edit_data: list,\n",
    "                    progress_report_path: str,\n",
    "                    trial_paths_path: str,\n",
    "                    timestamp: str,\n",
    "                    config_dict: dict,\n",
    "                    debug=True):\n",
    "    \n",
    "    assert iv_name in config_dict.keys()\n",
    "    n_experiments = len(iv_values)\n",
    "    for iv_idx, iv_value in enumerate(iv_values):\n",
    "        config_dict[iv_name] = iv_value\n",
    "        informal_log(\"Experimenting with {} of {}\".format(iv_name, iv_value), progress_report_path)\n",
    "        \n",
    "        run_id_prefix = os.path.join(timestamp, '{}_{}'.format(iv_name, iv_value))\n",
    "        run_trials(\n",
    "            EAC_edit_data=EAC_edit_data,\n",
    "            progress_report_path=progress_report_path,\n",
    "            trial_paths_path=trial_paths_path,\n",
    "            config_dict=config_dict,\n",
    "            run_id_prefix=run_id_prefix,\n",
    "            debug=debug)\n",
    "            "
   ]
  },
  {
   "cell_type": "markdown",
   "metadata": {},
   "source": [
    "#### Run experiments varying layer number"
   ]
  },
  {
   "cell_type": "code",
   "execution_count": 18,
   "metadata": {
    "scrolled": true,
    "tags": []
   },
   "outputs": [
    {
     "name": "stdout",
     "output_type": "stream",
     "text": [
      "Varying layernum with following values: [1, 2, 3, 4, 5, 6, 7, 8, 9, 10, 11, 12]\n",
      "Experimenting with layernum of 1\n",
      "(0320_111959) Starting Trial 1/1...\n",
      "saved/edit_2_Spurious_MNIST/method_eac/VGG_16-layernum/0320_111512/layernum_1/results/edit_idx_0\n",
      "torch.Size([1, 3, 32, 32]) torch.Size([1, 3, 32, 32])\n",
      "torch.Size([1, 1, 32, 32])\n",
      "torch.float32\n"
     ]
    },
    {
     "data": {
      "image/png": "[encoded data removed]",
      "text/plain": [
       "<Figure size 750x250 with 3 Axes>"
      ]
     },
     "metadata": {},
     "output_type": "display_data"
    },
    {
     "name": "stdout",
     "output_type": "stream",
     "text": [
      "Editing layer 1\n",
      "Created ModelWrapperSanturkar model with 33646666 trainable parameters\n",
      "Restored weights from saved/train/2_Spurious_MNIST-VGG_16/0317_134644/models/model_best.pth\n",
      "Using passed in data loader for validation.\n",
      "Edit initialization arguments:\n",
      "n_hold_out_per_class: 50\n",
      "data_dir: saved/edit_data/{}/hold_out_{}\n",
      "mask_path: None\n",
      "image_size: [32, 32]\n",
      "edit_idxs_file: edit_idxs.txt\n",
      "edit_pool_file: test_hold_out_{}_eac.pt\n",
      "---***---\n",
      "Performing pre-edit metric calculations on validation set.\n"
     ]
    },
    {
     "name": "stderr",
     "output_type": "stream",
     "text": [
      "100%|███████████████████████████████████████████████████████████| 38/38 [00:01<00:00, 26.06it/s]"
     ]
    },
    {
     "name": "stdout",
     "output_type": "stream",
     "text": [
      "Pre-edit metrics: {'TP': array([448, 537, 520, 498, 452, 423, 437, 473, 454, 454]), 'TN': array([8326, 8375, 8215, 7553, 7786, 8244, 8367, 7920, 7888, 8022]), 'FPs': array([244,  40, 303, 987, 782, 414, 225, 602, 688, 519]), 'FNs': array([482, 548, 462, 462, 480, 419, 471, 505, 470, 505]), 'accuracy': 0.4943157894736842, 'per_class_accuracy': array([0.92357895, 0.93810526, 0.91947368, 0.84747368, 0.86715789,\n",
      "       0.91231579, 0.92673684, 0.88347368, 0.87810526, 0.89221053]), 'per_class_accuracy_mean': 0.8988631578947368, 'precision': array([0.64739884, 0.93067591, 0.63183475, 0.33535354, 0.36628849,\n",
      "       0.50537634, 0.66012085, 0.44      , 0.39754816, 0.46659815]), 'precision_mean': 0.53811950339605, 'recall': array([0.48172043, 0.49493088, 0.52953157, 0.51875   , 0.48497854,\n",
      "       0.5023753 , 0.48127753, 0.48364008, 0.49134199, 0.4734098 ]), 'recall_mean': 0.4941956119654501, 'predicted_class_distribution': array([ 692,  577,  823, 1485, 1234,  837,  662, 1075, 1142,  973]), 'f1': array([0.55240444, 0.64620939, 0.57617729, 0.40736196, 0.41735919,\n",
      "       0.50387135, 0.5566879 , 0.46078909, 0.43949661, 0.4699793 ]), 'f1_mean': 0.5030336508295632}\n",
      "Saved pre-edit metrics saved/edit_2_Spurious_MNIST/method_eac/VGG_16-layernum/0320_111512/layernum_1/results/edit_idx_0/models/pre_edit_metrics.pth\n"
     ]
    },
    {
     "name": "stderr",
     "output_type": "stream",
     "text": [
      "\n"
     ]
    },
    {
     "name": "stdout",
     "output_type": "stream",
     "text": [
      "Saved pre-edit logits to saved/edit_2_Spurious_MNIST/method_eac/VGG_16-layernum/0320_111512/layernum_1/results/edit_idx_0/models/pre_edit_logits.pth\n",
      "Created <class 'trainer.editor.EditorEAC'> editor.\n",
      "Using passed in covariance data loader.\n",
      "Looking for covariance matrix weights in cache/2_Spurious_MNIST_hold_out/vgg16_bn-1\n",
      "Computing cov matrices...\n"
     ]
    },
    {
     "name": "stderr",
     "output_type": "stream",
     "text": [
      "100%|█████████████████████████████████████████████████████████████| 2/2 [00:00<00:00, 12.52it/s]\n"
     ]
    },
    {
     "name": "stdout",
     "output_type": "stream",
     "text": [
      "acts shape: torch.Size([256, 64, 32, 32])\n",
      "acts shape: torch.Size([244, 64, 32, 32])\n",
      "Cov shape: torch.Size([64, 64])\n"
     ]
    },
    {
     "name": "stderr",
     "output_type": "stream",
     "text": [
      "tensor(1.0251, device='cuda:0', grad_fn=<DivBackward0>): 100%|█| 40000/40000 [00:53<00:00, 752.5\n"
     ]
    },
    {
     "name": "stdout",
     "output_type": "stream",
     "text": [
      "Loss (orig, final): 0.43151694536209106 1.025132656097412\n",
      "L2 norm of weight change: 40.20195007324219\n",
      "Performing post-edit metric calculations on validation set.\n"
     ]
    },
    {
     "name": "stderr",
     "output_type": "stream",
     "text": [
      "100%|███████████████████████████████████████████████████████████| 38/38 [00:01<00:00, 25.16it/s]"
     ]
    },
    {
     "name": "stdout",
     "output_type": "stream",
     "text": [
      "Post-edit metrics: {'TP': array([448, 534, 611, 844, 453,  69, 116,  90, 134,  41]), 'TN': array([8366, 8397, 8112, 4626, 7874, 8606, 8510, 8462, 7867, 8520]), 'FPs': array([ 204,   18,  406, 3914,  694,   52,   82,   60,  709,   21]), 'FNs': array([482, 551, 371, 116, 479, 773, 792, 888, 790, 918]), 'accuracy': 0.35157894736842105, 'per_class_accuracy': array([0.92778947, 0.94010526, 0.91821053, 0.57578947, 0.87652632,\n",
      "       0.91315789, 0.908     , 0.90021053, 0.84221053, 0.90115789]), 'per_class_accuracy_mean': 0.8703157894736842, 'precision': array([0.68711656, 0.9673913 , 0.60078663, 0.17738546, 0.39494333,\n",
      "       0.57024793, 0.58585859, 0.6       , 0.15895611, 0.66129032]), 'precision_mean': 0.5403976234059058, 'recall': array([0.48172043, 0.4921659 , 0.62219959, 0.87916667, 0.4860515 ,\n",
      "       0.08194774, 0.1277533 , 0.09202454, 0.14502165, 0.04275287]), 'recall_mean': 0.34508041901076747, 'predicted_class_distribution': array([ 652,  552, 1017, 4758, 1147,  121,  198,  150,  843,   62]), 'f1': array([0.56637168, 0.65241295, 0.61130565, 0.29520811, 0.43578644,\n",
      "       0.14330218, 0.20976492, 0.15957447, 0.1516695 , 0.08031342]), 'f1_mean': 0.33057093172084745}\n",
      "Saved post-edit metrics saved/edit_2_Spurious_MNIST/method_eac/VGG_16-layernum/0320_111512/layernum_1/results/edit_idx_0/models/post_edit_metrics.pth\n"
     ]
    },
    {
     "name": "stderr",
     "output_type": "stream",
     "text": [
      "\n"
     ]
    },
    {
     "name": "stdout",
     "output_type": "stream",
     "text": [
      "Saved post-edit logits to saved/edit_2_Spurious_MNIST/method_eac/VGG_16-layernum/0320_111512/layernum_1/results/edit_idx_0/models/post_edit_logits.pth\n",
      "All metrics and KNN results can be found in saved/edit_2_Spurious_MNIST/method_eac/VGG_16-layernum/0320_111512/layernum_1/results/edit_idx_0/models\n",
      "Experimenting with layernum of 2\n",
      "(0320_112058) Starting Trial 1/1...\n",
      "saved/edit_2_Spurious_MNIST/method_eac/VGG_16-layernum/0320_111512/layernum_2/results/edit_idx_0\n",
      "torch.Size([1, 3, 32, 32]) torch.Size([1, 3, 32, 32])\n",
      "torch.Size([1, 1, 32, 32])\n",
      "torch.float32\n"
     ]
    },
    {
     "data": {
      "image/png": "[encoded data removed]",
      "text/plain": [
       "<Figure size 750x250 with 3 Axes>"
      ]
     },
     "metadata": {},
     "output_type": "display_data"
    },
    {
     "name": "stdout",
     "output_type": "stream",
     "text": [
      "Editing layer 2\n",
      "Created ModelWrapperSanturkar model with 33646666 trainable parameters\n",
      "Restored weights from saved/train/2_Spurious_MNIST-VGG_16/0317_134644/models/model_best.pth\n",
      "Using passed in data loader for validation.\n",
      "Edit initialization arguments:\n",
      "n_hold_out_per_class: 50\n",
      "data_dir: saved/edit_data/{}/hold_out_{}\n",
      "mask_path: None\n",
      "image_size: [32, 32]\n",
      "edit_idxs_file: edit_idxs.txt\n",
      "edit_pool_file: test_hold_out_{}_eac.pt\n",
      "---***---\n",
      "Performing pre-edit metric calculations on validation set.\n"
     ]
    },
    {
     "name": "stderr",
     "output_type": "stream",
     "text": [
      "100%|███████████████████████████████████████████████████████████| 38/38 [00:01<00:00, 25.67it/s]"
     ]
    },
    {
     "name": "stdout",
     "output_type": "stream",
     "text": [
      "Pre-edit metrics: {'TP': array([448, 537, 520, 498, 452, 423, 437, 473, 454, 454]), 'TN': array([8326, 8375, 8215, 7553, 7786, 8244, 8367, 7920, 7888, 8022]), 'FPs': array([244,  40, 303, 987, 782, 414, 225, 602, 688, 519]), 'FNs': array([482, 548, 462, 462, 480, 419, 471, 505, 470, 505]), 'accuracy': 0.4943157894736842, 'per_class_accuracy': array([0.92357895, 0.93810526, 0.91947368, 0.84747368, 0.86715789,\n",
      "       0.91231579, 0.92673684, 0.88347368, 0.87810526, 0.89221053]), 'per_class_accuracy_mean': 0.8988631578947368, 'precision': array([0.64739884, 0.93067591, 0.63183475, 0.33535354, 0.36628849,\n",
      "       0.50537634, 0.66012085, 0.44      , 0.39754816, 0.46659815]), 'precision_mean': 0.53811950339605, 'recall': array([0.48172043, 0.49493088, 0.52953157, 0.51875   , 0.48497854,\n",
      "       0.5023753 , 0.48127753, 0.48364008, 0.49134199, 0.4734098 ]), 'recall_mean': 0.4941956119654501, 'predicted_class_distribution': array([ 692,  577,  823, 1485, 1234,  837,  662, 1075, 1142,  973]), 'f1': array([0.55240444, 0.64620939, 0.57617729, 0.40736196, 0.41735919,\n",
      "       0.50387135, 0.5566879 , 0.46078909, 0.43949661, 0.4699793 ]), 'f1_mean': 0.5030336508295632}\n",
      "Saved pre-edit metrics saved/edit_2_Spurious_MNIST/method_eac/VGG_16-layernum/0320_111512/layernum_2/results/edit_idx_0/models/pre_edit_metrics.pth\n"
     ]
    },
    {
     "name": "stderr",
     "output_type": "stream",
     "text": [
      "\n"
     ]
    },
    {
     "name": "stdout",
     "output_type": "stream",
     "text": [
      "Saved pre-edit logits to saved/edit_2_Spurious_MNIST/method_eac/VGG_16-layernum/0320_111512/layernum_2/results/edit_idx_0/models/pre_edit_logits.pth\n",
      "Created <class 'trainer.editor.EditorEAC'> editor.\n",
      "Using passed in covariance data loader.\n",
      "Looking for covariance matrix weights in cache/2_Spurious_MNIST_hold_out/vgg16_bn-2\n",
      "Computing cov matrices...\n"
     ]
    },
    {
     "name": "stderr",
     "output_type": "stream",
     "text": [
      "100%|█████████████████████████████████████████████████████████████| 2/2 [00:00<00:00, 15.23it/s]\n"
     ]
    },
    {
     "name": "stdout",
     "output_type": "stream",
     "text": [
      "acts shape: torch.Size([256, 64, 16, 16])\n",
      "acts shape: torch.Size([244, 64, 16, 16])\n",
      "Cov shape: torch.Size([64, 64])\n"
     ]
    },
    {
     "name": "stderr",
     "output_type": "stream",
     "text": [
      "tensor(0.3055, device='cuda:0', grad_fn=<DivBackward0>): 100%|█| 40000/40000 [00:45<00:00, 870.6\n"
     ]
    },
    {
     "name": "stdout",
     "output_type": "stream",
     "text": [
      "Loss (orig, final): 0.3500983417034149 0.3054737448692322\n",
      "L2 norm of weight change: 19.457849502563477\n",
      "Performing post-edit metric calculations on validation set.\n"
     ]
    },
    {
     "name": "stderr",
     "output_type": "stream",
     "text": [
      "100%|███████████████████████████████████████████████████████████| 38/38 [00:01<00:00, 25.89it/s]\n"
     ]
    },
    {
     "name": "stdout",
     "output_type": "stream",
     "text": [
      "Post-edit metrics: {'TP': array([464, 539, 638, 502, 513, 411, 268, 412, 297, 204]), 'TN': array([8342, 8390, 7966, 7381, 7811, 7264, 8561, 7940, 8176, 8417]), 'FPs': array([ 228,   25,  552, 1159,  757, 1394,   31,  582,  400,  124]), 'FNs': array([466, 546, 344, 458, 419, 431, 640, 566, 627, 755]), 'accuracy': 0.4471578947368421, 'per_class_accuracy': array([0.92694737, 0.93989474, 0.90568421, 0.82978947, 0.87621053,\n",
      "       0.80789474, 0.92936842, 0.87915789, 0.89189474, 0.90747368]), 'per_class_accuracy_mean': 0.8894315789473686, 'precision': array([0.67052023, 0.95567376, 0.53613445, 0.30222757, 0.40393701,\n",
      "       0.22770083, 0.89632107, 0.41448692, 0.42611191, 0.62195122]), 'precision_mean': 0.5455064975963722, 'recall': array([0.49892473, 0.49677419, 0.6496945 , 0.52291667, 0.55042918,\n",
      "       0.48812352, 0.29515419, 0.42126789, 0.32142857, 0.21272158]), 'recall_mean': 0.4457435027500454, 'predicted_class_distribution': array([ 692,  564, 1190, 1661, 1270, 1805,  299,  994,  697,  328]), 'f1': array([0.57213317, 0.65372953, 0.58747698, 0.3830599 , 0.46594005,\n",
      "       0.31054023, 0.44407622, 0.4178499 , 0.36644047, 0.31701632]), 'f1_mean': 0.4518262777725258}\n",
      "Saved post-edit metrics saved/edit_2_Spurious_MNIST/method_eac/VGG_16-layernum/0320_111512/layernum_2/results/edit_idx_0/models/post_edit_metrics.pth\n",
      "Saved post-edit logits to saved/edit_2_Spurious_MNIST/method_eac/VGG_16-layernum/0320_111512/layernum_2/results/edit_idx_0/models/post_edit_logits.pth\n",
      "All metrics and KNN results can be found in saved/edit_2_Spurious_MNIST/method_eac/VGG_16-layernum/0320_111512/layernum_2/results/edit_idx_0/models\n",
      "Experimenting with layernum of 3\n",
      "(0320_112150) Starting Trial 1/1...\n",
      "saved/edit_2_Spurious_MNIST/method_eac/VGG_16-layernum/0320_111512/layernum_3/results/edit_idx_0\n",
      "torch.Size([1, 3, 32, 32]) torch.Size([1, 3, 32, 32])\n",
      "torch.Size([1, 1, 32, 32])\n",
      "torch.float32\n"
     ]
    },
    {
     "data": {
      "image/png": "[encoded data removed]",
      "text/plain": [
       "<Figure size 750x250 with 3 Axes>"
      ]
     },
     "metadata": {},
     "output_type": "display_data"
    },
    {
     "name": "stdout",
     "output_type": "stream",
     "text": [
      "Editing layer 3\n",
      "Created ModelWrapperSanturkar model with 33646666 trainable parameters\n",
      "Restored weights from saved/train/2_Spurious_MNIST-VGG_16/0317_134644/models/model_best.pth\n",
      "Using passed in data loader for validation.\n",
      "Edit initialization arguments:\n",
      "n_hold_out_per_class: 50\n",
      "data_dir: saved/edit_data/{}/hold_out_{}\n",
      "mask_path: None\n",
      "image_size: [32, 32]\n",
      "edit_idxs_file: edit_idxs.txt\n",
      "edit_pool_file: test_hold_out_{}_eac.pt\n",
      "---***---\n",
      "Performing pre-edit metric calculations on validation set.\n"
     ]
    },
    {
     "name": "stderr",
     "output_type": "stream",
     "text": [
      "100%|███████████████████████████████████████████████████████████| 38/38 [00:01<00:00, 25.71it/s]"
     ]
    },
    {
     "name": "stdout",
     "output_type": "stream",
     "text": [
      "Pre-edit metrics: {'TP': array([448, 537, 520, 498, 452, 423, 437, 473, 454, 454]), 'TN': array([8326, 8375, 8215, 7553, 7786, 8244, 8367, 7920, 7888, 8022]), 'FPs': array([244,  40, 303, 987, 782, 414, 225, 602, 688, 519]), 'FNs': array([482, 548, 462, 462, 480, 419, 471, 505, 470, 505]), 'accuracy': 0.4943157894736842, 'per_class_accuracy': array([0.92357895, 0.93810526, 0.91947368, 0.84747368, 0.86715789,\n",
      "       0.91231579, 0.92673684, 0.88347368, 0.87810526, 0.89221053]), 'per_class_accuracy_mean': 0.8988631578947368, 'precision': array([0.64739884, 0.93067591, 0.63183475, 0.33535354, 0.36628849,\n",
      "       0.50537634, 0.66012085, 0.44      , 0.39754816, 0.46659815]), 'precision_mean': 0.53811950339605, 'recall': array([0.48172043, 0.49493088, 0.52953157, 0.51875   , 0.48497854,\n",
      "       0.5023753 , 0.48127753, 0.48364008, 0.49134199, 0.4734098 ]), 'recall_mean': 0.4941956119654501, 'predicted_class_distribution': array([ 692,  577,  823, 1485, 1234,  837,  662, 1075, 1142,  973]), 'f1': array([0.55240444, 0.64620939, 0.57617729, 0.40736196, 0.41735919,\n",
      "       0.50387135, 0.5566879 , 0.46078909, 0.43949661, 0.4699793 ]), 'f1_mean': 0.5030336508295632}\n",
      "Saved pre-edit metrics saved/edit_2_Spurious_MNIST/method_eac/VGG_16-layernum/0320_111512/layernum_3/results/edit_idx_0/models/pre_edit_metrics.pth\n"
     ]
    },
    {
     "name": "stderr",
     "output_type": "stream",
     "text": [
      "\n"
     ]
    },
    {
     "name": "stdout",
     "output_type": "stream",
     "text": [
      "Saved pre-edit logits to saved/edit_2_Spurious_MNIST/method_eac/VGG_16-layernum/0320_111512/layernum_3/results/edit_idx_0/models/pre_edit_logits.pth\n",
      "Created <class 'trainer.editor.EditorEAC'> editor.\n",
      "Using passed in covariance data loader.\n",
      "Looking for covariance matrix weights in cache/2_Spurious_MNIST_hold_out/vgg16_bn-3\n",
      "Computing cov matrices...\n"
     ]
    },
    {
     "name": "stderr",
     "output_type": "stream",
     "text": [
      "100%|█████████████████████████████████████████████████████████████| 2/2 [00:00<00:00, 14.19it/s]\n"
     ]
    },
    {
     "name": "stdout",
     "output_type": "stream",
     "text": [
      "acts shape: torch.Size([256, 128, 16, 16])\n",
      "acts shape: torch.Size([244, 128, 16, 16])\n",
      "Cov shape: torch.Size([128, 128])\n"
     ]
    },
    {
     "name": "stderr",
     "output_type": "stream",
     "text": [
      "tensor(0.5285, device='cuda:0', grad_fn=<DivBackward0>): 100%|█| 40000/40000 [00:54<00:00, 733.2\n"
     ]
    },
    {
     "name": "stdout",
     "output_type": "stream",
     "text": [
      "Loss (orig, final): 0.5816529989242554 0.5285232663154602\n",
      "L2 norm of weight change: 18.56880760192871\n",
      "Performing post-edit metric calculations on validation set.\n"
     ]
    },
    {
     "name": "stderr",
     "output_type": "stream",
     "text": [
      "100%|███████████████████████████████████████████████████████████| 38/38 [00:01<00:00, 25.12it/s]"
     ]
    },
    {
     "name": "stdout",
     "output_type": "stream",
     "text": [
      "Post-edit metrics: {'TP': array([448, 534, 587, 511, 451, 358, 333, 388, 444, 303]), 'TN': array([8382, 8404, 8069, 7246, 7855, 8089, 8530, 8270, 7193, 8319]), 'FPs': array([ 188,   11,  449, 1294,  713,  569,   62,  252, 1383,  222]), 'FNs': array([482, 551, 395, 449, 481, 484, 575, 590, 480, 656]), 'accuracy': 0.45863157894736845, 'per_class_accuracy': array([0.92947368, 0.94084211, 0.91115789, 0.81652632, 0.87431579,\n",
      "       0.88915789, 0.93294737, 0.91136842, 0.80389474, 0.90757895]), 'per_class_accuracy_mean': 0.8917263157894737, 'precision': array([0.70440252, 0.97981651, 0.56660232, 0.28310249, 0.38745704,\n",
      "       0.38619202, 0.84303797, 0.60625   , 0.24302135, 0.57714286]), 'precision_mean': 0.5577025079391389, 'recall': array([0.48172043, 0.4921659 , 0.59775967, 0.53229167, 0.48390558,\n",
      "       0.42517815, 0.36674009, 0.39672802, 0.48051948, 0.31595412]), 'recall_mean': 0.4572963100052627, 'predicted_class_distribution': array([ 636,  545, 1036, 1805, 1164,  927,  395,  640, 1827,  525]), 'f1': array([0.57215837, 0.65521472, 0.58176412, 0.36962025, 0.43034351,\n",
      "       0.40474845, 0.51112817, 0.47960445, 0.32279171, 0.4083558 ]), 'f1_mean': 0.4735729545108923}\n"
     ]
    },
    {
     "name": "stderr",
     "output_type": "stream",
     "text": [
      "\n"
     ]
    },
    {
     "name": "stdout",
     "output_type": "stream",
     "text": [
      "Saved post-edit metrics saved/edit_2_Spurious_MNIST/method_eac/VGG_16-layernum/0320_111512/layernum_3/results/edit_idx_0/models/post_edit_metrics.pth\n",
      "Saved post-edit logits to saved/edit_2_Spurious_MNIST/method_eac/VGG_16-layernum/0320_111512/layernum_3/results/edit_idx_0/models/post_edit_logits.pth\n",
      "All metrics and KNN results can be found in saved/edit_2_Spurious_MNIST/method_eac/VGG_16-layernum/0320_111512/layernum_3/results/edit_idx_0/models\n",
      "Experimenting with layernum of 4\n",
      "(0320_112250) Starting Trial 1/1...\n",
      "saved/edit_2_Spurious_MNIST/method_eac/VGG_16-layernum/0320_111512/layernum_4/results/edit_idx_0\n",
      "torch.Size([1, 3, 32, 32]) torch.Size([1, 3, 32, 32])\n",
      "torch.Size([1, 1, 32, 32])\n",
      "torch.float32\n"
     ]
    },
    {
     "data": {
      "image/png": "[encoded data removed]",
      "text/plain": [
       "<Figure size 750x250 with 3 Axes>"
      ]
     },
     "metadata": {},
     "output_type": "display_data"
    },
    {
     "name": "stdout",
     "output_type": "stream",
     "text": [
      "Editing layer 4\n",
      "Created ModelWrapperSanturkar model with 33646666 trainable parameters\n",
      "Restored weights from saved/train/2_Spurious_MNIST-VGG_16/0317_134644/models/model_best.pth\n",
      "Using passed in data loader for validation.\n",
      "Edit initialization arguments:\n",
      "n_hold_out_per_class: 50\n",
      "data_dir: saved/edit_data/{}/hold_out_{}\n",
      "mask_path: None\n",
      "image_size: [32, 32]\n",
      "edit_idxs_file: edit_idxs.txt\n",
      "edit_pool_file: test_hold_out_{}_eac.pt\n",
      "---***---\n",
      "Performing pre-edit metric calculations on validation set.\n"
     ]
    },
    {
     "name": "stderr",
     "output_type": "stream",
     "text": [
      "100%|███████████████████████████████████████████████████████████| 38/38 [00:01<00:00, 25.87it/s]"
     ]
    },
    {
     "name": "stdout",
     "output_type": "stream",
     "text": [
      "Pre-edit metrics: {'TP': array([448, 537, 520, 498, 452, 423, 437, 473, 454, 454]), 'TN': array([8326, 8375, 8215, 7553, 7786, 8244, 8367, 7920, 7888, 8022]), 'FPs': array([244,  40, 303, 987, 782, 414, 225, 602, 688, 519]), 'FNs': array([482, 548, 462, 462, 480, 419, 471, 505, 470, 505]), 'accuracy': 0.4943157894736842, 'per_class_accuracy': array([0.92357895, 0.93810526, 0.91947368, 0.84747368, 0.86715789,\n",
      "       0.91231579, 0.92673684, 0.88347368, 0.87810526, 0.89221053]), 'per_class_accuracy_mean': 0.8988631578947368, 'precision': array([0.64739884, 0.93067591, 0.63183475, 0.33535354, 0.36628849,\n",
      "       0.50537634, 0.66012085, 0.44      , 0.39754816, 0.46659815]), 'precision_mean': 0.53811950339605, 'recall': array([0.48172043, 0.49493088, 0.52953157, 0.51875   , 0.48497854,\n",
      "       0.5023753 , 0.48127753, 0.48364008, 0.49134199, 0.4734098 ]), 'recall_mean': 0.4941956119654501, 'predicted_class_distribution': array([ 692,  577,  823, 1485, 1234,  837,  662, 1075, 1142,  973]), 'f1': array([0.55240444, 0.64620939, 0.57617729, 0.40736196, 0.41735919,\n",
      "       0.50387135, 0.5566879 , 0.46078909, 0.43949661, 0.4699793 ]), 'f1_mean': 0.5030336508295632}\n",
      "Saved pre-edit metrics saved/edit_2_Spurious_MNIST/method_eac/VGG_16-layernum/0320_111512/layernum_4/results/edit_idx_0/models/pre_edit_metrics.pth\n"
     ]
    },
    {
     "name": "stderr",
     "output_type": "stream",
     "text": [
      "\n"
     ]
    },
    {
     "name": "stdout",
     "output_type": "stream",
     "text": [
      "Saved pre-edit logits to saved/edit_2_Spurious_MNIST/method_eac/VGG_16-layernum/0320_111512/layernum_4/results/edit_idx_0/models/pre_edit_logits.pth\n",
      "Created <class 'trainer.editor.EditorEAC'> editor.\n",
      "Using passed in covariance data loader.\n",
      "Looking for covariance matrix weights in cache/2_Spurious_MNIST_hold_out/vgg16_bn-4\n",
      "Computing cov matrices...\n"
     ]
    },
    {
     "name": "stderr",
     "output_type": "stream",
     "text": [
      "100%|█████████████████████████████████████████████████████████████| 2/2 [00:00<00:00, 14.91it/s]\n"
     ]
    },
    {
     "name": "stdout",
     "output_type": "stream",
     "text": [
      "acts shape: torch.Size([256, 128, 8, 8])\n",
      "acts shape: torch.Size([244, 128, 8, 8])\n",
      "Cov shape: torch.Size([128, 128])\n"
     ]
    },
    {
     "name": "stderr",
     "output_type": "stream",
     "text": [
      "tensor(0.2477, device='cuda:0', grad_fn=<DivBackward0>): 100%|█| 40000/40000 [00:53<00:00, 752.1\n"
     ]
    },
    {
     "name": "stdout",
     "output_type": "stream",
     "text": [
      "Loss (orig, final): 0.4418451488018036 0.24772359430789948\n",
      "L2 norm of weight change: 13.6729736328125\n",
      "Performing post-edit metric calculations on validation set.\n"
     ]
    },
    {
     "name": "stderr",
     "output_type": "stream",
     "text": [
      "100%|███████████████████████████████████████████████████████████| 38/38 [00:01<00:00, 24.76it/s]"
     ]
    },
    {
     "name": "stdout",
     "output_type": "stream",
     "text": [
      "Post-edit metrics: {'TP': array([447, 540, 534, 499, 450, 418, 434, 473, 455, 439]), 'TN': array([8334, 8383, 8150, 7455, 7924, 8277, 8371, 7933, 7764, 8098]), 'FPs': array([ 236,   32,  368, 1085,  644,  381,  221,  589,  812,  443]), 'FNs': array([483, 545, 448, 461, 482, 424, 474, 505, 469, 520]), 'accuracy': 0.49357894736842106, 'per_class_accuracy': array([0.92431579, 0.93926316, 0.91410526, 0.83726316, 0.88147368,\n",
      "       0.91526316, 0.92684211, 0.88484211, 0.86515789, 0.89863158]), 'per_class_accuracy_mean': 0.8987157894736842, 'precision': array([0.65446559, 0.94405594, 0.59201774, 0.31502525, 0.41133455,\n",
      "       0.52315394, 0.66259542, 0.44538606, 0.35911602, 0.49773243]), 'precision_mean': 0.5404882954723754, 'recall': array([0.48064516, 0.49769585, 0.54378819, 0.51979167, 0.48283262,\n",
      "       0.49643705, 0.47797357, 0.48364008, 0.49242424, 0.45776851]), 'recall_mean': 0.4932996941891011, 'predicted_class_distribution': array([ 683,  572,  902, 1584, 1094,  799,  655, 1062, 1267,  882]), 'f1': array([0.55424675, 0.65178033, 0.56687898, 0.3922956 , 0.44422507,\n",
      "       0.50944546, 0.55534229, 0.46372549, 0.41533546, 0.47691472]), 'f1_mean': 0.5030190147766918}\n",
      "Saved post-edit metrics saved/edit_2_Spurious_MNIST/method_eac/VGG_16-layernum/0320_111512/layernum_4/results/edit_idx_0/models/post_edit_metrics.pth\n"
     ]
    },
    {
     "name": "stderr",
     "output_type": "stream",
     "text": [
      "\n"
     ]
    },
    {
     "name": "stdout",
     "output_type": "stream",
     "text": [
      "Saved post-edit logits to saved/edit_2_Spurious_MNIST/method_eac/VGG_16-layernum/0320_111512/layernum_4/results/edit_idx_0/models/post_edit_logits.pth\n",
      "All metrics and KNN results can be found in saved/edit_2_Spurious_MNIST/method_eac/VGG_16-layernum/0320_111512/layernum_4/results/edit_idx_0/models\n",
      "Experimenting with layernum of 5\n",
      "(0320_112349) Starting Trial 1/1...\n",
      "saved/edit_2_Spurious_MNIST/method_eac/VGG_16-layernum/0320_111512/layernum_5/results/edit_idx_0\n",
      "torch.Size([1, 3, 32, 32]) torch.Size([1, 3, 32, 32])\n",
      "torch.Size([1, 1, 32, 32])\n",
      "torch.float32\n"
     ]
    },
    {
     "data": {
      "image/png": "[encoded data removed]",
      "text/plain": [
       "<Figure size 750x250 with 3 Axes>"
      ]
     },
     "metadata": {},
     "output_type": "display_data"
    },
    {
     "name": "stdout",
     "output_type": "stream",
     "text": [
      "Editing layer 5\n",
      "Created ModelWrapperSanturkar model with 33646666 trainable parameters\n",
      "Restored weights from saved/train/2_Spurious_MNIST-VGG_16/0317_134644/models/model_best.pth\n",
      "Using passed in data loader for validation.\n",
      "Edit initialization arguments:\n",
      "n_hold_out_per_class: 50\n",
      "data_dir: saved/edit_data/{}/hold_out_{}\n",
      "mask_path: None\n",
      "image_size: [32, 32]\n",
      "edit_idxs_file: edit_idxs.txt\n",
      "edit_pool_file: test_hold_out_{}_eac.pt\n",
      "---***---\n",
      "Performing pre-edit metric calculations on validation set.\n"
     ]
    },
    {
     "name": "stderr",
     "output_type": "stream",
     "text": [
      "100%|███████████████████████████████████████████████████████████| 38/38 [00:01<00:00, 25.34it/s]"
     ]
    },
    {
     "name": "stdout",
     "output_type": "stream",
     "text": [
      "Pre-edit metrics: {'TP': array([448, 537, 520, 498, 452, 423, 437, 473, 454, 454]), 'TN': array([8326, 8375, 8215, 7553, 7786, 8244, 8367, 7920, 7888, 8022]), 'FPs': array([244,  40, 303, 987, 782, 414, 225, 602, 688, 519]), 'FNs': array([482, 548, 462, 462, 480, 419, 471, 505, 470, 505]), 'accuracy': 0.4943157894736842, 'per_class_accuracy': array([0.92357895, 0.93810526, 0.91947368, 0.84747368, 0.86715789,\n",
      "       0.91231579, 0.92673684, 0.88347368, 0.87810526, 0.89221053]), 'per_class_accuracy_mean': 0.8988631578947368, 'precision': array([0.64739884, 0.93067591, 0.63183475, 0.33535354, 0.36628849,\n",
      "       0.50537634, 0.66012085, 0.44      , 0.39754816, 0.46659815]), 'precision_mean': 0.53811950339605, 'recall': array([0.48172043, 0.49493088, 0.52953157, 0.51875   , 0.48497854,\n",
      "       0.5023753 , 0.48127753, 0.48364008, 0.49134199, 0.4734098 ]), 'recall_mean': 0.4941956119654501, 'predicted_class_distribution': array([ 692,  577,  823, 1485, 1234,  837,  662, 1075, 1142,  973]), 'f1': array([0.55240444, 0.64620939, 0.57617729, 0.40736196, 0.41735919,\n",
      "       0.50387135, 0.5566879 , 0.46078909, 0.43949661, 0.4699793 ]), 'f1_mean': 0.5030336508295632}\n",
      "Saved pre-edit metrics saved/edit_2_Spurious_MNIST/method_eac/VGG_16-layernum/0320_111512/layernum_5/results/edit_idx_0/models/pre_edit_metrics.pth\n"
     ]
    },
    {
     "name": "stderr",
     "output_type": "stream",
     "text": [
      "\n"
     ]
    },
    {
     "name": "stdout",
     "output_type": "stream",
     "text": [
      "Saved pre-edit logits to saved/edit_2_Spurious_MNIST/method_eac/VGG_16-layernum/0320_111512/layernum_5/results/edit_idx_0/models/pre_edit_logits.pth\n",
      "Created <class 'trainer.editor.EditorEAC'> editor.\n",
      "Using passed in covariance data loader.\n",
      "Looking for covariance matrix weights in cache/2_Spurious_MNIST_hold_out/vgg16_bn-5\n",
      "Computing cov matrices...\n"
     ]
    },
    {
     "name": "stderr",
     "output_type": "stream",
     "text": [
      "100%|█████████████████████████████████████████████████████████████| 2/2 [00:00<00:00, 14.51it/s]\n"
     ]
    },
    {
     "name": "stdout",
     "output_type": "stream",
     "text": [
      "acts shape: torch.Size([256, 256, 8, 8])\n",
      "acts shape: torch.Size([244, 256, 8, 8])\n",
      "Cov shape: torch.Size([256, 256])\n"
     ]
    },
    {
     "name": "stderr",
     "output_type": "stream",
     "text": [
      "tensor(0.2612, device='cuda:0', grad_fn=<DivBackward0>): 100%|█| 40000/40000 [00:47<00:00, 837.8\n"
     ]
    },
    {
     "name": "stdout",
     "output_type": "stream",
     "text": [
      "Loss (orig, final): 0.4606877565383911 0.26116523146629333\n",
      "L2 norm of weight change: 17.96846580505371\n",
      "Performing post-edit metric calculations on validation set.\n"
     ]
    },
    {
     "name": "stderr",
     "output_type": "stream",
     "text": [
      "100%|███████████████████████████████████████████████████████████| 38/38 [00:01<00:00, 25.33it/s]"
     ]
    },
    {
     "name": "stdout",
     "output_type": "stream",
     "text": [
      "Post-edit metrics: {'TP': array([448, 535, 527, 498, 451, 417, 436, 470, 454, 444]), 'TN': array([8358, 8389, 8155, 7481, 7873, 8314, 8408, 8023, 7561, 8118]), 'FPs': array([ 212,   26,  363, 1059,  695,  344,  184,  499, 1015,  423]), 'FNs': array([482, 550, 455, 462, 481, 425, 472, 508, 470, 515]), 'accuracy': 0.4926315789473684, 'per_class_accuracy': array([0.92694737, 0.93936842, 0.91389474, 0.83989474, 0.87621053,\n",
      "       0.91905263, 0.93094737, 0.894     , 0.84368421, 0.90126316]), 'per_class_accuracy_mean': 0.8985263157894737, 'precision': array([0.67878788, 0.95365419, 0.59213483, 0.31984586, 0.39354276,\n",
      "       0.54796321, 0.70322581, 0.48503612, 0.30905378, 0.51211073]), 'precision_mean': 0.5495355151226146, 'recall': array([0.48172043, 0.49308756, 0.53665988, 0.51875   , 0.48390558,\n",
      "       0.49524941, 0.48017621, 0.4805726 , 0.49134199, 0.46298227]), 'recall_mean': 0.49244459242205363, 'predicted_class_distribution': array([ 660,  561,  890, 1557, 1146,  761,  620,  969, 1469,  867]), 'f1': array([0.56352201, 0.65006075, 0.56303419, 0.39570918, 0.43407122,\n",
      "       0.52027449, 0.57068063, 0.48279404, 0.37944003, 0.48630887]), 'f1_mean': 0.5045895414885968}\n",
      "Saved post-edit metrics saved/edit_2_Spurious_MNIST/method_eac/VGG_16-layernum/0320_111512/layernum_5/results/edit_idx_0/models/post_edit_metrics.pth\n"
     ]
    },
    {
     "name": "stderr",
     "output_type": "stream",
     "text": [
      "\n"
     ]
    },
    {
     "name": "stdout",
     "output_type": "stream",
     "text": [
      "Saved post-edit logits to saved/edit_2_Spurious_MNIST/method_eac/VGG_16-layernum/0320_111512/layernum_5/results/edit_idx_0/models/post_edit_logits.pth\n",
      "All metrics and KNN results can be found in saved/edit_2_Spurious_MNIST/method_eac/VGG_16-layernum/0320_111512/layernum_5/results/edit_idx_0/models\n",
      "Experimenting with layernum of 6\n",
      "(0320_112442) Starting Trial 1/1...\n",
      "saved/edit_2_Spurious_MNIST/method_eac/VGG_16-layernum/0320_111512/layernum_6/results/edit_idx_0\n",
      "torch.Size([1, 3, 32, 32]) torch.Size([1, 3, 32, 32])\n",
      "torch.Size([1, 1, 32, 32])\n",
      "torch.float32\n"
     ]
    },
    {
     "data": {
      "image/png": "[encoded data removed]",
      "text/plain": [
       "<Figure size 750x250 with 3 Axes>"
      ]
     },
     "metadata": {},
     "output_type": "display_data"
    },
    {
     "name": "stdout",
     "output_type": "stream",
     "text": [
      "Editing layer 6\n",
      "Created ModelWrapperSanturkar model with 33646666 trainable parameters\n",
      "Restored weights from saved/train/2_Spurious_MNIST-VGG_16/0317_134644/models/model_best.pth\n",
      "Using passed in data loader for validation.\n",
      "Edit initialization arguments:\n",
      "n_hold_out_per_class: 50\n",
      "data_dir: saved/edit_data/{}/hold_out_{}\n",
      "mask_path: None\n",
      "image_size: [32, 32]\n",
      "edit_idxs_file: edit_idxs.txt\n",
      "edit_pool_file: test_hold_out_{}_eac.pt\n",
      "---***---\n",
      "Performing pre-edit metric calculations on validation set.\n"
     ]
    },
    {
     "name": "stderr",
     "output_type": "stream",
     "text": [
      "100%|███████████████████████████████████████████████████████████| 38/38 [00:01<00:00, 25.45it/s]"
     ]
    },
    {
     "name": "stdout",
     "output_type": "stream",
     "text": [
      "Pre-edit metrics: {'TP': array([448, 537, 520, 498, 452, 423, 437, 473, 454, 454]), 'TN': array([8326, 8375, 8215, 7553, 7786, 8244, 8367, 7920, 7888, 8022]), 'FPs': array([244,  40, 303, 987, 782, 414, 225, 602, 688, 519]), 'FNs': array([482, 548, 462, 462, 480, 419, 471, 505, 470, 505]), 'accuracy': 0.4943157894736842, 'per_class_accuracy': array([0.92357895, 0.93810526, 0.91947368, 0.84747368, 0.86715789,\n",
      "       0.91231579, 0.92673684, 0.88347368, 0.87810526, 0.89221053]), 'per_class_accuracy_mean': 0.8988631578947368, 'precision': array([0.64739884, 0.93067591, 0.63183475, 0.33535354, 0.36628849,\n",
      "       0.50537634, 0.66012085, 0.44      , 0.39754816, 0.46659815]), 'precision_mean': 0.53811950339605, 'recall': array([0.48172043, 0.49493088, 0.52953157, 0.51875   , 0.48497854,\n",
      "       0.5023753 , 0.48127753, 0.48364008, 0.49134199, 0.4734098 ]), 'recall_mean': 0.4941956119654501, 'predicted_class_distribution': array([ 692,  577,  823, 1485, 1234,  837,  662, 1075, 1142,  973]), 'f1': array([0.55240444, 0.64620939, 0.57617729, 0.40736196, 0.41735919,\n",
      "       0.50387135, 0.5566879 , 0.46078909, 0.43949661, 0.4699793 ]), 'f1_mean': 0.5030336508295632}\n",
      "Saved pre-edit metrics saved/edit_2_Spurious_MNIST/method_eac/VGG_16-layernum/0320_111512/layernum_6/results/edit_idx_0/models/pre_edit_metrics.pth\n",
      "Saved pre-edit logits to saved/edit_2_Spurious_MNIST/method_eac/VGG_16-layernum/0320_111512/layernum_6/results/edit_idx_0/models/pre_edit_logits.pth\n",
      "Created <class 'trainer.editor.EditorEAC'> editor.\n",
      "Using passed in covariance data loader.\n",
      "Looking for covariance matrix weights in cache/2_Spurious_MNIST_hold_out/vgg16_bn-6\n",
      "Computing cov matrices...\n"
     ]
    },
    {
     "name": "stderr",
     "output_type": "stream",
     "text": [
      "\n",
      "100%|█████████████████████████████████████████████████████████████| 2/2 [00:00<00:00, 14.21it/s]\n"
     ]
    },
    {
     "name": "stdout",
     "output_type": "stream",
     "text": [
      "acts shape: torch.Size([256, 256, 8, 8])\n",
      "acts shape: torch.Size([244, 256, 8, 8])\n",
      "Cov shape: torch.Size([256, 256])\n"
     ]
    },
    {
     "name": "stderr",
     "output_type": "stream",
     "text": [
      "tensor(0.2498, device='cuda:0', grad_fn=<DivBackward0>): 100%|█| 40000/40000 [00:45<00:00, 870.6\n"
     ]
    },
    {
     "name": "stdout",
     "output_type": "stream",
     "text": [
      "Loss (orig, final): 0.7345532178878784 0.24975326657295227\n",
      "L2 norm of weight change: 21.191837310791016\n",
      "Performing post-edit metric calculations on validation set.\n"
     ]
    },
    {
     "name": "stderr",
     "output_type": "stream",
     "text": [
      "100%|███████████████████████████████████████████████████████████| 38/38 [00:01<00:00, 25.69it/s]"
     ]
    },
    {
     "name": "stdout",
     "output_type": "stream",
     "text": [
      "Post-edit metrics: {'TP': array([447, 549, 525, 499, 453, 419, 434, 463, 452, 443]), 'TN': array([8316, 8387, 8084, 7445, 8006, 8307, 8316, 7992, 7852, 7979]), 'FPs': array([ 254,   28,  434, 1095,  562,  351,  276,  530,  724,  562]), 'FNs': array([483, 536, 457, 461, 479, 423, 474, 515, 472, 516]), 'accuracy': 0.49305263157894735, 'per_class_accuracy': array([0.92242105, 0.94063158, 0.90621053, 0.83621053, 0.89042105,\n",
      "       0.91852632, 0.92105263, 0.89      , 0.87410526, 0.88652632]), 'per_class_accuracy_mean': 0.8986105263157895, 'precision': array([0.63766049, 0.95147314, 0.54744526, 0.31304893, 0.44630542,\n",
      "       0.54415584, 0.61126761, 0.46626385, 0.38435374, 0.44079602]), 'precision_mean': 0.534277028774601, 'recall': array([0.48064516, 0.50599078, 0.53462322, 0.51979167, 0.4860515 ,\n",
      "       0.4976247 , 0.47797357, 0.47341513, 0.48917749, 0.46193952]), 'recall_mean': 0.4927232745240987, 'predicted_class_distribution': array([ 701,  577,  959, 1594, 1015,  770,  710,  993, 1176, 1005]), 'f1': array([0.54812998, 0.66064982, 0.54095827, 0.39075959, 0.46533128,\n",
      "       0.51985112, 0.53646477, 0.46981228, 0.43047619, 0.45112016]), 'f1_mean': 0.5013553461109084}\n",
      "Saved post-edit metrics saved/edit_2_Spurious_MNIST/method_eac/VGG_16-layernum/0320_111512/layernum_6/results/edit_idx_0/models/post_edit_metrics.pth\n"
     ]
    },
    {
     "name": "stderr",
     "output_type": "stream",
     "text": [
      "\n"
     ]
    },
    {
     "name": "stdout",
     "output_type": "stream",
     "text": [
      "Saved post-edit logits to saved/edit_2_Spurious_MNIST/method_eac/VGG_16-layernum/0320_111512/layernum_6/results/edit_idx_0/models/post_edit_logits.pth\n",
      "All metrics and KNN results can be found in saved/edit_2_Spurious_MNIST/method_eac/VGG_16-layernum/0320_111512/layernum_6/results/edit_idx_0/models\n",
      "Experimenting with layernum of 7\n",
      "(0320_112534) Starting Trial 1/1...\n",
      "saved/edit_2_Spurious_MNIST/method_eac/VGG_16-layernum/0320_111512/layernum_7/results/edit_idx_0\n",
      "torch.Size([1, 3, 32, 32]) torch.Size([1, 3, 32, 32])\n",
      "torch.Size([1, 1, 32, 32])\n",
      "torch.float32\n"
     ]
    },
    {
     "data": {
      "image/png": "[encoded data removed]",
      "text/plain": [
       "<Figure size 750x250 with 3 Axes>"
      ]
     },
     "metadata": {},
     "output_type": "display_data"
    },
    {
     "name": "stdout",
     "output_type": "stream",
     "text": [
      "Editing layer 7\n",
      "Created ModelWrapperSanturkar model with 33646666 trainable parameters\n",
      "Restored weights from saved/train/2_Spurious_MNIST-VGG_16/0317_134644/models/model_best.pth\n",
      "Using passed in data loader for validation.\n",
      "Edit initialization arguments:\n",
      "n_hold_out_per_class: 50\n",
      "data_dir: saved/edit_data/{}/hold_out_{}\n",
      "mask_path: None\n",
      "image_size: [32, 32]\n",
      "edit_idxs_file: edit_idxs.txt\n",
      "edit_pool_file: test_hold_out_{}_eac.pt\n",
      "---***---\n",
      "Performing pre-edit metric calculations on validation set.\n"
     ]
    },
    {
     "name": "stderr",
     "output_type": "stream",
     "text": [
      "100%|███████████████████████████████████████████████████████████| 38/38 [00:01<00:00, 19.91it/s]"
     ]
    },
    {
     "name": "stdout",
     "output_type": "stream",
     "text": [
      "Pre-edit metrics: {'TP': array([448, 537, 520, 498, 452, 423, 437, 473, 454, 454]), 'TN': array([8326, 8375, 8215, 7553, 7786, 8244, 8367, 7920, 7888, 8022]), 'FPs': array([244,  40, 303, 987, 782, 414, 225, 602, 688, 519]), 'FNs': array([482, 548, 462, 462, 480, 419, 471, 505, 470, 505]), 'accuracy': 0.4943157894736842, 'per_class_accuracy': array([0.92357895, 0.93810526, 0.91947368, 0.84747368, 0.86715789,\n",
      "       0.91231579, 0.92673684, 0.88347368, 0.87810526, 0.89221053]), 'per_class_accuracy_mean': 0.8988631578947368, 'precision': array([0.64739884, 0.93067591, 0.63183475, 0.33535354, 0.36628849,\n",
      "       0.50537634, 0.66012085, 0.44      , 0.39754816, 0.46659815]), 'precision_mean': 0.53811950339605, 'recall': array([0.48172043, 0.49493088, 0.52953157, 0.51875   , 0.48497854,\n",
      "       0.5023753 , 0.48127753, 0.48364008, 0.49134199, 0.4734098 ]), 'recall_mean': 0.4941956119654501, 'predicted_class_distribution': array([ 692,  577,  823, 1485, 1234,  837,  662, 1075, 1142,  973]), 'f1': array([0.55240444, 0.64620939, 0.57617729, 0.40736196, 0.41735919,\n",
      "       0.50387135, 0.5566879 , 0.46078909, 0.43949661, 0.4699793 ]), 'f1_mean': 0.5030336508295632}\n"
     ]
    },
    {
     "name": "stderr",
     "output_type": "stream",
     "text": [
      "\n"
     ]
    },
    {
     "name": "stdout",
     "output_type": "stream",
     "text": [
      "Saved pre-edit metrics saved/edit_2_Spurious_MNIST/method_eac/VGG_16-layernum/0320_111512/layernum_7/results/edit_idx_0/models/pre_edit_metrics.pth\n",
      "Saved pre-edit logits to saved/edit_2_Spurious_MNIST/method_eac/VGG_16-layernum/0320_111512/layernum_7/results/edit_idx_0/models/pre_edit_logits.pth\n",
      "Created <class 'trainer.editor.EditorEAC'> editor.\n",
      "Using passed in covariance data loader.\n",
      "Looking for covariance matrix weights in cache/2_Spurious_MNIST_hold_out/vgg16_bn-7\n",
      "Computing cov matrices...\n"
     ]
    },
    {
     "name": "stderr",
     "output_type": "stream",
     "text": [
      "  0%|                                                                     | 0/2 [00:00<?, ?it/s]"
     ]
    },
    {
     "name": "stdout",
     "output_type": "stream",
     "text": [
      "acts shape: torch.Size([256, 256, 4, 4])\n",
      "acts shape: torch.Size([244, 256, 4, 4])\n"
     ]
    },
    {
     "name": "stderr",
     "output_type": "stream",
     "text": [
      "100%|█████████████████████████████████████████████████████████████| 2/2 [00:00<00:00,  5.95it/s]\n"
     ]
    },
    {
     "name": "stdout",
     "output_type": "stream",
     "text": [
      "Cov shape: torch.Size([256, 256])\n"
     ]
    },
    {
     "name": "stderr",
     "output_type": "stream",
     "text": [
      "tensor(0.1202, device='cuda:0', grad_fn=<DivBackward0>): 100%|█| 40000/40000 [00:47<00:00, 840.8\n"
     ]
    },
    {
     "name": "stdout",
     "output_type": "stream",
     "text": [
      "Loss (orig, final): 0.4494945704936981 0.12021812796592712\n",
      "L2 norm of weight change: 14.58079719543457\n",
      "Performing post-edit metric calculations on validation set.\n"
     ]
    },
    {
     "name": "stderr",
     "output_type": "stream",
     "text": [
      "100%|███████████████████████████████████████████████████████████| 38/38 [00:01<00:00, 25.28it/s]"
     ]
    },
    {
     "name": "stdout",
     "output_type": "stream",
     "text": [
      "Post-edit metrics: {'TP': array([446, 535, 522, 499, 452, 418, 436, 471, 453, 453]), 'TN': array([8296, 8383, 8221, 7495, 7859, 8237, 8395, 7933, 7829, 8037]), 'FPs': array([ 274,   32,  297, 1045,  709,  421,  197,  589,  747,  504]), 'FNs': array([484, 550, 460, 461, 480, 424, 472, 507, 471, 506]), 'accuracy': 0.49315789473684213, 'per_class_accuracy': array([0.92021053, 0.93873684, 0.92031579, 0.84147368, 0.87484211,\n",
      "       0.91105263, 0.92957895, 0.88463158, 0.87178947, 0.89368421]), 'per_class_accuracy_mean': 0.8986315789473682, 'precision': array([0.61944444, 0.94356261, 0.63736264, 0.32318653, 0.38931955,\n",
      "       0.49821216, 0.68878357, 0.44433962, 0.3775    , 0.47335423]), 'precision_mean': 0.5395065354890762, 'recall': array([0.47956989, 0.49308756, 0.53156823, 0.51979167, 0.48497854,\n",
      "       0.49643705, 0.48017621, 0.48159509, 0.49025974, 0.47236705]), 'recall_mean': 0.49298310330011486, 'predicted_class_distribution': array([ 720,  567,  819, 1544, 1161,  839,  633, 1060, 1200,  957]), 'f1': array([0.54060606, 0.64769976, 0.57967796, 0.3985623 , 0.43191591,\n",
      "       0.49732302, 0.56586632, 0.46221786, 0.42655367, 0.47286013]), 'f1_mean': 0.502328298646911}\n",
      "Saved post-edit metrics saved/edit_2_Spurious_MNIST/method_eac/VGG_16-layernum/0320_111512/layernum_7/results/edit_idx_0/models/post_edit_metrics.pth\n",
      "Saved post-edit logits to saved/edit_2_Spurious_MNIST/method_eac/VGG_16-layernum/0320_111512/layernum_7/results/edit_idx_0/models/post_edit_logits.pth\n",
      "All metrics and KNN results can be found in saved/edit_2_Spurious_MNIST/method_eac/VGG_16-layernum/0320_111512/layernum_7/results/edit_idx_0/models\n"
     ]
    },
    {
     "name": "stderr",
     "output_type": "stream",
     "text": [
      "\n"
     ]
    },
    {
     "name": "stdout",
     "output_type": "stream",
     "text": [
      "Experimenting with layernum of 8\n",
      "(0320_112628) Starting Trial 1/1...\n",
      "saved/edit_2_Spurious_MNIST/method_eac/VGG_16-layernum/0320_111512/layernum_8/results/edit_idx_0\n",
      "torch.Size([1, 3, 32, 32]) torch.Size([1, 3, 32, 32])\n",
      "torch.Size([1, 1, 32, 32])\n",
      "torch.float32\n"
     ]
    },
    {
     "data": {
      "image/png": "[encoded data removed]",
      "text/plain": [
       "<Figure size 750x250 with 3 Axes>"
      ]
     },
     "metadata": {},
     "output_type": "display_data"
    },
    {
     "name": "stdout",
     "output_type": "stream",
     "text": [
      "Editing layer 8\n",
      "Created ModelWrapperSanturkar model with 33646666 trainable parameters\n",
      "Restored weights from saved/train/2_Spurious_MNIST-VGG_16/0317_134644/models/model_best.pth\n",
      "Using passed in data loader for validation.\n",
      "Edit initialization arguments:\n",
      "n_hold_out_per_class: 50\n",
      "data_dir: saved/edit_data/{}/hold_out_{}\n",
      "mask_path: None\n",
      "image_size: [32, 32]\n",
      "edit_idxs_file: edit_idxs.txt\n",
      "edit_pool_file: test_hold_out_{}_eac.pt\n",
      "---***---\n",
      "Performing pre-edit metric calculations on validation set.\n"
     ]
    },
    {
     "name": "stderr",
     "output_type": "stream",
     "text": [
      "100%|███████████████████████████████████████████████████████████| 38/38 [00:01<00:00, 25.49it/s]\n"
     ]
    },
    {
     "name": "stdout",
     "output_type": "stream",
     "text": [
      "Pre-edit metrics: {'TP': array([448, 537, 520, 498, 452, 423, 437, 473, 454, 454]), 'TN': array([8326, 8375, 8215, 7553, 7786, 8244, 8367, 7920, 7888, 8022]), 'FPs': array([244,  40, 303, 987, 782, 414, 225, 602, 688, 519]), 'FNs': array([482, 548, 462, 462, 480, 419, 471, 505, 470, 505]), 'accuracy': 0.4943157894736842, 'per_class_accuracy': array([0.92357895, 0.93810526, 0.91947368, 0.84747368, 0.86715789,\n",
      "       0.91231579, 0.92673684, 0.88347368, 0.87810526, 0.89221053]), 'per_class_accuracy_mean': 0.8988631578947368, 'precision': array([0.64739884, 0.93067591, 0.63183475, 0.33535354, 0.36628849,\n",
      "       0.50537634, 0.66012085, 0.44      , 0.39754816, 0.46659815]), 'precision_mean': 0.53811950339605, 'recall': array([0.48172043, 0.49493088, 0.52953157, 0.51875   , 0.48497854,\n",
      "       0.5023753 , 0.48127753, 0.48364008, 0.49134199, 0.4734098 ]), 'recall_mean': 0.4941956119654501, 'predicted_class_distribution': array([ 692,  577,  823, 1485, 1234,  837,  662, 1075, 1142,  973]), 'f1': array([0.55240444, 0.64620939, 0.57617729, 0.40736196, 0.41735919,\n",
      "       0.50387135, 0.5566879 , 0.46078909, 0.43949661, 0.4699793 ]), 'f1_mean': 0.5030336508295632}\n",
      "Saved pre-edit metrics saved/edit_2_Spurious_MNIST/method_eac/VGG_16-layernum/0320_111512/layernum_8/results/edit_idx_0/models/pre_edit_metrics.pth\n",
      "Saved pre-edit logits to saved/edit_2_Spurious_MNIST/method_eac/VGG_16-layernum/0320_111512/layernum_8/results/edit_idx_0/models/pre_edit_logits.pth\n",
      "Created <class 'trainer.editor.EditorEAC'> editor.\n",
      "Using passed in covariance data loader.\n",
      "Looking for covariance matrix weights in cache/2_Spurious_MNIST_hold_out/vgg16_bn-8\n",
      "Computing cov matrices...\n"
     ]
    },
    {
     "name": "stderr",
     "output_type": "stream",
     "text": [
      "100%|█████████████████████████████████████████████████████████████| 2/2 [00:00<00:00, 13.85it/s]\n"
     ]
    },
    {
     "name": "stdout",
     "output_type": "stream",
     "text": [
      "acts shape: torch.Size([256, 512, 4, 4])\n",
      "acts shape: torch.Size([244, 512, 4, 4])\n",
      "Cov shape: torch.Size([512, 512])\n"
     ]
    },
    {
     "name": "stderr",
     "output_type": "stream",
     "text": [
      "tensor(0.1213, device='cuda:0', grad_fn=<DivBackward0>): 100%|█| 40000/40000 [00:48<00:00, 833.0\n"
     ]
    },
    {
     "name": "stdout",
     "output_type": "stream",
     "text": [
      "Loss (orig, final): 0.46922212839126587 0.1213349848985672\n",
      "L2 norm of weight change: 17.934560775756836\n",
      "Performing post-edit metric calculations on validation set.\n"
     ]
    },
    {
     "name": "stderr",
     "output_type": "stream",
     "text": [
      "100%|███████████████████████████████████████████████████████████| 38/38 [00:01<00:00, 25.38it/s]"
     ]
    },
    {
     "name": "stdout",
     "output_type": "stream",
     "text": [
      "Post-edit metrics: {'TP': array([448, 537, 520, 498, 452, 422, 438, 471, 456, 452]), 'TN': array([8292, 8383, 8189, 7569, 7822, 8240, 8396, 7980, 7807, 8016]), 'FPs': array([278,  32, 329, 971, 746, 418, 196, 542, 769, 525]), 'FNs': array([482, 548, 462, 462, 480, 420, 470, 507, 468, 507]), 'accuracy': 0.4941052631578947, 'per_class_accuracy': array([0.92      , 0.93894737, 0.91673684, 0.84915789, 0.87094737,\n",
      "       0.91178947, 0.92989474, 0.88957895, 0.86978947, 0.89136842]), 'per_class_accuracy_mean': 0.898821052631579, 'precision': array([0.61707989, 0.94376098, 0.61248528, 0.33900613, 0.37729549,\n",
      "       0.50238095, 0.69085174, 0.46495558, 0.3722449 , 0.46264074]), 'precision_mean': 0.5382701669688748, 'recall': array([0.48172043, 0.49493088, 0.52953157, 0.51875   , 0.48497854,\n",
      "       0.50118765, 0.48237885, 0.48159509, 0.49350649, 0.4713243 ]), 'recall_mean': 0.49399037994386574, 'predicted_class_distribution': array([ 726,  569,  849, 1469, 1198,  840,  634, 1013, 1225,  977]), 'f1': array([0.5410628 , 0.64933495, 0.56799563, 0.41004529, 0.42441315,\n",
      "       0.50178359, 0.56809339, 0.47312908, 0.42438343, 0.46694215]), 'f1_mean': 0.5027183449944335}\n"
     ]
    },
    {
     "name": "stderr",
     "output_type": "stream",
     "text": [
      "\n"
     ]
    },
    {
     "name": "stdout",
     "output_type": "stream",
     "text": [
      "Saved post-edit metrics saved/edit_2_Spurious_MNIST/method_eac/VGG_16-layernum/0320_111512/layernum_8/results/edit_idx_0/models/post_edit_metrics.pth\n",
      "Saved post-edit logits to saved/edit_2_Spurious_MNIST/method_eac/VGG_16-layernum/0320_111512/layernum_8/results/edit_idx_0/models/post_edit_logits.pth\n",
      "All metrics and KNN results can be found in saved/edit_2_Spurious_MNIST/method_eac/VGG_16-layernum/0320_111512/layernum_8/results/edit_idx_0/models\n",
      "Experimenting with layernum of 9\n",
      "(0320_112722) Starting Trial 1/1...\n",
      "saved/edit_2_Spurious_MNIST/method_eac/VGG_16-layernum/0320_111512/layernum_9/results/edit_idx_0\n",
      "torch.Size([1, 3, 32, 32]) torch.Size([1, 3, 32, 32])\n",
      "torch.Size([1, 1, 32, 32])\n",
      "torch.float32\n"
     ]
    },
    {
     "data": {
      "image/png": "[encoded data removed]",
      "text/plain": [
       "<Figure size 750x250 with 3 Axes>"
      ]
     },
     "metadata": {},
     "output_type": "display_data"
    },
    {
     "name": "stdout",
     "output_type": "stream",
     "text": [
      "Editing layer 9\n",
      "Created ModelWrapperSanturkar model with 33646666 trainable parameters\n",
      "Restored weights from saved/train/2_Spurious_MNIST-VGG_16/0317_134644/models/model_best.pth\n",
      "Using passed in data loader for validation.\n",
      "Edit initialization arguments:\n",
      "n_hold_out_per_class: 50\n",
      "data_dir: saved/edit_data/{}/hold_out_{}\n",
      "mask_path: None\n",
      "image_size: [32, 32]\n",
      "edit_idxs_file: edit_idxs.txt\n",
      "edit_pool_file: test_hold_out_{}_eac.pt\n",
      "---***---\n",
      "Performing pre-edit metric calculations on validation set.\n"
     ]
    },
    {
     "name": "stderr",
     "output_type": "stream",
     "text": [
      "100%|███████████████████████████████████████████████████████████| 38/38 [00:01<00:00, 25.55it/s]"
     ]
    },
    {
     "name": "stdout",
     "output_type": "stream",
     "text": [
      "Pre-edit metrics: {'TP': array([448, 537, 520, 498, 452, 423, 437, 473, 454, 454]), 'TN': array([8326, 8375, 8215, 7553, 7786, 8244, 8367, 7920, 7888, 8022]), 'FPs': array([244,  40, 303, 987, 782, 414, 225, 602, 688, 519]), 'FNs': array([482, 548, 462, 462, 480, 419, 471, 505, 470, 505]), 'accuracy': 0.4943157894736842, 'per_class_accuracy': array([0.92357895, 0.93810526, 0.91947368, 0.84747368, 0.86715789,\n",
      "       0.91231579, 0.92673684, 0.88347368, 0.87810526, 0.89221053]), 'per_class_accuracy_mean': 0.8988631578947368, 'precision': array([0.64739884, 0.93067591, 0.63183475, 0.33535354, 0.36628849,\n",
      "       0.50537634, 0.66012085, 0.44      , 0.39754816, 0.46659815]), 'precision_mean': 0.53811950339605, 'recall': array([0.48172043, 0.49493088, 0.52953157, 0.51875   , 0.48497854,\n",
      "       0.5023753 , 0.48127753, 0.48364008, 0.49134199, 0.4734098 ]), 'recall_mean': 0.4941956119654501, 'predicted_class_distribution': array([ 692,  577,  823, 1485, 1234,  837,  662, 1075, 1142,  973]), 'f1': array([0.55240444, 0.64620939, 0.57617729, 0.40736196, 0.41735919,\n",
      "       0.50387135, 0.5566879 , 0.46078909, 0.43949661, 0.4699793 ]), 'f1_mean': 0.5030336508295632}\n"
     ]
    },
    {
     "name": "stderr",
     "output_type": "stream",
     "text": [
      "\n"
     ]
    },
    {
     "name": "stdout",
     "output_type": "stream",
     "text": [
      "Saved pre-edit metrics saved/edit_2_Spurious_MNIST/method_eac/VGG_16-layernum/0320_111512/layernum_9/results/edit_idx_0/models/pre_edit_metrics.pth\n",
      "Saved pre-edit logits to saved/edit_2_Spurious_MNIST/method_eac/VGG_16-layernum/0320_111512/layernum_9/results/edit_idx_0/models/pre_edit_logits.pth\n",
      "Created <class 'trainer.editor.EditorEAC'> editor.\n",
      "Using passed in covariance data loader.\n",
      "Looking for covariance matrix weights in cache/2_Spurious_MNIST_hold_out/vgg16_bn-9\n",
      "Computing cov matrices...\n"
     ]
    },
    {
     "name": "stderr",
     "output_type": "stream",
     "text": [
      "100%|█████████████████████████████████████████████████████████████| 2/2 [00:00<00:00, 14.23it/s]\n"
     ]
    },
    {
     "name": "stdout",
     "output_type": "stream",
     "text": [
      "acts shape: torch.Size([256, 512, 4, 4])\n",
      "acts shape: torch.Size([244, 512, 4, 4])\n",
      "Cov shape: torch.Size([512, 512])\n"
     ]
    },
    {
     "name": "stderr",
     "output_type": "stream",
     "text": [
      "tensor(0.0889, device='cuda:0', grad_fn=<DivBackward0>): 100%|█| 40000/40000 [00:50<00:00, 790.5\n"
     ]
    },
    {
     "name": "stdout",
     "output_type": "stream",
     "text": [
      "Loss (orig, final): 0.7996953725814819 0.08889714628458023\n",
      "L2 norm of weight change: 16.00735092163086\n",
      "Performing post-edit metric calculations on validation set.\n"
     ]
    },
    {
     "name": "stderr",
     "output_type": "stream",
     "text": [
      "100%|███████████████████████████████████████████████████████████| 38/38 [00:01<00:00, 25.07it/s]\n"
     ]
    },
    {
     "name": "stdout",
     "output_type": "stream",
     "text": [
      "Post-edit metrics: {'TP': array([448, 537, 521, 499, 452, 423, 437, 473, 455, 454]), 'TN': array([8302, 8379, 8189, 7579, 7808, 8206, 8402, 7918, 7896, 8020]), 'FPs': array([268,  36, 329, 961, 760, 452, 190, 604, 680, 521]), 'FNs': array([482, 548, 461, 461, 480, 419, 471, 505, 469, 505]), 'accuracy': 0.4946315789473684, 'per_class_accuracy': array([0.92105263, 0.93852632, 0.91684211, 0.85031579, 0.86947368,\n",
      "       0.90831579, 0.93042105, 0.88326316, 0.87905263, 0.892     ]), 'per_class_accuracy_mean': 0.8989263157894737, 'precision': array([0.62569832, 0.93717277, 0.61294118, 0.34178082, 0.37293729,\n",
      "       0.48342857, 0.6969697 , 0.43918292, 0.40088106, 0.46564103]), 'precision_mean': 0.5376633657823278, 'recall': array([0.48172043, 0.49493088, 0.5305499 , 0.51979167, 0.48497854,\n",
      "       0.5023753 , 0.48127753, 0.48364008, 0.49242424, 0.4734098 ]), 'recall_mean': 0.4945098367342319, 'predicted_class_distribution': array([ 716,  573,  850, 1460, 1212,  875,  627, 1077, 1135,  975]), 'f1': array([0.54434994, 0.6477684 , 0.56877729, 0.41239669, 0.42164179,\n",
      "       0.49271986, 0.56938111, 0.46034063, 0.44196212, 0.46949328]), 'f1_mean': 0.5028831108769448}\n",
      "Saved post-edit metrics saved/edit_2_Spurious_MNIST/method_eac/VGG_16-layernum/0320_111512/layernum_9/results/edit_idx_0/models/post_edit_metrics.pth\n",
      "Saved post-edit logits to saved/edit_2_Spurious_MNIST/method_eac/VGG_16-layernum/0320_111512/layernum_9/results/edit_idx_0/models/post_edit_logits.pth\n",
      "All metrics and KNN results can be found in saved/edit_2_Spurious_MNIST/method_eac/VGG_16-layernum/0320_111512/layernum_9/results/edit_idx_0/models\n",
      "Experimenting with layernum of 10\n",
      "(0320_112819) Starting Trial 1/1...\n",
      "saved/edit_2_Spurious_MNIST/method_eac/VGG_16-layernum/0320_111512/layernum_10/results/edit_idx_0\n",
      "torch.Size([1, 3, 32, 32]) torch.Size([1, 3, 32, 32])\n",
      "torch.Size([1, 1, 32, 32])\n",
      "torch.float32\n"
     ]
    },
    {
     "data": {
      "image/png": "[encoded data removed]",
      "text/plain": [
       "<Figure size 750x250 with 3 Axes>"
      ]
     },
     "metadata": {},
     "output_type": "display_data"
    },
    {
     "name": "stdout",
     "output_type": "stream",
     "text": [
      "Editing layer 10\n",
      "Created ModelWrapperSanturkar model with 33646666 trainable parameters\n",
      "Restored weights from saved/train/2_Spurious_MNIST-VGG_16/0317_134644/models/model_best.pth\n",
      "Using passed in data loader for validation.\n",
      "Edit initialization arguments:\n",
      "n_hold_out_per_class: 50\n",
      "data_dir: saved/edit_data/{}/hold_out_{}\n",
      "mask_path: None\n",
      "image_size: [32, 32]\n",
      "edit_idxs_file: edit_idxs.txt\n",
      "edit_pool_file: test_hold_out_{}_eac.pt\n",
      "---***---\n",
      "Performing pre-edit metric calculations on validation set.\n"
     ]
    },
    {
     "name": "stderr",
     "output_type": "stream",
     "text": [
      "100%|███████████████████████████████████████████████████████████| 38/38 [00:01<00:00, 25.46it/s]\n"
     ]
    },
    {
     "name": "stdout",
     "output_type": "stream",
     "text": [
      "Pre-edit metrics: {'TP': array([448, 537, 520, 498, 452, 423, 437, 473, 454, 454]), 'TN': array([8326, 8375, 8215, 7553, 7786, 8244, 8367, 7920, 7888, 8022]), 'FPs': array([244,  40, 303, 987, 782, 414, 225, 602, 688, 519]), 'FNs': array([482, 548, 462, 462, 480, 419, 471, 505, 470, 505]), 'accuracy': 0.4943157894736842, 'per_class_accuracy': array([0.92357895, 0.93810526, 0.91947368, 0.84747368, 0.86715789,\n",
      "       0.91231579, 0.92673684, 0.88347368, 0.87810526, 0.89221053]), 'per_class_accuracy_mean': 0.8988631578947368, 'precision': array([0.64739884, 0.93067591, 0.63183475, 0.33535354, 0.36628849,\n",
      "       0.50537634, 0.66012085, 0.44      , 0.39754816, 0.46659815]), 'precision_mean': 0.53811950339605, 'recall': array([0.48172043, 0.49493088, 0.52953157, 0.51875   , 0.48497854,\n",
      "       0.5023753 , 0.48127753, 0.48364008, 0.49134199, 0.4734098 ]), 'recall_mean': 0.4941956119654501, 'predicted_class_distribution': array([ 692,  577,  823, 1485, 1234,  837,  662, 1075, 1142,  973]), 'f1': array([0.55240444, 0.64620939, 0.57617729, 0.40736196, 0.41735919,\n",
      "       0.50387135, 0.5566879 , 0.46078909, 0.43949661, 0.4699793 ]), 'f1_mean': 0.5030336508295632}\n",
      "Saved pre-edit metrics saved/edit_2_Spurious_MNIST/method_eac/VGG_16-layernum/0320_111512/layernum_10/results/edit_idx_0/models/pre_edit_metrics.pth\n",
      "Saved pre-edit logits to saved/edit_2_Spurious_MNIST/method_eac/VGG_16-layernum/0320_111512/layernum_10/results/edit_idx_0/models/pre_edit_logits.pth\n",
      "Created <class 'trainer.editor.EditorEAC'> editor.\n",
      "Using passed in covariance data loader.\n",
      "Looking for covariance matrix weights in cache/2_Spurious_MNIST_hold_out/vgg16_bn-10\n",
      "Computing cov matrices...\n"
     ]
    },
    {
     "name": "stderr",
     "output_type": "stream",
     "text": [
      "100%|█████████████████████████████████████████████████████████████| 2/2 [00:00<00:00, 16.34it/s]\n"
     ]
    },
    {
     "name": "stdout",
     "output_type": "stream",
     "text": [
      "acts shape: torch.Size([256, 512, 2, 2])\n",
      "acts shape: torch.Size([244, 512, 2, 2])\n",
      "Cov shape: torch.Size([512, 512])\n"
     ]
    },
    {
     "name": "stderr",
     "output_type": "stream",
     "text": [
      "tensor(0.1013, device='cuda:0', grad_fn=<DivBackward0>): 100%|█| 40000/40000 [00:48<00:00, 831.3\n"
     ]
    },
    {
     "name": "stdout",
     "output_type": "stream",
     "text": [
      "Loss (orig, final): 0.44414475560188293 0.10128232091665268\n",
      "L2 norm of weight change: 4.643538951873779\n",
      "Performing post-edit metric calculations on validation set.\n"
     ]
    },
    {
     "name": "stderr",
     "output_type": "stream",
     "text": [
      "100%|███████████████████████████████████████████████████████████| 38/38 [00:01<00:00, 24.90it/s]\n"
     ]
    },
    {
     "name": "stdout",
     "output_type": "stream",
     "text": [
      "Post-edit metrics: {'TP': array([448, 537, 520, 498, 452, 423, 436, 474, 454, 454]), 'TN': array([8329, 8375, 8210, 7550, 7791, 8236, 8396, 7914, 7874, 8021]), 'FPs': array([241,  40, 308, 990, 777, 422, 196, 608, 702, 520]), 'FNs': array([482, 548, 462, 462, 480, 419, 472, 504, 470, 505]), 'accuracy': 0.4943157894736842, 'per_class_accuracy': array([0.92389474, 0.93810526, 0.91894737, 0.84715789, 0.86768421,\n",
      "       0.91147368, 0.92968421, 0.88294737, 0.87663158, 0.89210526]), 'per_class_accuracy_mean': 0.8988631578947368, 'precision': array([0.65021771, 0.93067591, 0.62801932, 0.33467742, 0.36777868,\n",
      "       0.50059172, 0.68987342, 0.43807763, 0.39273356, 0.4661191 ]), 'precision_mean': 0.5398764469813688, 'recall': array([0.48172043, 0.49493088, 0.52953157, 0.51875   , 0.48497854,\n",
      "       0.5023753 , 0.48017621, 0.48466258, 0.49134199, 0.4734098 ]), 'recall_mean': 0.49418772929561233, 'predicted_class_distribution': array([ 689,  577,  828, 1488, 1229,  845,  632, 1082, 1156,  974]), 'f1': array([0.55342804, 0.64620939, 0.57458564, 0.40686275, 0.41832485,\n",
      "       0.50148192, 0.56623377, 0.46019417, 0.43653846, 0.46973616]), 'f1_mean': 0.5033595142852348}\n",
      "Saved post-edit metrics saved/edit_2_Spurious_MNIST/method_eac/VGG_16-layernum/0320_111512/layernum_10/results/edit_idx_0/models/post_edit_metrics.pth\n",
      "Saved post-edit logits to saved/edit_2_Spurious_MNIST/method_eac/VGG_16-layernum/0320_111512/layernum_10/results/edit_idx_0/models/post_edit_logits.pth\n",
      "All metrics and KNN results can be found in saved/edit_2_Spurious_MNIST/method_eac/VGG_16-layernum/0320_111512/layernum_10/results/edit_idx_0/models\n",
      "Experimenting with layernum of 11\n",
      "(0320_112915) Starting Trial 1/1...\n",
      "saved/edit_2_Spurious_MNIST/method_eac/VGG_16-layernum/0320_111512/layernum_11/results/edit_idx_0\n",
      "torch.Size([1, 3, 32, 32]) torch.Size([1, 3, 32, 32])\n",
      "torch.Size([1, 1, 32, 32])\n",
      "torch.float32\n"
     ]
    },
    {
     "data": {
      "image/png": "[encoded data removed]",
      "text/plain": [
       "<Figure size 750x250 with 3 Axes>"
      ]
     },
     "metadata": {},
     "output_type": "display_data"
    },
    {
     "name": "stdout",
     "output_type": "stream",
     "text": [
      "Editing layer 11\n",
      "Created ModelWrapperSanturkar model with 33646666 trainable parameters\n",
      "Restored weights from saved/train/2_Spurious_MNIST-VGG_16/0317_134644/models/model_best.pth\n",
      "Using passed in data loader for validation.\n",
      "Edit initialization arguments:\n",
      "n_hold_out_per_class: 50\n",
      "data_dir: saved/edit_data/{}/hold_out_{}\n",
      "mask_path: None\n",
      "image_size: [32, 32]\n",
      "edit_idxs_file: edit_idxs.txt\n",
      "edit_pool_file: test_hold_out_{}_eac.pt\n",
      "---***---\n",
      "Performing pre-edit metric calculations on validation set.\n"
     ]
    },
    {
     "name": "stderr",
     "output_type": "stream",
     "text": [
      "100%|███████████████████████████████████████████████████████████| 38/38 [00:01<00:00, 24.98it/s]"
     ]
    },
    {
     "name": "stdout",
     "output_type": "stream",
     "text": [
      "Pre-edit metrics: {'TP': array([448, 537, 520, 498, 452, 423, 437, 473, 454, 454]), 'TN': array([8326, 8375, 8215, 7553, 7786, 8244, 8367, 7920, 7888, 8022]), 'FPs': array([244,  40, 303, 987, 782, 414, 225, 602, 688, 519]), 'FNs': array([482, 548, 462, 462, 480, 419, 471, 505, 470, 505]), 'accuracy': 0.4943157894736842, 'per_class_accuracy': array([0.92357895, 0.93810526, 0.91947368, 0.84747368, 0.86715789,\n",
      "       0.91231579, 0.92673684, 0.88347368, 0.87810526, 0.89221053]), 'per_class_accuracy_mean': 0.8988631578947368, 'precision': array([0.64739884, 0.93067591, 0.63183475, 0.33535354, 0.36628849,\n",
      "       0.50537634, 0.66012085, 0.44      , 0.39754816, 0.46659815]), 'precision_mean': 0.53811950339605, 'recall': array([0.48172043, 0.49493088, 0.52953157, 0.51875   , 0.48497854,\n",
      "       0.5023753 , 0.48127753, 0.48364008, 0.49134199, 0.4734098 ]), 'recall_mean': 0.4941956119654501, 'predicted_class_distribution': array([ 692,  577,  823, 1485, 1234,  837,  662, 1075, 1142,  973]), 'f1': array([0.55240444, 0.64620939, 0.57617729, 0.40736196, 0.41735919,\n",
      "       0.50387135, 0.5566879 , 0.46078909, 0.43949661, 0.4699793 ]), 'f1_mean': 0.5030336508295632}\n",
      "Saved pre-edit metrics saved/edit_2_Spurious_MNIST/method_eac/VGG_16-layernum/0320_111512/layernum_11/results/edit_idx_0/models/pre_edit_metrics.pth\n",
      "Saved pre-edit logits to saved/edit_2_Spurious_MNIST/method_eac/VGG_16-layernum/0320_111512/layernum_11/results/edit_idx_0/models/pre_edit_logits.pth\n",
      "Created <class 'trainer.editor.EditorEAC'> editor.\n",
      "Using passed in covariance data loader.\n",
      "Looking for covariance matrix weights in cache/2_Spurious_MNIST_hold_out/vgg16_bn-11\n",
      "Computing cov matrices...\n"
     ]
    },
    {
     "name": "stderr",
     "output_type": "stream",
     "text": [
      "\n",
      "100%|█████████████████████████████████████████████████████████████| 2/2 [00:00<00:00, 15.58it/s]\n"
     ]
    },
    {
     "name": "stdout",
     "output_type": "stream",
     "text": [
      "acts shape: torch.Size([256, 512, 2, 2])\n",
      "acts shape: torch.Size([244, 512, 2, 2])\n",
      "Cov shape: torch.Size([512, 512])\n"
     ]
    },
    {
     "name": "stderr",
     "output_type": "stream",
     "text": [
      "tensor(0.1180, device='cuda:0', grad_fn=<DivBackward0>): 100%|█| 40000/40000 [00:48<00:00, 824.5\n"
     ]
    },
    {
     "name": "stdout",
     "output_type": "stream",
     "text": [
      "Loss (orig, final): 0.47850504517555237 0.11796461045742035\n",
      "L2 norm of weight change: 4.58345365524292\n",
      "Performing post-edit metric calculations on validation set.\n"
     ]
    },
    {
     "name": "stderr",
     "output_type": "stream",
     "text": [
      "100%|███████████████████████████████████████████████████████████| 38/38 [00:01<00:00, 24.84it/s]"
     ]
    },
    {
     "name": "stdout",
     "output_type": "stream",
     "text": [
      "Post-edit metrics: {'TP': array([447, 537, 520, 498, 452, 422, 437, 473, 454, 454]), 'TN': array([8327, 8377, 8213, 7552, 7785, 8239, 8398, 7916, 7872, 8015]), 'FPs': array([243,  38, 305, 988, 783, 419, 194, 606, 704, 526]), 'FNs': array([483, 548, 462, 462, 480, 420, 471, 505, 470, 505]), 'accuracy': 0.4941052631578947, 'per_class_accuracy': array([0.92357895, 0.93831579, 0.91926316, 0.84736842, 0.86705263,\n",
      "       0.91168421, 0.93      , 0.88305263, 0.87642105, 0.89147368]), 'per_class_accuracy_mean': 0.898821052631579, 'precision': array([0.64782609, 0.93391304, 0.63030303, 0.33512786, 0.3659919 ,\n",
      "       0.50178359, 0.69255151, 0.43836886, 0.39205527, 0.46326531]), 'precision_mean': 0.5401186453989621, 'recall': array([0.48064516, 0.49493088, 0.52953157, 0.51875   , 0.48497854,\n",
      "       0.50118765, 0.48127753, 0.48364008, 0.49134199, 0.4734098 ]), 'recall_mean': 0.493969320238124, 'predicted_class_distribution': array([ 690,  575,  825, 1486, 1235,  841,  631, 1079, 1158,  980]), 'f1': array([0.55185185, 0.64698795, 0.57553957, 0.40719542, 0.41716659,\n",
      "       0.50148544, 0.56790123, 0.45989305, 0.43611912, 0.46828262]), 'f1_mean': 0.5032422844355209}\n",
      "Saved post-edit metrics saved/edit_2_Spurious_MNIST/method_eac/VGG_16-layernum/0320_111512/layernum_11/results/edit_idx_0/models/post_edit_metrics.pth\n"
     ]
    },
    {
     "name": "stderr",
     "output_type": "stream",
     "text": [
      "\n"
     ]
    },
    {
     "name": "stdout",
     "output_type": "stream",
     "text": [
      "Saved post-edit logits to saved/edit_2_Spurious_MNIST/method_eac/VGG_16-layernum/0320_111512/layernum_11/results/edit_idx_0/models/post_edit_logits.pth\n",
      "All metrics and KNN results can be found in saved/edit_2_Spurious_MNIST/method_eac/VGG_16-layernum/0320_111512/layernum_11/results/edit_idx_0/models\n",
      "Experimenting with layernum of 12\n",
      "(0320_113014) Starting Trial 1/1...\n",
      "saved/edit_2_Spurious_MNIST/method_eac/VGG_16-layernum/0320_111512/layernum_12/results/edit_idx_0\n",
      "torch.Size([1, 3, 32, 32]) torch.Size([1, 3, 32, 32])\n",
      "torch.Size([1, 1, 32, 32])\n",
      "torch.float32\n"
     ]
    },
    {
     "data": {
      "image/png": "[encoded data removed]",
      "text/plain": [
       "<Figure size 750x250 with 3 Axes>"
      ]
     },
     "metadata": {},
     "output_type": "display_data"
    },
    {
     "name": "stdout",
     "output_type": "stream",
     "text": [
      "Editing layer 12\n",
      "Created ModelWrapperSanturkar model with 33646666 trainable parameters\n",
      "Restored weights from saved/train/2_Spurious_MNIST-VGG_16/0317_134644/models/model_best.pth\n",
      "Using passed in data loader for validation.\n",
      "Edit initialization arguments:\n",
      "n_hold_out_per_class: 50\n",
      "data_dir: saved/edit_data/{}/hold_out_{}\n",
      "mask_path: None\n",
      "image_size: [32, 32]\n",
      "edit_idxs_file: edit_idxs.txt\n",
      "edit_pool_file: test_hold_out_{}_eac.pt\n",
      "---***---\n",
      "Performing pre-edit metric calculations on validation set.\n"
     ]
    },
    {
     "name": "stderr",
     "output_type": "stream",
     "text": [
      "100%|███████████████████████████████████████████████████████████| 38/38 [00:01<00:00, 25.56it/s]"
     ]
    },
    {
     "name": "stdout",
     "output_type": "stream",
     "text": [
      "Pre-edit metrics: {'TP': array([448, 537, 520, 498, 452, 423, 437, 473, 454, 454]), 'TN': array([8326, 8375, 8215, 7553, 7786, 8244, 8367, 7920, 7888, 8022]), 'FPs': array([244,  40, 303, 987, 782, 414, 225, 602, 688, 519]), 'FNs': array([482, 548, 462, 462, 480, 419, 471, 505, 470, 505]), 'accuracy': 0.4943157894736842, 'per_class_accuracy': array([0.92357895, 0.93810526, 0.91947368, 0.84747368, 0.86715789,\n",
      "       0.91231579, 0.92673684, 0.88347368, 0.87810526, 0.89221053]), 'per_class_accuracy_mean': 0.8988631578947368, 'precision': array([0.64739884, 0.93067591, 0.63183475, 0.33535354, 0.36628849,\n",
      "       0.50537634, 0.66012085, 0.44      , 0.39754816, 0.46659815]), 'precision_mean': 0.53811950339605, 'recall': array([0.48172043, 0.49493088, 0.52953157, 0.51875   , 0.48497854,\n",
      "       0.5023753 , 0.48127753, 0.48364008, 0.49134199, 0.4734098 ]), 'recall_mean': 0.4941956119654501, 'predicted_class_distribution': array([ 692,  577,  823, 1485, 1234,  837,  662, 1075, 1142,  973]), 'f1': array([0.55240444, 0.64620939, 0.57617729, 0.40736196, 0.41735919,\n",
      "       0.50387135, 0.5566879 , 0.46078909, 0.43949661, 0.4699793 ]), 'f1_mean': 0.5030336508295632}\n"
     ]
    },
    {
     "name": "stderr",
     "output_type": "stream",
     "text": [
      "\n"
     ]
    },
    {
     "name": "stdout",
     "output_type": "stream",
     "text": [
      "Saved pre-edit metrics saved/edit_2_Spurious_MNIST/method_eac/VGG_16-layernum/0320_111512/layernum_12/results/edit_idx_0/models/pre_edit_metrics.pth\n",
      "Saved pre-edit logits to saved/edit_2_Spurious_MNIST/method_eac/VGG_16-layernum/0320_111512/layernum_12/results/edit_idx_0/models/pre_edit_logits.pth\n",
      "Created <class 'trainer.editor.EditorEAC'> editor.\n",
      "Using passed in covariance data loader.\n",
      "Looking for covariance matrix weights in cache/2_Spurious_MNIST_hold_out/vgg16_bn-12\n",
      "Found precomputed cov matrices, returning...\n"
     ]
    },
    {
     "name": "stderr",
     "output_type": "stream",
     "text": [
      "tensor(0.1473, device='cuda:0', grad_fn=<DivBackward0>): 100%|█| 40000/40000 [00:49<00:00, 814.6\n"
     ]
    },
    {
     "name": "stdout",
     "output_type": "stream",
     "text": [
      "Loss (orig, final): 1.2179887294769287 0.14726069569587708\n",
      "L2 norm of weight change: 4.148594379425049\n",
      "Performing post-edit metric calculations on validation set.\n"
     ]
    },
    {
     "name": "stderr",
     "output_type": "stream",
     "text": [
      "100%|███████████████████████████████████████████████████████████| 38/38 [00:01<00:00, 25.46it/s]"
     ]
    },
    {
     "name": "stdout",
     "output_type": "stream",
     "text": [
      "Post-edit metrics: {'TP': array([448, 537, 520, 498, 452, 422, 436, 473, 454, 454]), 'TN': array([8317, 8376, 8213, 7561, 7788, 8237, 8376, 7919, 7885, 8022]), 'FPs': array([253,  39, 305, 979, 780, 421, 216, 603, 691, 519]), 'FNs': array([482, 548, 462, 462, 480, 420, 472, 505, 470, 505]), 'accuracy': 0.4941052631578947, 'per_class_accuracy': array([0.92263158, 0.93821053, 0.91926316, 0.84831579, 0.86736842,\n",
      "       0.91147368, 0.92757895, 0.88336842, 0.87778947, 0.89221053]), 'per_class_accuracy_mean': 0.898821052631579, 'precision': array([0.63908702, 0.93229167, 0.63030303, 0.33716994, 0.36688312,\n",
      "       0.50059312, 0.66871166, 0.43959108, 0.39650655, 0.46659815]), 'precision_mean': 0.5377735326051984, 'recall': array([0.48172043, 0.49493088, 0.52953157, 0.51875   , 0.48497854,\n",
      "       0.50118765, 0.48017621, 0.48364008, 0.49134199, 0.4734098 ]), 'recall_mean': 0.4939667149612541, 'predicted_class_distribution': array([ 701,  576,  825, 1477, 1232,  843,  652, 1076, 1145,  973]), 'f1': array([0.54935622, 0.64659843, 0.57553957, 0.40869922, 0.41774492,\n",
      "       0.50089021, 0.55897436, 0.46056475, 0.43885935, 0.4699793 ]), 'f1_mean': 0.5027206330176655}\n",
      "Saved post-edit metrics saved/edit_2_Spurious_MNIST/method_eac/VGG_16-layernum/0320_111512/layernum_12/results/edit_idx_0/models/post_edit_metrics.pth\n"
     ]
    },
    {
     "name": "stderr",
     "output_type": "stream",
     "text": [
      "\n"
     ]
    },
    {
     "name": "stdout",
     "output_type": "stream",
     "text": [
      "Saved post-edit logits to saved/edit_2_Spurious_MNIST/method_eac/VGG_16-layernum/0320_111512/layernum_12/results/edit_idx_0/models/post_edit_logits.pth\n",
      "All metrics and KNN results can be found in saved/edit_2_Spurious_MNIST/method_eac/VGG_16-layernum/0320_111512/layernum_12/results/edit_idx_0/models\n"
     ]
    }
   ],
   "source": [
    "iv_name = 'layernum'\n",
    "iv_values = [i for i in range(1, 13)]\n",
    "print(\"Varying {} with following values: {}\".format(iv_name, iv_values))\n",
    "\n",
    "run_experiments(\n",
    "    iv_name=iv_name,\n",
    "    iv_values=iv_values,\n",
    "    edit_data=edit_data,\n",
    "    progress_report_path=progress_report_path,\n",
    "    trial_paths_path=trial_paths_path,\n",
    "    timestamp=timestamp,\n",
    "    config_dict=config_dict,\n",
    "    debug=True)"
   ]
  },
  {
   "cell_type": "markdown",
   "metadata": {},
   "source": [
    "## Try creating data loader for edit data"
   ]
  },
  {
   "cell_type": "code",
   "execution_count": 15,
   "metadata": {},
   "outputs": [],
   "source": [
    "import torch\n",
    "import numpy as np\n",
    "import sys\n",
    "\n",
    "from torchvision import transforms\n",
    "from torch.utils.data import Dataset\n",
    "\n",
    "class MNISTEACDataset(Dataset):\n",
    "    '''\n",
    "    Given the pool of edit data and the indices for images for each edit\n",
    "        give a batch of data\n",
    "\n",
    "    Arg(s):\n",
    "        edit_pool_path : str\n",
    "            path to data stored as dict\n",
    "                {\n",
    "                    'keys': N x 3 x H x W np.array\n",
    "                    'values': N x 3 x H x W np.array\n",
    "                    'labels': N np.array,\n",
    "                    'test_set_idxs': N np.array (which indices of test set these values come from),\n",
    "                    'masks': N x 1 x H x W np.array or None\n",
    "                }\n",
    "    '''\n",
    "\n",
    "    def __init__(self,\n",
    "                 edit_pool_path: str,\n",
    "                 edit_idxs_path: str,\n",
    "                 use_masks:bool=True,\n",
    "                 padding: int=0):\n",
    "        # Load in edit pool\n",
    "        self.edit_pool = torch.load(edit_pool_path)\n",
    "        # Load in and process list of indices to use for each edit\n",
    "        self.edit_idxs = read_lists(edit_idxs_path)\n",
    "\n",
    "        # convert each string to list\n",
    "        for row_idx, row in enumerate(self.edit_idxs):\n",
    "            row = row.split(',')\n",
    "            row = [eval(i) for i in row]\n",
    "            self.edit_idxs[row_idx] = np.array(row)\n",
    "\n",
    "        # Assert masks exist if using them\n",
    "        self.use_masks = use_masks\n",
    "        if self.use_masks:\n",
    "            assert 'masks' in self.edit_pool.keys()\n",
    "\n",
    "        # Separate keys, values, masks and convert all of them to torch.Tensors\n",
    "        self.keys = torch.from_numpy(self.edit_pool['keys'])\n",
    "        self.values = torch.from_numpy(self.edit_pool['values'])\n",
    "        self.masks = torch.from_numpy(self.edit_pool['masks'])\n",
    "        self.labels = torch.from_numpy(self.edit_pool['labels'])\n",
    "\n",
    "        # Create transforms\n",
    "        transform = []\n",
    "        if padding > 0:\n",
    "            transform.append(transforms.Pad(padding, padding_mode='edge'))\n",
    "        if len(transform) > 0:\n",
    "            self.transform = transforms.Compose(transform)\n",
    "        else:\n",
    "            self.transform = None\n",
    "\n",
    "\n",
    "    def __getitem__(self, index):\n",
    "        cur_idxs = self.edit_idxs[index] # list of indices\n",
    "        cur_keys = self.keys[cur_idxs]\n",
    "        cur_values = self.values[cur_idxs]\n",
    "        cur_labels = self.labels[cur_idxs]\n",
    "\n",
    "        if self.use_masks:\n",
    "            cur_masks = self.masks[cur_idxs]\n",
    "        else:\n",
    "            masks_shape = list(cur_keys.shape)\n",
    "            masks_shape[-3] = 1\n",
    "            cur_masks =  torch.ones(masks_shape)\n",
    "            \n",
    "        cur_masks = cur_masks.to(torch.int32)\n",
    "\n",
    "        cur_keys = self.transform(cur_keys)\n",
    "        cur_values = self.transform(cur_values)\n",
    "        cur_masks = self.transform(cur_masks)\n",
    "\n",
    "        \n",
    "\n",
    "        # This is the format EAC expects\n",
    "        cur_edit_data = {\n",
    "            'imgs': cur_values,\n",
    "            'modified_imgs': cur_keys,\n",
    "            'masks': cur_masks\n",
    "        }\n",
    "\n",
    "        return cur_edit_data, cur_labels\n",
    "    \n",
    "    def __len__(self):\n",
    "        return len(self.edit_idxs)"
   ]
  },
  {
   "cell_type": "code",
   "execution_count": 20,
   "metadata": {
    "scrolled": true,
    "tags": []
   },
   "outputs": [
    {
     "name": "stdout",
     "output_type": "stream",
     "text": [
      "saved/edit_data/2_Spurious_MNIST/hold_out_50/edit_idxs.txt\n",
      "(0320_160956) Starting Trial 1/3...\n",
      "saved/edit_2_Spurious_MNIST/method_eac/VGG_16-layernum/0320_160517/debug/results/edit_idx_0\n",
      "torch.Size([1, 1, 32, 32])\n",
      "3 1\n"
     ]
    },
    {
     "data": {
      "image/png": "[encoded data removed]",
      "text/plain": [
       "<Figure size 250x750 with 3 Axes>"
      ]
     },
     "metadata": {},
     "output_type": "display_data"
    },
    {
     "name": "stdout",
     "output_type": "stream",
     "text": [
      "Editing layer 12\n",
      "Created ModelWrapperSanturkar model with 33646666 trainable parameters\n",
      "Restored weights from saved/train/2_Spurious_MNIST-VGG_16/0317_134644/models/model_best.pth\n",
      "Using passed in data loader for validation.\n",
      "Edit initialization arguments:\n",
      "n_hold_out_per_class: 50\n",
      "data_dir: saved/edit_data/{}/hold_out_{}\n",
      "mask_path: None\n",
      "image_size: [32, 32]\n",
      "edit_idxs_file: edit_idxs.txt\n",
      "edit_pool_file: test_hold_out_{}_eac.pt\n",
      "---***---\n",
      "Performing pre-edit metric calculations on validation set.\n"
     ]
    },
    {
     "name": "stderr",
     "output_type": "stream",
     "text": [
      "100%|███████████████████████████████████████████████████████████| 38/38 [00:01<00:00, 24.50it/s]"
     ]
    },
    {
     "name": "stdout",
     "output_type": "stream",
     "text": [
      "Pre-edit metrics: {'TP': array([448, 537, 520, 498, 452, 423, 437, 473, 454, 454]), 'TN': array([8326, 8375, 8215, 7553, 7786, 8244, 8367, 7920, 7888, 8022]), 'FPs': array([244,  40, 303, 987, 782, 414, 225, 602, 688, 519]), 'FNs': array([482, 548, 462, 462, 480, 419, 471, 505, 470, 505]), 'accuracy': 0.4943157894736842, 'per_class_accuracy': array([0.92357895, 0.93810526, 0.91947368, 0.84747368, 0.86715789,\n",
      "       0.91231579, 0.92673684, 0.88347368, 0.87810526, 0.89221053]), 'per_class_accuracy_mean': 0.8988631578947368, 'precision': array([0.64739884, 0.93067591, 0.63183475, 0.33535354, 0.36628849,\n",
      "       0.50537634, 0.66012085, 0.44      , 0.39754816, 0.46659815]), 'precision_mean': 0.53811950339605, 'recall': array([0.48172043, 0.49493088, 0.52953157, 0.51875   , 0.48497854,\n",
      "       0.5023753 , 0.48127753, 0.48364008, 0.49134199, 0.4734098 ]), 'recall_mean': 0.4941956119654501, 'predicted_class_distribution': array([ 692,  577,  823, 1485, 1234,  837,  662, 1075, 1142,  973]), 'f1': array([0.55240444, 0.64620939, 0.57617729, 0.40736196, 0.41735919,\n",
      "       0.50387135, 0.5566879 , 0.46078909, 0.43949661, 0.4699793 ]), 'f1_mean': 0.5030336508295632}\n"
     ]
    },
    {
     "name": "stderr",
     "output_type": "stream",
     "text": [
      "\n"
     ]
    },
    {
     "name": "stdout",
     "output_type": "stream",
     "text": [
      "Saved pre-edit metrics saved/edit_2_Spurious_MNIST/method_eac/VGG_16-layernum/0320_160517/debug/results/edit_idx_0/models/pre_edit_metrics.pth\n",
      "Saved pre-edit logits to saved/edit_2_Spurious_MNIST/method_eac/VGG_16-layernum/0320_160517/debug/results/edit_idx_0/models/pre_edit_logits.pth\n",
      "Created <class 'trainer.editor.EditorEAC'> editor.\n",
      "Using passed in covariance data loader.\n",
      "Looking for covariance matrix weights in cache/2_Spurious_MNIST_hold_out/vgg16_bn-12\n",
      "Found precomputed cov matrices, returning...\n"
     ]
    },
    {
     "name": "stderr",
     "output_type": "stream",
     "text": [
      "tensor(0.1473, device='cuda:0', grad_fn=<DivBackward0>): 100%|█| 40000/40000 [00:49<00:00, 810.3\n"
     ]
    },
    {
     "name": "stdout",
     "output_type": "stream",
     "text": [
      "Loss (orig, final): 1.2179887294769287 0.14726069569587708\n",
      "L2 norm of weight change: 4.148594379425049\n",
      "Performing post-edit metric calculations on validation set.\n"
     ]
    },
    {
     "name": "stderr",
     "output_type": "stream",
     "text": [
      "100%|███████████████████████████████████████████████████████████| 38/38 [00:01<00:00, 25.08it/s]"
     ]
    },
    {
     "name": "stdout",
     "output_type": "stream",
     "text": [
      "Post-edit metrics: {'TP': array([448, 537, 520, 498, 452, 422, 436, 473, 454, 454]), 'TN': array([8317, 8376, 8213, 7561, 7788, 8237, 8376, 7919, 7885, 8022]), 'FPs': array([253,  39, 305, 979, 780, 421, 216, 603, 691, 519]), 'FNs': array([482, 548, 462, 462, 480, 420, 472, 505, 470, 505]), 'accuracy': 0.4941052631578947, 'per_class_accuracy': array([0.92263158, 0.93821053, 0.91926316, 0.84831579, 0.86736842,\n",
      "       0.91147368, 0.92757895, 0.88336842, 0.87778947, 0.89221053]), 'per_class_accuracy_mean': 0.898821052631579, 'precision': array([0.63908702, 0.93229167, 0.63030303, 0.33716994, 0.36688312,\n",
      "       0.50059312, 0.66871166, 0.43959108, 0.39650655, 0.46659815]), 'precision_mean': 0.5377735326051984, 'recall': array([0.48172043, 0.49493088, 0.52953157, 0.51875   , 0.48497854,\n",
      "       0.50118765, 0.48017621, 0.48364008, 0.49134199, 0.4734098 ]), 'recall_mean': 0.4939667149612541, 'predicted_class_distribution': array([ 701,  576,  825, 1477, 1232,  843,  652, 1076, 1145,  973]), 'f1': array([0.54935622, 0.64659843, 0.57553957, 0.40869922, 0.41774492,\n",
      "       0.50089021, 0.55897436, 0.46056475, 0.43885935, 0.4699793 ]), 'f1_mean': 0.5027206330176655}\n",
      "Saved post-edit metrics saved/edit_2_Spurious_MNIST/method_eac/VGG_16-layernum/0320_160517/debug/results/edit_idx_0/models/post_edit_metrics.pth\n",
      "Saved post-edit logits to saved/edit_2_Spurious_MNIST/method_eac/VGG_16-layernum/0320_160517/debug/results/edit_idx_0/models/post_edit_logits.pth\n",
      "All metrics and KNN results can be found in saved/edit_2_Spurious_MNIST/method_eac/VGG_16-layernum/0320_160517/debug/results/edit_idx_0/models\n"
     ]
    },
    {
     "name": "stderr",
     "output_type": "stream",
     "text": [
      "\n"
     ]
    },
    {
     "name": "stdout",
     "output_type": "stream",
     "text": [
      "(0320_161051) Starting Trial 2/3...\n",
      "saved/edit_2_Spurious_MNIST/method_eac/VGG_16-layernum/0320_160517/debug/results/edit_idx_1\n",
      "torch.Size([2, 1, 32, 32])\n",
      "3 2\n"
     ]
    },
    {
     "data": {
      "image/png": "[encoded data removed]",
      "text/plain": [
       "<Figure size 500x750 with 6 Axes>"
      ]
     },
     "metadata": {},
     "output_type": "display_data"
    },
    {
     "name": "stdout",
     "output_type": "stream",
     "text": [
      "Editing layer 12\n",
      "Created ModelWrapperSanturkar model with 33646666 trainable parameters\n",
      "Restored weights from saved/train/2_Spurious_MNIST-VGG_16/0317_134644/models/model_best.pth\n",
      "Using passed in data loader for validation.\n",
      "Edit initialization arguments:\n",
      "n_hold_out_per_class: 50\n",
      "data_dir: saved/edit_data/{}/hold_out_{}\n",
      "mask_path: None\n",
      "image_size: [32, 32]\n",
      "edit_idxs_file: edit_idxs.txt\n",
      "edit_pool_file: test_hold_out_{}_eac.pt\n",
      "---***---\n",
      "Performing pre-edit metric calculations on validation set.\n"
     ]
    },
    {
     "name": "stderr",
     "output_type": "stream",
     "text": [
      "100%|███████████████████████████████████████████████████████████| 38/38 [00:01<00:00, 25.63it/s]"
     ]
    },
    {
     "name": "stdout",
     "output_type": "stream",
     "text": [
      "Pre-edit metrics: {'TP': array([448, 537, 520, 498, 452, 423, 437, 473, 454, 454]), 'TN': array([8326, 8375, 8215, 7553, 7786, 8244, 8367, 7920, 7888, 8022]), 'FPs': array([244,  40, 303, 987, 782, 414, 225, 602, 688, 519]), 'FNs': array([482, 548, 462, 462, 480, 419, 471, 505, 470, 505]), 'accuracy': 0.4943157894736842, 'per_class_accuracy': array([0.92357895, 0.93810526, 0.91947368, 0.84747368, 0.86715789,\n",
      "       0.91231579, 0.92673684, 0.88347368, 0.87810526, 0.89221053]), 'per_class_accuracy_mean': 0.8988631578947368, 'precision': array([0.64739884, 0.93067591, 0.63183475, 0.33535354, 0.36628849,\n",
      "       0.50537634, 0.66012085, 0.44      , 0.39754816, 0.46659815]), 'precision_mean': 0.53811950339605, 'recall': array([0.48172043, 0.49493088, 0.52953157, 0.51875   , 0.48497854,\n",
      "       0.5023753 , 0.48127753, 0.48364008, 0.49134199, 0.4734098 ]), 'recall_mean': 0.4941956119654501, 'predicted_class_distribution': array([ 692,  577,  823, 1485, 1234,  837,  662, 1075, 1142,  973]), 'f1': array([0.55240444, 0.64620939, 0.57617729, 0.40736196, 0.41735919,\n",
      "       0.50387135, 0.5566879 , 0.46078909, 0.43949661, 0.4699793 ]), 'f1_mean': 0.5030336508295632}\n"
     ]
    },
    {
     "name": "stderr",
     "output_type": "stream",
     "text": [
      "\n"
     ]
    },
    {
     "name": "stdout",
     "output_type": "stream",
     "text": [
      "Saved pre-edit metrics saved/edit_2_Spurious_MNIST/method_eac/VGG_16-layernum/0320_160517/debug/results/edit_idx_1/models/pre_edit_metrics.pth\n",
      "Saved pre-edit logits to saved/edit_2_Spurious_MNIST/method_eac/VGG_16-layernum/0320_160517/debug/results/edit_idx_1/models/pre_edit_logits.pth\n",
      "Created <class 'trainer.editor.EditorEAC'> editor.\n",
      "Using passed in covariance data loader.\n",
      "Looking for covariance matrix weights in cache/2_Spurious_MNIST_hold_out/vgg16_bn-12\n",
      "Found precomputed cov matrices, returning...\n"
     ]
    },
    {
     "name": "stderr",
     "output_type": "stream",
     "text": [
      "tensor(0.1111, device='cuda:0', grad_fn=<DivBackward0>): 100%|█| 40000/40000 [00:49<00:00, 806.6\n"
     ]
    },
    {
     "name": "stdout",
     "output_type": "stream",
     "text": [
      "Loss (orig, final): 1.1168369054794312 0.11109685152769089\n",
      "L2 norm of weight change: 10.81692123413086\n",
      "Performing post-edit metric calculations on validation set.\n"
     ]
    },
    {
     "name": "stderr",
     "output_type": "stream",
     "text": [
      "100%|███████████████████████████████████████████████████████████| 38/38 [00:01<00:00, 25.64it/s]"
     ]
    },
    {
     "name": "stdout",
     "output_type": "stream",
     "text": [
      "Post-edit metrics: {'TP': array([448, 537, 520, 498, 451, 422, 436, 471, 454, 455]), 'TN': array([8322, 8376, 8217, 7542, 7798, 8256, 8358, 7931, 7875, 8017]), 'FPs': array([248,  39, 301, 998, 770, 402, 234, 591, 701, 524]), 'FNs': array([482, 548, 462, 462, 481, 420, 472, 507, 470, 504]), 'accuracy': 0.4938947368421053, 'per_class_accuracy': array([0.92315789, 0.93821053, 0.91968421, 0.84631579, 0.86831579,\n",
      "       0.91347368, 0.92568421, 0.88442105, 0.87673684, 0.89178947]), 'per_class_accuracy_mean': 0.8987789473684211, 'precision': array([0.64367816, 0.93229167, 0.63337393, 0.3328877 , 0.36936937,\n",
      "       0.51213592, 0.65074627, 0.44350282, 0.39307359, 0.46475996]), 'precision_mean': 0.5375819399778033, 'recall': array([0.48172043, 0.49493088, 0.52953157, 0.51875   , 0.48390558,\n",
      "       0.50118765, 0.48017621, 0.48159509, 0.49134199, 0.47445255]), 'recall_mean': 0.49375919513316696, 'predicted_class_distribution': array([ 696,  576,  821, 1496, 1221,  824,  670, 1062, 1155,  979]), 'f1': array([0.55104551, 0.64659843, 0.57681642, 0.40553746, 0.4189503 ,\n",
      "       0.50660264, 0.55259823, 0.46176471, 0.43674844, 0.46955624]), 'f1_mean': 0.5026218376242648}\n",
      "Saved post-edit metrics saved/edit_2_Spurious_MNIST/method_eac/VGG_16-layernum/0320_160517/debug/results/edit_idx_1/models/post_edit_metrics.pth\n",
      "Saved post-edit logits to saved/edit_2_Spurious_MNIST/method_eac/VGG_16-layernum/0320_160517/debug/results/edit_idx_1/models/post_edit_logits.pth\n",
      "All metrics and KNN results can be found in saved/edit_2_Spurious_MNIST/method_eac/VGG_16-layernum/0320_160517/debug/results/edit_idx_1/models\n"
     ]
    },
    {
     "name": "stderr",
     "output_type": "stream",
     "text": [
      "\n"
     ]
    },
    {
     "name": "stdout",
     "output_type": "stream",
     "text": [
      "(0320_161146) Starting Trial 3/3...\n",
      "saved/edit_2_Spurious_MNIST/method_eac/VGG_16-layernum/0320_160517/debug/results/edit_idx_2\n",
      "torch.Size([3, 1, 32, 32])\n",
      "3 3\n"
     ]
    },
    {
     "data": {
      "image/png": "[encoded data removed]",
      "text/plain": [
       "<Figure size 750x750 with 9 Axes>"
      ]
     },
     "metadata": {},
     "output_type": "display_data"
    },
    {
     "name": "stdout",
     "output_type": "stream",
     "text": [
      "Editing layer 12\n",
      "Created ModelWrapperSanturkar model with 33646666 trainable parameters\n",
      "Restored weights from saved/train/2_Spurious_MNIST-VGG_16/0317_134644/models/model_best.pth\n",
      "Using passed in data loader for validation.\n",
      "Edit initialization arguments:\n",
      "n_hold_out_per_class: 50\n",
      "data_dir: saved/edit_data/{}/hold_out_{}\n",
      "mask_path: None\n",
      "image_size: [32, 32]\n",
      "edit_idxs_file: edit_idxs.txt\n",
      "edit_pool_file: test_hold_out_{}_eac.pt\n",
      "---***---\n",
      "Performing pre-edit metric calculations on validation set.\n"
     ]
    },
    {
     "name": "stderr",
     "output_type": "stream",
     "text": [
      "100%|███████████████████████████████████████████████████████████| 38/38 [00:01<00:00, 24.92it/s]\n"
     ]
    },
    {
     "name": "stdout",
     "output_type": "stream",
     "text": [
      "Pre-edit metrics: {'TP': array([448, 537, 520, 498, 452, 423, 437, 473, 454, 454]), 'TN': array([8326, 8375, 8215, 7553, 7786, 8244, 8367, 7920, 7888, 8022]), 'FPs': array([244,  40, 303, 987, 782, 414, 225, 602, 688, 519]), 'FNs': array([482, 548, 462, 462, 480, 419, 471, 505, 470, 505]), 'accuracy': 0.4943157894736842, 'per_class_accuracy': array([0.92357895, 0.93810526, 0.91947368, 0.84747368, 0.86715789,\n",
      "       0.91231579, 0.92673684, 0.88347368, 0.87810526, 0.89221053]), 'per_class_accuracy_mean': 0.8988631578947368, 'precision': array([0.64739884, 0.93067591, 0.63183475, 0.33535354, 0.36628849,\n",
      "       0.50537634, 0.66012085, 0.44      , 0.39754816, 0.46659815]), 'precision_mean': 0.53811950339605, 'recall': array([0.48172043, 0.49493088, 0.52953157, 0.51875   , 0.48497854,\n",
      "       0.5023753 , 0.48127753, 0.48364008, 0.49134199, 0.4734098 ]), 'recall_mean': 0.4941956119654501, 'predicted_class_distribution': array([ 692,  577,  823, 1485, 1234,  837,  662, 1075, 1142,  973]), 'f1': array([0.55240444, 0.64620939, 0.57617729, 0.40736196, 0.41735919,\n",
      "       0.50387135, 0.5566879 , 0.46078909, 0.43949661, 0.4699793 ]), 'f1_mean': 0.5030336508295632}\n",
      "Saved pre-edit metrics saved/edit_2_Spurious_MNIST/method_eac/VGG_16-layernum/0320_160517/debug/results/edit_idx_2/models/pre_edit_metrics.pth\n",
      "Saved pre-edit logits to saved/edit_2_Spurious_MNIST/method_eac/VGG_16-layernum/0320_160517/debug/results/edit_idx_2/models/pre_edit_logits.pth\n",
      "Created <class 'trainer.editor.EditorEAC'> editor.\n",
      "Using passed in covariance data loader.\n",
      "Looking for covariance matrix weights in cache/2_Spurious_MNIST_hold_out/vgg16_bn-12\n",
      "Found precomputed cov matrices, returning...\n"
     ]
    },
    {
     "name": "stderr",
     "output_type": "stream",
     "text": [
      "tensor(0.0897, device='cuda:0', grad_fn=<DivBackward0>): 100%|█| 40000/40000 [00:49<00:00, 801.3\n"
     ]
    },
    {
     "name": "stdout",
     "output_type": "stream",
     "text": [
      "Loss (orig, final): 0.9827195405960083 0.08967384696006775\n",
      "L2 norm of weight change: 3.370163679122925\n",
      "Performing post-edit metric calculations on validation set.\n"
     ]
    },
    {
     "name": "stderr",
     "output_type": "stream",
     "text": [
      "100%|███████████████████████████████████████████████████████████| 38/38 [00:01<00:00, 24.89it/s]\n"
     ]
    },
    {
     "name": "stdout",
     "output_type": "stream",
     "text": [
      "Post-edit metrics: {'TP': array([448, 537, 522, 498, 452, 423, 437, 473, 454, 454]), 'TN': array([8321, 8376, 8228, 7548, 7783, 8243, 8364, 7916, 7894, 8025]), 'FPs': array([249,  39, 290, 992, 785, 415, 228, 606, 682, 516]), 'FNs': array([482, 548, 460, 462, 480, 419, 471, 505, 470, 505]), 'accuracy': 0.4945263157894737, 'per_class_accuracy': array([0.92305263, 0.93821053, 0.92105263, 0.84694737, 0.86684211,\n",
      "       0.91221053, 0.92642105, 0.88305263, 0.87873684, 0.89252632]), 'per_class_accuracy_mean': 0.8989052631578947, 'precision': array([0.64275466, 0.93229167, 0.64285714, 0.33422819, 0.36540016,\n",
      "       0.50477327, 0.65714286, 0.43836886, 0.39964789, 0.46804124]), 'precision_mean': 0.5385505933291054, 'recall': array([0.48172043, 0.49493088, 0.53156823, 0.51875   , 0.48497854,\n",
      "       0.5023753 , 0.48127753, 0.48364008, 0.49134199, 0.4734098 ]), 'recall_mean': 0.49439927795323013, 'predicted_class_distribution': array([ 697,  576,  812, 1490, 1237,  838,  665, 1079, 1136,  970]), 'f1': array([0.55070682, 0.64659843, 0.5819398 , 0.40653061, 0.41678193,\n",
      "       0.50357143, 0.55562619, 0.45989305, 0.4407767 , 0.47071021]), 'f1_mean': 0.5033135176045829}\n",
      "Saved post-edit metrics saved/edit_2_Spurious_MNIST/method_eac/VGG_16-layernum/0320_160517/debug/results/edit_idx_2/models/post_edit_metrics.pth\n",
      "Saved post-edit logits to saved/edit_2_Spurious_MNIST/method_eac/VGG_16-layernum/0320_160517/debug/results/edit_idx_2/models/post_edit_logits.pth\n",
      "All metrics and KNN results can be found in saved/edit_2_Spurious_MNIST/method_eac/VGG_16-layernum/0320_160517/debug/results/edit_idx_2/models\n"
     ]
    }
   ],
   "source": [
    "print(edit_idxs_path)\n",
    "MNIST_edit_dataset = MNISTEACDataset(\n",
    "    edit_pool_path=edit_data_path,\n",
    "    edit_idxs_path=edit_idxs_path,\n",
    "    use_masks=False,\n",
    "    padding=2)\n",
    "\n",
    "edit_data_loader = torch.utils.data.DataLoader(\n",
    "    MNIST_edit_dataset,\n",
    "    shuffle=False,\n",
    "    batch_size=1,\n",
    "    num_workers=8\n",
    ")\n",
    "\n",
    "\n",
    "run_trials_w_data_loader(\n",
    "    edit_data_loader=edit_data_loader,\n",
    "    progress_report_path=progress_report_path,\n",
    "    trial_paths_path=trial_paths_path,\n",
    "    config_dict=config_dict,\n",
    "    run_id_prefix=os.path.join(timestamp, \"debug\"),\n",
    "    debug=True)\n",
    "# for data, label in edit_data_loader:\n",
    "#     # Remember to squeeze the first dimension\n",
    "#     for key, item in data.items():\n",
    "#         print(item.shape)\n",
    "#         item = torch.squeeze(item, dim=0)\n",
    "#         data[key] = item\n",
    "\n",
    "        \n",
    "#     label = torch.squeeze(label, dim=0)\n",
    "#     # keys = data['imgs'].tolist()\n",
    "#     # print(data['imgs'].shape)\n",
    "#     # print(data['modified_imgs'].shape)\n",
    "#     values = torch.squeeze(data['imgs'])\n",
    "#     keys = torch.squeeze(data['modified_imgs'])\n",
    "#     masks = torch.squeeze(data['masks'])\n",
    "    \n",
    "#     # show_image_rows(data['masks'])\n",
    "#     print(data['masks'].shape)\n",
    "#     display_masks = torch.cat([data['masks'] for i in range(3)], dim=1).to(torch.float32)\n",
    "#     if len(keys.shape) == 3:\n",
    "#         # show_image_rows(\n",
    "#         #     images=[[keys], [values], [masks]])\n",
    "#         continue\n",
    "#     else:\n",
    "#         show_image_rows(\n",
    "#             images=[keys, values, display_masks])\n",
    "\n",
    "        "
   ]
  },
  {
   "cell_type": "code",
   "execution_count": null,
   "metadata": {},
   "outputs": [],
   "source": []
  }
 ],
 "metadata": {
  "kernelspec": {
   "display_name": "editing",
   "language": "python",
   "name": "editing"
  },
  "language_info": {
   "codemirror_mode": {
    "name": "ipython",
    "version": 3
   },
   "file_extension": ".py",
   "mimetype": "text/x-python",
   "name": "python",
   "nbconvert_exporter": "python",
   "pygments_lexer": "ipython3",
   "version": "3.8.13"
  }
 },
 "nbformat": 4,
 "nbformat_minor": 4
}
