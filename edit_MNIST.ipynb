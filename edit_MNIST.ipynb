{
 "cells": [
  {
   "cell_type": "markdown",
   "metadata": {},
   "source": [
    "## Test out how to edit on 2_Spurious_MNIST dataset"
   ]
  },
  {
   "cell_type": "code",
   "execution_count": 1,
   "metadata": {},
   "outputs": [],
   "source": [
    "# General imports\n",
    "import torch\n",
    "import numpy as np\n",
    "import os, sys\n",
    "import json\n",
    "from tqdm import tqdm\n",
    "from datetime import datetime\n",
    "import pandas as pd"
   ]
  },
  {
   "cell_type": "code",
   "execution_count": 2,
   "metadata": {},
   "outputs": [],
   "source": [
    "# Local imports\n",
    "sys.path.insert(0, 'src')\n",
    "from utils import read_json, read_lists, informal_log, list_to_dict, write_lists, write_json\n",
    "from utils.visualizations import show_image_rows, make_grid\n",
    "from utils.model_utils import prepare_device\n",
    "from parse_config import ConfigParser\n",
    "# from data_loader import data_loaders\n",
    "import datasets.datasets as module_data\n",
    "import model.model as module_arch\n",
    "from utils.knn_utils import load_and_analyze_knn\n",
    "from utils.results_to_csv import store_csv\n",
    "from edit_MNIST import main as edit"
   ]
  },
  {
   "cell_type": "code",
   "execution_count": 3,
   "metadata": {},
   "outputs": [],
   "source": [
    "# Define constants, paths\n",
    "dataset_type = '2_Spurious_MNIST'\n",
    "config_path = os.path.join('configs', 'MNIST', '{}_edit.json'.format(dataset_type))\n",
    "config_dict = read_json(config_path)\n",
    "class_list = [i for i in range(10)]\n",
    "n_hold_out_per_class = config_dict['editor']['edit_data_args']['n_hold_out_per_class']\n",
    "edit_data_dir = config_dict['editor']['edit_data_args']['data_dir'].format(\n",
    "    dataset_type, n_hold_out_per_class)\n",
    "\n",
    "edit_data_path = os.path.join(edit_data_dir, 'test_hold_out_{}_eac.pt'.format(n_hold_out_per_class))\n",
    "label_idx_dict_path = os.path.join(edit_data_dir, 'label_idx_dict.pt')\n",
    "\n",
    "# edit_data = torch.load(edit_data_path)\n",
    "label_idx_dict = torch.load(label_idx_dict_path)\n",
    "\n",
    "\n",
    "# class_list_path = 'metadata/cinic-10/class_names.txt'\n",
    "\n",
    "analyze_in_edit = True\n",
    "\n"
   ]
  },
  {
   "cell_type": "code",
   "execution_count": 4,
   "metadata": {},
   "outputs": [],
   "source": [
    "# Load config file\n",
    "config = ConfigParser(config_dict)\n",
    "\n",
    "# Set K\n",
    "K = config_dict['editor']['K']\n",
    "\n",
    "device, device_ids = prepare_device(config_dict['n_gpu'])"
   ]
  },
  {
   "cell_type": "code",
   "execution_count": 5,
   "metadata": {},
   "outputs": [],
   "source": [
    "# Load datasets\n",
    "data_loader_args = dict(config_dict[\"data_loader\"][\"args\"])\n",
    "dataset_args = dict(config_dict[\"dataset\"][\"args\"])\n",
    "\n",
    "# Create validation data loader\n",
    "dataset_args.update({\"split\": \"test\"})\n",
    "test_dataset = module_data.ColoredMNIST(**dataset_args)\n",
    "\n",
    "test_data_loader = torch.utils.data.DataLoader(\n",
    "    test_dataset,\n",
    "    **data_loader_args\n",
    ")\n",
    "\n",
    "# Create data loader for covariance matrix\n",
    "\n",
    "dataset_args.update({\"split\": \"test_hold_out_{}\".format(n_hold_out_per_class)})\n",
    "covariance_dataset = module_data.ColoredMNIST(**dataset_args)\n",
    "covariance_data_loader = torch.utils.data.DataLoader(\n",
    "    covariance_dataset,\n",
    "    **data_loader_args\n",
    ")\n"
   ]
  },
  {
   "cell_type": "markdown",
   "metadata": {},
   "source": [
    "### Create log and save paths"
   ]
  },
  {
   "cell_type": "code",
   "execution_count": 6,
   "metadata": {},
   "outputs": [
    {
     "name": "stdout",
     "output_type": "stream",
     "text": [
      "Saving path to directories for each trial to saved/edit_2_Spurious_MNIST/method_eac/debug/2_Spurious_MNIST-VGG_16/0317_154335/trial_paths.txt\n",
      "Printing progress reports to saved/edit_2_Spurious_MNIST/method_eac/debug/2_Spurious_MNIST-VGG_16/0317_154335/progress_report.txt\n"
     ]
    }
   ],
   "source": [
    "# create log path to store the paths to each trial\n",
    "save_root = config_dict['trainer']['save_dir']\n",
    "timestamp = os.path.basename(os.path.dirname(config.save_dir))\n",
    "\n",
    "save_trials_path = os.path.join(save_root, config_dict['name'], timestamp, 'trial_paths.txt')\n",
    "progress_report_path = os.path.join(save_root, config_dict['name'], timestamp, 'progress_report.txt')\n",
    "if os.path.exists(save_trials_path):\n",
    "    # os.remove(save_trials_path)\n",
    "    print(\"Path {} already exists. Aborting.\".format(save_trials_path))\n",
    "else:\n",
    "    # progress_report_path = os.path.join(save_root, config_dict['name'], timestamp, 'progress_report.txt')\n",
    "    if os.path.exists(progress_report_path):\n",
    "        os.remove(progress_report_path)\n",
    "    print(\"Saving path to directories for each trial to {}\".format(save_trials_path))\n",
    "    print(\"Printing progress reports to {}\".format(progress_report_path))"
   ]
  },
  {
   "cell_type": "markdown",
   "metadata": {},
   "source": [
    "### Read in idxs of selected images to use for edit"
   ]
  },
  {
   "cell_type": "code",
   "execution_count": 7,
   "metadata": {},
   "outputs": [
    {
     "name": "stdout",
     "output_type": "stream",
     "text": [
      "[array([3]), array([2]), array([1]), array([18]), array([4]), array([8]), array([6]), array([61]), array([7])]\n"
     ]
    }
   ],
   "source": [
    "# Obtain list of idxs for edits\n",
    "edit_idxs_filename = config_dict['editor']['edit_data_args']['edit_idxs_file']\n",
    "edit_idxs_path = os.path.join(edit_data_dir, edit_idxs_filename)\n",
    "edit_idxs = read_lists(edit_idxs_path)\n",
    "\n",
    "# convert each string to list\n",
    "for row_idx, row in enumerate(edit_idxs):\n",
    "    row = row.split(',')\n",
    "    row = [eval(i) for i in row]\n",
    "    edit_idxs[row_idx] = np.array(row)\n",
    "\n",
    "print(edit_idxs)"
   ]
  },
  {
   "cell_type": "code",
   "execution_count": 8,
   "metadata": {},
   "outputs": [
    {
     "name": "stdout",
     "output_type": "stream",
     "text": [
      "9\n"
     ]
    }
   ],
   "source": [
    "# Given edit keys and values and list of idxs, return tensor of the images we want\n",
    "\n",
    "def get_edit_data(edit_image_pool, idxs):\n",
    "    '''\n",
    "    \n",
    "    Arg(s):\n",
    "        edit_image_pool : dict\n",
    "            dictionary keyed by ['keys', 'values', 'labels', 'test_set_idxs'] (idxs is idx from test set)\n",
    "            Pool of data to choose edit image from\n",
    "        idxs : 1D np.array(int)\n",
    "            idxs for the edit (NOT corresponding to test set idxs)\n",
    "    '''\n",
    "    pool_keys = edit_image_pool['keys']\n",
    "    pool_values = edit_image_pool['values']\n",
    "    pool_labels = edit_image_pool['labels']\n",
    "    \n",
    "    edit_keys = pool_keys[idxs]\n",
    "    edit_values = pool_values[idxs]\n",
    "    edit_labels = pool_labels[idxs]\n",
    "    \n",
    "    return edit_keys, edit_values, edit_labels\n",
    "    \n",
    "edit_pool_filename = config_dict['editor']['edit_data_args']['edit_pool_file'].format(n_hold_out_per_class)\n",
    "edit_pool_path = os.path.join(edit_data_dir, edit_pool_filename)\n",
    "edit_pool = torch.load(edit_pool_path)\n",
    "edit_data = []\n",
    "\n",
    "for edit_i in edit_idxs:\n",
    "    edit_data.append(get_edit_data(edit_image_pool=edit_pool, idxs=edit_i))\n",
    "print(len(edit_data))\n",
    "\n",
    "\n",
    "    "
   ]
  },
  {
   "cell_type": "markdown",
   "metadata": {},
   "source": [
    "## Run edit for each modified image"
   ]
  },
  {
   "cell_type": "code",
   "execution_count": 9,
   "metadata": {},
   "outputs": [],
   "source": [
    "# import data_loader.data_loaders as module_data\n",
    "from predict import predict\n",
    "import datasets.datasets as module_data\n",
    "import model.loss as module_loss\n",
    "import model.metric as module_metric\n",
    "import model.model as module_arch\n",
    "from trainer.editor import get_editor\n",
    "from parse_config import ConfigParser\n",
    "from utils.model_utils import prepare_device\n",
    "from utils import read_lists\n",
    "from utils.MNIST_edit_utils import prepare_edit_data_eac\n",
    "from utils.knn_utils import knn, analyze_knn\n",
    "\n",
    "\n",
    "# fix random seeds for reproducibility\n",
    "SEED = 123\n",
    "torch.manual_seed(SEED)\n",
    "torch.cuda.manual_seed(SEED)\n",
    "torch.backends.cudnn.deterministic = True\n",
    "torch.backends.cudnn.benchmark = False\n",
    "np.random.seed(SEED)\n",
    "\n",
    "def edit_MNIST(config,\n",
    "         # keys,\n",
    "         # values,\n",
    "         # labels,\n",
    "         edit_data,\n",
    "         test_data_loader=None,\n",
    "         covariance_data_loader=None,\n",
    "         do_analyze_knn=False):\n",
    "    # Obtain variables from config\n",
    "    logger = config.get_logger('train')\n",
    "    assert config.config['method'] == 'edit', \"Invalid method '{}'. Must be 'edit'\".format(config.config['method'])\n",
    "    K = config.config['editor']['K']  # for KNN\n",
    "    noise_edit = config.config['editor']['args']['noise_edit']\n",
    "    if noise_edit:\n",
    "        assert K == 0, \"Cannot perform KNN analysis with random edits.\"\n",
    "\n",
    "    # Determine edit method based on model type\n",
    "    if 'Santurkar' in config.config['arch']['type']:\n",
    "        edit_method = 'eac'\n",
    "    elif 'Sinitson' in config.config['arch']['type']:\n",
    "        edit_method = 'enn'\n",
    "\n",
    "    # Store variables for if we want to perform knn analysis here\n",
    "    if 'perform_analysis' in config.config['editor']:\n",
    "        do_analyze_knn = config.config['editor']['perform_analysis']\n",
    "    else:\n",
    "        do_analyze_knn = False\n",
    "    if do_analyze_knn:\n",
    "        try:\n",
    "            class_list_path = config.config['class_list_path']\n",
    "        except:\n",
    "            raise ValueError(\"class_list_path not in config file. Aborting\")\n",
    "        try:\n",
    "            class_list = read_lists(class_list_path)\n",
    "        except:\n",
    "            raise ValueError(\"Unable to read file at {}. Aborting\".format(class_list_path))\n",
    "\n",
    "    save_dir = str(config.save_dir)\n",
    "\n",
    "    # Prepare for (multi-device) GPU training\n",
    "    device, device_ids = prepare_device(config['n_gpu'])\n",
    "\n",
    "    # build model architecture, then print to console\n",
    "    config.config['arch'].update()\n",
    "    layernum = config.config['layernum']\n",
    "    model = config.init_obj('arch', module_arch,\n",
    "        layernum=layernum,\n",
    "        device=device)\n",
    "    if len(device_ids) > 1:\n",
    "        model = torch.nn.DataParallel(model, device_ids=device_ids)\n",
    "    model.eval()  # model should always be in eval() for editing\n",
    "\n",
    "    logger.info(\"Created {} model with {} trainable parameters\".format(config.config['arch']['type'], model.get_n_params()))\n",
    "    model_parameters = model.get_parameters()\n",
    "    optimizer = config.init_obj('optimizer', torch.optim, model_parameters)\n",
    "\n",
    "    # Get function handles for loss and metrics\n",
    "    loss_fn = getattr(module_loss, config['loss'])\n",
    "    metric_fns = [getattr(module_metric, met) for met in config['metrics']]\n",
    "\n",
    "    # Make editable\n",
    "    if edit_method == 'enn':\n",
    "        model.make_editable(\n",
    "            loss_fn=loss_fn)\n",
    "\n",
    "    if model.get_checkpoint_path() != \"\":\n",
    "        logger.info(\"Restored weights from {}\".format(model.get_checkpoint_path()))\n",
    "    else:\n",
    "        logger.info(\"Training from scratch.\")\n",
    "\n",
    "    # General arguments for data loaders\n",
    "    # dataset_args = config.config['dataset_args']\n",
    "    data_loader_args = config.config['data_loader']['args']\n",
    "\n",
    "    # Provide dataloader to perform KNN and metric calculation\n",
    "    if test_data_loader is None:\n",
    "        test_dataset = config.init_obj('dataset', module_data)\n",
    "        test_data_loader = torch.utils.data.DataLoader(\n",
    "            val_data_set,\n",
    "            **data_loader_args\n",
    "        )\n",
    "        logger.info(\"Created validation data loader for metric and KNN calculations\")\n",
    "    else:\n",
    "        logger.info(\"Using passed in data loader for validation.\")\n",
    "\n",
    "\n",
    "    # Prepare data for edit\n",
    "    edit_data_args = config.config['editor']['edit_data_args']\n",
    "    \n",
    "    # log the editor initialization arguments\n",
    "    logger.info(\"Edit initialization arguments:\")\n",
    "    for key, val in edit_data_args.items():\n",
    "        logger.info(\"{}: {}\".format(key, val))\n",
    "    logger.info(\"---***---\")\n",
    "\n",
    "    if not noise_edit:\n",
    "        # edit_data = prepare_edit_data(\n",
    "        #     edit_method=edit_method,\n",
    "        #     **edit_data_args)\n",
    "        \n",
    "        # edit_data = prepare_edit_data_eac(\n",
    "        #     keys=keys,\n",
    "        #     values=values,\n",
    "        #     labels=labels)\n",
    "        '''\n",
    "        If edit_method == 'enn': prepare_edit_data() returns a torch.utils.data.DataLoader\n",
    "        If edit_method == 'eac': prepare_edit_data() returns a dictionary as follows:\n",
    "            {\n",
    "                'imgs': torch.tensor(B x C x H x W) [values]\n",
    "                'modified_imgs': torch.tensor(B x C x H x W) [keys]\n",
    "                'masks': torch.tensor(B x 1 x H x W) [masks]\n",
    "            }\n",
    "        '''\n",
    "\n",
    "    pre_metric_save_path = os.path.join(save_dir, \"pre_edit_metrics.pth\")\n",
    "    pre_logits_save_path = os.path.join(save_dir, \"pre_edit_logits.pth\")\n",
    "    if K > 0:\n",
    "        # Obtain anchor images\n",
    "        if edit_method == 'eac':\n",
    "            # for EAC, it is the key and value images\n",
    "            anchor_images = torch.cat([edit_data['modified_imgs'], edit_data['imgs']], dim=0)\n",
    "        elif edit_method == 'enn':\n",
    "            # for ENN, it is all the edit images\n",
    "            anchor_images = []\n",
    "            for item in edit_data:\n",
    "                images, _, _ = item\n",
    "                anchor_images.append(images)\n",
    "            anchor_images = torch.cat(anchor_images, dim=0)\n",
    "\n",
    "        logger.info(\"Performing pre-edit metric & KNN calculations on validation set.\")\n",
    "        pre_edit_log = knn(\n",
    "            K=K,\n",
    "            data_loader=test_data_loader,\n",
    "            model=model,\n",
    "            anchor_image=anchor_images,\n",
    "            data_types=['logits', 'images'],  # ['features', 'logits', 'images']\n",
    "            metric_fns=metric_fns,\n",
    "            device=device,\n",
    "            save_path=None)\n",
    "\n",
    "        # Save KNN results\n",
    "        pre_knn_save_path = os.path.join(save_dir, \"pre_edit_{}-nn.pth\".format(K))\n",
    "        torch.save(pre_edit_log['knn'], pre_knn_save_path)\n",
    "        logger.info(\"Saved pre-edit KNN results with K={} to {}\".format(K, pre_knn_save_path))\n",
    "    else:  # if not performing KNN\n",
    "        logger.info(\"Performing pre-edit metric calculations on validation set.\")\n",
    "        pre_edit_log = predict(\n",
    "            data_loader=test_data_loader,\n",
    "            model=model,\n",
    "            loss_fn=loss_fn,\n",
    "            metric_fns=metric_fns,\n",
    "            device=device)\n",
    "    # Save pre edit metrics\n",
    "    logger.info(\"Pre-edit metrics: {}\".format(pre_edit_log['metrics']))\n",
    "    torch.save(pre_edit_log['metrics'], pre_metric_save_path)\n",
    "    logger.info(\"Saved pre-edit metrics {}\".format(pre_metric_save_path))\n",
    "    # Save logits\n",
    "    torch.save(pre_edit_log['logits'], pre_logits_save_path)\n",
    "    logger.info(\"Saved pre-edit logits to {}\".format(pre_logits_save_path))\n",
    "\n",
    "    # Set up editor\n",
    "    editor_args = config.config['editor']['args']\n",
    "    if edit_method == 'eac':\n",
    "        editor_args['arch'] = config.config['arch']['args']['type']\n",
    "    # elif edit_method == 'enn':\n",
    "    #     editor_args.update({\n",
    "    #         'model': model,\n",
    "    #         'optimizer': optimizer,\n",
    "    #         'loss_fn': loss_fn,\n",
    "    #         })\n",
    "    #     if 'error' in editor_args:\n",
    "    #         editor_args.pop('error')\n",
    "    #         editor_args['error_fn'] = None\n",
    "\n",
    "    editor = get_editor(\n",
    "        edit_method=edit_method,\n",
    "        **editor_args)\n",
    "\n",
    "    logger.info(\"Created {} editor.\".format(type(editor)))\n",
    "\n",
    "    # Prepare covariance dataset if necessary\n",
    "    if not noise_edit:\n",
    "        if edit_method == 'eac':\n",
    "            if covariance_data_loader is None:\n",
    "                if 'covariance_dataset' in config.config and 'images' in config.config['covariance_dataset']:\n",
    "                    # Always use the dummy val_data_loader for covariance calculation\n",
    "                    covariance_image_paths = read_lists(config.config['covariance_dataset']['images'])\n",
    "                    covariance_labels = read_lists(config.config['covariance_dataset']['labels'])\n",
    "\n",
    "                    covariance_data_loader = torch.utils.data.DataLoader(\n",
    "                        module_data.CINIC10Dataset(\n",
    "                            data_dir=\"\",\n",
    "                            image_paths=covariance_image_paths,\n",
    "                            labels=covariance_labels,\n",
    "                            return_paths=False,\n",
    "                            **dataset_args\n",
    "                        ),\n",
    "                        **data_loader_args\n",
    "                    )\n",
    "                    val_data_name = config.config['covariance_dataset']['name']\n",
    "\n",
    "                    logger.info(\"Created dataloader for covariance matrix from {}\".format(config.config['covariance_dataset']['images']))\n",
    "                else:  # Use identity matrix\n",
    "                    covariance_data_loader = None\n",
    "                    val_data_name = \"identity\"\n",
    "                    logger.info(\"No data loader for covariance matrix. Will use identity matrix\")\n",
    "            else:\n",
    "                val_data_name = config.config['covariance_dataset']['name']\n",
    "                logger.info(\"Using passed in covariance data loader.\")\n",
    "    else:\n",
    "        logger.info(\"Performing random edit. No covariance matrix needed.\")\n",
    "\n",
    "    # Perform edit\n",
    "    if not noise_edit:\n",
    "        if edit_method == 'eac':\n",
    "            # Create path for caching directory based on\n",
    "            #   (1) validation data dir\n",
    "            #   (2) context model -- architecture, layer number\n",
    "            model_arch = model.get_type()\n",
    "            cache_dir = os.path.join('cache', val_data_name, \"{}-{}\".format(model_arch, layernum))\n",
    "            logger.info(\"Looking for covariance matrix weights in {}\".format(cache_dir))\n",
    "            editor.edit(\n",
    "                edit_data=edit_data,\n",
    "                model=model,\n",
    "                val_data_loader=covariance_data_loader,\n",
    "                cache_dir=cache_dir)\n",
    "        elif edit_method == 'enn':\n",
    "            edit_results_save_path = os.path.join(save_dir, \"edit_results.pth\")\n",
    "            edit_images, edit_labels = edit_data\n",
    "            edited_model, edit_results = editor.edit(\n",
    "                model=model,\n",
    "                inputs=edit_images,\n",
    "                targets=edit_labels,\n",
    "                save_path=edit_results_save_path\n",
    "            )\n",
    "            logger.info(\"Edit results from ENN: {}\".format(edit_results))\n",
    "            model.model = edited_model\n",
    "\n",
    "    else:\n",
    "        editor.noise_edit(\n",
    "            model=model\n",
    "        )\n",
    "\n",
    "    if not do_analyze_knn and not noise_edit:\n",
    "        model.save_model(save_path=os.path.join(save_dir, \"edited_model.pth\"))\n",
    "\n",
    "    # Perform post edit KNN analysis\n",
    "    post_metric_save_path = os.path.join(save_dir, \"post_edit_metrics.pth\")\n",
    "    post_logits_save_path = os.path.join(save_dir, \"post_edit_logits.pth\")\n",
    "    if K > 0:\n",
    "        # Concatenate key and value images together\n",
    "\n",
    "        logger.info(\"Performing post-edit metric & KNN calculations on validation set.\")\n",
    "\n",
    "        post_edit_log = knn(\n",
    "            K=K,\n",
    "            data_loader=test_data_loader,\n",
    "            model=model,\n",
    "            anchor_image=anchor_images,\n",
    "            data_types=['features', 'logits', 'images'],\n",
    "            metric_fns=metric_fns,\n",
    "            device=device,\n",
    "            save_path=None)\n",
    "\n",
    "        logger.info(\"Post-edit metrics: {}\".format(post_edit_log['metrics']))\n",
    "        # Save metrics\n",
    "        # post_metric_save_path = os.path.join(save_dir, \"post_edit_metrics.pth\")\n",
    "        # torch.save(post_edit_log['metrics'], post_metric_save_path)\n",
    "        # logger.info(\"Saved post-edit metrics to {}\".format(post_metric_save_path))\n",
    "        # Save KNN results\n",
    "        post_knn_save_path = os.path.join(save_dir, \"post_edit_{}-nn.pth\".format(K))\n",
    "        torch.save(post_edit_log['knn'], post_knn_save_path)\n",
    "        logger.info(\"Saving post-edit KNN results with K={} to {}\".format(K, post_knn_save_path))\n",
    "        # Save logits\n",
    "        # torch.save(post_edit_log['logits'], post_logits_save_path)\n",
    "        # logger.info(\"Saved post-edit logits to {}\".format(post_logits_save_path))\n",
    "    else:  # if not performing KNN\n",
    "        logger.info(\"Performing post-edit metric calculations on validation set.\")\n",
    "\n",
    "        post_edit_log = predict(\n",
    "            data_loader=test_data_loader,\n",
    "            model=model,\n",
    "            loss_fn=loss_fn,\n",
    "            metric_fns=metric_fns,\n",
    "            device=device)\n",
    "\n",
    "    logger.info(\"Post-edit metrics: {}\".format(post_edit_log['metrics']))\n",
    "    # Save post edit metrics\n",
    "    torch.save(post_edit_log['metrics'], post_metric_save_path)\n",
    "    logger.info(\"Saved post-edit metrics {}\".format(post_metric_save_path))\n",
    "    # Save post edit logits\n",
    "    torch.save(post_edit_log['logits'], post_logits_save_path)\n",
    "    logger.info(\"Saved post-edit logits to {}\".format(post_logits_save_path))\n",
    "\n",
    "    # Analyze KNN results here and now\n",
    "    if do_analyze_knn and K > 0:\n",
    "        logger.info(\"Performing KNN analysis...\")\n",
    "        target_class_idx = np.argmax(post_edit_log['knn']['logits']['anchor_data'][0])\n",
    "        analyze_knn(\n",
    "            save_dir=save_dir,\n",
    "            config=config,\n",
    "            pre_edit_knn=pre_edit_log['knn'],\n",
    "            post_edit_knn=post_edit_log['knn'],\n",
    "            edited_model=model,\n",
    "            knn_analysis_filename='knn_analysis_results.pth',\n",
    "            target_class_idx=target_class_idx,\n",
    "            class_list=class_list,\n",
    "            progress_report_path=None,\n",
    "            save_plots=True)\n",
    "\n",
    "    logger.info(\"All metrics and KNN results can be found in {}\".format(save_dir))"
   ]
  },
  {
   "cell_type": "code",
   "execution_count": 10,
   "metadata": {},
   "outputs": [
    {
     "name": "stdout",
     "output_type": "stream",
     "text": [
      "(0317_154339) Starting Trial 1/9...\n",
      "torch.Size([1, 3, 32, 32]) torch.Size([1, 3, 32, 32])\n",
      "torch.Size([1, 1, 32, 32])\n",
      "torch.int64\n"
     ]
    },
    {
     "data": {
      "image/png": "[encoded data removed]",
      "text/plain": [
       "<Figure size 750x250 with 3 Axes>"
      ]
     },
     "metadata": {},
     "output_type": "display_data"
    },
    {
     "name": "stdout",
     "output_type": "stream",
     "text": [
      "Created ModelWrapperSanturkar model with 33646666 trainable parameters\n",
      "Restored weights from saved/train/2_Spurious_MNIST-VGG_16/0317_134644/models/model_best.pth\n",
      "Using passed in data loader for validation.\n",
      "Edit initialization arguments:\n",
      "n_hold_out_per_class: 50\n",
      "data_dir: saved/edit_data/{}/hold_out_{}\n",
      "mask_path: None\n",
      "image_size: [32, 32]\n",
      "edit_idxs_file: edit_idxs.txt\n",
      "edit_pool_file: test_hold_out_{}_eac.pt\n",
      "---***---\n",
      "Performing pre-edit metric calculations on validation set.\n"
     ]
    },
    {
     "name": "stderr",
     "output_type": "stream",
     "text": [
      "100%|███████████████████████████████████████████████████████████| 38/38 [00:02<00:00, 16.80it/s]"
     ]
    },
    {
     "name": "stdout",
     "output_type": "stream",
     "text": [
      "Pre-edit metrics: {'TP': array([448, 537, 520, 498, 452, 423, 437, 473, 454, 454]), 'TN': array([8326, 8375, 8215, 7553, 7786, 8244, 8367, 7920, 7888, 8022]), 'FPs': array([244,  40, 303, 987, 782, 414, 225, 602, 688, 519]), 'FNs': array([482, 548, 462, 462, 480, 419, 471, 505, 470, 505]), 'accuracy': 0.4943157894736842, 'per_class_accuracy': array([0.92357895, 0.93810526, 0.91947368, 0.84747368, 0.86715789,\n",
      "       0.91231579, 0.92673684, 0.88347368, 0.87810526, 0.89221053]), 'per_class_accuracy_mean': 0.8988631578947368, 'precision': array([0.64739884, 0.93067591, 0.63183475, 0.33535354, 0.36628849,\n",
      "       0.50537634, 0.66012085, 0.44      , 0.39754816, 0.46659815]), 'precision_mean': 0.53811950339605, 'recall': array([0.48172043, 0.49493088, 0.52953157, 0.51875   , 0.48497854,\n",
      "       0.5023753 , 0.48127753, 0.48364008, 0.49134199, 0.4734098 ]), 'recall_mean': 0.4941956119654501, 'predicted_class_distribution': array([ 692,  577,  823, 1485, 1234,  837,  662, 1075, 1142,  973]), 'f1': array([0.55240444, 0.64620939, 0.57617729, 0.40736196, 0.41735919,\n",
      "       0.50387135, 0.5566879 , 0.46078909, 0.43949661, 0.4699793 ]), 'f1_mean': 0.5030336508295632}\n",
      "Saved pre-edit metrics saved/edit_2_Spurious_MNIST/method_eac/debug/2_Spurious_MNIST-VGG_16/0317_154335/results/edit_idx_0/models/pre_edit_metrics.pth\n",
      "Saved pre-edit logits to saved/edit_2_Spurious_MNIST/method_eac/debug/2_Spurious_MNIST-VGG_16/0317_154335/results/edit_idx_0/models/pre_edit_logits.pth\n"
     ]
    },
    {
     "name": "stderr",
     "output_type": "stream",
     "text": [
      "\n"
     ]
    },
    {
     "name": "stdout",
     "output_type": "stream",
     "text": [
      "Created <class 'trainer.editor.EditorEAC'> editor.\n",
      "Using passed in covariance data loader.\n",
      "Looking for covariance matrix weights in cache/2_Spurious_MNIST_hold_out/vgg16_bn-12\n",
      "Found precomputed cov matrices, returning...\n"
     ]
    },
    {
     "name": "stderr",
     "output_type": "stream",
     "text": [
      "tensor(0.1472, device='cuda:0', grad_fn=<DivBackward0>): 100%|█| 10000/10000 [00:12<00:00, 777.5\n"
     ]
    },
    {
     "name": "stdout",
     "output_type": "stream",
     "text": [
      "Loss (orig, final): 1.2179887294769287 0.14718973636627197\n",
      "L2 norm of weight change: 4.1482954025268555\n",
      "Performing post-edit metric calculations on validation set.\n"
     ]
    },
    {
     "name": "stderr",
     "output_type": "stream",
     "text": [
      "100%|███████████████████████████████████████████████████████████| 38/38 [00:01<00:00, 26.51it/s]"
     ]
    },
    {
     "name": "stdout",
     "output_type": "stream",
     "text": [
      "Post-edit metrics: {'TP': array([448, 537, 520, 498, 452, 422, 436, 473, 454, 454]), 'TN': array([8317, 8376, 8213, 7561, 7788, 8237, 8376, 7919, 7885, 8022]), 'FPs': array([253,  39, 305, 979, 780, 421, 216, 603, 691, 519]), 'FNs': array([482, 548, 462, 462, 480, 420, 472, 505, 470, 505]), 'accuracy': 0.4941052631578947, 'per_class_accuracy': array([0.92263158, 0.93821053, 0.91926316, 0.84831579, 0.86736842,\n",
      "       0.91147368, 0.92757895, 0.88336842, 0.87778947, 0.89221053]), 'per_class_accuracy_mean': 0.898821052631579, 'precision': array([0.63908702, 0.93229167, 0.63030303, 0.33716994, 0.36688312,\n",
      "       0.50059312, 0.66871166, 0.43959108, 0.39650655, 0.46659815]), 'precision_mean': 0.5377735326051984, 'recall': array([0.48172043, 0.49493088, 0.52953157, 0.51875   , 0.48497854,\n",
      "       0.50118765, 0.48017621, 0.48364008, 0.49134199, 0.4734098 ]), 'recall_mean': 0.4939667149612541, 'predicted_class_distribution': array([ 701,  576,  825, 1477, 1232,  843,  652, 1076, 1145,  973]), 'f1': array([0.54935622, 0.64659843, 0.57553957, 0.40869922, 0.41774492,\n",
      "       0.50089021, 0.55897436, 0.46056475, 0.43885935, 0.4699793 ]), 'f1_mean': 0.5027206330176655}\n",
      "Saved post-edit metrics saved/edit_2_Spurious_MNIST/method_eac/debug/2_Spurious_MNIST-VGG_16/0317_154335/results/edit_idx_0/models/post_edit_metrics.pth\n",
      "Saved post-edit logits to saved/edit_2_Spurious_MNIST/method_eac/debug/2_Spurious_MNIST-VGG_16/0317_154335/results/edit_idx_0/models/post_edit_logits.pth\n",
      "All metrics and KNN results can be found in saved/edit_2_Spurious_MNIST/method_eac/debug/2_Spurious_MNIST-VGG_16/0317_154335/results/edit_idx_0/models\n",
      "(0317_154359) Starting Trial 2/9...\n"
     ]
    },
    {
     "name": "stderr",
     "output_type": "stream",
     "text": [
      "\n"
     ]
    },
    {
     "name": "stdout",
     "output_type": "stream",
     "text": [
      "torch.Size([1, 3, 32, 32]) torch.Size([1, 3, 32, 32])\n",
      "torch.Size([1, 1, 32, 32])\n",
      "torch.int64\n"
     ]
    },
    {
     "data": {
      "image/png": "[encoded data removed]",
      "text/plain": [
       "<Figure size 750x250 with 3 Axes>"
      ]
     },
     "metadata": {},
     "output_type": "display_data"
    },
    {
     "name": "stdout",
     "output_type": "stream",
     "text": [
      "Created ModelWrapperSanturkar model with 33646666 trainable parameters\n",
      "Restored weights from saved/train/2_Spurious_MNIST-VGG_16/0317_134644/models/model_best.pth\n",
      "Using passed in data loader for validation.\n",
      "Edit initialization arguments:\n",
      "n_hold_out_per_class: 50\n",
      "data_dir: saved/edit_data/{}/hold_out_{}\n",
      "mask_path: None\n",
      "image_size: [32, 32]\n",
      "edit_idxs_file: edit_idxs.txt\n",
      "edit_pool_file: test_hold_out_{}_eac.pt\n",
      "---***---\n",
      "Performing pre-edit metric calculations on validation set.\n"
     ]
    },
    {
     "name": "stderr",
     "output_type": "stream",
     "text": [
      "100%|███████████████████████████████████████████████████████████| 38/38 [00:01<00:00, 26.09it/s]"
     ]
    },
    {
     "name": "stdout",
     "output_type": "stream",
     "text": [
      "Pre-edit metrics: {'TP': array([448, 537, 520, 498, 452, 423, 437, 473, 454, 454]), 'TN': array([8326, 8375, 8215, 7553, 7786, 8244, 8367, 7920, 7888, 8022]), 'FPs': array([244,  40, 303, 987, 782, 414, 225, 602, 688, 519]), 'FNs': array([482, 548, 462, 462, 480, 419, 471, 505, 470, 505]), 'accuracy': 0.4943157894736842, 'per_class_accuracy': array([0.92357895, 0.93810526, 0.91947368, 0.84747368, 0.86715789,\n",
      "       0.91231579, 0.92673684, 0.88347368, 0.87810526, 0.89221053]), 'per_class_accuracy_mean': 0.8988631578947368, 'precision': array([0.64739884, 0.93067591, 0.63183475, 0.33535354, 0.36628849,\n",
      "       0.50537634, 0.66012085, 0.44      , 0.39754816, 0.46659815]), 'precision_mean': 0.53811950339605, 'recall': array([0.48172043, 0.49493088, 0.52953157, 0.51875   , 0.48497854,\n",
      "       0.5023753 , 0.48127753, 0.48364008, 0.49134199, 0.4734098 ]), 'recall_mean': 0.4941956119654501, 'predicted_class_distribution': array([ 692,  577,  823, 1485, 1234,  837,  662, 1075, 1142,  973]), 'f1': array([0.55240444, 0.64620939, 0.57617729, 0.40736196, 0.41735919,\n",
      "       0.50387135, 0.5566879 , 0.46078909, 0.43949661, 0.4699793 ]), 'f1_mean': 0.5030336508295632}\n",
      "Saved pre-edit metrics saved/edit_2_Spurious_MNIST/method_eac/debug/2_Spurious_MNIST-VGG_16/0317_154335/results/edit_idx_1/models/pre_edit_metrics.pth\n"
     ]
    },
    {
     "name": "stderr",
     "output_type": "stream",
     "text": [
      "\n"
     ]
    },
    {
     "name": "stdout",
     "output_type": "stream",
     "text": [
      "Saved pre-edit logits to saved/edit_2_Spurious_MNIST/method_eac/debug/2_Spurious_MNIST-VGG_16/0317_154335/results/edit_idx_1/models/pre_edit_logits.pth\n",
      "Created <class 'trainer.editor.EditorEAC'> editor.\n",
      "Using passed in covariance data loader.\n",
      "Looking for covariance matrix weights in cache/2_Spurious_MNIST_hold_out/vgg16_bn-12\n",
      "Found precomputed cov matrices, returning...\n"
     ]
    },
    {
     "name": "stderr",
     "output_type": "stream",
     "text": [
      "tensor(0.0379, device='cuda:0', grad_fn=<DivBackward0>): 100%|█| 10000/10000 [00:12<00:00, 770.7\n"
     ]
    },
    {
     "name": "stdout",
     "output_type": "stream",
     "text": [
      "Loss (orig, final): 0.8326869010925293 0.03786785900592804\n",
      "L2 norm of weight change: 3.537684917449951\n",
      "Performing post-edit metric calculations on validation set.\n"
     ]
    },
    {
     "name": "stderr",
     "output_type": "stream",
     "text": [
      "100%|███████████████████████████████████████████████████████████| 38/38 [00:01<00:00, 26.40it/s]"
     ]
    },
    {
     "name": "stdout",
     "output_type": "stream",
     "text": [
      "Post-edit metrics: {'TP': array([448, 587, 519, 498, 452, 423, 436, 473, 454, 454]), 'TN': array([8330, 8374, 8213, 7554, 7783, 8246, 8368, 7961, 7881, 8034]), 'FPs': array([240,  41, 305, 986, 785, 412, 224, 561, 695, 507]), 'FNs': array([482, 498, 463, 462, 480, 419, 472, 505, 470, 505]), 'accuracy': 0.4993684210526316, 'per_class_accuracy': array([0.924     , 0.94326316, 0.91915789, 0.84757895, 0.86684211,\n",
      "       0.91252632, 0.92673684, 0.88778947, 0.87736842, 0.89347368]), 'per_class_accuracy_mean': 0.8998736842105263, 'precision': array([0.65116279, 0.93471338, 0.62985437, 0.33557951, 0.36540016,\n",
      "       0.50658683, 0.66060606, 0.45744681, 0.3951262 , 0.47242456]), 'precision_mean': 0.5408900661841299, 'recall': array([0.48172043, 0.54101382, 0.52851324, 0.51875   , 0.48497854,\n",
      "       0.5023753 , 0.48017621, 0.48364008, 0.49134199, 0.4734098 ]), 'recall_mean': 0.49859194174384525, 'predicted_class_distribution': array([ 688,  628,  824, 1484, 1237,  835,  660, 1034, 1149,  961]), 'f1': array([0.55377009, 0.68534734, 0.57475083, 0.40752864, 0.41678193,\n",
      "       0.50447227, 0.55612245, 0.47017893, 0.43801254, 0.47291667]), 'f1_mean': 0.5079881685870241}\n",
      "Saved post-edit metrics saved/edit_2_Spurious_MNIST/method_eac/debug/2_Spurious_MNIST-VGG_16/0317_154335/results/edit_idx_1/models/post_edit_metrics.pth\n",
      "Saved post-edit logits to saved/edit_2_Spurious_MNIST/method_eac/debug/2_Spurious_MNIST-VGG_16/0317_154335/results/edit_idx_1/models/post_edit_logits.pth\n",
      "All metrics and KNN results can be found in saved/edit_2_Spurious_MNIST/method_eac/debug/2_Spurious_MNIST-VGG_16/0317_154335/results/edit_idx_1/models\n",
      "(0317_154417) Starting Trial 3/9...\n"
     ]
    },
    {
     "name": "stderr",
     "output_type": "stream",
     "text": [
      "\n"
     ]
    },
    {
     "name": "stdout",
     "output_type": "stream",
     "text": [
      "torch.Size([1, 3, 32, 32]) torch.Size([1, 3, 32, 32])\n",
      "torch.Size([1, 1, 32, 32])\n",
      "torch.int64\n"
     ]
    },
    {
     "data": {
      "image/png": "[encoded data removed]",
      "text/plain": [
       "<Figure size 750x250 with 3 Axes>"
      ]
     },
     "metadata": {},
     "output_type": "display_data"
    },
    {
     "name": "stdout",
     "output_type": "stream",
     "text": [
      "Created ModelWrapperSanturkar model with 33646666 trainable parameters\n",
      "Restored weights from saved/train/2_Spurious_MNIST-VGG_16/0317_134644/models/model_best.pth\n",
      "Using passed in data loader for validation.\n",
      "Edit initialization arguments:\n",
      "n_hold_out_per_class: 50\n",
      "data_dir: saved/edit_data/{}/hold_out_{}\n",
      "mask_path: None\n",
      "image_size: [32, 32]\n",
      "edit_idxs_file: edit_idxs.txt\n",
      "edit_pool_file: test_hold_out_{}_eac.pt\n",
      "---***---\n",
      "Performing pre-edit metric calculations on validation set.\n"
     ]
    },
    {
     "name": "stderr",
     "output_type": "stream",
     "text": [
      "100%|███████████████████████████████████████████████████████████| 38/38 [00:01<00:00, 26.12it/s]"
     ]
    },
    {
     "name": "stdout",
     "output_type": "stream",
     "text": [
      "Pre-edit metrics: {'TP': array([448, 537, 520, 498, 452, 423, 437, 473, 454, 454]), 'TN': array([8326, 8375, 8215, 7553, 7786, 8244, 8367, 7920, 7888, 8022]), 'FPs': array([244,  40, 303, 987, 782, 414, 225, 602, 688, 519]), 'FNs': array([482, 548, 462, 462, 480, 419, 471, 505, 470, 505]), 'accuracy': 0.4943157894736842, 'per_class_accuracy': array([0.92357895, 0.93810526, 0.91947368, 0.84747368, 0.86715789,\n",
      "       0.91231579, 0.92673684, 0.88347368, 0.87810526, 0.89221053]), 'per_class_accuracy_mean': 0.8988631578947368, 'precision': array([0.64739884, 0.93067591, 0.63183475, 0.33535354, 0.36628849,\n",
      "       0.50537634, 0.66012085, 0.44      , 0.39754816, 0.46659815]), 'precision_mean': 0.53811950339605, 'recall': array([0.48172043, 0.49493088, 0.52953157, 0.51875   , 0.48497854,\n",
      "       0.5023753 , 0.48127753, 0.48364008, 0.49134199, 0.4734098 ]), 'recall_mean': 0.4941956119654501, 'predicted_class_distribution': array([ 692,  577,  823, 1485, 1234,  837,  662, 1075, 1142,  973]), 'f1': array([0.55240444, 0.64620939, 0.57617729, 0.40736196, 0.41735919,\n",
      "       0.50387135, 0.5566879 , 0.46078909, 0.43949661, 0.4699793 ]), 'f1_mean': 0.5030336508295632}\n",
      "Saved pre-edit metrics saved/edit_2_Spurious_MNIST/method_eac/debug/2_Spurious_MNIST-VGG_16/0317_154335/results/edit_idx_2/models/pre_edit_metrics.pth\n"
     ]
    },
    {
     "name": "stderr",
     "output_type": "stream",
     "text": [
      "\n"
     ]
    },
    {
     "name": "stdout",
     "output_type": "stream",
     "text": [
      "Saved pre-edit logits to saved/edit_2_Spurious_MNIST/method_eac/debug/2_Spurious_MNIST-VGG_16/0317_154335/results/edit_idx_2/models/pre_edit_logits.pth\n",
      "Created <class 'trainer.editor.EditorEAC'> editor.\n",
      "Using passed in covariance data loader.\n",
      "Looking for covariance matrix weights in cache/2_Spurious_MNIST_hold_out/vgg16_bn-12\n",
      "Found precomputed cov matrices, returning...\n"
     ]
    },
    {
     "name": "stderr",
     "output_type": "stream",
     "text": [
      "tensor(0.0924, device='cuda:0', grad_fn=<DivBackward0>): 100%|█| 10000/10000 [00:12<00:00, 772.7\n"
     ]
    },
    {
     "name": "stdout",
     "output_type": "stream",
     "text": [
      "Loss (orig, final): 0.9827195405960083 0.0924491286277771\n",
      "L2 norm of weight change: 2.972797155380249\n",
      "Performing post-edit metric calculations on validation set.\n"
     ]
    },
    {
     "name": "stderr",
     "output_type": "stream",
     "text": [
      "100%|███████████████████████████████████████████████████████████| 38/38 [00:01<00:00, 26.01it/s]"
     ]
    },
    {
     "name": "stdout",
     "output_type": "stream",
     "text": [
      "Post-edit metrics: {'TP': array([448, 537, 521, 498, 452, 423, 437, 473, 454, 454]), 'TN': array([8327, 8375, 8208, 7561, 7785, 8241, 8369, 7918, 7889, 8024]), 'FPs': array([243,  40, 310, 979, 783, 417, 223, 604, 687, 517]), 'FNs': array([482, 548, 461, 462, 480, 419, 471, 505, 470, 505]), 'accuracy': 0.49442105263157893, 'per_class_accuracy': array([0.92368421, 0.93810526, 0.91884211, 0.84831579, 0.86705263,\n",
      "       0.912     , 0.92694737, 0.88326316, 0.87821053, 0.89242105]), 'per_class_accuracy_mean': 0.898884210526316, 'precision': array([0.64833575, 0.93067591, 0.62695548, 0.33716994, 0.3659919 ,\n",
      "       0.50357143, 0.66212121, 0.43918292, 0.39789658, 0.46755922]), 'precision_mean': 0.5379460327852051, 'recall': array([0.48172043, 0.49493088, 0.5305499 , 0.51875   , 0.48497854,\n",
      "       0.5023753 , 0.48127753, 0.48364008, 0.49134199, 0.4734098 ]), 'recall_mean': 0.49429744495934014, 'predicted_class_distribution': array([ 691,  577,  831, 1477, 1235,  840,  660, 1077, 1141,  971]), 'f1': array([0.55274522, 0.64620939, 0.574738  , 0.40869922, 0.41716659,\n",
      "       0.50297265, 0.55739796, 0.46034063, 0.43970944, 0.47046632]), 'f1_mean': 0.5030445426435061}\n",
      "Saved post-edit metrics saved/edit_2_Spurious_MNIST/method_eac/debug/2_Spurious_MNIST-VGG_16/0317_154335/results/edit_idx_2/models/post_edit_metrics.pth\n",
      "Saved post-edit logits to saved/edit_2_Spurious_MNIST/method_eac/debug/2_Spurious_MNIST-VGG_16/0317_154335/results/edit_idx_2/models/post_edit_logits.pth\n",
      "All metrics and KNN results can be found in saved/edit_2_Spurious_MNIST/method_eac/debug/2_Spurious_MNIST-VGG_16/0317_154335/results/edit_idx_2/models\n",
      "(0317_154434) Starting Trial 4/9...\n"
     ]
    },
    {
     "name": "stderr",
     "output_type": "stream",
     "text": [
      "\n"
     ]
    },
    {
     "name": "stdout",
     "output_type": "stream",
     "text": [
      "torch.Size([1, 3, 32, 32]) torch.Size([1, 3, 32, 32])\n",
      "torch.Size([1, 1, 32, 32])\n",
      "torch.int64\n"
     ]
    },
    {
     "data": {
      "image/png": "[encoded data removed]",
      "text/plain": [
       "<Figure size 750x250 with 3 Axes>"
      ]
     },
     "metadata": {},
     "output_type": "display_data"
    },
    {
     "name": "stdout",
     "output_type": "stream",
     "text": [
      "Created ModelWrapperSanturkar model with 33646666 trainable parameters\n",
      "Restored weights from saved/train/2_Spurious_MNIST-VGG_16/0317_134644/models/model_best.pth\n",
      "Using passed in data loader for validation.\n",
      "Edit initialization arguments:\n",
      "n_hold_out_per_class: 50\n",
      "data_dir: saved/edit_data/{}/hold_out_{}\n",
      "mask_path: None\n",
      "image_size: [32, 32]\n",
      "edit_idxs_file: edit_idxs.txt\n",
      "edit_pool_file: test_hold_out_{}_eac.pt\n",
      "---***---\n",
      "Performing pre-edit metric calculations on validation set.\n"
     ]
    },
    {
     "name": "stderr",
     "output_type": "stream",
     "text": [
      "100%|███████████████████████████████████████████████████████████| 38/38 [00:01<00:00, 26.12it/s]"
     ]
    },
    {
     "name": "stdout",
     "output_type": "stream",
     "text": [
      "Pre-edit metrics: {'TP': array([448, 537, 520, 498, 452, 423, 437, 473, 454, 454]), 'TN': array([8326, 8375, 8215, 7553, 7786, 8244, 8367, 7920, 7888, 8022]), 'FPs': array([244,  40, 303, 987, 782, 414, 225, 602, 688, 519]), 'FNs': array([482, 548, 462, 462, 480, 419, 471, 505, 470, 505]), 'accuracy': 0.4943157894736842, 'per_class_accuracy': array([0.92357895, 0.93810526, 0.91947368, 0.84747368, 0.86715789,\n",
      "       0.91231579, 0.92673684, 0.88347368, 0.87810526, 0.89221053]), 'per_class_accuracy_mean': 0.8988631578947368, 'precision': array([0.64739884, 0.93067591, 0.63183475, 0.33535354, 0.36628849,\n",
      "       0.50537634, 0.66012085, 0.44      , 0.39754816, 0.46659815]), 'precision_mean': 0.53811950339605, 'recall': array([0.48172043, 0.49493088, 0.52953157, 0.51875   , 0.48497854,\n",
      "       0.5023753 , 0.48127753, 0.48364008, 0.49134199, 0.4734098 ]), 'recall_mean': 0.4941956119654501, 'predicted_class_distribution': array([ 692,  577,  823, 1485, 1234,  837,  662, 1075, 1142,  973]), 'f1': array([0.55240444, 0.64620939, 0.57617729, 0.40736196, 0.41735919,\n",
      "       0.50387135, 0.5566879 , 0.46078909, 0.43949661, 0.4699793 ]), 'f1_mean': 0.5030336508295632}\n",
      "Saved pre-edit metrics saved/edit_2_Spurious_MNIST/method_eac/debug/2_Spurious_MNIST-VGG_16/0317_154335/results/edit_idx_3/models/pre_edit_metrics.pth\n"
     ]
    },
    {
     "name": "stderr",
     "output_type": "stream",
     "text": [
      "\n"
     ]
    },
    {
     "name": "stdout",
     "output_type": "stream",
     "text": [
      "Saved pre-edit logits to saved/edit_2_Spurious_MNIST/method_eac/debug/2_Spurious_MNIST-VGG_16/0317_154335/results/edit_idx_3/models/pre_edit_logits.pth\n",
      "Created <class 'trainer.editor.EditorEAC'> editor.\n",
      "Using passed in covariance data loader.\n",
      "Looking for covariance matrix weights in cache/2_Spurious_MNIST_hold_out/vgg16_bn-12\n",
      "Found precomputed cov matrices, returning...\n"
     ]
    },
    {
     "name": "stderr",
     "output_type": "stream",
     "text": [
      "tensor(0.0625, device='cuda:0', grad_fn=<DivBackward0>): 100%|█| 10000/10000 [00:12<00:00, 774.5\n"
     ]
    },
    {
     "name": "stdout",
     "output_type": "stream",
     "text": [
      "Loss (orig, final): 1.051389455795288 0.062487125396728516\n",
      "L2 norm of weight change: 3.87650203704834\n",
      "Performing post-edit metric calculations on validation set.\n"
     ]
    },
    {
     "name": "stderr",
     "output_type": "stream",
     "text": [
      "100%|███████████████████████████████████████████████████████████| 38/38 [00:01<00:00, 25.37it/s]"
     ]
    },
    {
     "name": "stdout",
     "output_type": "stream",
     "text": [
      "Post-edit metrics: {'TP': array([448, 537, 520, 498, 452, 423, 437, 473, 454, 454]), 'TN': array([8324, 8373, 8216, 7563, 7780, 8241, 8364, 7916, 7895, 8024]), 'FPs': array([246,  42, 302, 977, 788, 417, 228, 606, 681, 517]), 'FNs': array([482, 548, 462, 462, 480, 419, 471, 505, 470, 505]), 'accuracy': 0.4943157894736842, 'per_class_accuracy': array([0.92336842, 0.93789474, 0.91957895, 0.84852632, 0.86652632,\n",
      "       0.912     , 0.92642105, 0.88305263, 0.87884211, 0.89242105]), 'per_class_accuracy_mean': 0.898863157894737, 'precision': array([0.64553314, 0.92746114, 0.63260341, 0.33762712, 0.36451613,\n",
      "       0.50357143, 0.65714286, 0.43836886, 0.4       , 0.46755922]), 'precision_mean': 0.5374383298180752, 'recall': array([0.48172043, 0.49493088, 0.52953157, 0.51875   , 0.48497854,\n",
      "       0.5023753 , 0.48127753, 0.48364008, 0.49134199, 0.4734098 ]), 'recall_mean': 0.4941956119654501, 'predicted_class_distribution': array([ 694,  579,  822, 1475, 1240,  840,  665, 1079, 1135,  971]), 'f1': array([0.55172414, 0.64543269, 0.57649667, 0.40903491, 0.41620626,\n",
      "       0.50297265, 0.55562619, 0.45989305, 0.44099077, 0.47046632]), 'f1_mean': 0.502884365859049}\n",
      "Saved post-edit metrics saved/edit_2_Spurious_MNIST/method_eac/debug/2_Spurious_MNIST-VGG_16/0317_154335/results/edit_idx_3/models/post_edit_metrics.pth\n"
     ]
    },
    {
     "name": "stderr",
     "output_type": "stream",
     "text": [
      "\n"
     ]
    },
    {
     "name": "stdout",
     "output_type": "stream",
     "text": [
      "Saved post-edit logits to saved/edit_2_Spurious_MNIST/method_eac/debug/2_Spurious_MNIST-VGG_16/0317_154335/results/edit_idx_3/models/post_edit_logits.pth\n",
      "All metrics and KNN results can be found in saved/edit_2_Spurious_MNIST/method_eac/debug/2_Spurious_MNIST-VGG_16/0317_154335/results/edit_idx_3/models\n",
      "(0317_154453) Starting Trial 5/9...\n",
      "torch.Size([1, 3, 32, 32]) torch.Size([1, 3, 32, 32])\n",
      "torch.Size([1, 1, 32, 32])\n",
      "torch.int64\n"
     ]
    },
    {
     "data": {
      "image/png": "[encoded data removed]",
      "text/plain": [
       "<Figure size 750x250 with 3 Axes>"
      ]
     },
     "metadata": {},
     "output_type": "display_data"
    },
    {
     "name": "stdout",
     "output_type": "stream",
     "text": [
      "Created ModelWrapperSanturkar model with 33646666 trainable parameters\n",
      "Restored weights from saved/train/2_Spurious_MNIST-VGG_16/0317_134644/models/model_best.pth\n",
      "Using passed in data loader for validation.\n",
      "Edit initialization arguments:\n",
      "n_hold_out_per_class: 50\n",
      "data_dir: saved/edit_data/{}/hold_out_{}\n",
      "mask_path: None\n",
      "image_size: [32, 32]\n",
      "edit_idxs_file: edit_idxs.txt\n",
      "edit_pool_file: test_hold_out_{}_eac.pt\n",
      "---***---\n",
      "Performing pre-edit metric calculations on validation set.\n"
     ]
    },
    {
     "name": "stderr",
     "output_type": "stream",
     "text": [
      "100%|███████████████████████████████████████████████████████████| 38/38 [00:01<00:00, 25.90it/s]"
     ]
    },
    {
     "name": "stdout",
     "output_type": "stream",
     "text": [
      "Pre-edit metrics: {'TP': array([448, 537, 520, 498, 452, 423, 437, 473, 454, 454]), 'TN': array([8326, 8375, 8215, 7553, 7786, 8244, 8367, 7920, 7888, 8022]), 'FPs': array([244,  40, 303, 987, 782, 414, 225, 602, 688, 519]), 'FNs': array([482, 548, 462, 462, 480, 419, 471, 505, 470, 505]), 'accuracy': 0.4943157894736842, 'per_class_accuracy': array([0.92357895, 0.93810526, 0.91947368, 0.84747368, 0.86715789,\n",
      "       0.91231579, 0.92673684, 0.88347368, 0.87810526, 0.89221053]), 'per_class_accuracy_mean': 0.8988631578947368, 'precision': array([0.64739884, 0.93067591, 0.63183475, 0.33535354, 0.36628849,\n",
      "       0.50537634, 0.66012085, 0.44      , 0.39754816, 0.46659815]), 'precision_mean': 0.53811950339605, 'recall': array([0.48172043, 0.49493088, 0.52953157, 0.51875   , 0.48497854,\n",
      "       0.5023753 , 0.48127753, 0.48364008, 0.49134199, 0.4734098 ]), 'recall_mean': 0.4941956119654501, 'predicted_class_distribution': array([ 692,  577,  823, 1485, 1234,  837,  662, 1075, 1142,  973]), 'f1': array([0.55240444, 0.64620939, 0.57617729, 0.40736196, 0.41735919,\n",
      "       0.50387135, 0.5566879 , 0.46078909, 0.43949661, 0.4699793 ]), 'f1_mean': 0.5030336508295632}\n",
      "Saved pre-edit metrics saved/edit_2_Spurious_MNIST/method_eac/debug/2_Spurious_MNIST-VGG_16/0317_154335/results/edit_idx_4/models/pre_edit_metrics.pth\n"
     ]
    },
    {
     "name": "stderr",
     "output_type": "stream",
     "text": [
      "\n"
     ]
    },
    {
     "name": "stdout",
     "output_type": "stream",
     "text": [
      "Saved pre-edit logits to saved/edit_2_Spurious_MNIST/method_eac/debug/2_Spurious_MNIST-VGG_16/0317_154335/results/edit_idx_4/models/pre_edit_logits.pth\n",
      "Created <class 'trainer.editor.EditorEAC'> editor.\n",
      "Using passed in covariance data loader.\n",
      "Looking for covariance matrix weights in cache/2_Spurious_MNIST_hold_out/vgg16_bn-12\n",
      "Found precomputed cov matrices, returning...\n"
     ]
    },
    {
     "name": "stderr",
     "output_type": "stream",
     "text": [
      "tensor(0.1026, device='cuda:0', grad_fn=<DivBackward0>): 100%|█| 10000/10000 [00:11<00:00, 845.6\n"
     ]
    },
    {
     "name": "stdout",
     "output_type": "stream",
     "text": [
      "Loss (orig, final): 1.193426489830017 0.10257043689489365\n",
      "L2 norm of weight change: 4.47299337387085\n",
      "Performing post-edit metric calculations on validation set.\n"
     ]
    },
    {
     "name": "stderr",
     "output_type": "stream",
     "text": [
      "100%|███████████████████████████████████████████████████████████| 38/38 [00:01<00:00, 25.97it/s]"
     ]
    },
    {
     "name": "stdout",
     "output_type": "stream",
     "text": [
      "Post-edit metrics: {'TP': array([448, 537, 520, 498, 453, 422, 437, 473, 454, 452]), 'TN': array([8327, 8375, 8205, 7551, 7797, 8243, 8354, 7915, 7881, 8046]), 'FPs': array([243,  40, 313, 989, 771, 415, 238, 607, 695, 495]), 'FNs': array([482, 548, 462, 462, 479, 420, 471, 505, 470, 507]), 'accuracy': 0.4941052631578947, 'per_class_accuracy': array([0.92368421, 0.93810526, 0.91842105, 0.84726316, 0.86842105,\n",
      "       0.91210526, 0.92536842, 0.88294737, 0.87736842, 0.89452632]), 'per_class_accuracy_mean': 0.898821052631579, 'precision': array([0.64833575, 0.93067591, 0.6242497 , 0.33490249, 0.37009804,\n",
      "       0.5041816 , 0.64740741, 0.43796296, 0.3951262 , 0.47729673]), 'precision_mean': 0.5370236777026024, 'recall': array([0.48172043, 0.49493088, 0.52953157, 0.51875   , 0.4860515 ,\n",
      "       0.50118765, 0.48127753, 0.48364008, 0.49134199, 0.4713243 ]), 'recall_mean': 0.49397559268366936, 'predicted_class_distribution': array([ 691,  577,  833, 1487, 1224,  837,  675, 1080, 1149,  947]), 'f1': array([0.55274522, 0.64620939, 0.57300275, 0.40702902, 0.42022263,\n",
      "       0.50268017, 0.55211623, 0.45966958, 0.43801254, 0.47429171]), 'f1_mean': 0.5025979246210988}\n",
      "Saved post-edit metrics saved/edit_2_Spurious_MNIST/method_eac/debug/2_Spurious_MNIST-VGG_16/0317_154335/results/edit_idx_4/models/post_edit_metrics.pth\n"
     ]
    },
    {
     "name": "stderr",
     "output_type": "stream",
     "text": [
      "\n"
     ]
    },
    {
     "name": "stdout",
     "output_type": "stream",
     "text": [
      "Saved post-edit logits to saved/edit_2_Spurious_MNIST/method_eac/debug/2_Spurious_MNIST-VGG_16/0317_154335/results/edit_idx_4/models/post_edit_logits.pth\n",
      "All metrics and KNN results can be found in saved/edit_2_Spurious_MNIST/method_eac/debug/2_Spurious_MNIST-VGG_16/0317_154335/results/edit_idx_4/models\n",
      "(0317_154510) Starting Trial 6/9...\n",
      "torch.Size([1, 3, 32, 32]) torch.Size([1, 3, 32, 32])\n",
      "torch.Size([1, 1, 32, 32])\n",
      "torch.int64\n"
     ]
    },
    {
     "data": {
      "image/png": "[encoded data removed]",
      "text/plain": [
       "<Figure size 750x250 with 3 Axes>"
      ]
     },
     "metadata": {},
     "output_type": "display_data"
    },
    {
     "name": "stdout",
     "output_type": "stream",
     "text": [
      "Created ModelWrapperSanturkar model with 33646666 trainable parameters\n",
      "Restored weights from saved/train/2_Spurious_MNIST-VGG_16/0317_134644/models/model_best.pth\n",
      "Using passed in data loader for validation.\n",
      "Edit initialization arguments:\n",
      "n_hold_out_per_class: 50\n",
      "data_dir: saved/edit_data/{}/hold_out_{}\n",
      "mask_path: None\n",
      "image_size: [32, 32]\n",
      "edit_idxs_file: edit_idxs.txt\n",
      "edit_pool_file: test_hold_out_{}_eac.pt\n",
      "---***---\n",
      "Performing pre-edit metric calculations on validation set.\n"
     ]
    },
    {
     "name": "stderr",
     "output_type": "stream",
     "text": [
      "100%|███████████████████████████████████████████████████████████| 38/38 [00:01<00:00, 25.87it/s]"
     ]
    },
    {
     "name": "stdout",
     "output_type": "stream",
     "text": [
      "Pre-edit metrics: {'TP': array([448, 537, 520, 498, 452, 423, 437, 473, 454, 454]), 'TN': array([8326, 8375, 8215, 7553, 7786, 8244, 8367, 7920, 7888, 8022]), 'FPs': array([244,  40, 303, 987, 782, 414, 225, 602, 688, 519]), 'FNs': array([482, 548, 462, 462, 480, 419, 471, 505, 470, 505]), 'accuracy': 0.4943157894736842, 'per_class_accuracy': array([0.92357895, 0.93810526, 0.91947368, 0.84747368, 0.86715789,\n",
      "       0.91231579, 0.92673684, 0.88347368, 0.87810526, 0.89221053]), 'per_class_accuracy_mean': 0.8988631578947368, 'precision': array([0.64739884, 0.93067591, 0.63183475, 0.33535354, 0.36628849,\n",
      "       0.50537634, 0.66012085, 0.44      , 0.39754816, 0.46659815]), 'precision_mean': 0.53811950339605, 'recall': array([0.48172043, 0.49493088, 0.52953157, 0.51875   , 0.48497854,\n",
      "       0.5023753 , 0.48127753, 0.48364008, 0.49134199, 0.4734098 ]), 'recall_mean': 0.4941956119654501, 'predicted_class_distribution': array([ 692,  577,  823, 1485, 1234,  837,  662, 1075, 1142,  973]), 'f1': array([0.55240444, 0.64620939, 0.57617729, 0.40736196, 0.41735919,\n",
      "       0.50387135, 0.5566879 , 0.46078909, 0.43949661, 0.4699793 ]), 'f1_mean': 0.5030336508295632}\n",
      "Saved pre-edit metrics saved/edit_2_Spurious_MNIST/method_eac/debug/2_Spurious_MNIST-VGG_16/0317_154335/results/edit_idx_5/models/pre_edit_metrics.pth\n"
     ]
    },
    {
     "name": "stderr",
     "output_type": "stream",
     "text": [
      "\n"
     ]
    },
    {
     "name": "stdout",
     "output_type": "stream",
     "text": [
      "Saved pre-edit logits to saved/edit_2_Spurious_MNIST/method_eac/debug/2_Spurious_MNIST-VGG_16/0317_154335/results/edit_idx_5/models/pre_edit_logits.pth\n",
      "Created <class 'trainer.editor.EditorEAC'> editor.\n",
      "Using passed in covariance data loader.\n",
      "Looking for covariance matrix weights in cache/2_Spurious_MNIST_hold_out/vgg16_bn-12\n",
      "Found precomputed cov matrices, returning...\n"
     ]
    },
    {
     "name": "stderr",
     "output_type": "stream",
     "text": [
      "tensor(0.0852, device='cuda:0', grad_fn=<DivBackward0>): 100%|█| 10000/10000 [00:12<00:00, 772.6\n"
     ]
    },
    {
     "name": "stdout",
     "output_type": "stream",
     "text": [
      "Loss (orig, final): 0.9471166729927063 0.08520843833684921\n",
      "L2 norm of weight change: 2.8027238845825195\n",
      "Performing post-edit metric calculations on validation set.\n"
     ]
    },
    {
     "name": "stderr",
     "output_type": "stream",
     "text": [
      "100%|███████████████████████████████████████████████████████████| 38/38 [00:01<00:00, 26.04it/s]"
     ]
    },
    {
     "name": "stdout",
     "output_type": "stream",
     "text": [
      "Post-edit metrics: {'TP': array([448, 537, 519, 498, 452, 423, 437, 473, 454, 454]), 'TN': array([8328, 8374, 8211, 7557, 7784, 8245, 8368, 7922, 7883, 8023]), 'FPs': array([242,  41, 307, 983, 784, 413, 224, 600, 693, 518]), 'FNs': array([482, 548, 463, 462, 480, 419, 471, 505, 470, 505]), 'accuracy': 0.4942105263157895, 'per_class_accuracy': array([0.92378947, 0.938     , 0.91894737, 0.84789474, 0.86694737,\n",
      "       0.91242105, 0.92684211, 0.88368421, 0.87757895, 0.89231579]), 'per_class_accuracy_mean': 0.898842105263158, 'precision': array([0.64927536, 0.92906574, 0.6283293 , 0.33625928, 0.36569579,\n",
      "       0.50598086, 0.66111952, 0.44082013, 0.39581517, 0.46707819]), 'precision_mean': 0.5379439348145421, 'recall': array([0.48172043, 0.49493088, 0.52851324, 0.51875   , 0.48497854,\n",
      "       0.5023753 , 0.48127753, 0.48364008, 0.49134199, 0.4734098 ]), 'recall_mean': 0.49409377897156004, 'predicted_class_distribution': array([ 690,  578,  826, 1481, 1236,  836,  661, 1073, 1147,  972]), 'f1': array([0.55308642, 0.64582081, 0.57411504, 0.4080295 , 0.41697417,\n",
      "       0.50417163, 0.5570427 , 0.46123842, 0.43843554, 0.47022268]), 'f1_mean': 0.5029136912095862}\n",
      "Saved post-edit metrics saved/edit_2_Spurious_MNIST/method_eac/debug/2_Spurious_MNIST-VGG_16/0317_154335/results/edit_idx_5/models/post_edit_metrics.pth\n",
      "Saved post-edit logits to saved/edit_2_Spurious_MNIST/method_eac/debug/2_Spurious_MNIST-VGG_16/0317_154335/results/edit_idx_5/models/post_edit_logits.pth\n",
      "All metrics and KNN results can be found in saved/edit_2_Spurious_MNIST/method_eac/debug/2_Spurious_MNIST-VGG_16/0317_154335/results/edit_idx_5/models\n",
      "(0317_154527) Starting Trial 7/9...\n"
     ]
    },
    {
     "name": "stderr",
     "output_type": "stream",
     "text": [
      "\n"
     ]
    },
    {
     "name": "stdout",
     "output_type": "stream",
     "text": [
      "torch.Size([1, 3, 32, 32]) torch.Size([1, 3, 32, 32])\n",
      "torch.Size([1, 1, 32, 32])\n",
      "torch.int64\n"
     ]
    },
    {
     "data": {
      "image/png": "[encoded data removed]",
      "text/plain": [
       "<Figure size 750x250 with 3 Axes>"
      ]
     },
     "metadata": {},
     "output_type": "display_data"
    },
    {
     "name": "stdout",
     "output_type": "stream",
     "text": [
      "Created ModelWrapperSanturkar model with 33646666 trainable parameters\n",
      "Restored weights from saved/train/2_Spurious_MNIST-VGG_16/0317_134644/models/model_best.pth\n",
      "Using passed in data loader for validation.\n",
      "Edit initialization arguments:\n",
      "n_hold_out_per_class: 50\n",
      "data_dir: saved/edit_data/{}/hold_out_{}\n",
      "mask_path: None\n",
      "image_size: [32, 32]\n",
      "edit_idxs_file: edit_idxs.txt\n",
      "edit_pool_file: test_hold_out_{}_eac.pt\n",
      "---***---\n",
      "Performing pre-edit metric calculations on validation set.\n"
     ]
    },
    {
     "name": "stderr",
     "output_type": "stream",
     "text": [
      "100%|███████████████████████████████████████████████████████████| 38/38 [00:01<00:00, 26.01it/s]"
     ]
    },
    {
     "name": "stdout",
     "output_type": "stream",
     "text": [
      "Pre-edit metrics: {'TP': array([448, 537, 520, 498, 452, 423, 437, 473, 454, 454]), 'TN': array([8326, 8375, 8215, 7553, 7786, 8244, 8367, 7920, 7888, 8022]), 'FPs': array([244,  40, 303, 987, 782, 414, 225, 602, 688, 519]), 'FNs': array([482, 548, 462, 462, 480, 419, 471, 505, 470, 505]), 'accuracy': 0.4943157894736842, 'per_class_accuracy': array([0.92357895, 0.93810526, 0.91947368, 0.84747368, 0.86715789,\n",
      "       0.91231579, 0.92673684, 0.88347368, 0.87810526, 0.89221053]), 'per_class_accuracy_mean': 0.8988631578947368, 'precision': array([0.64739884, 0.93067591, 0.63183475, 0.33535354, 0.36628849,\n",
      "       0.50537634, 0.66012085, 0.44      , 0.39754816, 0.46659815]), 'precision_mean': 0.53811950339605, 'recall': array([0.48172043, 0.49493088, 0.52953157, 0.51875   , 0.48497854,\n",
      "       0.5023753 , 0.48127753, 0.48364008, 0.49134199, 0.4734098 ]), 'recall_mean': 0.4941956119654501, 'predicted_class_distribution': array([ 692,  577,  823, 1485, 1234,  837,  662, 1075, 1142,  973]), 'f1': array([0.55240444, 0.64620939, 0.57617729, 0.40736196, 0.41735919,\n",
      "       0.50387135, 0.5566879 , 0.46078909, 0.43949661, 0.4699793 ]), 'f1_mean': 0.5030336508295632}\n",
      "Saved pre-edit metrics saved/edit_2_Spurious_MNIST/method_eac/debug/2_Spurious_MNIST-VGG_16/0317_154335/results/edit_idx_6/models/pre_edit_metrics.pth\n"
     ]
    },
    {
     "name": "stderr",
     "output_type": "stream",
     "text": [
      "\n"
     ]
    },
    {
     "name": "stdout",
     "output_type": "stream",
     "text": [
      "Saved pre-edit logits to saved/edit_2_Spurious_MNIST/method_eac/debug/2_Spurious_MNIST-VGG_16/0317_154335/results/edit_idx_6/models/pre_edit_logits.pth\n",
      "Created <class 'trainer.editor.EditorEAC'> editor.\n",
      "Using passed in covariance data loader.\n",
      "Looking for covariance matrix weights in cache/2_Spurious_MNIST_hold_out/vgg16_bn-12\n",
      "Found precomputed cov matrices, returning...\n"
     ]
    },
    {
     "name": "stderr",
     "output_type": "stream",
     "text": [
      "tensor(0.1101, device='cuda:0', grad_fn=<DivBackward0>): 100%|█| 10000/10000 [00:12<00:00, 778.7\n"
     ]
    },
    {
     "name": "stdout",
     "output_type": "stream",
     "text": [
      "Loss (orig, final): 1.1168369054794312 0.11012094467878342\n",
      "L2 norm of weight change: 3.679229259490967\n",
      "Performing post-edit metric calculations on validation set.\n"
     ]
    },
    {
     "name": "stderr",
     "output_type": "stream",
     "text": [
      "100%|███████████████████████████████████████████████████████████| 38/38 [00:01<00:00, 25.93it/s]"
     ]
    },
    {
     "name": "stdout",
     "output_type": "stream",
     "text": [
      "Post-edit metrics: {'TP': array([448, 537, 520, 498, 452, 423, 437, 474, 454, 454]), 'TN': array([8325, 8377, 8209, 7549, 7795, 8247, 8364, 7923, 7886, 8022]), 'FPs': array([245,  38, 309, 991, 773, 411, 228, 599, 690, 519]), 'FNs': array([482, 548, 462, 462, 480, 419, 471, 504, 470, 505]), 'accuracy': 0.49442105263157893, 'per_class_accuracy': array([0.92347368, 0.93831579, 0.91884211, 0.84705263, 0.86810526,\n",
      "       0.91263158, 0.92642105, 0.88389474, 0.87789474, 0.89221053]), 'per_class_accuracy_mean': 0.8988842105263158, 'precision': array([0.64646465, 0.93391304, 0.62726176, 0.33445265, 0.36897959,\n",
      "       0.50719424, 0.65714286, 0.4417521 , 0.39685315, 0.46659815]), 'precision_mean': 0.5380612191300987, 'recall': array([0.48172043, 0.49493088, 0.52953157, 0.51875   , 0.48497854,\n",
      "       0.5023753 , 0.48127753, 0.48466258, 0.49134199, 0.4734098 ]), 'recall_mean': 0.4942978614542026, 'predicted_class_distribution': array([ 693,  575,  829, 1489, 1225,  834,  665, 1073, 1144,  973]), 'f1': array([0.55206408, 0.64698795, 0.57426836, 0.40669661, 0.4191006 ,\n",
      "       0.50477327, 0.55562619, 0.46221355, 0.43907157, 0.4699793 ]), 'f1_mean': 0.5030781483086794}\n",
      "Saved post-edit metrics saved/edit_2_Spurious_MNIST/method_eac/debug/2_Spurious_MNIST-VGG_16/0317_154335/results/edit_idx_6/models/post_edit_metrics.pth\n"
     ]
    },
    {
     "name": "stderr",
     "output_type": "stream",
     "text": [
      "\n"
     ]
    },
    {
     "name": "stdout",
     "output_type": "stream",
     "text": [
      "Saved post-edit logits to saved/edit_2_Spurious_MNIST/method_eac/debug/2_Spurious_MNIST-VGG_16/0317_154335/results/edit_idx_6/models/post_edit_logits.pth\n",
      "All metrics and KNN results can be found in saved/edit_2_Spurious_MNIST/method_eac/debug/2_Spurious_MNIST-VGG_16/0317_154335/results/edit_idx_6/models\n",
      "(0317_154545) Starting Trial 8/9...\n",
      "torch.Size([1, 3, 32, 32]) torch.Size([1, 3, 32, 32])\n",
      "torch.Size([1, 1, 32, 32])\n",
      "torch.int64\n"
     ]
    },
    {
     "data": {
      "image/png": "[encoded data removed]",
      "text/plain": [
       "<Figure size 750x250 with 3 Axes>"
      ]
     },
     "metadata": {},
     "output_type": "display_data"
    },
    {
     "name": "stdout",
     "output_type": "stream",
     "text": [
      "Created ModelWrapperSanturkar model with 33646666 trainable parameters\n",
      "Restored weights from saved/train/2_Spurious_MNIST-VGG_16/0317_134644/models/model_best.pth\n",
      "Using passed in data loader for validation.\n",
      "Edit initialization arguments:\n",
      "n_hold_out_per_class: 50\n",
      "data_dir: saved/edit_data/{}/hold_out_{}\n",
      "mask_path: None\n",
      "image_size: [32, 32]\n",
      "edit_idxs_file: edit_idxs.txt\n",
      "edit_pool_file: test_hold_out_{}_eac.pt\n",
      "---***---\n",
      "Performing pre-edit metric calculations on validation set.\n"
     ]
    },
    {
     "name": "stderr",
     "output_type": "stream",
     "text": [
      "100%|███████████████████████████████████████████████████████████| 38/38 [00:01<00:00, 26.41it/s]"
     ]
    },
    {
     "name": "stdout",
     "output_type": "stream",
     "text": [
      "Pre-edit metrics: {'TP': array([448, 537, 520, 498, 452, 423, 437, 473, 454, 454]), 'TN': array([8326, 8375, 8215, 7553, 7786, 8244, 8367, 7920, 7888, 8022]), 'FPs': array([244,  40, 303, 987, 782, 414, 225, 602, 688, 519]), 'FNs': array([482, 548, 462, 462, 480, 419, 471, 505, 470, 505]), 'accuracy': 0.4943157894736842, 'per_class_accuracy': array([0.92357895, 0.93810526, 0.91947368, 0.84747368, 0.86715789,\n",
      "       0.91231579, 0.92673684, 0.88347368, 0.87810526, 0.89221053]), 'per_class_accuracy_mean': 0.8988631578947368, 'precision': array([0.64739884, 0.93067591, 0.63183475, 0.33535354, 0.36628849,\n",
      "       0.50537634, 0.66012085, 0.44      , 0.39754816, 0.46659815]), 'precision_mean': 0.53811950339605, 'recall': array([0.48172043, 0.49493088, 0.52953157, 0.51875   , 0.48497854,\n",
      "       0.5023753 , 0.48127753, 0.48364008, 0.49134199, 0.4734098 ]), 'recall_mean': 0.4941956119654501, 'predicted_class_distribution': array([ 692,  577,  823, 1485, 1234,  837,  662, 1075, 1142,  973]), 'f1': array([0.55240444, 0.64620939, 0.57617729, 0.40736196, 0.41735919,\n",
      "       0.50387135, 0.5566879 , 0.46078909, 0.43949661, 0.4699793 ]), 'f1_mean': 0.5030336508295632}\n",
      "Saved pre-edit metrics saved/edit_2_Spurious_MNIST/method_eac/debug/2_Spurious_MNIST-VGG_16/0317_154335/results/edit_idx_7/models/pre_edit_metrics.pth\n"
     ]
    },
    {
     "name": "stderr",
     "output_type": "stream",
     "text": [
      "\n"
     ]
    },
    {
     "name": "stdout",
     "output_type": "stream",
     "text": [
      "Saved pre-edit logits to saved/edit_2_Spurious_MNIST/method_eac/debug/2_Spurious_MNIST-VGG_16/0317_154335/results/edit_idx_7/models/pre_edit_logits.pth\n",
      "Created <class 'trainer.editor.EditorEAC'> editor.\n",
      "Using passed in covariance data loader.\n",
      "Looking for covariance matrix weights in cache/2_Spurious_MNIST_hold_out/vgg16_bn-12\n",
      "Found precomputed cov matrices, returning...\n"
     ]
    },
    {
     "name": "stderr",
     "output_type": "stream",
     "text": [
      "tensor(0.1193, device='cuda:0', grad_fn=<DivBackward0>): 100%|█| 10000/10000 [00:13<00:00, 768.5\n"
     ]
    },
    {
     "name": "stdout",
     "output_type": "stream",
     "text": [
      "Loss (orig, final): 1.0344688892364502 0.11931638419628143\n",
      "L2 norm of weight change: 3.4739277362823486\n",
      "Performing post-edit metric calculations on validation set.\n"
     ]
    },
    {
     "name": "stderr",
     "output_type": "stream",
     "text": [
      "100%|███████████████████████████████████████████████████████████| 38/38 [00:01<00:00, 25.70it/s]"
     ]
    },
    {
     "name": "stdout",
     "output_type": "stream",
     "text": [
      "Post-edit metrics: {'TP': array([448, 537, 518, 498, 452, 422, 438, 473, 454, 454]), 'TN': array([8334, 8373, 8217, 7556, 7773, 8247, 8369, 7924, 7882, 8019]), 'FPs': array([236,  42, 301, 984, 795, 411, 223, 598, 694, 522]), 'FNs': array([482, 548, 464, 462, 480, 420, 470, 505, 470, 505]), 'accuracy': 0.4941052631578947, 'per_class_accuracy': array([0.92442105, 0.93789474, 0.91947368, 0.84778947, 0.86578947,\n",
      "       0.91252632, 0.92705263, 0.88389474, 0.87747368, 0.89189474]), 'per_class_accuracy_mean': 0.898821052631579, 'precision': array([0.65497076, 0.92746114, 0.63247863, 0.33603239, 0.36246993,\n",
      "       0.50660264, 0.66263238, 0.44164332, 0.39547038, 0.46516393]), 'precision_mean': 0.5384925507042961, 'recall': array([0.48172043, 0.49493088, 0.52749491, 0.51875   , 0.48497854,\n",
      "       0.50118765, 0.48237885, 0.48364008, 0.49134199, 0.4734098 ]), 'recall_mean': 0.49398331329065465, 'predicted_class_distribution': array([ 684,  579,  819, 1482, 1247,  833,  661, 1071, 1148,  976]), 'f1': array([0.5551425 , 0.64543269, 0.57523598, 0.40786241, 0.41486921,\n",
      "       0.5038806 , 0.5583174 , 0.46168863, 0.43822394, 0.46925065]), 'f1_mean': 0.5029903998787526}\n",
      "Saved post-edit metrics saved/edit_2_Spurious_MNIST/method_eac/debug/2_Spurious_MNIST-VGG_16/0317_154335/results/edit_idx_7/models/post_edit_metrics.pth\n"
     ]
    },
    {
     "name": "stderr",
     "output_type": "stream",
     "text": [
      "\n"
     ]
    },
    {
     "name": "stdout",
     "output_type": "stream",
     "text": [
      "Saved post-edit logits to saved/edit_2_Spurious_MNIST/method_eac/debug/2_Spurious_MNIST-VGG_16/0317_154335/results/edit_idx_7/models/post_edit_logits.pth\n",
      "All metrics and KNN results can be found in saved/edit_2_Spurious_MNIST/method_eac/debug/2_Spurious_MNIST-VGG_16/0317_154335/results/edit_idx_7/models\n",
      "(0317_154603) Starting Trial 9/9...\n",
      "torch.Size([1, 3, 32, 32]) torch.Size([1, 3, 32, 32])\n",
      "torch.Size([1, 1, 32, 32])\n",
      "torch.int64\n"
     ]
    },
    {
     "data": {
      "image/png": "[encoded data removed]",
      "text/plain": [
       "<Figure size 750x250 with 3 Axes>"
      ]
     },
     "metadata": {},
     "output_type": "display_data"
    },
    {
     "name": "stdout",
     "output_type": "stream",
     "text": [
      "Created ModelWrapperSanturkar model with 33646666 trainable parameters\n",
      "Restored weights from saved/train/2_Spurious_MNIST-VGG_16/0317_134644/models/model_best.pth\n",
      "Using passed in data loader for validation.\n",
      "Edit initialization arguments:\n",
      "n_hold_out_per_class: 50\n",
      "data_dir: saved/edit_data/{}/hold_out_{}\n",
      "mask_path: None\n",
      "image_size: [32, 32]\n",
      "edit_idxs_file: edit_idxs.txt\n",
      "edit_pool_file: test_hold_out_{}_eac.pt\n",
      "---***---\n",
      "Performing pre-edit metric calculations on validation set.\n"
     ]
    },
    {
     "name": "stderr",
     "output_type": "stream",
     "text": [
      "100%|███████████████████████████████████████████████████████████| 38/38 [00:01<00:00, 25.58it/s]"
     ]
    },
    {
     "name": "stdout",
     "output_type": "stream",
     "text": [
      "Pre-edit metrics: {'TP': array([448, 537, 520, 498, 452, 423, 437, 473, 454, 454]), 'TN': array([8326, 8375, 8215, 7553, 7786, 8244, 8367, 7920, 7888, 8022]), 'FPs': array([244,  40, 303, 987, 782, 414, 225, 602, 688, 519]), 'FNs': array([482, 548, 462, 462, 480, 419, 471, 505, 470, 505]), 'accuracy': 0.4943157894736842, 'per_class_accuracy': array([0.92357895, 0.93810526, 0.91947368, 0.84747368, 0.86715789,\n",
      "       0.91231579, 0.92673684, 0.88347368, 0.87810526, 0.89221053]), 'per_class_accuracy_mean': 0.8988631578947368, 'precision': array([0.64739884, 0.93067591, 0.63183475, 0.33535354, 0.36628849,\n",
      "       0.50537634, 0.66012085, 0.44      , 0.39754816, 0.46659815]), 'precision_mean': 0.53811950339605, 'recall': array([0.48172043, 0.49493088, 0.52953157, 0.51875   , 0.48497854,\n",
      "       0.5023753 , 0.48127753, 0.48364008, 0.49134199, 0.4734098 ]), 'recall_mean': 0.4941956119654501, 'predicted_class_distribution': array([ 692,  577,  823, 1485, 1234,  837,  662, 1075, 1142,  973]), 'f1': array([0.55240444, 0.64620939, 0.57617729, 0.40736196, 0.41735919,\n",
      "       0.50387135, 0.5566879 , 0.46078909, 0.43949661, 0.4699793 ]), 'f1_mean': 0.5030336508295632}\n",
      "Saved pre-edit metrics saved/edit_2_Spurious_MNIST/method_eac/debug/2_Spurious_MNIST-VGG_16/0317_154335/results/edit_idx_8/models/pre_edit_metrics.pth\n"
     ]
    },
    {
     "name": "stderr",
     "output_type": "stream",
     "text": [
      "\n"
     ]
    },
    {
     "name": "stdout",
     "output_type": "stream",
     "text": [
      "Saved pre-edit logits to saved/edit_2_Spurious_MNIST/method_eac/debug/2_Spurious_MNIST-VGG_16/0317_154335/results/edit_idx_8/models/pre_edit_logits.pth\n",
      "Created <class 'trainer.editor.EditorEAC'> editor.\n",
      "Using passed in covariance data loader.\n",
      "Looking for covariance matrix weights in cache/2_Spurious_MNIST_hold_out/vgg16_bn-12\n",
      "Found precomputed cov matrices, returning...\n"
     ]
    },
    {
     "name": "stderr",
     "output_type": "stream",
     "text": [
      "tensor(0.0917, device='cuda:0', grad_fn=<DivBackward0>): 100%|█| 10000/10000 [00:11<00:00, 841.2\n"
     ]
    },
    {
     "name": "stdout",
     "output_type": "stream",
     "text": [
      "Loss (orig, final): 1.0784482955932617 0.09173238277435303\n",
      "L2 norm of weight change: 3.019115686416626\n",
      "Performing post-edit metric calculations on validation set.\n"
     ]
    },
    {
     "name": "stderr",
     "output_type": "stream",
     "text": [
      "100%|███████████████████████████████████████████████████████████| 38/38 [00:01<00:00, 25.85it/s]"
     ]
    },
    {
     "name": "stdout",
     "output_type": "stream",
     "text": [
      "Post-edit metrics: {'TP': array([448, 537, 520, 498, 452, 423, 437, 473, 454, 455]), 'TN': array([8328, 8375, 8211, 7547, 7794, 8241, 8364, 7925, 7891, 8021]), 'FPs': array([242,  40, 307, 993, 774, 417, 228, 597, 685, 520]), 'FNs': array([482, 548, 462, 462, 480, 419, 471, 505, 470, 504]), 'accuracy': 0.49442105263157893, 'per_class_accuracy': array([0.92378947, 0.93810526, 0.91905263, 0.84684211, 0.868     ,\n",
      "       0.912     , 0.92642105, 0.884     , 0.87842105, 0.89221053]), 'per_class_accuracy_mean': 0.8988842105263158, 'precision': array([0.64927536, 0.93067591, 0.62877872, 0.33400402, 0.36867863,\n",
      "       0.50357143, 0.65714286, 0.44205607, 0.39859526, 0.46666667]), 'precision_mean': 0.5379444930437638, 'recall': array([0.48172043, 0.49493088, 0.52953157, 0.51875   , 0.48497854,\n",
      "       0.5023753 , 0.48127753, 0.48364008, 0.49134199, 0.47445255]), 'recall_mean': 0.4942998872522071, 'predicted_class_distribution': array([ 690,  577,  827, 1491, 1226,  840,  665, 1070, 1139,  975]), 'f1': array([0.55308642, 0.64620939, 0.57490326, 0.40636475, 0.41890639,\n",
      "       0.50297265, 0.55562619, 0.46191406, 0.44013572, 0.4705274 ]), 'f1_mean': 0.5030646246508315}\n",
      "Saved post-edit metrics saved/edit_2_Spurious_MNIST/method_eac/debug/2_Spurious_MNIST-VGG_16/0317_154335/results/edit_idx_8/models/post_edit_metrics.pth\n"
     ]
    },
    {
     "name": "stderr",
     "output_type": "stream",
     "text": [
      "\n"
     ]
    },
    {
     "name": "stdout",
     "output_type": "stream",
     "text": [
      "Saved post-edit logits to saved/edit_2_Spurious_MNIST/method_eac/debug/2_Spurious_MNIST-VGG_16/0317_154335/results/edit_idx_8/models/post_edit_logits.pth\n",
      "All metrics and KNN results can be found in saved/edit_2_Spurious_MNIST/method_eac/debug/2_Spurious_MNIST-VGG_16/0317_154335/results/edit_idx_8/models\n"
     ]
    }
   ],
   "source": [
    "n_trials = len(edit_idxs)\n",
    "\n",
    "for idx, cur_edit_data in enumerate(edit_data):\n",
    "    # cur_edit_data is a tuple of (keys, values, labels)\n",
    "    informal_log(\"({}) Starting Trial {}/{}...\".format(\n",
    "        datetime.now().strftime(r'%m%d_%H%M%S'), \n",
    "        idx + 1, n_trials), \n",
    "        progress_report_path)\n",
    "    run_id = os.path.join(timestamp, 'results', 'edit_idx_{}'.format(idx))\n",
    "    \n",
    "    config = ConfigParser(config_dict, run_id=run_id)\n",
    "    \n",
    "    trial_save_dir = config.save_dir\n",
    "    edit_data_save_path = os.path.join(trial_save_dir, 'edit_data.pt')\n",
    "    # key_save_path = os.path.join(trial_save_dir, 'keys.pt')\n",
    "    # value_save_path =os.path.join(trial_save_dir, 'values.pt')\n",
    "    keys, values, labels = cur_edit_data\n",
    "    trial_edit_data = prepare_edit_data_eac(\n",
    "            keys=keys,\n",
    "            values=values,\n",
    "            labels=labels)\n",
    "    \n",
    "    torch.save(trial_edit_data, edit_data_save_path)\n",
    "    print(trial_edit_data['masks'].dtype)\n",
    "    trial_edit_data['masks'] = trial_edit_data['masks'].to(torch.int32)\n",
    "    show_image_rows(\n",
    "        images=[np.concatenate([trial_edit_data['modified_imgs'], trial_edit_data['imgs'], trial_edit_data['masks'].repeat(1, 3, 1, 1)], axis=0)],\n",
    "        # images=[np.concatenate([trial_edit_data['modified_imgs'], trial_edit_data['imgs'], trial_edit_data['masks']], axis=0)],\n",
    "        image_titles=[['key', 'value', 'mask']])\n",
    "    edit_MNIST(\n",
    "        config=config,\n",
    "        test_data_loader=test_data_loader,\n",
    "        covariance_data_loader=covariance_data_loader,\n",
    "        edit_data=trial_edit_data,\n",
    "        do_analyze_knn=analyze_in_edit)\n"
   ]
  },
  {
   "cell_type": "code",
   "execution_count": null,
   "metadata": {
    "scrolled": true,
    "tags": []
   },
   "outputs": [],
   "source": [
    "for idx, (key_path, value_path) in enumerate(zip(key_image_paths, value_image_paths)):\n",
    "    split = os.path.basename(os.path.dirname(os.path.dirname(key_path)))\n",
    "    class_name = os.path.basename(os.path.dirname(key_path))\n",
    "    file_name = os.path.basename(key_path).split(\".\")[0]\n",
    "    key_image_id = \"{}-{}-{}\".format(class_name, split, file_name)\n",
    "    # Print Progress\n",
    "    informal_log(\"({}) Starting Trial {}/{}...\".format(datetime.now().strftime(r'%m%d_%H%M%S'), idx + 1, n_trials), progress_report_path)\n",
    "    \n",
    "    # Create run id \n",
    "    value_image_id = os.path.splitext(os.path.basename(value_path))[0]\n",
    "    run_id = os.path.join(timestamp, 'results', key_image_id, value_image_id)\n",
    "    informal_log(\"Current run_id: {}\".format(run_id), progress_report_path)\n",
    "    \n",
    "    # Read config file as json and make updates to key and value paths\n",
    "    config_dict = read_json(config_path)\n",
    "    config_dict['editor'].update({\n",
    "        'key_image_path': key_path,\n",
    "        'value_image_path': value_path\n",
    "    })\n",
    "    \n",
    "    # Create config object\n",
    "    config = ConfigParser(config_dict, run_id=run_id)\n",
    "    \n",
    "    # Log the current trial path\n",
    "    informal_log(os.path.dirname(config.save_dir), save_trials_path)\n",
    "    \n",
    "    informal_log(\"Calling edit()...\", progress_report_path)\n",
    "    \n",
    "    edit(\n",
    "        config=config,\n",
    "        test_data_loader=test_data_loader,\n",
    "        covariance_data_loader=covariance_data_loader,\n",
    "        do_analyze_knn=analyze_in_edit)\n",
    "    \n",
    "    # Print progress\n",
    "    informal_log(\"Finished trial {}/{}. Results saved to {}\".format(idx + 1, n_trials, os.path.dirname(config.save_dir)),\n",
    "                progress_report_path)\n"
   ]
  },
  {
   "cell_type": "code",
   "execution_count": null,
   "metadata": {},
   "outputs": [],
   "source": [
    "save_trials_path = 'saved/edit/trials/CINIC10_ImageNet-VGG_16/0125_114341/trial_paths.txt'\n",
    "trial_dirs = read_lists(save_trials_path)\n",
    "knn_analysis_filename = 'knn_analysis_results.pth'"
   ]
  },
  {
   "cell_type": "code",
   "execution_count": null,
   "metadata": {},
   "outputs": [],
   "source": [
    "try:\n",
    "    if not os.path.exists(save_trials_path):\n",
    "        print(\"Path {} does not exist\".format(save_trials_path))\n",
    "    else:\n",
    "        print(\"Obtaining trial paths from {}\".format(save_trials_path))\n",
    "except:\n",
    "    print(\"Need to define save_trials_path.\")\n",
    "\n"
   ]
  },
  {
   "cell_type": "markdown",
   "metadata": {},
   "source": [
    "## Analyze KNN"
   ]
  },
  {
   "cell_type": "code",
   "execution_count": null,
   "metadata": {},
   "outputs": [],
   "source": [
    "## Process KNN results for each\n",
    "n_trials = len(trial_dirs)\n",
    "n_log = n_trials // 10 + 1  # log every 10%\n",
    "progress_report_path = os.path.join(os.path.dirname(save_trials_path), 'progress_report_analysis.txt')\n",
    "\n",
    "informal_log(\"Starting KNN analysis...\", progress_report_path)\n",
    "for trial_idx, trial_dir in tqdm(enumerate(trial_dirs)):\n",
    "    # if trial_idx % n_log == 0:\n",
    "    informal_log(\"Processing {}/{} trials. Currently processing {}\".format(\n",
    "        trial_idx+1, n_trials, os.path.basename(trial_dir)), progress_report_path)\n",
    "                     \n",
    "    results_save_dir = os.path.join(trial_dir, 'models')\n",
    "    load_and_analyze_knn(\n",
    "        restore_dir=results_save_dir,\n",
    "        pre_edit_knn_path=os.path.join(results_save_dir, 'pre_edit_{}-nn.pth'.format(K)),\n",
    "        post_edit_knn_path=os.path.join(results_save_dir, 'post_edit_{}-nn.pth'.format(K)),\n",
    "        knn_analysis_filename=knn_analysis_filename,\n",
    "        target_class_idx=target_class_idx,\n",
    "        class_list=class_list,\n",
    "        progress_report_path=progress_report_path,\n",
    "        save_images=False,\n",
    "        save_plots=True)\n",
    "    \n"
   ]
  },
  {
   "cell_type": "markdown",
   "metadata": {},
   "source": [
    "## Convert to CSV for all trials"
   ]
  },
  {
   "cell_type": "code",
   "execution_count": null,
   "metadata": {},
   "outputs": [],
   "source": [
    "csv_save_path = os.path.join(os.path.dirname(save_trials_path), 'results_table.csv')\n",
    "store_csv(\n",
    "    trial_dirs=trial_dirs,\n",
    "    class_list=class_list,\n",
    "    save_path=csv_save_path)\n"
   ]
  },
  {
   "cell_type": "code",
   "execution_count": null,
   "metadata": {},
   "outputs": [],
   "source": []
  }
 ],
 "metadata": {
  "kernelspec": {
   "display_name": "editing",
   "language": "python",
   "name": "editing"
  },
  "language_info": {
   "codemirror_mode": {
    "name": "ipython",
    "version": 3
   },
   "file_extension": ".py",
   "mimetype": "text/x-python",
   "name": "python",
   "nbconvert_exporter": "python",
   "pygments_lexer": "ipython3",
   "version": "3.8.13"
  }
 },
 "nbformat": 4,
 "nbformat_minor": 4
}
