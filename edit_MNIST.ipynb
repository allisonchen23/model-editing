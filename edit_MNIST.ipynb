{
 "cells": [
  {
   "cell_type": "markdown",
   "metadata": {},
   "source": [
    "## Test out how to edit on 2_Spurious_MNIST dataset"
   ]
  },
  {
   "cell_type": "code",
   "execution_count": 1,
   "metadata": {},
   "outputs": [],
   "source": [
    "# General imports\n",
    "import torch\n",
    "import numpy as np\n",
    "import os, sys\n",
    "import json\n",
    "from tqdm import tqdm\n",
    "from datetime import datetime\n",
    "import pandas as pd\n",
    "import shutil"
   ]
  },
  {
   "cell_type": "code",
   "execution_count": 2,
   "metadata": {},
   "outputs": [],
   "source": [
    "# Local imports\n",
    "sys.path.insert(0, 'src')\n",
    "from utils import read_json, read_lists, informal_log, list_to_dict, write_lists, write_json, save_image\n",
    "from utils.visualizations import show_image_rows, make_grid\n",
    "from utils.model_utils import prepare_device\n",
    "from parse_config import ConfigParser\n",
    "# from data_loader import data_loaders\n",
    "import datasets.datasets as module_data\n",
    "import datasets.edit_datasets as module_edit_data\n",
    "import model.model as module_arch\n",
    "from utils.knn_utils import load_and_analyze_knn\n",
    "from utils.results_to_csv import store_csv\n",
    "from edit_MNIST import edit, run_trials"
   ]
  },
  {
   "cell_type": "code",
   "execution_count": 3,
   "metadata": {},
   "outputs": [],
   "source": [
    "# Define constants, paths\n",
    "dataset_type = '2_Spurious_MNIST'\n",
    "config_path = os.path.join('configs', 'MNIST', '{}_edit.json'.format(dataset_type))\n",
    "config_dict = read_json(config_path)\n",
    "class_list = [i for i in range(10)]\n",
    "\n",
    "analyze_in_edit = True\n",
    "\n"
   ]
  },
  {
   "cell_type": "code",
   "execution_count": 4,
   "metadata": {},
   "outputs": [],
   "source": [
    "# Load config file\n",
    "config = ConfigParser(config_dict)\n",
    "\n",
    "# Set K\n",
    "K = config_dict['editor']['K']\n",
    "\n",
    "device, device_ids = prepare_device(config_dict['n_gpu'])"
   ]
  },
  {
   "cell_type": "code",
   "execution_count": 5,
   "metadata": {},
   "outputs": [],
   "source": [
    "# Load datasets\n",
    "data_loader_args = dict(config_dict[\"data_loader\"][\"args\"])\n",
    "\n",
    "# Create validation data loader\n",
    "test_dataset =config.init_obj('test_dataset', module_data)\n",
    "\n",
    "test_data_loader = torch.utils.data.DataLoader(\n",
    "    test_dataset,\n",
    "    **data_loader_args\n",
    ")\n",
    "\n",
    "# Create data loader for covariance matrix\n",
    "covariance_dataset = config.init_obj('covariance_dataset', module_data)\n",
    "covariance_data_loader = torch.utils.data.DataLoader(\n",
    "    covariance_dataset,\n",
    "    **data_loader_args\n",
    ")\n"
   ]
  },
  {
   "cell_type": "markdown",
   "metadata": {},
   "source": [
    "### Create log and save paths"
   ]
  },
  {
   "cell_type": "code",
   "execution_count": 6,
   "metadata": {},
   "outputs": [
    {
     "name": "stdout",
     "output_type": "stream",
     "text": [
      "Saving path to directories for each trial to saved/edit_2_Spurious_MNIST/method_eac/VGG_16/0321_145522/trial_paths.txt\n",
      "Printing progress reports to saved/edit_2_Spurious_MNIST/method_eac/VGG_16/0321_145522/progress_report.txt\n"
     ]
    }
   ],
   "source": [
    "# create log path to store the paths to each trial\n",
    "save_root = config_dict['trainer']['save_dir']\n",
    "timestamp = os.path.basename(os.path.dirname(config.save_dir))\n",
    "save_dir = os.path.join(save_root, config_dict['name'], timestamp)\n",
    "trial_paths_path = os.path.join(save_dir, 'trial_paths.txt')\n",
    "progress_report_path = os.path.join(save_dir, 'progress_report.txt')\n",
    "if os.path.exists(trial_paths_path):\n",
    "    print(\"Path {} already exists. Aborting.\".format(trial_paths_path))\n",
    "else:\n",
    "    # progress_report_path = os.path.join(save_root, config_dict['name'], timestamp, 'progress_report.txt')\n",
    "    if os.path.exists(progress_report_path):\n",
    "        os.remove(progress_report_path)\n",
    "    print(\"Saving path to directories for each trial to {}\".format(trial_paths_path))\n",
    "    print(\"Printing progress reports to {}\".format(progress_report_path))"
   ]
  },
  {
   "cell_type": "markdown",
   "metadata": {},
   "source": [
    "### Create dataset and save edit_idxs file"
   ]
  },
  {
   "cell_type": "code",
   "execution_count": 7,
   "metadata": {},
   "outputs": [
    {
     "name": "stdout",
     "output_type": "stream",
     "text": [
      "Saved edit_idxs file to saved/edit_2_Spurious_MNIST/method_eac/VGG_16/0321_145522/edit_idxs.txt\n"
     ]
    }
   ],
   "source": [
    "\n",
    "MNIST_edit_dataset = config.init_obj('edit_dataset', module_edit_data)\n",
    "edit_data_loader = torch.utils.data.DataLoader(\n",
    "    MNIST_edit_dataset,\n",
    "    shuffle=False,\n",
    "    batch_size=1,\n",
    "    num_workers=8\n",
    ")\n",
    "# Save edit_idxs\n",
    "edit_idxs_src_path = MNIST_edit_dataset.edit_idxs_path\n",
    "edit_idxs_dst_path = os.path.join(save_dir, os.path.basename(edit_idxs_src_path))\n",
    "shutil.copyfile(edit_idxs_src_path, edit_idxs_dst_path)\n",
    "print(\"Saved edit_idxs file to {}\".format(edit_idxs_dst_path))"
   ]
  },
  {
   "cell_type": "markdown",
   "metadata": {},
   "source": [
    "### Run Trials\n"
   ]
  },
  {
   "cell_type": "code",
   "execution_count": 8,
   "metadata": {
    "scrolled": true,
    "tags": []
   },
   "outputs": [
    {
     "name": "stdout",
     "output_type": "stream",
     "text": [
      "(0321_145531) Starting Trial 1/3...\n",
      "saved/edit_2_Spurious_MNIST/method_eac/VGG_16/0321_145522/results/edit_idx_0\n",
      "torch.Size([1, 1, 32, 32])\n",
      "3 1\n"
     ]
    },
    {
     "data": {
      "image/png": "[encoded data removed]",
      "text/plain": [
       "<Figure size 250x750 with 3 Axes>"
      ]
     },
     "metadata": {},
     "output_type": "display_data"
    },
    {
     "name": "stdout",
     "output_type": "stream",
     "text": [
      "Seed: 0\n",
      "Editing layer 12\n",
      "Created ModelWrapperSanturkar model with 33646666 trainable parameters\n",
      "Restored weights from saved/train/2_Spurious_MNIST-VGG_16/0317_134644/models/model_best.pth\n",
      "Using passed in data loader for validation.\n",
      "Performing pre-edit metric calculations on validation set.\n"
     ]
    },
    {
     "name": "stderr",
     "output_type": "stream",
     "text": [
      "100%|███████████████████████████████████████████████████████████| 38/38 [00:02<00:00, 17.04it/s]"
     ]
    },
    {
     "name": "stdout",
     "output_type": "stream",
     "text": [
      "Pre-edit metrics: {'TP': array([448, 537, 520, 498, 452, 423, 437, 473, 454, 454]), 'TN': array([8326, 8375, 8215, 7553, 7786, 8244, 8367, 7920, 7888, 8022]), 'FPs': array([244,  40, 303, 987, 782, 414, 225, 602, 688, 519]), 'FNs': array([482, 548, 462, 462, 480, 419, 471, 505, 470, 505]), 'accuracy': 0.4943157894736842, 'per_class_accuracy': array([0.92357895, 0.93810526, 0.91947368, 0.84747368, 0.86715789,\n",
      "       0.91231579, 0.92673684, 0.88347368, 0.87810526, 0.89221053]), 'per_class_accuracy_mean': 0.8988631578947368, 'precision': array([0.64739884, 0.93067591, 0.63183475, 0.33535354, 0.36628849,\n",
      "       0.50537634, 0.66012085, 0.44      , 0.39754816, 0.46659815]), 'precision_mean': 0.53811950339605, 'recall': array([0.48172043, 0.49493088, 0.52953157, 0.51875   , 0.48497854,\n",
      "       0.5023753 , 0.48127753, 0.48364008, 0.49134199, 0.4734098 ]), 'recall_mean': 0.4941956119654501, 'predicted_class_distribution': array([ 692,  577,  823, 1485, 1234,  837,  662, 1075, 1142,  973]), 'f1': array([0.55240444, 0.64620939, 0.57617729, 0.40736196, 0.41735919,\n",
      "       0.50387135, 0.5566879 , 0.46078909, 0.43949661, 0.4699793 ]), 'f1_mean': 0.5030336508295632}\n",
      "Saved pre-edit metrics saved/edit_2_Spurious_MNIST/method_eac/VGG_16/0321_145522/results/edit_idx_0/models/pre_edit_metrics.pth\n",
      "Saved pre-edit logits to saved/edit_2_Spurious_MNIST/method_eac/VGG_16/0321_145522/results/edit_idx_0/models/pre_edit_logits.pth\n",
      "Created <class 'trainer.editor.EditorEAC'> editor.\n",
      "Is covariance_dataset in config? True\n",
      "Created dataloader for covariance matrix from 2_Spurious_MNIST_hold_out\n"
     ]
    },
    {
     "name": "stderr",
     "output_type": "stream",
     "text": [
      "\n"
     ]
    },
    {
     "name": "stdout",
     "output_type": "stream",
     "text": [
      "Looking for covariance matrix weights in cache/2_Spurious_MNIST_hold_out/vgg16_bn-12\n",
      "Found precomputed cov matrices, returning...\n"
     ]
    },
    {
     "name": "stderr",
     "output_type": "stream",
     "text": [
      "tensor(0.1473, device='cuda:0', grad_fn=<DivBackward0>): 100%|█| 40000/40000 [00:48<00:00, 818.5\n"
     ]
    },
    {
     "name": "stdout",
     "output_type": "stream",
     "text": [
      "Loss (orig, final): 1.2179887294769287 0.14726069569587708\n",
      "L2 norm of weight change: 4.148594379425049\n",
      "Performing post-edit metric calculations on validation set.\n"
     ]
    },
    {
     "name": "stderr",
     "output_type": "stream",
     "text": [
      "100%|███████████████████████████████████████████████████████████| 38/38 [00:01<00:00, 25.45it/s]"
     ]
    },
    {
     "name": "stdout",
     "output_type": "stream",
     "text": [
      "Post-edit metrics: {'TP': array([448, 537, 520, 498, 452, 422, 436, 473, 454, 454]), 'TN': array([8317, 8376, 8213, 7561, 7788, 8237, 8376, 7919, 7885, 8022]), 'FPs': array([253,  39, 305, 979, 780, 421, 216, 603, 691, 519]), 'FNs': array([482, 548, 462, 462, 480, 420, 472, 505, 470, 505]), 'accuracy': 0.4941052631578947, 'per_class_accuracy': array([0.92263158, 0.93821053, 0.91926316, 0.84831579, 0.86736842,\n",
      "       0.91147368, 0.92757895, 0.88336842, 0.87778947, 0.89221053]), 'per_class_accuracy_mean': 0.898821052631579, 'precision': array([0.63908702, 0.93229167, 0.63030303, 0.33716994, 0.36688312,\n",
      "       0.50059312, 0.66871166, 0.43959108, 0.39650655, 0.46659815]), 'precision_mean': 0.5377735326051984, 'recall': array([0.48172043, 0.49493088, 0.52953157, 0.51875   , 0.48497854,\n",
      "       0.50118765, 0.48017621, 0.48364008, 0.49134199, 0.4734098 ]), 'recall_mean': 0.4939667149612541, 'predicted_class_distribution': array([ 701,  576,  825, 1477, 1232,  843,  652, 1076, 1145,  973]), 'f1': array([0.54935622, 0.64659843, 0.57553957, 0.40869922, 0.41774492,\n",
      "       0.50089021, 0.55897436, 0.46056475, 0.43885935, 0.4699793 ]), 'f1_mean': 0.5027206330176655}\n",
      "Saved post-edit metrics saved/edit_2_Spurious_MNIST/method_eac/VGG_16/0321_145522/results/edit_idx_0/models/post_edit_metrics.pth\n",
      "Saved post-edit logits to saved/edit_2_Spurious_MNIST/method_eac/VGG_16/0321_145522/results/edit_idx_0/models/post_edit_logits.pth\n",
      "All metrics and KNN results can be found in saved/edit_2_Spurious_MNIST/method_eac/VGG_16/0321_145522/results/edit_idx_0/models\n",
      "(0321_145627) Starting Trial 2/3...\n"
     ]
    },
    {
     "name": "stderr",
     "output_type": "stream",
     "text": [
      "\n"
     ]
    },
    {
     "name": "stdout",
     "output_type": "stream",
     "text": [
      "saved/edit_2_Spurious_MNIST/method_eac/VGG_16/0321_145522/results/edit_idx_1\n",
      "torch.Size([2, 1, 32, 32])\n",
      "3 2\n"
     ]
    },
    {
     "data": {
      "image/png": "[encoded data removed]",
      "text/plain": [
       "<Figure size 500x750 with 6 Axes>"
      ]
     },
     "metadata": {},
     "output_type": "display_data"
    },
    {
     "name": "stdout",
     "output_type": "stream",
     "text": [
      "Seed: 0\n",
      "Editing layer 12\n",
      "Created ModelWrapperSanturkar model with 33646666 trainable parameters\n",
      "Restored weights from saved/train/2_Spurious_MNIST-VGG_16/0317_134644/models/model_best.pth\n",
      "Using passed in data loader for validation.\n",
      "Performing pre-edit metric calculations on validation set.\n"
     ]
    },
    {
     "name": "stderr",
     "output_type": "stream",
     "text": [
      "100%|███████████████████████████████████████████████████████████| 38/38 [00:01<00:00, 25.63it/s]"
     ]
    },
    {
     "name": "stdout",
     "output_type": "stream",
     "text": [
      "Pre-edit metrics: {'TP': array([448, 537, 520, 498, 452, 423, 437, 473, 454, 454]), 'TN': array([8326, 8375, 8215, 7553, 7786, 8244, 8367, 7920, 7888, 8022]), 'FPs': array([244,  40, 303, 987, 782, 414, 225, 602, 688, 519]), 'FNs': array([482, 548, 462, 462, 480, 419, 471, 505, 470, 505]), 'accuracy': 0.4943157894736842, 'per_class_accuracy': array([0.92357895, 0.93810526, 0.91947368, 0.84747368, 0.86715789,\n",
      "       0.91231579, 0.92673684, 0.88347368, 0.87810526, 0.89221053]), 'per_class_accuracy_mean': 0.8988631578947368, 'precision': array([0.64739884, 0.93067591, 0.63183475, 0.33535354, 0.36628849,\n",
      "       0.50537634, 0.66012085, 0.44      , 0.39754816, 0.46659815]), 'precision_mean': 0.53811950339605, 'recall': array([0.48172043, 0.49493088, 0.52953157, 0.51875   , 0.48497854,\n",
      "       0.5023753 , 0.48127753, 0.48364008, 0.49134199, 0.4734098 ]), 'recall_mean': 0.4941956119654501, 'predicted_class_distribution': array([ 692,  577,  823, 1485, 1234,  837,  662, 1075, 1142,  973]), 'f1': array([0.55240444, 0.64620939, 0.57617729, 0.40736196, 0.41735919,\n",
      "       0.50387135, 0.5566879 , 0.46078909, 0.43949661, 0.4699793 ]), 'f1_mean': 0.5030336508295632}\n",
      "Saved pre-edit metrics saved/edit_2_Spurious_MNIST/method_eac/VGG_16/0321_145522/results/edit_idx_1/models/pre_edit_metrics.pth\n",
      "Saved pre-edit logits to saved/edit_2_Spurious_MNIST/method_eac/VGG_16/0321_145522/results/edit_idx_1/models/pre_edit_logits.pth\n",
      "Created <class 'trainer.editor.EditorEAC'> editor.\n",
      "Is covariance_dataset in config? True\n",
      "Created dataloader for covariance matrix from 2_Spurious_MNIST_hold_out\n",
      "Looking for covariance matrix weights in cache/2_Spurious_MNIST_hold_out/vgg16_bn-12\n"
     ]
    },
    {
     "name": "stderr",
     "output_type": "stream",
     "text": [
      "\n"
     ]
    },
    {
     "name": "stdout",
     "output_type": "stream",
     "text": [
      "Found precomputed cov matrices, returning...\n"
     ]
    },
    {
     "name": "stderr",
     "output_type": "stream",
     "text": [
      "tensor(0.1111, device='cuda:0', grad_fn=<DivBackward0>): 100%|█| 40000/40000 [00:48<00:00, 823.7\n"
     ]
    },
    {
     "name": "stdout",
     "output_type": "stream",
     "text": [
      "Loss (orig, final): 1.1168369054794312 0.11109685152769089\n",
      "L2 norm of weight change: 10.81692123413086\n",
      "Performing post-edit metric calculations on validation set.\n"
     ]
    },
    {
     "name": "stderr",
     "output_type": "stream",
     "text": [
      "100%|███████████████████████████████████████████████████████████| 38/38 [00:01<00:00, 25.57it/s]"
     ]
    },
    {
     "name": "stdout",
     "output_type": "stream",
     "text": [
      "Post-edit metrics: {'TP': array([448, 537, 520, 498, 451, 422, 436, 471, 454, 455]), 'TN': array([8322, 8376, 8217, 7542, 7798, 8256, 8358, 7931, 7875, 8017]), 'FPs': array([248,  39, 301, 998, 770, 402, 234, 591, 701, 524]), 'FNs': array([482, 548, 462, 462, 481, 420, 472, 507, 470, 504]), 'accuracy': 0.4938947368421053, 'per_class_accuracy': array([0.92315789, 0.93821053, 0.91968421, 0.84631579, 0.86831579,\n",
      "       0.91347368, 0.92568421, 0.88442105, 0.87673684, 0.89178947]), 'per_class_accuracy_mean': 0.8987789473684211, 'precision': array([0.64367816, 0.93229167, 0.63337393, 0.3328877 , 0.36936937,\n",
      "       0.51213592, 0.65074627, 0.44350282, 0.39307359, 0.46475996]), 'precision_mean': 0.5375819399778033, 'recall': array([0.48172043, 0.49493088, 0.52953157, 0.51875   , 0.48390558,\n",
      "       0.50118765, 0.48017621, 0.48159509, 0.49134199, 0.47445255]), 'recall_mean': 0.49375919513316696, 'predicted_class_distribution': array([ 696,  576,  821, 1496, 1221,  824,  670, 1062, 1155,  979]), 'f1': array([0.55104551, 0.64659843, 0.57681642, 0.40553746, 0.4189503 ,\n",
      "       0.50660264, 0.55259823, 0.46176471, 0.43674844, 0.46955624]), 'f1_mean': 0.5026218376242648}\n"
     ]
    },
    {
     "name": "stderr",
     "output_type": "stream",
     "text": [
      "\n"
     ]
    },
    {
     "name": "stdout",
     "output_type": "stream",
     "text": [
      "Saved post-edit metrics saved/edit_2_Spurious_MNIST/method_eac/VGG_16/0321_145522/results/edit_idx_1/models/post_edit_metrics.pth\n",
      "Saved post-edit logits to saved/edit_2_Spurious_MNIST/method_eac/VGG_16/0321_145522/results/edit_idx_1/models/post_edit_logits.pth\n",
      "All metrics and KNN results can be found in saved/edit_2_Spurious_MNIST/method_eac/VGG_16/0321_145522/results/edit_idx_1/models\n",
      "(0321_145720) Starting Trial 3/3...\n",
      "saved/edit_2_Spurious_MNIST/method_eac/VGG_16/0321_145522/results/edit_idx_2\n",
      "torch.Size([3, 1, 32, 32])\n",
      "3 3\n"
     ]
    },
    {
     "data": {
      "image/png": "[encoded data removed]",
      "text/plain": [
       "<Figure size 750x750 with 9 Axes>"
      ]
     },
     "metadata": {},
     "output_type": "display_data"
    },
    {
     "name": "stdout",
     "output_type": "stream",
     "text": [
      "Seed: 0\n",
      "Editing layer 12\n",
      "Created ModelWrapperSanturkar model with 33646666 trainable parameters\n",
      "Restored weights from saved/train/2_Spurious_MNIST-VGG_16/0317_134644/models/model_best.pth\n",
      "Using passed in data loader for validation.\n",
      "Performing pre-edit metric calculations on validation set.\n"
     ]
    },
    {
     "name": "stderr",
     "output_type": "stream",
     "text": [
      "100%|███████████████████████████████████████████████████████████| 38/38 [00:01<00:00, 25.84it/s]"
     ]
    },
    {
     "name": "stdout",
     "output_type": "stream",
     "text": [
      "Pre-edit metrics: {'TP': array([448, 537, 520, 498, 452, 423, 437, 473, 454, 454]), 'TN': array([8326, 8375, 8215, 7553, 7786, 8244, 8367, 7920, 7888, 8022]), 'FPs': array([244,  40, 303, 987, 782, 414, 225, 602, 688, 519]), 'FNs': array([482, 548, 462, 462, 480, 419, 471, 505, 470, 505]), 'accuracy': 0.4943157894736842, 'per_class_accuracy': array([0.92357895, 0.93810526, 0.91947368, 0.84747368, 0.86715789,\n",
      "       0.91231579, 0.92673684, 0.88347368, 0.87810526, 0.89221053]), 'per_class_accuracy_mean': 0.8988631578947368, 'precision': array([0.64739884, 0.93067591, 0.63183475, 0.33535354, 0.36628849,\n",
      "       0.50537634, 0.66012085, 0.44      , 0.39754816, 0.46659815]), 'precision_mean': 0.53811950339605, 'recall': array([0.48172043, 0.49493088, 0.52953157, 0.51875   , 0.48497854,\n",
      "       0.5023753 , 0.48127753, 0.48364008, 0.49134199, 0.4734098 ]), 'recall_mean': 0.4941956119654501, 'predicted_class_distribution': array([ 692,  577,  823, 1485, 1234,  837,  662, 1075, 1142,  973]), 'f1': array([0.55240444, 0.64620939, 0.57617729, 0.40736196, 0.41735919,\n",
      "       0.50387135, 0.5566879 , 0.46078909, 0.43949661, 0.4699793 ]), 'f1_mean': 0.5030336508295632}\n",
      "Saved pre-edit metrics saved/edit_2_Spurious_MNIST/method_eac/VGG_16/0321_145522/results/edit_idx_2/models/pre_edit_metrics.pth\n"
     ]
    },
    {
     "name": "stderr",
     "output_type": "stream",
     "text": [
      "\n"
     ]
    },
    {
     "name": "stdout",
     "output_type": "stream",
     "text": [
      "Saved pre-edit logits to saved/edit_2_Spurious_MNIST/method_eac/VGG_16/0321_145522/results/edit_idx_2/models/pre_edit_logits.pth\n",
      "Created <class 'trainer.editor.EditorEAC'> editor.\n",
      "Is covariance_dataset in config? True\n",
      "Created dataloader for covariance matrix from 2_Spurious_MNIST_hold_out\n",
      "Looking for covariance matrix weights in cache/2_Spurious_MNIST_hold_out/vgg16_bn-12\n",
      "Found precomputed cov matrices, returning...\n"
     ]
    },
    {
     "name": "stderr",
     "output_type": "stream",
     "text": [
      "tensor(0.0897, device='cuda:0', grad_fn=<DivBackward0>): 100%|█| 40000/40000 [00:48<00:00, 819.7\n"
     ]
    },
    {
     "name": "stdout",
     "output_type": "stream",
     "text": [
      "Loss (orig, final): 0.9827195405960083 0.08967384696006775\n",
      "L2 norm of weight change: 3.370163679122925\n",
      "Performing post-edit metric calculations on validation set.\n"
     ]
    },
    {
     "name": "stderr",
     "output_type": "stream",
     "text": [
      "100%|███████████████████████████████████████████████████████████| 38/38 [00:01<00:00, 25.69it/s]"
     ]
    },
    {
     "name": "stdout",
     "output_type": "stream",
     "text": [
      "Post-edit metrics: {'TP': array([448, 537, 522, 498, 452, 423, 437, 473, 454, 454]), 'TN': array([8321, 8376, 8228, 7548, 7783, 8243, 8364, 7916, 7894, 8025]), 'FPs': array([249,  39, 290, 992, 785, 415, 228, 606, 682, 516]), 'FNs': array([482, 548, 460, 462, 480, 419, 471, 505, 470, 505]), 'accuracy': 0.4945263157894737, 'per_class_accuracy': array([0.92305263, 0.93821053, 0.92105263, 0.84694737, 0.86684211,\n",
      "       0.91221053, 0.92642105, 0.88305263, 0.87873684, 0.89252632]), 'per_class_accuracy_mean': 0.8989052631578947, 'precision': array([0.64275466, 0.93229167, 0.64285714, 0.33422819, 0.36540016,\n",
      "       0.50477327, 0.65714286, 0.43836886, 0.39964789, 0.46804124]), 'precision_mean': 0.5385505933291054, 'recall': array([0.48172043, 0.49493088, 0.53156823, 0.51875   , 0.48497854,\n",
      "       0.5023753 , 0.48127753, 0.48364008, 0.49134199, 0.4734098 ]), 'recall_mean': 0.49439927795323013, 'predicted_class_distribution': array([ 697,  576,  812, 1490, 1237,  838,  665, 1079, 1136,  970]), 'f1': array([0.55070682, 0.64659843, 0.5819398 , 0.40653061, 0.41678193,\n",
      "       0.50357143, 0.55562619, 0.45989305, 0.4407767 , 0.47071021]), 'f1_mean': 0.5033135176045829}\n",
      "Saved post-edit metrics saved/edit_2_Spurious_MNIST/method_eac/VGG_16/0321_145522/results/edit_idx_2/models/post_edit_metrics.pth\n",
      "Saved post-edit logits to saved/edit_2_Spurious_MNIST/method_eac/VGG_16/0321_145522/results/edit_idx_2/models/post_edit_logits.pth\n",
      "All metrics and KNN results can be found in saved/edit_2_Spurious_MNIST/method_eac/VGG_16/0321_145522/results/edit_idx_2/models\n"
     ]
    },
    {
     "name": "stderr",
     "output_type": "stream",
     "text": [
      "\n"
     ]
    }
   ],
   "source": [
    "run_trials(\n",
    "    edit_data_loader=edit_data_loader,\n",
    "    progress_report_path=progress_report_path,\n",
    "    trial_paths_path=trial_paths_path,\n",
    "    test_data_loader=test_data_loader,\n",
    "    # covariance_data_loader=covariance_data_loader,\n",
    "    config_dict=config_dict,\n",
    "    run_id_prefix=os.path.join(timestamp),\n",
    "    debug=True,\n",
    "    seed=0)\n"
   ]
  },
  {
   "cell_type": "markdown",
   "metadata": {},
   "source": [
    "### Run experiments varying some variable"
   ]
  },
  {
   "cell_type": "code",
   "execution_count": 45,
   "metadata": {
    "tags": []
   },
   "outputs": [],
   "source": [
    "def get_nested_dict_value(keys: list,\n",
    "                          dictionary: dict):\n",
    "    \n",
    "    # Base case\n",
    "    if len(keys) == 1:\n",
    "        try:\n",
    "            return dictionary[keys[0]]\n",
    "        except:\n",
    "            print(\"in except\")\n",
    "            return None\n",
    "    else:\n",
    "        try:\n",
    "            item = dictionary[keys[0]]\n",
    "            return get_nested_dict_value(\n",
    "                keys=keys[1:],\n",
    "                dictionary=item)\n",
    "        except:\n",
    "            print(\"in except\")\n",
    "            return None\n",
    "        \n",
    "def set_nested_dict_value(keys: list,\n",
    "                          dictionary: dict,\n",
    "                          value: any):\n",
    "    '''\n",
    "    DOES change the original dictionary\n",
    "    '''\n",
    "    \n",
    "    # Base case\n",
    "    if len(keys) == 1:\n",
    "        dictionary[keys[0]] = value\n",
    "        return True\n",
    "    else:\n",
    "        try:\n",
    "            item = dictionary[keys[0]]\n",
    "            if not isinstance(item, dict):\n",
    "                return False\n",
    "            else:\n",
    "                return set_nested_dict_value(\n",
    "                    keys=keys[1:],\n",
    "                    dictionary=item,\n",
    "                    value=value)\n",
    "        except:\n",
    "            print(\"in except\")\n",
    "            return False\n",
    "\n",
    "def run_experiments(iv_path: str,\n",
    "                    iv_values: list,\n",
    "                    edit_data_loader: list,\n",
    "                    progress_report_path: str,\n",
    "                    trial_paths_path: str,\n",
    "                    timestamp: str,\n",
    "                    config_dict: dict,\n",
    "                    test_data_loader=None,\n",
    "                    covariance_data_loader=None,\n",
    "                    analyze_in_edit=True,\n",
    "                    debug=True,\n",
    "                    seed: int=0):\n",
    "    \n",
    "    # TODO: this may need to be modified if IV is a nested key\n",
    "    iv_path_list = iv_path.split('/')\n",
    "    \n",
    "    if get_nested_dict_value(keys=iv_path_list, dictionary=config_dict) is None:\n",
    "        raise ValueError(\"Could not find path of keys {} in config dictionary\".format(iv_path))\n",
    "\n",
    "    n_experiments = len(iv_values)\n",
    "    for iv_idx, iv_value in enumerate(iv_values):\n",
    "        # config_dict[iv_name] = iv_value\n",
    "        if not set_nested_dict_value(\n",
    "            keys=iv_path_list,\n",
    "            dictionary=config_dict,\n",
    "            value=iv_value):\n",
    "            raise ValueError(\"Unable to set value of {} to {}\".format(iv_path, iv_value))\n",
    "        informal_log(\"Experimenting with {} of {}\".format(iv_path, iv_value), progress_report_path)\n",
    "        \n",
    "        run_id_prefix = os.path.join(timestamp, '{}_{}'.format(iv_path.replace('/', '_'), iv_value))\n",
    "        # run_trials(\n",
    "        #     EAC_edit_data=EAC_edit_data,\n",
    "        #     progress_report_path=progress_report_path,\n",
    "        #     trial_paths_path=trial_paths_path,\n",
    "        #     config_dict=config_dict,\n",
    "        #     run_id_prefix=run_id_prefix,\n",
    "        #     debug=debug)\n",
    "        \n",
    "        run_trials(\n",
    "            edit_data_loader=edit_data_loader,\n",
    "            test_data_loader=test_data_loader,\n",
    "            covariance_data_loader=covariance_data_loader,\n",
    "            config_dict=config_dict,\n",
    "            run_id_prefix=run_id_prefix,\n",
    "            progress_report_path=progress_report_path,\n",
    "            trial_paths_path=trial_paths_path,\n",
    "            debug=debug,\n",
    "            analyze_in_edit=analyze_in_edit,\n",
    "            seed=seed)\n",
    "            "
   ]
  },
  {
   "cell_type": "markdown",
   "metadata": {},
   "source": [
    "#### Run experiments varying layer number"
   ]
  },
  {
   "cell_type": "code",
   "execution_count": 46,
   "metadata": {
    "scrolled": true,
    "tags": []
   },
   "outputs": [
    {
     "name": "stdout",
     "output_type": "stream",
     "text": [
      "Varying layernum with following values: [1, 2, 3, 4, 5, 6, 7, 8, 9, 10, 11, 12]\n",
      "Experimenting with layernum of 1\n",
      "(0321_144302) Starting Trial 1/3...\n",
      "saved/edit_2_Spurious_MNIST/method_eac/debug/VGG_16-layernum/0321_142034/layernum_1/results/edit_idx_0\n",
      "torch.Size([1, 1, 32, 32])\n",
      "3 1\n"
     ]
    },
    {
     "data": {
      "image/png": "[encoded data removed]",
      "text/plain": [
       "<Figure size 250x750 with 3 Axes>"
      ]
     },
     "metadata": {},
     "output_type": "display_data"
    },
    {
     "name": "stdout",
     "output_type": "stream",
     "text": [
      "Seed: 0\n",
      "Editing layer 1\n",
      "Created ModelWrapperSanturkar model with 33646666 trainable parameters\n",
      "Restored weights from saved/train/2_Spurious_MNIST-VGG_16/0317_134644/models/model_best.pth\n",
      "Using passed in data loader for validation.\n",
      "Performing pre-edit metric calculations on validation set.\n"
     ]
    },
    {
     "name": "stderr",
     "output_type": "stream",
     "text": [
      "100%|███████████████████████████████████████████████████████████| 38/38 [00:01<00:00, 24.78it/s]\n"
     ]
    },
    {
     "name": "stdout",
     "output_type": "stream",
     "text": [
      "Pre-edit metrics: {'TP': array([448, 537, 520, 498, 452, 423, 437, 473, 454, 454]), 'TN': array([8326, 8375, 8215, 7553, 7786, 8244, 8367, 7920, 7888, 8022]), 'FPs': array([244,  40, 303, 987, 782, 414, 225, 602, 688, 519]), 'FNs': array([482, 548, 462, 462, 480, 419, 471, 505, 470, 505]), 'accuracy': 0.4943157894736842, 'per_class_accuracy': array([0.92357895, 0.93810526, 0.91947368, 0.84747368, 0.86715789,\n",
      "       0.91231579, 0.92673684, 0.88347368, 0.87810526, 0.89221053]), 'per_class_accuracy_mean': 0.8988631578947368, 'precision': array([0.64739884, 0.93067591, 0.63183475, 0.33535354, 0.36628849,\n",
      "       0.50537634, 0.66012085, 0.44      , 0.39754816, 0.46659815]), 'precision_mean': 0.53811950339605, 'recall': array([0.48172043, 0.49493088, 0.52953157, 0.51875   , 0.48497854,\n",
      "       0.5023753 , 0.48127753, 0.48364008, 0.49134199, 0.4734098 ]), 'recall_mean': 0.4941956119654501, 'predicted_class_distribution': array([ 692,  577,  823, 1485, 1234,  837,  662, 1075, 1142,  973]), 'f1': array([0.55240444, 0.64620939, 0.57617729, 0.40736196, 0.41735919,\n",
      "       0.50387135, 0.5566879 , 0.46078909, 0.43949661, 0.4699793 ]), 'f1_mean': 0.5030336508295632}\n",
      "Saved pre-edit metrics saved/edit_2_Spurious_MNIST/method_eac/debug/VGG_16-layernum/0321_142034/layernum_1/results/edit_idx_0/models/pre_edit_metrics.pth\n",
      "Saved pre-edit logits to saved/edit_2_Spurious_MNIST/method_eac/debug/VGG_16-layernum/0321_142034/layernum_1/results/edit_idx_0/models/pre_edit_logits.pth\n",
      "Created <class 'trainer.editor.EditorEAC'> editor.\n",
      "Using passed in covariance data loader.\n",
      "Looking for covariance matrix weights in cache/2_Spurious_MNIST_hold_out/vgg16_bn-1\n",
      "Found precomputed cov matrices, returning...\n"
     ]
    },
    {
     "name": "stderr",
     "output_type": "stream",
     "text": [
      "tensor(1.0251, device='cuda:0', grad_fn=<DivBackward0>): 100%|█| 40000/40000 [00:52<00:00, 760.1\n"
     ]
    },
    {
     "name": "stdout",
     "output_type": "stream",
     "text": [
      "Loss (orig, final): 0.43151694536209106 1.025132656097412\n",
      "L2 norm of weight change: 40.20195007324219\n",
      "Performing post-edit metric calculations on validation set.\n"
     ]
    },
    {
     "name": "stderr",
     "output_type": "stream",
     "text": [
      "100%|███████████████████████████████████████████████████████████| 38/38 [00:01<00:00, 24.74it/s]"
     ]
    },
    {
     "name": "stdout",
     "output_type": "stream",
     "text": [
      "Post-edit metrics: {'TP': array([448, 534, 611, 844, 453,  69, 116,  90, 134,  41]), 'TN': array([8366, 8397, 8112, 4626, 7874, 8606, 8510, 8462, 7867, 8520]), 'FPs': array([ 204,   18,  406, 3914,  694,   52,   82,   60,  709,   21]), 'FNs': array([482, 551, 371, 116, 479, 773, 792, 888, 790, 918]), 'accuracy': 0.35157894736842105, 'per_class_accuracy': array([0.92778947, 0.94010526, 0.91821053, 0.57578947, 0.87652632,\n",
      "       0.91315789, 0.908     , 0.90021053, 0.84221053, 0.90115789]), 'per_class_accuracy_mean': 0.8703157894736842, 'precision': array([0.68711656, 0.9673913 , 0.60078663, 0.17738546, 0.39494333,\n",
      "       0.57024793, 0.58585859, 0.6       , 0.15895611, 0.66129032]), 'precision_mean': 0.5403976234059058, 'recall': array([0.48172043, 0.4921659 , 0.62219959, 0.87916667, 0.4860515 ,\n",
      "       0.08194774, 0.1277533 , 0.09202454, 0.14502165, 0.04275287]), 'recall_mean': 0.34508041901076747, 'predicted_class_distribution': array([ 652,  552, 1017, 4758, 1147,  121,  198,  150,  843,   62]), 'f1': array([0.56637168, 0.65241295, 0.61130565, 0.29520811, 0.43578644,\n",
      "       0.14330218, 0.20976492, 0.15957447, 0.1516695 , 0.08031342]), 'f1_mean': 0.33057093172084745}\n",
      "Saved post-edit metrics saved/edit_2_Spurious_MNIST/method_eac/debug/VGG_16-layernum/0321_142034/layernum_1/results/edit_idx_0/models/post_edit_metrics.pth\n"
     ]
    },
    {
     "name": "stderr",
     "output_type": "stream",
     "text": [
      "\n"
     ]
    },
    {
     "name": "stdout",
     "output_type": "stream",
     "text": [
      "Saved post-edit logits to saved/edit_2_Spurious_MNIST/method_eac/debug/VGG_16-layernum/0321_142034/layernum_1/results/edit_idx_0/models/post_edit_logits.pth\n",
      "All metrics and KNN results can be found in saved/edit_2_Spurious_MNIST/method_eac/debug/VGG_16-layernum/0321_142034/layernum_1/results/edit_idx_0/models\n",
      "(0321_144400) Starting Trial 2/3...\n",
      "saved/edit_2_Spurious_MNIST/method_eac/debug/VGG_16-layernum/0321_142034/layernum_1/results/edit_idx_1\n",
      "torch.Size([2, 1, 32, 32])\n",
      "3 2\n"
     ]
    },
    {
     "data": {
      "image/png": "[encoded data removed]",
      "text/plain": [
       "<Figure size 500x750 with 6 Axes>"
      ]
     },
     "metadata": {},
     "output_type": "display_data"
    },
    {
     "name": "stdout",
     "output_type": "stream",
     "text": [
      "Seed: 0\n",
      "Editing layer 1\n",
      "Created ModelWrapperSanturkar model with 33646666 trainable parameters\n",
      "Restored weights from saved/train/2_Spurious_MNIST-VGG_16/0317_134644/models/model_best.pth\n",
      "Using passed in data loader for validation.\n",
      "Performing pre-edit metric calculations on validation set.\n"
     ]
    },
    {
     "name": "stderr",
     "output_type": "stream",
     "text": [
      "100%|███████████████████████████████████████████████████████████| 38/38 [00:01<00:00, 25.62it/s]\n"
     ]
    },
    {
     "name": "stdout",
     "output_type": "stream",
     "text": [
      "Pre-edit metrics: {'TP': array([448, 537, 520, 498, 452, 423, 437, 473, 454, 454]), 'TN': array([8326, 8375, 8215, 7553, 7786, 8244, 8367, 7920, 7888, 8022]), 'FPs': array([244,  40, 303, 987, 782, 414, 225, 602, 688, 519]), 'FNs': array([482, 548, 462, 462, 480, 419, 471, 505, 470, 505]), 'accuracy': 0.4943157894736842, 'per_class_accuracy': array([0.92357895, 0.93810526, 0.91947368, 0.84747368, 0.86715789,\n",
      "       0.91231579, 0.92673684, 0.88347368, 0.87810526, 0.89221053]), 'per_class_accuracy_mean': 0.8988631578947368, 'precision': array([0.64739884, 0.93067591, 0.63183475, 0.33535354, 0.36628849,\n",
      "       0.50537634, 0.66012085, 0.44      , 0.39754816, 0.46659815]), 'precision_mean': 0.53811950339605, 'recall': array([0.48172043, 0.49493088, 0.52953157, 0.51875   , 0.48497854,\n",
      "       0.5023753 , 0.48127753, 0.48364008, 0.49134199, 0.4734098 ]), 'recall_mean': 0.4941956119654501, 'predicted_class_distribution': array([ 692,  577,  823, 1485, 1234,  837,  662, 1075, 1142,  973]), 'f1': array([0.55240444, 0.64620939, 0.57617729, 0.40736196, 0.41735919,\n",
      "       0.50387135, 0.5566879 , 0.46078909, 0.43949661, 0.4699793 ]), 'f1_mean': 0.5030336508295632}\n",
      "Saved pre-edit metrics saved/edit_2_Spurious_MNIST/method_eac/debug/VGG_16-layernum/0321_142034/layernum_1/results/edit_idx_1/models/pre_edit_metrics.pth\n",
      "Saved pre-edit logits to saved/edit_2_Spurious_MNIST/method_eac/debug/VGG_16-layernum/0321_142034/layernum_1/results/edit_idx_1/models/pre_edit_logits.pth\n",
      "Created <class 'trainer.editor.EditorEAC'> editor.\n",
      "Using passed in covariance data loader.\n",
      "Looking for covariance matrix weights in cache/2_Spurious_MNIST_hold_out/vgg16_bn-1\n",
      "Found precomputed cov matrices, returning...\n"
     ]
    },
    {
     "name": "stderr",
     "output_type": "stream",
     "text": [
      "tensor(0.2893, device='cuda:0', grad_fn=<DivBackward0>): 100%|█| 40000/40000 [00:52<00:00, 758.4\n"
     ]
    },
    {
     "name": "stdout",
     "output_type": "stream",
     "text": [
      "Loss (orig, final): 0.3294457793235779 0.2893000543117523\n",
      "L2 norm of weight change: 40.736671447753906\n",
      "Performing post-edit metric calculations on validation set.\n"
     ]
    },
    {
     "name": "stderr",
     "output_type": "stream",
     "text": [
      "100%|███████████████████████████████████████████████████████████| 38/38 [00:01<00:00, 25.21it/s]"
     ]
    },
    {
     "name": "stdout",
     "output_type": "stream",
     "text": [
      "Post-edit metrics: {'TP': array([408, 464, 477, 496, 442, 416, 432, 468, 452, 448]), 'TN': array([8422, 8412, 8144, 6981, 8128, 8283, 8406, 8037, 7619, 8071]), 'FPs': array([ 148,    3,  374, 1559,  440,  375,  186,  485,  957,  470]), 'FNs': array([522, 621, 505, 464, 490, 426, 476, 510, 472, 511]), 'accuracy': 0.474, 'per_class_accuracy': array([0.92947368, 0.93431579, 0.90747368, 0.78705263, 0.90210526,\n",
      "       0.91568421, 0.93031579, 0.89526316, 0.84957895, 0.89673684]), 'per_class_accuracy_mean': 0.8947999999999998, 'precision': array([0.73381295, 0.99357602, 0.56051704, 0.24136253, 0.50113379,\n",
      "       0.52591656, 0.69902913, 0.4910808 , 0.32079489, 0.48801743]), 'precision_mean': 0.5555241127007339, 'recall': array([0.43870968, 0.42764977, 0.48574338, 0.51666667, 0.47424893,\n",
      "       0.49406176, 0.47577093, 0.47852761, 0.48917749, 0.46715328]), 'recall_mean': 0.4747709485606132, 'predicted_class_distribution': array([ 556,  467,  851, 2055,  882,  791,  618,  953, 1409,  918]), 'f1': array([0.54912517, 0.59793814, 0.52045827, 0.32902156, 0.48732084,\n",
      "       0.50949173, 0.56618611, 0.48472294, 0.38748393, 0.47735749]), 'f1_mean': 0.4909106168087917}\n"
     ]
    },
    {
     "name": "stderr",
     "output_type": "stream",
     "text": [
      "\n"
     ]
    },
    {
     "name": "stdout",
     "output_type": "stream",
     "text": [
      "Saved post-edit metrics saved/edit_2_Spurious_MNIST/method_eac/debug/VGG_16-layernum/0321_142034/layernum_1/results/edit_idx_1/models/post_edit_metrics.pth\n",
      "Saved post-edit logits to saved/edit_2_Spurious_MNIST/method_eac/debug/VGG_16-layernum/0321_142034/layernum_1/results/edit_idx_1/models/post_edit_logits.pth\n",
      "All metrics and KNN results can be found in saved/edit_2_Spurious_MNIST/method_eac/debug/VGG_16-layernum/0321_142034/layernum_1/results/edit_idx_1/models\n",
      "(0321_144458) Starting Trial 3/3...\n",
      "saved/edit_2_Spurious_MNIST/method_eac/debug/VGG_16-layernum/0321_142034/layernum_1/results/edit_idx_2\n",
      "torch.Size([3, 1, 32, 32])\n",
      "3 3\n"
     ]
    },
    {
     "data": {
      "image/png": "[encoded data removed]",
      "text/plain": [
       "<Figure size 750x750 with 9 Axes>"
      ]
     },
     "metadata": {},
     "output_type": "display_data"
    },
    {
     "name": "stdout",
     "output_type": "stream",
     "text": [
      "Seed: 0\n",
      "Editing layer 1\n",
      "Created ModelWrapperSanturkar model with 33646666 trainable parameters\n",
      "Restored weights from saved/train/2_Spurious_MNIST-VGG_16/0317_134644/models/model_best.pth\n",
      "Using passed in data loader for validation.\n",
      "Performing pre-edit metric calculations on validation set.\n"
     ]
    },
    {
     "name": "stderr",
     "output_type": "stream",
     "text": [
      "100%|███████████████████████████████████████████████████████████| 38/38 [00:01<00:00, 25.11it/s]"
     ]
    },
    {
     "name": "stdout",
     "output_type": "stream",
     "text": [
      "Pre-edit metrics: {'TP': array([448, 537, 520, 498, 452, 423, 437, 473, 454, 454]), 'TN': array([8326, 8375, 8215, 7553, 7786, 8244, 8367, 7920, 7888, 8022]), 'FPs': array([244,  40, 303, 987, 782, 414, 225, 602, 688, 519]), 'FNs': array([482, 548, 462, 462, 480, 419, 471, 505, 470, 505]), 'accuracy': 0.4943157894736842, 'per_class_accuracy': array([0.92357895, 0.93810526, 0.91947368, 0.84747368, 0.86715789,\n",
      "       0.91231579, 0.92673684, 0.88347368, 0.87810526, 0.89221053]), 'per_class_accuracy_mean': 0.8988631578947368, 'precision': array([0.64739884, 0.93067591, 0.63183475, 0.33535354, 0.36628849,\n",
      "       0.50537634, 0.66012085, 0.44      , 0.39754816, 0.46659815]), 'precision_mean': 0.53811950339605, 'recall': array([0.48172043, 0.49493088, 0.52953157, 0.51875   , 0.48497854,\n",
      "       0.5023753 , 0.48127753, 0.48364008, 0.49134199, 0.4734098 ]), 'recall_mean': 0.4941956119654501, 'predicted_class_distribution': array([ 692,  577,  823, 1485, 1234,  837,  662, 1075, 1142,  973]), 'f1': array([0.55240444, 0.64620939, 0.57617729, 0.40736196, 0.41735919,\n",
      "       0.50387135, 0.5566879 , 0.46078909, 0.43949661, 0.4699793 ]), 'f1_mean': 0.5030336508295632}\n",
      "Saved pre-edit metrics saved/edit_2_Spurious_MNIST/method_eac/debug/VGG_16-layernum/0321_142034/layernum_1/results/edit_idx_2/models/pre_edit_metrics.pth\n",
      "Saved pre-edit logits to saved/edit_2_Spurious_MNIST/method_eac/debug/VGG_16-layernum/0321_142034/layernum_1/results/edit_idx_2/models/pre_edit_logits.pth\n",
      "Created <class 'trainer.editor.EditorEAC'> editor.\n",
      "Using passed in covariance data loader.\n",
      "Looking for covariance matrix weights in cache/2_Spurious_MNIST_hold_out/vgg16_bn-1\n"
     ]
    },
    {
     "name": "stderr",
     "output_type": "stream",
     "text": [
      "\n"
     ]
    },
    {
     "name": "stdout",
     "output_type": "stream",
     "text": [
      "Found precomputed cov matrices, returning...\n"
     ]
    },
    {
     "name": "stderr",
     "output_type": "stream",
     "text": [
      "tensor(0.6366, device='cuda:0', grad_fn=<DivBackward0>):  94%|▉| 37499/40000 [00:49<00:03, 759.5\n"
     ]
    },
    {
     "ename": "KeyboardInterrupt",
     "evalue": "",
     "output_type": "error",
     "traceback": [
      "\u001b[0;31m---------------------------------------------------------------------------\u001b[0m",
      "\u001b[0;31mKeyboardInterrupt\u001b[0m                         Traceback (most recent call last)",
      "Cell \u001b[0;32mIn [46], line 5\u001b[0m\n\u001b[1;32m      2\u001b[0m iv_values \u001b[38;5;241m=\u001b[39m [i \u001b[38;5;28;01mfor\u001b[39;00m i \u001b[38;5;129;01min\u001b[39;00m \u001b[38;5;28mrange\u001b[39m(\u001b[38;5;241m1\u001b[39m, \u001b[38;5;241m13\u001b[39m)]\n\u001b[1;32m      3\u001b[0m \u001b[38;5;28mprint\u001b[39m(\u001b[38;5;124m\"\u001b[39m\u001b[38;5;124mVarying \u001b[39m\u001b[38;5;132;01m{}\u001b[39;00m\u001b[38;5;124m with following values: \u001b[39m\u001b[38;5;132;01m{}\u001b[39;00m\u001b[38;5;124m\"\u001b[39m\u001b[38;5;241m.\u001b[39mformat(iv_path, iv_values))\n\u001b[0;32m----> 5\u001b[0m \u001b[43mrun_experiments\u001b[49m\u001b[43m(\u001b[49m\n\u001b[1;32m      6\u001b[0m \u001b[43m    \u001b[49m\u001b[43miv_path\u001b[49m\u001b[38;5;241;43m=\u001b[39;49m\u001b[43miv_path\u001b[49m\u001b[43m,\u001b[49m\n\u001b[1;32m      7\u001b[0m \u001b[43m    \u001b[49m\u001b[43miv_values\u001b[49m\u001b[38;5;241;43m=\u001b[39;49m\u001b[43miv_values\u001b[49m\u001b[43m,\u001b[49m\n\u001b[1;32m      8\u001b[0m \u001b[43m    \u001b[49m\u001b[43medit_data_loader\u001b[49m\u001b[38;5;241;43m=\u001b[39;49m\u001b[43medit_data_loader\u001b[49m\u001b[43m,\u001b[49m\n\u001b[1;32m      9\u001b[0m \u001b[43m    \u001b[49m\u001b[43mprogress_report_path\u001b[49m\u001b[38;5;241;43m=\u001b[39;49m\u001b[43mprogress_report_path\u001b[49m\u001b[43m,\u001b[49m\n\u001b[1;32m     10\u001b[0m \u001b[43m    \u001b[49m\u001b[43mtrial_paths_path\u001b[49m\u001b[38;5;241;43m=\u001b[39;49m\u001b[43mtrial_paths_path\u001b[49m\u001b[43m,\u001b[49m\n\u001b[1;32m     11\u001b[0m \u001b[43m    \u001b[49m\u001b[43mtimestamp\u001b[49m\u001b[38;5;241;43m=\u001b[39;49m\u001b[43mtimestamp\u001b[49m\u001b[43m,\u001b[49m\n\u001b[1;32m     12\u001b[0m \u001b[43m    \u001b[49m\u001b[43mconfig_dict\u001b[49m\u001b[38;5;241;43m=\u001b[39;49m\u001b[43mconfig_dict\u001b[49m\u001b[43m,\u001b[49m\n\u001b[1;32m     13\u001b[0m \u001b[43m    \u001b[49m\u001b[43mcovariance_data_loader\u001b[49m\u001b[38;5;241;43m=\u001b[39;49m\u001b[43mcovariance_data_loader\u001b[49m\u001b[43m,\u001b[49m\n\u001b[1;32m     14\u001b[0m \u001b[43m    \u001b[49m\u001b[43mtest_data_loader\u001b[49m\u001b[38;5;241;43m=\u001b[39;49m\u001b[43mtest_data_loader\u001b[49m\u001b[43m,\u001b[49m\n\u001b[1;32m     15\u001b[0m \u001b[43m    \u001b[49m\u001b[43manalyze_in_edit\u001b[49m\u001b[38;5;241;43m=\u001b[39;49m\u001b[38;5;28;43;01mTrue\u001b[39;49;00m\u001b[43m,\u001b[49m\n\u001b[1;32m     16\u001b[0m \u001b[43m    \u001b[49m\u001b[43mdebug\u001b[49m\u001b[38;5;241;43m=\u001b[39;49m\u001b[38;5;28;43;01mTrue\u001b[39;49;00m\u001b[43m,\u001b[49m\n\u001b[1;32m     17\u001b[0m \u001b[43m    \u001b[49m\u001b[43mseed\u001b[49m\u001b[38;5;241;43m=\u001b[39;49m\u001b[38;5;241;43m0\u001b[39;49m\u001b[43m)\u001b[49m\n",
      "Cell \u001b[0;32mIn [45], line 84\u001b[0m, in \u001b[0;36mrun_experiments\u001b[0;34m(iv_path, iv_values, edit_data_loader, progress_report_path, trial_paths_path, timestamp, config_dict, test_data_loader, covariance_data_loader, analyze_in_edit, debug, seed)\u001b[0m\n\u001b[1;32m     75\u001b[0m run_id_prefix \u001b[38;5;241m=\u001b[39m os\u001b[38;5;241m.\u001b[39mpath\u001b[38;5;241m.\u001b[39mjoin(timestamp, \u001b[38;5;124m'\u001b[39m\u001b[38;5;132;01m{}\u001b[39;00m\u001b[38;5;124m_\u001b[39m\u001b[38;5;132;01m{}\u001b[39;00m\u001b[38;5;124m'\u001b[39m\u001b[38;5;241m.\u001b[39mformat(iv_path\u001b[38;5;241m.\u001b[39mreplace(\u001b[38;5;124m'\u001b[39m\u001b[38;5;124m/\u001b[39m\u001b[38;5;124m'\u001b[39m, \u001b[38;5;124m'\u001b[39m\u001b[38;5;124m_\u001b[39m\u001b[38;5;124m'\u001b[39m), iv_value))\n\u001b[1;32m     76\u001b[0m \u001b[38;5;66;03m# run_trials(\u001b[39;00m\n\u001b[1;32m     77\u001b[0m \u001b[38;5;66;03m#     EAC_edit_data=EAC_edit_data,\u001b[39;00m\n\u001b[1;32m     78\u001b[0m \u001b[38;5;66;03m#     progress_report_path=progress_report_path,\u001b[39;00m\n\u001b[0;32m   (...)\u001b[0m\n\u001b[1;32m     81\u001b[0m \u001b[38;5;66;03m#     run_id_prefix=run_id_prefix,\u001b[39;00m\n\u001b[1;32m     82\u001b[0m \u001b[38;5;66;03m#     debug=debug)\u001b[39;00m\n\u001b[0;32m---> 84\u001b[0m \u001b[43mrun_trials\u001b[49m\u001b[43m(\u001b[49m\n\u001b[1;32m     85\u001b[0m \u001b[43m    \u001b[49m\u001b[43medit_data_loader\u001b[49m\u001b[38;5;241;43m=\u001b[39;49m\u001b[43medit_data_loader\u001b[49m\u001b[43m,\u001b[49m\n\u001b[1;32m     86\u001b[0m \u001b[43m    \u001b[49m\u001b[43mtest_data_loader\u001b[49m\u001b[38;5;241;43m=\u001b[39;49m\u001b[43mtest_data_loader\u001b[49m\u001b[43m,\u001b[49m\n\u001b[1;32m     87\u001b[0m \u001b[43m    \u001b[49m\u001b[43mcovariance_data_loader\u001b[49m\u001b[38;5;241;43m=\u001b[39;49m\u001b[43mcovariance_data_loader\u001b[49m\u001b[43m,\u001b[49m\n\u001b[1;32m     88\u001b[0m \u001b[43m    \u001b[49m\u001b[43mconfig_dict\u001b[49m\u001b[38;5;241;43m=\u001b[39;49m\u001b[43mconfig_dict\u001b[49m\u001b[43m,\u001b[49m\n\u001b[1;32m     89\u001b[0m \u001b[43m    \u001b[49m\u001b[43mrun_id_prefix\u001b[49m\u001b[38;5;241;43m=\u001b[39;49m\u001b[43mrun_id_prefix\u001b[49m\u001b[43m,\u001b[49m\n\u001b[1;32m     90\u001b[0m \u001b[43m    \u001b[49m\u001b[43mprogress_report_path\u001b[49m\u001b[38;5;241;43m=\u001b[39;49m\u001b[43mprogress_report_path\u001b[49m\u001b[43m,\u001b[49m\n\u001b[1;32m     91\u001b[0m \u001b[43m    \u001b[49m\u001b[43mtrial_paths_path\u001b[49m\u001b[38;5;241;43m=\u001b[39;49m\u001b[43mtrial_paths_path\u001b[49m\u001b[43m,\u001b[49m\n\u001b[1;32m     92\u001b[0m \u001b[43m    \u001b[49m\u001b[43mdebug\u001b[49m\u001b[38;5;241;43m=\u001b[39;49m\u001b[43mdebug\u001b[49m\u001b[43m,\u001b[49m\n\u001b[1;32m     93\u001b[0m \u001b[43m    \u001b[49m\u001b[43manalyze_in_edit\u001b[49m\u001b[38;5;241;43m=\u001b[39;49m\u001b[43manalyze_in_edit\u001b[49m\u001b[43m,\u001b[49m\n\u001b[1;32m     94\u001b[0m \u001b[43m    \u001b[49m\u001b[43mseed\u001b[49m\u001b[38;5;241;43m=\u001b[39;49m\u001b[43mseed\u001b[49m\u001b[43m)\u001b[49m\n",
      "File \u001b[0;32m/n/fs/ac-editing/model-editing/edit_MNIST.py:389\u001b[0m, in \u001b[0;36mrun_trials\u001b[0;34m(edit_data_loader, progress_report_path, trial_paths_path, config_dict, run_id_prefix, test_data_loader, covariance_data_loader, analyze_in_edit, debug, seed)\u001b[0m\n\u001b[1;32m    385\u001b[0m     \u001b[38;5;28mprint\u001b[39m(\u001b[38;5;28mlen\u001b[39m(display_images), \u001b[38;5;28mlen\u001b[39m(display_images[\u001b[38;5;241m0\u001b[39m]))\n\u001b[1;32m    386\u001b[0m     show_image_rows(\n\u001b[1;32m    387\u001b[0m         images\u001b[38;5;241m=\u001b[39m[EAC_edit_data[\u001b[38;5;124m'\u001b[39m\u001b[38;5;124mmodified_imgs\u001b[39m\u001b[38;5;124m'\u001b[39m], EAC_edit_data[\u001b[38;5;124m'\u001b[39m\u001b[38;5;124mimgs\u001b[39m\u001b[38;5;124m'\u001b[39m], EAC_edit_data[\u001b[38;5;124m'\u001b[39m\u001b[38;5;124mmasks\u001b[39m\u001b[38;5;124m'\u001b[39m]\u001b[38;5;241m.\u001b[39mrepeat(\u001b[38;5;241m1\u001b[39m, \u001b[38;5;241m3\u001b[39m, \u001b[38;5;241m1\u001b[39m, \u001b[38;5;241m1\u001b[39m)\u001b[38;5;241m.\u001b[39mto(torch\u001b[38;5;241m.\u001b[39mfloat32)],\n\u001b[1;32m    388\u001b[0m         row_labels\u001b[38;5;241m=\u001b[39m[\u001b[38;5;124m'\u001b[39m\u001b[38;5;124mkey\u001b[39m\u001b[38;5;124m'\u001b[39m, \u001b[38;5;124m'\u001b[39m\u001b[38;5;124mvalue\u001b[39m\u001b[38;5;124m'\u001b[39m, \u001b[38;5;124m'\u001b[39m\u001b[38;5;124mmask\u001b[39m\u001b[38;5;124m'\u001b[39m])\n\u001b[0;32m--> 389\u001b[0m \u001b[43medit\u001b[49m\u001b[43m(\u001b[49m\n\u001b[1;32m    390\u001b[0m \u001b[43m    \u001b[49m\u001b[43mconfig\u001b[49m\u001b[38;5;241;43m=\u001b[39;49m\u001b[43mconfig\u001b[49m\u001b[43m,\u001b[49m\n\u001b[1;32m    391\u001b[0m \u001b[43m    \u001b[49m\u001b[43mtest_data_loader\u001b[49m\u001b[38;5;241;43m=\u001b[39;49m\u001b[43mtest_data_loader\u001b[49m\u001b[43m,\u001b[49m\n\u001b[1;32m    392\u001b[0m \u001b[43m    \u001b[49m\u001b[43mcovariance_data_loader\u001b[49m\u001b[38;5;241;43m=\u001b[39;49m\u001b[43mcovariance_data_loader\u001b[49m\u001b[43m,\u001b[49m\n\u001b[1;32m    393\u001b[0m \u001b[43m    \u001b[49m\u001b[43medit_data\u001b[49m\u001b[38;5;241;43m=\u001b[39;49m\u001b[43mEAC_edit_data\u001b[49m\u001b[43m,\u001b[49m\n\u001b[1;32m    394\u001b[0m \u001b[43m    \u001b[49m\u001b[43mdo_analyze_knn\u001b[49m\u001b[38;5;241;43m=\u001b[39;49m\u001b[43manalyze_in_edit\u001b[49m\u001b[43m,\u001b[49m\n\u001b[1;32m    395\u001b[0m \u001b[43m    \u001b[49m\u001b[43mseed\u001b[49m\u001b[38;5;241;43m=\u001b[39;49m\u001b[43mseed\u001b[49m\u001b[43m)\u001b[49m\n",
      "File \u001b[0;32m/n/fs/ac-editing/model-editing/edit_MNIST.py:255\u001b[0m, in \u001b[0;36medit\u001b[0;34m(config, edit_data, test_data_loader, covariance_data_loader, do_analyze_knn, seed)\u001b[0m\n\u001b[1;32m    253\u001b[0m     cache_dir \u001b[38;5;241m=\u001b[39m os\u001b[38;5;241m.\u001b[39mpath\u001b[38;5;241m.\u001b[39mjoin(\u001b[38;5;124m'\u001b[39m\u001b[38;5;124mcache\u001b[39m\u001b[38;5;124m'\u001b[39m, val_data_name, \u001b[38;5;124m\"\u001b[39m\u001b[38;5;132;01m{}\u001b[39;00m\u001b[38;5;124m-\u001b[39m\u001b[38;5;132;01m{}\u001b[39;00m\u001b[38;5;124m\"\u001b[39m\u001b[38;5;241m.\u001b[39mformat(model_arch, layernum))\n\u001b[1;32m    254\u001b[0m     logger\u001b[38;5;241m.\u001b[39minfo(\u001b[38;5;124m\"\u001b[39m\u001b[38;5;124mLooking for covariance matrix weights in \u001b[39m\u001b[38;5;132;01m{}\u001b[39;00m\u001b[38;5;124m\"\u001b[39m\u001b[38;5;241m.\u001b[39mformat(cache_dir))\n\u001b[0;32m--> 255\u001b[0m     \u001b[43meditor\u001b[49m\u001b[38;5;241;43m.\u001b[39;49m\u001b[43medit\u001b[49m\u001b[43m(\u001b[49m\n\u001b[1;32m    256\u001b[0m \u001b[43m        \u001b[49m\u001b[43medit_data\u001b[49m\u001b[38;5;241;43m=\u001b[39;49m\u001b[43medit_data\u001b[49m\u001b[43m,\u001b[49m\n\u001b[1;32m    257\u001b[0m \u001b[43m        \u001b[49m\u001b[43mmodel\u001b[49m\u001b[38;5;241;43m=\u001b[39;49m\u001b[43mmodel\u001b[49m\u001b[43m,\u001b[49m\n\u001b[1;32m    258\u001b[0m \u001b[43m        \u001b[49m\u001b[43mval_data_loader\u001b[49m\u001b[38;5;241;43m=\u001b[39;49m\u001b[43mcovariance_data_loader\u001b[49m\u001b[43m,\u001b[49m\n\u001b[1;32m    259\u001b[0m \u001b[43m        \u001b[49m\u001b[43mcache_dir\u001b[49m\u001b[38;5;241;43m=\u001b[39;49m\u001b[43mcache_dir\u001b[49m\u001b[43m)\u001b[49m\n\u001b[1;32m    260\u001b[0m \u001b[38;5;28;01melif\u001b[39;00m edit_method \u001b[38;5;241m==\u001b[39m \u001b[38;5;124m'\u001b[39m\u001b[38;5;124menn\u001b[39m\u001b[38;5;124m'\u001b[39m:\n\u001b[1;32m    261\u001b[0m     edit_results_save_path \u001b[38;5;241m=\u001b[39m os\u001b[38;5;241m.\u001b[39mpath\u001b[38;5;241m.\u001b[39mjoin(save_dir, \u001b[38;5;124m\"\u001b[39m\u001b[38;5;124medit_results.pth\u001b[39m\u001b[38;5;124m\"\u001b[39m)\n",
      "File \u001b[0;32m/n/fs/ac-editing/model-editing/src/trainer/editor.py:88\u001b[0m, in \u001b[0;36mEditorEAC.edit\u001b[0;34m(self, edit_data, model, val_data_loader, cache_dir)\u001b[0m\n\u001b[1;32m     84\u001b[0m         n_features \u001b[38;5;241m=\u001b[39m model\u001b[38;5;241m.\u001b[39mmodel[layernum \u001b[38;5;241m+\u001b[39m \u001b[38;5;241m1\u001b[39m]\u001b[38;5;241m.\u001b[39mfinal\u001b[38;5;241m.\u001b[39mconv2\u001b[38;5;241m.\u001b[39mmodule\u001b[38;5;241m.\u001b[39min_channels\n\u001b[1;32m     86\u001b[0m     key_method \u001b[38;5;241m=\u001b[39m n_features\n\u001b[0;32m---> 88\u001b[0m \u001b[38;5;28mself\u001b[39m\u001b[38;5;241m.\u001b[39mcontext_model \u001b[38;5;241m=\u001b[39m \u001b[43medit_classifier\u001b[49m\u001b[43m(\u001b[49m\n\u001b[1;32m     89\u001b[0m \u001b[43m    \u001b[49m\u001b[43margs\u001b[49m\u001b[38;5;241;43m=\u001b[39;49m\u001b[38;5;28;43mself\u001b[39;49m\u001b[38;5;241;43m.\u001b[39;49m\u001b[43medit_settings\u001b[49m\u001b[43m,\u001b[49m\n\u001b[1;32m     90\u001b[0m \u001b[43m    \u001b[49m\u001b[38;5;66;43;03m# layernum=layernum,\u001b[39;49;00m\n\u001b[1;32m     91\u001b[0m \u001b[43m    \u001b[49m\u001b[43mtrain_data\u001b[49m\u001b[38;5;241;43m=\u001b[39;49m\u001b[43medit_data\u001b[49m\u001b[43m,\u001b[49m\n\u001b[1;32m     92\u001b[0m \u001b[43m    \u001b[49m\u001b[43mcontext_model\u001b[49m\u001b[38;5;241;43m=\u001b[39;49m\u001b[43mcontext_model\u001b[49m\u001b[43m,\u001b[49m\n\u001b[1;32m     93\u001b[0m \u001b[43m    \u001b[49m\u001b[43mtarget_model\u001b[49m\u001b[38;5;241;43m=\u001b[39;49m\u001b[43mtarget_model\u001b[49m\u001b[43m,\u001b[49m\n\u001b[1;32m     94\u001b[0m \u001b[43m    \u001b[49m\u001b[43mval_loader\u001b[49m\u001b[38;5;241;43m=\u001b[39;49m\u001b[38;5;28;43mself\u001b[39;49m\u001b[38;5;241;43m.\u001b[39;49m\u001b[43mval_data_loader\u001b[49m\u001b[43m,\u001b[49m\n\u001b[1;32m     95\u001b[0m \u001b[43m    \u001b[49m\u001b[43mkey_method\u001b[49m\u001b[38;5;241;43m=\u001b[39;49m\u001b[43mkey_method\u001b[49m\u001b[43m,\u001b[49m\n\u001b[1;32m     96\u001b[0m \u001b[43m    \u001b[49m\u001b[43mcaching_dir\u001b[49m\u001b[38;5;241;43m=\u001b[39;49m\u001b[43mcache_dir\u001b[49m\u001b[43m)\u001b[49m\n\u001b[1;32m     98\u001b[0m edited_weights \u001b[38;5;241m=\u001b[39m get_target_weights(target_model)\u001b[38;5;241m.\u001b[39mclone()\n\u001b[1;32m     99\u001b[0m \u001b[38;5;28mself\u001b[39m\u001b[38;5;241m.\u001b[39mweight_diff \u001b[38;5;241m=\u001b[39m edited_weights \u001b[38;5;241m-\u001b[39m original_weights\n",
      "File \u001b[0;32m/n/fs/ac-editing/model-editing/external_code/EditingClassifiers/helpers/rewrite_helpers.py:146\u001b[0m, in \u001b[0;36medit_classifier\u001b[0;34m(args, train_data, context_model, target_model, val_loader, key_method, caching_dir)\u001b[0m\n\u001b[1;32m    140\u001b[0m     kstar \u001b[38;5;241m=\u001b[39m (kstar[\u001b[38;5;241m0\u001b[39m][Nims\u001b[38;5;241m/\u001b[39m\u001b[38;5;241m/\u001b[39m\u001b[38;5;241m2\u001b[39m:]\u001b[38;5;241m.\u001b[39mdetach()\u001b[38;5;241m.\u001b[39mclone(),\n\u001b[1;32m    141\u001b[0m              kstar[\u001b[38;5;241m1\u001b[39m][Nims\u001b[38;5;241m/\u001b[39m\u001b[38;5;241m/\u001b[39m\u001b[38;5;241m2\u001b[39m:]\u001b[38;5;241m.\u001b[39mdetach()\u001b[38;5;241m.\u001b[39mclone()) \u001b[38;5;28;01mif\u001b[39;00m \u001b[38;5;129;01mnot\u001b[39;00m args\u001b[38;5;241m.\u001b[39march\u001b[38;5;241m.\u001b[39mstartswith(\u001b[38;5;124m'\u001b[39m\u001b[38;5;124mvgg\u001b[39m\u001b[38;5;124m'\u001b[39m) \\\n\u001b[1;32m    142\u001b[0m             \u001b[38;5;28;01melse\u001b[39;00m kstar[Nims\u001b[38;5;241m/\u001b[39m\u001b[38;5;241m/\u001b[39m\u001b[38;5;241m2\u001b[39m:]\u001b[38;5;241m.\u001b[39mdetach()\u001b[38;5;241m.\u001b[39mclone()\n\u001b[1;32m    144\u001b[0m     mstar \u001b[38;5;241m=\u001b[39m ch\u001b[38;5;241m.\u001b[39mmax(cp_masks[:Nims\u001b[38;5;241m/\u001b[39m\u001b[38;5;241m/\u001b[39m\u001b[38;5;241m2\u001b[39m], dim\u001b[38;5;241m=\u001b[39m\u001b[38;5;241m1\u001b[39m, keepdims\u001b[38;5;241m=\u001b[39m\u001b[38;5;28;01mTrue\u001b[39;00m)[\u001b[38;5;241m0\u001b[39m]\n\u001b[0;32m--> 146\u001b[0m     \u001b[43medit_classifier_weights\u001b[49m\u001b[43m(\u001b[49m\u001b[43mtarget_model\u001b[49m\u001b[43m,\u001b[49m\u001b[43m \u001b[49m\u001b[43mkstar\u001b[49m\u001b[43m,\u001b[49m\u001b[43m \u001b[49m\u001b[43mvstar\u001b[49m\u001b[43m,\u001b[49m\n\u001b[1;32m    147\u001b[0m \u001b[43m                               \u001b[49m\u001b[43mcontext_k\u001b[49m\u001b[43m,\u001b[49m\u001b[43m \u001b[49m\u001b[43mniter\u001b[49m\u001b[38;5;241;43m=\u001b[39;49m\u001b[43margs\u001b[49m\u001b[38;5;241;43m.\u001b[39;49m\u001b[43mnsteps\u001b[49m\u001b[43m,\u001b[49m\n\u001b[1;32m    148\u001b[0m \u001b[43m                               \u001b[49m\u001b[43mpiter\u001b[49m\u001b[38;5;241;43m=\u001b[39;49m\u001b[43margs\u001b[49m\u001b[38;5;241;43m.\u001b[39;49m\u001b[43mnsteps_proj\u001b[49m\u001b[43m,\u001b[49m\u001b[43m \u001b[49m\u001b[43mlr\u001b[49m\u001b[38;5;241;43m=\u001b[39;49m\u001b[43margs\u001b[49m\u001b[38;5;241;43m.\u001b[39;49m\u001b[43mlr\u001b[49m\u001b[43m,\u001b[49m\n\u001b[1;32m    149\u001b[0m \u001b[43m                               \u001b[49m\u001b[43mlow_rank_insert\u001b[49m\u001b[38;5;241;43m=\u001b[39;49m\u001b[43margs\u001b[49m\u001b[38;5;241;43m.\u001b[39;49m\u001b[43mrestrict_rank\u001b[49m\u001b[43m,\u001b[49m\n\u001b[1;32m    150\u001b[0m \u001b[43m                               \u001b[49m\u001b[43mmask\u001b[49m\u001b[38;5;241;43m=\u001b[39;49m\u001b[43mmstar\u001b[49m\u001b[38;5;241;43m.\u001b[39;49m\u001b[43mcuda\u001b[49m\u001b[43m(\u001b[49m\u001b[43m)\u001b[49m\u001b[43m \u001b[49m\u001b[38;5;28;43;01mif\u001b[39;49;00m\u001b[43m \u001b[49m\u001b[43margs\u001b[49m\u001b[38;5;241;43m.\u001b[39;49m\u001b[43muse_mask\u001b[49m\u001b[43m \u001b[49m\u001b[38;5;28;43;01melse\u001b[39;49;00m\u001b[43m \u001b[49m\u001b[38;5;28;43;01mNone\u001b[39;49;00m\u001b[43m)\u001b[49m\n\u001b[1;32m    151\u001b[0m \u001b[38;5;28;01melse\u001b[39;00m:\n\u001b[1;32m    152\u001b[0m     \u001b[38;5;28;01mif\u001b[39;00m args\u001b[38;5;241m.\u001b[39march \u001b[38;5;241m==\u001b[39m \u001b[38;5;124m'\u001b[39m\u001b[38;5;124mresnet50\u001b[39m\u001b[38;5;124m'\u001b[39m:\n",
      "File \u001b[0;32m/n/fs/ac-editing/model-editing/external_code/EditingClassifiers/helpers/rewrite_helpers.py:92\u001b[0m, in \u001b[0;36medit_classifier_weights\u001b[0;34m(target_model, key, val, context, niter, piter, lr, low_rank_insert, low_rank_gradient, unfold, mask)\u001b[0m\n\u001b[1;32m     90\u001b[0m \u001b[38;5;28;01mif\u001b[39;00m low_rank_gradient:\n\u001b[1;32m     91\u001b[0m     weight\u001b[38;5;241m.\u001b[39mgrad[\u001b[38;5;241m.\u001b[39m\u001b[38;5;241m.\u001b[39m\u001b[38;5;241m.\u001b[39m] \u001b[38;5;241m=\u001b[39m projected_conv(weight\u001b[38;5;241m.\u001b[39mgrad, context, unfold\u001b[38;5;241m=\u001b[39munfold)\n\u001b[0;32m---> 92\u001b[0m \u001b[43moptimizer\u001b[49m\u001b[38;5;241;43m.\u001b[39;49m\u001b[43mstep\u001b[49m\u001b[43m(\u001b[49m\u001b[43m)\u001b[49m\n\u001b[1;32m     93\u001b[0m \u001b[38;5;28;01mif\u001b[39;00m update_callback \u001b[38;5;129;01mis\u001b[39;00m \u001b[38;5;129;01mnot\u001b[39;00m \u001b[38;5;28;01mNone\u001b[39;00m:\n\u001b[1;32m     94\u001b[0m     update_callback(it, loss, pbar\u001b[38;5;241m=\u001b[39mpbar)\n",
      "File \u001b[0;32m/n/fs/ac-project/anaconda3/envs/editing/lib/python3.8/site-packages/torch/optim/optimizer.py:140\u001b[0m, in \u001b[0;36mOptimizer._hook_for_profile.<locals>.profile_hook_step.<locals>.wrapper\u001b[0;34m(*args, **kwargs)\u001b[0m\n\u001b[1;32m    138\u001b[0m profile_name \u001b[38;5;241m=\u001b[39m \u001b[38;5;124m\"\u001b[39m\u001b[38;5;124mOptimizer.step#\u001b[39m\u001b[38;5;132;01m{}\u001b[39;00m\u001b[38;5;124m.step\u001b[39m\u001b[38;5;124m\"\u001b[39m\u001b[38;5;241m.\u001b[39mformat(obj\u001b[38;5;241m.\u001b[39m\u001b[38;5;18m__class__\u001b[39m\u001b[38;5;241m.\u001b[39m\u001b[38;5;18m__name__\u001b[39m)\n\u001b[1;32m    139\u001b[0m \u001b[38;5;28;01mwith\u001b[39;00m torch\u001b[38;5;241m.\u001b[39mautograd\u001b[38;5;241m.\u001b[39mprofiler\u001b[38;5;241m.\u001b[39mrecord_function(profile_name):\n\u001b[0;32m--> 140\u001b[0m     out \u001b[38;5;241m=\u001b[39m \u001b[43mfunc\u001b[49m\u001b[43m(\u001b[49m\u001b[38;5;241;43m*\u001b[39;49m\u001b[43margs\u001b[49m\u001b[43m,\u001b[49m\u001b[43m \u001b[49m\u001b[38;5;241;43m*\u001b[39;49m\u001b[38;5;241;43m*\u001b[39;49m\u001b[43mkwargs\u001b[49m\u001b[43m)\u001b[49m\n\u001b[1;32m    141\u001b[0m     obj\u001b[38;5;241m.\u001b[39m_optimizer_step_code()\n\u001b[1;32m    142\u001b[0m     \u001b[38;5;28;01mreturn\u001b[39;00m out\n",
      "File \u001b[0;32m/n/fs/ac-project/anaconda3/envs/editing/lib/python3.8/site-packages/torch/optim/optimizer.py:23\u001b[0m, in \u001b[0;36m_use_grad_for_differentiable.<locals>._use_grad\u001b[0;34m(self, *args, **kwargs)\u001b[0m\n\u001b[1;32m     21\u001b[0m \u001b[38;5;28;01mtry\u001b[39;00m:\n\u001b[1;32m     22\u001b[0m     torch\u001b[38;5;241m.\u001b[39mset_grad_enabled(\u001b[38;5;28mself\u001b[39m\u001b[38;5;241m.\u001b[39mdefaults[\u001b[38;5;124m'\u001b[39m\u001b[38;5;124mdifferentiable\u001b[39m\u001b[38;5;124m'\u001b[39m])\n\u001b[0;32m---> 23\u001b[0m     ret \u001b[38;5;241m=\u001b[39m \u001b[43mfunc\u001b[49m\u001b[43m(\u001b[49m\u001b[38;5;28;43mself\u001b[39;49m\u001b[43m,\u001b[49m\u001b[43m \u001b[49m\u001b[38;5;241;43m*\u001b[39;49m\u001b[43margs\u001b[49m\u001b[43m,\u001b[49m\u001b[43m \u001b[49m\u001b[38;5;241;43m*\u001b[39;49m\u001b[38;5;241;43m*\u001b[39;49m\u001b[43mkwargs\u001b[49m\u001b[43m)\u001b[49m\n\u001b[1;32m     24\u001b[0m \u001b[38;5;28;01mfinally\u001b[39;00m:\n\u001b[1;32m     25\u001b[0m     torch\u001b[38;5;241m.\u001b[39mset_grad_enabled(prev_grad)\n",
      "File \u001b[0;32m/n/fs/ac-project/anaconda3/envs/editing/lib/python3.8/site-packages/torch/optim/adam.py:234\u001b[0m, in \u001b[0;36mAdam.step\u001b[0;34m(self, closure, grad_scaler)\u001b[0m\n\u001b[1;32m    231\u001b[0m                 \u001b[38;5;28;01mraise\u001b[39;00m \u001b[38;5;167;01mRuntimeError\u001b[39;00m(\u001b[38;5;124m'\u001b[39m\u001b[38;5;124m`requires_grad` is not supported for `step` in differentiable mode\u001b[39m\u001b[38;5;124m'\u001b[39m)\n\u001b[1;32m    232\u001b[0m             state_steps\u001b[38;5;241m.\u001b[39mappend(state[\u001b[38;5;124m'\u001b[39m\u001b[38;5;124mstep\u001b[39m\u001b[38;5;124m'\u001b[39m])\n\u001b[0;32m--> 234\u001b[0m     \u001b[43madam\u001b[49m\u001b[43m(\u001b[49m\u001b[43mparams_with_grad\u001b[49m\u001b[43m,\u001b[49m\n\u001b[1;32m    235\u001b[0m \u001b[43m         \u001b[49m\u001b[43mgrads\u001b[49m\u001b[43m,\u001b[49m\n\u001b[1;32m    236\u001b[0m \u001b[43m         \u001b[49m\u001b[43mexp_avgs\u001b[49m\u001b[43m,\u001b[49m\n\u001b[1;32m    237\u001b[0m \u001b[43m         \u001b[49m\u001b[43mexp_avg_sqs\u001b[49m\u001b[43m,\u001b[49m\n\u001b[1;32m    238\u001b[0m \u001b[43m         \u001b[49m\u001b[43mmax_exp_avg_sqs\u001b[49m\u001b[43m,\u001b[49m\n\u001b[1;32m    239\u001b[0m \u001b[43m         \u001b[49m\u001b[43mstate_steps\u001b[49m\u001b[43m,\u001b[49m\n\u001b[1;32m    240\u001b[0m \u001b[43m         \u001b[49m\u001b[43mamsgrad\u001b[49m\u001b[38;5;241;43m=\u001b[39;49m\u001b[43mgroup\u001b[49m\u001b[43m[\u001b[49m\u001b[38;5;124;43m'\u001b[39;49m\u001b[38;5;124;43mamsgrad\u001b[39;49m\u001b[38;5;124;43m'\u001b[39;49m\u001b[43m]\u001b[49m\u001b[43m,\u001b[49m\n\u001b[1;32m    241\u001b[0m \u001b[43m         \u001b[49m\u001b[43mbeta1\u001b[49m\u001b[38;5;241;43m=\u001b[39;49m\u001b[43mbeta1\u001b[49m\u001b[43m,\u001b[49m\n\u001b[1;32m    242\u001b[0m \u001b[43m         \u001b[49m\u001b[43mbeta2\u001b[49m\u001b[38;5;241;43m=\u001b[39;49m\u001b[43mbeta2\u001b[49m\u001b[43m,\u001b[49m\n\u001b[1;32m    243\u001b[0m \u001b[43m         \u001b[49m\u001b[43mlr\u001b[49m\u001b[38;5;241;43m=\u001b[39;49m\u001b[43mgroup\u001b[49m\u001b[43m[\u001b[49m\u001b[38;5;124;43m'\u001b[39;49m\u001b[38;5;124;43mlr\u001b[39;49m\u001b[38;5;124;43m'\u001b[39;49m\u001b[43m]\u001b[49m\u001b[43m,\u001b[49m\n\u001b[1;32m    244\u001b[0m \u001b[43m         \u001b[49m\u001b[43mweight_decay\u001b[49m\u001b[38;5;241;43m=\u001b[39;49m\u001b[43mgroup\u001b[49m\u001b[43m[\u001b[49m\u001b[38;5;124;43m'\u001b[39;49m\u001b[38;5;124;43mweight_decay\u001b[39;49m\u001b[38;5;124;43m'\u001b[39;49m\u001b[43m]\u001b[49m\u001b[43m,\u001b[49m\n\u001b[1;32m    245\u001b[0m \u001b[43m         \u001b[49m\u001b[43meps\u001b[49m\u001b[38;5;241;43m=\u001b[39;49m\u001b[43mgroup\u001b[49m\u001b[43m[\u001b[49m\u001b[38;5;124;43m'\u001b[39;49m\u001b[38;5;124;43meps\u001b[39;49m\u001b[38;5;124;43m'\u001b[39;49m\u001b[43m]\u001b[49m\u001b[43m,\u001b[49m\n\u001b[1;32m    246\u001b[0m \u001b[43m         \u001b[49m\u001b[43mmaximize\u001b[49m\u001b[38;5;241;43m=\u001b[39;49m\u001b[43mgroup\u001b[49m\u001b[43m[\u001b[49m\u001b[38;5;124;43m'\u001b[39;49m\u001b[38;5;124;43mmaximize\u001b[39;49m\u001b[38;5;124;43m'\u001b[39;49m\u001b[43m]\u001b[49m\u001b[43m,\u001b[49m\n\u001b[1;32m    247\u001b[0m \u001b[43m         \u001b[49m\u001b[43mforeach\u001b[49m\u001b[38;5;241;43m=\u001b[39;49m\u001b[43mgroup\u001b[49m\u001b[43m[\u001b[49m\u001b[38;5;124;43m'\u001b[39;49m\u001b[38;5;124;43mforeach\u001b[39;49m\u001b[38;5;124;43m'\u001b[39;49m\u001b[43m]\u001b[49m\u001b[43m,\u001b[49m\n\u001b[1;32m    248\u001b[0m \u001b[43m         \u001b[49m\u001b[43mcapturable\u001b[49m\u001b[38;5;241;43m=\u001b[39;49m\u001b[43mgroup\u001b[49m\u001b[43m[\u001b[49m\u001b[38;5;124;43m'\u001b[39;49m\u001b[38;5;124;43mcapturable\u001b[39;49m\u001b[38;5;124;43m'\u001b[39;49m\u001b[43m]\u001b[49m\u001b[43m,\u001b[49m\n\u001b[1;32m    249\u001b[0m \u001b[43m         \u001b[49m\u001b[43mdifferentiable\u001b[49m\u001b[38;5;241;43m=\u001b[39;49m\u001b[43mgroup\u001b[49m\u001b[43m[\u001b[49m\u001b[38;5;124;43m'\u001b[39;49m\u001b[38;5;124;43mdifferentiable\u001b[39;49m\u001b[38;5;124;43m'\u001b[39;49m\u001b[43m]\u001b[49m\u001b[43m,\u001b[49m\n\u001b[1;32m    250\u001b[0m \u001b[43m         \u001b[49m\u001b[43mfused\u001b[49m\u001b[38;5;241;43m=\u001b[39;49m\u001b[43mgroup\u001b[49m\u001b[43m[\u001b[49m\u001b[38;5;124;43m'\u001b[39;49m\u001b[38;5;124;43mfused\u001b[39;49m\u001b[38;5;124;43m'\u001b[39;49m\u001b[43m]\u001b[49m\u001b[43m,\u001b[49m\n\u001b[1;32m    251\u001b[0m \u001b[43m         \u001b[49m\u001b[43mgrad_scale\u001b[49m\u001b[38;5;241;43m=\u001b[39;49m\u001b[43mgrad_scale\u001b[49m\u001b[43m,\u001b[49m\n\u001b[1;32m    252\u001b[0m \u001b[43m         \u001b[49m\u001b[43mfound_inf\u001b[49m\u001b[38;5;241;43m=\u001b[39;49m\u001b[43mfound_inf\u001b[49m\u001b[43m)\u001b[49m\n\u001b[1;32m    254\u001b[0m \u001b[38;5;28;01mreturn\u001b[39;00m loss\n",
      "File \u001b[0;32m/n/fs/ac-project/anaconda3/envs/editing/lib/python3.8/site-packages/torch/optim/adam.py:300\u001b[0m, in \u001b[0;36madam\u001b[0;34m(params, grads, exp_avgs, exp_avg_sqs, max_exp_avg_sqs, state_steps, foreach, capturable, differentiable, fused, grad_scale, found_inf, amsgrad, beta1, beta2, lr, weight_decay, eps, maximize)\u001b[0m\n\u001b[1;32m    297\u001b[0m \u001b[38;5;28;01melse\u001b[39;00m:\n\u001b[1;32m    298\u001b[0m     func \u001b[38;5;241m=\u001b[39m _single_tensor_adam\n\u001b[0;32m--> 300\u001b[0m \u001b[43mfunc\u001b[49m\u001b[43m(\u001b[49m\u001b[43mparams\u001b[49m\u001b[43m,\u001b[49m\n\u001b[1;32m    301\u001b[0m \u001b[43m     \u001b[49m\u001b[43mgrads\u001b[49m\u001b[43m,\u001b[49m\n\u001b[1;32m    302\u001b[0m \u001b[43m     \u001b[49m\u001b[43mexp_avgs\u001b[49m\u001b[43m,\u001b[49m\n\u001b[1;32m    303\u001b[0m \u001b[43m     \u001b[49m\u001b[43mexp_avg_sqs\u001b[49m\u001b[43m,\u001b[49m\n\u001b[1;32m    304\u001b[0m \u001b[43m     \u001b[49m\u001b[43mmax_exp_avg_sqs\u001b[49m\u001b[43m,\u001b[49m\n\u001b[1;32m    305\u001b[0m \u001b[43m     \u001b[49m\u001b[43mstate_steps\u001b[49m\u001b[43m,\u001b[49m\n\u001b[1;32m    306\u001b[0m \u001b[43m     \u001b[49m\u001b[43mamsgrad\u001b[49m\u001b[38;5;241;43m=\u001b[39;49m\u001b[43mamsgrad\u001b[49m\u001b[43m,\u001b[49m\n\u001b[1;32m    307\u001b[0m \u001b[43m     \u001b[49m\u001b[43mbeta1\u001b[49m\u001b[38;5;241;43m=\u001b[39;49m\u001b[43mbeta1\u001b[49m\u001b[43m,\u001b[49m\n\u001b[1;32m    308\u001b[0m \u001b[43m     \u001b[49m\u001b[43mbeta2\u001b[49m\u001b[38;5;241;43m=\u001b[39;49m\u001b[43mbeta2\u001b[49m\u001b[43m,\u001b[49m\n\u001b[1;32m    309\u001b[0m \u001b[43m     \u001b[49m\u001b[43mlr\u001b[49m\u001b[38;5;241;43m=\u001b[39;49m\u001b[43mlr\u001b[49m\u001b[43m,\u001b[49m\n\u001b[1;32m    310\u001b[0m \u001b[43m     \u001b[49m\u001b[43mweight_decay\u001b[49m\u001b[38;5;241;43m=\u001b[39;49m\u001b[43mweight_decay\u001b[49m\u001b[43m,\u001b[49m\n\u001b[1;32m    311\u001b[0m \u001b[43m     \u001b[49m\u001b[43meps\u001b[49m\u001b[38;5;241;43m=\u001b[39;49m\u001b[43meps\u001b[49m\u001b[43m,\u001b[49m\n\u001b[1;32m    312\u001b[0m \u001b[43m     \u001b[49m\u001b[43mmaximize\u001b[49m\u001b[38;5;241;43m=\u001b[39;49m\u001b[43mmaximize\u001b[49m\u001b[43m,\u001b[49m\n\u001b[1;32m    313\u001b[0m \u001b[43m     \u001b[49m\u001b[43mcapturable\u001b[49m\u001b[38;5;241;43m=\u001b[39;49m\u001b[43mcapturable\u001b[49m\u001b[43m,\u001b[49m\n\u001b[1;32m    314\u001b[0m \u001b[43m     \u001b[49m\u001b[43mdifferentiable\u001b[49m\u001b[38;5;241;43m=\u001b[39;49m\u001b[43mdifferentiable\u001b[49m\u001b[43m,\u001b[49m\n\u001b[1;32m    315\u001b[0m \u001b[43m     \u001b[49m\u001b[43mgrad_scale\u001b[49m\u001b[38;5;241;43m=\u001b[39;49m\u001b[43mgrad_scale\u001b[49m\u001b[43m,\u001b[49m\n\u001b[1;32m    316\u001b[0m \u001b[43m     \u001b[49m\u001b[43mfound_inf\u001b[49m\u001b[38;5;241;43m=\u001b[39;49m\u001b[43mfound_inf\u001b[49m\u001b[43m)\u001b[49m\n",
      "File \u001b[0;32m/n/fs/ac-project/anaconda3/envs/editing/lib/python3.8/site-packages/torch/optim/adam.py:351\u001b[0m, in \u001b[0;36m_single_tensor_adam\u001b[0;34m(params, grads, exp_avgs, exp_avg_sqs, max_exp_avg_sqs, state_steps, grad_scale, found_inf, amsgrad, beta1, beta2, lr, weight_decay, eps, maximize, capturable, differentiable)\u001b[0m\n\u001b[1;32m    348\u001b[0m     \u001b[38;5;28;01massert\u001b[39;00m param\u001b[38;5;241m.\u001b[39mis_cuda \u001b[38;5;129;01mand\u001b[39;00m step_t\u001b[38;5;241m.\u001b[39mis_cuda, \u001b[38;5;124m\"\u001b[39m\u001b[38;5;124mIf capturable=True, params and state_steps must be CUDA tensors.\u001b[39m\u001b[38;5;124m\"\u001b[39m\n\u001b[1;32m    350\u001b[0m \u001b[38;5;66;03m# update step\u001b[39;00m\n\u001b[0;32m--> 351\u001b[0m step_t \u001b[38;5;241m+\u001b[39m\u001b[38;5;241m=\u001b[39m \u001b[38;5;241m1\u001b[39m\n\u001b[1;32m    353\u001b[0m \u001b[38;5;28;01mif\u001b[39;00m weight_decay \u001b[38;5;241m!=\u001b[39m \u001b[38;5;241m0\u001b[39m:\n\u001b[1;32m    354\u001b[0m     grad \u001b[38;5;241m=\u001b[39m grad\u001b[38;5;241m.\u001b[39madd(param, alpha\u001b[38;5;241m=\u001b[39mweight_decay)\n",
      "\u001b[0;31mKeyboardInterrupt\u001b[0m: "
     ]
    }
   ],
   "source": [
    "iv_path = 'layernum'\n",
    "iv_values = [i for i in range(1, 13)]\n",
    "print(\"Varying {} with following values: {}\".format(iv_path, iv_values))\n",
    "\n",
    "run_experiments(\n",
    "    iv_path=iv_path,\n",
    "    iv_values=iv_values,\n",
    "    edit_data_loader=edit_data_loader,\n",
    "    progress_report_path=progress_report_path,\n",
    "    trial_paths_path=trial_paths_path,\n",
    "    timestamp=timestamp,\n",
    "    config_dict=config_dict,\n",
    "    covariance_data_loader=covariance_data_loader,\n",
    "    test_data_loader=test_data_loader,\n",
    "    analyze_in_edit=True,\n",
    "    debug=True,\n",
    "    seed=0)"
   ]
  },
  {
   "cell_type": "code",
   "execution_count": null,
   "metadata": {},
   "outputs": [],
   "source": []
  }
 ],
 "metadata": {
  "kernelspec": {
   "display_name": "editing",
   "language": "python",
   "name": "editing"
  },
  "language_info": {
   "codemirror_mode": {
    "name": "ipython",
    "version": 3
   },
   "file_extension": ".py",
   "mimetype": "text/x-python",
   "name": "python",
   "nbconvert_exporter": "python",
   "pygments_lexer": "ipython3",
   "version": "3.8.13"
  }
 },
 "nbformat": 4,
 "nbformat_minor": 4
}
