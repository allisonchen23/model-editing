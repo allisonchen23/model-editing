{
 "cells": [
  {
   "cell_type": "markdown",
   "metadata": {},
   "source": [
    "## Provide list of paths for edits and run trials -> (maybe analyze results and add to CSV)"
   ]
  },
  {
   "cell_type": "code",
   "execution_count": 7,
   "metadata": {},
   "outputs": [],
   "source": [
    "# General imports\n",
    "import torch\n",
    "import numpy as np\n",
    "import os, sys\n",
    "import json\n",
    "from tqdm import tqdm\n",
    "from datetime import datetime\n",
    "import pandas as pd"
   ]
  },
  {
   "cell_type": "code",
   "execution_count": 2,
   "metadata": {},
   "outputs": [],
   "source": [
    "# Local imports\n",
    "sys.path.insert(0, 'src')\n",
    "from utils import read_json, read_lists, informal_log, list_to_dict\n",
    "from utils.model_utils import prepare_device\n",
    "from parse_config import ConfigParser\n",
    "# from data_loader import data_loaders\n",
    "import datasets.datasets as module_data\n",
    "import model.model as module_arch\n",
    "from utils.knn_utils import analyze_knn, combine_results\n",
    "\n",
    "from edit_knn import main as edit"
   ]
  },
  {
   "cell_type": "code",
   "execution_count": 17,
   "metadata": {},
   "outputs": [],
   "source": [
    "# Obtain timestamp\n",
    "timestamp = datetime.now().strftime(r'%m%d_%H%M%S')"
   ]
  },
  {
   "cell_type": "code",
   "execution_count": 3,
   "metadata": {},
   "outputs": [],
   "source": [
    "# Define constants, paths\n",
    "config_path = 'configs/copies/cinic10_imagenet_segmentation_edit_trials.json'\n",
    "class_list_path = 'metadata/cinic-10/class_names.txt'\n",
    "key_image_id = 'dog-train-n02114712_211'\n",
    "paths_dir = os.path.join('paths', 'edits', key_image_id)\n",
    "\n",
    "value_image_paths = [\n",
    "    os.path.join(paths_dir, 'felzenszwalb_gaussian_0.txt'),\n",
    "    os.path.join(paths_dir, 'felzenszwalb_masked_0.txt'),\n",
    "    os.path.join(paths_dir, 'felzenszwalb_masked_1.txt'),\n",
    "    os.path.join(paths_dir, 'quickshift_masked_0.txt'),\n",
    "    os.path.join(paths_dir, 'slic_masked_0.txt'),\n",
    "    os.path.join(paths_dir, 'watershed_masked_1.txt')\n",
    "]\n",
    "n_trials = len(value_image_paths)\n",
    "\n",
    "key_image_paths = [os.path.join(paths_dir, 'incorrect_image.txt') for i in range(n_trials)]"
   ]
  },
  {
   "cell_type": "code",
   "execution_count": 4,
   "metadata": {},
   "outputs": [],
   "source": [
    "# Load config file\n",
    "config_dict = read_json(config_path)\n",
    "# Load class list and obtain target class idx\n",
    "class_list = read_lists(class_list_path)\n",
    "class_idx_dict = list_to_dict(class_list)\n",
    "target_class_name = key_image_id.split('-')[0]\n",
    "target_class_idx = class_idx_dict[target_class_name]\n",
    "# Set K\n",
    "K = config_dict['editor']['K']\n",
    "\n",
    "# Obtain target class\n",
    "\n",
    "# config = ConfigParser(config_dict)\n",
    "\n",
    "device, device_ids = prepare_device(config_dict['n_gpu'])"
   ]
  },
  {
   "cell_type": "code",
   "execution_count": 37,
   "metadata": {},
   "outputs": [],
   "source": [
    "# Load datasets\n",
    "data_loader_args = dict(config_dict[\"data_loader\"][\"args\"])\n",
    "dataset_args = dict(config_dict[\"dataset_args\"])\n",
    "\n",
    "# Create validation data loader\n",
    "val_image_paths = read_lists(config_dict['dataset_paths']['valid_images'])\n",
    "val_labels = read_lists(config_dict['dataset_paths']['valid_labels'])\n",
    "val_paths_data_loader = torch.utils.data.DataLoader(\n",
    "    module_data.CINIC10Dataset(\n",
    "        data_dir=\"\",\n",
    "        image_paths=val_image_paths,\n",
    "        labels=val_labels,\n",
    "        return_paths=True,\n",
    "        **dataset_args\n",
    "    ),\n",
    "    **data_loader_args\n",
    ")\n",
    "\n",
    "# Create data loader for covariance matrix\n",
    "covariance_image_paths = read_lists(config_dict['covariance_dataset']['images'])\n",
    "covariance_labels = read_lists(config_dict['covariance_dataset']['labels'])\n",
    "\n",
    "covariance_data_loader = torch.utils.data.DataLoader(\n",
    "    module_data.CINIC10Dataset(\n",
    "        data_dir=\"\",\n",
    "        image_paths=covariance_image_paths,\n",
    "        labels=covariance_labels,\n",
    "        **dataset_args\n",
    "    ),\n",
    "    **data_loader_args\n",
    ")"
   ]
  },
  {
   "cell_type": "markdown",
   "metadata": {},
   "source": [
    "### Create log and save paths"
   ]
  },
  {
   "cell_type": "code",
   "execution_count": 51,
   "metadata": {},
   "outputs": [
    {
     "name": "stdout",
     "output_type": "stream",
     "text": [
      "Saving path to directories for each trial to saved/edit/trials/CINIC10_ImageNet-VGG_16/0110_125216/trial_paths.txt\n",
      "Printing progress reports to saved/edit/trials/CINIC10_ImageNet-VGG_16/0110_125216/progress_report.txt\n"
     ]
    }
   ],
   "source": [
    "# create log path to store the paths to each trial\n",
    "save_root = config_dict['trainer']['save_dir']\n",
    "save_trials_path = os.path.join(save_root, config_dict['name'], timestamp, 'trial_paths.txt')\n",
    "if os.path.exists(save_trials_path):\n",
    "    # os.remove(save_trials_path)\n",
    "    print(\"Path {} already exists. Aborting.\".format(save_trials_path))\n",
    "else:\n",
    "    progress_report_path = os.path.join(save_root, config_dict['name'], timestamp, 'progress_report.txt')\n",
    "    if os.path.exists(progress_report_path):\n",
    "        os.remove(progress_report_path)\n",
    "    print(\"Saving path to directories for each trial to {}\".format(save_trials_path))\n",
    "    print(\"Printing progress reports to {}\".format(progress_report_path))"
   ]
  },
  {
   "cell_type": "markdown",
   "metadata": {},
   "source": [
    "### Ensure all paths for keys and values exist"
   ]
  },
  {
   "cell_type": "code",
   "execution_count": 52,
   "metadata": {},
   "outputs": [],
   "source": [
    "non_existent_key_paths = []\n",
    "non_existent_value_paths = []\n",
    "for key_path, value_path in zip(key_image_paths, value_image_paths):\n",
    "    if not os.path.exists(key_path):\n",
    "        non_existent_key_paths.append(key_path)\n",
    "    if not os.path.exists(value_path):\n",
    "        non_existent_value_paths.append(value_path)\n",
    "\n",
    "if len(non_existent_key_paths) > 0:\n",
    "    raise ValueError(\"Following paths are non existent: {}\".format(non_existent_key_paths))\n",
    "    \n",
    "if len(non_existent_value_paths) > 0:\n",
    "    raise ValueError(\"Following paths are non existent: {}\".format(non_existent_value_paths))"
   ]
  },
  {
   "cell_type": "markdown",
   "metadata": {},
   "source": [
    "## Run edit for each modified image"
   ]
  },
  {
   "cell_type": "code",
   "execution_count": 53,
   "metadata": {},
   "outputs": [
    {
     "name": "stdout",
     "output_type": "stream",
     "text": [
      "Starting Trial 1/1...\n",
      "Current run_id: 0110_125216/dog-train-n02114712_211/watershed_masked_1\n",
      "saved/edit/trials/CINIC10_ImageNet-VGG_16/0110_125216/dog-train-n02114712_211/watershed_masked_1\n",
      "Calling edit()...\n",
      "Created CIFAR10PretrainedModelEdit model with 33646666 trainable parameters\n",
      "Restored weights from external_code/PyTorch_CIFAR10/cifar10_models/state_dicts/vgg16_bn.pt\n",
      "Using passed in data loader for validation.\n",
      "Key images: ['data/cinic-10-imagenet/train/dog/n02114712_211.png']\n",
      "Value images: ['saved/segmentations/dog-train-n02114712_211/modified_images/watershed_masked_1.png']\n",
      "Masks: None\n",
      "Prepared data for editing\n",
      "Performing pre-edit metric & KNN calculations on validation set.\n"
     ]
    },
    {
     "name": "stderr",
     "output_type": "stream",
     "text": [
      "100%|██████████████████████████████████████████| 274/274 [02:17<00:00,  2.00it/s]\n"
     ]
    },
    {
     "name": "stdout",
     "output_type": "stream",
     "text": [
      "Pre-edit metrics: {'TP': array([6142, 5382, 5203, 3842, 4270, 2990, 5659, 5136, 4820, 4679]), 'TN': array([60115, 61110, 59441, 59902, 60157, 61756, 61050, 61747, 61643,\n",
      "       61202]), 'FPs': array([2885, 1890, 3559, 3098, 2843, 1244, 1950, 1253, 1357, 1798]), 'FNs': array([ 858, 1618, 1797, 3158, 2730, 4010, 1341, 1864, 2180, 2321]), 'accuracy': 0.6874714285714286, 'per_class_accuracy': array([0.94652857, 0.94988571, 0.92348571, 0.91062857, 0.92038571,\n",
      "       0.92494286, 0.95298571, 0.95547143, 0.94947143, 0.94115714]), 'per_class_accuracy_mean': 0.9374942857142857, 'precision': array([0.68040323, 0.74009901, 0.5938142 , 0.55360231, 0.60030929,\n",
      "       0.706188  , 0.74372454, 0.80388167, 0.78031407, 0.72240235]), 'precision_mean': 0.6924738665961387, 'recall': array([0.87742857, 0.76885714, 0.74328571, 0.54885714, 0.61      ,\n",
      "       0.42714286, 0.80842857, 0.73371429, 0.68857143, 0.66842857]), 'recall_mean': 0.6874714285714286, 'f1': array([0.7664566 , 0.75420404, 0.66019541, 0.55121951, 0.60511585,\n",
      "       0.53231262, 0.77472791, 0.76719695, 0.73157775, 0.69436818]), 'f1_mean': 0.6837374824369241}\n",
      "Saved pre-edit metrics to saved/edit/trials/CINIC10_ImageNet-VGG_16/0110_125216/dog-train-n02114712_211/watershed_masked_1/models/pre_edit_metrics.pth\n",
      "Saved pre-edit KNN results with K=100 to saved/edit/trials/CINIC10_ImageNet-VGG_16/0110_125216/dog-train-n02114712_211/watershed_masked_1/models/pre_edit_100-nn.pth\n",
      "Using passed in covariance data loader.\n",
      "Looking for covariance matrix weights in cache/cinic-10-imagenet-dummy/vgg16_bn-12\n",
      "Found precomputed cov matrices, returning...\n"
     ]
    },
    {
     "name": "stderr",
     "output_type": "stream",
     "text": [
      "tensor(0.0054, device='cuda:0', grad_fn=<DivBackward0>): 100%|█| 40000/40000 [00:\n"
     ]
    },
    {
     "name": "stdout",
     "output_type": "stream",
     "text": [
      "Loss (orig, final): 0.07313124090433121 0.005388882476836443\n",
      "L2 norm of weight change: 0.25711220502853394\n",
      "Evaluating edited model on test set...\n",
      "Performing post-edit metric & KNN calculations on validation set.\n"
     ]
    },
    {
     "name": "stderr",
     "output_type": "stream",
     "text": [
      "100%|██████████████████████████████████████████| 274/274 [02:08<00:00,  2.14it/s]\n"
     ]
    },
    {
     "name": "stdout",
     "output_type": "stream",
     "text": [
      "Post-edit metrics: {'TP': array([6093, 5316, 5118, 4275, 4212, 3289, 5077, 5170, 4922, 4638]), 'TN': array([60331, 61259, 59770, 58679, 60186, 61103, 62168, 61684, 61529,\n",
      "       61401]), 'FPs': array([2669, 1741, 3230, 4321, 2814, 1897,  832, 1316, 1471, 1599]), 'FNs': array([ 907, 1684, 1882, 2725, 2788, 3711, 1923, 1830, 2078, 2362]), 'accuracy': 0.6872857142857143, 'per_class_accuracy': array([0.94891429, 0.95107143, 0.92697143, 0.89934286, 0.91997143,\n",
      "       0.91988571, 0.96064286, 0.95505714, 0.9493    , 0.94341429]), 'per_class_accuracy_mean': 0.9374571428571429, 'precision': array([0.69538918, 0.7532946 , 0.61308098, 0.49732434, 0.59948762,\n",
      "       0.63420748, 0.85919783, 0.79710145, 0.76990458, 0.74362674]), 'precision_mean': 0.696261480499339, 'recall': array([0.87042857, 0.75942857, 0.73114286, 0.61071429, 0.60171429,\n",
      "       0.46985714, 0.72528571, 0.73857143, 0.70314286, 0.66257143]), 'recall_mean': 0.6872857142857143, 'f1': array([0.77312524, 0.75634915, 0.66692729, 0.54821749, 0.60059889,\n",
      "       0.53979977, 0.786583  , 0.76672104, 0.73501083, 0.70076301]), 'f1_mean': 0.6874095711888893}\n",
      "Saved post-edit metrics to saved/edit/trials/CINIC10_ImageNet-VGG_16/0110_125216/dog-train-n02114712_211/watershed_masked_1/models/post_edit_metrics.pth\n",
      "Saving post-edit KNN results with K=100 to saved/edit/trials/CINIC10_ImageNet-VGG_16/0110_125216/dog-train-n02114712_211/watershed_masked_1/models/post_edit_100-nn.pth\n",
      "All metrics and KNN results can be found in saved/edit/trials/CINIC10_ImageNet-VGG_16/0110_125216/dog-train-n02114712_211/watershed_masked_1/models\n",
      "Finished trial 1/1. Results saved to saved/edit/trials/CINIC10_ImageNet-VGG_16/0110_125216/dog-train-n02114712_211/watershed_masked_1\n"
     ]
    }
   ],
   "source": [
    "for idx, (key_path, value_path) in enumerate(zip(key_image_paths, value_image_paths)):\n",
    "    # Print Progress\n",
    "    informal_log(\"Starting Trial {}/{}...\".format(idx + 1, n_trials), progress_report_path)\n",
    "    \n",
    "    # Create run id \n",
    "    value_image_id = os.path.splitext(os.path.basename(value_path))[0]\n",
    "    run_id = os.path.join(timestamp, key_image_id, value_image_id)\n",
    "    informal_log(\"Current run_id: {}\".format(run_id), progress_report_path)\n",
    "    \n",
    "    # Read config file as json and make updates to key and value paths\n",
    "    config_dict = read_json(config_path)\n",
    "    config_dict['editor'].update({\n",
    "        'key_paths_file': key_path,\n",
    "        'value_paths_file': value_path\n",
    "    })\n",
    "    \n",
    "    # Create config object\n",
    "    config = ConfigParser(config_dict, run_id=run_id)\n",
    "    \n",
    "    # Log the current trial path\n",
    "    informal_log(os.path.dirname(config.save_dir), save_trials_path)\n",
    "    \n",
    "    informal_log(\"Calling edit()...\", progress_report_path)\n",
    "    \n",
    "    edit(\n",
    "        config=config,\n",
    "        val_paths_data_loader=val_paths_data_loader,\n",
    "        covariance_data_loader=covariance_data_loader)\n",
    "    \n",
    "    # Print progress\n",
    "    informal_log(\"Finished trial {}/{}. Results saved to {}\".format(idx + 1, n_trials, os.path.dirname(config.save_dir)),\n",
    "                progress_report_path)\n"
   ]
  },
  {
   "cell_type": "markdown",
   "metadata": {},
   "source": [
    "## Analyze KNN"
   ]
  },
  {
   "cell_type": "code",
   "execution_count": 5,
   "metadata": {},
   "outputs": [],
   "source": [
    "save_trials_path = 'saved/edit/trials/CINIC10_ImageNet-VGG_16/0110_120730/trial_paths.txt'\n",
    "trial_dirs = read_lists(save_trials_path)\n",
    "knn_analysis_filename = 'knn_analysis_results.pth'"
   ]
  },
  {
   "cell_type": "code",
   "execution_count": 6,
   "metadata": {},
   "outputs": [
    {
     "name": "stdout",
     "output_type": "stream",
     "text": [
      "Obtaining trial paths from saved/edit/trials/CINIC10_ImageNet-VGG_16/0110_120730/trial_paths.txt\n"
     ]
    }
   ],
   "source": [
    "try:\n",
    "    if not os.path.exists(save_trials_path):\n",
    "        print(\"Path {} does not exist\".format(save_trials_path))\n",
    "    else:\n",
    "        print(\"Obtaining trial paths from {}\".format(save_trials_path))\n",
    "except:\n",
    "    print(\"Need to define save_trials_path.\")\n",
    "\n"
   ]
  },
  {
   "cell_type": "code",
   "execution_count": null,
   "metadata": {},
   "outputs": [],
   "source": [
    "## Process KNN results for each\n",
    "n_trials = len(trial_dirs)\n",
    "n_log = n_trials // 10 + 1  # log every 10%\n",
    "progress_report_path = os.path.join(os.path.dirname(save_trials_path), 'progress_report_analysis.txt')\n",
    "\n",
    "informal_log(\"Starting KNN analysis...\", progress_report_path)\n",
    "for trial_idx, trial_dir in tqdm(enumerate(trial_dirs)):\n",
    "    # if trial_idx % n_log == 0:\n",
    "    informal_log(\"Processing {}/{} trials. Currently processing {}\".format(\n",
    "        trial_idx+1, n_trials, os.path.basename(trial_dir)), progress_report_path)\n",
    "                     \n",
    "    results_save_dir = os.path.join(trial_dir, 'models')\n",
    "    analyze_knn(\n",
    "        restore_dir=results_save_dir,\n",
    "        pre_edit_knn_path=os.path.join(results_save_dir, 'pre_edit_{}-nn.pth'.format(K)),\n",
    "        post_edit_knn_path=os.path.join(results_save_dir, 'post_edit_{}-nn.pth'.format(K)),\n",
    "        knn_analysis_filename=knn_analysis_filename,\n",
    "        target_class_idx=target_class_idx,\n",
    "        class_list=class_list,\n",
    "        progress_report_path=progress_report_path,\n",
    "        save_images=False,\n",
    "        save_plots=True)\n",
    "    \n"
   ]
  },
  {
   "cell_type": "markdown",
   "metadata": {},
   "source": [
    "## Convert to CSV for all trials"
   ]
  },
  {
   "cell_type": "code",
   "execution_count": 8,
   "metadata": {},
   "outputs": [
    {
     "name": "stderr",
     "output_type": "stream",
     "text": [
      "6it [00:00, 375.43it/s]"
     ]
    },
    {
     "name": "stdout",
     "output_type": "stream",
     "text": [
      "saved/edit/trials/CINIC10_ImageNet-VGG_16/0110_120730/dog-train-n02114712_211/felzenszwalb_gaussian_0\n",
      "saved/edit/trials/CINIC10_ImageNet-VGG_16/0110_120730/dog-train-n02114712_211/felzenszwalb_masked_0\n",
      "saved/edit/trials/CINIC10_ImageNet-VGG_16/0110_120730/dog-train-n02114712_211/felzenszwalb_masked_1\n",
      "saved/edit/trials/CINIC10_ImageNet-VGG_16/0110_120730/dog-train-n02114712_211/quickshift_masked_0\n",
      "saved/edit/trials/CINIC10_ImageNet-VGG_16/0110_120730/dog-train-n02114712_211/slic_masked_0\n",
      "saved/edit/trials/CINIC10_ImageNet-VGG_16/0110_120730/dog-train-n02114712_211/watershed_masked_1\n"
     ]
    },
    {
     "name": "stderr",
     "output_type": "stream",
     "text": [
      "\n"
     ]
    }
   ],
   "source": [
    "data = []\n",
    "# Iterate through all trials\n",
    "for trial_idx, trial_dir in tqdm(enumerate(trial_dirs)):\n",
    "    # Obtain key ID from path\n",
    "    key_id = os.path.basename(os.path.dirname(trial_dir))\n",
    "    id_class = key_id.split('-')[0]\n",
    "    if id_class not in class_list:\n",
    "        raise ValueError(\"Invalid key_id {}\".format(key_id))\n",
    "    # Obtain value ID from path\n",
    "    val_id = os.path.basename(trial_dir)\n",
    "    # Join to make a data ID\n",
    "    data_id = os.path.join(key_id, val_id)\n",
    "    \n",
    "    # Load results from knn, pre-edit metrics, and post-edit metrics\n",
    "    restore_dir = os.path.join(trial_dir, 'models')\n",
    "    knn_analysis_results = torch.load(os.path.join(restore_dir, knn_analysis_filename))\n",
    "    pre_edit_metrics = torch.load(os.path.join(restore_dir, 'pre_edit_metrics.pth'))\n",
    "    post_edit_metrics = torch.load(os.path.join(restore_dir, 'post_edit_metrics.pth'))\n",
    "    \n",
    "    # Combine results into one dictionary\n",
    "    combined_results = combine_results(\n",
    "        data_id=data_id,\n",
    "        knn_analysis=knn_analysis_results,\n",
    "        pre_edit_metrics=pre_edit_metrics,\n",
    "        post_edit_metrics=post_edit_metrics)\n",
    "    \n",
    "    # Save column headers in first trial run\n",
    "    if trial_idx == 0:\n",
    "        column_headers = list(combined_results.keys())\n",
    "    # Convert results to np.array & append to list\n",
    "    combined_results = np.expand_dims(np.array(list(combined_results.values())), axis=0)\n",
    "    data.append(combined_results)\n",
    "\n",
    "# Convert data from list of np.arrays -> pd.DataFrame    \n",
    "data = np.concatenate(data, axis=0)\n",
    "df = pd.DataFrame(data, columns=column_headers)\n"
   ]
  },
  {
   "cell_type": "code",
   "execution_count": 11,
   "metadata": {},
   "outputs": [],
   "source": [
    "# Save to CSV\n",
    "csv_save_path = os.path.join(os.path.dirname(save_trials_path), 'results_table.csv')\n",
    "df.to_csv(csv_save_path)"
   ]
  },
  {
   "cell_type": "code",
   "execution_count": null,
   "metadata": {},
   "outputs": [],
   "source": []
  }
 ],
 "metadata": {
  "kernelspec": {
   "display_name": "editing",
   "language": "python",
   "name": "editing"
  },
  "language_info": {
   "codemirror_mode": {
    "name": "ipython",
    "version": 3
   },
   "file_extension": ".py",
   "mimetype": "text/x-python",
   "name": "python",
   "nbconvert_exporter": "python",
   "pygments_lexer": "ipython3",
   "version": "3.8.13"
  }
 },
 "nbformat": 4,
 "nbformat_minor": 4
}
