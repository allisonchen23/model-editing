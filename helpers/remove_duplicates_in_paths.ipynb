{
 "cells": [
  {
   "cell_type": "markdown",
   "metadata": {},
   "source": [
    "## Notebook Template to Quickly Test Things Out"
   ]
  },
  {
   "cell_type": "code",
   "execution_count": 1,
   "metadata": {},
   "outputs": [],
   "source": [
    "# General imports\n",
    "import torch\n",
    "import numpy as np\n",
    "import os, sys\n",
    "import json\n",
    "from tqdm import tqdm"
   ]
  },
  {
   "cell_type": "code",
   "execution_count": 3,
   "metadata": {},
   "outputs": [],
   "source": [
    "# Local imports\n",
    "sys.path.insert(0, 'src')\n",
    "from utils import read_json, read_lists, write_lists\n",
    "# from utils.model_utils import prepare_device\n",
    "# from parse_config import ConfigParser\n",
    "# from data_loader import data_loaders\n",
    "# import model.model as module_arch"
   ]
  },
  {
   "cell_type": "code",
   "execution_count": null,
   "metadata": {},
   "outputs": [],
   "source": [
    "# Define constants, paths\n",
    "config_path = 'configs/'"
   ]
  },
  {
   "cell_type": "code",
   "execution_count": null,
   "metadata": {},
   "outputs": [],
   "source": [
    "# Load config file, models, and dataloader\n",
    "# config_json = read_json(config_path)\n",
    "# config = ConfigParser(config_json)\n",
    "\n",
    "# device, device_ids = prepare_device(config['n_gpu'])"
   ]
  },
  {
   "cell_type": "code",
   "execution_count": null,
   "metadata": {},
   "outputs": [],
   "source": [
    "# Load datasets\n",
    "# data_loader_args = dict(config.config[\"data_loader\"][\"args\"])"
   ]
  },
  {
   "cell_type": "code",
   "execution_count": null,
   "metadata": {},
   "outputs": [],
   "source": [
    "# Load model\n",
    "# layernum = config.config['layernum']\n",
    "# model = config.init_obj('arch', module_arch, layernum=layernum)"
   ]
  },
  {
   "cell_type": "code",
   "execution_count": 16,
   "metadata": {},
   "outputs": [],
   "source": [
    "# Function definitions\n",
    "dir_path = os.path.join('paths', 'edits', 'dog', '0113_120339')\n",
    "key_paths_path = os.path.join(dir_path, 'key_images.txt')\n",
    "value_paths_path = os.path.join(dir_path, 'value_images.txt')\n",
    "\n",
    "key_paths = read_lists(key_paths_path)\n",
    "value_paths = read_lists(value_paths_path)"
   ]
  },
  {
   "cell_type": "code",
   "execution_count": 18,
   "metadata": {},
   "outputs": [
    {
     "name": "stdout",
     "output_type": "stream",
     "text": [
      "0 duplicates! :D\n"
     ]
    }
   ],
   "source": [
    "# Detect duplicates\n",
    "value_paths_set = set(value_paths)\n",
    "if len(value_paths_set) < len(value_paths):\n",
    "    print(\"{} duplicates\".format(len(value_paths) - len(value_paths_set)))\n",
    "else: \n",
    "    print(\"0 duplicates! :D\")"
   ]
  },
  {
   "cell_type": "code",
   "execution_count": 9,
   "metadata": {},
   "outputs": [],
   "source": [
    "# Remove duplicates\n",
    "unique_key_paths = []\n",
    "unique_value_paths = []\n",
    "seen_value_paths = set()\n",
    "for key_path, value_path in zip(key_paths, value_paths):\n",
    "    if value_path in seen_value_paths:\n",
    "        continue\n",
    "    else:\n",
    "        unique_key_paths.append(key_path)\n",
    "        unique_value_paths.append(value_path)\n",
    "        seen_value_paths.add(value_path)\n",
    "\n"
   ]
  },
  {
   "cell_type": "code",
   "execution_count": 14,
   "metadata": {},
   "outputs": [],
   "source": [
    "# Sanity checks\n",
    "assert len(unique_key_paths) == len(unique_value_paths)\n",
    "assert len(unique_value_paths) == len(value_paths_set)\n",
    "for key_path, value_path in zip(unique_key_paths, unique_value_paths):\n",
    "    image_id = os.path.splitext(os.path.basename(key_path))[0]\n",
    "    class_id = os.path.basename(os.path.dirname(key_path))\n",
    "    assert image_id in value_path and class_id in value_path\n",
    "    \n",
    "assert len(set(unique_value_paths)) == len(value_paths_set)"
   ]
  },
  {
   "cell_type": "code",
   "execution_count": 15,
   "metadata": {},
   "outputs": [],
   "source": [
    "# Write back to path\n",
    "write_lists(key_paths_path, unique_key_paths)\n",
    "write_lists(value_paths_path, unique_value_paths)"
   ]
  },
  {
   "cell_type": "code",
   "execution_count": null,
   "metadata": {},
   "outputs": [],
   "source": []
  }
 ],
 "metadata": {
  "kernelspec": {
   "display_name": "editing",
   "language": "python",
   "name": "editing"
  },
  "language_info": {
   "codemirror_mode": {
    "name": "ipython",
    "version": 3
   },
   "file_extension": ".py",
   "mimetype": "text/x-python",
   "name": "python",
   "nbconvert_exporter": "python",
   "pygments_lexer": "ipython3",
   "version": "3.8.13"
  }
 },
 "nbformat": 4,
 "nbformat_minor": 4
}
