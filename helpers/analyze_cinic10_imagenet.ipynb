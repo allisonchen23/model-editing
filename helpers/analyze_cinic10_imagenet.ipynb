{
 "cells": [
  {
   "cell_type": "code",
   "execution_count": 18,
   "id": "246ca290-9ff0-4159-9b89-70bef1025e29",
   "metadata": {},
   "outputs": [],
   "source": [
    "import os, sys\n",
    "import numpy as np\n",
    "import torch\n",
    "import matplotlib.pyplot as plt\n",
    "sys.path.insert(0, '../src')\n",
    "import datasets"
   ]
  },
  {
   "cell_type": "markdown",
   "id": "1b32e689-7e28-493c-96a1-e4d795851b7b",
   "metadata": {},
   "source": [
    "# Obtain statistics and easily analyze cinic-10 ImageNet extraction"
   ]
  },
  {
   "cell_type": "markdown",
   "id": "3ebaca40-eea0-4789-942d-eb7bbe6aeb7e",
   "metadata": {},
   "source": [
    "## Path to dataset + constants"
   ]
  },
  {
   "cell_type": "code",
   "execution_count": 6,
   "id": "48ecf224-0035-45c1-9388-72fe7f4d7897",
   "metadata": {},
   "outputs": [],
   "source": [
    "cinic10_imagenet_path = '/n/fs/ac-editing/model-editing/data/cinic-10-imagenet'\n",
    "available_subdirs = [\"train\", \"test\", \"valid\"]\n",
    "\n",
    "cifar_mean = [0.4914, 0.4822, 0.4465]\n",
    "cifar_std = [0.2471, 0.2435, 0.2616]\n",
    "cinic_mean = [0.47889522, 0.47227842, 0.43047404]\n",
    "cinic_std = [0.24205776, 0.23828046, 0.25874835]"
   ]
  },
  {
   "cell_type": "markdown",
   "id": "70700200-fc43-48b6-83d5-427dd61851c4",
   "metadata": {},
   "source": [
    "## Define functions"
   ]
  },
  {
   "cell_type": "code",
   "execution_count": 24,
   "id": "21cf5a6c-eba4-434a-bd44-5b8f7712036d",
   "metadata": {},
   "outputs": [],
   "source": [
    "def summarize_directory(subdir=\"train\"):\n",
    "    assert subdir in available_subdirs\n",
    "    subdir_path = os.path.join(cinic10_imagenet_path, subdir)\n",
    "    print(\"Statistics for {}:\".format(subdir_path))\n",
    "    n_total_images = 0\n",
    "    for class_name in os.listdir(subdir_path):\n",
    "        if \".ipynb\" in class_name:\n",
    "            continue\n",
    "        class_dir = os.path.join(subdir_path, class_name)\n",
    "        \n",
    "        n_images = len(os.listdir(class_dir))\n",
    "        n_total_images += n_images\n",
    "        print(\"{} images for class {}\".format(n_images, class_dir))\n",
    "    \n",
    "    print(\"{} images in {} split\".format(n_total_images, subdir))"
   ]
  },
  {
   "cell_type": "markdown",
   "id": "ef70ee5b-e751-4837-91b8-f09027a19ec6",
   "metadata": {},
   "source": [
    "## Run `summarize_directory()` on train, val, and test"
   ]
  },
  {
   "cell_type": "code",
   "execution_count": null,
   "id": "db8b1a99-8de1-4a3a-bfae-dab67ee352c8",
   "metadata": {},
   "outputs": [],
   "source": [
    "for subdir in available_subdirs:\n",
    "    summarize_directory(subdir)\n",
    "print(os.listdir(os.path.join(cinic10_imagenet_path, 'train')))"
   ]
  },
  {
   "cell_type": "markdown",
   "id": "3adc0123-48de-415c-a0f7-9a2240af3039",
   "metadata": {},
   "source": [
    "## Test dataloader for CINIC-10 ImageNet"
   ]
  },
  {
   "cell_type": "code",
   "execution_count": 24,
   "id": "252dd7c7-5a13-4f26-ae59-577b5f296123",
   "metadata": {},
   "outputs": [],
   "source": [
    "train_dataset = datasets.get_dataset(\n",
    "    dataset_path=cinic10_imagenet_path,\n",
    "    split='train',\n",
    "    normalize=False,\n",
    "    mean=cinic_mean,\n",
    "    std=cinic_std)\n",
    "\n",
    "train_dataloader = torch.utils.data.DataLoader(\n",
    "    train_dataset,\n",
    "    batch_size=5,\n",
    "    shuffle=False,\n",
    "    num_workers=8,\n",
    "    drop_last=False)"
   ]
  },
  {
   "cell_type": "code",
   "execution_count": 25,
   "id": "a11b5c6e-1013-4a8a-9dee-3ecfb38156df",
   "metadata": {},
   "outputs": [
    {
     "name": "stdout",
     "output_type": "stream",
     "text": [
      "/n/fs/ac-editing/model-editing/helpers\n",
      "torch.Size([5, 3, 32, 32])\n",
      "tensor(1.)\n",
      "tensor(0.0078)\n",
      "torch.Size([5, 3, 32, 32])\n",
      "tensor(1.)\n",
      "tensor(0.0235)\n",
      "torch.Size([5, 3, 32, 32])\n",
      "tensor(1.)\n",
      "tensor(0.0039)\n"
     ]
    },
    {
     "data": {
      "image/png": "[encoded data removed]",
      "text/plain": [
       "<Figure size 640x480 with 1 Axes>"
      ]
     },
     "metadata": {},
     "output_type": "display_data"
    }
   ],
   "source": [
    "print(os.getcwd())\n",
    "for idx, (image, label) in enumerate(train_dataloader):\n",
    "    image0 = image[0]\n",
    "    print(image.shape)\n",
    "    print(torch.max(image))\n",
    "    print(torch.min(image))\n",
    "    plt.imshow(image0.permute(1, 2, 0))\n",
    "    if idx == 2:\n",
    "        break\n",
    "    "
   ]
  },
  {
   "cell_type": "code",
   "execution_count": 11,
   "id": "e5ffa07f-f7e6-4b3b-8f8f-b0fed3fbdd01",
   "metadata": {},
   "outputs": [
    {
     "name": "stdout",
     "output_type": "stream",
     "text": [
      "True\n"
     ]
    },
    {
     "ename": "FileNotFoundError",
     "evalue": "[Errno 2] No such file or directory: '/n/fs/ac-editing/model-editing/data/cinic-10-imagenet/train/airplane/n02686121_10018.png'",
     "output_type": "error",
     "traceback": [
      "\u001b[0;31m---------------------------------------------------------------------------\u001b[0m",
      "\u001b[0;31mFileNotFoundError\u001b[0m                         Traceback (most recent call last)",
      "Cell \u001b[0;32mIn [11], line 6\u001b[0m\n\u001b[1;32m      4\u001b[0m filename \u001b[38;5;241m=\u001b[39m os\u001b[38;5;241m.\u001b[39mpath\u001b[38;5;241m.\u001b[39mbasename(path)\n\u001b[1;32m      5\u001b[0m \u001b[38;5;28mprint\u001b[39m(filename \u001b[38;5;129;01min\u001b[39;00m dirlist)\n\u001b[0;32m----> 6\u001b[0m \u001b[38;5;28;01mwith\u001b[39;00m \u001b[38;5;28;43mopen\u001b[39;49m\u001b[43m(\u001b[49m\u001b[43mpath\u001b[49m\u001b[43m,\u001b[49m\u001b[43m \u001b[49m\u001b[38;5;124;43m'\u001b[39;49m\u001b[38;5;124;43mrb\u001b[39;49m\u001b[38;5;124;43m'\u001b[39;49m\u001b[43m)\u001b[49m \u001b[38;5;28;01mas\u001b[39;00m f:\n\u001b[1;32m      7\u001b[0m     img \u001b[38;5;241m=\u001b[39m Image\u001b[38;5;241m.\u001b[39mopen(f)\n",
      "\u001b[0;31mFileNotFoundError\u001b[0m: [Errno 2] No such file or directory: '/n/fs/ac-editing/model-editing/data/cinic-10-imagenet/train/airplane/n02686121_10018.png'"
     ]
    }
   ],
   "source": []
  },
  {
   "cell_type": "code",
   "execution_count": null,
   "id": "d765d3a9-c81b-4cce-a8d2-e95ff925b59d",
   "metadata": {},
   "outputs": [],
   "source": []
  }
 ],
 "metadata": {
  "kernelspec": {
   "display_name": "editing",
   "language": "python",
   "name": "editing"
  },
  "language_info": {
   "codemirror_mode": {
    "name": "ipython",
    "version": 3
   },
   "file_extension": ".py",
   "mimetype": "text/x-python",
   "name": "python",
   "nbconvert_exporter": "python",
   "pygments_lexer": "ipython3",
   "version": "3.8.13"
  }
 },
 "nbformat": 4,
 "nbformat_minor": 5
}
