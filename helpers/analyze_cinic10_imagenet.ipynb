{
 "cells": [
  {
   "cell_type": "code",
   "execution_count": 1,
   "id": "246ca290-9ff0-4159-9b89-70bef1025e29",
   "metadata": {},
   "outputs": [],
   "source": [
    "import os\n",
    "import numpy as np"
   ]
  },
  {
   "cell_type": "markdown",
   "id": "1b32e689-7e28-493c-96a1-e4d795851b7b",
   "metadata": {},
   "source": [
    "# Obtain statistics and easily analyze cinic-10 ImageNet extraction"
   ]
  },
  {
   "cell_type": "markdown",
   "id": "3ebaca40-eea0-4789-942d-eb7bbe6aeb7e",
   "metadata": {},
   "source": [
    "## Path to dataset"
   ]
  },
  {
   "cell_type": "code",
   "execution_count": 23,
   "id": "48ecf224-0035-45c1-9388-72fe7f4d7897",
   "metadata": {},
   "outputs": [],
   "source": [
    "cinic10_imagenet_path = '../data/cinic-10-imagenet'\n",
    "available_subdirs = [\"train\", \"test\", \"valid\"]"
   ]
  },
  {
   "cell_type": "markdown",
   "id": "70700200-fc43-48b6-83d5-427dd61851c4",
   "metadata": {},
   "source": [
    "## Define functions"
   ]
  },
  {
   "cell_type": "code",
   "execution_count": 24,
   "id": "21cf5a6c-eba4-434a-bd44-5b8f7712036d",
   "metadata": {},
   "outputs": [],
   "source": [
    "def summarize_directory(subdir=\"train\"):\n",
    "    assert subdir in available_subdirs\n",
    "    subdir_path = os.path.join(cinic10_imagenet_path, subdir)\n",
    "    print(\"Statistics for {}:\".format(subdir_path))\n",
    "    n_total_images = 0\n",
    "    for class_name in os.listdir(subdir_path):\n",
    "        if \".ipynb\" in class_name:\n",
    "            continue\n",
    "        class_dir = os.path.join(subdir_path, class_name)\n",
    "        \n",
    "        n_images = len(os.listdir(class_dir))\n",
    "        n_total_images += n_images\n",
    "        print(\"{} images for class {}\".format(n_images, class_dir))\n",
    "    \n",
    "    print(\"{} images in {} split\".format(n_total_images, subdir))"
   ]
  },
  {
   "cell_type": "markdown",
   "id": "ef70ee5b-e751-4837-91b8-f09027a19ec6",
   "metadata": {},
   "source": [
    "## Run `summarize_directory()` on train, val, and test"
   ]
  },
  {
   "cell_type": "code",
   "execution_count": 25,
   "id": "db8b1a99-8de1-4a3a-bfae-dab67ee352c8",
   "metadata": {},
   "outputs": [
    {
     "name": "stdout",
     "output_type": "stream",
     "text": [
      "Statistics for ../data/cinic-10-imagenet/train:\n",
      "7000 images for class ../data/cinic-10-imagenet/train/automobile\n",
      "7000 images for class ../data/cinic-10-imagenet/train/frog\n",
      "7000 images for class ../data/cinic-10-imagenet/train/truck\n",
      "7000 images for class ../data/cinic-10-imagenet/train/horse\n",
      "7000 images for class ../data/cinic-10-imagenet/train/ship\n",
      "7000 images for class ../data/cinic-10-imagenet/train/cat\n",
      "7000 images for class ../data/cinic-10-imagenet/train/dog\n",
      "7000 images for class ../data/cinic-10-imagenet/train/bird\n",
      "7000 images for class ../data/cinic-10-imagenet/train/deer\n",
      "7000 images for class ../data/cinic-10-imagenet/train/airplane\n",
      "70000 images in train split\n",
      "Statistics for ../data/cinic-10-imagenet/test:\n",
      "7000 images for class ../data/cinic-10-imagenet/test/automobile\n",
      "7000 images for class ../data/cinic-10-imagenet/test/frog\n",
      "7000 images for class ../data/cinic-10-imagenet/test/truck\n",
      "7000 images for class ../data/cinic-10-imagenet/test/horse\n",
      "7000 images for class ../data/cinic-10-imagenet/test/ship\n",
      "7000 images for class ../data/cinic-10-imagenet/test/cat\n",
      "7000 images for class ../data/cinic-10-imagenet/test/dog\n",
      "7000 images for class ../data/cinic-10-imagenet/test/bird\n",
      "7000 images for class ../data/cinic-10-imagenet/test/deer\n",
      "7000 images for class ../data/cinic-10-imagenet/test/airplane\n",
      "70000 images in test split\n",
      "Statistics for ../data/cinic-10-imagenet/valid:\n",
      "7000 images for class ../data/cinic-10-imagenet/valid/automobile\n",
      "7000 images for class ../data/cinic-10-imagenet/valid/frog\n",
      "7000 images for class ../data/cinic-10-imagenet/valid/truck\n",
      "7000 images for class ../data/cinic-10-imagenet/valid/horse\n",
      "7000 images for class ../data/cinic-10-imagenet/valid/ship\n",
      "7000 images for class ../data/cinic-10-imagenet/valid/cat\n",
      "7000 images for class ../data/cinic-10-imagenet/valid/dog\n",
      "7000 images for class ../data/cinic-10-imagenet/valid/bird\n",
      "7000 images for class ../data/cinic-10-imagenet/valid/deer\n",
      "7000 images for class ../data/cinic-10-imagenet/valid/airplane\n",
      "70000 images in valid split\n",
      "['automobile', 'frog', 'truck', 'horse', 'ship', 'cat', 'dog', 'bird', 'deer', 'airplane']\n"
     ]
    }
   ],
   "source": [
    "for subdir in available_subdirs:\n",
    "    summarize_directory(subdir)\n",
    "print(os.listdir(os.path.join(cinic10_imagenet_path, 'train')))"
   ]
  },
  {
   "cell_type": "code",
   "execution_count": null,
   "id": "239af01e-d7a1-429f-ad91-13e9ef67cc6c",
   "metadata": {},
   "outputs": [],
   "source": []
  }
 ],
 "metadata": {
  "kernelspec": {
   "display_name": "editing",
   "language": "python",
   "name": "editing"
  },
  "language_info": {
   "codemirror_mode": {
    "name": "ipython",
    "version": 3
   },
   "file_extension": ".py",
   "mimetype": "text/x-python",
   "name": "python",
   "nbconvert_exporter": "python",
   "pygments_lexer": "ipython3",
   "version": "3.8.13"
  }
 },
 "nbformat": 4,
 "nbformat_minor": 5
}
