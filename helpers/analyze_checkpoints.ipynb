{
 "cells": [
  {
   "cell_type": "code",
   "execution_count": 1,
   "id": "16d23ce5-9796-4e98-9ae5-3329ac44a877",
   "metadata": {},
   "outputs": [],
   "source": [
    "import torch\n",
    "import sys\n",
    "sys.path.insert(0, '/n/fs/ac-editing/model-editing/external_code/PyTorch_CIFAR10/cifar10_models/')\n",
    "from vgg import vgg16_bn\n"
   ]
  },
  {
   "cell_type": "code",
   "execution_count": 4,
   "id": "370268e4-41fe-4b66-86c7-b0cb007757c9",
   "metadata": {},
   "outputs": [],
   "source": [
    "checkpoint_path = '/n/fs/ac-editing/model-editing/external_code/PyTorch_CIFAR10/cifar10_models/state_dicts/vgg16_bn.pt'\n",
    "\n",
    "state_dict = torch.load(checkpoint_path)\n"
   ]
  },
  {
   "cell_type": "code",
   "execution_count": 6,
   "id": "963da40c-384b-41c1-a81c-94b89d857d26",
   "metadata": {},
   "outputs": [
    {
     "data": {
      "text/plain": [
       "<All keys matched successfully>"
      ]
     },
     "execution_count": 6,
     "metadata": {},
     "output_type": "execute_result"
    }
   ],
   "source": [
    "model = vgg16_bn()\n",
    "model.load_state_dict(state_dict)"
   ]
  },
  {
   "cell_type": "code",
   "execution_count": null,
   "id": "3d8a086b-eb9b-48ff-84ad-0571e9446660",
   "metadata": {},
   "outputs": [],
   "source": []
  }
 ],
 "metadata": {
  "kernelspec": {
   "display_name": "editing",
   "language": "python",
   "name": "editing"
  },
  "language_info": {
   "codemirror_mode": {
    "name": "ipython",
    "version": 3
   },
   "file_extension": ".py",
   "mimetype": "text/x-python",
   "name": "python",
   "nbconvert_exporter": "python",
   "pygments_lexer": "ipython3",
   "version": "3.8.13"
  }
 },
 "nbformat": 4,
 "nbformat_minor": 5
}
