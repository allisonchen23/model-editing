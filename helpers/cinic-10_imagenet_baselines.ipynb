{
 "cells": [
  {
   "cell_type": "markdown",
   "id": "6bc86cd1-062c-4890-898a-b18426a5fbee",
   "metadata": {},
   "source": [
    "## Run the CIFAR 10 models on CINIC-10 ImageNet test set"
   ]
  },
  {
   "cell_type": "code",
   "execution_count": 1,
   "id": "3e8cce31-0c5a-4d3d-b02c-a7ceb8fa6df3",
   "metadata": {},
   "outputs": [],
   "source": [
    "import os, sys\n",
    "import torch\n",
    "from pytorch_lightning import Trainer\n",
    "from argparse import Namespace\n",
    "sys.path.insert(0, '/n/fs/ac-editing/model-editing/external_code/PyTorch_CIFAR10')\n",
    "from train import main as cifar10_test\n",
    "sys.path.insert(0, '/n/fs/ac-editing/model-editing/src')\n",
    "from run_model import run_model\n",
    "import datasets"
   ]
  },
  {
   "cell_type": "code",
   "execution_count": 2,
   "id": "b05424a7-48c6-4fcb-87ef-dca044e8eceb",
   "metadata": {},
   "outputs": [],
   "source": [
    "from run_model import run_model\n",
    "import datasets"
   ]
  },
  {
   "cell_type": "code",
   "execution_count": 3,
   "id": "17da3049-8509-4c16-96ad-5dee8dc6942e",
   "metadata": {},
   "outputs": [],
   "source": [
    "# Define constants\n",
    "MODEL_NAMES = ['vgg11_bn', 'vgg13_bn', 'vgg16_bn', 'vgg19_bn',\n",
    "               'resnet18', 'resnet34', 'resnet50',\n",
    "               'densenet121', 'densenet161', 'densenet169',\n",
    "               'mobilenet_v2', 'googlenet', 'inception_v3']\n",
    "EXPECTED_CIFAR10_ACC = {\n",
    "    \"vgg11_bn\": 92.39,\n",
    "    \"vgg13_bn\": 94.22,\n",
    "    \"vgg16_bn\": 94.00,\n",
    "    \"vgg19_bn\": 93.95,\n",
    "    \"resnet18\": 93.07,\n",
    "    \"resnet34\": 93.34,\n",
    "    \"resnet50\": 93.65,\n",
    "    \"densenet121\": 94.06,\n",
    "    \"densenet161\": 94.07,\n",
    "    \"densenet169\": 94.05,\n",
    "    \"mobilenet_v2\": 93.91,\n",
    "    \"googlenet\": 92.85,\n",
    "    \"inception_v3\": 93.74,\n",
    "}\n",
    "CHECKPOINT_DIRPATH = \"/n/fs/ac-editing/model-editing/external_code/PyTorch_CIFAR10/cifar10_models/state_dicts\"\n",
    "DATA_PATH = '/n/fs/ac-editing/model-editing/data/'\n",
    "CINIC10_IMAGENET_PATH = os.path.join(DATA_PATH, \"cinic-10-imagenet\")\n",
    "CINIC10_CIFAR_PATH = os.path.join(DATA_PATH, \"cinic-10-cifar\")\n",
    "CIFAR10_PATH = DATA_PATH  # the torchvision expects the parent folder\n",
    "\n",
    "# Data for normalization\n",
    "cifar_mean = [0.4914, 0.4822, 0.4465]\n",
    "cifar_std = [0.2471, 0.2435, 0.2616]\n",
    "cinic_mean = [0.47889522, 0.47227842, 0.43047404]\n",
    "cinic_std = [0.24205776, 0.23828046, 0.25874835]\n",
    "# hyper parameters\n",
    "batch_size=256\n",
    "num_workers=8"
   ]
  },
  {
   "cell_type": "code",
   "execution_count": 4,
   "id": "2290d8f7-2b13-4fc3-849a-b59f0e9731e2",
   "metadata": {},
   "outputs": [
    {
     "name": "stderr",
     "output_type": "stream",
     "text": [
      "/n/fs/ac-project/miniconda3/envs/editing/lib/python3.8/site-packages/pytorch_lightning/trainer/connectors/accelerator_connector.py:446: LightningDeprecationWarning: Setting `Trainer(gpus=[0])` is deprecated in v1.7 and will be removed in v2.0. Please use `Trainer(accelerator='gpu', devices=[0])` instead.\n",
      "  rank_zero_deprecation(\n",
      "GPU available: True (cuda), used: True\n",
      "TPU available: False, using: 0 TPU cores\n",
      "IPU available: False, using: 0 IPUs\n",
      "HPU available: False, using: 0 HPUs\n"
     ]
    },
    {
     "name": "stdout",
     "output_type": "stream",
     "text": [
      "/usr/bin/srun\n",
      "/usr/bin/srun\n",
      "Loaded model vgg16_bn from /n/fs/ac-editing/model-editing/external_code/PyTorch_CIFAR10/cifar10_models/state_dicts/vgg16_bn.pt\n",
      "/usr/bin/srun\n"
     ]
    },
    {
     "name": "stderr",
     "output_type": "stream",
     "text": [
      "LOCAL_RANK: 0 - CUDA_VISIBLE_DEVICES: [0,1]\n"
     ]
    },
    {
     "data": {
      "application/vnd.jupyter.widget-view+json": {
       "model_id": "e9b9631394bb4366b20de6da595f5709",
       "version_major": 2,
       "version_minor": 0
      },
      "text/plain": [
       "Predicting: 0it [00:00, ?it/s]"
      ]
     },
     "metadata": {},
     "output_type": "display_data"
    }
   ],
   "source": [
    "checkpoint_path = os.path.join(CHECKPOINT_DIRPATH, \"vgg16_bn.pt\")\n",
    "\n",
    "\n",
    "dataloader = torch.utils.data.DataLoader(\n",
    "        datasets.get_dataset(\n",
    "            dataset_path=CINIC10_IMAGENET_PATH,\n",
    "            split='test',\n",
    "            normalize=True,\n",
    "            mean=cifar_mean,\n",
    "            std=cifar_std),\n",
    "        batch_size=256,\n",
    "        num_workers=8,\n",
    "        shuffle=False,\n",
    "        drop_last=False)\n",
    "\n",
    "trainer = Trainer(\n",
    "        accelerator='gpu',\n",
    "        auto_select_gpus=True,\n",
    "        gpus=[0],\n",
    "        log_every_n_steps=1000,\n",
    "        enable_progress_bar=True,\n",
    "        deterministic=True)\n",
    "\n",
    "results = run_model(\n",
    "            dataloader=dataloader,\n",
    "            trainer=trainer,\n",
    "            model_restore_path=checkpoint_path,\n",
    "            model_type=\"vgg16_bn\",\n",
    "            return_predictions=True,\n",
    "            verbose=True)"
   ]
  },
  {
   "cell_type": "code",
   "execution_count": 10,
   "id": "c7e1a666-b03e-49a2-9d30-39dd66caa239",
   "metadata": {},
   "outputs": [
    {
     "name": "stdout",
     "output_type": "stream",
     "text": [
      "274\n",
      "(tensor(0.1648), tensor(96.0938))\n"
     ]
    }
   ],
   "source": [
    "print(len(results))\n",
    "print(results[0])"
   ]
  },
  {
   "cell_type": "code",
   "execution_count": 13,
   "id": "4784d6c4-8995-4594-ac0e-ae2c15b3155b",
   "metadata": {},
   "outputs": [
    {
     "name": "stdout",
     "output_type": "stream",
     "text": [
      "torch.Size([256, 3, 32, 32])\n",
      "tensor([0, 0, 0, 0, 0, 0, 0, 0, 0, 0, 0, 0, 0, 0, 0, 0, 0, 0, 0, 0, 0, 0, 0, 0,\n",
      "        0, 0, 0, 0, 0, 0, 0, 0, 0, 0, 0, 0, 0, 0, 0, 0, 0, 0, 0, 0, 0, 0, 0, 0,\n",
      "        0, 0, 0, 0, 0, 0, 0, 0, 0, 0, 0, 0, 0, 0, 0, 0, 0, 0, 0, 0, 0, 0, 0, 0,\n",
      "        0, 0, 0, 0, 0, 0, 0, 0, 0, 0, 0, 0, 0, 0, 0, 0, 0, 0, 0, 0, 0, 0, 0, 0,\n",
      "        0, 0, 0, 0, 0, 0, 0, 0, 0, 0, 0, 0, 0, 0, 0, 0, 0, 0, 0, 0, 0, 0, 0, 0,\n",
      "        0, 0, 0, 0, 0, 0, 0, 0, 0, 0, 0, 0, 0, 0, 0, 0, 0, 0, 0, 0, 0, 0, 0, 0,\n",
      "        0, 0, 0, 0, 0, 0, 0, 0, 0, 0, 0, 0, 0, 0, 0, 0, 0, 0, 0, 0, 0, 0, 0, 0,\n",
      "        0, 0, 0, 0, 0, 0, 0, 0, 0, 0, 0, 0, 0, 0, 0, 0, 0, 0, 0, 0, 0, 0, 0, 0,\n",
      "        0, 0, 0, 0, 0, 0, 0, 0, 0, 0, 0, 0, 0, 0, 0, 0, 0, 0, 0, 0, 0, 0, 0, 0,\n",
      "        0, 0, 0, 0, 0, 0, 0, 0, 0, 0, 0, 0, 0, 0, 0, 0, 0, 0, 0, 0, 0, 0, 0, 0,\n",
      "        0, 0, 0, 0, 0, 0, 0, 0, 0, 0, 0, 0, 0, 0, 0, 0])\n"
     ]
    }
   ],
   "source": [
    "for idx, (im, lab) in enumerate(dataloader):\n",
    "    if idx == 1:\n",
    "        break\n",
    "    print(im.shape)\n",
    "    print(lab)"
   ]
  },
  {
   "cell_type": "code",
   "execution_count": null,
   "id": "c2b18d11-e226-464c-b5e2-4ed04ed84e4b",
   "metadata": {},
   "outputs": [],
   "source": []
  }
 ],
 "metadata": {
  "kernelspec": {
   "display_name": "editing",
   "language": "python",
   "name": "editing"
  },
  "language_info": {
   "codemirror_mode": {
    "name": "ipython",
    "version": 3
   },
   "file_extension": ".py",
   "mimetype": "text/x-python",
   "name": "python",
   "nbconvert_exporter": "python",
   "pygments_lexer": "ipython3",
   "version": "3.8.13"
  }
 },
 "nbformat": 4,
 "nbformat_minor": 5
}
