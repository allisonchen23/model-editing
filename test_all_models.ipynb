{
 "cells": [
  {
   "cell_type": "markdown",
   "metadata": {},
   "source": [
    "# Run all pretrained models on test set"
   ]
  },
  {
   "cell_type": "markdown",
   "metadata": {},
   "source": []
  },
  {
   "cell_type": "code",
   "execution_count": 1,
   "metadata": {},
   "outputs": [],
   "source": [
    "# Global imports\n",
    "import os\n",
    "import json\n",
    "import sys\n",
    "sys.path.insert(0, 'src')"
   ]
  },
  {
   "cell_type": "code",
   "execution_count": 3,
   "metadata": {},
   "outputs": [],
   "source": [
    "# Local imports\n",
    "from utils.util import read_json, informal_log\n",
    "from test import main as test_fn\n",
    "from parse_config import ConfigParser\n",
    "from data_loader import data_loaders"
   ]
  },
  {
   "cell_type": "code",
   "execution_count": 26,
   "metadata": {},
   "outputs": [
    {
     "name": "stdout",
     "output_type": "stream",
     "text": [
      "OrderedDict([('name', 'CINIC10_ImageNet-'), ('n_gpu', 1), ('arch', OrderedDict([('type', 'CIFAR10PretrainedModel'), ('args', OrderedDict([('type', '{}'), ('checkpoint_path', 'external_code/PyTorch_CIFAR10/cifar10_models/state_dicts/{}.pt')]))])), ('data_loader', OrderedDict([('type', 'CINIC10DataLoader'), ('args', OrderedDict([('data_dir', 'data/cinic-10-imagenet'), ('batch_size', 256), ('shuffle', False), ('normalize', True), ('means', [0.4914, 0.4822, 0.4465]), ('stds', [0.2471, 0.2435, 0.2616]), ('num_workers', 8)]))])), ('loss', 'cross_entropy'), ('metrics', ['accuracy']), ('trainer', OrderedDict([('epochs', 10), ('save_dir', 'saved/test/'), ('save_period', 1), ('verbosity', 2), ('monitor', 'min val_loss'), ('early_stop', 10), ('tensorboard', True)]))])\n"
     ]
    }
   ],
   "source": [
    "architectures = [\n",
    "    \"vgg11_bn\",\n",
    "    \"vgg13_bn\",\n",
    "    \"vgg16_bn\",\n",
    "    \"vgg19_bn\",\n",
    "    \"resnet18\",\n",
    "    \"resnet34\",\n",
    "    \"resnet50\",\n",
    "    \"densenet121\",\n",
    "    \"densenet161\",\n",
    "    \"densenet169\",\n",
    "    \"mobilenet_v2\",\n",
    "    \"googlenet\",\n",
    "    \"inception_v3\"]\n",
    "\n",
    "\n",
    "config_path = 'configs/cinic10_imagenet_test_pretrained.json'\n",
    "config_dict = read_json(config_path)\n",
    "summary_filename = 'pretrained_test_summary.txt'\n",
    "print(config_dict)"
   ]
  },
  {
   "cell_type": "code",
   "execution_count": 6,
   "metadata": {},
   "outputs": [],
   "source": [
    "# Initialize data loaders\n",
    "data_loader_args = dict(config_dict[\"data_loader\"][\"args\"])\n",
    "test_data_loader = data_loaders.CINIC10DataLoader(\n",
    "    **data_loader_args,\n",
    "    split='test')"
   ]
  },
  {
   "cell_type": "code",
   "execution_count": 27,
   "metadata": {},
   "outputs": [
    {
     "name": "stdout",
     "output_type": "stream",
     "text": [
      "Test data path: data/cinic-10-imagenet/test\n",
      "Test results for vgg11_bn...\n",
      "Restoring checkpoint from external_code/PyTorch_CIFAR10/cifar10_models/state_dicts/vgg11_bn.pt\n",
      "Created CIFAR10PretrainedModel model with 28149514 trainable parameters\n",
      "Restored weights from external_code/PyTorch_CIFAR10/cifar10_models/state_dicts/vgg11_bn.pt\n"
     ]
    },
    {
     "name": "stderr",
     "output_type": "stream",
     "text": [
      "100%|██████████████████████████████████████| 274/274 [00:13<00:00, 19.95it/s]"
     ]
    },
    {
     "name": "stdout",
     "output_type": "stream",
     "text": [
      "{'loss': 1.8093653267724172, 'accuracy': 0.6689}\n",
      "Test results:\n",
      "{'loss': 1.8093653267724172, 'accuracy': 0.6689}\n",
      "\n",
      "---***---\n",
      "\n",
      "Test results for vgg13_bn...\n",
      "Restoring checkpoint from external_code/PyTorch_CIFAR10/cifar10_models/state_dicts/vgg13_bn.pt\n"
     ]
    },
    {
     "name": "stderr",
     "output_type": "stream",
     "text": [
      "\n"
     ]
    },
    {
     "name": "stdout",
     "output_type": "stream",
     "text": [
      "Created CIFAR10PretrainedModel model with 28334410 trainable parameters\n",
      "Restored weights from external_code/PyTorch_CIFAR10/cifar10_models/state_dicts/vgg13_bn.pt\n"
     ]
    },
    {
     "name": "stderr",
     "output_type": "stream",
     "text": [
      "100%|██████████████████████████████████████| 274/274 [00:14<00:00, 18.52it/s]"
     ]
    },
    {
     "name": "stdout",
     "output_type": "stream",
     "text": [
      "{'loss': 1.7918629289082117, 'accuracy': 0.6877571428571428}\n",
      "Test results:\n",
      "{'loss': 1.7918629289082117, 'accuracy': 0.6877571428571428}\n",
      "\n",
      "---***---\n",
      "\n",
      "Test results for vgg16_bn...\n",
      "Restoring checkpoint from external_code/PyTorch_CIFAR10/cifar10_models/state_dicts/vgg16_bn.pt\n"
     ]
    },
    {
     "name": "stderr",
     "output_type": "stream",
     "text": [
      "\n"
     ]
    },
    {
     "name": "stdout",
     "output_type": "stream",
     "text": [
      "Created CIFAR10PretrainedModel model with 33646666 trainable parameters\n",
      "Restored weights from external_code/PyTorch_CIFAR10/cifar10_models/state_dicts/vgg16_bn.pt\n"
     ]
    },
    {
     "name": "stderr",
     "output_type": "stream",
     "text": [
      "100%|██████████████████████████████████████| 274/274 [00:18<00:00, 14.65it/s]"
     ]
    },
    {
     "name": "stdout",
     "output_type": "stream",
     "text": [
      "{'loss': 1.7902723618916103, 'accuracy': 0.6838285714285715}\n",
      "Test results:\n",
      "{'loss': 1.7902723618916103, 'accuracy': 0.6838285714285715}\n",
      "\n",
      "---***---\n",
      "\n",
      "Test results for vgg19_bn...\n",
      "Restoring checkpoint from external_code/PyTorch_CIFAR10/cifar10_models/state_dicts/vgg19_bn.pt\n"
     ]
    },
    {
     "name": "stderr",
     "output_type": "stream",
     "text": [
      "\n"
     ]
    },
    {
     "name": "stdout",
     "output_type": "stream",
     "text": [
      "Created CIFAR10PretrainedModel model with 38958922 trainable parameters\n",
      "Restored weights from external_code/PyTorch_CIFAR10/cifar10_models/state_dicts/vgg19_bn.pt\n"
     ]
    },
    {
     "name": "stderr",
     "output_type": "stream",
     "text": [
      "100%|██████████████████████████████████████| 274/274 [00:19<00:00, 14.38it/s]"
     ]
    },
    {
     "name": "stdout",
     "output_type": "stream",
     "text": [
      "{'loss': 1.7888985227039882, 'accuracy': 0.6821571428571429}\n",
      "Test results:\n",
      "{'loss': 1.7888985227039882, 'accuracy': 0.6821571428571429}\n",
      "\n",
      "---***---\n",
      "\n",
      "Test results for resnet18...\n",
      "Restoring checkpoint from external_code/PyTorch_CIFAR10/cifar10_models/state_dicts/resnet18.pt\n"
     ]
    },
    {
     "name": "stderr",
     "output_type": "stream",
     "text": [
      "\n"
     ]
    },
    {
     "name": "stdout",
     "output_type": "stream",
     "text": [
      "Created CIFAR10PretrainedModel model with 11173962 trainable parameters\n",
      "Restored weights from external_code/PyTorch_CIFAR10/cifar10_models/state_dicts/resnet18.pt\n"
     ]
    },
    {
     "name": "stderr",
     "output_type": "stream",
     "text": [
      "100%|██████████████████████████████████████| 274/274 [00:13<00:00, 19.87it/s]"
     ]
    },
    {
     "name": "stdout",
     "output_type": "stream",
     "text": [
      "{'loss': 1.798211905343192, 'accuracy': 0.6771714285714285}\n",
      "Test results:\n",
      "{'loss': 1.798211905343192, 'accuracy': 0.6771714285714285}\n",
      "\n",
      "---***---\n",
      "\n",
      "Test results for resnet34...\n",
      "Restoring checkpoint from external_code/PyTorch_CIFAR10/cifar10_models/state_dicts/resnet34.pt\n"
     ]
    },
    {
     "name": "stderr",
     "output_type": "stream",
     "text": [
      "\n"
     ]
    },
    {
     "name": "stdout",
     "output_type": "stream",
     "text": [
      "Created CIFAR10PretrainedModel model with 21282122 trainable parameters\n",
      "Restored weights from external_code/PyTorch_CIFAR10/cifar10_models/state_dicts/resnet34.pt\n"
     ]
    },
    {
     "name": "stderr",
     "output_type": "stream",
     "text": [
      "100%|██████████████████████████████████████| 274/274 [00:18<00:00, 14.71it/s]"
     ]
    },
    {
     "name": "stdout",
     "output_type": "stream",
     "text": [
      "{'loss': 1.7899286428451537, 'accuracy': 0.6808428571428572}\n",
      "Test results:\n",
      "{'loss': 1.7899286428451537, 'accuracy': 0.6808428571428572}\n",
      "\n",
      "---***---\n",
      "\n",
      "Test results for resnet50...\n",
      "Restoring checkpoint from external_code/PyTorch_CIFAR10/cifar10_models/state_dicts/resnet50.pt\n"
     ]
    },
    {
     "name": "stderr",
     "output_type": "stream",
     "text": [
      "\n"
     ]
    },
    {
     "name": "stdout",
     "output_type": "stream",
     "text": [
      "Created CIFAR10PretrainedModel model with 23520842 trainable parameters\n",
      "Restored weights from external_code/PyTorch_CIFAR10/cifar10_models/state_dicts/resnet50.pt\n"
     ]
    },
    {
     "name": "stderr",
     "output_type": "stream",
     "text": [
      "100%|██████████████████████████████████████| 274/274 [00:28<00:00,  9.48it/s]"
     ]
    },
    {
     "name": "stdout",
     "output_type": "stream",
     "text": [
      "{'loss': 1.7836834243774413, 'accuracy': 0.6882142857142857}\n",
      "Test results:\n",
      "{'loss': 1.7836834243774413, 'accuracy': 0.6882142857142857}\n",
      "\n",
      "---***---\n",
      "\n",
      "Test results for densenet121...\n",
      "Restoring checkpoint from external_code/PyTorch_CIFAR10/cifar10_models/state_dicts/densenet121.pt\n"
     ]
    },
    {
     "name": "stderr",
     "output_type": "stream",
     "text": [
      "\n"
     ]
    },
    {
     "name": "stdout",
     "output_type": "stream",
     "text": [
      "Created CIFAR10PretrainedModel model with 6956426 trainable parameters\n",
      "Restored weights from external_code/PyTorch_CIFAR10/cifar10_models/state_dicts/densenet121.pt\n"
     ]
    },
    {
     "name": "stderr",
     "output_type": "stream",
     "text": [
      "100%|██████████████████████████████████████| 274/274 [00:36<00:00,  7.55it/s]"
     ]
    },
    {
     "name": "stdout",
     "output_type": "stream",
     "text": [
      "{'loss': 1.7865099810464042, 'accuracy': 0.6940714285714286}\n",
      "Test results:\n",
      "{'loss': 1.7865099810464042, 'accuracy': 0.6940714285714286}\n",
      "\n",
      "---***---\n",
      "\n",
      "Test results for densenet161...\n",
      "Restoring checkpoint from external_code/PyTorch_CIFAR10/cifar10_models/state_dicts/densenet161.pt\n"
     ]
    },
    {
     "name": "stderr",
     "output_type": "stream",
     "text": [
      "\n"
     ]
    },
    {
     "name": "stdout",
     "output_type": "stream",
     "text": [
      "Created CIFAR10PretrainedModel model with 26482570 trainable parameters\n",
      "Restored weights from external_code/PyTorch_CIFAR10/cifar10_models/state_dicts/densenet161.pt\n"
     ]
    },
    {
     "name": "stderr",
     "output_type": "stream",
     "text": [
      "100%|██████████████████████████████████████| 274/274 [01:21<00:00,  3.36it/s]"
     ]
    },
    {
     "name": "stdout",
     "output_type": "stream",
     "text": [
      "{'loss': 1.7821600533349173, 'accuracy': 0.6997714285714286}\n"
     ]
    },
    {
     "name": "stderr",
     "output_type": "stream",
     "text": [
      "\n"
     ]
    },
    {
     "name": "stdout",
     "output_type": "stream",
     "text": [
      "Test results:\n",
      "{'loss': 1.7821600533349173, 'accuracy': 0.6997714285714286}\n",
      "\n",
      "---***---\n",
      "\n",
      "Test results for densenet169...\n",
      "Restoring checkpoint from external_code/PyTorch_CIFAR10/cifar10_models/state_dicts/densenet169.pt\n",
      "Created CIFAR10PretrainedModel model with 12493450 trainable parameters\n",
      "Restored weights from external_code/PyTorch_CIFAR10/cifar10_models/state_dicts/densenet169.pt\n"
     ]
    },
    {
     "name": "stderr",
     "output_type": "stream",
     "text": [
      "100%|██████████████████████████████████████| 274/274 [00:48<00:00,  5.64it/s]"
     ]
    },
    {
     "name": "stdout",
     "output_type": "stream",
     "text": [
      "{'loss': 1.7876171211787633, 'accuracy': 0.6928428571428571}\n",
      "Test results:\n",
      "{'loss': 1.7876171211787633, 'accuracy': 0.6928428571428571}\n",
      "\n",
      "---***---\n",
      "\n",
      "Test results for mobilenet_v2...\n",
      "Restoring checkpoint from external_code/PyTorch_CIFAR10/cifar10_models/state_dicts/mobilenet_v2.pt\n"
     ]
    },
    {
     "name": "stderr",
     "output_type": "stream",
     "text": [
      "\n"
     ]
    },
    {
     "name": "stdout",
     "output_type": "stream",
     "text": [
      "Created CIFAR10PretrainedModel model with 2236682 trainable parameters\n",
      "Restored weights from external_code/PyTorch_CIFAR10/cifar10_models/state_dicts/mobilenet_v2.pt\n"
     ]
    },
    {
     "name": "stderr",
     "output_type": "stream",
     "text": [
      "100%|██████████████████████████████████████| 274/274 [00:24<00:00, 11.01it/s]"
     ]
    },
    {
     "name": "stdout",
     "output_type": "stream",
     "text": [
      "{'loss': 1.80153841078622, 'accuracy': 0.6836285714285715}\n",
      "Test results:\n",
      "{'loss': 1.80153841078622, 'accuracy': 0.6836285714285715}\n",
      "\n",
      "---***---\n",
      "\n",
      "Test results for googlenet...\n",
      "Restoring checkpoint from external_code/PyTorch_CIFAR10/cifar10_models/state_dicts/googlenet.pt\n"
     ]
    },
    {
     "name": "stderr",
     "output_type": "stream",
     "text": [
      "\n"
     ]
    },
    {
     "name": "stdout",
     "output_type": "stream",
     "text": [
      "Created CIFAR10PretrainedModel model with 5490986 trainable parameters\n",
      "Restored weights from external_code/PyTorch_CIFAR10/cifar10_models/state_dicts/googlenet.pt\n"
     ]
    },
    {
     "name": "stderr",
     "output_type": "stream",
     "text": [
      "100%|██████████████████████████████████████| 274/274 [01:29<00:00,  3.05it/s]"
     ]
    },
    {
     "name": "stdout",
     "output_type": "stream",
     "text": [
      "{'loss': 1.8137152357373918, 'accuracy': 0.6811142857142857}\n"
     ]
    },
    {
     "name": "stderr",
     "output_type": "stream",
     "text": [
      "\n"
     ]
    },
    {
     "name": "stdout",
     "output_type": "stream",
     "text": [
      "Test results:\n",
      "{'loss': 1.8137152357373918, 'accuracy': 0.6811142857142857}\n",
      "\n",
      "---***---\n",
      "\n",
      "Test results for inception_v3...\n",
      "Restoring checkpoint from external_code/PyTorch_CIFAR10/cifar10_models/state_dicts/inception_v3.pt\n",
      "Created CIFAR10PretrainedModel model with 21638954 trainable parameters\n",
      "Restored weights from external_code/PyTorch_CIFAR10/cifar10_models/state_dicts/inception_v3.pt\n"
     ]
    },
    {
     "name": "stderr",
     "output_type": "stream",
     "text": [
      "100%|██████████████████████████████████████| 274/274 [02:55<00:00,  1.56it/s]"
     ]
    },
    {
     "name": "stdout",
     "output_type": "stream",
     "text": [
      "{'loss': 1.7969015316826957, 'accuracy': 0.6847714285714286}\n",
      "Test results:\n",
      "{'loss': 1.7969015316826957, 'accuracy': 0.6847714285714286}\n",
      "\n",
      "---***---\n",
      "\n"
     ]
    },
    {
     "name": "stderr",
     "output_type": "stream",
     "text": [
      "\n"
     ]
    }
   ],
   "source": [
    "summary_file_path = os.path.join(\n",
    "        config_dict[\"trainer\"][\"save_dir\"], \n",
    "        summary_filename)\n",
    "\n",
    "informal_log(\"Test data path: {}\".format(test_data_loader.get_data_dir()))\n",
    "# Iterate over architectures\n",
    "for architecture in architectures:\n",
    "    # Read in config file fresh\n",
    "    config_dict = read_json(config_path)\n",
    "\n",
    "    config_dict.update({\"name\": \"CINIC10_ImageNet-{}\".format(architecture)})\n",
    "    \n",
    "    for key, value in config_dict[\"arch\"][\"args\"].items():\n",
    "        config_dict[\"arch\"][\"args\"].update({key: value.format(architecture)})\n",
    "    \n",
    "    informal_log(\"Test results for {}...\".format(architecture), summary_file_path)\n",
    "        \n",
    "    # Update model architecture information\n",
    "    for key, value in config_dict[\"arch\"][\"args\"].items():\n",
    "        config_dict[\"arch\"][\"args\"].update({key: value.format(architecture)})    \n",
    "    \n",
    "    \n",
    "    # Log checkpoint path\n",
    "    informal_log(\"Restoring checkpoint from {}\".format(config_dict[\"arch\"][\"args\"][\"checkpoint_path\"]), summary_file_path)\n",
    "    # Run checkpoint on test set\n",
    "    config_test = ConfigParser(config_dict)\n",
    "    test_results = test_fn(config_test, test_data_loader=test_data_loader)\n",
    "    \n",
    "    informal_log(\"Test results:\\n{}\".format(test_results), summary_file_path)\n",
    "    informal_log(\"\\n---***---\\n\", summary_file_path)\n"
   ]
  },
  {
   "cell_type": "code",
   "execution_count": 10,
   "metadata": {},
   "outputs": [
    {
     "name": "stdout",
     "output_type": "stream",
     "text": [
      "['vgg11_bn']\n"
     ]
    }
   ],
   "source": [
    "# print stuff\n",
    "print(architectures)"
   ]
  },
  {
   "cell_type": "code",
   "execution_count": null,
   "metadata": {},
   "outputs": [],
   "source": []
  }
 ],
 "metadata": {
  "kernelspec": {
   "display_name": "Python 3 (ipykernel)",
   "language": "python",
   "name": "python3"
  },
  "language_info": {
   "codemirror_mode": {
    "name": "ipython",
    "version": 3
   },
   "file_extension": ".py",
   "mimetype": "text/x-python",
   "name": "python",
   "nbconvert_exporter": "python",
   "pygments_lexer": "ipython3",
   "version": "3.8.13"
  },
  "vscode": {
   "interpreter": {
    "hash": "308e6c6b8b936526d9e5740fbb6d189809c67403351ef790dfc7ad94346820d6"
   }
  }
 },
 "nbformat": 4,
 "nbformat_minor": 4
}
