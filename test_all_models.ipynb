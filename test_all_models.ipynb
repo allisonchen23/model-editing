{
 "cells": [
  {
   "cell_type": "markdown",
   "metadata": {},
   "source": [
    "# Run all pretrained models on test set"
   ]
  },
  {
   "cell_type": "markdown",
   "metadata": {},
   "source": []
  },
  {
   "cell_type": "code",
   "execution_count": 1,
   "metadata": {},
   "outputs": [],
   "source": [
    "# Global imports\n",
    "import os\n",
    "import json\n",
    "import sys\n",
    "sys.path.insert(0, 'src')"
   ]
  },
  {
   "cell_type": "code",
   "execution_count": 2,
   "metadata": {},
   "outputs": [],
   "source": [
    "# Local imports\n",
    "from utils.util import read_json, informal_log\n",
    "from test import main as test_fn\n",
    "from parse_config import ConfigParser\n",
    "from data_loader import data_loaders"
   ]
  },
  {
   "cell_type": "code",
   "execution_count": 3,
   "metadata": {},
   "outputs": [
    {
     "name": "stdout",
     "output_type": "stream",
     "text": [
      "OrderedDict([('name', 'CINIC10_ImageNet-'), ('n_gpu', 1), ('method', 'test'), ('arch', OrderedDict([('type', 'CIFAR10PretrainedModel'), ('args', OrderedDict([('type', '{}'), ('checkpoint_path', 'external_code/PyTorch_CIFAR10/cifar10_models/state_dicts/{}.pt')]))])), ('data_loader', OrderedDict([('type', 'CINIC10DataLoader'), ('args', OrderedDict([('data_dir', 'data/cinic-10-imagenet'), ('batch_size', 256), ('shuffle', False), ('normalize', True), ('means', [0.4914, 0.4822, 0.4465]), ('stds', [0.2471, 0.2435, 0.2616]), ('num_workers', 8)]))])), ('loss', 'cross_entropy'), ('metrics', ['accuracy', 'per_class_accuracy']), ('trainer', OrderedDict([('epochs', 10), ('save_dir', 'saved/test/pretrained_test_results'), ('save_period', 1), ('verbosity', 2), ('monitor', 'min val_loss'), ('early_stop', 10), ('tensorboard', True)]))])\n"
     ]
    }
   ],
   "source": [
    "architectures = [\n",
    "    \"vgg11_bn\",\n",
    "    \"vgg13_bn\",\n",
    "    \"vgg16_bn\",\n",
    "    \"vgg19_bn\",\n",
    "    \"resnet18\",\n",
    "    \"resnet34\",\n",
    "    \"resnet50\",\n",
    "    \"densenet121\",\n",
    "    \"densenet161\",\n",
    "    \"densenet169\",\n",
    "    \"mobilenet_v2\",\n",
    "    \"googlenet\",\n",
    "    \"inception_v3\"]\n",
    "\n",
    "\n",
    "config_path = 'configs/cinic10_imagenet_test_pretrained.json'\n",
    "config_dict = read_json(config_path)\n",
    "summary_filename = 'pretrained_test_summary.txt'\n",
    "print(config_dict)"
   ]
  },
  {
   "cell_type": "code",
   "execution_count": 4,
   "metadata": {},
   "outputs": [],
   "source": [
    "# Initialize data loaders\n",
    "data_loader_args = dict(config_dict[\"data_loader\"][\"args\"])\n",
    "test_data_loader = data_loaders.CINIC10DataLoader(\n",
    "    **data_loader_args,\n",
    "    split='test')"
   ]
  },
  {
   "cell_type": "code",
   "execution_count": null,
   "metadata": {},
   "outputs": [
    {
     "name": "stdout",
     "output_type": "stream",
     "text": [
      "Test data path: data/cinic-10-imagenet/test\n",
      "Test results for vgg11_bn...\n",
      "Restoring checkpoint from external_code/PyTorch_CIFAR10/cifar10_models/state_dicts/vgg11_bn.pt\n",
      "Created CIFAR10PretrainedModel model with 28149514 trainable parameters\n",
      "Restored weights from external_code/PyTorch_CIFAR10/cifar10_models/state_dicts/vgg11_bn.pt\n"
     ]
    },
    {
     "name": "stderr",
     "output_type": "stream",
     "text": [
      "100%|██████████████████████████████████████████████████████████████████████████████████████| 274/274 [00:32<00:00,  8.44it/s]"
     ]
    },
    {
     "name": "stdout",
     "output_type": "stream",
     "text": [
      "loss: 1.2263795137405396\n",
      "accuracy: 0.6689\n",
      "per_class_accuracy: [0.87414286 0.71385714 0.64171429 0.49014286 0.61457143 0.41042857\n",
      " 0.83485714 0.73757143 0.67085714 0.70085714]\n"
     ]
    },
    {
     "name": "stderr",
     "output_type": "stream",
     "text": [
      "\n"
     ]
    },
    {
     "name": "stdout",
     "output_type": "stream",
     "text": [
      "Test results:\n",
      "{'loss': 1.2263795137405396, 'accuracy': 0.6689, 'per_class_accuracy': array([0.87414286, 0.71385714, 0.64171429, 0.49014286, 0.61457143,\n",
      "       0.41042857, 0.83485714, 0.73757143, 0.67085714, 0.70085714])}\n",
      "\n",
      "---***---\n",
      "\n",
      "Test results for vgg13_bn...\n",
      "Restoring checkpoint from external_code/PyTorch_CIFAR10/cifar10_models/state_dicts/vgg13_bn.pt\n",
      "Created CIFAR10PretrainedModel model with 28334410 trainable parameters\n",
      "Restored weights from external_code/PyTorch_CIFAR10/cifar10_models/state_dicts/vgg13_bn.pt\n"
     ]
    },
    {
     "name": "stderr",
     "output_type": "stream",
     "text": [
      "100%|██████████████████████████████████████████████████████████████████████████████████████| 274/274 [00:20<00:00, 13.69it/s]"
     ]
    },
    {
     "name": "stdout",
     "output_type": "stream",
     "text": [
      "loss: 1.143392562866211\n",
      "accuracy: 0.6877571428571428\n",
      "per_class_accuracy: [0.88285714 0.75514286 0.72271429 0.555      0.60414286 0.41685714\n",
      " 0.82442857 0.73414286 0.69185714 0.69042857]\n",
      "Test results:\n",
      "{'loss': 1.143392562866211, 'accuracy': 0.6877571428571428, 'per_class_accuracy': array([0.88285714, 0.75514286, 0.72271429, 0.555     , 0.60414286,\n",
      "       0.41685714, 0.82442857, 0.73414286, 0.69185714, 0.69042857])}\n",
      "\n",
      "---***---\n",
      "\n",
      "Test results for vgg16_bn...\n",
      "Restoring checkpoint from external_code/PyTorch_CIFAR10/cifar10_models/state_dicts/vgg16_bn.pt\n"
     ]
    },
    {
     "name": "stderr",
     "output_type": "stream",
     "text": [
      "\n"
     ]
    },
    {
     "name": "stdout",
     "output_type": "stream",
     "text": [
      "Created CIFAR10PretrainedModel model with 33646666 trainable parameters\n",
      "Restored weights from external_code/PyTorch_CIFAR10/cifar10_models/state_dicts/vgg16_bn.pt\n"
     ]
    },
    {
     "name": "stderr",
     "output_type": "stream",
     "text": [
      "100%|██████████████████████████████████████████████████████████████████████████████████████| 274/274 [00:23<00:00, 11.42it/s]"
     ]
    },
    {
     "name": "stdout",
     "output_type": "stream",
     "text": [
      "loss: 1.2516571283340454\n",
      "accuracy: 0.6838285714285715\n",
      "per_class_accuracy: [0.87914286 0.75428571 0.73328571 0.54942857 0.60214286 0.40914286\n",
      " 0.809      0.73971429 0.68628571 0.67585714]\n",
      "Test results:\n",
      "{'loss': 1.2516571283340454, 'accuracy': 0.6838285714285715, 'per_class_accuracy': array([0.87914286, 0.75428571, 0.73328571, 0.54942857, 0.60214286,\n",
      "       0.40914286, 0.809     , 0.73971429, 0.68628571, 0.67585714])}\n",
      "\n",
      "---***---\n",
      "\n",
      "Test results for vgg19_bn...\n",
      "Restoring checkpoint from external_code/PyTorch_CIFAR10/cifar10_models/state_dicts/vgg19_bn.pt\n"
     ]
    },
    {
     "name": "stderr",
     "output_type": "stream",
     "text": [
      "\n"
     ]
    },
    {
     "name": "stdout",
     "output_type": "stream",
     "text": [
      "Created CIFAR10PretrainedModel model with 38958922 trainable parameters\n",
      "Restored weights from external_code/PyTorch_CIFAR10/cifar10_models/state_dicts/vgg19_bn.pt\n"
     ]
    },
    {
     "name": "stderr",
     "output_type": "stream",
     "text": [
      "100%|██████████████████████████████████████████████████████████████████████████████████████| 274/274 [00:21<00:00, 12.67it/s]"
     ]
    },
    {
     "name": "stdout",
     "output_type": "stream",
     "text": [
      "loss: 1.3410639762878418\n",
      "accuracy: 0.6821571428571429\n",
      "per_class_accuracy: [0.865      0.70714286 0.70814286 0.55714286 0.60471429 0.41742857\n",
      " 0.81571429 0.72828571 0.68214286 0.73585714]\n",
      "Test results:\n",
      "{'loss': 1.3410639762878418, 'accuracy': 0.6821571428571429, 'per_class_accuracy': array([0.865     , 0.70714286, 0.70814286, 0.55714286, 0.60471429,\n",
      "       0.41742857, 0.81571429, 0.72828571, 0.68214286, 0.73585714])}\n",
      "\n",
      "---***---\n",
      "\n",
      "Test results for resnet18...\n",
      "Restoring checkpoint from external_code/PyTorch_CIFAR10/cifar10_models/state_dicts/resnet18.pt\n"
     ]
    },
    {
     "name": "stderr",
     "output_type": "stream",
     "text": [
      "\n"
     ]
    },
    {
     "name": "stdout",
     "output_type": "stream",
     "text": [
      "Created CIFAR10PretrainedModel model with 11173962 trainable parameters\n",
      "Restored weights from external_code/PyTorch_CIFAR10/cifar10_models/state_dicts/resnet18.pt\n"
     ]
    },
    {
     "name": "stderr",
     "output_type": "stream",
     "text": [
      " 41%|███████████████████████████████████▏                                                  | 112/274 [00:11<00:11, 14.65it/s]"
     ]
    }
   ],
   "source": [
    "summary_file_path = os.path.join(\n",
    "        config_dict[\"trainer\"][\"save_dir\"], \n",
    "        summary_filename)\n",
    "\n",
    "informal_log(\"Test data path: {}\".format(test_data_loader.get_data_dir()))\n",
    "# Iterate over architectures\n",
    "for architecture in architectures:\n",
    "    # Read in config file fresh\n",
    "    config_dict = read_json(config_path)\n",
    "\n",
    "    config_dict.update({\"name\": \"CINIC10_ImageNet-{}\".format(architecture)})\n",
    "    \n",
    "    for key, value in config_dict[\"arch\"][\"args\"].items():\n",
    "        config_dict[\"arch\"][\"args\"].update({key: value.format(architecture)})\n",
    "    \n",
    "    informal_log(\"Test results for {}...\".format(architecture), summary_file_path)\n",
    "        \n",
    "    # Update model architecture information\n",
    "    for key, value in config_dict[\"arch\"][\"args\"].items():\n",
    "        config_dict[\"arch\"][\"args\"].update({key: value.format(architecture)})    \n",
    "    \n",
    "    \n",
    "    # Log checkpoint path\n",
    "    informal_log(\"Restoring checkpoint from {}\".format(config_dict[\"arch\"][\"args\"][\"checkpoint_path\"]), summary_file_path)\n",
    "    # Run checkpoint on test set\n",
    "    config_test = ConfigParser(config_dict)\n",
    "    test_results = test_fn(config_test, test_data_loader=test_data_loader)\n",
    "    \n",
    "    informal_log(\"Test results:\\n{}\".format(test_results), summary_file_path)\n",
    "    informal_log(\"\\n---***---\\n\", summary_file_path)\n"
   ]
  },
  {
   "cell_type": "code",
   "execution_count": 10,
   "metadata": {},
   "outputs": [
    {
     "name": "stdout",
     "output_type": "stream",
     "text": [
      "['vgg11_bn']\n"
     ]
    }
   ],
   "source": [
    "# print stuff\n",
    "print(architectures)"
   ]
  },
  {
   "cell_type": "code",
   "execution_count": null,
   "metadata": {},
   "outputs": [],
   "source": []
  }
 ],
 "metadata": {
  "kernelspec": {
   "display_name": "Python 3 (ipykernel)",
   "language": "python",
   "name": "python3"
  },
  "language_info": {
   "codemirror_mode": {
    "name": "ipython",
    "version": 3
   },
   "file_extension": ".py",
   "mimetype": "text/x-python",
   "name": "python",
   "nbconvert_exporter": "python",
   "pygments_lexer": "ipython3",
   "version": "3.8.13"
  },
  "vscode": {
   "interpreter": {
    "hash": "308e6c6b8b936526d9e5740fbb6d189809c67403351ef790dfc7ad94346820d6"
   }
  }
 },
 "nbformat": 4,
 "nbformat_minor": 4
}
