{
 "cells": [
  {
   "cell_type": "markdown",
   "metadata": {},
   "source": [
    "## Provide list of paths for edits and run trials -> (maybe analyze results and add to CSV)"
   ]
  },
  {
   "cell_type": "code",
   "execution_count": 1,
   "metadata": {},
   "outputs": [],
   "source": [
    "# General imports\n",
    "import torch\n",
    "import numpy as np\n",
    "import os, sys\n",
    "import json\n",
    "from tqdm import tqdm\n",
    "from datetime import datetime\n",
    "import pandas as pd"
   ]
  },
  {
   "cell_type": "code",
   "execution_count": 12,
   "metadata": {},
   "outputs": [],
   "source": [
    "# Local imports\n",
    "sys.path.insert(0, 'src')\n",
    "from utils import read_json, read_lists, informal_log, list_to_dict, write_lists, write_json\n",
    "from utils.model_utils import prepare_device\n",
    "from parse_config import ConfigParser\n",
    "# from data_loader import data_loaders\n",
    "import datasets.datasets as module_data\n",
    "import model.model as module_arch\n",
    "from utils.knn_utils import load_and_analyze_knn\n",
    "from utils.results_to_csv import store_csv\n",
    "import model.loss as module_loss\n",
    "import model.metric as module_metric\n",
    "from edit_enn import main as edit\n",
    "from test import predict"
   ]
  },
  {
   "cell_type": "code",
   "execution_count": 4,
   "metadata": {},
   "outputs": [],
   "source": [
    "# Obtain timestamp\n",
    "paths_timestamp = '0126_161209'\n",
    "timestamp = datetime.now().strftime(r'%m%d_%H%M%S')\n",
    "# timestamp = '0120_155829'"
   ]
  },
  {
   "cell_type": "code",
   "execution_count": 5,
   "metadata": {},
   "outputs": [],
   "source": [
    "# Define variables\n",
    "target_class_name = 'airplane'\n",
    "n_select = 100\n",
    "paths_dir = os.path.join('paths', 'edits', 'semantics', '{}_{}'.format(target_class_name, n_select), paths_timestamp)\n"
   ]
  },
  {
   "cell_type": "code",
   "execution_count": 6,
   "metadata": {},
   "outputs": [],
   "source": [
    "# Define constants, paths\n",
    "config_path = 'configs/enn/cinic10_imagenet_enn_dataset_scratch.json'\n",
    "class_list_path = 'metadata/cinic-10/class_names.txt'\n",
    "\n",
    "# analyze_in_edit = True\n",
    "# sort_type = 'softmax'\n",
    "\n",
    "# key_image_paths_path = os.path.join(paths_dir, 'key_images_{}.txt'.format(sort_type))\n",
    "# key_image_paths = read_lists(key_image_paths_path)\n",
    "\n",
    "# value_image_paths_path = os.path.join(paths_dir, 'value_images_{}.txt'.format(sort_type))\n",
    "# value_image_paths = read_lists(value_image_paths_path)\n",
    "# n_trials = len(value_image_paths)\n",
    "# assert len(key_image_paths) == n_trials\n",
    "\n",
    "# print(\"{} edit image pairs\".format(n_trials))\n",
    "# print(\"First key image path: {}\".format(key_image_paths[0]))\n",
    "# print(\"First value image path: {}\".format(value_image_paths[0]))"
   ]
  },
  {
   "cell_type": "code",
   "execution_count": 7,
   "metadata": {},
   "outputs": [],
   "source": [
    "# Load config file\n",
    "config_dict = read_json(config_path)\n",
    "# Load class list and obtain target class idx\n",
    "class_list = read_lists(class_list_path)\n",
    "class_idx_dict = list_to_dict(class_list)\n",
    "target_class_idx = class_idx_dict[target_class_name]\n",
    "\n",
    "# Set K\n",
    "K = config_dict['editor']['K']\n",
    "\n",
    "device, device_ids = prepare_device(config_dict['n_gpu'])"
   ]
  },
  {
   "cell_type": "code",
   "execution_count": 8,
   "metadata": {},
   "outputs": [],
   "source": [
    "# Load datasets\n",
    "data_loader_args = dict(config_dict[\"data_loader\"][\"args\"])\n",
    "dataset_args = dict(config_dict[\"dataset_args\"])\n",
    "\n",
    "# Create validation data loader\n",
    "val_image_paths = read_lists(config_dict['dataset_paths']['valid_images'])\n",
    "val_labels = read_lists(config_dict['dataset_paths']['valid_labels'])\n",
    "val_paths_data_loader = torch.utils.data.DataLoader(\n",
    "    module_data.CINIC10Dataset(\n",
    "        data_dir=\"\",\n",
    "        image_paths=val_image_paths,\n",
    "        labels=val_labels,\n",
    "        return_paths=True,\n",
    "        **dataset_args\n",
    "    ),\n",
    "    **data_loader_args\n",
    ")\n",
    "\n",
    "# Create data loader for covariance matrix\n",
    "covariance_image_paths = read_lists(config_dict['covariance_dataset']['images'])\n",
    "covariance_labels = read_lists(config_dict['covariance_dataset']['labels'])\n",
    "\n",
    "covariance_data_loader = torch.utils.data.DataLoader(\n",
    "    module_data.CINIC10Dataset(\n",
    "        data_dir=\"\",\n",
    "        image_paths=covariance_image_paths,\n",
    "        labels=covariance_labels,\n",
    "        **dataset_args\n",
    "    ),\n",
    "    **data_loader_args\n",
    ")"
   ]
  },
  {
   "cell_type": "markdown",
   "metadata": {},
   "source": [
    "### Create log and save paths"
   ]
  },
  {
   "cell_type": "code",
   "execution_count": 9,
   "metadata": {},
   "outputs": [
    {
     "name": "stdout",
     "output_type": "stream",
     "text": [
      "Saving path to directories for each trial to saved/enn/debug/CINIC10_ImageNet-VGG_16/0223_160006/trial_paths.txt\n",
      "Printing progress reports to saved/enn/debug/CINIC10_ImageNet-VGG_16/0223_160006/progress_report.txt\n"
     ]
    }
   ],
   "source": [
    "# create log path to store the paths to each trial\n",
    "save_root = config_dict['trainer']['save_dir']\n",
    "save_trials_path = os.path.join(save_root, config_dict['name'], timestamp, 'trial_paths.txt')\n",
    "progress_report_path = os.path.join(save_root, config_dict['name'], timestamp, 'progress_report.txt')\n",
    "if os.path.exists(save_trials_path):\n",
    "    # os.remove(save_trials_path)\n",
    "    print(\"Path {} already exists. Aborting.\".format(save_trials_path))\n",
    "else:\n",
    "    # progress_report_path = os.path.join(save_root, config_dict['name'], timestamp, 'progress_report.txt')\n",
    "    if os.path.exists(progress_report_path):\n",
    "        os.remove(progress_report_path)\n",
    "    print(\"Saving path to directories for each trial to {}\".format(save_trials_path))\n",
    "    print(\"Printing progress reports to {}\".format(progress_report_path))"
   ]
  },
  {
   "cell_type": "markdown",
   "metadata": {},
   "source": [
    "### Run model on validation"
   ]
  },
  {
   "cell_type": "code",
   "execution_count": 13,
   "metadata": {},
   "outputs": [
    {
     "ename": "NameError",
     "evalue": "name 'config' is not defined",
     "output_type": "error",
     "traceback": [
      "\u001b[0;31m---------------------------------------------------------------------------\u001b[0m",
      "\u001b[0;31mNameError\u001b[0m                                 Traceback (most recent call last)",
      "Cell \u001b[0;32mIn [13], line 1\u001b[0m\n\u001b[0;32m----> 1\u001b[0m loss_fn \u001b[38;5;241m=\u001b[39m \u001b[38;5;28mgetattr\u001b[39m(module_loss, \u001b[43mconfig\u001b[49m[\u001b[38;5;124m'\u001b[39m\u001b[38;5;124mloss\u001b[39m\u001b[38;5;124m'\u001b[39m])\n\u001b[1;32m      2\u001b[0m metric_fns \u001b[38;5;241m=\u001b[39m [\u001b[38;5;28mgetattr\u001b[39m(module_metric, met) \u001b[38;5;28;01mfor\u001b[39;00m met \u001b[38;5;129;01min\u001b[39;00m config[\u001b[38;5;124m'\u001b[39m\u001b[38;5;124mmetrics\u001b[39m\u001b[38;5;124m'\u001b[39m]]\n\u001b[1;32m      3\u001b[0m logits_save_path \u001b[38;5;241m=\u001b[39m os\u001b[38;5;241m.\u001b[39mpath\u001b[38;5;241m.\u001b[39mjoin(save_root, config_dict[\u001b[38;5;124m'\u001b[39m\u001b[38;5;124mname\u001b[39m\u001b[38;5;124m'\u001b[39m], timestamp, \u001b[38;5;124m'\u001b[39m\u001b[38;5;124mval_logits.pth\u001b[39m\u001b[38;5;124m'\u001b[39m)\n",
      "\u001b[0;31mNameError\u001b[0m: name 'config' is not defined"
     ]
    }
   ],
   "source": [
    "loss_fn = getattr(module_loss, config['loss'])\n",
    "metric_fns = [getattr(module_metric, met) for met in config['metrics']]\n",
    "logits_save_path = os.path.join(save_root, config_dict['name'], timestamp, 'val_logits.pth')\n",
    "metrics_save_path = os.path.join(save_root, config_dict['name'], timestamp, 'val_metrics.pth')\n",
    "\n",
    "log = predict(\n",
    "    data_loader=val_data_loader,\n",
    "    model=model,\n",
    "    loss_fn=loss_fn,\n",
    "    metric_fns=metrics_fns,\n",
    "    device=device,\n",
    "    output_save_path=logits_save_path,\n",
    "    log_save_path=log_save_path)"
   ]
  },
  {
   "cell_type": "markdown",
   "metadata": {},
   "source": [
    "## Run edit for each modified image"
   ]
  },
  {
   "cell_type": "code",
   "execution_count": null,
   "metadata": {
    "scrolled": true,
    "tags": []
   },
   "outputs": [],
   "source": [
    "for idx, (key_path, value_path) in enumerate(zip(key_image_paths, value_image_paths)):\n",
    "    split = os.path.basename(os.path.dirname(os.path.dirname(key_path)))\n",
    "    class_name = os.path.basename(os.path.dirname(key_path))\n",
    "    file_name = os.path.basename(key_path).split(\".\")[0]\n",
    "    key_image_id = \"{}-{}-{}\".format(class_name, split, file_name)\n",
    "    # Print Progress\n",
    "    informal_log(\"({}) Starting Trial {}/{}...\".format(datetime.now().strftime(r'%m%d_%H%M%S'), idx + 1, n_trials), progress_report_path)\n",
    "    \n",
    "    # Create run id \n",
    "    value_image_id = os.path.splitext(os.path.basename(value_path))[0]\n",
    "    run_id = os.path.join(timestamp, 'results', key_image_id, value_image_id)\n",
    "    informal_log(\"Current run_id: {}\".format(run_id), progress_report_path)\n",
    "    \n",
    "    # Read config file as json and make updates to key and value paths\n",
    "    config_dict = read_json(config_path)\n",
    "    config_dict['editor'].update({\n",
    "        'key_image_path': key_path,\n",
    "        'value_image_path': value_path\n",
    "    })\n",
    "    \n",
    "    # Create config object\n",
    "    config = ConfigParser(config_dict, run_id=run_id)\n",
    "    \n",
    "    # Log the current trial path\n",
    "    informal_log(os.path.dirname(config.save_dir), save_trials_path)\n",
    "    \n",
    "    informal_log(\"Calling edit()...\", progress_report_path)\n",
    "    \n",
    "    edit(\n",
    "        config=config,\n",
    "        val_paths_data_loader=val_paths_data_loader,\n",
    "        covariance_data_loader=covariance_data_loader,\n",
    "        do_analyze_knn=analyze_in_edit)\n",
    "    \n",
    "    # Print progress\n",
    "    informal_log(\"Finished trial {}/{}. Results saved to {}\".format(idx + 1, n_trials, os.path.dirname(config.save_dir)),\n",
    "                progress_report_path)\n"
   ]
  },
  {
   "cell_type": "code",
   "execution_count": null,
   "metadata": {},
   "outputs": [],
   "source": [
    "save_trials_path = 'saved/edit/trials/CINIC10_ImageNet-VGG_16/0125_114341/trial_paths.txt'\n",
    "trial_dirs = read_lists(save_trials_path)\n",
    "knn_analysis_filename = 'knn_analysis_results.pth'"
   ]
  },
  {
   "cell_type": "code",
   "execution_count": null,
   "metadata": {},
   "outputs": [],
   "source": [
    "try:\n",
    "    if not os.path.exists(save_trials_path):\n",
    "        print(\"Path {} does not exist\".format(save_trials_path))\n",
    "    else:\n",
    "        print(\"Obtaining trial paths from {}\".format(save_trials_path))\n",
    "except:\n",
    "    print(\"Need to define save_trials_path.\")\n",
    "\n"
   ]
  },
  {
   "cell_type": "markdown",
   "metadata": {},
   "source": [
    "## Analyze KNN"
   ]
  },
  {
   "cell_type": "code",
   "execution_count": null,
   "metadata": {},
   "outputs": [],
   "source": [
    "## Process KNN results for each\n",
    "n_trials = len(trial_dirs)\n",
    "n_log = n_trials // 10 + 1  # log every 10%\n",
    "progress_report_path = os.path.join(os.path.dirname(save_trials_path), 'progress_report_analysis.txt')\n",
    "\n",
    "informal_log(\"Starting KNN analysis...\", progress_report_path)\n",
    "for trial_idx, trial_dir in tqdm(enumerate(trial_dirs)):\n",
    "    # if trial_idx % n_log == 0:\n",
    "    informal_log(\"Processing {}/{} trials. Currently processing {}\".format(\n",
    "        trial_idx+1, n_trials, os.path.basename(trial_dir)), progress_report_path)\n",
    "                     \n",
    "    results_save_dir = os.path.join(trial_dir, 'models')\n",
    "    load_and_analyze_knn(\n",
    "        restore_dir=results_save_dir,\n",
    "        pre_edit_knn_path=os.path.join(results_save_dir, 'pre_edit_{}-nn.pth'.format(K)),\n",
    "        post_edit_knn_path=os.path.join(results_save_dir, 'post_edit_{}-nn.pth'.format(K)),\n",
    "        knn_analysis_filename=knn_analysis_filename,\n",
    "        target_class_idx=target_class_idx,\n",
    "        class_list=class_list,\n",
    "        progress_report_path=progress_report_path,\n",
    "        save_images=False,\n",
    "        save_plots=True)\n",
    "    \n"
   ]
  },
  {
   "cell_type": "markdown",
   "metadata": {},
   "source": [
    "## Convert to CSV for all trials"
   ]
  },
  {
   "cell_type": "code",
   "execution_count": null,
   "metadata": {},
   "outputs": [],
   "source": [
    "csv_save_path = os.path.join(os.path.dirname(save_trials_path), 'results_table.csv')\n",
    "store_csv(\n",
    "    trial_dirs=trial_dirs,\n",
    "    class_list=class_list,\n",
    "    save_path=csv_save_path)\n"
   ]
  },
  {
   "cell_type": "code",
   "execution_count": null,
   "metadata": {},
   "outputs": [],
   "source": []
  }
 ],
 "metadata": {
  "kernelspec": {
   "display_name": "editing",
   "language": "python",
   "name": "editing"
  },
  "language_info": {
   "codemirror_mode": {
    "name": "ipython",
    "version": 3
   },
   "file_extension": ".py",
   "mimetype": "text/x-python",
   "name": "python",
   "nbconvert_exporter": "python",
   "pygments_lexer": "ipython3",
   "version": "3.8.13"
  }
 },
 "nbformat": 4,
 "nbformat_minor": 4
}
