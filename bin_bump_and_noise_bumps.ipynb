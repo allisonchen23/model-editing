{
 "cells": [
  {
   "cell_type": "markdown",
   "metadata": {},
   "source": [
    "## Create Edits that match post edit class distribution of target class to real edits"
   ]
  },
  {
   "cell_type": "code",
   "execution_count": 2,
   "metadata": {},
   "outputs": [],
   "source": [
    "# General imports\n",
    "import torch\n",
    "import numpy as np\n",
    "import os, sys\n",
    "import json\n",
    "from tqdm import tqdm\n",
    "import matplotlib.pyplot as plt\n",
    "import math\n",
    "from datetime import datetime"
   ]
  },
  {
   "cell_type": "code",
   "execution_count": 4,
   "metadata": {},
   "outputs": [],
   "source": [
    "# Local imports\n",
    "sys.path.insert(0, 'src')\n",
    "from utils import read_json, read_lists, list_to_dict, ensure_dir, informal_log, write_lists\n",
    "from utils.df_utils import load_and_preprocess_csv\n",
    "from utils.visualizations import histogram\n",
    "from utils.model_utils import prepare_device, quick_predict\n",
    "from parse_config import ConfigParser\n",
    "from test import predict, predict_with_bump\n",
    "import datasets.datasets as module_data\n",
    "import model.model as module_arch\n",
    "import model.metric as module_metric\n",
    "import model.loss as module_loss\n",
    "from trainer.editor import get_editor"
   ]
  },
  {
   "cell_type": "code",
   "execution_count": 19,
   "metadata": {},
   "outputs": [],
   "source": [
    "# Define constants, paths\n",
    "class_list_path = os.path.join('metadata', 'cinic-10', 'class_names.txt')\n",
    "\n",
    "# config_path = 'configs/copies/edit_experiments/cinic10_imagenet_bump_noise.json'\n",
    "config_path = 'configs/eac/edit_experiments/cinic10_imagenet_bump.json'"
   ]
  },
  {
   "cell_type": "code",
   "execution_count": 20,
   "metadata": {},
   "outputs": [],
   "source": [
    "# Load config file, models, and dataloader\n",
    "class_list = read_lists(class_list_path)\n",
    "class_idx_dict = list_to_dict(class_list)\n",
    "\n",
    "config_dict = read_json(config_path)\n",
    "config = ConfigParser(config_dict)\n",
    "device, device_ids = prepare_device(config_dict['n_gpu'])"
   ]
  },
  {
   "cell_type": "code",
   "execution_count": 9,
   "metadata": {
    "scrolled": true,
    "tags": []
   },
   "outputs": [
    {
     "data": {
      "text/plain": [
       "ModelWrapperSanturkar(\n",
       "  (model): VGG(\n",
       "    (normalize): InputNormalize()\n",
       "    (layer0): Sequential(\n",
       "      (conv): Conv2d(3, 64, kernel_size=(3, 3), stride=(1, 1), padding=(1, 1))\n",
       "      (bn): BatchNorm2d(64, eps=1e-05, momentum=0.1, affine=True, track_running_stats=True)\n",
       "      (relu): ReLU()\n",
       "    )\n",
       "    (layer1): Sequential(\n",
       "      (conv): Conv2d(64, 64, kernel_size=(3, 3), stride=(1, 1), padding=(1, 1))\n",
       "      (bn): BatchNorm2d(64, eps=1e-05, momentum=0.1, affine=True, track_running_stats=True)\n",
       "      (relu): ReLU()\n",
       "      (maxpool): MaxPool2d(kernel_size=2, stride=2, padding=0, dilation=1, ceil_mode=False)\n",
       "    )\n",
       "    (layer2): Sequential(\n",
       "      (conv): Conv2d(64, 128, kernel_size=(3, 3), stride=(1, 1), padding=(1, 1))\n",
       "      (bn): BatchNorm2d(128, eps=1e-05, momentum=0.1, affine=True, track_running_stats=True)\n",
       "      (relu): ReLU()\n",
       "    )\n",
       "    (layer3): Sequential(\n",
       "      (conv): Conv2d(128, 128, kernel_size=(3, 3), stride=(1, 1), padding=(1, 1))\n",
       "      (bn): BatchNorm2d(128, eps=1e-05, momentum=0.1, affine=True, track_running_stats=True)\n",
       "      (relu): ReLU()\n",
       "      (maxpool): MaxPool2d(kernel_size=2, stride=2, padding=0, dilation=1, ceil_mode=False)\n",
       "    )\n",
       "    (layer4): Sequential(\n",
       "      (conv): Conv2d(128, 256, kernel_size=(3, 3), stride=(1, 1), padding=(1, 1))\n",
       "      (bn): BatchNorm2d(256, eps=1e-05, momentum=0.1, affine=True, track_running_stats=True)\n",
       "      (relu): ReLU()\n",
       "    )\n",
       "    (layer5): Sequential(\n",
       "      (conv): Conv2d(256, 256, kernel_size=(3, 3), stride=(1, 1), padding=(1, 1))\n",
       "      (bn): BatchNorm2d(256, eps=1e-05, momentum=0.1, affine=True, track_running_stats=True)\n",
       "      (relu): ReLU()\n",
       "    )\n",
       "    (layer6): Sequential(\n",
       "      (conv): Conv2d(256, 256, kernel_size=(3, 3), stride=(1, 1), padding=(1, 1))\n",
       "      (bn): BatchNorm2d(256, eps=1e-05, momentum=0.1, affine=True, track_running_stats=True)\n",
       "      (relu): ReLU()\n",
       "      (maxpool): MaxPool2d(kernel_size=2, stride=2, padding=0, dilation=1, ceil_mode=False)\n",
       "    )\n",
       "    (layer7): Sequential(\n",
       "      (conv): Conv2d(256, 512, kernel_size=(3, 3), stride=(1, 1), padding=(1, 1))\n",
       "      (bn): BatchNorm2d(512, eps=1e-05, momentum=0.1, affine=True, track_running_stats=True)\n",
       "      (relu): ReLU()\n",
       "    )\n",
       "    (layer8): Sequential(\n",
       "      (conv): Conv2d(512, 512, kernel_size=(3, 3), stride=(1, 1), padding=(1, 1))\n",
       "      (bn): BatchNorm2d(512, eps=1e-05, momentum=0.1, affine=True, track_running_stats=True)\n",
       "      (relu): ReLU()\n",
       "    )\n",
       "    (layer9): Sequential(\n",
       "      (conv): Conv2d(512, 512, kernel_size=(3, 3), stride=(1, 1), padding=(1, 1))\n",
       "      (bn): BatchNorm2d(512, eps=1e-05, momentum=0.1, affine=True, track_running_stats=True)\n",
       "      (relu): ReLU()\n",
       "      (maxpool): MaxPool2d(kernel_size=2, stride=2, padding=0, dilation=1, ceil_mode=False)\n",
       "    )\n",
       "    (layer10): Sequential(\n",
       "      (conv): Conv2d(512, 512, kernel_size=(3, 3), stride=(1, 1), padding=(1, 1))\n",
       "      (bn): BatchNorm2d(512, eps=1e-05, momentum=0.1, affine=True, track_running_stats=True)\n",
       "      (relu): ReLU()\n",
       "    )\n",
       "    (layer11): Sequential(\n",
       "      (conv): Conv2d(512, 512, kernel_size=(3, 3), stride=(1, 1), padding=(1, 1))\n",
       "      (bn): BatchNorm2d(512, eps=1e-05, momentum=0.1, affine=True, track_running_stats=True)\n",
       "      (relu): ReLU()\n",
       "    )\n",
       "    (layer12): Sequential(\n",
       "      (conv): Conv2d(512, 512, kernel_size=(3, 3), stride=(1, 1), padding=(1, 1))\n",
       "      (bn): BatchNorm2d(512, eps=1e-05, momentum=0.1, affine=True, track_running_stats=True)\n",
       "      (relu): ReLU()\n",
       "      (maxpool): MaxPool2d(kernel_size=2, stride=2, padding=0, dilation=1, ceil_mode=False)\n",
       "    )\n",
       "    (avgpool): AdaptiveAvgPool2d(output_size=[1, 1])\n",
       "    (flatten): Flatten()\n",
       "    (classifier): Sequential(\n",
       "      (0): Linear(in_features=512, out_features=4096, bias=True)\n",
       "      (1): ReLU()\n",
       "      (2): Dropout(p=0.5, inplace=False)\n",
       "      (3): Linear(in_features=4096, out_features=4096, bias=True)\n",
       "      (4): ReLU()\n",
       "      (5): Dropout(p=0.5, inplace=False)\n",
       "      (6): Linear(in_features=4096, out_features=10, bias=True)\n",
       "    )\n",
       "  )\n",
       "  (context_model): VGG(\n",
       "    (normalize): InputNormalize()\n",
       "    (layer0): Sequential(\n",
       "      (conv): Conv2d(3, 64, kernel_size=(3, 3), stride=(1, 1), padding=(1, 1))\n",
       "      (bn): BatchNorm2d(64, eps=1e-05, momentum=0.1, affine=True, track_running_stats=True)\n",
       "      (relu): ReLU()\n",
       "    )\n",
       "    (layer1): Sequential(\n",
       "      (conv): Conv2d(64, 64, kernel_size=(3, 3), stride=(1, 1), padding=(1, 1))\n",
       "      (bn): BatchNorm2d(64, eps=1e-05, momentum=0.1, affine=True, track_running_stats=True)\n",
       "      (relu): ReLU()\n",
       "      (maxpool): MaxPool2d(kernel_size=2, stride=2, padding=0, dilation=1, ceil_mode=False)\n",
       "    )\n",
       "    (layer2): Sequential(\n",
       "      (conv): Conv2d(64, 128, kernel_size=(3, 3), stride=(1, 1), padding=(1, 1))\n",
       "      (bn): BatchNorm2d(128, eps=1e-05, momentum=0.1, affine=True, track_running_stats=True)\n",
       "      (relu): ReLU()\n",
       "    )\n",
       "    (layer3): Sequential(\n",
       "      (conv): Conv2d(128, 128, kernel_size=(3, 3), stride=(1, 1), padding=(1, 1))\n",
       "      (bn): BatchNorm2d(128, eps=1e-05, momentum=0.1, affine=True, track_running_stats=True)\n",
       "      (relu): ReLU()\n",
       "      (maxpool): MaxPool2d(kernel_size=2, stride=2, padding=0, dilation=1, ceil_mode=False)\n",
       "    )\n",
       "    (layer4): Sequential(\n",
       "      (conv): Conv2d(128, 256, kernel_size=(3, 3), stride=(1, 1), padding=(1, 1))\n",
       "      (bn): BatchNorm2d(256, eps=1e-05, momentum=0.1, affine=True, track_running_stats=True)\n",
       "      (relu): ReLU()\n",
       "    )\n",
       "    (layer5): Sequential(\n",
       "      (conv): Conv2d(256, 256, kernel_size=(3, 3), stride=(1, 1), padding=(1, 1))\n",
       "      (bn): BatchNorm2d(256, eps=1e-05, momentum=0.1, affine=True, track_running_stats=True)\n",
       "      (relu): ReLU()\n",
       "    )\n",
       "    (layer6): Sequential(\n",
       "      (conv): Conv2d(256, 256, kernel_size=(3, 3), stride=(1, 1), padding=(1, 1))\n",
       "      (bn): BatchNorm2d(256, eps=1e-05, momentum=0.1, affine=True, track_running_stats=True)\n",
       "      (relu): ReLU()\n",
       "      (maxpool): MaxPool2d(kernel_size=2, stride=2, padding=0, dilation=1, ceil_mode=False)\n",
       "    )\n",
       "    (layer7): Sequential(\n",
       "      (conv): Conv2d(256, 512, kernel_size=(3, 3), stride=(1, 1), padding=(1, 1))\n",
       "      (bn): BatchNorm2d(512, eps=1e-05, momentum=0.1, affine=True, track_running_stats=True)\n",
       "      (relu): ReLU()\n",
       "    )\n",
       "    (layer8): Sequential(\n",
       "      (conv): Conv2d(512, 512, kernel_size=(3, 3), stride=(1, 1), padding=(1, 1))\n",
       "      (bn): BatchNorm2d(512, eps=1e-05, momentum=0.1, affine=True, track_running_stats=True)\n",
       "      (relu): ReLU()\n",
       "    )\n",
       "    (layer9): Sequential(\n",
       "      (conv): Conv2d(512, 512, kernel_size=(3, 3), stride=(1, 1), padding=(1, 1))\n",
       "      (bn): BatchNorm2d(512, eps=1e-05, momentum=0.1, affine=True, track_running_stats=True)\n",
       "      (relu): ReLU()\n",
       "      (maxpool): MaxPool2d(kernel_size=2, stride=2, padding=0, dilation=1, ceil_mode=False)\n",
       "    )\n",
       "    (layer10): Sequential(\n",
       "      (conv): Conv2d(512, 512, kernel_size=(3, 3), stride=(1, 1), padding=(1, 1))\n",
       "      (bn): BatchNorm2d(512, eps=1e-05, momentum=0.1, affine=True, track_running_stats=True)\n",
       "      (relu): ReLU()\n",
       "    )\n",
       "    (layer11): Sequential(\n",
       "      (conv): Conv2d(512, 512, kernel_size=(3, 3), stride=(1, 1), padding=(1, 1))\n",
       "      (bn): BatchNorm2d(512, eps=1e-05, momentum=0.1, affine=True, track_running_stats=True)\n",
       "      (relu): ReLU()\n",
       "    )\n",
       "    (layer12): Sequential(\n",
       "      (conv): Conv2d(512, 512, kernel_size=(3, 3), stride=(1, 1), padding=(1, 1))\n",
       "      (bn): BatchNorm2d(512, eps=1e-05, momentum=0.1, affine=True, track_running_stats=True)\n",
       "      (relu): ReLU()\n",
       "      (maxpool): MaxPool2d(kernel_size=2, stride=2, padding=0, dilation=1, ceil_mode=False)\n",
       "    )\n",
       "    (avgpool): AdaptiveAvgPool2d(output_size=[1, 1])\n",
       "    (flatten): Flatten()\n",
       "    (classifier): Sequential(\n",
       "      (0): Linear(in_features=512, out_features=4096, bias=True)\n",
       "      (1): ReLU()\n",
       "      (2): Dropout(p=0.5, inplace=False)\n",
       "      (3): Linear(in_features=4096, out_features=4096, bias=True)\n",
       "      (4): ReLU()\n",
       "      (5): Dropout(p=0.5, inplace=False)\n",
       "      (6): Linear(in_features=4096, out_features=10, bias=True)\n",
       "    )\n",
       "  )\n",
       "  (target_model): Sequential(\n",
       "    (conv): Conv2d(512, 512, kernel_size=(3, 3), stride=(1, 1), padding=(1, 1))\n",
       "    (bn): BatchNorm2d(512, eps=1e-05, momentum=0.1, affine=True, track_running_stats=True)\n",
       "    (relu): ReLU()\n",
       "    (maxpool): MaxPool2d(kernel_size=2, stride=2, padding=0, dilation=1, ceil_mode=False)\n",
       "  )\n",
       ")"
      ]
     },
     "execution_count": 9,
     "metadata": {},
     "output_type": "execute_result"
    }
   ],
   "source": [
    "# Load model\n",
    "layernum = config.config['layernum']\n",
    "model = config.init_obj('arch', module_arch, layernum=layernum, device=device)\n",
    "model.eval()\n"
   ]
  },
  {
   "cell_type": "code",
   "execution_count": 10,
   "metadata": {},
   "outputs": [],
   "source": [
    "# Load datasets\n",
    "# config = ConfigParser(config_dict)\n",
    "data_loader_args = dict(config.config[\"data_loader\"][\"args\"])\n",
    "dataset_args = dict(config[\"dataset_args\"])\n",
    "\n",
    "val_image_paths = read_lists(config_dict['dataset_paths']['valid_images'])\n",
    "val_labels = read_lists(config_dict['dataset_paths']['valid_labels'])\n",
    "val_paths_data_loader = torch.utils.data.DataLoader(\n",
    "    module_data.CINIC10Dataset(\n",
    "        data_dir=\"\",\n",
    "        image_paths=val_image_paths,\n",
    "        labels=val_labels,\n",
    "        return_paths=True,\n",
    "        **dataset_args\n",
    "    ),\n",
    "    **data_loader_args\n",
    ")\n",
    "\n",
    "# Obtain loss function and metric functions\n",
    "loss_fn = getattr(module_loss, config['loss'])\n",
    "metric_fns = [getattr(module_metric, met) for met in config['metrics']]"
   ]
  },
  {
   "cell_type": "code",
   "execution_count": 14,
   "metadata": {},
   "outputs": [],
   "source": [
    "target_class_name = 'airplane'\n",
    "target_class_idx = class_idx_dict[target_class_name]\n",
    "n_select = 100\n",
    "timestamp = '0127_103716'\n",
    "save_timestamp = '0208_112555' # for bucket experiments\n"
   ]
  },
  {
   "cell_type": "markdown",
   "metadata": {
    "jp-MarkdownHeadingCollapsed": true,
    "tags": []
   },
   "source": [
    "### Get the Target Class Distribution Across All Edits for Specific Class"
   ]
  },
  {
   "cell_type": "code",
   "execution_count": null,
   "metadata": {},
   "outputs": [],
   "source": [
    "def save_class_distribution(csv_path, \n",
    "                            target_class_idx,\n",
    "                            target_class_name,\n",
    "                            show=False,\n",
    "                            histogram_save_path=None,\n",
    "                            data_save_path=None):\n",
    "    \n",
    "    df = load_and_preprocess_csv(\n",
    "        csv_path=csv_path,\n",
    "        drop_duplicates=['ID']\n",
    "    )\n",
    "    \n",
    "    # Obtain number of predictions for target class pre edit\n",
    "    pre_edit_class_distribution = df['Pre Class Dist'].to_numpy()\n",
    "    pre_edit_class_distribution = np.stack(pre_edit_class_distribution)\n",
    "    target_pre_edit_class_predictions = np.mean(pre_edit_class_distribution[:, target_class_idx])\n",
    "    \n",
    "    # Obtain number of predictions for target class post edit for each trial\n",
    "    class_distribution = df['Post Class Dist'].to_numpy()\n",
    "    class_distribution = np.stack(class_distribution, axis=0)\n",
    "    target_class_distribution = class_distribution[:, target_class_idx]\n",
    "    # target_class_bins = np.bincount(target_class_distribution)\n",
    "    if histogram_save_path is None:\n",
    "        histogram_save_path = os.path.join(os.path.dirname(csv_path), 'graphs', 'summary', 'target_class_distribution.png')\n",
    "    title = 'Post Edit {} Class Distribution for {} Edits'.format(target_class_name, target_class_name)\n",
    "    xlabel = 'Num. {} Predictions Post Edit'.format(target_class_name)\n",
    "    ylabel = 'Num. Edits'\n",
    "    \n",
    "    bin_values, bins, _ = histogram(\n",
    "        data=target_class_distribution,\n",
    "        n_bins=50,\n",
    "        title=title,\n",
    "        xlabel=xlabel,\n",
    "        ylabel=ylabel,\n",
    "        marker=target_pre_edit_class_predictions,\n",
    "        show=show,\n",
    "        save_path=histogram_save_path)\n",
    "    \n",
    "    bin_tuples = []\n",
    "    for bin_idx in range(len(bins) - 1):\n",
    "        bin_tuples.append((bins[bin_idx], bins[bin_idx+1]))\n",
    "\n",
    "    save_data = {\n",
    "        \"n_target_predictions\": target_class_distribution,\n",
    "        \"histogram_bin_values\": bin_values,\n",
    "        \"histogram_bins\": bins\n",
    "    }\n",
    "    \n",
    "    if data_save_path is None:\n",
    "        data_save_path = os.path.join(os.path.dirname(csv_path), 'target_class_distribution.pth')\n",
    "        torch.save(save_data, data_save_path)\n",
    "    \n",
    "    print(\"Saved target class distribution & histogram data to {}\".format(data_save_path))\n",
    "    \n",
    "    plt.close('all')\n",
    "    return save_data"
   ]
  },
  {
   "cell_type": "markdown",
   "metadata": {
    "tags": []
   },
   "source": [
    "#### Loop over all classes and save histograms and distributions"
   ]
  },
  {
   "cell_type": "code",
   "execution_count": null,
   "metadata": {},
   "outputs": [],
   "source": [
    "for class_name in class_list:\n",
    "    csv_path = csv_path_template.format(class_name)\n",
    "    save_class_distribution(\n",
    "        csv_path=csv_path,\n",
    "        target_class_idx=class_idx_dict[class_name],\n",
    "        target_class_name=class_name,\n",
    "        show=False)\n",
    "    "
   ]
  },
  {
   "cell_type": "markdown",
   "metadata": {
    "tags": []
   },
   "source": [
    "### For a specific class, make bump edits that match the distribution of target class prediction"
   ]
  },
  {
   "cell_type": "code",
   "execution_count": 11,
   "metadata": {},
   "outputs": [],
   "source": [
    "def predict_with_bump(data_loader,\n",
    "                      model,\n",
    "                      target_class_idx,\n",
    "                      bump_amount,\n",
    "                      loss_fn,\n",
    "                      metric_fns,\n",
    "                      device,\n",
    "                      save_path=None):\n",
    "    '''\n",
    "    Run the model on the data_loader, calculate metrics, and log\n",
    "\n",
    "    Arg(s):\n",
    "        data_loader : torch Dataloader\n",
    "            data to test on\n",
    "        model : torch.nn.Module\n",
    "            model to run\n",
    "        loss_fn : module\n",
    "            loss function\n",
    "        metric_fns : list[model.metric modules]\n",
    "            list of metric functions\n",
    "        device : torch.device\n",
    "        save_path : str or None\n",
    "            if not None, save metrics to save_path\n",
    "\n",
    "    Returns :\n",
    "        log : dict{} of metrics\n",
    "    '''\n",
    "\n",
    "    # Hold data for calculating metrics\n",
    "    outputs = []\n",
    "    targets = []\n",
    "\n",
    "    # Ensure model is in eval mode\n",
    "    if model.training:\n",
    "        model.eval()\n",
    "\n",
    "    with torch.no_grad():\n",
    "        for idx, item in enumerate(tqdm(data_loader)):\n",
    "            if len(item) == 3:\n",
    "                data, target, path = item\n",
    "            else:\n",
    "                data, target = item\n",
    "            data, target = data.to(device), target.to(device)\n",
    "            output = model(data)\n",
    "\n",
    "            # Store outputs and targets\n",
    "            outputs.append(output)\n",
    "            targets.append(target)\n",
    "\n",
    "    # Concatenate predictions and targets\n",
    "    outputs = torch.cat(outputs, dim=0)\n",
    "    targets = torch.cat(targets, dim=0)\n",
    "    \n",
    "    # Adjust output softmax by bump amount\n",
    "    outputs[:, target_class_idx] += bump_amount\n",
    "\n",
    "    # Calculate loss\n",
    "    loss = loss_fn(outputs, targets).item()\n",
    "    n_samples = len(data_loader.sampler)\n",
    "    log = {'loss': loss}\n",
    "\n",
    "    # Calculate predictions based on argmax\n",
    "    predictions = torch.argmax(outputs, dim=1)\n",
    "\n",
    "    # Move predictions and target to cpu and convert to numpy to calculate metrics\n",
    "    predictions = predictions.cpu().numpy()\n",
    "    targets = targets.cpu().numpy()\n",
    "\n",
    "    # Calculate metrics\n",
    "    log = module_metric.compute_metrics(\n",
    "        metric_fns=metric_fns,\n",
    "        prediction=predictions,\n",
    "        target=targets)\n",
    "\n",
    "    if save_path is not None:\n",
    "        ensure_dir(os.path.dirname(save_path))\n",
    "        torch.save(log, save_path)\n",
    "\n",
    "    return log"
   ]
  },
  {
   "cell_type": "code",
   "execution_count": 17,
   "metadata": {},
   "outputs": [],
   "source": [
    "def match_bump_edits(data_loader,\n",
    "                     model,\n",
    "                     loss_fn,\n",
    "                     metric_fns,\n",
    "                     device,\n",
    "                     bin_lows,\n",
    "                     target_class_idx,\n",
    "                     save_dir,\n",
    "                     debug=True):\n",
    "    '''\n",
    "    Get bins\n",
    "    for each bin, get the mean\n",
    "    until the target class predictions on val match the mean,\n",
    "        adjust the target\n",
    "    store (mean, bump amount)\n",
    "    '''\n",
    "    # save_dir = os.path.dirname(str(config.save_dir))\n",
    "    informal_log_path = os.path.join(save_dir, 'informal_log.txt')\n",
    "    bump_dictionary = {}\n",
    "    \n",
    "    n_bins = len(bin_lows) - 1\n",
    "    \n",
    "    n_bins_left = n_bins\n",
    "    min_bin = bin_lows[0]\n",
    "    bin_width = bin_lows[1] - bin_lows[0]\n",
    "    \n",
    "    bin_means = []\n",
    "    bump_amount = 0.2\n",
    "    delta = 1.25\n",
    "    \n",
    "    bumps = [-1 for i in range(n_bins)]\n",
    "    class_predictions = [-1 for i in range(n_bins)]\n",
    "    logs = [None for i in range(n_bins)]\n",
    "    \n",
    "    cur_bump_idx = 0\n",
    "    cur_itr = 0\n",
    "    delta_reset = 1.25\n",
    "    \n",
    "    # Obtain pre edit metrics\n",
    "    pre_edit_log = predict(\n",
    "        data_loader=data_loader,\n",
    "        model=model,\n",
    "        loss_fn=loss_fn,\n",
    "        metric_fns=metric_fns,\n",
    "        device=device)\n",
    "\n",
    "    while cur_bump_idx < n_bins:\n",
    "        cur_itr += 1\n",
    "        if delta <= 1 or delta > 2:\n",
    "            delta = delta_reset\n",
    "        if debug:\n",
    "            informal_log(\"[{}]***NEW ITR {}***\".format(\n",
    "                datetime.now().strftime(r'%m%d_%H%M%S'), cur_itr), informal_log_path)\n",
    "\n",
    "        if bumps[cur_bump_idx] > -1:\n",
    "            bump_amount = bumps[cur_bump_idx]\n",
    "            cur_bump_idx += 1\n",
    "            \n",
    "            continue\n",
    "        \n",
    "        log = predict_with_bump(\n",
    "            data_loader=data_loader,\n",
    "            model=model,\n",
    "            loss_fn=loss_fn,\n",
    "            metric_fns=metric_fns,\n",
    "            device=device,\n",
    "            target_class_idx=target_class_idx,\n",
    "            bump_amount=bump_amount,\n",
    "            save_path=None)\n",
    "        \n",
    "        # Obtain num. predictions for target class and determine bin idx\n",
    "        post_class_distribution = log['predicted_class_distribution']\n",
    "        target_class_predictions = post_class_distribution[target_class_idx]\n",
    "        bin_idx = math.floor((target_class_predictions - min_bin) / bin_width)\n",
    "        \n",
    "        # Check for out of bounds/already visited bin index\n",
    "        while bin_idx < cur_bump_idx:\n",
    "            bump_amount *= delta\n",
    "            if debug:\n",
    "                informal_log(\"bin_idx < cur_bump_idx ({} and {}) delta={} new bump_amount: {}\".format(\n",
    "                    bin_idx, cur_bump_idx, delta, bump_amount), informal_log_path)\n",
    "                \n",
    "            log = predict_with_bump(\n",
    "                data_loader=data_loader,\n",
    "                model=model,\n",
    "                loss_fn=loss_fn,\n",
    "                metric_fns=metric_fns,\n",
    "                device=device,\n",
    "                target_class_idx=target_class_idx,\n",
    "                bump_amount=bump_amount,\n",
    "                save_path=None)\n",
    "\n",
    "            # Obtain num. predictions for target class and determine bin idx\n",
    "            post_class_distribution = log['predicted_class_distribution']\n",
    "            target_class_predictions = post_class_distribution[target_class_idx]\n",
    "            bin_idx = math.floor((target_class_predictions - min_bin) / bin_width)\n",
    "                \n",
    "            \n",
    "            # continue\n",
    "        if bin_idx >= n_bins:\n",
    "            if cur_bump_idx == 0:\n",
    "                bump_amount /= delta\n",
    "            else:\n",
    "                bump_amount = (bump_amount + bumps[cur_bump_idx - 1]) / 2\n",
    "            informal_log(\"bin_idx > n_bins ({}) delta={} new bump_amount: {}\".format(\n",
    "                bin_idx, delta, bump_amount), informal_log_path)\n",
    "            continue\n",
    "            \n",
    "        # Sanity check correct bin_idx\n",
    "        assert target_class_predictions >= bin_lows[bin_idx] and \\\n",
    "               target_class_predictions <= bin_lows[bin_idx+1]\n",
    "        \n",
    "        # If bump value for this bin yet, assign it\n",
    "        if bumps[bin_idx] == -1:\n",
    "            bumps[bin_idx] = bump_amount\n",
    "            class_predictions[bin_idx] = target_class_predictions\n",
    "            logs[bin_idx] = log\n",
    "            if debug:\n",
    "                informal_log(\"assigned bin_idx {}\".format(bin_idx), informal_log_path)\n",
    "                informal_log(\"Cur bump_idx: {} bump amount: {} target_class_pred: {} bin_idx: {}\".format(\n",
    "                    cur_bump_idx, bump_amount, target_class_predictions, bin_idx), informal_log_path)\n",
    "        \n",
    "        # Check if this is our current bin we're trying to fill\n",
    "        if bin_idx == cur_bump_idx:\n",
    "            cur_bump_idx += 1\n",
    "            bump_amount *= delta\n",
    "            if debug:\n",
    "                informal_log(\"updating cur_bump_idx to {}, bump_amount to {}\"\n",
    "                             .format(cur_bump_idx, bump_amount), informal_log_path)\n",
    "            \n",
    "        # If we're not at the current cell,\n",
    "        else:\n",
    "            # Decrease bump amount by half\n",
    "            if cur_bump_idx == 0:\n",
    "                bump_amount /= 2\n",
    "            # Set bump amount to something in the middle between current and last successful\n",
    "            else:\n",
    "                bump_amount = (bump_amount + bumps[cur_bump_idx-1]) / 2 \n",
    "            if debug:\n",
    "                informal_log(\"Overshot to bin {}. Decreasing bump amount to {} aiming for bin {}\".format(\n",
    "                    bin_idx, bump_amount, cur_bump_idx), informal_log_path)\n",
    "        informal_log(\"bumps: {}\".format(bumps), informal_log_path)\n",
    "\n",
    "    \n",
    "    \n",
    "    save_data = {\n",
    "        'pre_edit_metrics': pre_edit_log,\n",
    "        'bump_amounts': bumps,\n",
    "        'target_class_predictions': class_predictions,\n",
    "        'metrics': logs\n",
    "    }\n",
    "    save_path = os.path.join(save_dir, 'bumps_preds_metrics.pth'.format())\n",
    "    torch.save(save_data, save_path)\n",
    "    if debug:\n",
    "        informal_log(\"Saved data to {}\".format(save_path), informal_log_path)\n",
    "    return save_data\n",
    "            "
   ]
  },
  {
   "cell_type": "markdown",
   "metadata": {
    "tags": []
   },
   "source": [
    "#### Run match_bump_edits() to get how much to bump to match each bucket"
   ]
  },
  {
   "cell_type": "code",
   "execution_count": 21,
   "metadata": {
    "scrolled": true,
    "tags": []
   },
   "outputs": [
    {
     "name": "stdout",
     "output_type": "stream",
     "text": [
      "Obtaining class distribution for deer from saved/edit_eac/trials/CINIC10_ImageNet-VGG_16/deer_100/0127_103716/target_class_distribution.pth\n",
      "Saving results to saved/edit_eac/experiments/bump_edits/CINIC10_ImageNet-VGG_16/0208_112555/deer_100\n"
     ]
    },
    {
     "name": "stderr",
     "output_type": "stream",
     "text": [
      "100%|██████████████████████████████████████████████████████| 274/274 [00:13<00:00, 20.19it/s]\n"
     ]
    },
    {
     "name": "stdout",
     "output_type": "stream",
     "text": [
      "[0228_101931]***NEW ITR 1***\n"
     ]
    },
    {
     "name": "stderr",
     "output_type": "stream",
     "text": [
      "100%|██████████████████████████████████████████████████████| 274/274 [00:14<00:00, 19.26it/s]\n"
     ]
    },
    {
     "name": "stdout",
     "output_type": "stream",
     "text": [
      "assigned bin_idx 0\n",
      "Cur bump_idx: 0 bump amount: 0.2 target_class_pred: 7325 bin_idx: 0\n",
      "updating cur_bump_idx to 1, bump_amount to 0.25\n",
      "bumps: [0.2, -1, -1, -1, -1, -1, -1, -1, -1, -1, -1, -1, -1, -1, -1, -1, -1, -1, -1, -1, -1, -1, -1, -1, -1, -1, -1, -1, -1, -1, -1, -1, -1, -1, -1, -1, -1, -1, -1, -1, -1, -1, -1, -1, -1, -1, -1, -1, -1, -1]\n",
      "[0228_101946]***NEW ITR 2***\n"
     ]
    },
    {
     "name": "stderr",
     "output_type": "stream",
     "text": [
      "100%|██████████████████████████████████████████████████████| 274/274 [00:13<00:00, 20.48it/s]\n"
     ]
    },
    {
     "name": "stdout",
     "output_type": "stream",
     "text": [
      "bin_idx < cur_bump_idx (0 and 1) delta=1.25 new bump_amount: 0.3125\n"
     ]
    },
    {
     "name": "stderr",
     "output_type": "stream",
     "text": [
      "100%|██████████████████████████████████████████████████████| 274/274 [00:14<00:00, 18.99it/s]\n"
     ]
    },
    {
     "name": "stdout",
     "output_type": "stream",
     "text": [
      "bin_idx < cur_bump_idx (0 and 1) delta=1.25 new bump_amount: 0.390625\n"
     ]
    },
    {
     "name": "stderr",
     "output_type": "stream",
     "text": [
      "100%|██████████████████████████████████████████████████████| 274/274 [00:14<00:00, 18.30it/s]\n"
     ]
    },
    {
     "name": "stdout",
     "output_type": "stream",
     "text": [
      "bin_idx < cur_bump_idx (0 and 1) delta=1.25 new bump_amount: 0.48828125\n"
     ]
    },
    {
     "name": "stderr",
     "output_type": "stream",
     "text": [
      "100%|██████████████████████████████████████████████████████| 274/274 [00:14<00:00, 18.57it/s]\n"
     ]
    },
    {
     "name": "stdout",
     "output_type": "stream",
     "text": [
      "bin_idx < cur_bump_idx (0 and 1) delta=1.25 new bump_amount: 0.6103515625\n"
     ]
    },
    {
     "name": "stderr",
     "output_type": "stream",
     "text": [
      "100%|██████████████████████████████████████████████████████| 274/274 [00:15<00:00, 17.56it/s]\n"
     ]
    },
    {
     "name": "stdout",
     "output_type": "stream",
     "text": [
      "assigned bin_idx 1\n",
      "Cur bump_idx: 1 bump amount: 0.6103515625 target_class_pred: 7782 bin_idx: 1\n",
      "updating cur_bump_idx to 2, bump_amount to 0.762939453125\n",
      "bumps: [0.2, 0.6103515625, -1, -1, -1, -1, -1, -1, -1, -1, -1, -1, -1, -1, -1, -1, -1, -1, -1, -1, -1, -1, -1, -1, -1, -1, -1, -1, -1, -1, -1, -1, -1, -1, -1, -1, -1, -1, -1, -1, -1, -1, -1, -1, -1, -1, -1, -1, -1, -1]\n",
      "[0228_102059]***NEW ITR 3***\n"
     ]
    },
    {
     "name": "stderr",
     "output_type": "stream",
     "text": [
      "100%|██████████████████████████████████████████████████████| 274/274 [00:14<00:00, 19.01it/s]\n"
     ]
    },
    {
     "name": "stdout",
     "output_type": "stream",
     "text": [
      "bin_idx < cur_bump_idx (1 and 2) delta=1.25 new bump_amount: 0.95367431640625\n"
     ]
    },
    {
     "name": "stderr",
     "output_type": "stream",
     "text": [
      "100%|██████████████████████████████████████████████████████| 274/274 [00:14<00:00, 18.77it/s]\n"
     ]
    },
    {
     "name": "stdout",
     "output_type": "stream",
     "text": [
      "bin_idx < cur_bump_idx (1 and 2) delta=1.25 new bump_amount: 1.1920928955078125\n"
     ]
    },
    {
     "name": "stderr",
     "output_type": "stream",
     "text": [
      "100%|██████████████████████████████████████████████████████| 274/274 [00:14<00:00, 18.61it/s]\n"
     ]
    },
    {
     "name": "stdout",
     "output_type": "stream",
     "text": [
      "bin_idx < cur_bump_idx (1 and 2) delta=1.25 new bump_amount: 1.4901161193847656\n"
     ]
    },
    {
     "name": "stderr",
     "output_type": "stream",
     "text": [
      "100%|██████████████████████████████████████████████████████| 274/274 [00:14<00:00, 19.18it/s]\n"
     ]
    },
    {
     "name": "stdout",
     "output_type": "stream",
     "text": [
      "assigned bin_idx 2\n",
      "Cur bump_idx: 2 bump amount: 1.4901161193847656 target_class_pred: 9006 bin_idx: 2\n",
      "updating cur_bump_idx to 3, bump_amount to 1.862645149230957\n",
      "bumps: [0.2, 0.6103515625, 1.4901161193847656, -1, -1, -1, -1, -1, -1, -1, -1, -1, -1, -1, -1, -1, -1, -1, -1, -1, -1, -1, -1, -1, -1, -1, -1, -1, -1, -1, -1, -1, -1, -1, -1, -1, -1, -1, -1, -1, -1, -1, -1, -1, -1, -1, -1, -1, -1, -1]\n",
      "[0228_102157]***NEW ITR 4***\n"
     ]
    },
    {
     "name": "stderr",
     "output_type": "stream",
     "text": [
      "100%|██████████████████████████████████████████████████████| 274/274 [00:13<00:00, 20.25it/s]\n"
     ]
    },
    {
     "name": "stdout",
     "output_type": "stream",
     "text": [
      "assigned bin_idx 3\n",
      "Cur bump_idx: 3 bump amount: 1.862645149230957 target_class_pred: 9639 bin_idx: 3\n",
      "updating cur_bump_idx to 4, bump_amount to 2.3283064365386963\n",
      "bumps: [0.2, 0.6103515625, 1.4901161193847656, 1.862645149230957, -1, -1, -1, -1, -1, -1, -1, -1, -1, -1, -1, -1, -1, -1, -1, -1, -1, -1, -1, -1, -1, -1, -1, -1, -1, -1, -1, -1, -1, -1, -1, -1, -1, -1, -1, -1, -1, -1, -1, -1, -1, -1, -1, -1, -1, -1]\n",
      "[0228_102211]***NEW ITR 5***\n"
     ]
    },
    {
     "name": "stderr",
     "output_type": "stream",
     "text": [
      "100%|██████████████████████████████████████████████████████| 274/274 [00:14<00:00, 19.13it/s]\n"
     ]
    },
    {
     "name": "stdout",
     "output_type": "stream",
     "text": [
      "assigned bin_idx 4\n",
      "Cur bump_idx: 4 bump amount: 2.3283064365386963 target_class_pred: 10718 bin_idx: 4\n",
      "updating cur_bump_idx to 5, bump_amount to 2.9103830456733704\n",
      "bumps: [0.2, 0.6103515625, 1.4901161193847656, 1.862645149230957, 2.3283064365386963, -1, -1, -1, -1, -1, -1, -1, -1, -1, -1, -1, -1, -1, -1, -1, -1, -1, -1, -1, -1, -1, -1, -1, -1, -1, -1, -1, -1, -1, -1, -1, -1, -1, -1, -1, -1, -1, -1, -1, -1, -1, -1, -1, -1, -1]\n",
      "[0228_102225]***NEW ITR 6***\n"
     ]
    },
    {
     "name": "stderr",
     "output_type": "stream",
     "text": [
      "100%|██████████████████████████████████████████████████████| 274/274 [00:15<00:00, 18.22it/s]\n"
     ]
    },
    {
     "name": "stdout",
     "output_type": "stream",
     "text": [
      "assigned bin_idx 6\n",
      "Cur bump_idx: 5 bump amount: 2.9103830456733704 target_class_pred: 12568 bin_idx: 6\n",
      "Overshot to bin 6. Decreasing bump amount to 2.6193447411060333 aiming for bin 5\n",
      "bumps: [0.2, 0.6103515625, 1.4901161193847656, 1.862645149230957, 2.3283064365386963, -1, 2.9103830456733704, -1, -1, -1, -1, -1, -1, -1, -1, -1, -1, -1, -1, -1, -1, -1, -1, -1, -1, -1, -1, -1, -1, -1, -1, -1, -1, -1, -1, -1, -1, -1, -1, -1, -1, -1, -1, -1, -1, -1, -1, -1, -1, -1]\n",
      "[0228_102240]***NEW ITR 7***\n"
     ]
    },
    {
     "name": "stderr",
     "output_type": "stream",
     "text": [
      "100%|██████████████████████████████████████████████████████| 274/274 [00:14<00:00, 18.58it/s]\n"
     ]
    },
    {
     "name": "stdout",
     "output_type": "stream",
     "text": [
      "assigned bin_idx 5\n",
      "Cur bump_idx: 5 bump amount: 2.6193447411060333 target_class_pred: 11561 bin_idx: 5\n",
      "updating cur_bump_idx to 6, bump_amount to 3.2741809263825417\n",
      "bumps: [0.2, 0.6103515625, 1.4901161193847656, 1.862645149230957, 2.3283064365386963, 2.6193447411060333, 2.9103830456733704, -1, -1, -1, -1, -1, -1, -1, -1, -1, -1, -1, -1, -1, -1, -1, -1, -1, -1, -1, -1, -1, -1, -1, -1, -1, -1, -1, -1, -1, -1, -1, -1, -1, -1, -1, -1, -1, -1, -1, -1, -1, -1, -1]\n",
      "[0228_102255]***NEW ITR 8***\n",
      "[0228_102255]***NEW ITR 9***\n"
     ]
    },
    {
     "name": "stderr",
     "output_type": "stream",
     "text": [
      "100%|██████████████████████████████████████████████████████| 274/274 [00:15<00:00, 18.14it/s]\n"
     ]
    },
    {
     "name": "stdout",
     "output_type": "stream",
     "text": [
      "bin_idx < cur_bump_idx (6 and 7) delta=1.25 new bump_amount: 3.637978807091713\n"
     ]
    },
    {
     "name": "stderr",
     "output_type": "stream",
     "text": [
      "100%|██████████████████████████████████████████████████████| 274/274 [00:14<00:00, 19.07it/s]\n"
     ]
    },
    {
     "name": "stdout",
     "output_type": "stream",
     "text": [
      "assigned bin_idx 10\n",
      "Cur bump_idx: 7 bump amount: 3.637978807091713 target_class_pred: 16145 bin_idx: 10\n",
      "Overshot to bin 10. Decreasing bump amount to 3.2741809263825417 aiming for bin 7\n",
      "bumps: [0.2, 0.6103515625, 1.4901161193847656, 1.862645149230957, 2.3283064365386963, 2.6193447411060333, 2.9103830456733704, -1, -1, -1, 3.637978807091713, -1, -1, -1, -1, -1, -1, -1, -1, -1, -1, -1, -1, -1, -1, -1, -1, -1, -1, -1, -1, -1, -1, -1, -1, -1, -1, -1, -1, -1, -1, -1, -1, -1, -1, -1, -1, -1, -1, -1]\n",
      "[0228_102324]***NEW ITR 10***\n"
     ]
    },
    {
     "name": "stderr",
     "output_type": "stream",
     "text": [
      "100%|██████████████████████████████████████████████████████| 274/274 [00:14<00:00, 18.54it/s]\n"
     ]
    },
    {
     "name": "stdout",
     "output_type": "stream",
     "text": [
      "assigned bin_idx 8\n",
      "Cur bump_idx: 7 bump amount: 3.2741809263825417 target_class_pred: 14178 bin_idx: 8\n",
      "Overshot to bin 8. Decreasing bump amount to 3.092281986027956 aiming for bin 7\n",
      "bumps: [0.2, 0.6103515625, 1.4901161193847656, 1.862645149230957, 2.3283064365386963, 2.6193447411060333, 2.9103830456733704, -1, 3.2741809263825417, -1, 3.637978807091713, -1, -1, -1, -1, -1, -1, -1, -1, -1, -1, -1, -1, -1, -1, -1, -1, -1, -1, -1, -1, -1, -1, -1, -1, -1, -1, -1, -1, -1, -1, -1, -1, -1, -1, -1, -1, -1, -1, -1]\n",
      "[0228_102339]***NEW ITR 11***\n"
     ]
    },
    {
     "name": "stderr",
     "output_type": "stream",
     "text": [
      "100%|██████████████████████████████████████████████████████| 274/274 [00:14<00:00, 18.85it/s]\n"
     ]
    },
    {
     "name": "stdout",
     "output_type": "stream",
     "text": [
      "assigned bin_idx 7\n",
      "Cur bump_idx: 7 bump amount: 3.092281986027956 target_class_pred: 13351 bin_idx: 7\n",
      "updating cur_bump_idx to 8, bump_amount to 3.865352482534945\n",
      "bumps: [0.2, 0.6103515625, 1.4901161193847656, 1.862645149230957, 2.3283064365386963, 2.6193447411060333, 2.9103830456733704, 3.092281986027956, 3.2741809263825417, -1, 3.637978807091713, -1, -1, -1, -1, -1, -1, -1, -1, -1, -1, -1, -1, -1, -1, -1, -1, -1, -1, -1, -1, -1, -1, -1, -1, -1, -1, -1, -1, -1, -1, -1, -1, -1, -1, -1, -1, -1, -1, -1]\n",
      "[0228_102354]***NEW ITR 12***\n",
      "[0228_102354]***NEW ITR 13***\n"
     ]
    },
    {
     "name": "stderr",
     "output_type": "stream",
     "text": [
      "100%|██████████████████████████████████████████████████████| 274/274 [00:13<00:00, 19.95it/s]\n"
     ]
    },
    {
     "name": "stdout",
     "output_type": "stream",
     "text": [
      "bin_idx < cur_bump_idx (8 and 9) delta=1.25 new bump_amount: 4.092726157978177\n"
     ]
    },
    {
     "name": "stderr",
     "output_type": "stream",
     "text": [
      "100%|██████████████████████████████████████████████████████| 274/274 [00:13<00:00, 20.36it/s]\n"
     ]
    },
    {
     "name": "stdout",
     "output_type": "stream",
     "text": [
      "assigned bin_idx 13\n",
      "Cur bump_idx: 9 bump amount: 4.092726157978177 target_class_pred: 18844 bin_idx: 13\n",
      "Overshot to bin 13. Decreasing bump amount to 3.6834535421803594 aiming for bin 9\n",
      "bumps: [0.2, 0.6103515625, 1.4901161193847656, 1.862645149230957, 2.3283064365386963, 2.6193447411060333, 2.9103830456733704, 3.092281986027956, 3.2741809263825417, -1, 3.637978807091713, -1, -1, 4.092726157978177, -1, -1, -1, -1, -1, -1, -1, -1, -1, -1, -1, -1, -1, -1, -1, -1, -1, -1, -1, -1, -1, -1, -1, -1, -1, -1, -1, -1, -1, -1, -1, -1, -1, -1, -1, -1]\n",
      "[0228_102421]***NEW ITR 14***\n"
     ]
    },
    {
     "name": "stderr",
     "output_type": "stream",
     "text": [
      "100%|██████████████████████████████████████████████████████| 274/274 [00:14<00:00, 18.70it/s]\n"
     ]
    },
    {
     "name": "stdout",
     "output_type": "stream",
     "text": [
      "Overshot to bin 10. Decreasing bump amount to 3.4788172342814505 aiming for bin 9\n",
      "bumps: [0.2, 0.6103515625, 1.4901161193847656, 1.862645149230957, 2.3283064365386963, 2.6193447411060333, 2.9103830456733704, 3.092281986027956, 3.2741809263825417, -1, 3.637978807091713, -1, -1, 4.092726157978177, -1, -1, -1, -1, -1, -1, -1, -1, -1, -1, -1, -1, -1, -1, -1, -1, -1, -1, -1, -1, -1, -1, -1, -1, -1, -1, -1, -1, -1, -1, -1, -1, -1, -1, -1, -1]\n",
      "[0228_102436]***NEW ITR 15***\n"
     ]
    },
    {
     "name": "stderr",
     "output_type": "stream",
     "text": [
      "100%|██████████████████████████████████████████████████████| 274/274 [00:15<00:00, 18.18it/s]\n"
     ]
    },
    {
     "name": "stdout",
     "output_type": "stream",
     "text": [
      "assigned bin_idx 9\n",
      "Cur bump_idx: 9 bump amount: 3.4788172342814505 target_class_pred: 15282 bin_idx: 9\n",
      "updating cur_bump_idx to 10, bump_amount to 4.348521542851813\n",
      "bumps: [0.2, 0.6103515625, 1.4901161193847656, 1.862645149230957, 2.3283064365386963, 2.6193447411060333, 2.9103830456733704, 3.092281986027956, 3.2741809263825417, 3.4788172342814505, 3.637978807091713, -1, -1, 4.092726157978177, -1, -1, -1, -1, -1, -1, -1, -1, -1, -1, -1, -1, -1, -1, -1, -1, -1, -1, -1, -1, -1, -1, -1, -1, -1, -1, -1, -1, -1, -1, -1, -1, -1, -1, -1, -1]\n",
      "[0228_102451]***NEW ITR 16***\n",
      "[0228_102451]***NEW ITR 17***\n"
     ]
    },
    {
     "name": "stderr",
     "output_type": "stream",
     "text": [
      "100%|██████████████████████████████████████████████████████| 274/274 [00:15<00:00, 17.90it/s]\n"
     ]
    },
    {
     "name": "stdout",
     "output_type": "stream",
     "text": [
      "bin_idx < cur_bump_idx (10 and 11) delta=1.25 new bump_amount: 4.547473508864641\n"
     ]
    },
    {
     "name": "stderr",
     "output_type": "stream",
     "text": [
      "100%|██████████████████████████████████████████████████████| 274/274 [00:15<00:00, 18.03it/s]\n"
     ]
    },
    {
     "name": "stdout",
     "output_type": "stream",
     "text": [
      "assigned bin_idx 17\n",
      "Cur bump_idx: 11 bump amount: 4.547473508864641 target_class_pred: 21827 bin_idx: 17\n",
      "Overshot to bin 17. Decreasing bump amount to 4.092726157978177 aiming for bin 11\n",
      "bumps: [0.2, 0.6103515625, 1.4901161193847656, 1.862645149230957, 2.3283064365386963, 2.6193447411060333, 2.9103830456733704, 3.092281986027956, 3.2741809263825417, 3.4788172342814505, 3.637978807091713, -1, -1, 4.092726157978177, -1, -1, -1, 4.547473508864641, -1, -1, -1, -1, -1, -1, -1, -1, -1, -1, -1, -1, -1, -1, -1, -1, -1, -1, -1, -1, -1, -1, -1, -1, -1, -1, -1, -1, -1, -1, -1, -1]\n",
      "[0228_102521]***NEW ITR 18***\n"
     ]
    },
    {
     "name": "stderr",
     "output_type": "stream",
     "text": [
      "100%|██████████████████████████████████████████████████████| 274/274 [00:14<00:00, 18.30it/s]\n"
     ]
    },
    {
     "name": "stdout",
     "output_type": "stream",
     "text": [
      "Overshot to bin 13. Decreasing bump amount to 3.865352482534945 aiming for bin 11\n",
      "bumps: [0.2, 0.6103515625, 1.4901161193847656, 1.862645149230957, 2.3283064365386963, 2.6193447411060333, 2.9103830456733704, 3.092281986027956, 3.2741809263825417, 3.4788172342814505, 3.637978807091713, -1, -1, 4.092726157978177, -1, -1, -1, 4.547473508864641, -1, -1, -1, -1, -1, -1, -1, -1, -1, -1, -1, -1, -1, -1, -1, -1, -1, -1, -1, -1, -1, -1, -1, -1, -1, -1, -1, -1, -1, -1, -1, -1]\n",
      "[0228_102536]***NEW ITR 19***\n"
     ]
    },
    {
     "name": "stderr",
     "output_type": "stream",
     "text": [
      "100%|██████████████████████████████████████████████████████| 274/274 [00:15<00:00, 17.90it/s]\n"
     ]
    },
    {
     "name": "stdout",
     "output_type": "stream",
     "text": [
      "assigned bin_idx 12\n",
      "Cur bump_idx: 11 bump amount: 3.865352482534945 target_class_pred: 17502 bin_idx: 12\n",
      "Overshot to bin 12. Decreasing bump amount to 3.751665644813329 aiming for bin 11\n",
      "bumps: [0.2, 0.6103515625, 1.4901161193847656, 1.862645149230957, 2.3283064365386963, 2.6193447411060333, 2.9103830456733704, 3.092281986027956, 3.2741809263825417, 3.4788172342814505, 3.637978807091713, -1, 3.865352482534945, 4.092726157978177, -1, -1, -1, 4.547473508864641, -1, -1, -1, -1, -1, -1, -1, -1, -1, -1, -1, -1, -1, -1, -1, -1, -1, -1, -1, -1, -1, -1, -1, -1, -1, -1, -1, -1, -1, -1, -1, -1]\n",
      "[0228_102552]***NEW ITR 20***\n"
     ]
    },
    {
     "name": "stderr",
     "output_type": "stream",
     "text": [
      "100%|██████████████████████████████████████████████████████| 274/274 [00:15<00:00, 18.05it/s]\n"
     ]
    },
    {
     "name": "stdout",
     "output_type": "stream",
     "text": [
      "assigned bin_idx 11\n",
      "Cur bump_idx: 11 bump amount: 3.751665644813329 target_class_pred: 16802 bin_idx: 11\n",
      "updating cur_bump_idx to 12, bump_amount to 4.689582056016661\n",
      "bumps: [0.2, 0.6103515625, 1.4901161193847656, 1.862645149230957, 2.3283064365386963, 2.6193447411060333, 2.9103830456733704, 3.092281986027956, 3.2741809263825417, 3.4788172342814505, 3.637978807091713, 3.751665644813329, 3.865352482534945, 4.092726157978177, -1, -1, -1, 4.547473508864641, -1, -1, -1, -1, -1, -1, -1, -1, -1, -1, -1, -1, -1, -1, -1, -1, -1, -1, -1, -1, -1, -1, -1, -1, -1, -1, -1, -1, -1, -1, -1, -1]\n",
      "[0228_102607]***NEW ITR 21***\n",
      "[0228_102607]***NEW ITR 22***\n",
      "[0228_102607]***NEW ITR 23***\n"
     ]
    },
    {
     "name": "stderr",
     "output_type": "stream",
     "text": [
      "100%|██████████████████████████████████████████████████████| 274/274 [00:15<00:00, 18.15it/s]\n"
     ]
    },
    {
     "name": "stdout",
     "output_type": "stream",
     "text": [
      "bin_idx < cur_bump_idx (13 and 14) delta=1.25 new bump_amount: 5.115907697472721\n"
     ]
    },
    {
     "name": "stderr",
     "output_type": "stream",
     "text": [
      "100%|██████████████████████████████████████████████████████| 274/274 [00:15<00:00, 18.24it/s]\n"
     ]
    },
    {
     "name": "stdout",
     "output_type": "stream",
     "text": [
      "assigned bin_idx 21\n",
      "Cur bump_idx: 14 bump amount: 5.115907697472721 target_class_pred: 25874 bin_idx: 21\n",
      "Overshot to bin 21. Decreasing bump amount to 4.604316927725449 aiming for bin 14\n",
      "bumps: [0.2, 0.6103515625, 1.4901161193847656, 1.862645149230957, 2.3283064365386963, 2.6193447411060333, 2.9103830456733704, 3.092281986027956, 3.2741809263825417, 3.4788172342814505, 3.637978807091713, 3.751665644813329, 3.865352482534945, 4.092726157978177, -1, -1, -1, 4.547473508864641, -1, -1, -1, 5.115907697472721, -1, -1, -1, -1, -1, -1, -1, -1, -1, -1, -1, -1, -1, -1, -1, -1, -1, -1, -1, -1, -1, -1, -1, -1, -1, -1, -1, -1]\n",
      "[0228_102637]***NEW ITR 24***\n"
     ]
    },
    {
     "name": "stderr",
     "output_type": "stream",
     "text": [
      "100%|██████████████████████████████████████████████████████| 274/274 [00:15<00:00, 17.66it/s]\n"
     ]
    },
    {
     "name": "stdout",
     "output_type": "stream",
     "text": [
      "Overshot to bin 17. Decreasing bump amount to 4.348521542851813 aiming for bin 14\n",
      "bumps: [0.2, 0.6103515625, 1.4901161193847656, 1.862645149230957, 2.3283064365386963, 2.6193447411060333, 2.9103830456733704, 3.092281986027956, 3.2741809263825417, 3.4788172342814505, 3.637978807091713, 3.751665644813329, 3.865352482534945, 4.092726157978177, -1, -1, -1, 4.547473508864641, -1, -1, -1, 5.115907697472721, -1, -1, -1, -1, -1, -1, -1, -1, -1, -1, -1, -1, -1, -1, -1, -1, -1, -1, -1, -1, -1, -1, -1, -1, -1, -1, -1, -1]\n",
      "[0228_102653]***NEW ITR 25***\n"
     ]
    },
    {
     "name": "stderr",
     "output_type": "stream",
     "text": [
      "100%|██████████████████████████████████████████████████████| 274/274 [00:15<00:00, 17.96it/s]\n"
     ]
    },
    {
     "name": "stdout",
     "output_type": "stream",
     "text": [
      "assigned bin_idx 15\n",
      "Cur bump_idx: 14 bump amount: 4.348521542851813 target_class_pred: 20515 bin_idx: 15\n",
      "Overshot to bin 15. Decreasing bump amount to 4.220623850414995 aiming for bin 14\n",
      "bumps: [0.2, 0.6103515625, 1.4901161193847656, 1.862645149230957, 2.3283064365386963, 2.6193447411060333, 2.9103830456733704, 3.092281986027956, 3.2741809263825417, 3.4788172342814505, 3.637978807091713, 3.751665644813329, 3.865352482534945, 4.092726157978177, -1, 4.348521542851813, -1, 4.547473508864641, -1, -1, -1, 5.115907697472721, -1, -1, -1, -1, -1, -1, -1, -1, -1, -1, -1, -1, -1, -1, -1, -1, -1, -1, -1, -1, -1, -1, -1, -1, -1, -1, -1, -1]\n",
      "[0228_102708]***NEW ITR 26***\n"
     ]
    },
    {
     "name": "stderr",
     "output_type": "stream",
     "text": [
      "100%|██████████████████████████████████████████████████████| 274/274 [00:15<00:00, 18.25it/s]\n"
     ]
    },
    {
     "name": "stdout",
     "output_type": "stream",
     "text": [
      "assigned bin_idx 14\n",
      "Cur bump_idx: 14 bump amount: 4.220623850414995 target_class_pred: 19655 bin_idx: 14\n",
      "updating cur_bump_idx to 15, bump_amount to 5.275779813018744\n",
      "bumps: [0.2, 0.6103515625, 1.4901161193847656, 1.862645149230957, 2.3283064365386963, 2.6193447411060333, 2.9103830456733704, 3.092281986027956, 3.2741809263825417, 3.4788172342814505, 3.637978807091713, 3.751665644813329, 3.865352482534945, 4.092726157978177, 4.220623850414995, 4.348521542851813, -1, 4.547473508864641, -1, -1, -1, 5.115907697472721, -1, -1, -1, -1, -1, -1, -1, -1, -1, -1, -1, -1, -1, -1, -1, -1, -1, -1, -1, -1, -1, -1, -1, -1, -1, -1, -1, -1]\n",
      "[0228_102723]***NEW ITR 27***\n",
      "[0228_102723]***NEW ITR 28***\n"
     ]
    },
    {
     "name": "stderr",
     "output_type": "stream",
     "text": [
      "100%|██████████████████████████████████████████████████████| 274/274 [00:14<00:00, 18.27it/s]\n"
     ]
    },
    {
     "name": "stdout",
     "output_type": "stream",
     "text": [
      "bin_idx < cur_bump_idx (15 and 16) delta=1.25 new bump_amount: 5.435651928564766\n"
     ]
    },
    {
     "name": "stderr",
     "output_type": "stream",
     "text": [
      "100%|██████████████████████████████████████████████████████| 274/274 [00:15<00:00, 17.71it/s]\n"
     ]
    },
    {
     "name": "stdout",
     "output_type": "stream",
     "text": [
      "assigned bin_idx 24\n",
      "Cur bump_idx: 16 bump amount: 5.435651928564766 target_class_pred: 28484 bin_idx: 24\n",
      "Overshot to bin 24. Decreasing bump amount to 4.89208673570829 aiming for bin 16\n",
      "bumps: [0.2, 0.6103515625, 1.4901161193847656, 1.862645149230957, 2.3283064365386963, 2.6193447411060333, 2.9103830456733704, 3.092281986027956, 3.2741809263825417, 3.4788172342814505, 3.637978807091713, 3.751665644813329, 3.865352482534945, 4.092726157978177, 4.220623850414995, 4.348521542851813, -1, 4.547473508864641, -1, -1, -1, 5.115907697472721, -1, -1, 5.435651928564766, -1, -1, -1, -1, -1, -1, -1, -1, -1, -1, -1, -1, -1, -1, -1, -1, -1, -1, -1, -1, -1, -1, -1, -1, -1]\n",
      "[0228_102753]***NEW ITR 29***\n"
     ]
    },
    {
     "name": "stderr",
     "output_type": "stream",
     "text": [
      "100%|██████████████████████████████████████████████████████| 274/274 [00:15<00:00, 18.01it/s]\n"
     ]
    },
    {
     "name": "stdout",
     "output_type": "stream",
     "text": [
      "assigned bin_idx 19\n",
      "Cur bump_idx: 16 bump amount: 4.89208673570829 target_class_pred: 24203 bin_idx: 19\n",
      "Overshot to bin 19. Decreasing bump amount to 4.6203041392800515 aiming for bin 16\n",
      "bumps: [0.2, 0.6103515625, 1.4901161193847656, 1.862645149230957, 2.3283064365386963, 2.6193447411060333, 2.9103830456733704, 3.092281986027956, 3.2741809263825417, 3.4788172342814505, 3.637978807091713, 3.751665644813329, 3.865352482534945, 4.092726157978177, 4.220623850414995, 4.348521542851813, -1, 4.547473508864641, -1, 4.89208673570829, -1, 5.115907697472721, -1, -1, 5.435651928564766, -1, -1, -1, -1, -1, -1, -1, -1, -1, -1, -1, -1, -1, -1, -1, -1, -1, -1, -1, -1, -1, -1, -1, -1, -1]\n",
      "[0228_102809]***NEW ITR 30***\n"
     ]
    },
    {
     "name": "stderr",
     "output_type": "stream",
     "text": [
      "100%|██████████████████████████████████████████████████████| 274/274 [00:15<00:00, 18.07it/s]\n"
     ]
    },
    {
     "name": "stdout",
     "output_type": "stream",
     "text": [
      "Overshot to bin 17. Decreasing bump amount to 4.484412841065932 aiming for bin 16\n",
      "bumps: [0.2, 0.6103515625, 1.4901161193847656, 1.862645149230957, 2.3283064365386963, 2.6193447411060333, 2.9103830456733704, 3.092281986027956, 3.2741809263825417, 3.4788172342814505, 3.637978807091713, 3.751665644813329, 3.865352482534945, 4.092726157978177, 4.220623850414995, 4.348521542851813, -1, 4.547473508864641, -1, 4.89208673570829, -1, 5.115907697472721, -1, -1, 5.435651928564766, -1, -1, -1, -1, -1, -1, -1, -1, -1, -1, -1, -1, -1, -1, -1, -1, -1, -1, -1, -1, -1, -1, -1, -1, -1]\n",
      "[0228_102824]***NEW ITR 31***\n"
     ]
    },
    {
     "name": "stderr",
     "output_type": "stream",
     "text": [
      "100%|██████████████████████████████████████████████████████| 274/274 [00:14<00:00, 18.32it/s]\n"
     ]
    },
    {
     "name": "stdout",
     "output_type": "stream",
     "text": [
      "assigned bin_idx 16\n",
      "Cur bump_idx: 16 bump amount: 4.484412841065932 target_class_pred: 21390 bin_idx: 16\n",
      "updating cur_bump_idx to 17, bump_amount to 5.605516051332415\n",
      "bumps: [0.2, 0.6103515625, 1.4901161193847656, 1.862645149230957, 2.3283064365386963, 2.6193447411060333, 2.9103830456733704, 3.092281986027956, 3.2741809263825417, 3.4788172342814505, 3.637978807091713, 3.751665644813329, 3.865352482534945, 4.092726157978177, 4.220623850414995, 4.348521542851813, 4.484412841065932, 4.547473508864641, -1, 4.89208673570829, -1, 5.115907697472721, -1, -1, 5.435651928564766, -1, -1, -1, -1, -1, -1, -1, -1, -1, -1, -1, -1, -1, -1, -1, -1, -1, -1, -1, -1, -1, -1, -1, -1, -1]\n",
      "[0228_102839]***NEW ITR 32***\n",
      "[0228_102839]***NEW ITR 33***\n"
     ]
    },
    {
     "name": "stderr",
     "output_type": "stream",
     "text": [
      "100%|██████████████████████████████████████████████████████| 274/274 [00:15<00:00, 17.64it/s]\n"
     ]
    },
    {
     "name": "stdout",
     "output_type": "stream",
     "text": [
      "bin_idx < cur_bump_idx (17 and 18) delta=1.25 new bump_amount: 5.6843418860808015\n"
     ]
    },
    {
     "name": "stderr",
     "output_type": "stream",
     "text": [
      "100%|██████████████████████████████████████████████████████| 274/274 [00:15<00:00, 17.86it/s]\n"
     ]
    },
    {
     "name": "stdout",
     "output_type": "stream",
     "text": [
      "assigned bin_idx 28\n",
      "Cur bump_idx: 18 bump amount: 5.6843418860808015 target_class_pred: 31816 bin_idx: 28\n",
      "Overshot to bin 28. Decreasing bump amount to 5.115907697472721 aiming for bin 18\n",
      "bumps: [0.2, 0.6103515625, 1.4901161193847656, 1.862645149230957, 2.3283064365386963, 2.6193447411060333, 2.9103830456733704, 3.092281986027956, 3.2741809263825417, 3.4788172342814505, 3.637978807091713, 3.751665644813329, 3.865352482534945, 4.092726157978177, 4.220623850414995, 4.348521542851813, 4.484412841065932, 4.547473508864641, -1, 4.89208673570829, -1, 5.115907697472721, -1, -1, 5.435651928564766, -1, -1, -1, 5.6843418860808015, -1, -1, -1, -1, -1, -1, -1, -1, -1, -1, -1, -1, -1, -1, -1, -1, -1, -1, -1, -1, -1]\n",
      "[0228_102910]***NEW ITR 34***\n"
     ]
    },
    {
     "name": "stderr",
     "output_type": "stream",
     "text": [
      "100%|██████████████████████████████████████████████████████| 274/274 [00:15<00:00, 18.08it/s]\n"
     ]
    },
    {
     "name": "stdout",
     "output_type": "stream",
     "text": [
      "Overshot to bin 21. Decreasing bump amount to 4.831690603168681 aiming for bin 18\n",
      "bumps: [0.2, 0.6103515625, 1.4901161193847656, 1.862645149230957, 2.3283064365386963, 2.6193447411060333, 2.9103830456733704, 3.092281986027956, 3.2741809263825417, 3.4788172342814505, 3.637978807091713, 3.751665644813329, 3.865352482534945, 4.092726157978177, 4.220623850414995, 4.348521542851813, 4.484412841065932, 4.547473508864641, -1, 4.89208673570829, -1, 5.115907697472721, -1, -1, 5.435651928564766, -1, -1, -1, 5.6843418860808015, -1, -1, -1, -1, -1, -1, -1, -1, -1, -1, -1, -1, -1, -1, -1, -1, -1, -1, -1, -1, -1]\n",
      "[0228_102925]***NEW ITR 35***\n"
     ]
    },
    {
     "name": "stderr",
     "output_type": "stream",
     "text": [
      "100%|██████████████████████████████████████████████████████| 274/274 [00:14<00:00, 18.40it/s]\n"
     ]
    },
    {
     "name": "stdout",
     "output_type": "stream",
     "text": [
      "Overshot to bin 19. Decreasing bump amount to 4.689582056016661 aiming for bin 18\n",
      "bumps: [0.2, 0.6103515625, 1.4901161193847656, 1.862645149230957, 2.3283064365386963, 2.6193447411060333, 2.9103830456733704, 3.092281986027956, 3.2741809263825417, 3.4788172342814505, 3.637978807091713, 3.751665644813329, 3.865352482534945, 4.092726157978177, 4.220623850414995, 4.348521542851813, 4.484412841065932, 4.547473508864641, -1, 4.89208673570829, -1, 5.115907697472721, -1, -1, 5.435651928564766, -1, -1, -1, 5.6843418860808015, -1, -1, -1, -1, -1, -1, -1, -1, -1, -1, -1, -1, -1, -1, -1, -1, -1, -1, -1, -1, -1]\n",
      "[0228_102940]***NEW ITR 36***\n"
     ]
    },
    {
     "name": "stderr",
     "output_type": "stream",
     "text": [
      "100%|██████████████████████████████████████████████████████| 274/274 [00:15<00:00, 17.60it/s]\n"
     ]
    },
    {
     "name": "stdout",
     "output_type": "stream",
     "text": [
      "assigned bin_idx 18\n",
      "Cur bump_idx: 18 bump amount: 4.689582056016661 target_class_pred: 22789 bin_idx: 18\n",
      "updating cur_bump_idx to 19, bump_amount to 5.8619775700208265\n",
      "bumps: [0.2, 0.6103515625, 1.4901161193847656, 1.862645149230957, 2.3283064365386963, 2.6193447411060333, 2.9103830456733704, 3.092281986027956, 3.2741809263825417, 3.4788172342814505, 3.637978807091713, 3.751665644813329, 3.865352482534945, 4.092726157978177, 4.220623850414995, 4.348521542851813, 4.484412841065932, 4.547473508864641, 4.689582056016661, 4.89208673570829, -1, 5.115907697472721, -1, -1, 5.435651928564766, -1, -1, -1, 5.6843418860808015, -1, -1, -1, -1, -1, -1, -1, -1, -1, -1, -1, -1, -1, -1, -1, -1, -1, -1, -1, -1, -1]\n",
      "[0228_102955]***NEW ITR 37***\n",
      "[0228_102955]***NEW ITR 38***\n"
     ]
    },
    {
     "name": "stderr",
     "output_type": "stream",
     "text": [
      "100%|██████████████████████████████████████████████████████| 274/274 [00:15<00:00, 17.94it/s]\n"
     ]
    },
    {
     "name": "stdout",
     "output_type": "stream",
     "text": [
      "bin_idx < cur_bump_idx (19 and 20) delta=1.25 new bump_amount: 6.115108419635362\n"
     ]
    },
    {
     "name": "stderr",
     "output_type": "stream",
     "text": [
      "100%|██████████████████████████████████████████████████████| 274/274 [00:15<00:00, 18.15it/s]\n",
      "/n/fs/ac-editing/model-editing/src/model/metric.py:168: RuntimeWarning: invalid value encountered in divide\n",
      "  return np.nan_to_num(TPs / (TPs + FPs))\n",
      "/n/fs/ac-editing/model-editing/src/model/metric.py:205: RuntimeWarning: invalid value encountered in divide\n",
      "  return np.nan_to_num(2 * precisions * recalls / (precisions + recalls))\n"
     ]
    },
    {
     "name": "stdout",
     "output_type": "stream",
     "text": [
      "assigned bin_idx 39\n",
      "Cur bump_idx: 20 bump amount: 6.115108419635362 target_class_pred: 41217 bin_idx: 39\n",
      "Overshot to bin 39. Decreasing bump amount to 5.503597577671826 aiming for bin 20\n",
      "bumps: [0.2, 0.6103515625, 1.4901161193847656, 1.862645149230957, 2.3283064365386963, 2.6193447411060333, 2.9103830456733704, 3.092281986027956, 3.2741809263825417, 3.4788172342814505, 3.637978807091713, 3.751665644813329, 3.865352482534945, 4.092726157978177, 4.220623850414995, 4.348521542851813, 4.484412841065932, 4.547473508864641, 4.689582056016661, 4.89208673570829, -1, 5.115907697472721, -1, -1, 5.435651928564766, -1, -1, -1, 5.6843418860808015, -1, -1, -1, -1, -1, -1, -1, -1, -1, -1, 6.115108419635362, -1, -1, -1, -1, -1, -1, -1, -1, -1, -1]\n",
      "[0228_103026]***NEW ITR 39***\n"
     ]
    },
    {
     "name": "stderr",
     "output_type": "stream",
     "text": [
      "100%|██████████████████████████████████████████████████████| 274/274 [00:14<00:00, 18.35it/s]\n"
     ]
    },
    {
     "name": "stdout",
     "output_type": "stream",
     "text": [
      "assigned bin_idx 25\n",
      "Cur bump_idx: 20 bump amount: 5.503597577671826 target_class_pred: 29169 bin_idx: 25\n",
      "Overshot to bin 25. Decreasing bump amount to 5.197842156690058 aiming for bin 20\n",
      "bumps: [0.2, 0.6103515625, 1.4901161193847656, 1.862645149230957, 2.3283064365386963, 2.6193447411060333, 2.9103830456733704, 3.092281986027956, 3.2741809263825417, 3.4788172342814505, 3.637978807091713, 3.751665644813329, 3.865352482534945, 4.092726157978177, 4.220623850414995, 4.348521542851813, 4.484412841065932, 4.547473508864641, 4.689582056016661, 4.89208673570829, -1, 5.115907697472721, -1, -1, 5.435651928564766, 5.503597577671826, -1, -1, 5.6843418860808015, -1, -1, -1, -1, -1, -1, -1, -1, -1, -1, 6.115108419635362, -1, -1, -1, -1, -1, -1, -1, -1, -1, -1]\n",
      "[0228_103041]***NEW ITR 40***\n"
     ]
    },
    {
     "name": "stderr",
     "output_type": "stream",
     "text": [
      "100%|██████████████████████████████████████████████████████| 274/274 [00:15<00:00, 17.62it/s]\n"
     ]
    },
    {
     "name": "stdout",
     "output_type": "stream",
     "text": [
      "assigned bin_idx 22\n",
      "Cur bump_idx: 20 bump amount: 5.197842156690058 target_class_pred: 26492 bin_idx: 22\n",
      "Overshot to bin 22. Decreasing bump amount to 5.044964446199174 aiming for bin 20\n",
      "bumps: [0.2, 0.6103515625, 1.4901161193847656, 1.862645149230957, 2.3283064365386963, 2.6193447411060333, 2.9103830456733704, 3.092281986027956, 3.2741809263825417, 3.4788172342814505, 3.637978807091713, 3.751665644813329, 3.865352482534945, 4.092726157978177, 4.220623850414995, 4.348521542851813, 4.484412841065932, 4.547473508864641, 4.689582056016661, 4.89208673570829, -1, 5.115907697472721, 5.197842156690058, -1, 5.435651928564766, 5.503597577671826, -1, -1, 5.6843418860808015, -1, -1, -1, -1, -1, -1, -1, -1, -1, -1, 6.115108419635362, -1, -1, -1, -1, -1, -1, -1, -1, -1, -1]\n",
      "[0228_103056]***NEW ITR 41***\n"
     ]
    },
    {
     "name": "stderr",
     "output_type": "stream",
     "text": [
      "100%|██████████████████████████████████████████████████████| 274/274 [00:15<00:00, 17.94it/s]\n"
     ]
    },
    {
     "name": "stdout",
     "output_type": "stream",
     "text": [
      "Overshot to bin 21. Decreasing bump amount to 4.968525590953732 aiming for bin 20\n",
      "bumps: [0.2, 0.6103515625, 1.4901161193847656, 1.862645149230957, 2.3283064365386963, 2.6193447411060333, 2.9103830456733704, 3.092281986027956, 3.2741809263825417, 3.4788172342814505, 3.637978807091713, 3.751665644813329, 3.865352482534945, 4.092726157978177, 4.220623850414995, 4.348521542851813, 4.484412841065932, 4.547473508864641, 4.689582056016661, 4.89208673570829, -1, 5.115907697472721, 5.197842156690058, -1, 5.435651928564766, 5.503597577671826, -1, -1, 5.6843418860808015, -1, -1, -1, -1, -1, -1, -1, -1, -1, -1, 6.115108419635362, -1, -1, -1, -1, -1, -1, -1, -1, -1, -1]\n",
      "[0228_103112]***NEW ITR 42***\n"
     ]
    },
    {
     "name": "stderr",
     "output_type": "stream",
     "text": [
      "100%|██████████████████████████████████████████████████████| 274/274 [00:15<00:00, 18.06it/s]\n"
     ]
    },
    {
     "name": "stdout",
     "output_type": "stream",
     "text": [
      "assigned bin_idx 20\n",
      "Cur bump_idx: 20 bump amount: 4.968525590953732 target_class_pred: 24755 bin_idx: 20\n",
      "updating cur_bump_idx to 21, bump_amount to 6.210656988692165\n",
      "bumps: [0.2, 0.6103515625, 1.4901161193847656, 1.862645149230957, 2.3283064365386963, 2.6193447411060333, 2.9103830456733704, 3.092281986027956, 3.2741809263825417, 3.4788172342814505, 3.637978807091713, 3.751665644813329, 3.865352482534945, 4.092726157978177, 4.220623850414995, 4.348521542851813, 4.484412841065932, 4.547473508864641, 4.689582056016661, 4.89208673570829, 4.968525590953732, 5.115907697472721, 5.197842156690058, -1, 5.435651928564766, 5.503597577671826, -1, -1, 5.6843418860808015, -1, -1, -1, -1, -1, -1, -1, -1, -1, -1, 6.115108419635362, -1, -1, -1, -1, -1, -1, -1, -1, -1, -1]\n",
      "[0228_103127]***NEW ITR 43***\n",
      "[0228_103127]***NEW ITR 44***\n",
      "[0228_103127]***NEW ITR 45***\n"
     ]
    },
    {
     "name": "stderr",
     "output_type": "stream",
     "text": [
      "100%|██████████████████████████████████████████████████████| 274/274 [00:14<00:00, 18.33it/s]\n"
     ]
    },
    {
     "name": "stdout",
     "output_type": "stream",
     "text": [
      "bin_idx < cur_bump_idx (22 and 23) delta=1.25 new bump_amount: 6.497302695862572\n"
     ]
    },
    {
     "name": "stderr",
     "output_type": "stream",
     "text": [
      "100%|██████████████████████████████████████████████████████| 274/274 [00:15<00:00, 17.65it/s]\n",
      "/n/fs/ac-editing/model-editing/src/model/metric.py:168: RuntimeWarning: invalid value encountered in divide\n",
      "  return np.nan_to_num(TPs / (TPs + FPs))\n",
      "/n/fs/ac-editing/model-editing/src/model/metric.py:205: RuntimeWarning: invalid value encountered in divide\n",
      "  return np.nan_to_num(2 * precisions * recalls / (precisions + recalls))\n"
     ]
    },
    {
     "name": "stdout",
     "output_type": "stream",
     "text": [
      "assigned bin_idx 45\n",
      "Cur bump_idx: 23 bump amount: 6.497302695862572 target_class_pred: 46611 bin_idx: 45\n",
      "Overshot to bin 45. Decreasing bump amount to 5.847572426276315 aiming for bin 23\n",
      "bumps: [0.2, 0.6103515625, 1.4901161193847656, 1.862645149230957, 2.3283064365386963, 2.6193447411060333, 2.9103830456733704, 3.092281986027956, 3.2741809263825417, 3.4788172342814505, 3.637978807091713, 3.751665644813329, 3.865352482534945, 4.092726157978177, 4.220623850414995, 4.348521542851813, 4.484412841065932, 4.547473508864641, 4.689582056016661, 4.89208673570829, 4.968525590953732, 5.115907697472721, 5.197842156690058, -1, 5.435651928564766, 5.503597577671826, -1, -1, 5.6843418860808015, -1, -1, -1, -1, -1, -1, -1, -1, -1, -1, 6.115108419635362, -1, -1, -1, -1, -1, 6.497302695862572, -1, -1, -1, -1]\n",
      "[0228_103157]***NEW ITR 46***\n"
     ]
    },
    {
     "name": "stderr",
     "output_type": "stream",
     "text": [
      "100%|██████████████████████████████████████████████████████| 274/274 [00:15<00:00, 17.93it/s]\n"
     ]
    },
    {
     "name": "stdout",
     "output_type": "stream",
     "text": [
      "assigned bin_idx 32\n",
      "Cur bump_idx: 23 bump amount: 5.847572426276315 target_class_pred: 34939 bin_idx: 32\n",
      "Overshot to bin 32. Decreasing bump amount to 5.5227072914831865 aiming for bin 23\n",
      "bumps: [0.2, 0.6103515625, 1.4901161193847656, 1.862645149230957, 2.3283064365386963, 2.6193447411060333, 2.9103830456733704, 3.092281986027956, 3.2741809263825417, 3.4788172342814505, 3.637978807091713, 3.751665644813329, 3.865352482534945, 4.092726157978177, 4.220623850414995, 4.348521542851813, 4.484412841065932, 4.547473508864641, 4.689582056016661, 4.89208673570829, 4.968525590953732, 5.115907697472721, 5.197842156690058, -1, 5.435651928564766, 5.503597577671826, -1, -1, 5.6843418860808015, -1, -1, -1, 5.847572426276315, -1, -1, -1, -1, -1, -1, 6.115108419635362, -1, -1, -1, -1, -1, 6.497302695862572, -1, -1, -1, -1]\n",
      "[0228_103213]***NEW ITR 47***\n"
     ]
    },
    {
     "name": "stderr",
     "output_type": "stream",
     "text": [
      "100%|██████████████████████████████████████████████████████| 274/274 [00:15<00:00, 18.07it/s]\n"
     ]
    },
    {
     "name": "stdout",
     "output_type": "stream",
     "text": [
      "Overshot to bin 25. Decreasing bump amount to 5.360274724086622 aiming for bin 23\n",
      "bumps: [0.2, 0.6103515625, 1.4901161193847656, 1.862645149230957, 2.3283064365386963, 2.6193447411060333, 2.9103830456733704, 3.092281986027956, 3.2741809263825417, 3.4788172342814505, 3.637978807091713, 3.751665644813329, 3.865352482534945, 4.092726157978177, 4.220623850414995, 4.348521542851813, 4.484412841065932, 4.547473508864641, 4.689582056016661, 4.89208673570829, 4.968525590953732, 5.115907697472721, 5.197842156690058, -1, 5.435651928564766, 5.503597577671826, -1, -1, 5.6843418860808015, -1, -1, -1, 5.847572426276315, -1, -1, -1, -1, -1, -1, 6.115108419635362, -1, -1, -1, -1, -1, 6.497302695862572, -1, -1, -1, -1]\n",
      "[0228_103228]***NEW ITR 48***\n"
     ]
    },
    {
     "name": "stderr",
     "output_type": "stream",
     "text": [
      "100%|██████████████████████████████████████████████████████| 274/274 [00:15<00:00, 18.26it/s]\n"
     ]
    },
    {
     "name": "stdout",
     "output_type": "stream",
     "text": [
      "assigned bin_idx 23\n",
      "Cur bump_idx: 23 bump amount: 5.360274724086622 target_class_pred: 27808 bin_idx: 23\n",
      "updating cur_bump_idx to 24, bump_amount to 6.700343405108278\n",
      "bumps: [0.2, 0.6103515625, 1.4901161193847656, 1.862645149230957, 2.3283064365386963, 2.6193447411060333, 2.9103830456733704, 3.092281986027956, 3.2741809263825417, 3.4788172342814505, 3.637978807091713, 3.751665644813329, 3.865352482534945, 4.092726157978177, 4.220623850414995, 4.348521542851813, 4.484412841065932, 4.547473508864641, 4.689582056016661, 4.89208673570829, 4.968525590953732, 5.115907697472721, 5.197842156690058, 5.360274724086622, 5.435651928564766, 5.503597577671826, -1, -1, 5.6843418860808015, -1, -1, -1, 5.847572426276315, -1, -1, -1, -1, -1, -1, 6.115108419635362, -1, -1, -1, -1, -1, 6.497302695862572, -1, -1, -1, -1]\n",
      "[0228_103243]***NEW ITR 49***\n",
      "[0228_103243]***NEW ITR 50***\n",
      "[0228_103243]***NEW ITR 51***\n"
     ]
    },
    {
     "name": "stderr",
     "output_type": "stream",
     "text": [
      "100%|██████████████████████████████████████████████████████| 274/274 [00:15<00:00, 17.64it/s]\n"
     ]
    },
    {
     "name": "stdout",
     "output_type": "stream",
     "text": [
      "bin_idx < cur_bump_idx (25 and 26) delta=1.25 new bump_amount: 6.8794969720897825\n"
     ]
    },
    {
     "name": "stderr",
     "output_type": "stream",
     "text": [
      "100%|██████████████████████████████████████████████████████| 274/274 [00:15<00:00, 17.81it/s]\n",
      "/n/fs/ac-editing/model-editing/src/model/metric.py:168: RuntimeWarning: invalid value encountered in divide\n",
      "  return np.nan_to_num(TPs / (TPs + FPs))\n",
      "/n/fs/ac-editing/model-editing/src/model/metric.py:205: RuntimeWarning: invalid value encountered in divide\n",
      "  return np.nan_to_num(2 * precisions * recalls / (precisions + recalls))\n"
     ]
    },
    {
     "name": "stdout",
     "output_type": "stream",
     "text": [
      "bin_idx > n_bins (51) delta=1.25 new bump_amount: 6.191547274880804\n",
      "[0228_103314]***NEW ITR 52***\n"
     ]
    },
    {
     "name": "stderr",
     "output_type": "stream",
     "text": [
      "100%|██████████████████████████████████████████████████████| 274/274 [00:15<00:00, 18.02it/s]\n",
      "/n/fs/ac-editing/model-editing/src/model/metric.py:168: RuntimeWarning: invalid value encountered in divide\n",
      "  return np.nan_to_num(TPs / (TPs + FPs))\n",
      "/n/fs/ac-editing/model-editing/src/model/metric.py:205: RuntimeWarning: invalid value encountered in divide\n",
      "  return np.nan_to_num(2 * precisions * recalls / (precisions + recalls))\n"
     ]
    },
    {
     "name": "stdout",
     "output_type": "stream",
     "text": [
      "assigned bin_idx 41\n",
      "Cur bump_idx: 26 bump amount: 6.191547274880804 target_class_pred: 43257 bin_idx: 41\n",
      "Overshot to bin 41. Decreasing bump amount to 5.847572426276315 aiming for bin 26\n",
      "bumps: [0.2, 0.6103515625, 1.4901161193847656, 1.862645149230957, 2.3283064365386963, 2.6193447411060333, 2.9103830456733704, 3.092281986027956, 3.2741809263825417, 3.4788172342814505, 3.637978807091713, 3.751665644813329, 3.865352482534945, 4.092726157978177, 4.220623850414995, 4.348521542851813, 4.484412841065932, 4.547473508864641, 4.689582056016661, 4.89208673570829, 4.968525590953732, 5.115907697472721, 5.197842156690058, 5.360274724086622, 5.435651928564766, 5.503597577671826, -1, -1, 5.6843418860808015, -1, -1, -1, 5.847572426276315, -1, -1, -1, -1, -1, -1, 6.115108419635362, -1, 6.191547274880804, -1, -1, -1, 6.497302695862572, -1, -1, -1, -1]\n",
      "[0228_103329]***NEW ITR 53***\n"
     ]
    },
    {
     "name": "stderr",
     "output_type": "stream",
     "text": [
      "100%|██████████████████████████████████████████████████████| 274/274 [00:14<00:00, 18.37it/s]\n"
     ]
    },
    {
     "name": "stdout",
     "output_type": "stream",
     "text": [
      "Overshot to bin 32. Decreasing bump amount to 5.675585001974071 aiming for bin 26\n",
      "bumps: [0.2, 0.6103515625, 1.4901161193847656, 1.862645149230957, 2.3283064365386963, 2.6193447411060333, 2.9103830456733704, 3.092281986027956, 3.2741809263825417, 3.4788172342814505, 3.637978807091713, 3.751665644813329, 3.865352482534945, 4.092726157978177, 4.220623850414995, 4.348521542851813, 4.484412841065932, 4.547473508864641, 4.689582056016661, 4.89208673570829, 4.968525590953732, 5.115907697472721, 5.197842156690058, 5.360274724086622, 5.435651928564766, 5.503597577671826, -1, -1, 5.6843418860808015, -1, -1, -1, 5.847572426276315, -1, -1, -1, -1, -1, -1, 6.115108419635362, -1, 6.191547274880804, -1, -1, -1, 6.497302695862572, -1, -1, -1, -1]\n",
      "[0228_103344]***NEW ITR 54***\n"
     ]
    },
    {
     "name": "stderr",
     "output_type": "stream",
     "text": [
      "100%|██████████████████████████████████████████████████████| 274/274 [00:15<00:00, 17.53it/s]\n"
     ]
    },
    {
     "name": "stdout",
     "output_type": "stream",
     "text": [
      "Overshot to bin 28. Decreasing bump amount to 5.589591289822948 aiming for bin 26\n",
      "bumps: [0.2, 0.6103515625, 1.4901161193847656, 1.862645149230957, 2.3283064365386963, 2.6193447411060333, 2.9103830456733704, 3.092281986027956, 3.2741809263825417, 3.4788172342814505, 3.637978807091713, 3.751665644813329, 3.865352482534945, 4.092726157978177, 4.220623850414995, 4.348521542851813, 4.484412841065932, 4.547473508864641, 4.689582056016661, 4.89208673570829, 4.968525590953732, 5.115907697472721, 5.197842156690058, 5.360274724086622, 5.435651928564766, 5.503597577671826, -1, -1, 5.6843418860808015, -1, -1, -1, 5.847572426276315, -1, -1, -1, -1, -1, -1, 6.115108419635362, -1, 6.191547274880804, -1, -1, -1, 6.497302695862572, -1, -1, -1, -1]\n",
      "[0228_103400]***NEW ITR 55***\n"
     ]
    },
    {
     "name": "stderr",
     "output_type": "stream",
     "text": [
      "100%|██████████████████████████████████████████████████████| 274/274 [00:15<00:00, 17.97it/s]\n"
     ]
    },
    {
     "name": "stdout",
     "output_type": "stream",
     "text": [
      "assigned bin_idx 26\n",
      "Cur bump_idx: 26 bump amount: 5.589591289822948 target_class_pred: 30167 bin_idx: 26\n",
      "updating cur_bump_idx to 27, bump_amount to 6.986989112278685\n",
      "bumps: [0.2, 0.6103515625, 1.4901161193847656, 1.862645149230957, 2.3283064365386963, 2.6193447411060333, 2.9103830456733704, 3.092281986027956, 3.2741809263825417, 3.4788172342814505, 3.637978807091713, 3.751665644813329, 3.865352482534945, 4.092726157978177, 4.220623850414995, 4.348521542851813, 4.484412841065932, 4.547473508864641, 4.689582056016661, 4.89208673570829, 4.968525590953732, 5.115907697472721, 5.197842156690058, 5.360274724086622, 5.435651928564766, 5.503597577671826, 5.589591289822948, -1, 5.6843418860808015, -1, -1, -1, 5.847572426276315, -1, -1, -1, -1, -1, -1, 6.115108419635362, -1, 6.191547274880804, -1, -1, -1, 6.497302695862572, -1, -1, -1, -1]\n",
      "[0228_103415]***NEW ITR 56***\n"
     ]
    },
    {
     "name": "stderr",
     "output_type": "stream",
     "text": [
      "100%|██████████████████████████████████████████████████████| 274/274 [00:15<00:00, 18.11it/s]\n",
      "/n/fs/ac-editing/model-editing/src/model/metric.py:168: RuntimeWarning: invalid value encountered in divide\n",
      "  return np.nan_to_num(TPs / (TPs + FPs))\n",
      "/n/fs/ac-editing/model-editing/src/model/metric.py:205: RuntimeWarning: invalid value encountered in divide\n",
      "  return np.nan_to_num(2 * precisions * recalls / (precisions + recalls))\n"
     ]
    },
    {
     "name": "stdout",
     "output_type": "stream",
     "text": [
      "bin_idx > n_bins (53) delta=1.25 new bump_amount: 6.288290201050817\n",
      "[0228_103430]***NEW ITR 57***\n"
     ]
    },
    {
     "name": "stderr",
     "output_type": "stream",
     "text": [
      "100%|██████████████████████████████████████████████████████| 274/274 [00:14<00:00, 18.41it/s]\n",
      "/n/fs/ac-editing/model-editing/src/model/metric.py:168: RuntimeWarning: invalid value encountered in divide\n",
      "  return np.nan_to_num(TPs / (TPs + FPs))\n",
      "/n/fs/ac-editing/model-editing/src/model/metric.py:205: RuntimeWarning: invalid value encountered in divide\n",
      "  return np.nan_to_num(2 * precisions * recalls / (precisions + recalls))\n"
     ]
    },
    {
     "name": "stdout",
     "output_type": "stream",
     "text": [
      "assigned bin_idx 43\n",
      "Cur bump_idx: 27 bump amount: 6.288290201050817 target_class_pred: 44758 bin_idx: 43\n",
      "Overshot to bin 43. Decreasing bump amount to 5.9389407454368826 aiming for bin 27\n",
      "bumps: [0.2, 0.6103515625, 1.4901161193847656, 1.862645149230957, 2.3283064365386963, 2.6193447411060333, 2.9103830456733704, 3.092281986027956, 3.2741809263825417, 3.4788172342814505, 3.637978807091713, 3.751665644813329, 3.865352482534945, 4.092726157978177, 4.220623850414995, 4.348521542851813, 4.484412841065932, 4.547473508864641, 4.689582056016661, 4.89208673570829, 4.968525590953732, 5.115907697472721, 5.197842156690058, 5.360274724086622, 5.435651928564766, 5.503597577671826, 5.589591289822948, -1, 5.6843418860808015, -1, -1, -1, 5.847572426276315, -1, -1, -1, -1, -1, -1, 6.115108419635362, -1, 6.191547274880804, -1, 6.288290201050817, -1, 6.497302695862572, -1, -1, -1, -1]\n",
      "[0228_103445]***NEW ITR 58***\n"
     ]
    },
    {
     "name": "stderr",
     "output_type": "stream",
     "text": [
      "100%|██████████████████████████████████████████████████████| 274/274 [00:15<00:00, 17.54it/s]\n"
     ]
    },
    {
     "name": "stdout",
     "output_type": "stream",
     "text": [
      "assigned bin_idx 33\n",
      "Cur bump_idx: 27 bump amount: 5.9389407454368826 target_class_pred: 36532 bin_idx: 33\n",
      "Overshot to bin 33. Decreasing bump amount to 5.764266017629915 aiming for bin 27\n",
      "bumps: [0.2, 0.6103515625, 1.4901161193847656, 1.862645149230957, 2.3283064365386963, 2.6193447411060333, 2.9103830456733704, 3.092281986027956, 3.2741809263825417, 3.4788172342814505, 3.637978807091713, 3.751665644813329, 3.865352482534945, 4.092726157978177, 4.220623850414995, 4.348521542851813, 4.484412841065932, 4.547473508864641, 4.689582056016661, 4.89208673570829, 4.968525590953732, 5.115907697472721, 5.197842156690058, 5.360274724086622, 5.435651928564766, 5.503597577671826, 5.589591289822948, -1, 5.6843418860808015, -1, -1, -1, 5.847572426276315, 5.9389407454368826, -1, -1, -1, -1, -1, 6.115108419635362, -1, 6.191547274880804, -1, 6.288290201050817, -1, 6.497302695862572, -1, -1, -1, -1]\n",
      "[0228_103501]***NEW ITR 59***\n"
     ]
    },
    {
     "name": "stderr",
     "output_type": "stream",
     "text": [
      "100%|██████████████████████████████████████████████████████| 274/274 [00:15<00:00, 17.91it/s]\n"
     ]
    },
    {
     "name": "stdout",
     "output_type": "stream",
     "text": [
      "assigned bin_idx 30\n",
      "Cur bump_idx: 27 bump amount: 5.764266017629915 target_class_pred: 33460 bin_idx: 30\n",
      "Overshot to bin 30. Decreasing bump amount to 5.676928653726431 aiming for bin 27\n",
      "bumps: [0.2, 0.6103515625, 1.4901161193847656, 1.862645149230957, 2.3283064365386963, 2.6193447411060333, 2.9103830456733704, 3.092281986027956, 3.2741809263825417, 3.4788172342814505, 3.637978807091713, 3.751665644813329, 3.865352482534945, 4.092726157978177, 4.220623850414995, 4.348521542851813, 4.484412841065932, 4.547473508864641, 4.689582056016661, 4.89208673570829, 4.968525590953732, 5.115907697472721, 5.197842156690058, 5.360274724086622, 5.435651928564766, 5.503597577671826, 5.589591289822948, -1, 5.6843418860808015, -1, 5.764266017629915, -1, 5.847572426276315, 5.9389407454368826, -1, -1, -1, -1, -1, 6.115108419635362, -1, 6.191547274880804, -1, 6.288290201050817, -1, 6.497302695862572, -1, -1, -1, -1]\n",
      "[0228_103516]***NEW ITR 60***\n"
     ]
    },
    {
     "name": "stderr",
     "output_type": "stream",
     "text": [
      "100%|██████████████████████████████████████████████████████| 274/274 [00:15<00:00, 18.15it/s]\n"
     ]
    },
    {
     "name": "stdout",
     "output_type": "stream",
     "text": [
      "Overshot to bin 28. Decreasing bump amount to 5.63325997177469 aiming for bin 27\n",
      "bumps: [0.2, 0.6103515625, 1.4901161193847656, 1.862645149230957, 2.3283064365386963, 2.6193447411060333, 2.9103830456733704, 3.092281986027956, 3.2741809263825417, 3.4788172342814505, 3.637978807091713, 3.751665644813329, 3.865352482534945, 4.092726157978177, 4.220623850414995, 4.348521542851813, 4.484412841065932, 4.547473508864641, 4.689582056016661, 4.89208673570829, 4.968525590953732, 5.115907697472721, 5.197842156690058, 5.360274724086622, 5.435651928564766, 5.503597577671826, 5.589591289822948, -1, 5.6843418860808015, -1, 5.764266017629915, -1, 5.847572426276315, 5.9389407454368826, -1, -1, -1, -1, -1, 6.115108419635362, -1, 6.191547274880804, -1, 6.288290201050817, -1, 6.497302695862572, -1, -1, -1, -1]\n",
      "[0228_103531]***NEW ITR 61***\n"
     ]
    },
    {
     "name": "stderr",
     "output_type": "stream",
     "text": [
      "100%|██████████████████████████████████████████████████████| 274/274 [00:14<00:00, 18.34it/s]\n"
     ]
    },
    {
     "name": "stdout",
     "output_type": "stream",
     "text": [
      "assigned bin_idx 27\n",
      "Cur bump_idx: 27 bump amount: 5.63325997177469 target_class_pred: 30890 bin_idx: 27\n",
      "updating cur_bump_idx to 28, bump_amount to 7.041574964718363\n",
      "bumps: [0.2, 0.6103515625, 1.4901161193847656, 1.862645149230957, 2.3283064365386963, 2.6193447411060333, 2.9103830456733704, 3.092281986027956, 3.2741809263825417, 3.4788172342814505, 3.637978807091713, 3.751665644813329, 3.865352482534945, 4.092726157978177, 4.220623850414995, 4.348521542851813, 4.484412841065932, 4.547473508864641, 4.689582056016661, 4.89208673570829, 4.968525590953732, 5.115907697472721, 5.197842156690058, 5.360274724086622, 5.435651928564766, 5.503597577671826, 5.589591289822948, 5.63325997177469, 5.6843418860808015, -1, 5.764266017629915, -1, 5.847572426276315, 5.9389407454368826, -1, -1, -1, -1, -1, 6.115108419635362, -1, 6.191547274880804, -1, 6.288290201050817, -1, 6.497302695862572, -1, -1, -1, -1]\n",
      "[0228_103546]***NEW ITR 62***\n",
      "[0228_103546]***NEW ITR 63***\n"
     ]
    },
    {
     "name": "stderr",
     "output_type": "stream",
     "text": [
      "100%|██████████████████████████████████████████████████████| 274/274 [00:15<00:00, 17.58it/s]\n"
     ]
    },
    {
     "name": "stdout",
     "output_type": "stream",
     "text": [
      "bin_idx < cur_bump_idx (28 and 29) delta=1.25 new bump_amount: 7.105427357601002\n"
     ]
    },
    {
     "name": "stderr",
     "output_type": "stream",
     "text": [
      "100%|██████████████████████████████████████████████████████| 274/274 [00:15<00:00, 17.90it/s]\n",
      "/n/fs/ac-editing/model-editing/src/model/metric.py:168: RuntimeWarning: invalid value encountered in divide\n",
      "  return np.nan_to_num(TPs / (TPs + FPs))\n",
      "/n/fs/ac-editing/model-editing/src/model/metric.py:205: RuntimeWarning: invalid value encountered in divide\n",
      "  return np.nan_to_num(2 * precisions * recalls / (precisions + recalls))\n"
     ]
    },
    {
     "name": "stdout",
     "output_type": "stream",
     "text": [
      "bin_idx > n_bins (55) delta=1.25 new bump_amount: 6.394884621840902\n",
      "[0228_103617]***NEW ITR 64***\n"
     ]
    },
    {
     "name": "stderr",
     "output_type": "stream",
     "text": [
      "100%|██████████████████████████████████████████████████████| 274/274 [00:15<00:00, 18.06it/s]\n",
      "/n/fs/ac-editing/model-editing/src/model/metric.py:168: RuntimeWarning: invalid value encountered in divide\n",
      "  return np.nan_to_num(TPs / (TPs + FPs))\n",
      "/n/fs/ac-editing/model-editing/src/model/metric.py:205: RuntimeWarning: invalid value encountered in divide\n",
      "  return np.nan_to_num(2 * precisions * recalls / (precisions + recalls))\n"
     ]
    },
    {
     "name": "stdout",
     "output_type": "stream",
     "text": [
      "assigned bin_idx 44\n",
      "Cur bump_idx: 29 bump amount: 6.394884621840902 target_class_pred: 45624 bin_idx: 44\n",
      "Overshot to bin 44. Decreasing bump amount to 6.039613253960852 aiming for bin 29\n",
      "bumps: [0.2, 0.6103515625, 1.4901161193847656, 1.862645149230957, 2.3283064365386963, 2.6193447411060333, 2.9103830456733704, 3.092281986027956, 3.2741809263825417, 3.4788172342814505, 3.637978807091713, 3.751665644813329, 3.865352482534945, 4.092726157978177, 4.220623850414995, 4.348521542851813, 4.484412841065932, 4.547473508864641, 4.689582056016661, 4.89208673570829, 4.968525590953732, 5.115907697472721, 5.197842156690058, 5.360274724086622, 5.435651928564766, 5.503597577671826, 5.589591289822948, 5.63325997177469, 5.6843418860808015, -1, 5.764266017629915, -1, 5.847572426276315, 5.9389407454368826, -1, -1, -1, -1, -1, 6.115108419635362, -1, 6.191547274880804, -1, 6.288290201050817, 6.394884621840902, 6.497302695862572, -1, -1, -1, -1]\n",
      "[0228_103632]***NEW ITR 65***\n"
     ]
    },
    {
     "name": "stderr",
     "output_type": "stream",
     "text": [
      "100%|██████████████████████████████████████████████████████| 274/274 [00:15<00:00, 18.23it/s]\n",
      "/n/fs/ac-editing/model-editing/src/model/metric.py:168: RuntimeWarning: invalid value encountered in divide\n",
      "  return np.nan_to_num(TPs / (TPs + FPs))\n",
      "/n/fs/ac-editing/model-editing/src/model/metric.py:205: RuntimeWarning: invalid value encountered in divide\n",
      "  return np.nan_to_num(2 * precisions * recalls / (precisions + recalls))\n"
     ]
    },
    {
     "name": "stdout",
     "output_type": "stream",
     "text": [
      "assigned bin_idx 36\n",
      "Cur bump_idx: 29 bump amount: 6.039613253960852 target_class_pred: 38934 bin_idx: 36\n",
      "Overshot to bin 36. Decreasing bump amount to 5.8619775700208265 aiming for bin 29\n",
      "bumps: [0.2, 0.6103515625, 1.4901161193847656, 1.862645149230957, 2.3283064365386963, 2.6193447411060333, 2.9103830456733704, 3.092281986027956, 3.2741809263825417, 3.4788172342814505, 3.637978807091713, 3.751665644813329, 3.865352482534945, 4.092726157978177, 4.220623850414995, 4.348521542851813, 4.484412841065932, 4.547473508864641, 4.689582056016661, 4.89208673570829, 4.968525590953732, 5.115907697472721, 5.197842156690058, 5.360274724086622, 5.435651928564766, 5.503597577671826, 5.589591289822948, 5.63325997177469, 5.6843418860808015, -1, 5.764266017629915, -1, 5.847572426276315, 5.9389407454368826, -1, -1, 6.039613253960852, -1, -1, 6.115108419635362, -1, 6.191547274880804, -1, 6.288290201050817, 6.394884621840902, 6.497302695862572, -1, -1, -1, -1]\n",
      "[0228_103647]***NEW ITR 66***\n"
     ]
    },
    {
     "name": "stderr",
     "output_type": "stream",
     "text": [
      "100%|██████████████████████████████████████████████████████| 274/274 [00:15<00:00, 17.71it/s]\n"
     ]
    },
    {
     "name": "stdout",
     "output_type": "stream",
     "text": [
      "Overshot to bin 32. Decreasing bump amount to 5.773159728050814 aiming for bin 29\n",
      "bumps: [0.2, 0.6103515625, 1.4901161193847656, 1.862645149230957, 2.3283064365386963, 2.6193447411060333, 2.9103830456733704, 3.092281986027956, 3.2741809263825417, 3.4788172342814505, 3.637978807091713, 3.751665644813329, 3.865352482534945, 4.092726157978177, 4.220623850414995, 4.348521542851813, 4.484412841065932, 4.547473508864641, 4.689582056016661, 4.89208673570829, 4.968525590953732, 5.115907697472721, 5.197842156690058, 5.360274724086622, 5.435651928564766, 5.503597577671826, 5.589591289822948, 5.63325997177469, 5.6843418860808015, -1, 5.764266017629915, -1, 5.847572426276315, 5.9389407454368826, -1, -1, 6.039613253960852, -1, -1, 6.115108419635362, -1, 6.191547274880804, -1, 6.288290201050817, 6.394884621840902, 6.497302695862572, -1, -1, -1, -1]\n",
      "[0228_103703]***NEW ITR 67***\n"
     ]
    },
    {
     "name": "stderr",
     "output_type": "stream",
     "text": [
      "100%|██████████████████████████████████████████████████████| 274/274 [00:15<00:00, 17.90it/s]\n"
     ]
    },
    {
     "name": "stdout",
     "output_type": "stream",
     "text": [
      "Overshot to bin 30. Decreasing bump amount to 5.728750807065808 aiming for bin 29\n",
      "bumps: [0.2, 0.6103515625, 1.4901161193847656, 1.862645149230957, 2.3283064365386963, 2.6193447411060333, 2.9103830456733704, 3.092281986027956, 3.2741809263825417, 3.4788172342814505, 3.637978807091713, 3.751665644813329, 3.865352482534945, 4.092726157978177, 4.220623850414995, 4.348521542851813, 4.484412841065932, 4.547473508864641, 4.689582056016661, 4.89208673570829, 4.968525590953732, 5.115907697472721, 5.197842156690058, 5.360274724086622, 5.435651928564766, 5.503597577671826, 5.589591289822948, 5.63325997177469, 5.6843418860808015, -1, 5.764266017629915, -1, 5.847572426276315, 5.9389407454368826, -1, -1, 6.039613253960852, -1, -1, 6.115108419635362, -1, 6.191547274880804, -1, 6.288290201050817, 6.394884621840902, 6.497302695862572, -1, -1, -1, -1]\n",
      "[0228_103718]***NEW ITR 68***\n"
     ]
    },
    {
     "name": "stderr",
     "output_type": "stream",
     "text": [
      "100%|██████████████████████████████████████████████████████| 274/274 [00:15<00:00, 18.03it/s]\n"
     ]
    },
    {
     "name": "stdout",
     "output_type": "stream",
     "text": [
      "assigned bin_idx 29\n",
      "Cur bump_idx: 29 bump amount: 5.728750807065808 target_class_pred: 32714 bin_idx: 29\n",
      "updating cur_bump_idx to 30, bump_amount to 7.16093850883226\n",
      "bumps: [0.2, 0.6103515625, 1.4901161193847656, 1.862645149230957, 2.3283064365386963, 2.6193447411060333, 2.9103830456733704, 3.092281986027956, 3.2741809263825417, 3.4788172342814505, 3.637978807091713, 3.751665644813329, 3.865352482534945, 4.092726157978177, 4.220623850414995, 4.348521542851813, 4.484412841065932, 4.547473508864641, 4.689582056016661, 4.89208673570829, 4.968525590953732, 5.115907697472721, 5.197842156690058, 5.360274724086622, 5.435651928564766, 5.503597577671826, 5.589591289822948, 5.63325997177469, 5.6843418860808015, 5.728750807065808, 5.764266017629915, -1, 5.847572426276315, 5.9389407454368826, -1, -1, 6.039613253960852, -1, -1, 6.115108419635362, -1, 6.191547274880804, -1, 6.288290201050817, 6.394884621840902, 6.497302695862572, -1, -1, -1, -1]\n",
      "[0228_103733]***NEW ITR 69***\n",
      "[0228_103733]***NEW ITR 70***\n"
     ]
    },
    {
     "name": "stderr",
     "output_type": "stream",
     "text": [
      "100%|██████████████████████████████████████████████████████| 274/274 [00:15<00:00, 18.18it/s]\n"
     ]
    },
    {
     "name": "stdout",
     "output_type": "stream",
     "text": [
      "bin_idx < cur_bump_idx (30 and 31) delta=1.25 new bump_amount: 7.205332522037394\n"
     ]
    },
    {
     "name": "stderr",
     "output_type": "stream",
     "text": [
      "100%|██████████████████████████████████████████████████████| 274/274 [00:15<00:00, 17.70it/s]\n",
      "/n/fs/ac-editing/model-editing/src/model/metric.py:168: RuntimeWarning: invalid value encountered in divide\n",
      "  return np.nan_to_num(TPs / (TPs + FPs))\n",
      "/n/fs/ac-editing/model-editing/src/model/metric.py:205: RuntimeWarning: invalid value encountered in divide\n",
      "  return np.nan_to_num(2 * precisions * recalls / (precisions + recalls))\n"
     ]
    },
    {
     "name": "stdout",
     "output_type": "stream",
     "text": [
      "bin_idx > n_bins (57) delta=1.25 new bump_amount: 6.484799269833655\n",
      "[0228_103804]***NEW ITR 71***\n"
     ]
    },
    {
     "name": "stderr",
     "output_type": "stream",
     "text": [
      "100%|██████████████████████████████████████████████████████| 274/274 [00:15<00:00, 17.99it/s]\n",
      "/n/fs/ac-editing/model-editing/src/model/metric.py:168: RuntimeWarning: invalid value encountered in divide\n",
      "  return np.nan_to_num(TPs / (TPs + FPs))\n",
      "/n/fs/ac-editing/model-editing/src/model/metric.py:205: RuntimeWarning: invalid value encountered in divide\n",
      "  return np.nan_to_num(2 * precisions * recalls / (precisions + recalls))\n"
     ]
    },
    {
     "name": "stdout",
     "output_type": "stream",
     "text": [
      "Overshot to bin 45. Decreasing bump amount to 6.124532643731785 aiming for bin 31\n",
      "bumps: [0.2, 0.6103515625, 1.4901161193847656, 1.862645149230957, 2.3283064365386963, 2.6193447411060333, 2.9103830456733704, 3.092281986027956, 3.2741809263825417, 3.4788172342814505, 3.637978807091713, 3.751665644813329, 3.865352482534945, 4.092726157978177, 4.220623850414995, 4.348521542851813, 4.484412841065932, 4.547473508864641, 4.689582056016661, 4.89208673570829, 4.968525590953732, 5.115907697472721, 5.197842156690058, 5.360274724086622, 5.435651928564766, 5.503597577671826, 5.589591289822948, 5.63325997177469, 5.6843418860808015, 5.728750807065808, 5.764266017629915, -1, 5.847572426276315, 5.9389407454368826, -1, -1, 6.039613253960852, -1, -1, 6.115108419635362, -1, 6.191547274880804, -1, 6.288290201050817, 6.394884621840902, 6.497302695862572, -1, -1, -1, -1]\n",
      "[0228_103819]***NEW ITR 72***\n"
     ]
    },
    {
     "name": "stderr",
     "output_type": "stream",
     "text": [
      "100%|██████████████████████████████████████████████████████| 274/274 [00:15<00:00, 18.11it/s]\n",
      "/n/fs/ac-editing/model-editing/src/model/metric.py:168: RuntimeWarning: invalid value encountered in divide\n",
      "  return np.nan_to_num(TPs / (TPs + FPs))\n",
      "/n/fs/ac-editing/model-editing/src/model/metric.py:205: RuntimeWarning: invalid value encountered in divide\n",
      "  return np.nan_to_num(2 * precisions * recalls / (precisions + recalls))\n"
     ]
    },
    {
     "name": "stdout",
     "output_type": "stream",
     "text": [
      "Overshot to bin 39. Decreasing bump amount to 5.9443993306808505 aiming for bin 31\n",
      "bumps: [0.2, 0.6103515625, 1.4901161193847656, 1.862645149230957, 2.3283064365386963, 2.6193447411060333, 2.9103830456733704, 3.092281986027956, 3.2741809263825417, 3.4788172342814505, 3.637978807091713, 3.751665644813329, 3.865352482534945, 4.092726157978177, 4.220623850414995, 4.348521542851813, 4.484412841065932, 4.547473508864641, 4.689582056016661, 4.89208673570829, 4.968525590953732, 5.115907697472721, 5.197842156690058, 5.360274724086622, 5.435651928564766, 5.503597577671826, 5.589591289822948, 5.63325997177469, 5.6843418860808015, 5.728750807065808, 5.764266017629915, -1, 5.847572426276315, 5.9389407454368826, -1, -1, 6.039613253960852, -1, -1, 6.115108419635362, -1, 6.191547274880804, -1, 6.288290201050817, 6.394884621840902, 6.497302695862572, -1, -1, -1, -1]\n",
      "[0228_103834]***NEW ITR 73***\n"
     ]
    },
    {
     "name": "stderr",
     "output_type": "stream",
     "text": [
      "100%|██████████████████████████████████████████████████████| 274/274 [00:14<00:00, 18.53it/s]\n"
     ]
    },
    {
     "name": "stdout",
     "output_type": "stream",
     "text": [
      "Overshot to bin 33. Decreasing bump amount to 5.854332674155383 aiming for bin 31\n",
      "bumps: [0.2, 0.6103515625, 1.4901161193847656, 1.862645149230957, 2.3283064365386963, 2.6193447411060333, 2.9103830456733704, 3.092281986027956, 3.2741809263825417, 3.4788172342814505, 3.637978807091713, 3.751665644813329, 3.865352482534945, 4.092726157978177, 4.220623850414995, 4.348521542851813, 4.484412841065932, 4.547473508864641, 4.689582056016661, 4.89208673570829, 4.968525590953732, 5.115907697472721, 5.197842156690058, 5.360274724086622, 5.435651928564766, 5.503597577671826, 5.589591289822948, 5.63325997177469, 5.6843418860808015, 5.728750807065808, 5.764266017629915, -1, 5.847572426276315, 5.9389407454368826, -1, -1, 6.039613253960852, -1, -1, 6.115108419635362, -1, 6.191547274880804, -1, 6.288290201050817, 6.394884621840902, 6.497302695862572, -1, -1, -1, -1]\n",
      "[0228_103849]***NEW ITR 74***\n"
     ]
    },
    {
     "name": "stderr",
     "output_type": "stream",
     "text": [
      "100%|██████████████████████████████████████████████████████| 274/274 [00:15<00:00, 17.47it/s]\n"
     ]
    },
    {
     "name": "stdout",
     "output_type": "stream",
     "text": [
      "Overshot to bin 32. Decreasing bump amount to 5.809299345892649 aiming for bin 31\n",
      "bumps: [0.2, 0.6103515625, 1.4901161193847656, 1.862645149230957, 2.3283064365386963, 2.6193447411060333, 2.9103830456733704, 3.092281986027956, 3.2741809263825417, 3.4788172342814505, 3.637978807091713, 3.751665644813329, 3.865352482534945, 4.092726157978177, 4.220623850414995, 4.348521542851813, 4.484412841065932, 4.547473508864641, 4.689582056016661, 4.89208673570829, 4.968525590953732, 5.115907697472721, 5.197842156690058, 5.360274724086622, 5.435651928564766, 5.503597577671826, 5.589591289822948, 5.63325997177469, 5.6843418860808015, 5.728750807065808, 5.764266017629915, -1, 5.847572426276315, 5.9389407454368826, -1, -1, 6.039613253960852, -1, -1, 6.115108419635362, -1, 6.191547274880804, -1, 6.288290201050817, 6.394884621840902, 6.497302695862572, -1, -1, -1, -1]\n",
      "[0228_103905]***NEW ITR 75***\n"
     ]
    },
    {
     "name": "stderr",
     "output_type": "stream",
     "text": [
      "100%|██████████████████████████████████████████████████████| 274/274 [00:15<00:00, 17.89it/s]\n"
     ]
    },
    {
     "name": "stdout",
     "output_type": "stream",
     "text": [
      "assigned bin_idx 31\n",
      "Cur bump_idx: 31 bump amount: 5.809299345892649 target_class_pred: 34271 bin_idx: 31\n",
      "updating cur_bump_idx to 32, bump_amount to 7.261624182365811\n",
      "bumps: [0.2, 0.6103515625, 1.4901161193847656, 1.862645149230957, 2.3283064365386963, 2.6193447411060333, 2.9103830456733704, 3.092281986027956, 3.2741809263825417, 3.4788172342814505, 3.637978807091713, 3.751665644813329, 3.865352482534945, 4.092726157978177, 4.220623850414995, 4.348521542851813, 4.484412841065932, 4.547473508864641, 4.689582056016661, 4.89208673570829, 4.968525590953732, 5.115907697472721, 5.197842156690058, 5.360274724086622, 5.435651928564766, 5.503597577671826, 5.589591289822948, 5.63325997177469, 5.6843418860808015, 5.728750807065808, 5.764266017629915, 5.809299345892649, 5.847572426276315, 5.9389407454368826, -1, -1, 6.039613253960852, -1, -1, 6.115108419635362, -1, 6.191547274880804, -1, 6.288290201050817, 6.394884621840902, 6.497302695862572, -1, -1, -1, -1]\n",
      "[0228_103920]***NEW ITR 76***\n",
      "[0228_103920]***NEW ITR 77***\n",
      "[0228_103920]***NEW ITR 78***\n"
     ]
    },
    {
     "name": "stderr",
     "output_type": "stream",
     "text": [
      "100%|██████████████████████████████████████████████████████| 274/274 [00:15<00:00, 18.05it/s]\n"
     ]
    },
    {
     "name": "stdout",
     "output_type": "stream",
     "text": [
      "bin_idx < cur_bump_idx (33 and 34) delta=1.25 new bump_amount: 7.423675931796103\n"
     ]
    },
    {
     "name": "stderr",
     "output_type": "stream",
     "text": [
      "100%|██████████████████████████████████████████████████████| 274/274 [00:14<00:00, 18.32it/s]\n",
      "/n/fs/ac-editing/model-editing/src/model/metric.py:168: RuntimeWarning: invalid value encountered in divide\n",
      "  return np.nan_to_num(TPs / (TPs + FPs))\n",
      "/n/fs/ac-editing/model-editing/src/model/metric.py:205: RuntimeWarning: invalid value encountered in divide\n",
      "  return np.nan_to_num(2 * precisions * recalls / (precisions + recalls))\n"
     ]
    },
    {
     "name": "stdout",
     "output_type": "stream",
     "text": [
      "bin_idx > n_bins (59) delta=1.25 new bump_amount: 6.681308338616493\n",
      "[0228_103950]***NEW ITR 79***\n"
     ]
    },
    {
     "name": "stderr",
     "output_type": "stream",
     "text": [
      "100%|██████████████████████████████████████████████████████| 274/274 [00:15<00:00, 17.64it/s]\n",
      "/n/fs/ac-editing/model-editing/src/model/metric.py:168: RuntimeWarning: invalid value encountered in divide\n",
      "  return np.nan_to_num(TPs / (TPs + FPs))\n",
      "/n/fs/ac-editing/model-editing/src/model/metric.py:205: RuntimeWarning: invalid value encountered in divide\n",
      "  return np.nan_to_num(2 * precisions * recalls / (precisions + recalls))\n"
     ]
    },
    {
     "name": "stdout",
     "output_type": "stream",
     "text": [
      "assigned bin_idx 48\n",
      "Cur bump_idx: 34 bump amount: 6.681308338616493 target_class_pred: 49046 bin_idx: 48\n",
      "Overshot to bin 48. Decreasing bump amount to 6.310124542026688 aiming for bin 34\n",
      "bumps: [0.2, 0.6103515625, 1.4901161193847656, 1.862645149230957, 2.3283064365386963, 2.6193447411060333, 2.9103830456733704, 3.092281986027956, 3.2741809263825417, 3.4788172342814505, 3.637978807091713, 3.751665644813329, 3.865352482534945, 4.092726157978177, 4.220623850414995, 4.348521542851813, 4.484412841065932, 4.547473508864641, 4.689582056016661, 4.89208673570829, 4.968525590953732, 5.115907697472721, 5.197842156690058, 5.360274724086622, 5.435651928564766, 5.503597577671826, 5.589591289822948, 5.63325997177469, 5.6843418860808015, 5.728750807065808, 5.764266017629915, 5.809299345892649, 5.847572426276315, 5.9389407454368826, -1, -1, 6.039613253960852, -1, -1, 6.115108419635362, -1, 6.191547274880804, -1, 6.288290201050817, 6.394884621840902, 6.497302695862572, -1, -1, 6.681308338616493, -1]\n",
      "[0228_104006]***NEW ITR 80***\n"
     ]
    },
    {
     "name": "stderr",
     "output_type": "stream",
     "text": [
      "100%|██████████████████████████████████████████████████████| 274/274 [00:15<00:00, 17.83it/s]\n",
      "/n/fs/ac-editing/model-editing/src/model/metric.py:168: RuntimeWarning: invalid value encountered in divide\n",
      "  return np.nan_to_num(TPs / (TPs + FPs))\n",
      "/n/fs/ac-editing/model-editing/src/model/metric.py:205: RuntimeWarning: invalid value encountered in divide\n",
      "  return np.nan_to_num(2 * precisions * recalls / (precisions + recalls))\n"
     ]
    },
    {
     "name": "stdout",
     "output_type": "stream",
     "text": [
      "Overshot to bin 43. Decreasing bump amount to 6.124532643731785 aiming for bin 34\n",
      "bumps: [0.2, 0.6103515625, 1.4901161193847656, 1.862645149230957, 2.3283064365386963, 2.6193447411060333, 2.9103830456733704, 3.092281986027956, 3.2741809263825417, 3.4788172342814505, 3.637978807091713, 3.751665644813329, 3.865352482534945, 4.092726157978177, 4.220623850414995, 4.348521542851813, 4.484412841065932, 4.547473508864641, 4.689582056016661, 4.89208673570829, 4.968525590953732, 5.115907697472721, 5.197842156690058, 5.360274724086622, 5.435651928564766, 5.503597577671826, 5.589591289822948, 5.63325997177469, 5.6843418860808015, 5.728750807065808, 5.764266017629915, 5.809299345892649, 5.847572426276315, 5.9389407454368826, -1, -1, 6.039613253960852, -1, -1, 6.115108419635362, -1, 6.191547274880804, -1, 6.288290201050817, 6.394884621840902, 6.497302695862572, -1, -1, 6.681308338616493, -1]\n",
      "[0228_104021]***NEW ITR 81***\n"
     ]
    },
    {
     "name": "stderr",
     "output_type": "stream",
     "text": [
      "100%|██████████████████████████████████████████████████████| 274/274 [00:15<00:00, 18.13it/s]\n",
      "/n/fs/ac-editing/model-editing/src/model/metric.py:168: RuntimeWarning: invalid value encountered in divide\n",
      "  return np.nan_to_num(TPs / (TPs + FPs))\n",
      "/n/fs/ac-editing/model-editing/src/model/metric.py:205: RuntimeWarning: invalid value encountered in divide\n",
      "  return np.nan_to_num(2 * precisions * recalls / (precisions + recalls))\n"
     ]
    },
    {
     "name": "stdout",
     "output_type": "stream",
     "text": [
      "Overshot to bin 39. Decreasing bump amount to 6.031736694584334 aiming for bin 34\n",
      "bumps: [0.2, 0.6103515625, 1.4901161193847656, 1.862645149230957, 2.3283064365386963, 2.6193447411060333, 2.9103830456733704, 3.092281986027956, 3.2741809263825417, 3.4788172342814505, 3.637978807091713, 3.751665644813329, 3.865352482534945, 4.092726157978177, 4.220623850414995, 4.348521542851813, 4.484412841065932, 4.547473508864641, 4.689582056016661, 4.89208673570829, 4.968525590953732, 5.115907697472721, 5.197842156690058, 5.360274724086622, 5.435651928564766, 5.503597577671826, 5.589591289822948, 5.63325997177469, 5.6843418860808015, 5.728750807065808, 5.764266017629915, 5.809299345892649, 5.847572426276315, 5.9389407454368826, -1, -1, 6.039613253960852, -1, -1, 6.115108419635362, -1, 6.191547274880804, -1, 6.288290201050817, 6.394884621840902, 6.497302695862572, -1, -1, 6.681308338616493, -1]\n",
      "[0228_104036]***NEW ITR 82***\n"
     ]
    },
    {
     "name": "stderr",
     "output_type": "stream",
     "text": [
      "100%|██████████████████████████████████████████████████████| 274/274 [00:14<00:00, 18.48it/s]\n"
     ]
    },
    {
     "name": "stdout",
     "output_type": "stream",
     "text": [
      "Overshot to bin 36. Decreasing bump amount to 5.985338720010608 aiming for bin 34\n",
      "bumps: [0.2, 0.6103515625, 1.4901161193847656, 1.862645149230957, 2.3283064365386963, 2.6193447411060333, 2.9103830456733704, 3.092281986027956, 3.2741809263825417, 3.4788172342814505, 3.637978807091713, 3.751665644813329, 3.865352482534945, 4.092726157978177, 4.220623850414995, 4.348521542851813, 4.484412841065932, 4.547473508864641, 4.689582056016661, 4.89208673570829, 4.968525590953732, 5.115907697472721, 5.197842156690058, 5.360274724086622, 5.435651928564766, 5.503597577671826, 5.589591289822948, 5.63325997177469, 5.6843418860808015, 5.728750807065808, 5.764266017629915, 5.809299345892649, 5.847572426276315, 5.9389407454368826, -1, -1, 6.039613253960852, -1, -1, 6.115108419635362, -1, 6.191547274880804, -1, 6.288290201050817, 6.394884621840902, 6.497302695862572, -1, -1, 6.681308338616493, -1]\n",
      "[0228_104051]***NEW ITR 83***\n"
     ]
    },
    {
     "name": "stderr",
     "output_type": "stream",
     "text": [
      "100%|██████████████████████████████████████████████████████| 274/274 [00:15<00:00, 17.77it/s]\n"
     ]
    },
    {
     "name": "stdout",
     "output_type": "stream",
     "text": [
      "assigned bin_idx 34\n",
      "Cur bump_idx: 34 bump amount: 5.985338720010608 target_class_pred: 37478 bin_idx: 34\n",
      "updating cur_bump_idx to 35, bump_amount to 7.4816734000132605\n",
      "bumps: [0.2, 0.6103515625, 1.4901161193847656, 1.862645149230957, 2.3283064365386963, 2.6193447411060333, 2.9103830456733704, 3.092281986027956, 3.2741809263825417, 3.4788172342814505, 3.637978807091713, 3.751665644813329, 3.865352482534945, 4.092726157978177, 4.220623850414995, 4.348521542851813, 4.484412841065932, 4.547473508864641, 4.689582056016661, 4.89208673570829, 4.968525590953732, 5.115907697472721, 5.197842156690058, 5.360274724086622, 5.435651928564766, 5.503597577671826, 5.589591289822948, 5.63325997177469, 5.6843418860808015, 5.728750807065808, 5.764266017629915, 5.809299345892649, 5.847572426276315, 5.9389407454368826, 5.985338720010608, -1, 6.039613253960852, -1, -1, 6.115108419635362, -1, 6.191547274880804, -1, 6.288290201050817, 6.394884621840902, 6.497302695862572, -1, -1, 6.681308338616493, -1]\n",
      "[0228_104107]***NEW ITR 84***\n"
     ]
    },
    {
     "name": "stderr",
     "output_type": "stream",
     "text": [
      "100%|██████████████████████████████████████████████████████| 274/274 [00:15<00:00, 17.90it/s]\n",
      "/n/fs/ac-editing/model-editing/src/model/metric.py:168: RuntimeWarning: invalid value encountered in divide\n",
      "  return np.nan_to_num(TPs / (TPs + FPs))\n",
      "/n/fs/ac-editing/model-editing/src/model/metric.py:205: RuntimeWarning: invalid value encountered in divide\n",
      "  return np.nan_to_num(2 * precisions * recalls / (precisions + recalls))\n"
     ]
    },
    {
     "name": "stdout",
     "output_type": "stream",
     "text": [
      "bin_idx > n_bins (59) delta=1.25 new bump_amount: 6.733506060011934\n",
      "[0228_104122]***NEW ITR 85***\n"
     ]
    },
    {
     "name": "stderr",
     "output_type": "stream",
     "text": [
      "100%|██████████████████████████████████████████████████████| 274/274 [00:15<00:00, 18.02it/s]\n",
      "/n/fs/ac-editing/model-editing/src/model/metric.py:168: RuntimeWarning: invalid value encountered in divide\n",
      "  return np.nan_to_num(TPs / (TPs + FPs))\n",
      "/n/fs/ac-editing/model-editing/src/model/metric.py:205: RuntimeWarning: invalid value encountered in divide\n",
      "  return np.nan_to_num(2 * precisions * recalls / (precisions + recalls))\n"
     ]
    },
    {
     "name": "stdout",
     "output_type": "stream",
     "text": [
      "assigned bin_idx 49\n",
      "Cur bump_idx: 35 bump amount: 6.733506060011934 target_class_pred: 49824 bin_idx: 49\n",
      "Overshot to bin 49. Decreasing bump amount to 6.359422390011272 aiming for bin 35\n",
      "bumps: [0.2, 0.6103515625, 1.4901161193847656, 1.862645149230957, 2.3283064365386963, 2.6193447411060333, 2.9103830456733704, 3.092281986027956, 3.2741809263825417, 3.4788172342814505, 3.637978807091713, 3.751665644813329, 3.865352482534945, 4.092726157978177, 4.220623850414995, 4.348521542851813, 4.484412841065932, 4.547473508864641, 4.689582056016661, 4.89208673570829, 4.968525590953732, 5.115907697472721, 5.197842156690058, 5.360274724086622, 5.435651928564766, 5.503597577671826, 5.589591289822948, 5.63325997177469, 5.6843418860808015, 5.728750807065808, 5.764266017629915, 5.809299345892649, 5.847572426276315, 5.9389407454368826, 5.985338720010608, -1, 6.039613253960852, -1, -1, 6.115108419635362, -1, 6.191547274880804, -1, 6.288290201050817, 6.394884621840902, 6.497302695862572, -1, -1, 6.681308338616493, 6.733506060011934]\n",
      "[0228_104137]***NEW ITR 86***\n"
     ]
    },
    {
     "name": "stderr",
     "output_type": "stream",
     "text": [
      "100%|██████████████████████████████████████████████████████| 274/274 [00:14<00:00, 18.27it/s]\n",
      "/n/fs/ac-editing/model-editing/src/model/metric.py:168: RuntimeWarning: invalid value encountered in divide\n",
      "  return np.nan_to_num(TPs / (TPs + FPs))\n",
      "/n/fs/ac-editing/model-editing/src/model/metric.py:205: RuntimeWarning: invalid value encountered in divide\n",
      "  return np.nan_to_num(2 * precisions * recalls / (precisions + recalls))\n"
     ]
    },
    {
     "name": "stdout",
     "output_type": "stream",
     "text": [
      "Overshot to bin 43. Decreasing bump amount to 6.17238055501094 aiming for bin 35\n",
      "bumps: [0.2, 0.6103515625, 1.4901161193847656, 1.862645149230957, 2.3283064365386963, 2.6193447411060333, 2.9103830456733704, 3.092281986027956, 3.2741809263825417, 3.4788172342814505, 3.637978807091713, 3.751665644813329, 3.865352482534945, 4.092726157978177, 4.220623850414995, 4.348521542851813, 4.484412841065932, 4.547473508864641, 4.689582056016661, 4.89208673570829, 4.968525590953732, 5.115907697472721, 5.197842156690058, 5.360274724086622, 5.435651928564766, 5.503597577671826, 5.589591289822948, 5.63325997177469, 5.6843418860808015, 5.728750807065808, 5.764266017629915, 5.809299345892649, 5.847572426276315, 5.9389407454368826, 5.985338720010608, -1, 6.039613253960852, -1, -1, 6.115108419635362, -1, 6.191547274880804, -1, 6.288290201050817, 6.394884621840902, 6.497302695862572, -1, -1, 6.681308338616493, 6.733506060011934]\n",
      "[0228_104152]***NEW ITR 87***\n"
     ]
    },
    {
     "name": "stderr",
     "output_type": "stream",
     "text": [
      "100%|██████████████████████████████████████████████████████| 274/274 [00:15<00:00, 17.63it/s]\n",
      "/n/fs/ac-editing/model-editing/src/model/metric.py:168: RuntimeWarning: invalid value encountered in divide\n",
      "  return np.nan_to_num(TPs / (TPs + FPs))\n",
      "/n/fs/ac-editing/model-editing/src/model/metric.py:205: RuntimeWarning: invalid value encountered in divide\n",
      "  return np.nan_to_num(2 * precisions * recalls / (precisions + recalls))\n"
     ]
    },
    {
     "name": "stdout",
     "output_type": "stream",
     "text": [
      "Overshot to bin 41. Decreasing bump amount to 6.078859637510774 aiming for bin 35\n",
      "bumps: [0.2, 0.6103515625, 1.4901161193847656, 1.862645149230957, 2.3283064365386963, 2.6193447411060333, 2.9103830456733704, 3.092281986027956, 3.2741809263825417, 3.4788172342814505, 3.637978807091713, 3.751665644813329, 3.865352482534945, 4.092726157978177, 4.220623850414995, 4.348521542851813, 4.484412841065932, 4.547473508864641, 4.689582056016661, 4.89208673570829, 4.968525590953732, 5.115907697472721, 5.197842156690058, 5.360274724086622, 5.435651928564766, 5.503597577671826, 5.589591289822948, 5.63325997177469, 5.6843418860808015, 5.728750807065808, 5.764266017629915, 5.809299345892649, 5.847572426276315, 5.9389407454368826, 5.985338720010608, -1, 6.039613253960852, -1, -1, 6.115108419635362, -1, 6.191547274880804, -1, 6.288290201050817, 6.394884621840902, 6.497302695862572, -1, -1, 6.681308338616493, 6.733506060011934]\n",
      "[0228_104208]***NEW ITR 88***\n"
     ]
    },
    {
     "name": "stderr",
     "output_type": "stream",
     "text": [
      "100%|██████████████████████████████████████████████████████| 274/274 [00:15<00:00, 18.11it/s]\n",
      "/n/fs/ac-editing/model-editing/src/model/metric.py:168: RuntimeWarning: invalid value encountered in divide\n",
      "  return np.nan_to_num(TPs / (TPs + FPs))\n",
      "/n/fs/ac-editing/model-editing/src/model/metric.py:205: RuntimeWarning: invalid value encountered in divide\n",
      "  return np.nan_to_num(2 * precisions * recalls / (precisions + recalls))\n"
     ]
    },
    {
     "name": "stdout",
     "output_type": "stream",
     "text": [
      "assigned bin_idx 37\n",
      "Cur bump_idx: 35 bump amount: 6.078859637510774 target_class_pred: 40121 bin_idx: 37\n",
      "Overshot to bin 37. Decreasing bump amount to 6.032099178760691 aiming for bin 35\n",
      "bumps: [0.2, 0.6103515625, 1.4901161193847656, 1.862645149230957, 2.3283064365386963, 2.6193447411060333, 2.9103830456733704, 3.092281986027956, 3.2741809263825417, 3.4788172342814505, 3.637978807091713, 3.751665644813329, 3.865352482534945, 4.092726157978177, 4.220623850414995, 4.348521542851813, 4.484412841065932, 4.547473508864641, 4.689582056016661, 4.89208673570829, 4.968525590953732, 5.115907697472721, 5.197842156690058, 5.360274724086622, 5.435651928564766, 5.503597577671826, 5.589591289822948, 5.63325997177469, 5.6843418860808015, 5.728750807065808, 5.764266017629915, 5.809299345892649, 5.847572426276315, 5.9389407454368826, 5.985338720010608, -1, 6.039613253960852, 6.078859637510774, -1, 6.115108419635362, -1, 6.191547274880804, -1, 6.288290201050817, 6.394884621840902, 6.497302695862572, -1, -1, 6.681308338616493, 6.733506060011934]\n",
      "[0228_104223]***NEW ITR 89***\n"
     ]
    },
    {
     "name": "stderr",
     "output_type": "stream",
     "text": [
      "100%|██████████████████████████████████████████████████████| 274/274 [00:15<00:00, 18.19it/s]\n"
     ]
    },
    {
     "name": "stdout",
     "output_type": "stream",
     "text": [
      "Overshot to bin 36. Decreasing bump amount to 6.008718949385649 aiming for bin 35\n",
      "bumps: [0.2, 0.6103515625, 1.4901161193847656, 1.862645149230957, 2.3283064365386963, 2.6193447411060333, 2.9103830456733704, 3.092281986027956, 3.2741809263825417, 3.4788172342814505, 3.637978807091713, 3.751665644813329, 3.865352482534945, 4.092726157978177, 4.220623850414995, 4.348521542851813, 4.484412841065932, 4.547473508864641, 4.689582056016661, 4.89208673570829, 4.968525590953732, 5.115907697472721, 5.197842156690058, 5.360274724086622, 5.435651928564766, 5.503597577671826, 5.589591289822948, 5.63325997177469, 5.6843418860808015, 5.728750807065808, 5.764266017629915, 5.809299345892649, 5.847572426276315, 5.9389407454368826, 5.985338720010608, -1, 6.039613253960852, 6.078859637510774, -1, 6.115108419635362, -1, 6.191547274880804, -1, 6.288290201050817, 6.394884621840902, 6.497302695862572, -1, -1, 6.681308338616493, 6.733506060011934]\n",
      "[0228_104238]***NEW ITR 90***\n"
     ]
    },
    {
     "name": "stderr",
     "output_type": "stream",
     "text": [
      "100%|██████████████████████████████████████████████████████| 274/274 [00:14<00:00, 18.48it/s]\n"
     ]
    },
    {
     "name": "stdout",
     "output_type": "stream",
     "text": [
      "assigned bin_idx 35\n",
      "Cur bump_idx: 35 bump amount: 6.008718949385649 target_class_pred: 38066 bin_idx: 35\n",
      "updating cur_bump_idx to 36, bump_amount to 7.5108986867320615\n",
      "bumps: [0.2, 0.6103515625, 1.4901161193847656, 1.862645149230957, 2.3283064365386963, 2.6193447411060333, 2.9103830456733704, 3.092281986027956, 3.2741809263825417, 3.4788172342814505, 3.637978807091713, 3.751665644813329, 3.865352482534945, 4.092726157978177, 4.220623850414995, 4.348521542851813, 4.484412841065932, 4.547473508864641, 4.689582056016661, 4.89208673570829, 4.968525590953732, 5.115907697472721, 5.197842156690058, 5.360274724086622, 5.435651928564766, 5.503597577671826, 5.589591289822948, 5.63325997177469, 5.6843418860808015, 5.728750807065808, 5.764266017629915, 5.809299345892649, 5.847572426276315, 5.9389407454368826, 5.985338720010608, 6.008718949385649, 6.039613253960852, 6.078859637510774, -1, 6.115108419635362, -1, 6.191547274880804, -1, 6.288290201050817, 6.394884621840902, 6.497302695862572, -1, -1, 6.681308338616493, 6.733506060011934]\n",
      "[0228_104253]***NEW ITR 91***\n",
      "[0228_104253]***NEW ITR 92***\n",
      "[0228_104253]***NEW ITR 93***\n"
     ]
    },
    {
     "name": "stderr",
     "output_type": "stream",
     "text": [
      "100%|██████████████████████████████████████████████████████| 274/274 [00:15<00:00, 17.64it/s]\n",
      "/n/fs/ac-editing/model-editing/src/model/metric.py:168: RuntimeWarning: invalid value encountered in divide\n",
      "  return np.nan_to_num(TPs / (TPs + FPs))\n",
      "/n/fs/ac-editing/model-editing/src/model/metric.py:205: RuntimeWarning: invalid value encountered in divide\n",
      "  return np.nan_to_num(2 * precisions * recalls / (precisions + recalls))\n"
     ]
    },
    {
     "name": "stdout",
     "output_type": "stream",
     "text": [
      "bin_idx < cur_bump_idx (37 and 38) delta=1.25 new bump_amount: 7.598574546888468\n"
     ]
    },
    {
     "name": "stderr",
     "output_type": "stream",
     "text": [
      "100%|██████████████████████████████████████████████████████| 274/274 [00:15<00:00, 18.06it/s]\n",
      "/n/fs/ac-editing/model-editing/src/model/metric.py:168: RuntimeWarning: invalid value encountered in divide\n",
      "  return np.nan_to_num(TPs / (TPs + FPs))\n",
      "/n/fs/ac-editing/model-editing/src/model/metric.py:205: RuntimeWarning: invalid value encountered in divide\n",
      "  return np.nan_to_num(2 * precisions * recalls / (precisions + recalls))\n"
     ]
    },
    {
     "name": "stdout",
     "output_type": "stream",
     "text": [
      "bin_idx > n_bins (60) delta=1.25 new bump_amount: 6.838717092199621\n",
      "[0228_104324]***NEW ITR 94***\n"
     ]
    },
    {
     "name": "stderr",
     "output_type": "stream",
     "text": [
      "100%|██████████████████████████████████████████████████████| 274/274 [00:15<00:00, 18.19it/s]\n",
      "/n/fs/ac-editing/model-editing/src/model/metric.py:168: RuntimeWarning: invalid value encountered in divide\n",
      "  return np.nan_to_num(TPs / (TPs + FPs))\n",
      "/n/fs/ac-editing/model-editing/src/model/metric.py:205: RuntimeWarning: invalid value encountered in divide\n",
      "  return np.nan_to_num(2 * precisions * recalls / (precisions + recalls))\n"
     ]
    },
    {
     "name": "stdout",
     "output_type": "stream",
     "text": [
      "bin_idx > n_bins (50) delta=1.25 new bump_amount: 6.458788364855198\n",
      "[0228_104339]***NEW ITR 95***\n"
     ]
    },
    {
     "name": "stderr",
     "output_type": "stream",
     "text": [
      "100%|██████████████████████████████████████████████████████| 274/274 [00:15<00:00, 18.23it/s]\n",
      "/n/fs/ac-editing/model-editing/src/model/metric.py:168: RuntimeWarning: invalid value encountered in divide\n",
      "  return np.nan_to_num(TPs / (TPs + FPs))\n",
      "/n/fs/ac-editing/model-editing/src/model/metric.py:205: RuntimeWarning: invalid value encountered in divide\n",
      "  return np.nan_to_num(2 * precisions * recalls / (precisions + recalls))\n"
     ]
    },
    {
     "name": "stdout",
     "output_type": "stream",
     "text": [
      "Overshot to bin 44. Decreasing bump amount to 6.2688240011829865 aiming for bin 38\n",
      "bumps: [0.2, 0.6103515625, 1.4901161193847656, 1.862645149230957, 2.3283064365386963, 2.6193447411060333, 2.9103830456733704, 3.092281986027956, 3.2741809263825417, 3.4788172342814505, 3.637978807091713, 3.751665644813329, 3.865352482534945, 4.092726157978177, 4.220623850414995, 4.348521542851813, 4.484412841065932, 4.547473508864641, 4.689582056016661, 4.89208673570829, 4.968525590953732, 5.115907697472721, 5.197842156690058, 5.360274724086622, 5.435651928564766, 5.503597577671826, 5.589591289822948, 5.63325997177469, 5.6843418860808015, 5.728750807065808, 5.764266017629915, 5.809299345892649, 5.847572426276315, 5.9389407454368826, 5.985338720010608, 6.008718949385649, 6.039613253960852, 6.078859637510774, -1, 6.115108419635362, -1, 6.191547274880804, -1, 6.288290201050817, 6.394884621840902, 6.497302695862572, -1, -1, 6.681308338616493, 6.733506060011934]\n",
      "[0228_104354]***NEW ITR 96***\n"
     ]
    },
    {
     "name": "stderr",
     "output_type": "stream",
     "text": [
      "100%|██████████████████████████████████████████████████████| 274/274 [00:15<00:00, 17.67it/s]\n",
      "/n/fs/ac-editing/model-editing/src/model/metric.py:168: RuntimeWarning: invalid value encountered in divide\n",
      "  return np.nan_to_num(TPs / (TPs + FPs))\n",
      "/n/fs/ac-editing/model-editing/src/model/metric.py:205: RuntimeWarning: invalid value encountered in divide\n",
      "  return np.nan_to_num(2 * precisions * recalls / (precisions + recalls))\n"
     ]
    },
    {
     "name": "stdout",
     "output_type": "stream",
     "text": [
      "Overshot to bin 43. Decreasing bump amount to 6.1738418193468805 aiming for bin 38\n",
      "bumps: [0.2, 0.6103515625, 1.4901161193847656, 1.862645149230957, 2.3283064365386963, 2.6193447411060333, 2.9103830456733704, 3.092281986027956, 3.2741809263825417, 3.4788172342814505, 3.637978807091713, 3.751665644813329, 3.865352482534945, 4.092726157978177, 4.220623850414995, 4.348521542851813, 4.484412841065932, 4.547473508864641, 4.689582056016661, 4.89208673570829, 4.968525590953732, 5.115907697472721, 5.197842156690058, 5.360274724086622, 5.435651928564766, 5.503597577671826, 5.589591289822948, 5.63325997177469, 5.6843418860808015, 5.728750807065808, 5.764266017629915, 5.809299345892649, 5.847572426276315, 5.9389407454368826, 5.985338720010608, 6.008718949385649, 6.039613253960852, 6.078859637510774, -1, 6.115108419635362, -1, 6.191547274880804, -1, 6.288290201050817, 6.394884621840902, 6.497302695862572, -1, -1, 6.681308338616493, 6.733506060011934]\n",
      "[0228_104409]***NEW ITR 97***\n"
     ]
    },
    {
     "name": "stderr",
     "output_type": "stream",
     "text": [
      "100%|██████████████████████████████████████████████████████| 274/274 [00:15<00:00, 17.93it/s]\n",
      "/n/fs/ac-editing/model-editing/src/model/metric.py:168: RuntimeWarning: invalid value encountered in divide\n",
      "  return np.nan_to_num(TPs / (TPs + FPs))\n",
      "/n/fs/ac-editing/model-editing/src/model/metric.py:205: RuntimeWarning: invalid value encountered in divide\n",
      "  return np.nan_to_num(2 * precisions * recalls / (precisions + recalls))\n"
     ]
    },
    {
     "name": "stdout",
     "output_type": "stream",
     "text": [
      "Overshot to bin 41. Decreasing bump amount to 6.126350728428827 aiming for bin 38\n",
      "bumps: [0.2, 0.6103515625, 1.4901161193847656, 1.862645149230957, 2.3283064365386963, 2.6193447411060333, 2.9103830456733704, 3.092281986027956, 3.2741809263825417, 3.4788172342814505, 3.637978807091713, 3.751665644813329, 3.865352482534945, 4.092726157978177, 4.220623850414995, 4.348521542851813, 4.484412841065932, 4.547473508864641, 4.689582056016661, 4.89208673570829, 4.968525590953732, 5.115907697472721, 5.197842156690058, 5.360274724086622, 5.435651928564766, 5.503597577671826, 5.589591289822948, 5.63325997177469, 5.6843418860808015, 5.728750807065808, 5.764266017629915, 5.809299345892649, 5.847572426276315, 5.9389407454368826, 5.985338720010608, 6.008718949385649, 6.039613253960852, 6.078859637510774, -1, 6.115108419635362, -1, 6.191547274880804, -1, 6.288290201050817, 6.394884621840902, 6.497302695862572, -1, -1, 6.681308338616493, 6.733506060011934]\n",
      "[0228_104425]***NEW ITR 98***\n"
     ]
    },
    {
     "name": "stderr",
     "output_type": "stream",
     "text": [
      "100%|██████████████████████████████████████████████████████| 274/274 [00:15<00:00, 18.04it/s]\n",
      "/n/fs/ac-editing/model-editing/src/model/metric.py:168: RuntimeWarning: invalid value encountered in divide\n",
      "  return np.nan_to_num(TPs / (TPs + FPs))\n",
      "/n/fs/ac-editing/model-editing/src/model/metric.py:205: RuntimeWarning: invalid value encountered in divide\n",
      "  return np.nan_to_num(2 * precisions * recalls / (precisions + recalls))\n"
     ]
    },
    {
     "name": "stdout",
     "output_type": "stream",
     "text": [
      "Overshot to bin 39. Decreasing bump amount to 6.102605182969801 aiming for bin 38\n",
      "bumps: [0.2, 0.6103515625, 1.4901161193847656, 1.862645149230957, 2.3283064365386963, 2.6193447411060333, 2.9103830456733704, 3.092281986027956, 3.2741809263825417, 3.4788172342814505, 3.637978807091713, 3.751665644813329, 3.865352482534945, 4.092726157978177, 4.220623850414995, 4.348521542851813, 4.484412841065932, 4.547473508864641, 4.689582056016661, 4.89208673570829, 4.968525590953732, 5.115907697472721, 5.197842156690058, 5.360274724086622, 5.435651928564766, 5.503597577671826, 5.589591289822948, 5.63325997177469, 5.6843418860808015, 5.728750807065808, 5.764266017629915, 5.809299345892649, 5.847572426276315, 5.9389407454368826, 5.985338720010608, 6.008718949385649, 6.039613253960852, 6.078859637510774, -1, 6.115108419635362, -1, 6.191547274880804, -1, 6.288290201050817, 6.394884621840902, 6.497302695862572, -1, -1, 6.681308338616493, 6.733506060011934]\n",
      "[0228_104440]***NEW ITR 99***\n"
     ]
    },
    {
     "name": "stderr",
     "output_type": "stream",
     "text": [
      "100%|██████████████████████████████████████████████████████| 274/274 [00:14<00:00, 18.48it/s]\n",
      "/n/fs/ac-editing/model-editing/src/model/metric.py:168: RuntimeWarning: invalid value encountered in divide\n",
      "  return np.nan_to_num(TPs / (TPs + FPs))\n",
      "/n/fs/ac-editing/model-editing/src/model/metric.py:205: RuntimeWarning: invalid value encountered in divide\n",
      "  return np.nan_to_num(2 * precisions * recalls / (precisions + recalls))\n"
     ]
    },
    {
     "name": "stdout",
     "output_type": "stream",
     "text": [
      "assigned bin_idx 38\n",
      "Cur bump_idx: 38 bump amount: 6.102605182969801 target_class_pred: 40847 bin_idx: 38\n",
      "updating cur_bump_idx to 39, bump_amount to 7.628256478712251\n",
      "bumps: [0.2, 0.6103515625, 1.4901161193847656, 1.862645149230957, 2.3283064365386963, 2.6193447411060333, 2.9103830456733704, 3.092281986027956, 3.2741809263825417, 3.4788172342814505, 3.637978807091713, 3.751665644813329, 3.865352482534945, 4.092726157978177, 4.220623850414995, 4.348521542851813, 4.484412841065932, 4.547473508864641, 4.689582056016661, 4.89208673570829, 4.968525590953732, 5.115907697472721, 5.197842156690058, 5.360274724086622, 5.435651928564766, 5.503597577671826, 5.589591289822948, 5.63325997177469, 5.6843418860808015, 5.728750807065808, 5.764266017629915, 5.809299345892649, 5.847572426276315, 5.9389407454368826, 5.985338720010608, 6.008718949385649, 6.039613253960852, 6.078859637510774, 6.102605182969801, 6.115108419635362, -1, 6.191547274880804, -1, 6.288290201050817, 6.394884621840902, 6.497302695862572, -1, -1, 6.681308338616493, 6.733506060011934]\n",
      "[0228_104455]***NEW ITR 100***\n",
      "[0228_104455]***NEW ITR 101***\n"
     ]
    },
    {
     "name": "stderr",
     "output_type": "stream",
     "text": [
      "100%|██████████████████████████████████████████████████████| 274/274 [00:15<00:00, 17.57it/s]\n",
      "/n/fs/ac-editing/model-editing/src/model/metric.py:168: RuntimeWarning: invalid value encountered in divide\n",
      "  return np.nan_to_num(TPs / (TPs + FPs))\n",
      "/n/fs/ac-editing/model-editing/src/model/metric.py:205: RuntimeWarning: invalid value encountered in divide\n",
      "  return np.nan_to_num(2 * precisions * recalls / (precisions + recalls))\n"
     ]
    },
    {
     "name": "stdout",
     "output_type": "stream",
     "text": [
      "bin_idx < cur_bump_idx (39 and 40) delta=1.25 new bump_amount: 7.643885524544203\n"
     ]
    },
    {
     "name": "stderr",
     "output_type": "stream",
     "text": [
      "100%|██████████████████████████████████████████████████████| 274/274 [00:15<00:00, 17.89it/s]\n",
      "/n/fs/ac-editing/model-editing/src/model/metric.py:168: RuntimeWarning: invalid value encountered in divide\n",
      "  return np.nan_to_num(TPs / (TPs + FPs))\n",
      "/n/fs/ac-editing/model-editing/src/model/metric.py:205: RuntimeWarning: invalid value encountered in divide\n",
      "  return np.nan_to_num(2 * precisions * recalls / (precisions + recalls))\n"
     ]
    },
    {
     "name": "stdout",
     "output_type": "stream",
     "text": [
      "bin_idx > n_bins (60) delta=1.25 new bump_amount: 6.8794969720897825\n",
      "[0228_104526]***NEW ITR 102***\n"
     ]
    },
    {
     "name": "stderr",
     "output_type": "stream",
     "text": [
      "100%|██████████████████████████████████████████████████████| 274/274 [00:15<00:00, 17.88it/s]\n",
      "/n/fs/ac-editing/model-editing/src/model/metric.py:168: RuntimeWarning: invalid value encountered in divide\n",
      "  return np.nan_to_num(TPs / (TPs + FPs))\n",
      "/n/fs/ac-editing/model-editing/src/model/metric.py:205: RuntimeWarning: invalid value encountered in divide\n",
      "  return np.nan_to_num(2 * precisions * recalls / (precisions + recalls))\n"
     ]
    },
    {
     "name": "stdout",
     "output_type": "stream",
     "text": [
      "bin_idx > n_bins (51) delta=1.25 new bump_amount: 6.497302695862572\n",
      "[0228_104541]***NEW ITR 103***\n"
     ]
    },
    {
     "name": "stderr",
     "output_type": "stream",
     "text": [
      "100%|██████████████████████████████████████████████████████| 274/274 [00:15<00:00, 18.26it/s]\n",
      "/n/fs/ac-editing/model-editing/src/model/metric.py:168: RuntimeWarning: invalid value encountered in divide\n",
      "  return np.nan_to_num(TPs / (TPs + FPs))\n",
      "/n/fs/ac-editing/model-editing/src/model/metric.py:205: RuntimeWarning: invalid value encountered in divide\n",
      "  return np.nan_to_num(2 * precisions * recalls / (precisions + recalls))\n"
     ]
    },
    {
     "name": "stdout",
     "output_type": "stream",
     "text": [
      "Overshot to bin 45. Decreasing bump amount to 6.306205557748967 aiming for bin 40\n",
      "bumps: [0.2, 0.6103515625, 1.4901161193847656, 1.862645149230957, 2.3283064365386963, 2.6193447411060333, 2.9103830456733704, 3.092281986027956, 3.2741809263825417, 3.4788172342814505, 3.637978807091713, 3.751665644813329, 3.865352482534945, 4.092726157978177, 4.220623850414995, 4.348521542851813, 4.484412841065932, 4.547473508864641, 4.689582056016661, 4.89208673570829, 4.968525590953732, 5.115907697472721, 5.197842156690058, 5.360274724086622, 5.435651928564766, 5.503597577671826, 5.589591289822948, 5.63325997177469, 5.6843418860808015, 5.728750807065808, 5.764266017629915, 5.809299345892649, 5.847572426276315, 5.9389407454368826, 5.985338720010608, 6.008718949385649, 6.039613253960852, 6.078859637510774, 6.102605182969801, 6.115108419635362, -1, 6.191547274880804, -1, 6.288290201050817, 6.394884621840902, 6.497302695862572, -1, -1, 6.681308338616493, 6.733506060011934]\n",
      "[0228_104556]***NEW ITR 104***\n"
     ]
    },
    {
     "name": "stderr",
     "output_type": "stream",
     "text": [
      "100%|██████████████████████████████████████████████████████| 274/274 [00:15<00:00, 17.66it/s]\n",
      "/n/fs/ac-editing/model-editing/src/model/metric.py:168: RuntimeWarning: invalid value encountered in divide\n",
      "  return np.nan_to_num(TPs / (TPs + FPs))\n",
      "/n/fs/ac-editing/model-editing/src/model/metric.py:205: RuntimeWarning: invalid value encountered in divide\n",
      "  return np.nan_to_num(2 * precisions * recalls / (precisions + recalls))\n"
     ]
    },
    {
     "name": "stdout",
     "output_type": "stream",
     "text": [
      "Overshot to bin 43. Decreasing bump amount to 6.210656988692165 aiming for bin 40\n",
      "bumps: [0.2, 0.6103515625, 1.4901161193847656, 1.862645149230957, 2.3283064365386963, 2.6193447411060333, 2.9103830456733704, 3.092281986027956, 3.2741809263825417, 3.4788172342814505, 3.637978807091713, 3.751665644813329, 3.865352482534945, 4.092726157978177, 4.220623850414995, 4.348521542851813, 4.484412841065932, 4.547473508864641, 4.689582056016661, 4.89208673570829, 4.968525590953732, 5.115907697472721, 5.197842156690058, 5.360274724086622, 5.435651928564766, 5.503597577671826, 5.589591289822948, 5.63325997177469, 5.6843418860808015, 5.728750807065808, 5.764266017629915, 5.809299345892649, 5.847572426276315, 5.9389407454368826, 5.985338720010608, 6.008718949385649, 6.039613253960852, 6.078859637510774, 6.102605182969801, 6.115108419635362, -1, 6.191547274880804, -1, 6.288290201050817, 6.394884621840902, 6.497302695862572, -1, -1, 6.681308338616493, 6.733506060011934]\n",
      "[0228_104612]***NEW ITR 105***\n"
     ]
    },
    {
     "name": "stderr",
     "output_type": "stream",
     "text": [
      "100%|██████████████████████████████████████████████████████| 274/274 [00:15<00:00, 18.01it/s]\n",
      "/n/fs/ac-editing/model-editing/src/model/metric.py:168: RuntimeWarning: invalid value encountered in divide\n",
      "  return np.nan_to_num(TPs / (TPs + FPs))\n",
      "/n/fs/ac-editing/model-editing/src/model/metric.py:205: RuntimeWarning: invalid value encountered in divide\n",
      "  return np.nan_to_num(2 * precisions * recalls / (precisions + recalls))\n"
     ]
    },
    {
     "name": "stdout",
     "output_type": "stream",
     "text": [
      "Overshot to bin 41. Decreasing bump amount to 6.1628827041637635 aiming for bin 40\n",
      "bumps: [0.2, 0.6103515625, 1.4901161193847656, 1.862645149230957, 2.3283064365386963, 2.6193447411060333, 2.9103830456733704, 3.092281986027956, 3.2741809263825417, 3.4788172342814505, 3.637978807091713, 3.751665644813329, 3.865352482534945, 4.092726157978177, 4.220623850414995, 4.348521542851813, 4.484412841065932, 4.547473508864641, 4.689582056016661, 4.89208673570829, 4.968525590953732, 5.115907697472721, 5.197842156690058, 5.360274724086622, 5.435651928564766, 5.503597577671826, 5.589591289822948, 5.63325997177469, 5.6843418860808015, 5.728750807065808, 5.764266017629915, 5.809299345892649, 5.847572426276315, 5.9389407454368826, 5.985338720010608, 6.008718949385649, 6.039613253960852, 6.078859637510774, 6.102605182969801, 6.115108419635362, -1, 6.191547274880804, -1, 6.288290201050817, 6.394884621840902, 6.497302695862572, -1, -1, 6.681308338616493, 6.733506060011934]\n",
      "[0228_104627]***NEW ITR 106***\n"
     ]
    },
    {
     "name": "stderr",
     "output_type": "stream",
     "text": [
      "100%|██████████████████████████████████████████████████████| 274/274 [00:15<00:00, 17.21it/s]\n",
      "/n/fs/ac-editing/model-editing/src/model/metric.py:168: RuntimeWarning: invalid value encountered in divide\n",
      "  return np.nan_to_num(TPs / (TPs + FPs))\n",
      "/n/fs/ac-editing/model-editing/src/model/metric.py:205: RuntimeWarning: invalid value encountered in divide\n",
      "  return np.nan_to_num(2 * precisions * recalls / (precisions + recalls))\n"
     ]
    },
    {
     "name": "stdout",
     "output_type": "stream",
     "text": [
      "assigned bin_idx 40\n",
      "Cur bump_idx: 40 bump amount: 6.1628827041637635 target_class_pred: 42577 bin_idx: 40\n",
      "updating cur_bump_idx to 41, bump_amount to 7.703603380204704\n",
      "bumps: [0.2, 0.6103515625, 1.4901161193847656, 1.862645149230957, 2.3283064365386963, 2.6193447411060333, 2.9103830456733704, 3.092281986027956, 3.2741809263825417, 3.4788172342814505, 3.637978807091713, 3.751665644813329, 3.865352482534945, 4.092726157978177, 4.220623850414995, 4.348521542851813, 4.484412841065932, 4.547473508864641, 4.689582056016661, 4.89208673570829, 4.968525590953732, 5.115907697472721, 5.197842156690058, 5.360274724086622, 5.435651928564766, 5.503597577671826, 5.589591289822948, 5.63325997177469, 5.6843418860808015, 5.728750807065808, 5.764266017629915, 5.809299345892649, 5.847572426276315, 5.9389407454368826, 5.985338720010608, 6.008718949385649, 6.039613253960852, 6.078859637510774, 6.102605182969801, 6.115108419635362, 6.1628827041637635, 6.191547274880804, -1, 6.288290201050817, 6.394884621840902, 6.497302695862572, -1, -1, 6.681308338616493, 6.733506060011934]\n",
      "[0228_104643]***NEW ITR 107***\n",
      "[0228_104643]***NEW ITR 108***\n"
     ]
    },
    {
     "name": "stderr",
     "output_type": "stream",
     "text": [
      "100%|██████████████████████████████████████████████████████| 274/274 [00:15<00:00, 17.91it/s]\n",
      "/n/fs/ac-editing/model-editing/src/model/metric.py:168: RuntimeWarning: invalid value encountered in divide\n",
      "  return np.nan_to_num(TPs / (TPs + FPs))\n",
      "/n/fs/ac-editing/model-editing/src/model/metric.py:205: RuntimeWarning: invalid value encountered in divide\n",
      "  return np.nan_to_num(2 * precisions * recalls / (precisions + recalls))\n"
     ]
    },
    {
     "name": "stdout",
     "output_type": "stream",
     "text": [
      "bin_idx < cur_bump_idx (41 and 42) delta=1.25 new bump_amount: 7.739434093601005\n"
     ]
    },
    {
     "name": "stderr",
     "output_type": "stream",
     "text": [
      "100%|██████████████████████████████████████████████████████| 274/274 [00:15<00:00, 17.61it/s]\n",
      "/n/fs/ac-editing/model-editing/src/model/metric.py:168: RuntimeWarning: invalid value encountered in divide\n",
      "  return np.nan_to_num(TPs / (TPs + FPs))\n",
      "/n/fs/ac-editing/model-editing/src/model/metric.py:205: RuntimeWarning: invalid value encountered in divide\n",
      "  return np.nan_to_num(2 * precisions * recalls / (precisions + recalls))\n"
     ]
    },
    {
     "name": "stdout",
     "output_type": "stream",
     "text": [
      "bin_idx > n_bins (60) delta=1.25 new bump_amount: 6.965490684240905\n",
      "[0228_104714]***NEW ITR 109***\n"
     ]
    },
    {
     "name": "stderr",
     "output_type": "stream",
     "text": [
      "100%|██████████████████████████████████████████████████████| 274/274 [00:19<00:00, 13.88it/s]\n",
      "/n/fs/ac-editing/model-editing/src/model/metric.py:168: RuntimeWarning: invalid value encountered in divide\n",
      "  return np.nan_to_num(TPs / (TPs + FPs))\n",
      "/n/fs/ac-editing/model-editing/src/model/metric.py:205: RuntimeWarning: invalid value encountered in divide\n",
      "  return np.nan_to_num(2 * precisions * recalls / (precisions + recalls))\n"
     ]
    },
    {
     "name": "stdout",
     "output_type": "stream",
     "text": [
      "bin_idx > n_bins (53) delta=1.25 new bump_amount: 6.5785189795608545\n",
      "[0228_104734]***NEW ITR 110***\n"
     ]
    },
    {
     "name": "stderr",
     "output_type": "stream",
     "text": [
      "100%|██████████████████████████████████████████████████████| 274/274 [00:17<00:00, 15.78it/s]\n",
      "/n/fs/ac-editing/model-editing/src/model/metric.py:168: RuntimeWarning: invalid value encountered in divide\n",
      "  return np.nan_to_num(TPs / (TPs + FPs))\n",
      "/n/fs/ac-editing/model-editing/src/model/metric.py:205: RuntimeWarning: invalid value encountered in divide\n",
      "  return np.nan_to_num(2 * precisions * recalls / (precisions + recalls))\n"
     ]
    },
    {
     "name": "stdout",
     "output_type": "stream",
     "text": [
      "assigned bin_idx 46\n",
      "Cur bump_idx: 42 bump amount: 6.5785189795608545 target_class_pred: 47562 bin_idx: 46\n",
      "Overshot to bin 46. Decreasing bump amount to 6.385033127220829 aiming for bin 42\n",
      "bumps: [0.2, 0.6103515625, 1.4901161193847656, 1.862645149230957, 2.3283064365386963, 2.6193447411060333, 2.9103830456733704, 3.092281986027956, 3.2741809263825417, 3.4788172342814505, 3.637978807091713, 3.751665644813329, 3.865352482534945, 4.092726157978177, 4.220623850414995, 4.348521542851813, 4.484412841065932, 4.547473508864641, 4.689582056016661, 4.89208673570829, 4.968525590953732, 5.115907697472721, 5.197842156690058, 5.360274724086622, 5.435651928564766, 5.503597577671826, 5.589591289822948, 5.63325997177469, 5.6843418860808015, 5.728750807065808, 5.764266017629915, 5.809299345892649, 5.847572426276315, 5.9389407454368826, 5.985338720010608, 6.008718949385649, 6.039613253960852, 6.078859637510774, 6.102605182969801, 6.115108419635362, 6.1628827041637635, 6.191547274880804, -1, 6.288290201050817, 6.394884621840902, 6.497302695862572, 6.5785189795608545, -1, 6.681308338616493, 6.733506060011934]\n",
      "[0228_104751]***NEW ITR 111***\n"
     ]
    },
    {
     "name": "stderr",
     "output_type": "stream",
     "text": [
      "100%|██████████████████████████████████████████████████████| 274/274 [00:14<00:00, 18.31it/s]\n",
      "/n/fs/ac-editing/model-editing/src/model/metric.py:168: RuntimeWarning: invalid value encountered in divide\n",
      "  return np.nan_to_num(TPs / (TPs + FPs))\n",
      "/n/fs/ac-editing/model-editing/src/model/metric.py:205: RuntimeWarning: invalid value encountered in divide\n",
      "  return np.nan_to_num(2 * precisions * recalls / (precisions + recalls))\n"
     ]
    },
    {
     "name": "stdout",
     "output_type": "stream",
     "text": [
      "Overshot to bin 44. Decreasing bump amount to 6.288290201050817 aiming for bin 42\n",
      "bumps: [0.2, 0.6103515625, 1.4901161193847656, 1.862645149230957, 2.3283064365386963, 2.6193447411060333, 2.9103830456733704, 3.092281986027956, 3.2741809263825417, 3.4788172342814505, 3.637978807091713, 3.751665644813329, 3.865352482534945, 4.092726157978177, 4.220623850414995, 4.348521542851813, 4.484412841065932, 4.547473508864641, 4.689582056016661, 4.89208673570829, 4.968525590953732, 5.115907697472721, 5.197842156690058, 5.360274724086622, 5.435651928564766, 5.503597577671826, 5.589591289822948, 5.63325997177469, 5.6843418860808015, 5.728750807065808, 5.764266017629915, 5.809299345892649, 5.847572426276315, 5.9389407454368826, 5.985338720010608, 6.008718949385649, 6.039613253960852, 6.078859637510774, 6.102605182969801, 6.115108419635362, 6.1628827041637635, 6.191547274880804, -1, 6.288290201050817, 6.394884621840902, 6.497302695862572, 6.5785189795608545, -1, 6.681308338616493, 6.733506060011934]\n",
      "[0228_104806]***NEW ITR 112***\n"
     ]
    },
    {
     "name": "stderr",
     "output_type": "stream",
     "text": [
      "100%|██████████████████████████████████████████████████████| 274/274 [00:19<00:00, 13.93it/s]\n",
      "/n/fs/ac-editing/model-editing/src/model/metric.py:168: RuntimeWarning: invalid value encountered in divide\n",
      "  return np.nan_to_num(TPs / (TPs + FPs))\n",
      "/n/fs/ac-editing/model-editing/src/model/metric.py:205: RuntimeWarning: invalid value encountered in divide\n",
      "  return np.nan_to_num(2 * precisions * recalls / (precisions + recalls))\n"
     ]
    },
    {
     "name": "stdout",
     "output_type": "stream",
     "text": [
      "Overshot to bin 43. Decreasing bump amount to 6.2399187379658105 aiming for bin 42\n",
      "bumps: [0.2, 0.6103515625, 1.4901161193847656, 1.862645149230957, 2.3283064365386963, 2.6193447411060333, 2.9103830456733704, 3.092281986027956, 3.2741809263825417, 3.4788172342814505, 3.637978807091713, 3.751665644813329, 3.865352482534945, 4.092726157978177, 4.220623850414995, 4.348521542851813, 4.484412841065932, 4.547473508864641, 4.689582056016661, 4.89208673570829, 4.968525590953732, 5.115907697472721, 5.197842156690058, 5.360274724086622, 5.435651928564766, 5.503597577671826, 5.589591289822948, 5.63325997177469, 5.6843418860808015, 5.728750807065808, 5.764266017629915, 5.809299345892649, 5.847572426276315, 5.9389407454368826, 5.985338720010608, 6.008718949385649, 6.039613253960852, 6.078859637510774, 6.102605182969801, 6.115108419635362, 6.1628827041637635, 6.191547274880804, -1, 6.288290201050817, 6.394884621840902, 6.497302695862572, 6.5785189795608545, -1, 6.681308338616493, 6.733506060011934]\n",
      "[0228_104826]***NEW ITR 113***\n"
     ]
    },
    {
     "name": "stderr",
     "output_type": "stream",
     "text": [
      "100%|██████████████████████████████████████████████████████| 274/274 [00:23<00:00, 11.52it/s]\n",
      "/n/fs/ac-editing/model-editing/src/model/metric.py:168: RuntimeWarning: invalid value encountered in divide\n",
      "  return np.nan_to_num(TPs / (TPs + FPs))\n",
      "/n/fs/ac-editing/model-editing/src/model/metric.py:205: RuntimeWarning: invalid value encountered in divide\n",
      "  return np.nan_to_num(2 * precisions * recalls / (precisions + recalls))\n"
     ]
    },
    {
     "name": "stdout",
     "output_type": "stream",
     "text": [
      "assigned bin_idx 42\n",
      "Cur bump_idx: 42 bump amount: 6.2399187379658105 target_class_pred: 44185 bin_idx: 42\n",
      "updating cur_bump_idx to 43, bump_amount to 7.799898422457263\n",
      "bumps: [0.2, 0.6103515625, 1.4901161193847656, 1.862645149230957, 2.3283064365386963, 2.6193447411060333, 2.9103830456733704, 3.092281986027956, 3.2741809263825417, 3.4788172342814505, 3.637978807091713, 3.751665644813329, 3.865352482534945, 4.092726157978177, 4.220623850414995, 4.348521542851813, 4.484412841065932, 4.547473508864641, 4.689582056016661, 4.89208673570829, 4.968525590953732, 5.115907697472721, 5.197842156690058, 5.360274724086622, 5.435651928564766, 5.503597577671826, 5.589591289822948, 5.63325997177469, 5.6843418860808015, 5.728750807065808, 5.764266017629915, 5.809299345892649, 5.847572426276315, 5.9389407454368826, 5.985338720010608, 6.008718949385649, 6.039613253960852, 6.078859637510774, 6.102605182969801, 6.115108419635362, 6.1628827041637635, 6.191547274880804, 6.2399187379658105, 6.288290201050817, 6.394884621840902, 6.497302695862572, 6.5785189795608545, -1, 6.681308338616493, 6.733506060011934]\n",
      "[0228_104849]***NEW ITR 114***\n",
      "[0228_104849]***NEW ITR 115***\n",
      "[0228_104849]***NEW ITR 116***\n",
      "[0228_104849]***NEW ITR 117***\n",
      "[0228_104849]***NEW ITR 118***\n"
     ]
    },
    {
     "name": "stderr",
     "output_type": "stream",
     "text": [
      "100%|██████████████████████████████████████████████████████| 274/274 [00:16<00:00, 16.92it/s]\n",
      "/n/fs/ac-editing/model-editing/src/model/metric.py:168: RuntimeWarning: invalid value encountered in divide\n",
      "  return np.nan_to_num(TPs / (TPs + FPs))\n",
      "/n/fs/ac-editing/model-editing/src/model/metric.py:205: RuntimeWarning: invalid value encountered in divide\n",
      "  return np.nan_to_num(2 * precisions * recalls / (precisions + recalls))\n"
     ]
    },
    {
     "name": "stdout",
     "output_type": "stream",
     "text": [
      "bin_idx < cur_bump_idx (46 and 47) delta=1.25 new bump_amount: 8.223148724451068\n"
     ]
    },
    {
     "name": "stderr",
     "output_type": "stream",
     "text": [
      "100%|██████████████████████████████████████████████████████| 274/274 [00:15<00:00, 17.91it/s]\n",
      "/n/fs/ac-editing/model-editing/src/model/metric.py:168: RuntimeWarning: invalid value encountered in divide\n",
      "  return np.nan_to_num(TPs / (TPs + FPs))\n",
      "/n/fs/ac-editing/model-editing/src/model/metric.py:205: RuntimeWarning: invalid value encountered in divide\n",
      "  return np.nan_to_num(2 * precisions * recalls / (precisions + recalls))\n"
     ]
    },
    {
     "name": "stdout",
     "output_type": "stream",
     "text": [
      "bin_idx > n_bins (61) delta=1.25 new bump_amount: 7.400833852005961\n",
      "[0228_104921]***NEW ITR 119***\n"
     ]
    },
    {
     "name": "stderr",
     "output_type": "stream",
     "text": [
      "100%|██████████████████████████████████████████████████████| 274/274 [00:16<00:00, 16.48it/s]\n",
      "/n/fs/ac-editing/model-editing/src/model/metric.py:168: RuntimeWarning: invalid value encountered in divide\n",
      "  return np.nan_to_num(TPs / (TPs + FPs))\n",
      "/n/fs/ac-editing/model-editing/src/model/metric.py:205: RuntimeWarning: invalid value encountered in divide\n",
      "  return np.nan_to_num(2 * precisions * recalls / (precisions + recalls))\n"
     ]
    },
    {
     "name": "stdout",
     "output_type": "stream",
     "text": [
      "bin_idx > n_bins (59) delta=1.25 new bump_amount: 6.989676415783408\n",
      "[0228_104938]***NEW ITR 120***\n"
     ]
    },
    {
     "name": "stderr",
     "output_type": "stream",
     "text": [
      "100%|██████████████████████████████████████████████████████| 274/274 [00:19<00:00, 13.76it/s]\n",
      "/n/fs/ac-editing/model-editing/src/model/metric.py:168: RuntimeWarning: invalid value encountered in divide\n",
      "  return np.nan_to_num(TPs / (TPs + FPs))\n",
      "/n/fs/ac-editing/model-editing/src/model/metric.py:205: RuntimeWarning: invalid value encountered in divide\n",
      "  return np.nan_to_num(2 * precisions * recalls / (precisions + recalls))\n"
     ]
    },
    {
     "name": "stdout",
     "output_type": "stream",
     "text": [
      "bin_idx > n_bins (53) delta=1.25 new bump_amount: 6.784097697672131\n",
      "[0228_104958]***NEW ITR 121***\n"
     ]
    },
    {
     "name": "stderr",
     "output_type": "stream",
     "text": [
      "100%|██████████████████████████████████████████████████████| 274/274 [00:17<00:00, 16.02it/s]\n",
      "/n/fs/ac-editing/model-editing/src/model/metric.py:168: RuntimeWarning: invalid value encountered in divide\n",
      "  return np.nan_to_num(TPs / (TPs + FPs))\n",
      "/n/fs/ac-editing/model-editing/src/model/metric.py:205: RuntimeWarning: invalid value encountered in divide\n",
      "  return np.nan_to_num(2 * precisions * recalls / (precisions + recalls))\n"
     ]
    },
    {
     "name": "stdout",
     "output_type": "stream",
     "text": [
      "Overshot to bin 49. Decreasing bump amount to 6.681308338616493 aiming for bin 47\n",
      "bumps: [0.2, 0.6103515625, 1.4901161193847656, 1.862645149230957, 2.3283064365386963, 2.6193447411060333, 2.9103830456733704, 3.092281986027956, 3.2741809263825417, 3.4788172342814505, 3.637978807091713, 3.751665644813329, 3.865352482534945, 4.092726157978177, 4.220623850414995, 4.348521542851813, 4.484412841065932, 4.547473508864641, 4.689582056016661, 4.89208673570829, 4.968525590953732, 5.115907697472721, 5.197842156690058, 5.360274724086622, 5.435651928564766, 5.503597577671826, 5.589591289822948, 5.63325997177469, 5.6843418860808015, 5.728750807065808, 5.764266017629915, 5.809299345892649, 5.847572426276315, 5.9389407454368826, 5.985338720010608, 6.008718949385649, 6.039613253960852, 6.078859637510774, 6.102605182969801, 6.115108419635362, 6.1628827041637635, 6.191547274880804, 6.2399187379658105, 6.288290201050817, 6.394884621840902, 6.497302695862572, 6.5785189795608545, -1, 6.681308338616493, 6.733506060011934]\n",
      "[0228_105015]***NEW ITR 122***\n"
     ]
    },
    {
     "name": "stderr",
     "output_type": "stream",
     "text": [
      "100%|██████████████████████████████████████████████████████| 274/274 [00:15<00:00, 18.04it/s]\n",
      "/n/fs/ac-editing/model-editing/src/model/metric.py:168: RuntimeWarning: invalid value encountered in divide\n",
      "  return np.nan_to_num(TPs / (TPs + FPs))\n",
      "/n/fs/ac-editing/model-editing/src/model/metric.py:205: RuntimeWarning: invalid value encountered in divide\n",
      "  return np.nan_to_num(2 * precisions * recalls / (precisions + recalls))\n"
     ]
    },
    {
     "name": "stdout",
     "output_type": "stream",
     "text": [
      "Overshot to bin 48. Decreasing bump amount to 6.629913659088674 aiming for bin 47\n",
      "bumps: [0.2, 0.6103515625, 1.4901161193847656, 1.862645149230957, 2.3283064365386963, 2.6193447411060333, 2.9103830456733704, 3.092281986027956, 3.2741809263825417, 3.4788172342814505, 3.637978807091713, 3.751665644813329, 3.865352482534945, 4.092726157978177, 4.220623850414995, 4.348521542851813, 4.484412841065932, 4.547473508864641, 4.689582056016661, 4.89208673570829, 4.968525590953732, 5.115907697472721, 5.197842156690058, 5.360274724086622, 5.435651928564766, 5.503597577671826, 5.589591289822948, 5.63325997177469, 5.6843418860808015, 5.728750807065808, 5.764266017629915, 5.809299345892649, 5.847572426276315, 5.9389407454368826, 5.985338720010608, 6.008718949385649, 6.039613253960852, 6.078859637510774, 6.102605182969801, 6.115108419635362, 6.1628827041637635, 6.191547274880804, 6.2399187379658105, 6.288290201050817, 6.394884621840902, 6.497302695862572, 6.5785189795608545, -1, 6.681308338616493, 6.733506060011934]\n",
      "[0228_105030]***NEW ITR 123***\n"
     ]
    },
    {
     "name": "stderr",
     "output_type": "stream",
     "text": [
      "100%|██████████████████████████████████████████████████████| 274/274 [00:16<00:00, 16.16it/s]\n",
      "/n/fs/ac-editing/model-editing/src/model/metric.py:168: RuntimeWarning: invalid value encountered in divide\n",
      "  return np.nan_to_num(TPs / (TPs + FPs))\n",
      "/n/fs/ac-editing/model-editing/src/model/metric.py:205: RuntimeWarning: invalid value encountered in divide\n",
      "  return np.nan_to_num(2 * precisions * recalls / (precisions + recalls))\n"
     ]
    },
    {
     "name": "stdout",
     "output_type": "stream",
     "text": [
      "assigned bin_idx 47\n",
      "Cur bump_idx: 47 bump amount: 6.629913659088674 target_class_pred: 48267 bin_idx: 47\n",
      "updating cur_bump_idx to 48, bump_amount to 8.287392073860842\n",
      "bumps: [0.2, 0.6103515625, 1.4901161193847656, 1.862645149230957, 2.3283064365386963, 2.6193447411060333, 2.9103830456733704, 3.092281986027956, 3.2741809263825417, 3.4788172342814505, 3.637978807091713, 3.751665644813329, 3.865352482534945, 4.092726157978177, 4.220623850414995, 4.348521542851813, 4.484412841065932, 4.547473508864641, 4.689582056016661, 4.89208673570829, 4.968525590953732, 5.115907697472721, 5.197842156690058, 5.360274724086622, 5.435651928564766, 5.503597577671826, 5.589591289822948, 5.63325997177469, 5.6843418860808015, 5.728750807065808, 5.764266017629915, 5.809299345892649, 5.847572426276315, 5.9389407454368826, 5.985338720010608, 6.008718949385649, 6.039613253960852, 6.078859637510774, 6.102605182969801, 6.115108419635362, 6.1628827041637635, 6.191547274880804, 6.2399187379658105, 6.288290201050817, 6.394884621840902, 6.497302695862572, 6.5785189795608545, 6.629913659088674, 6.681308338616493, 6.733506060011934]\n",
      "[0228_105047]***NEW ITR 124***\n",
      "[0228_105047]***NEW ITR 125***\n",
      "Saved data to saved/edit_eac/experiments/bump_edits/CINIC10_ImageNet-VGG_16/0208_112555/deer_100/bumps_preds_metrics.pth\n",
      "Obtaining class distribution for dog from saved/edit_eac/trials/CINIC10_ImageNet-VGG_16/dog_100/0127_103716/target_class_distribution.pth\n",
      "Saving results to saved/edit_eac/experiments/bump_edits/CINIC10_ImageNet-VGG_16/0208_112555/dog_100\n"
     ]
    },
    {
     "name": "stderr",
     "output_type": "stream",
     "text": [
      "100%|██████████████████████████████████████████████████████| 274/274 [00:20<00:00, 13.65it/s]\n"
     ]
    },
    {
     "name": "stdout",
     "output_type": "stream",
     "text": [
      "[0228_105107]***NEW ITR 1***\n"
     ]
    },
    {
     "name": "stderr",
     "output_type": "stream",
     "text": [
      "100%|██████████████████████████████████████████████████████| 274/274 [00:17<00:00, 15.51it/s]\n"
     ]
    },
    {
     "name": "stdout",
     "output_type": "stream",
     "text": [
      "assigned bin_idx 0\n",
      "Cur bump_idx: 0 bump amount: 0.2 target_class_pred: 4389 bin_idx: 0\n",
      "updating cur_bump_idx to 1, bump_amount to 0.25\n",
      "bumps: [0.2, -1, -1, -1, -1, -1, -1, -1, -1, -1, -1, -1, -1, -1, -1, -1, -1, -1, -1, -1, -1, -1, -1, -1, -1, -1, -1, -1, -1, -1, -1, -1, -1, -1, -1, -1, -1, -1, -1, -1, -1, -1, -1, -1, -1, -1, -1, -1, -1, -1]\n",
      "[0228_105125]***NEW ITR 2***\n"
     ]
    },
    {
     "name": "stderr",
     "output_type": "stream",
     "text": [
      "100%|██████████████████████████████████████████████████████| 274/274 [00:15<00:00, 17.84it/s]\n"
     ]
    },
    {
     "name": "stdout",
     "output_type": "stream",
     "text": [
      "bin_idx < cur_bump_idx (0 and 1) delta=1.25 new bump_amount: 0.3125\n"
     ]
    },
    {
     "name": "stderr",
     "output_type": "stream",
     "text": [
      "100%|██████████████████████████████████████████████████████| 274/274 [00:16<00:00, 16.30it/s]\n"
     ]
    },
    {
     "name": "stdout",
     "output_type": "stream",
     "text": [
      "bin_idx < cur_bump_idx (0 and 1) delta=1.25 new bump_amount: 0.390625\n"
     ]
    },
    {
     "name": "stderr",
     "output_type": "stream",
     "text": [
      "100%|██████████████████████████████████████████████████████| 274/274 [00:21<00:00, 13.04it/s]\n"
     ]
    },
    {
     "name": "stdout",
     "output_type": "stream",
     "text": [
      "bin_idx < cur_bump_idx (0 and 1) delta=1.25 new bump_amount: 0.48828125\n"
     ]
    },
    {
     "name": "stderr",
     "output_type": "stream",
     "text": [
      "100%|██████████████████████████████████████████████████████| 274/274 [00:16<00:00, 16.55it/s]\n"
     ]
    },
    {
     "name": "stdout",
     "output_type": "stream",
     "text": [
      "assigned bin_idx 1\n",
      "Cur bump_idx: 1 bump amount: 0.48828125 target_class_pred: 4639 bin_idx: 1\n",
      "updating cur_bump_idx to 2, bump_amount to 0.6103515625\n",
      "bumps: [0.2, 0.48828125, -1, -1, -1, -1, -1, -1, -1, -1, -1, -1, -1, -1, -1, -1, -1, -1, -1, -1, -1, -1, -1, -1, -1, -1, -1, -1, -1, -1, -1, -1, -1, -1, -1, -1, -1, -1, -1, -1, -1, -1, -1, -1, -1, -1, -1, -1, -1, -1]\n",
      "[0228_105235]***NEW ITR 3***\n"
     ]
    },
    {
     "name": "stderr",
     "output_type": "stream",
     "text": [
      "100%|██████████████████████████████████████████████████████| 274/274 [00:15<00:00, 17.79it/s]\n"
     ]
    },
    {
     "name": "stdout",
     "output_type": "stream",
     "text": [
      "bin_idx < cur_bump_idx (1 and 2) delta=1.25 new bump_amount: 0.762939453125\n"
     ]
    },
    {
     "name": "stderr",
     "output_type": "stream",
     "text": [
      "100%|██████████████████████████████████████████████████████| 274/274 [00:17<00:00, 15.82it/s]\n"
     ]
    },
    {
     "name": "stdout",
     "output_type": "stream",
     "text": [
      "assigned bin_idx 2\n",
      "Cur bump_idx: 2 bump amount: 0.762939453125 target_class_pred: 4911 bin_idx: 2\n",
      "updating cur_bump_idx to 3, bump_amount to 0.95367431640625\n",
      "bumps: [0.2, 0.48828125, 0.762939453125, -1, -1, -1, -1, -1, -1, -1, -1, -1, -1, -1, -1, -1, -1, -1, -1, -1, -1, -1, -1, -1, -1, -1, -1, -1, -1, -1, -1, -1, -1, -1, -1, -1, -1, -1, -1, -1, -1, -1, -1, -1, -1, -1, -1, -1, -1, -1]\n",
      "[0228_105308]***NEW ITR 4***\n"
     ]
    },
    {
     "name": "stderr",
     "output_type": "stream",
     "text": [
      "100%|██████████████████████████████████████████████████████| 274/274 [00:18<00:00, 14.80it/s]\n"
     ]
    },
    {
     "name": "stdout",
     "output_type": "stream",
     "text": [
      "bin_idx < cur_bump_idx (2 and 3) delta=1.25 new bump_amount: 1.1920928955078125\n"
     ]
    },
    {
     "name": "stderr",
     "output_type": "stream",
     "text": [
      "100%|██████████████████████████████████████████████████████| 274/274 [00:17<00:00, 16.03it/s]\n"
     ]
    },
    {
     "name": "stdout",
     "output_type": "stream",
     "text": [
      "assigned bin_idx 3\n",
      "Cur bump_idx: 3 bump amount: 1.1920928955078125 target_class_pred: 5375 bin_idx: 3\n",
      "updating cur_bump_idx to 4, bump_amount to 1.4901161193847656\n",
      "bumps: [0.2, 0.48828125, 0.762939453125, 1.1920928955078125, -1, -1, -1, -1, -1, -1, -1, -1, -1, -1, -1, -1, -1, -1, -1, -1, -1, -1, -1, -1, -1, -1, -1, -1, -1, -1, -1, -1, -1, -1, -1, -1, -1, -1, -1, -1, -1, -1, -1, -1, -1, -1, -1, -1, -1, -1]\n",
      "[0228_105344]***NEW ITR 5***\n"
     ]
    },
    {
     "name": "stderr",
     "output_type": "stream",
     "text": [
      "100%|██████████████████████████████████████████████████████| 274/274 [00:15<00:00, 18.05it/s]\n"
     ]
    },
    {
     "name": "stdout",
     "output_type": "stream",
     "text": [
      "assigned bin_idx 5\n",
      "Cur bump_idx: 4 bump amount: 1.4901161193847656 target_class_pred: 5793 bin_idx: 5\n",
      "Overshot to bin 5. Decreasing bump amount to 1.341104507446289 aiming for bin 4\n",
      "bumps: [0.2, 0.48828125, 0.762939453125, 1.1920928955078125, -1, 1.4901161193847656, -1, -1, -1, -1, -1, -1, -1, -1, -1, -1, -1, -1, -1, -1, -1, -1, -1, -1, -1, -1, -1, -1, -1, -1, -1, -1, -1, -1, -1, -1, -1, -1, -1, -1, -1, -1, -1, -1, -1, -1, -1, -1, -1, -1]\n",
      "[0228_105359]***NEW ITR 6***\n"
     ]
    },
    {
     "name": "stderr",
     "output_type": "stream",
     "text": [
      "100%|██████████████████████████████████████████████████████| 274/274 [00:16<00:00, 16.73it/s]\n"
     ]
    },
    {
     "name": "stdout",
     "output_type": "stream",
     "text": [
      "assigned bin_idx 4\n",
      "Cur bump_idx: 4 bump amount: 1.341104507446289 target_class_pred: 5578 bin_idx: 4\n",
      "updating cur_bump_idx to 5, bump_amount to 1.6763806343078613\n",
      "bumps: [0.2, 0.48828125, 0.762939453125, 1.1920928955078125, 1.341104507446289, 1.4901161193847656, -1, -1, -1, -1, -1, -1, -1, -1, -1, -1, -1, -1, -1, -1, -1, -1, -1, -1, -1, -1, -1, -1, -1, -1, -1, -1, -1, -1, -1, -1, -1, -1, -1, -1, -1, -1, -1, -1, -1, -1, -1, -1, -1, -1]\n",
      "[0228_105415]***NEW ITR 7***\n",
      "[0228_105415]***NEW ITR 8***\n"
     ]
    },
    {
     "name": "stderr",
     "output_type": "stream",
     "text": [
      "100%|██████████████████████████████████████████████████████| 274/274 [00:21<00:00, 12.54it/s]\n"
     ]
    },
    {
     "name": "stdout",
     "output_type": "stream",
     "text": [
      "bin_idx < cur_bump_idx (5 and 6) delta=1.25 new bump_amount: 1.862645149230957\n"
     ]
    },
    {
     "name": "stderr",
     "output_type": "stream",
     "text": [
      "100%|██████████████████████████████████████████████████████| 274/274 [00:17<00:00, 15.97it/s]\n"
     ]
    },
    {
     "name": "stdout",
     "output_type": "stream",
     "text": [
      "assigned bin_idx 7\n",
      "Cur bump_idx: 6 bump amount: 1.862645149230957 target_class_pred: 6387 bin_idx: 7\n",
      "Overshot to bin 7. Decreasing bump amount to 1.6763806343078613 aiming for bin 6\n",
      "bumps: [0.2, 0.48828125, 0.762939453125, 1.1920928955078125, 1.341104507446289, 1.4901161193847656, -1, 1.862645149230957, -1, -1, -1, -1, -1, -1, -1, -1, -1, -1, -1, -1, -1, -1, -1, -1, -1, -1, -1, -1, -1, -1, -1, -1, -1, -1, -1, -1, -1, -1, -1, -1, -1, -1, -1, -1, -1, -1, -1, -1, -1, -1]\n",
      "[0228_105454]***NEW ITR 9***\n"
     ]
    },
    {
     "name": "stderr",
     "output_type": "stream",
     "text": [
      "100%|██████████████████████████████████████████████████████| 274/274 [00:14<00:00, 18.51it/s]\n"
     ]
    },
    {
     "name": "stdout",
     "output_type": "stream",
     "text": [
      "assigned bin_idx 6\n",
      "Cur bump_idx: 6 bump amount: 1.6763806343078613 target_class_pred: 6055 bin_idx: 6\n",
      "updating cur_bump_idx to 7, bump_amount to 2.0954757928848267\n",
      "bumps: [0.2, 0.48828125, 0.762939453125, 1.1920928955078125, 1.341104507446289, 1.4901161193847656, 1.6763806343078613, 1.862645149230957, -1, -1, -1, -1, -1, -1, -1, -1, -1, -1, -1, -1, -1, -1, -1, -1, -1, -1, -1, -1, -1, -1, -1, -1, -1, -1, -1, -1, -1, -1, -1, -1, -1, -1, -1, -1, -1, -1, -1, -1, -1, -1]\n",
      "[0228_105509]***NEW ITR 10***\n",
      "[0228_105509]***NEW ITR 11***\n"
     ]
    },
    {
     "name": "stderr",
     "output_type": "stream",
     "text": [
      "100%|██████████████████████████████████████████████████████| 274/274 [00:15<00:00, 17.27it/s]\n"
     ]
    },
    {
     "name": "stdout",
     "output_type": "stream",
     "text": [
      "bin_idx < cur_bump_idx (7 and 8) delta=1.25 new bump_amount: 2.3283064365386963\n"
     ]
    },
    {
     "name": "stderr",
     "output_type": "stream",
     "text": [
      "100%|██████████████████████████████████████████████████████| 274/274 [00:15<00:00, 17.55it/s]\n"
     ]
    },
    {
     "name": "stdout",
     "output_type": "stream",
     "text": [
      "assigned bin_idx 11\n",
      "Cur bump_idx: 8 bump amount: 2.3283064365386963 target_class_pred: 7497 bin_idx: 11\n",
      "Overshot to bin 11. Decreasing bump amount to 2.0954757928848267 aiming for bin 8\n",
      "bumps: [0.2, 0.48828125, 0.762939453125, 1.1920928955078125, 1.341104507446289, 1.4901161193847656, 1.6763806343078613, 1.862645149230957, -1, -1, -1, 2.3283064365386963, -1, -1, -1, -1, -1, -1, -1, -1, -1, -1, -1, -1, -1, -1, -1, -1, -1, -1, -1, -1, -1, -1, -1, -1, -1, -1, -1, -1, -1, -1, -1, -1, -1, -1, -1, -1, -1, -1]\n",
      "[0228_105541]***NEW ITR 12***\n"
     ]
    },
    {
     "name": "stderr",
     "output_type": "stream",
     "text": [
      "100%|██████████████████████████████████████████████████████| 274/274 [00:15<00:00, 17.73it/s]\n"
     ]
    },
    {
     "name": "stdout",
     "output_type": "stream",
     "text": [
      "assigned bin_idx 9\n",
      "Cur bump_idx: 8 bump amount: 2.0954757928848267 target_class_pred: 6853 bin_idx: 9\n",
      "Overshot to bin 9. Decreasing bump amount to 1.9790604710578918 aiming for bin 8\n",
      "bumps: [0.2, 0.48828125, 0.762939453125, 1.1920928955078125, 1.341104507446289, 1.4901161193847656, 1.6763806343078613, 1.862645149230957, -1, 2.0954757928848267, -1, 2.3283064365386963, -1, -1, -1, -1, -1, -1, -1, -1, -1, -1, -1, -1, -1, -1, -1, -1, -1, -1, -1, -1, -1, -1, -1, -1, -1, -1, -1, -1, -1, -1, -1, -1, -1, -1, -1, -1, -1, -1]\n",
      "[0228_105556]***NEW ITR 13***\n"
     ]
    },
    {
     "name": "stderr",
     "output_type": "stream",
     "text": [
      "100%|██████████████████████████████████████████████████████| 274/274 [00:14<00:00, 18.48it/s]\n"
     ]
    },
    {
     "name": "stdout",
     "output_type": "stream",
     "text": [
      "assigned bin_idx 8\n",
      "Cur bump_idx: 8 bump amount: 1.9790604710578918 target_class_pred: 6616 bin_idx: 8\n",
      "updating cur_bump_idx to 9, bump_amount to 2.473825588822365\n",
      "bumps: [0.2, 0.48828125, 0.762939453125, 1.1920928955078125, 1.341104507446289, 1.4901161193847656, 1.6763806343078613, 1.862645149230957, 1.9790604710578918, 2.0954757928848267, -1, 2.3283064365386963, -1, -1, -1, -1, -1, -1, -1, -1, -1, -1, -1, -1, -1, -1, -1, -1, -1, -1, -1, -1, -1, -1, -1, -1, -1, -1, -1, -1, -1, -1, -1, -1, -1, -1, -1, -1, -1, -1]\n",
      "[0228_105611]***NEW ITR 14***\n",
      "[0228_105611]***NEW ITR 15***\n"
     ]
    },
    {
     "name": "stderr",
     "output_type": "stream",
     "text": [
      "100%|██████████████████████████████████████████████████████| 274/274 [00:15<00:00, 17.46it/s]\n"
     ]
    },
    {
     "name": "stdout",
     "output_type": "stream",
     "text": [
      "bin_idx < cur_bump_idx (9 and 10) delta=1.25 new bump_amount: 2.6193447411060333\n"
     ]
    },
    {
     "name": "stderr",
     "output_type": "stream",
     "text": [
      "100%|██████████████████████████████████████████████████████| 274/274 [00:15<00:00, 17.57it/s]\n"
     ]
    },
    {
     "name": "stdout",
     "output_type": "stream",
     "text": [
      "assigned bin_idx 15\n",
      "Cur bump_idx: 10 bump amount: 2.6193447411060333 target_class_pred: 8540 bin_idx: 15\n",
      "Overshot to bin 15. Decreasing bump amount to 2.35741026699543 aiming for bin 10\n",
      "bumps: [0.2, 0.48828125, 0.762939453125, 1.1920928955078125, 1.341104507446289, 1.4901161193847656, 1.6763806343078613, 1.862645149230957, 1.9790604710578918, 2.0954757928848267, -1, 2.3283064365386963, -1, -1, -1, 2.6193447411060333, -1, -1, -1, -1, -1, -1, -1, -1, -1, -1, -1, -1, -1, -1, -1, -1, -1, -1, -1, -1, -1, -1, -1, -1, -1, -1, -1, -1, -1, -1, -1, -1, -1, -1]\n",
      "[0228_105642]***NEW ITR 16***\n"
     ]
    },
    {
     "name": "stderr",
     "output_type": "stream",
     "text": [
      "100%|██████████████████████████████████████████████████████| 274/274 [00:15<00:00, 17.68it/s]\n"
     ]
    },
    {
     "name": "stdout",
     "output_type": "stream",
     "text": [
      "Overshot to bin 11. Decreasing bump amount to 2.2264430299401283 aiming for bin 10\n",
      "bumps: [0.2, 0.48828125, 0.762939453125, 1.1920928955078125, 1.341104507446289, 1.4901161193847656, 1.6763806343078613, 1.862645149230957, 1.9790604710578918, 2.0954757928848267, -1, 2.3283064365386963, -1, -1, -1, 2.6193447411060333, -1, -1, -1, -1, -1, -1, -1, -1, -1, -1, -1, -1, -1, -1, -1, -1, -1, -1, -1, -1, -1, -1, -1, -1, -1, -1, -1, -1, -1, -1, -1, -1, -1, -1]\n",
      "[0228_105658]***NEW ITR 17***\n"
     ]
    },
    {
     "name": "stderr",
     "output_type": "stream",
     "text": [
      "100%|██████████████████████████████████████████████████████| 274/274 [00:15<00:00, 18.21it/s]\n"
     ]
    },
    {
     "name": "stdout",
     "output_type": "stream",
     "text": [
      "assigned bin_idx 10\n",
      "Cur bump_idx: 10 bump amount: 2.2264430299401283 target_class_pred: 7201 bin_idx: 10\n",
      "updating cur_bump_idx to 11, bump_amount to 2.7830537874251604\n",
      "bumps: [0.2, 0.48828125, 0.762939453125, 1.1920928955078125, 1.341104507446289, 1.4901161193847656, 1.6763806343078613, 1.862645149230957, 1.9790604710578918, 2.0954757928848267, 2.2264430299401283, 2.3283064365386963, -1, -1, -1, 2.6193447411060333, -1, -1, -1, -1, -1, -1, -1, -1, -1, -1, -1, -1, -1, -1, -1, -1, -1, -1, -1, -1, -1, -1, -1, -1, -1, -1, -1, -1, -1, -1, -1, -1, -1, -1]\n",
      "[0228_105713]***NEW ITR 18***\n",
      "[0228_105713]***NEW ITR 19***\n"
     ]
    },
    {
     "name": "stderr",
     "output_type": "stream",
     "text": [
      "100%|██████████████████████████████████████████████████████| 274/274 [00:15<00:00, 17.35it/s]\n"
     ]
    },
    {
     "name": "stdout",
     "output_type": "stream",
     "text": [
      "bin_idx < cur_bump_idx (11 and 12) delta=1.25 new bump_amount: 2.9103830456733704\n"
     ]
    },
    {
     "name": "stderr",
     "output_type": "stream",
     "text": [
      "100%|██████████████████████████████████████████████████████| 274/274 [00:15<00:00, 17.52it/s]\n"
     ]
    },
    {
     "name": "stdout",
     "output_type": "stream",
     "text": [
      "assigned bin_idx 19\n",
      "Cur bump_idx: 12 bump amount: 2.9103830456733704 target_class_pred: 9765 bin_idx: 19\n",
      "Overshot to bin 19. Decreasing bump amount to 2.6193447411060333 aiming for bin 12\n",
      "bumps: [0.2, 0.48828125, 0.762939453125, 1.1920928955078125, 1.341104507446289, 1.4901161193847656, 1.6763806343078613, 1.862645149230957, 1.9790604710578918, 2.0954757928848267, 2.2264430299401283, 2.3283064365386963, -1, -1, -1, 2.6193447411060333, -1, -1, -1, 2.9103830456733704, -1, -1, -1, -1, -1, -1, -1, -1, -1, -1, -1, -1, -1, -1, -1, -1, -1, -1, -1, -1, -1, -1, -1, -1, -1, -1, -1, -1, -1, -1]\n",
      "[0228_105744]***NEW ITR 20***\n"
     ]
    },
    {
     "name": "stderr",
     "output_type": "stream",
     "text": [
      "100%|██████████████████████████████████████████████████████| 274/274 [00:15<00:00, 17.65it/s]\n"
     ]
    },
    {
     "name": "stdout",
     "output_type": "stream",
     "text": [
      "Overshot to bin 15. Decreasing bump amount to 2.473825588822365 aiming for bin 12\n",
      "bumps: [0.2, 0.48828125, 0.762939453125, 1.1920928955078125, 1.341104507446289, 1.4901161193847656, 1.6763806343078613, 1.862645149230957, 1.9790604710578918, 2.0954757928848267, 2.2264430299401283, 2.3283064365386963, -1, -1, -1, 2.6193447411060333, -1, -1, -1, 2.9103830456733704, -1, -1, -1, -1, -1, -1, -1, -1, -1, -1, -1, -1, -1, -1, -1, -1, -1, -1, -1, -1, -1, -1, -1, -1, -1, -1, -1, -1, -1, -1]\n",
      "[0228_105800]***NEW ITR 21***\n"
     ]
    },
    {
     "name": "stderr",
     "output_type": "stream",
     "text": [
      "100%|██████████████████████████████████████████████████████| 274/274 [00:15<00:00, 18.25it/s]\n"
     ]
    },
    {
     "name": "stdout",
     "output_type": "stream",
     "text": [
      "assigned bin_idx 13\n",
      "Cur bump_idx: 12 bump amount: 2.473825588822365 target_class_pred: 7962 bin_idx: 13\n",
      "Overshot to bin 13. Decreasing bump amount to 2.4010660126805305 aiming for bin 12\n",
      "bumps: [0.2, 0.48828125, 0.762939453125, 1.1920928955078125, 1.341104507446289, 1.4901161193847656, 1.6763806343078613, 1.862645149230957, 1.9790604710578918, 2.0954757928848267, 2.2264430299401283, 2.3283064365386963, -1, 2.473825588822365, -1, 2.6193447411060333, -1, -1, -1, 2.9103830456733704, -1, -1, -1, -1, -1, -1, -1, -1, -1, -1, -1, -1, -1, -1, -1, -1, -1, -1, -1, -1, -1, -1, -1, -1, -1, -1, -1, -1, -1, -1]\n",
      "[0228_105815]***NEW ITR 22***\n"
     ]
    },
    {
     "name": "stderr",
     "output_type": "stream",
     "text": [
      "100%|██████████████████████████████████████████████████████| 274/274 [00:15<00:00, 17.23it/s]\n"
     ]
    },
    {
     "name": "stdout",
     "output_type": "stream",
     "text": [
      "assigned bin_idx 12\n",
      "Cur bump_idx: 12 bump amount: 2.4010660126805305 target_class_pred: 7736 bin_idx: 12\n",
      "updating cur_bump_idx to 13, bump_amount to 3.001332515850663\n",
      "bumps: [0.2, 0.48828125, 0.762939453125, 1.1920928955078125, 1.341104507446289, 1.4901161193847656, 1.6763806343078613, 1.862645149230957, 1.9790604710578918, 2.0954757928848267, 2.2264430299401283, 2.3283064365386963, 2.4010660126805305, 2.473825588822365, -1, 2.6193447411060333, -1, -1, -1, 2.9103830456733704, -1, -1, -1, -1, -1, -1, -1, -1, -1, -1, -1, -1, -1, -1, -1, -1, -1, -1, -1, -1, -1, -1, -1, -1, -1, -1, -1, -1, -1, -1]\n",
      "[0228_105831]***NEW ITR 23***\n",
      "[0228_105831]***NEW ITR 24***\n"
     ]
    },
    {
     "name": "stderr",
     "output_type": "stream",
     "text": [
      "100%|██████████████████████████████████████████████████████| 274/274 [00:15<00:00, 17.48it/s]\n"
     ]
    },
    {
     "name": "stdout",
     "output_type": "stream",
     "text": [
      "bin_idx < cur_bump_idx (13 and 14) delta=1.25 new bump_amount: 3.092281986027956\n"
     ]
    },
    {
     "name": "stderr",
     "output_type": "stream",
     "text": [
      "100%|██████████████████████████████████████████████████████| 274/274 [00:15<00:00, 17.66it/s]\n"
     ]
    },
    {
     "name": "stdout",
     "output_type": "stream",
     "text": [
      "assigned bin_idx 22\n",
      "Cur bump_idx: 14 bump amount: 3.092281986027956 target_class_pred: 10621 bin_idx: 22\n",
      "Overshot to bin 22. Decreasing bump amount to 2.7830537874251604 aiming for bin 14\n",
      "bumps: [0.2, 0.48828125, 0.762939453125, 1.1920928955078125, 1.341104507446289, 1.4901161193847656, 1.6763806343078613, 1.862645149230957, 1.9790604710578918, 2.0954757928848267, 2.2264430299401283, 2.3283064365386963, 2.4010660126805305, 2.473825588822365, -1, 2.6193447411060333, -1, -1, -1, 2.9103830456733704, -1, -1, 3.092281986027956, -1, -1, -1, -1, -1, -1, -1, -1, -1, -1, -1, -1, -1, -1, -1, -1, -1, -1, -1, -1, -1, -1, -1, -1, -1, -1, -1]\n",
      "[0228_105902]***NEW ITR 25***\n"
     ]
    },
    {
     "name": "stderr",
     "output_type": "stream",
     "text": [
      "100%|██████████████████████████████████████████████████████| 274/274 [00:14<00:00, 18.44it/s]\n"
     ]
    },
    {
     "name": "stdout",
     "output_type": "stream",
     "text": [
      "assigned bin_idx 17\n",
      "Cur bump_idx: 14 bump amount: 2.7830537874251604 target_class_pred: 9181 bin_idx: 17\n",
      "Overshot to bin 17. Decreasing bump amount to 2.6284396881237626 aiming for bin 14\n",
      "bumps: [0.2, 0.48828125, 0.762939453125, 1.1920928955078125, 1.341104507446289, 1.4901161193847656, 1.6763806343078613, 1.862645149230957, 1.9790604710578918, 2.0954757928848267, 2.2264430299401283, 2.3283064365386963, 2.4010660126805305, 2.473825588822365, -1, 2.6193447411060333, -1, 2.7830537874251604, -1, 2.9103830456733704, -1, -1, 3.092281986027956, -1, -1, -1, -1, -1, -1, -1, -1, -1, -1, -1, -1, -1, -1, -1, -1, -1, -1, -1, -1, -1, -1, -1, -1, -1, -1, -1]\n",
      "[0228_105917]***NEW ITR 26***\n"
     ]
    },
    {
     "name": "stderr",
     "output_type": "stream",
     "text": [
      "100%|██████████████████████████████████████████████████████| 274/274 [00:15<00:00, 17.29it/s]\n"
     ]
    },
    {
     "name": "stdout",
     "output_type": "stream",
     "text": [
      "Overshot to bin 15. Decreasing bump amount to 2.5511326384730637 aiming for bin 14\n",
      "bumps: [0.2, 0.48828125, 0.762939453125, 1.1920928955078125, 1.341104507446289, 1.4901161193847656, 1.6763806343078613, 1.862645149230957, 1.9790604710578918, 2.0954757928848267, 2.2264430299401283, 2.3283064365386963, 2.4010660126805305, 2.473825588822365, -1, 2.6193447411060333, -1, 2.7830537874251604, -1, 2.9103830456733704, -1, -1, 3.092281986027956, -1, -1, -1, -1, -1, -1, -1, -1, -1, -1, -1, -1, -1, -1, -1, -1, -1, -1, -1, -1, -1, -1, -1, -1, -1, -1, -1]\n",
      "[0228_105933]***NEW ITR 27***\n"
     ]
    },
    {
     "name": "stderr",
     "output_type": "stream",
     "text": [
      "100%|██████████████████████████████████████████████████████| 274/274 [00:15<00:00, 17.54it/s]\n"
     ]
    },
    {
     "name": "stdout",
     "output_type": "stream",
     "text": [
      "assigned bin_idx 14\n",
      "Cur bump_idx: 14 bump amount: 2.5511326384730637 target_class_pred: 8264 bin_idx: 14\n",
      "updating cur_bump_idx to 15, bump_amount to 3.1889157980913296\n",
      "bumps: [0.2, 0.48828125, 0.762939453125, 1.1920928955078125, 1.341104507446289, 1.4901161193847656, 1.6763806343078613, 1.862645149230957, 1.9790604710578918, 2.0954757928848267, 2.2264430299401283, 2.3283064365386963, 2.4010660126805305, 2.473825588822365, 2.5511326384730637, 2.6193447411060333, -1, 2.7830537874251604, -1, 2.9103830456733704, -1, -1, 3.092281986027956, -1, -1, -1, -1, -1, -1, -1, -1, -1, -1, -1, -1, -1, -1, -1, -1, -1, -1, -1, -1, -1, -1, -1, -1, -1, -1, -1]\n",
      "[0228_105949]***NEW ITR 28***\n",
      "[0228_105949]***NEW ITR 29***\n"
     ]
    },
    {
     "name": "stderr",
     "output_type": "stream",
     "text": [
      "100%|██████████████████████████████████████████████████████| 274/274 [00:15<00:00, 17.70it/s]\n"
     ]
    },
    {
     "name": "stdout",
     "output_type": "stream",
     "text": [
      "bin_idx < cur_bump_idx (15 and 16) delta=1.25 new bump_amount: 3.2741809263825417\n"
     ]
    },
    {
     "name": "stderr",
     "output_type": "stream",
     "text": [
      "100%|██████████████████████████████████████████████████████| 274/274 [00:14<00:00, 18.39it/s]\n"
     ]
    },
    {
     "name": "stdout",
     "output_type": "stream",
     "text": [
      "assigned bin_idx 26\n",
      "Cur bump_idx: 16 bump amount: 3.2741809263825417 target_class_pred: 11664 bin_idx: 26\n",
      "Overshot to bin 26. Decreasing bump amount to 2.9467628337442875 aiming for bin 16\n",
      "bumps: [0.2, 0.48828125, 0.762939453125, 1.1920928955078125, 1.341104507446289, 1.4901161193847656, 1.6763806343078613, 1.862645149230957, 1.9790604710578918, 2.0954757928848267, 2.2264430299401283, 2.3283064365386963, 2.4010660126805305, 2.473825588822365, 2.5511326384730637, 2.6193447411060333, -1, 2.7830537874251604, -1, 2.9103830456733704, -1, -1, 3.092281986027956, -1, -1, -1, 3.2741809263825417, -1, -1, -1, -1, -1, -1, -1, -1, -1, -1, -1, -1, -1, -1, -1, -1, -1, -1, -1, -1, -1, -1, -1]\n",
      "[0228_110019]***NEW ITR 30***\n"
     ]
    },
    {
     "name": "stderr",
     "output_type": "stream",
     "text": [
      "100%|██████████████████████████████████████████████████████| 274/274 [00:16<00:00, 17.12it/s]\n"
     ]
    },
    {
     "name": "stdout",
     "output_type": "stream",
     "text": [
      "assigned bin_idx 20\n",
      "Cur bump_idx: 16 bump amount: 2.9467628337442875 target_class_pred: 9926 bin_idx: 20\n",
      "Overshot to bin 20. Decreasing bump amount to 2.7830537874251604 aiming for bin 16\n",
      "bumps: [0.2, 0.48828125, 0.762939453125, 1.1920928955078125, 1.341104507446289, 1.4901161193847656, 1.6763806343078613, 1.862645149230957, 1.9790604710578918, 2.0954757928848267, 2.2264430299401283, 2.3283064365386963, 2.4010660126805305, 2.473825588822365, 2.5511326384730637, 2.6193447411060333, -1, 2.7830537874251604, -1, 2.9103830456733704, 2.9467628337442875, -1, 3.092281986027956, -1, -1, -1, 3.2741809263825417, -1, -1, -1, -1, -1, -1, -1, -1, -1, -1, -1, -1, -1, -1, -1, -1, -1, -1, -1, -1, -1, -1, -1]\n",
      "[0228_110035]***NEW ITR 31***\n"
     ]
    },
    {
     "name": "stderr",
     "output_type": "stream",
     "text": [
      "100%|██████████████████████████████████████████████████████| 274/274 [00:15<00:00, 17.49it/s]\n"
     ]
    },
    {
     "name": "stdout",
     "output_type": "stream",
     "text": [
      "Overshot to bin 17. Decreasing bump amount to 2.701199264265597 aiming for bin 16\n",
      "bumps: [0.2, 0.48828125, 0.762939453125, 1.1920928955078125, 1.341104507446289, 1.4901161193847656, 1.6763806343078613, 1.862645149230957, 1.9790604710578918, 2.0954757928848267, 2.2264430299401283, 2.3283064365386963, 2.4010660126805305, 2.473825588822365, 2.5511326384730637, 2.6193447411060333, -1, 2.7830537874251604, -1, 2.9103830456733704, 2.9467628337442875, -1, 3.092281986027956, -1, -1, -1, 3.2741809263825417, -1, -1, -1, -1, -1, -1, -1, -1, -1, -1, -1, -1, -1, -1, -1, -1, -1, -1, -1, -1, -1, -1, -1]\n",
      "[0228_110051]***NEW ITR 32***\n"
     ]
    },
    {
     "name": "stderr",
     "output_type": "stream",
     "text": [
      "100%|██████████████████████████████████████████████████████| 274/274 [00:15<00:00, 17.86it/s]\n"
     ]
    },
    {
     "name": "stdout",
     "output_type": "stream",
     "text": [
      "assigned bin_idx 16\n",
      "Cur bump_idx: 16 bump amount: 2.701199264265597 target_class_pred: 8853 bin_idx: 16\n",
      "updating cur_bump_idx to 17, bump_amount to 3.376499080331996\n",
      "bumps: [0.2, 0.48828125, 0.762939453125, 1.1920928955078125, 1.341104507446289, 1.4901161193847656, 1.6763806343078613, 1.862645149230957, 1.9790604710578918, 2.0954757928848267, 2.2264430299401283, 2.3283064365386963, 2.4010660126805305, 2.473825588822365, 2.5511326384730637, 2.6193447411060333, 2.701199264265597, 2.7830537874251604, -1, 2.9103830456733704, 2.9467628337442875, -1, 3.092281986027956, -1, -1, -1, 3.2741809263825417, -1, -1, -1, -1, -1, -1, -1, -1, -1, -1, -1, -1, -1, -1, -1, -1, -1, -1, -1, -1, -1, -1, -1]\n",
      "[0228_110106]***NEW ITR 33***\n",
      "[0228_110106]***NEW ITR 34***\n"
     ]
    },
    {
     "name": "stderr",
     "output_type": "stream",
     "text": [
      "100%|██████████████████████████████████████████████████████| 274/274 [00:14<00:00, 18.46it/s]\n"
     ]
    },
    {
     "name": "stdout",
     "output_type": "stream",
     "text": [
      "bin_idx < cur_bump_idx (17 and 18) delta=1.25 new bump_amount: 3.4788172342814505\n"
     ]
    },
    {
     "name": "stderr",
     "output_type": "stream",
     "text": [
      "100%|██████████████████████████████████████████████████████| 274/274 [00:16<00:00, 17.05it/s]\n"
     ]
    },
    {
     "name": "stdout",
     "output_type": "stream",
     "text": [
      "assigned bin_idx 30\n",
      "Cur bump_idx: 18 bump amount: 3.4788172342814505 target_class_pred: 12876 bin_idx: 30\n",
      "Overshot to bin 30. Decreasing bump amount to 3.1309355108533055 aiming for bin 18\n",
      "bumps: [0.2, 0.48828125, 0.762939453125, 1.1920928955078125, 1.341104507446289, 1.4901161193847656, 1.6763806343078613, 1.862645149230957, 1.9790604710578918, 2.0954757928848267, 2.2264430299401283, 2.3283064365386963, 2.4010660126805305, 2.473825588822365, 2.5511326384730637, 2.6193447411060333, 2.701199264265597, 2.7830537874251604, -1, 2.9103830456733704, 2.9467628337442875, -1, 3.092281986027956, -1, -1, -1, 3.2741809263825417, -1, -1, -1, 3.4788172342814505, -1, -1, -1, -1, -1, -1, -1, -1, -1, -1, -1, -1, -1, -1, -1, -1, -1, -1, -1]\n",
      "[0228_110137]***NEW ITR 35***\n"
     ]
    },
    {
     "name": "stderr",
     "output_type": "stream",
     "text": [
      "100%|██████████████████████████████████████████████████████| 274/274 [00:15<00:00, 17.51it/s]\n"
     ]
    },
    {
     "name": "stdout",
     "output_type": "stream",
     "text": [
      "assigned bin_idx 23\n",
      "Cur bump_idx: 18 bump amount: 3.1309355108533055 target_class_pred: 10835 bin_idx: 23\n",
      "Overshot to bin 23. Decreasing bump amount to 2.956994649139233 aiming for bin 18\n",
      "bumps: [0.2, 0.48828125, 0.762939453125, 1.1920928955078125, 1.341104507446289, 1.4901161193847656, 1.6763806343078613, 1.862645149230957, 1.9790604710578918, 2.0954757928848267, 2.2264430299401283, 2.3283064365386963, 2.4010660126805305, 2.473825588822365, 2.5511326384730637, 2.6193447411060333, 2.701199264265597, 2.7830537874251604, -1, 2.9103830456733704, 2.9467628337442875, -1, 3.092281986027956, 3.1309355108533055, -1, -1, 3.2741809263825417, -1, -1, -1, 3.4788172342814505, -1, -1, -1, -1, -1, -1, -1, -1, -1, -1, -1, -1, -1, -1, -1, -1, -1, -1, -1]\n",
      "[0228_110153]***NEW ITR 36***\n"
     ]
    },
    {
     "name": "stderr",
     "output_type": "stream",
     "text": [
      "100%|██████████████████████████████████████████████████████| 274/274 [00:15<00:00, 17.71it/s]\n"
     ]
    },
    {
     "name": "stdout",
     "output_type": "stream",
     "text": [
      "Overshot to bin 20. Decreasing bump amount to 2.8700242182821967 aiming for bin 18\n",
      "bumps: [0.2, 0.48828125, 0.762939453125, 1.1920928955078125, 1.341104507446289, 1.4901161193847656, 1.6763806343078613, 1.862645149230957, 1.9790604710578918, 2.0954757928848267, 2.2264430299401283, 2.3283064365386963, 2.4010660126805305, 2.473825588822365, 2.5511326384730637, 2.6193447411060333, 2.701199264265597, 2.7830537874251604, -1, 2.9103830456733704, 2.9467628337442875, -1, 3.092281986027956, 3.1309355108533055, -1, -1, 3.2741809263825417, -1, -1, -1, 3.4788172342814505, -1, -1, -1, -1, -1, -1, -1, -1, -1, -1, -1, -1, -1, -1, -1, -1, -1, -1, -1]\n",
      "[0228_110208]***NEW ITR 37***\n"
     ]
    },
    {
     "name": "stderr",
     "output_type": "stream",
     "text": [
      "100%|██████████████████████████████████████████████████████| 274/274 [00:14<00:00, 18.35it/s]\n"
     ]
    },
    {
     "name": "stdout",
     "output_type": "stream",
     "text": [
      "assigned bin_idx 18\n",
      "Cur bump_idx: 18 bump amount: 2.8700242182821967 target_class_pred: 9558 bin_idx: 18\n",
      "updating cur_bump_idx to 19, bump_amount to 3.587530272852746\n",
      "bumps: [0.2, 0.48828125, 0.762939453125, 1.1920928955078125, 1.341104507446289, 1.4901161193847656, 1.6763806343078613, 1.862645149230957, 1.9790604710578918, 2.0954757928848267, 2.2264430299401283, 2.3283064365386963, 2.4010660126805305, 2.473825588822365, 2.5511326384730637, 2.6193447411060333, 2.701199264265597, 2.7830537874251604, 2.8700242182821967, 2.9103830456733704, 2.9467628337442875, -1, 3.092281986027956, 3.1309355108533055, -1, -1, 3.2741809263825417, -1, -1, -1, 3.4788172342814505, -1, -1, -1, -1, -1, -1, -1, -1, -1, -1, -1, -1, -1, -1, -1, -1, -1, -1, -1]\n",
      "[0228_110223]***NEW ITR 38***\n",
      "[0228_110223]***NEW ITR 39***\n",
      "[0228_110223]***NEW ITR 40***\n"
     ]
    },
    {
     "name": "stderr",
     "output_type": "stream",
     "text": [
      "100%|██████████████████████████████████████████████████████| 274/274 [00:15<00:00, 17.13it/s]\n"
     ]
    },
    {
     "name": "stdout",
     "output_type": "stream",
     "text": [
      "bin_idx < cur_bump_idx (20 and 21) delta=1.25 new bump_amount: 3.6834535421803594\n"
     ]
    },
    {
     "name": "stderr",
     "output_type": "stream",
     "text": [
      "100%|██████████████████████████████████████████████████████| 274/274 [00:15<00:00, 17.50it/s]\n"
     ]
    },
    {
     "name": "stdout",
     "output_type": "stream",
     "text": [
      "assigned bin_idx 35\n",
      "Cur bump_idx: 21 bump amount: 3.6834535421803594 target_class_pred: 14129 bin_idx: 35\n",
      "Overshot to bin 35. Decreasing bump amount to 3.3151081879623234 aiming for bin 21\n",
      "bumps: [0.2, 0.48828125, 0.762939453125, 1.1920928955078125, 1.341104507446289, 1.4901161193847656, 1.6763806343078613, 1.862645149230957, 1.9790604710578918, 2.0954757928848267, 2.2264430299401283, 2.3283064365386963, 2.4010660126805305, 2.473825588822365, 2.5511326384730637, 2.6193447411060333, 2.701199264265597, 2.7830537874251604, 2.8700242182821967, 2.9103830456733704, 2.9467628337442875, -1, 3.092281986027956, 3.1309355108533055, -1, -1, 3.2741809263825417, -1, -1, -1, 3.4788172342814505, -1, -1, -1, -1, 3.6834535421803594, -1, -1, -1, -1, -1, -1, -1, -1, -1, -1, -1, -1, -1, -1]\n",
      "[0228_110255]***NEW ITR 41***\n"
     ]
    },
    {
     "name": "stderr",
     "output_type": "stream",
     "text": [
      "100%|██████████████████████████████████████████████████████| 274/274 [00:15<00:00, 17.70it/s]\n"
     ]
    },
    {
     "name": "stdout",
     "output_type": "stream",
     "text": [
      "assigned bin_idx 27\n",
      "Cur bump_idx: 21 bump amount: 3.3151081879623234 target_class_pred: 11894 bin_idx: 27\n",
      "Overshot to bin 27. Decreasing bump amount to 3.1309355108533055 aiming for bin 21\n",
      "bumps: [0.2, 0.48828125, 0.762939453125, 1.1920928955078125, 1.341104507446289, 1.4901161193847656, 1.6763806343078613, 1.862645149230957, 1.9790604710578918, 2.0954757928848267, 2.2264430299401283, 2.3283064365386963, 2.4010660126805305, 2.473825588822365, 2.5511326384730637, 2.6193447411060333, 2.701199264265597, 2.7830537874251604, 2.8700242182821967, 2.9103830456733704, 2.9467628337442875, -1, 3.092281986027956, 3.1309355108533055, -1, -1, 3.2741809263825417, 3.3151081879623234, -1, -1, 3.4788172342814505, -1, -1, -1, -1, 3.6834535421803594, -1, -1, -1, -1, -1, -1, -1, -1, -1, -1, -1, -1, -1, -1]\n",
      "[0228_110311]***NEW ITR 42***\n"
     ]
    },
    {
     "name": "stderr",
     "output_type": "stream",
     "text": [
      "100%|██████████████████████████████████████████████████████| 274/274 [00:15<00:00, 18.26it/s]\n"
     ]
    },
    {
     "name": "stdout",
     "output_type": "stream",
     "text": [
      "Overshot to bin 23. Decreasing bump amount to 3.0388491722987965 aiming for bin 21\n",
      "bumps: [0.2, 0.48828125, 0.762939453125, 1.1920928955078125, 1.341104507446289, 1.4901161193847656, 1.6763806343078613, 1.862645149230957, 1.9790604710578918, 2.0954757928848267, 2.2264430299401283, 2.3283064365386963, 2.4010660126805305, 2.473825588822365, 2.5511326384730637, 2.6193447411060333, 2.701199264265597, 2.7830537874251604, 2.8700242182821967, 2.9103830456733704, 2.9467628337442875, -1, 3.092281986027956, 3.1309355108533055, -1, -1, 3.2741809263825417, 3.3151081879623234, -1, -1, 3.4788172342814505, -1, -1, -1, -1, 3.6834535421803594, -1, -1, -1, -1, -1, -1, -1, -1, -1, -1, -1, -1, -1, -1]\n",
      "[0228_110326]***NEW ITR 43***\n"
     ]
    },
    {
     "name": "stderr",
     "output_type": "stream",
     "text": [
      "100%|██████████████████████████████████████████████████████| 274/274 [00:15<00:00, 17.26it/s]\n"
     ]
    },
    {
     "name": "stdout",
     "output_type": "stream",
     "text": [
      "assigned bin_idx 21\n",
      "Cur bump_idx: 21 bump amount: 3.0388491722987965 target_class_pred: 10365 bin_idx: 21\n",
      "updating cur_bump_idx to 22, bump_amount to 3.7985614653734956\n",
      "bumps: [0.2, 0.48828125, 0.762939453125, 1.1920928955078125, 1.341104507446289, 1.4901161193847656, 1.6763806343078613, 1.862645149230957, 1.9790604710578918, 2.0954757928848267, 2.2264430299401283, 2.3283064365386963, 2.4010660126805305, 2.473825588822365, 2.5511326384730637, 2.6193447411060333, 2.701199264265597, 2.7830537874251604, 2.8700242182821967, 2.9103830456733704, 2.9467628337442875, 3.0388491722987965, 3.092281986027956, 3.1309355108533055, -1, -1, 3.2741809263825417, 3.3151081879623234, -1, -1, 3.4788172342814505, -1, -1, -1, -1, 3.6834535421803594, -1, -1, -1, -1, -1, -1, -1, -1, -1, -1, -1, -1, -1, -1]\n",
      "[0228_110341]***NEW ITR 44***\n",
      "[0228_110341]***NEW ITR 45***\n",
      "[0228_110341]***NEW ITR 46***\n"
     ]
    },
    {
     "name": "stderr",
     "output_type": "stream",
     "text": [
      "100%|██████████████████████████████████████████████████████| 274/274 [00:15<00:00, 17.61it/s]\n"
     ]
    },
    {
     "name": "stdout",
     "output_type": "stream",
     "text": [
      "bin_idx < cur_bump_idx (23 and 24) delta=1.25 new bump_amount: 3.913669388566632\n"
     ]
    },
    {
     "name": "stderr",
     "output_type": "stream",
     "text": [
      "100%|██████████████████████████████████████████████████████| 274/274 [00:15<00:00, 17.82it/s]\n"
     ]
    },
    {
     "name": "stdout",
     "output_type": "stream",
     "text": [
      "assigned bin_idx 40\n",
      "Cur bump_idx: 24 bump amount: 3.913669388566632 target_class_pred: 15636 bin_idx: 40\n",
      "Overshot to bin 40. Decreasing bump amount to 3.5223024497099686 aiming for bin 24\n",
      "bumps: [0.2, 0.48828125, 0.762939453125, 1.1920928955078125, 1.341104507446289, 1.4901161193847656, 1.6763806343078613, 1.862645149230957, 1.9790604710578918, 2.0954757928848267, 2.2264430299401283, 2.3283064365386963, 2.4010660126805305, 2.473825588822365, 2.5511326384730637, 2.6193447411060333, 2.701199264265597, 2.7830537874251604, 2.8700242182821967, 2.9103830456733704, 2.9467628337442875, 3.0388491722987965, 3.092281986027956, 3.1309355108533055, -1, -1, 3.2741809263825417, 3.3151081879623234, -1, -1, 3.4788172342814505, -1, -1, -1, -1, 3.6834535421803594, -1, -1, -1, -1, 3.913669388566632, -1, -1, -1, -1, -1, -1, -1, -1, -1]\n",
      "[0228_110412]***NEW ITR 47***\n"
     ]
    },
    {
     "name": "stderr",
     "output_type": "stream",
     "text": [
      "100%|██████████████████████████████████████████████████████| 274/274 [00:14<00:00, 18.30it/s]\n"
     ]
    },
    {
     "name": "stdout",
     "output_type": "stream",
     "text": [
      "assigned bin_idx 31\n",
      "Cur bump_idx: 24 bump amount: 3.5223024497099686 target_class_pred: 13159 bin_idx: 31\n",
      "Overshot to bin 31. Decreasing bump amount to 3.326618980281637 aiming for bin 24\n",
      "bumps: [0.2, 0.48828125, 0.762939453125, 1.1920928955078125, 1.341104507446289, 1.4901161193847656, 1.6763806343078613, 1.862645149230957, 1.9790604710578918, 2.0954757928848267, 2.2264430299401283, 2.3283064365386963, 2.4010660126805305, 2.473825588822365, 2.5511326384730637, 2.6193447411060333, 2.701199264265597, 2.7830537874251604, 2.8700242182821967, 2.9103830456733704, 2.9467628337442875, 3.0388491722987965, 3.092281986027956, 3.1309355108533055, -1, -1, 3.2741809263825417, 3.3151081879623234, -1, -1, 3.4788172342814505, 3.5223024497099686, -1, -1, -1, 3.6834535421803594, -1, -1, -1, -1, 3.913669388566632, -1, -1, -1, -1, -1, -1, -1, -1, -1]\n",
      "[0228_110427]***NEW ITR 48***\n"
     ]
    },
    {
     "name": "stderr",
     "output_type": "stream",
     "text": [
      "100%|██████████████████████████████████████████████████████| 274/274 [00:16<00:00, 17.10it/s]\n"
     ]
    },
    {
     "name": "stdout",
     "output_type": "stream",
     "text": [
      "Overshot to bin 27. Decreasing bump amount to 3.2287772455674713 aiming for bin 24\n",
      "bumps: [0.2, 0.48828125, 0.762939453125, 1.1920928955078125, 1.341104507446289, 1.4901161193847656, 1.6763806343078613, 1.862645149230957, 1.9790604710578918, 2.0954757928848267, 2.2264430299401283, 2.3283064365386963, 2.4010660126805305, 2.473825588822365, 2.5511326384730637, 2.6193447411060333, 2.701199264265597, 2.7830537874251604, 2.8700242182821967, 2.9103830456733704, 2.9467628337442875, 3.0388491722987965, 3.092281986027956, 3.1309355108533055, -1, -1, 3.2741809263825417, 3.3151081879623234, -1, -1, 3.4788172342814505, 3.5223024497099686, -1, -1, -1, 3.6834535421803594, -1, -1, -1, -1, 3.913669388566632, -1, -1, -1, -1, -1, -1, -1, -1, -1]\n",
      "[0228_110443]***NEW ITR 49***\n"
     ]
    },
    {
     "name": "stderr",
     "output_type": "stream",
     "text": [
      "100%|██████████████████████████████████████████████████████| 274/274 [00:15<00:00, 17.61it/s]\n"
     ]
    },
    {
     "name": "stdout",
     "output_type": "stream",
     "text": [
      "assigned bin_idx 25\n",
      "Cur bump_idx: 24 bump amount: 3.2287772455674713 target_class_pred: 11391 bin_idx: 25\n",
      "Overshot to bin 25. Decreasing bump amount to 3.1798563782103884 aiming for bin 24\n",
      "bumps: [0.2, 0.48828125, 0.762939453125, 1.1920928955078125, 1.341104507446289, 1.4901161193847656, 1.6763806343078613, 1.862645149230957, 1.9790604710578918, 2.0954757928848267, 2.2264430299401283, 2.3283064365386963, 2.4010660126805305, 2.473825588822365, 2.5511326384730637, 2.6193447411060333, 2.701199264265597, 2.7830537874251604, 2.8700242182821967, 2.9103830456733704, 2.9467628337442875, 3.0388491722987965, 3.092281986027956, 3.1309355108533055, -1, 3.2287772455674713, 3.2741809263825417, 3.3151081879623234, -1, -1, 3.4788172342814505, 3.5223024497099686, -1, -1, -1, 3.6834535421803594, -1, -1, -1, -1, 3.913669388566632, -1, -1, -1, -1, -1, -1, -1, -1, -1]\n",
      "[0228_110459]***NEW ITR 50***\n"
     ]
    },
    {
     "name": "stderr",
     "output_type": "stream",
     "text": [
      "100%|██████████████████████████████████████████████████████| 274/274 [00:15<00:00, 17.78it/s]\n"
     ]
    },
    {
     "name": "stdout",
     "output_type": "stream",
     "text": [
      "assigned bin_idx 24\n",
      "Cur bump_idx: 24 bump amount: 3.1798563782103884 target_class_pred: 11100 bin_idx: 24\n",
      "updating cur_bump_idx to 25, bump_amount to 3.9748204727629854\n",
      "bumps: [0.2, 0.48828125, 0.762939453125, 1.1920928955078125, 1.341104507446289, 1.4901161193847656, 1.6763806343078613, 1.862645149230957, 1.9790604710578918, 2.0954757928848267, 2.2264430299401283, 2.3283064365386963, 2.4010660126805305, 2.473825588822365, 2.5511326384730637, 2.6193447411060333, 2.701199264265597, 2.7830537874251604, 2.8700242182821967, 2.9103830456733704, 2.9467628337442875, 3.0388491722987965, 3.092281986027956, 3.1309355108533055, 3.1798563782103884, 3.2287772455674713, 3.2741809263825417, 3.3151081879623234, -1, -1, 3.4788172342814505, 3.5223024497099686, -1, -1, -1, 3.6834535421803594, -1, -1, -1, -1, 3.913669388566632, -1, -1, -1, -1, -1, -1, -1, -1, -1]\n",
      "[0228_110514]***NEW ITR 51***\n",
      "[0228_110514]***NEW ITR 52***\n",
      "[0228_110514]***NEW ITR 53***\n",
      "[0228_110514]***NEW ITR 54***\n"
     ]
    },
    {
     "name": "stderr",
     "output_type": "stream",
     "text": [
      "100%|██████████████████████████████████████████████████████| 274/274 [00:15<00:00, 18.24it/s]\n"
     ]
    },
    {
     "name": "stdout",
     "output_type": "stream",
     "text": [
      "bin_idx < cur_bump_idx (27 and 28) delta=1.25 new bump_amount: 4.143885234952904\n"
     ]
    },
    {
     "name": "stderr",
     "output_type": "stream",
     "text": [
      "100%|██████████████████████████████████████████████████████| 274/274 [00:15<00:00, 17.16it/s]\n"
     ]
    },
    {
     "name": "stdout",
     "output_type": "stream",
     "text": [
      "assigned bin_idx 46\n",
      "Cur bump_idx: 28 bump amount: 4.143885234952904 target_class_pred: 17178 bin_idx: 46\n",
      "Overshot to bin 46. Decreasing bump amount to 3.729496711457614 aiming for bin 28\n",
      "bumps: [0.2, 0.48828125, 0.762939453125, 1.1920928955078125, 1.341104507446289, 1.4901161193847656, 1.6763806343078613, 1.862645149230957, 1.9790604710578918, 2.0954757928848267, 2.2264430299401283, 2.3283064365386963, 2.4010660126805305, 2.473825588822365, 2.5511326384730637, 2.6193447411060333, 2.701199264265597, 2.7830537874251604, 2.8700242182821967, 2.9103830456733704, 2.9467628337442875, 3.0388491722987965, 3.092281986027956, 3.1309355108533055, 3.1798563782103884, 3.2287772455674713, 3.2741809263825417, 3.3151081879623234, -1, -1, 3.4788172342814505, 3.5223024497099686, -1, -1, -1, 3.6834535421803594, -1, -1, -1, -1, 3.913669388566632, -1, -1, -1, -1, -1, 4.143885234952904, -1, -1, -1]\n",
      "[0228_110546]***NEW ITR 55***\n"
     ]
    },
    {
     "name": "stderr",
     "output_type": "stream",
     "text": [
      "100%|██████████████████████████████████████████████████████| 274/274 [00:15<00:00, 17.54it/s]\n"
     ]
    },
    {
     "name": "stdout",
     "output_type": "stream",
     "text": [
      "assigned bin_idx 36\n",
      "Cur bump_idx: 28 bump amount: 3.729496711457614 target_class_pred: 14440 bin_idx: 36\n",
      "Overshot to bin 36. Decreasing bump amount to 3.5223024497099686 aiming for bin 28\n",
      "bumps: [0.2, 0.48828125, 0.762939453125, 1.1920928955078125, 1.341104507446289, 1.4901161193847656, 1.6763806343078613, 1.862645149230957, 1.9790604710578918, 2.0954757928848267, 2.2264430299401283, 2.3283064365386963, 2.4010660126805305, 2.473825588822365, 2.5511326384730637, 2.6193447411060333, 2.701199264265597, 2.7830537874251604, 2.8700242182821967, 2.9103830456733704, 2.9467628337442875, 3.0388491722987965, 3.092281986027956, 3.1309355108533055, 3.1798563782103884, 3.2287772455674713, 3.2741809263825417, 3.3151081879623234, -1, -1, 3.4788172342814505, 3.5223024497099686, -1, -1, -1, 3.6834535421803594, 3.729496711457614, -1, -1, -1, 3.913669388566632, -1, -1, -1, -1, -1, 4.143885234952904, -1, -1, -1]\n",
      "[0228_110601]***NEW ITR 56***\n"
     ]
    },
    {
     "name": "stderr",
     "output_type": "stream",
     "text": [
      "100%|██████████████████████████████████████████████████████| 274/274 [00:15<00:00, 17.65it/s]\n"
     ]
    },
    {
     "name": "stdout",
     "output_type": "stream",
     "text": [
      "Overshot to bin 31. Decreasing bump amount to 3.418705318836146 aiming for bin 28\n",
      "bumps: [0.2, 0.48828125, 0.762939453125, 1.1920928955078125, 1.341104507446289, 1.4901161193847656, 1.6763806343078613, 1.862645149230957, 1.9790604710578918, 2.0954757928848267, 2.2264430299401283, 2.3283064365386963, 2.4010660126805305, 2.473825588822365, 2.5511326384730637, 2.6193447411060333, 2.701199264265597, 2.7830537874251604, 2.8700242182821967, 2.9103830456733704, 2.9467628337442875, 3.0388491722987965, 3.092281986027956, 3.1309355108533055, 3.1798563782103884, 3.2287772455674713, 3.2741809263825417, 3.3151081879623234, -1, -1, 3.4788172342814505, 3.5223024497099686, -1, -1, -1, 3.6834535421803594, 3.729496711457614, -1, -1, -1, 3.913669388566632, -1, -1, -1, -1, -1, 4.143885234952904, -1, -1, -1]\n",
      "[0228_110617]***NEW ITR 57***\n"
     ]
    },
    {
     "name": "stderr",
     "output_type": "stream",
     "text": [
      "100%|██████████████████████████████████████████████████████| 274/274 [00:15<00:00, 18.18it/s]\n"
     ]
    },
    {
     "name": "stdout",
     "output_type": "stream",
     "text": [
      "assigned bin_idx 29\n",
      "Cur bump_idx: 28 bump amount: 3.418705318836146 target_class_pred: 12471 bin_idx: 29\n",
      "Overshot to bin 29. Decreasing bump amount to 3.3669067533992347 aiming for bin 28\n",
      "bumps: [0.2, 0.48828125, 0.762939453125, 1.1920928955078125, 1.341104507446289, 1.4901161193847656, 1.6763806343078613, 1.862645149230957, 1.9790604710578918, 2.0954757928848267, 2.2264430299401283, 2.3283064365386963, 2.4010660126805305, 2.473825588822365, 2.5511326384730637, 2.6193447411060333, 2.701199264265597, 2.7830537874251604, 2.8700242182821967, 2.9103830456733704, 2.9467628337442875, 3.0388491722987965, 3.092281986027956, 3.1309355108533055, 3.1798563782103884, 3.2287772455674713, 3.2741809263825417, 3.3151081879623234, -1, 3.418705318836146, 3.4788172342814505, 3.5223024497099686, -1, -1, -1, 3.6834535421803594, 3.729496711457614, -1, -1, -1, 3.913669388566632, -1, -1, -1, -1, -1, 4.143885234952904, -1, -1, -1]\n",
      "[0228_110632]***NEW ITR 58***\n"
     ]
    },
    {
     "name": "stderr",
     "output_type": "stream",
     "text": [
      "100%|██████████████████████████████████████████████████████| 274/274 [00:15<00:00, 17.28it/s]\n"
     ]
    },
    {
     "name": "stdout",
     "output_type": "stream",
     "text": [
      "assigned bin_idx 28\n",
      "Cur bump_idx: 28 bump amount: 3.3669067533992347 target_class_pred: 12169 bin_idx: 28\n",
      "updating cur_bump_idx to 29, bump_amount to 4.208633441749043\n",
      "bumps: [0.2, 0.48828125, 0.762939453125, 1.1920928955078125, 1.341104507446289, 1.4901161193847656, 1.6763806343078613, 1.862645149230957, 1.9790604710578918, 2.0954757928848267, 2.2264430299401283, 2.3283064365386963, 2.4010660126805305, 2.473825588822365, 2.5511326384730637, 2.6193447411060333, 2.701199264265597, 2.7830537874251604, 2.8700242182821967, 2.9103830456733704, 2.9467628337442875, 3.0388491722987965, 3.092281986027956, 3.1309355108533055, 3.1798563782103884, 3.2287772455674713, 3.2741809263825417, 3.3151081879623234, 3.3669067533992347, 3.418705318836146, 3.4788172342814505, 3.5223024497099686, -1, -1, -1, 3.6834535421803594, 3.729496711457614, -1, -1, -1, 3.913669388566632, -1, -1, -1, -1, -1, 4.143885234952904, -1, -1, -1]\n",
      "[0228_110648]***NEW ITR 59***\n",
      "[0228_110648]***NEW ITR 60***\n",
      "[0228_110648]***NEW ITR 61***\n",
      "[0228_110648]***NEW ITR 62***\n"
     ]
    },
    {
     "name": "stderr",
     "output_type": "stream",
     "text": [
      "100%|██████████████████████████████████████████████████████| 274/274 [00:15<00:00, 17.71it/s]\n"
     ]
    },
    {
     "name": "stdout",
     "output_type": "stream",
     "text": [
      "bin_idx < cur_bump_idx (31 and 32) delta=1.25 new bump_amount: 4.402878062137461\n"
     ]
    },
    {
     "name": "stderr",
     "output_type": "stream",
     "text": [
      "100%|██████████████████████████████████████████████████████| 274/274 [00:15<00:00, 17.70it/s]\n"
     ]
    },
    {
     "name": "stdout",
     "output_type": "stream",
     "text": [
      "bin_idx > n_bins (52) delta=1.25 new bump_amount: 3.9625902559237147\n",
      "[0228_110719]***NEW ITR 63***\n"
     ]
    },
    {
     "name": "stderr",
     "output_type": "stream",
     "text": [
      "100%|██████████████████████████████████████████████████████| 274/274 [00:15<00:00, 18.23it/s]\n"
     ]
    },
    {
     "name": "stdout",
     "output_type": "stream",
     "text": [
      "assigned bin_idx 41\n",
      "Cur bump_idx: 32 bump amount: 3.9625902559237147 target_class_pred: 15979 bin_idx: 41\n",
      "Overshot to bin 41. Decreasing bump amount to 3.7424463528168417 aiming for bin 32\n",
      "bumps: [0.2, 0.48828125, 0.762939453125, 1.1920928955078125, 1.341104507446289, 1.4901161193847656, 1.6763806343078613, 1.862645149230957, 1.9790604710578918, 2.0954757928848267, 2.2264430299401283, 2.3283064365386963, 2.4010660126805305, 2.473825588822365, 2.5511326384730637, 2.6193447411060333, 2.701199264265597, 2.7830537874251604, 2.8700242182821967, 2.9103830456733704, 2.9467628337442875, 3.0388491722987965, 3.092281986027956, 3.1309355108533055, 3.1798563782103884, 3.2287772455674713, 3.2741809263825417, 3.3151081879623234, 3.3669067533992347, 3.418705318836146, 3.4788172342814505, 3.5223024497099686, -1, -1, -1, 3.6834535421803594, 3.729496711457614, -1, -1, -1, 3.913669388566632, 3.9625902559237147, -1, -1, -1, -1, 4.143885234952904, -1, -1, -1]\n",
      "[0228_110734]***NEW ITR 64***\n"
     ]
    },
    {
     "name": "stderr",
     "output_type": "stream",
     "text": [
      "100%|██████████████████████████████████████████████████████| 274/274 [00:15<00:00, 17.20it/s]\n"
     ]
    },
    {
     "name": "stdout",
     "output_type": "stream",
     "text": [
      "Overshot to bin 36. Decreasing bump amount to 3.632374401263405 aiming for bin 32\n",
      "bumps: [0.2, 0.48828125, 0.762939453125, 1.1920928955078125, 1.341104507446289, 1.4901161193847656, 1.6763806343078613, 1.862645149230957, 1.9790604710578918, 2.0954757928848267, 2.2264430299401283, 2.3283064365386963, 2.4010660126805305, 2.473825588822365, 2.5511326384730637, 2.6193447411060333, 2.701199264265597, 2.7830537874251604, 2.8700242182821967, 2.9103830456733704, 2.9467628337442875, 3.0388491722987965, 3.092281986027956, 3.1309355108533055, 3.1798563782103884, 3.2287772455674713, 3.2741809263825417, 3.3151081879623234, 3.3669067533992347, 3.418705318836146, 3.4788172342814505, 3.5223024497099686, -1, -1, -1, 3.6834535421803594, 3.729496711457614, -1, -1, -1, 3.913669388566632, 3.9625902559237147, -1, -1, -1, -1, 4.143885234952904, -1, -1, -1]\n",
      "[0228_110750]***NEW ITR 65***\n"
     ]
    },
    {
     "name": "stderr",
     "output_type": "stream",
     "text": [
      "100%|██████████████████████████████████████████████████████| 274/274 [00:15<00:00, 17.53it/s]\n"
     ]
    },
    {
     "name": "stdout",
     "output_type": "stream",
     "text": [
      "assigned bin_idx 34\n",
      "Cur bump_idx: 32 bump amount: 3.632374401263405 target_class_pred: 13812 bin_idx: 34\n",
      "Overshot to bin 34. Decreasing bump amount to 3.577338425486687 aiming for bin 32\n",
      "bumps: [0.2, 0.48828125, 0.762939453125, 1.1920928955078125, 1.341104507446289, 1.4901161193847656, 1.6763806343078613, 1.862645149230957, 1.9790604710578918, 2.0954757928848267, 2.2264430299401283, 2.3283064365386963, 2.4010660126805305, 2.473825588822365, 2.5511326384730637, 2.6193447411060333, 2.701199264265597, 2.7830537874251604, 2.8700242182821967, 2.9103830456733704, 2.9467628337442875, 3.0388491722987965, 3.092281986027956, 3.1309355108533055, 3.1798563782103884, 3.2287772455674713, 3.2741809263825417, 3.3151081879623234, 3.3669067533992347, 3.418705318836146, 3.4788172342814505, 3.5223024497099686, -1, -1, 3.632374401263405, 3.6834535421803594, 3.729496711457614, -1, -1, -1, 3.913669388566632, 3.9625902559237147, -1, -1, -1, -1, 4.143885234952904, -1, -1, -1]\n",
      "[0228_110805]***NEW ITR 66***\n"
     ]
    },
    {
     "name": "stderr",
     "output_type": "stream",
     "text": [
      "100%|██████████████████████████████████████████████████████| 274/274 [00:15<00:00, 17.79it/s]\n"
     ]
    },
    {
     "name": "stdout",
     "output_type": "stream",
     "text": [
      "assigned bin_idx 32\n",
      "Cur bump_idx: 32 bump amount: 3.577338425486687 target_class_pred: 13483 bin_idx: 32\n",
      "updating cur_bump_idx to 33, bump_amount to 4.471673031858359\n",
      "bumps: [0.2, 0.48828125, 0.762939453125, 1.1920928955078125, 1.341104507446289, 1.4901161193847656, 1.6763806343078613, 1.862645149230957, 1.9790604710578918, 2.0954757928848267, 2.2264430299401283, 2.3283064365386963, 2.4010660126805305, 2.473825588822365, 2.5511326384730637, 2.6193447411060333, 2.701199264265597, 2.7830537874251604, 2.8700242182821967, 2.9103830456733704, 2.9467628337442875, 3.0388491722987965, 3.092281986027956, 3.1309355108533055, 3.1798563782103884, 3.2287772455674713, 3.2741809263825417, 3.3151081879623234, 3.3669067533992347, 3.418705318836146, 3.4788172342814505, 3.5223024497099686, 3.577338425486687, -1, 3.632374401263405, 3.6834535421803594, 3.729496711457614, -1, -1, -1, 3.913669388566632, 3.9625902559237147, -1, -1, -1, -1, 4.143885234952904, -1, -1, -1]\n",
      "[0228_110821]***NEW ITR 67***\n"
     ]
    },
    {
     "name": "stderr",
     "output_type": "stream",
     "text": [
      "100%|██████████████████████████████████████████████████████| 274/274 [00:15<00:00, 18.17it/s]\n"
     ]
    },
    {
     "name": "stdout",
     "output_type": "stream",
     "text": [
      "bin_idx > n_bins (54) delta=1.25 new bump_amount: 4.024505728672523\n",
      "[0228_110836]***NEW ITR 68***\n"
     ]
    },
    {
     "name": "stderr",
     "output_type": "stream",
     "text": [
      "100%|██████████████████████████████████████████████████████| 274/274 [00:15<00:00, 17.53it/s]\n"
     ]
    },
    {
     "name": "stdout",
     "output_type": "stream",
     "text": [
      "assigned bin_idx 43\n",
      "Cur bump_idx: 33 bump amount: 4.024505728672523 target_class_pred: 16398 bin_idx: 43\n",
      "Overshot to bin 43. Decreasing bump amount to 3.800922077079605 aiming for bin 33\n",
      "bumps: [0.2, 0.48828125, 0.762939453125, 1.1920928955078125, 1.341104507446289, 1.4901161193847656, 1.6763806343078613, 1.862645149230957, 1.9790604710578918, 2.0954757928848267, 2.2264430299401283, 2.3283064365386963, 2.4010660126805305, 2.473825588822365, 2.5511326384730637, 2.6193447411060333, 2.701199264265597, 2.7830537874251604, 2.8700242182821967, 2.9103830456733704, 2.9467628337442875, 3.0388491722987965, 3.092281986027956, 3.1309355108533055, 3.1798563782103884, 3.2287772455674713, 3.2741809263825417, 3.3151081879623234, 3.3669067533992347, 3.418705318836146, 3.4788172342814505, 3.5223024497099686, 3.577338425486687, -1, 3.632374401263405, 3.6834535421803594, 3.729496711457614, -1, -1, -1, 3.913669388566632, 3.9625902559237147, -1, 4.024505728672523, -1, -1, 4.143885234952904, -1, -1, -1]\n",
      "[0228_110852]***NEW ITR 69***\n"
     ]
    },
    {
     "name": "stderr",
     "output_type": "stream",
     "text": [
      "100%|██████████████████████████████████████████████████████| 274/274 [00:15<00:00, 17.58it/s]\n"
     ]
    },
    {
     "name": "stdout",
     "output_type": "stream",
     "text": [
      "assigned bin_idx 38\n",
      "Cur bump_idx: 33 bump amount: 3.800922077079605 target_class_pred: 14900 bin_idx: 38\n",
      "Overshot to bin 38. Decreasing bump amount to 3.689130251283146 aiming for bin 33\n",
      "bumps: [0.2, 0.48828125, 0.762939453125, 1.1920928955078125, 1.341104507446289, 1.4901161193847656, 1.6763806343078613, 1.862645149230957, 1.9790604710578918, 2.0954757928848267, 2.2264430299401283, 2.3283064365386963, 2.4010660126805305, 2.473825588822365, 2.5511326384730637, 2.6193447411060333, 2.701199264265597, 2.7830537874251604, 2.8700242182821967, 2.9103830456733704, 2.9467628337442875, 3.0388491722987965, 3.092281986027956, 3.1309355108533055, 3.1798563782103884, 3.2287772455674713, 3.2741809263825417, 3.3151081879623234, 3.3669067533992347, 3.418705318836146, 3.4788172342814505, 3.5223024497099686, 3.577338425486687, -1, 3.632374401263405, 3.6834535421803594, 3.729496711457614, -1, 3.800922077079605, -1, 3.913669388566632, 3.9625902559237147, -1, 4.024505728672523, -1, -1, 4.143885234952904, -1, -1, -1]\n",
      "[0228_110907]***NEW ITR 70***\n"
     ]
    },
    {
     "name": "stderr",
     "output_type": "stream",
     "text": [
      "100%|██████████████████████████████████████████████████████| 274/274 [00:15<00:00, 17.52it/s]\n"
     ]
    },
    {
     "name": "stdout",
     "output_type": "stream",
     "text": [
      "Overshot to bin 35. Decreasing bump amount to 3.6332343383849164 aiming for bin 33\n",
      "bumps: [0.2, 0.48828125, 0.762939453125, 1.1920928955078125, 1.341104507446289, 1.4901161193847656, 1.6763806343078613, 1.862645149230957, 1.9790604710578918, 2.0954757928848267, 2.2264430299401283, 2.3283064365386963, 2.4010660126805305, 2.473825588822365, 2.5511326384730637, 2.6193447411060333, 2.701199264265597, 2.7830537874251604, 2.8700242182821967, 2.9103830456733704, 2.9467628337442875, 3.0388491722987965, 3.092281986027956, 3.1309355108533055, 3.1798563782103884, 3.2287772455674713, 3.2741809263825417, 3.3151081879623234, 3.3669067533992347, 3.418705318836146, 3.4788172342814505, 3.5223024497099686, 3.577338425486687, -1, 3.632374401263405, 3.6834535421803594, 3.729496711457614, -1, 3.800922077079605, -1, 3.913669388566632, 3.9625902559237147, -1, 4.024505728672523, -1, -1, 4.143885234952904, -1, -1, -1]\n",
      "[0228_110923]***NEW ITR 71***\n"
     ]
    },
    {
     "name": "stderr",
     "output_type": "stream",
     "text": [
      "100%|██████████████████████████████████████████████████████| 274/274 [00:15<00:00, 17.88it/s]\n"
     ]
    },
    {
     "name": "stdout",
     "output_type": "stream",
     "text": [
      "Overshot to bin 34. Decreasing bump amount to 3.6052863819358016 aiming for bin 33\n",
      "bumps: [0.2, 0.48828125, 0.762939453125, 1.1920928955078125, 1.341104507446289, 1.4901161193847656, 1.6763806343078613, 1.862645149230957, 1.9790604710578918, 2.0954757928848267, 2.2264430299401283, 2.3283064365386963, 2.4010660126805305, 2.473825588822365, 2.5511326384730637, 2.6193447411060333, 2.701199264265597, 2.7830537874251604, 2.8700242182821967, 2.9103830456733704, 2.9467628337442875, 3.0388491722987965, 3.092281986027956, 3.1309355108533055, 3.1798563782103884, 3.2287772455674713, 3.2741809263825417, 3.3151081879623234, 3.3669067533992347, 3.418705318836146, 3.4788172342814505, 3.5223024497099686, 3.577338425486687, -1, 3.632374401263405, 3.6834535421803594, 3.729496711457614, -1, 3.800922077079605, -1, 3.913669388566632, 3.9625902559237147, -1, 4.024505728672523, -1, -1, 4.143885234952904, -1, -1, -1]\n",
      "[0228_110938]***NEW ITR 72***\n"
     ]
    },
    {
     "name": "stderr",
     "output_type": "stream",
     "text": [
      "100%|██████████████████████████████████████████████████████| 274/274 [00:15<00:00, 17.17it/s]\n"
     ]
    },
    {
     "name": "stdout",
     "output_type": "stream",
     "text": [
      "assigned bin_idx 33\n",
      "Cur bump_idx: 33 bump amount: 3.6052863819358016 target_class_pred: 13649 bin_idx: 33\n",
      "updating cur_bump_idx to 34, bump_amount to 4.506607977419752\n",
      "bumps: [0.2, 0.48828125, 0.762939453125, 1.1920928955078125, 1.341104507446289, 1.4901161193847656, 1.6763806343078613, 1.862645149230957, 1.9790604710578918, 2.0954757928848267, 2.2264430299401283, 2.3283064365386963, 2.4010660126805305, 2.473825588822365, 2.5511326384730637, 2.6193447411060333, 2.701199264265597, 2.7830537874251604, 2.8700242182821967, 2.9103830456733704, 2.9467628337442875, 3.0388491722987965, 3.092281986027956, 3.1309355108533055, 3.1798563782103884, 3.2287772455674713, 3.2741809263825417, 3.3151081879623234, 3.3669067533992347, 3.418705318836146, 3.4788172342814505, 3.5223024497099686, 3.577338425486687, 3.6052863819358016, 3.632374401263405, 3.6834535421803594, 3.729496711457614, -1, 3.800922077079605, -1, 3.913669388566632, 3.9625902559237147, -1, 4.024505728672523, -1, -1, 4.143885234952904, -1, -1, -1]\n",
      "[0228_110954]***NEW ITR 73***\n",
      "[0228_110954]***NEW ITR 74***\n",
      "[0228_110954]***NEW ITR 75***\n",
      "[0228_110954]***NEW ITR 76***\n"
     ]
    },
    {
     "name": "stderr",
     "output_type": "stream",
     "text": [
      "100%|██████████████████████████████████████████████████████| 274/274 [00:15<00:00, 17.76it/s]\n"
     ]
    },
    {
     "name": "stdout",
     "output_type": "stream",
     "text": [
      "bin_idx < cur_bump_idx (36 and 37) delta=1.25 new bump_amount: 4.661870889322017\n"
     ]
    },
    {
     "name": "stderr",
     "output_type": "stream",
     "text": [
      "100%|██████████████████████████████████████████████████████| 274/274 [00:15<00:00, 17.72it/s]\n"
     ]
    },
    {
     "name": "stdout",
     "output_type": "stream",
     "text": [
      "bin_idx > n_bins (59) delta=1.25 new bump_amount: 4.195683800389816\n",
      "[0228_111025]***NEW ITR 77***\n"
     ]
    },
    {
     "name": "stderr",
     "output_type": "stream",
     "text": [
      "100%|██████████████████████████████████████████████████████| 274/274 [00:15<00:00, 18.17it/s]\n"
     ]
    },
    {
     "name": "stdout",
     "output_type": "stream",
     "text": [
      "assigned bin_idx 47\n",
      "Cur bump_idx: 37 bump amount: 4.195683800389816 target_class_pred: 17521 bin_idx: 47\n",
      "Overshot to bin 47. Decreasing bump amount to 3.9625902559237147 aiming for bin 37\n",
      "bumps: [0.2, 0.48828125, 0.762939453125, 1.1920928955078125, 1.341104507446289, 1.4901161193847656, 1.6763806343078613, 1.862645149230957, 1.9790604710578918, 2.0954757928848267, 2.2264430299401283, 2.3283064365386963, 2.4010660126805305, 2.473825588822365, 2.5511326384730637, 2.6193447411060333, 2.701199264265597, 2.7830537874251604, 2.8700242182821967, 2.9103830456733704, 2.9467628337442875, 3.0388491722987965, 3.092281986027956, 3.1309355108533055, 3.1798563782103884, 3.2287772455674713, 3.2741809263825417, 3.3151081879623234, 3.3669067533992347, 3.418705318836146, 3.4788172342814505, 3.5223024497099686, 3.577338425486687, 3.6052863819358016, 3.632374401263405, 3.6834535421803594, 3.729496711457614, -1, 3.800922077079605, -1, 3.913669388566632, 3.9625902559237147, -1, 4.024505728672523, -1, -1, 4.143885234952904, 4.195683800389816, -1, -1]\n",
      "[0228_111040]***NEW ITR 78***\n"
     ]
    },
    {
     "name": "stderr",
     "output_type": "stream",
     "text": [
      "100%|██████████████████████████████████████████████████████| 274/274 [00:15<00:00, 17.28it/s]\n"
     ]
    },
    {
     "name": "stdout",
     "output_type": "stream",
     "text": [
      "Overshot to bin 41. Decreasing bump amount to 3.8460434836906643 aiming for bin 37\n",
      "bumps: [0.2, 0.48828125, 0.762939453125, 1.1920928955078125, 1.341104507446289, 1.4901161193847656, 1.6763806343078613, 1.862645149230957, 1.9790604710578918, 2.0954757928848267, 2.2264430299401283, 2.3283064365386963, 2.4010660126805305, 2.473825588822365, 2.5511326384730637, 2.6193447411060333, 2.701199264265597, 2.7830537874251604, 2.8700242182821967, 2.9103830456733704, 2.9467628337442875, 3.0388491722987965, 3.092281986027956, 3.1309355108533055, 3.1798563782103884, 3.2287772455674713, 3.2741809263825417, 3.3151081879623234, 3.3669067533992347, 3.418705318836146, 3.4788172342814505, 3.5223024497099686, 3.577338425486687, 3.6052863819358016, 3.632374401263405, 3.6834535421803594, 3.729496711457614, -1, 3.800922077079605, -1, 3.913669388566632, 3.9625902559237147, -1, 4.024505728672523, -1, -1, 4.143885234952904, 4.195683800389816, -1, -1]\n",
      "[0228_111056]***NEW ITR 79***\n"
     ]
    },
    {
     "name": "stderr",
     "output_type": "stream",
     "text": [
      "100%|██████████████████████████████████████████████████████| 274/274 [00:15<00:00, 17.66it/s]\n"
     ]
    },
    {
     "name": "stdout",
     "output_type": "stream",
     "text": [
      "assigned bin_idx 39\n",
      "Cur bump_idx: 37 bump amount: 3.8460434836906643 target_class_pred: 15204 bin_idx: 39\n",
      "Overshot to bin 39. Decreasing bump amount to 3.787770097574139 aiming for bin 37\n",
      "bumps: [0.2, 0.48828125, 0.762939453125, 1.1920928955078125, 1.341104507446289, 1.4901161193847656, 1.6763806343078613, 1.862645149230957, 1.9790604710578918, 2.0954757928848267, 2.2264430299401283, 2.3283064365386963, 2.4010660126805305, 2.473825588822365, 2.5511326384730637, 2.6193447411060333, 2.701199264265597, 2.7830537874251604, 2.8700242182821967, 2.9103830456733704, 2.9467628337442875, 3.0388491722987965, 3.092281986027956, 3.1309355108533055, 3.1798563782103884, 3.2287772455674713, 3.2741809263825417, 3.3151081879623234, 3.3669067533992347, 3.418705318836146, 3.4788172342814505, 3.5223024497099686, 3.577338425486687, 3.6052863819358016, 3.632374401263405, 3.6834535421803594, 3.729496711457614, -1, 3.800922077079605, 3.8460434836906643, 3.913669388566632, 3.9625902559237147, -1, 4.024505728672523, -1, -1, 4.143885234952904, 4.195683800389816, -1, -1]\n",
      "[0228_111112]***NEW ITR 80***\n"
     ]
    },
    {
     "name": "stderr",
     "output_type": "stream",
     "text": [
      "100%|██████████████████████████████████████████████████████| 274/274 [00:15<00:00, 17.66it/s]\n"
     ]
    },
    {
     "name": "stdout",
     "output_type": "stream",
     "text": [
      "assigned bin_idx 37\n",
      "Cur bump_idx: 37 bump amount: 3.787770097574139 target_class_pred: 14816 bin_idx: 37\n",
      "updating cur_bump_idx to 38, bump_amount to 4.734712621967674\n",
      "bumps: [0.2, 0.48828125, 0.762939453125, 1.1920928955078125, 1.341104507446289, 1.4901161193847656, 1.6763806343078613, 1.862645149230957, 1.9790604710578918, 2.0954757928848267, 2.2264430299401283, 2.3283064365386963, 2.4010660126805305, 2.473825588822365, 2.5511326384730637, 2.6193447411060333, 2.701199264265597, 2.7830537874251604, 2.8700242182821967, 2.9103830456733704, 2.9467628337442875, 3.0388491722987965, 3.092281986027956, 3.1309355108533055, 3.1798563782103884, 3.2287772455674713, 3.2741809263825417, 3.3151081879623234, 3.3669067533992347, 3.418705318836146, 3.4788172342814505, 3.5223024497099686, 3.577338425486687, 3.6052863819358016, 3.632374401263405, 3.6834535421803594, 3.729496711457614, 3.787770097574139, 3.800922077079605, 3.8460434836906643, 3.913669388566632, 3.9625902559237147, -1, 4.024505728672523, -1, -1, 4.143885234952904, 4.195683800389816, -1, -1]\n",
      "[0228_111127]***NEW ITR 81***\n",
      "[0228_111127]***NEW ITR 82***\n",
      "[0228_111127]***NEW ITR 83***\n",
      "[0228_111127]***NEW ITR 84***\n",
      "[0228_111127]***NEW ITR 85***\n"
     ]
    },
    {
     "name": "stderr",
     "output_type": "stream",
     "text": [
      "100%|██████████████████████████████████████████████████████| 274/274 [00:14<00:00, 18.29it/s]\n"
     ]
    },
    {
     "name": "stdout",
     "output_type": "stream",
     "text": [
      "bin_idx < cur_bump_idx (41 and 42) delta=1.25 new bump_amount: 4.953237819904643\n"
     ]
    },
    {
     "name": "stderr",
     "output_type": "stream",
     "text": [
      "100%|██████████████████████████████████████████████████████| 274/274 [00:15<00:00, 17.19it/s]\n"
     ]
    },
    {
     "name": "stdout",
     "output_type": "stream",
     "text": [
      "bin_idx > n_bins (67) delta=1.25 new bump_amount: 4.457914037914179\n",
      "[0228_111158]***NEW ITR 86***\n"
     ]
    },
    {
     "name": "stderr",
     "output_type": "stream",
     "text": [
      "100%|██████████████████████████████████████████████████████| 274/274 [00:15<00:00, 17.50it/s]\n"
     ]
    },
    {
     "name": "stdout",
     "output_type": "stream",
     "text": [
      "bin_idx > n_bins (53) delta=1.25 new bump_amount: 4.210252146918947\n",
      "[0228_111214]***NEW ITR 87***\n"
     ]
    },
    {
     "name": "stderr",
     "output_type": "stream",
     "text": [
      "100%|██████████████████████████████████████████████████████| 274/274 [00:15<00:00, 17.67it/s]\n"
     ]
    },
    {
     "name": "stdout",
     "output_type": "stream",
     "text": [
      "Overshot to bin 47. Decreasing bump amount to 4.086421201421331 aiming for bin 42\n",
      "bumps: [0.2, 0.48828125, 0.762939453125, 1.1920928955078125, 1.341104507446289, 1.4901161193847656, 1.6763806343078613, 1.862645149230957, 1.9790604710578918, 2.0954757928848267, 2.2264430299401283, 2.3283064365386963, 2.4010660126805305, 2.473825588822365, 2.5511326384730637, 2.6193447411060333, 2.701199264265597, 2.7830537874251604, 2.8700242182821967, 2.9103830456733704, 2.9467628337442875, 3.0388491722987965, 3.092281986027956, 3.1309355108533055, 3.1798563782103884, 3.2287772455674713, 3.2741809263825417, 3.3151081879623234, 3.3669067533992347, 3.418705318836146, 3.4788172342814505, 3.5223024497099686, 3.577338425486687, 3.6052863819358016, 3.632374401263405, 3.6834535421803594, 3.729496711457614, 3.787770097574139, 3.800922077079605, 3.8460434836906643, 3.913669388566632, 3.9625902559237147, -1, 4.024505728672523, -1, -1, 4.143885234952904, 4.195683800389816, -1, -1]\n",
      "[0228_111229]***NEW ITR 88***\n"
     ]
    },
    {
     "name": "stderr",
     "output_type": "stream",
     "text": [
      "100%|██████████████████████████████████████████████████████| 274/274 [00:14<00:00, 18.30it/s]\n"
     ]
    },
    {
     "name": "stdout",
     "output_type": "stream",
     "text": [
      "assigned bin_idx 44\n",
      "Cur bump_idx: 42 bump amount: 4.086421201421331 target_class_pred: 16816 bin_idx: 44\n",
      "Overshot to bin 44. Decreasing bump amount to 4.024505728672523 aiming for bin 42\n",
      "bumps: [0.2, 0.48828125, 0.762939453125, 1.1920928955078125, 1.341104507446289, 1.4901161193847656, 1.6763806343078613, 1.862645149230957, 1.9790604710578918, 2.0954757928848267, 2.2264430299401283, 2.3283064365386963, 2.4010660126805305, 2.473825588822365, 2.5511326384730637, 2.6193447411060333, 2.701199264265597, 2.7830537874251604, 2.8700242182821967, 2.9103830456733704, 2.9467628337442875, 3.0388491722987965, 3.092281986027956, 3.1309355108533055, 3.1798563782103884, 3.2287772455674713, 3.2741809263825417, 3.3151081879623234, 3.3669067533992347, 3.418705318836146, 3.4788172342814505, 3.5223024497099686, 3.577338425486687, 3.6052863819358016, 3.632374401263405, 3.6834535421803594, 3.729496711457614, 3.787770097574139, 3.800922077079605, 3.8460434836906643, 3.913669388566632, 3.9625902559237147, -1, 4.024505728672523, 4.086421201421331, -1, 4.143885234952904, 4.195683800389816, -1, -1]\n",
      "[0228_111244]***NEW ITR 89***\n"
     ]
    },
    {
     "name": "stderr",
     "output_type": "stream",
     "text": [
      "100%|██████████████████████████████████████████████████████| 274/274 [00:15<00:00, 17.30it/s]\n"
     ]
    },
    {
     "name": "stdout",
     "output_type": "stream",
     "text": [
      "Overshot to bin 43. Decreasing bump amount to 3.9935479922981187 aiming for bin 42\n",
      "bumps: [0.2, 0.48828125, 0.762939453125, 1.1920928955078125, 1.341104507446289, 1.4901161193847656, 1.6763806343078613, 1.862645149230957, 1.9790604710578918, 2.0954757928848267, 2.2264430299401283, 2.3283064365386963, 2.4010660126805305, 2.473825588822365, 2.5511326384730637, 2.6193447411060333, 2.701199264265597, 2.7830537874251604, 2.8700242182821967, 2.9103830456733704, 2.9467628337442875, 3.0388491722987965, 3.092281986027956, 3.1309355108533055, 3.1798563782103884, 3.2287772455674713, 3.2741809263825417, 3.3151081879623234, 3.3669067533992347, 3.418705318836146, 3.4788172342814505, 3.5223024497099686, 3.577338425486687, 3.6052863819358016, 3.632374401263405, 3.6834535421803594, 3.729496711457614, 3.787770097574139, 3.800922077079605, 3.8460434836906643, 3.913669388566632, 3.9625902559237147, -1, 4.024505728672523, 4.086421201421331, -1, 4.143885234952904, 4.195683800389816, -1, -1]\n",
      "[0228_111300]***NEW ITR 90***\n"
     ]
    },
    {
     "name": "stderr",
     "output_type": "stream",
     "text": [
      "100%|██████████████████████████████████████████████████████| 274/274 [00:15<00:00, 17.46it/s]\n"
     ]
    },
    {
     "name": "stdout",
     "output_type": "stream",
     "text": [
      "assigned bin_idx 42\n",
      "Cur bump_idx: 42 bump amount: 3.9935479922981187 target_class_pred: 16201 bin_idx: 42\n",
      "updating cur_bump_idx to 43, bump_amount to 4.991934990372648\n",
      "bumps: [0.2, 0.48828125, 0.762939453125, 1.1920928955078125, 1.341104507446289, 1.4901161193847656, 1.6763806343078613, 1.862645149230957, 1.9790604710578918, 2.0954757928848267, 2.2264430299401283, 2.3283064365386963, 2.4010660126805305, 2.473825588822365, 2.5511326384730637, 2.6193447411060333, 2.701199264265597, 2.7830537874251604, 2.8700242182821967, 2.9103830456733704, 2.9467628337442875, 3.0388491722987965, 3.092281986027956, 3.1309355108533055, 3.1798563782103884, 3.2287772455674713, 3.2741809263825417, 3.3151081879623234, 3.3669067533992347, 3.418705318836146, 3.4788172342814505, 3.5223024497099686, 3.577338425486687, 3.6052863819358016, 3.632374401263405, 3.6834535421803594, 3.729496711457614, 3.787770097574139, 3.800922077079605, 3.8460434836906643, 3.913669388566632, 3.9625902559237147, 3.9935479922981187, 4.024505728672523, 4.086421201421331, -1, 4.143885234952904, 4.195683800389816, -1, -1]\n",
      "[0228_111316]***NEW ITR 91***\n",
      "[0228_111316]***NEW ITR 92***\n",
      "[0228_111316]***NEW ITR 93***\n"
     ]
    },
    {
     "name": "stderr",
     "output_type": "stream",
     "text": [
      "100%|██████████████████████████████████████████████████████| 274/274 [00:15<00:00, 17.77it/s]\n"
     ]
    },
    {
     "name": "stdout",
     "output_type": "stream",
     "text": [
      "bin_idx < cur_bump_idx (44 and 45) delta=1.25 new bump_amount: 5.1080265017766635\n"
     ]
    },
    {
     "name": "stderr",
     "output_type": "stream",
     "text": [
      "100%|██████████████████████████████████████████████████████| 274/274 [00:14<00:00, 18.33it/s]\n"
     ]
    },
    {
     "name": "stdout",
     "output_type": "stream",
     "text": [
      "bin_idx > n_bins (72) delta=1.25 new bump_amount: 4.597223851598997\n",
      "[0228_111346]***NEW ITR 94***\n"
     ]
    },
    {
     "name": "stderr",
     "output_type": "stream",
     "text": [
      "100%|██████████████████████████████████████████████████████| 274/274 [00:15<00:00, 17.18it/s]\n"
     ]
    },
    {
     "name": "stdout",
     "output_type": "stream",
     "text": [
      "bin_idx > n_bins (57) delta=1.25 new bump_amount: 4.341822526510164\n",
      "[0228_111402]***NEW ITR 95***\n"
     ]
    },
    {
     "name": "stderr",
     "output_type": "stream",
     "text": [
      "100%|██████████████████████████████████████████████████████| 274/274 [00:15<00:00, 17.57it/s]\n"
     ]
    },
    {
     "name": "stdout",
     "output_type": "stream",
     "text": [
      "bin_idx > n_bins (50) delta=1.25 new bump_amount: 4.214121863965747\n",
      "[0228_111418]***NEW ITR 96***\n"
     ]
    },
    {
     "name": "stderr",
     "output_type": "stream",
     "text": [
      "100%|██████████████████████████████████████████████████████| 274/274 [00:15<00:00, 17.69it/s]\n"
     ]
    },
    {
     "name": "stdout",
     "output_type": "stream",
     "text": [
      "Overshot to bin 47. Decreasing bump amount to 4.150271532693539 aiming for bin 45\n",
      "bumps: [0.2, 0.48828125, 0.762939453125, 1.1920928955078125, 1.341104507446289, 1.4901161193847656, 1.6763806343078613, 1.862645149230957, 1.9790604710578918, 2.0954757928848267, 2.2264430299401283, 2.3283064365386963, 2.4010660126805305, 2.473825588822365, 2.5511326384730637, 2.6193447411060333, 2.701199264265597, 2.7830537874251604, 2.8700242182821967, 2.9103830456733704, 2.9467628337442875, 3.0388491722987965, 3.092281986027956, 3.1309355108533055, 3.1798563782103884, 3.2287772455674713, 3.2741809263825417, 3.3151081879623234, 3.3669067533992347, 3.418705318836146, 3.4788172342814505, 3.5223024497099686, 3.577338425486687, 3.6052863819358016, 3.632374401263405, 3.6834535421803594, 3.729496711457614, 3.787770097574139, 3.800922077079605, 3.8460434836906643, 3.913669388566632, 3.9625902559237147, 3.9935479922981187, 4.024505728672523, 4.086421201421331, -1, 4.143885234952904, 4.195683800389816, -1, -1]\n",
      "[0228_111434]***NEW ITR 97***\n"
     ]
    },
    {
     "name": "stderr",
     "output_type": "stream",
     "text": [
      "100%|██████████████████████████████████████████████████████| 274/274 [00:15<00:00, 18.18it/s]\n"
     ]
    },
    {
     "name": "stdout",
     "output_type": "stream",
     "text": [
      "Overshot to bin 46. Decreasing bump amount to 4.118346367057435 aiming for bin 45\n",
      "bumps: [0.2, 0.48828125, 0.762939453125, 1.1920928955078125, 1.341104507446289, 1.4901161193847656, 1.6763806343078613, 1.862645149230957, 1.9790604710578918, 2.0954757928848267, 2.2264430299401283, 2.3283064365386963, 2.4010660126805305, 2.473825588822365, 2.5511326384730637, 2.6193447411060333, 2.701199264265597, 2.7830537874251604, 2.8700242182821967, 2.9103830456733704, 2.9467628337442875, 3.0388491722987965, 3.092281986027956, 3.1309355108533055, 3.1798563782103884, 3.2287772455674713, 3.2741809263825417, 3.3151081879623234, 3.3669067533992347, 3.418705318836146, 3.4788172342814505, 3.5223024497099686, 3.577338425486687, 3.6052863819358016, 3.632374401263405, 3.6834535421803594, 3.729496711457614, 3.787770097574139, 3.800922077079605, 3.8460434836906643, 3.913669388566632, 3.9625902559237147, 3.9935479922981187, 4.024505728672523, 4.086421201421331, -1, 4.143885234952904, 4.195683800389816, -1, -1]\n",
      "[0228_111449]***NEW ITR 98***\n"
     ]
    },
    {
     "name": "stderr",
     "output_type": "stream",
     "text": [
      "100%|██████████████████████████████████████████████████████| 274/274 [00:15<00:00, 17.24it/s]\n"
     ]
    },
    {
     "name": "stdout",
     "output_type": "stream",
     "text": [
      "assigned bin_idx 45\n",
      "Cur bump_idx: 45 bump amount: 4.118346367057435 target_class_pred: 17011 bin_idx: 45\n",
      "updating cur_bump_idx to 46, bump_amount to 5.1479329588217935\n",
      "bumps: [0.2, 0.48828125, 0.762939453125, 1.1920928955078125, 1.341104507446289, 1.4901161193847656, 1.6763806343078613, 1.862645149230957, 1.9790604710578918, 2.0954757928848267, 2.2264430299401283, 2.3283064365386963, 2.4010660126805305, 2.473825588822365, 2.5511326384730637, 2.6193447411060333, 2.701199264265597, 2.7830537874251604, 2.8700242182821967, 2.9103830456733704, 2.9467628337442875, 3.0388491722987965, 3.092281986027956, 3.1309355108533055, 3.1798563782103884, 3.2287772455674713, 3.2741809263825417, 3.3151081879623234, 3.3669067533992347, 3.418705318836146, 3.4788172342814505, 3.5223024497099686, 3.577338425486687, 3.6052863819358016, 3.632374401263405, 3.6834535421803594, 3.729496711457614, 3.787770097574139, 3.800922077079605, 3.8460434836906643, 3.913669388566632, 3.9625902559237147, 3.9935479922981187, 4.024505728672523, 4.086421201421331, 4.118346367057435, 4.143885234952904, 4.195683800389816, -1, -1]\n",
      "[0228_111505]***NEW ITR 99***\n",
      "[0228_111505]***NEW ITR 100***\n",
      "[0228_111505]***NEW ITR 101***\n"
     ]
    },
    {
     "name": "stderr",
     "output_type": "stream",
     "text": [
      "100%|██████████████████████████████████████████████████████| 274/274 [00:15<00:00, 17.52it/s]\n"
     ]
    },
    {
     "name": "stdout",
     "output_type": "stream",
     "text": [
      "bin_idx < cur_bump_idx (47 and 48) delta=1.25 new bump_amount: 5.2446047504872695\n"
     ]
    },
    {
     "name": "stderr",
     "output_type": "stream",
     "text": [
      "100%|██████████████████████████████████████████████████████| 274/274 [00:15<00:00, 17.74it/s]\n"
     ]
    },
    {
     "name": "stdout",
     "output_type": "stream",
     "text": [
      "bin_idx > n_bins (77) delta=1.25 new bump_amount: 4.7201442754385425\n",
      "[0228_111536]***NEW ITR 102***\n"
     ]
    },
    {
     "name": "stderr",
     "output_type": "stream",
     "text": [
      "100%|██████████████████████████████████████████████████████| 274/274 [00:14<00:00, 18.30it/s]\n"
     ]
    },
    {
     "name": "stdout",
     "output_type": "stream",
     "text": [
      "bin_idx > n_bins (60) delta=1.25 new bump_amount: 4.457914037914179\n",
      "[0228_111551]***NEW ITR 103***\n"
     ]
    },
    {
     "name": "stderr",
     "output_type": "stream",
     "text": [
      "100%|██████████████████████████████████████████████████████| 274/274 [00:15<00:00, 17.30it/s]\n"
     ]
    },
    {
     "name": "stdout",
     "output_type": "stream",
     "text": [
      "bin_idx > n_bins (53) delta=1.25 new bump_amount: 4.326798919151997\n",
      "[0228_111607]***NEW ITR 104***\n"
     ]
    },
    {
     "name": "stderr",
     "output_type": "stream",
     "text": [
      "100%|██████████████████████████████████████████████████████| 274/274 [00:15<00:00, 17.64it/s]\n"
     ]
    },
    {
     "name": "stdout",
     "output_type": "stream",
     "text": [
      "bin_idx > n_bins (50) delta=1.25 new bump_amount: 4.2612413597709065\n",
      "[0228_111622]***NEW ITR 105***\n"
     ]
    },
    {
     "name": "stderr",
     "output_type": "stream",
     "text": [
      "100%|██████████████████████████████████████████████████████| 274/274 [00:15<00:00, 17.73it/s]\n"
     ]
    },
    {
     "name": "stdout",
     "output_type": "stream",
     "text": [
      "assigned bin_idx 48\n",
      "Cur bump_idx: 48 bump amount: 4.2612413597709065 target_class_pred: 17944 bin_idx: 48\n",
      "updating cur_bump_idx to 49, bump_amount to 5.326551699713633\n",
      "bumps: [0.2, 0.48828125, 0.762939453125, 1.1920928955078125, 1.341104507446289, 1.4901161193847656, 1.6763806343078613, 1.862645149230957, 1.9790604710578918, 2.0954757928848267, 2.2264430299401283, 2.3283064365386963, 2.4010660126805305, 2.473825588822365, 2.5511326384730637, 2.6193447411060333, 2.701199264265597, 2.7830537874251604, 2.8700242182821967, 2.9103830456733704, 2.9467628337442875, 3.0388491722987965, 3.092281986027956, 3.1309355108533055, 3.1798563782103884, 3.2287772455674713, 3.2741809263825417, 3.3151081879623234, 3.3669067533992347, 3.418705318836146, 3.4788172342814505, 3.5223024497099686, 3.577338425486687, 3.6052863819358016, 3.632374401263405, 3.6834535421803594, 3.729496711457614, 3.787770097574139, 3.800922077079605, 3.8460434836906643, 3.913669388566632, 3.9625902559237147, 3.9935479922981187, 4.024505728672523, 4.086421201421331, 4.118346367057435, 4.143885234952904, 4.195683800389816, 4.2612413597709065, -1]\n",
      "[0228_111638]***NEW ITR 106***\n"
     ]
    },
    {
     "name": "stderr",
     "output_type": "stream",
     "text": [
      "100%|██████████████████████████████████████████████████████| 274/274 [00:15<00:00, 18.26it/s]\n"
     ]
    },
    {
     "name": "stdout",
     "output_type": "stream",
     "text": [
      "bin_idx > n_bins (81) delta=1.25 new bump_amount: 4.79389652974227\n",
      "[0228_111653]***NEW ITR 107***\n"
     ]
    },
    {
     "name": "stderr",
     "output_type": "stream",
     "text": [
      "100%|██████████████████████████████████████████████████████| 274/274 [00:15<00:00, 17.41it/s]\n"
     ]
    },
    {
     "name": "stdout",
     "output_type": "stream",
     "text": [
      "bin_idx > n_bins (62) delta=1.25 new bump_amount: 4.527568944756588\n",
      "[0228_111708]***NEW ITR 108***\n"
     ]
    },
    {
     "name": "stderr",
     "output_type": "stream",
     "text": [
      "100%|██████████████████████████████████████████████████████| 274/274 [00:15<00:00, 17.48it/s]\n"
     ]
    },
    {
     "name": "stdout",
     "output_type": "stream",
     "text": [
      "bin_idx > n_bins (55) delta=1.25 new bump_amount: 4.394405152263747\n",
      "[0228_111724]***NEW ITR 109***\n"
     ]
    },
    {
     "name": "stderr",
     "output_type": "stream",
     "text": [
      "100%|██████████████████████████████████████████████████████| 274/274 [00:15<00:00, 17.72it/s]\n"
     ]
    },
    {
     "name": "stdout",
     "output_type": "stream",
     "text": [
      "bin_idx > n_bins (52) delta=1.25 new bump_amount: 4.327823256017327\n",
      "[0228_111740]***NEW ITR 110***\n"
     ]
    },
    {
     "name": "stderr",
     "output_type": "stream",
     "text": [
      "100%|██████████████████████████████████████████████████████| 274/274 [00:14<00:00, 18.52it/s]\n"
     ]
    },
    {
     "name": "stdout",
     "output_type": "stream",
     "text": [
      "bin_idx > n_bins (50) delta=1.25 new bump_amount: 4.294532307894117\n",
      "[0228_111754]***NEW ITR 111***\n"
     ]
    },
    {
     "name": "stderr",
     "output_type": "stream",
     "text": [
      "100%|██████████████████████████████████████████████████████| 274/274 [00:15<00:00, 17.22it/s]\n"
     ]
    },
    {
     "name": "stdout",
     "output_type": "stream",
     "text": [
      "assigned bin_idx 49\n",
      "Cur bump_idx: 49 bump amount: 4.294532307894117 target_class_pred: 18170 bin_idx: 49\n",
      "updating cur_bump_idx to 50, bump_amount to 5.368165384867646\n",
      "bumps: [0.2, 0.48828125, 0.762939453125, 1.1920928955078125, 1.341104507446289, 1.4901161193847656, 1.6763806343078613, 1.862645149230957, 1.9790604710578918, 2.0954757928848267, 2.2264430299401283, 2.3283064365386963, 2.4010660126805305, 2.473825588822365, 2.5511326384730637, 2.6193447411060333, 2.701199264265597, 2.7830537874251604, 2.8700242182821967, 2.9103830456733704, 2.9467628337442875, 3.0388491722987965, 3.092281986027956, 3.1309355108533055, 3.1798563782103884, 3.2287772455674713, 3.2741809263825417, 3.3151081879623234, 3.3669067533992347, 3.418705318836146, 3.4788172342814505, 3.5223024497099686, 3.577338425486687, 3.6052863819358016, 3.632374401263405, 3.6834535421803594, 3.729496711457614, 3.787770097574139, 3.800922077079605, 3.8460434836906643, 3.913669388566632, 3.9625902559237147, 3.9935479922981187, 4.024505728672523, 4.086421201421331, 4.118346367057435, 4.143885234952904, 4.195683800389816, 4.2612413597709065, 4.294532307894117]\n",
      "Saved data to saved/edit_eac/experiments/bump_edits/CINIC10_ImageNet-VGG_16/0208_112555/dog_100/bumps_preds_metrics.pth\n",
      "Obtaining class distribution for frog from saved/edit_eac/trials/CINIC10_ImageNet-VGG_16/frog_100/0127_103716/target_class_distribution.pth\n",
      "Saving results to saved/edit_eac/experiments/bump_edits/CINIC10_ImageNet-VGG_16/0208_112555/frog_100\n"
     ]
    },
    {
     "name": "stderr",
     "output_type": "stream",
     "text": [
      "100%|██████████████████████████████████████████████████████| 274/274 [00:15<00:00, 17.80it/s]\n"
     ]
    },
    {
     "name": "stdout",
     "output_type": "stream",
     "text": [
      "[0228_111826]***NEW ITR 1***\n"
     ]
    },
    {
     "name": "stderr",
     "output_type": "stream",
     "text": [
      "100%|██████████████████████████████████████████████████████| 274/274 [00:15<00:00, 17.82it/s]\n"
     ]
    },
    {
     "name": "stdout",
     "output_type": "stream",
     "text": [
      "bin_idx < cur_bump_idx (-1 and 0) delta=1.25 new bump_amount: 0.25\n"
     ]
    },
    {
     "name": "stderr",
     "output_type": "stream",
     "text": [
      "100%|██████████████████████████████████████████████████████| 274/274 [00:14<00:00, 18.35it/s]\n"
     ]
    },
    {
     "name": "stdout",
     "output_type": "stream",
     "text": [
      "bin_idx < cur_bump_idx (-1 and 0) delta=1.25 new bump_amount: 0.3125\n"
     ]
    },
    {
     "name": "stderr",
     "output_type": "stream",
     "text": [
      "100%|██████████████████████████████████████████████████████| 274/274 [00:15<00:00, 17.30it/s]\n"
     ]
    },
    {
     "name": "stdout",
     "output_type": "stream",
     "text": [
      "bin_idx < cur_bump_idx (-1 and 0) delta=1.25 new bump_amount: 0.390625\n"
     ]
    },
    {
     "name": "stderr",
     "output_type": "stream",
     "text": [
      "100%|██████████████████████████████████████████████████████| 274/274 [00:15<00:00, 17.59it/s]\n"
     ]
    },
    {
     "name": "stdout",
     "output_type": "stream",
     "text": [
      "bin_idx < cur_bump_idx (-1 and 0) delta=1.25 new bump_amount: 0.48828125\n"
     ]
    },
    {
     "name": "stderr",
     "output_type": "stream",
     "text": [
      "100%|██████████████████████████████████████████████████████| 274/274 [00:15<00:00, 17.86it/s]\n"
     ]
    },
    {
     "name": "stdout",
     "output_type": "stream",
     "text": [
      "bin_idx < cur_bump_idx (-1 and 0) delta=1.25 new bump_amount: 0.6103515625\n"
     ]
    },
    {
     "name": "stderr",
     "output_type": "stream",
     "text": [
      "100%|██████████████████████████████████████████████████████| 274/274 [00:15<00:00, 18.26it/s]\n"
     ]
    },
    {
     "name": "stdout",
     "output_type": "stream",
     "text": [
      "assigned bin_idx 0\n",
      "Cur bump_idx: 0 bump amount: 0.6103515625 target_class_pred: 8172 bin_idx: 0\n",
      "updating cur_bump_idx to 1, bump_amount to 0.762939453125\n",
      "bumps: [0.6103515625, -1, -1, -1, -1, -1, -1, -1, -1, -1, -1, -1, -1, -1, -1, -1, -1, -1, -1, -1, -1, -1, -1, -1, -1, -1, -1, -1, -1, -1, -1, -1, -1, -1, -1, -1, -1, -1, -1, -1, -1, -1, -1, -1, -1, -1, -1, -1, -1, -1]\n",
      "[0228_111958]***NEW ITR 2***\n"
     ]
    },
    {
     "name": "stderr",
     "output_type": "stream",
     "text": [
      "100%|██████████████████████████████████████████████████████| 274/274 [00:15<00:00, 17.35it/s]\n"
     ]
    },
    {
     "name": "stdout",
     "output_type": "stream",
     "text": [
      "bin_idx < cur_bump_idx (0 and 1) delta=1.25 new bump_amount: 0.95367431640625\n"
     ]
    },
    {
     "name": "stderr",
     "output_type": "stream",
     "text": [
      "100%|██████████████████████████████████████████████████████| 274/274 [00:15<00:00, 17.49it/s]\n"
     ]
    },
    {
     "name": "stdout",
     "output_type": "stream",
     "text": [
      "bin_idx < cur_bump_idx (0 and 1) delta=1.25 new bump_amount: 1.1920928955078125\n"
     ]
    },
    {
     "name": "stderr",
     "output_type": "stream",
     "text": [
      "100%|██████████████████████████████████████████████████████| 274/274 [00:15<00:00, 17.79it/s]\n"
     ]
    },
    {
     "name": "stdout",
     "output_type": "stream",
     "text": [
      "bin_idx < cur_bump_idx (0 and 1) delta=1.25 new bump_amount: 1.4901161193847656\n"
     ]
    },
    {
     "name": "stderr",
     "output_type": "stream",
     "text": [
      "100%|██████████████████████████████████████████████████████| 274/274 [00:15<00:00, 18.25it/s]\n"
     ]
    },
    {
     "name": "stdout",
     "output_type": "stream",
     "text": [
      "bin_idx < cur_bump_idx (0 and 1) delta=1.25 new bump_amount: 1.862645149230957\n"
     ]
    },
    {
     "name": "stderr",
     "output_type": "stream",
     "text": [
      "100%|██████████████████████████████████████████████████████| 274/274 [00:15<00:00, 17.29it/s]\n"
     ]
    },
    {
     "name": "stdout",
     "output_type": "stream",
     "text": [
      "assigned bin_idx 1\n",
      "Cur bump_idx: 1 bump amount: 1.862645149230957 target_class_pred: 9817 bin_idx: 1\n",
      "updating cur_bump_idx to 2, bump_amount to 2.3283064365386963\n",
      "bumps: [0.6103515625, 1.862645149230957, -1, -1, -1, -1, -1, -1, -1, -1, -1, -1, -1, -1, -1, -1, -1, -1, -1, -1, -1, -1, -1, -1, -1, -1, -1, -1, -1, -1, -1, -1, -1, -1, -1, -1, -1, -1, -1, -1, -1, -1, -1, -1, -1, -1, -1, -1, -1, -1]\n",
      "[0228_112116]***NEW ITR 3***\n"
     ]
    },
    {
     "name": "stderr",
     "output_type": "stream",
     "text": [
      "100%|██████████████████████████████████████████████████████| 274/274 [00:15<00:00, 17.60it/s]\n"
     ]
    },
    {
     "name": "stdout",
     "output_type": "stream",
     "text": [
      "assigned bin_idx 2\n",
      "Cur bump_idx: 2 bump amount: 2.3283064365386963 target_class_pred: 10850 bin_idx: 2\n",
      "updating cur_bump_idx to 3, bump_amount to 2.9103830456733704\n",
      "bumps: [0.6103515625, 1.862645149230957, 2.3283064365386963, -1, -1, -1, -1, -1, -1, -1, -1, -1, -1, -1, -1, -1, -1, -1, -1, -1, -1, -1, -1, -1, -1, -1, -1, -1, -1, -1, -1, -1, -1, -1, -1, -1, -1, -1, -1, -1, -1, -1, -1, -1, -1, -1, -1, -1, -1, -1]\n",
      "[0228_112132]***NEW ITR 4***\n"
     ]
    },
    {
     "name": "stderr",
     "output_type": "stream",
     "text": [
      "100%|██████████████████████████████████████████████████████| 274/274 [00:15<00:00, 17.86it/s]\n"
     ]
    },
    {
     "name": "stdout",
     "output_type": "stream",
     "text": [
      "assigned bin_idx 3\n",
      "Cur bump_idx: 3 bump amount: 2.9103830456733704 target_class_pred: 12607 bin_idx: 3\n",
      "updating cur_bump_idx to 4, bump_amount to 3.637978807091713\n",
      "bumps: [0.6103515625, 1.862645149230957, 2.3283064365386963, 2.9103830456733704, -1, -1, -1, -1, -1, -1, -1, -1, -1, -1, -1, -1, -1, -1, -1, -1, -1, -1, -1, -1, -1, -1, -1, -1, -1, -1, -1, -1, -1, -1, -1, -1, -1, -1, -1, -1, -1, -1, -1, -1, -1, -1, -1, -1, -1, -1]\n",
      "[0228_112147]***NEW ITR 5***\n"
     ]
    },
    {
     "name": "stderr",
     "output_type": "stream",
     "text": [
      "100%|██████████████████████████████████████████████████████| 274/274 [00:15<00:00, 18.27it/s]\n"
     ]
    },
    {
     "name": "stdout",
     "output_type": "stream",
     "text": [
      "assigned bin_idx 6\n",
      "Cur bump_idx: 4 bump amount: 3.637978807091713 target_class_pred: 15935 bin_idx: 6\n",
      "Overshot to bin 6. Decreasing bump amount to 3.2741809263825417 aiming for bin 4\n",
      "bumps: [0.6103515625, 1.862645149230957, 2.3283064365386963, 2.9103830456733704, -1, -1, 3.637978807091713, -1, -1, -1, -1, -1, -1, -1, -1, -1, -1, -1, -1, -1, -1, -1, -1, -1, -1, -1, -1, -1, -1, -1, -1, -1, -1, -1, -1, -1, -1, -1, -1, -1, -1, -1, -1, -1, -1, -1, -1, -1, -1, -1]\n",
      "[0228_112202]***NEW ITR 6***\n"
     ]
    },
    {
     "name": "stderr",
     "output_type": "stream",
     "text": [
      "100%|██████████████████████████████████████████████████████| 274/274 [00:15<00:00, 17.26it/s]\n"
     ]
    },
    {
     "name": "stdout",
     "output_type": "stream",
     "text": [
      "assigned bin_idx 5\n",
      "Cur bump_idx: 4 bump amount: 3.2741809263825417 target_class_pred: 14115 bin_idx: 5\n",
      "Overshot to bin 5. Decreasing bump amount to 3.092281986027956 aiming for bin 4\n",
      "bumps: [0.6103515625, 1.862645149230957, 2.3283064365386963, 2.9103830456733704, -1, 3.2741809263825417, 3.637978807091713, -1, -1, -1, -1, -1, -1, -1, -1, -1, -1, -1, -1, -1, -1, -1, -1, -1, -1, -1, -1, -1, -1, -1, -1, -1, -1, -1, -1, -1, -1, -1, -1, -1, -1, -1, -1, -1, -1, -1, -1, -1, -1, -1]\n",
      "[0228_112218]***NEW ITR 7***\n"
     ]
    },
    {
     "name": "stderr",
     "output_type": "stream",
     "text": [
      "100%|██████████████████████████████████████████████████████| 274/274 [00:15<00:00, 17.55it/s]\n"
     ]
    },
    {
     "name": "stdout",
     "output_type": "stream",
     "text": [
      "assigned bin_idx 4\n",
      "Cur bump_idx: 4 bump amount: 3.092281986027956 target_class_pred: 13308 bin_idx: 4\n",
      "updating cur_bump_idx to 5, bump_amount to 3.865352482534945\n",
      "bumps: [0.6103515625, 1.862645149230957, 2.3283064365386963, 2.9103830456733704, 3.092281986027956, 3.2741809263825417, 3.637978807091713, -1, -1, -1, -1, -1, -1, -1, -1, -1, -1, -1, -1, -1, -1, -1, -1, -1, -1, -1, -1, -1, -1, -1, -1, -1, -1, -1, -1, -1, -1, -1, -1, -1, -1, -1, -1, -1, -1, -1, -1, -1, -1, -1]\n",
      "[0228_112234]***NEW ITR 8***\n",
      "[0228_112234]***NEW ITR 9***\n",
      "[0228_112234]***NEW ITR 10***\n"
     ]
    },
    {
     "name": "stderr",
     "output_type": "stream",
     "text": [
      "100%|██████████████████████████████████████████████████████| 274/274 [00:15<00:00, 17.64it/s]\n"
     ]
    },
    {
     "name": "stdout",
     "output_type": "stream",
     "text": [
      "bin_idx < cur_bump_idx (6 and 7) delta=1.25 new bump_amount: 4.547473508864641\n"
     ]
    },
    {
     "name": "stderr",
     "output_type": "stream",
     "text": [
      "100%|██████████████████████████████████████████████████████| 274/274 [00:14<00:00, 18.43it/s]\n"
     ]
    },
    {
     "name": "stdout",
     "output_type": "stream",
     "text": [
      "assigned bin_idx 11\n",
      "Cur bump_idx: 7 bump amount: 4.547473508864641 target_class_pred: 21832 bin_idx: 11\n",
      "Overshot to bin 11. Decreasing bump amount to 4.092726157978177 aiming for bin 7\n",
      "bumps: [0.6103515625, 1.862645149230957, 2.3283064365386963, 2.9103830456733704, 3.092281986027956, 3.2741809263825417, 3.637978807091713, -1, -1, -1, -1, 4.547473508864641, -1, -1, -1, -1, -1, -1, -1, -1, -1, -1, -1, -1, -1, -1, -1, -1, -1, -1, -1, -1, -1, -1, -1, -1, -1, -1, -1, -1, -1, -1, -1, -1, -1, -1, -1, -1, -1, -1]\n",
      "[0228_112304]***NEW ITR 11***\n"
     ]
    },
    {
     "name": "stderr",
     "output_type": "stream",
     "text": [
      "100%|██████████████████████████████████████████████████████| 274/274 [00:15<00:00, 17.31it/s]\n"
     ]
    },
    {
     "name": "stdout",
     "output_type": "stream",
     "text": [
      "assigned bin_idx 8\n",
      "Cur bump_idx: 7 bump amount: 4.092726157978177 target_class_pred: 18645 bin_idx: 8\n",
      "Overshot to bin 8. Decreasing bump amount to 3.865352482534945 aiming for bin 7\n",
      "bumps: [0.6103515625, 1.862645149230957, 2.3283064365386963, 2.9103830456733704, 3.092281986027956, 3.2741809263825417, 3.637978807091713, -1, 4.092726157978177, -1, -1, 4.547473508864641, -1, -1, -1, -1, -1, -1, -1, -1, -1, -1, -1, -1, -1, -1, -1, -1, -1, -1, -1, -1, -1, -1, -1, -1, -1, -1, -1, -1, -1, -1, -1, -1, -1, -1, -1, -1, -1, -1]\n",
      "[0228_112320]***NEW ITR 12***\n"
     ]
    },
    {
     "name": "stderr",
     "output_type": "stream",
     "text": [
      "100%|██████████████████████████████████████████████████████| 274/274 [00:15<00:00, 17.58it/s]\n"
     ]
    },
    {
     "name": "stdout",
     "output_type": "stream",
     "text": [
      "assigned bin_idx 7\n",
      "Cur bump_idx: 7 bump amount: 3.865352482534945 target_class_pred: 17236 bin_idx: 7\n",
      "updating cur_bump_idx to 8, bump_amount to 4.831690603168681\n",
      "bumps: [0.6103515625, 1.862645149230957, 2.3283064365386963, 2.9103830456733704, 3.092281986027956, 3.2741809263825417, 3.637978807091713, 3.865352482534945, 4.092726157978177, -1, -1, 4.547473508864641, -1, -1, -1, -1, -1, -1, -1, -1, -1, -1, -1, -1, -1, -1, -1, -1, -1, -1, -1, -1, -1, -1, -1, -1, -1, -1, -1, -1, -1, -1, -1, -1, -1, -1, -1, -1, -1, -1]\n",
      "[0228_112335]***NEW ITR 13***\n",
      "[0228_112335]***NEW ITR 14***\n"
     ]
    },
    {
     "name": "stderr",
     "output_type": "stream",
     "text": [
      "100%|██████████████████████████████████████████████████████| 274/274 [00:15<00:00, 17.65it/s]\n"
     ]
    },
    {
     "name": "stdout",
     "output_type": "stream",
     "text": [
      "bin_idx < cur_bump_idx (8 and 9) delta=1.25 new bump_amount: 5.115907697472721\n"
     ]
    },
    {
     "name": "stderr",
     "output_type": "stream",
     "text": [
      "100%|██████████████████████████████████████████████████████| 274/274 [00:14<00:00, 18.35it/s]\n"
     ]
    },
    {
     "name": "stdout",
     "output_type": "stream",
     "text": [
      "assigned bin_idx 15\n",
      "Cur bump_idx: 9 bump amount: 5.115907697472721 target_class_pred: 26176 bin_idx: 15\n",
      "Overshot to bin 15. Decreasing bump amount to 4.604316927725449 aiming for bin 9\n",
      "bumps: [0.6103515625, 1.862645149230957, 2.3283064365386963, 2.9103830456733704, 3.092281986027956, 3.2741809263825417, 3.637978807091713, 3.865352482534945, 4.092726157978177, -1, -1, 4.547473508864641, -1, -1, -1, 5.115907697472721, -1, -1, -1, -1, -1, -1, -1, -1, -1, -1, -1, -1, -1, -1, -1, -1, -1, -1, -1, -1, -1, -1, -1, -1, -1, -1, -1, -1, -1, -1, -1, -1, -1, -1]\n",
      "[0228_112406]***NEW ITR 15***\n"
     ]
    },
    {
     "name": "stderr",
     "output_type": "stream",
     "text": [
      "100%|██████████████████████████████████████████████████████| 274/274 [00:15<00:00, 17.19it/s]\n"
     ]
    },
    {
     "name": "stdout",
     "output_type": "stream",
     "text": [
      "Overshot to bin 11. Decreasing bump amount to 4.348521542851813 aiming for bin 9\n",
      "bumps: [0.6103515625, 1.862645149230957, 2.3283064365386963, 2.9103830456733704, 3.092281986027956, 3.2741809263825417, 3.637978807091713, 3.865352482534945, 4.092726157978177, -1, -1, 4.547473508864641, -1, -1, -1, 5.115907697472721, -1, -1, -1, -1, -1, -1, -1, -1, -1, -1, -1, -1, -1, -1, -1, -1, -1, -1, -1, -1, -1, -1, -1, -1, -1, -1, -1, -1, -1, -1, -1, -1, -1, -1]\n",
      "[0228_112422]***NEW ITR 16***\n"
     ]
    },
    {
     "name": "stderr",
     "output_type": "stream",
     "text": [
      "100%|██████████████████████████████████████████████████████| 274/274 [00:15<00:00, 17.60it/s]\n"
     ]
    },
    {
     "name": "stdout",
     "output_type": "stream",
     "text": [
      "assigned bin_idx 10\n",
      "Cur bump_idx: 9 bump amount: 4.348521542851813 target_class_pred: 20448 bin_idx: 10\n",
      "Overshot to bin 10. Decreasing bump amount to 4.220623850414995 aiming for bin 9\n",
      "bumps: [0.6103515625, 1.862645149230957, 2.3283064365386963, 2.9103830456733704, 3.092281986027956, 3.2741809263825417, 3.637978807091713, 3.865352482534945, 4.092726157978177, -1, 4.348521542851813, 4.547473508864641, -1, -1, -1, 5.115907697472721, -1, -1, -1, -1, -1, -1, -1, -1, -1, -1, -1, -1, -1, -1, -1, -1, -1, -1, -1, -1, -1, -1, -1, -1, -1, -1, -1, -1, -1, -1, -1, -1, -1, -1]\n",
      "[0228_112438]***NEW ITR 17***\n"
     ]
    },
    {
     "name": "stderr",
     "output_type": "stream",
     "text": [
      "100%|██████████████████████████████████████████████████████| 274/274 [00:15<00:00, 17.76it/s]\n"
     ]
    },
    {
     "name": "stdout",
     "output_type": "stream",
     "text": [
      "assigned bin_idx 9\n",
      "Cur bump_idx: 9 bump amount: 4.220623850414995 target_class_pred: 19538 bin_idx: 9\n",
      "updating cur_bump_idx to 10, bump_amount to 5.275779813018744\n",
      "bumps: [0.6103515625, 1.862645149230957, 2.3283064365386963, 2.9103830456733704, 3.092281986027956, 3.2741809263825417, 3.637978807091713, 3.865352482534945, 4.092726157978177, 4.220623850414995, 4.348521542851813, 4.547473508864641, -1, -1, -1, 5.115907697472721, -1, -1, -1, -1, -1, -1, -1, -1, -1, -1, -1, -1, -1, -1, -1, -1, -1, -1, -1, -1, -1, -1, -1, -1, -1, -1, -1, -1, -1, -1, -1, -1, -1, -1]\n",
      "[0228_112453]***NEW ITR 18***\n",
      "[0228_112453]***NEW ITR 19***\n",
      "[0228_112453]***NEW ITR 20***\n"
     ]
    },
    {
     "name": "stderr",
     "output_type": "stream",
     "text": [
      "100%|██████████████████████████████████████████████████████| 274/274 [00:14<00:00, 18.47it/s]\n"
     ]
    },
    {
     "name": "stdout",
     "output_type": "stream",
     "text": [
      "bin_idx < cur_bump_idx (11 and 12) delta=1.25 new bump_amount: 5.6843418860808015\n"
     ]
    },
    {
     "name": "stderr",
     "output_type": "stream",
     "text": [
      "100%|██████████████████████████████████████████████████████| 274/274 [00:15<00:00, 17.16it/s]\n"
     ]
    },
    {
     "name": "stdout",
     "output_type": "stream",
     "text": [
      "assigned bin_idx 19\n",
      "Cur bump_idx: 12 bump amount: 5.6843418860808015 target_class_pred: 31069 bin_idx: 19\n",
      "Overshot to bin 19. Decreasing bump amount to 5.115907697472721 aiming for bin 12\n",
      "bumps: [0.6103515625, 1.862645149230957, 2.3283064365386963, 2.9103830456733704, 3.092281986027956, 3.2741809263825417, 3.637978807091713, 3.865352482534945, 4.092726157978177, 4.220623850414995, 4.348521542851813, 4.547473508864641, -1, -1, -1, 5.115907697472721, -1, -1, -1, 5.6843418860808015, -1, -1, -1, -1, -1, -1, -1, -1, -1, -1, -1, -1, -1, -1, -1, -1, -1, -1, -1, -1, -1, -1, -1, -1, -1, -1, -1, -1, -1, -1]\n",
      "[0228_112524]***NEW ITR 21***\n"
     ]
    },
    {
     "name": "stderr",
     "output_type": "stream",
     "text": [
      "100%|██████████████████████████████████████████████████████| 274/274 [00:15<00:00, 17.61it/s]\n"
     ]
    },
    {
     "name": "stdout",
     "output_type": "stream",
     "text": [
      "Overshot to bin 15. Decreasing bump amount to 4.831690603168681 aiming for bin 12\n",
      "bumps: [0.6103515625, 1.862645149230957, 2.3283064365386963, 2.9103830456733704, 3.092281986027956, 3.2741809263825417, 3.637978807091713, 3.865352482534945, 4.092726157978177, 4.220623850414995, 4.348521542851813, 4.547473508864641, -1, -1, -1, 5.115907697472721, -1, -1, -1, 5.6843418860808015, -1, -1, -1, -1, -1, -1, -1, -1, -1, -1, -1, -1, -1, -1, -1, -1, -1, -1, -1, -1, -1, -1, -1, -1, -1, -1, -1, -1, -1, -1]\n",
      "[0228_112539]***NEW ITR 22***\n"
     ]
    },
    {
     "name": "stderr",
     "output_type": "stream",
     "text": [
      "100%|██████████████████████████████████████████████████████| 274/274 [00:15<00:00, 17.63it/s]\n"
     ]
    },
    {
     "name": "stdout",
     "output_type": "stream",
     "text": [
      "assigned bin_idx 13\n",
      "Cur bump_idx: 12 bump amount: 4.831690603168681 target_class_pred: 23955 bin_idx: 13\n",
      "Overshot to bin 13. Decreasing bump amount to 4.689582056016661 aiming for bin 12\n",
      "bumps: [0.6103515625, 1.862645149230957, 2.3283064365386963, 2.9103830456733704, 3.092281986027956, 3.2741809263825417, 3.637978807091713, 3.865352482534945, 4.092726157978177, 4.220623850414995, 4.348521542851813, 4.547473508864641, -1, 4.831690603168681, -1, 5.115907697472721, -1, -1, -1, 5.6843418860808015, -1, -1, -1, -1, -1, -1, -1, -1, -1, -1, -1, -1, -1, -1, -1, -1, -1, -1, -1, -1, -1, -1, -1, -1, -1, -1, -1, -1, -1, -1]\n",
      "[0228_112555]***NEW ITR 23***\n"
     ]
    },
    {
     "name": "stderr",
     "output_type": "stream",
     "text": [
      "100%|██████████████████████████████████████████████████████| 274/274 [00:15<00:00, 18.17it/s]\n"
     ]
    },
    {
     "name": "stdout",
     "output_type": "stream",
     "text": [
      "assigned bin_idx 12\n",
      "Cur bump_idx: 12 bump amount: 4.689582056016661 target_class_pred: 22889 bin_idx: 12\n",
      "updating cur_bump_idx to 13, bump_amount to 5.8619775700208265\n",
      "bumps: [0.6103515625, 1.862645149230957, 2.3283064365386963, 2.9103830456733704, 3.092281986027956, 3.2741809263825417, 3.637978807091713, 3.865352482534945, 4.092726157978177, 4.220623850414995, 4.348521542851813, 4.547473508864641, 4.689582056016661, 4.831690603168681, -1, 5.115907697472721, -1, -1, -1, 5.6843418860808015, -1, -1, -1, -1, -1, -1, -1, -1, -1, -1, -1, -1, -1, -1, -1, -1, -1, -1, -1, -1, -1, -1, -1, -1, -1, -1, -1, -1, -1, -1]\n",
      "[0228_112610]***NEW ITR 24***\n",
      "[0228_112610]***NEW ITR 25***\n"
     ]
    },
    {
     "name": "stderr",
     "output_type": "stream",
     "text": [
      "100%|██████████████████████████████████████████████████████| 274/274 [00:15<00:00, 17.28it/s]\n"
     ]
    },
    {
     "name": "stdout",
     "output_type": "stream",
     "text": [
      "bin_idx < cur_bump_idx (13 and 14) delta=1.25 new bump_amount: 6.039613253960852\n"
     ]
    },
    {
     "name": "stderr",
     "output_type": "stream",
     "text": [
      "100%|██████████████████████████████████████████████████████| 274/274 [00:15<00:00, 17.56it/s]\n"
     ]
    },
    {
     "name": "stdout",
     "output_type": "stream",
     "text": [
      "assigned bin_idx 24\n",
      "Cur bump_idx: 14 bump amount: 6.039613253960852 target_class_pred: 37605 bin_idx: 24\n",
      "Overshot to bin 24. Decreasing bump amount to 5.435651928564766 aiming for bin 14\n",
      "bumps: [0.6103515625, 1.862645149230957, 2.3283064365386963, 2.9103830456733704, 3.092281986027956, 3.2741809263825417, 3.637978807091713, 3.865352482534945, 4.092726157978177, 4.220623850414995, 4.348521542851813, 4.547473508864641, 4.689582056016661, 4.831690603168681, -1, 5.115907697472721, -1, -1, -1, 5.6843418860808015, -1, -1, -1, -1, 6.039613253960852, -1, -1, -1, -1, -1, -1, -1, -1, -1, -1, -1, -1, -1, -1, -1, -1, -1, -1, -1, -1, -1, -1, -1, -1, -1]\n",
      "[0228_112642]***NEW ITR 26***\n"
     ]
    },
    {
     "name": "stderr",
     "output_type": "stream",
     "text": [
      "100%|██████████████████████████████████████████████████████| 274/274 [00:15<00:00, 17.87it/s]\n"
     ]
    },
    {
     "name": "stdout",
     "output_type": "stream",
     "text": [
      "assigned bin_idx 17\n",
      "Cur bump_idx: 14 bump amount: 5.435651928564766 target_class_pred: 28794 bin_idx: 17\n",
      "Overshot to bin 17. Decreasing bump amount to 5.133671265866724 aiming for bin 14\n",
      "bumps: [0.6103515625, 1.862645149230957, 2.3283064365386963, 2.9103830456733704, 3.092281986027956, 3.2741809263825417, 3.637978807091713, 3.865352482534945, 4.092726157978177, 4.220623850414995, 4.348521542851813, 4.547473508864641, 4.689582056016661, 4.831690603168681, -1, 5.115907697472721, -1, 5.435651928564766, -1, 5.6843418860808015, -1, -1, -1, -1, 6.039613253960852, -1, -1, -1, -1, -1, -1, -1, -1, -1, -1, -1, -1, -1, -1, -1, -1, -1, -1, -1, -1, -1, -1, -1, -1, -1]\n",
      "[0228_112657]***NEW ITR 27***\n"
     ]
    },
    {
     "name": "stderr",
     "output_type": "stream",
     "text": [
      "100%|██████████████████████████████████████████████████████| 274/274 [00:15<00:00, 18.23it/s]\n"
     ]
    },
    {
     "name": "stdout",
     "output_type": "stream",
     "text": [
      "Overshot to bin 15. Decreasing bump amount to 4.9826809345177026 aiming for bin 14\n",
      "bumps: [0.6103515625, 1.862645149230957, 2.3283064365386963, 2.9103830456733704, 3.092281986027956, 3.2741809263825417, 3.637978807091713, 3.865352482534945, 4.092726157978177, 4.220623850414995, 4.348521542851813, 4.547473508864641, 4.689582056016661, 4.831690603168681, -1, 5.115907697472721, -1, 5.435651928564766, -1, 5.6843418860808015, -1, -1, -1, -1, 6.039613253960852, -1, -1, -1, -1, -1, -1, -1, -1, -1, -1, -1, -1, -1, -1, -1, -1, -1, -1, -1, -1, -1, -1, -1, -1, -1]\n",
      "[0228_112712]***NEW ITR 28***\n"
     ]
    },
    {
     "name": "stderr",
     "output_type": "stream",
     "text": [
      "100%|██████████████████████████████████████████████████████| 274/274 [00:15<00:00, 17.18it/s]\n"
     ]
    },
    {
     "name": "stdout",
     "output_type": "stream",
     "text": [
      "assigned bin_idx 14\n",
      "Cur bump_idx: 14 bump amount: 4.9826809345177026 target_class_pred: 25156 bin_idx: 14\n",
      "updating cur_bump_idx to 15, bump_amount to 6.228351168147128\n",
      "bumps: [0.6103515625, 1.862645149230957, 2.3283064365386963, 2.9103830456733704, 3.092281986027956, 3.2741809263825417, 3.637978807091713, 3.865352482534945, 4.092726157978177, 4.220623850414995, 4.348521542851813, 4.547473508864641, 4.689582056016661, 4.831690603168681, 4.9826809345177026, 5.115907697472721, -1, 5.435651928564766, -1, 5.6843418860808015, -1, -1, -1, -1, 6.039613253960852, -1, -1, -1, -1, -1, -1, -1, -1, -1, -1, -1, -1, -1, -1, -1, -1, -1, -1, -1, -1, -1, -1, -1, -1, -1]\n",
      "[0228_112728]***NEW ITR 29***\n",
      "[0228_112728]***NEW ITR 30***\n"
     ]
    },
    {
     "name": "stderr",
     "output_type": "stream",
     "text": [
      "100%|██████████████████████████████████████████████████████| 274/274 [00:15<00:00, 17.60it/s]\n"
     ]
    },
    {
     "name": "stdout",
     "output_type": "stream",
     "text": [
      "bin_idx < cur_bump_idx (15 and 16) delta=1.25 new bump_amount: 6.394884621840902\n"
     ]
    },
    {
     "name": "stderr",
     "output_type": "stream",
     "text": [
      "100%|██████████████████████████████████████████████████████| 274/274 [00:15<00:00, 17.74it/s]\n",
      "/n/fs/ac-editing/model-editing/src/model/metric.py:168: RuntimeWarning: invalid value encountered in divide\n",
      "  return np.nan_to_num(TPs / (TPs + FPs))\n",
      "/n/fs/ac-editing/model-editing/src/model/metric.py:205: RuntimeWarning: invalid value encountered in divide\n",
      "  return np.nan_to_num(2 * precisions * recalls / (precisions + recalls))\n"
     ]
    },
    {
     "name": "stdout",
     "output_type": "stream",
     "text": [
      "assigned bin_idx 33\n",
      "Cur bump_idx: 16 bump amount: 6.394884621840902 target_class_pred: 47723 bin_idx: 33\n",
      "Overshot to bin 33. Decreasing bump amount to 5.7553961596568115 aiming for bin 16\n",
      "bumps: [0.6103515625, 1.862645149230957, 2.3283064365386963, 2.9103830456733704, 3.092281986027956, 3.2741809263825417, 3.637978807091713, 3.865352482534945, 4.092726157978177, 4.220623850414995, 4.348521542851813, 4.547473508864641, 4.689582056016661, 4.831690603168681, 4.9826809345177026, 5.115907697472721, -1, 5.435651928564766, -1, 5.6843418860808015, -1, -1, -1, -1, 6.039613253960852, -1, -1, -1, -1, -1, -1, -1, -1, 6.394884621840902, -1, -1, -1, -1, -1, -1, -1, -1, -1, -1, -1, -1, -1, -1, -1, -1]\n",
      "[0228_112759]***NEW ITR 31***\n"
     ]
    },
    {
     "name": "stderr",
     "output_type": "stream",
     "text": [
      "100%|██████████████████████████████████████████████████████| 274/274 [00:14<00:00, 18.48it/s]\n"
     ]
    },
    {
     "name": "stdout",
     "output_type": "stream",
     "text": [
      "Overshot to bin 19. Decreasing bump amount to 5.435651928564766 aiming for bin 16\n",
      "bumps: [0.6103515625, 1.862645149230957, 2.3283064365386963, 2.9103830456733704, 3.092281986027956, 3.2741809263825417, 3.637978807091713, 3.865352482534945, 4.092726157978177, 4.220623850414995, 4.348521542851813, 4.547473508864641, 4.689582056016661, 4.831690603168681, 4.9826809345177026, 5.115907697472721, -1, 5.435651928564766, -1, 5.6843418860808015, -1, -1, -1, -1, 6.039613253960852, -1, -1, -1, -1, -1, -1, -1, -1, 6.394884621840902, -1, -1, -1, -1, -1, -1, -1, -1, -1, -1, -1, -1, -1, -1, -1, -1]\n",
      "[0228_112814]***NEW ITR 32***\n"
     ]
    },
    {
     "name": "stderr",
     "output_type": "stream",
     "text": [
      "100%|██████████████████████████████████████████████████████| 274/274 [00:15<00:00, 17.16it/s]\n"
     ]
    },
    {
     "name": "stdout",
     "output_type": "stream",
     "text": [
      "Overshot to bin 17. Decreasing bump amount to 5.275779813018744 aiming for bin 16\n",
      "bumps: [0.6103515625, 1.862645149230957, 2.3283064365386963, 2.9103830456733704, 3.092281986027956, 3.2741809263825417, 3.637978807091713, 3.865352482534945, 4.092726157978177, 4.220623850414995, 4.348521542851813, 4.547473508864641, 4.689582056016661, 4.831690603168681, 4.9826809345177026, 5.115907697472721, -1, 5.435651928564766, -1, 5.6843418860808015, -1, -1, -1, -1, 6.039613253960852, -1, -1, -1, -1, -1, -1, -1, -1, 6.394884621840902, -1, -1, -1, -1, -1, -1, -1, -1, -1, -1, -1, -1, -1, -1, -1, -1]\n",
      "[0228_112830]***NEW ITR 33***\n"
     ]
    },
    {
     "name": "stderr",
     "output_type": "stream",
     "text": [
      "100%|██████████████████████████████████████████████████████| 274/274 [00:15<00:00, 17.50it/s]\n"
     ]
    },
    {
     "name": "stdout",
     "output_type": "stream",
     "text": [
      "assigned bin_idx 16\n",
      "Cur bump_idx: 16 bump amount: 5.275779813018744 target_class_pred: 27467 bin_idx: 16\n",
      "updating cur_bump_idx to 17, bump_amount to 6.59472476627343\n",
      "bumps: [0.6103515625, 1.862645149230957, 2.3283064365386963, 2.9103830456733704, 3.092281986027956, 3.2741809263825417, 3.637978807091713, 3.865352482534945, 4.092726157978177, 4.220623850414995, 4.348521542851813, 4.547473508864641, 4.689582056016661, 4.831690603168681, 4.9826809345177026, 5.115907697472721, 5.275779813018744, 5.435651928564766, -1, 5.6843418860808015, -1, -1, -1, -1, 6.039613253960852, -1, -1, -1, -1, -1, -1, -1, -1, 6.394884621840902, -1, -1, -1, -1, -1, -1, -1, -1, -1, -1, -1, -1, -1, -1, -1, -1]\n",
      "[0228_112846]***NEW ITR 34***\n",
      "[0228_112846]***NEW ITR 35***\n"
     ]
    },
    {
     "name": "stderr",
     "output_type": "stream",
     "text": [
      "100%|██████████████████████████████████████████████████████| 274/274 [00:15<00:00, 17.73it/s]\n"
     ]
    },
    {
     "name": "stdout",
     "output_type": "stream",
     "text": [
      "bin_idx < cur_bump_idx (17 and 18) delta=1.25 new bump_amount: 6.794564910705958\n"
     ]
    },
    {
     "name": "stderr",
     "output_type": "stream",
     "text": [
      "100%|██████████████████████████████████████████████████████| 274/274 [00:15<00:00, 18.24it/s]\n",
      "/n/fs/ac-editing/model-editing/src/model/metric.py:168: RuntimeWarning: invalid value encountered in divide\n",
      "  return np.nan_to_num(TPs / (TPs + FPs))\n",
      "/n/fs/ac-editing/model-editing/src/model/metric.py:205: RuntimeWarning: invalid value encountered in divide\n",
      "  return np.nan_to_num(2 * precisions * recalls / (precisions + recalls))\n"
     ]
    },
    {
     "name": "stdout",
     "output_type": "stream",
     "text": [
      "assigned bin_idx 36\n",
      "Cur bump_idx: 18 bump amount: 6.794564910705958 target_class_pred: 52204 bin_idx: 36\n",
      "Overshot to bin 36. Decreasing bump amount to 6.115108419635362 aiming for bin 18\n",
      "bumps: [0.6103515625, 1.862645149230957, 2.3283064365386963, 2.9103830456733704, 3.092281986027956, 3.2741809263825417, 3.637978807091713, 3.865352482534945, 4.092726157978177, 4.220623850414995, 4.348521542851813, 4.547473508864641, 4.689582056016661, 4.831690603168681, 4.9826809345177026, 5.115907697472721, 5.275779813018744, 5.435651928564766, -1, 5.6843418860808015, -1, -1, -1, -1, 6.039613253960852, -1, -1, -1, -1, -1, -1, -1, -1, 6.394884621840902, -1, -1, 6.794564910705958, -1, -1, -1, -1, -1, -1, -1, -1, -1, -1, -1, -1, -1]\n",
      "[0228_112916]***NEW ITR 36***\n"
     ]
    },
    {
     "name": "stderr",
     "output_type": "stream",
     "text": [
      "100%|██████████████████████████████████████████████████████| 274/274 [00:15<00:00, 17.24it/s]\n"
     ]
    },
    {
     "name": "stdout",
     "output_type": "stream",
     "text": [
      "assigned bin_idx 27\n",
      "Cur bump_idx: 18 bump amount: 6.115108419635362 target_class_pred: 40596 bin_idx: 27\n",
      "Overshot to bin 27. Decreasing bump amount to 5.775380174100064 aiming for bin 18\n",
      "bumps: [0.6103515625, 1.862645149230957, 2.3283064365386963, 2.9103830456733704, 3.092281986027956, 3.2741809263825417, 3.637978807091713, 3.865352482534945, 4.092726157978177, 4.220623850414995, 4.348521542851813, 4.547473508864641, 4.689582056016661, 4.831690603168681, 4.9826809345177026, 5.115907697472721, 5.275779813018744, 5.435651928564766, -1, 5.6843418860808015, -1, -1, -1, -1, 6.039613253960852, -1, -1, 6.115108419635362, -1, -1, -1, -1, -1, 6.394884621840902, -1, -1, 6.794564910705958, -1, -1, -1, -1, -1, -1, -1, -1, -1, -1, -1, -1, -1]\n",
      "[0228_112932]***NEW ITR 37***\n"
     ]
    },
    {
     "name": "stderr",
     "output_type": "stream",
     "text": [
      "100%|██████████████████████████████████████████████████████| 274/274 [00:15<00:00, 17.53it/s]\n"
     ]
    },
    {
     "name": "stdout",
     "output_type": "stream",
     "text": [
      "assigned bin_idx 20\n",
      "Cur bump_idx: 18 bump amount: 5.775380174100064 target_class_pred: 32035 bin_idx: 20\n",
      "Overshot to bin 20. Decreasing bump amount to 5.605516051332415 aiming for bin 18\n",
      "bumps: [0.6103515625, 1.862645149230957, 2.3283064365386963, 2.9103830456733704, 3.092281986027956, 3.2741809263825417, 3.637978807091713, 3.865352482534945, 4.092726157978177, 4.220623850414995, 4.348521542851813, 4.547473508864641, 4.689582056016661, 4.831690603168681, 4.9826809345177026, 5.115907697472721, 5.275779813018744, 5.435651928564766, -1, 5.6843418860808015, 5.775380174100064, -1, -1, -1, 6.039613253960852, -1, -1, 6.115108419635362, -1, -1, -1, -1, -1, 6.394884621840902, -1, -1, 6.794564910705958, -1, -1, -1, -1, -1, -1, -1, -1, -1, -1, -1, -1, -1]\n",
      "[0228_112948]***NEW ITR 38***\n"
     ]
    },
    {
     "name": "stderr",
     "output_type": "stream",
     "text": [
      "100%|██████████████████████████████████████████████████████| 274/274 [00:15<00:00, 17.79it/s]\n"
     ]
    },
    {
     "name": "stdout",
     "output_type": "stream",
     "text": [
      "assigned bin_idx 18\n",
      "Cur bump_idx: 18 bump amount: 5.605516051332415 target_class_pred: 30312 bin_idx: 18\n",
      "updating cur_bump_idx to 19, bump_amount to 7.006895064165519\n",
      "bumps: [0.6103515625, 1.862645149230957, 2.3283064365386963, 2.9103830456733704, 3.092281986027956, 3.2741809263825417, 3.637978807091713, 3.865352482534945, 4.092726157978177, 4.220623850414995, 4.348521542851813, 4.547473508864641, 4.689582056016661, 4.831690603168681, 4.9826809345177026, 5.115907697472721, 5.275779813018744, 5.435651928564766, 5.605516051332415, 5.6843418860808015, 5.775380174100064, -1, -1, -1, 6.039613253960852, -1, -1, 6.115108419635362, -1, -1, -1, -1, -1, 6.394884621840902, -1, -1, 6.794564910705958, -1, -1, -1, -1, -1, -1, -1, -1, -1, -1, -1, -1, -1]\n",
      "[0228_113003]***NEW ITR 39***\n",
      "[0228_113003]***NEW ITR 40***\n",
      "[0228_113003]***NEW ITR 41***\n"
     ]
    },
    {
     "name": "stderr",
     "output_type": "stream",
     "text": [
      "100%|██████████████████████████████████████████████████████| 274/274 [00:15<00:00, 18.25it/s]\n"
     ]
    },
    {
     "name": "stdout",
     "output_type": "stream",
     "text": [
      "bin_idx < cur_bump_idx (20 and 21) delta=1.25 new bump_amount: 7.21922521762508\n"
     ]
    },
    {
     "name": "stderr",
     "output_type": "stream",
     "text": [
      "100%|██████████████████████████████████████████████████████| 274/274 [00:15<00:00, 17.32it/s]\n",
      "/n/fs/ac-editing/model-editing/src/model/metric.py:168: RuntimeWarning: invalid value encountered in divide\n",
      "  return np.nan_to_num(TPs / (TPs + FPs))\n",
      "/n/fs/ac-editing/model-editing/src/model/metric.py:205: RuntimeWarning: invalid value encountered in divide\n",
      "  return np.nan_to_num(2 * precisions * recalls / (precisions + recalls))\n"
     ]
    },
    {
     "name": "stdout",
     "output_type": "stream",
     "text": [
      "assigned bin_idx 38\n",
      "Cur bump_idx: 21 bump amount: 7.21922521762508 target_class_pred: 53752 bin_idx: 38\n",
      "Overshot to bin 38. Decreasing bump amount to 6.497302695862572 aiming for bin 21\n",
      "bumps: [0.6103515625, 1.862645149230957, 2.3283064365386963, 2.9103830456733704, 3.092281986027956, 3.2741809263825417, 3.637978807091713, 3.865352482534945, 4.092726157978177, 4.220623850414995, 4.348521542851813, 4.547473508864641, 4.689582056016661, 4.831690603168681, 4.9826809345177026, 5.115907697472721, 5.275779813018744, 5.435651928564766, 5.605516051332415, 5.6843418860808015, 5.775380174100064, -1, -1, -1, 6.039613253960852, -1, -1, 6.115108419635362, -1, -1, -1, -1, -1, 6.394884621840902, -1, -1, 6.794564910705958, -1, 7.21922521762508, -1, -1, -1, -1, -1, -1, -1, -1, -1, -1, -1]\n",
      "[0228_113034]***NEW ITR 42***\n"
     ]
    },
    {
     "name": "stderr",
     "output_type": "stream",
     "text": [
      "100%|██████████████████████████████████████████████████████| 274/274 [00:15<00:00, 17.74it/s]\n",
      "/n/fs/ac-editing/model-editing/src/model/metric.py:168: RuntimeWarning: invalid value encountered in divide\n",
      "  return np.nan_to_num(TPs / (TPs + FPs))\n",
      "/n/fs/ac-editing/model-editing/src/model/metric.py:205: RuntimeWarning: invalid value encountered in divide\n",
      "  return np.nan_to_num(2 * precisions * recalls / (precisions + recalls))\n"
     ]
    },
    {
     "name": "stdout",
     "output_type": "stream",
     "text": [
      "assigned bin_idx 34\n",
      "Cur bump_idx: 21 bump amount: 6.497302695862572 target_class_pred: 48807 bin_idx: 34\n",
      "Overshot to bin 34. Decreasing bump amount to 6.136341434981318 aiming for bin 21\n",
      "bumps: [0.6103515625, 1.862645149230957, 2.3283064365386963, 2.9103830456733704, 3.092281986027956, 3.2741809263825417, 3.637978807091713, 3.865352482534945, 4.092726157978177, 4.220623850414995, 4.348521542851813, 4.547473508864641, 4.689582056016661, 4.831690603168681, 4.9826809345177026, 5.115907697472721, 5.275779813018744, 5.435651928564766, 5.605516051332415, 5.6843418860808015, 5.775380174100064, -1, -1, -1, 6.039613253960852, -1, -1, 6.115108419635362, -1, -1, -1, -1, -1, 6.394884621840902, 6.497302695862572, -1, 6.794564910705958, -1, 7.21922521762508, -1, -1, -1, -1, -1, -1, -1, -1, -1, -1, -1]\n",
      "[0228_113049]***NEW ITR 43***\n"
     ]
    },
    {
     "name": "stderr",
     "output_type": "stream",
     "text": [
      "100%|██████████████████████████████████████████████████████| 274/274 [00:15<00:00, 17.73it/s]\n"
     ]
    },
    {
     "name": "stdout",
     "output_type": "stream",
     "text": [
      "Overshot to bin 27. Decreasing bump amount to 5.955860804540691 aiming for bin 21\n",
      "bumps: [0.6103515625, 1.862645149230957, 2.3283064365386963, 2.9103830456733704, 3.092281986027956, 3.2741809263825417, 3.637978807091713, 3.865352482534945, 4.092726157978177, 4.220623850414995, 4.348521542851813, 4.547473508864641, 4.689582056016661, 4.831690603168681, 4.9826809345177026, 5.115907697472721, 5.275779813018744, 5.435651928564766, 5.605516051332415, 5.6843418860808015, 5.775380174100064, -1, -1, -1, 6.039613253960852, -1, -1, 6.115108419635362, -1, -1, -1, -1, -1, 6.394884621840902, 6.497302695862572, -1, 6.794564910705958, -1, 7.21922521762508, -1, -1, -1, -1, -1, -1, -1, -1, -1, -1, -1]\n",
      "[0228_113105]***NEW ITR 44***\n"
     ]
    },
    {
     "name": "stderr",
     "output_type": "stream",
     "text": [
      "100%|██████████████████████████████████████████████████████| 274/274 [00:15<00:00, 18.18it/s]\n"
     ]
    },
    {
     "name": "stdout",
     "output_type": "stream",
     "text": [
      "assigned bin_idx 22\n",
      "Cur bump_idx: 21 bump amount: 5.955860804540691 target_class_pred: 35050 bin_idx: 22\n",
      "Overshot to bin 22. Decreasing bump amount to 5.865620489320378 aiming for bin 21\n",
      "bumps: [0.6103515625, 1.862645149230957, 2.3283064365386963, 2.9103830456733704, 3.092281986027956, 3.2741809263825417, 3.637978807091713, 3.865352482534945, 4.092726157978177, 4.220623850414995, 4.348521542851813, 4.547473508864641, 4.689582056016661, 4.831690603168681, 4.9826809345177026, 5.115907697472721, 5.275779813018744, 5.435651928564766, 5.605516051332415, 5.6843418860808015, 5.775380174100064, -1, 5.955860804540691, -1, 6.039613253960852, -1, -1, 6.115108419635362, -1, -1, -1, -1, -1, 6.394884621840902, 6.497302695862572, -1, 6.794564910705958, -1, 7.21922521762508, -1, -1, -1, -1, -1, -1, -1, -1, -1, -1, -1]\n",
      "[0228_113120]***NEW ITR 45***\n"
     ]
    },
    {
     "name": "stderr",
     "output_type": "stream",
     "text": [
      "100%|██████████████████████████████████████████████████████| 274/274 [00:16<00:00, 17.06it/s]\n"
     ]
    },
    {
     "name": "stdout",
     "output_type": "stream",
     "text": [
      "assigned bin_idx 21\n",
      "Cur bump_idx: 21 bump amount: 5.865620489320378 target_class_pred: 33312 bin_idx: 21\n",
      "updating cur_bump_idx to 22, bump_amount to 7.332025611650472\n",
      "bumps: [0.6103515625, 1.862645149230957, 2.3283064365386963, 2.9103830456733704, 3.092281986027956, 3.2741809263825417, 3.637978807091713, 3.865352482534945, 4.092726157978177, 4.220623850414995, 4.348521542851813, 4.547473508864641, 4.689582056016661, 4.831690603168681, 4.9826809345177026, 5.115907697472721, 5.275779813018744, 5.435651928564766, 5.605516051332415, 5.6843418860808015, 5.775380174100064, 5.865620489320378, 5.955860804540691, -1, 6.039613253960852, -1, -1, 6.115108419635362, -1, -1, -1, -1, -1, 6.394884621840902, 6.497302695862572, -1, 6.794564910705958, -1, 7.21922521762508, -1, -1, -1, -1, -1, -1, -1, -1, -1, -1, -1]\n",
      "[0228_113136]***NEW ITR 46***\n",
      "[0228_113136]***NEW ITR 47***\n"
     ]
    },
    {
     "name": "stderr",
     "output_type": "stream",
     "text": [
      "100%|██████████████████████████████████████████████████████| 274/274 [00:15<00:00, 17.50it/s]\n"
     ]
    },
    {
     "name": "stdout",
     "output_type": "stream",
     "text": [
      "bin_idx < cur_bump_idx (22 and 23) delta=1.25 new bump_amount: 7.444826005675864\n"
     ]
    },
    {
     "name": "stderr",
     "output_type": "stream",
     "text": [
      "100%|██████████████████████████████████████████████████████| 274/274 [00:15<00:00, 17.65it/s]\n",
      "/n/fs/ac-editing/model-editing/src/model/metric.py:168: RuntimeWarning: invalid value encountered in divide\n",
      "  return np.nan_to_num(TPs / (TPs + FPs))\n",
      "/n/fs/ac-editing/model-editing/src/model/metric.py:205: RuntimeWarning: invalid value encountered in divide\n",
      "  return np.nan_to_num(2 * precisions * recalls / (precisions + recalls))\n"
     ]
    },
    {
     "name": "stdout",
     "output_type": "stream",
     "text": [
      "Overshot to bin 38. Decreasing bump amount to 6.700343405108278 aiming for bin 23\n",
      "bumps: [0.6103515625, 1.862645149230957, 2.3283064365386963, 2.9103830456733704, 3.092281986027956, 3.2741809263825417, 3.637978807091713, 3.865352482534945, 4.092726157978177, 4.220623850414995, 4.348521542851813, 4.547473508864641, 4.689582056016661, 4.831690603168681, 4.9826809345177026, 5.115907697472721, 5.275779813018744, 5.435651928564766, 5.605516051332415, 5.6843418860808015, 5.775380174100064, 5.865620489320378, 5.955860804540691, -1, 6.039613253960852, -1, -1, 6.115108419635362, -1, -1, -1, -1, -1, 6.394884621840902, 6.497302695862572, -1, 6.794564910705958, -1, 7.21922521762508, -1, -1, -1, -1, -1, -1, -1, -1, -1, -1, -1]\n",
      "[0228_113207]***NEW ITR 48***\n"
     ]
    },
    {
     "name": "stderr",
     "output_type": "stream",
     "text": [
      "100%|██████████████████████████████████████████████████████| 274/274 [00:15<00:00, 18.25it/s]\n",
      "/n/fs/ac-editing/model-editing/src/model/metric.py:168: RuntimeWarning: invalid value encountered in divide\n",
      "  return np.nan_to_num(TPs / (TPs + FPs))\n",
      "/n/fs/ac-editing/model-editing/src/model/metric.py:205: RuntimeWarning: invalid value encountered in divide\n",
      "  return np.nan_to_num(2 * precisions * recalls / (precisions + recalls))\n"
     ]
    },
    {
     "name": "stdout",
     "output_type": "stream",
     "text": [
      "Overshot to bin 36. Decreasing bump amount to 6.3281021048244845 aiming for bin 23\n",
      "bumps: [0.6103515625, 1.862645149230957, 2.3283064365386963, 2.9103830456733704, 3.092281986027956, 3.2741809263825417, 3.637978807091713, 3.865352482534945, 4.092726157978177, 4.220623850414995, 4.348521542851813, 4.547473508864641, 4.689582056016661, 4.831690603168681, 4.9826809345177026, 5.115907697472721, 5.275779813018744, 5.435651928564766, 5.605516051332415, 5.6843418860808015, 5.775380174100064, 5.865620489320378, 5.955860804540691, -1, 6.039613253960852, -1, -1, 6.115108419635362, -1, -1, -1, -1, -1, 6.394884621840902, 6.497302695862572, -1, 6.794564910705958, -1, 7.21922521762508, -1, -1, -1, -1, -1, -1, -1, -1, -1, -1, -1]\n",
      "[0228_113222]***NEW ITR 49***\n"
     ]
    },
    {
     "name": "stderr",
     "output_type": "stream",
     "text": [
      "100%|██████████████████████████████████████████████████████| 274/274 [00:15<00:00, 17.27it/s]\n"
     ]
    },
    {
     "name": "stdout",
     "output_type": "stream",
     "text": [
      "assigned bin_idx 32\n",
      "Cur bump_idx: 23 bump amount: 6.3281021048244845 target_class_pred: 46745 bin_idx: 32\n",
      "Overshot to bin 32. Decreasing bump amount to 6.141981454682588 aiming for bin 23\n",
      "bumps: [0.6103515625, 1.862645149230957, 2.3283064365386963, 2.9103830456733704, 3.092281986027956, 3.2741809263825417, 3.637978807091713, 3.865352482534945, 4.092726157978177, 4.220623850414995, 4.348521542851813, 4.547473508864641, 4.689582056016661, 4.831690603168681, 4.9826809345177026, 5.115907697472721, 5.275779813018744, 5.435651928564766, 5.605516051332415, 5.6843418860808015, 5.775380174100064, 5.865620489320378, 5.955860804540691, -1, 6.039613253960852, -1, -1, 6.115108419635362, -1, -1, -1, -1, 6.3281021048244845, 6.394884621840902, 6.497302695862572, -1, 6.794564910705958, -1, 7.21922521762508, -1, -1, -1, -1, -1, -1, -1, -1, -1, -1, -1]\n",
      "[0228_113238]***NEW ITR 50***\n"
     ]
    },
    {
     "name": "stderr",
     "output_type": "stream",
     "text": [
      "100%|██████████████████████████████████████████████████████| 274/274 [00:15<00:00, 17.61it/s]\n"
     ]
    },
    {
     "name": "stdout",
     "output_type": "stream",
     "text": [
      "assigned bin_idx 28\n",
      "Cur bump_idx: 23 bump amount: 6.141981454682588 target_class_pred: 41668 bin_idx: 28\n",
      "Overshot to bin 28. Decreasing bump amount to 6.04892112961164 aiming for bin 23\n",
      "bumps: [0.6103515625, 1.862645149230957, 2.3283064365386963, 2.9103830456733704, 3.092281986027956, 3.2741809263825417, 3.637978807091713, 3.865352482534945, 4.092726157978177, 4.220623850414995, 4.348521542851813, 4.547473508864641, 4.689582056016661, 4.831690603168681, 4.9826809345177026, 5.115907697472721, 5.275779813018744, 5.435651928564766, 5.605516051332415, 5.6843418860808015, 5.775380174100064, 5.865620489320378, 5.955860804540691, -1, 6.039613253960852, -1, -1, 6.115108419635362, 6.141981454682588, -1, -1, -1, 6.3281021048244845, 6.394884621840902, 6.497302695862572, -1, 6.794564910705958, -1, 7.21922521762508, -1, -1, -1, -1, -1, -1, -1, -1, -1, -1, -1]\n",
      "[0228_113254]***NEW ITR 51***\n"
     ]
    },
    {
     "name": "stderr",
     "output_type": "stream",
     "text": [
      "100%|██████████████████████████████████████████████████████| 274/274 [00:15<00:00, 17.68it/s]\n"
     ]
    },
    {
     "name": "stdout",
     "output_type": "stream",
     "text": [
      "assigned bin_idx 25\n",
      "Cur bump_idx: 23 bump amount: 6.04892112961164 target_class_pred: 37949 bin_idx: 25\n",
      "Overshot to bin 25. Decreasing bump amount to 6.002390967076165 aiming for bin 23\n",
      "bumps: [0.6103515625, 1.862645149230957, 2.3283064365386963, 2.9103830456733704, 3.092281986027956, 3.2741809263825417, 3.637978807091713, 3.865352482534945, 4.092726157978177, 4.220623850414995, 4.348521542851813, 4.547473508864641, 4.689582056016661, 4.831690603168681, 4.9826809345177026, 5.115907697472721, 5.275779813018744, 5.435651928564766, 5.605516051332415, 5.6843418860808015, 5.775380174100064, 5.865620489320378, 5.955860804540691, -1, 6.039613253960852, 6.04892112961164, -1, 6.115108419635362, 6.141981454682588, -1, -1, -1, 6.3281021048244845, 6.394884621840902, 6.497302695862572, -1, 6.794564910705958, -1, 7.21922521762508, -1, -1, -1, -1, -1, -1, -1, -1, -1, -1, -1]\n",
      "[0228_113309]***NEW ITR 52***\n"
     ]
    },
    {
     "name": "stderr",
     "output_type": "stream",
     "text": [
      "100%|██████████████████████████████████████████████████████| 274/274 [00:15<00:00, 18.21it/s]\n"
     ]
    },
    {
     "name": "stdout",
     "output_type": "stream",
     "text": [
      "assigned bin_idx 23\n",
      "Cur bump_idx: 23 bump amount: 6.002390967076165 target_class_pred: 36328 bin_idx: 23\n",
      "updating cur_bump_idx to 24, bump_amount to 7.502988708845207\n",
      "bumps: [0.6103515625, 1.862645149230957, 2.3283064365386963, 2.9103830456733704, 3.092281986027956, 3.2741809263825417, 3.637978807091713, 3.865352482534945, 4.092726157978177, 4.220623850414995, 4.348521542851813, 4.547473508864641, 4.689582056016661, 4.831690603168681, 4.9826809345177026, 5.115907697472721, 5.275779813018744, 5.435651928564766, 5.605516051332415, 5.6843418860808015, 5.775380174100064, 5.865620489320378, 5.955860804540691, 6.002390967076165, 6.039613253960852, 6.04892112961164, -1, 6.115108419635362, 6.141981454682588, -1, -1, -1, 6.3281021048244845, 6.394884621840902, 6.497302695862572, -1, 6.794564910705958, -1, 7.21922521762508, -1, -1, -1, -1, -1, -1, -1, -1, -1, -1, -1]\n",
      "[0228_113324]***NEW ITR 53***\n",
      "[0228_113324]***NEW ITR 54***\n",
      "[0228_113324]***NEW ITR 55***\n"
     ]
    },
    {
     "name": "stderr",
     "output_type": "stream",
     "text": [
      "100%|██████████████████████████████████████████████████████| 274/274 [00:15<00:00, 17.42it/s]\n"
     ]
    },
    {
     "name": "stdout",
     "output_type": "stream",
     "text": [
      "bin_idx < cur_bump_idx (25 and 26) delta=1.25 new bump_amount: 7.561151412014549\n"
     ]
    },
    {
     "name": "stderr",
     "output_type": "stream",
     "text": [
      "100%|██████████████████████████████████████████████████████| 274/274 [00:15<00:00, 17.70it/s]\n",
      "/n/fs/ac-editing/model-editing/src/model/metric.py:168: RuntimeWarning: invalid value encountered in divide\n",
      "  return np.nan_to_num(TPs / (TPs + FPs))\n",
      "/n/fs/ac-editing/model-editing/src/model/metric.py:205: RuntimeWarning: invalid value encountered in divide\n",
      "  return np.nan_to_num(2 * precisions * recalls / (precisions + recalls))\n"
     ]
    },
    {
     "name": "stdout",
     "output_type": "stream",
     "text": [
      "assigned bin_idx 39\n",
      "Cur bump_idx: 26 bump amount: 7.561151412014549 target_class_pred: 54932 bin_idx: 39\n",
      "Overshot to bin 39. Decreasing bump amount to 6.805036270813094 aiming for bin 26\n",
      "bumps: [0.6103515625, 1.862645149230957, 2.3283064365386963, 2.9103830456733704, 3.092281986027956, 3.2741809263825417, 3.637978807091713, 3.865352482534945, 4.092726157978177, 4.220623850414995, 4.348521542851813, 4.547473508864641, 4.689582056016661, 4.831690603168681, 4.9826809345177026, 5.115907697472721, 5.275779813018744, 5.435651928564766, 5.605516051332415, 5.6843418860808015, 5.775380174100064, 5.865620489320378, 5.955860804540691, 6.002390967076165, 6.039613253960852, 6.04892112961164, -1, 6.115108419635362, 6.141981454682588, -1, -1, -1, 6.3281021048244845, 6.394884621840902, 6.497302695862572, -1, 6.794564910705958, -1, 7.21922521762508, 7.561151412014549, -1, -1, -1, -1, -1, -1, -1, -1, -1, -1]\n",
      "[0228_113356]***NEW ITR 56***\n"
     ]
    },
    {
     "name": "stderr",
     "output_type": "stream",
     "text": [
      "100%|██████████████████████████████████████████████████████| 274/274 [00:15<00:00, 17.69it/s]\n",
      "/n/fs/ac-editing/model-editing/src/model/metric.py:168: RuntimeWarning: invalid value encountered in divide\n",
      "  return np.nan_to_num(TPs / (TPs + FPs))\n",
      "/n/fs/ac-editing/model-editing/src/model/metric.py:205: RuntimeWarning: invalid value encountered in divide\n",
      "  return np.nan_to_num(2 * precisions * recalls / (precisions + recalls))\n"
     ]
    },
    {
     "name": "stdout",
     "output_type": "stream",
     "text": [
      "assigned bin_idx 37\n",
      "Cur bump_idx: 26 bump amount: 6.805036270813094 target_class_pred: 52281 bin_idx: 37\n",
      "Overshot to bin 37. Decreasing bump amount to 6.426978700212366 aiming for bin 26\n",
      "bumps: [0.6103515625, 1.862645149230957, 2.3283064365386963, 2.9103830456733704, 3.092281986027956, 3.2741809263825417, 3.637978807091713, 3.865352482534945, 4.092726157978177, 4.220623850414995, 4.348521542851813, 4.547473508864641, 4.689582056016661, 4.831690603168681, 4.9826809345177026, 5.115907697472721, 5.275779813018744, 5.435651928564766, 5.605516051332415, 5.6843418860808015, 5.775380174100064, 5.865620489320378, 5.955860804540691, 6.002390967076165, 6.039613253960852, 6.04892112961164, -1, 6.115108419635362, 6.141981454682588, -1, -1, -1, 6.3281021048244845, 6.394884621840902, 6.497302695862572, -1, 6.794564910705958, 6.805036270813094, 7.21922521762508, 7.561151412014549, -1, -1, -1, -1, -1, -1, -1, -1, -1, -1]\n",
      "[0228_113411]***NEW ITR 57***\n"
     ]
    },
    {
     "name": "stderr",
     "output_type": "stream",
     "text": [
      "100%|██████████████████████████████████████████████████████| 274/274 [00:15<00:00, 18.23it/s]\n",
      "/n/fs/ac-editing/model-editing/src/model/metric.py:168: RuntimeWarning: invalid value encountered in divide\n",
      "  return np.nan_to_num(TPs / (TPs + FPs))\n",
      "/n/fs/ac-editing/model-editing/src/model/metric.py:205: RuntimeWarning: invalid value encountered in divide\n",
      "  return np.nan_to_num(2 * precisions * recalls / (precisions + recalls))\n"
     ]
    },
    {
     "name": "stdout",
     "output_type": "stream",
     "text": [
      "Overshot to bin 33. Decreasing bump amount to 6.237949914912003 aiming for bin 26\n",
      "bumps: [0.6103515625, 1.862645149230957, 2.3283064365386963, 2.9103830456733704, 3.092281986027956, 3.2741809263825417, 3.637978807091713, 3.865352482534945, 4.092726157978177, 4.220623850414995, 4.348521542851813, 4.547473508864641, 4.689582056016661, 4.831690603168681, 4.9826809345177026, 5.115907697472721, 5.275779813018744, 5.435651928564766, 5.605516051332415, 5.6843418860808015, 5.775380174100064, 5.865620489320378, 5.955860804540691, 6.002390967076165, 6.039613253960852, 6.04892112961164, -1, 6.115108419635362, 6.141981454682588, -1, -1, -1, 6.3281021048244845, 6.394884621840902, 6.497302695862572, -1, 6.794564910705958, 6.805036270813094, 7.21922521762508, 7.561151412014549, -1, -1, -1, -1, -1, -1, -1, -1, -1, -1]\n",
      "[0228_113426]***NEW ITR 58***\n"
     ]
    },
    {
     "name": "stderr",
     "output_type": "stream",
     "text": [
      "100%|██████████████████████████████████████████████████████| 274/274 [00:15<00:00, 17.23it/s]\n"
     ]
    },
    {
     "name": "stdout",
     "output_type": "stream",
     "text": [
      "assigned bin_idx 30\n",
      "Cur bump_idx: 26 bump amount: 6.237949914912003 target_class_pred: 44858 bin_idx: 30\n",
      "Overshot to bin 30. Decreasing bump amount to 6.1434355222618215 aiming for bin 26\n",
      "bumps: [0.6103515625, 1.862645149230957, 2.3283064365386963, 2.9103830456733704, 3.092281986027956, 3.2741809263825417, 3.637978807091713, 3.865352482534945, 4.092726157978177, 4.220623850414995, 4.348521542851813, 4.547473508864641, 4.689582056016661, 4.831690603168681, 4.9826809345177026, 5.115907697472721, 5.275779813018744, 5.435651928564766, 5.605516051332415, 5.6843418860808015, 5.775380174100064, 5.865620489320378, 5.955860804540691, 6.002390967076165, 6.039613253960852, 6.04892112961164, -1, 6.115108419635362, 6.141981454682588, -1, 6.237949914912003, -1, 6.3281021048244845, 6.394884621840902, 6.497302695862572, -1, 6.794564910705958, 6.805036270813094, 7.21922521762508, 7.561151412014549, -1, -1, -1, -1, -1, -1, -1, -1, -1, -1]\n",
      "[0228_113442]***NEW ITR 59***\n"
     ]
    },
    {
     "name": "stderr",
     "output_type": "stream",
     "text": [
      "100%|██████████████████████████████████████████████████████| 274/274 [00:15<00:00, 17.53it/s]\n"
     ]
    },
    {
     "name": "stdout",
     "output_type": "stream",
     "text": [
      "Overshot to bin 28. Decreasing bump amount to 6.09617832593673 aiming for bin 26\n",
      "bumps: [0.6103515625, 1.862645149230957, 2.3283064365386963, 2.9103830456733704, 3.092281986027956, 3.2741809263825417, 3.637978807091713, 3.865352482534945, 4.092726157978177, 4.220623850414995, 4.348521542851813, 4.547473508864641, 4.689582056016661, 4.831690603168681, 4.9826809345177026, 5.115907697472721, 5.275779813018744, 5.435651928564766, 5.605516051332415, 5.6843418860808015, 5.775380174100064, 5.865620489320378, 5.955860804540691, 6.002390967076165, 6.039613253960852, 6.04892112961164, -1, 6.115108419635362, 6.141981454682588, -1, 6.237949914912003, -1, 6.3281021048244845, 6.394884621840902, 6.497302695862572, -1, 6.794564910705958, 6.805036270813094, 7.21922521762508, 7.561151412014549, -1, -1, -1, -1, -1, -1, -1, -1, -1, -1]\n",
      "[0228_113458]***NEW ITR 60***\n"
     ]
    },
    {
     "name": "stderr",
     "output_type": "stream",
     "text": [
      "100%|██████████████████████████████████████████████████████| 274/274 [00:15<00:00, 17.77it/s]\n"
     ]
    },
    {
     "name": "stdout",
     "output_type": "stream",
     "text": [
      "assigned bin_idx 26\n",
      "Cur bump_idx: 26 bump amount: 6.09617832593673 target_class_pred: 39835 bin_idx: 26\n",
      "updating cur_bump_idx to 27, bump_amount to 7.620222907420913\n",
      "bumps: [0.6103515625, 1.862645149230957, 2.3283064365386963, 2.9103830456733704, 3.092281986027956, 3.2741809263825417, 3.637978807091713, 3.865352482534945, 4.092726157978177, 4.220623850414995, 4.348521542851813, 4.547473508864641, 4.689582056016661, 4.831690603168681, 4.9826809345177026, 5.115907697472721, 5.275779813018744, 5.435651928564766, 5.605516051332415, 5.6843418860808015, 5.775380174100064, 5.865620489320378, 5.955860804540691, 6.002390967076165, 6.039613253960852, 6.04892112961164, 6.09617832593673, 6.115108419635362, 6.141981454682588, -1, 6.237949914912003, -1, 6.3281021048244845, 6.394884621840902, 6.497302695862572, -1, 6.794564910705958, 6.805036270813094, 7.21922521762508, 7.561151412014549, -1, -1, -1, -1, -1, -1, -1, -1, -1, -1]\n",
      "[0228_113513]***NEW ITR 61***\n",
      "[0228_113513]***NEW ITR 62***\n",
      "[0228_113513]***NEW ITR 63***\n"
     ]
    },
    {
     "name": "stderr",
     "output_type": "stream",
     "text": [
      "100%|██████████████████████████████████████████████████████| 274/274 [00:15<00:00, 18.16it/s]\n"
     ]
    },
    {
     "name": "stdout",
     "output_type": "stream",
     "text": [
      "bin_idx < cur_bump_idx (28 and 29) delta=1.25 new bump_amount: 7.6774768183532345\n"
     ]
    },
    {
     "name": "stderr",
     "output_type": "stream",
     "text": [
      "100%|██████████████████████████████████████████████████████| 274/274 [00:15<00:00, 17.32it/s]\n",
      "/n/fs/ac-editing/model-editing/src/model/metric.py:168: RuntimeWarning: invalid value encountered in divide\n",
      "  return np.nan_to_num(TPs / (TPs + FPs))\n",
      "/n/fs/ac-editing/model-editing/src/model/metric.py:205: RuntimeWarning: invalid value encountered in divide\n",
      "  return np.nan_to_num(2 * precisions * recalls / (precisions + recalls))\n"
     ]
    },
    {
     "name": "stdout",
     "output_type": "stream",
     "text": [
      "Overshot to bin 39. Decreasing bump amount to 6.909729136517911 aiming for bin 29\n",
      "bumps: [0.6103515625, 1.862645149230957, 2.3283064365386963, 2.9103830456733704, 3.092281986027956, 3.2741809263825417, 3.637978807091713, 3.865352482534945, 4.092726157978177, 4.220623850414995, 4.348521542851813, 4.547473508864641, 4.689582056016661, 4.831690603168681, 4.9826809345177026, 5.115907697472721, 5.275779813018744, 5.435651928564766, 5.605516051332415, 5.6843418860808015, 5.775380174100064, 5.865620489320378, 5.955860804540691, 6.002390967076165, 6.039613253960852, 6.04892112961164, 6.09617832593673, 6.115108419635362, 6.141981454682588, -1, 6.237949914912003, -1, 6.3281021048244845, 6.394884621840902, 6.497302695862572, -1, 6.794564910705958, 6.805036270813094, 7.21922521762508, 7.561151412014549, -1, -1, -1, -1, -1, -1, -1, -1, -1, -1]\n",
      "[0228_113544]***NEW ITR 64***\n"
     ]
    },
    {
     "name": "stderr",
     "output_type": "stream",
     "text": [
      "100%|██████████████████████████████████████████████████████| 274/274 [00:15<00:00, 17.58it/s]\n",
      "/n/fs/ac-editing/model-editing/src/model/metric.py:168: RuntimeWarning: invalid value encountered in divide\n",
      "  return np.nan_to_num(TPs / (TPs + FPs))\n",
      "/n/fs/ac-editing/model-editing/src/model/metric.py:205: RuntimeWarning: invalid value encountered in divide\n",
      "  return np.nan_to_num(2 * precisions * recalls / (precisions + recalls))\n"
     ]
    },
    {
     "name": "stdout",
     "output_type": "stream",
     "text": [
      "Overshot to bin 37. Decreasing bump amount to 6.52585529560025 aiming for bin 29\n",
      "bumps: [0.6103515625, 1.862645149230957, 2.3283064365386963, 2.9103830456733704, 3.092281986027956, 3.2741809263825417, 3.637978807091713, 3.865352482534945, 4.092726157978177, 4.220623850414995, 4.348521542851813, 4.547473508864641, 4.689582056016661, 4.831690603168681, 4.9826809345177026, 5.115907697472721, 5.275779813018744, 5.435651928564766, 5.605516051332415, 5.6843418860808015, 5.775380174100064, 5.865620489320378, 5.955860804540691, 6.002390967076165, 6.039613253960852, 6.04892112961164, 6.09617832593673, 6.115108419635362, 6.141981454682588, -1, 6.237949914912003, -1, 6.3281021048244845, 6.394884621840902, 6.497302695862572, -1, 6.794564910705958, 6.805036270813094, 7.21922521762508, 7.561151412014549, -1, -1, -1, -1, -1, -1, -1, -1, -1, -1]\n",
      "[0228_113600]***NEW ITR 65***\n"
     ]
    },
    {
     "name": "stderr",
     "output_type": "stream",
     "text": [
      "100%|██████████████████████████████████████████████████████| 274/274 [00:15<00:00, 17.65it/s]\n",
      "/n/fs/ac-editing/model-editing/src/model/metric.py:168: RuntimeWarning: invalid value encountered in divide\n",
      "  return np.nan_to_num(TPs / (TPs + FPs))\n",
      "/n/fs/ac-editing/model-editing/src/model/metric.py:205: RuntimeWarning: invalid value encountered in divide\n",
      "  return np.nan_to_num(2 * precisions * recalls / (precisions + recalls))\n"
     ]
    },
    {
     "name": "stdout",
     "output_type": "stream",
     "text": [
      "Overshot to bin 34. Decreasing bump amount to 6.333918375141419 aiming for bin 29\n",
      "bumps: [0.6103515625, 1.862645149230957, 2.3283064365386963, 2.9103830456733704, 3.092281986027956, 3.2741809263825417, 3.637978807091713, 3.865352482534945, 4.092726157978177, 4.220623850414995, 4.348521542851813, 4.547473508864641, 4.689582056016661, 4.831690603168681, 4.9826809345177026, 5.115907697472721, 5.275779813018744, 5.435651928564766, 5.605516051332415, 5.6843418860808015, 5.775380174100064, 5.865620489320378, 5.955860804540691, 6.002390967076165, 6.039613253960852, 6.04892112961164, 6.09617832593673, 6.115108419635362, 6.141981454682588, -1, 6.237949914912003, -1, 6.3281021048244845, 6.394884621840902, 6.497302695862572, -1, 6.794564910705958, 6.805036270813094, 7.21922521762508, 7.561151412014549, -1, -1, -1, -1, -1, -1, -1, -1, -1, -1]\n",
      "[0228_113615]***NEW ITR 66***\n"
     ]
    },
    {
     "name": "stderr",
     "output_type": "stream",
     "text": [
      "100%|██████████████████████████████████████████████████████| 274/274 [00:14<00:00, 18.42it/s]\n"
     ]
    },
    {
     "name": "stdout",
     "output_type": "stream",
     "text": [
      "Overshot to bin 32. Decreasing bump amount to 6.2379499149120035 aiming for bin 29\n",
      "bumps: [0.6103515625, 1.862645149230957, 2.3283064365386963, 2.9103830456733704, 3.092281986027956, 3.2741809263825417, 3.637978807091713, 3.865352482534945, 4.092726157978177, 4.220623850414995, 4.348521542851813, 4.547473508864641, 4.689582056016661, 4.831690603168681, 4.9826809345177026, 5.115907697472721, 5.275779813018744, 5.435651928564766, 5.605516051332415, 5.6843418860808015, 5.775380174100064, 5.865620489320378, 5.955860804540691, 6.002390967076165, 6.039613253960852, 6.04892112961164, 6.09617832593673, 6.115108419635362, 6.141981454682588, -1, 6.237949914912003, -1, 6.3281021048244845, 6.394884621840902, 6.497302695862572, -1, 6.794564910705958, 6.805036270813094, 7.21922521762508, 7.561151412014549, -1, -1, -1, -1, -1, -1, -1, -1, -1, -1]\n",
      "[0228_113630]***NEW ITR 67***\n"
     ]
    },
    {
     "name": "stderr",
     "output_type": "stream",
     "text": [
      "100%|██████████████████████████████████████████████████████| 274/274 [00:15<00:00, 17.50it/s]\n"
     ]
    },
    {
     "name": "stdout",
     "output_type": "stream",
     "text": [
      "Overshot to bin 30. Decreasing bump amount to 6.189965684797295 aiming for bin 29\n",
      "bumps: [0.6103515625, 1.862645149230957, 2.3283064365386963, 2.9103830456733704, 3.092281986027956, 3.2741809263825417, 3.637978807091713, 3.865352482534945, 4.092726157978177, 4.220623850414995, 4.348521542851813, 4.547473508864641, 4.689582056016661, 4.831690603168681, 4.9826809345177026, 5.115907697472721, 5.275779813018744, 5.435651928564766, 5.605516051332415, 5.6843418860808015, 5.775380174100064, 5.865620489320378, 5.955860804540691, 6.002390967076165, 6.039613253960852, 6.04892112961164, 6.09617832593673, 6.115108419635362, 6.141981454682588, -1, 6.237949914912003, -1, 6.3281021048244845, 6.394884621840902, 6.497302695862572, -1, 6.794564910705958, 6.805036270813094, 7.21922521762508, 7.561151412014549, -1, -1, -1, -1, -1, -1, -1, -1, -1, -1]\n",
      "[0228_113646]***NEW ITR 68***\n"
     ]
    },
    {
     "name": "stderr",
     "output_type": "stream",
     "text": [
      "100%|██████████████████████████████████████████████████████| 274/274 [00:15<00:00, 17.62it/s]\n"
     ]
    },
    {
     "name": "stdout",
     "output_type": "stream",
     "text": [
      "assigned bin_idx 29\n",
      "Cur bump_idx: 29 bump amount: 6.189965684797295 target_class_pred: 43390 bin_idx: 29\n",
      "updating cur_bump_idx to 30, bump_amount to 7.737457105996619\n",
      "bumps: [0.6103515625, 1.862645149230957, 2.3283064365386963, 2.9103830456733704, 3.092281986027956, 3.2741809263825417, 3.637978807091713, 3.865352482534945, 4.092726157978177, 4.220623850414995, 4.348521542851813, 4.547473508864641, 4.689582056016661, 4.831690603168681, 4.9826809345177026, 5.115907697472721, 5.275779813018744, 5.435651928564766, 5.605516051332415, 5.6843418860808015, 5.775380174100064, 5.865620489320378, 5.955860804540691, 6.002390967076165, 6.039613253960852, 6.04892112961164, 6.09617832593673, 6.115108419635362, 6.141981454682588, 6.189965684797295, 6.237949914912003, -1, 6.3281021048244845, 6.394884621840902, 6.497302695862572, -1, 6.794564910705958, 6.805036270813094, 7.21922521762508, 7.561151412014549, -1, -1, -1, -1, -1, -1, -1, -1, -1, -1]\n",
      "[0228_113702]***NEW ITR 69***\n",
      "[0228_113702]***NEW ITR 70***\n"
     ]
    },
    {
     "name": "stderr",
     "output_type": "stream",
     "text": [
      "100%|██████████████████████████████████████████████████████| 274/274 [00:15<00:00, 17.76it/s]\n"
     ]
    },
    {
     "name": "stdout",
     "output_type": "stream",
     "text": [
      "bin_idx < cur_bump_idx (30 and 31) delta=1.25 new bump_amount: 7.797437393640003\n"
     ]
    },
    {
     "name": "stderr",
     "output_type": "stream",
     "text": [
      "100%|██████████████████████████████████████████████████████| 274/274 [00:14<00:00, 18.34it/s]\n",
      "/n/fs/ac-editing/model-editing/src/model/metric.py:168: RuntimeWarning: invalid value encountered in divide\n",
      "  return np.nan_to_num(TPs / (TPs + FPs))\n",
      "/n/fs/ac-editing/model-editing/src/model/metric.py:205: RuntimeWarning: invalid value encountered in divide\n",
      "  return np.nan_to_num(2 * precisions * recalls / (precisions + recalls))\n"
     ]
    },
    {
     "name": "stdout",
     "output_type": "stream",
     "text": [
      "assigned bin_idx 40\n",
      "Cur bump_idx: 31 bump amount: 7.797437393640003 target_class_pred: 56050 bin_idx: 40\n",
      "Overshot to bin 40. Decreasing bump amount to 7.017693654276003 aiming for bin 31\n",
      "bumps: [0.6103515625, 1.862645149230957, 2.3283064365386963, 2.9103830456733704, 3.092281986027956, 3.2741809263825417, 3.637978807091713, 3.865352482534945, 4.092726157978177, 4.220623850414995, 4.348521542851813, 4.547473508864641, 4.689582056016661, 4.831690603168681, 4.9826809345177026, 5.115907697472721, 5.275779813018744, 5.435651928564766, 5.605516051332415, 5.6843418860808015, 5.775380174100064, 5.865620489320378, 5.955860804540691, 6.002390967076165, 6.039613253960852, 6.04892112961164, 6.09617832593673, 6.115108419635362, 6.141981454682588, 6.189965684797295, 6.237949914912003, -1, 6.3281021048244845, 6.394884621840902, 6.497302695862572, -1, 6.794564910705958, 6.805036270813094, 7.21922521762508, 7.561151412014549, 7.797437393640003, -1, -1, -1, -1, -1, -1, -1, -1, -1]\n",
      "[0228_113732]***NEW ITR 71***\n"
     ]
    },
    {
     "name": "stderr",
     "output_type": "stream",
     "text": [
      "100%|██████████████████████████████████████████████████████| 274/274 [00:15<00:00, 17.30it/s]\n",
      "/n/fs/ac-editing/model-editing/src/model/metric.py:168: RuntimeWarning: invalid value encountered in divide\n",
      "  return np.nan_to_num(TPs / (TPs + FPs))\n",
      "/n/fs/ac-editing/model-editing/src/model/metric.py:205: RuntimeWarning: invalid value encountered in divide\n",
      "  return np.nan_to_num(2 * precisions * recalls / (precisions + recalls))\n"
     ]
    },
    {
     "name": "stdout",
     "output_type": "stream",
     "text": [
      "Overshot to bin 37. Decreasing bump amount to 6.627821784594003 aiming for bin 31\n",
      "bumps: [0.6103515625, 1.862645149230957, 2.3283064365386963, 2.9103830456733704, 3.092281986027956, 3.2741809263825417, 3.637978807091713, 3.865352482534945, 4.092726157978177, 4.220623850414995, 4.348521542851813, 4.547473508864641, 4.689582056016661, 4.831690603168681, 4.9826809345177026, 5.115907697472721, 5.275779813018744, 5.435651928564766, 5.605516051332415, 5.6843418860808015, 5.775380174100064, 5.865620489320378, 5.955860804540691, 6.002390967076165, 6.039613253960852, 6.04892112961164, 6.09617832593673, 6.115108419635362, 6.141981454682588, 6.189965684797295, 6.237949914912003, -1, 6.3281021048244845, 6.394884621840902, 6.497302695862572, -1, 6.794564910705958, 6.805036270813094, 7.21922521762508, 7.561151412014549, 7.797437393640003, -1, -1, -1, -1, -1, -1, -1, -1, -1]\n",
      "[0228_113748]***NEW ITR 72***\n"
     ]
    },
    {
     "name": "stderr",
     "output_type": "stream",
     "text": [
      "100%|██████████████████████████████████████████████████████| 274/274 [00:15<00:00, 17.55it/s]\n",
      "/n/fs/ac-editing/model-editing/src/model/metric.py:168: RuntimeWarning: invalid value encountered in divide\n",
      "  return np.nan_to_num(TPs / (TPs + FPs))\n",
      "/n/fs/ac-editing/model-editing/src/model/metric.py:205: RuntimeWarning: invalid value encountered in divide\n",
      "  return np.nan_to_num(2 * precisions * recalls / (precisions + recalls))\n"
     ]
    },
    {
     "name": "stdout",
     "output_type": "stream",
     "text": [
      "assigned bin_idx 35\n",
      "Cur bump_idx: 31 bump amount: 6.627821784594003 target_class_pred: 50363 bin_idx: 35\n",
      "Overshot to bin 35. Decreasing bump amount to 6.432885849753003 aiming for bin 31\n",
      "bumps: [0.6103515625, 1.862645149230957, 2.3283064365386963, 2.9103830456733704, 3.092281986027956, 3.2741809263825417, 3.637978807091713, 3.865352482534945, 4.092726157978177, 4.220623850414995, 4.348521542851813, 4.547473508864641, 4.689582056016661, 4.831690603168681, 4.9826809345177026, 5.115907697472721, 5.275779813018744, 5.435651928564766, 5.605516051332415, 5.6843418860808015, 5.775380174100064, 5.865620489320378, 5.955860804540691, 6.002390967076165, 6.039613253960852, 6.04892112961164, 6.09617832593673, 6.115108419635362, 6.141981454682588, 6.189965684797295, 6.237949914912003, -1, 6.3281021048244845, 6.394884621840902, 6.497302695862572, 6.627821784594003, 6.794564910705958, 6.805036270813094, 7.21922521762508, 7.561151412014549, 7.797437393640003, -1, -1, -1, -1, -1, -1, -1, -1, -1]\n",
      "[0228_113804]***NEW ITR 73***\n"
     ]
    },
    {
     "name": "stderr",
     "output_type": "stream",
     "text": [
      "100%|██████████████████████████████████████████████████████| 274/274 [00:15<00:00, 17.71it/s]\n",
      "/n/fs/ac-editing/model-editing/src/model/metric.py:168: RuntimeWarning: invalid value encountered in divide\n",
      "  return np.nan_to_num(TPs / (TPs + FPs))\n",
      "/n/fs/ac-editing/model-editing/src/model/metric.py:205: RuntimeWarning: invalid value encountered in divide\n",
      "  return np.nan_to_num(2 * precisions * recalls / (precisions + recalls))\n"
     ]
    },
    {
     "name": "stdout",
     "output_type": "stream",
     "text": [
      "Overshot to bin 33. Decreasing bump amount to 6.335417882332503 aiming for bin 31\n",
      "bumps: [0.6103515625, 1.862645149230957, 2.3283064365386963, 2.9103830456733704, 3.092281986027956, 3.2741809263825417, 3.637978807091713, 3.865352482534945, 4.092726157978177, 4.220623850414995, 4.348521542851813, 4.547473508864641, 4.689582056016661, 4.831690603168681, 4.9826809345177026, 5.115907697472721, 5.275779813018744, 5.435651928564766, 5.605516051332415, 5.6843418860808015, 5.775380174100064, 5.865620489320378, 5.955860804540691, 6.002390967076165, 6.039613253960852, 6.04892112961164, 6.09617832593673, 6.115108419635362, 6.141981454682588, 6.189965684797295, 6.237949914912003, -1, 6.3281021048244845, 6.394884621840902, 6.497302695862572, 6.627821784594003, 6.794564910705958, 6.805036270813094, 7.21922521762508, 7.561151412014549, 7.797437393640003, -1, -1, -1, -1, -1, -1, -1, -1, -1]\n",
      "[0228_113819]***NEW ITR 74***\n"
     ]
    },
    {
     "name": "stderr",
     "output_type": "stream",
     "text": [
      "100%|██████████████████████████████████████████████████████| 274/274 [00:14<00:00, 18.37it/s]\n"
     ]
    },
    {
     "name": "stdout",
     "output_type": "stream",
     "text": [
      "Overshot to bin 32. Decreasing bump amount to 6.286683898622252 aiming for bin 31\n",
      "bumps: [0.6103515625, 1.862645149230957, 2.3283064365386963, 2.9103830456733704, 3.092281986027956, 3.2741809263825417, 3.637978807091713, 3.865352482534945, 4.092726157978177, 4.220623850414995, 4.348521542851813, 4.547473508864641, 4.689582056016661, 4.831690603168681, 4.9826809345177026, 5.115907697472721, 5.275779813018744, 5.435651928564766, 5.605516051332415, 5.6843418860808015, 5.775380174100064, 5.865620489320378, 5.955860804540691, 6.002390967076165, 6.039613253960852, 6.04892112961164, 6.09617832593673, 6.115108419635362, 6.141981454682588, 6.189965684797295, 6.237949914912003, -1, 6.3281021048244845, 6.394884621840902, 6.497302695862572, 6.627821784594003, 6.794564910705958, 6.805036270813094, 7.21922521762508, 7.561151412014549, 7.797437393640003, -1, -1, -1, -1, -1, -1, -1, -1, -1]\n",
      "[0228_113834]***NEW ITR 75***\n"
     ]
    },
    {
     "name": "stderr",
     "output_type": "stream",
     "text": [
      "100%|██████████████████████████████████████████████████████| 274/274 [00:15<00:00, 17.19it/s]\n"
     ]
    },
    {
     "name": "stdout",
     "output_type": "stream",
     "text": [
      "assigned bin_idx 31\n",
      "Cur bump_idx: 31 bump amount: 6.286683898622252 target_class_pred: 45988 bin_idx: 31\n",
      "updating cur_bump_idx to 32, bump_amount to 7.858354873277815\n",
      "bumps: [0.6103515625, 1.862645149230957, 2.3283064365386963, 2.9103830456733704, 3.092281986027956, 3.2741809263825417, 3.637978807091713, 3.865352482534945, 4.092726157978177, 4.220623850414995, 4.348521542851813, 4.547473508864641, 4.689582056016661, 4.831690603168681, 4.9826809345177026, 5.115907697472721, 5.275779813018744, 5.435651928564766, 5.605516051332415, 5.6843418860808015, 5.775380174100064, 5.865620489320378, 5.955860804540691, 6.002390967076165, 6.039613253960852, 6.04892112961164, 6.09617832593673, 6.115108419635362, 6.141981454682588, 6.189965684797295, 6.237949914912003, 6.286683898622252, 6.3281021048244845, 6.394884621840902, 6.497302695862572, 6.627821784594003, 6.794564910705958, 6.805036270813094, 7.21922521762508, 7.561151412014549, 7.797437393640003, -1, -1, -1, -1, -1, -1, -1, -1, -1]\n",
      "[0228_113850]***NEW ITR 76***\n",
      "[0228_113850]***NEW ITR 77***\n",
      "[0228_113850]***NEW ITR 78***\n",
      "[0228_113850]***NEW ITR 79***\n",
      "[0228_113850]***NEW ITR 80***\n",
      "[0228_113850]***NEW ITR 81***\n",
      "[0228_113850]***NEW ITR 82***\n",
      "[0228_113850]***NEW ITR 83***\n",
      "[0228_113850]***NEW ITR 84***\n",
      "[0228_113850]***NEW ITR 85***\n"
     ]
    },
    {
     "name": "stderr",
     "output_type": "stream",
     "text": [
      "100%|██████████████████████████████████████████████████████| 274/274 [00:15<00:00, 17.66it/s]\n",
      "/n/fs/ac-editing/model-editing/src/model/metric.py:168: RuntimeWarning: invalid value encountered in divide\n",
      "  return np.nan_to_num(TPs / (TPs + FPs))\n",
      "/n/fs/ac-editing/model-editing/src/model/metric.py:205: RuntimeWarning: invalid value encountered in divide\n",
      "  return np.nan_to_num(2 * precisions * recalls / (precisions + recalls))\n"
     ]
    },
    {
     "name": "stdout",
     "output_type": "stream",
     "text": [
      "bin_idx < cur_bump_idx (40 and 41) delta=1.25 new bump_amount: 9.746796742050003\n"
     ]
    },
    {
     "name": "stderr",
     "output_type": "stream",
     "text": [
      "100%|██████████████████████████████████████████████████████| 274/274 [00:15<00:00, 17.80it/s]\n",
      "/n/fs/ac-editing/model-editing/src/model/metric.py:168: RuntimeWarning: invalid value encountered in divide\n",
      "  return np.nan_to_num(TPs / (TPs + FPs))\n",
      "/n/fs/ac-editing/model-editing/src/model/metric.py:205: RuntimeWarning: invalid value encountered in divide\n",
      "  return np.nan_to_num(2 * precisions * recalls / (precisions + recalls))\n"
     ]
    },
    {
     "name": "stdout",
     "output_type": "stream",
     "text": [
      "bin_idx > n_bins (51) delta=1.25 new bump_amount: 8.772117067845002\n",
      "[0228_113921]***NEW ITR 86***\n"
     ]
    },
    {
     "name": "stderr",
     "output_type": "stream",
     "text": [
      "100%|██████████████████████████████████████████████████████| 274/274 [00:14<00:00, 18.27it/s]\n",
      "/n/fs/ac-editing/model-editing/src/model/metric.py:168: RuntimeWarning: invalid value encountered in divide\n",
      "  return np.nan_to_num(TPs / (TPs + FPs))\n",
      "/n/fs/ac-editing/model-editing/src/model/metric.py:205: RuntimeWarning: invalid value encountered in divide\n",
      "  return np.nan_to_num(2 * precisions * recalls / (precisions + recalls))\n"
     ]
    },
    {
     "name": "stdout",
     "output_type": "stream",
     "text": [
      "assigned bin_idx 48\n",
      "Cur bump_idx: 41 bump amount: 8.772117067845002 target_class_pred: 66022 bin_idx: 48\n",
      "Overshot to bin 48. Decreasing bump amount to 8.284777230742502 aiming for bin 41\n",
      "bumps: [0.6103515625, 1.862645149230957, 2.3283064365386963, 2.9103830456733704, 3.092281986027956, 3.2741809263825417, 3.637978807091713, 3.865352482534945, 4.092726157978177, 4.220623850414995, 4.348521542851813, 4.547473508864641, 4.689582056016661, 4.831690603168681, 4.9826809345177026, 5.115907697472721, 5.275779813018744, 5.435651928564766, 5.605516051332415, 5.6843418860808015, 5.775380174100064, 5.865620489320378, 5.955860804540691, 6.002390967076165, 6.039613253960852, 6.04892112961164, 6.09617832593673, 6.115108419635362, 6.141981454682588, 6.189965684797295, 6.237949914912003, 6.286683898622252, 6.3281021048244845, 6.394884621840902, 6.497302695862572, 6.627821784594003, 6.794564910705958, 6.805036270813094, 7.21922521762508, 7.561151412014549, 7.797437393640003, -1, -1, -1, -1, -1, -1, -1, 8.772117067845002, -1]\n",
      "[0228_113936]***NEW ITR 87***\n"
     ]
    },
    {
     "name": "stderr",
     "output_type": "stream",
     "text": [
      "100%|██████████████████████████████████████████████████████| 274/274 [00:15<00:00, 17.57it/s]\n",
      "/n/fs/ac-editing/model-editing/src/model/metric.py:168: RuntimeWarning: invalid value encountered in divide\n",
      "  return np.nan_to_num(TPs / (TPs + FPs))\n",
      "/n/fs/ac-editing/model-editing/src/model/metric.py:205: RuntimeWarning: invalid value encountered in divide\n",
      "  return np.nan_to_num(2 * precisions * recalls / (precisions + recalls))\n"
     ]
    },
    {
     "name": "stdout",
     "output_type": "stream",
     "text": [
      "assigned bin_idx 44\n",
      "Cur bump_idx: 41 bump amount: 8.284777230742502 target_class_pred: 61376 bin_idx: 44\n",
      "Overshot to bin 44. Decreasing bump amount to 8.041107312191253 aiming for bin 41\n",
      "bumps: [0.6103515625, 1.862645149230957, 2.3283064365386963, 2.9103830456733704, 3.092281986027956, 3.2741809263825417, 3.637978807091713, 3.865352482534945, 4.092726157978177, 4.220623850414995, 4.348521542851813, 4.547473508864641, 4.689582056016661, 4.831690603168681, 4.9826809345177026, 5.115907697472721, 5.275779813018744, 5.435651928564766, 5.605516051332415, 5.6843418860808015, 5.775380174100064, 5.865620489320378, 5.955860804540691, 6.002390967076165, 6.039613253960852, 6.04892112961164, 6.09617832593673, 6.115108419635362, 6.141981454682588, 6.189965684797295, 6.237949914912003, 6.286683898622252, 6.3281021048244845, 6.394884621840902, 6.497302695862572, 6.627821784594003, 6.794564910705958, 6.805036270813094, 7.21922521762508, 7.561151412014549, 7.797437393640003, -1, -1, -1, 8.284777230742502, -1, -1, -1, 8.772117067845002, -1]\n",
      "[0228_113952]***NEW ITR 88***\n"
     ]
    },
    {
     "name": "stderr",
     "output_type": "stream",
     "text": [
      "100%|██████████████████████████████████████████████████████| 274/274 [00:15<00:00, 17.54it/s]\n",
      "/n/fs/ac-editing/model-editing/src/model/metric.py:168: RuntimeWarning: invalid value encountered in divide\n",
      "  return np.nan_to_num(TPs / (TPs + FPs))\n",
      "/n/fs/ac-editing/model-editing/src/model/metric.py:205: RuntimeWarning: invalid value encountered in divide\n",
      "  return np.nan_to_num(2 * precisions * recalls / (precisions + recalls))\n"
     ]
    },
    {
     "name": "stdout",
     "output_type": "stream",
     "text": [
      "assigned bin_idx 41\n",
      "Cur bump_idx: 41 bump amount: 8.041107312191253 target_class_pred: 58026 bin_idx: 41\n",
      "updating cur_bump_idx to 42, bump_amount to 10.051384140239065\n",
      "bumps: [0.6103515625, 1.862645149230957, 2.3283064365386963, 2.9103830456733704, 3.092281986027956, 3.2741809263825417, 3.637978807091713, 3.865352482534945, 4.092726157978177, 4.220623850414995, 4.348521542851813, 4.547473508864641, 4.689582056016661, 4.831690603168681, 4.9826809345177026, 5.115907697472721, 5.275779813018744, 5.435651928564766, 5.605516051332415, 5.6843418860808015, 5.775380174100064, 5.865620489320378, 5.955860804540691, 6.002390967076165, 6.039613253960852, 6.04892112961164, 6.09617832593673, 6.115108419635362, 6.141981454682588, 6.189965684797295, 6.237949914912003, 6.286683898622252, 6.3281021048244845, 6.394884621840902, 6.497302695862572, 6.627821784594003, 6.794564910705958, 6.805036270813094, 7.21922521762508, 7.561151412014549, 7.797437393640003, 8.041107312191253, -1, -1, 8.284777230742502, -1, -1, -1, 8.772117067845002, -1]\n",
      "[0228_114007]***NEW ITR 89***\n"
     ]
    },
    {
     "name": "stderr",
     "output_type": "stream",
     "text": [
      "100%|██████████████████████████████████████████████████████| 274/274 [00:15<00:00, 17.71it/s]\n",
      "/n/fs/ac-editing/model-editing/src/model/metric.py:168: RuntimeWarning: invalid value encountered in divide\n",
      "  return np.nan_to_num(TPs / (TPs + FPs))\n",
      "/n/fs/ac-editing/model-editing/src/model/metric.py:205: RuntimeWarning: invalid value encountered in divide\n",
      "  return np.nan_to_num(2 * precisions * recalls / (precisions + recalls))\n"
     ]
    },
    {
     "name": "stdout",
     "output_type": "stream",
     "text": [
      "bin_idx > n_bins (51) delta=1.25 new bump_amount: 9.046245726215158\n",
      "[0228_114023]***NEW ITR 90***\n"
     ]
    },
    {
     "name": "stderr",
     "output_type": "stream",
     "text": [
      "100%|██████████████████████████████████████████████████████| 274/274 [00:14<00:00, 18.45it/s]\n",
      "/n/fs/ac-editing/model-editing/src/model/metric.py:168: RuntimeWarning: invalid value encountered in divide\n",
      "  return np.nan_to_num(TPs / (TPs + FPs))\n",
      "/n/fs/ac-editing/model-editing/src/model/metric.py:205: RuntimeWarning: invalid value encountered in divide\n",
      "  return np.nan_to_num(2 * precisions * recalls / (precisions + recalls))\n"
     ]
    },
    {
     "name": "stdout",
     "output_type": "stream",
     "text": [
      "assigned bin_idx 49\n",
      "Cur bump_idx: 42 bump amount: 9.046245726215158 target_class_pred: 67364 bin_idx: 49\n",
      "Overshot to bin 49. Decreasing bump amount to 8.543676519203206 aiming for bin 42\n",
      "bumps: [0.6103515625, 1.862645149230957, 2.3283064365386963, 2.9103830456733704, 3.092281986027956, 3.2741809263825417, 3.637978807091713, 3.865352482534945, 4.092726157978177, 4.220623850414995, 4.348521542851813, 4.547473508864641, 4.689582056016661, 4.831690603168681, 4.9826809345177026, 5.115907697472721, 5.275779813018744, 5.435651928564766, 5.605516051332415, 5.6843418860808015, 5.775380174100064, 5.865620489320378, 5.955860804540691, 6.002390967076165, 6.039613253960852, 6.04892112961164, 6.09617832593673, 6.115108419635362, 6.141981454682588, 6.189965684797295, 6.237949914912003, 6.286683898622252, 6.3281021048244845, 6.394884621840902, 6.497302695862572, 6.627821784594003, 6.794564910705958, 6.805036270813094, 7.21922521762508, 7.561151412014549, 7.797437393640003, 8.041107312191253, -1, -1, 8.284777230742502, -1, -1, -1, 8.772117067845002, 9.046245726215158]\n",
      "[0228_114038]***NEW ITR 91***\n"
     ]
    },
    {
     "name": "stderr",
     "output_type": "stream",
     "text": [
      "100%|██████████████████████████████████████████████████████| 274/274 [00:15<00:00, 17.39it/s]\n",
      "/n/fs/ac-editing/model-editing/src/model/metric.py:168: RuntimeWarning: invalid value encountered in divide\n",
      "  return np.nan_to_num(TPs / (TPs + FPs))\n",
      "/n/fs/ac-editing/model-editing/src/model/metric.py:205: RuntimeWarning: invalid value encountered in divide\n",
      "  return np.nan_to_num(2 * precisions * recalls / (precisions + recalls))\n"
     ]
    },
    {
     "name": "stdout",
     "output_type": "stream",
     "text": [
      "assigned bin_idx 46\n",
      "Cur bump_idx: 42 bump amount: 8.543676519203206 target_class_pred: 64092 bin_idx: 46\n",
      "Overshot to bin 46. Decreasing bump amount to 8.29239191569723 aiming for bin 42\n",
      "bumps: [0.6103515625, 1.862645149230957, 2.3283064365386963, 2.9103830456733704, 3.092281986027956, 3.2741809263825417, 3.637978807091713, 3.865352482534945, 4.092726157978177, 4.220623850414995, 4.348521542851813, 4.547473508864641, 4.689582056016661, 4.831690603168681, 4.9826809345177026, 5.115907697472721, 5.275779813018744, 5.435651928564766, 5.605516051332415, 5.6843418860808015, 5.775380174100064, 5.865620489320378, 5.955860804540691, 6.002390967076165, 6.039613253960852, 6.04892112961164, 6.09617832593673, 6.115108419635362, 6.141981454682588, 6.189965684797295, 6.237949914912003, 6.286683898622252, 6.3281021048244845, 6.394884621840902, 6.497302695862572, 6.627821784594003, 6.794564910705958, 6.805036270813094, 7.21922521762508, 7.561151412014549, 7.797437393640003, 8.041107312191253, -1, -1, 8.284777230742502, -1, 8.543676519203206, -1, 8.772117067845002, 9.046245726215158]\n",
      "[0228_114053]***NEW ITR 92***\n"
     ]
    },
    {
     "name": "stderr",
     "output_type": "stream",
     "text": [
      "100%|██████████████████████████████████████████████████████| 274/274 [00:15<00:00, 17.57it/s]\n",
      "/n/fs/ac-editing/model-editing/src/model/metric.py:168: RuntimeWarning: invalid value encountered in divide\n",
      "  return np.nan_to_num(TPs / (TPs + FPs))\n",
      "/n/fs/ac-editing/model-editing/src/model/metric.py:205: RuntimeWarning: invalid value encountered in divide\n",
      "  return np.nan_to_num(2 * precisions * recalls / (precisions + recalls))\n"
     ]
    },
    {
     "name": "stdout",
     "output_type": "stream",
     "text": [
      "Overshot to bin 44. Decreasing bump amount to 8.16674961394424 aiming for bin 42\n",
      "bumps: [0.6103515625, 1.862645149230957, 2.3283064365386963, 2.9103830456733704, 3.092281986027956, 3.2741809263825417, 3.637978807091713, 3.865352482534945, 4.092726157978177, 4.220623850414995, 4.348521542851813, 4.547473508864641, 4.689582056016661, 4.831690603168681, 4.9826809345177026, 5.115907697472721, 5.275779813018744, 5.435651928564766, 5.605516051332415, 5.6843418860808015, 5.775380174100064, 5.865620489320378, 5.955860804540691, 6.002390967076165, 6.039613253960852, 6.04892112961164, 6.09617832593673, 6.115108419635362, 6.141981454682588, 6.189965684797295, 6.237949914912003, 6.286683898622252, 6.3281021048244845, 6.394884621840902, 6.497302695862572, 6.627821784594003, 6.794564910705958, 6.805036270813094, 7.21922521762508, 7.561151412014549, 7.797437393640003, 8.041107312191253, -1, -1, 8.284777230742502, -1, 8.543676519203206, -1, 8.772117067845002, 9.046245726215158]\n",
      "[0228_114109]***NEW ITR 93***\n"
     ]
    },
    {
     "name": "stderr",
     "output_type": "stream",
     "text": [
      "100%|██████████████████████████████████████████████████████| 274/274 [00:15<00:00, 17.77it/s]\n",
      "/n/fs/ac-editing/model-editing/src/model/metric.py:168: RuntimeWarning: invalid value encountered in divide\n",
      "  return np.nan_to_num(TPs / (TPs + FPs))\n",
      "/n/fs/ac-editing/model-editing/src/model/metric.py:205: RuntimeWarning: invalid value encountered in divide\n",
      "  return np.nan_to_num(2 * precisions * recalls / (precisions + recalls))\n"
     ]
    },
    {
     "name": "stdout",
     "output_type": "stream",
     "text": [
      "assigned bin_idx 43\n",
      "Cur bump_idx: 42 bump amount: 8.16674961394424 target_class_pred: 59768 bin_idx: 43\n",
      "Overshot to bin 43. Decreasing bump amount to 8.103928463067746 aiming for bin 42\n",
      "bumps: [0.6103515625, 1.862645149230957, 2.3283064365386963, 2.9103830456733704, 3.092281986027956, 3.2741809263825417, 3.637978807091713, 3.865352482534945, 4.092726157978177, 4.220623850414995, 4.348521542851813, 4.547473508864641, 4.689582056016661, 4.831690603168681, 4.9826809345177026, 5.115907697472721, 5.275779813018744, 5.435651928564766, 5.605516051332415, 5.6843418860808015, 5.775380174100064, 5.865620489320378, 5.955860804540691, 6.002390967076165, 6.039613253960852, 6.04892112961164, 6.09617832593673, 6.115108419635362, 6.141981454682588, 6.189965684797295, 6.237949914912003, 6.286683898622252, 6.3281021048244845, 6.394884621840902, 6.497302695862572, 6.627821784594003, 6.794564910705958, 6.805036270813094, 7.21922521762508, 7.561151412014549, 7.797437393640003, 8.041107312191253, -1, 8.16674961394424, 8.284777230742502, -1, 8.543676519203206, -1, 8.772117067845002, 9.046245726215158]\n",
      "[0228_114124]***NEW ITR 94***\n"
     ]
    },
    {
     "name": "stderr",
     "output_type": "stream",
     "text": [
      "100%|██████████████████████████████████████████████████████| 274/274 [00:14<00:00, 18.54it/s]\n",
      "/n/fs/ac-editing/model-editing/src/model/metric.py:168: RuntimeWarning: invalid value encountered in divide\n",
      "  return np.nan_to_num(TPs / (TPs + FPs))\n",
      "/n/fs/ac-editing/model-editing/src/model/metric.py:205: RuntimeWarning: invalid value encountered in divide\n",
      "  return np.nan_to_num(2 * precisions * recalls / (precisions + recalls))\n"
     ]
    },
    {
     "name": "stdout",
     "output_type": "stream",
     "text": [
      "assigned bin_idx 42\n",
      "Cur bump_idx: 42 bump amount: 8.103928463067746 target_class_pred: 58859 bin_idx: 42\n",
      "updating cur_bump_idx to 43, bump_amount to 10.129910578834682\n",
      "bumps: [0.6103515625, 1.862645149230957, 2.3283064365386963, 2.9103830456733704, 3.092281986027956, 3.2741809263825417, 3.637978807091713, 3.865352482534945, 4.092726157978177, 4.220623850414995, 4.348521542851813, 4.547473508864641, 4.689582056016661, 4.831690603168681, 4.9826809345177026, 5.115907697472721, 5.275779813018744, 5.435651928564766, 5.605516051332415, 5.6843418860808015, 5.775380174100064, 5.865620489320378, 5.955860804540691, 6.002390967076165, 6.039613253960852, 6.04892112961164, 6.09617832593673, 6.115108419635362, 6.141981454682588, 6.189965684797295, 6.237949914912003, 6.286683898622252, 6.3281021048244845, 6.394884621840902, 6.497302695862572, 6.627821784594003, 6.794564910705958, 6.805036270813094, 7.21922521762508, 7.561151412014549, 7.797437393640003, 8.041107312191253, 8.103928463067746, 8.16674961394424, 8.284777230742502, -1, 8.543676519203206, -1, 8.772117067845002, 9.046245726215158]\n",
      "[0228_114139]***NEW ITR 95***\n",
      "[0228_114139]***NEW ITR 96***\n",
      "[0228_114139]***NEW ITR 97***\n"
     ]
    },
    {
     "name": "stderr",
     "output_type": "stream",
     "text": [
      "100%|██████████████████████████████████████████████████████| 274/274 [00:15<00:00, 17.26it/s]\n",
      "/n/fs/ac-editing/model-editing/src/model/metric.py:168: RuntimeWarning: invalid value encountered in divide\n",
      "  return np.nan_to_num(TPs / (TPs + FPs))\n",
      "/n/fs/ac-editing/model-editing/src/model/metric.py:205: RuntimeWarning: invalid value encountered in divide\n",
      "  return np.nan_to_num(2 * precisions * recalls / (precisions + recalls))\n"
     ]
    },
    {
     "name": "stdout",
     "output_type": "stream",
     "text": [
      "bin_idx < cur_bump_idx (44 and 45) delta=1.25 new bump_amount: 10.355971538428129\n"
     ]
    },
    {
     "name": "stderr",
     "output_type": "stream",
     "text": [
      "100%|██████████████████████████████████████████████████████| 274/274 [00:15<00:00, 17.56it/s]\n",
      "/n/fs/ac-editing/model-editing/src/model/metric.py:168: RuntimeWarning: invalid value encountered in divide\n",
      "  return np.nan_to_num(TPs / (TPs + FPs))\n",
      "/n/fs/ac-editing/model-editing/src/model/metric.py:205: RuntimeWarning: invalid value encountered in divide\n",
      "  return np.nan_to_num(2 * precisions * recalls / (precisions + recalls))\n"
     ]
    },
    {
     "name": "stdout",
     "output_type": "stream",
     "text": [
      "bin_idx > n_bins (51) delta=1.25 new bump_amount: 9.320374384585316\n",
      "[0228_114211]***NEW ITR 98***\n"
     ]
    },
    {
     "name": "stderr",
     "output_type": "stream",
     "text": [
      "100%|██████████████████████████████████████████████████████| 274/274 [00:15<00:00, 17.73it/s]\n",
      "/n/fs/ac-editing/model-editing/src/model/metric.py:168: RuntimeWarning: invalid value encountered in divide\n",
      "  return np.nan_to_num(TPs / (TPs + FPs))\n",
      "/n/fs/ac-editing/model-editing/src/model/metric.py:205: RuntimeWarning: invalid value encountered in divide\n",
      "  return np.nan_to_num(2 * precisions * recalls / (precisions + recalls))\n"
     ]
    },
    {
     "name": "stdout",
     "output_type": "stream",
     "text": [
      "bin_idx > n_bins (51) delta=1.25 new bump_amount: 8.80257580766391\n",
      "[0228_114226]***NEW ITR 99***\n"
     ]
    },
    {
     "name": "stderr",
     "output_type": "stream",
     "text": [
      "100%|██████████████████████████████████████████████████████| 274/274 [00:15<00:00, 18.23it/s]\n",
      "/n/fs/ac-editing/model-editing/src/model/metric.py:168: RuntimeWarning: invalid value encountered in divide\n",
      "  return np.nan_to_num(TPs / (TPs + FPs))\n",
      "/n/fs/ac-editing/model-editing/src/model/metric.py:205: RuntimeWarning: invalid value encountered in divide\n",
      "  return np.nan_to_num(2 * precisions * recalls / (precisions + recalls))\n"
     ]
    },
    {
     "name": "stdout",
     "output_type": "stream",
     "text": [
      "Overshot to bin 48. Decreasing bump amount to 8.543676519203206 aiming for bin 45\n",
      "bumps: [0.6103515625, 1.862645149230957, 2.3283064365386963, 2.9103830456733704, 3.092281986027956, 3.2741809263825417, 3.637978807091713, 3.865352482534945, 4.092726157978177, 4.220623850414995, 4.348521542851813, 4.547473508864641, 4.689582056016661, 4.831690603168681, 4.9826809345177026, 5.115907697472721, 5.275779813018744, 5.435651928564766, 5.605516051332415, 5.6843418860808015, 5.775380174100064, 5.865620489320378, 5.955860804540691, 6.002390967076165, 6.039613253960852, 6.04892112961164, 6.09617832593673, 6.115108419635362, 6.141981454682588, 6.189965684797295, 6.237949914912003, 6.286683898622252, 6.3281021048244845, 6.394884621840902, 6.497302695862572, 6.627821784594003, 6.794564910705958, 6.805036270813094, 7.21922521762508, 7.561151412014549, 7.797437393640003, 8.041107312191253, 8.103928463067746, 8.16674961394424, 8.284777230742502, -1, 8.543676519203206, -1, 8.772117067845002, 9.046245726215158]\n",
      "[0228_114241]***NEW ITR 100***\n"
     ]
    },
    {
     "name": "stderr",
     "output_type": "stream",
     "text": [
      "100%|██████████████████████████████████████████████████████| 274/274 [00:15<00:00, 17.36it/s]\n",
      "/n/fs/ac-editing/model-editing/src/model/metric.py:168: RuntimeWarning: invalid value encountered in divide\n",
      "  return np.nan_to_num(TPs / (TPs + FPs))\n",
      "/n/fs/ac-editing/model-editing/src/model/metric.py:205: RuntimeWarning: invalid value encountered in divide\n",
      "  return np.nan_to_num(2 * precisions * recalls / (precisions + recalls))\n"
     ]
    },
    {
     "name": "stdout",
     "output_type": "stream",
     "text": [
      "Overshot to bin 46. Decreasing bump amount to 8.414226874972854 aiming for bin 45\n",
      "bumps: [0.6103515625, 1.862645149230957, 2.3283064365386963, 2.9103830456733704, 3.092281986027956, 3.2741809263825417, 3.637978807091713, 3.865352482534945, 4.092726157978177, 4.220623850414995, 4.348521542851813, 4.547473508864641, 4.689582056016661, 4.831690603168681, 4.9826809345177026, 5.115907697472721, 5.275779813018744, 5.435651928564766, 5.605516051332415, 5.6843418860808015, 5.775380174100064, 5.865620489320378, 5.955860804540691, 6.002390967076165, 6.039613253960852, 6.04892112961164, 6.09617832593673, 6.115108419635362, 6.141981454682588, 6.189965684797295, 6.237949914912003, 6.286683898622252, 6.3281021048244845, 6.394884621840902, 6.497302695862572, 6.627821784594003, 6.794564910705958, 6.805036270813094, 7.21922521762508, 7.561151412014549, 7.797437393640003, 8.041107312191253, 8.103928463067746, 8.16674961394424, 8.284777230742502, -1, 8.543676519203206, -1, 8.772117067845002, 9.046245726215158]\n",
      "[0228_114257]***NEW ITR 101***\n"
     ]
    },
    {
     "name": "stderr",
     "output_type": "stream",
     "text": [
      "100%|██████████████████████████████████████████████████████| 274/274 [00:15<00:00, 17.60it/s]\n",
      "/n/fs/ac-editing/model-editing/src/model/metric.py:168: RuntimeWarning: invalid value encountered in divide\n",
      "  return np.nan_to_num(TPs / (TPs + FPs))\n",
      "/n/fs/ac-editing/model-editing/src/model/metric.py:205: RuntimeWarning: invalid value encountered in divide\n",
      "  return np.nan_to_num(2 * precisions * recalls / (precisions + recalls))\n"
     ]
    },
    {
     "name": "stdout",
     "output_type": "stream",
     "text": [
      "assigned bin_idx 45\n",
      "Cur bump_idx: 45 bump amount: 8.414226874972854 target_class_pred: 62828 bin_idx: 45\n",
      "updating cur_bump_idx to 46, bump_amount to 10.517783593716068\n",
      "bumps: [0.6103515625, 1.862645149230957, 2.3283064365386963, 2.9103830456733704, 3.092281986027956, 3.2741809263825417, 3.637978807091713, 3.865352482534945, 4.092726157978177, 4.220623850414995, 4.348521542851813, 4.547473508864641, 4.689582056016661, 4.831690603168681, 4.9826809345177026, 5.115907697472721, 5.275779813018744, 5.435651928564766, 5.605516051332415, 5.6843418860808015, 5.775380174100064, 5.865620489320378, 5.955860804540691, 6.002390967076165, 6.039613253960852, 6.04892112961164, 6.09617832593673, 6.115108419635362, 6.141981454682588, 6.189965684797295, 6.237949914912003, 6.286683898622252, 6.3281021048244845, 6.394884621840902, 6.497302695862572, 6.627821784594003, 6.794564910705958, 6.805036270813094, 7.21922521762508, 7.561151412014549, 7.797437393640003, 8.041107312191253, 8.103928463067746, 8.16674961394424, 8.284777230742502, 8.414226874972854, 8.543676519203206, -1, 8.772117067845002, 9.046245726215158]\n",
      "[0228_114313]***NEW ITR 102***\n",
      "[0228_114313]***NEW ITR 103***\n"
     ]
    },
    {
     "name": "stderr",
     "output_type": "stream",
     "text": [
      "100%|██████████████████████████████████████████████████████| 274/274 [00:15<00:00, 17.68it/s]\n",
      "/n/fs/ac-editing/model-editing/src/model/metric.py:168: RuntimeWarning: invalid value encountered in divide\n",
      "  return np.nan_to_num(TPs / (TPs + FPs))\n",
      "/n/fs/ac-editing/model-editing/src/model/metric.py:205: RuntimeWarning: invalid value encountered in divide\n",
      "  return np.nan_to_num(2 * precisions * recalls / (precisions + recalls))\n"
     ]
    },
    {
     "name": "stdout",
     "output_type": "stream",
     "text": [
      "bin_idx < cur_bump_idx (46 and 47) delta=1.25 new bump_amount: 10.679595649004007\n"
     ]
    },
    {
     "name": "stderr",
     "output_type": "stream",
     "text": [
      "100%|██████████████████████████████████████████████████████| 274/274 [00:14<00:00, 18.32it/s]\n",
      "/n/fs/ac-editing/model-editing/src/model/metric.py:168: RuntimeWarning: invalid value encountered in divide\n",
      "  return np.nan_to_num(TPs / (TPs + FPs))\n",
      "/n/fs/ac-editing/model-editing/src/model/metric.py:205: RuntimeWarning: invalid value encountered in divide\n",
      "  return np.nan_to_num(2 * precisions * recalls / (precisions + recalls))\n"
     ]
    },
    {
     "name": "stdout",
     "output_type": "stream",
     "text": [
      "bin_idx > n_bins (51) delta=1.25 new bump_amount: 9.611636084103607\n",
      "[0228_114343]***NEW ITR 104***\n"
     ]
    },
    {
     "name": "stderr",
     "output_type": "stream",
     "text": [
      "100%|██████████████████████████████████████████████████████| 274/274 [00:15<00:00, 17.14it/s]\n",
      "/n/fs/ac-editing/model-editing/src/model/metric.py:168: RuntimeWarning: invalid value encountered in divide\n",
      "  return np.nan_to_num(TPs / (TPs + FPs))\n",
      "/n/fs/ac-editing/model-editing/src/model/metric.py:205: RuntimeWarning: invalid value encountered in divide\n",
      "  return np.nan_to_num(2 * precisions * recalls / (precisions + recalls))\n"
     ]
    },
    {
     "name": "stdout",
     "output_type": "stream",
     "text": [
      "bin_idx > n_bins (51) delta=1.25 new bump_amount: 9.077656301653406\n",
      "[0228_114359]***NEW ITR 105***\n"
     ]
    },
    {
     "name": "stderr",
     "output_type": "stream",
     "text": [
      "100%|██████████████████████████████████████████████████████| 274/274 [00:15<00:00, 17.62it/s]\n",
      "/n/fs/ac-editing/model-editing/src/model/metric.py:168: RuntimeWarning: invalid value encountered in divide\n",
      "  return np.nan_to_num(TPs / (TPs + FPs))\n",
      "/n/fs/ac-editing/model-editing/src/model/metric.py:205: RuntimeWarning: invalid value encountered in divide\n",
      "  return np.nan_to_num(2 * precisions * recalls / (precisions + recalls))\n"
     ]
    },
    {
     "name": "stdout",
     "output_type": "stream",
     "text": [
      "Overshot to bin 49. Decreasing bump amount to 8.810666410428306 aiming for bin 47\n",
      "bumps: [0.6103515625, 1.862645149230957, 2.3283064365386963, 2.9103830456733704, 3.092281986027956, 3.2741809263825417, 3.637978807091713, 3.865352482534945, 4.092726157978177, 4.220623850414995, 4.348521542851813, 4.547473508864641, 4.689582056016661, 4.831690603168681, 4.9826809345177026, 5.115907697472721, 5.275779813018744, 5.435651928564766, 5.605516051332415, 5.6843418860808015, 5.775380174100064, 5.865620489320378, 5.955860804540691, 6.002390967076165, 6.039613253960852, 6.04892112961164, 6.09617832593673, 6.115108419635362, 6.141981454682588, 6.189965684797295, 6.237949914912003, 6.286683898622252, 6.3281021048244845, 6.394884621840902, 6.497302695862572, 6.627821784594003, 6.794564910705958, 6.805036270813094, 7.21922521762508, 7.561151412014549, 7.797437393640003, 8.041107312191253, 8.103928463067746, 8.16674961394424, 8.284777230742502, 8.414226874972854, 8.543676519203206, -1, 8.772117067845002, 9.046245726215158]\n",
      "[0228_114415]***NEW ITR 106***\n"
     ]
    },
    {
     "name": "stderr",
     "output_type": "stream",
     "text": [
      "100%|██████████████████████████████████████████████████████| 274/274 [00:15<00:00, 17.76it/s]\n",
      "/n/fs/ac-editing/model-editing/src/model/metric.py:168: RuntimeWarning: invalid value encountered in divide\n",
      "  return np.nan_to_num(TPs / (TPs + FPs))\n",
      "/n/fs/ac-editing/model-editing/src/model/metric.py:205: RuntimeWarning: invalid value encountered in divide\n",
      "  return np.nan_to_num(2 * precisions * recalls / (precisions + recalls))\n"
     ]
    },
    {
     "name": "stdout",
     "output_type": "stream",
     "text": [
      "Overshot to bin 48. Decreasing bump amount to 8.677171464815757 aiming for bin 47\n",
      "bumps: [0.6103515625, 1.862645149230957, 2.3283064365386963, 2.9103830456733704, 3.092281986027956, 3.2741809263825417, 3.637978807091713, 3.865352482534945, 4.092726157978177, 4.220623850414995, 4.348521542851813, 4.547473508864641, 4.689582056016661, 4.831690603168681, 4.9826809345177026, 5.115907697472721, 5.275779813018744, 5.435651928564766, 5.605516051332415, 5.6843418860808015, 5.775380174100064, 5.865620489320378, 5.955860804540691, 6.002390967076165, 6.039613253960852, 6.04892112961164, 6.09617832593673, 6.115108419635362, 6.141981454682588, 6.189965684797295, 6.237949914912003, 6.286683898622252, 6.3281021048244845, 6.394884621840902, 6.497302695862572, 6.627821784594003, 6.794564910705958, 6.805036270813094, 7.21922521762508, 7.561151412014549, 7.797437393640003, 8.041107312191253, 8.103928463067746, 8.16674961394424, 8.284777230742502, 8.414226874972854, 8.543676519203206, -1, 8.772117067845002, 9.046245726215158]\n",
      "[0228_114430]***NEW ITR 107***\n"
     ]
    },
    {
     "name": "stderr",
     "output_type": "stream",
     "text": [
      "100%|██████████████████████████████████████████████████████| 274/274 [00:15<00:00, 18.24it/s]\n",
      "/n/fs/ac-editing/model-editing/src/model/metric.py:168: RuntimeWarning: invalid value encountered in divide\n",
      "  return np.nan_to_num(TPs / (TPs + FPs))\n",
      "/n/fs/ac-editing/model-editing/src/model/metric.py:205: RuntimeWarning: invalid value encountered in divide\n",
      "  return np.nan_to_num(2 * precisions * recalls / (precisions + recalls))\n"
     ]
    },
    {
     "name": "stdout",
     "output_type": "stream",
     "text": [
      "Overshot to bin 48. Decreasing bump amount to 8.610423992009482 aiming for bin 47\n",
      "bumps: [0.6103515625, 1.862645149230957, 2.3283064365386963, 2.9103830456733704, 3.092281986027956, 3.2741809263825417, 3.637978807091713, 3.865352482534945, 4.092726157978177, 4.220623850414995, 4.348521542851813, 4.547473508864641, 4.689582056016661, 4.831690603168681, 4.9826809345177026, 5.115907697472721, 5.275779813018744, 5.435651928564766, 5.605516051332415, 5.6843418860808015, 5.775380174100064, 5.865620489320378, 5.955860804540691, 6.002390967076165, 6.039613253960852, 6.04892112961164, 6.09617832593673, 6.115108419635362, 6.141981454682588, 6.189965684797295, 6.237949914912003, 6.286683898622252, 6.3281021048244845, 6.394884621840902, 6.497302695862572, 6.627821784594003, 6.794564910705958, 6.805036270813094, 7.21922521762508, 7.561151412014549, 7.797437393640003, 8.041107312191253, 8.103928463067746, 8.16674961394424, 8.284777230742502, 8.414226874972854, 8.543676519203206, -1, 8.772117067845002, 9.046245726215158]\n",
      "[0228_114445]***NEW ITR 108***\n"
     ]
    },
    {
     "name": "stderr",
     "output_type": "stream",
     "text": [
      "100%|██████████████████████████████████████████████████████| 274/274 [00:15<00:00, 17.35it/s]\n",
      "/n/fs/ac-editing/model-editing/src/model/metric.py:168: RuntimeWarning: invalid value encountered in divide\n",
      "  return np.nan_to_num(TPs / (TPs + FPs))\n",
      "/n/fs/ac-editing/model-editing/src/model/metric.py:205: RuntimeWarning: invalid value encountered in divide\n",
      "  return np.nan_to_num(2 * precisions * recalls / (precisions + recalls))\n"
     ]
    },
    {
     "name": "stdout",
     "output_type": "stream",
     "text": [
      "assigned bin_idx 47\n",
      "Cur bump_idx: 47 bump amount: 8.610423992009482 target_class_pred: 64767 bin_idx: 47\n",
      "updating cur_bump_idx to 48, bump_amount to 10.763029990011852\n",
      "bumps: [0.6103515625, 1.862645149230957, 2.3283064365386963, 2.9103830456733704, 3.092281986027956, 3.2741809263825417, 3.637978807091713, 3.865352482534945, 4.092726157978177, 4.220623850414995, 4.348521542851813, 4.547473508864641, 4.689582056016661, 4.831690603168681, 4.9826809345177026, 5.115907697472721, 5.275779813018744, 5.435651928564766, 5.605516051332415, 5.6843418860808015, 5.775380174100064, 5.865620489320378, 5.955860804540691, 6.002390967076165, 6.039613253960852, 6.04892112961164, 6.09617832593673, 6.115108419635362, 6.141981454682588, 6.189965684797295, 6.237949914912003, 6.286683898622252, 6.3281021048244845, 6.394884621840902, 6.497302695862572, 6.627821784594003, 6.794564910705958, 6.805036270813094, 7.21922521762508, 7.561151412014549, 7.797437393640003, 8.041107312191253, 8.103928463067746, 8.16674961394424, 8.284777230742502, 8.414226874972854, 8.543676519203206, 8.610423992009482, 8.772117067845002, 9.046245726215158]\n",
      "[0228_114501]***NEW ITR 109***\n",
      "[0228_114501]***NEW ITR 110***\n",
      "Saved data to saved/edit_eac/experiments/bump_edits/CINIC10_ImageNet-VGG_16/0208_112555/frog_100/bumps_preds_metrics.pth\n",
      "Obtaining class distribution for horse from saved/edit_eac/trials/CINIC10_ImageNet-VGG_16/horse_100/0127_103716/target_class_distribution.pth\n",
      "Saving results to saved/edit_eac/experiments/bump_edits/CINIC10_ImageNet-VGG_16/0208_112555/horse_100\n"
     ]
    },
    {
     "name": "stderr",
     "output_type": "stream",
     "text": [
      "100%|██████████████████████████████████████████████████████| 274/274 [00:15<00:00, 17.60it/s]\n"
     ]
    },
    {
     "name": "stdout",
     "output_type": "stream",
     "text": [
      "[0228_114517]***NEW ITR 1***\n"
     ]
    },
    {
     "name": "stderr",
     "output_type": "stream",
     "text": [
      "100%|██████████████████████████████████████████████████████| 274/274 [00:15<00:00, 17.67it/s]\n"
     ]
    },
    {
     "name": "stdout",
     "output_type": "stream",
     "text": [
      "assigned bin_idx 0\n",
      "Cur bump_idx: 0 bump amount: 0.2 target_class_pred: 6540 bin_idx: 0\n",
      "updating cur_bump_idx to 1, bump_amount to 0.25\n",
      "bumps: [0.2, -1, -1, -1, -1, -1, -1, -1, -1, -1, -1, -1, -1, -1, -1, -1, -1, -1, -1, -1, -1, -1, -1, -1, -1, -1, -1, -1, -1, -1, -1, -1, -1, -1, -1, -1, -1, -1, -1, -1, -1, -1, -1, -1, -1, -1, -1, -1, -1, -1]\n",
      "[0228_114532]***NEW ITR 2***\n"
     ]
    },
    {
     "name": "stderr",
     "output_type": "stream",
     "text": [
      "100%|██████████████████████████████████████████████████████| 274/274 [00:15<00:00, 18.17it/s]\n"
     ]
    },
    {
     "name": "stdout",
     "output_type": "stream",
     "text": [
      "bin_idx < cur_bump_idx (0 and 1) delta=1.25 new bump_amount: 0.3125\n"
     ]
    },
    {
     "name": "stderr",
     "output_type": "stream",
     "text": [
      "100%|██████████████████████████████████████████████████████| 274/274 [00:15<00:00, 17.16it/s]\n"
     ]
    },
    {
     "name": "stdout",
     "output_type": "stream",
     "text": [
      "bin_idx < cur_bump_idx (0 and 1) delta=1.25 new bump_amount: 0.390625\n"
     ]
    },
    {
     "name": "stderr",
     "output_type": "stream",
     "text": [
      "100%|██████████████████████████████████████████████████████| 274/274 [00:15<00:00, 17.59it/s]\n"
     ]
    },
    {
     "name": "stdout",
     "output_type": "stream",
     "text": [
      "bin_idx < cur_bump_idx (0 and 1) delta=1.25 new bump_amount: 0.48828125\n"
     ]
    },
    {
     "name": "stderr",
     "output_type": "stream",
     "text": [
      "100%|██████████████████████████████████████████████████████| 274/274 [00:15<00:00, 17.72it/s]\n"
     ]
    },
    {
     "name": "stdout",
     "output_type": "stream",
     "text": [
      "bin_idx < cur_bump_idx (0 and 1) delta=1.25 new bump_amount: 0.6103515625\n"
     ]
    },
    {
     "name": "stderr",
     "output_type": "stream",
     "text": [
      "100%|██████████████████████████████████████████████████████| 274/274 [00:15<00:00, 18.26it/s]\n"
     ]
    },
    {
     "name": "stdout",
     "output_type": "stream",
     "text": [
      "assigned bin_idx 1\n",
      "Cur bump_idx: 1 bump amount: 0.6103515625 target_class_pred: 6859 bin_idx: 1\n",
      "updating cur_bump_idx to 2, bump_amount to 0.762939453125\n",
      "bumps: [0.2, 0.6103515625, -1, -1, -1, -1, -1, -1, -1, -1, -1, -1, -1, -1, -1, -1, -1, -1, -1, -1, -1, -1, -1, -1, -1, -1, -1, -1, -1, -1, -1, -1, -1, -1, -1, -1, -1, -1, -1, -1, -1, -1, -1, -1, -1, -1, -1, -1, -1, -1]\n",
      "[0228_114650]***NEW ITR 3***\n"
     ]
    },
    {
     "name": "stderr",
     "output_type": "stream",
     "text": [
      "100%|██████████████████████████████████████████████████████| 274/274 [00:15<00:00, 17.27it/s]\n"
     ]
    },
    {
     "name": "stdout",
     "output_type": "stream",
     "text": [
      "bin_idx < cur_bump_idx (1 and 2) delta=1.25 new bump_amount: 0.95367431640625\n"
     ]
    },
    {
     "name": "stderr",
     "output_type": "stream",
     "text": [
      "100%|██████████████████████████████████████████████████████| 274/274 [00:15<00:00, 17.49it/s]\n"
     ]
    },
    {
     "name": "stdout",
     "output_type": "stream",
     "text": [
      "bin_idx < cur_bump_idx (1 and 2) delta=1.25 new bump_amount: 1.1920928955078125\n"
     ]
    },
    {
     "name": "stderr",
     "output_type": "stream",
     "text": [
      "100%|██████████████████████████████████████████████████████| 274/274 [00:15<00:00, 17.67it/s]\n"
     ]
    },
    {
     "name": "stdout",
     "output_type": "stream",
     "text": [
      "assigned bin_idx 2\n",
      "Cur bump_idx: 2 bump amount: 1.1920928955078125 target_class_pred: 7405 bin_idx: 2\n",
      "updating cur_bump_idx to 3, bump_amount to 1.4901161193847656\n",
      "bumps: [0.2, 0.6103515625, 1.1920928955078125, -1, -1, -1, -1, -1, -1, -1, -1, -1, -1, -1, -1, -1, -1, -1, -1, -1, -1, -1, -1, -1, -1, -1, -1, -1, -1, -1, -1, -1, -1, -1, -1, -1, -1, -1, -1, -1, -1, -1, -1, -1, -1, -1, -1, -1, -1, -1]\n",
      "[0228_114737]***NEW ITR 4***\n"
     ]
    },
    {
     "name": "stderr",
     "output_type": "stream",
     "text": [
      "100%|██████████████████████████████████████████████████████| 274/274 [00:14<00:00, 18.44it/s]\n"
     ]
    },
    {
     "name": "stdout",
     "output_type": "stream",
     "text": [
      "bin_idx < cur_bump_idx (2 and 3) delta=1.25 new bump_amount: 1.862645149230957\n"
     ]
    },
    {
     "name": "stderr",
     "output_type": "stream",
     "text": [
      "100%|██████████████████████████████████████████████████████| 274/274 [00:15<00:00, 17.13it/s]\n"
     ]
    },
    {
     "name": "stdout",
     "output_type": "stream",
     "text": [
      "assigned bin_idx 3\n",
      "Cur bump_idx: 3 bump amount: 1.862645149230957 target_class_pred: 8209 bin_idx: 3\n",
      "updating cur_bump_idx to 4, bump_amount to 2.3283064365386963\n",
      "bumps: [0.2, 0.6103515625, 1.1920928955078125, 1.862645149230957, -1, -1, -1, -1, -1, -1, -1, -1, -1, -1, -1, -1, -1, -1, -1, -1, -1, -1, -1, -1, -1, -1, -1, -1, -1, -1, -1, -1, -1, -1, -1, -1, -1, -1, -1, -1, -1, -1, -1, -1, -1, -1, -1, -1, -1, -1]\n",
      "[0228_114808]***NEW ITR 5***\n"
     ]
    },
    {
     "name": "stderr",
     "output_type": "stream",
     "text": [
      "100%|██████████████████████████████████████████████████████| 274/274 [00:15<00:00, 17.45it/s]\n"
     ]
    },
    {
     "name": "stdout",
     "output_type": "stream",
     "text": [
      "assigned bin_idx 4\n",
      "Cur bump_idx: 4 bump amount: 2.3283064365386963 target_class_pred: 9057 bin_idx: 4\n",
      "updating cur_bump_idx to 5, bump_amount to 2.9103830456733704\n",
      "bumps: [0.2, 0.6103515625, 1.1920928955078125, 1.862645149230957, 2.3283064365386963, -1, -1, -1, -1, -1, -1, -1, -1, -1, -1, -1, -1, -1, -1, -1, -1, -1, -1, -1, -1, -1, -1, -1, -1, -1, -1, -1, -1, -1, -1, -1, -1, -1, -1, -1, -1, -1, -1, -1, -1, -1, -1, -1, -1, -1]\n",
      "[0228_114823]***NEW ITR 6***\n"
     ]
    },
    {
     "name": "stderr",
     "output_type": "stream",
     "text": [
      "100%|██████████████████████████████████████████████████████| 274/274 [00:15<00:00, 17.89it/s]\n"
     ]
    },
    {
     "name": "stdout",
     "output_type": "stream",
     "text": [
      "assigned bin_idx 7\n",
      "Cur bump_idx: 5 bump amount: 2.9103830456733704 target_class_pred: 10704 bin_idx: 7\n",
      "Overshot to bin 7. Decreasing bump amount to 2.6193447411060333 aiming for bin 5\n",
      "bumps: [0.2, 0.6103515625, 1.1920928955078125, 1.862645149230957, 2.3283064365386963, -1, -1, 2.9103830456733704, -1, -1, -1, -1, -1, -1, -1, -1, -1, -1, -1, -1, -1, -1, -1, -1, -1, -1, -1, -1, -1, -1, -1, -1, -1, -1, -1, -1, -1, -1, -1, -1, -1, -1, -1, -1, -1, -1, -1, -1, -1, -1]\n",
      "[0228_114839]***NEW ITR 7***\n"
     ]
    },
    {
     "name": "stderr",
     "output_type": "stream",
     "text": [
      "100%|██████████████████████████████████████████████████████| 274/274 [00:14<00:00, 18.45it/s]\n"
     ]
    },
    {
     "name": "stdout",
     "output_type": "stream",
     "text": [
      "assigned bin_idx 6\n",
      "Cur bump_idx: 5 bump amount: 2.6193447411060333 target_class_pred: 9771 bin_idx: 6\n",
      "Overshot to bin 6. Decreasing bump amount to 2.473825588822365 aiming for bin 5\n",
      "bumps: [0.2, 0.6103515625, 1.1920928955078125, 1.862645149230957, 2.3283064365386963, -1, 2.6193447411060333, 2.9103830456733704, -1, -1, -1, -1, -1, -1, -1, -1, -1, -1, -1, -1, -1, -1, -1, -1, -1, -1, -1, -1, -1, -1, -1, -1, -1, -1, -1, -1, -1, -1, -1, -1, -1, -1, -1, -1, -1, -1, -1, -1, -1, -1]\n",
      "[0228_114854]***NEW ITR 8***\n"
     ]
    },
    {
     "name": "stderr",
     "output_type": "stream",
     "text": [
      "100%|██████████████████████████████████████████████████████| 274/274 [00:15<00:00, 17.19it/s]\n"
     ]
    },
    {
     "name": "stdout",
     "output_type": "stream",
     "text": [
      "assigned bin_idx 5\n",
      "Cur bump_idx: 5 bump amount: 2.473825588822365 target_class_pred: 9389 bin_idx: 5\n",
      "updating cur_bump_idx to 6, bump_amount to 3.092281986027956\n",
      "bumps: [0.2, 0.6103515625, 1.1920928955078125, 1.862645149230957, 2.3283064365386963, 2.473825588822365, 2.6193447411060333, 2.9103830456733704, -1, -1, -1, -1, -1, -1, -1, -1, -1, -1, -1, -1, -1, -1, -1, -1, -1, -1, -1, -1, -1, -1, -1, -1, -1, -1, -1, -1, -1, -1, -1, -1, -1, -1, -1, -1, -1, -1, -1, -1, -1, -1]\n",
      "[0228_114909]***NEW ITR 9***\n",
      "[0228_114909]***NEW ITR 10***\n",
      "[0228_114909]***NEW ITR 11***\n"
     ]
    },
    {
     "name": "stderr",
     "output_type": "stream",
     "text": [
      "100%|██████████████████████████████████████████████████████| 274/274 [00:15<00:00, 17.49it/s]\n"
     ]
    },
    {
     "name": "stdout",
     "output_type": "stream",
     "text": [
      "bin_idx < cur_bump_idx (7 and 8) delta=1.25 new bump_amount: 3.637978807091713\n"
     ]
    },
    {
     "name": "stderr",
     "output_type": "stream",
     "text": [
      "100%|██████████████████████████████████████████████████████| 274/274 [00:15<00:00, 17.68it/s]\n"
     ]
    },
    {
     "name": "stdout",
     "output_type": "stream",
     "text": [
      "assigned bin_idx 13\n",
      "Cur bump_idx: 8 bump amount: 3.637978807091713 target_class_pred: 14139 bin_idx: 13\n",
      "Overshot to bin 13. Decreasing bump amount to 3.2741809263825417 aiming for bin 8\n",
      "bumps: [0.2, 0.6103515625, 1.1920928955078125, 1.862645149230957, 2.3283064365386963, 2.473825588822365, 2.6193447411060333, 2.9103830456733704, -1, -1, -1, -1, -1, 3.637978807091713, -1, -1, -1, -1, -1, -1, -1, -1, -1, -1, -1, -1, -1, -1, -1, -1, -1, -1, -1, -1, -1, -1, -1, -1, -1, -1, -1, -1, -1, -1, -1, -1, -1, -1, -1, -1]\n",
      "[0228_114941]***NEW ITR 12***\n"
     ]
    },
    {
     "name": "stderr",
     "output_type": "stream",
     "text": [
      "100%|██████████████████████████████████████████████████████| 274/274 [00:15<00:00, 18.14it/s]\n"
     ]
    },
    {
     "name": "stdout",
     "output_type": "stream",
     "text": [
      "assigned bin_idx 10\n",
      "Cur bump_idx: 8 bump amount: 3.2741809263825417 target_class_pred: 12217 bin_idx: 10\n",
      "Overshot to bin 10. Decreasing bump amount to 3.092281986027956 aiming for bin 8\n",
      "bumps: [0.2, 0.6103515625, 1.1920928955078125, 1.862645149230957, 2.3283064365386963, 2.473825588822365, 2.6193447411060333, 2.9103830456733704, -1, -1, 3.2741809263825417, -1, -1, 3.637978807091713, -1, -1, -1, -1, -1, -1, -1, -1, -1, -1, -1, -1, -1, -1, -1, -1, -1, -1, -1, -1, -1, -1, -1, -1, -1, -1, -1, -1, -1, -1, -1, -1, -1, -1, -1, -1]\n",
      "[0228_114956]***NEW ITR 13***\n"
     ]
    },
    {
     "name": "stderr",
     "output_type": "stream",
     "text": [
      "100%|██████████████████████████████████████████████████████| 274/274 [00:15<00:00, 17.17it/s]\n"
     ]
    },
    {
     "name": "stdout",
     "output_type": "stream",
     "text": [
      "assigned bin_idx 9\n",
      "Cur bump_idx: 8 bump amount: 3.092281986027956 target_class_pred: 11440 bin_idx: 9\n",
      "Overshot to bin 9. Decreasing bump amount to 3.001332515850663 aiming for bin 8\n",
      "bumps: [0.2, 0.6103515625, 1.1920928955078125, 1.862645149230957, 2.3283064365386963, 2.473825588822365, 2.6193447411060333, 2.9103830456733704, -1, 3.092281986027956, 3.2741809263825417, -1, -1, 3.637978807091713, -1, -1, -1, -1, -1, -1, -1, -1, -1, -1, -1, -1, -1, -1, -1, -1, -1, -1, -1, -1, -1, -1, -1, -1, -1, -1, -1, -1, -1, -1, -1, -1, -1, -1, -1, -1]\n",
      "[0228_115012]***NEW ITR 14***\n"
     ]
    },
    {
     "name": "stderr",
     "output_type": "stream",
     "text": [
      "100%|██████████████████████████████████████████████████████| 274/274 [00:15<00:00, 17.57it/s]\n"
     ]
    },
    {
     "name": "stdout",
     "output_type": "stream",
     "text": [
      "assigned bin_idx 8\n",
      "Cur bump_idx: 8 bump amount: 3.001332515850663 target_class_pred: 11065 bin_idx: 8\n",
      "updating cur_bump_idx to 9, bump_amount to 3.751665644813329\n",
      "bumps: [0.2, 0.6103515625, 1.1920928955078125, 1.862645149230957, 2.3283064365386963, 2.473825588822365, 2.6193447411060333, 2.9103830456733704, 3.001332515850663, 3.092281986027956, 3.2741809263825417, -1, -1, 3.637978807091713, -1, -1, -1, -1, -1, -1, -1, -1, -1, -1, -1, -1, -1, -1, -1, -1, -1, -1, -1, -1, -1, -1, -1, -1, -1, -1, -1, -1, -1, -1, -1, -1, -1, -1, -1, -1]\n",
      "[0228_115027]***NEW ITR 15***\n",
      "[0228_115027]***NEW ITR 16***\n",
      "[0228_115027]***NEW ITR 17***\n"
     ]
    },
    {
     "name": "stderr",
     "output_type": "stream",
     "text": [
      "100%|██████████████████████████████████████████████████████| 274/274 [00:15<00:00, 17.75it/s]\n"
     ]
    },
    {
     "name": "stdout",
     "output_type": "stream",
     "text": [
      "bin_idx < cur_bump_idx (10 and 11) delta=1.25 new bump_amount: 4.092726157978177\n"
     ]
    },
    {
     "name": "stderr",
     "output_type": "stream",
     "text": [
      "100%|██████████████████████████████████████████████████████| 274/274 [00:15<00:00, 18.26it/s]\n"
     ]
    },
    {
     "name": "stdout",
     "output_type": "stream",
     "text": [
      "assigned bin_idx 19\n",
      "Cur bump_idx: 11 bump amount: 4.092726157978177 target_class_pred: 17202 bin_idx: 19\n",
      "Overshot to bin 19. Decreasing bump amount to 3.6834535421803594 aiming for bin 11\n",
      "bumps: [0.2, 0.6103515625, 1.1920928955078125, 1.862645149230957, 2.3283064365386963, 2.473825588822365, 2.6193447411060333, 2.9103830456733704, 3.001332515850663, 3.092281986027956, 3.2741809263825417, -1, -1, 3.637978807091713, -1, -1, -1, -1, -1, 4.092726157978177, -1, -1, -1, -1, -1, -1, -1, -1, -1, -1, -1, -1, -1, -1, -1, -1, -1, -1, -1, -1, -1, -1, -1, -1, -1, -1, -1, -1, -1, -1]\n",
      "[0228_115058]***NEW ITR 18***\n"
     ]
    },
    {
     "name": "stderr",
     "output_type": "stream",
     "text": [
      "100%|██████████████████████████████████████████████████████| 274/274 [00:15<00:00, 17.22it/s]\n"
     ]
    },
    {
     "name": "stdout",
     "output_type": "stream",
     "text": [
      "assigned bin_idx 14\n",
      "Cur bump_idx: 11 bump amount: 3.6834535421803594 target_class_pred: 14425 bin_idx: 14\n",
      "Overshot to bin 14. Decreasing bump amount to 3.4788172342814505 aiming for bin 11\n",
      "bumps: [0.2, 0.6103515625, 1.1920928955078125, 1.862645149230957, 2.3283064365386963, 2.473825588822365, 2.6193447411060333, 2.9103830456733704, 3.001332515850663, 3.092281986027956, 3.2741809263825417, -1, -1, 3.637978807091713, 3.6834535421803594, -1, -1, -1, -1, 4.092726157978177, -1, -1, -1, -1, -1, -1, -1, -1, -1, -1, -1, -1, -1, -1, -1, -1, -1, -1, -1, -1, -1, -1, -1, -1, -1, -1, -1, -1, -1, -1]\n",
      "[0228_115114]***NEW ITR 19***\n"
     ]
    },
    {
     "name": "stderr",
     "output_type": "stream",
     "text": [
      "100%|██████████████████████████████████████████████████████| 274/274 [00:15<00:00, 17.62it/s]\n"
     ]
    },
    {
     "name": "stdout",
     "output_type": "stream",
     "text": [
      "assigned bin_idx 12\n",
      "Cur bump_idx: 11 bump amount: 3.4788172342814505 target_class_pred: 13244 bin_idx: 12\n",
      "Overshot to bin 12. Decreasing bump amount to 3.376499080331996 aiming for bin 11\n",
      "bumps: [0.2, 0.6103515625, 1.1920928955078125, 1.862645149230957, 2.3283064365386963, 2.473825588822365, 2.6193447411060333, 2.9103830456733704, 3.001332515850663, 3.092281986027956, 3.2741809263825417, -1, 3.4788172342814505, 3.637978807091713, 3.6834535421803594, -1, -1, -1, -1, 4.092726157978177, -1, -1, -1, -1, -1, -1, -1, -1, -1, -1, -1, -1, -1, -1, -1, -1, -1, -1, -1, -1, -1, -1, -1, -1, -1, -1, -1, -1, -1, -1]\n",
      "[0228_115129]***NEW ITR 20***\n"
     ]
    },
    {
     "name": "stderr",
     "output_type": "stream",
     "text": [
      "100%|██████████████████████████████████████████████████████| 274/274 [00:15<00:00, 17.83it/s]\n"
     ]
    },
    {
     "name": "stdout",
     "output_type": "stream",
     "text": [
      "assigned bin_idx 11\n",
      "Cur bump_idx: 11 bump amount: 3.376499080331996 target_class_pred: 12733 bin_idx: 11\n",
      "updating cur_bump_idx to 12, bump_amount to 4.220623850414995\n",
      "bumps: [0.2, 0.6103515625, 1.1920928955078125, 1.862645149230957, 2.3283064365386963, 2.473825588822365, 2.6193447411060333, 2.9103830456733704, 3.001332515850663, 3.092281986027956, 3.2741809263825417, 3.376499080331996, 3.4788172342814505, 3.637978807091713, 3.6834535421803594, -1, -1, -1, -1, 4.092726157978177, -1, -1, -1, -1, -1, -1, -1, -1, -1, -1, -1, -1, -1, -1, -1, -1, -1, -1, -1, -1, -1, -1, -1, -1, -1, -1, -1, -1, -1, -1]\n",
      "[0228_115145]***NEW ITR 21***\n",
      "[0228_115145]***NEW ITR 22***\n",
      "[0228_115145]***NEW ITR 23***\n",
      "[0228_115145]***NEW ITR 24***\n"
     ]
    },
    {
     "name": "stderr",
     "output_type": "stream",
     "text": [
      "100%|██████████████████████████████████████████████████████| 274/274 [00:14<00:00, 18.28it/s]\n"
     ]
    },
    {
     "name": "stdout",
     "output_type": "stream",
     "text": [
      "bin_idx < cur_bump_idx (14 and 15) delta=1.25 new bump_amount: 4.604316927725449\n"
     ]
    },
    {
     "name": "stderr",
     "output_type": "stream",
     "text": [
      "100%|██████████████████████████████████████████████████████| 274/274 [00:15<00:00, 17.28it/s]\n"
     ]
    },
    {
     "name": "stdout",
     "output_type": "stream",
     "text": [
      "assigned bin_idx 25\n",
      "Cur bump_idx: 15 bump amount: 4.604316927725449 target_class_pred: 20881 bin_idx: 25\n",
      "Overshot to bin 25. Decreasing bump amount to 4.143885234952904 aiming for bin 15\n",
      "bumps: [0.2, 0.6103515625, 1.1920928955078125, 1.862645149230957, 2.3283064365386963, 2.473825588822365, 2.6193447411060333, 2.9103830456733704, 3.001332515850663, 3.092281986027956, 3.2741809263825417, 3.376499080331996, 3.4788172342814505, 3.637978807091713, 3.6834535421803594, -1, -1, -1, -1, 4.092726157978177, -1, -1, -1, -1, -1, 4.604316927725449, -1, -1, -1, -1, -1, -1, -1, -1, -1, -1, -1, -1, -1, -1, -1, -1, -1, -1, -1, -1, -1, -1, -1, -1]\n",
      "[0228_115216]***NEW ITR 25***\n"
     ]
    },
    {
     "name": "stderr",
     "output_type": "stream",
     "text": [
      "100%|██████████████████████████████████████████████████████| 274/274 [00:15<00:00, 17.54it/s]\n"
     ]
    },
    {
     "name": "stdout",
     "output_type": "stream",
     "text": [
      "assigned bin_idx 20\n",
      "Cur bump_idx: 15 bump amount: 4.143885234952904 target_class_pred: 17569 bin_idx: 20\n",
      "Overshot to bin 20. Decreasing bump amount to 3.913669388566632 aiming for bin 15\n",
      "bumps: [0.2, 0.6103515625, 1.1920928955078125, 1.862645149230957, 2.3283064365386963, 2.473825588822365, 2.6193447411060333, 2.9103830456733704, 3.001332515850663, 3.092281986027956, 3.2741809263825417, 3.376499080331996, 3.4788172342814505, 3.637978807091713, 3.6834535421803594, -1, -1, -1, -1, 4.092726157978177, 4.143885234952904, -1, -1, -1, -1, 4.604316927725449, -1, -1, -1, -1, -1, -1, -1, -1, -1, -1, -1, -1, -1, -1, -1, -1, -1, -1, -1, -1, -1, -1, -1, -1]\n",
      "[0228_115231]***NEW ITR 26***\n"
     ]
    },
    {
     "name": "stderr",
     "output_type": "stream",
     "text": [
      "100%|██████████████████████████████████████████████████████| 274/274 [00:15<00:00, 17.70it/s]\n"
     ]
    },
    {
     "name": "stdout",
     "output_type": "stream",
     "text": [
      "assigned bin_idx 17\n",
      "Cur bump_idx: 15 bump amount: 3.913669388566632 target_class_pred: 15947 bin_idx: 17\n",
      "Overshot to bin 17. Decreasing bump amount to 3.7985614653734956 aiming for bin 15\n",
      "bumps: [0.2, 0.6103515625, 1.1920928955078125, 1.862645149230957, 2.3283064365386963, 2.473825588822365, 2.6193447411060333, 2.9103830456733704, 3.001332515850663, 3.092281986027956, 3.2741809263825417, 3.376499080331996, 3.4788172342814505, 3.637978807091713, 3.6834535421803594, -1, -1, 3.913669388566632, -1, 4.092726157978177, 4.143885234952904, -1, -1, -1, -1, 4.604316927725449, -1, -1, -1, -1, -1, -1, -1, -1, -1, -1, -1, -1, -1, -1, -1, -1, -1, -1, -1, -1, -1, -1, -1, -1]\n",
      "[0228_115247]***NEW ITR 27***\n"
     ]
    },
    {
     "name": "stderr",
     "output_type": "stream",
     "text": [
      "100%|██████████████████████████████████████████████████████| 274/274 [00:15<00:00, 18.17it/s]\n"
     ]
    },
    {
     "name": "stdout",
     "output_type": "stream",
     "text": [
      "assigned bin_idx 15\n",
      "Cur bump_idx: 15 bump amount: 3.7985614653734956 target_class_pred: 15155 bin_idx: 15\n",
      "updating cur_bump_idx to 16, bump_amount to 4.7482018317168695\n",
      "bumps: [0.2, 0.6103515625, 1.1920928955078125, 1.862645149230957, 2.3283064365386963, 2.473825588822365, 2.6193447411060333, 2.9103830456733704, 3.001332515850663, 3.092281986027956, 3.2741809263825417, 3.376499080331996, 3.4788172342814505, 3.637978807091713, 3.6834535421803594, 3.7985614653734956, -1, 3.913669388566632, -1, 4.092726157978177, 4.143885234952904, -1, -1, -1, -1, 4.604316927725449, -1, -1, -1, -1, -1, -1, -1, -1, -1, -1, -1, -1, -1, -1, -1, -1, -1, -1, -1, -1, -1, -1, -1, -1]\n",
      "[0228_115302]***NEW ITR 28***\n"
     ]
    },
    {
     "name": "stderr",
     "output_type": "stream",
     "text": [
      "100%|██████████████████████████████████████████████████████| 274/274 [00:15<00:00, 17.27it/s]\n"
     ]
    },
    {
     "name": "stdout",
     "output_type": "stream",
     "text": [
      "assigned bin_idx 28\n",
      "Cur bump_idx: 16 bump amount: 4.7482018317168695 target_class_pred: 22071 bin_idx: 28\n",
      "Overshot to bin 28. Decreasing bump amount to 4.2733816485451825 aiming for bin 16\n",
      "bumps: [0.2, 0.6103515625, 1.1920928955078125, 1.862645149230957, 2.3283064365386963, 2.473825588822365, 2.6193447411060333, 2.9103830456733704, 3.001332515850663, 3.092281986027956, 3.2741809263825417, 3.376499080331996, 3.4788172342814505, 3.637978807091713, 3.6834535421803594, 3.7985614653734956, -1, 3.913669388566632, -1, 4.092726157978177, 4.143885234952904, -1, -1, -1, -1, 4.604316927725449, -1, -1, 4.7482018317168695, -1, -1, -1, -1, -1, -1, -1, -1, -1, -1, -1, -1, -1, -1, -1, -1, -1, -1, -1, -1, -1]\n",
      "[0228_115318]***NEW ITR 29***\n"
     ]
    },
    {
     "name": "stderr",
     "output_type": "stream",
     "text": [
      "100%|██████████████████████████████████████████████████████| 274/274 [00:15<00:00, 17.46it/s]\n"
     ]
    },
    {
     "name": "stdout",
     "output_type": "stream",
     "text": [
      "assigned bin_idx 21\n",
      "Cur bump_idx: 16 bump amount: 4.2733816485451825 target_class_pred: 18489 bin_idx: 21\n",
      "Overshot to bin 21. Decreasing bump amount to 4.035971556959339 aiming for bin 16\n",
      "bumps: [0.2, 0.6103515625, 1.1920928955078125, 1.862645149230957, 2.3283064365386963, 2.473825588822365, 2.6193447411060333, 2.9103830456733704, 3.001332515850663, 3.092281986027956, 3.2741809263825417, 3.376499080331996, 3.4788172342814505, 3.637978807091713, 3.6834535421803594, 3.7985614653734956, -1, 3.913669388566632, -1, 4.092726157978177, 4.143885234952904, 4.2733816485451825, -1, -1, -1, 4.604316927725449, -1, -1, 4.7482018317168695, -1, -1, -1, -1, -1, -1, -1, -1, -1, -1, -1, -1, -1, -1, -1, -1, -1, -1, -1, -1, -1]\n",
      "[0228_115334]***NEW ITR 30***\n"
     ]
    },
    {
     "name": "stderr",
     "output_type": "stream",
     "text": [
      "100%|██████████████████████████████████████████████████████| 274/274 [00:15<00:00, 17.69it/s]\n"
     ]
    },
    {
     "name": "stdout",
     "output_type": "stream",
     "text": [
      "assigned bin_idx 18\n",
      "Cur bump_idx: 16 bump amount: 4.035971556959339 target_class_pred: 16776 bin_idx: 18\n",
      "Overshot to bin 18. Decreasing bump amount to 3.9172665111664173 aiming for bin 16\n",
      "bumps: [0.2, 0.6103515625, 1.1920928955078125, 1.862645149230957, 2.3283064365386963, 2.473825588822365, 2.6193447411060333, 2.9103830456733704, 3.001332515850663, 3.092281986027956, 3.2741809263825417, 3.376499080331996, 3.4788172342814505, 3.637978807091713, 3.6834535421803594, 3.7985614653734956, -1, 3.913669388566632, 4.035971556959339, 4.092726157978177, 4.143885234952904, 4.2733816485451825, -1, -1, -1, 4.604316927725449, -1, -1, 4.7482018317168695, -1, -1, -1, -1, -1, -1, -1, -1, -1, -1, -1, -1, -1, -1, -1, -1, -1, -1, -1, -1, -1]\n",
      "[0228_115349]***NEW ITR 31***\n"
     ]
    },
    {
     "name": "stderr",
     "output_type": "stream",
     "text": [
      "100%|██████████████████████████████████████████████████████| 274/274 [00:14<00:00, 18.34it/s]\n"
     ]
    },
    {
     "name": "stdout",
     "output_type": "stream",
     "text": [
      "Overshot to bin 17. Decreasing bump amount to 3.8579139882699565 aiming for bin 16\n",
      "bumps: [0.2, 0.6103515625, 1.1920928955078125, 1.862645149230957, 2.3283064365386963, 2.473825588822365, 2.6193447411060333, 2.9103830456733704, 3.001332515850663, 3.092281986027956, 3.2741809263825417, 3.376499080331996, 3.4788172342814505, 3.637978807091713, 3.6834535421803594, 3.7985614653734956, -1, 3.913669388566632, 4.035971556959339, 4.092726157978177, 4.143885234952904, 4.2733816485451825, -1, -1, -1, 4.604316927725449, -1, -1, 4.7482018317168695, -1, -1, -1, -1, -1, -1, -1, -1, -1, -1, -1, -1, -1, -1, -1, -1, -1, -1, -1, -1, -1]\n",
      "[0228_115404]***NEW ITR 32***\n"
     ]
    },
    {
     "name": "stderr",
     "output_type": "stream",
     "text": [
      "100%|██████████████████████████████████████████████████████| 274/274 [00:16<00:00, 17.11it/s]\n"
     ]
    },
    {
     "name": "stdout",
     "output_type": "stream",
     "text": [
      "assigned bin_idx 16\n",
      "Cur bump_idx: 16 bump amount: 3.8579139882699565 target_class_pred: 15566 bin_idx: 16\n",
      "updating cur_bump_idx to 17, bump_amount to 4.822392485337446\n",
      "bumps: [0.2, 0.6103515625, 1.1920928955078125, 1.862645149230957, 2.3283064365386963, 2.473825588822365, 2.6193447411060333, 2.9103830456733704, 3.001332515850663, 3.092281986027956, 3.2741809263825417, 3.376499080331996, 3.4788172342814505, 3.637978807091713, 3.6834535421803594, 3.7985614653734956, 3.8579139882699565, 3.913669388566632, 4.035971556959339, 4.092726157978177, 4.143885234952904, 4.2733816485451825, -1, -1, -1, 4.604316927725449, -1, -1, 4.7482018317168695, -1, -1, -1, -1, -1, -1, -1, -1, -1, -1, -1, -1, -1, -1, -1, -1, -1, -1, -1, -1, -1]\n",
      "[0228_115420]***NEW ITR 33***\n",
      "[0228_115420]***NEW ITR 34***\n",
      "[0228_115420]***NEW ITR 35***\n",
      "[0228_115420]***NEW ITR 36***\n",
      "[0228_115420]***NEW ITR 37***\n",
      "[0228_115420]***NEW ITR 38***\n"
     ]
    },
    {
     "name": "stderr",
     "output_type": "stream",
     "text": [
      "100%|██████████████████████████████████████████████████████| 274/274 [00:15<00:00, 17.57it/s]\n"
     ]
    },
    {
     "name": "stdout",
     "output_type": "stream",
     "text": [
      "bin_idx < cur_bump_idx (21 and 22) delta=1.25 new bump_amount: 5.341727060681478\n"
     ]
    },
    {
     "name": "stderr",
     "output_type": "stream",
     "text": [
      "100%|██████████████████████████████████████████████████████| 274/274 [00:15<00:00, 17.72it/s]\n"
     ]
    },
    {
     "name": "stdout",
     "output_type": "stream",
     "text": [
      "assigned bin_idx 36\n",
      "Cur bump_idx: 22 bump amount: 5.341727060681478 target_class_pred: 26930 bin_idx: 36\n",
      "Overshot to bin 36. Decreasing bump amount to 4.80755435461333 aiming for bin 22\n",
      "bumps: [0.2, 0.6103515625, 1.1920928955078125, 1.862645149230957, 2.3283064365386963, 2.473825588822365, 2.6193447411060333, 2.9103830456733704, 3.001332515850663, 3.092281986027956, 3.2741809263825417, 3.376499080331996, 3.4788172342814505, 3.637978807091713, 3.6834535421803594, 3.7985614653734956, 3.8579139882699565, 3.913669388566632, 4.035971556959339, 4.092726157978177, 4.143885234952904, 4.2733816485451825, -1, -1, -1, 4.604316927725449, -1, -1, 4.7482018317168695, -1, -1, -1, -1, -1, -1, -1, 5.341727060681478, -1, -1, -1, -1, -1, -1, -1, -1, -1, -1, -1, -1, -1]\n",
      "[0228_115451]***NEW ITR 39***\n"
     ]
    },
    {
     "name": "stderr",
     "output_type": "stream",
     "text": [
      "100%|██████████████████████████████████████████████████████| 274/274 [00:14<00:00, 18.40it/s]\n"
     ]
    },
    {
     "name": "stdout",
     "output_type": "stream",
     "text": [
      "Overshot to bin 28. Decreasing bump amount to 4.5404680015792565 aiming for bin 22\n",
      "bumps: [0.2, 0.6103515625, 1.1920928955078125, 1.862645149230957, 2.3283064365386963, 2.473825588822365, 2.6193447411060333, 2.9103830456733704, 3.001332515850663, 3.092281986027956, 3.2741809263825417, 3.376499080331996, 3.4788172342814505, 3.637978807091713, 3.6834535421803594, 3.7985614653734956, 3.8579139882699565, 3.913669388566632, 4.035971556959339, 4.092726157978177, 4.143885234952904, 4.2733816485451825, -1, -1, -1, 4.604316927725449, -1, -1, 4.7482018317168695, -1, -1, -1, -1, -1, -1, -1, 5.341727060681478, -1, -1, -1, -1, -1, -1, -1, -1, -1, -1, -1, -1, -1]\n",
      "[0228_115506]***NEW ITR 40***\n"
     ]
    },
    {
     "name": "stderr",
     "output_type": "stream",
     "text": [
      "100%|██████████████████████████████████████████████████████| 274/274 [00:15<00:00, 17.28it/s]\n"
     ]
    },
    {
     "name": "stdout",
     "output_type": "stream",
     "text": [
      "Overshot to bin 25. Decreasing bump amount to 4.4069248250622195 aiming for bin 22\n",
      "bumps: [0.2, 0.6103515625, 1.1920928955078125, 1.862645149230957, 2.3283064365386963, 2.473825588822365, 2.6193447411060333, 2.9103830456733704, 3.001332515850663, 3.092281986027956, 3.2741809263825417, 3.376499080331996, 3.4788172342814505, 3.637978807091713, 3.6834535421803594, 3.7985614653734956, 3.8579139882699565, 3.913669388566632, 4.035971556959339, 4.092726157978177, 4.143885234952904, 4.2733816485451825, -1, -1, -1, 4.604316927725449, -1, -1, 4.7482018317168695, -1, -1, -1, -1, -1, -1, -1, 5.341727060681478, -1, -1, -1, -1, -1, -1, -1, -1, -1, -1, -1, -1, -1]\n",
      "[0228_115522]***NEW ITR 41***\n"
     ]
    },
    {
     "name": "stderr",
     "output_type": "stream",
     "text": [
      "100%|██████████████████████████████████████████████████████| 274/274 [00:15<00:00, 17.47it/s]\n"
     ]
    },
    {
     "name": "stdout",
     "output_type": "stream",
     "text": [
      "assigned bin_idx 23\n",
      "Cur bump_idx: 22 bump amount: 4.4069248250622195 target_class_pred: 19422 bin_idx: 23\n",
      "Overshot to bin 23. Decreasing bump amount to 4.340153236803701 aiming for bin 22\n",
      "bumps: [0.2, 0.6103515625, 1.1920928955078125, 1.862645149230957, 2.3283064365386963, 2.473825588822365, 2.6193447411060333, 2.9103830456733704, 3.001332515850663, 3.092281986027956, 3.2741809263825417, 3.376499080331996, 3.4788172342814505, 3.637978807091713, 3.6834535421803594, 3.7985614653734956, 3.8579139882699565, 3.913669388566632, 4.035971556959339, 4.092726157978177, 4.143885234952904, 4.2733816485451825, -1, 4.4069248250622195, -1, 4.604316927725449, -1, -1, 4.7482018317168695, -1, -1, -1, -1, -1, -1, -1, 5.341727060681478, -1, -1, -1, -1, -1, -1, -1, -1, -1, -1, -1, -1, -1]\n",
      "[0228_115538]***NEW ITR 42***\n"
     ]
    },
    {
     "name": "stderr",
     "output_type": "stream",
     "text": [
      "100%|██████████████████████████████████████████████████████| 274/274 [00:15<00:00, 17.73it/s]\n"
     ]
    },
    {
     "name": "stdout",
     "output_type": "stream",
     "text": [
      "assigned bin_idx 22\n",
      "Cur bump_idx: 22 bump amount: 4.340153236803701 target_class_pred: 18964 bin_idx: 22\n",
      "updating cur_bump_idx to 23, bump_amount to 5.425191546004626\n",
      "bumps: [0.2, 0.6103515625, 1.1920928955078125, 1.862645149230957, 2.3283064365386963, 2.473825588822365, 2.6193447411060333, 2.9103830456733704, 3.001332515850663, 3.092281986027956, 3.2741809263825417, 3.376499080331996, 3.4788172342814505, 3.637978807091713, 3.6834535421803594, 3.7985614653734956, 3.8579139882699565, 3.913669388566632, 4.035971556959339, 4.092726157978177, 4.143885234952904, 4.2733816485451825, 4.340153236803701, 4.4069248250622195, -1, 4.604316927725449, -1, -1, 4.7482018317168695, -1, -1, -1, -1, -1, -1, -1, 5.341727060681478, -1, -1, -1, -1, -1, -1, -1, -1, -1, -1, -1, -1, -1]\n",
      "[0228_115553]***NEW ITR 43***\n",
      "[0228_115553]***NEW ITR 44***\n"
     ]
    },
    {
     "name": "stderr",
     "output_type": "stream",
     "text": [
      "100%|██████████████████████████████████████████████████████| 274/274 [00:14<00:00, 18.35it/s]\n"
     ]
    },
    {
     "name": "stdout",
     "output_type": "stream",
     "text": [
      "bin_idx < cur_bump_idx (23 and 24) delta=1.25 new bump_amount: 5.508656031327774\n"
     ]
    },
    {
     "name": "stderr",
     "output_type": "stream",
     "text": [
      "100%|██████████████████████████████████████████████████████| 274/274 [00:15<00:00, 17.20it/s]\n"
     ]
    },
    {
     "name": "stdout",
     "output_type": "stream",
     "text": [
      "assigned bin_idx 39\n",
      "Cur bump_idx: 24 bump amount: 5.508656031327774 target_class_pred: 28560 bin_idx: 39\n",
      "Overshot to bin 39. Decreasing bump amount to 4.957790428194997 aiming for bin 24\n",
      "bumps: [0.2, 0.6103515625, 1.1920928955078125, 1.862645149230957, 2.3283064365386963, 2.473825588822365, 2.6193447411060333, 2.9103830456733704, 3.001332515850663, 3.092281986027956, 3.2741809263825417, 3.376499080331996, 3.4788172342814505, 3.637978807091713, 3.6834535421803594, 3.7985614653734956, 3.8579139882699565, 3.913669388566632, 4.035971556959339, 4.092726157978177, 4.143885234952904, 4.2733816485451825, 4.340153236803701, 4.4069248250622195, -1, 4.604316927725449, -1, -1, 4.7482018317168695, -1, -1, -1, -1, -1, -1, -1, 5.341727060681478, -1, -1, 5.508656031327774, -1, -1, -1, -1, -1, -1, -1, -1, -1, -1]\n",
      "[0228_115624]***NEW ITR 45***\n"
     ]
    },
    {
     "name": "stderr",
     "output_type": "stream",
     "text": [
      "100%|██████████████████████████████████████████████████████| 274/274 [00:15<00:00, 17.46it/s]\n"
     ]
    },
    {
     "name": "stdout",
     "output_type": "stream",
     "text": [
      "assigned bin_idx 30\n",
      "Cur bump_idx: 24 bump amount: 4.957790428194997 target_class_pred: 23687 bin_idx: 30\n",
      "Overshot to bin 30. Decreasing bump amount to 4.682357626628608 aiming for bin 24\n",
      "bumps: [0.2, 0.6103515625, 1.1920928955078125, 1.862645149230957, 2.3283064365386963, 2.473825588822365, 2.6193447411060333, 2.9103830456733704, 3.001332515850663, 3.092281986027956, 3.2741809263825417, 3.376499080331996, 3.4788172342814505, 3.637978807091713, 3.6834535421803594, 3.7985614653734956, 3.8579139882699565, 3.913669388566632, 4.035971556959339, 4.092726157978177, 4.143885234952904, 4.2733816485451825, 4.340153236803701, 4.4069248250622195, -1, 4.604316927725449, -1, -1, 4.7482018317168695, -1, 4.957790428194997, -1, -1, -1, -1, -1, 5.341727060681478, -1, -1, 5.508656031327774, -1, -1, -1, -1, -1, -1, -1, -1, -1, -1]\n",
      "[0228_115640]***NEW ITR 46***\n"
     ]
    },
    {
     "name": "stderr",
     "output_type": "stream",
     "text": [
      "100%|██████████████████████████████████████████████████████| 274/274 [00:15<00:00, 17.68it/s]\n"
     ]
    },
    {
     "name": "stdout",
     "output_type": "stream",
     "text": [
      "assigned bin_idx 27\n",
      "Cur bump_idx: 24 bump amount: 4.682357626628608 target_class_pred: 21522 bin_idx: 27\n",
      "Overshot to bin 27. Decreasing bump amount to 4.544641225845414 aiming for bin 24\n",
      "bumps: [0.2, 0.6103515625, 1.1920928955078125, 1.862645149230957, 2.3283064365386963, 2.473825588822365, 2.6193447411060333, 2.9103830456733704, 3.001332515850663, 3.092281986027956, 3.2741809263825417, 3.376499080331996, 3.4788172342814505, 3.637978807091713, 3.6834535421803594, 3.7985614653734956, 3.8579139882699565, 3.913669388566632, 4.035971556959339, 4.092726157978177, 4.143885234952904, 4.2733816485451825, 4.340153236803701, 4.4069248250622195, -1, 4.604316927725449, -1, 4.682357626628608, 4.7482018317168695, -1, 4.957790428194997, -1, -1, -1, -1, -1, 5.341727060681478, -1, -1, 5.508656031327774, -1, -1, -1, -1, -1, -1, -1, -1, -1, -1]\n",
      "[0228_115655]***NEW ITR 47***\n"
     ]
    },
    {
     "name": "stderr",
     "output_type": "stream",
     "text": [
      "100%|██████████████████████████████████████████████████████| 274/274 [00:15<00:00, 18.11it/s]\n"
     ]
    },
    {
     "name": "stdout",
     "output_type": "stream",
     "text": [
      "Overshot to bin 25. Decreasing bump amount to 4.475783025453817 aiming for bin 24\n",
      "bumps: [0.2, 0.6103515625, 1.1920928955078125, 1.862645149230957, 2.3283064365386963, 2.473825588822365, 2.6193447411060333, 2.9103830456733704, 3.001332515850663, 3.092281986027956, 3.2741809263825417, 3.376499080331996, 3.4788172342814505, 3.637978807091713, 3.6834535421803594, 3.7985614653734956, 3.8579139882699565, 3.913669388566632, 4.035971556959339, 4.092726157978177, 4.143885234952904, 4.2733816485451825, 4.340153236803701, 4.4069248250622195, -1, 4.604316927725449, -1, 4.682357626628608, 4.7482018317168695, -1, 4.957790428194997, -1, -1, -1, -1, -1, 5.341727060681478, -1, -1, 5.508656031327774, -1, -1, -1, -1, -1, -1, -1, -1, -1, -1]\n",
      "[0228_115711]***NEW ITR 48***\n"
     ]
    },
    {
     "name": "stderr",
     "output_type": "stream",
     "text": [
      "100%|██████████████████████████████████████████████████████| 274/274 [00:15<00:00, 17.31it/s]\n"
     ]
    },
    {
     "name": "stdout",
     "output_type": "stream",
     "text": [
      "assigned bin_idx 24\n",
      "Cur bump_idx: 24 bump amount: 4.475783025453817 target_class_pred: 19939 bin_idx: 24\n",
      "updating cur_bump_idx to 25, bump_amount to 5.59472878181727\n",
      "bumps: [0.2, 0.6103515625, 1.1920928955078125, 1.862645149230957, 2.3283064365386963, 2.473825588822365, 2.6193447411060333, 2.9103830456733704, 3.001332515850663, 3.092281986027956, 3.2741809263825417, 3.376499080331996, 3.4788172342814505, 3.637978807091713, 3.6834535421803594, 3.7985614653734956, 3.8579139882699565, 3.913669388566632, 4.035971556959339, 4.092726157978177, 4.143885234952904, 4.2733816485451825, 4.340153236803701, 4.4069248250622195, 4.475783025453817, 4.604316927725449, -1, 4.682357626628608, 4.7482018317168695, -1, 4.957790428194997, -1, -1, -1, -1, -1, 5.341727060681478, -1, -1, 5.508656031327774, -1, -1, -1, -1, -1, -1, -1, -1, -1, -1]\n",
      "[0228_115726]***NEW ITR 49***\n",
      "[0228_115726]***NEW ITR 50***\n"
     ]
    },
    {
     "name": "stderr",
     "output_type": "stream",
     "text": [
      "100%|██████████████████████████████████████████████████████| 274/274 [00:15<00:00, 17.56it/s]\n"
     ]
    },
    {
     "name": "stdout",
     "output_type": "stream",
     "text": [
      "bin_idx < cur_bump_idx (25 and 26) delta=1.25 new bump_amount: 5.7553961596568115\n"
     ]
    },
    {
     "name": "stderr",
     "output_type": "stream",
     "text": [
      "100%|██████████████████████████████████████████████████████| 274/274 [00:15<00:00, 17.75it/s]\n"
     ]
    },
    {
     "name": "stdout",
     "output_type": "stream",
     "text": [
      "assigned bin_idx 47\n",
      "Cur bump_idx: 26 bump amount: 5.7553961596568115 target_class_pred: 32837 bin_idx: 47\n",
      "Overshot to bin 47. Decreasing bump amount to 5.17985654369113 aiming for bin 26\n",
      "bumps: [0.2, 0.6103515625, 1.1920928955078125, 1.862645149230957, 2.3283064365386963, 2.473825588822365, 2.6193447411060333, 2.9103830456733704, 3.001332515850663, 3.092281986027956, 3.2741809263825417, 3.376499080331996, 3.4788172342814505, 3.637978807091713, 3.6834535421803594, 3.7985614653734956, 3.8579139882699565, 3.913669388566632, 4.035971556959339, 4.092726157978177, 4.143885234952904, 4.2733816485451825, 4.340153236803701, 4.4069248250622195, 4.475783025453817, 4.604316927725449, -1, 4.682357626628608, 4.7482018317168695, -1, 4.957790428194997, -1, -1, -1, -1, -1, 5.341727060681478, -1, -1, 5.508656031327774, -1, -1, -1, -1, -1, -1, -1, 5.7553961596568115, -1, -1]\n",
      "[0228_115758]***NEW ITR 51***\n"
     ]
    },
    {
     "name": "stderr",
     "output_type": "stream",
     "text": [
      "100%|██████████████████████████████████████████████████████| 274/274 [00:14<00:00, 18.31it/s]\n"
     ]
    },
    {
     "name": "stdout",
     "output_type": "stream",
     "text": [
      "assigned bin_idx 34\n",
      "Cur bump_idx: 26 bump amount: 5.17985654369113 target_class_pred: 25511 bin_idx: 34\n",
      "Overshot to bin 34. Decreasing bump amount to 4.89208673570829 aiming for bin 26\n",
      "bumps: [0.2, 0.6103515625, 1.1920928955078125, 1.862645149230957, 2.3283064365386963, 2.473825588822365, 2.6193447411060333, 2.9103830456733704, 3.001332515850663, 3.092281986027956, 3.2741809263825417, 3.376499080331996, 3.4788172342814505, 3.637978807091713, 3.6834535421803594, 3.7985614653734956, 3.8579139882699565, 3.913669388566632, 4.035971556959339, 4.092726157978177, 4.143885234952904, 4.2733816485451825, 4.340153236803701, 4.4069248250622195, 4.475783025453817, 4.604316927725449, -1, 4.682357626628608, 4.7482018317168695, -1, 4.957790428194997, -1, -1, -1, 5.17985654369113, -1, 5.341727060681478, -1, -1, 5.508656031327774, -1, -1, -1, -1, -1, -1, -1, 5.7553961596568115, -1, -1]\n",
      "[0228_115813]***NEW ITR 52***\n"
     ]
    },
    {
     "name": "stderr",
     "output_type": "stream",
     "text": [
      "100%|██████████████████████████████████████████████████████| 274/274 [00:15<00:00, 17.32it/s]\n"
     ]
    },
    {
     "name": "stdout",
     "output_type": "stream",
     "text": [
      "assigned bin_idx 29\n",
      "Cur bump_idx: 26 bump amount: 4.89208673570829 target_class_pred: 23160 bin_idx: 29\n",
      "Overshot to bin 29. Decreasing bump amount to 4.7482018317168695 aiming for bin 26\n",
      "bumps: [0.2, 0.6103515625, 1.1920928955078125, 1.862645149230957, 2.3283064365386963, 2.473825588822365, 2.6193447411060333, 2.9103830456733704, 3.001332515850663, 3.092281986027956, 3.2741809263825417, 3.376499080331996, 3.4788172342814505, 3.637978807091713, 3.6834535421803594, 3.7985614653734956, 3.8579139882699565, 3.913669388566632, 4.035971556959339, 4.092726157978177, 4.143885234952904, 4.2733816485451825, 4.340153236803701, 4.4069248250622195, 4.475783025453817, 4.604316927725449, -1, 4.682357626628608, 4.7482018317168695, 4.89208673570829, 4.957790428194997, -1, -1, -1, 5.17985654369113, -1, 5.341727060681478, -1, -1, 5.508656031327774, -1, -1, -1, -1, -1, -1, -1, 5.7553961596568115, -1, -1]\n",
      "[0228_115828]***NEW ITR 53***\n"
     ]
    },
    {
     "name": "stderr",
     "output_type": "stream",
     "text": [
      "100%|██████████████████████████████████████████████████████| 274/274 [00:15<00:00, 17.51it/s]\n"
     ]
    },
    {
     "name": "stdout",
     "output_type": "stream",
     "text": [
      "Overshot to bin 28. Decreasing bump amount to 4.676259379721159 aiming for bin 26\n",
      "bumps: [0.2, 0.6103515625, 1.1920928955078125, 1.862645149230957, 2.3283064365386963, 2.473825588822365, 2.6193447411060333, 2.9103830456733704, 3.001332515850663, 3.092281986027956, 3.2741809263825417, 3.376499080331996, 3.4788172342814505, 3.637978807091713, 3.6834535421803594, 3.7985614653734956, 3.8579139882699565, 3.913669388566632, 4.035971556959339, 4.092726157978177, 4.143885234952904, 4.2733816485451825, 4.340153236803701, 4.4069248250622195, 4.475783025453817, 4.604316927725449, -1, 4.682357626628608, 4.7482018317168695, 4.89208673570829, 4.957790428194997, -1, -1, -1, 5.17985654369113, -1, 5.341727060681478, -1, -1, 5.508656031327774, -1, -1, -1, -1, -1, -1, -1, 5.7553961596568115, -1, -1]\n",
      "[0228_115844]***NEW ITR 54***\n"
     ]
    },
    {
     "name": "stderr",
     "output_type": "stream",
     "text": [
      "100%|██████████████████████████████████████████████████████| 274/274 [00:15<00:00, 17.66it/s]\n"
     ]
    },
    {
     "name": "stdout",
     "output_type": "stream",
     "text": [
      "assigned bin_idx 26\n",
      "Cur bump_idx: 26 bump amount: 4.676259379721159 target_class_pred: 21461 bin_idx: 26\n",
      "updating cur_bump_idx to 27, bump_amount to 5.845324224651449\n",
      "bumps: [0.2, 0.6103515625, 1.1920928955078125, 1.862645149230957, 2.3283064365386963, 2.473825588822365, 2.6193447411060333, 2.9103830456733704, 3.001332515850663, 3.092281986027956, 3.2741809263825417, 3.376499080331996, 3.4788172342814505, 3.637978807091713, 3.6834535421803594, 3.7985614653734956, 3.8579139882699565, 3.913669388566632, 4.035971556959339, 4.092726157978177, 4.143885234952904, 4.2733816485451825, 4.340153236803701, 4.4069248250622195, 4.475783025453817, 4.604316927725449, 4.676259379721159, 4.682357626628608, 4.7482018317168695, 4.89208673570829, 4.957790428194997, -1, -1, -1, 5.17985654369113, -1, 5.341727060681478, -1, -1, 5.508656031327774, -1, -1, -1, -1, -1, -1, -1, 5.7553961596568115, -1, -1]\n",
      "[0228_115900]***NEW ITR 55***\n",
      "[0228_115900]***NEW ITR 56***\n",
      "[0228_115900]***NEW ITR 57***\n",
      "[0228_115900]***NEW ITR 58***\n",
      "[0228_115900]***NEW ITR 59***\n"
     ]
    },
    {
     "name": "stderr",
     "output_type": "stream",
     "text": [
      "100%|██████████████████████████████████████████████████████| 274/274 [00:14<00:00, 18.32it/s]\n"
     ]
    },
    {
     "name": "stdout",
     "output_type": "stream",
     "text": [
      "bin_idx < cur_bump_idx (30 and 31) delta=1.25 new bump_amount: 6.197238035243746\n"
     ]
    },
    {
     "name": "stderr",
     "output_type": "stream",
     "text": [
      "100%|██████████████████████████████████████████████████████| 274/274 [00:15<00:00, 17.29it/s]\n",
      "/n/fs/ac-editing/model-editing/src/model/metric.py:168: RuntimeWarning: invalid value encountered in divide\n",
      "  return np.nan_to_num(TPs / (TPs + FPs))\n",
      "/n/fs/ac-editing/model-editing/src/model/metric.py:205: RuntimeWarning: invalid value encountered in divide\n",
      "  return np.nan_to_num(2 * precisions * recalls / (precisions + recalls))\n"
     ]
    },
    {
     "name": "stdout",
     "output_type": "stream",
     "text": [
      "bin_idx > n_bins (62) delta=1.25 new bump_amount: 5.5775142317193716\n",
      "[0228_115930]***NEW ITR 60***\n"
     ]
    },
    {
     "name": "stderr",
     "output_type": "stream",
     "text": [
      "100%|██████████████████████████████████████████████████████| 274/274 [00:15<00:00, 17.44it/s]\n"
     ]
    },
    {
     "name": "stdout",
     "output_type": "stream",
     "text": [
      "assigned bin_idx 40\n",
      "Cur bump_idx: 31 bump amount: 5.5775142317193716 target_class_pred: 29396 bin_idx: 40\n",
      "Overshot to bin 40. Decreasing bump amount to 5.267652329957184 aiming for bin 31\n",
      "bumps: [0.2, 0.6103515625, 1.1920928955078125, 1.862645149230957, 2.3283064365386963, 2.473825588822365, 2.6193447411060333, 2.9103830456733704, 3.001332515850663, 3.092281986027956, 3.2741809263825417, 3.376499080331996, 3.4788172342814505, 3.637978807091713, 3.6834535421803594, 3.7985614653734956, 3.8579139882699565, 3.913669388566632, 4.035971556959339, 4.092726157978177, 4.143885234952904, 4.2733816485451825, 4.340153236803701, 4.4069248250622195, 4.475783025453817, 4.604316927725449, 4.676259379721159, 4.682357626628608, 4.7482018317168695, 4.89208673570829, 4.957790428194997, -1, -1, -1, 5.17985654369113, -1, 5.341727060681478, -1, -1, 5.508656031327774, 5.5775142317193716, -1, -1, -1, -1, -1, -1, 5.7553961596568115, -1, -1]\n",
      "[0228_115946]***NEW ITR 61***\n"
     ]
    },
    {
     "name": "stderr",
     "output_type": "stream",
     "text": [
      "100%|██████████████████████████████████████████████████████| 274/274 [00:15<00:00, 17.63it/s]\n"
     ]
    },
    {
     "name": "stdout",
     "output_type": "stream",
     "text": [
      "assigned bin_idx 35\n",
      "Cur bump_idx: 31 bump amount: 5.267652329957184 target_class_pred: 26237 bin_idx: 35\n",
      "Overshot to bin 35. Decreasing bump amount to 5.11272137907609 aiming for bin 31\n",
      "bumps: [0.2, 0.6103515625, 1.1920928955078125, 1.862645149230957, 2.3283064365386963, 2.473825588822365, 2.6193447411060333, 2.9103830456733704, 3.001332515850663, 3.092281986027956, 3.2741809263825417, 3.376499080331996, 3.4788172342814505, 3.637978807091713, 3.6834535421803594, 3.7985614653734956, 3.8579139882699565, 3.913669388566632, 4.035971556959339, 4.092726157978177, 4.143885234952904, 4.2733816485451825, 4.340153236803701, 4.4069248250622195, 4.475783025453817, 4.604316927725449, 4.676259379721159, 4.682357626628608, 4.7482018317168695, 4.89208673570829, 4.957790428194997, -1, -1, -1, 5.17985654369113, 5.267652329957184, 5.341727060681478, -1, -1, 5.508656031327774, 5.5775142317193716, -1, -1, -1, -1, -1, -1, 5.7553961596568115, -1, -1]\n",
      "[0228_120002]***NEW ITR 62***\n"
     ]
    },
    {
     "name": "stderr",
     "output_type": "stream",
     "text": [
      "100%|██████████████████████████████████████████████████████| 274/274 [00:14<00:00, 18.33it/s]\n"
     ]
    },
    {
     "name": "stdout",
     "output_type": "stream",
     "text": [
      "assigned bin_idx 33\n",
      "Cur bump_idx: 31 bump amount: 5.11272137907609 target_class_pred: 24961 bin_idx: 33\n",
      "Overshot to bin 33. Decreasing bump amount to 5.0352559036355435 aiming for bin 31\n",
      "bumps: [0.2, 0.6103515625, 1.1920928955078125, 1.862645149230957, 2.3283064365386963, 2.473825588822365, 2.6193447411060333, 2.9103830456733704, 3.001332515850663, 3.092281986027956, 3.2741809263825417, 3.376499080331996, 3.4788172342814505, 3.637978807091713, 3.6834535421803594, 3.7985614653734956, 3.8579139882699565, 3.913669388566632, 4.035971556959339, 4.092726157978177, 4.143885234952904, 4.2733816485451825, 4.340153236803701, 4.4069248250622195, 4.475783025453817, 4.604316927725449, 4.676259379721159, 4.682357626628608, 4.7482018317168695, 4.89208673570829, 4.957790428194997, -1, -1, 5.11272137907609, 5.17985654369113, 5.267652329957184, 5.341727060681478, -1, -1, 5.508656031327774, 5.5775142317193716, -1, -1, -1, -1, -1, -1, 5.7553961596568115, -1, -1]\n",
      "[0228_120017]***NEW ITR 63***\n"
     ]
    },
    {
     "name": "stderr",
     "output_type": "stream",
     "text": [
      "100%|██████████████████████████████████████████████████████| 274/274 [00:15<00:00, 17.51it/s]\n"
     ]
    },
    {
     "name": "stdout",
     "output_type": "stream",
     "text": [
      "assigned bin_idx 31\n",
      "Cur bump_idx: 31 bump amount: 5.0352559036355435 target_class_pred: 24327 bin_idx: 31\n",
      "updating cur_bump_idx to 32, bump_amount to 6.29406987954443\n",
      "bumps: [0.2, 0.6103515625, 1.1920928955078125, 1.862645149230957, 2.3283064365386963, 2.473825588822365, 2.6193447411060333, 2.9103830456733704, 3.001332515850663, 3.092281986027956, 3.2741809263825417, 3.376499080331996, 3.4788172342814505, 3.637978807091713, 3.6834535421803594, 3.7985614653734956, 3.8579139882699565, 3.913669388566632, 4.035971556959339, 4.092726157978177, 4.143885234952904, 4.2733816485451825, 4.340153236803701, 4.4069248250622195, 4.475783025453817, 4.604316927725449, 4.676259379721159, 4.682357626628608, 4.7482018317168695, 4.89208673570829, 4.957790428194997, 5.0352559036355435, -1, 5.11272137907609, 5.17985654369113, 5.267652329957184, 5.341727060681478, -1, -1, 5.508656031327774, 5.5775142317193716, -1, -1, -1, -1, -1, -1, 5.7553961596568115, -1, -1]\n",
      "[0228_120032]***NEW ITR 64***\n"
     ]
    },
    {
     "name": "stderr",
     "output_type": "stream",
     "text": [
      "100%|██████████████████████████████████████████████████████| 274/274 [00:15<00:00, 17.62it/s]\n",
      "/n/fs/ac-editing/model-editing/src/model/metric.py:168: RuntimeWarning: invalid value encountered in divide\n",
      "  return np.nan_to_num(TPs / (TPs + FPs))\n",
      "/n/fs/ac-editing/model-editing/src/model/metric.py:205: RuntimeWarning: invalid value encountered in divide\n",
      "  return np.nan_to_num(2 * precisions * recalls / (precisions + recalls))\n"
     ]
    },
    {
     "name": "stdout",
     "output_type": "stream",
     "text": [
      "bin_idx > n_bins (64) delta=1.25 new bump_amount: 5.664662891589987\n",
      "[0228_120048]***NEW ITR 65***\n"
     ]
    },
    {
     "name": "stderr",
     "output_type": "stream",
     "text": [
      "100%|██████████████████████████████████████████████████████| 274/274 [00:15<00:00, 17.71it/s]\n"
     ]
    },
    {
     "name": "stdout",
     "output_type": "stream",
     "text": [
      "assigned bin_idx 43\n",
      "Cur bump_idx: 32 bump amount: 5.664662891589987 target_class_pred: 30787 bin_idx: 43\n",
      "Overshot to bin 43. Decreasing bump amount to 5.349959397612765 aiming for bin 32\n",
      "bumps: [0.2, 0.6103515625, 1.1920928955078125, 1.862645149230957, 2.3283064365386963, 2.473825588822365, 2.6193447411060333, 2.9103830456733704, 3.001332515850663, 3.092281986027956, 3.2741809263825417, 3.376499080331996, 3.4788172342814505, 3.637978807091713, 3.6834535421803594, 3.7985614653734956, 3.8579139882699565, 3.913669388566632, 4.035971556959339, 4.092726157978177, 4.143885234952904, 4.2733816485451825, 4.340153236803701, 4.4069248250622195, 4.475783025453817, 4.604316927725449, 4.676259379721159, 4.682357626628608, 4.7482018317168695, 4.89208673570829, 4.957790428194997, 5.0352559036355435, -1, 5.11272137907609, 5.17985654369113, 5.267652329957184, 5.341727060681478, -1, -1, 5.508656031327774, 5.5775142317193716, -1, -1, 5.664662891589987, -1, -1, -1, 5.7553961596568115, -1, -1]\n",
      "[0228_120104]***NEW ITR 66***\n"
     ]
    },
    {
     "name": "stderr",
     "output_type": "stream",
     "text": [
      "100%|██████████████████████████████████████████████████████| 274/274 [00:15<00:00, 18.25it/s]\n"
     ]
    },
    {
     "name": "stdout",
     "output_type": "stream",
     "text": [
      "Overshot to bin 36. Decreasing bump amount to 5.192607650624154 aiming for bin 32\n",
      "bumps: [0.2, 0.6103515625, 1.1920928955078125, 1.862645149230957, 2.3283064365386963, 2.473825588822365, 2.6193447411060333, 2.9103830456733704, 3.001332515850663, 3.092281986027956, 3.2741809263825417, 3.376499080331996, 3.4788172342814505, 3.637978807091713, 3.6834535421803594, 3.7985614653734956, 3.8579139882699565, 3.913669388566632, 4.035971556959339, 4.092726157978177, 4.143885234952904, 4.2733816485451825, 4.340153236803701, 4.4069248250622195, 4.475783025453817, 4.604316927725449, 4.676259379721159, 4.682357626628608, 4.7482018317168695, 4.89208673570829, 4.957790428194997, 5.0352559036355435, -1, 5.11272137907609, 5.17985654369113, 5.267652329957184, 5.341727060681478, -1, -1, 5.508656031327774, 5.5775142317193716, -1, -1, 5.664662891589987, -1, -1, -1, 5.7553961596568115, -1, -1]\n",
      "[0228_120119]***NEW ITR 67***\n"
     ]
    },
    {
     "name": "stderr",
     "output_type": "stream",
     "text": [
      "100%|██████████████████████████████████████████████████████| 274/274 [00:15<00:00, 17.17it/s]\n"
     ]
    },
    {
     "name": "stdout",
     "output_type": "stream",
     "text": [
      "Overshot to bin 34. Decreasing bump amount to 5.113931777129849 aiming for bin 32\n",
      "bumps: [0.2, 0.6103515625, 1.1920928955078125, 1.862645149230957, 2.3283064365386963, 2.473825588822365, 2.6193447411060333, 2.9103830456733704, 3.001332515850663, 3.092281986027956, 3.2741809263825417, 3.376499080331996, 3.4788172342814505, 3.637978807091713, 3.6834535421803594, 3.7985614653734956, 3.8579139882699565, 3.913669388566632, 4.035971556959339, 4.092726157978177, 4.143885234952904, 4.2733816485451825, 4.340153236803701, 4.4069248250622195, 4.475783025453817, 4.604316927725449, 4.676259379721159, 4.682357626628608, 4.7482018317168695, 4.89208673570829, 4.957790428194997, 5.0352559036355435, -1, 5.11272137907609, 5.17985654369113, 5.267652329957184, 5.341727060681478, -1, -1, 5.508656031327774, 5.5775142317193716, -1, -1, 5.664662891589987, -1, -1, -1, 5.7553961596568115, -1, -1]\n",
      "[0228_120135]***NEW ITR 68***\n"
     ]
    },
    {
     "name": "stderr",
     "output_type": "stream",
     "text": [
      "100%|██████████████████████████████████████████████████████| 274/274 [00:15<00:00, 17.55it/s]\n"
     ]
    },
    {
     "name": "stdout",
     "output_type": "stream",
     "text": [
      "Overshot to bin 33. Decreasing bump amount to 5.074593840382697 aiming for bin 32\n",
      "bumps: [0.2, 0.6103515625, 1.1920928955078125, 1.862645149230957, 2.3283064365386963, 2.473825588822365, 2.6193447411060333, 2.9103830456733704, 3.001332515850663, 3.092281986027956, 3.2741809263825417, 3.376499080331996, 3.4788172342814505, 3.637978807091713, 3.6834535421803594, 3.7985614653734956, 3.8579139882699565, 3.913669388566632, 4.035971556959339, 4.092726157978177, 4.143885234952904, 4.2733816485451825, 4.340153236803701, 4.4069248250622195, 4.475783025453817, 4.604316927725449, 4.676259379721159, 4.682357626628608, 4.7482018317168695, 4.89208673570829, 4.957790428194997, 5.0352559036355435, -1, 5.11272137907609, 5.17985654369113, 5.267652329957184, 5.341727060681478, -1, -1, 5.508656031327774, 5.5775142317193716, -1, -1, 5.664662891589987, -1, -1, -1, 5.7553961596568115, -1, -1]\n",
      "[0228_120150]***NEW ITR 69***\n"
     ]
    },
    {
     "name": "stderr",
     "output_type": "stream",
     "text": [
      "100%|██████████████████████████████████████████████████████| 274/274 [00:15<00:00, 17.67it/s]\n"
     ]
    },
    {
     "name": "stdout",
     "output_type": "stream",
     "text": [
      "assigned bin_idx 32\n",
      "Cur bump_idx: 32 bump amount: 5.074593840382697 target_class_pred: 24661 bin_idx: 32\n",
      "updating cur_bump_idx to 33, bump_amount to 6.343242300478371\n",
      "bumps: [0.2, 0.6103515625, 1.1920928955078125, 1.862645149230957, 2.3283064365386963, 2.473825588822365, 2.6193447411060333, 2.9103830456733704, 3.001332515850663, 3.092281986027956, 3.2741809263825417, 3.376499080331996, 3.4788172342814505, 3.637978807091713, 3.6834535421803594, 3.7985614653734956, 3.8579139882699565, 3.913669388566632, 4.035971556959339, 4.092726157978177, 4.143885234952904, 4.2733816485451825, 4.340153236803701, 4.4069248250622195, 4.475783025453817, 4.604316927725449, 4.676259379721159, 4.682357626628608, 4.7482018317168695, 4.89208673570829, 4.957790428194997, 5.0352559036355435, 5.074593840382697, 5.11272137907609, 5.17985654369113, 5.267652329957184, 5.341727060681478, -1, -1, 5.508656031327774, 5.5775142317193716, -1, -1, 5.664662891589987, -1, -1, -1, 5.7553961596568115, -1, -1]\n",
      "[0228_120206]***NEW ITR 70***\n",
      "[0228_120206]***NEW ITR 71***\n",
      "[0228_120206]***NEW ITR 72***\n",
      "[0228_120206]***NEW ITR 73***\n",
      "[0228_120206]***NEW ITR 74***\n"
     ]
    },
    {
     "name": "stderr",
     "output_type": "stream",
     "text": [
      "100%|██████████████████████████████████████████████████████| 274/274 [00:14<00:00, 18.36it/s]\n"
     ]
    },
    {
     "name": "stdout",
     "output_type": "stream",
     "text": [
      "bin_idx < cur_bump_idx (36 and 37) delta=1.25 new bump_amount: 6.677158825851848\n"
     ]
    },
    {
     "name": "stderr",
     "output_type": "stream",
     "text": [
      "100%|██████████████████████████████████████████████████████| 274/274 [00:15<00:00, 17.20it/s]\n",
      "/n/fs/ac-editing/model-editing/src/model/metric.py:168: RuntimeWarning: invalid value encountered in divide\n",
      "  return np.nan_to_num(TPs / (TPs + FPs))\n",
      "/n/fs/ac-editing/model-editing/src/model/metric.py:205: RuntimeWarning: invalid value encountered in divide\n",
      "  return np.nan_to_num(2 * precisions * recalls / (precisions + recalls))\n"
     ]
    },
    {
     "name": "stdout",
     "output_type": "stream",
     "text": [
      "bin_idx > n_bins (82) delta=1.25 new bump_amount: 6.009442943266663\n",
      "[0228_120237]***NEW ITR 75***\n"
     ]
    },
    {
     "name": "stderr",
     "output_type": "stream",
     "text": [
      "100%|██████████████████████████████████████████████████████| 274/274 [00:15<00:00, 17.58it/s]\n"
     ]
    },
    {
     "name": "stdout",
     "output_type": "stream",
     "text": [
      "bin_idx > n_bins (57) delta=1.25 new bump_amount: 5.675585001974071\n",
      "[0228_120252]***NEW ITR 76***\n"
     ]
    },
    {
     "name": "stderr",
     "output_type": "stream",
     "text": [
      "100%|██████████████████████████████████████████████████████| 274/274 [00:15<00:00, 17.63it/s]\n"
     ]
    },
    {
     "name": "stdout",
     "output_type": "stream",
     "text": [
      "Overshot to bin 43. Decreasing bump amount to 5.508656031327774 aiming for bin 37\n",
      "bumps: [0.2, 0.6103515625, 1.1920928955078125, 1.862645149230957, 2.3283064365386963, 2.473825588822365, 2.6193447411060333, 2.9103830456733704, 3.001332515850663, 3.092281986027956, 3.2741809263825417, 3.376499080331996, 3.4788172342814505, 3.637978807091713, 3.6834535421803594, 3.7985614653734956, 3.8579139882699565, 3.913669388566632, 4.035971556959339, 4.092726157978177, 4.143885234952904, 4.2733816485451825, 4.340153236803701, 4.4069248250622195, 4.475783025453817, 4.604316927725449, 4.676259379721159, 4.682357626628608, 4.7482018317168695, 4.89208673570829, 4.957790428194997, 5.0352559036355435, 5.074593840382697, 5.11272137907609, 5.17985654369113, 5.267652329957184, 5.341727060681478, -1, -1, 5.508656031327774, 5.5775142317193716, -1, -1, 5.664662891589987, -1, -1, -1, 5.7553961596568115, -1, -1]\n",
      "[0228_120308]***NEW ITR 77***\n"
     ]
    },
    {
     "name": "stderr",
     "output_type": "stream",
     "text": [
      "100%|██████████████████████████████████████████████████████| 274/274 [00:15<00:00, 18.24it/s]\n"
     ]
    },
    {
     "name": "stdout",
     "output_type": "stream",
     "text": [
      "Overshot to bin 39. Decreasing bump amount to 5.425191546004626 aiming for bin 37\n",
      "bumps: [0.2, 0.6103515625, 1.1920928955078125, 1.862645149230957, 2.3283064365386963, 2.473825588822365, 2.6193447411060333, 2.9103830456733704, 3.001332515850663, 3.092281986027956, 3.2741809263825417, 3.376499080331996, 3.4788172342814505, 3.637978807091713, 3.6834535421803594, 3.7985614653734956, 3.8579139882699565, 3.913669388566632, 4.035971556959339, 4.092726157978177, 4.143885234952904, 4.2733816485451825, 4.340153236803701, 4.4069248250622195, 4.475783025453817, 4.604316927725449, 4.676259379721159, 4.682357626628608, 4.7482018317168695, 4.89208673570829, 4.957790428194997, 5.0352559036355435, 5.074593840382697, 5.11272137907609, 5.17985654369113, 5.267652329957184, 5.341727060681478, -1, -1, 5.508656031327774, 5.5775142317193716, -1, -1, 5.664662891589987, -1, -1, -1, 5.7553961596568115, -1, -1]\n",
      "[0228_120323]***NEW ITR 78***\n"
     ]
    },
    {
     "name": "stderr",
     "output_type": "stream",
     "text": [
      "100%|██████████████████████████████████████████████████████| 274/274 [00:15<00:00, 17.25it/s]\n"
     ]
    },
    {
     "name": "stdout",
     "output_type": "stream",
     "text": [
      "assigned bin_idx 38\n",
      "Cur bump_idx: 37 bump amount: 5.425191546004626 target_class_pred: 27723 bin_idx: 38\n",
      "Overshot to bin 38. Decreasing bump amount to 5.383459303343052 aiming for bin 37\n",
      "bumps: [0.2, 0.6103515625, 1.1920928955078125, 1.862645149230957, 2.3283064365386963, 2.473825588822365, 2.6193447411060333, 2.9103830456733704, 3.001332515850663, 3.092281986027956, 3.2741809263825417, 3.376499080331996, 3.4788172342814505, 3.637978807091713, 3.6834535421803594, 3.7985614653734956, 3.8579139882699565, 3.913669388566632, 4.035971556959339, 4.092726157978177, 4.143885234952904, 4.2733816485451825, 4.340153236803701, 4.4069248250622195, 4.475783025453817, 4.604316927725449, 4.676259379721159, 4.682357626628608, 4.7482018317168695, 4.89208673570829, 4.957790428194997, 5.0352559036355435, 5.074593840382697, 5.11272137907609, 5.17985654369113, 5.267652329957184, 5.341727060681478, -1, 5.425191546004626, 5.508656031327774, 5.5775142317193716, -1, -1, 5.664662891589987, -1, -1, -1, 5.7553961596568115, -1, -1]\n",
      "[0228_120339]***NEW ITR 79***\n"
     ]
    },
    {
     "name": "stderr",
     "output_type": "stream",
     "text": [
      "100%|██████████████████████████████████████████████████████| 274/274 [00:15<00:00, 17.53it/s]\n"
     ]
    },
    {
     "name": "stdout",
     "output_type": "stream",
     "text": [
      "assigned bin_idx 37\n",
      "Cur bump_idx: 37 bump amount: 5.383459303343052 target_class_pred: 27349 bin_idx: 37\n",
      "updating cur_bump_idx to 38, bump_amount to 6.729324129178815\n",
      "bumps: [0.2, 0.6103515625, 1.1920928955078125, 1.862645149230957, 2.3283064365386963, 2.473825588822365, 2.6193447411060333, 2.9103830456733704, 3.001332515850663, 3.092281986027956, 3.2741809263825417, 3.376499080331996, 3.4788172342814505, 3.637978807091713, 3.6834535421803594, 3.7985614653734956, 3.8579139882699565, 3.913669388566632, 4.035971556959339, 4.092726157978177, 4.143885234952904, 4.2733816485451825, 4.340153236803701, 4.4069248250622195, 4.475783025453817, 4.604316927725449, 4.676259379721159, 4.682357626628608, 4.7482018317168695, 4.89208673570829, 4.957790428194997, 5.0352559036355435, 5.074593840382697, 5.11272137907609, 5.17985654369113, 5.267652329957184, 5.341727060681478, 5.383459303343052, 5.425191546004626, 5.508656031327774, 5.5775142317193716, -1, -1, 5.664662891589987, -1, -1, -1, 5.7553961596568115, -1, -1]\n",
      "[0228_120354]***NEW ITR 80***\n",
      "[0228_120354]***NEW ITR 81***\n",
      "[0228_120354]***NEW ITR 82***\n",
      "[0228_120354]***NEW ITR 83***\n"
     ]
    },
    {
     "name": "stderr",
     "output_type": "stream",
     "text": [
      "100%|██████████████████████████████████████████████████████| 274/274 [00:15<00:00, 17.67it/s]\n"
     ]
    },
    {
     "name": "stdout",
     "output_type": "stream",
     "text": [
      "bin_idx < cur_bump_idx (40 and 41) delta=1.25 new bump_amount: 6.971892789649214\n"
     ]
    },
    {
     "name": "stderr",
     "output_type": "stream",
     "text": [
      "100%|██████████████████████████████████████████████████████| 274/274 [00:14<00:00, 18.48it/s]\n",
      "/n/fs/ac-editing/model-editing/src/model/metric.py:168: RuntimeWarning: invalid value encountered in divide\n",
      "  return np.nan_to_num(TPs / (TPs + FPs))\n",
      "/n/fs/ac-editing/model-editing/src/model/metric.py:205: RuntimeWarning: invalid value encountered in divide\n",
      "  return np.nan_to_num(2 * precisions * recalls / (precisions + recalls))\n"
     ]
    },
    {
     "name": "stdout",
     "output_type": "stream",
     "text": [
      "bin_idx > n_bins (91) delta=1.25 new bump_amount: 6.274703510684293\n",
      "[0228_120425]***NEW ITR 84***\n"
     ]
    },
    {
     "name": "stderr",
     "output_type": "stream",
     "text": [
      "100%|██████████████████████████████████████████████████████| 274/274 [00:15<00:00, 17.20it/s]\n",
      "/n/fs/ac-editing/model-editing/src/model/metric.py:168: RuntimeWarning: invalid value encountered in divide\n",
      "  return np.nan_to_num(TPs / (TPs + FPs))\n",
      "/n/fs/ac-editing/model-editing/src/model/metric.py:205: RuntimeWarning: invalid value encountered in divide\n",
      "  return np.nan_to_num(2 * precisions * recalls / (precisions + recalls))\n"
     ]
    },
    {
     "name": "stdout",
     "output_type": "stream",
     "text": [
      "bin_idx > n_bins (63) delta=1.25 new bump_amount: 5.926108871201832\n",
      "[0228_120441]***NEW ITR 85***\n"
     ]
    },
    {
     "name": "stderr",
     "output_type": "stream",
     "text": [
      "100%|██████████████████████████████████████████████████████| 274/274 [00:15<00:00, 17.59it/s]\n"
     ]
    },
    {
     "name": "stdout",
     "output_type": "stream",
     "text": [
      "bin_idx > n_bins (55) delta=1.25 new bump_amount: 5.751811551460602\n",
      "[0228_120456]***NEW ITR 86***\n"
     ]
    },
    {
     "name": "stderr",
     "output_type": "stream",
     "text": [
      "100%|██████████████████████████████████████████████████████| 274/274 [00:15<00:00, 17.70it/s]\n"
     ]
    },
    {
     "name": "stdout",
     "output_type": "stream",
     "text": [
      "assigned bin_idx 46\n",
      "Cur bump_idx: 41 bump amount: 5.751811551460602 target_class_pred: 32733 bin_idx: 46\n",
      "Overshot to bin 46. Decreasing bump amount to 5.664662891589987 aiming for bin 41\n",
      "bumps: [0.2, 0.6103515625, 1.1920928955078125, 1.862645149230957, 2.3283064365386963, 2.473825588822365, 2.6193447411060333, 2.9103830456733704, 3.001332515850663, 3.092281986027956, 3.2741809263825417, 3.376499080331996, 3.4788172342814505, 3.637978807091713, 3.6834535421803594, 3.7985614653734956, 3.8579139882699565, 3.913669388566632, 4.035971556959339, 4.092726157978177, 4.143885234952904, 4.2733816485451825, 4.340153236803701, 4.4069248250622195, 4.475783025453817, 4.604316927725449, 4.676259379721159, 4.682357626628608, 4.7482018317168695, 4.89208673570829, 4.957790428194997, 5.0352559036355435, 5.074593840382697, 5.11272137907609, 5.17985654369113, 5.267652329957184, 5.341727060681478, 5.383459303343052, 5.425191546004626, 5.508656031327774, 5.5775142317193716, -1, -1, 5.664662891589987, -1, -1, 5.751811551460602, 5.7553961596568115, -1, -1]\n",
      "[0228_120512]***NEW ITR 87***\n"
     ]
    },
    {
     "name": "stderr",
     "output_type": "stream",
     "text": [
      "100%|██████████████████████████████████████████████████████| 274/274 [00:14<00:00, 18.30it/s]\n"
     ]
    },
    {
     "name": "stdout",
     "output_type": "stream",
     "text": [
      "Overshot to bin 43. Decreasing bump amount to 5.621088561654679 aiming for bin 41\n",
      "bumps: [0.2, 0.6103515625, 1.1920928955078125, 1.862645149230957, 2.3283064365386963, 2.473825588822365, 2.6193447411060333, 2.9103830456733704, 3.001332515850663, 3.092281986027956, 3.2741809263825417, 3.376499080331996, 3.4788172342814505, 3.637978807091713, 3.6834535421803594, 3.7985614653734956, 3.8579139882699565, 3.913669388566632, 4.035971556959339, 4.092726157978177, 4.143885234952904, 4.2733816485451825, 4.340153236803701, 4.4069248250622195, 4.475783025453817, 4.604316927725449, 4.676259379721159, 4.682357626628608, 4.7482018317168695, 4.89208673570829, 4.957790428194997, 5.0352559036355435, 5.074593840382697, 5.11272137907609, 5.17985654369113, 5.267652329957184, 5.341727060681478, 5.383459303343052, 5.425191546004626, 5.508656031327774, 5.5775142317193716, -1, -1, 5.664662891589987, -1, -1, 5.751811551460602, 5.7553961596568115, -1, -1]\n",
      "[0228_120527]***NEW ITR 88***\n"
     ]
    },
    {
     "name": "stderr",
     "output_type": "stream",
     "text": [
      "100%|██████████████████████████████████████████████████████| 274/274 [00:16<00:00, 16.83it/s]\n"
     ]
    },
    {
     "name": "stdout",
     "output_type": "stream",
     "text": [
      "assigned bin_idx 42\n",
      "Cur bump_idx: 41 bump amount: 5.621088561654679 target_class_pred: 30039 bin_idx: 42\n",
      "Overshot to bin 42. Decreasing bump amount to 5.599301396687025 aiming for bin 41\n",
      "bumps: [0.2, 0.6103515625, 1.1920928955078125, 1.862645149230957, 2.3283064365386963, 2.473825588822365, 2.6193447411060333, 2.9103830456733704, 3.001332515850663, 3.092281986027956, 3.2741809263825417, 3.376499080331996, 3.4788172342814505, 3.637978807091713, 3.6834535421803594, 3.7985614653734956, 3.8579139882699565, 3.913669388566632, 4.035971556959339, 4.092726157978177, 4.143885234952904, 4.2733816485451825, 4.340153236803701, 4.4069248250622195, 4.475783025453817, 4.604316927725449, 4.676259379721159, 4.682357626628608, 4.7482018317168695, 4.89208673570829, 4.957790428194997, 5.0352559036355435, 5.074593840382697, 5.11272137907609, 5.17985654369113, 5.267652329957184, 5.341727060681478, 5.383459303343052, 5.425191546004626, 5.508656031327774, 5.5775142317193716, -1, 5.621088561654679, 5.664662891589987, -1, -1, 5.751811551460602, 5.7553961596568115, -1, -1]\n",
      "[0228_120543]***NEW ITR 89***\n"
     ]
    },
    {
     "name": "stderr",
     "output_type": "stream",
     "text": [
      "100%|██████████████████████████████████████████████████████| 274/274 [00:15<00:00, 17.44it/s]\n"
     ]
    },
    {
     "name": "stdout",
     "output_type": "stream",
     "text": [
      "assigned bin_idx 41\n",
      "Cur bump_idx: 41 bump amount: 5.599301396687025 target_class_pred: 29713 bin_idx: 41\n",
      "updating cur_bump_idx to 42, bump_amount to 6.999126745858781\n",
      "bumps: [0.2, 0.6103515625, 1.1920928955078125, 1.862645149230957, 2.3283064365386963, 2.473825588822365, 2.6193447411060333, 2.9103830456733704, 3.001332515850663, 3.092281986027956, 3.2741809263825417, 3.376499080331996, 3.4788172342814505, 3.637978807091713, 3.6834535421803594, 3.7985614653734956, 3.8579139882699565, 3.913669388566632, 4.035971556959339, 4.092726157978177, 4.143885234952904, 4.2733816485451825, 4.340153236803701, 4.4069248250622195, 4.475783025453817, 4.604316927725449, 4.676259379721159, 4.682357626628608, 4.7482018317168695, 4.89208673570829, 4.957790428194997, 5.0352559036355435, 5.074593840382697, 5.11272137907609, 5.17985654369113, 5.267652329957184, 5.341727060681478, 5.383459303343052, 5.425191546004626, 5.508656031327774, 5.5775142317193716, 5.599301396687025, 5.621088561654679, 5.664662891589987, -1, -1, 5.751811551460602, 5.7553961596568115, -1, -1]\n",
      "[0228_120559]***NEW ITR 90***\n",
      "[0228_120559]***NEW ITR 91***\n",
      "[0228_120559]***NEW ITR 92***\n"
     ]
    },
    {
     "name": "stderr",
     "output_type": "stream",
     "text": [
      "100%|██████████████████████████████████████████████████████| 274/274 [00:15<00:00, 17.86it/s]\n"
     ]
    },
    {
     "name": "stdout",
     "output_type": "stream",
     "text": [
      "bin_idx < cur_bump_idx (43 and 44) delta=1.25 new bump_amount: 7.0808286144874835\n"
     ]
    },
    {
     "name": "stderr",
     "output_type": "stream",
     "text": [
      "100%|██████████████████████████████████████████████████████| 274/274 [00:14<00:00, 18.54it/s]\n",
      "/n/fs/ac-editing/model-editing/src/model/metric.py:168: RuntimeWarning: invalid value encountered in divide\n",
      "  return np.nan_to_num(TPs / (TPs + FPs))\n",
      "/n/fs/ac-editing/model-editing/src/model/metric.py:205: RuntimeWarning: invalid value encountered in divide\n",
      "  return np.nan_to_num(2 * precisions * recalls / (precisions + recalls))\n"
     ]
    },
    {
     "name": "stdout",
     "output_type": "stream",
     "text": [
      "bin_idx > n_bins (92) delta=1.25 new bump_amount: 6.3727457530387355\n",
      "[0228_120629]***NEW ITR 93***\n"
     ]
    },
    {
     "name": "stderr",
     "output_type": "stream",
     "text": [
      "100%|██████████████████████████████████████████████████████| 274/274 [00:15<00:00, 17.26it/s]\n",
      "/n/fs/ac-editing/model-editing/src/model/metric.py:168: RuntimeWarning: invalid value encountered in divide\n",
      "  return np.nan_to_num(TPs / (TPs + FPs))\n",
      "/n/fs/ac-editing/model-editing/src/model/metric.py:205: RuntimeWarning: invalid value encountered in divide\n",
      "  return np.nan_to_num(2 * precisions * recalls / (precisions + recalls))\n"
     ]
    },
    {
     "name": "stdout",
     "output_type": "stream",
     "text": [
      "bin_idx > n_bins (66) delta=1.25 new bump_amount: 6.0187043223143615\n",
      "[0228_120645]***NEW ITR 94***\n"
     ]
    },
    {
     "name": "stderr",
     "output_type": "stream",
     "text": [
      "100%|██████████████████████████████████████████████████████| 274/274 [00:15<00:00, 17.62it/s]\n"
     ]
    },
    {
     "name": "stdout",
     "output_type": "stream",
     "text": [
      "bin_idx > n_bins (57) delta=1.25 new bump_amount: 5.841683606952174\n",
      "[0228_120701]***NEW ITR 95***\n"
     ]
    },
    {
     "name": "stderr",
     "output_type": "stream",
     "text": [
      "100%|██████████████████████████████████████████████████████| 274/274 [00:15<00:00, 17.74it/s]\n"
     ]
    },
    {
     "name": "stdout",
     "output_type": "stream",
     "text": [
      "bin_idx > n_bins (51) delta=1.25 new bump_amount: 5.7531732492710805\n",
      "[0228_120716]***NEW ITR 96***\n"
     ]
    },
    {
     "name": "stderr",
     "output_type": "stream",
     "text": [
      "100%|██████████████████████████████████████████████████████| 274/274 [00:15<00:00, 18.26it/s]\n"
     ]
    },
    {
     "name": "stdout",
     "output_type": "stream",
     "text": [
      "Overshot to bin 46. Decreasing bump amount to 5.708918070430533 aiming for bin 44\n",
      "bumps: [0.2, 0.6103515625, 1.1920928955078125, 1.862645149230957, 2.3283064365386963, 2.473825588822365, 2.6193447411060333, 2.9103830456733704, 3.001332515850663, 3.092281986027956, 3.2741809263825417, 3.376499080331996, 3.4788172342814505, 3.637978807091713, 3.6834535421803594, 3.7985614653734956, 3.8579139882699565, 3.913669388566632, 4.035971556959339, 4.092726157978177, 4.143885234952904, 4.2733816485451825, 4.340153236803701, 4.4069248250622195, 4.475783025453817, 4.604316927725449, 4.676259379721159, 4.682357626628608, 4.7482018317168695, 4.89208673570829, 4.957790428194997, 5.0352559036355435, 5.074593840382697, 5.11272137907609, 5.17985654369113, 5.267652329957184, 5.341727060681478, 5.383459303343052, 5.425191546004626, 5.508656031327774, 5.5775142317193716, 5.599301396687025, 5.621088561654679, 5.664662891589987, -1, -1, 5.751811551460602, 5.7553961596568115, -1, -1]\n",
      "[0228_120731]***NEW ITR 97***\n"
     ]
    },
    {
     "name": "stderr",
     "output_type": "stream",
     "text": [
      "100%|██████████████████████████████████████████████████████| 274/274 [00:15<00:00, 17.25it/s]\n"
     ]
    },
    {
     "name": "stdout",
     "output_type": "stream",
     "text": [
      "assigned bin_idx 45\n",
      "Cur bump_idx: 44 bump amount: 5.708918070430533 target_class_pred: 31684 bin_idx: 45\n",
      "Overshot to bin 45. Decreasing bump amount to 5.686790481010259 aiming for bin 44\n",
      "bumps: [0.2, 0.6103515625, 1.1920928955078125, 1.862645149230957, 2.3283064365386963, 2.473825588822365, 2.6193447411060333, 2.9103830456733704, 3.001332515850663, 3.092281986027956, 3.2741809263825417, 3.376499080331996, 3.4788172342814505, 3.637978807091713, 3.6834535421803594, 3.7985614653734956, 3.8579139882699565, 3.913669388566632, 4.035971556959339, 4.092726157978177, 4.143885234952904, 4.2733816485451825, 4.340153236803701, 4.4069248250622195, 4.475783025453817, 4.604316927725449, 4.676259379721159, 4.682357626628608, 4.7482018317168695, 4.89208673570829, 4.957790428194997, 5.0352559036355435, 5.074593840382697, 5.11272137907609, 5.17985654369113, 5.267652329957184, 5.341727060681478, 5.383459303343052, 5.425191546004626, 5.508656031327774, 5.5775142317193716, 5.599301396687025, 5.621088561654679, 5.664662891589987, -1, 5.708918070430533, 5.751811551460602, 5.7553961596568115, -1, -1]\n",
      "[0228_120747]***NEW ITR 98***\n"
     ]
    },
    {
     "name": "stderr",
     "output_type": "stream",
     "text": [
      "100%|██████████████████████████████████████████████████████| 274/274 [00:15<00:00, 17.62it/s]\n"
     ]
    },
    {
     "name": "stdout",
     "output_type": "stream",
     "text": [
      "assigned bin_idx 44\n",
      "Cur bump_idx: 44 bump amount: 5.686790481010259 target_class_pred: 31222 bin_idx: 44\n",
      "updating cur_bump_idx to 45, bump_amount to 7.108488101262824\n",
      "bumps: [0.2, 0.6103515625, 1.1920928955078125, 1.862645149230957, 2.3283064365386963, 2.473825588822365, 2.6193447411060333, 2.9103830456733704, 3.001332515850663, 3.092281986027956, 3.2741809263825417, 3.376499080331996, 3.4788172342814505, 3.637978807091713, 3.6834535421803594, 3.7985614653734956, 3.8579139882699565, 3.913669388566632, 4.035971556959339, 4.092726157978177, 4.143885234952904, 4.2733816485451825, 4.340153236803701, 4.4069248250622195, 4.475783025453817, 4.604316927725449, 4.676259379721159, 4.682357626628608, 4.7482018317168695, 4.89208673570829, 4.957790428194997, 5.0352559036355435, 5.074593840382697, 5.11272137907609, 5.17985654369113, 5.267652329957184, 5.341727060681478, 5.383459303343052, 5.425191546004626, 5.508656031327774, 5.5775142317193716, 5.599301396687025, 5.621088561654679, 5.664662891589987, 5.686790481010259, 5.708918070430533, 5.751811551460602, 5.7553961596568115, -1, -1]\n",
      "[0228_120803]***NEW ITR 99***\n",
      "[0228_120803]***NEW ITR 100***\n",
      "[0228_120803]***NEW ITR 101***\n",
      "[0228_120803]***NEW ITR 102***\n"
     ]
    },
    {
     "name": "stderr",
     "output_type": "stream",
     "text": [
      "100%|██████████████████████████████████████████████████████| 274/274 [00:15<00:00, 17.79it/s]\n"
     ]
    },
    {
     "name": "stdout",
     "output_type": "stream",
     "text": [
      "bin_idx < cur_bump_idx (47 and 48) delta=1.25 new bump_amount: 7.194245199571014\n"
     ]
    },
    {
     "name": "stderr",
     "output_type": "stream",
     "text": [
      "100%|██████████████████████████████████████████████████████| 274/274 [00:14<00:00, 18.51it/s]\n",
      "/n/fs/ac-editing/model-editing/src/model/metric.py:168: RuntimeWarning: invalid value encountered in divide\n",
      "  return np.nan_to_num(TPs / (TPs + FPs))\n",
      "/n/fs/ac-editing/model-editing/src/model/metric.py:205: RuntimeWarning: invalid value encountered in divide\n",
      "  return np.nan_to_num(2 * precisions * recalls / (precisions + recalls))\n"
     ]
    },
    {
     "name": "stdout",
     "output_type": "stream",
     "text": [
      "bin_idx > n_bins (93) delta=1.25 new bump_amount: 6.474820679613913\n",
      "[0228_120833]***NEW ITR 103***\n"
     ]
    },
    {
     "name": "stderr",
     "output_type": "stream",
     "text": [
      "100%|██████████████████████████████████████████████████████| 274/274 [00:15<00:00, 17.25it/s]\n",
      "/n/fs/ac-editing/model-editing/src/model/metric.py:168: RuntimeWarning: invalid value encountered in divide\n",
      "  return np.nan_to_num(TPs / (TPs + FPs))\n",
      "/n/fs/ac-editing/model-editing/src/model/metric.py:205: RuntimeWarning: invalid value encountered in divide\n",
      "  return np.nan_to_num(2 * precisions * recalls / (precisions + recalls))\n"
     ]
    },
    {
     "name": "stdout",
     "output_type": "stream",
     "text": [
      "bin_idx > n_bins (70) delta=1.25 new bump_amount: 6.115108419635362\n",
      "[0228_120849]***NEW ITR 104***\n"
     ]
    },
    {
     "name": "stderr",
     "output_type": "stream",
     "text": [
      "100%|██████████████████████████████████████████████████████| 274/274 [00:15<00:00, 17.67it/s]\n"
     ]
    },
    {
     "name": "stdout",
     "output_type": "stream",
     "text": [
      "bin_idx > n_bins (60) delta=1.25 new bump_amount: 5.935252289646087\n",
      "[0228_120904]***NEW ITR 105***\n"
     ]
    },
    {
     "name": "stderr",
     "output_type": "stream",
     "text": [
      "100%|██████████████████████████████████████████████████████| 274/274 [00:15<00:00, 17.81it/s]\n"
     ]
    },
    {
     "name": "stdout",
     "output_type": "stream",
     "text": [
      "bin_idx > n_bins (55) delta=1.25 new bump_amount: 5.845324224651449\n",
      "[0228_120920]***NEW ITR 106***\n"
     ]
    },
    {
     "name": "stderr",
     "output_type": "stream",
     "text": [
      "100%|██████████████████████████████████████████████████████| 274/274 [00:14<00:00, 18.29it/s]\n"
     ]
    },
    {
     "name": "stdout",
     "output_type": "stream",
     "text": [
      "bin_idx > n_bins (51) delta=1.25 new bump_amount: 5.80036019215413\n",
      "[0228_120935]***NEW ITR 107***\n"
     ]
    },
    {
     "name": "stderr",
     "output_type": "stream",
     "text": [
      "100%|██████████████████████████████████████████████████████| 274/274 [00:15<00:00, 17.38it/s]\n"
     ]
    },
    {
     "name": "stdout",
     "output_type": "stream",
     "text": [
      "assigned bin_idx 49\n",
      "Cur bump_idx: 48 bump amount: 5.80036019215413 target_class_pred: 34099 bin_idx: 49\n",
      "Overshot to bin 49. Decreasing bump amount to 5.777878175905471 aiming for bin 48\n",
      "bumps: [0.2, 0.6103515625, 1.1920928955078125, 1.862645149230957, 2.3283064365386963, 2.473825588822365, 2.6193447411060333, 2.9103830456733704, 3.001332515850663, 3.092281986027956, 3.2741809263825417, 3.376499080331996, 3.4788172342814505, 3.637978807091713, 3.6834535421803594, 3.7985614653734956, 3.8579139882699565, 3.913669388566632, 4.035971556959339, 4.092726157978177, 4.143885234952904, 4.2733816485451825, 4.340153236803701, 4.4069248250622195, 4.475783025453817, 4.604316927725449, 4.676259379721159, 4.682357626628608, 4.7482018317168695, 4.89208673570829, 4.957790428194997, 5.0352559036355435, 5.074593840382697, 5.11272137907609, 5.17985654369113, 5.267652329957184, 5.341727060681478, 5.383459303343052, 5.425191546004626, 5.508656031327774, 5.5775142317193716, 5.599301396687025, 5.621088561654679, 5.664662891589987, 5.686790481010259, 5.708918070430533, 5.751811551460602, 5.7553961596568115, -1, 5.80036019215413]\n",
      "[0228_120950]***NEW ITR 108***\n"
     ]
    },
    {
     "name": "stderr",
     "output_type": "stream",
     "text": [
      "100%|██████████████████████████████████████████████████████| 274/274 [00:15<00:00, 17.53it/s]\n"
     ]
    },
    {
     "name": "stdout",
     "output_type": "stream",
     "text": [
      "assigned bin_idx 48\n",
      "Cur bump_idx: 48 bump amount: 5.777878175905471 target_class_pred: 33434 bin_idx: 48\n",
      "updating cur_bump_idx to 49, bump_amount to 7.222347719881839\n",
      "bumps: [0.2, 0.6103515625, 1.1920928955078125, 1.862645149230957, 2.3283064365386963, 2.473825588822365, 2.6193447411060333, 2.9103830456733704, 3.001332515850663, 3.092281986027956, 3.2741809263825417, 3.376499080331996, 3.4788172342814505, 3.637978807091713, 3.6834535421803594, 3.7985614653734956, 3.8579139882699565, 3.913669388566632, 4.035971556959339, 4.092726157978177, 4.143885234952904, 4.2733816485451825, 4.340153236803701, 4.4069248250622195, 4.475783025453817, 4.604316927725449, 4.676259379721159, 4.682357626628608, 4.7482018317168695, 4.89208673570829, 4.957790428194997, 5.0352559036355435, 5.074593840382697, 5.11272137907609, 5.17985654369113, 5.267652329957184, 5.341727060681478, 5.383459303343052, 5.425191546004626, 5.508656031327774, 5.5775142317193716, 5.599301396687025, 5.621088561654679, 5.664662891589987, 5.686790481010259, 5.708918070430533, 5.751811551460602, 5.7553961596568115, 5.777878175905471, 5.80036019215413]\n",
      "[0228_121006]***NEW ITR 109***\n",
      "Saved data to saved/edit_eac/experiments/bump_edits/CINIC10_ImageNet-VGG_16/0208_112555/horse_100/bumps_preds_metrics.pth\n",
      "Obtaining class distribution for ship from saved/edit_eac/trials/CINIC10_ImageNet-VGG_16/ship_100/0127_103716/target_class_distribution.pth\n",
      "Saving results to saved/edit_eac/experiments/bump_edits/CINIC10_ImageNet-VGG_16/0208_112555/ship_100\n"
     ]
    },
    {
     "name": "stderr",
     "output_type": "stream",
     "text": [
      "100%|██████████████████████████████████████████████████████| 274/274 [00:15<00:00, 17.91it/s]\n"
     ]
    },
    {
     "name": "stdout",
     "output_type": "stream",
     "text": [
      "[0228_121022]***NEW ITR 1***\n"
     ]
    },
    {
     "name": "stderr",
     "output_type": "stream",
     "text": [
      "100%|██████████████████████████████████████████████████████| 274/274 [00:15<00:00, 18.20it/s]\n"
     ]
    },
    {
     "name": "stdout",
     "output_type": "stream",
     "text": [
      "bin_idx < cur_bump_idx (-1 and 0) delta=1.25 new bump_amount: 0.25\n"
     ]
    },
    {
     "name": "stderr",
     "output_type": "stream",
     "text": [
      "100%|██████████████████████████████████████████████████████| 274/274 [00:15<00:00, 17.29it/s]\n"
     ]
    },
    {
     "name": "stdout",
     "output_type": "stream",
     "text": [
      "bin_idx < cur_bump_idx (-1 and 0) delta=1.25 new bump_amount: 0.3125\n"
     ]
    },
    {
     "name": "stderr",
     "output_type": "stream",
     "text": [
      "100%|██████████████████████████████████████████████████████| 274/274 [00:15<00:00, 17.58it/s]\n"
     ]
    },
    {
     "name": "stdout",
     "output_type": "stream",
     "text": [
      "bin_idx < cur_bump_idx (-1 and 0) delta=1.25 new bump_amount: 0.390625\n"
     ]
    },
    {
     "name": "stderr",
     "output_type": "stream",
     "text": [
      "100%|██████████████████████████████████████████████████████| 274/274 [00:15<00:00, 17.73it/s]\n"
     ]
    },
    {
     "name": "stdout",
     "output_type": "stream",
     "text": [
      "bin_idx < cur_bump_idx (-1 and 0) delta=1.25 new bump_amount: 0.48828125\n"
     ]
    },
    {
     "name": "stderr",
     "output_type": "stream",
     "text": [
      "100%|██████████████████████████████████████████████████████| 274/274 [00:14<00:00, 18.39it/s]\n"
     ]
    },
    {
     "name": "stdout",
     "output_type": "stream",
     "text": [
      "assigned bin_idx 0\n",
      "Cur bump_idx: 0 bump amount: 0.48828125 target_class_pred: 6567 bin_idx: 0\n",
      "updating cur_bump_idx to 1, bump_amount to 0.6103515625\n",
      "bumps: [0.48828125, -1, -1, -1, -1, -1, -1, -1, -1, -1, -1, -1, -1, -1, -1, -1, -1, -1, -1, -1, -1, -1, -1, -1, -1, -1, -1, -1, -1, -1, -1, -1, -1, -1, -1, -1, -1, -1, -1, -1, -1, -1, -1, -1, -1, -1, -1, -1, -1, -1]\n",
      "[0228_121139]***NEW ITR 2***\n"
     ]
    },
    {
     "name": "stderr",
     "output_type": "stream",
     "text": [
      "100%|██████████████████████████████████████████████████████| 274/274 [00:15<00:00, 17.28it/s]\n"
     ]
    },
    {
     "name": "stdout",
     "output_type": "stream",
     "text": [
      "bin_idx < cur_bump_idx (0 and 1) delta=1.25 new bump_amount: 0.762939453125\n"
     ]
    },
    {
     "name": "stderr",
     "output_type": "stream",
     "text": [
      "100%|██████████████████████████████████████████████████████| 274/274 [00:15<00:00, 17.58it/s]\n"
     ]
    },
    {
     "name": "stdout",
     "output_type": "stream",
     "text": [
      "bin_idx < cur_bump_idx (0 and 1) delta=1.25 new bump_amount: 0.95367431640625\n"
     ]
    },
    {
     "name": "stderr",
     "output_type": "stream",
     "text": [
      "100%|██████████████████████████████████████████████████████| 274/274 [00:15<00:00, 17.76it/s]\n"
     ]
    },
    {
     "name": "stdout",
     "output_type": "stream",
     "text": [
      "bin_idx < cur_bump_idx (0 and 1) delta=1.25 new bump_amount: 1.1920928955078125\n"
     ]
    },
    {
     "name": "stderr",
     "output_type": "stream",
     "text": [
      "100%|██████████████████████████████████████████████████████| 274/274 [00:14<00:00, 18.38it/s]\n"
     ]
    },
    {
     "name": "stdout",
     "output_type": "stream",
     "text": [
      "assigned bin_idx 1\n",
      "Cur bump_idx: 1 bump amount: 1.1920928955078125 target_class_pred: 7220 bin_idx: 1\n",
      "updating cur_bump_idx to 2, bump_amount to 1.4901161193847656\n",
      "bumps: [0.48828125, 1.1920928955078125, -1, -1, -1, -1, -1, -1, -1, -1, -1, -1, -1, -1, -1, -1, -1, -1, -1, -1, -1, -1, -1, -1, -1, -1, -1, -1, -1, -1, -1, -1, -1, -1, -1, -1, -1, -1, -1, -1, -1, -1, -1, -1, -1, -1, -1, -1, -1, -1]\n",
      "[0228_121240]***NEW ITR 3***\n"
     ]
    },
    {
     "name": "stderr",
     "output_type": "stream",
     "text": [
      "100%|██████████████████████████████████████████████████████| 274/274 [00:15<00:00, 17.29it/s]\n"
     ]
    },
    {
     "name": "stdout",
     "output_type": "stream",
     "text": [
      "assigned bin_idx 2\n",
      "Cur bump_idx: 2 bump amount: 1.4901161193847656 target_class_pred: 7585 bin_idx: 2\n",
      "updating cur_bump_idx to 3, bump_amount to 1.862645149230957\n",
      "bumps: [0.48828125, 1.1920928955078125, 1.4901161193847656, -1, -1, -1, -1, -1, -1, -1, -1, -1, -1, -1, -1, -1, -1, -1, -1, -1, -1, -1, -1, -1, -1, -1, -1, -1, -1, -1, -1, -1, -1, -1, -1, -1, -1, -1, -1, -1, -1, -1, -1, -1, -1, -1, -1, -1, -1, -1]\n",
      "[0228_121256]***NEW ITR 4***\n"
     ]
    },
    {
     "name": "stderr",
     "output_type": "stream",
     "text": [
      "100%|██████████████████████████████████████████████████████| 274/274 [00:15<00:00, 17.58it/s]\n"
     ]
    },
    {
     "name": "stdout",
     "output_type": "stream",
     "text": [
      "assigned bin_idx 3\n",
      "Cur bump_idx: 3 bump amount: 1.862645149230957 target_class_pred: 8106 bin_idx: 3\n",
      "updating cur_bump_idx to 4, bump_amount to 2.3283064365386963\n",
      "bumps: [0.48828125, 1.1920928955078125, 1.4901161193847656, 1.862645149230957, -1, -1, -1, -1, -1, -1, -1, -1, -1, -1, -1, -1, -1, -1, -1, -1, -1, -1, -1, -1, -1, -1, -1, -1, -1, -1, -1, -1, -1, -1, -1, -1, -1, -1, -1, -1, -1, -1, -1, -1, -1, -1, -1, -1, -1, -1]\n",
      "[0228_121312]***NEW ITR 5***\n"
     ]
    },
    {
     "name": "stderr",
     "output_type": "stream",
     "text": [
      "100%|██████████████████████████████████████████████████████| 274/274 [00:15<00:00, 17.80it/s]\n"
     ]
    },
    {
     "name": "stdout",
     "output_type": "stream",
     "text": [
      "assigned bin_idx 4\n",
      "Cur bump_idx: 4 bump amount: 2.3283064365386963 target_class_pred: 9017 bin_idx: 4\n",
      "updating cur_bump_idx to 5, bump_amount to 2.9103830456733704\n",
      "bumps: [0.48828125, 1.1920928955078125, 1.4901161193847656, 1.862645149230957, 2.3283064365386963, -1, -1, -1, -1, -1, -1, -1, -1, -1, -1, -1, -1, -1, -1, -1, -1, -1, -1, -1, -1, -1, -1, -1, -1, -1, -1, -1, -1, -1, -1, -1, -1, -1, -1, -1, -1, -1, -1, -1, -1, -1, -1, -1, -1, -1]\n",
      "[0228_121327]***NEW ITR 6***\n"
     ]
    },
    {
     "name": "stderr",
     "output_type": "stream",
     "text": [
      "100%|██████████████████████████████████████████████████████| 274/274 [00:15<00:00, 18.26it/s]\n"
     ]
    },
    {
     "name": "stdout",
     "output_type": "stream",
     "text": [
      "assigned bin_idx 8\n",
      "Cur bump_idx: 5 bump amount: 2.9103830456733704 target_class_pred: 10710 bin_idx: 8\n",
      "Overshot to bin 8. Decreasing bump amount to 2.6193447411060333 aiming for bin 5\n",
      "bumps: [0.48828125, 1.1920928955078125, 1.4901161193847656, 1.862645149230957, 2.3283064365386963, -1, -1, -1, 2.9103830456733704, -1, -1, -1, -1, -1, -1, -1, -1, -1, -1, -1, -1, -1, -1, -1, -1, -1, -1, -1, -1, -1, -1, -1, -1, -1, -1, -1, -1, -1, -1, -1, -1, -1, -1, -1, -1, -1, -1, -1, -1, -1]\n",
      "[0228_121342]***NEW ITR 7***\n"
     ]
    },
    {
     "name": "stderr",
     "output_type": "stream",
     "text": [
      "100%|██████████████████████████████████████████████████████| 274/274 [00:15<00:00, 17.20it/s]\n"
     ]
    },
    {
     "name": "stdout",
     "output_type": "stream",
     "text": [
      "assigned bin_idx 6\n",
      "Cur bump_idx: 5 bump amount: 2.6193447411060333 target_class_pred: 9785 bin_idx: 6\n",
      "Overshot to bin 6. Decreasing bump amount to 2.473825588822365 aiming for bin 5\n",
      "bumps: [0.48828125, 1.1920928955078125, 1.4901161193847656, 1.862645149230957, 2.3283064365386963, -1, 2.6193447411060333, -1, 2.9103830456733704, -1, -1, -1, -1, -1, -1, -1, -1, -1, -1, -1, -1, -1, -1, -1, -1, -1, -1, -1, -1, -1, -1, -1, -1, -1, -1, -1, -1, -1, -1, -1, -1, -1, -1, -1, -1, -1, -1, -1, -1, -1]\n",
      "[0228_121358]***NEW ITR 8***\n"
     ]
    },
    {
     "name": "stderr",
     "output_type": "stream",
     "text": [
      "100%|██████████████████████████████████████████████████████| 274/274 [00:15<00:00, 17.51it/s]\n"
     ]
    },
    {
     "name": "stdout",
     "output_type": "stream",
     "text": [
      "assigned bin_idx 5\n",
      "Cur bump_idx: 5 bump amount: 2.473825588822365 target_class_pred: 9410 bin_idx: 5\n",
      "updating cur_bump_idx to 6, bump_amount to 3.092281986027956\n",
      "bumps: [0.48828125, 1.1920928955078125, 1.4901161193847656, 1.862645149230957, 2.3283064365386963, 2.473825588822365, 2.6193447411060333, -1, 2.9103830456733704, -1, -1, -1, -1, -1, -1, -1, -1, -1, -1, -1, -1, -1, -1, -1, -1, -1, -1, -1, -1, -1, -1, -1, -1, -1, -1, -1, -1, -1, -1, -1, -1, -1, -1, -1, -1, -1, -1, -1, -1, -1]\n",
      "[0228_121414]***NEW ITR 9***\n",
      "[0228_121414]***NEW ITR 10***\n"
     ]
    },
    {
     "name": "stderr",
     "output_type": "stream",
     "text": [
      "100%|██████████████████████████████████████████████████████| 274/274 [00:15<00:00, 17.80it/s]\n"
     ]
    },
    {
     "name": "stdout",
     "output_type": "stream",
     "text": [
      "bin_idx < cur_bump_idx (6 and 7) delta=1.25 new bump_amount: 3.2741809263825417\n"
     ]
    },
    {
     "name": "stderr",
     "output_type": "stream",
     "text": [
      "100%|██████████████████████████████████████████████████████| 274/274 [00:15<00:00, 18.21it/s]\n"
     ]
    },
    {
     "name": "stdout",
     "output_type": "stream",
     "text": [
      "assigned bin_idx 10\n",
      "Cur bump_idx: 7 bump amount: 3.2741809263825417 target_class_pred: 12261 bin_idx: 10\n",
      "Overshot to bin 10. Decreasing bump amount to 2.9467628337442875 aiming for bin 7\n",
      "bumps: [0.48828125, 1.1920928955078125, 1.4901161193847656, 1.862645149230957, 2.3283064365386963, 2.473825588822365, 2.6193447411060333, -1, 2.9103830456733704, -1, 3.2741809263825417, -1, -1, -1, -1, -1, -1, -1, -1, -1, -1, -1, -1, -1, -1, -1, -1, -1, -1, -1, -1, -1, -1, -1, -1, -1, -1, -1, -1, -1, -1, -1, -1, -1, -1, -1, -1, -1, -1, -1]\n",
      "[0228_121445]***NEW ITR 11***\n"
     ]
    },
    {
     "name": "stderr",
     "output_type": "stream",
     "text": [
      "100%|██████████████████████████████████████████████████████| 274/274 [00:15<00:00, 17.41it/s]\n"
     ]
    },
    {
     "name": "stdout",
     "output_type": "stream",
     "text": [
      "Overshot to bin 8. Decreasing bump amount to 2.7830537874251604 aiming for bin 7\n",
      "bumps: [0.48828125, 1.1920928955078125, 1.4901161193847656, 1.862645149230957, 2.3283064365386963, 2.473825588822365, 2.6193447411060333, -1, 2.9103830456733704, -1, 3.2741809263825417, -1, -1, -1, -1, -1, -1, -1, -1, -1, -1, -1, -1, -1, -1, -1, -1, -1, -1, -1, -1, -1, -1, -1, -1, -1, -1, -1, -1, -1, -1, -1, -1, -1, -1, -1, -1, -1, -1, -1]\n",
      "[0228_121500]***NEW ITR 12***\n"
     ]
    },
    {
     "name": "stderr",
     "output_type": "stream",
     "text": [
      "100%|██████████████████████████████████████████████████████| 274/274 [00:15<00:00, 17.59it/s]\n"
     ]
    },
    {
     "name": "stdout",
     "output_type": "stream",
     "text": [
      "assigned bin_idx 7\n",
      "Cur bump_idx: 7 bump amount: 2.7830537874251604 target_class_pred: 10271 bin_idx: 7\n",
      "updating cur_bump_idx to 8, bump_amount to 3.4788172342814505\n",
      "bumps: [0.48828125, 1.1920928955078125, 1.4901161193847656, 1.862645149230957, 2.3283064365386963, 2.473825588822365, 2.6193447411060333, 2.7830537874251604, 2.9103830456733704, -1, 3.2741809263825417, -1, -1, -1, -1, -1, -1, -1, -1, -1, -1, -1, -1, -1, -1, -1, -1, -1, -1, -1, -1, -1, -1, -1, -1, -1, -1, -1, -1, -1, -1, -1, -1, -1, -1, -1, -1, -1, -1, -1]\n",
      "[0228_121516]***NEW ITR 13***\n",
      "[0228_121516]***NEW ITR 14***\n"
     ]
    },
    {
     "name": "stderr",
     "output_type": "stream",
     "text": [
      "100%|██████████████████████████████████████████████████████| 274/274 [00:15<00:00, 17.92it/s]\n"
     ]
    },
    {
     "name": "stdout",
     "output_type": "stream",
     "text": [
      "bin_idx < cur_bump_idx (8 and 9) delta=1.25 new bump_amount: 3.637978807091713\n"
     ]
    },
    {
     "name": "stderr",
     "output_type": "stream",
     "text": [
      "100%|██████████████████████████████████████████████████████| 274/274 [00:14<00:00, 18.30it/s]\n"
     ]
    },
    {
     "name": "stdout",
     "output_type": "stream",
     "text": [
      "assigned bin_idx 14\n",
      "Cur bump_idx: 9 bump amount: 3.637978807091713 target_class_pred: 14202 bin_idx: 14\n",
      "Overshot to bin 14. Decreasing bump amount to 3.2741809263825417 aiming for bin 9\n",
      "bumps: [0.48828125, 1.1920928955078125, 1.4901161193847656, 1.862645149230957, 2.3283064365386963, 2.473825588822365, 2.6193447411060333, 2.7830537874251604, 2.9103830456733704, -1, 3.2741809263825417, -1, -1, -1, 3.637978807091713, -1, -1, -1, -1, -1, -1, -1, -1, -1, -1, -1, -1, -1, -1, -1, -1, -1, -1, -1, -1, -1, -1, -1, -1, -1, -1, -1, -1, -1, -1, -1, -1, -1, -1, -1]\n",
      "[0228_121546]***NEW ITR 15***\n"
     ]
    },
    {
     "name": "stderr",
     "output_type": "stream",
     "text": [
      "100%|██████████████████████████████████████████████████████| 274/274 [00:15<00:00, 17.45it/s]\n"
     ]
    },
    {
     "name": "stdout",
     "output_type": "stream",
     "text": [
      "Overshot to bin 10. Decreasing bump amount to 3.092281986027956 aiming for bin 9\n",
      "bumps: [0.48828125, 1.1920928955078125, 1.4901161193847656, 1.862645149230957, 2.3283064365386963, 2.473825588822365, 2.6193447411060333, 2.7830537874251604, 2.9103830456733704, -1, 3.2741809263825417, -1, -1, -1, 3.637978807091713, -1, -1, -1, -1, -1, -1, -1, -1, -1, -1, -1, -1, -1, -1, -1, -1, -1, -1, -1, -1, -1, -1, -1, -1, -1, -1, -1, -1, -1, -1, -1, -1, -1, -1, -1]\n",
      "[0228_121602]***NEW ITR 16***\n"
     ]
    },
    {
     "name": "stderr",
     "output_type": "stream",
     "text": [
      "100%|██████████████████████████████████████████████████████| 274/274 [00:15<00:00, 17.65it/s]\n"
     ]
    },
    {
     "name": "stdout",
     "output_type": "stream",
     "text": [
      "assigned bin_idx 9\n",
      "Cur bump_idx: 9 bump amount: 3.092281986027956 target_class_pred: 11413 bin_idx: 9\n",
      "updating cur_bump_idx to 10, bump_amount to 3.865352482534945\n",
      "bumps: [0.48828125, 1.1920928955078125, 1.4901161193847656, 1.862645149230957, 2.3283064365386963, 2.473825588822365, 2.6193447411060333, 2.7830537874251604, 2.9103830456733704, 3.092281986027956, 3.2741809263825417, -1, -1, -1, 3.637978807091713, -1, -1, -1, -1, -1, -1, -1, -1, -1, -1, -1, -1, -1, -1, -1, -1, -1, -1, -1, -1, -1, -1, -1, -1, -1, -1, -1, -1, -1, -1, -1, -1, -1, -1, -1]\n",
      "[0228_121617]***NEW ITR 17***\n",
      "[0228_121617]***NEW ITR 18***\n"
     ]
    },
    {
     "name": "stderr",
     "output_type": "stream",
     "text": [
      "100%|██████████████████████████████████████████████████████| 274/274 [00:15<00:00, 17.78it/s]\n"
     ]
    },
    {
     "name": "stdout",
     "output_type": "stream",
     "text": [
      "bin_idx < cur_bump_idx (10 and 11) delta=1.25 new bump_amount: 4.092726157978177\n"
     ]
    },
    {
     "name": "stderr",
     "output_type": "stream",
     "text": [
      "100%|██████████████████████████████████████████████████████| 274/274 [00:15<00:00, 18.26it/s]\n"
     ]
    },
    {
     "name": "stdout",
     "output_type": "stream",
     "text": [
      "assigned bin_idx 20\n",
      "Cur bump_idx: 11 bump amount: 4.092726157978177 target_class_pred: 17162 bin_idx: 20\n",
      "Overshot to bin 20. Decreasing bump amount to 3.6834535421803594 aiming for bin 11\n",
      "bumps: [0.48828125, 1.1920928955078125, 1.4901161193847656, 1.862645149230957, 2.3283064365386963, 2.473825588822365, 2.6193447411060333, 2.7830537874251604, 2.9103830456733704, 3.092281986027956, 3.2741809263825417, -1, -1, -1, 3.637978807091713, -1, -1, -1, -1, -1, 4.092726157978177, -1, -1, -1, -1, -1, -1, -1, -1, -1, -1, -1, -1, -1, -1, -1, -1, -1, -1, -1, -1, -1, -1, -1, -1, -1, -1, -1, -1, -1]\n",
      "[0228_121648]***NEW ITR 19***\n"
     ]
    },
    {
     "name": "stderr",
     "output_type": "stream",
     "text": [
      "100%|██████████████████████████████████████████████████████| 274/274 [00:15<00:00, 17.29it/s]\n"
     ]
    },
    {
     "name": "stdout",
     "output_type": "stream",
     "text": [
      "assigned bin_idx 15\n",
      "Cur bump_idx: 11 bump amount: 3.6834535421803594 target_class_pred: 14477 bin_idx: 15\n",
      "Overshot to bin 15. Decreasing bump amount to 3.4788172342814505 aiming for bin 11\n",
      "bumps: [0.48828125, 1.1920928955078125, 1.4901161193847656, 1.862645149230957, 2.3283064365386963, 2.473825588822365, 2.6193447411060333, 2.7830537874251604, 2.9103830456733704, 3.092281986027956, 3.2741809263825417, -1, -1, -1, 3.637978807091713, 3.6834535421803594, -1, -1, -1, -1, 4.092726157978177, -1, -1, -1, -1, -1, -1, -1, -1, -1, -1, -1, -1, -1, -1, -1, -1, -1, -1, -1, -1, -1, -1, -1, -1, -1, -1, -1, -1, -1]\n",
      "[0228_121704]***NEW ITR 20***\n"
     ]
    },
    {
     "name": "stderr",
     "output_type": "stream",
     "text": [
      "100%|██████████████████████████████████████████████████████| 274/274 [00:15<00:00, 17.52it/s]\n"
     ]
    },
    {
     "name": "stdout",
     "output_type": "stream",
     "text": [
      "assigned bin_idx 12\n",
      "Cur bump_idx: 11 bump amount: 3.4788172342814505 target_class_pred: 13286 bin_idx: 12\n",
      "Overshot to bin 12. Decreasing bump amount to 3.376499080331996 aiming for bin 11\n",
      "bumps: [0.48828125, 1.1920928955078125, 1.4901161193847656, 1.862645149230957, 2.3283064365386963, 2.473825588822365, 2.6193447411060333, 2.7830537874251604, 2.9103830456733704, 3.092281986027956, 3.2741809263825417, -1, 3.4788172342814505, -1, 3.637978807091713, 3.6834535421803594, -1, -1, -1, -1, 4.092726157978177, -1, -1, -1, -1, -1, -1, -1, -1, -1, -1, -1, -1, -1, -1, -1, -1, -1, -1, -1, -1, -1, -1, -1, -1, -1, -1, -1, -1, -1]\n",
      "[0228_121719]***NEW ITR 21***\n"
     ]
    },
    {
     "name": "stderr",
     "output_type": "stream",
     "text": [
      "100%|██████████████████████████████████████████████████████| 274/274 [00:15<00:00, 17.73it/s]\n"
     ]
    },
    {
     "name": "stdout",
     "output_type": "stream",
     "text": [
      "assigned bin_idx 11\n",
      "Cur bump_idx: 11 bump amount: 3.376499080331996 target_class_pred: 12730 bin_idx: 11\n",
      "updating cur_bump_idx to 12, bump_amount to 4.220623850414995\n",
      "bumps: [0.48828125, 1.1920928955078125, 1.4901161193847656, 1.862645149230957, 2.3283064365386963, 2.473825588822365, 2.6193447411060333, 2.7830537874251604, 2.9103830456733704, 3.092281986027956, 3.2741809263825417, 3.376499080331996, 3.4788172342814505, -1, 3.637978807091713, 3.6834535421803594, -1, -1, -1, -1, 4.092726157978177, -1, -1, -1, -1, -1, -1, -1, -1, -1, -1, -1, -1, -1, -1, -1, -1, -1, -1, -1, -1, -1, -1, -1, -1, -1, -1, -1, -1, -1]\n",
      "[0228_121735]***NEW ITR 22***\n",
      "[0228_121735]***NEW ITR 23***\n"
     ]
    },
    {
     "name": "stderr",
     "output_type": "stream",
     "text": [
      "100%|██████████████████████████████████████████████████████| 274/274 [00:15<00:00, 18.20it/s]\n"
     ]
    },
    {
     "name": "stdout",
     "output_type": "stream",
     "text": [
      "bin_idx < cur_bump_idx (12 and 13) delta=1.25 new bump_amount: 4.348521542851813\n"
     ]
    },
    {
     "name": "stderr",
     "output_type": "stream",
     "text": [
      "100%|██████████████████████████████████████████████████████| 274/274 [00:15<00:00, 17.44it/s]\n"
     ]
    },
    {
     "name": "stdout",
     "output_type": "stream",
     "text": [
      "assigned bin_idx 23\n",
      "Cur bump_idx: 13 bump amount: 4.348521542851813 target_class_pred: 19003 bin_idx: 23\n",
      "Overshot to bin 23. Decreasing bump amount to 3.913669388566632 aiming for bin 13\n",
      "bumps: [0.48828125, 1.1920928955078125, 1.4901161193847656, 1.862645149230957, 2.3283064365386963, 2.473825588822365, 2.6193447411060333, 2.7830537874251604, 2.9103830456733704, 3.092281986027956, 3.2741809263825417, 3.376499080331996, 3.4788172342814505, -1, 3.637978807091713, 3.6834535421803594, -1, -1, -1, -1, 4.092726157978177, -1, -1, 4.348521542851813, -1, -1, -1, -1, -1, -1, -1, -1, -1, -1, -1, -1, -1, -1, -1, -1, -1, -1, -1, -1, -1, -1, -1, -1, -1, -1]\n",
      "[0228_121806]***NEW ITR 24***\n"
     ]
    },
    {
     "name": "stderr",
     "output_type": "stream",
     "text": [
      "100%|██████████████████████████████████████████████████████| 274/274 [00:15<00:00, 17.61it/s]\n"
     ]
    },
    {
     "name": "stdout",
     "output_type": "stream",
     "text": [
      "assigned bin_idx 18\n",
      "Cur bump_idx: 13 bump amount: 3.913669388566632 target_class_pred: 15964 bin_idx: 18\n",
      "Overshot to bin 18. Decreasing bump amount to 3.696243311424041 aiming for bin 13\n",
      "bumps: [0.48828125, 1.1920928955078125, 1.4901161193847656, 1.862645149230957, 2.3283064365386963, 2.473825588822365, 2.6193447411060333, 2.7830537874251604, 2.9103830456733704, 3.092281986027956, 3.2741809263825417, 3.376499080331996, 3.4788172342814505, -1, 3.637978807091713, 3.6834535421803594, -1, -1, 3.913669388566632, -1, 4.092726157978177, -1, -1, 4.348521542851813, -1, -1, -1, -1, -1, -1, -1, -1, -1, -1, -1, -1, -1, -1, -1, -1, -1, -1, -1, -1, -1, -1, -1, -1, -1, -1]\n",
      "[0228_121821]***NEW ITR 25***\n"
     ]
    },
    {
     "name": "stderr",
     "output_type": "stream",
     "text": [
      "100%|██████████████████████████████████████████████████████| 274/274 [00:15<00:00, 17.78it/s]\n"
     ]
    },
    {
     "name": "stdout",
     "output_type": "stream",
     "text": [
      "Overshot to bin 15. Decreasing bump amount to 3.587530272852746 aiming for bin 13\n",
      "bumps: [0.48828125, 1.1920928955078125, 1.4901161193847656, 1.862645149230957, 2.3283064365386963, 2.473825588822365, 2.6193447411060333, 2.7830537874251604, 2.9103830456733704, 3.092281986027956, 3.2741809263825417, 3.376499080331996, 3.4788172342814505, -1, 3.637978807091713, 3.6834535421803594, -1, -1, 3.913669388566632, -1, 4.092726157978177, -1, -1, 4.348521542851813, -1, -1, -1, -1, -1, -1, -1, -1, -1, -1, -1, -1, -1, -1, -1, -1, -1, -1, -1, -1, -1, -1, -1, -1, -1, -1]\n",
      "[0228_121837]***NEW ITR 26***\n"
     ]
    },
    {
     "name": "stderr",
     "output_type": "stream",
     "text": [
      "100%|██████████████████████████████████████████████████████| 274/274 [00:15<00:00, 17.99it/s]\n"
     ]
    },
    {
     "name": "stdout",
     "output_type": "stream",
     "text": [
      "Overshot to bin 14. Decreasing bump amount to 3.533173753567098 aiming for bin 13\n",
      "bumps: [0.48828125, 1.1920928955078125, 1.4901161193847656, 1.862645149230957, 2.3283064365386963, 2.473825588822365, 2.6193447411060333, 2.7830537874251604, 2.9103830456733704, 3.092281986027956, 3.2741809263825417, 3.376499080331996, 3.4788172342814505, -1, 3.637978807091713, 3.6834535421803594, -1, -1, 3.913669388566632, -1, 4.092726157978177, -1, -1, 4.348521542851813, -1, -1, -1, -1, -1, -1, -1, -1, -1, -1, -1, -1, -1, -1, -1, -1, -1, -1, -1, -1, -1, -1, -1, -1, -1, -1]\n",
      "[0228_121852]***NEW ITR 27***\n"
     ]
    },
    {
     "name": "stderr",
     "output_type": "stream",
     "text": [
      "100%|██████████████████████████████████████████████████████| 274/274 [00:15<00:00, 17.76it/s]\n"
     ]
    },
    {
     "name": "stdout",
     "output_type": "stream",
     "text": [
      "assigned bin_idx 13\n",
      "Cur bump_idx: 13 bump amount: 3.533173753567098 target_class_pred: 13569 bin_idx: 13\n",
      "updating cur_bump_idx to 14, bump_amount to 4.416467191958873\n",
      "bumps: [0.48828125, 1.1920928955078125, 1.4901161193847656, 1.862645149230957, 2.3283064365386963, 2.473825588822365, 2.6193447411060333, 2.7830537874251604, 2.9103830456733704, 3.092281986027956, 3.2741809263825417, 3.376499080331996, 3.4788172342814505, 3.533173753567098, 3.637978807091713, 3.6834535421803594, -1, -1, 3.913669388566632, -1, 4.092726157978177, -1, -1, 4.348521542851813, -1, -1, -1, -1, -1, -1, -1, -1, -1, -1, -1, -1, -1, -1, -1, -1, -1, -1, -1, -1, -1, -1, -1, -1, -1, -1]\n",
      "[0228_121908]***NEW ITR 28***\n",
      "[0228_121908]***NEW ITR 29***\n",
      "[0228_121908]***NEW ITR 30***\n"
     ]
    },
    {
     "name": "stderr",
     "output_type": "stream",
     "text": [
      "100%|██████████████████████████████████████████████████████| 274/274 [00:15<00:00, 17.75it/s]\n"
     ]
    },
    {
     "name": "stdout",
     "output_type": "stream",
     "text": [
      "bin_idx < cur_bump_idx (15 and 16) delta=1.25 new bump_amount: 4.604316927725449\n"
     ]
    },
    {
     "name": "stderr",
     "output_type": "stream",
     "text": [
      "100%|██████████████████████████████████████████████████████| 274/274 [00:15<00:00, 17.95it/s]\n"
     ]
    },
    {
     "name": "stdout",
     "output_type": "stream",
     "text": [
      "assigned bin_idx 27\n",
      "Cur bump_idx: 16 bump amount: 4.604316927725449 target_class_pred: 21012 bin_idx: 27\n",
      "Overshot to bin 27. Decreasing bump amount to 4.143885234952904 aiming for bin 16\n",
      "bumps: [0.48828125, 1.1920928955078125, 1.4901161193847656, 1.862645149230957, 2.3283064365386963, 2.473825588822365, 2.6193447411060333, 2.7830537874251604, 2.9103830456733704, 3.092281986027956, 3.2741809263825417, 3.376499080331996, 3.4788172342814505, 3.533173753567098, 3.637978807091713, 3.6834535421803594, -1, -1, 3.913669388566632, -1, 4.092726157978177, -1, -1, 4.348521542851813, -1, -1, -1, 4.604316927725449, -1, -1, -1, -1, -1, -1, -1, -1, -1, -1, -1, -1, -1, -1, -1, -1, -1, -1, -1, -1, -1, -1]\n",
      "[0228_121938]***NEW ITR 31***\n"
     ]
    },
    {
     "name": "stderr",
     "output_type": "stream",
     "text": [
      "100%|██████████████████████████████████████████████████████| 274/274 [00:14<00:00, 18.28it/s]\n"
     ]
    },
    {
     "name": "stdout",
     "output_type": "stream",
     "text": [
      "assigned bin_idx 21\n",
      "Cur bump_idx: 16 bump amount: 4.143885234952904 target_class_pred: 17538 bin_idx: 21\n",
      "Overshot to bin 21. Decreasing bump amount to 3.913669388566632 aiming for bin 16\n",
      "bumps: [0.48828125, 1.1920928955078125, 1.4901161193847656, 1.862645149230957, 2.3283064365386963, 2.473825588822365, 2.6193447411060333, 2.7830537874251604, 2.9103830456733704, 3.092281986027956, 3.2741809263825417, 3.376499080331996, 3.4788172342814505, 3.533173753567098, 3.637978807091713, 3.6834535421803594, -1, -1, 3.913669388566632, -1, 4.092726157978177, 4.143885234952904, -1, 4.348521542851813, -1, -1, -1, 4.604316927725449, -1, -1, -1, -1, -1, -1, -1, -1, -1, -1, -1, -1, -1, -1, -1, -1, -1, -1, -1, -1, -1, -1]\n",
      "[0228_121953]***NEW ITR 32***\n"
     ]
    },
    {
     "name": "stderr",
     "output_type": "stream",
     "text": [
      "100%|██████████████████████████████████████████████████████| 274/274 [00:15<00:00, 17.34it/s]\n"
     ]
    },
    {
     "name": "stdout",
     "output_type": "stream",
     "text": [
      "Overshot to bin 18. Decreasing bump amount to 3.7985614653734956 aiming for bin 16\n",
      "bumps: [0.48828125, 1.1920928955078125, 1.4901161193847656, 1.862645149230957, 2.3283064365386963, 2.473825588822365, 2.6193447411060333, 2.7830537874251604, 2.9103830456733704, 3.092281986027956, 3.2741809263825417, 3.376499080331996, 3.4788172342814505, 3.533173753567098, 3.637978807091713, 3.6834535421803594, -1, -1, 3.913669388566632, -1, 4.092726157978177, 4.143885234952904, -1, 4.348521542851813, -1, -1, -1, 4.604316927725449, -1, -1, -1, -1, -1, -1, -1, -1, -1, -1, -1, -1, -1, -1, -1, -1, -1, -1, -1, -1, -1, -1]\n",
      "[0228_122009]***NEW ITR 33***\n"
     ]
    },
    {
     "name": "stderr",
     "output_type": "stream",
     "text": [
      "100%|██████████████████████████████████████████████████████| 274/274 [00:15<00:00, 17.60it/s]\n"
     ]
    },
    {
     "name": "stdout",
     "output_type": "stream",
     "text": [
      "assigned bin_idx 16\n",
      "Cur bump_idx: 16 bump amount: 3.7985614653734956 target_class_pred: 15186 bin_idx: 16\n",
      "updating cur_bump_idx to 17, bump_amount to 4.7482018317168695\n",
      "bumps: [0.48828125, 1.1920928955078125, 1.4901161193847656, 1.862645149230957, 2.3283064365386963, 2.473825588822365, 2.6193447411060333, 2.7830537874251604, 2.9103830456733704, 3.092281986027956, 3.2741809263825417, 3.376499080331996, 3.4788172342814505, 3.533173753567098, 3.637978807091713, 3.6834535421803594, 3.7985614653734956, -1, 3.913669388566632, -1, 4.092726157978177, 4.143885234952904, -1, 4.348521542851813, -1, -1, -1, 4.604316927725449, -1, -1, -1, -1, -1, -1, -1, -1, -1, -1, -1, -1, -1, -1, -1, -1, -1, -1, -1, -1, -1, -1]\n",
      "[0228_122025]***NEW ITR 34***\n"
     ]
    },
    {
     "name": "stderr",
     "output_type": "stream",
     "text": [
      "100%|██████████████████████████████████████████████████████| 274/274 [00:15<00:00, 17.79it/s]\n"
     ]
    },
    {
     "name": "stdout",
     "output_type": "stream",
     "text": [
      "assigned bin_idx 29\n",
      "Cur bump_idx: 17 bump amount: 4.7482018317168695 target_class_pred: 22181 bin_idx: 29\n",
      "Overshot to bin 29. Decreasing bump amount to 4.2733816485451825 aiming for bin 17\n",
      "bumps: [0.48828125, 1.1920928955078125, 1.4901161193847656, 1.862645149230957, 2.3283064365386963, 2.473825588822365, 2.6193447411060333, 2.7830537874251604, 2.9103830456733704, 3.092281986027956, 3.2741809263825417, 3.376499080331996, 3.4788172342814505, 3.533173753567098, 3.637978807091713, 3.6834535421803594, 3.7985614653734956, -1, 3.913669388566632, -1, 4.092726157978177, 4.143885234952904, -1, 4.348521542851813, -1, -1, -1, 4.604316927725449, -1, 4.7482018317168695, -1, -1, -1, -1, -1, -1, -1, -1, -1, -1, -1, -1, -1, -1, -1, -1, -1, -1, -1, -1]\n",
      "[0228_122040]***NEW ITR 35***\n"
     ]
    },
    {
     "name": "stderr",
     "output_type": "stream",
     "text": [
      "100%|██████████████████████████████████████████████████████| 274/274 [00:15<00:00, 18.25it/s]\n"
     ]
    },
    {
     "name": "stdout",
     "output_type": "stream",
     "text": [
      "assigned bin_idx 22\n",
      "Cur bump_idx: 17 bump amount: 4.2733816485451825 target_class_pred: 18459 bin_idx: 22\n",
      "Overshot to bin 22. Decreasing bump amount to 4.035971556959339 aiming for bin 17\n",
      "bumps: [0.48828125, 1.1920928955078125, 1.4901161193847656, 1.862645149230957, 2.3283064365386963, 2.473825588822365, 2.6193447411060333, 2.7830537874251604, 2.9103830456733704, 3.092281986027956, 3.2741809263825417, 3.376499080331996, 3.4788172342814505, 3.533173753567098, 3.637978807091713, 3.6834535421803594, 3.7985614653734956, -1, 3.913669388566632, -1, 4.092726157978177, 4.143885234952904, 4.2733816485451825, 4.348521542851813, -1, -1, -1, 4.604316927725449, -1, 4.7482018317168695, -1, -1, -1, -1, -1, -1, -1, -1, -1, -1, -1, -1, -1, -1, -1, -1, -1, -1, -1, -1]\n",
      "[0228_122055]***NEW ITR 36***\n"
     ]
    },
    {
     "name": "stderr",
     "output_type": "stream",
     "text": [
      "100%|██████████████████████████████████████████████████████| 274/274 [00:15<00:00, 17.31it/s]\n"
     ]
    },
    {
     "name": "stdout",
     "output_type": "stream",
     "text": [
      "assigned bin_idx 19\n",
      "Cur bump_idx: 17 bump amount: 4.035971556959339 target_class_pred: 16756 bin_idx: 19\n",
      "Overshot to bin 19. Decreasing bump amount to 3.9172665111664173 aiming for bin 17\n",
      "bumps: [0.48828125, 1.1920928955078125, 1.4901161193847656, 1.862645149230957, 2.3283064365386963, 2.473825588822365, 2.6193447411060333, 2.7830537874251604, 2.9103830456733704, 3.092281986027956, 3.2741809263825417, 3.376499080331996, 3.4788172342814505, 3.533173753567098, 3.637978807091713, 3.6834535421803594, 3.7985614653734956, -1, 3.913669388566632, 4.035971556959339, 4.092726157978177, 4.143885234952904, 4.2733816485451825, 4.348521542851813, -1, -1, -1, 4.604316927725449, -1, 4.7482018317168695, -1, -1, -1, -1, -1, -1, -1, -1, -1, -1, -1, -1, -1, -1, -1, -1, -1, -1, -1, -1]\n",
      "[0228_122111]***NEW ITR 37***\n"
     ]
    },
    {
     "name": "stderr",
     "output_type": "stream",
     "text": [
      "100%|██████████████████████████████████████████████████████| 274/274 [00:15<00:00, 17.57it/s]\n"
     ]
    },
    {
     "name": "stdout",
     "output_type": "stream",
     "text": [
      "Overshot to bin 18. Decreasing bump amount to 3.8579139882699565 aiming for bin 17\n",
      "bumps: [0.48828125, 1.1920928955078125, 1.4901161193847656, 1.862645149230957, 2.3283064365386963, 2.473825588822365, 2.6193447411060333, 2.7830537874251604, 2.9103830456733704, 3.092281986027956, 3.2741809263825417, 3.376499080331996, 3.4788172342814505, 3.533173753567098, 3.637978807091713, 3.6834535421803594, 3.7985614653734956, -1, 3.913669388566632, 4.035971556959339, 4.092726157978177, 4.143885234952904, 4.2733816485451825, 4.348521542851813, -1, -1, -1, 4.604316927725449, -1, 4.7482018317168695, -1, -1, -1, -1, -1, -1, -1, -1, -1, -1, -1, -1, -1, -1, -1, -1, -1, -1, -1, -1]\n",
      "[0228_122127]***NEW ITR 38***\n"
     ]
    },
    {
     "name": "stderr",
     "output_type": "stream",
     "text": [
      "100%|██████████████████████████████████████████████████████| 274/274 [00:15<00:00, 17.68it/s]\n"
     ]
    },
    {
     "name": "stdout",
     "output_type": "stream",
     "text": [
      "assigned bin_idx 17\n",
      "Cur bump_idx: 17 bump amount: 3.8579139882699565 target_class_pred: 15603 bin_idx: 17\n",
      "updating cur_bump_idx to 18, bump_amount to 4.822392485337446\n",
      "bumps: [0.48828125, 1.1920928955078125, 1.4901161193847656, 1.862645149230957, 2.3283064365386963, 2.473825588822365, 2.6193447411060333, 2.7830537874251604, 2.9103830456733704, 3.092281986027956, 3.2741809263825417, 3.376499080331996, 3.4788172342814505, 3.533173753567098, 3.637978807091713, 3.6834535421803594, 3.7985614653734956, 3.8579139882699565, 3.913669388566632, 4.035971556959339, 4.092726157978177, 4.143885234952904, 4.2733816485451825, 4.348521542851813, -1, -1, -1, 4.604316927725449, -1, 4.7482018317168695, -1, -1, -1, -1, -1, -1, -1, -1, -1, -1, -1, -1, -1, -1, -1, -1, -1, -1, -1, -1]\n",
      "[0228_122142]***NEW ITR 39***\n",
      "[0228_122142]***NEW ITR 40***\n",
      "[0228_122142]***NEW ITR 41***\n",
      "[0228_122142]***NEW ITR 42***\n",
      "[0228_122142]***NEW ITR 43***\n",
      "[0228_122142]***NEW ITR 44***\n",
      "[0228_122142]***NEW ITR 45***\n"
     ]
    },
    {
     "name": "stderr",
     "output_type": "stream",
     "text": [
      "100%|██████████████████████████████████████████████████████| 274/274 [00:15<00:00, 18.25it/s]\n"
     ]
    },
    {
     "name": "stdout",
     "output_type": "stream",
     "text": [
      "bin_idx < cur_bump_idx (23 and 24) delta=1.25 new bump_amount: 5.435651928564766\n"
     ]
    },
    {
     "name": "stderr",
     "output_type": "stream",
     "text": [
      "100%|██████████████████████████████████████████████████████| 274/274 [00:15<00:00, 17.25it/s]\n"
     ]
    },
    {
     "name": "stdout",
     "output_type": "stream",
     "text": [
      "assigned bin_idx 41\n",
      "Cur bump_idx: 24 bump amount: 5.435651928564766 target_class_pred: 28038 bin_idx: 41\n",
      "Overshot to bin 41. Decreasing bump amount to 4.89208673570829 aiming for bin 24\n",
      "bumps: [0.48828125, 1.1920928955078125, 1.4901161193847656, 1.862645149230957, 2.3283064365386963, 2.473825588822365, 2.6193447411060333, 2.7830537874251604, 2.9103830456733704, 3.092281986027956, 3.2741809263825417, 3.376499080331996, 3.4788172342814505, 3.533173753567098, 3.637978807091713, 3.6834535421803594, 3.7985614653734956, 3.8579139882699565, 3.913669388566632, 4.035971556959339, 4.092726157978177, 4.143885234952904, 4.2733816485451825, 4.348521542851813, -1, -1, -1, 4.604316927725449, -1, 4.7482018317168695, -1, -1, -1, -1, -1, -1, -1, -1, -1, -1, -1, 5.435651928564766, -1, -1, -1, -1, -1, -1, -1, -1]\n",
      "[0228_122213]***NEW ITR 46***\n"
     ]
    },
    {
     "name": "stderr",
     "output_type": "stream",
     "text": [
      "100%|██████████████████████████████████████████████████████| 274/274 [00:15<00:00, 17.60it/s]\n"
     ]
    },
    {
     "name": "stdout",
     "output_type": "stream",
     "text": [
      "assigned bin_idx 32\n",
      "Cur bump_idx: 24 bump amount: 4.89208673570829 target_class_pred: 23319 bin_idx: 32\n",
      "Overshot to bin 32. Decreasing bump amount to 4.6203041392800515 aiming for bin 24\n",
      "bumps: [0.48828125, 1.1920928955078125, 1.4901161193847656, 1.862645149230957, 2.3283064365386963, 2.473825588822365, 2.6193447411060333, 2.7830537874251604, 2.9103830456733704, 3.092281986027956, 3.2741809263825417, 3.376499080331996, 3.4788172342814505, 3.533173753567098, 3.637978807091713, 3.6834535421803594, 3.7985614653734956, 3.8579139882699565, 3.913669388566632, 4.035971556959339, 4.092726157978177, 4.143885234952904, 4.2733816485451825, 4.348521542851813, -1, -1, -1, 4.604316927725449, -1, 4.7482018317168695, -1, -1, 4.89208673570829, -1, -1, -1, -1, -1, -1, -1, -1, 5.435651928564766, -1, -1, -1, -1, -1, -1, -1, -1]\n",
      "[0228_122229]***NEW ITR 47***\n"
     ]
    },
    {
     "name": "stderr",
     "output_type": "stream",
     "text": [
      "100%|██████████████████████████████████████████████████████| 274/274 [00:15<00:00, 17.77it/s]\n"
     ]
    },
    {
     "name": "stdout",
     "output_type": "stream",
     "text": [
      "Overshot to bin 27. Decreasing bump amount to 4.484412841065932 aiming for bin 24\n",
      "bumps: [0.48828125, 1.1920928955078125, 1.4901161193847656, 1.862645149230957, 2.3283064365386963, 2.473825588822365, 2.6193447411060333, 2.7830537874251604, 2.9103830456733704, 3.092281986027956, 3.2741809263825417, 3.376499080331996, 3.4788172342814505, 3.533173753567098, 3.637978807091713, 3.6834535421803594, 3.7985614653734956, 3.8579139882699565, 3.913669388566632, 4.035971556959339, 4.092726157978177, 4.143885234952904, 4.2733816485451825, 4.348521542851813, -1, -1, -1, 4.604316927725449, -1, 4.7482018317168695, -1, -1, 4.89208673570829, -1, -1, -1, -1, -1, -1, -1, -1, 5.435651928564766, -1, -1, -1, -1, -1, -1, -1, -1]\n",
      "[0228_122244]***NEW ITR 48***\n"
     ]
    },
    {
     "name": "stderr",
     "output_type": "stream",
     "text": [
      "100%|██████████████████████████████████████████████████████| 274/274 [00:15<00:00, 18.23it/s]\n"
     ]
    },
    {
     "name": "stdout",
     "output_type": "stream",
     "text": [
      "assigned bin_idx 25\n",
      "Cur bump_idx: 24 bump amount: 4.484412841065932 target_class_pred: 20036 bin_idx: 25\n",
      "Overshot to bin 25. Decreasing bump amount to 4.416467191958873 aiming for bin 24\n",
      "bumps: [0.48828125, 1.1920928955078125, 1.4901161193847656, 1.862645149230957, 2.3283064365386963, 2.473825588822365, 2.6193447411060333, 2.7830537874251604, 2.9103830456733704, 3.092281986027956, 3.2741809263825417, 3.376499080331996, 3.4788172342814505, 3.533173753567098, 3.637978807091713, 3.6834535421803594, 3.7985614653734956, 3.8579139882699565, 3.913669388566632, 4.035971556959339, 4.092726157978177, 4.143885234952904, 4.2733816485451825, 4.348521542851813, -1, 4.484412841065932, -1, 4.604316927725449, -1, 4.7482018317168695, -1, -1, 4.89208673570829, -1, -1, -1, -1, -1, -1, -1, -1, 5.435651928564766, -1, -1, -1, -1, -1, -1, -1, -1]\n",
      "[0228_122259]***NEW ITR 49***\n"
     ]
    },
    {
     "name": "stderr",
     "output_type": "stream",
     "text": [
      "100%|██████████████████████████████████████████████████████| 274/274 [00:15<00:00, 17.25it/s]\n"
     ]
    },
    {
     "name": "stdout",
     "output_type": "stream",
     "text": [
      "assigned bin_idx 24\n",
      "Cur bump_idx: 24 bump amount: 4.416467191958873 target_class_pred: 19520 bin_idx: 24\n",
      "updating cur_bump_idx to 25, bump_amount to 5.520583989948591\n",
      "bumps: [0.48828125, 1.1920928955078125, 1.4901161193847656, 1.862645149230957, 2.3283064365386963, 2.473825588822365, 2.6193447411060333, 2.7830537874251604, 2.9103830456733704, 3.092281986027956, 3.2741809263825417, 3.376499080331996, 3.4788172342814505, 3.533173753567098, 3.637978807091713, 3.6834535421803594, 3.7985614653734956, 3.8579139882699565, 3.913669388566632, 4.035971556959339, 4.092726157978177, 4.143885234952904, 4.2733816485451825, 4.348521542851813, 4.416467191958873, 4.484412841065932, -1, 4.604316927725449, -1, 4.7482018317168695, -1, -1, 4.89208673570829, -1, -1, -1, -1, -1, -1, -1, -1, 5.435651928564766, -1, -1, -1, -1, -1, -1, -1, -1]\n",
      "[0228_122315]***NEW ITR 50***\n",
      "[0228_122315]***NEW ITR 51***\n"
     ]
    },
    {
     "name": "stderr",
     "output_type": "stream",
     "text": [
      "100%|██████████████████████████████████████████████████████| 274/274 [00:15<00:00, 17.65it/s]\n"
     ]
    },
    {
     "name": "stdout",
     "output_type": "stream",
     "text": [
      "bin_idx < cur_bump_idx (25 and 26) delta=1.25 new bump_amount: 5.605516051332415\n"
     ]
    },
    {
     "name": "stderr",
     "output_type": "stream",
     "text": [
      "100%|██████████████████████████████████████████████████████| 274/274 [00:15<00:00, 17.82it/s]\n"
     ]
    },
    {
     "name": "stdout",
     "output_type": "stream",
     "text": [
      "assigned bin_idx 44\n",
      "Cur bump_idx: 26 bump amount: 5.605516051332415 target_class_pred: 29829 bin_idx: 44\n",
      "Overshot to bin 44. Decreasing bump amount to 5.044964446199174 aiming for bin 26\n",
      "bumps: [0.48828125, 1.1920928955078125, 1.4901161193847656, 1.862645149230957, 2.3283064365386963, 2.473825588822365, 2.6193447411060333, 2.7830537874251604, 2.9103830456733704, 3.092281986027956, 3.2741809263825417, 3.376499080331996, 3.4788172342814505, 3.533173753567098, 3.637978807091713, 3.6834535421803594, 3.7985614653734956, 3.8579139882699565, 3.913669388566632, 4.035971556959339, 4.092726157978177, 4.143885234952904, 4.2733816485451825, 4.348521542851813, 4.416467191958873, 4.484412841065932, -1, 4.604316927725449, -1, 4.7482018317168695, -1, -1, 4.89208673570829, -1, -1, -1, -1, -1, -1, -1, -1, 5.435651928564766, -1, -1, 5.605516051332415, -1, -1, -1, -1, -1]\n",
      "[0228_122346]***NEW ITR 52***\n"
     ]
    },
    {
     "name": "stderr",
     "output_type": "stream",
     "text": [
      "100%|██████████████████████████████████████████████████████| 274/274 [00:14<00:00, 18.47it/s]\n"
     ]
    },
    {
     "name": "stdout",
     "output_type": "stream",
     "text": [
      "assigned bin_idx 34\n",
      "Cur bump_idx: 26 bump amount: 5.044964446199174 target_class_pred: 24581 bin_idx: 34\n",
      "Overshot to bin 34. Decreasing bump amount to 4.764688643632553 aiming for bin 26\n",
      "bumps: [0.48828125, 1.1920928955078125, 1.4901161193847656, 1.862645149230957, 2.3283064365386963, 2.473825588822365, 2.6193447411060333, 2.7830537874251604, 2.9103830456733704, 3.092281986027956, 3.2741809263825417, 3.376499080331996, 3.4788172342814505, 3.533173753567098, 3.637978807091713, 3.6834535421803594, 3.7985614653734956, 3.8579139882699565, 3.913669388566632, 4.035971556959339, 4.092726157978177, 4.143885234952904, 4.2733816485451825, 4.348521542851813, 4.416467191958873, 4.484412841065932, -1, 4.604316927725449, -1, 4.7482018317168695, -1, -1, 4.89208673570829, -1, 5.044964446199174, -1, -1, -1, -1, -1, -1, 5.435651928564766, -1, -1, 5.605516051332415, -1, -1, -1, -1, -1]\n",
      "[0228_122401]***NEW ITR 53***\n"
     ]
    },
    {
     "name": "stderr",
     "output_type": "stream",
     "text": [
      "100%|██████████████████████████████████████████████████████| 274/274 [00:15<00:00, 17.16it/s]\n"
     ]
    },
    {
     "name": "stdout",
     "output_type": "stream",
     "text": [
      "assigned bin_idx 30\n",
      "Cur bump_idx: 26 bump amount: 4.764688643632553 target_class_pred: 22318 bin_idx: 30\n",
      "Overshot to bin 30. Decreasing bump amount to 4.624550742349243 aiming for bin 26\n",
      "bumps: [0.48828125, 1.1920928955078125, 1.4901161193847656, 1.862645149230957, 2.3283064365386963, 2.473825588822365, 2.6193447411060333, 2.7830537874251604, 2.9103830456733704, 3.092281986027956, 3.2741809263825417, 3.376499080331996, 3.4788172342814505, 3.533173753567098, 3.637978807091713, 3.6834535421803594, 3.7985614653734956, 3.8579139882699565, 3.913669388566632, 4.035971556959339, 4.092726157978177, 4.143885234952904, 4.2733816485451825, 4.348521542851813, 4.416467191958873, 4.484412841065932, -1, 4.604316927725449, -1, 4.7482018317168695, 4.764688643632553, -1, 4.89208673570829, -1, 5.044964446199174, -1, -1, -1, -1, -1, -1, 5.435651928564766, -1, -1, 5.605516051332415, -1, -1, -1, -1, -1]\n",
      "[0228_122417]***NEW ITR 54***\n"
     ]
    },
    {
     "name": "stderr",
     "output_type": "stream",
     "text": [
      "100%|██████████████████████████████████████████████████████| 274/274 [00:15<00:00, 17.54it/s]\n"
     ]
    },
    {
     "name": "stdout",
     "output_type": "stream",
     "text": [
      "assigned bin_idx 28\n",
      "Cur bump_idx: 26 bump amount: 4.624550742349243 target_class_pred: 21155 bin_idx: 28\n",
      "Overshot to bin 28. Decreasing bump amount to 4.5544817917075875 aiming for bin 26\n",
      "bumps: [0.48828125, 1.1920928955078125, 1.4901161193847656, 1.862645149230957, 2.3283064365386963, 2.473825588822365, 2.6193447411060333, 2.7830537874251604, 2.9103830456733704, 3.092281986027956, 3.2741809263825417, 3.376499080331996, 3.4788172342814505, 3.533173753567098, 3.637978807091713, 3.6834535421803594, 3.7985614653734956, 3.8579139882699565, 3.913669388566632, 4.035971556959339, 4.092726157978177, 4.143885234952904, 4.2733816485451825, 4.348521542851813, 4.416467191958873, 4.484412841065932, -1, 4.604316927725449, 4.624550742349243, 4.7482018317168695, 4.764688643632553, -1, 4.89208673570829, -1, 5.044964446199174, -1, -1, -1, -1, -1, -1, 5.435651928564766, -1, -1, 5.605516051332415, -1, -1, -1, -1, -1]\n",
      "[0228_122433]***NEW ITR 55***\n"
     ]
    },
    {
     "name": "stderr",
     "output_type": "stream",
     "text": [
      "100%|██████████████████████████████████████████████████████| 274/274 [00:15<00:00, 17.69it/s]\n"
     ]
    },
    {
     "name": "stdout",
     "output_type": "stream",
     "text": [
      "assigned bin_idx 26\n",
      "Cur bump_idx: 26 bump amount: 4.5544817917075875 target_class_pred: 20607 bin_idx: 26\n",
      "updating cur_bump_idx to 27, bump_amount to 5.693102239634484\n",
      "bumps: [0.48828125, 1.1920928955078125, 1.4901161193847656, 1.862645149230957, 2.3283064365386963, 2.473825588822365, 2.6193447411060333, 2.7830537874251604, 2.9103830456733704, 3.092281986027956, 3.2741809263825417, 3.376499080331996, 3.4788172342814505, 3.533173753567098, 3.637978807091713, 3.6834535421803594, 3.7985614653734956, 3.8579139882699565, 3.913669388566632, 4.035971556959339, 4.092726157978177, 4.143885234952904, 4.2733816485451825, 4.348521542851813, 4.416467191958873, 4.484412841065932, 4.5544817917075875, 4.604316927725449, 4.624550742349243, 4.7482018317168695, 4.764688643632553, -1, 4.89208673570829, -1, 5.044964446199174, -1, -1, -1, -1, -1, -1, 5.435651928564766, -1, -1, 5.605516051332415, -1, -1, -1, -1, -1]\n",
      "[0228_122448]***NEW ITR 56***\n",
      "[0228_122448]***NEW ITR 57***\n",
      "[0228_122448]***NEW ITR 58***\n",
      "[0228_122448]***NEW ITR 59***\n",
      "[0228_122448]***NEW ITR 60***\n"
     ]
    },
    {
     "name": "stderr",
     "output_type": "stream",
     "text": [
      "100%|██████████████████████████████████████████████████████| 274/274 [00:14<00:00, 18.29it/s]\n"
     ]
    },
    {
     "name": "stdout",
     "output_type": "stream",
     "text": [
      "bin_idx < cur_bump_idx (30 and 31) delta=1.25 new bump_amount: 5.955860804540691\n"
     ]
    },
    {
     "name": "stderr",
     "output_type": "stream",
     "text": [
      "100%|██████████████████████████████████████████████████████| 274/274 [00:15<00:00, 17.22it/s]\n"
     ]
    },
    {
     "name": "stdout",
     "output_type": "stream",
     "text": [
      "bin_idx > n_bins (61) delta=1.25 new bump_amount: 5.360274724086622\n",
      "[0228_122519]***NEW ITR 61***\n"
     ]
    },
    {
     "name": "stderr",
     "output_type": "stream",
     "text": [
      "100%|██████████████████████████████████████████████████████| 274/274 [00:15<00:00, 17.65it/s]\n"
     ]
    },
    {
     "name": "stdout",
     "output_type": "stream",
     "text": [
      "assigned bin_idx 39\n",
      "Cur bump_idx: 31 bump amount: 5.360274724086622 target_class_pred: 27298 bin_idx: 39\n",
      "Overshot to bin 39. Decreasing bump amount to 5.062481683859588 aiming for bin 31\n",
      "bumps: [0.48828125, 1.1920928955078125, 1.4901161193847656, 1.862645149230957, 2.3283064365386963, 2.473825588822365, 2.6193447411060333, 2.7830537874251604, 2.9103830456733704, 3.092281986027956, 3.2741809263825417, 3.376499080331996, 3.4788172342814505, 3.533173753567098, 3.637978807091713, 3.6834535421803594, 3.7985614653734956, 3.8579139882699565, 3.913669388566632, 4.035971556959339, 4.092726157978177, 4.143885234952904, 4.2733816485451825, 4.348521542851813, 4.416467191958873, 4.484412841065932, 4.5544817917075875, 4.604316927725449, 4.624550742349243, 4.7482018317168695, 4.764688643632553, -1, 4.89208673570829, -1, 5.044964446199174, -1, -1, -1, -1, 5.360274724086622, -1, 5.435651928564766, -1, -1, 5.605516051332415, -1, -1, -1, -1, -1]\n",
      "[0228_122535]***NEW ITR 62***\n"
     ]
    },
    {
     "name": "stderr",
     "output_type": "stream",
     "text": [
      "100%|██████████████████████████████████████████████████████| 274/274 [00:15<00:00, 17.91it/s]\n"
     ]
    },
    {
     "name": "stdout",
     "output_type": "stream",
     "text": [
      "Overshot to bin 34. Decreasing bump amount to 4.91358516374607 aiming for bin 31\n",
      "bumps: [0.48828125, 1.1920928955078125, 1.4901161193847656, 1.862645149230957, 2.3283064365386963, 2.473825588822365, 2.6193447411060333, 2.7830537874251604, 2.9103830456733704, 3.092281986027956, 3.2741809263825417, 3.376499080331996, 3.4788172342814505, 3.533173753567098, 3.637978807091713, 3.6834535421803594, 3.7985614653734956, 3.8579139882699565, 3.913669388566632, 4.035971556959339, 4.092726157978177, 4.143885234952904, 4.2733816485451825, 4.348521542851813, 4.416467191958873, 4.484412841065932, 4.5544817917075875, 4.604316927725449, 4.624550742349243, 4.7482018317168695, 4.764688643632553, -1, 4.89208673570829, -1, 5.044964446199174, -1, -1, -1, -1, 5.360274724086622, -1, 5.435651928564766, -1, -1, 5.605516051332415, -1, -1, -1, -1, -1]\n",
      "[0228_122550]***NEW ITR 63***\n"
     ]
    },
    {
     "name": "stderr",
     "output_type": "stream",
     "text": [
      "100%|██████████████████████████████████████████████████████| 274/274 [00:14<00:00, 18.30it/s]\n"
     ]
    },
    {
     "name": "stdout",
     "output_type": "stream",
     "text": [
      "Overshot to bin 32. Decreasing bump amount to 4.839136903689312 aiming for bin 31\n",
      "bumps: [0.48828125, 1.1920928955078125, 1.4901161193847656, 1.862645149230957, 2.3283064365386963, 2.473825588822365, 2.6193447411060333, 2.7830537874251604, 2.9103830456733704, 3.092281986027956, 3.2741809263825417, 3.376499080331996, 3.4788172342814505, 3.533173753567098, 3.637978807091713, 3.6834535421803594, 3.7985614653734956, 3.8579139882699565, 3.913669388566632, 4.035971556959339, 4.092726157978177, 4.143885234952904, 4.2733816485451825, 4.348521542851813, 4.416467191958873, 4.484412841065932, 4.5544817917075875, 4.604316927725449, 4.624550742349243, 4.7482018317168695, 4.764688643632553, -1, 4.89208673570829, -1, 5.044964446199174, -1, -1, -1, -1, 5.360274724086622, -1, 5.435651928564766, -1, -1, 5.605516051332415, -1, -1, -1, -1, -1]\n",
      "[0228_122605]***NEW ITR 64***\n"
     ]
    },
    {
     "name": "stderr",
     "output_type": "stream",
     "text": [
      "100%|██████████████████████████████████████████████████████| 274/274 [00:16<00:00, 16.74it/s]\n"
     ]
    },
    {
     "name": "stdout",
     "output_type": "stream",
     "text": [
      "assigned bin_idx 31\n",
      "Cur bump_idx: 31 bump amount: 4.839136903689312 target_class_pred: 22897 bin_idx: 31\n",
      "updating cur_bump_idx to 32, bump_amount to 6.04892112961164\n",
      "bumps: [0.48828125, 1.1920928955078125, 1.4901161193847656, 1.862645149230957, 2.3283064365386963, 2.473825588822365, 2.6193447411060333, 2.7830537874251604, 2.9103830456733704, 3.092281986027956, 3.2741809263825417, 3.376499080331996, 3.4788172342814505, 3.533173753567098, 3.637978807091713, 3.6834535421803594, 3.7985614653734956, 3.8579139882699565, 3.913669388566632, 4.035971556959339, 4.092726157978177, 4.143885234952904, 4.2733816485451825, 4.348521542851813, 4.416467191958873, 4.484412841065932, 4.5544817917075875, 4.604316927725449, 4.624550742349243, 4.7482018317168695, 4.764688643632553, 4.839136903689312, 4.89208673570829, -1, 5.044964446199174, -1, -1, -1, -1, 5.360274724086622, -1, 5.435651928564766, -1, -1, 5.605516051332415, -1, -1, -1, -1, -1]\n",
      "[0228_122621]***NEW ITR 65***\n",
      "[0228_122621]***NEW ITR 66***\n"
     ]
    },
    {
     "name": "stderr",
     "output_type": "stream",
     "text": [
      "100%|██████████████████████████████████████████████████████| 274/274 [00:09<00:00, 27.87it/s]\n"
     ]
    },
    {
     "name": "stdout",
     "output_type": "stream",
     "text": [
      "bin_idx < cur_bump_idx (32 and 33) delta=1.25 new bump_amount: 6.115108419635362\n"
     ]
    },
    {
     "name": "stderr",
     "output_type": "stream",
     "text": [
      "100%|██████████████████████████████████████████████████████| 274/274 [00:07<00:00, 35.51it/s]\n"
     ]
    },
    {
     "name": "stdout",
     "output_type": "stream",
     "text": [
      "bin_idx > n_bins (76) delta=1.25 new bump_amount: 5.503597577671826\n",
      "[0228_122639]***NEW ITR 67***\n"
     ]
    },
    {
     "name": "stderr",
     "output_type": "stream",
     "text": [
      "100%|██████████████████████████████████████████████████████| 274/274 [00:14<00:00, 19.50it/s]\n"
     ]
    },
    {
     "name": "stdout",
     "output_type": "stream",
     "text": [
      "assigned bin_idx 42\n",
      "Cur bump_idx: 33 bump amount: 5.503597577671826 target_class_pred: 28702 bin_idx: 42\n",
      "Overshot to bin 42. Decreasing bump amount to 5.197842156690058 aiming for bin 33\n",
      "bumps: [0.48828125, 1.1920928955078125, 1.4901161193847656, 1.862645149230957, 2.3283064365386963, 2.473825588822365, 2.6193447411060333, 2.7830537874251604, 2.9103830456733704, 3.092281986027956, 3.2741809263825417, 3.376499080331996, 3.4788172342814505, 3.533173753567098, 3.637978807091713, 3.6834535421803594, 3.7985614653734956, 3.8579139882699565, 3.913669388566632, 4.035971556959339, 4.092726157978177, 4.143885234952904, 4.2733816485451825, 4.348521542851813, 4.416467191958873, 4.484412841065932, 4.5544817917075875, 4.604316927725449, 4.624550742349243, 4.7482018317168695, 4.764688643632553, 4.839136903689312, 4.89208673570829, -1, 5.044964446199174, -1, -1, -1, -1, 5.360274724086622, -1, 5.435651928564766, 5.503597577671826, -1, 5.605516051332415, -1, -1, -1, -1, -1]\n",
      "[0228_122653]***NEW ITR 68***\n"
     ]
    },
    {
     "name": "stderr",
     "output_type": "stream",
     "text": [
      "100%|██████████████████████████████████████████████████████| 274/274 [00:15<00:00, 18.18it/s]\n"
     ]
    },
    {
     "name": "stdout",
     "output_type": "stream",
     "text": [
      "assigned bin_idx 36\n",
      "Cur bump_idx: 33 bump amount: 5.197842156690058 target_class_pred: 25834 bin_idx: 36\n",
      "Overshot to bin 36. Decreasing bump amount to 5.044964446199174 aiming for bin 33\n",
      "bumps: [0.48828125, 1.1920928955078125, 1.4901161193847656, 1.862645149230957, 2.3283064365386963, 2.473825588822365, 2.6193447411060333, 2.7830537874251604, 2.9103830456733704, 3.092281986027956, 3.2741809263825417, 3.376499080331996, 3.4788172342814505, 3.533173753567098, 3.637978807091713, 3.6834535421803594, 3.7985614653734956, 3.8579139882699565, 3.913669388566632, 4.035971556959339, 4.092726157978177, 4.143885234952904, 4.2733816485451825, 4.348521542851813, 4.416467191958873, 4.484412841065932, 4.5544817917075875, 4.604316927725449, 4.624550742349243, 4.7482018317168695, 4.764688643632553, 4.839136903689312, 4.89208673570829, -1, 5.044964446199174, -1, 5.197842156690058, -1, -1, 5.360274724086622, -1, 5.435651928564766, 5.503597577671826, -1, 5.605516051332415, -1, -1, -1, -1, -1]\n",
      "[0228_122708]***NEW ITR 69***\n"
     ]
    },
    {
     "name": "stderr",
     "output_type": "stream",
     "text": [
      "100%|██████████████████████████████████████████████████████| 274/274 [00:15<00:00, 17.30it/s]\n"
     ]
    },
    {
     "name": "stdout",
     "output_type": "stream",
     "text": [
      "Overshot to bin 34. Decreasing bump amount to 4.968525590953732 aiming for bin 33\n",
      "bumps: [0.48828125, 1.1920928955078125, 1.4901161193847656, 1.862645149230957, 2.3283064365386963, 2.473825588822365, 2.6193447411060333, 2.7830537874251604, 2.9103830456733704, 3.092281986027956, 3.2741809263825417, 3.376499080331996, 3.4788172342814505, 3.533173753567098, 3.637978807091713, 3.6834535421803594, 3.7985614653734956, 3.8579139882699565, 3.913669388566632, 4.035971556959339, 4.092726157978177, 4.143885234952904, 4.2733816485451825, 4.348521542851813, 4.416467191958873, 4.484412841065932, 4.5544817917075875, 4.604316927725449, 4.624550742349243, 4.7482018317168695, 4.764688643632553, 4.839136903689312, 4.89208673570829, -1, 5.044964446199174, -1, 5.197842156690058, -1, -1, 5.360274724086622, -1, 5.435651928564766, 5.503597577671826, -1, 5.605516051332415, -1, -1, -1, -1, -1]\n",
      "[0228_122724]***NEW ITR 70***\n"
     ]
    },
    {
     "name": "stderr",
     "output_type": "stream",
     "text": [
      "100%|██████████████████████████████████████████████████████| 274/274 [00:15<00:00, 17.70it/s]\n"
     ]
    },
    {
     "name": "stdout",
     "output_type": "stream",
     "text": [
      "assigned bin_idx 33\n",
      "Cur bump_idx: 33 bump amount: 4.968525590953732 target_class_pred: 23929 bin_idx: 33\n",
      "updating cur_bump_idx to 34, bump_amount to 6.210656988692165\n",
      "bumps: [0.48828125, 1.1920928955078125, 1.4901161193847656, 1.862645149230957, 2.3283064365386963, 2.473825588822365, 2.6193447411060333, 2.7830537874251604, 2.9103830456733704, 3.092281986027956, 3.2741809263825417, 3.376499080331996, 3.4788172342814505, 3.533173753567098, 3.637978807091713, 3.6834535421803594, 3.7985614653734956, 3.8579139882699565, 3.913669388566632, 4.035971556959339, 4.092726157978177, 4.143885234952904, 4.2733816485451825, 4.348521542851813, 4.416467191958873, 4.484412841065932, 4.5544817917075875, 4.604316927725449, 4.624550742349243, 4.7482018317168695, 4.764688643632553, 4.839136903689312, 4.89208673570829, 4.968525590953732, 5.044964446199174, -1, 5.197842156690058, -1, -1, 5.360274724086622, -1, 5.435651928564766, 5.503597577671826, -1, 5.605516051332415, -1, -1, -1, -1, -1]\n",
      "[0228_122739]***NEW ITR 71***\n",
      "[0228_122739]***NEW ITR 72***\n"
     ]
    },
    {
     "name": "stderr",
     "output_type": "stream",
     "text": [
      "100%|██████████████████████████████████████████████████████| 274/274 [00:15<00:00, 17.68it/s]\n"
     ]
    },
    {
     "name": "stdout",
     "output_type": "stream",
     "text": [
      "bin_idx < cur_bump_idx (34 and 35) delta=1.25 new bump_amount: 6.306205557748967\n"
     ]
    },
    {
     "name": "stderr",
     "output_type": "stream",
     "text": [
      "100%|██████████████████████████████████████████████████████| 274/274 [00:15<00:00, 18.22it/s]\n"
     ]
    },
    {
     "name": "stdout",
     "output_type": "stream",
     "text": [
      "bin_idx > n_bins (83) delta=1.25 new bump_amount: 5.675585001974071\n",
      "[0228_122810]***NEW ITR 73***\n"
     ]
    },
    {
     "name": "stderr",
     "output_type": "stream",
     "text": [
      "100%|██████████████████████████████████████████████████████| 274/274 [00:15<00:00, 17.26it/s]\n"
     ]
    },
    {
     "name": "stdout",
     "output_type": "stream",
     "text": [
      "assigned bin_idx 46\n",
      "Cur bump_idx: 35 bump amount: 5.675585001974071 target_class_pred: 30800 bin_idx: 46\n",
      "Overshot to bin 46. Decreasing bump amount to 5.360274724086622 aiming for bin 35\n",
      "bumps: [0.48828125, 1.1920928955078125, 1.4901161193847656, 1.862645149230957, 2.3283064365386963, 2.473825588822365, 2.6193447411060333, 2.7830537874251604, 2.9103830456733704, 3.092281986027956, 3.2741809263825417, 3.376499080331996, 3.4788172342814505, 3.533173753567098, 3.637978807091713, 3.6834535421803594, 3.7985614653734956, 3.8579139882699565, 3.913669388566632, 4.035971556959339, 4.092726157978177, 4.143885234952904, 4.2733816485451825, 4.348521542851813, 4.416467191958873, 4.484412841065932, 4.5544817917075875, 4.604316927725449, 4.624550742349243, 4.7482018317168695, 4.764688643632553, 4.839136903689312, 4.89208673570829, 4.968525590953732, 5.044964446199174, -1, 5.197842156690058, -1, -1, 5.360274724086622, -1, 5.435651928564766, 5.503597577671826, -1, 5.605516051332415, -1, 5.675585001974071, -1, -1, -1]\n",
      "[0228_122826]***NEW ITR 74***\n"
     ]
    },
    {
     "name": "stderr",
     "output_type": "stream",
     "text": [
      "100%|██████████████████████████████████████████████████████| 274/274 [00:15<00:00, 17.74it/s]\n"
     ]
    },
    {
     "name": "stdout",
     "output_type": "stream",
     "text": [
      "Overshot to bin 39. Decreasing bump amount to 5.202619585142898 aiming for bin 35\n",
      "bumps: [0.48828125, 1.1920928955078125, 1.4901161193847656, 1.862645149230957, 2.3283064365386963, 2.473825588822365, 2.6193447411060333, 2.7830537874251604, 2.9103830456733704, 3.092281986027956, 3.2741809263825417, 3.376499080331996, 3.4788172342814505, 3.533173753567098, 3.637978807091713, 3.6834535421803594, 3.7985614653734956, 3.8579139882699565, 3.913669388566632, 4.035971556959339, 4.092726157978177, 4.143885234952904, 4.2733816485451825, 4.348521542851813, 4.416467191958873, 4.484412841065932, 4.5544817917075875, 4.604316927725449, 4.624550742349243, 4.7482018317168695, 4.764688643632553, 4.839136903689312, 4.89208673570829, 4.968525590953732, 5.044964446199174, -1, 5.197842156690058, -1, -1, 5.360274724086622, -1, 5.435651928564766, 5.503597577671826, -1, 5.605516051332415, -1, 5.675585001974071, -1, -1, -1]\n",
      "[0228_122841]***NEW ITR 75***\n"
     ]
    },
    {
     "name": "stderr",
     "output_type": "stream",
     "text": [
      "100%|██████████████████████████████████████████████████████| 274/274 [00:15<00:00, 17.86it/s]\n"
     ]
    },
    {
     "name": "stdout",
     "output_type": "stream",
     "text": [
      "assigned bin_idx 37\n",
      "Cur bump_idx: 35 bump amount: 5.202619585142898 target_class_pred: 25886 bin_idx: 37\n",
      "Overshot to bin 37. Decreasing bump amount to 5.123792015671036 aiming for bin 35\n",
      "bumps: [0.48828125, 1.1920928955078125, 1.4901161193847656, 1.862645149230957, 2.3283064365386963, 2.473825588822365, 2.6193447411060333, 2.7830537874251604, 2.9103830456733704, 3.092281986027956, 3.2741809263825417, 3.376499080331996, 3.4788172342814505, 3.533173753567098, 3.637978807091713, 3.6834535421803594, 3.7985614653734956, 3.8579139882699565, 3.913669388566632, 4.035971556959339, 4.092726157978177, 4.143885234952904, 4.2733816485451825, 4.348521542851813, 4.416467191958873, 4.484412841065932, 4.5544817917075875, 4.604316927725449, 4.624550742349243, 4.7482018317168695, 4.764688643632553, 4.839136903689312, 4.89208673570829, 4.968525590953732, 5.044964446199174, -1, 5.197842156690058, 5.202619585142898, -1, 5.360274724086622, -1, 5.435651928564766, 5.503597577671826, -1, 5.605516051332415, -1, 5.675585001974071, -1, -1, -1]\n",
      "[0228_122857]***NEW ITR 76***\n"
     ]
    },
    {
     "name": "stderr",
     "output_type": "stream",
     "text": [
      "100%|██████████████████████████████████████████████████████| 274/274 [00:15<00:00, 18.24it/s]\n"
     ]
    },
    {
     "name": "stdout",
     "output_type": "stream",
     "text": [
      "assigned bin_idx 35\n",
      "Cur bump_idx: 35 bump amount: 5.123792015671036 target_class_pred: 25193 bin_idx: 35\n",
      "updating cur_bump_idx to 36, bump_amount to 6.404740019588795\n",
      "bumps: [0.48828125, 1.1920928955078125, 1.4901161193847656, 1.862645149230957, 2.3283064365386963, 2.473825588822365, 2.6193447411060333, 2.7830537874251604, 2.9103830456733704, 3.092281986027956, 3.2741809263825417, 3.376499080331996, 3.4788172342814505, 3.533173753567098, 3.637978807091713, 3.6834535421803594, 3.7985614653734956, 3.8579139882699565, 3.913669388566632, 4.035971556959339, 4.092726157978177, 4.143885234952904, 4.2733816485451825, 4.348521542851813, 4.416467191958873, 4.484412841065932, 4.5544817917075875, 4.604316927725449, 4.624550742349243, 4.7482018317168695, 4.764688643632553, 4.839136903689312, 4.89208673570829, 4.968525590953732, 5.044964446199174, 5.123792015671036, 5.197842156690058, 5.202619585142898, -1, 5.360274724086622, -1, 5.435651928564766, 5.503597577671826, -1, 5.605516051332415, -1, 5.675585001974071, -1, -1, -1]\n",
      "[0228_122912]***NEW ITR 77***\n",
      "[0228_122912]***NEW ITR 78***\n",
      "[0228_122912]***NEW ITR 79***\n"
     ]
    },
    {
     "name": "stderr",
     "output_type": "stream",
     "text": [
      "100%|██████████████████████████████████████████████████████| 274/274 [00:15<00:00, 17.28it/s]\n"
     ]
    },
    {
     "name": "stdout",
     "output_type": "stream",
     "text": [
      "bin_idx < cur_bump_idx (37 and 38) delta=1.25 new bump_amount: 6.5032744814286225\n"
     ]
    },
    {
     "name": "stderr",
     "output_type": "stream",
     "text": [
      "100%|██████████████████████████████████████████████████████| 274/274 [00:15<00:00, 17.72it/s]\n",
      "/n/fs/ac-editing/model-editing/src/model/metric.py:168: RuntimeWarning: invalid value encountered in divide\n",
      "  return np.nan_to_num(TPs / (TPs + FPs))\n",
      "/n/fs/ac-editing/model-editing/src/model/metric.py:205: RuntimeWarning: invalid value encountered in divide\n",
      "  return np.nan_to_num(2 * precisions * recalls / (precisions + recalls))\n"
     ]
    },
    {
     "name": "stdout",
     "output_type": "stream",
     "text": [
      "bin_idx > n_bins (86) delta=1.25 new bump_amount: 5.85294703328576\n",
      "[0228_122943]***NEW ITR 80***\n"
     ]
    },
    {
     "name": "stderr",
     "output_type": "stream",
     "text": [
      "100%|██████████████████████████████████████████████████████| 274/274 [00:15<00:00, 17.58it/s]\n"
     ]
    },
    {
     "name": "stdout",
     "output_type": "stream",
     "text": [
      "bin_idx > n_bins (54) delta=1.25 new bump_amount: 5.527783309214329\n",
      "[0228_122959]***NEW ITR 81***\n"
     ]
    },
    {
     "name": "stderr",
     "output_type": "stream",
     "text": [
      "100%|██████████████████████████████████████████████████████| 274/274 [00:15<00:00, 18.22it/s]\n"
     ]
    },
    {
     "name": "stdout",
     "output_type": "stream",
     "text": [
      "Overshot to bin 42. Decreasing bump amount to 5.365201447178613 aiming for bin 38\n",
      "bumps: [0.48828125, 1.1920928955078125, 1.4901161193847656, 1.862645149230957, 2.3283064365386963, 2.473825588822365, 2.6193447411060333, 2.7830537874251604, 2.9103830456733704, 3.092281986027956, 3.2741809263825417, 3.376499080331996, 3.4788172342814505, 3.533173753567098, 3.637978807091713, 3.6834535421803594, 3.7985614653734956, 3.8579139882699565, 3.913669388566632, 4.035971556959339, 4.092726157978177, 4.143885234952904, 4.2733816485451825, 4.348521542851813, 4.416467191958873, 4.484412841065932, 4.5544817917075875, 4.604316927725449, 4.624550742349243, 4.7482018317168695, 4.764688643632553, 4.839136903689312, 4.89208673570829, 4.968525590953732, 5.044964446199174, 5.123792015671036, 5.197842156690058, 5.202619585142898, -1, 5.360274724086622, -1, 5.435651928564766, 5.503597577671826, -1, 5.605516051332415, -1, 5.675585001974071, -1, -1, -1]\n",
      "[0228_123014]***NEW ITR 82***\n"
     ]
    },
    {
     "name": "stderr",
     "output_type": "stream",
     "text": [
      "100%|██████████████████████████████████████████████████████| 274/274 [00:15<00:00, 17.34it/s]\n"
     ]
    },
    {
     "name": "stdout",
     "output_type": "stream",
     "text": [
      "Overshot to bin 39. Decreasing bump amount to 5.283910516160756 aiming for bin 38\n",
      "bumps: [0.48828125, 1.1920928955078125, 1.4901161193847656, 1.862645149230957, 2.3283064365386963, 2.473825588822365, 2.6193447411060333, 2.7830537874251604, 2.9103830456733704, 3.092281986027956, 3.2741809263825417, 3.376499080331996, 3.4788172342814505, 3.533173753567098, 3.637978807091713, 3.6834535421803594, 3.7985614653734956, 3.8579139882699565, 3.913669388566632, 4.035971556959339, 4.092726157978177, 4.143885234952904, 4.2733816485451825, 4.348521542851813, 4.416467191958873, 4.484412841065932, 4.5544817917075875, 4.604316927725449, 4.624550742349243, 4.7482018317168695, 4.764688643632553, 4.839136903689312, 4.89208673570829, 4.968525590953732, 5.044964446199174, 5.123792015671036, 5.197842156690058, 5.202619585142898, -1, 5.360274724086622, -1, 5.435651928564766, 5.503597577671826, -1, 5.605516051332415, -1, 5.675585001974071, -1, -1, -1]\n",
      "[0228_123030]***NEW ITR 83***\n"
     ]
    },
    {
     "name": "stderr",
     "output_type": "stream",
     "text": [
      "100%|██████████████████████████████████████████████████████| 274/274 [00:15<00:00, 17.79it/s]\n"
     ]
    },
    {
     "name": "stdout",
     "output_type": "stream",
     "text": [
      "assigned bin_idx 38\n",
      "Cur bump_idx: 38 bump amount: 5.283910516160756 target_class_pred: 26616 bin_idx: 38\n",
      "updating cur_bump_idx to 39, bump_amount to 6.6048881452009445\n",
      "bumps: [0.48828125, 1.1920928955078125, 1.4901161193847656, 1.862645149230957, 2.3283064365386963, 2.473825588822365, 2.6193447411060333, 2.7830537874251604, 2.9103830456733704, 3.092281986027956, 3.2741809263825417, 3.376499080331996, 3.4788172342814505, 3.533173753567098, 3.637978807091713, 3.6834535421803594, 3.7985614653734956, 3.8579139882699565, 3.913669388566632, 4.035971556959339, 4.092726157978177, 4.143885234952904, 4.2733816485451825, 4.348521542851813, 4.416467191958873, 4.484412841065932, 4.5544817917075875, 4.604316927725449, 4.624550742349243, 4.7482018317168695, 4.764688643632553, 4.839136903689312, 4.89208673570829, 4.968525590953732, 5.044964446199174, 5.123792015671036, 5.197842156690058, 5.202619585142898, 5.283910516160756, 5.360274724086622, -1, 5.435651928564766, 5.503597577671826, -1, 5.605516051332415, -1, 5.675585001974071, -1, -1, -1]\n",
      "[0228_123045]***NEW ITR 84***\n",
      "[0228_123045]***NEW ITR 85***\n"
     ]
    },
    {
     "name": "stderr",
     "output_type": "stream",
     "text": [
      "100%|██████████████████████████████████████████████████████| 274/274 [00:15<00:00, 17.70it/s]\n"
     ]
    },
    {
     "name": "stdout",
     "output_type": "stream",
     "text": [
      "bin_idx < cur_bump_idx (39 and 40) delta=1.25 new bump_amount: 6.700343405108278\n"
     ]
    },
    {
     "name": "stderr",
     "output_type": "stream",
     "text": [
      "100%|██████████████████████████████████████████████████████| 274/274 [00:15<00:00, 18.21it/s]\n",
      "/n/fs/ac-editing/model-editing/src/model/metric.py:168: RuntimeWarning: invalid value encountered in divide\n",
      "  return np.nan_to_num(TPs / (TPs + FPs))\n",
      "/n/fs/ac-editing/model-editing/src/model/metric.py:205: RuntimeWarning: invalid value encountered in divide\n",
      "  return np.nan_to_num(2 * precisions * recalls / (precisions + recalls))\n"
     ]
    },
    {
     "name": "stdout",
     "output_type": "stream",
     "text": [
      "bin_idx > n_bins (88) delta=1.25 new bump_amount: 6.03030906459745\n",
      "[0228_123116]***NEW ITR 86***\n"
     ]
    },
    {
     "name": "stderr",
     "output_type": "stream",
     "text": [
      "100%|██████████████████████████████████████████████████████| 274/274 [00:15<00:00, 17.30it/s]\n"
     ]
    },
    {
     "name": "stdout",
     "output_type": "stream",
     "text": [
      "bin_idx > n_bins (68) delta=1.25 new bump_amount: 5.695291894342036\n",
      "[0228_123132]***NEW ITR 87***\n"
     ]
    },
    {
     "name": "stderr",
     "output_type": "stream",
     "text": [
      "100%|██████████████████████████████████████████████████████| 274/274 [00:15<00:00, 17.82it/s]\n"
     ]
    },
    {
     "name": "stdout",
     "output_type": "stream",
     "text": [
      "assigned bin_idx 47\n",
      "Cur bump_idx: 40 bump amount: 5.695291894342036 target_class_pred: 31098 bin_idx: 47\n",
      "Overshot to bin 47. Decreasing bump amount to 5.527783309214329 aiming for bin 40\n",
      "bumps: [0.48828125, 1.1920928955078125, 1.4901161193847656, 1.862645149230957, 2.3283064365386963, 2.473825588822365, 2.6193447411060333, 2.7830537874251604, 2.9103830456733704, 3.092281986027956, 3.2741809263825417, 3.376499080331996, 3.4788172342814505, 3.533173753567098, 3.637978807091713, 3.6834535421803594, 3.7985614653734956, 3.8579139882699565, 3.913669388566632, 4.035971556959339, 4.092726157978177, 4.143885234952904, 4.2733816485451825, 4.348521542851813, 4.416467191958873, 4.484412841065932, 4.5544817917075875, 4.604316927725449, 4.624550742349243, 4.7482018317168695, 4.764688643632553, 4.839136903689312, 4.89208673570829, 4.968525590953732, 5.044964446199174, 5.123792015671036, 5.197842156690058, 5.202619585142898, 5.283910516160756, 5.360274724086622, -1, 5.435651928564766, 5.503597577671826, -1, 5.605516051332415, -1, 5.675585001974071, 5.695291894342036, -1, -1]\n",
      "[0228_123147]***NEW ITR 88***\n"
     ]
    },
    {
     "name": "stderr",
     "output_type": "stream",
     "text": [
      "100%|██████████████████████████████████████████████████████| 274/274 [00:15<00:00, 17.68it/s]\n"
     ]
    },
    {
     "name": "stdout",
     "output_type": "stream",
     "text": [
      "Overshot to bin 42. Decreasing bump amount to 5.444029016650475 aiming for bin 40\n",
      "bumps: [0.48828125, 1.1920928955078125, 1.4901161193847656, 1.862645149230957, 2.3283064365386963, 2.473825588822365, 2.6193447411060333, 2.7830537874251604, 2.9103830456733704, 3.092281986027956, 3.2741809263825417, 3.376499080331996, 3.4788172342814505, 3.533173753567098, 3.637978807091713, 3.6834535421803594, 3.7985614653734956, 3.8579139882699565, 3.913669388566632, 4.035971556959339, 4.092726157978177, 4.143885234952904, 4.2733816485451825, 4.348521542851813, 4.416467191958873, 4.484412841065932, 4.5544817917075875, 4.604316927725449, 4.624550742349243, 4.7482018317168695, 4.764688643632553, 4.839136903689312, 4.89208673570829, 4.968525590953732, 5.044964446199174, 5.123792015671036, 5.197842156690058, 5.202619585142898, 5.283910516160756, 5.360274724086622, -1, 5.435651928564766, 5.503597577671826, -1, 5.605516051332415, -1, 5.675585001974071, 5.695291894342036, -1, -1]\n",
      "[0228_123203]***NEW ITR 89***\n"
     ]
    },
    {
     "name": "stderr",
     "output_type": "stream",
     "text": [
      "100%|██████████████████████████████████████████████████████| 274/274 [00:14<00:00, 18.53it/s]\n"
     ]
    },
    {
     "name": "stdout",
     "output_type": "stream",
     "text": [
      "Overshot to bin 41. Decreasing bump amount to 5.402151870368549 aiming for bin 40\n",
      "bumps: [0.48828125, 1.1920928955078125, 1.4901161193847656, 1.862645149230957, 2.3283064365386963, 2.473825588822365, 2.6193447411060333, 2.7830537874251604, 2.9103830456733704, 3.092281986027956, 3.2741809263825417, 3.376499080331996, 3.4788172342814505, 3.533173753567098, 3.637978807091713, 3.6834535421803594, 3.7985614653734956, 3.8579139882699565, 3.913669388566632, 4.035971556959339, 4.092726157978177, 4.143885234952904, 4.2733816485451825, 4.348521542851813, 4.416467191958873, 4.484412841065932, 4.5544817917075875, 4.604316927725449, 4.624550742349243, 4.7482018317168695, 4.764688643632553, 4.839136903689312, 4.89208673570829, 4.968525590953732, 5.044964446199174, 5.123792015671036, 5.197842156690058, 5.202619585142898, 5.283910516160756, 5.360274724086622, -1, 5.435651928564766, 5.503597577671826, -1, 5.605516051332415, -1, 5.675585001974071, 5.695291894342036, -1, -1]\n",
      "[0228_123217]***NEW ITR 90***\n"
     ]
    },
    {
     "name": "stderr",
     "output_type": "stream",
     "text": [
      "100%|██████████████████████████████████████████████████████| 274/274 [00:15<00:00, 17.26it/s]\n"
     ]
    },
    {
     "name": "stdout",
     "output_type": "stream",
     "text": [
      "assigned bin_idx 40\n",
      "Cur bump_idx: 40 bump amount: 5.402151870368549 target_class_pred: 27695 bin_idx: 40\n",
      "updating cur_bump_idx to 41, bump_amount to 6.752689837960686\n",
      "bumps: [0.48828125, 1.1920928955078125, 1.4901161193847656, 1.862645149230957, 2.3283064365386963, 2.473825588822365, 2.6193447411060333, 2.7830537874251604, 2.9103830456733704, 3.092281986027956, 3.2741809263825417, 3.376499080331996, 3.4788172342814505, 3.533173753567098, 3.637978807091713, 3.6834535421803594, 3.7985614653734956, 3.8579139882699565, 3.913669388566632, 4.035971556959339, 4.092726157978177, 4.143885234952904, 4.2733816485451825, 4.348521542851813, 4.416467191958873, 4.484412841065932, 4.5544817917075875, 4.604316927725449, 4.624550742349243, 4.7482018317168695, 4.764688643632553, 4.839136903689312, 4.89208673570829, 4.968525590953732, 5.044964446199174, 5.123792015671036, 5.197842156690058, 5.202619585142898, 5.283910516160756, 5.360274724086622, 5.402151870368549, 5.435651928564766, 5.503597577671826, -1, 5.605516051332415, -1, 5.675585001974071, 5.695291894342036, -1, -1]\n",
      "[0228_123233]***NEW ITR 91***\n",
      "[0228_123233]***NEW ITR 92***\n",
      "[0228_123233]***NEW ITR 93***\n"
     ]
    },
    {
     "name": "stderr",
     "output_type": "stream",
     "text": [
      "100%|██████████████████████████████████████████████████████| 274/274 [00:15<00:00, 17.76it/s]\n"
     ]
    },
    {
     "name": "stdout",
     "output_type": "stream",
     "text": [
      "bin_idx < cur_bump_idx (42 and 43) delta=1.25 new bump_amount: 6.8794969720897825\n"
     ]
    },
    {
     "name": "stderr",
     "output_type": "stream",
     "text": [
      "100%|██████████████████████████████████████████████████████| 274/274 [00:15<00:00, 17.74it/s]\n",
      "/n/fs/ac-editing/model-editing/src/model/metric.py:168: RuntimeWarning: invalid value encountered in divide\n",
      "  return np.nan_to_num(TPs / (TPs + FPs))\n",
      "/n/fs/ac-editing/model-editing/src/model/metric.py:205: RuntimeWarning: invalid value encountered in divide\n",
      "  return np.nan_to_num(2 * precisions * recalls / (precisions + recalls))\n"
     ]
    },
    {
     "name": "stdout",
     "output_type": "stream",
     "text": [
      "bin_idx > n_bins (91) delta=1.25 new bump_amount: 6.191547274880804\n",
      "[0228_123304]***NEW ITR 94***\n"
     ]
    },
    {
     "name": "stderr",
     "output_type": "stream",
     "text": [
      "100%|██████████████████████████████████████████████████████| 274/274 [00:15<00:00, 18.21it/s]\n"
     ]
    },
    {
     "name": "stdout",
     "output_type": "stream",
     "text": [
      "bin_idx > n_bins (80) delta=1.25 new bump_amount: 5.847572426276315\n",
      "[0228_123319]***NEW ITR 95***\n"
     ]
    },
    {
     "name": "stderr",
     "output_type": "stream",
     "text": [
      "100%|██████████████████████████████████████████████████████| 274/274 [00:15<00:00, 17.35it/s]\n"
     ]
    },
    {
     "name": "stdout",
     "output_type": "stream",
     "text": [
      "bin_idx > n_bins (53) delta=1.25 new bump_amount: 5.675585001974071\n",
      "[0228_123335]***NEW ITR 96***\n"
     ]
    },
    {
     "name": "stderr",
     "output_type": "stream",
     "text": [
      "100%|██████████████████████████████████████████████████████| 274/274 [00:15<00:00, 17.71it/s]\n"
     ]
    },
    {
     "name": "stdout",
     "output_type": "stream",
     "text": [
      "Overshot to bin 46. Decreasing bump amount to 5.589591289822948 aiming for bin 43\n",
      "bumps: [0.48828125, 1.1920928955078125, 1.4901161193847656, 1.862645149230957, 2.3283064365386963, 2.473825588822365, 2.6193447411060333, 2.7830537874251604, 2.9103830456733704, 3.092281986027956, 3.2741809263825417, 3.376499080331996, 3.4788172342814505, 3.533173753567098, 3.637978807091713, 3.6834535421803594, 3.7985614653734956, 3.8579139882699565, 3.913669388566632, 4.035971556959339, 4.092726157978177, 4.143885234952904, 4.2733816485451825, 4.348521542851813, 4.416467191958873, 4.484412841065932, 4.5544817917075875, 4.604316927725449, 4.624550742349243, 4.7482018317168695, 4.764688643632553, 4.839136903689312, 4.89208673570829, 4.968525590953732, 5.044964446199174, 5.123792015671036, 5.197842156690058, 5.202619585142898, 5.283910516160756, 5.360274724086622, 5.402151870368549, 5.435651928564766, 5.503597577671826, -1, 5.605516051332415, -1, 5.675585001974071, 5.695291894342036, -1, -1]\n",
      "[0228_123351]***NEW ITR 97***\n"
     ]
    },
    {
     "name": "stderr",
     "output_type": "stream",
     "text": [
      "100%|██████████████████████████████████████████████████████| 274/274 [00:15<00:00, 17.76it/s]\n"
     ]
    },
    {
     "name": "stdout",
     "output_type": "stream",
     "text": [
      "Overshot to bin 44. Decreasing bump amount to 5.546594433747387 aiming for bin 43\n",
      "bumps: [0.48828125, 1.1920928955078125, 1.4901161193847656, 1.862645149230957, 2.3283064365386963, 2.473825588822365, 2.6193447411060333, 2.7830537874251604, 2.9103830456733704, 3.092281986027956, 3.2741809263825417, 3.376499080331996, 3.4788172342814505, 3.533173753567098, 3.637978807091713, 3.6834535421803594, 3.7985614653734956, 3.8579139882699565, 3.913669388566632, 4.035971556959339, 4.092726157978177, 4.143885234952904, 4.2733816485451825, 4.348521542851813, 4.416467191958873, 4.484412841065932, 4.5544817917075875, 4.604316927725449, 4.624550742349243, 4.7482018317168695, 4.764688643632553, 4.839136903689312, 4.89208673570829, 4.968525590953732, 5.044964446199174, 5.123792015671036, 5.197842156690058, 5.202619585142898, 5.283910516160756, 5.360274724086622, 5.402151870368549, 5.435651928564766, 5.503597577671826, -1, 5.605516051332415, -1, 5.675585001974071, 5.695291894342036, -1, -1]\n",
      "[0228_123406]***NEW ITR 98***\n"
     ]
    },
    {
     "name": "stderr",
     "output_type": "stream",
     "text": [
      "100%|██████████████████████████████████████████████████████| 274/274 [00:15<00:00, 18.17it/s]\n"
     ]
    },
    {
     "name": "stdout",
     "output_type": "stream",
     "text": [
      "assigned bin_idx 43\n",
      "Cur bump_idx: 43 bump amount: 5.546594433747387 target_class_pred: 29114 bin_idx: 43\n",
      "updating cur_bump_idx to 44, bump_amount to 6.933243042184234\n",
      "bumps: [0.48828125, 1.1920928955078125, 1.4901161193847656, 1.862645149230957, 2.3283064365386963, 2.473825588822365, 2.6193447411060333, 2.7830537874251604, 2.9103830456733704, 3.092281986027956, 3.2741809263825417, 3.376499080331996, 3.4788172342814505, 3.533173753567098, 3.637978807091713, 3.6834535421803594, 3.7985614653734956, 3.8579139882699565, 3.913669388566632, 4.035971556959339, 4.092726157978177, 4.143885234952904, 4.2733816485451825, 4.348521542851813, 4.416467191958873, 4.484412841065932, 4.5544817917075875, 4.604316927725449, 4.624550742349243, 4.7482018317168695, 4.764688643632553, 4.839136903689312, 4.89208673570829, 4.968525590953732, 5.044964446199174, 5.123792015671036, 5.197842156690058, 5.202619585142898, 5.283910516160756, 5.360274724086622, 5.402151870368549, 5.435651928564766, 5.503597577671826, 5.546594433747387, 5.605516051332415, -1, 5.675585001974071, 5.695291894342036, -1, -1]\n",
      "[0228_123421]***NEW ITR 99***\n",
      "[0228_123421]***NEW ITR 100***\n"
     ]
    },
    {
     "name": "stderr",
     "output_type": "stream",
     "text": [
      "100%|██████████████████████████████████████████████████████| 274/274 [00:15<00:00, 17.49it/s]\n"
     ]
    },
    {
     "name": "stdout",
     "output_type": "stream",
     "text": [
      "bin_idx < cur_bump_idx (44 and 45) delta=1.25 new bump_amount: 7.006895064165519\n"
     ]
    },
    {
     "name": "stderr",
     "output_type": "stream",
     "text": [
      "100%|██████████████████████████████████████████████████████| 274/274 [00:15<00:00, 17.88it/s]\n",
      "/n/fs/ac-editing/model-editing/src/model/metric.py:168: RuntimeWarning: invalid value encountered in divide\n",
      "  return np.nan_to_num(TPs / (TPs + FPs))\n",
      "/n/fs/ac-editing/model-editing/src/model/metric.py:205: RuntimeWarning: invalid value encountered in divide\n",
      "  return np.nan_to_num(2 * precisions * recalls / (precisions + recalls))\n"
     ]
    },
    {
     "name": "stdout",
     "output_type": "stream",
     "text": [
      "bin_idx > n_bins (94) delta=1.25 new bump_amount: 6.306205557748967\n",
      "[0228_123452]***NEW ITR 101***\n"
     ]
    },
    {
     "name": "stderr",
     "output_type": "stream",
     "text": [
      "100%|██████████████████████████████████████████████████████| 274/274 [00:15<00:00, 17.69it/s]\n"
     ]
    },
    {
     "name": "stdout",
     "output_type": "stream",
     "text": [
      "bin_idx > n_bins (83) delta=1.25 new bump_amount: 5.955860804540691\n",
      "[0228_123508]***NEW ITR 102***\n"
     ]
    },
    {
     "name": "stderr",
     "output_type": "stream",
     "text": [
      "100%|██████████████████████████████████████████████████████| 274/274 [00:15<00:00, 18.24it/s]\n"
     ]
    },
    {
     "name": "stdout",
     "output_type": "stream",
     "text": [
      "bin_idx > n_bins (61) delta=1.25 new bump_amount: 5.780688427936553\n",
      "[0228_123523]***NEW ITR 103***\n"
     ]
    },
    {
     "name": "stderr",
     "output_type": "stream",
     "text": [
      "100%|██████████████████████████████████████████████████████| 274/274 [00:15<00:00, 17.35it/s]\n"
     ]
    },
    {
     "name": "stdout",
     "output_type": "stream",
     "text": [
      "bin_idx > n_bins (50) delta=1.25 new bump_amount: 5.693102239634484\n",
      "[0228_123539]***NEW ITR 104***\n"
     ]
    },
    {
     "name": "stderr",
     "output_type": "stream",
     "text": [
      "100%|██████████████████████████████████████████████████████| 274/274 [00:15<00:00, 17.73it/s]\n"
     ]
    },
    {
     "name": "stdout",
     "output_type": "stream",
     "text": [
      "Overshot to bin 47. Decreasing bump amount to 5.64930914548345 aiming for bin 45\n",
      "bumps: [0.48828125, 1.1920928955078125, 1.4901161193847656, 1.862645149230957, 2.3283064365386963, 2.473825588822365, 2.6193447411060333, 2.7830537874251604, 2.9103830456733704, 3.092281986027956, 3.2741809263825417, 3.376499080331996, 3.4788172342814505, 3.533173753567098, 3.637978807091713, 3.6834535421803594, 3.7985614653734956, 3.8579139882699565, 3.913669388566632, 4.035971556959339, 4.092726157978177, 4.143885234952904, 4.2733816485451825, 4.348521542851813, 4.416467191958873, 4.484412841065932, 4.5544817917075875, 4.604316927725449, 4.624550742349243, 4.7482018317168695, 4.764688643632553, 4.839136903689312, 4.89208673570829, 4.968525590953732, 5.044964446199174, 5.123792015671036, 5.197842156690058, 5.202619585142898, 5.283910516160756, 5.360274724086622, 5.402151870368549, 5.435651928564766, 5.503597577671826, 5.546594433747387, 5.605516051332415, -1, 5.675585001974071, 5.695291894342036, -1, -1]\n",
      "[0228_123554]***NEW ITR 105***\n"
     ]
    },
    {
     "name": "stderr",
     "output_type": "stream",
     "text": [
      "100%|██████████████████████████████████████████████████████| 274/274 [00:15<00:00, 17.82it/s]\n"
     ]
    },
    {
     "name": "stdout",
     "output_type": "stream",
     "text": [
      "assigned bin_idx 45\n",
      "Cur bump_idx: 45 bump amount: 5.64930914548345 target_class_pred: 30406 bin_idx: 45\n",
      "updating cur_bump_idx to 46, bump_amount to 7.061636431854312\n",
      "bumps: [0.48828125, 1.1920928955078125, 1.4901161193847656, 1.862645149230957, 2.3283064365386963, 2.473825588822365, 2.6193447411060333, 2.7830537874251604, 2.9103830456733704, 3.092281986027956, 3.2741809263825417, 3.376499080331996, 3.4788172342814505, 3.533173753567098, 3.637978807091713, 3.6834535421803594, 3.7985614653734956, 3.8579139882699565, 3.913669388566632, 4.035971556959339, 4.092726157978177, 4.143885234952904, 4.2733816485451825, 4.348521542851813, 4.416467191958873, 4.484412841065932, 4.5544817917075875, 4.604316927725449, 4.624550742349243, 4.7482018317168695, 4.764688643632553, 4.839136903689312, 4.89208673570829, 4.968525590953732, 5.044964446199174, 5.123792015671036, 5.197842156690058, 5.202619585142898, 5.283910516160756, 5.360274724086622, 5.402151870368549, 5.435651928564766, 5.503597577671826, 5.546594433747387, 5.605516051332415, 5.64930914548345, 5.675585001974071, 5.695291894342036, -1, -1]\n",
      "[0228_123609]***NEW ITR 106***\n",
      "[0228_123609]***NEW ITR 107***\n",
      "[0228_123609]***NEW ITR 108***\n"
     ]
    },
    {
     "name": "stderr",
     "output_type": "stream",
     "text": [
      "100%|██████████████████████████████████████████████████████| 274/274 [00:15<00:00, 18.19it/s]\n"
     ]
    },
    {
     "name": "stdout",
     "output_type": "stream",
     "text": [
      "bin_idx < cur_bump_idx (47 and 48) delta=1.25 new bump_amount: 7.119114867927545\n"
     ]
    },
    {
     "name": "stderr",
     "output_type": "stream",
     "text": [
      "100%|██████████████████████████████████████████████████████| 274/274 [00:15<00:00, 17.34it/s]\n",
      "/n/fs/ac-editing/model-editing/src/model/metric.py:168: RuntimeWarning: invalid value encountered in divide\n",
      "  return np.nan_to_num(TPs / (TPs + FPs))\n",
      "/n/fs/ac-editing/model-editing/src/model/metric.py:205: RuntimeWarning: invalid value encountered in divide\n",
      "  return np.nan_to_num(2 * precisions * recalls / (precisions + recalls))\n"
     ]
    },
    {
     "name": "stdout",
     "output_type": "stream",
     "text": [
      "bin_idx > n_bins (96) delta=1.25 new bump_amount: 6.40720338113479\n",
      "[0228_123640]***NEW ITR 109***\n"
     ]
    },
    {
     "name": "stderr",
     "output_type": "stream",
     "text": [
      "100%|██████████████████████████████████████████████████████| 274/274 [00:15<00:00, 17.69it/s]\n",
      "/n/fs/ac-editing/model-editing/src/model/metric.py:168: RuntimeWarning: invalid value encountered in divide\n",
      "  return np.nan_to_num(TPs / (TPs + FPs))\n",
      "/n/fs/ac-editing/model-editing/src/model/metric.py:205: RuntimeWarning: invalid value encountered in divide\n",
      "  return np.nan_to_num(2 * precisions * recalls / (precisions + recalls))\n"
     ]
    },
    {
     "name": "stdout",
     "output_type": "stream",
     "text": [
      "bin_idx > n_bins (84) delta=1.25 new bump_amount: 6.051247637738413\n",
      "[0228_123656]***NEW ITR 110***\n"
     ]
    },
    {
     "name": "stderr",
     "output_type": "stream",
     "text": [
      "100%|██████████████████████████████████████████████████████| 274/274 [00:15<00:00, 17.68it/s]\n"
     ]
    },
    {
     "name": "stdout",
     "output_type": "stream",
     "text": [
      "bin_idx > n_bins (70) delta=1.25 new bump_amount: 5.873269766040225\n",
      "[0228_123711]***NEW ITR 111***\n"
     ]
    },
    {
     "name": "stderr",
     "output_type": "stream",
     "text": [
      "100%|██████████████████████████████████████████████████████| 274/274 [00:14<00:00, 18.45it/s]\n"
     ]
    },
    {
     "name": "stdout",
     "output_type": "stream",
     "text": [
      "bin_idx > n_bins (55) delta=1.25 new bump_amount: 5.784280830191131\n",
      "[0228_123726]***NEW ITR 112***\n"
     ]
    },
    {
     "name": "stderr",
     "output_type": "stream",
     "text": [
      "100%|██████████████████████████████████████████████████████| 274/274 [00:15<00:00, 17.52it/s]\n"
     ]
    },
    {
     "name": "stdout",
     "output_type": "stream",
     "text": [
      "bin_idx > n_bins (50) delta=1.25 new bump_amount: 5.7397863622665835\n",
      "[0228_123742]***NEW ITR 113***\n"
     ]
    },
    {
     "name": "stderr",
     "output_type": "stream",
     "text": [
      "100%|██████████████████████████████████████████████████████| 274/274 [00:15<00:00, 17.85it/s]\n"
     ]
    },
    {
     "name": "stdout",
     "output_type": "stream",
     "text": [
      "assigned bin_idx 48\n",
      "Cur bump_idx: 48 bump amount: 5.7397863622665835 target_class_pred: 31852 bin_idx: 48\n",
      "updating cur_bump_idx to 49, bump_amount to 7.17473295283323\n",
      "bumps: [0.48828125, 1.1920928955078125, 1.4901161193847656, 1.862645149230957, 2.3283064365386963, 2.473825588822365, 2.6193447411060333, 2.7830537874251604, 2.9103830456733704, 3.092281986027956, 3.2741809263825417, 3.376499080331996, 3.4788172342814505, 3.533173753567098, 3.637978807091713, 3.6834535421803594, 3.7985614653734956, 3.8579139882699565, 3.913669388566632, 4.035971556959339, 4.092726157978177, 4.143885234952904, 4.2733816485451825, 4.348521542851813, 4.416467191958873, 4.484412841065932, 4.5544817917075875, 4.604316927725449, 4.624550742349243, 4.7482018317168695, 4.764688643632553, 4.839136903689312, 4.89208673570829, 4.968525590953732, 5.044964446199174, 5.123792015671036, 5.197842156690058, 5.202619585142898, 5.283910516160756, 5.360274724086622, 5.402151870368549, 5.435651928564766, 5.503597577671826, 5.546594433747387, 5.605516051332415, 5.64930914548345, 5.675585001974071, 5.695291894342036, 5.7397863622665835, -1]\n",
      "[0228_123757]***NEW ITR 114***\n"
     ]
    },
    {
     "name": "stderr",
     "output_type": "stream",
     "text": [
      "100%|██████████████████████████████████████████████████████| 274/274 [00:15<00:00, 17.69it/s]\n",
      "/n/fs/ac-editing/model-editing/src/model/metric.py:168: RuntimeWarning: invalid value encountered in divide\n",
      "  return np.nan_to_num(TPs / (TPs + FPs))\n",
      "/n/fs/ac-editing/model-editing/src/model/metric.py:205: RuntimeWarning: invalid value encountered in divide\n",
      "  return np.nan_to_num(2 * precisions * recalls / (precisions + recalls))\n"
     ]
    },
    {
     "name": "stdout",
     "output_type": "stream",
     "text": [
      "bin_idx > n_bins (98) delta=1.25 new bump_amount: 6.457259657549907\n",
      "[0228_123813]***NEW ITR 115***\n"
     ]
    },
    {
     "name": "stderr",
     "output_type": "stream",
     "text": [
      "100%|██████████████████████████████████████████████████████| 274/274 [00:14<00:00, 18.54it/s]\n",
      "/n/fs/ac-editing/model-editing/src/model/metric.py:168: RuntimeWarning: invalid value encountered in divide\n",
      "  return np.nan_to_num(TPs / (TPs + FPs))\n",
      "/n/fs/ac-editing/model-editing/src/model/metric.py:205: RuntimeWarning: invalid value encountered in divide\n",
      "  return np.nan_to_num(2 * precisions * recalls / (precisions + recalls))\n"
     ]
    },
    {
     "name": "stdout",
     "output_type": "stream",
     "text": [
      "bin_idx > n_bins (85) delta=1.25 new bump_amount: 6.098523009908245\n",
      "[0228_123828]***NEW ITR 116***\n"
     ]
    },
    {
     "name": "stderr",
     "output_type": "stream",
     "text": [
      "100%|██████████████████████████████████████████████████████| 274/274 [00:15<00:00, 17.34it/s]\n"
     ]
    },
    {
     "name": "stdout",
     "output_type": "stream",
     "text": [
      "bin_idx > n_bins (74) delta=1.25 new bump_amount: 5.919154686087414\n",
      "[0228_123843]***NEW ITR 117***\n"
     ]
    },
    {
     "name": "stderr",
     "output_type": "stream",
     "text": [
      "100%|██████████████████████████████████████████████████████| 274/274 [00:15<00:00, 17.65it/s]\n"
     ]
    },
    {
     "name": "stdout",
     "output_type": "stream",
     "text": [
      "bin_idx > n_bins (58) delta=1.25 new bump_amount: 5.829470524176999\n",
      "[0228_123859]***NEW ITR 118***\n"
     ]
    },
    {
     "name": "stderr",
     "output_type": "stream",
     "text": [
      "100%|██████████████████████████████████████████████████████| 274/274 [00:15<00:00, 17.72it/s]\n"
     ]
    },
    {
     "name": "stdout",
     "output_type": "stream",
     "text": [
      "bin_idx > n_bins (52) delta=1.25 new bump_amount: 5.784628443221791\n",
      "[0228_123914]***NEW ITR 119***\n"
     ]
    },
    {
     "name": "stderr",
     "output_type": "stream",
     "text": [
      "100%|██████████████████████████████████████████████████████| 274/274 [00:15<00:00, 18.19it/s]\n"
     ]
    },
    {
     "name": "stdout",
     "output_type": "stream",
     "text": [
      "bin_idx > n_bins (50) delta=1.25 new bump_amount: 5.762207402744187\n",
      "[0228_123929]***NEW ITR 120***\n"
     ]
    },
    {
     "name": "stderr",
     "output_type": "stream",
     "text": [
      "100%|██████████████████████████████████████████████████████| 274/274 [00:15<00:00, 17.29it/s]\n"
     ]
    },
    {
     "name": "stdout",
     "output_type": "stream",
     "text": [
      "assigned bin_idx 49\n",
      "Cur bump_idx: 49 bump amount: 5.762207402744187 target_class_pred: 32310 bin_idx: 49\n",
      "updating cur_bump_idx to 50, bump_amount to 7.2027592534302345\n",
      "bumps: [0.48828125, 1.1920928955078125, 1.4901161193847656, 1.862645149230957, 2.3283064365386963, 2.473825588822365, 2.6193447411060333, 2.7830537874251604, 2.9103830456733704, 3.092281986027956, 3.2741809263825417, 3.376499080331996, 3.4788172342814505, 3.533173753567098, 3.637978807091713, 3.6834535421803594, 3.7985614653734956, 3.8579139882699565, 3.913669388566632, 4.035971556959339, 4.092726157978177, 4.143885234952904, 4.2733816485451825, 4.348521542851813, 4.416467191958873, 4.484412841065932, 4.5544817917075875, 4.604316927725449, 4.624550742349243, 4.7482018317168695, 4.764688643632553, 4.839136903689312, 4.89208673570829, 4.968525590953732, 5.044964446199174, 5.123792015671036, 5.197842156690058, 5.202619585142898, 5.283910516160756, 5.360274724086622, 5.402151870368549, 5.435651928564766, 5.503597577671826, 5.546594433747387, 5.605516051332415, 5.64930914548345, 5.675585001974071, 5.695291894342036, 5.7397863622665835, 5.762207402744187]\n",
      "Saved data to saved/edit_eac/experiments/bump_edits/CINIC10_ImageNet-VGG_16/0208_112555/ship_100/bumps_preds_metrics.pth\n",
      "Obtaining class distribution for truck from saved/edit_eac/trials/CINIC10_ImageNet-VGG_16/truck_100/0127_103716/target_class_distribution.pth\n",
      "Saving results to saved/edit_eac/experiments/bump_edits/CINIC10_ImageNet-VGG_16/0208_112555/truck_100\n"
     ]
    },
    {
     "name": "stderr",
     "output_type": "stream",
     "text": [
      "100%|██████████████████████████████████████████████████████| 274/274 [00:15<00:00, 17.94it/s]\n"
     ]
    },
    {
     "name": "stdout",
     "output_type": "stream",
     "text": [
      "[0228_124001]***NEW ITR 1***\n"
     ]
    },
    {
     "name": "stderr",
     "output_type": "stream",
     "text": [
      "100%|██████████████████████████████████████████████████████| 274/274 [00:15<00:00, 17.69it/s]\n"
     ]
    },
    {
     "name": "stdout",
     "output_type": "stream",
     "text": [
      "bin_idx < cur_bump_idx (-1 and 0) delta=1.25 new bump_amount: 0.25\n"
     ]
    },
    {
     "name": "stderr",
     "output_type": "stream",
     "text": [
      "100%|██████████████████████████████████████████████████████| 274/274 [00:14<00:00, 18.36it/s]\n"
     ]
    },
    {
     "name": "stdout",
     "output_type": "stream",
     "text": [
      "bin_idx < cur_bump_idx (-1 and 0) delta=1.25 new bump_amount: 0.3125\n"
     ]
    },
    {
     "name": "stderr",
     "output_type": "stream",
     "text": [
      "100%|██████████████████████████████████████████████████████| 274/274 [00:15<00:00, 17.40it/s]\n"
     ]
    },
    {
     "name": "stdout",
     "output_type": "stream",
     "text": [
      "bin_idx < cur_bump_idx (-1 and 0) delta=1.25 new bump_amount: 0.390625\n"
     ]
    },
    {
     "name": "stderr",
     "output_type": "stream",
     "text": [
      "100%|██████████████████████████████████████████████████████| 274/274 [00:15<00:00, 17.74it/s]\n"
     ]
    },
    {
     "name": "stdout",
     "output_type": "stream",
     "text": [
      "bin_idx < cur_bump_idx (-1 and 0) delta=1.25 new bump_amount: 0.48828125\n"
     ]
    },
    {
     "name": "stderr",
     "output_type": "stream",
     "text": [
      "100%|██████████████████████████████████████████████████████| 274/274 [00:15<00:00, 17.78it/s]\n"
     ]
    },
    {
     "name": "stdout",
     "output_type": "stream",
     "text": [
      "assigned bin_idx 0\n",
      "Cur bump_idx: 0 bump amount: 0.48828125 target_class_pred: 6889 bin_idx: 0\n",
      "updating cur_bump_idx to 1, bump_amount to 0.6103515625\n",
      "bumps: [0.48828125, -1, -1, -1, -1, -1, -1, -1, -1, -1, -1, -1, -1, -1, -1, -1, -1, -1, -1, -1, -1, -1, -1, -1, -1, -1, -1, -1, -1, -1, -1, -1, -1, -1, -1, -1, -1, -1, -1, -1, -1, -1, -1, -1, -1, -1, -1, -1, -1, -1]\n",
      "[0228_124118]***NEW ITR 2***\n"
     ]
    },
    {
     "name": "stderr",
     "output_type": "stream",
     "text": [
      "100%|██████████████████████████████████████████████████████| 274/274 [00:14<00:00, 18.35it/s]\n"
     ]
    },
    {
     "name": "stdout",
     "output_type": "stream",
     "text": [
      "bin_idx < cur_bump_idx (0 and 1) delta=1.25 new bump_amount: 0.762939453125\n"
     ]
    },
    {
     "name": "stderr",
     "output_type": "stream",
     "text": [
      "100%|██████████████████████████████████████████████████████| 274/274 [00:15<00:00, 17.22it/s]\n"
     ]
    },
    {
     "name": "stdout",
     "output_type": "stream",
     "text": [
      "bin_idx < cur_bump_idx (0 and 1) delta=1.25 new bump_amount: 0.95367431640625\n"
     ]
    },
    {
     "name": "stderr",
     "output_type": "stream",
     "text": [
      "100%|██████████████████████████████████████████████████████| 274/274 [00:15<00:00, 17.67it/s]\n"
     ]
    },
    {
     "name": "stdout",
     "output_type": "stream",
     "text": [
      "assigned bin_idx 1\n",
      "Cur bump_idx: 1 bump amount: 0.95367431640625 target_class_pred: 7337 bin_idx: 1\n",
      "updating cur_bump_idx to 2, bump_amount to 1.1920928955078125\n",
      "bumps: [0.48828125, 0.95367431640625, -1, -1, -1, -1, -1, -1, -1, -1, -1, -1, -1, -1, -1, -1, -1, -1, -1, -1, -1, -1, -1, -1, -1, -1, -1, -1, -1, -1, -1, -1, -1, -1, -1, -1, -1, -1, -1, -1, -1, -1, -1, -1, -1, -1, -1, -1, -1, -1]\n",
      "[0228_124204]***NEW ITR 3***\n"
     ]
    },
    {
     "name": "stderr",
     "output_type": "stream",
     "text": [
      "100%|██████████████████████████████████████████████████████| 274/274 [00:15<00:00, 17.76it/s]\n"
     ]
    },
    {
     "name": "stdout",
     "output_type": "stream",
     "text": [
      "bin_idx < cur_bump_idx (1 and 2) delta=1.25 new bump_amount: 1.4901161193847656\n"
     ]
    },
    {
     "name": "stderr",
     "output_type": "stream",
     "text": [
      "100%|██████████████████████████████████████████████████████| 274/274 [00:14<00:00, 18.33it/s]\n"
     ]
    },
    {
     "name": "stdout",
     "output_type": "stream",
     "text": [
      "assigned bin_idx 2\n",
      "Cur bump_idx: 2 bump amount: 1.4901161193847656 target_class_pred: 7971 bin_idx: 2\n",
      "updating cur_bump_idx to 3, bump_amount to 1.862645149230957\n",
      "bumps: [0.48828125, 0.95367431640625, 1.4901161193847656, -1, -1, -1, -1, -1, -1, -1, -1, -1, -1, -1, -1, -1, -1, -1, -1, -1, -1, -1, -1, -1, -1, -1, -1, -1, -1, -1, -1, -1, -1, -1, -1, -1, -1, -1, -1, -1, -1, -1, -1, -1, -1, -1, -1, -1, -1, -1]\n",
      "[0228_124235]***NEW ITR 4***\n"
     ]
    },
    {
     "name": "stderr",
     "output_type": "stream",
     "text": [
      "100%|██████████████████████████████████████████████████████| 274/274 [00:15<00:00, 17.21it/s]\n"
     ]
    },
    {
     "name": "stdout",
     "output_type": "stream",
     "text": [
      "assigned bin_idx 3\n",
      "Cur bump_idx: 3 bump amount: 1.862645149230957 target_class_pred: 8490 bin_idx: 3\n",
      "updating cur_bump_idx to 4, bump_amount to 2.3283064365386963\n",
      "bumps: [0.48828125, 0.95367431640625, 1.4901161193847656, 1.862645149230957, -1, -1, -1, -1, -1, -1, -1, -1, -1, -1, -1, -1, -1, -1, -1, -1, -1, -1, -1, -1, -1, -1, -1, -1, -1, -1, -1, -1, -1, -1, -1, -1, -1, -1, -1, -1, -1, -1, -1, -1, -1, -1, -1, -1, -1, -1]\n",
      "[0228_124251]***NEW ITR 5***\n"
     ]
    },
    {
     "name": "stderr",
     "output_type": "stream",
     "text": [
      "100%|██████████████████████████████████████████████████████| 274/274 [00:15<00:00, 17.71it/s]\n"
     ]
    },
    {
     "name": "stdout",
     "output_type": "stream",
     "text": [
      "assigned bin_idx 5\n",
      "Cur bump_idx: 4 bump amount: 2.3283064365386963 target_class_pred: 9358 bin_idx: 5\n",
      "Overshot to bin 5. Decreasing bump amount to 2.0954757928848267 aiming for bin 4\n",
      "bumps: [0.48828125, 0.95367431640625, 1.4901161193847656, 1.862645149230957, -1, 2.3283064365386963, -1, -1, -1, -1, -1, -1, -1, -1, -1, -1, -1, -1, -1, -1, -1, -1, -1, -1, -1, -1, -1, -1, -1, -1, -1, -1, -1, -1, -1, -1, -1, -1, -1, -1, -1, -1, -1, -1, -1, -1, -1, -1, -1, -1]\n",
      "[0228_124306]***NEW ITR 6***\n"
     ]
    },
    {
     "name": "stderr",
     "output_type": "stream",
     "text": [
      "100%|██████████████████████████████████████████████████████| 274/274 [00:15<00:00, 17.71it/s]\n"
     ]
    },
    {
     "name": "stdout",
     "output_type": "stream",
     "text": [
      "assigned bin_idx 4\n",
      "Cur bump_idx: 4 bump amount: 2.0954757928848267 target_class_pred: 8915 bin_idx: 4\n",
      "updating cur_bump_idx to 5, bump_amount to 2.6193447411060333\n",
      "bumps: [0.48828125, 0.95367431640625, 1.4901161193847656, 1.862645149230957, 2.0954757928848267, 2.3283064365386963, -1, -1, -1, -1, -1, -1, -1, -1, -1, -1, -1, -1, -1, -1, -1, -1, -1, -1, -1, -1, -1, -1, -1, -1, -1, -1, -1, -1, -1, -1, -1, -1, -1, -1, -1, -1, -1, -1, -1, -1, -1, -1, -1, -1]\n",
      "[0228_124322]***NEW ITR 7***\n",
      "[0228_124322]***NEW ITR 8***\n"
     ]
    },
    {
     "name": "stderr",
     "output_type": "stream",
     "text": [
      "100%|██████████████████████████████████████████████████████| 274/274 [00:14<00:00, 18.36it/s]\n"
     ]
    },
    {
     "name": "stdout",
     "output_type": "stream",
     "text": [
      "bin_idx < cur_bump_idx (5 and 6) delta=1.25 new bump_amount: 2.9103830456733704\n"
     ]
    },
    {
     "name": "stderr",
     "output_type": "stream",
     "text": [
      "100%|██████████████████████████████████████████████████████| 274/274 [00:15<00:00, 17.17it/s]\n"
     ]
    },
    {
     "name": "stdout",
     "output_type": "stream",
     "text": [
      "assigned bin_idx 8\n",
      "Cur bump_idx: 6 bump amount: 2.9103830456733704 target_class_pred: 10706 bin_idx: 8\n",
      "Overshot to bin 8. Decreasing bump amount to 2.6193447411060333 aiming for bin 6\n",
      "bumps: [0.48828125, 0.95367431640625, 1.4901161193847656, 1.862645149230957, 2.0954757928848267, 2.3283064365386963, -1, -1, 2.9103830456733704, -1, -1, -1, -1, -1, -1, -1, -1, -1, -1, -1, -1, -1, -1, -1, -1, -1, -1, -1, -1, -1, -1, -1, -1, -1, -1, -1, -1, -1, -1, -1, -1, -1, -1, -1, -1, -1, -1, -1, -1, -1]\n",
      "[0228_124353]***NEW ITR 9***\n"
     ]
    },
    {
     "name": "stderr",
     "output_type": "stream",
     "text": [
      "100%|██████████████████████████████████████████████████████| 274/274 [00:15<00:00, 17.67it/s]\n"
     ]
    },
    {
     "name": "stdout",
     "output_type": "stream",
     "text": [
      "assigned bin_idx 6\n",
      "Cur bump_idx: 6 bump amount: 2.6193447411060333 target_class_pred: 9973 bin_idx: 6\n",
      "updating cur_bump_idx to 7, bump_amount to 3.2741809263825417\n",
      "bumps: [0.48828125, 0.95367431640625, 1.4901161193847656, 1.862645149230957, 2.0954757928848267, 2.3283064365386963, 2.6193447411060333, -1, 2.9103830456733704, -1, -1, -1, -1, -1, -1, -1, -1, -1, -1, -1, -1, -1, -1, -1, -1, -1, -1, -1, -1, -1, -1, -1, -1, -1, -1, -1, -1, -1, -1, -1, -1, -1, -1, -1, -1, -1, -1, -1, -1, -1]\n",
      "[0228_124408]***NEW ITR 10***\n"
     ]
    },
    {
     "name": "stderr",
     "output_type": "stream",
     "text": [
      "100%|██████████████████████████████████████████████████████| 274/274 [00:15<00:00, 17.74it/s]\n"
     ]
    },
    {
     "name": "stdout",
     "output_type": "stream",
     "text": [
      "assigned bin_idx 10\n",
      "Cur bump_idx: 7 bump amount: 3.2741809263825417 target_class_pred: 11891 bin_idx: 10\n",
      "Overshot to bin 10. Decreasing bump amount to 2.9467628337442875 aiming for bin 7\n",
      "bumps: [0.48828125, 0.95367431640625, 1.4901161193847656, 1.862645149230957, 2.0954757928848267, 2.3283064365386963, 2.6193447411060333, -1, 2.9103830456733704, -1, 3.2741809263825417, -1, -1, -1, -1, -1, -1, -1, -1, -1, -1, -1, -1, -1, -1, -1, -1, -1, -1, -1, -1, -1, -1, -1, -1, -1, -1, -1, -1, -1, -1, -1, -1, -1, -1, -1, -1, -1, -1, -1]\n",
      "[0228_124424]***NEW ITR 11***\n"
     ]
    },
    {
     "name": "stderr",
     "output_type": "stream",
     "text": [
      "100%|██████████████████████████████████████████████████████| 274/274 [00:14<00:00, 18.33it/s]\n"
     ]
    },
    {
     "name": "stdout",
     "output_type": "stream",
     "text": [
      "Overshot to bin 8. Decreasing bump amount to 2.7830537874251604 aiming for bin 7\n",
      "bumps: [0.48828125, 0.95367431640625, 1.4901161193847656, 1.862645149230957, 2.0954757928848267, 2.3283064365386963, 2.6193447411060333, -1, 2.9103830456733704, -1, 3.2741809263825417, -1, -1, -1, -1, -1, -1, -1, -1, -1, -1, -1, -1, -1, -1, -1, -1, -1, -1, -1, -1, -1, -1, -1, -1, -1, -1, -1, -1, -1, -1, -1, -1, -1, -1, -1, -1, -1, -1, -1]\n",
      "[0228_124439]***NEW ITR 12***\n"
     ]
    },
    {
     "name": "stderr",
     "output_type": "stream",
     "text": [
      "100%|██████████████████████████████████████████████████████| 274/274 [00:15<00:00, 17.26it/s]\n"
     ]
    },
    {
     "name": "stdout",
     "output_type": "stream",
     "text": [
      "assigned bin_idx 7\n",
      "Cur bump_idx: 7 bump amount: 2.7830537874251604 target_class_pred: 10360 bin_idx: 7\n",
      "updating cur_bump_idx to 8, bump_amount to 3.4788172342814505\n",
      "bumps: [0.48828125, 0.95367431640625, 1.4901161193847656, 1.862645149230957, 2.0954757928848267, 2.3283064365386963, 2.6193447411060333, 2.7830537874251604, 2.9103830456733704, -1, 3.2741809263825417, -1, -1, -1, -1, -1, -1, -1, -1, -1, -1, -1, -1, -1, -1, -1, -1, -1, -1, -1, -1, -1, -1, -1, -1, -1, -1, -1, -1, -1, -1, -1, -1, -1, -1, -1, -1, -1, -1, -1]\n",
      "[0228_124455]***NEW ITR 13***\n",
      "[0228_124455]***NEW ITR 14***\n"
     ]
    },
    {
     "name": "stderr",
     "output_type": "stream",
     "text": [
      "100%|██████████████████████████████████████████████████████| 274/274 [00:15<00:00, 17.72it/s]\n"
     ]
    },
    {
     "name": "stdout",
     "output_type": "stream",
     "text": [
      "bin_idx < cur_bump_idx (8 and 9) delta=1.25 new bump_amount: 3.637978807091713\n"
     ]
    },
    {
     "name": "stderr",
     "output_type": "stream",
     "text": [
      "100%|██████████████████████████████████████████████████████| 274/274 [00:15<00:00, 17.72it/s]\n"
     ]
    },
    {
     "name": "stdout",
     "output_type": "stream",
     "text": [
      "assigned bin_idx 13\n",
      "Cur bump_idx: 9 bump amount: 3.637978807091713 target_class_pred: 13378 bin_idx: 13\n",
      "Overshot to bin 13. Decreasing bump amount to 3.2741809263825417 aiming for bin 9\n",
      "bumps: [0.48828125, 0.95367431640625, 1.4901161193847656, 1.862645149230957, 2.0954757928848267, 2.3283064365386963, 2.6193447411060333, 2.7830537874251604, 2.9103830456733704, -1, 3.2741809263825417, -1, -1, 3.637978807091713, -1, -1, -1, -1, -1, -1, -1, -1, -1, -1, -1, -1, -1, -1, -1, -1, -1, -1, -1, -1, -1, -1, -1, -1, -1, -1, -1, -1, -1, -1, -1, -1, -1, -1, -1, -1]\n",
      "[0228_124526]***NEW ITR 15***\n"
     ]
    },
    {
     "name": "stderr",
     "output_type": "stream",
     "text": [
      "100%|██████████████████████████████████████████████████████| 274/274 [00:14<00:00, 18.34it/s]\n"
     ]
    },
    {
     "name": "stdout",
     "output_type": "stream",
     "text": [
      "Overshot to bin 10. Decreasing bump amount to 3.092281986027956 aiming for bin 9\n",
      "bumps: [0.48828125, 0.95367431640625, 1.4901161193847656, 1.862645149230957, 2.0954757928848267, 2.3283064365386963, 2.6193447411060333, 2.7830537874251604, 2.9103830456733704, -1, 3.2741809263825417, -1, -1, 3.637978807091713, -1, -1, -1, -1, -1, -1, -1, -1, -1, -1, -1, -1, -1, -1, -1, -1, -1, -1, -1, -1, -1, -1, -1, -1, -1, -1, -1, -1, -1, -1, -1, -1, -1, -1, -1, -1]\n",
      "[0228_124540]***NEW ITR 16***\n"
     ]
    },
    {
     "name": "stderr",
     "output_type": "stream",
     "text": [
      "100%|██████████████████████████████████████████████████████| 274/274 [00:15<00:00, 17.13it/s]\n"
     ]
    },
    {
     "name": "stdout",
     "output_type": "stream",
     "text": [
      "assigned bin_idx 9\n",
      "Cur bump_idx: 9 bump amount: 3.092281986027956 target_class_pred: 11254 bin_idx: 9\n",
      "updating cur_bump_idx to 10, bump_amount to 3.865352482534945\n",
      "bumps: [0.48828125, 0.95367431640625, 1.4901161193847656, 1.862645149230957, 2.0954757928848267, 2.3283064365386963, 2.6193447411060333, 2.7830537874251604, 2.9103830456733704, 3.092281986027956, 3.2741809263825417, -1, -1, 3.637978807091713, -1, -1, -1, -1, -1, -1, -1, -1, -1, -1, -1, -1, -1, -1, -1, -1, -1, -1, -1, -1, -1, -1, -1, -1, -1, -1, -1, -1, -1, -1, -1, -1, -1, -1, -1, -1]\n",
      "[0228_124556]***NEW ITR 17***\n",
      "[0228_124556]***NEW ITR 18***\n"
     ]
    },
    {
     "name": "stderr",
     "output_type": "stream",
     "text": [
      "100%|██████████████████████████████████████████████████████| 274/274 [00:15<00:00, 17.65it/s]\n"
     ]
    },
    {
     "name": "stdout",
     "output_type": "stream",
     "text": [
      "bin_idx < cur_bump_idx (10 and 11) delta=1.25 new bump_amount: 4.092726157978177\n"
     ]
    },
    {
     "name": "stderr",
     "output_type": "stream",
     "text": [
      "100%|██████████████████████████████████████████████████████| 274/274 [00:15<00:00, 17.69it/s]\n"
     ]
    },
    {
     "name": "stdout",
     "output_type": "stream",
     "text": [
      "assigned bin_idx 19\n",
      "Cur bump_idx: 11 bump amount: 4.092726157978177 target_class_pred: 15793 bin_idx: 19\n",
      "Overshot to bin 19. Decreasing bump amount to 3.6834535421803594 aiming for bin 11\n",
      "bumps: [0.48828125, 0.95367431640625, 1.4901161193847656, 1.862645149230957, 2.0954757928848267, 2.3283064365386963, 2.6193447411060333, 2.7830537874251604, 2.9103830456733704, 3.092281986027956, 3.2741809263825417, -1, -1, 3.637978807091713, -1, -1, -1, -1, -1, 4.092726157978177, -1, -1, -1, -1, -1, -1, -1, -1, -1, -1, -1, -1, -1, -1, -1, -1, -1, -1, -1, -1, -1, -1, -1, -1, -1, -1, -1, -1, -1, -1]\n",
      "[0228_124628]***NEW ITR 19***\n"
     ]
    },
    {
     "name": "stderr",
     "output_type": "stream",
     "text": [
      "100%|██████████████████████████████████████████████████████| 274/274 [00:15<00:00, 18.23it/s]\n"
     ]
    },
    {
     "name": "stdout",
     "output_type": "stream",
     "text": [
      "assigned bin_idx 14\n",
      "Cur bump_idx: 11 bump amount: 3.6834535421803594 target_class_pred: 13634 bin_idx: 14\n",
      "Overshot to bin 14. Decreasing bump amount to 3.4788172342814505 aiming for bin 11\n",
      "bumps: [0.48828125, 0.95367431640625, 1.4901161193847656, 1.862645149230957, 2.0954757928848267, 2.3283064365386963, 2.6193447411060333, 2.7830537874251604, 2.9103830456733704, 3.092281986027956, 3.2741809263825417, -1, -1, 3.637978807091713, 3.6834535421803594, -1, -1, -1, -1, 4.092726157978177, -1, -1, -1, -1, -1, -1, -1, -1, -1, -1, -1, -1, -1, -1, -1, -1, -1, -1, -1, -1, -1, -1, -1, -1, -1, -1, -1, -1, -1, -1]\n",
      "[0228_124643]***NEW ITR 20***\n"
     ]
    },
    {
     "name": "stderr",
     "output_type": "stream",
     "text": [
      "100%|██████████████████████████████████████████████████████| 274/274 [00:15<00:00, 17.32it/s]\n"
     ]
    },
    {
     "name": "stdout",
     "output_type": "stream",
     "text": [
      "assigned bin_idx 12\n",
      "Cur bump_idx: 11 bump amount: 3.4788172342814505 target_class_pred: 12729 bin_idx: 12\n",
      "Overshot to bin 12. Decreasing bump amount to 3.376499080331996 aiming for bin 11\n",
      "bumps: [0.48828125, 0.95367431640625, 1.4901161193847656, 1.862645149230957, 2.0954757928848267, 2.3283064365386963, 2.6193447411060333, 2.7830537874251604, 2.9103830456733704, 3.092281986027956, 3.2741809263825417, -1, 3.4788172342814505, 3.637978807091713, 3.6834535421803594, -1, -1, -1, -1, 4.092726157978177, -1, -1, -1, -1, -1, -1, -1, -1, -1, -1, -1, -1, -1, -1, -1, -1, -1, -1, -1, -1, -1, -1, -1, -1, -1, -1, -1, -1, -1, -1]\n",
      "[0228_124658]***NEW ITR 21***\n"
     ]
    },
    {
     "name": "stderr",
     "output_type": "stream",
     "text": [
      "100%|██████████████████████████████████████████████████████| 274/274 [00:15<00:00, 17.62it/s]\n"
     ]
    },
    {
     "name": "stdout",
     "output_type": "stream",
     "text": [
      "assigned bin_idx 11\n",
      "Cur bump_idx: 11 bump amount: 3.376499080331996 target_class_pred: 12333 bin_idx: 11\n",
      "updating cur_bump_idx to 12, bump_amount to 4.220623850414995\n",
      "bumps: [0.48828125, 0.95367431640625, 1.4901161193847656, 1.862645149230957, 2.0954757928848267, 2.3283064365386963, 2.6193447411060333, 2.7830537874251604, 2.9103830456733704, 3.092281986027956, 3.2741809263825417, 3.376499080331996, 3.4788172342814505, 3.637978807091713, 3.6834535421803594, -1, -1, -1, -1, 4.092726157978177, -1, -1, -1, -1, -1, -1, -1, -1, -1, -1, -1, -1, -1, -1, -1, -1, -1, -1, -1, -1, -1, -1, -1, -1, -1, -1, -1, -1, -1, -1]\n",
      "[0228_124714]***NEW ITR 22***\n",
      "[0228_124714]***NEW ITR 23***\n",
      "[0228_124714]***NEW ITR 24***\n",
      "[0228_124714]***NEW ITR 25***\n"
     ]
    },
    {
     "name": "stderr",
     "output_type": "stream",
     "text": [
      "100%|██████████████████████████████████████████████████████| 274/274 [00:15<00:00, 17.73it/s]\n"
     ]
    },
    {
     "name": "stdout",
     "output_type": "stream",
     "text": [
      "bin_idx < cur_bump_idx (14 and 15) delta=1.25 new bump_amount: 4.604316927725449\n"
     ]
    },
    {
     "name": "stderr",
     "output_type": "stream",
     "text": [
      "100%|██████████████████████████████████████████████████████| 274/274 [00:15<00:00, 18.23it/s]\n"
     ]
    },
    {
     "name": "stdout",
     "output_type": "stream",
     "text": [
      "assigned bin_idx 25\n",
      "Cur bump_idx: 15 bump amount: 4.604316927725449 target_class_pred: 18937 bin_idx: 25\n",
      "Overshot to bin 25. Decreasing bump amount to 4.143885234952904 aiming for bin 15\n",
      "bumps: [0.48828125, 0.95367431640625, 1.4901161193847656, 1.862645149230957, 2.0954757928848267, 2.3283064365386963, 2.6193447411060333, 2.7830537874251604, 2.9103830456733704, 3.092281986027956, 3.2741809263825417, 3.376499080331996, 3.4788172342814505, 3.637978807091713, 3.6834535421803594, -1, -1, -1, -1, 4.092726157978177, -1, -1, -1, -1, -1, 4.604316927725449, -1, -1, -1, -1, -1, -1, -1, -1, -1, -1, -1, -1, -1, -1, -1, -1, -1, -1, -1, -1, -1, -1, -1, -1]\n",
      "[0228_124745]***NEW ITR 26***\n"
     ]
    },
    {
     "name": "stderr",
     "output_type": "stream",
     "text": [
      "100%|██████████████████████████████████████████████████████| 274/274 [00:15<00:00, 17.20it/s]\n"
     ]
    },
    {
     "name": "stdout",
     "output_type": "stream",
     "text": [
      "Overshot to bin 19. Decreasing bump amount to 3.913669388566632 aiming for bin 15\n",
      "bumps: [0.48828125, 0.95367431640625, 1.4901161193847656, 1.862645149230957, 2.0954757928848267, 2.3283064365386963, 2.6193447411060333, 2.7830537874251604, 2.9103830456733704, 3.092281986027956, 3.2741809263825417, 3.376499080331996, 3.4788172342814505, 3.637978807091713, 3.6834535421803594, -1, -1, -1, -1, 4.092726157978177, -1, -1, -1, -1, -1, 4.604316927725449, -1, -1, -1, -1, -1, -1, -1, -1, -1, -1, -1, -1, -1, -1, -1, -1, -1, -1, -1, -1, -1, -1, -1, -1]\n",
      "[0228_124801]***NEW ITR 27***\n"
     ]
    },
    {
     "name": "stderr",
     "output_type": "stream",
     "text": [
      "100%|██████████████████████████████████████████████████████| 274/274 [00:15<00:00, 17.72it/s]\n"
     ]
    },
    {
     "name": "stdout",
     "output_type": "stream",
     "text": [
      "assigned bin_idx 16\n",
      "Cur bump_idx: 15 bump amount: 3.913669388566632 target_class_pred: 14777 bin_idx: 16\n",
      "Overshot to bin 16. Decreasing bump amount to 3.7985614653734956 aiming for bin 15\n",
      "bumps: [0.48828125, 0.95367431640625, 1.4901161193847656, 1.862645149230957, 2.0954757928848267, 2.3283064365386963, 2.6193447411060333, 2.7830537874251604, 2.9103830456733704, 3.092281986027956, 3.2741809263825417, 3.376499080331996, 3.4788172342814505, 3.637978807091713, 3.6834535421803594, -1, 3.913669388566632, -1, -1, 4.092726157978177, -1, -1, -1, -1, -1, 4.604316927725449, -1, -1, -1, -1, -1, -1, -1, -1, -1, -1, -1, -1, -1, -1, -1, -1, -1, -1, -1, -1, -1, -1, -1, -1]\n",
      "[0228_124816]***NEW ITR 28***\n"
     ]
    },
    {
     "name": "stderr",
     "output_type": "stream",
     "text": [
      "100%|██████████████████████████████████████████████████████| 274/274 [00:07<00:00, 36.89it/s]\n"
     ]
    },
    {
     "name": "stdout",
     "output_type": "stream",
     "text": [
      "assigned bin_idx 15\n",
      "Cur bump_idx: 15 bump amount: 3.7985614653734956 target_class_pred: 14203 bin_idx: 15\n",
      "updating cur_bump_idx to 16, bump_amount to 4.7482018317168695\n",
      "bumps: [0.48828125, 0.95367431640625, 1.4901161193847656, 1.862645149230957, 2.0954757928848267, 2.3283064365386963, 2.6193447411060333, 2.7830537874251604, 2.9103830456733704, 3.092281986027956, 3.2741809263825417, 3.376499080331996, 3.4788172342814505, 3.637978807091713, 3.6834535421803594, 3.7985614653734956, 3.913669388566632, -1, -1, 4.092726157978177, -1, -1, -1, -1, -1, 4.604316927725449, -1, -1, -1, -1, -1, -1, -1, -1, -1, -1, -1, -1, -1, -1, -1, -1, -1, -1, -1, -1, -1, -1, -1, -1]\n",
      "[0228_124824]***NEW ITR 29***\n",
      "[0228_124824]***NEW ITR 30***\n"
     ]
    },
    {
     "name": "stderr",
     "output_type": "stream",
     "text": [
      "100%|██████████████████████████████████████████████████████| 274/274 [00:07<00:00, 34.87it/s]\n"
     ]
    },
    {
     "name": "stdout",
     "output_type": "stream",
     "text": [
      "bin_idx < cur_bump_idx (16 and 17) delta=1.25 new bump_amount: 4.89208673570829\n"
     ]
    },
    {
     "name": "stderr",
     "output_type": "stream",
     "text": [
      "100%|██████████████████████████████████████████████████████| 274/274 [00:07<00:00, 37.12it/s]\n"
     ]
    },
    {
     "name": "stdout",
     "output_type": "stream",
     "text": [
      "assigned bin_idx 30\n",
      "Cur bump_idx: 17 bump amount: 4.89208673570829 target_class_pred: 21115 bin_idx: 30\n",
      "Overshot to bin 30. Decreasing bump amount to 4.402878062137461 aiming for bin 17\n",
      "bumps: [0.48828125, 0.95367431640625, 1.4901161193847656, 1.862645149230957, 2.0954757928848267, 2.3283064365386963, 2.6193447411060333, 2.7830537874251604, 2.9103830456733704, 3.092281986027956, 3.2741809263825417, 3.376499080331996, 3.4788172342814505, 3.637978807091713, 3.6834535421803594, 3.7985614653734956, 3.913669388566632, -1, -1, 4.092726157978177, -1, -1, -1, -1, -1, 4.604316927725449, -1, -1, -1, -1, 4.89208673570829, -1, -1, -1, -1, -1, -1, -1, -1, -1, -1, -1, -1, -1, -1, -1, -1, -1, -1, -1]\n",
      "[0228_124839]***NEW ITR 31***\n"
     ]
    },
    {
     "name": "stderr",
     "output_type": "stream",
     "text": [
      "100%|██████████████████████████████████████████████████████| 274/274 [00:07<00:00, 37.16it/s]\n"
     ]
    },
    {
     "name": "stdout",
     "output_type": "stream",
     "text": [
      "assigned bin_idx 22\n",
      "Cur bump_idx: 17 bump amount: 4.402878062137461 target_class_pred: 17617 bin_idx: 22\n",
      "Overshot to bin 22. Decreasing bump amount to 4.158273725352046 aiming for bin 17\n",
      "bumps: [0.48828125, 0.95367431640625, 1.4901161193847656, 1.862645149230957, 2.0954757928848267, 2.3283064365386963, 2.6193447411060333, 2.7830537874251604, 2.9103830456733704, 3.092281986027956, 3.2741809263825417, 3.376499080331996, 3.4788172342814505, 3.637978807091713, 3.6834535421803594, 3.7985614653734956, 3.913669388566632, -1, -1, 4.092726157978177, -1, -1, 4.402878062137461, -1, -1, 4.604316927725449, -1, -1, -1, -1, 4.89208673570829, -1, -1, -1, -1, -1, -1, -1, -1, -1, -1, -1, -1, -1, -1, -1, -1, -1, -1, -1]\n",
      "[0228_124846]***NEW ITR 32***\n"
     ]
    },
    {
     "name": "stderr",
     "output_type": "stream",
     "text": [
      "100%|██████████████████████████████████████████████████████| 274/274 [00:07<00:00, 36.05it/s]\n"
     ]
    },
    {
     "name": "stdout",
     "output_type": "stream",
     "text": [
      "Overshot to bin 19. Decreasing bump amount to 4.035971556959339 aiming for bin 17\n",
      "bumps: [0.48828125, 0.95367431640625, 1.4901161193847656, 1.862645149230957, 2.0954757928848267, 2.3283064365386963, 2.6193447411060333, 2.7830537874251604, 2.9103830456733704, 3.092281986027956, 3.2741809263825417, 3.376499080331996, 3.4788172342814505, 3.637978807091713, 3.6834535421803594, 3.7985614653734956, 3.913669388566632, -1, -1, 4.092726157978177, -1, -1, 4.402878062137461, -1, -1, 4.604316927725449, -1, -1, -1, -1, 4.89208673570829, -1, -1, -1, -1, -1, -1, -1, -1, -1, -1, -1, -1, -1, -1, -1, -1, -1, -1, -1]\n",
      "[0228_124854]***NEW ITR 33***\n"
     ]
    },
    {
     "name": "stderr",
     "output_type": "stream",
     "text": [
      "100%|██████████████████████████████████████████████████████| 274/274 [00:08<00:00, 33.91it/s]\n"
     ]
    },
    {
     "name": "stdout",
     "output_type": "stream",
     "text": [
      "assigned bin_idx 18\n",
      "Cur bump_idx: 17 bump amount: 4.035971556959339 target_class_pred: 15459 bin_idx: 18\n",
      "Overshot to bin 18. Decreasing bump amount to 3.9748204727629854 aiming for bin 17\n",
      "bumps: [0.48828125, 0.95367431640625, 1.4901161193847656, 1.862645149230957, 2.0954757928848267, 2.3283064365386963, 2.6193447411060333, 2.7830537874251604, 2.9103830456733704, 3.092281986027956, 3.2741809263825417, 3.376499080331996, 3.4788172342814505, 3.637978807091713, 3.6834535421803594, 3.7985614653734956, 3.913669388566632, -1, 4.035971556959339, 4.092726157978177, -1, -1, 4.402878062137461, -1, -1, 4.604316927725449, -1, -1, -1, -1, 4.89208673570829, -1, -1, -1, -1, -1, -1, -1, -1, -1, -1, -1, -1, -1, -1, -1, -1, -1, -1, -1]\n",
      "[0228_124902]***NEW ITR 34***\n"
     ]
    },
    {
     "name": "stderr",
     "output_type": "stream",
     "text": [
      "100%|██████████████████████████████████████████████████████| 274/274 [00:07<00:00, 36.49it/s]\n"
     ]
    },
    {
     "name": "stdout",
     "output_type": "stream",
     "text": [
      "assigned bin_idx 17\n",
      "Cur bump_idx: 17 bump amount: 3.9748204727629854 target_class_pred: 15109 bin_idx: 17\n",
      "updating cur_bump_idx to 18, bump_amount to 4.968525590953732\n",
      "bumps: [0.48828125, 0.95367431640625, 1.4901161193847656, 1.862645149230957, 2.0954757928848267, 2.3283064365386963, 2.6193447411060333, 2.7830537874251604, 2.9103830456733704, 3.092281986027956, 3.2741809263825417, 3.376499080331996, 3.4788172342814505, 3.637978807091713, 3.6834535421803594, 3.7985614653734956, 3.913669388566632, 3.9748204727629854, 4.035971556959339, 4.092726157978177, -1, -1, 4.402878062137461, -1, -1, 4.604316927725449, -1, -1, -1, -1, 4.89208673570829, -1, -1, -1, -1, -1, -1, -1, -1, -1, -1, -1, -1, -1, -1, -1, -1, -1, -1, -1]\n",
      "[0228_124909]***NEW ITR 35***\n",
      "[0228_124909]***NEW ITR 36***\n",
      "[0228_124909]***NEW ITR 37***\n"
     ]
    },
    {
     "name": "stderr",
     "output_type": "stream",
     "text": [
      "100%|██████████████████████████████████████████████████████| 274/274 [00:07<00:00, 35.10it/s]\n"
     ]
    },
    {
     "name": "stdout",
     "output_type": "stream",
     "text": [
      "bin_idx < cur_bump_idx (19 and 20) delta=1.25 new bump_amount: 5.115907697472721\n"
     ]
    },
    {
     "name": "stderr",
     "output_type": "stream",
     "text": [
      "100%|██████████████████████████████████████████████████████| 274/274 [00:07<00:00, 36.51it/s]\n"
     ]
    },
    {
     "name": "stdout",
     "output_type": "stream",
     "text": [
      "assigned bin_idx 34\n",
      "Cur bump_idx: 20 bump amount: 5.115907697472721 target_class_pred: 22913 bin_idx: 34\n",
      "Overshot to bin 34. Decreasing bump amount to 4.604316927725449 aiming for bin 20\n",
      "bumps: [0.48828125, 0.95367431640625, 1.4901161193847656, 1.862645149230957, 2.0954757928848267, 2.3283064365386963, 2.6193447411060333, 2.7830537874251604, 2.9103830456733704, 3.092281986027956, 3.2741809263825417, 3.376499080331996, 3.4788172342814505, 3.637978807091713, 3.6834535421803594, 3.7985614653734956, 3.913669388566632, 3.9748204727629854, 4.035971556959339, 4.092726157978177, -1, -1, 4.402878062137461, -1, -1, 4.604316927725449, -1, -1, -1, -1, 4.89208673570829, -1, -1, -1, 5.115907697472721, -1, -1, -1, -1, -1, -1, -1, -1, -1, -1, -1, -1, -1, -1, -1]\n",
      "[0228_124925]***NEW ITR 38***\n"
     ]
    },
    {
     "name": "stderr",
     "output_type": "stream",
     "text": [
      "100%|██████████████████████████████████████████████████████| 274/274 [00:07<00:00, 34.67it/s]\n"
     ]
    },
    {
     "name": "stdout",
     "output_type": "stream",
     "text": [
      "Overshot to bin 25. Decreasing bump amount to 4.348521542851813 aiming for bin 20\n",
      "bumps: [0.48828125, 0.95367431640625, 1.4901161193847656, 1.862645149230957, 2.0954757928848267, 2.3283064365386963, 2.6193447411060333, 2.7830537874251604, 2.9103830456733704, 3.092281986027956, 3.2741809263825417, 3.376499080331996, 3.4788172342814505, 3.637978807091713, 3.6834535421803594, 3.7985614653734956, 3.913669388566632, 3.9748204727629854, 4.035971556959339, 4.092726157978177, -1, -1, 4.402878062137461, -1, -1, 4.604316927725449, -1, -1, -1, -1, 4.89208673570829, -1, -1, -1, 5.115907697472721, -1, -1, -1, -1, -1, -1, -1, -1, -1, -1, -1, -1, -1, -1, -1]\n",
      "[0228_124933]***NEW ITR 39***\n"
     ]
    },
    {
     "name": "stderr",
     "output_type": "stream",
     "text": [
      "100%|██████████████████████████████████████████████████████| 274/274 [00:07<00:00, 37.06it/s]\n"
     ]
    },
    {
     "name": "stdout",
     "output_type": "stream",
     "text": [
      "Overshot to bin 22. Decreasing bump amount to 4.220623850414995 aiming for bin 20\n",
      "bumps: [0.48828125, 0.95367431640625, 1.4901161193847656, 1.862645149230957, 2.0954757928848267, 2.3283064365386963, 2.6193447411060333, 2.7830537874251604, 2.9103830456733704, 3.092281986027956, 3.2741809263825417, 3.376499080331996, 3.4788172342814505, 3.637978807091713, 3.6834535421803594, 3.7985614653734956, 3.913669388566632, 3.9748204727629854, 4.035971556959339, 4.092726157978177, -1, -1, 4.402878062137461, -1, -1, 4.604316927725449, -1, -1, -1, -1, 4.89208673570829, -1, -1, -1, 5.115907697472721, -1, -1, -1, -1, -1, -1, -1, -1, -1, -1, -1, -1, -1, -1, -1]\n",
      "[0228_124940]***NEW ITR 40***\n"
     ]
    },
    {
     "name": "stderr",
     "output_type": "stream",
     "text": [
      "100%|██████████████████████████████████████████████████████| 274/274 [00:07<00:00, 36.97it/s]\n"
     ]
    },
    {
     "name": "stdout",
     "output_type": "stream",
     "text": [
      "assigned bin_idx 20\n",
      "Cur bump_idx: 20 bump amount: 4.220623850414995 target_class_pred: 16487 bin_idx: 20\n",
      "updating cur_bump_idx to 21, bump_amount to 5.275779813018744\n",
      "bumps: [0.48828125, 0.95367431640625, 1.4901161193847656, 1.862645149230957, 2.0954757928848267, 2.3283064365386963, 2.6193447411060333, 2.7830537874251604, 2.9103830456733704, 3.092281986027956, 3.2741809263825417, 3.376499080331996, 3.4788172342814505, 3.637978807091713, 3.6834535421803594, 3.7985614653734956, 3.913669388566632, 3.9748204727629854, 4.035971556959339, 4.092726157978177, 4.220623850414995, -1, 4.402878062137461, -1, -1, 4.604316927725449, -1, -1, -1, -1, 4.89208673570829, -1, -1, -1, 5.115907697472721, -1, -1, -1, -1, -1, -1, -1, -1, -1, -1, -1, -1, -1, -1, -1]\n",
      "[0228_124948]***NEW ITR 41***\n"
     ]
    },
    {
     "name": "stderr",
     "output_type": "stream",
     "text": [
      "100%|██████████████████████████████████████████████████████| 274/274 [00:07<00:00, 35.92it/s]\n"
     ]
    },
    {
     "name": "stdout",
     "output_type": "stream",
     "text": [
      "assigned bin_idx 37\n",
      "Cur bump_idx: 21 bump amount: 5.275779813018744 target_class_pred: 24359 bin_idx: 37\n",
      "Overshot to bin 37. Decreasing bump amount to 4.7482018317168695 aiming for bin 21\n",
      "bumps: [0.48828125, 0.95367431640625, 1.4901161193847656, 1.862645149230957, 2.0954757928848267, 2.3283064365386963, 2.6193447411060333, 2.7830537874251604, 2.9103830456733704, 3.092281986027956, 3.2741809263825417, 3.376499080331996, 3.4788172342814505, 3.637978807091713, 3.6834535421803594, 3.7985614653734956, 3.913669388566632, 3.9748204727629854, 4.035971556959339, 4.092726157978177, 4.220623850414995, -1, 4.402878062137461, -1, -1, 4.604316927725449, -1, -1, -1, -1, 4.89208673570829, -1, -1, -1, 5.115907697472721, -1, -1, 5.275779813018744, -1, -1, -1, -1, -1, -1, -1, -1, -1, -1, -1, -1]\n",
      "[0228_124955]***NEW ITR 42***\n"
     ]
    },
    {
     "name": "stderr",
     "output_type": "stream",
     "text": [
      "100%|██████████████████████████████████████████████████████| 274/274 [00:08<00:00, 33.84it/s]\n"
     ]
    },
    {
     "name": "stdout",
     "output_type": "stream",
     "text": [
      "assigned bin_idx 27\n",
      "Cur bump_idx: 21 bump amount: 4.7482018317168695 target_class_pred: 19970 bin_idx: 27\n",
      "Overshot to bin 27. Decreasing bump amount to 4.484412841065932 aiming for bin 21\n",
      "bumps: [0.48828125, 0.95367431640625, 1.4901161193847656, 1.862645149230957, 2.0954757928848267, 2.3283064365386963, 2.6193447411060333, 2.7830537874251604, 2.9103830456733704, 3.092281986027956, 3.2741809263825417, 3.376499080331996, 3.4788172342814505, 3.637978807091713, 3.6834535421803594, 3.7985614653734956, 3.913669388566632, 3.9748204727629854, 4.035971556959339, 4.092726157978177, 4.220623850414995, -1, 4.402878062137461, -1, -1, 4.604316927725449, -1, 4.7482018317168695, -1, -1, 4.89208673570829, -1, -1, -1, 5.115907697472721, -1, -1, 5.275779813018744, -1, -1, -1, -1, -1, -1, -1, -1, -1, -1, -1, -1]\n",
      "[0228_125003]***NEW ITR 43***\n"
     ]
    },
    {
     "name": "stderr",
     "output_type": "stream",
     "text": [
      "100%|██████████████████████████████████████████████████████| 274/274 [00:07<00:00, 36.64it/s]\n"
     ]
    },
    {
     "name": "stdout",
     "output_type": "stream",
     "text": [
      "assigned bin_idx 24\n",
      "Cur bump_idx: 21 bump amount: 4.484412841065932 target_class_pred: 18159 bin_idx: 24\n",
      "Overshot to bin 24. Decreasing bump amount to 4.352518345740464 aiming for bin 21\n",
      "bumps: [0.48828125, 0.95367431640625, 1.4901161193847656, 1.862645149230957, 2.0954757928848267, 2.3283064365386963, 2.6193447411060333, 2.7830537874251604, 2.9103830456733704, 3.092281986027956, 3.2741809263825417, 3.376499080331996, 3.4788172342814505, 3.637978807091713, 3.6834535421803594, 3.7985614653734956, 3.913669388566632, 3.9748204727629854, 4.035971556959339, 4.092726157978177, 4.220623850414995, -1, 4.402878062137461, -1, 4.484412841065932, 4.604316927725449, -1, 4.7482018317168695, -1, -1, 4.89208673570829, -1, -1, -1, 5.115907697472721, -1, -1, 5.275779813018744, -1, -1, -1, -1, -1, -1, -1, -1, -1, -1, -1, -1]\n",
      "[0228_125011]***NEW ITR 44***\n"
     ]
    },
    {
     "name": "stderr",
     "output_type": "stream",
     "text": [
      "100%|██████████████████████████████████████████████████████| 274/274 [00:07<00:00, 35.24it/s]\n"
     ]
    },
    {
     "name": "stdout",
     "output_type": "stream",
     "text": [
      "Overshot to bin 22. Decreasing bump amount to 4.286571098077729 aiming for bin 21\n",
      "bumps: [0.48828125, 0.95367431640625, 1.4901161193847656, 1.862645149230957, 2.0954757928848267, 2.3283064365386963, 2.6193447411060333, 2.7830537874251604, 2.9103830456733704, 3.092281986027956, 3.2741809263825417, 3.376499080331996, 3.4788172342814505, 3.637978807091713, 3.6834535421803594, 3.7985614653734956, 3.913669388566632, 3.9748204727629854, 4.035971556959339, 4.092726157978177, 4.220623850414995, -1, 4.402878062137461, -1, 4.484412841065932, 4.604316927725449, -1, 4.7482018317168695, -1, -1, 4.89208673570829, -1, -1, -1, 5.115907697472721, -1, -1, 5.275779813018744, -1, -1, -1, -1, -1, -1, -1, -1, -1, -1, -1, -1]\n",
      "[0228_125019]***NEW ITR 45***\n"
     ]
    },
    {
     "name": "stderr",
     "output_type": "stream",
     "text": [
      "100%|██████████████████████████████████████████████████████| 274/274 [00:07<00:00, 36.72it/s]\n"
     ]
    },
    {
     "name": "stdout",
     "output_type": "stream",
     "text": [
      "assigned bin_idx 21\n",
      "Cur bump_idx: 21 bump amount: 4.286571098077729 target_class_pred: 16881 bin_idx: 21\n",
      "updating cur_bump_idx to 22, bump_amount to 5.358213872597162\n",
      "bumps: [0.48828125, 0.95367431640625, 1.4901161193847656, 1.862645149230957, 2.0954757928848267, 2.3283064365386963, 2.6193447411060333, 2.7830537874251604, 2.9103830456733704, 3.092281986027956, 3.2741809263825417, 3.376499080331996, 3.4788172342814505, 3.637978807091713, 3.6834535421803594, 3.7985614653734956, 3.913669388566632, 3.9748204727629854, 4.035971556959339, 4.092726157978177, 4.220623850414995, 4.286571098077729, 4.402878062137461, -1, 4.484412841065932, 4.604316927725449, -1, 4.7482018317168695, -1, -1, 4.89208673570829, -1, -1, -1, 5.115907697472721, -1, -1, 5.275779813018744, -1, -1, -1, -1, -1, -1, -1, -1, -1, -1, -1, -1]\n",
      "[0228_125026]***NEW ITR 46***\n",
      "[0228_125026]***NEW ITR 47***\n"
     ]
    },
    {
     "name": "stderr",
     "output_type": "stream",
     "text": [
      "100%|██████████████████████████████████████████████████████| 274/274 [00:07<00:00, 34.65it/s]\n"
     ]
    },
    {
     "name": "stdout",
     "output_type": "stream",
     "text": [
      "bin_idx < cur_bump_idx (22 and 23) delta=1.25 new bump_amount: 5.503597577671826\n"
     ]
    },
    {
     "name": "stderr",
     "output_type": "stream",
     "text": [
      "100%|██████████████████████████████████████████████████████| 274/274 [00:07<00:00, 36.87it/s]\n"
     ]
    },
    {
     "name": "stdout",
     "output_type": "stream",
     "text": [
      "assigned bin_idx 42\n",
      "Cur bump_idx: 23 bump amount: 5.503597577671826 target_class_pred: 26655 bin_idx: 42\n",
      "Overshot to bin 42. Decreasing bump amount to 4.953237819904643 aiming for bin 23\n",
      "bumps: [0.48828125, 0.95367431640625, 1.4901161193847656, 1.862645149230957, 2.0954757928848267, 2.3283064365386963, 2.6193447411060333, 2.7830537874251604, 2.9103830456733704, 3.092281986027956, 3.2741809263825417, 3.376499080331996, 3.4788172342814505, 3.637978807091713, 3.6834535421803594, 3.7985614653734956, 3.913669388566632, 3.9748204727629854, 4.035971556959339, 4.092726157978177, 4.220623850414995, 4.286571098077729, 4.402878062137461, -1, 4.484412841065932, 4.604316927725449, -1, 4.7482018317168695, -1, -1, 4.89208673570829, -1, -1, -1, 5.115907697472721, -1, -1, 5.275779813018744, -1, -1, -1, -1, 5.503597577671826, -1, -1, -1, -1, -1, -1, -1]\n",
      "[0228_125041]***NEW ITR 48***\n"
     ]
    },
    {
     "name": "stderr",
     "output_type": "stream",
     "text": [
      "100%|██████████████████████████████████████████████████████| 274/274 [00:07<00:00, 36.88it/s]\n"
     ]
    },
    {
     "name": "stdout",
     "output_type": "stream",
     "text": [
      "assigned bin_idx 31\n",
      "Cur bump_idx: 23 bump amount: 4.953237819904643 target_class_pred: 21585 bin_idx: 31\n",
      "Overshot to bin 31. Decreasing bump amount to 4.678057941021052 aiming for bin 23\n",
      "bumps: [0.48828125, 0.95367431640625, 1.4901161193847656, 1.862645149230957, 2.0954757928848267, 2.3283064365386963, 2.6193447411060333, 2.7830537874251604, 2.9103830456733704, 3.092281986027956, 3.2741809263825417, 3.376499080331996, 3.4788172342814505, 3.637978807091713, 3.6834535421803594, 3.7985614653734956, 3.913669388566632, 3.9748204727629854, 4.035971556959339, 4.092726157978177, 4.220623850414995, 4.286571098077729, 4.402878062137461, -1, 4.484412841065932, 4.604316927725449, -1, 4.7482018317168695, -1, -1, 4.89208673570829, 4.953237819904643, -1, -1, 5.115907697472721, -1, -1, 5.275779813018744, -1, -1, -1, -1, 5.503597577671826, -1, -1, -1, -1, -1, -1, -1]\n",
      "[0228_125049]***NEW ITR 49***\n"
     ]
    },
    {
     "name": "stderr",
     "output_type": "stream",
     "text": [
      "100%|██████████████████████████████████████████████████████| 274/274 [00:07<00:00, 36.24it/s]\n"
     ]
    },
    {
     "name": "stdout",
     "output_type": "stream",
     "text": [
      "assigned bin_idx 26\n",
      "Cur bump_idx: 23 bump amount: 4.678057941021052 target_class_pred: 19472 bin_idx: 26\n",
      "Overshot to bin 26. Decreasing bump amount to 4.5404680015792565 aiming for bin 23\n",
      "bumps: [0.48828125, 0.95367431640625, 1.4901161193847656, 1.862645149230957, 2.0954757928848267, 2.3283064365386963, 2.6193447411060333, 2.7830537874251604, 2.9103830456733704, 3.092281986027956, 3.2741809263825417, 3.376499080331996, 3.4788172342814505, 3.637978807091713, 3.6834535421803594, 3.7985614653734956, 3.913669388566632, 3.9748204727629854, 4.035971556959339, 4.092726157978177, 4.220623850414995, 4.286571098077729, 4.402878062137461, -1, 4.484412841065932, 4.604316927725449, 4.678057941021052, 4.7482018317168695, -1, -1, 4.89208673570829, 4.953237819904643, -1, -1, 5.115907697472721, -1, -1, 5.275779813018744, -1, -1, -1, -1, 5.503597577671826, -1, -1, -1, -1, -1, -1, -1]\n",
      "[0228_125056]***NEW ITR 50***\n"
     ]
    },
    {
     "name": "stderr",
     "output_type": "stream",
     "text": [
      "100%|██████████████████████████████████████████████████████| 274/274 [00:08<00:00, 33.99it/s]\n"
     ]
    },
    {
     "name": "stdout",
     "output_type": "stream",
     "text": [
      "Overshot to bin 24. Decreasing bump amount to 4.471673031858359 aiming for bin 23\n",
      "bumps: [0.48828125, 0.95367431640625, 1.4901161193847656, 1.862645149230957, 2.0954757928848267, 2.3283064365386963, 2.6193447411060333, 2.7830537874251604, 2.9103830456733704, 3.092281986027956, 3.2741809263825417, 3.376499080331996, 3.4788172342814505, 3.637978807091713, 3.6834535421803594, 3.7985614653734956, 3.913669388566632, 3.9748204727629854, 4.035971556959339, 4.092726157978177, 4.220623850414995, 4.286571098077729, 4.402878062137461, -1, 4.484412841065932, 4.604316927725449, 4.678057941021052, 4.7482018317168695, -1, -1, 4.89208673570829, 4.953237819904643, -1, -1, 5.115907697472721, -1, -1, 5.275779813018744, -1, -1, -1, -1, 5.503597577671826, -1, -1, -1, -1, -1, -1, -1]\n",
      "[0228_125105]***NEW ITR 51***\n"
     ]
    },
    {
     "name": "stderr",
     "output_type": "stream",
     "text": [
      "100%|██████████████████████████████████████████████████████| 274/274 [00:07<00:00, 36.58it/s]\n"
     ]
    },
    {
     "name": "stdout",
     "output_type": "stream",
     "text": [
      "assigned bin_idx 23\n",
      "Cur bump_idx: 23 bump amount: 4.471673031858359 target_class_pred: 18072 bin_idx: 23\n",
      "updating cur_bump_idx to 24, bump_amount to 5.589591289822948\n",
      "bumps: [0.48828125, 0.95367431640625, 1.4901161193847656, 1.862645149230957, 2.0954757928848267, 2.3283064365386963, 2.6193447411060333, 2.7830537874251604, 2.9103830456733704, 3.092281986027956, 3.2741809263825417, 3.376499080331996, 3.4788172342814505, 3.637978807091713, 3.6834535421803594, 3.7985614653734956, 3.913669388566632, 3.9748204727629854, 4.035971556959339, 4.092726157978177, 4.220623850414995, 4.286571098077729, 4.402878062137461, 4.471673031858359, 4.484412841065932, 4.604316927725449, 4.678057941021052, 4.7482018317168695, -1, -1, 4.89208673570829, 4.953237819904643, -1, -1, 5.115907697472721, -1, -1, 5.275779813018744, -1, -1, -1, -1, 5.503597577671826, -1, -1, -1, -1, -1, -1, -1]\n",
      "[0228_125112]***NEW ITR 52***\n",
      "[0228_125112]***NEW ITR 53***\n",
      "[0228_125112]***NEW ITR 54***\n",
      "[0228_125112]***NEW ITR 55***\n",
      "[0228_125112]***NEW ITR 56***\n"
     ]
    },
    {
     "name": "stderr",
     "output_type": "stream",
     "text": [
      "100%|██████████████████████████████████████████████████████| 274/274 [00:07<00:00, 34.99it/s]\n"
     ]
    },
    {
     "name": "stdout",
     "output_type": "stream",
     "text": [
      "bin_idx < cur_bump_idx (27 and 28) delta=1.25 new bump_amount: 5.935252289646087\n"
     ]
    },
    {
     "name": "stderr",
     "output_type": "stream",
     "text": [
      "100%|██████████████████████████████████████████████████████| 274/274 [00:07<00:00, 36.75it/s]\n"
     ]
    },
    {
     "name": "stdout",
     "output_type": "stream",
     "text": [
      "bin_idx > n_bins (65) delta=1.25 new bump_amount: 5.341727060681478\n",
      "[0228_125127]***NEW ITR 57***\n"
     ]
    },
    {
     "name": "stderr",
     "output_type": "stream",
     "text": [
      "100%|██████████████████████████████████████████████████████| 274/274 [00:07<00:00, 34.83it/s]\n"
     ]
    },
    {
     "name": "stdout",
     "output_type": "stream",
     "text": [
      "assigned bin_idx 38\n",
      "Cur bump_idx: 28 bump amount: 5.341727060681478 target_class_pred: 24972 bin_idx: 38\n",
      "Overshot to bin 38. Decreasing bump amount to 5.044964446199174 aiming for bin 28\n",
      "bumps: [0.48828125, 0.95367431640625, 1.4901161193847656, 1.862645149230957, 2.0954757928848267, 2.3283064365386963, 2.6193447411060333, 2.7830537874251604, 2.9103830456733704, 3.092281986027956, 3.2741809263825417, 3.376499080331996, 3.4788172342814505, 3.637978807091713, 3.6834535421803594, 3.7985614653734956, 3.913669388566632, 3.9748204727629854, 4.035971556959339, 4.092726157978177, 4.220623850414995, 4.286571098077729, 4.402878062137461, 4.471673031858359, 4.484412841065932, 4.604316927725449, 4.678057941021052, 4.7482018317168695, -1, -1, 4.89208673570829, 4.953237819904643, -1, -1, 5.115907697472721, -1, -1, 5.275779813018744, 5.341727060681478, -1, -1, -1, 5.503597577671826, -1, -1, -1, -1, -1, -1, -1]\n",
      "[0228_125135]***NEW ITR 58***\n"
     ]
    },
    {
     "name": "stderr",
     "output_type": "stream",
     "text": [
      "100%|██████████████████████████████████████████████████████| 274/274 [00:07<00:00, 37.10it/s]\n"
     ]
    },
    {
     "name": "stdout",
     "output_type": "stream",
     "text": [
      "assigned bin_idx 33\n",
      "Cur bump_idx: 28 bump amount: 5.044964446199174 target_class_pred: 22350 bin_idx: 33\n",
      "Overshot to bin 33. Decreasing bump amount to 4.896583138958022 aiming for bin 28\n",
      "bumps: [0.48828125, 0.95367431640625, 1.4901161193847656, 1.862645149230957, 2.0954757928848267, 2.3283064365386963, 2.6193447411060333, 2.7830537874251604, 2.9103830456733704, 3.092281986027956, 3.2741809263825417, 3.376499080331996, 3.4788172342814505, 3.637978807091713, 3.6834535421803594, 3.7985614653734956, 3.913669388566632, 3.9748204727629854, 4.035971556959339, 4.092726157978177, 4.220623850414995, 4.286571098077729, 4.402878062137461, 4.471673031858359, 4.484412841065932, 4.604316927725449, 4.678057941021052, 4.7482018317168695, -1, -1, 4.89208673570829, 4.953237819904643, -1, 5.044964446199174, 5.115907697472721, -1, -1, 5.275779813018744, 5.341727060681478, -1, -1, -1, 5.503597577671826, -1, -1, -1, -1, -1, -1, -1]\n",
      "[0228_125143]***NEW ITR 59***\n"
     ]
    },
    {
     "name": "stderr",
     "output_type": "stream",
     "text": [
      "100%|██████████████████████████████████████████████████████| 274/274 [00:07<00:00, 36.98it/s]\n"
     ]
    },
    {
     "name": "stdout",
     "output_type": "stream",
     "text": [
      "Overshot to bin 30. Decreasing bump amount to 4.822392485337446 aiming for bin 28\n",
      "bumps: [0.48828125, 0.95367431640625, 1.4901161193847656, 1.862645149230957, 2.0954757928848267, 2.3283064365386963, 2.6193447411060333, 2.7830537874251604, 2.9103830456733704, 3.092281986027956, 3.2741809263825417, 3.376499080331996, 3.4788172342814505, 3.637978807091713, 3.6834535421803594, 3.7985614653734956, 3.913669388566632, 3.9748204727629854, 4.035971556959339, 4.092726157978177, 4.220623850414995, 4.286571098077729, 4.402878062137461, 4.471673031858359, 4.484412841065932, 4.604316927725449, 4.678057941021052, 4.7482018317168695, -1, -1, 4.89208673570829, 4.953237819904643, -1, 5.044964446199174, 5.115907697472721, -1, -1, 5.275779813018744, 5.341727060681478, -1, -1, -1, 5.503597577671826, -1, -1, -1, -1, -1, -1, -1]\n",
      "[0228_125150]***NEW ITR 60***\n"
     ]
    },
    {
     "name": "stderr",
     "output_type": "stream",
     "text": [
      "100%|██████████████████████████████████████████████████████| 274/274 [00:07<00:00, 36.09it/s]\n"
     ]
    },
    {
     "name": "stdout",
     "output_type": "stream",
     "text": [
      "assigned bin_idx 29\n",
      "Cur bump_idx: 28 bump amount: 4.822392485337446 target_class_pred: 20563 bin_idx: 29\n",
      "Overshot to bin 29. Decreasing bump amount to 4.7852971585271575 aiming for bin 28\n",
      "bumps: [0.48828125, 0.95367431640625, 1.4901161193847656, 1.862645149230957, 2.0954757928848267, 2.3283064365386963, 2.6193447411060333, 2.7830537874251604, 2.9103830456733704, 3.092281986027956, 3.2741809263825417, 3.376499080331996, 3.4788172342814505, 3.637978807091713, 3.6834535421803594, 3.7985614653734956, 3.913669388566632, 3.9748204727629854, 4.035971556959339, 4.092726157978177, 4.220623850414995, 4.286571098077729, 4.402878062137461, 4.471673031858359, 4.484412841065932, 4.604316927725449, 4.678057941021052, 4.7482018317168695, -1, 4.822392485337446, 4.89208673570829, 4.953237819904643, -1, 5.044964446199174, 5.115907697472721, -1, -1, 5.275779813018744, 5.341727060681478, -1, -1, -1, 5.503597577671826, -1, -1, -1, -1, -1, -1, -1]\n",
      "[0228_125158]***NEW ITR 61***\n"
     ]
    },
    {
     "name": "stderr",
     "output_type": "stream",
     "text": [
      "100%|██████████████████████████████████████████████████████| 274/274 [00:08<00:00, 33.73it/s]\n"
     ]
    },
    {
     "name": "stdout",
     "output_type": "stream",
     "text": [
      "assigned bin_idx 28\n",
      "Cur bump_idx: 28 bump amount: 4.7852971585271575 target_class_pred: 20265 bin_idx: 28\n",
      "updating cur_bump_idx to 29, bump_amount to 5.981621448158947\n",
      "bumps: [0.48828125, 0.95367431640625, 1.4901161193847656, 1.862645149230957, 2.0954757928848267, 2.3283064365386963, 2.6193447411060333, 2.7830537874251604, 2.9103830456733704, 3.092281986027956, 3.2741809263825417, 3.376499080331996, 3.4788172342814505, 3.637978807091713, 3.6834535421803594, 3.7985614653734956, 3.913669388566632, 3.9748204727629854, 4.035971556959339, 4.092726157978177, 4.220623850414995, 4.286571098077729, 4.402878062137461, 4.471673031858359, 4.484412841065932, 4.604316927725449, 4.678057941021052, 4.7482018317168695, 4.7852971585271575, 4.822392485337446, 4.89208673570829, 4.953237819904643, -1, 5.044964446199174, 5.115907697472721, -1, -1, 5.275779813018744, 5.341727060681478, -1, -1, -1, 5.503597577671826, -1, -1, -1, -1, -1, -1, -1]\n",
      "[0228_125206]***NEW ITR 62***\n",
      "[0228_125206]***NEW ITR 63***\n",
      "[0228_125206]***NEW ITR 64***\n",
      "[0228_125206]***NEW ITR 65***\n"
     ]
    },
    {
     "name": "stderr",
     "output_type": "stream",
     "text": [
      "100%|██████████████████████████████████████████████████████| 274/274 [00:07<00:00, 36.58it/s]\n"
     ]
    },
    {
     "name": "stdout",
     "output_type": "stream",
     "text": [
      "bin_idx < cur_bump_idx (31 and 32) delta=1.25 new bump_amount: 6.191547274880804\n"
     ]
    },
    {
     "name": "stderr",
     "output_type": "stream",
     "text": [
      "100%|██████████████████████████████████████████████████████| 274/274 [00:07<00:00, 35.20it/s]\n",
      "/n/fs/ac-editing/model-editing/src/model/metric.py:168: RuntimeWarning: invalid value encountered in divide\n",
      "  return np.nan_to_num(TPs / (TPs + FPs))\n",
      "/n/fs/ac-editing/model-editing/src/model/metric.py:205: RuntimeWarning: invalid value encountered in divide\n",
      "  return np.nan_to_num(2 * precisions * recalls / (precisions + recalls))\n"
     ]
    },
    {
     "name": "stdout",
     "output_type": "stream",
     "text": [
      "bin_idx > n_bins (80) delta=1.25 new bump_amount: 5.572392547392724\n",
      "[0228_125221]***NEW ITR 66***\n"
     ]
    },
    {
     "name": "stderr",
     "output_type": "stream",
     "text": [
      "100%|██████████████████████████████████████████████████████| 274/274 [00:07<00:00, 36.68it/s]\n"
     ]
    },
    {
     "name": "stdout",
     "output_type": "stream",
     "text": [
      "assigned bin_idx 44\n",
      "Cur bump_idx: 32 bump amount: 5.572392547392724 target_class_pred: 27555 bin_idx: 44\n",
      "Overshot to bin 44. Decreasing bump amount to 5.262815183648684 aiming for bin 32\n",
      "bumps: [0.48828125, 0.95367431640625, 1.4901161193847656, 1.862645149230957, 2.0954757928848267, 2.3283064365386963, 2.6193447411060333, 2.7830537874251604, 2.9103830456733704, 3.092281986027956, 3.2741809263825417, 3.376499080331996, 3.4788172342814505, 3.637978807091713, 3.6834535421803594, 3.7985614653734956, 3.913669388566632, 3.9748204727629854, 4.035971556959339, 4.092726157978177, 4.220623850414995, 4.286571098077729, 4.402878062137461, 4.471673031858359, 4.484412841065932, 4.604316927725449, 4.678057941021052, 4.7482018317168695, 4.7852971585271575, 4.822392485337446, 4.89208673570829, 4.953237819904643, -1, 5.044964446199174, 5.115907697472721, -1, -1, 5.275779813018744, 5.341727060681478, -1, -1, -1, 5.503597577671826, -1, 5.572392547392724, -1, -1, -1, -1, -1]\n",
      "[0228_125229]***NEW ITR 67***\n"
     ]
    },
    {
     "name": "stderr",
     "output_type": "stream",
     "text": [
      "100%|██████████████████████████████████████████████████████| 274/274 [00:07<00:00, 34.44it/s]\n"
     ]
    },
    {
     "name": "stdout",
     "output_type": "stream",
     "text": [
      "Overshot to bin 37. Decreasing bump amount to 5.1080265017766635 aiming for bin 32\n",
      "bumps: [0.48828125, 0.95367431640625, 1.4901161193847656, 1.862645149230957, 2.0954757928848267, 2.3283064365386963, 2.6193447411060333, 2.7830537874251604, 2.9103830456733704, 3.092281986027956, 3.2741809263825417, 3.376499080331996, 3.4788172342814505, 3.637978807091713, 3.6834535421803594, 3.7985614653734956, 3.913669388566632, 3.9748204727629854, 4.035971556959339, 4.092726157978177, 4.220623850414995, 4.286571098077729, 4.402878062137461, 4.471673031858359, 4.484412841065932, 4.604316927725449, 4.678057941021052, 4.7482018317168695, 4.7852971585271575, 4.822392485337446, 4.89208673570829, 4.953237819904643, -1, 5.044964446199174, 5.115907697472721, -1, -1, 5.275779813018744, 5.341727060681478, -1, -1, -1, 5.503597577671826, -1, 5.572392547392724, -1, -1, -1, -1, -1]\n",
      "[0228_125237]***NEW ITR 68***\n"
     ]
    },
    {
     "name": "stderr",
     "output_type": "stream",
     "text": [
      "100%|██████████████████████████████████████████████████████| 274/274 [00:07<00:00, 37.06it/s]\n"
     ]
    },
    {
     "name": "stdout",
     "output_type": "stream",
     "text": [
      "Overshot to bin 34. Decreasing bump amount to 5.0306321608406535 aiming for bin 32\n",
      "bumps: [0.48828125, 0.95367431640625, 1.4901161193847656, 1.862645149230957, 2.0954757928848267, 2.3283064365386963, 2.6193447411060333, 2.7830537874251604, 2.9103830456733704, 3.092281986027956, 3.2741809263825417, 3.376499080331996, 3.4788172342814505, 3.637978807091713, 3.6834535421803594, 3.7985614653734956, 3.913669388566632, 3.9748204727629854, 4.035971556959339, 4.092726157978177, 4.220623850414995, 4.286571098077729, 4.402878062137461, 4.471673031858359, 4.484412841065932, 4.604316927725449, 4.678057941021052, 4.7482018317168695, 4.7852971585271575, 4.822392485337446, 4.89208673570829, 4.953237819904643, -1, 5.044964446199174, 5.115907697472721, -1, -1, 5.275779813018744, 5.341727060681478, -1, -1, -1, 5.503597577671826, -1, 5.572392547392724, -1, -1, -1, -1, -1]\n",
      "[0228_125244]***NEW ITR 69***\n"
     ]
    },
    {
     "name": "stderr",
     "output_type": "stream",
     "text": [
      "100%|██████████████████████████████████████████████████████| 274/274 [00:07<00:00, 37.03it/s]\n"
     ]
    },
    {
     "name": "stdout",
     "output_type": "stream",
     "text": [
      "assigned bin_idx 32\n",
      "Cur bump_idx: 32 bump amount: 5.0306321608406535 target_class_pred: 22228 bin_idx: 32\n",
      "updating cur_bump_idx to 33, bump_amount to 6.288290201050817\n",
      "bumps: [0.48828125, 0.95367431640625, 1.4901161193847656, 1.862645149230957, 2.0954757928848267, 2.3283064365386963, 2.6193447411060333, 2.7830537874251604, 2.9103830456733704, 3.092281986027956, 3.2741809263825417, 3.376499080331996, 3.4788172342814505, 3.637978807091713, 3.6834535421803594, 3.7985614653734956, 3.913669388566632, 3.9748204727629854, 4.035971556959339, 4.092726157978177, 4.220623850414995, 4.286571098077729, 4.402878062137461, 4.471673031858359, 4.484412841065932, 4.604316927725449, 4.678057941021052, 4.7482018317168695, 4.7852971585271575, 4.822392485337446, 4.89208673570829, 4.953237819904643, 5.0306321608406535, 5.044964446199174, 5.115907697472721, -1, -1, 5.275779813018744, 5.341727060681478, -1, -1, -1, 5.503597577671826, -1, 5.572392547392724, -1, -1, -1, -1, -1]\n",
      "[0228_125251]***NEW ITR 70***\n",
      "[0228_125251]***NEW ITR 71***\n",
      "[0228_125251]***NEW ITR 72***\n"
     ]
    },
    {
     "name": "stderr",
     "output_type": "stream",
     "text": [
      "100%|██████████████████████████████████████████████████████| 274/274 [00:07<00:00, 36.04it/s]\n"
     ]
    },
    {
     "name": "stdout",
     "output_type": "stream",
     "text": [
      "bin_idx < cur_bump_idx (34 and 35) delta=1.25 new bump_amount: 6.394884621840902\n"
     ]
    },
    {
     "name": "stderr",
     "output_type": "stream",
     "text": [
      "100%|██████████████████████████████████████████████████████| 274/274 [00:08<00:00, 33.61it/s]\n",
      "/n/fs/ac-editing/model-editing/src/model/metric.py:168: RuntimeWarning: invalid value encountered in divide\n",
      "  return np.nan_to_num(TPs / (TPs + FPs))\n",
      "/n/fs/ac-editing/model-editing/src/model/metric.py:205: RuntimeWarning: invalid value encountered in divide\n",
      "  return np.nan_to_num(2 * precisions * recalls / (precisions + recalls))\n"
     ]
    },
    {
     "name": "stdout",
     "output_type": "stream",
     "text": [
      "bin_idx > n_bins (93) delta=1.25 new bump_amount: 5.7553961596568115\n",
      "[0228_125307]***NEW ITR 73***\n"
     ]
    },
    {
     "name": "stderr",
     "output_type": "stream",
     "text": [
      "100%|██████████████████████████████████████████████████████| 274/274 [00:07<00:00, 36.35it/s]\n"
     ]
    },
    {
     "name": "stdout",
     "output_type": "stream",
     "text": [
      "bin_idx > n_bins (54) delta=1.25 new bump_amount: 5.435651928564766\n",
      "[0228_125315]***NEW ITR 74***\n"
     ]
    },
    {
     "name": "stderr",
     "output_type": "stream",
     "text": [
      "100%|██████████████████████████████████████████████████████| 274/274 [00:07<00:00, 34.93it/s]\n"
     ]
    },
    {
     "name": "stdout",
     "output_type": "stream",
     "text": [
      "assigned bin_idx 40\n",
      "Cur bump_idx: 35 bump amount: 5.435651928564766 target_class_pred: 25867 bin_idx: 40\n",
      "Overshot to bin 40. Decreasing bump amount to 5.275779813018744 aiming for bin 35\n",
      "bumps: [0.48828125, 0.95367431640625, 1.4901161193847656, 1.862645149230957, 2.0954757928848267, 2.3283064365386963, 2.6193447411060333, 2.7830537874251604, 2.9103830456733704, 3.092281986027956, 3.2741809263825417, 3.376499080331996, 3.4788172342814505, 3.637978807091713, 3.6834535421803594, 3.7985614653734956, 3.913669388566632, 3.9748204727629854, 4.035971556959339, 4.092726157978177, 4.220623850414995, 4.286571098077729, 4.402878062137461, 4.471673031858359, 4.484412841065932, 4.604316927725449, 4.678057941021052, 4.7482018317168695, 4.7852971585271575, 4.822392485337446, 4.89208673570829, 4.953237819904643, 5.0306321608406535, 5.044964446199174, 5.115907697472721, -1, -1, 5.275779813018744, 5.341727060681478, -1, 5.435651928564766, -1, 5.503597577671826, -1, 5.572392547392724, -1, -1, -1, -1, -1]\n",
      "[0228_125323]***NEW ITR 75***\n"
     ]
    },
    {
     "name": "stderr",
     "output_type": "stream",
     "text": [
      "100%|██████████████████████████████████████████████████████| 274/274 [00:07<00:00, 36.85it/s]\n"
     ]
    },
    {
     "name": "stdout",
     "output_type": "stream",
     "text": [
      "Overshot to bin 37. Decreasing bump amount to 5.195843755245733 aiming for bin 35\n",
      "bumps: [0.48828125, 0.95367431640625, 1.4901161193847656, 1.862645149230957, 2.0954757928848267, 2.3283064365386963, 2.6193447411060333, 2.7830537874251604, 2.9103830456733704, 3.092281986027956, 3.2741809263825417, 3.376499080331996, 3.4788172342814505, 3.637978807091713, 3.6834535421803594, 3.7985614653734956, 3.913669388566632, 3.9748204727629854, 4.035971556959339, 4.092726157978177, 4.220623850414995, 4.286571098077729, 4.402878062137461, 4.471673031858359, 4.484412841065932, 4.604316927725449, 4.678057941021052, 4.7482018317168695, 4.7852971585271575, 4.822392485337446, 4.89208673570829, 4.953237819904643, 5.0306321608406535, 5.044964446199174, 5.115907697472721, -1, -1, 5.275779813018744, 5.341727060681478, -1, 5.435651928564766, -1, 5.503597577671826, -1, 5.572392547392724, -1, -1, -1, -1, -1]\n",
      "[0228_125330]***NEW ITR 76***\n"
     ]
    },
    {
     "name": "stderr",
     "output_type": "stream",
     "text": [
      "100%|██████████████████████████████████████████████████████| 274/274 [00:07<00:00, 34.66it/s]\n"
     ]
    },
    {
     "name": "stdout",
     "output_type": "stream",
     "text": [
      "assigned bin_idx 35\n",
      "Cur bump_idx: 35 bump amount: 5.195843755245733 target_class_pred: 23604 bin_idx: 35\n",
      "updating cur_bump_idx to 36, bump_amount to 6.494804694057166\n",
      "bumps: [0.48828125, 0.95367431640625, 1.4901161193847656, 1.862645149230957, 2.0954757928848267, 2.3283064365386963, 2.6193447411060333, 2.7830537874251604, 2.9103830456733704, 3.092281986027956, 3.2741809263825417, 3.376499080331996, 3.4788172342814505, 3.637978807091713, 3.6834535421803594, 3.7985614653734956, 3.913669388566632, 3.9748204727629854, 4.035971556959339, 4.092726157978177, 4.220623850414995, 4.286571098077729, 4.402878062137461, 4.471673031858359, 4.484412841065932, 4.604316927725449, 4.678057941021052, 4.7482018317168695, 4.7852971585271575, 4.822392485337446, 4.89208673570829, 4.953237819904643, 5.0306321608406535, 5.044964446199174, 5.115907697472721, 5.195843755245733, -1, 5.275779813018744, 5.341727060681478, -1, 5.435651928564766, -1, 5.503597577671826, -1, 5.572392547392724, -1, -1, -1, -1, -1]\n",
      "[0228_125338]***NEW ITR 77***\n"
     ]
    },
    {
     "name": "stderr",
     "output_type": "stream",
     "text": [
      "100%|██████████████████████████████████████████████████████| 274/274 [00:07<00:00, 37.17it/s]\n",
      "/n/fs/ac-editing/model-editing/src/model/metric.py:168: RuntimeWarning: invalid value encountered in divide\n",
      "  return np.nan_to_num(TPs / (TPs + FPs))\n",
      "/n/fs/ac-editing/model-editing/src/model/metric.py:205: RuntimeWarning: invalid value encountered in divide\n",
      "  return np.nan_to_num(2 * precisions * recalls / (precisions + recalls))\n"
     ]
    },
    {
     "name": "stdout",
     "output_type": "stream",
     "text": [
      "bin_idx > n_bins (98) delta=1.25 new bump_amount: 5.845324224651449\n",
      "[0228_125345]***NEW ITR 78***\n"
     ]
    },
    {
     "name": "stderr",
     "output_type": "stream",
     "text": [
      "100%|██████████████████████████████████████████████████████| 274/274 [00:07<00:00, 36.98it/s]\n"
     ]
    },
    {
     "name": "stdout",
     "output_type": "stream",
     "text": [
      "bin_idx > n_bins (59) delta=1.25 new bump_amount: 5.520583989948591\n",
      "[0228_125353]***NEW ITR 79***\n"
     ]
    },
    {
     "name": "stderr",
     "output_type": "stream",
     "text": [
      "100%|██████████████████████████████████████████████████████| 274/274 [00:07<00:00, 36.01it/s]\n"
     ]
    },
    {
     "name": "stdout",
     "output_type": "stream",
     "text": [
      "Overshot to bin 42. Decreasing bump amount to 5.358213872597162 aiming for bin 36\n",
      "bumps: [0.48828125, 0.95367431640625, 1.4901161193847656, 1.862645149230957, 2.0954757928848267, 2.3283064365386963, 2.6193447411060333, 2.7830537874251604, 2.9103830456733704, 3.092281986027956, 3.2741809263825417, 3.376499080331996, 3.4788172342814505, 3.637978807091713, 3.6834535421803594, 3.7985614653734956, 3.913669388566632, 3.9748204727629854, 4.035971556959339, 4.092726157978177, 4.220623850414995, 4.286571098077729, 4.402878062137461, 4.471673031858359, 4.484412841065932, 4.604316927725449, 4.678057941021052, 4.7482018317168695, 4.7852971585271575, 4.822392485337446, 4.89208673570829, 4.953237819904643, 5.0306321608406535, 5.044964446199174, 5.115907697472721, 5.195843755245733, -1, 5.275779813018744, 5.341727060681478, -1, 5.435651928564766, -1, 5.503597577671826, -1, 5.572392547392724, -1, -1, -1, -1, -1]\n",
      "[0228_125400]***NEW ITR 80***\n"
     ]
    },
    {
     "name": "stderr",
     "output_type": "stream",
     "text": [
      "100%|██████████████████████████████████████████████████████| 274/274 [00:08<00:00, 33.86it/s]\n"
     ]
    },
    {
     "name": "stdout",
     "output_type": "stream",
     "text": [
      "Overshot to bin 38. Decreasing bump amount to 5.277028813921447 aiming for bin 36\n",
      "bumps: [0.48828125, 0.95367431640625, 1.4901161193847656, 1.862645149230957, 2.0954757928848267, 2.3283064365386963, 2.6193447411060333, 2.7830537874251604, 2.9103830456733704, 3.092281986027956, 3.2741809263825417, 3.376499080331996, 3.4788172342814505, 3.637978807091713, 3.6834535421803594, 3.7985614653734956, 3.913669388566632, 3.9748204727629854, 4.035971556959339, 4.092726157978177, 4.220623850414995, 4.286571098077729, 4.402878062137461, 4.471673031858359, 4.484412841065932, 4.604316927725449, 4.678057941021052, 4.7482018317168695, 4.7852971585271575, 4.822392485337446, 4.89208673570829, 4.953237819904643, 5.0306321608406535, 5.044964446199174, 5.115907697472721, 5.195843755245733, -1, 5.275779813018744, 5.341727060681478, -1, 5.435651928564766, -1, 5.503597577671826, -1, 5.572392547392724, -1, -1, -1, -1, -1]\n",
      "[0228_125409]***NEW ITR 81***\n"
     ]
    },
    {
     "name": "stderr",
     "output_type": "stream",
     "text": [
      "100%|██████████████████████████████████████████████████████| 274/274 [00:07<00:00, 36.71it/s]\n"
     ]
    },
    {
     "name": "stdout",
     "output_type": "stream",
     "text": [
      "Overshot to bin 37. Decreasing bump amount to 5.23643628458359 aiming for bin 36\n",
      "bumps: [0.48828125, 0.95367431640625, 1.4901161193847656, 1.862645149230957, 2.0954757928848267, 2.3283064365386963, 2.6193447411060333, 2.7830537874251604, 2.9103830456733704, 3.092281986027956, 3.2741809263825417, 3.376499080331996, 3.4788172342814505, 3.637978807091713, 3.6834535421803594, 3.7985614653734956, 3.913669388566632, 3.9748204727629854, 4.035971556959339, 4.092726157978177, 4.220623850414995, 4.286571098077729, 4.402878062137461, 4.471673031858359, 4.484412841065932, 4.604316927725449, 4.678057941021052, 4.7482018317168695, 4.7852971585271575, 4.822392485337446, 4.89208673570829, 4.953237819904643, 5.0306321608406535, 5.044964446199174, 5.115907697472721, 5.195843755245733, -1, 5.275779813018744, 5.341727060681478, -1, 5.435651928564766, -1, 5.503597577671826, -1, 5.572392547392724, -1, -1, -1, -1, -1]\n",
      "[0228_125416]***NEW ITR 82***\n"
     ]
    },
    {
     "name": "stderr",
     "output_type": "stream",
     "text": [
      "100%|██████████████████████████████████████████████████████| 274/274 [00:07<00:00, 35.31it/s]\n"
     ]
    },
    {
     "name": "stdout",
     "output_type": "stream",
     "text": [
      "assigned bin_idx 36\n",
      "Cur bump_idx: 36 bump amount: 5.23643628458359 target_class_pred: 23985 bin_idx: 36\n",
      "updating cur_bump_idx to 37, bump_amount to 6.545545355729487\n",
      "bumps: [0.48828125, 0.95367431640625, 1.4901161193847656, 1.862645149230957, 2.0954757928848267, 2.3283064365386963, 2.6193447411060333, 2.7830537874251604, 2.9103830456733704, 3.092281986027956, 3.2741809263825417, 3.376499080331996, 3.4788172342814505, 3.637978807091713, 3.6834535421803594, 3.7985614653734956, 3.913669388566632, 3.9748204727629854, 4.035971556959339, 4.092726157978177, 4.220623850414995, 4.286571098077729, 4.402878062137461, 4.471673031858359, 4.484412841065932, 4.604316927725449, 4.678057941021052, 4.7482018317168695, 4.7852971585271575, 4.822392485337446, 4.89208673570829, 4.953237819904643, 5.0306321608406535, 5.044964446199174, 5.115907697472721, 5.195843755245733, 5.23643628458359, 5.275779813018744, 5.341727060681478, -1, 5.435651928564766, -1, 5.503597577671826, -1, 5.572392547392724, -1, -1, -1, -1, -1]\n",
      "[0228_125424]***NEW ITR 83***\n",
      "[0228_125424]***NEW ITR 84***\n",
      "[0228_125424]***NEW ITR 85***\n"
     ]
    },
    {
     "name": "stderr",
     "output_type": "stream",
     "text": [
      "100%|██████████████████████████████████████████████████████| 274/274 [00:07<00:00, 36.82it/s]\n"
     ]
    },
    {
     "name": "stdout",
     "output_type": "stream",
     "text": [
      "bin_idx < cur_bump_idx (38 and 39) delta=1.25 new bump_amount: 6.677158825851848\n"
     ]
    },
    {
     "name": "stderr",
     "output_type": "stream",
     "text": [
      "100%|██████████████████████████████████████████████████████| 274/274 [00:07<00:00, 34.62it/s]\n",
      "/n/fs/ac-editing/model-editing/src/model/metric.py:168: RuntimeWarning: invalid value encountered in divide\n",
      "  return np.nan_to_num(TPs / (TPs + FPs))\n",
      "/n/fs/ac-editing/model-editing/src/model/metric.py:205: RuntimeWarning: invalid value encountered in divide\n",
      "  return np.nan_to_num(2 * precisions * recalls / (precisions + recalls))\n"
     ]
    },
    {
     "name": "stdout",
     "output_type": "stream",
     "text": [
      "bin_idx > n_bins (104) delta=1.25 new bump_amount: 6.009442943266663\n",
      "[0228_125439]***NEW ITR 86***\n"
     ]
    },
    {
     "name": "stderr",
     "output_type": "stream",
     "text": [
      "100%|██████████████████████████████████████████████████████| 274/274 [00:07<00:00, 37.03it/s]\n",
      "/n/fs/ac-editing/model-editing/src/model/metric.py:168: RuntimeWarning: invalid value encountered in divide\n",
      "  return np.nan_to_num(TPs / (TPs + FPs))\n",
      "/n/fs/ac-editing/model-editing/src/model/metric.py:205: RuntimeWarning: invalid value encountered in divide\n",
      "  return np.nan_to_num(2 * precisions * recalls / (precisions + recalls))\n"
     ]
    },
    {
     "name": "stdout",
     "output_type": "stream",
     "text": [
      "bin_idx > n_bins (69) delta=1.25 new bump_amount: 5.675585001974071\n",
      "[0228_125447]***NEW ITR 87***\n"
     ]
    },
    {
     "name": "stderr",
     "output_type": "stream",
     "text": [
      "100%|██████████████████████████████████████████████████████| 274/274 [00:07<00:00, 37.19it/s]\n"
     ]
    },
    {
     "name": "stdout",
     "output_type": "stream",
     "text": [
      "assigned bin_idx 48\n",
      "Cur bump_idx: 39 bump amount: 5.675585001974071 target_class_pred: 29784 bin_idx: 48\n",
      "Overshot to bin 48. Decreasing bump amount to 5.508656031327774 aiming for bin 39\n",
      "bumps: [0.48828125, 0.95367431640625, 1.4901161193847656, 1.862645149230957, 2.0954757928848267, 2.3283064365386963, 2.6193447411060333, 2.7830537874251604, 2.9103830456733704, 3.092281986027956, 3.2741809263825417, 3.376499080331996, 3.4788172342814505, 3.637978807091713, 3.6834535421803594, 3.7985614653734956, 3.913669388566632, 3.9748204727629854, 4.035971556959339, 4.092726157978177, 4.220623850414995, 4.286571098077729, 4.402878062137461, 4.471673031858359, 4.484412841065932, 4.604316927725449, 4.678057941021052, 4.7482018317168695, 4.7852971585271575, 4.822392485337446, 4.89208673570829, 4.953237819904643, 5.0306321608406535, 5.044964446199174, 5.115907697472721, 5.195843755245733, 5.23643628458359, 5.275779813018744, 5.341727060681478, -1, 5.435651928564766, -1, 5.503597577671826, -1, 5.572392547392724, -1, -1, -1, 5.675585001974071, -1]\n",
      "[0228_125454]***NEW ITR 88***\n"
     ]
    },
    {
     "name": "stderr",
     "output_type": "stream",
     "text": [
      "100%|██████████████████████████████████████████████████████| 274/274 [00:07<00:00, 35.73it/s]\n"
     ]
    },
    {
     "name": "stdout",
     "output_type": "stream",
     "text": [
      "Overshot to bin 42. Decreasing bump amount to 5.425191546004626 aiming for bin 39\n",
      "bumps: [0.48828125, 0.95367431640625, 1.4901161193847656, 1.862645149230957, 2.0954757928848267, 2.3283064365386963, 2.6193447411060333, 2.7830537874251604, 2.9103830456733704, 3.092281986027956, 3.2741809263825417, 3.376499080331996, 3.4788172342814505, 3.637978807091713, 3.6834535421803594, 3.7985614653734956, 3.913669388566632, 3.9748204727629854, 4.035971556959339, 4.092726157978177, 4.220623850414995, 4.286571098077729, 4.402878062137461, 4.471673031858359, 4.484412841065932, 4.604316927725449, 4.678057941021052, 4.7482018317168695, 4.7852971585271575, 4.822392485337446, 4.89208673570829, 4.953237819904643, 5.0306321608406535, 5.044964446199174, 5.115907697472721, 5.195843755245733, 5.23643628458359, 5.275779813018744, 5.341727060681478, -1, 5.435651928564766, -1, 5.503597577671826, -1, 5.572392547392724, -1, -1, -1, 5.675585001974071, -1]\n",
      "[0228_125502]***NEW ITR 89***\n"
     ]
    },
    {
     "name": "stderr",
     "output_type": "stream",
     "text": [
      "100%|██████████████████████████████████████████████████████| 274/274 [00:08<00:00, 33.66it/s]\n"
     ]
    },
    {
     "name": "stdout",
     "output_type": "stream",
     "text": [
      "Overshot to bin 40. Decreasing bump amount to 5.383459303343052 aiming for bin 39\n",
      "bumps: [0.48828125, 0.95367431640625, 1.4901161193847656, 1.862645149230957, 2.0954757928848267, 2.3283064365386963, 2.6193447411060333, 2.7830537874251604, 2.9103830456733704, 3.092281986027956, 3.2741809263825417, 3.376499080331996, 3.4788172342814505, 3.637978807091713, 3.6834535421803594, 3.7985614653734956, 3.913669388566632, 3.9748204727629854, 4.035971556959339, 4.092726157978177, 4.220623850414995, 4.286571098077729, 4.402878062137461, 4.471673031858359, 4.484412841065932, 4.604316927725449, 4.678057941021052, 4.7482018317168695, 4.7852971585271575, 4.822392485337446, 4.89208673570829, 4.953237819904643, 5.0306321608406535, 5.044964446199174, 5.115907697472721, 5.195843755245733, 5.23643628458359, 5.275779813018744, 5.341727060681478, -1, 5.435651928564766, -1, 5.503597577671826, -1, 5.572392547392724, -1, -1, -1, 5.675585001974071, -1]\n",
      "[0228_125510]***NEW ITR 90***\n"
     ]
    },
    {
     "name": "stderr",
     "output_type": "stream",
     "text": [
      "100%|██████████████████████████████████████████████████████| 274/274 [00:07<00:00, 36.58it/s]\n"
     ]
    },
    {
     "name": "stdout",
     "output_type": "stream",
     "text": [
      "assigned bin_idx 39\n",
      "Cur bump_idx: 39 bump amount: 5.383459303343052 target_class_pred: 25375 bin_idx: 39\n",
      "updating cur_bump_idx to 40, bump_amount to 6.729324129178815\n",
      "bumps: [0.48828125, 0.95367431640625, 1.4901161193847656, 1.862645149230957, 2.0954757928848267, 2.3283064365386963, 2.6193447411060333, 2.7830537874251604, 2.9103830456733704, 3.092281986027956, 3.2741809263825417, 3.376499080331996, 3.4788172342814505, 3.637978807091713, 3.6834535421803594, 3.7985614653734956, 3.913669388566632, 3.9748204727629854, 4.035971556959339, 4.092726157978177, 4.220623850414995, 4.286571098077729, 4.402878062137461, 4.471673031858359, 4.484412841065932, 4.604316927725449, 4.678057941021052, 4.7482018317168695, 4.7852971585271575, 4.822392485337446, 4.89208673570829, 4.953237819904643, 5.0306321608406535, 5.044964446199174, 5.115907697472721, 5.195843755245733, 5.23643628458359, 5.275779813018744, 5.341727060681478, 5.383459303343052, 5.435651928564766, -1, 5.503597577671826, -1, 5.572392547392724, -1, -1, -1, 5.675585001974071, -1]\n",
      "[0228_125517]***NEW ITR 91***\n",
      "[0228_125517]***NEW ITR 92***\n"
     ]
    },
    {
     "name": "stderr",
     "output_type": "stream",
     "text": [
      "100%|██████████████████████████████████████████████████████| 274/274 [00:07<00:00, 35.44it/s]\n"
     ]
    },
    {
     "name": "stdout",
     "output_type": "stream",
     "text": [
      "bin_idx < cur_bump_idx (40 and 41) delta=1.25 new bump_amount: 6.794564910705958\n"
     ]
    },
    {
     "name": "stderr",
     "output_type": "stream",
     "text": [
      "100%|██████████████████████████████████████████████████████| 274/274 [00:07<00:00, 37.02it/s]\n",
      "/n/fs/ac-editing/model-editing/src/model/metric.py:168: RuntimeWarning: invalid value encountered in divide\n",
      "  return np.nan_to_num(TPs / (TPs + FPs))\n",
      "/n/fs/ac-editing/model-editing/src/model/metric.py:205: RuntimeWarning: invalid value encountered in divide\n",
      "  return np.nan_to_num(2 * precisions * recalls / (precisions + recalls))\n"
     ]
    },
    {
     "name": "stdout",
     "output_type": "stream",
     "text": [
      "bin_idx > n_bins (105) delta=1.25 new bump_amount: 6.115108419635362\n",
      "[0228_125533]***NEW ITR 93***\n"
     ]
    },
    {
     "name": "stderr",
     "output_type": "stream",
     "text": [
      "100%|██████████████████████████████████████████████████████| 274/274 [00:07<00:00, 34.59it/s]\n",
      "/n/fs/ac-editing/model-editing/src/model/metric.py:168: RuntimeWarning: invalid value encountered in divide\n",
      "  return np.nan_to_num(TPs / (TPs + FPs))\n",
      "/n/fs/ac-editing/model-editing/src/model/metric.py:205: RuntimeWarning: invalid value encountered in divide\n",
      "  return np.nan_to_num(2 * precisions * recalls / (precisions + recalls))\n"
     ]
    },
    {
     "name": "stdout",
     "output_type": "stream",
     "text": [
      "bin_idx > n_bins (75) delta=1.25 new bump_amount: 5.775380174100064\n",
      "[0228_125541]***NEW ITR 94***\n"
     ]
    },
    {
     "name": "stderr",
     "output_type": "stream",
     "text": [
      "100%|██████████████████████████████████████████████████████| 274/274 [00:07<00:00, 37.04it/s]\n"
     ]
    },
    {
     "name": "stdout",
     "output_type": "stream",
     "text": [
      "bin_idx > n_bins (55) delta=1.25 new bump_amount: 5.605516051332415\n",
      "[0228_125548]***NEW ITR 95***\n"
     ]
    },
    {
     "name": "stderr",
     "output_type": "stream",
     "text": [
      "100%|██████████████████████████████████████████████████████| 274/274 [00:07<00:00, 37.14it/s]\n"
     ]
    },
    {
     "name": "stdout",
     "output_type": "stream",
     "text": [
      "assigned bin_idx 45\n",
      "Cur bump_idx: 41 bump amount: 5.605516051332415 target_class_pred: 28096 bin_idx: 45\n",
      "Overshot to bin 45. Decreasing bump amount to 5.520583989948591 aiming for bin 41\n",
      "bumps: [0.48828125, 0.95367431640625, 1.4901161193847656, 1.862645149230957, 2.0954757928848267, 2.3283064365386963, 2.6193447411060333, 2.7830537874251604, 2.9103830456733704, 3.092281986027956, 3.2741809263825417, 3.376499080331996, 3.4788172342814505, 3.637978807091713, 3.6834535421803594, 3.7985614653734956, 3.913669388566632, 3.9748204727629854, 4.035971556959339, 4.092726157978177, 4.220623850414995, 4.286571098077729, 4.402878062137461, 4.471673031858359, 4.484412841065932, 4.604316927725449, 4.678057941021052, 4.7482018317168695, 4.7852971585271575, 4.822392485337446, 4.89208673570829, 4.953237819904643, 5.0306321608406535, 5.044964446199174, 5.115907697472721, 5.195843755245733, 5.23643628458359, 5.275779813018744, 5.341727060681478, 5.383459303343052, 5.435651928564766, -1, 5.503597577671826, -1, 5.572392547392724, 5.605516051332415, -1, -1, 5.675585001974071, -1]\n",
      "[0228_125555]***NEW ITR 96***\n"
     ]
    },
    {
     "name": "stderr",
     "output_type": "stream",
     "text": [
      "100%|██████████████████████████████████████████████████████| 274/274 [00:07<00:00, 35.96it/s]\n"
     ]
    },
    {
     "name": "stdout",
     "output_type": "stream",
     "text": [
      "Overshot to bin 42. Decreasing bump amount to 5.478117959256679 aiming for bin 41\n",
      "bumps: [0.48828125, 0.95367431640625, 1.4901161193847656, 1.862645149230957, 2.0954757928848267, 2.3283064365386963, 2.6193447411060333, 2.7830537874251604, 2.9103830456733704, 3.092281986027956, 3.2741809263825417, 3.376499080331996, 3.4788172342814505, 3.637978807091713, 3.6834535421803594, 3.7985614653734956, 3.913669388566632, 3.9748204727629854, 4.035971556959339, 4.092726157978177, 4.220623850414995, 4.286571098077729, 4.402878062137461, 4.471673031858359, 4.484412841065932, 4.604316927725449, 4.678057941021052, 4.7482018317168695, 4.7852971585271575, 4.822392485337446, 4.89208673570829, 4.953237819904643, 5.0306321608406535, 5.044964446199174, 5.115907697472721, 5.195843755245733, 5.23643628458359, 5.275779813018744, 5.341727060681478, 5.383459303343052, 5.435651928564766, -1, 5.503597577671826, -1, 5.572392547392724, 5.605516051332415, -1, -1, 5.675585001974071, -1]\n",
      "[0228_125603]***NEW ITR 97***\n"
     ]
    },
    {
     "name": "stderr",
     "output_type": "stream",
     "text": [
      "100%|██████████████████████████████████████████████████████| 274/274 [00:08<00:00, 33.80it/s]\n"
     ]
    },
    {
     "name": "stdout",
     "output_type": "stream",
     "text": [
      "assigned bin_idx 41\n",
      "Cur bump_idx: 41 bump amount: 5.478117959256679 target_class_pred: 26379 bin_idx: 41\n",
      "updating cur_bump_idx to 42, bump_amount to 6.847647449070848\n",
      "bumps: [0.48828125, 0.95367431640625, 1.4901161193847656, 1.862645149230957, 2.0954757928848267, 2.3283064365386963, 2.6193447411060333, 2.7830537874251604, 2.9103830456733704, 3.092281986027956, 3.2741809263825417, 3.376499080331996, 3.4788172342814505, 3.637978807091713, 3.6834535421803594, 3.7985614653734956, 3.913669388566632, 3.9748204727629854, 4.035971556959339, 4.092726157978177, 4.220623850414995, 4.286571098077729, 4.402878062137461, 4.471673031858359, 4.484412841065932, 4.604316927725449, 4.678057941021052, 4.7482018317168695, 4.7852971585271575, 4.822392485337446, 4.89208673570829, 4.953237819904643, 5.0306321608406535, 5.044964446199174, 5.115907697472721, 5.195843755245733, 5.23643628458359, 5.275779813018744, 5.341727060681478, 5.383459303343052, 5.435651928564766, 5.478117959256679, 5.503597577671826, -1, 5.572392547392724, 5.605516051332415, -1, -1, 5.675585001974071, -1]\n",
      "[0228_125611]***NEW ITR 98***\n",
      "[0228_125611]***NEW ITR 99***\n"
     ]
    },
    {
     "name": "stderr",
     "output_type": "stream",
     "text": [
      "100%|██████████████████████████████████████████████████████| 274/274 [00:07<00:00, 36.58it/s]\n"
     ]
    },
    {
     "name": "stdout",
     "output_type": "stream",
     "text": [
      "bin_idx < cur_bump_idx (42 and 43) delta=1.25 new bump_amount: 6.8794969720897825\n"
     ]
    },
    {
     "name": "stderr",
     "output_type": "stream",
     "text": [
      "100%|██████████████████████████████████████████████████████| 274/274 [00:07<00:00, 35.20it/s]\n",
      "/n/fs/ac-editing/model-editing/src/model/metric.py:168: RuntimeWarning: invalid value encountered in divide\n",
      "  return np.nan_to_num(TPs / (TPs + FPs))\n",
      "/n/fs/ac-editing/model-editing/src/model/metric.py:205: RuntimeWarning: invalid value encountered in divide\n",
      "  return np.nan_to_num(2 * precisions * recalls / (precisions + recalls))\n"
     ]
    },
    {
     "name": "stdout",
     "output_type": "stream",
     "text": [
      "bin_idx > n_bins (106) delta=1.25 new bump_amount: 6.191547274880804\n",
      "[0228_125626]***NEW ITR 100***\n"
     ]
    },
    {
     "name": "stderr",
     "output_type": "stream",
     "text": [
      "100%|██████████████████████████████████████████████████████| 274/274 [00:07<00:00, 36.69it/s]\n",
      "/n/fs/ac-editing/model-editing/src/model/metric.py:168: RuntimeWarning: invalid value encountered in divide\n",
      "  return np.nan_to_num(TPs / (TPs + FPs))\n",
      "/n/fs/ac-editing/model-editing/src/model/metric.py:205: RuntimeWarning: invalid value encountered in divide\n",
      "  return np.nan_to_num(2 * precisions * recalls / (precisions + recalls))\n"
     ]
    },
    {
     "name": "stdout",
     "output_type": "stream",
     "text": [
      "bin_idx > n_bins (80) delta=1.25 new bump_amount: 5.847572426276315\n",
      "[0228_125634]***NEW ITR 101***\n"
     ]
    },
    {
     "name": "stderr",
     "output_type": "stream",
     "text": [
      "100%|██████████████████████████████████████████████████████| 274/274 [00:07<00:00, 34.39it/s]\n"
     ]
    },
    {
     "name": "stdout",
     "output_type": "stream",
     "text": [
      "bin_idx > n_bins (59) delta=1.25 new bump_amount: 5.675585001974071\n",
      "[0228_125642]***NEW ITR 102***\n"
     ]
    },
    {
     "name": "stderr",
     "output_type": "stream",
     "text": [
      "100%|██████████████████████████████████████████████████████| 274/274 [00:07<00:00, 37.31it/s]\n"
     ]
    },
    {
     "name": "stdout",
     "output_type": "stream",
     "text": [
      "Overshot to bin 48. Decreasing bump amount to 5.589591289822948 aiming for bin 43\n",
      "bumps: [0.48828125, 0.95367431640625, 1.4901161193847656, 1.862645149230957, 2.0954757928848267, 2.3283064365386963, 2.6193447411060333, 2.7830537874251604, 2.9103830456733704, 3.092281986027956, 3.2741809263825417, 3.376499080331996, 3.4788172342814505, 3.637978807091713, 3.6834535421803594, 3.7985614653734956, 3.913669388566632, 3.9748204727629854, 4.035971556959339, 4.092726157978177, 4.220623850414995, 4.286571098077729, 4.402878062137461, 4.471673031858359, 4.484412841065932, 4.604316927725449, 4.678057941021052, 4.7482018317168695, 4.7852971585271575, 4.822392485337446, 4.89208673570829, 4.953237819904643, 5.0306321608406535, 5.044964446199174, 5.115907697472721, 5.195843755245733, 5.23643628458359, 5.275779813018744, 5.341727060681478, 5.383459303343052, 5.435651928564766, 5.478117959256679, 5.503597577671826, -1, 5.572392547392724, 5.605516051332415, -1, -1, 5.675585001974071, -1]\n",
      "[0228_125649]***NEW ITR 103***\n"
     ]
    },
    {
     "name": "stderr",
     "output_type": "stream",
     "text": [
      "100%|██████████████████████████████████████████████████████| 274/274 [00:07<00:00, 37.00it/s]\n"
     ]
    },
    {
     "name": "stdout",
     "output_type": "stream",
     "text": [
      "Overshot to bin 44. Decreasing bump amount to 5.546594433747387 aiming for bin 43\n",
      "bumps: [0.48828125, 0.95367431640625, 1.4901161193847656, 1.862645149230957, 2.0954757928848267, 2.3283064365386963, 2.6193447411060333, 2.7830537874251604, 2.9103830456733704, 3.092281986027956, 3.2741809263825417, 3.376499080331996, 3.4788172342814505, 3.637978807091713, 3.6834535421803594, 3.7985614653734956, 3.913669388566632, 3.9748204727629854, 4.035971556959339, 4.092726157978177, 4.220623850414995, 4.286571098077729, 4.402878062137461, 4.471673031858359, 4.484412841065932, 4.604316927725449, 4.678057941021052, 4.7482018317168695, 4.7852971585271575, 4.822392485337446, 4.89208673570829, 4.953237819904643, 5.0306321608406535, 5.044964446199174, 5.115907697472721, 5.195843755245733, 5.23643628458359, 5.275779813018744, 5.341727060681478, 5.383459303343052, 5.435651928564766, 5.478117959256679, 5.503597577671826, -1, 5.572392547392724, 5.605516051332415, -1, -1, 5.675585001974071, -1]\n",
      "[0228_125657]***NEW ITR 104***\n"
     ]
    },
    {
     "name": "stderr",
     "output_type": "stream",
     "text": [
      "100%|██████████████████████████████████████████████████████| 274/274 [00:07<00:00, 35.96it/s]\n"
     ]
    },
    {
     "name": "stdout",
     "output_type": "stream",
     "text": [
      "assigned bin_idx 43\n",
      "Cur bump_idx: 43 bump amount: 5.546594433747387 target_class_pred: 27189 bin_idx: 43\n",
      "updating cur_bump_idx to 44, bump_amount to 6.933243042184234\n",
      "bumps: [0.48828125, 0.95367431640625, 1.4901161193847656, 1.862645149230957, 2.0954757928848267, 2.3283064365386963, 2.6193447411060333, 2.7830537874251604, 2.9103830456733704, 3.092281986027956, 3.2741809263825417, 3.376499080331996, 3.4788172342814505, 3.637978807091713, 3.6834535421803594, 3.7985614653734956, 3.913669388566632, 3.9748204727629854, 4.035971556959339, 4.092726157978177, 4.220623850414995, 4.286571098077729, 4.402878062137461, 4.471673031858359, 4.484412841065932, 4.604316927725449, 4.678057941021052, 4.7482018317168695, 4.7852971585271575, 4.822392485337446, 4.89208673570829, 4.953237819904643, 5.0306321608406535, 5.044964446199174, 5.115907697472721, 5.195843755245733, 5.23643628458359, 5.275779813018744, 5.341727060681478, 5.383459303343052, 5.435651928564766, 5.478117959256679, 5.503597577671826, 5.546594433747387, 5.572392547392724, 5.605516051332415, -1, -1, 5.675585001974071, -1]\n",
      "[0228_125704]***NEW ITR 105***\n",
      "[0228_125704]***NEW ITR 106***\n",
      "[0228_125704]***NEW ITR 107***\n"
     ]
    },
    {
     "name": "stderr",
     "output_type": "stream",
     "text": [
      "100%|██████████████████████████████████████████████████████| 274/274 [00:08<00:00, 33.59it/s]\n"
     ]
    },
    {
     "name": "stdout",
     "output_type": "stream",
     "text": [
      "bin_idx < cur_bump_idx (45 and 46) delta=1.25 new bump_amount: 7.006895064165519\n"
     ]
    },
    {
     "name": "stderr",
     "output_type": "stream",
     "text": [
      "100%|██████████████████████████████████████████████████████| 274/274 [00:07<00:00, 36.63it/s]\n",
      "/n/fs/ac-editing/model-editing/src/model/metric.py:168: RuntimeWarning: invalid value encountered in divide\n",
      "  return np.nan_to_num(TPs / (TPs + FPs))\n",
      "/n/fs/ac-editing/model-editing/src/model/metric.py:205: RuntimeWarning: invalid value encountered in divide\n",
      "  return np.nan_to_num(2 * precisions * recalls / (precisions + recalls))\n"
     ]
    },
    {
     "name": "stdout",
     "output_type": "stream",
     "text": [
      "bin_idx > n_bins (106) delta=1.25 new bump_amount: 6.306205557748967\n",
      "[0228_125720]***NEW ITR 108***\n"
     ]
    },
    {
     "name": "stderr",
     "output_type": "stream",
     "text": [
      "100%|██████████████████████████████████████████████████████| 274/274 [00:07<00:00, 35.24it/s]\n",
      "/n/fs/ac-editing/model-editing/src/model/metric.py:168: RuntimeWarning: invalid value encountered in divide\n",
      "  return np.nan_to_num(TPs / (TPs + FPs))\n",
      "/n/fs/ac-editing/model-editing/src/model/metric.py:205: RuntimeWarning: invalid value encountered in divide\n",
      "  return np.nan_to_num(2 * precisions * recalls / (precisions + recalls))\n"
     ]
    },
    {
     "name": "stdout",
     "output_type": "stream",
     "text": [
      "bin_idx > n_bins (87) delta=1.25 new bump_amount: 5.955860804540691\n",
      "[0228_125728]***NEW ITR 109***\n"
     ]
    },
    {
     "name": "stderr",
     "output_type": "stream",
     "text": [
      "100%|██████████████████████████████████████████████████████| 274/274 [00:07<00:00, 36.73it/s]\n"
     ]
    },
    {
     "name": "stdout",
     "output_type": "stream",
     "text": [
      "bin_idx > n_bins (66) delta=1.25 new bump_amount: 5.780688427936553\n",
      "[0228_125735]***NEW ITR 110***\n"
     ]
    },
    {
     "name": "stderr",
     "output_type": "stream",
     "text": [
      "100%|██████████████████████████████████████████████████████| 274/274 [00:07<00:00, 34.37it/s]\n"
     ]
    },
    {
     "name": "stdout",
     "output_type": "stream",
     "text": [
      "bin_idx > n_bins (55) delta=1.25 new bump_amount: 5.693102239634484\n",
      "[0228_125743]***NEW ITR 111***\n"
     ]
    },
    {
     "name": "stderr",
     "output_type": "stream",
     "text": [
      "100%|██████████████████████████████████████████████████████| 274/274 [00:07<00:00, 36.97it/s]\n"
     ]
    },
    {
     "name": "stdout",
     "output_type": "stream",
     "text": [
      "assigned bin_idx 49\n",
      "Cur bump_idx: 46 bump amount: 5.693102239634484 target_class_pred: 30259 bin_idx: 49\n",
      "Overshot to bin 49. Decreasing bump amount to 5.64930914548345 aiming for bin 46\n",
      "bumps: [0.48828125, 0.95367431640625, 1.4901161193847656, 1.862645149230957, 2.0954757928848267, 2.3283064365386963, 2.6193447411060333, 2.7830537874251604, 2.9103830456733704, 3.092281986027956, 3.2741809263825417, 3.376499080331996, 3.4788172342814505, 3.637978807091713, 3.6834535421803594, 3.7985614653734956, 3.913669388566632, 3.9748204727629854, 4.035971556959339, 4.092726157978177, 4.220623850414995, 4.286571098077729, 4.402878062137461, 4.471673031858359, 4.484412841065932, 4.604316927725449, 4.678057941021052, 4.7482018317168695, 4.7852971585271575, 4.822392485337446, 4.89208673570829, 4.953237819904643, 5.0306321608406535, 5.044964446199174, 5.115907697472721, 5.195843755245733, 5.23643628458359, 5.275779813018744, 5.341727060681478, 5.383459303343052, 5.435651928564766, 5.478117959256679, 5.503597577671826, 5.546594433747387, 5.572392547392724, 5.605516051332415, -1, -1, 5.675585001974071, 5.693102239634484]\n",
      "[0228_125751]***NEW ITR 112***\n"
     ]
    },
    {
     "name": "stderr",
     "output_type": "stream",
     "text": [
      "100%|██████████████████████████████████████████████████████| 274/274 [00:07<00:00, 37.07it/s]\n"
     ]
    },
    {
     "name": "stdout",
     "output_type": "stream",
     "text": [
      "assigned bin_idx 47\n",
      "Cur bump_idx: 46 bump amount: 5.64930914548345 target_class_pred: 29062 bin_idx: 47\n",
      "Overshot to bin 47. Decreasing bump amount to 5.627412598407933 aiming for bin 46\n",
      "bumps: [0.48828125, 0.95367431640625, 1.4901161193847656, 1.862645149230957, 2.0954757928848267, 2.3283064365386963, 2.6193447411060333, 2.7830537874251604, 2.9103830456733704, 3.092281986027956, 3.2741809263825417, 3.376499080331996, 3.4788172342814505, 3.637978807091713, 3.6834535421803594, 3.7985614653734956, 3.913669388566632, 3.9748204727629854, 4.035971556959339, 4.092726157978177, 4.220623850414995, 4.286571098077729, 4.402878062137461, 4.471673031858359, 4.484412841065932, 4.604316927725449, 4.678057941021052, 4.7482018317168695, 4.7852971585271575, 4.822392485337446, 4.89208673570829, 4.953237819904643, 5.0306321608406535, 5.044964446199174, 5.115907697472721, 5.195843755245733, 5.23643628458359, 5.275779813018744, 5.341727060681478, 5.383459303343052, 5.435651928564766, 5.478117959256679, 5.503597577671826, 5.546594433747387, 5.572392547392724, 5.605516051332415, -1, 5.64930914548345, 5.675585001974071, 5.693102239634484]\n",
      "[0228_125758]***NEW ITR 113***\n"
     ]
    },
    {
     "name": "stderr",
     "output_type": "stream",
     "text": [
      "100%|██████████████████████████████████████████████████████| 274/274 [00:07<00:00, 35.99it/s]"
     ]
    },
    {
     "name": "stdout",
     "output_type": "stream",
     "text": [
      "assigned bin_idx 46\n",
      "Cur bump_idx: 46 bump amount: 5.627412598407933 target_class_pred: 28585 bin_idx: 46\n",
      "updating cur_bump_idx to 47, bump_amount to 7.034265748009916\n",
      "bumps: [0.48828125, 0.95367431640625, 1.4901161193847656, 1.862645149230957, 2.0954757928848267, 2.3283064365386963, 2.6193447411060333, 2.7830537874251604, 2.9103830456733704, 3.092281986027956, 3.2741809263825417, 3.376499080331996, 3.4788172342814505, 3.637978807091713, 3.6834535421803594, 3.7985614653734956, 3.913669388566632, 3.9748204727629854, 4.035971556959339, 4.092726157978177, 4.220623850414995, 4.286571098077729, 4.402878062137461, 4.471673031858359, 4.484412841065932, 4.604316927725449, 4.678057941021052, 4.7482018317168695, 4.7852971585271575, 4.822392485337446, 4.89208673570829, 4.953237819904643, 5.0306321608406535, 5.044964446199174, 5.115907697472721, 5.195843755245733, 5.23643628458359, 5.275779813018744, 5.341727060681478, 5.383459303343052, 5.435651928564766, 5.478117959256679, 5.503597577671826, 5.546594433747387, 5.572392547392724, 5.605516051332415, 5.627412598407933, 5.64930914548345, 5.675585001974071, 5.693102239634484]\n",
      "[0228_125806]***NEW ITR 114***\n",
      "[0228_125806]***NEW ITR 115***\n",
      "[0228_125806]***NEW ITR 116***\n",
      "Saved data to saved/edit_eac/experiments/bump_edits/CINIC10_ImageNet-VGG_16/0208_112555/truck_100/bumps_preds_metrics.pth\n"
     ]
    },
    {
     "name": "stderr",
     "output_type": "stream",
     "text": [
      "\n"
     ]
    }
   ],
   "source": [
    "for target_class_idx, target_class_name in enumerate(class_list):\n",
    "    if target_class_name == 'airplane' or target_class_name == 'automobile' or target_class_name == 'bird':\n",
    "        continue\n",
    "    \n",
    "    if target_class_idx <= 3:\n",
    "        continue\n",
    "    root_dir = os.path.join('saved', 'edit_eac', 'trials', 'CINIC10_ImageNet-VGG_16', '{}' + '_{}'.format(n_select), timestamp)\n",
    "    csv_path_template = os.path.join(root_dir, 'results_table.csv')\n",
    "    bumps_preds_save_path = os.path.join(config_dict['trainer']['save_dir'], 'bumps_preds_metrics', '{}_{}_bumps_preds_metrics.pth'.format(target_class_name, n_select))\n",
    "    target_class_distribution_path = os.path.join(root_dir, 'target_class_distribution.pth').format(\n",
    "        target_class_name)\n",
    "    target_class_distribution = torch.load(target_class_distribution_path)\n",
    "    bin_lows = target_class_distribution['histogram_bins']\n",
    "\n",
    "    bump_save_dir = os.path.join(os.path.dirname(os.path.dirname(config.save_dir)), save_timestamp, '{}_{}'.format(target_class_name, n_select))\n",
    "    ensure_dir(bump_save_dir)\n",
    "    # Save a copy of histogram info to save_dir\n",
    "    torch.save(target_class_distribution, os.path.join(bump_save_dir, 'target_class_distribution.pth'))\n",
    "    # Run bump experiments\n",
    "    print(\"Obtaining class distribution for {} from {}\".format(target_class_name, target_class_distribution_path))\n",
    "    print(\"Saving results to {}\".format(bump_save_dir))\n",
    "    bumps_preds_metrics = match_bump_edits(\n",
    "        data_loader=val_paths_data_loader,\n",
    "        model=model,\n",
    "        loss_fn=loss_fn,\n",
    "        metric_fns=metric_fns,\n",
    "        device=device,\n",
    "        bin_lows=bin_lows,\n",
    "        target_class_idx=target_class_idx,\n",
    "        save_dir=bump_save_dir)\n",
    "\n",
    "    torch.save(bumps_preds_metrics, bumps_preds_save_path)"
   ]
  },
  {
   "cell_type": "markdown",
   "metadata": {
    "tags": []
   },
   "source": [
    "#### Sanity check that resulting histogram matches original from real edits"
   ]
  },
  {
   "cell_type": "code",
   "execution_count": null,
   "metadata": {},
   "outputs": [],
   "source": [
    "bump_save_dir = os.path.join(os.path.dirname(os.path.dirname(config.save_dir)), save_timestamp, '{}_{}'.format(target_class_name, n_select))\n",
    "metrics_save_path = os.path.join(bump_save_dir, 'bumps_preds_metrics.pth')\n",
    "\n",
    "bumped_target_class_dist = torch.load(metrics_save_path)\n",
    "\n",
    "bumped_hist_data = []\n",
    "\n",
    "\n",
    "target_class_dist_dict = torch.load(target_class_distribution_path)\n",
    "\n",
    "for n_target_predictions, bucket_value in zip(\n",
    "    bumped_target_class_dist['target_class_predictions'], \n",
    "    target_class_distribution['histogram_bin_values']):\n",
    "    cur_data = [n_target_predictions for i in range(int(bucket_value))]\n",
    "    bumped_hist_data += cur_data\n",
    "    \n",
    "bins = target_class_distribution['histogram_bins']\n",
    "bin_values = target_class_distribution['histogram_bin_values']\n",
    "\n",
    "histogram_save_path = os.path.join(\n",
    "    bump_save_dir, \n",
    "    'graphs',\n",
    "    'summary',\n",
    "    'bumped_target_class_distribution.png')\n",
    "bump_bin_values, bump_bins, _= histogram(\n",
    "        data=bumped_hist_data,\n",
    "        n_bins=bins, #50,\n",
    "        title='Bumped Post Edit {} Class Distribution to Match {} Edits'.format(target_class_name, target_class_name),\n",
    "        xlabel='Num. {} Predictions Post Bump'.format(target_class_name),\n",
    "        ylabel='Num. Edits',\n",
    "        save_path=histogram_save_path,\n",
    "        show=True)\n",
    "\n",
    "assert (bin_values == bump_bin_values).all()"
   ]
  },
  {
   "cell_type": "markdown",
   "metadata": {},
   "source": [
    "### Copy results such that we can call src/utils/results_to_csv.py to get csv of results"
   ]
  },
  {
   "cell_type": "code",
   "execution_count": null,
   "metadata": {},
   "outputs": [],
   "source": [
    "def replicate_bump_results(bumps_preds_metrics,\n",
    "                           target_class_distribution,\n",
    "                           results_save_dir,\n",
    "                           trial_paths_path):\n",
    "    '''\n",
    "    Given how much to bump logit by to match target class distribution, create results for each tiral\n",
    "    \n",
    "    Arg(s):\n",
    "        bumps_preds_metrics : dict\n",
    "            result of match_bump_edits()\n",
    "        target_class_distribution : dict\n",
    "            histogram data, result from save_class_distribution()\n",
    "        results_save_dir : str\n",
    "            location of results folder\n",
    "        trial_paths_path : str\n",
    "            path to file to store paths to each trial\n",
    "            \n",
    "    '''\n",
    "    pre_edit_metrics = bumps_preds_metrics['pre_edit_metrics']\n",
    "    \n",
    "    metrics = bumps_preds_metrics['metrics']\n",
    "    bin_values = target_class_distribution['histogram_bin_values']\n",
    "    bins = target_class_distribution['histogram_bins']\n",
    "    bin_lows = bins[:-1]\n",
    "    bin_highs = bins[1:]\n",
    "\n",
    "    trial_paths = []\n",
    "    for bin_idx, bin_value in enumerate(tqdm(bin_values)):\n",
    "        n_repeat = int(bin_value)\n",
    "        if n_repeat == 0:\n",
    "            continue\n",
    "            \n",
    "        # Obtain post edit metrics\n",
    "        post_edit_metrics = metrics[bin_idx]\n",
    "        \n",
    "        for itr in range(n_repeat):\n",
    "            # Create directory for this trial\n",
    "            trial_id = 'bin_{}_{}_itr_{}'.format(bin_lows[bin_idx], bin_highs[bin_idx], itr)\n",
    "            trial_dir = os.path.join(results_save_dir, trial_id)\n",
    "            \n",
    "            # Log path to trial_paths.txt\n",
    "            trial_paths.append(trial_dir)\n",
    "            \n",
    "            trial_save_dir = os.path.join(trial_dir, 'models')\n",
    "            ensure_dir(trial_save_dir)\n",
    "            # Save pre edit metrics\n",
    "            torch.save(pre_edit_metrics, os.path.join(trial_save_dir, 'pre_edit_metrics.pth'))\n",
    "            # Save post edit metrics\n",
    "            torch.save(post_edit_metrics, os.path.join(trial_save_dir, 'post_edit_metrics.pth'))\n",
    "        \n",
    "    return trial_paths\n",
    "\n",
    "def replicate_bump_noise_results(bumps_preds_metrics,\n",
    "                                 target_class_distribution,\n",
    "                                 results_save_dir,\n",
    "                                 trial_paths_path,\n",
    "                                 progress_report_path,\n",
    "                                 # noise_edit=False,\n",
    "                                 target_class_idx,\n",
    "                                 config,\n",
    "                                 data_loader,\n",
    "                                 loss_fn,\n",
    "                                 metrics_fns,\n",
    "                                 editor,\n",
    "                                 device):\n",
    "    '''\n",
    "    Given how much to bump logit by to match target class distribution, create results for each tiral\n",
    "    \n",
    "    Arg(s):\n",
    "        bumps_preds_metrics : dict\n",
    "            result of match_bump_edits()\n",
    "        target_class_distribution : dict\n",
    "            histogram data, result from save_class_distribution()\n",
    "        results_save_dir : str\n",
    "            location of results folder\n",
    "        trial_paths_path : str\n",
    "            path to file to store paths to each trial\n",
    "        progress_report_path : str\n",
    "            path to log progress\n",
    "        target_class_idx : int\n",
    "            index of target class\n",
    "        config : return from ConfigParser\n",
    "            config object to instantiate model from\n",
    "        data_loader : torch.utils.data.DataLoader\n",
    "            validation data loader to obtain metrics for\n",
    "        loss_fn : module\n",
    "            loss function\n",
    "        metric_fns : list[model.metric modules]\n",
    "            list of metric functions\n",
    "        editor : Editor (from trainer/editor.py) or None\n",
    "            pass in an editor if performing random edits\n",
    "        device : torch.device\n",
    "            GPU device to run model on\n",
    "    '''\n",
    "    pre_edit_metrics = bumps_preds_metrics['pre_edit_metrics']\n",
    "    \n",
    "    bump_amounts = bumps_preds_metrics['bump_amounts']\n",
    "    metrics = bumps_preds_metrics['metrics']\n",
    "    bin_values = target_class_distribution['histogram_bin_values']\n",
    "    bins = target_class_distribution['histogram_bins']\n",
    "    bin_lows = bins[:-1]\n",
    "    bin_highs = bins[1:]\n",
    "\n",
    "    trial_paths = []\n",
    "    \n",
    "    layernum = config.config['layernum']\n",
    "    # if noise_edit:\n",
    "    #     assert target_class_idx is not None\n",
    "    #     assert config is not None\n",
    "    #     assert data_loader is not None\n",
    "    #     assert loss_fn is not None\n",
    "    #     assert metrics_fns is not None\n",
    "    #     assert editor is not None\n",
    "    #     assert device is not None\n",
    "        \n",
    "    for bin_idx, bin_value in enumerate(bin_values):\n",
    "        n_repeat = int(bin_value)\n",
    "        if n_repeat == 0:\n",
    "            continue\n",
    "            \n",
    "        informal_log(\"Bin {} [{}, {})\".format(bin_idx, bin_lows[bin_idx], bin_highs[bin_idx]), progress_report_path)\n",
    "        for itr in range(n_repeat):\n",
    "            informal_log(\"\\tItr {}/{}\".format(itr+1, n_repeat), progress_report_path)\n",
    "            # Create directory for this trial\n",
    "            trial_id = 'bin_{}_{}_itr_{}'.format(bin_lows[bin_idx], bin_highs[bin_idx], itr)\n",
    "            trial_dir = os.path.join(results_save_dir, trial_id)\n",
    "\n",
    "            # Log path to trial_paths.txt\n",
    "            trial_paths.append(trial_dir)\n",
    "            informal_log(trial_dir, trial_paths_path)\n",
    "            # Create save directories, save pre_edit_metrics\n",
    "            trial_save_dir = os.path.join(trial_dir, 'models')\n",
    "            pre_edit_metrics_save_path = os.path.join(trial_save_dir, 'pre_edit_metrics.pth')\n",
    "            post_edit_metrics_save_path = os.path.join(trial_save_dir, 'post_edit_metrics.pth')\n",
    "            ensure_dir(trial_save_dir)\n",
    "            # Save pre edit metrics\n",
    "            torch.save(pre_edit_metrics, pre_edit_metrics_save_path)\n",
    "            if not noise_edit:\n",
    "                # Save calculated post edit metrics\n",
    "                # Obtain and save post edit metrics\n",
    "                post_edit_metrics = metrics[bin_idx]\n",
    "                torch.save(post_edit_metrics, post_edit_metrics_save_path)\n",
    "                \n",
    "            else:\n",
    "                # Load in fresh model\n",
    "                \n",
    "                model = config.init_obj('arch', module_arch, layernum=layernum, device=device)\n",
    "                model.eval()\n",
    "                \n",
    "                # edit model with noise\n",
    "                editor.noise_edit(model=model)\n",
    "                \n",
    "                # obtain bump amount\n",
    "                bump_amount = bump_amounts[bin_idx]\n",
    "                log = predict_with_bump(\n",
    "                    data_loader=data_loader,\n",
    "                    model=model,\n",
    "                    loss_fn=loss_fn,\n",
    "                    metric_fns=metric_fns,\n",
    "                    device=device,\n",
    "                    target_class_idx=target_class_idx,\n",
    "                    bump_amount=bump_amount,\n",
    "                    save_path=post_edit_metrics_save_path)\n",
    "            \n",
    "                \n",
    "                \n",
    "    return trial_paths"
   ]
  },
  {
   "cell_type": "code",
   "execution_count": null,
   "metadata": {
    "scrolled": true,
    "tags": []
   },
   "outputs": [],
   "source": [
    "bump_save_dir = os.path.join(os.path.dirname(os.path.dirname(config.save_dir)), save_timestamp, '{}_{}'.format(target_class_name, n_select))\n",
    "ensure_dir(bump_save_dir)\n",
    "\n",
    "bump_preds_metrics_path = os.path.join(bump_save_dir, 'bumps_preds_metrics.pth')\n",
    "target_class_distribution_path = os.path.join(bump_save_dir, 'target_class_distribution.pth')\n",
    "\n",
    "# Load objects\n",
    "bumps_preds_metrics = torch.load(bump_preds_metrics_path)\n",
    "target_class_distribution = torch.load(target_class_distribution_path)\n",
    "\n",
    "# Determine whether to use noise_edits or not\n",
    "noise_edit = config.config['editor']['noise_edit']\n",
    "if noise_edit: \n",
    "    results_save_dir = os.path.join(bump_save_dir, 'bump_noise', 'results')\n",
    "    ensure_dir(results_save_dir)\n",
    "    progress_report_path = os.path.join(bump_save_dir, 'bump_noise', 'progress_report.txt')\n",
    "    trial_paths_path = os.path.join(bump_save_dir, 'bump_noise', 'trial_paths.txt')\n",
    "else:\n",
    "    results_save_dir = os.path.join(bump_save_dir, 'results')\n",
    "    ensure_dir(results_save_dir)\n",
    "    progress_report_path = os.path.join(bump_save_dir, 'progress_report.txt')\n",
    "    trial_paths_path = os.path.join(bump_save_dir, 'trial_paths.txt')\n",
    "\n",
    "print(\"Performing bump{} edits for {} class\".format(\"-noise\" if noise_edit else \"\", target_class_name))\n",
    "print(\"Trial paths stored at {}\".format(trial_paths_path))\n",
    "print(\"Results will be saved to {}\".format(results_save_dir))\n",
    "# Remove file at trial_paths_path if it exists\n",
    "if os.path.isfile(trial_paths_path):\n",
    "    os.remove(trial_paths_path)\n",
    "\n",
    "print(noise_edit)\n",
    "if not noise_edit:\n",
    "    trial_paths = replicate_bump_results(\n",
    "        bumps_preds_metrics=bumps_preds_metrics,\n",
    "        target_class_distribution=target_class_distribution,\n",
    "        results_save_dir=results_save_dir,\n",
    "        trial_paths_path=trial_paths_path)\n",
    "else:\n",
    "    # Create editor\n",
    "    editor_args = config.config['editor']['args']\n",
    "    editor_args['arch'] = config.config['arch']['args']['type']\n",
    "    editor = Editor(**editor_args)\n",
    "    # Recreate trial results with bump and noise\n",
    "    trial_paths = replicate_bump_noise_results(\n",
    "        bumps_preds_metrics=bumps_preds_metrics,\n",
    "        target_class_distribution=target_class_distribution,\n",
    "        results_save_dir=results_save_dir,\n",
    "        trial_paths_path=trial_paths_path,\n",
    "        progress_report_path=progress_report_path,\n",
    "        # Parameters for adding noise\n",
    "        # noise_edit=noise_edit,\n",
    "        target_class_idx=target_class_idx,\n",
    "        config=config,\n",
    "        data_loader=val_paths_data_loader,\n",
    "        loss_fn=loss_fn,\n",
    "        metrics_fns=metric_fns,\n",
    "        editor=editor,\n",
    "        device=device)\n",
    "\n",
    "        \n",
    "    \n",
    "print(trial_paths)\n",
    "write_lists(trial_paths_path, trial_paths)\n",
    "print(\"Wrote list of trial_paths to {}\".format(trial_paths_path))"
   ]
  },
  {
   "cell_type": "code",
   "execution_count": null,
   "metadata": {},
   "outputs": [],
   "source": [
    "# Save class distribution as histogram\n",
    "save_class_distribution(\n",
    "    csv_path='saved/edit/experiments/bump_edits/CINIC10_ImageNet-VGG_16/0208_112555/automobile_100/bump_noise/results_table.csv', \n",
    "    target_class_idx=target_class_idx,\n",
    "    target_class_name=target_class_name)"
   ]
  },
  {
   "cell_type": "code",
   "execution_count": null,
   "metadata": {},
   "outputs": [],
   "source": []
  }
 ],
 "metadata": {
  "kernelspec": {
   "display_name": "editing",
   "language": "python",
   "name": "editing"
  },
  "language_info": {
   "codemirror_mode": {
    "name": "ipython",
    "version": 3
   },
   "file_extension": ".py",
   "mimetype": "text/x-python",
   "name": "python",
   "nbconvert_exporter": "python",
   "pygments_lexer": "ipython3",
   "version": "3.8.13"
  }
 },
 "nbformat": 4,
 "nbformat_minor": 4
}
